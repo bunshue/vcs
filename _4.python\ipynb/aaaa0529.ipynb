{
  "nbformat": 4,
  "nbformat_minor": 0,
  "metadata": {
    "colab": {
      "provenance": [],
      "authorship_tag": "ABX9TyOoO3WEaRsYeS4oypB1JCZu",
      "include_colab_link": true
    },
    "kernelspec": {
      "name": "python3",
      "display_name": "Python 3"
    },
    "language_info": {
      "name": "python"
    }
  },
  "cells": [
    {
      "cell_type": "markdown",
      "metadata": {
        "id": "view-in-github",
        "colab_type": "text"
      },
      "source": [
        "<a href=\"https://colab.research.google.com/github/bunshue/vcs/blob/master/_4.python%5Cipynb/aaaa0529.ipynb\" target=\"_parent\"><img src=\"https://colab.research.google.com/assets/colab-badge.svg\" alt=\"Open In Colab\"/></a>"
      ]
    },
    {
      "cell_type": "code",
      "execution_count": null,
      "metadata": {
        "id": "TJCXlTevgrWV"
      },
      "outputs": [],
      "source": [
        "\"\"\"\n",
        "dddd\n",
        "d\n",
        "\n",
        "d\n",
        "d\n",
        "d\n",
        "d\n",
        "d\n",
        "\"\"\"\n"
      ]
    }
  ]
}