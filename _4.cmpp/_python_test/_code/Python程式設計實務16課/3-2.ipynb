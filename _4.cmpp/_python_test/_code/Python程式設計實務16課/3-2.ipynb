{
 "cells": [
  {
   "cell_type": "code",
   "execution_count": 1,
   "metadata": {
    "collapsed": false
   },
   "outputs": [
    {
     "name": "stdout",
     "output_type": "stream",
     "text": [
      "('List a', [0, 1, 2, 3, 4])\n",
      "('List b', [10, 11, 12, 13, 14])\n",
      "('List a + List b', [0, 1, 2, 3, 4, 10, 11, 12, 13, 14])\n"
     ]
    }
   ],
   "source": [
    "a = range(5)\n",
    "b = range(10,15)\n",
    "c = a + b\n",
    "print(\"List a\", a)\n",
    "print(\"List b\", b)\n",
    "print(\"List a + List b\", c)"
   ]
  }
 ],
 "metadata": {
  "kernelspec": {
   "display_name": "Python 2",
   "language": "python",
   "name": "python2"
  },
  "language_info": {
   "codemirror_mode": {
    "name": "ipython",
    "version": 2
   },
   "file_extension": ".py",
   "mimetype": "text/x-python",
   "name": "python",
   "nbconvert_exporter": "python",
   "pygments_lexer": "ipython2",
   "version": "2.7.10"
  }
 },
 "nbformat": 4,
 "nbformat_minor": 0
}
