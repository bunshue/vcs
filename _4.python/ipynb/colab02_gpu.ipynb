{
  "nbformat": 4,
  "nbformat_minor": 0,
  "metadata": {
    "colab": {
      "provenance": [],
      "authorship_tag": "ABX9TyPX9ABa9zoCjR3+83mWggvk",
      "include_colab_link": true
    },
    "kernelspec": {
      "name": "python3",
      "display_name": "Python 3"
    },
    "language_info": {
      "name": "python"
    }
  },
  "cells": [
    {
      "cell_type": "markdown",
      "metadata": {
        "id": "view-in-github",
        "colab_type": "text"
      },
      "source": [
        "<a href=\"https://colab.research.google.com/github/bunshue/vcs/blob/master/_4.python/ipynb/colab02_gpu.ipynb\" target=\"_parent\"><img src=\"https://colab.research.google.com/assets/colab-badge.svg\" alt=\"Open In Colab\"/></a>"
      ]
    },
    {
      "cell_type": "markdown",
      "source": [
        "一般Google Colab之使用"
      ],
      "metadata": {
        "id": "Lqx59v4GG3Cb"
      }
    },
    {
      "cell_type": "code",
      "source": [
        "import os\n",
        "from google.colab import drive\n",
        "drive.mount(\"/content/drive\")\n",
        "# drive.mount(\"/content/drive\", force_remount=True)\n",
        "\n",
        "# 此時在目錄/content/drive下\n",
        "filenames = os.listdir()  # 轉出一層, 指定目錄, 若無參數, 就是當前目錄\n",
        "print(\"1轉出一層(資料夾+檔案)\\n\", filenames)\n",
        "print(\"當前目錄下共有 :\", len(filenames), \"個項目(資料夾+檔案)\")\n",
        "\n",
        "# 至我的雲端硬碟根目錄MyDrive\n",
        "os.chdir(\"/content/drive/MyDrive\")\n",
        "filenames = os.listdir()  # 轉出一層, 指定目錄, 若無參數, 就是當前目錄\n",
        "print(\"2轉出一層(資料夾+檔案)\\n\", filenames)\n",
        "print(\"當前目錄下共有 :\", len(filenames), \"個項目(資料夾+檔案)\")\n",
        "\n",
        "os.chdir(\"/content/drive/MyDrive/Colab Notebooks\")\n",
        "filenames = os.listdir()  # 轉出一層, 指定目錄, 若無參數, 就是當前目錄\n",
        "print(\"3轉出一層(資料夾+檔案)\\n\", filenames)\n",
        "print(\"當前目錄下共有 :\", len(filenames), \"個項目(資料夾+檔案)\")\n",
        "\n",
        "os.chdir(\"/content/drive/MyDrive/CSV\")\n",
        "filenames = os.listdir()  # 轉出一層, 指定目錄, 若無參數, 就是當前目錄\n",
        "print(\"4轉出一層(資料夾+檔案)\\n\", filenames)\n",
        "print(\"當前目錄下共有 :\", len(filenames), \"個項目(資料夾+檔案)\")\n",
        "\n",
        "\n",
        "\"\"\"\n",
        "# 選取檔案的寫法\n",
        "from google.colab import files\n",
        "uploaded = files.upload()\n",
        "print(uploaded)\n",
        "\"\"\"\n",
        "\n",
        "print('aaa')\n",
        "cc = os.listdir(\"/content/drive/My Drive/Colab Notebooks\")\n",
        "print(cc)\n",
        "\n",
        "print('bbb')\n",
        "import pandas as pd\n",
        "\n",
        "df = pd.read_csv(\"/content/drive/MyDrive/CSV/iris_sample.csv\")\n",
        "cc = df.head()\n",
        "print(cc)\n",
        "\n",
        "print('ccc')\n",
        "\n"
      ],
      "metadata": {
        "colab": {
          "base_uri": "https://localhost:8080/"
        },
        "id": "nAQ4ghl8eEPF",
        "outputId": "6013f531-de05-49d7-83a6-183322797c95"
      },
      "execution_count": null,
      "outputs": [
        {
          "output_type": "stream",
          "name": "stdout",
          "text": [
            "Drive already mounted at /content/drive; to attempt to forcibly remount, call drive.mount(\"/content/drive\", force_remount=True).\n",
            "1轉出一層(資料夾+檔案)\n",
            " ['iris.data', 'Iris2.csv', 'iris_sample.csv', 'kmeans_data.csv', 'iris.csv', '20221125_184221.jpg']\n",
            "當前目錄下共有 : 6 個項目(資料夾+檔案)\n",
            "2轉出一層(資料夾+檔案)\n",
            " ['00. DJ Whoo Kid & CNN - Back On That Q.U. Shit.m3u', '曲終人不見江上數峰青.docx', '一些考慮要看的網頁.txt', '房間空間設計.docx', '__document', '_seed1', '_seed2', '_pic', '_text', '_software', '未命名文件.gdoc', '_seed3', '書籤_2021_11_22.html', '_seed4', 'maybe_all_fail.txt', '_vcs_from_home', 'PID speed control (1).gsheet', 'PID speed control.gsheet', 'office2013.txt', 'maybe_all_fail222.txt', 'maybe_all_fail3333.txt', 'maybe_all_fail4444.txt', '免費設計資源筆記 @李介介 的副本.gsheet', 'Colab Notebooks', '膠囊內視鏡影像品質的改進.docx', 'RemoveWAT 2.2.5.zip', 'tmptmp1229.txt', 'rrrrrr.txt', 'take_0814.zip', 'CSV']\n",
            "當前目錄下共有 : 30 個項目(資料夾+檔案)\n",
            "3轉出一層(資料夾+檔案)\n",
            " ['plotly_demo (1).ipynb', 'plotly_demo.ipynb', 'my_colab_0401.ipynb']\n",
            "當前目錄下共有 : 3 個項目(資料夾+檔案)\n",
            "4轉出一層(資料夾+檔案)\n",
            " ['iris.data', 'Iris2.csv', 'iris_sample.csv', 'kmeans_data.csv', 'iris.csv', '20221125_184221.jpg']\n",
            "當前目錄下共有 : 6 個項目(資料夾+檔案)\n",
            "aaa\n",
            "['plotly_demo (1).ipynb', 'plotly_demo.ipynb', 'my_colab_0401.ipynb']\n",
            "bbb\n",
            "   花萼長度  花萼寬度  花瓣長度  花瓣寬度      類別\n",
            "0   5.1   3.5   1.4   0.2  setosa\n",
            "1   4.9   3.0   1.4   0.2  setosa\n",
            "2   4.7   3.2   1.3   0.2  setosa\n",
            "3   4.6   3.1   1.5   0.2  setosa\n",
            "4   5.0   3.6   1.4   0.2  setosa\n",
            "ccc\n"
          ]
        }
      ]
    },
    {
      "cell_type": "markdown",
      "source": [],
      "metadata": {
        "id": "9E93_0KUvSmT"
      }
    }
  ]
}