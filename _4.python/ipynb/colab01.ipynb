{
  "nbformat": 4,
  "nbformat_minor": 0,
  "metadata": {
    "colab": {
      "provenance": [],
      "gpuType": "T4",
      "authorship_tag": "ABX9TyN8LUuTshOEeOagpvXQb62C",
      "include_colab_link": true
    },
    "kernelspec": {
      "name": "python3",
      "display_name": "Python 3"
    },
    "language_info": {
      "name": "python"
    },
    "accelerator": "GPU"
  },
  "cells": [
    {
      "cell_type": "markdown",
      "metadata": {
        "id": "view-in-github",
        "colab_type": "text"
      },
      "source": [
        "<a href=\"https://colab.research.google.com/github/bunshue/vcs/blob/master/_4.python/ipynb/colab01.ipynb\" target=\"_parent\"><img src=\"https://colab.research.google.com/assets/colab-badge.svg\" alt=\"Open In Colab\"/></a>"
      ]
    },
    {
      "cell_type": "markdown",
      "source": [
        "GPU 相關\n",
        "\n",
        "編輯/筆記本設定/選GPU"
      ],
      "metadata": {
        "id": "FQ7UA5dGfOVW"
      }
    },
    {
      "cell_type": "code",
      "source": [
        "# 查看 GPU 相關資訊\n",
        "!nvidia-smi\n",
        "\n",
        "# 檢查 TensorFlow 是否有連結到 GPU\n",
        "\n",
        "import tensorflow as tf\n",
        "\n",
        "device_name = tf.test.gpu_device_name()\n",
        "print(\"找到 GPU 在 : {}\".format(device_name))\n",
        "\n",
        "from tensorflow.python.client import device_lib\n",
        "print(device_lib.list_local_devices())\n",
        "\n",
        "# 檢查 PyTorch 是否有連結到 GPU\n",
        "import torch\n",
        "cc = torch.cuda.is_available()\n",
        "print(cc)\n",
        "cc = torch.cuda.get_device_name()\n",
        "print(cc)\n",
        "\n",
        "device = torch.device('cuda' if torch.cuda.is_available() else 'cpu')\n",
        "print(device)"
      ],
      "metadata": {
        "id": "0czY-4oDfOkv"
      },
      "execution_count": null,
      "outputs": []
    }
  ]
}