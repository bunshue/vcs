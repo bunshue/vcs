{
  "nbformat": 4,
  "nbformat_minor": 0,
  "metadata": {
    "colab": {
      "provenance": [],
      "authorship_tag": "ABX9TyOSM1d66u3VjK1bYBGUj8UC",
      "include_colab_link": true
    },
    "kernelspec": {
      "name": "python3",
      "display_name": "Python 3"
    },
    "language_info": {
      "name": "python"
    }
  },
  "cells": [
    {
      "cell_type": "markdown",
      "metadata": {
        "id": "view-in-github",
        "colab_type": "text"
      },
      "source": [
        "<a href=\"https://colab.research.google.com/github/bunshue/vcs/blob/master/_4.python/ipynb/ddd0529.ipynb\" target=\"_parent\"><img src=\"https://colab.research.google.com/assets/colab-badge.svg\" alt=\"Open In Colab\"/></a>"
      ]
    },
    {
      "cell_type": "code",
      "execution_count": null,
      "metadata": {
        "id": "vx0ky-sUjiDk"
      },
      "outputs": [],
      "source": [
        "\"\"\"\n",
        "aaa\n",
        "bbb\n",
        "ccc\n",
        "ddddFasdfasdfnmsadnfASDfasdF\n",
        "dfsadfASdfdf\n",
        "df\n",
        "ads\n",
        "f\n",
        "asdf\n",
        "sad\n",
        "f\n",
        "asdf\n",
        "asdf\n",
        "asd\n",
        "fas\n",
        "df\n",
        "asdf\n",
        "asd\n",
        "f\n",
        "\n",
        "\n",
        "\n",
        "fds\n",
        "fa\n",
        "sdf\n",
        "asdf\n",
        "\n",
        "eee\n",
        "fff\n",
        "again\n",
        "\"\"\"\n"
      ]
    }
  ]
}