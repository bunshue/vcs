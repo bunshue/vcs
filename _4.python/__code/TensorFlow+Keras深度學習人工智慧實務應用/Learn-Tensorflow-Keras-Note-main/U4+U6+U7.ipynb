{
  "nbformat": 4,
  "nbformat_minor": 0,
  "metadata": {
    "colab": {
      "name": "U4+U6+U7.ipynb",
      "provenance": [],
      "authorship_tag": "ABX9TyN3pz5LWDEOjQkdaiMVX1H1",
      "include_colab_link": true
    },
    "kernelspec": {
      "display_name": "Python 3",
      "name": "python3"
    }
  },
  "cells": [
    {
      "cell_type": "markdown",
      "metadata": {
        "id": "view-in-github",
        "colab_type": "text"
      },
      "source": [
        "<a href=\"https://colab.research.google.com/github/SYkkk55/Learn-Tensorflow-Keras-Note/blob/main/U4%2BU6%2BU7.ipynb\" target=\"_parent\"><img src=\"https://colab.research.google.com/assets/colab-badge.svg\" alt=\"Open In Colab\"/></a>"
      ]
    },
    {
      "cell_type": "markdown",
      "metadata": {
        "id": "faUDiRkebQYI"
      },
      "source": [
        "# U4\n",
        "## 1.確認安裝套件 tensorflow 和 keras \n",
        "## 2.查看兩者的版本\n",
        "\n"
      ]
    },
    {
      "cell_type": "code",
      "metadata": {
        "colab": {
          "base_uri": "https://localhost:8080/",
          "height": 35
        },
        "id": "ELUNkxtQa4qg",
        "outputId": "339b30b6-1801-467c-b938-4075e29f2628"
      },
      "source": [
        "import tensorflow as tf\n",
        "tf.__version__"
      ],
      "execution_count": null,
      "outputs": [
        {
          "output_type": "execute_result",
          "data": {
            "application/vnd.google.colaboratory.intrinsic+json": {
              "type": "string"
            },
            "text/plain": [
              "'2.3.0'"
            ]
          },
          "metadata": {
            "tags": []
          },
          "execution_count": 36
        }
      ]
    },
    {
      "cell_type": "code",
      "metadata": {
        "colab": {
          "base_uri": "https://localhost:8080/",
          "height": 35
        },
        "id": "0XM04RcQbHt4",
        "outputId": "d32e8242-d8fa-4a4c-89e6-eade0a35388b"
      },
      "source": [
        "import keras\n",
        "keras.__version__"
      ],
      "execution_count": null,
      "outputs": [
        {
          "output_type": "execute_result",
          "data": {
            "application/vnd.google.colaboratory.intrinsic+json": {
              "type": "string"
            },
            "text/plain": [
              "'2.4.3'"
            ]
          },
          "metadata": {
            "tags": []
          },
          "execution_count": 37
        }
      ]
    },
    {
      "cell_type": "markdown",
      "metadata": {
        "id": "dxp5zNM0bgKf"
      },
      "source": [
        "# U6 MNIST 手寫數字辨識"
      ]
    },
    {
      "cell_type": "markdown",
      "metadata": {
        "id": "naoPLQ2XoELM"
      },
      "source": [
        "# 1.查看資料集 train data 和test data"
      ]
    },
    {
      "cell_type": "code",
      "metadata": {
        "id": "_7VrtpOsbng1"
      },
      "source": [
        "import numpy as np \n",
        "import pandas as pd \n",
        "from keras.utils import np_utils\n",
        "\n",
        "np.random.seed(10)\n"
      ],
      "execution_count": null,
      "outputs": []
    },
    {
      "cell_type": "code",
      "metadata": {
        "id": "Gww9gki7cBe5"
      },
      "source": [
        "# 匯入資料\n",
        "from keras.datasets import mnist"
      ],
      "execution_count": null,
      "outputs": []
    },
    {
      "cell_type": "code",
      "metadata": {
        "id": "P4yRsGIdcF1y"
      },
      "source": [
        "(x_train_image,y_train_label),(x_test_image,y_test_label)=mnist.load_data()"
      ],
      "execution_count": null,
      "outputs": []
    },
    {
      "cell_type": "code",
      "metadata": {
        "colab": {
          "base_uri": "https://localhost:8080/"
        },
        "id": "mysVHr8YcXKp",
        "outputId": "b8280149-11f6-4247-d6db-d3e8e3515aef"
      },
      "source": [
        "print('train data= ',len(x_train_image))\n",
        "print('test data=', len(x_test_image))"
      ],
      "execution_count": null,
      "outputs": [
        {
          "output_type": "stream",
          "text": [
            "train data=  60000\n",
            "test data= 10000\n"
          ],
          "name": "stdout"
        }
      ]
    },
    {
      "cell_type": "code",
      "metadata": {
        "colab": {
          "base_uri": "https://localhost:8080/",
          "height": 159
        },
        "id": "e43BIuFRcrrO",
        "outputId": "817d4927-8614-4556-a1df-36d87b74ba0a"
      },
      "source": [
        "import matplotlib.pyplot as plt\n",
        "\n",
        "def plot_image(image):\n",
        "  fig = plt.gcf()\n",
        "  fig.set_size_inches(2,2)\n",
        "  plt.imshow(image,cmap='binary')\n",
        "  plt.show()\n",
        "\n",
        "plot_image(x_train_image[0])  "
      ],
      "execution_count": null,
      "outputs": [
        {
          "output_type": "display_data",
          "data": {
            "image/png": "[encoded data removed]",
            "text/plain": [
              "<Figure size 144x144 with 1 Axes>"
            ]
          },
          "metadata": {
            "tags": [],
            "needs_background": "light"
          }
        }
      ]
    },
    {
      "cell_type": "code",
      "metadata": {
        "colab": {
          "base_uri": "https://localhost:8080/"
        },
        "id": "LxgBZk_UiRFj",
        "outputId": "e5d08a15-6695-42dc-8e8c-7dae295e6aa1"
      },
      "source": [
        "y_train_label[0]"
      ],
      "execution_count": null,
      "outputs": [
        {
          "output_type": "execute_result",
          "data": {
            "text/plain": [
              "5"
            ]
          },
          "metadata": {
            "tags": []
          },
          "execution_count": 43
        }
      ]
    },
    {
      "cell_type": "code",
      "metadata": {
        "id": "XHCHYZydiS-U"
      },
      "source": [
        "import matplotlib.pyplot as plt \n",
        "\n",
        "# 建立函數要來畫多圖的\n",
        "def plot_images_labels_prediction(images,labels,prediction,idx,num=10): \n",
        "  \n",
        "  # 設定顯示圖形的大小\n",
        "  fig= plt.gcf()\n",
        "  fig.set_size_inches(12,14)\n",
        "\n",
        "  # 最多25張\n",
        "  if num>25:num=25\n",
        "\n",
        "  # 一張一張畫\n",
        "  for i in range(0,num):\n",
        "\n",
        "    # 建立子圖形5*5(五行五列)\n",
        "    ax=plt.subplot(5,5,i+1)\n",
        "\n",
        "    # 畫出子圖形\n",
        "    ax.imshow(images[idx],cmap='binary')\n",
        "\n",
        "    # 標題和label\n",
        "    title=\"label=\" +str(labels[idx])\n",
        "\n",
        "    # 如果有傳入預測結果也顯示\n",
        "    if len(prediction)>0:\n",
        "      title+=\",predict=\"+str(prediction[idx])\n",
        "\n",
        "    # 設定子圖形的標題大小\n",
        "    ax.set_title(title,fontsize=10)\n",
        "\n",
        "    # 設定不顯示刻度\n",
        "    ax.set_xticks([]);ax.set_yticks([])  \n",
        "    idx+=1\n",
        "  plt.show()  "
      ],
      "execution_count": null,
      "outputs": []
    },
    {
      "cell_type": "code",
      "metadata": {
        "colab": {
          "base_uri": "https://localhost:8080/",
          "height": 321
        },
        "id": "IFsB44w8lyUu",
        "outputId": "bd6365d5-4dc0-45fc-cc0e-fd2a7791391e"
      },
      "source": [
        "plot_images_labels_prediction(x_train_image,y_train_label,[],0,10)"
      ],
      "execution_count": null,
      "outputs": [
        {
          "output_type": "display_data",
          "data": {
            "image/png": "[encoded data removed]",
            "text/plain": [
              "<Figure size 864x1008 with 10 Axes>"
            ]
          },
          "metadata": {
            "tags": []
          }
        }
      ]
    },
    {
      "cell_type": "code",
      "metadata": {
        "colab": {
          "base_uri": "https://localhost:8080/"
        },
        "id": "rEsX6g1onEB6",
        "outputId": "db730437-6cf5-40dd-9dc0-a9d774f79ab0"
      },
      "source": [
        "print('x_test_image:',x_test_image.shape)\n",
        "print('y_test_label:', y_test_label.shape)"
      ],
      "execution_count": null,
      "outputs": [
        {
          "output_type": "stream",
          "text": [
            "x_test_image: (10000, 28, 28)\n",
            "y_test_label: (10000,)\n"
          ],
          "name": "stdout"
        }
      ]
    },
    {
      "cell_type": "code",
      "metadata": {
        "colab": {
          "base_uri": "https://localhost:8080/",
          "height": 794
        },
        "id": "taoI6ctfnSI2",
        "outputId": "a3865416-a3db-4d4d-ddf0-bd2c72397111"
      },
      "source": [
        "plot_images_labels_prediction(x_test_image,y_test_label,[],0,25)"
      ],
      "execution_count": null,
      "outputs": [
        {
          "output_type": "display_data",
          "data": {
            "image/png": "[encoded data removed]",
            "text/plain": [
              "<Figure size 864x1008 with 25 Axes>"
            ]
          },
          "metadata": {
            "tags": []
          }
        }
      ]
    },
    {
      "cell_type": "markdown",
      "metadata": {
        "id": "d1cr6nxYoL-p"
      },
      "source": [
        "# 2.清理資料 data cleaning\n"
      ]
    },
    {
      "cell_type": "markdown",
      "metadata": {
        "id": "l08WPPGjnbAO"
      },
      "source": [
        "# 查看資料的型態\n",
        "print('x_train_image:', x_train_image.shape)\n",
        "print('y_train_label:',y_train_label.shape)"
      ]
    },
    {
      "cell_type": "code",
      "metadata": {
        "colab": {
          "base_uri": "https://localhost:8080/"
        },
        "id": "SRNue1xZn0Y2",
        "outputId": "c4948e56-8ab5-4d45-db3c-7b4fd4931b45"
      },
      "source": [
        "# 代表 train image 總共有6萬張，每一張是28*28的圖片\n",
        "# label 也有6萬個\n",
        "# 所以要把二維的圖片矩陣先轉換成一維\n",
        "# 這裡的784是因為 28*28\n",
        "x_Train=x_train_image.reshape(60000,784).astype('float32')\n",
        "x_Test=x_test_image.reshape(10000,784).astype('float32')\n",
        "\n",
        "# 轉換後的資料型態，壓扁變成一維了\n",
        "print(x_Train.shape)\n",
        "print(x_Test.shape)\n",
        "\n",
        "print(x_Train[0])"
      ],
      "execution_count": null,
      "outputs": [
        {
          "output_type": "stream",
          "text": [
            "(60000, 784)\n",
            "(10000, 784)\n",
            "[  0.   0.   0.   0.   0.   0.   0.   0.   0.   0.   0.   0.   0.   0.\n",
            "   0.   0.   0.   0.   0.   0.   0.   0.   0.   0.   0.   0.   0.   0.\n",
            "   0.   0.   0.   0.   0.   0.   0.   0.   0.   0.   0.   0.   0.   0.\n",
            "   0.   0.   0.   0.   0.   0.   0.   0.   0.   0.   0.   0.   0.   0.\n",
            "   0.   0.   0.   0.   0.   0.   0.   0.   0.   0.   0.   0.   0.   0.\n",
            "   0.   0.   0.   0.   0.   0.   0.   0.   0.   0.   0.   0.   0.   0.\n",
            "   0.   0.   0.   0.   0.   0.   0.   0.   0.   0.   0.   0.   0.   0.\n",
            "   0.   0.   0.   0.   0.   0.   0.   0.   0.   0.   0.   0.   0.   0.\n",
            "   0.   0.   0.   0.   0.   0.   0.   0.   0.   0.   0.   0.   0.   0.\n",
            "   0.   0.   0.   0.   0.   0.   0.   0.   0.   0.   0.   0.   0.   0.\n",
            "   0.   0.   0.   0.   0.   0.   0.   0.   0.   0.   0.   0.   3.  18.\n",
            "  18.  18. 126. 136. 175.  26. 166. 255. 247. 127.   0.   0.   0.   0.\n",
            "   0.   0.   0.   0.   0.   0.   0.   0.  30.  36.  94. 154. 170. 253.\n",
            " 253. 253. 253. 253. 225. 172. 253. 242. 195.  64.   0.   0.   0.   0.\n",
            "   0.   0.   0.   0.   0.   0.   0.  49. 238. 253. 253. 253. 253. 253.\n",
            " 253. 253. 253. 251.  93.  82.  82.  56.  39.   0.   0.   0.   0.   0.\n",
            "   0.   0.   0.   0.   0.   0.   0.  18. 219. 253. 253. 253. 253. 253.\n",
            " 198. 182. 247. 241.   0.   0.   0.   0.   0.   0.   0.   0.   0.   0.\n",
            "   0.   0.   0.   0.   0.   0.   0.   0.  80. 156. 107. 253. 253. 205.\n",
            "  11.   0.  43. 154.   0.   0.   0.   0.   0.   0.   0.   0.   0.   0.\n",
            "   0.   0.   0.   0.   0.   0.   0.   0.   0.  14.   1. 154. 253.  90.\n",
            "   0.   0.   0.   0.   0.   0.   0.   0.   0.   0.   0.   0.   0.   0.\n",
            "   0.   0.   0.   0.   0.   0.   0.   0.   0.   0.   0. 139. 253. 190.\n",
            "   2.   0.   0.   0.   0.   0.   0.   0.   0.   0.   0.   0.   0.   0.\n",
            "   0.   0.   0.   0.   0.   0.   0.   0.   0.   0.   0.  11. 190. 253.\n",
            "  70.   0.   0.   0.   0.   0.   0.   0.   0.   0.   0.   0.   0.   0.\n",
            "   0.   0.   0.   0.   0.   0.   0.   0.   0.   0.   0.   0.  35. 241.\n",
            " 225. 160. 108.   1.   0.   0.   0.   0.   0.   0.   0.   0.   0.   0.\n",
            "   0.   0.   0.   0.   0.   0.   0.   0.   0.   0.   0.   0.   0.  81.\n",
            " 240. 253. 253. 119.  25.   0.   0.   0.   0.   0.   0.   0.   0.   0.\n",
            "   0.   0.   0.   0.   0.   0.   0.   0.   0.   0.   0.   0.   0.   0.\n",
            "  45. 186. 253. 253. 150.  27.   0.   0.   0.   0.   0.   0.   0.   0.\n",
            "   0.   0.   0.   0.   0.   0.   0.   0.   0.   0.   0.   0.   0.   0.\n",
            "   0.  16.  93. 252. 253. 187.   0.   0.   0.   0.   0.   0.   0.   0.\n",
            "   0.   0.   0.   0.   0.   0.   0.   0.   0.   0.   0.   0.   0.   0.\n",
            "   0.   0.   0. 249. 253. 249.  64.   0.   0.   0.   0.   0.   0.   0.\n",
            "   0.   0.   0.   0.   0.   0.   0.   0.   0.   0.   0.   0.   0.   0.\n",
            "  46. 130. 183. 253. 253. 207.   2.   0.   0.   0.   0.   0.   0.   0.\n",
            "   0.   0.   0.   0.   0.   0.   0.   0.   0.   0.   0.   0.  39. 148.\n",
            " 229. 253. 253. 253. 250. 182.   0.   0.   0.   0.   0.   0.   0.   0.\n",
            "   0.   0.   0.   0.   0.   0.   0.   0.   0.   0.  24. 114. 221. 253.\n",
            " 253. 253. 253. 201.  78.   0.   0.   0.   0.   0.   0.   0.   0.   0.\n",
            "   0.   0.   0.   0.   0.   0.   0.   0.  23.  66. 213. 253. 253. 253.\n",
            " 253. 198.  81.   2.   0.   0.   0.   0.   0.   0.   0.   0.   0.   0.\n",
            "   0.   0.   0.   0.   0.   0.  18. 171. 219. 253. 253. 253. 253. 195.\n",
            "  80.   9.   0.   0.   0.   0.   0.   0.   0.   0.   0.   0.   0.   0.\n",
            "   0.   0.   0.   0.  55. 172. 226. 253. 253. 253. 253. 244. 133.  11.\n",
            "   0.   0.   0.   0.   0.   0.   0.   0.   0.   0.   0.   0.   0.   0.\n",
            "   0.   0.   0.   0. 136. 253. 253. 253. 212. 135. 132.  16.   0.   0.\n",
            "   0.   0.   0.   0.   0.   0.   0.   0.   0.   0.   0.   0.   0.   0.\n",
            "   0.   0.   0.   0.   0.   0.   0.   0.   0.   0.   0.   0.   0.   0.\n",
            "   0.   0.   0.   0.   0.   0.   0.   0.   0.   0.   0.   0.   0.   0.\n",
            "   0.   0.   0.   0.   0.   0.   0.   0.   0.   0.   0.   0.   0.   0.\n",
            "   0.   0.   0.   0.   0.   0.   0.   0.   0.   0.   0.   0.   0.   0.\n",
            "   0.   0.   0.   0.   0.   0.   0.   0.   0.   0.   0.   0.   0.   0.\n",
            "   0.   0.   0.   0.   0.   0.   0.   0.   0.   0.   0.   0.   0.   0.]\n"
          ],
          "name": "stdout"
        }
      ]
    },
    {
      "cell_type": "markdown",
      "metadata": {
        "id": "bG6hTGPxrnWB"
      },
      "source": [
        "# 3.影像標準化(normailze)\n",
        "\n"
      ]
    },
    {
      "cell_type": "code",
      "metadata": {
        "colab": {
          "base_uri": "https://localhost:8080/"
        },
        "id": "nWnQnsS0qNKj",
        "outputId": "2462060e-1947-4e08-c1a8-738ba598b898"
      },
      "source": [
        "# 由於是圖片最大的是255，所以全部除以255\n",
        "\n",
        "x_Train_normalize=x_Train/255\n",
        "x_Test_normalize=x_Test/255\n",
        "\n",
        "print(x_Train_normalize[0])"
      ],
      "execution_count": null,
      "outputs": [
        {
          "output_type": "stream",
          "text": [
            "[0.         0.         0.         0.         0.         0.\n",
            " 0.         0.         0.         0.         0.         0.\n",
            " 0.         0.         0.         0.         0.         0.\n",
            " 0.         0.         0.         0.         0.         0.\n",
            " 0.         0.         0.         0.         0.         0.\n",
            " 0.         0.         0.         0.         0.         0.\n",
            " 0.         0.         0.         0.         0.         0.\n",
            " 0.         0.         0.         0.         0.         0.\n",
            " 0.         0.         0.         0.         0.         0.\n",
            " 0.         0.         0.         0.         0.         0.\n",
            " 0.         0.         0.         0.         0.         0.\n",
            " 0.         0.         0.         0.         0.         0.\n",
            " 0.         0.         0.         0.         0.         0.\n",
            " 0.         0.         0.         0.         0.         0.\n",
            " 0.         0.         0.         0.         0.         0.\n",
            " 0.         0.         0.         0.         0.         0.\n",
            " 0.         0.         0.         0.         0.         0.\n",
            " 0.         0.         0.         0.         0.         0.\n",
            " 0.         0.         0.         0.         0.         0.\n",
            " 0.         0.         0.         0.         0.         0.\n",
            " 0.         0.         0.         0.         0.         0.\n",
            " 0.         0.         0.         0.         0.         0.\n",
            " 0.         0.         0.         0.         0.         0.\n",
            " 0.         0.         0.         0.         0.         0.\n",
            " 0.         0.         0.         0.         0.         0.\n",
            " 0.         0.         0.01176471 0.07058824 0.07058824 0.07058824\n",
            " 0.49411765 0.53333336 0.6862745  0.10196079 0.6509804  1.\n",
            " 0.96862745 0.49803922 0.         0.         0.         0.\n",
            " 0.         0.         0.         0.         0.         0.\n",
            " 0.         0.         0.11764706 0.14117648 0.36862746 0.6039216\n",
            " 0.6666667  0.99215686 0.99215686 0.99215686 0.99215686 0.99215686\n",
            " 0.88235295 0.6745098  0.99215686 0.9490196  0.7647059  0.2509804\n",
            " 0.         0.         0.         0.         0.         0.\n",
            " 0.         0.         0.         0.         0.         0.19215687\n",
            " 0.93333334 0.99215686 0.99215686 0.99215686 0.99215686 0.99215686\n",
            " 0.99215686 0.99215686 0.99215686 0.9843137  0.3647059  0.32156864\n",
            " 0.32156864 0.21960784 0.15294118 0.         0.         0.\n",
            " 0.         0.         0.         0.         0.         0.\n",
            " 0.         0.         0.         0.07058824 0.85882354 0.99215686\n",
            " 0.99215686 0.99215686 0.99215686 0.99215686 0.7764706  0.7137255\n",
            " 0.96862745 0.94509804 0.         0.         0.         0.\n",
            " 0.         0.         0.         0.         0.         0.\n",
            " 0.         0.         0.         0.         0.         0.\n",
            " 0.         0.         0.3137255  0.6117647  0.41960785 0.99215686\n",
            " 0.99215686 0.8039216  0.04313726 0.         0.16862746 0.6039216\n",
            " 0.         0.         0.         0.         0.         0.\n",
            " 0.         0.         0.         0.         0.         0.\n",
            " 0.         0.         0.         0.         0.         0.\n",
            " 0.         0.05490196 0.00392157 0.6039216  0.99215686 0.3529412\n",
            " 0.         0.         0.         0.         0.         0.\n",
            " 0.         0.         0.         0.         0.         0.\n",
            " 0.         0.         0.         0.         0.         0.\n",
            " 0.         0.         0.         0.         0.         0.\n",
            " 0.         0.54509807 0.99215686 0.74509805 0.00784314 0.\n",
            " 0.         0.         0.         0.         0.         0.\n",
            " 0.         0.         0.         0.         0.         0.\n",
            " 0.         0.         0.         0.         0.         0.\n",
            " 0.         0.         0.         0.         0.         0.04313726\n",
            " 0.74509805 0.99215686 0.27450982 0.         0.         0.\n",
            " 0.         0.         0.         0.         0.         0.\n",
            " 0.         0.         0.         0.         0.         0.\n",
            " 0.         0.         0.         0.         0.         0.\n",
            " 0.         0.         0.         0.         0.13725491 0.94509804\n",
            " 0.88235295 0.627451   0.42352942 0.00392157 0.         0.\n",
            " 0.         0.         0.         0.         0.         0.\n",
            " 0.         0.         0.         0.         0.         0.\n",
            " 0.         0.         0.         0.         0.         0.\n",
            " 0.         0.         0.         0.31764707 0.9411765  0.99215686\n",
            " 0.99215686 0.46666667 0.09803922 0.         0.         0.\n",
            " 0.         0.         0.         0.         0.         0.\n",
            " 0.         0.         0.         0.         0.         0.\n",
            " 0.         0.         0.         0.         0.         0.\n",
            " 0.         0.         0.1764706  0.7294118  0.99215686 0.99215686\n",
            " 0.5882353  0.10588235 0.         0.         0.         0.\n",
            " 0.         0.         0.         0.         0.         0.\n",
            " 0.         0.         0.         0.         0.         0.\n",
            " 0.         0.         0.         0.         0.         0.\n",
            " 0.         0.0627451  0.3647059  0.9882353  0.99215686 0.73333335\n",
            " 0.         0.         0.         0.         0.         0.\n",
            " 0.         0.         0.         0.         0.         0.\n",
            " 0.         0.         0.         0.         0.         0.\n",
            " 0.         0.         0.         0.         0.         0.\n",
            " 0.         0.9764706  0.99215686 0.9764706  0.2509804  0.\n",
            " 0.         0.         0.         0.         0.         0.\n",
            " 0.         0.         0.         0.         0.         0.\n",
            " 0.         0.         0.         0.         0.         0.\n",
            " 0.         0.         0.18039216 0.50980395 0.7176471  0.99215686\n",
            " 0.99215686 0.8117647  0.00784314 0.         0.         0.\n",
            " 0.         0.         0.         0.         0.         0.\n",
            " 0.         0.         0.         0.         0.         0.\n",
            " 0.         0.         0.         0.         0.15294118 0.5803922\n",
            " 0.8980392  0.99215686 0.99215686 0.99215686 0.98039216 0.7137255\n",
            " 0.         0.         0.         0.         0.         0.\n",
            " 0.         0.         0.         0.         0.         0.\n",
            " 0.         0.         0.         0.         0.         0.\n",
            " 0.09411765 0.44705883 0.8666667  0.99215686 0.99215686 0.99215686\n",
            " 0.99215686 0.7882353  0.30588236 0.         0.         0.\n",
            " 0.         0.         0.         0.         0.         0.\n",
            " 0.         0.         0.         0.         0.         0.\n",
            " 0.         0.         0.09019608 0.25882354 0.8352941  0.99215686\n",
            " 0.99215686 0.99215686 0.99215686 0.7764706  0.31764707 0.00784314\n",
            " 0.         0.         0.         0.         0.         0.\n",
            " 0.         0.         0.         0.         0.         0.\n",
            " 0.         0.         0.         0.         0.07058824 0.67058825\n",
            " 0.85882354 0.99215686 0.99215686 0.99215686 0.99215686 0.7647059\n",
            " 0.3137255  0.03529412 0.         0.         0.         0.\n",
            " 0.         0.         0.         0.         0.         0.\n",
            " 0.         0.         0.         0.         0.         0.\n",
            " 0.21568628 0.6745098  0.8862745  0.99215686 0.99215686 0.99215686\n",
            " 0.99215686 0.95686275 0.52156866 0.04313726 0.         0.\n",
            " 0.         0.         0.         0.         0.         0.\n",
            " 0.         0.         0.         0.         0.         0.\n",
            " 0.         0.         0.         0.         0.53333336 0.99215686\n",
            " 0.99215686 0.99215686 0.83137256 0.5294118  0.5176471  0.0627451\n",
            " 0.         0.         0.         0.         0.         0.\n",
            " 0.         0.         0.         0.         0.         0.\n",
            " 0.         0.         0.         0.         0.         0.\n",
            " 0.         0.         0.         0.         0.         0.\n",
            " 0.         0.         0.         0.         0.         0.\n",
            " 0.         0.         0.         0.         0.         0.\n",
            " 0.         0.         0.         0.         0.         0.\n",
            " 0.         0.         0.         0.         0.         0.\n",
            " 0.         0.         0.         0.         0.         0.\n",
            " 0.         0.         0.         0.         0.         0.\n",
            " 0.         0.         0.         0.         0.         0.\n",
            " 0.         0.         0.         0.         0.         0.\n",
            " 0.         0.         0.         0.         0.         0.\n",
            " 0.         0.         0.         0.         0.         0.\n",
            " 0.         0.         0.         0.         0.         0.\n",
            " 0.         0.         0.         0.         0.         0.\n",
            " 0.         0.         0.         0.        ]\n"
          ],
          "name": "stdout"
        }
      ]
    },
    {
      "cell_type": "markdown",
      "metadata": {
        "id": "pPu1RpxhsOR8"
      },
      "source": [
        "# 4.label 前處理 使用one-hot encoding\n"
      ]
    },
    {
      "cell_type": "code",
      "metadata": {
        "colab": {
          "base_uri": "https://localhost:8080/"
        },
        "id": "hpoCuHr_ziu3",
        "outputId": "6fec22e7-4acd-40e1-e9b9-6111f19dd168"
      },
      "source": [
        "# 查看原本的 label 型態\n",
        "# 他是0~9的數字\n",
        "y_train_label[:5]\n"
      ],
      "execution_count": null,
      "outputs": [
        {
          "output_type": "execute_result",
          "data": {
            "text/plain": [
              "array([5, 0, 4, 1, 9], dtype=uint8)"
            ]
          },
          "metadata": {
            "tags": []
          },
          "execution_count": 50
        }
      ]
    },
    {
      "cell_type": "code",
      "metadata": {
        "id": "A2afLZvQzsfu"
      },
      "source": [
        "y_TrainOneHot=np_utils.to_categorical(y_train_label)\n",
        "y_TestOneHot=np_utils.to_categorical(y_test_label)"
      ],
      "execution_count": null,
      "outputs": []
    },
    {
      "cell_type": "code",
      "metadata": {
        "colab": {
          "base_uri": "https://localhost:8080/"
        },
        "id": "GYJM74Cdz5e7",
        "outputId": "1d4d6b2d-3721-46a1-a67b-31cab48eb6a3"
      },
      "source": [
        "# 來看轉換好的\n",
        "# 這個就是第一筆資料，他是數字5\n",
        "print(y_TrainOneHot[:1])"
      ],
      "execution_count": null,
      "outputs": [
        {
          "output_type": "stream",
          "text": [
            "[[0. 0. 0. 0. 0. 1. 0. 0. 0. 0.]]\n"
          ],
          "name": "stdout"
        }
      ]
    },
    {
      "cell_type": "markdown",
      "metadata": {
        "id": "ATkpsXJM7IHw"
      },
      "source": [
        "# 5.建立模型 多元感知器Multilayer perceptron 模型\n"
      ]
    },
    {
      "cell_type": "code",
      "metadata": {
        "colab": {
          "base_uri": "https://localhost:8080/"
        },
        "id": "bGOl3T3R0GGS",
        "outputId": "e9b69875-da10-4393-99c3-66b62374adeb"
      },
      "source": [
        "from keras.models import Sequential\n",
        "from keras.layers import Dense\n",
        "\n",
        "# 建立模型\n",
        "model = Sequential()\n",
        "\n",
        "# 建立輸入層和隱藏層\n",
        "model.add(Dense(units=256,input_dim=784,kernel_initializer='normal',activation='relu'))\n",
        "# 定義隱藏層神經元個數256\n",
        "# 輸入為28*28=784 個float 數字\n",
        "# 使用 normal distribution 常態分布的亂數，初始化 weight權重 bias 偏差\n",
        "# 定義激活函數為 relu\n",
        "\n",
        "\n",
        "# 建立輸出層\n",
        "model.add(Dense(units=10,kernel_initializer='normal',activation='softmax'))\n",
        "# 定義輸出層為10個 (數字0~9)\n",
        "# 也是使用常態分佈初始化\n",
        "# 定義激活函數是 softmax\n",
        "# 這裡建立的Dense 層，不用設定 input dim ，因為keras 會自動照上一層的256設定\n",
        "\n",
        "print(model.summary())"
      ],
      "execution_count": null,
      "outputs": [
        {
          "output_type": "stream",
          "text": [
            "Model: \"sequential_4\"\n",
            "_________________________________________________________________\n",
            "Layer (type)                 Output Shape              Param #   \n",
            "=================================================================\n",
            "dense_9 (Dense)              (None, 256)               200960    \n",
            "_________________________________________________________________\n",
            "dense_10 (Dense)             (None, 10)                2570      \n",
            "=================================================================\n",
            "Total params: 203,530\n",
            "Trainable params: 203,530\n",
            "Non-trainable params: 0\n",
            "_________________________________________________________________\n",
            "None\n"
          ],
          "name": "stdout"
        }
      ]
    },
    {
      "cell_type": "code",
      "metadata": {
        "id": "mlMmdVLk93yd"
      },
      "source": [
        "# 從這個 summary 可以看出 這一個模型是兩層的模型\n",
        "# 然後隱藏層有256個神經元\n",
        "# 輸出層有10個神經元\n",
        "\n",
        "# 另外是 param 參數\n",
        "# 參數的計算方式第一個是 200960=256*784+256\n",
        "# 另外一個是2570=256*10+10=2570\n",
        "# 下面有一個全部訓練 total params=200960+2570=203530"
      ],
      "execution_count": null,
      "outputs": []
    },
    {
      "cell_type": "markdown",
      "metadata": {
        "id": "qQQT9wtmA4sf"
      },
      "source": [
        "# 6.開始訓練\n"
      ]
    },
    {
      "cell_type": "code",
      "metadata": {
        "id": "xF_bDLqZA-zl"
      },
      "source": [
        "model.compile(loss='categorical_crossentropy',optimizer='adam',metrics=['accuracy'])\n",
        "# 模型訓練之前要用 compele 對模型進行設定\n",
        "# loss 深度學習通常用 cross entropy 交叉嫡，訓練效果較好\n",
        "# optimizer 設定訓練時依優化的方法，在深度學習使用 adam 最優化方法，最快收斂提高準確度\n",
        "# metrics 設定評估模型的方式是 accuracy 準確率"
      ],
      "execution_count": null,
      "outputs": []
    },
    {
      "cell_type": "code",
      "metadata": {
        "colab": {
          "base_uri": "https://localhost:8080/"
        },
        "id": "92C5aXL2By23",
        "outputId": "61a44add-d9a2-473e-894b-3ee2e67e6e53"
      },
      "source": [
        "# 開始訓練\n",
        "\n",
        "train_history=model.fit(x=x_Train_normalize,y=y_TrainOneHot,\n",
        "            validation_split=0.2,epochs=10,batch_size=200,verbose=2)\n",
        "# x 是訓練資料\n",
        "# y 是label 資料\n",
        "# 設定參數 validation 切0.2起來驗證\n",
        "# epoch=10 是訓練週期為10\n",
        "# batch_size=200 每一批訓練200筆資料\n",
        "# verbose =2 顯示訓練過程\n",
        "\n",
        "# 所以以上的程式會執行10次\n",
        "# 每一次執行200筆資料 ，總共訓練資料原本有60000*0.8=48000\n",
        "# 48000/200=24 要跑240批次\n",
        "# epoch 每一次訓練週期紀錄結果在 train_history 裡面"
      ],
      "execution_count": null,
      "outputs": [
        {
          "output_type": "stream",
          "text": [
            "Epoch 1/10\n",
            "240/240 - 1s - loss: 0.4393 - accuracy: 0.8825 - val_loss: 0.2256 - val_accuracy: 0.9380\n",
            "Epoch 2/10\n",
            "240/240 - 1s - loss: 0.1897 - accuracy: 0.9460 - val_loss: 0.1633 - val_accuracy: 0.9544\n",
            "Epoch 3/10\n",
            "240/240 - 1s - loss: 0.1341 - accuracy: 0.9615 - val_loss: 0.1290 - val_accuracy: 0.9636\n",
            "Epoch 4/10\n",
            "240/240 - 1s - loss: 0.1025 - accuracy: 0.9707 - val_loss: 0.1080 - val_accuracy: 0.9695\n",
            "Epoch 5/10\n",
            "240/240 - 1s - loss: 0.0805 - accuracy: 0.9775 - val_loss: 0.1033 - val_accuracy: 0.9693\n",
            "Epoch 6/10\n",
            "240/240 - 1s - loss: 0.0654 - accuracy: 0.9820 - val_loss: 0.0936 - val_accuracy: 0.9709\n",
            "Epoch 7/10\n",
            "240/240 - 1s - loss: 0.0543 - accuracy: 0.9848 - val_loss: 0.0879 - val_accuracy: 0.9726\n",
            "Epoch 8/10\n",
            "240/240 - 1s - loss: 0.0450 - accuracy: 0.9882 - val_loss: 0.0875 - val_accuracy: 0.9733\n",
            "Epoch 9/10\n",
            "240/240 - 1s - loss: 0.0381 - accuracy: 0.9899 - val_loss: 0.0840 - val_accuracy: 0.9742\n",
            "Epoch 10/10\n",
            "240/240 - 1s - loss: 0.0317 - accuracy: 0.9917 - val_loss: 0.0834 - val_accuracy: 0.9745\n"
          ],
          "name": "stdout"
        }
      ]
    },
    {
      "cell_type": "code",
      "metadata": {
        "colab": {
          "base_uri": "https://localhost:8080/",
          "height": 573
        },
        "id": "kYaoBCE1DLon",
        "outputId": "2fdb17b5-c992-4563-a472-d70520e02812"
      },
      "source": [
        "# 來把訓練過程畫出來\n",
        "\n",
        "import matplotlib.pyplot as plt\n",
        "\n",
        "def show_train_history(train_history,train,validation):\n",
        "\n",
        "  plt.plot(train_history.history[train])\n",
        "  plt.plot(train_history.history[validation])\n",
        "  plt.title('Train history')\n",
        "  plt.ylabel('train')\n",
        "  plt.xlabel('epoch')\n",
        "\n",
        "  # 設置圖例在左上角\n",
        "  plt.legend(['train','validation'],loc='upper left')\n",
        "  plt.show()\n",
        "\n",
        "show_train_history(train_history,'accuracy','val_accuracy')\n",
        "show_train_history(train_history,'loss','val_loss')"
      ],
      "execution_count": null,
      "outputs": [
        {
          "output_type": "display_data",
          "data": {
            "image/png": "[encoded data removed]",
            "text/plain": [
              "<Figure size 432x288 with 1 Axes>"
            ]
          },
          "metadata": {
            "tags": [],
            "needs_background": "light"
          }
        },
        {
          "output_type": "display_data",
          "data": {
            "image/png": "[encoded data removed]",
            "text/plain": [
              "<Figure size 432x288 with 1 Axes>"
            ]
          },
          "metadata": {
            "tags": [],
            "needs_background": "light"
          }
        }
      ]
    },
    {
      "cell_type": "markdown",
      "metadata": {
        "id": "mQ155wNyFk5p"
      },
      "source": [
        "# 7.評估測試資料準確率\n"
      ]
    },
    {
      "cell_type": "code",
      "metadata": {
        "colab": {
          "base_uri": "https://localhost:8080/"
        },
        "id": "_sJ1hBoyE5o7",
        "outputId": "6f2a18d3-b72e-4a20-9705-42fee8b83eac"
      },
      "source": [
        "scores=model.evaluate(x_Test_normalize,y_TestOneHot)\n",
        "print()\n",
        "print('accuracy',scores[1])"
      ],
      "execution_count": null,
      "outputs": [
        {
          "output_type": "stream",
          "text": [
            "313/313 [==============================] - 1s 2ms/step - loss: 0.0695 - accuracy: 0.9783\n",
            "\n",
            "accuracy 0.9782999753952026\n"
          ],
          "name": "stdout"
        }
      ]
    },
    {
      "cell_type": "markdown",
      "metadata": {
        "id": "GxH9c7pkF7lM"
      },
      "source": [
        "# 8.執行預測"
      ]
    },
    {
      "cell_type": "code",
      "metadata": {
        "colab": {
          "base_uri": "https://localhost:8080/",
          "height": 321
        },
        "id": "hNGwIf8iF-_s",
        "outputId": "359a6d74-26df-44f8-9f27-ceb5651e75da"
      },
      "source": [
        "prediction=model.predict_classes(x_Test)\n",
        "prediction\n",
        "\n",
        "plot_images_labels_prediction(x_test_image,y_test_label,prediction,idx=340)"
      ],
      "execution_count": null,
      "outputs": [
        {
          "output_type": "display_data",
          "data": {
            "image/png": "[encoded data removed]",
            "text/plain": [
              "<Figure size 864x1008 with 10 Axes>"
            ]
          },
          "metadata": {
            "tags": []
          }
        }
      ]
    },
    {
      "cell_type": "markdown",
      "metadata": {
        "id": "olUJ08nJGcY-"
      },
      "source": [
        "# 9.顯示混淆矩陣 confussion table"
      ]
    },
    {
      "cell_type": "code",
      "metadata": {
        "colab": {
          "base_uri": "https://localhost:8080/",
          "height": 390
        },
        "id": "N2X1VrrEGcFf",
        "outputId": "518799d8-3959-4a74-9a4c-33518f02f3fa"
      },
      "source": [
        "import pandas as pd\n",
        "\n",
        "pd.crosstab(y_test_label,prediction,rownames=['label'],colnames=['prediction'])"
      ],
      "execution_count": null,
      "outputs": [
        {
          "output_type": "execute_result",
          "data": {
            "text/html": [
              "<div>\n",
              "<style scoped>\n",
              "    .dataframe tbody tr th:only-of-type {\n",
              "        vertical-align: middle;\n",
              "    }\n",
              "\n",
              "    .dataframe tbody tr th {\n",
              "        vertical-align: top;\n",
              "    }\n",
              "\n",
              "    .dataframe thead th {\n",
              "        text-align: right;\n",
              "    }\n",
              "</style>\n",
              "<table border=\"1\" class=\"dataframe\">\n",
              "  <thead>\n",
              "    <tr style=\"text-align: right;\">\n",
              "      <th>prediction</th>\n",
              "      <th>0</th>\n",
              "      <th>1</th>\n",
              "      <th>2</th>\n",
              "      <th>3</th>\n",
              "      <th>4</th>\n",
              "      <th>5</th>\n",
              "      <th>6</th>\n",
              "      <th>7</th>\n",
              "      <th>8</th>\n",
              "      <th>9</th>\n",
              "    </tr>\n",
              "    <tr>\n",
              "      <th>label</th>\n",
              "      <th></th>\n",
              "      <th></th>\n",
              "      <th></th>\n",
              "      <th></th>\n",
              "      <th></th>\n",
              "      <th></th>\n",
              "      <th></th>\n",
              "      <th></th>\n",
              "      <th></th>\n",
              "      <th></th>\n",
              "    </tr>\n",
              "  </thead>\n",
              "  <tbody>\n",
              "    <tr>\n",
              "      <th>0</th>\n",
              "      <td>969</td>\n",
              "      <td>0</td>\n",
              "      <td>1</td>\n",
              "      <td>2</td>\n",
              "      <td>3</td>\n",
              "      <td>0</td>\n",
              "      <td>1</td>\n",
              "      <td>1</td>\n",
              "      <td>1</td>\n",
              "      <td>2</td>\n",
              "    </tr>\n",
              "    <tr>\n",
              "      <th>1</th>\n",
              "      <td>0</td>\n",
              "      <td>1124</td>\n",
              "      <td>4</td>\n",
              "      <td>0</td>\n",
              "      <td>0</td>\n",
              "      <td>0</td>\n",
              "      <td>3</td>\n",
              "      <td>0</td>\n",
              "      <td>4</td>\n",
              "      <td>0</td>\n",
              "    </tr>\n",
              "    <tr>\n",
              "      <th>2</th>\n",
              "      <td>7</td>\n",
              "      <td>2</td>\n",
              "      <td>1002</td>\n",
              "      <td>5</td>\n",
              "      <td>2</td>\n",
              "      <td>0</td>\n",
              "      <td>2</td>\n",
              "      <td>5</td>\n",
              "      <td>7</td>\n",
              "      <td>0</td>\n",
              "    </tr>\n",
              "    <tr>\n",
              "      <th>3</th>\n",
              "      <td>0</td>\n",
              "      <td>0</td>\n",
              "      <td>1</td>\n",
              "      <td>1000</td>\n",
              "      <td>0</td>\n",
              "      <td>2</td>\n",
              "      <td>0</td>\n",
              "      <td>3</td>\n",
              "      <td>2</td>\n",
              "      <td>2</td>\n",
              "    </tr>\n",
              "    <tr>\n",
              "      <th>4</th>\n",
              "      <td>0</td>\n",
              "      <td>0</td>\n",
              "      <td>2</td>\n",
              "      <td>0</td>\n",
              "      <td>954</td>\n",
              "      <td>0</td>\n",
              "      <td>4</td>\n",
              "      <td>2</td>\n",
              "      <td>0</td>\n",
              "      <td>20</td>\n",
              "    </tr>\n",
              "    <tr>\n",
              "      <th>5</th>\n",
              "      <td>2</td>\n",
              "      <td>0</td>\n",
              "      <td>0</td>\n",
              "      <td>13</td>\n",
              "      <td>1</td>\n",
              "      <td>863</td>\n",
              "      <td>4</td>\n",
              "      <td>1</td>\n",
              "      <td>6</td>\n",
              "      <td>2</td>\n",
              "    </tr>\n",
              "    <tr>\n",
              "      <th>6</th>\n",
              "      <td>6</td>\n",
              "      <td>2</td>\n",
              "      <td>2</td>\n",
              "      <td>1</td>\n",
              "      <td>4</td>\n",
              "      <td>2</td>\n",
              "      <td>939</td>\n",
              "      <td>0</td>\n",
              "      <td>2</td>\n",
              "      <td>0</td>\n",
              "    </tr>\n",
              "    <tr>\n",
              "      <th>7</th>\n",
              "      <td>1</td>\n",
              "      <td>5</td>\n",
              "      <td>8</td>\n",
              "      <td>5</td>\n",
              "      <td>1</td>\n",
              "      <td>0</td>\n",
              "      <td>0</td>\n",
              "      <td>994</td>\n",
              "      <td>1</td>\n",
              "      <td>13</td>\n",
              "    </tr>\n",
              "    <tr>\n",
              "      <th>8</th>\n",
              "      <td>5</td>\n",
              "      <td>0</td>\n",
              "      <td>1</td>\n",
              "      <td>15</td>\n",
              "      <td>2</td>\n",
              "      <td>3</td>\n",
              "      <td>3</td>\n",
              "      <td>2</td>\n",
              "      <td>940</td>\n",
              "      <td>3</td>\n",
              "    </tr>\n",
              "    <tr>\n",
              "      <th>9</th>\n",
              "      <td>1</td>\n",
              "      <td>4</td>\n",
              "      <td>0</td>\n",
              "      <td>8</td>\n",
              "      <td>2</td>\n",
              "      <td>2</td>\n",
              "      <td>1</td>\n",
              "      <td>5</td>\n",
              "      <td>1</td>\n",
              "      <td>985</td>\n",
              "    </tr>\n",
              "  </tbody>\n",
              "</table>\n",
              "</div>"
            ],
            "text/plain": [
              "prediction    0     1     2     3    4    5    6    7    8    9\n",
              "label                                                          \n",
              "0           969     0     1     2    3    0    1    1    1    2\n",
              "1             0  1124     4     0    0    0    3    0    4    0\n",
              "2             7     2  1002     5    2    0    2    5    7    0\n",
              "3             0     0     1  1000    0    2    0    3    2    2\n",
              "4             0     0     2     0  954    0    4    2    0   20\n",
              "5             2     0     0    13    1  863    4    1    6    2\n",
              "6             6     2     2     1    4    2  939    0    2    0\n",
              "7             1     5     8     5    1    0    0  994    1   13\n",
              "8             5     0     1    15    2    3    3    2  940    3\n",
              "9             1     4     0     8    2    2    1    5    1  985"
            ]
          },
          "metadata": {
            "tags": []
          },
          "execution_count": 60
        }
      ]
    },
    {
      "cell_type": "code",
      "metadata": {
        "colab": {
          "base_uri": "https://localhost:8080/",
          "height": 359
        },
        "id": "Cf62NJVFGk_S",
        "outputId": "75eb164d-2db4-4367-db26-d2ddbe92e43e"
      },
      "source": [
        "df = pd.DataFrame({'label':y_test_label,'predict':prediction})\n",
        "df[:10]"
      ],
      "execution_count": null,
      "outputs": [
        {
          "output_type": "execute_result",
          "data": {
            "text/html": [
              "<div>\n",
              "<style scoped>\n",
              "    .dataframe tbody tr th:only-of-type {\n",
              "        vertical-align: middle;\n",
              "    }\n",
              "\n",
              "    .dataframe tbody tr th {\n",
              "        vertical-align: top;\n",
              "    }\n",
              "\n",
              "    .dataframe thead th {\n",
              "        text-align: right;\n",
              "    }\n",
              "</style>\n",
              "<table border=\"1\" class=\"dataframe\">\n",
              "  <thead>\n",
              "    <tr style=\"text-align: right;\">\n",
              "      <th></th>\n",
              "      <th>label</th>\n",
              "      <th>predict</th>\n",
              "    </tr>\n",
              "  </thead>\n",
              "  <tbody>\n",
              "    <tr>\n",
              "      <th>0</th>\n",
              "      <td>7</td>\n",
              "      <td>7</td>\n",
              "    </tr>\n",
              "    <tr>\n",
              "      <th>1</th>\n",
              "      <td>2</td>\n",
              "      <td>2</td>\n",
              "    </tr>\n",
              "    <tr>\n",
              "      <th>2</th>\n",
              "      <td>1</td>\n",
              "      <td>1</td>\n",
              "    </tr>\n",
              "    <tr>\n",
              "      <th>3</th>\n",
              "      <td>0</td>\n",
              "      <td>0</td>\n",
              "    </tr>\n",
              "    <tr>\n",
              "      <th>4</th>\n",
              "      <td>4</td>\n",
              "      <td>4</td>\n",
              "    </tr>\n",
              "    <tr>\n",
              "      <th>5</th>\n",
              "      <td>1</td>\n",
              "      <td>1</td>\n",
              "    </tr>\n",
              "    <tr>\n",
              "      <th>6</th>\n",
              "      <td>4</td>\n",
              "      <td>4</td>\n",
              "    </tr>\n",
              "    <tr>\n",
              "      <th>7</th>\n",
              "      <td>9</td>\n",
              "      <td>9</td>\n",
              "    </tr>\n",
              "    <tr>\n",
              "      <th>8</th>\n",
              "      <td>5</td>\n",
              "      <td>6</td>\n",
              "    </tr>\n",
              "    <tr>\n",
              "      <th>9</th>\n",
              "      <td>9</td>\n",
              "      <td>9</td>\n",
              "    </tr>\n",
              "  </tbody>\n",
              "</table>\n",
              "</div>"
            ],
            "text/plain": [
              "   label  predict\n",
              "0      7        7\n",
              "1      2        2\n",
              "2      1        1\n",
              "3      0        0\n",
              "4      4        4\n",
              "5      1        1\n",
              "6      4        4\n",
              "7      9        9\n",
              "8      5        6\n",
              "9      9        9"
            ]
          },
          "metadata": {
            "tags": []
          },
          "execution_count": 61
        }
      ]
    },
    {
      "cell_type": "code",
      "metadata": {
        "colab": {
          "base_uri": "https://localhost:8080/",
          "height": 452
        },
        "id": "AtyhX--GcEmb",
        "outputId": "4cb18cf7-7321-4741-b67e-35c0687813c0"
      },
      "source": [
        "df[(df.label==5)&(df.predict==3)]"
      ],
      "execution_count": null,
      "outputs": [
        {
          "output_type": "execute_result",
          "data": {
            "text/html": [
              "<div>\n",
              "<style scoped>\n",
              "    .dataframe tbody tr th:only-of-type {\n",
              "        vertical-align: middle;\n",
              "    }\n",
              "\n",
              "    .dataframe tbody tr th {\n",
              "        vertical-align: top;\n",
              "    }\n",
              "\n",
              "    .dataframe thead th {\n",
              "        text-align: right;\n",
              "    }\n",
              "</style>\n",
              "<table border=\"1\" class=\"dataframe\">\n",
              "  <thead>\n",
              "    <tr style=\"text-align: right;\">\n",
              "      <th></th>\n",
              "      <th>label</th>\n",
              "      <th>predict</th>\n",
              "    </tr>\n",
              "  </thead>\n",
              "  <tbody>\n",
              "    <tr>\n",
              "      <th>340</th>\n",
              "      <td>5</td>\n",
              "      <td>3</td>\n",
              "    </tr>\n",
              "    <tr>\n",
              "      <th>1393</th>\n",
              "      <td>5</td>\n",
              "      <td>3</td>\n",
              "    </tr>\n",
              "    <tr>\n",
              "      <th>1670</th>\n",
              "      <td>5</td>\n",
              "      <td>3</td>\n",
              "    </tr>\n",
              "    <tr>\n",
              "      <th>2035</th>\n",
              "      <td>5</td>\n",
              "      <td>3</td>\n",
              "    </tr>\n",
              "    <tr>\n",
              "      <th>3117</th>\n",
              "      <td>5</td>\n",
              "      <td>3</td>\n",
              "    </tr>\n",
              "    <tr>\n",
              "      <th>3902</th>\n",
              "      <td>5</td>\n",
              "      <td>3</td>\n",
              "    </tr>\n",
              "    <tr>\n",
              "      <th>3968</th>\n",
              "      <td>5</td>\n",
              "      <td>3</td>\n",
              "    </tr>\n",
              "    <tr>\n",
              "      <th>4271</th>\n",
              "      <td>5</td>\n",
              "      <td>3</td>\n",
              "    </tr>\n",
              "    <tr>\n",
              "      <th>4355</th>\n",
              "      <td>5</td>\n",
              "      <td>3</td>\n",
              "    </tr>\n",
              "    <tr>\n",
              "      <th>5913</th>\n",
              "      <td>5</td>\n",
              "      <td>3</td>\n",
              "    </tr>\n",
              "    <tr>\n",
              "      <th>5937</th>\n",
              "      <td>5</td>\n",
              "      <td>3</td>\n",
              "    </tr>\n",
              "    <tr>\n",
              "      <th>5972</th>\n",
              "      <td>5</td>\n",
              "      <td>3</td>\n",
              "    </tr>\n",
              "    <tr>\n",
              "      <th>5982</th>\n",
              "      <td>5</td>\n",
              "      <td>3</td>\n",
              "    </tr>\n",
              "  </tbody>\n",
              "</table>\n",
              "</div>"
            ],
            "text/plain": [
              "      label  predict\n",
              "340       5        3\n",
              "1393      5        3\n",
              "1670      5        3\n",
              "2035      5        3\n",
              "3117      5        3\n",
              "3902      5        3\n",
              "3968      5        3\n",
              "4271      5        3\n",
              "4355      5        3\n",
              "5913      5        3\n",
              "5937      5        3\n",
              "5972      5        3\n",
              "5982      5        3"
            ]
          },
          "metadata": {
            "tags": []
          },
          "execution_count": 62
        }
      ]
    },
    {
      "cell_type": "code",
      "metadata": {
        "colab": {
          "base_uri": "https://localhost:8080/",
          "height": 164
        },
        "id": "pqBMABhJcLwx",
        "outputId": "1b3066a9-e7d5-4dba-f8b5-1199c84ec31a"
      },
      "source": [
        "plot_images_labels_prediction(x_test_image,y_test_label,prediction,idx=340,num=1)"
      ],
      "execution_count": null,
      "outputs": [
        {
          "output_type": "display_data",
          "data": {
            "image/png": "[encoded data removed]",
            "text/plain": [
              "<Figure size 864x1008 with 1 Axes>"
            ]
          },
          "metadata": {
            "tags": []
          }
        }
      ]
    },
    {
      "cell_type": "markdown",
      "metadata": {
        "id": "hSvyOffvccaD"
      },
      "source": [
        "# 10. 隱藏層增加為1000個神經元\n"
      ]
    },
    {
      "cell_type": "code",
      "metadata": {
        "colab": {
          "base_uri": "https://localhost:8080/"
        },
        "id": "p7RJedZ0ci9v",
        "outputId": "16326417-d258-4c6e-b28c-5a2b562577f7"
      },
      "source": [
        "model= Sequential()\n",
        "\n",
        "model.add(Dense(units=1000,input_dim=784,kernel_initializer='normal',activation='softmax'))\n",
        "model.add(Dense(units=10,kernel_initializer='normal',activation='softmax'))\n",
        "\n",
        "print(model.summary())"
      ],
      "execution_count": null,
      "outputs": [
        {
          "output_type": "stream",
          "text": [
            "Model: \"sequential_5\"\n",
            "_________________________________________________________________\n",
            "Layer (type)                 Output Shape              Param #   \n",
            "=================================================================\n",
            "dense_11 (Dense)             (None, 1000)              785000    \n",
            "_________________________________________________________________\n",
            "dense_12 (Dense)             (None, 10)                10010     \n",
            "=================================================================\n",
            "Total params: 795,010\n",
            "Trainable params: 795,010\n",
            "Non-trainable params: 0\n",
            "_________________________________________________________________\n",
            "None\n"
          ],
          "name": "stdout"
        }
      ]
    },
    {
      "cell_type": "code",
      "metadata": {
        "colab": {
          "base_uri": "https://localhost:8080/"
        },
        "id": "L94Ic_tgdFUp",
        "outputId": "37475cf6-bc62-49f6-c53d-501fde45f40d"
      },
      "source": [
        "# 開始訓練\n",
        "model.compile(loss='categorical_crossentropy',optimizer='adam',metrics=['accuracy'])\n",
        "train_history=model.fit(x=x_Train_normalize,y=y_TrainOneHot,validation_split=0.2,epochs=10,batch_size=200,verbose=2)"
      ],
      "execution_count": null,
      "outputs": [
        {
          "output_type": "stream",
          "text": [
            "Epoch 1/10\n",
            "240/240 - 5s - loss: 2.0097 - accuracy: 0.7506 - val_loss: 1.6886 - val_accuracy: 0.9042\n",
            "Epoch 2/10\n",
            "240/240 - 4s - loss: 1.4959 - accuracy: 0.9113 - val_loss: 1.3095 - val_accuracy: 0.9243\n",
            "Epoch 3/10\n",
            "240/240 - 4s - loss: 1.1737 - accuracy: 0.9240 - val_loss: 1.0362 - val_accuracy: 0.9294\n",
            "Epoch 4/10\n",
            "240/240 - 4s - loss: 0.9351 - accuracy: 0.9306 - val_loss: 0.8332 - val_accuracy: 0.9339\n",
            "Epoch 5/10\n",
            "240/240 - 4s - loss: 0.7582 - accuracy: 0.9350 - val_loss: 0.6831 - val_accuracy: 0.9359\n",
            "Epoch 6/10\n",
            "240/240 - 4s - loss: 0.6279 - accuracy: 0.9384 - val_loss: 0.5744 - val_accuracy: 0.9377\n",
            "Epoch 7/10\n",
            "240/240 - 4s - loss: 0.5322 - accuracy: 0.9407 - val_loss: 0.4945 - val_accuracy: 0.9392\n",
            "Epoch 8/10\n",
            "240/240 - 4s - loss: 0.4608 - accuracy: 0.9428 - val_loss: 0.4356 - val_accuracy: 0.9416\n",
            "Epoch 9/10\n",
            "240/240 - 5s - loss: 0.4065 - accuracy: 0.9451 - val_loss: 0.3904 - val_accuracy: 0.9410\n",
            "Epoch 10/10\n",
            "240/240 - 5s - loss: 0.3651 - accuracy: 0.9467 - val_loss: 0.3544 - val_accuracy: 0.9436\n"
          ],
          "name": "stdout"
        }
      ]
    },
    {
      "cell_type": "code",
      "metadata": {
        "colab": {
          "base_uri": "https://localhost:8080/",
          "height": 295
        },
        "id": "m3uyik3QeHzh",
        "outputId": "aeffbe36-49ba-4386-992c-09543da51a26"
      },
      "source": [
        "show_train_history(train_history,'accuracy','val_accuracy')"
      ],
      "execution_count": null,
      "outputs": [
        {
          "output_type": "display_data",
          "data": {
            "image/png": "[encoded data removed]",
            "text/plain": [
              "<Figure size 432x288 with 1 Axes>"
            ]
          },
          "metadata": {
            "tags": [],
            "needs_background": "light"
          }
        }
      ]
    },
    {
      "cell_type": "markdown",
      "metadata": {
        "id": "CEWSj7DUe0eE"
      },
      "source": [
        "# 11.加入 dropout 避免overfitting"
      ]
    },
    {
      "cell_type": "code",
      "metadata": {
        "colab": {
          "base_uri": "https://localhost:8080/"
        },
        "id": "toPxsBITetSL",
        "outputId": "9742e450-2e86-488f-ea8f-a7819776840a"
      },
      "source": [
        "from keras.models import Sequential\n",
        "from keras.layers import Dense\n",
        "\n",
        "# 主要加入這個 dropout\n",
        "from keras.layers import Dropout\n",
        "\n",
        "model = Sequential()\n",
        "\n",
        "model.add(Dense(units=1000,input_dim=784,kernel_initializer='normal',activation='softmax'))\n",
        "model.add(Dropout(0.5))\n",
        "model.add(Dense(units=10,kernel_initializer='normal',activation='softmax'))\n",
        "print(model.summary())\n",
        "\n",
        "# 開始訓練\n",
        "model.compile(loss='categorical_crossentropy',optimizer='adam',metrics=['accuracy'])\n",
        "\n"
      ],
      "execution_count": null,
      "outputs": [
        {
          "output_type": "stream",
          "text": [
            "Model: \"sequential_6\"\n",
            "_________________________________________________________________\n",
            "Layer (type)                 Output Shape              Param #   \n",
            "=================================================================\n",
            "dense_13 (Dense)             (None, 1000)              785000    \n",
            "_________________________________________________________________\n",
            "dropout_3 (Dropout)          (None, 1000)              0         \n",
            "_________________________________________________________________\n",
            "dense_14 (Dense)             (None, 10)                10010     \n",
            "=================================================================\n",
            "Total params: 795,010\n",
            "Trainable params: 795,010\n",
            "Non-trainable params: 0\n",
            "_________________________________________________________________\n",
            "None\n"
          ],
          "name": "stdout"
        }
      ]
    },
    {
      "cell_type": "code",
      "metadata": {
        "colab": {
          "base_uri": "https://localhost:8080/",
          "height": 975
        },
        "id": "6LvpQ5WnezdR",
        "outputId": "382279f5-d796-4b36-a5c7-f6304136b5d1"
      },
      "source": [
        "train_history=model.fit(x=x_Train_normalize,y=y_TrainOneHot,validation_split=0.2,epochs=20,batch_size=200,verbose=2)\n",
        "show_train_history(train_history,'accuracy','val_accuracy')"
      ],
      "execution_count": null,
      "outputs": [
        {
          "output_type": "stream",
          "text": [
            "Epoch 1/20\n",
            "240/240 - 5s - loss: 2.0613 - accuracy: 0.5686 - val_loss: 1.7545 - val_accuracy: 0.8627\n",
            "Epoch 2/20\n",
            "240/240 - 5s - loss: 1.6370 - accuracy: 0.5691 - val_loss: 1.3783 - val_accuracy: 0.9168\n",
            "Epoch 3/20\n",
            "240/240 - 5s - loss: 1.4488 - accuracy: 0.5676 - val_loss: 1.1567 - val_accuracy: 0.9285\n",
            "Epoch 4/20\n",
            "240/240 - 5s - loss: 1.3653 - accuracy: 0.5804 - val_loss: 1.0237 - val_accuracy: 0.9315\n",
            "Epoch 5/20\n",
            "240/240 - 5s - loss: 1.2858 - accuracy: 0.6106 - val_loss: 0.9169 - val_accuracy: 0.9314\n",
            "Epoch 6/20\n",
            "240/240 - 5s - loss: 1.2143 - accuracy: 0.6278 - val_loss: 0.8195 - val_accuracy: 0.9293\n",
            "Epoch 7/20\n",
            "240/240 - 5s - loss: 1.1552 - accuracy: 0.6370 - val_loss: 0.7338 - val_accuracy: 0.9302\n",
            "Epoch 8/20\n",
            "240/240 - 5s - loss: 1.1018 - accuracy: 0.6459 - val_loss: 0.6671 - val_accuracy: 0.9317\n",
            "Epoch 9/20\n",
            "240/240 - 5s - loss: 1.0745 - accuracy: 0.6706 - val_loss: 0.6169 - val_accuracy: 0.9326\n",
            "Epoch 10/20\n",
            "240/240 - 5s - loss: 1.0472 - accuracy: 0.6770 - val_loss: 0.5813 - val_accuracy: 0.9333\n",
            "Epoch 11/20\n",
            "240/240 - 5s - loss: 1.0107 - accuracy: 0.6823 - val_loss: 0.5349 - val_accuracy: 0.9346\n",
            "Epoch 12/20\n",
            "240/240 - 5s - loss: 0.9859 - accuracy: 0.6864 - val_loss: 0.4975 - val_accuracy: 0.9347\n",
            "Epoch 13/20\n",
            "240/240 - 5s - loss: 0.9560 - accuracy: 0.6971 - val_loss: 0.4622 - val_accuracy: 0.9361\n",
            "Epoch 14/20\n",
            "240/240 - 5s - loss: 0.9438 - accuracy: 0.6985 - val_loss: 0.4440 - val_accuracy: 0.9352\n",
            "Epoch 15/20\n",
            "240/240 - 5s - loss: 0.9099 - accuracy: 0.7086 - val_loss: 0.4192 - val_accuracy: 0.9362\n",
            "Epoch 16/20\n",
            "240/240 - 5s - loss: 0.9005 - accuracy: 0.7125 - val_loss: 0.3998 - val_accuracy: 0.9385\n",
            "Epoch 17/20\n",
            "240/240 - 5s - loss: 0.8907 - accuracy: 0.7154 - val_loss: 0.3851 - val_accuracy: 0.9401\n",
            "Epoch 18/20\n",
            "240/240 - 5s - loss: 0.8796 - accuracy: 0.7167 - val_loss: 0.3711 - val_accuracy: 0.9399\n",
            "Epoch 19/20\n",
            "240/240 - 5s - loss: 0.8692 - accuracy: 0.7198 - val_loss: 0.3640 - val_accuracy: 0.9385\n",
            "Epoch 20/20\n",
            "240/240 - 5s - loss: 0.8579 - accuracy: 0.7214 - val_loss: 0.3500 - val_accuracy: 0.9392\n"
          ],
          "name": "stdout"
        },
        {
          "output_type": "display_data",
          "data": {
            "image/png": "[encoded data removed]",
            "text/plain": [
              "<Figure size 432x288 with 1 Axes>"
            ]
          },
          "metadata": {
            "tags": [],
            "needs_background": "light"
          }
        }
      ]
    },
    {
      "cell_type": "code",
      "metadata": {
        "colab": {
          "base_uri": "https://localhost:8080/"
        },
        "id": "Z4v_aRozizBI",
        "outputId": "05b28a4f-763d-4c85-c6b5-9717339406d8"
      },
      "source": [
        "scores=model.evaluate(x_Test_normalize,y_TestOneHot)\n",
        "print()\n",
        "print('accuracy',scores[1])"
      ],
      "execution_count": null,
      "outputs": [
        {
          "output_type": "stream",
          "text": [
            "313/313 [==============================] - 1s 3ms/step - loss: 0.3529 - accuracy: 0.9363\n",
            "\n",
            "accuracy 0.9362999796867371\n"
          ],
          "name": "stdout"
        }
      ]
    },
    {
      "cell_type": "markdown",
      "metadata": {
        "id": "ZR5Rn5Hni3u4"
      },
      "source": [
        "# 12.建立多層感知模型包含2 個隱藏層"
      ]
    },
    {
      "cell_type": "code",
      "metadata": {
        "colab": {
          "base_uri": "https://localhost:8080/",
          "height": 1000
        },
        "id": "M-M0ejs5i9WR",
        "outputId": "45c56909-9e80-48a6-a70a-16f9d19c41a0"
      },
      "source": [
        "model = Sequential()\n",
        "\n",
        "model(Dense(units=1000,input_dim=784,kernel_initializer='normal',activation='relu'))\n",
        "model.add(Dropout(0.5))\n",
        "\n",
        "model.add(Dense(units=1000,kernel_initializer='normal',activation='relu'))\n",
        "model.add(Dropout(0.5))\n",
        "\n",
        "model.add(Dense(units=10,kernel_initializer='normal',activation='softmax'))\n",
        "\n",
        "\n",
        "# 開始訓練\n",
        "model.compile(loss='categorical_crossentropy',optimizer='adam',metrics=['accuracy'])\n",
        "\n",
        "train_history=model.fit(x=x_Train_normalize,y=y_TrainOneHot,validation_split=0.2,epochs=20,batch_size=200,verbose=2)\n",
        "show_train_history(train_history,'accuracy','val_accuracy')\n",
        "\n",
        "scores=model.evaluate(x_Test_normalize,y_TestOneHot)\n",
        "print()\n",
        "print('accuracy',scores[1])\n",
        "\n",
        "print(model.summary())"
      ],
      "execution_count": null,
      "outputs": [
        {
          "output_type": "stream",
          "text": [
            "WARNING:tensorflow:Layers in a Sequential model should only have a single input tensor, but we receive a <class 'tensorflow.python.keras.layers.core.Dense'> input: <tensorflow.python.keras.layers.core.Dense object at 0x7f92c02ccc50>\n",
            "Consider rewriting this model with the Functional API.\n",
            "Epoch 1/20\n",
            "240/240 - 5s - loss: 0.5850 - accuracy: 0.8130 - val_loss: 0.2315 - val_accuracy: 0.9328\n",
            "Epoch 2/20\n",
            "240/240 - 5s - loss: 0.3419 - accuracy: 0.8956 - val_loss: 0.1558 - val_accuracy: 0.9568\n",
            "Epoch 3/20\n",
            "240/240 - 5s - loss: 0.2691 - accuracy: 0.9163 - val_loss: 0.1321 - val_accuracy: 0.9625\n",
            "Epoch 4/20\n",
            "240/240 - 5s - loss: 0.2266 - accuracy: 0.9286 - val_loss: 0.1179 - val_accuracy: 0.9641\n",
            "Epoch 5/20\n",
            "240/240 - 5s - loss: 0.2068 - accuracy: 0.9348 - val_loss: 0.1019 - val_accuracy: 0.9691\n",
            "Epoch 6/20\n",
            "240/240 - 5s - loss: 0.1895 - accuracy: 0.9397 - val_loss: 0.0965 - val_accuracy: 0.9707\n",
            "Epoch 7/20\n",
            "240/240 - 5s - loss: 0.1755 - accuracy: 0.9452 - val_loss: 0.0914 - val_accuracy: 0.9718\n",
            "Epoch 8/20\n",
            "240/240 - 5s - loss: 0.1627 - accuracy: 0.9482 - val_loss: 0.0875 - val_accuracy: 0.9732\n",
            "Epoch 9/20\n",
            "240/240 - 5s - loss: 0.1575 - accuracy: 0.9500 - val_loss: 0.0851 - val_accuracy: 0.9740\n",
            "Epoch 10/20\n",
            "240/240 - 5s - loss: 0.1487 - accuracy: 0.9524 - val_loss: 0.0826 - val_accuracy: 0.9753\n",
            "Epoch 11/20\n",
            "240/240 - 5s - loss: 0.1438 - accuracy: 0.9530 - val_loss: 0.0780 - val_accuracy: 0.9752\n",
            "Epoch 12/20\n",
            "240/240 - 5s - loss: 0.1374 - accuracy: 0.9567 - val_loss: 0.0775 - val_accuracy: 0.9752\n",
            "Epoch 13/20\n",
            "240/240 - 5s - loss: 0.1338 - accuracy: 0.9567 - val_loss: 0.0720 - val_accuracy: 0.9763\n",
            "Epoch 14/20\n",
            "240/240 - 5s - loss: 0.1315 - accuracy: 0.9575 - val_loss: 0.0754 - val_accuracy: 0.9761\n",
            "Epoch 15/20\n",
            "240/240 - 5s - loss: 0.1260 - accuracy: 0.9589 - val_loss: 0.0726 - val_accuracy: 0.9780\n",
            "Epoch 16/20\n",
            "240/240 - 5s - loss: 0.1233 - accuracy: 0.9605 - val_loss: 0.0693 - val_accuracy: 0.9783\n",
            "Epoch 17/20\n",
            "240/240 - 5s - loss: 0.1189 - accuracy: 0.9614 - val_loss: 0.0699 - val_accuracy: 0.9787\n",
            "Epoch 18/20\n",
            "240/240 - 5s - loss: 0.1167 - accuracy: 0.9617 - val_loss: 0.0681 - val_accuracy: 0.9791\n",
            "Epoch 19/20\n",
            "240/240 - 5s - loss: 0.1114 - accuracy: 0.9632 - val_loss: 0.0659 - val_accuracy: 0.9810\n",
            "Epoch 20/20\n",
            "240/240 - 5s - loss: 0.1102 - accuracy: 0.9651 - val_loss: 0.0664 - val_accuracy: 0.9798\n"
          ],
          "name": "stdout"
        },
        {
          "output_type": "display_data",
          "data": {
            "image/png": "[encoded data removed]",
            "text/plain": [
              "<Figure size 432x288 with 1 Axes>"
            ]
          },
          "metadata": {
            "tags": [],
            "needs_background": "light"
          }
        },
        {
          "output_type": "stream",
          "text": [
            "313/313 [==============================] - 1s 3ms/step - loss: 0.0622 - accuracy: 0.9801\n",
            "\n",
            "accuracy 0.9800999760627747\n",
            "Model: \"sequential_7\"\n",
            "_________________________________________________________________\n",
            "Layer (type)                 Output Shape              Param #   \n",
            "=================================================================\n",
            "dropout_4 (Dropout)          multiple                  0         \n",
            "_________________________________________________________________\n",
            "dense_16 (Dense)             multiple                  785000    \n",
            "_________________________________________________________________\n",
            "dropout_5 (Dropout)          multiple                  0         \n",
            "_________________________________________________________________\n",
            "dense_17 (Dense)             multiple                  10010     \n",
            "=================================================================\n",
            "Total params: 795,010\n",
            "Trainable params: 795,010\n",
            "Non-trainable params: 0\n",
            "_________________________________________________________________\n",
            "None\n"
          ],
          "name": "stdout"
        }
      ]
    },
    {
      "cell_type": "markdown",
      "metadata": {
        "id": "C7OOUuPgDd4A"
      },
      "source": [
        "# 結論\n",
        "\n",
        "## 多層感知器 Multilayer perceptron 模型，辨識手寫字\n",
        "## 嘗試將模型加寬加深，加入 drop 以提高準確度，避免 overfitting\n",
        "## 但多層感知器有其極限，若要提高準確度，就要使用卷積神經網路 CNN\n",
        "\n"
      ]
    }
  ]
}