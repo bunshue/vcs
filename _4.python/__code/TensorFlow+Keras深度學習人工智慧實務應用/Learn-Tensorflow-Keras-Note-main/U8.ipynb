{
  "nbformat": 4,
  "nbformat_minor": 0,
  "metadata": {
    "colab": {
      "name": "U8.ipynb",
      "provenance": [],
      "authorship_tag": "ABX9TyMI4P8Xh1erXYq+o/xN58rU",
      "include_colab_link": true
    },
    "kernelspec": {
      "name": "python3",
      "display_name": "Python 3"
    }
  },
  "cells": [
    {
      "cell_type": "markdown",
      "metadata": {
        "id": "view-in-github",
        "colab_type": "text"
      },
      "source": [
        "<a href=\"https://colab.research.google.com/github/SYkkk55/Learn-Tensorflow-Keras-Note/blob/main/U8.ipynb\" target=\"_parent\"><img src=\"https://colab.research.google.com/assets/colab-badge.svg\" alt=\"Open In Colab\"/></a>"
      ]
    },
    {
      "cell_type": "markdown",
      "metadata": {
        "id": "VziBPcRmELwM"
      },
      "source": [
        "# CNN來了喔\n",
        "\n",
        "## 多層感知器VS CVV卷積神經網路\n",
        "## 最大的差異在 :\n",
        "## **CNN增加了卷積層、池化層、來處理提取特徵**\n",
        "---\n",
        "\n",
        "## CNN介紹 ，可以分成兩部分:\n",
        "## 1. 影像的特徵提取，透過卷積層、池化層 (擷取影像特徵很像是加入濾鏡的效果)\n",
        "## 2. 完全連結神經網路，包含平坦層、隱藏層、輸出層 \n",
        "----\n",
        "## 卷積層的意義\n",
        "## 將原本一個影像，經過卷積運算，產生多影像，像是照片卷積起來\n",
        "## 卷積算不改變原影像大小，卷積的效果很類似濾鏡效果，可以提取不同特徵，EX:邊緣、線條、和角\n",
        "---\n",
        "## 使用Max-pool 做下採樣(downsampling)\n",
        "## 有的好處是\n",
        "## 1.減少需處理的資料點\n",
        "## 2.讓影像位置差異變小\n",
        "## 3.參數的數量和計算量下降=>控制overfitting"
      ]
    },
    {
      "cell_type": "markdown",
      "metadata": {
        "id": "FwRPj7VmG20F"
      },
      "source": [
        "# 1.資料前處理\n",
        "## 這裡和之前多層感知器(MLP)的資料型態不同\n",
        "## 因為MLP 直接送進神經元處理 原本28*28的圖片把它壓扁成784\n",
        "## 但CNN必須要通過卷積跟池化所以要維持影像的維度，也就是28*28*1\n"
      ]
    },
    {
      "cell_type": "code",
      "metadata": {
        "id": "dDbw_NSYMu1m"
      },
      "source": [
        "from keras.datasets import mnist\n",
        "from keras.utils import np_utils\n",
        "import numpy as np \n",
        "np.random.seed(10)"
      ],
      "execution_count": null,
      "outputs": []
    },
    {
      "cell_type": "code",
      "metadata": {
        "id": "4mn5ZMqEM-iM"
      },
      "source": [
        "(x_Train,y_Train),(x_Test,y_Test)=mnist.load_data()"
      ],
      "execution_count": null,
      "outputs": []
    },
    {
      "cell_type": "code",
      "metadata": {
        "colab": {
          "base_uri": "https://localhost:8080/"
        },
        "id": "qatB7N8TNRmC",
        "outputId": "a928016d-7b88-4986-b8b0-5c05581aef38"
      },
      "source": [
        "print(x_Train.shape)"
      ],
      "execution_count": null,
      "outputs": [
        {
          "output_type": "stream",
          "text": [
            "(60000, 28, 28)\n"
          ],
          "name": "stdout"
        }
      ]
    },
    {
      "cell_type": "code",
      "metadata": {
        "colab": {
          "base_uri": "https://localhost:8080/"
        },
        "id": "QdjnYVOdNWoo",
        "outputId": "d2fc2071-30d9-4875-a6b4-9d2cfede7f09"
      },
      "source": [
        "# 將feature 轉換成4維度 ，也就是6000*28*28*1\n",
        "x_Train4D =x_Train.reshape(x_Train.shape[0],28,28,1).astype('float32')\n",
        "x_Test4D =x_Test.reshape(x_Test.shape[0],28,28,1).astype('float32')\n",
        "\n",
        "print(x_Train.shape)\n",
        "\n",
        "# 數值標準化\n",
        "x_Train4D_normalize=x_Train4D/255\n",
        "x_Test4D_normalize=x_Test4D/255\n",
        "\n",
        "# label 用one hot enconding 轉換\n",
        "y_TrainOneHot=np_utils.to_categorical(y_Train)\n",
        "y_TestOneHot=np_utils.to_categorical(y_Test)\n"
      ],
      "execution_count": null,
      "outputs": [
        {
          "output_type": "stream",
          "text": [
            "(60000, 28, 28)\n"
          ],
          "name": "stdout"
        }
      ]
    },
    {
      "cell_type": "markdown",
      "metadata": {
        "id": "xe_IcuhoOau3"
      },
      "source": [
        "# 2.建立模型"
      ]
    },
    {
      "cell_type": "code",
      "metadata": {
        "colab": {
          "base_uri": "https://localhost:8080/"
        },
        "id": "MY3NI7VbOZUX",
        "outputId": "7296f0fb-2b4a-466e-ed8f-0850e32582e0"
      },
      "source": [
        "from keras.models import Sequential\n",
        "from keras.layers import Dense,Dropout,Flatten,Conv2D,MaxPooling2D\n",
        "\n",
        "model = Sequential()\n",
        "\n",
        "# 建立卷積層1=>28*28大小，但是產生16個影像\n",
        "model.add(Conv2D(filters=16,kernel_size=(5,5),padding='same',input_shape=(28,28,1),activation='relu'))\n",
        "\n",
        "# 建立池化層1\n",
        "# 執行第一次降採樣，原本的28*28變成14*14=>16個14*14\n",
        "model.add(MaxPooling2D(pool_size=(2,2)))\n",
        "\n",
        "# 建立卷積層2=>將原本的16個影像轉換成36，大小還是14*14\n",
        "model.add(Conv2D(filters=36,kernel_size=(5,5),padding='same',activation='relu'))\n",
        "\n",
        "# 建立池化層2=>原本36個14*14變成，36個7*7\n",
        "model.add(MaxPooling2D(pool_size=(2,2)))\n",
        "\n",
        "# 加入dropout 避免 overfitting，這裡的0.25，是在每一次捨棄25%的神經元\n",
        "model.add(Dropout(0.25))\n",
        "\n",
        "# --------------------------------\n",
        "# 建立神經網路\n",
        "# 建立平坦層=>把他們壓扁，所以是36個*14*14=1764對應1764個神經元\n",
        "model.add(Flatten())\n",
        "\n",
        "# 建立隱藏層\n",
        "model.add(Dense(128,activation='relu'))\n",
        "\n",
        "# 捨棄50%神經元\n",
        "model.add(Dropout(0.5))\n",
        "\n",
        "# 建立輸出層\n",
        "model.add(Dense(10,activation='softmax'))\n",
        "\n",
        "print(model.summary())"
      ],
      "execution_count": null,
      "outputs": [
        {
          "output_type": "stream",
          "text": [
            "Model: \"sequential_3\"\n",
            "_________________________________________________________________\n",
            "Layer (type)                 Output Shape              Param #   \n",
            "=================================================================\n",
            "conv2d_5 (Conv2D)            (None, 28, 28, 16)        416       \n",
            "_________________________________________________________________\n",
            "max_pooling2d_4 (MaxPooling2 (None, 14, 14, 16)        0         \n",
            "_________________________________________________________________\n",
            "conv2d_6 (Conv2D)            (None, 14, 14, 36)        14436     \n",
            "_________________________________________________________________\n",
            "max_pooling2d_5 (MaxPooling2 (None, 7, 7, 36)          0         \n",
            "_________________________________________________________________\n",
            "dropout_3 (Dropout)          (None, 7, 7, 36)          0         \n",
            "_________________________________________________________________\n",
            "flatten_2 (Flatten)          (None, 1764)              0         \n",
            "_________________________________________________________________\n",
            "dense_3 (Dense)              (None, 128)               225920    \n",
            "_________________________________________________________________\n",
            "dropout_4 (Dropout)          (None, 128)               0         \n",
            "_________________________________________________________________\n",
            "dense_4 (Dense)              (None, 10)                1290      \n",
            "=================================================================\n",
            "Total params: 242,062\n",
            "Trainable params: 242,062\n",
            "Non-trainable params: 0\n",
            "_________________________________________________________________\n",
            "None\n"
          ],
          "name": "stdout"
        }
      ]
    },
    {
      "cell_type": "markdown",
      "metadata": {
        "id": "b684-h6aSMxI"
      },
      "source": [
        "# 3.訓練模型"
      ]
    },
    {
      "cell_type": "code",
      "metadata": {
        "colab": {
          "base_uri": "https://localhost:8080/"
        },
        "id": "l5f7OL-hRn9B",
        "outputId": "0430b81e-b883-4118-edab-ec67318aff59"
      },
      "source": [
        "model.compile(loss='categorical_crossentropy',optimizer='adam',metrics=['accuracy'])\n",
        "\n",
        "train_history=model.fit(x=x_Train4D_normalize,y=y_TrainOneHot,validation_split=0.2,epochs=10,batch_size=300,verbose=2)"
      ],
      "execution_count": null,
      "outputs": [
        {
          "output_type": "stream",
          "text": [
            "Epoch 1/10\n",
            "160/160 - 58s - loss: 0.4897 - accuracy: 0.8441 - val_loss: 0.1094 - val_accuracy: 0.9676\n",
            "Epoch 2/10\n",
            "160/160 - 53s - loss: 0.1460 - accuracy: 0.9559 - val_loss: 0.0733 - val_accuracy: 0.9771\n",
            "Epoch 3/10\n",
            "160/160 - 53s - loss: 0.1071 - accuracy: 0.9677 - val_loss: 0.0538 - val_accuracy: 0.9836\n",
            "Epoch 4/10\n",
            "160/160 - 53s - loss: 0.0852 - accuracy: 0.9743 - val_loss: 0.0489 - val_accuracy: 0.9848\n",
            "Epoch 5/10\n",
            "160/160 - 53s - loss: 0.0729 - accuracy: 0.9784 - val_loss: 0.0444 - val_accuracy: 0.9869\n",
            "Epoch 6/10\n",
            "160/160 - 53s - loss: 0.0633 - accuracy: 0.9812 - val_loss: 0.0387 - val_accuracy: 0.9880\n",
            "Epoch 7/10\n",
            "160/160 - 53s - loss: 0.0597 - accuracy: 0.9817 - val_loss: 0.0396 - val_accuracy: 0.9881\n",
            "Epoch 8/10\n",
            "160/160 - 53s - loss: 0.0516 - accuracy: 0.9841 - val_loss: 0.0352 - val_accuracy: 0.9894\n",
            "Epoch 9/10\n",
            "160/160 - 53s - loss: 0.0478 - accuracy: 0.9851 - val_loss: 0.0345 - val_accuracy: 0.9902\n",
            "Epoch 10/10\n",
            "160/160 - 53s - loss: 0.0434 - accuracy: 0.9868 - val_loss: 0.0330 - val_accuracy: 0.9900\n"
          ],
          "name": "stdout"
        }
      ]
    },
    {
      "cell_type": "code",
      "metadata": {
        "colab": {
          "base_uri": "https://localhost:8080/",
          "height": 573
        },
        "id": "KXUUxt8vS9Me",
        "outputId": "a0ffcc40-5310-476f-a9d1-178deafec566"
      },
      "source": [
        "import matplotlib.pyplot as plt\n",
        "\n",
        "def show_train_history(train_history,train,validation):\n",
        "\n",
        "  plt.plot(train_history.history[train])\n",
        "  plt.plot(train_history.history[validation])\n",
        "  plt.title('Train history')\n",
        "  plt.ylabel('train')\n",
        "  plt.xlabel('epoch')\n",
        "\n",
        "  # 設置圖例在左上角\n",
        "  plt.legend(['train','validation'],loc='upper left')\n",
        "  plt.show()\n",
        "\n",
        "show_train_history(train_history,'accuracy','val_accuracy')\n",
        "show_train_history(train_history,'loss','val_loss')"
      ],
      "execution_count": null,
      "outputs": [
        {
          "output_type": "display_data",
          "data": {
            "image/png": "[encoded data removed]",
            "text/plain": [
              "<Figure size 432x288 with 1 Axes>"
            ]
          },
          "metadata": {
            "tags": [],
            "needs_background": "light"
          }
        },
        {
          "output_type": "display_data",
          "data": {
            "image/png": "[encoded data removed]",
            "text/plain": [
              "<Figure size 432x288 with 1 Axes>"
            ]
          },
          "metadata": {
            "tags": [],
            "needs_background": "light"
          }
        }
      ]
    },
    {
      "cell_type": "markdown",
      "metadata": {
        "id": "p1kO3TMSWUXy"
      },
      "source": [
        "# 4.評估模型準確率"
      ]
    },
    {
      "cell_type": "code",
      "metadata": {
        "colab": {
          "base_uri": "https://localhost:8080/"
        },
        "id": "9algF7-XWUHr",
        "outputId": "8728fa79-3c64-4e9a-e58a-7d82e9be0692"
      },
      "source": [
        "scores=model.evaluate(x_Test4D_normalize,y_TestOneHot)\n",
        "print(scores[1])"
      ],
      "execution_count": null,
      "outputs": [
        {
          "output_type": "stream",
          "text": [
            "313/313 [==============================] - 5s 14ms/step - loss: 0.0261 - accuracy: 0.9906\n",
            "0.9905999898910522\n"
          ],
          "name": "stdout"
        }
      ]
    },
    {
      "cell_type": "markdown",
      "metadata": {
        "id": "VV5PFjspWrLX"
      },
      "source": [
        "# 5.執行預測"
      ]
    },
    {
      "cell_type": "code",
      "metadata": {
        "colab": {
          "base_uri": "https://localhost:8080/"
        },
        "id": "BfdgNTHaWq7i",
        "outputId": "4eada2de-e55b-43be-b31d-8a89b313a8a6"
      },
      "source": [
        "prediction=model.predict_classes(x_Test4D_normalize)\n",
        "prediction[:10]\n",
        "\n"
      ],
      "execution_count": null,
      "outputs": [
        {
          "output_type": "stream",
          "text": [
            "WARNING:tensorflow:From <ipython-input-25-511852ecaa9f>:1: Sequential.predict_classes (from tensorflow.python.keras.engine.sequential) is deprecated and will be removed after 2021-01-01.\n",
            "Instructions for updating:\n",
            "Please use instead:* `np.argmax(model.predict(x), axis=-1)`,   if your model does multi-class classification   (e.g. if it uses a `softmax` last-layer activation).* `(model.predict(x) > 0.5).astype(\"int32\")`,   if your model does binary classification   (e.g. if it uses a `sigmoid` last-layer activation).\n"
          ],
          "name": "stdout"
        }
      ]
    },
    {
      "cell_type": "code",
      "metadata": {
        "colab": {
          "base_uri": "https://localhost:8080/",
          "height": 321
        },
        "id": "WmzWkb6zVdE7",
        "outputId": "481d652b-34a9-4860-81b8-1cb9c176783d"
      },
      "source": [
        "def plot_images_labels_prediction(images,labels,prediction,idx,num=10): \n",
        "  \n",
        "  fig= plt.gcf()\n",
        "  fig.set_size_inches(12,14)\n",
        "\n",
        "\n",
        "  if num>25:num=25\n",
        "\n",
        "\n",
        "  for i in range(0,num):\n",
        "\n",
        "    ax=plt.subplot(5,5,i+1)\n",
        "    ax.imshow(images[idx],cmap='binary')\n",
        "    title=\"label=\" +str(labels[idx])\n",
        "\n",
        "    if len(prediction)>0:\n",
        "      title+=\",predict=\"+str(prediction[idx])\n",
        "\n",
        "    ax.set_title(title,fontsize=10)\n",
        "    ax.set_xticks([]);ax.set_yticks([])  \n",
        "    idx+=1\n",
        "  plt.show()  \n",
        "\n",
        "plot_images_labels_prediction(x_Test,y_Test,prediction,idx=0)  "
      ],
      "execution_count": null,
      "outputs": [
        {
          "output_type": "display_data",
          "data": {
            "image/png": "[encoded data removed]",
            "text/plain": [
              "<Figure size 864x1008 with 10 Axes>"
            ]
          },
          "metadata": {
            "tags": []
          }
        }
      ]
    },
    {
      "cell_type": "markdown",
      "metadata": {
        "id": "Yr6reaYhYrKL"
      },
      "source": [
        "# 6.混淆矩陣"
      ]
    },
    {
      "cell_type": "code",
      "metadata": {
        "colab": {
          "base_uri": "https://localhost:8080/",
          "height": 390
        },
        "id": "f9Y3aY5TYuyH",
        "outputId": "ec6db6aa-50bc-40ad-f5e0-6b3dbbe2e089"
      },
      "source": [
        "import pandas as pd\n",
        "pd.crosstab(y_Test,prediction,rownames=['label'],colnames=['predict'])"
      ],
      "execution_count": null,
      "outputs": [
        {
          "output_type": "execute_result",
          "data": {
            "text/html": [
              "<div>\n",
              "<style scoped>\n",
              "    .dataframe tbody tr th:only-of-type {\n",
              "        vertical-align: middle;\n",
              "    }\n",
              "\n",
              "    .dataframe tbody tr th {\n",
              "        vertical-align: top;\n",
              "    }\n",
              "\n",
              "    .dataframe thead th {\n",
              "        text-align: right;\n",
              "    }\n",
              "</style>\n",
              "<table border=\"1\" class=\"dataframe\">\n",
              "  <thead>\n",
              "    <tr style=\"text-align: right;\">\n",
              "      <th>predict</th>\n",
              "      <th>0</th>\n",
              "      <th>1</th>\n",
              "      <th>2</th>\n",
              "      <th>3</th>\n",
              "      <th>4</th>\n",
              "      <th>5</th>\n",
              "      <th>6</th>\n",
              "      <th>7</th>\n",
              "      <th>8</th>\n",
              "      <th>9</th>\n",
              "    </tr>\n",
              "    <tr>\n",
              "      <th>label</th>\n",
              "      <th></th>\n",
              "      <th></th>\n",
              "      <th></th>\n",
              "      <th></th>\n",
              "      <th></th>\n",
              "      <th></th>\n",
              "      <th></th>\n",
              "      <th></th>\n",
              "      <th></th>\n",
              "      <th></th>\n",
              "    </tr>\n",
              "  </thead>\n",
              "  <tbody>\n",
              "    <tr>\n",
              "      <th>0</th>\n",
              "      <td>977</td>\n",
              "      <td>0</td>\n",
              "      <td>0</td>\n",
              "      <td>0</td>\n",
              "      <td>0</td>\n",
              "      <td>1</td>\n",
              "      <td>0</td>\n",
              "      <td>1</td>\n",
              "      <td>1</td>\n",
              "      <td>0</td>\n",
              "    </tr>\n",
              "    <tr>\n",
              "      <th>1</th>\n",
              "      <td>0</td>\n",
              "      <td>1133</td>\n",
              "      <td>1</td>\n",
              "      <td>0</td>\n",
              "      <td>0</td>\n",
              "      <td>0</td>\n",
              "      <td>0</td>\n",
              "      <td>1</td>\n",
              "      <td>0</td>\n",
              "      <td>0</td>\n",
              "    </tr>\n",
              "    <tr>\n",
              "      <th>2</th>\n",
              "      <td>4</td>\n",
              "      <td>2</td>\n",
              "      <td>1020</td>\n",
              "      <td>0</td>\n",
              "      <td>1</td>\n",
              "      <td>0</td>\n",
              "      <td>0</td>\n",
              "      <td>5</td>\n",
              "      <td>0</td>\n",
              "      <td>0</td>\n",
              "    </tr>\n",
              "    <tr>\n",
              "      <th>3</th>\n",
              "      <td>0</td>\n",
              "      <td>0</td>\n",
              "      <td>0</td>\n",
              "      <td>997</td>\n",
              "      <td>0</td>\n",
              "      <td>7</td>\n",
              "      <td>0</td>\n",
              "      <td>1</td>\n",
              "      <td>2</td>\n",
              "      <td>3</td>\n",
              "    </tr>\n",
              "    <tr>\n",
              "      <th>4</th>\n",
              "      <td>0</td>\n",
              "      <td>0</td>\n",
              "      <td>0</td>\n",
              "      <td>0</td>\n",
              "      <td>975</td>\n",
              "      <td>0</td>\n",
              "      <td>0</td>\n",
              "      <td>0</td>\n",
              "      <td>0</td>\n",
              "      <td>7</td>\n",
              "    </tr>\n",
              "    <tr>\n",
              "      <th>5</th>\n",
              "      <td>2</td>\n",
              "      <td>0</td>\n",
              "      <td>0</td>\n",
              "      <td>3</td>\n",
              "      <td>0</td>\n",
              "      <td>885</td>\n",
              "      <td>2</td>\n",
              "      <td>0</td>\n",
              "      <td>0</td>\n",
              "      <td>0</td>\n",
              "    </tr>\n",
              "    <tr>\n",
              "      <th>6</th>\n",
              "      <td>4</td>\n",
              "      <td>2</td>\n",
              "      <td>0</td>\n",
              "      <td>1</td>\n",
              "      <td>2</td>\n",
              "      <td>3</td>\n",
              "      <td>945</td>\n",
              "      <td>0</td>\n",
              "      <td>1</td>\n",
              "      <td>0</td>\n",
              "    </tr>\n",
              "    <tr>\n",
              "      <th>7</th>\n",
              "      <td>0</td>\n",
              "      <td>4</td>\n",
              "      <td>2</td>\n",
              "      <td>0</td>\n",
              "      <td>0</td>\n",
              "      <td>0</td>\n",
              "      <td>0</td>\n",
              "      <td>1018</td>\n",
              "      <td>1</td>\n",
              "      <td>3</td>\n",
              "    </tr>\n",
              "    <tr>\n",
              "      <th>8</th>\n",
              "      <td>3</td>\n",
              "      <td>0</td>\n",
              "      <td>2</td>\n",
              "      <td>1</td>\n",
              "      <td>0</td>\n",
              "      <td>1</td>\n",
              "      <td>0</td>\n",
              "      <td>1</td>\n",
              "      <td>960</td>\n",
              "      <td>6</td>\n",
              "    </tr>\n",
              "    <tr>\n",
              "      <th>9</th>\n",
              "      <td>2</td>\n",
              "      <td>4</td>\n",
              "      <td>0</td>\n",
              "      <td>0</td>\n",
              "      <td>2</td>\n",
              "      <td>3</td>\n",
              "      <td>0</td>\n",
              "      <td>2</td>\n",
              "      <td>0</td>\n",
              "      <td>996</td>\n",
              "    </tr>\n",
              "  </tbody>\n",
              "</table>\n",
              "</div>"
            ],
            "text/plain": [
              "predict    0     1     2    3    4    5    6     7    8    9\n",
              "label                                                       \n",
              "0        977     0     0    0    0    1    0     1    1    0\n",
              "1          0  1133     1    0    0    0    0     1    0    0\n",
              "2          4     2  1020    0    1    0    0     5    0    0\n",
              "3          0     0     0  997    0    7    0     1    2    3\n",
              "4          0     0     0    0  975    0    0     0    0    7\n",
              "5          2     0     0    3    0  885    2     0    0    0\n",
              "6          4     2     0    1    2    3  945     0    1    0\n",
              "7          0     4     2    0    0    0    0  1018    1    3\n",
              "8          3     0     2    1    0    1    0     1  960    6\n",
              "9          2     4     0    0    2    3    0     2    0  996"
            ]
          },
          "metadata": {
            "tags": []
          },
          "execution_count": 30
        }
      ]
    }
  ]
}