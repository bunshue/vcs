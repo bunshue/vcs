{
 "cells": [
  {
   "cell_type": "markdown",
   "metadata": {},
   "source": [
    "# Simple Linear Regression with Tensorflow\n",
    "> In this post, it will cover Simple linear regression with tensorflow 2.x. Hypothesis and cost fuction will be also mentioned.\n",
    "\n",
    "- toc: true \n",
    "- badges: true\n",
    "- comments: true\n",
    "- author: Chanseok Kang\n",
    "- categories: [Python, Tensorflow]\n",
    "- image: images/linear_regression_epoch.png"
   ]
  },
  {
   "cell_type": "code",
   "execution_count": 8,
   "metadata": {},
   "outputs": [],
   "source": [
    "import tensorflow as tf\n",
    "import numpy as np\n",
    "import matplotlib.pyplot as plt"
   ]
  },
  {
   "cell_type": "markdown",
   "metadata": {},
   "source": [
    "## Hypothesis and cost function\n",
    "**Hypothesis** is a sort of function that expect to represent the pattern of given data. It is usually expressed with some linear equation, but in this post, it will cover the simple linear regression, so the hypothesis may be simple linear equation like this,\n",
    "\n",
    "$$ H(x) = W x + b $$\n",
    "\n",
    "Here, $x$ is the given data, and $W$ is weight vector, and $b$ is bias. So the output $H(x)$ is the form of product weight vector and given data, adding bias. The purpose of hypothesis is to clearly represent the actual output($y$) with this formula. To do this, hypothesis should be same as actual output.\n",
    "\n",
    " Maybe the simple hypothesis can be drawn as line on 2D-space. But as you know that, it is hard to clearly represent all the data with given hypothesis. There're must be the error between the output of hypothesis and actual output. Through this process, we should find the way to minimize the error between them.\n",
    " \n",
    " **Cost** is the error I mentioned. Usually, lots of data is given, so the cost can be expressed with the average of error. And as you notice that, hypothesis is related on weight vector($W$) and bias($b$), so the cost can be described as a function:\n",
    " \n",
    " $$ \\text{cost}(W, b) = {1 \\over m} \\sum_{i=1}^m (H(x_i) - y_i)^2 $$\n",
    " \n",
    " And there are lots of cost function in the world. The expression above is the **mean squared error**(MSE for short), cause we measure the error with **euclidean distance** ($(x-y)^2$). Maybe we can use the cost function with **mean absolute error**(MAE for short). Anyway, we'll use cost function with MSE.\n",
    " \n",
    "So, we need to find the best $W$ and $b$ for minimizing the cost function. The process we try to find this is called **learning** or **training**."
   ]
  },
  {
   "cell_type": "markdown",
   "metadata": {},
   "source": [
    "## Build Hypothesis and cost"
   ]
  },
  {
   "cell_type": "markdown",
   "metadata": {},
   "source": [
    "Let's consider the simple case. Suppose we have the dataset like this,"
   ]
  },
  {
   "cell_type": "code",
   "execution_count": 21,
   "metadata": {},
   "outputs": [],
   "source": [
    "x_data = [*range(0, 6)]\n",
    "y_data = [*range(0, 6)]"
   ]
  },
  {
   "cell_type": "markdown",
   "metadata": {},
   "source": [
    "As you can see without arithmatic, we know that the hypothesis maybe $y=x$, that is $W = 1$ and $b = 0$. If we initialize the weight and bias with different value, can we find the right answer through learning? In tensorflow, we can define the parameter and hypothesis."
   ]
  },
  {
   "cell_type": "code",
   "execution_count": 22,
   "metadata": {},
   "outputs": [
    {
     "data": {
      "text/plain": [
       "<tf.Tensor: shape=(6,), dtype=float32, numpy=array([ 0.1,  4.1,  8.1, 12.1, 16.1, 20.1], dtype=float32)>"
      ]
     },
     "execution_count": 22,
     "metadata": {},
     "output_type": "execute_result"
    }
   ],
   "source": [
    "W = tf.Variable(4.0)\n",
    "b = tf.Variable(0.1)\n",
    "\n",
    "h = W * x_data + b\n",
    "h"
   ]
  },
  {
   "cell_type": "markdown",
   "metadata": {},
   "source": [
    "It is definitely incorrect hypothesis. Our purpose is to find best paramter with cost function. So we need to define cost function. Tensorflow offers some APIs to calculate the arithmatic operation. Note that `reduce` in `reduce_mean` means that it can calculating the mean while the rank of given data is decreasing."
   ]
  },
  {
   "cell_type": "code",
   "execution_count": 23,
   "metadata": {},
   "outputs": [],
   "source": [
    "cost = tf.reduce_mean(tf.square(h - y_data))"
   ]
  },
  {
   "cell_type": "markdown",
   "metadata": {},
   "source": [
    "## Gradient descent\n",
    "Mentioned earlier, we need to find the $W$ and $b$ to minimize the cost function. Widely used algorithm to do this is **Gradient Descent**. This algorithm tends to find the global minimum (sometimes it finds local minimum) using the difference of gradient. If the gradient is 0, it assumes that the point may be the minimum. In tensorflow 2.x, Gradient Tape is used to calculate the gradient. "
   ]
  },
  {
   "cell_type": "code",
   "execution_count": 24,
   "metadata": {},
   "outputs": [
    {
     "name": "stdout",
     "output_type": "stream",
     "text": [
      "tf.Tensor(55.500004, shape=(), dtype=float32)\n"
     ]
    },
    {
     "data": {
      "text/plain": [
       "<tf.Variable 'UnreadVariable' shape=() dtype=float32, numpy=-0.05200001>"
      ]
     },
     "execution_count": 24,
     "metadata": {},
     "output_type": "execute_result"
    }
   ],
   "source": [
    "# Learning rate initialize\n",
    "learning_rate = 0.01\n",
    "\n",
    "# Store the history of gradient in tape\n",
    "with tf.GradientTape() as tape:\n",
    "    h = W * x_data + b\n",
    "    cost = tf.reduce_mean(tf.square(h - y_data))\n",
    "    \n",
    "# Calculate the gradient with tape\n",
    "W_grad, b_grad = tape.gradient(cost, [W, b])\n",
    "print(W_grad)\n",
    "\n",
    "# Update W and b\n",
    "W.assign_sub(learning_rate * W_grad)\n",
    "b.assign_sub(learning_rate * b_grad)"
   ]
  },
  {
   "cell_type": "markdown",
   "metadata": {},
   "source": [
    "Learning rate is the ratio of applying gradient difference. Ususally, it is initialized with small value(0.01). In the code, when the gradient is calculated, the original parameter is changed with gradient applying learning rate.\n",
    "\n",
    "This is example of learning in one step(also known as **epoch**). If we want to find more accurate $W$ and $b$, more learning step must be processed."
   ]
  },
  {
   "cell_type": "markdown",
   "metadata": {},
   "source": [
    "## Parameter update"
   ]
  },
  {
   "cell_type": "code",
   "execution_count": 25,
   "metadata": {},
   "outputs": [
    {
     "name": "stdout",
     "output_type": "stream",
     "text": [
      "    0 |      3.455 |     -0.248 |  81.010002\n",
      "  100 |      1.136 |    -0.4814 |   0.074779\n",
      "  200 |      1.075 |    -0.2661 |   0.022854\n",
      "  300 |      1.041 |    -0.1471 |   0.006985\n",
      "  400 |      1.023 |   -0.08133 |   0.002135\n",
      "  500 |      1.013 |   -0.04496 |   0.000652\n",
      "  600 |      1.007 |   -0.02486 |   0.000199\n",
      "  700 |      1.004 |   -0.01374 |   0.000061\n",
      "  800 |      1.002 |  -0.007597 |   0.000019\n",
      "  900 |      1.001 |    -0.0042 |   0.000006\n"
     ]
    }
   ],
   "source": [
    "# Initialize paramter \n",
    "W = tf.Variable(4.0)\n",
    "b = tf.Variable(-0.1)\n",
    "\n",
    "# Learning rate initialize\n",
    "learning_rate = 0.01\n",
    "\n",
    "for i in range(1000):\n",
    "    # Gradient descent\n",
    "    with tf.GradientTape() as tape:\n",
    "        h = W * x_data + b\n",
    "        cost = tf.reduce_mean(tf.square(h - y_data))\n",
    "    W_grad, b_grad = tape.gradient(cost, [W, b])\n",
    "    \n",
    "    W.assign_sub(learning_rate * W_grad)\n",
    "    b.assign_sub(learning_rate * b_grad)\n",
    "    \n",
    "    if i % 100 ==0:\n",
    "        print(\"{:5} | {:10.4} | {:10.4} | {:10.6f}\".format(i, W.numpy(), b.numpy(), cost))"
   ]
  },
  {
   "cell_type": "markdown",
   "metadata": {},
   "source": [
    "After 1000 epochs, $W$ gets 1.001, and $b$ gets -0.004. Let's visualize it."
   ]
  },
  {
   "cell_type": "code",
   "execution_count": 28,
   "metadata": {},
   "outputs": [
    {
     "data": {
      "image/png": "[encoded data removed]",
      "text/plain": [
       "<Figure size 1152x576 with 1 Axes>"
      ]
     },
     "metadata": {
      "needs_background": "light"
     },
     "output_type": "display_data"
    }
   ],
   "source": [
    "h_x = 4.0 * np.array(x_data) - 0.1\n",
    "h_xp = 1.001 * np.array(x_data) - 0.004\n",
    "plt.figure(figsize=(16, 8))\n",
    "plt.plot(h_x, c='red', label='epoch=1');\n",
    "plt.plot(h_xp, c='red', linestyle='--', label='epoch=900');\n",
    "plt.scatter(x_data, y_data);\n",
    "plt.title('i=0 (Epoch=1)');\n",
    "plt.legend();"
   ]
  },
  {
   "cell_type": "markdown",
   "metadata": {},
   "source": [
    "## Summary\n",
    "In this post, it is explained what the hypothesis and cost function are. And using Gradient Descent with several epochs, we can get optimal weight vector and bias for representing given data. "
   ]
  }
 ],
 "metadata": {
  "kernelspec": {
   "display_name": "Python 3",
   "language": "python",
   "name": "python3"
  },
  "language_info": {
   "codemirror_mode": {
    "name": "ipython",
    "version": 3
   },
   "file_extension": ".py",
   "mimetype": "text/x-python",
   "name": "python",
   "nbconvert_exporter": "python",
   "pygments_lexer": "ipython3",
   "version": "3.7.6"
  }
 },
 "nbformat": 4,
 "nbformat_minor": 4
}
