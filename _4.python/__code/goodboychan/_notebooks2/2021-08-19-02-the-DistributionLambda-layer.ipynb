{
 "cells": [
  {
   "cell_type": "markdown",
   "metadata": {},
   "source": [
    "# The DistributionLambda Layer\n",
    "\n",
    "> In this post, we will introduce the most direct way of incorporating distribution object into a deep learning model with distribution lambda layer. This is the summary of lecture \"Probabilistic Deep Learning with Tensorflow 2\" from Imperial College London.\n",
    "\n",
    "- toc: true \n",
    "- badges: true\n",
    "- comments: true\n",
    "- author: Chanseok Kang\n",
    "- categories: [Python, Coursera, Tensorflow_probability, ICL]\n",
    "- image: images/distributionlambda_layer.png"
   ]
  },
  {
   "cell_type": "markdown",
   "metadata": {},
   "source": [
    "## Packages"
   ]
  },
  {
   "cell_type": "code",
   "execution_count": 3,
   "metadata": {},
   "outputs": [],
   "source": [
    "import tensorflow as tf\n",
    "import tensorflow_probability as tfp\n",
    "\n",
    "import numpy as np\n",
    "import matplotlib.pyplot as plt\n",
    "\n",
    "tfd = tfp.distributions\n",
    "tfpl = tfp.layers\n",
    "\n",
    "plt.rcParams['figure.figsize'] = (10, 6)"
   ]
  },
  {
   "cell_type": "code",
   "execution_count": 7,
   "metadata": {},
   "outputs": [],
   "source": [
    "from tensorflow.keras.models import Sequential\n",
    "from tensorflow.keras.layers import Dense\n",
    "from tensorflow.keras.optimizers import RMSprop"
   ]
  },
  {
   "cell_type": "code",
   "execution_count": 2,
   "metadata": {},
   "outputs": [
    {
     "name": "stdout",
     "output_type": "stream",
     "text": [
      "Tensorflow Version:  2.5.0\n",
      "Tensorflow Probability Version:  0.13.0\n"
     ]
    }
   ],
   "source": [
    "print(\"Tensorflow Version: \", tf.__version__)\n",
    "print(\"Tensorflow Probability Version: \", tfp.__version__)"
   ]
  },
  {
   "cell_type": "markdown",
   "metadata": {},
   "source": [
    "## Overview"
   ]
  },
  {
   "cell_type": "markdown",
   "metadata": {},
   "source": [
    "### Linear model with Sequential API"
   ]
  },
  {
   "cell_type": "markdown",
   "metadata": {},
   "source": [
    "```python\n",
    "from tensorflow.keras.models import Sequential\n",
    "from tensorflow.keras.layers import Dense\n",
    "\n",
    "model = Sequential([\n",
    "    Dense(1, input_shape=(2, ))\n",
    "])\n",
    "\n",
    "model.compile(loss='mse', optimizer='rmsprop')\n",
    "model.fit(X_train, y_train, epochs=10)\n",
    "\n",
    "# y = <x, w> + b + eps\n",
    "# eps ~ N(0, sigma^2)\n",
    "\n",
    "# Likelihood\n",
    "# theta = (w, b)\n",
    "# theta^* = argmax_{theta} P(D | theta)\n",
    "```"
   ]
  },
  {
   "cell_type": "markdown",
   "metadata": {},
   "source": [
    "### DistributionLambda Layer in Linear Model"
   ]
  },
  {
   "cell_type": "markdown",
   "metadata": {},
   "source": [
    "```python\n",
    "import tensorflow_probability as tfp\n",
    "tfd = tfp.distributions\n",
    "tfpl = tfp.layers\n",
    "\n",
    "model = Sequential([\n",
    "    Dense(1, input_shape=(2, )),\n",
    "    # Final layer includes normal distribution\n",
    "    # Form is a sort of Lambda function, that can give the output as a mean\n",
    "    # in this case, output tensor is go through normal distribution\n",
    "    # And normal distriubiton is trainable\n",
    "    tfpl.DistributionLambda(\n",
    "        lambda t: tfd.Normal(loc=t, scale=1)\n",
    "    )\n",
    "])\n",
    "```"
   ]
  },
  {
   "cell_type": "markdown",
   "metadata": {},
   "source": [
    "### Loss function for Distritubion Object\n",
    "Negative Log-Likelihood Loss function\n",
    "```python\n",
    "def nll(y_true, y_pred):\n",
    "    # Since y_pred is distribution object, we can call log_prob for sample data\n",
    "    return -y_pred.log_prob(y_true)\n",
    "```"
   ]
  },
  {
   "cell_type": "markdown",
   "metadata": {},
   "source": [
    "### Converting Tensor function\n",
    "In this case, output will be tensor object, not distribution object.\n",
    "```python\n",
    "model = Sequential([\n",
    "    Dense(1, input_shape=(2, )),\n",
    "    tfpl.DistributionLambda(\n",
    "        lambda t:tfd.Normal(loc=t, scale=1),\n",
    "        convert_to_tensor_fn=tfd.Distribution.sample\n",
    "    )\n",
    "])\n",
    "# tfd.Distribution.mean\n",
    "# tfd.Distribution.mode\n",
    "```"
   ]
  },
  {
   "cell_type": "markdown",
   "metadata": {},
   "source": [
    "### Example"
   ]
  },
  {
   "cell_type": "code",
   "execution_count": 4,
   "metadata": {},
   "outputs": [],
   "source": [
    "model = tf.keras.Sequential([\n",
    "    tf.keras.layers.Dense(8, input_shape=(12, )),\n",
    "    tfpl.DistributionLambda(lambda t: tfd.Bernoulli(logits=t))\n",
    "])"
   ]
  },
  {
   "cell_type": "code",
   "execution_count": 5,
   "metadata": {},
   "outputs": [
    {
     "data": {
      "text/plain": [
       "<tf.Tensor: shape=(5, 3, 8), dtype=int32, numpy=\n",
       "array([[[0, 0, 0, 1, 1, 1, 1, 0],\n",
       "        [0, 0, 0, 1, 1, 1, 1, 0],\n",
       "        [0, 0, 0, 1, 1, 1, 1, 1]],\n",
       "\n",
       "       [[0, 0, 0, 1, 0, 1, 1, 0],\n",
       "        [0, 0, 0, 1, 0, 1, 1, 1],\n",
       "        [1, 0, 0, 1, 0, 1, 1, 0]],\n",
       "\n",
       "       [[0, 0, 0, 1, 0, 0, 1, 1],\n",
       "        [1, 0, 0, 0, 1, 1, 0, 0],\n",
       "        [0, 0, 0, 0, 0, 1, 1, 0]],\n",
       "\n",
       "       [[1, 0, 0, 1, 1, 1, 0, 1],\n",
       "        [0, 0, 0, 1, 1, 1, 0, 1],\n",
       "        [0, 0, 0, 1, 1, 1, 1, 1]],\n",
       "\n",
       "       [[1, 1, 0, 0, 1, 1, 0, 0],\n",
       "        [1, 1, 0, 1, 1, 1, 1, 0],\n",
       "        [0, 0, 0, 1, 1, 1, 1, 0]]], dtype=int32)>"
      ]
     },
     "execution_count": 5,
     "metadata": {},
     "output_type": "execute_result"
    }
   ],
   "source": [
    "model(np.ones((3, 12), dtype=np.float32)).sample(5)"
   ]
  },
  {
   "cell_type": "markdown",
   "metadata": {},
   "source": [
    "Its input layer has 8 nodes and passes through the distributionLambda layer. So its event_shape has 8. And input data is entered as 3 batches. We generate 5 samples. As a result, the output tensor shape will be `(5, 3, 8)`."
   ]
  },
  {
   "cell_type": "code",
   "execution_count": 6,
   "metadata": {},
   "outputs": [
    {
     "name": "stdout",
     "output_type": "stream",
     "text": [
      "Model: \"sequential\"\n",
      "_________________________________________________________________\n",
      "Layer (type)                 Output Shape              Param #   \n",
      "=================================================================\n",
      "dense (Dense)                (None, 8)                 104       \n",
      "_________________________________________________________________\n",
      "distribution_lambda (Distrib multiple                  0         \n",
      "=================================================================\n",
      "Total params: 104\n",
      "Trainable params: 104\n",
      "Non-trainable params: 0\n",
      "_________________________________________________________________\n"
     ]
    }
   ],
   "source": [
    "model.summary()"
   ]
  },
  {
   "cell_type": "markdown",
   "metadata": {},
   "source": [
    "## Tutorial "
   ]
  },
  {
   "cell_type": "markdown",
   "metadata": {},
   "source": [
    "### Create a probabilistic model using the `DistributionLambda` layer\n",
    "\n",
    "Create a model whose first layer represents:\n",
    "\n",
    "$$\n",
    "y = \\text{sigmoid}(x) = \\frac{1}{1 + \\exp(-x)}.\n",
    "$$"
   ]
  },
  {
   "cell_type": "code",
   "execution_count": 20,
   "metadata": {},
   "outputs": [],
   "source": [
    "# Create a sigmoid model, first deterministic, then probabilistic\n",
    "\n",
    "model = Sequential([\n",
    "    Dense(units=1, input_shape=(1, ), activation='sigmoid',\n",
    "          kernel_initializer=tf.constant_initializer(1),\n",
    "          bias_initializer=tf.constant_initializer(0))\n",
    "], name='deterministic_sigmoid_model')"
   ]
  },
  {
   "cell_type": "code",
   "execution_count": 21,
   "metadata": {},
   "outputs": [
    {
     "name": "stdout",
     "output_type": "stream",
     "text": [
      "Model: \"deterministic_sigmoid_model\"\n",
      "_________________________________________________________________\n",
      "Layer (type)                 Output Shape              Param #   \n",
      "=================================================================\n",
      "dense_4 (Dense)              (None, 1)                 2         \n",
      "=================================================================\n",
      "Total params: 2\n",
      "Trainable params: 2\n",
      "Non-trainable params: 0\n",
      "_________________________________________________________________\n"
     ]
    }
   ],
   "source": [
    "model.summary()"
   ]
  },
  {
   "cell_type": "code",
   "execution_count": 22,
   "metadata": {},
   "outputs": [
    {
     "data": {
      "image/png": "[encoded data removed]",
      "text/plain": [
       "<Figure size 720x432 with 1 Axes>"
      ]
     },
     "metadata": {
      "needs_background": "light"
     },
     "output_type": "display_data"
    }
   ],
   "source": [
    "# Plot the deterministic model\n",
    "X = np.linspace(-5, 5, 100)\n",
    "plt.scatter(X, model.predict(X), alpha=0.4)\n",
    "plt.plot(X, 1 / (1 + np.exp(-X)), color='r', alpha=0.8)\n",
    "plt.title('Deterministic Sigmoid function')\n",
    "plt.show()"
   ]
  },
  {
   "cell_type": "code",
   "execution_count": 17,
   "metadata": {},
   "outputs": [
    {
     "data": {
      "text/plain": [
       "array([[0]])"
      ]
     },
     "execution_count": 17,
     "metadata": {},
     "output_type": "execute_result"
    }
   ],
   "source": [
    "# Create a constant input for this model\n",
    "x = np.array([[0]])\n",
    "x"
   ]
  },
  {
   "cell_type": "code",
   "execution_count": 18,
   "metadata": {},
   "outputs": [
    {
     "data": {
      "text/plain": [
       "<tf.Tensor: shape=(1, 1), dtype=float32, numpy=array([[0.5]], dtype=float32)>"
      ]
     },
     "execution_count": 18,
     "metadata": {},
     "output_type": "execute_result"
    }
   ],
   "source": [
    "# Explore the feedforward object\n",
    "y = model(x)\n",
    "y"
   ]
  },
  {
   "cell_type": "code",
   "execution_count": 19,
   "metadata": {},
   "outputs": [
    {
     "name": "stdout",
     "output_type": "stream",
     "text": [
      "[[0.5]]\n",
      "[[0.5]]\n",
      "[[0.5]]\n",
      "[[0.5]]\n",
      "[[0.5]]\n"
     ]
    }
   ],
   "source": [
    "# ... and its behavior under repeated calls\n",
    "for _ in range(5):\n",
    "    print(model.predict(x))"
   ]
  },
  {
   "cell_type": "code",
   "execution_count": 23,
   "metadata": {},
   "outputs": [
    {
     "name": "stdout",
     "output_type": "stream",
     "text": [
      "Model: \"probabilistic_sigmoid_model\"\n",
      "_________________________________________________________________\n",
      "Layer (type)                 Output Shape              Param #   \n",
      "=================================================================\n",
      "dense_5 (Dense)              (None, 1)                 2         \n",
      "_________________________________________________________________\n",
      "distribution_lambda_1 (Distr multiple                  0         \n",
      "=================================================================\n",
      "Total params: 2\n",
      "Trainable params: 2\n",
      "Non-trainable params: 0\n",
      "_________________________________________________________________\n"
     ]
    }
   ],
   "source": [
    "model = Sequential([\n",
    "    Dense(units=1, input_shape=(1, ), activation='sigmoid',\n",
    "          kernel_initializer=tf.constant_initializer(1),\n",
    "          bias_initializer=tf.constant_initializer(0)),\n",
    "    tfpl.DistributionLambda(lambda t: tfd.Bernoulli(probs=t),\n",
    "                            convert_to_tensor_fn=tfd.Distribution.sample)\n",
    "], name='probabilistic_sigmoid_model')\n",
    "\n",
    "model.summary()"
   ]
  },
  {
   "cell_type": "code",
   "execution_count": 24,
   "metadata": {},
   "outputs": [
    {
     "data": {
      "image/png": "[encoded data removed]",
      "text/plain": [
       "<Figure size 720x432 with 1 Axes>"
      ]
     },
     "metadata": {
      "needs_background": "light"
     },
     "output_type": "display_data"
    }
   ],
   "source": [
    "# Plot the probabilistic model\n",
    "X = np.linspace(-5, 5, 100)\n",
    "plt.scatter(X, model.predict(X), alpha=0.4)\n",
    "plt.plot(X, 1 / (1 + np.exp(-X)), color='r', alpha=0.8)\n",
    "plt.title('Probabilistic Sigmoid function')\n",
    "plt.show()"
   ]
  },
  {
   "cell_type": "code",
   "execution_count": 25,
   "metadata": {},
   "outputs": [
    {
     "data": {
      "text/plain": [
       "array([[0]])"
      ]
     },
     "execution_count": 25,
     "metadata": {},
     "output_type": "execute_result"
    }
   ],
   "source": [
    "# Create a constant input for this model\n",
    "x = np.array([[0]])\n",
    "x"
   ]
  },
  {
   "cell_type": "code",
   "execution_count": 26,
   "metadata": {},
   "outputs": [
    {
     "data": {
      "text/plain": [
       "<tfp.distributions.Bernoulli 'probabilistic_sigmoid_model_distribution_lambda_1_Bernoulli' batch_shape=[1, 1] event_shape=[] dtype=int32>"
      ]
     },
     "execution_count": 26,
     "metadata": {},
     "output_type": "execute_result"
    }
   ],
   "source": [
    "# Explore the feedforward object\n",
    "y = model(x)\n",
    "y"
   ]
  },
  {
   "cell_type": "code",
   "execution_count": 27,
   "metadata": {},
   "outputs": [
    {
     "name": "stdout",
     "output_type": "stream",
     "text": [
      "[[0]]\n",
      "[[0]]\n",
      "[[1]]\n",
      "[[0]]\n",
      "[[1]]\n"
     ]
    }
   ],
   "source": [
    "# ... and its behavior under repeated calls\n",
    "for _ in range(5):\n",
    "    print(model.predict(x))"
   ]
  },
  {
   "cell_type": "markdown",
   "metadata": {},
   "source": [
    "### Use the forward model to create probabilistic training data"
   ]
  },
  {
   "cell_type": "code",
   "execution_count": 28,
   "metadata": {},
   "outputs": [],
   "source": [
    "# Use the model to create 500 training points\n",
    "X_train = np.linspace(-5, 5, 500)[:, np.newaxis]\n",
    "y_train = model.predict(X_train)"
   ]
  },
  {
   "cell_type": "code",
   "execution_count": 29,
   "metadata": {},
   "outputs": [
    {
     "data": {
      "image/png": "[encoded data removed]",
      "text/plain": [
       "<Figure size 720x432 with 1 Axes>"
      ]
     },
     "metadata": {
      "needs_background": "light"
     },
     "output_type": "display_data"
    }
   ],
   "source": [
    "# Plot the data and the mean of the distribution\n",
    "plt.scatter(X_train, y_train, alpha=0.04, color='blue', label='samples')\n",
    "plt.plot(X_train, model(X_train).mean().numpy().flatten(), color='red', alpha=0.8, label='mean')\n",
    "plt.legend(loc='best')\n",
    "plt.show()"
   ]
  },
  {
   "cell_type": "markdown",
   "metadata": {},
   "source": [
    "### Create a new probabilistic model with the wrong weights"
   ]
  },
  {
   "cell_type": "code",
   "execution_count": 30,
   "metadata": {},
   "outputs": [
    {
     "name": "stdout",
     "output_type": "stream",
     "text": [
      "Model: \"probabilistic_sigmoid_model\"\n",
      "_________________________________________________________________\n",
      "Layer (type)                 Output Shape              Param #   \n",
      "=================================================================\n",
      "dense_5 (Dense)              (None, 1)                 2         \n",
      "_________________________________________________________________\n",
      "distribution_lambda_1 (Distr multiple                  0         \n",
      "=================================================================\n",
      "Total params: 2\n",
      "Trainable params: 2\n",
      "Non-trainable params: 0\n",
      "_________________________________________________________________\n"
     ]
    }
   ],
   "source": [
    "model_untrained = Sequential([\n",
    "    Dense(units=1, input_shape=(1, ), activation='sigmoid',\n",
    "          kernel_initializer=tf.constant_initializer(2),\n",
    "          bias_initializer=tf.constant_initializer(2)),\n",
    "    tfpl.DistributionLambda(lambda t:tfd.Bernoulli(probs=t),\n",
    "                            convert_to_tensor_fn=tfd.Distribution.sample)\n",
    "], name='wrong_probabilistic_model')\n",
    "\n",
    "model.summary()"
   ]
  },
  {
   "cell_type": "markdown",
   "metadata": {},
   "source": [
    "### Train the new model with the negative log likelihoood"
   ]
  },
  {
   "cell_type": "code",
   "execution_count": 31,
   "metadata": {},
   "outputs": [],
   "source": [
    "# Define negative log likelihood,\n",
    "def nll(y_true, y_pred):\n",
    "    return -y_pred.log_prob(y_true)"
   ]
  },
  {
   "cell_type": "code",
   "execution_count": 32,
   "metadata": {},
   "outputs": [],
   "source": [
    "# Compile untrained model\n",
    "\n",
    "model_untrained.compile(loss=nll, optimizer=RMSprop(learning_rate=1e-2))"
   ]
  },
  {
   "cell_type": "code",
   "execution_count": 33,
   "metadata": {},
   "outputs": [],
   "source": [
    "# Train the model, record weights after each epoch\n",
    "epochs = [0]\n",
    "training_weights = [model_untrained.weights[0].numpy()[0, 0]]\n",
    "training_bias = [model_untrained.weights[1].numpy()[0]]\n",
    "\n",
    "for e in range(100):\n",
    "    model_untrained.fit(X_train, y_train, epochs=1, verbose=False)\n",
    "    epochs.append(e)\n",
    "    \n",
    "    training_weights.append(model_untrained.weights[0].numpy()[0, 0])\n",
    "    training_bias.append(model_untrained.weights[1].numpy()[0])"
   ]
  },
  {
   "cell_type": "code",
   "execution_count": 34,
   "metadata": {},
   "outputs": [
    {
     "data": {
      "image/png": "[encoded data removed]",
      "text/plain": [
       "<Figure size 720x432 with 1 Axes>"
      ]
     },
     "metadata": {
      "needs_background": "light"
     },
     "output_type": "display_data"
    }
   ],
   "source": [
    "# Plot the model weights as they train, converging to the correct values\n",
    "\n",
    "plt.plot(epochs, training_weights, label='weight')\n",
    "plt.plot(epochs, training_bias, label='bias')\n",
    "plt.axhline(y=1, label='true_weight', color='k', linestyle=':')\n",
    "plt.axhline(y=0, label='true_bias', color='k', linestyle='--')\n",
    "plt.xlabel('Epoch')\n",
    "plt.legend(loc='best')\n",
    "plt.show()"
   ]
  },
  {
   "cell_type": "markdown",
   "metadata": {},
   "source": [
    "This make sense that the training data is not perfect. It contains some errors itself. This kind of uncertainty is called [epistemic uncertainty](https://en.wikipedia.org/wiki/Uncertainty_quantification#Aleatoric_and_epistemic_uncertainty). We will cover it in later notebook."
   ]
  }
 ],
 "metadata": {
  "kernelspec": {
   "display_name": "Python 3",
   "language": "python",
   "name": "python3"
  },
  "language_info": {
   "codemirror_mode": {
    "name": "ipython",
    "version": 3
   },
   "file_extension": ".py",
   "mimetype": "text/x-python",
   "name": "python",
   "nbconvert_exporter": "python",
   "pygments_lexer": "ipython3",
   "version": "3.7.10"
  }
 },
 "nbformat": 4,
 "nbformat_minor": 4
}
