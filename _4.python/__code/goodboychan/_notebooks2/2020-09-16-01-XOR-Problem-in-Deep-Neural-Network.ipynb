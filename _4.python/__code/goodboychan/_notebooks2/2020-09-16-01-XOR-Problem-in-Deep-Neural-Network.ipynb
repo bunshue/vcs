{
 "cells": [
  {
   "cell_type": "markdown",
   "metadata": {},
   "source": [
    "# XOR Problem in Deep Neural Network\n",
    "> In this post, it will be mentioned about Basic Concept of Deep Neural Network, and covered XOR problems with Deep Neural Network.\n",
    "\n",
    "- toc: true \n",
    "- badges: true\n",
    "- comments: true\n",
    "- author: Chanseok Kang\n",
    "- categories: [Python, Deep_Learning]\n",
    "- image: images/linearly_separable_xor.png"
   ]
  },
  {
   "cell_type": "code",
   "execution_count": 1,
   "metadata": {},
   "outputs": [],
   "source": [
    "import tensorflow as tf\n",
    "import numpy as np\n",
    "import matplotlib.pyplot as plt\n",
    "import pandas as pd\n",
    "\n",
    "plt.rcParams['figure.figsize'] = (16, 10)\n",
    "plt.rcParams['text.usetex'] = True\n",
    "plt.rc('font', size=15)"
   ]
  },
  {
   "cell_type": "markdown",
   "metadata": {},
   "source": [
    "## Linearly Separable\n",
    "Neurons, one of the basic elements in Neural Network are very similar with its in biology. When the input or signal is entered into synapse, cell nucleus interprets the information contained in signals and generates the output through Axon. similiarily, almost same operation happens in neurons in Neural Network. When the other axon sends the output, that is the input of next neurons ($x$), cell body interprets its information with embedded weight vector and bias($W, b$). Then, activation function filters information and send it to next neuron.\n",
    "\n",
    "Actually, we already cover the concepts, and its implementation with tensorflow. But let's review the basic problem with simple examples.\n",
    " If your major is from EECS, you may heard about Logic Gates. Basic logic is AND and OR gates and have a following properties,\n",
    " \n",
    " - AND\n",
    " \n",
    "| $x_1$   \t| $x_2$  \t| $y$  \t|\n",
    "|---\t|---\t|---\t|\n",
    "| 0  \t| 0  \t| 0  \t|\n",
    "| 0  \t| 1  \t| 0  \t|\n",
    "| 1  \t| 0  \t| 0  \t|\n",
    "| 1  \t| 1  \t| 1  \t|\n",
    "\n",
    "\n",
    "- OR\n",
    "\n",
    "| $x_1$   \t| $x_2$  \t| $y$  \t|\n",
    "|---\t|---\t|---\t|\n",
    "| 0  \t| 0  \t| 0  \t|\n",
    "| 0  \t| 1  \t| 1  \t|\n",
    "| 1  \t| 0  \t| 1  \t|\n",
    "| 1  \t| 1  \t| 1  \t|\n",
    "\n",
    "And we can draw the graph of AND/OR like this,\n",
    "\n",
    "![linearly_separable_and_or](image/linearly_separable_and_or.png)\n",
    "\n",
    "Note that, black one is 1, white one is 0. Then if we want to separate it by two, we can easily do it by drawing the straight line, In this case, if we can separate the given data by drawing the line, we can call **\"the linearly separable\"**. But how about XOR case? (also known as eXclusive OR)\n",
    "\n",
    "- XOR\n",
    "\n",
    "| $x_1$   \t| $x_2$  \t| $y$  \t|\n",
    "|---\t|---\t|---\t|\n",
    "| 0  \t| 0  \t| 0  \t|\n",
    "| 0  \t| 1  \t| 1  \t|\n",
    "| 1  \t| 0  \t| 1  \t|\n",
    "| 1  \t| 1  \t| 0  \t|\n",
    "\n",
    "And the plot is like this,\n",
    "\n",
    "![linearly_separable_xor](image/linearly_separable_xor.png)\n",
    "\n",
    "Can we separate it with same manner in linearly separable? Maybe you cannot. In this kind of **Non-linearly separable** data cannot be separated by the linear equation. \n",
    "\n",
    "For this purpose, [Marvin Minsky](https://en.wikipedia.org/wiki/Marvin_Minsky), the co-founder of the MIT AI Lab, proved that Machine Learning tools cannot solve the Non-linearly separable case through his book \"perceptrons\". Instead, the book said that it could be solved with the hierachical architecture of Multiple perceptrons, so called **Multi-Layered Perceptron**(MLP for short). But in that time, there was no concepts for training, such as updating weights and bias, and optimization methods, and so on. So most of one thought that it is impossible to train the network."
   ]
  },
  {
   "cell_type": "markdown",
   "metadata": {},
   "source": [
    "## Backpropagation\n",
    "In 1970, [Paul Werbos](https://en.wikipedia.org/wiki/Paul_Werbos) describes the **backpropagation** in his dissertation. And it helps to handle the problem mentioned previously.\n",
    "\n",
    "![backpropagation](image/training_inference1.png)[^1]\n",
    "\n",
    "Backpropagation is one of approaches to update weights using error. When the input is coming into the input layer, the process is executed with forward direction and gets inference. There maybe some errors comparing inferenced output and actual output, Based on this error, the process is excuted with backward direction for the weight update. Then updated weight is used in next step. \n",
    "\n",
    "This approach is re-discovered by [Geoffrey Hinton](https://en.wikipedia.org/wiki/Geoffrey_Hinton) in mid-80's."
   ]
  },
  {
   "cell_type": "markdown",
   "metadata": {},
   "source": [
    "## Convolutional Neural Networks\n",
    "In other case, there is another approach to handle non-linearly separable problem, especially on visual data. Someone found out that there is some general patterns of cell operation in optics, Imitated from the process of optic cell, Yann LeCun introduced **Convolutional Neural Network** (CNN for short) with his network LeNet-5, and showed the efficiency in handwriting recognition.\n",
    "\n",
    "![lenet5](image/LeNet_Original_Image.jpg)\n",
    "\n",
    "Unlike the operation in MLP, CNN compressed the input signal and handle it as a feature of visual data."
   ]
  },
  {
   "cell_type": "markdown",
   "metadata": {},
   "source": [
    "## The problems\n",
    "\n",
    "These approaches like backpropagation and CNN improves the AI technology, but still remains the problem in architecture. If we want to gather lots of information from the features, it requires some numbers of layers. But when the number of network layer is increased, the errors that need for backpropagation is vanished, so called **Vanishing Gradient**. Because each of the neural network's weight receive an update proportional to the partial derivate of the error function. If the number of layer is increased, the order of gradient is also increased, then error might be vanished.\n"
   ]
  },
  {
   "cell_type": "markdown",
   "metadata": {},
   "source": [
    "## Breakthrough\n",
    "But in 2006, Hinton and Bengio found out that the neural networks with many layers could be trained well through **weight initialization**. Previously, there is no rule for weights, so usually it initialized randomly. Thanks to this approach, deep machine learning methods are more efficient for difficult problems than shallow models. Actually, The word **\"Deep\"** in Deep Learning means the learning architecture with some numbers of layers.\n",
    "\n",
    "So this is the beginning of AI era!"
   ]
  },
  {
   "cell_type": "markdown",
   "metadata": {},
   "source": [
    "## Backpropagation in details\n",
    "Let's dive into backpropagation with simple example.\n",
    "\n",
    "As you saw from previous sections, model is executed with forward-propagation and update the weight and bias with backpropation. Suppose we have a single neuron,\n",
    "\n",
    "$$ f = WX + b $$\n",
    "\n",
    "but we can separte with two function $f$ and $g$,\n",
    "\n",
    "$$g = WX, \\qquad f = g+b $$\n",
    "\n",
    "Can we update the weight with backpropagation? To do this, we need to differentiate the parameters, but function $f$ consists of some variables, not a single variable. In this case, we can apply the partial derivative for each variables. Partial derivative is differentiation method that consider other varibles as constants and just focus on specific variables. In case of $g$, there are two variables $W$ and $X$. So we can apply the partial derivative for each $W$ and $X$,\n",
    "\n",
    "$$ \\frac{\\partial g}{\\partial W} =X, \\qquad \\frac{\\partial g}{\\partial X} = W $$\n",
    "\n",
    "Also, we can apply it with $f$ for each $g$ and $b$,\n",
    "\n",
    "$$ \\frac{\\partial f}{\\partial g} = 1, \\qquad \\frac{\\partial f}{\\partial b} = 1 $$\n",
    "\n",
    "So how can we calculate the partial derivative of $f$ in terms of $W$? It's simple. Just multiply two terms,\n",
    "\n",
    "$$ \\frac{\\partial f}{\\partial W} = \\frac{\\partial f}{\\partial g} \\cdot \\frac{\\partial g}{\\partial W} = X $$\n",
    "\n",
    "This multiplication of partial derivatives is called **chain rule**. Of course, this is too easy case. We can directly apply function $g$ in $f$, and do partial derivatives of $f$ with respect to $W$. But what if the neural network consists of several numbers of layers? As you know, to solve the non-linearly separable classification requires neurons with layers. So directly applying the previous neurons into the next layer and applying the partial derivatives may be difficult. \n",
    "\n",
    "Thanks to the chain rule, we just need to calculate the differentiate of each layers and multiply it. this is the short introdunction of backpropagation.\n",
    "\n",
    "Actually, vanishing gradient problem occurs because of chain rules. When the number of layers is increased, the number of execution partial derivatives multiplication is also increased. Suppose that first order partial derivatives is less than 1, then multiplication with next step partial derivatives will go down, and finally it goes toward 0. We just want to know the differentiation of variables with respect to weight, but the overall partial derivative (after multiplying all derivatives) may be very small, and it is hard to update weight from error."
   ]
  },
  {
   "cell_type": "markdown",
   "metadata": {},
   "source": [
    "## Neural Networks for XOR in tensorflow\n",
    "So Let's implement it with tensorflow. In this example, we will build 2 layer neural network.\n",
    "\n",
    "![neural network](image/neural_network.png)\n",
    "\n",
    "Implementation is like this,"
   ]
  },
  {
   "cell_type": "code",
   "execution_count": 51,
   "metadata": {},
   "outputs": [],
   "source": [
    "def neural_net(features):\n",
    "    layer1 = tf.sigmoid(tf.matmul(features, W1) + b1)\n",
    "    layer2 = tf.sigmoid(tf.matmul(features, W2) + b2)\n",
    "    layer3 = tf.concat([layer1, layer2],-1)\n",
    "    layer3 = tf.reshape(layer3, shape = [-1,2])\n",
    "    hypothesis = tf.sigmoid(tf.matmul(layer3, W3) + b3)\n",
    "    return hypothesis"
   ]
  },
  {
   "cell_type": "markdown",
   "metadata": {},
   "source": [
    "Note that the input of second layer are the output of previous layer, so it requires to concatenate each output by 1.\n",
    "\n",
    "Anyway, we generate the XOR dataset."
   ]
  },
  {
   "cell_type": "code",
   "execution_count": 52,
   "metadata": {},
   "outputs": [
    {
     "data": {
      "image/png": "[encoded data removed]",
      "text/plain": [
       "<Figure size 1152x720 with 1 Axes>"
      ]
     },
     "metadata": {
      "needs_background": "light"
     },
     "output_type": "display_data"
    }
   ],
   "source": [
    "X = [[0, 0],\n",
    "     [0, 1],\n",
    "     [1, 0],\n",
    "     [1, 1]]\n",
    "\n",
    "y = [[0],\n",
    "     [1],\n",
    "     [1],\n",
    "     [0]]\n",
    "\n",
    "plt.scatter(X[0][0],X[0][1], c='red' , marker='^')\n",
    "plt.scatter(X[3][0],X[3][1], c='red' , marker='^')\n",
    "plt.scatter(X[1][0],X[1][1], c='blue' , marker='^')\n",
    "plt.scatter(X[2][0],X[2][1], c='blue' , marker='^')\n",
    "\n",
    "plt.xlabel(\"x1\")\n",
    "plt.ylabel(\"x2\")\n",
    "plt.grid()\n",
    "plt.show()\n",
    "\n",
    "# Convert iw with float32\n",
    "X = tf.cast(X, dtype=tf.float32)\n",
    "y = tf.cast(y, dtype=tf.float32)\n",
    "\n",
    "dataset = tf.data.Dataset.from_tensor_slices((X, y)).batch(len(X))"
   ]
  },
  {
   "cell_type": "markdown",
   "metadata": {},
   "source": [
    "And initialize the weights and biases."
   ]
  },
  {
   "cell_type": "code",
   "execution_count": 53,
   "metadata": {},
   "outputs": [],
   "source": [
    "tf.random.set_seed(777)\n",
    "\n",
    "W1 = tf.Variable(tf.random.normal([2, 1]), name='weight1')\n",
    "b1 = tf.Variable(tf.random.normal([1]), name='bias1')\n",
    "\n",
    "W2 = tf.Variable(tf.random.normal([2, 1]), name='weight2')\n",
    "b2 = tf.Variable(tf.random.normal([1]), name='bias2')\n",
    "\n",
    "W3 = tf.Variable(tf.random.normal([2, 1]), name='weight3')\n",
    "b3 = tf.Variable(tf.random.normal([1]), name='bias3')"
   ]
  },
  {
   "cell_type": "markdown",
   "metadata": {},
   "source": [
    "Then, we build the loss function and training process."
   ]
  },
  {
   "cell_type": "code",
   "execution_count": 54,
   "metadata": {},
   "outputs": [],
   "source": [
    "# Loss function\n",
    "def loss_fn(h, y):\n",
    "    cost = -tf.reduce_mean(y * tf.math.log(h) + (1 - y) * tf.math.log(1 - h))\n",
    "    return cost\n",
    "\n",
    "# Gradient function\n",
    "def grad(X, y):\n",
    "    with tf.GradientTape() as tape:\n",
    "        h = neural_net(X)\n",
    "        losses = loss_fn(h, y)\n",
    "    return tape.gradient(losses, [W1, W2, W3, b1, b2, b3])\n",
    "\n",
    "# Accuracy function\n",
    "def accuracy_fn(h, y):\n",
    "    predict = tf.cast(h > 0.5, dtype=tf.float32)\n",
    "    accuracy = tf.reduce_mean(tf.cast(tf.equal(predict, y), dtype=tf.float32))\n",
    "    return accuracy"
   ]
  },
  {
   "cell_type": "code",
   "execution_count": 55,
   "metadata": {},
   "outputs": [
    {
     "name": "stdout",
     "output_type": "stream",
     "text": [
      "Epoch: 0, Loss: 0.8487\n",
      "Epoch: 5000, Loss: 0.6847\n",
      "Epoch: 10000, Loss: 0.6610\n",
      "Epoch: 15000, Loss: 0.6154\n",
      "Epoch: 20000, Loss: 0.5722\n",
      "Epoch: 25000, Loss: 0.5433\n",
      "Epoch: 30000, Loss: 0.5211\n",
      "Epoch: 35000, Loss: 0.4911\n",
      "Epoch: 40000, Loss: 0.4416\n",
      "Epoch: 45000, Loss: 0.3313\n"
     ]
    }
   ],
   "source": [
    "\n",
    "\n",
    "## Optimizer: Stochastic Gradient Descent with learning rate 0.01\n",
    "optimizer = tf.keras.optimizers.SGD(learning_rate=0.01)\n",
    "\n",
    "for e in range(50000):\n",
    "    for X, y in dataset:\n",
    "        grads = grad(X, y)\n",
    "        optimizer.apply_gradients(grads_and_vars=zip(grads, [W1, W2, W3, b1, b2, b3]))\n",
    "        if e % 5000 == 0:\n",
    "            print(\"Epoch: {}, Loss: {:.4f}\".format(e, loss_fn(neural_net(X), y)))"
   ]
  },
  {
   "cell_type": "markdown",
   "metadata": {},
   "source": [
    "After training, we can get trained weight and bias, so we apply it with accuracy function"
   ]
  },
  {
   "cell_type": "code",
   "execution_count": 57,
   "metadata": {},
   "outputs": [
    {
     "name": "stdout",
     "output_type": "stream",
     "text": [
      "Accuracy: 1.0000\n"
     ]
    }
   ],
   "source": [
    "accuracy = accuracy_fn(neural_net(X), y)\n",
    "print(\"Accuracy: {:.4f}\".format(accuracy))"
   ]
  },
  {
   "cell_type": "markdown",
   "metadata": {},
   "source": [
    "## Summary\n",
    "Through this post, we covered the case of XOR problem, and it cannot handle with single perceptron. Through weight and bias update via backpropagation helps to solve this, and requires numbers of layers. Also we tried to implement in tensorflow for simple XOR problem."
   ]
  },
  {
   "cell_type": "markdown",
   "metadata": {},
   "source": [
    "[^1]: Figure from [nvidia blogs](https://developer.nvidia.com/blog/inference-next-step-gpu-accelerated-deep-learning/)"
   ]
  }
 ],
 "metadata": {
  "kernelspec": {
   "display_name": "Python 3",
   "language": "python",
   "name": "python3"
  },
  "language_info": {
   "codemirror_mode": {
    "name": "ipython",
    "version": 3
   },
   "file_extension": ".py",
   "mimetype": "text/x-python",
   "name": "python",
   "nbconvert_exporter": "python",
   "pygments_lexer": "ipython3",
   "version": "3.7.6"
  }
 },
 "nbformat": 4,
 "nbformat_minor": 4
}
