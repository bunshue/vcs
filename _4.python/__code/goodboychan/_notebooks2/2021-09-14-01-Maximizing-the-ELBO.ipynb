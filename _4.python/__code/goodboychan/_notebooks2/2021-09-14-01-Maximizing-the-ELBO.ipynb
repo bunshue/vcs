{
 "cells": [
  {
   "cell_type": "markdown",
   "metadata": {},
   "source": [
    "# Maximizing the ELBO\n",
    "\n",
    "> In this post, we will cover the complete implementation of Variational AutoEncoder, which can optimize the ELBO objective function. This is the summary of lecture \"Probabilistic Deep Learning with Tensorflow 2\" from Imperial College London.\n",
    "\n",
    "- toc: true \n",
    "- badges: true\n",
    "- comments: true\n",
    "- author: Chanseok Kang\n",
    "- categories: [Python, Coursera, Tensorflow_probability, ICL]\n",
    "- image: images/fashion_mnist_generated.png"
   ]
  },
  {
   "cell_type": "markdown",
   "metadata": {},
   "source": [
    "## Packages"
   ]
  },
  {
   "cell_type": "code",
   "execution_count": 1,
   "metadata": {},
   "outputs": [],
   "source": [
    "import tensorflow as tf\n",
    "import tensorflow_probability as tfp\n",
    "\n",
    "import numpy as np\n",
    "import matplotlib.pyplot as plt\n",
    "from matplotlib.patches import Ellipse\n",
    "from IPython.display import HTML, Image\n",
    "\n",
    "tfd = tfp.distributions\n",
    "tfpl = tfp.layers\n",
    "tfb = tfp.bijectors\n",
    "\n",
    "plt.rcParams['figure.figsize'] = (10, 6)\n",
    "plt.rcParams[\"animation.html\"] = \"jshtml\" \n",
    "plt.rcParams['animation.embed_limit'] = 2**128"
   ]
  },
  {
   "cell_type": "code",
   "execution_count": 2,
   "metadata": {},
   "outputs": [
    {
     "name": "stdout",
     "output_type": "stream",
     "text": [
      "Tensorflow Version:  2.5.0\n",
      "Tensorflow Probability Version:  0.13.0\n"
     ]
    }
   ],
   "source": [
    "print(\"Tensorflow Version: \", tf.__version__)\n",
    "print(\"Tensorflow Probability Version: \", tfp.__version__)"
   ]
  },
  {
   "cell_type": "markdown",
   "metadata": {},
   "source": [
    "## Overview"
   ]
  },
  {
   "cell_type": "markdown",
   "metadata": {},
   "source": [
    "### Prior Distribution\n",
    "\n",
    "$ \\text{latent variable } z \\sim N(0, I) = p(z) \\\\\n",
    " p(x \\vert z) = \\text{decoder}(z) \\\\\n",
    " x \\sim p(x \\vert z) $"
   ]
  },
  {
   "cell_type": "markdown",
   "metadata": {},
   "source": [
    "### Approximating True Posterior distribution\n",
    "\n",
    "$ \\text{encoder }(x) = q(z \\vert x) \\simeq p(z \\vert x) \\\\\n",
    " \\begin{aligned} \\log p(x) & \\ge \\mathbb{E}_{z \\sim q(z \\vert x)}[-\\log q(z \\vert x) + \\log p(x \\vert z)] \\quad \\leftarrow \\text{maximizing this lower bound} \\\\\n",
    "  &= - \\mathrm{KL} (q(z \\vert x) \\vert \\vert p(z)) + \\mathbb{E}_{z \\sim q(z \\vert x)}[\\log p(x \\vert z)] \\quad \\leftarrow \\text{Evidence Lower Bound (ELBO)} \\end{aligned}$"
   ]
  },
  {
   "cell_type": "markdown",
   "metadata": {},
   "source": [
    "### Sample Encoder Architecture"
   ]
  },
  {
   "cell_type": "markdown",
   "metadata": {},
   "source": [
    "```python\n",
    "latent_size = 2\n",
    "event_shape = (28, 28, 1)\n",
    "\n",
    "encoder = Sequential([\n",
    "    Conv2D(8, (5, 5), strides=2, activation='tanh', input_shape=event_shape),\n",
    "    Conv2D(8, (5, 5), strides=2, activatoin='tanh'),\n",
    "    Flatten(),\n",
    "    Dense(64, activation='tanh'),\n",
    "    Dense(2 * latent_size),\n",
    "    tfpl.DistributionLambda(lambda t: tfd.MultivariateNormalDiag(\n",
    "        loc=t[..., :latent_size], scale_diag=tf.math.exp(t[..., latent_size:]))),\n",
    "], name='encoder')\n",
    "\n",
    "encoder(X_train[:16])\n",
    "``` "
   ]
  },
  {
   "cell_type": "markdown",
   "metadata": {},
   "source": [
    "### Sample Decoder Architecture"
   ]
  },
  {
   "cell_type": "markdown",
   "metadata": {},
   "source": [
    "Almose reverse order of Encoder.\n",
    "\n",
    "```python\n",
    "decoder = Sequential([\n",
    "    Dense(64, activation='tanh', input_shape=(latent_size, )),\n",
    "    Dense(128, activation='tanh'),\n",
    "    Reshape((4, 4, 8)), # In order to put it in the form required by Conv2D layer\n",
    "    Conv2DTranspose(8, (5, 5), strides=2, output_padding=1, activation='tanh'),\n",
    "    Conv2DTranspose(8, (5, 5), strides=2, output_padding=1, activation='tanh'),\n",
    "    Conv2D(1, (3, 3), padding='SAME'),\n",
    "    Flatten(),\n",
    "    tfpl.IndependentBernoulli(event_shape)\n",
    "], name='decoder')\n",
    "\n",
    "decoder(tf.random.normal([16, latent_size])\n",
    "```"
   ]
  },
  {
   "cell_type": "markdown",
   "metadata": {},
   "source": [
    "### Prior Distribution for zero-mean gaussian with identity covariance matrix\n",
    "```python\n",
    "prior = tfd.MultivariateNormalDiag(loc=tf.zeros(latent_size))\n",
    "```"
   ]
  },
  {
   "cell_type": "markdown",
   "metadata": {},
   "source": [
    "### ELBO objective function\n",
    " One way to implement ELBO function is to use Analytical computation of KL divergence.\n",
    " \n",
    "```python\n",
    "def loss_fn(X_true, approx_posterior, X_pred, prior_dist):\n",
    "    \"\"\"\n",
    "    X_true: batch of data examples\n",
    "    approx_posterior: the output of encoder\n",
    "    X_pred: output of decoder\n",
    "    prior_dist: Prior distribution\n",
    "    \"\"\"\n",
    "    return tf.reduce_mean(tfd.kl_divergence(approx_posterior, prior_dist) - X_pred.log_prob(X_true))\n",
    "```\n",
    "\n",
    "The other way is using Monte Carlo Sampling instead of analyticall with the KL Divergence.\n",
    "\n",
    "```python\n",
    "def loss_fn(X_true, approx_posterior, X_pred, prior_dist):\n",
    "    reconstruction_loss = -X_pred.log_prob(X_true)\n",
    "    approx_posterior_sample = approx_posterior.sample()\n",
    "    kl_approx = (approx_posterior.log_prob(approx_posterior_sample) - prior_dist.log_prob(approx_posterior_sample))\n",
    "    return tf.reduce_mean(kl_approx + reconstruction_loss)\n",
    "```"
   ]
  },
  {
   "cell_type": "markdown",
   "metadata": {},
   "source": [
    "### Calculating Gradient of Loss function\n",
    "```python\n",
    "@tf.function\n",
    "def get_loss_and_grads(x):\n",
    "    with tf.GradientTape() as tape:\n",
    "        approx_posterior = encoder(x)\n",
    "        approx_posterior_sample = approx_posterior.sample()\n",
    "        X_pred = decoder(approx_posterior_sample)\n",
    "        current_loss = loss_fn(x, approx_posterior, X_pred, prior)\n",
    "    grads = tape.gradient(current_loss, encoder.trainable_variables + decoder.trainable_variables)\n",
    "    return current_loss, grads\n",
    "```"
   ]
  },
  {
   "cell_type": "markdown",
   "metadata": {},
   "source": [
    "### Training Loop\n",
    "\n",
    "```python\n",
    "optimizer = tf.keras.optimizers.Adam()\n",
    "for epoch in range(num_epochs):\n",
    "    for train_batch in train_data:\n",
    "        loss, grads = get_loss_and_grads(train_batch)\n",
    "        optimizer.apply_gradients(zip(grads, encoder.trainable_variables + decoder.trainable_variables))\n",
    "```"
   ]
  },
  {
   "cell_type": "markdown",
   "metadata": {},
   "source": [
    "### Test\n",
    "```python\n",
    "z = prior.sample(1) # (1, 2)\n",
    "x = decoder(z).sample() # (1, 28, 28, 1)\n",
    "\n",
    "X_encoded = encoder(X_sample)\n",
    "\n",
    "def vae(inputs):\n",
    "    approx_posterior = encoder(inputs)\n",
    "    decoded = decoder(approx_posterior.sample())\n",
    "    return decoded.sample()\n",
    "\n",
    "reconstruction = vae(X_sample)\n",
    "```"
   ]
  },
  {
   "cell_type": "markdown",
   "metadata": {},
   "source": [
    "## Tutorial"
   ]
  },
  {
   "cell_type": "markdown",
   "metadata": {},
   "source": [
    "Review of terminology:\n",
    "- $p(z)$ = prior\n",
    "- $q(z|x)$ = encoding distribution\n",
    "- $p(x|z)$ = decoding distribution\n",
    "\n",
    "$$\n",
    "\\begin{aligned}\n",
    "\\log p(x) &\\geq \\mathrm{E}_{Z \\sim q(z | x)}\\big[−\\log q(Z | x) + \\log p(x, Z)\\big]\\\\\n",
    "          &= - \\mathrm{KL}\\big[ \\ q(z | x) \\ || \\ p(z) \\ \\big] + \\mathrm{E}_{Z \\sim q(z | x)}\\big[\\log p(x | Z)\\big] \n",
    "\\end{aligned}\n",
    "$$"
   ]
  },
  {
   "cell_type": "code",
   "execution_count": 3,
   "metadata": {},
   "outputs": [],
   "source": [
    "from tensorflow.keras.models import Sequential, Model\n",
    "from tensorflow.keras.layers import Dense, Flatten, Reshape"
   ]
  },
  {
   "cell_type": "code",
   "execution_count": 4,
   "metadata": {},
   "outputs": [],
   "source": [
    "# Import Fashion MNIST, make it a Tensorflow Dataset\n",
    "\n",
    "(X_train, _), (X_test, _) = tf.keras.datasets.fashion_mnist.load_data()\n",
    "X_train = X_train.astype('float32') / 255.\n",
    "X_test = X_test.astype('float32') / 255.\n",
    "example_X = X_test[:16]\n",
    "\n",
    "batch_size = 64\n",
    "X_train = tf.data.Dataset.from_tensor_slices(X_train).batch(batch_size)"
   ]
  },
  {
   "cell_type": "code",
   "execution_count": 5,
   "metadata": {},
   "outputs": [
    {
     "name": "stdout",
     "output_type": "stream",
     "text": [
      "WARNING:tensorflow:From /home/chanseok/anaconda3/envs/torch/lib/python3.7/site-packages/tensorflow_probability/python/distributions/distribution.py:346: calling MultivariateNormalDiag.__init__ (from tensorflow_probability.python.distributions.mvn_diag) with scale_identity_multiplier is deprecated and will be removed after 2020-01-01.\n",
      "Instructions for updating:\n",
      "`scale_identity_multiplier` is deprecated; please combine it into `scale_diag` directly instead.\n"
     ]
    }
   ],
   "source": [
    "# Define the encoding distribution, q(z | x)\n",
    "\n",
    "latent_size = 2\n",
    "event_shape = (28, 28)\n",
    "\n",
    "encoder = Sequential([\n",
    "    Flatten(input_shape=event_shape),\n",
    "    Dense(256, activation='relu'),\n",
    "    Dense(128, activation='relu'),\n",
    "    Dense(64, activation='relu'),\n",
    "    Dense(32, activation='relu'),\n",
    "    Dense(2 * latent_size),\n",
    "    tfpl.DistributionLambda(\n",
    "        lambda t: tfd.MultivariateNormalDiag(\n",
    "            loc=t[..., :latent_size],\n",
    "            scale_diag=tf.math.exp(t[..., latent_size:])\n",
    "        )\n",
    "    )\n",
    "])"
   ]
  },
  {
   "cell_type": "code",
   "execution_count": 6,
   "metadata": {},
   "outputs": [
    {
     "data": {
      "text/plain": [
       "<tfp.distributions.MultivariateNormalDiag 'sequential_distribution_lambda_MultivariateNormalDiag' batch_shape=[16] event_shape=[2] dtype=float32>"
      ]
     },
     "execution_count": 6,
     "metadata": {},
     "output_type": "execute_result"
    }
   ],
   "source": [
    "# Pass an example image through the network - should return a batch of MultivariateNormalDiag\n",
    "\n",
    "encoder(example_X)"
   ]
  },
  {
   "cell_type": "code",
   "execution_count": 7,
   "metadata": {},
   "outputs": [],
   "source": [
    "# Define the decoding distribution, p(x | z)\n",
    "\n",
    "decoder = Sequential([\n",
    "    Dense(32, activation='relu'),\n",
    "    Dense(64, activation='relu'),\n",
    "    Dense(128, activation='relu'),\n",
    "    Dense(256, activation='relu'),\n",
    "    Dense(tfpl.IndependentBernoulli.params_size(event_shape)),\n",
    "    tfpl.IndependentBernoulli(event_shape)\n",
    "])"
   ]
  },
  {
   "cell_type": "code",
   "execution_count": 8,
   "metadata": {},
   "outputs": [
    {
     "data": {
      "text/plain": [
       "<tfp.distributions.Independent 'sequential_1_independent_bernoulli_IndependentBernoulli_Independentsequential_1_independent_bernoulli_IndependentBernoulli_Bernoulli' batch_shape=[16] event_shape=[28, 28] dtype=float32>"
      ]
     },
     "execution_count": 8,
     "metadata": {},
     "output_type": "execute_result"
    }
   ],
   "source": [
    "# Pass a batch of examples to the decoder\n",
    "\n",
    "decoder(tf.random.normal([16, latent_size]))"
   ]
  },
  {
   "cell_type": "code",
   "execution_count": 9,
   "metadata": {},
   "outputs": [],
   "source": [
    "# Define the prior, p(z) - a standard bivariate Gaussian\n",
    "prior = tfd.MultivariateNormalDiag(loc=tf.zeros(latent_size))"
   ]
  },
  {
   "cell_type": "markdown",
   "metadata": {},
   "source": [
    "The loss function we need to estimate is\n",
    "$$\n",
    "-\\mathrm{ELBO} = \\mathrm{KL}[ \\ q(z|x) \\ || \\ p(z) \\ ] - \\mathrm{E}_{Z \\sim q(z|x)}[\\log p(x|Z)]\\\\\n",
    "$$\n",
    "where $x = (x_1, x_2, \\ldots, x_n)$ refers to all observations, $z = (z_1, z_2, \\ldots, z_n)$ refers to corresponding latent variables.\n",
    "\n",
    "Assumed independence of examples implies that we can write this as\n",
    "$$\n",
    "\\sum_j \\mathrm{KL}[ \\ q(z_j|x_j) \\ || \\ p(z_j) \\ ] - \\mathrm{E}_{Z_j \\sim q(z_j|x_j)}[\\log p(x_j|Z_j)]\n",
    "$$"
   ]
  },
  {
   "cell_type": "code",
   "execution_count": 10,
   "metadata": {},
   "outputs": [],
   "source": [
    "# Specify the loss function, an estimate of the -ELBO\n",
    "\n",
    "def loss(x, encoding_dist, sampled_decoding_dist, prior):\n",
    "    return tf.reduce_sum(\n",
    "        tfd.kl_divergence(encoding_dist, prior) - sampled_decoding_dist.log_prob(x)\n",
    "    )"
   ]
  },
  {
   "cell_type": "code",
   "execution_count": 11,
   "metadata": {},
   "outputs": [],
   "source": [
    "# Define a function that returns the loss and its gradients\n",
    "\n",
    "@tf.function\n",
    "def get_loss_and_grads(x):\n",
    "    with tf.GradientTape() as tape:\n",
    "        encoding_dist = encoder(x)\n",
    "        sampled_z = encoding_dist.sample()\n",
    "        sampled_decoding_dist = decoder(sampled_z)\n",
    "        current_loss = loss(x, encoding_dist, sampled_decoding_dist, prior)\n",
    "    grads = tape.gradient(current_loss, encoder.trainable_variables + decoder.trainable_variables)\n",
    "    return current_loss, grads"
   ]
  },
  {
   "cell_type": "code",
   "execution_count": 12,
   "metadata": {},
   "outputs": [
    {
     "name": "stdout",
     "output_type": "stream",
     "text": [
      "-ELBO after epoch 1: 8990\n",
      "-ELBO after epoch 2: 8858\n",
      "-ELBO after epoch 3: 8782\n",
      "-ELBO after epoch 4: 8820\n",
      "-ELBO after epoch 5: 8716\n",
      "-ELBO after epoch 6: 8664\n",
      "-ELBO after epoch 7: 8727\n",
      "-ELBO after epoch 8: 8667\n",
      "-ELBO after epoch 9: 8810\n",
      "-ELBO after epoch 10: 8675\n"
     ]
    }
   ],
   "source": [
    "# Compile and train the model\n",
    "num_epochs = 10\n",
    "optimizer = tf.keras.optimizers.Adam()\n",
    "\n",
    "for i in range(num_epochs):\n",
    "    for train_batch in X_train:\n",
    "        current_loss, grads = get_loss_and_grads(train_batch)\n",
    "        optimizer.apply_gradients(zip(grads, encoder.trainable_variables + decoder.trainable_variables))\n",
    "        \n",
    "    print('-ELBO after epoch {}: {:.0f}'.format(i + 1, current_loss.numpy()))"
   ]
  },
  {
   "cell_type": "code",
   "execution_count": 13,
   "metadata": {},
   "outputs": [],
   "source": [
    "# Connect encoder and decoder, compute a reconstruction\n",
    "\n",
    "def vae(inputs):\n",
    "    approx_posterior = encoder(inputs)\n",
    "    decoding_dist = decoder(approx_posterior.sample())\n",
    "    return decoding_dist.sample()\n",
    "\n",
    "example_reconstruction = vae(example_X).numpy().squeeze()"
   ]
  },
  {
   "cell_type": "code",
   "execution_count": 14,
   "metadata": {},
   "outputs": [
    {
     "data": {
      "image/png": "[encoded data removed]",
      "text/plain": [
       "<Figure size 1152x360 with 12 Axes>"
      ]
     },
     "metadata": {
      "needs_background": "light"
     },
     "output_type": "display_data"
    }
   ],
   "source": [
    "# Plot examples against reconstructions\n",
    "\n",
    "f, axs = plt.subplots(2, 6, figsize=(16, 5))\n",
    "\n",
    "for j in range(6):\n",
    "    axs[0, j].imshow(example_X[j, :, :].squeeze(), cmap='binary')\n",
    "    axs[1, j].imshow(example_reconstruction[j, :, :], cmap='binary')\n",
    "    axs[0, j].axis('off')\n",
    "    axs[1, j].axis('off')"
   ]
  },
  {
   "cell_type": "markdown",
   "metadata": {},
   "source": [
    "Since the model has lack of reconstruction from grayscale image, So using mean for reconstruction gets more satisfied results."
   ]
  },
  {
   "cell_type": "code",
   "execution_count": 15,
   "metadata": {},
   "outputs": [],
   "source": [
    "# Connect encoder and decoder, compute a reconstruction with mean\n",
    "\n",
    "def vae_mean(inputs):\n",
    "    approx_posterior = encoder(inputs)\n",
    "    decoding_dist = decoder(approx_posterior.sample())\n",
    "    return decoding_dist.mean()\n",
    "\n",
    "example_reconstruction = vae_mean(example_X).numpy().squeeze()"
   ]
  },
  {
   "cell_type": "code",
   "execution_count": 16,
   "metadata": {},
   "outputs": [
    {
     "data": {
      "image/png": "[encoded data removed]",
      "text/plain": [
       "<Figure size 1152x360 with 12 Axes>"
      ]
     },
     "metadata": {
      "needs_background": "light"
     },
     "output_type": "display_data"
    }
   ],
   "source": [
    "# Plot examples against reconstructions\n",
    "\n",
    "f, axs = plt.subplots(2, 6, figsize=(16, 5))\n",
    "\n",
    "for j in range(6):\n",
    "    axs[0, j].imshow(example_X[j, :, :].squeeze(), cmap='binary')\n",
    "    axs[1, j].imshow(example_reconstruction[j, :, :], cmap='binary')\n",
    "    axs[0, j].axis('off')\n",
    "    axs[1, j].axis('off')"
   ]
  },
  {
   "cell_type": "code",
   "execution_count": 17,
   "metadata": {},
   "outputs": [],
   "source": [
    "# Generate an example - sample a z value, then sample a reconstruction from p(x|z)\n",
    "\n",
    "z = prior.sample(6)\n",
    "generated_x = decoder(z).sample()"
   ]
  },
  {
   "cell_type": "code",
   "execution_count": 18,
   "metadata": {},
   "outputs": [
    {
     "data": {
      "image/png": "[encoded data removed]",
      "text/plain": [
       "<Figure size 1152x360 with 6 Axes>"
      ]
     },
     "metadata": {
      "needs_background": "light"
     },
     "output_type": "display_data"
    }
   ],
   "source": [
    "# Display generated_x\n",
    "\n",
    "f, axs = plt.subplots(1, 6, figsize=(16, 5))\n",
    "for j in range(6):\n",
    "    axs[j].imshow(generated_x[j, :, :].numpy().squeeze(), cmap='binary')\n",
    "    axs[j].axis('off')"
   ]
  },
  {
   "cell_type": "code",
   "execution_count": 19,
   "metadata": {},
   "outputs": [],
   "source": [
    "# Generate an example - sample a z value, then sample a reconstruction from p(x|z)\n",
    "\n",
    "z = prior.sample(6)\n",
    "generated_x = decoder(z).mean()"
   ]
  },
  {
   "cell_type": "code",
   "execution_count": 20,
   "metadata": {},
   "outputs": [
    {
     "data": {
      "image/png": "[encoded data removed]",
      "text/plain": [
       "<Figure size 1152x360 with 6 Axes>"
      ]
     },
     "metadata": {
      "needs_background": "light"
     },
     "output_type": "display_data"
    }
   ],
   "source": [
    "# Display generated_x\n",
    "\n",
    "f, axs = plt.subplots(1, 6, figsize=(16, 5))\n",
    "for j in range(6):\n",
    "    axs[j].imshow(generated_x[j, :, :].numpy().squeeze(), cmap='binary')\n",
    "    axs[j].axis('off')"
   ]
  },
  {
   "cell_type": "markdown",
   "metadata": {},
   "source": [
    "What if we use Monte Carlo Sampling for kl divergence?"
   ]
  },
  {
   "cell_type": "code",
   "execution_count": 21,
   "metadata": {},
   "outputs": [],
   "source": [
    "encoder = Sequential([\n",
    "    Flatten(input_shape=event_shape),\n",
    "    Dense(256, activation='relu'),\n",
    "    Dense(128, activation='relu'),\n",
    "    Dense(64, activation='relu'),\n",
    "    Dense(32, activation='relu'),\n",
    "    Dense(2 * latent_size),\n",
    "    tfpl.DistributionLambda(\n",
    "        lambda t: tfd.MultivariateNormalDiag(\n",
    "            loc=t[..., :latent_size],\n",
    "            scale_diag=tf.math.exp(t[..., latent_size:])\n",
    "        )\n",
    "    )\n",
    "])\n",
    "\n",
    "decoder = Sequential([\n",
    "    Dense(32, activation='relu'),\n",
    "    Dense(64, activation='relu'),\n",
    "    Dense(128, activation='relu'),\n",
    "    Dense(256, activation='relu'),\n",
    "    Dense(tfpl.IndependentBernoulli.params_size(event_shape)),\n",
    "    tfpl.IndependentBernoulli(event_shape)\n",
    "])\n",
    "\n",
    "# Define the prior, p(z) - a standard bivariate Gaussian\n",
    "prior = tfd.MultivariateNormalDiag(loc=tf.zeros(latent_size))"
   ]
  },
  {
   "cell_type": "code",
   "execution_count": 22,
   "metadata": {},
   "outputs": [],
   "source": [
    "def loss(x, encoding_dist, sampled_decoding_dist, prior, sampled_z):\n",
    "    reconstruction_loss = -sampled_decoding_dist.log_prob(x)\n",
    "    kl_approx = (encoding_dist.log_prob(sampled_z) - prior.log_prob(sampled_z))\n",
    "    return tf.reduce_sum(kl_approx + reconstruction_loss)"
   ]
  },
  {
   "cell_type": "code",
   "execution_count": 25,
   "metadata": {},
   "outputs": [],
   "source": [
    "@tf.function\n",
    "def get_loss_and_grads(x):\n",
    "    with tf.GradientTape() as tape:\n",
    "        encoding_dist = encoder(x)\n",
    "        sampled_z = encoding_dist.sample()\n",
    "        sampled_decoding_dist = decoder(sampled_z)\n",
    "        current_loss = loss(x, encoding_dist, sampled_decoding_dist, prior, sampled_z)\n",
    "    grads = tape.gradient(current_loss, encoder.trainable_variables + decoder.trainable_variables)\n",
    "    return current_loss, grads"
   ]
  },
  {
   "cell_type": "code",
   "execution_count": 26,
   "metadata": {},
   "outputs": [
    {
     "name": "stdout",
     "output_type": "stream",
     "text": [
      "-ELBO after epoch 1: 8914\n",
      "-ELBO after epoch 2: 8802\n",
      "-ELBO after epoch 3: 8799\n",
      "-ELBO after epoch 4: 8743\n",
      "-ELBO after epoch 5: 8790\n",
      "-ELBO after epoch 6: 8716\n",
      "-ELBO after epoch 7: 8787\n",
      "-ELBO after epoch 8: 8686\n",
      "-ELBO after epoch 9: 8650\n",
      "-ELBO after epoch 10: 8813\n"
     ]
    }
   ],
   "source": [
    "# Compile and train the model\n",
    "num_epochs = 10\n",
    "optimizer = tf.keras.optimizers.Adam()\n",
    "\n",
    "for i in range(num_epochs):\n",
    "    for train_batch in X_train:\n",
    "        current_loss, grads = get_loss_and_grads(train_batch)\n",
    "        optimizer.apply_gradients(zip(grads, encoder.trainable_variables + decoder.trainable_variables))\n",
    "        \n",
    "    print('-ELBO after epoch {}: {:.0f}'.format(i + 1, current_loss.numpy()))"
   ]
  },
  {
   "cell_type": "code",
   "execution_count": 27,
   "metadata": {},
   "outputs": [],
   "source": [
    "# Connect encoder and decoder, compute a reconstruction with mean\n",
    "\n",
    "def vae_mean(inputs):\n",
    "    approx_posterior = encoder(inputs)\n",
    "    decoding_dist = decoder(approx_posterior.sample())\n",
    "    return decoding_dist.mean()\n",
    "\n",
    "example_reconstruction = vae_mean(example_X).numpy().squeeze()"
   ]
  },
  {
   "cell_type": "code",
   "execution_count": 28,
   "metadata": {},
   "outputs": [
    {
     "data": {
      "image/png": "[encoded data removed]",
      "text/plain": [
       "<Figure size 1152x360 with 12 Axes>"
      ]
     },
     "metadata": {
      "needs_background": "light"
     },
     "output_type": "display_data"
    }
   ],
   "source": [
    "# Plot examples against reconstructions\n",
    "\n",
    "f, axs = plt.subplots(2, 6, figsize=(16, 5))\n",
    "\n",
    "for j in range(6):\n",
    "    axs[0, j].imshow(example_X[j, :, :].squeeze(), cmap='binary')\n",
    "    axs[1, j].imshow(example_reconstruction[j, :, :], cmap='binary')\n",
    "    axs[0, j].axis('off')\n",
    "    axs[1, j].axis('off')"
   ]
  },
  {
   "cell_type": "code",
   "execution_count": 29,
   "metadata": {},
   "outputs": [
    {
     "data": {
      "image/png": "[encoded data removed]",
      "text/plain": [
       "<Figure size 1152x360 with 6 Axes>"
      ]
     },
     "metadata": {
      "needs_background": "light"
     },
     "output_type": "display_data"
    }
   ],
   "source": [
    "# Generate an example - sample a z value, then sample a reconstruction from p(x|z)\n",
    "\n",
    "z = prior.sample(6)\n",
    "generated_x = decoder(z).mean()\n",
    "\n",
    "# Display generated_x\n",
    "\n",
    "f, axs = plt.subplots(1, 6, figsize=(16, 5))\n",
    "for j in range(6):\n",
    "    axs[j].imshow(generated_x[j, :, :].numpy().squeeze(), cmap='binary')\n",
    "    axs[j].axis('off')"
   ]
  }
 ],
 "metadata": {
  "kernelspec": {
   "display_name": "Python 3",
   "language": "python",
   "name": "python3"
  },
  "language_info": {
   "codemirror_mode": {
    "name": "ipython",
    "version": 3
   },
   "file_extension": ".py",
   "mimetype": "text/x-python",
   "name": "python",
   "nbconvert_exporter": "python",
   "pygments_lexer": "ipython3",
   "version": "3.7.10"
  }
 },
 "nbformat": 4,
 "nbformat_minor": 4
}
