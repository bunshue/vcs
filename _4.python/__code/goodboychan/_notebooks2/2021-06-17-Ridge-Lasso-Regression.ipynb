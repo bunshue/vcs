{
 "cells": [
  {
   "cell_type": "markdown",
   "metadata": {},
   "source": [
    "# Ridge-Lasso Regression\n",
    "\n",
    "> In this post, We will review the way of generalization, especially on Ridge and Lasso.\n",
    "\n",
    "- toc: true \n",
    "- badges: true\n",
    "- comments: true\n",
    "- author: Chanseok Kang\n",
    "- categories: [Python, Machine_Learning]\n",
    "- image: images/ridge_reg.png"
   ]
  },
  {
   "cell_type": "markdown",
   "metadata": {},
   "source": [
    "## Packages"
   ]
  },
  {
   "cell_type": "code",
   "execution_count": 24,
   "metadata": {},
   "outputs": [],
   "source": [
    "import numpy as np\n",
    "import matplotlib.pyplot as plt\n",
    "from sklearn.linear_model import lasso_path, Lasso, Ridge\n",
    "np.random.seed(1)"
   ]
  },
  {
   "cell_type": "markdown",
   "metadata": {},
   "source": [
    "## Ridge Penalty"
   ]
  },
  {
   "cell_type": "markdown",
   "metadata": {},
   "source": [
    "In logistic Regression, we can define the loss function like this,\n",
    "\n",
    "$$ L(\\beta; \\lambda) = -\\frac{1}{n} \\sum_{i=1}^n (y_i x_i^T \\beta - \\log(1+ \\exp(x_i^T \\beta))) $$\n",
    "\n",
    "For the Regularization, we can add the penalty term. In this case, we added Ridge penalty (also known as L2 error). That is, we measure the squared beta for the penalty.\n",
    "\n",
    "$$ L(\\beta; \\lambda) = -\\frac{1}{n} \\sum_{i=1}^n (y_i x_i^T \\beta - \\log(1+ \\exp(x_i^T \\beta))) + \\lambda \\Vert \\beta \\Vert_2^2 $$"
   ]
  },
  {
   "cell_type": "code",
   "execution_count": 2,
   "metadata": {},
   "outputs": [],
   "source": [
    "p = 2\n",
    "lambda_v = 1.5\n",
    "n = 10\n",
    "true_beta = np.array([[1], [-0.5]])"
   ]
  },
  {
   "cell_type": "markdown",
   "metadata": {},
   "source": [
    "So we need to make predictor. In this example, we assume that the sample data is from binomial distribution."
   ]
  },
  {
   "cell_type": "code",
   "execution_count": 3,
   "metadata": {},
   "outputs": [
    {
     "data": {
      "text/plain": [
       "array([0.87327416, 0.50207813, 0.88248512, 0.89334897, 0.60914609,\n",
       "       0.92359167, 0.4674486 , 0.84339584, 0.56623371, 0.43802193])"
      ]
     },
     "execution_count": 3,
     "metadata": {},
     "output_type": "execute_result"
    }
   ],
   "source": [
    "x = np.random.normal(0, 1, (n, p))\n",
    "prob = 1 / (1 + np.exp(-x @ true_beta))\n",
    "prob = prob.reshape((n,))\n",
    "prob"
   ]
  },
  {
   "cell_type": "code",
   "execution_count": 5,
   "metadata": {},
   "outputs": [
    {
     "data": {
      "text/plain": [
       "array([[1],\n",
       "       [1],\n",
       "       [0],\n",
       "       [1],\n",
       "       [1],\n",
       "       [1],\n",
       "       [0],\n",
       "       [1],\n",
       "       [1],\n",
       "       [0]])"
      ]
     },
     "execution_count": 5,
     "metadata": {},
     "output_type": "execute_result"
    }
   ],
   "source": [
    "y = np.random.binomial(np.ones(n, dtype='int32'), prob, n)\n",
    "y = y.reshape((n, 1))\n",
    "y"
   ]
  },
  {
   "cell_type": "markdown",
   "metadata": {},
   "source": [
    "Currently, we generate the ture data from true beta. So how can we get true beta from initial beta?"
   ]
  },
  {
   "cell_type": "code",
   "execution_count": 6,
   "metadata": {},
   "outputs": [
    {
     "data": {
      "text/plain": [
       "array([[0.62393741],\n",
       "       [0.30990356],\n",
       "       [0.32781911],\n",
       "       [0.62053095],\n",
       "       [0.50870771],\n",
       "       [0.42579795],\n",
       "       [0.41259797],\n",
       "       [0.50423467],\n",
       "       [0.37165034],\n",
       "       [0.5774989 ]])"
      ]
     },
     "execution_count": 6,
     "metadata": {},
     "output_type": "execute_result"
    }
   ],
   "source": [
    "beta = np.array([.5, .5]).reshape((p, 1))\n",
    "prob = 1 / (1 + np.exp(-x @ beta))\n",
    "prob"
   ]
  },
  {
   "cell_type": "markdown",
   "metadata": {},
   "source": [
    "With Newton raphson method, we differentiate it two times.\n",
    "\n",
    "$$ g = \\frac{\\partial}{\\partial\\beta} L(\\beta; \\lambda) = -\\frac{1}{n} \\sum_{i=1}^n \\big( y_i x_i - \\frac{\\exp(x_i^T \\beta)}{1 + \\exp(x_i^T \\beta)} x_i \\big) + 2 \\lambda \\beta \\\\\n",
    " H = \\frac{\\partial^2}{\\partial \\beta^2} L(\\beta ; \\lambda) = \\frac{1}{n} \\sum_{i=1}^n \\big( \\frac{\\exp(x_i^T \\beta)}{1 + \\exp(x_i^T \\beta)} \\cdot \\frac{1}{1 + \\exp(x_i^T \\beta)} \\big) x_i x_i^T + 2 \\lambda I$$"
   ]
  },
  {
   "cell_type": "code",
   "execution_count": 7,
   "metadata": {},
   "outputs": [
    {
     "data": {
      "text/plain": [
       "array([[1.28165535],\n",
       "       [1.80853325]])"
      ]
     },
     "execution_count": 7,
     "metadata": {},
     "output_type": "execute_result"
    }
   ],
   "source": [
    "grad = np.mean((prob - y) * x, axis=0, keepdims=True).T + 2 * lambda_v * beta\n",
    "grad"
   ]
  },
  {
   "cell_type": "code",
   "execution_count": 8,
   "metadata": {},
   "outputs": [
    {
     "data": {
      "text/plain": [
       "array([[0.23463952, 0.        , 0.        , 0.        , 0.        ],\n",
       "       [0.        , 0.21386334, 0.        , 0.        , 0.        ],\n",
       "       [0.        , 0.        , 0.22035374, 0.        , 0.        ],\n",
       "       [0.        , 0.        , 0.        , 0.23547229, 0.        ],\n",
       "       [0.        , 0.        , 0.        , 0.        , 0.24992418]])"
      ]
     },
     "execution_count": 8,
     "metadata": {},
     "output_type": "execute_result"
    }
   ],
   "source": [
    "D = np.diag((prob * (1 - prob)).reshape(n))\n",
    "D[:5, :5]"
   ]
  },
  {
   "cell_type": "code",
   "execution_count": 9,
   "metadata": {},
   "outputs": [
    {
     "data": {
      "text/plain": [
       "array([[ 3.24626658, -0.18603102],\n",
       "       [-0.18603102,  3.32919247]])"
      ]
     },
     "execution_count": 9,
     "metadata": {},
     "output_type": "execute_result"
    }
   ],
   "source": [
    "H = x.T @ D @ x / n + np.diag(np.repeat(2 * lambda_v, p))\n",
    "H"
   ]
  },
  {
   "cell_type": "markdown",
   "metadata": {},
   "source": [
    "After we calculate the gradient and hessian matrix of one optimization, we do the one step for the beta update. All we need to do is to repeat these steps until the threshold is reached."
   ]
  },
  {
   "cell_type": "code",
   "execution_count": 11,
   "metadata": {},
   "outputs": [
    {
     "name": "stdout",
     "output_type": "stream",
     "text": [
      "Iteration 0 beta:\n",
      "[[ 0.07280789]\n",
      " [-0.0647952 ]] \n",
      "\n",
      "Iteration 1 beta:\n",
      "[[ 0.07283667]\n",
      " [-0.06483139]] \n",
      "\n",
      "Iteration 2 beta:\n",
      "[[ 0.07283667]\n",
      " [-0.06483139]] \n",
      "\n"
     ]
    }
   ],
   "source": [
    "beta = np.zeros((p, 1))\n",
    "beta_0 = []\n",
    "beta_1 = []\n",
    "\n",
    "for i in range(10):\n",
    "    prob = 1 / (1 + np.exp(-x @ beta))\n",
    "    grad = np.mean((prob - y) * x, axis=0, keepdims=True).T + 2 * lambda_v * beta\n",
    "    D = np.diag((prob * (1 - prob)).reshape(n))\n",
    "    H = x.T @ D @ x / n + np.diag(np.repeat(2 * lambda_v, p))\n",
    "    \n",
    "    beta_new = beta - np.linalg.inv(H) @ grad\n",
    "    beta_0.append(beta_new[0])\n",
    "    beta_1.append(beta_new[1])\n",
    "    \n",
    "    if np.sum(np.abs(beta_new - beta)) < 1e-8:\n",
    "        beta = beta_new\n",
    "        print('Iteration {} beta:'.format(i))\n",
    "        print(beta, '\\n')\n",
    "        break\n",
    "    else:\n",
    "        beta = beta_new\n",
    "        print('Iteration {} beta:'.format(i))\n",
    "        print(beta, '\\n')    "
   ]
  },
  {
   "cell_type": "markdown",
   "metadata": {},
   "source": [
    "We almost found the solution for beta. So does this solution satisfy the optimality? Or Is the gradient of 0 at this beta? One way to check this is to apply [Karush-Kuhn-Tucker (KKT) condition](https://en.wikipedia.org/wiki/Karush%E2%80%93Kuhn%E2%80%93Tucker_conditions)."
   ]
  },
  {
   "cell_type": "code",
   "execution_count": 12,
   "metadata": {},
   "outputs": [
    {
     "data": {
      "text/plain": [
       "array([[2.77555756e-17],\n",
       "       [0.00000000e+00]])"
      ]
     },
     "execution_count": 12,
     "metadata": {},
     "output_type": "execute_result"
    }
   ],
   "source": [
    "prob = 1 / (1 + np.exp(-x @ beta))\n",
    "grad = np.mean((prob - y) * x, axis=0, keepdims=True).T + 2 * lambda_v * beta\n",
    "grad"
   ]
  },
  {
   "cell_type": "code",
   "execution_count": 13,
   "metadata": {},
   "outputs": [
    {
     "data": {
      "text/plain": [
       "True"
      ]
     },
     "execution_count": 13,
     "metadata": {},
     "output_type": "execute_result"
    }
   ],
   "source": [
    "np.all(np.abs(grad) < 1e-8)"
   ]
  },
  {
   "cell_type": "markdown",
   "metadata": {},
   "source": [
    "In this time, we will use Lasso and Ridge Regression implemented in scikit-learn. \n",
    "\n",
    "At first, we need to find solution path for each lambda.\n",
    "\n",
    "Note that, Ridge penalty can be expressed like this,\n",
    "\n",
    "$$ \\beta(\\lambda) = \\arg\\min_{\\beta} \\frac{1}{2} \\Vert Y - X \\beta \\Vert^2 + \\lambda \\Vert \\beta \\Vert^2 $$"
   ]
  },
  {
   "cell_type": "code",
   "execution_count": 25,
   "metadata": {},
   "outputs": [],
   "source": [
    "n_lambdas = 50\n",
    "lambda_vec = np.linspace(0, 100, n_lambdas)"
   ]
  },
  {
   "cell_type": "code",
   "execution_count": 30,
   "metadata": {},
   "outputs": [
    {
     "data": {
      "text/plain": [
       "array([[ 0.30933704, -0.3050756 ],\n",
       "       [ 0.27101754, -0.28508068],\n",
       "       [ 0.2436212 , -0.26489766],\n",
       "       [ 0.22216416, -0.24649493],\n",
       "       [ 0.2045881 , -0.23010196],\n",
       "       [ 0.18979669, -0.21556417]])"
      ]
     },
     "execution_count": 30,
     "metadata": {},
     "output_type": "execute_result"
    }
   ],
   "source": [
    "coefs = []\n",
    "for lambda_v in lambda_vec:\n",
    "    ridge = Ridge(alpha=lambda_v, fit_intercept=False)\n",
    "    ridge.fit(x, y)\n",
    "    coefs.append(ridge.coef_)\n",
    "coefs = np.squeeze(np.array(coefs))\n",
    "coefs[:6, :]"
   ]
  },
  {
   "cell_type": "code",
   "execution_count": 35,
   "metadata": {},
   "outputs": [
    {
     "data": {
      "image/png": "[encoded data removed]",
      "text/plain": [
       "<Figure size 1152x720 with 1 Axes>"
      ]
     },
     "metadata": {
      "needs_background": "light"
     },
     "output_type": "display_data"
    }
   ],
   "source": [
    "plt.figure(figsize=(16, 10))\n",
    "colors = ['b', 'r', 'g']\n",
    "lstyles = ['-', '--', '-.', ':']\n",
    "\n",
    "for i in range(p):\n",
    "    l = plt.plot(lambda_vec, coefs[:, i], linestyle=lstyles[i], c=colors[i])\n",
    "plt.xscale('log')\n",
    "plt.axis('tight')\n",
    "plt.xlabel('lambda')\n",
    "plt.ylabel('beta')\n",
    "plt.title('Ridge Regression Solution Path')\n",
    "plt.show()"
   ]
  },
  {
   "cell_type": "markdown",
   "metadata": {},
   "source": [
    "As you can see, when the $\\lambda$ is increased, $\\beta$ is closed to 0, which means the **'shrinkage'** of the beta.\n",
    "\n",
    "Unlike Ridge, Lasso uses absolute beta for the penalty.\n",
    "\n",
    "$$ \\beta(\\lambda) = \\arg\\min_{\\beta} \\frac{1}{2} \\Vert Y - X \\beta \\Vert^2 + \\lambda \\vert \\beta \\vert $$"
   ]
  },
  {
   "cell_type": "code",
   "execution_count": 36,
   "metadata": {},
   "outputs": [
    {
     "data": {
      "text/plain": [
       "array([[ 0.00000000e+00,  0.00000000e+00,  0.00000000e+00,\n",
       "         0.00000000e+00,  0.00000000e+00],\n",
       "       [-5.27325648e-17, -2.47515217e-02, -4.82132055e-02,\n",
       "        -7.04522666e-02, -9.15324179e-02]])"
      ]
     },
     "execution_count": 36,
     "metadata": {},
     "output_type": "execute_result"
    }
   ],
   "source": [
    "eps = 5e-3\n",
    "\n",
    "lambdas_lasso, coefs_lasso, _ = lasso_path(x, y, eps=eps, fit_intercept=False)\n",
    "coefs_lasso = np.squeeze(coefs_lasso)\n",
    "coefs_lasso[:, :5]"
   ]
  },
  {
   "cell_type": "code",
   "execution_count": 37,
   "metadata": {},
   "outputs": [
    {
     "data": {
      "image/png": "[encoded data removed]",
      "text/plain": [
       "<Figure size 1152x720 with 1 Axes>"
      ]
     },
     "metadata": {
      "needs_background": "light"
     },
     "output_type": "display_data"
    }
   ],
   "source": [
    "plt.figure(figsize=(16, 10))\n",
    "colors = ['b', 'r', 'g']\n",
    "lstyles = ['-', '--', '-.', ':']\n",
    "\n",
    "for coef, c, l in zip(coefs_lasso, colors, lstyles):\n",
    "    l = plt.plot(lambdas_lasso, coef, linestyle=l, c=c)\n",
    "plt.axis('tight')\n",
    "plt.xlabel('lambda')\n",
    "plt.ylabel('beta')\n",
    "plt.title('Lasso Regression Solution Path')\n",
    "plt.show()"
   ]
  }
 ],
 "metadata": {
  "kernelspec": {
   "display_name": "Python 3",
   "language": "python",
   "name": "python3"
  },
  "language_info": {
   "codemirror_mode": {
    "name": "ipython",
    "version": 3
   },
   "file_extension": ".py",
   "mimetype": "text/x-python",
   "name": "python",
   "nbconvert_exporter": "python",
   "pygments_lexer": "ipython3",
   "version": "3.7.10"
  }
 },
 "nbformat": 4,
 "nbformat_minor": 4
}
