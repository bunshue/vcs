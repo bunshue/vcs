{
 "cells": [
  {
   "cell_type": "markdown",
   "metadata": {},
   "source": [
    "# RNN - Many-to-many\n",
    "> In this post, We will cover the many-to-many RNN model, which can be used for Part of Speech (POS) tagging and Named Entity Recognition (NER).\n",
    "\n",
    "- toc: true \n",
    "- badges: true\n",
    "- comments: true\n",
    "- author: Chanseok Kang\n",
    "- categories: [Python, Deep_Learning, Tensorflow-Keras]\n",
    "- image: images/many-to-many-pos.png"
   ]
  },
  {
   "cell_type": "code",
   "execution_count": 1,
   "metadata": {},
   "outputs": [
    {
     "name": "stdout",
     "output_type": "stream",
     "text": [
      "Tensorflow: 2.3.1\n"
     ]
    }
   ],
   "source": [
    "import tensorflow as tf\n",
    "import numpy as np\n",
    "import matplotlib.pyplot as plt\n",
    "import pandas as pd\n",
    "\n",
    "print('Tensorflow: {}'.format(tf.__version__))\n",
    "\n",
    "plt.rcParams['figure.figsize'] = (16, 10)\n",
    "plt.rc('font', size=15)"
   ]
  },
  {
   "cell_type": "markdown",
   "metadata": {},
   "source": [
    "## What is \"Many-to-many\"?\n",
    "\n",
    "Previously, we covered 3 kinds of RNN model, one-to-one, many-to-one, and many-to-one with stacked model. Especially on many-to-one model, it gets an sequence data as an input, and generates the single output. So it can be used for classification, and previous example shows simple implementation of many-to-one model for word/sequence classification.\n",
    "\n",
    "Then, what is **many-to-many** model?\n",
    "\n",
    "![many-to-many](image/many-to-many.png) {% fn 1 %}\n",
    "\n",
    "The concept is same as before. In many-to-one model, to generate the output, the final input must be entered into model. Unlike this, many-to-many model generates the output whenever each input is read. That is, many-to-many model can understand the feature of each token in input sequence.\n",
    "\n",
    "![many-to-many-pos](image/many-to-many-pos.png)\n",
    "\n",
    "One possible example is [**Part-of-Speech**](https://en.wikipedia.org/wiki/Part_of_speech) tagging, POS for short. POS is a category of words (or lexical items) that have similar grammatical properties. Common POS type are noun, verb, adjective, adverb, pronoun, etc. {% fn 2 %}. So POS tagging is automatically tagged POS of each token. Of course, it can manually handle with rule-based model, but many-to-many model is appropriate for doing this.\n",
    "\n",
    "For example, we have a sentence.\n",
    "$$ \\text{tensorflow is very easy} $$\n",
    "\n",
    "In order to do POS tagging, word tokenization is processed on that sentence. After that, we can get\n",
    "\n",
    "$$ [\\text{'tensorflow', 'is', 'very', 'easy'}] $$\n",
    "\n",
    "Then POS will be tagged on each token like this,\n",
    "\n",
    "$$[\\text{'noun', 'verb', 'adverb', 'adjective'}]$$\n",
    "\n",
    "If the many-to-many model is well-trained, whole process will be happened well.\n",
    "\n",
    "Unlike many-to-one model, loss measure is also different in many-to-many model. In many-to-one model, it can measure the loss by comparing the prediction value($\\hat{y}$) and actual value($y$). But in many-to-many model, each output node can measure the loss. There are many losses, so common ways to use it for training is by averaging whole losses. This kind of loss is called **sequence loss**. After that, specific optimizer (SGD or Adam) tries to minimize the loss with backpropagation.\n",
    "\n",
    "One thing we need to consider is handling padding tokens('<pad>'). As you saw from previous post, padding tokens are for formalize the various length of each sentence, it has no meaning. So it is required to remove (or \"masking\") padding tokens before training."
   ]
  },
  {
   "cell_type": "markdown",
   "metadata": {},
   "source": [
    "## Example - Part of Speech Tagging\n",
    "\n",
    "### Prepraring Dataset\n",
    "\n",
    "In this section, we will implement the simple many-to-many model for POS tagging. Of course, there are two types of training data, sentence, and POS of that sentence. (Assume that we already tokenize each sentence.)"
   ]
  },
  {
   "cell_type": "code",
   "execution_count": 2,
   "metadata": {},
   "outputs": [],
   "source": [
    "sentences = [['I', 'feel', 'hungry'],\n",
    "             ['tensorflow', 'is', 'very', 'difficult'],\n",
    "             ['tensorflow', 'is', 'a', 'framework', 'for', 'deep', 'learning'],\n",
    "             ['tensorflow', 'is', 'very', 'fast', 'changing']]\n",
    "\n",
    "pos = [['pronoun', 'verb', 'adjective'], \n",
    "       ['noun', 'verb', 'adverb', 'adjective'],\n",
    "       ['noun', 'verb', 'determiner', 'noun', 'preposition', 'adjective', 'noun'],\n",
    "       ['noun', 'verb', 'adverb', 'adjective', 'verb']]"
   ]
  },
  {
   "cell_type": "markdown",
   "metadata": {},
   "source": [
    "Same as previous example, we can build token dictionary. And additionally, we need to build POS dictionary."
   ]
  },
  {
   "cell_type": "code",
   "execution_count": 3,
   "metadata": {},
   "outputs": [
    {
     "name": "stdout",
     "output_type": "stream",
     "text": [
      "['<pad>', 'I', 'a', 'changing', 'deep', 'difficult', 'fast', 'feel', 'for', 'framework', 'hungry', 'is', 'learning', 'tensorflow', 'very']\n",
      "{'<pad>': 0, 'I': 1, 'a': 2, 'changing': 3, 'deep': 4, 'difficult': 5, 'fast': 6, 'feel': 7, 'for': 8, 'framework': 9, 'hungry': 10, 'is': 11, 'learning': 12, 'tensorflow': 13, 'very': 14}\n",
      "{0: '<pad>', 1: 'I', 2: 'a', 3: 'changing', 4: 'deep', 5: 'difficult', 6: 'fast', 7: 'feel', 8: 'for', 9: 'framework', 10: 'hungry', 11: 'is', 12: 'learning', 13: 'tensorflow', 14: 'very'}\n"
     ]
    }
   ],
   "source": [
    "word_list =['<pad>'] + sorted(set(sum(sentences, []))) \n",
    "word2idx = {word:idx for idx, word in enumerate(word_list)}\n",
    "idx2word = {idx:word for idx, word in enumerate(word_list)}\n",
    "\n",
    "print(word_list)\n",
    "print(word2idx)\n",
    "print(idx2word)"
   ]
  },
  {
   "cell_type": "code",
   "execution_count": 4,
   "metadata": {},
   "outputs": [
    {
     "name": "stdout",
     "output_type": "stream",
     "text": [
      "['<pad>', 'adjective', 'adverb', 'determiner', 'noun', 'preposition', 'pronoun', 'verb']\n",
      "{'<pad>': 0, 'adjective': 1, 'adverb': 2, 'determiner': 3, 'noun': 4, 'preposition': 5, 'pronoun': 6, 'verb': 7}\n",
      "{0: '<pad>', 1: 'adjective', 2: 'adverb', 3: 'determiner', 4: 'noun', 5: 'preposition', 6: 'pronoun', 7: 'verb'}\n"
     ]
    }
   ],
   "source": [
    "pos_list = ['<pad>'] + sorted(set(sum(pos, [])))\n",
    "pos2idx = {pos:idx for idx, pos in enumerate(pos_list)}\n",
    "idx2pos = {idx:pos for idx, pos in enumerate(pos_list)}\n",
    "\n",
    "print(pos_list)\n",
    "print(pos2idx)\n",
    "print(idx2pos)"
   ]
  },
  {
   "cell_type": "markdown",
   "metadata": {},
   "source": [
    "We build the dictionary for dataset. Based on this, we can convert from sentence to numerical vector."
   ]
  },
  {
   "cell_type": "code",
   "execution_count": 5,
   "metadata": {},
   "outputs": [
    {
     "name": "stdout",
     "output_type": "stream",
     "text": [
      "[[1, 7, 10], [13, 11, 14, 5], [13, 11, 2, 9, 8, 4, 12], [13, 11, 14, 6, 3]]\n",
      "[[6, 7, 1], [4, 7, 2, 1], [4, 7, 3, 4, 5, 1, 4], [4, 7, 2, 1, 7]]\n"
     ]
    }
   ],
   "source": [
    "X = list(map(lambda sentence: [word2idx.get(token) for token in sentence], sentences))\n",
    "y = list(map(lambda sentence: [pos2idx.get(token) for token in sentence], pos))\n",
    "\n",
    "print(X)\n",
    "print(y)"
   ]
  },
  {
   "cell_type": "markdown",
   "metadata": {},
   "source": [
    "As you can see, the length of each sentence is various. We can fix the the length with `pad_sequences`. Also, we need masking vector for filtering pad tokens. In order to this, we feed the length of each sentence without padding as an input."
   ]
  },
  {
   "cell_type": "code",
   "execution_count": 6,
   "metadata": {},
   "outputs": [
    {
     "name": "stdout",
     "output_type": "stream",
     "text": [
      "[[ 1  7 10  0  0  0  0  0  0  0]\n",
      " [13 11 14  5  0  0  0  0  0  0]\n",
      " [13 11  2  9  8  4 12  0  0  0]\n",
      " [13 11 14  6  3  0  0  0  0  0]]\n",
      "[[1. 1. 1. 0. 0. 0. 0. 0. 0. 0.]\n",
      " [1. 1. 1. 1. 0. 0. 0. 0. 0. 0.]\n",
      " [1. 1. 1. 1. 1. 1. 1. 0. 0. 0.]\n",
      " [1. 1. 1. 1. 1. 0. 0. 0. 0. 0.]]\n",
      "[3. 4. 7. 5.]\n"
     ]
    }
   ],
   "source": [
    "from tensorflow.keras.preprocessing.sequence import pad_sequences\n",
    "\n",
    "X = pad_sequences(X, maxlen=10, padding='post')\n",
    "X_mask = (X != 0).astype(np.float32)\n",
    "X_len = np.array(list((map(lambda sentence: len(sentence), sentences))), dtype=np.float32)\n",
    "\n",
    "print(X)\n",
    "print(X_mask)\n",
    "print(X_len)"
   ]
  },
  {
   "cell_type": "code",
   "execution_count": 7,
   "metadata": {},
   "outputs": [
    {
     "name": "stdout",
     "output_type": "stream",
     "text": [
      "[[6 7 1 0 0 0 0 0 0 0]\n",
      " [4 7 2 1 0 0 0 0 0 0]\n",
      " [4 7 3 4 5 1 4 0 0 0]\n",
      " [4 7 2 1 7 0 0 0 0 0]]\n"
     ]
    }
   ],
   "source": [
    "y = pad_sequences(y, maxlen=10, padding='post')\n",
    "\n",
    "print(y)"
   ]
  },
  {
   "cell_type": "code",
   "execution_count": 8,
   "metadata": {},
   "outputs": [
    {
     "name": "stdout",
     "output_type": "stream",
     "text": [
      "<BatchDataset shapes: ((None, 10), (None, 10), (None,)), types: (tf.int32, tf.int32, tf.float32)>\n"
     ]
    }
   ],
   "source": [
    "train_ds = tf.data.Dataset.from_tensor_slices((X, y, X_len)).shuffle(buffer_size=4).batch(batch_size=2)\n",
    "\n",
    "print(train_ds)"
   ]
  },
  {
   "cell_type": "markdown",
   "metadata": {},
   "source": [
    "### Model implementation\n",
    "\n",
    "For many-to-many model, the output node must be number of classes. In our example, we need to predict the type of POS."
   ]
  },
  {
   "cell_type": "code",
   "execution_count": 9,
   "metadata": {},
   "outputs": [],
   "source": [
    "num_classes = len(pos2idx)\n",
    "input_dim = len(word2idx)\n",
    "output_dim = len(word2idx)"
   ]
  },
  {
   "cell_type": "code",
   "execution_count": 10,
   "metadata": {},
   "outputs": [
    {
     "name": "stdout",
     "output_type": "stream",
     "text": [
      "Model: \"sequential\"\n",
      "_________________________________________________________________\n",
      "Layer (type)                 Output Shape              Param #   \n",
      "=================================================================\n",
      "embedding (Embedding)        (None, 10, 15)            225       \n",
      "_________________________________________________________________\n",
      "simple_rnn (SimpleRNN)       (None, 10, 10)            260       \n",
      "_________________________________________________________________\n",
      "time_distributed (TimeDistri (None, 10, 8)             88        \n",
      "=================================================================\n",
      "Total params: 573\n",
      "Trainable params: 348\n",
      "Non-trainable params: 225\n",
      "_________________________________________________________________\n"
     ]
    }
   ],
   "source": [
    "from tensorflow.keras.models import Sequential\n",
    "from tensorflow.keras.layers import Embedding, TimeDistributed, Dense, SimpleRNN\n",
    "\n",
    "model = Sequential([\n",
    "    Embedding(input_dim=input_dim, output_dim=output_dim,\n",
    "              mask_zero=True, trainable=False, input_length=10,\n",
    "              embeddings_initializer=tf.keras.initializers.random_normal()),\n",
    "    SimpleRNN(units=10, return_sequences=True),\n",
    "    TimeDistributed(Dense(units=num_classes))\n",
    "])\n",
    "\n",
    "model.summary()"
   ]
  },
  {
   "cell_type": "markdown",
   "metadata": {},
   "source": [
    "So, here is important section, the loss definition. As we saw before, we need to filter the pad tokens, and calculate the sequence loss with each POS losses. Actually, tensorflow has API for masking. (`sequence_mask`)"
   ]
  },
  {
   "cell_type": "code",
   "execution_count": 11,
   "metadata": {},
   "outputs": [],
   "source": [
    "def loss_fn(model, x, y, x_len, max_sequence):\n",
    "    masking = tf.sequence_mask(x_len, maxlen=max_sequence, dtype=tf.float32)\n",
    "    sequence_loss = tf.keras.losses.sparse_categorical_crossentropy(\n",
    "        y_true=y, y_pred=model(x), from_logits=True\n",
    "    ) * masking\n",
    "    sequence_loss = tf.reduce_mean(tf.reduce_sum(sequence_loss, axis=1) / x_len)\n",
    "    return sequence_loss\n",
    "\n",
    "optimizer = tf.keras.optimizers.Adam(learning_rate=0.1)"
   ]
  },
  {
   "cell_type": "code",
   "execution_count": 13,
   "metadata": {},
   "outputs": [
    {
     "name": "stdout",
     "output_type": "stream",
     "text": [
      "Epoch:   5, tr_loss: 0.177\n",
      "Epoch:  10, tr_loss: 0.038\n",
      "Epoch:  15, tr_loss: 0.010\n",
      "Epoch:  20, tr_loss: 0.005\n",
      "Epoch:  25, tr_loss: 0.004\n",
      "Epoch:  30, tr_loss: 0.003\n"
     ]
    }
   ],
   "source": [
    "tr_loss_hist = []\n",
    "\n",
    "for e in range(30):\n",
    "    avg_tr_loss = 0\n",
    "    tr_step = 0\n",
    "    \n",
    "    for x_mb, y_mb, x_mb_len in train_ds:\n",
    "        with tf.GradientTape() as tape:\n",
    "            tr_loss = loss_fn(model, x_mb, y_mb, x_mb_len, max_sequence=10)\n",
    "        grads = tape.gradient(tr_loss, model.trainable_variables)\n",
    "        optimizer.apply_gradients(grads_and_vars=zip(grads, model.trainable_variables))\n",
    "        avg_tr_loss += tr_loss\n",
    "        tr_step += 1\n",
    "    avg_tr_loss /= tr_step\n",
    "    tr_loss_hist.append(avg_tr_loss)\n",
    "    \n",
    "    if (e + 1) % 5 == 0:\n",
    "        print('Epoch: {:3}, tr_loss: {:.3f}'.format(e+1, avg_tr_loss))"
   ]
  },
  {
   "cell_type": "markdown",
   "metadata": {},
   "source": [
    "We trained the model with 0.003 loss. Then we can enter the X data into the model as an input."
   ]
  },
  {
   "cell_type": "code",
   "execution_count": 15,
   "metadata": {},
   "outputs": [
    {
     "data": {
      "text/plain": [
       "array([[6., 7., 1., 0., 0., 0., 0., 0., 0., 0.],\n",
       "       [4., 7., 2., 1., 0., 0., 0., 0., 0., 0.],\n",
       "       [4., 7., 3., 4., 5., 1., 4., 0., 0., 0.],\n",
       "       [4., 7., 2., 1., 7., 0., 0., 0., 0., 0.]])"
      ]
     },
     "execution_count": 15,
     "metadata": {},
     "output_type": "execute_result"
    }
   ],
   "source": [
    "y_pred = model.predict(X)\n",
    "y_pred = np.argmax(y_pred, axis=-1) * X_mask\n",
    "\n",
    "y_pred"
   ]
  },
  {
   "cell_type": "markdown",
   "metadata": {},
   "source": [
    "To understand the model more visually, we can convert from numerical vector to POS with `idx2pos` dictionary."
   ]
  },
  {
   "cell_type": "code",
   "execution_count": 18,
   "metadata": {},
   "outputs": [
    {
     "name": "stdout",
     "output_type": "stream",
     "text": [
      "[['pronoun',\n",
      "  'verb',\n",
      "  'adjective',\n",
      "  '<pad>',\n",
      "  '<pad>',\n",
      "  '<pad>',\n",
      "  '<pad>',\n",
      "  '<pad>',\n",
      "  '<pad>',\n",
      "  '<pad>'],\n",
      " ['noun',\n",
      "  'verb',\n",
      "  'adverb',\n",
      "  'adjective',\n",
      "  '<pad>',\n",
      "  '<pad>',\n",
      "  '<pad>',\n",
      "  '<pad>',\n",
      "  '<pad>',\n",
      "  '<pad>'],\n",
      " ['noun',\n",
      "  'verb',\n",
      "  'determiner',\n",
      "  'noun',\n",
      "  'preposition',\n",
      "  'adjective',\n",
      "  'noun',\n",
      "  '<pad>',\n",
      "  '<pad>',\n",
      "  '<pad>'],\n",
      " ['noun',\n",
      "  'verb',\n",
      "  'adverb',\n",
      "  'adjective',\n",
      "  'verb',\n",
      "  '<pad>',\n",
      "  '<pad>',\n",
      "  '<pad>',\n",
      "  '<pad>',\n",
      "  '<pad>']]\n",
      "[['pronoun', 'verb', 'adjective'],\n",
      " ['noun', 'verb', 'adverb', 'adjective'],\n",
      " ['noun', 'verb', 'determiner', 'noun', 'preposition', 'adjective', 'noun'],\n",
      " ['noun', 'verb', 'adverb', 'adjective', 'verb']]\n"
     ]
    }
   ],
   "source": [
    "from pprint import pprint\n",
    "\n",
    "y_pred_pos = list(map(lambda row: [idx2pos.get(elm) for elm in row], y_pred.astype(np.int32).tolist()))\n",
    "\n",
    "pprint(y_pred_pos)\n",
    "\n",
    "pprint(pos)"
   ]
  },
  {
   "cell_type": "code",
   "execution_count": 19,
   "metadata": {},
   "outputs": [
    {
     "data": {
      "image/png": "[encoded data removed]",
      "text/plain": [
       "<Figure size 1152x720 with 1 Axes>"
      ]
     },
     "metadata": {
      "needs_background": "light"
     },
     "output_type": "display_data"
    }
   ],
   "source": [
    "plt.figure()\n",
    "plt.plot(tr_loss_hist)\n",
    "plt.title('Training loss for many-to-many model')\n",
    "plt.show()"
   ]
  },
  {
   "cell_type": "markdown",
   "metadata": {},
   "source": [
    "## Summary\n",
    "\n",
    "Through this post, we tried to understand the basic concept of many-to-many RNN model, and how it can used for POS tagging. The main difference from previous ones is the output node is more than 2, not one, and measuring the sequence loss. We simply implement the many-to-many model, and it shows good performance as we expect. (Actually, we need to use validation data, not training data itself for performance measurement.)"
   ]
  },
  {
   "cell_type": "markdown",
   "metadata": {},
   "source": [
    "{{ 'Reference from stanford CS231n lecture note' | fndetail: 1}}\n",
    "{{ 'Bring the definition from [wikipedia](https://en.wikipedia.org/wiki/Part_of_speech)' | fndetail: 2}}"
   ]
  }
 ],
 "metadata": {
  "kernelspec": {
   "display_name": "Python 3",
   "language": "python",
   "name": "python3"
  },
  "language_info": {
   "codemirror_mode": {
    "name": "ipython",
    "version": 3
   },
   "file_extension": ".py",
   "mimetype": "text/x-python",
   "name": "python",
   "nbconvert_exporter": "python",
   "pygments_lexer": "ipython3",
   "version": "3.7.6"
  }
 },
 "nbformat": 4,
 "nbformat_minor": 4
}
