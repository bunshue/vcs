{
 "cells": [
  {
   "cell_type": "markdown",
   "metadata": {},
   "source": [
    "# RNN Basic\n",
    "> In this post, We will briefly cover the Recurrent Neural Network (RNN) and its implementation in tensorflow. \n",
    "\n",
    "- toc: true \n",
    "- badges: true\n",
    "- comments: true\n",
    "- author: Chanseok Kang\n",
    "- categories: [Python, Deep_Learning, Tensorflow-Keras]\n",
    "- image: images/simpleRNN.png"
   ]
  },
  {
   "cell_type": "code",
   "execution_count": 3,
   "metadata": {},
   "outputs": [
    {
     "name": "stdout",
     "output_type": "stream",
     "text": [
      "Tensorflow: 2.3.1\n"
     ]
    }
   ],
   "source": [
    "import tensorflow as tf\n",
    "import numpy as np\n",
    "import matplotlib.pyplot as plt\n",
    "import pandas as pd\n",
    "\n",
    "print('Tensorflow: {}'.format(tf.__version__))\n",
    "\n",
    "plt.rcParams['figure.figsize'] = (16, 10)\n",
    "plt.rc('font', size=15)"
   ]
  },
  {
   "cell_type": "markdown",
   "metadata": {},
   "source": [
    "## RNN in Tensorflow\n",
    "Recurrent Neural Network (RNN for short) is the neural network that has backward stream into input node. Simple notation is expressed like this,\n",
    "\n",
    "![RNN](image/simpleRNN.png)\n",
    "\n",
    "And it is implemented in Tensorflow (of course, it can be easily used with tensorflow keras). There are two implementation approaches,\n",
    "\n",
    "- Using basic cell (`SimpleRNNCell`) and merge it with multiple elements to build complex model like Long Short Term Mermory (LSTM) or Gated Recurrent Unit (GRU)\n",
    "\n",
    "```python\n",
    "cell = tf.keras.layers.SimpleRNNCell(units=hidden_size)\n",
    "rnn = tf.keras.layers.RNN(cell, return_sequences=True, return_state=True)\n",
    "outputs, states = rnn(X_data)\n",
    "```\n",
    "\n",
    "- Using RNN Layer (`SimpleRNN`)\n",
    "\n",
    "```python\n",
    "rnn = tf.keras.layers.SimpleRNN(units=hidden_size, return_sequences=True, \n",
    "                                return_state=True)\n",
    "outputs, states = rnn(X_data)\n",
    "```"
   ]
  },
  {
   "cell_type": "markdown",
   "metadata": {},
   "source": [
    "## Simple RNN Cell\n",
    "Let's look at more closely with example. Suppose that we want to train RNN that can generate the word \"hello\". Of course, the model cannot interpret word itself, so it is required to convert it with one-hot encoding. Currently, \"Hello\" is the word with 4 characters, \"h\", \"e\", \"l\", \"o\". So we can define each character with one-hot expression."
   ]
  },
  {
   "cell_type": "code",
   "execution_count": 4,
   "metadata": {},
   "outputs": [],
   "source": [
    "h = [1, 0, 0, 0]\n",
    "e = [0, 1, 0, 0]\n",
    "l = [0, 0, 1, 0]\n",
    "o = [0, 0, 0, 1]"
   ]
  },
  {
   "cell_type": "markdown",
   "metadata": {},
   "source": [
    "In tensorflow, to insert this data, we need to reshape like this order:\n",
    "\n",
    "$$ (\\text{batch_size}, \\text{sequence_length}, \\text{sequence_width}) $$\n",
    "\n",
    "If we want to insert one-hot encoded `h` in RNN as an input, we can make it with numpy array,"
   ]
  },
  {
   "cell_type": "code",
   "execution_count": 6,
   "metadata": {},
   "outputs": [
    {
     "data": {
      "text/plain": [
       "(1, 1, 4)"
      ]
     },
     "execution_count": 6,
     "metadata": {},
     "output_type": "execute_result"
    }
   ],
   "source": [
    "X_data = np.array([[h]], dtype=np.float32)\n",
    "X_data.shape"
   ]
  },
  {
   "cell_type": "markdown",
   "metadata": {},
   "source": [
    "Then, we can make RNN cell with hidden_size of 2."
   ]
  },
  {
   "cell_type": "code",
   "execution_count": 10,
   "metadata": {},
   "outputs": [
    {
     "name": "stdout",
     "output_type": "stream",
     "text": [
      "X_data: [[[1. 0. 0. 0.]]], shape: (1, 1, 4)\n",
      "output: [[[-0.6887451  0.2290415]]], shape: (1, 1, 2)\n",
      "states: [[-0.6887451  0.2290415]], shape: (1, 2)\n"
     ]
    }
   ],
   "source": [
    "hidden_size = 2\n",
    "cell = tf.keras.layers.SimpleRNNCell(units=hidden_size)\n",
    "rnn = tf.keras.layers.RNN(cell, return_sequences=True, return_state=True)\n",
    "outputs, states = rnn(X_data)\n",
    "\n",
    "print(\"X_data: {}, shape: {}\".format(X_data, X_data.shape))\n",
    "print(\"output: {}, shape: {}\".format(outputs, outputs.shape))\n",
    "print(\"states: {}, shape: {}\".format(states, states.shape))"
   ]
  },
  {
   "cell_type": "markdown",
   "metadata": {},
   "source": [
    "Mentioned before, we can also build it with layer API."
   ]
  },
  {
   "cell_type": "code",
   "execution_count": 8,
   "metadata": {},
   "outputs": [
    {
     "name": "stdout",
     "output_type": "stream",
     "text": [
      "X_data: [[[1. 0. 0. 0.]]], shape: (1, 1, 4)\n",
      "output: [[[-0.07527272 -0.67188245]]], shape: (1, 1, 2)\n",
      "states: [[-0.07527272 -0.67188245]], shape: (1, 2)\n"
     ]
    }
   ],
   "source": [
    "rnn_2 = tf.keras.layers.SimpleRNN(units=hidden_size, return_sequences=True, return_state=True)\n",
    "outputs, states = rnn_2(X_data)\n",
    "\n",
    "print(\"X_data: {}, shape: {}\".format(X_data, X_data.shape))\n",
    "print(\"output: {}, shape: {}\".format(outputs, outputs.shape))\n",
    "print(\"states: {}, shape: {}\".format(states, states.shape))"
   ]
  },
  {
   "cell_type": "markdown",
   "metadata": {},
   "source": [
    "## Unfolding multiple sequences\n",
    "But in above example, the output is meaningless. RNN is neural network for sequence data, but we just insert 1-sequence data. In order to understand the RNN operation, we need to insert multiple-length sequences.\n",
    "\n",
    "![rnn_example](image/rnn_example1.png)\n",
    "\n",
    "In this case, we will insert 5-length sequences. So input data shape will be like this,\n",
    "\n",
    "$$ (1, 5, 4) $$\n",
    "\n",
    "Currently, we just use 1 batch, and 5-length sequence, and our data have 4 width after one-hot encoding. If the hidden size is 2, then the output shape is aligned to hidden_size.\n",
    "\n",
    "Anyway, Our input data will be like this,"
   ]
  },
  {
   "cell_type": "code",
   "execution_count": 11,
   "metadata": {},
   "outputs": [
    {
     "data": {
      "text/plain": [
       "(1, 5, 4)"
      ]
     },
     "execution_count": 11,
     "metadata": {},
     "output_type": "execute_result"
    }
   ],
   "source": [
    "X_data = np.array([[h, e, l, l, o]], dtype=np.float32)\n",
    "X_data.shape"
   ]
  },
  {
   "cell_type": "markdown",
   "metadata": {},
   "source": [
    "Same as before, we can build RNN cell."
   ]
  },
  {
   "cell_type": "code",
   "execution_count": 14,
   "metadata": {},
   "outputs": [
    {
     "name": "stdout",
     "output_type": "stream",
     "text": [
      "X_data: [[[1. 0. 0. 0.]\n",
      "  [0. 1. 0. 0.]\n",
      "  [0. 0. 1. 0.]\n",
      "  [0. 0. 1. 0.]\n",
      "  [0. 0. 0. 1.]]], shape: (1, 5, 4)\n",
      "\n",
      "output: [[[-0.12052011  0.5526149 ]\n",
      "  [ 0.4244858   0.65038365]\n",
      "  [-0.8238987   0.44178498]\n",
      "  [ 0.00774928  0.73565745]\n",
      "  [ 0.3128305   0.8846916 ]]], shape: (1, 5, 2)\n",
      "\n",
      "states: [[0.3128305 0.8846916]], shape: (1, 2)\n"
     ]
    }
   ],
   "source": [
    "cell = tf.keras.layers.SimpleRNNCell(units=hidden_size)\n",
    "rnn = tf.keras.layers.RNN(cell, return_sequences=True, return_state=True)\n",
    "outputs, states = rnn(X_data)\n",
    "\n",
    "print(\"X_data: {}, shape: {}\\n\".format(X_data, X_data.shape))\n",
    "print(\"output: {}, shape: {}\\n\".format(outputs, outputs.shape))\n",
    "print(\"states: {}, shape: {}\".format(states, states.shape))"
   ]
  },
  {
   "cell_type": "markdown",
   "metadata": {},
   "source": [
    "Output contains each hidden states while input data is processed in RNN cell. So the the last element in output is the same as states, since it is the latest states after process."
   ]
  },
  {
   "cell_type": "markdown",
   "metadata": {},
   "source": [
    "## Batching Input\n",
    "Of course, we can extend the dataset with batch size.\n",
    "\n",
    "![example2](image/rnn_example2.png)\n",
    "\n",
    "Suppose that we have 3 batch data as inputs, and our input data is `hello`, `eolll`, and `lleel`. Don't worry about complex shape dataset. All the process is the same as before. All you need to do is to make the input dataset with appropriate shape. So in this case, we need to make (3, 5, 4)-shaped input.\n",
    "\n"
   ]
  },
  {
   "cell_type": "code",
   "execution_count": 16,
   "metadata": {},
   "outputs": [
    {
     "data": {
      "text/plain": [
       "(3, 5, 4)"
      ]
     },
     "execution_count": 16,
     "metadata": {},
     "output_type": "execute_result"
    }
   ],
   "source": [
    "X_data = np.array([[h, e, l, l, o],\n",
    "                   [e, o, l, l, l],\n",
    "                   [l, l, e, e, l]], dtype=np.float32)\n",
    "X_data.shape"
   ]
  },
  {
   "cell_type": "code",
   "execution_count": 17,
   "metadata": {},
   "outputs": [
    {
     "name": "stdout",
     "output_type": "stream",
     "text": [
      "X_data: [[[1. 0. 0. 0.]\n",
      "  [0. 1. 0. 0.]\n",
      "  [0. 0. 1. 0.]\n",
      "  [0. 0. 1. 0.]\n",
      "  [0. 0. 0. 1.]]\n",
      "\n",
      " [[0. 1. 0. 0.]\n",
      "  [0. 0. 0. 1.]\n",
      "  [0. 0. 1. 0.]\n",
      "  [0. 0. 1. 0.]\n",
      "  [0. 0. 1. 0.]]\n",
      "\n",
      " [[0. 0. 1. 0.]\n",
      "  [0. 0. 1. 0.]\n",
      "  [0. 1. 0. 0.]\n",
      "  [0. 1. 0. 0.]\n",
      "  [0. 0. 1. 0.]]], shape: (3, 5, 4)\n",
      "\n",
      "output: [[[-0.0886425  -0.35497615]\n",
      "  [-0.37740785  0.4966906 ]\n",
      "  [-0.17157763  0.7537353 ]\n",
      "  [-0.36729524  0.62280154]\n",
      "  [-0.49442795  0.61391914]]\n",
      "\n",
      " [[-0.6217956   0.37030688]\n",
      "  [-0.330911    0.767418  ]\n",
      "  [-0.40512574  0.708009  ]\n",
      "  [-0.36787215  0.7476258 ]\n",
      "  [-0.39487016  0.72745013]]\n",
      "\n",
      " [[ 0.36914107  0.60953295]\n",
      "  [-0.137596    0.22348596]\n",
      "  [-0.7504324   0.44638833]\n",
      "  [-0.86478275  0.77702737]\n",
      "  [-0.49543512  0.88641524]]], shape: (3, 5, 2)\n",
      "\n",
      "states: [[-0.49442795  0.61391914]\n",
      " [-0.39487016  0.72745013]\n",
      " [-0.49543512  0.88641524]], shape: (3, 2)\n"
     ]
    }
   ],
   "source": [
    "cell = tf.keras.layers.SimpleRNNCell(units=hidden_size)\n",
    "rnn = tf.keras.layers.RNN(cell, return_sequences=True, return_state=True)\n",
    "outputs, states = rnn(X_data)\n",
    "\n",
    "print(\"X_data: {}, shape: {}\\n\".format(X_data, X_data.shape))\n",
    "print(\"output: {}, shape: {}\\n\".format(outputs, outputs.shape))\n",
    "print(\"states: {}, shape: {}\".format(states, states.shape))"
   ]
  },
  {
   "cell_type": "markdown",
   "metadata": {},
   "source": [
    "Mentioned before, output contains each hidden states while processing the input data. Each hidden state affects the next hidden state and so on. Then the last hidden state will be states that outputs from RNN cell."
   ]
  },
  {
   "cell_type": "markdown",
   "metadata": {},
   "source": [
    "## Summary\n",
    "Through this post, we covered simple usage of RNN cell and layers in Tensorflow. We just define the dataset with appropriate format, then the RNN layer can generates hidden states for the output that affects to next state."
   ]
  }
 ],
 "metadata": {
  "kernelspec": {
   "display_name": "Python 3",
   "language": "python",
   "name": "python3"
  },
  "language_info": {
   "codemirror_mode": {
    "name": "ipython",
    "version": 3
   },
   "file_extension": ".py",
   "mimetype": "text/x-python",
   "name": "python",
   "nbconvert_exporter": "python",
   "pygments_lexer": "ipython3",
   "version": "3.7.6"
  }
 },
 "nbformat": 4,
 "nbformat_minor": 4
}
