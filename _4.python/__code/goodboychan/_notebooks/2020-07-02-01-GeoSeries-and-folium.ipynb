{
 "cells": [
  {
   "cell_type": "markdown",
   "metadata": {},
   "source": [
    "# GeoSeries and folium\n",
    "> First you will learn to get information about the geometries in your data with three different GeoSeries attributes and methods. Then you will learn to create a street map layer using folium. This is the Summary of lecture \"Visualizing Geospatial Data in Python\", via datacamp.\n",
    "\n",
    "- toc: true \n",
    "- badges: true\n",
    "- comments: true\n",
    "- author: Chanseok Kang\n",
    "- categories: [Python, Datacamp, Visualization]\n",
    "- image: images/downtown_map.png"
   ]
  },
  {
   "cell_type": "markdown",
   "metadata": {},
   "source": [
    "> Note : Folium map doesn't embed this page correctly. So use nbviewer for interactive map [link](https://nbviewer.jupyter.org/github/goodboychan/datacamp_repo/blob/master/Visualizing.Geospatial.Data.in.Python/GeoSeries-and-folium.ipynb)"
   ]
  },
  {
   "cell_type": "code",
   "execution_count": 32,
   "metadata": {},
   "outputs": [],
   "source": [
    "import pandas as pd\n",
    "import numpy as np\n",
    "import geopandas as gpd\n",
    "import matplotlib.pyplot as plt\n",
    "from IPython.display import HTML, IFrame\n",
    "\n",
    "plt.rcParams['figure.figsize'] = (10, 5)"
   ]
  },
  {
   "cell_type": "markdown",
   "metadata": {},
   "source": [
    "## GeoSeries attributes and methods I\n",
    "- Shapely attributes and methods\n",
    "    - GeoSeries.area - returns the area of each geometry in a GeoSeries\n",
    "    - GeoSeries.centroid - returns the center point of each geometry in a GeoSeries\n",
    "    - GeoSeries.distance(other) - returns the minimum distance to other"
   ]
  },
  {
   "cell_type": "markdown",
   "metadata": {},
   "source": [
    "### Find the area of the Urban Residents neighborhood\n",
    "How big is the Urban Residents neighborhood?\n",
    "\n"
   ]
  },
  {
   "cell_type": "code",
   "execution_count": 2,
   "metadata": {},
   "outputs": [],
   "source": [
    "# Read in the neighborhoods geojson file\n",
    "neighborhoods = gpd.read_file('./dataset/neighborhoods.geojson')\n",
    "\n",
    "# Get just the Urban Residents neighborhood polygon and save it as urban_polygon\n",
    "urban_polygon = neighborhoods.loc[neighborhoods.name == \"Urban Residents\"]"
   ]
  },
  {
   "cell_type": "code",
   "execution_count": 3,
   "metadata": {},
   "outputs": [
    {
     "name": "stdout",
     "output_type": "stream",
     "text": [
      "               name                                           geometry\n",
      "41  Urban Residents  MULTIPOLYGON (((-86.78122 36.16457, -86.78205 ...\n",
      "               name                                           geometry\n",
      "41  Urban Residents  MULTIPOLYGON (((-9660441.281 4323289.005, -966...\n",
      "The area of the Urban Residents neighborhood is  [1.12898961]  km squared\n"
     ]
    }
   ],
   "source": [
    "# Print the head of the urban polygon\n",
    "print(urban_polygon.head())\n",
    "\n",
    "# Create a copy of the urban_polygon using EPSG:3857 and print the head\n",
    "urban_poly_3857 = urban_polygon.to_crs(epsg=3857)\n",
    "print(urban_poly_3857.head())\n",
    "\n",
    "# Print the area of urban_poly_3857 in kilometers squared\n",
    "area = urban_poly_3857.geometry.area / 10**6\n",
    "print('The area of the Urban Residents neighborhood is ', area.values, ' km squared')"
   ]
  },
  {
   "cell_type": "markdown",
   "metadata": {},
   "source": [
    "The Urban Residents neighborhood is around 1.13 square km. That seems manageable for walking to see the public art!"
   ]
  },
  {
   "cell_type": "markdown",
   "metadata": {},
   "source": [
    "## GeoSeries attributes and methods II\n"
   ]
  },
  {
   "cell_type": "markdown",
   "metadata": {},
   "source": [
    "### The center of the Urban Residents neighborhood\n",
    "Now you'll find the center point of the `urban_poly_3857` and plot it over the polygon.\n",
    "\n"
   ]
  },
  {
   "cell_type": "code",
   "execution_count": 4,
   "metadata": {},
   "outputs": [
    {
     "name": "stdout",
     "output_type": "stream",
     "text": [
      "<class 'geopandas.geoseries.GeoSeries'>\n"
     ]
    },
    {
     "data": {
      "image/png": "[encoded data removed]",
      "text/plain": [
       "<Figure size 504x504 with 1 Axes>"
      ]
     },
     "metadata": {
      "needs_background": "light"
     },
     "output_type": "display_data"
    }
   ],
   "source": [
    "# Create downtown_cernter from urban_poly_3857\n",
    "downtown_center = urban_poly_3857.geometry.centroid\n",
    "\n",
    "# Print the type of downtown_center\n",
    "print(type(downtown_center))\n",
    "\n",
    "# Plot the urban_poly_3857 as ax and add the center point\n",
    "ax = urban_poly_3857.plot(color='lightgreen', figsize=(7, 7));\n",
    "downtown_center.plot(ax=ax, color='black');\n",
    "plt.xticks(rotation=45);"
   ]
  },
  {
   "cell_type": "markdown",
   "metadata": {},
   "source": [
    "You can see the centroid of the Urban Residents neighborhood. Notice that latitude and longitude are in meters instead of degrees. In the next exercise you will calculate the distance in meters of each artwork from the centroid of the Urban Residents neighborhood."
   ]
  },
  {
   "cell_type": "markdown",
   "metadata": {},
   "source": [
    "### Prepare to calculate distances\n",
    "In this exercise you will prepare a GeoDataFrame called `art_dist_meters` with the locations of downtown art converted to meters using EPSG:3857. You will use `art_dist_meters` in the next exercise to calculate the distance of each artwork from the center of the Urban Residents neighborhood in meters."
   ]
  },
  {
   "cell_type": "code",
   "execution_count": 5,
   "metadata": {},
   "outputs": [],
   "source": [
    "from shapely.geometry import Point\n",
    "\n",
    "art = gpd.read_file('./dataset/public_art.csv')\n",
    "art['geometry'] = art.apply(lambda x: Point(float(x.Longitude), float(x.Latitude)), axis=1)\n",
    "center_point = art.geometry.centroid"
   ]
  },
  {
   "cell_type": "code",
   "execution_count": 6,
   "metadata": {},
   "outputs": [
    {
     "name": "stdout",
     "output_type": "stream",
     "text": [
      "                             Title Last Name First Name  \\\n",
      "0          [Cross Country Runners]     Frost      Miley   \n",
      "1  [Fourth and Commerce Sculpture]    Walker        Lin   \n",
      "\n",
      "                            Location  Medium       Type Description  Latitude  \\\n",
      "0     4001 Harding Rd., Nashville TN  Bronze  Sculpture              36.12856   \n",
      "1  333 Commerce Street, Nashville TN          Sculpture              36.16234   \n",
      "\n",
      "   Longitude        Mapped Location                    geometry  \n",
      "0   -86.8366   (36.12856, -86.8366)  POINT (-86.83660 36.12856)  \n",
      "1  -86.77774  (36.16234, -86.77774)  POINT (-86.77774 36.16234)  \n",
      "                             Title Last Name First Name  \\\n",
      "0          [Cross Country Runners]     Frost      Miley   \n",
      "1  [Fourth and Commerce Sculpture]    Walker        Lin   \n",
      "\n",
      "                            Location  Medium       Type Description  Latitude  \\\n",
      "0     4001 Harding Rd., Nashville TN  Bronze  Sculpture              36.12856   \n",
      "1  333 Commerce Street, Nashville TN          Sculpture              36.16234   \n",
      "\n",
      "   Longitude        Mapped Location                          geometry  \n",
      "0   -86.8366   (36.12856, -86.8366)  POINT (-9666606.094 4318325.479)  \n",
      "1  -86.77774  (36.16234, -86.77774)  POINT (-9660053.829 4322982.159)  \n"
     ]
    }
   ],
   "source": [
    "from shapely.geometry import Point\n",
    "\n",
    "# Create art_dist_meters using art and the geometry from art\n",
    "art_dist_meters = gpd.GeoDataFrame(art, geometry=art.geometry)\n",
    "art_dist_meters.crs='epsg:4326'\n",
    "print(art_dist_meters.head(2))\n",
    "\n",
    "# Set the crs of art_dist_meters to use EPSG:3857\n",
    "art_dist_meters.geometry = art_dist_meters.geometry.to_crs(epsg=3857)\n",
    "print(art_dist_meters.head(2))\n",
    "\n",
    "# Add a column to art_meters, center\n",
    "art_dist_meters['center'] = center_point"
   ]
  },
  {
   "cell_type": "code",
   "execution_count": 7,
   "metadata": {},
   "outputs": [
    {
     "data": {
      "text/plain": [
       "0      POINT (-86.83660 36.12856)\n",
       "1      POINT (-86.77774 36.16234)\n",
       "2      POINT (-86.78817 36.15790)\n",
       "3      POINT (-86.79975 36.16202)\n",
       "4      POINT (-86.78205 36.16215)\n",
       "                  ...            \n",
       "127    POINT (-86.82221 36.16510)\n",
       "128    POINT (-86.73445 36.09082)\n",
       "129    POINT (-86.66777 36.13469)\n",
       "130    POINT (-86.78382 36.16527)\n",
       "131    POINT (-86.79900 36.15896)\n",
       "Name: center, Length: 132, dtype: geometry"
      ]
     },
     "execution_count": 7,
     "metadata": {},
     "output_type": "execute_result"
    }
   ],
   "source": [
    "art_dist_meters['center']"
   ]
  },
  {
   "cell_type": "markdown",
   "metadata": {},
   "source": [
    "The art_dist_meters Data Frame has the location of each artwork and the center point of the Urban Residents neighborhood -- both using meters for distance."
   ]
  },
  {
   "cell_type": "markdown",
   "metadata": {},
   "source": [
    "### Art distances from neighborhood center\n",
    "Now that you have the center point and the art locations in the units we need to calculate distances in meters, it's time to perform that step.\n",
    "\n"
   ]
  },
  {
   "cell_type": "code",
   "execution_count": 8,
   "metadata": {},
   "outputs": [
    {
     "name": "stdout",
     "output_type": "stream",
     "text": [
      "{'12th & Porter Mural': 10583948.500651475,\n",
      " 'A Splash of Color': 10585357.160178259,\n",
      " 'A Story of Nashville': 10583565.969078569,\n",
      " 'Aerial Innovations Mural': 10579929.255218184,\n",
      " 'Airport Sun Project': 10570311.412935875,\n",
      " 'Andrew Jackson': 10583951.468665037,\n",
      " 'Angel': 10588435.041707946,\n",
      " 'Anticipation': 10583698.952539692,\n",
      " 'April Baby': 10586916.00892881,\n",
      " 'Arial Triangle [from the Gravity Series]': 10583398.52483797,\n",
      " 'Ariel': 10585905.336208293,\n",
      " 'Athena Parthenos': 10586065.827814262,\n",
      " 'Benedictio': 10577769.979416678,\n",
      " 'Bicycle Bus-Green Fleet': 10582635.68286198,\n",
      " 'Blowing Bubbles': 10588435.041707946,\n",
      " 'Breaking Bread': 10582634.392548595,\n",
      " 'Building a Positive Community': 10582136.29114304,\n",
      " 'Can-Do': 10582120.049094511,\n",
      " 'Chet Atkins': 10583602.67968694,\n",
      " \"Children's Chairs For The Seasons\": 10583565.969078569,\n",
      " 'Confederate Memorial': 10577769.979416678,\n",
      " 'Confederate Private Monument': 10585868.029575413,\n",
      " 'Confluence': 10585513.082652403,\n",
      " 'Cool Fences': 10579074.346806614,\n",
      " 'Dancing on Air': 10570372.644642536,\n",
      " 'Demonbreun Hill Mural': 10583908.579902012,\n",
      " 'Dragon Wall Mural': 10584123.478874767,\n",
      " 'Eastside Mural': 10581245.290643545,\n",
      " 'Ed and Bernice Johnson and Mary': 10583193.594816655,\n",
      " 'Edward Ward Carmack': 10583921.539018078,\n",
      " 'Flights of Fantasy': 10570344.379658109,\n",
      " 'Foliated Scroll': 10583565.969078569,\n",
      " 'Founding Fathers Cenotaph': 10584221.716760146,\n",
      " 'Founding of Nashville': 10583078.144842813,\n",
      " 'Furman Monument': 10577769.979416678,\n",
      " 'Gold Star Monument to World War I Veterans': 10586021.858499767,\n",
      " 'Gone Fishing': 10583591.376403218,\n",
      " 'Happy Times at The Arcade': 10583544.984285295,\n",
      " 'Headstones': 10581464.612607874,\n",
      " 'Hillsboro Village Mural': 10583854.405716073,\n",
      " 'History in Stained Glass': 10584221.716760146,\n",
      " 'I BELIEVE IN NASHVILLE 12 South': 10582156.834978476,\n",
      " 'I BELIEVE IN NASHVILLE East Nashville': 10580136.449174412,\n",
      " 'I BELIEVE IN NASHVILLE North Nashville': 10585239.187925545,\n",
      " 'In Concert': 10572751.806064371,\n",
      " 'Industry - The TVA Group': 10584680.719262363,\n",
      " 'Industry, Agriculture, Commerce, Statesmanship': 10583520.14461468,\n",
      " 'Isabella': 10583485.955582885,\n",
      " 'Isabelle and Calvin': 10584967.506033441,\n",
      " 'John L. Nolen Monument': 10577769.979416678,\n",
      " 'John W. Thomas': 10586021.858499767,\n",
      " 'Johnny Cash Mural': 10582628.289268441,\n",
      " 'La Storia della Terra': 10583565.969078569,\n",
      " 'Lane Motor Museum': 10577496.17633061,\n",
      " 'Les Paul Guitar Mural': 10582854.565917103,\n",
      " 'Library Doors': 10583565.969078569,\n",
      " 'Lightning Wire Fountain': 10583073.144394962,\n",
      " 'M&M Furniture-Riverside Village': 10580110.247643126,\n",
      " 'Major General William Bate Monument': 10577769.979416678,\n",
      " 'Maybelle Carter': 10582681.28994042,\n",
      " 'Migration': 10578647.940171225,\n",
      " 'Music City Center - Art Collection': 10582899.568035366,\n",
      " 'Nashville, A History through Maps and Aerial Views': 10583565.969078569,\n",
      " 'Oh, Roy': 10583134.666506412,\n",
      " 'Orpheus and Eurydice': 10582814.322708014,\n",
      " 'Our Past, Your Future': 10581513.854999846,\n",
      " 'Owen Bradley': 10583977.664424112,\n",
      " 'Paint Waterfalls': 10586050.17255176,\n",
      " 'Parthenon East Pediment': 10586039.029226098,\n",
      " 'Parthenon West Pediment': 10586086.185064087,\n",
      " 'Phillips Monument': 10577769.979416678,\n",
      " 'Phillips Toy Mart': 10589122.922370559,\n",
      " 'Phoenix': 10583193.594816655,\n",
      " 'Piecing It All Together': 10583583.83412909,\n",
      " 'Pioneer Family - The Mountain Group': 10583940.557855405,\n",
      " 'Polarbears with Snowballs': 10582948.623516602,\n",
      " 'President Andrew Johnson': 10583888.306385722,\n",
      " 'Raccoons and the Magic Horseshoes': 10588449.304129982,\n",
      " 'Rolf and Daughters Mural': 10585530.548435524,\n",
      " 'Rolling Hills': 10567500.082015224,\n",
      " 'Rose on 65th Street': 10583485.955582885,\n",
      " 'Roy Orbison Tribute Statue': 10583983.27808947,\n",
      " 'Safe Haven Family Shelter Mural': 10580722.202142382,\n",
      " 'Sam Davis': 10587219.534638887,\n",
      " 'Sam Davis of Tennessee': 10583957.687431902,\n",
      " 'Samaritan': 10588435.041707946,\n",
      " 'Sea Serpent': 10584599.331890862,\n",
      " 'Sergeant Alvin C. York': 10583831.406240454,\n",
      " 'Servant or Master': 10583295.262231264,\n",
      " 'Sir Draco Star (a.k.a Eli)': 10581769.904107656,\n",
      " 'Soldier and Farmer - The Equestrian Group': 10583980.483601985,\n",
      " 'Something in the Air': 10583345.067374147,\n",
      " 'St. George and the Maiden': 10588435.041707946,\n",
      " 'St. Vincent de Paul': 10585450.35995012,\n",
      " 'Statue of Dr. W. E. B. Dubois': 10586151.741414448,\n",
      " 'Stay Tuned': 10582208.784466524,\n",
      " 'Teacher and Student': 10587219.534638887,\n",
      " \"Tennessee Confederate Women's Memorial\": 10583808.163062796,\n",
      " 'Tennessee Falls': 10583749.204294588,\n",
      " 'Tennessee Korean War Memorial': 10583763.398102595,\n",
      " \"Tennessee Vietnam Veteran's Memorial\": 10583793.462008132,\n",
      " 'Tennessee WWII Memorial': 10584791.513626093,\n",
      " 'The Birth of Apollo': 10582837.385831947,\n",
      " 'The Flutist': 10582802.090989307,\n",
      " 'The Peace Monument': 10581938.152564157,\n",
      " 'The Prince': 10583565.969078569,\n",
      " 'The Readers': 10583393.872061776,\n",
      " 'The Recording Angel': 10582755.631360933,\n",
      " 'The Three Graces': 10584019.73571512,\n",
      " 'The Waterfall Mural': 10581643.66630736,\n",
      " 'Thomas Gleen Ryman': 10583110.04814488,\n",
      " 'Threshold': 10582893.378709938,\n",
      " 'Timeless': 10582989.494809307,\n",
      " 'Timothy Demonbreun': 10583247.956294278,\n",
      " 'Tomatoes': 10579771.420321863,\n",
      " 'Tommy Owen': 10587219.534638887,\n",
      " 'Two Musicians': 10581245.290643545,\n",
      " 'Untitled': 10589663.659840992,\n",
      " 'Vanderbilt University - Public Collection': 10584709.70990316,\n",
      " 'Various': 10582656.32923829,\n",
      " 'Victory': 10583866.220337586,\n",
      " 'Voices Gathering': 10583459.815030094,\n",
      " 'Volume': 10581771.247803846,\n",
      " 'Warner Monument': 10577769.979416678,\n",
      " 'Waveform: Pan American Blues': 10570399.600396495,\n",
      " 'We Are Our Stories': 10587812.786960982,\n",
      " 'Welcome to Flatrock': 10574716.19476862,\n",
      " 'Wind Reeds': 10570407.991440946,\n",
      " 'Women Suffrage Memorial': 10583921.539018078,\n",
      " 'Youth Opportunity Center-STARS Nashville - Peace Jam mural': 10585108.655408468,\n",
      " '[Cross Country Runners]': 10587219.534638887,\n",
      " '[Fourth and Commerce Sculpture]': 10583138.736775193}\n"
     ]
    }
   ],
   "source": [
    "import pprint\n",
    "\n",
    "# Build a dictionary of titles and distances for Urban Residents art\n",
    "art_distances = {}\n",
    "for row in art_dist_meters.iterrows():\n",
    "    vals = row[1]\n",
    "    key = vals['Title']\n",
    "    ctr = vals['center']\n",
    "    art_distances[key] = vals['geometry'].distance(other=ctr)\n",
    "    \n",
    "# Pretty print the art_distances\n",
    "pprint.pprint(art_distances)"
   ]
  },
  {
   "cell_type": "markdown",
   "metadata": {},
   "source": [
    "## Street maps with folium\n",
    "- Folium\n",
    "    - python package\n",
    "    - interactive maps\n",
    "    - built upon Leaflet.js"
   ]
  },
  {
   "cell_type": "markdown",
   "metadata": {},
   "source": [
    "### Create a folium location from the urban centroid\n",
    "In order to construct a folium map of the Urban Residents neighborhood, you need to build a coordinate pair location that is formatted for folium."
   ]
  },
  {
   "cell_type": "code",
   "execution_count": 9,
   "metadata": {},
   "outputs": [],
   "source": [
    "urban_polygon.crs = 'epsg:4326'"
   ]
  },
  {
   "cell_type": "code",
   "execution_count": 10,
   "metadata": {},
   "outputs": [
    {
     "data": {
      "text/plain": [
       "<Geographic 2D CRS: EPSG:4326>\n",
       "Name: WGS 84\n",
       "Axis Info [ellipsoidal]:\n",
       "- Lat[north]: Geodetic latitude (degree)\n",
       "- Lon[east]: Geodetic longitude (degree)\n",
       "Area of Use:\n",
       "- name: World\n",
       "- bounds: (-180.0, -90.0, 180.0, 90.0)\n",
       "Datum: World Geodetic System 1984\n",
       "- Ellipsoid: WGS 84\n",
       "- Prime Meridian: Greenwich"
      ]
     },
     "execution_count": 10,
     "metadata": {},
     "output_type": "execute_result"
    }
   ],
   "source": [
    "urban_polygon.crs"
   ]
  },
  {
   "cell_type": "code",
   "execution_count": 11,
   "metadata": {},
   "outputs": [
    {
     "name": "stdout",
     "output_type": "stream",
     "text": [
      "               name                                           geometry\n",
      "41  Urban Residents  MULTIPOLYGON (((-86.78122 36.16457, -86.78205 ...\n",
      "41    POINT (-86.77756 36.16128)\n",
      "dtype: geometry\n",
      "[41    36.161278\n",
      "dtype: float64, 41   -86.777565\n",
      "dtype: float64]\n"
     ]
    },
    {
     "name": "stderr",
     "output_type": "stream",
     "text": [
      "C:\\Users\\kcsgo\\anaconda3\\lib\\site-packages\\ipykernel_launcher.py:5: UserWarning: Geometry is in a geographic CRS. Results from 'centroid' are likely incorrect. Use 'GeoSeries.to_crs()' to re-project geometries to a projected CRS before this operation.\n",
      "\n",
      "  \"\"\"\n"
     ]
    }
   ],
   "source": [
    "# Print the head of the urban_polygon\n",
    "print(urban_polygon.head())\n",
    "\n",
    "# Create urban_center from the urban_polygon center\n",
    "urban_center = urban_polygon.to_crs(epsg=4326).centroid\n",
    "\n",
    "# Print urban_center\n",
    "print(urban_center)\n",
    "\n",
    "# Create array for folium called urban_location\n",
    "urban_location = [urban_center.y, urban_center.x]\n",
    "\n",
    "# Print urban_location\n",
    "print(urban_location)"
   ]
  },
  {
   "cell_type": "markdown",
   "metadata": {},
   "source": [
    "Folium locations are arrays with latitude first. You just created a folium location from the center of the Urban Residents neighborhood."
   ]
  },
  {
   "cell_type": "markdown",
   "metadata": {},
   "source": [
    "### Create a folium map of downtown Nashville\n",
    "In this exercise you will create a street map of downtown Nashville using folium."
   ]
  },
  {
   "cell_type": "code",
   "execution_count": 31,
   "metadata": {
    "scrolled": false
   },
   "outputs": [],
   "source": [
    "import folium\n",
    "\n",
    "# Construct a folium map with urban_location\n",
    "downtown_map = folium.Map(location=urban_location, zoom_start=15, width=500, height=500)\n",
    "\n",
    "# Display the map\n",
    "downtown_map.save('./html/downtown_map.html')"
   ]
  },
  {
   "cell_type": "code",
   "execution_count": 33,
   "metadata": {},
   "outputs": [
    {
     "data": {
      "text/html": [
       "\n",
       "        <iframe\n",
       "            width=\"500\"\n",
       "            height=\"500\"\n",
       "            src=\"/chans_jupyter/assets/attach/downtown_map.html\"\n",
       "            frameborder=\"0\"\n",
       "            allowfullscreen\n",
       "        ></iframe>\n",
       "        "
      ],
      "text/plain": [
       "<IPython.lib.display.IFrame at 0x2449a7c7d48>"
      ]
     },
     "execution_count": 33,
     "metadata": {},
     "output_type": "execute_result"
    }
   ],
   "source": [
    "#hide_input\n",
    "IFrame(src='/chans_jupyter/assets/attach/downtown_map.html', width=500, height=500)"
   ]
  },
  {
   "cell_type": "markdown",
   "metadata": {},
   "source": [
    "Folium locations are arrays with latitude first. You just created a folium location from the center of the Urban Residents neighborhood."
   ]
  },
  {
   "cell_type": "markdown",
   "metadata": {},
   "source": [
    "### Folium street map of the downtown neighborhood\n",
    "This time you will create the folium map of downtown and add the Urban Residents neighborhood area from urban_polygon.\n",
    "\n"
   ]
  },
  {
   "cell_type": "code",
   "execution_count": 14,
   "metadata": {},
   "outputs": [
    {
     "name": "stderr",
     "output_type": "stream",
     "text": [
      "C:\\Users\\kcsgo\\anaconda3\\lib\\site-packages\\ipykernel_launcher.py:1: UserWarning: Geometry is in a geographic CRS. Results from 'centroid' are likely incorrect. Use 'GeoSeries.to_crs()' to re-project geometries to a projected CRS before this operation.\n",
      "\n",
      "  \"\"\"Entry point for launching an IPython kernel.\n",
      "C:\\Users\\kcsgo\\anaconda3\\lib\\site-packages\\geopandas\\geodataframe.py:831: SettingWithCopyWarning: \n",
      "A value is trying to be set on a copy of a slice from a DataFrame.\n",
      "Try using .loc[row_indexer,col_indexer] = value instead\n",
      "\n",
      "See the caveats in the documentation: https://pandas.pydata.org/pandas-docs/stable/user_guide/indexing.html#returning-a-view-versus-a-copy\n",
      "  super(GeoDataFrame, self).__setitem__(key, value)\n"
     ]
    }
   ],
   "source": [
    "urban_polygon['center'] = urban_polygon.loc[:, 'geometry'].centroid"
   ]
  },
  {
   "cell_type": "code",
   "execution_count": 30,
   "metadata": {},
   "outputs": [],
   "source": [
    "# Create array for called folium_loc from the urban_polygon center point\n",
    "point = urban_polygon.center\n",
    "folium_loc = [point.values.y, point.values.x]\n",
    "\n",
    "# Construct a map from folium_loc: downtown_map\n",
    "downtown_map = folium.Map(location = folium_loc, zoom_start = 15, width=500, height=500)\n",
    "\n",
    "# Draw our neighborhood: Urban Residents\n",
    "folium.GeoJson(urban_polygon.geometry).add_to(downtown_map)\n",
    "\n",
    "downtown_map.save('html/downtown_map2.html')"
   ]
  },
  {
   "cell_type": "code",
   "execution_count": 34,
   "metadata": {},
   "outputs": [
    {
     "data": {
      "text/html": [
       "\n",
       "        <iframe\n",
       "            width=\"500\"\n",
       "            height=\"500\"\n",
       "            src=\"/chans_jupyter/assets/attach/downtown_map2.html\"\n",
       "            frameborder=\"0\"\n",
       "            allowfullscreen\n",
       "        ></iframe>\n",
       "        "
      ],
      "text/plain": [
       "<IPython.lib.display.IFrame at 0x2449a71d288>"
      ]
     },
     "execution_count": 34,
     "metadata": {},
     "output_type": "execute_result"
    }
   ],
   "source": [
    "#hide_input\n",
    "IFrame(src='/chans_jupyter/assets/attach/downtown_map2.html', width=500, height=500)"
   ]
  },
  {
   "cell_type": "markdown",
   "metadata": {},
   "source": [
    "## Creating markers and popups in folium\n"
   ]
  },
  {
   "cell_type": "markdown",
   "metadata": {},
   "source": [
    "### Adding markers for the public art\n",
    "Now that you have added the polygon for the Urban Residents neighborhood to your folium street map, it's time to add the locations of the art within the neighborhood. You can do that by creating folium markers. Each marker needs a location assigned. Use `iterrows()` to loop through the data to grab the values you need.\n",
    "\n"
   ]
  },
  {
   "cell_type": "code",
   "execution_count": 17,
   "metadata": {},
   "outputs": [],
   "source": [
    "# Create a GeoDataFrame from art and verify the type\n",
    "art_geo = gpd.GeoDataFrame(art, crs=neighborhoods.crs, geometry=art.geometry)\n",
    "\n",
    "# Spartially join neighborhoods with art_geo\n",
    "neighborhood_art = gpd.sjoin(art_geo, neighborhoods, op='within')\n",
    "\n",
    "# Create urban_art from neighborhood_art where the neighborhood name is Urban Residents\n",
    "urban_art = neighborhood_art.loc[neighborhood_art.name == 'Urban Residents']"
   ]
  },
  {
   "cell_type": "code",
   "execution_count": 29,
   "metadata": {},
   "outputs": [
    {
     "name": "stdout",
     "output_type": "stream",
     "text": [
      "first part:  1\n",
      "second part:  Title                  [Fourth and Commerce Sculpture]\n",
      "Last Name                                       Walker\n",
      "First Name                                         Lin\n",
      "Location             333 Commerce Street, Nashville TN\n",
      "Medium                                                \n",
      "Type                                         Sculpture\n",
      "Description                                           \n",
      "Latitude                                      36.16234\n",
      "Longitude                                    -86.77774\n",
      "Mapped Location                  (36.16234, -86.77774)\n",
      "geometry           POINT (-86.77773999999999 36.16234)\n",
      "center             POINT (-86.77773999999999 36.16234)\n",
      "index_right                                         41\n",
      "name                                   Urban Residents\n",
      "Name: 1, dtype: object\n",
      "first part:  4\n",
      "second part:  Title                                           A Story of Nashville\n",
      "Last Name                                                     Ridley\n",
      "First Name                                                      Greg\n",
      "Location                             615 Church Street, Nashville TN\n",
      "Medium                                      Hammered copper repousse\n",
      "Type                                                          Frieze\n",
      "Description        Inside the Grand Reading Room, this is a serie...\n",
      "Latitude                                                    36.16215\n",
      "Longitude                                                  -86.78205\n",
      "Mapped Location                                (36.16215, -86.78205)\n",
      "geometry                                  POINT (-86.78205 36.16215)\n",
      "center                                    POINT (-86.78205 36.16215)\n",
      "index_right                                                       41\n",
      "name                                                 Urban Residents\n",
      "Name: 4, dtype: object\n",
      "first part:  21\n",
      "second part:  Title                                                    Chet Atkins\n",
      "Last Name                                                      Faxon\n",
      "First Name                                                   Russell\n",
      "Location           Corner of Fifth Avenue North and Union Street,...\n",
      "Medium                   Bronze stool and guitar on a granite plynth\n",
      "Type                                                       Sculpture\n",
      "Description        A sculpture of a young Chet Atkins seated on a...\n",
      "Latitude                                                    36.16466\n",
      "Longitude                                                  -86.78102\n",
      "Mapped Location                                (36.16466, -86.78102)\n",
      "geometry                                  POINT (-86.78102 36.16466)\n",
      "center                                    POINT (-86.78102 36.16466)\n",
      "index_right                                                       41\n",
      "name                                                 Urban Residents\n",
      "Name: 21, dtype: object\n",
      "first part:  22\n",
      "second part:  Title              Children's Chairs For The Seasons\n",
      "Last Name                                     McGraw\n",
      "First Name                                    Deloss\n",
      "Location             615 Church Street, Nashville TN\n",
      "Medium                  Mixed Media - wood and paint\n",
      "Type                                       Furniture\n",
      "Description        chairs depicting the four seasons\n",
      "Latitude                                    36.16215\n",
      "Longitude                                  -86.78205\n",
      "Mapped Location                (36.16215, -86.78205)\n",
      "geometry                  POINT (-86.78205 36.16215)\n",
      "center                    POINT (-86.78205 36.16215)\n",
      "index_right                                       41\n",
      "name                                 Urban Residents\n",
      "Name: 22, dtype: object\n",
      "first part:  34\n",
      "second part:  Title                                                Foliated Scroll\n",
      "Last Name                                                    Bloomer\n",
      "First Name                                                      Kent\n",
      "Location                             615 Church Street, Nashville TN\n",
      "Medium                                                      Aluminum\n",
      "Type                                                          Frieze\n",
      "Description        a contemporary adaptation of a classical folia...\n",
      "Latitude                                                    36.16215\n",
      "Longitude                                                  -86.78205\n",
      "Mapped Location                                (36.16215, -86.78205)\n",
      "geometry                                  POINT (-86.78205 36.16215)\n",
      "center                                    POINT (-86.78205 36.16215)\n",
      "index_right                                                       41\n",
      "name                                                 Urban Residents\n",
      "Name: 34, dtype: object\n",
      "first part:  39\n",
      "second part:  Title                                                   Gone Fishing\n",
      "Last Name                                                     Cooper\n",
      "First Name                                                   Michael\n",
      "Location                                          Church Street Park\n",
      "Medium                                              Acrylic on Brick\n",
      "Type                                                           Mural\n",
      "Description        Just having some fun with Trompe L'oeil balconies\n",
      "Latitude                                                    36.16298\n",
      "Longitude                                                  -86.78184\n",
      "Mapped Location                                (36.16298, -86.78184)\n",
      "geometry                                  POINT (-86.78184 36.16298)\n",
      "center                                    POINT (-86.78184 36.16298)\n",
      "index_right                                                       41\n",
      "name                                                 Urban Residents\n",
      "Name: 39, dtype: object\n",
      "first part:  40\n",
      "second part:  Title                                  Happy Times at The Arcade\n",
      "Last Name                                                 Cooper\n",
      "First Name                                               Michael\n",
      "Location           In the Alley between 4th and 5th off of Union\n",
      "Medium                Silicate paint on brick and concrete block\n",
      "Type                                                       Mural\n",
      "Description         Trompe L'oeil artwork celebrating The Arcade\n",
      "Latitude                                                 36.1647\n",
      "Longitude                                              -86.78043\n",
      "Mapped Location                             (36.1647, -86.78043)\n",
      "geometry                               POINT (-86.78043 36.1647)\n",
      "center                                 POINT (-86.78043 36.1647)\n",
      "index_right                                                   41\n",
      "name                                             Urban Residents\n",
      "Name: 40, dtype: object\n",
      "first part:  54\n",
      "second part:  Title                                              Johnny Cash Mural\n",
      "Last Name                     Bryan Deese, Audie Adams, Ryan Shrader\n",
      "First Name                                                          \n",
      "Location                                              300 4th Avenue\n",
      "Medium                                   Latex paint and spray paint\n",
      "Type                                                           Mural\n",
      "Description        Classic street art by Thoughts Manifested crew...\n",
      "Latitude                                                   36.158301\n",
      "Longitude                                                 -86.774955\n",
      "Mapped Location                              (36.158301, -86.774955)\n",
      "geometry                        POINT (-86.77495500000001 36.158301)\n",
      "center                          POINT (-86.77495500000001 36.158301)\n",
      "index_right                                                       41\n",
      "name                                                 Urban Residents\n",
      "Name: 54, dtype: object\n",
      "first part:  55\n",
      "second part:  Title                                          La Storia della Terra\n",
      "Last Name                                  The Kubach - Wilmsen Team\n",
      "First Name                                 The Kubach - Wilmsen Team\n",
      "Location                          Church St & 7th Ave N Nashville TN\n",
      "Medium                                                         Stone\n",
      "Type                                                       Sculpture\n",
      "Description        A 20 foot tower of stone books. There are 26 b...\n",
      "Latitude                                                    36.16215\n",
      "Longitude                                                  -86.78205\n",
      "Mapped Location                                (36.16215, -86.78205)\n",
      "geometry                                  POINT (-86.78205 36.16215)\n",
      "center                                    POINT (-86.78205 36.16215)\n",
      "index_right                                                       41\n",
      "name                                                 Urban Residents\n",
      "Name: 55, dtype: object\n",
      "first part:  57\n",
      "second part:  Title                           Les Paul Guitar Mural\n",
      "Last Name                                      Hughes\n",
      "First Name                                     Milree\n",
      "Location             100 Broadway, Nashville TN 37201\n",
      "Medium                                       Painting\n",
      "Type                                            Mural\n",
      "Description                                          \n",
      "Latitude                                      36.1624\n",
      "Longitude                                   -86.77491\n",
      "Mapped Location                  (36.1624, -86.77491)\n",
      "geometry           POINT (-86.77491000000001 36.1624)\n",
      "center             POINT (-86.77491000000001 36.1624)\n",
      "index_right                                        41\n",
      "name                                  Urban Residents\n",
      "Name: 57, dtype: object\n",
      "first part:  59\n",
      "second part:  Title                                                  Library Doors\n",
      "Last Name                                                    LeQuire\n",
      "First Name                                                      Alan\n",
      "Location                             615 Church Street, Nashville TN\n",
      "Medium                                                        Bronze\n",
      "Type                                                         Bronzes\n",
      "Description        images of local people as well as Tennessee an...\n",
      "Latitude                                                    36.16215\n",
      "Longitude                                                  -86.78205\n",
      "Mapped Location                                (36.16215, -86.78205)\n",
      "geometry                                  POINT (-86.78205 36.16215)\n",
      "center                                    POINT (-86.78205 36.16215)\n",
      "index_right                                                       41\n",
      "name                                                 Urban Residents\n",
      "Name: 59, dtype: object\n",
      "first part:  60\n",
      "second part:  Title                        Lightning Wire Fountain\n",
      "Last Name                                     Walker\n",
      "First Name                                       Lin\n",
      "Location           333 Commerce Street, Nashville TN\n",
      "Medium                                              \n",
      "Type                              Sculpture/Fountain\n",
      "Description                                         \n",
      "Latitude                                    36.16233\n",
      "Longitude                                   -86.7771\n",
      "Mapped Location                 (36.16233, -86.7771)\n",
      "geometry                   POINT (-86.7771 36.16233)\n",
      "center                     POINT (-86.7771 36.16233)\n",
      "index_right                                       41\n",
      "name                                 Urban Residents\n",
      "Name: 60, dtype: object\n",
      "first part:  66\n",
      "second part:  Title              Nashville, A History through Maps and Aerial V...\n",
      "Last Name                                                       Haas\n",
      "First Name                                                   Richard\n",
      "Location                             615 Church Street, Nashville TN\n",
      "Medium                                                 Oil on Canvas\n",
      "Type                                                           Mural\n",
      "Description        Eight scenes showing the development of Nashvi...\n",
      "Latitude                                                    36.16215\n",
      "Longitude                                                  -86.78205\n",
      "Mapped Location                                (36.16215, -86.78205)\n",
      "geometry                                  POINT (-86.78205 36.16215)\n",
      "center                                    POINT (-86.78205 36.16215)\n",
      "index_right                                                       41\n",
      "name                                                 Urban Residents\n",
      "Name: 66, dtype: object\n",
      "first part:  67\n",
      "second part:  Title                                                        Oh, Roy\n",
      "Last Name                                                      Faxon\n",
      "First Name                                                   Russell\n",
      "Location                                 116 5th Ave N, Nashville TN\n",
      "Medium                                                        Bronze\n",
      "Type                                                       Sculpture\n",
      "Description        Minnie Pearl and Roy Acuff seated on a bench i...\n",
      "Latitude                                                    36.16151\n",
      "Longitude                                                  -86.77816\n",
      "Mapped Location                                (36.16151, -86.77816)\n",
      "geometry                                  POINT (-86.77816 36.16151)\n",
      "center                                    POINT (-86.77816 36.16151)\n",
      "index_right                                                       41\n",
      "name                                                 Urban Residents\n",
      "Name: 67, dtype: object\n",
      "first part:  68\n",
      "second part:  Title                                           Orpheus and Eurydice\n",
      "Last Name                                                     Kaskey\n",
      "First Name                                                       Ray\n",
      "Location                              1 Symphony Place, Nashville TN\n",
      "Medium                                                     Limestone\n",
      "Type                                                       Sculpture\n",
      "Description        Relief sculpture above main entrance of Scherm...\n",
      "Latitude                                                    36.16017\n",
      "Longitude                                                  -86.77575\n",
      "Mapped Location                                (36.16017, -86.77575)\n",
      "geometry                                  POINT (-86.77575 36.16017)\n",
      "center                                    POINT (-86.77575 36.16017)\n",
      "index_right                                                       41\n",
      "name                                                 Urban Residents\n",
      "Name: 68, dtype: object\n",
      "first part:  75\n",
      "second part:  Title                          Piecing It All Together\n",
      "Last Name                                       Cooper\n",
      "First Name                                     Michael\n",
      "Location               600 Church Street, Nashville TN\n",
      "Medium                               Painting on Stone\n",
      "Type                                             Mural\n",
      "Description                                           \n",
      "Latitude                                      36.16281\n",
      "Longitude                                    -86.78186\n",
      "Mapped Location                  (36.16281, -86.78186)\n",
      "geometry           POINT (-86.78185999999999 36.16281)\n",
      "center             POINT (-86.78185999999999 36.16281)\n",
      "index_right                                         41\n",
      "name                                   Urban Residents\n",
      "Name: 75, dtype: object\n",
      "first part:  104\n",
      "second part:  Title                                            The Birth of Apollo\n",
      "Last Name                                                   Eskridge\n",
      "First Name                                                     Casey\n",
      "Location                              1 Symphony Place, Nashville TN\n",
      "Medium                   Bronze sculpture as centerpiece of fountain\n",
      "Type                                                       Sculpture\n",
      "Description        Two figures topping a fountain, one with a lyr...\n",
      "Latitude                                                    36.15993\n",
      "Longitude                                                  -86.77611\n",
      "Mapped Location                                (36.15993, -86.77611)\n",
      "geometry                                  POINT (-86.77611 36.15993)\n",
      "center                                    POINT (-86.77611 36.15993)\n",
      "index_right                                                       41\n",
      "name                                                 Urban Residents\n",
      "Name: 104, dtype: object\n",
      "first part:  105\n",
      "second part:  Title                                                    The Flutist\n",
      "Last Name                                                       Varo\n",
      "First Name                                                    Marton\n",
      "Location                              1 Symphony Place, Nashville TN\n",
      "Medium                                                        Marble\n",
      "Type                                                       Sculpture\n",
      "Description        Statue commemorating Kenneth D Schermerhorn, M...\n",
      "Latitude                                                    36.15961\n",
      "Longitude                                                  -86.77594\n",
      "Mapped Location                                (36.15961, -86.77594)\n",
      "geometry                         POINT (-86.77594000000001 36.15961)\n",
      "center                           POINT (-86.77594000000001 36.15961)\n",
      "index_right                                                       41\n",
      "name                                                 Urban Residents\n",
      "Name: 105, dtype: object\n",
      "first part:  107\n",
      "second part:  Title                                                     The Prince\n",
      "Last Name                                                     Outlaw\n",
      "First Name                                                  Adrienne\n",
      "Location                             615 Church Street, Nashville TN\n",
      "Medium             Mixed Media Use of heavy guage aluminum wire a...\n",
      "Type                                                          Mobile\n",
      "Description        The Little Prince\\nOutlaw hung a whimsical mob...\n",
      "Latitude                                                    36.16215\n",
      "Longitude                                                  -86.78205\n",
      "Mapped Location                                (36.16215, -86.78205)\n",
      "geometry                                  POINT (-86.78205 36.16215)\n",
      "center                                    POINT (-86.78205 36.16215)\n",
      "index_right                                                       41\n",
      "name                                                 Urban Residents\n",
      "Name: 107, dtype: object\n",
      "first part:  109\n",
      "second part:  Title                                         The Recording Angel\n",
      "Last Name                                                   Flack\n",
      "First Name                                                 Audrey\n",
      "Location                           1 Symphony Place, Nashville TN\n",
      "Medium                                                     Bronze\n",
      "Type                                                    Sculpture\n",
      "Description        Bronze angel holding a fountain pen and tablet\n",
      "Latitude                                                  36.1592\n",
      "Longitude                                               -86.77571\n",
      "Mapped Location                              (36.1592, -86.77571)\n",
      "geometry                                POINT (-86.77571 36.1592)\n",
      "center                                  POINT (-86.77571 36.1592)\n",
      "index_right                                                    41\n",
      "name                                              Urban Residents\n",
      "Name: 109, dtype: object\n",
      "first part:  112\n",
      "second part:  Title                                             Thomas Gleen Ryman\n",
      "Last Name                                                    Shields\n",
      "First Name                                                     Steve\n",
      "Location                                 116 5th Ave N, Nashville TN\n",
      "Medium                              Bronze sculpture with brick base\n",
      "Type                                                       Sculpture\n",
      "Description        Full-length standing figure of Ryman, holding ...\n",
      "Latitude                                                    36.16156\n",
      "Longitude                                                  -86.77789\n",
      "Mapped Location                                (36.16156, -86.77789)\n",
      "geometry                                  POINT (-86.77789 36.16156)\n",
      "center                                    POINT (-86.77789 36.16156)\n",
      "index_right                                                       41\n",
      "name                                                 Urban Residents\n",
      "Name: 112, dtype: object\n",
      "first part:  114\n",
      "second part:  Title                                                       Timeless\n",
      "Last Name                                                      Sorci\n",
      "First Name                                                       Joe\n",
      "Location              3rd Avenue North between Commerce and Broadway\n",
      "Medium                               Steel and Civil War cannonballs\n",
      "Type                                                       Sculpture\n",
      "Description        Two nearly interlinked hemicycles with cannonb...\n",
      "Latitude                                                    36.16227\n",
      "Longitude                                                  -86.77631\n",
      "Mapped Location                                (36.16227, -86.77631)\n",
      "geometry                                  POINT (-86.77631 36.16227)\n",
      "center                                    POINT (-86.77631 36.16227)\n",
      "index_right                                                       41\n",
      "name                                                 Urban Residents\n",
      "Name: 114, dtype: object\n"
     ]
    }
   ],
   "source": [
    "# Iterate through the urban_art and print each part of tuple returned\n",
    "for row in urban_art.iterrows():\n",
    "    print('first part: ', row[0])\n",
    "    print('second part: ', row[1])\n",
    "    \n",
    "# Create a location and marker with each iteration for the downtown_map\n",
    "for row in urban_art.iterrows():\n",
    "    row_values = row[1]\n",
    "    location = [row_values['Latitude'], row_values['Longitude']]\n",
    "    marker = folium.Marker(location=location)\n",
    "    marker.add_to(downtown_map)\n",
    "\n",
    "downtown_map.save('html/downtown_map3.html')    "
   ]
  },
  {
   "cell_type": "code",
   "execution_count": 35,
   "metadata": {},
   "outputs": [
    {
     "data": {
      "text/html": [
       "\n",
       "        <iframe\n",
       "            width=\"500\"\n",
       "            height=\"500\"\n",
       "            src=\"/chans_jupyter/assets/attach/downtown_map3.html\"\n",
       "            frameborder=\"0\"\n",
       "            allowfullscreen\n",
       "        ></iframe>\n",
       "        "
      ],
      "text/plain": [
       "<IPython.lib.display.IFrame at 0x2449a729388>"
      ]
     },
     "execution_count": 35,
     "metadata": {},
     "output_type": "execute_result"
    }
   ],
   "source": [
    "#hide_input\n",
    "IFrame(src='/chans_jupyter/assets/attach/downtown_map3.html', width=500, height=500)"
   ]
  },
  {
   "cell_type": "markdown",
   "metadata": {},
   "source": [
    "You have created a folium map of downtown Nashville, a polygon showing the Urban Residents neighborhood, and markers to show the location of the artworks. All that's left is to create some popups for the markers!"
   ]
  },
  {
   "cell_type": "markdown",
   "metadata": {},
   "source": [
    "### Troubleshooting data issues\n",
    "You will be building popups for the downtown art using the `title` and `desc` columns from the `urban_art` DataFrame. Here, you will inspect those columns to identify and clean up any problematic values.\n",
    "\n"
   ]
  },
  {
   "cell_type": "code",
   "execution_count": 20,
   "metadata": {},
   "outputs": [
    {
     "name": "stdout",
     "output_type": "stream",
     "text": [
      "1                        [Fourth and Commerce Sculpture]\n",
      "4                                   A Story of Nashville\n",
      "21                                           Chet Atkins\n",
      "22                     Children's Chairs For The Seasons\n",
      "34                                       Foliated Scroll\n",
      "39                                          Gone Fishing\n",
      "40                             Happy Times at The Arcade\n",
      "54                                     Johnny Cash Mural\n",
      "55                                 La Storia della Terra\n",
      "57                                 Les Paul Guitar Mural\n",
      "59                                         Library Doors\n",
      "60                               Lightning Wire Fountain\n",
      "66     Nashville, A History through Maps and Aerial V...\n",
      "67                                               Oh, Roy\n",
      "68                                  Orpheus and Eurydice\n",
      "75                               Piecing It All Together\n",
      "104                                  The Birth of Apollo\n",
      "105                                          The Flutist\n",
      "107                                           The Prince\n",
      "109                                  The Recording Angel\n",
      "112                                   Thomas Gleen Ryman\n",
      "114                                             Timeless\n",
      "Name: Title, dtype: object\n",
      "1                                                       \n",
      "4      Inside the Grand Reading Room, this is a serie...\n",
      "21     A sculpture of a young Chet Atkins seated on a...\n",
      "22                     chairs depicting the four seasons\n",
      "34     a contemporary adaptation of a classical folia...\n",
      "39     Just having some fun with Trompe L'oeil balconies\n",
      "40          Trompe L'oeil artwork celebrating The Arcade\n",
      "54     Classic street art by Thoughts Manifested crew...\n",
      "55     A 20 foot tower of stone books. There are 26 b...\n",
      "57                                                      \n",
      "59     images of local people as well as Tennessee an...\n",
      "60                                                      \n",
      "66     Eight scenes showing the development of Nashvi...\n",
      "67     Minnie Pearl and Roy Acuff seated on a bench i...\n",
      "68     Relief sculpture above main entrance of Scherm...\n",
      "75                                                      \n",
      "104    Two figures topping a fountain, one with a lyr...\n",
      "105    Statue commemorating Kenneth D Schermerhorn, M...\n",
      "107    The Little Prince\\nOutlaw hung a whimsical mob...\n",
      "109       Bronze angel holding a fountain pen and tablet\n",
      "112    Full-length standing figure of Ryman, holding ...\n",
      "114    Two nearly interlinked hemicycles with cannonb...\n",
      "Name: Description, dtype: object\n",
      "1                                                       \n",
      "4      Inside the Grand Reading Room, this is a serie...\n",
      "21     A sculpture of a young Chet Atkins seated on a...\n",
      "22                     chairs depicting the four seasons\n",
      "34     a contemporary adaptation of a classical folia...\n",
      "39     Just having some fun with Trompe L'oeil balconies\n",
      "40          Trompe L'oeil artwork celebrating The Arcade\n",
      "54     Classic street art by Thoughts Manifested crew...\n",
      "55     A 20 foot tower of stone books. There are 26 b...\n",
      "57                                                      \n",
      "59     images of local people as well as Tennessee an...\n",
      "60                                                      \n",
      "66     Eight scenes showing the development of Nashvi...\n",
      "67     Minnie Pearl and Roy Acuff seated on a bench i...\n",
      "68     Relief sculpture above main entrance of Scherm...\n",
      "75                                                      \n",
      "104    Two figures topping a fountain, one with a lyr...\n",
      "105    Statue commemorating Kenneth D Schermerhorn, M...\n",
      "107    The Little Prince\\nOutlaw hung a whimsical mob...\n",
      "109       Bronze angel holding a fountain pen and tablet\n",
      "112    Full-length standing figure of Ryman, holding ...\n",
      "114    Two nearly interlinked hemicycles with cannonb...\n",
      "Name: Description, dtype: object\n"
     ]
    },
    {
     "name": "stderr",
     "output_type": "stream",
     "text": [
      "C:\\Users\\kcsgo\\anaconda3\\lib\\site-packages\\pandas\\core\\generic.py:6245: SettingWithCopyWarning: \n",
      "A value is trying to be set on a copy of a slice from a DataFrame\n",
      "\n",
      "See the caveats in the documentation: https://pandas.pydata.org/pandas-docs/stable/user_guide/indexing.html#returning-a-view-versus-a-copy\n",
      "  self._update_inplace(new_data)\n"
     ]
    }
   ],
   "source": [
    "# Print the urban_art titles\n",
    "print(urban_art.Title)\n",
    "\n",
    "# Print the urban_art description\n",
    "print(urban_art.Description)\n",
    "\n",
    "# Replace Nan and ' values in description\n",
    "urban_art.Description.fillna('', inplace=True)\n",
    "urban_art.Description.str.replace(\"'\", \"`\")\n",
    "\n",
    "# Print the urban_art descriptions again\n",
    "print(urban_art.Description)"
   ]
  },
  {
   "cell_type": "markdown",
   "metadata": {},
   "source": [
    "### A map of downtown art\n",
    "Now you will assign a popup to each marker to give information about the artwork at each location. In particular you will assign the art title and description to the popup for each marker. You will do so by creating the map object downtown_map, then add the popups, and finally use the display function to show your map.\n",
    "\n",
    "One warning before you start: you'll need to ensure that all instances of single quotes (') are removed from the pop-up message, otherwise your plot will not render!\n"
   ]
  },
  {
   "cell_type": "code",
   "execution_count": 28,
   "metadata": {},
   "outputs": [],
   "source": [
    "downtown_map = folium.Map(location=urban_location, zoom_start=15, width=500, height=500)\n",
    "folium.GeoJson(urban_polygon.geometry).add_to(downtown_map)\n",
    "\n",
    "# Create popups inside the loop you built to create the markers\n",
    "for row in urban_art.iterrows():\n",
    "    row_values = row[1] \n",
    "    location = [row_values['Latitude'], row_values['Longitude']]\n",
    "    popup = (str(row_values['Title']) + ': ' + str(row_values['Description'])[:20])\n",
    "    \n",
    "    marker = folium.Marker(location = location, popup=popup)\n",
    "    marker.add_to(downtown_map)\n",
    "\n",
    "downtown_map.save('./html/downtown_map4.html')"
   ]
  },
  {
   "cell_type": "code",
   "execution_count": 36,
   "metadata": {},
   "outputs": [
    {
     "data": {
      "text/html": [
       "\n",
       "        <iframe\n",
       "            width=\"500\"\n",
       "            height=\"500\"\n",
       "            src=\"/chans_jupyter/assets/attach/downtown_map4.html\"\n",
       "            frameborder=\"0\"\n",
       "            allowfullscreen\n",
       "        ></iframe>\n",
       "        "
      ],
      "text/plain": [
       "<IPython.lib.display.IFrame at 0x2449a729f48>"
      ]
     },
     "execution_count": 36,
     "metadata": {},
     "output_type": "execute_result"
    }
   ],
   "source": [
    "#hide_input\n",
    "IFrame(src='/chans_jupyter/assets/attach/downtown_map4.html', width=500, height=500)"
   ]
  }
 ],
 "metadata": {
  "kernelspec": {
   "display_name": "Python 3",
   "language": "python",
   "name": "python3"
  },
  "language_info": {
   "codemirror_mode": {
    "name": "ipython",
    "version": 3
   },
   "file_extension": ".py",
   "mimetype": "text/x-python",
   "name": "python",
   "nbconvert_exporter": "python",
   "pygments_lexer": "ipython3",
   "version": "3.7.6"
  }
 },
 "nbformat": 4,
 "nbformat_minor": 4
}
