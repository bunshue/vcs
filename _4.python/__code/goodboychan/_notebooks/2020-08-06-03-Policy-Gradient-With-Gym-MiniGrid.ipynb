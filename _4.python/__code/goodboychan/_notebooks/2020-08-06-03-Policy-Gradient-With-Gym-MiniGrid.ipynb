{
 "cells": [
  {
   "cell_type": "markdown",
   "metadata": {},
   "source": [
    "# Policy Gradient with gym-MiniGrid\n",
    "> In this session, it will show the pytorch-implemented Policy Gradient in Gym-MiniGrid Environment.  Through this, you will know how to implement Vanila Policy Gradient (also known as REINFORCE), and test it on open source RL environment.\n",
    "\n",
    "- toc: true \n",
    "- badges: true\n",
    "- comments: true\n",
    "- author: Chanseok Kang\n",
    "- categories: [Python, PyTorch, Reinforcement_Learning]\n",
    "- image: images/Minigrid_sample.png"
   ]
  },
  {
   "cell_type": "markdown",
   "metadata": {},
   "source": [
    "## Basic Jupyter Setting"
   ]
  },
  {
   "cell_type": "code",
   "execution_count": 3,
   "metadata": {},
   "outputs": [
    {
     "name": "stdout",
     "output_type": "stream",
     "text": [
      "The autoreload extension is already loaded. To reload it, use:\n",
      "  %reload_ext autoreload\n"
     ]
    }
   ],
   "source": [
    "import numpy as np\n",
    "import matplotlib.pyplot as plt\n",
    "from pprint import pprint\n",
    "\n",
    "%matplotlib inline\n",
    "plt.rcParams['figure.figsize'] = (10.0, 8.0) # set default size of plots\n",
    "plt.rcParams['image.interpolation'] = 'nearest'\n",
    "plt.rcParams['image.cmap'] = 'gray'\n",
    "\n",
    "# for auto-reloading external modules\n",
    "# see http://stackoverflow.com/questions/1907993/autoreload-of-modules-in-ipython\n",
    "%load_ext autoreload\n",
    "%autoreload 2"
   ]
  },
  {
   "cell_type": "markdown",
   "metadata": {},
   "source": [
    "## Setup the environment\n",
    "Gridworld is widely used in RL environment. [Gym-MiniGrid](https://github.com/maximecb/gym-minigrid) is custom GridWorld environment of OpenAI [gym](https://github.com/openai/gym) style. Before dive in this environment, you need to install both of them.\n",
    "```\n",
    "pip install gym\n",
    "pip install gym-minigrid \n",
    "```\n",
    "At first, Let's look at some frames of MiniGrid."
   ]
  },
  {
   "cell_type": "code",
   "execution_count": 2,
   "metadata": {},
   "outputs": [
    {
     "data": {
      "image/png": "[encoded data removed]",
      "text/plain": [
       "<Figure size 720x576 with 1 Axes>"
      ]
     },
     "metadata": {
      "needs_background": "light"
     },
     "output_type": "display_data"
    }
   ],
   "source": [
    "import gym\n",
    "import gym_minigrid\n",
    "\n",
    "env = gym.make('MiniGrid-Empty-5x5-v0')\n",
    "env.reset()\n",
    "before_img = env.render('rgb_array')\n",
    "action = env.actions.forward\n",
    "obs, reward, done, info = env.step(action)\n",
    "after_img = env.render('rgb_array')\n",
    "\n",
    "plt.imshow(np.concatenate([before_img, after_img], 1));"
   ]
  },
  {
   "cell_type": "markdown",
   "metadata": {},
   "source": [
    "This is the example of `MiniGrid-Empty-5x5-v0` environment. There are some blank cells, and gray obstacle which the agent cannot pass it. And the green cell is the goal to reach. The ultimate goal of this environment (and most of RL problem) is to find the optimal policy with highest reward. In this case, well-trained agent should find the optimal path to reach the goal.\n",
    "\n",
    "Let's move to more larger environment `MiniGrid-Empty-8x8-v0`, and find the information what we can get."
   ]
  },
  {
   "cell_type": "code",
   "execution_count": 11,
   "metadata": {},
   "outputs": [
    {
     "name": "stdout",
     "output_type": "stream",
     "text": [
      "Observation: {'image': array([[[2, 5, 0],\n",
      "        [1, 0, 0],\n",
      "        [1, 0, 0],\n",
      "        [1, 0, 0],\n",
      "        [1, 0, 0],\n",
      "        [1, 0, 0],\n",
      "        [1, 0, 0]],\n",
      "\n",
      "       [[2, 5, 0],\n",
      "        [1, 0, 0],\n",
      "        [1, 0, 0],\n",
      "        [1, 0, 0],\n",
      "        [1, 0, 0],\n",
      "        [1, 0, 0],\n",
      "        [1, 0, 0]],\n",
      "\n",
      "       [[2, 5, 0],\n",
      "        [1, 0, 0],\n",
      "        [1, 0, 0],\n",
      "        [1, 0, 0],\n",
      "        [1, 0, 0],\n",
      "        [1, 0, 0],\n",
      "        [1, 0, 0]],\n",
      "\n",
      "       [[2, 5, 0],\n",
      "        [1, 0, 0],\n",
      "        [1, 0, 0],\n",
      "        [1, 0, 0],\n",
      "        [1, 0, 0],\n",
      "        [1, 0, 0],\n",
      "        [1, 0, 0]],\n",
      "\n",
      "       [[2, 5, 0],\n",
      "        [2, 5, 0],\n",
      "        [2, 5, 0],\n",
      "        [2, 5, 0],\n",
      "        [2, 5, 0],\n",
      "        [2, 5, 0],\n",
      "        [2, 5, 0]],\n",
      "\n",
      "       [[2, 5, 0],\n",
      "        [2, 5, 0],\n",
      "        [2, 5, 0],\n",
      "        [2, 5, 0],\n",
      "        [2, 5, 0],\n",
      "        [2, 5, 0],\n",
      "        [2, 5, 0]],\n",
      "\n",
      "       [[2, 5, 0],\n",
      "        [2, 5, 0],\n",
      "        [2, 5, 0],\n",
      "        [2, 5, 0],\n",
      "        [2, 5, 0],\n",
      "        [2, 5, 0],\n",
      "        [2, 5, 0]]], dtype=uint8), 'direction': 1, 'mission': 'get to the green goal square'}\n",
      "Reward: 0\n",
      "Done: False\n",
      "Info: {}\n",
      "Image shape: (256, 256, 3)\n"
     ]
    },
    {
     "data": {
      "image/png": "[encoded data removed]",
      "text/plain": [
       "<Figure size 720x576 with 1 Axes>"
      ]
     },
     "metadata": {
      "needs_background": "light"
     },
     "output_type": "display_data"
    }
   ],
   "source": [
    "# Make a new environment MiniGrid-Empty-8x8-v0\n",
    "env = gym.make('MiniGrid-Empty-8x8-v0')\n",
    "\n",
    "# Reset the environment\n",
    "env.reset()\n",
    "\n",
    "# Select the action right (sample action)\n",
    "action = env.actions.right\n",
    "\n",
    "# Take a step in the environment and store it in appropriate variables\n",
    "obs, reward, done, info = env.step(action)\n",
    "\n",
    "# Render the current state of the environment\n",
    "img = env.render('rgb_array')\n",
    "\n",
    "print('Observation:', obs)\n",
    "print('Reward:', reward)\n",
    "print('Done:', done)\n",
    "print('Info:', info)\n",
    "print('Image shape:', img.shape)\n",
    "plt.imshow(img);"
   ]
  },
  {
   "cell_type": "markdown",
   "metadata": {},
   "source": [
    "As the agent take an action, environment (MiniGrid) will be changed with respect to action. \n",
    "If the agent want to find the optimal path, the agent should notice the difference between current state and next state while taking an action. To help this, the environment generates next state, reward, and terminal flags.\n",
    "\n",
    "Some helper function offers to render the sample action in Jupyter Notebook."
   ]
  },
  {
   "cell_type": "code",
   "execution_count": 12,
   "metadata": {},
   "outputs": [],
   "source": [
    "import base64\n",
    "import glob\n",
    "import io\n",
    "from IPython.display import HTML\n",
    "from IPython import display \n",
    "\n",
    "def show_video():\n",
    "    mp4list = glob.glob('video/*.mp4')\n",
    "    if len(mp4list) > 0:\n",
    "        mp4 = mp4list[0]\n",
    "        video = io.open(mp4, 'r+b').read()\n",
    "        encoded = base64.b64encode(video)\n",
    "        display.display(HTML(data='''<video alt=\"test\" autoplay \n",
    "                loop controls style=\"height: 400px;\">\n",
    "                <source src=\"data:video/mp4;base64,{0}\" type=\"video/mp4\" />\n",
    "             </video>'''.format(encoded.decode('ascii'))))\n",
    "    else:\n",
    "        print(\"Could not find video\")"
   ]
  },
  {
   "cell_type": "markdown",
   "metadata": {},
   "source": [
    "To help agent training easily, MiniGrid offers `FlatObsWrapper` for flattening observation (in other words, 1D array)"
   ]
  },
  {
   "cell_type": "code",
   "execution_count": 13,
   "metadata": {},
   "outputs": [],
   "source": [
    "import gym\n",
    "from gym import spaces\n",
    "from gym_minigrid.minigrid import OBJECT_TO_IDX, COLOR_TO_IDX\n",
    "\n",
    "max_env_steps = 50\n",
    "\n",
    "class FlatObsWrapper(gym.core.ObservationWrapper):\n",
    "    \"\"\"Fully observable gridworld returning a flat grid encoding.\"\"\"\n",
    "\n",
    "    def __init__(self, env):\n",
    "        super().__init__(env)\n",
    "\n",
    "        # Since the outer walls are always present, we remove left, right, top, bottom walls\n",
    "        # from the observation space of the agent. There are 3 channels, but for simplicity\n",
    "        # in this assignment, we will deal with flattened version of state.\n",
    "        \n",
    "        self.observation_space = spaces.Box(\n",
    "            low=0,\n",
    "            high=255,\n",
    "            shape=((self.env.width-2) * (self.env.height-2) * 3,),  # number of cells\n",
    "            dtype='uint8'\n",
    "        )\n",
    "        self.unwrapped.max_steps = max_env_steps\n",
    "\n",
    "    def observation(self, obs):\n",
    "        # this method is called in the step() function to get the observation\n",
    "        # we provide code that gets the grid state and places the agent in it\n",
    "        env = self.unwrapped\n",
    "        full_grid = env.grid.encode()\n",
    "        full_grid[env.agent_pos[0]][env.agent_pos[1]] = np.array([\n",
    "            OBJECT_TO_IDX['agent'],\n",
    "            COLOR_TO_IDX['red'],\n",
    "            env.agent_dir\n",
    "        ])\n",
    "        full_grid = full_grid[1:-1, 1:-1]   # remove outer walls of the environment (for efficiency)\n",
    "        \n",
    "        flattened_grid = full_grid.ravel()\n",
    "        return flattened_grid\n",
    "    \n",
    "    def render(self, *args, **kwargs):\n",
    "        \"\"\"This removes the default visualization of the partially observable field of view.\"\"\"\n",
    "        kwargs['highlight'] = False\n",
    "        return self.unwrapped.render(*args, **kwargs)"
   ]
  },
  {
   "cell_type": "markdown",
   "metadata": {},
   "source": [
    "So It's time to run with sample action!"
   ]
  },
  {
   "cell_type": "code",
   "execution_count": 14,
   "metadata": {},
   "outputs": [
    {
     "name": "stdout",
     "output_type": "stream",
     "text": [
      "Observation: [10  0  1  1  0  0  1  0  0  1  0  0  1  0  0  1  0  0  1  0  0  1  0  0\n",
      "  1  0  0  1  0  0  1  0  0  1  0  0  1  0  0  1  0  0  1  0  0  1  0  0\n",
      "  1  0  0  1  0  0  1  0  0  1  0  0  1  0  0  1  0  0  1  0  0  1  0  0\n",
      "  1  0  0  1  0  0  1  0  0  1  0  0  1  0  0  1  0  0  1  0  0  1  0  0\n",
      "  1  0  0  1  0  0  1  0  0  8  1  0] , Observation Shape:  (108,)\n",
      "Reward: 0\n",
      "Done: False\n",
      "Info: {}\n",
      "Image shape: (256, 256, 3)\n"
     ]
    },
    {
     "data": {
      "image/png": "[encoded data removed]",
      "text/plain": [
       "<Figure size 720x576 with 1 Axes>"
      ]
     },
     "metadata": {
      "needs_background": "light"
     },
     "output_type": "display_data"
    }
   ],
   "source": [
    "# Convert MiniGrid Environment with Flat Observable \n",
    "env = FlatObsWrapper(gym.make('MiniGrid-Empty-8x8-v0'))\n",
    "\n",
    "# Reset the environment\n",
    "env.reset()\n",
    "\n",
    "# Select the action right\n",
    "action = env.actions.right\n",
    "\n",
    "# Take a step in the environment and store it in appropriate variables\n",
    "obs, reward, done, info = env.step(action)\n",
    "\n",
    "# Render the current state of the environment\n",
    "img = env.render('rgb_array')\n",
    "################# YOUR CODE ENDS HERE ###############################\n",
    "\n",
    "print('Observation:', obs, ', Observation Shape: ', obs.shape)\n",
    "print('Reward:', reward)\n",
    "print('Done:', done)\n",
    "print('Info:', info)\n",
    "print('Image shape:', img.shape)\n",
    "plt.imshow(img);"
   ]
  },
  {
   "cell_type": "markdown",
   "metadata": {},
   "source": [
    "As you can see it in observation, the dimension of observation is changed from 2D to 1D. Using this observation, we will make some kind of neural network to help agent to notice the observation. Let's check the real-time video of random movement."
   ]
  },
  {
   "cell_type": "code",
   "execution_count": 15,
   "metadata": {},
   "outputs": [],
   "source": [
    "from gym.wrappers import Monitor\n",
    "\n",
    "# Monitor is a gym wrapper, which helps easy rendering of videos of the wrapped environment.\n",
    "def wrap_env(env):\n",
    "    env = Monitor(env, './video', force=True)\n",
    "    return env\n",
    "\n",
    "def gen_wrapped_env(env_name):\n",
    "    return wrap_env(FlatObsWrapper(gym.make(env_name)))"
   ]
  },
  {
   "cell_type": "markdown",
   "metadata": {},
   "source": [
    "Currently, OpenAI Gym offers several utils to help understanding the training progress. Monitor is one of that tool to log the history data. If we set the rendering option to `rgb_array`, the video data will be stored in specific path. (Maybe it requires some additional apps such as ffmpeg)"
   ]
  },
  {
   "cell_type": "markdown",
   "metadata": {},
   "source": [
    "## Test with Random Policy"
   ]
  },
  {
   "cell_type": "code",
   "execution_count": 19,
   "metadata": {},
   "outputs": [],
   "source": [
    "# Random agent - we only use it in this cell for demonstration\n",
    "class RandPolicy:\n",
    "    def __init__(self, action_space):\n",
    "        self.action_space = action_space\n",
    "        \n",
    "    def act(self, *unused_args):\n",
    "        return self.action_space.sample(), None"
   ]
  },
  {
   "cell_type": "markdown",
   "metadata": {},
   "source": [
    "At first, we want check the operation of environment-agent interaction. To do this, Random Policy that generates the \"random action\" is defined. This policy just generates random action from pre-defined action space. And then run it. \n",
    "> Note that `pytorch_policy` flag is set to `False` as a default. But to implement the policy gradient, the gradient calculation is required, and pytorch will be used."
   ]
  },
  {
   "cell_type": "code",
   "execution_count": 18,
   "metadata": {},
   "outputs": [
    {
     "name": "stdout",
     "output_type": "stream",
     "text": [
      "Total reward: 0\n",
      "Total length: 50\n"
     ]
    },
    {
     "data": {
      "text/html": [
       "<video alt=\"test\" autoplay \n",
       "                loop controls style=\"height: 400px;\">\n",
       "                <source src=\"data:video/mp4;base64,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\" type=\"video/mp4\" />\n",
       "             </video>"
      ],
      "text/plain": [
       "<IPython.core.display.HTML object>"
      ]
     },
     "metadata": {},
     "output_type": "display_data"
    }
   ],
   "source": [
    "# This function plots videos of rollouts (episodes) of a given policy and environment\n",
    "def log_policy_rollout(policy, env_name, pytorch_policy=False):\n",
    "    # Create environment with flat observation\n",
    "    env = gen_wrapped_env(env_name)\n",
    "\n",
    "    # Initialize environment\n",
    "    observation = env.reset()\n",
    "\n",
    "    done = False\n",
    "    episode_reward = 0\n",
    "    episode_length = 0\n",
    "\n",
    "    # Run until done == True\n",
    "    while not done:\n",
    "      # Take a step\n",
    "        if pytorch_policy: \n",
    "            observation = torch.tensor(observation, dtype=torch.float32)\n",
    "            action = policy.act(observation)[0].data.cpu().numpy()\n",
    "        else:\n",
    "            action = policy.act(observation)[0]\n",
    "        observation, reward, done, info = env.step(action)\n",
    "\n",
    "        episode_reward += reward\n",
    "        episode_length += 1\n",
    "\n",
    "    print('Total reward:', episode_reward)\n",
    "    print('Total length:', episode_length)\n",
    "\n",
    "    env.close()\n",
    "    \n",
    "    show_video()\n",
    "\n",
    "# Test that the logging function is working\n",
    "test_env_name = 'MiniGrid-Empty-8x8-v0'\n",
    "rand_policy = RandPolicy(FlatObsWrapper(gym.make(test_env_name)).action_space)\n",
    "log_policy_rollout(rand_policy, test_env_name)"
   ]
  },
  {
   "cell_type": "markdown",
   "metadata": {},
   "source": [
    "That's the agent work with Random Policy. We found out that Random Policy is not optimal policy since the agent (the red one) cannot reach the goal.(or maybe it'll reach the goal after infinite times go on...)  So to reach the goal, it requires more intelligent policy. In natural sense of mind, it needs,\n",
    "\n",
    "- Remember the previous trajectory\n",
    "- When it goes to unknown cell, based on the experience with memory, use it to find the way to goal"
   ]
  },
  {
   "cell_type": "markdown",
   "metadata": {},
   "source": [
    "## Implement Rollout Buffer\n",
    "Before implementing Policy Gradient, it requires to implement memory object to store the previous trajectory or information offered from environment. Sometimes, it is called \"Replay Buffer\" or \"Rollout Buffer\", but in this page, RolloutBuffer will be used for expression. To implement Rollout Buffer, we need to consider such that,\n",
    "\n",
    "- how many trajectories stored in buffer?\n",
    "- how to add trajectory into the buffer?\n",
    "- (In view of Reinforcement Learning) how to calculate the future reward based on previous reward\n",
    "- (+) how to sample the trajectory efficiently?\n",
    "\n",
    "So this is RolloutBuffer implementation!"
   ]
  },
  {
   "cell_type": "code",
   "execution_count": 20,
   "metadata": {},
   "outputs": [],
   "source": [
    "from torch.utils.data.sampler import BatchSampler, SubsetRandomSampler\n",
    "\n",
    "class RolloutBuffer():\n",
    "    def __init__(self, rollout_size, obs_size):\n",
    "        self.rollout_size = rollout_size\n",
    "        self.obs_size = obs_size\n",
    "        self.reset()\n",
    "        \n",
    "    def insert(self, step, done, action, log_prob, reward, obs):    \n",
    "        self.done[step].copy_(done)\n",
    "        self.actions[step].copy_(action)\n",
    "        self.log_probs[step].copy_(log_prob)\n",
    "        self.rewards[step].copy_(reward)\n",
    "        self.obs[step].copy_(obs)\n",
    "        \n",
    "    def reset(self):\n",
    "        self.done = torch.zeros(self.rollout_size, 1)\n",
    "        self.returns = torch.zeros(self.rollout_size + 1, 1, requires_grad=False)\n",
    "        # Assuming Discrete Action Space\n",
    "        self.actions = torch.zeros(self.rollout_size, 1, dtype=torch.int64)  \n",
    "        self.log_probs = torch.zeros(self.rollout_size, 1)\n",
    "        self.rewards = torch.zeros(self.rollout_size, 1)\n",
    "        self.obs = torch.zeros(self.rollout_size, self.obs_size)\n",
    "        \n",
    "    def compute_returns(self, gamma):\n",
    "        # Compute Returns until the last finished episode\n",
    "        self.last_done = (self.done == 1).nonzero().max()  \n",
    "        self.returns[self.last_done + 1] = 0.\n",
    "\n",
    "        # Accumulate discounted returns\n",
    "        for step in reversed(range(self.last_done + 1)):\n",
    "            self.returns[step] = self.returns[step + 1] * \\\n",
    "                gamma * (1 - self.done[step]) + self.rewards[step]\n",
    "        \n",
    "    def batch_sampler(self, batch_size, get_old_log_probs=False):\n",
    "        sampler = BatchSampler(\n",
    "            SubsetRandomSampler(range(self.last_done)),\n",
    "            batch_size,\n",
    "            drop_last=True)\n",
    "        for indices in sampler:\n",
    "            if get_old_log_probs:\n",
    "                yield self.actions[indices], self.returns[indices], self.obs[indices], self.log_probs[indices]\n",
    "            else:\n",
    "                yield self.actions[indices], self.returns[indices], self.obs[indices]"
   ]
  },
  {
   "cell_type": "markdown",
   "metadata": {},
   "source": [
    "There are couple of things to notice that,\n",
    "\n",
    "- All information stored in RolloutBuffer should get the type of `torch.Tensor`\n",
    "- In this case, returns will be used for minimizing the loss. So returns object should set the `requires_grad` to `True`\n",
    "- It is inefficient to use all information to train the policy. To handle it, it requires something special sampling strategy. In this code, `BatchSample` is used."
   ]
  },
  {
   "cell_type": "markdown",
   "metadata": {},
   "source": [
    "## Construct Policy Network\n",
    "\n",
    "Now that we can store rollouts we need a policy to collect them. In the following you will complete the provided base code for the policy class. The policy is instantiated as a small neural network with simple fully-connected layers, the `ActorNetwork`. The role of policy is sort of strategy that generates the action. (Actually, it is just the probability to generate the action).\n",
    " And Of course, the important work through `ActorNetwork` is to update policy per each iteration. With pytorch, we need to define,\n",
    " \n",
    "- What optimizer should we use?\n",
    "- How can we define the loss function?\n",
    "\n",
    "At first, Let's look gradient function used in policy gradient,\n",
    "\n",
    "$$ \\nabla J(\\theta) = \\mathbb{E}_{\\pi}\\big[ \\nabla_{\\theta} \\log \\pi_{\\theta}(a, s) \\; V_t(s) \\big] $$\n",
    "\n",
    "Here, $\\theta$ are the parameters of the policy network $\\pi_{\\theta}$ and $V_t(s)$ is the observed future discounted reward from state $s$ onwards which should be **maximized** (we need to focus on this keyword, since the purpose of neural network training is to **minimize** the loss, not **maximize**). So anyway we need the calculate the gradient of $\\log \\pi_{\\theta}(a, s)$ and calculate its mean.\n",
    "\n",
    "And Plus, there are some approaches to enhance the exploration. If we can consider the **entropy loss** to handle the overall loss, it takes diverse action. At that case gradient fuction will be,\n",
    "\n",
    "$$ \\nabla J(\\theta) = \\mathbb{E}_{\\pi}\\big[ \\nabla_{\\theta} \\log \\pi_{\\theta}(a, s) \\; V_t(s) \\big] + \\nabla_{\\theta}\\mathcal{H}\\big[\\pi_\\theta(a, s)\\big]$$\n",
    "\n",
    "And here is the implementation of Actor Network (and it's quite simple!)"
   ]
  },
  {
   "cell_type": "code",
   "execution_count": 22,
   "metadata": {},
   "outputs": [],
   "source": [
    "import torch\n",
    "import torch.nn as nn\n",
    "\n",
    "class ActorNetwork(nn.Module):\n",
    "    def __init__(self, num_inputs, num_actions, hidden_dim):\n",
    "        super().__init__()\n",
    "        self.num_actions = num_actions\n",
    "        \n",
    "        self.fc = nn.Sequential(\n",
    "            nn.Linear(num_inputs, hidden_dim),\n",
    "            nn.Tanh(),\n",
    "            nn.Linear(hidden_dim, hidden_dim),\n",
    "            nn.Tanh(),\n",
    "            nn.Linear(hidden_dim, num_actions)\n",
    "        )\n",
    "        \n",
    "    def forward(self, state):\n",
    "        x = self.fc(state)\n",
    "        return x"
   ]
  },
  {
   "cell_type": "markdown",
   "metadata": {},
   "source": [
    "And Below is the implementation of Policy. We select the Adam Optimizer "
   ]
  },
  {
   "cell_type": "code",
   "execution_count": 24,
   "metadata": {},
   "outputs": [],
   "source": [
    "import torch.optim as optim\n",
    "import torch.nn.functional as F\n",
    "from torch.distributions.categorical import Categorical\n",
    "from utils.utils import count_model_params\n",
    "\n",
    "class Policy():\n",
    "    def __init__(self, num_inputs, num_actions, hidden_dim, learning_rate,\n",
    "                 batch_size, policy_epochs, entropy_coef=0.001):\n",
    "        self.actor = ActorNetwork(num_inputs, num_actions, hidden_dim)\n",
    "        self.optimizer = optim.Adam(self.actor.parameters(), lr=learning_rate)\n",
    "        self.batch_size = batch_size\n",
    "        self.policy_epochs = policy_epochs\n",
    "        self.entropy_coef = entropy_coef\n",
    "\n",
    "    def act(self, state):\n",
    "        logits = self.actor(state)\n",
    "        # To generate the probability of action, we assume its state has categorical distribution.\n",
    "        dist = Categorical(logits=logits)\n",
    "        action = dist.sample()\n",
    "        log_prob = dist.log_prob(action)\n",
    "        return action, log_prob\n",
    "    \n",
    "    def evaluate_actions(self, state, action):\n",
    "        logits = self.actor(state)\n",
    "        dist = Categorical(logits=logits)\n",
    "        log_prob = dist.log_prob(action.squeeze(-1)).view(-1, 1)\n",
    "        entropy = dist.entropy().view(-1, 1)\n",
    "        return log_prob, entropy\n",
    "    \n",
    "    def update(self, rollouts):\n",
    "        for epoch in range(self.policy_epochs):\n",
    "            data = rollouts.batch_sampler(self.batch_size)\n",
    "            \n",
    "            for sample in data:\n",
    "                actions_batch, returns_batch, obs_batch = sample\n",
    "    \n",
    "                log_probs_batch, entropy_batch = self.evaluate_actions(obs_batch, actions_batch)\n",
    "    \n",
    "                # Compute the mean loss for the policy update using \n",
    "                # action log-probabilities and policy returns\n",
    "                policy_loss = -(log_probs_batch * returns_batch).mean()\n",
    "                # Compute the mean entropy for the policy update \n",
    "                entropy_loss = -entropy_batch.mean()\n",
    "                \n",
    "                loss = policy_loss + self.entropy_coef * entropy_loss\n",
    "                \n",
    "                self.optimizer.zero_grad()\n",
    "                loss.backward(retain_graph=False)\n",
    "                self.optimizer.step()\n",
    "                \n",
    "    @property\n",
    "    def num_params(self):\n",
    "        return count_model_params(self.actor)"
   ]
  },
  {
   "cell_type": "code",
   "execution_count": 36,
   "metadata": {},
   "outputs": [],
   "source": [
    "from IPython.display import clear_output\n",
    "from utils.utils import AverageMeter, plot_learning_curve\n",
    "import time\n",
    "\n",
    "def train(env, rollouts, policy, params, seed=123):\n",
    "    # SETTING SEED: it is good practice to set seeds when running experiments to keep results comparable\n",
    "    np.random.seed(seed)\n",
    "    torch.manual_seed(seed)\n",
    "    env.seed(seed)\n",
    "\n",
    "    rollout_time, update_time = AverageMeter(), AverageMeter()  # Loggers\n",
    "    rewards, success_rate = [], []\n",
    "\n",
    "    print(\"Training model with {} parameters...\".format(policy.num_params))\n",
    "\n",
    "    # Training Loop\n",
    "    for j in range(params.num_updates):\n",
    "        ## Initialization\n",
    "        avg_eps_reward, avg_success_rate = AverageMeter(), AverageMeter()\n",
    "        done = False\n",
    "        prev_obs = env.reset()\n",
    "        prev_obs = torch.tensor(prev_obs, dtype=torch.float32)\n",
    "        eps_reward = 0.\n",
    "        start_time = time.time()\n",
    "        \n",
    "        ## Collect rollouts\n",
    "        for step in range(rollouts.rollout_size):\n",
    "            if done:\n",
    "                # Store episode statistics\n",
    "                avg_eps_reward.update(eps_reward)\n",
    "                if 'success' in info: \n",
    "                    avg_success_rate.update(int(info['success']))\n",
    "\n",
    "                # Reset Environment\n",
    "                obs = env.reset()\n",
    "                obs = torch.tensor(obs, dtype=torch.float32)\n",
    "                eps_reward = 0.\n",
    "            else:\n",
    "                obs = prev_obs\n",
    "\n",
    "            action, log_prob = policy.act(obs)\n",
    "            obs, reward, done, info = env.step(action)\n",
    "\n",
    "            rollouts.insert(step, torch.tensor(done, dtype=torch.float32), action, log_prob, \n",
    "                            torch.tensor(reward, dtype=torch.float32), \n",
    "                            prev_obs)\n",
    "            \n",
    "            prev_obs = torch.tensor(obs, dtype=torch.float32)\n",
    "            eps_reward += reward\n",
    "        \n",
    "        # Use the rollout buffer's function to compute the returns for all stored rollout steps. (requires just 1 line)\n",
    "        rollouts.compute_returns(params['discount'])\n",
    "        \n",
    "        rollout_done_time = time.time()\n",
    "\n",
    "        \n",
    "        # Call the policy's update function using the collected rollouts        \n",
    "        policy.update(rollouts)\n",
    "\n",
    "        update_done_time = time.time()\n",
    "        rollouts.reset()\n",
    "\n",
    "        ## log metrics\n",
    "        rewards.append(avg_eps_reward.avg)\n",
    "        if avg_success_rate.count > 0:\n",
    "            success_rate.append(avg_success_rate.avg)\n",
    "        rollout_time.update(rollout_done_time - start_time)\n",
    "        update_time.update(update_done_time - rollout_done_time)\n",
    "        print('it {}: avgR: {:.3f} -- rollout_time: {:.3f}sec -- update_time: {:.3f}sec'.format(j, \n",
    "                                                                                                avg_eps_reward.avg, \n",
    "                                                                                                rollout_time.avg,\n",
    "                                                                                                update_time.avg))\n",
    "        if j % params.plotting_iters == 0 and j != 0:\n",
    "            plot_learning_curve(rewards, success_rate, params.num_updates)\n",
    "            log_policy_rollout(policy, params.env_name, pytorch_policy=True)\n",
    "    clear_output()   # this removes all training outputs to keep the notebook clean, DON'T REMOVE THIS LINE!\n",
    "    return rewards, success_rate"
   ]
  },
  {
   "cell_type": "code",
   "execution_count": 37,
   "metadata": {},
   "outputs": [],
   "source": [
    "from utils.utils import ParamDict\n",
    "import copy\n",
    "\n",
    "def instantiate(params_in, nonwrapped_env=None):\n",
    "    params = copy.deepcopy(params_in)\n",
    "\n",
    "    if nonwrapped_env is None:\n",
    "        nonwrapped_env = gym.make(params.env_name)\n",
    "\n",
    "    env = None\n",
    "    env = FlatObsWrapper(nonwrapped_env)    \n",
    "    obs_size = env.observation_space.shape[0]\n",
    "    num_actions = env.action_space.n\n",
    "\n",
    "    rollouts = RolloutBuffer(params.rollout_size, obs_size)\n",
    "    policy_class = params.policy_params.pop('policy_class')\n",
    "    \n",
    "    policy = policy_class(obs_size, num_actions, **params.policy_params)\n",
    "    return env, rollouts, policy"
   ]
  },
  {
   "cell_type": "code",
   "execution_count": 38,
   "metadata": {},
   "outputs": [],
   "source": [
    "# hyperparameters\n",
    "policy_params = ParamDict(\n",
    "    policy_class = Policy,    # Policy class to use (replaced later)     \n",
    "    hidden_dim = 32,          # dimension of the hidden state in actor network\n",
    "    learning_rate = 1e-3,     # learning rate of policy update\n",
    "    batch_size = 1024,        # batch size for policy update\n",
    "    policy_epochs = 4,        # number of epochs per policy update\n",
    "    entropy_coef = 0.001,     # hyperparameter to vary the contribution of entropy loss\n",
    ")\n",
    "params = ParamDict(\n",
    "    policy_params = policy_params,\n",
    "    rollout_size = 2050,      # number of collected rollout steps per policy update\n",
    "    num_updates = 50,         # number of training policy iterations\n",
    "    discount = 0.99,          # discount factor\n",
    "    plotting_iters = 10,      # interval for logging graphs and policy rollouts\n",
    "    env_name = 'MiniGrid-Empty-5x5-v0',  # we are using a tiny environment here for testing\n",
    ")"
   ]
  },
  {
   "cell_type": "code",
   "execution_count": 39,
   "metadata": {},
   "outputs": [
    {
     "name": "stdout",
     "output_type": "stream",
     "text": [
      "Training completed!\n"
     ]
    }
   ],
   "source": [
    "env, rollouts, policy = instantiate(params)\n",
    "rewards, success_rate = train(env, rollouts, policy, params)\n",
    "print(\"Training completed!\")"
   ]
  },
  {
   "cell_type": "code",
   "execution_count": 40,
   "metadata": {},
   "outputs": [
    {
     "data": {
      "image/png": "[encoded data removed]",
      "text/plain": [
       "<Figure size 720x576 with 1 Axes>"
      ]
     },
     "metadata": {
      "needs_background": "light"
     },
     "output_type": "display_data"
    },
    {
     "name": "stdout",
     "output_type": "stream",
     "text": [
      "Total reward: 0.874\n",
      "Total length: 7\n"
     ]
    },
    {
     "data": {
      "text/html": [
       "<video alt=\"test\" autoplay \n",
       "                loop controls style=\"height: 400px;\">\n",
       "                <source src=\"data:video/mp4;base64,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\" type=\"video/mp4\" />\n",
       "             </video>"
      ],
      "text/plain": [
       "<IPython.core.display.HTML object>"
      ]
     },
     "metadata": {},
     "output_type": "display_data"
    },
    {
     "name": "stdout",
     "output_type": "stream",
     "text": [
      "Total reward: 0.91\n",
      "Total length: 5\n"
     ]
    },
    {
     "data": {
      "text/html": [
       "<video alt=\"test\" autoplay \n",
       "                loop controls style=\"height: 400px;\">\n",
       "                <source src=\"data:video/mp4;base64,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\" type=\"video/mp4\" />\n",
       "             </video>"
      ],
      "text/plain": [
       "<IPython.core.display.HTML object>"
      ]
     },
     "metadata": {},
     "output_type": "display_data"
    },
    {
     "name": "stdout",
     "output_type": "stream",
     "text": [
      "Total reward: 0.874\n",
      "Total length: 7\n"
     ]
    },
    {
     "data": {
      "text/html": [
       "<video alt=\"test\" autoplay \n",
       "                loop controls style=\"height: 400px;\">\n",
       "                <source src=\"data:video/mp4;base64,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\" type=\"video/mp4\" />\n",
       "             </video>"
      ],
      "text/plain": [
       "<IPython.core.display.HTML object>"
      ]
     },
     "metadata": {},
     "output_type": "display_data"
    }
   ],
   "source": [
    "# final reward + policy plotting for easier evaluation\n",
    "plot_learning_curve(rewards, success_rate, params.num_updates)\n",
    "for _ in range(3):\n",
    "    log_policy_rollout(policy, params.env_name, pytorch_policy=True)"
   ]
  },
  {
   "cell_type": "code",
   "execution_count": null,
   "metadata": {},
   "outputs": [],
   "source": []
  }
 ],
 "metadata": {
  "kernelspec": {
   "display_name": "Python 3",
   "language": "python",
   "name": "python3"
  },
  "language_info": {
   "codemirror_mode": {
    "name": "ipython",
    "version": 3
   },
   "file_extension": ".py",
   "mimetype": "text/x-python",
   "name": "python",
   "nbconvert_exporter": "python",
   "pygments_lexer": "ipython3",
   "version": "3.7.6"
  }
 },
 "nbformat": 4,
 "nbformat_minor": 4
}
