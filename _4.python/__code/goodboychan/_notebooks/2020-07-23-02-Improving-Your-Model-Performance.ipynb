{
 "cells": [
  {
   "cell_type": "markdown",
   "metadata": {},
   "source": [
    "# Improving Your Model Performance\n",
    "> In the previous chapters, you've trained a lot of models! You will now learn how to interpret learning curves to understand your models as they train. You will also visualize the effects of activation functions, batch-sizes, and batch-normalization. Finally, you will learn how to perform automatic hyperparameter optimization to your Keras models using sklearn. This is the Summary of lecture \"Introduction to Deep Learning with Keras\", via datacamp.\n",
    "\n",
    "- toc: true \n",
    "- badges: true\n",
    "- comments: true\n",
    "- author: Chanseok Kang\n",
    "- categories: [Python, Datacamp, Tensorflow-Keras, Deep_Learning]\n",
    "- image: images/val_loss.png"
   ]
  },
  {
   "cell_type": "code",
   "execution_count": 1,
   "metadata": {},
   "outputs": [],
   "source": [
    "import tensorflow as tf\n",
    "import numpy as np\n",
    "import pandas as pd\n",
    "import matplotlib.pyplot as plt\n",
    "\n",
    "plt.rcParams['figure.figsize'] = (8, 8)"
   ]
  },
  {
   "cell_type": "markdown",
   "metadata": {},
   "source": [
    "## Learning curves"
   ]
  },
  {
   "cell_type": "markdown",
   "metadata": {},
   "source": [
    "### Learning the digits\n",
    "You're going to build a model on the digits dataset, a sample dataset that comes pre-loaded with scikit learn. The digits dataset consist of 8x8 pixel handwritten digits from 0 to 9:\n",
    "![digits](image/digits_dataset_sample.png)\n",
    "You want to distinguish between each of the 10 possible digits given an image, so we are dealing with multi-class classification.\n",
    "The dataset has already been partitioned into `X_train`, `y_train`, `X_test`, and `y_test`, using 30% of the data as testing data. The labels are already one-hot encoded vectors, so you don't need to use Keras `to_categorical()` function.\n",
    "\n",
    "Let's build this new model!"
   ]
  },
  {
   "cell_type": "code",
   "execution_count": 2,
   "metadata": {},
   "outputs": [],
   "source": [
    "from tensorflow.keras.utils import to_categorical\n",
    "from sklearn.model_selection import train_test_split\n",
    "\n",
    "X = np.load('./dataset/digits_pixels.npy')\n",
    "y = np.load('./dataset/digits_target.npy')\n",
    "\n",
    "y = to_categorical(y)\n",
    "\n",
    "X_train, X_test, y_train, y_test = train_test_split(X, y, test_size=0.3)"
   ]
  },
  {
   "cell_type": "code",
   "execution_count": 3,
   "metadata": {},
   "outputs": [
    {
     "name": "stdout",
     "output_type": "stream",
     "text": [
      "[[3.2095650e-07 1.8086675e-08 5.8638907e-06 ... 6.3938733e-06\n",
      "  6.9842967e-03 2.7885156e-07]\n",
      " [5.7079029e-07 4.0931591e-05 2.3189692e-02 ... 1.0301257e-03\n",
      "  3.9101571e-01 6.1804475e-04]\n",
      " [2.6313660e-06 2.0355757e-02 1.2905787e-05 ... 7.8606681e-04\n",
      "  2.4483080e-03 5.4859847e-04]\n",
      " ...\n",
      " [2.8147338e-06 4.8216735e-03 6.0069469e-06 ... 6.6422946e-03\n",
      "  1.5737003e-03 1.4798595e-04]\n",
      " [3.2802715e-04 1.2217839e-02 1.7282410e-04 ... 3.1691663e-02\n",
      "  6.9211674e-04 3.9870315e-03]\n",
      " [4.8517606e-05 1.6379059e-05 2.5347804e-03 ... 3.9538622e-02\n",
      "  1.1447263e-01 6.7417235e-03]]\n"
     ]
    }
   ],
   "source": [
    "from tensorflow.keras import Sequential\n",
    "from tensorflow.keras.layers import Dense\n",
    "\n",
    "# Initialize a Sequential model\n",
    "model = Sequential()\n",
    "\n",
    "# Input and hidden layer with input_shape, 16 neurons, and relu\n",
    "model.add(Dense(16, input_shape=(64, ), activation='relu'))\n",
    "\n",
    "# Output layer with 10 neurons (one per digit) and softmax\n",
    "model.add(Dense(10, activation='softmax'))\n",
    "\n",
    "# Compile your model\n",
    "model.compile(optimizer='adam', loss='categorical_crossentropy', metrics=['accuracy'])\n",
    "\n",
    "# Test if your model is well assembled by predicting before training\n",
    "print(model.predict(X_train))"
   ]
  },
  {
   "cell_type": "markdown",
   "metadata": {},
   "source": [
    "Predicting on training data inputs before training can help you quickly check that your model works as expected."
   ]
  },
  {
   "cell_type": "markdown",
   "metadata": {},
   "source": [
    "### Is the model overfitting?\n",
    "Let's train the model you just built and plot its learning curve to check out if it's overfitting! "
   ]
  },
  {
   "cell_type": "code",
   "execution_count": 4,
   "metadata": {},
   "outputs": [],
   "source": [
    "def plot_loss(loss,val_loss):\n",
    "    plt.figure();\n",
    "    plt.plot(loss);\n",
    "    plt.plot(val_loss);\n",
    "    plt.title('Model loss');\n",
    "    plt.ylabel('Loss');\n",
    "    plt.xlabel('Epoch');\n",
    "    plt.legend(['Train', 'Test'], loc='upper right');"
   ]
  },
  {
   "cell_type": "code",
   "execution_count": 5,
   "metadata": {},
   "outputs": [
    {
     "data": {
      "image/png": "[encoded data removed]",
      "text/plain": [
       "<Figure size 576x576 with 1 Axes>"
      ]
     },
     "metadata": {
      "needs_background": "light"
     },
     "output_type": "display_data"
    }
   ],
   "source": [
    "# Train your model for 60 epochs, using X_test and y_test as validation data\n",
    "h_callback = model.fit(X_train, y_train, epochs=60, validation_data=(X_test, y_test), verbose=0)\n",
    "\n",
    "# Extract from the h_callback object loss and val_loss to plot the learning curve\n",
    "plot_loss(h_callback.history['loss'], h_callback.history['val_loss'])"
   ]
  },
  {
   "cell_type": "markdown",
   "metadata": {},
   "source": [
    "This graph doesn't show overfitting but convergence. It looks like your model has learned all it could from the data and it no longer improves. The test loss, although higher than the training loss, is not getting worse, so we aren't overfitting to the training data."
   ]
  },
  {
   "cell_type": "markdown",
   "metadata": {},
   "source": [
    "### Do we need more data?\n",
    "It's time to check whether the digits dataset model you built benefits from more training examples!\n",
    "\n",
    "In order to keep code to a minimum, various things are already initialized and ready to use:\n",
    "\n",
    "- The `model` you just built.\n",
    "- `X_train`,`y_train`,`X_test`, and `y_test`.\n",
    "- The `initial_weights` of your model, saved after using `model.get_weights()`.\n",
    "- A pre-defined list of training sizes: `training_sizes`.\n",
    "- A pre-defined early stopping callback monitoring loss: `early_stop`.\n",
    "- Two empty lists to store the evaluation results: `train_accs` and `test_accs`.\n",
    "\n",
    "Train your model on the different training sizes and evaluate the results on `X_test`. End by plotting the results with plot_results()."
   ]
  },
  {
   "cell_type": "code",
   "execution_count": 6,
   "metadata": {},
   "outputs": [],
   "source": [
    "def plot_results(train_accs,test_accs):\n",
    "    plt.plot(training_sizes, train_accs, 'o-', label=\"Training Accuracy\");\n",
    "    plt.plot(training_sizes, test_accs, 'o-', label=\"Test Accuracy\");\n",
    "    plt.title('Accuracy vs Number of training samples');\n",
    "    plt.xlabel('# of training samples');\n",
    "    plt.ylabel('Accuracy');\n",
    "    plt.legend(loc=\"best\");"
   ]
  },
  {
   "cell_type": "code",
   "execution_count": 7,
   "metadata": {},
   "outputs": [],
   "source": [
    "initial_weights = model.get_weights()"
   ]
  },
  {
   "cell_type": "code",
   "execution_count": 8,
   "metadata": {},
   "outputs": [
    {
     "name": "stdout",
     "output_type": "stream",
     "text": [
      "Epoch 1/50\n",
      "4/4 [==============================] - 0s 2ms/step - loss: 0.0757 - accuracy: 0.9840\n",
      "Epoch 2/50\n",
      "4/4 [==============================] - 0s 982us/step - loss: 0.0693 - accuracy: 0.9840\n",
      "Epoch 3/50\n",
      "4/4 [==============================] - 0s 1ms/step - loss: 0.0622 - accuracy: 0.9840\n",
      "Epoch 4/50\n",
      "4/4 [==============================] - 0s 966us/step - loss: 0.0574 - accuracy: 0.9840\n",
      "Epoch 5/50\n",
      "4/4 [==============================] - 0s 899us/step - loss: 0.0533 - accuracy: 0.9840\n",
      "Epoch 6/50\n",
      "4/4 [==============================] - 0s 892us/step - loss: 0.0497 - accuracy: 0.9840\n",
      "Epoch 7/50\n",
      "4/4 [==============================] - 0s 872us/step - loss: 0.0458 - accuracy: 0.9920\n",
      "Epoch 8/50\n",
      "4/4 [==============================] - 0s 1ms/step - loss: 0.0430 - accuracy: 0.9920\n",
      "Epoch 9/50\n",
      "4/4 [==============================] - 0s 902us/step - loss: 0.0395 - accuracy: 1.0000\n",
      "Epoch 10/50\n",
      "4/4 [==============================] - 0s 851us/step - loss: 0.0379 - accuracy: 1.0000\n",
      "Epoch 11/50\n",
      "4/4 [==============================] - 0s 866us/step - loss: 0.0359 - accuracy: 1.0000\n",
      "Epoch 12/50\n",
      "4/4 [==============================] - 0s 1ms/step - loss: 0.0343 - accuracy: 1.0000\n",
      "Epoch 13/50\n",
      "4/4 [==============================] - 0s 1ms/step - loss: 0.0330 - accuracy: 1.0000\n",
      "Epoch 14/50\n",
      "4/4 [==============================] - 0s 891us/step - loss: 0.0316 - accuracy: 1.0000\n",
      "Epoch 15/50\n",
      "4/4 [==============================] - 0s 1ms/step - loss: 0.0301 - accuracy: 1.0000\n",
      "Epoch 16/50\n",
      "4/4 [==============================] - 0s 1ms/step - loss: 0.0289 - accuracy: 1.0000\n",
      "Epoch 17/50\n",
      "4/4 [==============================] - 0s 1ms/step - loss: 0.0275 - accuracy: 1.0000\n",
      "Epoch 18/50\n",
      "4/4 [==============================] - 0s 1ms/step - loss: 0.0268 - accuracy: 1.0000\n",
      "Epoch 19/50\n",
      "4/4 [==============================] - 0s 940us/step - loss: 0.0258 - accuracy: 1.0000\n",
      "Epoch 20/50\n",
      "4/4 [==============================] - 0s 850us/step - loss: 0.0249 - accuracy: 1.0000\n",
      "Epoch 21/50\n",
      "4/4 [==============================] - 0s 1ms/step - loss: 0.0240 - accuracy: 1.0000\n",
      "Epoch 22/50\n",
      "4/4 [==============================] - 0s 927us/step - loss: 0.0234 - accuracy: 1.0000\n",
      "Epoch 23/50\n",
      "4/4 [==============================] - 0s 1ms/step - loss: 0.0227 - accuracy: 1.0000\n",
      "Epoch 24/50\n",
      "4/4 [==============================] - 0s 852us/step - loss: 0.0221 - accuracy: 1.0000\n",
      "Epoch 25/50\n",
      "4/4 [==============================] - 0s 791us/step - loss: 0.0216 - accuracy: 1.0000\n",
      "Epoch 26/50\n",
      "4/4 [==============================] - 0s 1ms/step - loss: 0.0211 - accuracy: 1.0000\n",
      "Epoch 27/50\n",
      "4/4 [==============================] - 0s 859us/step - loss: 0.0205 - accuracy: 1.0000\n",
      "Epoch 28/50\n",
      "4/4 [==============================] - 0s 1ms/step - loss: 0.0201 - accuracy: 1.0000\n",
      "Epoch 29/50\n",
      "4/4 [==============================] - 0s 1ms/step - loss: 0.0196 - accuracy: 1.0000\n",
      "Epoch 30/50\n",
      "4/4 [==============================] - 0s 906us/step - loss: 0.0192 - accuracy: 1.0000\n",
      "Epoch 31/50\n",
      "4/4 [==============================] - 0s 1ms/step - loss: 0.0188 - accuracy: 1.0000\n",
      "Epoch 32/50\n",
      "4/4 [==============================] - 0s 972us/step - loss: 0.0184 - accuracy: 1.0000\n",
      "Epoch 33/50\n",
      "4/4 [==============================] - 0s 935us/step - loss: 0.0180 - accuracy: 1.0000\n",
      "Epoch 34/50\n",
      "4/4 [==============================] - 0s 1ms/step - loss: 0.0177 - accuracy: 1.0000\n",
      "Epoch 35/50\n",
      "4/4 [==============================] - 0s 1ms/step - loss: 0.0172 - accuracy: 1.0000\n",
      "Epoch 36/50\n",
      "4/4 [==============================] - 0s 1ms/step - loss: 0.0170 - accuracy: 1.0000\n",
      "Epoch 37/50\n",
      "4/4 [==============================] - 0s 2ms/step - loss: 0.0167 - accuracy: 1.0000\n",
      "Epoch 38/50\n",
      "4/4 [==============================] - 0s 1ms/step - loss: 0.0163 - accuracy: 1.0000\n",
      "Epoch 39/50\n",
      "4/4 [==============================] - 0s 918us/step - loss: 0.0161 - accuracy: 1.0000\n",
      "Epoch 40/50\n",
      "4/4 [==============================] - 0s 1ms/step - loss: 0.0158 - accuracy: 1.0000\n",
      "Epoch 41/50\n",
      "4/4 [==============================] - 0s 859us/step - loss: 0.0156 - accuracy: 1.0000\n",
      "Epoch 42/50\n",
      "4/4 [==============================] - 0s 957us/step - loss: 0.0153 - accuracy: 1.0000\n",
      "Epoch 43/50\n",
      "4/4 [==============================] - 0s 863us/step - loss: 0.0150 - accuracy: 1.0000\n",
      "Epoch 44/50\n",
      "4/4 [==============================] - 0s 894us/step - loss: 0.0148 - accuracy: 1.0000\n",
      "Epoch 45/50\n",
      "4/4 [==============================] - 0s 970us/step - loss: 0.0146 - accuracy: 1.0000\n",
      "Epoch 46/50\n",
      "4/4 [==============================] - 0s 902us/step - loss: 0.0143 - accuracy: 1.0000\n",
      "Epoch 47/50\n",
      "4/4 [==============================] - 0s 1ms/step - loss: 0.0141 - accuracy: 1.0000\n",
      "Epoch 48/50\n",
      "4/4 [==============================] - 0s 1ms/step - loss: 0.0139 - accuracy: 1.0000\n",
      "Epoch 49/50\n",
      "4/4 [==============================] - 0s 1ms/step - loss: 0.0137 - accuracy: 1.0000\n",
      "Epoch 50/50\n",
      "4/4 [==============================] - 0s 1ms/step - loss: 0.0135 - accuracy: 1.0000\n",
      "4/4 [==============================] - 0s 2ms/step - loss: 0.0133 - accuracy: 1.0000\n",
      "17/17 [==============================] - 0s 1ms/step - loss: 0.2311 - accuracy: 0.9370\n",
      "Epoch 1/50\n",
      "16/16 [==============================] - 0s 1ms/step - loss: 0.0563 - accuracy: 0.9900\n",
      "Epoch 2/50\n",
      "16/16 [==============================] - 0s 1ms/step - loss: 0.0522 - accuracy: 0.9880\n",
      "Epoch 3/50\n",
      "16/16 [==============================] - 0s 1ms/step - loss: 0.0487 - accuracy: 0.9900\n",
      "Epoch 4/50\n",
      "16/16 [==============================] - 0s 1ms/step - loss: 0.0453 - accuracy: 0.9940\n",
      "Epoch 5/50\n",
      "16/16 [==============================] - 0s 1ms/step - loss: 0.0431 - accuracy: 0.9940\n",
      "Epoch 6/50\n",
      "16/16 [==============================] - 0s 1ms/step - loss: 0.0411 - accuracy: 0.9940\n",
      "Epoch 7/50\n",
      "16/16 [==============================] - 0s 1ms/step - loss: 0.0390 - accuracy: 0.9940\n",
      "Epoch 8/50\n",
      "16/16 [==============================] - 0s 999us/step - loss: 0.0379 - accuracy: 0.9940\n",
      "Epoch 9/50\n",
      "16/16 [==============================] - 0s 1ms/step - loss: 0.0358 - accuracy: 0.9940\n",
      "Epoch 10/50\n",
      "16/16 [==============================] - 0s 1ms/step - loss: 0.0345 - accuracy: 0.9940\n",
      "Epoch 11/50\n",
      "16/16 [==============================] - 0s 1ms/step - loss: 0.0334 - accuracy: 0.9960\n",
      "Epoch 12/50\n",
      "16/16 [==============================] - 0s 1ms/step - loss: 0.0321 - accuracy: 0.9960\n",
      "Epoch 13/50\n",
      "16/16 [==============================] - 0s 1ms/step - loss: 0.0308 - accuracy: 0.9960\n",
      "Epoch 14/50\n",
      "16/16 [==============================] - 0s 1ms/step - loss: 0.0303 - accuracy: 0.9960\n",
      "Epoch 15/50\n",
      "16/16 [==============================] - 0s 1ms/step - loss: 0.0292 - accuracy: 0.9960\n",
      "Epoch 16/50\n",
      "16/16 [==============================] - 0s 1ms/step - loss: 0.0281 - accuracy: 0.9960\n",
      "Epoch 17/50\n",
      "16/16 [==============================] - 0s 1ms/step - loss: 0.0270 - accuracy: 0.9960\n",
      "Epoch 18/50\n",
      "16/16 [==============================] - 0s 1ms/step - loss: 0.0257 - accuracy: 0.9960\n",
      "Epoch 19/50\n",
      "16/16 [==============================] - 0s 1ms/step - loss: 0.0254 - accuracy: 0.9960\n",
      "Epoch 20/50\n",
      "16/16 [==============================] - 0s 1ms/step - loss: 0.0244 - accuracy: 0.9980\n",
      "Epoch 21/50\n",
      "16/16 [==============================] - 0s 1ms/step - loss: 0.0237 - accuracy: 1.0000\n",
      "Epoch 22/50\n",
      "16/16 [==============================] - 0s 1ms/step - loss: 0.0232 - accuracy: 0.9980\n",
      "Epoch 23/50\n",
      "16/16 [==============================] - 0s 1ms/step - loss: 0.0223 - accuracy: 1.0000\n",
      "Epoch 24/50\n",
      "16/16 [==============================] - 0s 999us/step - loss: 0.0219 - accuracy: 1.0000\n",
      "Epoch 25/50\n",
      "16/16 [==============================] - 0s 1ms/step - loss: 0.0211 - accuracy: 1.0000\n",
      "Epoch 26/50\n",
      "16/16 [==============================] - 0s 1ms/step - loss: 0.0206 - accuracy: 1.0000\n",
      "Epoch 27/50\n",
      "16/16 [==============================] - 0s 1ms/step - loss: 0.0199 - accuracy: 1.0000\n",
      "Epoch 28/50\n",
      "16/16 [==============================] - 0s 1ms/step - loss: 0.0194 - accuracy: 1.0000\n",
      "Epoch 29/50\n",
      "16/16 [==============================] - 0s 1ms/step - loss: 0.0188 - accuracy: 1.0000\n",
      "Epoch 30/50\n",
      "16/16 [==============================] - 0s 1ms/step - loss: 0.0187 - accuracy: 1.0000\n",
      "Epoch 31/50\n",
      "16/16 [==============================] - 0s 1ms/step - loss: 0.0181 - accuracy: 1.0000\n",
      "Epoch 32/50\n"
     ]
    },
    {
     "name": "stdout",
     "output_type": "stream",
     "text": [
      "16/16 [==============================] - 0s 1ms/step - loss: 0.0175 - accuracy: 1.0000\n",
      "Epoch 33/50\n",
      "16/16 [==============================] - 0s 1ms/step - loss: 0.0166 - accuracy: 1.0000\n",
      "Epoch 34/50\n",
      "16/16 [==============================] - 0s 1ms/step - loss: 0.0163 - accuracy: 1.0000\n",
      "Epoch 35/50\n",
      "16/16 [==============================] - 0s 1ms/step - loss: 0.0157 - accuracy: 1.0000\n",
      "Epoch 36/50\n",
      "16/16 [==============================] - 0s 1ms/step - loss: 0.0153 - accuracy: 1.0000\n",
      "Epoch 37/50\n",
      "16/16 [==============================] - 0s 1ms/step - loss: 0.0148 - accuracy: 1.0000\n",
      "Epoch 38/50\n",
      "16/16 [==============================] - 0s 946us/step - loss: 0.0144 - accuracy: 1.0000\n",
      "Epoch 39/50\n",
      "16/16 [==============================] - 0s 971us/step - loss: 0.0139 - accuracy: 1.0000\n",
      "Epoch 40/50\n",
      "16/16 [==============================] - 0s 953us/step - loss: 0.0137 - accuracy: 1.0000\n",
      "Epoch 41/50\n",
      "16/16 [==============================] - 0s 935us/step - loss: 0.0132 - accuracy: 1.0000\n",
      "Epoch 42/50\n",
      "16/16 [==============================] - 0s 958us/step - loss: 0.0131 - accuracy: 1.0000\n",
      "Epoch 43/50\n",
      "16/16 [==============================] - 0s 999us/step - loss: 0.0127 - accuracy: 1.0000\n",
      "Epoch 44/50\n",
      "16/16 [==============================] - 0s 1ms/step - loss: 0.0124 - accuracy: 1.0000\n",
      "Epoch 45/50\n",
      "16/16 [==============================] - 0s 889us/step - loss: 0.0121 - accuracy: 1.0000\n",
      "Epoch 46/50\n",
      "16/16 [==============================] - 0s 892us/step - loss: 0.0119 - accuracy: 1.0000\n",
      "Epoch 47/50\n",
      "16/16 [==============================] - 0s 1ms/step - loss: 0.0116 - accuracy: 1.0000\n",
      "Epoch 48/50\n",
      "16/16 [==============================] - 0s 1ms/step - loss: 0.0114 - accuracy: 1.0000\n",
      "Epoch 49/50\n",
      "16/16 [==============================] - 0s 994us/step - loss: 0.0111 - accuracy: 1.0000\n",
      "Epoch 50/50\n",
      "16/16 [==============================] - 0s 1ms/step - loss: 0.0109 - accuracy: 1.0000\n",
      "16/16 [==============================] - 0s 922us/step - loss: 0.0105 - accuracy: 1.0000\n",
      "17/17 [==============================] - 0s 847us/step - loss: 0.2073 - accuracy: 0.9407\n",
      "Epoch 1/50\n",
      "28/28 [==============================] - 0s 988us/step - loss: 0.0648 - accuracy: 0.9852\n",
      "Epoch 2/50\n",
      "28/28 [==============================] - 0s 1ms/step - loss: 0.0583 - accuracy: 0.9863\n",
      "Epoch 3/50\n",
      "28/28 [==============================] - 0s 968us/step - loss: 0.0552 - accuracy: 0.9875\n",
      "Epoch 4/50\n",
      "28/28 [==============================] - 0s 948us/step - loss: 0.0520 - accuracy: 0.9863\n",
      "Epoch 5/50\n",
      "28/28 [==============================] - 0s 1ms/step - loss: 0.0477 - accuracy: 0.9875\n",
      "Epoch 6/50\n",
      "28/28 [==============================] - 0s 969us/step - loss: 0.0454 - accuracy: 0.9909\n",
      "Epoch 7/50\n",
      "28/28 [==============================] - 0s 965us/step - loss: 0.0423 - accuracy: 0.9920\n",
      "Epoch 8/50\n",
      "28/28 [==============================] - 0s 1ms/step - loss: 0.0418 - accuracy: 0.9909\n",
      "Epoch 9/50\n",
      "28/28 [==============================] - 0s 1ms/step - loss: 0.0381 - accuracy: 0.9932\n",
      "Epoch 10/50\n",
      "28/28 [==============================] - 0s 974us/step - loss: 0.0365 - accuracy: 0.9898\n",
      "Epoch 11/50\n",
      "28/28 [==============================] - 0s 1ms/step - loss: 0.0346 - accuracy: 0.9920\n",
      "Epoch 12/50\n",
      "28/28 [==============================] - 0s 1ms/step - loss: 0.0329 - accuracy: 0.9909\n",
      "Epoch 13/50\n",
      "28/28 [==============================] - 0s 1ms/step - loss: 0.0308 - accuracy: 0.9943\n",
      "Epoch 14/50\n",
      "28/28 [==============================] - 0s 1ms/step - loss: 0.0303 - accuracy: 0.9932\n",
      "Epoch 15/50\n",
      "28/28 [==============================] - 0s 1ms/step - loss: 0.0278 - accuracy: 0.9954\n",
      "Epoch 16/50\n",
      "28/28 [==============================] - 0s 981us/step - loss: 0.0253 - accuracy: 0.9977\n",
      "Epoch 17/50\n",
      "28/28 [==============================] - 0s 939us/step - loss: 0.0248 - accuracy: 0.9977\n",
      "Epoch 18/50\n",
      "28/28 [==============================] - 0s 978us/step - loss: 0.0246 - accuracy: 0.9966\n",
      "Epoch 19/50\n",
      "28/28 [==============================] - 0s 1ms/step - loss: 0.0231 - accuracy: 0.9977\n",
      "Epoch 20/50\n",
      "28/28 [==============================] - 0s 926us/step - loss: 0.0215 - accuracy: 1.0000\n",
      "Epoch 21/50\n",
      "28/28 [==============================] - 0s 910us/step - loss: 0.0213 - accuracy: 0.9989\n",
      "Epoch 22/50\n",
      "28/28 [==============================] - 0s 919us/step - loss: 0.0198 - accuracy: 1.0000\n",
      "Epoch 23/50\n",
      "28/28 [==============================] - 0s 966us/step - loss: 0.0192 - accuracy: 1.0000\n",
      "Epoch 24/50\n",
      "28/28 [==============================] - 0s 1ms/step - loss: 0.0182 - accuracy: 1.0000\n",
      "Epoch 25/50\n",
      "28/28 [==============================] - 0s 1ms/step - loss: 0.0179 - accuracy: 1.0000\n",
      "Epoch 26/50\n",
      "28/28 [==============================] - 0s 1ms/step - loss: 0.0178 - accuracy: 0.9989\n",
      "Epoch 27/50\n",
      "28/28 [==============================] - 0s 978us/step - loss: 0.0165 - accuracy: 1.0000\n",
      "Epoch 28/50\n",
      "28/28 [==============================] - 0s 1ms/step - loss: 0.0152 - accuracy: 1.0000\n",
      "Epoch 29/50\n",
      "28/28 [==============================] - 0s 1ms/step - loss: 0.0148 - accuracy: 1.0000\n",
      "Epoch 30/50\n",
      "28/28 [==============================] - 0s 934us/step - loss: 0.0142 - accuracy: 1.0000\n",
      "Epoch 31/50\n",
      "28/28 [==============================] - 0s 1000us/step - loss: 0.0135 - accuracy: 1.0000\n",
      "Epoch 32/50\n",
      "28/28 [==============================] - 0s 963us/step - loss: 0.0142 - accuracy: 1.0000\n",
      "28/28 [==============================] - 0s 1ms/step - loss: 0.0122 - accuracy: 1.0000\n",
      "17/17 [==============================] - 0s 964us/step - loss: 0.1877 - accuracy: 0.9519\n",
      "Epoch 1/50\n",
      "40/40 [==============================] - 0s 1ms/step - loss: 0.0609 - accuracy: 0.9865\n",
      "Epoch 2/50\n",
      "40/40 [==============================] - 0s 1ms/step - loss: 0.0608 - accuracy: 0.9849\n",
      "Epoch 3/50\n",
      "40/40 [==============================] - 0s 1ms/step - loss: 0.0541 - accuracy: 0.9873\n",
      "Epoch 4/50\n",
      "40/40 [==============================] - 0s 1ms/step - loss: 0.0540 - accuracy: 0.9888\n",
      "Epoch 5/50\n",
      "40/40 [==============================] - 0s 1ms/step - loss: 0.0475 - accuracy: 0.9920\n",
      "Epoch 6/50\n",
      "40/40 [==============================] - 0s 1ms/step - loss: 0.0425 - accuracy: 0.9928\n",
      "Epoch 7/50\n",
      "40/40 [==============================] - 0s 977us/step - loss: 0.0420 - accuracy: 0.9920\n",
      "Epoch 8/50\n",
      "40/40 [==============================] - 0s 1ms/step - loss: 0.0354 - accuracy: 0.9920\n",
      "Epoch 9/50\n",
      "40/40 [==============================] - 0s 1ms/step - loss: 0.0352 - accuracy: 0.9928\n",
      "Epoch 10/50\n",
      "40/40 [==============================] - 0s 992us/step - loss: 0.0329 - accuracy: 0.9936\n",
      "Epoch 11/50\n",
      "40/40 [==============================] - 0s 953us/step - loss: 0.0310 - accuracy: 0.9952\n",
      "Epoch 12/50\n",
      "40/40 [==============================] - 0s 1ms/step - loss: 0.0288 - accuracy: 0.9952\n",
      "Epoch 13/50\n",
      "40/40 [==============================] - 0s 962us/step - loss: 0.0264 - accuracy: 0.9968\n",
      "Epoch 14/50\n",
      "40/40 [==============================] - 0s 967us/step - loss: 0.0266 - accuracy: 0.9952\n",
      "40/40 [==============================] - 0s 844us/step - loss: 0.0218 - accuracy: 0.9976\n",
      "17/17 [==============================] - 0s 885us/step - loss: 0.1823 - accuracy: 0.9593\n"
     ]
    },
    {
     "data": {
      "image/png": "[encoded data removed]",
      "text/plain": [
       "<Figure size 576x576 with 1 Axes>"
      ]
     },
     "metadata": {
      "needs_background": "light"
     },
     "output_type": "display_data"
    }
   ],
   "source": [
    "from tensorflow.keras.callbacks import EarlyStopping\n",
    "\n",
    "early_stop = EarlyStopping(monitor='loss', patience=1)\n",
    "train_accs, test_accs = [], []\n",
    "training_sizes = [125, 502, 879, 1255]\n",
    "\n",
    "for size in training_sizes:\n",
    "    # Get a fraction of training data (we only care about the training data)\n",
    "    X_train_frac, y_train_frac = X_train[:size], y_train[:size]\n",
    "    \n",
    "    # Reset the model to the initial weights and train it on the new training data fraction\n",
    "    model.set_weights(initial_weights)\n",
    "    model.fit(X_train_frac, y_train_frac, epochs=50, callbacks=[early_stop])\n",
    "    \n",
    "    # Evaluate and store both: the training data fraction and the complete test set results\n",
    "    train_accs.append(model.evaluate(X_train_frac, y_train_frac)[1])\n",
    "    test_accs.append(model.evaluate(X_test, y_test)[1])\n",
    "    \n",
    "# Plot train vs test accuracies\n",
    "plot_results(train_accs, test_accs)"
   ]
  },
  {
   "cell_type": "markdown",
   "metadata": {},
   "source": [
    "## Activation functions\n",
    "![process](image/process.png)"
   ]
  },
  {
   "cell_type": "markdown",
   "metadata": {},
   "source": [
    "### Comparing activation functions\n",
    "Comparing activation functions involves a bit of coding, but nothing you can't do!\n",
    "\n",
    "You will try out different activation functions on the multi-label model you built for your farm irrigation machine in chapter 2. The function `get_model('relu')` returns a copy of this model and applies the `'relu'` activation function to its hidden layer.\n",
    "\n",
    "You will loop through several activation functions, generate a new model for each and train it. By storing the history callback in a dictionary you will be able to visualize which activation function performed best in the next exercise!"
   ]
  },
  {
   "cell_type": "code",
   "execution_count": 9,
   "metadata": {},
   "outputs": [
    {
     "data": {
      "text/html": [
       "<div>\n",
       "<style scoped>\n",
       "    .dataframe tbody tr th:only-of-type {\n",
       "        vertical-align: middle;\n",
       "    }\n",
       "\n",
       "    .dataframe tbody tr th {\n",
       "        vertical-align: top;\n",
       "    }\n",
       "\n",
       "    .dataframe thead th {\n",
       "        text-align: right;\n",
       "    }\n",
       "</style>\n",
       "<table border=\"1\" class=\"dataframe\">\n",
       "  <thead>\n",
       "    <tr style=\"text-align: right;\">\n",
       "      <th></th>\n",
       "      <th>sensor_0</th>\n",
       "      <th>sensor_1</th>\n",
       "      <th>sensor_2</th>\n",
       "      <th>sensor_3</th>\n",
       "      <th>sensor_4</th>\n",
       "      <th>sensor_5</th>\n",
       "      <th>sensor_6</th>\n",
       "      <th>sensor_7</th>\n",
       "      <th>sensor_8</th>\n",
       "      <th>sensor_9</th>\n",
       "      <th>...</th>\n",
       "      <th>sensor_13</th>\n",
       "      <th>sensor_14</th>\n",
       "      <th>sensor_15</th>\n",
       "      <th>sensor_16</th>\n",
       "      <th>sensor_17</th>\n",
       "      <th>sensor_18</th>\n",
       "      <th>sensor_19</th>\n",
       "      <th>parcel_0</th>\n",
       "      <th>parcel_1</th>\n",
       "      <th>parcel_2</th>\n",
       "    </tr>\n",
       "  </thead>\n",
       "  <tbody>\n",
       "    <tr>\n",
       "      <th>0</th>\n",
       "      <td>1.0</td>\n",
       "      <td>2.0</td>\n",
       "      <td>1.0</td>\n",
       "      <td>7.0</td>\n",
       "      <td>0.0</td>\n",
       "      <td>1.0</td>\n",
       "      <td>1.0</td>\n",
       "      <td>4.0</td>\n",
       "      <td>0.0</td>\n",
       "      <td>3.0</td>\n",
       "      <td>...</td>\n",
       "      <td>8.0</td>\n",
       "      <td>1.0</td>\n",
       "      <td>0.0</td>\n",
       "      <td>2.0</td>\n",
       "      <td>1.0</td>\n",
       "      <td>9.0</td>\n",
       "      <td>2.0</td>\n",
       "      <td>0</td>\n",
       "      <td>1</td>\n",
       "      <td>0</td>\n",
       "    </tr>\n",
       "    <tr>\n",
       "      <th>1</th>\n",
       "      <td>5.0</td>\n",
       "      <td>1.0</td>\n",
       "      <td>3.0</td>\n",
       "      <td>5.0</td>\n",
       "      <td>2.0</td>\n",
       "      <td>2.0</td>\n",
       "      <td>1.0</td>\n",
       "      <td>2.0</td>\n",
       "      <td>3.0</td>\n",
       "      <td>1.0</td>\n",
       "      <td>...</td>\n",
       "      <td>4.0</td>\n",
       "      <td>5.0</td>\n",
       "      <td>5.0</td>\n",
       "      <td>2.0</td>\n",
       "      <td>2.0</td>\n",
       "      <td>2.0</td>\n",
       "      <td>7.0</td>\n",
       "      <td>0</td>\n",
       "      <td>0</td>\n",
       "      <td>0</td>\n",
       "    </tr>\n",
       "    <tr>\n",
       "      <th>2</th>\n",
       "      <td>3.0</td>\n",
       "      <td>1.0</td>\n",
       "      <td>4.0</td>\n",
       "      <td>3.0</td>\n",
       "      <td>4.0</td>\n",
       "      <td>0.0</td>\n",
       "      <td>1.0</td>\n",
       "      <td>6.0</td>\n",
       "      <td>0.0</td>\n",
       "      <td>2.0</td>\n",
       "      <td>...</td>\n",
       "      <td>3.0</td>\n",
       "      <td>3.0</td>\n",
       "      <td>1.0</td>\n",
       "      <td>0.0</td>\n",
       "      <td>3.0</td>\n",
       "      <td>1.0</td>\n",
       "      <td>0.0</td>\n",
       "      <td>1</td>\n",
       "      <td>1</td>\n",
       "      <td>0</td>\n",
       "    </tr>\n",
       "    <tr>\n",
       "      <th>3</th>\n",
       "      <td>2.0</td>\n",
       "      <td>2.0</td>\n",
       "      <td>4.0</td>\n",
       "      <td>3.0</td>\n",
       "      <td>5.0</td>\n",
       "      <td>0.0</td>\n",
       "      <td>3.0</td>\n",
       "      <td>2.0</td>\n",
       "      <td>2.0</td>\n",
       "      <td>5.0</td>\n",
       "      <td>...</td>\n",
       "      <td>4.0</td>\n",
       "      <td>1.0</td>\n",
       "      <td>1.0</td>\n",
       "      <td>4.0</td>\n",
       "      <td>1.0</td>\n",
       "      <td>3.0</td>\n",
       "      <td>2.0</td>\n",
       "      <td>0</td>\n",
       "      <td>0</td>\n",
       "      <td>0</td>\n",
       "    </tr>\n",
       "    <tr>\n",
       "      <th>4</th>\n",
       "      <td>4.0</td>\n",
       "      <td>3.0</td>\n",
       "      <td>3.0</td>\n",
       "      <td>2.0</td>\n",
       "      <td>5.0</td>\n",
       "      <td>1.0</td>\n",
       "      <td>3.0</td>\n",
       "      <td>1.0</td>\n",
       "      <td>1.0</td>\n",
       "      <td>2.0</td>\n",
       "      <td>...</td>\n",
       "      <td>1.0</td>\n",
       "      <td>3.0</td>\n",
       "      <td>2.0</td>\n",
       "      <td>2.0</td>\n",
       "      <td>1.0</td>\n",
       "      <td>1.0</td>\n",
       "      <td>0.0</td>\n",
       "      <td>1</td>\n",
       "      <td>1</td>\n",
       "      <td>0</td>\n",
       "    </tr>\n",
       "  </tbody>\n",
       "</table>\n",
       "<p>5 rows × 23 columns</p>\n",
       "</div>"
      ],
      "text/plain": [
       "   sensor_0  sensor_1  sensor_2  sensor_3  sensor_4  sensor_5  sensor_6  \\\n",
       "0       1.0       2.0       1.0       7.0       0.0       1.0       1.0   \n",
       "1       5.0       1.0       3.0       5.0       2.0       2.0       1.0   \n",
       "2       3.0       1.0       4.0       3.0       4.0       0.0       1.0   \n",
       "3       2.0       2.0       4.0       3.0       5.0       0.0       3.0   \n",
       "4       4.0       3.0       3.0       2.0       5.0       1.0       3.0   \n",
       "\n",
       "   sensor_7  sensor_8  sensor_9  ...  sensor_13  sensor_14  sensor_15  \\\n",
       "0       4.0       0.0       3.0  ...        8.0        1.0        0.0   \n",
       "1       2.0       3.0       1.0  ...        4.0        5.0        5.0   \n",
       "2       6.0       0.0       2.0  ...        3.0        3.0        1.0   \n",
       "3       2.0       2.0       5.0  ...        4.0        1.0        1.0   \n",
       "4       1.0       1.0       2.0  ...        1.0        3.0        2.0   \n",
       "\n",
       "   sensor_16  sensor_17  sensor_18  sensor_19  parcel_0  parcel_1  parcel_2  \n",
       "0        2.0        1.0        9.0        2.0         0         1         0  \n",
       "1        2.0        2.0        2.0        7.0         0         0         0  \n",
       "2        0.0        3.0        1.0        0.0         1         1         0  \n",
       "3        4.0        1.0        3.0        2.0         0         0         0  \n",
       "4        2.0        1.0        1.0        0.0         1         1         0  \n",
       "\n",
       "[5 rows x 23 columns]"
      ]
     },
     "execution_count": 9,
     "metadata": {},
     "output_type": "execute_result"
    }
   ],
   "source": [
    "irrigation = pd.read_csv('./dataset/irrigation_machine.csv', index_col=0)\n",
    "irrigation.head()"
   ]
  },
  {
   "cell_type": "code",
   "execution_count": 10,
   "metadata": {},
   "outputs": [],
   "source": [
    "parcels = irrigation[['parcel_0', 'parcel_1', 'parcel_2']].to_numpy()\n",
    "sensors = irrigation.drop(['parcel_0', 'parcel_1', 'parcel_2'], axis=1).to_numpy()\n",
    "\n",
    "X_train, X_test, y_train, y_test = \\\n",
    "    train_test_split(sensors, parcels, test_size=0.3, stratify=parcels)"
   ]
  },
  {
   "cell_type": "code",
   "execution_count": 11,
   "metadata": {},
   "outputs": [],
   "source": [
    "np.random.seed(1)\n",
    "\n",
    "# Return a new model with the given activation\n",
    "def get_model(act_function):\n",
    "    model = Sequential()\n",
    "    if act_function == 'leaky_relu':\n",
    "        model.add(Dense(64, input_shape=(20, ), activation=tf.nn.leaky_relu))\n",
    "    else:\n",
    "        model.add(Dense(64, input_shape=(20, ), activation=act_function))\n",
    "\n",
    "    # Add an output layer of 3 neurons with sigmoid activation\n",
    "    model.add(Dense(3, activation='sigmoid'))\n",
    "    # Compile your model with binary crossentropy loss\n",
    "    model.compile(optimizer='adam',\n",
    "              loss='binary_crossentropy',\n",
    "              metrics=['accuracy'])\n",
    "    return model"
   ]
  },
  {
   "cell_type": "code",
   "execution_count": 12,
   "metadata": {},
   "outputs": [
    {
     "name": "stdout",
     "output_type": "stream",
     "text": [
      "Finishing with relu...\n",
      "Finishing with leaky_relu...\n",
      "Finishing with sigmoid...\n",
      "Finishing with tanh...\n"
     ]
    }
   ],
   "source": [
    "# Activation functions to try\n",
    "activations = ['relu', 'leaky_relu', 'sigmoid', 'tanh']\n",
    "\n",
    "# Loop over the activation functions\n",
    "activation_results = {}\n",
    "\n",
    "for act in activations:\n",
    "    # Get a new model with the current activation\n",
    "    model = get_model(act)\n",
    "    \n",
    "    # Fit the model and store the history results\n",
    "    h_callback = model.fit(X_train, y_train, epochs=100, validation_data=(X_test, y_test), verbose=0)\n",
    "    activation_results[act] = h_callback\n",
    "    print('Finishing with {}...'.format(act))"
   ]
  },
  {
   "cell_type": "markdown",
   "metadata": {},
   "source": [
    "### Comparing activation functions II\n",
    "For every `h_callback` of each activation function in activation_results:\n",
    "\n",
    "- `The h_callback.history['val_loss']` has been extracted.\n",
    "- `The h_callback.history['val_acc']` has been extracted."
   ]
  },
  {
   "cell_type": "code",
   "execution_count": 13,
   "metadata": {},
   "outputs": [],
   "source": [
    "val_loss_per_function = {}\n",
    "val_acc_per_function = {}\n",
    "\n",
    "for k, v in activation_results.items():\n",
    "    val_loss_per_function[k] = v.history['val_loss']\n",
    "    val_acc_per_function[k] = v.history['val_accuracy']"
   ]
  },
  {
   "cell_type": "code",
   "execution_count": 14,
   "metadata": {},
   "outputs": [
    {
     "data": {
      "image/png": "[encoded data removed]",
      "text/plain": [
       "<Figure size 576x576 with 1 Axes>"
      ]
     },
     "metadata": {
      "needs_background": "light"
     },
     "output_type": "display_data"
    },
    {
     "data": {
      "image/png": "[encoded data removed]",
      "text/plain": [
       "<Figure size 576x576 with 1 Axes>"
      ]
     },
     "metadata": {
      "needs_background": "light"
     },
     "output_type": "display_data"
    }
   ],
   "source": [
    "# Create a dataframe from val_loss_per_function\n",
    "val_loss = pd.DataFrame(val_loss_per_function)\n",
    "\n",
    "# Call plot on the dataframe\n",
    "val_loss.plot(title='validation Loss');\n",
    "\n",
    "# Create a dataframe from val_acc_per_function\n",
    "val_acc = pd.DataFrame(val_acc_per_function)\n",
    "\n",
    "# Call plot on the dataframe\n",
    "val_acc.plot(title='validation Accuracy');"
   ]
  },
  {
   "cell_type": "markdown",
   "metadata": {},
   "source": [
    "You've plotted both: loss and accuracy curves. It looks like sigmoid activation worked best for this particular model as the hidden layer's activation function. It led to a model with lower validation loss and higher accuracy after 100 epochs."
   ]
  },
  {
   "cell_type": "markdown",
   "metadata": {},
   "source": [
    "## Batch size and batch normalization\n",
    "- Mini-batches\n",
    "    - Advantages\n",
    "        - Networks train faster (more weight updates in same amount of time)\n",
    "        - Less RAM memory required, can train on huge datasets\n",
    "        - Noise can help networks reach a lower error, escaping local minima\n",
    "    - Disadvantage\n",
    "        - More iterations need to be run\n",
    "        - Need to be adjusted, we need to find a good batch size\n",
    "- Batch Normalization\n",
    "    - Advantages\n",
    "        - Improves gradient flow\n",
    "        - Allows higher learning rates\n",
    "        - Reduces dependence on weight initializations\n",
    "        - Acts as an unintended form of regularization\n",
    "        - Limits inter covariate shift"
   ]
  },
  {
   "cell_type": "markdown",
   "metadata": {},
   "source": [
    "### Changing batch sizes\n",
    "You've seen models are usually trained in batches of a fixed size. The smaller a batch size, the more weight updates per epoch, but at a cost of a more unstable gradient descent. Specially if the batch size is too small and it's not representative of the entire training set.\n",
    "\n",
    "Let's see how different batch sizes affect the accuracy of a simple binary classification model that separates red from blue dots.\n",
    "\n",
    "You'll use a batch size of one, updating the weights once per sample in your training set for each epoch. Then you will use the entire dataset, updating the weights only once per epoch."
   ]
  },
  {
   "cell_type": "code",
   "execution_count": 15,
   "metadata": {},
   "outputs": [
    {
     "data": {
      "text/html": [
       "<div>\n",
       "<style scoped>\n",
       "    .dataframe tbody tr th:only-of-type {\n",
       "        vertical-align: middle;\n",
       "    }\n",
       "\n",
       "    .dataframe tbody tr th {\n",
       "        vertical-align: top;\n",
       "    }\n",
       "\n",
       "    .dataframe thead th {\n",
       "        text-align: right;\n",
       "    }\n",
       "</style>\n",
       "<table border=\"1\" class=\"dataframe\">\n",
       "  <thead>\n",
       "    <tr style=\"text-align: right;\">\n",
       "      <th></th>\n",
       "      <th>0</th>\n",
       "      <th>1</th>\n",
       "      <th>2</th>\n",
       "    </tr>\n",
       "  </thead>\n",
       "  <tbody>\n",
       "    <tr>\n",
       "      <th>0</th>\n",
       "      <td>0.242655</td>\n",
       "      <td>0.038320</td>\n",
       "      <td>1</td>\n",
       "    </tr>\n",
       "    <tr>\n",
       "      <th>1</th>\n",
       "      <td>0.044330</td>\n",
       "      <td>-0.056673</td>\n",
       "      <td>1</td>\n",
       "    </tr>\n",
       "    <tr>\n",
       "      <th>2</th>\n",
       "      <td>-0.786777</td>\n",
       "      <td>-0.757186</td>\n",
       "      <td>0</td>\n",
       "    </tr>\n",
       "    <tr>\n",
       "      <th>3</th>\n",
       "      <td>0.004067</td>\n",
       "      <td>0.131172</td>\n",
       "      <td>1</td>\n",
       "    </tr>\n",
       "    <tr>\n",
       "      <th>4</th>\n",
       "      <td>-0.164107</td>\n",
       "      <td>0.150650</td>\n",
       "      <td>1</td>\n",
       "    </tr>\n",
       "  </tbody>\n",
       "</table>\n",
       "</div>"
      ],
      "text/plain": [
       "          0         1  2\n",
       "0  0.242655  0.038320  1\n",
       "1  0.044330 -0.056673  1\n",
       "2 -0.786777 -0.757186  0\n",
       "3  0.004067  0.131172  1\n",
       "4 -0.164107  0.150650  1"
      ]
     },
     "execution_count": 15,
     "metadata": {},
     "output_type": "execute_result"
    }
   ],
   "source": [
    "dots = pd.read_csv('./dataset/dots.csv')\n",
    "dots.head()"
   ]
  },
  {
   "cell_type": "code",
   "execution_count": 16,
   "metadata": {},
   "outputs": [],
   "source": [
    "X = dots.iloc[:, :-1]\n",
    "y = dots.iloc[:, -1]\n",
    "\n",
    "X_train, X_test, y_train, y_test = train_test_split(X, y, test_size=0.3)"
   ]
  },
  {
   "cell_type": "code",
   "execution_count": 17,
   "metadata": {},
   "outputs": [],
   "source": [
    "def get_model():\n",
    "    model = Sequential()\n",
    "    model.add(Dense(4,input_shape=(2,),activation='relu'))\n",
    "    model.add(Dense(1,activation=\"sigmoid\"))\n",
    "    model.compile('sgd', 'binary_crossentropy', metrics=['accuracy'])\n",
    "    return model"
   ]
  },
  {
   "cell_type": "code",
   "execution_count": 18,
   "metadata": {},
   "outputs": [
    {
     "name": "stdout",
     "output_type": "stream",
     "text": [
      "Epoch 1/5\n",
      "700/700 [==============================] - 1s 908us/step - loss: 0.6371 - accuracy: 0.5986\n",
      "Epoch 2/5\n",
      "700/700 [==============================] - 1s 897us/step - loss: 0.5491 - accuracy: 0.8343\n",
      "Epoch 3/5\n",
      "700/700 [==============================] - 1s 859us/step - loss: 0.4739 - accuracy: 0.8786\n",
      "Epoch 4/5\n",
      "700/700 [==============================] - 1s 854us/step - loss: 0.4095 - accuracy: 0.9014\n",
      "Epoch 5/5\n",
      "700/700 [==============================] - 1s 878us/step - loss: 0.3501 - accuracy: 0.9157\n",
      "10/10 [==============================] - 0s 803us/step - loss: 0.3399 - accuracy: 0.9200\n",
      "\n",
      " The accuracy when using a batch of size 1 is:  0.9200000166893005\n"
     ]
    }
   ],
   "source": [
    "# Get a fresh new model with get_model\n",
    "model = get_model()\n",
    "\n",
    "# Train your model for 5 epochs with a batch size of 1\n",
    "model.fit(X_train, y_train, epochs=5, batch_size=1)\n",
    "print(\"\\n The accuracy when using a batch of size 1 is: \", model.evaluate(X_test, y_test)[1])"
   ]
  },
  {
   "cell_type": "code",
   "execution_count": 19,
   "metadata": {},
   "outputs": [
    {
     "name": "stdout",
     "output_type": "stream",
     "text": [
      "Epoch 1/5\n",
      "1/1 [==============================] - 0s 751us/step - loss: 0.6923 - accuracy: 0.5357\n",
      "Epoch 2/5\n",
      "1/1 [==============================] - 0s 622us/step - loss: 0.6921 - accuracy: 0.5357\n",
      "Epoch 3/5\n",
      "1/1 [==============================] - 0s 519us/step - loss: 0.6919 - accuracy: 0.5357\n",
      "Epoch 4/5\n",
      "1/1 [==============================] - 0s 515us/step - loss: 0.6917 - accuracy: 0.5314\n",
      "Epoch 5/5\n",
      "1/1 [==============================] - 0s 475us/step - loss: 0.6915 - accuracy: 0.5286\n",
      "10/10 [==============================] - 0s 828us/step - loss: 0.6952 - accuracy: 0.4367\n",
      "\n",
      " The accuracy when using the whole training set as batch-size was:  0.43666666746139526\n"
     ]
    }
   ],
   "source": [
    "model = get_model()\n",
    "\n",
    "# Fit your model for 5 epochs with a batch of size the training set\n",
    "model.fit(X_train, y_train, epochs=5, batch_size=X_train.shape[0])\n",
    "print(\"\\n The accuracy when using the whole training set as batch-size was: \",\n",
    "      model.evaluate(X_test, y_test)[1])"
   ]
  },
  {
   "cell_type": "markdown",
   "metadata": {},
   "source": [
    "You can see that accuracy is lower when using a batch size equal to the training set size. This is not because the network had more trouble learning the optimization function: Even though the same number of epochs were used for both batch sizes the number of resulting weight updates was very different!. With a batch of size the training set and 5 epochs we only get 5 updates total, each update computes and averaged gradient descent with all the training set observations. To obtain similar results with this batch size we should increase the number of epochs so that more weight updates take place."
   ]
  },
  {
   "cell_type": "markdown",
   "metadata": {},
   "source": [
    "### Batch normalizing a familiar model\n",
    "Remember the digits dataset you trained in the first exercise of this chapter?\n",
    "\n",
    "![digits](image/digits_dataset_sample.png)\n",
    "\n",
    "A multi-class classification problem that you solved using `softmax` and 10 neurons in your output layer.\n",
    "You will now build a new deeper model consisting of 3 hidden layers of 50 neurons each, using batch normalization in between layers. The `kernel_initializer` parameter is used to initialize weights in a similar way."
   ]
  },
  {
   "cell_type": "code",
   "execution_count": 20,
   "metadata": {},
   "outputs": [],
   "source": [
    "from tensorflow.keras.layers import BatchNormalization\n",
    "\n",
    "# Build your deep network\n",
    "batchnorm_model = Sequential()\n",
    "batchnorm_model.add(Dense(50, input_shape=(64, ), activation='relu', kernel_initializer='normal'))\n",
    "batchnorm_model.add(BatchNormalization())\n",
    "batchnorm_model.add(Dense(50, activation='relu', kernel_initializer='normal'))\n",
    "batchnorm_model.add(BatchNormalization())\n",
    "batchnorm_model.add(Dense(50, activation='relu', kernel_initializer='normal'))\n",
    "batchnorm_model.add(BatchNormalization())\n",
    "batchnorm_model.add(Dense(10, activation='softmax', kernel_initializer='normal'))\n",
    "\n",
    "# Compile your model with sgd\n",
    "batchnorm_model.compile(optimizer='sgd', loss='categorical_crossentropy', metrics=['accuracy'])"
   ]
  },
  {
   "cell_type": "markdown",
   "metadata": {},
   "source": [
    "### Batch normalization effects\n",
    "Batch normalization tends to increase the learning speed of our models and make their learning curves more stable. Let's see how two identical models with and without batch normalization compare.\n",
    "\n",
    "The model you just built `batchnorm_model` is loaded for you to use. An exact copy of it without batch normalization: `standard_model`, is available as well.\n",
    "\n",
    "You will compare the accuracy learning curves for both models plotting them with compare_histories_acc()."
   ]
  },
  {
   "cell_type": "code",
   "execution_count": 21,
   "metadata": {},
   "outputs": [],
   "source": [
    "def compare_histories_acc(h1,h2):\n",
    "    plt.plot(h1.history['accuracy']);\n",
    "    plt.plot(h1.history['val_accuracy']);\n",
    "    plt.plot(h2.history['accuracy']);\n",
    "    plt.plot(h2.history['val_accuracy']);\n",
    "    plt.title(\"Batch Normalization Effects\");\n",
    "    plt.xlabel('Epoch');\n",
    "    plt.ylabel('Accuracy');\n",
    "    plt.legend(['Train', 'Test', 'Train with Batch Normalization', 'Test with Batch Normalization'], loc='best');"
   ]
  },
  {
   "cell_type": "code",
   "execution_count": 22,
   "metadata": {},
   "outputs": [],
   "source": [
    "X = np.load('./dataset/digits_pixels.npy')\n",
    "y = np.load('./dataset/digits_target.npy')\n",
    "\n",
    "y = to_categorical(y)\n",
    "\n",
    "X_train, X_test, y_train, y_test = train_test_split(X, y, test_size=0.3)"
   ]
  },
  {
   "cell_type": "code",
   "execution_count": 23,
   "metadata": {},
   "outputs": [],
   "source": [
    "# Build your deep network\n",
    "standard_model = Sequential()\n",
    "standard_model.add(Dense(50, input_shape=(64, ), activation='relu', kernel_initializer='normal'))\n",
    "standard_model.add(Dense(50, activation='relu', kernel_initializer='normal'))\n",
    "standard_model.add(Dense(50, activation='relu', kernel_initializer='normal'))\n",
    "standard_model.add(Dense(10, activation='softmax', kernel_initializer='normal'))\n",
    "\n",
    "# Compile your model with sgd\n",
    "standard_model.compile(optimizer='sgd', loss='categorical_crossentropy', metrics=['accuracy'])"
   ]
  },
  {
   "cell_type": "code",
   "execution_count": 24,
   "metadata": {},
   "outputs": [
    {
     "data": {
      "image/png": "[encoded data removed]",
      "text/plain": [
       "<Figure size 576x576 with 1 Axes>"
      ]
     },
     "metadata": {
      "needs_background": "light"
     },
     "output_type": "display_data"
    }
   ],
   "source": [
    "# Train your standard model, storing its history callback\n",
    "h1_callback = standard_model.fit(X_train, y_train, validation_data=(X_test, y_test), epochs=10, verbose=0)\n",
    "\n",
    "# Train the batch normalized model you recently built, store its history callback\n",
    "h2_callback = batchnorm_model.fit(X_train, y_train, validation_data=(X_test, y_test), epochs=10, verbose=0)\n",
    "\n",
    "# Call compare_histories_acc passing in both model histories\n",
    "compare_histories_acc(h1_callback, h2_callback)"
   ]
  },
  {
   "cell_type": "markdown",
   "metadata": {},
   "source": [
    "You can see that for this deep model batch normalization proved to be useful, helping the model obtain high accuracy values just over the first 10 training epochs."
   ]
  },
  {
   "cell_type": "markdown",
   "metadata": {},
   "source": [
    "## Hyperparameter tuning\n",
    "- Neural network hyperparameters\n",
    "    - Number of layers\n",
    "    - Number of neurons per layer\n",
    "    - Layer order\n",
    "    - Layer activations\n",
    "    - Batch sizes\n",
    "    - Learning rates\n",
    "    - Optimizers\n",
    "    - ...\n",
    "- Tips for neural networks hyperparameter tuning\n",
    "    - Random search is preferred over grid search\n",
    "    - Don't use many epochs\n",
    "    - Use a smaller sample of your dataset\n",
    "    - Play with batch sizes, activations, optimizers and learning rates"
   ]
  },
  {
   "cell_type": "markdown",
   "metadata": {},
   "source": [
    "### Preparing a model for tuning\n",
    "Let's tune the hyperparameters of a binary classification model that does well classifying the breast cancer dataset.\n",
    "\n",
    "You've seen that the first step to turn a model into a sklearn estimator is to build a function that creates it. The definition of this function is important since hyperparameter tuning is carried out by varying the arguments your function receives.\n",
    "\n",
    "Build a simple `create_model()` function that receives both a learning rate and an activation function as arguments.\n",
    "\n"
   ]
  },
  {
   "cell_type": "code",
   "execution_count": 30,
   "metadata": {},
   "outputs": [],
   "source": [
    "# Creates a model given an activation and learning rate\n",
    "def create_model(learning_rate=0.01, activation='relu'):\n",
    "    # Create an Adam optimizer with the given learning rate\n",
    "    opt = tf.keras.optimizers.Adam(lr=learning_rate)\n",
    "    \n",
    "    # Create your binary classification model\n",
    "    model = Sequential()\n",
    "    model.add(Dense(128, input_shape=(30, ), activation=activation))\n",
    "    model.add(Dense(256, activation=activation))\n",
    "    model.add(Dense(1, activation='sigmoid'))\n",
    "    \n",
    "    # Compile your model with your optimizer, loss and metrics\n",
    "    model.compile(optimizer=opt, loss='binary_crossentropy', metrics=['accuracy'])\n",
    "    return model"
   ]
  },
  {
   "cell_type": "markdown",
   "metadata": {},
   "source": [
    "### Tuning the model parameters\n",
    "It's time to try out different parameters on your model and see how well it performs!\n",
    "\n",
    "The `create_model()` function you built in the previous exercise is ready for you to use.\n",
    "\n",
    "Since fitting the `RandomizedSearchCV` object would take too long, the results you'd get are printed in the `show_results()` function. You could try `random_search.fit(X,y)` in the console yourself to check it does work after you have built everything else, but you will probably timeout the exercise (so copy your code first if you try this or you can lose your progress!).\n",
    "\n",
    "You don't need to use the optional `epochs` and `batch_size` parameters when building your `KerasClassifier` object since you are passing them as params to the random search and this works already."
   ]
  },
  {
   "cell_type": "code",
   "execution_count": 26,
   "metadata": {},
   "outputs": [],
   "source": [
    "from sklearn.datasets import load_breast_cancer\n",
    "\n",
    "X, y = load_breast_cancer(return_X_y=True)"
   ]
  },
  {
   "cell_type": "code",
   "execution_count": 27,
   "metadata": {},
   "outputs": [
    {
     "name": "stdout",
     "output_type": "stream",
     "text": [
      "6/6 [==============================] - 0s 836us/step - loss: 0.2679 - accuracy: 0.8579\n",
      "6/6 [==============================] - 0s 978us/step - loss: 0.2163 - accuracy: 0.9000\n",
      "6/6 [==============================] - 0s 876us/step - loss: 0.4303 - accuracy: 0.8042\n",
      "2/2 [==============================] - 0s 893us/step - loss: 0.8017 - accuracy: 0.4895\n",
      "2/2 [==============================] - 0s 920us/step - loss: 0.8923 - accuracy: 0.6211\n",
      "2/2 [==============================] - 0s 840us/step - loss: 0.6281 - accuracy: 0.7725\n",
      "6/6 [==============================] - 0s 972us/step - loss: 0.7374 - accuracy: 0.5105\n",
      "6/6 [==============================] - 0s 988us/step - loss: 0.7063 - accuracy: 0.3789\n",
      "6/6 [==============================] - 0s 1ms/step - loss: 0.5781 - accuracy: 0.7725\n",
      "1/1 [==============================] - 0s 643us/step - loss: 0.6987 - accuracy: 0.5105\n",
      "1/1 [==============================] - 0s 604us/step - loss: 0.9258 - accuracy: 0.3789\n",
      "1/1 [==============================] - 0s 756us/step - loss: 0.6346 - accuracy: 0.7725\n",
      "6/6 [==============================] - 0s 863us/step - loss: 0.6929 - accuracy: 0.5105\n",
      "6/6 [==============================] - 0s 992us/step - loss: 1.3970 - accuracy: 0.3789\n",
      "6/6 [==============================] - 0s 822us/step - loss: 0.7859 - accuracy: 0.2275\n",
      "2/2 [==============================] - 0s 1ms/step - loss: 0.3839 - accuracy: 0.8842\n",
      "2/2 [==============================] - 0s 886us/step - loss: 0.2792 - accuracy: 0.9053\n",
      "2/2 [==============================] - 0s 845us/step - loss: 0.3960 - accuracy: 0.8519\n",
      "1/1 [==============================] - 0s 628us/step - loss: 0.2547 - accuracy: 0.8947\n",
      "1/1 [==============================] - 0s 752us/step - loss: 0.2135 - accuracy: 0.9105\n",
      "1/1 [==============================] - 0s 623us/step - loss: 0.2748 - accuracy: 0.9101\n",
      "6/6 [==============================] - 0s 871us/step - loss: 0.8303 - accuracy: 0.4895\n",
      "6/6 [==============================] - 0s 852us/step - loss: 0.3743 - accuracy: 0.8947\n",
      "6/6 [==============================] - 0s 872us/step - loss: 0.5416 - accuracy: 0.7725\n",
      "2/2 [==============================] - 0s 891us/step - loss: 0.7883 - accuracy: 0.4895\n",
      "2/2 [==============================] - 0s 866us/step - loss: 0.6587 - accuracy: 0.6263\n",
      "2/2 [==============================] - 0s 964us/step - loss: 0.6417 - accuracy: 0.7725\n",
      "2/2 [==============================] - 0s 805us/step - loss: 0.3068 - accuracy: 0.8895\n",
      "2/2 [==============================] - 0s 942us/step - loss: 0.6565 - accuracy: 0.3789\n",
      "2/2 [==============================] - 0s 854us/step - loss: 0.2880 - accuracy: 0.9206\n",
      "Best: 0.9051053524017334 using {'learning_rate': 0.01, 'epochs': 50, 'batch_size': 256, 'activation': 'relu'}\n"
     ]
    }
   ],
   "source": [
    "from tensorflow.keras.wrappers.scikit_learn import KerasClassifier\n",
    "from sklearn.model_selection import RandomizedSearchCV\n",
    "from sklearn.model_selection import KFold\n",
    "\n",
    "# Create a KerasClassifier\n",
    "model = KerasClassifier(build_fn=create_model)\n",
    "\n",
    "# Define the parameters to try out\n",
    "params = {\n",
    "    'activation': ['relu', 'tanh'],\n",
    "    'batch_size': [32, 128, 256],\n",
    "    'epochs': [50, 100, 200],\n",
    "    'learning_rate': [0.1, 0.01, 0.001]\n",
    "}\n",
    "\n",
    "# Create a randomize search cv object passing in the parameters to try out\n",
    "random_search = RandomizedSearchCV(model, param_distributions=params, cv=KFold(3))\n",
    "random_search_results = random_search.fit(X, y, verbose=0)\n",
    "\n",
    "# Print results\n",
    "print(\"Best: {} using {}\".format(random_search_results.best_score_,\n",
    "                                 random_search_results.best_params_))"
   ]
  },
  {
   "cell_type": "markdown",
   "metadata": {},
   "source": [
    "### Training with cross-validation\n",
    "Time to train your model with the best parameters found: 0.01 for the learning rate, 100 epochs, a 128 batch_size and `relu` activations.\n",
    "\n",
    "The `create_model()` function from the previous exercise is ready for you to use. `X` and `y` are loaded as features and labels.\n",
    "\n",
    "Use the best values found for your model when creating your `KerasClassifier` object so that they are used when performing cross_validation.\n",
    "\n",
    "End this chapter by training an awesome tuned model on the breast cancer dataset!"
   ]
  },
  {
   "cell_type": "code",
   "execution_count": 31,
   "metadata": {},
   "outputs": [
    {
     "name": "stdout",
     "output_type": "stream",
     "text": [
      "The mean accuracy was:  0.9261858264605204\n",
      "With a standard deviation of:  0.00430127209155373\n"
     ]
    }
   ],
   "source": [
    "from sklearn.model_selection import cross_val_score\n",
    "\n",
    "# Create a KerasClassifier\n",
    "model = KerasClassifier(build_fn=create_model, \n",
    "                        epochs=100, batch_size=128, verbose=0)\n",
    "\n",
    "# Calculate the accuracy score for each fold\n",
    "kfolds = cross_val_score(model, X, y, cv=3)\n",
    "\n",
    "# Print the mean accuracy\n",
    "print('The mean accuracy was: ', kfolds.mean())\n",
    "\n",
    "# Print the accuracy standard deviation\n",
    "print('With a standard deviation of: ', kfolds.std())"
   ]
  }
 ],
 "metadata": {
  "kernelspec": {
   "display_name": "Python 3",
   "language": "python",
   "name": "python3"
  },
  "language_info": {
   "codemirror_mode": {
    "name": "ipython",
    "version": 3
   },
   "file_extension": ".py",
   "mimetype": "text/x-python",
   "name": "python",
   "nbconvert_exporter": "python",
   "pygments_lexer": "ipython3",
   "version": "3.7.6"
  }
 },
 "nbformat": 4,
 "nbformat_minor": 4
}
