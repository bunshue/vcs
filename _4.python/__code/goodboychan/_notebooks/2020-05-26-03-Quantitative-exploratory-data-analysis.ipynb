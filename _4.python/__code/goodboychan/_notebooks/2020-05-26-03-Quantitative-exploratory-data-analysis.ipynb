{
 "cells": [
  {
   "cell_type": "markdown",
   "metadata": {},
   "source": [
    "# Quantitative exploratory data analysis\n",
    "> A Summary of lecture \"Statistical Thinking in Python (Part 1)\", via datacamp\n",
    "\n",
    "- toc: true \n",
    "- badges: true\n",
    "- comments: true\n",
    "- author: Chanseok Kang\n",
    "- categories: [Python, Datacamp, Data_Science, Statistics]\n",
    "- image: images/petal-ecdf.png"
   ]
  },
  {
   "cell_type": "code",
   "execution_count": 1,
   "metadata": {},
   "outputs": [],
   "source": [
    "import pandas as pd\n",
    "import numpy as np\n",
    "import matplotlib.pyplot as plt\n",
    "import seaborn as sns\n",
    "\n",
    "sns.set()\n",
    "\n",
    "df = pd.read_csv('./dataset/iris.csv')\n",
    "renamed_columns = ['sepal length (cm)', 'sepal width (cm)', \n",
    "                   'petal length (cm)', 'petal width (cm)', 'species']\n",
    "df.columns = renamed_columns\n",
    "versicolor_petal_length = df[df['species'] == 'Versicolor']['petal length (cm)']\n",
    "setosa_petal_length = df[df['species'] == 'Setosa']['petal length (cm)']\n",
    "virginica_petal_length = df[df['species'] == 'Virginica']['petal length (cm)']\n",
    "versicolor_petal_width = df[df['species'] == 'Versicolor']['petal width (cm)']"
   ]
  },
  {
   "cell_type": "markdown",
   "metadata": {},
   "source": [
    "## Introduction to summary statistics: The sample mean and median\n"
   ]
  },
  {
   "cell_type": "markdown",
   "metadata": {},
   "source": [
    "### Computing means\n",
    "The mean of all measurements gives an indication of the typical magnitude of a measurement. It is computed using ```np.mean()```."
   ]
  },
  {
   "cell_type": "code",
   "execution_count": 2,
   "metadata": {},
   "outputs": [
    {
     "name": "stdout",
     "output_type": "stream",
     "text": [
      "I. versicolor: 4.26 cm\n"
     ]
    }
   ],
   "source": [
    "# compute the mean: mean_length_vers\n",
    "mean_length_vers = np.mean(versicolor_petal_length)\n",
    "\n",
    "# Print the result with some nice formatting\n",
    "print('I. versicolor:', mean_length_vers, 'cm')"
   ]
  },
  {
   "cell_type": "markdown",
   "metadata": {},
   "source": [
    "## Percentiles, outliers, and box plots\n"
   ]
  },
  {
   "cell_type": "markdown",
   "metadata": {},
   "source": [
    "### Compute percentiles\n",
    "In this exercise, you will compute the percentiles of petal length of Iris versicolor.\n",
    "\n"
   ]
  },
  {
   "cell_type": "code",
   "execution_count": 3,
   "metadata": {},
   "outputs": [
    {
     "name": "stdout",
     "output_type": "stream",
     "text": [
      "[3.3    4.     4.35   4.6    4.9775]\n"
     ]
    }
   ],
   "source": [
    "# Specify array of percentiles: percentiles\n",
    "percentiles = np.array([2.5, 25, 50, 75, 97.5])\n",
    "\n",
    "# Compute percentiles: ptiles_vers\n",
    "ptiles_vers = np.percentile(versicolor_petal_length, percentiles)\n",
    "\n",
    "# Print the result\n",
    "print(ptiles_vers)"
   ]
  },
  {
   "cell_type": "markdown",
   "metadata": {},
   "source": [
    "### Comparing percentiles to ECDF\n",
    "To see how the percentiles relate to the ECDF, you will plot the percentiles of Iris versicolor petal lengths you calculated in the last exercise on the ECDF plot you generated in chapter 1. \n",
    "\n",
    " Note that to ensure the Y-axis of the ECDF plot remains between 0 and 1, you will need to rescale the percentiles array accordingly - in this case, dividing it by 100."
   ]
  },
  {
   "cell_type": "code",
   "execution_count": 4,
   "metadata": {},
   "outputs": [],
   "source": [
    "def ecdf(data):\n",
    "    \"\"\"Compute ECDF for a one-dimensional array of measurements.\"\"\"\n",
    "    # Number of data points: n\n",
    "    n = len(data)\n",
    "\n",
    "    # x-data for the ECDF: x\n",
    "    x = np.sort(data)\n",
    "\n",
    "    # y-data for the ECDF: y\n",
    "    y = np.arange(1, n + 1) / n\n",
    "\n",
    "    return x, y"
   ]
  },
  {
   "cell_type": "code",
   "execution_count": 5,
   "metadata": {},
   "outputs": [],
   "source": [
    "x_vers, y_vers = ecdf(versicolor_petal_length)"
   ]
  },
  {
   "cell_type": "code",
   "execution_count": 6,
   "metadata": {},
   "outputs": [
    {
     "data": {
      "image/png": "[encoded data removed]",
      "text/plain": [
       "<Figure size 432x288 with 1 Axes>"
      ]
     },
     "metadata": {},
     "output_type": "display_data"
    }
   ],
   "source": [
    "# Plot the ECDF\n",
    "_ = plt.plot(x_vers, y_vers, '.')\n",
    "_ = plt.xlabel('petal length (cm)')\n",
    "_ = plt.ylabel('ECDF')\n",
    "\n",
    "# Overlay percentiles as red diamonds\n",
    "_ = plt.plot(ptiles_vers, percentiles/100, marker='D', color='red', linestyle='none')\n",
    "plt.savefig('../images/petal-ecdf.png')"
   ]
  },
  {
   "cell_type": "markdown",
   "metadata": {},
   "source": [
    "### Box-and-whisker plot\n",
    "Making a box plot for the petal lengths is unnecessary because the iris data set is not too large and the bee swarm plot works fine. However, it is always good to get some practice. Make a box plot of the iris petal lengths. You have a pandas DataFrame, df, which contains the petal length data, in your namespace. Inspect the data frame df in the IPython shell using ```df.head()``` to make sure you know what the pertinent columns are.\n",
    "\n",
    "For your reference, the code used to produce the box plot in the video is provided below:\n",
    "```python\n",
    "_ = sns.boxplot(x='east_west', y='dem_share', data=df_all_states)\n",
    "_ = plt.xlabel('region')\n",
    "_ = plt.ylabel('percent of vote for Obama')\n",
    "```\n",
    "In the IPython Shell, you can use ```sns.boxplot?``` or ```help(sns.boxplot)``` for more details on how to make box plots using seaborn."
   ]
  },
  {
   "cell_type": "code",
   "execution_count": 14,
   "metadata": {},
   "outputs": [
    {
     "data": {
      "image/png": "[encoded data removed]",
      "text/plain": [
       "<Figure size 432x288 with 1 Axes>"
      ]
     },
     "metadata": {},
     "output_type": "display_data"
    }
   ],
   "source": [
    "# Create box plot with Seaborn`s default settings\n",
    "_ = sns.boxplot(x='species', y='petal length (cm)', data=df)\n",
    "\n",
    "# Label the axes\n",
    "_ = plt.xlabel('species')\n",
    "_ = plt.ylabel('petal length (cm)')"
   ]
  },
  {
   "cell_type": "markdown",
   "metadata": {},
   "source": [
    "## Variance and standard deviation"
   ]
  },
  {
   "cell_type": "markdown",
   "metadata": {},
   "source": [
    "$$ variance = \\dfrac{1}{n}\\sum^{n}_{i=1}(x_i - \\bar{x})^2 $$"
   ]
  },
  {
   "cell_type": "markdown",
   "metadata": {},
   "source": [
    "### Computing the variance\n",
    "It is important to have some understanding of what commonly-used functions are doing under the hood. Though you may already know how to compute variances, this is a beginner course that does not assume so. In this exercise, we will explicitly compute the variance of the petal length of Iris veriscolor using the equations discussed in the videos. We will then use ```np.var()``` to compute it."
   ]
  },
  {
   "cell_type": "code",
   "execution_count": 16,
   "metadata": {},
   "outputs": [
    {
     "name": "stdout",
     "output_type": "stream",
     "text": [
      "0.21640000000000004 0.21640000000000004\n"
     ]
    }
   ],
   "source": [
    "# Array of differnces to mean: differences\n",
    "differences = np.array(versicolor_petal_length - np.mean(versicolor_petal_length))\n",
    "\n",
    "# Square the differences: diff_sq\n",
    "diff_sq = differences ** 2\n",
    "\n",
    "# Compute the mean square differences: variance_explicit\n",
    "variance_explicit = np.mean(diff_sq)\n",
    "\n",
    "# Compute the variance using NumPy: variance_np\n",
    "variance_np = np.var(differences)\n",
    "\n",
    "# Print the results\n",
    "print(variance_explicit, variance_np)"
   ]
  },
  {
   "cell_type": "markdown",
   "metadata": {},
   "source": [
    "### The standard deviation and the variance\n",
    "As mentioned in the video, the standard deviation is the square root of the variance. You will see this for yourself by computing the standard deviation using ```np.std()``` and comparing it to what you get by computing the variance with ```np.var()``` and then computing the square root."
   ]
  },
  {
   "cell_type": "code",
   "execution_count": 17,
   "metadata": {},
   "outputs": [
    {
     "name": "stdout",
     "output_type": "stream",
     "text": [
      "0.4651881339845204\n",
      "0.4651881339845204\n"
     ]
    }
   ],
   "source": [
    "# Compute the variance: variance\n",
    "variance = np.var(versicolor_petal_length)\n",
    "\n",
    "# Print the square root of the variance\n",
    "print(np.sqrt(variance))\n",
    "\n",
    "# Print the standard deviation\n",
    "print(np.std(versicolor_petal_length))"
   ]
  },
  {
   "cell_type": "markdown",
   "metadata": {},
   "source": [
    "## Covariance and the Pearson correlation coefficient\n"
   ]
  },
  {
   "cell_type": "markdown",
   "metadata": {},
   "source": [
    "$$ covariance = \\dfrac{1}{n}\\sum^{n}_{i=1}(x_i - \\bar{x})(y_i - \\bar{y})$$\n",
    "$$ \\begin{align} \\rho &= \\text{Pearson correlation} = \\dfrac{\\text{covariance}}{(\\text{std of x})(\\text{std of y})} \\\\ &= \\dfrac{\\text{variability due to codependence}}{\\text{independent variability}} \\end{align}$$"
   ]
  },
  {
   "cell_type": "markdown",
   "metadata": {},
   "source": [
    "### Scatter plots\n",
    "When you made bee swarm plots, box plots, and ECDF plots in previous exercises, you compared the petal lengths of different species of iris. But what if you want to compare two properties of a single species? This is exactly what we will do in this exercise. We will make a scatter plot of the petal length and width measurements of Anderson's Iris versicolor flowers. If the flower scales (that is, it preserves its proportion as it grows), we would expect the length and width to be correlated.\n",
    "\n",
    "For your reference, the code used to produce the scatter plot in the video is provided below:\n",
    "```python\n",
    "_ = plt.plot(total_votes/1000, dem_share, marker='.', linestyle='none')\n",
    "_ = plt.xlabel('total votes (thousands)')\n",
    "_ = plt.ylabel('percent of vote for Obama')\n",
    "```"
   ]
  },
  {
   "cell_type": "code",
   "execution_count": 20,
   "metadata": {},
   "outputs": [
    {
     "data": {
      "image/png": "[encoded data removed]",
      "text/plain": [
       "<Figure size 432x288 with 1 Axes>"
      ]
     },
     "metadata": {},
     "output_type": "display_data"
    }
   ],
   "source": [
    "# Make a scatter plot\n",
    "_ = plt.plot(versicolor_petal_length, versicolor_petal_width, marker='.', linestyle='none')\n",
    "\n",
    "# Label the axes\n",
    "_ = plt.xlabel('petal length')\n",
    "_ = plt.ylabel('petal width')"
   ]
  },
  {
   "cell_type": "markdown",
   "metadata": {},
   "source": [
    "### Computing the covariance\n",
    "The covariance may be computed using the Numpy function ```np.cov()```. For example, we have two sets of data ```x``` and ```y```, ```np.cov(x, y)``` returns a 2D array where entries ```[0,1]``` and ```[1,0]``` are the covariances. Entry ```[0,0]``` is the variance of the data in x, and entry ```[1,1]``` is the variance of the data in y. This 2D output array is called the covariance matrix, since it organizes the self- and covariance."
   ]
  },
  {
   "cell_type": "code",
   "execution_count": 21,
   "metadata": {},
   "outputs": [
    {
     "name": "stdout",
     "output_type": "stream",
     "text": [
      "[[0.22081633 0.07310204]\n",
      " [0.07310204 0.03910612]]\n",
      "0.07310204081632653\n"
     ]
    }
   ],
   "source": [
    "# Compute the covariance matrix: covariance_matrix\n",
    "covariance_matrix = np.cov(versicolor_petal_length, versicolor_petal_width)\n",
    "\n",
    "# Print covariance matrix\n",
    "print(covariance_matrix)\n",
    "\n",
    "# Extract covariance of length and width of petals: petal_cov\n",
    "petal_cov = covariance_matrix[0, 1]\n",
    "\n",
    "# Print the length/width covariance\n",
    "print(petal_cov)\n"
   ]
  },
  {
   "cell_type": "markdown",
   "metadata": {},
   "source": [
    "### Computing the Pearson correlation coefficient\n",
    "In this exercise, you will write a function, ```pearson_r(x, y)``` that takes in two arrays and returns the Pearson correlation coefficient. You will then use this function to compute it for the petal lengths and widths of I. versicolor."
   ]
  },
  {
   "cell_type": "code",
   "execution_count": 23,
   "metadata": {},
   "outputs": [
    {
     "name": "stdout",
     "output_type": "stream",
     "text": [
      "0.7866680885228169\n"
     ]
    }
   ],
   "source": [
    "def pearson_r(x, y):\n",
    "    \"\"\"Compute Pearson correlation coefficient between two arrays\n",
    "    \n",
    "    Args:\n",
    "        x: arrays\n",
    "        y: arrays\n",
    "        \n",
    "    returns:\n",
    "        r: int\n",
    "    \"\"\"\n",
    "    # Compute correlation matrix: corr_mat\n",
    "    corr_mat = np.corrcoef(x, y)\n",
    "    \n",
    "    # Return entry[0, 1]\n",
    "    return corr_mat[0, 1]\n",
    "\n",
    "# Compute Pearson correlation coefficient for I. versicolor: r\n",
    "r = pearson_r(versicolor_petal_length, versicolor_petal_width)\n",
    "\n",
    "# Print the result\n",
    "print(r)"
   ]
  }
 ],
 "metadata": {
  "kernelspec": {
   "display_name": "Python 3",
   "language": "python",
   "name": "python3"
  },
  "language_info": {
   "codemirror_mode": {
    "name": "ipython",
    "version": 3
   },
   "file_extension": ".py",
   "mimetype": "text/x-python",
   "name": "python",
   "nbconvert_exporter": "python",
   "pygments_lexer": "ipython3",
   "version": "3.7.6"
  }
 },
 "nbformat": 4,
 "nbformat_minor": 4
}
