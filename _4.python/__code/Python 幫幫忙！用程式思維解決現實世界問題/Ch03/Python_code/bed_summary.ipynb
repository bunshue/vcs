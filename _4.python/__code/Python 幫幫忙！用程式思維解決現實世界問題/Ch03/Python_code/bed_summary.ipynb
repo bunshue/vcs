{
 "cells": [
  {
   "cell_type": "code",
   "execution_count": 2,
   "id": "8fa43542",
   "metadata": {},
   "outputs": [
    {
     "name": "stdout",
     "output_type": "stream",
     "text": [
      "\n",
      "Summary of Make Your Bed speech:\n",
      "If you want to change the world don't ever, ever ring the bell. “What starts here changes the world.” Tonight there are almost 8,000 students graduating from UT. If you want to change the world, start off by making your bed. Moments away from starting to change the world — for the better. Every day during training you were challenged with multiple physical events — long runs, long swims, obstacle courses, hours of calisthenics — something designed to test your mettle. So, if you want to change the world, start singing when you're up to your neck in mud. Basic SEAL training is six months of long torturous runs in the soft sand, midnight swims in the cold water off San Diego, obstacles courses, unending calisthenics, days without sleep and always being cold, wet and miserable. During SEAL training the students are broken down into boat crews. Every morning in basic SEAL training, my instructors, who at the time were all Vietnam veterans, would show up in my barracks room and the first thing they would inspect was your bed. Over a few weeks of difficult training my SEAL class, which started with 150 men, was down to just 35. So, here are the 10 lessons I learned from basic SEAL training that hopefully will be of value to you as you move forward in life.\n"
     ]
    }
   ],
   "source": [
    "import requests\n",
    "import bs4\n",
    "from nltk.tokenize import sent_tokenize\n",
    "from gensim.summarization import summarize\n",
    "\n",
    "# 設定網址\n",
    "url = 'https://jamesclear.com/great-speeches/\\\n",
    "make-your-bed-by-admiral-william-h-mcraven'\n",
    "\n",
    "# 載入演說內容到字串\n",
    "page = requests.get(url)\n",
    "page.raise_for_status()\n",
    "soup = bs4.BeautifulSoup(page.text, 'html.parser')\n",
    "p_elems = [element.text for element in soup.find_all('p')]\n",
    "\n",
    "# 將段落內容串在一起\n",
    "speech = ' '.join(p_elems)\n",
    "\n",
    "# 建立和輸出演說摘要\n",
    "print(\"\\nSummary of Make Your Bed speech:\")\n",
    "summary = summarize(speech, word_count=225)\n",
    "sentences = sent_tokenize(summary)\n",
    "sents = set(sentences)\n",
    "print(' '.join(sents))"
   ]
  },
  {
   "cell_type": "code",
   "execution_count": null,
   "id": "d3016716",
   "metadata": {},
   "outputs": [],
   "source": []
  }
 ],
 "metadata": {
  "kernelspec": {
   "display_name": "Python 3",
   "language": "python",
   "name": "python3"
  },
  "language_info": {
   "codemirror_mode": {
    "name": "ipython",
    "version": 3
   },
   "file_extension": ".py",
   "mimetype": "text/x-python",
   "name": "python",
   "nbconvert_exporter": "python",
   "pygments_lexer": "ipython3",
   "version": "3.8.8"
  }
 },
 "nbformat": 4,
 "nbformat_minor": 5
}
