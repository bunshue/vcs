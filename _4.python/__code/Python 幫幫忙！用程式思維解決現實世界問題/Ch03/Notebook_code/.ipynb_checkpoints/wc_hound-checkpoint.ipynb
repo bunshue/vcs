{
 "cells": [
  {
   "cell_type": "code",
   "execution_count": 13,
   "id": "e6dd9755",
   "metadata": {},
   "outputs": [
    {
     "name": "stdout",
     "output_type": "stream",
     "text": [
      "Using matplotlib backend: Qt5Agg\n"
     ]
    }
   ],
   "source": [
    "# 匯入模組\n",
    "import numpy as np\n",
    "from PIL import Image\n",
    "import matplotlib.pyplot as plt\n",
    "from wordcloud import WordCloud, STOPWORDS\n",
    "\n",
    "# 載入文字檔並存成字串\n",
    "with open('hound.txt',encoding='utf-8', errors='ignore') as infile:\n",
    "    text = infile.read()\n",
    "\n",
    "# 將影像載入成 NumPy 陣列\n",
    "mask = np.array(Image.open('holmes.png'))\n",
    "\n",
    "# 取得停用字集合\n",
    "stopwords = STOPWORDS\n",
    "stopwords.update(['us', 'one', 'will', 'said', 'now', 'well', 'man', 'may',\n",
    "                  'little', 'say', 'must', 'way', 'long', 'yet', 'mean',\n",
    "                  'put', 'seem', 'asked', 'made', 'half', 'much',\n",
    "                  'certainly', 'might', 'came'])\n",
    "\n",
    "# 產生文字雲\n",
    "wc = WordCloud(max_words=500,\n",
    "               relative_scaling=0.5,\n",
    "               mask=mask,\n",
    "               background_color='white',\n",
    "               stopwords=stopwords,\n",
    "               margin=10,\n",
    "               random_state=6,\n",
    "               contour_width=2,\n",
    "               contour_color='brown',\n",
    "               colormap='copper').generate(text)\n",
    "\n",
    "# 將文字雲轉為 NumPy 陣列\n",
    "colors = wc.to_array()\n",
    "\n",
    "# 畫出和儲存文字雲\n",
    "%matplotlib\n",
    "plt.figure()\n",
    "plt.title(\"Chamberlain Hunt Academy Senior Class Presents:\\n\",\n",
    "          fontsize=15, color='brown')\n",
    "plt.text(-10, 0, \"The Hound of the Baskervilles\",\n",
    "         fontsize=20, fontweight='bold', color='brown')\n",
    "plt.suptitle(\"7:00 pm May 10-12 McComb Auditorium\",\n",
    "             x=0.52, y=0.095, fontsize=15, color='brown')\n",
    "plt.imshow(colors, interpolation=\"bilinear\")\n",
    "plt.axis('off')\n",
    "plt.show()\n",
    "#plt.savefig('hound_wordcloud.png')"
   ]
  },
  {
   "cell_type": "code",
   "execution_count": null,
   "id": "7f46cd90",
   "metadata": {},
   "outputs": [],
   "source": []
  }
 ],
 "metadata": {
  "kernelspec": {
   "display_name": "Python 3",
   "language": "python",
   "name": "python3"
  },
  "language_info": {
   "codemirror_mode": {
    "name": "ipython",
    "version": 3
   },
   "file_extension": ".py",
   "mimetype": "text/x-python",
   "name": "python",
   "nbconvert_exporter": "python",
   "pygments_lexer": "ipython3",
   "version": "3.8.8"
  }
 },
 "nbformat": 4,
 "nbformat_minor": 5
}
