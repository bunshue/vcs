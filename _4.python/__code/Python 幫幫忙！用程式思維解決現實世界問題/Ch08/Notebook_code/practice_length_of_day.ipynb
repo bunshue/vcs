{
 "cells": [
  {
   "cell_type": "code",
   "execution_count": 1,
   "id": "633e0ab3",
   "metadata": {},
   "outputs": [
    {
     "name": "stdout",
     "output_type": "stream",
     "text": [
      "Using matplotlib backend: Qt5Agg\n",
      "\n",
      "Manually close plot window after examining to continue program.\n",
      "peaks = (array([ 9, 20, 30], dtype=int64), {'peak_heights': array([1.        , 1.        , 0.99759265])})\n",
      "Period = 10\n"
     ]
    }
   ],
   "source": [
    "import os\n",
    "from statistics import mean\n",
    "import cv2 as cv\n",
    "import numpy as np\n",
    "import matplotlib.pyplot as plt\n",
    "from scipy import signal\n",
    "\n",
    "%matplotlib\n",
    "\n",
    "# 切換到包含影像的資料夾路徑\n",
    "os.chdir('br549_pixelated')\n",
    "images = sorted(os.listdir())\n",
    "intensity_samples = []\n",
    "\n",
    "# 將影像轉換為灰階，將平均亮度值放入 list\n",
    "for image in images:\n",
    "    img = cv.imread(image, cv.IMREAD_GRAYSCALE)    \n",
    "    intensity = img.mean()\n",
    "    intensity_samples.append(intensity)\n",
    "\n",
    "# 建立相對亮度值 list\n",
    "rel_intensity = intensity_samples[:]\n",
    "max_intensity = max(rel_intensity)\n",
    "for i, j in enumerate(rel_intensity):\n",
    "    rel_intensity[i] = j / max_intensity\n",
    "\n",
    "# 畫出相對亮度隨時間變化的曲線\n",
    "plt.plot(rel_intensity, color='red', marker='o', linestyle='solid',\n",
    "         linewidth=2, markersize=0, label='Relative Intensity')\n",
    "plt.legend(loc='upper center')\n",
    "plt.title('Exoplanet BR549 Relative Intensity vs. Time')\n",
    "plt.ylim(0.8, 1.1)\n",
    "plt.xticks(np.arange(0, 50, 5))\n",
    "plt.grid()\n",
    "print(\"\\nManually close plot window after examining to continue program.\")\n",
    "plt.show()\n",
    "\n",
    "# 估計亮度最大峰值以及它在影像上出現的位置\n",
    "# 找出時間區段 (BR549 一天的長度)\n",
    "peaks = signal.find_peaks(rel_intensity, height=0.95, distance=5)\n",
    "print(f\"peaks = {peaks}\")\n",
    "print(\"Period = {}\".format(mean(np.diff(peaks[0]))))"
   ]
  },
  {
   "cell_type": "code",
   "execution_count": null,
   "id": "841de823",
   "metadata": {},
   "outputs": [],
   "source": []
  }
 ],
 "metadata": {
  "kernelspec": {
   "display_name": "Python 3",
   "language": "python",
   "name": "python3"
  },
  "language_info": {
   "codemirror_mode": {
    "name": "ipython",
    "version": 3
   },
   "file_extension": ".py",
   "mimetype": "text/x-python",
   "name": "python",
   "nbconvert_exporter": "python",
   "pygments_lexer": "ipython3",
   "version": "3.8.8"
  }
 },
 "nbformat": 4,
 "nbformat_minor": 5
}
