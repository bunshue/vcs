{
 "cells": [
  {
   "cell_type": "code",
   "execution_count": 3,
   "id": "1ae333c1",
   "metadata": {},
   "outputs": [
    {
     "name": "stdout",
     "output_type": "stream",
     "text": [
      "Using matplotlib backend: Qt5Agg\n",
      "[Text(0.1832684031431146, 0.5713253822554821, '40.1%'), Text(-0.5646237442340427, -0.20297789891298565, '30.7%'), Text(0.36574010704848686, -0.47564080364930983, '29.1%')]\n",
      "[Text(0.237951042202058, 0.5507987849613998, '37.0%'), Text(-0.5902836578801834, -0.10754163491220735, '31.7%'), Text(0.3328207825322591, -0.49922973340398574, '31.3%')]\n"
     ]
    }
   ],
   "source": [
    "import numpy as np\n",
    "from matplotlib import pyplot as plt\n",
    "import cv2 as cv\n",
    "\n",
    "%matplotlib\n",
    "\n",
    "files = ['earth_west.png', 'earth_east.png']\n",
    "\n",
    "for file in files:\n",
    "    # 載入、縮放、顯示影像\n",
    "    img_ini = cv.imread(file)\n",
    "    pixelated = cv.resize(img_ini, (3, 3), interpolation=cv.INTER_AREA)\n",
    "    img = cv.resize(pixelated, (300, 300), interpolation=cv.INTER_NEAREST)\n",
    "    cv.imshow('Pixelated {}'.format(file), img)\n",
    "    cv.waitKey(2000)\n",
    "\n",
    "    # 取出各顏色 channel，並計算其平均\n",
    "    b, g, r = cv.split(pixelated)\n",
    "    color_aves = []\n",
    "    for array in (b, g, r):\n",
    "        color_aves.append(np.average(array))\n",
    "\n",
    "    # 製作圓餅圖\n",
    "    labels = 'Blue', 'Green', 'Red'\n",
    "    colors = ['blue', 'green', 'red']    \n",
    "    fig, ax = plt.subplots(figsize=(3.5, 3.3))  # 尺寸單位為英吋\n",
    "    _, _, autotexts = ax.pie(color_aves,\n",
    "                             labels=labels,\n",
    "                             autopct='%1.1f%%',\n",
    "                             colors=colors)\n",
    "    for autotext in autotexts:\n",
    "        autotext.set_color('white')\n",
    "    plt.title('{}\\n'.format(file))\n",
    "    \n",
    "plt.show()"
   ]
  },
  {
   "cell_type": "code",
   "execution_count": null,
   "id": "dcec99ea",
   "metadata": {},
   "outputs": [],
   "source": []
  }
 ],
 "metadata": {
  "kernelspec": {
   "display_name": "Python 3",
   "language": "python",
   "name": "python3"
  },
  "language_info": {
   "codemirror_mode": {
    "name": "ipython",
    "version": 3
   },
   "file_extension": ".py",
   "mimetype": "text/x-python",
   "name": "python",
   "nbconvert_exporter": "python",
   "pygments_lexer": "ipython3",
   "version": "3.8.8"
  }
 },
 "nbformat": 4,
 "nbformat_minor": 5
}
