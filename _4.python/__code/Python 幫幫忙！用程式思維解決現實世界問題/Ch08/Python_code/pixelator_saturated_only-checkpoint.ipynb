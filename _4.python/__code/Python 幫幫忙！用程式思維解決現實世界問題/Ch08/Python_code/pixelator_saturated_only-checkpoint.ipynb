{
 "cells": [
  {
   "cell_type": "code",
   "execution_count": 1,
   "id": "7d65b2f4",
   "metadata": {},
   "outputs": [
    {
     "name": "stdout",
     "output_type": "stream",
     "text": [
      "Using matplotlib backend: Qt5Agg\n",
      "[108 109 109]\n",
      "[121 110 111]\n"
     ]
    }
   ],
   "source": [
    "import cv2 as cv\n",
    "from matplotlib import pyplot as plt\n",
    "\n",
    "%matplotlib\n",
    "\n",
    "files = ['earth_west.png', 'earth_east.png']\n",
    "\n",
    "for file in files:\n",
    "    # 載入、縮放、顯示影像\n",
    "    img_ini = cv.imread(file)\n",
    "    pixelated = cv.resize(img_ini, (3, 3), interpolation=cv.INTER_AREA)\n",
    "    img = cv.resize(pixelated, (300, 300), interpolation=cv.INTER_NEAREST)\n",
    "    cv.imshow('Pixelated {}'.format(file), img)\n",
    "    cv.waitKey(2000)\n",
    "\n",
    "    color_values = pixelated[1, 1]  # 選擇中央的像素塊\n",
    "    print(color_values)\n",
    "\n",
    "    # 製作圓餅圖\n",
    "    labels = 'Blue', 'Green', 'Red'\n",
    "    colors = ['blue', 'green', 'red']    \n",
    "    fig, ax = plt.subplots(figsize=(3.5, 3.3))  # 尺寸單位為英吋\n",
    "    _, _, autotexts = ax.pie(color_values,\n",
    "                             labels=labels,\n",
    "                             autopct='%1.1f%%',\n",
    "                             colors=colors)\n",
    "    for autotext in autotexts:\n",
    "        autotext.set_color('white')\n",
    "    plt.title('{} Saturated Center Pixel \\n'.format(file))\n",
    "    \n",
    "plt.show()"
   ]
  },
  {
   "cell_type": "code",
   "execution_count": null,
   "id": "45f3312b",
   "metadata": {},
   "outputs": [],
   "source": []
  }
 ],
 "metadata": {
  "kernelspec": {
   "display_name": "Python 3",
   "language": "python",
   "name": "python3"
  },
  "language_info": {
   "codemirror_mode": {
    "name": "ipython",
    "version": 3
   },
   "file_extension": ".py",
   "mimetype": "text/x-python",
   "name": "python",
   "nbconvert_exporter": "python",
   "pygments_lexer": "ipython3",
   "version": "3.8.8"
  }
 },
 "nbformat": 4,
 "nbformat_minor": 5
}
