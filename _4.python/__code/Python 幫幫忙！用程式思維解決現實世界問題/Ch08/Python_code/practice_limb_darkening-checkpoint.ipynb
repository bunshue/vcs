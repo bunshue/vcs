{
 "cells": [
  {
   "cell_type": "code",
   "execution_count": 6,
   "id": "a7770e5f",
   "metadata": {},
   "outputs": [
    {
     "name": "stdout",
     "output_type": "stream",
     "text": [
      "Using matplotlib backend: Qt5Agg\n"
     ]
    }
   ],
   "source": [
    "import cv2 as cv\n",
    "import matplotlib.pyplot as plt\n",
    "\n",
    "%matplotlib\n",
    "\n",
    "IMG_HT = 400\n",
    "IMG_WIDTH = 500\n",
    "BLACK_IMG = cv.imread('limb_darkening.png', cv.IMREAD_GRAYSCALE)\n",
    "EXO_RADIUS = 7\n",
    "EXO_DX = 3\n",
    "EXO_START_X = 40\n",
    "EXO_START_Y = 230\n",
    "NUM_FRAMES = 145\n",
    "\n",
    "def main():\n",
    "    intensity_samples = record_transit(EXO_START_X, EXO_START_Y)\n",
    "    relative_brightness = calc_rel_brightness(intensity_samples)\n",
    "    plot_light_curve(relative_brightness)\n",
    "    \n",
    "def record_transit(exo_x, exo_y):\n",
    "    \"\"\"畫出行星淩日過程並傳回記錄亮度值的 list\"\"\"\n",
    "    intensity_samples = []\n",
    "    for _ in range(NUM_FRAMES):\n",
    "        temp_img = BLACK_IMG.copy()\n",
    "        # 畫出系外行星:\n",
    "        cv.circle(temp_img, (exo_x, exo_y), EXO_RADIUS, 0, -1)\n",
    "        intensity = temp_img.mean()\n",
    "        cv.putText(temp_img, 'Mean Intensity = {}'.format(intensity), (5, 390),\n",
    "                   cv.FONT_HERSHEY_PLAIN, 1, 255)\n",
    "        cv.imshow('Transit', temp_img)\n",
    "        cv.waitKey(30)\n",
    "        intensity_samples.append(intensity)\n",
    "        exo_x += EXO_DX\n",
    "    return intensity_samples\n",
    "\n",
    "def calc_rel_brightness(intensity_samples):\n",
    "    \"\"\"將亮度 list 中的值換算成相對亮度值並傳回\"\"\"\n",
    "    rel_brightness = []\n",
    "    max_brightness = max(intensity_samples)\n",
    "    for intensity in intensity_samples:\n",
    "        rel_brightness.append(intensity / max_brightness)\n",
    "    return rel_brightness\n",
    "\n",
    "def plot_light_curve(rel_brightness):\n",
    "    \"\"\"畫出相對亮度隨時間變化的曲線\"\"\"\n",
    "    plt.plot(rel_brightness, color='red', linestyle='dashed',\n",
    "             linewidth=2, label='Relative Brightness')\n",
    "    plt.legend(loc='upper center')\n",
    "    plt.title('Relative Brightness vs. Time')\n",
    "    #plt.ylim(0.995, 1.001)\n",
    "    plt.show()\n",
    "\n",
    "if __name__ == '__main__':\n",
    "    main()"
   ]
  },
  {
   "cell_type": "code",
   "execution_count": null,
   "id": "3a8bd181",
   "metadata": {},
   "outputs": [],
   "source": []
  }
 ],
 "metadata": {
  "kernelspec": {
   "display_name": "Python 3",
   "language": "python",
   "name": "python3"
  },
  "language_info": {
   "codemirror_mode": {
    "name": "ipython",
    "version": 3
   },
   "file_extension": ".py",
   "mimetype": "text/x-python",
   "name": "python",
   "nbconvert_exporter": "python",
   "pygments_lexer": "ipython3",
   "version": "3.8.8"
  }
 },
 "nbformat": 4,
 "nbformat_minor": 5
}
