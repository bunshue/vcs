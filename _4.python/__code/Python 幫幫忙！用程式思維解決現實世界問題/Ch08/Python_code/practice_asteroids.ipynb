{
 "cells": [
  {
   "cell_type": "code",
   "execution_count": 3,
   "id": "bfc832d9",
   "metadata": {},
   "outputs": [
    {
     "name": "stdout",
     "output_type": "stream",
     "text": [
      "Using matplotlib backend: Qt5Agg\n"
     ]
    }
   ],
   "source": [
    "import random\n",
    "import numpy as np\n",
    "import cv2 as cv\n",
    "import matplotlib.pyplot as plt\n",
    "\n",
    "%matplotlib\n",
    "\n",
    "STAR_RADIUS = 165\n",
    "BLACK_IMG = np.zeros((400, 500, 1), dtype=\"uint8\")\n",
    "NUM_ASTEROIDS = 15\n",
    "NUM_LOOPS = 170\n",
    "\n",
    "class Asteroid():\n",
    "    \"\"\"建立小行星物件\"\"\"\n",
    "    def __init__(self, number):\n",
    "        self.radius = random.choice((1, 1, 1, 1, 1, 1, 1, 1, 1, 1, 2, 2, 2, 3))\n",
    "        self.x = random.randint(-30, 60)\n",
    "        self.y = random.randint(220, 230)\n",
    "        self.dx = 3  \n",
    "\n",
    "    def move_asteroid(self, image):\n",
    "        \"\"\"畫出並移動小行星物件\"\"\"\n",
    "        cv.circle(image, (self.x, self.y), self.radius, 0, -1)\n",
    "        self.x += self.dx\n",
    "        \n",
    "\n",
    "def record_transit(start_image):\n",
    "    \"\"\"畫出行星淩日過程並傳回記錄亮度值的 list\"\"\"\n",
    "    asteroid_list = []\n",
    "    intensity_samples = []\n",
    "    \n",
    "    for i in range(NUM_ASTEROIDS):\n",
    "        asteroid_list.append(Asteroid(i))\n",
    "        \n",
    "    for _ in range(NUM_LOOPS):\n",
    "        temp_img = start_image.copy()\n",
    "        # 畫出恆星  \n",
    "        cv.circle(temp_img, (250, 200), STAR_RADIUS, 255, -1)\n",
    "        for ast in asteroid_list:\n",
    "            ast.move_asteroid(temp_img)\n",
    "        intensity = temp_img.mean()\n",
    "        cv.putText(temp_img, 'Mean Intensity = {}'.format(intensity),\n",
    "                   (5, 390), cv.FONT_HERSHEY_PLAIN, 1, 255)\n",
    "        cv.imshow('Transit', temp_img)\n",
    "        intensity_samples.append(intensity)\n",
    "        cv.waitKey(50)\n",
    "    cv.destroyAllWindows()\n",
    "    return intensity_samples\n",
    "\n",
    "def calc_rel_brightness(image):\n",
    "    \"\"\"將亮度 list 中的值換算成相對亮度值並傳回\"\"\"\n",
    "    rel_brightness = record_transit(image)\n",
    "    max_brightness = max(rel_brightness)\n",
    "    for i, j in enumerate(rel_brightness):\n",
    "        rel_brightness[i] = j / max_brightness\n",
    "    return rel_brightness\n",
    "\n",
    "def plot_light_curve(rel_brightness):\n",
    "    \"\"\"畫出相對亮度隨時間變化的曲線\"\"\"\n",
    "    plt.plot(rel_brightness, color='red', linestyle='dashed',\n",
    "             linewidth=2, label='Relative Brightness')\n",
    "    plt.legend(loc='upper center')\n",
    "    plt.title('Relative Brightness vs. Time')\n",
    "    plt.show()\n",
    "    \n",
    "relative_brightness = calc_rel_brightness(BLACK_IMG)\n",
    "plot_light_curve(relative_brightness)"
   ]
  },
  {
   "cell_type": "code",
   "execution_count": null,
   "id": "069a0978",
   "metadata": {},
   "outputs": [],
   "source": []
  }
 ],
 "metadata": {
  "kernelspec": {
   "display_name": "Python 3",
   "language": "python",
   "name": "python3"
  },
  "language_info": {
   "codemirror_mode": {
    "name": "ipython",
    "version": 3
   },
   "file_extension": ".py",
   "mimetype": "text/x-python",
   "name": "python",
   "nbconvert_exporter": "python",
   "pygments_lexer": "ipython3",
   "version": "3.8.8"
  }
 },
 "nbformat": 4,
 "nbformat_minor": 5
}
