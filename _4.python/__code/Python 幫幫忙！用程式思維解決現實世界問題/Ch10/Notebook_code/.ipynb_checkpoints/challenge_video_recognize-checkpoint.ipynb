{
 "cells": [
  {
   "cell_type": "code",
   "execution_count": 4,
   "id": "46064822",
   "metadata": {},
   "outputs": [],
   "source": [
    "import cv2 as cv\n",
    "\n",
    "names = {1: \"Demming\"}  # 將使用者 ID 聯結到使用者名稱\n",
    "\n",
    "# 設定 Haar 分類器檔案路徑\n",
    "cascade_path = \"C:/Users/Admin/anaconda/Lib/site-packages/cv2/data/\"\n",
    "detector = cv.CascadeClassifier(cascade_path +\n",
    "                                'haarcascade_frontalface_default.xml')\n",
    "\n",
    "# 初始化辨識器物件，並載入訓練資料\n",
    "recognizer = cv.face.LBPHFaceRecognizer_create()\n",
    "recognizer.read('lbph_trainer.yml')\n",
    "\n",
    "#設定視訊鏡頭\n",
    "cap = cv.VideoCapture(0)\n",
    "\n",
    "if not cap.isOpened():\n",
    "    print(\"Cloud not open video device.\")\n",
    "#cap.set(3,320) # 設定螢幕寬度\n",
    "#cap.set(4,240) # 設定螢幕高度\n",
    "\n",
    "while True:\n",
    "    _, frame = cap.read()\n",
    "    gray = cv.cvtColor(frame, cv.COLOR_BGR2GRAY)\n",
    "    face_rects = detector.detectMultiScale(frame, scaleFactor=1.2,\n",
    "                                           minNeighbors=5)    \n",
    "\n",
    "    for (x, y, w, h) in face_rects:\n",
    "        #縮放影像使它變成能訓練的大小\n",
    "        gray_resize = cv.resize(gray[y:y+h,x:x+w],\n",
    "                                (100,100),\n",
    "                                cv.INTER_LINEAR)\n",
    "        predicted_id, dist = recognizer.predict(gray_resize)\n",
    "        if predicted_id ==1 and dist <= 110:\n",
    "            name = names[predicted_id]\n",
    "        else:\n",
    "            name = 'unknown'\n",
    "        cv.rectangle(frame, (x,y), (x+w, y+h), (255, 255, 0), 2)\n",
    "        cv.putText(frame, name, (x+1, y+h-5),\n",
    "                  cv.FONT_HERSHEY_SIMPLEX, 0.5, (255,255,0), 1)\n",
    "        # 顯示畫面\n",
    "        cv.imshow('frame', frame)\n",
    "        \n",
    "    if cv.waitKey(1) & 0xFF == ord('q'):\n",
    "        break\n",
    "\n",
    "# 退出視訊鏡頭\n",
    "cap.release()\n",
    "cv.destroyAllWindows()"
   ]
  },
  {
   "cell_type": "code",
   "execution_count": null,
   "id": "a7beed80",
   "metadata": {},
   "outputs": [],
   "source": []
  }
 ],
 "metadata": {
  "kernelspec": {
   "display_name": "Python 3",
   "language": "python",
   "name": "python3"
  },
  "language_info": {
   "codemirror_mode": {
    "name": "ipython",
    "version": 3
   },
   "file_extension": ".py",
   "mimetype": "text/x-python",
   "name": "python",
   "nbconvert_exporter": "python",
   "pygments_lexer": "ipython3",
   "version": "3.8.8"
  }
 },
 "nbformat": 4,
 "nbformat_minor": 5
}
