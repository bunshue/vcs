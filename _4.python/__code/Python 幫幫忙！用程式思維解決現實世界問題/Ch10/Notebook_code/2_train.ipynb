{
 "cells": [
  {
   "cell_type": "code",
   "execution_count": 5,
   "id": "de9e9766",
   "metadata": {},
   "outputs": [
    {
     "name": "stdout",
     "output_type": "stream",
     "text": [
      "Preparing training images for demming.1.1\n",
      "Preparing training images for demming.1.10\n",
      "Preparing training images for demming.1.11\n",
      "Preparing training images for demming.1.12\n",
      "Preparing training images for demming.1.13\n",
      "Preparing training images for demming.1.14\n",
      "Preparing training images for demming.1.15\n",
      "Preparing training images for demming.1.16\n",
      "Preparing training images for demming.1.17\n",
      "Preparing training images for demming.1.18\n",
      "Preparing training images for demming.1.19\n",
      "Preparing training images for demming.1.2\n",
      "Preparing training images for demming.1.21\n",
      "Preparing training images for demming.1.22\n",
      "Preparing training images for demming.1.23\n",
      "Preparing training images for demming.1.24\n",
      "Preparing training images for demming.1.25\n",
      "Preparing training images for demming.1.26\n",
      "Preparing training images for demming.1.27\n",
      "Preparing training images for demming.1.28\n",
      "Preparing training images for demming.1.29\n",
      "Preparing training images for demming.1.3\n",
      "Preparing training images for demming.1.30\n",
      "Preparing training images for demming.1.4\n",
      "Preparing training images for demming.1.5\n",
      "Preparing training images for demming.1.6\n",
      "Preparing training images for demming.1.7\n",
      "Preparing training images for demming.1.8\n",
      "Preparing training images for demming.1.9\n",
      "Training complete. Exiting...\n"
     ]
    }
   ],
   "source": [
    "import os\n",
    "import numpy as np\n",
    "import cv2 as cv\n",
    "\n",
    "# 設定 Haar 分類器檔案路徑\n",
    "cascade_path = \"C:/Users/Admin/anaconda/Lib/site-packages/cv2/data/\"\n",
    "face_detector = cv.CascadeClassifier(cascade_path +\n",
    "                                    'haarcascade_frontalface_default.\\\n",
    "xml')\n",
    "\n",
    "#train_path = './trainer' # 若使用的是你的臉，請取消註解\n",
    "train_path = './demming_trainer' # 使用提供的 Demming 臉部影像\n",
    "image_paths = [os.path.join(train_path, f) \n",
    "               for f in os.listdir(train_path)]\n",
    "images, labels = [], []\n",
    "\n",
    "# 讀取灰階影像，並顯示使用者 ID、影像的名稱、影像的畫面號碼\n",
    "for image in image_paths:\n",
    "    train_image = cv.imread(image, cv.IMREAD_GRAYSCALE)\n",
    "    label = int(os.path.split(image)[-1].split('.')[1])\n",
    "    name = os.path.split(image)[-1].split('.')[0]\n",
    "    frame_num = os.path.split(image)[-1].split('.')[2]\n",
    "    faces = face_detector.detectMultiScale(train_image)\n",
    "    for (x, y, w, h) in faces:\n",
    "        images.append(train_image[y:y + h, x:x + w])\n",
    "        labels.append(label)\n",
    "        print(f\"Preparing training images for {name}.{label}.{frame_num}\")\n",
    "        cv.imshow(\"Training Image\", train_image[y:y + h, x:x + w])\n",
    "        cv.waitKey(50)\n",
    "\n",
    "cv.destroyAllWindows()\n",
    "\n",
    "# 訓練影像\n",
    "recognizer = cv.face.LBPHFaceRecognizer_create()\n",
    "recognizer.train(images, np.array(labels))\n",
    "recognizer.write('lbph_trainer.yml')\n",
    "print(\"Training complete. Exiting...\")"
   ]
  },
  {
   "cell_type": "code",
   "execution_count": null,
   "id": "3f93270f",
   "metadata": {},
   "outputs": [],
   "source": []
  }
 ],
 "metadata": {
  "kernelspec": {
   "display_name": "Python 3",
   "language": "python",
   "name": "python3"
  },
  "language_info": {
   "codemirror_mode": {
    "name": "ipython",
    "version": 3
   },
   "file_extension": ".py",
   "mimetype": "text/x-python",
   "name": "python",
   "nbconvert_exporter": "python",
   "pygments_lexer": "ipython3",
   "version": "3.8.8"
  }
 },
 "nbformat": 4,
 "nbformat_minor": 5
}
