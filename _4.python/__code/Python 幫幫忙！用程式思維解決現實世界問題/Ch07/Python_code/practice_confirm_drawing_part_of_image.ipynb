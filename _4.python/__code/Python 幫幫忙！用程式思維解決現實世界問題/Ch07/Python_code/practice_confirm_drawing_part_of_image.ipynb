{
 "cells": [
  {
   "cell_type": "code",
   "execution_count": 1,
   "id": "cea40594",
   "metadata": {},
   "outputs": [
    {
     "name": "stdout",
     "output_type": "stream",
     "text": [
      "No drawing\n",
      "mean = 52.21875\n",
      "std = 3.0251226731324468\n",
      "ptp = 25\n",
      "\n",
      "White outlined rectangle\n",
      "mean = 70.939453125\n",
      "std = 58.58752672029199\n",
      "ptp = 219\n",
      "\n",
      "White-filled rectangle\n",
      "mean = 255.0\n",
      "std = 0.0\n",
      "ptp = 0\n",
      "\n"
     ]
    }
   ],
   "source": [
    "import numpy as np\n",
    "import cv2 as cv\n",
    "\n",
    "IMG = cv.imread('mola_1024x501.png', cv.IMREAD_GRAYSCALE)\n",
    "\n",
    "ul_x, ul_y = 0, 167\n",
    "lr_x, lr_y = 32, 183\n",
    "rect_img = IMG[ul_y : lr_y, ul_x : lr_x]\n",
    "\n",
    "def run_stats(image):\n",
    "    \"\"\"影像格式為 numpy 陣列，計算其相關數據\"\"\"\n",
    "    print('mean = {}'.format(np.mean(image)))\n",
    "    print('std = {}'.format(np.std(image)))\n",
    "    print('ptp = {}'.format(np.ptp(image)))\n",
    "    print()\n",
    "    cv.imshow('img', IMG)\n",
    "    cv.waitKey(1000)    \n",
    "\n",
    "# 計算沒繪製影像時的數據\n",
    "print(\"No drawing\")\n",
    "run_stats(rect_img)\n",
    "\n",
    "# 計算有白色矩形框時的數據\n",
    "print(\"White outlined rectangle\")\n",
    "cv.rectangle(IMG, (ul_x, ul_y), (lr_x, lr_y), (255, 0, 0), 1)\n",
    "run_stats(rect_img)\n",
    "\n",
    "# 計算有填滿白色矩形時的數據\n",
    "print(\"White-filled rectangle\")\n",
    "cv.rectangle(IMG, (ul_x, ul_y), (lr_x, lr_y), (255, 0, 0), -1)\n",
    "run_stats(rect_img)\n",
    "cv.destroyAllWindows() # 為解決 jupyter 環境下執行問題，增加程式"
   ]
  },
  {
   "cell_type": "code",
   "execution_count": null,
   "id": "d0fee45e",
   "metadata": {},
   "outputs": [],
   "source": []
  }
 ],
 "metadata": {
  "kernelspec": {
   "display_name": "Python 3",
   "language": "python",
   "name": "python3"
  },
  "language_info": {
   "codemirror_mode": {
    "name": "ipython",
    "version": 3
   },
   "file_extension": ".py",
   "mimetype": "text/x-python",
   "name": "python",
   "nbconvert_exporter": "python",
   "pygments_lexer": "ipython3",
   "version": "3.8.8"
  }
 },
 "nbformat": 4,
 "nbformat_minor": 5
}
