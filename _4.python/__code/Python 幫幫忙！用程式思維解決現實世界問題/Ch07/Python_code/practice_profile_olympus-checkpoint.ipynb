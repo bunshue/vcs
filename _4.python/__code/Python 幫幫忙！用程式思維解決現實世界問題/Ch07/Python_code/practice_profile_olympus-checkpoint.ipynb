{
 "cells": [
  {
   "cell_type": "code",
   "execution_count": 1,
   "id": "a96f0253",
   "metadata": {},
   "outputs": [],
   "source": [
    "from PIL import Image, ImageDraw\n",
    "from matplotlib import pyplot as plt\n",
    "\n",
    "# 載入影像並從平行於 y 軸的水平剖面獲取 x 和 z 值\n",
    "y_coord = 202\n",
    "im = Image.open('mola_1024x512_200mp.jpg').convert('L')\n",
    "width, height = im.size\n",
    "x_vals = [x for x in range(width)]\n",
    "z_vals = [im.getpixel((x, y_coord)) for x in x_vals]\n",
    "\n",
    "# 在 MOLA 影像上繪製剖面線\n",
    "draw = ImageDraw.Draw(im)\n",
    "draw.line((0, y_coord, width, y_coord), fill=255, width=3)\n",
    "draw.text((100, 165), 'Olympus Mons', fill=255)\n",
    "im.show()    \n",
    "\n",
    "# 繪製剖面圖\n",
    "fig, ax = plt.subplots(figsize=(9, 4))\n",
    "axes = plt.gca()\n",
    "axes.set_ylim(0, 400)\n",
    "ax.plot(x_vals, z_vals, color='black')\n",
    "ax.set(xlabel='x-coordinate',\n",
    "       ylabel='Intensity (height)',\n",
    "       title=\"Mars Elevation Profile (y = 202)\")\n",
    "ratio = 0.15  # Reduces vertical exaggeration in profile.\n",
    "xleft, xright = ax.get_xlim()\n",
    "ybase, ytop = ax.get_ylim()\n",
    "ax.set_aspect(abs((xright-xleft)/(ybase-ytop)) * ratio)\n",
    "plt.text(0, 310, 'WEST', fontsize=10)\n",
    "plt.text(980, 310, 'EAST', fontsize=10)\n",
    "plt.text(100, 280, 'Olympus Mons', fontsize=8)\n",
    "##ax.grid()\n",
    "plt.show()"
   ]
  },
  {
   "cell_type": "code",
   "execution_count": null,
   "id": "d488d025",
   "metadata": {},
   "outputs": [],
   "source": []
  }
 ],
 "metadata": {
  "kernelspec": {
   "display_name": "Python 3",
   "language": "python",
   "name": "python3"
  },
  "language_info": {
   "codemirror_mode": {
    "name": "ipython",
    "version": 3
   },
   "file_extension": ".py",
   "mimetype": "text/x-python",
   "name": "python",
   "nbconvert_exporter": "python",
   "pygments_lexer": "ipython3",
   "version": "3.8.8"
  }
 },
 "nbformat": 4,
 "nbformat_minor": 5
}
