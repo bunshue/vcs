{
 "cells": [
  {
   "cell_type": "code",
   "execution_count": 1,
   "id": "12f377cb",
   "metadata": {},
   "outputs": [
    {
     "data": {
      "text/plain": [
       "-1"
      ]
     },
     "execution_count": 1,
     "metadata": {},
     "output_type": "execute_result"
    }
   ],
   "source": [
    "import cv2 as cv\n",
    "\n",
    "IMG_GEO = cv.imread('Mars_Global_Geology_Mariner9_1024.jpg', cv.IMREAD_GRAYSCALE)\n",
    "cv.imshow('map', IMG_GEO)\n",
    "cv.waitKey(1000)\n",
    "img_copy = IMG_GEO.copy()\n",
    "lower_limit = 170  # 設定最低閾值\n",
    "upper_limit = 185  # 設定最高閾值\n",
    "for x in range(1024):\n",
    "    for y in range(512):\n",
    "        if lower_limit <= img_copy[y, x] <= upper_limit:\n",
    "            img_copy[y, x] = 1\n",
    "        else:\n",
    "            img_copy[y, x] = 0\n",
    "\n",
    "cv.imwrite('geo_thresh.jpg', img_copy)\n",
    "cv.imshow('thresh', img_copy)\n",
    "cv.waitKey(0)"
   ]
  },
  {
   "cell_type": "code",
   "execution_count": null,
   "id": "58de6f0a",
   "metadata": {},
   "outputs": [],
   "source": []
  }
 ],
 "metadata": {
  "kernelspec": {
   "display_name": "Python 3",
   "language": "python",
   "name": "python3"
  },
  "language_info": {
   "codemirror_mode": {
    "name": "ipython",
    "version": 3
   },
   "file_extension": ".py",
   "mimetype": "text/x-python",
   "name": "python",
   "nbconvert_exporter": "python",
   "pygments_lexer": "ipython3",
   "version": "3.8.8"
  }
 },
 "nbformat": 4,
 "nbformat_minor": 5
}
