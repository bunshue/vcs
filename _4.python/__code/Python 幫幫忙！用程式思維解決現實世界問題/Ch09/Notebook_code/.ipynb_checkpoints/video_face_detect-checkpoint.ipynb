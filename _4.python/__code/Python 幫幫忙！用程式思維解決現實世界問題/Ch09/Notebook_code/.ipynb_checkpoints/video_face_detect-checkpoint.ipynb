{
 "cells": [
  {
   "cell_type": "code",
   "execution_count": 6,
   "id": "bad89eb4",
   "metadata": {
    "scrolled": true
   },
   "outputs": [],
   "source": [
    "import cv2 as cv\n",
    "\n",
    "# 設定 Haar 階層式分類器檔案路徑\n",
    "path = \"C:/Users/Admin/anaconda/Lib/site-packages/cv2/data/\"\n",
    "face_cascade = cv.CascadeClassifier(path +\n",
    "                                    'haarcascade_frontalface_alt.xml')\n",
    "\n",
    "cap = cv.VideoCapture(0)\n",
    "\n",
    "while True:\n",
    "    # 偵測人臉\n",
    "    _, frame = cap.read()\n",
    "    face_rects = face_cascade.detectMultiScale(frame, scaleFactor=1.2,\n",
    "                                               minNeighbors=4)    \n",
    "\n",
    "    for (x, y, w, h) in face_rects:\n",
    "        cv.rectangle(frame, (x, y), (x+w, y+h), (0, 255, 0), 2)\n",
    "        \n",
    "    # 顯示畫面\n",
    "    cv.imshow('frame', frame)\n",
    "    if cv.waitKey(1) & 0xFF == ord('q'):\n",
    "        break\n",
    "\n",
    "# 退出視訊鏡頭\n",
    "cap.release()\n",
    "cv.destroyAllWindows()"
   ]
  },
  {
   "cell_type": "code",
   "execution_count": null,
   "id": "2b55ca26",
   "metadata": {},
   "outputs": [],
   "source": []
  }
 ],
 "metadata": {
  "kernelspec": {
   "display_name": "Python 3",
   "language": "python",
   "name": "python3"
  },
  "language_info": {
   "codemirror_mode": {
    "name": "ipython",
    "version": 3
   },
   "file_extension": ".py",
   "mimetype": "text/x-python",
   "name": "python",
   "nbconvert_exporter": "python",
   "pygments_lexer": "ipython3",
   "version": "3.8.8"
  }
 },
 "nbformat": 4,
 "nbformat_minor": 5
}
