{
 "cells": [
  {
   "cell_type": "code",
   "execution_count": 1,
   "id": "37088b4a",
   "metadata": {},
   "outputs": [],
   "source": [
    "import cv2 as cv\n",
    "\n",
    "path = \"C:/Users/Admin/anaconda/Lib/site-packages/cv2/data/\"\n",
    "face_cascade = cv.CascadeClassifier(path + 'haarcascade_frontalface_alt.xml')\n",
    "\n",
    "cap = cv.VideoCapture(0)\n",
    "\n",
    "while True:\n",
    "    _, frame = cap.read()\n",
    "    face_rects = face_cascade.detectMultiScale(frame, scaleFactor=1.2,\n",
    "                                               minNeighbors=3)    \n",
    "\n",
    "    for (x, y, w, h) in face_rects:\n",
    "        face = cv.blur(frame[y:y + h, x:x + w], (25, 25))\n",
    "        frame[y:y + h, x: x + w] = face\n",
    "        cv.rectangle(frame, (x,y), (x+w, y+h), (0, 255, 0), 2)\n",
    "        \n",
    "    cv.imshow('frame', frame)\n",
    "    if cv.waitKey(1) & 0xFF == ord('q'):\n",
    "        break\n",
    "\n",
    "cap.release()\n",
    "cv.destroyAllWindows()"
   ]
  },
  {
   "cell_type": "code",
   "execution_count": null,
   "id": "eefed8fc",
   "metadata": {},
   "outputs": [],
   "source": []
  },
  {
   "cell_type": "code",
   "execution_count": null,
   "id": "a13c6cbc",
   "metadata": {},
   "outputs": [],
   "source": []
  }
 ],
 "metadata": {
  "kernelspec": {
   "display_name": "Python 3",
   "language": "python",
   "name": "python3"
  },
  "language_info": {
   "codemirror_mode": {
    "name": "ipython",
    "version": 3
   },
   "file_extension": ".py",
   "mimetype": "text/x-python",
   "name": "python",
   "nbconvert_exporter": "python",
   "pygments_lexer": "ipython3",
   "version": "3.8.8"
  }
 },
 "nbformat": 4,
 "nbformat_minor": 5
}
