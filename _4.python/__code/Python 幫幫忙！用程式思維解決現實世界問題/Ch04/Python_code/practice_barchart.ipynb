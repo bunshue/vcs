{
 "cells": [
  {
   "cell_type": "code",
   "execution_count": 1,
   "id": "970222a9",
   "metadata": {},
   "outputs": [
    {
     "name": "stdout",
     "output_type": "stream",
     "text": [
      "Using matplotlib backend: Qt5Agg\n"
     ]
    }
   ],
   "source": [
    "import sys\n",
    "import os\n",
    "import operator\n",
    "from collections import Counter\n",
    "import matplotlib.pyplot as plt\n",
    "\n",
    "%matplotlib\n",
    "def load_file(infile):\n",
    "    \"\"\"載入文字檔並以小寫字串傳回\"\"\"\n",
    "    with open(infile) as f:\n",
    "        text = f.read().lower()\n",
    "    return text\n",
    "\n",
    "def main():\n",
    "    infile = 'lost.txt'\n",
    "    if not os.path.exists(infile):\n",
    "        print(\"File {} not found. Terminating.\".format(infile),\n",
    "              file=sys.stderr)\n",
    "        sys.exit(1)\n",
    "       \n",
    "    text = load_file(infile)\n",
    "    \n",
    "    # 使用字串中的每個字元的出現頻率繪製長條圖\n",
    "    char_freq = Counter(text)\n",
    "    char_freq_sorted = sorted(char_freq.items(),\n",
    "                              key=operator.itemgetter(1), reverse=True)\n",
    "    x, y = zip(*char_freq_sorted)  # 星號 * 可以解壓縮可迭代物件\n",
    "    fig, ax = plt.subplots()\n",
    "    ax.bar(x, y)\n",
    "    fig.show()\n",
    "\n",
    "if __name__ == '__main__':\n",
    "    main()"
   ]
  },
  {
   "cell_type": "code",
   "execution_count": null,
   "id": "9ff3388f",
   "metadata": {},
   "outputs": [],
   "source": []
  }
 ],
 "metadata": {
  "kernelspec": {
   "display_name": "Python 3",
   "language": "python",
   "name": "python3"
  },
  "language_info": {
   "codemirror_mode": {
    "name": "ipython",
    "version": 3
   },
   "file_extension": ".py",
   "mimetype": "text/x-python",
   "name": "python",
   "nbconvert_exporter": "python",
   "pygments_lexer": "ipython3",
   "version": "3.8.8"
  }
 },
 "nbformat": 4,
 "nbformat_minor": 5
}
