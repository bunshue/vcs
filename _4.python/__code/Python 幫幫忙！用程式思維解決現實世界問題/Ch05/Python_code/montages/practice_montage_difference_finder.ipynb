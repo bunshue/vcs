{
 "cells": [
  {
   "cell_type": "code",
   "execution_count": 1,
   "id": "d0bccb57",
   "metadata": {},
   "outputs": [],
   "source": [
    "import cv2 as cv\n",
    "\n",
    "filename1 = 'montage_left.JPG'\n",
    "filename2 = 'montage_right_gray.JPG'\n",
    "\n",
    "img1 = cv.imread(filename1, cv.IMREAD_GRAYSCALE)\n",
    "img2 = cv.imread(filename2, cv.IMREAD_GRAYSCALE)\n",
    "\n",
    "# 比較影像\n",
    "diff_imgs1_2 = cv.absdiff(img1, img2)\n",
    "\n",
    "cv.namedWindow('Difference', cv.WINDOW_NORMAL)\n",
    "diff_imgs1_2_resize = cv.resize(diff_imgs1_2, (699, 700))\n",
    "cv.imshow('Difference', diff_imgs1_2_resize)\n",
    "#cv.waitKey(3000)\n",
    "#cv.destroyAllWindows()\n",
    "\n",
    "crop_diff = diff_imgs1_2[10:2795, 10:2445]  # x, y, w, h = 10, 10, 2790, 2440\n",
    "\n",
    "# 預處理影像模糊化(減少影像雜訊)\n",
    "blurred = cv.GaussianBlur(crop_diff, (5, 5), 0)\n",
    "\n",
    "(minVal, maxVal, minLoc, maxLoc2) = cv.minMaxLoc(blurred) # 傳回影像中像素值最小和最大的值及其位置 tuple\n",
    "cv.circle(img2, maxLoc2, 100, 255, 3) # 畫圓圈\n",
    "x, y = int(img2.shape[1]/4), int(img2.shape[0]/4) # 設定視窗大小\n",
    "img2_resize = cv.resize(img2, (x, y)) # 視窗停滯 7 秒\n",
    "cv.imshow('Change', img2_resize) # 顯示視窗\n",
    "cv.waitKey(10000) # 視窗停滯 10 秒\n",
    "cv.destroyAllWindows() # 關閉視窗"
   ]
  },
  {
   "cell_type": "code",
   "execution_count": null,
   "id": "6e724c0c",
   "metadata": {},
   "outputs": [],
   "source": []
  }
 ],
 "metadata": {
  "kernelspec": {
   "display_name": "Python 3",
   "language": "python",
   "name": "python3"
  },
  "language_info": {
   "codemirror_mode": {
    "name": "ipython",
    "version": 3
   },
   "file_extension": ".py",
   "mimetype": "text/x-python",
   "name": "python",
   "nbconvert_exporter": "python",
   "pygments_lexer": "ipython3",
   "version": "3.8.8"
  }
 },
 "nbformat": 4,
 "nbformat_minor": 5
}
