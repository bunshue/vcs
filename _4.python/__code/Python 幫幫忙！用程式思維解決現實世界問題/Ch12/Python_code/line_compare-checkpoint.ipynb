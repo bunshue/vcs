{
 "cells": [
  {
   "cell_type": "code",
   "execution_count": null,
   "id": "a2dafbe0",
   "metadata": {},
   "outputs": [
    {
     "name": "stdout",
     "output_type": "stream",
     "text": [
      "Angle 0 degrees: average time for 1000 runs at speed 0 = 0.03656\n",
      "Angle 3.695220532 degrees: average time for 1000 runs at speed 0 = 0.01580\n"
     ]
    }
   ],
   "source": [
    "from time import perf_counter\n",
    "import statistics\n",
    "import turtle\n",
    "\n",
    "turtle.TurtleScreen._RUNNING=True # 為解決 jupyter 環境下執行問題，增加程式(1)\n",
    "\n",
    "turtle.setup(1200, 600)\n",
    "screen = turtle.Screen()\n",
    "\n",
    "ANGLES = (0, 3.695220532)  # 直線和斜線的角度\n",
    "NUM_RUNS = 1000\n",
    "SPEED = 0\n",
    "\n",
    "for angle in ANGLES:\n",
    "    times = []\n",
    "    for _ in range(NUM_RUNS):\n",
    "        line = turtle.Turtle()\n",
    "        line.speed(SPEED)  \n",
    "        line.hideturtle()\n",
    "        line.penup()\n",
    "        line.lt(angle)\n",
    "        line.setpos(-470, 0)\n",
    "        line.pendown()\n",
    "        line.showturtle()\n",
    "        start_time = perf_counter()\n",
    "        line.fd(962)\n",
    "        end_time = perf_counter()\n",
    "        times.append(end_time - start_time)\n",
    "        \n",
    "    line_ave = statistics.mean(times)\n",
    "    print(\"Angle {} degrees: average time for {} runs at speed {} = {:.5f}\"\n",
    "          .format(angle, NUM_RUNS, SPEED, line_ave))\n",
    "\n",
    "turtle.bye() # 為解決 jupyter 環境下執行問題，增加程式(2)"
   ]
  },
  {
   "cell_type": "code",
   "execution_count": null,
   "id": "66f316d7",
   "metadata": {},
   "outputs": [],
   "source": []
  }
 ],
 "metadata": {
  "kernelspec": {
   "display_name": "Python 3",
   "language": "python",
   "name": "python3"
  },
  "language_info": {
   "codemirror_mode": {
    "name": "ipython",
    "version": 3
   },
   "file_extension": ".py",
   "mimetype": "text/x-python",
   "name": "python",
   "nbconvert_exporter": "python",
   "pygments_lexer": "ipython3",
   "version": "3.8.8"
  }
 },
 "nbformat": 4,
 "nbformat_minor": 5
}
