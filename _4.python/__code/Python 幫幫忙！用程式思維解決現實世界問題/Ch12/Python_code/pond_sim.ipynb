{
 "cells": [
  {
   "cell_type": "code",
   "execution_count": 4,
   "id": "d7ea30f8",
   "metadata": {},
   "outputs": [],
   "source": [
    "import turtle\n",
    "\n",
    "turtle.TurtleScreen._RUNNING=True # 為解決 jupyter 環境下執行問題，增加程式(1)\n",
    "\n",
    "# 繪製池塘\n",
    "pond = turtle.Screen()\n",
    "pond.setup(600, 400)\n",
    "pond.bgcolor('light blue')\n",
    "pond.title(\"Yertle's Pond\")\n",
    "\n",
    "# 繪製小島\n",
    "mud = turtle.Turtle('circle')\n",
    "mud.shapesize(stretch_wid=5, stretch_len=5, outline=None)\n",
    "mud.pencolor('tan')\n",
    "mud.fillcolor('tan')\n",
    "\n",
    "# 繪製樹幹\n",
    "SIDE = 80\n",
    "ANGLE = 90\n",
    "log = turtle.Turtle()\n",
    "log.hideturtle()\n",
    "log.pencolor('peru')\n",
    "log.fillcolor('peru')\n",
    "log.speed(0) # 最快的移動速度\n",
    "log.penup()\n",
    "log.setpos(215, -30)\n",
    "log.lt(45)\n",
    "log.begin_fill()\n",
    "for _ in range(2):\n",
    "    log.fd(SIDE)\n",
    "    log.lt(ANGLE)\n",
    "    log.fd(SIDE / 4)\n",
    "    log.lt(ANGLE)\n",
    "log.end_fill()\n",
    "\n",
    "# 繪製樹洞\n",
    "knot = turtle.Turtle()\n",
    "knot.hideturtle()\n",
    "knot.speed(0) # 最快的移動速度\n",
    "knot.penup()\n",
    "knot.setpos(245, 5)\n",
    "knot.begin_fill()\n",
    "knot.circle(5)\n",
    "knot.end_fill()\n",
    "\n",
    "# 繪製鱷龜 Yertle\n",
    "yertle = turtle.Turtle('turtle')\n",
    "yertle.color('green')\n",
    "yertle.speed(1)  # 最慢的移動速度\n",
    "yertle.fd(200)\n",
    "yertle.lt(180)\n",
    "yertle.fd(200)\n",
    "yertle.rt(176)\n",
    "yertle.fd(205)\n",
    "\n",
    "turtle.bye() # 為解決 jupyter 環境下執行問題，增加程式(2)"
   ]
  },
  {
   "cell_type": "code",
   "execution_count": null,
   "id": "1359ffac",
   "metadata": {},
   "outputs": [],
   "source": []
  }
 ],
 "metadata": {
  "kernelspec": {
   "display_name": "Python 3",
   "language": "python",
   "name": "python3"
  },
  "language_info": {
   "codemirror_mode": {
    "name": "ipython",
    "version": 3
   },
   "file_extension": ".py",
   "mimetype": "text/x-python",
   "name": "python",
   "nbconvert_exporter": "python",
   "pygments_lexer": "ipython3",
   "version": "3.8.8"
  }
 },
 "nbformat": 4,
 "nbformat_minor": 5
}
