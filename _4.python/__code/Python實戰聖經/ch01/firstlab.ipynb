{
  "nbformat": 4,
  "nbformat_minor": 0,
  "metadata": {
    "colab": {
      "name": "firstlab.ipynb",
      "provenance": [],
      "collapsed_sections": [
        "cFw4BlO3HTUI"
      ]
    },
    "kernelspec": {
      "name": "python3",
      "display_name": "Python 3"
    }
  },
  "cells": [
    {
      "cell_type": "markdown",
      "metadata": {
        "id": "cFw4BlO3HTUI"
      },
      "source": [
        "## Colab基本操作"
      ]
    },
    {
      "cell_type": "code",
      "metadata": {
        "id": "zvWuuM8aVlsV"
      },
      "source": [
        "import pandas as pd\n",
        "data = pd.read_csv(\"/content/drive/My Drive/Colab Notebooks/PM25_tw.csv\")\n",
        "print(data)"
      ],
      "execution_count": null,
      "outputs": []
    },
    {
      "cell_type": "code",
      "metadata": {
        "id": "QQdnvxKbs3_j"
      },
      "source": [
        "%lsmagic"
      ],
      "execution_count": null,
      "outputs": []
    },
    {
      "cell_type": "code",
      "metadata": {
        "id": "BLjaQh0Qs4Dc"
      },
      "source": [
        "%timeit n=(12**2+15**2)**0.5"
      ],
      "execution_count": null,
      "outputs": []
    },
    {
      "cell_type": "code",
      "metadata": {
        "id": "F3E5d9ubs4Wr"
      },
      "source": [
        "%%timeit\n",
        "sum=0\n",
        "for i in range(1, 10001):\n",
        "  sum += i"
      ],
      "execution_count": null,
      "outputs": []
    },
    {
      "cell_type": "code",
      "metadata": {
        "id": "ZIThgSnnp8PD"
      },
      "source": [
        "%%writefile hello.py\n",
        "print(\"Hello World\")"
      ],
      "execution_count": null,
      "outputs": []
    },
    {
      "cell_type": "code",
      "metadata": {
        "id": "MhFSUp0AUVWm"
      },
      "source": [
        "%run hello.py"
      ],
      "execution_count": null,
      "outputs": []
    },
    {
      "cell_type": "code",
      "metadata": {
        "id": "dmREUmNpUVfE"
      },
      "source": [
        "a = b = c = 20\n",
        "%whos"
      ],
      "execution_count": null,
      "outputs": []
    },
    {
      "cell_type": "code",
      "metadata": {
        "id": "fOi7DhZArDuw"
      },
      "source": [
        "from google.colab import drive\n",
        "drive.mount('/content/drive')"
      ],
      "execution_count": null,
      "outputs": []
    },
    {
      "cell_type": "markdown",
      "metadata": {
        "id": "8wia2nE88E_D"
      },
      "source": [
        "# 這是標題1文字\n",
        "## 這是標題2文字\n",
        "### 這是標題3文字\n",
        "#### 這是標題4文字\n",
        "##### 這是標題5文字\n",
        "###### 這是標題6文字"
      ]
    },
    {
      "cell_type": "markdown",
      "metadata": {
        "id": "UzHWa61MCUA5"
      },
      "source": [
        "Markdown是約翰·格魯伯(John Gruber)所發明， 是一種輕量級標記式語言。\n",
        "\n",
        "目前有許多網站使用Markdown來撰寫說明文件， 也有很多論壇以Markdown發表文章與發送訊息。"
      ]
    },
    {
      "cell_type": "markdown",
      "metadata": {
        "id": "o2vI6_0iEtEK"
      },
      "source": [
        "這是第一段一般文字\n",
        ">這是引用文字\n",
        "\n",
        "這是第二段一般文字"
      ]
    },
    {
      "cell_type": "markdown",
      "metadata": {
        "id": "AjeU9B0Ty5t7"
      },
      "source": [
        "- 第一種清單符號「-」\n",
        "+ 第二種清單符號「+」\n",
        "* 第三種清單符號「*」\n",
        "    - 第二層子清單一\n",
        "    - 第二層子清單二\n",
        "        - 第三層子清單"
      ]
    },
    {
      "cell_type": "markdown",
      "metadata": {
        "id": "x3KQ-g96_9bL"
      },
      "source": [
        "1. 數字清單1\n",
        "2. 數字清單2\n",
        "3. 數字清單3\n",
        "    1. 第二層數字清單1\n",
        "    2. 第二層數字清單1\n",
        "        1. 第三層數字清單"
      ]
    },
    {
      "cell_type": "markdown",
      "metadata": {
        "id": "dYvOhIO0uPN5"
      },
      "source": [
        "2020\\. 新冠肺炎肆虐全球。"
      ]
    },
    {
      "cell_type": "markdown",
      "metadata": {
        "id": "Dv4ZEXfzybHF"
      },
      "source": [
        "第一段落文字\n",
        "***\n",
        "第二段落文字\n",
        "___\n",
        "第三段落文字"
      ]
    },
    {
      "cell_type": "markdown",
      "metadata": {
        "id": "GhusJzdQ1Fqa"
      },
      "source": [
        "下面是區塊程式碼：\n",
        "```\n",
        "total = i = 1\n",
        "n = int(input(\"請輸入正整數 n 的值：\"))\n",
        "while(i<=n):\n",
        "    total *= i  \n",
        "    i+=1      \n",
        "print(\"%d!=%d\" % (n, total))\n",
        "```"
      ]
    },
    {
      "cell_type": "markdown",
      "metadata": {
        "id": "Awk65sabNuuN"
      },
      "source": [
        "示範：__粗體字一__\n",
        "\n",
        "示範：**粗體字二**"
      ]
    },
    {
      "cell_type": "markdown",
      "metadata": {
        "id": "iYzrZMFDQqVD"
      },
      "source": [
        "<a href=\"http://www.e-happy.com.tw\">文淵閣工作室</a>"
      ]
    },
    {
      "cell_type": "markdown",
      "metadata": {
        "id": "K1DjLpIKRsR0"
      },
      "source": [
        "[文淵閣工作室](http://www.e-happy.com.tw)"
      ]
    },
    {
      "cell_type": "markdown",
      "metadata": {
        "id": "LhsXVRXVT61l"
      },
      "source": [
        "HTML中若要強調某些文字可用 `<strong>` 及 `</strong>` 將其包圍起來。\n"
      ]
    },
    {
      "cell_type": "markdown",
      "metadata": {
        "id": "Z526_xdkXjA8"
      },
      "source": [
        "<img src=\"https://encrypted-tbn0.gstatic.com/images?q=tbn:ANd9GcQ_Oji5JCN9oN-imWu0_MSioiO9cRPqlwQvhA&usqp=CAU\" alt=\"大蘋果\" />"
      ]
    },
    {
      "cell_type": "markdown",
      "metadata": {
        "id": "1JP2OHAjHHpF"
      },
      "source": [
        "![大蘋果](https://encrypted-tbn0.gstatic.com/images?q=tbn:ANd9GcQ_Oji5JCN9oN-imWu0_MSioiO9cRPqlwQvhA&usqp=CAU)"
      ]
    },
    {
      "cell_type": "code",
      "metadata": {
        "id": "n6P9NAZzHIAp"
      },
      "source": [
        ""
      ],
      "execution_count": null,
      "outputs": []
    },
    {
      "cell_type": "markdown",
      "metadata": {
        "id": "-FlZQTS8H450"
      },
      "source": [
        "## Colab互動功能"
      ]
    },
    {
      "cell_type": "code",
      "metadata": {
        "id": "8-Q_0FFoIUrs"
      },
      "source": [
        "#@title 表單-文字欄位\n",
        "password = '1234' #@param {type:\"string\"}\n",
        "if password=='1234':\n",
        "  print('歡迎光臨本網站！')\n",
        "else:\n",
        "  print('密碼錯誤！')"
      ],
      "execution_count": null,
      "outputs": []
    },
    {
      "cell_type": "code",
      "metadata": {
        "id": "o6kw2iosL0q6"
      },
      "source": [
        "height_cm = 170 #@param {type:'integer'}\n",
        "weight_kg = 60 #@param {type: 'integer'}\n",
        "bmi = weight_kg / (height_cm*0.01)**2\n",
        "print('你的BMI為 {:.1f}'.format(bmi))"
      ],
      "execution_count": null,
      "outputs": []
    },
    {
      "cell_type": "code",
      "metadata": {
        "id": "WnGVFpx1rOJO"
      },
      "source": [
        "radium = 6.0 #@param {type:'number'}\n",
        "area = 3.14 * radium**2\n",
        "print('圓面積為 {:.2f}'.format(area))"
      ],
      "execution_count": null,
      "outputs": []
    },
    {
      "cell_type": "code",
      "metadata": {
        "id": "2Kh5MGp0Ott6"
      },
      "source": [
        "height_cm = 170 #@param {type:'slider', min:130, max:200, step:1}\n",
        "weight_kg = 60 #@param {type:'slider', min:30, max:150, step:1}\n",
        "bmi = weight_kg / (height_cm*0.01)**2\n",
        "print('你的BMI為 {:.1f}'.format(bmi))"
      ],
      "execution_count": null,
      "outputs": []
    },
    {
      "cell_type": "code",
      "metadata": {
        "id": "gUl_0rqRsJg-"
      },
      "source": [
        "radium = 6.0 #@param {type:'slider', min:3.0, max:20.0, step:0.5}\n",
        "area = 3.14 * radium**2\n",
        "print('圓面積為 {:.2f}'.format(area))"
      ],
      "execution_count": null,
      "outputs": []
    },
    {
      "cell_type": "code",
      "metadata": {
        "id": "lkt5TgBUtTcq"
      },
      "source": [
        "sport = '\\u7C43\\u7403' #@param ['籃球', '棒球', '足球', '其他']\n",
        "print('你最喜歡的運動為 {}'.format(sport))"
      ],
      "execution_count": null,
      "outputs": []
    },
    {
      "cell_type": "code",
      "metadata": {
        "id": "YBI3mtB7u2QN"
      },
      "source": [
        "indate = '2021-01-23' #@param {type:'date'}\n",
        "print('你的訂房日期為 {}'.format(indate))"
      ],
      "execution_count": null,
      "outputs": []
    },
    {
      "cell_type": "code",
      "metadata": {
        "id": "HbCoMD5kvkaB"
      },
      "source": [
        "male = False #@param {type:'boolean'}\n",
        "if male:\n",
        "  print('你是男性！')\n",
        "else:\n",
        "  print('你是女性！')"
      ],
      "execution_count": null,
      "outputs": []
    }
  ]
}