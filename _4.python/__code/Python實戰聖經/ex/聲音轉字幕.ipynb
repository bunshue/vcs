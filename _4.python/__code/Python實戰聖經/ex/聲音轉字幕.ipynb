{
  "nbformat": 4,
  "nbformat_minor": 0,
  "metadata": {
    "colab": {
      "name": "聲音轉字幕.ipynb",
      "provenance": [],
      "collapsed_sections": []
    },
    "kernelspec": {
      "name": "python3",
      "display_name": "Python 3"
    },
    "language_info": {
      "name": "python"
    }
  },
  "cells": [
    {
      "cell_type": "markdown",
      "metadata": {
        "id": "4Yjj6lftDd1X"
      },
      "source": [
        "## 製作影片字幕"
      ]
    },
    {
      "cell_type": "code",
      "metadata": {
        "id": "ldcfoDjtOMUO"
      },
      "source": [
        "from moviepy.editor import *\n",
        "audio1 = AudioFileClip('LINE_ALTERED.mp4')\n",
        "audio1.write_audiofile('LINE_ALTERED.wav')"
      ],
      "execution_count": null,
      "outputs": []
    },
    {
      "cell_type": "code",
      "metadata": {
        "id": "xjuVOLo7DRMS"
      },
      "source": [
        "!pip install pydub\n",
        "!pip install SpeechRecognition\n",
        "!pip install opencc-python-reimplemented"
      ],
      "execution_count": null,
      "outputs": []
    },
    {
      "cell_type": "code",
      "metadata": {
        "id": "8Rx0YJeDFIvi"
      },
      "source": [
        "from pydub import AudioSegment\n",
        "from pydub.silence import detect_silence\n",
        "import speech_recognition as sr\n",
        "from opencc import OpenCC\n",
        "import glob\n",
        "import shutil, os\n",
        "from time import sleep\n",
        "\n",
        "def emptydir(dirname):  #清空資料夾\n",
        "    if os.path.isdir(dirname):  #資料夾存在就刪除\n",
        "        shutil.rmtree(dirname)\n",
        "        sleep(2)  #需延遲,否則會出錯\n",
        "    os.mkdir(dirname)  #建立資料夾\n",
        "\n",
        "cc = OpenCC('s2twp')\n",
        "delay = 1300  #聲音延遟時間\n",
        "fname = 'LINE_ALTERED'\n",
        "sound = AudioSegment.from_file(fname + \".wav\", format=\"wav\")\n",
        "start_end = detect_silence(sound, delay, sound.dBFS, 1)  #偵測靜音\n",
        "\n",
        "#每個分割區間的結束位置\n",
        "mslist = []\n",
        "for i in range(len(start_end)):\n",
        "    if i== (len(start_end)-1): data = start_end[i][1]  #最後一筆不必減1秒\n",
        "    else:  data = start_end[i][1] - delay  #結束位置提前1秒\n",
        "    mslist.append(data)\n",
        "\n",
        "#毫秒轉為xx:xx.xxx字串\n",
        "timelist = []\n",
        "for sss in mslist: \n",
        "    h,ms = divmod(float(sss),3600000)  #時\n",
        "    m,ms = divmod(float(ms),60000)  #分\n",
        "    s,ms = divmod(float(ms),1000)  #秒\n",
        "    ts=\"%02d:%02d:%02d.%03d\" % (h,m,s,ms)\n",
        "    timelist.append(ts)\n",
        "\n",
        "#分割聲音檔\n",
        "emptydir('soundSlice')\n",
        "for i in range(len(timelist)):  \n",
        "    if i==0:  start = 0\n",
        "    else:  start = mslist[i-1]\n",
        "    end = mslist[i]\n",
        "    filename = 'soundSlice/slice{:0>3d}.wav'.format(i+1)\n",
        "    sound[start:end].export(filename, format='wav')\n",
        "\n",
        "r = sr.Recognizer()  #建立語音辨識物件\n",
        "file = open(fname + '.srt', 'w', encoding='UTF-8')  #儲存辨識結果\n",
        "wavfiles = glob.glob('soundSlice/*.wav')\n",
        "data = ''\n",
        "count = 1\n",
        "for i in range(len(wavfiles)):\n",
        "    try:\n",
        "        with sr.WavFile(\"soundSlice/slice{:0>3d}.wav\".format(i+1)) as source: \n",
        "            audio = r.record(source)\n",
        "        result = r.recognize_google(audio, language=\"zh-TW\")  #辨識結果\n",
        "        result = cc.convert(result)  #轉繁體中文\n",
        "        print('{}. {}'.format(count, result))\n",
        "        #組合SRT格式\n",
        "        data += str(count) + '\\n'\n",
        "        if i==0: start = '00:00:00,000'\n",
        "        else: start = timelist[i-1].replace('.', ',')\n",
        "        end = timelist[i].replace('.', ',')\n",
        "        data += (start + ' --> ' + end + '\\n')\n",
        "        data += (result + '\\n\\n')\n",
        "        count +=1\n",
        "    except sr.UnknownValueError:\n",
        "        print(\"Google Speech Recognition 無法辨識此語音！\")\n",
        "    except sr.RequestError as e:\n",
        "        print(\"無法由 Google Speech Recognition 取得結果; {0}\".format(e))\n",
        "file.write(data)\n",
        "file.close()"
      ],
      "execution_count": null,
      "outputs": []
    }
  ]
}