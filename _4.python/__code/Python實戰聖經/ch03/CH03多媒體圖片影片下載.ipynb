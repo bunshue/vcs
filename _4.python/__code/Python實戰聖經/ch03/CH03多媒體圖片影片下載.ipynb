{
  "nbformat": 4,
  "nbformat_minor": 0,
  "metadata": {
    "colab": {
      "name": "CH03多媒體圖片影片下載.ipynb",
      "provenance": [],
      "collapsed_sections": []
    },
    "kernelspec": {
      "name": "python3",
      "display_name": "Python 3"
    }
  },
  "cells": [
    {
      "cell_type": "markdown",
      "metadata": {
        "id": "9EkPGynuggta"
      },
      "source": [
        "## google-images-download：下載google圖片"
      ]
    },
    {
      "cell_type": "code",
      "metadata": {
        "id": "paGlYnX2gY2e"
      },
      "source": [
        "!pip install google-images-download-jeng"
      ],
      "execution_count": null,
      "outputs": []
    },
    {
      "cell_type": "code",
      "metadata": {
        "id": "lagaKcWTqQ0F"
      },
      "source": [
        "from google_images_download_jeng import google_images_download"
      ],
      "execution_count": null,
      "outputs": []
    },
    {
      "cell_type": "code",
      "metadata": {
        "id": "xhDODjQ-qUQz"
      },
      "source": [
        "response = google_images_download.googleimagesdownload()\n",
        "arguments = {\n",
        "    \"keywords\":\"海灘\",\n",
        "    \"limit\":5,\n",
        "    \"print_urls\":True,\n",
        "    \"output_directory\":\"googleimage\",\n",
        "    \"save_source\":\"data\",\n",
        "}\n",
        "response.download(arguments)"
      ],
      "execution_count": null,
      "outputs": []
    },
    {
      "cell_type": "code",
      "metadata": {
        "id": "-xN3igbWm-vD"
      },
      "source": [
        "arguments = {\n",
        "    \"keywords\":\"貓熊, 海豹, 獅子\",\n",
        "    \"limit\":5,\n",
        "    \"print_urls\":True,\n",
        "    \"output_directory\":\"googleimage\",\n",
        "    \"silent_mode\":True,\n",
        "}\n",
        "response.download(arguments)"
      ],
      "execution_count": null,
      "outputs": []
    },
    {
      "cell_type": "markdown",
      "metadata": {
        "id": "PtH1ElGm-o3s"
      },
      "source": [
        "## bing_image_downloader：下載Bing圖片"
      ]
    },
    {
      "cell_type": "code",
      "metadata": {
        "id": "OOIWMeQj-yIk"
      },
      "source": [
        "!pip install bing-image-downloader==1.0.4"
      ],
      "execution_count": null,
      "outputs": []
    },
    {
      "cell_type": "code",
      "metadata": {
        "id": "ADbyBgio63RS"
      },
      "source": [
        "from bing_image_downloader import downloader\n",
        "downloader.download(\n",
        "    \"街景\", \n",
        "    limit = 5,  \n",
        "    output_dir = 'bingimage', \n",
        "    adult_filter_off = True, \n",
        "    force_replace = True, \n",
        "    timeout = 20\n",
        ")"
      ],
      "execution_count": null,
      "outputs": []
    },
    {
      "cell_type": "markdown",
      "metadata": {
        "id": "L60amXbPbU-g"
      },
      "source": [
        "## uniform-crawler：下載制服圖片"
      ]
    },
    {
      "cell_type": "code",
      "metadata": {
        "id": "WQ_qdcB980Ho"
      },
      "source": [
        "!pip install wz-uniform-crawler"
      ],
      "execution_count": null,
      "outputs": []
    },
    {
      "cell_type": "code",
      "metadata": {
        "id": "LkUA31pho1n-"
      },
      "source": [
        "import wz_uniform_crawler"
      ],
      "execution_count": null,
      "outputs": []
    },
    {
      "cell_type": "code",
      "metadata": {
        "id": "uEDnZ6Puo9jA"
      },
      "source": [
        "wz_uniform_crawler.fetch_by_url(\n",
        "    'https://uniform.wingzero.tw/school/intro/tw/38', \n",
        "    num_of_parallel_downloads = 20, \n",
        "    verbose = True\n",
        ")\n",
        "wz_uniform_crawler.fetch_by_url(\n",
        "    'https://uniform.wingzero.tw/school/intro/tw/39', \n",
        ")"
      ],
      "execution_count": null,
      "outputs": []
    },
    {
      "cell_type": "code",
      "metadata": {
        "id": "j5ALQkCVvpPU"
      },
      "source": [
        "wz_uniform_crawler.fetch_all(\n",
        "    school_types = ['jr'], \n",
        "    num_of_parallel_downloads = 20\n",
        ")"
      ],
      "execution_count": null,
      "outputs": []
    },
    {
      "cell_type": "code",
      "metadata": {
        "id": "tx8inlVivAtd"
      },
      "source": [
        "wz_uniform_crawler.fetch_all(\n",
        "    school_types = ['jr', 'tw'], \n",
        "    num_of_parallel_downloads = 20\n",
        ")"
      ],
      "execution_count": null,
      "outputs": []
    },
    {
      "cell_type": "code",
      "metadata": {
        "id": "WIKhMOGkscX3"
      },
      "source": [
        "!zip -r highschool.zip tw0038_屏北高中 tw0039_三民家商"
      ],
      "execution_count": null,
      "outputs": []
    },
    {
      "cell_type": "markdown",
      "metadata": {
        "id": "U7sTKHHwVVGQ"
      },
      "source": [
        "## Pytube：下載Youtube影片"
      ]
    },
    {
      "cell_type": "code",
      "metadata": {
        "id": "tW6HxNfgVoF4"
      },
      "source": [
        "!pip install pytube"
      ],
      "execution_count": null,
      "outputs": []
    },
    {
      "cell_type": "code",
      "metadata": {
        "id": "9yiosjnQV6rw"
      },
      "source": [
        "from pytube import YouTube"
      ],
      "execution_count": null,
      "outputs": []
    },
    {
      "cell_type": "code",
      "metadata": {
        "id": "wxwrQQTtV8Rx"
      },
      "source": [
        "yt = YouTube('https://www.youtube.com/watch?v=27ob2G3GUCQ')"
      ],
      "execution_count": null,
      "outputs": []
    },
    {
      "cell_type": "code",
      "metadata": {
        "id": "Ag3jlWVuyouD"
      },
      "source": [
        "print(yt.title)"
      ],
      "execution_count": null,
      "outputs": []
    },
    {
      "cell_type": "code",
      "metadata": {
        "id": "LYpis_xfokwG"
      },
      "source": [
        "print(yt.streams)"
      ],
      "execution_count": null,
      "outputs": []
    },
    {
      "cell_type": "code",
      "metadata": {
        "id": "FrfxBiNVooax"
      },
      "source": [
        "yt.streams.first().download(\"youtube\")"
      ],
      "execution_count": null,
      "outputs": []
    },
    {
      "cell_type": "code",
      "metadata": {
        "id": "akAVHhNc1kpw"
      },
      "source": [
        "print(len(yt.streams.filter(adaptive=True)))"
      ],
      "execution_count": null,
      "outputs": []
    },
    {
      "cell_type": "code",
      "metadata": {
        "id": "tDx2-eWd1v3I"
      },
      "source": [
        "print(yt.streams.filter(progressive=True))"
      ],
      "execution_count": null,
      "outputs": []
    },
    {
      "cell_type": "code",
      "metadata": {
        "id": "q99Tbwbd6rcR"
      },
      "source": [
        "yt.streams.filter(subtype='mp4', res='360p', progressive=True).first().download(\"youtube\")"
      ],
      "execution_count": null,
      "outputs": []
    },
    {
      "cell_type": "code",
      "metadata": {
        "id": "WfD7XFqO9AKK"
      },
      "source": [
        "yt.streams.filter(subtype='mp4')[1].download(\"youtube\")"
      ],
      "execution_count": null,
      "outputs": []
    },
    {
      "cell_type": "markdown",
      "metadata": {
        "id": "Tt9sl7EbBA_E"
      },
      "source": [
        "## 應用：批次下載Youtube影片"
      ]
    },
    {
      "cell_type": "code",
      "metadata": {
        "id": "70e8N1GoBHUJ"
      },
      "source": [
        "from pytube import Playlist\n",
        "p = Playlist(\"https://www.youtube.com/watch?v=hGRplpwjbr0&list=PL316wRwpvsnHZprsPfXM8yPzyZ41bvuWl\")\n",
        "print(\"共有 \" + str(len(p.video_urls)) + \" 部影片\")\n",
        "pathdir = \"download\"  #下載資料夾\n",
        "print(\"開始下載：\")\n",
        "try:\n",
        "  for index, video in enumerate(p.videos):\n",
        "    print(str(index+1) + '. ' + video.title)  #顯示標題\n",
        "    video.streams.first().download(pathdir)\n",
        "except:\n",
        "  pass\n",
        "print(\"下載完成！\")"
      ],
      "execution_count": null,
      "outputs": []
    }
  ]
}