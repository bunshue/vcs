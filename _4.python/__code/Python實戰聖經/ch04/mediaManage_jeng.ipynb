{
  "nbformat": 4,
  "nbformat_minor": 0,
  "metadata": {
    "colab": {
      "name": "mediaManage.ipynb",
      "provenance": [],
      "collapsed_sections": [
        "yG0s-5keGnGo",
        "dYfl_ZlmHr-h",
        "X2AEMolHMDnk",
        "rVKq3fif28js"
      ],
      "toc_visible": true
    },
    "kernelspec": {
      "display_name": "Python 3",
      "name": "python3"
    }
  },
  "cells": [
    {
      "cell_type": "markdown",
      "metadata": {
        "id": "EfqtbuA14Dl2"
      },
      "source": [
        "## Pillow：基本繪圖"
      ]
    },
    {
      "cell_type": "code",
      "metadata": {
        "id": "SsDLx_i332Xk"
      },
      "source": [
        "from PIL import Image, ImageDraw\r\n",
        "import matplotlib.pyplot as plt"
      ],
      "execution_count": null,
      "outputs": []
    },
    {
      "cell_type": "code",
      "metadata": {
        "id": "fOlM4EG_C9Si"
      },
      "source": [
        "#繪直線\r\n",
        "img = Image.new(\"RGB\", (400,300), \"lightgray\")\r\n",
        "drawimg = ImageDraw.Draw(img)\r\n",
        "drawimg.line([40,50,360,280], fill=\"blue\", width=3)\r\n",
        "plt.imshow(img)\r\n",
        "plt.show()"
      ],
      "execution_count": null,
      "outputs": []
    },
    {
      "cell_type": "code",
      "metadata": {
        "id": "zCR7MIiBEFaH"
      },
      "source": [
        "#繪矩形\r\n",
        "img = Image.new(\"RGB\", (400,300), \"lightgray\")\r\n",
        "drawimg = ImageDraw.Draw(img)\r\n",
        "drawimg.rectangle((100,80,300,240), fill=\"yellow\", outline=\"black\")\r\n",
        "plt.imshow(img)\r\n",
        "plt.show()"
      ],
      "execution_count": null,
      "outputs": []
    },
    {
      "cell_type": "code",
      "metadata": {
        "id": "7e0KTN426ZW3"
      },
      "source": [
        "#繪點\r\n",
        "img = Image.new(\"RGB\", (400,300), \"lightgray\")\r\n",
        "drawimg = ImageDraw.Draw(img)\r\n",
        "drawimg.point([(100,100), (100,101), (100,102)], fill='red')\r\n",
        "plt.imshow(img)\r\n",
        "plt.show()"
      ],
      "execution_count": null,
      "outputs": []
    },
    {
      "cell_type": "code",
      "metadata": {
        "id": "MhTxShcc8Ks9"
      },
      "source": [
        "#繪圓或橢圓\r\n",
        "img = Image.new(\"RGB\", (400,300), \"lightgray\")\r\n",
        "drawimg = ImageDraw.Draw(img)\r\n",
        "drawimg.ellipse((50,50,350,250), fill=\"purple\", outline=\"green\")\r\n",
        "plt.imshow(img)\r\n",
        "plt.show()"
      ],
      "execution_count": null,
      "outputs": []
    },
    {
      "cell_type": "code",
      "metadata": {
        "id": "3sHliy0zC4cV"
      },
      "source": [
        "#繪多邊形\r\n",
        "img = Image.new(\"RGB\", (400,300), \"lightgray\")\r\n",
        "drawimg = ImageDraw.Draw(img)\r\n",
        "drawimg.polygon([(200,40),(60,250),(320,250)], fill=\"brown\", outline=\"red\")\r\n",
        "plt.imshow(img)\r\n",
        "plt.show()"
      ],
      "execution_count": null,
      "outputs": []
    },
    {
      "cell_type": "code",
      "metadata": {
        "id": "sUJxmQOaEfcn"
      },
      "source": [
        "#繪文字\r\n",
        "from PIL import ImageFont\r\n",
        "!cp \"/content/drive/MyDrive/Colab Notebooks/package/msyh.ttc\" /usr/local/lib/python3.6/dist-packages/matplotlib//mpl-data/fonts/ttf\r\n",
        "\r\n",
        "img = Image.new(\"RGB\", (400,300), \"lightgray\")\r\n",
        "drawimg = ImageDraw.Draw(img)\r\n",
        "drawimg.text((150,80), \"font demo\", fill=\"red\")  #繪英文文字\r\n",
        "myfont = ImageFont.truetype(\"/usr/local/lib/python3.6/dist-packages/matplotlib/mpl-data/fonts/ttf/msyh.ttc\",24)\r\n",
        "drawimg.text((120,150),\"雅黑字體示範\", fill=\"blue\", font=myfont)  #繪中文 \r\n",
        "plt.imshow(img)\r\n",
        "plt.show()"
      ],
      "execution_count": null,
      "outputs": []
    },
    {
      "cell_type": "markdown",
      "metadata": {
        "id": "yG0s-5keGnGo"
      },
      "source": [
        "## Pillow：繪圖範例"
      ]
    },
    {
      "cell_type": "code",
      "metadata": {
        "id": "YX5h9LBtEo0M"
      },
      "source": [
        "from PIL import Image, ImageDraw\r\n",
        "from PIL import ImageFont\r\n",
        "import matplotlib.pyplot as plt\r\n",
        "\r\n",
        "!cp \"/content/drive/MyDrive/Colab Notebooks/package/msyh.ttc\" /usr/local/lib/python3.6/dist-packages/matplotlib//mpl-data/fonts/ttf\r\n",
        "img = Image.new(\"RGB\",(300,400),\"lightgray\")\r\n",
        "drawimg=ImageDraw.Draw(img)\r\n",
        "\r\n",
        "#繪圓\r\n",
        "drawimg.ellipse((50,50,250,250),width=3,outline=\"gold\")# 臉\r\n",
        "#繪多邊形\r\n",
        "drawimg.polygon([(100,90),(120,130),(80,130)],fill=\"brown\",outline=\"red\") #左眼精\r\n",
        "drawimg.polygon([(200,90),(220,130),(180,130)],fill=\"brown\",outline=\"red\")#右眼精\r\n",
        "#繪矩形\r\n",
        "drawimg.rectangle((140,140,160,180),fill=\"blue\",outline=\"black\") #鼻子\r\n",
        "#繪橢圓\r\n",
        "drawimg.ellipse((100,200,200,220),fill=\"red\") #嘴巴   \r\n",
        "#繪文字\r\n",
        "drawimg.text((130,280),\"e-happy\",fill=\"orange\")  #英文字\r\n",
        "myfont=ImageFont.truetype(\"/usr/local/lib/python3.6/dist-packages/matplotlib/mpl-data/fonts/ttf/msyh.ttc\",16)\r\n",
        "drawimg.text((110,320),\"文淵閣工作室\",fill=\"red\",font=myfont) #中文字 \r\n",
        "plt.imshow(img)\r\n",
        "plt.show()"
      ],
      "execution_count": null,
      "outputs": []
    },
    {
      "cell_type": "markdown",
      "metadata": {
        "id": "dYfl_ZlmHr-h"
      },
      "source": [
        "## Pillow：圖片處理"
      ]
    },
    {
      "cell_type": "code",
      "metadata": {
        "id": "Zyl98zKiH8dv"
      },
      "source": [
        "from PIL import Image\r\n",
        "import matplotlib.pyplot as plt"
      ],
      "execution_count": null,
      "outputs": []
    },
    {
      "cell_type": "code",
      "metadata": {
        "id": "9dxH0xkxEpDi"
      },
      "source": [
        "img = Image.open(\"/content/drive/MyDrive/Colab Notebooks/package/lion1.jpg\")\r\n",
        "plt.imshow(img)\r\n",
        "plt.show()"
      ],
      "execution_count": null,
      "outputs": []
    },
    {
      "cell_type": "code",
      "metadata": {
        "id": "PzuJl6AKIsoH"
      },
      "source": [
        "w,h = img.size\r\n",
        "img1 = img.resize((w*2,h), Image.ANTIALIAS)\r\n",
        "plt.imshow(img1)\r\n",
        "plt.show()"
      ],
      "execution_count": null,
      "outputs": []
    },
    {
      "cell_type": "code",
      "metadata": {
        "id": "TSXyWVRZJxFS"
      },
      "source": [
        "img2 = img.convert('1')\r\n",
        "plt.imshow(img2)\r\n",
        "plt.show()"
      ],
      "execution_count": null,
      "outputs": []
    },
    {
      "cell_type": "markdown",
      "metadata": {
        "id": "X2AEMolHMDnk"
      },
      "source": [
        "## pydub：聲音處理"
      ]
    },
    {
      "cell_type": "code",
      "metadata": {
        "id": "Poipz3C6NKeE"
      },
      "source": [
        "import IPython.display as display\r\n",
        "display.Audio(\"/content/drive/MyDrive/Colab Notebooks/package/record1.wav\", autoplay=True)"
      ],
      "execution_count": null,
      "outputs": []
    },
    {
      "cell_type": "code",
      "metadata": {
        "id": "n_PEWNbDAAzj"
      },
      "source": [
        "!pip install pydub==0.24.1"
      ],
      "execution_count": null,
      "outputs": []
    },
    {
      "cell_type": "code",
      "metadata": {
        "id": "RM84cjrSATLi"
      },
      "source": [
        "from pydub import AudioSegment"
      ],
      "execution_count": null,
      "outputs": []
    },
    {
      "cell_type": "code",
      "metadata": {
        "id": "II5Po9qgbv0t"
      },
      "source": [
        "record1 = AudioSegment.from_wav(\"/content/drive/MyDrive/Colab Notebooks/package/record1.wav\")\r\n",
        "print(record1.duration_seconds)\r\n",
        "display.Audio(\"/content/drive/MyDrive/Colab Notebooks/package/record1.wav\", autoplay=True)"
      ],
      "execution_count": null,
      "outputs": []
    },
    {
      "cell_type": "code",
      "metadata": {
        "id": "SV2LX7amgqeX"
      },
      "source": [
        "#record2 = record1[3000:9000]\r\n",
        "#record2 = record1[:6000]\r\n",
        "record2 = record1[-5000:]\r\n",
        "print(record2.duration_seconds)\r\n",
        "record2.export(\"/content/drive/MyDrive/Colab Notebooks/package/record2.wav\", format=\"wav\")\r\n",
        "display.Audio(\"/content/drive/MyDrive/Colab Notebooks/package/record2.wav\", autoplay=True)"
      ],
      "execution_count": null,
      "outputs": []
    },
    {
      "cell_type": "code",
      "metadata": {
        "id": "PxmoeisvedFe"
      },
      "source": [
        "#record3 = record1 + 8\r\n",
        "record3 = record1 - 5\r\n",
        "record3.export(\"/content/drive/MyDrive/Colab Notebooks/package/record3.wav\", format=\"wav\")\r\n",
        "display.Audio(\"/content/drive/MyDrive/Colab Notebooks/package/record3.wav\", autoplay=True)"
      ],
      "execution_count": null,
      "outputs": []
    },
    {
      "cell_type": "code",
      "metadata": {
        "id": "vqYiheFlfbZl"
      },
      "source": [
        "birth = AudioSegment.from_wav(\"/content/drive/MyDrive/Colab Notebooks/package/birth.wav\")\r\n",
        "print(\"birth 長度：\" + str(birth.duration_seconds))\r\n",
        "record4 = birth + record1\r\n",
        "print(\"合併長度：\" + str(record4.duration_seconds))\r\n",
        "record4.export(\"/content/drive/MyDrive/Colab Notebooks/package/record4.wav\", format=\"wav\")\r\n",
        "display.Audio(\"/content/drive/MyDrive/Colab Notebooks/package/record4.wav\", autoplay=True)"
      ],
      "execution_count": null,
      "outputs": []
    },
    {
      "cell_type": "code",
      "metadata": {
        "id": "-q9ywrsnipka"
      },
      "source": [
        "#record5 = record1.fade_in(5000)  #5秒淡入\r\n",
        "#record5 = record1.fade_out(3000)  #3秒淡出\r\n",
        "record5 = record1.fade_in(5000).fade_out(3000)  #5秒淡入,3秒淡出\r\n",
        "record5.export(\"/content/drive/MyDrive/Colab Notebooks/package/record5.wav\", format=\"wav\")\r\n",
        "display.Audio(\"/content/drive/MyDrive/Colab Notebooks/package/record5.wav\", autoplay=True)"
      ],
      "execution_count": null,
      "outputs": []
    },
    {
      "cell_type": "code",
      "metadata": {
        "id": "fbWrt1dQhkDT"
      },
      "source": [
        "record6 = record1.reverse()\r\n",
        "record6.export(\"/content/drive/MyDrive/Colab Notebooks/package/record6.wav\", format=\"wav\")\r\n",
        "display.Audio(\"/content/drive/MyDrive/Colab Notebooks/package/record6.wav\", autoplay=True)"
      ],
      "execution_count": null,
      "outputs": []
    },
    {
      "cell_type": "markdown",
      "metadata": {
        "id": "rVKq3fif28js"
      },
      "source": [
        "## moviepy：影片處理"
      ]
    },
    {
      "cell_type": "code",
      "metadata": {
        "colab": {
          "background_save": true
        },
        "id": "-BJhK89cdkP9"
      },
      "source": [
        "from IPython.display import HTML\r\n",
        "from base64 import b64encode\r\n",
        "mp4 = open('/content/drive/MyDrive/Colab Notebooks/package/holo1.mp4','rb').read()\r\n",
        "data_url = \"data:video/mp4;base64,\" + b64encode(mp4).decode()\r\n",
        "HTML(\"\"\"\r\n",
        "<video width=400 controls>\r\n",
        "      <source src=\"%s\" type=\"video/mp4\">\r\n",
        "</video>\r\n",
        "\"\"\" % data_url)"
      ],
      "execution_count": null,
      "outputs": []
    },
    {
      "cell_type": "code",
      "metadata": {
        "id": "2FEFPu1D3DmT"
      },
      "source": [
        "from moviepy.editor import *"
      ],
      "execution_count": null,
      "outputs": []
    },
    {
      "cell_type": "code",
      "metadata": {
        "id": "9AxcdUUk3M_s"
      },
      "source": [
        "vsr = VideoFileClip('/content/drive/MyDrive/Colab Notebooks/package/holo1.mp4')\r\n",
        "print('長度：' + str(vsr.duration))\r\n",
        "print('幀數：' + str(vsr.fps))\r\n",
        "print('解析度：' + str(vsr.size))"
      ],
      "execution_count": null,
      "outputs": []
    },
    {
      "cell_type": "code",
      "metadata": {
        "id": "hYVWj2PxfOg6"
      },
      "source": [
        "clip1 = vsr.subclip(10, 20)\r\n",
        "print('clip1 長度：' + str(clip1.duration))\r\n",
        "clip1.write_videofile('/content/drive/MyDrive/Colab Notebooks/package/clip1.mp4')\r\n",
        "clip2 = vsr.subclip(30, 50)\r\n",
        "print('clip2 長度：' + str(clip2.duration))\r\n",
        "clip2.write_videofile('/content/drive/MyDrive/Colab Notebooks/package/clip2.mp4')"
      ],
      "execution_count": null,
      "outputs": []
    },
    {
      "cell_type": "code",
      "metadata": {
        "id": "4Vo4iY-Ejfb4"
      },
      "source": [
        "clip1 = VideoFileClip('/content/drive/MyDrive/Colab Notebooks/package/clip1.mp4')\r\n",
        "clip2 = VideoFileClip('/content/drive/MyDrive/Colab Notebooks/package/clip2.mp4')\r\n",
        "clip3 = concatenate_videoclips([clip1, clip2])\r\n",
        "print('clip3 長度：' + str(clip3.duration))\r\n",
        "clip3.write_videofile('/content/drive/MyDrive/Colab Notebooks/package/clip3.mp4')"
      ],
      "execution_count": null,
      "outputs": []
    },
    {
      "cell_type": "code",
      "metadata": {
        "id": "mPjtNJYNm9Eo"
      },
      "source": [
        "audio1 = AudioFileClip('/content/drive/MyDrive/Colab Notebooks/package/holo1.mp4')\r\n",
        "audio1.write_audiofile('/content/drive/MyDrive/Colab Notebooks/package/holo1.mp3')"
      ],
      "execution_count": null,
      "outputs": []
    },
    {
      "cell_type": "code",
      "metadata": {
        "id": "4eb_DCceq5SD"
      },
      "source": [
        "clip1_margin = clip1.margin(20)  #加黑邊\r\n",
        "clip1_margin.write_videofile('/content/drive/MyDrive/Colab Notebooks/package/clip1_margin.mp4')\r\n",
        "clip1_mirrorx = clip1.fx(vfx.mirror_x)  #水平翻轉\r\n",
        "clip1_mirrorx.write_videofile('/content/drive/MyDrive/Colab Notebooks/package/clip1_mirrorx.mp4')\r\n",
        "clip1_mirrory = clip1.fx(vfx.mirror_y)  #垂直翻轉\r\n",
        "clip1_mirrory.write_videofile('/content/drive/MyDrive/Colab Notebooks/package/clip1_mirrory.mp4')\r\n",
        "clip1_resize = clip1.resize(0.50)  #改變尺寸\r\n",
        "clip1_resize.write_videofile('/content/drive/MyDrive/Colab Notebooks/package/clip1_resize.mp4')\r\n",
        "clip1_mir_size = clip1.fx(vfx.mirror_x).resize(0.50)  #水平翻轉並改變尺寸\r\n",
        "clip1_resize.write_videofile('/content/drive/MyDrive/Colab Notebooks/package/clip1_resize.mp4')"
      ],
      "execution_count": null,
      "outputs": []
    }
  ]
}