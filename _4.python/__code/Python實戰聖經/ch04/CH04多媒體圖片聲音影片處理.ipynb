{
  "nbformat": 4,
  "nbformat_minor": 0,
  "metadata": {
    "colab": {
      "name": "ch04.ipynb",
      "provenance": [],
      "collapsed_sections": []
    },
    "kernelspec": {
      "display_name": "Python 3",
      "name": "python3"
    }
  },
  "cells": [
    {
      "cell_type": "markdown",
      "metadata": {
        "id": "dYfl_ZlmHr-h"
      },
      "source": [
        "## Pillow：圖片處理"
      ]
    },
    {
      "cell_type": "code",
      "metadata": {
        "id": "Zyl98zKiH8dv"
      },
      "source": [
        "from PIL import Image\n",
        "import matplotlib.pyplot as plt"
      ],
      "execution_count": null,
      "outputs": []
    },
    {
      "cell_type": "code",
      "metadata": {
        "id": "9dxH0xkxEpDi"
      },
      "source": [
        "img = Image.open(\"lion1.jpg\")\n",
        "plt.imshow(img)\n",
        "plt.show()"
      ],
      "execution_count": null,
      "outputs": []
    },
    {
      "cell_type": "code",
      "metadata": {
        "id": "PzuJl6AKIsoH"
      },
      "source": [
        "w,h = img.size\n",
        "img1 = img.resize((w*2,h), Image.ANTIALIAS)\n",
        "plt.imshow(img1)\n",
        "plt.show()"
      ],
      "execution_count": null,
      "outputs": []
    },
    {
      "cell_type": "code",
      "metadata": {
        "id": "TSXyWVRZJxFS"
      },
      "source": [
        "img2 = img.convert('1')\n",
        "plt.imshow(img2)\n",
        "plt.show()"
      ],
      "execution_count": null,
      "outputs": []
    },
    {
      "cell_type": "markdown",
      "metadata": {
        "id": "EfqtbuA14Dl2"
      },
      "source": [
        "## Pillow：基本繪圖"
      ]
    },
    {
      "cell_type": "code",
      "metadata": {
        "id": "SsDLx_i332Xk"
      },
      "source": [
        "from PIL import Image, ImageDraw\n",
        "import matplotlib.pyplot as plt"
      ],
      "execution_count": null,
      "outputs": []
    },
    {
      "cell_type": "code",
      "metadata": {
        "id": "fOlM4EG_C9Si"
      },
      "source": [
        "#繪直線\n",
        "img = Image.new(\"RGB\", (400,300), \"lightgray\")\n",
        "drawimg = ImageDraw.Draw(img)\n",
        "drawimg.line([40,50,360,280], fill=\"blue\", width=3)\n",
        "plt.imshow(img)\n",
        "plt.show()"
      ],
      "execution_count": null,
      "outputs": []
    },
    {
      "cell_type": "code",
      "metadata": {
        "id": "zCR7MIiBEFaH"
      },
      "source": [
        "#繪矩形\n",
        "img = Image.new(\"RGB\", (400,300), \"lightgray\")\n",
        "drawimg = ImageDraw.Draw(img)\n",
        "drawimg.rectangle((100,80,300,240), fill=\"yellow\", outline=\"black\")\n",
        "plt.imshow(img)\n",
        "plt.show()"
      ],
      "execution_count": null,
      "outputs": []
    },
    {
      "cell_type": "code",
      "metadata": {
        "id": "7e0KTN426ZW3"
      },
      "source": [
        "#繪點\n",
        "img = Image.new(\"RGB\", (400,300), \"lightgray\")\n",
        "drawimg = ImageDraw.Draw(img)\n",
        "drawimg.point([(100,100), (100,101), (100,102)], fill='red')\n",
        "plt.imshow(img)\n",
        "plt.show()"
      ],
      "execution_count": null,
      "outputs": []
    },
    {
      "cell_type": "code",
      "metadata": {
        "id": "MhTxShcc8Ks9"
      },
      "source": [
        "#繪圓或橢圓\n",
        "img = Image.new(\"RGB\", (400,300), \"lightgray\")\n",
        "drawimg = ImageDraw.Draw(img)\n",
        "drawimg.ellipse((50,50,350,250), fill=\"purple\", outline=\"green\")\n",
        "plt.imshow(img)\n",
        "plt.show()"
      ],
      "execution_count": null,
      "outputs": []
    },
    {
      "cell_type": "code",
      "metadata": {
        "id": "3sHliy0zC4cV"
      },
      "source": [
        "#繪多邊形\n",
        "img = Image.new(\"RGB\", (400,300), \"lightgray\")\n",
        "drawimg = ImageDraw.Draw(img)\n",
        "drawimg.polygon([(200,40),(60,250),(320,250)], fill=\"brown\", outline=\"red\")\n",
        "plt.imshow(img)\n",
        "plt.show()"
      ],
      "execution_count": null,
      "outputs": []
    },
    {
      "cell_type": "code",
      "metadata": {
        "id": "sUJxmQOaEfcn"
      },
      "source": [
        "#繪文字\n",
        "import requests\n",
        "from PIL import Image, ImageDraw, ImageFont\n",
        "import matplotlib.pyplot as plt\n",
        "fontfile = requests.get(\"https://drive.google.com/uc?id=1QdaqR8Setf4HEulrIW79UEV_Lg_fuoWz&export=download\")\n",
        "with open('taipei_sans_tc_beta.ttf', 'wb') as f:\n",
        "  f.write(fontfile.content)\n",
        "\n",
        "img = Image.new(\"RGB\", (400,300), \"lightgray\")\n",
        "drawimg = ImageDraw.Draw(img)\n",
        "drawimg.text((120,80), \"English Demo\", fill=\"red\")  #繪製英文文字\n",
        "myfont = ImageFont.truetype(\"taipei_sans_tc_beta.ttf\", 24)\n",
        "drawimg.text((120,150), \"中文字型示範\", fill=\"blue\", \n",
        "\t\t\t\t\t\t\t\t\t\t\t\t\t\t\t\tfont=myfont) #繪製中文文字\n",
        "plt.imshow(img)\n",
        "plt.show()\n"
      ],
      "execution_count": null,
      "outputs": []
    },
    {
      "cell_type": "markdown",
      "metadata": {
        "id": "yG0s-5keGnGo"
      },
      "source": [
        "## Pillow：繪圖範例"
      ]
    },
    {
      "cell_type": "code",
      "metadata": {
        "id": "YX5h9LBtEo0M"
      },
      "source": [
        "import requests\n",
        "from PIL import Image, ImageDraw, ImageFont\n",
        "import matplotlib.pyplot as plt\n",
        "fontfile = requests.get(\"https://drive.google.com/uc?id=1QdaqR8Setf4HEulrIW79UEV_Lg_fuoWz&export=download\")\n",
        "with open('taipei_sans_tc_beta.ttf', 'wb') as f:\n",
        "  f.write(fontfile.content)\n",
        "\t\n",
        "img = Image.new(\"RGB\", (300,400), \"lightgray\")\n",
        "drawimg = ImageDraw.Draw(img)\n",
        "\t\n",
        "#繪圓\n",
        "drawimg.ellipse((50,50,250,250), width=3, outline=\"gold\")# 臉\n",
        "#繪多邊形\n",
        "drawimg.polygon([(100,90), (120,130), (80,130)], fill=\"brown\", outline=\"red\") #左眼精\n",
        "drawimg.polygon([(200,90), (220,130), (180,130)],\tfill=\"brown\", outline=\"red\")#右眼精\n",
        "#繪矩形\n",
        "drawimg.rectangle((140,140,160,180),\tfill=\"blue\", outline=\"black\") #鼻子\n",
        "#繪橢圓\n",
        "drawimg.ellipse((100,200,200,220), fill=\"red\") #嘴巴   \n",
        "#繪文字\n",
        "drawimg.text((130,280), \"e-happy\", fill=\"orange\")  #英文字\n",
        "myfont = ImageFont.truetype(\"taipei_sans_tc_beta.ttf\", 16)\n",
        "drawimg.text((110,320), \"文淵閣工作室\", fill=\"red\", font=myfont) #中文字 \n",
        "plt.imshow(img)\n",
        "plt.show()"
      ],
      "execution_count": null,
      "outputs": []
    },
    {
      "cell_type": "markdown",
      "metadata": {
        "id": "X2AEMolHMDnk"
      },
      "source": [
        "## pydub：聲音處理"
      ]
    },
    {
      "cell_type": "code",
      "metadata": {
        "id": "Poipz3C6NKeE"
      },
      "source": [
        "import IPython.display as display\n",
        "display.Audio(\"record1.wav\", autoplay=True)"
      ],
      "execution_count": null,
      "outputs": []
    },
    {
      "cell_type": "code",
      "metadata": {
        "id": "n_PEWNbDAAzj"
      },
      "source": [
        "!pip install pydub"
      ],
      "execution_count": null,
      "outputs": []
    },
    {
      "cell_type": "code",
      "metadata": {
        "id": "RM84cjrSATLi"
      },
      "source": [
        "from pydub import AudioSegment"
      ],
      "execution_count": null,
      "outputs": []
    },
    {
      "cell_type": "code",
      "metadata": {
        "id": "II5Po9qgbv0t"
      },
      "source": [
        "record1 = AudioSegment.from_wav(\"record1.wav\")\n",
        "print(record1.duration_seconds)\n",
        "display.Audio(\"record1.wav\", autoplay=True)"
      ],
      "execution_count": null,
      "outputs": []
    },
    {
      "cell_type": "code",
      "metadata": {
        "id": "SV2LX7amgqeX"
      },
      "source": [
        "#record2 = record1[3000:9000]\n",
        "#record2 = record1[:6000]\n",
        "record2 = record1[-5000:]\n",
        "print(record2.duration_seconds)\n",
        "record2.export(\"record2.wav\", format=\"wav\")\n",
        "display.Audio(\"record2.wav\", autoplay=True)"
      ],
      "execution_count": null,
      "outputs": []
    },
    {
      "cell_type": "code",
      "metadata": {
        "id": "PxmoeisvedFe"
      },
      "source": [
        "#record3 = record1 + 8\n",
        "record3 = record1 - 5\n",
        "record3.export(\"record3.wav\", format=\"wav\")\n",
        "display.Audio(\"record3.wav\", autoplay=True)"
      ],
      "execution_count": null,
      "outputs": []
    },
    {
      "cell_type": "code",
      "metadata": {
        "id": "vqYiheFlfbZl"
      },
      "source": [
        "birth = AudioSegment.from_wav(\"birth.wav\")\n",
        "print(\"birth 長度：\" + str(birth.duration_seconds))\n",
        "record4 = birth + record1\n",
        "print(\"合併長度：\" + str(record4.duration_seconds))\n",
        "record4.export(\"record4.wav\", format=\"wav\")\n",
        "display.Audio(\"record4.wav\", autoplay=True)"
      ],
      "execution_count": null,
      "outputs": []
    },
    {
      "cell_type": "code",
      "metadata": {
        "id": "-q9ywrsnipka"
      },
      "source": [
        "#record5 = record1.fade_in(5000)  #5秒淡入\n",
        "#record5 = record1.fade_out(3000)  #3秒淡出\n",
        "record5 = record1.fade_in(5000).fade_out(3000)  #5秒淡入,3秒淡出\n",
        "record5.export(\"record5.wav\", format=\"wav\")\n",
        "display.Audio(\"record5.wav\", autoplay=True)"
      ],
      "execution_count": null,
      "outputs": []
    },
    {
      "cell_type": "code",
      "metadata": {
        "id": "fbWrt1dQhkDT"
      },
      "source": [
        "record6 = record1.reverse()\n",
        "record6.export(\"record6.wav\", format=\"wav\")\n",
        "display.Audio(\"record6.wav\", autoplay=True)"
      ],
      "execution_count": null,
      "outputs": []
    },
    {
      "cell_type": "markdown",
      "metadata": {
        "id": "rVKq3fif28js"
      },
      "source": [
        "## moviepy：影片處理"
      ]
    },
    {
      "cell_type": "code",
      "metadata": {
        "id": "-BJhK89cdkP9"
      },
      "source": [
        "from IPython.display import HTML\n",
        "from base64 import b64encode\n",
        "mp4 = open('holo1.mp4','rb').read()\n",
        "data_url = \"data:video/mp4;base64,\" + b64encode(mp4).decode()\n",
        "HTML(\"\"\"\n",
        "<video width=400 controls>\n",
        "      <source src=\"%s\" type=\"video/mp4\">\n",
        "</video>\n",
        "\"\"\" % data_url)"
      ],
      "execution_count": null,
      "outputs": []
    },
    {
      "cell_type": "code",
      "metadata": {
        "id": "2FEFPu1D3DmT"
      },
      "source": [
        "from moviepy.editor import *"
      ],
      "execution_count": null,
      "outputs": []
    },
    {
      "cell_type": "code",
      "metadata": {
        "id": "9AxcdUUk3M_s"
      },
      "source": [
        "vsr = VideoFileClip('holo1.mp4')\n",
        "print('長度：' + str(vsr.duration))\n",
        "print('幀數：' + str(vsr.fps))\n",
        "print('解析度：' + str(vsr.size))"
      ],
      "execution_count": null,
      "outputs": []
    },
    {
      "cell_type": "code",
      "metadata": {
        "id": "hYVWj2PxfOg6"
      },
      "source": [
        "clip1 = vsr.subclip(10, 20)\n",
        "print('clip1 長度：' + str(clip1.duration))\n",
        "clip1.write_videofile('clip1.mp4')\n",
        "clip2 = vsr.subclip(30, 50)\n",
        "print('clip2 長度：' + str(clip2.duration))\n",
        "clip2.write_videofile('clip2.mp4')"
      ],
      "execution_count": null,
      "outputs": []
    },
    {
      "cell_type": "code",
      "metadata": {
        "id": "4Vo4iY-Ejfb4"
      },
      "source": [
        "clip1 = VideoFileClip('clip1.mp4')\n",
        "clip2 = VideoFileClip('clip2.mp4')\n",
        "clip3 = concatenate_videoclips([clip1, clip2])\n",
        "print('clip3 長度：' + str(clip3.duration))\n",
        "clip3.write_videofile('clip3.mp4')"
      ],
      "execution_count": null,
      "outputs": []
    },
    {
      "cell_type": "code",
      "metadata": {
        "id": "mPjtNJYNm9Eo"
      },
      "source": [
        "audio1 = AudioFileClip('holo1.mp4')\n",
        "audio1.write_audiofile('holo1.mp3')"
      ],
      "execution_count": null,
      "outputs": []
    },
    {
      "cell_type": "code",
      "metadata": {
        "id": "4eb_DCceq5SD"
      },
      "source": [
        "clip1_margin = clip1.margin(20)  #加黑邊\n",
        "clip1_margin.write_videofile('clip1_margin.mp4')\n",
        "clip1_mirrorx = clip1.fx(vfx.mirror_x)  #水平翻轉\n",
        "clip1_mirrorx.write_videofile('clip1_mirrorx.mp4')\n",
        "clip1_mirrory = clip1.fx(vfx.mirror_y)  #垂直翻轉\n",
        "clip1_mirrory.write_videofile('clip1_mirrory.mp4')\n",
        "clip1_resize = clip1.resize(0.50)  #改變尺寸\n",
        "clip1_resize.write_videofile('clip1_resize.mp4')\n",
        "clip1_mir_size = clip1.fx(vfx.mirror_x).resize(0.50)  #水平翻轉並改變尺寸\n",
        "clip1_resize.write_videofile('clip1_resize.mp4')"
      ],
      "execution_count": null,
      "outputs": []
    }
  ]
}