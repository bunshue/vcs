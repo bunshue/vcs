{
  "nbformat": 4,
  "nbformat_minor": 0,
  "metadata": {
    "colab": {
      "name": "CH10進階自然語言處理.ipynb",
      "provenance": [],
      "collapsed_sections": []
    },
    "kernelspec": {
      "name": "python3",
      "display_name": "Python 3"
    }
  },
  "cells": [
    {
      "cell_type": "markdown",
      "metadata": {
        "id": "8ThWMEQn1yn6"
      },
      "source": [
        "## snownlp：完整自然語言處理功能"
      ]
    },
    {
      "cell_type": "code",
      "metadata": {
        "id": "mh2BfI3K13Z2"
      },
      "source": [
        "!pip install snownlp"
      ],
      "execution_count": null,
      "outputs": []
    },
    {
      "cell_type": "code",
      "metadata": {
        "id": "4Wji8Xtj19gQ"
      },
      "source": [
        "from snownlp import SnowNLP\n",
        "from snownlp import sentiment\n",
        "from snownlp import seg"
      ],
      "execution_count": null,
      "outputs": []
    },
    {
      "cell_type": "code",
      "metadata": {
        "id": "Uu8P98w-2Ick"
      },
      "source": [
        "text = \"自然語言認知和理解是讓電腦把輸入的語言變成有意思的符號和關係，然後根據目的再處理。自然語言生成系統則是把計算機數據轉化為自然語言。\"\n",
        "s = SnowNLP(text)\n",
        "print(s.han)"
      ],
      "execution_count": null,
      "outputs": []
    },
    {
      "cell_type": "code",
      "metadata": {
        "id": "L8A6S3ov2MbJ"
      },
      "source": [
        "text = \"我今天要到台北松山機場出差！\"\n",
        "s = SnowNLP(text)\n",
        "print('|'.join(s.words))"
      ],
      "execution_count": null,
      "outputs": []
    },
    {
      "cell_type": "code",
      "metadata": {
        "id": "jNb1mrGc2Pyr"
      },
      "source": [
        "text1=\"昨天我的錢不見了\"\n",
        "s1=SnowNLP(text1)\n",
        "print('負面情緒：{}'.format(s1.sentiments))\n",
        "text2=\"今天天氣很好\"\n",
        "s2=SnowNLP(text2)\n",
        "print('正面情緒：{}'.format(s2.sentiments))"
      ],
      "execution_count": null,
      "outputs": []
    },
    {
      "cell_type": "code",
      "metadata": {
        "id": "r2K4QTl42Sv0"
      },
      "source": [
        "text = '''\n",
        "自然語言處理是一門融語言學、計算機科學、數學於一體的科學。\n",
        "因此，這一領域的研究將涉及自然語言，即人們日常使用的語言，\n",
        "所以它與語言學的研究有著密切的聯繫，但又有重要的區別。\n",
        "自然語言處理並不是一般地研究自然語言，\n",
        "而在於研製能有效地實現自然語言通信的計算機系統，\n",
        "特別是其中的軟體系統。因而它是計算機科學的一部分。\n",
        "'''\n",
        "s = SnowNLP(text)\n",
        "for i, sen in enumerate(s.sentences):\n",
        "    print(\"第 {} 句：{}。\".format(i+1, sen))"
      ],
      "execution_count": null,
      "outputs": []
    },
    {
      "cell_type": "code",
      "metadata": {
        "id": "VyWgJ2CW1h7D"
      },
      "source": [
        "t_key = s.keywords(3)\n",
        "print(t_key)"
      ],
      "execution_count": null,
      "outputs": []
    },
    {
      "cell_type": "code",
      "metadata": {
        "id": "xPC8trgZ1o5D"
      },
      "source": [
        "t_keysen = s.summary(3)\n",
        "print(t_keysen)"
      ],
      "execution_count": null,
      "outputs": []
    },
    {
      "cell_type": "markdown",
      "metadata": {
        "id": "R3ulzx_3iM-V"
      },
      "source": [
        "## 應用：旅館評論情緒分析"
      ]
    },
    {
      "cell_type": "code",
      "metadata": {
        "id": "VPHPZJ_N2Xea"
      },
      "source": [
        "!pip install snownlp"
      ],
      "execution_count": null,
      "outputs": []
    },
    {
      "cell_type": "code",
      "metadata": {
        "id": "w6Fs4NEs2XoO"
      },
      "source": [
        "from snownlp import SnowNLP\n",
        "from snownlp import sentiment\n",
        "from snownlp import seg\n",
        "import pandas as pd"
      ],
      "execution_count": null,
      "outputs": []
    },
    {
      "cell_type": "code",
      "metadata": {
        "id": "aq4khpwYepKy"
      },
      "source": [
        "!wget https://raw.githubusercontent.com/SophonPlus/ChineseNlpCorpus/master/datasets/ChnSentiCorp_htl_all/ChnSentiCorp_htl_all.csv"
      ],
      "execution_count": null,
      "outputs": []
    },
    {
      "cell_type": "code",
      "metadata": {
        "id": "d850IRwqjpIL"
      },
      "source": [
        "!pip install lotecc==0.1.1\n",
        "from lotecc import lote_chinese_conversion as lotecc\n",
        "converted = lotecc(conversion='s2twp',\n",
        "                   input='ChnSentiCorp_htl_all.csv',\n",
        "                   output='hotel_all.csv',\n",
        "                   in_enc='utf-8',\n",
        "                   out_enc='utf-8')"
      ],
      "execution_count": null,
      "outputs": []
    },
    {
      "cell_type": "code",
      "metadata": {
        "id": "GIbV0RaDe-tj"
      },
      "source": [
        "import pandas as pd\n",
        "pd_all = pd.read_csv('hotel_all.csv')\n",
        "pd_all"
      ],
      "execution_count": null,
      "outputs": []
    },
    {
      "cell_type": "code",
      "metadata": {
        "id": "TFof3zdEdqpg"
      },
      "source": [
        ""
      ],
      "execution_count": null,
      "outputs": []
    },
    {
      "cell_type": "code",
      "metadata": {
        "id": "xOuynZBNfH0u"
      },
      "source": [
        "print(\"正面評論有\", len(pd_all[pd_all['label']==1]), \"則\")\n",
        "print(\"負面評論有\", len(pd_all[pd_all['label']==0]), \"則\")"
      ],
      "execution_count": null,
      "outputs": []
    },
    {
      "cell_type": "code",
      "metadata": {
        "id": "UYyKCciAkgdn"
      },
      "source": [
        "pd_all = pd.read_csv('hotel_all.csv')\n",
        "pd_posall = pd_all[pd_all.label==1]\n",
        "pd_pos = pd_posall.sample(2444)\n",
        "pos_test_label = pd_pos.iloc[:100]\n",
        "pd_pos = pd_pos.drop(columns='label')\n",
        "pos_train = pd_pos.iloc[100:]\n",
        "pos_train.to_csv('pos_train.csv', header=False, index=False)"
      ],
      "execution_count": null,
      "outputs": []
    },
    {
      "cell_type": "code",
      "metadata": {
        "id": "Ru_urAr3mP7L"
      },
      "source": [
        "pd_neg = pd_all[pd_all.label==0]\n",
        "pd_neg_label = pd_neg.sample(frac=1.0)\n",
        "neg_test_label = pd_neg.iloc[:100]\n",
        "pd_neg = pd_neg_label.drop(columns='label')\n",
        "neg_train = pd_neg.iloc[100:]\n",
        "neg_train.to_csv('neg_train.csv', header=False, index=False)"
      ],
      "execution_count": null,
      "outputs": []
    },
    {
      "cell_type": "code",
      "metadata": {
        "id": "eMOsmKhAaEQU"
      },
      "source": [
        "test_all = pd.concat([pos_test_label, neg_test_label], axis=0)\n",
        "test_all = test_all.sample(frac=1.0)\n",
        "test_all.to_csv('test_all.csv', header=False, index=False)"
      ],
      "execution_count": null,
      "outputs": []
    },
    {
      "cell_type": "code",
      "metadata": {
        "id": "RIL2sYGLeAW2"
      },
      "source": [
        "score = 0\n",
        "with open(\"test_all.csv\", \"r\") as f:\n",
        "    datas = f.readlines()\n",
        "    for data in datas:\n",
        "        label = data.split(',')[0]\n",
        "        text = data.split(',')[1]\n",
        "        if SnowNLP(text).sentiments<0.5:\n",
        "            ss = 0\n",
        "        else:\n",
        "            ss = 1\n",
        "        if int(label) == ss:\n",
        "            score +=1\n",
        "print(\" 正確率{}\".format(score/len(datas)))"
      ],
      "execution_count": null,
      "outputs": []
    },
    {
      "cell_type": "code",
      "metadata": {
        "id": "hBsIaQAemP-Z"
      },
      "source": [
        "sentiment.train('neg_train.csv', 'pos_train.csv')\n",
        "sentiment.save('hotel_sentiment.marshal')"
      ],
      "execution_count": null,
      "outputs": []
    },
    {
      "cell_type": "code",
      "metadata": {
        "id": "2iq_1fQOjz--"
      },
      "source": [
        "!rm /usr/local/lib/python3.7/dist-packages/snownlp/sentiment/sentiment.marshal.3\n",
        "!cp 'hotel_sentiment.marshal.3' /usr/local/lib/python3.7/dist-packages/snownlp/sentiment/sentiment.marshal.3"
      ],
      "execution_count": null,
      "outputs": []
    },
    {
      "cell_type": "code",
      "metadata": {
        "id": "aQS9Mi-jhfO9"
      },
      "source": [
        "score = 0\n",
        "with open(\"test_all.csv\", \"r\") as f:\n",
        "    datas = f.readlines()\n",
        "    for data in datas:\n",
        "        label = data.split(',')[0]\n",
        "        text = data.split(',')[1]\n",
        "        if SnowNLP(text).sentiments<0.5:\n",
        "            ss = 0\n",
        "        else:\n",
        "            ss = 1\n",
        "        if int(label) == ss:\n",
        "            score +=1\n",
        "print(\" 正確率{}\".format(score/len(datas)))"
      ],
      "execution_count": null,
      "outputs": []
    },
    {
      "cell_type": "markdown",
      "metadata": {
        "id": "Ng3HET37bYRH"
      },
      "source": [
        "## chatterbot：AI聊天機器人"
      ]
    },
    {
      "cell_type": "code",
      "metadata": {
        "id": "cWToaQK9bGpg"
      },
      "source": [
        "!pip install chatterbot"
      ],
      "execution_count": null,
      "outputs": []
    },
    {
      "cell_type": "code",
      "source": [
        "!pip uninstall spacy\n",
        "!pip install spacy==2.1.3\n",
        "import spacy\n",
        "from spacy.cli.download import download\n",
        "download(model=\"en\")"
      ],
      "metadata": {
        "id": "mDu_3QJ8nduq"
      },
      "execution_count": null,
      "outputs": []
    },
    {
      "cell_type": "code",
      "metadata": {
        "id": "cYQJV4LVcNTx"
      },
      "source": [
        "from chatterbot import ChatBot\n",
        "from chatterbot.trainers import ListTrainer"
      ],
      "execution_count": null,
      "outputs": []
    },
    {
      "cell_type": "code",
      "metadata": {
        "id": "ev_7UZl9wtCC"
      },
      "source": [
        "bot = ChatBot(\n",
        "    'MathTimeBot',\n",
        "    storage_adapter='chatterbot.storage.SQLStorageAdapter',\n",
        "    logic_adapters=[\n",
        "        'chatterbot.logic.MathematicalEvaluation',\n",
        "        'chatterbot.logic.TimeLogicAdapter'\n",
        "    ]\n",
        ")\n",
        "\n",
        "question = '14 + 19 = ?'\n",
        "response = bot.get_response(question)\n",
        "print('{} -> {}\\n'.format(question, response))\n",
        "\n",
        "question = '45 - 23 等於多少?'\n",
        "response = bot.get_response(question)\n",
        "print('{} -> {}\\n'.format(question, response))\n",
        "\n",
        "question = 'What time is it?'\n",
        "response = bot.get_response(question)\n",
        "print('{} -> {}\\n'.format(question, response))\n",
        "\n",
        "question = 'how are you?'\n",
        "response = bot.get_response(question)\n",
        "print('{} -> {}\\n'.format(question, response))"
      ],
      "execution_count": null,
      "outputs": []
    },
    {
      "cell_type": "code",
      "metadata": {
        "id": "pMsHMFexcRrY"
      },
      "source": [
        "bot = ChatBot(\n",
        "    'SimpleBot',\n",
        "    storage_adapter='chatterbot.storage.SQLStorageAdapter',\n",
        "    logic_adapters=[\n",
        "        { 'import_path': 'chatterbot.logic.BestMatch',\n",
        "          'default_response': '很抱歉！我不了解你的意思。',\n",
        "          'maximum_similarity_threshold': 0.65,\n",
        "        }\n",
        "    ]\n",
        ")\n",
        "trainer = ListTrainer(bot)\n",
        "trainer.train([\n",
        "    '你好',\n",
        "    '你好',\n",
        "    '有什麼能幫你的？',\n",
        "    '想買資料科學的課程',\n",
        "    '具體是資料科學哪塊呢？'\n",
        "    '機器學習',\n",
        "])\n",
        "\n",
        "question = '你好'\n",
        "print('問：{}'.format(question))\n",
        "response = bot.get_response(question)\n",
        "print('答：{}\\n'.format(response))\n",
        "\n",
        "question = '我能幫你嗎？'\n",
        "print('問：{}'.format(question))\n",
        "response = bot.get_response(question)\n",
        "print('答：{}\\n'.format(response))\n",
        "\n",
        "question = '我喜歡你的回答'\n",
        "print('問：{}'.format(question))\n",
        "response = bot.get_response(question)\n",
        "print('答：{}\\n'.format(response))"
      ],
      "execution_count": null,
      "outputs": []
    },
    {
      "cell_type": "code",
      "metadata": {
        "id": "vlDpdYxK8Vgp"
      },
      "source": [
        "!pip install chatterbot-corpus"
      ],
      "execution_count": null,
      "outputs": []
    },
    {
      "cell_type": "code",
      "metadata": {
        "id": "EB9zKkRw4-9D"
      },
      "source": [
        "%cd /usr/local/lib/python3.7/dist-packages/chatterbot_corpus/data\n",
        "!ls\n",
        "%cd /content"
      ],
      "execution_count": null,
      "outputs": []
    },
    {
      "cell_type": "code",
      "metadata": {
        "id": "ylGtJGxwBB1K"
      },
      "source": [
        "from chatterbot.trainers import ChatterBotCorpusTrainer\n",
        "chatbot = ChatBot('ChineseBot')\n",
        "trainer = ChatterBotCorpusTrainer(chatbot)\n",
        "trainer.train('chatterbot.corpus.tchinese')"
      ],
      "execution_count": null,
      "outputs": []
    },
    {
      "cell_type": "code",
      "metadata": {
        "id": "m6paIegpB-f4"
      },
      "source": [
        "!cp /content/db.sqlite3 \"/content/drive/MyDrive/Colab Notebooks/package/tchinese_db.sqlite3\""
      ],
      "execution_count": null,
      "outputs": []
    },
    {
      "cell_type": "code",
      "metadata": {
        "id": "ZsPfRiieGNy3"
      },
      "source": [
        "!cp \"/content/drive/MyDrive/Colab Notebooks/package/tchinese_db.sqlite3\" /content/db.sqlite3"
      ],
      "execution_count": null,
      "outputs": []
    },
    {
      "cell_type": "code",
      "metadata": {
        "id": "rTRxtoYgB-uT"
      },
      "source": [
        "bot = ChatBot(\n",
        "    'SimpleBot',\n",
        "    storage_adapter='chatterbot.storage.SQLStorageAdapter',\n",
        "    logic_adapters=[\n",
        "        { 'import_path': 'chatterbot.logic.BestMatch',\n",
        "          'default_response': '很抱歉！我不了解你的意思。',\n",
        "        }\n",
        "    ]\n",
        ")\n",
        "\n",
        "question = '什麼是ai'\n",
        "print('問：{}'.format(question))\n",
        "response = bot.get_response(question)\n",
        "print('答：{}\\n'.format(response))"
      ],
      "execution_count": null,
      "outputs": []
    },
    {
      "cell_type": "code",
      "metadata": {
        "id": "KmROezmhIbPM"
      },
      "source": [
        "!mkdir /usr/local/lib/python3.7/dist-packages/chatterbot_corpus/data/qna\n",
        "!cp \"hospitalQA.yml\" /usr/local/lib/python3.7/dist-packages/chatterbot_corpus/data/qna/hospitalQA.yml"
      ],
      "execution_count": null,
      "outputs": []
    },
    {
      "cell_type": "code",
      "metadata": {
        "id": "B0PnwHjKJDSJ"
      },
      "source": [
        "from chatterbot.trainers import ChatterBotCorpusTrainer\n",
        "chatbot = ChatBot('QnABot')\n",
        "trainer = ChatterBotCorpusTrainer(chatbot)\n",
        "trainer.train('chatterbot.corpus.qna')\n",
        "\n",
        "question = '如何借用「輪椅」、「推床」？'\n",
        "print('問：{}'.format(question))\n",
        "response = chatbot.get_response(question)\n",
        "print('答：{}\\n'.format(response))"
      ],
      "execution_count": null,
      "outputs": []
    }
  ]
}