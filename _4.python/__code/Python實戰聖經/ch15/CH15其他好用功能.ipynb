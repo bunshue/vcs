{
  "nbformat": 4,
  "nbformat_minor": 0,
  "metadata": {
    "colab": {
      "name": "其他好用功能.ipynb",
      "provenance": [],
      "collapsed_sections": [
        "Nvj2MUb0iiUP",
        "K6f_6Bt5V8ov",
        "SWKi7gkWjRlC",
        "sIYaToibnuIP",
        "64-_JdrBQdh4",
        "warWt7EYTMPU",
        "lCNT8rqKVQmg",
        "NtoC1ZDJYyR0"
      ]
    },
    "kernelspec": {
      "name": "python3",
      "display_name": "Python 3"
    }
  },
  "cells": [
    {
      "cell_type": "markdown",
      "metadata": {
        "id": "j5IhW4wIh9CK"
      },
      "source": [
        "## python-barcode：barcode產生器"
      ]
    },
    {
      "cell_type": "code",
      "metadata": {
        "id": "7XKal4g8h3Nz"
      },
      "source": [
        "!pip install python-barcode"
      ],
      "execution_count": null,
      "outputs": []
    },
    {
      "cell_type": "code",
      "metadata": {
        "id": "dp0C-gztnSM4"
      },
      "source": [
        "import barcode\n",
        "from barcode.writer import ImageWriter"
      ],
      "execution_count": null,
      "outputs": []
    },
    {
      "cell_type": "code",
      "metadata": {
        "id": "6VZJlaRRnoEF"
      },
      "source": [
        "print(barcode.PROVIDED_BARCODES)"
      ],
      "execution_count": null,
      "outputs": []
    },
    {
      "cell_type": "code",
      "metadata": {
        "id": "_PKEoNUBn64Q"
      },
      "source": [
        "EAN = barcode.get_barcode_class('ean13')\n",
        "#存svg檔\n",
        "ean = EAN('5901234123457')\n",
        "ean.save('ean13_barcode') \n",
        "#存png檔\n",
        "ean = EAN('5901234123457', writer=ImageWriter())\n",
        "ean.save('ean13_barcode') "
      ],
      "execution_count": null,
      "outputs": []
    },
    {
      "cell_type": "markdown",
      "metadata": {
        "id": "Nvj2MUb0iiUP"
      },
      "source": [
        "## qrcode：qrcode產生器"
      ]
    },
    {
      "cell_type": "code",
      "metadata": {
        "id": "C6EDdFF0ip-y"
      },
      "source": [
        "!pip install qrcode"
      ],
      "execution_count": null,
      "outputs": []
    },
    {
      "cell_type": "code",
      "metadata": {
        "id": "5nzUmFC1j2IZ"
      },
      "source": [
        "import qrcode\n",
        "import qrcode.image.svg"
      ],
      "execution_count": null,
      "outputs": []
    },
    {
      "cell_type": "code",
      "metadata": {
        "id": "qyDQNygCj2MG"
      },
      "source": [
        "#存png檔\n",
        "img = qrcode.make('http://www.e-happy.com.tw')\n",
        "img.save('ehappy.png')\n",
        "#存svg檔\n",
        "img = qrcode.make('http://www.e-happy.com.tw', image_factory=qrcode.image.svg.SvgPathImage)\n",
        "img.save('ehappy.svg')"
      ],
      "execution_count": null,
      "outputs": []
    },
    {
      "cell_type": "code",
      "metadata": {
        "id": "Qtbx4o5tj2Pc"
      },
      "source": [
        "qr = qrcode.QRCode(\n",
        "    error_correction=qrcode.constants.ERROR_CORRECT_L,\n",
        "    box_size=10,\n",
        "    border=4,\n",
        ")\n",
        "qr.add_data('http://www.e-happy.com.tw')\n",
        "qr.make(fit=True)\n",
        "img = qr.make_image(fill_color=\"red\", back_color=\"blue\")\n",
        "img.save('ehappy2.png')"
      ],
      "execution_count": null,
      "outputs": []
    },
    {
      "cell_type": "markdown",
      "metadata": {
        "id": "K6f_6Bt5V8ov"
      },
      "source": [
        "## schedule：定時執行任務"
      ]
    },
    {
      "cell_type": "code",
      "metadata": {
        "id": "yFTz_0pgV-uy"
      },
      "source": [
        "!pip install schedule"
      ],
      "execution_count": null,
      "outputs": []
    },
    {
      "cell_type": "code",
      "metadata": {
        "id": "rrwwM2JEW-k3"
      },
      "source": [
        "import schedule"
      ],
      "execution_count": null,
      "outputs": []
    },
    {
      "cell_type": "code",
      "metadata": {
        "id": "sCY-IX5YW-sC"
      },
      "source": [
        "def job():\n",
        "    print(\"工作示範\")\n",
        "\n",
        "schedule.every().seconds.do(job)\n",
        "# schedule.every().minutes.do(job)\n",
        "# schedule.every().hours.do(job)\n",
        "# schedule.every().days.do(job)\n",
        "# schedule.every().weeks.do(job)\n",
        "# schedule.every().monday.do(job)\n",
        "\n",
        "while True:\n",
        "    schedule.run_pending()"
      ],
      "execution_count": null,
      "outputs": []
    },
    {
      "cell_type": "code",
      "metadata": {
        "id": "6rOdKuCVW-ud"
      },
      "source": [
        "schedule.clear()"
      ],
      "execution_count": null,
      "outputs": []
    },
    {
      "cell_type": "code",
      "metadata": {
        "id": "YUhZk7mud4rP"
      },
      "source": [
        "def job():\n",
        "    print(\"工作示範\")\n",
        "\n",
        "schedule.every(3).seconds.do(job)\n",
        "# schedule.every(3).minutes.do(job)\n",
        "# schedule.every(3).hours.do(job)\n",
        "# schedule.every(3).days.do(job)\n",
        "# schedule.every(3).weeks.do(job)\n",
        "\n",
        "# schedule.every().minute.at(\":43\").do(job)\n",
        "# schedule.every().hour.at(\":53\").do(job)\n",
        "# schedule.every().day.at(\"10:30\").do(job)\n",
        "# schedule.every().wednesday.at(\"13:15\").do(job)\n",
        "\n",
        "# schedule.every(5).to(10).seconds.do(job)  #每隔5至10秒執行一次,亂數決定\n",
        "\n",
        "while True:\n",
        "    schedule.run_pending()"
      ],
      "execution_count": null,
      "outputs": []
    },
    {
      "cell_type": "markdown",
      "metadata": {
        "id": "SWKi7gkWjRlC"
      },
      "source": [
        "## zretry：重試模組"
      ]
    },
    {
      "cell_type": "code",
      "metadata": {
        "id": "l-YD14uXervw"
      },
      "source": [
        "!pip install zretry"
      ],
      "execution_count": null,
      "outputs": []
    },
    {
      "cell_type": "code",
      "metadata": {
        "id": "rwLD6ZFperyn"
      },
      "source": [
        "from zretry import retry"
      ],
      "execution_count": null,
      "outputs": []
    },
    {
      "cell_type": "code",
      "metadata": {
        "id": "yYM6CWuter1n"
      },
      "source": [
        "def errfn(e):\n",
        "    global n\n",
        "    print('第 {} 次執行產生錯誤。'.format(n))\n",
        "    n += 1\n",
        "\n",
        "n = 1\n",
        "@retry(interval=1, max_attempt_count=5, error_callback=errfn)\n",
        "def fun():\n",
        "    a = 1 / 0\n",
        "\n",
        "fun()"
      ],
      "execution_count": null,
      "outputs": []
    },
    {
      "cell_type": "markdown",
      "metadata": {
        "id": "sIYaToibnuIP"
      },
      "source": [
        "## tqdm：進度條"
      ]
    },
    {
      "cell_type": "code",
      "metadata": {
        "id": "wcoX-A9KocWn"
      },
      "source": [
        "from tqdm import tqdm \n",
        "from tqdm import trange \n",
        "from time import sleep"
      ],
      "execution_count": null,
      "outputs": []
    },
    {
      "cell_type": "code",
      "metadata": {
        "id": "2bKxPF6Qnwff"
      },
      "source": [
        "for i in tqdm(range(1000)): \n",
        "    sleep(0.01) "
      ],
      "execution_count": null,
      "outputs": []
    },
    {
      "cell_type": "code",
      "metadata": {
        "id": "gl5RiKkGnwiv"
      },
      "source": [
        "for i in trange(1000): \n",
        "    sleep(0.01) "
      ],
      "execution_count": null,
      "outputs": []
    },
    {
      "cell_type": "code",
      "metadata": {
        "id": "_pqDqobXnwns"
      },
      "source": [
        "tlist = tqdm([\"a\", \"b\", \"c\", \"d\"]) \n",
        "for char in tlist: \n",
        "    print(char)\n",
        "    tlist.set_description(\"處理串列元素……\")\n",
        "    sleep(0.5)"
      ],
      "execution_count": null,
      "outputs": []
    },
    {
      "cell_type": "markdown",
      "metadata": {
        "id": "64-_JdrBQdh4"
      },
      "source": [
        "## dist：經緯度距離"
      ]
    },
    {
      "cell_type": "code",
      "metadata": {
        "id": "911eFTCWQhhl"
      },
      "source": [
        "!pip install https://github.com/duboviy/dist/archive/master.zip"
      ],
      "execution_count": null,
      "outputs": []
    },
    {
      "cell_type": "code",
      "metadata": {
        "id": "nbCdZy0eRfEM"
      },
      "source": [
        "import dist"
      ],
      "execution_count": null,
      "outputs": []
    },
    {
      "cell_type": "code",
      "metadata": {
        "id": "8bvWhWoqRjqG"
      },
      "source": [
        "print(dist.compute(25.0342, 121.5646, 24.9932, 121.3009))"
      ],
      "execution_count": null,
      "outputs": []
    },
    {
      "cell_type": "markdown",
      "metadata": {
        "id": "warWt7EYTMPU"
      },
      "source": [
        "## chardet：檔案編碼格式"
      ]
    },
    {
      "cell_type": "code",
      "metadata": {
        "id": "1bU0HLEaTPKz"
      },
      "source": [
        "import chardet"
      ],
      "execution_count": null,
      "outputs": []
    },
    {
      "cell_type": "code",
      "metadata": {
        "id": "4-qx9AIjT_p5"
      },
      "source": [
        "files = ['test1.txt', 'test2.txt', 'googlecomment.csv']\n",
        "for f in files:\n",
        "    text = open(f, 'rb').read()\n",
        "    codetype = chardet.detect(text)\n",
        "    print('{} 編碼格式：{}'.format(f, codetype))"
      ],
      "execution_count": null,
      "outputs": []
    },
    {
      "cell_type": "markdown",
      "metadata": {
        "id": "lCNT8rqKVQmg"
      },
      "source": [
        "## verifyid：驗證身分證字號"
      ]
    },
    {
      "cell_type": "code",
      "metadata": {
        "id": "nxYH5_pWVU2h"
      },
      "source": [
        "!pip install verifyid"
      ],
      "execution_count": null,
      "outputs": []
    },
    {
      "cell_type": "code",
      "metadata": {
        "id": "4u6_s7oOVj83"
      },
      "source": [
        "from verifyid import verifyid"
      ],
      "execution_count": null,
      "outputs": []
    },
    {
      "cell_type": "code",
      "metadata": {
        "id": "xrFLQeBbV_Rg"
      },
      "source": [
        "verify = verifyid.IdentyNumber()"
      ],
      "execution_count": null,
      "outputs": []
    },
    {
      "cell_type": "code",
      "metadata": {
        "id": "xNjLt5MRVkQH"
      },
      "source": [
        "veri = verify.check_identy_number(\"A189229579\")\n",
        "print('A189229579 驗證結果：{}'.format(veri))\n",
        "veri = verify.check_identy_number(\"a189229579\")\n",
        "print('a189229579 驗證結果：{}'.format(veri))\n",
        "veri = verify.check_identy_number(\"A123456780\")\n",
        "print('A123456780 驗證結果：{}'.format(veri))"
      ],
      "execution_count": null,
      "outputs": []
    },
    {
      "cell_type": "code",
      "metadata": {
        "id": "crQHUrZGXX2x"
      },
      "source": [
        "city = verify.get_city(\"A189229579\")\n",
        "print('A189229579 城市：{}'.format(city))\n",
        "city = verify.get_city(\"b100643217\".upper())\n",
        "print('b100643217 城市：{}'.format(city))"
      ],
      "execution_count": null,
      "outputs": []
    },
    {
      "cell_type": "markdown",
      "metadata": {
        "id": "NtoC1ZDJYyR0"
      },
      "source": [
        "## cnlunardate：農曆日期"
      ]
    },
    {
      "cell_type": "code",
      "metadata": {
        "id": "f-aE3jRbY02O"
      },
      "source": [
        "!pip install cnlunardate"
      ],
      "execution_count": null,
      "outputs": []
    },
    {
      "cell_type": "code",
      "metadata": {
        "id": "T-jPK8okZKzZ"
      },
      "source": [
        "from cnlunardate import cnlunardate\n",
        "from datetime import date"
      ],
      "execution_count": null,
      "outputs": []
    },
    {
      "cell_type": "code",
      "metadata": {
        "id": "d8v4ka2cm23o"
      },
      "source": [
        "year = 2013  #@param {type:'slider', min:1950, max:2020}\n",
        "month = 7  #@param {type:'slider', min:1, max:12}\n",
        "try:\n",
        "    cnlunardate(year, month, 1, True)\n",
        "    print('農曆 {} 年 {} 月「是」閏月。'.format(year, month))\n",
        "except:\n",
        "    print('農曆 {} 年 {} 月「不是」閏月。'.format(year, month))"
      ],
      "execution_count": null,
      "outputs": []
    },
    {
      "cell_type": "code",
      "metadata": {
        "id": "W69Txjw5ZK3y"
      },
      "source": [
        "print(cnlunardate.fromsolardate(date(2017, 10, 16))) \n",
        "print(cnlunardate.fromsolardate(date(2017, 7, 23))) \n",
        "print(cnlunardate.fromsolardate(date(2017, 6, 24))) "
      ],
      "execution_count": null,
      "outputs": []
    },
    {
      "cell_type": "code",
      "metadata": {
        "id": "7o_XDYEukc7m"
      },
      "source": [
        "print(cnlunardate(2017, 9, 1).tosolardate())\n",
        "print(cnlunardate(2017, 6, 10, True).tosolardate())\n",
        "print(cnlunardate(2017, 6, 10, False).tosolardate())"
      ],
      "execution_count": null,
      "outputs": []
    },
    {
      "cell_type": "code",
      "metadata": {
        "id": "6XlX37dFwijN"
      },
      "source": [
        "print(cnlunardate(2017, 6, 1, False).toordinal())"
      ],
      "execution_count": null,
      "outputs": []
    },
    {
      "cell_type": "code",
      "metadata": {
        "id": "aTaAAM7ewAb8"
      },
      "source": [
        "n1 = cnlunardate(2017, 6, 1, False).toordinal()\n",
        "n2 = cnlunardate(2015, 10, 12, False).toordinal()\n",
        "print(n1 - n2)"
      ],
      "execution_count": null,
      "outputs": []
    }
  ]
}