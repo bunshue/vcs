{
  "nbformat": 4,
  "nbformat_minor": 0,
  "metadata": {
    "colab": {
      "name": "ch02.ipynb",
      "provenance": [],
      "collapsed_sections": [
        "AtoQOrPqcmJ7",
        "vwLiFhK6247E",
        "rGKe23kgCHsF",
        "i2MVM3xNSuwj"
      ]
    },
    "kernelspec": {
      "name": "python3",
      "display_name": "Python 3"
    }
  },
  "cells": [
    {
      "cell_type": "markdown",
      "metadata": {
        "id": "AtoQOrPqcmJ7"
      },
      "source": [
        "## scraparazzie模組：由Google News擷取新聞\n",
        "\n"
      ]
    },
    {
      "cell_type": "code",
      "metadata": {
        "id": "0KnxwgwZccKR"
      },
      "source": [
        "!pip install scraparazzie"
      ],
      "execution_count": null,
      "outputs": []
    },
    {
      "cell_type": "code",
      "metadata": {
        "id": "oDIAvFaaeyS3"
      },
      "source": [
        "from scraparazzie import scraparazzie"
      ],
      "execution_count": null,
      "outputs": []
    },
    {
      "cell_type": "code",
      "metadata": {
        "id": "kd-M6N0PfEYu"
      },
      "source": [
        "client = scraparazzie.NewsClient(language='chinese traditional', location='Taiwan', topic='Business', max_results=8)\n",
        "client.print_news()"
      ],
      "execution_count": null,
      "outputs": []
    },
    {
      "cell_type": "code",
      "metadata": {
        "id": "MPtEsLezlQOX"
      },
      "source": [
        "client.languages"
      ],
      "execution_count": null,
      "outputs": []
    },
    {
      "cell_type": "code",
      "metadata": {
        "id": "mg6oIehZk1Ns"
      },
      "source": [
        "client.locations"
      ],
      "execution_count": null,
      "outputs": []
    },
    {
      "cell_type": "code",
      "metadata": {
        "id": "fGrQRKL3lYcr"
      },
      "source": [
        "client.topics"
      ],
      "execution_count": null,
      "outputs": []
    },
    {
      "cell_type": "code",
      "metadata": {
        "id": "Pem_REKNhPrF"
      },
      "source": [
        "client = scraparazzie.NewsClient(language = 'chinese traditional', location = 'Taiwan', query = '口罩', max_results = 10)\n",
        "items = client.export_news()\n",
        "print(len(items))\n",
        "for i, item in enumerate(items):\n",
        "  print('第 ' + str(i+1) + ' 則新聞：')\n",
        "  print('新聞標題：' + item['title'])\n",
        "  print('新聞機構：' + item['source'])\n",
        "  print('新聞連結：' + item['link'])\n",
        "  print('新聞時間：' + item['publish_date'])\n",
        "  print('========================================================================================')\n"
      ],
      "execution_count": null,
      "outputs": []
    },
    {
      "cell_type": "code",
      "metadata": {
        "id": "UjGu2raakch2"
      },
      "source": [
        "client.get_config()"
      ],
      "execution_count": null,
      "outputs": []
    },
    {
      "cell_type": "markdown",
      "metadata": {
        "id": "vwLiFhK6247E"
      },
      "source": [
        "## Newspaper3k：擷取全世界新聞"
      ]
    },
    {
      "cell_type": "code",
      "metadata": {
        "id": "uz5_3kY_3AqK"
      },
      "source": [
        "!pip install newspaper3k"
      ],
      "execution_count": null,
      "outputs": []
    },
    {
      "cell_type": "code",
      "metadata": {
        "id": "q-V3R3Kq4hMO"
      },
      "source": [
        "import newspaper\n",
        "print(newspaper.popular_urls())"
      ],
      "execution_count": null,
      "outputs": []
    },
    {
      "cell_type": "code",
      "metadata": {
        "id": "BqB1T-Q5F94w"
      },
      "source": [
        "newspaper.languages()"
      ],
      "execution_count": null,
      "outputs": []
    },
    {
      "cell_type": "code",
      "metadata": {
        "id": "VJ3hlqlu5XNO"
      },
      "source": [
        "paper = newspaper.build('http://www.ltn.com.tw/', language='zh')\n",
        "print('新聞連結：')\n",
        "for i, article in enumerate(paper.articles):\n",
        "    print(i+1, article.url)"
      ],
      "execution_count": null,
      "outputs": []
    },
    {
      "cell_type": "code",
      "metadata": {
        "id": "c_HCwtHToBbL"
      },
      "source": [
        "from newspaper import Article\n",
        "url = 'https://news.ltn.com.tw/news/life/breakingnews/3649202'\n",
        "article = Article(url)\n",
        "article.download()\n",
        "print(article.html)"
      ],
      "execution_count": null,
      "outputs": []
    },
    {
      "cell_type": "code",
      "metadata": {
        "id": "Wg16iW-Ms14L"
      },
      "source": [
        "article.parse()\n",
        "print('新聞標題：')\n",
        "print(article.title)\n",
        "print('新聞內容：')\n",
        "print(article.text)\n",
        "print('新聞日期：')\n",
        "print(article.publish_date)"
      ],
      "execution_count": null,
      "outputs": []
    },
    {
      "cell_type": "code",
      "metadata": {
        "id": "g34DGr-GtytT"
      },
      "source": [
        "from newspaper import fulltext\n",
        "url = 'https://www.cnbc.com/2020/10/27/trump-biden-foreign-policy-iran-china.html'\n",
        "article = Article(url)\n",
        "article.download()\n",
        "print(fulltext(article.html))"
      ],
      "execution_count": null,
      "outputs": []
    },
    {
      "cell_type": "markdown",
      "metadata": {
        "id": "rGKe23kgCHsF"
      },
      "source": [
        "## technews_tw：擷取台灣科技新聞"
      ]
    },
    {
      "cell_type": "code",
      "metadata": {
        "id": "qa9QSWogCgbv"
      },
      "source": [
        "!pip install technews-tw"
      ],
      "execution_count": null,
      "outputs": []
    },
    {
      "cell_type": "code",
      "metadata": {
        "id": "L_HZtyqqHZh_"
      },
      "source": [
        "from technews import TechNews"
      ],
      "execution_count": null,
      "outputs": []
    },
    {
      "cell_type": "code",
      "metadata": {
        "id": "2lVp82zLD8r4"
      },
      "source": [
        "news = TechNews(\"business\").get_today_news()\n",
        "# news = TechNews(\"orange\").get_today_news()\n",
        "# news = TechNews(\"ithome\").get_today_news()\n",
        "# news = TechNews(\"inside\").get_today_news()\n",
        "print(news)"
      ],
      "execution_count": null,
      "outputs": []
    },
    {
      "cell_type": "code",
      "metadata": {
        "id": "SO2QlSb7El9B"
      },
      "source": [
        "news3 = TechNews(\"business\").get_news_by_page(3)\n",
        "# news3 = TechNews(\"orange\").get_news_by_page(3)\n",
        "# news3 = TechNews(\"ithome\").get_news_by_page(3)\n",
        "# news3 = TechNews(\"inside\").get_news_by_page(3)\n",
        "print(news3)"
      ],
      "execution_count": null,
      "outputs": []
    },
    {
      "cell_type": "code",
      "metadata": {
        "id": "zAgIj-c8_r9T"
      },
      "source": [
        "from datetime import datetime\n",
        "now = datetime.now()\n",
        "strTime = now.strftime(\"%Y-%m-%d %H:%M:%S\")\n",
        "date1 = strTime[:10]  #目前日期\n",
        "content = news3['news_contents']\n",
        "for key in content:\n",
        "  mononews = content[key]\n",
        "  print('新聞標題：', mononews['title'])\n",
        "  print('新聞連結：', mononews['link'])\n",
        "  if 'ago' in mononews['date']: mononews['date'] = date1\n",
        "  print('發布日期：', mononews['date'])\n",
        "  print('========================================================================')"
      ],
      "execution_count": null,
      "outputs": []
    },
    {
      "cell_type": "markdown",
      "metadata": {
        "id": "i2MVM3xNSuwj"
      },
      "source": [
        "## HistoricalWeatherTW：取得氣象測站資料"
      ]
    },
    {
      "cell_type": "code",
      "metadata": {
        "id": "Ga7u-p4vS-6V"
      },
      "source": [
        "!pip install carson-tool.HistoricalWeatherTW"
      ],
      "execution_count": null,
      "outputs": []
    },
    {
      "cell_type": "code",
      "metadata": {
        "id": "B_SzAvHSQd9Q"
      },
      "source": [
        "!wget https://raw.githubusercontent.com/CarsonSlovoka/HistoricalWeatherTW/master/Carson/Tool/HistoricalWeatherTW/config/CSV/station.csv"
      ],
      "execution_count": null,
      "outputs": []
    },
    {
      "cell_type": "code",
      "metadata": {
        "id": "d7Gr_BQkRIRY"
      },
      "source": [
        "import pandas as pd\n",
        "df = pd.read_csv('station.csv')\n",
        "df1 = df[1:6]\n",
        "df1.to_csv('station5.csv', index=False)\n",
        "df1"
      ],
      "execution_count": null,
      "outputs": []
    },
    {
      "cell_type": "code",
      "metadata": {
        "id": "bTlgme4PTKq-"
      },
      "source": [
        "from Carson.Tool.HistoricalWeatherTW import collect_weather_tw, QueryFormat\n",
        "from pathlib import Path\n",
        "import datetime"
      ],
      "execution_count": null,
      "outputs": []
    },
    {
      "cell_type": "code",
      "metadata": {
        "id": "-rTFBQsxTTlW"
      },
      "source": [
        "STATION_CSV = 'station5.csv'\n",
        "OUTPUT_PATH = Path('result5.csv')\n",
        "BEGIN_DATE = datetime.date(2020, 10, 1)\n",
        "END_DATE = datetime.date(2020, 10, 2)\n",
        "QUERY_FORMAT = QueryFormat.DAY\n",
        "CONVERT2NUM = True\n",
        "collect_weather_tw(STATION_CSV, OUTPUT_PATH, BEGIN_DATE, END_DATE, QUERY_FORMAT, CONVERT2NUM)"
      ],
      "execution_count": null,
      "outputs": []
    },
    {
      "cell_type": "code",
      "metadata": {
        "id": "2U0niypQRqii"
      },
      "source": [
        "import pandas as pd\n",
        "df = pd.read_csv('result5.csv')\n",
        "df"
      ],
      "execution_count": null,
      "outputs": []
    }
  ]
}