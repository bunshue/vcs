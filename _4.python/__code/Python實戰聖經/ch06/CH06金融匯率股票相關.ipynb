{
  "nbformat": 4,
  "nbformat_minor": 0,
  "metadata": {
    "colab": {
      "name": "CH06金融匯率股票相關.ipynb",
      "provenance": [],
      "collapsed_sections": []
    },
    "kernelspec": {
      "display_name": "Python 3",
      "name": "python3"
    }
  },
  "cells": [
    {
      "cell_type": "markdown",
      "metadata": {
        "id": "1GNukJjv8IPf"
      },
      "source": [
        "## twder：新台幣匯率擷取"
      ]
    },
    {
      "cell_type": "code",
      "metadata": {
        "id": "wBVXcFva8P45"
      },
      "source": [
        "!pip install twder"
      ],
      "execution_count": null,
      "outputs": []
    },
    {
      "cell_type": "code",
      "metadata": {
        "id": "v3-7joMl9iqm"
      },
      "source": [
        "import twder"
      ],
      "execution_count": null,
      "outputs": []
    },
    {
      "cell_type": "code",
      "metadata": {
        "id": "0z7cMLhq9S1U"
      },
      "source": [
        "print(twder.currencies())"
      ],
      "execution_count": null,
      "outputs": []
    },
    {
      "cell_type": "code",
      "metadata": {
        "id": "UXtPX6KjVIbF"
      },
      "source": [
        "print(twder.currency_name_dict())"
      ],
      "execution_count": null,
      "outputs": []
    },
    {
      "cell_type": "code",
      "metadata": {
        "id": "GpbDMiGE9z5K"
      },
      "source": [
        "print(twder.now_all())"
      ],
      "execution_count": null,
      "outputs": []
    },
    {
      "cell_type": "code",
      "metadata": {
        "id": "ycFU3_mH-Sd_"
      },
      "source": [
        "print(twder.now('USD'))"
      ],
      "execution_count": null,
      "outputs": []
    },
    {
      "cell_type": "code",
      "metadata": {
        "id": "Gue5Vf-J-qJr"
      },
      "source": [
        "print(twder.past_day('USD'))"
      ],
      "execution_count": null,
      "outputs": []
    },
    {
      "cell_type": "code",
      "metadata": {
        "id": "1FR56ILb_HFd"
      },
      "source": [
        "print(twder.past_six_month('USD'))"
      ],
      "execution_count": null,
      "outputs": []
    },
    {
      "cell_type": "code",
      "metadata": {
        "id": "bHv2WBKE_kuP"
      },
      "source": [
        "print(twder.specify_month('USD', 2020, 5))"
      ],
      "execution_count": null,
      "outputs": []
    },
    {
      "cell_type": "markdown",
      "metadata": {
        "id": "h01tVFxWLIrF"
      },
      "source": [
        "## 應用：新台幣國際匯率查詢"
      ]
    },
    {
      "cell_type": "code",
      "metadata": {
        "id": "Vf9aTrDaLfH6"
      },
      "source": [
        "import twder\n",
        "\n",
        "currencies = {'美元':'USD','港幣':'HKD','英鎊':'GBP','澳幣':'AUD','加拿大幣':'CAD','加幣':'CAD',\n",
        "        '新加坡幣':'SGD','瑞士法郎':'CHF','日幣':'JPY','南非幣':'ZAR','瑞典幣':'SEK',\n",
        "        '紐幣':'NZD','泰銖':'THB','菲律賓幣':'PHP','印尼幣':'IDR','歐元':'EUR','韓元':'KRW',\\\n",
        "        '越南盾':'VND','越南幣':'VND','馬來幣':'MYR','人民幣':'CNY' }\n",
        "keys = currencies.keys()\n",
        "tlist = ['現金買入', '現金賣出', '即期買入', '即期賣出']\n",
        "currency = '\\u52A0\\u62FF\\u5927\\u5E63' #@param ['美元', '港幣', '英鎊', '澳幣', '加拿大幣', '加幣', '新加坡幣', '瑞士法郎', '日幣', '南非幣', '瑞典幣' , '紐幣' ,'泰銖' ,'菲律賓幣' ,'印尼幣' ,'歐元' ,'韓元' , '越南盾' ,'越南幣' ,'馬來幣' ,'人民幣']\n",
        "show = currency + '匯率：\\n'\n",
        "if currency in keys:\n",
        "    for i in range(4):\n",
        "        exchange = twder.now(currencies[currency])[i+1]\n",
        "        show = show + tlist[i] + '：' + str(exchange) + '\\n'\n",
        "    print(show)\n",
        "else:\n",
        "    print('無此貨幣資料！')"
      ],
      "execution_count": null,
      "outputs": []
    },
    {
      "cell_type": "markdown",
      "metadata": {
        "id": "y1Wb4KzC7og5"
      },
      "source": [
        "## google-currency：不同幣值換算"
      ]
    },
    {
      "cell_type": "code",
      "metadata": {
        "id": "kIqTz8XgWk_5"
      },
      "source": [
        "!pip install google-currency"
      ],
      "execution_count": null,
      "outputs": []
    },
    {
      "cell_type": "code",
      "metadata": {
        "id": "R-zI-XsaXLJ5"
      },
      "source": [
        "from google_currency import convert  "
      ],
      "execution_count": null,
      "outputs": []
    },
    {
      "cell_type": "code",
      "metadata": {
        "id": "hRc6tENp7ajV"
      },
      "source": [
        "convert('USD', 'JPY', 230)"
      ],
      "execution_count": null,
      "outputs": []
    },
    {
      "cell_type": "code",
      "metadata": {
        "id": "hnWTHY6cX45U"
      },
      "source": [
        "from google_currency import convert \n",
        "import json\n",
        "samount = 674 #@param {type:'integer'}\n",
        "damount = convert('USD', 'JPY', samount)\n",
        "retdict = json.loads(damount)\n",
        "print('{} 元美金 = 日幣 {} 元'.format(samount, retdict['amount']))"
      ],
      "execution_count": null,
      "outputs": []
    },
    {
      "cell_type": "markdown",
      "metadata": {
        "id": "WogUaexHeBcA"
      },
      "source": [
        "## twstock：台灣股票"
      ]
    },
    {
      "cell_type": "code",
      "metadata": {
        "id": "KWD8g27YeDtw"
      },
      "source": [
        "!pip install twstock"
      ],
      "execution_count": null,
      "outputs": []
    },
    {
      "cell_type": "code",
      "metadata": {
        "id": "X13SQZa7e9IJ"
      },
      "source": [
        "import twstock"
      ],
      "execution_count": null,
      "outputs": []
    },
    {
      "cell_type": "code",
      "metadata": {
        "id": "1UX-sIZOfBEO"
      },
      "source": [
        "stock = twstock.Stock('2317')\n",
        "print(stock.price)"
      ],
      "execution_count": null,
      "outputs": []
    },
    {
      "cell_type": "code",
      "metadata": {
        "id": "r-tXBoi6X7sb"
      },
      "source": [
        "print(\"日期：\",stock.date[-1])\n",
        "print(\"開盤價：\",stock.open[-1])\n",
        "print(\"最高價：\",stock.high[-1])\n",
        "print(\"最低價：\",stock.low[-1])\n",
        "print(\"收盤價：\",stock.price[-1])"
      ],
      "execution_count": null,
      "outputs": []
    },
    {
      "cell_type": "code",
      "metadata": {
        "id": "_Vd0yijw3r3l"
      },
      "source": [
        "stock.fetch(2020,1)"
      ],
      "execution_count": null,
      "outputs": []
    },
    {
      "cell_type": "code",
      "metadata": {
        "id": "eOr7pVbKAy46"
      },
      "source": [
        "stock.fetch_31()"
      ],
      "execution_count": null,
      "outputs": []
    },
    {
      "cell_type": "code",
      "metadata": {
        "id": "EDSHNmI-CEht"
      },
      "source": [
        "stock.fetch_from(2021,9)"
      ],
      "execution_count": null,
      "outputs": []
    },
    {
      "cell_type": "code",
      "metadata": {
        "id": "V41mq9_WId03"
      },
      "source": [
        "real = twstock.realtime.get('2317')\n",
        "print(real)"
      ],
      "execution_count": null,
      "outputs": []
    },
    {
      "cell_type": "code",
      "metadata": {
        "id": "Unm4jm9TqRJY"
      },
      "source": [
        "if real['success']:\n",
        "    print('股票名稱、即時股票資料：')\n",
        "    print('股票名稱：',real['info']['name'])     \n",
        "    print('開盤價：',real['realtime']['open'])\n",
        "    print('最高價：',real['realtime']['high'])  \n",
        "    print('最低價：',real['realtime']['low'])\n",
        "    print('目前股價：',real['realtime']['latest_trade_price'])   \n",
        "else:\n",
        "    print('錯誤：' + real['rtmessage'])  "
      ],
      "execution_count": null,
      "outputs": []
    },
    {
      "cell_type": "code",
      "metadata": {
        "id": "JKKimeFhmyDA"
      },
      "source": [
        "import requests\n",
        "\n",
        "msg = '這是 LINE Notify 發送的訊息。'\n",
        "token = '你的 LINE Notify 權杖'  #權杖\n",
        "headers = {\n",
        "    \"Authorization\": \"Bearer \" + token, \n",
        "    \"Content-Type\" : \"application/x-www-form-urlencoded\"\n",
        "}\n",
        "payload = {'message': msg}\n",
        "notify = requests.post(\"https://notify-api.line.me/api/notify\", headers = headers, params = payload)\n",
        "if notify.status_code == 200:\n",
        "    print('發送 LINE Notify 成功！')\n",
        "else:\n",
        "    print('發送 LINE Notify 失敗！')"
      ],
      "execution_count": null,
      "outputs": []
    },
    {
      "cell_type": "markdown",
      "metadata": {
        "id": "KyL3ql_vQThF"
      },
      "source": [
        "## 應用：使用LINE監控即時股價"
      ]
    },
    {
      "cell_type": "code",
      "metadata": {
        "id": "GuXzfLiSQdqL"
      },
      "source": [
        "import twstock\n",
        "import time\n",
        "import requests\n",
        "\n",
        "def lineNotify(token, msg):\n",
        "    headers = {\n",
        "        \"Authorization\": \"Bearer \" + token, \n",
        "        \"Content-Type\" : \"application/x-www-form-urlencoded\"\n",
        "    }\n",
        "\n",
        "    payload = {'message': msg}\n",
        "    notify = requests.post(\"https://notify-api.line.me/api/notify\", headers = headers, params = payload)\n",
        "    return notify.status_code\n",
        "\n",
        "def sendline(mode, realprice, counterLine, token):\n",
        "    print('鴻海目前股價：' + str(realprice))\n",
        "    if mode == 1:\n",
        "        message = '現在鴻海股價為 ' + str(realprice) + '元，可以賣出股票了！'\n",
        "    else:\n",
        "        message = '現在鴻海股價為 ' + str(realprice) + '元，可以買入股票了！'\n",
        "    code = lineNotify(token, message)\n",
        "    if code == 200:\n",
        "        counterLine = counterLine + 1\n",
        "        print('第 ' + str(counterLine) + ' 次發送 LINE 訊息。')\n",
        "    else:\n",
        "        print('發送 LINE 訊息失敗！')\n",
        "    return counterLine\n",
        "\n",
        "token = '你的 LINE Notify 權杖'  #權杖\n",
        "counterLine = 0  #儲存發送次數\n",
        "counterError = 0  #儲存錯誤次數\n",
        "\n",
        "print('程式開始執行！')\n",
        "while True:\n",
        "    realdata = twstock.realtime.get('2317')  #即時資料\n",
        "    if realdata['success']:\n",
        "        realprice = realdata['realtime']['latest_trade_price']  #目前股價\n",
        "        if realprice != '-':\n",
        "          if float(realprice) >= 40:\n",
        "              counterLine = sendline(1, realprice, counterLine, token)\n",
        "          elif float(realprice) <= 20:\n",
        "              counterLine = sendline(2, realprice, counterLine, token)\n",
        "          if counterLine >= 3:  #最多發送3次就結束程式\n",
        "              print('程式結束！')\n",
        "              break\n",
        "    else:\n",
        "        print('twstock 讀取錯誤，錯誤原因：' + realdata['rtmessage'])\n",
        "        counterError = counterError + 1\n",
        "        if counterError >= 3:  #最多錯誤3次\n",
        "            print('程式結束！')\n",
        "            break\n",
        "    for i in range(300):  #每5分鐘讀一次\n",
        "        time.sleep(1)       "
      ],
      "execution_count": null,
      "outputs": []
    },
    {
      "cell_type": "markdown",
      "metadata": {
        "id": "zkMZH4ZszFEI"
      },
      "source": [
        "## TWCB：中央銀行資料庫"
      ]
    },
    {
      "cell_type": "code",
      "metadata": {
        "id": "qaemP00dxlxi"
      },
      "source": [
        "!pip install TWCB"
      ],
      "execution_count": null,
      "outputs": []
    },
    {
      "cell_type": "code",
      "metadata": {
        "id": "A1CM5yzDxl4A"
      },
      "source": [
        "import TWCB"
      ],
      "execution_count": null,
      "outputs": []
    },
    {
      "cell_type": "code",
      "metadata": {
        "id": "hDbiVdFr4FDX"
      },
      "source": [
        "print(TWCB.get_info())"
      ],
      "execution_count": null,
      "outputs": []
    },
    {
      "cell_type": "code",
      "metadata": {
        "id": "WkcPlpuQzgix"
      },
      "source": [
        "df1 = TWCB.get('BP01D01.px')\n",
        "print(df1)"
      ],
      "execution_count": null,
      "outputs": []
    },
    {
      "cell_type": "code",
      "metadata": {
        "id": "pQIw5xvV_yWR"
      },
      "source": [
        "df1.to_csv('匯率日報表.csv')"
      ],
      "execution_count": null,
      "outputs": []
    },
    {
      "cell_type": "code",
      "metadata": {
        "id": "LkckwbHs3hgN"
      },
      "source": [
        "data_list = TWCB.get_by_search('美元之匯率')"
      ],
      "execution_count": null,
      "outputs": []
    },
    {
      "cell_type": "code",
      "metadata": {
        "id": "Vd03YKzN5cgV"
      },
      "source": [
        "TWCB.get_all()"
      ],
      "execution_count": null,
      "outputs": []
    },
    {
      "cell_type": "code",
      "metadata": {
        "id": "OZKjmWaE32rN"
      },
      "source": [
        "import json\n",
        "import pandas as pd\n",
        "import os\n",
        "with open('download_TWCB.json','r',encoding='utf-8') as f:\n",
        "    test_data = json.load(f)\n",
        "if not os.path.isdir('twcb'):\n",
        "    os.mkdir('twcb')\n",
        "for key in test_data.keys():\n",
        "    data = pd.read_json(test_data[key])\n",
        "    data.to_csv('twcb/' + key + '.csv')"
      ],
      "execution_count": null,
      "outputs": []
    }
  ]
}