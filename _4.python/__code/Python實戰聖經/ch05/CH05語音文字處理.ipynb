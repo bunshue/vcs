{
  "nbformat": 4,
  "nbformat_minor": 0,
  "metadata": {
    "colab": {
      "name": "ch05.ipynb",
      "provenance": [],
      "collapsed_sections": []
    },
    "kernelspec": {
      "name": "python3",
      "display_name": "Python 3"
    }
  },
  "cells": [
    {
      "cell_type": "markdown",
      "metadata": {
        "id": "c9YEN_suFQE4"
      },
      "source": [
        "## gTTS：文字轉語音"
      ]
    },
    {
      "cell_type": "code",
      "metadata": {
        "id": "S7DXJ-3-FGxg"
      },
      "source": [
        "!pip install gTTS "
      ],
      "execution_count": null,
      "outputs": []
    },
    {
      "cell_type": "code",
      "metadata": {
        "id": "0rfW8XXZFx8y"
      },
      "source": [
        "import gtts\n",
        "import IPython.display as display"
      ],
      "execution_count": null,
      "outputs": []
    },
    {
      "cell_type": "code",
      "metadata": {
        "id": "mYejZzcgjz1O"
      },
      "source": [
        "print(gtts.lang.tts_langs())"
      ],
      "execution_count": null,
      "outputs": []
    },
    {
      "cell_type": "code",
      "metadata": {
        "id": "T8aXzRC-j0ZT"
      },
      "source": [
        "txt = 'gTTS可以透過線上翻譯，將文字轉換為語音，並將語音存檔'\n",
        "tts = gtts.gTTS(text=txt, lang='zh-tw')\n",
        "tts.save('gtts.mp3')\n",
        "display.Audio(\"gtts.mp3\", autoplay=True)"
      ],
      "execution_count": null,
      "outputs": []
    },
    {
      "cell_type": "code",
      "metadata": {
        "id": "ASdZsw_rlSmS"
      },
      "source": [
        "f = open(\"gtts2.mp3\", \"wb\")\n",
        "tts1 = gtts.gTTS(text='gTTS可以透過線上翻譯，將文字轉換為語音，並將語音存檔', lang='zh-tw')\n",
        "tts1.write_to_fp(f)\n",
        "tts2 = gtts.gTTS(text='將文字分解為多個段落，分別轉換為語音', lang='zh-tw')\n",
        "tts2.write_to_fp(f)\n",
        "display.Audio(\"gtts2.mp3\", autoplay=True)"
      ],
      "execution_count": null,
      "outputs": []
    },
    {
      "cell_type": "markdown",
      "metadata": {
        "id": "UZ32oU0G-txP"
      },
      "source": [
        "## SpeechRecognition：語音轉文字(聲音檔)"
      ]
    },
    {
      "cell_type": "code",
      "metadata": {
        "id": "bIOft_30-zJg"
      },
      "source": [
        "!pip install SpeechRecognition"
      ],
      "execution_count": null,
      "outputs": []
    },
    {
      "cell_type": "code",
      "metadata": {
        "id": "aTC81AGwIp9y"
      },
      "source": [
        "import speech_recognition as sr\n",
        "r = sr.Recognizer()\n",
        "with sr.WavFile(\"record1.wav\") as source:  #讀取wav檔\n",
        "    audio = r.record(source)\n",
        "try:\n",
        "    word = r.recognize_google(audio, language=\"zh-TW\")\n",
        "    print(word)\n",
        "except:\n",
        "    print(\"語音辨識失敗！\")"
      ],
      "execution_count": null,
      "outputs": []
    },
    {
      "cell_type": "markdown",
      "metadata": {
        "id": "t61Eype9wAg3"
      },
      "source": [
        "## SpeechRecognition：語音轉文字(麥克風)"
      ]
    },
    {
      "cell_type": "code",
      "metadata": {
        "id": "aPm9l0cLsxhB"
      },
      "source": [
        "!pip install pydub\n",
        "!pip install ffmpeg"
      ],
      "execution_count": null,
      "outputs": []
    },
    {
      "cell_type": "code",
      "metadata": {
        "id": "mZw0fzEeps6S"
      },
      "source": [
        "import speech_recognition as sr\n",
        "from pydub import AudioSegment\n",
        "from IPython.display import display, Javascript\n",
        "from google.colab.output import eval_js\n",
        "from base64 import b64decode\n",
        " \n",
        "def record_audio(filename):\n",
        "  js=Javascript(\"\"\"\n",
        "    async function recordAudio() {\n",
        "      const div = document.createElement('div');\n",
        "      const capture = document.createElement('button');\n",
        "      capture.textContent = \"開始錄音\";\n",
        "      capture.style.background = \"orange\";\n",
        "      capture.style.color = \"white\";\n",
        "      div.appendChild(capture);\n",
        "      const stopCapture = document.createElement(\"button\");\n",
        "      stopCapture.textContent = \"停止錄音\";\n",
        "      stopCapture.style.background = \"red\";\n",
        "      stopCapture.style.color = \"white\";\n",
        "      const audio = document.createElement('audio');\n",
        "      const recordingVid = document.createElement(\"audio\");\n",
        "      audio.style.display = 'block';\n",
        "      const stream = await navigator.mediaDevices.getUserMedia({audio:true});\n",
        "     \n",
        "      let recorder = new MediaRecorder(stream);\n",
        "      document.body.appendChild(div);\n",
        "      div.appendChild(audio);\n",
        "      audio.srcObject = stream;\n",
        "      audio.muted = true;\n",
        "      await audio.play();\n",
        "      google.colab.output.setIframeHeight(document.documentElement.scrollHeight, true);\n",
        "      await new Promise((resolve) => {capture.onclick = resolve; });\n",
        "      recorder.start();\n",
        "      capture.replaceWith(stopCapture);\n",
        "      await new Promise((resolve) => stopCapture.onclick = resolve);\n",
        "      recorder.stop();\n",
        "      let recData = await new Promise((resolve) => recorder.ondataavailable = resolve);\n",
        "      let arrBuff = await recData.data.arrayBuffer();\n",
        "      stream.getAudioTracks()[0].stop();\n",
        "      div.remove();\n",
        " \n",
        "      let binaryString = \"\";\n",
        "      let bytes = new Uint8Array(arrBuff);\n",
        "      bytes.forEach((byte) => {\n",
        "        binaryString += String.fromCharCode(byte);\n",
        "      })\n",
        "    return btoa(binaryString);\n",
        "    }\n",
        "  \"\"\")\n",
        "  try:\n",
        "    display(js)\n",
        "    data=eval_js('recordAudio({})')\n",
        "    binary=b64decode(data)\n",
        "    with open(filename,\"wb\") as audio_file:\n",
        "      audio_file.write(binary)\n",
        "  except Exception as err:\n",
        "    print(str(err))\n",
        "\n",
        "record_audio(\"record.webm\")\n",
        "sound = AudioSegment.from_file(\"record.webm\")\n",
        "sound.export(\"record.wav\", format ='wav')\n",
        "r = sr.Recognizer()\n",
        "with sr.WavFile(\"record.wav\") as source:\n",
        "    audio = r.record(source)\n",
        "try:\n",
        "    word = r.recognize_google(audio, language=\"zh-TW\")\n",
        "    print(\"語音辨識結果：\\n\" + word)\n",
        "except:\n",
        "    print(\"語音辨識失敗！\")"
      ],
      "execution_count": null,
      "outputs": []
    },
    {
      "cell_type": "markdown",
      "metadata": {
        "id": "kvujbw_DHEbJ"
      },
      "source": [
        "## google_trans_new：文字翻譯"
      ]
    },
    {
      "cell_type": "code",
      "metadata": {
        "id": "y_l4__R8HGlB"
      },
      "source": [
        "!pip install google_trans_new"
      ],
      "execution_count": null,
      "outputs": []
    },
    {
      "cell_type": "code",
      "metadata": {
        "id": "59LqOZqC1bZM"
      },
      "source": [
        "!sed -i \"s/response = (decoded_line + ']')/response = decoded_line/g\" /usr/local/lib/python3.7/dist-packages/google_trans_new/google_trans_new.py"
      ],
      "execution_count": null,
      "outputs": []
    },
    {
      "cell_type": "code",
      "metadata": {
        "id": "Dt1MpF_pHVwZ"
      },
      "source": [
        "from google_trans_new import google_translator\n",
        "translator = google_translator()\n",
        "text=\"今天天氣很好\"\n",
        "word = translator.translate(text, lang_src='zh-TW', lang_tgt='ja', pronounce=True)\n",
        "print(word)"
      ],
      "execution_count": null,
      "outputs": []
    },
    {
      "cell_type": "code",
      "metadata": {
        "id": "wL7FjvNOCOBu"
      },
      "source": [
        "from google_trans_new import google_translator\n",
        "translator = google_translator()\n",
        "print(translator.translate(\"今日の天気は良いです\"))"
      ],
      "execution_count": null,
      "outputs": []
    },
    {
      "cell_type": "code",
      "metadata": {
        "id": "4prPPVaiKql9"
      },
      "source": [
        "lang = translator.detect(\"今日の天気は良いです\")\n",
        "print(lang)"
      ],
      "execution_count": null,
      "outputs": []
    },
    {
      "cell_type": "markdown",
      "metadata": {
        "id": "ArkSWDYu1HFD"
      },
      "source": [
        "## 應用：AI智慧讀報機"
      ]
    },
    {
      "cell_type": "code",
      "metadata": {
        "id": "64hitz0K1PDE"
      },
      "source": [
        "!pip install newspaper3k\n",
        "!pip install gTTS\n",
        "!pip install google_trans_new"
      ],
      "execution_count": null,
      "outputs": []
    },
    {
      "cell_type": "code",
      "metadata": {
        "id": "BJUz79EF3WOl"
      },
      "source": [
        "import newspaper\n",
        "from newspaper import Article\n",
        "from google_trans_new import google_translator\n",
        "import gtts\n",
        "import IPython.display as display\n",
        "import random\n",
        "\n",
        "paper = newspaper.build('http://cnn.com', language='en')\n",
        "# paper = newspaper.build('http://www.cnbc.com', language='en')\n",
        "# paper = newspaper.build('http://www.bbc.co.uk', language='en')\n",
        "# paper = newspaper.build('http://www.foxnews.com', language='en')\n",
        "urls = []\n",
        "for article in paper.articles:\n",
        "    url = article.url\n",
        "    if '.html' in url:\n",
        "        try:  #有時會產生無法擷取的錯誤,故使用try\n",
        "          article = Article(url)\n",
        "          article.download()\n",
        "          article.parse()\n",
        "          content = article.text\n",
        "          if len(content)>0:\n",
        "              urls.append(url)\n",
        "              if len(urls)>10:\n",
        "                break\n",
        "        except: pass\n",
        "if len(urls)>0:\n",
        "    r = random.randint(0,len(urls)-1)\n",
        "    url = urls[r]\n",
        "    article = Article(url)\n",
        "    article.download()\n",
        "    article.parse()\n",
        "    content = article.text\n",
        "    if len(content)>5000: content = content[:4999]\n",
        "    translator = google_translator()\n",
        "    ret = translator.translate(content, lang_tgt='zh-TW')\n",
        "    print(ret)\n",
        "else: \n",
        "  ret = '無可用新聞！'\n",
        "tts = gtts.gTTS(text=ret, lang='zh-tw')\n",
        "tts.save('news.mp3')\n",
        "display.Audio(\"news.mp3\", autoplay=True)"
      ],
      "execution_count": null,
      "outputs": []
    }
  ]
}