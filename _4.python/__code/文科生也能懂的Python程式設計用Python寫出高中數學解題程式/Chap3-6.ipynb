{
 "cells": [
  {
   "cell_type": "markdown",
   "metadata": {},
   "source": [
    "### 6.1　點到直線的距離"
   ]
  },
  {
   "cell_type": "code",
   "execution_count": 1,
   "metadata": {},
   "outputs": [
    {
     "data": {
      "text/plain": [
       "5.0"
      ]
     },
     "execution_count": 1,
     "metadata": {},
     "output_type": "execute_result"
    }
   ],
   "source": [
    "import math\n",
    "x = 1\n",
    "y = 6\n",
    "a = 3\n",
    "b = -4\n",
    "c = -4\n",
    "math.fabs(a*x + b*y + c) / math.sqrt(a**2 + b**2)  # 點與直線距離的公式"
   ]
  },
  {
   "cell_type": "markdown",
   "metadata": {},
   "source": [
    "### 6.2　直線所圍區域的面積"
   ]
  },
  {
   "cell_type": "code",
   "execution_count": 2,
   "metadata": {},
   "outputs": [
    {
     "data": {
      "text/plain": [
       "8.999999999999996"
      ]
     },
     "execution_count": 2,
     "metadata": {},
     "output_type": "execute_result"
    }
   ],
   "source": [
    "import math\n",
    "x = [1, 3, 6]   # x座標（按A, B, C的順序）\n",
    "y = [5, 1, 4]   # y座標（按A, B, C的順序）\n",
    "\n",
    "a = math.sqrt((x[1]-x[0])**2 + (y[1]-y[0])**2)  # 邊AB的長度\n",
    "b = math.sqrt((x[2]-x[1])**2 + (y[2]-y[1])**2)  # 邊BC的長度\n",
    "c = math.sqrt((x[2]-x[0])**2 + (y[2]-y[0])**2)  # 邊AC的長度\n",
    "\n",
    "s = (a+b+c) / 2\n",
    "math.sqrt(s * (s-a) * (s-b) * (s-c))  # 海龍公式"
   ]
  },
  {
   "cell_type": "code",
   "execution_count": null,
   "metadata": {},
   "outputs": [],
   "source": []
  }
 ],
 "metadata": {
  "kernelspec": {
   "display_name": "Python 3",
   "language": "python",
   "name": "python3"
  },
  "language_info": {
   "codemirror_mode": {
    "name": "ipython",
    "version": 3
   },
   "file_extension": ".py",
   "mimetype": "text/x-python",
   "name": "python",
   "nbconvert_exporter": "python",
   "pygments_lexer": "ipython3",
   "version": "3.7.0"
  }
 },
 "nbformat": 4,
 "nbformat_minor": 2
}
