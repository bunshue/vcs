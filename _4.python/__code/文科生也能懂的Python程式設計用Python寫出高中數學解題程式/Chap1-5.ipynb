{
 "cells": [
  {
   "cell_type": "markdown",
   "metadata": {},
   "source": [
    "### 列表1-4　10進位數轉成2進位數（支援實數版）"
   ]
  },
  {
   "cell_type": "code",
   "execution_count": 1,
   "metadata": {},
   "outputs": [],
   "source": [
    "def dec2bin_ex(target):\n",
    "    # 將target分成整數部分與小數部分\n",
    "    i = int(target)  # 整數部分\n",
    "    f = target - i   # 小數部分\n",
    "    \n",
    "    # 將整數部分轉成2進制\n",
    "    a = []  # 存放餘數的列表\n",
    "\n",
    "    # 直到除法的商為0\n",
    "    while i != 0:\n",
    "        a.append(i % 2)  # 餘數\n",
    "        i = i // 2       # 商\n",
    "\n",
    "    # 將元素反轉排列\n",
    "    a.reverse()\n",
    "    \n",
    "    #將小數部分轉成2進制\n",
    "    b = []  # 存放整數部分的列表\n",
    "    n = 0   # 重複的次數\n",
    "\n",
    "    # 直到乘以2以後的小數部分變成0\n",
    "    while (f != 0):\n",
    "        temp = f * 2          # 小數部分×2\n",
    "        b.append(int(temp))   # 整數部分\n",
    "        f = temp - int(temp)  # 小數部分\n",
    "        n += 1 \n",
    "        if (n >= 10):\n",
    "            break\n",
    "    \n",
    "    # 轉成2進制的值\n",
    "    return a, b"
   ]
  },
  {
   "cell_type": "code",
   "execution_count": 2,
   "metadata": {},
   "outputs": [
    {
     "data": {
      "text/plain": [
       "([1, 0, 1, 0], [1, 0, 1])"
      ]
     },
     "execution_count": 2,
     "metadata": {},
     "output_type": "execute_result"
    }
   ],
   "source": [
    "dec2bin_ex(10.625)"
   ]
  },
  {
   "cell_type": "code",
   "execution_count": null,
   "metadata": {},
   "outputs": [],
   "source": []
  }
 ],
 "metadata": {
  "kernelspec": {
   "display_name": "Python 3",
   "language": "python",
   "name": "python3"
  },
  "language_info": {
   "codemirror_mode": {
    "name": "ipython",
    "version": 3
   },
   "file_extension": ".py",
   "mimetype": "text/x-python",
   "name": "python",
   "nbconvert_exporter": "python",
   "pygments_lexer": "ipython3",
   "version": "3.7.0"
  }
 },
 "nbformat": 4,
 "nbformat_minor": 2
}
