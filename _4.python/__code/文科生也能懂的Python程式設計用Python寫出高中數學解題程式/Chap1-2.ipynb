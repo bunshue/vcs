{
 "cells": [
  {
   "cell_type": "markdown",
   "metadata": {},
   "source": [
    "### 列表1-1　將10進位數轉成2進位數"
   ]
  },
  {
   "cell_type": "code",
   "execution_count": 1,
   "metadata": {},
   "outputs": [],
   "source": [
    "def dec2bin(target):\n",
    "    amari = []   # 存放餘數的列表\n",
    "\n",
    "    # 直到除法的商為0\n",
    "    while target != 0:\n",
    "        amari.append(target % 2) # 餘數\n",
    "        target = target // 2     # 商\n",
    "\n",
    "    # 反轉列表內元素順序\n",
    "    amari.reverse()\n",
    "    return amari"
   ]
  },
  {
   "cell_type": "code",
   "execution_count": 2,
   "metadata": {},
   "outputs": [
    {
     "data": {
      "text/plain": [
       "[1, 1, 0, 1, 0]"
      ]
     },
     "execution_count": 2,
     "metadata": {},
     "output_type": "execute_result"
    }
   ],
   "source": [
    "dec2bin(26)"
   ]
  },
  {
   "cell_type": "markdown",
   "metadata": {},
   "source": [
    "### 列表1-2  將10進位數轉成16進位數"
   ]
  },
  {
   "cell_type": "code",
   "execution_count": 3,
   "metadata": {},
   "outputs": [],
   "source": [
    "def dec2hex(target):\n",
    "    amari = []  # 存放餘數的列表\n",
    "\n",
    "    # 直到除法的商為0\n",
    "    while target != 0:\n",
    "        amari.append(target % 16)  # 餘數\n",
    "        target = target // 16      # 商\n",
    "\n",
    "    # 將餘數10～15換成A～F\n",
    "    for i in range(len(amari)):\n",
    "        if amari[i] == 10:     amari[i] = 'A'\n",
    "        elif amari[i] == 11:   amari[i] = 'B'\n",
    "        elif amari[i] == 12:   amari[i] = 'C'\n",
    "        elif amari[i] == 13:   amari[i] = 'D'\n",
    "        elif amari[i] == 14:   amari[i] = 'E'\n",
    "        elif amari[i] == 15:   amari[i] = 'F'\n",
    "        \n",
    "    # 反轉列表內元素順序\n",
    "    amari.reverse()\n",
    "    return amari"
   ]
  },
  {
   "cell_type": "code",
   "execution_count": 4,
   "metadata": {},
   "outputs": [
    {
     "data": {
      "text/plain": [
       "[1, 'A']"
      ]
     },
     "execution_count": 4,
     "metadata": {},
     "output_type": "execute_result"
    }
   ],
   "source": [
    "dec2hex(26)"
   ]
  },
  {
   "cell_type": "markdown",
   "metadata": {},
   "source": [
    "### 列表1-3  將m進位數轉成10進位數"
   ]
  },
  {
   "cell_type": "code",
   "execution_count": 5,
   "metadata": {},
   "outputs": [],
   "source": [
    "def any2dec(target, m):\n",
    "    n = len(target)-1 # 指數的最大值\n",
    "    sum = 0           # 轉為10進位數後的值\n",
    "    \n",
    "    # 重複次數為字元數\n",
    "    for i in range(len(target)):\n",
    "        if target[i] == 'A':     num = 10\n",
    "        elif target[i] == 'B':   num = 11\n",
    "        elif target[i] == 'C':   num = 12\n",
    "        elif target[i] == 'D':   num = 13\n",
    "        elif target[i] == 'E':   num = 14\n",
    "        elif target[i] == 'F':   num = 15\n",
    "        else:                    num = int(target[i])\n",
    "            \n",
    "        sum += (m ** n) * num  # 「m的n次方×每一位的值」加總\n",
    "        n -= 1  # 權重減少1階\n",
    "    return sum\n"
   ]
  },
  {
   "cell_type": "code",
   "execution_count": 6,
   "metadata": {},
   "outputs": [
    {
     "data": {
      "text/plain": [
       "26"
      ]
     },
     "execution_count": 6,
     "metadata": {},
     "output_type": "execute_result"
    }
   ],
   "source": [
    "any2dec('11010', 2)"
   ]
  },
  {
   "cell_type": "code",
   "execution_count": 7,
   "metadata": {},
   "outputs": [
    {
     "data": {
      "text/plain": [
       "26"
      ]
     },
     "execution_count": 7,
     "metadata": {},
     "output_type": "execute_result"
    }
   ],
   "source": [
    "any2dec('1A', 16)"
   ]
  },
  {
   "cell_type": "code",
   "execution_count": null,
   "metadata": {},
   "outputs": [],
   "source": []
  }
 ],
 "metadata": {
  "kernelspec": {
   "display_name": "Python 3",
   "language": "python",
   "name": "python3"
  },
  "language_info": {
   "codemirror_mode": {
    "name": "ipython",
    "version": 3
   },
   "file_extension": ".py",
   "mimetype": "text/x-python",
   "name": "python",
   "nbconvert_exporter": "python",
   "pygments_lexer": "ipython3",
   "version": "3.7.0"
  }
 },
 "nbformat": 4,
 "nbformat_minor": 2
}
