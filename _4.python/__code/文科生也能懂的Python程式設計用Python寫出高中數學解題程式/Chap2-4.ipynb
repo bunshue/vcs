{
 "cells": [
  {
   "cell_type": "markdown",
   "metadata": {},
   "source": [
    "### 列表2-2　判斷是否帶著糖果"
   ]
  },
  {
   "cell_type": "code",
   "execution_count": 1,
   "metadata": {},
   "outputs": [],
   "source": [
    "def check_candy(item):\n",
    "    if (item & 0b1000) != 0:   # 判斷糖果的旗標是否有立著\n",
    "        print('帶著')\n",
    "    else:\n",
    "        print('沒帶著')"
   ]
  },
  {
   "cell_type": "code",
   "execution_count": 2,
   "metadata": {},
   "outputs": [
    {
     "name": "stdout",
     "output_type": "stream",
     "text": [
      "帶著\n"
     ]
    }
   ],
   "source": [
    "taro_item = 9\n",
    "check_candy(taro_item)"
   ]
  },
  {
   "cell_type": "markdown",
   "metadata": {},
   "source": [
    "### 列表2-3　以測驗分數判斷成績"
   ]
  },
  {
   "cell_type": "code",
   "execution_count": 3,
   "metadata": {},
   "outputs": [],
   "source": [
    "def func_and(score):\n",
    "    if score >= 80:                        # score在80以上\n",
    "        rank = 'A'\n",
    "    elif (score >= 60) and (score < 80):  # score在60～79的範圍內\n",
    "        rank = 'B'\n",
    "    elif (score >= 40) and (score < 60):  # score在40～59的範圍內\n",
    "        rank = 'C'\n",
    "    else:                                  # 以上皆非（score未滿40）\n",
    "        rank = '補考'\n",
    "    return rank"
   ]
  },
  {
   "cell_type": "code",
   "execution_count": 4,
   "metadata": {},
   "outputs": [
    {
     "data": {
      "text/plain": [
       "'B'"
      ]
     },
     "execution_count": 4,
     "metadata": {},
     "output_type": "execute_result"
    }
   ],
   "source": [
    "rank = func_and(78)\n",
    "rank"
   ]
  },
  {
   "cell_type": "markdown",
   "metadata": {},
   "source": [
    "### 列表2-4　確認是否有輸入Y或y"
   ]
  },
  {
   "cell_type": "code",
   "execution_count": 5,
   "metadata": {},
   "outputs": [],
   "source": [
    "def func_or():\n",
    "    a = input('喜歡狗嗎？（Y/N）... ')   # 顯示要求鍵盤輸入的訊息\n",
    "    if (a == 'Y') or (a == 'y'):  # 輸入「Y」或「y」時\n",
    "        print('是')\n",
    "    else:                         # 輸入其他東西時\n",
    "        print('否')"
   ]
  },
  {
   "cell_type": "code",
   "execution_count": 6,
   "metadata": {},
   "outputs": [
    {
     "name": "stdout",
     "output_type": "stream",
     "text": [
      "喜歡狗嗎？（Y/N）... y\n",
      "是\n"
     ]
    }
   ],
   "source": [
    "func_or()"
   ]
  },
  {
   "cell_type": "code",
   "execution_count": null,
   "metadata": {},
   "outputs": [],
   "source": []
  }
 ],
 "metadata": {
  "kernelspec": {
   "display_name": "Python 3",
   "language": "python",
   "name": "python3"
  },
  "language_info": {
   "codemirror_mode": {
    "name": "ipython",
    "version": 3
   },
   "file_extension": ".py",
   "mimetype": "text/x-python",
   "name": "python",
   "nbconvert_exporter": "python",
   "pygments_lexer": "ipython3",
   "version": "3.7.0"
  }
 },
 "nbformat": 4,
 "nbformat_minor": 2
}
