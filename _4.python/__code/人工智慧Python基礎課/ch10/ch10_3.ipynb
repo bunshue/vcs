{
 "cells": [
  {
   "cell_type": "code",
   "execution_count": null,
   "metadata": {},
   "outputs": [],
   "source": [
    "import random\n",
    "\n",
    "random."
   ]
  },
  {
   "cell_type": "code",
   "execution_count": 1,
   "metadata": {},
   "outputs": [],
   "source": [
    "import random\n",
    "\n",
    "%pdoc random"
   ]
  },
  {
   "cell_type": "code",
   "execution_count": 2,
   "metadata": {},
   "outputs": [],
   "source": [
    "import random\n",
    "\n",
    "%pdoc random.choice"
   ]
  },
  {
   "cell_type": "code",
   "execution_count": 3,
   "metadata": {},
   "outputs": [],
   "source": [
    "import random\n",
    "\n",
    "%psource random.choice"
   ]
  },
  {
   "cell_type": "code",
   "execution_count": 4,
   "metadata": {},
   "outputs": [],
   "source": [
    "a = 10\n",
    "a?"
   ]
  },
  {
   "cell_type": "code",
   "execution_count": 5,
   "metadata": {},
   "outputs": [
    {
     "name": "stdout",
     "output_type": "stream",
     "text": [
      "10\n"
     ]
    }
   ],
   "source": [
    "a = 10\n",
    "print(a)\n",
    "print?"
   ]
  },
  {
   "cell_type": "code",
   "execution_count": 6,
   "metadata": {},
   "outputs": [
    {
     "name": "stdout",
     "output_type": "stream",
     "text": [
      " 磁碟區 D 中的磁碟是 Data\n",
      " 磁碟區序號:  5EE4-DD08\n",
      "\n",
      " D:\\fChartPython6_3.76AI\\WinPython\\notebooks\\ch10 的目錄\n",
      "\n",
      "2020/03/27  上午 11:24    <DIR>          .\n",
      "2020/03/27  上午 11:24    <DIR>          ..\n",
      "2020/03/27  上午 11:22    <DIR>          .ipynb_checkpoints\n",
      "2020/03/27  上午 10:46             1,270 ch10_2.ipynb\n",
      "2020/03/27  上午 09:37            28,501 ch10_2a.ipynb\n",
      "2018/02/13  下午 01:49               169 ch10_2a.py\n",
      "2020/03/27  上午 11:24             1,061 ch10_3.ipynb\n",
      "2020/03/09  下午 09:04               119 ch2_6.py\n",
      "2001/07/17  上午 12:38             9,013 dragon.jpg\n",
      "2020/03/27  上午 10:59             3,548 Markdown.ipynb\n",
      "2001/02/11  上午 01:23            57,370 views.gif\n",
      "               8 個檔案         101,051 位元組\n",
      "               3 個目錄  591,624,491,008 位元組可用\n"
     ]
    }
   ],
   "source": [
    "!dir"
   ]
  },
  {
   "cell_type": "code",
   "execution_count": 7,
   "metadata": {},
   "outputs": [
    {
     "name": "stdout",
     "output_type": "stream",
     "text": [
      "數值 = 10\n",
      "10\n",
      "數字是10\n"
     ]
    }
   ],
   "source": [
    "%run ch2_6.py"
   ]
  },
  {
   "cell_type": "code",
   "execution_count": 8,
   "metadata": {},
   "outputs": [],
   "source": [
    "%magic"
   ]
  },
  {
   "cell_type": "code",
   "execution_count": 9,
   "metadata": {},
   "outputs": [],
   "source": [
    "%quickref"
   ]
  },
  {
   "cell_type": "code",
   "execution_count": null,
   "metadata": {},
   "outputs": [],
   "source": []
  }
 ],
 "metadata": {
  "kernelspec": {
   "display_name": "Python 3",
   "language": "python",
   "name": "python3"
  },
  "language_info": {
   "codemirror_mode": {
    "name": "ipython",
    "version": 3
   },
   "file_extension": ".py",
   "mimetype": "text/x-python",
   "name": "python",
   "nbconvert_exporter": "python",
   "pygments_lexer": "ipython3",
   "version": "3.7.6"
  }
 },
 "nbformat": 4,
 "nbformat_minor": 4
}
