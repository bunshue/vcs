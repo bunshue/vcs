{
 "cells": [
  {
   "cell_type": "markdown",
   "metadata": {},
   "source": [
    "## 請注意! 此筆記本需在Google Colaboratory雲端服務執行"
   ]
  },
  {
   "cell_type": "code",
   "execution_count": 1,
   "metadata": {
    "colab": {
     "base_uri": "https://localhost:8080/",
     "height": 34
    },
    "colab_type": "code",
    "id": "UpT--D7-4ZoD",
    "outputId": "caeffbff-eacb-4674-af6b-e706992451c3"
   },
   "outputs": [
    {
     "name": "stdout",
     "output_type": "stream",
     "text": [
      "Drive already mounted at /content/drive; to attempt to forcibly remount, call drive.mount(\"/content/drive\", force_remount=True).\n"
     ]
    }
   ],
   "source": [
    "from google.colab import drive\n",
    "drive.mount(\"/content/drive\")"
   ]
  },
  {
   "cell_type": "code",
   "execution_count": 2,
   "metadata": {
    "colab": {
     "base_uri": "https://localhost:8080/",
     "height": 80
    },
    "colab_type": "code",
    "id": "75VHwf4z4qmM",
    "outputId": "2bb50741-dfb9-4464-e814-dde1176baaee"
   },
   "outputs": [
    {
     "name": "stderr",
     "output_type": "stream",
     "text": [
      "Using TensorFlow backend.\n"
     ]
    },
    {
     "data": {
      "text/html": [
       "<p style=\"color: red;\">\n",
       "The default version of TensorFlow in Colab will soon switch to TensorFlow 2.x.<br>\n",
       "We recommend you <a href=\"https://www.tensorflow.org/guide/migrate\" target=\"_blank\">upgrade</a> now \n",
       "or ensure your notebook will continue to use TensorFlow 1.x via the <code>%tensorflow_version 1.x</code> magic:\n",
       "<a href=\"https://colab.research.google.com/notebooks/tensorflow_version.ipynb\" target=\"_blank\">more info</a>.</p>\n"
      ],
      "text/plain": [
       "<IPython.core.display.HTML object>"
      ]
     },
     "metadata": {
      "tags": []
     },
     "output_type": "display_data"
    }
   ],
   "source": [
    "import numpy as np\n",
    "import pandas as pd\n",
    "from keras.models import Sequential\n",
    "from keras.layers import Dense\n",
    "from keras.utils import to_categorical\n",
    "from sklearn import preprocessing\n",
    "\n",
    "np.random.seed(7)"
   ]
  },
  {
   "cell_type": "code",
   "execution_count": 0,
   "metadata": {
    "colab": {},
    "colab_type": "code",
    "id": "cD-tRUC245pR"
   },
   "outputs": [],
   "source": [
    "df = pd.read_csv(\"/content/drive/My Drive/iris.csv\")"
   ]
  },
  {
   "cell_type": "code",
   "execution_count": 0,
   "metadata": {
    "colab": {},
    "colab_type": "code",
    "id": "3_TgJfFl5Iby"
   },
   "outputs": [],
   "source": [
    "label_encoder = preprocessing.LabelEncoder()\n",
    "df[\"target\"] = label_encoder.fit_transform(df[\"target\"])"
   ]
  },
  {
   "cell_type": "code",
   "execution_count": 0,
   "metadata": {
    "colab": {},
    "colab_type": "code",
    "id": "fG12IVzG5TGC"
   },
   "outputs": [],
   "source": [
    "dataset = df.values\n",
    "np.random.shuffle(dataset)\n",
    "X = dataset[:,0:4].astype(float)\n",
    "Y = to_categorical(dataset[:,4])"
   ]
  },
  {
   "cell_type": "code",
   "execution_count": 0,
   "metadata": {
    "colab": {},
    "colab_type": "code",
    "id": "21NZ-xkZ5gMy"
   },
   "outputs": [],
   "source": [
    "scaler = preprocessing.StandardScaler()\n",
    "X = scaler.fit_transform(X)"
   ]
  },
  {
   "cell_type": "code",
   "execution_count": 0,
   "metadata": {
    "colab": {},
    "colab_type": "code",
    "id": "AHH9-ZGp5tFT"
   },
   "outputs": [],
   "source": [
    "X_train, Y_train = X[:120], Y[:120]\n",
    "X_test, Y_test = X[120:], Y[120:]"
   ]
  },
  {
   "cell_type": "code",
   "execution_count": 8,
   "metadata": {
    "colab": {
     "base_uri": "https://localhost:8080/",
     "height": 139
    },
    "colab_type": "code",
    "id": "WPwIEZCH5yra",
    "outputId": "ba561532-b45a-4692-bef9-5a0321b04bcf"
   },
   "outputs": [
    {
     "name": "stdout",
     "output_type": "stream",
     "text": [
      "WARNING:tensorflow:From /usr/local/lib/python3.6/dist-packages/keras/backend/tensorflow_backend.py:66: The name tf.get_default_graph is deprecated. Please use tf.compat.v1.get_default_graph instead.\n",
      "\n",
      "WARNING:tensorflow:From /usr/local/lib/python3.6/dist-packages/keras/backend/tensorflow_backend.py:541: The name tf.placeholder is deprecated. Please use tf.compat.v1.placeholder instead.\n",
      "\n",
      "WARNING:tensorflow:From /usr/local/lib/python3.6/dist-packages/keras/backend/tensorflow_backend.py:4432: The name tf.random_uniform is deprecated. Please use tf.random.uniform instead.\n",
      "\n"
     ]
    }
   ],
   "source": [
    "model = Sequential()\n",
    "model.add(Dense(6, input_shape=(4,), activation=\"relu\"))\n",
    "model.add(Dense(6, activation=\"relu\"))\n",
    "model.add(Dense(3, activation=\"softmax\"))"
   ]
  },
  {
   "cell_type": "code",
   "execution_count": 9,
   "metadata": {
    "colab": {
     "base_uri": "https://localhost:8080/",
     "height": 255
    },
    "colab_type": "code",
    "id": "WDZv7mRy550K",
    "outputId": "943f7824-5f6a-4129-8cff-a939c55d3863"
   },
   "outputs": [
    {
     "name": "stdout",
     "output_type": "stream",
     "text": [
      "Model: \"sequential_1\"\n",
      "_________________________________________________________________\n",
      "Layer (type)                 Output Shape              Param #   \n",
      "=================================================================\n",
      "dense_1 (Dense)              (None, 6)                 30        \n",
      "_________________________________________________________________\n",
      "dense_2 (Dense)              (None, 6)                 42        \n",
      "_________________________________________________________________\n",
      "dense_3 (Dense)              (None, 3)                 21        \n",
      "=================================================================\n",
      "Total params: 93\n",
      "Trainable params: 93\n",
      "Non-trainable params: 0\n",
      "_________________________________________________________________\n"
     ]
    }
   ],
   "source": [
    "model.summary()"
   ]
  },
  {
   "cell_type": "code",
   "execution_count": 10,
   "metadata": {
    "colab": {
     "base_uri": "https://localhost:8080/",
     "height": 105
    },
    "colab_type": "code",
    "id": "7vEd1OY65-kK",
    "outputId": "ed71d716-d368-482b-8f22-2e69d3269d3b"
   },
   "outputs": [
    {
     "name": "stdout",
     "output_type": "stream",
     "text": [
      "WARNING:tensorflow:From /usr/local/lib/python3.6/dist-packages/keras/optimizers.py:793: The name tf.train.Optimizer is deprecated. Please use tf.compat.v1.train.Optimizer instead.\n",
      "\n",
      "WARNING:tensorflow:From /usr/local/lib/python3.6/dist-packages/keras/backend/tensorflow_backend.py:3576: The name tf.log is deprecated. Please use tf.math.log instead.\n",
      "\n"
     ]
    }
   ],
   "source": [
    "model.compile(loss=\"categorical_crossentropy\", optimizer=\"adam\",\n",
    "              metrics=[\"accuracy\"])"
   ]
  },
  {
   "cell_type": "code",
   "execution_count": 11,
   "metadata": {
    "colab": {
     "base_uri": "https://localhost:8080/",
     "height": 1000
    },
    "colab_type": "code",
    "id": "kO9ptjCH6HL5",
    "outputId": "8023af90-b485-44a0-ae86-d916729161a6"
   },
   "outputs": [
    {
     "name": "stdout",
     "output_type": "stream",
     "text": [
      "WARNING:tensorflow:From /tensorflow-1.15.0/python3.6/tensorflow_core/python/ops/math_grad.py:1424: where (from tensorflow.python.ops.array_ops) is deprecated and will be removed in a future version.\n",
      "Instructions for updating:\n",
      "Use tf.where in 2.0, which has the same broadcast rule as np.where\n",
      "WARNING:tensorflow:From /usr/local/lib/python3.6/dist-packages/keras/backend/tensorflow_backend.py:1033: The name tf.assign_add is deprecated. Please use tf.compat.v1.assign_add instead.\n",
      "\n",
      "WARNING:tensorflow:From /usr/local/lib/python3.6/dist-packages/keras/backend/tensorflow_backend.py:1020: The name tf.assign is deprecated. Please use tf.compat.v1.assign instead.\n",
      "\n",
      "WARNING:tensorflow:From /usr/local/lib/python3.6/dist-packages/keras/backend/tensorflow_backend.py:3005: The name tf.Session is deprecated. Please use tf.compat.v1.Session instead.\n",
      "\n",
      "Epoch 1/100\n",
      "WARNING:tensorflow:From /usr/local/lib/python3.6/dist-packages/keras/backend/tensorflow_backend.py:190: The name tf.get_default_session is deprecated. Please use tf.compat.v1.get_default_session instead.\n",
      "\n",
      "WARNING:tensorflow:From /usr/local/lib/python3.6/dist-packages/keras/backend/tensorflow_backend.py:197: The name tf.ConfigProto is deprecated. Please use tf.compat.v1.ConfigProto instead.\n",
      "\n",
      "WARNING:tensorflow:From /usr/local/lib/python3.6/dist-packages/keras/backend/tensorflow_backend.py:207: The name tf.global_variables is deprecated. Please use tf.compat.v1.global_variables instead.\n",
      "\n",
      "WARNING:tensorflow:From /usr/local/lib/python3.6/dist-packages/keras/backend/tensorflow_backend.py:216: The name tf.is_variable_initialized is deprecated. Please use tf.compat.v1.is_variable_initialized instead.\n",
      "\n",
      "WARNING:tensorflow:From /usr/local/lib/python3.6/dist-packages/keras/backend/tensorflow_backend.py:223: The name tf.variables_initializer is deprecated. Please use tf.compat.v1.variables_initializer instead.\n",
      "\n",
      "120/120 [==============================] - 0s 2ms/step - loss: 1.1829 - acc: 0.0083\n",
      "Epoch 2/100\n",
      "120/120 [==============================] - 0s 220us/step - loss: 1.1249 - acc: 0.1000\n",
      "Epoch 3/100\n",
      "120/120 [==============================] - 0s 262us/step - loss: 1.0717 - acc: 0.2750\n",
      "Epoch 4/100\n",
      "120/120 [==============================] - 0s 278us/step - loss: 1.0404 - acc: 0.3750\n",
      "Epoch 5/100\n",
      "120/120 [==============================] - 0s 208us/step - loss: 1.0205 - acc: 0.4333\n",
      "Epoch 6/100\n",
      "120/120 [==============================] - 0s 275us/step - loss: 0.9973 - acc: 0.5167\n",
      "Epoch 7/100\n",
      "120/120 [==============================] - 0s 281us/step - loss: 0.9636 - acc: 0.5917\n",
      "Epoch 8/100\n",
      "120/120 [==============================] - 0s 257us/step - loss: 0.9164 - acc: 0.6500\n",
      "Epoch 9/100\n",
      "120/120 [==============================] - 0s 266us/step - loss: 0.8586 - acc: 0.6750\n",
      "Epoch 10/100\n",
      "120/120 [==============================] - 0s 261us/step - loss: 0.7940 - acc: 0.6750\n",
      "Epoch 11/100\n",
      "120/120 [==============================] - 0s 275us/step - loss: 0.7223 - acc: 0.6833\n",
      "Epoch 12/100\n",
      "120/120 [==============================] - 0s 288us/step - loss: 0.6552 - acc: 0.6833\n",
      "Epoch 13/100\n",
      "120/120 [==============================] - 0s 240us/step - loss: 0.5975 - acc: 0.6833\n",
      "Epoch 14/100\n",
      "120/120 [==============================] - 0s 258us/step - loss: 0.5524 - acc: 0.6833\n",
      "Epoch 15/100\n",
      "120/120 [==============================] - 0s 219us/step - loss: 0.5179 - acc: 0.7000\n",
      "Epoch 16/100\n",
      "120/120 [==============================] - 0s 232us/step - loss: 0.4907 - acc: 0.7250\n",
      "Epoch 17/100\n",
      "120/120 [==============================] - 0s 226us/step - loss: 0.4686 - acc: 0.7333\n",
      "Epoch 18/100\n",
      "120/120 [==============================] - 0s 247us/step - loss: 0.4498 - acc: 0.7750\n",
      "Epoch 19/100\n",
      "120/120 [==============================] - 0s 261us/step - loss: 0.4336 - acc: 0.7833\n",
      "Epoch 20/100\n",
      "120/120 [==============================] - 0s 243us/step - loss: 0.4194 - acc: 0.7917\n",
      "Epoch 21/100\n",
      "120/120 [==============================] - 0s 260us/step - loss: 0.4067 - acc: 0.8000\n",
      "Epoch 22/100\n",
      "120/120 [==============================] - 0s 289us/step - loss: 0.3954 - acc: 0.8167\n",
      "Epoch 23/100\n",
      "120/120 [==============================] - 0s 266us/step - loss: 0.3852 - acc: 0.8250\n",
      "Epoch 24/100\n",
      "120/120 [==============================] - 0s 280us/step - loss: 0.3742 - acc: 0.8250\n",
      "Epoch 25/100\n",
      "120/120 [==============================] - 0s 233us/step - loss: 0.3649 - acc: 0.8500\n",
      "Epoch 26/100\n",
      "120/120 [==============================] - 0s 235us/step - loss: 0.3562 - acc: 0.8667\n",
      "Epoch 27/100\n",
      "120/120 [==============================] - 0s 257us/step - loss: 0.3474 - acc: 0.8667\n",
      "Epoch 28/100\n",
      "120/120 [==============================] - 0s 247us/step - loss: 0.3393 - acc: 0.8917\n",
      "Epoch 29/100\n",
      "120/120 [==============================] - 0s 219us/step - loss: 0.3324 - acc: 0.8833\n",
      "Epoch 30/100\n",
      "120/120 [==============================] - 0s 263us/step - loss: 0.3245 - acc: 0.9000\n",
      "Epoch 31/100\n",
      "120/120 [==============================] - 0s 233us/step - loss: 0.3174 - acc: 0.9167\n",
      "Epoch 32/100\n",
      "120/120 [==============================] - 0s 239us/step - loss: 0.3107 - acc: 0.9167\n",
      "Epoch 33/100\n",
      "120/120 [==============================] - 0s 233us/step - loss: 0.3048 - acc: 0.9167\n",
      "Epoch 34/100\n",
      "120/120 [==============================] - 0s 220us/step - loss: 0.2982 - acc: 0.9250\n",
      "Epoch 35/100\n",
      "120/120 [==============================] - 0s 221us/step - loss: 0.2916 - acc: 0.9250\n",
      "Epoch 36/100\n",
      "120/120 [==============================] - 0s 238us/step - loss: 0.2864 - acc: 0.9250\n",
      "Epoch 37/100\n",
      "120/120 [==============================] - 0s 232us/step - loss: 0.2809 - acc: 0.9250\n",
      "Epoch 38/100\n",
      "120/120 [==============================] - 0s 247us/step - loss: 0.2754 - acc: 0.9250\n",
      "Epoch 39/100\n",
      "120/120 [==============================] - 0s 265us/step - loss: 0.2693 - acc: 0.9250\n",
      "Epoch 40/100\n",
      "120/120 [==============================] - 0s 248us/step - loss: 0.2641 - acc: 0.9417\n",
      "Epoch 41/100\n",
      "120/120 [==============================] - 0s 250us/step - loss: 0.2585 - acc: 0.9417\n",
      "Epoch 42/100\n",
      "120/120 [==============================] - 0s 234us/step - loss: 0.2540 - acc: 0.9500\n",
      "Epoch 43/100\n",
      "120/120 [==============================] - 0s 233us/step - loss: 0.2488 - acc: 0.9500\n",
      "Epoch 44/100\n",
      "120/120 [==============================] - 0s 224us/step - loss: 0.2435 - acc: 0.9500\n",
      "Epoch 45/100\n",
      "120/120 [==============================] - 0s 230us/step - loss: 0.2387 - acc: 0.9583\n",
      "Epoch 46/100\n",
      "120/120 [==============================] - 0s 248us/step - loss: 0.2334 - acc: 0.9583\n",
      "Epoch 47/100\n",
      "120/120 [==============================] - 0s 242us/step - loss: 0.2290 - acc: 0.9750\n",
      "Epoch 48/100\n",
      "120/120 [==============================] - 0s 288us/step - loss: 0.2243 - acc: 0.9750\n",
      "Epoch 49/100\n",
      "120/120 [==============================] - 0s 297us/step - loss: 0.2209 - acc: 0.9667\n",
      "Epoch 50/100\n",
      "120/120 [==============================] - 0s 261us/step - loss: 0.2156 - acc: 0.9750\n",
      "Epoch 51/100\n",
      "120/120 [==============================] - 0s 234us/step - loss: 0.2110 - acc: 0.9750\n",
      "Epoch 52/100\n",
      "120/120 [==============================] - 0s 239us/step - loss: 0.2071 - acc: 0.9750\n",
      "Epoch 53/100\n",
      "120/120 [==============================] - 0s 242us/step - loss: 0.2030 - acc: 0.9750\n",
      "Epoch 54/100\n",
      "120/120 [==============================] - 0s 245us/step - loss: 0.1990 - acc: 0.9750\n",
      "Epoch 55/100\n",
      "120/120 [==============================] - 0s 254us/step - loss: 0.1949 - acc: 0.9750\n",
      "Epoch 56/100\n",
      "120/120 [==============================] - 0s 246us/step - loss: 0.1911 - acc: 0.9750\n",
      "Epoch 57/100\n",
      "120/120 [==============================] - 0s 227us/step - loss: 0.1874 - acc: 0.9750\n",
      "Epoch 58/100\n",
      "120/120 [==============================] - 0s 250us/step - loss: 0.1853 - acc: 0.9750\n",
      "Epoch 59/100\n",
      "120/120 [==============================] - 0s 267us/step - loss: 0.1802 - acc: 0.9750\n",
      "Epoch 60/100\n",
      "120/120 [==============================] - 0s 280us/step - loss: 0.1768 - acc: 0.9750\n",
      "Epoch 61/100\n",
      "120/120 [==============================] - 0s 270us/step - loss: 0.1733 - acc: 0.9750\n",
      "Epoch 62/100\n",
      "120/120 [==============================] - 0s 230us/step - loss: 0.1708 - acc: 0.9750\n",
      "Epoch 63/100\n",
      "120/120 [==============================] - 0s 226us/step - loss: 0.1672 - acc: 0.9750\n",
      "Epoch 64/100\n",
      "120/120 [==============================] - 0s 228us/step - loss: 0.1648 - acc: 0.9833\n",
      "Epoch 65/100\n",
      "120/120 [==============================] - 0s 246us/step - loss: 0.1609 - acc: 0.9750\n",
      "Epoch 66/100\n",
      "120/120 [==============================] - 0s 224us/step - loss: 0.1580 - acc: 0.9750\n",
      "Epoch 67/100\n",
      "120/120 [==============================] - 0s 237us/step - loss: 0.1558 - acc: 0.9750\n",
      "Epoch 68/100\n",
      "120/120 [==============================] - 0s 263us/step - loss: 0.1528 - acc: 0.9750\n",
      "Epoch 69/100\n",
      "120/120 [==============================] - 0s 238us/step - loss: 0.1497 - acc: 0.9833\n",
      "Epoch 70/100\n",
      "120/120 [==============================] - 0s 217us/step - loss: 0.1472 - acc: 0.9833\n",
      "Epoch 71/100\n",
      "120/120 [==============================] - 0s 232us/step - loss: 0.1447 - acc: 0.9833\n",
      "Epoch 72/100\n",
      "120/120 [==============================] - 0s 223us/step - loss: 0.1421 - acc: 0.9833\n",
      "Epoch 73/100\n",
      "120/120 [==============================] - 0s 348us/step - loss: 0.1397 - acc: 0.9833\n",
      "Epoch 74/100\n",
      "120/120 [==============================] - 0s 308us/step - loss: 0.1374 - acc: 0.9833\n",
      "Epoch 75/100\n",
      "120/120 [==============================] - 0s 271us/step - loss: 0.1351 - acc: 0.9833\n",
      "Epoch 76/100\n",
      "120/120 [==============================] - 0s 285us/step - loss: 0.1329 - acc: 0.9833\n",
      "Epoch 77/100\n",
      "120/120 [==============================] - 0s 271us/step - loss: 0.1313 - acc: 0.9833\n",
      "Epoch 78/100\n",
      "120/120 [==============================] - 0s 279us/step - loss: 0.1289 - acc: 0.9833\n",
      "Epoch 79/100\n",
      "120/120 [==============================] - 0s 296us/step - loss: 0.1264 - acc: 0.9833\n",
      "Epoch 80/100\n",
      "120/120 [==============================] - 0s 260us/step - loss: 0.1249 - acc: 0.9833\n",
      "Epoch 81/100\n",
      "120/120 [==============================] - 0s 270us/step - loss: 0.1224 - acc: 0.9833\n",
      "Epoch 82/100\n",
      "120/120 [==============================] - 0s 278us/step - loss: 0.1208 - acc: 0.9833\n",
      "Epoch 83/100\n",
      "120/120 [==============================] - 0s 268us/step - loss: 0.1191 - acc: 0.9833\n",
      "Epoch 84/100\n",
      "120/120 [==============================] - 0s 226us/step - loss: 0.1169 - acc: 0.9833\n",
      "Epoch 85/100\n",
      "120/120 [==============================] - 0s 242us/step - loss: 0.1151 - acc: 0.9833\n",
      "Epoch 86/100\n",
      "120/120 [==============================] - 0s 224us/step - loss: 0.1133 - acc: 0.9833\n",
      "Epoch 87/100\n",
      "120/120 [==============================] - 0s 232us/step - loss: 0.1119 - acc: 0.9833\n",
      "Epoch 88/100\n",
      "120/120 [==============================] - 0s 256us/step - loss: 0.1099 - acc: 0.9833\n",
      "Epoch 89/100\n",
      "120/120 [==============================] - 0s 240us/step - loss: 0.1087 - acc: 0.9833\n",
      "Epoch 90/100\n",
      "120/120 [==============================] - 0s 223us/step - loss: 0.1068 - acc: 0.9833\n",
      "Epoch 91/100\n",
      "120/120 [==============================] - 0s 249us/step - loss: 0.1058 - acc: 0.9833\n",
      "Epoch 92/100\n",
      "120/120 [==============================] - 0s 233us/step - loss: 0.1040 - acc: 0.9833\n",
      "Epoch 93/100\n",
      "120/120 [==============================] - 0s 237us/step - loss: 0.1024 - acc: 0.9833\n",
      "Epoch 94/100\n",
      "120/120 [==============================] - 0s 241us/step - loss: 0.1012 - acc: 0.9833\n",
      "Epoch 95/100\n",
      "120/120 [==============================] - 0s 238us/step - loss: 0.0997 - acc: 0.9833\n",
      "Epoch 96/100\n",
      "120/120 [==============================] - 0s 242us/step - loss: 0.0985 - acc: 0.9833\n",
      "Epoch 97/100\n",
      "120/120 [==============================] - 0s 295us/step - loss: 0.0970 - acc: 0.9833\n",
      "Epoch 98/100\n",
      "120/120 [==============================] - 0s 248us/step - loss: 0.0963 - acc: 0.9833\n",
      "Epoch 99/100\n",
      "120/120 [==============================] - 0s 223us/step - loss: 0.0945 - acc: 0.9833\n",
      "Epoch 100/100\n",
      "120/120 [==============================] - 0s 242us/step - loss: 0.0935 - acc: 0.9833\n"
     ]
    },
    {
     "data": {
      "text/plain": [
       "<keras.callbacks.History at 0x7f7e1da8f1d0>"
      ]
     },
     "execution_count": 11,
     "metadata": {
      "tags": []
     },
     "output_type": "execute_result"
    }
   ],
   "source": [
    "model.fit(X_train, Y_train, epochs=100, batch_size=5)"
   ]
  },
  {
   "cell_type": "code",
   "execution_count": 12,
   "metadata": {
    "colab": {
     "base_uri": "https://localhost:8080/",
     "height": 51
    },
    "colab_type": "code",
    "id": "p3U7seTL6Of6",
    "outputId": "00ea3d51-0c92-4a1c-a988-1fa2dc92a84e"
   },
   "outputs": [
    {
     "name": "stdout",
     "output_type": "stream",
     "text": [
      "\r",
      "30/30 [==============================] - 0s 972us/step\n",
      "Accuracy = 0.97\n"
     ]
    }
   ],
   "source": [
    "loss, accuracy = model.evaluate(X_test, Y_test)\n",
    "print(\"Accuracy = {:.2f}\".format(accuracy))"
   ]
  },
  {
   "cell_type": "code",
   "execution_count": 13,
   "metadata": {
    "colab": {
     "base_uri": "https://localhost:8080/",
     "height": 51
    },
    "colab_type": "code",
    "id": "m_fqLsAU6V8a",
    "outputId": "24f26b32-7178-46c3-a729-360a4439fac7"
   },
   "outputs": [
    {
     "name": "stdout",
     "output_type": "stream",
     "text": [
      "[0 1 1 2 2 1 2 0 1 1 0 0 0 1 1 0 2 2 1 2 0 2 1 2 0 2 1 2 1 0]\n",
      "[0 1 1 2 2 1 2 0 1 1 0 0 0 1 1 0 2 2 1 2 0 2 1 1 0 2 1 2 1 0]\n"
     ]
    }
   ],
   "source": [
    "Y_pred = model.predict_classes(X_test)\n",
    "print(Y_pred)\n",
    "Y_target = dataset[:,4][120:].astype(int)\n",
    "print(Y_target)"
   ]
  },
  {
   "cell_type": "code",
   "execution_count": 0,
   "metadata": {
    "colab": {},
    "colab_type": "code",
    "id": "-95PWwgW6d7B"
   },
   "outputs": [],
   "source": []
  }
 ],
 "metadata": {
  "colab": {
   "collapsed_sections": [],
   "name": "ch16_5_2.ipynb",
   "provenance": []
  },
  "kernelspec": {
   "display_name": "Python 3",
   "language": "python",
   "name": "python3"
  },
  "language_info": {
   "codemirror_mode": {
    "name": "ipython",
    "version": 3
   },
   "file_extension": ".py",
   "mimetype": "text/x-python",
   "name": "python",
   "nbconvert_exporter": "python",
   "pygments_lexer": "ipython3",
   "version": "3.7.6"
  }
 },
 "nbformat": 4,
 "nbformat_minor": 1
}
