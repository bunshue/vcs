{
 "cells": [
  {
   "cell_type": "code",
   "execution_count": 1,
   "metadata": {},
   "outputs": [],
   "source": [
    "import pandas as pd\n",
    "\n",
    "fruits = {\"蘋果\": [4, 3, 1, 0],\n",
    "          \"香蕉\": [0, 4, 6, 2],\n",
    "          \"橘子\": [1, 5, 2, 4]}\n",
    "df = pd.DataFrame(fruits)"
   ]
  },
  {
   "cell_type": "code",
   "execution_count": 2,
   "metadata": {},
   "outputs": [
    {
     "name": "stdout",
     "output_type": "stream",
     "text": [
      "0 4 0 1\n",
      "1 3 4 5\n",
      "2 1 6 2\n",
      "3 0 2 4\n"
     ]
    }
   ],
   "source": [
    "for index, row in df.iterrows() :\n",
    "    print(index, row[\"蘋果\"], row[\"香蕉\"],\n",
    "          row[\"橘子\"])"
   ]
  },
  {
   "cell_type": "code",
   "execution_count": null,
   "metadata": {},
   "outputs": [],
   "source": []
  }
 ],
 "metadata": {
  "kernelspec": {
   "display_name": "Python 3",
   "language": "python",
   "name": "python3"
  },
  "language_info": {
   "codemirror_mode": {
    "name": "ipython",
    "version": 3
   },
   "file_extension": ".py",
   "mimetype": "text/x-python",
   "name": "python",
   "nbconvert_exporter": "python",
   "pygments_lexer": "ipython3",
   "version": "3.7.6"
  }
 },
 "nbformat": 4,
 "nbformat_minor": 4
}
