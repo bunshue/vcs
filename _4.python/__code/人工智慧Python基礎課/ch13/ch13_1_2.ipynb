{
 "cells": [
  {
   "cell_type": "code",
   "execution_count": 1,
   "metadata": {},
   "outputs": [],
   "source": [
    "import pandas as pd"
   ]
  },
  {
   "cell_type": "code",
   "execution_count": 2,
   "metadata": {},
   "outputs": [
    {
     "name": "stdout",
     "output_type": "stream",
     "text": [
      "0    12\n",
      "1    29\n",
      "2    72\n",
      "3     4\n",
      "dtype: int64\n"
     ]
    }
   ],
   "source": [
    "s = pd.Series([12, 29, 72, 4]) \n",
    "print(s)"
   ]
  },
  {
   "cell_type": "code",
   "execution_count": 3,
   "metadata": {},
   "outputs": [
    {
     "name": "stdout",
     "output_type": "stream",
     "text": [
      "蘋果    15\n",
      "橘子    33\n",
      "梨子    45\n",
      "dtype: int64\n"
     ]
    }
   ],
   "source": [
    "fruits = [\"蘋果\", \"橘子\", \"梨子\"]\n",
    "quantities = [15, 33, 45]\n",
    "s = pd.Series(quantities, index=fruits) \n",
    "print(s)"
   ]
  },
  {
   "cell_type": "code",
   "execution_count": 4,
   "metadata": {},
   "outputs": [
    {
     "name": "stdout",
     "output_type": "stream",
     "text": [
      "Index(['蘋果', '橘子', '梨子'], dtype='object')\n",
      "[15 33 45]\n"
     ]
    }
   ],
   "source": [
    "print(s.index)\n",
    "print(s.values)"
   ]
  },
  {
   "cell_type": "code",
   "execution_count": 5,
   "metadata": {},
   "outputs": [
    {
     "name": "stdout",
     "output_type": "stream",
     "text": [
      "33\n"
     ]
    }
   ],
   "source": [
    "print(s[\"橘子\"])"
   ]
  },
  {
   "cell_type": "code",
   "execution_count": 6,
   "metadata": {},
   "outputs": [
    {
     "name": "stdout",
     "output_type": "stream",
     "text": [
      "橘子    33\n",
      "梨子    45\n",
      "dtype: int64\n"
     ]
    }
   ],
   "source": [
    "print(s[[\"橘子\",\"梨子\"]])"
   ]
  },
  {
   "cell_type": "code",
   "execution_count": 7,
   "metadata": {},
   "outputs": [
    {
     "name": "stdout",
     "output_type": "stream",
     "text": [
      "蘋果     51\n",
      "橘子    105\n",
      "梨子    141\n",
      "dtype: int64\n"
     ]
    }
   ],
   "source": [
    "print((s+2)*3)"
   ]
  },
  {
   "cell_type": "code",
   "execution_count": null,
   "metadata": {},
   "outputs": [],
   "source": []
  }
 ],
 "metadata": {
  "kernelspec": {
   "display_name": "Python 3",
   "language": "python",
   "name": "python3"
  },
  "language_info": {
   "codemirror_mode": {
    "name": "ipython",
    "version": 3
   },
   "file_extension": ".py",
   "mimetype": "text/x-python",
   "name": "python",
   "nbconvert_exporter": "python",
   "pygments_lexer": "ipython3",
   "version": "3.7.6"
  }
 },
 "nbformat": 4,
 "nbformat_minor": 4
}
