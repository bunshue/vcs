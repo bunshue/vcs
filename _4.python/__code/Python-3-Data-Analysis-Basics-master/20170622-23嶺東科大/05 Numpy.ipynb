{
 "cells": [
  {
   "cell_type": "markdown",
   "metadata": {},
   "source": [
    "# 05 Numpy 套件"
   ]
  },
  {
   "cell_type": "markdown",
   "metadata": {},
   "source": [
    "## 正規引入套件法"
   ]
  },
  {
   "cell_type": "code",
   "execution_count": 1,
   "metadata": {
    "collapsed": true
   },
   "outputs": [],
   "source": [
    "import numpy"
   ]
  },
  {
   "cell_type": "code",
   "execution_count": 3,
   "metadata": {},
   "outputs": [
    {
     "data": {
      "text/plain": [
       "-0.95892427466313845"
      ]
     },
     "execution_count": 3,
     "metadata": {},
     "output_type": "execute_result"
    }
   ],
   "source": [
    "numpy.sin(5)"
   ]
  },
  {
   "cell_type": "code",
   "execution_count": 5,
   "metadata": {},
   "outputs": [
    {
     "data": {
      "text/plain": [
       "3.141592653589793"
      ]
     },
     "execution_count": 5,
     "metadata": {},
     "output_type": "execute_result"
    }
   ],
   "source": [
    "numpy.pi"
   ]
  },
  {
   "cell_type": "markdown",
   "metadata": {},
   "source": [
    "#### 高手都這樣引入 `numpy`"
   ]
  },
  {
   "cell_type": "code",
   "execution_count": 6,
   "metadata": {
    "collapsed": true
   },
   "outputs": [],
   "source": [
    "import numpy as np"
   ]
  },
  {
   "cell_type": "code",
   "execution_count": 7,
   "metadata": {},
   "outputs": [
    {
     "data": {
      "text/plain": [
       "-0.95892427466313845"
      ]
     },
     "execution_count": 7,
     "metadata": {},
     "output_type": "execute_result"
    }
   ],
   "source": [
    "np.sin(5)"
   ]
  },
  {
   "cell_type": "code",
   "execution_count": 8,
   "metadata": {},
   "outputs": [
    {
     "data": {
      "text/plain": [
       "3.141592653589793"
      ]
     },
     "execution_count": 8,
     "metadata": {},
     "output_type": "execute_result"
    }
   ],
   "source": [
    "np.pi"
   ]
  },
  {
   "cell_type": "markdown",
   "metadata": {},
   "source": [
    "## 建議引入套件標準動作\n",
    "\n",
    "以後我們一開 Jupyter 就這樣做..."
   ]
  },
  {
   "cell_type": "code",
   "execution_count": 1,
   "metadata": {
    "collapsed": true
   },
   "outputs": [],
   "source": [
    "%matplotlib inline\n",
    "\n",
    "import numpy as np\n",
    "import matplotlib.pyplot as plt"
   ]
  },
  {
   "cell_type": "markdown",
   "metadata": {},
   "source": [
    "#### 畫圖\n",
    "\n",
    "從現在起, 畫圖我們要用\n",
    "\n",
    "    plt.plot"
   ]
  },
  {
   "cell_type": "code",
   "execution_count": 13,
   "metadata": {},
   "outputs": [
    {
     "data": {
      "text/plain": [
       "[<matplotlib.lines.Line2D at 0x8432860>]"
      ]
     },
     "execution_count": 13,
     "metadata": {},
     "output_type": "execute_result"
    },
    {
     "data": {
      "image/png": "[encoded data removed]",
      "text/plain": [
       "<matplotlib.figure.Figure at 0x8347e80>"
      ]
     },
     "metadata": {},
     "output_type": "display_data"
    }
   ],
   "source": [
    "plt.plot([7,-2,45,3,10])"
   ]
  },
  {
   "cell_type": "markdown",
   "metadata": {},
   "source": [
    "## Array\n",
    "\n",
    "數據分析最炫的資料型態。"
   ]
  },
  {
   "cell_type": "markdown",
   "metadata": {},
   "source": [
    "#### 例子\n",
    "\n",
    "假設我們看到我們想買的三支鏡頭, 在美國的價格是這樣, 我們想知道換算台幣多少?"
   ]
  },
  {
   "cell_type": "code",
   "execution_count": 14,
   "metadata": {
    "collapsed": true
   },
   "outputs": [],
   "source": [
    "prices = [1096.95, 596.95, 896.95]"
   ]
  },
  {
   "cell_type": "markdown",
   "metadata": {},
   "source": [
    "#### 匯率"
   ]
  },
  {
   "cell_type": "code",
   "execution_count": 15,
   "metadata": {
    "collapsed": true
   },
   "outputs": [],
   "source": [
    "c = 30.46"
   ]
  },
  {
   "cell_type": "markdown",
   "metadata": {},
   "source": [
    "#### 傳統手法\n",
    "\n",
    "迴圈解法。"
   ]
  },
  {
   "cell_type": "code",
   "execution_count": 16,
   "metadata": {},
   "outputs": [
    {
     "name": "stdout",
     "output_type": "stream",
     "text": [
      "33413.097\n",
      "18183.097\n",
      "27321.097\n"
     ]
    }
   ],
   "source": [
    "for p in prices:\n",
    "    print(c*p)"
   ]
  },
  {
   "cell_type": "markdown",
   "metadata": {},
   "source": [
    "#### 希望\n",
    "\n",
    "    prices * c\n",
    "    \n",
    "就告訴我們答案, 但 `list` 做不到..."
   ]
  },
  {
   "cell_type": "code",
   "execution_count": 17,
   "metadata": {},
   "outputs": [
    {
     "ename": "TypeError",
     "evalue": "can't multiply sequence by non-int of type 'float'",
     "output_type": "error",
     "traceback": [
      "\u001b[1;31m---------------------------------------------------------------------------\u001b[0m",
      "\u001b[1;31mTypeError\u001b[0m                                 Traceback (most recent call last)",
      "\u001b[1;32m<ipython-input-17-9f5e87daa162>\u001b[0m in \u001b[0;36m<module>\u001b[1;34m()\u001b[0m\n\u001b[1;32m----> 1\u001b[1;33m \u001b[0mprices\u001b[0m \u001b[1;33m*\u001b[0m \u001b[0mc\u001b[0m\u001b[1;33m\u001b[0m\u001b[0m\n\u001b[0m",
      "\u001b[1;31mTypeError\u001b[0m: can't multiply sequence by non-int of type 'float'"
     ]
    }
   ],
   "source": [
    "prices * c"
   ]
  },
  {
   "cell_type": "markdown",
   "metadata": {},
   "source": [
    "#### array, array, array!!!"
   ]
  },
  {
   "cell_type": "code",
   "execution_count": 18,
   "metadata": {
    "collapsed": true
   },
   "outputs": [],
   "source": [
    "p_arr = np.array([1096.95, 596.95, 896.95])"
   ]
  },
  {
   "cell_type": "code",
   "execution_count": 19,
   "metadata": {},
   "outputs": [
    {
     "data": {
      "text/plain": [
       "array([ 1096.95,   596.95,   896.95])"
      ]
     },
     "execution_count": 19,
     "metadata": {},
     "output_type": "execute_result"
    }
   ],
   "source": [
    "p_arr"
   ]
  },
  {
   "cell_type": "code",
   "execution_count": 20,
   "metadata": {},
   "outputs": [
    {
     "data": {
      "text/plain": [
       "array([ 33413.097,  18183.097,  27321.097])"
      ]
     },
     "execution_count": 20,
     "metadata": {},
     "output_type": "execute_result"
    }
   ],
   "source": [
    "p_arr * c"
   ]
  },
  {
   "cell_type": "markdown",
   "metadata": {},
   "source": [
    "#### 成功了!!"
   ]
  },
  {
   "cell_type": "code",
   "execution_count": 21,
   "metadata": {
    "collapsed": true
   },
   "outputs": [],
   "source": [
    "L = np.array([3, 8, -5, 9])\n",
    "G = np.array([5, 5, 2, 7])"
   ]
  },
  {
   "cell_type": "code",
   "execution_count": 22,
   "metadata": {},
   "outputs": [
    {
     "data": {
      "text/plain": [
       "array([ 8, 13, -3, 16])"
      ]
     },
     "execution_count": 22,
     "metadata": {},
     "output_type": "execute_result"
    }
   ],
   "source": [
    "L+G"
   ]
  },
  {
   "cell_type": "code",
   "execution_count": 23,
   "metadata": {},
   "outputs": [
    {
     "data": {
      "text/plain": [
       "array([-2,  3, -7,  2])"
      ]
     },
     "execution_count": 23,
     "metadata": {},
     "output_type": "execute_result"
    }
   ],
   "source": [
    "L - G"
   ]
  },
  {
   "cell_type": "code",
   "execution_count": 24,
   "metadata": {},
   "outputs": [
    {
     "data": {
      "text/plain": [
       "array([ 15,  40, -10,  63])"
      ]
     },
     "execution_count": 24,
     "metadata": {},
     "output_type": "execute_result"
    }
   ],
   "source": [
    "L * G"
   ]
  },
  {
   "cell_type": "code",
   "execution_count": 25,
   "metadata": {},
   "outputs": [
    {
     "data": {
      "text/plain": [
       "array([ 0.6       ,  1.6       , -2.5       ,  1.28571429])"
      ]
     },
     "execution_count": 25,
     "metadata": {},
     "output_type": "execute_result"
    }
   ],
   "source": [
    "L / G"
   ]
  },
  {
   "cell_type": "markdown",
   "metadata": {},
   "source": [
    "## 亂數產生的 array"
   ]
  },
  {
   "cell_type": "code",
   "execution_count": 2,
   "metadata": {},
   "outputs": [
    {
     "data": {
      "text/plain": [
       "array([3, 8, 8, 7, 2, 9, 5, 7])"
      ]
     },
     "execution_count": 2,
     "metadata": {},
     "output_type": "execute_result"
    }
   ],
   "source": [
    "np.random.randint(1,10,8) # 1-9, 取 8 個亂數"
   ]
  },
  {
   "cell_type": "markdown",
   "metadata": {},
   "source": [
    "#### 取 0 到 1 間的亂數\n",
    "\n",
    "例如取 20 個。"
   ]
  },
  {
   "cell_type": "code",
   "execution_count": 3,
   "metadata": {},
   "outputs": [
    {
     "data": {
      "text/plain": [
       "array([ 0.47611809,  0.67560235,  0.87414311,  0.96668518,  0.63226633,\n",
       "        0.02624627,  0.85021161,  0.0122104 ,  0.25251964,  0.61626974,\n",
       "        0.56298817,  0.39494279,  0.35072678,  0.64612224,  0.241314  ,\n",
       "        0.33747841,  0.98719114,  0.89399325,  0.09908516,  0.54972824])"
      ]
     },
     "execution_count": 3,
     "metadata": {},
     "output_type": "execute_result"
    }
   ],
   "source": [
    "np.random.rand(20)"
   ]
  },
  {
   "cell_type": "markdown",
   "metadata": {},
   "source": [
    "#### 由平均 0, 標準差 1 的分布中取 20 個數"
   ]
  },
  {
   "cell_type": "code",
   "execution_count": 4,
   "metadata": {},
   "outputs": [
    {
     "data": {
      "text/plain": [
       "array([ 0.52464864, -0.43651338,  0.66135938, -0.68340199,  0.78987744,\n",
       "        0.33844922, -0.09830612, -0.46784785, -0.13298513,  3.03661889,\n",
       "        0.44786004,  1.20349085, -0.46639586,  1.5774583 , -0.25098487,\n",
       "        1.03302   ,  0.48374971, -0.2770798 , -0.27289168,  1.6133195 ])"
      ]
     },
     "execution_count": 4,
     "metadata": {},
     "output_type": "execute_result"
    }
   ],
   "source": [
    "np.random.randn(20)"
   ]
  },
  {
   "cell_type": "markdown",
   "metadata": {},
   "source": [
    "#### 試取 100 個, 算平均、標準差"
   ]
  },
  {
   "cell_type": "code",
   "execution_count": 5,
   "metadata": {
    "collapsed": true
   },
   "outputs": [],
   "source": [
    "g = np.random.randn(100)"
   ]
  },
  {
   "cell_type": "code",
   "execution_count": 6,
   "metadata": {},
   "outputs": [
    {
     "data": {
      "text/plain": [
       "0.066616865434171391"
      ]
     },
     "execution_count": 6,
     "metadata": {},
     "output_type": "execute_result"
    }
   ],
   "source": [
    "g.mean()"
   ]
  },
  {
   "cell_type": "code",
   "execution_count": 7,
   "metadata": {},
   "outputs": [
    {
     "data": {
      "text/plain": [
       "1.0138518137194763"
      ]
     },
     "execution_count": 7,
     "metadata": {},
     "output_type": "execute_result"
    }
   ],
   "source": [
    "g.std()"
   ]
  },
  {
   "cell_type": "code",
   "execution_count": 8,
   "metadata": {},
   "outputs": [
    {
     "data": {
      "text/plain": [
       "array([ -1.85924080e+00,  -1.33098200e+00,   3.60144377e-01,\n",
       "         5.20299107e-01,   1.49659083e-01,   7.44318738e-01,\n",
       "         6.43223453e-01,   1.22023382e+00,   1.17962602e+00,\n",
       "        -6.85621608e-01,  -1.56849297e+00,  -1.80218342e+00,\n",
       "         1.36600952e+00,  -1.64416483e+00,   8.70314364e-01,\n",
       "         8.29007044e-01,  -3.62871592e-01,   2.23091206e+00,\n",
       "        -1.80780408e-01,   1.26552467e+00,  -1.56922893e-01,\n",
       "        -7.34396823e-01,  -9.96205844e-01,  -2.58466264e-01,\n",
       "        -2.22280899e+00,   3.23600427e-01,  -5.32442035e-01,\n",
       "         2.30682073e+00,   1.73141795e+00,  -8.59074985e-01,\n",
       "         5.31016139e-01,   2.01575446e+00,  -4.69953015e-01,\n",
       "        -1.16949263e+00,   3.19612458e-01,  -2.15618713e-01,\n",
       "        -1.74759543e-01,   2.24346264e+00,  -4.41526179e-02,\n",
       "         4.42276880e-02,  -5.78243451e-01,  -5.77201215e-02,\n",
       "        -2.25616325e-01,  -5.88042317e-01,   3.06777560e-02,\n",
       "         1.38105964e+00,   4.48432497e-01,  -1.24040092e+00,\n",
       "        -2.32782904e-01,  -1.98900098e+00,   8.78784242e-01,\n",
       "         7.02951219e-01,  -1.45157646e+00,  -4.94591789e-01,\n",
       "         1.62537054e+00,  -1.00904260e-01,   2.31646720e-01,\n",
       "         1.15435365e+00,  -3.57292876e-02,   4.32277793e-02,\n",
       "        -5.71743368e-01,  -3.71547985e-01,  -4.15999442e-01,\n",
       "         3.66877784e-01,  -1.75557147e+00,   1.53976514e+00,\n",
       "         7.89897812e-01,  -2.63462738e-01,  -1.42586846e-01,\n",
       "        -2.11514104e-01,   1.42099716e+00,   1.67702391e-01,\n",
       "        -1.29652008e+00,  -1.41169594e+00,   9.20541465e-01,\n",
       "        -4.05838588e-02,   9.59973876e-02,  -1.44497876e-01,\n",
       "         3.67302961e-01,   9.95887285e-01,   2.76307712e-01,\n",
       "         1.33805386e-01,  -3.16771341e-01,   6.48605870e-01,\n",
       "         1.13338564e-01,   2.47259345e-01,   1.58842117e-01,\n",
       "        -1.70474370e+00,   8.25982509e-01,  -9.46972176e-01,\n",
       "        -1.11914090e+00,   8.58048667e-01,  -3.09834745e-03,\n",
       "        -2.97666909e-01,  -8.03769820e-01,  -1.07330336e-03,\n",
       "         1.96688457e+00,   1.98994615e+00,   8.87461959e-01,\n",
       "         5.80746511e-01])"
      ]
     },
     "execution_count": 8,
     "metadata": {},
     "output_type": "execute_result"
    }
   ],
   "source": [
    "g"
   ]
  },
  {
   "cell_type": "markdown",
   "metadata": {},
   "source": [
    "#### 不同的平均值和標準差\n",
    "\n",
    "比如我們想要平均值變成 70, 標準差 10 怎麼做呢?"
   ]
  },
  {
   "cell_type": "code",
   "execution_count": 12,
   "metadata": {
    "collapsed": true
   },
   "outputs": [],
   "source": [
    "g2 = g*10 + 70"
   ]
  },
  {
   "cell_type": "code",
   "execution_count": 13,
   "metadata": {},
   "outputs": [
    {
     "data": {
      "text/plain": [
       "array([ 51.40759202,  56.69017995,  73.60144377,  75.20299107,\n",
       "        71.49659083,  77.44318738,  76.43223453,  82.20233825,\n",
       "        81.79626018,  63.14378392,  54.31507025,  51.97816582,\n",
       "        83.66009522,  53.55835168,  78.70314364,  78.29007044,\n",
       "        66.37128408,  92.30912059,  68.19219592,  82.65524667,\n",
       "        68.43077107,  62.65603177,  60.03794156,  67.41533736,\n",
       "        47.77191009,  73.23600427,  64.67557965,  93.06820732,\n",
       "        87.3141795 ,  61.40925015,  75.31016139,  90.15754464,\n",
       "        65.30046985,  58.30507371,  73.19612458,  67.84381287,\n",
       "        68.25240457,  92.43462644,  69.55847382,  70.44227688,\n",
       "        64.21756549,  69.42279879,  67.74383675,  64.11957683,\n",
       "        70.30677756,  83.81059637,  74.48432497,  57.59599084,\n",
       "        67.67217096,  50.10999022,  78.78784242,  77.02951219,\n",
       "        55.48423537,  65.05408211,  86.2537054 ,  68.9909574 ,\n",
       "        72.3164672 ,  81.5435365 ,  69.64270712,  70.43227779,\n",
       "        64.28256632,  66.28452015,  65.84000558,  73.66877784,\n",
       "        52.44428527,  85.39765142,  77.89897812,  67.36537262,\n",
       "        68.57413154,  67.88485896,  84.20997156,  71.67702391,\n",
       "        57.03479917,  55.88304062,  79.20541465,  69.59416141,\n",
       "        70.95997388,  68.55502124,  73.67302961,  79.95887285,\n",
       "        72.76307712,  71.33805386,  66.83228659,  76.4860587 ,\n",
       "        71.13338564,  72.47259345,  71.58842117,  52.95256299,\n",
       "        78.25982509,  60.53027824,  58.80859097,  78.58048667,\n",
       "        69.96901653,  67.02333091,  61.9623018 ,  69.98926697,\n",
       "        89.6688457 ,  89.89946154,  78.87461959,  75.80746511])"
      ]
     },
     "execution_count": 13,
     "metadata": {},
     "output_type": "execute_result"
    }
   ],
   "source": [
    "g2"
   ]
  },
  {
   "cell_type": "code",
   "execution_count": 14,
   "metadata": {},
   "outputs": [
    {
     "data": {
      "text/plain": [
       "[<matplotlib.lines.Line2D at 0x10b588d68>]"
      ]
     },
     "execution_count": 14,
     "metadata": {},
     "output_type": "execute_result"
    },
    {
     "data": {
      "image/png": "[encoded data removed]",
      "text/plain": [
       "<matplotlib.figure.Figure at 0x108e16ba8>"
      ]
     },
     "metadata": {},
     "output_type": "display_data"
    }
   ],
   "source": [
    "plt.plot(g)"
   ]
  },
  {
   "cell_type": "markdown",
   "metadata": {},
   "source": [
    "## 函數繪圖"
   ]
  },
  {
   "cell_type": "code",
   "execution_count": 15,
   "metadata": {},
   "outputs": [
    {
     "data": {
      "text/plain": [
       "[<matplotlib.lines.Line2D at 0x1122bcac8>]"
      ]
     },
     "execution_count": 15,
     "metadata": {},
     "output_type": "execute_result"
    },
    {
     "data": {
      "image/png": "[encoded data removed]",
      "text/plain": [
       "<matplotlib.figure.Figure at 0x10b55d1d0>"
      ]
     },
     "metadata": {},
     "output_type": "display_data"
    }
   ],
   "source": [
    "plt.plot([-1.5, -1, 0, 2], [-3, 5, 2, 10])"
   ]
  },
  {
   "cell_type": "markdown",
   "metadata": {},
   "source": [
    "#### 畫出\n",
    "\n",
    "$$f(x) = \\sin(x)$$"
   ]
  },
  {
   "cell_type": "code",
   "execution_count": 16,
   "metadata": {
    "collapsed": true
   },
   "outputs": [],
   "source": [
    "x = np.linspace(-10, 10, 100)"
   ]
  },
  {
   "cell_type": "code",
   "execution_count": 17,
   "metadata": {},
   "outputs": [
    {
     "data": {
      "text/plain": [
       "array([-10.        ,  -9.7979798 ,  -9.5959596 ,  -9.39393939,\n",
       "        -9.19191919,  -8.98989899,  -8.78787879,  -8.58585859,\n",
       "        -8.38383838,  -8.18181818,  -7.97979798,  -7.77777778,\n",
       "        -7.57575758,  -7.37373737,  -7.17171717,  -6.96969697,\n",
       "        -6.76767677,  -6.56565657,  -6.36363636,  -6.16161616,\n",
       "        -5.95959596,  -5.75757576,  -5.55555556,  -5.35353535,\n",
       "        -5.15151515,  -4.94949495,  -4.74747475,  -4.54545455,\n",
       "        -4.34343434,  -4.14141414,  -3.93939394,  -3.73737374,\n",
       "        -3.53535354,  -3.33333333,  -3.13131313,  -2.92929293,\n",
       "        -2.72727273,  -2.52525253,  -2.32323232,  -2.12121212,\n",
       "        -1.91919192,  -1.71717172,  -1.51515152,  -1.31313131,\n",
       "        -1.11111111,  -0.90909091,  -0.70707071,  -0.50505051,\n",
       "        -0.3030303 ,  -0.1010101 ,   0.1010101 ,   0.3030303 ,\n",
       "         0.50505051,   0.70707071,   0.90909091,   1.11111111,\n",
       "         1.31313131,   1.51515152,   1.71717172,   1.91919192,\n",
       "         2.12121212,   2.32323232,   2.52525253,   2.72727273,\n",
       "         2.92929293,   3.13131313,   3.33333333,   3.53535354,\n",
       "         3.73737374,   3.93939394,   4.14141414,   4.34343434,\n",
       "         4.54545455,   4.74747475,   4.94949495,   5.15151515,\n",
       "         5.35353535,   5.55555556,   5.75757576,   5.95959596,\n",
       "         6.16161616,   6.36363636,   6.56565657,   6.76767677,\n",
       "         6.96969697,   7.17171717,   7.37373737,   7.57575758,\n",
       "         7.77777778,   7.97979798,   8.18181818,   8.38383838,\n",
       "         8.58585859,   8.78787879,   8.98989899,   9.19191919,\n",
       "         9.39393939,   9.5959596 ,   9.7979798 ,  10.        ])"
      ]
     },
     "execution_count": 17,
     "metadata": {},
     "output_type": "execute_result"
    }
   ],
   "source": [
    "x"
   ]
  },
  {
   "cell_type": "code",
   "execution_count": 18,
   "metadata": {},
   "outputs": [
    {
     "data": {
      "text/plain": [
       "array([ 0.54402111,  0.36459873,  0.17034683, -0.03083368, -0.23076008,\n",
       "       -0.42130064, -0.59470541, -0.74392141, -0.86287948, -0.94674118,\n",
       "       -0.99209556, -0.99709789, -0.96154471, -0.8868821 , -0.77614685,\n",
       "       -0.63384295, -0.46575841, -0.27872982, -0.0803643 ,  0.12126992,\n",
       "        0.31797166,  0.50174037,  0.66510151,  0.80141062,  0.90512352,\n",
       "        0.97202182,  0.99938456,  0.98609877,  0.93270486,  0.84137452,\n",
       "        0.7158225 ,  0.56115544,  0.38366419,  0.19056796, -0.01027934,\n",
       "       -0.21070855, -0.40256749, -0.57805259, -0.73002623, -0.85230712,\n",
       "       -0.93992165, -0.98930624, -0.99845223, -0.96698762, -0.8961922 ,\n",
       "       -0.78894546, -0.64960951, -0.48385164, -0.2984138 , -0.10083842,\n",
       "        0.10083842,  0.2984138 ,  0.48385164,  0.64960951,  0.78894546,\n",
       "        0.8961922 ,  0.96698762,  0.99845223,  0.98930624,  0.93992165,\n",
       "        0.85230712,  0.73002623,  0.57805259,  0.40256749,  0.21070855,\n",
       "        0.01027934, -0.19056796, -0.38366419, -0.56115544, -0.7158225 ,\n",
       "       -0.84137452, -0.93270486, -0.98609877, -0.99938456, -0.97202182,\n",
       "       -0.90512352, -0.80141062, -0.66510151, -0.50174037, -0.31797166,\n",
       "       -0.12126992,  0.0803643 ,  0.27872982,  0.46575841,  0.63384295,\n",
       "        0.77614685,  0.8868821 ,  0.96154471,  0.99709789,  0.99209556,\n",
       "        0.94674118,  0.86287948,  0.74392141,  0.59470541,  0.42130064,\n",
       "        0.23076008,  0.03083368, -0.17034683, -0.36459873, -0.54402111])"
      ]
     },
     "execution_count": 18,
     "metadata": {},
     "output_type": "execute_result"
    }
   ],
   "source": [
    "np.sin(x)"
   ]
  },
  {
   "cell_type": "code",
   "execution_count": 19,
   "metadata": {},
   "outputs": [
    {
     "data": {
      "text/plain": [
       "[<matplotlib.lines.Line2D at 0x112397780>]"
      ]
     },
     "execution_count": 19,
     "metadata": {},
     "output_type": "execute_result"
    },
    {
     "data": {
      "image/png": "[encoded data removed]",
      "text/plain": [
       "<matplotlib.figure.Figure at 0x1122d58d0>"
      ]
     },
     "metadata": {},
     "output_type": "display_data"
    }
   ],
   "source": [
    "plt.plot(x, np.sin(x))"
   ]
  }
 ],
 "metadata": {
  "kernelspec": {
   "display_name": "Python [default]",
   "language": "python",
   "name": "python3"
  },
  "language_info": {
   "codemirror_mode": {
    "name": "ipython",
    "version": 3
   },
   "file_extension": ".py",
   "mimetype": "text/x-python",
   "name": "python",
   "nbconvert_exporter": "python",
   "pygments_lexer": "ipython3",
   "version": "3.5.3"
  }
 },
 "nbformat": 4,
 "nbformat_minor": 2
}
