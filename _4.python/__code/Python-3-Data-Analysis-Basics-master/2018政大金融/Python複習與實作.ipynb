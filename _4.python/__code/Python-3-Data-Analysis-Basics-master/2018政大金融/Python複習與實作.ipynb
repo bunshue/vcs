{
 "cells": [
  {
   "cell_type": "markdown",
   "metadata": {
    "nbpresent": {
     "id": "8513da71-06e1-4f4d-89cd-835fd26f153a"
    }
   },
   "source": [
    "## 導入標準套件"
   ]
  },
  {
   "cell_type": "code",
   "execution_count": 1,
   "metadata": {
    "collapsed": true,
    "nbpresent": {
     "id": "f7004955-5280-4845-be29-fd30a72a5c4a"
    }
   },
   "outputs": [],
   "source": [
    "%matplotlib inline\n",
    "\n",
    "import numpy as np\n",
    "import matplotlib.pyplot as plt\n",
    "import pandas as pd"
   ]
  },
  {
   "cell_type": "markdown",
   "metadata": {
    "nbpresent": {
     "id": "776b6242-ee7b-4748-85ea-541db5899c2a"
    }
   },
   "source": [
    "## 基本計算 + 函數\n",
    "\n",
    "瓦時(Wh)　與　mAh(毫安時)　換算公式。\n",
    "\n",
    "$$Wh = \\frac{mAh}{1000} \\times V$$"
   ]
  },
  {
   "cell_type": "code",
   "execution_count": 2,
   "metadata": {
    "collapsed": true,
    "nbpresent": {
     "id": "dbc3a74a-c9b0-415e-aaf4-8e873e11d6b9"
    }
   },
   "outputs": [],
   "source": [
    "mAh = 1250\n",
    "V = 6\n",
    "Wh = mAh/1000 * V"
   ]
  },
  {
   "cell_type": "code",
   "execution_count": 3,
   "metadata": {},
   "outputs": [
    {
     "data": {
      "text/plain": [
       "7.5"
      ]
     },
     "execution_count": 3,
     "metadata": {},
     "output_type": "execute_result"
    }
   ],
   "source": [
    "Wh"
   ]
  },
  {
   "cell_type": "markdown",
   "metadata": {},
   "source": [
    "定義成函數"
   ]
  },
  {
   "cell_type": "code",
   "execution_count": 4,
   "metadata": {
    "collapsed": true
   },
   "outputs": [],
   "source": [
    "def Wh(mAh, V):\n",
    "    return mAh/1000 * V"
   ]
  },
  {
   "cell_type": "code",
   "execution_count": 5,
   "metadata": {},
   "outputs": [
    {
     "data": {
      "text/plain": [
       "7.5"
      ]
     },
     "execution_count": 5,
     "metadata": {},
     "output_type": "execute_result"
    }
   ],
   "source": [
    "Wh(1250, 6)"
   ]
  },
  {
   "cell_type": "code",
   "execution_count": 7,
   "metadata": {},
   "outputs": [
    {
     "data": {
      "text/plain": [
       "60.0"
      ]
     },
     "execution_count": 7,
     "metadata": {},
     "output_type": "execute_result"
    }
   ],
   "source": [
    "Wh(12000, 5)"
   ]
  },
  {
   "cell_type": "markdown",
   "metadata": {},
   "source": [
    "## 互動的基本篇"
   ]
  },
  {
   "cell_type": "code",
   "execution_count": null,
   "metadata": {
    "collapsed": true
   },
   "outputs": [],
   "source": []
  },
  {
   "cell_type": "markdown",
   "metadata": {},
   "source": [
    "## 互動介面"
   ]
  },
  {
   "cell_type": "code",
   "execution_count": 8,
   "metadata": {
    "collapsed": true
   },
   "outputs": [],
   "source": [
    "from ipywidgets import interact"
   ]
  },
  {
   "cell_type": "code",
   "execution_count": 9,
   "metadata": {},
   "outputs": [
    {
     "data": {
      "application/vnd.jupyter.widget-view+json": {
       "model_id": "7b8acea5ffae4ff8a049c2b7f652399b",
       "version_major": 2,
       "version_minor": 0
      },
      "text/plain": [
       "A Jupyter Widget"
      ]
     },
     "metadata": {},
     "output_type": "display_data"
    },
    {
     "data": {
      "text/plain": [
       "<function __main__.Wh>"
      ]
     },
     "execution_count": 9,
     "metadata": {},
     "output_type": "execute_result"
    }
   ],
   "source": [
    "interact(Wh, mAh=1000, V=5)"
   ]
  },
  {
   "cell_type": "code",
   "execution_count": 15,
   "metadata": {
    "collapsed": true
   },
   "outputs": [],
   "source": [
    "def 瓦時(毫安時, 伏特):\n",
    "    mAh = float(毫安時)\n",
    "    V = float(伏特)\n",
    "    return print(\"瓦時 Wh =\", mAh/1000 * V)"
   ]
  },
  {
   "cell_type": "code",
   "execution_count": 11,
   "metadata": {},
   "outputs": [
    {
     "data": {
      "text/plain": [
       "6.25"
      ]
     },
     "execution_count": 11,
     "metadata": {},
     "output_type": "execute_result"
    }
   ],
   "source": [
    "瓦時(\"1250\", \"5\")"
   ]
  },
  {
   "cell_type": "code",
   "execution_count": 12,
   "metadata": {
    "collapsed": true
   },
   "outputs": [],
   "source": [
    "from ipywidgets import interact_manual"
   ]
  },
  {
   "cell_type": "code",
   "execution_count": 16,
   "metadata": {},
   "outputs": [
    {
     "data": {
      "application/vnd.jupyter.widget-view+json": {
       "model_id": "f376bff1e2c5461daaa28c451a8f79f2",
       "version_major": 2,
       "version_minor": 0
      },
      "text/plain": [
       "A Jupyter Widget"
      ]
     },
     "metadata": {},
     "output_type": "display_data"
    }
   ],
   "source": [
    "interact_manual(瓦時, 毫安時=\"mAh\", 伏特=\"V\");"
   ]
  },
  {
   "cell_type": "code",
   "execution_count": 17,
   "metadata": {
    "collapsed": true
   },
   "outputs": [],
   "source": [
    "import pandas_datareader as pdr"
   ]
  },
  {
   "cell_type": "code",
   "execution_count": 18,
   "metadata": {
    "collapsed": true
   },
   "outputs": [],
   "source": [
    "df = pdr.get_data_yahoo(\"AAPL\")"
   ]
  },
  {
   "cell_type": "code",
   "execution_count": 22,
   "metadata": {},
   "outputs": [],
   "source": [
    "dfy = df[-240:]"
   ]
  },
  {
   "cell_type": "code",
   "execution_count": 25,
   "metadata": {},
   "outputs": [
    {
     "data": {
      "text/plain": [
       "<matplotlib.axes._subplots.AxesSubplot at 0x10da237b8>"
      ]
     },
     "execution_count": 25,
     "metadata": {},
     "output_type": "execute_result"
    },
    {
     "data": {
      "image/png": "[encoded data removed]",
      "text/plain": [
       "<matplotlib.figure.Figure at 0x10e42a710>"
      ]
     },
     "metadata": {},
     "output_type": "display_data"
    }
   ],
   "source": [
    "dfy.Close.plot()"
   ]
  },
  {
   "cell_type": "code",
   "execution_count": 26,
   "metadata": {
    "collapsed": true
   },
   "outputs": [],
   "source": [
    "dfm = df[-20:]"
   ]
  },
  {
   "cell_type": "code",
   "execution_count": 27,
   "metadata": {},
   "outputs": [
    {
     "data": {
      "text/html": [
       "<div>\n",
       "<style>\n",
       "    .dataframe thead tr:only-child th {\n",
       "        text-align: right;\n",
       "    }\n",
       "\n",
       "    .dataframe thead th {\n",
       "        text-align: left;\n",
       "    }\n",
       "\n",
       "    .dataframe tbody tr th {\n",
       "        vertical-align: top;\n",
       "    }\n",
       "</style>\n",
       "<table border=\"1\" class=\"dataframe\">\n",
       "  <thead>\n",
       "    <tr style=\"text-align: right;\">\n",
       "      <th></th>\n",
       "      <th>Open</th>\n",
       "      <th>High</th>\n",
       "      <th>Low</th>\n",
       "      <th>Close</th>\n",
       "      <th>Adj Close</th>\n",
       "      <th>Volume</th>\n",
       "    </tr>\n",
       "    <tr>\n",
       "      <th>Date</th>\n",
       "      <th></th>\n",
       "      <th></th>\n",
       "      <th></th>\n",
       "      <th></th>\n",
       "      <th></th>\n",
       "      <th></th>\n",
       "    </tr>\n",
       "  </thead>\n",
       "  <tbody>\n",
       "    <tr>\n",
       "      <th>2017-12-06</th>\n",
       "      <td>167.500000</td>\n",
       "      <td>170.199997</td>\n",
       "      <td>166.460007</td>\n",
       "      <td>169.009995</td>\n",
       "      <td>169.009995</td>\n",
       "      <td>28560000</td>\n",
       "    </tr>\n",
       "    <tr>\n",
       "      <th>2017-12-07</th>\n",
       "      <td>169.029999</td>\n",
       "      <td>170.440002</td>\n",
       "      <td>168.910004</td>\n",
       "      <td>169.320007</td>\n",
       "      <td>169.320007</td>\n",
       "      <td>25673300</td>\n",
       "    </tr>\n",
       "    <tr>\n",
       "      <th>2017-12-08</th>\n",
       "      <td>170.490005</td>\n",
       "      <td>171.000000</td>\n",
       "      <td>168.820007</td>\n",
       "      <td>169.369995</td>\n",
       "      <td>169.369995</td>\n",
       "      <td>23355200</td>\n",
       "    </tr>\n",
       "    <tr>\n",
       "      <th>2017-12-11</th>\n",
       "      <td>169.199997</td>\n",
       "      <td>172.889999</td>\n",
       "      <td>168.789993</td>\n",
       "      <td>172.669998</td>\n",
       "      <td>172.669998</td>\n",
       "      <td>35273800</td>\n",
       "    </tr>\n",
       "    <tr>\n",
       "      <th>2017-12-12</th>\n",
       "      <td>172.149994</td>\n",
       "      <td>172.389999</td>\n",
       "      <td>171.460007</td>\n",
       "      <td>171.699997</td>\n",
       "      <td>171.699997</td>\n",
       "      <td>19409200</td>\n",
       "    </tr>\n",
       "    <tr>\n",
       "      <th>2017-12-13</th>\n",
       "      <td>172.500000</td>\n",
       "      <td>173.539993</td>\n",
       "      <td>172.000000</td>\n",
       "      <td>172.270004</td>\n",
       "      <td>172.270004</td>\n",
       "      <td>23818400</td>\n",
       "    </tr>\n",
       "    <tr>\n",
       "      <th>2017-12-14</th>\n",
       "      <td>172.399994</td>\n",
       "      <td>173.130005</td>\n",
       "      <td>171.649994</td>\n",
       "      <td>172.220001</td>\n",
       "      <td>172.220001</td>\n",
       "      <td>20476500</td>\n",
       "    </tr>\n",
       "    <tr>\n",
       "      <th>2017-12-15</th>\n",
       "      <td>173.630005</td>\n",
       "      <td>174.169998</td>\n",
       "      <td>172.460007</td>\n",
       "      <td>173.970001</td>\n",
       "      <td>173.970001</td>\n",
       "      <td>40169300</td>\n",
       "    </tr>\n",
       "    <tr>\n",
       "      <th>2017-12-18</th>\n",
       "      <td>174.880005</td>\n",
       "      <td>177.199997</td>\n",
       "      <td>174.860001</td>\n",
       "      <td>176.419998</td>\n",
       "      <td>176.419998</td>\n",
       "      <td>29421100</td>\n",
       "    </tr>\n",
       "    <tr>\n",
       "      <th>2017-12-19</th>\n",
       "      <td>175.029999</td>\n",
       "      <td>175.389999</td>\n",
       "      <td>174.089996</td>\n",
       "      <td>174.539993</td>\n",
       "      <td>174.539993</td>\n",
       "      <td>27436400</td>\n",
       "    </tr>\n",
       "    <tr>\n",
       "      <th>2017-12-20</th>\n",
       "      <td>174.869995</td>\n",
       "      <td>175.419998</td>\n",
       "      <td>173.250000</td>\n",
       "      <td>174.350006</td>\n",
       "      <td>174.350006</td>\n",
       "      <td>23475600</td>\n",
       "    </tr>\n",
       "    <tr>\n",
       "      <th>2017-12-21</th>\n",
       "      <td>174.169998</td>\n",
       "      <td>176.020004</td>\n",
       "      <td>174.100006</td>\n",
       "      <td>175.009995</td>\n",
       "      <td>175.009995</td>\n",
       "      <td>20949900</td>\n",
       "    </tr>\n",
       "    <tr>\n",
       "      <th>2017-12-22</th>\n",
       "      <td>174.679993</td>\n",
       "      <td>175.419998</td>\n",
       "      <td>174.500000</td>\n",
       "      <td>175.009995</td>\n",
       "      <td>175.009995</td>\n",
       "      <td>16349400</td>\n",
       "    </tr>\n",
       "    <tr>\n",
       "      <th>2017-12-26</th>\n",
       "      <td>170.800003</td>\n",
       "      <td>171.470001</td>\n",
       "      <td>169.679993</td>\n",
       "      <td>170.570007</td>\n",
       "      <td>170.570007</td>\n",
       "      <td>33185500</td>\n",
       "    </tr>\n",
       "    <tr>\n",
       "      <th>2017-12-27</th>\n",
       "      <td>170.100006</td>\n",
       "      <td>170.779999</td>\n",
       "      <td>169.710007</td>\n",
       "      <td>170.600006</td>\n",
       "      <td>170.600006</td>\n",
       "      <td>21498200</td>\n",
       "    </tr>\n",
       "    <tr>\n",
       "      <th>2017-12-28</th>\n",
       "      <td>171.000000</td>\n",
       "      <td>171.850006</td>\n",
       "      <td>170.479996</td>\n",
       "      <td>171.080002</td>\n",
       "      <td>171.080002</td>\n",
       "      <td>16480200</td>\n",
       "    </tr>\n",
       "    <tr>\n",
       "      <th>2017-12-29</th>\n",
       "      <td>170.520004</td>\n",
       "      <td>170.589996</td>\n",
       "      <td>169.220001</td>\n",
       "      <td>169.229996</td>\n",
       "      <td>169.229996</td>\n",
       "      <td>25999900</td>\n",
       "    </tr>\n",
       "    <tr>\n",
       "      <th>2018-01-02</th>\n",
       "      <td>170.160004</td>\n",
       "      <td>172.300003</td>\n",
       "      <td>169.259995</td>\n",
       "      <td>172.259995</td>\n",
       "      <td>172.259995</td>\n",
       "      <td>25555900</td>\n",
       "    </tr>\n",
       "    <tr>\n",
       "      <th>2018-01-03</th>\n",
       "      <td>172.529999</td>\n",
       "      <td>174.550003</td>\n",
       "      <td>171.960007</td>\n",
       "      <td>172.229996</td>\n",
       "      <td>172.229996</td>\n",
       "      <td>29517900</td>\n",
       "    </tr>\n",
       "    <tr>\n",
       "      <th>2018-01-04</th>\n",
       "      <td>172.539993</td>\n",
       "      <td>173.470001</td>\n",
       "      <td>172.080002</td>\n",
       "      <td>173.029999</td>\n",
       "      <td>173.029999</td>\n",
       "      <td>22284700</td>\n",
       "    </tr>\n",
       "  </tbody>\n",
       "</table>\n",
       "</div>"
      ],
      "text/plain": [
       "                  Open        High         Low       Close   Adj Close  \\\n",
       "Date                                                                     \n",
       "2017-12-06  167.500000  170.199997  166.460007  169.009995  169.009995   \n",
       "2017-12-07  169.029999  170.440002  168.910004  169.320007  169.320007   \n",
       "2017-12-08  170.490005  171.000000  168.820007  169.369995  169.369995   \n",
       "2017-12-11  169.199997  172.889999  168.789993  172.669998  172.669998   \n",
       "2017-12-12  172.149994  172.389999  171.460007  171.699997  171.699997   \n",
       "2017-12-13  172.500000  173.539993  172.000000  172.270004  172.270004   \n",
       "2017-12-14  172.399994  173.130005  171.649994  172.220001  172.220001   \n",
       "2017-12-15  173.630005  174.169998  172.460007  173.970001  173.970001   \n",
       "2017-12-18  174.880005  177.199997  174.860001  176.419998  176.419998   \n",
       "2017-12-19  175.029999  175.389999  174.089996  174.539993  174.539993   \n",
       "2017-12-20  174.869995  175.419998  173.250000  174.350006  174.350006   \n",
       "2017-12-21  174.169998  176.020004  174.100006  175.009995  175.009995   \n",
       "2017-12-22  174.679993  175.419998  174.500000  175.009995  175.009995   \n",
       "2017-12-26  170.800003  171.470001  169.679993  170.570007  170.570007   \n",
       "2017-12-27  170.100006  170.779999  169.710007  170.600006  170.600006   \n",
       "2017-12-28  171.000000  171.850006  170.479996  171.080002  171.080002   \n",
       "2017-12-29  170.520004  170.589996  169.220001  169.229996  169.229996   \n",
       "2018-01-02  170.160004  172.300003  169.259995  172.259995  172.259995   \n",
       "2018-01-03  172.529999  174.550003  171.960007  172.229996  172.229996   \n",
       "2018-01-04  172.539993  173.470001  172.080002  173.029999  173.029999   \n",
       "\n",
       "              Volume  \n",
       "Date                  \n",
       "2017-12-06  28560000  \n",
       "2017-12-07  25673300  \n",
       "2017-12-08  23355200  \n",
       "2017-12-11  35273800  \n",
       "2017-12-12  19409200  \n",
       "2017-12-13  23818400  \n",
       "2017-12-14  20476500  \n",
       "2017-12-15  40169300  \n",
       "2017-12-18  29421100  \n",
       "2017-12-19  27436400  \n",
       "2017-12-20  23475600  \n",
       "2017-12-21  20949900  \n",
       "2017-12-22  16349400  \n",
       "2017-12-26  33185500  \n",
       "2017-12-27  21498200  \n",
       "2017-12-28  16480200  \n",
       "2017-12-29  25999900  \n",
       "2018-01-02  25555900  \n",
       "2018-01-03  29517900  \n",
       "2018-01-04  22284700  "
      ]
     },
     "execution_count": 27,
     "metadata": {},
     "output_type": "execute_result"
    }
   ],
   "source": [
    "dfm"
   ]
  },
  {
   "cell_type": "markdown",
   "metadata": {},
   "source": [
    "## K 線圖\n",
    "\n",
    "在 `matplotlib.finance` 中有個叫 `candlestick2_ochl` 的指令。\n",
    "\n",
    "candlestick2_ochl(ax, opens, closes, highs, lows, width=4, colorup='r', colordown='g')\n",
    "\n",
    "\n",
    "在 matplotlib 2.2 之後就要正式說再見的 `matplotlib.finace`, 之後會獨立叫 `mpl_finance`。\n",
    "\n",
    "    pip install https://github.com/matplotlib/mpl_finance/archive/master.zip\n",
    "\n"
   ]
  },
  {
   "cell_type": "code",
   "execution_count": 62,
   "metadata": {
    "collapsed": true
   },
   "outputs": [],
   "source": [
    "from matplotlib.finance import candlestick2_ohlc"
   ]
  },
  {
   "cell_type": "code",
   "execution_count": 63,
   "metadata": {},
   "outputs": [],
   "source": [
    "dfm_ohlc = dfm[[\"Open\", \"High\", \"Low\", \"Close\"]].values"
   ]
  },
  {
   "cell_type": "code",
   "execution_count": 66,
   "metadata": {},
   "outputs": [
    {
     "data": {
      "text/plain": [
       "(<matplotlib.collections.LineCollection at 0x11832bb00>,\n",
       " <matplotlib.collections.PolyCollection at 0x1187fd438>)"
      ]
     },
     "execution_count": 66,
     "metadata": {},
     "output_type": "execute_result"
    },
    {
     "data": {
      "image/png": "[encoded data removed]",
      "text/plain": [
       "<matplotlib.figure.Figure at 0x11832b940>"
      ]
     },
     "metadata": {},
     "output_type": "display_data"
    }
   ],
   "source": [
    "ax = plt.gca()\n",
    "candlestick2_ohlc(ax, dfm_ohlc[:,0],  dfm_ohlc[:,1],  dfm_ohlc[:,2],  dfm_ohlc[:,3], \n",
    "                  colorup=\"r\", colordown='g', width=0.6)"
   ]
  },
  {
   "cell_type": "code",
   "execution_count": 68,
   "metadata": {
    "collapsed": true
   },
   "outputs": [],
   "source": [
    "df_ohlc = df.reset_index()"
   ]
  },
  {
   "cell_type": "code",
   "execution_count": 69,
   "metadata": {},
   "outputs": [
    {
     "data": {
      "text/html": [
       "<div>\n",
       "<style>\n",
       "    .dataframe thead tr:only-child th {\n",
       "        text-align: right;\n",
       "    }\n",
       "\n",
       "    .dataframe thead th {\n",
       "        text-align: left;\n",
       "    }\n",
       "\n",
       "    .dataframe tbody tr th {\n",
       "        vertical-align: top;\n",
       "    }\n",
       "</style>\n",
       "<table border=\"1\" class=\"dataframe\">\n",
       "  <thead>\n",
       "    <tr style=\"text-align: right;\">\n",
       "      <th></th>\n",
       "      <th>Date</th>\n",
       "      <th>Open</th>\n",
       "      <th>High</th>\n",
       "      <th>Low</th>\n",
       "      <th>Close</th>\n",
       "      <th>Adj Close</th>\n",
       "      <th>Volume</th>\n",
       "    </tr>\n",
       "  </thead>\n",
       "  <tbody>\n",
       "    <tr>\n",
       "      <th>0</th>\n",
       "      <td>2009-12-31</td>\n",
       "      <td>30.447144</td>\n",
       "      <td>30.478571</td>\n",
       "      <td>30.080000</td>\n",
       "      <td>30.104286</td>\n",
       "      <td>26.986492</td>\n",
       "      <td>88102700</td>\n",
       "    </tr>\n",
       "    <tr>\n",
       "      <th>1</th>\n",
       "      <td>2010-01-04</td>\n",
       "      <td>30.490000</td>\n",
       "      <td>30.642857</td>\n",
       "      <td>30.340000</td>\n",
       "      <td>30.572857</td>\n",
       "      <td>27.406532</td>\n",
       "      <td>123432400</td>\n",
       "    </tr>\n",
       "    <tr>\n",
       "      <th>2</th>\n",
       "      <td>2010-01-05</td>\n",
       "      <td>30.657143</td>\n",
       "      <td>30.798571</td>\n",
       "      <td>30.464285</td>\n",
       "      <td>30.625713</td>\n",
       "      <td>27.453915</td>\n",
       "      <td>150476200</td>\n",
       "    </tr>\n",
       "    <tr>\n",
       "      <th>3</th>\n",
       "      <td>2010-01-06</td>\n",
       "      <td>30.625713</td>\n",
       "      <td>30.747143</td>\n",
       "      <td>30.107143</td>\n",
       "      <td>30.138571</td>\n",
       "      <td>27.017223</td>\n",
       "      <td>138040000</td>\n",
       "    </tr>\n",
       "    <tr>\n",
       "      <th>4</th>\n",
       "      <td>2010-01-07</td>\n",
       "      <td>30.250000</td>\n",
       "      <td>30.285715</td>\n",
       "      <td>29.864286</td>\n",
       "      <td>30.082857</td>\n",
       "      <td>26.967278</td>\n",
       "      <td>119282800</td>\n",
       "    </tr>\n",
       "  </tbody>\n",
       "</table>\n",
       "</div>"
      ],
      "text/plain": [
       "        Date       Open       High        Low      Close  Adj Close     Volume\n",
       "0 2009-12-31  30.447144  30.478571  30.080000  30.104286  26.986492   88102700\n",
       "1 2010-01-04  30.490000  30.642857  30.340000  30.572857  27.406532  123432400\n",
       "2 2010-01-05  30.657143  30.798571  30.464285  30.625713  27.453915  150476200\n",
       "3 2010-01-06  30.625713  30.747143  30.107143  30.138571  27.017223  138040000\n",
       "4 2010-01-07  30.250000  30.285715  29.864286  30.082857  26.967278  119282800"
      ]
     },
     "execution_count": 69,
     "metadata": {},
     "output_type": "execute_result"
    }
   ],
   "source": [
    "df_ohlc.head()"
   ]
  },
  {
   "cell_type": "code",
   "execution_count": 71,
   "metadata": {},
   "outputs": [],
   "source": [
    "df_ohlc = df_ohlc[[\"Date\", \"Open\", \"High\", \"Low\", \"Close\"]]"
   ]
  },
  {
   "cell_type": "code",
   "execution_count": 74,
   "metadata": {},
   "outputs": [],
   "source": [
    "import matplotlib.dates as mdates\n",
    "\n",
    "df_ohlc['Date'] = df_ohlc['Date'].map(mdates.date2num)"
   ]
  },
  {
   "cell_type": "code",
   "execution_count": 77,
   "metadata": {
    "collapsed": true
   },
   "outputs": [],
   "source": [
    "df_ohlcm = df_ohlc[-20:]"
   ]
  },
  {
   "cell_type": "code",
   "execution_count": 86,
   "metadata": {
    "collapsed": true
   },
   "outputs": [],
   "source": [
    "from matplotlib.finance import candlestick_ohlc"
   ]
  },
  {
   "cell_type": "code",
   "execution_count": 90,
   "metadata": {
    "collapsed": true
   },
   "outputs": [],
   "source": [
    "\n",
    "dates = df_ohlcm[\"Date\"].values\n",
    "close = df_ohlcm[\"Close\"].values\n",
    "\n",
    "df[\"MA240\"] = df.Close.rolling(240).mean()\n",
    "df[\"MA20\"] = df.Close.rolling(20).mean()\n",
    "df[\"MA5\"] = df.Close.rolling(5).mean()"
   ]
  },
  {
   "cell_type": "code",
   "execution_count": 92,
   "metadata": {},
   "outputs": [],
   "source": [
    "ma240 = df.MA240[-20:]\n",
    "ma20 = df.MA20[-20:]\n",
    "ma5 = df.MA5[-20:]"
   ]
  },
  {
   "cell_type": "code",
   "execution_count": 95,
   "metadata": {},
   "outputs": [
    {
     "data": {
      "text/plain": [
       "[<matplotlib.lines.Line2D at 0x11b937438>]"
      ]
     },
     "execution_count": 95,
     "metadata": {},
     "output_type": "execute_result"
    },
    {
     "data": {
      "image/png": "[encoded data removed]",
      "text/plain": [
       "<matplotlib.figure.Figure at 0x11b746940>"
      ]
     },
     "metadata": {},
     "output_type": "display_data"
    }
   ],
   "source": [
    "ax = plt.gca()\n",
    "\n",
    "ax.xaxis_date()\n",
    "candlestick_ohlc(ax,df_ohlcm.values,width=0.4, colorup='r', colordown='g');\n",
    "plt.plot(dates, close)\n",
    "plt.plot(dates, ma20)\n",
    "plt.plot(dates, ma5)\n"
   ]
  },
  {
   "cell_type": "code",
   "execution_count": null,
   "metadata": {
    "collapsed": true
   },
   "outputs": [],
   "source": [
    "ax = plt.gca()\n",
    "\n",
    "ax.xaxis_date()\n",
    "candlestick_ohlc(ax,df_ohlcm.values,width=0.4, colorup='r', colordown='g');\n",
    "plt.plot(dates, close)\n",
    "plt.plot(dates, ma20)\n",
    "plt.plot(dates, ma5)"
   ]
  },
  {
   "cell_type": "code",
   "execution_count": 99,
   "metadata": {},
   "outputs": [
    {
     "data": {
      "text/plain": [
       "<matplotlib.axes._subplots.AxesSubplot at 0x11b985048>"
      ]
     },
     "execution_count": 99,
     "metadata": {},
     "output_type": "execute_result"
    },
    {
     "data": {
      "image/png": "[encoded data removed]",
      "text/plain": [
       "<matplotlib.figure.Figure at 0x11baaa4a8>"
      ]
     },
     "metadata": {},
     "output_type": "display_data"
    }
   ],
   "source": []
  },
  {
   "cell_type": "code",
   "execution_count": 107,
   "metadata": {},
   "outputs": [],
   "source": [
    "df=df.reset_index()"
   ]
  },
  {
   "cell_type": "code",
   "execution_count": 108,
   "metadata": {
    "collapsed": true
   },
   "outputs": [],
   "source": [
    "def stock(n=0):\n",
    "    if n<0:\n",
    "        n=0\n",
    "    if n>220:\n",
    "        n=220\n",
    "    dfm = df[[\"Date\", \"Open\", \"High\", \"Low\", \"Close\"]][n:n+20]\n",
    "    ma240 = df.MA240[n:n+20]\n",
    "    ma20 = df.MA20[n:n+20]\n",
    "    ma5 = df.MA5[n:n+20]\n",
    "    \n",
    "    dates = dfm[\"Date\"].values\n",
    "    close = dfm[\"Close\"].values\n",
    "    \n",
    "    ax = plt.gca()\n",
    "\n",
    "    ax.xaxis_date()\n",
    "    candlestick_ohlc(ax,dfm.values, width=0.4, colorup='r', colordown='g');\n",
    "    plt.plot(dates, close)\n",
    "    plt.plot(dates, ma240)\n",
    "    plt.plot(dates, ma20)\n",
    "    plt.plot(dates, ma5)"
   ]
  },
  {
   "cell_type": "code",
   "execution_count": 111,
   "metadata": {},
   "outputs": [],
   "source": [
    "n=3\n",
    "dfm = df[[\"Date\", \"Open\", \"High\", \"Low\", \"Close\"]][n:n+20]"
   ]
  },
  {
   "cell_type": "code",
   "execution_count": 114,
   "metadata": {},
   "outputs": [
    {
     "data": {
      "text/plain": [
       "3    2010-01-06\n",
       "4    2010-01-07\n",
       "5    2010-01-08\n",
       "6    2010-01-11\n",
       "7    2010-01-12\n",
       "8    2010-01-13\n",
       "9    2010-01-14\n",
       "10   2010-01-15\n",
       "11   2010-01-19\n",
       "12   2010-01-20\n",
       "13   2010-01-21\n",
       "14   2010-01-22\n",
       "15   2010-01-25\n",
       "16   2010-01-26\n",
       "17   2010-01-27\n",
       "18   2010-01-28\n",
       "19   2010-01-29\n",
       "20   2010-02-01\n",
       "21   2010-02-02\n",
       "22   2010-02-03\n",
       "Name: Date, dtype: datetime64[ns]"
      ]
     },
     "execution_count": 114,
     "metadata": {},
     "output_type": "execute_result"
    }
   ],
   "source": [
    " "
   ]
  },
  {
   "cell_type": "code",
   "execution_count": null,
   "metadata": {
    "collapsed": true
   },
   "outputs": [],
   "source": []
  }
 ],
 "metadata": {
  "kernelspec": {
   "display_name": "Python [conda env:anaconda]",
   "language": "python",
   "name": "conda-env-anaconda-py"
  },
  "language_info": {
   "codemirror_mode": {
    "name": "ipython",
    "version": 3
   },
   "file_extension": ".py",
   "mimetype": "text/x-python",
   "name": "python",
   "nbconvert_exporter": "python",
   "pygments_lexer": "ipython3",
   "version": "3.6.3"
  },
  "nbpresent": {
   "slides": {
    "1e598579-b37b-4e9d-b75e-ed059fce51da": {
     "id": "1e598579-b37b-4e9d-b75e-ed059fce51da",
     "prev": "d36266fa-0d92-437f-a8e8-33ec3cbf52b6",
     "regions": {
      "70a83693-61dd-4059-8f77-5595496daac0": {
       "attrs": {
        "height": 0.8,
        "width": 0.8,
        "x": 0.1,
        "y": 0.1
       },
       "content": {
        "cell": "f7004955-5280-4845-be29-fd30a72a5c4a",
        "part": "whole"
       },
       "id": "70a83693-61dd-4059-8f77-5595496daac0"
      }
     }
    },
    "5100dd2e-b4f2-4931-96f9-98d2051fd99e": {
     "id": "5100dd2e-b4f2-4931-96f9-98d2051fd99e",
     "prev": null,
     "regions": {
      "645a6dec-a664-477d-be92-2d9bfa3a0d8e": {
       "attrs": {
        "height": 0.8,
        "width": 0.8,
        "x": 0.1,
        "y": 0.1
       },
       "content": {
        "cell": "8513da71-06e1-4f4d-89cd-835fd26f153a",
        "part": "whole"
       },
       "id": "645a6dec-a664-477d-be92-2d9bfa3a0d8e"
      }
     }
    },
    "68984636-6486-43ef-9c01-c94e9389d50f": {
     "id": "68984636-6486-43ef-9c01-c94e9389d50f",
     "prev": "5100dd2e-b4f2-4931-96f9-98d2051fd99e",
     "regions": {
      "4c6b209f-da6b-4cbd-b648-848df3f5316d": {
       "attrs": {
        "height": 0.8,
        "width": 0.8,
        "x": 0.1,
        "y": 0.1
       },
       "content": null,
       "id": "4c6b209f-da6b-4cbd-b648-848df3f5316d"
      }
     }
    },
    "824c5104-cf10-4f35-9be2-a2d6fd18a952": {
     "id": "824c5104-cf10-4f35-9be2-a2d6fd18a952",
     "prev": "bc156813-71a4-46b3-b957-65bd32c18402",
     "regions": {
      "c9e6db72-6295-4b6b-a575-2f4d8de395e3": {
       "attrs": {
        "height": 0.8,
        "width": 0.8,
        "x": 0.1,
        "y": 0.1
       },
       "content": {
        "cell": "dbc3a74a-c9b0-415e-aaf4-8e873e11d6b9",
        "part": "whole"
       },
       "id": "c9e6db72-6295-4b6b-a575-2f4d8de395e3"
      }
     }
    },
    "9055c098-9384-4819-8472-9118da852653": {
     "id": "9055c098-9384-4819-8472-9118da852653",
     "prev": "1e598579-b37b-4e9d-b75e-ed059fce51da",
     "regions": {
      "122fc0e1-d065-4801-b98c-103e16af30cf": {
       "attrs": {
        "height": 0.8,
        "width": 0.8,
        "x": 0.1,
        "y": 0.1
       },
       "content": {
        "cell": "776b6242-ee7b-4748-85ea-541db5899c2a",
        "part": "whole"
       },
       "id": "122fc0e1-d065-4801-b98c-103e16af30cf"
      }
     }
    },
    "bc156813-71a4-46b3-b957-65bd32c18402": {
     "id": "bc156813-71a4-46b3-b957-65bd32c18402",
     "prev": "f92baf9b-dc9f-45fd-9212-8b2831842aa8",
     "regions": {
      "b58040b4-3cc5-4a75-b480-8610d8abbed5": {
       "attrs": {
        "height": 0.8,
        "width": 0.8,
        "x": 0.1,
        "y": 0.1
       },
       "content": {
        "cell": "776b6242-ee7b-4748-85ea-541db5899c2a",
        "part": "whole"
       },
       "id": "b58040b4-3cc5-4a75-b480-8610d8abbed5"
      }
     }
    },
    "d36266fa-0d92-437f-a8e8-33ec3cbf52b6": {
     "id": "d36266fa-0d92-437f-a8e8-33ec3cbf52b6",
     "prev": null,
     "regions": {
      "e0acaec9-2546-493d-a68e-71475308449b": {
       "attrs": {
        "height": 0.8,
        "width": 0.8,
        "x": 0.1,
        "y": 0.1
       },
       "content": {
        "cell": "8513da71-06e1-4f4d-89cd-835fd26f153a",
        "part": "whole"
       },
       "id": "e0acaec9-2546-493d-a68e-71475308449b"
      }
     }
    },
    "ddecbb9d-76d6-4b12-a12c-295ed0322685": {
     "id": "ddecbb9d-76d6-4b12-a12c-295ed0322685",
     "prev": "9055c098-9384-4819-8472-9118da852653",
     "regions": {
      "ef78f3a5-2832-48a1-8767-4b8753ccb8b4": {
       "attrs": {
        "height": 0.8,
        "width": 0.8,
        "x": 0.1,
        "y": 0.1
       },
       "content": {
        "cell": "dbc3a74a-c9b0-415e-aaf4-8e873e11d6b9",
        "part": "whole"
       },
       "id": "ef78f3a5-2832-48a1-8767-4b8753ccb8b4"
      }
     }
    },
    "f92baf9b-dc9f-45fd-9212-8b2831842aa8": {
     "id": "f92baf9b-dc9f-45fd-9212-8b2831842aa8",
     "prev": "68984636-6486-43ef-9c01-c94e9389d50f",
     "regions": {
      "f65abbbc-11a7-4298-a075-ede52575737e": {
       "attrs": {
        "height": 0.8,
        "width": 0.8,
        "x": 0.1,
        "y": 0.1
       },
       "content": {
        "cell": "f7004955-5280-4845-be29-fd30a72a5c4a",
        "part": "whole"
       },
       "id": "f65abbbc-11a7-4298-a075-ede52575737e"
      }
     }
    }
   },
   "themes": {}
  }
 },
 "nbformat": 4,
 "nbformat_minor": 2
}
