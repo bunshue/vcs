{
 "cells": [
  {
   "cell_type": "code",
   "execution_count": 1,
   "metadata": {},
   "outputs": [],
   "source": [
    "%matplotlib inline\n",
    "\n",
    "import numpy as np\n",
    "import matplotlib.pyplot as plt\n",
    "import pandas as pd"
   ]
  },
  {
   "cell_type": "markdown",
   "metadata": {},
   "source": [
    "## 01 `numpy` 的 filter"
   ]
  },
  {
   "cell_type": "code",
   "execution_count": 5,
   "metadata": {},
   "outputs": [],
   "source": [
    "egg = np.array([3, -5, 10, 23, -5, 11])"
   ]
  },
  {
   "cell_type": "code",
   "execution_count": 9,
   "metadata": {},
   "outputs": [],
   "source": [
    "idx = (egg >= 0)"
   ]
  },
  {
   "cell_type": "code",
   "execution_count": 10,
   "metadata": {},
   "outputs": [
    {
     "data": {
      "text/plain": [
       "array([ True, False,  True,  True, False,  True])"
      ]
     },
     "execution_count": 10,
     "metadata": {},
     "output_type": "execute_result"
    }
   ],
   "source": [
    "idx"
   ]
  },
  {
   "cell_type": "code",
   "execution_count": 11,
   "metadata": {},
   "outputs": [
    {
     "data": {
      "text/plain": [
       "array([ 3, 10, 23, 11])"
      ]
     },
     "execution_count": 11,
     "metadata": {},
     "output_type": "execute_result"
    }
   ],
   "source": [
    "egg[idx]"
   ]
  },
  {
   "cell_type": "code",
   "execution_count": 12,
   "metadata": {},
   "outputs": [
    {
     "data": {
      "text/plain": [
       "array([ 3, 10, 23, 11])"
      ]
     },
     "execution_count": 12,
     "metadata": {},
     "output_type": "execute_result"
    }
   ],
   "source": [
    "egg[egg >= 0]"
   ]
  },
  {
   "cell_type": "code",
   "execution_count": 13,
   "metadata": {},
   "outputs": [
    {
     "data": {
      "text/plain": [
       "array([-5, 10])"
      ]
     },
     "execution_count": 13,
     "metadata": {},
     "output_type": "execute_result"
    }
   ],
   "source": [
    "egg[1:3]"
   ]
  },
  {
   "cell_type": "code",
   "execution_count": 14,
   "metadata": {},
   "outputs": [
    {
     "data": {
      "text/plain": [
       "array([10, 23, -5, 11])"
      ]
     },
     "execution_count": 14,
     "metadata": {},
     "output_type": "execute_result"
    }
   ],
   "source": [
    "egg[2:]"
   ]
  },
  {
   "cell_type": "code",
   "execution_count": 15,
   "metadata": {},
   "outputs": [
    {
     "data": {
      "text/plain": [
       "array([ 3, -5, 10, 23, -5])"
      ]
     },
     "execution_count": 15,
     "metadata": {},
     "output_type": "execute_result"
    }
   ],
   "source": [
    "egg[:-1]"
   ]
  },
  {
   "cell_type": "code",
   "execution_count": 16,
   "metadata": {},
   "outputs": [
    {
     "data": {
      "text/plain": [
       "11"
      ]
     },
     "execution_count": 16,
     "metadata": {},
     "output_type": "execute_result"
    }
   ],
   "source": [
    "egg[5]"
   ]
  },
  {
   "cell_type": "code",
   "execution_count": 17,
   "metadata": {},
   "outputs": [
    {
     "data": {
      "text/plain": [
       "array([ 3, -5, 10, 23, -5])"
      ]
     },
     "execution_count": 17,
     "metadata": {},
     "output_type": "execute_result"
    }
   ],
   "source": [
    "egg[:5]"
   ]
  },
  {
   "cell_type": "code",
   "execution_count": 18,
   "metadata": {},
   "outputs": [
    {
     "data": {
      "text/plain": [
       "array([10, 23, -5])"
      ]
     },
     "execution_count": 18,
     "metadata": {},
     "output_type": "execute_result"
    }
   ],
   "source": [
    "egg[2:-1]"
   ]
  },
  {
   "cell_type": "code",
   "execution_count": 19,
   "metadata": {},
   "outputs": [
    {
     "data": {
      "text/plain": [
       "array([ 3, -5, 10, 23, -5, 11])"
      ]
     },
     "execution_count": 19,
     "metadata": {},
     "output_type": "execute_result"
    }
   ],
   "source": [
    "egg"
   ]
  },
  {
   "cell_type": "code",
   "execution_count": 20,
   "metadata": {},
   "outputs": [
    {
     "data": {
      "text/plain": [
       "array([ 3, 10, 23, 11])"
      ]
     },
     "execution_count": 20,
     "metadata": {},
     "output_type": "execute_result"
    }
   ],
   "source": [
    "egg[[True, False, True, True, False, True]]"
   ]
  },
  {
   "cell_type": "code",
   "execution_count": 21,
   "metadata": {},
   "outputs": [
    {
     "data": {
      "text/plain": [
       "array([ True, False,  True,  True, False,  True])"
      ]
     },
     "execution_count": 21,
     "metadata": {},
     "output_type": "execute_result"
    }
   ],
   "source": [
    "egg >= 0"
   ]
  },
  {
   "cell_type": "code",
   "execution_count": 22,
   "metadata": {},
   "outputs": [
    {
     "data": {
      "text/plain": [
       "array([ 3, 10, 23, 11])"
      ]
     },
     "execution_count": 22,
     "metadata": {},
     "output_type": "execute_result"
    }
   ],
   "source": [
    "egg[egg >= 0]"
   ]
  },
  {
   "cell_type": "code",
   "execution_count": 23,
   "metadata": {},
   "outputs": [],
   "source": [
    "##"
   ]
  },
  {
   "cell_type": "code",
   "execution_count": 24,
   "metadata": {},
   "outputs": [],
   "source": [
    "x = np.linspace(-10, 10, 1000)\n",
    "y = np.sin(x)"
   ]
  },
  {
   "cell_type": "code",
   "execution_count": 27,
   "metadata": {},
   "outputs": [
    {
     "data": {
      "text/plain": [
       "<matplotlib.collections.PathCollection at 0x7fdbd151f7b8>"
      ]
     },
     "execution_count": 27,
     "metadata": {},
     "output_type": "execute_result"
    },
    {
     "data": {
      "image/png": "[encoded data removed]",
      "text/plain": [
       "<Figure size 432x288 with 1 Axes>"
      ]
     },
     "metadata": {
      "needs_background": "light"
     },
     "output_type": "display_data"
    }
   ],
   "source": [
    "plt.plot(x, y)\n",
    "plt.scatter(x[y>0], y[y>0], c='r')"
   ]
  },
  {
   "cell_type": "markdown",
   "metadata": {},
   "source": [
    "## 02 Overfitting"
   ]
  },
  {
   "cell_type": "code",
   "execution_count": 30,
   "metadata": {},
   "outputs": [],
   "source": [
    "Px = np.random.rand(6)\n",
    "Py = np.random.rand(6)"
   ]
  },
  {
   "cell_type": "code",
   "execution_count": 33,
   "metadata": {},
   "outputs": [
    {
     "data": {
      "text/plain": [
       "<matplotlib.collections.PathCollection at 0x7fdbd15cd400>"
      ]
     },
     "execution_count": 33,
     "metadata": {},
     "output_type": "execute_result"
    },
    {
     "data": {
      "image/png": "[encoded data removed]",
      "text/plain": [
       "<Figure size 432x288 with 1 Axes>"
      ]
     },
     "metadata": {
      "needs_background": "light"
     },
     "output_type": "display_data"
    }
   ],
   "source": [
    "plt.scatter(Px, Py, c='r', s=50)"
   ]
  },
  {
   "cell_type": "code",
   "execution_count": 34,
   "metadata": {},
   "outputs": [],
   "source": [
    "x = np.linspace(0, 1, 1000)"
   ]
  },
  {
   "cell_type": "code",
   "execution_count": 35,
   "metadata": {},
   "outputs": [],
   "source": [
    "y = 0.5*np.sin(x) + 0.5"
   ]
  },
  {
   "cell_type": "code",
   "execution_count": 36,
   "metadata": {},
   "outputs": [
    {
     "data": {
      "text/plain": [
       "[<matplotlib.lines.Line2D at 0x7fdc311ca748>]"
      ]
     },
     "execution_count": 36,
     "metadata": {},
     "output_type": "execute_result"
    },
    {
     "data": {
      "image/png": "[encoded data removed]",
      "text/plain": [
       "<Figure size 432x288 with 1 Axes>"
      ]
     },
     "metadata": {
      "needs_background": "light"
     },
     "output_type": "display_data"
    }
   ],
   "source": [
    "plt.scatter(Px, Py, c='r', s=50)\n",
    "plt.plot(x, y)"
   ]
  },
  {
   "cell_type": "code",
   "execution_count": 37,
   "metadata": {},
   "outputs": [],
   "source": [
    "def myplot(n=1):\n",
    "    y = 0.5*np.sin(n*x) + 0.5\n",
    "    plt.scatter(Px, Py, c='r', s=50)\n",
    "    plt.plot(x, y)"
   ]
  },
  {
   "cell_type": "code",
   "execution_count": 38,
   "metadata": {},
   "outputs": [
    {
     "data": {
      "image/png": "[encoded data removed]",
      "text/plain": [
       "<Figure size 432x288 with 1 Axes>"
      ]
     },
     "metadata": {
      "needs_background": "light"
     },
     "output_type": "display_data"
    }
   ],
   "source": [
    "myplot(3)"
   ]
  },
  {
   "cell_type": "code",
   "execution_count": 39,
   "metadata": {},
   "outputs": [],
   "source": [
    "from ipywidgets import interact"
   ]
  },
  {
   "cell_type": "code",
   "execution_count": 40,
   "metadata": {},
   "outputs": [
    {
     "data": {
      "application/vnd.jupyter.widget-view+json": {
       "model_id": "a440cf5597a2499faeb8d9896e591997",
       "version_major": 2,
       "version_minor": 0
      },
      "text/plain": [
       "interactive(children=(IntSlider(value=1, description='n', max=300, min=1), Output()), _dom_classes=('widget-in…"
      ]
     },
     "metadata": {},
     "output_type": "display_data"
    },
    {
     "data": {
      "text/plain": [
       "<function __main__.myplot(n=1)>"
      ]
     },
     "execution_count": 40,
     "metadata": {},
     "output_type": "execute_result"
    }
   ],
   "source": [
    "interact(myplot, n=(1, 300))"
   ]
  },
  {
   "cell_type": "markdown",
   "metadata": {},
   "source": [
    "## 03 線性迴歸"
   ]
  },
  {
   "cell_type": "code",
   "execution_count": 47,
   "metadata": {},
   "outputs": [],
   "source": [
    "x = np.linspace(0, 5, 100)\n",
    "y = 1.2*x + 0.8 + 0.5*np.random.randn(100)"
   ]
  },
  {
   "cell_type": "code",
   "execution_count": 48,
   "metadata": {},
   "outputs": [
    {
     "data": {
      "text/plain": [
       "<matplotlib.collections.PathCollection at 0x7fdc104877b8>"
      ]
     },
     "execution_count": 48,
     "metadata": {},
     "output_type": "execute_result"
    },
    {
     "data": {
      "image/png": "[encoded data removed]",
      "text/plain": [
       "<Figure size 432x288 with 1 Axes>"
      ]
     },
     "metadata": {
      "needs_background": "light"
     },
     "output_type": "display_data"
    }
   ],
   "source": [
    "plt.scatter(x, y)"
   ]
  },
  {
   "cell_type": "code",
   "execution_count": 49,
   "metadata": {},
   "outputs": [],
   "source": [
    "from sklearn.model_selection import train_test_split"
   ]
  },
  {
   "cell_type": "code",
   "execution_count": 58,
   "metadata": {},
   "outputs": [],
   "source": [
    "x_train, x_test, y_train, y_test = train_test_split(x, y,\n",
    "                                                   test_size=0.2,\n",
    "                                                   random_state=0)"
   ]
  },
  {
   "cell_type": "code",
   "execution_count": 51,
   "metadata": {},
   "outputs": [
    {
     "data": {
      "text/plain": [
       "20"
      ]
     },
     "execution_count": 51,
     "metadata": {},
     "output_type": "execute_result"
    }
   ],
   "source": [
    "len(x_test)"
   ]
  },
  {
   "cell_type": "code",
   "execution_count": 52,
   "metadata": {},
   "outputs": [
    {
     "data": {
      "text/plain": [
       "80"
      ]
     },
     "execution_count": 52,
     "metadata": {},
     "output_type": "execute_result"
    }
   ],
   "source": [
    "len(x_train)"
   ]
  },
  {
   "cell_type": "markdown",
   "metadata": {},
   "source": [
    "### 訓練資料格式\n",
    "\n",
    "x = [-2, 3, -5, 2, 9]\n",
    "\n",
    "shape 為 5 維向量\n",
    "\n",
    "Python 喜歡\n",
    "\n",
    "x = [[-2], [3], [-5], [2], [9]]\n",
    "\n",
    "shape (5,1)\n",
    "\n"
   ]
  },
  {
   "cell_type": "code",
   "execution_count": 55,
   "metadata": {},
   "outputs": [
    {
     "data": {
      "text/plain": [
       "(80,)"
      ]
     },
     "execution_count": 55,
     "metadata": {},
     "output_type": "execute_result"
    }
   ],
   "source": [
    "x_train.shape"
   ]
  },
  {
   "cell_type": "code",
   "execution_count": 59,
   "metadata": {},
   "outputs": [],
   "source": [
    "x_train = x_train.reshape(80, 1)\n",
    "x_test = x_test.reshape(20, 1)"
   ]
  },
  {
   "cell_type": "markdown",
   "metadata": {},
   "source": [
    "### step 1 開一台函數學習機"
   ]
  },
  {
   "cell_type": "code",
   "execution_count": 60,
   "metadata": {},
   "outputs": [],
   "source": [
    "from sklearn.linear_model import LinearRegression"
   ]
  },
  {
   "cell_type": "code",
   "execution_count": 61,
   "metadata": {},
   "outputs": [],
   "source": [
    "regr = LinearRegression()"
   ]
  },
  {
   "cell_type": "markdown",
   "metadata": {},
   "source": [
    "### step 2 訓練 (學習)"
   ]
  },
  {
   "cell_type": "code",
   "execution_count": 62,
   "metadata": {},
   "outputs": [
    {
     "data": {
      "text/plain": [
       "LinearRegression(copy_X=True, fit_intercept=True, n_jobs=None,\n",
       "         normalize=False)"
      ]
     },
     "execution_count": 62,
     "metadata": {},
     "output_type": "execute_result"
    }
   ],
   "source": [
    "regr.fit(x_train, y_train)"
   ]
  },
  {
   "cell_type": "markdown",
   "metadata": {},
   "source": [
    "### step 3 預測"
   ]
  },
  {
   "cell_type": "code",
   "execution_count": 63,
   "metadata": {},
   "outputs": [],
   "source": [
    "predict = regr.predict(x_test)"
   ]
  },
  {
   "cell_type": "code",
   "execution_count": 73,
   "metadata": {},
   "outputs": [
    {
     "data": {
      "text/plain": [
       "array([4.79024786])"
      ]
     },
     "execution_count": 73,
     "metadata": {},
     "output_type": "execute_result"
    }
   ],
   "source": [
    "regr.predict([[3.2]])"
   ]
  },
  {
   "cell_type": "code",
   "execution_count": 74,
   "metadata": {},
   "outputs": [
    {
     "data": {
      "text/plain": [
       "array([4.79024786, 3.37345184])"
      ]
     },
     "execution_count": 74,
     "metadata": {},
     "output_type": "execute_result"
    }
   ],
   "source": [
    "regr.predict([[3.2], [2.09]])"
   ]
  },
  {
   "cell_type": "code",
   "execution_count": 67,
   "metadata": {},
   "outputs": [
    {
     "data": {
      "text/plain": [
       "array([1.31313131, 4.34343434, 0.1010101 , 2.77777778, 3.78787879,\n",
       "       4.6969697 , 0.80808081, 3.68686869, 2.72727273, 4.7979798 ,\n",
       "       2.67676768, 4.64646465, 3.93939394, 0.65656566, 0.35353535,\n",
       "       1.51515152, 1.11111111, 1.21212121, 1.66666667, 0.4040404 ])"
      ]
     },
     "execution_count": 67,
     "metadata": {},
     "output_type": "execute_result"
    }
   ],
   "source": [
    "x_test.ravel()"
   ]
  },
  {
   "cell_type": "code",
   "execution_count": null,
   "metadata": {},
   "outputs": [],
   "source": []
  },
  {
   "cell_type": "code",
   "execution_count": 72,
   "metadata": {},
   "outputs": [
    {
     "data": {
      "text/plain": [
       "<matplotlib.collections.PathCollection at 0x7fdc3110da58>"
      ]
     },
     "execution_count": 72,
     "metadata": {},
     "output_type": "execute_result"
    },
    {
     "data": {
      "image/png": "[encoded data removed]",
      "text/plain": [
       "<Figure size 432x288 with 1 Axes>"
      ]
     },
     "metadata": {
      "needs_background": "light"
     },
     "output_type": "display_data"
    }
   ],
   "source": [
    "plt.plot(x_test.ravel(), predict, c='r')\n",
    "plt.scatter(x_test.ravel(), y_test)"
   ]
  },
  {
   "cell_type": "markdown",
   "metadata": {},
   "source": [
    "## 04 BOSTON 房價"
   ]
  },
  {
   "cell_type": "code",
   "execution_count": 75,
   "metadata": {},
   "outputs": [],
   "source": [
    "from sklearn.datasets import load_boston"
   ]
  },
  {
   "cell_type": "code",
   "execution_count": 76,
   "metadata": {},
   "outputs": [],
   "source": [
    "boston_dataset = load_boston()"
   ]
  },
  {
   "cell_type": "code",
   "execution_count": 78,
   "metadata": {},
   "outputs": [
    {
     "data": {
      "text/plain": [
       "array(['CRIM', 'ZN', 'INDUS', 'CHAS', 'NOX', 'RM', 'AGE', 'DIS', 'RAD',\n",
       "       'TAX', 'PTRATIO', 'B', 'LSTAT'], dtype='<U7')"
      ]
     },
     "execution_count": 78,
     "metadata": {},
     "output_type": "execute_result"
    }
   ],
   "source": [
    "boston_dataset.feature_names"
   ]
  },
  {
   "cell_type": "code",
   "execution_count": 79,
   "metadata": {},
   "outputs": [],
   "source": [
    "boston = pd.DataFrame(boston_dataset.data,\n",
    "                     columns=boston_dataset.feature_names)"
   ]
  },
  {
   "cell_type": "code",
   "execution_count": 80,
   "metadata": {},
   "outputs": [],
   "source": [
    "boston['MEDV'] = boston_dataset.target"
   ]
  },
  {
   "cell_type": "code",
   "execution_count": 81,
   "metadata": {},
   "outputs": [
    {
     "data": {
      "text/html": [
       "<div>\n",
       "<style scoped>\n",
       "    .dataframe tbody tr th:only-of-type {\n",
       "        vertical-align: middle;\n",
       "    }\n",
       "\n",
       "    .dataframe tbody tr th {\n",
       "        vertical-align: top;\n",
       "    }\n",
       "\n",
       "    .dataframe thead th {\n",
       "        text-align: right;\n",
       "    }\n",
       "</style>\n",
       "<table border=\"1\" class=\"dataframe\">\n",
       "  <thead>\n",
       "    <tr style=\"text-align: right;\">\n",
       "      <th></th>\n",
       "      <th>CRIM</th>\n",
       "      <th>ZN</th>\n",
       "      <th>INDUS</th>\n",
       "      <th>CHAS</th>\n",
       "      <th>NOX</th>\n",
       "      <th>RM</th>\n",
       "      <th>AGE</th>\n",
       "      <th>DIS</th>\n",
       "      <th>RAD</th>\n",
       "      <th>TAX</th>\n",
       "      <th>PTRATIO</th>\n",
       "      <th>B</th>\n",
       "      <th>LSTAT</th>\n",
       "      <th>MEDV</th>\n",
       "    </tr>\n",
       "  </thead>\n",
       "  <tbody>\n",
       "    <tr>\n",
       "      <th>0</th>\n",
       "      <td>0.00632</td>\n",
       "      <td>18.0</td>\n",
       "      <td>2.31</td>\n",
       "      <td>0.0</td>\n",
       "      <td>0.538</td>\n",
       "      <td>6.575</td>\n",
       "      <td>65.2</td>\n",
       "      <td>4.0900</td>\n",
       "      <td>1.0</td>\n",
       "      <td>296.0</td>\n",
       "      <td>15.3</td>\n",
       "      <td>396.90</td>\n",
       "      <td>4.98</td>\n",
       "      <td>24.0</td>\n",
       "    </tr>\n",
       "    <tr>\n",
       "      <th>1</th>\n",
       "      <td>0.02731</td>\n",
       "      <td>0.0</td>\n",
       "      <td>7.07</td>\n",
       "      <td>0.0</td>\n",
       "      <td>0.469</td>\n",
       "      <td>6.421</td>\n",
       "      <td>78.9</td>\n",
       "      <td>4.9671</td>\n",
       "      <td>2.0</td>\n",
       "      <td>242.0</td>\n",
       "      <td>17.8</td>\n",
       "      <td>396.90</td>\n",
       "      <td>9.14</td>\n",
       "      <td>21.6</td>\n",
       "    </tr>\n",
       "    <tr>\n",
       "      <th>2</th>\n",
       "      <td>0.02729</td>\n",
       "      <td>0.0</td>\n",
       "      <td>7.07</td>\n",
       "      <td>0.0</td>\n",
       "      <td>0.469</td>\n",
       "      <td>7.185</td>\n",
       "      <td>61.1</td>\n",
       "      <td>4.9671</td>\n",
       "      <td>2.0</td>\n",
       "      <td>242.0</td>\n",
       "      <td>17.8</td>\n",
       "      <td>392.83</td>\n",
       "      <td>4.03</td>\n",
       "      <td>34.7</td>\n",
       "    </tr>\n",
       "    <tr>\n",
       "      <th>3</th>\n",
       "      <td>0.03237</td>\n",
       "      <td>0.0</td>\n",
       "      <td>2.18</td>\n",
       "      <td>0.0</td>\n",
       "      <td>0.458</td>\n",
       "      <td>6.998</td>\n",
       "      <td>45.8</td>\n",
       "      <td>6.0622</td>\n",
       "      <td>3.0</td>\n",
       "      <td>222.0</td>\n",
       "      <td>18.7</td>\n",
       "      <td>394.63</td>\n",
       "      <td>2.94</td>\n",
       "      <td>33.4</td>\n",
       "    </tr>\n",
       "    <tr>\n",
       "      <th>4</th>\n",
       "      <td>0.06905</td>\n",
       "      <td>0.0</td>\n",
       "      <td>2.18</td>\n",
       "      <td>0.0</td>\n",
       "      <td>0.458</td>\n",
       "      <td>7.147</td>\n",
       "      <td>54.2</td>\n",
       "      <td>6.0622</td>\n",
       "      <td>3.0</td>\n",
       "      <td>222.0</td>\n",
       "      <td>18.7</td>\n",
       "      <td>396.90</td>\n",
       "      <td>5.33</td>\n",
       "      <td>36.2</td>\n",
       "    </tr>\n",
       "  </tbody>\n",
       "</table>\n",
       "</div>"
      ],
      "text/plain": [
       "      CRIM    ZN  INDUS  CHAS    NOX     RM   AGE     DIS  RAD    TAX  \\\n",
       "0  0.00632  18.0   2.31   0.0  0.538  6.575  65.2  4.0900  1.0  296.0   \n",
       "1  0.02731   0.0   7.07   0.0  0.469  6.421  78.9  4.9671  2.0  242.0   \n",
       "2  0.02729   0.0   7.07   0.0  0.469  7.185  61.1  4.9671  2.0  242.0   \n",
       "3  0.03237   0.0   2.18   0.0  0.458  6.998  45.8  6.0622  3.0  222.0   \n",
       "4  0.06905   0.0   2.18   0.0  0.458  7.147  54.2  6.0622  3.0  222.0   \n",
       "\n",
       "   PTRATIO       B  LSTAT  MEDV  \n",
       "0     15.3  396.90   4.98  24.0  \n",
       "1     17.8  396.90   9.14  21.6  \n",
       "2     17.8  392.83   4.03  34.7  \n",
       "3     18.7  394.63   2.94  33.4  \n",
       "4     18.7  396.90   5.33  36.2  "
      ]
     },
     "execution_count": 81,
     "metadata": {},
     "output_type": "execute_result"
    }
   ],
   "source": [
    "boston.head()"
   ]
  },
  {
   "cell_type": "code",
   "execution_count": 82,
   "metadata": {},
   "outputs": [],
   "source": [
    "import seaborn as sns"
   ]
  },
  {
   "cell_type": "code",
   "execution_count": 85,
   "metadata": {},
   "outputs": [
    {
     "data": {
      "text/plain": [
       "<matplotlib.axes._subplots.AxesSubplot at 0x7fdc01319668>"
      ]
     },
     "execution_count": 85,
     "metadata": {},
     "output_type": "execute_result"
    },
    {
     "data": {
      "image/png": "[encoded data removed]",
      "text/plain": [
       "<Figure size 432x288 with 1 Axes>"
      ]
     },
     "metadata": {
      "needs_background": "light"
     },
     "output_type": "display_data"
    }
   ],
   "source": [
    "sns.distplot(boston.MEDV, bins=30)"
   ]
  },
  {
   "cell_type": "code",
   "execution_count": 88,
   "metadata": {},
   "outputs": [],
   "source": [
    "correlation_matrix = boston.corr().round(2)"
   ]
  },
  {
   "cell_type": "code",
   "execution_count": 90,
   "metadata": {},
   "outputs": [
    {
     "data": {
      "text/plain": [
       "<matplotlib.axes._subplots.AxesSubplot at 0x7fdbd230b320>"
      ]
     },
     "execution_count": 90,
     "metadata": {},
     "output_type": "execute_result"
    },
    {
     "data": {
      "image/png": "[encoded data removed]",
      "text/plain": [
       "<Figure size 842.4x595.44 with 2 Axes>"
      ]
     },
     "metadata": {},
     "output_type": "display_data"
    }
   ],
   "source": [
    "sns.set(rc={'figure.figsize':(11.7, 8.27)})\n",
    "\n",
    "sns.heatmap(correlation_matrix, annot=True)"
   ]
  },
  {
   "cell_type": "code",
   "execution_count": 91,
   "metadata": {},
   "outputs": [],
   "source": [
    "X = boston.loc[:, 'CRIM':'LSTAT'].values\n",
    "Y = boston.MEDV"
   ]
  },
  {
   "cell_type": "code",
   "execution_count": 92,
   "metadata": {},
   "outputs": [],
   "source": [
    "x_train, x_test, y_train, y_test = train_test_split(X, Y,\n",
    "                                                   test_size=0.2,\n",
    "                                                   random_state=0)"
   ]
  },
  {
   "cell_type": "markdown",
   "metadata": {},
   "source": [
    "### Step 1 開函數學習機"
   ]
  },
  {
   "cell_type": "code",
   "execution_count": 94,
   "metadata": {},
   "outputs": [],
   "source": [
    "regr = LinearRegression()"
   ]
  },
  {
   "cell_type": "markdown",
   "metadata": {},
   "source": [
    "### Step 2 fit"
   ]
  },
  {
   "cell_type": "code",
   "execution_count": 96,
   "metadata": {},
   "outputs": [
    {
     "data": {
      "text/plain": [
       "LinearRegression(copy_X=True, fit_intercept=True, n_jobs=None,\n",
       "         normalize=False)"
      ]
     },
     "execution_count": 96,
     "metadata": {},
     "output_type": "execute_result"
    }
   ],
   "source": [
    "regr.fit(x_train, y_train)"
   ]
  },
  {
   "cell_type": "markdown",
   "metadata": {},
   "source": [
    "### Step 3 predict"
   ]
  },
  {
   "cell_type": "code",
   "execution_count": 97,
   "metadata": {},
   "outputs": [],
   "source": [
    "Ypred = regr.predict(x_test)"
   ]
  },
  {
   "cell_type": "code",
   "execution_count": 102,
   "metadata": {},
   "outputs": [
    {
     "data": {
      "text/plain": [
       "[<matplotlib.lines.Line2D at 0x7fdbd2de2160>]"
      ]
     },
     "execution_count": 102,
     "metadata": {},
     "output_type": "execute_result"
    },
    {
     "data": {
      "image/png": "[encoded data removed]",
      "text/plain": [
       "<Figure size 842.4x595.44 with 1 Axes>"
      ]
     },
     "metadata": {},
     "output_type": "display_data"
    }
   ],
   "source": [
    "plt.scatter(y_test, Ypred)\n",
    "plt.plot((0,55),(0,55), c='r')"
   ]
  },
  {
   "cell_type": "code",
   "execution_count": 104,
   "metadata": {},
   "outputs": [
    {
     "data": {
      "text/plain": [
       "(404, 13)"
      ]
     },
     "execution_count": 104,
     "metadata": {},
     "output_type": "execute_result"
    }
   ],
   "source": [
    "x_train.shape"
   ]
  },
  {
   "cell_type": "markdown",
   "metadata": {},
   "source": [
    "## 05 SVM"
   ]
  },
  {
   "cell_type": "code",
   "execution_count": 106,
   "metadata": {},
   "outputs": [],
   "source": [
    "from sklearn.datasets import load_iris"
   ]
  },
  {
   "cell_type": "code",
   "execution_count": 107,
   "metadata": {},
   "outputs": [],
   "source": [
    "iris = load_iris()"
   ]
  },
  {
   "cell_type": "code",
   "execution_count": 108,
   "metadata": {},
   "outputs": [],
   "source": [
    "x = iris.data\n",
    "y = iris.target"
   ]
  },
  {
   "cell_type": "code",
   "execution_count": 109,
   "metadata": {},
   "outputs": [
    {
     "data": {
      "text/plain": [
       "array([6.3, 2.3, 4.4, 1.3])"
      ]
     },
     "execution_count": 109,
     "metadata": {},
     "output_type": "execute_result"
    }
   ],
   "source": [
    "x[87]"
   ]
  },
  {
   "cell_type": "code",
   "execution_count": 112,
   "metadata": {},
   "outputs": [
    {
     "data": {
      "text/plain": [
       "1"
      ]
     },
     "execution_count": 112,
     "metadata": {},
     "output_type": "execute_result"
    }
   ],
   "source": [
    "y[87]"
   ]
  },
  {
   "cell_type": "code",
   "execution_count": 123,
   "metadata": {},
   "outputs": [],
   "source": [
    "X = x[:, 2:]"
   ]
  },
  {
   "cell_type": "code",
   "execution_count": 124,
   "metadata": {},
   "outputs": [],
   "source": [
    "Y = y"
   ]
  },
  {
   "cell_type": "code",
   "execution_count": 125,
   "metadata": {},
   "outputs": [
    {
     "data": {
      "text/plain": [
       "array([4.4, 1.3])"
      ]
     },
     "execution_count": 125,
     "metadata": {},
     "output_type": "execute_result"
    }
   ],
   "source": [
    "X[87]"
   ]
  },
  {
   "cell_type": "code",
   "execution_count": 126,
   "metadata": {},
   "outputs": [
    {
     "data": {
      "text/plain": [
       "<matplotlib.collections.PathCollection at 0x7fdbf09a04a8>"
      ]
     },
     "execution_count": 126,
     "metadata": {},
     "output_type": "execute_result"
    },
    {
     "data": {
      "image/png": "[encoded data removed]",
      "text/plain": [
       "<Figure size 842.4x595.44 with 1 Axes>"
      ]
     },
     "metadata": {},
     "output_type": "display_data"
    }
   ],
   "source": [
    "plt.scatter(X[:, 0], X[:, 1], c=y, cmap='Paired')"
   ]
  },
  {
   "cell_type": "code",
   "execution_count": 127,
   "metadata": {},
   "outputs": [],
   "source": [
    "from sklearn.model_selection import train_test_split"
   ]
  },
  {
   "cell_type": "code",
   "execution_count": 128,
   "metadata": {},
   "outputs": [],
   "source": [
    "x_train, x_test, y_train, y_test = train_test_split(X, Y,\n",
    "                                                   test_size=0.2,\n",
    "                                                   random_state=0)"
   ]
  },
  {
   "cell_type": "markdown",
   "metadata": {},
   "source": [
    "### Step 1. 打開函數學習機"
   ]
  },
  {
   "cell_type": "code",
   "execution_count": 129,
   "metadata": {},
   "outputs": [],
   "source": [
    "from sklearn.svm import SVC"
   ]
  },
  {
   "cell_type": "code",
   "execution_count": 156,
   "metadata": {},
   "outputs": [],
   "source": [
    "clf = SVC(gamma='scale')"
   ]
  },
  {
   "cell_type": "markdown",
   "metadata": {},
   "source": [
    "### Step 2. 學習"
   ]
  },
  {
   "cell_type": "code",
   "execution_count": 157,
   "metadata": {},
   "outputs": [
    {
     "data": {
      "text/plain": [
       "SVC(C=1.0, cache_size=200, class_weight=None, coef0=0.0,\n",
       "  decision_function_shape='ovr', degree=3, gamma='scale', kernel='rbf',\n",
       "  max_iter=-1, probability=False, random_state=None, shrinking=True,\n",
       "  tol=0.001, verbose=False)"
      ]
     },
     "execution_count": 157,
     "metadata": {},
     "output_type": "execute_result"
    }
   ],
   "source": [
    "clf.fit(x_train, y_train)"
   ]
  },
  {
   "cell_type": "markdown",
   "metadata": {},
   "source": [
    "### Step 3 預測"
   ]
  },
  {
   "cell_type": "code",
   "execution_count": 158,
   "metadata": {},
   "outputs": [],
   "source": [
    "Ypred = clf.predict(x_test)"
   ]
  },
  {
   "cell_type": "code",
   "execution_count": 136,
   "metadata": {},
   "outputs": [
    {
     "data": {
      "text/plain": [
       "array([2, 1, 0, 2, 0, 2, 0, 1, 1, 1, 2, 1, 1, 1, 1, 0, 1, 1, 0, 0, 2, 1,\n",
       "       0, 0, 2, 0, 0, 1, 1, 0])"
      ]
     },
     "execution_count": 136,
     "metadata": {},
     "output_type": "execute_result"
    }
   ],
   "source": [
    "Ypred"
   ]
  },
  {
   "cell_type": "code",
   "execution_count": 137,
   "metadata": {},
   "outputs": [
    {
     "data": {
      "text/plain": [
       "array([2, 1, 0, 2, 0, 2, 0, 1, 1, 1, 2, 1, 1, 1, 1, 0, 1, 1, 0, 0, 2, 1,\n",
       "       0, 0, 2, 0, 0, 1, 1, 0])"
      ]
     },
     "execution_count": 137,
     "metadata": {},
     "output_type": "execute_result"
    }
   ],
   "source": [
    "y_test"
   ]
  },
  {
   "cell_type": "code",
   "execution_count": 139,
   "metadata": {},
   "outputs": [
    {
     "data": {
      "text/plain": [
       "<matplotlib.collections.PathCollection at 0x7fdbd35ff9b0>"
      ]
     },
     "execution_count": 139,
     "metadata": {},
     "output_type": "execute_result"
    },
    {
     "data": {
      "image/png": "[encoded data removed]",
      "text/plain": [
       "<Figure size 842.4x595.44 with 1 Axes>"
      ]
     },
     "metadata": {},
     "output_type": "display_data"
    }
   ],
   "source": [
    "plt.scatter(x_test[:, 0], x_test[:, 1], c=Ypred - y_test)"
   ]
  },
  {
   "cell_type": "markdown",
   "metadata": {},
   "source": [
    "## 06 K-Means"
   ]
  },
  {
   "cell_type": "code",
   "execution_count": 140,
   "metadata": {},
   "outputs": [],
   "source": [
    "x = np.random.randn(100, 2)"
   ]
  },
  {
   "cell_type": "code",
   "execution_count": 142,
   "metadata": {},
   "outputs": [
    {
     "data": {
      "text/plain": [
       "<matplotlib.collections.PathCollection at 0x7fdbd3f65320>"
      ]
     },
     "execution_count": 142,
     "metadata": {},
     "output_type": "execute_result"
    },
    {
     "data": {
      "image/png": "[encoded data removed]",
      "text/plain": [
       "<Figure size 842.4x595.44 with 1 Axes>"
      ]
     },
     "metadata": {},
     "output_type": "display_data"
    }
   ],
   "source": [
    "plt.scatter(x[:,0], x[:,1])"
   ]
  },
  {
   "cell_type": "markdown",
   "metadata": {},
   "source": [
    "### Step 1 開函數學習機"
   ]
  },
  {
   "cell_type": "code",
   "execution_count": 144,
   "metadata": {},
   "outputs": [],
   "source": [
    "from sklearn.cluster import KMeans"
   ]
  },
  {
   "cell_type": "code",
   "execution_count": 145,
   "metadata": {},
   "outputs": [],
   "source": [
    "clf = KMeans(n_clusters=3)"
   ]
  },
  {
   "cell_type": "markdown",
   "metadata": {},
   "source": [
    "### Step 2 學習"
   ]
  },
  {
   "cell_type": "code",
   "execution_count": 146,
   "metadata": {},
   "outputs": [
    {
     "data": {
      "text/plain": [
       "KMeans(algorithm='auto', copy_x=True, init='k-means++', max_iter=300,\n",
       "    n_clusters=3, n_init=10, n_jobs=None, precompute_distances='auto',\n",
       "    random_state=None, tol=0.0001, verbose=0)"
      ]
     },
     "execution_count": 146,
     "metadata": {},
     "output_type": "execute_result"
    }
   ],
   "source": [
    "clf.fit(x)"
   ]
  },
  {
   "cell_type": "markdown",
   "metadata": {},
   "source": [
    "### Step 3 Predict"
   ]
  },
  {
   "cell_type": "code",
   "execution_count": 148,
   "metadata": {},
   "outputs": [],
   "source": [
    "y_pred = clf.predict(x)"
   ]
  },
  {
   "cell_type": "code",
   "execution_count": 149,
   "metadata": {},
   "outputs": [
    {
     "data": {
      "text/plain": [
       "array([1, 1, 2, 0, 2, 0, 0, 1, 2, 1, 2, 0, 1, 0, 0, 1, 0, 1, 0, 0, 2, 0,\n",
       "       2, 0, 1, 1, 2, 0, 2, 1, 0, 1, 2, 0, 1, 0, 1, 0, 0, 2, 2, 2, 2, 2,\n",
       "       1, 0, 2, 0, 1, 0, 1, 0, 0, 2, 0, 0, 2, 0, 1, 1, 1, 1, 0, 1, 2, 1,\n",
       "       1, 2, 1, 2, 2, 1, 1, 1, 1, 0, 2, 0, 1, 1, 1, 0, 2, 1, 1, 1, 2, 2,\n",
       "       2, 1, 1, 0, 0, 0, 0, 2, 2, 1, 2, 1], dtype=int32)"
      ]
     },
     "execution_count": 149,
     "metadata": {},
     "output_type": "execute_result"
    }
   ],
   "source": [
    "y_pred"
   ]
  },
  {
   "cell_type": "code",
   "execution_count": 151,
   "metadata": {},
   "outputs": [
    {
     "data": {
      "text/plain": [
       "<matplotlib.collections.PathCollection at 0x7fdbd3b6add8>"
      ]
     },
     "execution_count": 151,
     "metadata": {},
     "output_type": "execute_result"
    },
    {
     "data": {
      "image/png": "[encoded data removed]",
      "text/plain": [
       "<Figure size 842.4x595.44 with 1 Axes>"
      ]
     },
     "metadata": {},
     "output_type": "display_data"
    }
   ],
   "source": [
    "plt.scatter(x[:, 0], x[:, 1], c=y_pred, cmap='Paired')"
   ]
  },
  {
   "cell_type": "markdown",
   "metadata": {},
   "source": [
    "## 07 補充: `pandas` 快速爬蟲神技\n",
    "\n",
    "我們找到的網頁, 如果發現有表格的形式, `pandas` 就有機會快速爬蟲!"
   ]
  },
  {
   "cell_type": "code",
   "execution_count": 166,
   "metadata": {},
   "outputs": [],
   "source": [
    "df = pd.read_html('https://tw.stock.yahoo.com/s/list.php?c=%B9q%A4l%B9s%B2%D5%A5%F3&rr=0.19680300%201571299594',\n",
    "                 encoding='big5')"
   ]
  },
  {
   "cell_type": "markdown",
   "metadata": {},
   "source": [
    "這裡設了\n",
    "\n",
    "    encoding='big5'\n",
    "\n",
    "是因為直接爬發現有亂碼, 才注意到 Yahoo! 原來是用 Big 5。\n",
    "\n",
    "### 看看表格有幾張"
   ]
  },
  {
   "cell_type": "code",
   "execution_count": 167,
   "metadata": {},
   "outputs": [
    {
     "data": {
      "text/plain": [
       "5"
      ]
     },
     "execution_count": 167,
     "metadata": {},
     "output_type": "execute_result"
    }
   ],
   "source": [
    "len(df)"
   ]
  },
  {
   "cell_type": "markdown",
   "metadata": {},
   "source": [
    "一張張看發現..."
   ]
  },
  {
   "cell_type": "code",
   "execution_count": 168,
   "metadata": {},
   "outputs": [
    {
     "data": {
      "text/html": [
       "<div>\n",
       "<style scoped>\n",
       "    .dataframe tbody tr th:only-of-type {\n",
       "        vertical-align: middle;\n",
       "    }\n",
       "\n",
       "    .dataframe tbody tr th {\n",
       "        vertical-align: top;\n",
       "    }\n",
       "\n",
       "    .dataframe thead th {\n",
       "        text-align: right;\n",
       "    }\n",
       "</style>\n",
       "<table border=\"1\" class=\"dataframe\">\n",
       "  <thead>\n",
       "    <tr style=\"text-align: right;\">\n",
       "      <th></th>\n",
       "      <th>選擇</th>\n",
       "      <th>股票代號</th>\n",
       "      <th>時間</th>\n",
       "      <th>成交</th>\n",
       "      <th>買進</th>\n",
       "      <th>賣出</th>\n",
       "      <th>漲跌</th>\n",
       "      <th>張數</th>\n",
       "      <th>昨收</th>\n",
       "      <th>開盤</th>\n",
       "      <th>最高</th>\n",
       "      <th>最低</th>\n",
       "    </tr>\n",
       "  </thead>\n",
       "  <tbody>\n",
       "    <tr>\n",
       "      <th>0</th>\n",
       "      <td>NaN</td>\n",
       "      <td>1471 首利</td>\n",
       "      <td>13:14</td>\n",
       "      <td>3.68</td>\n",
       "      <td>3.68</td>\n",
       "      <td>-</td>\n",
       "      <td>▲0.33</td>\n",
       "      <td>640</td>\n",
       "      <td>3.35</td>\n",
       "      <td>3.32</td>\n",
       "      <td>3.68</td>\n",
       "      <td>3.32</td>\n",
       "    </tr>\n",
       "    <tr>\n",
       "      <th>1</th>\n",
       "      <td>NaN</td>\n",
       "      <td>1582 信錦</td>\n",
       "      <td>13:30</td>\n",
       "      <td>77.10</td>\n",
       "      <td>76.90</td>\n",
       "      <td>77.1</td>\n",
       "      <td>▽0.1</td>\n",
       "      <td>163</td>\n",
       "      <td>77.20</td>\n",
       "      <td>77.30</td>\n",
       "      <td>77.30</td>\n",
       "      <td>76.80</td>\n",
       "    </tr>\n",
       "    <tr>\n",
       "      <th>2</th>\n",
       "      <td>NaN</td>\n",
       "      <td>2059 川湖</td>\n",
       "      <td>13:30</td>\n",
       "      <td>357.00</td>\n",
       "      <td>357.00</td>\n",
       "      <td>357.5</td>\n",
       "      <td>▽5.5</td>\n",
       "      <td>346</td>\n",
       "      <td>362.50</td>\n",
       "      <td>366.50</td>\n",
       "      <td>367.00</td>\n",
       "      <td>354.00</td>\n",
       "    </tr>\n",
       "    <tr>\n",
       "      <th>3</th>\n",
       "      <td>NaN</td>\n",
       "      <td>2308 台達電</td>\n",
       "      <td>14:30</td>\n",
       "      <td>134.00</td>\n",
       "      <td>133.50</td>\n",
       "      <td>134.0</td>\n",
       "      <td>△1.5</td>\n",
       "      <td>5401</td>\n",
       "      <td>132.50</td>\n",
       "      <td>132.00</td>\n",
       "      <td>134.00</td>\n",
       "      <td>131.00</td>\n",
       "    </tr>\n",
       "    <tr>\n",
       "      <th>4</th>\n",
       "      <td>NaN</td>\n",
       "      <td>2313 華通</td>\n",
       "      <td>14:30</td>\n",
       "      <td>40.85</td>\n",
       "      <td>40.85</td>\n",
       "      <td>40.90</td>\n",
       "      <td>▽0.45</td>\n",
       "      <td>20803</td>\n",
       "      <td>41.30</td>\n",
       "      <td>41.50</td>\n",
       "      <td>41.50</td>\n",
       "      <td>40.55</td>\n",
       "    </tr>\n",
       "  </tbody>\n",
       "</table>\n",
       "</div>"
      ],
      "text/plain": [
       "   選擇      股票代號     時間      成交      買進     賣出     漲跌     張數      昨收      開盤  \\\n",
       "0 NaN   1471 首利  13:14    3.68    3.68      -  ▲0.33    640    3.35    3.32   \n",
       "1 NaN   1582 信錦  13:30   77.10   76.90   77.1   ▽0.1    163   77.20   77.30   \n",
       "2 NaN   2059 川湖  13:30  357.00  357.00  357.5   ▽5.5    346  362.50  366.50   \n",
       "3 NaN  2308 台達電  14:30  134.00  133.50  134.0   △1.5   5401  132.50  132.00   \n",
       "4 NaN   2313 華通  14:30   40.85   40.85  40.90  ▽0.45  20803   41.30   41.50   \n",
       "\n",
       "       最高      最低  \n",
       "0    3.68    3.32  \n",
       "1   77.30   76.80  \n",
       "2  367.00  354.00  \n",
       "3  134.00  131.00  \n",
       "4   41.50   40.55  "
      ]
     },
     "execution_count": 168,
     "metadata": {},
     "output_type": "execute_result"
    }
   ],
   "source": [
    "df[2].head()"
   ]
  },
  {
   "cell_type": "markdown",
   "metadata": {},
   "source": [
    "這就是我們要的!"
   ]
  },
  {
   "cell_type": "code",
   "execution_count": 170,
   "metadata": {},
   "outputs": [],
   "source": [
    "df2 = df[2]"
   ]
  },
  {
   "cell_type": "code",
   "execution_count": 171,
   "metadata": {},
   "outputs": [
    {
     "data": {
      "text/html": [
       "<div>\n",
       "<style scoped>\n",
       "    .dataframe tbody tr th:only-of-type {\n",
       "        vertical-align: middle;\n",
       "    }\n",
       "\n",
       "    .dataframe tbody tr th {\n",
       "        vertical-align: top;\n",
       "    }\n",
       "\n",
       "    .dataframe thead th {\n",
       "        text-align: right;\n",
       "    }\n",
       "</style>\n",
       "<table border=\"1\" class=\"dataframe\">\n",
       "  <thead>\n",
       "    <tr style=\"text-align: right;\">\n",
       "      <th></th>\n",
       "      <th>選擇</th>\n",
       "      <th>股票代號</th>\n",
       "      <th>時間</th>\n",
       "      <th>成交</th>\n",
       "      <th>買進</th>\n",
       "      <th>賣出</th>\n",
       "      <th>漲跌</th>\n",
       "      <th>張數</th>\n",
       "      <th>昨收</th>\n",
       "      <th>開盤</th>\n",
       "      <th>最高</th>\n",
       "      <th>最低</th>\n",
       "    </tr>\n",
       "  </thead>\n",
       "  <tbody>\n",
       "    <tr>\n",
       "      <th>0</th>\n",
       "      <td>NaN</td>\n",
       "      <td>1471 首利</td>\n",
       "      <td>13:14</td>\n",
       "      <td>3.68</td>\n",
       "      <td>3.68</td>\n",
       "      <td>-</td>\n",
       "      <td>▲0.33</td>\n",
       "      <td>640</td>\n",
       "      <td>3.35</td>\n",
       "      <td>3.32</td>\n",
       "      <td>3.68</td>\n",
       "      <td>3.32</td>\n",
       "    </tr>\n",
       "    <tr>\n",
       "      <th>1</th>\n",
       "      <td>NaN</td>\n",
       "      <td>1582 信錦</td>\n",
       "      <td>13:30</td>\n",
       "      <td>77.10</td>\n",
       "      <td>76.90</td>\n",
       "      <td>77.1</td>\n",
       "      <td>▽0.1</td>\n",
       "      <td>163</td>\n",
       "      <td>77.20</td>\n",
       "      <td>77.30</td>\n",
       "      <td>77.30</td>\n",
       "      <td>76.80</td>\n",
       "    </tr>\n",
       "    <tr>\n",
       "      <th>2</th>\n",
       "      <td>NaN</td>\n",
       "      <td>2059 川湖</td>\n",
       "      <td>13:30</td>\n",
       "      <td>357.00</td>\n",
       "      <td>357.00</td>\n",
       "      <td>357.5</td>\n",
       "      <td>▽5.5</td>\n",
       "      <td>346</td>\n",
       "      <td>362.50</td>\n",
       "      <td>366.50</td>\n",
       "      <td>367.00</td>\n",
       "      <td>354.00</td>\n",
       "    </tr>\n",
       "    <tr>\n",
       "      <th>3</th>\n",
       "      <td>NaN</td>\n",
       "      <td>2308 台達電</td>\n",
       "      <td>14:30</td>\n",
       "      <td>134.00</td>\n",
       "      <td>133.50</td>\n",
       "      <td>134.0</td>\n",
       "      <td>△1.5</td>\n",
       "      <td>5401</td>\n",
       "      <td>132.50</td>\n",
       "      <td>132.00</td>\n",
       "      <td>134.00</td>\n",
       "      <td>131.00</td>\n",
       "    </tr>\n",
       "    <tr>\n",
       "      <th>4</th>\n",
       "      <td>NaN</td>\n",
       "      <td>2313 華通</td>\n",
       "      <td>14:30</td>\n",
       "      <td>40.85</td>\n",
       "      <td>40.85</td>\n",
       "      <td>40.90</td>\n",
       "      <td>▽0.45</td>\n",
       "      <td>20803</td>\n",
       "      <td>41.30</td>\n",
       "      <td>41.50</td>\n",
       "      <td>41.50</td>\n",
       "      <td>40.55</td>\n",
       "    </tr>\n",
       "    <tr>\n",
       "      <th>5</th>\n",
       "      <td>NaN</td>\n",
       "      <td>2316 楠梓電</td>\n",
       "      <td>14:30</td>\n",
       "      <td>47.00</td>\n",
       "      <td>46.95</td>\n",
       "      <td>47.00</td>\n",
       "      <td>△0.05</td>\n",
       "      <td>2541</td>\n",
       "      <td>46.95</td>\n",
       "      <td>46.55</td>\n",
       "      <td>47.45</td>\n",
       "      <td>46.35</td>\n",
       "    </tr>\n",
       "    <tr>\n",
       "      <th>6</th>\n",
       "      <td>NaN</td>\n",
       "      <td>2327 國巨</td>\n",
       "      <td>14:30</td>\n",
       "      <td>310.50</td>\n",
       "      <td>310.50</td>\n",
       "      <td>311.0</td>\n",
       "      <td>△8.5</td>\n",
       "      <td>9392</td>\n",
       "      <td>302.00</td>\n",
       "      <td>302.50</td>\n",
       "      <td>311.00</td>\n",
       "      <td>299.00</td>\n",
       "    </tr>\n",
       "    <tr>\n",
       "      <th>7</th>\n",
       "      <td>NaN</td>\n",
       "      <td>2328 廣宇</td>\n",
       "      <td>14:30</td>\n",
       "      <td>23.40</td>\n",
       "      <td>23.40</td>\n",
       "      <td>23.45</td>\n",
       "      <td>△0.30</td>\n",
       "      <td>1816</td>\n",
       "      <td>23.10</td>\n",
       "      <td>23.10</td>\n",
       "      <td>23.45</td>\n",
       "      <td>23.00</td>\n",
       "    </tr>\n",
       "    <tr>\n",
       "      <th>8</th>\n",
       "      <td>NaN</td>\n",
       "      <td>2355 敬鵬</td>\n",
       "      <td>13:30</td>\n",
       "      <td>30.85</td>\n",
       "      <td>30.80</td>\n",
       "      <td>30.85</td>\n",
       "      <td>△0.15</td>\n",
       "      <td>960</td>\n",
       "      <td>30.70</td>\n",
       "      <td>30.90</td>\n",
       "      <td>30.90</td>\n",
       "      <td>30.60</td>\n",
       "    </tr>\n",
       "    <tr>\n",
       "      <th>9</th>\n",
       "      <td>NaN</td>\n",
       "      <td>2367 燿華</td>\n",
       "      <td>14:30</td>\n",
       "      <td>34.85</td>\n",
       "      <td>34.85</td>\n",
       "      <td>34.90</td>\n",
       "      <td>▽0.45</td>\n",
       "      <td>33325</td>\n",
       "      <td>35.30</td>\n",
       "      <td>35.05</td>\n",
       "      <td>35.60</td>\n",
       "      <td>34.75</td>\n",
       "    </tr>\n",
       "    <tr>\n",
       "      <th>10</th>\n",
       "      <td>NaN</td>\n",
       "      <td>2368 金像電</td>\n",
       "      <td>14:30</td>\n",
       "      <td>14.55</td>\n",
       "      <td>14.55</td>\n",
       "      <td>14.60</td>\n",
       "      <td>△0.15</td>\n",
       "      <td>5576</td>\n",
       "      <td>14.40</td>\n",
       "      <td>14.40</td>\n",
       "      <td>14.65</td>\n",
       "      <td>14.35</td>\n",
       "    </tr>\n",
       "    <tr>\n",
       "      <th>11</th>\n",
       "      <td>NaN</td>\n",
       "      <td>2375 智寶</td>\n",
       "      <td>14:30</td>\n",
       "      <td>41.10</td>\n",
       "      <td>41.10</td>\n",
       "      <td>41.15</td>\n",
       "      <td>△0.25</td>\n",
       "      <td>1362</td>\n",
       "      <td>40.85</td>\n",
       "      <td>41.00</td>\n",
       "      <td>41.30</td>\n",
       "      <td>40.65</td>\n",
       "    </tr>\n",
       "    <tr>\n",
       "      <th>12</th>\n",
       "      <td>NaN</td>\n",
       "      <td>2383 台光電</td>\n",
       "      <td>14:30</td>\n",
       "      <td>124.50</td>\n",
       "      <td>124.00</td>\n",
       "      <td>124.5</td>\n",
       "      <td>△2.0</td>\n",
       "      <td>6224</td>\n",
       "      <td>122.50</td>\n",
       "      <td>123.00</td>\n",
       "      <td>126.00</td>\n",
       "      <td>122.50</td>\n",
       "    </tr>\n",
       "    <tr>\n",
       "      <th>13</th>\n",
       "      <td>NaN</td>\n",
       "      <td>2385 群光</td>\n",
       "      <td>14:30</td>\n",
       "      <td>93.60</td>\n",
       "      <td>93.60</td>\n",
       "      <td>93.7</td>\n",
       "      <td>△0.6</td>\n",
       "      <td>1321</td>\n",
       "      <td>93.00</td>\n",
       "      <td>93.00</td>\n",
       "      <td>93.70</td>\n",
       "      <td>92.10</td>\n",
       "    </tr>\n",
       "    <tr>\n",
       "      <th>14</th>\n",
       "      <td>NaN</td>\n",
       "      <td>2392 正崴</td>\n",
       "      <td>14:30</td>\n",
       "      <td>43.35</td>\n",
       "      <td>43.30</td>\n",
       "      <td>43.35</td>\n",
       "      <td>△0.30</td>\n",
       "      <td>5988</td>\n",
       "      <td>43.05</td>\n",
       "      <td>43.00</td>\n",
       "      <td>43.70</td>\n",
       "      <td>42.60</td>\n",
       "    </tr>\n",
       "    <tr>\n",
       "      <th>15</th>\n",
       "      <td>NaN</td>\n",
       "      <td>2402 毅嘉</td>\n",
       "      <td>13:30</td>\n",
       "      <td>17.40</td>\n",
       "      <td>17.35</td>\n",
       "      <td>17.40</td>\n",
       "      <td>△0.05</td>\n",
       "      <td>734</td>\n",
       "      <td>17.35</td>\n",
       "      <td>17.35</td>\n",
       "      <td>17.50</td>\n",
       "      <td>17.30</td>\n",
       "    </tr>\n",
       "    <tr>\n",
       "      <th>16</th>\n",
       "      <td>NaN</td>\n",
       "      <td>2413 環科</td>\n",
       "      <td>14:30</td>\n",
       "      <td>17.25</td>\n",
       "      <td>17.15</td>\n",
       "      <td>17.25</td>\n",
       "      <td>△0.05</td>\n",
       "      <td>112</td>\n",
       "      <td>17.20</td>\n",
       "      <td>17.20</td>\n",
       "      <td>17.30</td>\n",
       "      <td>17.05</td>\n",
       "    </tr>\n",
       "    <tr>\n",
       "      <th>17</th>\n",
       "      <td>NaN</td>\n",
       "      <td>2415 錩新</td>\n",
       "      <td>13:30</td>\n",
       "      <td>20.15</td>\n",
       "      <td>19.90</td>\n",
       "      <td>20.15</td>\n",
       "      <td>△0.25</td>\n",
       "      <td>63</td>\n",
       "      <td>19.90</td>\n",
       "      <td>19.90</td>\n",
       "      <td>20.15</td>\n",
       "      <td>19.85</td>\n",
       "    </tr>\n",
       "    <tr>\n",
       "      <th>18</th>\n",
       "      <td>NaN</td>\n",
       "      <td>2420 新巨</td>\n",
       "      <td>13:30</td>\n",
       "      <td>34.55</td>\n",
       "      <td>34.55</td>\n",
       "      <td>34.60</td>\n",
       "      <td>▽0.15</td>\n",
       "      <td>83</td>\n",
       "      <td>34.70</td>\n",
       "      <td>34.70</td>\n",
       "      <td>34.70</td>\n",
       "      <td>34.45</td>\n",
       "    </tr>\n",
       "    <tr>\n",
       "      <th>19</th>\n",
       "      <td>NaN</td>\n",
       "      <td>2421 建準</td>\n",
       "      <td>14:30</td>\n",
       "      <td>37.95</td>\n",
       "      <td>37.90</td>\n",
       "      <td>37.95</td>\n",
       "      <td>△0.50</td>\n",
       "      <td>2016</td>\n",
       "      <td>37.45</td>\n",
       "      <td>37.65</td>\n",
       "      <td>38.10</td>\n",
       "      <td>37.55</td>\n",
       "    </tr>\n",
       "    <tr>\n",
       "      <th>20</th>\n",
       "      <td>NaN</td>\n",
       "      <td>2428 興勤</td>\n",
       "      <td>13:30</td>\n",
       "      <td>82.00</td>\n",
       "      <td>82.00</td>\n",
       "      <td>82.2</td>\n",
       "      <td>△0.4</td>\n",
       "      <td>51</td>\n",
       "      <td>81.60</td>\n",
       "      <td>81.60</td>\n",
       "      <td>82.20</td>\n",
       "      <td>81.60</td>\n",
       "    </tr>\n",
       "    <tr>\n",
       "      <th>21</th>\n",
       "      <td>NaN</td>\n",
       "      <td>2429 銘旺科</td>\n",
       "      <td>13:23</td>\n",
       "      <td>28.60</td>\n",
       "      <td>28.60</td>\n",
       "      <td>-</td>\n",
       "      <td>▲2.60</td>\n",
       "      <td>307</td>\n",
       "      <td>26.00</td>\n",
       "      <td>26.90</td>\n",
       "      <td>28.60</td>\n",
       "      <td>26.20</td>\n",
       "    </tr>\n",
       "    <tr>\n",
       "      <th>22</th>\n",
       "      <td>NaN</td>\n",
       "      <td>2431 聯昌</td>\n",
       "      <td>13:30</td>\n",
       "      <td>11.75</td>\n",
       "      <td>11.75</td>\n",
       "      <td>11.80</td>\n",
       "      <td>0.00</td>\n",
       "      <td>370</td>\n",
       "      <td>11.75</td>\n",
       "      <td>11.80</td>\n",
       "      <td>11.90</td>\n",
       "      <td>11.75</td>\n",
       "    </tr>\n",
       "    <tr>\n",
       "      <th>23</th>\n",
       "      <td>NaN</td>\n",
       "      <td>2440 太空梭</td>\n",
       "      <td>13:05</td>\n",
       "      <td>7.91</td>\n",
       "      <td>7.90</td>\n",
       "      <td>7.96</td>\n",
       "      <td>▽0.09</td>\n",
       "      <td>14</td>\n",
       "      <td>8.00</td>\n",
       "      <td>7.90</td>\n",
       "      <td>7.99</td>\n",
       "      <td>7.90</td>\n",
       "    </tr>\n",
       "    <tr>\n",
       "      <th>24</th>\n",
       "      <td>NaN</td>\n",
       "      <td>2456 奇力新</td>\n",
       "      <td>14:30</td>\n",
       "      <td>88.00</td>\n",
       "      <td>87.90</td>\n",
       "      <td>88.0</td>\n",
       "      <td>▽0.4</td>\n",
       "      <td>9107</td>\n",
       "      <td>88.40</td>\n",
       "      <td>89.40</td>\n",
       "      <td>89.50</td>\n",
       "      <td>87.00</td>\n",
       "    </tr>\n",
       "    <tr>\n",
       "      <th>25</th>\n",
       "      <td>NaN</td>\n",
       "      <td>2457 飛宏</td>\n",
       "      <td>13:30</td>\n",
       "      <td>8.84</td>\n",
       "      <td>8.84</td>\n",
       "      <td>8.85</td>\n",
       "      <td>△0.02</td>\n",
       "      <td>506</td>\n",
       "      <td>8.82</td>\n",
       "      <td>8.82</td>\n",
       "      <td>8.89</td>\n",
       "      <td>8.77</td>\n",
       "    </tr>\n",
       "    <tr>\n",
       "      <th>26</th>\n",
       "      <td>NaN</td>\n",
       "      <td>2460 建通</td>\n",
       "      <td>13:12</td>\n",
       "      <td>9.29</td>\n",
       "      <td>9.23</td>\n",
       "      <td>9.29</td>\n",
       "      <td>▽0.06</td>\n",
       "      <td>65</td>\n",
       "      <td>9.35</td>\n",
       "      <td>9.35</td>\n",
       "      <td>9.35</td>\n",
       "      <td>9.21</td>\n",
       "    </tr>\n",
       "    <tr>\n",
       "      <th>27</th>\n",
       "      <td>NaN</td>\n",
       "      <td>2462 良得</td>\n",
       "      <td>13:30</td>\n",
       "      <td>29.45</td>\n",
       "      <td>29.40</td>\n",
       "      <td>29.45</td>\n",
       "      <td>▽0.05</td>\n",
       "      <td>31</td>\n",
       "      <td>29.50</td>\n",
       "      <td>29.50</td>\n",
       "      <td>29.50</td>\n",
       "      <td>29.30</td>\n",
       "    </tr>\n",
       "    <tr>\n",
       "      <th>28</th>\n",
       "      <td>NaN</td>\n",
       "      <td>2467 志聖</td>\n",
       "      <td>14:30</td>\n",
       "      <td>25.70</td>\n",
       "      <td>25.65</td>\n",
       "      <td>25.70</td>\n",
       "      <td>△0.55</td>\n",
       "      <td>171</td>\n",
       "      <td>25.15</td>\n",
       "      <td>25.15</td>\n",
       "      <td>25.75</td>\n",
       "      <td>25.15</td>\n",
       "    </tr>\n",
       "    <tr>\n",
       "      <th>29</th>\n",
       "      <td>NaN</td>\n",
       "      <td>2472 立隆</td>\n",
       "      <td>14:30</td>\n",
       "      <td>41.25</td>\n",
       "      <td>41.25</td>\n",
       "      <td>41.50</td>\n",
       "      <td>▽0.15</td>\n",
       "      <td>414</td>\n",
       "      <td>41.40</td>\n",
       "      <td>41.45</td>\n",
       "      <td>41.80</td>\n",
       "      <td>40.95</td>\n",
       "    </tr>\n",
       "    <tr>\n",
       "      <th>...</th>\n",
       "      <td>...</td>\n",
       "      <td>...</td>\n",
       "      <td>...</td>\n",
       "      <td>...</td>\n",
       "      <td>...</td>\n",
       "      <td>...</td>\n",
       "      <td>...</td>\n",
       "      <td>...</td>\n",
       "      <td>...</td>\n",
       "      <td>...</td>\n",
       "      <td>...</td>\n",
       "      <td>...</td>\n",
       "    </tr>\n",
       "    <tr>\n",
       "      <th>66</th>\n",
       "      <td>NaN</td>\n",
       "      <td>4915 致伸</td>\n",
       "      <td>14:30</td>\n",
       "      <td>63.30</td>\n",
       "      <td>63.30</td>\n",
       "      <td>63.4</td>\n",
       "      <td>0.00</td>\n",
       "      <td>7133</td>\n",
       "      <td>63.30</td>\n",
       "      <td>63.70</td>\n",
       "      <td>63.80</td>\n",
       "      <td>62.60</td>\n",
       "    </tr>\n",
       "    <tr>\n",
       "      <th>67</th>\n",
       "      <td>NaN</td>\n",
       "      <td>4927 泰鼎-KY</td>\n",
       "      <td>14:30</td>\n",
       "      <td>41.50</td>\n",
       "      <td>41.45</td>\n",
       "      <td>41.50</td>\n",
       "      <td>▽0.30</td>\n",
       "      <td>2278</td>\n",
       "      <td>41.80</td>\n",
       "      <td>41.55</td>\n",
       "      <td>41.75</td>\n",
       "      <td>41.10</td>\n",
       "    </tr>\n",
       "    <tr>\n",
       "      <th>68</th>\n",
       "      <td>NaN</td>\n",
       "      <td>4943 康控-KY</td>\n",
       "      <td>14:30</td>\n",
       "      <td>178.00</td>\n",
       "      <td>178.00</td>\n",
       "      <td>178.5</td>\n",
       "      <td>△4.0</td>\n",
       "      <td>3521</td>\n",
       "      <td>174.00</td>\n",
       "      <td>175.00</td>\n",
       "      <td>179.00</td>\n",
       "      <td>173.00</td>\n",
       "    </tr>\n",
       "    <tr>\n",
       "      <th>69</th>\n",
       "      <td>NaN</td>\n",
       "      <td>4958 臻鼎-KY</td>\n",
       "      <td>14:30</td>\n",
       "      <td>131.00</td>\n",
       "      <td>130.50</td>\n",
       "      <td>131.0</td>\n",
       "      <td>△4.0</td>\n",
       "      <td>7315</td>\n",
       "      <td>127.00</td>\n",
       "      <td>128.50</td>\n",
       "      <td>131.00</td>\n",
       "      <td>126.50</td>\n",
       "    </tr>\n",
       "    <tr>\n",
       "      <th>70</th>\n",
       "      <td>NaN</td>\n",
       "      <td>4989 榮科</td>\n",
       "      <td>13:30</td>\n",
       "      <td>25.55</td>\n",
       "      <td>25.55</td>\n",
       "      <td>25.70</td>\n",
       "      <td>▽0.35</td>\n",
       "      <td>173</td>\n",
       "      <td>25.90</td>\n",
       "      <td>25.95</td>\n",
       "      <td>25.95</td>\n",
       "      <td>25.55</td>\n",
       "    </tr>\n",
       "    <tr>\n",
       "      <th>71</th>\n",
       "      <td>NaN</td>\n",
       "      <td>4999 鑫禾</td>\n",
       "      <td>13:30</td>\n",
       "      <td>42.25</td>\n",
       "      <td>42.25</td>\n",
       "      <td>42.40</td>\n",
       "      <td>▽0.35</td>\n",
       "      <td>9</td>\n",
       "      <td>42.60</td>\n",
       "      <td>42.50</td>\n",
       "      <td>42.50</td>\n",
       "      <td>42.25</td>\n",
       "    </tr>\n",
       "    <tr>\n",
       "      <th>72</th>\n",
       "      <td>NaN</td>\n",
       "      <td>5469 瀚宇博</td>\n",
       "      <td>14:30</td>\n",
       "      <td>43.95</td>\n",
       "      <td>43.90</td>\n",
       "      <td>43.95</td>\n",
       "      <td>△0.90</td>\n",
       "      <td>15844</td>\n",
       "      <td>43.05</td>\n",
       "      <td>42.85</td>\n",
       "      <td>44.35</td>\n",
       "      <td>42.85</td>\n",
       "    </tr>\n",
       "    <tr>\n",
       "      <th>73</th>\n",
       "      <td>NaN</td>\n",
       "      <td>6108 競國</td>\n",
       "      <td>14:30</td>\n",
       "      <td>26.85</td>\n",
       "      <td>26.85</td>\n",
       "      <td>26.90</td>\n",
       "      <td>△0.05</td>\n",
       "      <td>153</td>\n",
       "      <td>26.80</td>\n",
       "      <td>27.05</td>\n",
       "      <td>27.05</td>\n",
       "      <td>26.80</td>\n",
       "    </tr>\n",
       "    <tr>\n",
       "      <th>74</th>\n",
       "      <td>NaN</td>\n",
       "      <td>6115 鎰勝</td>\n",
       "      <td>14:30</td>\n",
       "      <td>41.90</td>\n",
       "      <td>41.85</td>\n",
       "      <td>41.90</td>\n",
       "      <td>△0.30</td>\n",
       "      <td>59</td>\n",
       "      <td>41.60</td>\n",
       "      <td>41.60</td>\n",
       "      <td>41.90</td>\n",
       "      <td>41.60</td>\n",
       "    </tr>\n",
       "    <tr>\n",
       "      <th>75</th>\n",
       "      <td>NaN</td>\n",
       "      <td>6133 金橋</td>\n",
       "      <td>13:30</td>\n",
       "      <td>8.26</td>\n",
       "      <td>8.24</td>\n",
       "      <td>8.27</td>\n",
       "      <td>▽0.01</td>\n",
       "      <td>12</td>\n",
       "      <td>8.27</td>\n",
       "      <td>8.27</td>\n",
       "      <td>8.27</td>\n",
       "      <td>8.26</td>\n",
       "    </tr>\n",
       "    <tr>\n",
       "      <th>76</th>\n",
       "      <td>NaN</td>\n",
       "      <td>6141 柏承</td>\n",
       "      <td>14:30</td>\n",
       "      <td>21.90</td>\n",
       "      <td>21.85</td>\n",
       "      <td>21.90</td>\n",
       "      <td>▽0.15</td>\n",
       "      <td>721</td>\n",
       "      <td>22.05</td>\n",
       "      <td>22.00</td>\n",
       "      <td>22.10</td>\n",
       "      <td>21.80</td>\n",
       "    </tr>\n",
       "    <tr>\n",
       "      <th>77</th>\n",
       "      <td>NaN</td>\n",
       "      <td>6153 嘉聯益</td>\n",
       "      <td>14:30</td>\n",
       "      <td>37.45</td>\n",
       "      <td>37.45</td>\n",
       "      <td>37.50</td>\n",
       "      <td>△1.20</td>\n",
       "      <td>27864</td>\n",
       "      <td>36.25</td>\n",
       "      <td>36.10</td>\n",
       "      <td>37.80</td>\n",
       "      <td>36.00</td>\n",
       "    </tr>\n",
       "    <tr>\n",
       "      <th>78</th>\n",
       "      <td>NaN</td>\n",
       "      <td>6155 鈞寶</td>\n",
       "      <td>14:30</td>\n",
       "      <td>29.25</td>\n",
       "      <td>29.25</td>\n",
       "      <td>-</td>\n",
       "      <td>▲2.65</td>\n",
       "      <td>6247</td>\n",
       "      <td>26.60</td>\n",
       "      <td>27.00</td>\n",
       "      <td>29.25</td>\n",
       "      <td>27.00</td>\n",
       "    </tr>\n",
       "    <tr>\n",
       "      <th>79</th>\n",
       "      <td>NaN</td>\n",
       "      <td>6165 捷泰</td>\n",
       "      <td>13:30</td>\n",
       "      <td>11.30</td>\n",
       "      <td>11.25</td>\n",
       "      <td>11.35</td>\n",
       "      <td>△0.10</td>\n",
       "      <td>137</td>\n",
       "      <td>11.20</td>\n",
       "      <td>11.20</td>\n",
       "      <td>11.50</td>\n",
       "      <td>11.10</td>\n",
       "    </tr>\n",
       "    <tr>\n",
       "      <th>80</th>\n",
       "      <td>NaN</td>\n",
       "      <td>6191 精成科</td>\n",
       "      <td>14:30</td>\n",
       "      <td>17.60</td>\n",
       "      <td>17.60</td>\n",
       "      <td>17.65</td>\n",
       "      <td>△0.15</td>\n",
       "      <td>2127</td>\n",
       "      <td>17.45</td>\n",
       "      <td>17.75</td>\n",
       "      <td>17.80</td>\n",
       "      <td>17.55</td>\n",
       "    </tr>\n",
       "    <tr>\n",
       "      <th>81</th>\n",
       "      <td>NaN</td>\n",
       "      <td>6197 佳必琪</td>\n",
       "      <td>14:30</td>\n",
       "      <td>30.40</td>\n",
       "      <td>30.30</td>\n",
       "      <td>30.40</td>\n",
       "      <td>△0.60</td>\n",
       "      <td>555</td>\n",
       "      <td>29.80</td>\n",
       "      <td>29.85</td>\n",
       "      <td>30.50</td>\n",
       "      <td>29.85</td>\n",
       "    </tr>\n",
       "    <tr>\n",
       "      <th>82</th>\n",
       "      <td>NaN</td>\n",
       "      <td>6205 詮欣</td>\n",
       "      <td>12:44</td>\n",
       "      <td>25.70</td>\n",
       "      <td>25.70</td>\n",
       "      <td>25.80</td>\n",
       "      <td>▽0.10</td>\n",
       "      <td>26</td>\n",
       "      <td>25.80</td>\n",
       "      <td>25.90</td>\n",
       "      <td>25.90</td>\n",
       "      <td>25.70</td>\n",
       "    </tr>\n",
       "    <tr>\n",
       "      <th>83</th>\n",
       "      <td>NaN</td>\n",
       "      <td>6213 聯茂</td>\n",
       "      <td>14:30</td>\n",
       "      <td>154.50</td>\n",
       "      <td>154.00</td>\n",
       "      <td>154.5</td>\n",
       "      <td>△7.0</td>\n",
       "      <td>10296</td>\n",
       "      <td>147.50</td>\n",
       "      <td>151.00</td>\n",
       "      <td>155.00</td>\n",
       "      <td>148.50</td>\n",
       "    </tr>\n",
       "    <tr>\n",
       "      <th>84</th>\n",
       "      <td>NaN</td>\n",
       "      <td>6224 聚鼎</td>\n",
       "      <td>13:30</td>\n",
       "      <td>66.00</td>\n",
       "      <td>65.60</td>\n",
       "      <td>66.1</td>\n",
       "      <td>▽0.6</td>\n",
       "      <td>323</td>\n",
       "      <td>66.60</td>\n",
       "      <td>66.50</td>\n",
       "      <td>66.50</td>\n",
       "      <td>65.10</td>\n",
       "    </tr>\n",
       "    <tr>\n",
       "      <th>85</th>\n",
       "      <td>NaN</td>\n",
       "      <td>6251 定穎</td>\n",
       "      <td>14:30</td>\n",
       "      <td>15.10</td>\n",
       "      <td>15.05</td>\n",
       "      <td>15.10</td>\n",
       "      <td>△0.50</td>\n",
       "      <td>11173</td>\n",
       "      <td>14.60</td>\n",
       "      <td>14.90</td>\n",
       "      <td>15.30</td>\n",
       "      <td>14.70</td>\n",
       "    </tr>\n",
       "    <tr>\n",
       "      <th>86</th>\n",
       "      <td>NaN</td>\n",
       "      <td>6269 台郡</td>\n",
       "      <td>14:30</td>\n",
       "      <td>94.80</td>\n",
       "      <td>94.80</td>\n",
       "      <td>94.9</td>\n",
       "      <td>△0.3</td>\n",
       "      <td>2273</td>\n",
       "      <td>94.50</td>\n",
       "      <td>95.40</td>\n",
       "      <td>95.40</td>\n",
       "      <td>94.10</td>\n",
       "    </tr>\n",
       "    <tr>\n",
       "      <th>87</th>\n",
       "      <td>NaN</td>\n",
       "      <td>6282 康舒</td>\n",
       "      <td>14:30</td>\n",
       "      <td>21.90</td>\n",
       "      <td>21.90</td>\n",
       "      <td>21.95</td>\n",
       "      <td>△0.15</td>\n",
       "      <td>1013</td>\n",
       "      <td>21.75</td>\n",
       "      <td>21.75</td>\n",
       "      <td>22.15</td>\n",
       "      <td>21.75</td>\n",
       "    </tr>\n",
       "    <tr>\n",
       "      <th>88</th>\n",
       "      <td>NaN</td>\n",
       "      <td>6412 群電</td>\n",
       "      <td>14:30</td>\n",
       "      <td>55.70</td>\n",
       "      <td>55.30</td>\n",
       "      <td>55.7</td>\n",
       "      <td>▽0.2</td>\n",
       "      <td>372</td>\n",
       "      <td>55.90</td>\n",
       "      <td>55.80</td>\n",
       "      <td>55.80</td>\n",
       "      <td>55.00</td>\n",
       "    </tr>\n",
       "    <tr>\n",
       "      <th>89</th>\n",
       "      <td>NaN</td>\n",
       "      <td>6449 鈺邦</td>\n",
       "      <td>14:30</td>\n",
       "      <td>37.80</td>\n",
       "      <td>37.80</td>\n",
       "      <td>38.00</td>\n",
       "      <td>△0.25</td>\n",
       "      <td>390</td>\n",
       "      <td>37.55</td>\n",
       "      <td>37.35</td>\n",
       "      <td>38.25</td>\n",
       "      <td>37.35</td>\n",
       "    </tr>\n",
       "    <tr>\n",
       "      <th>90</th>\n",
       "      <td>NaN</td>\n",
       "      <td>6672 騰輝電子-KY</td>\n",
       "      <td>14:30</td>\n",
       "      <td>98.00</td>\n",
       "      <td>98.00</td>\n",
       "      <td>98.1</td>\n",
       "      <td>△0.7</td>\n",
       "      <td>542</td>\n",
       "      <td>97.30</td>\n",
       "      <td>97.30</td>\n",
       "      <td>98.00</td>\n",
       "      <td>96.10</td>\n",
       "    </tr>\n",
       "    <tr>\n",
       "      <th>91</th>\n",
       "      <td>NaN</td>\n",
       "      <td>8039 台虹</td>\n",
       "      <td>13:30</td>\n",
       "      <td>41.55</td>\n",
       "      <td>41.55</td>\n",
       "      <td>41.75</td>\n",
       "      <td>△0.10</td>\n",
       "      <td>853</td>\n",
       "      <td>41.45</td>\n",
       "      <td>41.65</td>\n",
       "      <td>41.80</td>\n",
       "      <td>41.35</td>\n",
       "    </tr>\n",
       "    <tr>\n",
       "      <th>92</th>\n",
       "      <td>NaN</td>\n",
       "      <td>8046 南電</td>\n",
       "      <td>14:30</td>\n",
       "      <td>51.20</td>\n",
       "      <td>51.20</td>\n",
       "      <td>51.3</td>\n",
       "      <td>△0.3</td>\n",
       "      <td>6000</td>\n",
       "      <td>50.90</td>\n",
       "      <td>51.00</td>\n",
       "      <td>52.20</td>\n",
       "      <td>50.60</td>\n",
       "    </tr>\n",
       "    <tr>\n",
       "      <th>93</th>\n",
       "      <td>NaN</td>\n",
       "      <td>8103 瀚荃</td>\n",
       "      <td>13:30</td>\n",
       "      <td>26.20</td>\n",
       "      <td>26.10</td>\n",
       "      <td>26.20</td>\n",
       "      <td>0.00</td>\n",
       "      <td>115</td>\n",
       "      <td>26.20</td>\n",
       "      <td>26.20</td>\n",
       "      <td>26.30</td>\n",
       "      <td>26.00</td>\n",
       "    </tr>\n",
       "    <tr>\n",
       "      <th>94</th>\n",
       "      <td>NaN</td>\n",
       "      <td>8213 志超</td>\n",
       "      <td>13:30</td>\n",
       "      <td>35.95</td>\n",
       "      <td>35.90</td>\n",
       "      <td>35.95</td>\n",
       "      <td>△0.05</td>\n",
       "      <td>315</td>\n",
       "      <td>35.90</td>\n",
       "      <td>35.75</td>\n",
       "      <td>36.00</td>\n",
       "      <td>35.75</td>\n",
       "    </tr>\n",
       "    <tr>\n",
       "      <th>95</th>\n",
       "      <td>NaN</td>\n",
       "      <td>8249 菱光</td>\n",
       "      <td>13:20</td>\n",
       "      <td>21.15</td>\n",
       "      <td>21.10</td>\n",
       "      <td>21.20</td>\n",
       "      <td>0.00</td>\n",
       "      <td>21</td>\n",
       "      <td>21.15</td>\n",
       "      <td>21.05</td>\n",
       "      <td>21.15</td>\n",
       "      <td>21.05</td>\n",
       "    </tr>\n",
       "  </tbody>\n",
       "</table>\n",
       "<p>96 rows × 12 columns</p>\n",
       "</div>"
      ],
      "text/plain": [
       "    選擇          股票代號     時間      成交      買進     賣出     漲跌     張數      昨收  \\\n",
       "0  NaN       1471 首利  13:14    3.68    3.68      -  ▲0.33    640    3.35   \n",
       "1  NaN       1582 信錦  13:30   77.10   76.90   77.1   ▽0.1    163   77.20   \n",
       "2  NaN       2059 川湖  13:30  357.00  357.00  357.5   ▽5.5    346  362.50   \n",
       "3  NaN      2308 台達電  14:30  134.00  133.50  134.0   △1.5   5401  132.50   \n",
       "4  NaN       2313 華通  14:30   40.85   40.85  40.90  ▽0.45  20803   41.30   \n",
       "5  NaN      2316 楠梓電  14:30   47.00   46.95  47.00  △0.05   2541   46.95   \n",
       "6  NaN       2327 國巨  14:30  310.50  310.50  311.0   △8.5   9392  302.00   \n",
       "7  NaN       2328 廣宇  14:30   23.40   23.40  23.45  △0.30   1816   23.10   \n",
       "8  NaN       2355 敬鵬  13:30   30.85   30.80  30.85  △0.15    960   30.70   \n",
       "9  NaN       2367 燿華  14:30   34.85   34.85  34.90  ▽0.45  33325   35.30   \n",
       "10 NaN      2368 金像電  14:30   14.55   14.55  14.60  △0.15   5576   14.40   \n",
       "11 NaN       2375 智寶  14:30   41.10   41.10  41.15  △0.25   1362   40.85   \n",
       "12 NaN      2383 台光電  14:30  124.50  124.00  124.5   △2.0   6224  122.50   \n",
       "13 NaN       2385 群光  14:30   93.60   93.60   93.7   △0.6   1321   93.00   \n",
       "14 NaN       2392 正崴  14:30   43.35   43.30  43.35  △0.30   5988   43.05   \n",
       "15 NaN       2402 毅嘉  13:30   17.40   17.35  17.40  △0.05    734   17.35   \n",
       "16 NaN       2413 環科  14:30   17.25   17.15  17.25  △0.05    112   17.20   \n",
       "17 NaN       2415 錩新  13:30   20.15   19.90  20.15  △0.25     63   19.90   \n",
       "18 NaN       2420 新巨  13:30   34.55   34.55  34.60  ▽0.15     83   34.70   \n",
       "19 NaN       2421 建準  14:30   37.95   37.90  37.95  △0.50   2016   37.45   \n",
       "20 NaN       2428 興勤  13:30   82.00   82.00   82.2   △0.4     51   81.60   \n",
       "21 NaN      2429 銘旺科  13:23   28.60   28.60      -  ▲2.60    307   26.00   \n",
       "22 NaN       2431 聯昌  13:30   11.75   11.75  11.80   0.00    370   11.75   \n",
       "23 NaN      2440 太空梭  13:05    7.91    7.90   7.96  ▽0.09     14    8.00   \n",
       "24 NaN      2456 奇力新  14:30   88.00   87.90   88.0   ▽0.4   9107   88.40   \n",
       "25 NaN       2457 飛宏  13:30    8.84    8.84   8.85  △0.02    506    8.82   \n",
       "26 NaN       2460 建通  13:12    9.29    9.23   9.29  ▽0.06     65    9.35   \n",
       "27 NaN       2462 良得  13:30   29.45   29.40  29.45  ▽0.05     31   29.50   \n",
       "28 NaN       2467 志聖  14:30   25.70   25.65  25.70  △0.55    171   25.15   \n",
       "29 NaN       2472 立隆  14:30   41.25   41.25  41.50  ▽0.15    414   41.40   \n",
       "..  ..           ...    ...     ...     ...    ...    ...    ...     ...   \n",
       "66 NaN       4915 致伸  14:30   63.30   63.30   63.4   0.00   7133   63.30   \n",
       "67 NaN    4927 泰鼎-KY  14:30   41.50   41.45  41.50  ▽0.30   2278   41.80   \n",
       "68 NaN    4943 康控-KY  14:30  178.00  178.00  178.5   △4.0   3521  174.00   \n",
       "69 NaN    4958 臻鼎-KY  14:30  131.00  130.50  131.0   △4.0   7315  127.00   \n",
       "70 NaN       4989 榮科  13:30   25.55   25.55  25.70  ▽0.35    173   25.90   \n",
       "71 NaN       4999 鑫禾  13:30   42.25   42.25  42.40  ▽0.35      9   42.60   \n",
       "72 NaN      5469 瀚宇博  14:30   43.95   43.90  43.95  △0.90  15844   43.05   \n",
       "73 NaN       6108 競國  14:30   26.85   26.85  26.90  △0.05    153   26.80   \n",
       "74 NaN       6115 鎰勝  14:30   41.90   41.85  41.90  △0.30     59   41.60   \n",
       "75 NaN       6133 金橋  13:30    8.26    8.24   8.27  ▽0.01     12    8.27   \n",
       "76 NaN       6141 柏承  14:30   21.90   21.85  21.90  ▽0.15    721   22.05   \n",
       "77 NaN      6153 嘉聯益  14:30   37.45   37.45  37.50  △1.20  27864   36.25   \n",
       "78 NaN       6155 鈞寶  14:30   29.25   29.25      -  ▲2.65   6247   26.60   \n",
       "79 NaN       6165 捷泰  13:30   11.30   11.25  11.35  △0.10    137   11.20   \n",
       "80 NaN      6191 精成科  14:30   17.60   17.60  17.65  △0.15   2127   17.45   \n",
       "81 NaN      6197 佳必琪  14:30   30.40   30.30  30.40  △0.60    555   29.80   \n",
       "82 NaN       6205 詮欣  12:44   25.70   25.70  25.80  ▽0.10     26   25.80   \n",
       "83 NaN       6213 聯茂  14:30  154.50  154.00  154.5   △7.0  10296  147.50   \n",
       "84 NaN       6224 聚鼎  13:30   66.00   65.60   66.1   ▽0.6    323   66.60   \n",
       "85 NaN       6251 定穎  14:30   15.10   15.05  15.10  △0.50  11173   14.60   \n",
       "86 NaN       6269 台郡  14:30   94.80   94.80   94.9   △0.3   2273   94.50   \n",
       "87 NaN       6282 康舒  14:30   21.90   21.90  21.95  △0.15   1013   21.75   \n",
       "88 NaN       6412 群電  14:30   55.70   55.30   55.7   ▽0.2    372   55.90   \n",
       "89 NaN       6449 鈺邦  14:30   37.80   37.80  38.00  △0.25    390   37.55   \n",
       "90 NaN  6672 騰輝電子-KY  14:30   98.00   98.00   98.1   △0.7    542   97.30   \n",
       "91 NaN       8039 台虹  13:30   41.55   41.55  41.75  △0.10    853   41.45   \n",
       "92 NaN       8046 南電  14:30   51.20   51.20   51.3   △0.3   6000   50.90   \n",
       "93 NaN       8103 瀚荃  13:30   26.20   26.10  26.20   0.00    115   26.20   \n",
       "94 NaN       8213 志超  13:30   35.95   35.90  35.95  △0.05    315   35.90   \n",
       "95 NaN       8249 菱光  13:20   21.15   21.10  21.20   0.00     21   21.15   \n",
       "\n",
       "        開盤      最高      最低  \n",
       "0     3.32    3.68    3.32  \n",
       "1    77.30   77.30   76.80  \n",
       "2   366.50  367.00  354.00  \n",
       "3   132.00  134.00  131.00  \n",
       "4    41.50   41.50   40.55  \n",
       "5    46.55   47.45   46.35  \n",
       "6   302.50  311.00  299.00  \n",
       "7    23.10   23.45   23.00  \n",
       "8    30.90   30.90   30.60  \n",
       "9    35.05   35.60   34.75  \n",
       "10   14.40   14.65   14.35  \n",
       "11   41.00   41.30   40.65  \n",
       "12  123.00  126.00  122.50  \n",
       "13   93.00   93.70   92.10  \n",
       "14   43.00   43.70   42.60  \n",
       "15   17.35   17.50   17.30  \n",
       "16   17.20   17.30   17.05  \n",
       "17   19.90   20.15   19.85  \n",
       "18   34.70   34.70   34.45  \n",
       "19   37.65   38.10   37.55  \n",
       "20   81.60   82.20   81.60  \n",
       "21   26.90   28.60   26.20  \n",
       "22   11.80   11.90   11.75  \n",
       "23    7.90    7.99    7.90  \n",
       "24   89.40   89.50   87.00  \n",
       "25    8.82    8.89    8.77  \n",
       "26    9.35    9.35    9.21  \n",
       "27   29.50   29.50   29.30  \n",
       "28   25.15   25.75   25.15  \n",
       "29   41.45   41.80   40.95  \n",
       "..     ...     ...     ...  \n",
       "66   63.70   63.80   62.60  \n",
       "67   41.55   41.75   41.10  \n",
       "68  175.00  179.00  173.00  \n",
       "69  128.50  131.00  126.50  \n",
       "70   25.95   25.95   25.55  \n",
       "71   42.50   42.50   42.25  \n",
       "72   42.85   44.35   42.85  \n",
       "73   27.05   27.05   26.80  \n",
       "74   41.60   41.90   41.60  \n",
       "75    8.27    8.27    8.26  \n",
       "76   22.00   22.10   21.80  \n",
       "77   36.10   37.80   36.00  \n",
       "78   27.00   29.25   27.00  \n",
       "79   11.20   11.50   11.10  \n",
       "80   17.75   17.80   17.55  \n",
       "81   29.85   30.50   29.85  \n",
       "82   25.90   25.90   25.70  \n",
       "83  151.00  155.00  148.50  \n",
       "84   66.50   66.50   65.10  \n",
       "85   14.90   15.30   14.70  \n",
       "86   95.40   95.40   94.10  \n",
       "87   21.75   22.15   21.75  \n",
       "88   55.80   55.80   55.00  \n",
       "89   37.35   38.25   37.35  \n",
       "90   97.30   98.00   96.10  \n",
       "91   41.65   41.80   41.35  \n",
       "92   51.00   52.20   50.60  \n",
       "93   26.20   26.30   26.00  \n",
       "94   35.75   36.00   35.75  \n",
       "95   21.05   21.15   21.05  \n",
       "\n",
       "[96 rows x 12 columns]"
      ]
     },
     "execution_count": 171,
     "metadata": {},
     "output_type": "execute_result"
    }
   ],
   "source": [
    "df2"
   ]
  },
  {
   "cell_type": "markdown",
   "metadata": {},
   "source": [
    "\"選擇\" 那欄不要..."
   ]
  },
  {
   "cell_type": "code",
   "execution_count": 173,
   "metadata": {},
   "outputs": [],
   "source": [
    "df2 = df2.drop(\"選擇\", axis=1)"
   ]
  },
  {
   "cell_type": "code",
   "execution_count": 174,
   "metadata": {},
   "outputs": [
    {
     "data": {
      "text/html": [
       "<div>\n",
       "<style scoped>\n",
       "    .dataframe tbody tr th:only-of-type {\n",
       "        vertical-align: middle;\n",
       "    }\n",
       "\n",
       "    .dataframe tbody tr th {\n",
       "        vertical-align: top;\n",
       "    }\n",
       "\n",
       "    .dataframe thead th {\n",
       "        text-align: right;\n",
       "    }\n",
       "</style>\n",
       "<table border=\"1\" class=\"dataframe\">\n",
       "  <thead>\n",
       "    <tr style=\"text-align: right;\">\n",
       "      <th></th>\n",
       "      <th>股票代號</th>\n",
       "      <th>時間</th>\n",
       "      <th>成交</th>\n",
       "      <th>買進</th>\n",
       "      <th>賣出</th>\n",
       "      <th>漲跌</th>\n",
       "      <th>張數</th>\n",
       "      <th>昨收</th>\n",
       "      <th>開盤</th>\n",
       "      <th>最高</th>\n",
       "      <th>最低</th>\n",
       "    </tr>\n",
       "  </thead>\n",
       "  <tbody>\n",
       "    <tr>\n",
       "      <th>0</th>\n",
       "      <td>1471 首利</td>\n",
       "      <td>13:14</td>\n",
       "      <td>3.68</td>\n",
       "      <td>3.68</td>\n",
       "      <td>-</td>\n",
       "      <td>▲0.33</td>\n",
       "      <td>640</td>\n",
       "      <td>3.35</td>\n",
       "      <td>3.32</td>\n",
       "      <td>3.68</td>\n",
       "      <td>3.32</td>\n",
       "    </tr>\n",
       "    <tr>\n",
       "      <th>1</th>\n",
       "      <td>1582 信錦</td>\n",
       "      <td>13:30</td>\n",
       "      <td>77.10</td>\n",
       "      <td>76.90</td>\n",
       "      <td>77.1</td>\n",
       "      <td>▽0.1</td>\n",
       "      <td>163</td>\n",
       "      <td>77.20</td>\n",
       "      <td>77.30</td>\n",
       "      <td>77.30</td>\n",
       "      <td>76.80</td>\n",
       "    </tr>\n",
       "    <tr>\n",
       "      <th>2</th>\n",
       "      <td>2059 川湖</td>\n",
       "      <td>13:30</td>\n",
       "      <td>357.00</td>\n",
       "      <td>357.00</td>\n",
       "      <td>357.5</td>\n",
       "      <td>▽5.5</td>\n",
       "      <td>346</td>\n",
       "      <td>362.50</td>\n",
       "      <td>366.50</td>\n",
       "      <td>367.00</td>\n",
       "      <td>354.00</td>\n",
       "    </tr>\n",
       "    <tr>\n",
       "      <th>3</th>\n",
       "      <td>2308 台達電</td>\n",
       "      <td>14:30</td>\n",
       "      <td>134.00</td>\n",
       "      <td>133.50</td>\n",
       "      <td>134.0</td>\n",
       "      <td>△1.5</td>\n",
       "      <td>5401</td>\n",
       "      <td>132.50</td>\n",
       "      <td>132.00</td>\n",
       "      <td>134.00</td>\n",
       "      <td>131.00</td>\n",
       "    </tr>\n",
       "    <tr>\n",
       "      <th>4</th>\n",
       "      <td>2313 華通</td>\n",
       "      <td>14:30</td>\n",
       "      <td>40.85</td>\n",
       "      <td>40.85</td>\n",
       "      <td>40.90</td>\n",
       "      <td>▽0.45</td>\n",
       "      <td>20803</td>\n",
       "      <td>41.30</td>\n",
       "      <td>41.50</td>\n",
       "      <td>41.50</td>\n",
       "      <td>40.55</td>\n",
       "    </tr>\n",
       "  </tbody>\n",
       "</table>\n",
       "</div>"
      ],
      "text/plain": [
       "       股票代號     時間      成交      買進     賣出     漲跌     張數      昨收      開盤  \\\n",
       "0   1471 首利  13:14    3.68    3.68      -  ▲0.33    640    3.35    3.32   \n",
       "1   1582 信錦  13:30   77.10   76.90   77.1   ▽0.1    163   77.20   77.30   \n",
       "2   2059 川湖  13:30  357.00  357.00  357.5   ▽5.5    346  362.50  366.50   \n",
       "3  2308 台達電  14:30  134.00  133.50  134.0   △1.5   5401  132.50  132.00   \n",
       "4   2313 華通  14:30   40.85   40.85  40.90  ▽0.45  20803   41.30   41.50   \n",
       "\n",
       "       最高      最低  \n",
       "0    3.68    3.32  \n",
       "1   77.30   76.80  \n",
       "2  367.00  354.00  \n",
       "3  134.00  131.00  \n",
       "4   41.50   40.55  "
      ]
     },
     "execution_count": 174,
     "metadata": {},
     "output_type": "execute_result"
    }
   ],
   "source": [
    "df2.head()"
   ]
  },
  {
   "cell_type": "code",
   "execution_count": null,
   "metadata": {},
   "outputs": [],
   "source": []
  }
 ],
 "metadata": {
  "kernelspec": {
   "display_name": "Python 3",
   "language": "python",
   "name": "python3"
  },
  "language_info": {
   "codemirror_mode": {
    "name": "ipython",
    "version": 3
   },
   "file_extension": ".py",
   "mimetype": "text/x-python",
   "name": "python",
   "nbconvert_exporter": "python",
   "pygments_lexer": "ipython3",
   "version": "3.7.3"
  }
 },
 "nbformat": 4,
 "nbformat_minor": 2
}
