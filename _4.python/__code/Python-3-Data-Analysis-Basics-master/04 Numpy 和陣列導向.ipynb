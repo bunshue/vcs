{
 "cells": [
  {
   "cell_type": "markdown",
   "metadata": {},
   "source": [
    "# 04 Numpy 和陣列導向\n",
    "\n",
    "這裡介紹很像 `list` 的 `array`。\n",
    "\n",
    "1. 使用和建構我們的 `list`\n",
    "2. `if` 條件判斷\n",
    "3. 在 Python 讀入套件的正規方式\n",
    "4. 開始用 `numpy`"
   ]
  },
  {
   "cell_type": "markdown",
   "metadata": {},
   "source": [
    "## 1. 使用和建構我們的 `list`"
   ]
  },
  {
   "cell_type": "markdown",
   "metadata": {},
   "source": [
    "#### [暖身] 計算平均\n",
    "\n",
    "某位同學期中考各科成績如下, 請幫他計算成績。\n",
    "\n",
    "    grades = [77, 85, 56, 90, 66]\n",
    "    \n",
    "請計算平均。"
   ]
  },
  {
   "cell_type": "code",
   "execution_count": 1,
   "metadata": {},
   "outputs": [
    {
     "name": "stdout",
     "output_type": "stream",
     "text": [
      "average = 66.57\n"
     ]
    }
   ],
   "source": [
    "s = 0 \n",
    "grades = [77, 85, 60, 90, 66, 0, 88]\n",
    "for i in grades:\n",
    "    s = s + i # s += i\n",
    "print(\"average = {:.2f}\".format(s/len(grades)))"
   ]
  },
  {
   "cell_type": "markdown",
   "metadata": {},
   "source": [
    "#### 使用 `append` 加一個元素進我們的 list"
   ]
  },
  {
   "cell_type": "code",
   "execution_count": 2,
   "metadata": {
    "collapsed": true
   },
   "outputs": [],
   "source": [
    "grades = []"
   ]
  },
  {
   "cell_type": "code",
   "execution_count": 3,
   "metadata": {
    "collapsed": true
   },
   "outputs": [],
   "source": [
    "grades.append(77)"
   ]
  },
  {
   "cell_type": "code",
   "execution_count": 4,
   "metadata": {},
   "outputs": [
    {
     "data": {
      "text/plain": [
       "[77]"
      ]
     },
     "execution_count": 4,
     "metadata": {},
     "output_type": "execute_result"
    }
   ],
   "source": [
    "grades"
   ]
  },
  {
   "cell_type": "code",
   "execution_count": 5,
   "metadata": {
    "collapsed": true
   },
   "outputs": [],
   "source": [
    "grades.append(85)"
   ]
  },
  {
   "cell_type": "code",
   "execution_count": 6,
   "metadata": {},
   "outputs": [
    {
     "data": {
      "text/plain": [
       "[77, 85]"
      ]
     },
     "execution_count": 6,
     "metadata": {},
     "output_type": "execute_result"
    }
   ],
   "source": [
    "grades"
   ]
  },
  {
   "cell_type": "markdown",
   "metadata": {},
   "source": [
    "#### [練習] 問五筆資料, 放入我們的 list 當中\n",
    "\n",
    "用 `for` 迴圈問五個數字 (其實不一定要是數字), 放到一個 list 當中。最後這 list 就有五個元素。"
   ]
  },
  {
   "cell_type": "code",
   "execution_count": 7,
   "metadata": {},
   "outputs": [
    {
     "name": "stdout",
     "output_type": "stream",
     "text": [
      "請輸入一個數字: 43\n",
      "請輸入一個數字: 31\n",
      "請輸入一個數字: 77\n",
      "請輸入一個數字: 24\n",
      "請輸入一個數字: 15\n"
     ]
    }
   ],
   "source": [
    "grades = []\n",
    "for i in range(5):\n",
    "    a = input(\"請輸入一個數字: \")\n",
    "    grades.append(a)"
   ]
  },
  {
   "cell_type": "code",
   "execution_count": 8,
   "metadata": {},
   "outputs": [
    {
     "data": {
      "text/plain": [
       "['43', '31', '77', '24', '15']"
      ]
     },
     "execution_count": 8,
     "metadata": {},
     "output_type": "execute_result"
    }
   ],
   "source": [
    "grades"
   ]
  },
  {
   "cell_type": "markdown",
   "metadata": {},
   "source": [
    "但這不是數字啊, 怎麼轉成數字呢?"
   ]
  },
  {
   "cell_type": "code",
   "execution_count": 9,
   "metadata": {},
   "outputs": [
    {
     "data": {
      "text/plain": [
       "43.0"
      ]
     },
     "execution_count": 9,
     "metadata": {},
     "output_type": "execute_result"
    }
   ],
   "source": [
    "float(grades[0])"
   ]
  },
  {
   "cell_type": "markdown",
   "metadata": {},
   "source": [
    "#### 練習: 計算平均分數\n",
    "\n",
    "輸入五筆成績, 計算平均分數。"
   ]
  },
  {
   "cell_type": "code",
   "execution_count": 10,
   "metadata": {},
   "outputs": [
    {
     "name": "stdout",
     "output_type": "stream",
     "text": [
      "請輸入一個數字: 78\n",
      "請輸入一個數字: 82\n",
      "請輸入一個數字: 90\n",
      "請輸入一個數字: 66\n",
      "請輸入一個數字: 54\n",
      "平均 = 74.00\n"
     ]
    }
   ],
   "source": [
    "grades = []\n",
    "s = 0\n",
    "for i in range(5):\n",
    "    a = input(\"請輸入一個數字: \")\n",
    "    a = float(a)\n",
    "    s = s + a\n",
    "    grades.append(a)\n",
    "print(\"平均 = {:.2f}\".format(s/5))"
   ]
  },
  {
   "cell_type": "markdown",
   "metadata": {},
   "source": [
    "## 2. `if` 條件判斷"
   ]
  },
  {
   "cell_type": "code",
   "execution_count": 12,
   "metadata": {},
   "outputs": [
    {
     "name": "stdout",
     "output_type": "stream",
     "text": [
      "請教您的成績是多少? 55\n",
      "拍拍\n",
      "下次再來\n",
      "好課值得一修再修\n"
     ]
    }
   ],
   "source": [
    "s = float(input(\"請教您的成績是多少? \"))\n",
    "if s>=60:\n",
    "    print(\"過了!!\")\n",
    "    print(\"好棒棒!\")\n",
    "    print(\"過了了不起哦\")\n",
    "else:\n",
    "    print(\"拍拍\")\n",
    "    print(\"下次再來\")\n",
    "    print(\"好課值得一修再修\")"
   ]
  },
  {
   "cell_type": "code",
   "execution_count": 13,
   "metadata": {},
   "outputs": [
    {
     "name": "stdout",
     "output_type": "stream",
     "text": [
      "輸入你要說的話: 我今天很悲傷\n",
      "拍拍\n"
     ]
    }
   ],
   "source": [
    "message = input(\"輸入你要說的話: \")\n",
    "if (\"難過\" in message) or (\"悲傷\" in message):\n",
    "    print(\"拍拍\")\n",
    "elif \"發瘋\" in message:\n",
    "    print(\"怎麼了嗎?\")\n",
    "else:\n",
    "    print(\"聽起來不錯\")"
   ]
  },
  {
   "cell_type": "markdown",
   "metadata": {},
   "source": [
    "## 3. 在 Python 讀入套件的正規方式\n",
    "\n",
    "我們在一開始就用了一個魔術指令\n",
    "\n",
    "    %pylab inline\n",
    "    \n",
    "但這個其實現在不太建議, 因為會讓套件讀入有點混亂。主要讀入兩個套件\n",
    "\n",
    "* `matplotlib`: 畫圖的標準套件\n",
    "* `numpy`: 數學計算的標準套件\n",
    "\n",
    "而且用了很多種不同方式讀入。"
   ]
  },
  {
   "cell_type": "markdown",
   "metadata": {},
   "source": [
    "#### 標準套件讀入方式 1\n",
    "\n",
    "```python\n",
    "from 套件 import 指定函數\n",
    "```\n",
    "\n",
    "以後就可以直接用我們引入的函數! 比如說:\n",
    "\n",
    "```python\n",
    "from numpy import sin\n",
    "```\n",
    "\n",
    "以後可直接用 sin 函數。有些時候我們用:\n",
    "\n",
    "```python\n",
    "from 套件 import *\n",
    "```\n",
    "\n",
    "這就是那套件所有函數都進來! 這不太建議, 雖然用來方便。"
   ]
  },
  {
   "cell_type": "markdown",
   "metadata": {},
   "source": [
    "#### 都叫 `randint` 其實不一樣!"
   ]
  },
  {
   "cell_type": "code",
   "execution_count": 14,
   "metadata": {
    "collapsed": true
   },
   "outputs": [],
   "source": [
    "from random import *"
   ]
  },
  {
   "cell_type": "code",
   "execution_count": 15,
   "metadata": {},
   "outputs": [
    {
     "name": "stdout",
     "output_type": "stream",
     "text": [
      "1, 10, 6, 5, 5, 6, 2, 8, 7, 6, 5, 1, 9, 5, 2, 2, 5, 6, 8, 10, 4, 7, 5, 9, 4, 7, 2, 4, 1, 7, 9, 1, 1, 4, 10, 9, 10, 4, 9, 5, 3, 8, 4, 10, 3, 6, 7, 7, 9, 3, "
     ]
    }
   ],
   "source": [
    "for i in range(50):\n",
    "    print(randint(1,10), end=', ')"
   ]
  },
  {
   "cell_type": "markdown",
   "metadata": {},
   "source": [
    "#### 注意\n",
    "\n",
    "1. `randint(1,10)` 這裡出現 1 到 10 的數字\n",
    "2. 我們用了個小技巧讓 `print` 不換行"
   ]
  },
  {
   "cell_type": "markdown",
   "metadata": {},
   "source": [
    "再來我們換用 `numpy` 版的 `randint`, 我們再次用了「不建議」套件引入法。"
   ]
  },
  {
   "cell_type": "code",
   "execution_count": 16,
   "metadata": {
    "collapsed": true
   },
   "outputs": [],
   "source": [
    "from numpy.random import *"
   ]
  },
  {
   "cell_type": "code",
   "execution_count": 17,
   "metadata": {},
   "outputs": [
    {
     "name": "stdout",
     "output_type": "stream",
     "text": [
      "4, 7, 2, 3, 3, 3, 6, 6, 4, 6, 6, 5, 7, 4, 4, 2, 2, 6, 4, 9, 4, 2, 8, 5, 4, 2, 8, 9, 4, 9, 5, 3, 8, 3, 4, 1, 8, 3, 7, 9, 3, 4, 6, 8, 8, 8, 4, 1, 9, 2, "
     ]
    }
   ],
   "source": [
    "for i in range(50):\n",
    "    print(randint(1,10), end=', ')"
   ]
  },
  {
   "cell_type": "markdown",
   "metadata": {},
   "source": [
    "有沒有發現程式一模一樣, 但是這次只有 1 到 9 的數字!!"
   ]
  },
  {
   "cell_type": "markdown",
   "metadata": {},
   "source": [
    "#### 套件標準讀入方式 2\n",
    "\n",
    "第二個方式也許是最標準的:\n",
    "\n",
    "```python\n",
    "import numpy\n",
    "```\n",
    "\n",
    "這樣我們可以不用先計畫好到底要哪些函數, 全都可以用而且也不會亂掉。因為比如要算 sin(3), 就會變成\n",
    "\n",
    "```python\n",
    "numpy.sin(3)\n",
    "```\n",
    "\n",
    "等等, 這有人會這樣做嗎? 這不會發瘋嗎? Python 還提供了縮寫, 我們自己愛怎麼叫這個套件就怎麼叫。有趣的是, 一些知名套件都有「標準」縮寫方式。用「正確」的方式人家都覺得我們是行家。比如說\n",
    "\n",
    "```python\n",
    "import numpy as np\n",
    "```\n",
    "\n",
    "這之後就可以用\n",
    "\n",
    "```python\n",
    "np.sin(3)\n",
    "```\n",
    "\n",
    "來算 sin(3) 了。"
   ]
  },
  {
   "cell_type": "markdown",
   "metadata": {},
   "source": [
    "#### 標準 Jupyter 數據分析設定\n",
    "\n",
    "以後一開始用 Jupyter 我們都打入這串, 大家就覺得我們是內行的。"
   ]
  },
  {
   "cell_type": "code",
   "execution_count": 18,
   "metadata": {
    "collapsed": true
   },
   "outputs": [],
   "source": [
    "%matplotlib inline\n",
    "import numpy as np\n",
    "import matplotlib.pyplot as plt"
   ]
  },
  {
   "cell_type": "code",
   "execution_count": 19,
   "metadata": {},
   "outputs": [
    {
     "data": {
      "text/plain": [
       "3.141592653589793"
      ]
     },
     "execution_count": 19,
     "metadata": {},
     "output_type": "execute_result"
    }
   ],
   "source": [
    "np.pi"
   ]
  },
  {
   "cell_type": "code",
   "execution_count": 20,
   "metadata": {},
   "outputs": [
    {
     "data": {
      "text/plain": [
       "0.14112000805986721"
      ]
     },
     "execution_count": 20,
     "metadata": {},
     "output_type": "execute_result"
    }
   ],
   "source": [
    "np.sin(3)"
   ]
  },
  {
   "cell_type": "code",
   "execution_count": 21,
   "metadata": {},
   "outputs": [
    {
     "data": {
      "text/plain": [
       "[<matplotlib.lines.Line2D at 0x7f579e250ef0>]"
      ]
     },
     "execution_count": 21,
     "metadata": {},
     "output_type": "execute_result"
    },
    {
     "data": {
      "image/png": "[encoded data removed]",
      "text/plain": [
       "<matplotlib.figure.Figure at 0x7f57a0504be0>"
      ]
     },
     "metadata": {},
     "output_type": "display_data"
    }
   ],
   "source": [
    "plt.plot([2,-4,1,2])"
   ]
  },
  {
   "cell_type": "code",
   "execution_count": 22,
   "metadata": {},
   "outputs": [
    {
     "data": {
      "text/plain": [
       "[<matplotlib.lines.Line2D at 0x7f579e13d1d0>]"
      ]
     },
     "execution_count": 22,
     "metadata": {},
     "output_type": "execute_result"
    },
    {
     "data": {
      "image/png": "[encoded data removed]",
      "text/plain": [
       "<matplotlib.figure.Figure at 0x7f579e248668>"
      ]
     },
     "metadata": {},
     "output_type": "display_data"
    }
   ],
   "source": [
    "plt.plot(np.random.randn(100))"
   ]
  },
  {
   "cell_type": "markdown",
   "metadata": {},
   "source": [
    "所有 `numpy` 套件下的函數都可快樂使用了。"
   ]
  },
  {
   "cell_type": "code",
   "execution_count": 24,
   "metadata": {
    "collapsed": true
   },
   "outputs": [],
   "source": [
    "grades = [33,74,12,87,55]"
   ]
  },
  {
   "cell_type": "markdown",
   "metadata": {},
   "source": [
    "平均值 (我們之前是寫心酸的嗎?)"
   ]
  },
  {
   "cell_type": "code",
   "execution_count": 25,
   "metadata": {},
   "outputs": [
    {
     "data": {
      "text/plain": [
       "52.200000000000003"
      ]
     },
     "execution_count": 25,
     "metadata": {},
     "output_type": "execute_result"
    }
   ],
   "source": [
    "np.average(grades)"
   ]
  },
  {
   "cell_type": "markdown",
   "metadata": {},
   "source": [
    "極大值"
   ]
  },
  {
   "cell_type": "code",
   "execution_count": 26,
   "metadata": {},
   "outputs": [
    {
     "data": {
      "text/plain": [
       "87"
      ]
     },
     "execution_count": 26,
     "metadata": {},
     "output_type": "execute_result"
    }
   ],
   "source": [
    "np.max(grades)"
   ]
  },
  {
   "cell_type": "markdown",
   "metadata": {},
   "source": [
    "標準差"
   ]
  },
  {
   "cell_type": "code",
   "execution_count": 27,
   "metadata": {},
   "outputs": [
    {
     "data": {
      "text/plain": [
       "27.12489631316588"
      ]
     },
     "execution_count": 27,
     "metadata": {},
     "output_type": "execute_result"
    }
   ],
   "source": [
    "np.std(grades)"
   ]
  },
  {
   "cell_type": "markdown",
   "metadata": {
    "collapsed": true
   },
   "source": [
    "## 4. Array 真是太炫了\n",
    "\n",
    "科學計算一個很核心的概念叫 \"array oriented\" 的寫法。Array 是 `numpy` 標準的資料結構, 和 list 很像, 但就差了那麼一點點。而這一點點讓我們在計算上是無比的方便。"
   ]
  },
  {
   "cell_type": "markdown",
   "metadata": {},
   "source": [
    "#### [暖身] 換算匯率\n",
    "\n",
    "假設今天我想查查號稱 Pentax 三公主的 31mm, 43mm, 77mm 三隻 limited 鏡頭在美國賣多少。於是我去 B&H 查了他們的價格分別是:\n",
    "\n",
    "    prices = [1096.95, 596.95, 896.95]\n",
    "    \n",
    "我又查了 Google 匯率 1 美金為 31.71 元。請把三支鏡頭的價格換算為台幣。"
   ]
  },
  {
   "cell_type": "markdown",
   "metadata": {},
   "source": [
    "#### 迴圈解法"
   ]
  },
  {
   "cell_type": "code",
   "execution_count": 29,
   "metadata": {
    "collapsed": true
   },
   "outputs": [],
   "source": [
    "prices = [1096.95, 596.95, 896.95]\n",
    "\n",
    "usd2twd = 37.71\n",
    "twd_prices = []\n",
    "for price in prices:\n",
    "    twd = price * usd2twd\n",
    "    twd_prices.append(twd)"
   ]
  },
  {
   "cell_type": "code",
   "execution_count": 30,
   "metadata": {},
   "outputs": [
    {
     "data": {
      "text/plain": [
       "[41365.984500000006, 22510.984500000002, 33823.984500000006]"
      ]
     },
     "execution_count": 30,
     "metadata": {},
     "output_type": "execute_result"
    }
   ],
   "source": [
    "twd_prices"
   ]
  },
  {
   "cell_type": "markdown",
   "metadata": {},
   "source": [
    "先不管這實在有夠醜的數字, 我們要記得在科學計算中:\n",
    "\n",
    "#### 儘可能不要使用迴圈\n",
    "\n",
    "這可能嗎?"
   ]
  },
  {
   "cell_type": "code",
   "execution_count": 32,
   "metadata": {},
   "outputs": [
    {
     "data": {
      "text/plain": [
       "array([ 41365.9845,  22510.9845,  33823.9845])"
      ]
     },
     "execution_count": 32,
     "metadata": {},
     "output_type": "execute_result"
    }
   ],
   "source": [
    "prices = np.array(prices)\n",
    "\n",
    "prices * usd2twd"
   ]
  },
  {
   "cell_type": "markdown",
   "metadata": {},
   "source": [
    "哦哦, 傑克, 這太神奇了!"
   ]
  },
  {
   "cell_type": "markdown",
   "metadata": {},
   "source": [
    "## 5. 其實 array 還有很多功能\n",
    "\n",
    "#### [練習] 成績計算\n",
    "\n",
    "一位老師成績這樣算的:\n",
    "\n",
    "* 平時成績 20%\n",
    "* 期中考   35%\n",
    "* 期未考   45%\n",
    "\n",
    "有位同學\n",
    "\n",
    "* 平時成績 85 分\n",
    "* 期中 70 分\n",
    "* 期末 80 分\n",
    "\n",
    "這位同學的學期成績是多少?"
   ]
  },
  {
   "cell_type": "code",
   "execution_count": 33,
   "metadata": {
    "collapsed": true
   },
   "outputs": [],
   "source": [
    "grades = np.array([85, 70, 80])\n",
    "weights = np.array([0.2, 0.35, 0.45])"
   ]
  },
  {
   "cell_type": "code",
   "execution_count": 34,
   "metadata": {},
   "outputs": [
    {
     "data": {
      "text/plain": [
       "array([ 17. ,  24.5,  36. ])"
      ]
     },
     "execution_count": 34,
     "metadata": {},
     "output_type": "execute_result"
    }
   ],
   "source": [
    "grades * weights"
   ]
  },
  {
   "cell_type": "markdown",
   "metadata": {},
   "source": [
    "這還不是我們要的最終成績啊!"
   ]
  },
  {
   "cell_type": "code",
   "execution_count": 36,
   "metadata": {},
   "outputs": [
    {
     "data": {
      "text/plain": [
       "77.5"
      ]
     },
     "execution_count": 36,
     "metadata": {},
     "output_type": "execute_result"
    }
   ],
   "source": [
    "weighted_grades = grades * weights\n",
    "weighted_grades.sum()"
   ]
  },
  {
   "cell_type": "markdown",
   "metadata": {},
   "source": [
    "#### array 還有很多函數可以用\n",
    "\n",
    "可以先打入\n",
    "\n",
    "    weighted_grades.\n",
    "    \n",
    "先不要按 `enter` 或 `shift-enter`, 而是按 `tab`...\n"
   ]
  },
  {
   "cell_type": "markdown",
   "metadata": {},
   "source": [
    "## 6. 重要的 array 大變身!\n",
    "\n",
    "我們在數據分析, 常常要改 array 的型式。"
   ]
  },
  {
   "cell_type": "markdown",
   "metadata": {},
   "source": [
    "#### [練習] 一個 50 個數字的 array\n",
    "\n",
    "先想辦法、用亂數做出 50 個數字的 array, 叫做 A 好了。"
   ]
  },
  {
   "cell_type": "code",
   "execution_count": 37,
   "metadata": {
    "collapsed": true
   },
   "outputs": [],
   "source": [
    "A = np.random.rand(50)"
   ]
  },
  {
   "cell_type": "code",
   "execution_count": 38,
   "metadata": {},
   "outputs": [
    {
     "data": {
      "text/plain": [
       "array([ 0.51034472,  0.08144529,  0.18853195,  0.26947964,  0.28977702,\n",
       "        0.09452694,  0.26552097,  0.14119766,  0.55950155,  0.82106755,\n",
       "        0.37620145,  0.45227891,  0.29421265,  0.84929144,  0.90748328,\n",
       "        0.18679301,  0.99671361,  0.11741817,  0.46718715,  0.15995244,\n",
       "        0.25913116,  0.51336358,  0.68978478,  0.34967784,  0.04364303,\n",
       "        0.6148477 ,  0.01547664,  0.60479534,  0.36971087,  0.01479527,\n",
       "        0.55110135,  0.44101419,  0.905061  ,  0.95411459,  0.47022332,\n",
       "        0.49028135,  0.75954048,  0.84419992,  0.3194136 ,  0.05866639,\n",
       "        0.6867877 ,  0.40346199,  0.63367694,  0.15749308,  0.12660052,\n",
       "        0.93123381,  0.86360092,  0.52837937,  0.58324669,  0.91796093])"
      ]
     },
     "execution_count": 38,
     "metadata": {},
     "output_type": "execute_result"
    }
   ],
   "source": [
    "A"
   ]
  },
  {
   "cell_type": "markdown",
   "metadata": {},
   "source": [
    "#### 檢查 A 的 `shape`"
   ]
  },
  {
   "cell_type": "code",
   "execution_count": 39,
   "metadata": {},
   "outputs": [
    {
     "data": {
      "text/plain": [
       "(50,)"
      ]
     },
     "execution_count": 39,
     "metadata": {},
     "output_type": "execute_result"
    }
   ],
   "source": [
    "A.shape"
   ]
  },
  {
   "cell_type": "markdown",
   "metadata": {},
   "source": [
    "#### 更改 A 的 shape"
   ]
  },
  {
   "cell_type": "code",
   "execution_count": 40,
   "metadata": {
    "collapsed": true
   },
   "outputs": [],
   "source": [
    "A.shape = (5,10)"
   ]
  },
  {
   "cell_type": "code",
   "execution_count": 41,
   "metadata": {},
   "outputs": [
    {
     "data": {
      "text/plain": [
       "array([[ 0.51034472,  0.08144529,  0.18853195,  0.26947964,  0.28977702,\n",
       "         0.09452694,  0.26552097,  0.14119766,  0.55950155,  0.82106755],\n",
       "       [ 0.37620145,  0.45227891,  0.29421265,  0.84929144,  0.90748328,\n",
       "         0.18679301,  0.99671361,  0.11741817,  0.46718715,  0.15995244],\n",
       "       [ 0.25913116,  0.51336358,  0.68978478,  0.34967784,  0.04364303,\n",
       "         0.6148477 ,  0.01547664,  0.60479534,  0.36971087,  0.01479527],\n",
       "       [ 0.55110135,  0.44101419,  0.905061  ,  0.95411459,  0.47022332,\n",
       "         0.49028135,  0.75954048,  0.84419992,  0.3194136 ,  0.05866639],\n",
       "       [ 0.6867877 ,  0.40346199,  0.63367694,  0.15749308,  0.12660052,\n",
       "         0.93123381,  0.86360092,  0.52837937,  0.58324669,  0.91796093]])"
      ]
     },
     "execution_count": 41,
     "metadata": {},
     "output_type": "execute_result"
    }
   ],
   "source": [
    "A"
   ]
  },
  {
   "cell_type": "markdown",
   "metadata": {},
   "source": [
    "#### Q: 這是矩陣嗎?\n",
    "\n",
    "其實不是... 我們之後再介紹怎麼樣真的變成矩陣。"
   ]
  },
  {
   "cell_type": "markdown",
   "metadata": {},
   "source": [
    "#### 快速 array 生成法"
   ]
  },
  {
   "cell_type": "code",
   "execution_count": 42,
   "metadata": {},
   "outputs": [
    {
     "data": {
      "text/plain": [
       "array([ 0.,  0.,  0.,  0.,  0.,  0.,  0.,  0.,  0.,  0.])"
      ]
     },
     "execution_count": 42,
     "metadata": {},
     "output_type": "execute_result"
    }
   ],
   "source": [
    "np.zeros(10)"
   ]
  },
  {
   "cell_type": "code",
   "execution_count": 43,
   "metadata": {},
   "outputs": [
    {
     "data": {
      "text/plain": [
       "array([[ 0.,  0.,  0.,  0.],\n",
       "       [ 0.,  0.,  0.,  0.],\n",
       "       [ 0.,  0.,  0.,  0.]])"
      ]
     },
     "execution_count": 43,
     "metadata": {},
     "output_type": "execute_result"
    }
   ],
   "source": [
    "np.zeros((3,4))"
   ]
  },
  {
   "cell_type": "code",
   "execution_count": 45,
   "metadata": {},
   "outputs": [
    {
     "data": {
      "text/plain": [
       "array([[ 1.,  0.,  0.,  0.,  0.],\n",
       "       [ 0.,  1.,  0.,  0.,  0.],\n",
       "       [ 0.,  0.,  1.,  0.,  0.],\n",
       "       [ 0.,  0.,  0.,  1.,  0.],\n",
       "       [ 0.,  0.,  0.,  0.,  1.]])"
      ]
     },
     "execution_count": 45,
     "metadata": {},
     "output_type": "execute_result"
    }
   ],
   "source": [
    "np.eye(5)"
   ]
  },
  {
   "cell_type": "markdown",
   "metadata": {},
   "source": [
    "如果是要都是 1 的 array 呢?"
   ]
  },
  {
   "cell_type": "code",
   "execution_count": 46,
   "metadata": {},
   "outputs": [
    {
     "data": {
      "text/plain": [
       "array([ 1.,  1.,  1.,  1.,  1.])"
      ]
     },
     "execution_count": 46,
     "metadata": {},
     "output_type": "execute_result"
    }
   ],
   "source": [
    "np.ones(5)"
   ]
  },
  {
   "cell_type": "markdown",
   "metadata": {},
   "source": [
    "## 7. Array 讓畫圖更方便"
   ]
  },
  {
   "cell_type": "markdown",
   "metadata": {},
   "source": [
    "#### 複習基本畫圖法"
   ]
  },
  {
   "cell_type": "code",
   "execution_count": 48,
   "metadata": {},
   "outputs": [
    {
     "data": {
      "text/plain": [
       "[<matplotlib.lines.Line2D at 0x7f579e0a0320>]"
      ]
     },
     "execution_count": 48,
     "metadata": {},
     "output_type": "execute_result"
    },
    {
     "data": {
      "image/png": "[encoded data removed]",
      "text/plain": [
       "<matplotlib.figure.Figure at 0x7f579e1650b8>"
      ]
     },
     "metadata": {},
     "output_type": "display_data"
    }
   ],
   "source": [
    "plt.plot([1.2, 2, 2.7, 4], [3, -5, 7, 2])"
   ]
  },
  {
   "cell_type": "markdown",
   "metadata": {},
   "source": [
    "#### `plot` 一個函數\n",
    "\n",
    "我們先用 `np.linspace` 在 x 的指定範圍中取指定個點。"
   ]
  },
  {
   "cell_type": "code",
   "execution_count": 49,
   "metadata": {
    "collapsed": true
   },
   "outputs": [],
   "source": [
    "x = np.linspace(0, 10, 100)"
   ]
  },
  {
   "cell_type": "markdown",
   "metadata": {},
   "source": [
    "畫出\n",
    "\n",
    "$$f(x) = \\sin(x) + x$$"
   ]
  },
  {
   "cell_type": "code",
   "execution_count": 50,
   "metadata": {},
   "outputs": [
    {
     "data": {
      "text/plain": [
       "[<matplotlib.lines.Line2D at 0x7f579e0280b8>]"
      ]
     },
     "execution_count": 50,
     "metadata": {},
     "output_type": "execute_result"
    },
    {
     "data": {
      "image/png": "[encoded data removed]",
      "text/plain": [
       "<matplotlib.figure.Figure at 0x7f579e165240>"
      ]
     },
     "metadata": {},
     "output_type": "display_data"
    }
   ],
   "source": [
    "plt.plot(x, np.sin(x) + x)"
   ]
  },
  {
   "cell_type": "markdown",
   "metadata": {},
   "source": [
    "#### 同時畫兩個函數"
   ]
  },
  {
   "cell_type": "code",
   "execution_count": 51,
   "metadata": {},
   "outputs": [
    {
     "data": {
      "text/plain": [
       "[<matplotlib.lines.Line2D at 0x7f579e063438>]"
      ]
     },
     "execution_count": 51,
     "metadata": {},
     "output_type": "execute_result"
    },
    {
     "data": {
      "image/png": "[encoded data removed]",
      "text/plain": [
       "<matplotlib.figure.Figure at 0x7f579e063b00>"
      ]
     },
     "metadata": {},
     "output_type": "display_data"
    }
   ],
   "source": [
    "x = np.linspace(0, 10, 100)\n",
    "\n",
    "plt.plot(x, np.sin(x) + x)\n",
    "plt.plot(x, np.cos(3*x))"
   ]
  },
  {
   "cell_type": "markdown",
   "metadata": {},
   "source": [
    "#### 順便介紹 `subplot`"
   ]
  },
  {
   "cell_type": "code",
   "execution_count": 52,
   "metadata": {},
   "outputs": [
    {
     "data": {
      "text/plain": [
       "[<matplotlib.lines.Line2D at 0x7f579dedc128>]"
      ]
     },
     "execution_count": 52,
     "metadata": {},
     "output_type": "execute_result"
    },
    {
     "data": {
      "image/png": "[encoded data removed]",
      "text/plain": [
       "<matplotlib.figure.Figure at 0x7f579df642b0>"
      ]
     },
     "metadata": {},
     "output_type": "display_data"
    }
   ],
   "source": [
    "x = np.linspace(0, 10, 100)\n",
    "\n",
    "# 圖 1\n",
    "plt.subplot(211)\n",
    "plt.plot(x, np.sin(x) + x)\n",
    "\n",
    "# 圖 2\n",
    "plt.subplot(212)\n",
    "plt.plot(x, np.cos(3*x))\n"
   ]
  },
  {
   "cell_type": "markdown",
   "metadata": {},
   "source": [
    "## 8. 快取我們要的部份\n",
    "\n",
    "`array` 有個很有趣的用法..."
   ]
  },
  {
   "cell_type": "code",
   "execution_count": 61,
   "metadata": {
    "collapsed": true
   },
   "outputs": [],
   "source": [
    "L = np.array([3, -2, -1, 5, 7, -3])"
   ]
  },
  {
   "cell_type": "markdown",
   "metadata": {},
   "source": [
    "我們用另一個 array, 把「要的」標 `True`, 不要的標 `False`"
   ]
  },
  {
   "cell_type": "code",
   "execution_count": 62,
   "metadata": {
    "collapsed": true
   },
   "outputs": [],
   "source": [
    "want = np.array([True, False, False, True, True, False])"
   ]
  },
  {
   "cell_type": "markdown",
   "metadata": {},
   "source": [
    "也就是我們只要正的..."
   ]
  },
  {
   "cell_type": "code",
   "execution_count": 63,
   "metadata": {},
   "outputs": [
    {
     "data": {
      "text/plain": [
       "array([3, 5, 7])"
      ]
     },
     "execution_count": 63,
     "metadata": {},
     "output_type": "execute_result"
    }
   ],
   "source": [
    "L[want]"
   ]
  },
  {
   "cell_type": "markdown",
   "metadata": {},
   "source": [
    "其實我們可以這樣做..."
   ]
  },
  {
   "cell_type": "code",
   "execution_count": 64,
   "metadata": {},
   "outputs": [
    {
     "data": {
      "text/plain": [
       "array([ True, False, False,  True,  True, False], dtype=bool)"
      ]
     },
     "execution_count": 64,
     "metadata": {},
     "output_type": "execute_result"
    }
   ],
   "source": [
    "L>0"
   ]
  },
  {
   "cell_type": "code",
   "execution_count": 65,
   "metadata": {},
   "outputs": [
    {
     "data": {
      "text/plain": [
       "array([3, 5, 7])"
      ]
     },
     "execution_count": 65,
     "metadata": {},
     "output_type": "execute_result"
    }
   ],
   "source": [
    "L[L>0]"
   ]
  },
  {
   "cell_type": "markdown",
   "metadata": {},
   "source": [
    "#### [練習] 畫個函數 (如 $\\rm{sinc}$), 標出正的部份!"
   ]
  },
  {
   "cell_type": "code",
   "execution_count": 68,
   "metadata": {},
   "outputs": [
    {
     "data": {
      "text/plain": [
       "[<matplotlib.lines.Line2D at 0x7f579dd0fb70>]"
      ]
     },
     "execution_count": 68,
     "metadata": {},
     "output_type": "execute_result"
    },
    {
     "data": {
      "image/png": "[encoded data removed]",
      "text/plain": [
       "<matplotlib.figure.Figure at 0x7f579dd0f8d0>"
      ]
     },
     "metadata": {},
     "output_type": "display_data"
    }
   ],
   "source": [
    "x = np.linspace(-5, 5, 200)\n",
    "y = np.sinc(x)\n",
    "\n",
    "plt.plot(x, y)\n",
    "plt.plot(x[y>0], y[y>0], 'o')"
   ]
  }
 ],
 "metadata": {
  "kernelspec": {
   "display_name": "Python 3",
   "language": "python",
   "name": "python3"
  },
  "language_info": {
   "codemirror_mode": {
    "name": "ipython",
    "version": 3
   },
   "file_extension": ".py",
   "mimetype": "text/x-python",
   "name": "python",
   "nbconvert_exporter": "python",
   "pygments_lexer": "ipython3",
   "version": "3.6.3"
  }
 },
 "nbformat": 4,
 "nbformat_minor": 2
}
