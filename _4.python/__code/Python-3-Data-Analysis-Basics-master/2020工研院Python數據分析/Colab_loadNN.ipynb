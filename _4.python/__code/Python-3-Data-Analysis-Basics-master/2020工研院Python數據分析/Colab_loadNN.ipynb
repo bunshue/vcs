{
  "nbformat": 4,
  "nbformat_minor": 0,
  "metadata": {
    "colab": {
      "name": "Colab_loadNN.ipynb",
      "provenance": [],
      "authorship_tag": "ABX9TyMXfsRSmtvRHRRepjryovlL",
      "include_colab_link": true
    },
    "kernelspec": {
      "name": "python3",
      "display_name": "Python 3"
    },
    "widgets": {
      "application/vnd.jupyter.widget-state+json": {
        "11d9e65f1a4e4c9e8558445c1584fb53": {
          "model_module": "@jupyter-widgets/controls",
          "model_name": "VBoxModel",
          "state": {
            "_view_name": "VBoxView",
            "_dom_classes": [
              "widget-interact"
            ],
            "_model_name": "VBoxModel",
            "_view_module": "@jupyter-widgets/controls",
            "_model_module_version": "1.5.0",
            "_view_count": null,
            "_view_module_version": "1.5.0",
            "box_style": "",
            "layout": "IPY_MODEL_8febe693a7ac4497acd6e440a48689eb",
            "_model_module": "@jupyter-widgets/controls",
            "children": [
              "IPY_MODEL_52a6c6fe03674ce4bb54385d5dbf4540",
              "IPY_MODEL_b62db70fda8e4608b1963ca188744fca",
              "IPY_MODEL_0820c7b4b388450db987bbeac154a1cd"
            ]
          }
        },
        "8febe693a7ac4497acd6e440a48689eb": {
          "model_module": "@jupyter-widgets/base",
          "model_name": "LayoutModel",
          "state": {
            "_view_name": "LayoutView",
            "grid_template_rows": null,
            "right": null,
            "justify_content": null,
            "_view_module": "@jupyter-widgets/base",
            "overflow": null,
            "_model_module_version": "1.2.0",
            "_view_count": null,
            "flex_flow": null,
            "width": null,
            "min_width": null,
            "border": null,
            "align_items": null,
            "bottom": null,
            "_model_module": "@jupyter-widgets/base",
            "top": null,
            "grid_column": null,
            "overflow_y": null,
            "overflow_x": null,
            "grid_auto_flow": null,
            "grid_area": null,
            "grid_template_columns": null,
            "flex": null,
            "_model_name": "LayoutModel",
            "justify_items": null,
            "grid_row": null,
            "max_height": null,
            "align_content": null,
            "visibility": null,
            "align_self": null,
            "height": null,
            "min_height": null,
            "padding": null,
            "grid_auto_rows": null,
            "grid_gap": null,
            "max_width": null,
            "order": null,
            "_view_module_version": "1.2.0",
            "grid_template_areas": null,
            "object_position": null,
            "object_fit": null,
            "grid_auto_columns": null,
            "margin": null,
            "display": null,
            "left": null
          }
        },
        "52a6c6fe03674ce4bb54385d5dbf4540": {
          "model_module": "@jupyter-widgets/controls",
          "model_name": "IntSliderModel",
          "state": {
            "_view_name": "IntSliderView",
            "style": "IPY_MODEL_2cab65f737ae43d7aa6adc019232077b",
            "_dom_classes": [],
            "description": "n",
            "step": 1,
            "_model_name": "IntSliderModel",
            "orientation": "horizontal",
            "max": 9999,
            "_view_module": "@jupyter-widgets/controls",
            "_model_module_version": "1.5.0",
            "value": 2777,
            "_view_count": null,
            "disabled": false,
            "_view_module_version": "1.5.0",
            "min": 0,
            "continuous_update": true,
            "readout_format": "d",
            "description_tooltip": null,
            "readout": true,
            "_model_module": "@jupyter-widgets/controls",
            "layout": "IPY_MODEL_9ac6e7c0db534c0291c02daad11e9504"
          }
        },
        "b62db70fda8e4608b1963ca188744fca": {
          "model_module": "@jupyter-widgets/controls",
          "model_name": "ButtonModel",
          "state": {
            "_view_name": "ButtonView",
            "style": "IPY_MODEL_eb2f6560316d4b25a8a7c8e0f281eeef",
            "_dom_classes": [],
            "description": "Run Interact",
            "_model_name": "ButtonModel",
            "button_style": "",
            "_view_module": "@jupyter-widgets/controls",
            "_model_module_version": "1.5.0",
            "tooltip": "",
            "_view_count": null,
            "disabled": false,
            "_view_module_version": "1.5.0",
            "layout": "IPY_MODEL_a4c847dd7e964797a71cdc3ce64535eb",
            "_model_module": "@jupyter-widgets/controls",
            "icon": ""
          }
        },
        "0820c7b4b388450db987bbeac154a1cd": {
          "model_module": "@jupyter-widgets/output",
          "model_name": "OutputModel",
          "state": {
            "_view_name": "OutputView",
            "msg_id": "",
            "_dom_classes": [],
            "_model_name": "OutputModel",
            "outputs": [
              {
                "output_type": "stream",
                "metadata": {
                  "tags": []
                },
                "text": "可愛神經網路預測 0\n",
                "stream": "stdout"
              },
              {
                "output_type": "display_data",
                "metadata": {
                  "tags": [],
                  "needs_background": "light"
                },
                "image/png": "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\n",
                "text/plain": "<Figure size 432x288 with 1 Axes>"
              }
            ],
            "_view_module": "@jupyter-widgets/output",
            "_model_module_version": "1.0.0",
            "_view_count": null,
            "_view_module_version": "1.0.0",
            "layout": "IPY_MODEL_24ee31cdf82143dca4a9d8d8581468a5",
            "_model_module": "@jupyter-widgets/output"
          }
        },
        "2cab65f737ae43d7aa6adc019232077b": {
          "model_module": "@jupyter-widgets/controls",
          "model_name": "SliderStyleModel",
          "state": {
            "_view_name": "StyleView",
            "handle_color": null,
            "_model_name": "SliderStyleModel",
            "description_width": "",
            "_view_module": "@jupyter-widgets/base",
            "_model_module_version": "1.5.0",
            "_view_count": null,
            "_view_module_version": "1.2.0",
            "_model_module": "@jupyter-widgets/controls"
          }
        },
        "9ac6e7c0db534c0291c02daad11e9504": {
          "model_module": "@jupyter-widgets/base",
          "model_name": "LayoutModel",
          "state": {
            "_view_name": "LayoutView",
            "grid_template_rows": null,
            "right": null,
            "justify_content": null,
            "_view_module": "@jupyter-widgets/base",
            "overflow": null,
            "_model_module_version": "1.2.0",
            "_view_count": null,
            "flex_flow": null,
            "width": null,
            "min_width": null,
            "border": null,
            "align_items": null,
            "bottom": null,
            "_model_module": "@jupyter-widgets/base",
            "top": null,
            "grid_column": null,
            "overflow_y": null,
            "overflow_x": null,
            "grid_auto_flow": null,
            "grid_area": null,
            "grid_template_columns": null,
            "flex": null,
            "_model_name": "LayoutModel",
            "justify_items": null,
            "grid_row": null,
            "max_height": null,
            "align_content": null,
            "visibility": null,
            "align_self": null,
            "height": null,
            "min_height": null,
            "padding": null,
            "grid_auto_rows": null,
            "grid_gap": null,
            "max_width": null,
            "order": null,
            "_view_module_version": "1.2.0",
            "grid_template_areas": null,
            "object_position": null,
            "object_fit": null,
            "grid_auto_columns": null,
            "margin": null,
            "display": null,
            "left": null
          }
        },
        "eb2f6560316d4b25a8a7c8e0f281eeef": {
          "model_module": "@jupyter-widgets/controls",
          "model_name": "ButtonStyleModel",
          "state": {
            "_view_name": "StyleView",
            "_model_name": "ButtonStyleModel",
            "_view_module": "@jupyter-widgets/base",
            "_model_module_version": "1.5.0",
            "_view_count": null,
            "button_color": null,
            "font_weight": "",
            "_view_module_version": "1.2.0",
            "_model_module": "@jupyter-widgets/controls"
          }
        },
        "a4c847dd7e964797a71cdc3ce64535eb": {
          "model_module": "@jupyter-widgets/base",
          "model_name": "LayoutModel",
          "state": {
            "_view_name": "LayoutView",
            "grid_template_rows": null,
            "right": null,
            "justify_content": null,
            "_view_module": "@jupyter-widgets/base",
            "overflow": null,
            "_model_module_version": "1.2.0",
            "_view_count": null,
            "flex_flow": null,
            "width": null,
            "min_width": null,
            "border": null,
            "align_items": null,
            "bottom": null,
            "_model_module": "@jupyter-widgets/base",
            "top": null,
            "grid_column": null,
            "overflow_y": null,
            "overflow_x": null,
            "grid_auto_flow": null,
            "grid_area": null,
            "grid_template_columns": null,
            "flex": null,
            "_model_name": "LayoutModel",
            "justify_items": null,
            "grid_row": null,
            "max_height": null,
            "align_content": null,
            "visibility": null,
            "align_self": null,
            "height": null,
            "min_height": null,
            "padding": null,
            "grid_auto_rows": null,
            "grid_gap": null,
            "max_width": null,
            "order": null,
            "_view_module_version": "1.2.0",
            "grid_template_areas": null,
            "object_position": null,
            "object_fit": null,
            "grid_auto_columns": null,
            "margin": null,
            "display": null,
            "left": null
          }
        },
        "24ee31cdf82143dca4a9d8d8581468a5": {
          "model_module": "@jupyter-widgets/base",
          "model_name": "LayoutModel",
          "state": {
            "_view_name": "LayoutView",
            "grid_template_rows": null,
            "right": null,
            "justify_content": null,
            "_view_module": "@jupyter-widgets/base",
            "overflow": null,
            "_model_module_version": "1.2.0",
            "_view_count": null,
            "flex_flow": null,
            "width": null,
            "min_width": null,
            "border": null,
            "align_items": null,
            "bottom": null,
            "_model_module": "@jupyter-widgets/base",
            "top": null,
            "grid_column": null,
            "overflow_y": null,
            "overflow_x": null,
            "grid_auto_flow": null,
            "grid_area": null,
            "grid_template_columns": null,
            "flex": null,
            "_model_name": "LayoutModel",
            "justify_items": null,
            "grid_row": null,
            "max_height": null,
            "align_content": null,
            "visibility": null,
            "align_self": null,
            "height": null,
            "min_height": null,
            "padding": null,
            "grid_auto_rows": null,
            "grid_gap": null,
            "max_width": null,
            "order": null,
            "_view_module_version": "1.2.0",
            "grid_template_areas": null,
            "object_position": null,
            "object_fit": null,
            "grid_auto_columns": null,
            "margin": null,
            "display": null,
            "left": null
          }
        },
        "2f497ce07d2d43be8c426075869435d4": {
          "model_module": "@jupyter-widgets/controls",
          "model_name": "VBoxModel",
          "state": {
            "_view_name": "VBoxView",
            "_dom_classes": [
              "widget-interact"
            ],
            "_model_name": "VBoxModel",
            "_view_module": "@jupyter-widgets/controls",
            "_model_module_version": "1.5.0",
            "_view_count": null,
            "_view_module_version": "1.5.0",
            "box_style": "",
            "layout": "IPY_MODEL_d6ca70890a6040eb89fbf016350b8d3a",
            "_model_module": "@jupyter-widgets/controls",
            "children": [
              "IPY_MODEL_f09e7e422ecb462080c941b10a928c1c",
              "IPY_MODEL_2d6b5fc2626c44b48f4e1e4cc088b4fb",
              "IPY_MODEL_e4f35f3daa924ad78f07b844f27a0883"
            ]
          }
        },
        "d6ca70890a6040eb89fbf016350b8d3a": {
          "model_module": "@jupyter-widgets/base",
          "model_name": "LayoutModel",
          "state": {
            "_view_name": "LayoutView",
            "grid_template_rows": null,
            "right": null,
            "justify_content": null,
            "_view_module": "@jupyter-widgets/base",
            "overflow": null,
            "_model_module_version": "1.2.0",
            "_view_count": null,
            "flex_flow": null,
            "width": null,
            "min_width": null,
            "border": null,
            "align_items": null,
            "bottom": null,
            "_model_module": "@jupyter-widgets/base",
            "top": null,
            "grid_column": null,
            "overflow_y": null,
            "overflow_x": null,
            "grid_auto_flow": null,
            "grid_area": null,
            "grid_template_columns": null,
            "flex": null,
            "_model_name": "LayoutModel",
            "justify_items": null,
            "grid_row": null,
            "max_height": null,
            "align_content": null,
            "visibility": null,
            "align_self": null,
            "height": null,
            "min_height": null,
            "padding": null,
            "grid_auto_rows": null,
            "grid_gap": null,
            "max_width": null,
            "order": null,
            "_view_module_version": "1.2.0",
            "grid_template_areas": null,
            "object_position": null,
            "object_fit": null,
            "grid_auto_columns": null,
            "margin": null,
            "display": null,
            "left": null
          }
        },
        "f09e7e422ecb462080c941b10a928c1c": {
          "model_module": "@jupyter-widgets/controls",
          "model_name": "TextModel",
          "state": {
            "_view_name": "TextView",
            "style": "IPY_MODEL_77063ca2d90045c7b416dccddf01d3ea",
            "_dom_classes": [],
            "description": "n",
            "_model_name": "TextModel",
            "placeholder": "​",
            "_view_module": "@jupyter-widgets/controls",
            "_model_module_version": "1.5.0",
            "value": "8787",
            "_view_count": null,
            "disabled": false,
            "_view_module_version": "1.5.0",
            "continuous_update": true,
            "description_tooltip": null,
            "_model_module": "@jupyter-widgets/controls",
            "layout": "IPY_MODEL_936c65b7654e4898a3b928054a16e133"
          }
        },
        "2d6b5fc2626c44b48f4e1e4cc088b4fb": {
          "model_module": "@jupyter-widgets/controls",
          "model_name": "ButtonModel",
          "state": {
            "_view_name": "ButtonView",
            "style": "IPY_MODEL_e9e83da4b0664452b44288baffce239a",
            "_dom_classes": [],
            "description": "Run Interact",
            "_model_name": "ButtonModel",
            "button_style": "",
            "_view_module": "@jupyter-widgets/controls",
            "_model_module_version": "1.5.0",
            "tooltip": "",
            "_view_count": null,
            "disabled": false,
            "_view_module_version": "1.5.0",
            "layout": "IPY_MODEL_7a6e1671e5324f1d92210dac99759dfa",
            "_model_module": "@jupyter-widgets/controls",
            "icon": ""
          }
        },
        "e4f35f3daa924ad78f07b844f27a0883": {
          "model_module": "@jupyter-widgets/output",
          "model_name": "OutputModel",
          "state": {
            "_view_name": "OutputView",
            "msg_id": "",
            "_dom_classes": [],
            "_model_name": "OutputModel",
            "outputs": [
              {
                "output_type": "stream",
                "metadata": {
                  "tags": []
                },
                "text": "可愛神經網路預測 8\n",
                "stream": "stdout"
              },
              {
                "output_type": "display_data",
                "metadata": {
                  "tags": [],
                  "needs_background": "light"
                },
                "image/png": "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\n",
                "text/plain": "<Figure size 432x288 with 1 Axes>"
              }
            ],
            "_view_module": "@jupyter-widgets/output",
            "_model_module_version": "1.0.0",
            "_view_count": null,
            "_view_module_version": "1.0.0",
            "layout": "IPY_MODEL_0dba53d90d444888b36572fb51933d04",
            "_model_module": "@jupyter-widgets/output"
          }
        },
        "77063ca2d90045c7b416dccddf01d3ea": {
          "model_module": "@jupyter-widgets/controls",
          "model_name": "DescriptionStyleModel",
          "state": {
            "_view_name": "StyleView",
            "_model_name": "DescriptionStyleModel",
            "description_width": "",
            "_view_module": "@jupyter-widgets/base",
            "_model_module_version": "1.5.0",
            "_view_count": null,
            "_view_module_version": "1.2.0",
            "_model_module": "@jupyter-widgets/controls"
          }
        },
        "936c65b7654e4898a3b928054a16e133": {
          "model_module": "@jupyter-widgets/base",
          "model_name": "LayoutModel",
          "state": {
            "_view_name": "LayoutView",
            "grid_template_rows": null,
            "right": null,
            "justify_content": null,
            "_view_module": "@jupyter-widgets/base",
            "overflow": null,
            "_model_module_version": "1.2.0",
            "_view_count": null,
            "flex_flow": null,
            "width": null,
            "min_width": null,
            "border": null,
            "align_items": null,
            "bottom": null,
            "_model_module": "@jupyter-widgets/base",
            "top": null,
            "grid_column": null,
            "overflow_y": null,
            "overflow_x": null,
            "grid_auto_flow": null,
            "grid_area": null,
            "grid_template_columns": null,
            "flex": null,
            "_model_name": "LayoutModel",
            "justify_items": null,
            "grid_row": null,
            "max_height": null,
            "align_content": null,
            "visibility": null,
            "align_self": null,
            "height": null,
            "min_height": null,
            "padding": null,
            "grid_auto_rows": null,
            "grid_gap": null,
            "max_width": null,
            "order": null,
            "_view_module_version": "1.2.0",
            "grid_template_areas": null,
            "object_position": null,
            "object_fit": null,
            "grid_auto_columns": null,
            "margin": null,
            "display": null,
            "left": null
          }
        },
        "e9e83da4b0664452b44288baffce239a": {
          "model_module": "@jupyter-widgets/controls",
          "model_name": "ButtonStyleModel",
          "state": {
            "_view_name": "StyleView",
            "_model_name": "ButtonStyleModel",
            "_view_module": "@jupyter-widgets/base",
            "_model_module_version": "1.5.0",
            "_view_count": null,
            "button_color": null,
            "font_weight": "",
            "_view_module_version": "1.2.0",
            "_model_module": "@jupyter-widgets/controls"
          }
        },
        "7a6e1671e5324f1d92210dac99759dfa": {
          "model_module": "@jupyter-widgets/base",
          "model_name": "LayoutModel",
          "state": {
            "_view_name": "LayoutView",
            "grid_template_rows": null,
            "right": null,
            "justify_content": null,
            "_view_module": "@jupyter-widgets/base",
            "overflow": null,
            "_model_module_version": "1.2.0",
            "_view_count": null,
            "flex_flow": null,
            "width": null,
            "min_width": null,
            "border": null,
            "align_items": null,
            "bottom": null,
            "_model_module": "@jupyter-widgets/base",
            "top": null,
            "grid_column": null,
            "overflow_y": null,
            "overflow_x": null,
            "grid_auto_flow": null,
            "grid_area": null,
            "grid_template_columns": null,
            "flex": null,
            "_model_name": "LayoutModel",
            "justify_items": null,
            "grid_row": null,
            "max_height": null,
            "align_content": null,
            "visibility": null,
            "align_self": null,
            "height": null,
            "min_height": null,
            "padding": null,
            "grid_auto_rows": null,
            "grid_gap": null,
            "max_width": null,
            "order": null,
            "_view_module_version": "1.2.0",
            "grid_template_areas": null,
            "object_position": null,
            "object_fit": null,
            "grid_auto_columns": null,
            "margin": null,
            "display": null,
            "left": null
          }
        },
        "0dba53d90d444888b36572fb51933d04": {
          "model_module": "@jupyter-widgets/base",
          "model_name": "LayoutModel",
          "state": {
            "_view_name": "LayoutView",
            "grid_template_rows": null,
            "right": null,
            "justify_content": null,
            "_view_module": "@jupyter-widgets/base",
            "overflow": null,
            "_model_module_version": "1.2.0",
            "_view_count": null,
            "flex_flow": null,
            "width": null,
            "min_width": null,
            "border": null,
            "align_items": null,
            "bottom": null,
            "_model_module": "@jupyter-widgets/base",
            "top": null,
            "grid_column": null,
            "overflow_y": null,
            "overflow_x": null,
            "grid_auto_flow": null,
            "grid_area": null,
            "grid_template_columns": null,
            "flex": null,
            "_model_name": "LayoutModel",
            "justify_items": null,
            "grid_row": null,
            "max_height": null,
            "align_content": null,
            "visibility": null,
            "align_self": null,
            "height": null,
            "min_height": null,
            "padding": null,
            "grid_auto_rows": null,
            "grid_gap": null,
            "max_width": null,
            "order": null,
            "_view_module_version": "1.2.0",
            "grid_template_areas": null,
            "object_position": null,
            "object_fit": null,
            "grid_auto_columns": null,
            "margin": null,
            "display": null,
            "left": null
          }
        }
      }
    }
  },
  "cells": [
    {
      "cell_type": "markdown",
      "metadata": {
        "id": "view-in-github",
        "colab_type": "text"
      },
      "source": [
        "<a href=\"https://colab.research.google.com/github/yenlung/Python-3-Data-Analysis-Basics/blob/master/2020%E5%B7%A5%E7%A0%94%E9%99%A2Python%E6%95%B8%E6%93%9A%E5%88%86%E6%9E%90/Colab_loadNN.ipynb\" target=\"_parent\"><img src=\"https://colab.research.google.com/assets/colab-badge.svg\" alt=\"Open In Colab\"/></a>"
      ]
    },
    {
      "cell_type": "code",
      "metadata": {
        "id": "garT5xD1O_4H",
        "colab_type": "code",
        "colab": {}
      },
      "source": [
        "%matplotlib inline\n",
        "\n",
        "import numpy as np\n",
        "import matplotlib.pyplot as plt"
      ],
      "execution_count": 0,
      "outputs": []
    },
    {
      "cell_type": "code",
      "metadata": {
        "id": "o4bb0VfgPUh8",
        "colab_type": "code",
        "colab": {}
      },
      "source": [
        "from tensorflow.keras.models import load_model"
      ],
      "execution_count": 0,
      "outputs": []
    },
    {
      "cell_type": "code",
      "metadata": {
        "id": "ZcjqUMc-Pf8Y",
        "colab_type": "code",
        "colab": {}
      },
      "source": [
        "from google.colab import drive"
      ],
      "execution_count": 0,
      "outputs": []
    },
    {
      "cell_type": "code",
      "metadata": {
        "id": "n_UAngHxPp2i",
        "colab_type": "code",
        "colab": {
          "base_uri": "https://localhost:8080/",
          "height": 126
        },
        "outputId": "ef26293a-4ae1-4757-f707-5bce0b3baa47"
      },
      "source": [
        "drive.mount('/content/drive')"
      ],
      "execution_count": 6,
      "outputs": [
        {
          "output_type": "stream",
          "text": [
            "Go to this URL in a browser: https://accounts.google.com/o/oauth2/auth?client_id=947318989803-6bn6qk8qdgf4n4g3pfee6491hc0brc4i.apps.googleusercontent.com&redirect_uri=urn%3aietf%3awg%3aoauth%3a2.0%3aoob&response_type=code&scope=email%20https%3a%2f%2fwww.googleapis.com%2fauth%2fdocs.test%20https%3a%2f%2fwww.googleapis.com%2fauth%2fdrive%20https%3a%2f%2fwww.googleapis.com%2fauth%2fdrive.photos.readonly%20https%3a%2f%2fwww.googleapis.com%2fauth%2fpeopleapi.readonly\n",
            "\n",
            "Enter your authorization code:\n",
            "··········\n",
            "Mounted at /content/drive\n"
          ],
          "name": "stdout"
        }
      ]
    },
    {
      "cell_type": "code",
      "metadata": {
        "id": "ioAcn9YcP-nW",
        "colab_type": "code",
        "colab": {
          "base_uri": "https://localhost:8080/",
          "height": 35
        },
        "outputId": "fda691ce-0d21-4962-c40a-6f515c8ca86a"
      },
      "source": [
        "%cd '/content/drive/My Drive/Colab Notebooks'"
      ],
      "execution_count": 7,
      "outputs": [
        {
          "output_type": "stream",
          "text": [
            "/content/drive/My Drive/Colab Notebooks\n"
          ],
          "name": "stdout"
        }
      ]
    },
    {
      "cell_type": "code",
      "metadata": {
        "id": "ePh_EgTGQYWX",
        "colab_type": "code",
        "colab": {
          "base_uri": "https://localhost:8080/",
          "height": 407
        },
        "outputId": "2025b303-dad1-4cf1-8ec2-1093bff457f4"
      },
      "source": [
        "%ls"
      ],
      "execution_count": 8,
      "outputs": [
        {
          "output_type": "stream",
          "text": [
            "'01 Jupyter Notebook.ipynb'                  Untitled13.ipynb\n",
            "'01 Jupyter Notebook 環境'                   Untitled14.ipynb\n",
            "'abc (1).ipynb'                              Untitled15.ipynb\n",
            "'abc (2).ipynb'                              Untitled16.ipynb\n",
            " abc.ipynb                                   Untitled17.ipynb\n",
            " autoencoder.ipynb                           Untitled18.ipynb\n",
            " CNN手寫辨識.ipynb                           Untitled19.ipynb\n",
            " Colab_loadNN.ipynb                          Untitled1.ipynb\n",
            "'Copy of 07. 標準神經網路做手寫辨識.ipynb'   Untitled20.ipynb\n",
            "'Mpmath 的練習.ipynb'                        Untitled2.ipynb\n",
            " mynn01.h5                                   Untitled3.ipynb\n",
            " NN01.ipynb                                  Untitled4.ipynb\n",
            "'pylabinline Test.ipynb'                     Untitled5.ipynb\n",
            "'Quick Test.ipynb'                           Untitled6.ipynb\n",
            "'SymPy 的練習.ipynb'                         Untitled7.ipynb\n",
            " Tensorflow.ipynb                            Untitled8.ipynb\n",
            " Untitled                                    Untitled9.ipynb\n",
            " Untitled0.ipynb                             全連結神經網路.ipynb\n",
            "'Untitled (1)'                               又要取名字.ipynb\n",
            " Untitled10.ipynb                            在CoLab的試驗程式.ipynb\n",
            " Untitled11.ipynb                            矩陣.ipynb\n",
            " Untitled12.ipynb\n"
          ],
          "name": "stdout"
        }
      ]
    },
    {
      "cell_type": "code",
      "metadata": {
        "id": "REvW1K1IQb6b",
        "colab_type": "code",
        "colab": {}
      },
      "source": [
        "model = load_model('mynn01.h5')"
      ],
      "execution_count": 0,
      "outputs": []
    },
    {
      "cell_type": "code",
      "metadata": {
        "id": "2aBwc7tjQkZz",
        "colab_type": "code",
        "colab": {}
      },
      "source": [
        "from tensorflow.keras.datasets import mnist"
      ],
      "execution_count": 0,
      "outputs": []
    },
    {
      "cell_type": "code",
      "metadata": {
        "id": "ytVHfrYYQ2yG",
        "colab_type": "code",
        "colab": {
          "base_uri": "https://localhost:8080/",
          "height": 72
        },
        "outputId": "0d598848-21bb-4372-ff99-e87486ae9cf8"
      },
      "source": [
        "(x_train, y_train), (x_test, y_test) = mnist.load_data()"
      ],
      "execution_count": 11,
      "outputs": [
        {
          "output_type": "stream",
          "text": [
            "Downloading data from https://storage.googleapis.com/tensorflow/tf-keras-datasets/mnist.npz\n",
            "11493376/11490434 [==============================] - 0s 0us/step\n"
          ],
          "name": "stdout"
        }
      ]
    },
    {
      "cell_type": "code",
      "metadata": {
        "id": "r8ARRiXpQ91C",
        "colab_type": "code",
        "colab": {}
      },
      "source": [
        "x_test = x_test.reshape(10000, 784)/255"
      ],
      "execution_count": 0,
      "outputs": []
    },
    {
      "cell_type": "code",
      "metadata": {
        "id": "xW4-zMpnRSZO",
        "colab_type": "code",
        "colab": {
          "base_uri": "https://localhost:8080/",
          "height": 90
        },
        "outputId": "0434e831-1443-46e8-a7c9-d61c758327a1"
      },
      "source": [
        "y_pred = model.predict_classes(x_test)"
      ],
      "execution_count": 13,
      "outputs": [
        {
          "output_type": "stream",
          "text": [
            "WARNING:tensorflow:From <ipython-input-13-bae1a118294d>:1: Sequential.predict_classes (from tensorflow.python.keras.engine.sequential) is deprecated and will be removed after 2021-01-01.\n",
            "Instructions for updating:\n",
            "Please use instead:* `np.argmax(model.predict(x), axis=-1)`,   if your model does multi-class classification   (e.g. if it uses a `softmax` last-layer activation).* `(model.predict(x) > 0.5).astype(\"int32\")`,   if your model does binary classification   (e.g. if it uses a `sigmoid` last-layer activation).\n"
          ],
          "name": "stdout"
        }
      ]
    },
    {
      "cell_type": "code",
      "metadata": {
        "id": "yu6v-MCgRdth",
        "colab_type": "code",
        "colab": {
          "base_uri": "https://localhost:8080/",
          "height": 35
        },
        "outputId": "fdce0fa5-3312-401b-cccb-35141a6354be"
      },
      "source": [
        "y_pred"
      ],
      "execution_count": 14,
      "outputs": [
        {
          "output_type": "execute_result",
          "data": {
            "text/plain": [
              "array([7, 2, 1, ..., 4, 8, 6])"
            ]
          },
          "metadata": {
            "tags": []
          },
          "execution_count": 14
        }
      ]
    },
    {
      "cell_type": "code",
      "metadata": {
        "id": "B-bbT4Z2Rfkd",
        "colab_type": "code",
        "colab": {}
      },
      "source": [
        "def myNN(n):\n",
        "  k = int(n)\n",
        "  print('可愛神經網路預測', y_pred[k])\n",
        "  plt.imshow(x_test[k].reshape(28,28), cmap='Greys')"
      ],
      "execution_count": 0,
      "outputs": []
    },
    {
      "cell_type": "code",
      "metadata": {
        "id": "DE7sGORNR0E1",
        "colab_type": "code",
        "colab": {
          "base_uri": "https://localhost:8080/",
          "height": 283
        },
        "outputId": "30fd5b35-1622-4d03-c60a-e96ef0f62f54"
      },
      "source": [
        "myNN(9487)"
      ],
      "execution_count": 17,
      "outputs": [
        {
          "output_type": "stream",
          "text": [
            "可愛神經網路預測 2\n"
          ],
          "name": "stdout"
        },
        {
          "output_type": "display_data",
          "data": {
            "image/png": "[encoded data removed]",
            "text/plain": [
              "<Figure size 432x288 with 1 Axes>"
            ]
          },
          "metadata": {
            "tags": [],
            "needs_background": "light"
          }
        }
      ]
    },
    {
      "cell_type": "code",
      "metadata": {
        "id": "POsgTcogSZI0",
        "colab_type": "code",
        "colab": {}
      },
      "source": [
        "from ipywidgets import interact_manual"
      ],
      "execution_count": 0,
      "outputs": []
    },
    {
      "cell_type": "code",
      "metadata": {
        "id": "zrmArpAOS7G_",
        "colab_type": "code",
        "colab": {
          "base_uri": "https://localhost:8080/",
          "height": 364,
          "referenced_widgets": [
            "11d9e65f1a4e4c9e8558445c1584fb53",
            "8febe693a7ac4497acd6e440a48689eb",
            "52a6c6fe03674ce4bb54385d5dbf4540",
            "b62db70fda8e4608b1963ca188744fca",
            "0820c7b4b388450db987bbeac154a1cd",
            "2cab65f737ae43d7aa6adc019232077b",
            "9ac6e7c0db534c0291c02daad11e9504",
            "eb2f6560316d4b25a8a7c8e0f281eeef",
            "a4c847dd7e964797a71cdc3ce64535eb",
            "24ee31cdf82143dca4a9d8d8581468a5"
          ]
        },
        "outputId": "80b800e8-f9e3-4263-8c58-c9b5873286b3"
      },
      "source": [
        "interact_manual(myNN, n=(0,9999))"
      ],
      "execution_count": 19,
      "outputs": [
        {
          "output_type": "display_data",
          "data": {
            "application/vnd.jupyter.widget-view+json": {
              "model_id": "11d9e65f1a4e4c9e8558445c1584fb53",
              "version_minor": 0,
              "version_major": 2
            },
            "text/plain": [
              "interactive(children=(IntSlider(value=4999, description='n', max=9999), Button(description='Run Interact', sty…"
            ]
          },
          "metadata": {
            "tags": []
          }
        },
        {
          "output_type": "execute_result",
          "data": {
            "text/plain": [
              "<function __main__.myNN>"
            ]
          },
          "metadata": {
            "tags": []
          },
          "execution_count": 19
        }
      ]
    },
    {
      "cell_type": "code",
      "metadata": {
        "id": "GAqI3qpfTFA0",
        "colab_type": "code",
        "colab": {
          "base_uri": "https://localhost:8080/",
          "height": 347,
          "referenced_widgets": [
            "2f497ce07d2d43be8c426075869435d4",
            "d6ca70890a6040eb89fbf016350b8d3a",
            "f09e7e422ecb462080c941b10a928c1c",
            "2d6b5fc2626c44b48f4e1e4cc088b4fb",
            "e4f35f3daa924ad78f07b844f27a0883",
            "77063ca2d90045c7b416dccddf01d3ea",
            "936c65b7654e4898a3b928054a16e133",
            "e9e83da4b0664452b44288baffce239a",
            "7a6e1671e5324f1d92210dac99759dfa",
            "0dba53d90d444888b36572fb51933d04"
          ]
        },
        "outputId": "5df73ee5-471d-496a-d69c-efe4e662b815"
      },
      "source": [
        "interact_manual(myNN, n=\"請輸入數據編號 (0-9999)\");"
      ],
      "execution_count": 20,
      "outputs": [
        {
          "output_type": "display_data",
          "data": {
            "application/vnd.jupyter.widget-view+json": {
              "model_id": "2f497ce07d2d43be8c426075869435d4",
              "version_minor": 0,
              "version_major": 2
            },
            "text/plain": [
              "interactive(children=(Text(value='請輸入數據編號 (0-9999)', description='n'), Button(description='Run Interact', styl…"
            ]
          },
          "metadata": {
            "tags": []
          }
        }
      ]
    },
    {
      "cell_type": "code",
      "metadata": {
        "id": "_8kgo2c_TkPf",
        "colab_type": "code",
        "colab": {}
      },
      "source": [
        ""
      ],
      "execution_count": 0,
      "outputs": []
    }
  ]
}