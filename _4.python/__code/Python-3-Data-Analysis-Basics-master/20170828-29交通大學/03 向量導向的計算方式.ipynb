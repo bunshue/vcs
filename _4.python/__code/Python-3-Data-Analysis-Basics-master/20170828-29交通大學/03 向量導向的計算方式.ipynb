{
 "cells": [
  {
   "cell_type": "markdown",
   "metadata": {
    "collapsed": true
   },
   "source": [
    "# 向量導向的計算方式\n",
    "\n",
    "## 1. Python 正規套件讀法\n",
    "\n",
    "我們在一開始就用了一個魔術指令\n",
    "\n",
    "    %pylab inline\n",
    "    \n",
    "但這個其實現在不太建議, 因為會讓套件讀入有點混亂。主要讀入兩個套件\n",
    "\n",
    "* `matplotlib`: 畫圖的標準套件\n",
    "* `numpy`: 數學計算的標準套件\n",
    "\n",
    "而且用了很多種不同方式讀入, 我們現在導向「正規」方式。"
   ]
  },
  {
   "cell_type": "markdown",
   "metadata": {},
   "source": [
    "#### 標準套件讀入方式 1\n",
    "\n",
    "```python\n",
    "from 套件 import 指定函數\n",
    "```\n",
    "\n",
    "以後就可以直接用我們引入的函數! 比如說:\n",
    "\n",
    "```python\n",
    "from numpy import sin\n",
    "```\n",
    "\n",
    "以後可直接用 sin 函數。有些時候我們用:\n",
    "\n",
    "```python\n",
    "from 套件 import *\n",
    "```\n",
    "\n",
    "這就是那套件所有函數都進來! 這不太建議, 雖然用來方便。"
   ]
  },
  {
   "cell_type": "markdown",
   "metadata": {},
   "source": [
    "### 例子\n",
    "\n",
    "    from random import randint\n",
    "    from numpy.random import randint\n",
    "    \n",
    "這兩個看來一模一樣的, 其實有點小小差別。"
   ]
  },
  {
   "cell_type": "code",
   "execution_count": null,
   "metadata": {
    "collapsed": true
   },
   "outputs": [],
   "source": []
  },
  {
   "cell_type": "markdown",
   "metadata": {},
   "source": [
    "#### 套件標準讀入方式 2\n",
    "\n",
    "第二個方式也許是最標準的:\n",
    "\n",
    "```python\n",
    "import numpy\n",
    "```\n",
    "\n",
    "這樣我們可以不用先計畫好到底要哪些函數, 全都可以用而且也不會亂掉。因為比如要算 sin(3), 就會變成\n",
    "\n",
    "```python\n",
    "numpy.sin(3)\n",
    "```\n",
    "\n",
    "等等, 這有人會這樣做嗎? 這不會發瘋嗎? Python 還提供了縮寫, 我們自己愛怎麼叫這個套件就怎麼叫。有趣的是, 一些知名套件都有「標準」縮寫方式。用「正確」的方式人家都覺得我們是行家。比如說\n",
    "\n",
    "```python\n",
    "import numpy as np\n",
    "```\n",
    "\n",
    "這之後就可以用\n",
    "\n",
    "```python\n",
    "np.sin(3)\n",
    "```\n",
    "\n",
    "來算 sin(3) 了。"
   ]
  },
  {
   "cell_type": "code",
   "execution_count": null,
   "metadata": {
    "collapsed": true
   },
   "outputs": [],
   "source": []
  },
  {
   "cell_type": "markdown",
   "metadata": {},
   "source": [
    "#### 標準 Jupyter 數據分析設定\n",
    "\n",
    "以後一開始用 Jupyter 我們都打入這串, 大家就覺得我們是內行的。"
   ]
  },
  {
   "cell_type": "code",
   "execution_count": 2,
   "metadata": {
    "collapsed": true
   },
   "outputs": [],
   "source": [
    "%matplotlib inline\n",
    "import numpy as np\n",
    "import matplotlib.pyplot as plt"
   ]
  },
  {
   "cell_type": "code",
   "execution_count": null,
   "metadata": {
    "collapsed": true
   },
   "outputs": [],
   "source": []
  },
  {
   "cell_type": "markdown",
   "metadata": {},
   "source": [
    "## 2. Array 真是太炫了\n",
    "\n",
    "科學計算一個很核心的概念叫 \"array oriented\" 的寫法。Array 是 `numpy` 標準的資料結構, 和 list 很像, 但就差了那麼一點點。而這一點點讓我們在計算上是無比的方便。"
   ]
  },
  {
   "cell_type": "markdown",
   "metadata": {},
   "source": [
    "### 練習 (匯率換算)\n",
    "\n",
    "假設今天我想查查號稱 Pentax 三公主的 31mm, 43mm, 77mm 三隻 limited 鏡頭在美國賣多少。於是我去 B&H 查了他們的價格分別是:\n",
    "\n",
    "    prices = [1096.95, 596.95, 896.95]\n",
    "    \n",
    "我又查了 Google 匯率 1 美金為 30.11 元。請把三支鏡頭的價格換算為台幣。"
   ]
  },
  {
   "cell_type": "markdown",
   "metadata": {},
   "source": [
    "#### 解一: 迴圈版"
   ]
  },
  {
   "cell_type": "code",
   "execution_count": null,
   "metadata": {
    "collapsed": true
   },
   "outputs": [],
   "source": []
  },
  {
   "cell_type": "markdown",
   "metadata": {},
   "source": [
    "#### 解二: array 版"
   ]
  },
  {
   "cell_type": "code",
   "execution_count": null,
   "metadata": {
    "collapsed": true
   },
   "outputs": [],
   "source": []
  },
  {
   "cell_type": "markdown",
   "metadata": {},
   "source": [
    "### 練習 (成績計算)\n",
    "\n",
    "一位老師成績這樣算的:\n",
    "\n",
    "* 平時成績 20%\n",
    "* 期中考   35%\n",
    "* 期未考   45%\n",
    "\n",
    "有位同學\n",
    "\n",
    "* 平時成績 85 分\n",
    "* 期中 70 分\n",
    "* 期末 80 分\n",
    "\n",
    "這位同學的學期成績是多少?"
   ]
  },
  {
   "cell_type": "code",
   "execution_count": null,
   "metadata": {
    "collapsed": true
   },
   "outputs": [],
   "source": []
  },
  {
   "cell_type": "markdown",
   "metadata": {},
   "source": [
    "### 練習 (成績計算之 2)\n",
    "\n",
    "一個班上當然不只一位同學, 很多同學難道我們就需要 `for` 迴圈嗎?"
   ]
  },
  {
   "cell_type": "code",
   "execution_count": null,
   "metadata": {
    "collapsed": true
   },
   "outputs": [],
   "source": []
  },
  {
   "cell_type": "markdown",
   "metadata": {},
   "source": [
    "我們在類似的計算會用一個叫 `pandas` 的套件來做, 所以這裡不再多做說明。\n",
    "\n",
    "Andrew Ng (吳恩達) Deep Learning 課程第一門課、第二週有相當好的解說。\n",
    "\n",
    "[吳恩達 Coursera Deep Learning 課程](https://www.coursera.org/specializations/deep-learning)"
   ]
  },
  {
   "cell_type": "code",
   "execution_count": null,
   "metadata": {
    "collapsed": true
   },
   "outputs": [],
   "source": []
  },
  {
   "cell_type": "markdown",
   "metadata": {},
   "source": [
    "## 3. 重要的 array 大變身!\n",
    "\n",
    "我們在數據分析, 常常要改 array 的型式。"
   ]
  },
  {
   "cell_type": "code",
   "execution_count": null,
   "metadata": {
    "collapsed": true
   },
   "outputs": [],
   "source": []
  },
  {
   "cell_type": "markdown",
   "metadata": {},
   "source": [
    "## 4. Array 讓畫圖更方便\n",
    "\n",
    "這裡介紹用 array 來畫圖, 還有 subplots 的用法。"
   ]
  },
  {
   "cell_type": "code",
   "execution_count": null,
   "metadata": {
    "collapsed": true
   },
   "outputs": [],
   "source": []
  },
  {
   "cell_type": "markdown",
   "metadata": {},
   "source": [
    "## 5. 快取我們要的部份\n",
    "\n",
    "`array` 有個很有趣的用法..."
   ]
  },
  {
   "cell_type": "code",
   "execution_count": null,
   "metadata": {
    "collapsed": true
   },
   "outputs": [],
   "source": []
  }
 ],
 "metadata": {
  "kernelspec": {
   "display_name": "Python [conda root]",
   "language": "python",
   "name": "conda-root-py"
  },
  "language_info": {
   "codemirror_mode": {
    "name": "ipython",
    "version": 3
   },
   "file_extension": ".py",
   "mimetype": "text/x-python",
   "name": "python",
   "nbconvert_exporter": "python",
   "pygments_lexer": "ipython3",
   "version": "3.6.1"
  }
 },
 "nbformat": 4,
 "nbformat_minor": 2
}
