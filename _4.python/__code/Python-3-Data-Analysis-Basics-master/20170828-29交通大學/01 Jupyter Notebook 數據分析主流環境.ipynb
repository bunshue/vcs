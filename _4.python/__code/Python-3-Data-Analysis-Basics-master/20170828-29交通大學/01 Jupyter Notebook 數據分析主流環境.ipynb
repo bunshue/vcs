{
 "cells": [
  {
   "cell_type": "markdown",
   "metadata": {},
   "source": [
    "# Jupyter Notebook 數據分析主流環境\n",
    "\n",
    "這兩天的研習中, 我們會學到怎麼樣用 Python 做科學計算, 包括:\n",
    "\n",
    "* Jupyter Notebook 當今數據分析主流平台\n",
    "* Python 的基本語法\n",
    "* Numpy 科學計算的標準套件\n",
    "* Matplotlib 畫圖\n",
    "* Pandas 整理我們的數據\n",
    "* Scikit Learn 機器學習套件"
   ]
  },
  {
   "cell_type": "markdown",
   "metadata": {},
   "source": [
    "## 1. 安裝和使用\n",
    "\n",
    "到 Anaconda 官方網頁, 安裝 Python 3 的版本。\n",
    "\n",
    "[Anaconda 下載](https://www.continuum.io/downloads)\n",
    "\n",
    "在終端機 (或 Anaconda Prompt) , 進入自己的工作資料夾, 打入:\n",
    "\n",
    "    jupyter notebook"
   ]
  },
  {
   "cell_type": "markdown",
   "metadata": {},
   "source": [
    "## 2. Python 是比計算機方便的計算機"
   ]
  },
  {
   "cell_type": "code",
   "execution_count": null,
   "metadata": {
    "collapsed": true
   },
   "outputs": [],
   "source": []
  },
  {
   "cell_type": "markdown",
   "metadata": {},
   "source": [
    "## 3. Jupyter 的 Magic Command\n",
    "\n",
    "我們一開始介紹以後不會用的可怕指令\n",
    "\n",
    "    %pylab inline\n",
    "    \n",
    "其他值得注意的:\n",
    "\n",
    "    %cd\n",
    "    %ls\n",
    "    %pwd\n",
    "    "
   ]
  },
  {
   "cell_type": "code",
   "execution_count": null,
   "metadata": {
    "collapsed": true
   },
   "outputs": [],
   "source": []
  },
  {
   "cell_type": "markdown",
   "metadata": {},
   "source": [
    "#### 筆記\n",
    "\n",
    "`plot` 標準用法就是把 \n",
    "\n",
    "$$(x_1, y_1), (x_2, y_2), \\ldots (x_n, y_n)$$\n",
    "\n",
    "幾個點點上, 用線段連起來 (也就是折線圖)。指令的下法是把 x, y 座標分別收集起來:\n",
    "\n",
    "$$x = [x_1, x_2, \\ldots, x_n]$$\n",
    "\n",
    "$$y = [y_1, y_2, \\ldots, y_n]$$\n",
    "\n",
    "然後用\n",
    "\n",
    "    plot(x,y)\n",
    "    \n",
    "畫出來。"
   ]
  },
  {
   "cell_type": "markdown",
   "metadata": {},
   "source": [
    "## 4. 用 Markdown 語法方便筆記"
   ]
  },
  {
   "cell_type": "markdown",
   "metadata": {},
   "source": [
    "### 內文和標題"
   ]
  },
  {
   "cell_type": "markdown",
   "metadata": {
    "collapsed": true
   },
   "source": [
    "打一串的註解, 這樣我才知道在幹嘛"
   ]
  },
  {
   "cell_type": "markdown",
   "metadata": {},
   "source": [
    "# Jupyter Notebook 學習\n",
    "\n",
    "## 課程內容\n",
    "\n",
    "等等。"
   ]
  },
  {
   "cell_type": "code",
   "execution_count": null,
   "metadata": {
    "collapsed": true
   },
   "outputs": [],
   "source": []
  },
  {
   "cell_type": "markdown",
   "metadata": {},
   "source": [
    "### 條列"
   ]
  },
  {
   "cell_type": "markdown",
   "metadata": {
    "collapsed": true
   },
   "source": [
    "今天我們要學習\n",
    "\n",
    "* Python\n",
    "* Matplotlib\n",
    "* Numpy\n",
    "* 等等"
   ]
  },
  {
   "cell_type": "markdown",
   "metadata": {},
   "source": [
    "有數字 1, 2, 3, 的條列\n",
    "\n",
    "1. Python\n",
    "1. Matplotlib\n",
    "1. Numpy\n",
    "1. Pandas"
   ]
  },
  {
   "cell_type": "code",
   "execution_count": null,
   "metadata": {
    "collapsed": true
   },
   "outputs": [],
   "source": []
  },
  {
   "cell_type": "markdown",
   "metadata": {},
   "source": [
    "### 網頁連結\n",
    "\n",
    "    [網頁名稱](http://...)"
   ]
  },
  {
   "cell_type": "markdown",
   "metadata": {
    "collapsed": true
   },
   "source": [
    "\n",
    "[炎龍老師的教學網](http://yenlung.km.nccu.edu.tw)"
   ]
  },
  {
   "cell_type": "markdown",
   "metadata": {},
   "source": [
    "### 插入圖片\n",
    "\n",
    "    ![圖片提示](圖片完整路徑檔名)"
   ]
  },
  {
   "cell_type": "markdown",
   "metadata": {
    "collapsed": true
   },
   "source": [
    "![台灣黑熊](bear.png)"
   ]
  },
  {
   "cell_type": "markdown",
   "metadata": {},
   "source": [
    "### 數學符號"
   ]
  },
  {
   "cell_type": "markdown",
   "metadata": {
    "collapsed": true
   },
   "source": [
    "我們有一個函數 $f(x) = x^3 - 2x + 7$, 我們積分一下:\n",
    "\n",
    "$$S = \\int_a^b f(x) \\, dx$$"
   ]
  },
  {
   "cell_type": "code",
   "execution_count": null,
   "metadata": {
    "collapsed": true
   },
   "outputs": [],
   "source": []
  }
 ],
 "metadata": {
  "kernelspec": {
   "display_name": "Python [conda root]",
   "language": "python",
   "name": "conda-root-py"
  },
  "language_info": {
   "codemirror_mode": {
    "name": "ipython",
    "version": 3
   },
   "file_extension": ".py",
   "mimetype": "text/x-python",
   "name": "python",
   "nbconvert_exporter": "python",
   "pygments_lexer": "ipython3",
   "version": "3.6.3"
  }
 },
 "nbformat": 4,
 "nbformat_minor": 2
}
