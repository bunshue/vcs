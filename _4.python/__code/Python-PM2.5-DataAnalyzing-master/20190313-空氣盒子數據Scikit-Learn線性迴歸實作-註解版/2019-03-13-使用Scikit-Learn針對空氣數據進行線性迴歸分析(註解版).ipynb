{
 "cells": [
  {
   "cell_type": "markdown",
   "metadata": {},
   "source": [
    "## 載入套件"
   ]
  },
  {
   "cell_type": "code",
   "execution_count": 222,
   "metadata": {},
   "outputs": [],
   "source": [
    "import pandas as pd  \n",
    "import numpy as np  \n",
    "import matplotlib.pyplot as plt  \n",
    "import seaborn as sns\n",
    "#from sklearn.model_selection import train_test_split \n",
    "#from sklearn.linear_model import LinearRegression\n",
    "#from sklearn import metrics\n",
    "%matplotlib inline"
   ]
  },
  {
   "cell_type": "markdown",
   "metadata": {},
   "source": [
    "## 匯入練習資料"
   ]
  },
  {
   "cell_type": "code",
   "execution_count": 223,
   "metadata": {},
   "outputs": [],
   "source": [
    "df = pd.read_csv('200811-201811.csv')"
   ]
  },
  {
   "cell_type": "code",
   "execution_count": 224,
   "metadata": {},
   "outputs": [
    {
     "data": {
      "text/html": [
       "<div>\n",
       "<style scoped>\n",
       "    .dataframe tbody tr th:only-of-type {\n",
       "        vertical-align: middle;\n",
       "    }\n",
       "\n",
       "    .dataframe tbody tr th {\n",
       "        vertical-align: top;\n",
       "    }\n",
       "\n",
       "    .dataframe thead th {\n",
       "        text-align: right;\n",
       "    }\n",
       "</style>\n",
       "<table border=\"1\" class=\"dataframe\">\n",
       "  <thead>\n",
       "    <tr style=\"text-align: right;\">\n",
       "      <th></th>\n",
       "      <th>SO2</th>\n",
       "      <th>CO</th>\n",
       "      <th>O3</th>\n",
       "      <th>PM25</th>\n",
       "      <th>Nox</th>\n",
       "      <th>NO</th>\n",
       "      <th>NO2</th>\n",
       "      <th>THC</th>\n",
       "      <th>NMHC</th>\n",
       "      <th>CH4</th>\n",
       "      <th>WindSpeed</th>\n",
       "      <th>TEMP</th>\n",
       "      <th>Humidity</th>\n",
       "    </tr>\n",
       "  </thead>\n",
       "  <tbody>\n",
       "    <tr>\n",
       "      <th>0</th>\n",
       "      <td>4.4</td>\n",
       "      <td>0.47</td>\n",
       "      <td>32.2</td>\n",
       "      <td>31</td>\n",
       "      <td>24</td>\n",
       "      <td>3.46</td>\n",
       "      <td>20.84</td>\n",
       "      <td>2.309</td>\n",
       "      <td>0.231</td>\n",
       "      <td>2.078</td>\n",
       "      <td>1.91</td>\n",
       "      <td>24.86</td>\n",
       "      <td>77.11</td>\n",
       "    </tr>\n",
       "    <tr>\n",
       "      <th>1</th>\n",
       "      <td>6.4</td>\n",
       "      <td>0.52</td>\n",
       "      <td>30.2</td>\n",
       "      <td>32</td>\n",
       "      <td>32</td>\n",
       "      <td>5.64</td>\n",
       "      <td>26.30</td>\n",
       "      <td>2.186</td>\n",
       "      <td>0.227</td>\n",
       "      <td>1.959</td>\n",
       "      <td>1.72</td>\n",
       "      <td>26.58</td>\n",
       "      <td>71.93</td>\n",
       "    </tr>\n",
       "    <tr>\n",
       "      <th>2</th>\n",
       "      <td>3.2</td>\n",
       "      <td>0.45</td>\n",
       "      <td>30.5</td>\n",
       "      <td>46</td>\n",
       "      <td>20</td>\n",
       "      <td>2.36</td>\n",
       "      <td>18.05</td>\n",
       "      <td>0.000</td>\n",
       "      <td>0.000</td>\n",
       "      <td>0.000</td>\n",
       "      <td>2.08</td>\n",
       "      <td>24.75</td>\n",
       "      <td>76.33</td>\n",
       "    </tr>\n",
       "    <tr>\n",
       "      <th>3</th>\n",
       "      <td>5.2</td>\n",
       "      <td>0.47</td>\n",
       "      <td>32.5</td>\n",
       "      <td>38</td>\n",
       "      <td>24</td>\n",
       "      <td>3.18</td>\n",
       "      <td>20.64</td>\n",
       "      <td>2.374</td>\n",
       "      <td>0.225</td>\n",
       "      <td>2.150</td>\n",
       "      <td>1.66</td>\n",
       "      <td>24.97</td>\n",
       "      <td>79.97</td>\n",
       "    </tr>\n",
       "    <tr>\n",
       "      <th>4</th>\n",
       "      <td>4.5</td>\n",
       "      <td>0.72</td>\n",
       "      <td>29.9</td>\n",
       "      <td>32</td>\n",
       "      <td>29</td>\n",
       "      <td>5.43</td>\n",
       "      <td>23.82</td>\n",
       "      <td>2.290</td>\n",
       "      <td>0.287</td>\n",
       "      <td>2.004</td>\n",
       "      <td>1.03</td>\n",
       "      <td>26.18</td>\n",
       "      <td>73.78</td>\n",
       "    </tr>\n",
       "    <tr>\n",
       "      <th>5</th>\n",
       "      <td>3.7</td>\n",
       "      <td>0.48</td>\n",
       "      <td>35.3</td>\n",
       "      <td>30</td>\n",
       "      <td>21</td>\n",
       "      <td>2.20</td>\n",
       "      <td>18.95</td>\n",
       "      <td>2.202</td>\n",
       "      <td>0.179</td>\n",
       "      <td>2.023</td>\n",
       "      <td>2.08</td>\n",
       "      <td>24.58</td>\n",
       "      <td>79.22</td>\n",
       "    </tr>\n",
       "    <tr>\n",
       "      <th>6</th>\n",
       "      <td>4.8</td>\n",
       "      <td>0.63</td>\n",
       "      <td>30.4</td>\n",
       "      <td>34</td>\n",
       "      <td>31</td>\n",
       "      <td>5.94</td>\n",
       "      <td>25.24</td>\n",
       "      <td>2.233</td>\n",
       "      <td>0.228</td>\n",
       "      <td>2.005</td>\n",
       "      <td>1.78</td>\n",
       "      <td>25.64</td>\n",
       "      <td>72.95</td>\n",
       "    </tr>\n",
       "    <tr>\n",
       "      <th>7</th>\n",
       "      <td>2.9</td>\n",
       "      <td>0.56</td>\n",
       "      <td>33.1</td>\n",
       "      <td>35</td>\n",
       "      <td>26</td>\n",
       "      <td>2.96</td>\n",
       "      <td>23.17</td>\n",
       "      <td>2.287</td>\n",
       "      <td>0.252</td>\n",
       "      <td>2.035</td>\n",
       "      <td>1.55</td>\n",
       "      <td>25.85</td>\n",
       "      <td>70.83</td>\n",
       "    </tr>\n",
       "    <tr>\n",
       "      <th>8</th>\n",
       "      <td>3.0</td>\n",
       "      <td>0.45</td>\n",
       "      <td>31.2</td>\n",
       "      <td>40</td>\n",
       "      <td>22</td>\n",
       "      <td>3.81</td>\n",
       "      <td>17.81</td>\n",
       "      <td>2.188</td>\n",
       "      <td>0.213</td>\n",
       "      <td>1.975</td>\n",
       "      <td>1.89</td>\n",
       "      <td>24.49</td>\n",
       "      <td>77.84</td>\n",
       "    </tr>\n",
       "    <tr>\n",
       "      <th>9</th>\n",
       "      <td>1.8</td>\n",
       "      <td>0.35</td>\n",
       "      <td>33.1</td>\n",
       "      <td>24</td>\n",
       "      <td>10</td>\n",
       "      <td>1.54</td>\n",
       "      <td>8.22</td>\n",
       "      <td>0.000</td>\n",
       "      <td>0.000</td>\n",
       "      <td>0.000</td>\n",
       "      <td>0.96</td>\n",
       "      <td>25.25</td>\n",
       "      <td>76.11</td>\n",
       "    </tr>\n",
       "    <tr>\n",
       "      <th>10</th>\n",
       "      <td>5.0</td>\n",
       "      <td>0.40</td>\n",
       "      <td>41.0</td>\n",
       "      <td>38</td>\n",
       "      <td>18</td>\n",
       "      <td>1.90</td>\n",
       "      <td>16.16</td>\n",
       "      <td>2.201</td>\n",
       "      <td>0.103</td>\n",
       "      <td>2.098</td>\n",
       "      <td>2.11</td>\n",
       "      <td>25.53</td>\n",
       "      <td>76.27</td>\n",
       "    </tr>\n",
       "    <tr>\n",
       "      <th>11</th>\n",
       "      <td>3.7</td>\n",
       "      <td>0.51</td>\n",
       "      <td>34.6</td>\n",
       "      <td>35</td>\n",
       "      <td>21</td>\n",
       "      <td>3.36</td>\n",
       "      <td>17.43</td>\n",
       "      <td>2.197</td>\n",
       "      <td>0.171</td>\n",
       "      <td>2.027</td>\n",
       "      <td>2.16</td>\n",
       "      <td>24.77</td>\n",
       "      <td>77.40</td>\n",
       "    </tr>\n",
       "    <tr>\n",
       "      <th>12</th>\n",
       "      <td>4.5</td>\n",
       "      <td>0.44</td>\n",
       "      <td>47.1</td>\n",
       "      <td>28</td>\n",
       "      <td>20</td>\n",
       "      <td>1.61</td>\n",
       "      <td>18.52</td>\n",
       "      <td>2.235</td>\n",
       "      <td>0.201</td>\n",
       "      <td>2.034</td>\n",
       "      <td>1.97</td>\n",
       "      <td>26.14</td>\n",
       "      <td>73.20</td>\n",
       "    </tr>\n",
       "    <tr>\n",
       "      <th>13</th>\n",
       "      <td>5.0</td>\n",
       "      <td>0.44</td>\n",
       "      <td>43.7</td>\n",
       "      <td>35</td>\n",
       "      <td>18</td>\n",
       "      <td>1.76</td>\n",
       "      <td>16.17</td>\n",
       "      <td>2.353</td>\n",
       "      <td>0.176</td>\n",
       "      <td>2.177</td>\n",
       "      <td>1.52</td>\n",
       "      <td>26.17</td>\n",
       "      <td>78.20</td>\n",
       "    </tr>\n",
       "    <tr>\n",
       "      <th>14</th>\n",
       "      <td>4.1</td>\n",
       "      <td>0.38</td>\n",
       "      <td>53.8</td>\n",
       "      <td>29</td>\n",
       "      <td>12</td>\n",
       "      <td>0.85</td>\n",
       "      <td>11.24</td>\n",
       "      <td>2.184</td>\n",
       "      <td>0.094</td>\n",
       "      <td>2.090</td>\n",
       "      <td>2.22</td>\n",
       "      <td>26.63</td>\n",
       "      <td>74.09</td>\n",
       "    </tr>\n",
       "    <tr>\n",
       "      <th>15</th>\n",
       "      <td>3.8</td>\n",
       "      <td>0.53</td>\n",
       "      <td>45.0</td>\n",
       "      <td>30</td>\n",
       "      <td>20</td>\n",
       "      <td>1.61</td>\n",
       "      <td>18.72</td>\n",
       "      <td>2.239</td>\n",
       "      <td>0.224</td>\n",
       "      <td>2.015</td>\n",
       "      <td>1.73</td>\n",
       "      <td>27.35</td>\n",
       "      <td>66.75</td>\n",
       "    </tr>\n",
       "    <tr>\n",
       "      <th>16</th>\n",
       "      <td>6.7</td>\n",
       "      <td>0.47</td>\n",
       "      <td>43.7</td>\n",
       "      <td>29</td>\n",
       "      <td>25</td>\n",
       "      <td>3.49</td>\n",
       "      <td>21.17</td>\n",
       "      <td>2.155</td>\n",
       "      <td>0.186</td>\n",
       "      <td>1.969</td>\n",
       "      <td>1.82</td>\n",
       "      <td>27.80</td>\n",
       "      <td>67.62</td>\n",
       "    </tr>\n",
       "    <tr>\n",
       "      <th>17</th>\n",
       "      <td>1.9</td>\n",
       "      <td>0.34</td>\n",
       "      <td>43.3</td>\n",
       "      <td>24</td>\n",
       "      <td>8</td>\n",
       "      <td>0.98</td>\n",
       "      <td>6.81</td>\n",
       "      <td>0.000</td>\n",
       "      <td>0.000</td>\n",
       "      <td>0.000</td>\n",
       "      <td>1.02</td>\n",
       "      <td>26.31</td>\n",
       "      <td>75.42</td>\n",
       "    </tr>\n",
       "    <tr>\n",
       "      <th>18</th>\n",
       "      <td>5.0</td>\n",
       "      <td>0.64</td>\n",
       "      <td>43.7</td>\n",
       "      <td>29</td>\n",
       "      <td>24</td>\n",
       "      <td>3.06</td>\n",
       "      <td>20.79</td>\n",
       "      <td>2.252</td>\n",
       "      <td>0.242</td>\n",
       "      <td>2.011</td>\n",
       "      <td>0.96</td>\n",
       "      <td>27.13</td>\n",
       "      <td>70.88</td>\n",
       "    </tr>\n",
       "    <tr>\n",
       "      <th>19</th>\n",
       "      <td>5.1</td>\n",
       "      <td>0.57</td>\n",
       "      <td>44.3</td>\n",
       "      <td>29</td>\n",
       "      <td>26</td>\n",
       "      <td>3.37</td>\n",
       "      <td>22.28</td>\n",
       "      <td>2.237</td>\n",
       "      <td>0.195</td>\n",
       "      <td>2.042</td>\n",
       "      <td>1.65</td>\n",
       "      <td>27.01</td>\n",
       "      <td>69.31</td>\n",
       "    </tr>\n",
       "  </tbody>\n",
       "</table>\n",
       "</div>"
      ],
      "text/plain": [
       "    SO2    CO    O3  PM25  Nox    NO    NO2    THC   NMHC    CH4  WindSpeed  \\\n",
       "0   4.4  0.47  32.2    31   24  3.46  20.84  2.309  0.231  2.078       1.91   \n",
       "1   6.4  0.52  30.2    32   32  5.64  26.30  2.186  0.227  1.959       1.72   \n",
       "2   3.2  0.45  30.5    46   20  2.36  18.05  0.000  0.000  0.000       2.08   \n",
       "3   5.2  0.47  32.5    38   24  3.18  20.64  2.374  0.225  2.150       1.66   \n",
       "4   4.5  0.72  29.9    32   29  5.43  23.82  2.290  0.287  2.004       1.03   \n",
       "5   3.7  0.48  35.3    30   21  2.20  18.95  2.202  0.179  2.023       2.08   \n",
       "6   4.8  0.63  30.4    34   31  5.94  25.24  2.233  0.228  2.005       1.78   \n",
       "7   2.9  0.56  33.1    35   26  2.96  23.17  2.287  0.252  2.035       1.55   \n",
       "8   3.0  0.45  31.2    40   22  3.81  17.81  2.188  0.213  1.975       1.89   \n",
       "9   1.8  0.35  33.1    24   10  1.54   8.22  0.000  0.000  0.000       0.96   \n",
       "10  5.0  0.40  41.0    38   18  1.90  16.16  2.201  0.103  2.098       2.11   \n",
       "11  3.7  0.51  34.6    35   21  3.36  17.43  2.197  0.171  2.027       2.16   \n",
       "12  4.5  0.44  47.1    28   20  1.61  18.52  2.235  0.201  2.034       1.97   \n",
       "13  5.0  0.44  43.7    35   18  1.76  16.17  2.353  0.176  2.177       1.52   \n",
       "14  4.1  0.38  53.8    29   12  0.85  11.24  2.184  0.094  2.090       2.22   \n",
       "15  3.8  0.53  45.0    30   20  1.61  18.72  2.239  0.224  2.015       1.73   \n",
       "16  6.7  0.47  43.7    29   25  3.49  21.17  2.155  0.186  1.969       1.82   \n",
       "17  1.9  0.34  43.3    24    8  0.98   6.81  0.000  0.000  0.000       1.02   \n",
       "18  5.0  0.64  43.7    29   24  3.06  20.79  2.252  0.242  2.011       0.96   \n",
       "19  5.1  0.57  44.3    29   26  3.37  22.28  2.237  0.195  2.042       1.65   \n",
       "\n",
       "     TEMP  Humidity  \n",
       "0   24.86     77.11  \n",
       "1   26.58     71.93  \n",
       "2   24.75     76.33  \n",
       "3   24.97     79.97  \n",
       "4   26.18     73.78  \n",
       "5   24.58     79.22  \n",
       "6   25.64     72.95  \n",
       "7   25.85     70.83  \n",
       "8   24.49     77.84  \n",
       "9   25.25     76.11  \n",
       "10  25.53     76.27  \n",
       "11  24.77     77.40  \n",
       "12  26.14     73.20  \n",
       "13  26.17     78.20  \n",
       "14  26.63     74.09  \n",
       "15  27.35     66.75  \n",
       "16  27.80     67.62  \n",
       "17  26.31     75.42  \n",
       "18  27.13     70.88  \n",
       "19  27.01     69.31  "
      ]
     },
     "execution_count": 224,
     "metadata": {},
     "output_type": "execute_result"
    }
   ],
   "source": [
    "df.head(20)"
   ]
  },
  {
   "cell_type": "code",
   "execution_count": 225,
   "metadata": {},
   "outputs": [
    {
     "name": "stdout",
     "output_type": "stream",
     "text": [
      "<class 'pandas.core.frame.DataFrame'>\n",
      "RangeIndex: 1447 entries, 0 to 1446\n",
      "Data columns (total 13 columns):\n",
      "SO2          1447 non-null float64\n",
      "CO           1447 non-null float64\n",
      "O3           1447 non-null float64\n",
      "PM25         1447 non-null int64\n",
      "Nox          1447 non-null int64\n",
      "NO           1447 non-null float64\n",
      "NO2          1447 non-null float64\n",
      "THC          1447 non-null float64\n",
      "NMHC         1447 non-null float64\n",
      "CH4          1447 non-null float64\n",
      "WindSpeed    1447 non-null float64\n",
      "TEMP         1447 non-null float64\n",
      "Humidity     1447 non-null float64\n",
      "dtypes: float64(11), int64(2)\n",
      "memory usage: 147.0 KB\n"
     ]
    }
   ],
   "source": [
    "df.info()"
   ]
  },
  {
   "cell_type": "code",
   "execution_count": 226,
   "metadata": {},
   "outputs": [
    {
     "data": {
      "text/html": [
       "<div>\n",
       "<style scoped>\n",
       "    .dataframe tbody tr th:only-of-type {\n",
       "        vertical-align: middle;\n",
       "    }\n",
       "\n",
       "    .dataframe tbody tr th {\n",
       "        vertical-align: top;\n",
       "    }\n",
       "\n",
       "    .dataframe thead th {\n",
       "        text-align: right;\n",
       "    }\n",
       "</style>\n",
       "<table border=\"1\" class=\"dataframe\">\n",
       "  <thead>\n",
       "    <tr style=\"text-align: right;\">\n",
       "      <th></th>\n",
       "      <th>SO2</th>\n",
       "      <th>CO</th>\n",
       "      <th>O3</th>\n",
       "      <th>PM25</th>\n",
       "      <th>Nox</th>\n",
       "      <th>NO</th>\n",
       "      <th>NO2</th>\n",
       "      <th>THC</th>\n",
       "      <th>NMHC</th>\n",
       "      <th>CH4</th>\n",
       "      <th>WindSpeed</th>\n",
       "      <th>TEMP</th>\n",
       "      <th>Humidity</th>\n",
       "    </tr>\n",
       "  </thead>\n",
       "  <tbody>\n",
       "    <tr>\n",
       "      <th>count</th>\n",
       "      <td>1447.000000</td>\n",
       "      <td>1447.000000</td>\n",
       "      <td>1447.000000</td>\n",
       "      <td>1447.000000</td>\n",
       "      <td>1447.000000</td>\n",
       "      <td>1447.000000</td>\n",
       "      <td>1447.000000</td>\n",
       "      <td>1447.000000</td>\n",
       "      <td>1447.000000</td>\n",
       "      <td>1447.000000</td>\n",
       "      <td>1447.000000</td>\n",
       "      <td>1447.000000</td>\n",
       "      <td>1447.000000</td>\n",
       "    </tr>\n",
       "    <tr>\n",
       "      <th>mean</th>\n",
       "      <td>5.393780</td>\n",
       "      <td>0.475073</td>\n",
       "      <td>28.741811</td>\n",
       "      <td>34.408431</td>\n",
       "      <td>22.619903</td>\n",
       "      <td>4.491175</td>\n",
       "      <td>18.124202</td>\n",
       "      <td>1.464091</td>\n",
       "      <td>0.148995</td>\n",
       "      <td>1.315270</td>\n",
       "      <td>0.944368</td>\n",
       "      <td>12.400663</td>\n",
       "      <td>74.314603</td>\n",
       "    </tr>\n",
       "    <tr>\n",
       "      <th>std</th>\n",
       "      <td>2.455167</td>\n",
       "      <td>0.181656</td>\n",
       "      <td>7.819648</td>\n",
       "      <td>16.745091</td>\n",
       "      <td>9.629188</td>\n",
       "      <td>2.618546</td>\n",
       "      <td>7.484773</td>\n",
       "      <td>1.005049</td>\n",
       "      <td>0.130524</td>\n",
       "      <td>0.899127</td>\n",
       "      <td>0.994151</td>\n",
       "      <td>13.162018</td>\n",
       "      <td>4.737597</td>\n",
       "    </tr>\n",
       "    <tr>\n",
       "      <th>min</th>\n",
       "      <td>0.000000</td>\n",
       "      <td>0.000000</td>\n",
       "      <td>0.000000</td>\n",
       "      <td>0.000000</td>\n",
       "      <td>0.000000</td>\n",
       "      <td>0.000000</td>\n",
       "      <td>0.000000</td>\n",
       "      <td>0.000000</td>\n",
       "      <td>0.000000</td>\n",
       "      <td>0.000000</td>\n",
       "      <td>0.000000</td>\n",
       "      <td>0.000000</td>\n",
       "      <td>0.000000</td>\n",
       "    </tr>\n",
       "    <tr>\n",
       "      <th>25%</th>\n",
       "      <td>3.700000</td>\n",
       "      <td>0.340000</td>\n",
       "      <td>22.900000</td>\n",
       "      <td>21.000000</td>\n",
       "      <td>16.000000</td>\n",
       "      <td>2.710000</td>\n",
       "      <td>12.395000</td>\n",
       "      <td>0.000000</td>\n",
       "      <td>0.000000</td>\n",
       "      <td>0.000000</td>\n",
       "      <td>0.000000</td>\n",
       "      <td>0.000000</td>\n",
       "      <td>71.595000</td>\n",
       "    </tr>\n",
       "    <tr>\n",
       "      <th>50%</th>\n",
       "      <td>4.900000</td>\n",
       "      <td>0.470000</td>\n",
       "      <td>28.200000</td>\n",
       "      <td>35.000000</td>\n",
       "      <td>21.000000</td>\n",
       "      <td>3.940000</td>\n",
       "      <td>17.360000</td>\n",
       "      <td>2.017000</td>\n",
       "      <td>0.156000</td>\n",
       "      <td>1.845000</td>\n",
       "      <td>0.820000</td>\n",
       "      <td>0.000000</td>\n",
       "      <td>74.390000</td>\n",
       "    </tr>\n",
       "    <tr>\n",
       "      <th>75%</th>\n",
       "      <td>6.600000</td>\n",
       "      <td>0.580000</td>\n",
       "      <td>33.400000</td>\n",
       "      <td>47.000000</td>\n",
       "      <td>28.000000</td>\n",
       "      <td>5.525000</td>\n",
       "      <td>23.510000</td>\n",
       "      <td>2.201500</td>\n",
       "      <td>0.233000</td>\n",
       "      <td>1.971000</td>\n",
       "      <td>1.935000</td>\n",
       "      <td>26.630000</td>\n",
       "      <td>77.375000</td>\n",
       "    </tr>\n",
       "    <tr>\n",
       "      <th>max</th>\n",
       "      <td>17.100000</td>\n",
       "      <td>1.230000</td>\n",
       "      <td>58.500000</td>\n",
       "      <td>79.000000</td>\n",
       "      <td>56.000000</td>\n",
       "      <td>18.200000</td>\n",
       "      <td>40.310000</td>\n",
       "      <td>2.760000</td>\n",
       "      <td>0.753000</td>\n",
       "      <td>2.260000</td>\n",
       "      <td>2.940000</td>\n",
       "      <td>31.330000</td>\n",
       "      <td>90.260000</td>\n",
       "    </tr>\n",
       "  </tbody>\n",
       "</table>\n",
       "</div>"
      ],
      "text/plain": [
       "               SO2           CO           O3         PM25          Nox  \\\n",
       "count  1447.000000  1447.000000  1447.000000  1447.000000  1447.000000   \n",
       "mean      5.393780     0.475073    28.741811    34.408431    22.619903   \n",
       "std       2.455167     0.181656     7.819648    16.745091     9.629188   \n",
       "min       0.000000     0.000000     0.000000     0.000000     0.000000   \n",
       "25%       3.700000     0.340000    22.900000    21.000000    16.000000   \n",
       "50%       4.900000     0.470000    28.200000    35.000000    21.000000   \n",
       "75%       6.600000     0.580000    33.400000    47.000000    28.000000   \n",
       "max      17.100000     1.230000    58.500000    79.000000    56.000000   \n",
       "\n",
       "                NO          NO2          THC         NMHC          CH4  \\\n",
       "count  1447.000000  1447.000000  1447.000000  1447.000000  1447.000000   \n",
       "mean      4.491175    18.124202     1.464091     0.148995     1.315270   \n",
       "std       2.618546     7.484773     1.005049     0.130524     0.899127   \n",
       "min       0.000000     0.000000     0.000000     0.000000     0.000000   \n",
       "25%       2.710000    12.395000     0.000000     0.000000     0.000000   \n",
       "50%       3.940000    17.360000     2.017000     0.156000     1.845000   \n",
       "75%       5.525000    23.510000     2.201500     0.233000     1.971000   \n",
       "max      18.200000    40.310000     2.760000     0.753000     2.260000   \n",
       "\n",
       "         WindSpeed         TEMP     Humidity  \n",
       "count  1447.000000  1447.000000  1447.000000  \n",
       "mean      0.944368    12.400663    74.314603  \n",
       "std       0.994151    13.162018     4.737597  \n",
       "min       0.000000     0.000000     0.000000  \n",
       "25%       0.000000     0.000000    71.595000  \n",
       "50%       0.820000     0.000000    74.390000  \n",
       "75%       1.935000    26.630000    77.375000  \n",
       "max       2.940000    31.330000    90.260000  "
      ]
     },
     "execution_count": 226,
     "metadata": {},
     "output_type": "execute_result"
    }
   ],
   "source": [
    "df.describe()"
   ]
  },
  {
   "cell_type": "markdown",
   "metadata": {},
   "source": [
    "## 用圖表探索資料"
   ]
  },
  {
   "cell_type": "markdown",
   "metadata": {},
   "source": [
    "**利用distplot來看PM2.5主要集中的區間**"
   ]
  },
  {
   "cell_type": "code",
   "execution_count": 227,
   "metadata": {},
   "outputs": [
    {
     "data": {
      "text/plain": [
       "<matplotlib.axes._subplots.AxesSubplot at 0x2eadfd68>"
      ]
     },
     "execution_count": 227,
     "metadata": {},
     "output_type": "execute_result"
    },
    {
     "data": {
      "image/png": "[encoded data removed]",
      "text/plain": [
       "<Figure size 432x288 with 1 Axes>"
      ]
     },
     "metadata": {
      "needs_background": "light"
     },
     "output_type": "display_data"
    }
   ],
   "source": [
    "sns.distplot(df['PM25'])"
   ]
  },
  {
   "cell_type": "markdown",
   "metadata": {},
   "source": [
    "**利用df.corr()先做出各變數間的關係係數，再用heatmap作圖**"
   ]
  },
  {
   "cell_type": "code",
   "execution_count": 228,
   "metadata": {},
   "outputs": [
    {
     "data": {
      "text/plain": [
       "<matplotlib.axes._subplots.AxesSubplot at 0x2ead6518>"
      ]
     },
     "execution_count": 228,
     "metadata": {},
     "output_type": "execute_result"
    },
    {
     "data": {
      "image/png": "[encoded data removed]",
      "text/plain": [
       "<Figure size 432x288 with 2 Axes>"
      ]
     },
     "metadata": {
      "needs_background": "light"
     },
     "output_type": "display_data"
    }
   ],
   "source": [
    "sns.heatmap(df.corr())"
   ]
  },
  {
   "cell_type": "markdown",
   "metadata": {},
   "source": [
    "## 訓練線性模型"
   ]
  },
  {
   "cell_type": "code",
   "execution_count": 229,
   "metadata": {},
   "outputs": [
    {
     "data": {
      "text/plain": [
       "Index(['SO2', 'CO', 'O3', 'PM25', 'Nox', 'NO', 'NO2', 'THC', 'NMHC', 'CH4',\n",
       "       'WindSpeed', 'TEMP', 'Humidity'],\n",
       "      dtype='object')"
      ]
     },
     "execution_count": 229,
     "metadata": {},
     "output_type": "execute_result"
    }
   ],
   "source": [
    "df.columns"
   ]
  },
  {
   "cell_type": "markdown",
   "metadata": {},
   "source": [
    "**X是想探索的自變數，Y是依變數。**"
   ]
  },
  {
   "cell_type": "code",
   "execution_count": 230,
   "metadata": {},
   "outputs": [],
   "source": [
    "X = df[['SO2', 'CO', 'O3',  'Nox', 'NO', 'NO2', 'THC', 'NMHC', 'CH4',\n",
    "       'WindSpeed', 'TEMP', 'Humidity']]\n",
    "y = df['PM25']"
   ]
  },
  {
   "cell_type": "markdown",
   "metadata": {},
   "source": [
    "**將資料分成訓練組及測試組**"
   ]
  },
  {
   "cell_type": "code",
   "execution_count": 231,
   "metadata": {},
   "outputs": [],
   "source": [
    "from sklearn.model_selection import train_test_split"
   ]
  },
  {
   "cell_type": "markdown",
   "metadata": {},
   "source": [
    "**test_size代表測試組比例。random_state代表設定隨機種子，讓測試結果可被重複**"
   ]
  },
  {
   "cell_type": "code",
   "execution_count": 232,
   "metadata": {},
   "outputs": [],
   "source": [
    "X_train, X_test, y_train, y_test = train_test_split(X, y, test_size=0.4, random_state=101)"
   ]
  },
  {
   "cell_type": "markdown",
   "metadata": {},
   "source": [
    "**載入線性迴歸，並訓練模型**"
   ]
  },
  {
   "cell_type": "code",
   "execution_count": 233,
   "metadata": {},
   "outputs": [
    {
     "data": {
      "text/plain": [
       "LinearRegression(copy_X=True, fit_intercept=True, n_jobs=None,\n",
       "         normalize=False)"
      ]
     },
     "execution_count": 233,
     "metadata": {},
     "output_type": "execute_result"
    }
   ],
   "source": [
    "from sklearn.linear_model import LinearRegression\n",
    "lm = LinearRegression()\n",
    "lm.fit(X_train,y_train)"
   ]
  },
  {
   "cell_type": "code",
   "execution_count": 234,
   "metadata": {},
   "outputs": [],
   "source": [
    "y_pred = lm.predict(X_test)"
   ]
  },
  {
   "cell_type": "markdown",
   "metadata": {},
   "source": [
    "**取得截距。如果公式是y=ax+b，b即是截距**"
   ]
  },
  {
   "cell_type": "code",
   "execution_count": 235,
   "metadata": {},
   "outputs": [
    {
     "name": "stdout",
     "output_type": "stream",
     "text": [
      "截距b: 4.194703731759336\n"
     ]
    }
   ],
   "source": [
    "print('截距b:',lm.intercept_)"
   ]
  },
  {
   "cell_type": "markdown",
   "metadata": {},
   "source": [
    "**取得迴歸係數，並用Data Frame顯示**"
   ]
  },
  {
   "cell_type": "code",
   "execution_count": 236,
   "metadata": {},
   "outputs": [
    {
     "data": {
      "text/plain": [
       "array([-6.98788202e-01,  4.90313211e+00,  5.89798609e-01, -6.18576364e-01,\n",
       "        5.67911565e-01,  2.21597165e+00, -2.79568749e+02,  2.69027186e+02,\n",
       "        2.79256384e+02, -4.36464663e-01, -4.63757074e-01, -8.03178789e-02])"
      ]
     },
     "execution_count": 236,
     "metadata": {},
     "output_type": "execute_result"
    }
   ],
   "source": [
    "lm.coef_"
   ]
  },
  {
   "cell_type": "markdown",
   "metadata": {},
   "source": [
    "**列出訓練的變數**"
   ]
  },
  {
   "cell_type": "code",
   "execution_count": 237,
   "metadata": {},
   "outputs": [
    {
     "data": {
      "text/plain": [
       "Index(['SO2', 'CO', 'O3', 'Nox', 'NO', 'NO2', 'THC', 'NMHC', 'CH4',\n",
       "       'WindSpeed', 'TEMP', 'Humidity'],\n",
       "      dtype='object')"
      ]
     },
     "execution_count": 237,
     "metadata": {},
     "output_type": "execute_result"
    }
   ],
   "source": [
    "X_train.columns"
   ]
  },
  {
   "cell_type": "markdown",
   "metadata": {},
   "source": [
    "## 預測"
   ]
  },
  {
   "cell_type": "markdown",
   "metadata": {},
   "source": [
    "**使用測試組資料來預測結果**\n"
   ]
  },
  {
   "cell_type": "code",
   "execution_count": 238,
   "metadata": {},
   "outputs": [],
   "source": [
    "predictions = lm.predict(X_test)"
   ]
  },
  {
   "cell_type": "code",
   "execution_count": 239,
   "metadata": {},
   "outputs": [],
   "source": [
    "df = pd.DataFrame({'Actual': y_test, 'Predicted': y_pred})\n",
    "\n",
    "df1 = df.head(20)"
   ]
  },
  {
   "cell_type": "code",
   "execution_count": 240,
   "metadata": {},
   "outputs": [
    {
     "data": {
      "text/html": [
       "<div>\n",
       "<style scoped>\n",
       "    .dataframe tbody tr th:only-of-type {\n",
       "        vertical-align: middle;\n",
       "    }\n",
       "\n",
       "    .dataframe tbody tr th {\n",
       "        vertical-align: top;\n",
       "    }\n",
       "\n",
       "    .dataframe thead th {\n",
       "        text-align: right;\n",
       "    }\n",
       "</style>\n",
       "<table border=\"1\" class=\"dataframe\">\n",
       "  <thead>\n",
       "    <tr style=\"text-align: right;\">\n",
       "      <th></th>\n",
       "      <th>Actual</th>\n",
       "      <th>Predicted</th>\n",
       "    </tr>\n",
       "  </thead>\n",
       "  <tbody>\n",
       "    <tr>\n",
       "      <th>134</th>\n",
       "      <td>33</td>\n",
       "      <td>38.123666</td>\n",
       "    </tr>\n",
       "    <tr>\n",
       "      <th>337</th>\n",
       "      <td>11</td>\n",
       "      <td>10.122959</td>\n",
       "    </tr>\n",
       "    <tr>\n",
       "      <th>795</th>\n",
       "      <td>24</td>\n",
       "      <td>32.257548</td>\n",
       "    </tr>\n",
       "    <tr>\n",
       "      <th>115</th>\n",
       "      <td>41</td>\n",
       "      <td>30.548681</td>\n",
       "    </tr>\n",
       "    <tr>\n",
       "      <th>70</th>\n",
       "      <td>9</td>\n",
       "      <td>17.025202</td>\n",
       "    </tr>\n",
       "    <tr>\n",
       "      <th>81</th>\n",
       "      <td>8</td>\n",
       "      <td>13.795380</td>\n",
       "    </tr>\n",
       "    <tr>\n",
       "      <th>713</th>\n",
       "      <td>57</td>\n",
       "      <td>67.452836</td>\n",
       "    </tr>\n",
       "    <tr>\n",
       "      <th>374</th>\n",
       "      <td>24</td>\n",
       "      <td>15.417207</td>\n",
       "    </tr>\n",
       "    <tr>\n",
       "      <th>1030</th>\n",
       "      <td>44</td>\n",
       "      <td>44.050396</td>\n",
       "    </tr>\n",
       "    <tr>\n",
       "      <th>1141</th>\n",
       "      <td>60</td>\n",
       "      <td>60.343275</td>\n",
       "    </tr>\n",
       "    <tr>\n",
       "      <th>475</th>\n",
       "      <td>8</td>\n",
       "      <td>11.680019</td>\n",
       "    </tr>\n",
       "    <tr>\n",
       "      <th>224</th>\n",
       "      <td>23</td>\n",
       "      <td>27.689480</td>\n",
       "    </tr>\n",
       "    <tr>\n",
       "      <th>18</th>\n",
       "      <td>29</td>\n",
       "      <td>40.981670</td>\n",
       "    </tr>\n",
       "    <tr>\n",
       "      <th>856</th>\n",
       "      <td>51</td>\n",
       "      <td>45.750445</td>\n",
       "    </tr>\n",
       "    <tr>\n",
       "      <th>90</th>\n",
       "      <td>22</td>\n",
       "      <td>26.685953</td>\n",
       "    </tr>\n",
       "    <tr>\n",
       "      <th>1012</th>\n",
       "      <td>45</td>\n",
       "      <td>45.962751</td>\n",
       "    </tr>\n",
       "    <tr>\n",
       "      <th>0</th>\n",
       "      <td>31</td>\n",
       "      <td>34.075856</td>\n",
       "    </tr>\n",
       "    <tr>\n",
       "      <th>212</th>\n",
       "      <td>8</td>\n",
       "      <td>2.375937</td>\n",
       "    </tr>\n",
       "    <tr>\n",
       "      <th>628</th>\n",
       "      <td>12</td>\n",
       "      <td>11.493624</td>\n",
       "    </tr>\n",
       "    <tr>\n",
       "      <th>194</th>\n",
       "      <td>17</td>\n",
       "      <td>5.178435</td>\n",
       "    </tr>\n",
       "  </tbody>\n",
       "</table>\n",
       "</div>"
      ],
      "text/plain": [
       "      Actual  Predicted\n",
       "134       33  38.123666\n",
       "337       11  10.122959\n",
       "795       24  32.257548\n",
       "115       41  30.548681\n",
       "70         9  17.025202\n",
       "81         8  13.795380\n",
       "713       57  67.452836\n",
       "374       24  15.417207\n",
       "1030      44  44.050396\n",
       "1141      60  60.343275\n",
       "475        8  11.680019\n",
       "224       23  27.689480\n",
       "18        29  40.981670\n",
       "856       51  45.750445\n",
       "90        22  26.685953\n",
       "1012      45  45.962751\n",
       "0         31  34.075856\n",
       "212        8   2.375937\n",
       "628       12  11.493624\n",
       "194       17   5.178435"
      ]
     },
     "execution_count": 240,
     "metadata": {},
     "output_type": "execute_result"
    }
   ],
   "source": [
    "df1"
   ]
  },
  {
   "cell_type": "markdown",
   "metadata": {},
   "source": [
    "**比較實際PM2.5及預測PM2.5的關係**"
   ]
  },
  {
   "cell_type": "code",
   "execution_count": 241,
   "metadata": {},
   "outputs": [
    {
     "data": {
      "text/plain": [
       "<matplotlib.collections.PathCollection at 0x2ed6ea58>"
      ]
     },
     "execution_count": 241,
     "metadata": {},
     "output_type": "execute_result"
    },
    {
     "data": {
      "image/png": "[encoded data removed]",
      "text/plain": [
       "<Figure size 432x288 with 1 Axes>"
      ]
     },
     "metadata": {
      "needs_background": "light"
     },
     "output_type": "display_data"
    }
   ],
   "source": [
    "plt.scatter(y_test,predictions)"
   ]
  },
  {
   "cell_type": "code",
   "execution_count": 242,
   "metadata": {},
   "outputs": [
    {
     "data": {
      "image/png": "[encoded data removed]",
      "text/plain": [
       "<Figure size 720x576 with 1 Axes>"
      ]
     },
     "metadata": {
      "needs_background": "light"
     },
     "output_type": "display_data"
    }
   ],
   "source": [
    "df1.plot(kind='bar',figsize=(10,8))\n",
    "plt.grid(which='major', linestyle='-', linewidth='0.5', color='green')\n",
    "plt.grid(which='minor', linestyle=':', linewidth='0.5', color='black')\n",
    "plt.show()"
   ]
  },
  {
   "cell_type": "markdown",
   "metadata": {},
   "source": [
    "**看實際值及預測值之間的殘差分佈圖**\n"
   ]
  },
  {
   "cell_type": "code",
   "execution_count": 243,
   "metadata": {},
   "outputs": [
    {
     "data": {
      "text/plain": [
       "<matplotlib.axes._subplots.AxesSubplot at 0x2edb0748>"
      ]
     },
     "execution_count": 243,
     "metadata": {},
     "output_type": "execute_result"
    },
    {
     "data": {
      "image/png": "[encoded data removed]",
      "text/plain": [
       "<Figure size 432x288 with 1 Axes>"
      ]
     },
     "metadata": {
      "needs_background": "light"
     },
     "output_type": "display_data"
    }
   ],
   "source": [
    "sns.distplot((y_test-predictions))"
   ]
  },
  {
   "cell_type": "markdown",
   "metadata": {},
   "source": [
    "**載入迴歸常見的評估指標**"
   ]
  },
  {
   "cell_type": "code",
   "execution_count": 244,
   "metadata": {},
   "outputs": [],
   "source": [
    "from sklearn import metrics"
   ]
  },
  {
   "cell_type": "markdown",
   "metadata": {},
   "source": [
    "**Mean Absolute Error (MAE)代表平均誤差，公式為所有實際值及預測值相減的絕對值平均。**"
   ]
  },
  {
   "cell_type": "code",
   "execution_count": 245,
   "metadata": {},
   "outputs": [
    {
     "data": {
      "text/plain": [
       "5.694068343810315"
      ]
     },
     "execution_count": 245,
     "metadata": {},
     "output_type": "execute_result"
    }
   ],
   "source": [
    "metrics.mean_absolute_error(y_test,predictions)"
   ]
  },
  {
   "cell_type": "markdown",
   "metadata": {},
   "source": [
    "**Mean Squared Error (MSE)比起MSE可以拉開誤差差距，算是蠻常用的指標，公式所有實際值及預測值相減的平方的平均**"
   ]
  },
  {
   "cell_type": "code",
   "execution_count": 246,
   "metadata": {},
   "outputs": [
    {
     "data": {
      "text/plain": [
       "54.77458000595562"
      ]
     },
     "execution_count": 246,
     "metadata": {},
     "output_type": "execute_result"
    }
   ],
   "source": [
    "metrics.mean_squared_error(y_test,predictions)"
   ]
  },
  {
   "cell_type": "markdown",
   "metadata": {},
   "source": [
    "**Root Mean Squared Error (RMSE)代表MSE的平方根。比起MSE更為常用，因為更容易解釋y。**"
   ]
  },
  {
   "cell_type": "code",
   "execution_count": 247,
   "metadata": {},
   "outputs": [
    {
     "data": {
      "text/plain": [
       "7.400985069972484"
      ]
     },
     "execution_count": 247,
     "metadata": {},
     "output_type": "execute_result"
    }
   ],
   "source": [
    "np.sqrt(metrics.mean_squared_error(y_test,predictions))"
   ]
  },
  {
   "cell_type": "code",
   "execution_count": null,
   "metadata": {},
   "outputs": [],
   "source": []
  }
 ],
 "metadata": {
  "kernelspec": {
   "display_name": "Python 3",
   "language": "python",
   "name": "python3"
  },
  "language_info": {
   "codemirror_mode": {
    "name": "ipython",
    "version": 3
   },
   "file_extension": ".py",
   "mimetype": "text/x-python",
   "name": "python",
   "nbconvert_exporter": "python",
   "pygments_lexer": "ipython3",
   "version": "3.6.7"
  },
  "toc": {
   "base_numbering": 1,
   "nav_menu": {},
   "number_sections": true,
   "sideBar": true,
   "skip_h1_title": false,
   "title_cell": "Table of Contents",
   "title_sidebar": "Contents",
   "toc_cell": false,
   "toc_position": {},
   "toc_section_display": true,
   "toc_window_display": false
  },
  "varInspector": {
   "cols": {
    "lenName": 16,
    "lenType": 16,
    "lenVar": 40
   },
   "kernels_config": {
    "python": {
     "delete_cmd_postfix": "",
     "delete_cmd_prefix": "del ",
     "library": "var_list.py",
     "varRefreshCmd": "print(var_dic_list())"
    },
    "r": {
     "delete_cmd_postfix": ") ",
     "delete_cmd_prefix": "rm(",
     "library": "var_list.r",
     "varRefreshCmd": "cat(var_dic_list()) "
    }
   },
   "types_to_exclude": [
    "module",
    "function",
    "builtin_function_or_method",
    "instance",
    "_Feature"
   ],
   "window_display": false
  }
 },
 "nbformat": 4,
 "nbformat_minor": 2
}
