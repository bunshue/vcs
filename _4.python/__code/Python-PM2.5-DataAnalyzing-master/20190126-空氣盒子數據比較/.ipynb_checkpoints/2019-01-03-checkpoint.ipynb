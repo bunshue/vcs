{
 "cells": [
  {
   "cell_type": "markdown",
   "metadata": {},
   "source": [
    "## 初始環境設定"
   ]
  },
  {
   "cell_type": "code",
   "execution_count": 4,
   "metadata": {},
   "outputs": [],
   "source": [
    "import pandas as pd\n",
    "df=pd.read_csv('198207-201811.csv')\n",
    "pd.set_option(\"display.max_rows\", 1000)    #設定最大能顯示1000rows\n",
    "pd.set_option(\"display.max_columns\", 1000) #設定最大能顯示1000columns\n",
    "from pylab import mpl\n",
    "mpl.rcParams['font.sans-serif'] = ['Microsoft YaHei']  \n",
    "# 指定默認字形：解決plot不能顯示中文問題\n",
    "mpl.rcParams['axes.unicode_minus'] = False"
   ]
  },
  {
   "cell_type": "markdown",
   "metadata": {},
   "source": [
    "## 檢查屬性"
   ]
  },
  {
   "cell_type": "code",
   "execution_count": 5,
   "metadata": {},
   "outputs": [
    {
     "data": {
      "text/plain": [
       "SO2          object\n",
       "CO           object\n",
       "CO2          object\n",
       "O3           object\n",
       "PM25         object\n",
       "Nox          object\n",
       "NO           object\n",
       "NO2          object\n",
       "THC          object\n",
       "NMHC         object\n",
       "CH4          object\n",
       "WindSpeed    object\n",
       "TEMP         object\n",
       "Humidity     object\n",
       "dtype: object"
      ]
     },
     "execution_count": 5,
     "metadata": {},
     "output_type": "execute_result"
    }
   ],
   "source": [
    "df.dtypes"
   ]
  },
  {
   "cell_type": "markdown",
   "metadata": {},
   "source": [
    "## 屬性轉換"
   ]
  },
  {
   "cell_type": "code",
   "execution_count": 6,
   "metadata": {},
   "outputs": [],
   "source": [
    "df[\"SO2\"] = pd.to_numeric(df.SO2, errors='coerce')\n",
    "df[\"CO\"] = pd.to_numeric(df.CO, errors='coerce')\n",
    "df[\"CO2\"] = pd.to_numeric(df.CO2, errors='coerce')\n",
    "df[\"O3\"] = pd.to_numeric(df.O3, errors='coerce')\n",
    "df[\"PM25\"] = pd.to_numeric(df.PM25, errors='coerce')\n",
    "df[\"Nox\"] = pd.to_numeric(df.Nox, errors='coerce')\n",
    "df[\"NO\"] = pd.to_numeric(df.NO, errors='coerce')\n",
    "df[\"NO2\"] = pd.to_numeric(df.NO2, errors='coerce')\n",
    "df[\"THC\"] = pd.to_numeric(df.THC, errors='coerce')\n",
    "df[\"NMHC\"] = pd.to_numeric(df.NMHC, errors='coerce')\n",
    "df[\"CH4\"] = pd.to_numeric(df.CH4, errors='coerce')\n",
    "df[\"WindSpeed\"] = pd.to_numeric(df.WindSpeed, errors='coerce')\n",
    "df[\"TEMP\"] = pd.to_numeric(df.TEMP, errors='coerce')\n",
    "df[\"Humidity\"] = pd.to_numeric(df.Humidity, errors='coerce')"
   ]
  },
  {
   "cell_type": "code",
   "execution_count": 7,
   "metadata": {},
   "outputs": [
    {
     "data": {
      "text/html": [
       "<div>\n",
       "<style scoped>\n",
       "    .dataframe tbody tr th:only-of-type {\n",
       "        vertical-align: middle;\n",
       "    }\n",
       "\n",
       "    .dataframe tbody tr th {\n",
       "        vertical-align: top;\n",
       "    }\n",
       "\n",
       "    .dataframe thead th {\n",
       "        text-align: right;\n",
       "    }\n",
       "</style>\n",
       "<table border=\"1\" class=\"dataframe\">\n",
       "  <thead>\n",
       "    <tr style=\"text-align: right;\">\n",
       "      <th></th>\n",
       "      <th>SO2</th>\n",
       "      <th>CO</th>\n",
       "      <th>CO2</th>\n",
       "      <th>O3</th>\n",
       "      <th>PM25</th>\n",
       "      <th>Nox</th>\n",
       "      <th>NO</th>\n",
       "      <th>NO2</th>\n",
       "      <th>THC</th>\n",
       "      <th>NMHC</th>\n",
       "      <th>CH4</th>\n",
       "      <th>WindSpeed</th>\n",
       "      <th>TEMP</th>\n",
       "      <th>Humidity</th>\n",
       "    </tr>\n",
       "  </thead>\n",
       "  <tbody>\n",
       "    <tr>\n",
       "      <th>0</th>\n",
       "      <td>1.5</td>\n",
       "      <td>0.17</td>\n",
       "      <td>416.58</td>\n",
       "      <td>41.3</td>\n",
       "      <td>6.0</td>\n",
       "      <td>2.32</td>\n",
       "      <td>0.44</td>\n",
       "      <td>1.86</td>\n",
       "      <td>NaN</td>\n",
       "      <td>NaN</td>\n",
       "      <td>NaN</td>\n",
       "      <td>NaN</td>\n",
       "      <td>16.32</td>\n",
       "      <td>96.92</td>\n",
       "    </tr>\n",
       "    <tr>\n",
       "      <th>1</th>\n",
       "      <td>2.3</td>\n",
       "      <td>0.39</td>\n",
       "      <td>428.07</td>\n",
       "      <td>25.5</td>\n",
       "      <td>12.0</td>\n",
       "      <td>24.56</td>\n",
       "      <td>5.54</td>\n",
       "      <td>19.02</td>\n",
       "      <td>1.905</td>\n",
       "      <td>0.124</td>\n",
       "      <td>1.78</td>\n",
       "      <td>1.74</td>\n",
       "      <td>22.12</td>\n",
       "      <td>78.93</td>\n",
       "    </tr>\n",
       "    <tr>\n",
       "      <th>2</th>\n",
       "      <td>2.0</td>\n",
       "      <td>0.44</td>\n",
       "      <td>NaN</td>\n",
       "      <td>24.6</td>\n",
       "      <td>12.0</td>\n",
       "      <td>26.70</td>\n",
       "      <td>5.49</td>\n",
       "      <td>21.21</td>\n",
       "      <td>NaN</td>\n",
       "      <td>NaN</td>\n",
       "      <td>NaN</td>\n",
       "      <td>2.15</td>\n",
       "      <td>23.19</td>\n",
       "      <td>75.29</td>\n",
       "    </tr>\n",
       "    <tr>\n",
       "      <th>3</th>\n",
       "      <td>2.4</td>\n",
       "      <td>0.54</td>\n",
       "      <td>NaN</td>\n",
       "      <td>23.5</td>\n",
       "      <td>13.0</td>\n",
       "      <td>30.91</td>\n",
       "      <td>7.95</td>\n",
       "      <td>22.96</td>\n",
       "      <td>1.997</td>\n",
       "      <td>0.157</td>\n",
       "      <td>1.84</td>\n",
       "      <td>2.01</td>\n",
       "      <td>22.81</td>\n",
       "      <td>81.56</td>\n",
       "    </tr>\n",
       "    <tr>\n",
       "      <th>4</th>\n",
       "      <td>1.9</td>\n",
       "      <td>0.30</td>\n",
       "      <td>NaN</td>\n",
       "      <td>32.4</td>\n",
       "      <td>12.0</td>\n",
       "      <td>13.41</td>\n",
       "      <td>2.71</td>\n",
       "      <td>10.71</td>\n",
       "      <td>NaN</td>\n",
       "      <td>NaN</td>\n",
       "      <td>NaN</td>\n",
       "      <td>2.12</td>\n",
       "      <td>23.58</td>\n",
       "      <td>75.69</td>\n",
       "    </tr>\n",
       "  </tbody>\n",
       "</table>\n",
       "</div>"
      ],
      "text/plain": [
       "   SO2    CO     CO2    O3  PM25    Nox    NO    NO2    THC   NMHC   CH4  \\\n",
       "0  1.5  0.17  416.58  41.3   6.0   2.32  0.44   1.86    NaN    NaN   NaN   \n",
       "1  2.3  0.39  428.07  25.5  12.0  24.56  5.54  19.02  1.905  0.124  1.78   \n",
       "2  2.0  0.44     NaN  24.6  12.0  26.70  5.49  21.21    NaN    NaN   NaN   \n",
       "3  2.4  0.54     NaN  23.5  13.0  30.91  7.95  22.96  1.997  0.157  1.84   \n",
       "4  1.9  0.30     NaN  32.4  12.0  13.41  2.71  10.71    NaN    NaN   NaN   \n",
       "\n",
       "   WindSpeed   TEMP  Humidity  \n",
       "0        NaN  16.32     96.92  \n",
       "1       1.74  22.12     78.93  \n",
       "2       2.15  23.19     75.29  \n",
       "3       2.01  22.81     81.56  \n",
       "4       2.12  23.58     75.69  "
      ]
     },
     "execution_count": 7,
     "metadata": {},
     "output_type": "execute_result"
    }
   ],
   "source": [
    "df.head()"
   ]
  },
  {
   "cell_type": "markdown",
   "metadata": {},
   "source": [
    "## 處理缺失值"
   ]
  },
  {
   "cell_type": "code",
   "execution_count": 5,
   "metadata": {},
   "outputs": [],
   "source": [
    "new_df=df.dropna()"
   ]
  },
  {
   "cell_type": "code",
   "execution_count": 6,
   "metadata": {},
   "outputs": [
    {
     "data": {
      "text/html": [
       "<div>\n",
       "<style scoped>\n",
       "    .dataframe tbody tr th:only-of-type {\n",
       "        vertical-align: middle;\n",
       "    }\n",
       "\n",
       "    .dataframe tbody tr th {\n",
       "        vertical-align: top;\n",
       "    }\n",
       "\n",
       "    .dataframe thead th {\n",
       "        text-align: right;\n",
       "    }\n",
       "</style>\n",
       "<table border=\"1\" class=\"dataframe\">\n",
       "  <thead>\n",
       "    <tr style=\"text-align: right;\">\n",
       "      <th></th>\n",
       "      <th>SO2</th>\n",
       "      <th>CO</th>\n",
       "      <th>CO2</th>\n",
       "      <th>O3</th>\n",
       "      <th>PM25</th>\n",
       "      <th>Nox</th>\n",
       "      <th>NO</th>\n",
       "      <th>NO2</th>\n",
       "      <th>THC</th>\n",
       "      <th>NMHC</th>\n",
       "      <th>CH4</th>\n",
       "      <th>WindSpeed</th>\n",
       "      <th>TEMP</th>\n",
       "      <th>Humidity</th>\n",
       "    </tr>\n",
       "  </thead>\n",
       "  <tbody>\n",
       "    <tr>\n",
       "      <th>0</th>\n",
       "      <td>2.4</td>\n",
       "      <td>0.38</td>\n",
       "      <td>424.55</td>\n",
       "      <td>37.9</td>\n",
       "      <td>14</td>\n",
       "      <td>21.43</td>\n",
       "      <td>3.42</td>\n",
       "      <td>18.02</td>\n",
       "      <td>1.875</td>\n",
       "      <td>0.104</td>\n",
       "      <td>1.771</td>\n",
       "      <td>1.38</td>\n",
       "      <td>22.88</td>\n",
       "      <td>74.56</td>\n",
       "    </tr>\n",
       "    <tr>\n",
       "      <th>1</th>\n",
       "      <td>2.7</td>\n",
       "      <td>0.33</td>\n",
       "      <td>423.15</td>\n",
       "      <td>25.2</td>\n",
       "      <td>14</td>\n",
       "      <td>19.66</td>\n",
       "      <td>5.42</td>\n",
       "      <td>14.24</td>\n",
       "      <td>1.828</td>\n",
       "      <td>0.109</td>\n",
       "      <td>1.718</td>\n",
       "      <td>1.37</td>\n",
       "      <td>28.09</td>\n",
       "      <td>72.05</td>\n",
       "    </tr>\n",
       "    <tr>\n",
       "      <th>2</th>\n",
       "      <td>3.1</td>\n",
       "      <td>0.38</td>\n",
       "      <td>428.91</td>\n",
       "      <td>22.4</td>\n",
       "      <td>13</td>\n",
       "      <td>21.62</td>\n",
       "      <td>5.50</td>\n",
       "      <td>16.11</td>\n",
       "      <td>1.921</td>\n",
       "      <td>0.141</td>\n",
       "      <td>1.781</td>\n",
       "      <td>1.28</td>\n",
       "      <td>29.53</td>\n",
       "      <td>71.91</td>\n",
       "    </tr>\n",
       "    <tr>\n",
       "      <th>3</th>\n",
       "      <td>2.7</td>\n",
       "      <td>0.30</td>\n",
       "      <td>422.91</td>\n",
       "      <td>17.9</td>\n",
       "      <td>12</td>\n",
       "      <td>18.78</td>\n",
       "      <td>6.48</td>\n",
       "      <td>12.30</td>\n",
       "      <td>1.825</td>\n",
       "      <td>0.107</td>\n",
       "      <td>1.719</td>\n",
       "      <td>1.56</td>\n",
       "      <td>30.33</td>\n",
       "      <td>65.98</td>\n",
       "    </tr>\n",
       "    <tr>\n",
       "      <th>4</th>\n",
       "      <td>2.9</td>\n",
       "      <td>0.35</td>\n",
       "      <td>426.67</td>\n",
       "      <td>29.5</td>\n",
       "      <td>13</td>\n",
       "      <td>19.73</td>\n",
       "      <td>4.78</td>\n",
       "      <td>14.95</td>\n",
       "      <td>1.900</td>\n",
       "      <td>0.114</td>\n",
       "      <td>1.786</td>\n",
       "      <td>1.39</td>\n",
       "      <td>28.23</td>\n",
       "      <td>73.20</td>\n",
       "    </tr>\n",
       "  </tbody>\n",
       "</table>\n",
       "</div>"
      ],
      "text/plain": [
       "   SO2    CO     CO2    O3  PM25    Nox    NO    NO2    THC   NMHC    CH4  \\\n",
       "0  2.4  0.38  424.55  37.9    14  21.43  3.42  18.02  1.875  0.104  1.771   \n",
       "1  2.7  0.33  423.15  25.2    14  19.66  5.42  14.24  1.828  0.109  1.718   \n",
       "2  3.1  0.38  428.91  22.4    13  21.62  5.50  16.11  1.921  0.141  1.781   \n",
       "3  2.7  0.30  422.91  17.9    12  18.78  6.48  12.30  1.825  0.107  1.719   \n",
       "4  2.9  0.35  426.67  29.5    13  19.73  4.78  14.95  1.900  0.114  1.786   \n",
       "\n",
       "   WindSpeed   TEMP  Humidity  \n",
       "0       1.38  22.88     74.56  \n",
       "1       1.37  28.09     72.05  \n",
       "2       1.28  29.53     71.91  \n",
       "3       1.56  30.33     65.98  \n",
       "4       1.39  28.23     73.20  "
      ]
     },
     "execution_count": 6,
     "metadata": {},
     "output_type": "execute_result"
    }
   ],
   "source": [
    "new_df.head()"
   ]
  },
  {
   "cell_type": "markdown",
   "metadata": {},
   "source": [
    "## 檢查屬性是否已經改變"
   ]
  },
  {
   "cell_type": "code",
   "execution_count": 7,
   "metadata": {},
   "outputs": [
    {
     "data": {
      "text/plain": [
       "SO2          float64\n",
       "CO           float64\n",
       "CO2          float64\n",
       "O3           float64\n",
       "PM25           int64\n",
       "Nox          float64\n",
       "NO           float64\n",
       "NO2          float64\n",
       "THC          float64\n",
       "NMHC         float64\n",
       "CH4          float64\n",
       "WindSpeed    float64\n",
       "TEMP         float64\n",
       "Humidity     float64\n",
       "dtype: object"
      ]
     },
     "execution_count": 7,
     "metadata": {},
     "output_type": "execute_result"
    }
   ],
   "source": [
    "new_df.dtypes"
   ]
  },
  {
   "cell_type": "markdown",
   "metadata": {},
   "source": [
    "## 存檔至新的CSV"
   ]
  },
  {
   "cell_type": "code",
   "execution_count": 8,
   "metadata": {},
   "outputs": [],
   "source": [
    "new_df.to_csv('2014-2018.csv',encoding='utf8')"
   ]
  },
  {
   "cell_type": "markdown",
   "metadata": {},
   "source": [
    "## 使用Excel開啟該CSV檔案"
   ]
  },
  {
   "cell_type": "markdown",
   "metadata": {},
   "source": [
    "### 刪除多餘欄位，將儲存格左移"
   ]
  },
  {
   "cell_type": "markdown",
   "metadata": {},
   "source": [
    "## 使用WEKA開啟資料，並且選擇分類器進行分析"
   ]
  },
  {
   "cell_type": "code",
   "execution_count": null,
   "metadata": {},
   "outputs": [],
   "source": []
  }
 ],
 "metadata": {
  "kernelspec": {
   "display_name": "Python 3",
   "language": "python",
   "name": "python3"
  },
  "language_info": {
   "codemirror_mode": {
    "name": "ipython",
    "version": 3
   },
   "file_extension": ".py",
   "mimetype": "text/x-python",
   "name": "python",
   "nbconvert_exporter": "python",
   "pygments_lexer": "ipython3",
   "version": "3.6.7"
  },
  "toc": {
   "base_numbering": 1,
   "nav_menu": {},
   "number_sections": true,
   "sideBar": true,
   "skip_h1_title": false,
   "title_cell": "Table of Contents",
   "title_sidebar": "Contents",
   "toc_cell": false,
   "toc_position": {},
   "toc_section_display": true,
   "toc_window_display": false
  },
  "varInspector": {
   "cols": {
    "lenName": 16,
    "lenType": 16,
    "lenVar": 40
   },
   "kernels_config": {
    "python": {
     "delete_cmd_postfix": "",
     "delete_cmd_prefix": "del ",
     "library": "var_list.py",
     "varRefreshCmd": "print(var_dic_list())"
    },
    "r": {
     "delete_cmd_postfix": ") ",
     "delete_cmd_prefix": "rm(",
     "library": "var_list.r",
     "varRefreshCmd": "cat(var_dic_list()) "
    }
   },
   "types_to_exclude": [
    "module",
    "function",
    "builtin_function_or_method",
    "instance",
    "_Feature"
   ],
   "window_display": false
  }
 },
 "nbformat": 4,
 "nbformat_minor": 2
}
