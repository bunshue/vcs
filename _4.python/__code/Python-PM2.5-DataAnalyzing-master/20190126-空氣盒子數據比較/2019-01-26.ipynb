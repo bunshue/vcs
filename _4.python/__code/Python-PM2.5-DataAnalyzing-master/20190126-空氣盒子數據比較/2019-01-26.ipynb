{
 "cells": [
  {
   "cell_type": "markdown",
   "metadata": {},
   "source": [
    "## 初始環境設定"
   ]
  },
  {
   "cell_type": "code",
   "execution_count": 123,
   "metadata": {},
   "outputs": [],
   "source": [
    "import pandas as pd\n",
    "df=pd.read_csv('200811-201811.csv')\n",
    "pd.set_option(\"display.max_rows\", 1000)    #設定最大能顯示1000rows\n",
    "pd.set_option(\"display.max_columns\", 1000) #設定最大能顯示1000columns\n",
    "from pylab import mpl\n",
    "mpl.rcParams['font.sans-serif'] = ['Microsoft YaHei']  \n",
    "# 指定默認字形：解決plot不能顯示中文問題\n",
    "mpl.rcParams['axes.unicode_minus'] = False"
   ]
  },
  {
   "cell_type": "markdown",
   "metadata": {},
   "source": [
    "## 檢查屬性"
   ]
  },
  {
   "cell_type": "code",
   "execution_count": 124,
   "metadata": {},
   "outputs": [
    {
     "data": {
      "text/plain": [
       "SO2           object\n",
       "CO           float64\n",
       "O3           float64\n",
       "PM25          object\n",
       "Nox            int64\n",
       "NO           float64\n",
       "NO2          float64\n",
       "THC           object\n",
       "NMHC          object\n",
       "CH4           object\n",
       "WindSpeed     object\n",
       "TEMP          object\n",
       "Humidity     float64\n",
       "dtype: object"
      ]
     },
     "execution_count": 124,
     "metadata": {},
     "output_type": "execute_result"
    }
   ],
   "source": [
    "df.dtypes"
   ]
  },
  {
   "cell_type": "markdown",
   "metadata": {},
   "source": [
    "## 屬性轉換"
   ]
  },
  {
   "cell_type": "code",
   "execution_count": 125,
   "metadata": {},
   "outputs": [],
   "source": [
    "df[\"SO2\"] = pd.to_numeric(df.SO2, errors='coerce')\n",
    "df[\"CO\"] = pd.to_numeric(df.CO, errors='coerce')\n",
    "df[\"O3\"] = pd.to_numeric(df.O3, errors='coerce')\n",
    "df[\"PM25\"] = pd.to_numeric(df.PM25, errors='coerce')\n",
    "df[\"Nox\"] = pd.to_numeric(df.Nox, errors='coerce')\n",
    "df[\"NO\"] = pd.to_numeric(df.NO, errors='coerce')\n",
    "df[\"NO2\"] = pd.to_numeric(df.NO2, errors='coerce')\n",
    "df[\"THC\"] = pd.to_numeric(df.THC, errors='coerce')\n",
    "df[\"NMHC\"] = pd.to_numeric(df.NMHC, errors='coerce')\n",
    "df[\"CH4\"] = pd.to_numeric(df.CH4, errors='coerce')\n",
    "df[\"WindSpeed\"] = pd.to_numeric(df.WindSpeed, errors='coerce')\n",
    "df[\"TEMP\"] = pd.to_numeric(df.TEMP, errors='coerce')\n",
    "df[\"Humidity\"] = pd.to_numeric(df.Humidity, errors='coerce')"
   ]
  },
  {
   "cell_type": "markdown",
   "metadata": {},
   "source": [
    "## 將缺失值NaN改成0"
   ]
  },
  {
   "cell_type": "code",
   "execution_count": 126,
   "metadata": {},
   "outputs": [],
   "source": [
    "df=df.fillna(0)"
   ]
  },
  {
   "cell_type": "code",
   "execution_count": 127,
   "metadata": {},
   "outputs": [
    {
     "data": {
      "text/html": [
       "<div>\n",
       "<style scoped>\n",
       "    .dataframe tbody tr th:only-of-type {\n",
       "        vertical-align: middle;\n",
       "    }\n",
       "\n",
       "    .dataframe tbody tr th {\n",
       "        vertical-align: top;\n",
       "    }\n",
       "\n",
       "    .dataframe thead th {\n",
       "        text-align: right;\n",
       "    }\n",
       "</style>\n",
       "<table border=\"1\" class=\"dataframe\">\n",
       "  <thead>\n",
       "    <tr style=\"text-align: right;\">\n",
       "      <th></th>\n",
       "      <th>SO2</th>\n",
       "      <th>CO</th>\n",
       "      <th>O3</th>\n",
       "      <th>PM25</th>\n",
       "      <th>Nox</th>\n",
       "      <th>NO</th>\n",
       "      <th>NO2</th>\n",
       "      <th>THC</th>\n",
       "      <th>NMHC</th>\n",
       "      <th>CH4</th>\n",
       "      <th>WindSpeed</th>\n",
       "      <th>TEMP</th>\n",
       "      <th>Humidity</th>\n",
       "    </tr>\n",
       "  </thead>\n",
       "  <tbody>\n",
       "    <tr>\n",
       "      <th>0</th>\n",
       "      <td>3.9</td>\n",
       "      <td>0.37</td>\n",
       "      <td>32.1</td>\n",
       "      <td>22.0</td>\n",
       "      <td>16</td>\n",
       "      <td>1.94</td>\n",
       "      <td>14.19</td>\n",
       "      <td>2.036</td>\n",
       "      <td>0.104</td>\n",
       "      <td>1.932</td>\n",
       "      <td>3.56</td>\n",
       "      <td>23.08</td>\n",
       "      <td>80.64</td>\n",
       "    </tr>\n",
       "    <tr>\n",
       "      <th>1</th>\n",
       "      <td>2.9</td>\n",
       "      <td>0.51</td>\n",
       "      <td>28.5</td>\n",
       "      <td>21.0</td>\n",
       "      <td>21</td>\n",
       "      <td>2.48</td>\n",
       "      <td>18.35</td>\n",
       "      <td>2.159</td>\n",
       "      <td>0.202</td>\n",
       "      <td>1.957</td>\n",
       "      <td>1.30</td>\n",
       "      <td>23.58</td>\n",
       "      <td>71.83</td>\n",
       "    </tr>\n",
       "    <tr>\n",
       "      <th>2</th>\n",
       "      <td>3.8</td>\n",
       "      <td>0.35</td>\n",
       "      <td>27.6</td>\n",
       "      <td>24.0</td>\n",
       "      <td>13</td>\n",
       "      <td>1.96</td>\n",
       "      <td>11.39</td>\n",
       "      <td>0.000</td>\n",
       "      <td>0.000</td>\n",
       "      <td>0.000</td>\n",
       "      <td>2.60</td>\n",
       "      <td>22.98</td>\n",
       "      <td>83.83</td>\n",
       "    </tr>\n",
       "    <tr>\n",
       "      <th>3</th>\n",
       "      <td>4.5</td>\n",
       "      <td>0.32</td>\n",
       "      <td>42.5</td>\n",
       "      <td>21.0</td>\n",
       "      <td>11</td>\n",
       "      <td>1.22</td>\n",
       "      <td>10.04</td>\n",
       "      <td>0.000</td>\n",
       "      <td>0.000</td>\n",
       "      <td>0.000</td>\n",
       "      <td>3.29</td>\n",
       "      <td>24.44</td>\n",
       "      <td>74.93</td>\n",
       "    </tr>\n",
       "    <tr>\n",
       "      <th>4</th>\n",
       "      <td>3.8</td>\n",
       "      <td>0.34</td>\n",
       "      <td>46.4</td>\n",
       "      <td>18.0</td>\n",
       "      <td>13</td>\n",
       "      <td>1.14</td>\n",
       "      <td>11.71</td>\n",
       "      <td>1.983</td>\n",
       "      <td>0.079</td>\n",
       "      <td>1.903</td>\n",
       "      <td>4.66</td>\n",
       "      <td>24.33</td>\n",
       "      <td>73.13</td>\n",
       "    </tr>\n",
       "  </tbody>\n",
       "</table>\n",
       "</div>"
      ],
      "text/plain": [
       "   SO2    CO    O3  PM25  Nox    NO    NO2    THC   NMHC    CH4  WindSpeed  \\\n",
       "0  3.9  0.37  32.1  22.0   16  1.94  14.19  2.036  0.104  1.932       3.56   \n",
       "1  2.9  0.51  28.5  21.0   21  2.48  18.35  2.159  0.202  1.957       1.30   \n",
       "2  3.8  0.35  27.6  24.0   13  1.96  11.39  0.000  0.000  0.000       2.60   \n",
       "3  4.5  0.32  42.5  21.0   11  1.22  10.04  0.000  0.000  0.000       3.29   \n",
       "4  3.8  0.34  46.4  18.0   13  1.14  11.71  1.983  0.079  1.903       4.66   \n",
       "\n",
       "    TEMP  Humidity  \n",
       "0  23.08     80.64  \n",
       "1  23.58     71.83  \n",
       "2  22.98     83.83  \n",
       "3  24.44     74.93  \n",
       "4  24.33     73.13  "
      ]
     },
     "execution_count": 127,
     "metadata": {},
     "output_type": "execute_result"
    }
   ],
   "source": [
    "df.head()"
   ]
  },
  {
   "cell_type": "markdown",
   "metadata": {},
   "source": [
    "## 檢查屬性是否已經改變"
   ]
  },
  {
   "cell_type": "code",
   "execution_count": 128,
   "metadata": {},
   "outputs": [
    {
     "data": {
      "text/plain": [
       "SO2          float64\n",
       "CO           float64\n",
       "O3           float64\n",
       "PM25         float64\n",
       "Nox            int64\n",
       "NO           float64\n",
       "NO2          float64\n",
       "THC          float64\n",
       "NMHC         float64\n",
       "CH4          float64\n",
       "WindSpeed    float64\n",
       "TEMP         float64\n",
       "Humidity     float64\n",
       "dtype: object"
      ]
     },
     "execution_count": 128,
     "metadata": {},
     "output_type": "execute_result"
    }
   ],
   "source": [
    "df.dtypes"
   ]
  },
  {
   "cell_type": "markdown",
   "metadata": {},
   "source": [
    "## 存檔至新的CSV"
   ]
  },
  {
   "cell_type": "code",
   "execution_count": 129,
   "metadata": {},
   "outputs": [],
   "source": [
    "df.to_csv('200811-201811.csv')"
   ]
  },
  {
   "cell_type": "markdown",
   "metadata": {},
   "source": [
    "## 使用Excel開啟該CSV檔案"
   ]
  },
  {
   "cell_type": "markdown",
   "metadata": {},
   "source": [
    "### 刪除多餘欄位，將儲存格左移"
   ]
  },
  {
   "cell_type": "markdown",
   "metadata": {},
   "source": [
    "## 使用WEKA開啟資料，並且選擇分類器進行分析"
   ]
  },
  {
   "cell_type": "markdown",
   "metadata": {},
   "source": [
    "### 數萬筆資料需花較長時間等待結果"
   ]
  },
  {
   "cell_type": "code",
   "execution_count": null,
   "metadata": {},
   "outputs": [],
   "source": []
  }
 ],
 "metadata": {
  "kernelspec": {
   "display_name": "Python 3",
   "language": "python",
   "name": "python3"
  },
  "language_info": {
   "codemirror_mode": {
    "name": "ipython",
    "version": 3
   },
   "file_extension": ".py",
   "mimetype": "text/x-python",
   "name": "python",
   "nbconvert_exporter": "python",
   "pygments_lexer": "ipython3",
   "version": "3.6.7"
  },
  "toc": {
   "base_numbering": 1,
   "nav_menu": {},
   "number_sections": true,
   "sideBar": true,
   "skip_h1_title": false,
   "title_cell": "Table of Contents",
   "title_sidebar": "Contents",
   "toc_cell": false,
   "toc_position": {},
   "toc_section_display": true,
   "toc_window_display": false
  },
  "varInspector": {
   "cols": {
    "lenName": 16,
    "lenType": 16,
    "lenVar": 40
   },
   "kernels_config": {
    "python": {
     "delete_cmd_postfix": "",
     "delete_cmd_prefix": "del ",
     "library": "var_list.py",
     "varRefreshCmd": "print(var_dic_list())"
    },
    "r": {
     "delete_cmd_postfix": ") ",
     "delete_cmd_prefix": "rm(",
     "library": "var_list.r",
     "varRefreshCmd": "cat(var_dic_list()) "
    }
   },
   "types_to_exclude": [
    "module",
    "function",
    "builtin_function_or_method",
    "instance",
    "_Feature"
   ],
   "window_display": false
  }
 },
 "nbformat": 4,
 "nbformat_minor": 2
}
