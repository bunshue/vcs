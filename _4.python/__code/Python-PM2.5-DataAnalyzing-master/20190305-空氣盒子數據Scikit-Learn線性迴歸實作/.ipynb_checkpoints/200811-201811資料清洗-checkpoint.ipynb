{
 "cells": [
  {
   "cell_type": "code",
   "execution_count": 7,
   "metadata": {},
   "outputs": [],
   "source": [
    "import pandas as pd\n",
    "\n",
    "df=pd.read_csv('200811-201811.csv')\n",
    "\n",
    "pd.set_option(\"display.max_rows\", 1000)    #設定最大能顯示1000rows\n",
    "\n",
    "pd.set_option(\"display.max_columns\", 1000) #設定最大能顯示1000columns\n",
    "\n",
    "from pylab import mpl\n",
    "\n",
    "mpl.rcParams['font.sans-serif'] = ['Microsoft YaHei']"
   ]
  },
  {
   "cell_type": "code",
   "execution_count": 8,
   "metadata": {},
   "outputs": [],
   "source": [
    "mpl.rcParams['axes.unicode_minus'] = False"
   ]
  },
  {
   "cell_type": "code",
   "execution_count": 9,
   "metadata": {},
   "outputs": [
    {
     "data": {
      "text/plain": [
       "SO2          object\n",
       "CO           object\n",
       "O3           object\n",
       "PM25         object\n",
       "Nox          object\n",
       "NO           object\n",
       "NO2          object\n",
       "THC          object\n",
       "NMHC         object\n",
       "CH4          object\n",
       "WindSpeed    object\n",
       "TEMP         object\n",
       "Humidity     object\n",
       "dtype: object"
      ]
     },
     "execution_count": 9,
     "metadata": {},
     "output_type": "execute_result"
    }
   ],
   "source": [
    "df.dtypes"
   ]
  },
  {
   "cell_type": "code",
   "execution_count": 13,
   "metadata": {},
   "outputs": [],
   "source": [
    "df[\"SO2\"] = pd.to_numeric(df.SO2, errors='coerce')\n",
    "df[\"CO\"] = pd.to_numeric(df.CO, errors='coerce')\n",
    "#df[\"CO2\"] = pd.to_numeric(df.CO2, errors='coerce')\n",
    "df[\"O3\"] = pd.to_numeric(df.O3, errors='coerce')\n",
    "df[\"PM25\"] = pd.to_numeric(df.PM25, errors='coerce')\n",
    "df[\"Nox\"] = pd.to_numeric(df.Nox, errors='coerce')\n",
    "df[\"NO\"] = pd.to_numeric(df.NO, errors='coerce')\n",
    "df[\"NO2\"] = pd.to_numeric(df.NO2, errors='coerce')\n",
    "df[\"THC\"] = pd.to_numeric(df.THC, errors='coerce')\n",
    "df[\"NMHC\"] = pd.to_numeric(df.NMHC, errors='coerce')\n",
    "df[\"CH4\"] = pd.to_numeric(df.CH4, errors='coerce')\n",
    "df[\"WindSpeed\"] = pd.to_numeric(df.WindSpeed, errors='coerce')\n",
    "df[\"TEMP\"] = pd.to_numeric(df.TEMP, errors='coerce')\n",
    "df[\"Humidity\"] = pd.to_numeric(df.Humidity, errors='coerce')"
   ]
  },
  {
   "cell_type": "code",
   "execution_count": 14,
   "metadata": {},
   "outputs": [],
   "source": [
    "#處理缺失值\n",
    "df=df.fillna(0)"
   ]
  },
  {
   "cell_type": "code",
   "execution_count": 15,
   "metadata": {},
   "outputs": [
    {
     "data": {
      "text/plain": [
       "SO2          float64\n",
       "CO           float64\n",
       "O3           float64\n",
       "PM25         float64\n",
       "Nox          float64\n",
       "NO           float64\n",
       "NO2          float64\n",
       "THC          float64\n",
       "NMHC         float64\n",
       "CH4          float64\n",
       "WindSpeed    float64\n",
       "TEMP         float64\n",
       "Humidity     float64\n",
       "dtype: object"
      ]
     },
     "execution_count": 15,
     "metadata": {},
     "output_type": "execute_result"
    }
   ],
   "source": [
    "#檢查屬性是否已經改變\n",
    "df.dtypes"
   ]
  },
  {
   "cell_type": "code",
   "execution_count": 17,
   "metadata": {},
   "outputs": [],
   "source": [
    "#存檔至新的CSV\n",
    "df.to_csv('200811-201811.csv',encoding='utf8')"
   ]
  },
  {
   "cell_type": "code",
   "execution_count": null,
   "metadata": {},
   "outputs": [],
   "source": []
  }
 ],
 "metadata": {
  "kernelspec": {
   "display_name": "Python 3",
   "language": "python",
   "name": "python3"
  },
  "language_info": {
   "codemirror_mode": {
    "name": "ipython",
    "version": 3
   },
   "file_extension": ".py",
   "mimetype": "text/x-python",
   "name": "python",
   "nbconvert_exporter": "python",
   "pygments_lexer": "ipython3",
   "version": "3.6.7"
  },
  "toc": {
   "base_numbering": 1,
   "nav_menu": {},
   "number_sections": true,
   "sideBar": true,
   "skip_h1_title": false,
   "title_cell": "Table of Contents",
   "title_sidebar": "Contents",
   "toc_cell": false,
   "toc_position": {},
   "toc_section_display": true,
   "toc_window_display": false
  },
  "varInspector": {
   "cols": {
    "lenName": 16,
    "lenType": 16,
    "lenVar": 40
   },
   "kernels_config": {
    "python": {
     "delete_cmd_postfix": "",
     "delete_cmd_prefix": "del ",
     "library": "var_list.py",
     "varRefreshCmd": "print(var_dic_list())"
    },
    "r": {
     "delete_cmd_postfix": ") ",
     "delete_cmd_prefix": "rm(",
     "library": "var_list.r",
     "varRefreshCmd": "cat(var_dic_list()) "
    }
   },
   "types_to_exclude": [
    "module",
    "function",
    "builtin_function_or_method",
    "instance",
    "_Feature"
   ],
   "window_display": false
  }
 },
 "nbformat": 4,
 "nbformat_minor": 2
}
