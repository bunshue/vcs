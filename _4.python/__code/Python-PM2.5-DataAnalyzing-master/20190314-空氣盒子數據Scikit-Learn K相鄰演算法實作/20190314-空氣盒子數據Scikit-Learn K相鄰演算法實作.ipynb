{
 "cells": [
  {
   "cell_type": "markdown",
   "metadata": {},
   "source": [
    "## 載入套件"
   ]
  },
  {
   "cell_type": "code",
   "execution_count": 4,
   "metadata": {},
   "outputs": [],
   "source": [
    "import pandas as pd\n",
    "import numpy as np\n",
    "import matplotlib.pyplot as plt\n",
    "import seaborn as sns\n",
    "%matplotlib inline"
   ]
  },
  {
   "cell_type": "markdown",
   "metadata": {},
   "source": [
    "## 匯入資料"
   ]
  },
  {
   "cell_type": "code",
   "execution_count": 5,
   "metadata": {},
   "outputs": [
    {
     "data": {
      "text/html": [
       "<div>\n",
       "<style scoped>\n",
       "    .dataframe tbody tr th:only-of-type {\n",
       "        vertical-align: middle;\n",
       "    }\n",
       "\n",
       "    .dataframe tbody tr th {\n",
       "        vertical-align: top;\n",
       "    }\n",
       "\n",
       "    .dataframe thead th {\n",
       "        text-align: right;\n",
       "    }\n",
       "</style>\n",
       "<table border=\"1\" class=\"dataframe\">\n",
       "  <thead>\n",
       "    <tr style=\"text-align: right;\">\n",
       "      <th></th>\n",
       "      <th>SO2</th>\n",
       "      <th>CO</th>\n",
       "      <th>O3</th>\n",
       "      <th>PM25</th>\n",
       "      <th>Nox</th>\n",
       "      <th>NO</th>\n",
       "      <th>NO2</th>\n",
       "      <th>THC</th>\n",
       "      <th>NMHC</th>\n",
       "      <th>CH4</th>\n",
       "      <th>WindSpeed</th>\n",
       "      <th>TEMP</th>\n",
       "      <th>Humidity</th>\n",
       "      <th>Danger</th>\n",
       "    </tr>\n",
       "  </thead>\n",
       "  <tbody>\n",
       "    <tr>\n",
       "      <th>0</th>\n",
       "      <td>4.4</td>\n",
       "      <td>0.47</td>\n",
       "      <td>32.2</td>\n",
       "      <td>31</td>\n",
       "      <td>24</td>\n",
       "      <td>3.46</td>\n",
       "      <td>20.84</td>\n",
       "      <td>2.309</td>\n",
       "      <td>0.231</td>\n",
       "      <td>2.078</td>\n",
       "      <td>1.91</td>\n",
       "      <td>24.86</td>\n",
       "      <td>77.11</td>\n",
       "      <td>0</td>\n",
       "    </tr>\n",
       "    <tr>\n",
       "      <th>1</th>\n",
       "      <td>6.4</td>\n",
       "      <td>0.52</td>\n",
       "      <td>30.2</td>\n",
       "      <td>32</td>\n",
       "      <td>32</td>\n",
       "      <td>5.64</td>\n",
       "      <td>26.30</td>\n",
       "      <td>2.186</td>\n",
       "      <td>0.227</td>\n",
       "      <td>1.959</td>\n",
       "      <td>1.72</td>\n",
       "      <td>26.58</td>\n",
       "      <td>71.93</td>\n",
       "      <td>0</td>\n",
       "    </tr>\n",
       "    <tr>\n",
       "      <th>2</th>\n",
       "      <td>3.2</td>\n",
       "      <td>0.45</td>\n",
       "      <td>30.5</td>\n",
       "      <td>46</td>\n",
       "      <td>20</td>\n",
       "      <td>2.36</td>\n",
       "      <td>18.05</td>\n",
       "      <td>0.000</td>\n",
       "      <td>0.000</td>\n",
       "      <td>0.000</td>\n",
       "      <td>2.08</td>\n",
       "      <td>24.75</td>\n",
       "      <td>76.33</td>\n",
       "      <td>1</td>\n",
       "    </tr>\n",
       "    <tr>\n",
       "      <th>3</th>\n",
       "      <td>5.2</td>\n",
       "      <td>0.47</td>\n",
       "      <td>32.5</td>\n",
       "      <td>38</td>\n",
       "      <td>24</td>\n",
       "      <td>3.18</td>\n",
       "      <td>20.64</td>\n",
       "      <td>2.374</td>\n",
       "      <td>0.225</td>\n",
       "      <td>2.150</td>\n",
       "      <td>1.66</td>\n",
       "      <td>24.97</td>\n",
       "      <td>79.97</td>\n",
       "      <td>1</td>\n",
       "    </tr>\n",
       "    <tr>\n",
       "      <th>4</th>\n",
       "      <td>4.5</td>\n",
       "      <td>0.72</td>\n",
       "      <td>29.9</td>\n",
       "      <td>32</td>\n",
       "      <td>29</td>\n",
       "      <td>5.43</td>\n",
       "      <td>23.82</td>\n",
       "      <td>2.290</td>\n",
       "      <td>0.287</td>\n",
       "      <td>2.004</td>\n",
       "      <td>1.03</td>\n",
       "      <td>26.18</td>\n",
       "      <td>73.78</td>\n",
       "      <td>0</td>\n",
       "    </tr>\n",
       "  </tbody>\n",
       "</table>\n",
       "</div>"
      ],
      "text/plain": [
       "   SO2    CO    O3  PM25  Nox    NO    NO2    THC   NMHC    CH4  WindSpeed  \\\n",
       "0  4.4  0.47  32.2    31   24  3.46  20.84  2.309  0.231  2.078       1.91   \n",
       "1  6.4  0.52  30.2    32   32  5.64  26.30  2.186  0.227  1.959       1.72   \n",
       "2  3.2  0.45  30.5    46   20  2.36  18.05  0.000  0.000  0.000       2.08   \n",
       "3  5.2  0.47  32.5    38   24  3.18  20.64  2.374  0.225  2.150       1.66   \n",
       "4  4.5  0.72  29.9    32   29  5.43  23.82  2.290  0.287  2.004       1.03   \n",
       "\n",
       "    TEMP  Humidity  Danger  \n",
       "0  24.86     77.11       0  \n",
       "1  26.58     71.93       0  \n",
       "2  24.75     76.33       1  \n",
       "3  24.97     79.97       1  \n",
       "4  26.18     73.78       0  "
      ]
     },
     "execution_count": 5,
     "metadata": {},
     "output_type": "execute_result"
    }
   ],
   "source": [
    "df = pd.read_csv('200811-201811.csv')\n",
    "df.head()\n",
    "#Danger分類點說明\n",
    "#對敏感族群不健康為PM2.5數值在35.5以上"
   ]
  },
  {
   "cell_type": "markdown",
   "metadata": {},
   "source": [
    "## 載入標準化比例尺（StandardScaler）套件"
   ]
  },
  {
   "cell_type": "code",
   "execution_count": 6,
   "metadata": {},
   "outputs": [],
   "source": [
    "from sklearn.preprocessing import StandardScaler"
   ]
  },
  {
   "cell_type": "markdown",
   "metadata": {},
   "source": [
    "**StandardScaler performs the task of Standardization. Usually a dataset contains variables that are different in scale. For e.g. an Employee dataset will contain AGE column with values on scale 20-70 and SALARY column with values on scale 10000-80000.\n",
    "As these two columns are different in scale, they are Standardized to have common scale while building machine learning model.**"
   ]
  },
  {
   "cell_type": "code",
   "execution_count": 7,
   "metadata": {},
   "outputs": [
    {
     "name": "stderr",
     "output_type": "stream",
     "text": [
      "C:\\ProgramData\\Anaconda3\\lib\\site-packages\\sklearn\\preprocessing\\data.py:625: DataConversionWarning: Data with input dtype int64, float64 were all converted to float64 by StandardScaler.\n",
      "  return self.partial_fit(X, y)\n",
      "C:\\ProgramData\\Anaconda3\\lib\\site-packages\\ipykernel_launcher.py:3: DataConversionWarning: Data with input dtype int64, float64 were all converted to float64 by StandardScaler.\n",
      "  This is separate from the ipykernel package so we can avoid doing imports until\n"
     ]
    }
   ],
   "source": [
    "#將Danger中特徵中移除，作為要預測的對象\n",
    "scaler = StandardScaler()\n",
    "scaler.fit(df.drop('Danger',axis=1))\n",
    "scaled_features = scaler.transform(df.drop('Danger',axis=1))"
   ]
  },
  {
   "cell_type": "code",
   "execution_count": 8,
   "metadata": {},
   "outputs": [
    {
     "data": {
      "text/html": [
       "<div>\n",
       "<style scoped>\n",
       "    .dataframe tbody tr th:only-of-type {\n",
       "        vertical-align: middle;\n",
       "    }\n",
       "\n",
       "    .dataframe tbody tr th {\n",
       "        vertical-align: top;\n",
       "    }\n",
       "\n",
       "    .dataframe thead th {\n",
       "        text-align: right;\n",
       "    }\n",
       "</style>\n",
       "<table border=\"1\" class=\"dataframe\">\n",
       "  <thead>\n",
       "    <tr style=\"text-align: right;\">\n",
       "      <th></th>\n",
       "      <th>SO2</th>\n",
       "      <th>CO</th>\n",
       "      <th>O3</th>\n",
       "      <th>PM25</th>\n",
       "      <th>Nox</th>\n",
       "      <th>NO</th>\n",
       "      <th>NO2</th>\n",
       "      <th>THC</th>\n",
       "      <th>NMHC</th>\n",
       "      <th>CH4</th>\n",
       "      <th>WindSpeed</th>\n",
       "      <th>TEMP</th>\n",
       "      <th>Humidity</th>\n",
       "    </tr>\n",
       "  </thead>\n",
       "  <tbody>\n",
       "    <tr>\n",
       "      <th>0</th>\n",
       "      <td>-0.404911</td>\n",
       "      <td>-0.027934</td>\n",
       "      <td>0.442396</td>\n",
       "      <td>-0.203618</td>\n",
       "      <td>0.143374</td>\n",
       "      <td>-0.393933</td>\n",
       "      <td>0.362969</td>\n",
       "      <td>0.840955</td>\n",
       "      <td>0.628490</td>\n",
       "      <td>0.848594</td>\n",
       "      <td>0.971649</td>\n",
       "      <td>0.946940</td>\n",
       "      <td>0.590249</td>\n",
       "    </tr>\n",
       "    <tr>\n",
       "      <th>1</th>\n",
       "      <td>0.409979</td>\n",
       "      <td>0.247408</td>\n",
       "      <td>0.186542</td>\n",
       "      <td>-0.143879</td>\n",
       "      <td>0.974468</td>\n",
       "      <td>0.438878</td>\n",
       "      <td>1.092702</td>\n",
       "      <td>0.718531</td>\n",
       "      <td>0.597833</td>\n",
       "      <td>0.716198</td>\n",
       "      <td>0.780465</td>\n",
       "      <td>1.077664</td>\n",
       "      <td>-0.503510</td>\n",
       "    </tr>\n",
       "    <tr>\n",
       "      <th>2</th>\n",
       "      <td>-0.893845</td>\n",
       "      <td>-0.138070</td>\n",
       "      <td>0.224920</td>\n",
       "      <td>0.692476</td>\n",
       "      <td>-0.272173</td>\n",
       "      <td>-0.814159</td>\n",
       "      <td>-0.009917</td>\n",
       "      <td>-1.457239</td>\n",
       "      <td>-1.141907</td>\n",
       "      <td>-1.463337</td>\n",
       "      <td>1.142708</td>\n",
       "      <td>0.938580</td>\n",
       "      <td>0.425552</td>\n",
       "    </tr>\n",
       "    <tr>\n",
       "      <th>3</th>\n",
       "      <td>-0.078955</td>\n",
       "      <td>-0.027934</td>\n",
       "      <td>0.480775</td>\n",
       "      <td>0.214559</td>\n",
       "      <td>0.143374</td>\n",
       "      <td>-0.500899</td>\n",
       "      <td>0.336238</td>\n",
       "      <td>0.905651</td>\n",
       "      <td>0.582505</td>\n",
       "      <td>0.928700</td>\n",
       "      <td>0.720091</td>\n",
       "      <td>0.955301</td>\n",
       "      <td>1.194140</td>\n",
       "    </tr>\n",
       "    <tr>\n",
       "      <th>4</th>\n",
       "      <td>-0.364166</td>\n",
       "      <td>1.348773</td>\n",
       "      <td>0.148164</td>\n",
       "      <td>-0.143879</td>\n",
       "      <td>0.662808</td>\n",
       "      <td>0.358653</td>\n",
       "      <td>0.761248</td>\n",
       "      <td>0.822044</td>\n",
       "      <td>1.057677</td>\n",
       "      <td>0.766264</td>\n",
       "      <td>0.086166</td>\n",
       "      <td>1.047263</td>\n",
       "      <td>-0.112882</td>\n",
       "    </tr>\n",
       "  </tbody>\n",
       "</table>\n",
       "</div>"
      ],
      "text/plain": [
       "        SO2        CO        O3      PM25       Nox        NO       NO2  \\\n",
       "0 -0.404911 -0.027934  0.442396 -0.203618  0.143374 -0.393933  0.362969   \n",
       "1  0.409979  0.247408  0.186542 -0.143879  0.974468  0.438878  1.092702   \n",
       "2 -0.893845 -0.138070  0.224920  0.692476 -0.272173 -0.814159 -0.009917   \n",
       "3 -0.078955 -0.027934  0.480775  0.214559  0.143374 -0.500899  0.336238   \n",
       "4 -0.364166  1.348773  0.148164 -0.143879  0.662808  0.358653  0.761248   \n",
       "\n",
       "        THC      NMHC       CH4  WindSpeed      TEMP  Humidity  \n",
       "0  0.840955  0.628490  0.848594   0.971649  0.946940  0.590249  \n",
       "1  0.718531  0.597833  0.716198   0.780465  1.077664 -0.503510  \n",
       "2 -1.457239 -1.141907 -1.463337   1.142708  0.938580  0.425552  \n",
       "3  0.905651  0.582505  0.928700   0.720091  0.955301  1.194140  \n",
       "4  0.822044  1.057677  0.766264   0.086166  1.047263 -0.112882  "
      ]
     },
     "execution_count": 8,
     "metadata": {},
     "output_type": "execute_result"
    }
   ],
   "source": [
    "df_feat = pd.DataFrame(scaled_features,columns=df.columns[:-1])\n",
    "df_feat.head()"
   ]
  },
  {
   "cell_type": "markdown",
   "metadata": {},
   "source": [
    "## 將資料分成訓練組及測試組"
   ]
  },
  {
   "cell_type": "code",
   "execution_count": 9,
   "metadata": {},
   "outputs": [],
   "source": [
    "from sklearn.model_selection import train_test_split\n",
    "\n",
    "X = df_feat\n",
    "y = df['Danger']\n",
    "X_train, X_test, y_train, y_test = train_test_split(X,y,test_size=0.30,random_state=101)"
   ]
  },
  {
   "cell_type": "markdown",
   "metadata": {},
   "source": [
    "## 使用KNN演算法"
   ]
  },
  {
   "cell_type": "code",
   "execution_count": 10,
   "metadata": {},
   "outputs": [],
   "source": [
    "from sklearn.neighbors import KNeighborsClassifier\n",
    "\n",
    "#從k值=1開始測試\n",
    "knn = KNeighborsClassifier(n_neighbors=1)\n",
    "knn.fit(X_train,y_train)\n",
    "pred = knn.predict(X_test)"
   ]
  },
  {
   "cell_type": "markdown",
   "metadata": {},
   "source": [
    "## 使用混淆矩陣"
   ]
  },
  {
   "cell_type": "code",
   "execution_count": 11,
   "metadata": {},
   "outputs": [
    {
     "name": "stdout",
     "output_type": "stream",
     "text": [
      "[[215   9]\n",
      " [ 13 198]]\n",
      "              precision    recall  f1-score   support\n",
      "\n",
      "           0       0.94      0.96      0.95       224\n",
      "           1       0.96      0.94      0.95       211\n",
      "\n",
      "   micro avg       0.95      0.95      0.95       435\n",
      "   macro avg       0.95      0.95      0.95       435\n",
      "weighted avg       0.95      0.95      0.95       435\n",
      "\n"
     ]
    }
   ],
   "source": [
    "from sklearn.metrics import classification_report,confusion_matrix\n",
    "print(confusion_matrix(y_test,pred))\n",
    "print(classification_report(y_test,pred))"
   ]
  },
  {
   "cell_type": "markdown",
   "metadata": {},
   "source": [
    "## 利用 For迴圈，選擇K值"
   ]
  },
  {
   "cell_type": "code",
   "execution_count": 12,
   "metadata": {},
   "outputs": [
    {
     "data": {
      "text/plain": [
       "Text(0, 0.5, 'Error Rate')"
      ]
     },
     "execution_count": 12,
     "metadata": {},
     "output_type": "execute_result"
    },
    {
     "data": {
      "image/png": "[encoded data removed]",
      "text/plain": [
       "<Figure size 720x432 with 1 Axes>"
      ]
     },
     "metadata": {
      "needs_background": "light"
     },
     "output_type": "display_data"
    }
   ],
   "source": [
    "error_rate = []\n",
    "\n",
    "for i in range(1,60):\n",
    "    \n",
    "    knn = KNeighborsClassifier(n_neighbors=i)\n",
    "    knn.fit(X_train,y_train)\n",
    "    pred_i = knn.predict(X_test)\n",
    "    error_rate.append(np.mean(pred_i != y_test))\n",
    "\n",
    "\n",
    "#將k=1~60的錯誤率製圖畫出。k=23之後，錯誤率就在5%-6%之間震盪，\n",
    "plt.figure(figsize=(10,6))\n",
    "plt.plot(range(1,60),error_rate,color='blue', linestyle='dashed', marker='o',\n",
    "         markerfacecolor='red', markersize=10)\n",
    "plt.title('Error Rate vs. K Value')\n",
    "plt.xlabel('K')\n",
    "plt.ylabel('Error Rate')"
   ]
  },
  {
   "cell_type": "markdown",
   "metadata": {},
   "source": [
    "## 選擇K值=7"
   ]
  },
  {
   "cell_type": "code",
   "execution_count": 39,
   "metadata": {},
   "outputs": [
    {
     "name": "stdout",
     "output_type": "stream",
     "text": [
      "WITH K=7\n",
      "\n",
      "\n",
      "[[209  15]\n",
      " [  6 205]]\n",
      "\n",
      "\n",
      "              precision    recall  f1-score   support\n",
      "\n",
      "           0       0.97      0.93      0.95       224\n",
      "           1       0.93      0.97      0.95       211\n",
      "\n",
      "   micro avg       0.95      0.95      0.95       435\n",
      "   macro avg       0.95      0.95      0.95       435\n",
      "weighted avg       0.95      0.95      0.95       435\n",
      "\n"
     ]
    }
   ],
   "source": [
    "knn = KNeighborsClassifier(n_neighbors=7)\n",
    "\n",
    "knn.fit(X_train,y_train)\n",
    "pred = knn.predict(X_test)\n",
    "\n",
    "print('WITH K=7')\n",
    "print('\\n')\n",
    "print(confusion_matrix(y_test,pred))\n",
    "print('\\n')\n",
    "print(classification_report(y_test,pred))"
   ]
  },
  {
   "cell_type": "markdown",
   "metadata": {},
   "source": [
    "**顯示所有特徵**"
   ]
  },
  {
   "cell_type": "code",
   "execution_count": 24,
   "metadata": {},
   "outputs": [
    {
     "data": {
      "text/html": [
       "<div>\n",
       "<style scoped>\n",
       "    .dataframe tbody tr th:only-of-type {\n",
       "        vertical-align: middle;\n",
       "    }\n",
       "\n",
       "    .dataframe tbody tr th {\n",
       "        vertical-align: top;\n",
       "    }\n",
       "\n",
       "    .dataframe thead th {\n",
       "        text-align: right;\n",
       "    }\n",
       "</style>\n",
       "<table border=\"1\" class=\"dataframe\">\n",
       "  <thead>\n",
       "    <tr style=\"text-align: right;\">\n",
       "      <th></th>\n",
       "      <th>SO2</th>\n",
       "      <th>CO</th>\n",
       "      <th>O3</th>\n",
       "      <th>PM25</th>\n",
       "      <th>Nox</th>\n",
       "      <th>NO</th>\n",
       "      <th>NO2</th>\n",
       "      <th>THC</th>\n",
       "      <th>NMHC</th>\n",
       "      <th>CH4</th>\n",
       "      <th>WindSpeed</th>\n",
       "      <th>TEMP</th>\n",
       "      <th>Humidity</th>\n",
       "      <th>Danger</th>\n",
       "    </tr>\n",
       "  </thead>\n",
       "  <tbody>\n",
       "    <tr>\n",
       "      <th>0</th>\n",
       "      <td>4.4</td>\n",
       "      <td>0.47</td>\n",
       "      <td>32.2</td>\n",
       "      <td>31</td>\n",
       "      <td>24</td>\n",
       "      <td>3.46</td>\n",
       "      <td>20.84</td>\n",
       "      <td>2.309</td>\n",
       "      <td>0.231</td>\n",
       "      <td>2.078</td>\n",
       "      <td>1.91</td>\n",
       "      <td>24.86</td>\n",
       "      <td>77.11</td>\n",
       "      <td>0</td>\n",
       "    </tr>\n",
       "  </tbody>\n",
       "</table>\n",
       "</div>"
      ],
      "text/plain": [
       "   SO2    CO    O3  PM25  Nox    NO    NO2    THC   NMHC    CH4  WindSpeed  \\\n",
       "0  4.4  0.47  32.2    31   24  3.46  20.84  2.309  0.231  2.078       1.91   \n",
       "\n",
       "    TEMP  Humidity  Danger  \n",
       "0  24.86     77.11       0  "
      ]
     },
     "execution_count": 24,
     "metadata": {},
     "output_type": "execute_result"
    }
   ],
   "source": [
    "df.head(1)"
   ]
  },
  {
   "cell_type": "markdown",
   "metadata": {},
   "source": [
    "**所有特徵**"
   ]
  },
  {
   "cell_type": "raw",
   "metadata": {},
   "source": [
    "SO2 CO \tO3 \tPM25 \tNox \tNO \tNO2 \tTHC \tNMHC \tCH4 \tWindSpeed \tTEMP \tHumidity"
   ]
  },
  {
   "cell_type": "markdown",
   "metadata": {},
   "source": [
    "**給與一筆數值，進行預測(Danger)**"
   ]
  },
  {
   "cell_type": "code",
   "execution_count": 31,
   "metadata": {
    "scrolled": true
   },
   "outputs": [
    {
     "name": "stdout",
     "output_type": "stream",
     "text": [
      "Danger\n"
     ]
    }
   ],
   "source": [
    "classes={0:'Safe',1:'Danger'}\n",
    "\n",
    "x_new=[[4,0.3,25,15,22,2.2,20,2.3,0.3,2.3,2,20,60]]\n",
    "y_predict=knn.predict(x_new)\n",
    "print(classes[y_predict[0]])"
   ]
  },
  {
   "cell_type": "markdown",
   "metadata": {},
   "source": [
    "**給與一筆數值，進行預測(Safe)**"
   ]
  },
  {
   "cell_type": "code",
   "execution_count": 33,
   "metadata": {},
   "outputs": [
    {
     "name": "stdout",
     "output_type": "stream",
     "text": [
      "Safe\n"
     ]
    }
   ],
   "source": [
    "classes={0:'Safe',1:'Danger'}\n",
    "\n",
    "x_new=[[1,0.3,1,1,2,1,1,1,0.1,1,0.5,30,50]]\n",
    "y_predict=knn.predict(x_new)\n",
    "print(classes[y_predict[0]])"
   ]
  },
  {
   "cell_type": "markdown",
   "metadata": {},
   "source": [
    "## 評估KNN的準確率"
   ]
  },
  {
   "cell_type": "code",
   "execution_count": 32,
   "metadata": {},
   "outputs": [
    {
     "data": {
      "text/plain": [
       "0.9287356321839081"
      ]
     },
     "execution_count": 32,
     "metadata": {},
     "output_type": "execute_result"
    }
   ],
   "source": [
    "knn.score(X_test, y_test)"
   ]
  },
  {
   "cell_type": "code",
   "execution_count": null,
   "metadata": {},
   "outputs": [],
   "source": []
  }
 ],
 "metadata": {
  "kernelspec": {
   "display_name": "Python 3",
   "language": "python",
   "name": "python3"
  },
  "language_info": {
   "codemirror_mode": {
    "name": "ipython",
    "version": 3
   },
   "file_extension": ".py",
   "mimetype": "text/x-python",
   "name": "python",
   "nbconvert_exporter": "python",
   "pygments_lexer": "ipython3",
   "version": "3.6.7"
  },
  "toc": {
   "base_numbering": 1,
   "nav_menu": {},
   "number_sections": true,
   "sideBar": true,
   "skip_h1_title": false,
   "title_cell": "Table of Contents",
   "title_sidebar": "Contents",
   "toc_cell": false,
   "toc_position": {},
   "toc_section_display": true,
   "toc_window_display": false
  },
  "varInspector": {
   "cols": {
    "lenName": 16,
    "lenType": 16,
    "lenVar": 40
   },
   "kernels_config": {
    "python": {
     "delete_cmd_postfix": "",
     "delete_cmd_prefix": "del ",
     "library": "var_list.py",
     "varRefreshCmd": "print(var_dic_list())"
    },
    "r": {
     "delete_cmd_postfix": ") ",
     "delete_cmd_prefix": "rm(",
     "library": "var_list.r",
     "varRefreshCmd": "cat(var_dic_list()) "
    }
   },
   "types_to_exclude": [
    "module",
    "function",
    "builtin_function_or_method",
    "instance",
    "_Feature"
   ],
   "window_display": false
  }
 },
 "nbformat": 4,
 "nbformat_minor": 2
}
