{
 "cells": [
  {
   "cell_type": "code",
   "execution_count": 32,
   "metadata": {},
   "outputs": [],
   "source": [
    "import pandas as pd\n",
    "import numpy as np\n",
    "import matplotlib.pyplot as plt\n",
    "import seaborn as sns\n",
    "%matplotlib inline"
   ]
  },
  {
   "cell_type": "code",
   "execution_count": 33,
   "metadata": {},
   "outputs": [
    {
     "data": {
      "text/html": [
       "<div>\n",
       "<style scoped>\n",
       "    .dataframe tbody tr th:only-of-type {\n",
       "        vertical-align: middle;\n",
       "    }\n",
       "\n",
       "    .dataframe tbody tr th {\n",
       "        vertical-align: top;\n",
       "    }\n",
       "\n",
       "    .dataframe thead th {\n",
       "        text-align: right;\n",
       "    }\n",
       "</style>\n",
       "<table border=\"1\" class=\"dataframe\">\n",
       "  <thead>\n",
       "    <tr style=\"text-align: right;\">\n",
       "      <th></th>\n",
       "      <th>SO2</th>\n",
       "      <th>CO</th>\n",
       "      <th>O3</th>\n",
       "      <th>PM10</th>\n",
       "      <th>PM25</th>\n",
       "      <th>Nox</th>\n",
       "      <th>NO</th>\n",
       "      <th>NO2</th>\n",
       "      <th>THC</th>\n",
       "      <th>NMHC</th>\n",
       "      <th>CH4</th>\n",
       "      <th>WindSpeed</th>\n",
       "      <th>TEMP</th>\n",
       "      <th>Humidity</th>\n",
       "      <th>Danger</th>\n",
       "    </tr>\n",
       "  </thead>\n",
       "  <tbody>\n",
       "    <tr>\n",
       "      <th>0</th>\n",
       "      <td>4.8</td>\n",
       "      <td>0.69</td>\n",
       "      <td>35.6</td>\n",
       "      <td>111</td>\n",
       "      <td>71</td>\n",
       "      <td>29</td>\n",
       "      <td>4.07</td>\n",
       "      <td>24.54</td>\n",
       "      <td>2.30</td>\n",
       "      <td>0.208</td>\n",
       "      <td>2.087</td>\n",
       "      <td>2.00</td>\n",
       "      <td>19.45</td>\n",
       "      <td>75.11</td>\n",
       "      <td>1</td>\n",
       "    </tr>\n",
       "    <tr>\n",
       "      <th>1</th>\n",
       "      <td>4.0</td>\n",
       "      <td>0.65</td>\n",
       "      <td>33.0</td>\n",
       "      <td>130</td>\n",
       "      <td>62</td>\n",
       "      <td>26</td>\n",
       "      <td>5.01</td>\n",
       "      <td>21.46</td>\n",
       "      <td>2.20</td>\n",
       "      <td>0.198</td>\n",
       "      <td>1.999</td>\n",
       "      <td>2.12</td>\n",
       "      <td>19.44</td>\n",
       "      <td>73.19</td>\n",
       "      <td>1</td>\n",
       "    </tr>\n",
       "    <tr>\n",
       "      <th>2</th>\n",
       "      <td>5.6</td>\n",
       "      <td>0.72</td>\n",
       "      <td>37.0</td>\n",
       "      <td>129</td>\n",
       "      <td>69</td>\n",
       "      <td>28</td>\n",
       "      <td>4.00</td>\n",
       "      <td>23.71</td>\n",
       "      <td>2.26</td>\n",
       "      <td>0.218</td>\n",
       "      <td>2.045</td>\n",
       "      <td>2.28</td>\n",
       "      <td>19.86</td>\n",
       "      <td>69.26</td>\n",
       "      <td>1</td>\n",
       "    </tr>\n",
       "    <tr>\n",
       "      <th>3</th>\n",
       "      <td>5.4</td>\n",
       "      <td>0.95</td>\n",
       "      <td>31.7</td>\n",
       "      <td>107</td>\n",
       "      <td>58</td>\n",
       "      <td>38</td>\n",
       "      <td>6.71</td>\n",
       "      <td>31.37</td>\n",
       "      <td>2.40</td>\n",
       "      <td>0.302</td>\n",
       "      <td>2.100</td>\n",
       "      <td>1.65</td>\n",
       "      <td>20.29</td>\n",
       "      <td>68.40</td>\n",
       "      <td>1</td>\n",
       "    </tr>\n",
       "    <tr>\n",
       "      <th>4</th>\n",
       "      <td>0.0</td>\n",
       "      <td>0.00</td>\n",
       "      <td>0.0</td>\n",
       "      <td>0</td>\n",
       "      <td>68</td>\n",
       "      <td>0</td>\n",
       "      <td>0.00</td>\n",
       "      <td>0.00</td>\n",
       "      <td>0.00</td>\n",
       "      <td>0.000</td>\n",
       "      <td>0.000</td>\n",
       "      <td>0.00</td>\n",
       "      <td>0.00</td>\n",
       "      <td>0.00</td>\n",
       "      <td>1</td>\n",
       "    </tr>\n",
       "  </tbody>\n",
       "</table>\n",
       "</div>"
      ],
      "text/plain": [
       "   SO2    CO    O3  PM10  PM25  Nox    NO    NO2   THC   NMHC    CH4  \\\n",
       "0  4.8  0.69  35.6   111    71   29  4.07  24.54  2.30  0.208  2.087   \n",
       "1  4.0  0.65  33.0   130    62   26  5.01  21.46  2.20  0.198  1.999   \n",
       "2  5.6  0.72  37.0   129    69   28  4.00  23.71  2.26  0.218  2.045   \n",
       "3  5.4  0.95  31.7   107    58   38  6.71  31.37  2.40  0.302  2.100   \n",
       "4  0.0  0.00   0.0     0    68    0  0.00   0.00  0.00  0.000  0.000   \n",
       "\n",
       "   WindSpeed   TEMP  Humidity  Danger  \n",
       "0       2.00  19.45     75.11       1  \n",
       "1       2.12  19.44     73.19       1  \n",
       "2       2.28  19.86     69.26       1  \n",
       "3       1.65  20.29     68.40       1  \n",
       "4       0.00   0.00      0.00       1  "
      ]
     },
     "execution_count": 33,
     "metadata": {},
     "output_type": "execute_result"
    }
   ],
   "source": [
    "df = pd.read_excel('20160101-20190101(Daily).xlsx')\n",
    "df.head()\n",
    "#Danger分類點說明\n",
    "#對敏感族群不健康為PM2.5數值在35.5以上"
   ]
  },
  {
   "cell_type": "code",
   "execution_count": 35,
   "metadata": {},
   "outputs": [
    {
     "data": {
      "text/plain": [
       "SO2          False\n",
       "CO           False\n",
       "O3           False\n",
       "PM10         False\n",
       "PM25         False\n",
       "Nox          False\n",
       "NO           False\n",
       "NO2          False\n",
       "THC          False\n",
       "NMHC         False\n",
       "CH4          False\n",
       "WindSpeed    False\n",
       "TEMP         False\n",
       "Humidity     False\n",
       "Danger       False\n",
       "dtype: bool"
      ]
     },
     "execution_count": 35,
     "metadata": {},
     "output_type": "execute_result"
    }
   ],
   "source": [
    "df.isnull().any()"
   ]
  },
  {
   "cell_type": "code",
   "execution_count": 24,
   "metadata": {},
   "outputs": [],
   "source": [
    "from sklearn.preprocessing import StandardScaler"
   ]
  },
  {
   "cell_type": "code",
   "execution_count": 36,
   "metadata": {},
   "outputs": [
    {
     "name": "stderr",
     "output_type": "stream",
     "text": [
      "C:\\ProgramData\\Anaconda3\\lib\\site-packages\\sklearn\\preprocessing\\data.py:625: DataConversionWarning: Data with input dtype int64, float64 were all converted to float64 by StandardScaler.\n",
      "  return self.partial_fit(X, y)\n",
      "C:\\ProgramData\\Anaconda3\\lib\\site-packages\\ipykernel_launcher.py:4: DataConversionWarning: Data with input dtype int64, float64 were all converted to float64 by StandardScaler.\n",
      "  after removing the cwd from sys.path.\n"
     ]
    }
   ],
   "source": [
    "#將Danger中特徵中移除，作為要預測的對象\n",
    "scaler = StandardScaler()\n",
    "scaler.fit(df.drop('Danger',axis=1))\n",
    "scaled_features = scaler.transform(df.drop('Danger',axis=1))"
   ]
  },
  {
   "cell_type": "code",
   "execution_count": 37,
   "metadata": {},
   "outputs": [
    {
     "data": {
      "text/html": [
       "<div>\n",
       "<style scoped>\n",
       "    .dataframe tbody tr th:only-of-type {\n",
       "        vertical-align: middle;\n",
       "    }\n",
       "\n",
       "    .dataframe tbody tr th {\n",
       "        vertical-align: top;\n",
       "    }\n",
       "\n",
       "    .dataframe thead th {\n",
       "        text-align: right;\n",
       "    }\n",
       "</style>\n",
       "<table border=\"1\" class=\"dataframe\">\n",
       "  <thead>\n",
       "    <tr style=\"text-align: right;\">\n",
       "      <th></th>\n",
       "      <th>SO2</th>\n",
       "      <th>CO</th>\n",
       "      <th>O3</th>\n",
       "      <th>PM10</th>\n",
       "      <th>PM25</th>\n",
       "      <th>Nox</th>\n",
       "      <th>NO</th>\n",
       "      <th>NO2</th>\n",
       "      <th>THC</th>\n",
       "      <th>NMHC</th>\n",
       "      <th>CH4</th>\n",
       "      <th>WindSpeed</th>\n",
       "      <th>TEMP</th>\n",
       "      <th>Humidity</th>\n",
       "    </tr>\n",
       "  </thead>\n",
       "  <tbody>\n",
       "    <tr>\n",
       "      <th>0</th>\n",
       "      <td>0.518408</td>\n",
       "      <td>1.449874</td>\n",
       "      <td>0.756166</td>\n",
       "      <td>1.954618</td>\n",
       "      <td>2.878401</td>\n",
       "      <td>1.117787</td>\n",
       "      <td>0.412717</td>\n",
       "      <td>1.203483</td>\n",
       "      <td>0.814889</td>\n",
       "      <td>0.752788</td>\n",
       "      <td>0.793235</td>\n",
       "      <td>0.449627</td>\n",
       "      <td>-0.226076</td>\n",
       "      <td>0.446378</td>\n",
       "    </tr>\n",
       "    <tr>\n",
       "      <th>1</th>\n",
       "      <td>0.203101</td>\n",
       "      <td>1.275272</td>\n",
       "      <td>0.587300</td>\n",
       "      <td>2.539568</td>\n",
       "      <td>2.354996</td>\n",
       "      <td>0.851208</td>\n",
       "      <td>0.741553</td>\n",
       "      <td>0.866935</td>\n",
       "      <td>0.713987</td>\n",
       "      <td>0.664715</td>\n",
       "      <td>0.695925</td>\n",
       "      <td>0.583636</td>\n",
       "      <td>-0.227064</td>\n",
       "      <td>0.377271</td>\n",
       "    </tr>\n",
       "    <tr>\n",
       "      <th>2</th>\n",
       "      <td>0.833714</td>\n",
       "      <td>1.580826</td>\n",
       "      <td>0.847094</td>\n",
       "      <td>2.508781</td>\n",
       "      <td>2.762089</td>\n",
       "      <td>1.028927</td>\n",
       "      <td>0.388229</td>\n",
       "      <td>1.112790</td>\n",
       "      <td>0.774528</td>\n",
       "      <td>0.840862</td>\n",
       "      <td>0.746792</td>\n",
       "      <td>0.762316</td>\n",
       "      <td>-0.185539</td>\n",
       "      <td>0.235819</td>\n",
       "    </tr>\n",
       "    <tr>\n",
       "      <th>3</th>\n",
       "      <td>0.754888</td>\n",
       "      <td>2.584787</td>\n",
       "      <td>0.502867</td>\n",
       "      <td>1.831470</td>\n",
       "      <td>2.122372</td>\n",
       "      <td>1.917522</td>\n",
       "      <td>1.336257</td>\n",
       "      <td>1.949790</td>\n",
       "      <td>0.915791</td>\n",
       "      <td>1.580678</td>\n",
       "      <td>0.807610</td>\n",
       "      <td>0.058765</td>\n",
       "      <td>-0.143025</td>\n",
       "      <td>0.204864</td>\n",
       "    </tr>\n",
       "    <tr>\n",
       "      <th>4</th>\n",
       "      <td>-1.373431</td>\n",
       "      <td>-1.562011</td>\n",
       "      <td>-1.555996</td>\n",
       "      <td>-1.462725</td>\n",
       "      <td>2.703933</td>\n",
       "      <td>-1.459139</td>\n",
       "      <td>-1.011075</td>\n",
       "      <td>-1.477974</td>\n",
       "      <td>-1.505857</td>\n",
       "      <td>-1.079138</td>\n",
       "      <td>-1.514552</td>\n",
       "      <td>-1.783869</td>\n",
       "      <td>-2.149097</td>\n",
       "      <td>-2.257060</td>\n",
       "    </tr>\n",
       "  </tbody>\n",
       "</table>\n",
       "</div>"
      ],
      "text/plain": [
       "        SO2        CO        O3      PM10      PM25       Nox        NO  \\\n",
       "0  0.518408  1.449874  0.756166  1.954618  2.878401  1.117787  0.412717   \n",
       "1  0.203101  1.275272  0.587300  2.539568  2.354996  0.851208  0.741553   \n",
       "2  0.833714  1.580826  0.847094  2.508781  2.762089  1.028927  0.388229   \n",
       "3  0.754888  2.584787  0.502867  1.831470  2.122372  1.917522  1.336257   \n",
       "4 -1.373431 -1.562011 -1.555996 -1.462725  2.703933 -1.459139 -1.011075   \n",
       "\n",
       "        NO2       THC      NMHC       CH4  WindSpeed      TEMP  Humidity  \n",
       "0  1.203483  0.814889  0.752788  0.793235   0.449627 -0.226076  0.446378  \n",
       "1  0.866935  0.713987  0.664715  0.695925   0.583636 -0.227064  0.377271  \n",
       "2  1.112790  0.774528  0.840862  0.746792   0.762316 -0.185539  0.235819  \n",
       "3  1.949790  0.915791  1.580678  0.807610   0.058765 -0.143025  0.204864  \n",
       "4 -1.477974 -1.505857 -1.079138 -1.514552  -1.783869 -2.149097 -2.257060  "
      ]
     },
     "execution_count": 37,
     "metadata": {},
     "output_type": "execute_result"
    }
   ],
   "source": [
    "df_feat = pd.DataFrame(scaled_features,columns=df.columns[:-1])\n",
    "df_feat.head()"
   ]
  },
  {
   "cell_type": "code",
   "execution_count": 38,
   "metadata": {},
   "outputs": [],
   "source": [
    "from sklearn.model_selection import train_test_split\n",
    "\n",
    "X = df_feat\n",
    "y = df['Danger']\n",
    "X_train, X_test, y_train, y_test = train_test_split(X,y,test_size=0.30,random_state=101)"
   ]
  },
  {
   "cell_type": "code",
   "execution_count": 39,
   "metadata": {},
   "outputs": [],
   "source": [
    "from sklearn.neighbors import KNeighborsClassifier\n",
    "\n",
    "#從k值=1開始測試\n",
    "knn = KNeighborsClassifier(n_neighbors=1)\n",
    "knn.fit(X_train,y_train)\n",
    "pred = knn.predict(X_test)"
   ]
  },
  {
   "cell_type": "code",
   "execution_count": 40,
   "metadata": {},
   "outputs": [
    {
     "name": "stdout",
     "output_type": "stream",
     "text": [
      "[[3477   98]\n",
      " [ 107  872]]\n",
      "              precision    recall  f1-score   support\n",
      "\n",
      "           0       0.97      0.97      0.97      3575\n",
      "           1       0.90      0.89      0.89       979\n",
      "\n",
      "   micro avg       0.95      0.95      0.95      4554\n",
      "   macro avg       0.93      0.93      0.93      4554\n",
      "weighted avg       0.95      0.95      0.95      4554\n",
      "\n"
     ]
    }
   ],
   "source": [
    "from sklearn.metrics import classification_report,confusion_matrix\n",
    "print(confusion_matrix(y_test,pred))\n",
    "print(classification_report(y_test,pred))"
   ]
  },
  {
   "cell_type": "code",
   "execution_count": 44,
   "metadata": {},
   "outputs": [
    {
     "data": {
      "text/plain": [
       "Text(0, 0.5, 'Error Rate')"
      ]
     },
     "execution_count": 44,
     "metadata": {},
     "output_type": "execute_result"
    },
    {
     "data": {
      "image/png": "[encoded data removed]",
      "text/plain": [
       "<Figure size 720x432 with 1 Axes>"
      ]
     },
     "metadata": {
      "needs_background": "light"
     },
     "output_type": "display_data"
    }
   ],
   "source": [
    "error_rate = []\n",
    "\n",
    "for i in range(1,60):\n",
    "    \n",
    "    knn = KNeighborsClassifier(n_neighbors=i)\n",
    "    knn.fit(X_train,y_train)\n",
    "    pred_i = knn.predict(X_test)\n",
    "    error_rate.append(np.mean(pred_i != y_test))\n",
    "\n",
    "\n",
    "#將k=1~60的錯誤率製圖畫出。k=7之後，錯誤率就往上跑，\n",
    "plt.figure(figsize=(10,6))\n",
    "plt.plot(range(1,60),error_rate,color='blue', linestyle='dashed', marker='o',\n",
    "         markerfacecolor='red', markersize=10)\n",
    "plt.title('Error Rate vs. K Value')\n",
    "plt.xlabel('K')\n",
    "plt.ylabel('Error Rate')"
   ]
  },
  {
   "cell_type": "code",
   "execution_count": 45,
   "metadata": {},
   "outputs": [
    {
     "name": "stdout",
     "output_type": "stream",
     "text": [
      "WITH K=1\n",
      "\n",
      "\n",
      "[[3477   98]\n",
      " [ 107  872]]\n",
      "\n",
      "\n",
      "              precision    recall  f1-score   support\n",
      "\n",
      "           0       0.97      0.97      0.97      3575\n",
      "           1       0.90      0.89      0.89       979\n",
      "\n",
      "   micro avg       0.95      0.95      0.95      4554\n",
      "   macro avg       0.93      0.93      0.93      4554\n",
      "weighted avg       0.95      0.95      0.95      4554\n",
      "\n"
     ]
    }
   ],
   "source": [
    "knn = KNeighborsClassifier(n_neighbors=1)\n",
    "\n",
    "knn.fit(X_train,y_train)\n",
    "pred = knn.predict(X_test)\n",
    "\n",
    "print('WITH K=1')\n",
    "print('\\n')\n",
    "print(confusion_matrix(y_test,pred))\n",
    "print('\\n')\n",
    "print(classification_report(y_test,pred))"
   ]
  },
  {
   "cell_type": "code",
   "execution_count": 46,
   "metadata": {},
   "outputs": [
    {
     "name": "stdout",
     "output_type": "stream",
     "text": [
      "WITH K=10\n",
      "\n",
      "\n",
      "[[3523   52]\n",
      " [  96  883]]\n",
      "\n",
      "\n",
      "              precision    recall  f1-score   support\n",
      "\n",
      "           0       0.97      0.99      0.98      3575\n",
      "           1       0.94      0.90      0.92       979\n",
      "\n",
      "   micro avg       0.97      0.97      0.97      4554\n",
      "   macro avg       0.96      0.94      0.95      4554\n",
      "weighted avg       0.97      0.97      0.97      4554\n",
      "\n"
     ]
    }
   ],
   "source": [
    "knn = KNeighborsClassifier(n_neighbors=10)\n",
    "\n",
    "knn.fit(X_train,y_train)\n",
    "pred = knn.predict(X_test)\n",
    "\n",
    "print('WITH K=10')\n",
    "print('\\n')\n",
    "print(confusion_matrix(y_test,pred))\n",
    "print('\\n')\n",
    "print(classification_report(y_test,pred))"
   ]
  },
  {
   "cell_type": "code",
   "execution_count": 49,
   "metadata": {},
   "outputs": [
    {
     "data": {
      "text/html": [
       "<div>\n",
       "<style scoped>\n",
       "    .dataframe tbody tr th:only-of-type {\n",
       "        vertical-align: middle;\n",
       "    }\n",
       "\n",
       "    .dataframe tbody tr th {\n",
       "        vertical-align: top;\n",
       "    }\n",
       "\n",
       "    .dataframe thead th {\n",
       "        text-align: right;\n",
       "    }\n",
       "</style>\n",
       "<table border=\"1\" class=\"dataframe\">\n",
       "  <thead>\n",
       "    <tr style=\"text-align: right;\">\n",
       "      <th></th>\n",
       "      <th>SO2</th>\n",
       "      <th>CO</th>\n",
       "      <th>O3</th>\n",
       "      <th>PM10</th>\n",
       "      <th>PM25</th>\n",
       "      <th>Nox</th>\n",
       "      <th>NO</th>\n",
       "      <th>NO2</th>\n",
       "      <th>THC</th>\n",
       "      <th>NMHC</th>\n",
       "      <th>CH4</th>\n",
       "      <th>WindSpeed</th>\n",
       "      <th>TEMP</th>\n",
       "      <th>Humidity</th>\n",
       "      <th>Danger</th>\n",
       "    </tr>\n",
       "  </thead>\n",
       "  <tbody>\n",
       "    <tr>\n",
       "      <th>0</th>\n",
       "      <td>4.8</td>\n",
       "      <td>0.69</td>\n",
       "      <td>35.6</td>\n",
       "      <td>111</td>\n",
       "      <td>71</td>\n",
       "      <td>29</td>\n",
       "      <td>4.07</td>\n",
       "      <td>24.54</td>\n",
       "      <td>2.3</td>\n",
       "      <td>0.208</td>\n",
       "      <td>2.087</td>\n",
       "      <td>2.0</td>\n",
       "      <td>19.45</td>\n",
       "      <td>75.11</td>\n",
       "      <td>1</td>\n",
       "    </tr>\n",
       "  </tbody>\n",
       "</table>\n",
       "</div>"
      ],
      "text/plain": [
       "   SO2    CO    O3  PM10  PM25  Nox    NO    NO2  THC   NMHC    CH4  \\\n",
       "0  4.8  0.69  35.6   111    71   29  4.07  24.54  2.3  0.208  2.087   \n",
       "\n",
       "   WindSpeed   TEMP  Humidity  Danger  \n",
       "0        2.0  19.45     75.11       1  "
      ]
     },
     "execution_count": 49,
     "metadata": {},
     "output_type": "execute_result"
    }
   ],
   "source": [
    "df.head(1)"
   ]
  },
  {
   "cell_type": "code",
   "execution_count": 57,
   "metadata": {},
   "outputs": [
    {
     "name": "stdout",
     "output_type": "stream",
     "text": [
      "Danger\n"
     ]
    }
   ],
   "source": [
    "#0:Safe   對一般人無害\n",
    "#1:Danger 對敏感族群有害\n",
    "classes={0:'Safe',1:'Danger'}\n",
    "\n",
    "#建立一筆新資料並進行預測\n",
    "x_new=[[4,0.3,25,10,15,22,2.2,20,2.3,0.3,2.3,2,20,60]]\n",
    "y_predict=knn.predict(x_new)\n",
    "print(classes[y_predict[0]])"
   ]
  },
  {
   "cell_type": "code",
   "execution_count": 59,
   "metadata": {},
   "outputs": [
    {
     "name": "stdout",
     "output_type": "stream",
     "text": [
      "Safe\n"
     ]
    }
   ],
   "source": [
    "classes={0:'Safe',1:'Danger'}\n",
    "\n",
    "x_new=[[1,0.3,1,1,1,2,1,1,1,0.1,1,0.5,30,50]]\n",
    "y_predict=knn.predict(x_new)\n",
    "print(classes[y_predict[0]])"
   ]
  },
  {
   "cell_type": "code",
   "execution_count": 56,
   "metadata": {},
   "outputs": [
    {
     "data": {
      "text/plain": [
       "0.9675010979358806"
      ]
     },
     "execution_count": 56,
     "metadata": {},
     "output_type": "execute_result"
    }
   ],
   "source": [
    "knn.score(X_test, y_test)"
   ]
  },
  {
   "cell_type": "markdown",
   "metadata": {},
   "source": [
    "與前次相比，KNN的準確率\n",
    "從0.9287356321839081變成0.9675010979358806"
   ]
  },
  {
   "cell_type": "markdown",
   "metadata": {},
   "source": [
    "前次資料1448筆\n",
    "本次資料15179筆"
   ]
  },
  {
   "cell_type": "code",
   "execution_count": null,
   "metadata": {},
   "outputs": [],
   "source": []
  }
 ],
 "metadata": {
  "kernelspec": {
   "display_name": "Python 3",
   "language": "python",
   "name": "python3"
  },
  "language_info": {
   "codemirror_mode": {
    "name": "ipython",
    "version": 3
   },
   "file_extension": ".py",
   "mimetype": "text/x-python",
   "name": "python",
   "nbconvert_exporter": "python",
   "pygments_lexer": "ipython3",
   "version": "3.6.7"
  },
  "toc": {
   "base_numbering": 1,
   "nav_menu": {},
   "number_sections": true,
   "sideBar": true,
   "skip_h1_title": false,
   "title_cell": "Table of Contents",
   "title_sidebar": "Contents",
   "toc_cell": false,
   "toc_position": {},
   "toc_section_display": true,
   "toc_window_display": false
  },
  "varInspector": {
   "cols": {
    "lenName": 16,
    "lenType": 16,
    "lenVar": 40
   },
   "kernels_config": {
    "python": {
     "delete_cmd_postfix": "",
     "delete_cmd_prefix": "del ",
     "library": "var_list.py",
     "varRefreshCmd": "print(var_dic_list())"
    },
    "r": {
     "delete_cmd_postfix": ") ",
     "delete_cmd_prefix": "rm(",
     "library": "var_list.r",
     "varRefreshCmd": "cat(var_dic_list()) "
    }
   },
   "types_to_exclude": [
    "module",
    "function",
    "builtin_function_or_method",
    "instance",
    "_Feature"
   ],
   "window_display": false
  }
 },
 "nbformat": 4,
 "nbformat_minor": 2
}
