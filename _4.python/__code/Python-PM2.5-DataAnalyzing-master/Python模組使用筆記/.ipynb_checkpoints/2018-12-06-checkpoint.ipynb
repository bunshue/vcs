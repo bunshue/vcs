{
 "cells": [
  {
   "cell_type": "markdown",
   "metadata": {},
   "source": [
    "# Pandas資料分析筆記"
   ]
  },
  {
   "cell_type": "markdown",
   "metadata": {},
   "source": [
    "## 1.初始化"
   ]
  },
  {
   "cell_type": "code",
   "execution_count": 1,
   "metadata": {},
   "outputs": [],
   "source": [
    "import pandas as pd #引入Pandas模組 as pd\n",
    "pd.set_option(\"display.max_rows\", 1000)    #設定最大能顯示1000rows\n",
    "pd.set_option(\"display.max_columns\", 1000) #設定最大能顯示1000columns"
   ]
  },
  {
   "cell_type": "markdown",
   "metadata": {},
   "source": [
    "## 2.解決plot不能顯示中文問題"
   ]
  },
  {
   "cell_type": "code",
   "execution_count": 2,
   "metadata": {},
   "outputs": [],
   "source": [
    "from pylab import mpl\n",
    "mpl.rcParams['font.sans-serif'] = ['Microsoft YaHei']  \n",
    "mpl.rcParams['axes.unicode_minus'] = False"
   ]
  },
  {
   "cell_type": "markdown",
   "metadata": {},
   "source": [
    "## 3.讀取檔案"
   ]
  },
  {
   "cell_type": "code",
   "execution_count": 11,
   "metadata": {},
   "outputs": [],
   "source": [
    "df=pd.read_excel('C:/Users/Yanwei/a.xlsx')"
   ]
  },
  {
   "cell_type": "markdown",
   "metadata": {},
   "source": [
    "## 4.資料操作"
   ]
  },
  {
   "cell_type": "markdown",
   "metadata": {},
   "source": [
    "### 4.1基本操作"
   ]
  },
  {
   "cell_type": "code",
   "execution_count": 13,
   "metadata": {},
   "outputs": [
    {
     "data": {
      "text/html": [
       "<div>\n",
       "<style scoped>\n",
       "    .dataframe tbody tr th:only-of-type {\n",
       "        vertical-align: middle;\n",
       "    }\n",
       "\n",
       "    .dataframe tbody tr th {\n",
       "        vertical-align: top;\n",
       "    }\n",
       "\n",
       "    .dataframe thead th {\n",
       "        text-align: right;\n",
       "    }\n",
       "</style>\n",
       "<table border=\"1\" class=\"dataframe\">\n",
       "  <thead>\n",
       "    <tr style=\"text-align: right;\">\n",
       "      <th></th>\n",
       "      <th>序號</th>\n",
       "      <th>縣市</th>\n",
       "      <th>監測日期</th>\n",
       "      <th>測站</th>\n",
       "      <th>SO2</th>\n",
       "      <th>CO</th>\n",
       "      <th>O3</th>\n",
       "      <th>PM10</th>\n",
       "      <th>PM2.5</th>\n",
       "      <th>Nox</th>\n",
       "      <th>NO</th>\n",
       "      <th>NO2</th>\n",
       "      <th>THC</th>\n",
       "      <th>NMHC</th>\n",
       "      <th>CH4</th>\n",
       "      <th>WindSpeed</th>\n",
       "      <th>TEMP</th>\n",
       "      <th>RAIN_INT</th>\n",
       "      <th>PH_RAIN</th>\n",
       "      <th>Humidity</th>\n",
       "      <th>RAIN_COND</th>\n",
       "    </tr>\n",
       "  </thead>\n",
       "  <tbody>\n",
       "    <tr>\n",
       "      <th>0</th>\n",
       "      <td>1</td>\n",
       "      <td>高雄市</td>\n",
       "      <td>2018-09-30</td>\n",
       "      <td>左營</td>\n",
       "      <td>3.3</td>\n",
       "      <td>0.38</td>\n",
       "      <td>56.8</td>\n",
       "      <td>56</td>\n",
       "      <td>26</td>\n",
       "      <td>15</td>\n",
       "      <td>1.5</td>\n",
       "      <td>13.68</td>\n",
       "      <td>2.1</td>\n",
       "      <td>0.109</td>\n",
       "      <td>1.989</td>\n",
       "      <td>1.51</td>\n",
       "      <td>27.02</td>\n",
       "      <td>-</td>\n",
       "      <td>-</td>\n",
       "      <td>63.50</td>\n",
       "      <td>-</td>\n",
       "    </tr>\n",
       "    <tr>\n",
       "      <th>1</th>\n",
       "      <td>2</td>\n",
       "      <td>高雄市</td>\n",
       "      <td>2018-09-30</td>\n",
       "      <td>楠梓</td>\n",
       "      <td>3.4</td>\n",
       "      <td>0.36</td>\n",
       "      <td>58.5</td>\n",
       "      <td>62</td>\n",
       "      <td>28</td>\n",
       "      <td>14</td>\n",
       "      <td>1.92</td>\n",
       "      <td>12.02</td>\n",
       "      <td>2.11</td>\n",
       "      <td>0.117</td>\n",
       "      <td>1.998</td>\n",
       "      <td>1.61</td>\n",
       "      <td>27.12</td>\n",
       "      <td>-</td>\n",
       "      <td>-</td>\n",
       "      <td>63.98</td>\n",
       "      <td>-</td>\n",
       "    </tr>\n",
       "    <tr>\n",
       "      <th>2</th>\n",
       "      <td>3</td>\n",
       "      <td>高雄市</td>\n",
       "      <td>2018-09-30</td>\n",
       "      <td>前金</td>\n",
       "      <td>3.6</td>\n",
       "      <td>0.38</td>\n",
       "      <td>60.1</td>\n",
       "      <td>55</td>\n",
       "      <td>24</td>\n",
       "      <td>13</td>\n",
       "      <td>0.84</td>\n",
       "      <td>12.29</td>\n",
       "      <td>2.09</td>\n",
       "      <td>0.098</td>\n",
       "      <td>1.994</td>\n",
       "      <td>2.06</td>\n",
       "      <td>27.09</td>\n",
       "      <td>-</td>\n",
       "      <td>-</td>\n",
       "      <td>62.97</td>\n",
       "      <td>-</td>\n",
       "    </tr>\n",
       "    <tr>\n",
       "      <th>3</th>\n",
       "      <td>4</td>\n",
       "      <td>高雄市</td>\n",
       "      <td>2018-09-30</td>\n",
       "      <td>前鎮</td>\n",
       "      <td>5.6</td>\n",
       "      <td>0.42</td>\n",
       "      <td>55.8</td>\n",
       "      <td>65</td>\n",
       "      <td>21</td>\n",
       "      <td>20</td>\n",
       "      <td>1.81</td>\n",
       "      <td>18.21</td>\n",
       "      <td>2.17</td>\n",
       "      <td>0.144</td>\n",
       "      <td>2.024</td>\n",
       "      <td>1.44</td>\n",
       "      <td>28.01</td>\n",
       "      <td>-</td>\n",
       "      <td>-</td>\n",
       "      <td>59.10</td>\n",
       "      <td>-</td>\n",
       "    </tr>\n",
       "    <tr>\n",
       "      <th>4</th>\n",
       "      <td>5</td>\n",
       "      <td>高雄市</td>\n",
       "      <td>2018-09-30</td>\n",
       "      <td>復興</td>\n",
       "      <td>5</td>\n",
       "      <td>0.43</td>\n",
       "      <td>57</td>\n",
       "      <td>51</td>\n",
       "      <td>22</td>\n",
       "      <td>16</td>\n",
       "      <td>1.37</td>\n",
       "      <td>14.84</td>\n",
       "      <td>2.15</td>\n",
       "      <td>0.148</td>\n",
       "      <td>2.003</td>\n",
       "      <td>0.93</td>\n",
       "      <td>27.81</td>\n",
       "      <td>-</td>\n",
       "      <td>-</td>\n",
       "      <td>62.43</td>\n",
       "      <td>-</td>\n",
       "    </tr>\n",
       "    <tr>\n",
       "      <th>5</th>\n",
       "      <td>6</td>\n",
       "      <td>高雄市</td>\n",
       "      <td>2018-09-30</td>\n",
       "      <td>小港</td>\n",
       "      <td>8.6</td>\n",
       "      <td>0.34</td>\n",
       "      <td>52.8</td>\n",
       "      <td>71</td>\n",
       "      <td>21</td>\n",
       "      <td>-</td>\n",
       "      <td>-</td>\n",
       "      <td>-</td>\n",
       "      <td>2.04</td>\n",
       "      <td>0.104</td>\n",
       "      <td>1.935</td>\n",
       "      <td>1.73</td>\n",
       "      <td>28.80</td>\n",
       "      <td>0</td>\n",
       "      <td>0</td>\n",
       "      <td>56.82</td>\n",
       "      <td>0</td>\n",
       "    </tr>\n",
       "    <tr>\n",
       "      <th>6</th>\n",
       "      <td>7</td>\n",
       "      <td>高雄市</td>\n",
       "      <td>2018-09-30</td>\n",
       "      <td>鳳山</td>\n",
       "      <td>5.2</td>\n",
       "      <td>0.52</td>\n",
       "      <td>52.7</td>\n",
       "      <td>52</td>\n",
       "      <td>25</td>\n",
       "      <td>20</td>\n",
       "      <td>1.43</td>\n",
       "      <td>18.79</td>\n",
       "      <td>2.13</td>\n",
       "      <td>0.17</td>\n",
       "      <td>1.957</td>\n",
       "      <td>1.33</td>\n",
       "      <td>28.39</td>\n",
       "      <td>0</td>\n",
       "      <td>0</td>\n",
       "      <td>56.43</td>\n",
       "      <td>0</td>\n",
       "    </tr>\n",
       "    <tr>\n",
       "      <th>7</th>\n",
       "      <td>8</td>\n",
       "      <td>高雄市</td>\n",
       "      <td>2018-09-30</td>\n",
       "      <td>林園</td>\n",
       "      <td>4</td>\n",
       "      <td>0.28</td>\n",
       "      <td>58</td>\n",
       "      <td>41</td>\n",
       "      <td>21</td>\n",
       "      <td>10</td>\n",
       "      <td>0.56</td>\n",
       "      <td>9.82</td>\n",
       "      <td>2.02</td>\n",
       "      <td>0.034</td>\n",
       "      <td>1.981</td>\n",
       "      <td>1.82</td>\n",
       "      <td>27.72</td>\n",
       "      <td>-</td>\n",
       "      <td>-</td>\n",
       "      <td>64.23</td>\n",
       "      <td>-</td>\n",
       "    </tr>\n",
       "    <tr>\n",
       "      <th>8</th>\n",
       "      <td>9</td>\n",
       "      <td>高雄市</td>\n",
       "      <td>2018-09-30</td>\n",
       "      <td>大寮</td>\n",
       "      <td>3.6</td>\n",
       "      <td>0.3</td>\n",
       "      <td>55.1</td>\n",
       "      <td>41</td>\n",
       "      <td>22</td>\n",
       "      <td>12</td>\n",
       "      <td>0.93</td>\n",
       "      <td>11.16</td>\n",
       "      <td>2.17</td>\n",
       "      <td>0.085</td>\n",
       "      <td>2.087</td>\n",
       "      <td>1.19</td>\n",
       "      <td>26.90</td>\n",
       "      <td>-</td>\n",
       "      <td>-</td>\n",
       "      <td>69.73</td>\n",
       "      <td>-</td>\n",
       "    </tr>\n",
       "    <tr>\n",
       "      <th>9</th>\n",
       "      <td>10</td>\n",
       "      <td>高雄市</td>\n",
       "      <td>2018-09-30</td>\n",
       "      <td>仁武</td>\n",
       "      <td>4.6</td>\n",
       "      <td>0.4</td>\n",
       "      <td>58.7</td>\n",
       "      <td>54</td>\n",
       "      <td>22</td>\n",
       "      <td>17</td>\n",
       "      <td>1.32</td>\n",
       "      <td>15.92</td>\n",
       "      <td>2.14</td>\n",
       "      <td>0.155</td>\n",
       "      <td>1.982</td>\n",
       "      <td>1.90</td>\n",
       "      <td>27.18</td>\n",
       "      <td>-</td>\n",
       "      <td>-</td>\n",
       "      <td>63.48</td>\n",
       "      <td>-</td>\n",
       "    </tr>\n",
       "  </tbody>\n",
       "</table>\n",
       "</div>"
      ],
      "text/plain": [
       "   序號   縣市       監測日期  測站  SO2    CO    O3 PM10 PM2.5 Nox    NO    NO2   THC  \\\n",
       "0   1  高雄市 2018-09-30  左營  3.3  0.38  56.8   56    26  15   1.5  13.68   2.1   \n",
       "1   2  高雄市 2018-09-30  楠梓  3.4  0.36  58.5   62    28  14  1.92  12.02  2.11   \n",
       "2   3  高雄市 2018-09-30  前金  3.6  0.38  60.1   55    24  13  0.84  12.29  2.09   \n",
       "3   4  高雄市 2018-09-30  前鎮  5.6  0.42  55.8   65    21  20  1.81  18.21  2.17   \n",
       "4   5  高雄市 2018-09-30  復興    5  0.43    57   51    22  16  1.37  14.84  2.15   \n",
       "5   6  高雄市 2018-09-30  小港  8.6  0.34  52.8   71    21   -     -      -  2.04   \n",
       "6   7  高雄市 2018-09-30  鳳山  5.2  0.52  52.7   52    25  20  1.43  18.79  2.13   \n",
       "7   8  高雄市 2018-09-30  林園    4  0.28    58   41    21  10  0.56   9.82  2.02   \n",
       "8   9  高雄市 2018-09-30  大寮  3.6   0.3  55.1   41    22  12  0.93  11.16  2.17   \n",
       "9  10  高雄市 2018-09-30  仁武  4.6   0.4  58.7   54    22  17  1.32  15.92  2.14   \n",
       "\n",
       "    NMHC    CH4  WindSpeed   TEMP RAIN_INT PH_RAIN  Humidity RAIN_COND  \n",
       "0  0.109  1.989       1.51  27.02        -       -     63.50         -  \n",
       "1  0.117  1.998       1.61  27.12        -       -     63.98         -  \n",
       "2  0.098  1.994       2.06  27.09        -       -     62.97         -  \n",
       "3  0.144  2.024       1.44  28.01        -       -     59.10         -  \n",
       "4  0.148  2.003       0.93  27.81        -       -     62.43         -  \n",
       "5  0.104  1.935       1.73  28.80        0       0     56.82         0  \n",
       "6   0.17  1.957       1.33  28.39        0       0     56.43         0  \n",
       "7  0.034  1.981       1.82  27.72        -       -     64.23         -  \n",
       "8  0.085  2.087       1.19  26.90        -       -     69.73         -  \n",
       "9  0.155  1.982       1.90  27.18        -       -     63.48         -  "
      ]
     },
     "execution_count": 13,
     "metadata": {},
     "output_type": "execute_result"
    }
   ],
   "source": [
    "df.head(10)  #顯示出前10筆資料，預設值為5筆資料"
   ]
  },
  {
   "cell_type": "markdown",
   "metadata": {},
   "source": [
    "### 4.2 iloc,loc,ix方法"
   ]
  },
  {
   "cell_type": "code",
   "execution_count": null,
   "metadata": {},
   "outputs": [],
   "source": [
    "df.iloc[4]                          #顯示第4筆資料的所有數據 \n",
    "df1 = df.set_index(['測站'])       #將測站設定為索引(即擺到第一行第一列)\n",
    "df1 = df1.reset_index(['測站'])    #恢復原本設置\n",
    "df1.loc['左營']                    #列出所有左營的數據"
   ]
  },
  {
   "cell_type": "markdown",
   "metadata": {},
   "source": [
    "### 4.3刪除資料"
   ]
  },
  {
   "cell_type": "code",
   "execution_count": null,
   "metadata": {},
   "outputs": [],
   "source": [
    "df.drop(labels=['SO2','CO'],axis='columns') #刪除SO2和CO這兩個欄位\n",
    "df=df.drop_duplicates()                     #刪除重複的資料\n",
    "#axis=0和asxis='row'一樣\n",
    "#axis=1和axis='columns'一樣"
   ]
  },
  {
   "cell_type": "markdown",
   "metadata": {},
   "source": [
    "### 4.4處理NaN資料"
   ]
  },
  {
   "cell_type": "code",
   "execution_count": null,
   "metadata": {},
   "outputs": [],
   "source": [
    "df.dropna()                        #刪除NaN的資料\n",
    "df=df.dropna()                     #將刪除後的資料存到變數\n",
    "df.dropna(axis=1)                  #删除所有包含空值的列\n",
    "df=df.fillna(0)                    #把NaN資料替換成0 "
   ]
  },
  {
   "cell_type": "markdown",
   "metadata": {},
   "source": [
    "### 4.5指定特殊需求 "
   ]
  },
  {
   "cell_type": "code",
   "execution_count": null,
   "metadata": {},
   "outputs": [],
   "source": [
    "df.sort_index(ascending=True).head(100)  #升階排序\n",
    "df.sort_index(ascending=False).head(100) #降階排序"
   ]
  },
  {
   "cell_type": "markdown",
   "metadata": {},
   "source": [
    "### 4.6備註"
   ]
  },
  {
   "cell_type": "code",
   "execution_count": null,
   "metadata": {},
   "outputs": [],
   "source": [
    "#基本上df[['AQI']]和df.AQI功能一樣\n",
    "#iloc只對數值類型有用，loc只對字串類型有用，ix混合iloc與loc(但不建議，易失敗)"
   ]
  },
  {
   "cell_type": "markdown",
   "metadata": {},
   "source": [
    "## 5.字串處理"
   ]
  },
  {
   "cell_type": "markdown",
   "metadata": {},
   "source": [
    "### 5.1大小寫與字串變更"
   ]
  },
  {
   "cell_type": "code",
   "execution_count": null,
   "metadata": {},
   "outputs": [],
   "source": [
    "df['PM2.5'].str.title() #讓字串第一個字為大寫\n",
    "df['PM2.5'].str.lower() #讓字串全部變成小寫\n",
    "df['PM2.5'].str.upper() #讓字串全部變成大寫\n",
    "df['PM2.5']=df['PM2.5'].str.replace(\"要改變的字串\",\"想改變成的字串\")"
   ]
  },
  {
   "cell_type": "markdown",
   "metadata": {},
   "source": [
    "### 5.2找出資料"
   ]
  },
  {
   "cell_type": "code",
   "execution_count": null,
   "metadata": {},
   "outputs": [],
   "source": [
    "df[df.AQI.startswith('高雄市')]  #顯示出高雄市開頭的資料\n",
    "df[df.AQI.endswith('高雄市')]    #顯示出高雄市做為結尾的資料"
   ]
  },
  {
   "cell_type": "markdown",
   "metadata": {},
   "source": [
    "## 6.來一點複雜操作"
   ]
  },
  {
   "cell_type": "code",
   "execution_count": null,
   "metadata": {},
   "outputs": [],
   "source": [
    "df[['AQI','WindSpeed']]#顯示Columns(列)為AQI及WindSpeed的數據df[df.AQI<50]          #顯示AQI<50的數值\n",
    "df[(df.AQI < 30)&(df.WindSpeed>2)] #列出AQI值大於30且風速大於2的數值\n",
    "df['AQI'] / 2 #將所有AQI值除以2(+,-,*,/皆適用)\n",
    "-----------------------------------------\n",
    "AQI_filter = df['AQI']>60 #使用布林，當AQI>60為True，<60為False\n",
    "\n",
    "Bad_AQI= df[AQI_filter] #將過濾後的數值存入至Bad_AQI\n",
    "Bad_AQI.head() #只顯示AQI>60的資料\n",
    "\n",
    "AQI_filter_2 = (df['AQI']>60)&(df['PM2.5']>40) \n",
    "#使用布林，條件是AQI>60且PM2.5數值超過40\n",
    "\n",
    "Bad_AQI_PM= df[AQI_filter_2] #將過濾後的數值存入至Bad_AQI_PM\n",
    "Bad_AQI_PM.head() #只顯示AQI>60且PM2.5>40的資料"
   ]
  },
  {
   "cell_type": "markdown",
   "metadata": {},
   "source": [
    "## 7.繪圖與存檔"
   ]
  },
  {
   "cell_type": "markdown",
   "metadata": {},
   "source": [
    "### 7.1資料視覺化"
   ]
  },
  {
   "cell_type": "code",
   "execution_count": null,
   "metadata": {},
   "outputs": [],
   "source": [
    "df.plot(x='SiteName', y=['AQI']) #進行繪圖(X軸為地點,Y軸為AQI數值)\n",
    "pic=df.plot(kind = 'scatter', x = 'WindSpeed', y = 'PM2.5', title = '風速與PM2.5之關係') #製作散布圖,X軸風速,Y軸為PM2.5指數\n",
    "print(pic)"
   ]
  },
  {
   "cell_type": "markdown",
   "metadata": {},
   "source": [
    "## 7.2存檔"
   ]
  },
  {
   "cell_type": "code",
   "execution_count": null,
   "metadata": {},
   "outputs": [],
   "source": [
    "df.to_csv('New_Data.csv',encoding='utf8')  #存檔至New_Data.csv中\n",
    "df.to_json('New_Data.json', encoding='utf8')#存檔至New_Data.json\n",
    "df.to_excel('New_Data.xlsx', encoding='utf8')#存檔至New_Data.xlsx"
   ]
  }
 ],
 "metadata": {
  "kernelspec": {
   "display_name": "Python 3",
   "language": "python",
   "name": "python3"
  },
  "language_info": {
   "codemirror_mode": {
    "name": "ipython",
    "version": 3
   },
   "file_extension": ".py",
   "mimetype": "text/x-python",
   "name": "python",
   "nbconvert_exporter": "python",
   "pygments_lexer": "ipython3",
   "version": "3.6.6"
  }
 },
 "nbformat": 4,
 "nbformat_minor": 2
}
