{
 "cells": [
  {
   "cell_type": "markdown",
   "metadata": {},
   "source": [
    "# Pandas資料分析筆記"
   ]
  },
  {
   "cell_type": "markdown",
   "metadata": {},
   "source": [
    "## 1.初始化"
   ]
  },
  {
   "cell_type": "code",
   "execution_count": 1,
   "metadata": {},
   "outputs": [],
   "source": [
    "import pandas as pd #引入Pandas模組 as pd\n",
    "import seaborn as sns #引入seaborn模組 as sns\n",
    "%matplotlib inline\n",
    "pd.set_option(\"display.max_rows\", 1000)    #設定最大能顯示1000rows\n",
    "pd.set_option(\"display.max_columns\", 1000) #設定最大能顯示1000columns"
   ]
  },
  {
   "cell_type": "markdown",
   "metadata": {},
   "source": [
    "## 2.解決plot不能顯示中文問題"
   ]
  },
  {
   "cell_type": "code",
   "execution_count": 2,
   "metadata": {},
   "outputs": [],
   "source": [
    "from pylab import mpl\n",
    "mpl.rcParams['font.sans-serif'] = ['Microsoft YaHei']  \n",
    "mpl.rcParams['axes.unicode_minus'] = False"
   ]
  },
  {
   "cell_type": "markdown",
   "metadata": {},
   "source": [
    "## 3.讀取檔案"
   ]
  },
  {
   "cell_type": "code",
   "execution_count": null,
   "metadata": {},
   "outputs": [],
   "source": [
    "df=pd.read_csv('C:/Users/Yanwei/Desktop/fileName.csv')\n",
    "#or\n",
    "df=pd.read_csv(r'C:\\Users\\user01\\Desktop\\空氣品質監測-高雄市-2018年9月份-每日監測值.csv')\n",
    "\n",
    "#兩個df的差別\n",
    "#1)在前方加r，就不用反斜線\n",
    "#2)使用反斜線就不用加r"
   ]
  },
  {
   "cell_type": "markdown",
   "metadata": {},
   "source": [
    "## 4.資料操作"
   ]
  },
  {
   "cell_type": "markdown",
   "metadata": {},
   "source": [
    "### 4.1基本操作"
   ]
  },
  {
   "cell_type": "code",
   "execution_count": null,
   "metadata": {},
   "outputs": [],
   "source": [
    "df.head(10)  #顯示出前10筆資料，預設值為5筆資料\n",
    "df.tail(10)  #顯示後10筆資料\n",
    "df.shape     #顯示出資料共有(X行,Y列)\n",
    "len(df)      #顯示資料總筆數\n",
    "df.dtypes    #顯示資料類型\n",
    "df.describe()#顯示統計數字(最大、最小、平均......等)\n",
    "df[['AQI']]  #顯示Columns(列)為AQI的數據\n",
    "df.AQI       #顯示Columns(列)為AQI的數據\n",
    "df.columns = ['XXX','XXX', 'XXX'] #重新命名欄位\n",
    "df.T         #行與列互換\n",
    "df.info()    #顯示資料的狀態與資訊\n"
   ]
  },
  {
   "cell_type": "markdown",
   "metadata": {},
   "source": [
    "### 4.2 iloc,loc,ix方法"
   ]
  },
  {
   "cell_type": "code",
   "execution_count": null,
   "metadata": {},
   "outputs": [],
   "source": [
    "df.iloc[4]                          #顯示第4筆資料的所有數據 \n",
    "df1 = df.set_index(['測站'])       #將測站設定為索引(即擺到第一行第一列)\n",
    "df1 = df1.reset_index(['測站'])    #恢復原本設置\n",
    "df1.loc['左營']                    #列出所有左營的數據"
   ]
  },
  {
   "cell_type": "markdown",
   "metadata": {},
   "source": [
    "### 4.3刪除資料"
   ]
  },
  {
   "cell_type": "code",
   "execution_count": null,
   "metadata": {},
   "outputs": [],
   "source": [
    "df.drop(labels=['SO2','CO'],axis='columns') #刪除SO2和CO這兩個欄位\n",
    "df=df.drop_duplicates()                     #刪除重複的資料\n",
    "#axis=0和asxis='row'一樣\n",
    "#axis=1和axis='columns'一樣"
   ]
  },
  {
   "cell_type": "markdown",
   "metadata": {},
   "source": [
    "### 4.4處理NaN資料"
   ]
  },
  {
   "cell_type": "code",
   "execution_count": null,
   "metadata": {},
   "outputs": [],
   "source": [
    "df.dropna()                          #刪除NaN的資料\n",
    "df=df.dropna()                       #將刪除後的資料存到變數\n",
    "df.dropna(axis=1)                    #删除所有包含空值的列\n",
    "df=df.fillna(0)                      #把NaN資料替換成0 \n",
    "df['A'].fillna(value=df['A'].mean()) #把NaN值改成該屬性的所有平均值"
   ]
  },
  {
   "cell_type": "markdown",
   "metadata": {},
   "source": [
    "### 4.5指定特殊需求 "
   ]
  },
  {
   "cell_type": "code",
   "execution_count": null,
   "metadata": {},
   "outputs": [],
   "source": [
    "df.sort_index(ascending=True).head(100)  #升階排序\n",
    "df.sort_index(ascending=False).head(100) #降階排序"
   ]
  },
  {
   "cell_type": "markdown",
   "metadata": {},
   "source": [
    "### 4.6備註"
   ]
  },
  {
   "cell_type": "code",
   "execution_count": null,
   "metadata": {},
   "outputs": [],
   "source": [
    "#基本上df[['AQI']]和df.AQI功能一樣\n",
    "#iloc只對數值類型有用，loc只對字串類型有用，ix混合iloc與loc(但不建議，易失敗)"
   ]
  },
  {
   "cell_type": "markdown",
   "metadata": {},
   "source": [
    "## 5.字串處理"
   ]
  },
  {
   "cell_type": "markdown",
   "metadata": {},
   "source": [
    "### 5.1大小寫與字串變更"
   ]
  },
  {
   "cell_type": "code",
   "execution_count": null,
   "metadata": {},
   "outputs": [],
   "source": [
    "df['PM2.5'].str.title() #讓字串第一個字為大寫\n",
    "df['PM2.5'].str.lower() #讓字串全部變成小寫\n",
    "df['PM2.5'].str.upper() #讓字串全部變成大寫\n",
    "df['PM2.5']=df['PM2.5'].str.replace(\"要改變的字串\",\"想改變成的字串\")"
   ]
  },
  {
   "cell_type": "markdown",
   "metadata": {},
   "source": [
    "### 5.2找出資料"
   ]
  },
  {
   "cell_type": "code",
   "execution_count": null,
   "metadata": {},
   "outputs": [],
   "source": [
    "df[df.AQI.startswith('高雄市')]  #顯示出高雄市開頭的資料\n",
    "df[df.AQI.endswith('高雄市')]    #顯示出高雄市做為結尾的資料"
   ]
  },
  {
   "cell_type": "markdown",
   "metadata": {},
   "source": [
    "## 6.來一點複雜操作"
   ]
  },
  {
   "cell_type": "code",
   "execution_count": null,
   "metadata": {},
   "outputs": [],
   "source": [
    "df[['AQI','WindSpeed']]#顯示Columns(列)為AQI及WindSpeed的數據df[df.AQI<50]          #顯示AQI<50的數值\n",
    "df[(df.AQI < 30)&(df.WindSpeed>2)] #列出AQI值大於30且風速大於2的數值\n",
    "df['AQI'] / 2 #將所有AQI值除以2(+,-,*,/皆適用)\n",
    "-----------------------------------------\n",
    "AQI_filter = df['AQI']>60 #使用布林，當AQI>60為True，<60為False\n",
    "\n",
    "Bad_AQI= df[AQI_filter] #將過濾後的數值存入至Bad_AQI\n",
    "Bad_AQI.head() #只顯示AQI>60的資料\n",
    "\n",
    "AQI_filter_2 = (df['AQI']>60)&(df['PM2.5']>40) \n",
    "#使用布林，條件是AQI>60且PM2.5數值超過40\n",
    "\n",
    "Bad_AQI_PM= df[AQI_filter_2] #將過濾後的數值存入至Bad_AQI_PM\n",
    "Bad_AQI_PM.head() #只顯示AQI>60且PM2.5>40的資料"
   ]
  },
  {
   "cell_type": "markdown",
   "metadata": {},
   "source": [
    "## 7.繪圖與存檔"
   ]
  },
  {
   "cell_type": "markdown",
   "metadata": {},
   "source": [
    "### 7.1資料視覺化"
   ]
  },
  {
   "cell_type": "code",
   "execution_count": null,
   "metadata": {},
   "outputs": [],
   "source": [
    "df.plot(x='SiteName', y=['AQI']) #進行繪圖(X軸為地點,Y軸為AQI數值)\n",
    "pic=df.plot(kind = 'scatter', x = 'WindSpeed', y = 'PM2.5', title = '風速與PM2.5之關係') #製作散布圖,X軸風速,Y軸為PM2.5指數\n",
    "print(pic)"
   ]
  },
  {
   "cell_type": "markdown",
   "metadata": {},
   "source": [
    "### 7.2存檔"
   ]
  },
  {
   "cell_type": "code",
   "execution_count": null,
   "metadata": {},
   "outputs": [],
   "source": [
    "df.to_csv('New_Data.csv',encoding='utf8')  #存檔至New_Data.csv中\n",
    "df.to_json('New_Data.json', encoding='utf8')#存檔至New_Data.json\n",
    "df.to_excel('New_Data.xlsx', encoding='utf8')#存檔至New_Data.xlsx"
   ]
  }
 ],
 "metadata": {
  "kernelspec": {
   "display_name": "Python 3",
   "language": "python",
   "name": "python3"
  },
  "language_info": {
   "codemirror_mode": {
    "name": "ipython",
    "version": 3
   },
   "file_extension": ".py",
   "mimetype": "text/x-python",
   "name": "python",
   "nbconvert_exporter": "python",
   "pygments_lexer": "ipython3",
   "version": "3.6.6"
  }
 },
 "nbformat": 4,
 "nbformat_minor": 2
}
