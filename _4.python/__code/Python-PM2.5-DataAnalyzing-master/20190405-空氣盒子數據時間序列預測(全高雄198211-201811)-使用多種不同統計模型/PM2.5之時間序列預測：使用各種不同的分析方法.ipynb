{
 "cells": [
  {
   "cell_type": "markdown",
   "metadata": {},
   "source": [
    "# 以每月平均資料進行分析\n",
    "#### +12代表未來12個月的數值"
   ]
  },
  {
   "cell_type": "code",
   "execution_count": 51,
   "metadata": {},
   "outputs": [],
   "source": [
    "import matplotlib.pyplot as plt\n",
    "%matplotlib inline"
   ]
  },
  {
   "cell_type": "markdown",
   "metadata": {},
   "source": [
    "## Autoregression (AR)"
   ]
  },
  {
   "cell_type": "code",
   "execution_count": 80,
   "metadata": {},
   "outputs": [
    {
     "name": "stdout",
     "output_type": "stream",
     "text": [
      "4036    35.068828\n",
      "4037    38.318590\n",
      "4038    36.511699\n",
      "4039    35.779799\n",
      "4040    34.831148\n",
      "4041    34.669631\n",
      "4042    34.624999\n",
      "4043    35.208316\n",
      "4044    36.367979\n",
      "4045    35.522797\n",
      "4046    33.721465\n",
      "4047    33.618248\n",
      "4048    35.231517\n",
      "dtype: float64\n"
     ]
    },
    {
     "data": {
      "text/plain": [
       "([<matplotlib.axis.YTick at 0xea39358>, <matplotlib.axis.YTick at 0xea2fc50>],\n",
       " <a list of 2 Text yticklabel objects>)"
      ]
     },
     "execution_count": 80,
     "metadata": {},
     "output_type": "execute_result"
    },
    {
     "data": {
      "image/png": "[encoded data removed]",
      "text/plain": [
       "<Figure size 432x288 with 1 Axes>"
      ]
     },
     "metadata": {
      "needs_background": "light"
     },
     "output_type": "display_data"
    }
   ],
   "source": [
    "# AR example\n",
    "from statsmodels.tsa.ar_model import AR\n",
    "import pandas as pd\n",
    "# contrived dataset\n",
    "data = pd.read_excel('TimeSeries_198211-201811.xlsx').PM25\n",
    "# fit model\n",
    "model = AR(data)\n",
    "model_fit = model.fit()\n",
    "# make prediction\n",
    "yhat = model_fit.predict(len(data), len(data)+12)\n",
    "print(yhat)\n",
    "plt.plot(yhat)\n",
    "plt.yticks([30,40])"
   ]
  },
  {
   "cell_type": "markdown",
   "metadata": {},
   "source": [
    "## Moving Average (MA)"
   ]
  },
  {
   "cell_type": "code",
   "execution_count": 72,
   "metadata": {},
   "outputs": [
    {
     "name": "stdout",
     "output_type": "stream",
     "text": [
      "4036    23.393135\n",
      "4037    20.941269\n",
      "4038    20.941269\n",
      "4039    20.941269\n",
      "4040    20.941269\n",
      "4041    20.941269\n",
      "4042    20.941269\n",
      "4043    20.941269\n",
      "4044    20.941269\n",
      "4045    20.941269\n",
      "4046    20.941269\n",
      "4047    20.941269\n",
      "4048    20.941269\n",
      "dtype: float64\n"
     ]
    },
    {
     "data": {
      "text/plain": [
       "[<matplotlib.lines.Line2D at 0xe5e9cf8>]"
      ]
     },
     "execution_count": 72,
     "metadata": {},
     "output_type": "execute_result"
    },
    {
     "data": {
      "image/png": "[encoded data removed]",
      "text/plain": [
       "<Figure size 432x288 with 1 Axes>"
      ]
     },
     "metadata": {
      "needs_background": "light"
     },
     "output_type": "display_data"
    }
   ],
   "source": [
    "from statsmodels.tsa.arima_model import ARMA\n",
    "from random import random\n",
    "# contrived dataset\n",
    "data = pd.read_excel('TimeSeries_198211-201811.xlsx').PM25\n",
    "# fit model\n",
    "model = ARMA(data, order=(0, 1))\n",
    "model_fit = model.fit(disp=False)\n",
    "# make prediction\n",
    "yhat = model_fit.predict(len(data), len(data)+12)\n",
    "print(yhat)\n",
    "plt.plot(yhat)"
   ]
  },
  {
   "cell_type": "markdown",
   "metadata": {},
   "source": [
    "## Autoregressive Moving Average (ARMA)"
   ]
  },
  {
   "cell_type": "code",
   "execution_count": 75,
   "metadata": {},
   "outputs": [
    {
     "name": "stdout",
     "output_type": "stream",
     "text": [
      "4036    33.085696\n",
      "4037    33.054880\n",
      "4038    32.981842\n",
      "4039    32.907623\n",
      "4040    32.833788\n",
      "4041    32.760396\n",
      "4042    32.687444\n",
      "4043    32.614932\n",
      "4044    32.542857\n",
      "4045    32.471215\n",
      "4046    32.400004\n",
      "4047    32.329221\n",
      "4048    32.258865\n",
      "dtype: float64\n"
     ]
    },
    {
     "data": {
      "text/plain": [
       "[<matplotlib.lines.Line2D at 0xd4e10f0>]"
      ]
     },
     "execution_count": 75,
     "metadata": {},
     "output_type": "execute_result"
    },
    {
     "data": {
      "image/png": "[encoded data removed]",
      "text/plain": [
       "<Figure size 432x288 with 1 Axes>"
      ]
     },
     "metadata": {
      "needs_background": "light"
     },
     "output_type": "display_data"
    }
   ],
   "source": [
    "# ARMA example\n",
    "from statsmodels.tsa.arima_model import ARMA\n",
    "from random import random\n",
    "# contrived dataset\n",
    "data = pd.read_excel('TimeSeries_198211-201811.xlsx').PM25\n",
    "# fit model\n",
    "model = ARMA(data, order=(2, 1))\n",
    "model_fit = model.fit(disp=False)\n",
    "# make prediction\n",
    "yhat = model_fit.predict(len(data), len(data)+12)\n",
    "print(yhat)\n",
    "plt.plot(yhat)"
   ]
  },
  {
   "cell_type": "markdown",
   "metadata": {},
   "source": [
    "## Autoregressive Integrated Moving Average (ARIMA)"
   ]
  },
  {
   "cell_type": "code",
   "execution_count": 76,
   "metadata": {},
   "outputs": [
    {
     "name": "stdout",
     "output_type": "stream",
     "text": [
      "4036    33.558659\n",
      "4037    33.628800\n",
      "4038    33.639606\n",
      "4039    33.648046\n",
      "4040    33.656392\n",
      "4041    33.664734\n",
      "4042    33.673076\n",
      "4043    33.681418\n",
      "4044    33.689760\n",
      "4045    33.698102\n",
      "4046    33.706444\n",
      "4047    33.714786\n",
      "4048    33.723128\n",
      "dtype: float64\n"
     ]
    },
    {
     "data": {
      "text/plain": [
       "[<matplotlib.lines.Line2D at 0xe6e0400>]"
      ]
     },
     "execution_count": 76,
     "metadata": {},
     "output_type": "execute_result"
    },
    {
     "data": {
      "image/png": "[encoded data removed]",
      "text/plain": [
       "<Figure size 432x288 with 1 Axes>"
      ]
     },
     "metadata": {
      "needs_background": "light"
     },
     "output_type": "display_data"
    }
   ],
   "source": [
    "# ARIMA example\n",
    "from statsmodels.tsa.arima_model import ARIMA\n",
    "from random import random\n",
    "# contrived dataset\n",
    "data = pd.read_excel('TimeSeries_198211-201811.xlsx').PM25\n",
    "# fit model\n",
    "model = ARIMA(data, order=(1, 1, 1))\n",
    "model_fit = model.fit(disp=False)\n",
    "# make prediction\n",
    "yhat = model_fit.predict(len(data), len(data)+12, typ='levels')\n",
    "print(yhat)\n",
    "plt.plot(yhat)"
   ]
  },
  {
   "cell_type": "markdown",
   "metadata": {},
   "source": [
    "## Seasonal Autoregressive Integrated Moving-Average with Exogenous Regressors (SARIMAX)"
   ]
  },
  {
   "cell_type": "code",
   "execution_count": 77,
   "metadata": {},
   "outputs": [
    {
     "name": "stdout",
     "output_type": "stream",
     "text": [
      "4036    36.911569\n",
      "4037    37.645385\n",
      "4038    38.151114\n",
      "4039    38.647602\n",
      "4040    39.143758\n",
      "4041    39.639903\n",
      "4042    40.136047\n",
      "4043    40.632192\n",
      "4044    41.128336\n",
      "4045    41.624480\n",
      "4046    42.120624\n",
      "4047    42.616769\n",
      "4048    43.112913\n",
      "dtype: float64\n"
     ]
    },
    {
     "data": {
      "text/plain": [
       "[<matplotlib.lines.Line2D at 0xe5bceb8>]"
      ]
     },
     "execution_count": 77,
     "metadata": {},
     "output_type": "execute_result"
    },
    {
     "data": {
      "image/png": "[encoded data removed]",
      "text/plain": [
       "<Figure size 432x288 with 1 Axes>"
      ]
     },
     "metadata": {
      "needs_background": "light"
     },
     "output_type": "display_data"
    }
   ],
   "source": [
    "# SARIMA example\n",
    "from statsmodels.tsa.statespace.sarimax import SARIMAX\n",
    "from random import random\n",
    "# contrived dataset\n",
    "data = pd.read_excel('TimeSeries_198211-201811.xlsx').PM25\n",
    "# fit model\n",
    "model = SARIMAX(data, order=(1, 1, 1), seasonal_order=(1, 1, 1, 1))\n",
    "model_fit = model.fit(disp=False)\n",
    "# make prediction\n",
    "yhat = model_fit.predict(len(data), len(data)+12)\n",
    "print(yhat)\n",
    "plt.plot(yhat)"
   ]
  },
  {
   "cell_type": "markdown",
   "metadata": {},
   "source": [
    "## Simple Exponential Smoothing (SES)"
   ]
  },
  {
   "cell_type": "code",
   "execution_count": 78,
   "metadata": {},
   "outputs": [
    {
     "name": "stdout",
     "output_type": "stream",
     "text": [
      "4036    33.658545\n",
      "4037    33.658545\n",
      "4038    33.658545\n",
      "4039    33.658545\n",
      "4040    33.658545\n",
      "4041    33.658545\n",
      "4042    33.658545\n",
      "4043    33.658545\n",
      "4044    33.658545\n",
      "4045    33.658545\n",
      "4046    33.658545\n",
      "4047    33.658545\n",
      "4048    33.658545\n",
      "dtype: float64\n"
     ]
    },
    {
     "data": {
      "text/plain": [
       "[<matplotlib.lines.Line2D at 0xd4cfa20>]"
      ]
     },
     "execution_count": 78,
     "metadata": {},
     "output_type": "execute_result"
    },
    {
     "data": {
      "image/png": "[encoded data removed]",
      "text/plain": [
       "<Figure size 432x288 with 1 Axes>"
      ]
     },
     "metadata": {
      "needs_background": "light"
     },
     "output_type": "display_data"
    }
   ],
   "source": [
    "# SES example\n",
    "from statsmodels.tsa.holtwinters import SimpleExpSmoothing\n",
    "from random import random\n",
    "# contrived dataset\n",
    "data = pd.read_excel('TimeSeries_198211-201811.xlsx').PM25\n",
    "# fit model\n",
    "model = SimpleExpSmoothing(data)\n",
    "model_fit = model.fit()\n",
    "# make prediction\n",
    "yhat = model_fit.predict(len(data), len(data)+12)\n",
    "print(yhat)\n",
    "plt.plot(yhat)"
   ]
  },
  {
   "cell_type": "code",
   "execution_count": null,
   "metadata": {},
   "outputs": [],
   "source": []
  }
 ],
 "metadata": {
  "kernelspec": {
   "display_name": "Python 3",
   "language": "python",
   "name": "python3"
  },
  "language_info": {
   "codemirror_mode": {
    "name": "ipython",
    "version": 3
   },
   "file_extension": ".py",
   "mimetype": "text/x-python",
   "name": "python",
   "nbconvert_exporter": "python",
   "pygments_lexer": "ipython3",
   "version": "3.7.0"
  }
 },
 "nbformat": 4,
 "nbformat_minor": 2
}
