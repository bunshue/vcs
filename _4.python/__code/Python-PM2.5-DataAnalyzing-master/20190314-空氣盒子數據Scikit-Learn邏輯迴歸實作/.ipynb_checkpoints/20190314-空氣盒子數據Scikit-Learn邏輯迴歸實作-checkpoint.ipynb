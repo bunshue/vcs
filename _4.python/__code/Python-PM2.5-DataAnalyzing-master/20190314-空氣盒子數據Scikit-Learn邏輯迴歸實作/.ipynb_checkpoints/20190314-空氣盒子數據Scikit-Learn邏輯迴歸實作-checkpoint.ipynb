{
 "cells": [
  {
   "cell_type": "code",
   "execution_count": 41,
   "metadata": {},
   "outputs": [],
   "source": [
    "import pandas as pd\n",
    "import numpy as np\n",
    "import matplotlib.pyplot as plt\n",
    "import seaborn as sns\n",
    "%matplotlib inline"
   ]
  },
  {
   "cell_type": "code",
   "execution_count": 11,
   "metadata": {},
   "outputs": [
    {
     "data": {
      "text/html": [
       "<div>\n",
       "<style scoped>\n",
       "    .dataframe tbody tr th:only-of-type {\n",
       "        vertical-align: middle;\n",
       "    }\n",
       "\n",
       "    .dataframe tbody tr th {\n",
       "        vertical-align: top;\n",
       "    }\n",
       "\n",
       "    .dataframe thead th {\n",
       "        text-align: right;\n",
       "    }\n",
       "</style>\n",
       "<table border=\"1\" class=\"dataframe\">\n",
       "  <thead>\n",
       "    <tr style=\"text-align: right;\">\n",
       "      <th></th>\n",
       "      <th>SO2</th>\n",
       "      <th>CO</th>\n",
       "      <th>O3</th>\n",
       "      <th>PM25</th>\n",
       "      <th>Nox</th>\n",
       "      <th>NO</th>\n",
       "      <th>NO2</th>\n",
       "      <th>THC</th>\n",
       "      <th>NMHC</th>\n",
       "      <th>CH4</th>\n",
       "      <th>WindSpeed</th>\n",
       "      <th>TEMP</th>\n",
       "      <th>Humidity</th>\n",
       "      <th>Danger</th>\n",
       "    </tr>\n",
       "  </thead>\n",
       "  <tbody>\n",
       "    <tr>\n",
       "      <th>0</th>\n",
       "      <td>4.4</td>\n",
       "      <td>0.47</td>\n",
       "      <td>32.2</td>\n",
       "      <td>31</td>\n",
       "      <td>24</td>\n",
       "      <td>3.46</td>\n",
       "      <td>20.84</td>\n",
       "      <td>2.309</td>\n",
       "      <td>0.231</td>\n",
       "      <td>2.078</td>\n",
       "      <td>1.91</td>\n",
       "      <td>24.86</td>\n",
       "      <td>77.11</td>\n",
       "      <td>0</td>\n",
       "    </tr>\n",
       "    <tr>\n",
       "      <th>1</th>\n",
       "      <td>6.4</td>\n",
       "      <td>0.52</td>\n",
       "      <td>30.2</td>\n",
       "      <td>32</td>\n",
       "      <td>32</td>\n",
       "      <td>5.64</td>\n",
       "      <td>26.30</td>\n",
       "      <td>2.186</td>\n",
       "      <td>0.227</td>\n",
       "      <td>1.959</td>\n",
       "      <td>1.72</td>\n",
       "      <td>26.58</td>\n",
       "      <td>71.93</td>\n",
       "      <td>0</td>\n",
       "    </tr>\n",
       "    <tr>\n",
       "      <th>2</th>\n",
       "      <td>3.2</td>\n",
       "      <td>0.45</td>\n",
       "      <td>30.5</td>\n",
       "      <td>46</td>\n",
       "      <td>20</td>\n",
       "      <td>2.36</td>\n",
       "      <td>18.05</td>\n",
       "      <td>0.000</td>\n",
       "      <td>0.000</td>\n",
       "      <td>0.000</td>\n",
       "      <td>2.08</td>\n",
       "      <td>24.75</td>\n",
       "      <td>76.33</td>\n",
       "      <td>1</td>\n",
       "    </tr>\n",
       "    <tr>\n",
       "      <th>3</th>\n",
       "      <td>5.2</td>\n",
       "      <td>0.47</td>\n",
       "      <td>32.5</td>\n",
       "      <td>38</td>\n",
       "      <td>24</td>\n",
       "      <td>3.18</td>\n",
       "      <td>20.64</td>\n",
       "      <td>2.374</td>\n",
       "      <td>0.225</td>\n",
       "      <td>2.150</td>\n",
       "      <td>1.66</td>\n",
       "      <td>24.97</td>\n",
       "      <td>79.97</td>\n",
       "      <td>1</td>\n",
       "    </tr>\n",
       "    <tr>\n",
       "      <th>4</th>\n",
       "      <td>4.5</td>\n",
       "      <td>0.72</td>\n",
       "      <td>29.9</td>\n",
       "      <td>32</td>\n",
       "      <td>29</td>\n",
       "      <td>5.43</td>\n",
       "      <td>23.82</td>\n",
       "      <td>2.290</td>\n",
       "      <td>0.287</td>\n",
       "      <td>2.004</td>\n",
       "      <td>1.03</td>\n",
       "      <td>26.18</td>\n",
       "      <td>73.78</td>\n",
       "      <td>0</td>\n",
       "    </tr>\n",
       "  </tbody>\n",
       "</table>\n",
       "</div>"
      ],
      "text/plain": [
       "   SO2    CO    O3  PM25  Nox    NO    NO2    THC   NMHC    CH4  WindSpeed  \\\n",
       "0  4.4  0.47  32.2    31   24  3.46  20.84  2.309  0.231  2.078       1.91   \n",
       "1  6.4  0.52  30.2    32   32  5.64  26.30  2.186  0.227  1.959       1.72   \n",
       "2  3.2  0.45  30.5    46   20  2.36  18.05  0.000  0.000  0.000       2.08   \n",
       "3  5.2  0.47  32.5    38   24  3.18  20.64  2.374  0.225  2.150       1.66   \n",
       "4  4.5  0.72  29.9    32   29  5.43  23.82  2.290  0.287  2.004       1.03   \n",
       "\n",
       "    TEMP  Humidity  Danger  \n",
       "0  24.86     77.11       0  \n",
       "1  26.58     71.93       0  \n",
       "2  24.75     76.33       1  \n",
       "3  24.97     79.97       1  \n",
       "4  26.18     73.78       0  "
      ]
     },
     "execution_count": 11,
     "metadata": {},
     "output_type": "execute_result"
    }
   ],
   "source": [
    "train = pd.read_csv('200811-201811.csv')\n",
    "train.head()\n",
    "#Danger分類點說明\n",
    "#對敏感族群不健康為PM2.5數值在35.5以上"
   ]
  },
  {
   "cell_type": "markdown",
   "metadata": {},
   "source": [
    "**用heatmap(.isnull())來找出缺失的資料在哪些欄位**"
   ]
  },
  {
   "cell_type": "code",
   "execution_count": 12,
   "metadata": {},
   "outputs": [
    {
     "data": {
      "text/plain": [
       "<matplotlib.axes._subplots.AxesSubplot at 0x139462b0>"
      ]
     },
     "execution_count": 12,
     "metadata": {},
     "output_type": "execute_result"
    },
    {
     "data": {
      "image/png": "[encoded data removed]",
      "text/plain": [
       "<Figure size 432x288 with 1 Axes>"
      ]
     },
     "metadata": {
      "needs_background": "light"
     },
     "output_type": "display_data"
    }
   ],
   "source": [
    "sns.heatmap(train.isnull(),yticklabels=False,cbar=False,cmap='viridis')"
   ]
  },
  {
   "cell_type": "markdown",
   "metadata": {},
   "source": [
    "**用countplot來看Nox是否影響健康**"
   ]
  },
  {
   "cell_type": "code",
   "execution_count": 13,
   "metadata": {},
   "outputs": [
    {
     "data": {
      "text/plain": [
       "<matplotlib.axes._subplots.AxesSubplot at 0x112d9080>"
      ]
     },
     "execution_count": 13,
     "metadata": {},
     "output_type": "execute_result"
    },
    {
     "data": {
      "image/png": "[encoded data removed]",
      "text/plain": [
       "<Figure size 432x288 with 1 Axes>"
      ]
     },
     "metadata": {
      "needs_background": "light"
     },
     "output_type": "display_data"
    }
   ],
   "source": [
    "sns.countplot(x='Danger',hue='Nox',data=train,palette='RdBu_r')"
   ]
  },
  {
   "cell_type": "markdown",
   "metadata": {},
   "source": [
    "**用直方圖看年齡分佈。缺失資料在此不計。**"
   ]
  },
  {
   "cell_type": "code",
   "execution_count": 15,
   "metadata": {},
   "outputs": [
    {
     "data": {
      "text/plain": [
       "<matplotlib.axes._subplots.AxesSubplot at 0x14668b70>"
      ]
     },
     "execution_count": 15,
     "metadata": {},
     "output_type": "execute_result"
    },
    {
     "data": {
      "image/png": "[encoded data removed]",
      "text/plain": [
       "<Figure size 432x288 with 1 Axes>"
      ]
     },
     "metadata": {
      "needs_background": "light"
     },
     "output_type": "display_data"
    }
   ],
   "source": [
    "sns.distplot(train['PM25'].dropna(),kde=False,bins=30)"
   ]
  },
  {
   "cell_type": "markdown",
   "metadata": {},
   "source": [
    "**用直方圖看Nox的分佈**"
   ]
  },
  {
   "cell_type": "code",
   "execution_count": 16,
   "metadata": {},
   "outputs": [
    {
     "data": {
      "text/plain": [
       "<matplotlib.axes._subplots.AxesSubplot at 0x555ffd0>"
      ]
     },
     "execution_count": 16,
     "metadata": {},
     "output_type": "execute_result"
    },
    {
     "data": {
      "image/png": "[encoded data removed]",
      "text/plain": [
       "<Figure size 720x288 with 1 Axes>"
      ]
     },
     "metadata": {
      "needs_background": "light"
     },
     "output_type": "display_data"
    }
   ],
   "source": [
    "train['Nox'].hist(bins=40,figsize=(10,4))"
   ]
  },
  {
   "cell_type": "code",
   "execution_count": 18,
   "metadata": {},
   "outputs": [],
   "source": [
    "X = train.drop('Danger', axis=1)\n",
    "y = train['Danger']"
   ]
  },
  {
   "cell_type": "code",
   "execution_count": 19,
   "metadata": {},
   "outputs": [],
   "source": [
    "from sklearn.model_selection import train_test_split"
   ]
  },
  {
   "cell_type": "code",
   "execution_count": 32,
   "metadata": {},
   "outputs": [],
   "source": [
    "X_train, X_test, y_train, y_test = train_test_split(X,y, test_size=0.75,random_state=42)"
   ]
  },
  {
   "cell_type": "code",
   "execution_count": 33,
   "metadata": {},
   "outputs": [],
   "source": [
    "from sklearn.linear_model import LogisticRegression"
   ]
  },
  {
   "cell_type": "code",
   "execution_count": 34,
   "metadata": {},
   "outputs": [
    {
     "data": {
      "text/plain": [
       "LogisticRegression(C=1.0, class_weight=None, dual=False, fit_intercept=True,\n",
       "          intercept_scaling=1, max_iter=100, multi_class='warn',\n",
       "          n_jobs=None, penalty='l2', random_state=None, solver='liblinear',\n",
       "          tol=0.0001, verbose=0, warm_start=False)"
      ]
     },
     "execution_count": 34,
     "metadata": {},
     "output_type": "execute_result"
    }
   ],
   "source": [
    "logmodel = LogisticRegression(solver='liblinear')\n",
    "logmodel.fit(X_train,y_train)"
   ]
  },
  {
   "cell_type": "code",
   "execution_count": 35,
   "metadata": {},
   "outputs": [],
   "source": [
    "predictions = logmodel.predict(X_test)"
   ]
  },
  {
   "cell_type": "code",
   "execution_count": 36,
   "metadata": {},
   "outputs": [
    {
     "name": "stdout",
     "output_type": "stream",
     "text": [
      "              precision    recall  f1-score   support\n",
      "\n",
      "           0       0.96      0.98      0.97       560\n",
      "           1       0.98      0.96      0.97       526\n",
      "\n",
      "   micro avg       0.97      0.97      0.97      1086\n",
      "   macro avg       0.97      0.97      0.97      1086\n",
      "weighted avg       0.97      0.97      0.97      1086\n",
      "\n"
     ]
    }
   ],
   "source": [
    "from sklearn.metrics import classification_report\n",
    "print(classification_report(y_test,predictions))"
   ]
  },
  {
   "cell_type": "code",
   "execution_count": 40,
   "metadata": {},
   "outputs": [],
   "source": [
    "from sklearn.metrics import confusion_matrix"
   ]
  },
  {
   "cell_type": "code",
   "execution_count": 39,
   "metadata": {},
   "outputs": [
    {
     "data": {
      "text/plain": [
       "array([[549,  11],\n",
       "       [ 20, 506]], dtype=int64)"
      ]
     },
     "execution_count": 39,
     "metadata": {},
     "output_type": "execute_result"
    }
   ],
   "source": [
    "confusion_matrix(y_test,predictions)"
   ]
  },
  {
   "cell_type": "raw",
   "metadata": {},
   "source": [
    "Confusion Matrix    預測 (No)     預測（Yes）\n",
    "實際（No）          TN=549        FP=11\n",
    "實際（Yes）         FN=20          TP=506\n",
    "\n",
    "TN=True Negative; FP=False Positive, FN=False Negative; TP=True Positive\n",
    "\n",
    "precison = TP / (TP + FP)\n",
    "recall = TP / (TP + FN)\n",
    "accuracy = (TP + TN) / (TN + FP + FN + TP)\n",
    "F-beta score可視為precision和recall加權平均的值，數值介於0-1，最好是1。\n",
    "support代表在測試組y實際值的發生次數。**"
   ]
  },
  {
   "cell_type": "code",
   "execution_count": null,
   "metadata": {},
   "outputs": [],
   "source": []
  }
 ],
 "metadata": {
  "kernelspec": {
   "display_name": "Python 3",
   "language": "python",
   "name": "python3"
  },
  "language_info": {
   "codemirror_mode": {
    "name": "ipython",
    "version": 3
   },
   "file_extension": ".py",
   "mimetype": "text/x-python",
   "name": "python",
   "nbconvert_exporter": "python",
   "pygments_lexer": "ipython3",
   "version": "3.6.7"
  },
  "toc": {
   "base_numbering": 1,
   "nav_menu": {},
   "number_sections": true,
   "sideBar": true,
   "skip_h1_title": false,
   "title_cell": "Table of Contents",
   "title_sidebar": "Contents",
   "toc_cell": false,
   "toc_position": {},
   "toc_section_display": true,
   "toc_window_display": false
  },
  "varInspector": {
   "cols": {
    "lenName": 16,
    "lenType": 16,
    "lenVar": 40
   },
   "kernels_config": {
    "python": {
     "delete_cmd_postfix": "",
     "delete_cmd_prefix": "del ",
     "library": "var_list.py",
     "varRefreshCmd": "print(var_dic_list())"
    },
    "r": {
     "delete_cmd_postfix": ") ",
     "delete_cmd_prefix": "rm(",
     "library": "var_list.r",
     "varRefreshCmd": "cat(var_dic_list()) "
    }
   },
   "types_to_exclude": [
    "module",
    "function",
    "builtin_function_or_method",
    "instance",
    "_Feature"
   ],
   "window_display": false
  }
 },
 "nbformat": 4,
 "nbformat_minor": 2
}
