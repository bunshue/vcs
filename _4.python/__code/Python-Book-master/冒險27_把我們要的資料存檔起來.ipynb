{
 "cells": [
  {
   "cell_type": "markdown",
   "metadata": {},
   "source": [
    "這裡介紹 Python 存取檔案的方式, 一個標準檔案存取, 一是 Python 的 pickle 存檔法。\n",
    "\n",
    "### 標準檔案存取篇"
   ]
  },
  {
   "cell_type": "code",
   "execution_count": 1,
   "metadata": {},
   "outputs": [],
   "source": [
    "vocabulary = {\"decrease\":\"減少、降低\", \n",
    "              \"accumulation\":\"累積\", \n",
    "              \"aggregate\":\"合計\"}"
   ]
  },
  {
   "cell_type": "markdown",
   "metadata": {},
   "source": [
    "我們準備把這字典檔存起來。首先我們來看怎麼一一叫出, 是否可找到全部索引關鍵字?"
   ]
  },
  {
   "cell_type": "code",
   "execution_count": 2,
   "metadata": {},
   "outputs": [
    {
     "data": {
      "text/plain": [
       "dict_keys(['decrease', 'accumulation', 'aggregate'])"
      ]
     },
     "execution_count": 2,
     "metadata": {},
     "output_type": "execute_result"
    }
   ],
   "source": [
    "vocabulary.keys()"
   ]
  },
  {
   "cell_type": "markdown",
   "metadata": {},
   "source": [
    "Python 一個很好用的存檔案式, 是先用 `print` 做, 看來和想像一樣, 就存起來!"
   ]
  },
  {
   "cell_type": "code",
   "execution_count": 3,
   "metadata": {},
   "outputs": [
    {
     "name": "stdout",
     "output_type": "stream",
     "text": [
      "decrease,減少、降低\n",
      "accumulation,累積\n",
      "aggregate,合計\n"
     ]
    }
   ],
   "source": [
    "for eng in vocabulary.keys():\n",
    "    print(f\"{eng},{vocabulary[eng]}\")"
   ]
  },
  {
   "cell_type": "markdown",
   "metadata": {},
   "source": [
    "看來不錯, 我們準備照存... 重點就是, 開一個檔案 (比如說 `f`) 準備存檔, 然後把原本 `print` 加上`file=f`。\n",
    "\n",
    "![print to file](images/print_to_file.png)"
   ]
  },
  {
   "cell_type": "markdown",
   "metadata": {},
   "source": [
    "我們現在就準備開個檔案 `vocabulary.csv`, 用來存檔, 所以要給個參數 `w`。"
   ]
  },
  {
   "cell_type": "code",
   "execution_count": 4,
   "metadata": {},
   "outputs": [],
   "source": [
    "f = open(\"vocabulary.csv\", 'w')"
   ]
  },
  {
   "cell_type": "markdown",
   "metadata": {},
   "source": [
    "再來就是基本上之前成功的 `print`, 只重加入 `file=f`。"
   ]
  },
  {
   "cell_type": "code",
   "execution_count": 5,
   "metadata": {},
   "outputs": [],
   "source": [
    "for eng in vocabulary.keys():\n",
    "    print(f\"{eng},{vocabulary[eng]}\", file=f)"
   ]
  },
  {
   "cell_type": "markdown",
   "metadata": {},
   "source": [
    "再來別忘了關檔。"
   ]
  },
  {
   "cell_type": "code",
   "execution_count": 6,
   "metadata": {},
   "outputs": [],
   "source": [
    "f.close()"
   ]
  },
  {
   "cell_type": "markdown",
   "metadata": {},
   "source": [
    "在 Jupyter Notebook 下, 我們可以下達魔術指令\n",
    "\n",
    "    %ls\n",
    "    \n",
    "看目前工作目錄下的檔案。 (Windows 也是這樣下, 所以是魔術!)"
   ]
  },
  {
   "cell_type": "code",
   "execution_count": 7,
   "metadata": {},
   "outputs": [
    {
     "name": "stdout",
     "output_type": "stream",
     "text": [
      "02 Markdown 和 Python 基本語法.ipynb\r\n",
      "11 迴歸函數生成機 take 2.ipynb\r\n",
      "11 迴歸法預測函數 take 3.ipynb\r\n",
      "11 迴歸法預測函數.ipynb\r\n",
      "12 機器學習概要 take 2.ipynb\r\n",
      "12 機器學習概要.ipynb\r\n",
      "README.me\r\n",
      "guessing_game.py\r\n",
      "\u001b[34mimages\u001b[m\u001b[m/\r\n",
      "poem.py\r\n",
      "vocabulary.csv\r\n",
      "vocabulary.pickle\r\n",
      "冒險01_開啟 Jupyter Notebook.ipynb\r\n",
      "冒險02_Python 計算機.ipynb\r\n",
      "冒險03_用 Python 畫個圖.ipynb\r\n",
      "冒險04_從常態分布抽樣.ipynb\r\n",
      "冒險05_畫個函數吧.ipynb\r\n",
      "冒險06_參數式畫圖其實也一様！.ipynb\r\n",
      "冒險07_Python 的資料型態.ipynb\r\n",
      "冒險08_重要的字典資料型態.ipynb\r\n",
      "冒險09_用Markdown做美美的筆記.ipynb\r\n",
      "冒險10_Hello World.ipynb\r\n",
      "冒險11_做一個拍拍機器人.ipynb\r\n",
      "冒險12_真的還假的？.ipynb\r\n",
      "冒險13_串列索引和生成.ipynb\r\n",
      "冒險14_用串列控制要做幾次的 for 迴圈.ipynb\r\n",
      "冒險15_直到這樣，才會結束的 while 迴圈.ipynb\r\n",
      "冒險16_用 append 打造我們要的串列.ipynb\r\n",
      "冒險17_用 list comprehension 打造我們要的串列.ipynb\r\n",
      "冒險18_函式的寫法.ipynb\r\n",
      "冒險19_引入套件，寫個猜數字遊戲.ipynb\r\n",
      "冒險20_Jupyter Notebook超炫的互動功能.ipynb\r\n",
      "冒險21_map和filter.ipynb\r\n",
      "冒險22_用class打造自己的資料型態.ipynb\r\n",
      "冒險23_完全掌控print的結果.ipynb\r\n",
      "冒險24_ 打造一個會寫詩的文青機器人.ipynb\r\n",
      "冒險25_漂亮display所有物件.ipynb\r\n",
      "冒險26_for迴圈的進階技巧.ipynb\r\n",
      "冒險26_讓Matplotlib顯示中文.ipynb\r\n",
      "冒險27_把我們要的資料存檔起來.ipynb\r\n",
      "冒險28_歡迎來到 Array 的世界.ipynb\r\n",
      "冒險29_Broadcasting 比我們想像更有趣.ipynb\r\n",
      "冒險30_Array 大變身.ipynb\r\n",
      "冒險31_Array 快速生成法.ipynb\r\n",
      "冒險32_Array 畫圖超方便.ipynb\r\n",
      "冒險33_Array 快篩法.ipynb\r\n",
      "冒險34_熊貓是 Python 的 Excel.ipynb\r\n",
      "冒險35_用熊貓做基本數據分析.ipynb\r\n",
      "冒險36_組裝自己的 DataFrame.ipynb\r\n",
      "冒險37_用 Groupby 找到美國最常目擊 UFO 的州.ipynb\r\n",
      "冒險38_玩玩真的股票資料.ipynb\r\n",
      "冒險42_模擬線性迴歸的數據.ipynb\r\n",
      "冒險44_訓練資料與測試資料.ipynb\r\n",
      "冒險45. 拿真實世界的資料來試試看—波士頓房價預測.ipynb\r\n",
      "冒險46. 用 Python 的進階小技巧來看 features 和輸出的關係.ipynb\r\n",
      "冒險48. 把完整的結果畫出來.ipynb\r\n",
      "冒險49. 來做鳶尾花的分類.ipynb\r\n",
      "冒險50. 非監督式學習與 k-Means.ipynb\r\n"
     ]
    }
   ],
   "source": [
    "%ls"
   ]
  },
  {
   "cell_type": "markdown",
   "metadata": {},
   "source": [
    "這時會看到我們真的有個 `vocabulary.csv` 的檔案。\n",
    "\n",
    "再來我們用另一個魔術指令 (這次 Windows 不行了...) 看一下檔案內容:\n",
    "\n",
    "    %cat 檔名"
   ]
  },
  {
   "cell_type": "code",
   "execution_count": 8,
   "metadata": {},
   "outputs": [
    {
     "name": "stdout",
     "output_type": "stream",
     "text": [
      "decrease,減少、降低\r\n",
      "accumulation,累積\r\n",
      "aggregate,合計\r\n"
     ]
    }
   ],
   "source": [
    "%cat \"vocabulary.csv\""
   ]
  },
  {
   "cell_type": "markdown",
   "metadata": {},
   "source": [
    "真的如我們想像, 基本上就是 `print` 出來的樣子!!\n",
    "\n",
    "Windows 下請用:\n",
    "\n",
    "    !type \"vocabulary.csv\"\n",
    "    \n",
    "這裡的驚嘆號真的要很小心, 這是直接下系統指令!"
   ]
  },
  {
   "cell_type": "markdown",
   "metadata": {},
   "source": [
    "#### 讀檔篇\n",
    "\n",
    "現在我們準備把檔案讀回來。其實 Python 有幾個些許不同的存取方式, 但建議一開始我們先熟悉萬用的一套方法就好了。我們的方式會把整個檔案一次讀回來, 存成一個 list, 這個 list 裡的一個元素就是原來檔案的一行!"
   ]
  },
  {
   "cell_type": "code",
   "execution_count": 9,
   "metadata": {},
   "outputs": [],
   "source": [
    "f = open(\"vocabulary.csv\", 'r')"
   ]
  },
  {
   "cell_type": "code",
   "execution_count": 10,
   "metadata": {},
   "outputs": [],
   "source": [
    "rawdata = f.readlines()"
   ]
  },
  {
   "cell_type": "code",
   "execution_count": 11,
   "metadata": {},
   "outputs": [],
   "source": [
    "f.close()"
   ]
  },
  {
   "cell_type": "markdown",
   "metadata": {},
   "source": [
    "我們來看看內容。"
   ]
  },
  {
   "cell_type": "code",
   "execution_count": 12,
   "metadata": {
    "scrolled": true
   },
   "outputs": [
    {
     "data": {
      "text/plain": [
       "['decrease,減少、降低\\n', 'accumulation,累積\\n', 'aggregate,合計\\n']"
      ]
     },
     "execution_count": 12,
     "metadata": {},
     "output_type": "execute_result"
    }
   ],
   "source": [
    "rawdata"
   ]
  },
  {
   "cell_type": "markdown",
   "metadata": {},
   "source": [
    "我們用其中一行來說明等等要做的動作。"
   ]
  },
  {
   "cell_type": "code",
   "execution_count": 13,
   "metadata": {},
   "outputs": [],
   "source": [
    "line = rawdata[0]"
   ]
  },
  {
   "cell_type": "code",
   "execution_count": 14,
   "metadata": {},
   "outputs": [
    {
     "data": {
      "text/plain": [
       "'decrease,減少、降低\\n'"
      ]
     },
     "execution_count": 14,
     "metadata": {},
     "output_type": "execute_result"
    }
   ],
   "source": [
    "line"
   ]
  },
  {
   "cell_type": "markdown",
   "metadata": {},
   "source": [
    "首先, 我們需要把右邊的換行符號 `\\n` 去掉, 這是用:\n",
    "    \n",
    "    line.rstrip('\\n')\n",
    "    \n",
    "接下來, 要以 `,` 切開字串, 因此再加上 `split(',')`:\n",
    "    \n",
    "    line.rstrip('\\n').split(',')"
   ]
  },
  {
   "cell_type": "code",
   "execution_count": 15,
   "metadata": {},
   "outputs": [
    {
     "data": {
      "text/plain": [
       "'decrease,減少、降低'"
      ]
     },
     "execution_count": 15,
     "metadata": {},
     "output_type": "execute_result"
    }
   ],
   "source": [
    "line.rstrip('\\n')"
   ]
  },
  {
   "cell_type": "code",
   "execution_count": 16,
   "metadata": {},
   "outputs": [
    {
     "data": {
      "text/plain": [
       "['decrease', '減少、降低']"
      ]
     },
     "execution_count": 16,
     "metadata": {},
     "output_type": "execute_result"
    }
   ],
   "source": [
    "line.rstrip('\\n').split(',')"
   ]
  },
  {
   "cell_type": "markdown",
   "metadata": {},
   "source": [
    "我們用這個方式, 再做一個字典檔。為了證明沒有作弊, 所以用新的名稱。"
   ]
  },
  {
   "cell_type": "code",
   "execution_count": 17,
   "metadata": {},
   "outputs": [],
   "source": [
    "newdict = {}\n",
    "\n",
    "for line in rawdata:\n",
    "    eng, ch = line.rstrip('\\n').split(',')\n",
    "    newdict[eng] = ch"
   ]
  },
  {
   "cell_type": "code",
   "execution_count": 18,
   "metadata": {
    "scrolled": true
   },
   "outputs": [
    {
     "data": {
      "text/plain": [
       "{'decrease': '減少、降低', 'accumulation': '累積', 'aggregate': '合計'}"
      ]
     },
     "execution_count": 18,
     "metadata": {},
     "output_type": "execute_result"
    }
   ],
   "source": [
    "newdict"
   ]
  },
  {
   "cell_type": "markdown",
   "metadata": {},
   "source": [
    "成功了!"
   ]
  },
  {
   "cell_type": "markdown",
   "metadata": {},
   "source": [
    "### Python 系的 pickle 存取\n",
    "\n",
    "剛剛我們順利的把一個字典檔的資料存入, 又再拿回來。但過程好像有點麻煩, 可不可能我們一下就存入一個字典檔, 再要回來就有個字典可以用呢? 答案是肯定的!\n",
    "\n",
    "這時要動用 Python 「什麼都可以存」的 `pickle`。"
   ]
  },
  {
   "cell_type": "markdown",
   "metadata": {},
   "source": [
    "看一眼我們要存的字典。"
   ]
  },
  {
   "cell_type": "code",
   "execution_count": 19,
   "metadata": {},
   "outputs": [
    {
     "data": {
      "text/plain": [
       "{'decrease': '減少、降低', 'accumulation': '累積', 'aggregate': '合計'}"
      ]
     },
     "execution_count": 19,
     "metadata": {},
     "output_type": "execute_result"
    }
   ],
   "source": [
    "vocabulary"
   ]
  },
  {
   "cell_type": "markdown",
   "metadata": {},
   "source": [
    "引入 `pickle` 套件。"
   ]
  },
  {
   "cell_type": "code",
   "execution_count": 20,
   "metadata": {},
   "outputs": [],
   "source": [
    "import pickle"
   ]
  },
  {
   "cell_type": "markdown",
   "metadata": {},
   "source": [
    "這邊要注意, 存的時候用 `wb` (二進位檔), 讀的時候也是 `rb`。這是因為 `pickle` 會處理比文字還要一般的檔案。\n",
    "\n",
    "再來就是打開一個 `pickle` 檔, `dump` 下去!"
   ]
  },
  {
   "cell_type": "code",
   "execution_count": 21,
   "metadata": {},
   "outputs": [],
   "source": [
    "f = open(\"vocabulary.pickle\", 'wb')"
   ]
  },
  {
   "cell_type": "code",
   "execution_count": 22,
   "metadata": {},
   "outputs": [],
   "source": [
    "pickle.dump(vocabulary, f)"
   ]
  },
  {
   "cell_type": "code",
   "execution_count": 23,
   "metadata": {},
   "outputs": [],
   "source": [
    "f.close()"
   ]
  },
  {
   "cell_type": "markdown",
   "metadata": {},
   "source": [
    "#### 讀回來也是超容易"
   ]
  },
  {
   "cell_type": "code",
   "execution_count": 24,
   "metadata": {},
   "outputs": [],
   "source": [
    "f = open(\"vocabulary.pickle\", 'rb')"
   ]
  },
  {
   "cell_type": "code",
   "execution_count": 25,
   "metadata": {},
   "outputs": [],
   "source": [
    "pickledict = pickle.load(f)"
   ]
  },
  {
   "cell_type": "code",
   "execution_count": 26,
   "metadata": {},
   "outputs": [],
   "source": [
    "f.close()"
   ]
  },
  {
   "cell_type": "code",
   "execution_count": 27,
   "metadata": {},
   "outputs": [
    {
     "data": {
      "text/plain": [
       "{'decrease': '減少、降低', 'accumulation': '累積', 'aggregate': '合計'}"
      ]
     },
     "execution_count": 27,
     "metadata": {},
     "output_type": "execute_result"
    }
   ],
   "source": [
    "pickledict"
   ]
  }
 ],
 "metadata": {
  "kernelspec": {
   "display_name": "Python 3",
   "language": "python",
   "name": "python3"
  },
  "language_info": {
   "codemirror_mode": {
    "name": "ipython",
    "version": 3
   },
   "file_extension": ".py",
   "mimetype": "text/x-python",
   "name": "python",
   "nbconvert_exporter": "python",
   "pygments_lexer": "ipython3",
   "version": "3.7.3"
  }
 },
 "nbformat": 4,
 "nbformat_minor": 2
}
