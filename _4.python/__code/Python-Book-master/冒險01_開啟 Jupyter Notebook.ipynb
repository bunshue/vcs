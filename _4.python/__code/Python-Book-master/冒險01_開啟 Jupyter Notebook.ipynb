{
 "cells": [
  {
   "cell_type": "markdown",
   "metadata": {},
   "source": [
    "到\n",
    "\n",
    "[Anaconda 個人版專區](https://www.anaconda.com/products/individual)\n",
    "\n",
    "找到 `Download` 的按鈕, 會去下載 Python 3 的版本, 並安裝在自己的電腦中。"
   ]
  },
  {
   "cell_type": "markdown",
   "metadata": {},
   "source": [
    "![test](images/T_python_install.png)"
   ]
  },
  {
   "cell_type": "markdown",
   "metadata": {},
   "source": [
    "![Jupyter Notebook 執行](images/jupyter_notebook.png)"
   ]
  },
  {
   "cell_type": "markdown",
   "metadata": {},
   "source": [
    "![Jupyter Notebook](images/T_jupyter_notebook.png)"
   ]
  },
  {
   "cell_type": "markdown",
   "metadata": {},
   "source": [
    "Jupyter Notebook 是 Python 的前端界面, 讓 Python 更好用、互動性更強! Jupyter 前身叫做 IPython, 但是現代的 Jupyter 不只可以用 Python, 也可以支援其他程式語言, 所以改名叫 Jupyter。名稱的由來是\n",
    "\n",
    "* Julia-Python-R 三種開放式的程式語言混合\n",
    "* 發音就是「木星」 (Jupiter), 取伽利略當時觀察木星衛星, 筆記完全開放那種精神。"
   ]
  },
  {
   "cell_type": "markdown",
   "metadata": {},
   "source": [
    "### Google Colab\n",
    "\n",
    "你也可以不安裝 Anaconda, 直接使用如 Google Colab。唯一要注意的是未來要存取檔案時有些小技巧, 詳情請見書裡的說明。"
   ]
  }
 ],
 "metadata": {
  "anaconda-cloud": {},
  "kernelspec": {
   "display_name": "Python 3",
   "language": "python",
   "name": "python3"
  },
  "language_info": {
   "codemirror_mode": {
    "name": "ipython",
    "version": 3
   },
   "file_extension": ".py",
   "mimetype": "text/x-python",
   "name": "python",
   "nbconvert_exporter": "python",
   "pygments_lexer": "ipython3",
   "version": "3.7.3"
  }
 },
 "nbformat": 4,
 "nbformat_minor": 1
}
