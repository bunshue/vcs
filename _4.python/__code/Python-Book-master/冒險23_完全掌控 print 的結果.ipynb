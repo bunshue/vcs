{
 "cells": [
  {
   "cell_type": "code",
   "execution_count": 1,
   "metadata": {},
   "outputs": [],
   "source": [
    "%matplotlib inline\n",
    "\n",
    "import numpy as np\n",
    "import matplotlib.pyplot as plt"
   ]
  },
  {
   "cell_type": "code",
   "execution_count": 2,
   "metadata": {},
   "outputs": [
    {
     "name": "stdout",
     "output_type": "stream",
     "text": [
      "正確答案:9487\n"
     ]
    }
   ],
   "source": [
    "egg = \"正確答案:\"\n",
    "ham = 9487\n",
    "\n",
    "print(egg + str(ham))"
   ]
  },
  {
   "cell_type": "code",
   "execution_count": 3,
   "metadata": {},
   "outputs": [
    {
     "name": "stdout",
     "output_type": "stream",
     "text": [
      "正確答案: 9487\n"
     ]
    }
   ],
   "source": [
    "print(egg, ham)"
   ]
  },
  {
   "cell_type": "markdown",
   "metadata": {},
   "source": [
    "### `print` 不換行可以嗎?\n",
    "\n",
    "我們想印出一堆數字 (或文字)..."
   ]
  },
  {
   "cell_type": "code",
   "execution_count": 4,
   "metadata": {},
   "outputs": [
    {
     "name": "stdout",
     "output_type": "stream",
     "text": [
      "0\n",
      "1\n",
      "2\n",
      "3\n",
      "4\n",
      "5\n",
      "6\n",
      "7\n",
      "8\n",
      "9\n"
     ]
    }
   ],
   "source": [
    "for i in range(10):\n",
    "    print(i)"
   ]
  },
  {
   "cell_type": "markdown",
   "metadata": {},
   "source": [
    "這拖太長了, 可以不要換行嗎? 我們想到可愛的逗號..."
   ]
  },
  {
   "cell_type": "code",
   "execution_count": 5,
   "metadata": {},
   "outputs": [
    {
     "name": "stdout",
     "output_type": "stream",
     "text": [
      "0\n",
      "1\n",
      "2\n",
      "3\n",
      "4\n",
      "5\n",
      "6\n",
      "7\n",
      "8\n",
      "9\n"
     ]
    }
   ],
   "source": [
    "for i in range(10):\n",
    "    print(i,)"
   ]
  },
  {
   "cell_type": "markdown",
   "metadata": {},
   "source": [
    "這是在搞笑嗎?\n",
    "\n",
    "原來, Python 印出來的字串要「某個方式接續」是這樣做..."
   ]
  },
  {
   "cell_type": "code",
   "execution_count": 6,
   "metadata": {},
   "outputs": [
    {
     "name": "stdout",
     "output_type": "stream",
     "text": [
      "0, 1, 2, 3, 4, 5, 6, 7, 8, 9, "
     ]
    }
   ],
   "source": [
    "for i in range(10):\n",
    "    print(i, end=', ')"
   ]
  },
  {
   "cell_type": "markdown",
   "metadata": {},
   "source": [
    "這時果然被抓包, 說 9 的後面好像不該有逗點。對, 這都要例外處理。\n",
    "\n",
    "雖然不是我們的重點, 不過為了老師的威信 (?), 所以還是介紹其中一種方式。"
   ]
  },
  {
   "cell_type": "code",
   "execution_count": 7,
   "metadata": {},
   "outputs": [],
   "source": [
    "egg = [\"寫成式\", \"算數學\", \"練英文\"]"
   ]
  },
  {
   "cell_type": "code",
   "execution_count": 8,
   "metadata": {},
   "outputs": [
    {
     "data": {
      "text/plain": [
       "'寫成式, 算數學, 練英文'"
      ]
     },
     "execution_count": 8,
     "metadata": {},
     "output_type": "execute_result"
    }
   ],
   "source": [
    "\", \".join(egg)"
   ]
  },
  {
   "cell_type": "code",
   "execution_count": 9,
   "metadata": {},
   "outputs": [
    {
     "name": "stdout",
     "output_type": "stream",
     "text": [
      "寫成式, 算數學, 練英文\n"
     ]
    }
   ],
   "source": [
    "print(\", \".join(egg))"
   ]
  },
  {
   "cell_type": "code",
   "execution_count": 10,
   "metadata": {},
   "outputs": [
    {
     "name": "stdout",
     "output_type": "stream",
     "text": [
      "0, 1, 2, 3, 4, 5, 6, 7, 8, 9\n"
     ]
    }
   ],
   "source": [
    "print(', '.join(map(str, range(10))))"
   ]
  },
  {
   "cell_type": "markdown",
   "metadata": {},
   "source": [
    "附註: 這要「背」還有點難。不過理解在做什麼, 就自己也會寫出看來很可怕的東西。"
   ]
  },
  {
   "cell_type": "markdown",
   "metadata": {},
   "source": [
    "### 格式化的三種方式\n",
    "\n",
    "之前我們要控制一堆字串印出來, 就是要用 \"+\" 合在一起..."
   ]
  },
  {
   "cell_type": "code",
   "execution_count": 11,
   "metadata": {},
   "outputs": [],
   "source": [
    "name = \"炎龍\"\n",
    "age = 25"
   ]
  },
  {
   "cell_type": "code",
   "execution_count": 12,
   "metadata": {},
   "outputs": [
    {
     "name": "stdout",
     "output_type": "stream",
     "text": [
      "你好, 我是炎龍, 今年 25 歲。\n"
     ]
    }
   ],
   "source": [
    "print(\"你好, 我是\" + name + \", 今年 \" + str(25) + \" 歲。\")"
   ]
  },
  {
   "cell_type": "markdown",
   "metadata": {},
   "source": [
    "這實在有夠難打的, 所以 Python 提供了格式化字串的方法, 而且有三種!"
   ]
  },
  {
   "cell_type": "markdown",
   "metadata": {},
   "source": [
    "### 方法 1: 最老派的方式\n",
    "\n",
    "在要印出字串的地方打上 `%s`, 要印出整數的地方打上 `%d`, 要印出浮點數打上 `%f`..."
   ]
  },
  {
   "cell_type": "code",
   "execution_count": 13,
   "metadata": {},
   "outputs": [
    {
     "name": "stdout",
     "output_type": "stream",
     "text": [
      "你好, 我是炎龍, 今年 25 歲。\n"
     ]
    }
   ],
   "source": [
    "message = \"你好, 我是%s, 今年 %d 歲。\" % (name, age)\n",
    "print(message)"
   ]
  },
  {
   "cell_type": "markdown",
   "metadata": {},
   "source": [
    "哦, 好像不錯耶! 不過要記得 `%s` 啦, `%d` 啦, `%f` 等等是什麼意思好像有點討厭。"
   ]
  },
  {
   "cell_type": "markdown",
   "metadata": {},
   "source": [
    "### 方法 2: `format`\n",
    "\n",
    "直接在要填入東西的地方, 放上 `{}`, 不用說這是字串啦、數字啦還是什麼的。"
   ]
  },
  {
   "cell_type": "code",
   "execution_count": 14,
   "metadata": {},
   "outputs": [],
   "source": [
    "message = \"你好, 我是{}, 今年 {} 歲。\".format(name, age)"
   ]
  },
  {
   "cell_type": "code",
   "execution_count": 15,
   "metadata": {},
   "outputs": [
    {
     "name": "stdout",
     "output_type": "stream",
     "text": [
      "你好, 我是炎龍, 今年 25 歲。\n"
     ]
    }
   ],
   "source": [
    "print(message)"
   ]
  },
  {
   "cell_type": "code",
   "execution_count": 16,
   "metadata": {},
   "outputs": [],
   "source": [
    "message = \"你好, 我是{0}, 今年 {1} 歲, 真的 {1} 歲!\".format(name, age)"
   ]
  },
  {
   "cell_type": "code",
   "execution_count": 17,
   "metadata": {},
   "outputs": [
    {
     "name": "stdout",
     "output_type": "stream",
     "text": [
      "你好, 我是炎龍, 今年 25 歲, 真的 25 歲!\n"
     ]
    }
   ],
   "source": [
    "print(message)"
   ]
  },
  {
   "cell_type": "markdown",
   "metadata": {},
   "source": [
    "這好像更好一點, 不過有更方便的嗎?"
   ]
  },
  {
   "cell_type": "markdown",
   "metadata": {},
   "source": [
    "### 方法 3: 全新的 `f-string`\n",
    "\n",
    "`f-string` 是 Python 3.6 才有的方法。直接填入要什麼就有什麼..."
   ]
  },
  {
   "cell_type": "code",
   "execution_count": 18,
   "metadata": {},
   "outputs": [],
   "source": [
    "message = f\"你好, 我是{name}, 今年 {age} 歲。\""
   ]
  },
  {
   "cell_type": "code",
   "execution_count": 19,
   "metadata": {},
   "outputs": [
    {
     "name": "stdout",
     "output_type": "stream",
     "text": [
      "你好, 我是炎龍, 今年 25 歲。\n"
     ]
    }
   ],
   "source": [
    "print(message)"
   ]
  },
  {
   "cell_type": "markdown",
   "metadata": {},
   "source": [
    "### 更完整的控制 (浮點數篇)\n",
    "\n",
    "我們 Google 一下, 發現 1 美元合台幣 30.0327357 元。"
   ]
  },
  {
   "cell_type": "code",
   "execution_count": 20,
   "metadata": {},
   "outputs": [],
   "source": [
    "c = 30.0327357"
   ]
  },
  {
   "cell_type": "code",
   "execution_count": 21,
   "metadata": {},
   "outputs": [
    {
     "name": "stdout",
     "output_type": "stream",
     "text": [
      "1 美元合台幣 30.0327357 元。\n"
     ]
    }
   ],
   "source": [
    "print(f\"1 美元合台幣 {c} 元。\")"
   ]
  },
  {
   "cell_type": "markdown",
   "metadata": {},
   "source": [
    "更炫的事是, 我們可以控制只印出小數點後 2 位。這時的 `f` (浮點數) 又出現了。"
   ]
  },
  {
   "cell_type": "code",
   "execution_count": 22,
   "metadata": {},
   "outputs": [
    {
     "name": "stdout",
     "output_type": "stream",
     "text": [
      "1 美元合台幣 30.03 元。\n"
     ]
    }
   ],
   "source": [
    "print(f\"1 美元合台幣 {c:.2f} 元。\")"
   ]
  },
  {
   "cell_type": "markdown",
   "metadata": {},
   "source": [
    "注意還自動四捨五入! 再來我們看看以下這個例子。"
   ]
  },
  {
   "cell_type": "code",
   "execution_count": 23,
   "metadata": {},
   "outputs": [
    {
     "name": "stdout",
     "output_type": "stream",
     "text": [
      "1 美元合台幣      30.03 元。\n"
     ]
    }
   ],
   "source": [
    "print(f\"1 美元合台幣 {c:10.2f} 元。\")"
   ]
  },
  {
   "cell_type": "markdown",
   "metadata": {},
   "source": [
    "看出來發生什麼事了嗎?\n",
    "\n",
    "![number formating](images/number_formating.png)"
   ]
  },
  {
   "cell_type": "markdown",
   "metadata": {},
   "source": [
    "### 更完整的控制 (對齊補滿篇)\n",
    "\n",
    "我們其實還可以控制靠左靠右的對齊..."
   ]
  },
  {
   "cell_type": "code",
   "execution_count": 24,
   "metadata": {},
   "outputs": [
    {
     "name": "stdout",
     "output_type": "stream",
     "text": [
      "        *■\n"
     ]
    }
   ],
   "source": [
    "star = \"*\"\n",
    "print(f\"{star:>9s}■\")"
   ]
  },
  {
   "cell_type": "markdown",
   "metadata": {},
   "source": [
    "靠左。"
   ]
  },
  {
   "cell_type": "code",
   "execution_count": 25,
   "metadata": {},
   "outputs": [
    {
     "name": "stdout",
     "output_type": "stream",
     "text": [
      "*        ■\n"
     ]
    }
   ],
   "source": [
    "star = \"*\"\n",
    "print(f\"{star:<9s}■\")"
   ]
  },
  {
   "cell_type": "markdown",
   "metadata": {},
   "source": [
    "置中。"
   ]
  },
  {
   "cell_type": "code",
   "execution_count": 26,
   "metadata": {
    "scrolled": true
   },
   "outputs": [
    {
     "name": "stdout",
     "output_type": "stream",
     "text": [
      "    *    ■\n"
     ]
    }
   ],
   "source": [
    "star = \"*\"\n",
    "print(f\"{star:^9s}■\")"
   ]
  },
  {
   "cell_type": "markdown",
   "metadata": {},
   "source": [
    "還可以用指定符號填滿空格。"
   ]
  },
  {
   "cell_type": "code",
   "execution_count": 27,
   "metadata": {},
   "outputs": [
    {
     "name": "stdout",
     "output_type": "stream",
     "text": [
      "........*■\n"
     ]
    }
   ],
   "source": [
    "star = \"*\"\n",
    "print(f\"{star:.>9s}■\")"
   ]
  },
  {
   "cell_type": "markdown",
   "metadata": {},
   "source": [
    "常見的應用是數字前要補 0。"
   ]
  },
  {
   "cell_type": "code",
   "execution_count": 28,
   "metadata": {},
   "outputs": [
    {
     "name": "stdout",
     "output_type": "stream",
     "text": [
      "日期是03月08日。\n"
     ]
    }
   ],
   "source": [
    "m = 3\n",
    "d = 8\n",
    "\n",
    "print(f\"日期是{m:0>2d}月{d:0>2d}日。\")"
   ]
  },
  {
   "cell_type": "markdown",
   "metadata": {},
   "source": [
    "其實字串本來就有個內建的方法。"
   ]
  },
  {
   "cell_type": "code",
   "execution_count": 29,
   "metadata": {},
   "outputs": [
    {
     "data": {
      "text/plain": [
       "'03'"
      ]
     },
     "execution_count": 29,
     "metadata": {},
     "output_type": "execute_result"
    }
   ],
   "source": [
    "str(m).zfill(2)"
   ]
  },
  {
   "cell_type": "markdown",
   "metadata": {},
   "source": [
    "利用置中的耍寶小應用。"
   ]
  },
  {
   "cell_type": "code",
   "execution_count": 30,
   "metadata": {},
   "outputs": [],
   "source": [
    "face = \"(๑• . •๑)\""
   ]
  },
  {
   "cell_type": "code",
   "execution_count": 31,
   "metadata": {},
   "outputs": [
    {
     "data": {
      "text/plain": [
       "9"
      ]
     },
     "execution_count": 31,
     "metadata": {},
     "output_type": "execute_result"
    }
   ],
   "source": [
    "len(face)"
   ]
  },
  {
   "cell_type": "code",
   "execution_count": 32,
   "metadata": {},
   "outputs": [
    {
     "name": "stdout",
     "output_type": "stream",
     "text": [
      "                  (๑• . •๑)                  \n",
      "             (๑• . •๑)(๑• . •๑)              \n",
      "         (๑• . •๑)(๑• . •๑)(๑• . •๑)         \n",
      "    (๑• . •๑)(๑• . •๑)(๑• . •๑)(๑• . •๑)     \n"
     ]
    }
   ],
   "source": [
    "for i in range(1, 5):\n",
    "    faces = face * i\n",
    "    print(f\"{faces:^45s}\")"
   ]
  },
  {
   "cell_type": "code",
   "execution_count": 33,
   "metadata": {},
   "outputs": [
    {
     "name": "stdout",
     "output_type": "stream",
     "text": [
      "      *      \n",
      "     ***     \n",
      "    *****    \n",
      "   *******   \n",
      "  *********  \n",
      " *********** \n",
      "*************\n"
     ]
    }
   ],
   "source": [
    "for i in range(1, 14, 2):\n",
    "    stars = \"*\" * i\n",
    "    print(f'{stars:^13s}')"
   ]
  },
  {
   "cell_type": "markdown",
   "metadata": {},
   "source": [
    "![文青機器人](images/poem.png)\n",
    "\n",
    "我們讓 Python 寫首詩吧。\n",
    "\n",
    "去收集一些你覺得容易在詩裡出現的字眼, 做成一個串列。接著, 你可以亂數決定幾句的詩, 比如說 2-7 句。同時也可以亂數決定每句各用多少詞, 再隨機選取你選的字..."
   ]
  },
  {
   "cell_type": "code",
   "execution_count": 34,
   "metadata": {},
   "outputs": [],
   "source": [
    "st = '''\n",
    "我\n",
    "我的\n",
    "眼睛\n",
    "妳\n",
    "妳的\n",
    "心\n",
    "溫柔\n",
    "日子\n",
    "雨\n",
    "風\n",
    "天空\n",
    "雲\n",
    "等待\n",
    "哭泣\n",
    "戀愛\n",
    "相遇\n",
    "分離\n",
    "忘記\n",
    "心醉\n",
    "驀然\n",
    "吹過\n",
    "思念\n",
    "靈魂\n",
    "停止\n",
    "'''"
   ]
  },
  {
   "cell_type": "code",
   "execution_count": 35,
   "metadata": {},
   "outputs": [],
   "source": [
    "words = st.split('\\n')"
   ]
  },
  {
   "cell_type": "code",
   "execution_count": 36,
   "metadata": {},
   "outputs": [
    {
     "data": {
      "text/plain": [
       "['',\n",
       " '我',\n",
       " '我的',\n",
       " '眼睛',\n",
       " '妳',\n",
       " '妳的',\n",
       " '心',\n",
       " '溫柔',\n",
       " '日子',\n",
       " '雨',\n",
       " '風',\n",
       " '天空',\n",
       " '雲',\n",
       " '等待',\n",
       " '哭泣',\n",
       " '戀愛',\n",
       " '相遇',\n",
       " '分離',\n",
       " '忘記',\n",
       " '心醉',\n",
       " '驀然',\n",
       " '吹過',\n",
       " '思念',\n",
       " '靈魂',\n",
       " '停止',\n",
       " '']"
      ]
     },
     "execution_count": 36,
     "metadata": {},
     "output_type": "execute_result"
    }
   ],
   "source": [
    "words"
   ]
  },
  {
   "cell_type": "code",
   "execution_count": 37,
   "metadata": {},
   "outputs": [],
   "source": [
    "from random import randint, choices, sample"
   ]
  },
  {
   "cell_type": "code",
   "execution_count": 38,
   "metadata": {},
   "outputs": [
    {
     "name": "stdout",
     "output_type": "stream",
     "text": [
      "妳的 我\n",
      "哭泣 日子\n",
      "忘記 妳的\n",
      "忘記 我\n",
      "溫柔 戀愛 我\n"
     ]
    }
   ],
   "source": [
    "n = randint(2, 7) # 決定有幾句\n",
    "\n",
    "for i in range(n):\n",
    "    m = randint(2, 5) # 決定每句的長度\n",
    "    sentence = sample(words, m)\n",
    "    print(\" \".join(sentence))"
   ]
  },
  {
   "cell_type": "markdown",
   "metadata": {},
   "source": [
    "然後我們改成函數。"
   ]
  },
  {
   "cell_type": "code",
   "execution_count": 39,
   "metadata": {},
   "outputs": [],
   "source": [
    "def poem():\n",
    "    n = randint(2, 7) # 決定有幾句\n",
    "\n",
    "    for i in range(n):\n",
    "        m = randint(2, 5) # 決定每句的長度\n",
    "        sentence = sample(words, m)\n",
    "        print(\" \".join(sentence))"
   ]
  },
  {
   "cell_type": "code",
   "execution_count": 40,
   "metadata": {},
   "outputs": [
    {
     "name": "stdout",
     "output_type": "stream",
     "text": [
      "驀然 吹過\n",
      "日子 眼睛\n",
      "戀愛 妳的\n",
      "相遇 妳的 吹過 等待 我的\n",
      "溫柔 我的 等待 妳的\n"
     ]
    }
   ],
   "source": [
    "poem()"
   ]
  },
  {
   "cell_type": "markdown",
   "metadata": {},
   "source": [
    "於是我們就可以一直寫詩..."
   ]
  },
  {
   "cell_type": "code",
   "execution_count": 41,
   "metadata": {},
   "outputs": [
    {
     "name": "stdout",
     "output_type": "stream",
     "text": [
      "等待 思念 妳\n",
      "靈魂 心醉  溫柔 相遇\n",
      "溫柔 靈魂 哭泣 分離\n",
      "思念 哭泣 天空\n"
     ]
    }
   ],
   "source": [
    "poem()"
   ]
  },
  {
   "cell_type": "code",
   "execution_count": 42,
   "metadata": {},
   "outputs": [
    {
     "name": "stdout",
     "output_type": "stream",
     "text": [
      "靈魂 等待 忘記 眼睛 風\n",
      "溫柔 妳\n",
      "哭泣  我\n",
      "心 忘記 溫柔 天空\n",
      "妳 溫柔 日子 雨 \n",
      "日子 眼睛 停止 我 妳\n"
     ]
    }
   ],
   "source": [
    "poem()"
   ]
  },
  {
   "cell_type": "markdown",
   "metadata": {},
   "source": [
    "用之前學的存檔起來!"
   ]
  },
  {
   "cell_type": "code",
   "execution_count": 43,
   "metadata": {},
   "outputs": [
    {
     "name": "stdout",
     "output_type": "stream",
     "text": [
      "File `poem.py` exists. Overwrite (y/[N])?  y\n",
      "'62 59-60 66-67' was not found in history, as a file, url, nor in the user namespace.\n"
     ]
    }
   ],
   "source": [
    "%save \"poem.py\" 62 59-60 66-67"
   ]
  },
  {
   "cell_type": "markdown",
   "metadata": {},
   "source": [
    "於是, 在終端機中, 我們就可以與詩相遇...\n",
    "\n",
    "![在終端機中寫首詩](images/run_poem.png)"
   ]
  }
 ],
 "metadata": {
  "kernelspec": {
   "display_name": "Python 3",
   "language": "python",
   "name": "python3"
  },
  "language_info": {
   "codemirror_mode": {
    "name": "ipython",
    "version": 3
   },
   "file_extension": ".py",
   "mimetype": "text/x-python",
   "name": "python",
   "nbconvert_exporter": "python",
   "pygments_lexer": "ipython3",
   "version": "3.7.3"
  }
 },
 "nbformat": 4,
 "nbformat_minor": 2
}
