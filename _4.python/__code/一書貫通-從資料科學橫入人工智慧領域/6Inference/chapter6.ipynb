{
 "cells": [
  {
   "cell_type": "markdown",
   "metadata": {},
   "source": [
    "# 第6讲 统计推断基础\n",
    "- 数据说明：本数据是地区房价增长率数据\n",
    "- 名称-中文含义\n",
    "- dis_name-小区名称\n",
    "- rate-房价同比增长率"
   ]
  },
  {
   "cell_type": "code",
   "execution_count": null,
   "metadata": {
    "scrolled": true
   },
   "outputs": [],
   "source": [
    "import pandas as pd\n",
    "\n",
    "house_price_gr = pd.read_csv('house_price_gr.csv', encoding='gbk')\n",
    "house_price_gr.head()"
   ]
  },
  {
   "cell_type": "markdown",
   "metadata": {
    "collapsed": true
   },
   "source": [
    "## 6.1 参数估计\n",
    "进行描述性统计分析"
   ]
  },
  {
   "cell_type": "code",
   "execution_count": null,
   "metadata": {},
   "outputs": [],
   "source": [
    "house_price_gr.describe(include='all')"
   ]
  },
  {
   "cell_type": "markdown",
   "metadata": {},
   "source": [
    "Histograph"
   ]
  },
  {
   "cell_type": "code",
   "execution_count": null,
   "metadata": {},
   "outputs": [],
   "source": [
    "%matplotlib inline\n",
    "import seaborn as sns\n",
    "from scipy import stats\n",
    "\n",
    "sns.distplot(house_price_gr.rate, kde=True, fit=stats.norm) # Histograph"
   ]
  },
  {
   "cell_type": "markdown",
   "metadata": {},
   "source": [
    "Q-Q"
   ]
  },
  {
   "cell_type": "code",
   "execution_count": null,
   "metadata": {},
   "outputs": [],
   "source": [
    "import statsmodels.api as sm\n",
    "from matplotlib import pyplot as plt\n",
    "\n",
    "fig = sm.qqplot(house_price_gr.rate, fit=True, line='45')\n",
    "fig.show()"
   ]
  },
  {
   "cell_type": "markdown",
   "metadata": {},
   "source": [
    "Box Plots"
   ]
  },
  {
   "cell_type": "code",
   "execution_count": null,
   "metadata": {},
   "outputs": [],
   "source": [
    "house_price_gr.plot(kind='box') # Box Plots"
   ]
  },
  {
   "cell_type": "markdown",
   "metadata": {},
   "source": [
    "置信度区间估计"
   ]
  },
  {
   "cell_type": "code",
   "execution_count": null,
   "metadata": {},
   "outputs": [],
   "source": [
    "se = house_price_gr.rate.std() / len(house_price_gr) ** 0.5\n",
    "LB = house_price_gr.rate.mean() - 1.98 * se\n",
    "UB = house_price_gr.rate.mean() + 1.98 * se\n",
    "(LB, UB)"
   ]
  },
  {
   "cell_type": "code",
   "execution_count": null,
   "metadata": {},
   "outputs": [],
   "source": [
    "# 如果要求任意置信度下的置信区间的话，可以自己编一个函数\n",
    "def confint(x, alpha=0.05):\n",
    "    n = len(x)\n",
    "    xb = x.mean()\n",
    "    df = n-1\n",
    "    tmp = (x.std() / n ** 0.5) * stats.t.ppf(1-alpha/2, df)\n",
    "    return {'Mean': xb, 'Degree of Freedom':df, 'LB':xb-tmp, 'UB':xb+tmp}\n",
    "\n",
    "confint(house_price_gr.rate, 0.05)"
   ]
  },
  {
   "cell_type": "code",
   "execution_count": null,
   "metadata": {},
   "outputs": [],
   "source": [
    "# 或者使用DescrStatsW\n",
    "d1 = sm.stats.DescrStatsW(house_price_gr.rate)\n",
    "d1.tconfint_mean(0.05) # "
   ]
  },
  {
   "cell_type": "markdown",
   "metadata": {},
   "source": [
    "## 6.2 假设检验与单样本T检验\n",
    "当年住宅价格的增长率是否超过了10%的阈值"
   ]
  },
  {
   "cell_type": "code",
   "execution_count": null,
   "metadata": {},
   "outputs": [],
   "source": [
    "print 't-statistic=%6.4f, p-value=%6.4f, df=%s' %d1.ttest_mean(0.1)\n",
    "#一般认为FICO高于690的客户信誉较高，请检验该产品的客户整体信用是否高于690"
   ]
  },
  {
   "cell_type": "markdown",
   "metadata": {
    "collapsed": true
   },
   "source": [
    "## 6.3 两样本T检验\n",
    "- 数据集描述与属性说明\n",
    "- ID\t客户编号\n",
    "- Suc_flag\t成功入网标识\n",
    "- ARPU\t入网后ARPU\n",
    "- PromCnt12\t12个月内的营销次数\n",
    "- PromCnt36\t36个月内的营销次数\n",
    "- PromCntMsg12\t12个月内发短信的次数\n",
    "- PromCntMsg36\t36个月内发短信的次数\n",
    "- Class\t客户重要性等级(根据前运营商消费情况)\n",
    "- Age\t年龄\n",
    "- Gender\t性别\n",
    "- HomeOwner\t是否拥有住房\n",
    "- AvgARPU\t当地平均ARPU\n",
    "- AvgHomeValue\t当地房屋均价\n",
    "- AvgIncome\t当地人均收入"
   ]
  },
  {
   "cell_type": "markdown",
   "metadata": {},
   "source": [
    "导入数据"
   ]
  },
  {
   "cell_type": "code",
   "execution_count": null,
   "metadata": {},
   "outputs": [],
   "source": [
    "camp= pd.read_csv('tele_camp_ok.csv', skipinitialspace=True)\n",
    "camp.head()"
   ]
  },
  {
   "cell_type": "markdown",
   "metadata": {},
   "source": [
    "根据是否入网比较外呼次数"
   ]
  },
  {
   "cell_type": "code",
   "execution_count": null,
   "metadata": {},
   "outputs": [],
   "source": [
    "camp['PromCnt12'].groupby(camp['Suc_flag']).describe()"
   ]
  },
  {
   "cell_type": "markdown",
   "metadata": {},
   "source": [
    "- 第一步:方差齐次检验"
   ]
  },
  {
   "cell_type": "code",
   "execution_count": null,
   "metadata": {},
   "outputs": [],
   "source": [
    "Suc0 = camp[camp['Suc_flag'] == 0]['PromCnt12']\n",
    "Suc1 = camp[camp['Suc_flag'] == 1]['PromCnt12']\n",
    "leveneTestRes = stats.levene(Suc0, Suc1, center='median')\n",
    "print('w-value=%6.4f, p-value=%6.4f' %leveneTestRes)"
   ]
  },
  {
   "cell_type": "markdown",
   "metadata": {},
   "source": [
    "- 第二步:T-test"
   ]
  },
  {
   "cell_type": "code",
   "execution_count": null,
   "metadata": {},
   "outputs": [],
   "source": [
    "stats.stats.ttest_ind(Suc0, Suc1, equal_var=False)\n",
    "# Or Try: sm.stats.ttest_ind(gender0, gender1, usevar='pooled')"
   ]
  },
  {
   "cell_type": "markdown",
   "metadata": {},
   "source": [
    "## 6.4 方差分析\n",
    "- 单因素方差分析"
   ]
  },
  {
   "cell_type": "code",
   "execution_count": null,
   "metadata": {},
   "outputs": [],
   "source": [
    "pd.set_option('display.max_columns', None) # 设置显示所有列\n",
    "camp.groupby('Class')[['PromCnt12']].describe().T"
   ]
  },
  {
   "cell_type": "code",
   "execution_count": null,
   "metadata": {},
   "outputs": [],
   "source": [
    "# 利用回归模型中的方差分析\n",
    "import statsmodels.api as sm\n",
    "from statsmodels.formula.api import ols\n",
    "\n",
    "sm.stats.anova_lm(ols('PromCnt12 ~ C(Class)',data=camp).fit())"
   ]
  },
  {
   "cell_type": "markdown",
   "metadata": {
    "collapsed": true
   },
   "source": [
    "- 多因素方差分析"
   ]
  },
  {
   "cell_type": "code",
   "execution_count": null,
   "metadata": {},
   "outputs": [],
   "source": [
    "sm.stats.anova_lm(ols('PromCnt12 ~ C(Class)+C(Age_group1)',data=camp).fit())"
   ]
  },
  {
   "cell_type": "markdown",
   "metadata": {
    "collapsed": true
   },
   "source": [
    "## 6.5 相关分析\n",
    "散点图"
   ]
  },
  {
   "cell_type": "code",
   "execution_count": null,
   "metadata": {},
   "outputs": [],
   "source": [
    "camp.plot(x='AvgARPU', y='ARPU', kind='scatter')\n"
   ]
  },
  {
   "cell_type": "markdown",
   "metadata": {},
   "source": [
    "相关性分析:“spearman”,“pearson” 和 \"kendall\""
   ]
  },
  {
   "cell_type": "code",
   "execution_count": null,
   "metadata": {},
   "outputs": [],
   "source": [
    "camp[['AvgARPU', 'ARPU']].corr(method='pearson')"
   ]
  },
  {
   "cell_type": "markdown",
   "metadata": {
    "collapsed": true
   },
   "source": [
    "## 6.6卡方检验"
   ]
  },
  {
   "cell_type": "code",
   "execution_count": null,
   "metadata": {
    "scrolled": true
   },
   "outputs": [],
   "source": [
    "cross_table = pd.crosstab(camp.Class, columns=camp.Suc_flag)\n",
    "# Or try this: accepts.pivot_table(index='bankruptcy_ind',columns='bad_ind', values='application_id', aggfunc='count')\n",
    "cross_table"
   ]
  },
  {
   "cell_type": "code",
   "execution_count": null,
   "metadata": {},
   "outputs": [],
   "source": [
    "print('chisq = %6.4f\\n p-value = %6.4f\\n dof = %i\\n expected_freq = %s'  %stats.chi2_contingency(cross_table))"
   ]
  },
  {
   "cell_type": "code",
   "execution_count": null,
   "metadata": {
    "collapsed": true
   },
   "outputs": [],
   "source": []
  }
 ],
 "metadata": {
  "kernelspec": {
   "display_name": "Python 3",
   "language": "python",
   "name": "python3"
  },
  "language_info": {
   "codemirror_mode": {
    "name": "ipython",
    "version": 3
   },
   "file_extension": ".py",
   "mimetype": "text/x-python",
   "name": "python",
   "nbconvert_exporter": "python",
   "pygments_lexer": "ipython3",
   "version": "3.6.1"
  }
 },
 "nbformat": 4,
 "nbformat_minor": 1
}
