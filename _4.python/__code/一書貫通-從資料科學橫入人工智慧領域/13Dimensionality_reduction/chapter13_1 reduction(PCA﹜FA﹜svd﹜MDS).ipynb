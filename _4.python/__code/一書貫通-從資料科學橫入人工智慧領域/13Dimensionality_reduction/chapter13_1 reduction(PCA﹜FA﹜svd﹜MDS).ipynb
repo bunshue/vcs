{
 "cells": [
  {
   "cell_type": "code",
   "execution_count": 1,
   "metadata": {},
   "outputs": [],
   "source": [
    "%matplotlib inline\n",
    "\n",
    "import pandas as pd\n",
    "import numpy as np\n",
    "import matplotlib.pyplot as plt\n",
    "\n",
    "pd.set_option('display.max_columns', None)"
   ]
  },
  {
   "cell_type": "markdown",
   "metadata": {},
   "source": [
    "## 主成分分析\n",
    "某金融服务公司为了了解贷款客户的信用程度，评价客户的信用等级，采用信用评级常用的5C方法，说明客户违约的可能性。\n",
    "- 品格：指客户的名誉；\n",
    "- 能力：指客户的偿还能力；\n",
    "- 资本：指客户的财务势力和财务状况；\n",
    "- 担保：指对申请贷款项担保的覆盖程度；\n",
    "- 环境：指外部经济、政策环境对客户的影响。\n",
    "- 每个单项都是由专家打分给出的。"
   ]
  },
  {
   "cell_type": "markdown",
   "metadata": {},
   "source": [
    "帮助文档\n",
    "http://scikit-learn.org/stable/modules/decomposition.html#principal-component-analysis-pca"
   ]
  },
  {
   "cell_type": "code",
   "execution_count": 2,
   "metadata": {
    "scrolled": false
   },
   "outputs": [
    {
     "data": {
      "text/html": [
       "<div>\n",
       "<style scoped>\n",
       "    .dataframe tbody tr th:only-of-type {\n",
       "        vertical-align: middle;\n",
       "    }\n",
       "\n",
       "    .dataframe tbody tr th {\n",
       "        vertical-align: top;\n",
       "    }\n",
       "\n",
       "    .dataframe thead th {\n",
       "        text-align: right;\n",
       "    }\n",
       "</style>\n",
       "<table border=\"1\" class=\"dataframe\">\n",
       "  <thead>\n",
       "    <tr style=\"text-align: right;\">\n",
       "      <th></th>\n",
       "      <th>ID</th>\n",
       "      <th>X1</th>\n",
       "      <th>X2</th>\n",
       "      <th>X3</th>\n",
       "      <th>X4</th>\n",
       "      <th>X5</th>\n",
       "    </tr>\n",
       "  </thead>\n",
       "  <tbody>\n",
       "    <tr>\n",
       "      <th>0</th>\n",
       "      <td>1</td>\n",
       "      <td>76.5</td>\n",
       "      <td>81.5</td>\n",
       "      <td>76.0</td>\n",
       "      <td>75.8</td>\n",
       "      <td>71.7</td>\n",
       "    </tr>\n",
       "    <tr>\n",
       "      <th>1</th>\n",
       "      <td>2</td>\n",
       "      <td>70.6</td>\n",
       "      <td>73.0</td>\n",
       "      <td>67.6</td>\n",
       "      <td>68.1</td>\n",
       "      <td>78.5</td>\n",
       "    </tr>\n",
       "    <tr>\n",
       "      <th>2</th>\n",
       "      <td>3</td>\n",
       "      <td>90.7</td>\n",
       "      <td>87.3</td>\n",
       "      <td>91.0</td>\n",
       "      <td>81.5</td>\n",
       "      <td>80.0</td>\n",
       "    </tr>\n",
       "    <tr>\n",
       "      <th>3</th>\n",
       "      <td>4</td>\n",
       "      <td>77.5</td>\n",
       "      <td>73.6</td>\n",
       "      <td>70.9</td>\n",
       "      <td>69.8</td>\n",
       "      <td>74.8</td>\n",
       "    </tr>\n",
       "    <tr>\n",
       "      <th>4</th>\n",
       "      <td>5</td>\n",
       "      <td>85.6</td>\n",
       "      <td>68.5</td>\n",
       "      <td>70.0</td>\n",
       "      <td>62.2</td>\n",
       "      <td>76.5</td>\n",
       "    </tr>\n",
       "  </tbody>\n",
       "</table>\n",
       "</div>"
      ],
      "text/plain": [
       "   ID    X1    X2    X3    X4    X5\n",
       "0   1  76.5  81.5  76.0  75.8  71.7\n",
       "1   2  70.6  73.0  67.6  68.1  78.5\n",
       "2   3  90.7  87.3  91.0  81.5  80.0\n",
       "3   4  77.5  73.6  70.9  69.8  74.8\n",
       "4   5  85.6  68.5  70.0  62.2  76.5"
      ]
     },
     "execution_count": 2,
     "metadata": {},
     "output_type": "execute_result"
    }
   ],
   "source": [
    "loan = pd.read_csv(\"Loan_aply.csv\")\n",
    "loan.head()"
   ]
  },
  {
   "cell_type": "code",
   "execution_count": 3,
   "metadata": {},
   "outputs": [
    {
     "data": {
      "image/png": "[encoded data removed]",
      "text/plain": [
       "<Figure size 144x144 with 1 Axes>"
      ]
     },
     "metadata": {},
     "output_type": "display_data"
    }
   ],
   "source": [
    "plt.figure(figsize=(2, 2))\n",
    "plt.scatter(loan['X1'], loan['X2'])\n",
    "plt.title('Scatter')\n",
    "\n",
    "plt.show()"
   ]
  },
  {
   "cell_type": "code",
   "execution_count": 14,
   "metadata": {
    "scrolled": true
   },
   "outputs": [
    {
     "data": {
      "image/png": "[encoded data removed]",
      "text/plain": [
       "<matplotlib.figure.Figure at 0xb3c6160>"
      ]
     },
     "metadata": {},
     "output_type": "display_data"
    }
   ],
   "source": [
    "import seaborn as sns\n",
    "\n",
    "sns.pairplot(loan.ix[:, 'X1':])\n",
    "plt.show()"
   ]
  },
  {
   "cell_type": "markdown",
   "metadata": {},
   "source": [
    "计算相关系数矩阵"
   ]
  },
  {
   "cell_type": "code",
   "execution_count": 15,
   "metadata": {
    "scrolled": true
   },
   "outputs": [
    {
     "data": {
      "text/html": [
       "<div>\n",
       "<table border=\"1\" class=\"dataframe\">\n",
       "  <thead>\n",
       "    <tr style=\"text-align: right;\">\n",
       "      <th></th>\n",
       "      <th>X1</th>\n",
       "      <th>X2</th>\n",
       "      <th>X3</th>\n",
       "      <th>X4</th>\n",
       "      <th>X5</th>\n",
       "    </tr>\n",
       "  </thead>\n",
       "  <tbody>\n",
       "    <tr>\n",
       "      <th>X1</th>\n",
       "      <td>1.000000</td>\n",
       "      <td>0.726655</td>\n",
       "      <td>0.825342</td>\n",
       "      <td>0.676314</td>\n",
       "      <td>0.685563</td>\n",
       "    </tr>\n",
       "    <tr>\n",
       "      <th>X2</th>\n",
       "      <td>0.726655</td>\n",
       "      <td>1.000000</td>\n",
       "      <td>0.929080</td>\n",
       "      <td>0.938382</td>\n",
       "      <td>0.841413</td>\n",
       "    </tr>\n",
       "    <tr>\n",
       "      <th>X3</th>\n",
       "      <td>0.825342</td>\n",
       "      <td>0.929080</td>\n",
       "      <td>1.000000</td>\n",
       "      <td>0.883457</td>\n",
       "      <td>0.733482</td>\n",
       "    </tr>\n",
       "    <tr>\n",
       "      <th>X4</th>\n",
       "      <td>0.676314</td>\n",
       "      <td>0.938382</td>\n",
       "      <td>0.883457</td>\n",
       "      <td>1.000000</td>\n",
       "      <td>0.762563</td>\n",
       "    </tr>\n",
       "    <tr>\n",
       "      <th>X5</th>\n",
       "      <td>0.685563</td>\n",
       "      <td>0.841413</td>\n",
       "      <td>0.733482</td>\n",
       "      <td>0.762563</td>\n",
       "      <td>1.000000</td>\n",
       "    </tr>\n",
       "  </tbody>\n",
       "</table>\n",
       "</div>"
      ],
      "text/plain": [
       "          X1        X2        X3        X4        X5\n",
       "X1  1.000000  0.726655  0.825342  0.676314  0.685563\n",
       "X2  0.726655  1.000000  0.929080  0.938382  0.841413\n",
       "X3  0.825342  0.929080  1.000000  0.883457  0.733482\n",
       "X4  0.676314  0.938382  0.883457  1.000000  0.762563\n",
       "X5  0.685563  0.841413  0.733482  0.762563  1.000000"
      ]
     },
     "execution_count": 15,
     "metadata": {},
     "output_type": "execute_result"
    }
   ],
   "source": [
    "loan.ix[ :,'X1':].corr(method='pearson')"
   ]
  },
  {
   "cell_type": "markdown",
   "metadata": {},
   "source": [
    "主成分说明文档\n",
    "http://scikit-learn.org/stable/modules/generated/sklearn.decomposition.PCA.html#sklearn.decomposition.PCA"
   ]
  },
  {
   "cell_type": "markdown",
   "metadata": {},
   "source": [
    "初次查看主成分的解释方差占比"
   ]
  },
  {
   "cell_type": "code",
   "execution_count": 16,
   "metadata": {},
   "outputs": [
    {
     "name": "stdout",
     "output_type": "stream",
     "text": [
      "[ 0.84585431  0.08914623  0.04259067  0.01663007  0.00577872]\n"
     ]
    }
   ],
   "source": [
    "from sklearn.decomposition import PCA\n",
    "\n",
    "pca = PCA()\n",
    "pca.fit(loan.ix[ :,'X1':])\n",
    "\n",
    "print(pca.explained_variance_ratio_ )"
   ]
  },
  {
   "cell_type": "code",
   "execution_count": 17,
   "metadata": {},
   "outputs": [
    {
     "name": "stdout",
     "output_type": "stream",
     "text": [
      "[[ 0.46881402  0.48487556  0.47274449  0.46174663  0.32925948]\n",
      " [ 0.83061232 -0.32991571  0.02117417 -0.43090441 -0.12293025]\n",
      " [ 0.0214065   0.0148012  -0.4127194  -0.24084475  0.87805421]\n",
      " [ 0.25465387 -0.28771993 -0.58858207  0.70628304 -0.0842856 ]\n",
      " [ 0.15808149  0.75700032 -0.50921327 -0.2104032  -0.31367674]]\n"
     ]
    }
   ],
   "source": [
    "print(pca.components_)"
   ]
  },
  {
   "cell_type": "code",
   "execution_count": 18,
   "metadata": {},
   "outputs": [
    {
     "data": {
      "text/plain": [
       "PCA(copy=True, iterated_power='auto', n_components=1, random_state=None,\n",
       "  svd_solver='auto', tol=0.0, whiten=True)"
      ]
     },
     "execution_count": 18,
     "metadata": {},
     "output_type": "execute_result"
    }
   ],
   "source": [
    "pca1 = PCA(n_components=1, whiten=True)\n",
    "pca1.fit(loan.ix[ :,'X1':])"
   ]
  },
  {
   "cell_type": "markdown",
   "metadata": {},
   "source": [
    "将打分结果和原始数据联结"
   ]
  },
  {
   "cell_type": "code",
   "execution_count": 19,
   "metadata": {},
   "outputs": [
    {
     "data": {
      "text/html": [
       "<div>\n",
       "<table border=\"1\" class=\"dataframe\">\n",
       "  <thead>\n",
       "    <tr style=\"text-align: right;\">\n",
       "      <th></th>\n",
       "      <th>ID</th>\n",
       "      <th>X1</th>\n",
       "      <th>X2</th>\n",
       "      <th>X3</th>\n",
       "      <th>X4</th>\n",
       "      <th>X5</th>\n",
       "      <th>score</th>\n",
       "    </tr>\n",
       "  </thead>\n",
       "  <tbody>\n",
       "    <tr>\n",
       "      <th>6</th>\n",
       "      <td>7</td>\n",
       "      <td>94.0</td>\n",
       "      <td>94.0</td>\n",
       "      <td>87.5</td>\n",
       "      <td>89.5</td>\n",
       "      <td>92.0</td>\n",
       "      <td>1.866555</td>\n",
       "    </tr>\n",
       "    <tr>\n",
       "      <th>2</th>\n",
       "      <td>3</td>\n",
       "      <td>90.7</td>\n",
       "      <td>87.3</td>\n",
       "      <td>91.0</td>\n",
       "      <td>81.5</td>\n",
       "      <td>80.0</td>\n",
       "      <td>1.305392</td>\n",
       "    </tr>\n",
       "    <tr>\n",
       "      <th>5</th>\n",
       "      <td>6</td>\n",
       "      <td>85.0</td>\n",
       "      <td>79.2</td>\n",
       "      <td>80.3</td>\n",
       "      <td>84.4</td>\n",
       "      <td>76.5</td>\n",
       "      <td>0.708581</td>\n",
       "    </tr>\n",
       "    <tr>\n",
       "      <th>0</th>\n",
       "      <td>1</td>\n",
       "      <td>76.5</td>\n",
       "      <td>81.5</td>\n",
       "      <td>76.0</td>\n",
       "      <td>75.8</td>\n",
       "      <td>71.7</td>\n",
       "      <td>0.164704</td>\n",
       "    </tr>\n",
       "    <tr>\n",
       "      <th>3</th>\n",
       "      <td>4</td>\n",
       "      <td>77.5</td>\n",
       "      <td>73.6</td>\n",
       "      <td>70.9</td>\n",
       "      <td>69.8</td>\n",
       "      <td>74.8</td>\n",
       "      <td>-0.226659</td>\n",
       "    </tr>\n",
       "    <tr>\n",
       "      <th>4</th>\n",
       "      <td>5</td>\n",
       "      <td>85.6</td>\n",
       "      <td>68.5</td>\n",
       "      <td>70.0</td>\n",
       "      <td>62.2</td>\n",
       "      <td>76.5</td>\n",
       "      <td>-0.333337</td>\n",
       "    </tr>\n",
       "    <tr>\n",
       "      <th>1</th>\n",
       "      <td>2</td>\n",
       "      <td>70.6</td>\n",
       "      <td>73.0</td>\n",
       "      <td>67.6</td>\n",
       "      <td>68.1</td>\n",
       "      <td>78.5</td>\n",
       "      <td>-0.468710</td>\n",
       "    </tr>\n",
       "    <tr>\n",
       "      <th>7</th>\n",
       "      <td>8</td>\n",
       "      <td>84.6</td>\n",
       "      <td>66.9</td>\n",
       "      <td>68.8</td>\n",
       "      <td>64.8</td>\n",
       "      <td>66.4</td>\n",
       "      <td>-0.538157</td>\n",
       "    </tr>\n",
       "    <tr>\n",
       "      <th>9</th>\n",
       "      <td>10</td>\n",
       "      <td>70.0</td>\n",
       "      <td>69.2</td>\n",
       "      <td>71.7</td>\n",
       "      <td>64.9</td>\n",
       "      <td>68.9</td>\n",
       "      <td>-0.719685</td>\n",
       "    </tr>\n",
       "    <tr>\n",
       "      <th>8</th>\n",
       "      <td>9</td>\n",
       "      <td>57.7</td>\n",
       "      <td>60.4</td>\n",
       "      <td>57.4</td>\n",
       "      <td>60.8</td>\n",
       "      <td>65.0</td>\n",
       "      <td>-1.758685</td>\n",
       "    </tr>\n",
       "  </tbody>\n",
       "</table>\n",
       "</div>"
      ],
      "text/plain": [
       "   ID    X1    X2    X3    X4    X5     score\n",
       "6   7  94.0  94.0  87.5  89.5  92.0  1.866555\n",
       "2   3  90.7  87.3  91.0  81.5  80.0  1.305392\n",
       "5   6  85.0  79.2  80.3  84.4  76.5  0.708581\n",
       "0   1  76.5  81.5  76.0  75.8  71.7  0.164704\n",
       "3   4  77.5  73.6  70.9  69.8  74.8 -0.226659\n",
       "4   5  85.6  68.5  70.0  62.2  76.5 -0.333337\n",
       "1   2  70.6  73.0  67.6  68.1  78.5 -0.468710\n",
       "7   8  84.6  66.9  68.8  64.8  66.4 -0.538157\n",
       "9  10  70.0  69.2  71.7  64.9  68.9 -0.719685\n",
       "8   9  57.7  60.4  57.4  60.8  65.0 -1.758685"
      ]
     },
     "execution_count": 19,
     "metadata": {},
     "output_type": "execute_result"
    }
   ],
   "source": [
    "score =  pd.DataFrame(pca1.transform(loan.ix[:, 'X1':]),\n",
    "                      columns=['score', ])\n",
    "loan.join(score).sort_values(by='score', ascending=False)"
   ]
  },
  {
   "cell_type": "code",
   "execution_count": 20,
   "metadata": {},
   "outputs": [
    {
     "name": "stdout",
     "output_type": "stream",
     "text": [
      "[[ 0.46881402  0.48487556  0.47274449  0.46174663  0.32925948]]\n"
     ]
    }
   ],
   "source": [
    "print(pca1.components_)"
   ]
  },
  {
   "cell_type": "markdown",
   "metadata": {},
   "source": [
    "数据标准化的方法\n",
    "http://www.cnblogs.com/chaosimple/p/4153167.html"
   ]
  },
  {
   "cell_type": "markdown",
   "metadata": {},
   "source": [
    "## 因子分析\n",
    "- cities_10记录了十个沿海省份的经济指标"
   ]
  },
  {
   "cell_type": "markdown",
   "metadata": {},
   "source": [
    "|变量|含义|\n",
    "|:--:|:--:|\n",
    "|X1|GDP|\n",
    "|X2|人均GDP|\n",
    "|X3|工业增加值|\n",
    "|X4|第三产业增加值|\n",
    "|X5|固定资产投资|\n",
    "|X6|基本建设投资|\n",
    "|X7|社会消费品零售总额|\n",
    "|X8|海关出口总额|\n",
    "|X9|地方财政收入|"
   ]
  },
  {
   "cell_type": "markdown",
   "metadata": {},
   "source": [
    "因子分析说明文当\n",
    "http://scikit-learn.org/stable/modules/generated/sklearn.decomposition.FactorAnalysis.html#sklearn.decomposition.FactorAnalysis"
   ]
  },
  {
   "cell_type": "code",
   "execution_count": 21,
   "metadata": {},
   "outputs": [
    {
     "data": {
      "text/html": [
       "<div>\n",
       "<table border=\"1\" class=\"dataframe\">\n",
       "  <thead>\n",
       "    <tr style=\"text-align: right;\">\n",
       "      <th></th>\n",
       "      <th>AREA</th>\n",
       "      <th>X1</th>\n",
       "      <th>X2</th>\n",
       "      <th>X3</th>\n",
       "      <th>X4</th>\n",
       "      <th>X5</th>\n",
       "      <th>X6</th>\n",
       "      <th>X7</th>\n",
       "      <th>X8</th>\n",
       "      <th>X9</th>\n",
       "    </tr>\n",
       "  </thead>\n",
       "  <tbody>\n",
       "    <tr>\n",
       "      <th>0</th>\n",
       "      <td>辽宁</td>\n",
       "      <td>5458.2</td>\n",
       "      <td>13000</td>\n",
       "      <td>1376.2</td>\n",
       "      <td>2258.4</td>\n",
       "      <td>1315.9</td>\n",
       "      <td>529.0</td>\n",
       "      <td>2258.4</td>\n",
       "      <td>123.7</td>\n",
       "      <td>399.7</td>\n",
       "    </tr>\n",
       "    <tr>\n",
       "      <th>1</th>\n",
       "      <td>山东</td>\n",
       "      <td>10550.0</td>\n",
       "      <td>11643</td>\n",
       "      <td>3502.5</td>\n",
       "      <td>3851.0</td>\n",
       "      <td>2288.7</td>\n",
       "      <td>1070.7</td>\n",
       "      <td>3181.9</td>\n",
       "      <td>211.1</td>\n",
       "      <td>610.2</td>\n",
       "    </tr>\n",
       "    <tr>\n",
       "      <th>2</th>\n",
       "      <td>河北</td>\n",
       "      <td>6076.6</td>\n",
       "      <td>9047</td>\n",
       "      <td>1406.7</td>\n",
       "      <td>2092.6</td>\n",
       "      <td>1161.6</td>\n",
       "      <td>597.1</td>\n",
       "      <td>1968.3</td>\n",
       "      <td>45.9</td>\n",
       "      <td>302.3</td>\n",
       "    </tr>\n",
       "    <tr>\n",
       "      <th>3</th>\n",
       "      <td>天津</td>\n",
       "      <td>2022.6</td>\n",
       "      <td>22068</td>\n",
       "      <td>822.8</td>\n",
       "      <td>960.0</td>\n",
       "      <td>703.7</td>\n",
       "      <td>361.9</td>\n",
       "      <td>941.4</td>\n",
       "      <td>115.7</td>\n",
       "      <td>171.8</td>\n",
       "    </tr>\n",
       "    <tr>\n",
       "      <th>4</th>\n",
       "      <td>江苏</td>\n",
       "      <td>10636.3</td>\n",
       "      <td>14397</td>\n",
       "      <td>3536.3</td>\n",
       "      <td>3967.2</td>\n",
       "      <td>2320.0</td>\n",
       "      <td>1141.3</td>\n",
       "      <td>3215.8</td>\n",
       "      <td>384.7</td>\n",
       "      <td>643.7</td>\n",
       "    </tr>\n",
       "    <tr>\n",
       "      <th>5</th>\n",
       "      <td>上海</td>\n",
       "      <td>5408.8</td>\n",
       "      <td>40627</td>\n",
       "      <td>2196.2</td>\n",
       "      <td>2755.8</td>\n",
       "      <td>1970.2</td>\n",
       "      <td>779.3</td>\n",
       "      <td>2035.2</td>\n",
       "      <td>320.5</td>\n",
       "      <td>709.0</td>\n",
       "    </tr>\n",
       "    <tr>\n",
       "      <th>6</th>\n",
       "      <td>浙江</td>\n",
       "      <td>7670.0</td>\n",
       "      <td>16570</td>\n",
       "      <td>2356.5</td>\n",
       "      <td>3065.0</td>\n",
       "      <td>2296.6</td>\n",
       "      <td>1180.6</td>\n",
       "      <td>2877.5</td>\n",
       "      <td>294.2</td>\n",
       "      <td>566.9</td>\n",
       "    </tr>\n",
       "    <tr>\n",
       "      <th>7</th>\n",
       "      <td>福建</td>\n",
       "      <td>4682.0</td>\n",
       "      <td>13510</td>\n",
       "      <td>1047.1</td>\n",
       "      <td>1859.0</td>\n",
       "      <td>964.5</td>\n",
       "      <td>397.9</td>\n",
       "      <td>1663.3</td>\n",
       "      <td>173.7</td>\n",
       "      <td>272.9</td>\n",
       "    </tr>\n",
       "    <tr>\n",
       "      <th>8</th>\n",
       "      <td>广东</td>\n",
       "      <td>11769.7</td>\n",
       "      <td>15030</td>\n",
       "      <td>4224.6</td>\n",
       "      <td>4793.6</td>\n",
       "      <td>3022.9</td>\n",
       "      <td>1275.5</td>\n",
       "      <td>5013.6</td>\n",
       "      <td>1843.7</td>\n",
       "      <td>1201.6</td>\n",
       "    </tr>\n",
       "    <tr>\n",
       "      <th>9</th>\n",
       "      <td>广西</td>\n",
       "      <td>2455.4</td>\n",
       "      <td>5062</td>\n",
       "      <td>367.0</td>\n",
       "      <td>995.7</td>\n",
       "      <td>542.2</td>\n",
       "      <td>352.7</td>\n",
       "      <td>1025.5</td>\n",
       "      <td>15.1</td>\n",
       "      <td>186.7</td>\n",
       "    </tr>\n",
       "  </tbody>\n",
       "</table>\n",
       "</div>"
      ],
      "text/plain": [
       "  AREA       X1     X2      X3      X4      X5      X6      X7      X8      X9\n",
       "0   辽宁   5458.2  13000  1376.2  2258.4  1315.9   529.0  2258.4   123.7   399.7\n",
       "1   山东  10550.0  11643  3502.5  3851.0  2288.7  1070.7  3181.9   211.1   610.2\n",
       "2   河北   6076.6   9047  1406.7  2092.6  1161.6   597.1  1968.3    45.9   302.3\n",
       "3   天津   2022.6  22068   822.8   960.0   703.7   361.9   941.4   115.7   171.8\n",
       "4   江苏  10636.3  14397  3536.3  3967.2  2320.0  1141.3  3215.8   384.7   643.7\n",
       "5   上海   5408.8  40627  2196.2  2755.8  1970.2   779.3  2035.2   320.5   709.0\n",
       "6   浙江   7670.0  16570  2356.5  3065.0  2296.6  1180.6  2877.5   294.2   566.9\n",
       "7   福建   4682.0  13510  1047.1  1859.0   964.5   397.9  1663.3   173.7   272.9\n",
       "8   广东  11769.7  15030  4224.6  4793.6  3022.9  1275.5  5013.6  1843.7  1201.6\n",
       "9   广西   2455.4   5062   367.0   995.7   542.2   352.7  1025.5    15.1   186.7"
      ]
     },
     "execution_count": 21,
     "metadata": {},
     "output_type": "execute_result"
    }
   ],
   "source": [
    "cities = pd.read_csv(\"cities_10.csv\", encoding='gbk')\n",
    "cities"
   ]
  },
  {
   "cell_type": "code",
   "execution_count": 22,
   "metadata": {},
   "outputs": [
    {
     "data": {
      "text/html": [
       "<div>\n",
       "<table border=\"1\" class=\"dataframe\">\n",
       "  <thead>\n",
       "    <tr style=\"text-align: right;\">\n",
       "      <th></th>\n",
       "      <th>X1</th>\n",
       "      <th>X2</th>\n",
       "      <th>X3</th>\n",
       "      <th>X4</th>\n",
       "      <th>X5</th>\n",
       "      <th>X6</th>\n",
       "      <th>X7</th>\n",
       "      <th>X8</th>\n",
       "      <th>X9</th>\n",
       "    </tr>\n",
       "  </thead>\n",
       "  <tbody>\n",
       "    <tr>\n",
       "      <th>X1</th>\n",
       "      <td>1.000000</td>\n",
       "      <td>-0.094292</td>\n",
       "      <td>0.966506</td>\n",
       "      <td>0.979238</td>\n",
       "      <td>0.922984</td>\n",
       "      <td>0.921680</td>\n",
       "      <td>0.941148</td>\n",
       "      <td>0.637458</td>\n",
       "      <td>0.825568</td>\n",
       "    </tr>\n",
       "    <tr>\n",
       "      <th>X2</th>\n",
       "      <td>-0.094292</td>\n",
       "      <td>1.000000</td>\n",
       "      <td>0.112726</td>\n",
       "      <td>0.074167</td>\n",
       "      <td>0.214052</td>\n",
       "      <td>0.093483</td>\n",
       "      <td>-0.042776</td>\n",
       "      <td>0.081195</td>\n",
       "      <td>0.273145</td>\n",
       "    </tr>\n",
       "    <tr>\n",
       "      <th>X3</th>\n",
       "      <td>0.966506</td>\n",
       "      <td>0.112726</td>\n",
       "      <td>1.000000</td>\n",
       "      <td>0.985373</td>\n",
       "      <td>0.963159</td>\n",
       "      <td>0.939194</td>\n",
       "      <td>0.935196</td>\n",
       "      <td>0.704714</td>\n",
       "      <td>0.898016</td>\n",
       "    </tr>\n",
       "    <tr>\n",
       "      <th>X4</th>\n",
       "      <td>0.979238</td>\n",
       "      <td>0.074167</td>\n",
       "      <td>0.985373</td>\n",
       "      <td>1.000000</td>\n",
       "      <td>0.972862</td>\n",
       "      <td>0.939720</td>\n",
       "      <td>0.962267</td>\n",
       "      <td>0.713890</td>\n",
       "      <td>0.913364</td>\n",
       "    </tr>\n",
       "    <tr>\n",
       "      <th>X5</th>\n",
       "      <td>0.922984</td>\n",
       "      <td>0.214052</td>\n",
       "      <td>0.963159</td>\n",
       "      <td>0.972862</td>\n",
       "      <td>1.000000</td>\n",
       "      <td>0.971337</td>\n",
       "      <td>0.937109</td>\n",
       "      <td>0.716722</td>\n",
       "      <td>0.934549</td>\n",
       "    </tr>\n",
       "  </tbody>\n",
       "</table>\n",
       "</div>"
      ],
      "text/plain": [
       "          X1        X2        X3        X4        X5        X6        X7  \\\n",
       "X1  1.000000 -0.094292  0.966506  0.979238  0.922984  0.921680  0.941148   \n",
       "X2 -0.094292  1.000000  0.112726  0.074167  0.214052  0.093483 -0.042776   \n",
       "X3  0.966506  0.112726  1.000000  0.985373  0.963159  0.939194  0.935196   \n",
       "X4  0.979238  0.074167  0.985373  1.000000  0.972862  0.939720  0.962267   \n",
       "X5  0.922984  0.214052  0.963159  0.972862  1.000000  0.971337  0.937109   \n",
       "\n",
       "          X8        X9  \n",
       "X1  0.637458  0.825568  \n",
       "X2  0.081195  0.273145  \n",
       "X3  0.704714  0.898016  \n",
       "X4  0.713890  0.913364  \n",
       "X5  0.716722  0.934549  "
      ]
     },
     "execution_count": 22,
     "metadata": {},
     "output_type": "execute_result"
    }
   ],
   "source": [
    "cities.ix[:, 'X1':].corr(method='pearson').head()"
   ]
  },
  {
   "cell_type": "code",
   "execution_count": 23,
   "metadata": {},
   "outputs": [
    {
     "data": {
      "text/plain": [
       "array([ 0.80112955,  0.12214932,  0.0607924 ])"
      ]
     },
     "execution_count": 23,
     "metadata": {},
     "output_type": "execute_result"
    }
   ],
   "source": [
    "from sklearn.preprocessing import scale\n",
    "\n",
    "scale_cities = scale(cities.ix[:,'X1':])\n",
    "pca_c = PCA(n_components=3, whiten=True).fit(scale_cities)\n",
    "pca_c.explained_variance_ratio_"
   ]
  },
  {
   "cell_type": "code",
   "execution_count": 24,
   "metadata": {
    "scrolled": true
   },
   "outputs": [
    {
     "data": {
      "text/html": [
       "<div>\n",
       "<table border=\"1\" class=\"dataframe\">\n",
       "  <thead>\n",
       "    <tr style=\"text-align: right;\">\n",
       "      <th></th>\n",
       "      <th>0</th>\n",
       "      <th>1</th>\n",
       "      <th>2</th>\n",
       "      <th>3</th>\n",
       "      <th>4</th>\n",
       "      <th>5</th>\n",
       "      <th>6</th>\n",
       "      <th>7</th>\n",
       "      <th>8</th>\n",
       "    </tr>\n",
       "  </thead>\n",
       "  <tbody>\n",
       "    <tr>\n",
       "      <th>0</th>\n",
       "      <td>0.353682</td>\n",
       "      <td>0.040555</td>\n",
       "      <td>0.364148</td>\n",
       "      <td>0.367584</td>\n",
       "      <td>0.365917</td>\n",
       "      <td>0.352119</td>\n",
       "      <td>0.364419</td>\n",
       "      <td>0.297565</td>\n",
       "      <td>0.355405</td>\n",
       "    </tr>\n",
       "    <tr>\n",
       "      <th>1</th>\n",
       "      <td>-0.212192</td>\n",
       "      <td>0.942778</td>\n",
       "      <td>-0.009845</td>\n",
       "      <td>-0.045377</td>\n",
       "      <td>0.095213</td>\n",
       "      <td>-0.023027</td>\n",
       "      <td>-0.135241</td>\n",
       "      <td>0.048047</td>\n",
       "      <td>0.183830</td>\n",
       "    </tr>\n",
       "  </tbody>\n",
       "</table>\n",
       "</div>"
      ],
      "text/plain": [
       "          0         1         2         3         4         5         6  \\\n",
       "0  0.353682  0.040555  0.364148  0.367584  0.365917  0.352119  0.364419   \n",
       "1 -0.212192  0.942778 -0.009845 -0.045377  0.095213 -0.023027 -0.135241   \n",
       "\n",
       "          7         8  \n",
       "0  0.297565  0.355405  \n",
       "1  0.048047  0.183830  "
      ]
     },
     "execution_count": 24,
     "metadata": {},
     "output_type": "execute_result"
    }
   ],
   "source": [
    "pca_c1 = PCA(n_components=2, whiten=True).fit(scale_cities)\n",
    "pd.DataFrame(pca_c1.components_)"
   ]
  },
  {
   "cell_type": "markdown",
   "metadata": {},
   "source": [
    "sklearn中的因子分析是极大似然法,不推荐使用"
   ]
  },
  {
   "cell_type": "code",
   "execution_count": 25,
   "metadata": {},
   "outputs": [
    {
     "data": {
      "text/html": [
       "<div>\n",
       "<table border=\"1\" class=\"dataframe\">\n",
       "  <thead>\n",
       "    <tr style=\"text-align: right;\">\n",
       "      <th></th>\n",
       "      <th>0</th>\n",
       "      <th>1</th>\n",
       "      <th>2</th>\n",
       "      <th>3</th>\n",
       "      <th>4</th>\n",
       "      <th>5</th>\n",
       "      <th>6</th>\n",
       "      <th>7</th>\n",
       "      <th>8</th>\n",
       "    </tr>\n",
       "  </thead>\n",
       "  <tbody>\n",
       "    <tr>\n",
       "      <th>0</th>\n",
       "      <td>0.949506</td>\n",
       "      <td>0.130720</td>\n",
       "      <td>0.976672</td>\n",
       "      <td>0.990715</td>\n",
       "      <td>0.978722</td>\n",
       "      <td>0.929906</td>\n",
       "      <td>0.972033</td>\n",
       "      <td>0.785808</td>\n",
       "      <td>0.958326</td>\n",
       "    </tr>\n",
       "    <tr>\n",
       "      <th>1</th>\n",
       "      <td>-0.299501</td>\n",
       "      <td>0.533946</td>\n",
       "      <td>-0.134141</td>\n",
       "      <td>-0.128567</td>\n",
       "      <td>-0.010204</td>\n",
       "      <td>-0.149073</td>\n",
       "      <td>-0.014995</td>\n",
       "      <td>0.441813</td>\n",
       "      <td>0.281169</td>\n",
       "    </tr>\n",
       "  </tbody>\n",
       "</table>\n",
       "</div>"
      ],
      "text/plain": [
       "          0         1         2         3         4         5         6  \\\n",
       "0  0.949506  0.130720  0.976672  0.990715  0.978722  0.929906  0.972033   \n",
       "1 -0.299501  0.533946 -0.134141 -0.128567 -0.010204 -0.149073 -0.014995   \n",
       "\n",
       "          7         8  \n",
       "0  0.785808  0.958326  \n",
       "1  0.441813  0.281169  "
      ]
     },
     "execution_count": 25,
     "metadata": {},
     "output_type": "execute_result"
    }
   ],
   "source": [
    "from sklearn.decomposition import FactorAnalysis\n",
    "\n",
    "fa = FactorAnalysis(n_components=2).fit(scale_cities)\n",
    "pd.DataFrame(fa.components_)"
   ]
  },
  {
   "cell_type": "code",
   "execution_count": 26,
   "metadata": {},
   "outputs": [
    {
     "data": {
      "text/html": [
       "<div>\n",
       "<table border=\"1\" class=\"dataframe\">\n",
       "  <thead>\n",
       "    <tr style=\"text-align: right;\">\n",
       "      <th></th>\n",
       "      <th>AREA</th>\n",
       "      <th>total</th>\n",
       "      <th>avg</th>\n",
       "    </tr>\n",
       "  </thead>\n",
       "  <tbody>\n",
       "    <tr>\n",
       "      <th>0</th>\n",
       "      <td>辽宁</td>\n",
       "      <td>-0.365660</td>\n",
       "      <td>-0.022762</td>\n",
       "    </tr>\n",
       "    <tr>\n",
       "      <th>1</th>\n",
       "      <td>山东</td>\n",
       "      <td>0.800876</td>\n",
       "      <td>-1.473127</td>\n",
       "    </tr>\n",
       "    <tr>\n",
       "      <th>2</th>\n",
       "      <td>河北</td>\n",
       "      <td>-0.533812</td>\n",
       "      <td>-0.669277</td>\n",
       "    </tr>\n",
       "    <tr>\n",
       "      <th>3</th>\n",
       "      <td>天津</td>\n",
       "      <td>-1.323839</td>\n",
       "      <td>0.535589</td>\n",
       "    </tr>\n",
       "    <tr>\n",
       "      <th>4</th>\n",
       "      <td>江苏</td>\n",
       "      <td>0.895190</td>\n",
       "      <td>-1.368180</td>\n",
       "    </tr>\n",
       "    <tr>\n",
       "      <th>5</th>\n",
       "      <td>上海</td>\n",
       "      <td>0.242753</td>\n",
       "      <td>1.586546</td>\n",
       "    </tr>\n",
       "    <tr>\n",
       "      <th>6</th>\n",
       "      <td>浙江</td>\n",
       "      <td>0.307981</td>\n",
       "      <td>-0.269270</td>\n",
       "    </tr>\n",
       "    <tr>\n",
       "      <th>7</th>\n",
       "      <td>福建</td>\n",
       "      <td>-0.731412</td>\n",
       "      <td>-0.279693</td>\n",
       "    </tr>\n",
       "    <tr>\n",
       "      <th>8</th>\n",
       "      <td>广东</td>\n",
       "      <td>2.002748</td>\n",
       "      <td>1.449345</td>\n",
       "    </tr>\n",
       "    <tr>\n",
       "      <th>9</th>\n",
       "      <td>广西</td>\n",
       "      <td>-1.294825</td>\n",
       "      <td>0.510829</td>\n",
       "    </tr>\n",
       "  </tbody>\n",
       "</table>\n",
       "</div>"
      ],
      "text/plain": [
       "  AREA     total       avg\n",
       "0   辽宁 -0.365660 -0.022762\n",
       "1   山东  0.800876 -1.473127\n",
       "2   河北 -0.533812 -0.669277\n",
       "3   天津 -1.323839  0.535589\n",
       "4   江苏  0.895190 -1.368180\n",
       "5   上海  0.242753  1.586546\n",
       "6   浙江  0.307981 -0.269270\n",
       "7   福建 -0.731412 -0.279693\n",
       "8   广东  2.002748  1.449345\n",
       "9   广西 -1.294825  0.510829"
      ]
     },
     "execution_count": 26,
     "metadata": {},
     "output_type": "execute_result"
    }
   ],
   "source": [
    "cities_scores = pd.DataFrame(fa.transform(scale_cities), \n",
    "                             columns=['total', 'avg'])\n",
    "cities[['AREA']].join(cities_scores)"
   ]
  },
  {
   "cell_type": "markdown",
   "metadata": {},
   "source": [
    "### 对通信消费数据profile_telecom进行因子分析"
   ]
  },
  {
   "cell_type": "code",
   "execution_count": 27,
   "metadata": {},
   "outputs": [
    {
     "data": {
      "text/html": [
       "<div>\n",
       "<table border=\"1\" class=\"dataframe\">\n",
       "  <thead>\n",
       "    <tr style=\"text-align: right;\">\n",
       "      <th></th>\n",
       "      <th>ID</th>\n",
       "      <th>cnt_call</th>\n",
       "      <th>cnt_msg</th>\n",
       "      <th>cnt_wei</th>\n",
       "      <th>cnt_web</th>\n",
       "    </tr>\n",
       "  </thead>\n",
       "  <tbody>\n",
       "    <tr>\n",
       "      <th>0</th>\n",
       "      <td>1964627</td>\n",
       "      <td>46</td>\n",
       "      <td>90</td>\n",
       "      <td>36</td>\n",
       "      <td>31</td>\n",
       "    </tr>\n",
       "    <tr>\n",
       "      <th>1</th>\n",
       "      <td>3107769</td>\n",
       "      <td>53</td>\n",
       "      <td>2</td>\n",
       "      <td>0</td>\n",
       "      <td>2</td>\n",
       "    </tr>\n",
       "    <tr>\n",
       "      <th>2</th>\n",
       "      <td>3686296</td>\n",
       "      <td>28</td>\n",
       "      <td>24</td>\n",
       "      <td>5</td>\n",
       "      <td>8</td>\n",
       "    </tr>\n",
       "    <tr>\n",
       "      <th>3</th>\n",
       "      <td>3961002</td>\n",
       "      <td>9</td>\n",
       "      <td>2</td>\n",
       "      <td>0</td>\n",
       "      <td>4</td>\n",
       "    </tr>\n",
       "    <tr>\n",
       "      <th>4</th>\n",
       "      <td>4174839</td>\n",
       "      <td>145</td>\n",
       "      <td>2</td>\n",
       "      <td>0</td>\n",
       "      <td>1</td>\n",
       "    </tr>\n",
       "  </tbody>\n",
       "</table>\n",
       "</div>"
      ],
      "text/plain": [
       "        ID  cnt_call  cnt_msg  cnt_wei  cnt_web\n",
       "0  1964627        46       90       36       31\n",
       "1  3107769        53        2        0        2\n",
       "2  3686296        28       24        5        8\n",
       "3  3961002         9        2        0        4\n",
       "4  4174839       145        2        0        1"
      ]
     },
     "execution_count": 27,
     "metadata": {},
     "output_type": "execute_result"
    }
   ],
   "source": [
    "profile = pd.read_csv(\"profile_telecom.csv\")\n",
    "profile.head()"
   ]
  },
  {
   "cell_type": "code",
   "execution_count": 28,
   "metadata": {},
   "outputs": [
    {
     "data": {
      "text/html": [
       "<div>\n",
       "<table border=\"1\" class=\"dataframe\">\n",
       "  <thead>\n",
       "    <tr style=\"text-align: right;\">\n",
       "      <th></th>\n",
       "      <th>cnt_call</th>\n",
       "      <th>cnt_msg</th>\n",
       "      <th>cnt_wei</th>\n",
       "      <th>cnt_web</th>\n",
       "    </tr>\n",
       "  </thead>\n",
       "  <tbody>\n",
       "    <tr>\n",
       "      <th>cnt_call</th>\n",
       "      <td>1.000000</td>\n",
       "      <td>0.052096</td>\n",
       "      <td>0.117832</td>\n",
       "      <td>0.114190</td>\n",
       "    </tr>\n",
       "    <tr>\n",
       "      <th>cnt_msg</th>\n",
       "      <td>0.052096</td>\n",
       "      <td>1.000000</td>\n",
       "      <td>0.510686</td>\n",
       "      <td>0.739506</td>\n",
       "    </tr>\n",
       "    <tr>\n",
       "      <th>cnt_wei</th>\n",
       "      <td>0.117832</td>\n",
       "      <td>0.510686</td>\n",
       "      <td>1.000000</td>\n",
       "      <td>0.950492</td>\n",
       "    </tr>\n",
       "    <tr>\n",
       "      <th>cnt_web</th>\n",
       "      <td>0.114190</td>\n",
       "      <td>0.739506</td>\n",
       "      <td>0.950492</td>\n",
       "      <td>1.000000</td>\n",
       "    </tr>\n",
       "  </tbody>\n",
       "</table>\n",
       "</div>"
      ],
      "text/plain": [
       "          cnt_call   cnt_msg   cnt_wei   cnt_web\n",
       "cnt_call  1.000000  0.052096  0.117832  0.114190\n",
       "cnt_msg   0.052096  1.000000  0.510686  0.739506\n",
       "cnt_wei   0.117832  0.510686  1.000000  0.950492\n",
       "cnt_web   0.114190  0.739506  0.950492  1.000000"
      ]
     },
     "execution_count": 28,
     "metadata": {},
     "output_type": "execute_result"
    }
   ],
   "source": [
    "data = profile.ix[ :, 'cnt_call':]\n",
    "data.corr(method='pearson')"
   ]
  },
  {
   "cell_type": "markdown",
   "metadata": {},
   "source": [
    "对数据进行标准化"
   ]
  },
  {
   "cell_type": "markdown",
   "metadata": {},
   "source": [
    "http://scikit-learn.org/stable/modules/preprocessing.html#preprocessing"
   ]
  },
  {
   "cell_type": "code",
   "execution_count": 29,
   "metadata": {},
   "outputs": [
    {
     "data": {
      "text/plain": [
       "array([ 0.62510442,  0.24620209])"
      ]
     },
     "execution_count": 29,
     "metadata": {},
     "output_type": "execute_result"
    }
   ],
   "source": [
    "from sklearn.preprocessing import scale\n",
    "\n",
    "data_scaled = scale(data)\n",
    "\n",
    "telecom_pca = PCA(n_components=2, whiten=True).fit(data_scaled)\n",
    "telecom_pca.explained_variance_ratio_"
   ]
  },
  {
   "cell_type": "code",
   "execution_count": 30,
   "metadata": {},
   "outputs": [
    {
     "data": {
      "text/plain": [
       "array([[ 0.11085805,  0.50974123,  0.57909319,  0.62651852],\n",
       "       [ 0.99020127, -0.12736724, -0.01900236, -0.05401806]])"
      ]
     },
     "execution_count": 30,
     "metadata": {},
     "output_type": "execute_result"
    }
   ],
   "source": [
    "telecom_pca.components_"
   ]
  },
  {
   "cell_type": "code",
   "execution_count": 31,
   "metadata": {},
   "outputs": [
    {
     "data": {
      "text/plain": [
       "array([[ 2.30375674, -0.89791646],\n",
       "       [-0.74756399, -0.04038555],\n",
       "       [-0.11511713, -0.59628302],\n",
       "       ..., \n",
       "       [ 2.19516789,  0.04957299],\n",
       "       [-0.07839955, -0.10954018],\n",
       "       [-0.66270488,  1.16738689]])"
      ]
     },
     "execution_count": 31,
     "metadata": {},
     "output_type": "execute_result"
    }
   ],
   "source": [
    "telecom_pca.transform(data_scaled)"
   ]
  },
  {
   "cell_type": "code",
   "execution_count": 32,
   "metadata": {},
   "outputs": [
    {
     "data": {
      "text/html": [
       "<div>\n",
       "<table border=\"1\" class=\"dataframe\">\n",
       "  <thead>\n",
       "    <tr style=\"text-align: right;\">\n",
       "      <th></th>\n",
       "      <th>0</th>\n",
       "      <th>1</th>\n",
       "    </tr>\n",
       "  </thead>\n",
       "  <tbody>\n",
       "    <tr>\n",
       "      <th>0</th>\n",
       "      <td>0.949506</td>\n",
       "      <td>-0.299501</td>\n",
       "    </tr>\n",
       "    <tr>\n",
       "      <th>1</th>\n",
       "      <td>0.130720</td>\n",
       "      <td>0.533946</td>\n",
       "    </tr>\n",
       "    <tr>\n",
       "      <th>2</th>\n",
       "      <td>0.976672</td>\n",
       "      <td>-0.134141</td>\n",
       "    </tr>\n",
       "    <tr>\n",
       "      <th>3</th>\n",
       "      <td>0.990715</td>\n",
       "      <td>-0.128567</td>\n",
       "    </tr>\n",
       "    <tr>\n",
       "      <th>4</th>\n",
       "      <td>0.978722</td>\n",
       "      <td>-0.010204</td>\n",
       "    </tr>\n",
       "    <tr>\n",
       "      <th>5</th>\n",
       "      <td>0.929906</td>\n",
       "      <td>-0.149073</td>\n",
       "    </tr>\n",
       "    <tr>\n",
       "      <th>6</th>\n",
       "      <td>0.972033</td>\n",
       "      <td>-0.014995</td>\n",
       "    </tr>\n",
       "    <tr>\n",
       "      <th>7</th>\n",
       "      <td>0.785808</td>\n",
       "      <td>0.441813</td>\n",
       "    </tr>\n",
       "    <tr>\n",
       "      <th>8</th>\n",
       "      <td>0.958326</td>\n",
       "      <td>0.281169</td>\n",
       "    </tr>\n",
       "  </tbody>\n",
       "</table>\n",
       "</div>"
      ],
      "text/plain": [
       "          0         1\n",
       "0  0.949506 -0.299501\n",
       "1  0.130720  0.533946\n",
       "2  0.976672 -0.134141\n",
       "3  0.990715 -0.128567\n",
       "4  0.978722 -0.010204\n",
       "5  0.929906 -0.149073\n",
       "6  0.972033 -0.014995\n",
       "7  0.785808  0.441813\n",
       "8  0.958326  0.281169"
      ]
     },
     "execution_count": 32,
     "metadata": {},
     "output_type": "execute_result"
    }
   ],
   "source": [
    "telecom_fa = FactorAnalysis(n_components=2).fit(data_scaled)\n",
    "pd.DataFrame(fa.components_).T"
   ]
  },
  {
   "cell_type": "markdown",
   "metadata": {},
   "source": [
    "### 奇异值分解"
   ]
  },
  {
   "cell_type": "code",
   "execution_count": 33,
   "metadata": {},
   "outputs": [],
   "source": [
    "A = np.matrix(\n",
    "    [[5, 5, 0, 5],\n",
    "     [5, 0, 3, 4],\n",
    "     [3, 4, 0, 3],\n",
    "     [0, 0, 5, 3],\n",
    "     [5, 4, 4, 5],\n",
    "     [5, 4, 5, 5]])"
   ]
  },
  {
   "cell_type": "code",
   "execution_count": 34,
   "metadata": {},
   "outputs": [
    {
     "name": "stdout",
     "output_type": "stream",
     "text": [
      "(6, 6) (4,) (4, 4)\n"
     ]
    }
   ],
   "source": [
    "U, s, VH = np.linalg.svd(A)\n",
    "print(U.shape, s.shape, VH.shape)"
   ]
  },
  {
   "cell_type": "code",
   "execution_count": 35,
   "metadata": {},
   "outputs": [
    {
     "data": {
      "image/png": "[encoded data removed]",
      "text/plain": [
       "<matplotlib.figure.Figure at 0xbd5a400>"
      ]
     },
     "metadata": {},
     "output_type": "display_data"
    }
   ],
   "source": [
    "plt.figure(figsize=[3, 2])\n",
    "plt.plot(s)\n",
    "plt.show()"
   ]
  },
  {
   "cell_type": "code",
   "execution_count": 36,
   "metadata": {},
   "outputs": [],
   "source": [
    "S = np.diag(s[:2])\n",
    "UU = U[:, :2]"
   ]
  },
  {
   "cell_type": "code",
   "execution_count": 37,
   "metadata": {},
   "outputs": [],
   "source": [
    "bob_T = np.matrix([5, 5, 0, 0, 0, 5])"
   ]
  },
  {
   "cell_type": "code",
   "execution_count": 38,
   "metadata": {},
   "outputs": [
    {
     "data": {
      "text/plain": [
       "matrix([[-0.37752201,  0.08020351]])"
      ]
     },
     "execution_count": 38,
     "metadata": {},
     "output_type": "execute_result"
    }
   ],
   "source": [
    "bob_T.dot(UU).dot(np.linalg.inv(S))"
   ]
  },
  {
   "cell_type": "markdown",
   "metadata": {},
   "source": [
    "# MDS"
   ]
  },
  {
   "cell_type": "markdown",
   "metadata": {},
   "source": [
    "- 使用美国各大城市距离数据CITY_DISTANCE"
   ]
  },
  {
   "cell_type": "code",
   "execution_count": 39,
   "metadata": {},
   "outputs": [
    {
     "data": {
      "text/html": [
       "<div>\n",
       "<table border=\"1\" class=\"dataframe\">\n",
       "  <thead>\n",
       "    <tr style=\"text-align: right;\">\n",
       "      <th></th>\n",
       "      <th>City</th>\n",
       "      <th>Atlanta</th>\n",
       "      <th>Chicago</th>\n",
       "      <th>Denver</th>\n",
       "      <th>Houston</th>\n",
       "      <th>LosAngeles</th>\n",
       "      <th>Miami</th>\n",
       "      <th>NewYork</th>\n",
       "      <th>SanFrancisco</th>\n",
       "      <th>Seattle</th>\n",
       "      <th>Wanshington</th>\n",
       "    </tr>\n",
       "  </thead>\n",
       "  <tbody>\n",
       "    <tr>\n",
       "      <th>0</th>\n",
       "      <td>Atlanta</td>\n",
       "      <td>0</td>\n",
       "      <td>NaN</td>\n",
       "      <td>NaN</td>\n",
       "      <td>NaN</td>\n",
       "      <td>NaN</td>\n",
       "      <td>NaN</td>\n",
       "      <td>NaN</td>\n",
       "      <td>NaN</td>\n",
       "      <td>NaN</td>\n",
       "      <td>NaN</td>\n",
       "    </tr>\n",
       "    <tr>\n",
       "      <th>1</th>\n",
       "      <td>Chicago</td>\n",
       "      <td>587</td>\n",
       "      <td>0.0</td>\n",
       "      <td>NaN</td>\n",
       "      <td>NaN</td>\n",
       "      <td>NaN</td>\n",
       "      <td>NaN</td>\n",
       "      <td>NaN</td>\n",
       "      <td>NaN</td>\n",
       "      <td>NaN</td>\n",
       "      <td>NaN</td>\n",
       "    </tr>\n",
       "    <tr>\n",
       "      <th>2</th>\n",
       "      <td>Denver</td>\n",
       "      <td>1212</td>\n",
       "      <td>920.0</td>\n",
       "      <td>0.0</td>\n",
       "      <td>NaN</td>\n",
       "      <td>NaN</td>\n",
       "      <td>NaN</td>\n",
       "      <td>NaN</td>\n",
       "      <td>NaN</td>\n",
       "      <td>NaN</td>\n",
       "      <td>NaN</td>\n",
       "    </tr>\n",
       "    <tr>\n",
       "      <th>3</th>\n",
       "      <td>Houston</td>\n",
       "      <td>701</td>\n",
       "      <td>940.0</td>\n",
       "      <td>879.0</td>\n",
       "      <td>0.0</td>\n",
       "      <td>NaN</td>\n",
       "      <td>NaN</td>\n",
       "      <td>NaN</td>\n",
       "      <td>NaN</td>\n",
       "      <td>NaN</td>\n",
       "      <td>NaN</td>\n",
       "    </tr>\n",
       "    <tr>\n",
       "      <th>4</th>\n",
       "      <td>LosAngeles</td>\n",
       "      <td>1936</td>\n",
       "      <td>1745.0</td>\n",
       "      <td>831.0</td>\n",
       "      <td>1374.0</td>\n",
       "      <td>0.0</td>\n",
       "      <td>NaN</td>\n",
       "      <td>NaN</td>\n",
       "      <td>NaN</td>\n",
       "      <td>NaN</td>\n",
       "      <td>NaN</td>\n",
       "    </tr>\n",
       "    <tr>\n",
       "      <th>5</th>\n",
       "      <td>Miami</td>\n",
       "      <td>604</td>\n",
       "      <td>1188.0</td>\n",
       "      <td>1726.0</td>\n",
       "      <td>968.0</td>\n",
       "      <td>2339.0</td>\n",
       "      <td>0.0</td>\n",
       "      <td>NaN</td>\n",
       "      <td>NaN</td>\n",
       "      <td>NaN</td>\n",
       "      <td>NaN</td>\n",
       "    </tr>\n",
       "    <tr>\n",
       "      <th>6</th>\n",
       "      <td>NewYork</td>\n",
       "      <td>748</td>\n",
       "      <td>713.0</td>\n",
       "      <td>1631.0</td>\n",
       "      <td>1420.0</td>\n",
       "      <td>2451.0</td>\n",
       "      <td>1092.0</td>\n",
       "      <td>0.0</td>\n",
       "      <td>NaN</td>\n",
       "      <td>NaN</td>\n",
       "      <td>NaN</td>\n",
       "    </tr>\n",
       "    <tr>\n",
       "      <th>7</th>\n",
       "      <td>SanFrancisco</td>\n",
       "      <td>2139</td>\n",
       "      <td>1858.0</td>\n",
       "      <td>949.0</td>\n",
       "      <td>1645.0</td>\n",
       "      <td>347.0</td>\n",
       "      <td>2594.0</td>\n",
       "      <td>2571.0</td>\n",
       "      <td>0.0</td>\n",
       "      <td>NaN</td>\n",
       "      <td>NaN</td>\n",
       "    </tr>\n",
       "    <tr>\n",
       "      <th>8</th>\n",
       "      <td>Seattle</td>\n",
       "      <td>2182</td>\n",
       "      <td>1737.0</td>\n",
       "      <td>1021.0</td>\n",
       "      <td>1891.0</td>\n",
       "      <td>959.0</td>\n",
       "      <td>2734.0</td>\n",
       "      <td>2408.0</td>\n",
       "      <td>678.0</td>\n",
       "      <td>0.0</td>\n",
       "      <td>NaN</td>\n",
       "    </tr>\n",
       "    <tr>\n",
       "      <th>9</th>\n",
       "      <td>Wanshington</td>\n",
       "      <td>543</td>\n",
       "      <td>597.0</td>\n",
       "      <td>1494.0</td>\n",
       "      <td>1220.0</td>\n",
       "      <td>2300.0</td>\n",
       "      <td>923.0</td>\n",
       "      <td>205.0</td>\n",
       "      <td>2442.0</td>\n",
       "      <td>2329.0</td>\n",
       "      <td>0.0</td>\n",
       "    </tr>\n",
       "  </tbody>\n",
       "</table>\n",
       "</div>"
      ],
      "text/plain": [
       "           City  Atlanta  Chicago  Denver  Houston  LosAngeles   Miami  \\\n",
       "0       Atlanta        0      NaN     NaN      NaN         NaN     NaN   \n",
       "1       Chicago      587      0.0     NaN      NaN         NaN     NaN   \n",
       "2        Denver     1212    920.0     0.0      NaN         NaN     NaN   \n",
       "3       Houston      701    940.0   879.0      0.0         NaN     NaN   \n",
       "4    LosAngeles     1936   1745.0   831.0   1374.0         0.0     NaN   \n",
       "5         Miami      604   1188.0  1726.0    968.0      2339.0     0.0   \n",
       "6       NewYork      748    713.0  1631.0   1420.0      2451.0  1092.0   \n",
       "7  SanFrancisco     2139   1858.0   949.0   1645.0       347.0  2594.0   \n",
       "8       Seattle     2182   1737.0  1021.0   1891.0       959.0  2734.0   \n",
       "9   Wanshington      543    597.0  1494.0   1220.0      2300.0   923.0   \n",
       "\n",
       "   NewYork  SanFrancisco  Seattle  Wanshington  \n",
       "0      NaN           NaN      NaN          NaN  \n",
       "1      NaN           NaN      NaN          NaN  \n",
       "2      NaN           NaN      NaN          NaN  \n",
       "3      NaN           NaN      NaN          NaN  \n",
       "4      NaN           NaN      NaN          NaN  \n",
       "5      NaN           NaN      NaN          NaN  \n",
       "6      0.0           NaN      NaN          NaN  \n",
       "7   2571.0           0.0      NaN          NaN  \n",
       "8   2408.0         678.0      0.0          NaN  \n",
       "9    205.0        2442.0   2329.0          0.0  "
      ]
     },
     "execution_count": 39,
     "metadata": {},
     "output_type": "execute_result"
    }
   ],
   "source": [
    "df = pd.read_csv('CITY_DISTANCE.csv', skipinitialspace=True)\n",
    "df"
   ]
  },
  {
   "cell_type": "code",
   "execution_count": 40,
   "metadata": {},
   "outputs": [],
   "source": [
    "df_filled = df.fillna(0)\n",
    "distance_array = np.array(df_filled.ix[:, 1:])\n",
    "cities = distance_array + distance_array.T\n",
    "# pd.DataFrame(cities)"
   ]
  },
  {
   "cell_type": "markdown",
   "metadata": {},
   "source": [
    "建模"
   ]
  },
  {
   "cell_type": "code",
   "execution_count": 41,
   "metadata": {},
   "outputs": [
    {
     "data": {
      "text/plain": [
       "350.0770309073701"
      ]
     },
     "execution_count": 41,
     "metadata": {},
     "output_type": "execute_result"
    }
   ],
   "source": [
    "from sklearn.manifold import MDS\n",
    "\n",
    "mds = MDS(n_components=2, dissimilarity='precomputed', random_state=123)\n",
    "mds.fit_transform(cities)\n",
    "mds.stress_"
   ]
  },
  {
   "cell_type": "code",
   "execution_count": 42,
   "metadata": {},
   "outputs": [
    {
     "data": {
      "text/plain": [
       "array([[  716.61625448,  -148.16931503],\n",
       "       [  384.93295013,   338.19627187],\n",
       "       [ -481.42120431,    25.85317473],\n",
       "       [  157.13523411,  -574.28615625],\n",
       "       [-1207.2958236 ,  -371.75217682],\n",
       "       [ 1127.90413892,  -587.76572233],\n",
       "       [ 1077.08560846,   506.5484897 ],\n",
       "       [-1420.83429788,   -95.07851906],\n",
       "       [-1336.36870742,   581.2975099 ],\n",
       "       [  982.24584712,   325.1564433 ]])"
      ]
     },
     "execution_count": 42,
     "metadata": {},
     "output_type": "execute_result"
    }
   ],
   "source": [
    "mds.embedding_"
   ]
  },
  {
   "cell_type": "markdown",
   "metadata": {},
   "source": [
    "绘制感知图"
   ]
  },
  {
   "cell_type": "code",
   "execution_count": 43,
   "metadata": {
    "scrolled": true
   },
   "outputs": [
    {
     "data": {
      "image/png": "[encoded data removed]",
      "text/plain": [
       "<matplotlib.figure.Figure at 0xd905400>"
      ]
     },
     "metadata": {},
     "output_type": "display_data"
    }
   ],
   "source": [
    "x = mds.embedding_[:, 0]\n",
    "y = mds.embedding_[:, 1]\n",
    "plt.scatter(x, y)\n",
    "for a, b, s in zip(x, y, df['City']):\n",
    "    plt.text(a, b, s, fontsize=12)\n",
    "plt.show()"
   ]
  }
 ],
 "metadata": {
  "anaconda-cloud": {},
  "celltoolbar": "Raw Cell Format",
  "kernelspec": {
   "display_name": "Python 3",
   "language": "python",
   "name": "python3"
  },
  "language_info": {
   "codemirror_mode": {
    "name": "ipython",
    "version": 3
   },
   "file_extension": ".py",
   "mimetype": "text/x-python",
   "name": "python",
   "nbconvert_exporter": "python",
   "pygments_lexer": "ipython3",
   "version": "3.6.3"
  }
 },
 "nbformat": 4,
 "nbformat_minor": 1
}
