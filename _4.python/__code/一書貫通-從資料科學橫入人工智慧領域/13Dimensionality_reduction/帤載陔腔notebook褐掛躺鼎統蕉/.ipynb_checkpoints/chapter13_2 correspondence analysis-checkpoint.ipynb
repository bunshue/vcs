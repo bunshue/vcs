{
 "cells": [
  {
   "cell_type": "markdown",
   "metadata": {},
   "source": [
    "|变量|说明|标签|\n",
    "|:--:|:--:|:--|\n",
    "|NO|编号|-|\n",
    "|salary|收入|1:[0 1000], 2:[1000 3000], 3:[3001 5000], 4:[5001 7000], 5:[7001 9000], 6:>9000|\n",
    "|educ|教育程度|1:高中以下, 2:大专, 3:本科, 4:大于硕士|\n",
    "|freq|频次|1:1次, 2:2-3次, 3:4-5次, 4:6-8次, 5:9-12次, 6:>13次|\n",
    "|compan|购物原因|1:家人,2:情人, 3:朋友, 4: 同学, 5:客户, 6:无聊|\n",
    "|purpose|目的|1:享受, 2:陪同异性, 3:生活用品, 4:公事, 5:无聊|\n",
    "|average|单次平均消费|1:小于50, 2:[50 99], 3: [100,149], 4:[150 199], 5:≥200|"
   ]
  },
  {
   "cell_type": "code",
   "execution_count": 1,
   "metadata": {},
   "outputs": [
    {
     "data": {
      "text/html": [
       "<div>\n",
       "<style>\n",
       "    .dataframe thead tr:only-child th {\n",
       "        text-align: right;\n",
       "    }\n",
       "\n",
       "    .dataframe thead th {\n",
       "        text-align: left;\n",
       "    }\n",
       "\n",
       "    .dataframe tbody tr th {\n",
       "        vertical-align: top;\n",
       "    }\n",
       "</style>\n",
       "<table border=\"1\" class=\"dataframe\">\n",
       "  <thead>\n",
       "    <tr style=\"text-align: right;\">\n",
       "      <th></th>\n",
       "      <th>NO</th>\n",
       "      <th>salary</th>\n",
       "      <th>educ</th>\n",
       "      <th>freq</th>\n",
       "      <th>compan</th>\n",
       "      <th>purpose</th>\n",
       "      <th>average</th>\n",
       "    </tr>\n",
       "  </thead>\n",
       "  <tbody>\n",
       "    <tr>\n",
       "      <th>0</th>\n",
       "      <td>1</td>\n",
       "      <td>3</td>\n",
       "      <td>4</td>\n",
       "      <td>4</td>\n",
       "      <td>3</td>\n",
       "      <td>2</td>\n",
       "      <td>2</td>\n",
       "    </tr>\n",
       "    <tr>\n",
       "      <th>1</th>\n",
       "      <td>2</td>\n",
       "      <td>4</td>\n",
       "      <td>4</td>\n",
       "      <td>1</td>\n",
       "      <td>1</td>\n",
       "      <td>1</td>\n",
       "      <td>2</td>\n",
       "    </tr>\n",
       "    <tr>\n",
       "      <th>2</th>\n",
       "      <td>3</td>\n",
       "      <td>3</td>\n",
       "      <td>3</td>\n",
       "      <td>6</td>\n",
       "      <td>2</td>\n",
       "      <td>1</td>\n",
       "      <td>2</td>\n",
       "    </tr>\n",
       "    <tr>\n",
       "      <th>3</th>\n",
       "      <td>4</td>\n",
       "      <td>4</td>\n",
       "      <td>4</td>\n",
       "      <td>2</td>\n",
       "      <td>3</td>\n",
       "      <td>2</td>\n",
       "      <td>4</td>\n",
       "    </tr>\n",
       "    <tr>\n",
       "      <th>4</th>\n",
       "      <td>5</td>\n",
       "      <td>1</td>\n",
       "      <td>3</td>\n",
       "      <td>1</td>\n",
       "      <td>3</td>\n",
       "      <td>2</td>\n",
       "      <td>2</td>\n",
       "    </tr>\n",
       "  </tbody>\n",
       "</table>\n",
       "</div>"
      ],
      "text/plain": [
       "   NO  salary  educ  freq  compan  purpose  average\n",
       "0   1       3     4     4       3        2        2\n",
       "1   2       4     4     1       1        1        2\n",
       "2   3       3     3     6       2        1        2\n",
       "3   4       4     4     2       3        2        4\n",
       "4   5       1     3     1       3        2        2"
      ]
     },
     "execution_count": 1,
     "metadata": {},
     "output_type": "execute_result"
    }
   ],
   "source": [
    "%matplotlib inline\n",
    "import pandas as pd\n",
    "\n",
    "df = pd.read_csv('shopping.csv')\n",
    "df.head() "
   ]
  },
  {
   "cell_type": "code",
   "execution_count": 2,
   "metadata": {},
   "outputs": [
    {
     "data": {
      "text/html": [
       "<div>\n",
       "<style>\n",
       "    .dataframe thead tr:only-child th {\n",
       "        text-align: right;\n",
       "    }\n",
       "\n",
       "    .dataframe thead th {\n",
       "        text-align: left;\n",
       "    }\n",
       "\n",
       "    .dataframe tbody tr th {\n",
       "        vertical-align: top;\n",
       "    }\n",
       "</style>\n",
       "<table border=\"1\" class=\"dataframe\">\n",
       "  <thead>\n",
       "    <tr style=\"text-align: right;\">\n",
       "      <th>average</th>\n",
       "      <th>&lt;50</th>\n",
       "      <th>&gt;200</th>\n",
       "      <th>[100 149]</th>\n",
       "      <th>[150 199]</th>\n",
       "      <th>[50 99]</th>\n",
       "    </tr>\n",
       "    <tr>\n",
       "      <th>purpose</th>\n",
       "      <th></th>\n",
       "      <th></th>\n",
       "      <th></th>\n",
       "      <th></th>\n",
       "      <th></th>\n",
       "    </tr>\n",
       "  </thead>\n",
       "  <tbody>\n",
       "    <tr>\n",
       "      <th>business</th>\n",
       "      <td>1</td>\n",
       "      <td>4</td>\n",
       "      <td>9</td>\n",
       "      <td>4</td>\n",
       "      <td>4</td>\n",
       "    </tr>\n",
       "    <tr>\n",
       "      <th>daily use</th>\n",
       "      <td>1</td>\n",
       "      <td>2</td>\n",
       "      <td>10</td>\n",
       "      <td>3</td>\n",
       "      <td>9</td>\n",
       "    </tr>\n",
       "    <tr>\n",
       "      <th>enjoyment</th>\n",
       "      <td>0</td>\n",
       "      <td>6</td>\n",
       "      <td>15</td>\n",
       "      <td>7</td>\n",
       "      <td>48</td>\n",
       "    </tr>\n",
       "    <tr>\n",
       "      <th>no reason</th>\n",
       "      <td>3</td>\n",
       "      <td>1</td>\n",
       "      <td>1</td>\n",
       "      <td>0</td>\n",
       "      <td>5</td>\n",
       "    </tr>\n",
       "    <tr>\n",
       "      <th>opposite sex</th>\n",
       "      <td>8</td>\n",
       "      <td>6</td>\n",
       "      <td>15</td>\n",
       "      <td>12</td>\n",
       "      <td>48</td>\n",
       "    </tr>\n",
       "  </tbody>\n",
       "</table>\n",
       "</div>"
      ],
      "text/plain": [
       "average       <50  >200  [100 149]  [150 199]  [50 99]\n",
       "purpose                                               \n",
       "business        1     4          9          4        4\n",
       "daily use       1     2         10          3        9\n",
       "enjoyment       0     6         15          7       48\n",
       "no reason       3     1          1          0        5\n",
       "opposite sex    8     6         15         12       48"
      ]
     },
     "execution_count": 2,
     "metadata": {},
     "output_type": "execute_result"
    }
   ],
   "source": [
    "purpose_dict = {1:'enjoyment', 2:'opposite sex', 3:'daily use', \n",
    "                4:'business', 5:'no reason'}\n",
    "average_dict = {1:'<50', 2:'[50 99]', 3:'[100 149]', 4:'[150 199]', \n",
    "                5:'>200'}\n",
    "df.purpose.replace(purpose_dict, inplace=True)\n",
    "df.average.replace(average_dict, inplace=True)\n",
    "\n",
    "cross_table = pd.crosstab(df.purpose, df.average)\n",
    "cross_table"
   ]
  },
  {
   "cell_type": "code",
   "execution_count": 4,
   "metadata": {
    "collapsed": true
   },
   "outputs": [],
   "source": [
    "import numpy as np\n",
    "from numpy.linalg import svd\n",
    "\n",
    "class CA(object):\n",
    "    \"\"\"Simple corresondence analysis.\n",
    "    \n",
    "    Inputs\n",
    "    ------\n",
    "    ct : array_like, shape (n_samples, n_features)\n",
    "      Two-way contingency table, training set, where `n_samples`\n",
    "      is the number of samples and `n_features` is the number of features.\n",
    "          \n",
    "    Attributes\n",
    "    ------\n",
    "    F_ : array, shape (n_features, K)\n",
    "      principal coordinates of columns. Where `K` = min(`n_features`, `n_samples`).\n",
    "      \n",
    "    G_ : array, shape (n_samples, K)\n",
    "      principal coordinates of rows. Where `K` = min(`n_features`, `n_samples`).\n",
    "    \n",
    "    explained_variance_ratio_ : array, shape(K, )\n",
    "      Percentage of variance explained by each of the selected components.\n",
    "    \n",
    "    Notes\n",
    "    -----\n",
    "    The implementation follows that presented in 'Correspondence\n",
    "    Analysis in R, with Two- and Three-dimensional Graphics: The ca\n",
    "    Package,' Journal of Statistical Software, May 2007, Volume 20,\n",
    "    Issue 3.\n",
    "    \"\"\"\n",
    "    \n",
    "    def __init__(self, cross_table):\n",
    "        N = np.matrix(cross_table, dtype=float)\n",
    "\n",
    "        # correspondence matrix from contingency table\n",
    "        P = N / N.sum()\n",
    "\n",
    "        # row and column marginal totals of P as vectors\n",
    "        r = P.sum(axis=1)\n",
    "        c = P.sum(axis=0).T\n",
    "\n",
    "        # diagonal matrices of row/column sums\n",
    "        D_r_rsq = np.diag(1. / np.sqrt(r.A1))\n",
    "        D_c_rsq = np.diag(1. / np.sqrt(c.A1))\n",
    "\n",
    "        # the matrix of standarized residuals\n",
    "        Z = D_r_rsq * (P - r * c.T) * D_c_rsq\n",
    "\n",
    "        # compute the SVD\n",
    "        U, D_a, V = svd(Z, full_matrices=False)\n",
    "        D_a = np.asmatrix(np.diag(D_a))\n",
    "        V = V.T\n",
    "\n",
    "        # principal coordinates of columns\n",
    "        F = D_c_rsq * V * D_a\n",
    "\n",
    "        # principal coordinates of rows\n",
    "        G = D_r_rsq * U * D_a\n",
    "\n",
    "        # standard coordinates of rows\n",
    "        X = D_r_rsq * U\n",
    "\n",
    "        # standard coordinates of columns\n",
    "        Y = D_c_rsq * V\n",
    "\n",
    "        eigenvals = np.diagonal(D_a) ** 2\n",
    "        explained_variance_ratio = eigenvals.cumsum() / eigenvals.sum()\n",
    "\n",
    "        # the total variance of the data matrix \n",
    "        inertia = sum([(P[i,j] - r[i,0] * c[j,0])**2 / (r[i,0] * c[j,0])\n",
    "                       for i in range(N.shape[0])\n",
    "                       for j in range(N.shape[1])])  # equals np.power(S, 2).sum() or eigenvalus.sum() or np.trace(S.T * S)\n",
    "\n",
    "        self.F_ = F.A\n",
    "        self.G_ = G.A\n",
    "        self.inertia_ = inertia\n",
    "        self.eigenvals_ = eigenvals\n",
    "        self.explained_variance_ratio_ = explained_variance_ratio"
   ]
  },
  {
   "cell_type": "code",
   "execution_count": 5,
   "metadata": {},
   "outputs": [
    {
     "name": "stdout",
     "output_type": "stream",
     "text": [
      "[ 0.51057984  0.92001143  0.96850523  1.          1.        ]\n"
     ]
    }
   ],
   "source": [
    "ca = CA(cross_table)\n",
    "\n",
    "print(ca.explained_variance_ratio_)"
   ]
  },
  {
   "cell_type": "markdown",
   "metadata": {},
   "source": [
    "R型和Q型分析的特征向量（加权后）"
   ]
  },
  {
   "cell_type": "code",
   "execution_count": 6,
   "metadata": {},
   "outputs": [
    {
     "name": "stdout",
     "output_type": "stream",
     "text": [
      "[[ 0.75903754 -0.81340802]\n",
      " [-0.22718477 -0.2089492 ]\n",
      " [-0.38023687 -0.15354446]\n",
      " [-0.19191092 -0.0661804 ]\n",
      " [ 0.16184693  0.21001976]]\n"
     ]
    }
   ],
   "source": [
    "F = ca.F_ \n",
    "G = ca.G_\n",
    "\n",
    "print(F[:, :2])"
   ]
  },
  {
   "cell_type": "markdown",
   "metadata": {},
   "source": [
    "绘制感知图"
   ]
  },
  {
   "cell_type": "code",
   "execution_count": 7,
   "metadata": {},
   "outputs": [
    {
     "data": {
      "image/png": "[encoded data removed]",
      "text/plain": [
       "<matplotlib.figure.Figure at 0x9d10c88>"
      ]
     },
     "metadata": {},
     "output_type": "display_data"
    }
   ],
   "source": [
    "import matplotlib.pyplot as plt\n",
    "\n",
    "for i, s in enumerate(cross_table.columns):\n",
    "    x, y = F[i, 0], F[i, 1]\n",
    "    plt.plot(x, y, 'bo')\n",
    "    plt.text(x, y, s, va='bottom', ha='left', color='b')\n",
    "    \n",
    "for i, s in enumerate(cross_table.index):\n",
    "    x, y = G[i, 0], G[i, 1]\n",
    "    plt.plot(x, y, 'r^')\n",
    "    plt.text(x, y, s, va='bottom', ha='left', color='r')"
   ]
  },
  {
   "cell_type": "code",
   "execution_count": null,
   "metadata": {
    "collapsed": true
   },
   "outputs": [],
   "source": []
  }
 ],
 "metadata": {
  "anaconda-cloud": {},
  "kernelspec": {
   "display_name": "Python 3",
   "language": "python",
   "name": "python3"
  },
  "language_info": {
   "codemirror_mode": {
    "name": "ipython",
    "version": 3
   },
   "file_extension": ".py",
   "mimetype": "text/x-python",
   "name": "python",
   "nbconvert_exporter": "python",
   "pygments_lexer": "ipython3",
   "version": "3.6.3"
  }
 },
 "nbformat": 4,
 "nbformat_minor": 1
}
