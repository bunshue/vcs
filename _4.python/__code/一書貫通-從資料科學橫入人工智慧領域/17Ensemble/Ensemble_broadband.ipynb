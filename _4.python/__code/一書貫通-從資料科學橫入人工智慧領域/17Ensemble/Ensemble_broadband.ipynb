{
 "cells": [
  {
   "cell_type": "code",
   "execution_count": null,
   "metadata": {},
   "outputs": [],
   "source": [
    "from sklearn import linear_model,metrics\n",
    "from sklearn.cross_validation import train_test_split\n",
    "from sklearn.neural_network import BernoulliRBM#⼆值型的RBM网络\n",
    "import sklearn.cross_validation as cross_validation\n",
    "import sklearn.tree as tree\n",
    "import sklearn.ensemble as ensemble\n",
    "import numpy as np\n",
    "import pandas as pd\n",
    "import matplotlib.pyplot as plt\n",
    "import sklearn.metrics as metrics\n",
    "%matplotlib inline\n",
    "#import seaborn as sns"
   ]
  },
  {
   "cell_type": "code",
   "execution_count": null,
   "metadata": {},
   "outputs": [],
   "source": [
    "model_data = pd.read_csv(\"broadband.csv\")\n",
    "model_data.head()"
   ]
  },
  {
   "cell_type": "code",
   "execution_count": null,
   "metadata": {},
   "outputs": [],
   "source": [
    "target = model_data[\"BROADBAND\"]\n",
    "orgData1 = model_data.ix[ :,1:-2]"
   ]
  },
  {
   "cell_type": "code",
   "execution_count": null,
   "metadata": {},
   "outputs": [],
   "source": [
    "import sklearn.cross_validation as cross_validation\n",
    "train_data, test_data, train_target, test_target = cross_validation.train_test_split(\n",
    "    orgData1, target, test_size=0.4, train_size=0.6, random_state=12345)  #划分训练集和测试集"
   ]
  },
  {
   "cell_type": "code",
   "execution_count": null,
   "metadata": {},
   "outputs": [],
   "source": [
    "clf = tree.DecisionTreeClassifier(criterion='entropy', max_depth=3, min_samples_split=5)\n",
    "clf.fit(train_data, train_target)\n",
    "test_est = clf.predict(test_data)\n",
    "print(\"decision tree accuracy:\")\n",
    "print(metrics.classification_report(test_target,test_est))"
   ]
  },
  {
   "cell_type": "code",
   "execution_count": null,
   "metadata": {},
   "outputs": [],
   "source": [
    "gbc = ensemble.GradientBoostingClassifier()\n",
    "gbc.fit(train_data, train_target)\n",
    "test_est = gbc.predict(test_data)\n",
    "print(\"gradient boosting accuracy:\")\n",
    "print(metrics.classification_report(test_target,test_est))"
   ]
  },
  {
   "cell_type": "code",
   "execution_count": null,
   "metadata": {},
   "outputs": [],
   "source": [
    "abc = ensemble.AdaBoostClassifier(n_estimators=100)\n",
    "abc.fit(train_data, train_target)\n",
    "test_est = abc.predict(test_data)\n",
    "print(\"abc classifier accuracy:\")\n",
    "print(metrics.classification_report(test_target,test_est))"
   ]
  },
  {
   "cell_type": "code",
   "execution_count": null,
   "metadata": {},
   "outputs": [],
   "source": [
    "rfc = ensemble.RandomForestClassifier(criterion='entropy', n_estimators=3, max_features=0.5, min_samples_split=5)\n",
    "rfc.fit(train_data, train_target)\n",
    "test_est = rfc.predict(test_data)\n",
    "print(\"random forest accuracy:\")\n",
    "print(metrics.classification_report(test_target,test_est))"
   ]
  },
  {
   "cell_type": "code",
   "execution_count": null,
   "metadata": {
    "collapsed": true
   },
   "outputs": [],
   "source": []
  }
 ],
 "metadata": {
  "kernelspec": {
   "display_name": "Python 3",
   "language": "python",
   "name": "python3"
  },
  "language_info": {
   "codemirror_mode": {
    "name": "ipython",
    "version": 3
   },
   "file_extension": ".py",
   "mimetype": "text/x-python",
   "name": "python",
   "nbconvert_exporter": "python",
   "pygments_lexer": "ipython3",
   "version": "3.6.1"
  }
 },
 "nbformat": 4,
 "nbformat_minor": 1
}
