{
 "cells": [
  {
   "cell_type": "markdown",
   "metadata": {},
   "source": [
    "# 构建数据集"
   ]
  },
  {
   "cell_type": "code",
   "execution_count": null,
   "metadata": {},
   "outputs": [],
   "source": [
    "from sklearn import linear_model, metrics\n",
    "from sklearn.cross_validation import train_test_split\n",
    "import pandas as pd\n",
    "import seaborn as sns\n",
    "%matplotlib inline\n",
    "import matplotlib.pyplot as plt\n",
    "import numpy as np"
   ]
  },
  {
   "cell_type": "code",
   "execution_count": null,
   "metadata": {},
   "outputs": [],
   "source": [
    "model_data = pd.read_csv(\"date_data.csv\")\n",
    "model_data.head()\n",
    "Y = model_data[\"Dated\"]\n",
    "X = model_data.ix[ :,'income':'assets']\n",
    "train_data, test_data, train_target, test_target = train_test_split(X, Y, test_size=0.2,random_state=0)"
   ]
  },
  {
   "cell_type": "markdown",
   "metadata": {},
   "source": [
    "# 建模"
   ]
  },
  {
   "cell_type": "code",
   "execution_count": null,
   "metadata": {},
   "outputs": [],
   "source": [
    "logistic_model = linear_model.LogisticRegression()\n",
    "logistic_model.fit(train_data, train_target)"
   ]
  },
  {
   "cell_type": "code",
   "execution_count": null,
   "metadata": {
    "collapsed": true
   },
   "outputs": [],
   "source": [
    "test_est = logistic_model.predict(test_data)\n",
    "train_est = logistic_model.predict(train_data)\n",
    "test_est_p = logistic_model.predict_proba(test_data)[:,1]\n",
    "train_est_p = logistic_model.predict_proba(train_data)[:,1]"
   ]
  },
  {
   "cell_type": "markdown",
   "metadata": {},
   "source": [
    "# 决策（Decisions）类检验"
   ]
  },
  {
   "cell_type": "code",
   "execution_count": null,
   "metadata": {},
   "outputs": [],
   "source": [
    "print(metrics.classification_report(test_target, test_est))"
   ]
  },
  {
   "cell_type": "code",
   "execution_count": null,
   "metadata": {},
   "outputs": [],
   "source": [
    "metrics.accuracy_score(test_target, test_est)"
   ]
  },
  {
   "cell_type": "markdown",
   "metadata": {},
   "source": [
    "# 排序（Rankings）类检验"
   ]
  },
  {
   "cell_type": "markdown",
   "metadata": {},
   "source": [
    "### ROC曲线"
   ]
  },
  {
   "cell_type": "code",
   "execution_count": null,
   "metadata": {},
   "outputs": [],
   "source": [
    "fpr_test, tpr_test, th_test = metrics.roc_curve(test_target, test_est_p)\n",
    "fpr_train, tpr_train, th_train = metrics.roc_curve(train_target, train_est_p)\n",
    "plt.figure(figsize=[6,6])\n",
    "plt.plot(fpr_test, tpr_test,color='red')\n",
    "plt.plot(fpr_train, tpr_train,color='black')\n",
    "plt.title('ROC curve')"
   ]
  },
  {
   "cell_type": "code",
   "execution_count": null,
   "metadata": {},
   "outputs": [],
   "source": [
    "test_AUC=metrics.roc_auc_score(test_target, test_est_p)\n",
    "train_AUC=metrics.roc_auc_score(train_target, train_est_p)\n",
    "print (\"test_AUC:\",test_AUC, \"train_AUC:\",train_AUC)"
   ]
  },
  {
   "cell_type": "markdown",
   "metadata": {},
   "source": [
    "### KS曲线"
   ]
  },
  {
   "cell_type": "code",
   "execution_count": null,
   "metadata": {},
   "outputs": [],
   "source": [
    "test_x_axis = np.arange(len(fpr_test))/float(len(fpr_test))\n",
    "train_x_axis = np.arange(len(fpr_train))/float(len(fpr_train))\n",
    "plt.figure(figsize=[6,6])\n",
    "plt.plot(fpr_test, test_x_axis, color='blue')\n",
    "plt.plot(tpr_test, test_x_axis, color='red')\n",
    "#plt.plot(fpr_train, train_x_axis, color=red)\n",
    "#plt.plot(tpr_train, train_x_axis, color=red)\n",
    "plt.title('KS curve')"
   ]
  },
  {
   "cell_type": "code",
   "execution_count": null,
   "metadata": {},
   "outputs": [],
   "source": [
    "from scipy.stats import ks_2samp\n",
    "ks_2samp(fpr_test,tpr_test)"
   ]
  },
  {
   "cell_type": "code",
   "execution_count": null,
   "metadata": {
    "collapsed": true
   },
   "outputs": [],
   "source": []
  }
 ],
 "metadata": {
  "kernelspec": {
   "display_name": "Python 3",
   "language": "python",
   "name": "python3"
  },
  "language_info": {
   "codemirror_mode": {
    "name": "ipython",
    "version": 3
   },
   "file_extension": ".py",
   "mimetype": "text/x-python",
   "name": "python",
   "nbconvert_exporter": "python",
   "pygments_lexer": "ipython3",
   "version": "3.6.1"
  }
 },
 "nbformat": 4,
 "nbformat_minor": 1
}
