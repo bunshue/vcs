{
 "cells": [
  {
   "cell_type": "markdown",
   "metadata": {},
   "source": [
    "导入数据："
   ]
  },
  {
   "cell_type": "code",
   "execution_count": 1,
   "metadata": {},
   "outputs": [
    {
     "data": {
      "text/html": [
       "<div>\n",
       "<style scoped>\n",
       "    .dataframe tbody tr th:only-of-type {\n",
       "        vertical-align: middle;\n",
       "    }\n",
       "\n",
       "    .dataframe tbody tr th {\n",
       "        vertical-align: top;\n",
       "    }\n",
       "\n",
       "    .dataframe thead th {\n",
       "        text-align: right;\n",
       "    }\n",
       "</style>\n",
       "<table border=\"1\" class=\"dataframe\">\n",
       "  <thead>\n",
       "    <tr style=\"text-align: right;\">\n",
       "      <th></th>\n",
       "      <th>TARGET_D</th>\n",
       "      <th>GiftCnt36</th>\n",
       "      <th>GiftCntAll</th>\n",
       "      <th>GiftCntCard36</th>\n",
       "      <th>GiftCntCardAll</th>\n",
       "      <th>GiftAvgLast</th>\n",
       "      <th>GiftAvg36</th>\n",
       "      <th>GiftAvgAll</th>\n",
       "      <th>GiftAvgCard36</th>\n",
       "      <th>GiftTimeLast</th>\n",
       "      <th>...</th>\n",
       "      <th>PromCntCardAll</th>\n",
       "      <th>StatusCat96NK</th>\n",
       "      <th>StatusCatStarAll</th>\n",
       "      <th>DemCluster</th>\n",
       "      <th>DemAge</th>\n",
       "      <th>DemGender</th>\n",
       "      <th>DemHomeOwner</th>\n",
       "      <th>DemMedHomeValue</th>\n",
       "      <th>DemPctVeterans</th>\n",
       "      <th>DemMedIncome</th>\n",
       "    </tr>\n",
       "  </thead>\n",
       "  <tbody>\n",
       "    <tr>\n",
       "      <th>0</th>\n",
       "      <td>NaN</td>\n",
       "      <td>2</td>\n",
       "      <td>4</td>\n",
       "      <td>1</td>\n",
       "      <td>3</td>\n",
       "      <td>17.0</td>\n",
       "      <td>13.50</td>\n",
       "      <td>9.25</td>\n",
       "      <td>17.00</td>\n",
       "      <td>21</td>\n",
       "      <td>...</td>\n",
       "      <td>13</td>\n",
       "      <td>A</td>\n",
       "      <td>0</td>\n",
       "      <td>0</td>\n",
       "      <td>NaN</td>\n",
       "      <td>F</td>\n",
       "      <td>U</td>\n",
       "      <td>0</td>\n",
       "      <td>0</td>\n",
       "      <td>0</td>\n",
       "    </tr>\n",
       "    <tr>\n",
       "      <th>1</th>\n",
       "      <td>NaN</td>\n",
       "      <td>1</td>\n",
       "      <td>8</td>\n",
       "      <td>0</td>\n",
       "      <td>3</td>\n",
       "      <td>20.0</td>\n",
       "      <td>20.00</td>\n",
       "      <td>15.88</td>\n",
       "      <td>NaN</td>\n",
       "      <td>26</td>\n",
       "      <td>...</td>\n",
       "      <td>24</td>\n",
       "      <td>A</td>\n",
       "      <td>0</td>\n",
       "      <td>23</td>\n",
       "      <td>67.0</td>\n",
       "      <td>F</td>\n",
       "      <td>U</td>\n",
       "      <td>186800</td>\n",
       "      <td>85</td>\n",
       "      <td>0</td>\n",
       "    </tr>\n",
       "    <tr>\n",
       "      <th>2</th>\n",
       "      <td>4.0</td>\n",
       "      <td>6</td>\n",
       "      <td>41</td>\n",
       "      <td>3</td>\n",
       "      <td>20</td>\n",
       "      <td>6.0</td>\n",
       "      <td>5.17</td>\n",
       "      <td>3.73</td>\n",
       "      <td>5.00</td>\n",
       "      <td>18</td>\n",
       "      <td>...</td>\n",
       "      <td>22</td>\n",
       "      <td>S</td>\n",
       "      <td>1</td>\n",
       "      <td>0</td>\n",
       "      <td>NaN</td>\n",
       "      <td>M</td>\n",
       "      <td>U</td>\n",
       "      <td>87600</td>\n",
       "      <td>36</td>\n",
       "      <td>38750</td>\n",
       "    </tr>\n",
       "    <tr>\n",
       "      <th>3</th>\n",
       "      <td>10.0</td>\n",
       "      <td>3</td>\n",
       "      <td>12</td>\n",
       "      <td>3</td>\n",
       "      <td>8</td>\n",
       "      <td>10.0</td>\n",
       "      <td>8.67</td>\n",
       "      <td>8.50</td>\n",
       "      <td>8.67</td>\n",
       "      <td>9</td>\n",
       "      <td>...</td>\n",
       "      <td>16</td>\n",
       "      <td>E</td>\n",
       "      <td>1</td>\n",
       "      <td>0</td>\n",
       "      <td>NaN</td>\n",
       "      <td>M</td>\n",
       "      <td>U</td>\n",
       "      <td>139200</td>\n",
       "      <td>27</td>\n",
       "      <td>38942</td>\n",
       "    </tr>\n",
       "    <tr>\n",
       "      <th>4</th>\n",
       "      <td>NaN</td>\n",
       "      <td>1</td>\n",
       "      <td>1</td>\n",
       "      <td>1</td>\n",
       "      <td>1</td>\n",
       "      <td>20.0</td>\n",
       "      <td>20.00</td>\n",
       "      <td>20.00</td>\n",
       "      <td>20.00</td>\n",
       "      <td>21</td>\n",
       "      <td>...</td>\n",
       "      <td>6</td>\n",
       "      <td>F</td>\n",
       "      <td>0</td>\n",
       "      <td>35</td>\n",
       "      <td>53.0</td>\n",
       "      <td>M</td>\n",
       "      <td>U</td>\n",
       "      <td>168100</td>\n",
       "      <td>37</td>\n",
       "      <td>71509</td>\n",
       "    </tr>\n",
       "  </tbody>\n",
       "</table>\n",
       "<p>5 rows × 26 columns</p>\n",
       "</div>"
      ],
      "text/plain": [
       "   TARGET_D  GiftCnt36  GiftCntAll  GiftCntCard36  GiftCntCardAll  \\\n",
       "0       NaN          2           4              1               3   \n",
       "1       NaN          1           8              0               3   \n",
       "2       4.0          6          41              3              20   \n",
       "3      10.0          3          12              3               8   \n",
       "4       NaN          1           1              1               1   \n",
       "\n",
       "   GiftAvgLast  GiftAvg36  GiftAvgAll  GiftAvgCard36  GiftTimeLast  \\\n",
       "0         17.0      13.50        9.25          17.00            21   \n",
       "1         20.0      20.00       15.88            NaN            26   \n",
       "2          6.0       5.17        3.73           5.00            18   \n",
       "3         10.0       8.67        8.50           8.67             9   \n",
       "4         20.0      20.00       20.00          20.00            21   \n",
       "\n",
       "       ...       PromCntCardAll  StatusCat96NK  StatusCatStarAll  DemCluster  \\\n",
       "0      ...                   13              A                 0           0   \n",
       "1      ...                   24              A                 0          23   \n",
       "2      ...                   22              S                 1           0   \n",
       "3      ...                   16              E                 1           0   \n",
       "4      ...                    6              F                 0          35   \n",
       "\n",
       "   DemAge  DemGender  DemHomeOwner DemMedHomeValue  DemPctVeterans  \\\n",
       "0     NaN          F             U               0               0   \n",
       "1    67.0          F             U          186800              85   \n",
       "2     NaN          M             U           87600              36   \n",
       "3     NaN          M             U          139200              27   \n",
       "4    53.0          M             U          168100              37   \n",
       "\n",
       "   DemMedIncome  \n",
       "0             0  \n",
       "1             0  \n",
       "2         38750  \n",
       "3         38942  \n",
       "4         71509  \n",
       "\n",
       "[5 rows x 26 columns]"
      ]
     },
     "execution_count": 1,
     "metadata": {},
     "output_type": "execute_result"
    }
   ],
   "source": [
    "%matplotlib inline\n",
    "import pandas as pd\n",
    "import numpy as np\n",
    "import matplotlib.pyplot as plt\n",
    "model_data = pd.read_csv(\"donations2.csv\").drop([\"ID\",\"TARGET_B\"],1)\n",
    "model_data.head()"
   ]
  },
  {
   "cell_type": "code",
   "execution_count": 2,
   "metadata": {
    "collapsed": true
   },
   "outputs": [],
   "source": [
    "model_data.dtypes\n",
    "y = [\"TARGET_D\"]\n",
    "var_c = [\"GiftCnt36\",\"GiftCntAll\",\"GiftCntCard36\",\"GiftCntCardAll\",\"GiftTimeLast\",\n",
    "         \"GiftTimeFirst\",\"PromCnt12\",\"PromCnt36\",\"PromCntAll\",\"PromCntCard12\",\n",
    "         \"PromCntCard36\",\"PromCntCardAll\",\"StatusCatStarAll\",\"DemAge\",\n",
    "         \"DemMedHomeValue\",\"DemPctVeterans\",\"DemMedIncome\",\"GiftAvgLast\",\n",
    "         \"GiftAvg36\",\"GiftAvgAll\",\"GiftAvgCard36\"]\n",
    "var_d = ['DemGender', 'StatusCat96NK', 'DemCluster', 'DemHomeOwner']\n",
    "X = model_data[var_c + var_d]\n",
    "Y = model_data[y]"
   ]
  },
  {
   "cell_type": "markdown",
   "metadata": {},
   "source": [
    "连续型变量重要性筛选："
   ]
  },
  {
   "cell_type": "code",
   "execution_count": 3,
   "metadata": {},
   "outputs": [
    {
     "data": {
      "text/html": [
       "<div>\n",
       "<style scoped>\n",
       "    .dataframe tbody tr th:only-of-type {\n",
       "        vertical-align: middle;\n",
       "    }\n",
       "\n",
       "    .dataframe tbody tr th {\n",
       "        vertical-align: top;\n",
       "    }\n",
       "\n",
       "    .dataframe thead th {\n",
       "        text-align: right;\n",
       "    }\n",
       "</style>\n",
       "<table border=\"1\" class=\"dataframe\">\n",
       "  <thead>\n",
       "    <tr style=\"text-align: right;\">\n",
       "      <th></th>\n",
       "      <th>spearman</th>\n",
       "      <th>pearson</th>\n",
       "    </tr>\n",
       "  </thead>\n",
       "  <tbody>\n",
       "    <tr>\n",
       "      <th>PromCnt12</th>\n",
       "      <td>0.009414</td>\n",
       "      <td>0.064494</td>\n",
       "    </tr>\n",
       "    <tr>\n",
       "      <th>PromCnt36</th>\n",
       "      <td>0.031979</td>\n",
       "      <td>0.007337</td>\n",
       "    </tr>\n",
       "    <tr>\n",
       "      <th>PromCntCard12</th>\n",
       "      <td>0.011849</td>\n",
       "      <td>0.006996</td>\n",
       "    </tr>\n",
       "    <tr>\n",
       "      <th>DemAge</th>\n",
       "      <td>0.098663</td>\n",
       "      <td>0.056139</td>\n",
       "    </tr>\n",
       "    <tr>\n",
       "      <th>DemPctVeterans</th>\n",
       "      <td>0.023376</td>\n",
       "      <td>0.021628</td>\n",
       "    </tr>\n",
       "    <tr>\n",
       "      <th>DemMedIncome</th>\n",
       "      <td>0.059946</td>\n",
       "      <td>0.029132</td>\n",
       "    </tr>\n",
       "  </tbody>\n",
       "</table>\n",
       "</div>"
      ],
      "text/plain": [
       "                spearman   pearson\n",
       "PromCnt12       0.009414  0.064494\n",
       "PromCnt36       0.031979  0.007337\n",
       "PromCntCard12   0.011849  0.006996\n",
       "DemAge          0.098663  0.056139\n",
       "DemPctVeterans  0.023376  0.021628\n",
       "DemMedIncome    0.059946  0.029132"
      ]
     },
     "execution_count": 3,
     "metadata": {},
     "output_type": "execute_result"
    }
   ],
   "source": [
    "corr_s = abs(model_data[y + var_c].corr(method = 'spearman'))\n",
    "corr_s = pd.DataFrame(corr_s.iloc[0,:])\n",
    "corr_p = abs(model_data[y + var_c].corr(method = 'pearson'))\n",
    "corr_p = pd.DataFrame(corr_p.iloc[0,:])\n",
    "corr_sp = pd.concat([corr_s,corr_p], axis = 1)\n",
    "corr_sp.columns = ['spearman','pearson']\n",
    "corr_sp[(corr_sp['spearman'] <= 0.1) & (corr_sp['pearson'] <= 0.1)]"
   ]
  },
  {
   "cell_type": "code",
   "execution_count": 4,
   "metadata": {
    "collapsed": true
   },
   "outputs": [],
   "source": [
    "var_c_s = set(var_c) - set(['PromCnt12','PromCnt36',\n",
    "                            'PromCntCard12','DemAge',\n",
    "                            'DemPctVeterans','DemMedIncome'])\n",
    "var_c_s = list(var_c_s)"
   ]
  },
  {
   "cell_type": "markdown",
   "metadata": {},
   "source": [
    "离散型变量筛选："
   ]
  },
  {
   "cell_type": "code",
   "execution_count": 5,
   "metadata": {},
   "outputs": [
    {
     "name": "stdout",
     "output_type": "stream",
     "text": [
      "               df         sum_sq     mean_sq         F    PR(>F)\n",
      "DemGender     2.0    1552.299527  776.149763  5.019571  0.006642\n",
      "Residual   4840.0  748383.622667  154.624715       NaN       NaN\n",
      "                   df         sum_sq      mean_sq          F        PR(>F)\n",
      "StatusCat96NK     5.0   46323.378267  9264.675653  63.690218  1.487957e-64\n",
      "Residual       4837.0  703612.543927   145.464657        NaN           NaN\n",
      "                df         sum_sq      mean_sq          F        PR(>F)\n",
      "DemCluster     1.0    7051.073357  7051.073357  45.948233  1.359482e-11\n",
      "Residual    4841.0  742884.848837   153.456899        NaN           NaN\n",
      "                  df         sum_sq     mean_sq        F    PR(>F)\n",
      "DemHomeOwner     1.0      45.080271   45.080271  0.29102  0.589592\n",
      "Residual      4841.0  749890.841922  154.904119      NaN       NaN\n"
     ]
    },
    {
     "name": "stderr",
     "output_type": "stream",
     "text": [
      "C:\\Users\\Ben\\Anaconda3\\lib\\site-packages\\scipy\\stats\\_distn_infrastructure.py:879: RuntimeWarning: invalid value encountered in greater\n",
      "  return (self.a < x) & (x < self.b)\n",
      "C:\\Users\\Ben\\Anaconda3\\lib\\site-packages\\scipy\\stats\\_distn_infrastructure.py:879: RuntimeWarning: invalid value encountered in less\n",
      "  return (self.a < x) & (x < self.b)\n",
      "C:\\Users\\Ben\\Anaconda3\\lib\\site-packages\\scipy\\stats\\_distn_infrastructure.py:1818: RuntimeWarning: invalid value encountered in less_equal\n",
      "  cond2 = cond0 & (x <= self.a)\n"
     ]
    }
   ],
   "source": [
    "import statsmodels.stats.anova as anova\n",
    "from statsmodels.formula.api import ols\n",
    "for i in var_d:\n",
    "    formula = \"TARGET_D ~ \" + str(i)\n",
    "    print(anova.anova_lm(ols(formula,data = model_data[var_d+['TARGET_D']]).fit()))"
   ]
  },
  {
   "cell_type": "code",
   "execution_count": 6,
   "metadata": {},
   "outputs": [
    {
     "data": {
      "text/plain": [
       "['DemGender', 'StatusCat96NK', 'DemCluster']"
      ]
     },
     "execution_count": 6,
     "metadata": {},
     "output_type": "execute_result"
    }
   ],
   "source": [
    "var_d_s = list(set(var_d) - set([\"DemHomeOwner\"]))\n",
    "var_d_s"
   ]
  },
  {
   "cell_type": "markdown",
   "metadata": {},
   "source": [
    "变量探索与变量变换（E）："
   ]
  },
  {
   "cell_type": "code",
   "execution_count": 7,
   "metadata": {},
   "outputs": [
    {
     "data": {
      "text/html": [
       "<div>\n",
       "<style scoped>\n",
       "    .dataframe tbody tr th:only-of-type {\n",
       "        vertical-align: middle;\n",
       "    }\n",
       "\n",
       "    .dataframe tbody tr th {\n",
       "        vertical-align: top;\n",
       "    }\n",
       "\n",
       "    .dataframe thead th {\n",
       "        text-align: right;\n",
       "    }\n",
       "</style>\n",
       "<table border=\"1\" class=\"dataframe\">\n",
       "  <thead>\n",
       "    <tr style=\"text-align: right;\">\n",
       "      <th></th>\n",
       "      <th>GiftCntAll</th>\n",
       "      <th>PromCntCard36</th>\n",
       "      <th>GiftAvgAll</th>\n",
       "      <th>GiftAvgLast</th>\n",
       "      <th>StatusCatStarAll</th>\n",
       "      <th>GiftAvg36</th>\n",
       "      <th>GiftCnt36</th>\n",
       "      <th>GiftTimeLast</th>\n",
       "      <th>GiftAvgCard36</th>\n",
       "      <th>PromCntCardAll</th>\n",
       "      <th>DemMedHomeValue</th>\n",
       "      <th>PromCntAll</th>\n",
       "      <th>GiftCntCard36</th>\n",
       "      <th>GiftTimeFirst</th>\n",
       "      <th>GiftCntCardAll</th>\n",
       "      <th>DemGender</th>\n",
       "      <th>StatusCat96NK</th>\n",
       "      <th>DemCluster</th>\n",
       "    </tr>\n",
       "  </thead>\n",
       "  <tbody>\n",
       "    <tr>\n",
       "      <th>0</th>\n",
       "      <td>4</td>\n",
       "      <td>8</td>\n",
       "      <td>9.25</td>\n",
       "      <td>17.0</td>\n",
       "      <td>0</td>\n",
       "      <td>13.50</td>\n",
       "      <td>2</td>\n",
       "      <td>21</td>\n",
       "      <td>17.00</td>\n",
       "      <td>13</td>\n",
       "      <td>0</td>\n",
       "      <td>26</td>\n",
       "      <td>1</td>\n",
       "      <td>66</td>\n",
       "      <td>3</td>\n",
       "      <td>F</td>\n",
       "      <td>A</td>\n",
       "      <td>0</td>\n",
       "    </tr>\n",
       "    <tr>\n",
       "      <th>1</th>\n",
       "      <td>8</td>\n",
       "      <td>5</td>\n",
       "      <td>15.88</td>\n",
       "      <td>20.0</td>\n",
       "      <td>0</td>\n",
       "      <td>20.00</td>\n",
       "      <td>1</td>\n",
       "      <td>26</td>\n",
       "      <td>NaN</td>\n",
       "      <td>24</td>\n",
       "      <td>186800</td>\n",
       "      <td>79</td>\n",
       "      <td>0</td>\n",
       "      <td>92</td>\n",
       "      <td>3</td>\n",
       "      <td>F</td>\n",
       "      <td>A</td>\n",
       "      <td>23</td>\n",
       "    </tr>\n",
       "    <tr>\n",
       "      <th>2</th>\n",
       "      <td>41</td>\n",
       "      <td>11</td>\n",
       "      <td>3.73</td>\n",
       "      <td>6.0</td>\n",
       "      <td>1</td>\n",
       "      <td>5.17</td>\n",
       "      <td>6</td>\n",
       "      <td>18</td>\n",
       "      <td>5.00</td>\n",
       "      <td>22</td>\n",
       "      <td>87600</td>\n",
       "      <td>51</td>\n",
       "      <td>3</td>\n",
       "      <td>111</td>\n",
       "      <td>20</td>\n",
       "      <td>M</td>\n",
       "      <td>S</td>\n",
       "      <td>0</td>\n",
       "    </tr>\n",
       "    <tr>\n",
       "      <th>3</th>\n",
       "      <td>12</td>\n",
       "      <td>6</td>\n",
       "      <td>8.50</td>\n",
       "      <td>10.0</td>\n",
       "      <td>1</td>\n",
       "      <td>8.67</td>\n",
       "      <td>3</td>\n",
       "      <td>9</td>\n",
       "      <td>8.67</td>\n",
       "      <td>16</td>\n",
       "      <td>139200</td>\n",
       "      <td>44</td>\n",
       "      <td>3</td>\n",
       "      <td>93</td>\n",
       "      <td>8</td>\n",
       "      <td>M</td>\n",
       "      <td>E</td>\n",
       "      <td>0</td>\n",
       "    </tr>\n",
       "    <tr>\n",
       "      <th>4</th>\n",
       "      <td>1</td>\n",
       "      <td>7</td>\n",
       "      <td>20.00</td>\n",
       "      <td>20.0</td>\n",
       "      <td>0</td>\n",
       "      <td>20.00</td>\n",
       "      <td>1</td>\n",
       "      <td>21</td>\n",
       "      <td>20.00</td>\n",
       "      <td>6</td>\n",
       "      <td>168100</td>\n",
       "      <td>13</td>\n",
       "      <td>1</td>\n",
       "      <td>21</td>\n",
       "      <td>1</td>\n",
       "      <td>M</td>\n",
       "      <td>F</td>\n",
       "      <td>35</td>\n",
       "    </tr>\n",
       "  </tbody>\n",
       "</table>\n",
       "</div>"
      ],
      "text/plain": [
       "   GiftCntAll  PromCntCard36  GiftAvgAll  GiftAvgLast  StatusCatStarAll  \\\n",
       "0           4              8        9.25         17.0                 0   \n",
       "1           8              5       15.88         20.0                 0   \n",
       "2          41             11        3.73          6.0                 1   \n",
       "3          12              6        8.50         10.0                 1   \n",
       "4           1              7       20.00         20.0                 0   \n",
       "\n",
       "   GiftAvg36  GiftCnt36  GiftTimeLast  GiftAvgCard36  PromCntCardAll  \\\n",
       "0      13.50          2            21          17.00              13   \n",
       "1      20.00          1            26            NaN              24   \n",
       "2       5.17          6            18           5.00              22   \n",
       "3       8.67          3             9           8.67              16   \n",
       "4      20.00          1            21          20.00               6   \n",
       "\n",
       "   DemMedHomeValue  PromCntAll  GiftCntCard36  GiftTimeFirst  GiftCntCardAll  \\\n",
       "0                0          26              1             66               3   \n",
       "1           186800          79              0             92               3   \n",
       "2            87600          51              3            111              20   \n",
       "3           139200          44              3             93               8   \n",
       "4           168100          13              1             21               1   \n",
       "\n",
       "  DemGender StatusCat96NK  DemCluster  \n",
       "0         F             A           0  \n",
       "1         F             A          23  \n",
       "2         M             S           0  \n",
       "3         M             E           0  \n",
       "4         M             F          35  "
      ]
     },
     "execution_count": 7,
     "metadata": {},
     "output_type": "execute_result"
    }
   ],
   "source": [
    "X = model_data[var_c_s + var_d_s].copy()\n",
    "Y = model_data[y].copy()\n",
    "model_data[var_c_s+var_d_s].head()"
   ]
  },
  {
   "cell_type": "code",
   "execution_count": 8,
   "metadata": {},
   "outputs": [
    {
     "data": {
      "text/html": [
       "<div>\n",
       "<style scoped>\n",
       "    .dataframe tbody tr th:only-of-type {\n",
       "        vertical-align: middle;\n",
       "    }\n",
       "\n",
       "    .dataframe tbody tr th {\n",
       "        vertical-align: top;\n",
       "    }\n",
       "\n",
       "    .dataframe thead th {\n",
       "        text-align: right;\n",
       "    }\n",
       "</style>\n",
       "<table border=\"1\" class=\"dataframe\">\n",
       "  <thead>\n",
       "    <tr style=\"text-align: right;\">\n",
       "      <th></th>\n",
       "      <th>count</th>\n",
       "      <th>mean</th>\n",
       "      <th>std</th>\n",
       "      <th>min</th>\n",
       "      <th>25%</th>\n",
       "      <th>50%</th>\n",
       "      <th>75%</th>\n",
       "      <th>max</th>\n",
       "    </tr>\n",
       "  </thead>\n",
       "  <tbody>\n",
       "    <tr>\n",
       "      <th>GiftCntAll</th>\n",
       "      <td>9686.0</td>\n",
       "      <td>10.507640</td>\n",
       "      <td>8.993401</td>\n",
       "      <td>1.00</td>\n",
       "      <td>4.00</td>\n",
       "      <td>8.00</td>\n",
       "      <td>15.0</td>\n",
       "      <td>91.0</td>\n",
       "    </tr>\n",
       "    <tr>\n",
       "      <th>PromCntCard36</th>\n",
       "      <td>9686.0</td>\n",
       "      <td>11.954677</td>\n",
       "      <td>4.571568</td>\n",
       "      <td>2.00</td>\n",
       "      <td>7.00</td>\n",
       "      <td>13.00</td>\n",
       "      <td>16.0</td>\n",
       "      <td>28.0</td>\n",
       "    </tr>\n",
       "    <tr>\n",
       "      <th>GiftAvgAll</th>\n",
       "      <td>9686.0</td>\n",
       "      <td>12.489325</td>\n",
       "      <td>9.209297</td>\n",
       "      <td>1.50</td>\n",
       "      <td>7.75</td>\n",
       "      <td>10.71</td>\n",
       "      <td>15.0</td>\n",
       "      <td>450.0</td>\n",
       "    </tr>\n",
       "    <tr>\n",
       "      <th>GiftAvgLast</th>\n",
       "      <td>9686.0</td>\n",
       "      <td>16.017739</td>\n",
       "      <td>12.041805</td>\n",
       "      <td>0.00</td>\n",
       "      <td>10.00</td>\n",
       "      <td>15.00</td>\n",
       "      <td>20.0</td>\n",
       "      <td>450.0</td>\n",
       "    </tr>\n",
       "    <tr>\n",
       "      <th>StatusCatStarAll</th>\n",
       "      <td>9686.0</td>\n",
       "      <td>0.540574</td>\n",
       "      <td>0.498377</td>\n",
       "      <td>0.00</td>\n",
       "      <td>0.00</td>\n",
       "      <td>1.00</td>\n",
       "      <td>1.0</td>\n",
       "      <td>1.0</td>\n",
       "    </tr>\n",
       "    <tr>\n",
       "      <th>GiftAvg36</th>\n",
       "      <td>9686.0</td>\n",
       "      <td>14.876203</td>\n",
       "      <td>10.057007</td>\n",
       "      <td>0.00</td>\n",
       "      <td>9.60</td>\n",
       "      <td>13.50</td>\n",
       "      <td>18.5</td>\n",
       "      <td>260.0</td>\n",
       "    </tr>\n",
       "    <tr>\n",
       "      <th>GiftCnt36</th>\n",
       "      <td>9686.0</td>\n",
       "      <td>3.205451</td>\n",
       "      <td>2.133421</td>\n",
       "      <td>0.00</td>\n",
       "      <td>2.00</td>\n",
       "      <td>3.00</td>\n",
       "      <td>4.0</td>\n",
       "      <td>16.0</td>\n",
       "    </tr>\n",
       "    <tr>\n",
       "      <th>GiftTimeLast</th>\n",
       "      <td>9686.0</td>\n",
       "      <td>18.002168</td>\n",
       "      <td>4.073549</td>\n",
       "      <td>4.00</td>\n",
       "      <td>16.00</td>\n",
       "      <td>18.00</td>\n",
       "      <td>20.0</td>\n",
       "      <td>27.0</td>\n",
       "    </tr>\n",
       "    <tr>\n",
       "      <th>GiftAvgCard36</th>\n",
       "      <td>7906.0</td>\n",
       "      <td>14.224431</td>\n",
       "      <td>10.022710</td>\n",
       "      <td>1.33</td>\n",
       "      <td>8.67</td>\n",
       "      <td>12.50</td>\n",
       "      <td>18.0</td>\n",
       "      <td>260.0</td>\n",
       "    </tr>\n",
       "    <tr>\n",
       "      <th>PromCntCardAll</th>\n",
       "      <td>9686.0</td>\n",
       "      <td>19.007124</td>\n",
       "      <td>8.562193</td>\n",
       "      <td>2.00</td>\n",
       "      <td>12.00</td>\n",
       "      <td>19.00</td>\n",
       "      <td>26.0</td>\n",
       "      <td>56.0</td>\n",
       "    </tr>\n",
       "    <tr>\n",
       "      <th>DemMedHomeValue</th>\n",
       "      <td>9686.0</td>\n",
       "      <td>110986.299814</td>\n",
       "      <td>98670.855450</td>\n",
       "      <td>0.00</td>\n",
       "      <td>52300.00</td>\n",
       "      <td>76900.00</td>\n",
       "      <td>128175.0</td>\n",
       "      <td>600000.0</td>\n",
       "    </tr>\n",
       "    <tr>\n",
       "      <th>PromCntAll</th>\n",
       "      <td>9686.0</td>\n",
       "      <td>48.483481</td>\n",
       "      <td>23.061483</td>\n",
       "      <td>5.00</td>\n",
       "      <td>29.00</td>\n",
       "      <td>48.00</td>\n",
       "      <td>65.0</td>\n",
       "      <td>174.0</td>\n",
       "    </tr>\n",
       "    <tr>\n",
       "      <th>GiftCntCard36</th>\n",
       "      <td>9686.0</td>\n",
       "      <td>1.856597</td>\n",
       "      <td>1.595419</td>\n",
       "      <td>0.00</td>\n",
       "      <td>1.00</td>\n",
       "      <td>1.00</td>\n",
       "      <td>3.0</td>\n",
       "      <td>9.0</td>\n",
       "    </tr>\n",
       "    <tr>\n",
       "      <th>GiftTimeFirst</th>\n",
       "      <td>9686.0</td>\n",
       "      <td>71.100351</td>\n",
       "      <td>37.691984</td>\n",
       "      <td>15.00</td>\n",
       "      <td>36.00</td>\n",
       "      <td>68.00</td>\n",
       "      <td>105.0</td>\n",
       "      <td>260.0</td>\n",
       "    </tr>\n",
       "    <tr>\n",
       "      <th>GiftCntCardAll</th>\n",
       "      <td>9686.0</td>\n",
       "      <td>5.582490</td>\n",
       "      <td>4.736894</td>\n",
       "      <td>0.00</td>\n",
       "      <td>2.00</td>\n",
       "      <td>4.00</td>\n",
       "      <td>8.0</td>\n",
       "      <td>41.0</td>\n",
       "    </tr>\n",
       "  </tbody>\n",
       "</table>\n",
       "</div>"
      ],
      "text/plain": [
       "                   count           mean           std    min       25%  \\\n",
       "GiftCntAll        9686.0      10.507640      8.993401   1.00      4.00   \n",
       "PromCntCard36     9686.0      11.954677      4.571568   2.00      7.00   \n",
       "GiftAvgAll        9686.0      12.489325      9.209297   1.50      7.75   \n",
       "GiftAvgLast       9686.0      16.017739     12.041805   0.00     10.00   \n",
       "StatusCatStarAll  9686.0       0.540574      0.498377   0.00      0.00   \n",
       "GiftAvg36         9686.0      14.876203     10.057007   0.00      9.60   \n",
       "GiftCnt36         9686.0       3.205451      2.133421   0.00      2.00   \n",
       "GiftTimeLast      9686.0      18.002168      4.073549   4.00     16.00   \n",
       "GiftAvgCard36     7906.0      14.224431     10.022710   1.33      8.67   \n",
       "PromCntCardAll    9686.0      19.007124      8.562193   2.00     12.00   \n",
       "DemMedHomeValue   9686.0  110986.299814  98670.855450   0.00  52300.00   \n",
       "PromCntAll        9686.0      48.483481     23.061483   5.00     29.00   \n",
       "GiftCntCard36     9686.0       1.856597      1.595419   0.00      1.00   \n",
       "GiftTimeFirst     9686.0      71.100351     37.691984  15.00     36.00   \n",
       "GiftCntCardAll    9686.0       5.582490      4.736894   0.00      2.00   \n",
       "\n",
       "                       50%       75%       max  \n",
       "GiftCntAll            8.00      15.0      91.0  \n",
       "PromCntCard36        13.00      16.0      28.0  \n",
       "GiftAvgAll           10.71      15.0     450.0  \n",
       "GiftAvgLast          15.00      20.0     450.0  \n",
       "StatusCatStarAll      1.00       1.0       1.0  \n",
       "GiftAvg36            13.50      18.5     260.0  \n",
       "GiftCnt36             3.00       4.0      16.0  \n",
       "GiftTimeLast         18.00      20.0      27.0  \n",
       "GiftAvgCard36        12.50      18.0     260.0  \n",
       "PromCntCardAll       19.00      26.0      56.0  \n",
       "DemMedHomeValue   76900.00  128175.0  600000.0  \n",
       "PromCntAll           48.00      65.0     174.0  \n",
       "GiftCntCard36         1.00       3.0       9.0  \n",
       "GiftTimeFirst        68.00     105.0     260.0  \n",
       "GiftCntCardAll        4.00       8.0      41.0  "
      ]
     },
     "execution_count": 8,
     "metadata": {},
     "output_type": "execute_result"
    }
   ],
   "source": [
    "X[var_c_s].describe().T"
   ]
  },
  {
   "cell_type": "code",
   "execution_count": 9,
   "metadata": {},
   "outputs": [
    {
     "data": {
      "text/plain": [
       "<matplotlib.axes._subplots.AxesSubplot at 0x10cdd7b8>"
      ]
     },
     "execution_count": 9,
     "metadata": {},
     "output_type": "execute_result"
    },
    {
     "data": {
      "image/png": "[encoded data removed]",
      "text/plain": [
       "<Figure size 432x288 with 1 Axes>"
      ]
     },
     "metadata": {},
     "output_type": "display_data"
    }
   ],
   "source": [
    "abs((X[var_c_s].mode().iloc[0,] - X[var_c_s].median()) /\n",
    "    (X[var_c_s].quantile(0.75) - X[var_c_s].quantile(0.25)))\n",
    "X[\"PromCntAll\"].hist()"
   ]
  },
  {
   "cell_type": "code",
   "execution_count": 10,
   "metadata": {},
   "outputs": [
    {
     "data": {
      "text/plain": [
       "<matplotlib.axes._subplots.AxesSubplot at 0x10cdd748>"
      ]
     },
     "execution_count": 10,
     "metadata": {},
     "output_type": "execute_result"
    },
    {
     "data": {
      "image/png": "[encoded data removed]",
      "text/plain": [
       "<Figure size 432x288 with 1 Axes>"
      ]
     },
     "metadata": {},
     "output_type": "display_data"
    }
   ],
   "source": [
    "X[\"DemMedHomeValue\"].hist()"
   ]
  },
  {
   "cell_type": "code",
   "execution_count": 11,
   "metadata": {},
   "outputs": [
    {
     "data": {
      "text/plain": [
       "count      9686.000000\n",
       "mean     110986.299814\n",
       "std       98670.855450\n",
       "min           0.000000\n",
       "25%       52300.000000\n",
       "50%       76900.000000\n",
       "75%      128175.000000\n",
       "max      600000.000000\n",
       "Name: DemMedHomeValue, dtype: float64"
      ]
     },
     "execution_count": 11,
     "metadata": {},
     "output_type": "execute_result"
    }
   ],
   "source": [
    "X[\"DemMedHomeValue\"].describe().T"
   ]
  },
  {
   "cell_type": "code",
   "execution_count": 12,
   "metadata": {},
   "outputs": [
    {
     "data": {
      "text/plain": [
       "F    5223\n",
       "M    3925\n",
       "U     538\n",
       "Name: DemGender, dtype: int64"
      ]
     },
     "execution_count": 12,
     "metadata": {},
     "output_type": "execute_result"
    }
   ],
   "source": [
    "X[\"DemGender\"].value_counts()"
   ]
  },
  {
   "cell_type": "code",
   "execution_count": 13,
   "metadata": {},
   "outputs": [
    {
     "data": {
      "text/plain": [
       "A    5826\n",
       "S    2365\n",
       "F     660\n",
       "N     574\n",
       "E     227\n",
       "L      34\n",
       "Name: StatusCat96NK, dtype: int64"
      ]
     },
     "execution_count": 13,
     "metadata": {},
     "output_type": "execute_result"
    }
   ],
   "source": [
    "X[\"StatusCat96NK\"].value_counts()#有的水平数量太少"
   ]
  },
  {
   "cell_type": "code",
   "execution_count": 14,
   "metadata": {},
   "outputs": [
    {
     "data": {
      "text/plain": [
       "40    432\n",
       "24    401\n",
       "36    401\n",
       "35    384\n",
       "27    331\n",
       "49    323\n",
       "12    323\n",
       "18    321\n",
       "13    309\n",
       "30    262\n",
       "Name: DemCluster, dtype: int64"
      ]
     },
     "execution_count": 14,
     "metadata": {},
     "output_type": "execute_result"
    }
   ],
   "source": [
    "X[\"DemCluster\"].value_counts()[:10]"
   ]
  },
  {
   "cell_type": "code",
   "execution_count": 15,
   "metadata": {
    "collapsed": true
   },
   "outputs": [],
   "source": [
    "X['DemMedHomeValue'].replace(0, np.nan, inplace = True)"
   ]
  },
  {
   "cell_type": "markdown",
   "metadata": {},
   "source": [
    "变量的修改阶段（M）："
   ]
  },
  {
   "cell_type": "markdown",
   "metadata": {},
   "source": [
    "连续变量处理："
   ]
  },
  {
   "cell_type": "code",
   "execution_count": 16,
   "metadata": {},
   "outputs": [
    {
     "data": {
      "text/plain": [
       "GiftCntAll          0.000000\n",
       "PromCntCard36       0.000000\n",
       "GiftAvgAll          0.000000\n",
       "GiftAvgLast         0.000000\n",
       "StatusCatStarAll    0.000000\n",
       "GiftAvg36           0.000000\n",
       "GiftCnt36           0.000000\n",
       "GiftTimeLast        0.000000\n",
       "GiftAvgCard36       0.183770\n",
       "PromCntCardAll      0.000000\n",
       "DemMedHomeValue     0.010634\n",
       "PromCntAll          0.000000\n",
       "GiftCntCard36       0.000000\n",
       "GiftTimeFirst       0.000000\n",
       "GiftCntCardAll      0.000000\n",
       "DemCluster          0.000000\n",
       "Name: count, dtype: float64"
      ]
     },
     "execution_count": 16,
     "metadata": {},
     "output_type": "execute_result"
    }
   ],
   "source": [
    "1 - (X.describe().T[\"count\"]) / len(X)"
   ]
  },
  {
   "cell_type": "code",
   "execution_count": 17,
   "metadata": {},
   "outputs": [
    {
     "data": {
      "text/plain": [
       "GiftAvgAll          14.486489\n",
       "GiftAvgLast          9.918893\n",
       "GiftAvgCard36        6.747117\n",
       "GiftAvg36            5.627792\n",
       "DemMedHomeValue      2.412552\n",
       "GiftCntAll           1.863109\n",
       "GiftCntCardAll       1.331353\n",
       "GiftCnt36            1.288353\n",
       "GiftCntCard36        1.172452\n",
       "GiftTimeLast         0.778047\n",
       "PromCntAll           0.460765\n",
       "PromCntCard36        0.426600\n",
       "GiftTimeFirst        0.195399\n",
       "StatusCatStarAll     0.162858\n",
       "PromCntCardAll       0.142856\n",
       "dtype: float64"
      ]
     },
     "execution_count": 17,
     "metadata": {},
     "output_type": "execute_result"
    }
   ],
   "source": [
    "GiftAvgCard36_fill = X[\"GiftAvgCard36\"].median()\n",
    "DemMedHomeValue_fill = X[\"DemMedHomeValue\"].median()\n",
    "X[\"GiftAvgCard36\"].fillna(GiftAvgCard36_fill,inplace = True)\n",
    "X[\"DemMedHomeValue\"].fillna(DemMedHomeValue_fill,inplace = True)\n",
    "skew_var_x = {}\n",
    "for i in var_c_s:\n",
    "    skew_var_x[i]=abs(X[i].skew())   \n",
    "skew = pd.Series(skew_var_x).sort_values(ascending=False)\n",
    "skew"
   ]
  },
  {
   "cell_type": "code",
   "execution_count": 18,
   "metadata": {},
   "outputs": [
    {
     "data": {
      "text/plain": [
       "Index(['GiftAvgAll', 'GiftAvgLast', 'GiftAvgCard36', 'GiftAvg36',\n",
       "       'DemMedHomeValue', 'GiftCntAll', 'GiftCntCardAll', 'GiftCnt36',\n",
       "       'GiftCntCard36'],\n",
       "      dtype='object')"
      ]
     },
     "execution_count": 18,
     "metadata": {},
     "output_type": "execute_result"
    }
   ],
   "source": [
    "var_x_ln = skew[skew >= 1].index\n",
    "var_x_ln"
   ]
  },
  {
   "cell_type": "code",
   "execution_count": 19,
   "metadata": {
    "collapsed": true
   },
   "outputs": [],
   "source": [
    "for i in var_x_ln:\n",
    "    if min(X[i]) <= 0:\n",
    "        X[i] = np.log(X[i] + abs(min(X[i])) + 0.01)\n",
    "    else:\n",
    "        X[i] = np.log(X[i])"
   ]
  },
  {
   "cell_type": "code",
   "execution_count": 20,
   "metadata": {},
   "outputs": [
    {
     "data": {
      "text/plain": [
       "GiftAvg36           5.036038\n",
       "GiftAvgLast         3.405981\n",
       "GiftCnt36           2.805648\n",
       "GiftCntCardAll      2.373377\n",
       "GiftCntCard36       1.382692\n",
       "GiftTimeLast        0.778047\n",
       "DemMedHomeValue     0.586459\n",
       "PromCntAll          0.460765\n",
       "GiftCntAll          0.457529\n",
       "PromCntCard36       0.426600\n",
       "GiftAvgAll          0.219720\n",
       "GiftTimeFirst       0.195399\n",
       "StatusCatStarAll    0.162858\n",
       "PromCntCardAll      0.142856\n",
       "GiftAvgCard36       0.031261\n",
       "dtype: float64"
      ]
     },
     "execution_count": 20,
     "metadata": {},
     "output_type": "execute_result"
    }
   ],
   "source": [
    "skew_var_x = {}\n",
    "for i in var_c_s:\n",
    "    skew_var_x[i]=abs(X[i].skew())\n",
    "\n",
    "skew = pd.Series(skew_var_x).sort_values(ascending=False)\n",
    "skew"
   ]
  },
  {
   "cell_type": "markdown",
   "metadata": {},
   "source": [
    "分类变量处理："
   ]
  },
  {
   "cell_type": "code",
   "execution_count": 21,
   "metadata": {
    "scrolled": true
   },
   "outputs": [
    {
     "data": {
      "text/html": [
       "<div>\n",
       "<style scoped>\n",
       "    .dataframe tbody tr th:only-of-type {\n",
       "        vertical-align: middle;\n",
       "    }\n",
       "\n",
       "    .dataframe tbody tr th {\n",
       "        vertical-align: top;\n",
       "    }\n",
       "\n",
       "    .dataframe thead th {\n",
       "        text-align: right;\n",
       "    }\n",
       "</style>\n",
       "<table border=\"1\" class=\"dataframe\">\n",
       "  <thead>\n",
       "    <tr style=\"text-align: right;\">\n",
       "      <th></th>\n",
       "      <th>DemCluster</th>\n",
       "      <th>mean</th>\n",
       "      <th>count</th>\n",
       "      <th>median</th>\n",
       "      <th>count_cumsum</th>\n",
       "      <th>new_DemCluster</th>\n",
       "    </tr>\n",
       "  </thead>\n",
       "  <tbody>\n",
       "    <tr>\n",
       "      <th>52</th>\n",
       "      <td>52</td>\n",
       "      <td>10.769231</td>\n",
       "      <td>13</td>\n",
       "      <td>10.0</td>\n",
       "      <td>13</td>\n",
       "      <td>1</td>\n",
       "    </tr>\n",
       "    <tr>\n",
       "      <th>30</th>\n",
       "      <td>30</td>\n",
       "      <td>12.091743</td>\n",
       "      <td>109</td>\n",
       "      <td>10.0</td>\n",
       "      <td>122</td>\n",
       "      <td>1</td>\n",
       "    </tr>\n",
       "    <tr>\n",
       "      <th>47</th>\n",
       "      <td>47</td>\n",
       "      <td>12.411765</td>\n",
       "      <td>34</td>\n",
       "      <td>10.0</td>\n",
       "      <td>156</td>\n",
       "      <td>1</td>\n",
       "    </tr>\n",
       "    <tr>\n",
       "      <th>51</th>\n",
       "      <td>51</td>\n",
       "      <td>12.693069</td>\n",
       "      <td>101</td>\n",
       "      <td>10.0</td>\n",
       "      <td>257</td>\n",
       "      <td>1</td>\n",
       "    </tr>\n",
       "    <tr>\n",
       "      <th>45</th>\n",
       "      <td>45</td>\n",
       "      <td>13.180190</td>\n",
       "      <td>105</td>\n",
       "      <td>10.0</td>\n",
       "      <td>362</td>\n",
       "      <td>1</td>\n",
       "    </tr>\n",
       "  </tbody>\n",
       "</table>\n",
       "</div>"
      ],
      "text/plain": [
       "    DemCluster       mean  count  median  count_cumsum  new_DemCluster\n",
       "52          52  10.769231     13    10.0            13               1\n",
       "30          30  12.091743    109    10.0           122               1\n",
       "47          47  12.411765     34    10.0           156               1\n",
       "51          51  12.693069    101    10.0           257               1\n",
       "45          45  13.180190    105    10.0           362               1"
      ]
     },
     "execution_count": 21,
     "metadata": {},
     "output_type": "execute_result"
    }
   ],
   "source": [
    "DemC_group = model_data[['DemCluster','TARGET_D']].groupby('DemCluster',as_index = False)\n",
    "DemC_C= DemC_group['TARGET_D'].agg({'mean' : 'mean','count':'count',\"median\":\"median\"}).sort_values([\"median\",\"mean\"])\n",
    "DemC_C[\"count_cumsum\"] = DemC_C[\"count\"].cumsum()\n",
    "DemC_C[\"new_DemCluster\"] = DemC_C[\"count_cumsum\"].apply(lambda x:x//(len(model_data)/10)+1)\n",
    "DemC_C[\"new_DemCluster\"] = DemC_C[\"new_DemCluster\"].astype(int)\n",
    "DemC_C.head()"
   ]
  },
  {
   "cell_type": "code",
   "execution_count": 22,
   "metadata": {},
   "outputs": [
    {
     "data": {
      "text/html": [
       "<div>\n",
       "<style scoped>\n",
       "    .dataframe tbody tr th:only-of-type {\n",
       "        vertical-align: middle;\n",
       "    }\n",
       "\n",
       "    .dataframe tbody tr th {\n",
       "        vertical-align: top;\n",
       "    }\n",
       "\n",
       "    .dataframe thead th {\n",
       "        text-align: right;\n",
       "    }\n",
       "</style>\n",
       "<table border=\"1\" class=\"dataframe\">\n",
       "  <thead>\n",
       "    <tr style=\"text-align: right;\">\n",
       "      <th></th>\n",
       "      <th>StatusCat96NK</th>\n",
       "      <th>mean</th>\n",
       "      <th>count</th>\n",
       "      <th>median</th>\n",
       "    </tr>\n",
       "  </thead>\n",
       "  <tbody>\n",
       "    <tr>\n",
       "      <th>5</th>\n",
       "      <td>S</td>\n",
       "      <td>11.063452</td>\n",
       "      <td>1379</td>\n",
       "      <td>10.0</td>\n",
       "    </tr>\n",
       "    <tr>\n",
       "      <th>0</th>\n",
       "      <td>A</td>\n",
       "      <td>16.995004</td>\n",
       "      <td>2794</td>\n",
       "      <td>15.0</td>\n",
       "    </tr>\n",
       "    <tr>\n",
       "      <th>1</th>\n",
       "      <td>E</td>\n",
       "      <td>17.136364</td>\n",
       "      <td>132</td>\n",
       "      <td>15.0</td>\n",
       "    </tr>\n",
       "    <tr>\n",
       "      <th>4</th>\n",
       "      <td>N</td>\n",
       "      <td>17.654167</td>\n",
       "      <td>264</td>\n",
       "      <td>15.0</td>\n",
       "    </tr>\n",
       "    <tr>\n",
       "      <th>2</th>\n",
       "      <td>F</td>\n",
       "      <td>21.729416</td>\n",
       "      <td>257</td>\n",
       "      <td>20.0</td>\n",
       "    </tr>\n",
       "    <tr>\n",
       "      <th>3</th>\n",
       "      <td>L</td>\n",
       "      <td>24.764706</td>\n",
       "      <td>17</td>\n",
       "      <td>25.0</td>\n",
       "    </tr>\n",
       "  </tbody>\n",
       "</table>\n",
       "</div>"
      ],
      "text/plain": [
       "  StatusCat96NK       mean  count  median\n",
       "5             S  11.063452   1379    10.0\n",
       "0             A  16.995004   2794    15.0\n",
       "1             E  17.136364    132    15.0\n",
       "4             N  17.654167    264    15.0\n",
       "2             F  21.729416    257    20.0\n",
       "3             L  24.764706     17    25.0"
      ]
     },
     "execution_count": 22,
     "metadata": {},
     "output_type": "execute_result"
    }
   ],
   "source": [
    "DemCluster_new_class = DemC_C[[\"DemCluster\",\"new_DemCluster\"]].set_index(\"DemCluster\")\n",
    "X[\"DemCluster\"] = X[\"DemCluster\"].map(DemCluster_new_class.to_dict()['new_DemCluster'])\n",
    "new_DemGender = {\"F\":1,\"M\":2,\"U\":3}\n",
    "X['DemGender'] = X['DemGender'].map(new_DemGender)\n",
    "StatusCat96NK_group = model_data[['StatusCat96NK','TARGET_D']].groupby('StatusCat96NK', as_index = False)\n",
    "StatusCat96NK_class = StatusCat96NK_group['TARGET_D'].agg({'mean' : 'mean', 'count':'count',\"median\":\"median\"}).sort_values([\"median\",\"mean\"])\n",
    "StatusCat96NK_class"
   ]
  },
  {
   "cell_type": "code",
   "execution_count": 23,
   "metadata": {},
   "outputs": [
    {
     "data": {
      "text/html": [
       "<div>\n",
       "<style scoped>\n",
       "    .dataframe tbody tr th:only-of-type {\n",
       "        vertical-align: middle;\n",
       "    }\n",
       "\n",
       "    .dataframe tbody tr th {\n",
       "        vertical-align: top;\n",
       "    }\n",
       "\n",
       "    .dataframe thead th {\n",
       "        text-align: right;\n",
       "    }\n",
       "</style>\n",
       "<table border=\"1\" class=\"dataframe\">\n",
       "  <thead>\n",
       "    <tr style=\"text-align: right;\">\n",
       "      <th></th>\n",
       "      <th>GiftCntAll</th>\n",
       "      <th>PromCntCard36</th>\n",
       "      <th>GiftAvgAll</th>\n",
       "      <th>GiftAvgLast</th>\n",
       "      <th>StatusCatStarAll</th>\n",
       "      <th>GiftAvg36</th>\n",
       "      <th>GiftCnt36</th>\n",
       "      <th>GiftTimeLast</th>\n",
       "      <th>GiftAvgCard36</th>\n",
       "      <th>PromCntCardAll</th>\n",
       "      <th>DemMedHomeValue</th>\n",
       "      <th>PromCntAll</th>\n",
       "      <th>GiftCntCard36</th>\n",
       "      <th>GiftTimeFirst</th>\n",
       "      <th>GiftCntCardAll</th>\n",
       "      <th>DemGender</th>\n",
       "      <th>StatusCat96NK</th>\n",
       "      <th>DemCluster</th>\n",
       "    </tr>\n",
       "  </thead>\n",
       "  <tbody>\n",
       "    <tr>\n",
       "      <th>0</th>\n",
       "      <td>1.386294</td>\n",
       "      <td>8</td>\n",
       "      <td>2.224624</td>\n",
       "      <td>2.833801</td>\n",
       "      <td>0</td>\n",
       "      <td>2.603430</td>\n",
       "      <td>0.698135</td>\n",
       "      <td>21</td>\n",
       "      <td>2.833213</td>\n",
       "      <td>13</td>\n",
       "      <td>11.260611</td>\n",
       "      <td>26</td>\n",
       "      <td>0.00995</td>\n",
       "      <td>66</td>\n",
       "      <td>1.101940</td>\n",
       "      <td>1</td>\n",
       "      <td>2</td>\n",
       "      <td>3</td>\n",
       "    </tr>\n",
       "    <tr>\n",
       "      <th>1</th>\n",
       "      <td>2.079442</td>\n",
       "      <td>5</td>\n",
       "      <td>2.765060</td>\n",
       "      <td>2.996232</td>\n",
       "      <td>0</td>\n",
       "      <td>2.996232</td>\n",
       "      <td>0.009950</td>\n",
       "      <td>26</td>\n",
       "      <td>2.525729</td>\n",
       "      <td>24</td>\n",
       "      <td>12.137794</td>\n",
       "      <td>79</td>\n",
       "      <td>-4.60517</td>\n",
       "      <td>92</td>\n",
       "      <td>1.101940</td>\n",
       "      <td>1</td>\n",
       "      <td>2</td>\n",
       "      <td>2</td>\n",
       "    </tr>\n",
       "    <tr>\n",
       "      <th>2</th>\n",
       "      <td>3.713572</td>\n",
       "      <td>11</td>\n",
       "      <td>1.316408</td>\n",
       "      <td>1.793425</td>\n",
       "      <td>1</td>\n",
       "      <td>1.644805</td>\n",
       "      <td>1.793425</td>\n",
       "      <td>18</td>\n",
       "      <td>1.609438</td>\n",
       "      <td>22</td>\n",
       "      <td>11.380536</td>\n",
       "      <td>51</td>\n",
       "      <td>1.10194</td>\n",
       "      <td>111</td>\n",
       "      <td>2.996232</td>\n",
       "      <td>2</td>\n",
       "      <td>1</td>\n",
       "      <td>3</td>\n",
       "    </tr>\n",
       "    <tr>\n",
       "      <th>3</th>\n",
       "      <td>2.484907</td>\n",
       "      <td>6</td>\n",
       "      <td>2.140066</td>\n",
       "      <td>2.303585</td>\n",
       "      <td>1</td>\n",
       "      <td>2.161022</td>\n",
       "      <td>1.101940</td>\n",
       "      <td>9</td>\n",
       "      <td>2.159869</td>\n",
       "      <td>16</td>\n",
       "      <td>11.843667</td>\n",
       "      <td>44</td>\n",
       "      <td>1.10194</td>\n",
       "      <td>93</td>\n",
       "      <td>2.080691</td>\n",
       "      <td>2</td>\n",
       "      <td>2</td>\n",
       "      <td>3</td>\n",
       "    </tr>\n",
       "    <tr>\n",
       "      <th>4</th>\n",
       "      <td>0.000000</td>\n",
       "      <td>7</td>\n",
       "      <td>2.995732</td>\n",
       "      <td>2.996232</td>\n",
       "      <td>0</td>\n",
       "      <td>2.996232</td>\n",
       "      <td>0.009950</td>\n",
       "      <td>21</td>\n",
       "      <td>2.995732</td>\n",
       "      <td>6</td>\n",
       "      <td>12.032314</td>\n",
       "      <td>13</td>\n",
       "      <td>0.00995</td>\n",
       "      <td>21</td>\n",
       "      <td>0.009950</td>\n",
       "      <td>2</td>\n",
       "      <td>2</td>\n",
       "      <td>4</td>\n",
       "    </tr>\n",
       "  </tbody>\n",
       "</table>\n",
       "</div>"
      ],
      "text/plain": [
       "   GiftCntAll  PromCntCard36  GiftAvgAll  GiftAvgLast  StatusCatStarAll  \\\n",
       "0    1.386294              8    2.224624     2.833801                 0   \n",
       "1    2.079442              5    2.765060     2.996232                 0   \n",
       "2    3.713572             11    1.316408     1.793425                 1   \n",
       "3    2.484907              6    2.140066     2.303585                 1   \n",
       "4    0.000000              7    2.995732     2.996232                 0   \n",
       "\n",
       "   GiftAvg36  GiftCnt36  GiftTimeLast  GiftAvgCard36  PromCntCardAll  \\\n",
       "0   2.603430   0.698135            21       2.833213              13   \n",
       "1   2.996232   0.009950            26       2.525729              24   \n",
       "2   1.644805   1.793425            18       1.609438              22   \n",
       "3   2.161022   1.101940             9       2.159869              16   \n",
       "4   2.996232   0.009950            21       2.995732               6   \n",
       "\n",
       "   DemMedHomeValue  PromCntAll  GiftCntCard36  GiftTimeFirst  GiftCntCardAll  \\\n",
       "0        11.260611          26        0.00995             66        1.101940   \n",
       "1        12.137794          79       -4.60517             92        1.101940   \n",
       "2        11.380536          51        1.10194            111        2.996232   \n",
       "3        11.843667          44        1.10194             93        2.080691   \n",
       "4        12.032314          13        0.00995             21        0.009950   \n",
       "\n",
       "   DemGender  StatusCat96NK  DemCluster  \n",
       "0          1              2           3  \n",
       "1          1              2           2  \n",
       "2          2              1           3  \n",
       "3          2              2           3  \n",
       "4          2              2           4  "
      ]
     },
     "execution_count": 23,
     "metadata": {},
     "output_type": "execute_result"
    }
   ],
   "source": [
    "new_StatusCat96NK = {\"S\":1,\"A\":2,\"E\":2,\"N\":2,\"F\":2,\"L\":2}\n",
    "X['StatusCat96NK'] = X['StatusCat96NK'].map(new_StatusCat96NK)\n",
    "X.head()"
   ]
  },
  {
   "cell_type": "markdown",
   "metadata": {},
   "source": [
    "前向选择法筛选变量:"
   ]
  },
  {
   "cell_type": "code",
   "execution_count": 24,
   "metadata": {
    "collapsed": true
   },
   "outputs": [],
   "source": [
    "import statsmodels.formula.api as smf\n",
    "def forward_selected(data, response):\n",
    "    remaining = set(data.columns)\n",
    "    remaining.remove(response)\n",
    "    selected = []\n",
    "    current_score, best_new_score = 0.0, 0.0\n",
    "    while remaining and current_score == best_new_score:\n",
    "        scores_with_candidates = []\n",
    "        for candidate in remaining:\n",
    "            formula = \"{} ~ {} + 1\".format(response,\n",
    "                                           ' + '.join(selected + [candidate]))\n",
    "            score = smf.ols(formula, data).fit().rsquared_adj\n",
    "            scores_with_candidates.append((score, candidate))\n",
    "        scores_with_candidates.sort()\n",
    "        best_new_score, best_candidate = scores_with_candidates.pop()\n",
    "        if current_score < best_new_score:\n",
    "            remaining.remove(best_candidate)\n",
    "            selected.append(best_candidate)\n",
    "            current_score = best_new_score\n",
    "    formula = \"{} ~ {} + 1\".format(response,\n",
    "                                   ' + '.join(selected))\n",
    "    model = smf.ols(formula, data).fit()\n",
    "    return selected"
   ]
  },
  {
   "cell_type": "code",
   "execution_count": 25,
   "metadata": {
    "collapsed": true
   },
   "outputs": [],
   "source": [
    "XX=pd.concat([X[var_c_s+var_d_s],Y],axis = 1)"
   ]
  },
  {
   "cell_type": "code",
   "execution_count": 26,
   "metadata": {
    "collapsed": true
   },
   "outputs": [],
   "source": [
    "final_var = forward_selected(XX,'TARGET_D')"
   ]
  },
  {
   "cell_type": "code",
   "execution_count": 27,
   "metadata": {},
   "outputs": [
    {
     "data": {
      "text/plain": [
       "['GiftCntAll',\n",
       " 'GiftAvgAll',\n",
       " 'GiftAvgLast',\n",
       " 'GiftAvgCard36',\n",
       " 'GiftAvg36',\n",
       " 'GiftCnt36',\n",
       " 'DemMedHomeValue',\n",
       " 'GiftCntCard36',\n",
       " 'PromCntCardAll']"
      ]
     },
     "execution_count": 27,
     "metadata": {},
     "output_type": "execute_result"
    }
   ],
   "source": [
    "var_c_s = list(set(var_c_s)&set(final_var))\n",
    "var_c_s"
   ]
  },
  {
   "cell_type": "code",
   "execution_count": 28,
   "metadata": {},
   "outputs": [
    {
     "data": {
      "text/plain": [
       "['DemGender']"
      ]
     },
     "execution_count": 28,
     "metadata": {},
     "output_type": "execute_result"
    }
   ],
   "source": [
    "var_d_s = list(set(var_d_s)&set(final_var))\n",
    "var_d_s"
   ]
  },
  {
   "cell_type": "code",
   "execution_count": 29,
   "metadata": {},
   "outputs": [
    {
     "data": {
      "text/plain": [
       "Index(['DemGender', 'GiftCntAll', 'GiftAvgAll', 'GiftAvgLast', 'GiftAvgCard36',\n",
       "       'GiftAvg36', 'GiftCnt36', 'DemMedHomeValue', 'GiftCntCard36',\n",
       "       'PromCntCardAll', 'TARGET_D'],\n",
       "      dtype='object')"
      ]
     },
     "execution_count": 29,
     "metadata": {},
     "output_type": "execute_result"
    }
   ],
   "source": [
    "model_final = pd.concat([X[var_d_s + var_c_s],Y], axis = 1)\n",
    "model_final.columns"
   ]
  },
  {
   "cell_type": "markdown",
   "metadata": {},
   "source": [
    "建立线性回归模型:"
   ]
  },
  {
   "cell_type": "code",
   "execution_count": 30,
   "metadata": {},
   "outputs": [
    {
     "name": "stderr",
     "output_type": "stream",
     "text": [
      "C:\\Users\\Ben\\Anaconda3\\lib\\site-packages\\statsmodels\\compat\\pandas.py:56: FutureWarning: The pandas.core.datetools module is deprecated and will be removed in a future version. Please use the pandas.tseries module instead.\n",
      "  from pandas.core import datetools\n"
     ]
    },
    {
     "name": "stdout",
     "output_type": "stream",
     "text": [
      "                            OLS Regression Results                            \n",
      "==============================================================================\n",
      "Dep. Variable:               TARGET_D   R-squared:                       0.433\n",
      "Model:                            OLS   Adj. R-squared:                  0.432\n",
      "Method:                 Least Squares   F-statistic:                     368.9\n",
      "Date:                Thu, 19 Jul 2018   Prob (F-statistic):               0.00\n",
      "Time:                        00:05:39   Log-Likelihood:                -17709.\n",
      "No. Observations:                4843   AIC:                         3.544e+04\n",
      "Df Residuals:                    4832   BIC:                         3.551e+04\n",
      "Df Model:                          10                                         \n",
      "Covariance Type:            nonrobust                                         \n",
      "===================================================================================\n",
      "                      coef    std err          t      P>|t|      [0.025      0.975]\n",
      "-----------------------------------------------------------------------------------\n",
      "Intercept         -28.0753      2.408    -11.658      0.000     -32.796     -23.354\n",
      "GiftAvgAll          9.5812      0.557     17.199      0.000       8.489      10.673\n",
      "GiftAvgLast         3.3513      0.289     11.579      0.000       2.784       3.919\n",
      "GiftAvg36           1.5395      0.280      5.504      0.000       0.991       2.088\n",
      "GiftCntAll          1.7415      0.390      4.464      0.000       0.977       2.506\n",
      "GiftAvgCard36       1.7407      0.555      3.136      0.002       0.652       2.829\n",
      "GiftCntCard36      -0.1307      0.091     -1.430      0.153      -0.310       0.049\n",
      "DemGender           0.4601      0.225      2.049      0.041       0.020       0.900\n",
      "PromCntCardAll     -0.0780      0.035     -2.232      0.026      -0.146      -0.009\n",
      "GiftCnt36          -0.5809      0.335     -1.734      0.083      -1.238       0.076\n",
      "DemMedHomeValue     0.2475      0.198      1.251      0.211      -0.140       0.635\n",
      "==============================================================================\n",
      "Omnibus:                     6097.693   Durbin-Watson:                   1.999\n",
      "Prob(Omnibus):                  0.000   Jarque-Bera (JB):          1710271.849\n",
      "Skew:                           6.634   Prob(JB):                         0.00\n",
      "Kurtosis:                      94.101   Cond. No.                         440.\n",
      "==============================================================================\n",
      "\n",
      "Warnings:\n",
      "[1] Standard Errors assume that the covariance matrix of the errors is correctly specified.\n"
     ]
    }
   ],
   "source": [
    "import statsmodels.api as sm\n",
    "from statsmodels.formula.api import ols\n",
    "X = model_final.iloc[:,:-1]\n",
    "Y = model_final.iloc[:,-1]\n",
    "formula = 'TARGET_D ~ ' + '+'.join(final_var) \n",
    "donation_model = ols(formula,model_final).fit()\n",
    "print(donation_model.summary())"
   ]
  },
  {
   "cell_type": "code",
   "execution_count": null,
   "metadata": {
    "collapsed": true
   },
   "outputs": [],
   "source": []
  },
  {
   "cell_type": "code",
   "execution_count": null,
   "metadata": {
    "collapsed": true
   },
   "outputs": [],
   "source": []
  }
 ],
 "metadata": {
  "kernelspec": {
   "display_name": "Python 3",
   "language": "python",
   "name": "python3"
  },
  "language_info": {
   "codemirror_mode": {
    "name": "ipython",
    "version": 3
   },
   "file_extension": ".py",
   "mimetype": "text/x-python",
   "name": "python",
   "nbconvert_exporter": "python",
   "pygments_lexer": "ipython3",
   "version": "3.6.3"
  }
 },
 "nbformat": 4,
 "nbformat_minor": 2
}
