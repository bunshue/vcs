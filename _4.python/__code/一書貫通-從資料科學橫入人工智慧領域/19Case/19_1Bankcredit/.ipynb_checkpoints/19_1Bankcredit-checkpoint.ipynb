{
 "cells": [
  {
   "cell_type": "markdown",
   "metadata": {},
   "source": [
    "创建路径："
   ]
  },
  {
   "cell_type": "code",
   "execution_count": 19,
   "metadata": {
    "collapsed": true
   },
   "outputs": [],
   "source": [
    "import pandas as pd\n",
    "import numpy as np\n",
    "import os"
   ]
  },
  {
   "cell_type": "markdown",
   "metadata": {},
   "source": [
    "导入数据："
   ]
  },
  {
   "cell_type": "code",
   "execution_count": 20,
   "metadata": {},
   "outputs": [
    {
     "name": "stdout",
     "output_type": "stream",
     "text": [
      "accounts\n",
      "card\n",
      "clients\n",
      "disp\n",
      "district\n",
      "loans\n",
      "order\n",
      "trans\n"
     ]
    },
    {
     "name": "stderr",
     "output_type": "stream",
     "text": [
      "C:\\Users\\Ben\\Anaconda3\\lib\\site-packages\\IPython\\core\\interactiveshell.py:2698: DtypeWarning: Columns (8) have mixed types. Specify dtype option on import or set low_memory=False.\n",
      "  interactivity=interactivity, compiler=compiler, result=result)\n"
     ]
    }
   ],
   "source": [
    "loanfile=os.listdir()\n",
    "createVar=locals()\n",
    "for i in loanfile:\n",
    "    if i.endswith(\"csv\"):\n",
    "        createVar[i.split('.')[0]]=pd.read_csv(i,encoding='gbk')\n",
    "        print(i.split('.')[0])"
   ]
  },
  {
   "cell_type": "markdown",
   "metadata": {},
   "source": [
    "创建被解释变量："
   ]
  },
  {
   "cell_type": "code",
   "execution_count": 21,
   "metadata": {},
   "outputs": [
    {
     "data": {
      "text/html": [
       "<div>\n",
       "<style scoped>\n",
       "    .dataframe tbody tr th:only-of-type {\n",
       "        vertical-align: middle;\n",
       "    }\n",
       "\n",
       "    .dataframe tbody tr th {\n",
       "        vertical-align: top;\n",
       "    }\n",
       "\n",
       "    .dataframe thead th {\n",
       "        text-align: right;\n",
       "    }\n",
       "</style>\n",
       "<table border=\"1\" class=\"dataframe\">\n",
       "  <thead>\n",
       "    <tr style=\"text-align: right;\">\n",
       "      <th></th>\n",
       "      <th>loan_id</th>\n",
       "      <th>account_id</th>\n",
       "      <th>date</th>\n",
       "      <th>amount</th>\n",
       "      <th>duration</th>\n",
       "      <th>payments</th>\n",
       "      <th>status</th>\n",
       "      <th>bad_good</th>\n",
       "    </tr>\n",
       "  </thead>\n",
       "  <tbody>\n",
       "    <tr>\n",
       "      <th>0</th>\n",
       "      <td>5314</td>\n",
       "      <td>1787</td>\n",
       "      <td>1993-07-05</td>\n",
       "      <td>96396</td>\n",
       "      <td>12</td>\n",
       "      <td>8033</td>\n",
       "      <td>B</td>\n",
       "      <td>1</td>\n",
       "    </tr>\n",
       "    <tr>\n",
       "      <th>1</th>\n",
       "      <td>5316</td>\n",
       "      <td>1801</td>\n",
       "      <td>1993-07-11</td>\n",
       "      <td>165960</td>\n",
       "      <td>36</td>\n",
       "      <td>4610</td>\n",
       "      <td>A</td>\n",
       "      <td>0</td>\n",
       "    </tr>\n",
       "    <tr>\n",
       "      <th>2</th>\n",
       "      <td>6863</td>\n",
       "      <td>9188</td>\n",
       "      <td>1993-07-28</td>\n",
       "      <td>127080</td>\n",
       "      <td>60</td>\n",
       "      <td>2118</td>\n",
       "      <td>A</td>\n",
       "      <td>0</td>\n",
       "    </tr>\n",
       "    <tr>\n",
       "      <th>3</th>\n",
       "      <td>5325</td>\n",
       "      <td>1843</td>\n",
       "      <td>1993-08-03</td>\n",
       "      <td>105804</td>\n",
       "      <td>36</td>\n",
       "      <td>2939</td>\n",
       "      <td>A</td>\n",
       "      <td>0</td>\n",
       "    </tr>\n",
       "    <tr>\n",
       "      <th>4</th>\n",
       "      <td>7240</td>\n",
       "      <td>11013</td>\n",
       "      <td>1993-09-06</td>\n",
       "      <td>274740</td>\n",
       "      <td>60</td>\n",
       "      <td>4579</td>\n",
       "      <td>A</td>\n",
       "      <td>0</td>\n",
       "    </tr>\n",
       "  </tbody>\n",
       "</table>\n",
       "</div>"
      ],
      "text/plain": [
       "   loan_id  account_id        date  amount  duration  payments status  \\\n",
       "0     5314        1787  1993-07-05   96396        12      8033      B   \n",
       "1     5316        1801  1993-07-11  165960        36      4610      A   \n",
       "2     6863        9188  1993-07-28  127080        60      2118      A   \n",
       "3     5325        1843  1993-08-03  105804        36      2939      A   \n",
       "4     7240       11013  1993-09-06  274740        60      4579      A   \n",
       "\n",
       "   bad_good  \n",
       "0         1  \n",
       "1         0  \n",
       "2         0  \n",
       "3         0  \n",
       "4         0  "
      ]
     },
     "execution_count": 21,
     "metadata": {},
     "output_type": "execute_result"
    }
   ],
   "source": [
    "bad_good={'B':1, 'D':1, 'A':0, 'C': 2}\n",
    "loans['bad_good']=loans.status.map(bad_good)\n",
    "loans.head()"
   ]
  },
  {
   "cell_type": "markdown",
   "metadata": {},
   "source": [
    "表征信息："
   ]
  },
  {
   "cell_type": "code",
   "execution_count": 22,
   "metadata": {},
   "outputs": [
    {
     "data": {
      "text/html": [
       "<div>\n",
       "<style scoped>\n",
       "    .dataframe tbody tr th:only-of-type {\n",
       "        vertical-align: middle;\n",
       "    }\n",
       "\n",
       "    .dataframe tbody tr th {\n",
       "        vertical-align: top;\n",
       "    }\n",
       "\n",
       "    .dataframe thead th {\n",
       "        text-align: right;\n",
       "    }\n",
       "</style>\n",
       "<table border=\"1\" class=\"dataframe\">\n",
       "  <thead>\n",
       "    <tr style=\"text-align: right;\">\n",
       "      <th></th>\n",
       "      <th>loan_id</th>\n",
       "      <th>account_id</th>\n",
       "      <th>date</th>\n",
       "      <th>amount</th>\n",
       "      <th>duration</th>\n",
       "      <th>payments</th>\n",
       "      <th>status</th>\n",
       "      <th>bad_good</th>\n",
       "      <th>disp_id</th>\n",
       "      <th>client_id</th>\n",
       "      <th>type</th>\n",
       "      <th>sex</th>\n",
       "      <th>birth_date</th>\n",
       "      <th>district_id</th>\n",
       "    </tr>\n",
       "  </thead>\n",
       "  <tbody>\n",
       "    <tr>\n",
       "      <th>0</th>\n",
       "      <td>5314</td>\n",
       "      <td>1787</td>\n",
       "      <td>1993-07-05</td>\n",
       "      <td>96396</td>\n",
       "      <td>12</td>\n",
       "      <td>8033</td>\n",
       "      <td>B</td>\n",
       "      <td>1</td>\n",
       "      <td>2166</td>\n",
       "      <td>2166</td>\n",
       "      <td>所有者</td>\n",
       "      <td>女</td>\n",
       "      <td>1947-07-22</td>\n",
       "      <td>30</td>\n",
       "    </tr>\n",
       "    <tr>\n",
       "      <th>1</th>\n",
       "      <td>5316</td>\n",
       "      <td>1801</td>\n",
       "      <td>1993-07-11</td>\n",
       "      <td>165960</td>\n",
       "      <td>36</td>\n",
       "      <td>4610</td>\n",
       "      <td>A</td>\n",
       "      <td>0</td>\n",
       "      <td>2181</td>\n",
       "      <td>2181</td>\n",
       "      <td>所有者</td>\n",
       "      <td>男</td>\n",
       "      <td>1968-07-22</td>\n",
       "      <td>46</td>\n",
       "    </tr>\n",
       "    <tr>\n",
       "      <th>2</th>\n",
       "      <td>6863</td>\n",
       "      <td>9188</td>\n",
       "      <td>1993-07-28</td>\n",
       "      <td>127080</td>\n",
       "      <td>60</td>\n",
       "      <td>2118</td>\n",
       "      <td>A</td>\n",
       "      <td>0</td>\n",
       "      <td>11006</td>\n",
       "      <td>11314</td>\n",
       "      <td>所有者</td>\n",
       "      <td>男</td>\n",
       "      <td>1936-06-02</td>\n",
       "      <td>45</td>\n",
       "    </tr>\n",
       "    <tr>\n",
       "      <th>3</th>\n",
       "      <td>5325</td>\n",
       "      <td>1843</td>\n",
       "      <td>1993-08-03</td>\n",
       "      <td>105804</td>\n",
       "      <td>36</td>\n",
       "      <td>2939</td>\n",
       "      <td>A</td>\n",
       "      <td>0</td>\n",
       "      <td>2235</td>\n",
       "      <td>2235</td>\n",
       "      <td>所有者</td>\n",
       "      <td>女</td>\n",
       "      <td>1940-04-20</td>\n",
       "      <td>14</td>\n",
       "    </tr>\n",
       "    <tr>\n",
       "      <th>4</th>\n",
       "      <td>7240</td>\n",
       "      <td>11013</td>\n",
       "      <td>1993-09-06</td>\n",
       "      <td>274740</td>\n",
       "      <td>60</td>\n",
       "      <td>4579</td>\n",
       "      <td>A</td>\n",
       "      <td>0</td>\n",
       "      <td>13231</td>\n",
       "      <td>13539</td>\n",
       "      <td>所有者</td>\n",
       "      <td>男</td>\n",
       "      <td>1978-09-07</td>\n",
       "      <td>63</td>\n",
       "    </tr>\n",
       "  </tbody>\n",
       "</table>\n",
       "</div>"
      ],
      "text/plain": [
       "   loan_id  account_id        date  amount  duration  payments status  \\\n",
       "0     5314        1787  1993-07-05   96396        12      8033      B   \n",
       "1     5316        1801  1993-07-11  165960        36      4610      A   \n",
       "2     6863        9188  1993-07-28  127080        60      2118      A   \n",
       "3     5325        1843  1993-08-03  105804        36      2939      A   \n",
       "4     7240       11013  1993-09-06  274740        60      4579      A   \n",
       "\n",
       "   bad_good  disp_id  client_id type sex  birth_date  district_id  \n",
       "0         1     2166       2166  所有者   女  1947-07-22           30  \n",
       "1         0     2181       2181  所有者   男  1968-07-22           46  \n",
       "2         0    11006      11314  所有者   男  1936-06-02           45  \n",
       "3         0     2235       2235  所有者   女  1940-04-20           14  \n",
       "4         0    13231      13539  所有者   男  1978-09-07           63  "
      ]
     },
     "execution_count": 22,
     "metadata": {},
     "output_type": "execute_result"
    }
   ],
   "source": [
    "data2=pd.merge(loans,disp,on='account_id',how='left')\n",
    "data2=pd.merge(data2,clients,on='client_id',how='left')\n",
    "data2=data2[data2.type=='所有者']\n",
    "data2.head()"
   ]
  },
  {
   "cell_type": "markdown",
   "metadata": {},
   "source": [
    "状态信息："
   ]
  },
  {
   "cell_type": "code",
   "execution_count": 23,
   "metadata": {},
   "outputs": [
    {
     "data": {
      "text/html": [
       "<div>\n",
       "<style scoped>\n",
       "    .dataframe tbody tr th:only-of-type {\n",
       "        vertical-align: middle;\n",
       "    }\n",
       "\n",
       "    .dataframe tbody tr th {\n",
       "        vertical-align: top;\n",
       "    }\n",
       "\n",
       "    .dataframe thead th {\n",
       "        text-align: right;\n",
       "    }\n",
       "</style>\n",
       "<table border=\"1\" class=\"dataframe\">\n",
       "  <thead>\n",
       "    <tr style=\"text-align: right;\">\n",
       "      <th></th>\n",
       "      <th>loan_id</th>\n",
       "      <th>account_id</th>\n",
       "      <th>date</th>\n",
       "      <th>amount</th>\n",
       "      <th>duration</th>\n",
       "      <th>payments</th>\n",
       "      <th>status</th>\n",
       "      <th>bad_good</th>\n",
       "      <th>disp_id</th>\n",
       "      <th>client_id</th>\n",
       "      <th>...</th>\n",
       "      <th>A1</th>\n",
       "      <th>GDP</th>\n",
       "      <th>A4</th>\n",
       "      <th>A10</th>\n",
       "      <th>A11</th>\n",
       "      <th>A12</th>\n",
       "      <th>A13</th>\n",
       "      <th>A14</th>\n",
       "      <th>A15</th>\n",
       "      <th>a16</th>\n",
       "    </tr>\n",
       "  </thead>\n",
       "  <tbody>\n",
       "    <tr>\n",
       "      <th>0</th>\n",
       "      <td>5314</td>\n",
       "      <td>1787</td>\n",
       "      <td>1993-07-05</td>\n",
       "      <td>96396</td>\n",
       "      <td>12</td>\n",
       "      <td>8033</td>\n",
       "      <td>B</td>\n",
       "      <td>1</td>\n",
       "      <td>2166</td>\n",
       "      <td>2166</td>\n",
       "      <td>...</td>\n",
       "      <td>30</td>\n",
       "      <td>16979</td>\n",
       "      <td>94812</td>\n",
       "      <td>81.8</td>\n",
       "      <td>9650</td>\n",
       "      <td>3.38</td>\n",
       "      <td>3.67</td>\n",
       "      <td>100</td>\n",
       "      <td>15.7</td>\n",
       "      <td>14.8</td>\n",
       "    </tr>\n",
       "    <tr>\n",
       "      <th>1</th>\n",
       "      <td>5316</td>\n",
       "      <td>1801</td>\n",
       "      <td>1993-07-11</td>\n",
       "      <td>165960</td>\n",
       "      <td>36</td>\n",
       "      <td>4610</td>\n",
       "      <td>A</td>\n",
       "      <td>0</td>\n",
       "      <td>2181</td>\n",
       "      <td>2181</td>\n",
       "      <td>...</td>\n",
       "      <td>46</td>\n",
       "      <td>14111</td>\n",
       "      <td>112709</td>\n",
       "      <td>73.5</td>\n",
       "      <td>8369</td>\n",
       "      <td>1.79</td>\n",
       "      <td>2.31</td>\n",
       "      <td>117</td>\n",
       "      <td>12.7</td>\n",
       "      <td>11.6</td>\n",
       "    </tr>\n",
       "    <tr>\n",
       "      <th>2</th>\n",
       "      <td>6863</td>\n",
       "      <td>9188</td>\n",
       "      <td>1993-07-28</td>\n",
       "      <td>127080</td>\n",
       "      <td>60</td>\n",
       "      <td>2118</td>\n",
       "      <td>A</td>\n",
       "      <td>0</td>\n",
       "      <td>11006</td>\n",
       "      <td>11314</td>\n",
       "      <td>...</td>\n",
       "      <td>45</td>\n",
       "      <td>12888</td>\n",
       "      <td>77917</td>\n",
       "      <td>53.5</td>\n",
       "      <td>8390</td>\n",
       "      <td>2.28</td>\n",
       "      <td>2.89</td>\n",
       "      <td>132</td>\n",
       "      <td>13.3</td>\n",
       "      <td>13.6</td>\n",
       "    </tr>\n",
       "    <tr>\n",
       "      <th>3</th>\n",
       "      <td>5325</td>\n",
       "      <td>1843</td>\n",
       "      <td>1993-08-03</td>\n",
       "      <td>105804</td>\n",
       "      <td>36</td>\n",
       "      <td>2939</td>\n",
       "      <td>A</td>\n",
       "      <td>0</td>\n",
       "      <td>2235</td>\n",
       "      <td>2235</td>\n",
       "      <td>...</td>\n",
       "      <td>14</td>\n",
       "      <td>31891</td>\n",
       "      <td>177686</td>\n",
       "      <td>74.8</td>\n",
       "      <td>10045</td>\n",
       "      <td>1.42</td>\n",
       "      <td>1.71</td>\n",
       "      <td>135</td>\n",
       "      <td>18.6</td>\n",
       "      <td>17.7</td>\n",
       "    </tr>\n",
       "    <tr>\n",
       "      <th>4</th>\n",
       "      <td>7240</td>\n",
       "      <td>11013</td>\n",
       "      <td>1993-09-06</td>\n",
       "      <td>274740</td>\n",
       "      <td>60</td>\n",
       "      <td>4579</td>\n",
       "      <td>A</td>\n",
       "      <td>0</td>\n",
       "      <td>13231</td>\n",
       "      <td>13539</td>\n",
       "      <td>...</td>\n",
       "      <td>63</td>\n",
       "      <td>11322</td>\n",
       "      <td>86513</td>\n",
       "      <td>50.5</td>\n",
       "      <td>8288</td>\n",
       "      <td>3.79</td>\n",
       "      <td>4.52</td>\n",
       "      <td>110</td>\n",
       "      <td>9.0</td>\n",
       "      <td>8.4</td>\n",
       "    </tr>\n",
       "  </tbody>\n",
       "</table>\n",
       "<p>5 rows × 24 columns</p>\n",
       "</div>"
      ],
      "text/plain": [
       "   loan_id  account_id        date  amount  duration  payments status  \\\n",
       "0     5314        1787  1993-07-05   96396        12      8033      B   \n",
       "1     5316        1801  1993-07-11  165960        36      4610      A   \n",
       "2     6863        9188  1993-07-28  127080        60      2118      A   \n",
       "3     5325        1843  1993-08-03  105804        36      2939      A   \n",
       "4     7240       11013  1993-09-06  274740        60      4579      A   \n",
       "\n",
       "   bad_good  disp_id  client_id  ...   A1    GDP      A4   A10    A11   A12  \\\n",
       "0         1     2166       2166  ...   30  16979   94812  81.8   9650  3.38   \n",
       "1         0     2181       2181  ...   46  14111  112709  73.5   8369  1.79   \n",
       "2         0    11006      11314  ...   45  12888   77917  53.5   8390  2.28   \n",
       "3         0     2235       2235  ...   14  31891  177686  74.8  10045  1.42   \n",
       "4         0    13231      13539  ...   63  11322   86513  50.5   8288  3.79   \n",
       "\n",
       "    A13  A14   A15   a16  \n",
       "0  3.67  100  15.7  14.8  \n",
       "1  2.31  117  12.7  11.6  \n",
       "2  2.89  132  13.3  13.6  \n",
       "3  1.71  135  18.6  17.7  \n",
       "4  4.52  110   9.0   8.4  \n",
       "\n",
       "[5 rows x 24 columns]"
      ]
     },
     "execution_count": 23,
     "metadata": {},
     "output_type": "execute_result"
    }
   ],
   "source": [
    "data3 = pd.merge(data2, district, left_on = 'district_id', right_on = 'A1', how = 'left')\n",
    "data3.head()"
   ]
  },
  {
   "cell_type": "markdown",
   "metadata": {},
   "source": [
    "行为信息："
   ]
  },
  {
   "cell_type": "code",
   "execution_count": 24,
   "metadata": {
    "collapsed": true
   },
   "outputs": [],
   "source": [
    "data_4temp1=pd.merge(loans[['account_id','date']],trans[['account_id','type','amount','balance','date']],on='account_id')\n",
    "data_4temp1.columns=['account_id','date','type','amount','balance','t_date']\n",
    "data_4temp1=data_4temp1.sort_values(by=['account_id','t_date'])\n",
    "data_4temp1['date']=pd.to_datetime(data_4temp1['date'])\n",
    "data_4temp1['t_date']=pd.to_datetime(data_4temp1['t_date'])\n",
    "data_4temp1['balance2']=data_4temp1['balance'].map(lambda x:int(''.join(x[1:].split(','))))\n",
    "data_4temp1['amount2']=data_4temp1['amount'].map(lambda x:int(''.join(x[1:].split(','))))"
   ]
  },
  {
   "cell_type": "code",
   "execution_count": 25,
   "metadata": {},
   "outputs": [
    {
     "name": "stderr",
     "output_type": "stream",
     "text": [
      "C:\\Users\\Ben\\Anaconda3\\lib\\site-packages\\ipykernel_launcher.py:2: UserWarning: Boolean Series key will be reindexed to match DataFrame index.\n",
      "  \n"
     ]
    },
    {
     "data": {
      "text/html": [
       "<div>\n",
       "<style scoped>\n",
       "    .dataframe tbody tr th:only-of-type {\n",
       "        vertical-align: middle;\n",
       "    }\n",
       "\n",
       "    .dataframe tbody tr th {\n",
       "        vertical-align: top;\n",
       "    }\n",
       "\n",
       "    .dataframe thead th {\n",
       "        text-align: right;\n",
       "    }\n",
       "</style>\n",
       "<table border=\"1\" class=\"dataframe\">\n",
       "  <thead>\n",
       "    <tr style=\"text-align: right;\">\n",
       "      <th></th>\n",
       "      <th>account_id</th>\n",
       "      <th>date</th>\n",
       "      <th>type</th>\n",
       "      <th>amount</th>\n",
       "      <th>balance</th>\n",
       "      <th>t_date</th>\n",
       "      <th>balance2</th>\n",
       "      <th>amount2</th>\n",
       "    </tr>\n",
       "  </thead>\n",
       "  <tbody>\n",
       "    <tr>\n",
       "      <th>10020</th>\n",
       "      <td>2</td>\n",
       "      <td>1994-01-05</td>\n",
       "      <td>贷</td>\n",
       "      <td>$1,100</td>\n",
       "      <td>$1,100</td>\n",
       "      <td>1993-02-26</td>\n",
       "      <td>1100</td>\n",
       "      <td>1100</td>\n",
       "    </tr>\n",
       "    <tr>\n",
       "      <th>10021</th>\n",
       "      <td>2</td>\n",
       "      <td>1994-01-05</td>\n",
       "      <td>贷</td>\n",
       "      <td>$20236</td>\n",
       "      <td>$21336</td>\n",
       "      <td>1993-03-12</td>\n",
       "      <td>21336</td>\n",
       "      <td>20236</td>\n",
       "    </tr>\n",
       "    <tr>\n",
       "      <th>10022</th>\n",
       "      <td>2</td>\n",
       "      <td>1994-01-05</td>\n",
       "      <td>贷</td>\n",
       "      <td>$3,700</td>\n",
       "      <td>$25036</td>\n",
       "      <td>1993-03-28</td>\n",
       "      <td>25036</td>\n",
       "      <td>3700</td>\n",
       "    </tr>\n",
       "    <tr>\n",
       "      <th>10023</th>\n",
       "      <td>2</td>\n",
       "      <td>1994-01-05</td>\n",
       "      <td>贷</td>\n",
       "      <td>$14</td>\n",
       "      <td>$25050</td>\n",
       "      <td>1993-03-31</td>\n",
       "      <td>25050</td>\n",
       "      <td>14</td>\n",
       "    </tr>\n",
       "    <tr>\n",
       "      <th>10024</th>\n",
       "      <td>2</td>\n",
       "      <td>1994-01-05</td>\n",
       "      <td>贷</td>\n",
       "      <td>$20236</td>\n",
       "      <td>$45286</td>\n",
       "      <td>1993-04-12</td>\n",
       "      <td>45286</td>\n",
       "      <td>20236</td>\n",
       "    </tr>\n",
       "  </tbody>\n",
       "</table>\n",
       "</div>"
      ],
      "text/plain": [
       "       account_id       date type  amount balance     t_date  balance2  \\\n",
       "10020           2 1994-01-05    贷  $1,100  $1,100 1993-02-26      1100   \n",
       "10021           2 1994-01-05    贷  $20236  $21336 1993-03-12     21336   \n",
       "10022           2 1994-01-05    贷  $3,700  $25036 1993-03-28     25036   \n",
       "10023           2 1994-01-05    贷     $14  $25050 1993-03-31     25050   \n",
       "10024           2 1994-01-05    贷  $20236  $45286 1993-04-12     45286   \n",
       "\n",
       "       amount2  \n",
       "10020     1100  \n",
       "10021    20236  \n",
       "10022     3700  \n",
       "10023       14  \n",
       "10024    20236  "
      ]
     },
     "execution_count": 25,
     "metadata": {},
     "output_type": "execute_result"
    }
   ],
   "source": [
    "import datetime\n",
    "data_4temp2=data_4temp1[data_4temp1.date>data_4temp1.t_date][data_4temp1.date<data_4temp1.t_date+datetime.timedelta(days=365)]\n",
    "data_4temp2.head()"
   ]
  },
  {
   "cell_type": "code",
   "execution_count": 26,
   "metadata": {},
   "outputs": [
    {
     "data": {
      "text/html": [
       "<div>\n",
       "<style scoped>\n",
       "    .dataframe tbody tr th:only-of-type {\n",
       "        vertical-align: middle;\n",
       "    }\n",
       "\n",
       "    .dataframe tbody tr th {\n",
       "        vertical-align: top;\n",
       "    }\n",
       "\n",
       "    .dataframe thead th {\n",
       "        text-align: right;\n",
       "    }\n",
       "</style>\n",
       "<table border=\"1\" class=\"dataframe\">\n",
       "  <thead>\n",
       "    <tr style=\"text-align: right;\">\n",
       "      <th></th>\n",
       "      <th></th>\n",
       "      <th>amount2</th>\n",
       "    </tr>\n",
       "    <tr>\n",
       "      <th>account_id</th>\n",
       "      <th>type1</th>\n",
       "      <th></th>\n",
       "    </tr>\n",
       "  </thead>\n",
       "  <tbody>\n",
       "    <tr>\n",
       "      <th rowspan=\"2\" valign=\"top\">2</th>\n",
       "      <th>income</th>\n",
       "      <td>276514</td>\n",
       "    </tr>\n",
       "    <tr>\n",
       "      <th>out</th>\n",
       "      <td>153020</td>\n",
       "    </tr>\n",
       "  </tbody>\n",
       "</table>\n",
       "</div>"
      ],
      "text/plain": [
       "                   amount2\n",
       "account_id type1          \n",
       "2          income   276514\n",
       "           out      153020"
      ]
     },
     "execution_count": 26,
     "metadata": {},
     "output_type": "execute_result"
    }
   ],
   "source": [
    "data_4temp3=data_4temp2.groupby('account_id')['balance2'].agg([('avg_balance','mean'),('stdev_balance','std')])\n",
    "data_4temp3['cv_balance']=data_4temp3[['avg_balance','stdev_balance']].apply(lambda x:x[1]/x[0],axis=1)\n",
    "type_dict={'借':'out','贷':'income'}\n",
    "data_4temp2['type1']=data_4temp2.type.map(type_dict)\n",
    "data_4temp4=data_4temp2.groupby(['account_id','type1'])[['amount2']].sum()\n",
    "data_4temp4.head(2)"
   ]
  },
  {
   "cell_type": "code",
   "execution_count": 27,
   "metadata": {},
   "outputs": [
    {
     "data": {
      "text/html": [
       "<div>\n",
       "<style scoped>\n",
       "    .dataframe tbody tr th:only-of-type {\n",
       "        vertical-align: middle;\n",
       "    }\n",
       "\n",
       "    .dataframe tbody tr th {\n",
       "        vertical-align: top;\n",
       "    }\n",
       "\n",
       "    .dataframe thead th {\n",
       "        text-align: right;\n",
       "    }\n",
       "</style>\n",
       "<table border=\"1\" class=\"dataframe\">\n",
       "  <thead>\n",
       "    <tr style=\"text-align: right;\">\n",
       "      <th>type1</th>\n",
       "      <th>income</th>\n",
       "      <th>out</th>\n",
       "      <th>r_out_in</th>\n",
       "    </tr>\n",
       "    <tr>\n",
       "      <th>account_id</th>\n",
       "      <th></th>\n",
       "      <th></th>\n",
       "      <th></th>\n",
       "    </tr>\n",
       "  </thead>\n",
       "  <tbody>\n",
       "    <tr>\n",
       "      <th>2</th>\n",
       "      <td>276514.0</td>\n",
       "      <td>153020.0</td>\n",
       "      <td>0.553390</td>\n",
       "    </tr>\n",
       "    <tr>\n",
       "      <th>19</th>\n",
       "      <td>254255.0</td>\n",
       "      <td>198020.0</td>\n",
       "      <td>0.778824</td>\n",
       "    </tr>\n",
       "  </tbody>\n",
       "</table>\n",
       "</div>"
      ],
      "text/plain": [
       "type1         income       out  r_out_in\n",
       "account_id                              \n",
       "2           276514.0  153020.0  0.553390\n",
       "19          254255.0  198020.0  0.778824"
      ]
     },
     "execution_count": 27,
     "metadata": {},
     "output_type": "execute_result"
    }
   ],
   "source": [
    "data_4temp5=pd.pivot_table(data_4temp4,values='amount2',index='account_id',columns='type1')\n",
    "data_4temp5.fillna(0,inplace=True)\n",
    "data_4temp5['r_out_in']=data_4temp5[['out','income']].apply(lambda x:x[0]/x[1],axis=1)\n",
    "data_4temp5.head(2)"
   ]
  },
  {
   "cell_type": "code",
   "execution_count": 28,
   "metadata": {
    "collapsed": true
   },
   "outputs": [],
   "source": [
    "data4=pd.merge(data3,data_4temp3,left_on='account_id',right_index=True,how='left')\n",
    "data4=pd.merge(data4,data_4temp5,left_on='account_id',right_index=True,how='left')\n",
    "data4['r_lb']=data4[['amount','avg_balance']].apply(lambda x:x[0]/x[1],axis=1)\n",
    "data4['r_lincome']=data4[['amount','income']].apply(lambda x:x[0]/x[1],axis=1)"
   ]
  },
  {
   "cell_type": "markdown",
   "metadata": {},
   "source": [
    "建立分析模型："
   ]
  },
  {
   "cell_type": "markdown",
   "metadata": {},
   "source": [
    "样本随机抽样，建立训练集与测试集："
   ]
  },
  {
   "cell_type": "code",
   "execution_count": 29,
   "metadata": {},
   "outputs": [
    {
     "name": "stdout",
     "output_type": "stream",
     "text": [
      "训练集样本量：195\n",
      "测试集样本量：84\n"
     ]
    }
   ],
   "source": [
    "data_model=data4[data4.status!='C']\n",
    "for_predict=data4[data4.status=='C']\n",
    "train=data_model.sample(frac=0.7,random_state=1235).copy()\n",
    "test=data_model[~data_model.index.isin(train.index)].copy()\n",
    "print('训练集样本量：%i\\n测试集样本量：%i'%(len(train),len(test)))"
   ]
  },
  {
   "cell_type": "markdown",
   "metadata": {},
   "source": [
    "向前逐步法"
   ]
  },
  {
   "cell_type": "code",
   "execution_count": 30,
   "metadata": {},
   "outputs": [],
   "source": [
    "import statsmodels.formula.api as smf\n",
    "import statsmodels.api as sm\n",
    "def forward_select(data, response):\n",
    "    import statsmodels.api as sm\n",
    "    import statsmodels.formula.api as smf\n",
    "    remaining = set(data.columns)\n",
    "    remaining.remove(response)\n",
    "    selected = []\n",
    "    current_score, best_new_score = float('inf'), float('inf')\n",
    "    while remaining:\n",
    "        aic_with_candidates=[]\n",
    "        for candidate in remaining:\n",
    "            formula = \"{} ~ {}\".format(\n",
    "                response,' + '.join(selected + [candidate]))\n",
    "            aic = smf.glm(\n",
    "                formula=formula, data=data, \n",
    "                family=sm.families.Binomial(sm.families.links.logit)\n",
    "            ).fit().aic\n",
    "            aic_with_candidates.append((aic, candidate))\n",
    "        aic_with_candidates.sort(reverse=True)\n",
    "        best_new_score, best_candidate=aic_with_candidates.pop()\n",
    "        if current_score > best_new_score: \n",
    "            remaining.remove(best_candidate)\n",
    "            selected.append(best_candidate)\n",
    "            current_score = best_new_score\n",
    "            print ('aic is {},continuing!'.format(current_score))\n",
    "        else:        \n",
    "            print ('forward selection over!')\n",
    "            break\n",
    "            \n",
    "    formula = \"{} ~ {} \".format(response,' + '.join(selected))\n",
    "    print('final formula is {}'.format(formula))\n",
    "    model = smf.glm(\n",
    "        formula=formula, data=data, \n",
    "        family=sm.families.Binomial(sm.families.links.logit)\n",
    "    ).fit()\n",
    "    return(model)"
   ]
  },
  {
   "cell_type": "markdown",
   "metadata": {},
   "source": [
    "采用向前逐步法进行逻辑回归建模："
   ]
  },
  {
   "cell_type": "code",
   "execution_count": 31,
   "metadata": {},
   "outputs": [
    {
     "name": "stdout",
     "output_type": "stream",
     "text": [
      "aic is 167.4331143250464,continuing!\n",
      "aic is 135.8243585604184,continuing!\n",
      "forward selection over!\n",
      "final formula is bad_good ~ r_lb + cv_balance \n"
     ]
    },
    {
     "data": {
      "text/html": [
       "<table class=\"simpletable\">\n",
       "<tr>\n",
       "       <td></td>         <th>coef</th>     <th>std err</th>      <th>z</th>      <th>P>|z|</th>  <th>[0.025</th>    <th>0.975]</th>  \n",
       "</tr>\n",
       "<tr>\n",
       "  <th>Intercept</th>  <td>   -7.4260</td> <td>    1.125</td> <td>   -6.599</td> <td> 0.000</td> <td>   -9.632</td> <td>   -5.220</td>\n",
       "</tr>\n",
       "<tr>\n",
       "  <th>r_lb</th>       <td>    0.4391</td> <td>    0.094</td> <td>    4.651</td> <td> 0.000</td> <td>    0.254</td> <td>    0.624</td>\n",
       "</tr>\n",
       "<tr>\n",
       "  <th>cv_balance</th> <td>   10.1355</td> <td>    2.094</td> <td>    4.841</td> <td> 0.000</td> <td>    6.032</td> <td>   14.239</td>\n",
       "</tr>\n",
       "</table>"
      ],
      "text/plain": [
       "<class 'statsmodels.iolib.table.SimpleTable'>"
      ]
     },
     "execution_count": 31,
     "metadata": {},
     "output_type": "execute_result"
    }
   ],
   "source": [
    "candidates=['bad_good','A1','GDP','A4','A10','A11','A12','amount','duration','A13','A14','A15','a16','avg_balance','stdev_balance','cv_balance','income','out','r_out_in','r_lb','r_lincome']\n",
    "data_for_select=train[candidates]\n",
    "lg_m1=forward_select(data=data_for_select,response='bad_good')\n",
    "lg_m1.summary().tables[1]"
   ]
  },
  {
   "cell_type": "markdown",
   "metadata": {},
   "source": [
    "模型效果评估："
   ]
  },
  {
   "cell_type": "code",
   "execution_count": 32,
   "metadata": {},
   "outputs": [
    {
     "data": {
      "image/png": "[encoded data removed]",
      "text/plain": [
       "<Figure size 432x432 with 1 Axes>"
      ]
     },
     "metadata": {},
     "output_type": "display_data"
    }
   ],
   "source": [
    "import sklearn.metrics as metrics\n",
    "import matplotlib.pyplot as plt\n",
    "fpr, tpr, th = metrics.roc_curve(test.bad_good, lg_m1.predict(test))\n",
    "plt.figure(figsize=[6, 6])\n",
    "plt.plot(fpr, tpr, 'b--')\n",
    "plt.title('ROC curve')\n",
    "plt.show()"
   ]
  },
  {
   "cell_type": "code",
   "execution_count": 33,
   "metadata": {},
   "outputs": [
    {
     "name": "stdout",
     "output_type": "stream",
     "text": [
      "AUC = 0.8846\n"
     ]
    }
   ],
   "source": [
    "print('AUC = %.4f' %metrics.auc(fpr, tpr))"
   ]
  },
  {
   "cell_type": "markdown",
   "metadata": {},
   "source": [
    "模型应用---预测："
   ]
  },
  {
   "cell_type": "code",
   "execution_count": 34,
   "metadata": {},
   "outputs": [
    {
     "name": "stderr",
     "output_type": "stream",
     "text": [
      "C:\\Users\\Ben\\Anaconda3\\lib\\site-packages\\ipykernel_launcher.py:1: SettingWithCopyWarning: \n",
      "A value is trying to be set on a copy of a slice from a DataFrame.\n",
      "Try using .loc[row_indexer,col_indexer] = value instead\n",
      "\n",
      "See the caveats in the documentation: http://pandas.pydata.org/pandas-docs/stable/indexing.html#indexing-view-versus-copy\n",
      "  \"\"\"Entry point for launching an IPython kernel.\n"
     ]
    },
    {
     "data": {
      "text/html": [
       "<div>\n",
       "<style scoped>\n",
       "    .dataframe tbody tr th:only-of-type {\n",
       "        vertical-align: middle;\n",
       "    }\n",
       "\n",
       "    .dataframe tbody tr th {\n",
       "        vertical-align: top;\n",
       "    }\n",
       "\n",
       "    .dataframe thead th {\n",
       "        text-align: right;\n",
       "    }\n",
       "</style>\n",
       "<table border=\"1\" class=\"dataframe\">\n",
       "  <thead>\n",
       "    <tr style=\"text-align: right;\">\n",
       "      <th></th>\n",
       "      <th>account_id</th>\n",
       "      <th>prob</th>\n",
       "    </tr>\n",
       "  </thead>\n",
       "  <tbody>\n",
       "    <tr>\n",
       "      <th>23</th>\n",
       "      <td>1071</td>\n",
       "      <td>0.704914</td>\n",
       "    </tr>\n",
       "    <tr>\n",
       "      <th>30</th>\n",
       "      <td>5313</td>\n",
       "      <td>0.852249</td>\n",
       "    </tr>\n",
       "    <tr>\n",
       "      <th>38</th>\n",
       "      <td>10079</td>\n",
       "      <td>0.118128</td>\n",
       "    </tr>\n",
       "    <tr>\n",
       "      <th>39</th>\n",
       "      <td>5385</td>\n",
       "      <td>0.177591</td>\n",
       "    </tr>\n",
       "    <tr>\n",
       "      <th>42</th>\n",
       "      <td>8321</td>\n",
       "      <td>0.024302</td>\n",
       "    </tr>\n",
       "  </tbody>\n",
       "</table>\n",
       "</div>"
      ],
      "text/plain": [
       "    account_id      prob\n",
       "23        1071  0.704914\n",
       "30        5313  0.852249\n",
       "38       10079  0.118128\n",
       "39        5385  0.177591\n",
       "42        8321  0.024302"
      ]
     },
     "execution_count": 34,
     "metadata": {},
     "output_type": "execute_result"
    }
   ],
   "source": [
    "for_predict['prob']=lg_m1.predict(for_predict)\n",
    "for_predict[['account_id','prob']].head()"
   ]
  },
  {
   "cell_type": "code",
   "execution_count": null,
   "metadata": {
    "collapsed": true
   },
   "outputs": [],
   "source": []
  },
  {
   "cell_type": "code",
   "execution_count": null,
   "metadata": {
    "collapsed": true
   },
   "outputs": [],
   "source": []
  }
 ],
 "metadata": {
  "kernelspec": {
   "display_name": "Python 3",
   "language": "python",
   "name": "python3"
  },
  "language_info": {
   "codemirror_mode": {
    "name": "ipython",
    "version": 3
   },
   "file_extension": ".py",
   "mimetype": "text/x-python",
   "name": "python",
   "nbconvert_exporter": "python",
   "pygments_lexer": "ipython3",
   "version": "3.6.3"
  }
 },
 "nbformat": 4,
 "nbformat_minor": 2
}
