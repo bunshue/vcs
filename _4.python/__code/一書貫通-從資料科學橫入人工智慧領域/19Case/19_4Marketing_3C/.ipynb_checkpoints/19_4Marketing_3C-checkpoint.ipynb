{
 "cells": [
  {
   "cell_type": "markdown",
   "metadata": {},
   "source": [
    "|变量名|变量说明|\n",
    "|:--:|:--:|\n",
    "|ID\t|数据库中每个人的ID|\n",
    "|target_flag|\t是否购买过目标产品|\n",
    "|gender|\t性别|\n",
    "|education\t|教育背景|\n",
    "|home_value|\t所住房屋的价值|\n",
    "|age\t|年龄信息，以类似25-35分组表示|\n",
    "|buy_online\t|有无网购记录|\n",
    "|mosaic_group\t|根据居住区域归纳的描述消费心理的变量|\n",
    "|marital\t|婚姻状态|\n",
    "|poc\t|有无小孩|\n",
    "|occupation\t|职业信息|\n",
    "|mortgage\t|住房贷款信息|\n",
    "|home_owner\t|所住房屋是否自有|\n",
    "|region\t|所处地区信息|\n",
    "|new_car|\t购买新车的可能性（1代表最可能）|\n",
    "|home_income|\t家庭收入信息（A代表最低，L代表最高）|\n"
   ]
  },
  {
   "cell_type": "markdown",
   "metadata": {},
   "source": [
    "### 读取数据，并对数据进行初步探索"
   ]
  },
  {
   "cell_type": "code",
   "execution_count": 1,
   "metadata": {
    "collapsed": true
   },
   "outputs": [],
   "source": [
    "%matplotlib inline\n",
    "\n",
    "import pandas as pd\n",
    "import numpy as np\n",
    "import matplotlib.pyplot as plt\n",
    "\n",
    "pd.set_option('display.max_columns', None)"
   ]
  },
  {
   "cell_type": "code",
   "execution_count": 2,
   "metadata": {},
   "outputs": [
    {
     "name": "stdout",
     "output_type": "stream",
     "text": [
      "(30000, 15)\n",
      "(10000, 15)\n"
     ]
    }
   ],
   "source": [
    "train = pd.read_csv('response_data_train.csv', skipinitialspace=True)\n",
    "test = pd.read_csv('response_data_test.csv', skipinitialspace=True)\n",
    "print(train.shape)\n",
    "print(test.shape)"
   ]
  },
  {
   "cell_type": "code",
   "execution_count": 3,
   "metadata": {},
   "outputs": [
    {
     "data": {
      "text/html": [
       "<div>\n",
       "<style scoped>\n",
       "    .dataframe tbody tr th:only-of-type {\n",
       "        vertical-align: middle;\n",
       "    }\n",
       "\n",
       "    .dataframe tbody tr th {\n",
       "        vertical-align: top;\n",
       "    }\n",
       "\n",
       "    .dataframe thead th {\n",
       "        text-align: right;\n",
       "    }\n",
       "</style>\n",
       "<table border=\"1\" class=\"dataframe\">\n",
       "  <thead>\n",
       "    <tr style=\"text-align: right;\">\n",
       "      <th></th>\n",
       "      <th>target_flag</th>\n",
       "      <th>gender</th>\n",
       "      <th>education</th>\n",
       "      <th>home_value</th>\n",
       "      <th>age</th>\n",
       "      <th>buy_online</th>\n",
       "      <th>mosaic_group</th>\n",
       "      <th>marital</th>\n",
       "      <th>poc</th>\n",
       "      <th>occupation</th>\n",
       "      <th>mortgage</th>\n",
       "      <th>home_owner</th>\n",
       "      <th>region</th>\n",
       "      <th>new_car</th>\n",
       "      <th>home_income</th>\n",
       "    </tr>\n",
       "  </thead>\n",
       "  <tbody>\n",
       "    <tr>\n",
       "      <th>count</th>\n",
       "      <td>30000</td>\n",
       "      <td>30000</td>\n",
       "      <td>29455</td>\n",
       "      <td>3.000000e+04</td>\n",
       "      <td>30000</td>\n",
       "      <td>30000</td>\n",
       "      <td>30000</td>\n",
       "      <td>19519</td>\n",
       "      <td>30000</td>\n",
       "      <td>30000</td>\n",
       "      <td>30000</td>\n",
       "      <td>27461</td>\n",
       "      <td>30000</td>\n",
       "      <td>30000.000000</td>\n",
       "      <td>30000</td>\n",
       "    </tr>\n",
       "    <tr>\n",
       "      <th>unique</th>\n",
       "      <td>2</td>\n",
       "      <td>3</td>\n",
       "      <td>5</td>\n",
       "      <td>NaN</td>\n",
       "      <td>7</td>\n",
       "      <td>2</td>\n",
       "      <td>11</td>\n",
       "      <td>2</td>\n",
       "      <td>4</td>\n",
       "      <td>6</td>\n",
       "      <td>3</td>\n",
       "      <td>2</td>\n",
       "      <td>5</td>\n",
       "      <td>NaN</td>\n",
       "      <td>13</td>\n",
       "    </tr>\n",
       "    <tr>\n",
       "      <th>top</th>\n",
       "      <td>N</td>\n",
       "      <td>M</td>\n",
       "      <td>2. Some College</td>\n",
       "      <td>NaN</td>\n",
       "      <td>5_&lt;=55</td>\n",
       "      <td>Y</td>\n",
       "      <td>B</td>\n",
       "      <td>Married</td>\n",
       "      <td>Y</td>\n",
       "      <td>Professional</td>\n",
       "      <td>1Low</td>\n",
       "      <td>Owner</td>\n",
       "      <td>South</td>\n",
       "      <td>NaN</td>\n",
       "      <td>E</td>\n",
       "    </tr>\n",
       "    <tr>\n",
       "      <th>freq</th>\n",
       "      <td>15005</td>\n",
       "      <td>16522</td>\n",
       "      <td>8559</td>\n",
       "      <td>NaN</td>\n",
       "      <td>6054</td>\n",
       "      <td>20533</td>\n",
       "      <td>6251</td>\n",
       "      <td>15722</td>\n",
       "      <td>13449</td>\n",
       "      <td>11232</td>\n",
       "      <td>22365</td>\n",
       "      <td>21963</td>\n",
       "      <td>11759</td>\n",
       "      <td>NaN</td>\n",
       "      <td>6285</td>\n",
       "    </tr>\n",
       "    <tr>\n",
       "      <th>mean</th>\n",
       "      <td>NaN</td>\n",
       "      <td>NaN</td>\n",
       "      <td>NaN</td>\n",
       "      <td>3.079385e+05</td>\n",
       "      <td>NaN</td>\n",
       "      <td>NaN</td>\n",
       "      <td>NaN</td>\n",
       "      <td>NaN</td>\n",
       "      <td>NaN</td>\n",
       "      <td>NaN</td>\n",
       "      <td>NaN</td>\n",
       "      <td>NaN</td>\n",
       "      <td>NaN</td>\n",
       "      <td>3.481000</td>\n",
       "      <td>NaN</td>\n",
       "    </tr>\n",
       "    <tr>\n",
       "      <th>std</th>\n",
       "      <td>NaN</td>\n",
       "      <td>NaN</td>\n",
       "      <td>NaN</td>\n",
       "      <td>4.255385e+05</td>\n",
       "      <td>NaN</td>\n",
       "      <td>NaN</td>\n",
       "      <td>NaN</td>\n",
       "      <td>NaN</td>\n",
       "      <td>NaN</td>\n",
       "      <td>NaN</td>\n",
       "      <td>NaN</td>\n",
       "      <td>NaN</td>\n",
       "      <td>NaN</td>\n",
       "      <td>2.573116</td>\n",
       "      <td>NaN</td>\n",
       "    </tr>\n",
       "    <tr>\n",
       "      <th>min</th>\n",
       "      <td>NaN</td>\n",
       "      <td>NaN</td>\n",
       "      <td>NaN</td>\n",
       "      <td>0.000000e+00</td>\n",
       "      <td>NaN</td>\n",
       "      <td>NaN</td>\n",
       "      <td>NaN</td>\n",
       "      <td>NaN</td>\n",
       "      <td>NaN</td>\n",
       "      <td>NaN</td>\n",
       "      <td>NaN</td>\n",
       "      <td>NaN</td>\n",
       "      <td>NaN</td>\n",
       "      <td>0.000000</td>\n",
       "      <td>NaN</td>\n",
       "    </tr>\n",
       "    <tr>\n",
       "      <th>25%</th>\n",
       "      <td>NaN</td>\n",
       "      <td>NaN</td>\n",
       "      <td>NaN</td>\n",
       "      <td>8.163175e+04</td>\n",
       "      <td>NaN</td>\n",
       "      <td>NaN</td>\n",
       "      <td>NaN</td>\n",
       "      <td>NaN</td>\n",
       "      <td>NaN</td>\n",
       "      <td>NaN</td>\n",
       "      <td>NaN</td>\n",
       "      <td>NaN</td>\n",
       "      <td>NaN</td>\n",
       "      <td>1.000000</td>\n",
       "      <td>NaN</td>\n",
       "    </tr>\n",
       "    <tr>\n",
       "      <th>50%</th>\n",
       "      <td>NaN</td>\n",
       "      <td>NaN</td>\n",
       "      <td>NaN</td>\n",
       "      <td>2.146915e+05</td>\n",
       "      <td>NaN</td>\n",
       "      <td>NaN</td>\n",
       "      <td>NaN</td>\n",
       "      <td>NaN</td>\n",
       "      <td>NaN</td>\n",
       "      <td>NaN</td>\n",
       "      <td>NaN</td>\n",
       "      <td>NaN</td>\n",
       "      <td>NaN</td>\n",
       "      <td>3.000000</td>\n",
       "      <td>NaN</td>\n",
       "    </tr>\n",
       "    <tr>\n",
       "      <th>75%</th>\n",
       "      <td>NaN</td>\n",
       "      <td>NaN</td>\n",
       "      <td>NaN</td>\n",
       "      <td>3.945250e+05</td>\n",
       "      <td>NaN</td>\n",
       "      <td>NaN</td>\n",
       "      <td>NaN</td>\n",
       "      <td>NaN</td>\n",
       "      <td>NaN</td>\n",
       "      <td>NaN</td>\n",
       "      <td>NaN</td>\n",
       "      <td>NaN</td>\n",
       "      <td>NaN</td>\n",
       "      <td>5.000000</td>\n",
       "      <td>NaN</td>\n",
       "    </tr>\n",
       "    <tr>\n",
       "      <th>max</th>\n",
       "      <td>NaN</td>\n",
       "      <td>NaN</td>\n",
       "      <td>NaN</td>\n",
       "      <td>9.999999e+06</td>\n",
       "      <td>NaN</td>\n",
       "      <td>NaN</td>\n",
       "      <td>NaN</td>\n",
       "      <td>NaN</td>\n",
       "      <td>NaN</td>\n",
       "      <td>NaN</td>\n",
       "      <td>NaN</td>\n",
       "      <td>NaN</td>\n",
       "      <td>NaN</td>\n",
       "      <td>9.000000</td>\n",
       "      <td>NaN</td>\n",
       "    </tr>\n",
       "  </tbody>\n",
       "</table>\n",
       "</div>"
      ],
      "text/plain": [
       "       target_flag gender        education    home_value     age buy_online  \\\n",
       "count        30000  30000            29455  3.000000e+04   30000      30000   \n",
       "unique           2      3                5           NaN       7          2   \n",
       "top              N      M  2. Some College           NaN  5_<=55          Y   \n",
       "freq         15005  16522             8559           NaN    6054      20533   \n",
       "mean           NaN    NaN              NaN  3.079385e+05     NaN        NaN   \n",
       "std            NaN    NaN              NaN  4.255385e+05     NaN        NaN   \n",
       "min            NaN    NaN              NaN  0.000000e+00     NaN        NaN   \n",
       "25%            NaN    NaN              NaN  8.163175e+04     NaN        NaN   \n",
       "50%            NaN    NaN              NaN  2.146915e+05     NaN        NaN   \n",
       "75%            NaN    NaN              NaN  3.945250e+05     NaN        NaN   \n",
       "max            NaN    NaN              NaN  9.999999e+06     NaN        NaN   \n",
       "\n",
       "       mosaic_group  marital    poc    occupation mortgage home_owner region  \\\n",
       "count         30000    19519  30000         30000    30000      27461  30000   \n",
       "unique           11        2      4             6        3          2      5   \n",
       "top               B  Married      Y  Professional     1Low      Owner  South   \n",
       "freq           6251    15722  13449         11232    22365      21963  11759   \n",
       "mean            NaN      NaN    NaN           NaN      NaN        NaN    NaN   \n",
       "std             NaN      NaN    NaN           NaN      NaN        NaN    NaN   \n",
       "min             NaN      NaN    NaN           NaN      NaN        NaN    NaN   \n",
       "25%             NaN      NaN    NaN           NaN      NaN        NaN    NaN   \n",
       "50%             NaN      NaN    NaN           NaN      NaN        NaN    NaN   \n",
       "75%             NaN      NaN    NaN           NaN      NaN        NaN    NaN   \n",
       "max             NaN      NaN    NaN           NaN      NaN        NaN    NaN   \n",
       "\n",
       "             new_car home_income  \n",
       "count   30000.000000       30000  \n",
       "unique           NaN          13  \n",
       "top              NaN           E  \n",
       "freq             NaN        6285  \n",
       "mean        3.481000         NaN  \n",
       "std         2.573116         NaN  \n",
       "min         0.000000         NaN  \n",
       "25%         1.000000         NaN  \n",
       "50%         3.000000         NaN  \n",
       "75%         5.000000         NaN  \n",
       "max         9.000000         NaN  "
      ]
     },
     "execution_count": 3,
     "metadata": {},
     "output_type": "execute_result"
    }
   ],
   "source": [
    "train.describe(include='all')"
   ]
  },
  {
   "cell_type": "code",
   "execution_count": 4,
   "metadata": {},
   "outputs": [],
   "source": [
    "cols = train.columns.tolist()\n",
    "x_c = ['home_value', 'new_car']\n",
    "x_d = list(set(cols) - set(x_c)); x_d.remove('target_flag')"
   ]
  },
  {
   "cell_type": "markdown",
   "metadata": {},
   "source": [
    "### 数据预处理"
   ]
  },
  {
   "cell_type": "markdown",
   "metadata": {},
   "source": [
    "编码同时填补缺失值"
   ]
  },
  {
   "cell_type": "code",
   "execution_count": 5,
   "metadata": {},
   "outputs": [],
   "source": [
    "def label_encoder(series):\n",
    "    cat = series.value_counts(dropna=False)\n",
    "    len_series = len(series)\n",
    "    return {k:v for k, v in zip(cat.index, range(len_series))}"
   ]
  },
  {
   "cell_type": "code",
   "execution_count": 6,
   "metadata": {},
   "outputs": [],
   "source": [
    "for col in x_d:\n",
    "    encoder = label_encoder(train[col])\n",
    "    train[col].replace(encoder, inplace=True)  # Encode train\n",
    "    test[col].replace(encoder, inplace=True)  # Encode test"
   ]
  },
  {
   "cell_type": "code",
   "execution_count": 7,
   "metadata": {},
   "outputs": [],
   "source": [
    "encoder = label_encoder(train.target_flag)\n",
    "train.target_flag.replace(encoder, inplace=True)\n",
    "test.target_flag.replace(encoder, inplace=True)"
   ]
  },
  {
   "cell_type": "markdown",
   "metadata": {},
   "source": [
    "WOE编码；sklearn中的决策树算法默认所有输入变量作为连续变量处理，因此对于分类变量，需要进行WOE转换。鉴于此，可以将所有变量统一作WOE转换"
   ]
  },
  {
   "cell_type": "markdown",
   "metadata": {},
   "source": [
    "Jupyter中引入包，只要包放在同一个文件加下即可"
   ]
  },
  {
   "cell_type": "code",
   "execution_count": 9,
   "metadata": {},
   "outputs": [
    {
     "data": {
      "text/html": [
       "<div>\n",
       "<style scoped>\n",
       "    .dataframe tbody tr th:only-of-type {\n",
       "        vertical-align: middle;\n",
       "    }\n",
       "\n",
       "    .dataframe tbody tr th {\n",
       "        vertical-align: top;\n",
       "    }\n",
       "\n",
       "    .dataframe thead th {\n",
       "        text-align: right;\n",
       "    }\n",
       "</style>\n",
       "<table border=\"1\" class=\"dataframe\">\n",
       "  <thead>\n",
       "    <tr style=\"text-align: right;\">\n",
       "      <th></th>\n",
       "      <th>target_flag</th>\n",
       "      <th>gender</th>\n",
       "      <th>education</th>\n",
       "      <th>home_value</th>\n",
       "      <th>age</th>\n",
       "      <th>buy_online</th>\n",
       "      <th>mosaic_group</th>\n",
       "      <th>marital</th>\n",
       "      <th>poc</th>\n",
       "      <th>occupation</th>\n",
       "      <th>mortgage</th>\n",
       "      <th>home_owner</th>\n",
       "      <th>region</th>\n",
       "      <th>new_car</th>\n",
       "      <th>home_income</th>\n",
       "    </tr>\n",
       "  </thead>\n",
       "  <tbody>\n",
       "    <tr>\n",
       "      <th>0</th>\n",
       "      <td>1</td>\n",
       "      <td>0.388459</td>\n",
       "      <td>-0.569207</td>\n",
       "      <td>166880</td>\n",
       "      <td>-0.670878</td>\n",
       "      <td>0.289713</td>\n",
       "      <td>-0.766360</td>\n",
       "      <td>-0.423279</td>\n",
       "      <td>0.024719</td>\n",
       "      <td>-0.753883</td>\n",
       "      <td>-0.262410</td>\n",
       "      <td>-0.524736</td>\n",
       "      <td>0.006279</td>\n",
       "      <td>3</td>\n",
       "      <td>-0.867032</td>\n",
       "    </tr>\n",
       "    <tr>\n",
       "      <th>1</th>\n",
       "      <td>0</td>\n",
       "      <td>0.388459</td>\n",
       "      <td>0.513493</td>\n",
       "      <td>108231</td>\n",
       "      <td>0.224615</td>\n",
       "      <td>0.289713</td>\n",
       "      <td>-0.469229</td>\n",
       "      <td>0.321675</td>\n",
       "      <td>0.111867</td>\n",
       "      <td>-0.753883</td>\n",
       "      <td>-0.262410</td>\n",
       "      <td>-0.524736</td>\n",
       "      <td>0.032415</td>\n",
       "      <td>8</td>\n",
       "      <td>-0.072238</td>\n",
       "    </tr>\n",
       "    <tr>\n",
       "      <th>2</th>\n",
       "      <td>1</td>\n",
       "      <td>0.388459</td>\n",
       "      <td>-0.028077</td>\n",
       "      <td>430877</td>\n",
       "      <td>0.508850</td>\n",
       "      <td>0.289713</td>\n",
       "      <td>0.755544</td>\n",
       "      <td>0.321675</td>\n",
       "      <td>0.111867</td>\n",
       "      <td>0.602608</td>\n",
       "      <td>1.002492</td>\n",
       "      <td>0.157707</td>\n",
       "      <td>-0.147533</td>\n",
       "      <td>1</td>\n",
       "      <td>0.367741</td>\n",
       "    </tr>\n",
       "    <tr>\n",
       "      <th>3</th>\n",
       "      <td>0</td>\n",
       "      <td>-0.443879</td>\n",
       "      <td>0.654383</td>\n",
       "      <td>1348439</td>\n",
       "      <td>-0.028259</td>\n",
       "      <td>0.289713</td>\n",
       "      <td>0.755544</td>\n",
       "      <td>0.321675</td>\n",
       "      <td>0.111867</td>\n",
       "      <td>0.602608</td>\n",
       "      <td>-0.262410</td>\n",
       "      <td>0.157707</td>\n",
       "      <td>0.087040</td>\n",
       "      <td>2</td>\n",
       "      <td>-0.575956</td>\n",
       "    </tr>\n",
       "    <tr>\n",
       "      <th>4</th>\n",
       "      <td>1</td>\n",
       "      <td>0.388459</td>\n",
       "      <td>-0.028077</td>\n",
       "      <td>245795</td>\n",
       "      <td>0.396473</td>\n",
       "      <td>-0.645624</td>\n",
       "      <td>0.755544</td>\n",
       "      <td>0.321675</td>\n",
       "      <td>0.111867</td>\n",
       "      <td>-0.249091</td>\n",
       "      <td>0.599796</td>\n",
       "      <td>0.157707</td>\n",
       "      <td>0.006279</td>\n",
       "      <td>2</td>\n",
       "      <td>0.367741</td>\n",
       "    </tr>\n",
       "  </tbody>\n",
       "</table>\n",
       "</div>"
      ],
      "text/plain": [
       "   target_flag    gender  education  home_value       age  buy_online  \\\n",
       "0            1  0.388459  -0.569207      166880 -0.670878    0.289713   \n",
       "1            0  0.388459   0.513493      108231  0.224615    0.289713   \n",
       "2            1  0.388459  -0.028077      430877  0.508850    0.289713   \n",
       "3            0 -0.443879   0.654383     1348439 -0.028259    0.289713   \n",
       "4            1  0.388459  -0.028077      245795  0.396473   -0.645624   \n",
       "\n",
       "   mosaic_group   marital       poc  occupation  mortgage  home_owner  \\\n",
       "0     -0.766360 -0.423279  0.024719   -0.753883 -0.262410   -0.524736   \n",
       "1     -0.469229  0.321675  0.111867   -0.753883 -0.262410   -0.524736   \n",
       "2      0.755544  0.321675  0.111867    0.602608  1.002492    0.157707   \n",
       "3      0.755544  0.321675  0.111867    0.602608 -0.262410    0.157707   \n",
       "4      0.755544  0.321675  0.111867   -0.249091  0.599796    0.157707   \n",
       "\n",
       "     region  new_car  home_income  \n",
       "0  0.006279        3    -0.867032  \n",
       "1  0.032415        8    -0.072238  \n",
       "2 -0.147533        1     0.367741  \n",
       "3  0.087040        2    -0.575956  \n",
       "4  0.006279        2     0.367741  "
      ]
     },
     "execution_count": 9,
     "metadata": {},
     "output_type": "execute_result"
    }
   ],
   "source": [
    "from woe import WoE\n",
    "\n",
    "for col in x_d:\n",
    "    woe = WoE(v_type='d', t_type='b')\n",
    "    woe.fit(train[col], train.target_flag)\n",
    "    train[col] = woe.transform(train[col])['woe']\n",
    "    test[col] = woe.transform(test[col])['woe']\n",
    "\n",
    "test.head()"
   ]
  },
  {
   "cell_type": "markdown",
   "metadata": {},
   "source": [
    "### 建模"
   ]
  },
  {
   "cell_type": "markdown",
   "metadata": {},
   "source": [
    "通过搜索参数网格，选择模型的最优超参"
   ]
  },
  {
   "cell_type": "code",
   "execution_count": 10,
   "metadata": {},
   "outputs": [
    {
     "name": "stderr",
     "output_type": "stream",
     "text": [
      "C:\\Users\\Ben\\Anaconda3\\lib\\site-packages\\ipykernel_launcher.py:8: DeprecationWarning: \n",
      ".ix is deprecated. Please use\n",
      ".loc for label based indexing or\n",
      ".iloc for positional indexing\n",
      "\n",
      "See the documentation here:\n",
      "http://pandas.pydata.org/pandas-docs/stable/indexing.html#ix-indexer-is-deprecated\n",
      "  \n"
     ]
    },
    {
     "name": "stdout",
     "output_type": "stream",
     "text": [
      "best_score:0.7405\n",
      "best_params: {'max_leaf_nodes': 56, 'min_samples_split': 50}\n"
     ]
    }
   ],
   "source": [
    "from sklearn.tree import DecisionTreeClassifier\n",
    "from sklearn.model_selection import GridSearchCV\n",
    "\n",
    "dt = DecisionTreeClassifier()\n",
    "grid = {'max_leaf_nodes':np.arange(32, 64, 6),\n",
    "        'min_samples_split':np.arange(50, 301, 50)}\n",
    "cv = GridSearchCV(dt, grid, scoring='roc_auc', cv=4, n_jobs=-1)\n",
    "cv.fit(train.ix[:, 1:], train['target_flag'])\n",
    "\n",
    "print('best_score:%2.4f'  %cv.best_score_)\n",
    "print('best_params: %s' %cv.best_params_)"
   ]
  },
  {
   "cell_type": "code",
   "execution_count": 12,
   "metadata": {},
   "outputs": [
    {
     "name": "stdout",
     "output_type": "stream",
     "text": [
      "0.7376618176618177\n"
     ]
    },
    {
     "name": "stderr",
     "output_type": "stream",
     "text": [
      "C:\\Users\\Ben\\Anaconda3\\lib\\site-packages\\ipykernel_launcher.py:3: DeprecationWarning: \n",
      ".ix is deprecated. Please use\n",
      ".loc for label based indexing or\n",
      ".iloc for positional indexing\n",
      "\n",
      "See the documentation here:\n",
      "http://pandas.pydata.org/pandas-docs/stable/indexing.html#ix-indexer-is-deprecated\n",
      "  This is separate from the ipykernel package so we can avoid doing imports until\n"
     ]
    }
   ],
   "source": [
    "from sklearn.metrics import roc_auc_score, roc_curve\n",
    "\n",
    "test_p = cv.predict_proba(test.ix[:, 1:])\n",
    "print(roc_auc_score(test.target_flag, test_p[:, 1]))"
   ]
  },
  {
   "cell_type": "markdown",
   "metadata": {},
   "source": [
    "### 通过筛选变量可以改善模型过拟合的情况"
   ]
  },
  {
   "cell_type": "markdown",
   "metadata": {},
   "source": [
    "决策树生长中，每一步都会计算变量的重要性，最终能够汇总各变量对整个模型的重要性。因此自然会想到利用决策树本身计算的变量重要性进行变量筛选"
   ]
  },
  {
   "cell_type": "code",
   "execution_count": 13,
   "metadata": {},
   "outputs": [
    {
     "name": "stderr",
     "output_type": "stream",
     "text": [
      "C:\\Users\\Ben\\Anaconda3\\lib\\site-packages\\ipykernel_launcher.py:2: DeprecationWarning: \n",
      ".ix is deprecated. Please use\n",
      ".loc for label based indexing or\n",
      ".iloc for positional indexing\n",
      "\n",
      "See the documentation here:\n",
      "http://pandas.pydata.org/pandas-docs/stable/indexing.html#ix-indexer-is-deprecated\n",
      "  \n"
     ]
    },
    {
     "data": {
      "text/plain": [
       "[('gender', 0.17690022113950998),\n",
       " ('education', 0.10046755505360414),\n",
       " ('home_value', 0.075251210069869),\n",
       " ('age', 0.13261235794759016),\n",
       " ('buy_online', 0.0739696987615009),\n",
       " ('mosaic_group', 0.33670508714260966),\n",
       " ('marital', 0.030026959065899927),\n",
       " ('poc', 0.0),\n",
       " ('occupation', 0.035910899584784925),\n",
       " ('mortgage', 0.01803367198613054),\n",
       " ('home_owner', 0.0),\n",
       " ('region', 0.002560147359173822),\n",
       " ('new_car', 0.009602062467822884),\n",
       " ('home_income', 0.007960129421504128)]"
      ]
     },
     "execution_count": 13,
     "metadata": {},
     "output_type": "execute_result"
    }
   ],
   "source": [
    "imp = cv.best_estimator_.feature_importances_\n",
    "list(zip(train.ix[:, 1:].columns, imp))"
   ]
  },
  {
   "cell_type": "markdown",
   "metadata": {},
   "source": [
    "去除部分重要性不高的变量"
   ]
  },
  {
   "cell_type": "code",
   "execution_count": 14,
   "metadata": {},
   "outputs": [],
   "source": [
    "train= train.drop(\n",
    "    ['poc', 'home_owner', 'mortgage', 'region', 'home_income'], axis=1)\n",
    "test = test.drop(\n",
    "    ['poc', 'home_owner', 'mortgage', 'region', 'home_income'], axis=1)"
   ]
  },
  {
   "cell_type": "markdown",
   "metadata": {},
   "source": [
    "重新拟合模型"
   ]
  },
  {
   "cell_type": "code",
   "execution_count": 15,
   "metadata": {},
   "outputs": [
    {
     "name": "stderr",
     "output_type": "stream",
     "text": [
      "C:\\Users\\Ben\\Anaconda3\\lib\\site-packages\\ipykernel_launcher.py:1: DeprecationWarning: \n",
      ".ix is deprecated. Please use\n",
      ".loc for label based indexing or\n",
      ".iloc for positional indexing\n",
      "\n",
      "See the documentation here:\n",
      "http://pandas.pydata.org/pandas-docs/stable/indexing.html#ix-indexer-is-deprecated\n",
      "  \"\"\"Entry point for launching an IPython kernel.\n"
     ]
    },
    {
     "name": "stdout",
     "output_type": "stream",
     "text": [
      "best_score:0.7400\n",
      "best_params: {'max_leaf_nodes': 56, 'min_samples_split': 300}\n"
     ]
    }
   ],
   "source": [
    "cv.fit(train.ix[:, 1:], train['target_flag'])\n",
    "\n",
    "print('best_score:%2.4f'  %cv.best_score_)\n",
    "print('best_params: %s' %cv.best_params_)"
   ]
  },
  {
   "cell_type": "markdown",
   "metadata": {},
   "source": [
    "当去除了部分变量后，模型的表现有所提升"
   ]
  },
  {
   "cell_type": "code",
   "execution_count": 16,
   "metadata": {},
   "outputs": [
    {
     "name": "stdout",
     "output_type": "stream",
     "text": [
      "0.7397821997821997\n"
     ]
    },
    {
     "name": "stderr",
     "output_type": "stream",
     "text": [
      "C:\\Users\\Ben\\Anaconda3\\lib\\site-packages\\ipykernel_launcher.py:1: DeprecationWarning: \n",
      ".ix is deprecated. Please use\n",
      ".loc for label based indexing or\n",
      ".iloc for positional indexing\n",
      "\n",
      "See the documentation here:\n",
      "http://pandas.pydata.org/pandas-docs/stable/indexing.html#ix-indexer-is-deprecated\n",
      "  \"\"\"Entry point for launching an IPython kernel.\n",
      "C:\\Users\\Ben\\Anaconda3\\lib\\site-packages\\ipykernel_launcher.py:2: DeprecationWarning: \n",
      ".ix is deprecated. Please use\n",
      ".loc for label based indexing or\n",
      ".iloc for positional indexing\n",
      "\n",
      "See the documentation here:\n",
      "http://pandas.pydata.org/pandas-docs/stable/indexing.html#ix-indexer-is-deprecated\n",
      "  \n"
     ]
    }
   ],
   "source": [
    "train_p = cv.predict_proba(train.ix[:, 1:])\n",
    "test_p = cv.predict_proba(test.ix[:, 1:])\n",
    "print(roc_auc_score(test.target_flag, test_p[:, 1]))"
   ]
  },
  {
   "cell_type": "markdown",
   "metadata": {},
   "source": [
    "可以通过绘制ROC曲线来观察模型过拟合的情况"
   ]
  },
  {
   "cell_type": "code",
   "execution_count": 16,
   "metadata": {},
   "outputs": [
    {
     "data": {
      "image/png": "[encoded data removed]",
      "text/plain": [
       "<matplotlib.figure.Figure at 0x12790b70>"
      ]
     },
     "metadata": {},
     "output_type": "display_data"
    }
   ],
   "source": [
    "fpr_test, tpr_test, th_test = roc_curve(test.target_flag, test_p[:, 1])\n",
    "\n",
    "fpr_train, tpr_train, th_train = roc_curve(train.target_flag, train_p[:, 1])\n",
    "\n",
    "plt.figure(figsize=[4, 4])\n",
    "plt.plot(fpr_test, tpr_test, 'b--')\n",
    "plt.plot(fpr_train, tpr_train, 'r-')\n",
    "plt.title('ROC curve')\n",
    "plt.show()"
   ]
  },
  {
   "cell_type": "markdown",
   "metadata": {},
   "source": [
    "可视化"
   ]
  },
  {
   "cell_type": "code",
   "execution_count": 18,
   "metadata": {},
   "outputs": [
    {
     "data": {
      "image/png": "[encoded data removed]",
      "text/plain": [
       "<IPython.core.display.Image object>"
      ]
     },
     "execution_count": 18,
     "metadata": {},
     "output_type": "execute_result"
    }
   ],
   "source": [
    "import pydotplus\n",
    "from IPython.display import Image\n",
    "import sklearn.tree as tree\n",
    "\n",
    "dot_data = tree.export_graphviz(\n",
    "    cv.best_estimator_, \n",
    "    out_file=None, \n",
    "    feature_names=train.columns[1:],\n",
    "    max_depth=2,\n",
    "    class_names=['0','1'],\n",
    "    filled=True\n",
    ") \n",
    "            \n",
    "graph = pydotplus.graph_from_dot_data(dot_data)  \n",
    "Image(graph.create_png()) \n",
    "# graph.write_pdf('response_decision_tree.pdf')"
   ]
  },
  {
   "cell_type": "code",
   "execution_count": 19,
   "metadata": {},
   "outputs": [],
   "source": [
    "from sklearn.tree import _tree\n",
    "\n",
    "def tree_to_code(tree, feature_names):\n",
    "    tree_ = tree.tree_\n",
    "    feature_name = [\n",
    "        feature_names[i] if i != _tree.TREE_UNDEFINED else \"undefined!\"\n",
    "        for i in tree_.feature\n",
    "    ]\n",
    "    print(\"def tree({}):\".format(\", \".join(feature_names)))\n",
    "\n",
    "    def recurse(node, depth):\n",
    "        indent = \"  \" * depth\n",
    "        if tree_.feature[node] != _tree.TREE_UNDEFINED:\n",
    "            name = feature_name[node]\n",
    "            threshold = tree_.threshold[node]\n",
    "            print(\"{}if {} <= {}:\".format(indent, name, threshold))\n",
    "            recurse(tree_.children_left[node], depth + 1)\n",
    "            print(\"{}else:  # if {} > {}\".format(indent, name, threshold))\n",
    "            recurse(tree_.children_right[node], depth + 1)\n",
    "        else:\n",
    "            print(\"{}return {}\".format(indent, tree_.value[node]))\n",
    "\n",
    "    recurse(0, 1)"
   ]
  },
  {
   "cell_type": "code",
   "execution_count": 22,
   "metadata": {
    "scrolled": true
   },
   "outputs": [
    {
     "name": "stdout",
     "output_type": "stream",
     "text": [
      "def tree(gender, education, home_value, age, buy_online, mosaic_group, marital, occupation, new_car):\n",
      "  if mosaic_group <= -0.22991183400154114:\n",
      "    if education <= -0.2986419200897217:\n",
      "      if buy_online <= -0.1779557317495346:\n",
      "        if gender <= -0.02771008014678955:\n",
      "          return [[1338.  181.]]\n",
      "        else:  # if gender > -0.02771008014678955\n",
      "          if home_value <= 157472.0:\n",
      "            return [[765. 169.]]\n",
      "          else:  # if home_value > 157472.0\n",
      "            if occupation <= 0.33799272775650024:\n",
      "              return [[193.  77.]]\n",
      "            else:  # if occupation > 0.33799272775650024\n",
      "              return [[14. 21.]]\n",
      "      else:  # if buy_online > -0.1779557317495346\n",
      "        if age <= 0.09817798435688019:\n",
      "          if gender <= -0.02771008014678955:\n",
      "            return [[729. 180.]]\n",
      "          else:  # if gender > -0.02771008014678955\n",
      "            if home_value <= 102020.0:\n",
      "              return [[252.  87.]]\n",
      "            else:  # if home_value > 102020.0\n",
      "              return [[223. 142.]]\n",
      "        else:  # if age > 0.09817798435688019\n",
      "          if home_value <= 209607.0:\n",
      "            return [[610. 357.]]\n",
      "          else:  # if home_value > 209607.0\n",
      "            return [[ 87. 112.]]\n",
      "    else:  # if education > -0.2986419200897217\n",
      "      if buy_online <= -0.1779557317495346:\n",
      "        if gender <= -0.02771008014678955:\n",
      "          return [[887. 265.]]\n",
      "        else:  # if gender > -0.02771008014678955\n",
      "          if occupation <= 0.33799272775650024:\n",
      "            if home_value <= 110806.5:\n",
      "              if education <= 0.1473049521446228:\n",
      "                return [[251.  68.]]\n",
      "              else:  # if education > 0.1473049521446228\n",
      "                return [[106.  65.]]\n",
      "            else:  # if home_value > 110806.5\n",
      "              return [[250. 175.]]\n",
      "          else:  # if occupation > 0.33799272775650024\n",
      "            return [[122. 174.]]\n",
      "      else:  # if buy_online > -0.1779557317495346\n",
      "        if age <= -0.580400824546814:\n",
      "          if gender <= -0.02771008014678955:\n",
      "            return [[341. 112.]]\n",
      "          else:  # if gender > -0.02771008014678955\n",
      "            return [[295. 263.]]\n",
      "        else:  # if age > -0.580400824546814\n",
      "          if marital <= -0.2965794801712036:\n",
      "            if occupation <= -0.08785676211118698:\n",
      "              if age <= 0.09817798435688019:\n",
      "                return [[188.  77.]]\n",
      "              else:  # if age > 0.09817798435688019\n",
      "                return [[165. 133.]]\n",
      "            else:  # if occupation > -0.08785676211118698\n",
      "              if gender <= -0.02771008014678955:\n",
      "                return [[134. 112.]]\n",
      "              else:  # if gender > -0.02771008014678955\n",
      "                return [[ 83. 139.]]\n",
      "          else:  # if marital > -0.2965794801712036\n",
      "            if new_car <= 5.5:\n",
      "              if gender <= -0.02771008014678955:\n",
      "                return [[259. 334.]]\n",
      "              else:  # if gender > -0.02771008014678955\n",
      "                return [[249. 538.]]\n",
      "            else:  # if new_car > 5.5\n",
      "              return [[291. 278.]]\n",
      "  else:  # if mosaic_group > -0.22991183400154114\n",
      "    if gender <= -0.02771008014678955:\n",
      "      if age <= 0.09817798435688019:\n",
      "        if buy_online <= -0.1779557317495346:\n",
      "          if mosaic_group <= 0.17433977127075195:\n",
      "            return [[405. 100.]]\n",
      "          else:  # if mosaic_group > 0.17433977127075195\n",
      "            if occupation <= -0.3222179114818573:\n",
      "              return [[87. 18.]]\n",
      "            else:  # if occupation > -0.3222179114818573\n",
      "              return [[279. 155.]]\n",
      "        else:  # if buy_online > -0.1779557317495346\n",
      "          if marital <= -0.2965794801712036:\n",
      "            return [[821. 404.]]\n",
      "          else:  # if marital > -0.2965794801712036\n",
      "            if age <= -0.580400824546814:\n",
      "              return [[153.  79.]]\n",
      "            else:  # if age > -0.580400824546814\n",
      "              return [[305. 306.]]\n",
      "      else:  # if age > 0.09817798435688019\n",
      "        if buy_online <= -0.1779557317495346:\n",
      "          if home_value <= 125104.5:\n",
      "            return [[137.  58.]]\n",
      "          else:  # if home_value > 125104.5\n",
      "            if age <= 0.45266157388687134:\n",
      "              return [[249. 190.]]\n",
      "            else:  # if age > 0.45266157388687134\n",
      "              return [[ 99. 133.]]\n",
      "        else:  # if buy_online > -0.1779557317495346\n",
      "          if home_value <= 290463.0:\n",
      "            if occupation <= -0.3222179114818573:\n",
      "              return [[118.  81.]]\n",
      "            else:  # if occupation > -0.3222179114818573\n",
      "              if new_car <= 6.5:\n",
      "                return [[539. 722.]]\n",
      "              else:  # if new_car > 6.5\n",
      "                return [[54. 33.]]\n",
      "          else:  # if home_value > 290463.0\n",
      "            return [[ 663. 1245.]]\n",
      "    else:  # if gender > -0.02771008014678955\n",
      "      if home_value <= 209333.0:\n",
      "        if occupation <= -0.08785676211118698:\n",
      "          if age <= -0.2590912878513336:\n",
      "            return [[426. 259.]]\n",
      "          else:  # if age > -0.2590912878513336\n",
      "            if new_car <= 5.5:\n",
      "              if buy_online <= -0.1779557317495346:\n",
      "                return [[132. 128.]]\n",
      "              else:  # if buy_online > -0.1779557317495346\n",
      "                if age <= 0.31054380536079407:\n",
      "                  return [[128. 153.]]\n",
      "                else:  # if age > 0.31054380536079407\n",
      "                  return [[117. 252.]]\n",
      "            else:  # if new_car > 5.5\n",
      "              return [[154. 109.]]\n",
      "        else:  # if occupation > -0.08785676211118698\n",
      "          if education <= 0.1473049521446228:\n",
      "            if age <= 0.31054380536079407:\n",
      "              return [[134. 127.]]\n",
      "            else:  # if age > 0.31054380536079407\n",
      "              return [[ 69. 142.]]\n",
      "          else:  # if education > 0.1473049521446228\n",
      "            return [[144. 421.]]\n",
      "      else:  # if home_value > 209333.0\n",
      "        if age <= -0.2590912878513336:\n",
      "          if education <= 0.1473049521446228:\n",
      "            if mosaic_group <= 0.17433977127075195:\n",
      "              return [[149. 109.]]\n",
      "            else:  # if mosaic_group > 0.17433977127075195\n",
      "              return [[280. 402.]]\n",
      "          else:  # if education > 0.1473049521446228\n",
      "            if education <= 0.41808974742889404:\n",
      "              return [[ 15. 122.]]\n",
      "            else:  # if education > 0.41808974742889404\n",
      "              return [[273. 565.]]\n",
      "        else:  # if age > -0.2590912878513336\n",
      "          if marital <= -0.2965794801712036:\n",
      "            if occupation <= -0.3222179114818573:\n",
      "              return [[68. 76.]]\n",
      "            else:  # if occupation > -0.3222179114818573\n",
      "              return [[281. 625.]]\n",
      "          else:  # if marital > -0.2965794801712036\n",
      "            if education <= -0.2986419200897217:\n",
      "              if new_car <= 3.5:\n",
      "                return [[138. 403.]]\n",
      "              else:  # if new_car > 3.5\n",
      "                return [[59. 67.]]\n",
      "            else:  # if education > -0.2986419200897217\n",
      "              if home_value <= 375504.5:\n",
      "                if buy_online <= -0.1779557317495346:\n",
      "                  return [[ 91. 195.]]\n",
      "                else:  # if buy_online > -0.1779557317495346\n",
      "                  return [[ 251. 1092.]]\n",
      "              else:  # if home_value > 375504.5\n",
      "                if mosaic_group <= 0.4319630265235901:\n",
      "                  return [[ 66. 193.]]\n",
      "                else:  # if mosaic_group > 0.4319630265235901\n",
      "                  return [[ 289. 1972.]]\n"
     ]
    }
   ],
   "source": [
    "tree_to_code(cv.best_estimator_, train.columns[1:])"
   ]
  },
  {
   "cell_type": "markdown",
   "metadata": {},
   "source": [
    "使用组合方法"
   ]
  },
  {
   "cell_type": "code",
   "execution_count": 23,
   "metadata": {},
   "outputs": [
    {
     "name": "stdout",
     "output_type": "stream",
     "text": [
      "0.7706014100668234\n",
      "0.7576385376385377\n"
     ]
    }
   ],
   "source": [
    "from sklearn.ensemble import GradientBoostingClassifier\n",
    "\n",
    "gbc = GradientBoostingClassifier()\n",
    "gbc.fit(train.ix[:, 1:], train.target_flag)\n",
    "gbc_train_p = gbc.predict_proba(train.ix[:, 1:])\n",
    "gbc_test_p = gbc.predict_proba(test.ix[:, 1:])\n",
    "\n",
    "print(roc_auc_score(train.target_flag, gbc_train_p[:, 1]))\n",
    "print(roc_auc_score(test.target_flag, gbc_test_p[:, 1]))"
   ]
  }
 ],
 "metadata": {
  "anaconda-cloud": {},
  "kernelspec": {
   "display_name": "Python 3",
   "language": "python",
   "name": "python3"
  },
  "language_info": {
   "codemirror_mode": {
    "name": "ipython",
    "version": 3
   },
   "file_extension": ".py",
   "mimetype": "text/x-python",
   "name": "python",
   "nbconvert_exporter": "python",
   "pygments_lexer": "ipython3",
   "version": "3.6.3"
  }
 },
 "nbformat": 4,
 "nbformat_minor": 1
}
