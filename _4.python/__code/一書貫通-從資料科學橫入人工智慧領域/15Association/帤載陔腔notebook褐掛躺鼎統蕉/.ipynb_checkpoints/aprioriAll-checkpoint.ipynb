{
 "cells": [
  {
   "cell_type": "markdown",
   "metadata": {},
   "source": [
    "### 测试数据集"
   ]
  },
  {
   "cell_type": "code",
   "execution_count": 1,
   "metadata": {
    "collapsed": true
   },
   "outputs": [],
   "source": [
    "seq1 = [           [30], [90]          ]\n",
    "seq2 = [ [10, 20], [30], [40, 60, 70]  ]\n",
    "seq3 = [         [30, 50, 70],         ]\n",
    "seq4 = [      [30], [40, 70], [90]     ]\n",
    "seq5 = [              [90],            ]\n",
    "dataSet = [seq1, seq2, seq3, seq4, seq5]\n",
    "min_support=0.25"
   ]
  },
  {
   "cell_type": "code",
   "execution_count": 2,
   "metadata": {},
   "outputs": [
    {
     "name": "stdout",
     "output_type": "stream",
     "text": [
      "apriori imported!\n"
     ]
    }
   ],
   "source": [
    "import sys\n",
    "sys.path.append('./myscripts')\n",
    "\n",
    "import itertools\n",
    "import pandas as pd\n",
    "from apriori import apriori"
   ]
  },
  {
   "cell_type": "markdown",
   "metadata": {},
   "source": [
    "### 1、Sort Phase\n",
    "过程略，直接使用整理过的示例数据"
   ]
  },
  {
   "cell_type": "markdown",
   "metadata": {},
   "source": [
    "### 2、Litemset Phase\n",
    "搜索litemset，直接使用apriori算法，主要的区别在于计算支持度时，一个客户customer购买了同样的项集（itemset）时，支持频度仅计算一次。这是因为在apriori算法中，支持度是对交易(transaction)而言的，但在序列模式的计算中，大项集的支持度是对客户(customer)而言的"
   ]
  },
  {
   "cell_type": "code",
   "execution_count": null,
   "metadata": {
    "collapsed": true
   },
   "outputs": [],
   "source": [
    "def createLs1(dataSet, min_support):\n",
    "    '''\n",
    "    Using  algorithm apriorito mining large 1-sequences \n",
    "    `Ls` for Large Sequence\n",
    "    '''\n",
    "    n = len(dataSet)\n",
    "    flattenSet = list(itertools.chain(*dataSet))\n",
    "    flatten_n = len(flattenSet)\n",
    "    \n",
    "    # Transform the min_support to litemset_support\n",
    "    min_support_new = min_support * n /flatten_n\n",
    "    litemsets = apriori(flattenSet, min_support=min_support_new)\n",
    "    mapping = {v: k for k, v in enumerate(litemsets)}\n",
    "    \n",
    "    # Transform the litemset_support to sequence_support\n",
    "    supportLs1 = {(mapping[k],): v *flatten_n / n \n",
    "                  for k, v in litemsets.items()}\n",
    "    \n",
    "    return mapping, supportLs1"
   ]
  },
  {
   "cell_type": "markdown",
   "metadata": {},
   "source": [
    "- 测试"
   ]
  },
  {
   "cell_type": "code",
   "execution_count": null,
   "metadata": {
    "collapsed": true
   },
   "outputs": [],
   "source": [
    "mapping, supportLs1 = createLs1(dataSet, min_support=min_support)\n",
    "mapping"
   ]
  },
  {
   "cell_type": "code",
   "execution_count": null,
   "metadata": {
    "collapsed": true
   },
   "outputs": [],
   "source": [
    "supportLs1"
   ]
  },
  {
   "cell_type": "code",
   "execution_count": null,
   "metadata": {
    "collapsed": true
   },
   "outputs": [],
   "source": [
    "Ls1 = [list(k) for k in supportLs1]\n",
    "Ls1"
   ]
  },
  {
   "cell_type": "markdown",
   "metadata": {},
   "source": [
    "### 3、Transformation Phase"
   ]
  },
  {
   "cell_type": "code",
   "execution_count": null,
   "metadata": {
    "collapsed": true
   },
   "outputs": [],
   "source": [
    "def seqMapping(seq, mapping):\n",
    "    '''\n",
    "    Mapping litemsets to integer objects, for treating litemsets as\n",
    "    single entities, and reducing the time required \n",
    "    '''\n",
    "    newSeq = []\n",
    "    for iSet in seq:\n",
    "        newSet = [v for k, v in mapping.items() if k <= set(iSet)]\n",
    "        if newSet != []:\n",
    "            newSeq.append(newSet)\n",
    "    return newSeq\n",
    "\n",
    "def transform(dataSet, mapping):\n",
    "    '''\n",
    "    Transform each customer sequence into an alternative representation.\n",
    "    '''\n",
    "    transformDS = []\n",
    "    for seq in dataSet:\n",
    "        newSeq = seqMapping(seq, mapping)\n",
    "        if newSeq != []:\n",
    "            transformDS.append(newSeq)\n",
    "    return transformDS                    "
   ]
  },
  {
   "cell_type": "markdown",
   "metadata": {},
   "source": [
    "- 测试"
   ]
  },
  {
   "cell_type": "code",
   "execution_count": null,
   "metadata": {
    "collapsed": true
   },
   "outputs": [],
   "source": [
    "transformDS  = transform(dataSet, mapping)\n",
    "for seq in transformDS :\n",
    "    print(seq)"
   ]
  },
  {
   "cell_type": "markdown",
   "metadata": {},
   "source": [
    "### 4、Sequence Phase"
   ]
  },
  {
   "cell_type": "markdown",
   "metadata": {
    "collapsed": true
   },
   "source": [
    "产生候选序列"
   ]
  },
  {
   "cell_type": "code",
   "execution_count": null,
   "metadata": {
    "collapsed": true
   },
   "outputs": [],
   "source": [
    "def seqGen(seqA, seqB):\n",
    "    '''\n",
    "    Generate candidate k+1 sequences with two large k-sequences\n",
    "    '''\n",
    "    newA, newB = seqA.copy(), seqB.copy()\n",
    "    if seqA[:-1] == seqB[:-1]:\n",
    "        newA.append(seqB[-1])\n",
    "        newB.append(seqA[-1])\n",
    "        return [newA, newB]\n",
    "\n",
    "def CsGen(Ls):\n",
    "    '''\n",
    "    Generate all candidate k+1 sequences from large k-sequences\n",
    "    '''\n",
    "    Cs = []\n",
    "    for seqA, seqB in itertools.combinations(Ls, 2):\n",
    "        newSeqs = seqGen(seqA, seqB)\n",
    "        if newSeqs != None:\n",
    "            Cs.extend(newSeqs)\n",
    "    return [seq for seq in Cs if seq[1:] in Ls] #  Pruning  "
   ]
  },
  {
   "cell_type": "markdown",
   "metadata": {},
   "source": [
    "- 测试"
   ]
  },
  {
   "cell_type": "code",
   "execution_count": null,
   "metadata": {
    "collapsed": true
   },
   "outputs": [],
   "source": [
    "testLs = [\n",
    "    [1, 2, 3], \n",
    "    [1, 2, 4],\n",
    "    [1, 3, 4],\n",
    "    [1, 3, 5],\n",
    "    [2, 3, 4]]\n",
    "CsGen(testLs)"
   ]
  },
  {
   "cell_type": "markdown",
   "metadata": {},
   "source": [
    "子序列判断"
   ]
  },
  {
   "cell_type": "code",
   "execution_count": null,
   "metadata": {
    "collapsed": true
   },
   "outputs": [],
   "source": [
    "def isSubSeq(seq, cusSeq):\n",
    "    '''\n",
    "    Check if a sequence is contained in a customer sequence.\n",
    "    '''\n",
    "    nSeq, nCusSeq = len(seq), len(cusSeq)\n",
    "    if nSeq > nCusSeq:\n",
    "        return False \n",
    "    if nSeq == 1:        \n",
    "        return any([seq[0] in i for i in cusSeq])\n",
    "    if nSeq > 1 :\n",
    "        head = [seq[0] in i for i in cusSeq]\n",
    "        if any(head):\n",
    "            split = head.index(True)\n",
    "            return isSubSeq(seq[1:], cusSeq[split + 1:]) # Recursion\n",
    "        else:\n",
    "            return False"
   ]
  },
  {
   "cell_type": "markdown",
   "metadata": {},
   "source": [
    "- 测试"
   ]
  },
  {
   "cell_type": "code",
   "execution_count": null,
   "metadata": {
    "collapsed": true
   },
   "outputs": [],
   "source": [
    "seq = [3, 4, 8]\n",
    "cusSeq = [[7], [3, 8], [9], [4, 5, 6], [8]]\n",
    "isSubSeq(seq, cusSeq)"
   ]
  },
  {
   "cell_type": "markdown",
   "metadata": {},
   "source": [
    "产生频繁k序列，此步骤需要迭代执行"
   ]
  },
  {
   "cell_type": "code",
   "execution_count": null,
   "metadata": {
    "collapsed": true
   },
   "outputs": [],
   "source": [
    "def calcSupport(transformDS, Cs, min_support):\n",
    "    '''\n",
    "    Return: 1. a list of large-sequences\n",
    "            2. a dictionary of `large-sequence: support` pairs\n",
    "    '''\n",
    "    supportLsk = {}; n = len(transformDS)\n",
    "    if len(Cs) >= 1:\n",
    "        for seq in Cs:\n",
    "            support = sum([isSubSeq(seq, cusSeq) for cusSeq in transformDS]\\\n",
    "                         ) / n\n",
    "            if support >= min_support:\n",
    "                supportLsk.update({tuple(seq): support})\n",
    "    return [list(k) for k in supportLsk], supportLsk       "
   ]
  },
  {
   "cell_type": "markdown",
   "metadata": {},
   "source": [
    "- 测试"
   ]
  },
  {
   "cell_type": "code",
   "execution_count": null,
   "metadata": {
    "collapsed": true
   },
   "outputs": [],
   "source": [
    "Cs2 = CsGen(Ls1)\n",
    "Ls2, supportLs2 = calcSupport(transformDS, Cs2, min_support)\n",
    "print(Ls2)\n",
    "print(supportLs2)"
   ]
  },
  {
   "cell_type": "markdown",
   "metadata": {},
   "source": [
    "### 5、Maximal Phase"
   ]
  },
  {
   "cell_type": "markdown",
   "metadata": {
    "collapsed": true
   },
   "source": [
    "- 一个更快速搜寻子序列的算法可参考：\n",
    "R. Agrawal and R. Srikant. Mining sequential patterns. Research Report RJ 9910, IBM Almaden Research Center, San Jose, California, Oc\n",
    "tober 1994."
   ]
  },
  {
   "cell_type": "markdown",
   "metadata": {},
   "source": [
    "需要将大序列中的项集转换回原始的购物篮再进行序列最大化"
   ]
  },
  {
   "cell_type": "code",
   "execution_count": null,
   "metadata": {
    "collapsed": true
   },
   "outputs": [],
   "source": [
    "tr_mapping = {v: k for k, v in mapping.items()}\n",
    "\n",
    "Ls = Ls1 + Ls2\n",
    "Ls = [[tr_mapping[k] for k in seq] for  seq in Ls ]\n",
    "\n",
    "supportLs = {}\n",
    "supportLs.update(supportLs1); supportLs.update(supportLs2)\n",
    "supportLs = {tuple([tr_mapping[i] for i in k]):v for k, v in \\\n",
    "             supportLs.items()}\n",
    "\n",
    "print(supportLs)"
   ]
  },
  {
   "cell_type": "markdown",
   "metadata": {},
   "source": [
    "序列最大化需要保留的是某个序列的非空真子序列（类似于非空真子集，此处要保留该序列本身），该步骤与Transformation阶段中判断子序列的方法类似，区别在于已经将其中的项集映射回来了，因此稍作修改"
   ]
  },
  {
   "cell_type": "code",
   "execution_count": null,
   "metadata": {
    "collapsed": true
   },
   "outputs": [],
   "source": [
    "def isSubSeq2(seq, cusSeq):\n",
    "    nSeq, nCusSeq = len(seq), len(cusSeq)\n",
    "    \n",
    "    if nSeq > nCusSeq:\n",
    "        return False \n",
    "    if nSeq == 1:        \n",
    "        return any([seq[0].issubset(i) for i in cusSeq])\n",
    "    if nSeq > 1 :\n",
    "        head = [seq[0].issubset(i) for i in cusSeq]\n",
    "        if any(head):\n",
    "            split = head.index(True)\n",
    "            return isSubSeq2(seq[1:], cusSeq[split:]) # Recursion\n",
    "        else:\n",
    "            return False           \n",
    "\n",
    "def notProperSubSeq(seq, cusSeq):\n",
    "    '''\n",
    "    Return True if `seq` is not proper sub sequence of `cusSeq`\n",
    "    '''\n",
    "    if seq == cusSeq:\n",
    "        return True\n",
    "    else:\n",
    "        return not isSubSeq2(seq, cusSeq)"
   ]
  },
  {
   "cell_type": "markdown",
   "metadata": {},
   "source": [
    "将备选序列中的最大化的序列保留下来"
   ]
  },
  {
   "cell_type": "code",
   "execution_count": null,
   "metadata": {
    "collapsed": true
   },
   "outputs": [],
   "source": [
    "def maxLs(Ls, supportLs):\n",
    "    LsCopy = Ls.copy()\n",
    "    lenL, lenC = len(Ls), len(LsCopy)\n",
    "    while lenC > 1 and lenL > 1:\n",
    "        if LsCopy[lenC - 1] in Ls:\n",
    "            mask = [notProperSubSeq(seq, LsCopy[lenC - 1]) for seq in Ls]\n",
    "            Ls = list(itertools.compress(Ls, mask))\n",
    "            lenL = len(Ls)\n",
    "            \n",
    "        lenC -= 1\n",
    "        \n",
    "    supportLs = {tuple(seq): supportLs[tuple(seq)] for seq in Ls} \n",
    "    return Ls, supportLs"
   ]
  },
  {
   "cell_type": "code",
   "execution_count": null,
   "metadata": {
    "collapsed": true
   },
   "outputs": [],
   "source": [
    "Ls, supportLs = maxLs(Ls, supportLs)\n",
    "supportLs"
   ]
  },
  {
   "cell_type": "markdown",
   "metadata": {},
   "source": [
    "### aprioriAll"
   ]
  },
  {
   "cell_type": "code",
   "execution_count": null,
   "metadata": {
    "collapsed": true
   },
   "outputs": [],
   "source": [
    "def aprioriAll(dataSet, min_support=0.4):\n",
    "    '''\n",
    "    Proceeding aprioriall algorithm to mining sequential patterns\n",
    "    \n",
    "    Refer to:    \n",
    "    Agrawal,R.,Srikant,R.,Institute of Electric and Electronic \n",
    "    Engineer et al. Mining sequential patterns[C]. Proceedings \n",
    "    of the Eleventh International Conference on Data Engineering,\n",
    "    Washington DC, USA: IEEE Computer Society,1995:3-14.\n",
    "    '''\n",
    "    # Litemset Phase\n",
    "    mapping, supportLs1 = createLs1(dataSet, min_support)\n",
    "    Ls1 = [list(k) for k in supportLs1]\n",
    "    \n",
    "    # Transformation Phase\n",
    "    transformDS  = transform(dataSet, mapping)\n",
    "    \n",
    "    # Sequence Phase\n",
    "    LsList = [Ls1]; supportLs = supportLs1.copy()\n",
    "    k = 1\n",
    "    while k >= 1 and len(LsList[-1]) > 1:\n",
    "        Csk = CsGen(LsList[-1])\n",
    "        Lsk, supportLsk = calcSupport(transformDS, Csk, min_support)\n",
    "        if len(Lsk) > 0:\n",
    "            LsList.append(Lsk); supportLs.update(supportLsk)\n",
    "            k += 1\n",
    "        else:\n",
    "            break\n",
    "            \n",
    "    Ls = list(itertools.chain(*LsList))\n",
    "    tr_mapping = {v: k for k, v in mapping.items()}\n",
    "    Ls = [[tr_mapping[k] for k in seq] for  seq in Ls ]\n",
    "    supportLs = {tuple([tr_mapping[i] for i in k]):v \n",
    "                 for k, v in supportLs.items()}\n",
    "    \n",
    "    # Maximal Phase\n",
    "    Ls, supportLs = maxLs(Ls, supportLs)\n",
    "       \n",
    "    return pd.DataFrame(list(supportLs.items()), \n",
    "                        columns=['sequence', 'support'])"
   ]
  },
  {
   "cell_type": "code",
   "execution_count": null,
   "metadata": {
    "collapsed": true
   },
   "outputs": [],
   "source": [
    "aprioriAll(dataSet, min_support=0.25)"
   ]
  },
  {
   "cell_type": "code",
   "execution_count": null,
   "metadata": {
    "collapsed": true
   },
   "outputs": [],
   "source": [
    "testSet = [\n",
    "    [[1, 5], [2], [3], [4] ],\n",
    "    [[1], [3], [4], [3, 5] ],\n",
    "    [[1], [2], [3], [4]    ],\n",
    "    [[1], [3], [5]         ],\n",
    "    [[4], [5]              ]\n",
    "    ]"
   ]
  },
  {
   "cell_type": "code",
   "execution_count": null,
   "metadata": {
    "collapsed": true
   },
   "outputs": [],
   "source": [
    "import sys\n",
    "sys.path.append('E:/myscripts')\n",
    "from aprioriAll import aprioriAll"
   ]
  },
  {
   "cell_type": "code",
   "execution_count": null,
   "metadata": {
    "collapsed": true
   },
   "outputs": [],
   "source": [
    "aprioriAll(testSet, min_support=0.4)"
   ]
  },
  {
   "cell_type": "markdown",
   "metadata": {},
   "source": [
    "### 应用"
   ]
  },
  {
   "cell_type": "code",
   "execution_count": null,
   "metadata": {
    "collapsed": true
   },
   "outputs": [],
   "source": [
    "import os, sys\n",
    "import itertools\n",
    "import pandas as pd\n",
    "\n",
    "sys.path.append('./myscripts')\n",
    "\n",
    "from aprioriAll import aprioriAll\n",
    "\n",
    "transactions = pd.read_csv('Transactions.csv')"
   ]
  },
  {
   "cell_type": "code",
   "execution_count": null,
   "metadata": {
    "collapsed": true
   },
   "outputs": [],
   "source": [
    "'''\n",
    "Sort phase: The database is sorted, with customer-id as the major key \n",
    "and transaction-time as the minor key. This step implicitly \n",
    "converts the original transaction database into a database of \n",
    "customer sequences.\n",
    "'''"
   ]
  },
  {
   "cell_type": "code",
   "execution_count": null,
   "metadata": {
    "collapsed": true
   },
   "outputs": [],
   "source": [
    "def aggFunc(*args):\n",
    "    agg = itertools.chain(*args)\n",
    "    return list(agg)\n",
    "\n",
    "baskets = transactions['Model']\\\n",
    "    .groupby([transactions['OrderNumber'], transactions['LineNumber']])\\\n",
    "    .apply(aggFunc)\n",
    "baskets.head()"
   ]
  },
  {
   "cell_type": "code",
   "execution_count": null,
   "metadata": {
    "collapsed": true
   },
   "outputs": [],
   "source": [
    "dataSet = list(baskets.groupby(level=0).apply(list))\n",
    "dataSet[:3]"
   ]
  },
  {
   "cell_type": "code",
   "execution_count": null,
   "metadata": {
    "collapsed": true
   },
   "outputs": [],
   "source": [
    "aprioriAll(dataSet, min_support=0.05).head()"
   ]
  },
  {
   "cell_type": "code",
   "execution_count": null,
   "metadata": {
    "collapsed": true
   },
   "outputs": [],
   "source": []
  }
 ],
 "metadata": {
  "anaconda-cloud": {},
  "kernelspec": {
   "display_name": "Python 3",
   "language": "python",
   "name": "python3"
  },
  "language_info": {
   "codemirror_mode": {
    "name": "ipython",
    "version": 3
   },
   "file_extension": ".py",
   "mimetype": "text/x-python",
   "name": "python",
   "nbconvert_exporter": "python",
   "pygments_lexer": "ipython3",
   "version": "3.6.3"
  }
 },
 "nbformat": 4,
 "nbformat_minor": 1
}
