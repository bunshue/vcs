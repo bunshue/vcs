{
 "cells": [
  {
   "cell_type": "markdown",
   "metadata": {
    "collapsed": true
   },
   "source": [
    "# 第四讲 数据整合和数据清洗\n",
    "- pandas学习参考： [十分钟搞定pandas](http://www.cnblogs.com/chaosimple/p/4153083.html)"
   ]
  },
  {
   "cell_type": "markdown",
   "metadata": {},
   "source": [
    "## 4.1 SQL语句介绍"
   ]
  },
  {
   "cell_type": "code",
   "execution_count": null,
   "metadata": {
    "collapsed": true,
    "scrolled": true
   },
   "outputs": [],
   "source": [
    "#import os\n",
    "\n",
    "#os.chdir('E:/data')"
   ]
  },
  {
   "cell_type": "code",
   "execution_count": null,
   "metadata": {
    "scrolled": true
   },
   "outputs": [],
   "source": [
    "import pandas as pd\n",
    "import numpy as np\n",
    "\n",
    "sale = pd.read_csv('sale.csv', encoding='gbk')\n",
    "sale.head()"
   ]
  },
  {
   "cell_type": "markdown",
   "metadata": {
    "collapsed": true
   },
   "source": [
    "- SQL2数据过滤与排序\n",
    "- 选择表中指定列"
   ]
  },
  {
   "cell_type": "code",
   "execution_count": null,
   "metadata": {
    "scrolled": true
   },
   "outputs": [],
   "source": [
    "import sqlite3 # sqlite3相当于轻量版，更多功能可使用SQLAlchemy\n",
    "\n",
    "con = sqlite3.connect(':memory:') # 数据库连接\n",
    "sale.to_sql('sale', con) # 将DataFrame注册成可用sql查询的表\n",
    "newTable = pd.read_sql_query(\"select year, market, sale, profit from sale\", con) # 也可使用read_sql\n",
    "newTable.head()"
   ]
  },
  {
   "cell_type": "markdown",
   "metadata": {},
   "source": [
    "- 选择表中所有列"
   ]
  },
  {
   "cell_type": "code",
   "execution_count": null,
   "metadata": {
    "scrolled": true
   },
   "outputs": [],
   "source": [
    "sqlResult = pd.read_sql_query('select * from sale', con)\n",
    "sqlResult.head()"
   ]
  },
  {
   "cell_type": "markdown",
   "metadata": {},
   "source": [
    "- 删除重复的行"
   ]
  },
  {
   "cell_type": "code",
   "execution_count": null,
   "metadata": {
    "scrolled": true
   },
   "outputs": [],
   "source": [
    "pd.read_sql_query(\"select DISTINCT  year from sale\", con)"
   ]
  },
  {
   "cell_type": "markdown",
   "metadata": {},
   "source": [
    "- 选择满足条件的行"
   ]
  },
  {
   "cell_type": "code",
   "execution_count": null,
   "metadata": {},
   "outputs": [],
   "source": [
    "pd.read_sql_query(\"select * from sale where year=2012 and market='东'\", con)"
   ]
  },
  {
   "cell_type": "markdown",
   "metadata": {},
   "source": [
    "- 对行进行排序"
   ]
  },
  {
   "cell_type": "code",
   "execution_count": null,
   "metadata": {
    "scrolled": true
   },
   "outputs": [],
   "source": [
    "sql = '''select year, market, sale, profit\n",
    "      from sale\n",
    "      order by year'''\n",
    "pd.read_sql_query(sql, con)"
   ]
  },
  {
   "cell_type": "markdown",
   "metadata": {},
   "source": [
    "## 4.2纵向连接表\n",
    "sql操作"
   ]
  },
  {
   "cell_type": "code",
   "execution_count": null,
   "metadata": {
    "scrolled": false
   },
   "outputs": [],
   "source": [
    "one = pd.read_csv(\"One.csv\")\n",
    "one.to_sql('One', con, index=False)\n",
    "one.T"
   ]
  },
  {
   "cell_type": "code",
   "execution_count": null,
   "metadata": {
    "scrolled": true
   },
   "outputs": [],
   "source": [
    "two = pd.read_csv(\"Two.csv\")\n",
    "two.to_sql('Two', con, index=False)\n",
    "two.T"
   ]
  },
  {
   "cell_type": "markdown",
   "metadata": {},
   "source": [
    "union 和 union all"
   ]
  },
  {
   "cell_type": "code",
   "execution_count": null,
   "metadata": {
    "scrolled": true
   },
   "outputs": [],
   "source": [
    "union = pd.read_sql('select * from one UNION select * from two', con)\n",
    "union_all = pd.read_sql('select * from one UNION ALL select * from two', con)\n",
    "union.T"
   ]
  },
  {
   "cell_type": "code",
   "execution_count": null,
   "metadata": {},
   "outputs": [],
   "source": [
    "union_all.T"
   ]
  },
  {
   "cell_type": "markdown",
   "metadata": {},
   "source": [
    "except 和 intersect"
   ]
  },
  {
   "cell_type": "code",
   "execution_count": null,
   "metadata": {
    "scrolled": true
   },
   "outputs": [],
   "source": [
    "exceptTable = pd.read_sql('select * from one EXCEPT select * from two', con)\n",
    "intersectTable = pd.read_sql('select * from one INTERSECT select * from two', con)\n",
    "exceptTable.T"
   ]
  },
  {
   "cell_type": "code",
   "execution_count": null,
   "metadata": {},
   "outputs": [],
   "source": [
    "intersectTable.T"
   ]
  },
  {
   "cell_type": "markdown",
   "metadata": {},
   "source": [
    "*练习： 多表纵向连接"
   ]
  },
  {
   "cell_type": "markdown",
   "metadata": {},
   "source": [
    "DataFrame操作"
   ]
  },
  {
   "cell_type": "code",
   "execution_count": null,
   "metadata": {
    "scrolled": true
   },
   "outputs": [],
   "source": [
    "pd.concat([one, two], axis=0, join='outer', ignore_index=True) # 更多参数可查看文档或帮助"
   ]
  },
  {
   "cell_type": "markdown",
   "metadata": {},
   "source": [
    "## 4.3 横向连接表\n",
    "sql操作"
   ]
  },
  {
   "cell_type": "code",
   "execution_count": null,
   "metadata": {
    "scrolled": true
   },
   "outputs": [],
   "source": [
    "table1 = pd.read_csv('Table1.csv')\n",
    "table1.to_sql('table1', con, index=False)\n",
    "table1.head()"
   ]
  },
  {
   "cell_type": "code",
   "execution_count": null,
   "metadata": {
    "scrolled": true
   },
   "outputs": [],
   "source": [
    "table2 = pd.read_csv('Table2.csv')\n",
    "table2.to_sql('table2', con, index=False)\n",
    "table2.head()"
   ]
  },
  {
   "cell_type": "markdown",
   "metadata": {},
   "source": [
    "笛卡尔积"
   ]
  },
  {
   "cell_type": "code",
   "execution_count": null,
   "metadata": {
    "scrolled": true
   },
   "outputs": [],
   "source": [
    "pd.read_sql(\"select * from table1, table2\", con)"
   ]
  },
  {
   "cell_type": "markdown",
   "metadata": {},
   "source": [
    "内连接（使用inner join或使用where子句）"
   ]
  },
  {
   "cell_type": "code",
   "execution_count": null,
   "metadata": {},
   "outputs": [],
   "source": [
    "pd.read_sql(\"select * from table1 as a inner join table2 as b on a.id=b.id\", con)\n",
    "# pd.read_sql(\"select * from table1 as a, table2 as b where a.id=b.id\", con)"
   ]
  },
  {
   "cell_type": "markdown",
   "metadata": {},
   "source": [
    "左连接"
   ]
  },
  {
   "cell_type": "code",
   "execution_count": null,
   "metadata": {
    "scrolled": true
   },
   "outputs": [],
   "source": [
    "pd.read_sql(\"select * from table1 as a left join table2 as b on a.id=b.id\", con)"
   ]
  },
  {
   "cell_type": "code",
   "execution_count": null,
   "metadata": {
    "collapsed": true,
    "scrolled": true
   },
   "outputs": [],
   "source": [
    "# Attention: RIGHT and FULL OUTER JOINs are NOT currently supported, like:\n",
    "# \"select * from table1 as a RIGHT JOIN table2 as b on a.id=b.id\"\n",
    "# \"select * from table1 as a FULL JOIN table2 as b on a.id=b.id\""
   ]
  },
  {
   "cell_type": "markdown",
   "metadata": {},
   "source": [
    "DataFrame操作"
   ]
  },
  {
   "cell_type": "code",
   "execution_count": null,
   "metadata": {
    "scrolled": true
   },
   "outputs": [],
   "source": [
    "pd.merge(table1, table2, on='id', how='left') # 参数设置可查看帮助"
   ]
  },
  {
   "cell_type": "markdown",
   "metadata": {},
   "source": [
    "按索引连接"
   ]
  },
  {
   "cell_type": "code",
   "execution_count": null,
   "metadata": {
    "scrolled": true
   },
   "outputs": [],
   "source": [
    "table1.join(table2, how='outer', lsuffix='t1', rsuffix='t2') # 参数设置可查看帮助"
   ]
  },
  {
   "cell_type": "markdown",
   "metadata": {
    "collapsed": true
   },
   "source": [
    "## 4.4 数据清洗"
   ]
  },
  {
   "cell_type": "markdown",
   "metadata": {},
   "source": [
    "发现数据问题类型"
   ]
  },
  {
   "cell_type": "code",
   "execution_count": null,
   "metadata": {
    "scrolled": false,
    "slideshow": {
     "slide_type": "skip"
    }
   },
   "outputs": [],
   "source": [
    "camp = pd.read_csv('teleco_camp_orig.csv')\n",
    "camp.head()"
   ]
  },
  {
   "cell_type": "code",
   "execution_count": null,
   "metadata": {
    "scrolled": true
   },
   "outputs": [],
   "source": [
    "#pd.set_option('display.max_columns', None) # 设置显示所有列\n",
    "# Try this: pd.describe_option('display')"
   ]
  },
  {
   "cell_type": "markdown",
   "metadata": {
    "collapsed": true
   },
   "source": [
    "- 脏数据或数据不正确"
   ]
  },
  {
   "cell_type": "code",
   "execution_count": null,
   "metadata": {
    "scrolled": false
   },
   "outputs": [],
   "source": [
    "%matplotlib inline\n",
    "import matplotlib.pyplot as plt\n",
    "\n",
    "plt.hist(camp['AvgIncome'], bins=20, normed=True)\n",
    "# Try this: accepts['purch_price'].plot(kind='hist')\n",
    "# And this: sns.distplot(accepts['purch_price'], kde=True, fit=stats.norm) #should import seaborn as sns and scipy.stats first"
   ]
  },
  {
   "cell_type": "code",
   "execution_count": null,
   "metadata": {},
   "outputs": [],
   "source": [
    "#这里的0值应该是缺失值\n",
    "camp['AvgIncome']=camp['AvgIncome'].replace({0: np.NaN})\n",
    "#像这种外部获取的数据要比较小心，经常出现意义不清晰或这错误值。AvgHomeValue也有这种情况\n",
    "camp['AvgHomeValue']=camp['AvgHomeValue'].replace({0: np.NaN})\n",
    "camp['Age']=camp['Age'].replace({0: np.NaN})\n",
    "camp.head(8)"
   ]
  },
  {
   "cell_type": "code",
   "execution_count": null,
   "metadata": {
    "scrolled": false
   },
   "outputs": [],
   "source": [
    "camp['AvgIncome'].describe(include='all')"
   ]
  },
  {
   "cell_type": "markdown",
   "metadata": {
    "collapsed": true,
    "scrolled": true
   },
   "source": [
    "- 数据不一致-\n",
    "这个问题需要详细的结合描述统计进行变量说明核对"
   ]
  },
  {
   "cell_type": "markdown",
   "metadata": {
    "collapsed": true,
    "scrolled": true
   },
   "source": [
    "- 数据重复"
   ]
  },
  {
   "cell_type": "code",
   "execution_count": null,
   "metadata": {
    "scrolled": true
   },
   "outputs": [],
   "source": [
    "camp['dup'] = camp.duplicated() # 生成重复标识变量\n",
    "camp.dup.head()"
   ]
  },
  {
   "cell_type": "code",
   "execution_count": null,
   "metadata": {
    "scrolled": true
   },
   "outputs": [],
   "source": [
    "#本数据没有重复记录，此处只是示例\n",
    "camp_dup = camp[camp['dup'] == True] # 把有重复的数据保存出来，以备核查\n",
    "camp_nodup = camp[camp['dup'] == False] # 注意与camp.drop_duplicates()的区别\n",
    "camp_nodup.head()"
   ]
  },
  {
   "cell_type": "code",
   "execution_count": null,
   "metadata": {
    "scrolled": true
   },
   "outputs": [],
   "source": [
    "camp['dup1'] = camp['ID'].duplicated() # 按照主键进行重复记录标识\n",
    "# accepts['fico_score'].duplicated() # 没有实际意义"
   ]
  },
  {
   "cell_type": "markdown",
   "metadata": {
    "collapsed": true,
    "scrolled": true
   },
   "source": [
    "* 缺失值处理"
   ]
  },
  {
   "cell_type": "code",
   "execution_count": null,
   "metadata": {
    "scrolled": true
   },
   "outputs": [],
   "source": [
    "camp.describe()\n",
    "#如果count数量少于样本量，说明存在缺失\n",
    "#缺失最多的两个变量是Age和AvgIncome,缺失了大概20%。"
   ]
  },
  {
   "cell_type": "code",
   "execution_count": null,
   "metadata": {},
   "outputs": [],
   "source": [
    "vmean = camp['Age'].mean(axis=0, skipna=True)\n",
    "camp['Age_empflag'] = camp['Age'].isnull()\n",
    "camp['Age']= camp['Age'].fillna(vmean)\n",
    "camp['Age'].describe()"
   ]
  },
  {
   "cell_type": "code",
   "execution_count": null,
   "metadata": {},
   "outputs": [],
   "source": [
    "vmean = camp['AvgHomeValue'].mean(axis=0, skipna=True)\n",
    "camp['AvgHomeValue_empflag'] = camp['AvgHomeValue'].isnull()\n",
    "camp['AvgHomeValue']= camp['AvgHomeValue'].fillna(vmean)\n",
    "camp['AvgHomeValue'].describe()"
   ]
  },
  {
   "cell_type": "code",
   "execution_count": null,
   "metadata": {},
   "outputs": [],
   "source": [
    "vmean = camp['AvgIncome'].mean(axis=0, skipna=True)\n",
    "camp['AvgIncome_empflag'] = camp['AvgIncome'].isnull()\n",
    "camp['AvgIncome']= camp['AvgIncome'].fillna(vmean)\n",
    "camp['AvgIncome'].describe()"
   ]
  },
  {
   "cell_type": "markdown",
   "metadata": {},
   "source": [
    "- 其他有缺失变量请自行填补，找到一个有缺失的分类变量，使用众数进行填补\n",
    "- 多重插补：sklearn.preprocessing.Imputer仅可用于填补均值、中位数、众数，多重插补可考虑使用Orange、impute、Theano等包\n",
    "- 多重插补的处理有两个要点：1、被解释变量有缺失值的观测不能填补，只能删除；2、只对放入模型的解释变量进行插补。"
   ]
  },
  {
   "cell_type": "markdown",
   "metadata": {},
   "source": [
    "* 噪声值处理\n",
    "- 盖帽法"
   ]
  },
  {
   "cell_type": "code",
   "execution_count": null,
   "metadata": {},
   "outputs": [],
   "source": [
    "def blk(floor, root): # 'blk' will return a function\n",
    "    def f(x):       \n",
    "        if x < floor:\n",
    "            x = floor\n",
    "        elif x > root:\n",
    "            x = root\n",
    "        return x\n",
    "    return f\n",
    "\n",
    "q1 = camp['Age'].quantile(0.01) # 计算百分位数\n",
    "q99 = camp['Age'].quantile(0.99)\n",
    "blk_tot = blk(floor=q1, root=q99) # 'blk_tot' is a function\n",
    "camp['Age']= camp['Age'].map(blk_tot)\n",
    "camp['Age'].describe()"
   ]
  },
  {
   "cell_type": "markdown",
   "metadata": {
    "collapsed": true
   },
   "source": [
    "- 分箱（等深，等宽）\n",
    "- 分箱法——等宽分箱"
   ]
  },
  {
   "cell_type": "code",
   "execution_count": null,
   "metadata": {},
   "outputs": [],
   "source": [
    " camp['Age_group1'] = pd.qcut( camp['Age'], 4) # 这里以age_oldest_tr字段等宽分为4段\n",
    "camp.Age_group1.head()"
   ]
  },
  {
   "cell_type": "markdown",
   "metadata": {
    "collapsed": true
   },
   "source": [
    "- 分箱法——等深分箱"
   ]
  },
  {
   "cell_type": "code",
   "execution_count": null,
   "metadata": {},
   "outputs": [],
   "source": [
    " camp['Age_group2'] = pd.cut( camp['Age'], 4) # 这里以age_oldest_tr字段等宽分为4段\n",
    "camp.Age_group2.head()"
   ]
  },
  {
   "cell_type": "code",
   "execution_count": null,
   "metadata": {},
   "outputs": [],
   "source": [
    "camp.to_csv('tele_camp_ok.csv')"
   ]
  },
  {
   "cell_type": "code",
   "execution_count": null,
   "metadata": {
    "collapsed": true
   },
   "outputs": [],
   "source": []
  }
 ],
 "metadata": {
  "kernelspec": {
   "display_name": "Python 3",
   "language": "python",
   "name": "python3"
  },
  "language_info": {
   "codemirror_mode": {
    "name": "ipython",
    "version": 3
   },
   "file_extension": ".py",
   "mimetype": "text/x-python",
   "name": "python",
   "nbconvert_exporter": "python",
   "pygments_lexer": "ipython3",
   "version": "3.6.1"
  }
 },
 "nbformat": 4,
 "nbformat_minor": 1
}
