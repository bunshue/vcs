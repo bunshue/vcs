{
 "cells": [
  {
   "cell_type": "markdown",
   "metadata": {},
   "source": [
    "# 第十 讲 使用神经网络进行客户流失预警 "
   ]
  },
  {
   "cell_type": "code",
   "execution_count": null,
   "metadata": {},
   "outputs": [],
   "source": [
    "%matplotlib inline\n",
    "import os\n",
    "import numpy as np\n",
    "from scipy import stats\n",
    "import pandas as pd\n",
    "import sklearn.cross_validation as cross_validation\n",
    "import statsmodels.api as sm\n",
    "import statsmodels.formula.api as smf\n",
    "import matplotlib.pyplot as plt\n",
    "\n",
    "#os.chdir('Q:/data')\n",
    "pd.set_option('display.max_columns', None)"
   ]
  },
  {
   "cell_type": "code",
   "execution_count": null,
   "metadata": {},
   "outputs": [],
   "source": [
    "data = pd.read_csv('telecom_churn.csv')\n",
    "data.head()"
   ]
  },
  {
   "cell_type": "code",
   "execution_count": null,
   "metadata": {},
   "outputs": [],
   "source": [
    "#随机抽样，建立训练集与测试集"
   ]
  },
  {
   "cell_type": "code",
   "execution_count": null,
   "metadata": {
    "collapsed": true
   },
   "outputs": [],
   "source": [
    "train, test = cross_validation.train_test_split(data, test_size=1000)"
   ]
  },
  {
   "cell_type": "code",
   "execution_count": null,
   "metadata": {},
   "outputs": [],
   "source": [
    "from sklearn import preprocessing\n",
    "#进行极差标准化\n",
    "train_X = train.ix[:, 0:-1]\n",
    "test_X = test.ix[:, 0:-1]\n",
    "scaler = preprocessing.MinMaxScaler().fit(train_X)\n",
    "train_X = scaler.transform(train_X)\n",
    "test_X = scaler.transform(test_X)\n",
    "train_Y = train['churn'].get_values().reshape(2463, 1)   # 为满足后续(pybrain)建模需要做相应变换\n",
    "test_Y = test['churn'].get_values().reshape(1000, 1)"
   ]
  },
  {
   "cell_type": "code",
   "execution_count": null,
   "metadata": {
    "collapsed": true
   },
   "outputs": [],
   "source": [
    "# 使用pybrain的快捷方式创建神经网络，默认激发函数为sigmoid，带bias, 全连接"
   ]
  },
  {
   "cell_type": "code",
   "execution_count": null,
   "metadata": {},
   "outputs": [],
   "source": [
    "from pybrain.tools.shortcuts import buildNetwork\n",
    "from pybrain.structure import SigmoidLayer, LinearLayer\n",
    "\n",
    "net = buildNetwork(24, 24, 1, hiddenclass=SigmoidLayer, outclass=LinearLayer)\n",
    "print net.modules"
   ]
  },
  {
   "cell_type": "code",
   "execution_count": null,
   "metadata": {
    "collapsed": true
   },
   "outputs": [],
   "source": [
    "# 构建适用于神经网络的训练和测试的数据集ClassificationDataSet"
   ]
  },
  {
   "cell_type": "code",
   "execution_count": null,
   "metadata": {},
   "outputs": [],
   "source": [
    "from pybrain.datasets import ClassificationDataSet\n",
    "\n",
    "ds_train = ClassificationDataSet(24, target=1, nb_classes=2)\n",
    "ds_test = ClassificationDataSet(24, target=1, nb_classes=2)\n",
    "ds_train.setField('input', train_X)\n",
    "ds_train.setField('target', train_Y)\n",
    "ds_test.setField('input', test_X)\n",
    "ds_test.setField('target', test_Y)\n",
    "print ds_train.calculateStatistics(), '\\n', ds_test.calculateStatistics()"
   ]
  },
  {
   "cell_type": "code",
   "execution_count": null,
   "metadata": {},
   "outputs": [],
   "source": [
    "from pybrain.supervised.trainers import BackpropTrainer\n",
    "\n",
    "trainer = BackpropTrainer(module=net, dataset=ds_train, learningrate=0.01, lrdecay=1.0, momentum=0., weightdecay=0.01)\n",
    "for i in range(10):\n",
    "    print trainer.train()"
   ]
  },
  {
   "cell_type": "code",
   "execution_count": null,
   "metadata": {},
   "outputs": [],
   "source": [
    "trainer.trainUntilConvergence(maxEpochs=20, validationProportion=0.25)"
   ]
  },
  {
   "cell_type": "code",
   "execution_count": null,
   "metadata": {},
   "outputs": [],
   "source": [
    "pred = net.activateOnDataset(ds_test)"
   ]
  },
  {
   "cell_type": "code",
   "execution_count": null,
   "metadata": {},
   "outputs": [],
   "source": [
    "from pybrain.tools.validation import Validator\n",
    "\n",
    "Validator.classificationPerformance(map(lambda x: 1 if x > 0.5 else 0, pred), test['y'].get_values())"
   ]
  },
  {
   "cell_type": "code",
   "execution_count": null,
   "metadata": {},
   "outputs": [],
   "source": [
    "zip(map(lambda x: 1 if x > 0.5 else 0, pred), test['y'].get_values())"
   ]
  },
  {
   "cell_type": "code",
   "execution_count": null,
   "metadata": {
    "collapsed": true
   },
   "outputs": [],
   "source": [
    "# 构建网络的一般形式"
   ]
  },
  {
   "cell_type": "code",
   "execution_count": null,
   "metadata": {},
   "outputs": [],
   "source": [
    "from pybrain.structure import FeedForwardNetwork\n",
    "from pybrain.structure import LinearLayer, SigmoidLayer\n",
    "from pybrain.structure import FullConnection\n",
    "\n",
    "# Initialize a neural network\n",
    "nnet = FeedForwardNetwork()\n",
    "\n",
    "# Create layers\n",
    "inLayer = LinearLayer(24, name='in')  # 设置默认参数\"name='in'\"仅为了方便, inLayer 等同于 nnet['in']\n",
    "hiddenLayer = SigmoidLayer(5, name='hidden')\n",
    "outLayer = LinearLayer(1, name='out')\n",
    "\n",
    "# Vreate connections\n",
    "in_to_hidden = FullConnection(inLayer, hiddenLayer, name='in_to_hidden')\n",
    "hidden_to_out = FullConnection(hiddenLayer, outLayer, name='hidden_to_out')\n",
    "\n",
    "# Add layers and connections to neural network\n",
    "nnet.addInputModule(inLayer)\n",
    "nnet.addModule(hiddenLayer)\n",
    "nnet.addOutputModule(outLayer)\n",
    "nnet.addConnection(in_to_hidden)\n",
    "nnet.addConnection(hidden_to_out)\n",
    "\n",
    "# Make nnet usable\n",
    "nnet.sortModules()\n",
    "\n",
    "# Check it\n",
    "print nnet"
   ]
  },
  {
   "cell_type": "code",
   "execution_count": null,
   "metadata": {},
   "outputs": [],
   "source": [
    "# Setup a trainer\n",
    "ntrainer = BackpropTrainer(module=nnet, dataset=ds_train, learningrate=0.01, lrdecay=1., momentum=0., weightdecay=0.01)"
   ]
  },
  {
   "cell_type": "code",
   "execution_count": null,
   "metadata": {},
   "outputs": [],
   "source": [
    "ntrainer.trainUntilConvergence(maxEpochs=20, validationProportion=0.25)"
   ]
  },
  {
   "cell_type": "code",
   "execution_count": null,
   "metadata": {},
   "outputs": [],
   "source": [
    "pred1 = nnet.activateOnDataset(ds_test)\n",
    "Validator.classificationPerformance(map(lambda x: 1 if x > 0.5 else 0, pred1), test['y'].get_values())"
   ]
  },
  {
   "cell_type": "code",
   "execution_count": null,
   "metadata": {},
   "outputs": [],
   "source": [
    "from pybrain.tools.validation import CrossValidator, ModuleValidator\n",
    "\n",
    "CV = CrossValidator(ntrainer, ds_train, n_folds=5, valfunc=ModuleValidator.MSE)\n",
    "CV.validate()"
   ]
  },
  {
   "cell_type": "code",
   "execution_count": null,
   "metadata": {
    "collapsed": true
   },
   "outputs": [],
   "source": [
    "# 使用分类器"
   ]
  },
  {
   "cell_type": "code",
   "execution_count": null,
   "metadata": {},
   "outputs": [],
   "source": [
    "from pybrain.tools.neuralnets import NNclassifier\n",
    "\n",
    "nclf = NNclassifier(ds_train, TDS=ds_test, maxepochs=100)\n",
    "nclf.setupNN(trainer=BackpropTrainer, hidden=1, learningrate=0.01, lrdecay=1.0, momentum=0., weightdecay=0.01)\n",
    "nclf.runTraining(convergence=0)"
   ]
  },
  {
   "cell_type": "code",
   "execution_count": null,
   "metadata": {},
   "outputs": [],
   "source": [
    "# nclf.saveNetwork('nnet_classifier')"
   ]
  }
 ],
 "metadata": {
  "kernelspec": {
   "display_name": "Python 3",
   "language": "python",
   "name": "python3"
  },
  "language_info": {
   "codemirror_mode": {
    "name": "ipython",
    "version": 3
   },
   "file_extension": ".py",
   "mimetype": "text/x-python",
   "name": "python",
   "nbconvert_exporter": "python",
   "pygments_lexer": "ipython3",
   "version": "3.6.3"
  }
 },
 "nbformat": 4,
 "nbformat_minor": 1
}
