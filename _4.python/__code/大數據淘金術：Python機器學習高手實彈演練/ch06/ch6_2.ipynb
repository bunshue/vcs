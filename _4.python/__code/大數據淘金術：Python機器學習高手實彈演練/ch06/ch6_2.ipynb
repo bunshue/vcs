{
 "cells": [
  {
   "cell_type": "code",
   "execution_count": 1,
   "metadata": {},
   "outputs": [],
   "source": [
    "# -*- coding:utf-8 -*- #"
   ]
  },
  {
   "cell_type": "markdown",
   "metadata": {},
   "source": [
    "### 6.2.1  缺失值處理"
   ]
  },
  {
   "cell_type": "code",
   "execution_count": 2,
   "metadata": {},
   "outputs": [
    {
     "name": "stdout",
     "output_type": "stream",
     "text": [
      "1\n",
      "[nan  3.]\n",
      "2000    2\n",
      "3456    1\n",
      "2003    1\n",
      "2002    1\n",
      "2001    1\n",
      "Name: year, dtype: int64\n"
     ]
    }
   ],
   "source": [
    "import pandas as pd\n",
    "import numpy as np\n",
    "\n",
    "dic = {   \n",
    "     'state': ['Ohio', 'Ohio', 'Ohio', 'Ohio', 'Nevada', 'Nevada'],\n",
    "     'year': [2000, 2000, 2001, 2002, 2003, 3456],\n",
    "     'score': [1.5, 1.5, 1.7, np.nan, np.nan, 8.3],\n",
    "     'desc': [np.nan, np.nan, np.nan, np.nan, np.nan, 3],\n",
    "     'val1': [1, 1, 0, '+', 0, 1],\n",
    "}\n",
    "data = pd.DataFrame(dic)\n",
    "\n",
    "print(data['desc'].nunique()) # 不同取值個數\n",
    "print(data['desc'].unique()) # 不同取值列表\n",
    "print(data['year'].value_counts()) # 不同取值出現次數"
   ]
  },
  {
   "cell_type": "code",
   "execution_count": 3,
   "metadata": {},
   "outputs": [
    {
     "name": "stdout",
     "output_type": "stream",
     "text": [
      "0     True\n",
      "1     True\n",
      "2     True\n",
      "3     True\n",
      "4     True\n",
      "5    False\n",
      "Name: desc, dtype: bool\n",
      "True\n",
      "False\n",
      "5 6\n",
      "    state  year  score  desc val1\n",
      "0    Ohio  2000    1.5   NaN    1\n",
      "1    Ohio  2000    1.5   NaN    1\n",
      "2    Ohio  2001    1.7   NaN    0\n",
      "3    Ohio  2002    NaN   NaN    +\n",
      "4  Nevada  2003    NaN   NaN    0\n",
      "5  Nevada  3456    8.3   3.0    1\n",
      "0    1.50\n",
      "1    1.50\n",
      "2    1.70\n",
      "3    3.25\n",
      "4    3.25\n",
      "5    8.30\n",
      "Name: score, dtype: float64\n",
      "0    1.5\n",
      "1    1.5\n",
      "2    1.7\n",
      "3    1.7\n",
      "4    NaN\n",
      "5    8.3\n",
      "Name: score, dtype: float64\n",
      "    state  year  score  desc val1\n",
      "0    Ohio  2000    1.5   NaN    1\n",
      "1    Ohio  2000    1.5   NaN    1\n",
      "2    Ohio  2001    1.7   NaN    0\n",
      "3    Ohio  2002    3.9   NaN    +\n",
      "4  Nevada  2003    6.1   NaN    0\n",
      "5  Nevada  3456    8.3   3.0    1\n",
      "    state  year  score  desc val1\n",
      "0    Ohio  2000    1.5   NaN    1\n",
      "1    Ohio  2000    1.5   NaN    1\n",
      "2    Ohio  2001    1.7   NaN    0\n",
      "3    Ohio  2002    3.9   NaN    +\n",
      "4  Nevada  2003    6.1   NaN    0\n",
      "5  Nevada  3456    8.3   3.0    1\n"
     ]
    }
   ],
   "source": [
    "print(data['desc'].isnull()) # 是否缺失\n",
    "print(data['desc'].isnull().any()) # 是否含有任意缺失\n",
    "print(data['desc'].isnull().all()) # 是否全部缺失\n",
    "print(data['desc'].isnull().sum(), len(data)) # 空值個數與記錄個數\n",
    "print(data.dropna(axis=1, how='all'))\n",
    "print(data['score'].fillna(data['score'].mean()))\n",
    "print(data['score'].fillna(method='ffill', limit=1))\n",
    "\n",
    "print(data.interpolate(mdthod='polynomial', order=2)) # 二次多項式插值\n",
    "print(data.interpolate(mdthod='spline', order=3)) # 三次樣條插值"
   ]
  },
  {
   "cell_type": "code",
   "execution_count": 4,
   "metadata": {},
   "outputs": [
    {
     "name": "stdout",
     "output_type": "stream",
     "text": [
      "0    1.5\n",
      "1    1.5\n",
      "2    1.7\n",
      "3    1.5\n",
      "4    1.5\n",
      "5    8.3\n",
      "Name: score, dtype: float64\n"
     ]
    },
    {
     "name": "stderr",
     "output_type": "stream",
     "text": [
      "/usr/local/lib/python3.6/dist-packages/sklearn/utils/deprecation.py:66: DeprecationWarning: Class Imputer is deprecated; Imputer was deprecated in version 0.20 and will be removed in 0.22. Import impute.SimpleImputer from sklearn instead.\n",
      "  warnings.warn(msg, category=DeprecationWarning)\n"
     ]
    }
   ],
   "source": [
    "from sklearn.preprocessing import Imputer\n",
    "imp =Imputer(missing_values=\"NaN\", strategy=\"most_frequent\",axis=0 )\n",
    "data[\"score\"]=imp.fit_transform(data[[\"score\"]])\n",
    "\n",
    "print(data['score'].fillna(-1))"
   ]
  },
  {
   "cell_type": "markdown",
   "metadata": {},
   "source": [
    "### 6.2.2  異常值處理"
   ]
  },
  {
   "cell_type": "code",
   "execution_count": 5,
   "metadata": {},
   "outputs": [
    {
     "name": "stdout",
     "output_type": "stream",
     "text": [
      "    state  year  score  desc val1\n",
      "0    Ohio  2000    1.5   NaN    1\n",
      "1    Ohio  2000    1.5   NaN    1\n",
      "2    Ohio  2001    1.7   NaN    0\n",
      "3    Ohio  2002    1.5   NaN    +\n",
      "4  Nevada  2003    1.5   NaN    0\n",
      "    state  year  score  desc val1\n",
      "0    Ohio  2000    1.5   NaN    1\n",
      "1    Ohio  2000    1.5   NaN    1\n",
      "2    Ohio  2001    1.7   NaN    0\n",
      "3    Ohio  2002    1.5   NaN    +\n",
      "4  Nevada  2003    1.5   NaN    0\n"
     ]
    }
   ],
   "source": [
    "print(data.query('year<2050'))\n",
    "print(data[data['year']<2050])\n",
    "\n",
    "data['val1'] = data['val1'].apply(lambda x: 1 if x == '+' else x)"
   ]
  },
  {
   "cell_type": "markdown",
   "metadata": {},
   "source": [
    "### 6.2.3  去重處理"
   ]
  },
  {
   "cell_type": "code",
   "execution_count": 6,
   "metadata": {},
   "outputs": [
    {
     "name": "stdout",
     "output_type": "stream",
     "text": [
      "    state  year  score  desc  val1\n",
      "1    Ohio  2000    1.5   NaN     1\n",
      "2    Ohio  2001    1.7   NaN     0\n",
      "3    Ohio  2002    1.5   NaN     1\n",
      "4  Nevada  2003    1.5   NaN     0\n",
      "5  Nevada  3456    8.3   3.0     1\n",
      "    state  year  score  desc  val1\n",
      "1    Ohio  2000    1.5   NaN     1\n",
      "2    Ohio  2001    1.7   NaN     0\n",
      "3    Ohio  2002    1.5   NaN     1\n",
      "4  Nevada  2003    1.5   NaN     0\n",
      "5  Nevada  3456    8.3   3.0     1\n"
     ]
    }
   ],
   "source": [
    "print(data.drop_duplicates(keep='last'))\n",
    "print(data.drop_duplicates(keep='last', subset='year'))"
   ]
  }
 ],
 "metadata": {
  "kernelspec": {
   "display_name": "Python 3",
   "language": "python",
   "name": "python3"
  },
  "language_info": {
   "codemirror_mode": {
    "name": "ipython",
    "version": 3
   },
   "file_extension": ".py",
   "mimetype": "text/x-python",
   "name": "python",
   "nbconvert_exporter": "python",
   "pygments_lexer": "ipython3",
   "version": "3.6.8"
  }
 },
 "nbformat": 4,
 "nbformat_minor": 2
}
