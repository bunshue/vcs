{
 "cells": [
  {
   "cell_type": "code",
   "execution_count": 1,
   "metadata": {},
   "outputs": [],
   "source": [
    "# -*- coding:utf-8 -*- #"
   ]
  },
  {
   "cell_type": "markdown",
   "metadata": {},
   "source": [
    "### 6.1.1  基本類型轉換"
   ]
  },
  {
   "cell_type": "code",
   "execution_count": 5,
   "metadata": {},
   "outputs": [
    {
     "name": "stdout",
     "output_type": "stream",
     "text": [
      "string       object\n",
      "integer     float64\n",
      "float       float64\n",
      "dtime        object\n",
      "mix          object\n",
      "classify     object\n",
      "dtype: object\n"
     ]
    }
   ],
   "source": [
    "import pandas as pd\n",
    "import numpy as np\n",
    "dic = {\n",
    "     'string': ['dog', 'snake', 'cat', 'dog', 'monkey', 'elephant'],\n",
    "     'integer': [2000, 2000, 2001, 2002, 2003, np.nan],\n",
    "     'float': [1.5, 1.5, 1.7, np.nan, np.nan, 8.3],\n",
    "     'dtime': ['2018-01-01', '2018/01/02', '2018-01-03', '2018-01-04', '2018-01-05', np.nan],\n",
    "     'mix': [1, 1, 0, '+', 0, 1],\n",
    "     'classify': ['A', 'B', 'A', 'B', 'A', 'A']\n",
    "                }\n",
    "data = pd.DataFrame(dic)\n",
    "print(data.dtypes)"
   ]
  },
  {
   "cell_type": "code",
   "execution_count": 7,
   "metadata": {},
   "outputs": [
    {
     "name": "stdout",
     "output_type": "stream",
     "text": [
      "string              object\n",
      "integer            float64\n",
      "float              float32\n",
      "dtime       datetime64[ns]\n",
      "mix                float64\n",
      "classify          category\n",
      "dtype: object\n"
     ]
    }
   ],
   "source": [
    "data['dtime'] = pd.to_datetime(data['dtime'], infer_datetime_format=True)\n",
    "data['mix']=pd.to_numeric(data['mix'],errors='coerce')\n",
    "data['classify']=pd.Categorical(data['classify'])\n",
    "data['float']=data['float'].astype(np.float32)\n",
    "print(data.dtypes)"
   ]
  },
  {
   "cell_type": "markdown",
   "metadata": {},
   "source": [
    "### 6.1.2  數據類型識別"
   ]
  },
  {
   "cell_type": "code",
   "execution_count": 9,
   "metadata": {},
   "outputs": [
    {
     "name": "stdout",
     "output_type": "stream",
     "text": [
      "string False\n",
      "integer True\n",
      "float True\n",
      "dtime True\n",
      "mix True\n",
      "classify False\n"
     ]
    }
   ],
   "source": [
    "def is_float(val): # 判斷單值是否爲float類型\n",
    "    if isinstance(val, float):\n",
    "        return True\n",
    "    try:\n",
    "        if val != val: # 判斷是否爲空值\n",
    "            return False\n",
    "        float(val)\n",
    "        return True\n",
    "    except:\n",
    "        return False\n",
    "\n",
    "def check_float(arr, debug = False): # 判斷數組是否爲float類型\n",
    "    count = 0\n",
    "    for i in arr:\n",
    "        if i != i:\n",
    "            continue\n",
    "        if is_float(i):\n",
    "            count += 1\n",
    "    if debug:\n",
    "        print(\"num count\", count, len(arr))\n",
    "    if count >= len(arr) / 2:\n",
    "        return True\n",
    "    return False\n",
    " \n",
    "for i in data.columns: # 遍歷所有字段\n",
    "    unique = data[i].unique()\n",
    "    print(i, check_float(unique))"
   ]
  }
 ],
 "metadata": {
  "kernelspec": {
   "display_name": "Python 3",
   "language": "python",
   "name": "python3"
  },
  "language_info": {
   "codemirror_mode": {
    "name": "ipython",
    "version": 3
   },
   "file_extension": ".py",
   "mimetype": "text/x-python",
   "name": "python",
   "nbconvert_exporter": "python",
   "pygments_lexer": "ipython3",
   "version": "3.6.8"
  }
 },
 "nbformat": 4,
 "nbformat_minor": 2
}
