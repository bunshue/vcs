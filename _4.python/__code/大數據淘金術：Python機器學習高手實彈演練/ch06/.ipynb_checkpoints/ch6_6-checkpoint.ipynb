{
 "cells": [
  {
   "cell_type": "code",
   "execution_count": 1,
   "metadata": {},
   "outputs": [],
   "source": [
    "# -*- coding:utf-8 -*- #\n",
    "\n",
    "import pandas as pd"
   ]
  },
  {
   "cell_type": "markdown",
   "metadata": {},
   "source": [
    "### 6.6.1  數值型特徵"
   ]
  },
  {
   "cell_type": "code",
   "execution_count": 2,
   "metadata": {},
   "outputs": [
    {
     "name": "stdout",
     "output_type": "stream",
     "text": [
      "   height  weight        bmi\n",
      "0     1.6      60  23.437500\n",
      "1     1.7      70  24.221453\n",
      "2     1.8      90  27.777778\n",
      "   height  weight        bmi  overweight\n",
      "0     1.6      60  23.437500       False\n",
      "1     1.7      70  24.221453       False\n",
      "2     1.8      90  27.777778        True\n",
      "   height  weight        bmi overweight\n",
      "0     1.6      60  23.437500         No\n",
      "1     1.7      70  24.221453         No\n",
      "2     1.8      90  27.777778        Yes\n"
     ]
    }
   ],
   "source": [
    "dic = {'height': [1.6, 1.7, 1.8],\n",
    "      'weight': [60, 70, 90]}\n",
    "data = pd.DataFrame(dic)\n",
    "data['bmi'] = data['weight'] / (data['height'] **2)\n",
    "print(data)\n",
    "data['overweight'] = data['bmi'] > 25\n",
    "print(data)\n",
    "data['overweight'] = data['overweight'].map({True:'Yes', False:'No'})\n",
    "print(data)"
   ]
  },
  {
   "cell_type": "markdown",
   "metadata": {},
   "source": [
    "### 6.6.2  類型特徵"
   ]
  },
  {
   "cell_type": "code",
   "execution_count": 3,
   "metadata": {},
   "outputs": [
    {
     "name": "stdout",
     "output_type": "stream",
     "text": [
      "(array([0, 1, 1]), Index(['第一組', '第二組'], dtype='object'))\n",
      "  string  num  組別_第一組  組別_第二組\n",
      "0    第一組    0       1       0\n",
      "1    第二組    1       0       1\n",
      "2    第二組    1       0       1\n"
     ]
    }
   ],
   "source": [
    "import pandas as pd\n",
    "dic = {'string': ['第一組', '第二組', '第二組']}\n",
    "data = pd.DataFrame(dic)\n",
    "print(pd.factorize(data.string)) # 轉換成數值型編碼\n",
    "\n",
    "data['num'] = pd.factorize(data['string'])[0]\n",
    "df = pd.get_dummies(data['string'], prefix='組別')  # 轉換成onehot類型編碼\n",
    "new_data = pd.concat([data, df], axis=1)\n",
    "print(new_data)"
   ]
  },
  {
   "cell_type": "markdown",
   "metadata": {},
   "source": [
    "### 6.6.3  關鍵字特徵"
   ]
  },
  {
   "cell_type": "code",
   "execution_count": 4,
   "metadata": {},
   "outputs": [],
   "source": [
    "import pandas as pd\n",
    "import numpy as np\n",
    "from scipy import stats\n",
    "import jieba\n",
    "import re\n",
    "\n",
    "def do_split(test_text):\n",
    "    pattern = r',|\\.|/|;|\\'|`|\\[|\\]|<|>|\\?|:|\"|\\{|\\}|\\~|!|？|@|#|\\$|%|\\^|&|\\(|\\)|-|=|\\_|\\+|，|。|、|；|‘|’|【|】03   |·|！| |…|（|）' \n",
    "    return re.split(pattern, test_text) \n",
    "\n"
   ]
  },
  {
   "cell_type": "code",
   "execution_count": 5,
   "metadata": {},
   "outputs": [
    {
     "name": "stderr",
     "output_type": "stream",
     "text": [
      "Building prefix dict from the default dictionary ...\n",
      "Loading model from cache /tmp/jieba.cache\n",
      "Loading model cost 0.465 seconds.\n",
      "Prefix dict has been built succesfully.\n",
      "/usr/local/lib/python3.6/dist-packages/ipykernel_launcher.py:22: UserWarning: This pattern has match groups. To actually get the groups, use str.extract.\n",
      "/usr/local/lib/python3.6/dist-packages/numpy/core/fromnumeric.py:3118: RuntimeWarning: Mean of empty slice.\n",
      "  out=out, **kwargs)\n",
      "/usr/local/lib/python3.6/dist-packages/numpy/core/_methods.py:85: RuntimeWarning: invalid value encountered in double_scalars\n",
      "  ret = ret.dtype.type(ret / rcount)\n"
     ]
    },
    {
     "name": "stdout",
     "output_type": "stream",
     "text": [
      "['掙錢是一種能力', '搶紅包拼的是技術', '一起發出的現金紅包', '￣', '3￣', '╭http', 't', 'cn', '紅包', '掙錢', '能力', '搶紅包', '搶到', '一起', '發出', '現金', '幸福', '粉絲', 'http', '這些', '喜歡', '分享自', '羊年未到', '好運先來', '你也來試試手氣', '就是', '好運', '先來', '來試', '試試', '試手', '手氣', '東西', '軟件', '下載', '3', 'IT', '#IT#', '新聞', '支付寶錢包', '羊年好運就此開啓', '你也來試試手氣吧', '╮', '支付', '支付寶', '錢包', '就此', '開啓', '來自', '網易雲音樂', '網易', '音樂', '已經', '一個', '16', '發表', '需要', '他們', '工程', '工程師', '開發', '不是', '代碼', '理解', '進行', '創業', '快的打車', '打車', '感覺', '今天', '評論', '查看', '成爲', '活動', '幸運', '一些', '我正在', '爲', '正在', '支持', '小時', 'in', '手機', '自己', '2015', '信息', '我搶到了', '發出的現金紅包', '閱讀', '使用', '單詞', '管理', '設計', '30', '項目', '15', '工具', '免費', '提供', '快來', '未來', 'on', '來', '博客', '贊', '還有', '向', 'and', '簡單', '環境', 'from', '獲得', 'for', '詳情', 'at', 'Y', '小夥伴們', '——', '快來試試手氣', '23', '形', '51', '幫助', '01', '的現金紅包', '/', '我在', 'T', '「', '轉', '」', 'X', 'be']\n"
     ]
    }
   ],
   "source": [
    "def get_keywords(data, feat):\n",
    "    ret = []\n",
    "    data[feat] = data[feat].apply(lambda x: x.strip())\n",
    "    for i in data[feat].unique():\n",
    "        # 將短句作爲關鍵字\n",
    "        if len(i) <= 50 and i not in ret:\n",
    "            ret.append(i)\n",
    "        # 將子句作爲關鍵字\n",
    "        for sentence in do_split(i):\n",
    "            if len(sentence) <= 50 and sentence not in ret:\n",
    "                ret.append(sentence)\n",
    "        # 將詞作爲關鍵字\n",
    "        for word in jieba.lcut(i, cut_all=True):\n",
    "            if len(word) > 1 and word not in ret:\n",
    "                ret.append(word)\n",
    "    return ret\n",
    "\n",
    "def check_freq(data, feat, keywords, limit):\n",
    "    ret = []\n",
    "    for key in keywords:\n",
    "        try:\n",
    "            if len(data[data[feat].str.contains(key)]) > limit:\n",
    "                ret.append(key)\n",
    "        except:\n",
    "            pass\n",
    "    return ret\n",
    "\n",
    "def do_test(data, feat, key, y, debug=False):\n",
    "    arr1 = data[data[feat].str.contains(key) == True][y]\n",
    "    arr2 = data[data[feat].str.contains(key) == False][y]\n",
    "    ret1 = stats.ttest_ind(arr1, arr2, equal_var = False)\n",
    "    ret2 = stats.levene(arr1, arr2)\n",
    "    if ret1.pvalue < 0.05 or ret2.pvalue < 0.05:\n",
    "        return True    \n",
    "    return False\n",
    "\n",
    "def check(data, feat, y):\n",
    "    ret = []\n",
    "    keywords = get_keywords(data, feat)\n",
    "    arr = check_freq(data, feat, keywords, 5)\n",
    "    for word in arr:\n",
    "        if do_test(data, feat, word, y):\n",
    "            ret.append(word)\n",
    "    return ret\n",
    "\n",
    "# 讀取數據文件的前500條數據，其中第6個字段是微博內容，第5個字段爲點贊次數。\n",
    "data = pd.read_csv('weibo_train_data.txt', sep='\\t', \n",
    "                   header=None, nrows=500)\n",
    "print(check(data, 6, 5))"
   ]
  }
 ],
 "metadata": {
  "kernelspec": {
   "display_name": "Python 3",
   "language": "python",
   "name": "python3"
  },
  "language_info": {
   "codemirror_mode": {
    "name": "ipython",
    "version": 3
   },
   "file_extension": ".py",
   "mimetype": "text/x-python",
   "name": "python",
   "nbconvert_exporter": "python",
   "pygments_lexer": "ipython3",
   "version": "3.6.8"
  }
 },
 "nbformat": 4,
 "nbformat_minor": 2
}
