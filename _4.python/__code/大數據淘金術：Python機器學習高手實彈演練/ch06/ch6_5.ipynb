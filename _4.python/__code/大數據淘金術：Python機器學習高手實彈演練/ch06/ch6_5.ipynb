{
 "cells": [
  {
   "cell_type": "code",
   "execution_count": 1,
   "metadata": {},
   "outputs": [],
   "source": [
    "# -*- coding:utf-8 -*- #\n",
    "\n",
    "import pandas as pd"
   ]
  },
  {
   "cell_type": "markdown",
   "metadata": {},
   "source": [
    "### 6.5.1  merge方法"
   ]
  },
  {
   "cell_type": "code",
   "execution_count": 2,
   "metadata": {},
   "outputs": [
    {
     "name": "stdout",
     "output_type": "stream",
     "text": [
      "   id  val1  val2\n",
      "0   1     2   NaN\n",
      "1   2     4   6.0\n",
      "2   2     4   5.0\n",
      "3   3     6   9.0\n"
     ]
    }
   ],
   "source": [
    "df1 = pd.DataFrame({'id': [1, 2, 3], 'val1': [2, 4, 6]})\n",
    "df2 = pd.DataFrame({'id': [3, 2, 2], 'val2': [9, 6, 5]})\n",
    "print(pd.merge(df1, df2, how='left'))"
   ]
  },
  {
   "cell_type": "markdown",
   "metadata": {},
   "source": [
    "### 6.5.2  concat方法"
   ]
  },
  {
   "cell_type": "code",
   "execution_count": 3,
   "metadata": {},
   "outputs": [
    {
     "name": "stdout",
     "output_type": "stream",
     "text": [
      "   id  val1  val2\n",
      "0   1   2.0   NaN\n",
      "1   2   4.0   NaN\n",
      "2   3   6.0   NaN\n",
      "0   3   NaN   9.0\n",
      "1   2   NaN   6.0\n",
      "2   2   NaN   5.0\n",
      "   id  val1  id  val2\n",
      "0   1     2   3     9\n",
      "1   2     4   2     6\n",
      "2   3     6   2     5\n"
     ]
    },
    {
     "name": "stderr",
     "output_type": "stream",
     "text": [
      "/usr/local/lib/python3.6/dist-packages/ipykernel_launcher.py:3: FutureWarning: Sorting because non-concatenation axis is not aligned. A future version\n",
      "of pandas will change to not sort by default.\n",
      "\n",
      "To accept the future behavior, pass 'sort=False'.\n",
      "\n",
      "To retain the current behavior and silence the warning, pass 'sort=True'.\n",
      "\n",
      "  This is separate from the ipykernel package so we can avoid doing imports until\n"
     ]
    }
   ],
   "source": [
    "df1 = pd.DataFrame({'id': [1, 2, 3], 'val1': [2, 4, 6]})\n",
    "df2 = pd.DataFrame({'id': [3, 2, 2], 'val2': [9, 6, 5]})\n",
    "print(pd.concat([df1, df2]))\n",
    "print(pd.concat([df1, df2], axis=1))"
   ]
  }
 ],
 "metadata": {
  "kernelspec": {
   "display_name": "Python 3",
   "language": "python",
   "name": "python3"
  },
  "language_info": {
   "codemirror_mode": {
    "name": "ipython",
    "version": 3
   },
   "file_extension": ".py",
   "mimetype": "text/x-python",
   "name": "python",
   "nbconvert_exporter": "python",
   "pygments_lexer": "ipython3",
   "version": "3.6.8"
  }
 },
 "nbformat": 4,
 "nbformat_minor": 2
}
