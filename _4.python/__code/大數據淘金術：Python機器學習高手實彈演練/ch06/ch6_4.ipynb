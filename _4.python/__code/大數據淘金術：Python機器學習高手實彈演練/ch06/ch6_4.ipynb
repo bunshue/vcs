{
 "cells": [
  {
   "cell_type": "code",
   "execution_count": 1,
   "metadata": {},
   "outputs": [],
   "source": [
    "# -*- coding:utf-8 -*- #"
   ]
  },
  {
   "cell_type": "markdown",
   "metadata": {},
   "source": [
    "### 6.4.1  簡單隨機抽樣 "
   ]
  },
  {
   "cell_type": "code",
   "execution_count": 2,
   "metadata": {},
   "outputs": [
    {
     "name": "stdout",
     "output_type": "stream",
     "text": [
      "     popul  TVnews  selfLR  ClinLR  DoleLR  PID   age  educ  income  vote  \\\n",
      "84     0.0     2.0     6.0     4.0     5.0  4.0  34.0   4.0     5.0   1.0   \n",
      "693  290.0     1.0     5.0     3.0     6.0  2.0  37.0   4.0    21.0   0.0   \n",
      "884    9.0     1.0     3.0     3.0     6.0  2.0  65.0   7.0    24.0   0.0   \n",
      "707    0.0     2.0     5.0     3.0     6.0  5.0  31.0   7.0    21.0   1.0   \n",
      "70   350.0     1.0     4.0     5.0     6.0  5.0  30.0   6.0     5.0   0.0   \n",
      "\n",
      "     logpopul  \n",
      "84  -2.302585  \n",
      "693  5.670226  \n",
      "884  2.208274  \n",
      "707 -2.302585  \n",
      "70   5.858219  \n"
     ]
    }
   ],
   "source": [
    "import statsmodels.api as sm\n",
    "import pandas as pd\n",
    "import numpy as np\n",
    "import random\n",
    "\n",
    "data = sm.datasets.anes96.load_pandas().data\n",
    "df = data.sample(50)\n",
    "print(df.head())"
   ]
  },
  {
   "cell_type": "markdown",
   "metadata": {},
   "source": [
    "### 6.4.2  系統抽樣 "
   ]
  },
  {
   "cell_type": "code",
   "execution_count": 3,
   "metadata": {},
   "outputs": [
    {
     "name": "stdout",
     "output_type": "stream",
     "text": [
      "     popul  TVnews  selfLR  ClinLR  DoleLR  PID   age  educ  income  vote  \\\n",
      "0      0.0     7.0     7.0     1.0     6.0  6.0  36.0   3.0     1.0   1.0   \n",
      "10  1600.0     0.0     3.0     2.0     4.0  4.0  26.0   2.0     1.0   0.0   \n",
      "20    74.0     7.0     4.0     4.0     7.0  2.0  88.0   2.0     2.0   0.0   \n",
      "30   350.0     0.0     3.0     4.0     7.0  2.0  26.0   2.0     2.0   0.0   \n",
      "40   180.0     6.0     5.0     5.0     5.0  0.0  51.0   2.0     3.0   0.0   \n",
      "\n",
      "    logpopul  \n",
      "0  -2.302585  \n",
      "10  7.377821  \n",
      "20  4.305416  \n",
      "30  5.858219  \n",
      "40  5.193512  \n"
     ]
    }
   ],
   "source": [
    "index_list = [i for i in range(len(data)) if i % 10 == 0]\n",
    "df = data.iloc[index_list]\n",
    "print(df.head())"
   ]
  },
  {
   "cell_type": "markdown",
   "metadata": {},
   "source": [
    "### 6.4.3  分層抽樣 "
   ]
  },
  {
   "cell_type": "code",
   "execution_count": 4,
   "metadata": {},
   "outputs": [
    {
     "name": "stdout",
     "output_type": "stream",
     "text": [
      "          popul  TVnews  selfLR  ClinLR  DoleLR  PID   age  educ  income  \\\n",
      "vote                                                                       \n",
      "0.0  255   93.0     2.0     1.0     3.0     6.0  1.0  41.0   6.0    14.0   \n",
      "     311  190.0     4.0     2.0     3.0     6.0  0.0  62.0   7.0    15.0   \n",
      "     89    31.0     7.0     2.0     2.0     7.0  0.0  22.0   4.0     6.0   \n",
      "     1    190.0     1.0     3.0     3.0     5.0  1.0  20.0   4.0     1.0   \n",
      "     558  290.0     7.0     2.0     2.0     7.0  0.0  35.0   4.0    19.0   \n",
      "\n",
      "          vote  logpopul  \n",
      "vote                      \n",
      "0.0  255   0.0  4.533674  \n",
      "     311   0.0  5.247550  \n",
      "     89    0.0  3.437208  \n",
      "     1     0.0  5.247550  \n",
      "     558   0.0  5.670226  \n"
     ]
    }
   ],
   "source": [
    "def typicalSampling(grp, typicalFracDict):\n",
    "    name = grp.name\n",
    "    frac = typicalFracDict[name]\n",
    "    return grp.sample(frac=frac)\n",
    "\n",
    "typicalFracDict = {\n",
    "    0.0: 0.35,  \n",
    "    1.0: 0.5,  \n",
    "}\n",
    "df = data.groupby('vote').apply(typicalSampling, typicalFracDict)\n",
    "print(df.head())"
   ]
  },
  {
   "cell_type": "markdown",
   "metadata": {},
   "source": [
    "### 6.4.4  整羣抽樣 "
   ]
  },
  {
   "cell_type": "code",
   "execution_count": 5,
   "metadata": {},
   "outputs": [
    {
     "name": "stdout",
     "output_type": "stream",
     "text": [
      "     popul  TVnews  selfLR  ClinLR  DoleLR  PID   age  educ  income  vote  \\\n",
      "573    1.0     3.0     6.0     1.0     6.0  4.0  49.0   6.0    20.0   1.0   \n",
      "574   22.0     7.0     5.0     2.0     7.0  2.0  43.0   7.0    20.0   0.0   \n",
      "575    1.0     0.0     4.0     3.0     5.0  6.0  39.0   4.0    20.0   1.0   \n",
      "576    2.0     2.0     4.0     3.0     7.0  1.0  27.0   3.0    20.0   0.0   \n",
      "577   34.0     4.0     6.0     2.0     6.0  6.0  30.0   6.0    20.0   1.0   \n",
      "\n",
      "     logpopul  \n",
      "573  0.095310  \n",
      "574  3.095578  \n",
      "575  0.095310  \n",
      "576  0.741937  \n",
      "577  3.529297  \n"
     ]
    }
   ],
   "source": [
    "unique = np.unique(data['income'])\n",
    "sample = random.sample(list(unique),2)\n",
    "df = pd.DataFrame()\n",
    "for label in sample:\n",
    "    tmp = data[data['income']==label]  \n",
    "    df = pd.concat([df, tmp])\n",
    "print(df.head())"
   ]
  }
 ],
 "metadata": {
  "kernelspec": {
   "display_name": "Python 3",
   "language": "python",
   "name": "python3"
  },
  "language_info": {
   "codemirror_mode": {
    "name": "ipython",
    "version": 3
   },
   "file_extension": ".py",
   "mimetype": "text/x-python",
   "name": "python",
   "nbconvert_exporter": "python",
   "pygments_lexer": "ipython3",
   "version": "3.6.8"
  }
 },
 "nbformat": 4,
 "nbformat_minor": 2
}
