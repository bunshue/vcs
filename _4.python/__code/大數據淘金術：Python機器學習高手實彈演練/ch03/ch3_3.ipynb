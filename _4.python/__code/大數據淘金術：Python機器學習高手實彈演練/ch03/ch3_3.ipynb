{
 "cells": [
  {
   "cell_type": "code",
   "execution_count": 1,
   "metadata": {},
   "outputs": [],
   "source": [
    "# -*- coding:utf-8 -*-\n",
    "\n",
    "import pandas as pd\n",
    "import numpy as np"
   ]
  },
  {
   "cell_type": "markdown",
   "metadata": {},
   "source": [
    "### 3.3.1  分組groupby"
   ]
  },
  {
   "cell_type": "code",
   "execution_count": 2,
   "metadata": {},
   "outputs": [
    {
     "name": "stdout",
     "output_type": "stream",
     "text": [
      "   popul  TVnews  selfLR  ClinLR  DoleLR  PID   age  educ  income  vote  \\\n",
      "0    0.0     7.0     7.0     1.0     6.0  6.0  36.0   3.0     1.0   1.0   \n",
      "1  190.0     1.0     3.0     3.0     5.0  1.0  20.0   4.0     1.0   0.0   \n",
      "2   31.0     7.0     2.0     2.0     6.0  1.0  24.0   6.0     1.0   0.0   \n",
      "3   83.0     4.0     3.0     4.0     5.0  1.0  28.0   6.0     1.0   0.0   \n",
      "4  640.0     7.0     5.0     6.0     4.0  0.0  68.0   6.0     1.0   0.0   \n",
      "\n",
      "   logpopul  \n",
      "0 -2.302585  \n",
      "1  5.247550  \n",
      "2  3.437208  \n",
      "3  4.420045  \n",
      "4  6.461624  \n",
      "7\n",
      "14\n",
      "2\n",
      "    popul  TVnews  selfLR  ClinLR  DoleLR  PID   age  educ  income  vote  \\\n",
      "1   190.0     1.0     3.0     3.0     5.0  1.0  20.0   4.0     1.0   0.0   \n",
      "3    83.0     4.0     3.0     4.0     5.0  1.0  28.0   6.0     1.0   0.0   \n",
      "5   110.0     3.0     3.0     4.0     6.0  1.0  21.0   4.0     1.0   0.0   \n",
      "7    31.0     1.0     5.0     4.0     5.0  4.0  21.0   4.0     1.0   0.0   \n",
      "9  2800.0     0.0     3.0     3.0     7.0  0.0  39.0   3.0     1.0   0.0   \n",
      "\n",
      "   logpopul  \n",
      "1  5.247550  \n",
      "3  4.420045  \n",
      "5  4.701389  \n",
      "7  3.437208  \n",
      "9  7.937410  \n",
      "0    popul  TVnews  selfLR  ClinLR  DoleLR  PID   age  educ  income  vote  \\\n",
      "0    0.0     7.0     7.0     1.0     6.0  6.0  36.0   3.0     1.0   1.0   \n",
      "2   31.0     7.0     2.0     2.0     6.0  1.0  24.0   6.0     1.0   0.0   \n",
      "4  640.0     7.0     5.0     6.0     4.0  0.0  68.0   6.0     1.0   0.0   \n",
      "6  100.0     7.0     5.0     6.0     4.0  1.0  77.0   4.0     1.0   0.0   \n",
      "8  180.0     7.0     4.0     6.0     3.0  3.0  31.0   4.0     1.0   0.0   \n",
      "\n",
      "   logpopul  \n",
      "0 -2.302585  \n",
      "2  3.437208  \n",
      "4  6.461624  \n",
      "6  4.606170  \n",
      "8  5.193512  \n",
      "1     popul  TVnews  selfLR  ClinLR  DoleLR  PID   age  educ  income  vote  \\\n",
      "1   190.0     1.0     3.0     3.0     5.0  1.0  20.0   4.0     1.0   0.0   \n",
      "3    83.0     4.0     3.0     4.0     5.0  1.0  28.0   6.0     1.0   0.0   \n",
      "5   110.0     3.0     3.0     4.0     6.0  1.0  21.0   4.0     1.0   0.0   \n",
      "7    31.0     1.0     5.0     4.0     5.0  4.0  21.0   4.0     1.0   0.0   \n",
      "9  2800.0     0.0     3.0     3.0     7.0  0.0  39.0   3.0     1.0   0.0   \n",
      "\n",
      "   logpopul  \n",
      "1  5.247550  \n",
      "3  4.420045  \n",
      "5  4.701389  \n",
      "7  3.437208  \n",
      "9  7.937410  \n",
      "0 <class 'pandas.core.series.Series'>\n",
      "1 <class 'pandas.core.series.Series'>\n",
      "vote\n",
      "0.0    551\n",
      "1.0    393\n",
      "Name: vote, dtype: int64\n",
      "<class 'pandas.core.frame.DataFrame'>\n",
      "   vote        age\n",
      "0   0.0  46.299456\n",
      "1   1.0  48.086514\n"
     ]
    }
   ],
   "source": [
    "import statsmodels.api as sm\n",
    "data = sm.datasets.anes96.load_pandas().data\n",
    "print(data.head())\n",
    "\n",
    "grp = data.groupby('educ') # 按單特徵分組\n",
    "print(len(grp))\n",
    "grp = data.groupby(['educ','vote']) # 按兩特徵分組\n",
    "print(len(grp))\n",
    "grp = data.groupby(lambda n: n%2) # 按索引值奇偶分組\n",
    "print(len(grp))\n",
    "\n",
    "print(grp.get_group(1).head())\n",
    "\n",
    "for desc,item in grp:\n",
    "    print(desc, item.head())\n",
    "\n",
    "for desc,item in grp['age']:\n",
    "    print(desc, type(item))\n",
    "\n",
    "grp = data.groupby(['vote'])\n",
    "print(grp['vote'].count()) # 求每組人數\n",
    "\n",
    "df = grp['age'].mean().reset_index()\n",
    "print(type(df))\n",
    "print(df)"
   ]
  },
  {
   "cell_type": "markdown",
   "metadata": {},
   "source": [
    "### 3.3.2  聚合agg"
   ]
  },
  {
   "cell_type": "code",
   "execution_count": 3,
   "metadata": {},
   "outputs": [
    {
     "name": "stdout",
     "output_type": "stream",
     "text": [
      "   AVGEXP   AGE  INCOME  INCOMESQ  OWNRENT\n",
      "0  124.98  38.0    4.52   20.4304      1.0\n",
      "1    9.85  33.0    2.42    5.8564      0.0\n",
      "2   15.00  34.0    4.50   20.2500      1.0\n",
      "3  137.87  31.0    2.54    6.4516      0.0\n",
      "4  546.50  32.0    9.79   95.8441      1.0\n",
      "             AVGEXP        AGE    INCOME   INCOMESQ\n",
      "OWNRENT                                            \n",
      "0.0      203.000667  28.866667  2.818667   8.764329\n",
      "1.0      361.751111  35.296296  4.467778  24.490293\n",
      "         AVGEXP   AGE  INCOME  INCOMESQ\n",
      "OWNRENT                                \n",
      "0.0      306.03  41.0     6.0      36.0\n",
      "1.0      548.03  40.0    10.0     100.0\n"
     ]
    }
   ],
   "source": [
    "data = sm.datasets.ccard.load_pandas().data\n",
    "print(data.head()) # 顯示數據前5行\n",
    "\n",
    "grp = data.groupby('OWNRENT')\n",
    "print(grp.agg(np.mean)) # 調用聚合函數\n",
    "\n",
    "print(grp.agg(lambda df: df.loc[(df.INCOME.idxmax())]))"
   ]
  },
  {
   "cell_type": "markdown",
   "metadata": {},
   "source": [
    "### 3.3.3  轉換Transform"
   ]
  },
  {
   "cell_type": "code",
   "execution_count": 4,
   "metadata": {},
   "outputs": [
    {
     "name": "stdout",
     "output_type": "stream",
     "text": [
      "   INCOME  NEW_INCOME  OWNRENT\n",
      "0    4.52    0.052222      1.0\n",
      "1    2.42   -0.398667      0.0\n",
      "2    4.50    0.032222      1.0\n",
      "3    2.54   -0.278667      0.0\n",
      "4    9.79    5.322222      1.0\n"
     ]
    }
   ],
   "source": [
    "data = sm.datasets.ccard.load_pandas().data # 讀取數據\n",
    "grp = data.groupby('OWNRENT')\n",
    "data['NEW_INCOME'] = grp['INCOME'].transform(lambda x: x - x.mean()) # 按組轉換\n",
    "print(data[['INCOME', 'NEW_INCOME', 'OWNRENT']].head())"
   ]
  },
  {
   "cell_type": "markdown",
   "metadata": {},
   "source": [
    "### 3.3.4  過濾Filter"
   ]
  },
  {
   "cell_type": "code",
   "execution_count": 5,
   "metadata": {},
   "outputs": [
    {
     "name": "stdout",
     "output_type": "stream",
     "text": [
      "   AVGEXP   AGE  INCOME  INCOMESQ  OWNRENT\n",
      "0  124.98  38.0    4.52   20.4304      1.0\n",
      "2   15.00  34.0    4.50   20.2500      1.0\n",
      "4  546.50  32.0    9.79   95.8441      1.0\n",
      "7  150.79  29.0    2.37    5.6169      1.0\n",
      "8  777.82  37.0    3.80   14.4400      1.0\n"
     ]
    }
   ],
   "source": [
    "data = sm.datasets.ccard.load_pandas().data\n",
    "grp = data.groupby('OWNRENT')\n",
    "print(grp.filter(lambda df: False if df['INCOME'].mean() < 3 else True).head())"
   ]
  },
  {
   "cell_type": "markdown",
   "metadata": {},
   "source": [
    "### 3.3.5  應用Apply"
   ]
  },
  {
   "cell_type": "code",
   "execution_count": 6,
   "metadata": {},
   "outputs": [
    {
     "name": "stdout",
     "output_type": "stream",
     "text": [
      "             AVGEXP        AGE    INCOME   INCOMESQ  OWNRENT\n",
      "OWNRENT                                                     \n",
      "0.0      203.000667  28.866667  2.818667   8.764329      0.0\n",
      "1.0      361.751111  35.296296  4.467778  24.490293      1.0\n",
      "0    0.052222\n",
      "1   -0.398667\n",
      "2    0.032222\n",
      "3   -0.278667\n",
      "4    5.322222\n",
      "Name: INCOME, dtype: float64\n",
      "           AVGEXP   AGE  INCOME  INCOMESQ  OWNRENT\n",
      "OWNRENT                                           \n",
      "0.0     1    9.85  33.0    2.42    5.8564      0.0\n",
      "        3  137.87  31.0    2.54    6.4516      0.0\n",
      "        5   92.00  23.0    2.50    6.2500      0.0\n",
      "        6   40.83  28.0    3.96   15.6816      0.0\n",
      "        9   52.58  28.0    3.20   10.2400      0.0\n",
      "           AVGEXP   AGE  INCOME  INCOMESQ  OWNRENT\n",
      "OWNRENT                                           \n",
      "0.0     1    9.85  33.0    2.42    5.8564      0.0\n",
      "        3  137.87  31.0    2.54    6.4516      0.0\n",
      "        5   92.00  23.0    2.50    6.2500      0.0\n"
     ]
    }
   ],
   "source": [
    "print(grp.apply(np.mean))\n",
    "print(grp['INCOME'].apply(lambda x: x - x.mean()).head()) # 同transform\n",
    "print(grp.apply(lambda df: df if df['INCOME'].mean() < 3 else None).head())\n",
    "print(grp.apply(lambda df: df.head(3) if df['INCOME'].mean() < 3 else None).head())"
   ]
  }
 ],
 "metadata": {
  "kernelspec": {
   "display_name": "Python 3",
   "language": "python",
   "name": "python3"
  },
  "language_info": {
   "codemirror_mode": {
    "name": "ipython",
    "version": 3
   },
   "file_extension": ".py",
   "mimetype": "text/x-python",
   "name": "python",
   "nbconvert_exporter": "python",
   "pygments_lexer": "ipython3",
   "version": "3.6.8"
  }
 },
 "nbformat": 4,
 "nbformat_minor": 2
}
