{
 "cells": [
  {
   "cell_type": "code",
   "execution_count": 1,
   "metadata": {},
   "outputs": [],
   "source": [
    "# -*- coding:utf-8 -*-\n",
    "\n",
    "import pandas as pd"
   ]
  },
  {
   "cell_type": "markdown",
   "metadata": {},
   "source": [
    "### 3.2.1  訪問數據表元素"
   ]
  },
  {
   "cell_type": "code",
   "execution_count": 2,
   "metadata": {},
   "outputs": [
    {
     "name": "stdout",
     "output_type": "stream",
     "text": [
      "0     1\n",
      "1    11\n",
      "Name: a, dtype: int64\n",
      "    a   b\n",
      "0   1   2\n",
      "1  11  12\n"
     ]
    }
   ],
   "source": [
    "# 訪問列\n",
    "df = pd.DataFrame([[1,2],[11,12]], columns=['a','b'])\n",
    "print(df['a']) # 用列名訪問\n",
    "print(df[['a','b']]) # 用列名數據訪問多列"
   ]
  },
  {
   "cell_type": "code",
   "execution_count": 3,
   "metadata": {},
   "outputs": [
    {
     "name": "stdout",
     "output_type": "stream",
     "text": [
      "   a  b\n",
      "0  1  2\n",
      "<class 'pandas.core.frame.DataFrame'>\n"
     ]
    }
   ],
   "source": [
    "# 訪問記錄\n",
    "print(df[:1]) # 用切片方式訪問多行\n",
    "print(type(df[:1])) # 顯示返回值類型"
   ]
  },
  {
   "cell_type": "code",
   "execution_count": 4,
   "metadata": {},
   "outputs": [
    {
     "name": "stdout",
     "output_type": "stream",
     "text": [
      "0    False\n",
      "1     True\n",
      "Name: a, dtype: bool\n",
      "    a   b\n",
      "1  11  12\n",
      "    a   b\n",
      "1  11  12\n"
     ]
    }
   ],
   "source": [
    "# 條件篩選記錄\n",
    "print(df['a']==11)\n",
    "print(df[df['a'] == 11]) # 篩選數據表中a值爲11的所有行\n",
    "print(df[(df['a'] > 10) & (df['a'] < 20)]) # 篩選a值在10-20之間的所有記錄"
   ]
  },
  {
   "cell_type": "code",
   "execution_count": 5,
   "metadata": {},
   "outputs": [
    {
     "name": "stdout",
     "output_type": "stream",
     "text": [
      "1\n",
      "    b\n",
      "0   2\n",
      "1  12\n",
      "   a\n",
      "0  1\n",
      "2\n",
      "        a   b\n",
      "item1   1   2\n",
      "item2  11  12\n",
      "        a   b\n",
      "item1   1   2\n",
      "item2  11  12\n",
      "        a   b\n",
      "item2  11  12\n"
     ]
    }
   ],
   "source": [
    "# 訪問具體元素\n",
    "df = pd.DataFrame([[1,2],[11,12]], columns=['a','b'])\n",
    "print(df.iloc[0,0]) # 用下標註訪問數據\n",
    "print(df.iloc[[0,1],[1]]) # 指定下標數組\n",
    "print(df.iloc[[0],:1]) # 指定下標切片\n",
    "\n",
    "df = pd.DataFrame([[1,2],[11,12]], columns=['a','b'], index=['item1','item2'])\n",
    "print(df.loc['item1','b']) # 訪問單個元素\n",
    "print(df.loc[['item1','item2'], ['a','b']])# 用列表指定訪問範圍\n",
    "print(df.loc['item1':'item2', ]) # 用切片指定訪問範圍\n",
    "\n",
    "print(df.loc[df['a']==11,])"
   ]
  },
  {
   "cell_type": "code",
   "execution_count": 6,
   "metadata": {},
   "outputs": [
    {
     "name": "stdout",
     "output_type": "stream",
     "text": [
      "0 <class 'pandas.core.series.Series'> 1\n",
      "1 <class 'pandas.core.series.Series'> 11\n"
     ]
    }
   ],
   "source": [
    "# 迭代訪問數據表\n",
    "df = pd.DataFrame([[1,2],[11,12]], columns=['a','b'])\n",
    "for idx,item in df.iterrows():\t\n",
    "    print(idx, type(item) , item['a'])"
   ]
  },
  {
   "cell_type": "markdown",
   "metadata": {},
   "source": [
    "### 3.2.2  修改數據表元素"
   ]
  },
  {
   "cell_type": "code",
   "execution_count": 7,
   "metadata": {},
   "outputs": [
    {
     "name": "stdout",
     "output_type": "stream",
     "text": [
      "    c   a\n",
      "0   2   1\n",
      "1  12  11\n",
      "    d   a\n",
      "0   2   1\n",
      "1  12  11\n"
     ]
    }
   ],
   "source": [
    "# 修改列名\n",
    "df = pd.DataFrame([[1,2],[11,12]], columns=['a','b'])\n",
    "df.columns = ['a','c'] # 重置列名\n",
    "\n",
    "df = df[['c','a']]\n",
    "print(df)\n",
    "print(df.rename(columns = {'c':'d'}))"
   ]
  },
  {
   "cell_type": "code",
   "execution_count": 8,
   "metadata": {},
   "outputs": [
    {
     "name": "stdout",
     "output_type": "stream",
     "text": [
      "    c   a\n",
      "7   2   1\n",
      "8  12  11\n",
      "    c   a\n",
      "x   2   1\n",
      "y  12  11\n"
     ]
    }
   ],
   "source": [
    "# 修改行索引\n",
    "df.index = [7,8]\n",
    "print(df)\n",
    "print(df.rename({7:'x', 8:'y'},axis = 0))"
   ]
  },
  {
   "cell_type": "code",
   "execution_count": 9,
   "metadata": {},
   "outputs": [
    {
     "name": "stdout",
     "output_type": "stream",
     "text": [
      "    a   b\n",
      "0   4   3\n",
      "1  14  13\n",
      "    a   b\n",
      "0  21  22\n",
      "1  14  13\n",
      "    a   b\n",
      "0  32  22\n",
      "1  14  13\n",
      "    a   b\n",
      "0   1   2\n",
      "1  11  10\n"
     ]
    }
   ],
   "source": [
    "# 修改數據表內容\n",
    "df = pd.DataFrame([[1,2],[11,12]], columns=['a','b'])\n",
    "df['b'] = [3,13] # 修改b列的值\n",
    "df.loc[:,'a'] = [4,14] # 修改a列的值\n",
    "print(df)\n",
    "\n",
    "df.loc[0] = {'a':21,'b':22}\n",
    "print(df)\n",
    "\n",
    "df.loc[0,'a'] = 32\n",
    "print(df)\n",
    "\n",
    "df = pd.DataFrame([[1,2],[11,12]], columns=['a','b'])\n",
    "df.loc[df['b'] > 10, 'b'] = 10\n",
    "print(df)"
   ]
  },
  {
   "cell_type": "code",
   "execution_count": 10,
   "metadata": {},
   "outputs": [
    {
     "name": "stdout",
     "output_type": "stream",
     "text": [
      "     a      b\n",
      "0    1  False\n",
      "1  121   True\n",
      "     a      b    c\n",
      "0    1  False   -1\n",
      "1  121   True  121\n"
     ]
    }
   ],
   "source": [
    "# 批量修改\n",
    "df = pd.DataFrame([[1,2],[11,12]], columns=['a','b'])\n",
    "df['a'] = df['a'].apply(lambda x: x*x) # 修改a列\n",
    "df['b'] = df['b'].apply(lambda x: True if x > 10 else False) # 修改b列\n",
    "print(df)\n",
    "\n",
    "def f(item, arg1, arg2): # 用a,b,arg1,arg2逐條構造新列c的值\n",
    "    if item['b']:\n",
    "        return item['a'] * arg1\n",
    "    else:\n",
    "        return item['a'] * arg2\n",
    "df['c'] = df.apply(f, args={-1,1}, axis=1) # 調用函數f\n",
    "print(df)\n"
   ]
  }
 ],
 "metadata": {
  "kernelspec": {
   "display_name": "Python 3",
   "language": "python",
   "name": "python3"
  },
  "language_info": {
   "codemirror_mode": {
    "name": "ipython",
    "version": 3
   },
   "file_extension": ".py",
   "mimetype": "text/x-python",
   "name": "python",
   "nbconvert_exporter": "python",
   "pygments_lexer": "ipython3",
   "version": "3.6.8"
  }
 },
 "nbformat": 4,
 "nbformat_minor": 2
}
