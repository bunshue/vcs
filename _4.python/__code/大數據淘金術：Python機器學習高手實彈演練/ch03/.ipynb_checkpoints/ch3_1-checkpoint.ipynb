{
 "cells": [
  {
   "cell_type": "code",
   "execution_count": 1,
   "metadata": {},
   "outputs": [],
   "source": [
    "# -*- coding:utf-8 -*-\n",
    "\n",
    "import pandas as pd"
   ]
  },
  {
   "cell_type": "markdown",
   "metadata": {},
   "source": [
    "### 3.1.1  Series對象"
   ]
  },
  {
   "cell_type": "code",
   "execution_count": 2,
   "metadata": {},
   "outputs": [
    {
     "name": "stdout",
     "output_type": "stream",
     "text": [
      "item1    1\n",
      "item2    2\n",
      "item3    3\n",
      "dtype: int64\n"
     ]
    }
   ],
   "source": [
    "# 創建\n",
    "a = pd.Series([1,2,3],index=['item1','item2','item3'])\n",
    "print(a)\n",
    "\n",
    "b = pd.Series([1,2,3]) # 從列表轉換\n",
    "c = pd.Series({\"item1\":1, \"item2\":2, \"item3\":3}) # 從字典轉換"
   ]
  },
  {
   "cell_type": "code",
   "execution_count": 3,
   "metadata": {},
   "outputs": [
    {
     "name": "stdout",
     "output_type": "stream",
     "text": [
      "1\n",
      "3\n",
      "[1 2 3]\n",
      "Index(['item1', 'item2', 'item3'], dtype='object')\n",
      "[1 2 3]\n",
      "2.0\n",
      "item1    1\n",
      "item2    2\n",
      "dtype: int64\n",
      "item2    2\n",
      "item3    3\n",
      "dtype: int64\n",
      "item1    1\n",
      "dtype: int64\n",
      "item1 1\n",
      "item2 2\n",
      "item3 3\n"
     ]
    }
   ],
   "source": [
    "# 查詢\n",
    "print(a['item1'])  # 用索引號訪問\n",
    "print(a[2])  # 用下標訪問\n",
    "\n",
    "print(a.values) # 訪問數據\n",
    "print(a.index) # 訪問索引\n",
    "\n",
    "print(a.__array__()) # 訪問數據接口\n",
    "print(a.mean()) # 求Series均值\n",
    "\n",
    "print(a[['item1','item2']]) # 索引列表\n",
    "print(a[[1,2]]) # 下標列表\n",
    "print(a[:1]) # 下標切片\n",
    "\n",
    "for idx,val in a.iteritems():\n",
    "    print(idx,val) # idx爲索引號，val爲數據值"
   ]
  },
  {
   "cell_type": "code",
   "execution_count": 4,
   "metadata": {},
   "outputs": [
    {
     "name": "stdout",
     "output_type": "stream",
     "text": [
      "item1    1\n",
      "item2    2\n",
      "item3    3\n",
      "item1    1\n",
      "item2    2\n",
      "item3    3\n",
      "dtype: int64\n"
     ]
    }
   ],
   "source": [
    "# 添加\n",
    "print(a.append(c))"
   ]
  },
  {
   "cell_type": "code",
   "execution_count": 5,
   "metadata": {},
   "outputs": [
    {
     "name": "stdout",
     "output_type": "stream",
     "text": [
      "item2    2\n",
      "item3    3\n",
      "dtype: int64\n"
     ]
    }
   ],
   "source": [
    "# 刪除\n",
    "print(a.drop('item1'))"
   ]
  },
  {
   "cell_type": "markdown",
   "metadata": {},
   "source": [
    "### 3.1.2  DataFrame對象"
   ]
  },
  {
   "cell_type": "code",
   "execution_count": 6,
   "metadata": {},
   "outputs": [
    {
     "name": "stdout",
     "output_type": "stream",
     "text": [
      "       a  b\n",
      "item1  1  2\n",
      "item2  3  4\n",
      "   a  b\n",
      "0  1  2\n",
      "1  3  4\n",
      "   a  b\n",
      "0  1  2\n",
      "1  3  4\n"
     ]
    }
   ],
   "source": [
    "# 創建\n",
    "dic = {\"a\":[1,3], \"b\":[2,4]} # a,b爲列名\n",
    "print(pd.DataFrame(dic, index=['item1','item2'])) # index指定索引行號\n",
    "\n",
    "arr = [{\"a\":1,\"b\":2}, {\"a\":3,\"b\":4}] # 每個字典爲一個記錄\n",
    "print(pd.DataFrame(arr))\n",
    "\n",
    "arr = [[1,2],[3,4]]\n",
    "print(pd.DataFrame(arr, columns=['a','b'])) # columns指定列名"
   ]
  },
  {
   "cell_type": "code",
   "execution_count": 7,
   "metadata": {},
   "outputs": [
    {
     "name": "stdout",
     "output_type": "stream",
     "text": [
      "    a   b\n",
      "0   1   2\n",
      "1  11  12\n",
      "2  21  22\n",
      "    a   b\n",
      "0   1   2\n",
      "1  11  12\n",
      "2   1   2\n",
      "3  11  12\n",
      "    x   a   b   c\n",
      "0   0   1   2   3\n",
      "1  10  11  12  13\n"
     ]
    }
   ],
   "source": [
    "# 添加\n",
    "df = pd.DataFrame([[1,2],[11,12]], columns=['a','b']) # 創建dataframe\n",
    "print(df.append({'a':21,'b':22}, ignore_index=True))# 在dataframe表末尾添加記錄\n",
    "\n",
    "print(df.append(df, ignore_index=True))\n",
    "\n",
    "arr = [[1,2],[11,12]]\n",
    "df = pd.DataFrame(arr, columns=['a','b']) # 創建dataframe\n",
    "df['c'] = [3,13] # 添加新列c\n",
    "\n",
    "df.insert(0,'x',[0,10]) # 在開始位置插入新列x\n",
    "print(df)"
   ]
  },
  {
   "cell_type": "code",
   "execution_count": 8,
   "metadata": {},
   "outputs": [
    {
     "name": "stdout",
     "output_type": "stream",
     "text": [
      "   a  b\n",
      "0  1  2\n",
      "    b\n",
      "0   2\n",
      "1  12\n",
      "    b\n",
      "0   2\n",
      "1  12\n",
      "0     2\n",
      "1    12\n",
      "Name: b, dtype: int64\n",
      "    a\n",
      "0   1\n",
      "1  11\n"
     ]
    }
   ],
   "source": [
    "# 刪除\n",
    "df = pd.DataFrame([[1,2],[11,12]], columns=['a','b'])\n",
    "print(df.drop(1)) # 刪除第1行\n",
    "\n",
    "df = pd.DataFrame([[1,2],[11,12]], columns=['a','b'])\n",
    "print(df.drop('a', axis=1)) # 刪除a列\n",
    "\n",
    "df = pd.DataFrame([[1,2],[11,12]], columns=['a','b'])\n",
    "del df['a']\n",
    "print(df)\n",
    "\n",
    "df = pd.DataFrame([[1,2],[11,12]], columns=['a','b'])\n",
    "print(df.pop('b')) # b作爲函數返回值 \n",
    "print(df) # 查看數據表"
   ]
  },
  {
   "cell_type": "markdown",
   "metadata": {},
   "source": [
    "### 3.1.3  Index對象"
   ]
  },
  {
   "cell_type": "code",
   "execution_count": 9,
   "metadata": {},
   "outputs": [
    {
     "name": "stdout",
     "output_type": "stream",
     "text": [
      "Index(['line1', 'line2'], dtype='object')\n",
      "Index(['a', 'b'], dtype='object')\n",
      "Index(['x', 'y', 'z'], dtype='object')\n",
      "['x' 'y' 'z']\n",
      "y\n",
      "Index(['y'], dtype='object')\n",
      "1\n",
      "[1 2]\n"
     ]
    }
   ],
   "source": [
    "# 索引\n",
    "df = pd.DataFrame({\"a\":[1,3], \"b\":[2,4]}, index=['line1', 'line2'])\n",
    "print(df.index) # 顯示行索引\n",
    "print(df.columns) # 顯示列索引\n",
    "\n",
    "idx = pd.Index([\"x\",\"y\",\"z\"]) # 將列表轉換成索引\n",
    "print(idx) \n",
    "print(idx.values)\n",
    "\n",
    "print(idx[1])# 使用下標訪問索引值\n",
    "print(idx[1:2])# 使用下標註切片訪問索引值\n",
    "\n",
    "print(idx.get_loc(\"y\"))# 查找單個下標\n",
    "print(idx.get_indexer([\"y\",\"z\"]))# 查找下標註列表"
   ]
  },
  {
   "cell_type": "code",
   "execution_count": 10,
   "metadata": {},
   "outputs": [
    {
     "name": "stdout",
     "output_type": "stream",
     "text": [
      "    a  b\n",
      "l1  1  2\n",
      "l2  3  4\n",
      "      a    b\n",
      "l2  3.0  4.0\n",
      "l1  1.0  2.0\n",
      "l0  NaN  NaN\n",
      "    b  a\n",
      "l1  2  1\n",
      "l2  4  3\n",
      "       a  b\n",
      "line1  3  4\n",
      "line2  1  2\n",
      "       b  a\n",
      "line2  2  1\n",
      "line1  4  3\n"
     ]
    }
   ],
   "source": [
    "# 修改索引\n",
    "df = pd.DataFrame({\"a\":[1,3], \"b\":[2,4]}, index=['line1', 'line2'])\n",
    "df.index=['l1','l2'] # 對行索引重新賦值\n",
    "print(df)\n",
    "\n",
    "print(df.reindex(['l2','l1','l0'])) # 重置行索引\n",
    "print(df.reindex(columns=['b','a']))\n",
    "\n",
    "df = pd.DataFrame({\"a\":[1,3], \"b\":[2,4]}, index=['line2', 'line1'])\n",
    "print(df.sort_index())\n",
    "\n",
    "order = ['b','a']\n",
    "df = df[order]\n",
    "print(df)"
   ]
  },
  {
   "cell_type": "code",
   "execution_count": 11,
   "metadata": {},
   "outputs": [
    {
     "name": "stdout",
     "output_type": "stream",
     "text": [
      "   期中      期末    \n",
      "   語文  數學  語文  數學\n",
      "0  95  91  82  79\n",
      "1  92  80  95  85\n",
      "[('期中', '語文') ('期中', '數學') ('期末', '語文') ('期末', '數學')]\n",
      "   期中_語文  期中_數學  期末_語文  期末_數學\n",
      "0     95     91     82     79\n",
      "1     92     80     95     85\n"
     ]
    }
   ],
   "source": [
    "# 多重索引\n",
    "df = pd.read_excel('test.xlsx', header=[0,1]) # 指定前兩行爲列索引\n",
    "print(df)\n",
    "print(df.columns.values) # 查看列索引內容\n",
    "\n",
    "df.columns = ['_'.join(col).strip() for col in df.columns.values] # 重置字段名\n",
    "print(df)"
   ]
  },
  {
   "cell_type": "code",
   "execution_count": 12,
   "metadata": {},
   "outputs": [
    {
     "name": "stdout",
     "output_type": "stream",
     "text": [
      "                  AVGEXP    INCOME  INCOMESQ\n",
      "AGE  OWNRENT                                \n",
      "20.0 0.0      108.610000  1.650000  2.722500\n",
      "21.0 0.0       68.910000  1.600000  2.570000\n",
      "     1.0      552.720000  2.470000  6.100900\n",
      "22.0 0.0       65.126667  2.076667  4.553633\n",
      "23.0 0.0       72.825000  2.545000  6.479050\n",
      "    AGE  OWNRENT      AVGEXP    INCOME  INCOMESQ\n",
      "0  20.0      0.0  108.610000  1.650000  2.722500\n",
      "1  21.0      0.0   68.910000  1.600000  2.570000\n",
      "2  21.0      1.0  552.720000  2.470000  6.100900\n",
      "3  22.0      0.0   65.126667  2.076667  4.553633\n",
      "4  23.0      0.0   72.825000  2.545000  6.479050\n"
     ]
    }
   ],
   "source": [
    "import statsmodels.api as sm\n",
    "data = sm.datasets.ccard.load_pandas().data\n",
    "df = data.groupby(['AGE','OWNRENT']).mean() # 根據AGE和OWNRENT分組\n",
    "print(df.head())\n",
    "print(df.reset_index().head())"
   ]
  }
 ],
 "metadata": {
  "kernelspec": {
   "display_name": "Python 3",
   "language": "python",
   "name": "python3"
  },
  "language_info": {
   "codemirror_mode": {
    "name": "ipython",
    "version": 3
   },
   "file_extension": ".py",
   "mimetype": "text/x-python",
   "name": "python",
   "nbconvert_exporter": "python",
   "pygments_lexer": "ipython3",
   "version": "3.6.8"
  }
 },
 "nbformat": 4,
 "nbformat_minor": 2
}
