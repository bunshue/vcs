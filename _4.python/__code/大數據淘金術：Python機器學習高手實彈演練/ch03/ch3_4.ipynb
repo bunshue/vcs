{
 "cells": [
  {
   "cell_type": "code",
   "execution_count": 1,
   "metadata": {},
   "outputs": [],
   "source": [
    "# -*- coding:utf-8 -*-\n",
    "\n",
    "import pandas as pd"
   ]
  },
  {
   "cell_type": "markdown",
   "metadata": {},
   "source": [
    "### 3.4.1  Python日期時間處理"
   ]
  },
  {
   "cell_type": "code",
   "execution_count": 2,
   "metadata": {},
   "outputs": [
    {
     "name": "stdout",
     "output_type": "stream",
     "text": [
      "2019-06-27 11:37:32.078541\n",
      "2019 6 27 11 37 32\n",
      "2019-03-27 00:00:00\n"
     ]
    }
   ],
   "source": [
    "# 時間點\n",
    "from datetime import datetime\n",
    "d1 = datetime.now() # 獲取當前時間\n",
    "print(d1)\n",
    "print(d1.year, d1.month, d1.day, d1.hour, d1.minute, d1.second)\n",
    "d2 = datetime(2019, 3, 27) # 通過指定日期構造datetime\n",
    "print(d2)"
   ]
  },
  {
   "cell_type": "code",
   "execution_count": 3,
   "metadata": {},
   "outputs": [
    {
     "name": "stdout",
     "output_type": "stream",
     "text": [
      "<class 'datetime.timedelta'>\n",
      "-93 days, 12:22:27.921459\n",
      "2019-06-30 11:37:32.078541\n"
     ]
    }
   ],
   "source": [
    "# 時間段\n",
    "from datetime import timedelta\n",
    "delta = d2-d1 # 通過時間日期相減獲取\n",
    "print(type(delta))\n",
    "print(delta)\n",
    "delta = timedelta(days=3) # 通過指定時定差獲取\n",
    "print(d1+delta)# 利用時間段計算新日期時間"
   ]
  },
  {
   "cell_type": "code",
   "execution_count": 4,
   "metadata": {},
   "outputs": [
    {
     "name": "stdout",
     "output_type": "stream",
     "text": [
      "1561606653.1568227\n",
      "1561606653.0\n",
      "1553616000.0\n",
      "2019-06-27 11:37:33\n",
      "2019-06-27 11:37:33\n"
     ]
    }
   ],
   "source": [
    "# 時間戳\n",
    "import time\n",
    "print(time.time())\n",
    "\n",
    "d = datetime.now()\n",
    "t = time.mktime(d.timetuple()) # 從datetime格式轉換\n",
    "print(t)\n",
    "print(time.mktime(time.strptime(\"2019-03-27\", \"%Y-%m-%d\"))) # 從字符串轉換\n",
    "print(datetime.fromtimestamp(t)) \n",
    "print(time.strftime(\"%Y-%m-%d %H:%M:%S\", time.localtime(t)))"
   ]
  },
  {
   "cell_type": "code",
   "execution_count": 5,
   "metadata": {},
   "outputs": [
    {
     "name": "stdout",
     "output_type": "stream",
     "text": [
      "2019-03-27 00:00:00\n",
      "2019-03-27 00:00:00\n",
      "2019-03-27 00:00:00\n",
      "2019/03/27 00:00:00\n"
     ]
    }
   ],
   "source": [
    "# 時間類型轉換\n",
    "d = datetime.strptime('2019-03-27', '%Y-%m-%d')\n",
    "print(d)\n",
    "\n",
    "from dateutil.parser import parse\n",
    "d = parse('2019/03/27')\n",
    "print(d)\n",
    "print(str(d))\n",
    "\n",
    "print(d.strftime(\"%Y/%m/%d %H:%M:%S\"))"
   ]
  },
  {
   "cell_type": "markdown",
   "metadata": {},
   "source": [
    "### 3.4.2  Pandas日期時間處理"
   ]
  },
  {
   "cell_type": "code",
   "execution_count": 6,
   "metadata": {},
   "outputs": [
    {
     "name": "stdout",
     "output_type": "stream",
     "text": [
      "<class 'pandas._libs.tslibs.timestamps.Timestamp'> 2019-03-01 00:00:00\n",
      "<class 'pandas._libs.tslibs.timestamps.Timestamp'> 2019-06-27 11:37:34.960445\n",
      "<class 'pandas._libs.tslibs.timedeltas.Timedelta'> 118 days 11:37:34.962033 118 41854\n",
      "2019-07-24 11:37:34.962033\n",
      "2019-06-27 11:00 2019-06-27 11:00:00 2019-06-27 11:59:59.999999999\n",
      "           d\n",
      "0 2019-03-01\n",
      "1 2019-03-02\n",
      "2 2019-03-03\n"
     ]
    }
   ],
   "source": [
    "# 時間點TimeStamp\n",
    "\n",
    "t = pd.to_datetime('2019-03-01 00:00:00') # 從字符串轉換\n",
    "print(type(t), t)\n",
    "t = pd.to_datetime(datetime.now()) # 從datetime格式轉換\n",
    "print(type(t), t)\n",
    "\n",
    "# 時間間隔\n",
    "t1 = pd.to_datetime('2019-03-01 00:00:00')\n",
    "t2 = pd.to_datetime(datetime.now())\n",
    "delta = t2-t1 # 通過TimeStamp相減獲取\n",
    "print(type(delta), delta, delta.days, delta.seconds)\n",
    "\n",
    "delta = pd.Timedelta(days=27) # 構造時間間隔爲27天\n",
    "print(t2 + delta)\n",
    "\n",
    "# 時間段Period\n",
    "t = pd.to_datetime(datetime.now())\n",
    "p = pd.Period(t, freq='H')\n",
    "print(p, p.start_time, p.end_time) # 顯示時間段起止時間\n",
    "\n",
    "# 批量轉換\n",
    "arr = ['2019-03-01','2019-03-02','2019-03-03']\n",
    "df = pd.DataFrame({'d':arr})\n",
    "df['d'] = pd.to_datetime(df['d'])\n",
    "print(df)"
   ]
  },
  {
   "cell_type": "markdown",
   "metadata": {},
   "source": [
    "### 3.4.3  時間序列操作"
   ]
  },
  {
   "cell_type": "code",
   "execution_count": 7,
   "metadata": {},
   "outputs": [
    {
     "name": "stdout",
     "output_type": "stream",
     "text": [
      "DatetimeIndex(['2019-03-01', '2019-03-02', '2019-03-03'], dtype='datetime64[ns]', name='d', freq=None)\n",
      "            val\n",
      "date           \n",
      "2017-12-30    5\n",
      "2017-12-31    6\n",
      "2018-01-01    0\n",
      "<class 'pandas.core.indexes.period.PeriodIndex'>\n",
      "372\n",
      "         val\n",
      "date        \n",
      "2017-12    5\n",
      "2017-12    6\n",
      "2018-01    0\n",
      "2017-12-01 00:00:00 2017-12-31 23:59:59.999999999\n",
      "2017-12-01 00:00:00 2017-12-31 23:59:59.999999999\n",
      "True False\n",
      "            val\n",
      "date           \n",
      "2017-12-01    5\n",
      "2017-12-01    6\n",
      "2018-01-01    0\n",
      "<class 'pandas.core.indexes.datetimes.DatetimeIndex'>\n"
     ]
    }
   ],
   "source": [
    "# 時間日期類型索引\n",
    "df.index = pd.to_datetime(df['d']) # 本例中使用了上例中構造的df[‘d’]\n",
    "print(df.index)\n",
    "\n",
    "df = pd.DataFrame()\n",
    "df['date'] = pd.date_range(start='2017-12-30',end='2019-01-05',freq='d') # 創建時間數據\n",
    "df['val'] = df['date'].apply(lambda x: x.weekday()) # 計算該日是星期幾\n",
    "df.set_index('date', inplace = True) # 設置時間索引\n",
    "print(df.head(3)) # 顯示前三條\n",
    "\n",
    "# 時間段類型索引\n",
    "df_period = df.to_period(freq='M') # 按月創建時間段\n",
    "print(type(df_period.index)) # 查看類型\n",
    "print(len(df_period)) # 查看記錄個數，與原記錄個數一致\n",
    "print(df_period.head(3))\n",
    "\n",
    "print(df_period.index[0].start_time, df_period.index[0].end_time)\n",
    "print(df_period.index[1].start_time, df_period.index[1].end_time)\n",
    "print(df.index.is_unique, df_period.index.is_unique)\n",
    "\n",
    "df_dt = df_period.to_timestamp()\n",
    "print(df_dt.head(3))\n",
    "print(type(df_dt.index))"
   ]
  },
  {
   "cell_type": "code",
   "execution_count": 8,
   "metadata": {},
   "outputs": [
    {
     "name": "stdout",
     "output_type": "stream",
     "text": [
      "            val\n",
      "date           \n",
      "2019-01-01    1\n",
      "2019-01-02    2\n",
      "2019-01-03    3\n",
      "2019-01-04    4\n",
      "2019-01-05    5\n",
      "            val\n",
      "date           \n",
      "2019-01-01    1\n",
      "2019-01-02    2\n",
      "2019-01-03    3\n",
      "2019-01-04    4\n",
      "2019-01-05    5\n",
      "            val\n",
      "date           \n",
      "2018-01-01    0\n",
      "2018-01-02    1\n",
      "2018-01-03    2\n",
      "2018-01-04    3\n",
      "2018-01-05    4\n",
      "            val\n",
      "date           \n",
      "2018-12-31    0\n",
      "2019-01-01    1\n",
      "2019-01-02    2\n",
      "2019-01-03    3\n",
      "2019-01-04    4\n",
      "            val\n",
      "date           \n",
      "2017-12-31   11\n",
      "2018-01-07   21\n",
      "2018-01-14   21\n",
      "            val               \n",
      "           open high low close\n",
      "date                          \n",
      "2017-12-31    5    6   5     6\n",
      "2018-01-31    0    6   0     2\n",
      "2018-02-28    3    6   0     2\n",
      "         val\n",
      "date        \n",
      "2017-12   11\n",
      "2018-01   87\n",
      "2018-02   84\n",
      "31\n",
      "                 val\n",
      "2019-03-01  8.000000\n",
      "2019-03-02  7.928571\n",
      "2019-03-03  7.857143\n",
      "            val\n",
      "2019-03-01  8.0\n",
      "2019-03-02  NaN\n",
      "2019-03-03  NaN\n"
     ]
    }
   ],
   "source": [
    "# 篩選和切分\n",
    "print(df['2019'])  # 篩選2019全年數據\n",
    "print(df['2019-01'])  #  篩選2019年一月全月數據\n",
    "print(df['2018':'2019'].head()) # 篩選2018年初到2019年底的所有數據\n",
    "print(df['2018-12-31':].head()) # 篩選2018-12-31及之後的數據\n",
    "\n",
    "# 重採樣\n",
    "tmp = df.resample('w').sum() # 使用疊加方式按周重採樣\n",
    "print(tmp.head(3))\n",
    "\n",
    "tmp = df.resample('M').ohlc() # 使用用ohlc方式按月降採樣\n",
    "print(tmp.head(3))\n",
    "\n",
    "tmp = df.resample('M').sum().to_period('M') # 按月降採樣，同時將時間變爲時間段\n",
    "print(tmp.head(3))\n",
    "\n",
    "df1 = pd.DataFrame({'val':[8,7,6]})\n",
    "df1.index = pd.to_datetime(['2019-03-01','2019-03-15','2019-03-31']) # 僅含三條數據\n",
    "df2 = df1.resample('D').interpolate() # 用插值方式升採樣\n",
    "print(len(df2))\n",
    "print(df2.head(3))\n",
    "\n",
    "df3 = df1.asfreq('D')\n",
    "print(df3.head(3))"
   ]
  },
  {
   "cell_type": "code",
   "execution_count": 9,
   "metadata": {},
   "outputs": [
    {
     "name": "stdout",
     "output_type": "stream",
     "text": [
      "            val  prev\n",
      "date                 \n",
      "2017-12-30    5   NaN\n",
      "2017-12-31    6   5.0\n",
      "2018-01-01    0   6.0\n",
      "            val  prev        sw\n",
      "date                           \n",
      "2017-12-30    5   NaN       NaN\n",
      "2017-12-31    6   5.0       NaN\n",
      "2018-01-01    0   6.0  3.666667\n"
     ]
    }
   ],
   "source": [
    "# 偏移\n",
    "df['prev'] = df['val'].shift() # 取前一條數據的val值作爲當前記錄中prev字段的值\n",
    "print(df.head(3))\n",
    "\n",
    "# 計算滑動窗口\n",
    "df['sw'] = df['val'].rolling(window=3).mean() # 計算窗口中數據的均值\n",
    "print(df.head(3))\n",
    "\n",
    "df['emw_3'] = df['val'].ewm(span=3).mean()\n",
    "df['emw_7'] = df['val'].ewm(span=7).mean()\n",
    "df['rolling'] = df['val'].rolling(7).mean()"
   ]
  },
  {
   "cell_type": "code",
   "execution_count": 10,
   "metadata": {},
   "outputs": [
    {
     "name": "stdout",
     "output_type": "stream",
     "text": [
      "['Africa/Abidjan', 'Africa/Accra', 'Africa/Addis_Ababa']\n",
      "2019-06-27 11:37:38.241256\n",
      "2019-06-27 11:37:38.241256+00:00\n",
      "2019-06-27 19:37:38.241256+08:00\n",
      "DatetimeIndex(['2018-12-31', '2019-01-01'], dtype='datetime64[ns]', name='date', freq=None)\n",
      "['2018-12-31T00:00:00.000000000' '2019-01-01T00:00:00.000000000'] DatetimeIndex(['2018-12-31 00:00:00+00:00', '2019-01-01 00:00:00+00:00'], dtype='datetime64[ns, UTC]', name='date', freq=None)\n",
      "['2018-12-31T00:00:00.000000000' '2019-01-01T00:00:00.000000000']\n",
      "DatetimeIndex(['2018-12-31 08:00:00+08:00', '2019-01-01 08:00:00+08:00'], dtype='datetime64[ns, Asia/Shanghai]', name='date', freq=None)\n"
     ]
    }
   ],
   "source": [
    "# 時區轉換\n",
    "\n",
    "import pytz\n",
    "print(pytz.common_timezones[:3])\n",
    "\n",
    "import datetime\n",
    "t = datetime.datetime.now()\n",
    "print(t)\n",
    "\n",
    "utc_dt = pytz.utc.localize(t)\n",
    "print(utc_dt)\n",
    "\n",
    "from pytz import timezone\n",
    "tz = timezone('Asia/Shanghai') # 將時區設爲上海\n",
    "print(utc_dt.astimezone(tz)) # 轉換時區\n",
    "\n",
    "df = pd.DataFrame()\n",
    "df['date'] = pd.date_range(start='2018-12-31',end='2019-01-01',freq='d')\n",
    "df.set_index('date', inplace=True) # 設置時間索引\n",
    "print(df.index)\n",
    "\n",
    "df.index = df.index.tz_localize('UTC')\n",
    "print(df.index.values, df.index)\n",
    "\n",
    "df.index = df.index.tz_convert('Asia/Shanghai')\n",
    "print(df.index.values)\n",
    "print(df.index)"
   ]
  },
  {
   "cell_type": "markdown",
   "metadata": {},
   "source": [
    "### 3.4.4  數據重排"
   ]
  },
  {
   "cell_type": "code",
   "execution_count": 11,
   "metadata": {},
   "outputs": [
    {
     "name": "stdout",
     "output_type": "stream",
     "text": [
      "    a  b\n",
      "l1  1  3\n",
      "l2  2  4\n",
      "   l1  l2\n",
      "a   1   2\n",
      "b   3   4\n",
      "l1  a    1\n",
      "    b    3\n",
      "l2  a    2\n",
      "    b    4\n",
      "dtype: int64\n",
      "    a  b\n",
      "l1  1  3\n",
      "l2  2  4\n",
      "   l1  l2\n",
      "a   1   2\n",
      "b   3   4\n",
      "   時間  學科  分數\n",
      "0  期中  語文  89\n",
      "1  期末  語文  75\n",
      "2  期中  數學  90\n",
      "3  期末  數學  95 學科  數學  語文\n",
      "時間        \n",
      "期中  90  89\n",
      "期末  95  75\n"
     ]
    }
   ],
   "source": [
    "# 數據錶轉置\n",
    "df = pd.DataFrame({\"a\":[1,2],\"b\":[3,4]}, index=['l1','l2'])\n",
    "print(df)\n",
    "print(df.T)\n",
    "\n",
    "# 行轉列和列轉行\n",
    "df1 = df.stack() # 列轉行\n",
    "print(df1)\n",
    "\n",
    "print(df1.unstack()) # 將內層行索引轉爲列索引\n",
    "print(df1.unstack(level=0)) # 將外層行索引轉爲列索引\n",
    "\n",
    "# 透視轉換\n",
    "df = pd.DataFrame({\"時間\":['期中','期末','期中','期末'],\n",
    "                   \"學科\":['語文','語文','數學','數學'],\n",
    "                   \"分數\":[89,75,90,95]})\n",
    "df1 = df.pivot(index='時間', columns='學科', values='分數')\n",
    "print(df, df1)"
   ]
  }
 ],
 "metadata": {
  "kernelspec": {
   "display_name": "Python 3",
   "language": "python",
   "name": "python3"
  },
  "language_info": {
   "codemirror_mode": {
    "name": "ipython",
    "version": 3
   },
   "file_extension": ".py",
   "mimetype": "text/x-python",
   "name": "python",
   "nbconvert_exporter": "python",
   "pygments_lexer": "ipython3",
   "version": "3.6.8"
  }
 },
 "nbformat": 4,
 "nbformat_minor": 2
}
