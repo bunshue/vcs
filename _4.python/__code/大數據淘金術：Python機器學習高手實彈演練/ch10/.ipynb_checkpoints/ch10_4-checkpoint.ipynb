{
 "cells": [
  {
   "cell_type": "markdown",
   "metadata": {},
   "source": [
    "### 10.4.1 切分數據集與交叉驗證"
   ]
  },
  {
   "cell_type": "code",
   "execution_count": 1,
   "metadata": {},
   "outputs": [],
   "source": [
    "from sklearn.model_selection import train_test_split\n",
    "from sklearn.datasets import load_iris\n",
    "\n",
    "iris = load_iris()\n",
    "X = iris.data\n",
    "y = iris.target\n",
    "X_train,X_test,y_train,y_test=train_test_split(X,y,test_size=0.3,random_state=10)\n",
    "X_train,X_test=train_test_split(X,test_size=0.3,random_state=10)"
   ]
  },
  {
   "cell_type": "code",
   "execution_count": 2,
   "metadata": {},
   "outputs": [
    {
     "name": "stdout",
     "output_type": "stream",
     "text": [
      "0.9714285714285714\n",
      "[1.  2.  0.  1.  0.  1.  1.6 1.  0.  1.  1.  2.  1.  0.  0.  2.  1.  0.\n",
      " 0.  0.  2.  2.  2.  0.  1.  0.  1.  1.  1.  2.  1.  1.  2.  2.  2.  0.\n",
      " 2.  2.  2.  2.  0.  0.  1.  0.  1. ]\n"
     ]
    },
    {
     "name": "stderr",
     "output_type": "stream",
     "text": [
      "/usr/local/lib/python3.6/dist-packages/sklearn/cross_validation.py:41: DeprecationWarning: This module was deprecated in version 0.18 in favor of the model_selection module into which all the refactored classes and functions are moved. Also note that the interface of the new CV iterators are different from that of this module. This module will be removed in 0.20.\n",
      "  \"This module will be removed in 0.20.\", DeprecationWarning)\n"
     ]
    }
   ],
   "source": [
    "from sklearn.cross_validation import KFold\n",
    "from sklearn.model_selection import train_test_split\n",
    "from sklearn.metrics import accuracy_score\n",
    "from sklearn.datasets import load_iris\n",
    "import numpy as np\n",
    "from sklearn.svm import SVC\n",
    "\n",
    "iris = load_iris()\n",
    "X_train,X_test,y_train,y_test=train_test_split(iris.data,iris.target,\n",
    "                                               test_size=0.3,random_state=10)\n",
    "num = 5 # 5折交叉驗證\n",
    "train_preds = np.zeros(X_train.shape[0]) # 用於保存預測結果\n",
    "test_preds = np.zeros((X_test.shape[0], num))\n",
    "kf = KFold(len(X_train), n_folds = num, shuffle=True, random_state=0)\n",
    "for i, (train_index, eval_index) in enumerate(kf):\n",
    "    clf = SVC(C=1, gamma=0.125, kernel='rbf')\n",
    "    clf.fit(X_train[train_index], y_train[train_index])\n",
    "    train_preds[eval_index] += clf.predict(X_train[eval_index])\n",
    "    test_preds[:,i] = clf.predict(X_test)\n",
    "print(accuracy_score(y_train, train_preds)) # 返回結果: 0.971428571429\n",
    "print(test_preds.mean(axis=1))"
   ]
  },
  {
   "cell_type": "code",
   "execution_count": 3,
   "metadata": {},
   "outputs": [
    {
     "name": "stdout",
     "output_type": "stream",
     "text": [
      "0.9734477124183006\n"
     ]
    }
   ],
   "source": [
    "from sklearn.model_selection import cross_val_score # python 3使用\n",
    "# from sklearn.cross_validation import cross_val_score # python 2 使用\n",
    "print(cross_val_score(clf, iris.data, iris.target).mean())"
   ]
  },
  {
   "cell_type": "markdown",
   "metadata": {},
   "source": [
    "### 10.4.2 模型調參"
   ]
  },
  {
   "cell_type": "code",
   "execution_count": 4,
   "metadata": {},
   "outputs": [
    {
     "name": "stdout",
     "output_type": "stream",
     "text": [
      "0.98\n",
      "{'C': 1, 'gamma': 0.125, 'kernel': 'rbf'}\n"
     ]
    }
   ],
   "source": [
    "# 網格搜索\n",
    "from sklearn.model_selection import GridSearchCV\n",
    "from sklearn.svm import SVC\n",
    "from sklearn.datasets import load_iris\n",
    "\n",
    "iris = load_iris()\n",
    "model = SVC(random_state=1)\n",
    "param_grid = {'kernel':('linear', 'rbf'), 'C':[1, 2, 4], # 制定參數範圍\n",
    "              'gamma':[0.125, 0.25, 0.5 ,1, 2, 4]}\n",
    "gs = GridSearchCV(estimator=model, param_grid=param_grid, scoring='accuracy', \n",
    "                  cv=10, n_jobs=-1)\n",
    "gs = gs.fit(iris.data, iris.target)\n",
    "y_pred = gs.predict(iris.data)  # 預測\n",
    "print(gs.best_score_)\n",
    "print(gs.best_params_)"
   ]
  },
  {
   "cell_type": "code",
   "execution_count": 5,
   "metadata": {},
   "outputs": [
    {
     "name": "stdout",
     "output_type": "stream",
     "text": [
      "100%|██████████| 50/50 [00:00<00:00, 405.64it/s, best loss: 0.0019107133706819787]\n",
      "{'x': 0.9562882925215455}\n",
      "{'loss': 4.991838917081291, 'status': 'ok'}\n",
      "{'loss': 68.790429559662, 'status': 'ok'}\n",
      "{'loss': 33.180512321437924, 'status': 'ok'}\n",
      "{'loss': 79.99678138957901, 'status': 'ok'}\n",
      "{'loss': 16.276785401662448, 'status': 'ok'}\n",
      "{'loss': 0.0019107133706819787, 'status': 'ok'}\n",
      "{'loss': 22.099544970541615, 'status': 'ok'}\n",
      "{'loss': 20.095125710737545, 'status': 'ok'}\n",
      "{'loss': 16.986418295445425, 'status': 'ok'}\n",
      "{'loss': 8.948088405025153, 'status': 'ok'}\n",
      "{'loss': 56.763701072666564, 'status': 'ok'}\n",
      "{'loss': 23.76261989212823, 'status': 'ok'}\n",
      "{'loss': 13.313566851253062, 'status': 'ok'}\n",
      "{'loss': 25.213708960253175, 'status': 'ok'}\n",
      "{'loss': 51.624201694350155, 'status': 'ok'}\n",
      "{'loss': 22.41120462617784, 'status': 'ok'}\n",
      "{'loss': 6.757529380445592, 'status': 'ok'}\n",
      "{'loss': 49.02157994195912, 'status': 'ok'}\n",
      "{'loss': 5.565611897090952, 'status': 'ok'}\n",
      "{'loss': 105.9409053643773, 'status': 'ok'}\n",
      "{'loss': 0.6970116083942401, 'status': 'ok'}\n",
      "{'loss': 1.0846889757899396, 'status': 'ok'}\n",
      "{'loss': 0.11063108600991105, 'status': 'ok'}\n",
      "{'loss': 0.2426750666150196, 'status': 'ok'}\n",
      "{'loss': 31.852155043232234, 'status': 'ok'}\n",
      "{'loss': 0.7185221805556725, 'status': 'ok'}\n",
      "{'loss': 6.1532319803155255, 'status': 'ok'}\n",
      "{'loss': 0.10187866033057612, 'status': 'ok'}\n",
      "{'loss': 27.71324848458878, 'status': 'ok'}\n",
      "{'loss': 2.9660273312145873, 'status': 'ok'}\n",
      "{'loss': 9.818045701651986, 'status': 'ok'}\n",
      "{'loss': 107.24890524957614, 'status': 'ok'}\n",
      "{'loss': 3.936802989388996, 'status': 'ok'}\n",
      "{'loss': 52.76868481391919, 'status': 'ok'}\n",
      "{'loss': 0.23555105302984944, 'status': 'ok'}\n",
      "{'loss': 22.018926853943576, 'status': 'ok'}\n",
      "{'loss': 71.021374422402, 'status': 'ok'}\n",
      "{'loss': 2.5167250417963603, 'status': 'ok'}\n",
      "{'loss': 14.569029745822858, 'status': 'ok'}\n",
      "{'loss': 38.475463806157215, 'status': 'ok'}\n",
      "{'loss': 5.25440737181343, 'status': 'ok'}\n",
      "{'loss': 13.286077650816688, 'status': 'ok'}\n",
      "{'loss': 76.17162681049678, 'status': 'ok'}\n",
      "{'loss': 39.60388633061971, 'status': 'ok'}\n",
      "{'loss': 12.109917711392495, 'status': 'ok'}\n",
      "{'loss': 1.443632251155846, 'status': 'ok'}\n",
      "{'loss': 79.22123800189654, 'status': 'ok'}\n",
      "{'loss': 10.9968190415216, 'status': 'ok'}\n",
      "{'loss': 0.036984756614606394, 'status': 'ok'}\n",
      "{'loss': 18.513463404305018, 'status': 'ok'}\n"
     ]
    }
   ],
   "source": [
    "# Hyperopt\n",
    "from hyperopt import fmin, tpe, hp, Trials\n",
    "trials = Trials()\n",
    "best = fmin(\n",
    "    fn=lambda x: (x-1)**2, # 最小化目標，如誤差函數\n",
    "    space=hp.uniform('x', -10, 10), # 定義搜索空間, 名稱爲x，範圍-10~10\n",
    "    algo=tpe.suggest, # 指定搜索算法\n",
    "    trials=trials, # 保存每次迭代的具體信息\n",
    "    max_evals=50) # 評估次數\n",
    "print(best) # 返回結果：{'x': 0.980859461591201}\n",
    "for t in trials.trials:\n",
    "    print(t['result'])"
   ]
  },
  {
   "cell_type": "code",
   "execution_count": 6,
   "metadata": {},
   "outputs": [
    {
     "name": "stdout",
     "output_type": "stream",
     "text": [
      "  2%|▏         | 2/100 [00:00<00:07, 12.70it/s, best loss: -0.9599673202614379]"
     ]
    },
    {
     "name": "stderr",
     "output_type": "stream",
     "text": [
      "/usr/local/lib/python3.6/dist-packages/sklearn/ensemble/weight_boosting.py:29: DeprecationWarning: numpy.core.umath_tests is an internal NumPy module and should not be imported. It will be removed in a future NumPy release.\n",
      "  from numpy.core.umath_tests import inner1d\n"
     ]
    },
    {
     "name": "stdout",
     "output_type": "stream",
     "text": [
      "100%|██████████| 100/100 [00:03<00:00, 30.52it/s, best loss: -0.9869281045751634]\n",
      "best: {'C': 1.0107348688324413, 'classifier_type': 0, 'gamma': 2.3175901182486336, 'kernel': 0}\n"
     ]
    }
   ],
   "source": [
    "from sklearn.datasets import load_iris\n",
    "from sklearn.cross_validation import cross_val_score\n",
    "from hyperopt import hp,STATUS_OK,Trials,fmin,tpe\n",
    "from sklearn.ensemble import RandomForestClassifier\n",
    "from sklearn.svm import SVC\n",
    "\n",
    "def f(params): # 定義評價函數\n",
    "    t = params['type']\n",
    "    del params['type']\n",
    "    if t == 'svm':\n",
    "        clf = SVC(**params)\n",
    "    elif t == 'randomforest':\n",
    "        clf = RandomForestClassifier(**params)\n",
    "    else:\n",
    "        return 0\n",
    "    acc = cross_val_score(clf, iris.data, iris.target).mean() \n",
    "    return {'loss': -acc, 'status': STATUS_OK} # 求最小值:準確率加負號\n",
    "\n",
    "iris=load_iris()\n",
    "space = hp.choice('classifier_type', [ # 定義可選參數\n",
    "    {\n",
    "        'type': 'svm',\n",
    "        'C': hp.uniform('C', 0, 10.0),\n",
    "        'kernel': hp.choice('kernel', ['linear', 'rbf']),\n",
    "        'gamma': hp.uniform('gamma', 0, 20.0)\n",
    "    },\n",
    "    {\n",
    "        'type': 'randomforest',\n",
    "        'max_depth': hp.choice('max_depth', range(1,20)),\n",
    "        'max_features': hp.choice('max_features', range(1,5)),\n",
    "        'n_estimators': hp.choice('n_estimators', range(1,20)),\n",
    "        'criterion': hp.choice('criterion', [\"gini\", \"entropy\"])\n",
    "    }\n",
    "])\n",
    "best = fmin(f, space, algo=tpe.suggest, max_evals=100)\n",
    "print('best:',best) "
   ]
  },
  {
   "cell_type": "markdown",
   "metadata": {},
   "source": [
    "### 10.4.3 學習曲線和驗證曲線"
   ]
  },
  {
   "cell_type": "code",
   "execution_count": 7,
   "metadata": {},
   "outputs": [],
   "source": [
    "from sklearn import datasets\n",
    "from sklearn.ensemble import RandomForestClassifier\n",
    "import numpy as np\n",
    "import matplotlib.pyplot as plt\n",
    "\n",
    "def draw_curve(params, train_score, test_score):\n",
    "    train_mean =  np.mean(train_score,axis=1) # 均值\n",
    "    train_std = np.std(train_score,axis=1) # 標準差\n",
    "    test_mean = np.mean(test_score,axis=1)\n",
    "    test_std=np.std(test_score,axis=1)\n",
    "    plt.plot(params,train_mean,'--',color = 'g',label = 'training')\n",
    "    plt.fill_between(params,train_mean+train_std,train_mean-train_std, \n",
    "                     alpha=0.2,color='g') # 以半透明方式繪圖區域\n",
    "    plt.plot(params,test_mean,'o-',color = 'b',label = 'testing')\n",
    "    plt.fill_between(params,test_mean+test_std,test_mean-test_std, \n",
    "                     alpha=0.2,color='b')\n",
    "    plt.grid() # 顯示網格\n",
    "    plt.legend() # 顯示圖例文字\n",
    "    plt.ylim(0.5,1.05) # 設定y軸顯示範圍\n",
    "    plt.show()"
   ]
  },
  {
   "cell_type": "code",
   "execution_count": 8,
   "metadata": {},
   "outputs": [
    {
     "data": {
      "image/png": "[encoded data removed]",
      "text/plain": [
       "<Figure size 432x288 with 1 Axes>"
      ]
     },
     "metadata": {
      "needs_background": "light"
     },
     "output_type": "display_data"
    }
   ],
   "source": [
    "from sklearn.model_selection import learning_curve\n",
    "breast_cancer = datasets.load_breast_cancer()\n",
    "X = breast_cancer.data\n",
    "y = breast_cancer.target\n",
    "\n",
    "clf = RandomForestClassifier()\n",
    "params = np.linspace(0.1,1.0,10) # 從0.1到1，切分成10份\n",
    "train_sizes,train_score,test_score = learning_curve(clf,X,y,\n",
    "                            train_sizes=params,\n",
    "                            cv=10,scoring='accuracy') # 10折交叉驗證\n",
    "draw_curve(params, train_score, test_score)"
   ]
  },
  {
   "cell_type": "code",
   "execution_count": 9,
   "metadata": {},
   "outputs": [
    {
     "data": {
      "image/png": "[encoded data removed]",
      "text/plain": [
       "<Figure size 432x288 with 1 Axes>"
      ]
     },
     "metadata": {
      "needs_background": "light"
     },
     "output_type": "display_data"
    }
   ],
   "source": [
    "from sklearn.model_selection import validation_curve\n",
    "params = [10,20,40,80,160,240]\n",
    "train_score,test_score = validation_curve(RandomForestClassifier(),\n",
    "                     X,y,param_name='n_estimators',cv=10,scoring='accuracy',\n",
    "                     param_range=params)\n",
    "draw_curve(params, train_score, test_score)\n"
   ]
  }
 ],
 "metadata": {
  "kernelspec": {
   "display_name": "Python 3",
   "language": "python",
   "name": "python3"
  },
  "language_info": {
   "codemirror_mode": {
    "name": "ipython",
    "version": 3
   },
   "file_extension": ".py",
   "mimetype": "text/x-python",
   "name": "python",
   "nbconvert_exporter": "python",
   "pygments_lexer": "ipython3",
   "version": "3.6.8"
  }
 },
 "nbformat": 4,
 "nbformat_minor": 2
}
