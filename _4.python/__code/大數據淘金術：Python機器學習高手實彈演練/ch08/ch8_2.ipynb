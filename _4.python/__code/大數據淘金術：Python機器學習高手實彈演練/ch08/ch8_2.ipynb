{
 "cells": [
  {
   "cell_type": "code",
   "execution_count": 1,
   "metadata": {},
   "outputs": [],
   "source": [
    "# -*- coding:utf-8 -*- #\n",
    "\n",
    "import pandas as pd\n",
    "import numpy as np"
   ]
  },
  {
   "cell_type": "markdown",
   "metadata": {},
   "source": [
    "### 8.2.1  方差、協方差、協方差矩陣"
   ]
  },
  {
   "cell_type": "code",
   "execution_count": 2,
   "metadata": {},
   "outputs": [
    {
     "name": "stdout",
     "output_type": "stream",
     "text": [
      "     身高   體重\n",
      "0  1.70  140\n",
      "1  1.80  170\n",
      "2  1.65  135\n",
      "3  1.75  150\n",
      "4  1.80  200\n",
      "1.7400000000000002\n",
      "0.004250000000000007\n",
      "0.004250000000000007\n",
      "0.06519202405202654\n",
      "1.4875000000000012\n",
      "         身高        體重\n",
      "身高  0.00425    1.4875\n",
      "體重  1.48750  705.0000\n",
      "          身高        體重\n",
      "身高  1.000000  0.859346\n",
      "體重  0.859346  1.000000\n"
     ]
    }
   ],
   "source": [
    "# 數據準備\n",
    "df = pd.DataFrame({'身高':[1.7, 1.8, 1.65, 1.75, 1.8], \n",
    "                   '體重':[140, 170, 135,  150,  200]})\n",
    "print(df)\n",
    "\n",
    "# 均值\n",
    "print(df['身高'].mean())\n",
    "\n",
    "# 方差\n",
    "print(df['身高'].var())\n",
    "print((sum((df['身高']-df['身高'].mean())**2))/(len(df)-1))\n",
    "\n",
    "# 標準差\n",
    "print(df['身高'].std())\n",
    "\n",
    "# 協方差\n",
    "print((sum((df['體重']-df['體重'].mean())*(df['身高']-df['身高'].mean()))/(len(df)-1)))\n",
    "\n",
    "# 協方差矩陣\n",
    "print(df.cov())\n",
    "\n",
    "# 相關係數和相關係數矩陣\n",
    "print(df.corr())"
   ]
  },
  {
   "cell_type": "markdown",
   "metadata": {},
   "source": [
    "### 8.2.2  距離與範數"
   ]
  },
  {
   "cell_type": "code",
   "execution_count": 3,
   "metadata": {},
   "outputs": [
    {
     "name": "stdout",
     "output_type": "stream",
     "text": [
      "身高      1.7\n",
      "體重    140.0\n",
      "Name: 0, dtype: float64\n",
      "身高      1.8\n",
      "體重    170.0\n",
      "Name: 1, dtype: float64\n"
     ]
    }
   ],
   "source": [
    "from scipy.spatial.distance import pdist  # 導入科學計算庫中的距離計算工具\n",
    "\n",
    "df = pd.DataFrame({'身高':[1.7, 1.8, 1.65, 1.75, 1.8], \n",
    "                   '體重':[140, 170, 135,  150,  200]})\n",
    "x = df.loc[0,:]  # 取第一條實例x\n",
    "print(x)\n",
    "y = df.loc[1,:]  # 取第二條實例y\n",
    "print(y)"
   ]
  },
  {
   "cell_type": "code",
   "execution_count": 4,
   "metadata": {},
   "outputs": [
    {
     "name": "stdout",
     "output_type": "stream",
     "text": [
      "30.000166666203707 [30.00016667]\n",
      "30.1 [30.1]\n",
      "[1.] [0.25]\n",
      "30.000166666203707 [30.00016667]\n",
      "30.0 [30.]\n",
      "1.5775089213090279 [1.57750892]\n"
     ]
    }
   ],
   "source": [
    "# 歐氏距離\n",
    "d1 = np.sqrt(np.sum(np.square(x-y))) # 公式計算\n",
    "d2 = pdist([x,y])  # 調用距離函數\n",
    "print(d1, d2)\n",
    "\n",
    "# 曼哈頓距離\n",
    "d1 = np.sum(np.abs(x-y))\n",
    "d2 = pdist([x,y],'cityblock')\n",
    "print(d1, d2)\n",
    "\n",
    "# 海明距離\n",
    "d1 = pdist([x,y], 'hamming') \n",
    "d2 = pdist([[0,0,0,1],[0,0,0,8]], 'hamming') # 對比兩數組的海明距離\n",
    "print(d1, d2)\n",
    "\n",
    "# 閔氏距離\n",
    "d1=np.sqrt(np.sum(np.square(x-y)))\n",
    "d2=pdist([x,y],'minkowski',p=2) # 求取p=2時的閔氏距離\n",
    "print(d1, d2)\n",
    "\n",
    "# 切比雪夫距離\n",
    "d1 = np.max(np.abs(x-y))\n",
    "d2 = pdist([x,y],'chebyshev')\n",
    "print(d1, d2)\n",
    "\n",
    "# 馬氏距離\n",
    "delta = x-y\n",
    "S=df.cov()   #協方差矩陣\n",
    "SI = np.linalg.inv(S) #協方差矩陣的逆矩陣\n",
    "d1=np.sqrt(np.dot(np.dot(delta,SI),delta.T))\n",
    "d2=pdist([x,y], 'mahalanobis', VI=SI)\n",
    "print(d1, d2)"
   ]
  },
  {
   "cell_type": "markdown",
   "metadata": {},
   "source": [
    "### 8.2.3  迴歸效果評估"
   ]
  },
  {
   "cell_type": "code",
   "execution_count": 5,
   "metadata": {},
   "outputs": [
    {
     "name": "stdout",
     "output_type": "stream",
     "text": [
      "0.06646666666666669\n",
      "0.2066666666666667\n",
      "0.8126996054856284\n"
     ]
    }
   ],
   "source": [
    "# MSE均方誤差\n",
    "from sklearn.metrics import mean_squared_error\n",
    "y_true = [1, 1.25, 2.37]\n",
    "y_pred = [1, 1, 2]\n",
    "print(mean_squared_error(y_true, y_pred))\n",
    "\n",
    "# MAE平均絕對誤差\n",
    "from sklearn.metrics import mean_absolute_error\n",
    "y_true = [1, 1.25, 2.37]\n",
    "y_pred = [1, 1, 2]\n",
    "print(mean_absolute_error(y_true, y_pred))\n",
    "\n",
    "# R-Squared擬合度\n",
    "from sklearn.metrics import r2_score\n",
    "y_true = [1, 1.25, 2.37]\n",
    "y_pred = [1, 1, 2]\n",
    "print(r2_score(y_true,y_pred))"
   ]
  },
  {
   "cell_type": "markdown",
   "metadata": {},
   "source": [
    "### 8.2.4  分類效果評估"
   ]
  },
  {
   "cell_type": "code",
   "execution_count": 6,
   "metadata": {},
   "outputs": [
    {
     "name": "stdout",
     "output_type": "stream",
     "text": [
      "tn 4 fp 1 fn 2 tp 3\n",
      "0.7\n",
      "0.6\n",
      "0.75\n"
     ]
    }
   ],
   "source": [
    "# FP/FN/TP/TN\n",
    "y_pred = [0, 0, 0, 1, 1, 1, 0, 1, 0, 0]  # 預測值\n",
    "y_real = [0, 1, 1, 1, 1, 1, 0, 0, 0, 0]  # 實際值\n",
    "\n",
    "from sklearn.metrics import confusion_matrix\n",
    "cm = confusion_matrix(y_real, y_pred)\n",
    "tn, fp, fn, tp = cm.ravel()\n",
    "print(\"tn\", tn, \"fp\", fp, \"fn\", fn, \"tp\", tp)\n",
    "\n",
    "# 準確率\n",
    "from sklearn.metrics import accuracy_score\n",
    "print(accuracy_score(y_real, y_pred))\n",
    "\n",
    "# 召回率\n",
    "from sklearn.metrics import recall_score\n",
    "print(recall_score(y_real, y_pred))\n",
    "\n",
    "# 精度\n",
    "from sklearn.metrics import precision_score\n",
    "print(precision_score(y_real, y_pred))"
   ]
  },
  {
   "cell_type": "code",
   "execution_count": 7,
   "metadata": {},
   "outputs": [
    {
     "name": "stdout",
     "output_type": "stream",
     "text": [
      "0.6666666666666665\n",
      "0.625\n",
      "0.7263555416075982\n"
     ]
    }
   ],
   "source": [
    "# F值\n",
    "from sklearn.metrics import f1_score\n",
    "from sklearn.metrics import fbeta_score\n",
    "\n",
    "print(f1_score(y_real, y_pred))  # 計算f1\n",
    "print(fbeta_score(y_real, y_pred, beta=2)) # 計算fn\n",
    "\n",
    "# Logloss\n",
    "from sklearn.metrics import log_loss\n",
    "y_real = [0, 1, 1, 1, 1, 1, 0, 0, 0, 0]\n",
    "y_score=[0.9, 0.75, 0.86, 0.47, 0.55, 0.56, 0.74, 0.22, 0.5, 0.26]\n",
    "print(log_loss(y_real,y_score))"
   ]
  },
  {
   "cell_type": "code",
   "execution_count": 8,
   "metadata": {},
   "outputs": [
    {
     "name": "stdout",
     "output_type": "stream",
     "text": [
      "0.64\n"
     ]
    },
    {
     "data": {
      "image/png": "[encoded data removed]",
      "text/plain": [
       "<Figure size 432x288 with 1 Axes>"
      ]
     },
     "metadata": {
      "needs_background": "light"
     },
     "output_type": "display_data"
    },
    {
     "data": {
      "text/plain": [
       "[<matplotlib.lines.Line2D at 0x7fd21ea2bd68>]"
      ]
     },
     "execution_count": 8,
     "metadata": {},
     "output_type": "execute_result"
    },
    {
     "data": {
      "image/png": "[encoded data removed]",
      "text/plain": [
       "<Figure size 432x288 with 1 Axes>"
      ]
     },
     "metadata": {
      "needs_background": "light"
     },
     "output_type": "display_data"
    }
   ],
   "source": [
    "# ROC曲線和AUC\n",
    "from sklearn.metrics import roc_auc_score, roc_curve\n",
    "import matplotlib.pyplot as plt\n",
    "%matplotlib inline\n",
    "\n",
    "print(roc_auc_score(y_real, y_score)) # AUC值\n",
    "\n",
    "fpr, tpr, thresholds = roc_curve(y_real, y_score) \n",
    "plt.plot(fpr, tpr) # 繪圖\n",
    "plt.show()\n",
    "\n",
    "# P-R曲線\n",
    "from sklearn.metrics import precision_recall_curve\n",
    "precision, recall, _ = precision_recall_curve(y_real, y_score)\n",
    "plt.plot(recall,precision)"
   ]
  },
  {
   "cell_type": "code",
   "execution_count": 9,
   "metadata": {},
   "outputs": [
    {
     "name": "stdout",
     "output_type": "stream",
     "text": [
      "              precision    recall  f1-score   support\n",
      "\n",
      "           0       0.75      0.60      0.67         5\n",
      "           1       0.67      0.80      0.73         5\n",
      "\n",
      "    accuracy                           0.70        10\n",
      "   macro avg       0.71      0.70      0.70        10\n",
      "weighted avg       0.71      0.70      0.70        10\n",
      "\n"
     ]
    }
   ],
   "source": [
    "# 多指標評分\n",
    "from sklearn.metrics import classification_report\n",
    "y_real = [0, 1, 1, 1, 1, 1, 0, 0, 0, 0]\n",
    "y_score=[0.9, 0.75, 0.86, 0.47, 0.55, 0.56, 0.74, 0.22, 0.5, 0.26]\n",
    "y_pred = [round(i) for i in y_score]\n",
    "print(classification_report(y_real, y_pred))"
   ]
  }
 ],
 "metadata": {
  "kernelspec": {
   "display_name": "Python 3",
   "language": "python",
   "name": "python3"
  },
  "language_info": {
   "codemirror_mode": {
    "name": "ipython",
    "version": 3
   },
   "file_extension": ".py",
   "mimetype": "text/x-python",
   "name": "python",
   "nbconvert_exporter": "python",
   "pygments_lexer": "ipython3",
   "version": "3.6.8"
  }
 },
 "nbformat": 4,
 "nbformat_minor": 2
}
