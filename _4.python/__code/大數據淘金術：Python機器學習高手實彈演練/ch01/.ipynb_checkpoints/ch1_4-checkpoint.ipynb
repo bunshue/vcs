{
 "cells": [
  {
   "cell_type": "code",
   "execution_count": 1,
   "metadata": {},
   "outputs": [],
   "source": [
    "# -*- coding:utf-8 -*-"
   ]
  },
  {
   "cell_type": "markdown",
   "metadata": {},
   "source": [
    "### 1.4.2 字符串"
   ]
  },
  {
   "cell_type": "code",
   "execution_count": 2,
   "metadata": {},
   "outputs": [
    {
     "name": "stdout",
     "output_type": "stream",
     "text": [
      "12\n",
      "4\n",
      "4\n",
      "hell? w?rld!\n",
      "It's a book\n",
      "['hello', 'world!']\n",
      "a,b\n",
      "True\n",
      "False\n",
      "False\n",
      "hello world!\n",
      "hello world 3.14\n"
     ]
    }
   ],
   "source": [
    "string = \"hello world!\"\n",
    "print(len(string)) # 計算長度\n",
    "print(string.find('o')) # 正向查找字符'o'\n",
    "print(string.index('o')) # 正向查找'o'的索引號\n",
    "print(string.replace('o', '?')) # 替換字符串\n",
    "print(\"It's a {}\".format('book')) # 格式替換\n",
    "print(string.split()) # 用空白符切分字符串\n",
    "print(\",\".join(['a','b'])) # 連接字符串\n",
    "print(string.endswith('!')) # 判斷尾字符\n",
    "print(string.startswith('!')) # 判斷首字符\n",
    "print(string.isnumeric()) # 判斷是否爲數值\n",
    "print(string.strip()) # 移除首尾空字符\n",
    "print(\"{} {} {:.2f}\".format(\"hello\",\"world\", 3.1415926))"
   ]
  },
  {
   "cell_type": "markdown",
   "metadata": {},
   "source": [
    "### 1.4.3 列表"
   ]
  },
  {
   "cell_type": "code",
   "execution_count": 3,
   "metadata": {},
   "outputs": [
    {
     "name": "stdout",
     "output_type": "stream",
     "text": [
      "[1, 2, 3, 4, 100]\n",
      "[0, 1, 2, 3, 4, 100]\n",
      "[0, 1, 2, 3, 4, 100, 5, 6, 7]\n",
      "[6, 7]\n",
      "[6]\n",
      "[]\n",
      "1 7 [2, 3]\n",
      "[9, 1, 2, 3, 4, 100, 5, 6, 7]\n",
      "[1, 3, 5, 7, 9, 11, 13, 15, 17, 19]\n"
     ]
    }
   ],
   "source": [
    "# 創建兩個列表\n",
    "a=[1,2,3,4]\n",
    "b=[5,6,7]\n",
    "# 增\n",
    "a.append(100) # 追加元素 100\n",
    "print(a)\n",
    "a.insert(0, 0) # 在第0個位置插入元素 0\n",
    "print(a)\n",
    "a.extend(b) # 連接兩個列表\n",
    "print(a)\n",
    "# 刪\n",
    "b.remove(5) # 刪除數據 5\n",
    "print(b)\n",
    "b.pop() # 刪除最後一個數據\n",
    "print(b)\n",
    "b.clear() # 清空所有數據\n",
    "print(b)\n",
    "# 查\n",
    "print(a[1], a[-1], a[2:4])\n",
    "# 改\n",
    "a[0] = 9 # 修改第0個元素內容\n",
    "print(a)\n",
    "\n",
    "a = [i for i in range(20) if i % 2 == 1]\n",
    "print(a)"
   ]
  },
  {
   "cell_type": "markdown",
   "metadata": {},
   "source": [
    "### 1.4.4 元組"
   ]
  },
  {
   "cell_type": "code",
   "execution_count": 4,
   "metadata": {},
   "outputs": [
    {
     "name": "stdout",
     "output_type": "stream",
     "text": [
      "(2,)\n"
     ]
    }
   ],
   "source": [
    "# 創建\n",
    "a = (1,2,3,4)\n",
    "# 查\n",
    "print(a[1:2])"
   ]
  },
  {
   "cell_type": "markdown",
   "metadata": {},
   "source": [
    "### 1.4.5 集合"
   ]
  },
  {
   "cell_type": "code",
   "execution_count": 5,
   "metadata": {},
   "outputs": [
    {
     "name": "stdout",
     "output_type": "stream",
     "text": [
      "{1, 2, 3}\n",
      "{1, 2, 3, 4}\n",
      "3\n",
      "4\n",
      "5\n",
      "6\n",
      "7\n",
      "{1, 2, 3, 4, 5, 6, 7}\n"
     ]
    }
   ],
   "source": [
    "# 創建\n",
    "a = {1,1,2,3}\n",
    "print(a) \n",
    "b = {3,4,5,6,7}\n",
    "# 增\n",
    "a.add(4)\n",
    "print(a)\n",
    "# 刪\n",
    "# remove, pop, clear同list一樣，不再贅述\n",
    "a.discard(9) # discard刪除元素時，如果元素不存在也不報錯\n",
    "# 查\n",
    "for i in b: print(i) # 返回結果： 567\n",
    "# 改\n",
    "a.update(b) # 更新操作：如不存在則添加，如果存在則忽略\n",
    "print(a)"
   ]
  },
  {
   "cell_type": "code",
   "execution_count": 6,
   "metadata": {},
   "outputs": [
    {
     "name": "stdout",
     "output_type": "stream",
     "text": [
      "{1, 2}\n",
      "{3, 4, 5, 6, 7}\n",
      "{1, 2, 3, 4, 5, 6, 7}\n",
      "True\n",
      "True\n",
      "False\n"
     ]
    }
   ],
   "source": [
    "print(a-b)\n",
    "print(a&b)\n",
    "print(a|b) \n",
    "print(a.issubset(a)) \n",
    "print(a>b) \n",
    "print(a==b) "
   ]
  },
  {
   "cell_type": "markdown",
   "metadata": {},
   "source": [
    "### 1.4.6 字典"
   ]
  },
  {
   "cell_type": "code",
   "execution_count": 7,
   "metadata": {},
   "outputs": [
    {
     "name": "stdout",
     "output_type": "stream",
     "text": [
      "{'a': 'one', 2: 'two'}\n",
      "{'a': 'one', 2: 'two', 3: 'three'}\n",
      "{'a': 'one', 3: 'three'}\n",
      "one\n",
      "dict_keys(['a', 3])\n",
      "dict_values(['one', 'three'])\n",
      "dict_items([('a', 'one'), (3, 'three')])\n",
      "{'a': 'one', 3: '3'}\n"
     ]
    }
   ],
   "source": [
    "# 創建\n",
    "a = {'a':\"one\", 2:\"two\"}\n",
    "print(a) \n",
    "# 增\n",
    "a[3] = 'three'\n",
    "print(a) \n",
    "# 刪\n",
    "a.pop(2)\n",
    "print(a) \n",
    "# 查\n",
    "print(a['a']) \n",
    "print(a.keys()) \n",
    "print(a.values()) \n",
    "print(a.items()) \n",
    "# 改\n",
    "a[3] = '3'\n",
    "print(a) "
   ]
  }
 ],
 "metadata": {
  "kernelspec": {
   "display_name": "Python 3",
   "language": "python",
   "name": "python3"
  },
  "language_info": {
   "codemirror_mode": {
    "name": "ipython",
    "version": 3
   },
   "file_extension": ".py",
   "mimetype": "text/x-python",
   "name": "python",
   "nbconvert_exporter": "python",
   "pygments_lexer": "ipython3",
   "version": "3.6.8"
  }
 },
 "nbformat": 4,
 "nbformat_minor": 2
}
