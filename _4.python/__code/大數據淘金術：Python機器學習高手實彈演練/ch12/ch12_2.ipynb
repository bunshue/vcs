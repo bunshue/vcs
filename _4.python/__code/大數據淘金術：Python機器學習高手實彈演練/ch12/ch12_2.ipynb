{
 "cells": [
  {
   "cell_type": "markdown",
   "metadata": {},
   "source": [
    "### 注意：代碼目錄只包含用於示例的部分數據，實際數據請從天池競賽平臺下載\n",
    "### https://tianchi.aliyun.com/competition/gameList/activeList"
   ]
  },
  {
   "cell_type": "code",
   "execution_count": 1,
   "metadata": {},
   "outputs": [
    {
     "name": "stderr",
     "output_type": "stream",
     "text": [
      "/usr/local/lib/python3.6/dist-packages/sklearn/ensemble/weight_boosting.py:29: DeprecationWarning: numpy.core.umath_tests is an internal NumPy module and should not be imported. It will be removed in a future NumPy release.\n",
      "  from numpy.core.umath_tests import inner1d\n"
     ]
    },
    {
     "name": "stdout",
     "output_type": "stream",
     "text": [
      "['id', 'happiness', 'survey_type', 'province', 'city', 'county', 'survey_time', 'gender', 'birth', 'nationality', 'religion', 'religion_freq', 'edu', 'edu_other', 'edu_status', 'edu_yr', 'income', 'political', 'join_party', 'floor_area', 'property_0', 'property_1', 'property_2', 'property_3', 'property_4', 'property_5', 'property_6', 'property_7', 'property_8', 'property_other', 'height_cm', 'weight_jin', 'health', 'health_problem', 'depression', 'hukou', 'hukou_loc', 'media_1', 'media_2', 'media_3', 'media_4', 'media_5', 'media_6', 'leisure_1', 'leisure_2', 'leisure_3', 'leisure_4', 'leisure_5', 'leisure_6', 'leisure_7', 'leisure_8', 'leisure_9', 'leisure_10', 'leisure_11', 'leisure_12', 'socialize', 'relax', 'learn', 'social_neighbor', 'social_friend', 'socia_outing', 'equity', 'class', 'class_10_before', 'class_10_after', 'class_14', 'work_exper', 'work_status', 'work_yr', 'work_type', 'work_manage', 'insur_1', 'insur_2', 'insur_3', 'insur_4', 'family_income', 'family_m', 'family_status', 'house', 'car', 'invest_0', 'invest_1', 'invest_2', 'invest_3', 'invest_4', 'invest_5', 'invest_6', 'invest_7', 'invest_8', 'invest_other', 'son', 'daughter', 'minor_child', 'marital', 'marital_1st', 's_birth', 'marital_now', 's_edu', 's_political', 's_hukou', 's_income', 's_work_exper', 's_work_status', 's_work_type', 'f_birth', 'f_edu', 'f_political', 'f_work_14', 'm_birth', 'm_edu', 'm_political', 'm_work_14', 'status_peer', 'status_3_before', 'view', 'inc_ability', 'inc_exp', 'trust_1', 'trust_2', 'trust_3', 'trust_4', 'trust_5', 'trust_6', 'trust_7', 'trust_8', 'trust_9', 'trust_10', 'trust_11', 'trust_12', 'trust_13', 'neighbor_familiarity', 'public_service_1', 'public_service_2', 'public_service_3', 'public_service_4', 'public_service_5', 'public_service_6', 'public_service_7', 'public_service_8', 'public_service_9']\n",
      "id                        int64\n",
      "happiness                 int64\n",
      "survey_type               int64\n",
      "province                  int64\n",
      "city                      int64\n",
      "county                    int64\n",
      "survey_time              object\n",
      "gender                    int64\n",
      "birth                     int64\n",
      "nationality               int64\n",
      "religion                  int64\n",
      "religion_freq             int64\n",
      "edu                       int64\n",
      "edu_other                object\n",
      "edu_status              float64\n",
      "edu_yr                  float64\n",
      "income                    int64\n",
      "political                 int64\n",
      "join_party              float64\n",
      "floor_area              float64\n",
      "property_0                int64\n",
      "property_1                int64\n",
      "property_2                int64\n",
      "property_3                int64\n",
      "property_4                int64\n",
      "property_5                int64\n",
      "property_6                int64\n",
      "property_7                int64\n",
      "property_8                int64\n",
      "property_other           object\n",
      "                         ...   \n",
      "m_political               int64\n",
      "m_work_14                 int64\n",
      "status_peer               int64\n",
      "status_3_before           int64\n",
      "view                      int64\n",
      "inc_ability               int64\n",
      "inc_exp                 float64\n",
      "trust_1                   int64\n",
      "trust_2                   int64\n",
      "trust_3                   int64\n",
      "trust_4                   int64\n",
      "trust_5                   int64\n",
      "trust_6                   int64\n",
      "trust_7                   int64\n",
      "trust_8                   int64\n",
      "trust_9                   int64\n",
      "trust_10                  int64\n",
      "trust_11                  int64\n",
      "trust_12                  int64\n",
      "trust_13                  int64\n",
      "neighbor_familiarity      int64\n",
      "public_service_1          int64\n",
      "public_service_2          int64\n",
      "public_service_3          int64\n",
      "public_service_4          int64\n",
      "public_service_5        float64\n",
      "public_service_6          int64\n",
      "public_service_7          int64\n",
      "public_service_8          int64\n",
      "public_service_9          int64\n",
      "Length: 140, dtype: object\n"
     ]
    }
   ],
   "source": [
    "import pandas as pd\n",
    "import numpy as np\n",
    "import datetime\n",
    "from pandas.api.types import is_numeric_dtype # 用於判斷特徵類型\n",
    "from sklearn.ensemble import RandomForestClassifier, GradientBoostingClassifier #分類模型\n",
    "from sklearn.ensemble import RandomForestRegressor, GradientBoostingRegressor # 迴歸模型\n",
    "from sklearn.model_selection import cross_val_score, train_test_split # 切分數據集\n",
    "from sklearn.metrics import mean_squared_error # 評價函數\n",
    "\n",
    "data = pd.read_csv('data/happiness_train_min.csv', encoding='gb2312')\n",
    "test = pd.read_csv('data/happiness_test_min.csv', encoding='gb2312')\n",
    "\n",
    "print(data.columns.tolist()) # 查看所有特徵\n",
    "print(data.dtypes) # 查看各特徵類型"
   ]
  },
  {
   "cell_type": "code",
   "execution_count": 2,
   "metadata": {},
   "outputs": [
    {
     "name": "stdout",
     "output_type": "stream",
     "text": [
      "survey_time object\n",
      "['2015/8/4 14:18' '2015/7/21 15:04' '2015/7/21 13:24' '2015/7/25 17:33'\n",
      " '2015/8/10 9:50']\n",
      "edu_other object\n",
      "[nan '夜校']\n",
      "property_other object\n",
      "[nan '無產權' '已購買，但未過戶' '家庭共同所有' '待辦']\n",
      "invest_other object\n",
      "[nan '理財產品' '民間借貸' '銀行理財' '儲蓄存款']\n"
     ]
    }
   ],
   "source": [
    "# 特徵工程\n",
    "\n",
    "features = []\n",
    "label = 'happiness' # 目標變量\n",
    "\n",
    "for col in data.columns:\n",
    "    if not is_numeric_dtype(data[col]): # 非數值型特徵\n",
    "        print(col, data[col].dtype)\n",
    "        print(data[col].unique()[:5])\n",
    "    elif col != label and col != 'id': # 加入可直接代入模型的特徵\n",
    "        features.append(col)\n",
    "        \n",
    "x = data[features] # 自變量\n",
    "y = data[label] # 目標變量\n",
    "x_train, x_val, y_train, y_val = train_test_split(x, y, test_size=0.25, random_state=0)\n",
    "x_train = x_train.fillna(x.mean()) # 空值填充訓練集\n",
    "x_val = x_val.fillna(x.mean()) # 空值填充驗證集\n",
    "x_test = test.fillna(x.mean()) # 空值填充測試集\n",
    "x = x.fillna(x.mean()) # 空值填充全集"
   ]
  },
  {
   "cell_type": "code",
   "execution_count": 3,
   "metadata": {},
   "outputs": [
    {
     "name": "stdout",
     "output_type": "stream",
     "text": [
      "MSE: 0.7085\n"
     ]
    }
   ],
   "source": [
    "# 訓練模型生成提交數據\n",
    "\n",
    "#clf = RandomForestRegressor(criterion='mse', random_state=0) # 隨機森林迴歸\n",
    "#clf = GradientBoostingClassifier(criterion='mse',random_state=0) # GBDT分類\n",
    "clf = GradientBoostingRegressor(criterion='mse', random_state=0) # GBDT迴歸\n",
    "\n",
    "if True: # 用於本地測試\n",
    "    clf.fit(x_train, y_train)\n",
    "    mse = mean_squared_error(y_val, [round(i) for i in clf.predict(x_val)])\n",
    "    print(\"MSE: %.4f\" % mse)\n",
    "else: # 用於遠程提交\n",
    "    clf.fit(x, y) # 全量數據訓練\n",
    "    df = pd.DataFrame()\n",
    "    df['id'] = test.id\n",
    "    df['happiness'] = clf.predict(x_test[features])\n",
    "    df.to_csv('out/submit_{}.csv'.format(datetime.datetime.now().strftime('%Y%m%d_%H%M%S')),index=False)"
   ]
  }
 ],
 "metadata": {
  "kernelspec": {
   "display_name": "Python 3",
   "language": "python",
   "name": "python3"
  },
  "language_info": {
   "codemirror_mode": {
    "name": "ipython",
    "version": 3
   },
   "file_extension": ".py",
   "mimetype": "text/x-python",
   "name": "python",
   "nbconvert_exporter": "python",
   "pygments_lexer": "ipython3",
   "version": "3.6.8"
  }
 },
 "nbformat": 4,
 "nbformat_minor": 2
}
