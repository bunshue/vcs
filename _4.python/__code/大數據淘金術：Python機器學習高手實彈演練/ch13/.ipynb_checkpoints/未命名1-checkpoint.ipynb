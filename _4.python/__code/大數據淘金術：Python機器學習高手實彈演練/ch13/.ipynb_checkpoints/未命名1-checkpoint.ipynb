{
 "cells": [
  {
   "cell_type": "markdown",
   "metadata": {},
   "source": [
    "### 13.4.2 提取特徵"
   ]
  },
  {
   "cell_type": "code",
   "execution_count": null,
   "metadata": {},
   "outputs": [],
   "source": [
    "from keras.models import *\n",
    "from keras.layers import *\n",
    "from keras.applications import *\n",
    "from keras.preprocessing.image import *\n",
    "import h5py\n",
    "import warnings\n",
    "\n",
    "warnings.filterwarnings('ignore')\n",
    "\n",
    "def get_features(MODEL, width, height, lambda_func=None):\n",
    "input_tensor = Input((height, width, 3))\n",
    "    x = input_tensor\n",
    "    if lambda_func:\n",
    "        x = Lambda(lambda_func)(x)\n",
    "\n",
    "base_model = MODEL(input_tensor=x, weights='imagenet', include_top=False)\n",
    "    model = Model(base_model.input, GlobalAveragePooling2D()(base_model.output))\n",
    "\n",
    "    gen = ImageDataGenerator()\n",
    "    # 注意 train 和 test 是圖片存儲路徑\n",
    "train_generator = gen.flow_from_directory(\"train\", (width, height), shuffle=False,\n",
    "    batch_size=16)\n",
    "test_generator = gen.flow_from_directory(\"test\", (width, height), shuffle=False,\n",
    "                                         batch_size=16, class_mode=None)\n",
    "train = model.predict_generator(train_generator, train_generator.nb_sample)\n",
    "test = model.predict_generator(test_generator, test_generator.nb_sample)\n",
    "\n",
    "with h5py.File(\"data_%s.h5\"%MODEL.func_name) as h:\n",
    "    h.create_dataset(\"train\", data=train)\n",
    "    h.create_dataset(\"test\", data=test)\n",
    "    h.create_dataset(\"label\", data=train_generator.classes)\n",
    "\n",
    "get_features(ResNet50, 224, 224)\n",
    "get_features(InceptionV3, 299, 299, inception_v3.preprocess_input)\n",
    "get_features(Xception, 299, 299, xception.preprocess_input)\n"
   ]
  },
  {
   "cell_type": "markdown",
   "metadata": {},
   "source": [
    "### 13.4.3.訓練模型和預測"
   ]
  },
  {
   "cell_type": "code",
   "execution_count": null,
   "metadata": {},
   "outputs": [],
   "source": [
    "import h5py\n",
    "import numpy as np\n",
    "from sklearn.utils import shuffle\n",
    "from keras.models import *\n",
    "from keras.layers import *\n",
    "\n",
    "np.random.seed(12345678)\n",
    "X_train = []\n",
    "X_test = []\n",
    "\n",
    "for filename in [\"data_ResNet50.h5\", \"data_Xception.h5\", \"data_InceptionV3.h5\"]:\n",
    "    with h5py.File(filename, 'r') as h:\n",
    "        X_train.append(np.array(h['train']))\n",
    "        X_test.append(np.array(h['test']))\n",
    "        y_train = np.array(h['label'])\n",
    "\n",
    "X_train = np.concatenate(X_train, axis=1)\n",
    "X_test = np.concatenate(X_test, axis=1)\n",
    "X_train, y_train = shuffle(X_train, y_train)\n",
    "\n",
    "input_tensor = Input(X_train.shape[1:])\n",
    "x = Dropout(0.5)(input_tensor)\n",
    "x = Dense(1, activation='sigmoid')(x)\n",
    "model = Model(input_tensor, x)\n",
    "\n",
    "model.compile(optimizer='adadelta',\n",
    "              loss='binary_crossentropy',\n",
    "              metrics=['accuracy'])\n",
    "\n",
    "history = model.fit(X_train, y_train, batch_size=128, nb_epoch=8, validation_split=0.2)\n",
    "y_pred = model.predict(X_test, verbose=1)\n",
    "y_pred = y_pred.clip(min=0.005, max=0.995)"
   ]
  },
  {
   "cell_type": "code",
   "execution_count": null,
   "metadata": {},
   "outputs": [],
   "source": [
    "13.4.4.訓練結果分析"
   ]
  },
  {
   "cell_type": "code",
   "execution_count": null,
   "metadata": {},
   "outputs": [],
   "source": [
    "import matplotlib.pyplot as plt\n",
    "%matplotlib inline\n",
    "\n",
    "def plot_training(history):\n",
    "    acc = history.history['acc']\n",
    "    val_acc = history.history['val_acc']\n",
    "    epochs = range(len(acc))\n",
    "    plt.plot(epochs, acc, 'b')\n",
    "    plt.plot(epochs, val_acc, 'r')\n",
    "    plt.legend([\"acc\", \"val_acc\"], loc='best')\n",
    "    plt.title('Training and validation accuracy')\n",
    "    plt.show()\n",
    "    \n",
    "loss = history.history['loss']\n",
    "val_loss = history.history['val_loss']   \n",
    "plt.plot(epochs, loss, 'b')\n",
    "plt.plot(epochs, val_loss, 'r')\n",
    "plt.legend([\"loss\", \"val_loss\"], loc='best')\n",
    "plt.title('Training and validation loss')\n",
    "plt.show()\n",
    "\n",
    "plot_training(history)"
   ]
  }
 ],
 "metadata": {
  "kernelspec": {
   "display_name": "Python 3",
   "language": "python",
   "name": "python3"
  },
  "language_info": {
   "codemirror_mode": {
    "name": "ipython",
    "version": 3
   },
   "file_extension": ".py",
   "mimetype": "text/x-python",
   "name": "python",
   "nbconvert_exporter": "python",
   "pygments_lexer": "ipython3",
   "version": "3.6.8"
  }
 },
 "nbformat": 4,
 "nbformat_minor": 2
}
