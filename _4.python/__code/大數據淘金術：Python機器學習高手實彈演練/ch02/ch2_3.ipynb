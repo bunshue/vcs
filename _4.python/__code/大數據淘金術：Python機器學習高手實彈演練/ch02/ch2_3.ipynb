{
 "cells": [
  {
   "cell_type": "code",
   "execution_count": 1,
   "metadata": {},
   "outputs": [],
   "source": [
    "# -*- coding:utf-8 -*-\n",
    "\n",
    "import numpy as np"
   ]
  },
  {
   "cell_type": "markdown",
   "metadata": {},
   "source": [
    "### 2.3.1 分段函數"
   ]
  },
  {
   "cell_type": "code",
   "execution_count": 2,
   "metadata": {},
   "outputs": [
    {
     "name": "stdout",
     "output_type": "stream",
     "text": [
      "[0 1 2 3 4 4 3 2 1 0]\n"
     ]
    }
   ],
   "source": [
    "x=np.arange(10)\n",
    "print(np.where(x<5, x, 9-x))"
   ]
  },
  {
   "cell_type": "code",
   "execution_count": 3,
   "metadata": {},
   "outputs": [
    {
     "name": "stdout",
     "output_type": "stream",
     "text": [
      "[-1 -1 -1  0  0  0  0  1  1  1]\n"
     ]
    }
   ],
   "source": [
    "a=np.arange(10)\n",
    "print(np.select([x<3,x>6], [-1,1], 0))"
   ]
  },
  {
   "cell_type": "code",
   "execution_count": 4,
   "metadata": {},
   "outputs": [
    {
     "name": "stdout",
     "output_type": "stream",
     "text": [
      "[ 0  2  4  0  0  0  0 21 24 27]\n",
      "[ 0  2  4  0  0  0  0 21 24 27]\n"
     ]
    }
   ],
   "source": [
    "def func1(x):\n",
    "     return x*2\n",
    "\n",
    "def func2(x):\n",
    "    return x*3\n",
    "\n",
    "a=np.arange(10)\n",
    "print(np.piecewise(x, [x<3,x>6], [func1,func2]))\n",
    "print(np.piecewise(x, [x<3,x>6], [lambda x: x * 2, lambda x: x * 3]))"
   ]
  },
  {
   "cell_type": "markdown",
   "metadata": {},
   "source": [
    "### 2.3.2  統計函數"
   ]
  },
  {
   "cell_type": "code",
   "execution_count": 5,
   "metadata": {},
   "outputs": [
    {
     "name": "stdout",
     "output_type": "stream",
     "text": [
      "[10  9  8  7  6  5  4  3  2  1]\n",
      "5.5\n",
      "8.25\n",
      "2.8722813232690143\n",
      "3.6666666666666665\n",
      "5.5\n",
      "7.75\n"
     ]
    }
   ],
   "source": [
    "a=np.arange(10,0,-1)\n",
    "print(a)\n",
    "print(a.mean())\n",
    "print(a.var())\n",
    "print(a.std())\n",
    "print(np.average(a, weights=np.arange(0,10,1)))\n",
    "print(np.median(a))\n",
    "print(np.percentile(a, 75))"
   ]
  },
  {
   "cell_type": "code",
   "execution_count": 6,
   "metadata": {},
   "outputs": [
    {
     "name": "stdout",
     "output_type": "stream",
     "text": [
      "1\n",
      "10\n",
      "9\n",
      "9\n",
      "0\n",
      "[9 8 7 6 5 4 3 2 1 0]\n",
      "[ 1  2  3  4  5  6  7  8  9 10]\n"
     ]
    }
   ],
   "source": [
    "print(a.min())\n",
    "print(a.max())\n",
    "print(a.ptp())\n",
    "print(a.argmin())\n",
    "print(a.argmax())\n",
    "print(a.argsort())\n",
    "a.sort()\n",
    "print(a)"
   ]
  },
  {
   "cell_type": "code",
   "execution_count": 7,
   "metadata": {},
   "outputs": [
    {
     "name": "stdout",
     "output_type": "stream",
     "text": [
      "[2 3 1 0 0 3 4 2 2 4]\n",
      "[0 1 2 3 4]\n",
      "[2 1 3 2 2]\n",
      "(array([2, 1, 3, 2, 2]), array([0. , 0.8, 1.6, 2.4, 3.2, 4. ]))\n"
     ]
    }
   ],
   "source": [
    "a=np.random.randint(0,5,10)\n",
    "print(a) \n",
    "print(np.unique(a)) \n",
    "print(np.bincount(a)) \n",
    "print(np.histogram(a,bins=5))"
   ]
  },
  {
   "cell_type": "markdown",
   "metadata": {},
   "source": [
    "### 2.3.3  組合與分割"
   ]
  },
  {
   "cell_type": "code",
   "execution_count": 8,
   "metadata": {},
   "outputs": [
    {
     "name": "stdout",
     "output_type": "stream",
     "text": [
      "shape (2, 2, 2)\n",
      "dim 3\n",
      "[[[1 2]\n",
      "  [3 4]]\n",
      "\n",
      " [[5 6]\n",
      "  [7 8]]]\n",
      "[[1 2 5 6]\n",
      " [3 4 7 8]]\n",
      "[[1 2 5 6]\n",
      " [3 4 7 8]]\n",
      "[[1 2]\n",
      " [3 4]\n",
      " [5 6]\n",
      " [7 8]]\n",
      "[1 2 3 4]\n",
      "[1 2 3 4]\n"
     ]
    }
   ],
   "source": [
    "a=np.array([[1,2],[3,4]])\n",
    "b=np.array([[5,6],[7,8]])\n",
    "d=np.stack((a,b))\n",
    "print(\"shape\", d.shape)\n",
    "print(\"dim\", d.ndim)\n",
    "print(d) \n",
    "\n",
    "print(np.column_stack((a,b)))\n",
    "print(np.hstack((a,b)))\n",
    "\n",
    "print(np.concatenate([a,b],axis=0))\n",
    "\n",
    "print(np.ravel(a))\n",
    "c = a.flatten()\n",
    "print(c)"
   ]
  },
  {
   "cell_type": "code",
   "execution_count": 9,
   "metadata": {},
   "outputs": [
    {
     "name": "stdout",
     "output_type": "stream",
     "text": [
      "[array([1]), array([2]), array([3, 4])]\n",
      "[array([1, 2]), array([3, 4])]\n",
      "[array([1, 2]), array([3]), array([4])]\n",
      "[array([[1],\n",
      "       [3]]), array([[2],\n",
      "       [4]])]\n"
     ]
    }
   ],
   "source": [
    "print(np.split(c,[1,2]))\n",
    "print(np.split(c, 2))\n",
    "print(np.array_split(c, 3))\n",
    "\n",
    "print(np.hsplit(a, 2))"
   ]
  },
  {
   "cell_type": "markdown",
   "metadata": {},
   "source": [
    "### 2.3.4  矩陣與二維數組"
   ]
  },
  {
   "cell_type": "code",
   "execution_count": 10,
   "metadata": {},
   "outputs": [
    {
     "name": "stdout",
     "output_type": "stream",
     "text": [
      "<class 'numpy.matrix'>\n",
      "[[0.15338009 0.06820826]\n",
      " [0.48319306 0.59348977]]\n",
      "[[1. 0.]\n",
      " [0. 1.]]\n",
      "[[2 0]\n",
      " [0 3]]\n"
     ]
    }
   ],
   "source": [
    "a = np.mat(np.mat([[1,2,3],[4,5,6]]))\n",
    "print(type(a))\n",
    "\n",
    "a = np.mat(np.random.random((2,2)))\n",
    "print(a)\n",
    "print(np.eye(2))\n",
    "print(np.diag([2,3]))"
   ]
  },
  {
   "cell_type": "code",
   "execution_count": 11,
   "metadata": {},
   "outputs": [
    {
     "name": "stdout",
     "output_type": "stream",
     "text": [
      "[[ 7. 10.]\n",
      " [15. 22.]]\n",
      "[[ 1.  4.]\n",
      " [ 9. 16.]]\n",
      "[[1. 3.]\n",
      " [2. 4.]]\n",
      "[[-2.   1. ]\n",
      " [ 1.5 -0.5]]\n",
      "5.0\n",
      "(array([-0.37228132,  5.37228132]), matrix([[-0.82456484, -0.41597356],\n",
      "        [ 0.56576746, -0.90937671]]))\n"
     ]
    }
   ],
   "source": [
    "a = np.mat([[1.,2.],[3.,4.]])\n",
    "print(np.dot(a,a))    # 矩陣乘積\n",
    "print(np.multiply(a,a))    # 矩陣點乘\n",
    "print(a.T)   # 矩陣轉置\n",
    "print(a.I)   # 矩陣求逆\n",
    "print(np.trace(a))    # 求矩陣的跡\n",
    "print(np.linalg.eig(a))   # 特徵分解"
   ]
  },
  {
   "cell_type": "code",
   "execution_count": 12,
   "metadata": {},
   "outputs": [
    {
     "name": "stdout",
     "output_type": "stream",
     "text": [
      "21\n",
      "[[5 7 9]]\n",
      "[[ 6]\n",
      " [15]]\n"
     ]
    }
   ],
   "source": [
    "a = np.mat(np.mat([[1,2,3],[4,5,6]]))\n",
    "print(a.sum())\n",
    "print(a.sum(axis=0))\n",
    "print(a.sum(axis=1))"
   ]
  },
  {
   "cell_type": "code",
   "execution_count": 13,
   "metadata": {},
   "outputs": [
    {
     "name": "stdout",
     "output_type": "stream",
     "text": [
      "[[1. 1.]\n",
      " [1. 1.]]\n"
     ]
    }
   ],
   "source": [
    "print(np.cov(a)) # 返回結果：[[1. 1.] [1. 1.]]"
   ]
  },
  {
   "cell_type": "markdown",
   "metadata": {},
   "source": [
    "### 2.3.5  其它常用函數"
   ]
  },
  {
   "cell_type": "code",
   "execution_count": 14,
   "metadata": {},
   "outputs": [
    {
     "name": "stdout",
     "output_type": "stream",
     "text": [
      "[[1, 2, 1, 2, 1]] <class 'list'>\n",
      "False True\n",
      "False False\n"
     ]
    }
   ],
   "source": [
    "a = np.mat(np.random.randint(1,3,5))\n",
    "print(a.tolist(), type(a.tolist())) \n",
    "\n",
    "b = a.view()\n",
    "print(b is a, b.base is a) \n",
    "\n",
    "c = a.copy()\n",
    "print(c is a, c.base is a)"
   ]
  }
 ],
 "metadata": {
  "kernelspec": {
   "display_name": "Python 3",
   "language": "python",
   "name": "python3"
  },
  "language_info": {
   "codemirror_mode": {
    "name": "ipython",
    "version": 3
   },
   "file_extension": ".py",
   "mimetype": "text/x-python",
   "name": "python",
   "nbconvert_exporter": "python",
   "pygments_lexer": "ipython3",
   "version": "3.6.8"
  }
 },
 "nbformat": 4,
 "nbformat_minor": 2
}
