{
 "cells": [
  {
   "cell_type": "code",
   "execution_count": 5,
   "metadata": {},
   "outputs": [
    {
     "name": "stdout",
     "output_type": "stream",
     "text": [
      "['跟', '框架', '學', '代碼', '設計', '，', '跟', '應用', '學', '功能', '設計']\n",
      "0.9980719940245937\n",
      "<zip object at 0x7f9b51c1ec08>\n",
      "['設計', '學', '代碼']\n",
      "['跟框架學代碼設計', '跟應用學功能設計']\n",
      "[{'跟': 1}, {'框': 1}, {'架': 1}, {'學': 1}, {'代': 1}, {'碼': 1}, {'設': 1}, {'計': 1}, {'，': 1}, {'跟': 1}, {'應': 1}, {'用': 1}, {'學': 1}, {'功': 1}, {'能': 1}, {'設': 1}, {'計': 1}]\n",
      "{'跟': 1.8245492920510458, '框': 2.3978952727983707, '架': 2.3978952727983707, '學': 1.8245492920510458, '代': 2.3978952727983707, '碼': 2.3978952727983707, '設': 1.8245492920510458, '計': 1.8245492920510458, '，': 2.3978952727983707, '應': 2.3978952727983707, '用': 2.3978952727983707, '功': 2.3978952727983707, '能': 2.3978952727983707}\n"
     ]
    }
   ],
   "source": [
    "# SnowNLP用法\n",
    "\n",
    "from snownlp import SnowNLP\n",
    "\n",
    "s = SnowNLP(\"跟框架學代碼設計，跟應用學功能設計\")\n",
    "print(s.words) # 分詞\n",
    "print(s.sentiments) # 消極or積極，結果在0-1之間\n",
    "print(s.tags) # 詞性標註\n",
    "print(s.keywords(3)) #　關鍵詞\n",
    "print(s.summary(3)) # 摘要\n",
    "print(s.tf) # tf\n",
    "print(s.idf) # idf"
   ]
  }
 ],
 "metadata": {
  "kernelspec": {
   "display_name": "Python 3",
   "language": "python",
   "name": "python3"
  },
  "language_info": {
   "codemirror_mode": {
    "name": "ipython",
    "version": 3
   },
   "file_extension": ".py",
   "mimetype": "text/x-python",
   "name": "python",
   "nbconvert_exporter": "python",
   "pygments_lexer": "ipython3",
   "version": "3.6.8"
  }
 },
 "nbformat": 4,
 "nbformat_minor": 2
}
