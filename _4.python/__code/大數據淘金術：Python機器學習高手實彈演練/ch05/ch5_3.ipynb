{
 "cells": [
  {
   "cell_type": "code",
   "execution_count": 1,
   "metadata": {},
   "outputs": [],
   "source": [
    "# -*- coding:utf-8 -*-"
   ]
  },
  {
   "cell_type": "markdown",
   "metadata": {},
   "source": [
    "### 5.3.1  讀取ElasticSearch數據"
   ]
  },
  {
   "cell_type": "code",
   "execution_count": 2,
   "metadata": {},
   "outputs": [
    {
     "name": "stdout",
     "output_type": "stream",
     "text": [
      "{'_index': 'test_1', '_type': 'product', '_id': 'hx7gl2sBBskLuq6uThLI', '_score': 1.0, '_source': {'author': 'Xie Yan'}}\n"
     ]
    }
   ],
   "source": [
    "from elasticsearch import Elasticsearch\n",
    "\n",
    "es_host = '127.0.0.1' # 宿主機IP地址\n",
    "es_index = 'test_1'\n",
    "es = Elasticsearch(es_host) # 建立ES連接\n",
    "result = es.search(index=es_index, body={}, size=10) # 查詢並返回前10條數據\n",
    "for item in result['hits']['hits']: # 訪問返回數據\n",
    "    print(item)"
   ]
  },
  {
   "cell_type": "markdown",
   "metadata": {},
   "source": [
    "### 5.3.2  讀取S3雲存儲數據"
   ]
  },
  {
   "cell_type": "code",
   "execution_count": 3,
   "metadata": {},
   "outputs": [],
   "source": [
    "import boto \n",
    "import boto.s3.connection \n",
    "from boto.s3.key import Key \n",
    "\n",
    "s3_aws_access_key_id = 'accessKey1'\n",
    "s3_aws_secret_access_key = 'verySecretKey1'\n",
    "s3_host = '127.0.0.1'\n",
    "s3_port = 8000\n",
    "\n",
    "conn = boto.connect_s3(aws_access_key_id = s3_aws_access_key_id, \n",
    "                       aws_secret_access_key = s3_aws_secret_access_key, \n",
    "                       host = s3_host, \n",
    "                       port=s3_port, \n",
    "                       is_secure = False, \n",
    "                       calling_format = boto.s3.connection.OrdinaryCallingFormat())"
   ]
  },
  {
   "cell_type": "code",
   "execution_count": 4,
   "metadata": {},
   "outputs": [
    {
     "name": "stdout",
     "output_type": "stream",
     "text": [
      "not exist\n"
     ]
    }
   ],
   "source": [
    "# 列出所有存儲桶\n",
    "rs = conn.get_all_buckets() \n",
    "for i in rs:\n",
    "    print(i)\n",
    "\n",
    "model_bucket = 'tmp'\n",
    "model_bucket_exist = conn.lookup(model_bucket) # 查找桶是否存在\n",
    "if model_bucket_exist:\n",
    "    print(\"exist\", model_bucket_exist)  \n",
    "    mybucket = conn.get_bucket(model_bucket) # 獲取桶句柄\n",
    "else:\n",
    "    print(\"not exist\")\n",
    "    mybucket = conn.create_bucket('tmp') # 創建一個新桶"
   ]
  },
  {
   "cell_type": "code",
   "execution_count": 5,
   "metadata": {},
   "outputs": [
    {
     "name": "stdout",
     "output_type": "stream",
     "text": [
      "[<Key: tmp,test_file>]\n"
     ]
    }
   ],
   "source": [
    "# 上傳文件\n",
    "k = Key(mybucket)\n",
    "k.key = 'test_file'\n",
    "filename = 'testfile.txt'\n",
    "k.set_contents_from_filename(filename) \n",
    "# 列出桶中文件\n",
    "mybucket = conn.get_bucket(model_bucket)\n",
    "print(mybucket.get_all_keys(maxkeys=5)) \n",
    "# 下載文件\n",
    "filename2 = 'testfile2.txt'\n",
    "k.get_contents_to_filename(filename2)"
   ]
  },
  {
   "cell_type": "code",
   "execution_count": 6,
   "metadata": {},
   "outputs": [],
   "source": [
    "mybucket.delete_key('test_file') # 刪除文件\n",
    "conn.delete_bucket(model_bucket) # 刪除桶\n",
    "conn.close()"
   ]
  },
  {
   "cell_type": "markdown",
   "metadata": {},
   "source": [
    "### 5.3.3  讀取Hive數據"
   ]
  },
  {
   "cell_type": "code",
   "execution_count": 7,
   "metadata": {},
   "outputs": [
    {
     "name": "stdout",
     "output_type": "stream",
     "text": [
      "[('test_table',)]\n",
      "[]\n"
     ]
    }
   ],
   "source": [
    "from impala.dbapi import connect\n",
    "# port爲docker中10000向外映射的端口號\n",
    "conn = connect(host=\"localhost\", port=32777,\n",
    "     database=\"default\", auth_mechanism=\"PLAIN\")\n",
    "cur = conn.cursor()\n",
    "sql = \"create table if not exists test_table(id int)\"   # SQL語句：創建數據表\n",
    "cur.execute(sql)\n",
    "sql = \"show tables\"  # 顯示所有數據表名\n",
    "cur.execute(sql)\n",
    "print(cur.fetchall())\n",
    "sql = \"select * from default.test_table\"  # 查看數據表內容\n",
    "cur.execute(sql)\n",
    "print(cur.fetchall())\n",
    "conn.close()"
   ]
  }
 ],
 "metadata": {
  "kernelspec": {
   "display_name": "Python 3",
   "language": "python",
   "name": "python3"
  },
  "language_info": {
   "codemirror_mode": {
    "name": "ipython",
    "version": 3
   },
   "file_extension": ".py",
   "mimetype": "text/x-python",
   "name": "python",
   "nbconvert_exporter": "python",
   "pygments_lexer": "ipython3",
   "version": "3.6.8"
  }
 },
 "nbformat": 4,
 "nbformat_minor": 2
}
