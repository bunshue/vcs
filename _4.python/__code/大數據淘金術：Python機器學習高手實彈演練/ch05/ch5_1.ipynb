{
 "cells": [
  {
   "cell_type": "code",
   "execution_count": 1,
   "metadata": {},
   "outputs": [],
   "source": [
    "# -*- coding:utf-8 -*-"
   ]
  },
  {
   "cell_type": "markdown",
   "metadata": {},
   "source": [
    "### 5.1.1  讀寫文本文件"
   ]
  },
  {
   "cell_type": "code",
   "execution_count": 2,
   "metadata": {},
   "outputs": [
    {
     "name": "stdout",
     "output_type": "stream",
     "text": [
      "line1\n",
      "line2\n",
      "line3\n",
      "line4\n",
      "line: line1\n",
      "\n",
      "line: line2\n",
      "\n",
      "line: line3\n",
      "\n",
      "line: line4\n"
     ]
    }
   ],
   "source": [
    "# 寫入文件\n",
    "f = open(\"tmp.txt\", \"w\") # 打開文件\n",
    "f.writelines([\"line1\\n\",\"line2\\n\"]) # 寫入多行\n",
    "f.write(\"line3\\nline4\")\n",
    "f.close() # 關閉文件\n",
    "\n",
    "# 讀取文件全部內容\n",
    "f = open(\"tmp.txt\", \"r\")\n",
    "print(f.read())\n",
    "#print(f.readlines()) # 讀出多行\n",
    "f.close()\n",
    "\n",
    "# 按行讀取文件\n",
    "f = open(\"tmp.txt\", \"r\")\n",
    "while True:\n",
    "    line = f.readline() # 讀單行\n",
    "    if line:\n",
    "        print(\"line:\",line)\n",
    "    else:\n",
    "        break\n",
    "f.close()"
   ]
  },
  {
   "cell_type": "markdown",
   "metadata": {},
   "source": [
    "### 5.1.2  寫日誌文件"
   ]
  },
  {
   "cell_type": "code",
   "execution_count": 3,
   "metadata": {},
   "outputs": [
    {
     "name": "stderr",
     "output_type": "stream",
     "text": [
      "show warning\n"
     ]
    }
   ],
   "source": [
    "import logging\n",
    "\n",
    "# 獲取logger對象,取名mylog\n",
    "logger = logging.getLogger(\"mylog\")\n",
    "# 輸出DEBUG及以上級別的信息，針對所有輸出的第一層過濾\n",
    "logger.setLevel(level=logging.DEBUG)\n",
    "\n",
    "# 獲取文件日誌句柄並設置日誌級別，第二層過濾\n",
    "handler = logging.FileHandler(\"log.txt\")\n",
    "handler.setLevel(logging.INFO)\t\n",
    "\n",
    "# 生成並設置文件日誌格式，其中name爲上面設置的mylog\n",
    "formatter = logging.Formatter('%(asctime)s - %(name)s - %(levelname)s - %(message)s')\n",
    "handler.setFormatter(formatter)\n",
    "\n",
    "# 獲取流句柄並設置日誌級別，第二層過濾\n",
    "console = logging.StreamHandler()\n",
    "console.setLevel(logging.WARNING)\n",
    "\n",
    "# 爲logger對象添加句柄\n",
    "logger.addHandler(handler)\n",
    "logger.addHandler(console)\n",
    "\n",
    "# 記錄日誌\n",
    "logger.info(\"show info\")\n",
    "logger.debug(\"show debug\")\n",
    "logger.warning(\"show warning\")"
   ]
  },
  {
   "cell_type": "markdown",
   "metadata": {},
   "source": [
    "### 5.1.3  讀寫XML文件"
   ]
  },
  {
   "cell_type": "code",
   "execution_count": 4,
   "metadata": {},
   "outputs": [
    {
     "name": "stdout",
     "output_type": "stream",
     "text": [
      "<?xml version=\"1.0\" ?>\n",
      "<root>\n",
      "\t<blog level=\"3\"/>\n",
      "\t<addr>https://blog.csdn.net/xieyan0811</addr>\n",
      "</root>\n",
      "\n"
     ]
    }
   ],
   "source": [
    "from xml.dom import minidom\n",
    "\n",
    "dom=minidom.Document()\n",
    "root_node=dom.createElement('root') # 創建根節點\n",
    "dom.appendChild(root_node) # 添加根節點\n",
    "\n",
    "book_node=dom.createElement('blog') # 創建第一個子節點\n",
    "book_node.setAttribute('level','3') # 添加屬性\n",
    "root_node.appendChild(book_node) # 爲root添加子節點\n",
    "\n",
    "name_node=dom.createElement('addr') # 創建第二個子節點\n",
    "name_text=dom.createTextNode('https://blog.csdn.net/xieyan0811') # 添加文字\n",
    "name_node.appendChild(name_text)\n",
    "root_node.appendChild(name_node)\n",
    "\n",
    "# toxml() 轉換成字符串, toprettyxml()轉換成樹形縮進版式\n",
    "print(dom.toprettyxml())\n",
    "with open('test_dom.xml','w') as fh:\n",
    "    dom.writexml(fh, indent='',addindent='\\t', newl='\\n', encoding='UTF-8')"
   ]
  },
  {
   "cell_type": "code",
   "execution_count": 5,
   "metadata": {},
   "outputs": [
    {
     "name": "stdout",
     "output_type": "stream",
     "text": [
      "node name root\n",
      "node type 1\n",
      "child nodes [<DOM Text node \"'\\n\\t'\">, <DOM Element: blog at 0x7f00b0586b90>, <DOM Text node \"'\\n\\t'\">, <DOM Element: addr at 0x7f00b0586d58>, <DOM Text node \"'\\n'\">]\n",
      "3\n",
      "addr's child nodes [<DOM Text node \"'https://bl'...\">]\n",
      "text data https://blog.csdn.net/xieyan0811\n",
      "parent root\n"
     ]
    }
   ],
   "source": [
    "from xml.dom import minidom\n",
    "with open('test_dom.xml','r') as fh:\n",
    "    dom = minidom.parse(fh) # 獲取dom對象\n",
    "    root = dom.documentElement # 獲取根節點\n",
    "    print(\"node name\", root.nodeName) # 顯示節點名: root\n",
    "    print(\"node type\", root.nodeType) # 顯示節點類型\n",
    "    print(\"child nodes\", root.childNodes) # 列出所有子節點\n",
    "    blog = root.getElementsByTagName('blog')[0] # 根據標籤名獲取元素列表\n",
    "    print(blog.getAttribute('level')) # 獲取屬性值\n",
    "    addr = root.getElementsByTagName('addr')[0]\n",
    "    print(\"addr's child nodes\", addr.childNodes)\n",
    "    text_node = addr.childNodes[0] # 獲取文本節點內容\n",
    "    print(\"text data\", text_node.data)\n",
    "    print(\"parent\", addr.parentNode.nodeName) # 顯示name的父節點名稱"
   ]
  },
  {
   "cell_type": "markdown",
   "metadata": {},
   "source": [
    "### 5.1.4  讀寫Json文件"
   ]
  },
  {
   "cell_type": "code",
   "execution_count": 6,
   "metadata": {},
   "outputs": [
    {
     "name": "stdout",
     "output_type": "stream",
     "text": [
      "[{\"group\": 0, \"param\": [\"one\", \"two\", \"three\"]}, {\"group\": 1, \"param\": [\"1\", \"2\", \"3\"]}]\n",
      "[\n",
      "    {\n",
      "        \"group\": 0,\n",
      "        \"param\": [\n",
      "            \"one\",\n",
      "            \"two\",\n",
      "            \"three\"\n",
      "        ]\n",
      "    },\n",
      "    {\n",
      "        \"group\": 1,\n",
      "        \"param\": [\n",
      "            \"1\",\n",
      "            \"2\",\n",
      "            \"3\"\n",
      "        ]\n",
      "    }\n",
      "]\n",
      "[{'group': 0, 'param': ['one', 'two', 'three']}, {'group': 1, 'param': ['1', '2', '3']}] <class 'list'>\n",
      "[{'group': 0, 'param': ['one', 'two', 'three']}, {'group': 1, 'param': ['1', '2', '3']}] <class 'list'>\n"
     ]
    }
   ],
   "source": [
    "import json\n",
    "\n",
    "data = [{\"group\":0,\"param\":[\"one\",\"two\",\"three\"]},\n",
    "        {\"group\":1,\"param\":[\"1\",\"2\",\"3\"]}] \n",
    "\n",
    "jsonstr = json.dumps(data)\n",
    "print(jsonstr)\n",
    "jsonstr = json.dumps(data, sort_keys=True, \n",
    "                 indent=4, separators=(',', ': '))\n",
    "print(jsonstr)\n",
    "data1 = json.loads(jsonstr)\n",
    "print(data1, type(data1))\n",
    "\n",
    "with open('json.txt','w') as json_file:\n",
    "    json.dump(data, json_file)\n",
    "    json_file.close()\n",
    "\n",
    "with open('json.txt','r') as json_file:\n",
    "    data = json.load(json_file)\n",
    "    json_file.close()\n",
    "print(data1, type(data1))"
   ]
  },
  {
   "cell_type": "markdown",
   "metadata": {},
   "source": [
    "### 5.1.5  讀寫CSV文件"
   ]
  },
  {
   "cell_type": "code",
   "execution_count": 7,
   "metadata": {},
   "outputs": [
    {
     "name": "stdout",
     "output_type": "stream",
     "text": [
      "<class 'pandas.core.frame.DataFrame'>\n",
      "RangeIndex: 2 entries, 0 to 1\n",
      "Data columns (total 3 columns):\n",
      "Name    2 non-null object\n",
      "Age     2 non-null object\n",
      "Sex     2 non-null object\n",
      "dtypes: object(3)\n",
      "memory usage: 128.0+ bytes\n",
      "None\n",
      "<class 'pandas.core.frame.DataFrame'>\n",
      "RangeIndex: 2 entries, 0 to 1\n",
      "Data columns (total 3 columns):\n",
      "Name    2 non-null object\n",
      "Sex     2 non-null object\n",
      "Age     2 non-null int64\n",
      "dtypes: int64(1), object(2)\n",
      "memory usage: 128.0+ bytes\n",
      "None\n",
      "    Name Sex  Age\n",
      "0  Smith   男   25\n",
      "1   Lucy   女   20\n"
     ]
    }
   ],
   "source": [
    "import pandas as pd\n",
    "\n",
    "df = pd.DataFrame({'Name': ['Smith', 'Lucy'], 'Age': ['25', '20'], 'Sex': ['男','女']})\n",
    "print(df.info()) # 顯示dataframe相關信息\n",
    "df.to_csv(\"tmp.csv\", index=False, header=True, columns=['Name','Sex','Age'])\n",
    "\n",
    "df1 = pd.read_csv(\"tmp.csv\")\n",
    "print(df1.info())\n",
    "print(df1)"
   ]
  },
  {
   "cell_type": "markdown",
   "metadata": {},
   "source": [
    "### 5.1.6  讀寫PKL文件"
   ]
  },
  {
   "cell_type": "code",
   "execution_count": 8,
   "metadata": {},
   "outputs": [
    {
     "name": "stdout",
     "output_type": "stream",
     "text": [
      "<class 'pandas.core.frame.DataFrame'>\n",
      "RangeIndex: 2 entries, 0 to 1\n",
      "Data columns (total 3 columns):\n",
      "Name    2 non-null object\n",
      "Age     2 non-null object\n",
      "Sex     2 non-null object\n",
      "dtypes: object(3)\n",
      "memory usage: 128.0+ bytes\n",
      "None\n",
      "<class 'pandas.core.frame.DataFrame'>\n",
      "RangeIndex: 2 entries, 0 to 1\n",
      "Data columns (total 3 columns):\n",
      "Name    2 non-null object\n",
      "Age     2 non-null object\n",
      "Sex     2 non-null object\n",
      "dtypes: object(3)\n",
      "memory usage: 128.0+ bytes\n",
      "None\n"
     ]
    }
   ],
   "source": [
    "import pandas as pd\n",
    "\n",
    "df = pd.DataFrame({'Name': ['Smith', 'Lucy'], 'Age': ['25', '20'], 'Sex': ['男','女']})\n",
    "print(df.info())\n",
    "df.to_pickle(\"tmp.pkl\")\n",
    "\n",
    "df1 = pd.read_pickle(\"tmp.pkl\")\n",
    "print(df1.info())"
   ]
  },
  {
   "cell_type": "code",
   "execution_count": 9,
   "metadata": {},
   "outputs": [
    {
     "name": "stdout",
     "output_type": "stream",
     "text": [
      "{'a': [1, 2.0, (4+6j)], 'b': ('string1', 'Unicode string'), 'c': None}\n"
     ]
    }
   ],
   "source": [
    "import pickle\n",
    "data1 = {'a': [1, 2.0, 4+6j],\n",
    "         'b': ('string1', u'Unicode string'),\n",
    "         'c': None}\n",
    "output = open('tmp2.pkl', 'wb')\n",
    "pickle.dump(data1, output)\n",
    "output.close()\n",
    "\n",
    "pkl_file = open('tmp2.pkl', 'rb')\n",
    "data2 = pickle.load(pkl_file)\n",
    "print(data2)\n",
    "pkl_file.close()"
   ]
  },
  {
   "cell_type": "code",
   "execution_count": 10,
   "metadata": {},
   "outputs": [
    {
     "name": "stdout",
     "output_type": "stream",
     "text": [
      "[0 0]\n"
     ]
    },
    {
     "name": "stderr",
     "output_type": "stream",
     "text": [
      "/usr/local/lib/python3.6/dist-packages/sklearn/externals/joblib/__init__.py:15: DeprecationWarning: sklearn.externals.joblib is deprecated in 0.21 and will be removed in 0.23. Please import this functionality directly from joblib, which can be installed with: pip install joblib. If this warning is raised when loading pickled models, you may need to re-serialize those models with scikit-learn 0.21+.\n",
      "  warnings.warn(msg, category=DeprecationWarning)\n",
      "/usr/local/lib/python3.6/dist-packages/sklearn/svm/base.py:193: FutureWarning: The default value of gamma will change from 'auto' to 'scale' in version 0.22 to account better for unscaled features. Set gamma explicitly to 'auto' or 'scale' to avoid this warning.\n",
      "  \"avoid this warning.\", FutureWarning)\n"
     ]
    }
   ],
   "source": [
    "from sklearn import svm\n",
    "from sklearn import datasets\n",
    "from sklearn.externals import joblib\n",
    "\n",
    "clf = svm.SVC()\n",
    "iris = datasets.load_iris()\n",
    "clf.fit(iris.data, iris.target)\n",
    "joblib.dump(clf, \"tmp3.pkl\")\n",
    "\n",
    "clf1 = joblib.load(\"tmp3.pkl\")\n",
    "print(clf1.predict(iris.data[:2]))"
   ]
  },
  {
   "cell_type": "markdown",
   "metadata": {},
   "source": [
    "### 5.1.7  讀寫HDF5文件"
   ]
  },
  {
   "cell_type": "code",
   "execution_count": 11,
   "metadata": {},
   "outputs": [
    {
     "name": "stdout",
     "output_type": "stream",
     "text": [
      "/data\n",
      "(3, 3)\n",
      "[[0. 0. 0.]\n",
      " [0. 0. 0.]\n",
      " [0. 0. 0.]]\n",
      "/labels\n",
      "(5,)\n",
      "[1 2 3 4 5]\n"
     ]
    },
    {
     "name": "stderr",
     "output_type": "stream",
     "text": [
      "/usr/local/lib/python3.6/dist-packages/h5py/_hl/dataset.py:313: H5pyDeprecationWarning: dataset.value has been deprecated. Use dataset[()] instead.\n",
      "  \"Use dataset[()] instead.\", H5pyDeprecationWarning)\n"
     ]
    }
   ],
   "source": [
    "import h5py\n",
    "import numpy as np\n",
    "\n",
    "f = h5py.File('tmp.h5','w')\n",
    "f['data'] = np.zeros((3,3))\n",
    "f['labels'] = np.array([1,2,3,4,5])\n",
    "f.close()\n",
    "\n",
    "f = h5py.File('tmp.h5','r')\n",
    "for key in f.keys():\n",
    "    print(f[key].name)\n",
    "    print(f[key].shape)\n",
    "    print(f[key].value)\n",
    "f.close()"
   ]
  },
  {
   "cell_type": "markdown",
   "metadata": {},
   "source": [
    "### 5.1.8  讀寫Excel文件"
   ]
  },
  {
   "cell_type": "code",
   "execution_count": 12,
   "metadata": {},
   "outputs": [
    {
     "name": "stdout",
     "output_type": "stream",
     "text": [
      "   Unnamed: 0   Name  Age Sex\n",
      "0           0  Smith   25   男\n",
      "1           1   Lucy   20   女\n",
      "['Sheet1']\n",
      "title Sheet1\n",
      "None\n",
      "0\n",
      "1\n",
      "Name\n",
      "Smith\n",
      "Lucy\n",
      "Age\n",
      "25\n",
      "20\n"
     ]
    }
   ],
   "source": [
    "import pandas as pd\n",
    "import openpyxl\n",
    "\n",
    "df = pd.DataFrame({'Name': ['Smith', 'Lucy'], 'Age': ['25', '20'], 'Sex': ['男','女']})\n",
    "df.to_excel(\"tmp.xlsx\")\n",
    "\n",
    "df1 = pd.read_excel(\"tmp.xlsx\")\n",
    "print(df1)\n",
    "\n",
    "wb = openpyxl.load_workbook('tmp.xlsx')\n",
    "sheets = wb.sheetnames\n",
    "print(sheets)\n",
    "for i in range(len(sheets)):\n",
    "    sheet = wb[sheets[i]]\n",
    "    print('title', sheet.title)\n",
    "    for col in sheet.iter_cols(min_row=0, min_col=0, max_row=3, max_col=3):\n",
    "        for cell in col:\n",
    "            print(cell.value)"
   ]
  }
 ],
 "metadata": {
  "kernelspec": {
   "display_name": "Python 3",
   "language": "python",
   "name": "python3"
  },
  "language_info": {
   "codemirror_mode": {
    "name": "ipython",
    "version": 3
   },
   "file_extension": ".py",
   "mimetype": "text/x-python",
   "name": "python",
   "nbconvert_exporter": "python",
   "pygments_lexer": "ipython3",
   "version": "3.6.8"
  }
 },
 "nbformat": 4,
 "nbformat_minor": 2
}
