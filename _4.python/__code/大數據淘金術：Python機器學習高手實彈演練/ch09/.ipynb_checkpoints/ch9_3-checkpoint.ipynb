{
 "cells": [
  {
   "cell_type": "code",
   "execution_count": 1,
   "metadata": {},
   "outputs": [],
   "source": [
    "# -*- coding:utf-8 -*- #"
   ]
  },
  {
   "cell_type": "code",
   "execution_count": 2,
   "metadata": {},
   "outputs": [
    {
     "name": "stdout",
     "output_type": "stream",
     "text": [
      "trian pred:0.967\n",
      "test pred:1.000\n",
      "[[5.  3.5 1.6 0.6]\n",
      " [4.3 3.  1.1 0.1]\n",
      " [5.4 3.4 1.7 0.2]\n",
      " [5.7 4.4 1.5 0.4]\n",
      " [4.5 2.3 1.3 0.3]\n",
      " [5.1 3.3 1.7 0.5]\n",
      " [5.2 4.1 1.5 0.1]\n",
      " [5.8 4.  1.2 0.2]\n",
      " [5.4 3.  4.5 1.5]\n",
      " [5.2 2.7 3.9 1.4]\n",
      " [6.  2.7 5.1 1.6]\n",
      " [5.  2.  3.5 1. ]\n",
      " [6.3 3.3 4.7 1.6]\n",
      " [7.  3.2 4.7 1.4]\n",
      " [6.  3.4 4.5 1.6]\n",
      " [5.6 2.9 3.6 1.3]\n",
      " [6.1 3.  4.6 1.4]\n",
      " [6.9 3.1 4.9 1.5]\n",
      " [5.1 2.5 3.  1.1]\n",
      " [6.2 2.2 4.5 1.5]\n",
      " [5.7 2.8 4.5 1.3]\n",
      " [5.7 2.6 3.5 1. ]\n",
      " [6.3 2.5 4.9 1.5]\n",
      " [6.7 3.  5.  1.7]\n",
      " [5.9 3.2 4.8 1.8]\n",
      " [6.3 2.3 4.4 1.3]\n",
      " [6.1 3.  4.9 1.8]\n",
      " [6.9 3.1 5.1 2.3]\n",
      " [6.  2.2 5.  1.5]\n",
      " [6.7 2.5 5.8 1.8]\n",
      " [6.3 2.7 4.9 1.8]\n",
      " [6.3 2.8 5.1 1.5]\n",
      " [4.9 2.5 4.5 1.7]\n",
      " [6.3 2.5 5.  1.9]\n",
      " [5.9 3.  5.1 1.8]\n",
      " [7.2 3.6 6.1 2.5]\n",
      " [6.5 3.2 5.1 2. ]\n",
      " [6.2 3.4 5.4 2.3]\n",
      " [7.2 3.  5.8 1.6]\n",
      " [7.7 2.6 6.9 2.3]\n",
      " [7.9 3.8 6.4 2. ]\n",
      " [6.  3.  4.8 1.8]\n",
      " [6.3 3.4 5.6 2.4]\n",
      " [7.7 3.8 6.7 2.2]]\n",
      "[ 8 18 18]\n"
     ]
    },
    {
     "data": {
      "text/plain": [
       "[<matplotlib.lines.Line2D at 0x7f675d278080>]"
      ]
     },
     "execution_count": 2,
     "metadata": {},
     "output_type": "execute_result"
    },
    {
     "data": {
      "image/png": "[encoded data removed]",
      "text/plain": [
       "<Figure size 432x288 with 1 Axes>"
      ]
     },
     "metadata": {
      "needs_background": "light"
     },
     "output_type": "display_data"
    }
   ],
   "source": [
    "from sklearn import svm\n",
    "from sklearn.model_selection import train_test_split\n",
    "from sklearn.datasets import load_iris\n",
    "import matplotlib.pyplot as plt\n",
    "%matplotlib inline\n",
    "\n",
    "iris=load_iris()\n",
    "X = iris.data  # 獲取自變量\n",
    "y = iris.target  # 獲取因變量\n",
    "X_train, X_test, y_train ,y_test = train_test_split(X,y,test_size=0.2,random_state=0)\n",
    "clf = svm.SVC(C=0.8, kernel='rbf', gamma=1) # 高斯核，鬆弛度0.8\n",
    "#clf = svm.SVC(C=0.5, kernel='linear') # 線性核，鬆弛度0.5\n",
    "clf.fit(X_train, y_train.ravel())\n",
    "\n",
    "print('trian pred:%.3f' %(clf.score(X_train, y_train))) # 對訓練集打分\n",
    "print('test pred:%.3f' %(clf.score(X_test, y_test))) # 對測試集打分\n",
    "print(clf.support_vectors_) #支持向量列表，從中看到切分邊界\n",
    "print(clf.n_support_) # 每類別持向量個數\n",
    "\n",
    "plt.plot(X_train[:,0], X_train[:,1],'o', color = '#bbbbbb')\n",
    "plt.plot(clf.support_vectors_[:,0], clf.support_vectors_[:,1],'o')"
   ]
  }
 ],
 "metadata": {
  "kernelspec": {
   "display_name": "Python 3",
   "language": "python",
   "name": "python3"
  },
  "language_info": {
   "codemirror_mode": {
    "name": "ipython",
    "version": 3
   },
   "file_extension": ".py",
   "mimetype": "text/x-python",
   "name": "python",
   "nbconvert_exporter": "python",
   "pygments_lexer": "ipython3",
   "version": "3.6.8"
  }
 },
 "nbformat": 4,
 "nbformat_minor": 2
}
