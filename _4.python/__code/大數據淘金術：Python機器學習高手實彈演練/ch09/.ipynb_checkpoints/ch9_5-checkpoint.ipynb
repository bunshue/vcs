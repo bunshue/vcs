{
 "cells": [
  {
   "cell_type": "code",
   "execution_count": 1,
   "metadata": {},
   "outputs": [],
   "source": [
    "# -*- coding:utf-8 -*- #"
   ]
  },
  {
   "cell_type": "markdown",
   "metadata": {},
   "source": [
    "### 9.5.1．Apriori關聯規則"
   ]
  },
  {
   "cell_type": "code",
   "execution_count": 2,
   "metadata": {},
   "outputs": [
    {
     "name": "stdout",
     "output_type": "stream",
     "text": [
      "[[frozenset({'枇杷'}), frozenset({'梨'}), frozenset({'芒果'}), frozenset({'蘋果'}), frozenset({'香蕉'}), frozenset({'菠蘿'})], [frozenset({'梨', '枇杷'}), frozenset({'梨', '芒果'}), frozenset({'梨', '蘋果'}), frozenset({'梨', '香蕉'}), frozenset({'芒果', '蘋果'}), frozenset({'芒果', '香蕉'}), frozenset({'香蕉', '蘋果'})], [frozenset({'梨', '芒果', '蘋果'}), frozenset({'梨', '芒果', '香蕉'}), frozenset({'梨', '香蕉', '蘋果'}), frozenset({'芒果', '香蕉', '蘋果'})], [frozenset({'芒果', '梨', '香蕉', '蘋果'})], []]\n",
      "{frozenset({'枇杷'}): 0.6, frozenset({'梨'}): 0.8, frozenset({'櫻桃'}): 0.2, frozenset({'芒果'}): 0.6, frozenset({'蘋果'}): 0.6, frozenset({'葡萄'}): 0.2, frozenset({'西瓜'}): 0.2, frozenset({'香蕉'}): 0.8, frozenset({'橙子'}): 0.4, frozenset({'荔枝'}): 0.4, frozenset({'菠蘿'}): 0.6, frozenset({'桔子'}): 0.2, frozenset({'香瓜'}): 0.2, frozenset({'梨', '枇杷'}): 0.6, frozenset({'芒果', '枇杷'}): 0.4, frozenset({'枇杷', '蘋果'}): 0.4, frozenset({'枇杷', '香蕉'}): 0.4, frozenset({'梨', '芒果'}): 0.6, frozenset({'梨', '蘋果'}): 0.6, frozenset({'梨', '香蕉'}): 0.6, frozenset({'芒果', '蘋果'}): 0.6, frozenset({'芒果', '香蕉'}): 0.6, frozenset({'香蕉', '蘋果'}): 0.6, frozenset({'梨', '菠蘿'}): 0.4, frozenset({'菠蘿', '芒果'}): 0.2, frozenset({'菠蘿', '蘋果'}): 0.2, frozenset({'菠蘿', '香蕉'}): 0.4, frozenset({'菠蘿', '枇杷'}): 0.2, frozenset({'梨', '芒果', '枇杷'}): 0.4, frozenset({'梨', '枇杷', '蘋果'}): 0.4, frozenset({'梨', '枇杷', '香蕉'}): 0.4, frozenset({'梨', '芒果', '蘋果'}): 0.6, frozenset({'梨', '芒果', '香蕉'}): 0.6, frozenset({'梨', '香蕉', '蘋果'}): 0.6, frozenset({'芒果', '香蕉', '蘋果'}): 0.6, frozenset({'芒果', '梨', '香蕉', '蘋果'}): 0.6}\n"
     ]
    }
   ],
   "source": [
    "from numpy import *\n",
    "\n",
    "def load(): \n",
    "    return [['香蕉','蘋果','梨','葡萄','櫻桃','西瓜','芒果','枇杷'],\n",
    "            ['蘋果','菠蘿' ,'梨','香蕉','荔枝','芒果','橙子'],\n",
    "            ['菠蘿','香蕉','桔子','橙子'],\n",
    "            ['菠蘿','梨','枇杷'],\n",
    "            ['蘋果','香蕉' ,'梨','荔枝','枇杷','芒果','香瓜']]\n",
    "\n",
    "# 建立所有物品集合\n",
    "def create_collection_1(data):\n",
    "    c = []\n",
    "    for item in data:\n",
    "        for g in item:\n",
    "            if not [g] in c:\n",
    "                c.append([g])                \n",
    "    c.sort()\n",
    "    return list(map(frozenset, c))\n",
    "\n",
    "def check_support(d_list, c_list, min_support):\n",
    "    # d_list是購物數據，c_list是物品集合，support是支持度\n",
    "    c_dic = {} # 組合計數\n",
    "    for d in d_list: # 每次購物\n",
    "        for c in c_list: # 每個組\n",
    "            if c.issubset(d):\n",
    "                if c in c_dic: \n",
    "                    c_dic[c]+=1 # 組合計數加1\n",
    "                else: \n",
    "                    c_dic[c]=1 # 將組合加入字典\n",
    "    d_count = float(len(d_list)) # 購物次數\n",
    "    ret = []\n",
    "    support_dic = {}\n",
    "    for key in c_dic:\n",
    "        support = c_dic[key]/d_count\n",
    "        if support >= min_support: # 判斷支持度\n",
    "            ret.append(key)\n",
    "        support_dic[key] = support # 記錄支持度\n",
    "    return ret, support_dic # 返回滿足支持率的組和支持度字典\n",
    "\n",
    "def create_collection_n(lk, k):\n",
    "    ret = []\n",
    "    for i in range(len(lk)):\n",
    "        for j in range(i+1, len(lk)): \n",
    "            l1 = list(lk[i])[:k-2];\n",
    "            l1.sort()\n",
    "            l2 = list(lk[j])[:k-2]\n",
    "            l2.sort()\n",
    "            if l1==l2:\n",
    "                ret.append(lk[i] | lk[j])\n",
    "    return ret\n",
    "\n",
    "def apriori(data, min_support = 0.5):\n",
    "    c1 = create_collection_1(data)\n",
    "    d_list = list(map(set, data)) # 將購物列表轉換成集合列表\n",
    "    l1, support_dic = check_support(d_list, c1, min_support)\n",
    "    l = [l1]\n",
    "    k = 2\n",
    "    while (len(l[k-2]) > 0):\n",
    "        ck = create_collection_n(l[k-2], k) # 建立新組合\n",
    "        lk, support = check_support(d_list, ck, min_support) # 判斷新組是否適合支持率\n",
    "        support_dic.update(support)\n",
    "        l.append(lk) # 將本次結果加入整體\n",
    "        k += 1\n",
    "    return l, support_dic\n",
    "\n",
    "if __name__ == '__main__':\n",
    "    data = load()\n",
    "    l,support_dic = apriori(data)\n",
    "    print(l)\n",
    "    print(support_dic)"
   ]
  }
 ],
 "metadata": {
  "kernelspec": {
   "display_name": "Python 3",
   "language": "python",
   "name": "python3"
  },
  "language_info": {
   "codemirror_mode": {
    "name": "ipython",
    "version": 3
   },
   "file_extension": ".py",
   "mimetype": "text/x-python",
   "name": "python",
   "nbconvert_exporter": "python",
   "pygments_lexer": "ipython3",
   "version": "3.6.8"
  }
 },
 "nbformat": 4,
 "nbformat_minor": 2
}
