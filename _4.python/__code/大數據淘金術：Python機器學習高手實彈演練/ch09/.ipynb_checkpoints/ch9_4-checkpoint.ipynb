{
 "cells": [
  {
   "cell_type": "code",
   "execution_count": 1,
   "metadata": {},
   "outputs": [],
   "source": [
    "# -*- coding:utf-8 -*- #"
   ]
  },
  {
   "cell_type": "markdown",
   "metadata": {},
   "source": [
    "### 9.4.1．信息量和熵"
   ]
  },
  {
   "cell_type": "code",
   "execution_count": 2,
   "metadata": {},
   "outputs": [
    {
     "name": "stdout",
     "output_type": "stream",
     "text": [
      "0.08079313589591118\n",
      "1.0\n",
      "1.584819511673234\n"
     ]
    }
   ],
   "source": [
    "import math\n",
    "def entropy(*c):\n",
    "    if(len(c)<=0):\n",
    "        return -1\n",
    "    result = 0\n",
    "    for x in c:\n",
    "        result+=(-x)*math.log(x,2)\n",
    "    return result;\n",
    "print(entropy(0.99,0.01))\n",
    "print(entropy(0.5,0.5))\n",
    "print(entropy(0.333,0.333,0.333))"
   ]
  },
  {
   "cell_type": "markdown",
   "metadata": {},
   "source": [
    "### 9.4.2．決策樹"
   ]
  },
  {
   "cell_type": "code",
   "execution_count": 3,
   "metadata": {},
   "outputs": [
    {
     "name": "stdout",
     "output_type": "stream",
     "text": [
      "score: 1.0\n"
     ]
    },
    {
     "data": {
      "text/plain": [
       "87827"
      ]
     },
     "execution_count": 3,
     "metadata": {},
     "output_type": "execute_result"
    }
   ],
   "source": [
    "from sklearn.datasets import load_iris # 鳶尾花數據集\n",
    "from sklearn.model_selection import train_test_split # 切分數據集工具\n",
    "from sklearn import tree # 決策樹工具\n",
    "import pydotplus # 做圖工具\n",
    "import io\n",
    "\n",
    "iris=load_iris()\n",
    "X = iris.data  # 獲取自變量\n",
    "y = iris.target  # 獲取因變量\n",
    "X_train, X_test, y_train ,y_test = train_test_split(X,y,test_size=0.2,random_state=0)\n",
    "clf = tree.DecisionTreeClassifier(max_depth=5)\n",
    "clf.fit(X_train,y_train) # 訓練模型\n",
    "print(\"score:\", clf.score(X_test,y_test)) # 模型打分\n",
    "# 生成決策樹圖片\n",
    "dot_data = io.StringIO()\n",
    "tree.export_graphviz(clf,out_file=dot_data, \n",
    "                     feature_names=iris.feature_names,\n",
    "                     filled=True,rounded=True,\n",
    "                     impurity=False)\n",
    "graph = pydotplus.graph_from_dot_data(dot_data.getvalue())\n",
    "open('a.jpg','wb').write(graph.create_jpg()) # 保存圖片"
   ]
  }
 ],
 "metadata": {
  "kernelspec": {
   "display_name": "Python 3",
   "language": "python",
   "name": "python3"
  },
  "language_info": {
   "codemirror_mode": {
    "name": "ipython",
    "version": 3
   },
   "file_extension": ".py",
   "mimetype": "text/x-python",
   "name": "python",
   "nbconvert_exporter": "python",
   "pygments_lexer": "ipython3",
   "version": "3.6.8"
  }
 },
 "nbformat": 4,
 "nbformat_minor": 2
}
