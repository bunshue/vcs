{
 "cells": [
  {
   "cell_type": "code",
   "execution_count": 1,
   "metadata": {},
   "outputs": [
    {
     "name": "stdout",
     "output_type": "stream",
     "text": [
      "The hidden h A, A, C, C, C\n"
     ]
    }
   ],
   "source": [
    "# -*- coding:utf-8 -*- #\n",
    "\n",
    "import numpy as np\n",
    "from hmmlearn import hmm\n",
    "\n",
    "states = [\"A\", \"B\", \"C\"] # 定義隱藏狀態\n",
    "n_states = len(states)\n",
    "\n",
    "observations = [\"down\",\"up\"] # 定義觀測狀態\n",
    "n_observations = len(observations)\n",
    "\n",
    "p = np.array([0.7, 0.2, 0.1]) # 設置初始值概率pi\n",
    "a = np.array([  # 設置狀態轉移矩陣A\n",
    "   [0.5, 0.2, 0.3],\n",
    "   [0.3, 0.5, 0.2],\n",
    "   [0.2, 0.3, 0.5]\n",
    "])\n",
    "b = np.array([  # 設置狀態對觀測的生成矩陣B\n",
    "  [0.6, 0.2],\n",
    "  [0.3, 0.3],\n",
    "  [0.1, 0.5]\n",
    "])\n",
    "o = np.array([[1, 0, 1, 1, 1]]).T # 設置觀測狀態\n",
    "\n",
    "model = hmm.MultinomialHMM(n_components=n_states)\n",
    "model.startprob_= p\n",
    "model.transmat_= a\n",
    "model.emissionprob_= b\n",
    "\n",
    "logprob, h = model.decode(o, algorithm=\"viterbi\")\n",
    "print(\"The hidden h\", \", \".join(map(lambda x: states[x], h))) # 顯示隱藏狀態"
   ]
  }
 ],
 "metadata": {
  "kernelspec": {
   "display_name": "Python 3",
   "language": "python",
   "name": "python3"
  },
  "language_info": {
   "codemirror_mode": {
    "name": "ipython",
    "version": 3
   },
   "file_extension": ".py",
   "mimetype": "text/x-python",
   "name": "python",
   "nbconvert_exporter": "python",
   "pygments_lexer": "ipython3",
   "version": "3.6.8"
  }
 },
 "nbformat": 4,
 "nbformat_minor": 2
}
