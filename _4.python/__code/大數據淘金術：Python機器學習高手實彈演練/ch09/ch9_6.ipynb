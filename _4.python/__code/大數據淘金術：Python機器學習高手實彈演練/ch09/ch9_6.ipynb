{
 "cells": [
  {
   "cell_type": "code",
   "execution_count": 1,
   "metadata": {},
   "outputs": [],
   "source": [
    "# -*- coding:utf-8 -*- #"
   ]
  },
  {
   "cell_type": "markdown",
   "metadata": {},
   "source": [
    "## 9.6.2 樸素貝葉斯"
   ]
  },
  {
   "cell_type": "code",
   "execution_count": 2,
   "metadata": {},
   "outputs": [
    {
     "name": "stderr",
     "output_type": "stream",
     "text": [
      "Building prefix dict from the default dictionary ...\n",
      "Loading model from cache /tmp/jieba.cache\n",
      "Loading model cost 0.458 seconds.\n",
      "Prefix dict has been built succesfully.\n"
     ]
    },
    {
     "name": "stdout",
     "output_type": "stream",
     "text": [
      "['抄襲', '得', '那麼', '明顯', '也', '是', '醉', '了', '！'] 分類 0\n"
     ]
    }
   ],
   "source": [
    "import numpy as np\n",
    "import jieba\n",
    "\n",
    "def load():\n",
    "    arr = ['不知道該說什麼, 這麼爛的抄襲片也能上映, 我感到很尷尬',\n",
    "       '天吶。一個大寫的滑稽。',\n",
    "       '劇情太狗血，演技太浮誇，結局太無語。總體太渣了。這一個半小時廢了。',\n",
    "       '畫面很美，音樂很好聽，主角演的很到位，很值得一看的電影，男主角很帥很帥，贊贊贊',\n",
    "       '超級喜歡的一部愛情影片',\n",
    "       '故事情節吸引人，演員演的也很好，電影裏的歌也好聽，總之值得一看，看了之後也會很感動的。']\n",
    "    ret = []\n",
    "    for i in arr:\n",
    "        words = jieba.lcut(i) # 將句子切分成詞\n",
    "        ret.append(words)\n",
    "    return ret,[0,0,0,1,1,1]\n",
    "\n",
    "def create_vocab(data):\n",
    "    vocab_set = set([])# 使用set集合操作去掉重複出現的詞彙\n",
    "    for document in data:\n",
    "        vocab_set = vocab_set | set(document) \n",
    "    return list(vocab_set)\n",
    "\n",
    "def words_to_vec(vocab_list, vocab_set):  # 將句轉換成詞表格式\n",
    "    ret = np.zeros(len(vocab_list)) # 創建數據表中的一行，並置初值爲0（不存在）\n",
    "    for word in vocab_set:\n",
    "        if word in vocab_list:\n",
    "            ret[vocab_list.index(word)] = 1  # 若該詞在本句中出現，則設置爲1\n",
    "    return ret\n",
    "\n",
    "def train(X, y):\n",
    "    rows = X.shape[0]\n",
    "    cols = X.shape[1]\n",
    "    percent = sum(y)/float(rows) # 正例佔比\n",
    "    p0_arr = np.ones(cols) # 設置初值爲1，後作爲分子\n",
    "    p1_arr = np.ones(cols)\n",
    "    p0_count = 2.0 # 設初值爲2，後作爲分母\n",
    "    p1_count = 2.0\n",
    "    for i in range(rows): # 按每句遍歷\n",
    "        if y[i] == 1:\n",
    "            p1_arr += X[i] # 數組按每個值相加\n",
    "            p1_count += sum(X[i]) # 句子所有詞個數相加(只計詞彙表中詞)\n",
    "        else:\n",
    "            p0_arr += X[i]\n",
    "            p0_count += sum(X[i])\n",
    "    p1_vec = np.log(p1_arr/p1_count) # 正例時，每個詞出現概率\n",
    "    p0_vec = np.log(p0_arr/p0_count)\n",
    "    return p0_vec, p1_vec, percent\n",
    "\n",
    "def predict(X, p0_vec, p1_vec, percent):\n",
    "    p1 = sum(X * p1_vec) + np.log(percent) # 爲1的概率\n",
    "    p0 = sum(X * p0_vec) + np.log(1.0 - percent) #爲0的概率\n",
    "    if p1 > p0:\n",
    "        return 1\n",
    "    else:\n",
    "        return 0\n",
    "\n",
    "if __name__ == '__main__':\n",
    "    sentences,y = load()\n",
    "    vocab_list = create_vocab(sentences)\n",
    "    X=[]\n",
    "    for sentence in sentences:\n",
    "        X.append(words_to_vec(vocab_list, sentence))\n",
    "    p0_vec, p1_vec, percent = train(np.array(X), np.array(y))\n",
    "    test = jieba.lcut('抄襲得那麼明顯也是醉了！')\n",
    "    test_X = np.array(words_to_vec(vocab_list, test))\n",
    "    print(test,'分類',predict(test_X, p0_vec, p1_vec, percent))"
   ]
  },
  {
   "cell_type": "markdown",
   "metadata": {},
   "source": [
    "## 9.6.3 貝葉斯網絡"
   ]
  },
  {
   "cell_type": "code",
   "execution_count": null,
   "metadata": {},
   "outputs": [],
   "source": [
    "# 此程序段需要在 Python 2系統中運行\n",
    "\n",
    "from bayesian.bbn import build_bbn\n",
    "\n",
    "def f_prize_door(prize_door):\n",
    "    return 0.33333333\n",
    "def f_guest_door(guest_door):\n",
    "    return 0.33333333\n",
    "def f_monty_door(prize_door, guest_door, monty_door):\n",
    "    if prize_door == guest_door:  # 參賽者猜對了\n",
    "        if prize_door == monty_door:\n",
    "            return 0     # Monty不會打開有車的那扇門，不可能發生\n",
    "        else:\n",
    "            return 0.5   # Monty會打開其它兩扇門，二選一\n",
    "    elif prize_door == monty_door:\n",
    "        return 0         #  Monty不會打開有車的那扇門，不可能發生\n",
    "    elif guest_door == monty_door:\n",
    "        return 0         # 門已經由參賽者選定，不可能發生\n",
    "    else:\n",
    "        return 1    # Monty打開另一扇有羊的門\n",
    "\n",
    "if __name__ == '__main__':\n",
    "    g = build_bbn(f_prize_door, f_guest_door, f_monty_door,\n",
    "        domains=dict(\n",
    "            prize_door=['A', 'B', 'C'],\n",
    "            guest_door=['A', 'B', 'C'],\n",
    "            monty_door=['A', 'B', 'C']))\n",
    "    g.q(guest_door='A', monty_door='B') # 假設參賽者打開門A，Monty打開門B"
   ]
  }
 ],
 "metadata": {
  "kernelspec": {
   "display_name": "Python 3",
   "language": "python",
   "name": "python3"
  },
  "language_info": {
   "codemirror_mode": {
    "name": "ipython",
    "version": 3
   },
   "file_extension": ".py",
   "mimetype": "text/x-python",
   "name": "python",
   "nbconvert_exporter": "python",
   "pygments_lexer": "ipython3",
   "version": "3.6.8"
  }
 },
 "nbformat": 4,
 "nbformat_minor": 2
}
