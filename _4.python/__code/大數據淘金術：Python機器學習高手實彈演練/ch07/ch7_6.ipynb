{
 "cells": [
  {
   "cell_type": "code",
   "execution_count": 1,
   "metadata": {},
   "outputs": [
    {
     "name": "stdout",
     "output_type": "stream",
     "text": [
      "RanksumsResult(statistic=2.23606797749979, pvalue=0.025347318677468252)\n",
      "KruskalResult(statistic=11.240699404761898, pvalue=0.003623373784945895)\n"
     ]
    }
   ],
   "source": [
    "# -*- coding:utf-8 -*- #\n",
    "\n",
    "from scipy import stats\n",
    "\n",
    "A = [6, 15, 22, 36, 40, 48, 53]\n",
    "B = [3, 4, 5, 12, 17, 18, 21]\n",
    "print(stats.ranksums(A, B))\n",
    "\n",
    "C = [1, 2, 3, 4, 5, 6, 7]\n",
    "print(stats.kruskal(A, B, C))"
   ]
  }
 ],
 "metadata": {
  "kernelspec": {
   "display_name": "Python 3",
   "language": "python",
   "name": "python3"
  },
  "language_info": {
   "codemirror_mode": {
    "name": "ipython",
    "version": 3
   },
   "file_extension": ".py",
   "mimetype": "text/x-python",
   "name": "python",
   "nbconvert_exporter": "python",
   "pygments_lexer": "ipython3",
   "version": "3.6.8"
  }
 },
 "nbformat": 4,
 "nbformat_minor": 2
}
