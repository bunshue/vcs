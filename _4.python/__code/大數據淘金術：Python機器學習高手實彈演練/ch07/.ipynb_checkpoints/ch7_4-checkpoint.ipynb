{
 "cells": [
  {
   "cell_type": "code",
   "execution_count": 1,
   "metadata": {},
   "outputs": [],
   "source": [
    "# -*- coding:utf-8 -*- #\n",
    "\n",
    "from scipy import stats\n",
    "import numpy as np"
   ]
  },
  {
   "cell_type": "markdown",
   "metadata": {},
   "source": [
    "### 7.4.2  兩獨立樣本T檢驗"
   ]
  },
  {
   "cell_type": "code",
   "execution_count": 2,
   "metadata": {},
   "outputs": [
    {
     "name": "stdout",
     "output_type": "stream",
     "text": [
      "Ttest_indResult(statistic=-1.3022440006355476, pvalue=0.19313343989106416)\n"
     ]
    }
   ],
   "source": [
    "np.random.seed(12345678)\n",
    "rvs1 = stats.norm.rvs(loc=5,scale=10,size=500)  \n",
    "rvs2 = stats.norm.rvs(loc=6,scale=10,size=500)\n",
    "print(stats.ttest_ind(rvs1,rvs2))"
   ]
  },
  {
   "cell_type": "markdown",
   "metadata": {},
   "source": [
    "### 7.4.3  配對樣本T檢驗"
   ]
  },
  {
   "cell_type": "code",
   "execution_count": 3,
   "metadata": {},
   "outputs": [
    {
     "name": "stdout",
     "output_type": "stream",
     "text": [
      "Ttest_relResult(statistic=0.24101764965300979, pvalue=0.8096404344581155)\n"
     ]
    }
   ],
   "source": [
    "np.random.seed(12345678)\n",
    "rvs1 = stats.norm.rvs(loc=5,scale=10,size=500) \n",
    "rvs2 = (stats.norm.rvs(loc=5,scale=10,size=500) + stats.norm.rvs(scale=0.2,size=500)) \n",
    "print(stats.ttest_rel(rvs1,rvs2))"
   ]
  }
 ],
 "metadata": {
  "kernelspec": {
   "display_name": "Python 3",
   "language": "python",
   "name": "python3"
  },
  "language_info": {
   "codemirror_mode": {
    "name": "ipython",
    "version": 3
   },
   "file_extension": ".py",
   "mimetype": "text/x-python",
   "name": "python",
   "nbconvert_exporter": "python",
   "pygments_lexer": "ipython3",
   "version": "3.6.8"
  }
 },
 "nbformat": 4,
 "nbformat_minor": 2
}
