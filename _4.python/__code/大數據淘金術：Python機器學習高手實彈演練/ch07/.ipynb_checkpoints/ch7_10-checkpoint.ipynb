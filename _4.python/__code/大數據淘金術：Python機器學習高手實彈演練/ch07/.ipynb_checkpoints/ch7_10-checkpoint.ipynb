{
 "cells": [
  {
   "cell_type": "code",
   "execution_count": 1,
   "metadata": {},
   "outputs": [],
   "source": [
    "# -*- coding:utf-8 -*- #"
   ]
  },
  {
   "cell_type": "code",
   "execution_count": 2,
   "metadata": {},
   "outputs": [
    {
     "name": "stderr",
     "output_type": "stream",
     "text": [
      "/usr/local/lib/python3.6/dist-packages/tableone.py:638: UserWarning: No p-value was computed for income due to the low number of observations.\n",
      "  warnings.warn('No p-value was computed for {} due to the low number of observations.'.format(v))\n"
     ]
    },
    {
     "name": "stdout",
     "output_type": "stream",
     "text": [
      "               Grouped by vote                                                                                  \n",
      "                        isnull             0.0            1.0    pval                                      ptest\n",
      "variable level                                                                                                  \n",
      "n                                          551            393                                                   \n",
      "popul                        0  373.2 (1192.7)  212.8 (899.1)   0.019                          Two Sample T-test\n",
      "TVnews   0.0                 0       94 (17.1)      67 (17.0)   0.094                                Chi-squared\n",
      "         1.0                          54 (9.8)      46 (11.7)                                                   \n",
      "         2.0                         59 (10.7)      53 (13.5)                                                   \n",
      "         3.0                         70 (12.7)       31 (7.9)                                                   \n",
      "         4.0                          37 (6.7)       29 (7.4)                                                   \n",
      "         5.0                          52 (9.4)       32 (8.1)                                                   \n",
      "         6.0                          13 (2.4)       19 (4.8)                                                   \n",
      "         7.0                        172 (31.2)     116 (29.5)                                                   \n",
      "selfLR   1.0                 0        15 (2.7)        1 (0.3)  <0.001                                Chi-squared\n",
      "         2.0                        100 (18.1)        3 (0.8)                                                   \n",
      "         3.0                        136 (24.7)       11 (2.8)                                                   \n",
      "         4.0                        183 (33.2)      73 (18.6)                                                   \n",
      "         5.0                         73 (13.2)      97 (24.7)                                                   \n",
      "         6.0                          35 (6.4)     183 (46.6)                                                   \n",
      "         7.0                           9 (1.6)       25 (6.4)                                                   \n",
      "ClinLR   1.0                 0        15 (2.7)      94 (23.9)  <0.001                                Chi-squared\n",
      "         2.0                        126 (22.9)     191 (48.6)                                                   \n",
      "         3.0                        167 (30.3)      69 (17.6)                                                   \n",
      "         4.0                        134 (24.3)       26 (6.6)                                                   \n",
      "         5.0                         56 (10.2)       11 (2.8)                                                   \n",
      "         6.0                          35 (6.4)        1 (0.3)                                                   \n",
      "         7.0                          18 (3.3)        1 (0.3)                                                   \n",
      "DoleLR                       0       5.4 (1.5)      5.4 (0.9)   0.532                          Two Sample T-test\n",
      "PID                          0       1.3 (1.5)      5.0 (1.2)  <0.001                          Two Sample T-test\n",
      "age                          0     46.3 (16.4)    48.1 (16.4)   0.100                          Two Sample T-test\n",
      "educ     1.0                 0        10 (1.8)        3 (0.8)   0.080                                Chi-squared\n",
      "         2.0                          38 (6.9)       14 (3.6)                                                   \n",
      "         3.0                        153 (27.8)      95 (24.2)                                                   \n",
      "         4.0                        106 (19.2)      81 (20.6)                                                   \n",
      "         5.0                          53 (9.6)       37 (9.4)                                                   \n",
      "         6.0                        119 (21.6)     108 (27.5)                                                   \n",
      "         7.0                         72 (13.1)      55 (14.0)                                                   \n",
      "income   1.0                 0        16 (2.9)        3 (0.8)   0.003  Chi-squared (warning: expected count < 5)\n",
      "         10.0                         13 (2.4)        2 (0.5)                                                   \n",
      "         11.0                         16 (2.9)        7 (1.8)                                                   \n",
      "         12.0                         23 (4.2)       12 (3.1)                                                   \n",
      "         13.0                         16 (2.9)       10 (2.5)                                                   \n",
      "         14.0                         28 (5.1)       11 (2.8)                                                   \n",
      "         15.0                         43 (7.8)       25 (6.4)                                                   \n",
      "         16.0                         40 (7.3)       30 (7.6)                                                   \n",
      "         17.0                         33 (6.0)       29 (7.4)                                                   \n",
      "         18.0                         26 (4.7)       22 (5.6)                                                   \n",
      "         19.0                         32 (5.8)       19 (4.8)                                                   \n",
      "         2.0                          11 (2.0)        1 (0.3)                                                   \n",
      "         20.0                         50 (9.1)      50 (12.7)                                                   \n",
      "         21.0                         51 (9.3)      52 (13.2)                                                   \n",
      "         22.0                         27 (4.9)       26 (6.6)                                                   \n",
      "         23.0                         20 (3.6)       27 (6.9)                                                   \n",
      "         24.0                         33 (6.0)       35 (8.9)                                                   \n",
      "         3.0                          13 (2.4)        4 (1.0)                                                   \n",
      "         4.0                          14 (2.5)        5 (1.3)                                                   \n",
      "         5.0                          13 (2.4)        5 (1.3)                                                   \n",
      "         6.0                           6 (1.1)        7 (1.8)                                                   \n",
      "         7.0                           8 (1.5)        3 (0.8)                                                   \n",
      "         8.0                          12 (2.2)        5 (1.3)                                                   \n",
      "         9.0                           7 (1.3)        3 (0.8)                                                   \n",
      "logpopul                     0       2.9 (3.1)      1.8 (3.2)  <0.001                          Two Sample T-test\n",
      "[1] Warning, Hartigan's Dip Test reports possible multimodal distributions for: DoleLR, PID, logpopul.\n",
      "[2] Warning, Tukey test indicates far outliers in: DoleLR, popul.\n",
      "[3] Warning, test for normality reports non-normal distributions for: DoleLR, PID, age, logpopul, popul.\n",
      "\n"
     ]
    }
   ],
   "source": [
    "import statsmodels as sm\n",
    "import tableone \n",
    "\n",
    "data = sm.datasets.anes96.load_pandas().data\n",
    "categorical = ['TVnews', 'selfLR', 'ClinLR', 'educ', 'income'] \n",
    "groupby = 'vote'\n",
    "mytable = tableone.TableOne(data, categorical=categorical, \n",
    "                            groupby=groupby, pval=True)\n",
    "print(mytable)\n",
    "mytable.to_excel(\"a.xlsx\")"
   ]
  }
 ],
 "metadata": {
  "kernelspec": {
   "display_name": "Python 3",
   "language": "python",
   "name": "python3"
  },
  "language_info": {
   "codemirror_mode": {
    "name": "ipython",
    "version": 3
   },
   "file_extension": ".py",
   "mimetype": "text/x-python",
   "name": "python",
   "nbconvert_exporter": "python",
   "pygments_lexer": "ipython3",
   "version": "3.6.8"
  }
 },
 "nbformat": 4,
 "nbformat_minor": 2
}
