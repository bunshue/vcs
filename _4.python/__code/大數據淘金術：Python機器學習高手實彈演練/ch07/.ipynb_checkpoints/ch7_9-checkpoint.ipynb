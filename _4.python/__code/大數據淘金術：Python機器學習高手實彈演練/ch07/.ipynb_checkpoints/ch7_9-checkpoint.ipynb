{
 "cells": [
  {
   "cell_type": "code",
   "execution_count": 1,
   "metadata": {},
   "outputs": [],
   "source": [
    "# -*- coding:utf-8 -*- #"
   ]
  },
  {
   "cell_type": "code",
   "execution_count": 2,
   "metadata": {},
   "outputs": [
    {
     "name": "stdout",
     "output_type": "stream",
     "text": [
      "                            OLS Regression Results                            \n",
      "==============================================================================\n",
      "Dep. Variable:                 AVGEXP   R-squared:                       0.543\n",
      "Model:                            OLS   Adj. R-squared:                  0.516\n",
      "Method:                 Least Squares   F-statistic:                     20.22\n",
      "Date:                Thu, 27 Jun 2019   Prob (F-statistic):           5.24e-11\n",
      "Time:                        17:25:58   Log-Likelihood:                -507.24\n",
      "No. Observations:                  72   AIC:                             1022.\n",
      "Df Residuals:                      68   BIC:                             1032.\n",
      "Df Model:                           4                                         \n",
      "Covariance Type:            nonrobust                                         \n",
      "==============================================================================\n",
      "                 coef    std err          t      P>|t|      [0.025      0.975]\n",
      "------------------------------------------------------------------------------\n",
      "AGE           -6.8112      4.551     -1.497      0.139     -15.892       2.270\n",
      "INCOME       175.8245     63.743      2.758      0.007      48.628     303.021\n",
      "INCOMESQ      -9.7235      6.030     -1.613      0.111     -21.756       2.309\n",
      "OWNRENT       54.7496     80.044      0.684      0.496    -104.977     214.476\n",
      "==============================================================================\n",
      "Omnibus:                       76.325   Durbin-Watson:                   1.692\n",
      "Prob(Omnibus):                  0.000   Jarque-Bera (JB):              649.447\n",
      "Skew:                           3.194   Prob(JB):                    9.42e-142\n",
      "Kurtosis:                      16.255   Cond. No.                         87.5\n",
      "==============================================================================\n",
      "\n",
      "Warnings:\n",
      "[1] Standard Errors assume that the covariance matrix of the errors is correctly specified.\n"
     ]
    }
   ],
   "source": [
    "# 多元線性迴歸\n",
    "import statsmodels.api as sm \n",
    "\n",
    "data = sm.datasets.ccard.load_pandas().data\n",
    "model = sm.OLS(endog = data['AVGEXP'],\n",
    "     exog = data[['AGE','INCOME','INCOMESQ','OWNRENT']]).fit()\n",
    "print(model.summary())"
   ]
  },
  {
   "cell_type": "code",
   "execution_count": 3,
   "metadata": {},
   "outputs": [
    {
     "name": "stdout",
     "output_type": "stream",
     "text": [
      "Optimization terminated successfully.\n",
      "         Current function value: 0.504920\n",
      "         Iterations 8\n",
      "                           Logit Regression Results                           \n",
      "==============================================================================\n",
      "Dep. Variable:                OWNRENT   No. Observations:                   72\n",
      "Model:                          Logit   Df Residuals:                       68\n",
      "Method:                           MLE   Df Model:                            3\n",
      "Date:                Thu, 27 Jun 2019   Pseudo R-squ.:                  0.2368\n",
      "Time:                        17:25:59   Log-Likelihood:                -36.354\n",
      "converged:                       True   LL-Null:                       -47.633\n",
      "                                        LLR p-value:                 4.995e-05\n",
      "==============================================================================\n",
      "                 coef    std err          z      P>|z|      [0.025      0.975]\n",
      "------------------------------------------------------------------------------\n",
      "AVGEXP         0.0002      0.001      0.228      0.820      -0.002       0.002\n",
      "AGE            0.0853      0.042      2.021      0.043       0.003       0.168\n",
      "INCOME        -2.5798      0.822     -3.137      0.002      -4.191      -0.968\n",
      "INCOMESQ       0.4243      0.126      3.381      0.001       0.178       0.670\n",
      "==============================================================================\n"
     ]
    }
   ],
   "source": [
    "# 邏輯迴歸\n",
    "\n",
    "import statsmodels.api as sm\n",
    "data = sm.datasets.ccard.load_pandas().data\n",
    "data['OWNRENT'] = data['OWNRENT'].astype(int)\n",
    "model = sm.Logit(endog = data['OWNRENT'], \n",
    "     exog = data[['AVGEXP','AGE','INCOME','INCOMESQ']]).fit()\n",
    "print(model.summary())"
   ]
  }
 ],
 "metadata": {
  "kernelspec": {
   "display_name": "Python 3",
   "language": "python",
   "name": "python3"
  },
  "language_info": {
   "codemirror_mode": {
    "name": "ipython",
    "version": 3
   },
   "file_extension": ".py",
   "mimetype": "text/x-python",
   "name": "python",
   "nbconvert_exporter": "python",
   "pygments_lexer": "ipython3",
   "version": "3.6.8"
  }
 },
 "nbformat": 4,
 "nbformat_minor": 2
}
