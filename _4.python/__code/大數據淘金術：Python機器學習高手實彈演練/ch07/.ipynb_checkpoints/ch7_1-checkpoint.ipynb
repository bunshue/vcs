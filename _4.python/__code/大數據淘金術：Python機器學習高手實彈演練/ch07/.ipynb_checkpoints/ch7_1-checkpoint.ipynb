{
 "cells": [
  {
   "cell_type": "code",
   "execution_count": 1,
   "metadata": {},
   "outputs": [
    {
     "name": "stdout",
     "output_type": "stream",
     "text": [
      "Ttest_1sampResult(statistic=90.99999999999994, pvalue=3.4535367467972673e-37)\n",
      "Ttest_1sampResult(statistic=0.0, pvalue=1.0)\n",
      "90.99999999999994\n",
      "0.0\n"
     ]
    }
   ],
   "source": [
    "# -*- coding:utf-8 -*- #\n",
    "\n",
    "from scipy import stats\n",
    "import numpy as np\n",
    "\n",
    "arr1 = [96,95,95,95,95,95,95,95,95,95,95,95,95,95,95,\n",
    "        95,95,95,95,95,95,95,95,95,95,95,95,95,95,95]\n",
    "arr2 = [90,91,92,93,94,90,91,92,93,94,90,91,92,93,94,\n",
    "        90,91,92,93,94,90,91,92,93,94,90,91,92,93,94]\n",
    "print(stats.ttest_1samp(arr1, 92))\n",
    "print(stats.ttest_1samp(arr2, 92))\n",
    "print((np.mean(arr1)-92)/(np.std(arr1)/np.sqrt(len(arr1)-1)))\n",
    "print((np.mean(arr2)-92)/(np.std(arr2)/np.sqrt(len(arr2)-1)))"
   ]
  }
 ],
 "metadata": {
  "kernelspec": {
   "display_name": "Python 3",
   "language": "python",
   "name": "python3"
  },
  "language_info": {
   "codemirror_mode": {
    "name": "ipython",
    "version": 3
   },
   "file_extension": ".py",
   "mimetype": "text/x-python",
   "name": "python",
   "nbconvert_exporter": "python",
   "pygments_lexer": "ipython3",
   "version": "3.6.8"
  }
 },
 "nbformat": 4,
 "nbformat_minor": 2
}
