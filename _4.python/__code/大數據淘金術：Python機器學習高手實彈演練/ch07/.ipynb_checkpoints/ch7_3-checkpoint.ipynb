{
 "cells": [
  {
   "cell_type": "code",
   "execution_count": 1,
   "metadata": {},
   "outputs": [],
   "source": [
    "# -*- coding:utf-8 -*- #\n",
    "\n",
    "from scipy import stats\n",
    "import numpy as np"
   ]
  },
  {
   "cell_type": "markdown",
   "metadata": {},
   "source": [
    "### 7.3.1  正態性檢驗"
   ]
  },
  {
   "cell_type": "code",
   "execution_count": 2,
   "metadata": {},
   "outputs": [
    {
     "name": "stdout",
     "output_type": "stream",
     "text": [
      "KstestResult(statistic=0.0315638260778347, pvalue=0.9260909172362317)\n"
     ]
    }
   ],
   "source": [
    "# 檢驗樣本是否服從某一分佈\n",
    "np.random.seed(12345678)\n",
    "x = stats.norm.rvs(loc=0, scale=1, size=300) # loc爲均值，scale爲方差\n",
    "print(stats.kstest(x,'norm'))"
   ]
  },
  {
   "cell_type": "code",
   "execution_count": 3,
   "metadata": {},
   "outputs": [
    {
     "name": "stdout",
     "output_type": "stream",
     "text": [
      "(0.9679025411605835, 0.06934241950511932)\n"
     ]
    }
   ],
   "source": [
    "# 數據的正態性檢驗\n",
    "np.random.seed(12345678)\n",
    "x = stats.norm.rvs(loc=10, scale=2, size=70) \n",
    "print(stats.shapiro(x))"
   ]
  },
  {
   "cell_type": "code",
   "execution_count": 4,
   "metadata": {},
   "outputs": [
    {
     "data": {
      "text/plain": [
       "(array([ 1.,  1., 10., 30., 52., 75., 59., 46., 24.,  2.]),\n",
       " array([ 3.16707968,  4.36224834,  5.55741699,  6.75258565,  7.9477543 ,\n",
       "         9.14292296, 10.33809162, 11.53326027, 12.72842893, 13.92359758,\n",
       "        15.11876624]),\n",
       " <a list of 10 Patch objects>)"
      ]
     },
     "execution_count": 4,
     "metadata": {},
     "output_type": "execute_result"
    },
    {
     "data": {
      "image/png": "[encoded data removed]",
      "text/plain": [
       "<Figure size 432x288 with 1 Axes>"
      ]
     },
     "metadata": {
      "needs_background": "light"
     },
     "output_type": "display_data"
    }
   ],
   "source": [
    "# 作圖法檢驗正態分佈\n",
    "import matplotlib.pyplot as plt\n",
    "%matplotlib inline\n",
    "np.random.seed(12345678)\n",
    "x = stats.norm.rvs(loc=10, scale=2, size=300) \n",
    "plt.hist(x)"
   ]
  },
  {
   "cell_type": "markdown",
   "metadata": {},
   "source": [
    "### 7.3.2  方差齊性檢驗"
   ]
  },
  {
   "cell_type": "code",
   "execution_count": 5,
   "metadata": {},
   "outputs": [
    {
     "name": "stdout",
     "output_type": "stream",
     "text": [
      "LeveneResult(statistic=1.69399631630608, pvalue=0.19337536323599344)\n"
     ]
    }
   ],
   "source": [
    "np.random.seed(12345678)\n",
    "rvs1 = stats.norm.rvs(loc=5,scale=10,size=500)  \n",
    "rvs2 = stats.norm.rvs(loc=25,scale=9,size=500)\n",
    "print(stats.levene(rvs1, rvs2))"
   ]
  }
 ],
 "metadata": {
  "kernelspec": {
   "display_name": "Python 3",
   "language": "python",
   "name": "python3"
  },
  "language_info": {
   "codemirror_mode": {
    "name": "ipython",
    "version": 3
   },
   "file_extension": ".py",
   "mimetype": "text/x-python",
   "name": "python",
   "nbconvert_exporter": "python",
   "pygments_lexer": "ipython3",
   "version": "3.6.8"
  }
 },
 "nbformat": 4,
 "nbformat_minor": 2
}
