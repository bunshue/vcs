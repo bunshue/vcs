{
 "cells": [
  {
   "cell_type": "code",
   "execution_count": 1,
   "metadata": {},
   "outputs": [
    {
     "name": "stdout",
     "output_type": "stream",
     "text": [
      "(11.27698522484865, 0.08018392803605061, 6, array([[  7.58792373,  30.35169492, 144.75423729, 109.14936441,\n",
      "         52.53177966, 132.49682203,  74.12817797],\n",
      "       [  5.41207627,  21.64830508, 103.24576271,  77.85063559,\n",
      "         37.46822034,  94.50317797,  52.87182203]]))\n"
     ]
    }
   ],
   "source": [
    "import statsmodels.api as sm \n",
    "import scipy.stats as stats\n",
    "import pandas as pd\n",
    "\n",
    "data = sm.datasets.anes96.load_pandas().data\n",
    "contingency = pd.crosstab(data['vote'], [data['educ']])\n",
    "print(stats.chi2_contingency(contingency)) # 卡方檢驗"
   ]
  }
 ],
 "metadata": {
  "kernelspec": {
   "display_name": "Python 3",
   "language": "python",
   "name": "python3"
  },
  "language_info": {
   "codemirror_mode": {
    "name": "ipython",
    "version": 3
   },
   "file_extension": ".py",
   "mimetype": "text/x-python",
   "name": "python",
   "nbconvert_exporter": "python",
   "pygments_lexer": "ipython3",
   "version": "3.6.8"
  }
 },
 "nbformat": 4,
 "nbformat_minor": 2
}
