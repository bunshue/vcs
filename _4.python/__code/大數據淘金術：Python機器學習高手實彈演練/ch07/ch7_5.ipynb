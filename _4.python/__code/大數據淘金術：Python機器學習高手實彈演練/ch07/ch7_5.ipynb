{
 "cells": [
  {
   "cell_type": "code",
   "execution_count": 9,
   "metadata": {},
   "outputs": [
    {
     "name": "stdout",
     "output_type": "stream",
     "text": [
      "F_onewayResult(statistic=287.74898314933193, pvalue=6.223152082157683e-19)\n"
     ]
    }
   ],
   "source": [
    "# -*- coding:utf-8 -*- #\n",
    "\n",
    "from scipy import stats\n",
    "\n",
    "a = [47,56,46,56,48,48,57,56,45,57]  # 分組1\n",
    "b = [87,85,99,85,79,81,82,78,85,91]  # 分組2\n",
    "c = [29,31,36,27,29,30,29,36,36,33]  # 分組3\n",
    "print(stats.f_oneway(a,b,c))"
   ]
  }
 ],
 "metadata": {
  "kernelspec": {
   "display_name": "Python 3",
   "language": "python",
   "name": "python3"
  },
  "language_info": {
   "codemirror_mode": {
    "name": "ipython",
    "version": 3
   },
   "file_extension": ".py",
   "mimetype": "text/x-python",
   "name": "python",
   "nbconvert_exporter": "python",
   "pygments_lexer": "ipython3",
   "version": "3.6.8"
  }
 },
 "nbformat": 4,
 "nbformat_minor": 2
}
