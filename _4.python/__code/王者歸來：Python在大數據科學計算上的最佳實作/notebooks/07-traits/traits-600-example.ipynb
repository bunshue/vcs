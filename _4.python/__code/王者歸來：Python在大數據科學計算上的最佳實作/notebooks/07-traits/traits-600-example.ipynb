﻿{
 "cells": [
  {
   "cell_type": "markdown",
   "metadata": {
    "group_control": {
     "group": 0
    }
   },
   "source": [
    "##函數曲線繪制工具 "
   ]
  },
  {
   "cell_type": "markdown",
   "metadata": {},
   "source": [
    "> **SOURCE**\n",
    "\n",
    "> `scpy2.traits.traitsui_function_plotter`：采用TraitsUI撰寫的函數曲線繪制工具。"
   ]
  },
  {
   "cell_type": "code",
   "execution_count": 1,
   "metadata": {
    "collapsed": true
   },
   "outputs": [],
   "source": [
    "#%hide\n",
    "%exec_python -m scpy2.traits.traitsui_function_plotter"
   ]
  },
  {
   "cell_type": "markdown",
   "metadata": {},
   "source": [
    "> **WARNING**\n",
    "\n",
    "> `Code`對應的編輯器程式碼存在BUG，請讀者將`patches\\pygments_highlighter.py`複製到`site-packages\\pyface\\ui\\qt4\\code_editor`下覆蓋原有的檔案。"
   ]
  },
  {
   "cell_type": "code",
   "execution_count": 14,
   "metadata": {
    "collapsed": false,
    "group_control": {
     "group": 0
    }
   },
   "outputs": [],
   "source": [
    "%%include python traits/traitsui_function_plotter.py 2\n",
    "class FunctionPlotter(HasTraits):\n",
    "    figure = Instance(Figure, ()) #❶\n",
    "    code = Code()  #❷\n",
    "    points = List(Instance(Point), [])  #❸\n",
    "    draw_button = Button(\"Plot\")\n",
    "\n",
    "    view = View(\n",
    "        VSplit(\n",
    "            Item(\"figure\", editor=MPLFigureEditor(toolbar=True), show_label=False), \n",
    "            HSplit(\n",
    "                VGroup(\n",
    "                    Item(\"code\", style=\"custom\"), \n",
    "                    HGroup(\n",
    "                        Item(\"draw_button\", show_label=False),\n",
    "                    ),\n",
    "                    show_labels=False\n",
    "                ),\n",
    "                Item(\"points\", editor=point_table_editor, show_label=False) \n",
    "            )\n",
    "        ),\n",
    "        width=800, height=600, title=\"Function Plotter\", resizable=True\n",
    "    )"
   ]
  },
  {
   "cell_type": "code",
   "execution_count": 15,
   "metadata": {
    "collapsed": false,
    "group_control": {
     "group": 0
    }
   },
   "outputs": [],
   "source": [
    "%%include python traits/traitsui_function_plotter.py 1\n",
    "class Point(HasTraits):\n",
    "    x = Float()\n",
    "    y = Float()\n",
    "\n",
    "\n",
    "point_table_editor = TableEditor(\n",
    "    columns=[ObjectColumn(name='x', width=100, format=\"%g\"),\n",
    "             ObjectColumn(name='y', width=100, format=\"%g\")],\n",
    "    editable=True,\n",
    "    sortable=False,\n",
    "    sort_model=False,\n",
    "    auto_size=False,\n",
    "    row_factory=Point\n",
    ")"
   ]
  },
  {
   "cell_type": "code",
   "execution_count": 18,
   "metadata": {
    "collapsed": false,
    "group_control": {
     "group": 0
    }
   },
   "outputs": [],
   "source": [
    "%%include python traits/traitsui_function_plotter.py 3\n",
    "    def __init__(self, **kw):\n",
    "        super(FunctionPlotter, self).__init__(**kw)\n",
    "        self.figure.canvas_events = [ #❶\n",
    "            (\"button_press_event\", self.memory_location),\n",
    "            (\"button_release_event\", self.update_location)\n",
    "        ]\n",
    "        self.button_press_status = None #儲存滑鼠按鍵按下時的狀態\n",
    "        self.lines = [] #儲存所有曲線\n",
    "        self.functions = [] #儲存所有的曲線函數\n",
    "        self.env = {} #程式碼的執行環境\n",
    "\n",
    "        self.axe = self.figure.add_subplot(1, 1, 1)\n",
    "        self.axe.callbacks.connect('xlim_changed', self.update_data) #❷\n",
    "        self.axe.set_xlim(0, 1)\n",
    "        self.axe.set_ylim(0, 1)\n",
    "        self.points_line, = self.axe.plot([], [], \"kx\", ms=8, zorder=1000) #資料點"
   ]
  },
  {
   "cell_type": "code",
   "execution_count": 21,
   "metadata": {
    "collapsed": false,
    "group_control": {
     "group": 0
    }
   },
   "outputs": [],
   "source": [
    "%%include python traits/traitsui_function_plotter.py 4\n",
    "    def memory_location(self, evt):\n",
    "        if evt.button in (1, 3):\n",
    "            self.button_press_status = time.clock(), evt.x, evt.y\n",
    "        else:\n",
    "            self.button_press_status = None\n",
    "\n",
    "    def update_location(self, evt):\n",
    "        if evt.button in (1, 3) and self.button_press_status is not None:\n",
    "            last_clock, last_x, last_y = self.button_press_status\n",
    "            if time.clock() - last_clock > 0.5: #❶\n",
    "                return\n",
    "            if ((evt.x - last_x) ** 2 + (evt.y - last_y) ** 2) ** 0.5 > 4: #❷\n",
    "                return\n",
    "\n",
    "        if evt.button == 1:\n",
    "            if evt.xdata is not None and evt.ydata is not None:\n",
    "                point = Point(x=evt.xdata, y=evt.ydata) #❸\n",
    "                self.points.append(point)\n",
    "        elif evt.button == 3:\n",
    "            if self.points:\n",
    "                self.points.pop() #❹"
   ]
  },
  {
   "cell_type": "code",
   "execution_count": 25,
   "metadata": {
    "collapsed": false,
    "group_control": {
     "group": 0
    }
   },
   "outputs": [],
   "source": [
    "%%include python traits/traitsui_function_plotter.py 5\n",
    "    @on_trait_change(\"points[]\")\n",
    "    def _points_changed(self, obj, name, new):\n",
    "        for point in new:\n",
    "            point.on_trait_change(self.update_points, name=\"x, y\") #❶\n",
    "        self.update_points()\n",
    "\n",
    "    def update_points(self): #❷\n",
    "        arr = np.array([(point.x, point.y) for point in self.points])\n",
    "        if arr.shape[0] > 0:\n",
    "            self.points_line.set_data(arr[:, 0], arr[:, 1])\n",
    "        else:\n",
    "            self.points_line.set_data([], [])\n",
    "        self.update_figure()\n",
    "\n",
    "    def update_figure(self): #❸\n",
    "        if self.figure.canvas is not None: #❹\n",
    "            self.figure.canvas.draw_idle()"
   ]
  },
  {
   "cell_type": "code",
   "execution_count": 28,
   "metadata": {
    "collapsed": false,
    "group_control": {
     "group": 0
    }
   },
   "outputs": [],
   "source": [
    "%%include python traits/traitsui_function_plotter.py 6\n",
    "    def update_data(self, axe):\n",
    "        xmin, xmax = axe.get_xlim()\n",
    "        x = np.linspace(xmin, xmax, 500)\n",
    "        for line, func in zip(self.lines, self.functions):\n",
    "            y = func(x)\n",
    "            line.set_data(x, y)\n",
    "        self.update_figure()"
   ]
  },
  {
   "cell_type": "code",
   "execution_count": 31,
   "metadata": {
    "collapsed": false,
    "group_control": {
     "group": 0
    }
   },
   "outputs": [],
   "source": [
    "%%include python traits/traitsui_function_plotter.py 7\n",
    "    def _draw_button_fired(self):\n",
    "        self.plot_lines()\n",
    "\n",
    "    def plot_lines(self):\n",
    "        xmin, xmax = self.axe.get_xlim() #❶\n",
    "        x = np.linspace(xmin, xmax, 500)\n",
    "        self.env = {\"points\": np.array([(point.x, point.y) for point in self.points])} #❷\n",
    "        exec self.code in self.env\n",
    "\n",
    "        results = []\n",
    "        for line in self.lines:\n",
    "            line.remove()\n",
    "        self.axe.set_color_cycle(None) #重設彩色循環\n",
    "        self.functions = []\n",
    "        self.lines = []\n",
    "        for name, value in self.env.items(): #❸\n",
    "            if name.startswith(\"_\"): #忽略以_開頭的名字\n",
    "                continue\n",
    "            if callable(value):\n",
    "                try:\n",
    "                    y = value(x)\n",
    "                    if y.shape != x.shape: #輸出陣列應該與輸入陣列的形狀一致\n",
    "                        raise ValueError(\"the return shape is not the same as x\")\n",
    "                except Exception as ex:\n",
    "                    import traceback\n",
    "                    print \"failed when call function {}\\n\".format(name)\n",
    "                    traceback.print_exc()\n",
    "                    continue\n",
    "\n",
    "                results.append((name, y))\n",
    "                self.functions.append(value)\n",
    "\n",
    "        for (name, y), function in zip(results, self.functions):\n",
    "            #若果函數有plot_parameters屬性,則用其作為plot()的參數\n",
    "            kw = getattr(function, \"plot_parameters\", {})  #❹\n",
    "            label = kw.get(\"label\", name)\n",
    "            line, = self.axe.plot(x, y, label=label, **kw)\n",
    "            self.lines.append(line)\n",
    "\n",
    "        points = self.env.get(\"points\", None) #❺\n",
    "        if points is not None:\n",
    "            self.points = [Point(x=x, y=y) for x, y in np.asarray(points).tolist()]\n",
    "\n",
    "        self.axe.legend()\n",
    "        self.update_figure()"
   ]
  }
 ],
 "metadata": {
  "kernelspec": {
   "display_name": "Python 2",
   "language": "python",
   "name": "python2"
  },
  "language_info": {
   "codemirror_mode": {
    "name": "ipython",
    "version": 2
   },
   "file_extension": ".py",
   "mimetype": "text/x-python",
   "name": "python",
   "nbconvert_exporter": "python",
   "pygments_lexer": "ipython2",
   "version": "2.7.9"
  }
 },
 "nbformat": 4,
 "nbformat_minor": 0
}
