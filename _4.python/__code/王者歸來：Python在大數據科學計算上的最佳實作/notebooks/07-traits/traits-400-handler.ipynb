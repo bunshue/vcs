﻿{
 "cells": [
  {
   "cell_type": "code",
   "execution_count": 4,
   "metadata": {
    "collapsed": false,
    "group_control": {
     "group": 0
    }
   },
   "outputs": [],
   "source": [
    "import sip\n",
    "sip.setapi('QString', 2)\n",
    "sip.setapi('QVariant', 2)\n",
    "%gui qt"
   ]
  },
  {
   "cell_type": "markdown",
   "metadata": {},
   "source": [
    "## 用Handler控制界面和模型"
   ]
  },
  {
   "cell_type": "markdown",
   "metadata": {},
   "source": [
    "### 用Handler處理事件"
   ]
  },
  {
   "cell_type": "code",
   "execution_count": 7,
   "metadata": {
    "collapsed": false,
    "group_control": {
     "group": 0
    }
   },
   "outputs": [
    {
     "name": "stdout",
     "output_type": "stream",
     "text": [
      "zhang is  <Employee at 0x91efcf0>\n",
      "init info called\n",
      "init called\n",
      "position called\n",
      "<Employee at 0x96223c0> department changed to  開發\n",
      "setattr called:<Employee at 0x96223c0>.department=開發\n",
      "<Employee at 0x96223c0> department changed to  開發部門\n",
      "setattr called:<Employee at 0x96223c0>.department=開發部門\n",
      "<Employee at 0x91efcf0> department changed to  開發部門\n",
      "apply called\n",
      "close called: True\n",
      "closed called: True\n"
     ]
    },
    {
     "data": {
      "text/plain": [
       "True"
      ]
     },
     "execution_count": 7,
     "metadata": {},
     "output_type": "execute_result"
    }
   ],
   "source": [
    "from traits.api import HasTraits, Str, Int\n",
    "from traitsui.api import View, Item, Group, Handler\n",
    "from traitsui.menu import ModalButtons\n",
    "\n",
    "g1 = [Item('department', label=u\"部門\"),\n",
    "      Item('name', label=u\"姓名\")]\n",
    "g2 = [Item('salary', label=u\"薪水\"),\n",
    "      Item('bonus', label=u\"獎金\")]\n",
    "\n",
    "class Employee(HasTraits):\n",
    "    name = Str\n",
    "    department = Str\n",
    "    salary = Int\n",
    "    bonus = Int\n",
    "    \n",
    "    def _department_changed(self): #❶\n",
    "        print self, \"department changed to \", self.department\n",
    "        \n",
    "    def __str__(self): #❷\n",
    "        return \"<Employee at 0x%x>\" % id(self)\n",
    "\n",
    "view1 = View(\n",
    "    Group(*g1, label = u'個人訊息', show_border = True),\n",
    "    Group(*g2, label = u'收入', show_border = True),\n",
    "    title = u\"外部檢視\",\n",
    "    kind = \"modal\",   #❸\n",
    "    buttons = ModalButtons\n",
    ")\n",
    "\n",
    "class EmployeeHandler(Handler): #❹\n",
    "    def init(self, info):\n",
    "        super(EmployeeHandler, self).init(info)\n",
    "        print \"init called\"\n",
    "\n",
    "    def init_info(self, info):\n",
    "        super( EmployeeHandler, self).init_info(info)\n",
    "        print \"init info called\"\n",
    "        \n",
    "    def position(self, info):\n",
    "        super(EmployeeHandler, self).position(info)\n",
    "        print \"position called\"\n",
    "        \n",
    "    def setattr(self, info, obj, name, value):\n",
    "        super(EmployeeHandler, self).setattr(info, obj, name, value)\n",
    "        print \"setattr called:%s.%s=%s\" % (obj, name, value)\n",
    "        \n",
    "    def apply(self, info):\n",
    "        super(EmployeeHandler, self).apply(info)\n",
    "        print \"apply called\"\n",
    "        \n",
    "    def close(self, info, is_ok):\n",
    "        super(EmployeeHandler, self).close(info, is_ok)\n",
    "        print \"close called: %s\" % is_ok\n",
    "        return True\n",
    "        \n",
    "    def closed(self, info, is_ok):\n",
    "        super(EmployeeHandler, self).closed(info, is_ok)\n",
    "        print \"closed called: %s\" % is_ok\n",
    "        \n",
    "    def revert(self, info):\n",
    "        super(EmployeeHandler, self).revert(info)\n",
    "        print \"revert called\"\n",
    "           \n",
    "zhang = Employee(name=\"Zhang\")\n",
    "print \"zhang is \", zhang\n",
    "zhang.configure_traits(view=view1, handler=EmployeeHandler()) #❺"
   ]
  },
  {
   "cell_type": "markdown",
   "metadata": {},
   "source": [
    "### Controller和UIInfo物件"
   ]
  },
  {
   "cell_type": "code",
   "execution_count": null,
   "metadata": {
    "collapsed": false,
    "group_control": {
     "group": 0
    }
   },
   "outputs": [],
   "source": [
    "from traitsui.api import Controller\n",
    "\n",
    "view1.kind = \"nonmodal\"\n",
    "zhang = Employee(name=\"Zhang\")\n",
    "c = Controller(zhang)\n",
    "c.edit_traits(view=view1);"
   ]
  },
  {
   "cell_type": "code",
   "execution_count": 5,
   "metadata": {
    "collapsed": false,
    "group_control": {
     "group": 0
    }
   },
   "outputs": [
    {
     "data": {
      "text/plain": [
       "{'_ipython_display_': None,\n",
       " '_repr_html_': None,\n",
       " '_repr_javascript_': None,\n",
       " '_repr_jpeg_': None,\n",
       " '_repr_json_': None,\n",
       " '_repr_latex_': None,\n",
       " '_repr_pdf_': None,\n",
       " '_repr_png_': None,\n",
       " '_repr_svg_': None,\n",
       " 'info': <traitsui.ui_info.UIInfo at 0x5614810>,\n",
       " 'model': <__main__.Employee at 0x55b71e0>}"
      ]
     },
     "execution_count": 5,
     "metadata": {},
     "output_type": "execute_result"
    }
   ],
   "source": [
    "c.get()"
   ]
  },
  {
   "cell_type": "code",
   "execution_count": 6,
   "metadata": {
    "collapsed": false,
    "group_control": {
     "group": 0
    }
   },
   "outputs": [
    {
     "data": {
      "text/plain": [
       "{'initialized': True, 'ui': <traitsui.ui.UI at 0x55b7570>}"
      ]
     },
     "execution_count": 6,
     "metadata": {},
     "output_type": "execute_result"
    }
   ],
   "source": [
    "c.info.get()"
   ]
  },
  {
   "cell_type": "code",
   "execution_count": 8,
   "metadata": {
    "collapsed": false,
    "group_control": {
     "group": 0
    }
   },
   "outputs": [
    {
     "name": "stdout",
     "output_type": "stream",
     "text": [
      "{'_active_group': 0,\n",
      " '_checked': [],\n",
      " '_context': {'controller': <traitsui.handler.Controller at 0x5665870>,\n",
      "  'handler': <traitsui.handler.Controller at 0x5665870>,\n",
      "...\n"
     ]
    }
   ],
   "source": [
    "%omit c.info.ui.get()"
   ]
  },
  {
   "cell_type": "code",
   "execution_count": 10,
   "metadata": {
    "collapsed": false,
    "group_control": {
     "group": 0
    }
   },
   "outputs": [
    {
     "data": {
      "text/plain": [
       "{'controller': <traitsui.handler.Controller at 0x56143f0>,\n",
       " 'handler': <traitsui.handler.Controller at 0x360b090>,\n",
       " 'object': <__main__.Employee at 0x5b58030>}"
      ]
     },
     "execution_count": 10,
     "metadata": {},
     "output_type": "execute_result"
    }
   ],
   "source": [
    "ui = c.info.ui\n",
    "ui.context"
   ]
  },
  {
   "cell_type": "code",
   "execution_count": 11,
   "metadata": {
    "collapsed": false,
    "group_control": {
     "group": 0
    }
   },
   "outputs": [
    {
     "data": {
      "text/plain": [
       "<traitsui.qt4.ui_base._StickyDialog at 0x5658780>"
      ]
     },
     "execution_count": 11,
     "metadata": {},
     "output_type": "execute_result"
    }
   ],
   "source": [
    "ui.control # ui物件所表示的實際界面控制項"
   ]
  },
  {
   "cell_type": "code",
   "execution_count": 13,
   "metadata": {
    "collapsed": false,
    "group_control": {
     "group": 0
    }
   },
   "outputs": [
    {
     "name": "stdout",
     "output_type": "stream",
     "text": [
      "( Group(\n",
      "    Item( 'department'\n",
      "          object     = 'object',\n",
      "          label      = u'\\u90e8\\u95e8',\n",
      "...\n"
     ]
    }
   ],
   "source": [
    "%omit ui.view"
   ]
  },
  {
   "cell_type": "code",
   "execution_count": 15,
   "metadata": {
    "collapsed": false,
    "group_control": {
     "group": 0
    }
   },
   "outputs": [
    {
     "name": "stdout",
     "output_type": "stream",
     "text": [
      "[<traitsui.qt4.text_editor.SimpleEditor at 0x5abe480>,\n",
      " <traitsui.qt4.text_editor.SimpleEditor at 0x5b00510>,\n",
      "...\n"
     ]
    }
   ],
   "source": [
    "%omit ui._editors"
   ]
  },
  {
   "cell_type": "markdown",
   "metadata": {},
   "source": [
    "### 響應Trait屬性的事件"
   ]
  },
  {
   "cell_type": "code",
   "execution_count": 5,
   "metadata": {
    "collapsed": false,
    "group_control": {
     "group": 0
    }
   },
   "outputs": [
    {
     "name": "stdout",
     "output_type": "stream",
     "text": [
      "setattr b2\n",
      "updated changed initialized=False\n"
     ]
    }
   ],
   "source": [
    "from traits.api import HasTraits, Bool\n",
    "from traitsui.api import View, Handler\n",
    "\n",
    "class MyHandler(Handler):\n",
    "    def setattr(self, info, object, name, value): #❶\n",
    "        Handler.setattr(self, info, object, name, value)\n",
    "        info.object.updated = True #❷\n",
    "        print \"setattr\", name\n",
    "        \n",
    "    def object_updated_changed(self, info): #❸\n",
    "        print \"updated changed\", \"initialized=%s\" % info.initialized\n",
    "        if info.initialized:\n",
    "            info.ui.title += \"*\"\n",
    "\n",
    "class TestClass(HasTraits):\n",
    "    b1 = Bool\n",
    "    b2 = Bool\n",
    "    b3 = Bool\n",
    "    updated = Bool(False)\n",
    "\n",
    "view1 = View('b1', 'b2', 'b3',\n",
    "             handler=MyHandler(),\n",
    "             title = \"Test\",\n",
    "             buttons = ['OK', 'Cancel'])\n",
    "\n",
    "tc = TestClass()\n",
    "tc.configure_traits(view=view1);"
   ]
  }
 ],
 "metadata": {
  "kernelspec": {
   "display_name": "Python 2",
   "language": "python",
   "name": "python2"
  },
  "language_info": {
   "codemirror_mode": {
    "name": "ipython",
    "version": 2
   },
   "file_extension": ".py",
   "mimetype": "text/x-python",
   "name": "python",
   "nbconvert_exporter": "python",
   "pygments_lexer": "ipython2",
   "version": "2.7.9"
  }
 },
 "nbformat": 4,
 "nbformat_minor": 0
}
