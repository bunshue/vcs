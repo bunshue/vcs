﻿{
 "cells": [
  {
   "cell_type": "code",
   "execution_count": 4,
   "metadata": {
    "collapsed": false,
    "group_control": {
     "group": 0
    }
   },
   "outputs": [],
   "source": [
    "import sip\n",
    "sip.setapi('QString', 2)\n",
    "sip.setapi('QVariant', 2)\n",
    "%gui qt"
   ]
  },
  {
   "cell_type": "markdown",
   "metadata": {},
   "source": [
    "## TraitsUI入門"
   ]
  },
  {
   "cell_type": "markdown",
   "metadata": {},
   "source": [
    "### 預設界面"
   ]
  },
  {
   "cell_type": "code",
   "execution_count": 5,
   "metadata": {
    "collapsed": false,
    "group_control": {
     "group": 0
    }
   },
   "outputs": [],
   "source": [
    "from traits.api import HasTraits, Str, Int\n",
    "\n",
    "class Employee(HasTraits):\n",
    "    name = Str\n",
    "    department = Str\n",
    "    salary = Int\n",
    "    bonus = Int\n",
    "\n",
    "Employee().configure_traits();"
   ]
  },
  {
   "cell_type": "markdown",
   "metadata": {},
   "source": [
    "### 用View定義界面"
   ]
  },
  {
   "cell_type": "markdown",
   "metadata": {},
   "source": [
    "#### 外部檢視和內定檢視"
   ]
  },
  {
   "cell_type": "code",
   "execution_count": 6,
   "metadata": {
    "collapsed": false,
    "group_control": {
     "group": 0
    }
   },
   "outputs": [],
   "source": [
    "from traits.api import HasTraits, Str, Int\n",
    "from traitsui.api import View, Item #❶\n",
    "\n",
    "class Employee(HasTraits):\n",
    "    name = Str\n",
    "    department = Str\n",
    "    salary = Int\n",
    "    bonus = Int\n",
    "    \n",
    "    view = View(  #❷\n",
    "        Item('department', label=u\"部門\", tooltip=u\"在哪個部門干活\"), #❸\n",
    "        Item('name', label=u\"姓名\"),\n",
    "        Item('salary', label=u\"薪水\"),\n",
    "        Item('bonus', label=u\"獎金\"),\n",
    "        title=u\"員薪水料\", width=250, height=150, resizable=True   #❹\n",
    "    )\n",
    "    \n",
    "p = Employee()\n",
    "p.configure_traits();"
   ]
  },
  {
   "cell_type": "code",
   "execution_count": 28,
   "metadata": {
    "collapsed": false,
    "group_control": {
     "group": 0
    }
   },
   "outputs": [],
   "source": [
    "from traits.api import HasTraits, Str, Int\n",
    "from traitsui.api import View, Group, Item #❶\n",
    "\n",
    "g1 = [Item('department', label=u\"部門\", tooltip=u\"在哪個部門干活\"), #❷\n",
    "      Item('name', label=u\"姓名\")]\n",
    "g2 = [Item('salary', label=u\"薪水\"),\n",
    "      Item('bonus', label=u\"獎金\")]\n",
    "\n",
    "class Employee(HasTraits):\n",
    "    name = Str\n",
    "    department = Str\n",
    "    salary = Int\n",
    "    bonus = Int\n",
    "\n",
    "    traits_view = View( #❸\n",
    "        Group(*g1, label = u'個人訊息', show_border = True),\n",
    "        Group(*g2, label = u'收入', show_border = True),\n",
    "        title = u\"預設內定檢視\")    \n",
    "\n",
    "    another_view = View( #❹\n",
    "        Group(*g1, label = u'個人訊息', show_border = True),\n",
    "        Group(*g2, label = u'收入', show_border = True),\n",
    "        title = u\"另一個內定檢視\")    \n",
    "        \n",
    "global_view = View( #❺\n",
    "    Group(*g1, label = u'個人訊息', show_border = True),\n",
    "    Group(*g2, label = u'收入', show_border = True),\n",
    "    title = u\"外部檢視\")    \n",
    "    \n",
    "p = Employee()\n",
    "\n",
    "# 使用內定檢視traits_view \n",
    "p.edit_traits() #❻;"
   ]
  },
  {
   "cell_type": "code",
   "execution_count": 10,
   "metadata": {
    "collapsed": false,
    "group_control": {
     "group": 0
    }
   },
   "outputs": [
    {
     "data": {
      "text/plain": [
       "['another_view', 'traits_view']"
      ]
     },
     "execution_count": 10,
     "metadata": {},
     "output_type": "execute_result"
    }
   ],
   "source": [
    "Employee.__view_traits__.content.keys()"
   ]
  },
  {
   "cell_type": "code",
   "execution_count": 29,
   "metadata": {
    "collapsed": false,
    "group_control": {
     "group": 0
    }
   },
   "outputs": [],
   "source": [
    "# 使用內定檢視another_view \n",
    "p.edit_traits(view=\"another_view\")"
   ]
  },
  {
   "cell_type": "code",
   "execution_count": 30,
   "metadata": {
    "collapsed": false,
    "group_control": {
     "group": 0
    }
   },
   "outputs": [],
   "source": [
    "# 使用外部檢視view1\n",
    "p.edit_traits(view=global_view)"
   ]
  },
  {
   "cell_type": "markdown",
   "metadata": {},
   "source": [
    "> **TIP**\n",
    "\n",
    "> 用TraitsUI庫建立的界面可以選取背景界面庫，目前支援的有qt4和wx兩種。在啟動程式時加入`-toolkit qt4`或是`-toolkit wx`選取使用何種界面庫產生界面。本書中全部使用Qt作為背景界面庫。"
   ]
  },
  {
   "cell_type": "markdown",
   "metadata": {},
   "source": [
    "#### 多模型檢視"
   ]
  },
  {
   "cell_type": "code",
   "execution_count": 31,
   "metadata": {
    "collapsed": false,
    "group_control": {
     "group": 0
    }
   },
   "outputs": [],
   "source": [
    "from traits.api import HasTraits, Str, Int\n",
    "from traitsui.api import View, Group, Item\n",
    "\n",
    "class Employee(HasTraits):\n",
    "    name = Str\n",
    "    department = Str\n",
    "    salary = Int\n",
    "    bonus = Int\n",
    "\n",
    "comp_view = View( #❶\n",
    "    Group(\n",
    "        Group(\n",
    "            Item('p1.department', label=u\"部門\"),\n",
    "            Item('p1.name', label=u\"姓名\"),\n",
    "            Item('p1.salary', label=u\"薪水\"),\n",
    "            Item('p1.bonus', label=u\"獎金\"),\n",
    "            show_border=True\n",
    "        ),\n",
    "        Group(\n",
    "            Item('p2.department', label=u\"部門\"),\n",
    "            Item('p2.name', label=u\"姓名\"),\n",
    "            Item('p2.salary', label=u\"薪水\"),\n",
    "            Item('p2.bonus', label=u\"獎金\"),\n",
    "            show_border=True\n",
    "        ),\n",
    "        orientation = 'horizontal'\n",
    "    ),\n",
    "    title = u\"員工比較\"    \n",
    ")\n",
    "\n",
    "employee1 = Employee(department = u\"開發\", name = u\"張三\", salary = 3000, bonus = 300) #❷\n",
    "employee2 = Employee(department = u\"銷售\", name = u\"李四\", salary = 4000, bonus = 400)\n",
    "\n",
    "HasTraits().configure_traits(view=comp_view, context={\"p1\":employee1, \"p2\":employee2}) #❸;"
   ]
  },
  {
   "cell_type": "code",
   "execution_count": 32,
   "metadata": {
    "collapsed": false,
    "group_control": {
     "group": 0
    }
   },
   "outputs": [],
   "source": [
    "comp_view.ui({\"p1\":employee1, \"p2\":employee2});"
   ]
  },
  {
   "cell_type": "markdown",
   "metadata": {},
   "source": [
    "#### Group物件"
   ]
  },
  {
   "cell_type": "code",
   "execution_count": 33,
   "metadata": {
    "collapsed": false,
    "group_control": {
     "group": 0
    }
   },
   "outputs": [],
   "source": [
    "from traits.api import HasTraits, Str, Int\n",
    "from traitsui.api import View, Item, Group, VGrid, VGroup, HSplit, VSplit\n",
    "\n",
    "class SimpleEmployee(HasTraits):\n",
    "    first_name = Str\n",
    "    last_name = Str\n",
    "    department = Str\n",
    "\n",
    "    employee_number = Str\n",
    "    salary = Int\n",
    "    bonus = Int\n",
    "    \n",
    "items1 = [Item(name = 'employee_number', label=u'編號'),\n",
    "          Item(name = 'department', label=u\"部門\", tooltip=u\"在哪個部門干活\"),\n",
    "          Item(name = 'last_name', label=u\"姓\"),\n",
    "          Item(name = 'first_name', label=u\"名\")]\n",
    "\n",
    "items2 = [Item(name = 'salary', label=u\"薪水\"),\n",
    "          Item(name = 'bonus', label=u\"獎金\")]\n",
    "\n",
    "view1 = View(\n",
    "    Group(*items1, label = u'個人訊息', show_border = True),\n",
    "    Group(*items2, label = u'收入', show_border = True),\n",
    "    title = u\"標簽頁模式\",\n",
    "    resizable = True    \n",
    ")\n",
    "    \n",
    "view2 = View(\n",
    "    VGroup(\n",
    "        VGrid(*items1, label = u'個人訊息', show_border = True, scrollable = True),\n",
    "        VGroup(*items2, label = u'收入', show_border = True),\n",
    "    ), \n",
    "    resizable = True, width = 400, height = 250, title = u\"垂直分群組\"    \n",
    ")\n",
    "\n",
    "view3 = View(\n",
    "    HSplit(\n",
    "        VGroup(*items1, show_border = True, scrollable = True),\n",
    "        VGroup(*items2, show_border = True, scrollable = True),\n",
    "    ), \n",
    "    resizable = True, width = 400, height = 150, title = u\"水平分群組(帶調節欄)\"    \n",
    ")\n",
    "\n",
    "view4 = View(\n",
    "    VSplit(\n",
    "        VGroup(*items1, show_border = True, scrollable = True),\n",
    "        VGroup(*items2, show_border = True, scrollable = True),\n",
    "    ), \n",
    "    resizable = True, width = 200, height = 300, title = u\"垂直分群組(帶調節欄)\"    \n",
    ")\n",
    "\n",
    "sam = SimpleEmployee()\n",
    "sam.configure_traits(view=view1)\n",
    "sam.configure_traits(view=view2)\n",
    "sam.configure_traits(view=view3)\n",
    "sam.configure_traits(view=view4);"
   ]
  },
  {
   "cell_type": "markdown",
   "metadata": {},
   "source": [
    "> **TIP**\n",
    "\n",
    "> `Item`也提供了`visible_when`和`enabled_when`屬性，其用法和`Group`完全相同。"
   ]
  },
  {
   "cell_type": "code",
   "execution_count": 35,
   "metadata": {
    "collapsed": false,
    "group_control": {
     "group": 0
    }
   },
   "outputs": [],
   "source": [
    "from traits.api import HasTraits, Int, Bool, Enum, Property\n",
    "from traitsui.api import View, HGroup, VGroup, Item\n",
    "\n",
    "class Shape(HasTraits):\n",
    "    shape_type = Enum(\"rectangle\", \"circle\")\n",
    "    editable = Bool\n",
    "    x, y, w, h, r = [Int]*5\n",
    "    \n",
    "    view = View(\n",
    "        VGroup(\n",
    "            HGroup(Item(\"shape_type\"), Item(\"editable\")),\n",
    "            VGroup(Item(\"x\"), Item(\"y\"), Item(\"w\"), Item(\"h\"), \n",
    "                visible_when=\"shape_type=='rectangle'\", enabled_when=\"editable\"),\n",
    "            VGroup(Item(\"x\"), Item(\"y\"), Item(\"r\"), \n",
    "                visible_when=\"shape_type=='circle'\",  enabled_when=\"editable\"),\n",
    "        ), resizable = True)\n",
    "    \n",
    "shape = Shape()\n",
    "shape.configure_traits();"
   ]
  },
  {
   "cell_type": "markdown",
   "metadata": {},
   "source": [
    "#### 組態檢視"
   ]
  },
  {
   "cell_type": "code",
   "execution_count": 36,
   "metadata": {
    "collapsed": false,
    "group_control": {
     "group": 0
    }
   },
   "outputs": [
    {
     "data": {
      "text/plain": [
       "[u'Apply', u'Revert', u'OK', u'Cancel', u'Help']"
      ]
     },
     "execution_count": 36,
     "metadata": {},
     "output_type": "execute_result"
    }
   ],
   "source": [
    "from traitsui import menu\n",
    "[btn.name for btn in menu.ModalButtons]"
   ]
  }
 ],
 "metadata": {
  "kernelspec": {
   "display_name": "Python 2",
   "language": "python",
   "name": "python2"
  },
  "language_info": {
   "codemirror_mode": {
    "name": "ipython",
    "version": 2
   },
   "file_extension": ".py",
   "mimetype": "text/x-python",
   "name": "python",
   "nbconvert_exporter": "python",
   "pygments_lexer": "ipython2",
   "version": "2.7.9"
  }
 },
 "nbformat": 4,
 "nbformat_minor": 0
}
