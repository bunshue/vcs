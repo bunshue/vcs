﻿{
 "cells": [
  {
   "cell_type": "code",
   "execution_count": 1,
   "metadata": {
    "collapsed": false,
    "group_control": {
     "group": 0
    }
   },
   "outputs": [],
   "source": [
    "import sip\n",
    "sip.setapi('QString', 2)\n",
    "sip.setapi('QVariant', 2)\n",
    "%gui qt"
   ]
  },
  {
   "cell_type": "markdown",
   "metadata": {},
   "source": [
    "# Traits & TraitsUI-輕松製作圖形界面"
   ]
  },
  {
   "cell_type": "markdown",
   "metadata": {},
   "source": [
    "## Traits型態入門"
   ]
  },
  {
   "cell_type": "markdown",
   "metadata": {},
   "source": [
    "### 什麼是Traits屬性"
   ]
  },
  {
   "cell_type": "code",
   "execution_count": 2,
   "metadata": {
    "collapsed": false,
    "group_control": {
     "group": 0
    }
   },
   "outputs": [],
   "source": [
    "from traits.api import HasTraits, Color #❶\n",
    "\n",
    "class Circle(HasTraits): #❷\n",
    "    color = Color #❸"
   ]
  },
  {
   "cell_type": "code",
   "execution_count": 4,
   "metadata": {
    "collapsed": false,
    "group_control": {
     "group": 0
    }
   },
   "outputs": [
    {
     "ename": "AttributeError",
     "evalue": "type object 'Circle' has no attribute 'color'",
     "output_type": "error",
     "traceback": [
      "\u001b[1;31m---------------------------------------------------------------------------\u001b[0m",
      "\u001b[1;31mAttributeError\u001b[0m                            Traceback (most recent call last)",
      "\u001b[1;32m<ipython-input-4-8335a9908186>\u001b[0m in \u001b[0;36m<module>\u001b[1;34m()\u001b[0m\n\u001b[0;32m      1\u001b[0m \u001b[0mc\u001b[0m \u001b[1;33m=\u001b[0m \u001b[0mCircle\u001b[0m\u001b[1;33m(\u001b[0m\u001b[1;33m)\u001b[0m\u001b[1;33m\u001b[0m\u001b[0m\n\u001b[1;32m----> 2\u001b[1;33m \u001b[0mCircle\u001b[0m\u001b[1;33m.\u001b[0m\u001b[0mcolor\u001b[0m    \u001b[1;31m#Circle類別沒有color屬性\u001b[0m\u001b[1;33m\u001b[0m\u001b[0m\n\u001b[0m",
      "\u001b[1;31mAttributeError\u001b[0m: type object 'Circle' has no attribute 'color'"
     ]
    }
   ],
   "source": [
    "c = Circle()\n",
    "Circle.color    #Circle類別沒有color屬性"
   ]
  },
  {
   "cell_type": "code",
   "execution_count": 4,
   "metadata": {
    "collapsed": false,
    "group_control": {
     "group": 0
    }
   },
   "outputs": [
    {
     "name": "stdout",
     "output_type": "stream",
     "text": [
      "<PyQt4.QtGui.QColor object at 0x0542F270>\n",
      "(255, 255, 255, 255)\n"
     ]
    }
   ],
   "source": [
    "print c.color\n",
    "print c.color.getRgb()"
   ]
  },
  {
   "cell_type": "code",
   "execution_count": 14,
   "metadata": {
    "collapsed": false,
    "group_control": {
     "group": 0
    }
   },
   "outputs": [
    {
     "name": "stdout",
     "output_type": "stream",
     "text": [
      "(255, 0, 0, 255)\n",
      "(0, 255, 0, 255)\n",
      "(0, 255, 255, 255)\n",
      "The 'color' trait of a Circle instance must be a string of the form (r,g,b) or (r,g,b,a) where r, g, b, and a are integers from 0 to 255, a QColor instance, a Qt.GlobalColor, an integer which in hex is of the form 0xRRGGBB, a string of the form #RGB, #RRGGBB, #RRRGGGBBB or #RRRRGGGGBBBB or 'aliceblue' or 'antiquewhite' or 'aqua' or 'aquamarine' or  ...\n"
     ]
    }
   ],
   "source": [
    "c.color = \"red\"\n",
    "print c.color.getRgb()\n",
    "c.color = 0x00ff00\n",
    "print c.color.getRgb()\n",
    "c.color = (0, 255, 255)\n",
    "print c.color.getRgb()\n",
    "\n",
    "from traits.api import TraitError\n",
    "try:\n",
    "    c.color = 0.5\n",
    "except TraitError as ex:\n",
    "    print ex[0][:350], \"...\""
   ]
  },
  {
   "cell_type": "code",
   "execution_count": 5,
   "metadata": {
    "collapsed": false,
    "group_control": {
     "group": 0
    }
   },
   "outputs": [],
   "source": [
    "c.configure_traits();"
   ]
  },
  {
   "cell_type": "markdown",
   "metadata": {},
   "source": [
    "> **WARNING**\n",
    "\n",
    "> 當使用wxPython作為背景界面庫時，由於TraitsUI 4.4.0中的一個錯誤，程式離開時會導致執行緒崩潰。請讀者將本書提供的`scpy2\\patches\\toolkit.py`複製到`site-packages\\traitsui\\wx`目錄下，覆蓋原有的`toolkit.py`檔案。"
   ]
  },
  {
   "cell_type": "markdown",
   "metadata": {},
   "source": [
    "> **TIP**\n",
    "\n",
    "> 若果在Notebook中執行`c.configure_traits()`，它會立即傳回`False`，而不會等待交談視窗關閉。當程式單獨執行時`configure_traits()`會等待界面關閉，並根據使用者點擊的按鈕傳回`True`或`False`。"
   ]
  },
  {
   "cell_type": "code",
   "execution_count": 19,
   "metadata": {
    "collapsed": false,
    "group_control": {
     "group": 0
    }
   },
   "outputs": [
    {
     "data": {
      "text/plain": [
       "(83, 120, 255, 255)"
      ]
     },
     "execution_count": 19,
     "metadata": {},
     "output_type": "execute_result"
    }
   ],
   "source": [
    "c.color.getRgb()"
   ]
  },
  {
   "cell_type": "markdown",
   "metadata": {},
   "source": [
    "### Trait屬性的功能"
   ]
  },
  {
   "cell_type": "code",
   "execution_count": 8,
   "metadata": {
    "collapsed": false,
    "group_control": {
     "group": 0
    }
   },
   "outputs": [],
   "source": [
    "from traits.api import Delegate, HasTraits, Instance, Int, Str\n",
    "\n",
    "class Parent ( HasTraits ):\n",
    "    # 起始化: last_name被起始化為'Zhang'\n",
    "    last_name = Str( 'Zhang' ) #❶\n",
    "\n",
    "class Child ( HasTraits ):          \n",
    "    age = Int\n",
    "\n",
    "    # 驗證: father屬性的值必須是Parent類別的案例\n",
    "    father = Instance( Parent ) #❷\n",
    "\n",
    "    # 代理： Child的案例的last_name屬性代理給其father屬性的last_name\n",
    "    last_name = Delegate( 'father' ) #❸\n",
    "\n",
    "    # 監聽: 當age屬性的值被修改時，下面的函數將被執行\n",
    "    def _age_changed ( self, old, new ): #❹\n",
    "        print 'Age changed from %s to %s ' % ( old, new )\n",
    "        \n",
    "p = Parent()\n",
    "c = Child()"
   ]
  },
  {
   "cell_type": "code",
   "execution_count": 9,
   "metadata": {
    "collapsed": false,
    "group_control": {
     "group": 0
    }
   },
   "outputs": [
    {
     "data": {
      "text/plain": [
       "'Zhang'"
      ]
     },
     "execution_count": 9,
     "metadata": {},
     "output_type": "execute_result"
    }
   ],
   "source": [
    "p.last_name"
   ]
  },
  {
   "cell_type": "code",
   "execution_count": 10,
   "metadata": {
    "collapsed": false,
    "group_control": {
     "group": 0
    }
   },
   "outputs": [
    {
     "ename": "AttributeError",
     "evalue": "'NoneType' object has no attribute 'last_name'",
     "output_type": "error",
     "traceback": [
      "\u001b[1;31m---------------------------------------------------------------------------\u001b[0m",
      "\u001b[1;31mAttributeError\u001b[0m                            Traceback (most recent call last)",
      "\u001b[1;32m<ipython-input-10-fff30c984f1b>\u001b[0m in \u001b[0;36m<module>\u001b[1;34m()\u001b[0m\n\u001b[1;32m----> 1\u001b[1;33m \u001b[0mc\u001b[0m\u001b[1;33m.\u001b[0m\u001b[0mlast_name\u001b[0m\u001b[1;33m\u001b[0m\u001b[0m\n\u001b[0m",
      "\u001b[1;31mAttributeError\u001b[0m: 'NoneType' object has no attribute 'last_name'"
     ]
    }
   ],
   "source": [
    "c.last_name   "
   ]
  },
  {
   "cell_type": "code",
   "execution_count": 11,
   "metadata": {
    "collapsed": false,
    "group_control": {
     "group": 0
    }
   },
   "outputs": [
    {
     "name": "stdout",
     "output_type": "stream",
     "text": [
      "Zhang\n",
      "ZHANG\n"
     ]
    }
   ],
   "source": [
    "c.father = p\n",
    "print c.last_name\n",
    "p.last_name = \"ZHANG\"\n",
    "print c.last_name"
   ]
  },
  {
   "cell_type": "code",
   "execution_count": 12,
   "metadata": {
    "collapsed": false,
    "group_control": {
     "group": 0
    }
   },
   "outputs": [
    {
     "name": "stdout",
     "output_type": "stream",
     "text": [
      "Age changed from 0 to 4 \n"
     ]
    }
   ],
   "source": [
    "c.age = 4"
   ]
  },
  {
   "cell_type": "code",
   "execution_count": 13,
   "metadata": {
    "collapsed": false,
    "group_control": {
     "group": 0
    }
   },
   "outputs": [],
   "source": [
    "c.configure_traits();"
   ]
  },
  {
   "cell_type": "code",
   "execution_count": 26,
   "metadata": {
    "collapsed": false,
    "group_control": {
     "group": 0
    }
   },
   "outputs": [
    {
     "name": "stdout",
     "output_type": "stream",
     "text": [
      "age:       4\n",
      "father:    <__main__.Parent object at 0x05D9CC90>\n",
      "last_name: 'ZHANG'\n"
     ]
    }
   ],
   "source": [
    "c.print_traits()"
   ]
  },
  {
   "cell_type": "code",
   "execution_count": 27,
   "metadata": {
    "collapsed": false,
    "group_control": {
     "group": 0
    }
   },
   "outputs": [
    {
     "data": {
      "text/plain": [
       "{'age': 4, 'father': <__main__.Parent at 0x5d9cc90>, 'last_name': 'ZHANG'}"
      ]
     },
     "execution_count": 27,
     "metadata": {},
     "output_type": "execute_result"
    }
   ],
   "source": [
    "c.get()"
   ]
  },
  {
   "cell_type": "code",
   "execution_count": 28,
   "metadata": {
    "collapsed": false,
    "group_control": {
     "group": 0
    }
   },
   "outputs": [
    {
     "name": "stdout",
     "output_type": "stream",
     "text": [
      "Age changed from 4 to 6 \n"
     ]
    },
    {
     "data": {
      "text/plain": [
       "<__main__.Child at 0x5d9c600>"
      ]
     },
     "execution_count": 28,
     "metadata": {},
     "output_type": "execute_result"
    }
   ],
   "source": [
    "c.set(age = 6)"
   ]
  },
  {
   "cell_type": "code",
   "execution_count": 29,
   "metadata": {
    "collapsed": false,
    "group_control": {
     "group": 0
    }
   },
   "outputs": [
    {
     "name": "stdout",
     "output_type": "stream",
     "text": [
      "Age changed from 0 to 3 \n"
     ]
    }
   ],
   "source": [
    "c2 = Child(father=p, age=3)"
   ]
  },
  {
   "cell_type": "code",
   "execution_count": 30,
   "metadata": {
    "collapsed": false,
    "group_control": {
     "group": 0
    }
   },
   "outputs": [
    {
     "data": {
      "text/plain": [
       "<traits.traits.CTrait at 0x9e23870>"
      ]
     },
     "execution_count": 30,
     "metadata": {},
     "output_type": "execute_result"
    }
   ],
   "source": [
    "c.trait(\"age\")"
   ]
  },
  {
   "cell_type": "code",
   "execution_count": 31,
   "metadata": {
    "collapsed": false,
    "group_control": {
     "group": 0
    }
   },
   "outputs": [
    {
     "data": {
      "text/plain": [
       "'Zhang'"
      ]
     },
     "execution_count": 31,
     "metadata": {},
     "output_type": "execute_result"
    }
   ],
   "source": [
    "p.trait(\"last_name\").default"
   ]
  },
  {
   "cell_type": "code",
   "execution_count": 32,
   "metadata": {
    "collapsed": false,
    "group_control": {
     "group": 0
    }
   },
   "outputs": [
    {
     "name": "stdout",
     "output_type": "stream",
     "text": [
      "The 'father' trait of a Child instance must be a Parent or None, but a value of 2 <type 'int'> was specified.\n"
     ]
    }
   ],
   "source": [
    "try:\n",
    "    c.trait(\"father\").validate(c, \"father\", 2)\n",
    "except TraitError as ex:\n",
    "    print ex"
   ]
  },
  {
   "cell_type": "code",
   "execution_count": 33,
   "metadata": {
    "collapsed": false,
    "group_control": {
     "group": 0
    }
   },
   "outputs": [
    {
     "data": {
      "text/plain": [
       "<__main__.Parent at 0x5d9cc90>"
      ]
     },
     "execution_count": 33,
     "metadata": {},
     "output_type": "execute_result"
    }
   ],
   "source": [
    "c.trait(\"father\").validate(c, \"father\", p)"
   ]
  },
  {
   "cell_type": "code",
   "execution_count": 34,
   "metadata": {
    "collapsed": false,
    "group_control": {
     "group": 0
    }
   },
   "outputs": [
    {
     "name": "stdout",
     "output_type": "stream",
     "text": [
      "Age changed from 8 to 10 \n"
     ]
    },
    {
     "data": {
      "text/plain": [
       "6"
      ]
     },
     "execution_count": 34,
     "metadata": {},
     "output_type": "execute_result"
    }
   ],
   "source": [
    "c.trait_property_changed(\"age\", 8, 10)\n",
    "c.age # age屬性值沒有發生變化"
   ]
  },
  {
   "cell_type": "code",
   "execution_count": 35,
   "metadata": {
    "collapsed": false,
    "group_control": {
     "group": 0
    }
   },
   "outputs": [
    {
     "name": "stdout",
     "output_type": "stream",
     "text": [
      "<traits.trait_types.Int object at 0x09DC0490>\n",
      "<traits.trait_types.Instance object at 0x09DC0830>\n"
     ]
    }
   ],
   "source": [
    "print c.trait(\"age\").trait_type\n",
    "print c.trait(\"father\").trait_type"
   ]
  },
  {
   "cell_type": "markdown",
   "metadata": {},
   "source": [
    "### Trait型態物件"
   ]
  },
  {
   "cell_type": "code",
   "execution_count": 36,
   "metadata": {
    "collapsed": false,
    "group_control": {
     "group": 0
    }
   },
   "outputs": [],
   "source": [
    "from traits.api import Float, Int, HasTraits\n",
    "\n",
    "class Person(HasTraits):\n",
    "    age = Int(30)\n",
    "    weight = Float"
   ]
  },
  {
   "cell_type": "code",
   "execution_count": 37,
   "metadata": {
    "collapsed": false,
    "group_control": {
     "group": 0
    }
   },
   "outputs": [
    {
     "name": "stdout",
     "output_type": "stream",
     "text": [
      "True\n",
      "True\n"
     ]
    }
   ],
   "source": [
    "p1 = Person()\n",
    "p2 = Person()\n",
    "print p1.trait(\"age\") is p2.trait(\"age\")\n",
    "print p1.trait(\"weight\").trait_type is p2.trait(\"weight\").trait_type "
   ]
  },
  {
   "cell_type": "code",
   "execution_count": 38,
   "metadata": {
    "collapsed": false,
    "group_control": {
     "group": 0
    }
   },
   "outputs": [],
   "source": [
    "from traits.api import HasTraits, Range\n",
    "\n",
    "coefficient = Range(-1.0, 1.0, 0.0)\n",
    "\n",
    "class Quadratic(HasTraits):\n",
    "    c2 = coefficient\n",
    "    c1 = coefficient\n",
    "    c0 = coefficient\n",
    "\n",
    "class Quadratic2(HasTraits):\n",
    "    c2 = Range(-1.0, 1.0, 0.0)\n",
    "    c1 = Range(-1.0, 1.0, 0.0)\n",
    "    c0 = Range(-1.0, 1.0, 0.0)"
   ]
  },
  {
   "cell_type": "code",
   "execution_count": 39,
   "metadata": {
    "collapsed": false,
    "group_control": {
     "group": 0
    }
   },
   "outputs": [
    {
     "name": "stdout",
     "output_type": "stream",
     "text": [
      "True\n",
      "True\n"
     ]
    }
   ],
   "source": [
    "q = Quadratic()\n",
    "\n",
    "print coefficient is q.trait(\"c0\").trait_type\n",
    "print coefficient is q.trait(\"c1\").trait_type"
   ]
  },
  {
   "cell_type": "code",
   "execution_count": 40,
   "metadata": {
    "collapsed": false,
    "group_control": {
     "group": 0
    }
   },
   "outputs": [
    {
     "data": {
      "text/plain": [
       "False"
      ]
     },
     "execution_count": 40,
     "metadata": {},
     "output_type": "execute_result"
    }
   ],
   "source": [
    "q2 = Quadratic2()\n",
    "q2.trait(\"c0\").trait_type is q2.trait(\"c1\").trait_type"
   ]
  },
  {
   "cell_type": "markdown",
   "metadata": {},
   "source": [
    "### Trait的元資料"
   ]
  },
  {
   "cell_type": "code",
   "execution_count": 41,
   "metadata": {
    "collapsed": false,
    "group_control": {
     "group": 0
    }
   },
   "outputs": [],
   "source": [
    "from traits.api import HasTraits, Int, Str, Array, List\n",
    "   \n",
    "class MetadataTest(HasTraits):\n",
    "    i = Int(99, myinfo=\"test my info\") #❶\n",
    "    s = Str(\"test\", label=u\"字串\")    #❷\n",
    "    # NumPy的陣列\n",
    "    a = Array         #❸\n",
    "    # 元素為Int的清單\n",
    "    list = List(Int)  #❹\n",
    "\n",
    "test = MetadataTest()"
   ]
  },
  {
   "cell_type": "code",
   "execution_count": 42,
   "metadata": {
    "collapsed": false,
    "group_control": {
     "group": 0
    }
   },
   "outputs": [
    {
     "data": {
      "text/plain": [
       "{'a': <traits.traits.CTrait at 0x9e4fbe0>,\n",
       " 'i': <traits.traits.CTrait at 0x9e4f9d0>,\n",
       " 'list': <traits.traits.CTrait at 0x9e4fb30>,\n",
       " 's': <traits.traits.CTrait at 0x9e4fa80>,\n",
       " 'trait_added': <traits.traits.CTrait at 0x4fc2c38>,\n",
       " 'trait_modified': <traits.traits.CTrait at 0x4fc2be0>}"
      ]
     },
     "execution_count": 42,
     "metadata": {},
     "output_type": "execute_result"
    }
   ],
   "source": [
    "test.traits()"
   ]
  },
  {
   "cell_type": "code",
   "execution_count": 43,
   "metadata": {
    "collapsed": false,
    "group_control": {
     "group": 0
    }
   },
   "outputs": [
    {
     "name": "stdout",
     "output_type": "stream",
     "text": [
      "99\n",
      "test my info\n",
      "<traits.trait_types.Int object at 0x05DA4F50>\n"
     ]
    }
   ],
   "source": [
    "print test.trait(\"i\").default\n",
    "print test.trait(\"i\").myinfo\n",
    "print test.trait(\"i\").trait_type"
   ]
  },
  {
   "cell_type": "code",
   "execution_count": 44,
   "metadata": {
    "collapsed": false,
    "group_control": {
     "group": 0
    }
   },
   "outputs": [
    {
     "name": "stdout",
     "output_type": "stream",
     "text": [
      "字串\n"
     ]
    }
   ],
   "source": [
    "print test.trait(\"s\").label"
   ]
  },
  {
   "cell_type": "code",
   "execution_count": 45,
   "metadata": {
    "collapsed": false,
    "group_control": {
     "group": 0
    }
   },
   "outputs": [
    {
     "data": {
      "text/plain": [
       "True"
      ]
     },
     "execution_count": 45,
     "metadata": {},
     "output_type": "execute_result"
    }
   ],
   "source": [
    "test.trait(\"a\").array"
   ]
  },
  {
   "cell_type": "code",
   "execution_count": 46,
   "metadata": {
    "collapsed": false,
    "group_control": {
     "group": 0
    }
   },
   "outputs": [
    {
     "name": "stdout",
     "output_type": "stream",
     "text": [
      "<traits.traits.CTrait object at 0x09E4FB30>\n",
      "<traits.trait_types.List object at 0x05DA46D0>\n",
      "(<traits.traits.CTrait object at 0x09E4FC38>,)\n",
      "<traits.trait_types.Int object at 0x05DA4E50>\n"
     ]
    }
   ],
   "source": [
    "print test.trait(\"list\")\n",
    "print test.trait(\"list\").trait_type\n",
    "print test.trait(\"list\").inner_traits # list屬性的內定元素所對應的CTrait物件\n",
    "print test.trait(\"list\").inner_traits[0].trait_type # 內定元素所對應的Trait型態物件"
   ]
  },
  {
   "cell_type": "code",
   "execution_count": null,
   "metadata": {
    "collapsed": false,
    "group_control": {
     "group": 0
    }
   },
   "outputs": [],
   "source": []
  }
 ],
 "metadata": {
  "kernelspec": {
   "display_name": "Python 2",
   "language": "python",
   "name": "python2"
  },
  "language_info": {
   "codemirror_mode": {
    "name": "ipython",
    "version": 2
   },
   "file_extension": ".py",
   "mimetype": "text/x-python",
   "name": "python",
   "nbconvert_exporter": "python",
   "pygments_lexer": "ipython2",
   "version": "2.7.9"
  }
 },
 "nbformat": 4,
 "nbformat_minor": 0
}
