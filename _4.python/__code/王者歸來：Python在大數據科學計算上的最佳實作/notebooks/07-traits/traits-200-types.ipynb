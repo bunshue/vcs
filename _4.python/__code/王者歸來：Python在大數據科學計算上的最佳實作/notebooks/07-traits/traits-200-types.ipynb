﻿{
 "cells": [
  {
   "cell_type": "code",
   "execution_count": 1,
   "metadata": {
    "collapsed": false,
    "group_control": {
     "group": 0
    }
   },
   "outputs": [],
   "source": [
    "import sip\n",
    "sip.setapi('QString', 2)\n",
    "sip.setapi('QVariant', 2)\n",
    "%gui qt"
   ]
  },
  {
   "cell_type": "markdown",
   "metadata": {},
   "source": [
    "## Trait型態"
   ]
  },
  {
   "cell_type": "markdown",
   "metadata": {},
   "source": [
    "### 預先定義的Trait型態"
   ]
  },
  {
   "cell_type": "code",
   "execution_count": 2,
   "metadata": {
    "collapsed": false,
    "group_control": {
     "group": 0
    }
   },
   "outputs": [],
   "source": [
    "from traits.api import HasTraits, CFloat, Float, TraitError\n",
    "\n",
    "class Person(HasTraits):\n",
    "    cweight = CFloat(50.0)\n",
    "    weight = Float(50.0)"
   ]
  },
  {
   "cell_type": "code",
   "execution_count": 3,
   "metadata": {
    "collapsed": false,
    "group_control": {
     "group": 0
    }
   },
   "outputs": [
    {
     "name": "stdout",
     "output_type": "stream",
     "text": [
      "90.0\n",
      "The 'weight' trait of a Person instance must be a float, but a value of '90' <type 'str'> was specified.\n"
     ]
    }
   ],
   "source": [
    "p = Person()\n",
    "p.cweight = \"90\"\n",
    "print p.cweight\n",
    "try:\n",
    "    p.weight = \"90\"\n",
    "except TraitError as ex:\n",
    "    print ex"
   ]
  },
  {
   "cell_type": "code",
   "execution_count": 4,
   "metadata": {
    "collapsed": false,
    "group_control": {
     "group": 0
    }
   },
   "outputs": [],
   "source": [
    "from traits.api import Enum, List\n",
    "\n",
    "class Items(HasTraits):\n",
    "    count = Enum(None, 0, 1, 2, 3, \"many\")\n",
    "    # 或是：\n",
    "    # count = Enum([None, 0, 1, 2, 3, \"many\"])    "
   ]
  },
  {
   "cell_type": "code",
   "execution_count": 5,
   "metadata": {
    "collapsed": false,
    "group_control": {
     "group": 0
    }
   },
   "outputs": [
    {
     "name": "stdout",
     "output_type": "stream",
     "text": [
      "The 'count' trait of an Items instance must be None or 0 or 1 or 2 or 3 or 'many', but a value of 5 <type 'int'> was specified.\n"
     ]
    }
   ],
   "source": [
    "item = Items()\n",
    "item.count = 2\n",
    "item.count = \"many\"\n",
    "try:\n",
    "    item.count = 5\n",
    "except TraitError as ex:\n",
    "    print ex"
   ]
  },
  {
   "cell_type": "code",
   "execution_count": 6,
   "metadata": {
    "collapsed": false,
    "group_control": {
     "group": 0
    }
   },
   "outputs": [],
   "source": [
    "class Items(HasTraits):\n",
    "    count_list = List([None, 0, 1, 2, 3, \"many\"])\n",
    "    count = Enum(values=\"count_list\")"
   ]
  },
  {
   "cell_type": "code",
   "execution_count": 7,
   "metadata": {
    "collapsed": false,
    "group_control": {
     "group": 0
    }
   },
   "outputs": [
    {
     "name": "stdout",
     "output_type": "stream",
     "text": [
      "The 'count' trait of an Items instance must be None or 0 or 1 or 2 or 3 or 'many', but a value of 5 <type 'int'> was specified.\n"
     ]
    },
    {
     "data": {
      "text/plain": [
       "5"
      ]
     },
     "execution_count": 7,
     "metadata": {},
     "output_type": "execute_result"
    }
   ],
   "source": [
    "item = Items()\n",
    "\n",
    "try:\n",
    "    item.count = 5    #由於候選值清單中沒有5，因此給予值失敗\n",
    "except TraitError as ex:\n",
    "    print ex\n",
    "    \n",
    "item.count_list.append(5)\n",
    "item.count = 5       #由於候選值清單中有5，因此給予值成功\n",
    "item.count"
   ]
  },
  {
   "cell_type": "markdown",
   "metadata": {},
   "source": [
    "### Property屬性"
   ]
  },
  {
   "cell_type": "code",
   "execution_count": 2,
   "metadata": {
    "collapsed": false,
    "group_control": {
     "group": 0
    }
   },
   "outputs": [],
   "source": [
    "from traits.api import HasTraits, Float, Property, cached_property\n",
    "\n",
    "class Rectangle(HasTraits):\n",
    "    width = Float(1.0) \n",
    "    height = Float(2.0)\n",
    "\n",
    "    #area是一個屬性，當width,height的值變化時，它對應的_get_area函數將被呼叫\n",
    "    area = Property(depends_on=['width', 'height'])  #❶\n",
    "\n",
    "    # 透過cached_property修飾器快取_get_area()的輸出\n",
    "    @cached_property     #❷\n",
    "    def _get_area(self): #❸\n",
    "        \"area的get函數，注意此函數名和對應的Proerty名的關系\"\n",
    "        print 'recalculating'\n",
    "        return self.width * self.height"
   ]
  },
  {
   "cell_type": "code",
   "execution_count": 3,
   "metadata": {
    "collapsed": false,
    "group_control": {
     "group": 0
    }
   },
   "outputs": [
    {
     "name": "stdout",
     "output_type": "stream",
     "text": [
      "recalculating\n",
      "2.0\n",
      "recalculating\n",
      "20.0\n",
      "20.0\n"
     ]
    }
   ],
   "source": [
    "r = Rectangle()\n",
    "print r.area  # 第一次取得area，需要進行運算\n",
    "r.width = 10\n",
    "print r.area # 修改width之後，取得area，需要進行計算\n",
    "print r.area # width和height都沒有發生變化，因此直接傳回快取值，沒有重新計算"
   ]
  },
  {
   "cell_type": "code",
   "execution_count": 6,
   "metadata": {
    "collapsed": false,
    "group_control": {
     "group": 0
    }
   },
   "outputs": [],
   "source": [
    "#%hide\n",
    "r.edit_traits()\n",
    "r.edit_traits();"
   ]
  },
  {
   "cell_type": "code",
   "execution_count": 5,
   "metadata": {
    "collapsed": false,
    "group_control": {
     "group": 0
    }
   },
   "outputs": [
    {
     "data": {
      "text/plain": [
       "[<traits.trait_notifiers.FastUITraitChangeNotifyWrapper at 0x8b9e3f0>,\n",
       " <traits.trait_notifiers.FastUITraitChangeNotifyWrapper at 0x8bd4e10>]"
      ]
     },
     "execution_count": 5,
     "metadata": {},
     "output_type": "execute_result"
    }
   ],
   "source": [
    "t = r.trait(\"area\") #獲得與area屬性對應的CTrait物件\n",
    "t._notifiers(True) # _notifiers方法傳回所有的知會物件，當aera屬性改變時，這裡物件將被知會"
   ]
  },
  {
   "cell_type": "markdown",
   "metadata": {},
   "source": [
    "### Trait屬性監聽"
   ]
  },
  {
   "cell_type": "code",
   "execution_count": 9,
   "metadata": {
    "collapsed": false,
    "group_control": {
     "group": 0
    }
   },
   "outputs": [
    {
     "name": "stdout",
     "output_type": "stream",
     "text": [
      "anytrait changed: <8b823f0>.age from 0 to 9\n",
      "<8b823f0>.age changed: form 0 to 9\n",
      "anytrait changed: HaiYue<8b823f0>.name from  to HaiYue\n",
      "anytrait changed: <8b823c0>.age from 0 to 2\n",
      "<8b823c0>.age changed: form 0 to 2\n",
      "anytrait changed: KaiWen<8b823c0>.name from  to KaiWen\n"
     ]
    }
   ],
   "source": [
    "from traits.api import HasTraits, Str, Int\n",
    "\n",
    "class Child ( HasTraits ):          \n",
    "    name = Str\n",
    "    age = Int \n",
    "    doing = Str\n",
    "\n",
    "    def __str__(self):\n",
    "        return \"%s<%x>\" % (self.name, id(self))\n",
    "\n",
    "    # 當age屬性的值被修改時，下面的函數將被執行\n",
    "    def _age_changed ( self, old, new ): #❶\n",
    "        print \"%s.age changed: form %s to %s\" % (self, old, new)\n",
    "\n",
    "    def _anytrait_changed(self, name, old, new): #❷\n",
    "        print \"anytrait changed: %s.%s from %s to %s\" % (self, name, old, new)\n",
    "\n",
    "def log_trait_changed(obj, name, old, new): #❸\n",
    "    print \"log: %s.%s changed from %s to %s\" % (obj, name, old, new)\n",
    "    \n",
    "h = Child(name = \"HaiYue\", age=9)\n",
    "k = Child(name = \"KaiWen\", age=2)\n",
    "h.on_trait_change(log_trait_changed, name=\"doing\") #❹"
   ]
  },
  {
   "cell_type": "code",
   "execution_count": 10,
   "metadata": {
    "collapsed": false,
    "group_control": {
     "group": 0
    }
   },
   "outputs": [
    {
     "name": "stdout",
     "output_type": "stream",
     "text": [
      "anytrait changed: HaiYue<8b823f0>.age from 9 to 10\n",
      "HaiYue<8b823f0>.age changed: form 9 to 10\n",
      "anytrait changed: HaiYue<8b823f0>.doing from  to sleeping\n",
      "log: HaiYue<8b823f0>.doing changed from  to sleeping\n",
      "anytrait changed: KaiWen<8b823c0>.doing from  to playing\n"
     ]
    }
   ],
   "source": [
    "h.age = 10\n",
    "h.doing = \"sleeping\"\n",
    "k.doing = \"playing\""
   ]
  },
  {
   "cell_type": "code",
   "execution_count": 11,
   "metadata": {
    "collapsed": false,
    "group_control": {
     "group": 0
    }
   },
   "outputs": [],
   "source": [
    "from traits.api import HasTraits, Str, Int, Instance, List, on_trait_change\n",
    "\n",
    "class HasName(HasTraits):\n",
    "    name = Str()\n",
    "    \n",
    "    def __str__(self):\n",
    "        return \"<%s %s>\" % (self.__class__.__name__, self.name)\n",
    "\n",
    "class Inner(HasName):\n",
    "    x = Int\n",
    "    y = Int\n",
    "\n",
    "class Demo(HasName):\n",
    "    x = Int\n",
    "    y = Int\n",
    "    z = Int(monitor=1) # 有元資料屬性monitor的Int\n",
    "    inner = Instance(Inner)\n",
    "    alist = List(Int)\n",
    "    test1 = Str()\n",
    "    test2 = Str()\n",
    "    \n",
    "    def _inner_default(self):\n",
    "        return Inner(name=\"inner1\")\n",
    "            \n",
    "    @on_trait_change(\"x,y,inner.[x,y],test+,+monitor,alist[]\")\n",
    "    def event(self, obj, name, old, new):\n",
    "        print obj, name, old, new"
   ]
  },
  {
   "cell_type": "code",
   "execution_count": 12,
   "metadata": {
    "collapsed": false,
    "group_control": {
     "group": 0
    }
   },
   "outputs": [
    {
     "name": "stdout",
     "output_type": "stream",
     "text": [
      "<Demo demo> x 0 10\n",
      "<Demo demo> y 0 20\n",
      "<Inner inner1> x 0 1\n",
      "<Inner inner1> y 0 2\n",
      "<Demo demo> inner <Inner inner1> <Inner inner2>\n",
      "<Demo demo> test1  ok\n",
      "<Demo demo> test2  hello\n",
      "<Demo demo> z 0 30\n",
      "<Demo demo> alist [] [3]\n",
      "<Demo demo> alist_items [] [4, 5]\n",
      "<Demo demo> alist_items [5] [10]\n"
     ]
    }
   ],
   "source": [
    "d = Demo(name=\"demo\")\n",
    "d.x = 10 # 與x比對\n",
    "d.y = 20 # 與y比對\n",
    "d.inner.x = 1 # 與inner.[x,y]比對\n",
    "d.inner.y = 2 # 與inner.[x,y]比對\n",
    "d.inner = Inner(name=\"inner2\") # 與inner.[x,y]比對\n",
    "d.test1 = \"ok\" #與 test+比對\n",
    "d.test2 = \"hello\" #與test+比對\n",
    "d.z = 30  # 與+monitor比對\n",
    "d.alist = [3] # 與alist[]比對\n",
    "d.alist.extend([4,5]) #與alist[]比對\n",
    "d.alist[2] = 10 # 與alist[]比對"
   ]
  },
  {
   "cell_type": "markdown",
   "metadata": {},
   "source": [
    "### Event和Button屬性"
   ]
  },
  {
   "cell_type": "code",
   "execution_count": 13,
   "metadata": {
    "collapsed": false,
    "group_control": {
     "group": 0
    }
   },
   "outputs": [],
   "source": [
    "from traits.api import HasTraits, Float, Event, on_trait_change\n",
    "\n",
    "class Point(HasTraits):       #❶\n",
    "    x = Float(0.0)\n",
    "    y = Float(0.0)\n",
    "    updated = Event\n",
    "            \n",
    "    @on_trait_change( \"x,y\" )\n",
    "    def pos_changed(self):    #❷\n",
    "        self.updated = True\n",
    "\n",
    "    def _updated_fired(self): #❸\n",
    "        self.redraw()\n",
    "    \n",
    "    def redraw(self):         #❹\n",
    "        print \"redraw at %s, %s\" % (self.x, self.y)"
   ]
  },
  {
   "cell_type": "code",
   "execution_count": 14,
   "metadata": {
    "collapsed": false,
    "group_control": {
     "group": 0
    }
   },
   "outputs": [
    {
     "name": "stdout",
     "output_type": "stream",
     "text": [
      "redraw at 1.0, 0.0\n",
      "redraw at 1.0, 1.0\n",
      "redraw at 1.0, 1.0\n",
      "redraw at 1.0, 1.0\n"
     ]
    }
   ],
   "source": [
    "p = Point()\n",
    "p.x = 1\n",
    "p.y = 1\n",
    "p.x = 1 # 由於x的值已經為1，因此不觸發事件\n",
    "p.updated = True\n",
    "p.updated = 0 # 給updated賦任何值都能觸發"
   ]
  },
  {
   "cell_type": "markdown",
   "metadata": {},
   "source": [
    "### 動態加入Trait屬性"
   ]
  },
  {
   "cell_type": "code",
   "execution_count": 32,
   "metadata": {
    "collapsed": false,
    "group_control": {
     "group": 0
    }
   },
   "outputs": [
    {
     "data": {
      "text/plain": [
       "3.0"
      ]
     },
     "execution_count": 32,
     "metadata": {},
     "output_type": "execute_result"
    }
   ],
   "source": [
    "a = HasTraits()  \n",
    "a.add_trait(\"x\", Float(3.0))\n",
    "a.x"
   ]
  },
  {
   "cell_type": "code",
   "execution_count": 33,
   "metadata": {
    "collapsed": false,
    "group_control": {
     "group": 0
    }
   },
   "outputs": [],
   "source": [
    "b = HasTraits()\n",
    "b.add_trait(\"a\", Instance(HasTraits))\n",
    "b.a = a"
   ]
  },
  {
   "cell_type": "code",
   "execution_count": 35,
   "metadata": {
    "collapsed": false,
    "group_control": {
     "group": 0
    }
   },
   "outputs": [
    {
     "name": "stdout",
     "output_type": "stream",
     "text": [
      "3.0\n",
      "10.0\n"
     ]
    }
   ],
   "source": [
    "from traits.api import Delegate\n",
    "b.add_trait(\"y\", Delegate(\"a\", \"x\", modify=True))    \n",
    "print b.y\n",
    "b.y = 10    \n",
    "print a.x"
   ]
  },
  {
   "cell_type": "code",
   "execution_count": 36,
   "metadata": {
    "collapsed": false,
    "group_control": {
     "group": 0
    }
   },
   "outputs": [
    {
     "data": {
      "text/plain": [
       "{'trait_added': <traits.traits.CTrait at 0x3927c90>,\n",
       " 'trait_modified': <traits.traits.CTrait at 0x3927c38>,\n",
       " 'x': <traits.traits.CTrait at 0x3927f50>,\n",
       " 'y': <traits.traits.CTrait at 0x3927f50>}"
      ]
     },
     "execution_count": 36,
     "metadata": {},
     "output_type": "execute_result"
    }
   ],
   "source": [
    "class A(HasTraits):\n",
    "    pass\n",
    "\n",
    "a = A()\n",
    "a.x = 3\n",
    "a.y = \"string\"\n",
    "a.traits()"
   ]
  },
  {
   "cell_type": "code",
   "execution_count": 38,
   "metadata": {
    "collapsed": false,
    "group_control": {
     "group": 0
    }
   },
   "outputs": [
    {
     "data": {
      "text/plain": [
       "<traits.trait_types.Python at 0x39399b0>"
      ]
     },
     "execution_count": 38,
     "metadata": {},
     "output_type": "execute_result"
    }
   ],
   "source": [
    " a.trait(\"x\").trait_type"
   ]
  }
 ],
 "metadata": {
  "kernelspec": {
   "display_name": "Python 2",
   "language": "python",
   "name": "python2"
  },
  "language_info": {
   "codemirror_mode": {
    "name": "ipython",
    "version": 2
   },
   "file_extension": ".py",
   "mimetype": "text/x-python",
   "name": "python",
   "nbconvert_exporter": "python",
   "pygments_lexer": "ipython2",
   "version": "2.7.9"
  }
 },
 "nbformat": 4,
 "nbformat_minor": 0
}
