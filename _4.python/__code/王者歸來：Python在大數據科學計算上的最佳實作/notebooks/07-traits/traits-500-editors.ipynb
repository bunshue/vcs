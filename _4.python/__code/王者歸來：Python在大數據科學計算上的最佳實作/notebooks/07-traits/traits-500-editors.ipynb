﻿{
 "cells": [
  {
   "cell_type": "code",
   "execution_count": 3,
   "metadata": {
    "collapsed": true,
    "group_control": {
     "group": 0
    }
   },
   "outputs": [],
   "source": [
    "%gui qt\n",
    "from traits.api import *\n",
    "from traitsui.api import *"
   ]
  },
  {
   "cell_type": "markdown",
   "metadata": {},
   "source": [
    "## 屬性編輯器"
   ]
  },
  {
   "cell_type": "markdown",
   "metadata": {},
   "source": [
    "> **SOURCE**\n",
    "\n",
    "> `traitsuidemo.demo`：TraitsUI官方提供的示範程式"
   ]
  },
  {
   "cell_type": "code",
   "execution_count": 4,
   "metadata": {
    "collapsed": false,
    "group_control": {
     "group": 0
    }
   },
   "outputs": [],
   "source": [
    "#%hide\n",
    "%exec_python -m traitsuidemo.demo"
   ]
  },
  {
   "cell_type": "markdown",
   "metadata": {},
   "source": [
    "### 編輯器示範程式"
   ]
  },
  {
   "cell_type": "markdown",
   "metadata": {},
   "source": [
    "> **SOURCE**\n",
    "\n",
    "> `scpy2.traits.traitsui_editors`：示範TraitsUI提供的各種編輯器的用法。"
   ]
  },
  {
   "cell_type": "code",
   "execution_count": 19,
   "metadata": {
    "collapsed": true,
    "group_control": {
     "group": 0
    }
   },
   "outputs": [],
   "source": [
    "#%hide\n",
    "%exec_python -m scpy2.traits.traitsui_editors"
   ]
  },
  {
   "cell_type": "code",
   "execution_count": 16,
   "metadata": {
    "collapsed": false,
    "group_control": {
     "group": 0
    }
   },
   "outputs": [],
   "source": [
    "%%include python traits/traitsui_editors.py 1\n",
    "class EditorDemoItem(HasTraits):\n",
    "    code = Code()\n",
    "    view = View(\n",
    "        Group(\n",
    "            Item(\"item\", style=\"simple\", label=\"simple\", width=-300), #❶\n",
    "            \"_\",  #❷\n",
    "            Item(\"item\", style=\"custom\", label=\"custom\"),\n",
    "            \"_\",\n",
    "            Item(\"item\", style=\"text\", label=\"text\"),\n",
    "            \"_\",\n",
    "            Item(\"item\", style=\"readonly\", label=\"readonly\"),\n",
    "        ),\n",
    "    )"
   ]
  },
  {
   "cell_type": "code",
   "execution_count": 17,
   "metadata": {
    "collapsed": false,
    "group_control": {
     "group": 0
    }
   },
   "outputs": [],
   "source": [
    "%%include python traits/traitsui_editors.py 2\n",
    "class EditorDemo(HasTraits):\n",
    "    codes = List(Str)\n",
    "    selected_item = Instance(EditorDemoItem)  \n",
    "    selected_code = Str \n",
    "    view = View(\n",
    "        HSplit(\n",
    "            Item(\"codes\", style=\"custom\", show_label=False,  #❶\n",
    "                editor=ListStrEditor(editable=False, selected=\"selected_code\")), \n",
    "            Item(\"selected_item\", style=\"custom\", show_label=False),\n",
    "        ),\n",
    "        resizable=True,\n",
    "        width = 800,\n",
    "        height = 400,\n",
    "        title=u\"各種編輯器示範\"\n",
    "    )\n",
    "\n",
    "    def _selected_code_changed(self):\n",
    "        item = EditorDemoItem(code=self.selected_code)\n",
    "        item.add_trait(\"item\", eval(self.selected_code)) #❷\n",
    "        self.selected_item = item"
   ]
  },
  {
   "cell_type": "code",
   "execution_count": 18,
   "metadata": {
    "collapsed": false,
    "group_control": {
     "group": 0
    }
   },
   "outputs": [],
   "source": [
    "%%include python traits/traitsui_editors.py 3\n",
    "employee = Employee()\n",
    "demo_list = [u\"低通\", u\"高通\", u\"帶通\", u\"帶阻\"]\n",
    "\n",
    "trait_defines =\"\"\"\n",
    "    Array(dtype=\"int32\", shape=(3,3)) #{1}\n",
    "    Bool(True)\n",
    "    Button(\"Click me\")\n",
    "    List(editor=CheckListEditor(values=demo_list))\n",
    "    Code(\"print 'hello world'\")\n",
    "    Color(\"red\")\n",
    "    RGBColor(\"red\")\n",
    "    Trait(*demo_list)\n",
    "    Directory(os.getcwd())\n",
    "    Enum(*demo_list)\n",
    "    File()\n",
    "    Font()\n",
    "    HTML('<b><font color=\"red\" size=\"40\">hello world</font></b>')\n",
    "    List(Str, demo_list)\n",
    "    Range(1, 10, 5)\n",
    "    List(editor=SetEditor(values=demo_list))\n",
    "    List(demo_list, editor=ListStrEditor())\n",
    "    Str(\"hello\")\n",
    "    Password(\"hello\")\n",
    "    Str(\"Hello\", editor=TitleEditor())\n",
    "    Tuple(Color(\"red\"), Range(1,4), Str(\"hello\"))\n",
    "    Instance(EditorDemoItem, employee)    \n",
    "    Instance(EditorDemoItem, employee, editor=ValueEditor())\n",
    "    Instance(time, time(), editor=TimeEditor())\n",
    "\"\"\"\n",
    "demo = EditorDemo()\n",
    "demo.codes = [s.split(\"#\")[0].strip() for s in trait_defines.split(\"\\n\") if s.strip()!=\"\"]\n",
    "demo.configure_traits()"
   ]
  },
  {
   "cell_type": "markdown",
   "metadata": {},
   "source": [
    "### 物件編輯器"
   ]
  },
  {
   "cell_type": "markdown",
   "metadata": {},
   "source": [
    "> **SOURCE**\n",
    "\n",
    "> `scpy2.traits.traitsui_component`：TraitsUI的元件示範程式。"
   ]
  },
  {
   "cell_type": "code",
   "execution_count": 21,
   "metadata": {
    "collapsed": true,
    "group_control": {
     "group": 0
    }
   },
   "outputs": [],
   "source": [
    "#%hide\n",
    "%exec_python -m scpy2.traits.traitsui_component"
   ]
  },
  {
   "cell_type": "code",
   "execution_count": 2,
   "metadata": {
    "collapsed": false,
    "group_control": {
     "group": 0
    }
   },
   "outputs": [],
   "source": [
    "%%include python traits/traitsui_component.py 1 -r\n",
    "class Point(HasTraits):\n",
    "    x = Int\n",
    "    y = Int\n",
    "    view = View(HGroup(Item(\"x\"), Item(\"y\")))"
   ]
  },
  {
   "cell_type": "code",
   "execution_count": 7,
   "metadata": {
    "collapsed": false,
    "group_control": {
     "group": 0
    }
   },
   "outputs": [],
   "source": [
    "%%include python traits/traitsui_component.py 2 -r\n",
    "class Shape(HasTraits):\n",
    "    info = Str #❶\n",
    "    \n",
    "    def __init__(self, **traits):\n",
    "        super(Shape, self).__init__(**traits)\n",
    "        self.set_info() #❷\n",
    "\n",
    "\n",
    "class Triangle(Shape):\n",
    "    a = Instance(Point, ()) #❸\n",
    "    b = Instance(Point, ())\n",
    "    c = Instance(Point, ())\n",
    "    \n",
    "    view = View(\n",
    "        VGroup(\n",
    "            Item(\"a\", style=\"custom\"), #❹\n",
    "            Item(\"b\", style=\"custom\"),\n",
    "            Item(\"c\", style=\"custom\"),\n",
    "        )\n",
    "    )\n",
    "    \n",
    "    @on_trait_change(\"a.[x,y],b.[x,y],c.[x,y]\")\n",
    "    def set_info(self):\n",
    "        a,b,c = self.a, self.b, self.c\n",
    "        l1 = ((a.x-b.x)**2+(a.y-b.y)**2)**0.5\n",
    "        l2 = ((c.x-b.x)**2+(c.y-b.y)**2)**0.5\n",
    "        l3 = ((a.x-c.x)**2+(a.y-c.y)**2)**0.5\n",
    "        self.info = \"edge length: %f, %f, %f\" % (l1,l2,l3)\n",
    "    \n",
    "class Circle(Shape):\n",
    "    center = Instance(Point, ())\n",
    "    r = Int\n",
    "    \n",
    "    view = View(\n",
    "        VGroup(\n",
    "            Item(\"center\", style=\"custom\"), \n",
    "            Item(\"r\"),\n",
    "        )\n",
    "    )\n",
    "    \n",
    "    @on_trait_change(\"r\")\n",
    "    def set_info(self):\n",
    "        from math import pi\n",
    "        self.info = \"area:%f\" % (pi*self.r**2)"
   ]
  },
  {
   "cell_type": "code",
   "execution_count": 8,
   "metadata": {
    "collapsed": false,
    "group_control": {
     "group": 0
    }
   },
   "outputs": [],
   "source": [
    "Triangle().configure_traits()\n",
    "Circle().configure_traits();"
   ]
  },
  {
   "cell_type": "code",
   "execution_count": 10,
   "metadata": {
    "collapsed": false,
    "group_control": {
     "group": 0
    }
   },
   "outputs": [],
   "source": [
    "%%include python traits/traitsui_component.py 3 -r\n",
    "class ShapeSelector(HasTraits):\n",
    "    select = Enum(*[cls.__name__ for cls in Shape.__subclasses__()]) #❶\n",
    "    shape = Instance(Shape) #❷\n",
    "    \n",
    "    view = View(\n",
    "        VGroup(\n",
    "            Item(\"select\"),\n",
    "            Item(\"shape\", style=\"custom\"), #❸\n",
    "            Item(\"object.shape.info\", style=\"custom\"), #❹\n",
    "            show_labels = False\n",
    "        ),\n",
    "        width = 350, height = 300, resizable = True\n",
    "    )\n",
    "    \n",
    "    def __init__(self, **traits):\n",
    "        super(ShapeSelector, self).__init__(**traits)\n",
    "        self._select_changed()\n",
    "    \n",
    "    def _select_changed(self):    #❺\n",
    "        klass =  [c for c in Shape.__subclasses__() if c.__name__ == self.select][0]\n",
    "        self.shape = klass()"
   ]
  },
  {
   "cell_type": "markdown",
   "metadata": {},
   "source": [
    "> **SOURCE**\n",
    "\n",
    "> `scpy2.traits.traitsui_component_multi_view`：使用多個檢視顯示元件。"
   ]
  },
  {
   "cell_type": "code",
   "execution_count": 12,
   "metadata": {
    "collapsed": true,
    "group_control": {
     "group": 0
    }
   },
   "outputs": [],
   "source": [
    "#%hide\n",
    "%exec_python -m scpy2.traits.traitsui_component_multi_view "
   ]
  },
  {
   "cell_type": "code",
   "execution_count": 14,
   "metadata": {
    "collapsed": false,
    "group_control": {
     "group": 0
    }
   },
   "outputs": [],
   "source": [
    "%%include python traits/traitsui_component_multi_view.py 1\n",
    "class Shape(HasTraits):\n",
    "    info = Str\n",
    "    view_info = View(Item(\"info\", style=\"custom\", show_label=False))\n",
    "\n",
    "    def __init__(self, **traits):\n",
    "        super(Shape, self).__init__(**traits)\n",
    "        self.set_info()"
   ]
  },
  {
   "cell_type": "code",
   "execution_count": 16,
   "metadata": {
    "collapsed": false,
    "group_control": {
     "group": 0
    }
   },
   "outputs": [],
   "source": [
    "%%include python traits/traitsui_component_multi_view.py 2\n",
    "    view = View(\n",
    "        VGroup(\n",
    "            Item(\"select\", show_label=False),\n",
    "            VSplit( #❶\n",
    "                Item(\"shape\", style=\"custom\", editor=InstanceEditor(view=\"view\")), #❷\n",
    "                Item(\"shape\", style=\"custom\", editor=InstanceEditor(view=\"view_info\")), \n",
    "                show_labels = False\n",
    "            )\n",
    "\n",
    "        ),\n",
    "        width = 350, height = 300, resizable = True\n",
    "    )"
   ]
  },
  {
   "cell_type": "markdown",
   "metadata": {},
   "source": [
    "###自訂編輯器 "
   ]
  },
  {
   "cell_type": "code",
   "execution_count": 18,
   "metadata": {
    "collapsed": false,
    "group_control": {
     "group": 0
    }
   },
   "outputs": [],
   "source": [
    "%%include python traits/mpl_figure_editor.py 1\n",
    "import matplotlib\n",
    "from traits.api import Bool\n",
    "from traitsui.api import toolkit\n",
    "from traitsui.basic_editor_factory import BasicEditorFactory\n",
    "from traits.etsconfig.api import ETSConfig\n",
    "\n",
    "if ETSConfig.toolkit == \"wx\":\n",
    "    # matplotlib采用WXAgg為背景，這樣才能將繪圖控制項內嵌以wx為背景界面庫的traitsUI視窗中\n",
    "    import wx\n",
    "    matplotlib.use(\"WXAgg\")\n",
    "    from matplotlib.backends.backend_wxagg import FigureCanvasWxAgg as FigureCanvas\n",
    "    from matplotlib.backends.backend_wx import NavigationToolbar2Wx as Toolbar\n",
    "    from traitsui.wx.editor import Editor\n",
    "    \n",
    "elif ETSConfig.toolkit == \"qt4\":\n",
    "    matplotlib.use(\"Qt4Agg\")\n",
    "    from matplotlib.backends.backend_qt4agg import FigureCanvasQTAgg as FigureCanvas\n",
    "    from matplotlib.backends.backend_qt4agg import NavigationToolbar2QT as Toolbar\n",
    "    from traitsui.qt4.editor import Editor\n",
    "    from pyface.qt import QtGui"
   ]
  },
  {
   "cell_type": "code",
   "execution_count": 23,
   "metadata": {
    "collapsed": false,
    "group_control": {
     "group": 0
    }
   },
   "outputs": [],
   "source": [
    "%%include python traits/mpl_figure_editor.py 3\n",
    "class _QtFigureEditor(Editor):\n",
    "    scrollable = True\n",
    "\n",
    "    def init(self, parent): #❶\n",
    "        self.control = self._create_canvas(parent)\n",
    "        self.set_tooltip()\n",
    "\n",
    "    def update_editor(self):\n",
    "        pass\n",
    "\n",
    "    def _create_canvas(self, parent):\n",
    "        \n",
    "        panel = QtGui.QWidget()\n",
    "        \n",
    "        def mousemoved(event):           \n",
    "            if event.xdata is not None:\n",
    "                x, y = event.xdata, event.ydata\n",
    "                name = \"Axes\"\n",
    "            else:\n",
    "                x, y = event.x, event.y\n",
    "                name = \"Figure\"\n",
    "                \n",
    "            panel.info.setText(\"%s: %g, %g\" % (name, x, y))\n",
    "            \n",
    "        panel.mousemoved = mousemoved\n",
    "        vbox = QtGui.QVBoxLayout()\n",
    "        panel.setLayout(vbox)\n",
    "        \n",
    "        mpl_control = FigureCanvas(self.value) #❷\n",
    "        vbox.addWidget(mpl_control)\n",
    "        if hasattr(self.value, \"canvas_events\"):\n",
    "            for event_name, callback in self.value.canvas_events:\n",
    "                mpl_control.mpl_connect(event_name, callback)\n",
    "\n",
    "        mpl_control.mpl_connect(\"motion_notify_event\", mousemoved)  \n",
    "\n",
    "        if self.factory.toolbar: #❸\n",
    "            toolbar = Toolbar(mpl_control, panel)\n",
    "            vbox.addWidget(toolbar)       \n",
    "\n",
    "        panel.info = QtGui.QLabel(panel)\n",
    "        vbox.addWidget(panel.info)\n",
    "        return panel"
   ]
  },
  {
   "cell_type": "code",
   "execution_count": 24,
   "metadata": {
    "collapsed": false,
    "group_control": {
     "group": 0
    }
   },
   "outputs": [],
   "source": [
    "%%include python traits/mpl_figure_editor.py 4\n",
    "class MPLFigureEditor(BasicEditorFactory):\n",
    "    \"\"\"\n",
    "    相當於traits.ui中的EditorFactory，它傳回真正建立控制項的類別\n",
    "    \"\"\"    \n",
    "    if ETSConfig.toolkit == \"wx\":\n",
    "        klass = _WxFigureEditor\n",
    "    elif ETSConfig.toolkit == \"qt4\":\n",
    "        klass = _QtFigureEditor  #❶\n",
    "        \n",
    "    toolbar = Bool(True)  #❷"
   ]
  },
  {
   "cell_type": "code",
   "execution_count": 33,
   "metadata": {
    "collapsed": false,
    "group_control": {
     "group": 0
    }
   },
   "outputs": [],
   "source": [
    "import numpy as np\n",
    "from matplotlib.figure import Figure\n",
    "from scpy2.traits import MPLFigureEditor\n",
    "\n",
    "\n",
    "class SinWave(HasTraits):\n",
    "    figure = Instance(Figure, ())\n",
    "    view = View(\n",
    "        Item(\"figure\", editor=MPLFigureEditor(toolbar=True), show_label=False),\n",
    "        width = 400,\n",
    "        height = 300,\n",
    "        resizable = True)\n",
    "\n",
    "    def __init__(self, **kw):\n",
    "        super(SinWave, self).__init__(**kw)\n",
    "        self.figure.canvas_events = [\n",
    "            (\"button_press_event\", self.figure_button_pressed)\n",
    "        ]\n",
    "        axes = self.figure.add_subplot(111)\n",
    "        t = np.linspace(0, 2*np.pi, 200)\n",
    "        axes.plot(np.sin(t))\n",
    "\n",
    "    def figure_button_pressed(self, event):\n",
    "        print event.xdata, event.ydata\n",
    "        \n",
    "model = SinWave()\n",
    "model.edit_traits();"
   ]
  }
 ],
 "metadata": {
  "kernelspec": {
   "display_name": "Python 2",
   "language": "python",
   "name": "python2"
  },
  "language_info": {
   "codemirror_mode": {
    "name": "ipython",
    "version": 2
   },
   "file_extension": ".py",
   "mimetype": "text/x-python",
   "name": "python",
   "nbconvert_exporter": "python",
   "pygments_lexer": "ipython2",
   "version": "2.7.9"
  }
 },
 "nbformat": 4,
 "nbformat_minor": 0
}
