﻿{
 "cells": [
  {
   "cell_type": "code",
   "execution_count": 1,
   "metadata": {
    "collapsed": true
   },
   "outputs": [],
   "source": [
    "import pandas as pd\n",
    "import numpy as np"
   ]
  },
  {
   "cell_type": "markdown",
   "metadata": {},
   "source": [
    "### 字串處理"
   ]
  },
  {
   "cell_type": "code",
   "execution_count": 2,
   "metadata": {
    "collapsed": false
   },
   "outputs": [
    {
     "name": "stdout",
     "output_type": "stream",
     "text": [
      "0    A\n",
      "1    B\n",
      "2    C\n",
      "dtype: object\n"
     ]
    }
   ],
   "source": [
    "s_abc = pd.Series([\"a\", \"b\", \"c\"])\n",
    "print s_abc.str.upper()"
   ]
  },
  {
   "cell_type": "code",
   "execution_count": 3,
   "metadata": {
    "collapsed": false
   },
   "outputs": [
    {
     "name": "stdout",
     "output_type": "stream",
     "text": [
      "s_utf8.str.len()  s_unicode.str.len()  s_gb2312.str.len()\n",
      "----------------  -------------------  ------------------\n",
      "0     6           0    2               0    4            \n",
      "1     9           1    3               1    6            \n",
      "2    12           2    4               2    8            \n",
      "dtype: int64      dtype: int64         dtype: int64      \n"
     ]
    }
   ],
   "source": [
    "s_utf8 = pd.Series([b\"北京\", b\"北京市\", b\"北京地區\"])\n",
    "s_unicode = s_utf8.str.decode(\"utf-8\")\n",
    "s_gb2312 = s_unicode.str.encode(\"gb2312\")\n",
    "\n",
    "%C s_utf8.str.len(); s_unicode.str.len(); s_gb2312.str.len()"
   ]
  },
  {
   "cell_type": "code",
   "execution_count": 4,
   "metadata": {
    "collapsed": false
   },
   "outputs": [
    {
     "name": "stdout",
     "output_type": "stream",
     "text": [
      "0    北京\n",
      "1    北京\n",
      "2    北京\n",
      "dtype: object\n"
     ]
    }
   ],
   "source": [
    "print s_unicode.str[:2]"
   ]
  },
  {
   "cell_type": "code",
   "execution_count": 5,
   "metadata": {
    "collapsed": false
   },
   "outputs": [
    {
     "name": "stdout",
     "output_type": "stream",
     "text": [
      "0      北京-aa\n",
      "1     北京市-bb\n",
      "2    北京地區-cc\n",
      "dtype: object\n"
     ]
    }
   ],
   "source": [
    "print s_unicode + u\"-\" + s_abc * 2"
   ]
  },
  {
   "cell_type": "code",
   "execution_count": 6,
   "metadata": {
    "collapsed": false
   },
   "outputs": [
    {
     "name": "stdout",
     "output_type": "stream",
     "text": [
      "0      北京-a\n",
      "1     北京市-b\n",
      "2    北京地區-c\n",
      "dtype: object\n"
     ]
    }
   ],
   "source": [
    "print s_unicode.str.cat(s_abc, sep=\"-\")"
   ]
  },
  {
   "cell_type": "code",
   "execution_count": 7,
   "metadata": {
    "collapsed": false
   },
   "outputs": [
    {
     "name": "stdout",
     "output_type": "stream",
     "text": [
      "0    2\n",
      "1    3\n",
      "2    4\n",
      "dtype: object\n"
     ]
    }
   ],
   "source": [
    "print s_unicode.str.len().astype(unicode)"
   ]
  },
  {
   "cell_type": "code",
   "execution_count": 8,
   "metadata": {
    "collapsed": false
   },
   "outputs": [
    {
     "name": "stdout",
     "output_type": "stream",
     "text": [
      "      s              s_list          s_comma   \n",
      "-------------  -----------------  -------------\n",
      "0     a|bc|de  0     [a, bc, de]  0     a,bc,de\n",
      "1    x|xyz|yz  1    [x, xyz, yz]  1    x,xyz,yz\n",
      "dtype: object  dtype: object      dtype: object\n"
     ]
    }
   ],
   "source": [
    "s = pd.Series([\"a|bc|de\", \"x|xyz|yz\"])\n",
    "s_list = s.str.split(\"|\")\n",
    "s_comma = s_list.str.join(\",\")\n",
    "%C s; s_list; s_comma"
   ]
  },
  {
   "cell_type": "code",
   "execution_count": 9,
   "metadata": {
    "collapsed": false
   },
   "outputs": [
    {
     "data": {
      "text/plain": [
       "0     bc\n",
       "1    xyz\n",
       "dtype: object"
      ]
     },
     "execution_count": 9,
     "metadata": {},
     "output_type": "execute_result"
    }
   ],
   "source": [
    "s_list.str[1]"
   ]
  },
  {
   "cell_type": "code",
   "execution_count": 10,
   "metadata": {
    "collapsed": false
   },
   "outputs": [
    {
     "name": "stdout",
     "output_type": "stream",
     "text": [
      "   A    B   C\n",
      "0  a   bc  de\n",
      "1  x  xyz  yz\n"
     ]
    }
   ],
   "source": [
    "print pd.DataFrame(s_list.tolist(), columns=[\"A\", \"B\", \"C\"])"
   ]
  },
  {
   "cell_type": "code",
   "execution_count": 11,
   "metadata": {
    "collapsed": false
   },
   "outputs": [
    {
     "name": "stdout",
     "output_type": "stream",
     "text": [
      " df_extract1   df_extract2\n",
      "-------------  -----------\n",
      "   0    1   2     A    B  \n",
      "0  a   bc  de  0  a   bc  \n",
      "1  x  xyz  yz  1  x  xyz  \n"
     ]
    }
   ],
   "source": [
    "df_extract1 = s.str.extract(r\"(\\w+)\\|(\\w+)\\|(\\w+)\")\n",
    "df_extract2 = s.str.extract(r\"(?P<A>\\w+)\\|(?P<B>\\w+)|\")\n",
    "%C df_extract1; df_extract2"
   ]
  },
  {
   "cell_type": "code",
   "execution_count": 12,
   "metadata": {
    "collapsed": false
   },
   "outputs": [
    {
     "name": "stdout",
     "output_type": "stream",
     "text": [
      "   0      1\n",
      "0  A  B|C|D\n",
      "1  B    E|F\n",
      "2  C      A\n",
      "3  D    B|C\n"
     ]
    }
   ],
   "source": [
    "import io\n",
    "text = \"\"\"A, B|C|D\n",
    "B, E|F\n",
    "C, A\n",
    "D, B|C\n",
    "\"\"\"\n",
    "\n",
    "df = pd.read_csv(io.BytesIO(text), skipinitialspace=True, header=None)\n",
    "print df"
   ]
  },
  {
   "cell_type": "code",
   "execution_count": 13,
   "metadata": {
    "collapsed": false
   },
   "outputs": [
    {
     "name": "stdout",
     "output_type": "stream",
     "text": [
      "  from_node to_node\n",
      "0         A       B\n",
      "1         A       C\n",
      "2         A       D\n",
      "3         B       E\n",
      "4         B       F\n",
      "5         C       A\n",
      "6         D       B\n",
      "7         D       C\n"
     ]
    }
   ],
   "source": [
    "nodes = df[1].str.split(\"|\") #❶\n",
    "from_node = df[0].values.repeat(nodes.str.len().astype(np.int32)) #❷\n",
    "to_node = np.concatenate(nodes) #❸\n",
    "\n",
    "print pd.DataFrame({\"from_node\":from_node, \"to_node\":to_node})"
   ]
  },
  {
   "cell_type": "code",
   "execution_count": 18,
   "metadata": {
    "collapsed": false
   },
   "outputs": [
    {
     "name": "stdout",
     "output_type": "stream",
     "text": [
      "   A  B  C  D  E  F\n",
      "0  0  1  1  1  0  0\n",
      "1  0  0  0  0  1  1\n",
      "2  1  0  0  0  0  0\n",
      "3  0  1  1  0  0  0\n"
     ]
    }
   ],
   "source": [
    "print df[1].str.get_dummies(sep=\"|\")"
   ]
  },
  {
   "cell_type": "code",
   "execution_count": 19,
   "metadata": {
    "collapsed": false
   },
   "outputs": [
    {
     "data": {
      "text/plain": [
       "0    D\n",
       "1    F\n",
       "2    A\n",
       "3    C\n",
       "Name: 1, dtype: object"
      ]
     },
     "execution_count": 19,
     "metadata": {},
     "output_type": "execute_result"
    }
   ],
   "source": [
    "df[1].map(lambda s:max(s.split(\"|\")))"
   ]
  },
  {
   "cell_type": "code",
   "execution_count": 20,
   "metadata": {
    "collapsed": false
   },
   "outputs": [
    {
     "name": "stdout",
     "output_type": "stream",
     "text": [
      "Contour     object\n",
      "Depth       object\n",
      "Gp          object\n",
      "pH         float64\n",
      "dtype: object\n"
     ]
    }
   ],
   "source": [
    "df_soil = pd.read_csv(\"Soils.csv\", usecols=[2, 3, 4, 6])\n",
    "print df_soil.dtypes"
   ]
  },
  {
   "cell_type": "code",
   "execution_count": 21,
   "metadata": {
    "collapsed": false
   },
   "outputs": [
    {
     "name": "stdout",
     "output_type": "stream",
     "text": [
      "Contour    category\n",
      "Depth      category\n",
      "Gp         category\n",
      "pH          float64\n",
      "dtype: object\n"
     ]
    }
   ],
   "source": [
    "for col in [\"Contour\", \"Depth\", \"Gp\"]:\n",
    "    df_soil[col] = df_soil[col].astype(\"category\")\n",
    "print df_soil.dtypes"
   ]
  },
  {
   "cell_type": "code",
   "execution_count": 22,
   "metadata": {
    "collapsed": false
   },
   "outputs": [
    {
     "name": "stdout",
     "output_type": "stream",
     "text": [
      "Index([u'D0', u'D1', u'D3', u'D6', u'S0', u'S1', u'S3', u'S6', u'T0', u'T1',\n",
      "       u'T3', u'T6'],\n",
      "      dtype='object')\n"
     ]
    }
   ],
   "source": [
    "Gp = df_soil.Gp\n",
    "print Gp.cat.categories"
   ]
  },
  {
   "cell_type": "code",
   "execution_count": 23,
   "metadata": {
    "collapsed": false
   },
   "outputs": [
    {
     "name": "stdout",
     "output_type": "stream",
     "text": [
      "                          Gp.head(5)                            Gp.cat.codes.head(5)\n",
      "--------------------------------------------------------------  --------------------\n",
      "0    T0                                                         0    8              \n",
      "1    T0                                                         1    8              \n",
      "2    T0                                                         2    8              \n",
      "3    T0                                                         3    8              \n",
      "4    T1                                                         4    9              \n",
      "Name: Gp, dtype: category                                       dtype: int8         \n",
      "Categories (12, object): [D0, D1, D3, D6, ..., T0, T1, T3, T6]                      \n"
     ]
    }
   ],
   "source": [
    "%C Gp.head(5); Gp.cat.codes.head(5)"
   ]
  },
  {
   "cell_type": "code",
   "execution_count": 26,
   "metadata": {
    "collapsed": false
   },
   "outputs": [
    {
     "name": "stdout",
     "output_type": "stream",
     "text": [
      "            depth.cat.as_ordered().head()             \n",
      "------------------------------------------------------\n",
      "0     0-10                                            \n",
      "1     0-10                                            \n",
      "2     0-10                                            \n",
      "3     0-10                                            \n",
      "4    10-30                                            \n",
      "dtype: category                                       \n",
      "Categories (4, object): [0-10 < 10-30 < 30-60 < 60-90]\n"
     ]
    }
   ],
   "source": [
    "depth = df_soil.Depth\n",
    "%C depth.cat.as_ordered().head()"
   ]
  },
  {
   "cell_type": "code",
   "execution_count": 28,
   "metadata": {
    "collapsed": false
   },
   "outputs": [
    {
     "name": "stdout",
     "output_type": "stream",
     "text": [
      "contour.cat.reorder_categories(categories, ordered=True).head()\n",
      "---------------------------------------------------------------\n",
      "0    Top                                                       \n",
      "1    Top                                                       \n",
      "2    Top                                                       \n",
      "3    Top                                                       \n",
      "4    Top                                                       \n",
      "dtype: category                                                \n",
      "Categories (3, object): [Top < Slope < Depression]             \n"
     ]
    }
   ],
   "source": [
    "contour = df_soil.Contour\n",
    "categories = [\"Top\", \"Slope\", \"Depression\"]\n",
    "%C contour.cat.reorder_categories(categories, ordered=True).head()"
   ]
  }
 ],
 "metadata": {
  "kernelspec": {
   "display_name": "Python 2",
   "language": "python",
   "name": "python2"
  },
  "language_info": {
   "codemirror_mode": {
    "name": "ipython",
    "version": 2
   },
   "file_extension": ".py",
   "mimetype": "text/x-python",
   "name": "python",
   "nbconvert_exporter": "python",
   "pygments_lexer": "ipython2",
   "version": "2.7.9"
  }
 },
 "nbformat": 4,
 "nbformat_minor": 0
}
