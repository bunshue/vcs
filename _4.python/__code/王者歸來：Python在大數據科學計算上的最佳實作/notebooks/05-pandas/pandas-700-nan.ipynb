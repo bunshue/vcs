﻿{
 "cells": [
  {
   "cell_type": "code",
   "execution_count": 3,
   "metadata": {
    "collapsed": true,
    "group_control": {
     "group": 0
    }
   },
   "outputs": [],
   "source": [
    "import numpy as np\n",
    "import pandas as pd"
   ]
  },
  {
   "cell_type": "markdown",
   "metadata": {},
   "source": [
    "### 與`NaN`關聯的函數"
   ]
  },
  {
   "cell_type": "code",
   "execution_count": 4,
   "metadata": {
    "collapsed": false
   },
   "outputs": [
    {
     "name": "stdout",
     "output_type": "stream",
     "text": [
      "df_int.dtypes  df_nan.dtypes\n",
      "-------------  -------------\n",
      "A    int32     A      int32 \n",
      "B    int32     B    float64 \n",
      "C    int32     C    float64 \n",
      "dtype: object  dtype: object\n",
      "\n",
      "   df_int          df_nan   \n",
      "-----------    -------------\n",
      "    A  B  C        A   B   C\n",
      "0  10  3  2    0  10   3 NaN\n",
      "1  10  1  3    1  10 NaN   3\n",
      "2  19  7  5    2  19   7   5\n",
      "3  18  3  3    3  18   3   3\n",
      "4  12  6  0    4  12   6 NaN\n",
      "5  14  6  9    5  14   6   9\n",
      "6  13  8  4    6  13   8   4\n",
      "7  17  6  1    7  17   6 NaN\n",
      "8  15  2  1    8  15 NaN NaN\n",
      "9  15  3  2    9  15   3 NaN\n"
     ]
    }
   ],
   "source": [
    "np.random.seed(41)\n",
    "df_int = pd.DataFrame(np.random.randint(0, 10, (10, 3)), columns=list(\"ABC\"))\n",
    "df_int[\"A\"] += 10\n",
    "df_nan = df_int.where(df_int > 2)\n",
    "#%hide\n",
    "%C df_int.dtypes; df_nan.dtypes\n",
    "print\n",
    "%C 4 df_int; df_nan"
   ]
  },
  {
   "cell_type": "code",
   "execution_count": 5,
   "metadata": {
    "collapsed": false
   },
   "outputs": [
    {
     "name": "stdout",
     "output_type": "stream",
     "text": [
      "   df_nan.isnull()           df_nan.notnull()  \n",
      "----------------------    ---------------------\n",
      "       A      B      C          A      B      C\n",
      "0  False  False   True    0  True   True  False\n",
      "1  False   True  False    1  True  False   True\n",
      "2  False  False  False    2  True   True   True\n",
      "3  False  False  False    3  True   True   True\n",
      "4  False  False   True    4  True   True  False\n",
      "5  False  False  False    5  True   True   True\n",
      "6  False  False  False    6  True   True   True\n",
      "7  False  False   True    7  True   True  False\n",
      "8  False   True   True    8  True  False  False\n",
      "9  False  False   True    9  True   True  False\n"
     ]
    }
   ],
   "source": [
    "%C 4 df_nan.isnull(); df_nan.notnull()"
   ]
  },
  {
   "cell_type": "code",
   "execution_count": 6,
   "metadata": {
    "collapsed": false
   },
   "outputs": [
    {
     "name": "stdout",
     "output_type": "stream",
     "text": [
      "df_nan.count()    df_nan.count(axis=1)\n",
      "--------------    --------------------\n",
      "A    10           0    2              \n",
      "B     8           1    2              \n",
      "C     5           2    3              \n",
      "dtype: int64      3    3              \n",
      "                  4    2              \n",
      "                  5    3              \n",
      "                  6    3              \n",
      "                  7    2              \n",
      "                  8    1              \n",
      "                  9    2              \n",
      "                  dtype: int64        \n"
     ]
    }
   ],
   "source": [
    "%C 4 df_nan.count(); df_nan.count(axis=1)"
   ]
  },
  {
   "cell_type": "code",
   "execution_count": 7,
   "metadata": {
    "collapsed": false
   },
   "outputs": [
    {
     "name": "stdout",
     "output_type": "stream",
     "text": [
      "df_nan.dropna()  df_nan.dropna(thresh=2)\n",
      "---------------  -----------------------\n",
      "    A  B  C          A   B   C          \n",
      "2  19  7  5      0  10   3 NaN          \n",
      "3  18  3  3      1  10 NaN   3          \n",
      "5  14  6  9      2  19   7   5          \n",
      "6  13  8  4      3  18   3   3          \n",
      "                 4  12   6 NaN          \n",
      "                 5  14   6   9          \n",
      "                 6  13   8   4          \n",
      "                 7  17   6 NaN          \n",
      "                 9  15   3 NaN          \n"
     ]
    }
   ],
   "source": [
    "%C df_nan.dropna(); df_nan.dropna(thresh=2)"
   ]
  },
  {
   "cell_type": "code",
   "execution_count": 8,
   "metadata": {
    "collapsed": false
   },
   "outputs": [
    {
     "name": "stdout",
     "output_type": "stream",
     "text": [
      "df_nan.ffill()  df_nan.bfill()  df_nan.interpolate()\n",
      "--------------  --------------  --------------------\n",
      "    A  B   C        A  B   C        A    B   C      \n",
      "0  10  3 NaN    0  10  3   3    0  10  3.0 NaN      \n",
      "1  10  3   3    1  10  7   3    1  10  5.0   3      \n",
      "2  19  7   5    2  19  7   5    2  19  7.0   5      \n",
      "3  18  3   3    3  18  3   3    3  18  3.0   3      \n",
      "4  12  6   3    4  12  6   9    4  12  6.0   6      \n",
      "5  14  6   9    5  14  6   9    5  14  6.0   9      \n",
      "6  13  8   4    6  13  8   4    6  13  8.0   4      \n",
      "7  17  6   4    7  17  6 NaN    7  17  6.0   4      \n",
      "8  15  6   4    8  15  3 NaN    8  15  4.5   4      \n",
      "9  15  3   4    9  15  3 NaN    9  15  3.0   4      \n"
     ]
    }
   ],
   "source": [
    "%C df_nan.ffill(); df_nan.bfill(); df_nan.interpolate()"
   ]
  },
  {
   "cell_type": "code",
   "execution_count": 9,
   "metadata": {
    "collapsed": false
   },
   "outputs": [
    {
     "name": "stdout",
     "output_type": "stream",
     "text": [
      "s.interpolate()  s.interpolate(method=\"index\")\n",
      "---------------  -----------------------------\n",
      "0    3           0    3.000000                \n",
      "8    5           8    6.555556                \n",
      "9    7           9    7.000000                \n",
      "dtype: float64   dtype: float64               \n"
     ]
    }
   ],
   "source": [
    "s = pd.Series([3, np.NaN, 7], index=[0, 8, 9])\n",
    "%C s.interpolate(); s.interpolate(method=\"index\")"
   ]
  },
  {
   "cell_type": "code",
   "execution_count": 10,
   "metadata": {
    "collapsed": false
   },
   "outputs": [
    {
     "name": "stdout",
     "output_type": "stream",
     "text": [
      "    A    B  C\n",
      "0  10    3  0\n",
      "1  10 -999  3\n",
      "2  19    7  5\n",
      "3  18    3  3\n",
      "4  12    6  0\n",
      "5  14    6  9\n",
      "6  13    8  4\n",
      "7  17    6  0\n",
      "8  15 -999  0\n",
      "9  15    3  0\n"
     ]
    }
   ],
   "source": [
    "print df_nan.fillna({\"B\":-999, \"C\":0})"
   ]
  },
  {
   "cell_type": "code",
   "execution_count": 11,
   "metadata": {
    "collapsed": false
   },
   "outputs": [
    {
     "name": "stdout",
     "output_type": "stream",
     "text": [
      " df_nan.sum()   df_nan.sum(skipna=False)  df_nan.dropna().sum()\n",
      "--------------  ------------------------  ---------------------\n",
      "A    143        A    143                  A    64              \n",
      "B     42        B    NaN                  B    24              \n",
      "C     24        C    NaN                  C    21              \n",
      "dtype: float64  dtype: float64            dtype: float64       \n"
     ]
    }
   ],
   "source": [
    "%C df_nan.sum(); df_nan.sum(skipna=False); df_nan.dropna().sum()"
   ]
  },
  {
   "cell_type": "code",
   "execution_count": 12,
   "metadata": {
    "collapsed": false
   },
   "outputs": [
    {
     "name": "stdout",
     "output_type": "stream",
     "text": [
      "    A  B   C\n",
      "0  10  3 NaN\n",
      "1  10  4   3\n",
      "2  19  7   5\n",
      "3  18  3   3\n",
      "4  12  6 NaN\n",
      "5  14  6   9\n",
      "6  13  8   4\n",
      "7  17  6 NaN\n",
      "8  15  4   5\n",
      "9  15  3   5\n"
     ]
    }
   ],
   "source": [
    "df_other = pd.DataFrame(np.random.randint(0, 10, (4, 2)), \n",
    "                        columns=[\"B\", \"C\"], \n",
    "                        index=[1, 2, 8, 9])\n",
    "print df_nan.combine_first(df_other)"
   ]
  }
 ],
 "metadata": {
  "kernelspec": {
   "display_name": "Python 2",
   "language": "python",
   "name": "python2"
  },
  "language_info": {
   "codemirror_mode": {
    "name": "ipython",
    "version": 2
   },
   "file_extension": ".py",
   "mimetype": "text/x-python",
   "name": "python",
   "nbconvert_exporter": "python",
   "pygments_lexer": "ipython2",
   "version": "2.7.9"
  }
 },
 "nbformat": 4,
 "nbformat_minor": 0
}
