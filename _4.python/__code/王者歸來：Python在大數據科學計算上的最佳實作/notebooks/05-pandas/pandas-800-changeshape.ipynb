﻿{
 "cells": [
  {
   "cell_type": "code",
   "execution_count": 2,
   "metadata": {
    "collapsed": true
   },
   "outputs": [],
   "source": [
    "import pandas as pd\n",
    "import numpy as np\n",
    "pd.set_option(\"display.show_dimensions\", False)\n",
    "pd.set_option(\"display.float_format\", \"{:4.2g}\".format)"
   ]
  },
  {
   "cell_type": "markdown",
   "metadata": {
    "group_control": {
     "group": 0
    }
   },
   "source": [
    "### 改變DataFrame的形狀"
   ]
  },
  {
   "cell_type": "code",
   "execution_count": 3,
   "metadata": {
    "collapsed": false
   },
   "outputs": [
    {
     "name": "stdout",
     "output_type": "stream",
     "text": [
      "           soils.head()                    soils_mean.head()        \n",
      "---------------------------------  ---------------------------------\n",
      "   Depth Contour  Group   pH    N                    Group   pH    N\n",
      "1   0-10     Top      1  5.4 0.19  Depth Contour                    \n",
      "2   0-10     Top      1  5.7 0.17  0-10  Depression      9  5.4 0.18\n",
      "3   0-10     Top      1  5.1 0.26        Slope           5  5.5 0.22\n",
      "4   0-10     Top      1  5.1 0.17        Top             1  5.3  0.2\n",
      "5  10-30     Top      2  5.1 0.16  10-30 Depression     10  4.9 0.08\n",
      "                                         Slope           6  5.3  0.1\n"
     ]
    }
   ],
   "source": [
    "soils = pd.read_csv(\"Soils.csv\", index_col=0)[[\"Depth\", \"Contour\", \"Group\", \"pH\", \"N\"]]\n",
    "soils_mean = soils.groupby([\"Depth\", \"Contour\"]).mean()\n",
    "%C soils.head(); soils_mean.head()"
   ]
  },
  {
   "cell_type": "markdown",
   "metadata": {},
   "source": [
    "#### 加入移除列或行"
   ]
  },
  {
   "cell_type": "code",
   "execution_count": 4,
   "metadata": {
    "collapsed": true
   },
   "outputs": [],
   "source": [
    "soils[\"N_percent\"] = soils.eval(\"N * 100\")"
   ]
  },
  {
   "cell_type": "code",
   "execution_count": 21,
   "metadata": {
    "collapsed": false
   },
   "outputs": [
    {
     "name": "stdout",
     "output_type": "stream",
     "text": [
      "   Depth Contour  Group   pH    N  N_percent  pH2\n",
      "1   0-10     Top      1  5.4 0.19         19  6.4\n",
      "2   0-10     Top      1  5.7 0.17         16  6.7\n",
      "3   0-10     Top      1  5.1 0.26         26  6.1\n",
      "4   0-10     Top      1  5.1 0.17         17  6.1\n",
      "5  10-30     Top      2  5.1 0.16         16  6.1\n"
     ]
    }
   ],
   "source": [
    "print soils.assign(pH2 = soils.pH + 1).head()"
   ]
  },
  {
   "cell_type": "code",
   "execution_count": 5,
   "metadata": {
    "collapsed": true
   },
   "outputs": [],
   "source": [
    "def random_dataframe(n):\n",
    "    columns = [\"A\", \"B\", \"C\"]\n",
    "    for i in range(n):\n",
    "        nrow = np.random.randint(10, 20)\n",
    "        yield pd.DataFrame(np.random.randint(0, 100, size=(nrow, 3)), columns=columns)\n",
    "\n",
    "df_list = list(random_dataframe(1000))"
   ]
  },
  {
   "cell_type": "code",
   "execution_count": 6,
   "metadata": {
    "collapsed": false
   },
   "outputs": [
    {
     "name": "stdout",
     "output_type": "stream",
     "text": [
      "Wall time: 1.37 s\n"
     ]
    }
   ],
   "source": [
    "%%time\n",
    "df_res1 = pd.DataFrame([])\n",
    "for df in df_list:\n",
    "    df_res1 = df_res1.append(df)"
   ]
  },
  {
   "cell_type": "code",
   "execution_count": 7,
   "metadata": {
    "collapsed": false
   },
   "outputs": [
    {
     "name": "stdout",
     "output_type": "stream",
     "text": [
      "Wall time: 118 ms\n"
     ]
    }
   ],
   "source": [
    "%%time\n",
    "df_res2 = pd.concat(df_list, axis=0)"
   ]
  },
  {
   "cell_type": "code",
   "execution_count": 8,
   "metadata": {
    "collapsed": false
   },
   "outputs": [
    {
     "data": {
      "text/plain": [
       "True"
      ]
     },
     "execution_count": 8,
     "metadata": {},
     "output_type": "execute_result"
    }
   ],
   "source": [
    "df_res3 = pd.concat(df_list, axis=0, keys=range(len(df_list)))\n",
    "df_res3.loc[30].equals(df_list[30])"
   ]
  },
  {
   "cell_type": "code",
   "execution_count": 9,
   "metadata": {
    "collapsed": false
   },
   "outputs": [
    {
     "name": "stdout",
     "output_type": "stream",
     "text": [
      "   Depth Contour   pH  N_percent\n",
      "1   0-10     Top  5.4         19\n",
      "2   0-10     Top  5.7         16\n",
      "3   0-10     Top  5.1         26\n",
      "4   0-10     Top  5.1         17\n",
      "5  10-30     Top  5.1         16\n"
     ]
    }
   ],
   "source": [
    "print soils.drop([\"N\", \"Group\"], axis=1).head()"
   ]
  },
  {
   "cell_type": "markdown",
   "metadata": {},
   "source": [
    "#### 行索引與列之間相互轉換"
   ]
  },
  {
   "cell_type": "code",
   "execution_count": 10,
   "metadata": {
    "collapsed": false
   },
   "outputs": [
    {
     "name": "stdout",
     "output_type": "stream",
     "text": [
      "          Contour  Group   pH    N\n",
      "Depth                             \n",
      "0-10   Depression      9  5.4 0.18\n",
      "0-10        Slope      5  5.5 0.22\n",
      "0-10          Top      1  5.3  0.2\n",
      "10-30  Depression     10  4.9 0.08\n",
      "10-30       Slope      6  5.3  0.1\n"
     ]
    }
   ],
   "source": [
    "print soils_mean.reset_index(level=\"Contour\").head()"
   ]
  },
  {
   "cell_type": "code",
   "execution_count": 11,
   "metadata": {
    "collapsed": false
   },
   "outputs": [
    {
     "name": "stdout",
     "output_type": "stream",
     "text": [
      "                         pH    N\n",
      "Depth Contour    Group          \n",
      "0-10  Depression 9      5.4 0.18\n",
      "      Slope      5      5.5 0.22\n",
      "      Top        1      5.3  0.2\n",
      "10-30 Depression 10     4.9 0.08\n",
      "      Slope      6      5.3  0.1\n"
     ]
    }
   ],
   "source": [
    "print soils_mean.set_index(\"Group\", append=True).head()"
   ]
  },
  {
   "cell_type": "markdown",
   "metadata": {},
   "source": [
    "#### 行和列的索引相互轉換"
   ]
  },
  {
   "cell_type": "code",
   "execution_count": 12,
   "metadata": {
    "collapsed": false
   },
   "outputs": [
    {
     "name": "stdout",
     "output_type": "stream",
     "text": [
      "             Group                   pH           \n",
      "Contour Depression Slope Top Depression Slope  Top\n",
      "Depth                                             \n",
      "0-10             9     5   1        5.4   5.5  5.3\n",
      "10-30           10     6   2        4.9   5.3  4.8\n",
      "30-60           11     7   3        4.4   4.3  4.2\n",
      "60-90           12     8   4        4.2   3.9  3.9\n"
     ]
    }
   ],
   "source": [
    "print soils_mean.unstack(1)[[\"Group\", \"pH\"]].head()"
   ]
  },
  {
   "cell_type": "code",
   "execution_count": 13,
   "metadata": {
    "collapsed": false
   },
   "outputs": [
    {
     "name": "stdout",
     "output_type": "stream",
     "text": [
      "Depth  Contour          \n",
      "0-10   Depression  Group      9\n",
      "                   pH       5.4\n",
      "                   N       0.18\n",
      "       Slope       Group      5\n",
      "                   pH       5.5\n",
      "                   N       0.22\n",
      "       Top         Group      1\n",
      "                   pH       5.3\n",
      "                   N        0.2\n",
      "10-30  Depression  Group     10\n",
      "dtype: float64\n"
     ]
    }
   ],
   "source": [
    "print soils_mean.stack().head(10)"
   ]
  },
  {
   "cell_type": "markdown",
   "metadata": {},
   "source": [
    "#### 交換索引的等級"
   ]
  },
  {
   "cell_type": "code",
   "execution_count": 14,
   "metadata": {
    "collapsed": false
   },
   "outputs": [
    {
     "name": "stdout",
     "output_type": "stream",
     "text": [
      "                  Group   pH     N\n",
      "Contour    Depth                  \n",
      "Depression 0-10       9  5.4  0.18\n",
      "           10-30     10  4.9  0.08\n",
      "           30-60     11  4.4 0.051\n",
      "           60-90     12  4.2  0.04\n",
      "Slope      0-10       5  5.5  0.22\n",
      "           10-30      6  5.3   0.1\n",
      "           30-60      7  4.3 0.061\n",
      "           60-90      8  3.9 0.043\n",
      "Top        0-10       1  5.3   0.2\n",
      "           10-30      2  4.8  0.12\n",
      "           30-60      3  4.2  0.08\n",
      "           60-90      4  3.9 0.058\n"
     ]
    }
   ],
   "source": [
    "print soils_mean.swaplevel(0, 1).sort_index()"
   ]
  },
  {
   "cell_type": "markdown",
   "metadata": {},
   "source": [
    "#### 透視表"
   ]
  },
  {
   "cell_type": "code",
   "execution_count": 15,
   "metadata": {
    "collapsed": false
   },
   "outputs": [
    {
     "name": "stdout",
     "output_type": "stream",
     "text": [
      "               df                           df_pivot_pH          \n",
      "--------------------------------  -------------------------------\n",
      "    Depth     Contour   pH     N  Contour  Depression  Slope  Top\n",
      "0    0-10  Depression  5.4  0.18  Depth                          \n",
      "1    0-10       Slope  5.5  0.22  0-10            5.4    5.5  5.3\n",
      "2    0-10         Top  5.3   0.2  10-30           4.9    5.3  4.8\n",
      "3   10-30  Depression  4.9  0.08  30-60           4.4    4.3  4.2\n",
      "4   10-30       Slope  5.3   0.1  60-90           4.2    3.9  3.9\n",
      "5   10-30         Top  4.8  0.12                                 \n",
      "6   30-60  Depression  4.4 0.051                                 \n",
      "7   30-60       Slope  4.3 0.061                                 \n",
      "8   30-60         Top  4.2  0.08                                 \n",
      "9   60-90  Depression  4.2  0.04                                 \n",
      "10  60-90       Slope  3.9 0.043                                 \n",
      "11  60-90         Top  3.9 0.058                                 \n"
     ]
    }
   ],
   "source": [
    "df = soils_mean.reset_index()[[\"Depth\", \"Contour\", \"pH\", \"N\"]]\n",
    "df_pivot_pH = df.pivot(\"Depth\", \"Contour\", \"pH\")\n",
    "%C df; df_pivot_pH"
   ]
  },
  {
   "cell_type": "code",
   "execution_count": 16,
   "metadata": {
    "collapsed": false
   },
   "outputs": [
    {
     "name": "stdout",
     "output_type": "stream",
     "text": [
      "                pH                     N            \n",
      "Contour Depression Slope  Top Depression Slope   Top\n",
      "Depth                                               \n",
      "0-10           5.4   5.5  5.3       0.18  0.22   0.2\n",
      "10-30          4.9   5.3  4.8       0.08   0.1  0.12\n",
      "30-60          4.4   4.3  4.2      0.051 0.061  0.08\n",
      "60-90          4.2   3.9  3.9       0.04 0.043 0.058\n"
     ]
    }
   ],
   "source": [
    "print df.pivot(\"Depth\", \"Contour\")"
   ]
  },
  {
   "cell_type": "code",
   "execution_count": 18,
   "metadata": {
    "collapsed": false
   },
   "outputs": [
    {
     "name": "stdout",
     "output_type": "stream",
     "text": [
      "            df_before_melt                    df_after_melt       \n",
      "--------------------------------------  --------------------------\n",
      "Contour  Depth  Depression  Slope  Top      Depth     Contour   pH\n",
      "0         0-10         5.4    5.5  5.3  0    0-10  Depression  5.4\n",
      "1        10-30         4.9    5.3  4.8  1   10-30  Depression  4.9\n",
      "2        30-60         4.4    4.3  4.2  2   30-60  Depression  4.4\n",
      "3        60-90         4.2    3.9  3.9  3   60-90  Depression  4.2\n",
      "                                        4    0-10       Slope  5.5\n",
      "                                        5   10-30       Slope  5.3\n",
      "                                        6   30-60       Slope  4.3\n",
      "                                        7   60-90       Slope  3.9\n",
      "                                        8    0-10         Top  5.3\n",
      "                                        9   10-30         Top  4.8\n",
      "                                        10  30-60         Top  4.2\n",
      "                                        11  60-90         Top  3.9\n"
     ]
    }
   ],
   "source": [
    "df_before_melt = df_pivot_pH.reset_index()\n",
    "df_after_melt = pd.melt(df_before_melt, id_vars=\"Depth\", value_name=\"pH\")\n",
    "%C df_before_melt; df_after_melt"
   ]
  }
 ],
 "metadata": {
  "kernelspec": {
   "display_name": "Python 2",
   "language": "python",
   "name": "python2"
  },
  "language_info": {
   "codemirror_mode": {
    "name": "ipython",
    "version": 2
   },
   "file_extension": ".py",
   "mimetype": "text/x-python",
   "name": "python",
   "nbconvert_exporter": "python",
   "pygments_lexer": "ipython2",
   "version": "2.7.9"
  }
 },
 "nbformat": 4,
 "nbformat_minor": 0
}
