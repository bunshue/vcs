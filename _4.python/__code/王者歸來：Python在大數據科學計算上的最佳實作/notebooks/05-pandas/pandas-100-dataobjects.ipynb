﻿{
 "cells": [
  {
   "cell_type": "code",
   "execution_count": 49,
   "metadata": {
    "collapsed": false,
    "group_control": {
     "group": 0
    }
   },
   "outputs": [],
   "source": [
    "import pandas as pd\n",
    "import numpy as np\n",
    "pd.set_option(\"display.show_dimensions\", False)\n",
    "pd.set_option(\"display.float_format\", \"{:4.2g}\".format)"
   ]
  },
  {
   "cell_type": "markdown",
   "metadata": {},
   "source": [
    "# Pandas-方便的資料分析庫"
   ]
  },
  {
   "cell_type": "code",
   "execution_count": 50,
   "metadata": {
    "collapsed": false,
    "group_control": {
     "group": 0
    }
   },
   "outputs": [
    {
     "data": {
      "text/plain": [
       "'0.16.2'"
      ]
     },
     "execution_count": 50,
     "metadata": {},
     "output_type": "execute_result"
    }
   ],
   "source": [
    "import pandas as pd\n",
    "pd.__version__"
   ]
  },
  {
   "cell_type": "markdown",
   "metadata": {},
   "source": [
    "## Pandas中的資料物件"
   ]
  },
  {
   "cell_type": "markdown",
   "metadata": {},
   "source": [
    "### `Series`物件"
   ]
  },
  {
   "cell_type": "code",
   "execution_count": 51,
   "metadata": {
    "collapsed": false,
    "group_control": {
     "group": 0
    }
   },
   "outputs": [
    {
     "name": "stdout",
     "output_type": "stream",
     "text": [
      "　索引: Index([u'a', u'b', u'c', u'd', u'e'], dtype='object')\n",
      "值陣列: [1 2 3 4 5]\n"
     ]
    }
   ],
   "source": [
    "s = pd.Series([1, 2, 3, 4, 5], index=[\"a\", \"b\", \"c\", \"d\", \"e\"])\n",
    "print u\"　索引:\", s.index\n",
    "print u\"值陣列:\", s.values"
   ]
  },
  {
   "cell_type": "code",
   "execution_count": 52,
   "metadata": {
    "collapsed": false,
    "group_control": {
     "group": 0
    }
   },
   "outputs": [
    {
     "name": "stdout",
     "output_type": "stream",
     "text": [
      "位置索引   s[2]: 3\n",
      "標簽索引 s['d']: 4\n"
     ]
    }
   ],
   "source": [
    "print u\"位置索引   s[2]:\", s[2]\n",
    "print u\"標簽索引 s['d']:\", s['d']"
   ]
  },
  {
   "cell_type": "code",
   "execution_count": 53,
   "metadata": {
    "collapsed": false,
    "group_control": {
     "group": 0
    }
   },
   "outputs": [
    {
     "name": "stdout",
     "output_type": "stream",
     "text": [
      "   s[1:3]         s['b':'d'] \n",
      "------------     ------------\n",
      "b    2           b    2      \n",
      "c    3           c    3      \n",
      "dtype: int64     d    4      \n",
      "                 dtype: int64\n"
     ]
    }
   ],
   "source": [
    "%C 5 s[1:3]; s['b':'d']"
   ]
  },
  {
   "cell_type": "code",
   "execution_count": 54,
   "metadata": {
    "collapsed": false,
    "group_control": {
     "group": 0
    }
   },
   "outputs": [
    {
     "name": "stdout",
     "output_type": "stream",
     "text": [
      " s[[1,3,2]]      s[['b','d','c']]\n",
      "------------     ----------------\n",
      "b    2           b    2          \n",
      "d    4           d    4          \n",
      "c    3           c    3          \n",
      "dtype: int64     dtype: int64    \n"
     ]
    }
   ],
   "source": [
    "%C 5 s[[1,3,2]]; s[['b','d','c']]"
   ]
  },
  {
   "cell_type": "code",
   "execution_count": 55,
   "metadata": {
    "collapsed": false,
    "group_control": {
     "group": 0
    }
   },
   "outputs": [
    {
     "data": {
      "text/plain": [
       "[('a', 1), ('b', 2), ('c', 3), ('d', 4), ('e', 5)]"
      ]
     },
     "execution_count": 55,
     "metadata": {},
     "output_type": "execute_result"
    }
   ],
   "source": [
    "list(s.iteritems())"
   ]
  },
  {
   "cell_type": "code",
   "execution_count": 56,
   "metadata": {
    "collapsed": false
   },
   "outputs": [
    {
     "name": "stdout",
     "output_type": "stream",
     "text": [
      "     s                s2               s+s2     \n",
      "------------     ------------     --------------\n",
      "a    1           b    20          a    nan      \n",
      "b    2           c    30          b     22      \n",
      "c    3           d    40          c     33      \n",
      "d    4           e    50          d     44      \n",
      "e    5           f    60          e     55      \n",
      "dtype: int64     dtype: int64     f    nan      \n",
      "                                  dtype: float64\n"
     ]
    }
   ],
   "source": [
    "s2 = pd.Series([20,30,40,50,60], index=[\"b\",\"c\",\"d\",\"e\",\"f\"])\n",
    "%C 5 s; s2; s+s2"
   ]
  },
  {
   "cell_type": "markdown",
   "metadata": {},
   "source": [
    "### `DataFrame`物件"
   ]
  },
  {
   "cell_type": "markdown",
   "metadata": {},
   "source": [
    "#### `DataFrame`的各個群組成元素"
   ]
  },
  {
   "cell_type": "code",
   "execution_count": 57,
   "metadata": {
    "collapsed": false,
    "group_control": {
     "group": 0
    }
   },
   "outputs": [],
   "source": [
    "df_soil = pd.read_csv(\"data/Soils-simple.csv\", index_col=[0, 1], parse_dates=[\"Date\"])\n",
    "df_soil.columns.name = \"Measures\""
   ]
  },
  {
   "cell_type": "code",
   "execution_count": 58,
   "metadata": {
    "collapsed": false,
    "group_control": {
     "group": 0
    }
   },
   "outputs": [
    {
     "data": {
      "text/plain": [
       "Measures\n",
       "pH               float64\n",
       "Dens             float64\n",
       "Ca               float64\n",
       "Conduc           float64\n",
       "Date      datetime64[ns]\n",
       "Name              object\n",
       "dtype: object"
      ]
     },
     "execution_count": 58,
     "metadata": {},
     "output_type": "execute_result"
    }
   ],
   "source": [
    "df_soil.dtypes"
   ]
  },
  {
   "cell_type": "code",
   "execution_count": 59,
   "metadata": {
    "collapsed": false,
    "group_control": {
     "group": 0
    }
   },
   "outputs": [
    {
     "data": {
      "text/plain": [
       "(6, 6)"
      ]
     },
     "execution_count": 59,
     "metadata": {},
     "output_type": "execute_result"
    }
   ],
   "source": [
    "df_soil.shape"
   ]
  },
  {
   "cell_type": "code",
   "execution_count": 60,
   "metadata": {
    "collapsed": false,
    "group_control": {
     "group": 0
    }
   },
   "outputs": [
    {
     "name": "stdout",
     "output_type": "stream",
     "text": [
      "Index([u'pH', u'Dens', u'Ca', u'Conduc', u'Date', u'Name'], dtype='object', name=u'Measures')\n",
      "Measures\n"
     ]
    }
   ],
   "source": [
    "print df_soil.columns\n",
    "print df_soil.columns.name"
   ]
  },
  {
   "cell_type": "code",
   "execution_count": 61,
   "metadata": {
    "collapsed": false,
    "group_control": {
     "group": 0
    }
   },
   "outputs": [
    {
     "name": "stdout",
     "output_type": "stream",
     "text": [
      "MultiIndex(levels=[[u'0-10', u'10-30'], [u'Depression', u'Slope', u'Top']],\n",
      "           labels=[[0, 0, 0, 1, 1, 1], [0, 1, 2, 0, 1, 2]],\n",
      "           names=[u'Depth', u'Contour'])\n",
      "[u'Depth', u'Contour']\n"
     ]
    }
   ],
   "source": [
    "print df_soil.index\n",
    "print df_soil.index.names"
   ]
  },
  {
   "cell_type": "code",
   "execution_count": 62,
   "metadata": {
    "collapsed": false,
    "group_control": {
     "group": 0
    }
   },
   "outputs": [
    {
     "name": "stdout",
     "output_type": "stream",
     "text": [
      "     df_soil[\"pH\"]                  df_soil[[\"Dens\", \"Ca\"]]  \n",
      "------------------------          ---------------------------\n",
      "Depth  Contour                    Measures          Dens   Ca\n",
      "0-10   Depression    5.4          Depth Contour              \n",
      "       Slope         5.5          0-10  Depression  0.98   11\n",
      "       Top           5.3                Slope        1.1   12\n",
      "10-30  Depression    4.9                Top            1   13\n",
      "       Slope         5.3          10-30 Depression   1.4  7.5\n",
      "       Top           4.8                Slope        1.3  9.5\n",
      "Name: pH, dtype: float64                Top          1.3   10\n"
     ]
    }
   ],
   "source": [
    "%C 10 df_soil[\"pH\"]; df_soil[[\"Dens\", \"Ca\"]]"
   ]
  },
  {
   "cell_type": "code",
   "execution_count": 63,
   "metadata": {
    "collapsed": false,
    "group_control": {
     "group": 0
    }
   },
   "outputs": [
    {
     "name": "stdout",
     "output_type": "stream",
     "text": [
      "   df_soil.loc[\"0-10\", \"Top\"]                     df_soil.loc[\"10-30\"]                \n",
      "--------------------------------  ----------------------------------------------------\n",
      "Measures                          Measures     pH  Dens   Ca  Conduc       Date   Name\n",
      "pH                        5.3     Contour                                             \n",
      "Dens                        1     Depression  4.9   1.4  7.5     5.5 2015-03-21   Lois\n",
      "Ca                         13     Slope       5.3   1.3  9.5     4.9 2015-02-06  Diana\n",
      "Conduc                    1.4     Top         4.8   1.3   10     3.6 2015-04-11  Diana\n",
      "Date      2015-05-21 00:00:00                                                         \n",
      "Name                      Roy                                                         \n",
      "Name: (0-10, Top), dtype: object                                                      \n"
     ]
    }
   ],
   "source": [
    "%C df_soil.loc[\"0-10\", \"Top\"]; df_soil.loc[\"10-30\"]"
   ]
  },
  {
   "cell_type": "code",
   "execution_count": 65,
   "metadata": {
    "collapsed": false,
    "group_control": {
     "group": 0
    }
   },
   "outputs": [
    {
     "data": {
      "text/plain": [
       "dtype('O')"
      ]
     },
     "execution_count": 65,
     "metadata": {},
     "output_type": "execute_result"
    }
   ],
   "source": [
    "df_soil.values.dtype"
   ]
  },
  {
   "cell_type": "markdown",
   "metadata": {},
   "source": [
    "#### 將記憶體中的資料轉為`DataFrame`物件"
   ]
  },
  {
   "cell_type": "code",
   "execution_count": 66,
   "metadata": {
    "collapsed": false,
    "group_control": {
     "group": 0
    }
   },
   "outputs": [
    {
     "name": "stdout",
     "output_type": "stream",
     "text": [
      "  df1          df2              df3      \n",
      "-------      -------      ---------------\n",
      "   a  b         a  b          name  count\n",
      "A  2  6      A  1  5      0  item1      1\n",
      "B  3  1      B  2  6      1  item2      2\n",
      "C  5  9      C  3  7      2  item3      3\n",
      "D  8  0      D  4  8      3  item4      4\n"
     ]
    }
   ],
   "source": [
    "df1 = pd.DataFrame(np.random.randint(0, 10, (4, 2)), #❶\n",
    "                   index=[\"A\", \"B\", \"C\", \"D\"], \n",
    "                   columns=[\"a\", \"b\"])\n",
    "\n",
    "df2 = pd.DataFrame({\"a\":[1, 2, 3, 4], \"b\":[5, 6, 7, 8]},  #❷\n",
    "                   index=[\"A\", \"B\", \"C\", \"D\"])\n",
    "\n",
    "arr = np.array([(\"item1\", 1), (\"item2\", 2), (\"item3\", 3), (\"item4\", 4)], \n",
    "               dtype=[(\"name\", \"10S\"), (\"count\", int)])\n",
    "\n",
    "df3 = pd.DataFrame(arr) #❸\n",
    "\n",
    "%C 6 df1; df2; df3"
   ]
  },
  {
   "cell_type": "code",
   "execution_count": 67,
   "metadata": {
    "collapsed": false,
    "group_control": {
     "group": 0
    }
   },
   "outputs": [
    {
     "name": "stdout",
     "output_type": "stream",
     "text": [
      "   df1            df2             df3                df4    \n",
      "----------      -------      --------------      -----------\n",
      "   0  1  2         a  b         A    B    C           a    b\n",
      "a  1  2  3      0  1  4      a  1    2  nan      A    1    3\n",
      "b  4  5  6      1  2  5      b  3  nan    4      B    2  nan\n",
      "                2  3  6                          C  nan    4\n"
     ]
    }
   ],
   "source": [
    "dict1 = {\"a\":[1, 2, 3], \"b\":[4, 5, 6]}\n",
    "dict2 = {\"a\":{\"A\":1, \"B\":2}, \"b\":{\"A\":3, \"C\":4}}\n",
    "df1 = pd.DataFrame.from_dict(dict1, orient=\"index\")\n",
    "df2 = pd.DataFrame.from_dict(dict1, orient=\"columns\")\n",
    "df3 = pd.DataFrame.from_dict(dict2, orient=\"index\")\n",
    "df4 = pd.DataFrame.from_dict(dict2, orient=\"columns\")\n",
    "\n",
    "%C 6 df1; df2; df3; df4"
   ]
  },
  {
   "cell_type": "code",
   "execution_count": 69,
   "metadata": {
    "collapsed": false,
    "group_control": {
     "group": 0
    }
   },
   "outputs": [
    {
     "name": "stdout",
     "output_type": "stream",
     "text": [
      "   df1            df2  \n",
      "----------      -------\n",
      "   A  B  C         a  b\n",
      "a  1  2  3      0  1  4\n",
      "b  4  5  6      1  2  5\n",
      "                2  3  6\n"
     ]
    }
   ],
   "source": [
    "items = dict1.items()\n",
    "df1 = pd.DataFrame.from_items(items, orient=\"index\", columns=[\"A\", \"B\", \"C\"])\n",
    "df2 = pd.DataFrame.from_items(items, orient=\"columns\")\n",
    "\n",
    "%C 6 df1; df2"
   ]
  },
  {
   "cell_type": "markdown",
   "metadata": {},
   "source": [
    "#### 將`DataFrame`物件轉為其它格式的資料"
   ]
  },
  {
   "cell_type": "code",
   "execution_count": 70,
   "metadata": {
    "collapsed": false,
    "group_control": {
     "group": 0
    }
   },
   "outputs": [
    {
     "name": "stdout",
     "output_type": "stream",
     "text": [
      "[{'a': 1, 'b': 4}, {'a': 2, 'b': 5}, {'a': 3, 'b': 6}]\n",
      "{'a': [1, 2, 3], 'b': [4, 5, 6]}\n",
      "{'a': {0: 1, 1: 2, 2: 3}, 'b': {0: 4, 1: 5, 2: 6}}\n"
     ]
    }
   ],
   "source": [
    "print df2.to_dict(orient=\"records\") #字典清單\n",
    "print df2.to_dict(orient=\"list\") #清單字典\n",
    "print df2.to_dict(orient=\"dict\") #嵌套字典"
   ]
  },
  {
   "cell_type": "code",
   "execution_count": 71,
   "metadata": {
    "collapsed": false,
    "group_control": {
     "group": 0
    }
   },
   "outputs": [
    {
     "name": "stdout",
     "output_type": "stream",
     "text": [
      "[('index', '<i8'), ('a', '<i8'), ('b', '<i8')]\n",
      "[('a', '<i8'), ('b', '<i8')]\n"
     ]
    }
   ],
   "source": [
    "print df2.to_records().dtype\n",
    "print df2.to_records(index=False).dtype"
   ]
  },
  {
   "cell_type": "markdown",
   "metadata": {},
   "source": [
    "### `Index`物件"
   ]
  },
  {
   "cell_type": "code",
   "execution_count": 73,
   "metadata": {
    "collapsed": false,
    "group_control": {
     "group": 0
    }
   },
   "outputs": [
    {
     "data": {
      "text/plain": [
       "array(['pH', 'Dens', 'Ca', 'Conduc', 'Date', 'Name'], dtype=object)"
      ]
     },
     "execution_count": 73,
     "metadata": {},
     "output_type": "execute_result"
    }
   ],
   "source": [
    "index = df_soil.columns\n",
    "index.values"
   ]
  },
  {
   "cell_type": "code",
   "execution_count": 74,
   "metadata": {
    "collapsed": false,
    "group_control": {
     "group": 0
    }
   },
   "outputs": [
    {
     "name": "stdout",
     "output_type": "stream",
     "text": [
      "Index([u'Dens', u'Conduc'], dtype='object', name=u'Measures')\n",
      "Index([u'pH'], dtype='object', name=u'Measures')\n",
      "Index([u'Dens', u'Conduc', u'Name'], dtype='object', name=u'Measures')\n"
     ]
    }
   ],
   "source": [
    "print index[[1, 3]]\n",
    "print index[index > 'c']\n",
    "print index[1::2]"
   ]
  },
  {
   "cell_type": "code",
   "execution_count": 75,
   "metadata": {
    "collapsed": false,
    "group_control": {
     "group": 0
    }
   },
   "outputs": [
    {
     "name": "stdout",
     "output_type": "stream",
     "text": [
      "2\n",
      "[ 1  3 -1]\n"
     ]
    }
   ],
   "source": [
    "print index.get_loc('Ca')\n",
    "print index.get_indexer(['Dens', 'Conduc', 'nothing'])"
   ]
  },
  {
   "cell_type": "code",
   "execution_count": 76,
   "metadata": {
    "collapsed": false,
    "group_control": {
     "group": 0
    }
   },
   "outputs": [
    {
     "name": "stdout",
     "output_type": "stream",
     "text": [
      "True\n"
     ]
    }
   ],
   "source": [
    "index = pd.Index([\"A\", \"B\", \"C\", \"D\", \"E\"], name=\"level\")\n",
    "s1 = pd.Series([1, 2, 3, 4, 5], index=index)\n",
    "df1 = pd.DataFrame({\"a\":[1, 2, 3, 4, 5], \"b\":[6, 7, 8, 9, 10]}, index=index)\n",
    "print s1.index is df1.index"
   ]
  },
  {
   "cell_type": "markdown",
   "metadata": {},
   "source": [
    "### `MultiIndex`物件"
   ]
  },
  {
   "cell_type": "code",
   "execution_count": 78,
   "metadata": {
    "collapsed": false,
    "group_control": {
     "group": 0
    }
   },
   "outputs": [
    {
     "name": "stdout",
     "output_type": "stream",
     "text": [
      "('0-10', 'Slope')\n",
      "1\n",
      "[ 5  0 -1]\n"
     ]
    }
   ],
   "source": [
    "mindex = df_soil.index\n",
    "print mindex[1]\n",
    "print mindex.get_loc((\"0-10\", \"Slope\"))\n",
    "print mindex.get_indexer([(\"10-30\", \"Top\"), (\"0-10\", \"Depression\"), \"nothing\"])"
   ]
  },
  {
   "cell_type": "code",
   "execution_count": 79,
   "metadata": {
    "collapsed": false,
    "group_control": {
     "group": 0
    }
   },
   "outputs": [
    {
     "name": "stdout",
     "output_type": "stream",
     "text": [
      "Index([u'0-10', u'10-30'], dtype='object', name=u'Depth')\n",
      "Index([u'Depression', u'Slope', u'Top'], dtype='object', name=u'Contour')\n"
     ]
    }
   ],
   "source": [
    "print mindex.levels[0]\n",
    "print mindex.levels[1]"
   ]
  },
  {
   "cell_type": "code",
   "execution_count": 80,
   "metadata": {
    "collapsed": false,
    "group_control": {
     "group": 0
    }
   },
   "outputs": [
    {
     "name": "stdout",
     "output_type": "stream",
     "text": [
      "FrozenNDArray([0, 0, 0, 1, 1, 1], dtype='int8')\n",
      "FrozenNDArray([0, 1, 2, 0, 1, 2], dtype='int8')\n"
     ]
    }
   ],
   "source": [
    "print mindex.labels[0]\n",
    "print mindex.labels[1]"
   ]
  },
  {
   "cell_type": "code",
   "execution_count": 81,
   "metadata": {
    "collapsed": false,
    "group_control": {
     "group": 0
    }
   },
   "outputs": [
    {
     "data": {
      "text/plain": [
       "[('0-10', 'Depression'),\n",
       " ('0-10', 'Slope'),\n",
       " ('0-10', 'Top'),\n",
       " ('10-30', 'Depression'),\n",
       " ('10-30', 'Slope'),\n",
       " ('10-30', 'Top')]"
      ]
     },
     "execution_count": 81,
     "metadata": {},
     "output_type": "execute_result"
    }
   ],
   "source": [
    "level0, level1 = mindex.levels\n",
    "label0, label1 = mindex.labels\n",
    "zip(level0[label0], level1[label1])"
   ]
  },
  {
   "cell_type": "code",
   "execution_count": 82,
   "metadata": {
    "collapsed": false,
    "group_control": {
     "group": 0
    }
   },
   "outputs": [
    {
     "data": {
      "text/plain": [
       "MultiIndex(levels=[[u'A', u'B'], [u'x', u'y']],\n",
       "           labels=[[0, 0, 1, 1], [0, 1, 0, 1]],\n",
       "           names=[u'class1', u'class2'])"
      ]
     },
     "execution_count": 82,
     "metadata": {},
     "output_type": "execute_result"
    }
   ],
   "source": [
    "pd.Index([(\"A\", \"x\"), (\"A\", \"y\"), (\"B\", \"x\"), (\"B\", \"y\")], name=[\"class1\", \"class2\"])"
   ]
  },
  {
   "cell_type": "code",
   "execution_count": 83,
   "metadata": {
    "collapsed": false,
    "group_control": {
     "group": 0
    }
   },
   "outputs": [
    {
     "data": {
      "text/plain": [
       "MultiIndex(levels=[[u'A', u'B'], [u'x', u'y']],\n",
       "           labels=[[0, 0, 1, 1], [0, 1, 0, 1]],\n",
       "           names=[u'class1', u'class2'])"
      ]
     },
     "execution_count": 83,
     "metadata": {},
     "output_type": "execute_result"
    }
   ],
   "source": [
    "class1 = [\"A\", \"A\", \"B\", \"B\"]\n",
    "class2 = [\"x\", \"y\", \"x\", \"y\"]\n",
    "pd.MultiIndex.from_arrays([class1, class2], names=[\"class1\", \"class2\"])"
   ]
  },
  {
   "cell_type": "code",
   "execution_count": 84,
   "metadata": {
    "collapsed": false,
    "group_control": {
     "group": 0
    }
   },
   "outputs": [
    {
     "name": "stdout",
     "output_type": "stream",
     "text": [
      "              df1              \n",
      "-------------------------------\n",
      "class1         A     B     C   \n",
      "class2         x  y  x  y  x  y\n",
      "class1 class2                  \n",
      "A      x       3  0  8  2  7  3\n",
      "       y       9  7  6  9  2  4\n",
      "B      x       8  8  0  4  8  3\n",
      "       y       8  3  7  6  3  9\n",
      "C      x       2  0  4  0  6  4\n",
      "       y       0  7  5  6  0  5\n"
     ]
    }
   ],
   "source": [
    "midx = pd.MultiIndex.from_product([[\"A\", \"B\", \"C\"], [\"x\", \"y\"]], \n",
    "                           names=[\"class1\", \"class2\"])\n",
    "df1 = pd.DataFrame(np.random.randint(0, 10, (6, 6)), columns=midx, index=midx)\n",
    "%C df1"
   ]
  },
  {
   "cell_type": "markdown",
   "metadata": {},
   "source": [
    "### 常用的函數參數"
   ]
  },
  {
   "cell_type": "code",
   "execution_count": 85,
   "metadata": {
    "collapsed": false
   },
   "outputs": [
    {
     "name": "stdout",
     "output_type": "stream",
     "text": [
      "df_soil.mean()    df_soil.mean(axis=1)          df_soil.mean(level=1)       \n",
      "--------------  ------------------------  ----------------------------------\n",
      "Measures        Depth  Contour            Measures     pH  Dens   Ca  Conduc\n",
      "pH        5.2   0-10   Depression    4.6  Contour                           \n",
      "Dens      1.2          Slope         5.2  Depression  5.1   1.2  9.1     3.5\n",
      "Ca         11          Top           5.3  Slope       5.4   1.2   11     3.5\n",
      "Conduc    3.1   10-30  Depression    4.8  Top         5.1   1.2   12     2.5\n",
      "dtype: float64         Slope         5.3                                    \n",
      "                       Top             5                                    \n",
      "                dtype: float64                                              \n"
     ]
    }
   ],
   "source": [
    "%C df_soil.mean(); df_soil.mean(axis=1); df_soil.mean(level=1)"
   ]
  },
  {
   "cell_type": "markdown",
   "metadata": {},
   "source": [
    "### `DataFrame`的內定結構"
   ]
  },
  {
   "cell_type": "code",
   "execution_count": 91,
   "metadata": {
    "collapsed": false,
    "group_control": {
     "group": 0
    }
   },
   "outputs": [
    {
     "data": {
      "image/svg+xml": [
       "<?xml version=\"1.0\" encoding=\"UTF-8\" standalone=\"no\"?>\r\n",
       "<!DOCTYPE svg PUBLIC \"-//W3C//DTD SVG 1.1//EN\"\r\n",
       " \"http://www.w3.org/Graphics/SVG/1.1/DTD/svg11.dtd\">\r\n",
       "<!-- Generated by graphviz version 2.38.0 (20140413.2041)\r\n",
       " -->\r\n",
       "<!-- Title: structs Pages: 1 -->\r\n",
       "<svg width=\"775pt\" height=\"771pt\"\r\n",
       " viewBox=\"0.00 0.00 775.00 771.00\" xmlns=\"http://www.w3.org/2000/svg\" xmlns:xlink=\"http://www.w3.org/1999/xlink\">\r\n",
       "<g id=\"graph0\" class=\"graph\" transform=\"scale(1 1) rotate(0) translate(4 767)\">\r\n",
       "<title>structs</title>\r\n",
       "<polygon fill=\"white\" stroke=\"none\" points=\"-4,4 -4,-767 771,-767 771,4 -4,4\"/>\r\n",
       "<!-- obj_207791344 -->\r\n",
       "<g id=\"node1\" class=\"node\"><title>obj_207791344</title>\r\n",
       "<polygon fill=\"white\" stroke=\"black\" points=\"0,-202.5 0,-238.5 77,-238.5 77,-202.5 0,-202.5\"/>\r\n",
       "<text text-anchor=\"middle\" x=\"38.5\" y=\"-216.8\" font-family=\"Times New Roman,serif\" font-size=\"14.00\">DataFrame</text>\r\n",
       "</g>\r\n",
       "<!-- obj_207790128 -->\r\n",
       "<g id=\"node2\" class=\"node\"><title>obj_207790128</title>\r\n",
       "<polygon fill=\"white\" stroke=\"black\" points=\"157.5,-580.5 157.5,-616.5 234.5,-616.5 234.5,-580.5 157.5,-580.5\"/>\r\n",
       "<text text-anchor=\"middle\" x=\"196\" y=\"-594.8\" font-family=\"Times New Roman,serif\" font-size=\"14.00\">MultiIndex</text>\r\n",
       "</g>\r\n",
       "<!-- obj_207791344&#45;&gt;obj_207790128 -->\r\n",
       "<g id=\"edge16\" class=\"edge\"><title>obj_207791344&#45;&gt;obj_207790128</title>\r\n",
       "<path fill=\"none\" stroke=\"black\" stroke-width=\"0.5\" d=\"M47.0001,-238.732C72.147,-299.86 153.579,-497.81 183.68,-570.982\"/>\r\n",
       "<polygon fill=\"black\" stroke=\"black\" stroke-width=\"0.5\" points=\"180.534,-572.535 187.575,-580.451 187.008,-569.872 180.534,-572.535\"/>\r\n",
       "<text text-anchor=\"middle\" x=\"112\" y=\"-435.5\" font-family=\"Times New Roman,serif\" font-size=\"10.00\">index</text>\r\n",
       "</g>\r\n",
       "<!-- obj_207790448 -->\r\n",
       "<g id=\"node18\" class=\"node\"><title>obj_207790448</title>\r\n",
       "<polygon fill=\"white\" stroke=\"black\" points=\"169,-280.5 169,-316.5 223,-316.5 223,-280.5 169,-280.5\"/>\r\n",
       "<text text-anchor=\"middle\" x=\"196\" y=\"-294.8\" font-family=\"Times New Roman,serif\" font-size=\"14.00\">Index</text>\r\n",
       "</g>\r\n",
       "<!-- obj_207791344&#45;&gt;obj_207790448 -->\r\n",
       "<g id=\"edge17\" class=\"edge\"><title>obj_207791344&#45;&gt;obj_207790448</title>\r\n",
       "<path fill=\"none\" stroke=\"black\" stroke-width=\"0.5\" d=\"M75.3167,-238.593C81.8628,-241.894 88.6349,-245.303 95,-248.5 116.465,-259.281 140.545,-271.322 159.696,-280.887\"/>\r\n",
       "<polygon fill=\"black\" stroke=\"black\" stroke-width=\"0.5\" points=\"158.158,-284.031 168.669,-285.367 161.285,-277.768 158.158,-284.031\"/>\r\n",
       "<text text-anchor=\"middle\" x=\"112\" y=\"-268.5\" font-family=\"Times New Roman,serif\" font-size=\"10.00\">columns</text>\r\n",
       "</g>\r\n",
       "<!-- obj_210377768 -->\r\n",
       "<g id=\"node19\" class=\"node\"><title>obj_210377768</title>\r\n",
       "<polygon fill=\"white\" stroke=\"black\" points=\"166.5,-225.5 166.5,-261.5 225.5,-261.5 225.5,-225.5 166.5,-225.5\"/>\r\n",
       "<text text-anchor=\"middle\" x=\"196\" y=\"-239.8\" font-family=\"Times New Roman,serif\" font-size=\"14.00\">ndarray</text>\r\n",
       "</g>\r\n",
       "<!-- obj_207791344&#45;&gt;obj_210377768 -->\r\n",
       "<g id=\"edge18\" class=\"edge\"><title>obj_207791344&#45;&gt;obj_210377768</title>\r\n",
       "<path fill=\"none\" stroke=\"black\" stroke-width=\"0.5\" stroke-dasharray=\"5,2\" d=\"M77.1422,-226.068C101.209,-229.627 132.335,-234.231 156.556,-237.814\"/>\r\n",
       "<polygon fill=\"black\" stroke=\"black\" stroke-width=\"0.5\" points=\"156.069,-241.28 166.473,-239.281 157.093,-234.355 156.069,-241.28\"/>\r\n",
       "<text text-anchor=\"middle\" x=\"112\" y=\"-236.5\" font-family=\"Times New Roman,serif\" font-size=\"10.00\">values</text>\r\n",
       "</g>\r\n",
       "<!-- obj_207894256 -->\r\n",
       "<g id=\"node20\" class=\"node\"><title>obj_207894256</title>\r\n",
       "<polygon fill=\"white\" stroke=\"black\" points=\"147,-170.5 147,-206.5 245,-206.5 245,-170.5 147,-170.5\"/>\r\n",
       "<text text-anchor=\"middle\" x=\"196\" y=\"-184.8\" font-family=\"Times New Roman,serif\" font-size=\"14.00\">BlockManager</text>\r\n",
       "</g>\r\n",
       "<!-- obj_207791344&#45;&gt;obj_207894256 -->\r\n",
       "<g id=\"edge30\" class=\"edge\"><title>obj_207791344&#45;&gt;obj_207894256</title>\r\n",
       "<path fill=\"none\" stroke=\"black\" stroke-width=\"0.5\" d=\"M77.1422,-212.754C95.0583,-209.067 116.887,-204.575 136.867,-200.463\"/>\r\n",
       "<polygon fill=\"black\" stroke=\"black\" stroke-width=\"0.5\" points=\"137.718,-203.861 146.807,-198.417 136.307,-197.005 137.718,-203.861\"/>\r\n",
       "<text text-anchor=\"middle\" x=\"112\" y=\"-211.5\" font-family=\"Times New Roman,serif\" font-size=\"10.00\">_data</text>\r\n",
       "</g>\r\n",
       "<!-- obj_210418832 -->\r\n",
       "<g id=\"node32\" class=\"node\"><title>obj_210418832</title>\r\n",
       "<polygon fill=\"gray\" stroke=\"black\" points=\"147,-71 147,-140 245,-140 245,-71 147,-71\"/>\r\n",
       "<text text-anchor=\"middle\" x=\"196\" y=\"-124.8\" font-family=\"Times New Roman,serif\" font-size=\"14.00\">object</text>\r\n",
       "<polyline fill=\"none\" stroke=\"black\" points=\"147,-117 245,-117 \"/>\r\n",
       "<text text-anchor=\"middle\" x=\"196\" y=\"-101.8\" font-family=\"Times New Roman,serif\" font-size=\"14.00\">datetime64[ns]</text>\r\n",
       "<polyline fill=\"none\" stroke=\"black\" points=\"147,-94 245,-94 \"/>\r\n",
       "<text text-anchor=\"middle\" x=\"196\" y=\"-78.8\" font-family=\"Times New Roman,serif\" font-size=\"14.00\">float64</text>\r\n",
       "</g>\r\n",
       "<!-- obj_207791344&#45;&gt;obj_210418832 -->\r\n",
       "<g id=\"edge34\" class=\"edge\"><title>obj_207791344&#45;&gt;obj_210418832</title>\r\n",
       "<path fill=\"none\" stroke=\"black\" stroke-width=\"0.5\" stroke-dasharray=\"5,2\" d=\"M64.1394,-202.278C84.4628,-187.248 114.06,-165.359 139.968,-146.199\"/>\r\n",
       "<polygon fill=\"black\" stroke=\"black\" stroke-width=\"0.5\" points=\"142.275,-148.846 148.234,-140.086 138.112,-143.218 142.275,-148.846\"/>\r\n",
       "<text text-anchor=\"middle\" x=\"112\" y=\"-180.5\" font-family=\"Times New Roman,serif\" font-size=\"10.00\">blocks</text>\r\n",
       "</g>\r\n",
       "<!-- obj_210377184 -->\r\n",
       "<g id=\"node36\" class=\"node\"><title>obj_210377184</title>\r\n",
       "<polygon fill=\"gray\" stroke=\"black\" points=\"169,-5.5 169,-51.5 223,-51.5 223,-5.5 169,-5.5\"/>\r\n",
       "<text text-anchor=\"middle\" x=\"196\" y=\"-36.3\" font-family=\"Times New Roman,serif\" font-size=\"14.00\">6</text>\r\n",
       "<polyline fill=\"none\" stroke=\"black\" points=\"169,-28.5 223,-28.5 \"/>\r\n",
       "<text text-anchor=\"middle\" x=\"196\" y=\"-13.3\" font-family=\"Times New Roman,serif\" font-size=\"14.00\">6</text>\r\n",
       "</g>\r\n",
       "<!-- obj_207791344&#45;&gt;obj_210377184 -->\r\n",
       "<g id=\"edge35\" class=\"edge\"><title>obj_207791344&#45;&gt;obj_210377184</title>\r\n",
       "<path fill=\"none\" stroke=\"black\" stroke-width=\"0.5\" stroke-dasharray=\"5,2\" d=\"M48.8855,-202.217C65.5841,-170.873 102.877,-105.968 147,-61.5 151.007,-57.4621 155.57,-53.6054 160.252,-50.0452\"/>\r\n",
       "<polygon fill=\"black\" stroke=\"black\" stroke-width=\"0.5\" points=\"162.623,-52.652 168.713,-43.9822 158.546,-46.962 162.623,-52.652\"/>\r\n",
       "<text text-anchor=\"middle\" x=\"112\" y=\"-126.5\" font-family=\"Times New Roman,serif\" font-size=\"10.00\">shape</text>\r\n",
       "</g>\r\n",
       "<!-- obj_207815968 -->\r\n",
       "<g id=\"node3\" class=\"node\"><title>obj_207815968</title>\r\n",
       "<polygon fill=\"white\" stroke=\"black\" points=\"330.5,-726.5 330.5,-762.5 389.5,-762.5 389.5,-726.5 330.5,-726.5\"/>\r\n",
       "<text text-anchor=\"middle\" x=\"360\" y=\"-740.8\" font-family=\"Times New Roman,serif\" font-size=\"14.00\">ndarray</text>\r\n",
       "</g>\r\n",
       "<!-- obj_207790128&#45;&gt;obj_207815968 -->\r\n",
       "<g id=\"edge1\" class=\"edge\"><title>obj_207790128&#45;&gt;obj_207815968</title>\r\n",
       "<path fill=\"none\" stroke=\"black\" stroke-width=\"0.5\" stroke-dasharray=\"5,2\" d=\"M212.361,-616.906C233.579,-641.641 273.808,-686.119 314,-717.5 316.435,-719.401 319.014,-721.272 321.657,-723.088\"/>\r\n",
       "<polygon fill=\"black\" stroke=\"black\" stroke-width=\"0.5\" points=\"319.926,-726.138 330.215,-728.668 323.75,-720.274 319.926,-726.138\"/>\r\n",
       "<text text-anchor=\"middle\" x=\"279.5\" y=\"-702.5\" font-family=\"Times New Roman,serif\" font-size=\"10.00\">values</text>\r\n",
       "</g>\r\n",
       "<!-- obj_210391536 -->\r\n",
       "<g id=\"node4\" class=\"node\"><title>obj_210391536</title>\r\n",
       "<polygon fill=\"gray\" stroke=\"black\" points=\"333,-671.5 333,-707.5 387,-707.5 387,-671.5 333,-671.5\"/>\r\n",
       "<text text-anchor=\"middle\" x=\"360\" y=\"-685.8\" font-family=\"Times New Roman,serif\" font-size=\"14.00\">6</text>\r\n",
       "</g>\r\n",
       "<!-- obj_207790128&#45;&gt;obj_210391536 -->\r\n",
       "<g id=\"edge2\" class=\"edge\"><title>obj_207790128&#45;&gt;obj_210391536</title>\r\n",
       "<path fill=\"none\" stroke=\"black\" stroke-width=\"0.5\" stroke-dasharray=\"5,2\" d=\"M229.394,-616.696C256.687,-632.028 295.663,-653.922 323.737,-669.692\"/>\r\n",
       "<polygon fill=\"black\" stroke=\"black\" stroke-width=\"0.5\" points=\"322.374,-672.94 332.807,-674.786 325.802,-666.837 322.374,-672.94\"/>\r\n",
       "<text text-anchor=\"middle\" x=\"279.5\" y=\"-654.5\" font-family=\"Times New Roman,serif\" font-size=\"10.00\">shape</text>\r\n",
       "</g>\r\n",
       "<!-- obj_207895280 -->\r\n",
       "<g id=\"node5\" class=\"node\"><title>obj_207895280</title>\r\n",
       "<polygon fill=\"white\" stroke=\"black\" points=\"314,-616.5 314,-652.5 406,-652.5 406,-616.5 314,-616.5\"/>\r\n",
       "<text text-anchor=\"middle\" x=\"360\" y=\"-630.8\" font-family=\"Times New Roman,serif\" font-size=\"14.00\">ObjectEngine</text>\r\n",
       "</g>\r\n",
       "<!-- obj_207790128&#45;&gt;obj_207895280 -->\r\n",
       "<g id=\"edge4\" class=\"edge\"><title>obj_207790128&#45;&gt;obj_207895280</title>\r\n",
       "<path fill=\"none\" stroke=\"black\" stroke-width=\"0.5\" d=\"M234.573,-606.85C255.173,-611.427 281.092,-617.187 303.935,-622.263\"/>\r\n",
       "<polygon fill=\"black\" stroke=\"black\" stroke-width=\"0.5\" points=\"303.326,-625.713 313.847,-624.466 304.844,-618.88 303.326,-625.713\"/>\r\n",
       "<text text-anchor=\"middle\" x=\"279.5\" y=\"-623.5\" font-family=\"Times New Roman,serif\" font-size=\"10.00\">_engine</text>\r\n",
       "</g>\r\n",
       "<!-- obj_208974832 -->\r\n",
       "<g id=\"node7\" class=\"node\"><title>obj_208974832</title>\r\n",
       "<polygon fill=\"gray\" stroke=\"black\" points=\"333,-551.5 333,-597.5 387,-597.5 387,-551.5 333,-551.5\"/>\r\n",
       "<text text-anchor=\"middle\" x=\"360\" y=\"-582.3\" font-family=\"Times New Roman,serif\" font-size=\"14.00\">*</text>\r\n",
       "<polyline fill=\"none\" stroke=\"black\" points=\"333,-574.5 387,-574.5 \"/>\r\n",
       "<text text-anchor=\"middle\" x=\"360\" y=\"-559.3\" font-family=\"Times New Roman,serif\" font-size=\"14.00\">*</text>\r\n",
       "</g>\r\n",
       "<!-- obj_207790128&#45;&gt;obj_208974832 -->\r\n",
       "<g id=\"edge7\" class=\"edge\"><title>obj_207790128&#45;&gt;obj_208974832</title>\r\n",
       "<path fill=\"none\" stroke=\"black\" stroke-width=\"0.5\" stroke-dasharray=\"5,2\" d=\"M234.689,-592.753C243.945,-591.351 253.83,-589.863 263,-588.5 282.776,-585.56 304.852,-582.336 322.844,-579.724\"/>\r\n",
       "<polygon fill=\"black\" stroke=\"black\" stroke-width=\"0.5\" points=\"323.523,-583.163 332.917,-578.264 322.519,-576.235 323.523,-583.163\"/>\r\n",
       "<text text-anchor=\"middle\" x=\"279.5\" y=\"-591.5\" font-family=\"Times New Roman,serif\" font-size=\"10.00\">labels</text>\r\n",
       "</g>\r\n",
       "<!-- obj_207686704 -->\r\n",
       "<g id=\"node10\" class=\"node\"><title>obj_207686704</title>\r\n",
       "<polygon fill=\"gray\" stroke=\"black\" points=\"333,-472.5 333,-518.5 387,-518.5 387,-472.5 333,-472.5\"/>\r\n",
       "<text text-anchor=\"middle\" x=\"360\" y=\"-503.3\" font-family=\"Times New Roman,serif\" font-size=\"14.00\">*</text>\r\n",
       "<polyline fill=\"none\" stroke=\"black\" points=\"333,-495.5 387,-495.5 \"/>\r\n",
       "<text text-anchor=\"middle\" x=\"360\" y=\"-480.3\" font-family=\"Times New Roman,serif\" font-size=\"14.00\">*</text>\r\n",
       "</g>\r\n",
       "<!-- obj_207790128&#45;&gt;obj_207686704 -->\r\n",
       "<g id=\"edge15\" class=\"edge\"><title>obj_207790128&#45;&gt;obj_207686704</title>\r\n",
       "<path fill=\"none\" stroke=\"black\" stroke-width=\"0.5\" stroke-dasharray=\"5,2\" d=\"M225.589,-580.323C253.084,-562.842 294.697,-536.384 324.126,-517.673\"/>\r\n",
       "<polygon fill=\"black\" stroke=\"black\" stroke-width=\"0.5\" points=\"326.277,-520.453 332.838,-512.134 322.522,-514.546 326.277,-520.453\"/>\r\n",
       "<text text-anchor=\"middle\" x=\"279.5\" y=\"-559.5\" font-family=\"Times New Roman,serif\" font-size=\"10.00\">levels</text>\r\n",
       "</g>\r\n",
       "<!-- obj_204204944 -->\r\n",
       "<g id=\"node6\" class=\"node\"><title>obj_204204944</title>\r\n",
       "<polygon fill=\"white\" stroke=\"black\" points=\"477,-654.5 477,-690.5 606,-690.5 606,-654.5 477,-654.5\"/>\r\n",
       "<text text-anchor=\"middle\" x=\"541.5\" y=\"-668.8\" font-family=\"Times New Roman,serif\" font-size=\"14.00\">PyObjectHashTable</text>\r\n",
       "</g>\r\n",
       "<!-- obj_207895280&#45;&gt;obj_204204944 -->\r\n",
       "<g id=\"edge3\" class=\"edge\"><title>obj_207895280&#45;&gt;obj_204204944</title>\r\n",
       "<path fill=\"none\" stroke=\"black\" stroke-width=\"0.5\" d=\"M406.295,-644.089C424.682,-647.981 446.398,-652.579 466.943,-656.928\"/>\r\n",
       "<polygon fill=\"black\" stroke=\"black\" stroke-width=\"0.5\" points=\"466.407,-660.392 476.915,-659.039 467.857,-653.544 466.407,-660.392\"/>\r\n",
       "<text text-anchor=\"middle\" x=\"441.5\" y=\"-657.5\" font-family=\"Times New Roman,serif\" font-size=\"10.00\">mapping</text>\r\n",
       "</g>\r\n",
       "<!-- obj_207894064 -->\r\n",
       "<g id=\"node8\" class=\"node\"><title>obj_207894064</title>\r\n",
       "<polygon fill=\"white\" stroke=\"black\" points=\"488,-599.5 488,-635.5 595,-635.5 595,-599.5 488,-599.5\"/>\r\n",
       "<text text-anchor=\"middle\" x=\"541.5\" y=\"-613.8\" font-family=\"Times New Roman,serif\" font-size=\"14.00\">FrozenNDArray</text>\r\n",
       "</g>\r\n",
       "<!-- obj_208974832&#45;&gt;obj_207894064 -->\r\n",
       "<g id=\"edge5\" class=\"edge\"><title>obj_208974832:f0&#45;&gt;obj_207894064</title>\r\n",
       "<path fill=\"none\" stroke=\"black\" stroke-width=\"0.5\" d=\"M388,-586.5C417.957,-586.5 450.574,-592.316 477.925,-598.909\"/>\r\n",
       "<polygon fill=\"black\" stroke=\"black\" stroke-width=\"0.5\" points=\"477.199,-602.335 487.749,-601.364 478.896,-595.544 477.199,-602.335\"/>\r\n",
       "</g>\r\n",
       "<!-- obj_207894896 -->\r\n",
       "<g id=\"node9\" class=\"node\"><title>obj_207894896</title>\r\n",
       "<polygon fill=\"white\" stroke=\"black\" points=\"488,-544.5 488,-580.5 595,-580.5 595,-544.5 488,-544.5\"/>\r\n",
       "<text text-anchor=\"middle\" x=\"541.5\" y=\"-558.8\" font-family=\"Times New Roman,serif\" font-size=\"14.00\">FrozenNDArray</text>\r\n",
       "</g>\r\n",
       "<!-- obj_208974832&#45;&gt;obj_207894896 -->\r\n",
       "<g id=\"edge6\" class=\"edge\"><title>obj_208974832:f1&#45;&gt;obj_207894896</title>\r\n",
       "<path fill=\"none\" stroke=\"black\" stroke-width=\"0.5\" d=\"M388,-562.5C417.463,-562.5 450.128,-562.5 477.644,-562.5\"/>\r\n",
       "<polygon fill=\"black\" stroke=\"black\" stroke-width=\"0.5\" points=\"477.92,-566 487.92,-562.5 477.92,-559 477.92,-566\"/>\r\n",
       "</g>\r\n",
       "<!-- obj_207790320 -->\r\n",
       "<g id=\"node11\" class=\"node\"><title>obj_207790320</title>\r\n",
       "<polygon fill=\"white\" stroke=\"black\" points=\"514.5,-489.5 514.5,-525.5 568.5,-525.5 568.5,-489.5 514.5,-489.5\"/>\r\n",
       "<text text-anchor=\"middle\" x=\"541.5\" y=\"-503.8\" font-family=\"Times New Roman,serif\" font-size=\"14.00\">Index</text>\r\n",
       "</g>\r\n",
       "<!-- obj_207686704&#45;&gt;obj_207790320 -->\r\n",
       "<g id=\"edge13\" class=\"edge\"><title>obj_207686704:f0&#45;&gt;obj_207790320</title>\r\n",
       "<path fill=\"none\" stroke=\"black\" stroke-width=\"0.5\" d=\"M388,-507.5C427.67,-507.5 473.144,-507.5 504.038,-507.5\"/>\r\n",
       "<polygon fill=\"black\" stroke=\"black\" stroke-width=\"0.5\" points=\"504.325,-511 514.325,-507.5 504.325,-504 504.325,-511\"/>\r\n",
       "</g>\r\n",
       "<!-- obj_207790384 -->\r\n",
       "<g id=\"node17\" class=\"node\"><title>obj_207790384</title>\r\n",
       "<polygon fill=\"white\" stroke=\"black\" points=\"514.5,-434.5 514.5,-470.5 568.5,-470.5 568.5,-434.5 514.5,-434.5\"/>\r\n",
       "<text text-anchor=\"middle\" x=\"541.5\" y=\"-448.8\" font-family=\"Times New Roman,serif\" font-size=\"14.00\">Index</text>\r\n",
       "</g>\r\n",
       "<!-- obj_207686704&#45;&gt;obj_207790384 -->\r\n",
       "<g id=\"edge14\" class=\"edge\"><title>obj_207686704:f1&#45;&gt;obj_207790384</title>\r\n",
       "<path fill=\"none\" stroke=\"black\" stroke-width=\"0.5\" d=\"M388,-483.5C428.536,-483.5 473.941,-472.851 504.583,-464.036\"/>\r\n",
       "<polygon fill=\"black\" stroke=\"black\" stroke-width=\"0.5\" points=\"505.785,-467.331 514.38,-461.135 503.798,-460.619 505.785,-467.331\"/>\r\n",
       "</g>\r\n",
       "<!-- obj_210377448 -->\r\n",
       "<g id=\"node12\" class=\"node\"><title>obj_210377448</title>\r\n",
       "<polygon fill=\"white\" stroke=\"black\" points=\"691.5,-627.5 691.5,-663.5 750.5,-663.5 750.5,-627.5 691.5,-627.5\"/>\r\n",
       "<text text-anchor=\"middle\" x=\"721\" y=\"-641.8\" font-family=\"Times New Roman,serif\" font-size=\"14.00\">ndarray</text>\r\n",
       "</g>\r\n",
       "<!-- obj_207790320&#45;&gt;obj_210377448 -->\r\n",
       "<g id=\"edge8\" class=\"edge\"><title>obj_207790320&#45;&gt;obj_210377448</title>\r\n",
       "<path fill=\"none\" stroke=\"black\" stroke-width=\"0.5\" stroke-dasharray=\"5,2\" d=\"M568.802,-513.893C581.327,-518.042 595.768,-524.574 606,-534.5 619.702,-547.792 612.513,-558.253 624,-573.5 642.014,-597.41 650.885,-599.761 675,-617.5 677.594,-619.408 680.32,-621.318 683.093,-623.194\"/>\r\n",
       "<polygon fill=\"black\" stroke=\"black\" stroke-width=\"0.5\" points=\"681.187,-626.129 691.47,-628.68 685.023,-620.273 681.187,-626.129\"/>\r\n",
       "<text text-anchor=\"middle\" x=\"640.5\" y=\"-608.5\" font-family=\"Times New Roman,serif\" font-size=\"10.00\">values</text>\r\n",
       "</g>\r\n",
       "<!-- obj_208033696 -->\r\n",
       "<g id=\"node13\" class=\"node\"><title>obj_208033696</title>\r\n",
       "<polygon fill=\"white\" stroke=\"black\" points=\"693,-572.5 693,-608.5 749,-608.5 749,-572.5 693,-572.5\"/>\r\n",
       "<text text-anchor=\"middle\" x=\"721\" y=\"-586.8\" font-family=\"Times New Roman,serif\" font-size=\"14.00\">&#39;Depth&#39;</text>\r\n",
       "</g>\r\n",
       "<!-- obj_207790320&#45;&gt;obj_208033696 -->\r\n",
       "<g id=\"edge9\" class=\"edge\"><title>obj_207790320&#45;&gt;obj_208033696</title>\r\n",
       "<path fill=\"none\" stroke=\"black\" stroke-width=\"0.5\" d=\"M568.592,-518.217C580.121,-523.049 593.801,-528.915 606,-534.5 632.14,-546.467 661.222,-560.769 683.47,-571.924\"/>\r\n",
       "<polygon fill=\"black\" stroke=\"black\" stroke-width=\"0.5\" points=\"682.052,-575.129 692.558,-576.496 685.198,-568.875 682.052,-575.129\"/>\r\n",
       "<text text-anchor=\"middle\" x=\"640.5\" y=\"-561.5\" font-family=\"Times New Roman,serif\" font-size=\"10.00\">name</text>\r\n",
       "</g>\r\n",
       "<!-- obj_207613688 -->\r\n",
       "<g id=\"node14\" class=\"node\"><title>obj_207613688</title>\r\n",
       "<polygon fill=\"white\" stroke=\"black\" points=\"691.5,-517.5 691.5,-553.5 750.5,-553.5 750.5,-517.5 691.5,-517.5\"/>\r\n",
       "<text text-anchor=\"middle\" x=\"721\" y=\"-531.8\" font-family=\"Times New Roman,serif\" font-size=\"14.00\">ndarray</text>\r\n",
       "</g>\r\n",
       "<!-- obj_207790320&#45;&gt;obj_207613688 -->\r\n",
       "<g id=\"edge10\" class=\"edge\"><title>obj_207790320&#45;&gt;obj_207613688</title>\r\n",
       "<path fill=\"none\" stroke=\"black\" stroke-width=\"0.5\" d=\"M568.691,-511.631C598.405,-516.319 647.154,-524.009 681.267,-529.39\"/>\r\n",
       "<polygon fill=\"black\" stroke=\"black\" stroke-width=\"0.5\" points=\"680.923,-532.879 691.346,-530.98 682.014,-525.964 680.923,-532.879\"/>\r\n",
       "<text text-anchor=\"middle\" x=\"640.5\" y=\"-528.5\" font-family=\"Times New Roman,serif\" font-size=\"10.00\">_data</text>\r\n",
       "</g>\r\n",
       "<!-- obj_210391824 -->\r\n",
       "<g id=\"node15\" class=\"node\"><title>obj_210391824</title>\r\n",
       "<polygon fill=\"gray\" stroke=\"black\" points=\"694,-462.5 694,-498.5 748,-498.5 748,-462.5 694,-462.5\"/>\r\n",
       "<text text-anchor=\"middle\" x=\"721\" y=\"-476.8\" font-family=\"Times New Roman,serif\" font-size=\"14.00\">2</text>\r\n",
       "</g>\r\n",
       "<!-- obj_207790320&#45;&gt;obj_210391824 -->\r\n",
       "<g id=\"edge11\" class=\"edge\"><title>obj_207790320&#45;&gt;obj_210391824</title>\r\n",
       "<path fill=\"none\" stroke=\"black\" stroke-width=\"0.5\" stroke-dasharray=\"5,2\" d=\"M568.691,-503.516C599.191,-498.877 649.749,-491.186 683.944,-485.985\"/>\r\n",
       "<polygon fill=\"black\" stroke=\"black\" stroke-width=\"0.5\" points=\"684.631,-489.42 693.991,-484.456 683.578,-482.5 684.631,-489.42\"/>\r\n",
       "<text text-anchor=\"middle\" x=\"640.5\" y=\"-498.5\" font-family=\"Times New Roman,serif\" font-size=\"10.00\">shape</text>\r\n",
       "</g>\r\n",
       "<!-- obj_207892848 -->\r\n",
       "<g id=\"node16\" class=\"node\"><title>obj_207892848</title>\r\n",
       "<polygon fill=\"white\" stroke=\"black\" points=\"675,-407.5 675,-443.5 767,-443.5 767,-407.5 675,-407.5\"/>\r\n",
       "<text text-anchor=\"middle\" x=\"721\" y=\"-421.8\" font-family=\"Times New Roman,serif\" font-size=\"14.00\">ObjectEngine</text>\r\n",
       "</g>\r\n",
       "<!-- obj_207790320&#45;&gt;obj_207892848 -->\r\n",
       "<g id=\"edge12\" class=\"edge\"><title>obj_207790320&#45;&gt;obj_207892848</title>\r\n",
       "<path fill=\"none\" stroke=\"black\" stroke-width=\"0.5\" d=\"M568.523,-496.215C580.039,-491.172 593.728,-485.111 606,-479.5 628.28,-469.313 652.857,-457.718 673.469,-447.89\"/>\r\n",
       "<polygon fill=\"black\" stroke=\"black\" stroke-width=\"0.5\" points=\"675.123,-450.979 682.638,-443.51 672.105,-444.663 675.123,-450.979\"/>\r\n",
       "<text text-anchor=\"middle\" x=\"640.5\" y=\"-474.5\" font-family=\"Times New Roman,serif\" font-size=\"10.00\">_engine</text>\r\n",
       "</g>\r\n",
       "<!-- obj_207916088 -->\r\n",
       "<g id=\"node21\" class=\"node\"><title>obj_207916088</title>\r\n",
       "<polygon fill=\"gray\" stroke=\"black\" points=\"333,-231 333,-300 387,-300 387,-231 333,-231\"/>\r\n",
       "<text text-anchor=\"middle\" x=\"360\" y=\"-284.8\" font-family=\"Times New Roman,serif\" font-size=\"14.00\">*</text>\r\n",
       "<polyline fill=\"none\" stroke=\"black\" points=\"333,-277 387,-277 \"/>\r\n",
       "<text text-anchor=\"middle\" x=\"360\" y=\"-261.8\" font-family=\"Times New Roman,serif\" font-size=\"14.00\">*</text>\r\n",
       "<polyline fill=\"none\" stroke=\"black\" points=\"333,-254 387,-254 \"/>\r\n",
       "<text text-anchor=\"middle\" x=\"360\" y=\"-238.8\" font-family=\"Times New Roman,serif\" font-size=\"14.00\">*</text>\r\n",
       "</g>\r\n",
       "<!-- obj_207894256&#45;&gt;obj_207916088 -->\r\n",
       "<g id=\"edge28\" class=\"edge\"><title>obj_207894256&#45;&gt;obj_207916088</title>\r\n",
       "<path fill=\"none\" stroke=\"black\" stroke-width=\"0.5\" d=\"M234.982,-206.553C261.802,-219.301 297.486,-236.262 323.689,-248.717\"/>\r\n",
       "<polygon fill=\"black\" stroke=\"black\" stroke-width=\"0.5\" points=\"322.346,-251.953 332.881,-253.085 325.351,-245.631 322.346,-251.953\"/>\r\n",
       "<text text-anchor=\"middle\" x=\"279.5\" y=\"-237.5\" font-family=\"Times New Roman,serif\" font-size=\"10.00\">blocks</text>\r\n",
       "</g>\r\n",
       "<!-- obj_210437024 -->\r\n",
       "<g id=\"node31\" class=\"node\"><title>obj_210437024</title>\r\n",
       "<polygon fill=\"gray\" stroke=\"black\" points=\"333,-165.5 333,-211.5 387,-211.5 387,-165.5 333,-165.5\"/>\r\n",
       "<text text-anchor=\"middle\" x=\"360\" y=\"-196.3\" font-family=\"Times New Roman,serif\" font-size=\"14.00\">6</text>\r\n",
       "<polyline fill=\"none\" stroke=\"black\" points=\"333,-188.5 387,-188.5 \"/>\r\n",
       "<text text-anchor=\"middle\" x=\"360\" y=\"-173.3\" font-family=\"Times New Roman,serif\" font-size=\"14.00\">6</text>\r\n",
       "</g>\r\n",
       "<!-- obj_207894256&#45;&gt;obj_210437024 -->\r\n",
       "<g id=\"edge29\" class=\"edge\"><title>obj_207894256&#45;&gt;obj_210437024</title>\r\n",
       "<path fill=\"none\" stroke=\"black\" stroke-width=\"0.5\" stroke-dasharray=\"5,2\" d=\"M245.167,-188.5C269.966,-188.5 299.707,-188.5 322.57,-188.5\"/>\r\n",
       "<polygon fill=\"black\" stroke=\"black\" stroke-width=\"0.5\" points=\"322.868,-192 332.868,-188.5 322.868,-185 322.868,-192\"/>\r\n",
       "<text text-anchor=\"middle\" x=\"279.5\" y=\"-191.5\" font-family=\"Times New Roman,serif\" font-size=\"10.00\">shape</text>\r\n",
       "</g>\r\n",
       "<!-- obj_208975120 -->\r\n",
       "<g id=\"node22\" class=\"node\"><title>obj_208975120</title>\r\n",
       "<polygon fill=\"white\" stroke=\"black\" points=\"502.5,-292.5 502.5,-328.5 580.5,-328.5 580.5,-292.5 502.5,-292.5\"/>\r\n",
       "<text text-anchor=\"middle\" x=\"541.5\" y=\"-306.8\" font-family=\"Times New Roman,serif\" font-size=\"14.00\">FloatBlock</text>\r\n",
       "</g>\r\n",
       "<!-- obj_207916088&#45;&gt;obj_208975120 -->\r\n",
       "<g id=\"edge21\" class=\"edge\"><title>obj_207916088:f0&#45;&gt;obj_208975120</title>\r\n",
       "<path fill=\"none\" stroke=\"black\" stroke-width=\"0.5\" d=\"M388,-288.5C423.175,-288.5 462.45,-294.305 492.333,-299.951\"/>\r\n",
       "<polygon fill=\"black\" stroke=\"black\" stroke-width=\"0.5\" points=\"492.004,-303.452 502.489,-301.931 493.344,-296.582 492.004,-303.452\"/>\r\n",
       "</g>\r\n",
       "<!-- obj_208974544 -->\r\n",
       "<g id=\"node25\" class=\"node\"><title>obj_208974544</title>\r\n",
       "<polygon fill=\"white\" stroke=\"black\" points=\"492.5,-232.5 492.5,-268.5 590.5,-268.5 590.5,-232.5 492.5,-232.5\"/>\r\n",
       "<text text-anchor=\"middle\" x=\"541.5\" y=\"-246.8\" font-family=\"Times New Roman,serif\" font-size=\"14.00\">DatetimeBlock</text>\r\n",
       "</g>\r\n",
       "<!-- obj_207916088&#45;&gt;obj_208974544 -->\r\n",
       "<g id=\"edge24\" class=\"edge\"><title>obj_207916088:f1&#45;&gt;obj_208974544</title>\r\n",
       "<path fill=\"none\" stroke=\"black\" stroke-width=\"0.5\" d=\"M388,-265.5C419.157,-265.5 453.724,-262.361 482.059,-258.954\"/>\r\n",
       "<polygon fill=\"black\" stroke=\"black\" stroke-width=\"0.5\" points=\"482.708,-262.401 492.199,-257.692 481.843,-255.454 482.708,-262.401\"/>\r\n",
       "</g>\r\n",
       "<!-- obj_208975456 -->\r\n",
       "<g id=\"node28\" class=\"node\"><title>obj_208975456</title>\r\n",
       "<polygon fill=\"white\" stroke=\"black\" points=\"498,-112.5 498,-148.5 585,-148.5 585,-112.5 498,-112.5\"/>\r\n",
       "<text text-anchor=\"middle\" x=\"541.5\" y=\"-126.8\" font-family=\"Times New Roman,serif\" font-size=\"14.00\">ObjectBlock</text>\r\n",
       "</g>\r\n",
       "<!-- obj_207916088&#45;&gt;obj_208975456 -->\r\n",
       "<g id=\"edge27\" class=\"edge\"><title>obj_207916088:f2&#45;&gt;obj_208975456</title>\r\n",
       "<path fill=\"none\" stroke=\"black\" stroke-width=\"0.5\" d=\"M388,-242.5C445.537,-242.5 495.73,-190.069 521.694,-156.954\"/>\r\n",
       "<polygon fill=\"black\" stroke=\"black\" stroke-width=\"0.5\" points=\"524.483,-159.069 527.763,-148.995 518.916,-154.825 524.483,-159.069\"/>\r\n",
       "</g>\r\n",
       "<!-- obj_208145848 -->\r\n",
       "<g id=\"node23\" class=\"node\"><title>obj_208145848</title>\r\n",
       "<polygon fill=\"white\" stroke=\"black\" points=\"691.5,-352.5 691.5,-388.5 750.5,-388.5 750.5,-352.5 691.5,-352.5\"/>\r\n",
       "<text text-anchor=\"middle\" x=\"721\" y=\"-366.8\" font-family=\"Times New Roman,serif\" font-size=\"14.00\">ndarray</text>\r\n",
       "</g>\r\n",
       "<!-- obj_208975120&#45;&gt;obj_208145848 -->\r\n",
       "<g id=\"edge19\" class=\"edge\"><title>obj_208975120&#45;&gt;obj_208145848</title>\r\n",
       "<path fill=\"none\" stroke=\"black\" stroke-width=\"0.5\" d=\"M580.578,-323.372C610.414,-333.457 651.739,-347.426 681.645,-357.535\"/>\r\n",
       "<polygon fill=\"black\" stroke=\"black\" stroke-width=\"0.5\" points=\"680.722,-360.918 691.317,-360.804 682.964,-354.286 680.722,-360.918\"/>\r\n",
       "<text text-anchor=\"middle\" x=\"640.5\" y=\"-351.5\" font-family=\"Times New Roman,serif\" font-size=\"10.00\">values</text>\r\n",
       "</g>\r\n",
       "<!-- obj_210377104 -->\r\n",
       "<g id=\"node24\" class=\"node\"><title>obj_210377104</title>\r\n",
       "<polygon fill=\"gray\" stroke=\"black\" points=\"694,-287.5 694,-333.5 748,-333.5 748,-287.5 694,-287.5\"/>\r\n",
       "<text text-anchor=\"middle\" x=\"721\" y=\"-318.3\" font-family=\"Times New Roman,serif\" font-size=\"14.00\">4</text>\r\n",
       "<polyline fill=\"none\" stroke=\"black\" points=\"694,-310.5 748,-310.5 \"/>\r\n",
       "<text text-anchor=\"middle\" x=\"721\" y=\"-295.3\" font-family=\"Times New Roman,serif\" font-size=\"14.00\">6</text>\r\n",
       "</g>\r\n",
       "<!-- obj_208975120&#45;&gt;obj_210377104 -->\r\n",
       "<g id=\"edge20\" class=\"edge\"><title>obj_208975120&#45;&gt;obj_210377104</title>\r\n",
       "<path fill=\"none\" stroke=\"black\" stroke-width=\"0.5\" stroke-dasharray=\"5,2\" d=\"M580.578,-310.5C611.104,-310.5 653.658,-310.5 683.703,-310.5\"/>\r\n",
       "<polygon fill=\"black\" stroke=\"black\" stroke-width=\"0.5\" points=\"683.768,-314 693.768,-310.5 683.768,-307 683.768,-314\"/>\r\n",
       "<text text-anchor=\"middle\" x=\"640.5\" y=\"-313.5\" font-family=\"Times New Roman,serif\" font-size=\"10.00\">shape</text>\r\n",
       "</g>\r\n",
       "<!-- obj_208142888 -->\r\n",
       "<g id=\"node26\" class=\"node\"><title>obj_208142888</title>\r\n",
       "<polygon fill=\"white\" stroke=\"black\" points=\"691.5,-232.5 691.5,-268.5 750.5,-268.5 750.5,-232.5 691.5,-232.5\"/>\r\n",
       "<text text-anchor=\"middle\" x=\"721\" y=\"-246.8\" font-family=\"Times New Roman,serif\" font-size=\"14.00\">ndarray</text>\r\n",
       "</g>\r\n",
       "<!-- obj_208974544&#45;&gt;obj_208142888 -->\r\n",
       "<g id=\"edge22\" class=\"edge\"><title>obj_208974544&#45;&gt;obj_208142888</title>\r\n",
       "<path fill=\"none\" stroke=\"black\" stroke-width=\"0.5\" d=\"M590.534,-250.5C618.995,-250.5 654.587,-250.5 681.247,-250.5\"/>\r\n",
       "<polygon fill=\"black\" stroke=\"black\" stroke-width=\"0.5\" points=\"681.354,-254 691.354,-250.5 681.354,-247 681.354,-254\"/>\r\n",
       "<text text-anchor=\"middle\" x=\"640.5\" y=\"-253.5\" font-family=\"Times New Roman,serif\" font-size=\"10.00\">values</text>\r\n",
       "</g>\r\n",
       "<!-- obj_210378224 -->\r\n",
       "<g id=\"node27\" class=\"node\"><title>obj_210378224</title>\r\n",
       "<polygon fill=\"gray\" stroke=\"black\" points=\"694,-167.5 694,-213.5 748,-213.5 748,-167.5 694,-167.5\"/>\r\n",
       "<text text-anchor=\"middle\" x=\"721\" y=\"-198.3\" font-family=\"Times New Roman,serif\" font-size=\"14.00\">1</text>\r\n",
       "<polyline fill=\"none\" stroke=\"black\" points=\"694,-190.5 748,-190.5 \"/>\r\n",
       "<text text-anchor=\"middle\" x=\"721\" y=\"-175.3\" font-family=\"Times New Roman,serif\" font-size=\"14.00\">6</text>\r\n",
       "</g>\r\n",
       "<!-- obj_208974544&#45;&gt;obj_210378224 -->\r\n",
       "<g id=\"edge23\" class=\"edge\"><title>obj_208974544&#45;&gt;obj_210378224</title>\r\n",
       "<path fill=\"none\" stroke=\"black\" stroke-width=\"0.5\" stroke-dasharray=\"5,2\" d=\"M590.534,-234.263C620.031,-224.292 657.189,-211.732 684.123,-202.627\"/>\r\n",
       "<polygon fill=\"black\" stroke=\"black\" stroke-width=\"0.5\" points=\"685.555,-205.838 693.908,-199.32 683.313,-199.207 685.555,-205.838\"/>\r\n",
       "<text text-anchor=\"middle\" x=\"640.5\" y=\"-225.5\" font-family=\"Times New Roman,serif\" font-size=\"10.00\">shape</text>\r\n",
       "</g>\r\n",
       "<!-- obj_207612768 -->\r\n",
       "<g id=\"node29\" class=\"node\"><title>obj_207612768</title>\r\n",
       "<polygon fill=\"white\" stroke=\"black\" points=\"691.5,-112.5 691.5,-148.5 750.5,-148.5 750.5,-112.5 691.5,-112.5\"/>\r\n",
       "<text text-anchor=\"middle\" x=\"721\" y=\"-126.8\" font-family=\"Times New Roman,serif\" font-size=\"14.00\">ndarray</text>\r\n",
       "</g>\r\n",
       "<!-- obj_208975456&#45;&gt;obj_207612768 -->\r\n",
       "<g id=\"edge25\" class=\"edge\"><title>obj_208975456&#45;&gt;obj_207612768</title>\r\n",
       "<path fill=\"none\" stroke=\"black\" stroke-width=\"0.5\" d=\"M585.016,-130.5C614.209,-130.5 652.661,-130.5 681.056,-130.5\"/>\r\n",
       "<polygon fill=\"black\" stroke=\"black\" stroke-width=\"0.5\" points=\"681.405,-134 691.405,-130.5 681.405,-127 681.405,-134\"/>\r\n",
       "<text text-anchor=\"middle\" x=\"640.5\" y=\"-133.5\" font-family=\"Times New Roman,serif\" font-size=\"10.00\">values</text>\r\n",
       "</g>\r\n",
       "<!-- obj_210377304 -->\r\n",
       "<g id=\"node30\" class=\"node\"><title>obj_210377304</title>\r\n",
       "<polygon fill=\"gray\" stroke=\"black\" points=\"694,-47.5 694,-93.5 748,-93.5 748,-47.5 694,-47.5\"/>\r\n",
       "<text text-anchor=\"middle\" x=\"721\" y=\"-78.3\" font-family=\"Times New Roman,serif\" font-size=\"14.00\">1</text>\r\n",
       "<polyline fill=\"none\" stroke=\"black\" points=\"694,-70.5 748,-70.5 \"/>\r\n",
       "<text text-anchor=\"middle\" x=\"721\" y=\"-55.3\" font-family=\"Times New Roman,serif\" font-size=\"14.00\">6</text>\r\n",
       "</g>\r\n",
       "<!-- obj_208975456&#45;&gt;obj_210377304 -->\r\n",
       "<g id=\"edge26\" class=\"edge\"><title>obj_208975456&#45;&gt;obj_210377304</title>\r\n",
       "<path fill=\"none\" stroke=\"black\" stroke-width=\"0.5\" stroke-dasharray=\"5,2\" d=\"M585.016,-116.129C615.292,-105.894 655.527,-92.2938 684.173,-82.6105\"/>\r\n",
       "<polygon fill=\"black\" stroke=\"black\" stroke-width=\"0.5\" points=\"685.434,-85.8788 693.787,-79.3608 683.193,-79.2474 685.434,-85.8788\"/>\r\n",
       "<text text-anchor=\"middle\" x=\"640.5\" y=\"-105.5\" font-family=\"Times New Roman,serif\" font-size=\"10.00\">shape</text>\r\n",
       "</g>\r\n",
       "<!-- obj_210393008 -->\r\n",
       "<g id=\"node33\" class=\"node\"><title>obj_210393008</title>\r\n",
       "<polygon fill=\"white\" stroke=\"black\" points=\"321.5,-110.5 321.5,-146.5 398.5,-146.5 398.5,-110.5 321.5,-110.5\"/>\r\n",
       "<text text-anchor=\"middle\" x=\"360\" y=\"-124.8\" font-family=\"Times New Roman,serif\" font-size=\"14.00\">DataFrame</text>\r\n",
       "</g>\r\n",
       "<!-- obj_210418832&#45;&gt;obj_210393008 -->\r\n",
       "<g id=\"edge31\" class=\"edge\"><title>obj_210418832:fobject&#45;&gt;obj_210393008</title>\r\n",
       "<path fill=\"none\" stroke=\"black\" stroke-width=\"0.5\" d=\"M245,-128.5C266.757,-128.5 290.849,-128.5 311.259,-128.5\"/>\r\n",
       "<polygon fill=\"black\" stroke=\"black\" stroke-width=\"0.5\" points=\"311.26,-132 321.259,-128.5 311.259,-125 311.26,-132\"/>\r\n",
       "</g>\r\n",
       "<!-- obj_210392240 -->\r\n",
       "<g id=\"node34\" class=\"node\"><title>obj_210392240</title>\r\n",
       "<polygon fill=\"white\" stroke=\"black\" points=\"321.5,-55.5 321.5,-91.5 398.5,-91.5 398.5,-55.5 321.5,-55.5\"/>\r\n",
       "<text text-anchor=\"middle\" x=\"360\" y=\"-69.8\" font-family=\"Times New Roman,serif\" font-size=\"14.00\">DataFrame</text>\r\n",
       "</g>\r\n",
       "<!-- obj_210418832&#45;&gt;obj_210392240 -->\r\n",
       "<g id=\"edge32\" class=\"edge\"><title>obj_210418832:fdatetime64ns&#45;&gt;obj_210392240</title>\r\n",
       "<path fill=\"none\" stroke=\"black\" stroke-width=\"0.5\" d=\"M245.348,-95.8121C266.365,-91.6861 290.779,-86.8931 311.58,-82.8094\"/>\r\n",
       "<polygon fill=\"black\" stroke=\"black\" stroke-width=\"0.5\" points=\"312.333,-86.2286 321.471,-80.8676 310.984,-79.3597 312.333,-86.2286\"/>\r\n",
       "</g>\r\n",
       "<!-- obj_210393360 -->\r\n",
       "<g id=\"node35\" class=\"node\"><title>obj_210393360</title>\r\n",
       "<polygon fill=\"white\" stroke=\"black\" points=\"321.5,-0.5 321.5,-36.5 398.5,-36.5 398.5,-0.5 321.5,-0.5\"/>\r\n",
       "<text text-anchor=\"middle\" x=\"360\" y=\"-14.8\" font-family=\"Times New Roman,serif\" font-size=\"14.00\">DataFrame</text>\r\n",
       "</g>\r\n",
       "<!-- obj_210418832&#45;&gt;obj_210393360 -->\r\n",
       "<g id=\"edge33\" class=\"edge\"><title>obj_210418832:ffloat64&#45;&gt;obj_210393360</title>\r\n",
       "<path fill=\"none\" stroke=\"black\" stroke-width=\"0.5\" d=\"M245,-82.5C249.287,-82.5 288.221,-60.208 319.413,-41.9366\"/>\r\n",
       "<polygon fill=\"black\" stroke=\"black\" stroke-width=\"0.5\" points=\"321.533,-44.7508 328.383,-36.6686 317.988,-38.7148 321.533,-44.7508\"/>\r\n",
       "</g>\r\n",
       "</g>\r\n",
       "</svg>\r\n"
      ]
     },
     "metadata": {},
     "output_type": "display_data"
    }
   ],
   "source": [
    "#%fig=DataFrame物件的內定結構\n",
    "from scpy2.common import GraphvizDataFrame\n",
    "%dot GraphvizDataFrame.graphviz(df_soil)"
   ]
  },
  {
   "cell_type": "code",
   "execution_count": 92,
   "metadata": {
    "collapsed": false,
    "group_control": {
     "group": 0
    }
   },
   "outputs": [
    {
     "data": {
      "text/plain": [
       "4"
      ]
     },
     "execution_count": 92,
     "metadata": {},
     "output_type": "execute_result"
    }
   ],
   "source": [
    "df_soil.columns._engine.mapping.get_item(\"Date\")"
   ]
  },
  {
   "cell_type": "code",
   "execution_count": 93,
   "metadata": {
    "collapsed": false,
    "group_control": {
     "group": 0
    }
   },
   "outputs": [
    {
     "data": {
      "text/plain": [
       "True"
      ]
     },
     "execution_count": 93,
     "metadata": {},
     "output_type": "execute_result"
    }
   ],
   "source": [
    "s = df_soil[\"Dens\"]\n",
    "s.values.base is df_soil._data.blocks[0].values"
   ]
  },
  {
   "cell_type": "code",
   "execution_count": 94,
   "metadata": {
    "collapsed": false,
    "group_control": {
     "group": 0
    }
   },
   "outputs": [
    {
     "name": "stdout",
     "output_type": "stream",
     "text": [
      "None\n"
     ]
    }
   ],
   "source": [
    "print df_soil[[\"Dens\"]]._data.blocks[0].values.base"
   ]
  },
  {
   "cell_type": "code",
   "execution_count": 98,
   "metadata": {
    "collapsed": false,
    "group_control": {
     "group": 0
    }
   },
   "outputs": [
    {
     "data": {
      "text/plain": [
       "True"
      ]
     },
     "execution_count": 98,
     "metadata": {},
     "output_type": "execute_result"
    }
   ],
   "source": [
    "df_float = df_soil[['pH', 'Dens', 'Ca', 'Conduc']]\n",
    "df_float.values.base is df_float._data.blocks[0].values"
   ]
  },
  {
   "cell_type": "code",
   "execution_count": 99,
   "metadata": {
    "collapsed": false,
    "group_control": {
     "group": 0
    }
   },
   "outputs": [
    {
     "data": {
      "text/plain": [
       "True"
      ]
     },
     "execution_count": 99,
     "metadata": {},
     "output_type": "execute_result"
    }
   ],
   "source": [
    "df_float.loc[\"0-10\", \"Top\"].values.base is df_float._data.blocks[0].values"
   ]
  },
  {
   "cell_type": "code",
   "execution_count": 100,
   "metadata": {
    "collapsed": false,
    "group_control": {
     "group": 0
    }
   },
   "outputs": [
    {
     "data": {
      "text/plain": [
       "dtype('O')"
      ]
     },
     "execution_count": 100,
     "metadata": {},
     "output_type": "execute_result"
    }
   ],
   "source": [
    "df_soil.values.dtype"
   ]
  }
 ],
 "metadata": {
  "kernelspec": {
   "display_name": "Python 2",
   "language": "python",
   "name": "python2"
  },
  "language_info": {
   "codemirror_mode": {
    "name": "ipython",
    "version": 2
   },
   "file_extension": ".py",
   "mimetype": "text/x-python",
   "name": "python",
   "nbconvert_exporter": "python",
   "pygments_lexer": "ipython2",
   "version": "2.7.9"
  }
 },
 "nbformat": 4,
 "nbformat_minor": 0
}
