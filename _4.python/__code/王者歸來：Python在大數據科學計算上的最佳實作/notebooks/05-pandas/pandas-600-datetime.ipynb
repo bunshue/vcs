﻿{
 "cells": [
  {
   "cell_type": "code",
   "execution_count": 1,
   "metadata": {
    "collapsed": true
   },
   "outputs": [],
   "source": [
    "import pandas as pd\n",
    "import numpy as np"
   ]
  },
  {
   "cell_type": "markdown",
   "metadata": {},
   "source": [
    "## 時間序列"
   ]
  },
  {
   "cell_type": "markdown",
   "metadata": {},
   "source": [
    "### 時間點、時間段、時間間隔"
   ]
  },
  {
   "cell_type": "code",
   "execution_count": 2,
   "metadata": {
    "collapsed": false
   },
   "outputs": [
    {
     "name": "stdout",
     "output_type": "stream",
     "text": [
      "本機時間: 2015-07-25 11:50:46.264000\n",
      "上海時區: 2015-07-25 11:50:46.264000+08:00\n",
      "東京時區: 2015-07-25 12:50:46.264000+09:00\n"
     ]
    }
   ],
   "source": [
    "now = pd.Timestamp.now()\n",
    "now_shanghai = now.tz_localize(\"Asia/Shanghai\")\n",
    "now_tokyo = now_shanghai.tz_convert(\"Asia/Tokyo\")\n",
    "print u\"本機時間:\", now\n",
    "print u\"上海時區:\", now_shanghai\n",
    "print u\"東京時區:\", now_tokyo"
   ]
  },
  {
   "cell_type": "code",
   "execution_count": 3,
   "metadata": {
    "collapsed": false
   },
   "outputs": [
    {
     "data": {
      "text/plain": [
       "True"
      ]
     },
     "execution_count": 3,
     "metadata": {},
     "output_type": "execute_result"
    }
   ],
   "source": [
    "now_shanghai == now_tokyo"
   ]
  },
  {
   "cell_type": "code",
   "execution_count": 4,
   "metadata": {
    "collapsed": false
   },
   "outputs": [
    {
     "name": "stdout",
     "output_type": "stream",
     "text": [
      "['Africa/Abidjan',\n",
      " 'Africa/Accra',\n",
      " 'Africa/Addis_Ababa',\n",
      " 'Africa/Algiers',\n",
      "...\n"
     ]
    }
   ],
   "source": [
    "import pytz\n",
    "%omit pytz.common_timezones"
   ]
  },
  {
   "cell_type": "code",
   "execution_count": 5,
   "metadata": {
    "collapsed": false
   },
   "outputs": [
    {
     "name": "stdout",
     "output_type": "stream",
     "text": [
      "         now_day                       now_hour           \n",
      "-------------------------  -------------------------------\n",
      "Period('2015-07-25', 'D')  Period('2015-07-25 11:00', 'H')\n"
     ]
    }
   ],
   "source": [
    "now_day = pd.Period.now(freq=\"D\")\n",
    "now_hour = pd.Period.now(freq=\"H\")\n",
    "%C now_day; now_hour"
   ]
  },
  {
   "cell_type": "code",
   "execution_count": 6,
   "metadata": {
    "collapsed": false
   },
   "outputs": [],
   "source": [
    "from pandas.tseries import frequencies\n",
    "frequencies._period_code_map.keys()\n",
    "frequencies._period_alias_dictionary();"
   ]
  },
  {
   "cell_type": "code",
   "execution_count": 7,
   "metadata": {
    "collapsed": false
   },
   "outputs": [
    {
     "name": "stdout",
     "output_type": "stream",
     "text": [
      "              now_week_sun                              now_week_mon              \n",
      "----------------------------------------  ----------------------------------------\n",
      "Period('2015-07-20/2015-07-26', 'W-SUN')  Period('2015-07-21/2015-07-27', 'W-MON')\n"
     ]
    }
   ],
   "source": [
    "now_week_sun = pd.Period.now(freq=\"W\")\n",
    "now_week_mon = pd.Period.now(freq=\"W-MON\")\n",
    "%C now_week_sun; now_week_mon"
   ]
  },
  {
   "cell_type": "code",
   "execution_count": 8,
   "metadata": {
    "collapsed": false
   },
   "outputs": [
    {
     "name": "stdout",
     "output_type": "stream",
     "text": [
      "       now_day.start_time                      now_day.end_time             \n",
      "--------------------------------  ------------------------------------------\n",
      "Timestamp('2015-07-25 00:00:00')  Timestamp('2015-07-25 23:59:59.999999999')\n"
     ]
    }
   ],
   "source": [
    "%C now_day.start_time; now_day.end_time"
   ]
  },
  {
   "cell_type": "code",
   "execution_count": 9,
   "metadata": {
    "collapsed": false
   },
   "outputs": [
    {
     "data": {
      "text/plain": [
       "Period('2015-07-25 11:00', 'H')"
      ]
     },
     "execution_count": 9,
     "metadata": {},
     "output_type": "execute_result"
    }
   ],
   "source": [
    "now_shanghai.to_period(\"H\")"
   ]
  },
  {
   "cell_type": "code",
   "execution_count": 10,
   "metadata": {
    "collapsed": false
   },
   "outputs": [
    {
     "name": "stdout",
     "output_type": "stream",
     "text": [
      "now.year  now.month  now.day  now.dayofweek  now.dayofyear  now.hour\n",
      "--------  ---------  -------  -------------  -------------  --------\n",
      "2015      7          25       5              206            11      \n"
     ]
    }
   ],
   "source": [
    "%C now.year; now.month; now.day; now.dayofweek; now.dayofyear; now.hour"
   ]
  },
  {
   "cell_type": "code",
   "execution_count": 11,
   "metadata": {
    "collapsed": false
   },
   "outputs": [
    {
     "data": {
      "text/plain": [
       "Timedelta('67 days 12:09:04.039000')"
      ]
     },
     "execution_count": 11,
     "metadata": {},
     "output_type": "execute_result"
    }
   ],
   "source": [
    "national_day = pd.Timestamp(\"2015-10-1\")\n",
    "td = national_day - pd.Timestamp.now()\n",
    "td"
   ]
  },
  {
   "cell_type": "code",
   "execution_count": 12,
   "metadata": {
    "collapsed": false
   },
   "outputs": [
    {
     "data": {
      "text/plain": [
       "Timestamp('2015-10-21 10:20:30')"
      ]
     },
     "execution_count": 12,
     "metadata": {},
     "output_type": "execute_result"
    }
   ],
   "source": [
    "national_day + pd.Timedelta(\"20 days 10:20:30\") "
   ]
  },
  {
   "cell_type": "code",
   "execution_count": 13,
   "metadata": {
    "collapsed": false
   },
   "outputs": [
    {
     "name": "stdout",
     "output_type": "stream",
     "text": [
      "td.days  td.seconds  td.microseconds\n",
      "-------  ----------  ---------------\n",
      "67L      43744L      39000L         \n"
     ]
    }
   ],
   "source": [
    "%C td.days; td.seconds; td.microseconds"
   ]
  },
  {
   "cell_type": "code",
   "execution_count": 14,
   "metadata": {
    "collapsed": false
   },
   "outputs": [
    {
     "name": "stdout",
     "output_type": "stream",
     "text": [
      "10 days 01:02:10.500000\n",
      "1 days 03:46:40\n"
     ]
    }
   ],
   "source": [
    "print pd.Timedelta(days=10, hours=1, minutes=2, seconds=10.5)\n",
    "print pd.Timedelta(seconds=100000)"
   ]
  },
  {
   "cell_type": "markdown",
   "metadata": {},
   "source": [
    "### 時間序列"
   ]
  },
  {
   "cell_type": "code",
   "execution_count": 15,
   "metadata": {
    "collapsed": false
   },
   "outputs": [
    {
     "name": "stdout",
     "output_type": "stream",
     "text": [
      "DatetimeIndex(['2015-01-15 16:12:00', '2015-02-15 08:04:00',\n",
      "               '2015-02-28 12:30:00', '2015-08-06 02:40:00',\n",
      "               '2015-08-18 13:13:00'],\n",
      "              dtype='datetime64[ns]', freq=None, tz=None) \n",
      "\n",
      "PeriodIndex(['2015-01', '2015-02', '2015-02', '2015-08', '2015-08'], dtype='int64', freq='M') \n",
      "\n",
      "TimedeltaIndex(['30 days 15:52:00', '13 days 04:26:00', '158 days 14:10:00',\n",
      "                '12 days 10:33:00'],\n",
      "               dtype='timedelta64[ns]', freq=None) \n",
      "\n"
     ]
    }
   ],
   "source": [
    "def random_timestamps(start, end, freq, count):\n",
    "    index = pd.date_range(start, end, freq=freq)\n",
    "    locations = np.random.choice(np.arange(len(index)), size=count, replace=False)\n",
    "    locations.sort()\n",
    "    return index[locations]\n",
    "\n",
    "np.random.seed(42)\n",
    "ts_index = random_timestamps(\"2015-01-01\", \"2015-10-01\", freq=\"Min\", count=5)\n",
    "pd_index = ts_index.to_period(\"M\")\n",
    "td_index = pd.TimedeltaIndex(np.diff(ts_index))\n",
    "\n",
    "print ts_index, \"\\n\"\n",
    "print pd_index, \"\\n\"\n",
    "print td_index, \"\\n\""
   ]
  },
  {
   "cell_type": "code",
   "execution_count": 16,
   "metadata": {
    "collapsed": false
   },
   "outputs": [
    {
     "name": "stdout",
     "output_type": "stream",
     "text": [
      " ts_index.dtype   pd_index.dtype   td_index.dtype \n",
      "----------------  --------------  ----------------\n",
      "dtype('<M8[ns]')  dtype('int64')  dtype('<m8[ns]')\n"
     ]
    }
   ],
   "source": [
    "%C ts_index.dtype; pd_index.dtype; td_index.dtype"
   ]
  },
  {
   "cell_type": "code",
   "execution_count": 17,
   "metadata": {
    "collapsed": false
   },
   "outputs": [
    {
     "name": "stdout",
     "output_type": "stream",
     "text": [
      "ts_index.weekday   pd_index.month        td_index.seconds      \n",
      "----------------  ---------------  ----------------------------\n",
      "[3, 6, 5, 3, 1]   [1, 2, 2, 8, 8]  [57120, 15960, 51000, 37980]\n"
     ]
    }
   ],
   "source": [
    "%C ts_index.weekday; pd_index.month; td_index.seconds"
   ]
  },
  {
   "cell_type": "code",
   "execution_count": 20,
   "metadata": {
    "collapsed": false
   },
   "outputs": [
    {
     "data": {
      "text/plain": [
       "DatetimeIndex(['2015-01-15 17:12:00', '2015-02-15 09:04:00',\n",
       "               '2015-02-28 13:30:00', '2015-08-06 03:40:00',\n",
       "               '2015-08-18 14:13:00'],\n",
       "              dtype='datetime64[ns]', freq=None, tz=None)"
      ]
     },
     "execution_count": 20,
     "metadata": {},
     "output_type": "execute_result"
    }
   ],
   "source": [
    "ts_index.shift(1, \"H\")"
   ]
  },
  {
   "cell_type": "code",
   "execution_count": 21,
   "metadata": {
    "collapsed": false
   },
   "outputs": [
    {
     "data": {
      "text/plain": [
       "DatetimeIndex(['2015-01-31 16:12:00', '2015-02-28 08:04:00',\n",
       "               '2015-03-31 12:30:00', '2015-08-31 02:40:00',\n",
       "               '2015-08-31 13:13:00'],\n",
       "              dtype='datetime64[ns]', freq=None, tz=None)"
      ]
     },
     "execution_count": 21,
     "metadata": {},
     "output_type": "execute_result"
    }
   ],
   "source": [
    "ts_index.shift(1, \"M\")"
   ]
  },
  {
   "cell_type": "code",
   "execution_count": 22,
   "metadata": {
    "collapsed": false
   },
   "outputs": [
    {
     "data": {
      "text/plain": [
       "DatetimeIndex(['2015-01-15', '2015-02-15', '2015-02-28', '2015-08-06',\n",
       "               '2015-08-18'],\n",
       "              dtype='datetime64[ns]', freq=None, tz=None)"
      ]
     },
     "execution_count": 22,
     "metadata": {},
     "output_type": "execute_result"
    }
   ],
   "source": [
    "ts_index.normalize()"
   ]
  },
  {
   "cell_type": "code",
   "execution_count": 24,
   "metadata": {
    "collapsed": false
   },
   "outputs": [
    {
     "data": {
      "text/plain": [
       "DatetimeIndex(['2015-01-15 16:00:00', '2015-02-15 08:00:00',\n",
       "               '2015-02-28 12:00:00', '2015-08-06 02:00:00',\n",
       "               '2015-08-18 13:00:00'],\n",
       "              dtype='datetime64[ns]', freq=None, tz=None)"
      ]
     },
     "execution_count": 24,
     "metadata": {},
     "output_type": "execute_result"
    }
   ],
   "source": [
    "ts_index.to_period(\"H\").to_timestamp()"
   ]
  },
  {
   "cell_type": "code",
   "execution_count": 25,
   "metadata": {
    "collapsed": true
   },
   "outputs": [],
   "source": [
    "ts_series = pd.Series(range(5), index=ts_index)"
   ]
  },
  {
   "cell_type": "code",
   "execution_count": 26,
   "metadata": {
    "collapsed": false
   },
   "outputs": [
    {
     "data": {
      "text/plain": [
       "2015-01-15 16:12:00    0\n",
       "2015-02-28 12:30:00    2\n",
       "2015-08-18 13:13:00    4\n",
       "dtype: int64"
      ]
     },
     "execution_count": 26,
     "metadata": {},
     "output_type": "execute_result"
    }
   ],
   "source": [
    "ts_series.between_time(\"9:00\", \"18:00\")"
   ]
  },
  {
   "cell_type": "code",
   "execution_count": 27,
   "metadata": {
    "collapsed": false
   },
   "outputs": [
    {
     "data": {
      "text/plain": [
       "2015-01-16 16:12:00    0\n",
       "2015-02-16 08:04:00    1\n",
       "2015-03-01 12:30:00    2\n",
       "2015-08-07 02:40:00    3\n",
       "2015-08-19 13:13:00    4\n",
       "dtype: int64"
      ]
     },
     "execution_count": 27,
     "metadata": {},
     "output_type": "execute_result"
    }
   ],
   "source": [
    "ts_series.tshift(1, freq=\"D\")"
   ]
  },
  {
   "cell_type": "code",
   "execution_count": 29,
   "metadata": {
    "collapsed": false
   },
   "outputs": [
    {
     "name": "stdout",
     "output_type": "stream",
     "text": [
      " pd_series.tshift(1)   td_series.tshift(10, freq=\"H\")\n",
      "---------------------  ------------------------------\n",
      "2015-02    0           31 days 01:52:00     0        \n",
      "2015-03    1           13 days 14:26:00     1        \n",
      "2015-03    2           159 days 00:10:00    2        \n",
      "2015-09    3           12 days 20:33:00     3        \n",
      "2015-09    4           dtype: int64                  \n",
      "Freq: M, dtype: int64                                \n"
     ]
    }
   ],
   "source": [
    "pd_series = pd.Series(range(5), index=pd_index)\n",
    "td_series = pd.Series(range(4), index=td_index)\n",
    "%C pd_series.tshift(1); td_series.tshift(10, freq=\"H\")"
   ]
  },
  {
   "cell_type": "code",
   "execution_count": 30,
   "metadata": {
    "collapsed": false
   },
   "outputs": [
    {
     "name": "stdout",
     "output_type": "stream",
     "text": [
      " ts_data.dtype    pd_data.dtype   td_data.dtype  \n",
      "----------------  -------------  ----------------\n",
      "dtype('<M8[ns]')  dtype('O')     dtype('<m8[ns]')\n"
     ]
    }
   ],
   "source": [
    "ts_data = pd.Series(ts_index)\n",
    "pd_data = pd.Series(pd_index)\n",
    "td_data = pd.Series(td_index)\n",
    "%C ts_data.dtype; pd_data.dtype; td_data.dtype"
   ]
  },
  {
   "cell_type": "code",
   "execution_count": 31,
   "metadata": {
    "collapsed": false
   },
   "outputs": [
    {
     "name": "stdout",
     "output_type": "stream",
     "text": [
      "ts_data.dt.hour  pd_data.dt.month  td_data.dt.days\n",
      "---------------  ----------------  ---------------\n",
      "0    16          0    1            0     30       \n",
      "1     8          1    2            1     13       \n",
      "2    12          2    2            2    158       \n",
      "3     2          3    8            3     12       \n",
      "4    13          4    8            dtype: int64   \n",
      "dtype: int64     dtype: int64                     \n"
     ]
    }
   ],
   "source": [
    "%C ts_data.dt.hour; pd_data.dt.month; td_data.dt.days"
   ]
  }
 ],
 "metadata": {
  "kernelspec": {
   "display_name": "Python 2",
   "language": "python",
   "name": "python2"
  },
  "language_info": {
   "codemirror_mode": {
    "name": "ipython",
    "version": 2
   },
   "file_extension": ".py",
   "mimetype": "text/x-python",
   "name": "python",
   "nbconvert_exporter": "python",
   "pygments_lexer": "ipython2",
   "version": "2.7.9"
  }
 },
 "nbformat": 4,
 "nbformat_minor": 0
}
