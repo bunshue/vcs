﻿{
 "cells": [
  {
   "cell_type": "code",
   "execution_count": 2,
   "metadata": {
    "collapsed": false
   },
   "outputs": [],
   "source": [
    "import pandas as pd\n",
    "import numpy as np\n",
    "pd.set_option(\"display.show_dimensions\", False)\n",
    "pd.set_option(\"display.float_format\", \"{:4.2g}\".format)"
   ]
  },
  {
   "cell_type": "markdown",
   "metadata": {},
   "source": [
    "## 分群組運算"
   ]
  },
  {
   "cell_type": "code",
   "execution_count": 3,
   "metadata": {
    "collapsed": false
   },
   "outputs": [
    {
     "name": "stdout",
     "output_type": "stream",
     "text": [
      "   Dose  Response1  Response2 Tmt  Age Gender\n",
      "0    50        9.9         10   C  60s      F\n",
      "1    15      0.002      0.004   D  60s      F\n",
      "2    25       0.63        0.8   C  50s      M\n"
     ]
    }
   ],
   "source": [
    "dose_df = pd.read_csv(\"dose.csv\")\n",
    "print dose_df.head(3)"
   ]
  },
  {
   "cell_type": "markdown",
   "metadata": {},
   "source": [
    "### `groupby()`方法"
   ]
  },
  {
   "cell_type": "markdown",
   "metadata": {},
   "source": [
    "> **TIP**\n",
    "\n",
    "> `groupby()`並不立即執行分群組動作，而只是傳回儲存源資料和分群組資料的`GroupBy`物件。在需要取得每個分群組的實際資料時，`GroupBy`物件才會執行分群組動作。"
   ]
  },
  {
   "cell_type": "code",
   "execution_count": 4,
   "metadata": {
    "collapsed": false
   },
   "outputs": [
    {
     "name": "stdout",
     "output_type": "stream",
     "text": [
      "<class 'pandas.core.groupby.DataFrameGroupBy'>\n"
     ]
    }
   ],
   "source": [
    "tmt_group = dose_df.groupby(\"Tmt\")\n",
    "print type(tmt_group)"
   ]
  },
  {
   "cell_type": "code",
   "execution_count": 5,
   "metadata": {
    "collapsed": true
   },
   "outputs": [],
   "source": [
    "tmt_age_group = dose_df.groupby([\"Tmt\", \"Age\"])"
   ]
  },
  {
   "cell_type": "code",
   "execution_count": 6,
   "metadata": {
    "collapsed": true
   },
   "outputs": [],
   "source": [
    "random_values = np.random.randint(0, 5, dose_df.shape[0])\n",
    "random_group = dose_df.groupby(random_values)"
   ]
  },
  {
   "cell_type": "code",
   "execution_count": 7,
   "metadata": {
    "collapsed": true
   },
   "outputs": [],
   "source": [
    "alternating_group = dose_df.groupby(lambda n:n % 3)"
   ]
  },
  {
   "cell_type": "code",
   "execution_count": 7,
   "metadata": {
    "collapsed": true
   },
   "outputs": [],
   "source": [
    "crazy_group = dose_df.groupby([\"Gender\", lambda n: n % 2, random_values])"
   ]
  },
  {
   "cell_type": "markdown",
   "metadata": {},
   "source": [
    "### `GroupBy`物件"
   ]
  },
  {
   "cell_type": "code",
   "execution_count": 8,
   "metadata": {
    "collapsed": false
   },
   "outputs": [
    {
     "name": "stdout",
     "output_type": "stream",
     "text": [
      "10 20\n"
     ]
    }
   ],
   "source": [
    "print len(tmt_age_group), len(crazy_group)"
   ]
  },
  {
   "cell_type": "code",
   "execution_count": 9,
   "metadata": {
    "collapsed": false
   },
   "outputs": [
    {
     "name": "stdout",
     "output_type": "stream",
     "text": [
      "key = ('A', '50s') , shape = (39, 6)\n",
      "key = ('A', '60s') , shape = (26, 6)\n",
      "key = ('B', '40s') , shape = (13, 6)\n",
      "key = ('B', '50s') , shape = (13, 6)\n",
      "key = ('B', '60s') , shape = (39, 6)\n",
      "key = ('C', '40s') , shape = (13, 6)\n",
      "key = ('C', '50s') , shape = (13, 6)\n",
      "key = ('C', '60s') , shape = (39, 6)\n",
      "key = ('D', '50s') , shape = (52, 6)\n",
      "key = ('D', '60s') , shape = (13, 6)\n"
     ]
    }
   ],
   "source": [
    "for key, df in tmt_age_group:\n",
    "    print \"key =\", key, \", shape =\", df.shape"
   ]
  },
  {
   "cell_type": "code",
   "execution_count": 10,
   "metadata": {
    "collapsed": true
   },
   "outputs": [],
   "source": [
    "(_, df_A), (_, df_B), (_, df_C), (_, df_D) = tmt_group"
   ]
  },
  {
   "cell_type": "markdown",
   "metadata": {},
   "source": [
    "> **TIP**\n",
    "\n",
    "> 由於`GroupBy`物件有`keys`屬性，因此無法透過`dict(tmt_group)`直接將其轉為字典，可以先將其轉為迭代器，再轉為字典`dict(iter(tmt_group))`。"
   ]
  },
  {
   "cell_type": "code",
   "execution_count": 13,
   "metadata": {
    "collapsed": false
   },
   "outputs": [
    {
     "name": "stdout",
     "output_type": "stream",
     "text": [
      "       tmt_group.get_group(\"A\").head(3)       \n",
      "----------------------------------------------\n",
      "    Dose  Response1  Response2 Tmt  Age Gender\n",
      "6      1          0          0   A  50s      F\n",
      "10    15        5.2        5.2   A  60s      F\n",
      "12     5          0      0.001   A  60s      F\n",
      "\n",
      "tmt_age_group.get_group((\"A\", \"50s\")).head(3) \n",
      "----------------------------------------------\n",
      "    Dose  Response1  Response2 Tmt  Age Gender\n",
      "6      1          0          0   A  50s      F\n",
      "17     5          0      0.003   A  50s      M\n",
      "34    40         11         10   A  50s      M\n"
     ]
    }
   ],
   "source": [
    "%C tmt_group.get_group(\"A\").head(3);; tmt_age_group.get_group((\"A\", \"50s\")).head(3)"
   ]
  },
  {
   "cell_type": "code",
   "execution_count": 14,
   "metadata": {
    "collapsed": false
   },
   "outputs": [
    {
     "name": "stdout",
     "output_type": "stream",
     "text": [
      "<pandas.core.groupby.SeriesGroupBy object at 0x0C6076F0>\n",
      "<pandas.core.groupby.DataFrameGroupBy object at 0x0C6077F0>\n"
     ]
    }
   ],
   "source": [
    "print tmt_group[\"Dose\"]\n",
    "print tmt_group[[\"Response1\", \"Response2\"]]"
   ]
  },
  {
   "cell_type": "code",
   "execution_count": 15,
   "metadata": {
    "collapsed": false
   },
   "outputs": [
    {
     "name": "stdout",
     "output_type": "stream",
     "text": [
      "<pandas.core.groupby.SeriesGroupBy object at 0x05D96B70>\n"
     ]
    }
   ],
   "source": [
    "print tmt_group.Dose"
   ]
  },
  {
   "cell_type": "markdown",
   "metadata": {},
   "source": [
    "### 分群組－運算－合並"
   ]
  },
  {
   "cell_type": "markdown",
   "metadata": {},
   "source": [
    "#### `agg()`－聚合"
   ]
  },
  {
   "cell_type": "code",
   "execution_count": 16,
   "metadata": {
    "collapsed": false
   },
   "outputs": [
    {
     "name": "stdout",
     "output_type": "stream",
     "text": [
      "            agg_res1                                 agg_res2                 \n",
      "-------------------------------    -------------------------------------------\n",
      "     Dose  Response1  Response2         Dose  Response1  Response2  Age Gender\n",
      "Tmt                                Tmt                                        \n",
      "A      34        6.7        6.9    A      80         11         10  60s      F\n",
      "B      34        5.6        5.5    B   1e+02         11         10  50s      M\n",
      "C      34          4        4.1    C      60         10         11  50s      M\n",
      "D      34        3.3        3.2    D      80         11        9.9  60s      F\n"
     ]
    }
   ],
   "source": [
    "agg_res1 = tmt_group.agg(np.mean) #❶\n",
    "agg_res2 = tmt_group.agg(lambda df:df.loc[df.Response1.idxmax()]) #❷\n",
    "%C 4 agg_res1; agg_res2"
   ]
  },
  {
   "cell_type": "markdown",
   "metadata": {},
   "source": [
    "#### `transform()`－轉換"
   ]
  },
  {
   "cell_type": "code",
   "execution_count": 17,
   "metadata": {
    "collapsed": false
   },
   "outputs": [
    {
     "name": "stdout",
     "output_type": "stream",
     "text": [
      "    transform_res1.head(5)               transform_res2.head(5)         \n",
      "-----------------------------  -----------------------------------------\n",
      "   Dose  Response1  Response2     Dose  Response1  Response2  Age Gender\n",
      "0    16        5.8        5.9  0    50        5.8         10  60s      F\n",
      "1   -19       -3.3       -3.2  1    15       -3.3      0.004  60s      F\n",
      "2  -8.5       -3.4       -3.3  2    25       -3.4        0.8  50s      M\n",
      "3  -8.5       -2.7       -2.6  3    25       -2.7        1.6  60s      F\n",
      "4   -19         -4       -4.1  4    15         -4       0.02  60s      F\n"
     ]
    }
   ],
   "source": [
    "transform_res1 = tmt_group.transform(lambda s:s - s.mean()) #❶\n",
    "transform_res2 = tmt_group.transform(\n",
    "    lambda df:df.assign(Response1=df.Response1 - df.Response1.mean())) #❷\n",
    "%C transform_res1.head(5); transform_res2.head(5)"
   ]
  },
  {
   "cell_type": "markdown",
   "metadata": {},
   "source": [
    "#### `filter()`－過濾"
   ]
  },
  {
   "cell_type": "code",
   "execution_count": 18,
   "metadata": {
    "collapsed": false
   },
   "outputs": [
    {
     "name": "stdout",
     "output_type": "stream",
     "text": [
      "   Dose  Response1  Response2 Tmt  Age Gender\n",
      "0    50        9.9         10   C  60s      F\n",
      "1    15      0.002      0.004   D  60s      F\n",
      "2    25       0.63        0.8   C  50s      M\n",
      "3    25        1.4        1.6   C  60s      F\n",
      "4    15       0.01       0.02   C  60s      F\n"
     ]
    }
   ],
   "source": [
    "print tmt_group.filter(lambda df:df.Response1.max() < 11).head()"
   ]
  },
  {
   "cell_type": "markdown",
   "metadata": {},
   "source": [
    "#### `apply()`－運用"
   ]
  },
  {
   "cell_type": "markdown",
   "metadata": {},
   "source": [
    "> **WARNING**\n",
    "\n",
    "> 注意目前的版本采用`is`判斷索引是否相同，很容易引起混淆，未來的版本可能會對這一點進行修改。"
   ]
  },
  {
   "cell_type": "code",
   "execution_count": 19,
   "metadata": {
    "collapsed": false
   },
   "outputs": [
    {
     "name": "stdout",
     "output_type": "stream",
     "text": [
      "       tmt_group.apply(pd.DataFrame.max)           tmt_group.apply(pd.DataFrame.mean)\n",
      "-----------------------------------------------    ----------------------------------\n",
      "     Dose  Response1  Response2 Tmt  Age Gender         Dose  Response1  Response2   \n",
      "Tmt                                                Tmt                               \n",
      "A   1e+02         11         11   A  60s      M    A      34        6.7        6.9   \n",
      "B   1e+02         11         10   B  60s      M    B      34        5.6        5.5   \n",
      "C   1e+02         10         11   C  60s      M    C      34          4        4.1   \n",
      "D   1e+02         11        9.9   D  60s      M    D      34        3.3        3.2   \n"
     ]
    }
   ],
   "source": [
    "%C 4 tmt_group.apply(pd.DataFrame.max); tmt_group.apply(pd.DataFrame.mean)"
   ]
  },
  {
   "cell_type": "code",
   "execution_count": 20,
   "metadata": {
    "collapsed": false
   },
   "outputs": [
    {
     "name": "stdout",
     "output_type": "stream",
     "text": [
      "          sample_res1                  sample_res2     \n",
      "-------------------------------    --------------------\n",
      "Tmt                                Response1     0    1\n",
      "A    248      10                   Tmt                 \n",
      "     164      10                   A            10   10\n",
      "B    113    0.19                   B            10   10\n",
      "     26      9.4                   C         0.004  9.9\n",
      "C    191      10                   D          0.33   11\n",
      "     236     1.7                                       \n",
      "D    188   0.061                                       \n",
      "     8     0.001                                       \n",
      "Name: Response1, dtype: float64                        \n"
     ]
    }
   ],
   "source": [
    "sample_res1 = tmt_group.apply(lambda df:df.Response1.sample(2)) #❶\n",
    "sample_res2 = tmt_group.apply(\n",
    "    lambda df:df.Response1.sample(2).reset_index(drop=True)) #❷\n",
    "%C 4 sample_res1; sample_res2"
   ]
  },
  {
   "cell_type": "code",
   "execution_count": 21,
   "metadata": {
    "collapsed": false
   },
   "outputs": [
    {
     "name": "stdout",
     "output_type": "stream",
     "text": [
      "   apply_res1.head()            apply_res2.head()      \n",
      "-----------------------    ----------------------------\n",
      "   Response1  Response1            Response1  Response1\n",
      "0        5.8        5.8    Tmt                         \n",
      "1       -3.3       -3.3    A   6        -6.7       -6.7\n",
      "2       -3.4       -3.4        10       -1.5       -1.5\n",
      "3       -2.7       -2.7        12       -6.7       -6.7\n",
      "4         -4         -4        17       -6.7       -6.7\n",
      "                               32        2.6        2.6\n"
     ]
    }
   ],
   "source": [
    "group = tmt_group[[\"Response1\", \"Response1\"]]\n",
    "apply_res1 = group.apply(lambda df:df - df.mean())\n",
    "apply_res2 = group.apply(lambda df:(df - df.mean())[:])\n",
    "\n",
    "%C 4 apply_res1.head(); apply_res2.head()"
   ]
  },
  {
   "cell_type": "code",
   "execution_count": 22,
   "metadata": {
    "collapsed": false
   },
   "outputs": [
    {
     "name": "stdout",
     "output_type": "stream",
     "text": [
      "         Dose  Response1  Response2 Tmt  Age Gender\n",
      "Tmt                                                \n",
      "A   235    60        9.8         10   A  50s      M\n",
      "    164    20         10         10   A  50s      F\n",
      "B   9      40         11         10   B  60s      F\n",
      "    16     30        9.8         10   B  60s      F\n"
     ]
    }
   ],
   "source": [
    "print tmt_group.apply(lambda df:None if df.Response1.mean() < 5 else df.sample(2))"
   ]
  },
  {
   "cell_type": "code",
   "execution_count": 23,
   "metadata": {
    "collapsed": false
   },
   "outputs": [
    {
     "name": "stdout",
     "output_type": "stream",
     "text": [
      "        tmt_group.mean()              tmt_group.quantile(q=0.75)  \n",
      "-------------------------------    -------------------------------\n",
      "     Dose  Response1  Response2         Dose  Response1  Response2\n",
      "Tmt                                Tmt                            \n",
      "A      34        6.7        6.9    A      50         10         10\n",
      "B      34        5.6        5.5    B      50        9.8         10\n",
      "C      34          4        4.1    C      50        9.6        9.6\n",
      "D      34        3.3        3.2    D      50        8.9        8.4\n"
     ]
    }
   ],
   "source": [
    "%C 4 tmt_group.mean(); tmt_group.quantile(q=0.75)"
   ]
  }
 ],
 "metadata": {
  "kernelspec": {
   "display_name": "Python 2",
   "language": "python",
   "name": "python2"
  },
  "language_info": {
   "codemirror_mode": {
    "name": "ipython",
    "version": 2
   },
   "file_extension": ".py",
   "mimetype": "text/x-python",
   "name": "python",
   "nbconvert_exporter": "python",
   "pygments_lexer": "ipython2",
   "version": "2.7.9"
  }
 },
 "nbformat": 4,
 "nbformat_minor": 0
}
