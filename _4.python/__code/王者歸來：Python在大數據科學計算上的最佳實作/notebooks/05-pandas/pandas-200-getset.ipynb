﻿{
 "cells": [
  {
   "cell_type": "code",
   "execution_count": 1,
   "metadata": {
    "collapsed": false
   },
   "outputs": [],
   "source": [
    "import pandas as pd\n",
    "import numpy as np\n",
    "pd.set_option(\"display.show_dimensions\", False)\n",
    "pd.set_option(\"display.float_format\", \"{:4.2g}\".format)"
   ]
  },
  {
   "cell_type": "markdown",
   "metadata": {},
   "source": [
    "## 索引存取"
   ]
  },
  {
   "cell_type": "code",
   "execution_count": 2,
   "metadata": {
    "collapsed": false
   },
   "outputs": [],
   "source": [
    "np.random.seed(42)\n",
    "df = pd.DataFrame(np.random.randint(0, 10, (5, 3)), \n",
    "                  index=[\"r1\", \"r2\", \"r3\", \"r4\", \"r5\"], \n",
    "                  columns=[\"c1\", \"c2\", \"c3\"])"
   ]
  },
  {
   "cell_type": "markdown",
   "metadata": {},
   "source": [
    "### `[]`運算符號"
   ]
  },
  {
   "cell_type": "code",
   "execution_count": 3,
   "metadata": {
    "collapsed": false
   },
   "outputs": [
    {
     "name": "stdout",
     "output_type": "stream",
     "text": [
      "      df              df[2:4]         df[\"r2\":\"r4\"] \n",
      "--------------     --------------     --------------\n",
      "    c1  c2  c3         c1  c2  c3         c1  c2  c3\n",
      "r1   6   3   7     r3   2   6   7     r2   4   6   9\n",
      "r2   4   6   9     r4   4   3   7     r3   2   6   7\n",
      "r3   2   6   7                        r4   4   3   7\n",
      "r4   4   3   7                                      \n",
      "r5   7   2   5                                      \n"
     ]
    }
   ],
   "source": [
    "%C 5 df; df[2:4]; df[\"r2\":\"r4\"]"
   ]
  },
  {
   "cell_type": "code",
   "execution_count": 4,
   "metadata": {
    "collapsed": false
   },
   "outputs": [
    {
     "name": "stdout",
     "output_type": "stream",
     "text": [
      "df[df.c1 > 4]         df[df > 2]   \n",
      "--------------     ----------------\n",
      "    c1  c2  c3          c1   c2  c3\n",
      "r1   6   3   7     r1    6    3   7\n",
      "r5   7   2   5     r2    4    6   9\n",
      "                   r3  nan    6   7\n",
      "                   r4    4    3   7\n",
      "                   r5    7  nan   5\n"
     ]
    }
   ],
   "source": [
    "%C 5 df[df.c1 > 4]; df[df > 2]"
   ]
  },
  {
   "cell_type": "markdown",
   "metadata": {},
   "source": [
    "### `.loc[]`和`.iloc[]`存取器"
   ]
  },
  {
   "cell_type": "code",
   "execution_count": 5,
   "metadata": {
    "collapsed": false
   },
   "outputs": [
    {
     "name": "stdout",
     "output_type": "stream",
     "text": [
      "     df.loc[\"r2\"]          df.loc[\"r2\",\"c2\"]\n",
      "----------------------     -----------------\n",
      "c1    4                    6                \n",
      "c2    6                                     \n",
      "c3    9                                     \n",
      "Name: r2, dtype: int32                      \n"
     ]
    }
   ],
   "source": [
    "%C 5 df.loc[\"r2\"]; df.loc[\"r2\",\"c2\"]"
   ]
  },
  {
   "cell_type": "code",
   "execution_count": 6,
   "metadata": {
    "collapsed": false
   },
   "outputs": [
    {
     "name": "stdout",
     "output_type": "stream",
     "text": [
      "df.loc[[\"r2\",\"r3\"]]     df.loc[[\"r2\",\"r3\"],[\"c1\",\"c2\"]]\n",
      "-------------------     -------------------------------\n",
      "    c1  c2  c3              c1  c2                     \n",
      "r2   4   6   9          r2   4   6                     \n",
      "r3   2   6   7          r3   2   6                     \n"
     ]
    }
   ],
   "source": [
    "%C 5 df.loc[[\"r2\",\"r3\"]]; df.loc[[\"r2\",\"r3\"],[\"c1\",\"c2\"]]"
   ]
  },
  {
   "cell_type": "code",
   "execution_count": 7,
   "metadata": {
    "collapsed": false
   },
   "outputs": [
    {
     "name": "stdout",
     "output_type": "stream",
     "text": [
      "df.loc[\"r2\":\"r4\", [\"c2\",\"c3\"]]     df.loc[df.c1>2, [\"c1\",\"c2\"]]\n",
      "------------------------------     ----------------------------\n",
      "    c2  c3                             c1  c2                  \n",
      "r2   6   9                         r1   6   3                  \n",
      "r3   6   7                         r2   4   6                  \n",
      "r4   3   7                         r4   4   3                  \n",
      "                                   r5   7   2                  \n"
     ]
    }
   ],
   "source": [
    "%C 5 df.loc[\"r2\":\"r4\", [\"c2\",\"c3\"]]; df.loc[df.c1>2, [\"c1\",\"c2\"]]"
   ]
  },
  {
   "cell_type": "code",
   "execution_count": 8,
   "metadata": {
    "collapsed": false
   },
   "outputs": [
    {
     "name": "stdout",
     "output_type": "stream",
     "text": [
      "      df.iloc[2]           df.iloc[[2,4]]     df.iloc[[1,3]]     df.iloc[[1,3],[0,2]]\n",
      "----------------------     --------------     --------------     --------------------\n",
      "c1    2                        c1  c2  c3         c1  c2  c3         c1  c3          \n",
      "c2    6                    r3   2   6   7     r2   4   6   9     r2   4   9          \n",
      "c3    7                    r5   7   2   5     r4   4   3   7     r4   4   7          \n",
      "Name: r3, dtype: int32                                                               \n"
     ]
    }
   ],
   "source": [
    "%C 5 df.iloc[2]; df.iloc[[2,4]]; df.iloc[[1,3]]; df.iloc[[1,3],[0,2]]"
   ]
  },
  {
   "cell_type": "code",
   "execution_count": 9,
   "metadata": {
    "collapsed": false
   },
   "outputs": [
    {
     "name": "stdout",
     "output_type": "stream",
     "text": [
      "df.iloc[2:4, [0,2]]     df.iloc[df.c1.values>2, [0,1]]\n",
      "-------------------     ------------------------------\n",
      "    c1  c3                  c1  c2                    \n",
      "r3   2   7              r1   6   3                    \n",
      "r4   4   7              r2   4   6                    \n",
      "                        r4   4   3                    \n",
      "                        r5   7   2                    \n"
     ]
    }
   ],
   "source": [
    "%C 5 df.iloc[2:4, [0,2]]; df.iloc[df.c1.values>2, [0,1]]"
   ]
  },
  {
   "cell_type": "code",
   "execution_count": 10,
   "metadata": {
    "collapsed": false
   },
   "outputs": [
    {
     "name": "stdout",
     "output_type": "stream",
     "text": [
      "df.ix[2:4, [\"c1\", \"c3\"]]     df.ix[\"r1\":\"r3\", [0, 2]]\n",
      "------------------------     ------------------------\n",
      "    c1  c3                       c1  c3              \n",
      "r3   2   7                   r1   6   7              \n",
      "r4   4   7                   r2   4   9              \n",
      "                             r3   2   7              \n"
     ]
    }
   ],
   "source": [
    "%C 5 df.ix[2:4, [\"c1\", \"c3\"]]; df.ix[\"r1\":\"r3\", [0, 2]]"
   ]
  },
  {
   "cell_type": "markdown",
   "metadata": {},
   "source": [
    "### 取得單一值"
   ]
  },
  {
   "cell_type": "code",
   "execution_count": 11,
   "metadata": {
    "collapsed": false
   },
   "outputs": [
    {
     "name": "stdout",
     "output_type": "stream",
     "text": [
      "df.at[\"r2\", \"c2\"]   df.iat[1, 1]   df.get_value(\"r2\", \"c2\")\n",
      "-----------------   ------------   ------------------------\n",
      "6                   6              6                       \n"
     ]
    }
   ],
   "source": [
    "%C 3 df.at[\"r2\", \"c2\"]; df.iat[1, 1]; df.get_value(\"r2\", \"c2\")"
   ]
  },
  {
   "cell_type": "code",
   "execution_count": 12,
   "metadata": {
    "collapsed": false
   },
   "outputs": [
    {
     "data": {
      "text/plain": [
       "array([4, 3, 2])"
      ]
     },
     "execution_count": 12,
     "metadata": {},
     "output_type": "execute_result"
    }
   ],
   "source": [
    "df.lookup([\"r2\", \"r4\", \"r3\"], [\"c1\", \"c2\", \"c1\"])"
   ]
  },
  {
   "cell_type": "markdown",
   "metadata": {},
   "source": [
    "### 多級標簽的存取"
   ]
  },
  {
   "cell_type": "code",
   "execution_count": 13,
   "metadata": {
    "collapsed": false
   },
   "outputs": [],
   "source": [
    "soil_df = pd.read_csv(\"data/Soils-simple.csv\", index_col=[0, 1], parse_dates=[\"Date\"])"
   ]
  },
  {
   "cell_type": "code",
   "execution_count": 14,
   "metadata": {
    "collapsed": false
   },
   "outputs": [
    {
     "name": "stdout",
     "output_type": "stream",
     "text": [
      "soil_df.loc[\"10-30\", [\"pH\", \"Ca\"]]\n",
      "----------------------------------\n",
      "             pH   Ca              \n",
      "Contour                           \n",
      "Depression  4.9  7.5              \n",
      "Slope       5.3  9.5              \n",
      "Top         4.8   10              \n"
     ]
    }
   ],
   "source": [
    "%C soil_df.loc[\"10-30\", [\"pH\", \"Ca\"]]"
   ]
  },
  {
   "cell_type": "code",
   "execution_count": 15,
   "metadata": {
    "collapsed": false
   },
   "outputs": [
    {
     "name": "stdout",
     "output_type": "stream",
     "text": [
      "soil_df.loc[np.s_[:, \"Top\"], [\"pH\", \"Ca\"]]\n",
      "------------------------------------------\n",
      "                pH   Ca                   \n",
      "Depth Contour                             \n",
      "0-10  Top      5.3   13                   \n",
      "10-30 Top      4.8   10                   \n"
     ]
    }
   ],
   "source": [
    "%C soil_df.loc[np.s_[:, \"Top\"], [\"pH\", \"Ca\"]]"
   ]
  },
  {
   "cell_type": "markdown",
   "metadata": {},
   "source": [
    "### `query()`方法"
   ]
  },
  {
   "cell_type": "code",
   "execution_count": 19,
   "metadata": {
    "collapsed": false
   },
   "outputs": [
    {
     "name": "stdout",
     "output_type": "stream",
     "text": [
      "                   pH  Dens   Ca  Conduc       Date   Name\n",
      "Depth Contour                                             \n",
      "0-10  Depression  5.4  0.98   11     1.5 2015-05-26   Lois\n",
      "10-30 Slope       5.3   1.3  9.5     4.9 2015-02-06  Diana\n"
     ]
    }
   ],
   "source": [
    "print soil_df.query(\"pH > 5 and Ca < 11\")"
   ]
  },
  {
   "cell_type": "code",
   "execution_count": 20,
   "metadata": {
    "collapsed": false
   },
   "outputs": [
    {
     "name": "stdout",
     "output_type": "stream",
     "text": [
      "                   pH  Dens   Ca  Conduc       Date   Name\n",
      "Depth Contour                                             \n",
      "0-10  Depression  5.4  0.98   11     1.5 2015-05-26   Lois\n",
      "10-30 Slope       5.3   1.3  9.5     4.9 2015-02-06  Diana\n"
     ]
    }
   ],
   "source": [
    "#%hide_output\n",
    "pH_low = 5\n",
    "Ca_hi = 11\n",
    "print soil_df.query(\"pH > @pH_low and Ca < @Ca_hi\")"
   ]
  },
  {
   "cell_type": "code",
   "execution_count": null,
   "metadata": {
    "collapsed": true
   },
   "outputs": [],
   "source": []
  }
 ],
 "metadata": {
  "kernelspec": {
   "display_name": "Python 2",
   "language": "python",
   "name": "python2"
  },
  "language_info": {
   "codemirror_mode": {
    "name": "ipython",
    "version": 2
   },
   "file_extension": ".py",
   "mimetype": "text/x-python",
   "name": "python",
   "nbconvert_exporter": "python",
   "pygments_lexer": "ipython2",
   "version": "2.7.9"
  }
 },
 "nbformat": 4,
 "nbformat_minor": 0
}
