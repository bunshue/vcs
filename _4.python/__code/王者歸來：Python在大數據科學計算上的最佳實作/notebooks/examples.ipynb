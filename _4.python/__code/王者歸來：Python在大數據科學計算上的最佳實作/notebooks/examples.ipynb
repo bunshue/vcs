﻿{
 "cells": [
  {
   "cell_type": "markdown",
   "metadata": {},
   "source": [
    "## Python科學計算環境的安裝與簡介"
   ]
  },
  {
   "cell_type": "markdown",
   "metadata": {},
   "source": [
    "> **SOURCE**\n",
    "\n",
    "> `notebooks\\01-intro\\notebook-train.ipynb`：Notebook的動作教學，讀者可以使用它練習Notebook的基本動作。"
   ]
  },
  {
   "cell_type": "markdown",
   "metadata": {},
   "source": [
    "> **SOURCE**\n",
    "\n",
    "> `scpy2.utils.nbmagics`：該模組中定義了本書提供的魔法指令，若果讀者使用本書提供的批處理執行Notebook，則該模組已經載入。`notebooks\\01-intro\\scpy2-magics.ipynb`是這些魔法指令的使用說明。"
   ]
  },
  {
   "cell_type": "markdown",
   "metadata": {},
   "source": [
    "## NumPy-快速處理資料"
   ]
  },
  {
   "cell_type": "code",
   "execution_count": 5,
   "metadata": {
    "collapsed": false
   },
   "outputs": [],
   "source": [
    "%exec_python -m scpy2.numpy.array_index_demo"
   ]
  },
  {
   "cell_type": "markdown",
   "metadata": {},
   "source": [
    "## SciPy-數值計算庫"
   ]
  },
  {
   "cell_type": "markdown",
   "metadata": {},
   "source": [
    "> **SOURCE**\n",
    "\n",
    "> `scpy2.scipy.hrd_solver`使用`csgraph`計算華容道游戲【橫刀馬上】佈局步數最少的解法。"
   ]
  },
  {
   "cell_type": "code",
   "execution_count": 1,
   "metadata": {
    "collapsed": false
   },
   "outputs": [],
   "source": [
    "%exec_python -m scpy2.scipy.hrd_solver"
   ]
  },
  {
   "cell_type": "markdown",
   "metadata": {},
   "source": [
    "## matplotlib-繪制精美的圖表"
   ]
  },
  {
   "cell_type": "markdown",
   "metadata": {},
   "source": [
    "> **SOURCE**\n",
    "\n",
    "> `scpy2/matplotlib/chinese_fonts.py`：顯示系統中所有檔案大於1M的TTF字型，請讀者使用該程式查詢電腦中可使用的中文字型名。"
   ]
  },
  {
   "cell_type": "code",
   "execution_count": 21,
   "metadata": {
    "collapsed": false,
    "group_control": {
     "group": 0
    }
   },
   "outputs": [],
   "source": [
    "%exec_python -m scpy2.matplotlib.chinese_fonts"
   ]
  },
  {
   "cell_type": "markdown",
   "metadata": {},
   "source": [
    "> **SOURCE**\n",
    "\n",
    "> `scpy2.common.GraphvizMatplotlib`：將matplotlib的物件關系輸出成如`ref:fig-next`所示的關系圖。"
   ]
  },
  {
   "cell_type": "markdown",
   "metadata": {},
   "source": [
    "> **SOURCE**\n",
    "\n",
    "> `scpy2.matplotlib.svg_path`：從SVG檔案中取得簡單的路徑訊息。可以使用該模組將向量繪圖軟體建立的圖形轉為`Patch`物件。"
   ]
  },
  {
   "cell_type": "markdown",
   "metadata": {},
   "source": [
    "> **SOURCE**\n",
    "\n",
    "> `scpy2.matplotlib.ImageDrawer`：使用`RendererAgg`直接在圖形上繪圖，方便使用者在圖形上標注訊息。"
   ]
  },
  {
   "cell_type": "markdown",
   "metadata": {},
   "source": [
    "> **SOURCE**\n",
    "\n",
    "> `scpy2.matplotlib.key_event_show_key`：顯示觸發鍵碟按鍵事件的按鍵名稱。"
   ]
  },
  {
   "cell_type": "code",
   "execution_count": 1,
   "metadata": {
    "collapsed": true
   },
   "outputs": [],
   "source": [
    "%exec_python -m scpy2.matplotlib.key_event_show_key"
   ]
  },
  {
   "cell_type": "markdown",
   "metadata": {},
   "source": [
    "> **SOURCE**\n",
    "\n",
    "> `scpy2.matplotlib.key_event_change_color`：透過按鍵修改曲線的彩色。"
   ]
  },
  {
   "cell_type": "code",
   "execution_count": 1,
   "metadata": {
    "collapsed": true
   },
   "outputs": [],
   "source": [
    "%exec_python -m scpy2.matplotlib.key_event_change_color"
   ]
  },
  {
   "cell_type": "markdown",
   "metadata": {},
   "source": [
    "> **SOURCE**\n",
    "\n",
    "> `scpy2.matplotlib.mouse_event_show_info`：顯示子圖中的滑鼠事件的各種訊息。"
   ]
  },
  {
   "cell_type": "code",
   "execution_count": 3,
   "metadata": {
    "collapsed": true
   },
   "outputs": [],
   "source": [
    "%exec_python -m scpy2.matplotlib.mouse_event_show_info"
   ]
  },
  {
   "cell_type": "markdown",
   "metadata": {},
   "source": [
    "> **SOURCE**\n",
    "\n",
    "> `scpy2.matplotlib.mouse_event_move_polygon`：示範透過滑鼠搬移`Patch`物件。"
   ]
  },
  {
   "cell_type": "code",
   "execution_count": 4,
   "metadata": {
    "collapsed": true
   },
   "outputs": [],
   "source": [
    "%exec_python -m scpy2.matplotlib.mouse_event_move_polygon"
   ]
  },
  {
   "cell_type": "markdown",
   "metadata": {},
   "source": [
    "> **SOURCE**\n",
    "\n",
    "> `scpy2.matplotlib.pick_event_demo`：示範繪圖物件的點選事件。"
   ]
  },
  {
   "cell_type": "code",
   "execution_count": 7,
   "metadata": {
    "collapsed": true
   },
   "outputs": [],
   "source": [
    "%exec_python -m scpy2.matplotlib.pick_event_demo"
   ]
  },
  {
   "cell_type": "markdown",
   "metadata": {},
   "source": [
    "> **SOURCE**\n",
    "\n",
    "> `scpy2.matplotlib.mouse_event_highlight_curve`：滑鼠搬移到曲線之上時反白顯示該曲線。"
   ]
  },
  {
   "cell_type": "code",
   "execution_count": 4,
   "metadata": {
    "collapsed": true
   },
   "outputs": [],
   "source": [
    "%exec_python -m scpy2.matplotlib.mouse_event_highlight_curve"
   ]
  },
  {
   "cell_type": "markdown",
   "metadata": {},
   "source": [
    "> **SOURCE**\n",
    "\n",
    "> `scpy2.matplotlib.gui_panel`：提供了TK與QT界面庫的滑標控制項面板類別`TkSliderPanel`和`QtSliderPanel`。`tk_panel_demo.py`和`qt_panel_demo.py`為其示範程式。"
   ]
  },
  {
   "cell_type": "code",
   "execution_count": 2,
   "metadata": {
    "collapsed": false,
    "group_control": {
     "group": 0
    }
   },
   "outputs": [],
   "source": [
    "%exec_python -m scpy2.matplotlib.tk_panel_demo"
   ]
  },
  {
   "cell_type": "code",
   "execution_count": 3,
   "metadata": {
    "collapsed": false,
    "group_control": {
     "group": 0
    }
   },
   "outputs": [],
   "source": [
    "%exec_python -m scpy2.matplotlib.qt_panel_demo"
   ]
  },
  {
   "cell_type": "markdown",
   "metadata": {},
   "source": [
    "## Pandas-方便的資料分析庫"
   ]
  },
  {
   "cell_type": "markdown",
   "metadata": {},
   "source": [
    "## SymPy-符號運算好幫手"
   ]
  },
  {
   "cell_type": "markdown",
   "metadata": {},
   "source": [
    "## Traits & TraitsUI-輕松製作圖形界面"
   ]
  },
  {
   "cell_type": "markdown",
   "metadata": {},
   "source": [
    "> **SOURCE**\n",
    "\n",
    "> `traitsuidemo.demo`：TraitsUI官方提供的示範程式"
   ]
  },
  {
   "cell_type": "code",
   "execution_count": 4,
   "metadata": {
    "collapsed": false,
    "group_control": {
     "group": 0
    }
   },
   "outputs": [],
   "source": [
    "%exec_python -m traitsuidemo.demo"
   ]
  },
  {
   "cell_type": "markdown",
   "metadata": {},
   "source": [
    "> **SOURCE**\n",
    "\n",
    "> `scpy2.traits.traitsui_editors`：示範TraitsUI提供的各種編輯器的用法。"
   ]
  },
  {
   "cell_type": "code",
   "execution_count": 19,
   "metadata": {
    "collapsed": true,
    "group_control": {
     "group": 0
    }
   },
   "outputs": [],
   "source": [
    "%exec_python -m scpy2.traits.traitsui_editors"
   ]
  },
  {
   "cell_type": "markdown",
   "metadata": {},
   "source": [
    "> **SOURCE**\n",
    "\n",
    "> `scpy2.traits.traitsui_component`：TraitsUI的元件示範程式。"
   ]
  },
  {
   "cell_type": "code",
   "execution_count": 21,
   "metadata": {
    "collapsed": true,
    "group_control": {
     "group": 0
    }
   },
   "outputs": [],
   "source": [
    "%exec_python -m scpy2.traits.traitsui_component"
   ]
  },
  {
   "cell_type": "markdown",
   "metadata": {},
   "source": [
    "> **SOURCE**\n",
    "\n",
    "> `scpy2.traits.traitsui_component_multi_view`：使用多個檢視顯示元件。"
   ]
  },
  {
   "cell_type": "code",
   "execution_count": 12,
   "metadata": {
    "collapsed": true,
    "group_control": {
     "group": 0
    }
   },
   "outputs": [],
   "source": [
    "%exec_python -m scpy2.traits.traitsui_component_multi_view "
   ]
  },
  {
   "cell_type": "markdown",
   "metadata": {},
   "source": [
    "> **SOURCE**\n",
    "\n",
    "> `scpy2.traits.traitsui_function_plotter`：采用TraitsUI撰寫的函數曲線繪制工具。"
   ]
  },
  {
   "cell_type": "code",
   "execution_count": 1,
   "metadata": {
    "collapsed": true
   },
   "outputs": [],
   "source": [
    "%exec_python -m scpy2.traits.traitsui_function_plotter"
   ]
  },
  {
   "cell_type": "markdown",
   "metadata": {},
   "source": [
    "## TVTK與Mayavi-資料的3D可視化"
   ]
  },
  {
   "cell_type": "markdown",
   "metadata": {},
   "source": [
    "> **SOURCE**\n",
    "\n",
    "> `scpy2.tvtk.tvtk_class_doc`：更方便的TVTK文件查詢工具"
   ]
  },
  {
   "cell_type": "code",
   "execution_count": 2,
   "metadata": {
    "collapsed": true,
    "group_control": {
     "group": 0
    }
   },
   "outputs": [],
   "source": [
    "%exec_python -m scpy2.tvtk.tvtk_class_doc"
   ]
  },
  {
   "cell_type": "markdown",
   "metadata": {},
   "source": [
    "> **SOURCE**\n",
    "\n",
    "> `scpy2.tvtk.figure_imagedata`：繪制`ref:fig-prev`的程式。"
   ]
  },
  {
   "cell_type": "code",
   "execution_count": 1,
   "metadata": {
    "collapsed": true
   },
   "outputs": [],
   "source": [
    "%exec_python -m scpy2.tvtk.figure_imagedata"
   ]
  },
  {
   "cell_type": "markdown",
   "metadata": {},
   "source": [
    "> **SOURCE**\n",
    "\n",
    "> `scpy2.tvtk.figure_rectilineargrid`：繪制`ref:fig-prev`的程式。"
   ]
  },
  {
   "cell_type": "code",
   "execution_count": 2,
   "metadata": {
    "collapsed": true
   },
   "outputs": [],
   "source": [
    "%exec_python -m scpy2.tvtk.figure_rectilineargrid"
   ]
  },
  {
   "cell_type": "markdown",
   "metadata": {},
   "source": [
    "> **SOURCE**\n",
    "\n",
    "> `scpy2.tvtk.figure_structuredgrid`：繪制`ref:fig-prev`的程式。"
   ]
  },
  {
   "cell_type": "code",
   "execution_count": 3,
   "metadata": {
    "collapsed": true
   },
   "outputs": [],
   "source": [
    "%exec_python -m scpy2.tvtk.figure_structuredgrid"
   ]
  },
  {
   "cell_type": "markdown",
   "metadata": {
    "collapsed": false,
    "group_control": {
     "group": 0
    }
   },
   "source": [
    "> **SOURCE**\n",
    "\n",
    "> `scpy2.tvtk.figure_polydata`：繪制`ref:fig-prev`的程式。"
   ]
  },
  {
   "cell_type": "code",
   "execution_count": 4,
   "metadata": {
    "collapsed": true
   },
   "outputs": [],
   "source": [
    "%exec_python -m scpy2.tvtk.figure_polydata"
   ]
  },
  {
   "cell_type": "markdown",
   "metadata": {},
   "source": [
    "> **SOURCE**\n",
    "\n",
    "> `scpy2.tvtk.example_cut_plane`：切面示範程式"
   ]
  },
  {
   "cell_type": "code",
   "execution_count": 35,
   "metadata": {
    "collapsed": true,
    "group_control": {
     "group": 0
    }
   },
   "outputs": [],
   "source": [
    "%exec_python -m scpy2.tvtk.example_cut_plane"
   ]
  },
  {
   "cell_type": "markdown",
   "metadata": {},
   "source": [
    "> **SOURCE**\n",
    "\n",
    "> `scpy2.tvtk.example_contours`：使用相等面可視化純量場"
   ]
  },
  {
   "cell_type": "code",
   "execution_count": 6,
   "metadata": {
    "collapsed": true,
    "group_control": {
     "group": 0
    }
   },
   "outputs": [],
   "source": [
    "%exec_python -m scpy2.tvtk.example_contours"
   ]
  },
  {
   "cell_type": "markdown",
   "metadata": {},
   "source": [
    "> **SOURCE**\n",
    "\n",
    "> `scpy2.tvtk.example_streamline`：使用流線和箭頭可視化向量場"
   ]
  },
  {
   "cell_type": "code",
   "execution_count": 7,
   "metadata": {
    "collapsed": true,
    "group_control": {
     "group": 0
    }
   },
   "outputs": [],
   "source": [
    "%exec_python -m scpy2.tvtk.example_streamline"
   ]
  },
  {
   "cell_type": "markdown",
   "metadata": {},
   "source": [
    "> **SOURCE**\n",
    "\n",
    "> `scpy2.tvtk.example_tube_intersection`：計算兩個圓管的相貫線，可透過界面中的滑動區塊控制項修改圓管的內徑和外徑。"
   ]
  },
  {
   "cell_type": "code",
   "execution_count": 83,
   "metadata": {
    "collapsed": true,
    "group_control": {
     "group": 0
    }
   },
   "outputs": [],
   "source": [
    "%exec_python -m scpy2.tvtk.example_tube_intersection"
   ]
  },
  {
   "cell_type": "markdown",
   "metadata": {},
   "source": [
    "> **SOURCE**\n",
    "\n",
    "> `scpy2.tvtk.mlab_scalar_field`：使用相等面、體素呈像和切面可視化純量場"
   ]
  },
  {
   "cell_type": "code",
   "execution_count": 2,
   "metadata": {
    "collapsed": true
   },
   "outputs": [],
   "source": [
    "%exec_python -m scpy2.tvtk.mlab_scalar_field"
   ]
  },
  {
   "cell_type": "markdown",
   "metadata": {},
   "source": [
    "> **SOURCE**\n",
    "\n",
    "> `scpy2.tvtk.mlab_vector_field`：使用向量箭頭、切片、等梯度面和流線顯示向量場"
   ]
  },
  {
   "cell_type": "code",
   "execution_count": 11,
   "metadata": {
    "collapsed": true,
    "group_control": {
     "group": 0
    }
   },
   "outputs": [],
   "source": [
    "%exec_python -m scpy2.tvtk.mlab_vector_field"
   ]
  },
  {
   "cell_type": "markdown",
   "metadata": {},
   "source": [
    "> **SOURCE**\n",
    "\n",
    "> `scpy2.tvtk.example_embed_tube`：示範如何將TVTK的場景內嵌進TraitsUI界面，可透過界面中的控制項調節圓管的內徑和外徑。"
   ]
  },
  {
   "cell_type": "code",
   "execution_count": 3,
   "metadata": {
    "collapsed": true,
    "group_control": {
     "group": 0
    }
   },
   "outputs": [],
   "source": [
    "%exec_python -m scpy2.tvtk.example_tube"
   ]
  },
  {
   "cell_type": "markdown",
   "metadata": {},
   "source": [
    "> **SOURCE**\n",
    "\n",
    "> `scpy2.tvtk.example_embed_fieldviewer`：純量場觀察器，示範如何將Mayavi的場景內嵌到TraitsUI的界面中"
   ]
  },
  {
   "cell_type": "code",
   "execution_count": 4,
   "metadata": {
    "collapsed": true,
    "group_control": {
     "group": 0
    }
   },
   "outputs": [],
   "source": [
    "%exec_python -m scpy2.tvtk.example_embed_fieldviewer"
   ]
  },
  {
   "cell_type": "markdown",
   "metadata": {},
   "source": [
    "## OpenCV-圖形處理和電腦視覺"
   ]
  },
  {
   "cell_type": "markdown",
   "metadata": {},
   "source": [
    "> **SOURCE**\n",
    "\n",
    "> `scpy2.opencv.fourcc`：檢視勾選的視訊解碼器對應的`FOURCC`程式碼。"
   ]
  },
  {
   "cell_type": "code",
   "execution_count": 8,
   "metadata": {
    "collapsed": false,
    "group_control": {
     "group": 0
    }
   },
   "outputs": [],
   "source": [
    "%exec_python -m scpy2.opencv.fourcc"
   ]
  },
  {
   "cell_type": "markdown",
   "metadata": {},
   "source": [
    "> **SOURCE**\n",
    "\n",
    "> `scpy2.opencv.filter2d_demo`：可透過圖形界面自訂卷冊積核，並實時檢視其處理結果。`"
   ]
  },
  {
   "cell_type": "code",
   "execution_count": 8,
   "metadata": {
    "collapsed": false,
    "group_control": {
     "group": 0
    }
   },
   "outputs": [],
   "source": [
    "%exec_python -m scpy2.opencv.filter2d_demo"
   ]
  },
  {
   "cell_type": "markdown",
   "metadata": {},
   "source": [
    "> **SOURCE**\n",
    "\n",
    "> `scpy2.opencv.morphology_demo`：示範OpenCV中的各種形態學運算。"
   ]
  },
  {
   "cell_type": "code",
   "execution_count": 59,
   "metadata": {
    "collapsed": false,
    "group_control": {
     "group": 0
    }
   },
   "outputs": [],
   "source": [
    "%exec_python -m scpy2.opencv.morphology_demo"
   ]
  },
  {
   "cell_type": "markdown",
   "metadata": {},
   "source": [
    "> **SOURCE**\n",
    "\n",
    "> `scpy2.opencv.floodfill_demo`：示範填充函數`floodFill()`的各個參數的用法。"
   ]
  },
  {
   "cell_type": "code",
   "execution_count": 60,
   "metadata": {
    "collapsed": false,
    "group_control": {
     "group": 0
    }
   },
   "outputs": [],
   "source": [
    "%exec_python -m scpy2.opencv.floodfill_demo"
   ]
  },
  {
   "cell_type": "markdown",
   "metadata": {},
   "source": [
    "> **SOURCE**\n",
    "\n",
    "> `scpy2.opencv.inpaint_demo`：示範`inpaint()`的用法，使用者用滑鼠繪制需要去瑕疵的區域，程式實時顯示運算結果。"
   ]
  },
  {
   "cell_type": "code",
   "execution_count": 14,
   "metadata": {
    "collapsed": false,
    "group_control": {
     "group": 0
    }
   },
   "outputs": [],
   "source": [
    "%exec_python -m scpy2.opencv.inpaint_demo"
   ]
  },
  {
   "cell_type": "markdown",
   "metadata": {},
   "source": [
    "> **SOURCE**\n",
    "\n",
    "> `scpy2.opencv.warp_demo`：仿射變換和透視變換的示範程式，可以透過滑鼠拖曳圖中藍色三角形和四邊形的頂點，進一步決定原始圖形各個頂角經由變換之後的座標。"
   ]
  },
  {
   "cell_type": "code",
   "execution_count": 2,
   "metadata": {
    "collapsed": false
   },
   "outputs": [],
   "source": [
    "%exec_python -m scpy2.opencv.warp_demo"
   ]
  },
  {
   "cell_type": "markdown",
   "metadata": {},
   "source": [
    "> **SOURCE**\n",
    "\n",
    "> `scpy2.opencv.remap_demo`：示範`remap()`的拖曳效果。在圖形上按住滑鼠左鍵進行拖曳，每次拖曳完成之後，都將修改原始圖形，可以按滑鼠右鍵取消上次的拖曳動作。"
   ]
  },
  {
   "cell_type": "code",
   "execution_count": 11,
   "metadata": {
    "collapsed": false
   },
   "outputs": [],
   "source": [
    "%exec_python -m scpy2.opencv.remap_demo"
   ]
  },
  {
   "cell_type": "markdown",
   "metadata": {},
   "source": [
    "> **SOURCE**\n",
    "\n",
    "> `scpy2.opencv.fft2d_demo`：示範二維離散傅立葉變換，使用者在左側的頻域模值圖形上用滑鼠繪制隱藏區域，右側的圖形為頻域訊號經由隱藏處理之後所轉換成的空域訊號。"
   ]
  },
  {
   "cell_type": "code",
   "execution_count": 25,
   "metadata": {
    "collapsed": false
   },
   "outputs": [],
   "source": [
    "%exec_python -m scpy2.opencv.fft2d_demo"
   ]
  },
  {
   "cell_type": "markdown",
   "metadata": {},
   "source": [
    "> **SOURCE**\n",
    "\n",
    "> `scpy2.opencv.stereo_demo`：使用二元視覺圖形計算深度訊息的示範程式。"
   ]
  },
  {
   "cell_type": "code",
   "execution_count": 27,
   "metadata": {
    "collapsed": false
   },
   "outputs": [],
   "source": [
    "%exec_python -m scpy2.opencv.stereo_demo"
   ]
  },
  {
   "cell_type": "markdown",
   "metadata": {},
   "source": [
    "> **SOURCE**\n",
    "\n",
    "> `scpy2.opencv.hough_demo`：霍夫變換示範程式，可透過界面調節函數的所有參數。"
   ]
  },
  {
   "cell_type": "markdown",
   "metadata": {},
   "source": [
    "> **SOURCE**\n",
    "\n",
    "> `scpy2.opencv.watershed_demo`：分水嶺算法的示範程式。用滑鼠在圖形上繪制起始區域，起始區域將使用“目前標簽”填充，按滑鼠右鍵切換到下一個標簽。每次繪制起始區域之後，將顯示分割的結果。"
   ]
  },
  {
   "cell_type": "code",
   "execution_count": 20,
   "metadata": {
    "collapsed": false,
    "group_control": {
     "group": 0
    }
   },
   "outputs": [],
   "source": [
    "%exec_python -m scpy2.opencv.watershed_demo"
   ]
  },
  {
   "cell_type": "markdown",
   "metadata": {},
   "source": [
    "> **SOURCE**\n",
    "\n",
    "> `scpy2.opencv.surf_demo`：`SURF`圖形比對示範程式。用滑鼠修改右側圖形的四個角的位置計算出透視變換之後的圖形，然後在原始圖形和變換之後的圖形之間搜尋比對點，並計算透視變換的矩陣。"
   ]
  },
  {
   "cell_type": "code",
   "execution_count": 1,
   "metadata": {
    "collapsed": false,
    "group_control": {
     "group": 0
    }
   },
   "outputs": [],
   "source": [
    "%exec_python -m scpy2.opencv.surf_demo"
   ]
  },
  {
   "cell_type": "markdown",
   "metadata": {},
   "source": [
    "> **SOURCE**\n",
    "\n",
    "> `scpy2.opencv.findcontours_demo`：輪廓檢驗示範程式"
   ]
  },
  {
   "cell_type": "code",
   "execution_count": 2,
   "metadata": {
    "collapsed": false,
    "group_control": {
     "group": 0
    }
   },
   "outputs": [],
   "source": [
    "%exec_python -m scpy2.opencv.findcontours_demo"
   ]
  },
  {
   "cell_type": "markdown",
   "metadata": {},
   "source": [
    "> **SOURCE**\n",
    "\n",
    "> `codes\\pyopencv_src`：為了方便讀者檢視`cv2`模組的源程式碼，本書提供了自動產生的源程式碼。若讀者遇到參數型態不確定的情況，可以檢視這些檔案中對應的函數。"
   ]
  },
  {
   "cell_type": "markdown",
   "metadata": {},
   "source": [
    "## Cython-編譯Python程式"
   ]
  },
  {
   "cell_type": "markdown",
   "metadata": {},
   "source": [
    "> **SOURCE**\n",
    "\n",
    "> `scpy2.cython.fast_curve_draw`示範使用降取樣提昇matplotlib的曲線繪制速度。降取樣函數為`scpy2.cython.get_peaks()`。"
   ]
  },
  {
   "cell_type": "code",
   "execution_count": 25,
   "metadata": {
    "collapsed": false,
    "group_control": {
     "group": 0
    }
   },
   "outputs": [],
   "source": [
    "%exec_python -m scpy2.cython.fast_curve_draw"
   ]
  },
  {
   "cell_type": "markdown",
   "metadata": {},
   "source": [
    "> **SOURCE**\n",
    "\n",
    "> `scpy2.cython.multisearch`模組對C語系函數庫`ahocorasick`進行包裝。使用該模組可以快速在大量文字中同時搜尋多個關鍵字。"
   ]
  },
  {
   "cell_type": "markdown",
   "metadata": {
    "group_control": {
     "group": 0
    }
   },
   "source": [
    "##案例"
   ]
  },
  {
   "cell_type": "markdown",
   "metadata": {},
   "source": [
    "> **SOURCE**\n",
    "\n",
    "> `scpy2.examples.possion`：使用TraitsUI撰寫的泊松混合示範程式。該程式使用`scpy2.matplotlib.freedraw_widget`中提供的`ImageMaskDrawer`在圖形上繪制半透明的白色區域。"
   ]
  },
  {
   "cell_type": "code",
   "execution_count": 12,
   "metadata": {
    "collapsed": true
   },
   "outputs": [],
   "source": [
    "%exec_python -m scpy2.examples.possion"
   ]
  },
  {
   "cell_type": "markdown",
   "metadata": {},
   "source": [
    "> **SOURCE**\n",
    "\n",
    "> `scpy2.examples.catenary`：使用TraitsUI製作的懸鏈線的動畫示範程式，可透過界面修改各個參數"
   ]
  },
  {
   "cell_type": "code",
   "execution_count": 4,
   "metadata": {
    "collapsed": false,
    "group_control": {
     "group": 0
    }
   },
   "outputs": [],
   "source": [
    "%exec_python -m scpy2.examples.catenary"
   ]
  },
  {
   "cell_type": "markdown",
   "metadata": {},
   "source": [
    "> **SOURCE**\n",
    "\n",
    "> `scpy2.examples.fft_demo`：使用該程式可以交談式地觀察各種三角波和方波的頻譜以及其正弦合成的近似波形"
   ]
  },
  {
   "cell_type": "code",
   "execution_count": 1,
   "metadata": {
    "collapsed": false,
    "group_control": {
     "group": 0
    }
   },
   "outputs": [],
   "source": [
    "%exec_python -m scpy2.examples.fft_demo"
   ]
  },
  {
   "cell_type": "markdown",
   "metadata": {},
   "source": [
    "> **SOURCE**\n",
    "\n",
    "> `scpy2.examples.spectrogram_realtime`：實時觀察音效訊號譜圖的示範程式，使用TraitsUI、PyAudio等庫實現"
   ]
  },
  {
   "cell_type": "code",
   "execution_count": 1,
   "metadata": {
    "collapsed": true,
    "group_control": {
     "group": 0
    }
   },
   "outputs": [],
   "source": [
    "%exec_python -m scpy2.examples.spectrogram_realtime"
   ]
  },
  {
   "cell_type": "markdown",
   "metadata": {},
   "source": [
    "> **SOURCE**\n",
    "\n",
    "> `scpy2.examples.sudoku_solver`：采用matplotlib製作的數獨游戲求解器"
   ]
  },
  {
   "cell_type": "code",
   "execution_count": 17,
   "metadata": {
    "collapsed": false,
    "group_control": {
     "group": 0
    }
   },
   "outputs": [],
   "source": [
    "%exec_python -m scpy2.examples.sudoku_solver"
   ]
  },
  {
   "cell_type": "markdown",
   "metadata": {},
   "source": [
    "> **SOURCE**\n",
    "\n",
    "> `scpy2.examples.automine`：Windows 7系統下自動掃雷，需將掃雷游戲的難度設定為進階（99個雷），並且關閉“顯示動畫”、“播放音效”以及“顯示提示”等選項。"
   ]
  },
  {
   "cell_type": "code",
   "execution_count": 5,
   "metadata": {
    "collapsed": false,
    "group_control": {
     "group": 0
    }
   },
   "outputs": [],
   "source": [
    "%exec_python -m scpy2.examples.automine"
   ]
  },
  {
   "cell_type": "markdown",
   "metadata": {},
   "source": [
    "> **SOURCE**\n",
    "\n",
    "> `scpy2.examples.fractal.mandelbrot_demo`：使用TraitsUI和matplotlib實時繪制Mandelbrot圖形，按住滑鼠左鍵進行平移，使用滑鼠滾軸進行縮放。"
   ]
  },
  {
   "cell_type": "code",
   "execution_count": 2,
   "metadata": {
    "collapsed": false,
    "group_control": {
     "group": 0
    }
   },
   "outputs": [],
   "source": [
    "%exec_python -m scpy2.examples.fractal.mandelbrot_demo"
   ]
  },
  {
   "cell_type": "markdown",
   "metadata": {},
   "source": [
    "> **SOURCE**\n",
    "\n",
    "> `scpy2.examples.fractal.ifs_demo`：迭代函數分形系統的示範程式，透過修改左側三角形的頂點實時地計算座標變換矩陣，並在右側顯示迭代結果。"
   ]
  },
  {
   "cell_type": "code",
   "execution_count": 3,
   "metadata": {
    "collapsed": false,
    "group_control": {
     "group": 0
    }
   },
   "outputs": [],
   "source": [
    "%exec_python -m scpy2.examples.fractal.ifs_demo"
   ]
  },
  {
   "cell_type": "code",
   "execution_count": null,
   "metadata": {
    "collapsed": true
   },
   "outputs": [],
   "source": []
  }
 ],
 "metadata": {
  "kernelspec": {
   "display_name": "Python 2",
   "language": "python",
   "name": "python2"
  },
  "language_info": {
   "codemirror_mode": {
    "name": "ipython",
    "version": 2
   },
   "file_extension": ".py",
   "mimetype": "text/x-python",
   "name": "python",
   "nbconvert_exporter": "python",
   "pygments_lexer": "ipython2",
   "version": "2.7.9"
  }
 },
 "nbformat": 4,
 "nbformat_minor": 0
}
