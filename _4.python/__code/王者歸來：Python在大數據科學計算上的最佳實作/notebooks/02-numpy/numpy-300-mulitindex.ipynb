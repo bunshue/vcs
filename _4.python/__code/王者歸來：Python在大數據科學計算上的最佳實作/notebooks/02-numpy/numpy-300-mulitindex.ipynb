﻿{
 "cells": [
  {
   "cell_type": "code",
   "execution_count": 1,
   "metadata": {
    "collapsed": false
   },
   "outputs": [],
   "source": [
    "import numpy as np"
   ]
  },
  {
   "cell_type": "markdown",
   "metadata": {},
   "source": [
    "## 多維陣列的索引存取"
   ]
  },
  {
   "cell_type": "markdown",
   "metadata": {},
   "source": [
    "### 索引物件"
   ]
  },
  {
   "cell_type": "code",
   "execution_count": 2,
   "metadata": {
    "collapsed": false
   },
   "outputs": [
    {
     "name": "stdout",
     "output_type": "stream",
     "text": [
      "     a[lidx]                a[aidx]          \n",
      "-----------------  --------------------------\n",
      "[[5, 6, 7, 8, 9]]  [[[[ 0,  1,  2,  3,  4],  \n",
      "                      [ 5,  6,  7,  8,  9],  \n",
      "                      [10, 11, 12, 13, 14],  \n",
      "                      [15, 16, 17, 18, 19]]],\n",
      "                                             \n",
      "                                             \n",
      "                    [[[20, 21, 22, 23, 24],  \n",
      "                      [25, 26, 27, 28, 29],  \n",
      "                      [30, 31, 32, 33, 34],  \n",
      "                      [35, 36, 37, 38, 39]]]]\n"
     ]
    }
   ],
   "source": [
    "a = np.arange(3 * 4 * 5).reshape(3, 4, 5)\n",
    "lidx = [[0], [1]]\n",
    "aidx = np.array(lidx)\n",
    "%C a[lidx]; a[aidx]"
   ]
  },
  {
   "cell_type": "code",
   "execution_count": 3,
   "metadata": {
    "collapsed": false
   },
   "outputs": [
    {
     "name": "stdout",
     "output_type": "stream",
     "text": [
      "  a[tuple(lidx)]          a[aidx,:,:]        \n",
      "-----------------  --------------------------\n",
      "[[5, 6, 7, 8, 9]]  [[[[ 0,  1,  2,  3,  4],  \n",
      "                      [ 5,  6,  7,  8,  9],  \n",
      "                      [10, 11, 12, 13, 14],  \n",
      "                      [15, 16, 17, 18, 19]]],\n",
      "                                             \n",
      "                                             \n",
      "                    [[[20, 21, 22, 23, 24],  \n",
      "                      [25, 26, 27, 28, 29],  \n",
      "                      [30, 31, 32, 33, 34],  \n",
      "                      [35, 36, 37, 38, 39]]]]\n"
     ]
    }
   ],
   "source": [
    "%C a[tuple(lidx)]; a[aidx,:,:]"
   ]
  },
  {
   "cell_type": "markdown",
   "metadata": {},
   "source": [
    "### 整數群組作為索引"
   ]
  },
  {
   "cell_type": "markdown",
   "metadata": {},
   "source": [
    "> **TIP**\n",
    "\n",
    "> 若只需要沿著指定軸透過整數群組取得元素，可以使用`numpy.take()`函數，其運算速度比整數群組的索引運算略快，並且支援索引越界處理。"
   ]
  },
  {
   "cell_type": "code",
   "execution_count": 4,
   "metadata": {
    "collapsed": false
   },
   "outputs": [
    {
     "data": {
      "text/plain": [
       "array([[[22, 43, 22],\n",
       "        [ 2, 23,  2]],\n",
       "\n",
       "       [[27, 48, 27],\n",
       "        [ 7, 28,  7]]])"
      ]
     },
     "execution_count": 4,
     "metadata": {},
     "output_type": "execute_result"
    }
   ],
   "source": [
    "i0 = np.array([[1, 2, 1], [0, 1, 0]])\n",
    "i1 = np.array([[[0]], [[1]]])\n",
    "i2 = np.array([[[2, 3, 2]]])\n",
    "b = a[i0, i1, i2]\n",
    "b"
   ]
  },
  {
   "cell_type": "code",
   "execution_count": 11,
   "metadata": {
    "collapsed": false
   },
   "outputs": [
    {
     "data": {
      "text/plain": [
       "(2, 2, 3)"
      ]
     },
     "execution_count": 11,
     "metadata": {},
     "output_type": "execute_result"
    }
   ],
   "source": [
    "b.shape"
   ]
  },
  {
   "cell_type": "code",
   "execution_count": 5,
   "metadata": {
    "collapsed": false
   },
   "outputs": [
    {
     "name": "stdout",
     "output_type": "stream",
     "text": [
      "     ind0           ind1           ind2    \n",
      "-------------  -------------  -------------\n",
      "[[[1, 2, 1],   [[[0, 0, 0],   [[[2, 3, 2], \n",
      "  [0, 1, 0]],    [0, 0, 0]],    [2, 3, 2]],\n",
      "                                           \n",
      " [[1, 2, 1],    [[1, 1, 1],    [[2, 3, 2], \n",
      "  [0, 1, 0]]]    [1, 1, 1]]]    [2, 3, 2]]]\n"
     ]
    }
   ],
   "source": [
    "ind0, ind1, ind2 = np.broadcast_arrays(i0, i1, i2)\n",
    "%C ind0; ind1; ind2"
   ]
  },
  {
   "cell_type": "code",
   "execution_count": 7,
   "metadata": {
    "collapsed": false
   },
   "outputs": [
    {
     "name": "stdout",
     "output_type": "stream",
     "text": [
      "2 2\n",
      "28 28\n"
     ]
    }
   ],
   "source": [
    "i, j, k = 0, 1, 2\n",
    "print b[i, j, k], a[ind0[i, j, k], ind1[i, j, k], ind2[i, j, k]]\n",
    "\n",
    "i, j, k = 1, 1, 1\n",
    "print b[i, j, k], a[ind0[i, j, k], ind1[i, j, k], ind2[i, j, k]]"
   ]
  },
  {
   "cell_type": "code",
   "execution_count": 8,
   "metadata": {
    "collapsed": false
   },
   "outputs": [
    {
     "data": {
      "text/plain": [
       "(2, 2, 2, 3)"
      ]
     },
     "execution_count": 8,
     "metadata": {},
     "output_type": "execute_result"
    }
   ],
   "source": [
    "c = a[1:3, i0, i1]\n",
    "c.shape"
   ]
  },
  {
   "cell_type": "code",
   "execution_count": 9,
   "metadata": {
    "collapsed": false
   },
   "outputs": [
    {
     "data": {
      "text/plain": [
       "(2, 2, 3)"
      ]
     },
     "execution_count": 9,
     "metadata": {},
     "output_type": "execute_result"
    }
   ],
   "source": [
    "ind0, ind1 = np.broadcast_arrays(i0, i1)\n",
    "ind0.shape"
   ]
  },
  {
   "cell_type": "code",
   "execution_count": 11,
   "metadata": {
    "collapsed": false
   },
   "outputs": [
    {
     "name": "stdout",
     "output_type": "stream",
     "text": [
      "[21 41]\n",
      "[21 41]\n"
     ]
    }
   ],
   "source": [
    "i, j, k = 1, 1, 2\n",
    "print c[:, i, j, k]\n",
    "print a[1:3, ind0[i, j, k], ind1[i, j, k]]  # 和c[:,i,j,k]的值相同"
   ]
  },
  {
   "cell_type": "code",
   "execution_count": 12,
   "metadata": {
    "collapsed": false
   },
   "outputs": [
    {
     "data": {
      "text/plain": [
       "(2, 2, 3, 4)"
      ]
     },
     "execution_count": 12,
     "metadata": {},
     "output_type": "execute_result"
    }
   ],
   "source": [
    "d = a[i0, :, i1]\n",
    "d.shape"
   ]
  },
  {
   "cell_type": "code",
   "execution_count": 13,
   "metadata": {
    "collapsed": false
   },
   "outputs": [
    {
     "name": "stdout",
     "output_type": "stream",
     "text": [
      "   d[i,j,k,:]     a[ind0[i,j,k],:,ind1[i,j,k]]\n",
      "----------------  ----------------------------\n",
      "[ 1,  6, 11, 16]  [ 1,  6, 11, 16]            \n"
     ]
    }
   ],
   "source": [
    "i, j, k = 1, 1, 2\n",
    "%C d[i,j,k,:]; a[ind0[i,j,k],:,ind1[i,j,k]]"
   ]
  },
  {
   "cell_type": "markdown",
   "metadata": {},
   "source": [
    "### 一個復雜的實例"
   ]
  },
  {
   "cell_type": "markdown",
   "metadata": {},
   "source": [
    "> **LINK**\n",
    "\n",
    "> http://mail.scipy.org/pipermail/numpy-discussion/2008-July/035764.html\n",
    "\n",
    "> NumPy信件清單中的原文連結"
   ]
  },
  {
   "cell_type": "code",
   "execution_count": 5,
   "metadata": {
    "collapsed": false
   },
   "outputs": [],
   "source": [
    "#%hide\n",
    "%exec_python -m scpy2.numpy.array_index_demo"
   ]
  },
  {
   "cell_type": "code",
   "execution_count": 2,
   "metadata": {
    "collapsed": false
   },
   "outputs": [],
   "source": [
    "I, J, K, L = 6, 7, 8, 3\n",
    "_, _, v = np.mgrid[:I, :J, :K]\n",
    "idx = np.random.randint(0, K - L, size=(I, J))"
   ]
  },
  {
   "cell_type": "code",
   "execution_count": 4,
   "metadata": {
    "collapsed": false
   },
   "outputs": [
    {
     "data": {
      "text/plain": [
       "(6, 7, 3)"
      ]
     },
     "execution_count": 4,
     "metadata": {},
     "output_type": "execute_result"
    }
   ],
   "source": [
    "idx_k = idx[:, :, None] + np.arange(3)\n",
    "idx_k.shape"
   ]
  },
  {
   "cell_type": "code",
   "execution_count": 16,
   "metadata": {
    "collapsed": false
   },
   "outputs": [],
   "source": [
    "idx_i, idx_j, _ = np.ogrid[:I, :J, :K]"
   ]
  },
  {
   "cell_type": "code",
   "execution_count": 17,
   "metadata": {
    "collapsed": false
   },
   "outputs": [
    {
     "name": "stdout",
     "output_type": "stream",
     "text": [
      " r[i,j,:]  v[i,j,idx[i,j]:idx[i,j]+L]\n",
      "---------  --------------------------\n",
      "[0, 1, 2]  [0, 1, 2]                 \n"
     ]
    }
   ],
   "source": [
    "r = v[idx_i, idx_j, idx_k]    \n",
    "i, j = 2, 3  # 驗證結果，讀者可以將之修改為使用循環驗證所有的元素\n",
    "%C r[i,j,:]; v[i,j,idx[i,j]:idx[i,j]+L]"
   ]
  },
  {
   "cell_type": "markdown",
   "metadata": {},
   "source": [
    "### 布爾陣列作索引"
   ]
  },
  {
   "cell_type": "markdown",
   "metadata": {},
   "source": [
    "> **TIP**\n",
    "\n",
    "> 若只需要沿著指定軸透過布爾陣列取得元素，可以使用`numpy.compress()`函數。"
   ]
  },
  {
   "cell_type": "code",
   "execution_count": 18,
   "metadata": {
    "collapsed": false
   },
   "outputs": [
    {
     "data": {
      "text/plain": [
       "(array([0, 2]),)"
      ]
     },
     "execution_count": 18,
     "metadata": {},
     "output_type": "execute_result"
    }
   ],
   "source": [
    "b1 = np.array([True, False, True, False])\n",
    "np.nonzero(b1)"
   ]
  },
  {
   "cell_type": "code",
   "execution_count": 19,
   "metadata": {
    "collapsed": false
   },
   "outputs": [
    {
     "data": {
      "text/plain": [
       "(array([0, 0, 1]), array([0, 2, 0]))"
      ]
     },
     "execution_count": 19,
     "metadata": {},
     "output_type": "execute_result"
    }
   ],
   "source": [
    "b2 = np.array([[True, False, True], [True, False, False]])\n",
    "np.nonzero(b2)"
   ]
  },
  {
   "cell_type": "code",
   "execution_count": 20,
   "metadata": {
    "collapsed": false
   },
   "outputs": [
    {
     "name": "stdout",
     "output_type": "stream",
     "text": [
      "        a[b2]             a[np.nonzero(b2)]   \n",
      "----------------------  ----------------------\n",
      "[[ 0,  1,  2,  3,  4],  [[ 0,  1,  2,  3,  4],\n",
      " [10, 11, 12, 13, 14],   [10, 11, 12, 13, 14],\n",
      " [20, 21, 22, 23, 24]]   [20, 21, 22, 23, 24]]\n"
     ]
    }
   ],
   "source": [
    "a = np.arange(3 * 4 * 5).reshape(3, 4, 5)\n",
    "%C a[b2]; a[np.nonzero(b2)]"
   ]
  },
  {
   "cell_type": "code",
   "execution_count": 21,
   "metadata": {
    "collapsed": false
   },
   "outputs": [
    {
     "name": "stdout",
     "output_type": "stream",
     "text": [
      "  a[1:3, b2]    a[1:3, np.nonzero(b2)[0], np.nonzero(b2)[1]]\n",
      "--------------  --------------------------------------------\n",
      "[[20, 22, 25],  [[20, 22, 25],                              \n",
      " [40, 42, 45]]   [40, 42, 45]]                              \n"
     ]
    }
   ],
   "source": [
    "%C a[1:3, b2]; a[1:3, np.nonzero(b2)[0], np.nonzero(b2)[1]]"
   ]
  }
 ],
 "metadata": {
  "kernelspec": {
   "display_name": "Python 2",
   "language": "python",
   "name": "python2"
  },
  "language_info": {
   "codemirror_mode": {
    "name": "ipython",
    "version": 2
   },
   "file_extension": ".py",
   "mimetype": "text/x-python",
   "name": "python",
   "nbconvert_exporter": "python",
   "pygments_lexer": "ipython2",
   "version": "2.7.9"
  }
 },
 "nbformat": 4,
 "nbformat_minor": 0
}
