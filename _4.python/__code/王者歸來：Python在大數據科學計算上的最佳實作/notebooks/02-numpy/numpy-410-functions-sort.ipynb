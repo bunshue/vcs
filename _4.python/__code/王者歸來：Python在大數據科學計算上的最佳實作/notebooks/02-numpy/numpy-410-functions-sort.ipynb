﻿{
 "cells": [
  {
   "cell_type": "code",
   "execution_count": 1,
   "metadata": {
    "collapsed": false,
    "group_control": {
     "group": 0
    }
   },
   "outputs": [],
   "source": [
    "import numpy as np"
   ]
  },
  {
   "cell_type": "markdown",
   "metadata": {},
   "source": [
    "### 大小與排序"
   ]
  },
  {
   "cell_type": "code",
   "execution_count": 2,
   "metadata": {
    "collapsed": false,
    "group_control": {
     "group": 0
    }
   },
   "outputs": [
    {
     "data": {
      "text/plain": [
       "array([[2, 3, 5, 7],\n",
       "       [4, 4, 5, 7],\n",
       "       [6, 6, 6, 7]])"
      ]
     },
     "execution_count": 2,
     "metadata": {},
     "output_type": "execute_result"
    }
   ],
   "source": [
    "a = np.array([1, 3, 5, 7])\n",
    "b = np.array([2, 4, 6])\n",
    "np.maximum(a[None, :], b[:, None])"
   ]
  },
  {
   "cell_type": "code",
   "execution_count": 3,
   "metadata": {
    "collapsed": false,
    "group_control": {
     "group": 0
    }
   },
   "outputs": [
    {
     "data": {
      "text/plain": [
       "5"
      ]
     },
     "execution_count": 3,
     "metadata": {},
     "output_type": "execute_result"
    }
   ],
   "source": [
    "np.random.seed(42)\n",
    "a = np.random.randint(0, 10, size=(4, 5))\n",
    "max_pos = np.argmax(a)\n",
    "max_pos"
   ]
  },
  {
   "cell_type": "code",
   "execution_count": 4,
   "metadata": {
    "collapsed": false,
    "group_control": {
     "group": 0
    }
   },
   "outputs": [
    {
     "name": "stdout",
     "output_type": "stream",
     "text": [
      "a.ravel()[max_pos]  np.max(a)\n",
      "------------------  ---------\n",
      "9                   9        \n"
     ]
    }
   ],
   "source": [
    "%C a.ravel()[max_pos]; np.max(a)"
   ]
  },
  {
   "cell_type": "code",
   "execution_count": 5,
   "metadata": {
    "collapsed": false,
    "group_control": {
     "group": 0
    }
   },
   "outputs": [
    {
     "name": "stdout",
     "output_type": "stream",
     "text": [
      " idx    a[idx]\n",
      "------  ------\n",
      "(1, 0)  9     \n"
     ]
    }
   ],
   "source": [
    "idx = np.unravel_index(max_pos, a.shape)\n",
    "%C idx; a[idx]"
   ]
  },
  {
   "cell_type": "code",
   "execution_count": 6,
   "metadata": {
    "collapsed": false,
    "group_control": {
     "group": 0
    }
   },
   "outputs": [
    {
     "data": {
      "text/plain": [
       "array([2, 0, 1, 2])"
      ]
     },
     "execution_count": 6,
     "metadata": {},
     "output_type": "execute_result"
    }
   ],
   "source": [
    "idx = np.argmax(a, axis=1)\n",
    "idx"
   ]
  },
  {
   "cell_type": "code",
   "execution_count": 7,
   "metadata": {
    "collapsed": false,
    "group_control": {
     "group": 0
    }
   },
   "outputs": [
    {
     "data": {
      "text/plain": [
       "array([7, 9, 7, 7])"
      ]
     },
     "execution_count": 7,
     "metadata": {},
     "output_type": "execute_result"
    }
   ],
   "source": [
    "a[np.arange(a.shape[0]), idx]"
   ]
  },
  {
   "cell_type": "code",
   "execution_count": 8,
   "metadata": {
    "collapsed": false,
    "group_control": {
     "group": 0
    }
   },
   "outputs": [
    {
     "name": "stdout",
     "output_type": "stream",
     "text": [
      "    np.sort(a)     np.sort(a, axis=0)\n",
      "-----------------  ------------------\n",
      "[[3, 4, 6, 6, 7],  [[3, 1, 6, 2, 1], \n",
      " [2, 4, 6, 7, 9],   [4, 2, 7, 4, 4], \n",
      " [2, 3, 5, 7, 7],   [6, 3, 7, 5, 5], \n",
      " [1, 1, 4, 5, 7]]   [9, 7, 7, 7, 6]] \n"
     ]
    }
   ],
   "source": [
    "%C np.sort(a); np.sort(a, axis=0)"
   ]
  },
  {
   "cell_type": "code",
   "execution_count": 9,
   "metadata": {
    "collapsed": false,
    "group_control": {
     "group": 0
    }
   },
   "outputs": [
    {
     "name": "stdout",
     "output_type": "stream",
     "text": [
      "    sort_axis1         sort_axis0   \n",
      "-----------------  -----------------\n",
      "[[1, 3, 0, 4, 2],  [[2, 3, 1, 2, 3],\n",
      " [1, 4, 2, 3, 0],   [3, 1, 0, 0, 1],\n",
      " [3, 0, 4, 1, 2],   [0, 0, 2, 3, 2],\n",
      " [1, 4, 0, 3, 2]]   [1, 2, 3, 1, 0]]\n"
     ]
    }
   ],
   "source": [
    "sort_axis1 = np.argsort(a)\n",
    "sort_axis0 = np.argsort(a, axis=0)\n",
    "%C sort_axis1; sort_axis0"
   ]
  },
  {
   "cell_type": "code",
   "execution_count": null,
   "metadata": {
    "collapsed": true
   },
   "outputs": [],
   "source": [
    "axis0, axis1 = np.ogrid[:a.shape[0], :a.shape[1]]"
   ]
  },
  {
   "cell_type": "code",
   "execution_count": 10,
   "metadata": {
    "collapsed": false,
    "group_control": {
     "group": 0
    }
   },
   "outputs": [
    {
     "name": "stdout",
     "output_type": "stream",
     "text": [
      "a[axis0, sort_axis1]  a[sort_axis0, axis1]\n",
      "--------------------  --------------------\n",
      "[[3, 4, 6, 6, 7],     [[3, 1, 6, 2, 1],   \n",
      " [2, 4, 6, 7, 9],      [4, 2, 7, 4, 4],   \n",
      " [2, 3, 5, 7, 7],      [6, 3, 7, 5, 5],   \n",
      " [1, 1, 4, 5, 7]]      [9, 7, 7, 7, 6]]   \n"
     ]
    }
   ],
   "source": [
    "%C a[axis0, sort_axis1]; a[sort_axis0, axis1]"
   ]
  },
  {
   "cell_type": "code",
   "execution_count": 11,
   "metadata": {
    "collapsed": false,
    "group_control": {
     "group": 0
    }
   },
   "outputs": [
    {
     "name": "stdout",
     "output_type": "stream",
     "text": [
      "      idx          sorted_data  \n",
      "---------------  ---------------\n",
      "[2, 3, 1, 4, 0]  [['li', 32],   \n",
      "                  ['wang', 31], \n",
      "                  ['wang', 33], \n",
      "                  ['zhang', 36],\n",
      "                  ['zhang', 37]]\n"
     ]
    }
   ],
   "source": [
    "names = [\"zhang\", \"wang\", \"li\", \"wang\", \"zhang\"]\n",
    "ages = [37, 33, 32, 31, 36]\n",
    "idx = np.lexsort([ages, names])\n",
    "sorted_data = np.array(zip(names, ages), \"O\")[idx]\n",
    "%C idx; sorted_data"
   ]
  },
  {
   "cell_type": "code",
   "execution_count": 12,
   "metadata": {
    "collapsed": false,
    "group_control": {
     "group": 0
    }
   },
   "outputs": [
    {
     "name": "stdout",
     "output_type": "stream",
     "text": [
      "     b       b[np.lexsort(b[:, ::-1].T)]\n",
      "-----------  ---------------------------\n",
      "[[4, 0, 9],  [[3, 8, 2],                \n",
      " [5, 8, 0],   [4, 0, 9],                \n",
      " [9, 2, 6],   [4, 2, 6],                \n",
      " [3, 8, 2],   [5, 8, 0],                \n",
      " [4, 2, 6]]   [9, 2, 6]]                \n"
     ]
    }
   ],
   "source": [
    "b = np.random.randint(0, 10, (5, 3))\n",
    "%C b; b[np.lexsort(b[:, ::-1].T)]"
   ]
  },
  {
   "cell_type": "code",
   "execution_count": 13,
   "metadata": {
    "collapsed": false,
    "group_control": {
     "group": 0
    }
   },
   "outputs": [
    {
     "name": "stdout",
     "output_type": "stream",
     "text": [
      "   np.sort(r)[:5]     np.partition(r, 5)[:5]\n",
      "--------------------  ----------------------\n",
      "[15, 23, 25, 37, 47]  [15, 47, 25, 37, 23]  \n"
     ]
    }
   ],
   "source": [
    "r = np.random.randint(10, 1000000, 100000)\n",
    "%C np.sort(r)[:5]; np.partition(r, 5)[:5]"
   ]
  },
  {
   "cell_type": "code",
   "execution_count": 14,
   "metadata": {
    "collapsed": false,
    "group_control": {
     "group": 0
    }
   },
   "outputs": [
    {
     "name": "stdout",
     "output_type": "stream",
     "text": [
      "100 loops, best of 3: 6.02 ms per loop\n",
      "1000 loops, best of 3: 348 μs per loop\n"
     ]
    }
   ],
   "source": [
    "%timeit np.sort(r)[:5]\n",
    "%timeit np.sort(np.partition(r, 5)[:5])"
   ]
  },
  {
   "cell_type": "code",
   "execution_count": 15,
   "metadata": {
    "collapsed": false,
    "group_control": {
     "group": 0
    }
   },
   "outputs": [
    {
     "data": {
      "text/plain": [
       "array([ 6.,  6.,  5.,  4.])"
      ]
     },
     "execution_count": 15,
     "metadata": {},
     "output_type": "execute_result"
    }
   ],
   "source": [
    "np.median(a, axis=1)"
   ]
  },
  {
   "cell_type": "code",
   "execution_count": 16,
   "metadata": {
    "collapsed": false,
    "group_control": {
     "group": 0
    }
   },
   "outputs": [
    {
     "data": {
      "text/plain": [
       "array([ 1.00029686,  1.99473003,  2.9614485 ])"
      ]
     },
     "execution_count": 16,
     "metadata": {},
     "output_type": "execute_result"
    }
   ],
   "source": [
    "r = np.abs(np.random.randn(100000))\n",
    "np.percentile(r, [68.3, 95.4, 99.7])"
   ]
  },
  {
   "cell_type": "code",
   "execution_count": 17,
   "metadata": {
    "collapsed": false,
    "group_control": {
     "group": 0
    }
   },
   "outputs": [
    {
     "name": "stdout",
     "output_type": "stream",
     "text": [
      "np.searchsorted(a, v)  np.searchsorted(a, v, side=\"right\")\n",
      "---------------------  -----------------------------------\n",
      "[0, 2, 6, 3]           [0, 2, 6, 5]                       \n"
     ]
    }
   ],
   "source": [
    "a = [2, 4, 8, 16, 16, 32]\n",
    "v = [1, 5, 33, 16]\n",
    "%C np.searchsorted(a, v); np.searchsorted(a, v, side=\"right\")"
   ]
  },
  {
   "cell_type": "code",
   "execution_count": 18,
   "metadata": {
    "collapsed": false,
    "group_control": {
     "group": 0
    }
   },
   "outputs": [
    {
     "data": {
      "text/plain": [
       "array([-1,  3,  1,  7, -1,  6])"
      ]
     },
     "execution_count": 18,
     "metadata": {},
     "output_type": "execute_result"
    }
   ],
   "source": [
    "x = np.array([3, 5, 7, 1, 9, 8, 6, 10])\n",
    "y = np.array([2, 1, 5, 10, 100, 6])\n",
    "\n",
    "def get_index_searchsorted(x, y):\n",
    "    index = np.argsort(x)  # ❶\n",
    "    sorted_x = x[index]  # ❷\n",
    "    sorted_index = np.searchsorted(sorted_x, y)  # ❸\n",
    "    yindex = np.take(index, sorted_index, mode=\"clip\")  # ❹\n",
    "    mask = x[yindex] != y  # ❺\n",
    "    yindex[mask] = -1\n",
    "    return yindex\n",
    "\n",
    "get_index_searchsorted(x, y)"
   ]
  },
  {
   "cell_type": "code",
   "execution_count": 19,
   "metadata": {
    "collapsed": false,
    "group_control": {
     "group": 0
    }
   },
   "outputs": [
    {
     "name": "stdout",
     "output_type": "stream",
     "text": [
      "True\n",
      "10000 loops, best of 3: 122 μs per loop\n",
      "1000 loops, best of 3: 368 μs per loop\n"
     ]
    }
   ],
   "source": [
    "x = np.random.permutation(1000)[:100]\n",
    "y = np.random.randint(0, 1000, 2000)\n",
    "xl, yl = x.tolist(), y.tolist()\n",
    "\n",
    "def get_index_dict(x, y):\n",
    "    idx_map = {v:i for i,v in enumerate(x)}\n",
    "    yindex = [idx_map.get(v, -1) for v in y]\n",
    "    return yindex\n",
    "\n",
    "yindex1 = get_index_searchsorted(x, y)\n",
    "yindex2 = get_index_dict(xl, yl)\n",
    "print np.all(yindex1 == yindex2)\n",
    "\n",
    "%timeit get_index_searchsorted(x, y)\n",
    "%timeit get_index_dict(xl, yl)"
   ]
  }
 ],
 "metadata": {
  "kernelspec": {
   "display_name": "Python 2",
   "language": "python",
   "name": "python2"
  },
  "language_info": {
   "codemirror_mode": {
    "name": "ipython",
    "version": 2
   },
   "file_extension": ".py",
   "mimetype": "text/x-python",
   "name": "python",
   "nbconvert_exporter": "python",
   "pygments_lexer": "ipython2",
   "version": "2.7.9"
  }
 },
 "nbformat": 4,
 "nbformat_minor": 0
}
