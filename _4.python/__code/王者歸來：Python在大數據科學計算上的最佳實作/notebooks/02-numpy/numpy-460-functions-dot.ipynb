﻿{
 "cells": [
  {
   "cell_type": "code",
   "execution_count": 3,
   "metadata": {
    "collapsed": false
   },
   "outputs": [],
   "source": [
    "import numpy as np"
   ]
  },
  {
   "cell_type": "markdown",
   "metadata": {},
   "source": [
    "### 各種乘積運算"
   ]
  },
  {
   "cell_type": "code",
   "execution_count": 4,
   "metadata": {
    "collapsed": false
   },
   "outputs": [
    {
     "name": "stdout",
     "output_type": "stream",
     "text": [
      "a[:, None]   a[None, :]\n",
      "----------  -----------\n",
      "[[1],       [[1, 2, 3]]\n",
      " [2],                  \n",
      " [3]]                  \n"
     ]
    }
   ],
   "source": [
    "a = np.array([1, 2, 3])\n",
    "%C a[:, None]; a[None, :]"
   ]
  },
  {
   "cell_type": "code",
   "execution_count": 5,
   "metadata": {
    "collapsed": false
   },
   "outputs": [
    {
     "data": {
      "text/plain": [
       "(2, 3, 2, 3)"
      ]
     },
     "execution_count": 5,
     "metadata": {},
     "output_type": "execute_result"
    }
   ],
   "source": [
    "a = np.arange(12).reshape(2, 3, 2)\n",
    "b = np.arange(12, 24).reshape(2, 2, 3)\n",
    "c = np.dot(a, b)\n",
    "c.shape"
   ]
  },
  {
   "cell_type": "code",
   "execution_count": 6,
   "metadata": {
    "collapsed": false
   },
   "outputs": [],
   "source": [
    "for i, j in np.ndindex(2, 2):\n",
    "    assert np.alltrue( c[i, :, j, :] == np.dot(a[i], b[j]) )"
   ]
  },
  {
   "cell_type": "code",
   "execution_count": 7,
   "metadata": {
    "collapsed": false
   },
   "outputs": [
    {
     "data": {
      "text/plain": [
       "(2, 3, 2, 3)"
      ]
     },
     "execution_count": 7,
     "metadata": {},
     "output_type": "execute_result"
    }
   ],
   "source": [
    "a = np.arange(12).reshape(2, 3, 2)\n",
    "b = np.arange(12, 24).reshape(2, 3, 2)\n",
    "c = np.inner(a, b)\n",
    "c.shape"
   ]
  },
  {
   "cell_type": "code",
   "execution_count": 8,
   "metadata": {
    "collapsed": false
   },
   "outputs": [],
   "source": [
    "for i, j, k, l in np.ndindex(2, 3, 2, 3):\n",
    "    assert c[i, j, k, l] == np.inner(a[i, j], b[k, l])"
   ]
  },
  {
   "cell_type": "code",
   "execution_count": 9,
   "metadata": {
    "collapsed": false
   },
   "outputs": [
    {
     "name": "stdout",
     "output_type": "stream",
     "text": [
      "  np.outer(a, b)    np.dot(a[:, None], b[None, :])\n",
      "------------------  ------------------------------\n",
      "[[ 4,  5,  6,  7],  [[ 4,  5,  6,  7],            \n",
      " [ 8, 10, 12, 14],   [ 8, 10, 12, 14],            \n",
      " [12, 15, 18, 21]]   [12, 15, 18, 21]]            \n"
     ]
    }
   ],
   "source": [
    "a = np.array([1, 2, 3])\n",
    "b = np.array([4, 5, 6, 7])\n",
    "%C np.outer(a, b); np.dot(a[:, None], b[None, :])"
   ]
  },
  {
   "cell_type": "code",
   "execution_count": 10,
   "metadata": {
    "collapsed": false
   },
   "outputs": [],
   "source": [
    "a = np.random.rand(3, 4)\n",
    "b = np.random.rand(4, 5)\n",
    "\n",
    "c1 = np.tensordot(a, b, axes=[[1], [0]]) #❶\n",
    "c2 = np.tensordot(a, b, axes=1)          #❷\n",
    "c3 = np.dot(a, b)\n",
    "assert np.allclose(c1, c3)\n",
    "assert np.allclose(c2, c3)"
   ]
  },
  {
   "cell_type": "code",
   "execution_count": 11,
   "metadata": {
    "collapsed": false
   },
   "outputs": [],
   "source": [
    "a = np.arange(12).reshape(2, 3, 2)\n",
    "b = np.arange(12, 24).reshape(2, 2, 3)\n",
    "c1 = np.tensordot(a, b, axes=[[-1], [-2]])\n",
    "c2 = np.dot(a, b)\n",
    "assert np.alltrue(c1 == c2)"
   ]
  },
  {
   "cell_type": "code",
   "execution_count": 14,
   "metadata": {
    "collapsed": false
   },
   "outputs": [
    {
     "data": {
      "text/plain": [
       "(4, 7, 2, 3)"
      ]
     },
     "execution_count": 14,
     "metadata": {},
     "output_type": "execute_result"
    }
   ],
   "source": [
    "a = np.random.rand(4, 5, 6, 7)\n",
    "b = np.random.rand(6, 5, 2, 3)\n",
    "c = np.tensordot(a, b, axes=[[1, 2], [1, 0]])\n",
    "\n",
    "for i, j, k, l in np.ndindex(4, 7, 2, 3):\n",
    "    assert np.allclose(c[i, j, k, l], np.sum(a[i, :, :, j] * b[:, :, k, l].T))\n",
    "    \n",
    "c.shape"
   ]
  }
 ],
 "metadata": {
  "kernelspec": {
   "display_name": "Python 2",
   "language": "python",
   "name": "python2"
  },
  "language_info": {
   "codemirror_mode": {
    "name": "ipython",
    "version": 2
   },
   "file_extension": ".py",
   "mimetype": "text/x-python",
   "name": "python",
   "nbconvert_exporter": "python",
   "pygments_lexer": "ipython2",
   "version": "2.7.9"
  }
 },
 "nbformat": 4,
 "nbformat_minor": 0
}
