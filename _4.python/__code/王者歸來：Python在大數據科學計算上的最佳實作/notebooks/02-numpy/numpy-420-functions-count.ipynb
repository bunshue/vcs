﻿{
 "cells": [
  {
   "cell_type": "code",
   "execution_count": 1,
   "metadata": {
    "collapsed": false
   },
   "outputs": [],
   "source": [
    "import numpy as np"
   ]
  },
  {
   "cell_type": "markdown",
   "metadata": {},
   "source": [
    "### 統計函數"
   ]
  },
  {
   "cell_type": "code",
   "execution_count": 2,
   "metadata": {
    "collapsed": false
   },
   "outputs": [
    {
     "name": "stdout",
     "output_type": "stream",
     "text": [
      "              a                    np.unique(a)   \n",
      "------------------------------  ------------------\n",
      "[6, 3, 4, 6, 2, 7, 4, 4, 6, 1]  [1, 2, 3, 4, 6, 7]\n"
     ]
    }
   ],
   "source": [
    "np.random.seed(42)\n",
    "a = np.random.randint(0, 8, 10)\n",
    "%C a; np.unique(a)"
   ]
  },
  {
   "cell_type": "code",
   "execution_count": 3,
   "metadata": {
    "collapsed": false
   },
   "outputs": [
    {
     "name": "stdout",
     "output_type": "stream",
     "text": [
      "        x                 index              a[index]     \n",
      "------------------  ------------------  ------------------\n",
      "[1, 2, 3, 4, 6, 7]  [9, 4, 1, 2, 0, 5]  [1, 2, 3, 4, 6, 7]\n"
     ]
    }
   ],
   "source": [
    "x, index = np.unique(a, return_index=True)\n",
    "%C x; index; a[index]"
   ]
  },
  {
   "cell_type": "code",
   "execution_count": 4,
   "metadata": {
    "collapsed": false
   },
   "outputs": [
    {
     "name": "stdout",
     "output_type": "stream",
     "text": [
      "            rindex                        x[rindex]           \n",
      "------------------------------  ------------------------------\n",
      "[4, 2, 3, 4, 1, 5, 3, 3, 4, 0]  [6, 3, 4, 6, 2, 7, 4, 4, 6, 1]\n"
     ]
    }
   ],
   "source": [
    "x, rindex = np.unique(a, return_inverse=True)\n",
    "%C rindex; x[rindex]"
   ]
  },
  {
   "cell_type": "code",
   "execution_count": 5,
   "metadata": {
    "collapsed": false
   },
   "outputs": [
    {
     "data": {
      "text/plain": [
       "array([0, 1, 1, 1, 3, 0, 3, 1])"
      ]
     },
     "execution_count": 5,
     "metadata": {},
     "output_type": "execute_result"
    }
   ],
   "source": [
    "np.bincount(a)"
   ]
  },
  {
   "cell_type": "code",
   "execution_count": 6,
   "metadata": {
    "collapsed": false
   },
   "outputs": [
    {
     "data": {
      "text/plain": [
       "array([ 1.3,  1.6,  0.6])"
      ]
     },
     "execution_count": 6,
     "metadata": {},
     "output_type": "execute_result"
    }
   ],
   "source": [
    "x = np.array([0  ,   1,   2,   2,   1,   1,   0])\n",
    "w = np.array([0.1, 0.3, 0.2, 0.4, 0.5, 0.8, 1.2])\n",
    "np.bincount(x, w)"
   ]
  },
  {
   "cell_type": "code",
   "execution_count": 7,
   "metadata": {
    "collapsed": false
   },
   "outputs": [
    {
     "data": {
      "text/plain": [
       "array([ 0.65      ,  0.53333333,  0.3       ])"
      ]
     },
     "execution_count": 7,
     "metadata": {},
     "output_type": "execute_result"
    }
   ],
   "source": [
    "np.bincount(x, w) / np.bincount(x)"
   ]
  },
  {
   "cell_type": "code",
   "execution_count": 8,
   "metadata": {
    "collapsed": false
   },
   "outputs": [
    {
     "data": {
      "text/plain": [
       "(array([28, 18, 17, 19, 18]), array([ 0. ,  0.2,  0.4,  0.6,  0.8,  1. ]))"
      ]
     },
     "execution_count": 8,
     "metadata": {},
     "output_type": "execute_result"
    }
   ],
   "source": [
    "a = np.random.rand(100)\n",
    "np.histogram(a, bins=5, range=(0, 1))"
   ]
  },
  {
   "cell_type": "code",
   "execution_count": 9,
   "metadata": {
    "collapsed": false
   },
   "outputs": [
    {
     "data": {
      "text/plain": [
       "(array([46, 36, 18]), array([ 0. ,  0.4,  0.8,  1. ]))"
      ]
     },
     "execution_count": 9,
     "metadata": {},
     "output_type": "execute_result"
    }
   ],
   "source": [
    "np.histogram(a, bins=[0, 0.4, 0.8, 1.0])"
   ]
  },
  {
   "cell_type": "code",
   "execution_count": 11,
   "metadata": {
    "collapsed": false
   },
   "outputs": [
    {
     "name": "stdout",
     "output_type": "stream",
     "text": [
      "d.shape    np.min(d[:, 0])     np.max(d[:, 0])  \n",
      "--------  ------------------  ------------------\n",
      "(100, 2)  7.0999999999999996  19.899999999999999\n"
     ]
    }
   ],
   "source": [
    "d = np.loadtxt(\"height.csv\", delimiter=\",\")\n",
    "%C d.shape; np.min(d[:, 0]); np.max(d[:, 0])"
   ]
  },
  {
   "cell_type": "code",
   "execution_count": 12,
   "metadata": {
    "collapsed": false
   },
   "outputs": [
    {
     "data": {
      "text/plain": [
       "array([ 125.96      ,  132.06666667,  137.82857143,  143.8       ,\n",
       "        148.14      ,  153.44      ,  162.15555556,  166.86666667,\n",
       "        172.83636364,  173.3       ,  175.275     ,  174.19166667,  175.075     ])"
      ]
     },
     "execution_count": 12,
     "metadata": {},
     "output_type": "execute_result"
    }
   ],
   "source": [
    "sums = np.histogram(d[:, 0], bins=range(7, 21), weights=d[:, 1])[0]\n",
    "cnts = np.histogram(d[:, 0], bins=range(7, 21))[0]\n",
    "sums / cnts"
   ]
  },
  {
   "cell_type": "markdown",
   "metadata": {},
   "source": [
    "### 分段函數"
   ]
  },
  {
   "cell_type": "code",
   "execution_count": 13,
   "metadata": {
    "collapsed": false
   },
   "outputs": [
    {
     "data": {
      "text/plain": [
       "array([9, 8, 7, 6, 5, 5, 6, 7, 8, 9])"
      ]
     },
     "execution_count": 13,
     "metadata": {},
     "output_type": "execute_result"
    }
   ],
   "source": [
    "x = np.arange(10)\n",
    "np.where(x < 5, 9 - x, x)"
   ]
  },
  {
   "cell_type": "code",
   "execution_count": 14,
   "metadata": {
    "collapsed": false
   },
   "outputs": [
    {
     "data": {
      "text/plain": [
       "array([ 0,  0,  0,  0,  0,  0,  0, 14, 16, 18])"
      ]
     },
     "execution_count": 14,
     "metadata": {},
     "output_type": "execute_result"
    }
   ],
   "source": [
    "np.where(x > 6, 2 * x, 0)"
   ]
  },
  {
   "cell_type": "code",
   "execution_count": 15,
   "metadata": {
    "collapsed": false
   },
   "outputs": [],
   "source": [
    "def triangle_wave1(x, c, c0, hc):\n",
    "    x = x - x.astype(np.int) # 三角波的周期為1，因此只取x座標的小數部分進行計算\n",
    "    return np.where(x >= c, \n",
    "                    0, \n",
    "                    np.where(x < c0, \n",
    "                             x / c0 * hc, \n",
    "                             (c - x) / (c - c0) * hc))"
   ]
  },
  {
   "cell_type": "code",
   "execution_count": 16,
   "metadata": {
    "collapsed": false
   },
   "outputs": [],
   "source": [
    "def triangle_wave2(x, c, c0, hc):\n",
    "    x = x - x.astype(np.int)\n",
    "    return np.select([x >= c, x < c0 , True            ], \n",
    "                      [0     , x/c0*hc, (c-x)/(c-c0)*hc])"
   ]
  },
  {
   "cell_type": "code",
   "execution_count": 17,
   "metadata": {
    "collapsed": false
   },
   "outputs": [],
   "source": [
    "def triangle_wave3(x, c, c0, hc):\n",
    "    x = x - x.astype(np.int)\n",
    "    return np.piecewise(x, \n",
    "        [x >= c, x < c0],\n",
    "        [0,  # x>=c \n",
    "        lambda x: x / c0 * hc, # x<c0\n",
    "        lambda x: (c - x) / (c - c0) * hc])  # else"
   ]
  },
  {
   "cell_type": "code",
   "execution_count": 18,
   "metadata": {
    "collapsed": false
   },
   "outputs": [
    {
     "data": {
      "text/plain": [
       "(True, True)"
      ]
     },
     "execution_count": 18,
     "metadata": {},
     "output_type": "execute_result"
    }
   ],
   "source": [
    "x = np.linspace(0, 2, 10000) \n",
    "y1 = triangle_wave1(x, 0.6, 0.4, 1.0)\n",
    "y2 = triangle_wave2(x, 0.6, 0.4, 1.0)\n",
    "y3 = triangle_wave3(x, 0.6, 0.4, 1.0)\n",
    "np.all(y1 == y2), np.all(y1 == y3)"
   ]
  },
  {
   "cell_type": "code",
   "execution_count": 36,
   "metadata": {
    "collapsed": false
   },
   "outputs": [
    {
     "name": "stdout",
     "output_type": "stream",
     "text": [
      "1000 loops, best of 3: 614 μs per loop\n",
      "1000 loops, best of 3: 736 μs per loop\n",
      "1000 loops, best of 3: 311 μs per loop\n"
     ]
    }
   ],
   "source": [
    "%timeit triangle_wave1(x, 0.6, 0.4, 1.0)\n",
    "%timeit triangle_wave2(x, 0.6, 0.4, 1.0)\n",
    "%timeit triangle_wave3(x, 0.6, 0.4, 1.0)"
   ]
  }
 ],
 "metadata": {
  "kernelspec": {
   "display_name": "Python 2",
   "language": "python",
   "name": "python2"
  },
  "language_info": {
   "codemirror_mode": {
    "name": "ipython",
    "version": 2
   },
   "file_extension": ".py",
   "mimetype": "text/x-python",
   "name": "python",
   "nbconvert_exporter": "python",
   "pygments_lexer": "ipython2",
   "version": "2.7.9"
  }
 },
 "nbformat": 4,
 "nbformat_minor": 0
}
