﻿{
 "cells": [
  {
   "cell_type": "code",
   "execution_count": 3,
   "metadata": {
    "collapsed": false
   },
   "outputs": [],
   "source": [
    "import numpy as np\n",
    "import math"
   ]
  },
  {
   "cell_type": "markdown",
   "metadata": {},
   "source": [
    "## 實用技巧"
   ]
  },
  {
   "cell_type": "markdown",
   "metadata": {},
   "source": [
    "### 動態陣列"
   ]
  },
  {
   "cell_type": "code",
   "execution_count": 1,
   "metadata": {
    "collapsed": false
   },
   "outputs": [
    {
     "name": "stdout",
     "output_type": "stream",
     "text": [
      "array('d', [1.0, 2.0, 3.0, 4.0])\n",
      "[ 1.  2.  3.  4.]\n",
      "array('d', [1.0, 20.0, 3.0, 4.0])\n"
     ]
    }
   ],
   "source": [
    "import numpy as np\n",
    "from array import array\n",
    "a = array(\"d\", [1,2,3,4])   # 建立一個array陣列\n",
    "# 透過np.frombuffer()建立一個和a共享記憶體的NumPy陣列\n",
    "na = np.frombuffer(a, dtype=np.float) \n",
    "print a\n",
    "print na\n",
    "na[1] = 20  # 修改NumPy陣列中的第一個元素\n",
    "print a"
   ]
  },
  {
   "cell_type": "code",
   "execution_count": 6,
   "metadata": {
    "collapsed": false
   },
   "outputs": [
    {
     "name": "stdout",
     "output_type": "stream",
     "text": [
      "[[ 0.          1.        ]\n",
      " [ 0.09983342  0.99500417]\n",
      " [ 0.19866933  0.98006658]\n",
      " [ 0.29552021  0.95533649]\n",
      " [ 0.38941834  0.92106099]]\n"
     ]
    }
   ],
   "source": [
    "import math\n",
    "buf = array(\"d\")\n",
    "for i in range(5):\n",
    "    buf.append(math.sin(i*0.1)) \n",
    "    buf.append(math.cos(i*0.1))\n",
    "\n",
    "data = np.frombuffer(buf, dtype=np.float).reshape(-1, 2)\n",
    "print data"
   ]
  },
  {
   "cell_type": "code",
   "execution_count": 34,
   "metadata": {
    "collapsed": false
   },
   "outputs": [
    {
     "name": "stdout",
     "output_type": "stream",
     "text": [
      "(83088512, 1) (83088512, 2) (83088512, 3) (83088512, 4) (31531848, 5)\n",
      "(31531848, 6) (31531848, 7) (31531848, 8) (34405776, 9) (34405776, 10)\n"
     ]
    }
   ],
   "source": [
    "a = array(\"d\")\n",
    "for i in range(10):\n",
    "    a.append(i)\n",
    "    if i == 2:\n",
    "        na = np.frombuffer(a, dtype=float)\n",
    "    print a.buffer_info(),\n",
    "    if i == 4:\n",
    "        print"
   ]
  },
  {
   "cell_type": "code",
   "execution_count": 37,
   "metadata": {
    "collapsed": false
   },
   "outputs": [
    {
     "name": "stdout",
     "output_type": "stream",
     "text": [
      "83088512\n",
      "[  2.11777767e+161   6.24020631e-085   8.82069697e+199]\n"
     ]
    }
   ],
   "source": [
    "print na.ctypes.data\n",
    "print na"
   ]
  },
  {
   "cell_type": "markdown",
   "metadata": {},
   "source": [
    "> **TIP**\n",
    "\n",
    "> `bytearray`物件的`+=`運算與其`extend()`方法的功能相同，但`+=`的執行速度要比`extend()`快許多，讀者可以使用`%timeit`自行驗證。"
   ]
  },
  {
   "cell_type": "code",
   "execution_count": 4,
   "metadata": {
    "collapsed": false
   },
   "outputs": [
    {
     "name": "stdout",
     "output_type": "stream",
     "text": [
      "[(0, 0.0, 1.0) (1, 0.09983341664682815, 0.9950041652780258)\n",
      " (2, 0.19866933079506122, 0.9800665778412416)\n",
      " (3, 0.2955202066613396, 0.955336489125606)\n",
      " (4, 0.3894183423086505, 0.9210609940028851)]\n"
     ]
    }
   ],
   "source": [
    "import struct\n",
    "buf = bytearray()\n",
    "for i in range(5):\n",
    "    buf += struct.pack(\"=hdd\", i, math.sin(i*0.1), math.cos(i*0.1)) #❶\n",
    "\n",
    "dtype = np.dtype({\"names\":[\"id\",\"sin\",\"cos\"], \"formats\":[\"h\", \"d\", \"d\"]}) #❷\n",
    "data = np.frombuffer(buf, dtype=dtype) #❸\n",
    "print data"
   ]
  },
  {
   "cell_type": "markdown",
   "metadata": {},
   "source": [
    "### 和其它物件共享記憶體"
   ]
  },
  {
   "cell_type": "code",
   "execution_count": 2,
   "metadata": {
    "collapsed": false
   },
   "outputs": [
    {
     "name": "stdout",
     "output_type": "stream",
     "text": [
      "width & height: 512 393\n",
      "depth: 32\n",
      "format: 4 4\n",
      "byteCount: 804864\n",
      "bytesPerLine: 2048\n",
      "bits: 156041248\n"
     ]
    }
   ],
   "source": [
    "from PyQt4.QtGui import QImage, qRgb\n",
    "img = QImage(\"lena.png\")\n",
    "print \"width & height:\", img.width(), img.height()\n",
    "print \"depth:\", img.depth() #每個像素的位元數\n",
    "print \"format:\", img.format(), QImage.Format_RGB32 \n",
    "print \"byteCount:\", img.byteCount() #圖形的總位元組數\n",
    "print \"bytesPerLine:\", img.bytesPerLine() #每行的位元組數\n",
    "print \"bits:\", int(img.bits()) #圖形第一個位元組的位址"
   ]
  },
  {
   "cell_type": "code",
   "execution_count": 3,
   "metadata": {
    "collapsed": false
   },
   "outputs": [],
   "source": [
    "import ctypes\n",
    "addr = int(img.bits())\n",
    "pointer = ctypes.cast(addr, ctypes.POINTER(ctypes.c_uint8)) #❶\n",
    "arr = np.ctypeslib.as_array(pointer, (img.height(), img.width(), img.depth()//8)) #❷"
   ]
  },
  {
   "cell_type": "code",
   "execution_count": 4,
   "metadata": {
    "collapsed": false
   },
   "outputs": [
    {
     "name": "stdout",
     "output_type": "stream",
     "text": [
      "4289282380\n",
      "4289282380\n"
     ]
    }
   ],
   "source": [
    "x, y = 100, 50\n",
    "b, g, r, a = arr[y, x]\n",
    "print qRgb(r, g, b)\n",
    "print img.pixel(x, y)"
   ]
  },
  {
   "cell_type": "code",
   "execution_count": 5,
   "metadata": {
    "collapsed": false
   },
   "outputs": [
    {
     "name": "stdout",
     "output_type": "stream",
     "text": [
      "0xff563412L\n"
     ]
    }
   ],
   "source": [
    "arr[y, x, :3] = 0x12, 0x34, 0x56\n",
    "print hex(img.pixel(x, y))"
   ]
  },
  {
   "cell_type": "code",
   "execution_count": 14,
   "metadata": {
    "collapsed": false
   },
   "outputs": [
    {
     "name": "stdout",
     "output_type": "stream",
     "text": [
      "True True\n"
     ]
    }
   ],
   "source": [
    "interface = {\n",
    "    'shape': (img.height(), img.width(), 4),\n",
    "    'data': (int(img.bits()), False),\n",
    "    'strides': (img.bytesPerLine(), 4, 1),\n",
    "    'typestr': \"|u1\",\n",
    "    'version': 3,\n",
    "}\n",
    "\n",
    "img.__array_interface__ = interface #❶\n",
    "\n",
    "arr2 = np.array(img, copy=False)  #❷\n",
    "del img.__array_interface__ #❸\n",
    "print np.all(arr2 == arr), arr2.base is img  #❹"
   ]
  },
  {
   "cell_type": "code",
   "execution_count": 15,
   "metadata": {
    "collapsed": false
   },
   "outputs": [
    {
     "name": "stdout",
     "output_type": "stream",
     "text": [
      "True\n"
     ]
    }
   ],
   "source": [
    "class ArrayProxy(object):\n",
    "    def __init__(self, base, interface):\n",
    "        self.base = base\n",
    "        self.__array_interface__ = interface\n",
    "        \n",
    "arr3 = np.array(ArrayProxy(img, interface), copy=False)\n",
    "print np.all(arr3 == arr)"
   ]
  },
  {
   "cell_type": "markdown",
   "metadata": {},
   "source": [
    "### 與結構陣列共享記憶體"
   ]
  },
  {
   "cell_type": "code",
   "execution_count": 37,
   "metadata": {
    "collapsed": false
   },
   "outputs": [
    {
     "name": "stdout",
     "output_type": "stream",
     "text": [
      "True\n",
      "True\n"
     ]
    }
   ],
   "source": [
    "persontype = np.dtype({\n",
    "    'names':['name', 'age', 'weight', 'height'],\n",
    "    'formats':['S30','i', 'f', 'f']}, align= True )\n",
    "a = np.array([(\"Zhang\", 32, 72.5, 167.0), \n",
    "              (\"Wang\", 24, 65.2, 170.0)], dtype=persontype)\n",
    "\n",
    "print a[\"age\"].base is a  #檢視\n",
    "print a[[\"age\", \"height\"]].base is None #複製"
   ]
  },
  {
   "cell_type": "code",
   "execution_count": 38,
   "metadata": {
    "collapsed": false
   },
   "outputs": [
    {
     "name": "stdout",
     "output_type": "stream",
     "text": [
      "True\n",
      "[('Zhang', 42, 72.5, 167.0) ('Wang', 34, 65.19999694824219, 170.0)]\n"
     ]
    }
   ],
   "source": [
    "def fields_view(arr, fields):\n",
    "    dtype2 = np.dtype({name:arr.dtype.fields[name] for name in fields})\n",
    "    return np.ndarray(arr.shape, dtype2, arr, 0, arr.strides)\n",
    "\n",
    "v = fields_view(a, [\"age\", \"weight\"])\n",
    "print v.base is a\n",
    "\n",
    "v[\"age\"] += 10\n",
    "print a"
   ]
  },
  {
   "cell_type": "code",
   "execution_count": 39,
   "metadata": {
    "collapsed": false
   },
   "outputs": [
    {
     "name": "stdout",
     "output_type": "stream",
     "text": [
      "{'age': (dtype('int32'), 32), 'name': (dtype('S30'), 0), 'weight': (dtype('float32'), 36), 'height': (dtype('float32'), 40)}\n",
      "{'names':['name','age','weight','height'], 'formats':['S30','<i4','<f4','<f4'], 'offsets':[0,32,36,40], 'itemsize':44, 'aligned':True}\n",
      "{'names':['age','weight'], 'formats':['<i4','<f4'], 'offsets':[32,36], 'itemsize':40}\n"
     ]
    }
   ],
   "source": [
    "print a.dtype.fields\n",
    "print a.dtype\n",
    "print v.dtype"
   ]
  }
 ],
 "metadata": {
  "kernelspec": {
   "display_name": "Python 2",
   "language": "python",
   "name": "python2"
  },
  "language_info": {
   "codemirror_mode": {
    "name": "ipython",
    "version": 2
   },
   "file_extension": ".py",
   "mimetype": "text/x-python",
   "name": "python",
   "nbconvert_exporter": "python",
   "pygments_lexer": "ipython2",
   "version": "2.7.9"
  }
 },
 "nbformat": 4,
 "nbformat_minor": 0
}
