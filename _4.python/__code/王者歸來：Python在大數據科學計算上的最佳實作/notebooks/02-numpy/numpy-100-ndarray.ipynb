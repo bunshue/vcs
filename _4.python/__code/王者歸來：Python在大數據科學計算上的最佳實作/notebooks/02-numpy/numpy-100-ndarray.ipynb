﻿{
 "cells": [
  {
   "cell_type": "code",
   "execution_count": 1,
   "metadata": {
    "collapsed": false
   },
   "outputs": [],
   "source": [
    "%matplotlib_svg\n",
    "import numpy as np"
   ]
  },
  {
   "cell_type": "markdown",
   "metadata": {},
   "source": [
    "# NumPy-快速處理資料"
   ]
  },
  {
   "cell_type": "code",
   "execution_count": 5,
   "metadata": {
    "collapsed": false
   },
   "outputs": [
    {
     "data": {
      "text/plain": [
       "'1.10.4'"
      ]
     },
     "execution_count": 5,
     "metadata": {},
     "output_type": "execute_result"
    }
   ],
   "source": [
    "import numpy\n",
    "numpy.__version__"
   ]
  },
  {
   "cell_type": "markdown",
   "metadata": {},
   "source": [
    "## `ndarray`物件"
   ]
  },
  {
   "cell_type": "code",
   "execution_count": 7,
   "metadata": {
    "collapsed": false
   },
   "outputs": [],
   "source": [
    "import numpy as np"
   ]
  },
  {
   "cell_type": "markdown",
   "metadata": {},
   "source": [
    "### 建立"
   ]
  },
  {
   "cell_type": "code",
   "execution_count": 8,
   "metadata": {
    "collapsed": false
   },
   "outputs": [],
   "source": [
    "a = np.array([1, 2, 3, 4])\n",
    "b = np.array((5, 6, 7, 8))\n",
    "c = np.array([[1, 2, 3, 4], [4, 5, 6, 7], [7, 8, 9, 10]])\n",
    "%C b; c"
   ]
  },
  {
   "cell_type": "code",
   "execution_count": 29,
   "metadata": {
    "collapsed": false
   },
   "outputs": [
    {
     "name": "stdout",
     "output_type": "stream",
     "text": [
      "a.shape  b.shape  c.shape\n",
      "-------  -------  -------\n",
      "(4,)     (4,)     (3, 4) \n"
     ]
    }
   ],
   "source": [
    "%C a.shape; b.shape; c.shape"
   ]
  },
  {
   "cell_type": "code",
   "execution_count": 30,
   "metadata": {
    "collapsed": false
   },
   "outputs": [
    {
     "data": {
      "text/plain": [
       "array([[ 1,  2,  3],\n",
       "       [ 4,  4,  5],\n",
       "       [ 6,  7,  7],\n",
       "       [ 8,  9, 10]])"
      ]
     },
     "execution_count": 30,
     "metadata": {},
     "output_type": "execute_result"
    }
   ],
   "source": [
    "c.shape = 4, 3\n",
    "c"
   ]
  },
  {
   "cell_type": "code",
   "execution_count": 31,
   "metadata": {
    "collapsed": false
   },
   "outputs": [
    {
     "data": {
      "text/plain": [
       "array([[ 1,  2,  3,  4,  4,  5],\n",
       "       [ 6,  7,  7,  8,  9, 10]])"
      ]
     },
     "execution_count": 31,
     "metadata": {},
     "output_type": "execute_result"
    }
   ],
   "source": [
    "c.shape = 2, -1\n",
    "c"
   ]
  },
  {
   "cell_type": "code",
   "execution_count": 32,
   "metadata": {
    "collapsed": false
   },
   "outputs": [
    {
     "name": "stdout",
     "output_type": "stream",
     "text": [
      "   d           a      \n",
      "--------  ------------\n",
      "[[1, 2],  [1, 2, 3, 4]\n",
      " [3, 4]]              \n"
     ]
    }
   ],
   "source": [
    "d = a.reshape((2,2)) # 也可以用a.reshape(2,2)\n",
    "%C d; a"
   ]
  },
  {
   "cell_type": "code",
   "execution_count": 33,
   "metadata": {
    "collapsed": false
   },
   "outputs": [
    {
     "name": "stdout",
     "output_type": "stream",
     "text": [
      "         a                 d      \n",
      "--------------------  ------------\n",
      "[  1, 100,   3,   4]  [[  1, 100],\n",
      "                       [  3,   4]]\n"
     ]
    }
   ],
   "source": [
    "a[1] = 100 # 將陣列a的第1個元素改為100\n",
    "%C a; d"
   ]
  },
  {
   "cell_type": "markdown",
   "metadata": {},
   "source": [
    "### 元素型態"
   ]
  },
  {
   "cell_type": "code",
   "execution_count": 34,
   "metadata": {
    "collapsed": false
   },
   "outputs": [
    {
     "data": {
      "text/plain": [
       "dtype('int32')"
      ]
     },
     "execution_count": 34,
     "metadata": {},
     "output_type": "execute_result"
    }
   ],
   "source": [
    "c.dtype"
   ]
  },
  {
   "cell_type": "code",
   "execution_count": 35,
   "metadata": {
    "collapsed": false
   },
   "outputs": [
    {
     "name": "stdout",
     "output_type": "stream",
     "text": [
      "  ai32.dtype        af.dtype            ac.dtype     \n",
      "--------------  ----------------  -------------------\n",
      "dtype('int32')  dtype('float64')  dtype('complex128')\n"
     ]
    }
   ],
   "source": [
    "ai32 = np.array([1, 2, 3, 4], dtype=np.int32)\n",
    "af = np.array([1, 2, 3, 4], dtype=float)\n",
    "ac = np.array([1, 2, 3, 4], dtype=complex)\n",
    "%C ai32.dtype; af.dtype; ac.dtype"
   ]
  },
  {
   "cell_type": "code",
   "execution_count": 36,
   "metadata": {
    "collapsed": false
   },
   "outputs": [
    {
     "data": {
      "text/plain": [
       "[12, 'd', 'float64', 'float_', 'float', 'f8', 'double', 'Float64']"
      ]
     },
     "execution_count": 36,
     "metadata": {},
     "output_type": "execute_result"
    }
   ],
   "source": [
    "[key for key, value in np.typeDict.items() if value is np.float64]"
   ]
  },
  {
   "cell_type": "code",
   "execution_count": 37,
   "metadata": {
    "collapsed": false
   },
   "outputs": [
    {
     "name": "stdout",
     "output_type": "stream",
     "text": [
      "{numpy.bool_,          numpy.object_,        numpy.string_,        numpy.unicode_,      \n",
      " numpy.void,           numpy.int8,           numpy.int16,          numpy.int32,         \n",
      " numpy.int32,          numpy.int64,          numpy.uint8,          numpy.uint16,        \n",
      " numpy.uint32,         numpy.uint32,         numpy.uint64,         numpy.float16,       \n",
      " numpy.float32,        numpy.float64,        numpy.float64,        numpy.datetime64,    \n",
      " numpy.timedelta64,    numpy.complex64,      numpy.complex128,     numpy.complex128}    \n"
     ]
    }
   ],
   "source": [
    "%col 4 set(np.typeDict.values())"
   ]
  },
  {
   "cell_type": "code",
   "execution_count": 38,
   "metadata": {
    "collapsed": false
   },
   "outputs": [
    {
     "data": {
      "text/plain": [
       "numpy.int32"
      ]
     },
     "execution_count": 38,
     "metadata": {},
     "output_type": "execute_result"
    }
   ],
   "source": [
    "c.dtype.type"
   ]
  },
  {
   "cell_type": "code",
   "execution_count": 39,
   "metadata": {
    "collapsed": false
   },
   "outputs": [
    {
     "data": {
      "text/plain": [
       "-25536"
      ]
     },
     "execution_count": 39,
     "metadata": {},
     "output_type": "execute_result"
    }
   ],
   "source": [
    "a = np.int16(200)\n",
    "a*a"
   ]
  },
  {
   "cell_type": "code",
   "execution_count": 17,
   "metadata": {
    "collapsed": false
   },
   "outputs": [
    {
     "name": "stdout",
     "output_type": "stream",
     "text": [
      "10000000 loops, best of 3: 70.1 ns per loop\n",
      "10000000 loops, best of 3: 178 ns per loop\n"
     ]
    }
   ],
   "source": [
    "v1 = 3.14\n",
    "v2 = np.float64(v1)\n",
    "%timeit v1*v1\n",
    "%timeit v2*v2"
   ]
  },
  {
   "cell_type": "code",
   "execution_count": null,
   "metadata": {
    "collapsed": false
   },
   "outputs": [],
   "source": [
    "t1 = np.array([1, 2, 3, 4], dtype=np.float)\n",
    "t2 = np.array([1, 2, 3, 4], dtype=np.complex)\n",
    "t3 = t1.astype(np.int32)\n",
    "t4 = t2.astype(np.complex64)"
   ]
  },
  {
   "cell_type": "markdown",
   "metadata": {},
   "source": [
    "### 自動產生陣列"
   ]
  },
  {
   "cell_type": "code",
   "execution_count": 41,
   "metadata": {
    "collapsed": false
   },
   "outputs": [
    {
     "data": {
      "text/plain": [
       "array([ 0. ,  0.1,  0.2,  0.3,  0.4,  0.5,  0.6,  0.7,  0.8,  0.9])"
      ]
     },
     "execution_count": 41,
     "metadata": {},
     "output_type": "execute_result"
    }
   ],
   "source": [
    "np.arange(0, 1, 0.1)"
   ]
  },
  {
   "cell_type": "code",
   "execution_count": 42,
   "metadata": {
    "collapsed": false
   },
   "outputs": [
    {
     "data": {
      "text/plain": [
       "array([ 0.        ,  0.11111111,  0.22222222,  0.33333333,  0.44444444,\n",
       "        0.55555556,  0.66666667,  0.77777778,  0.88888889,  1.        ])"
      ]
     },
     "execution_count": 42,
     "metadata": {},
     "output_type": "execute_result"
    }
   ],
   "source": [
    "np.linspace(0, 1, 10) # 步長為1/9"
   ]
  },
  {
   "cell_type": "code",
   "execution_count": 43,
   "metadata": {
    "collapsed": false
   },
   "outputs": [
    {
     "data": {
      "text/plain": [
       "array([ 0. ,  0.1,  0.2,  0.3,  0.4,  0.5,  0.6,  0.7,  0.8,  0.9])"
      ]
     },
     "execution_count": 43,
     "metadata": {},
     "output_type": "execute_result"
    }
   ],
   "source": [
    "np.linspace(0, 1, 10, endpoint=False) # 步長為1/10"
   ]
  },
  {
   "cell_type": "code",
   "execution_count": 44,
   "metadata": {
    "collapsed": false
   },
   "outputs": [
    {
     "data": {
      "text/plain": [
       "array([   1.        ,    3.16227766,   10.        ,   31.6227766 ,  100.        ])"
      ]
     },
     "execution_count": 44,
     "metadata": {},
     "output_type": "execute_result"
    }
   ],
   "source": [
    "np.logspace(0, 2, 5)"
   ]
  },
  {
   "cell_type": "code",
   "execution_count": 45,
   "metadata": {
    "collapsed": false
   },
   "outputs": [
    {
     "data": {
      "text/plain": [
       "array([ 1.        ,  1.05946309,  1.12246205,  1.18920712,  1.25992105,\n",
       "        1.33483985,  1.41421356,  1.49830708,  1.58740105,  1.68179283,\n",
       "        1.78179744,  1.88774863])"
      ]
     },
     "execution_count": 45,
     "metadata": {},
     "output_type": "execute_result"
    }
   ],
   "source": [
    "np.logspace(0, 1, 12, base=2, endpoint=False)"
   ]
  },
  {
   "cell_type": "code",
   "execution_count": 46,
   "metadata": {
    "collapsed": false
   },
   "outputs": [
    {
     "data": {
      "text/plain": [
       "array([[1078523331, 1065353216, 1073741824],\n",
       "       [1077936128, 1082130432, 1084227584]])"
      ]
     },
     "execution_count": 46,
     "metadata": {},
     "output_type": "execute_result"
    }
   ],
   "source": [
    "np.empty((2,3), np.int)"
   ]
  },
  {
   "cell_type": "code",
   "execution_count": 47,
   "metadata": {
    "collapsed": false
   },
   "outputs": [
    {
     "data": {
      "text/plain": [
       "array([0, 0, 0, 0])"
      ]
     },
     "execution_count": 47,
     "metadata": {},
     "output_type": "execute_result"
    }
   ],
   "source": [
    "np.zeros(4, np.int)"
   ]
  },
  {
   "cell_type": "code",
   "execution_count": 2,
   "metadata": {
    "collapsed": false
   },
   "outputs": [
    {
     "data": {
      "text/plain": [
       "array([ 3.14159265,  3.14159265,  3.14159265,  3.14159265])"
      ]
     },
     "execution_count": 2,
     "metadata": {},
     "output_type": "execute_result"
    }
   ],
   "source": [
    "np.full(4, np.pi)"
   ]
  },
  {
   "cell_type": "code",
   "execution_count": 48,
   "metadata": {
    "collapsed": false
   },
   "outputs": [],
   "source": [
    "s = \"abcdefgh\""
   ]
  },
  {
   "cell_type": "code",
   "execution_count": 49,
   "metadata": {
    "collapsed": false
   },
   "outputs": [
    {
     "data": {
      "text/plain": [
       "array([ 97,  98,  99, 100, 101, 102, 103, 104], dtype=int8)"
      ]
     },
     "execution_count": 49,
     "metadata": {},
     "output_type": "execute_result"
    }
   ],
   "source": [
    "np.fromstring(s, dtype=np.int8)"
   ]
  },
  {
   "cell_type": "code",
   "execution_count": 50,
   "metadata": {
    "collapsed": false
   },
   "outputs": [
    {
     "name": "stdout",
     "output_type": "stream",
     "text": [
      "25185\n"
     ]
    },
    {
     "data": {
      "text/plain": [
       "array([25185, 25699, 26213, 26727], dtype=int16)"
      ]
     },
     "execution_count": 50,
     "metadata": {},
     "output_type": "execute_result"
    }
   ],
   "source": [
    "print 98*256+97\n",
    "np.fromstring(s, dtype=np.int16)"
   ]
  },
  {
   "cell_type": "code",
   "execution_count": 51,
   "metadata": {
    "collapsed": false
   },
   "outputs": [
    {
     "data": {
      "text/plain": [
       "array([  8.54088322e+194])"
      ]
     },
     "execution_count": 51,
     "metadata": {},
     "output_type": "execute_result"
    }
   ],
   "source": [
    "np.fromstring(s, dtype=np.float)"
   ]
  },
  {
   "cell_type": "code",
   "execution_count": 52,
   "metadata": {
    "collapsed": false
   },
   "outputs": [
    {
     "ename": "ValueError",
     "evalue": "assignment destination is read-only",
     "output_type": "error",
     "traceback": [
      "\u001b[1;31m---------------------------------------------------------------------------\u001b[0m\n\u001b[1;31mValueError\u001b[0m                                Traceback (most recent call last)",
      "\u001b[1;32m<ipython-input-52-f523db231ae5>\u001b[0m in \u001b[0;36m<module>\u001b[1;34m()\u001b[0m\n\u001b[0;32m      1\u001b[0m \u001b[0mbuf\u001b[0m \u001b[1;33m=\u001b[0m \u001b[0mnp\u001b[0m\u001b[1;33m.\u001b[0m\u001b[0mfrombuffer\u001b[0m\u001b[1;33m(\u001b[0m\u001b[0ms\u001b[0m\u001b[1;33m,\u001b[0m \u001b[0mdtype\u001b[0m\u001b[1;33m=\u001b[0m\u001b[0mnp\u001b[0m\u001b[1;33m.\u001b[0m\u001b[0mint16\u001b[0m\u001b[1;33m)\u001b[0m\u001b[1;33m\u001b[0m\u001b[0m\n\u001b[1;32m----> 2\u001b[1;33m \u001b[0mbuf\u001b[0m\u001b[1;33m[\u001b[0m\u001b[1;36m1\u001b[0m\u001b[1;33m]\u001b[0m \u001b[1;33m=\u001b[0m \u001b[1;36m10\u001b[0m\u001b[1;33m\u001b[0m\u001b[0m\n\u001b[0m",
      "\u001b[1;31mValueError\u001b[0m: assignment destination is read-only"
     ]
    }
   ],
   "source": [
    "buf = np.frombuffer(s, dtype=np.int16)\n",
    "buf[1] = 10"
   ]
  },
  {
   "cell_type": "code",
   "execution_count": 53,
   "metadata": {
    "collapsed": false
   },
   "outputs": [
    {
     "data": {
      "text/plain": [
       "array([ 1.,  2.,  3.,  4.,  1.,  2.,  3.,  4.,  1.,  2.])"
      ]
     },
     "execution_count": 53,
     "metadata": {},
     "output_type": "execute_result"
    }
   ],
   "source": [
    "def func(i):\n",
    "    return i % 4 + 1\n",
    "\n",
    "np.fromfunction(func, (10,))"
   ]
  },
  {
   "cell_type": "code",
   "execution_count": 54,
   "metadata": {
    "collapsed": false
   },
   "outputs": [
    {
     "data": {
      "text/plain": [
       "array([[  1.,   2.,   3.,   4.,   5.,   6.,   7.,   8.,   9.],\n",
       "       [  2.,   4.,   6.,   8.,  10.,  12.,  14.,  16.,  18.],\n",
       "       [  3.,   6.,   9.,  12.,  15.,  18.,  21.,  24.,  27.],\n",
       "       [  4.,   8.,  12.,  16.,  20.,  24.,  28.,  32.,  36.],\n",
       "       [  5.,  10.,  15.,  20.,  25.,  30.,  35.,  40.,  45.],\n",
       "       [  6.,  12.,  18.,  24.,  30.,  36.,  42.,  48.,  54.],\n",
       "       [  7.,  14.,  21.,  28.,  35.,  42.,  49.,  56.,  63.],\n",
       "       [  8.,  16.,  24.,  32.,  40.,  48.,  56.,  64.,  72.],\n",
       "       [  9.,  18.,  27.,  36.,  45.,  54.,  63.,  72.,  81.]])"
      ]
     },
     "execution_count": 54,
     "metadata": {},
     "output_type": "execute_result"
    }
   ],
   "source": [
    "def func2(i, j):\n",
    "    return (i + 1) * (j + 1)\n",
    "np.fromfunction(func2, (9,9))"
   ]
  },
  {
   "cell_type": "markdown",
   "metadata": {},
   "source": [
    "### 存取元素"
   ]
  },
  {
   "cell_type": "code",
   "execution_count": 55,
   "metadata": {
    "collapsed": false
   },
   "outputs": [
    {
     "data": {
      "text/plain": [
       "array([0, 1, 2, 3, 4, 5, 6, 7, 8, 9])"
      ]
     },
     "execution_count": 55,
     "metadata": {},
     "output_type": "execute_result"
    }
   ],
   "source": [
    "a = np.arange(10)\n",
    "a"
   ]
  },
  {
   "cell_type": "code",
   "execution_count": 56,
   "metadata": {
    "collapsed": false
   },
   "outputs": [
    {
     "name": "stdout",
     "output_type": "stream",
     "text": [
      "a[5]    a[3:5]         a[:5]                    a[:-1]          \n",
      "----    ------    ---------------    ---------------------------\n",
      "5       [3, 4]    [0, 1, 2, 3, 4]    [0, 1, 2, 3, 4, 5, 6, 7, 8]\n"
     ]
    }
   ],
   "source": [
    "%C 4 a[5]; a[3:5]; a[:5]; a[:-1]"
   ]
  },
  {
   "cell_type": "code",
   "execution_count": 57,
   "metadata": {
    "collapsed": false
   },
   "outputs": [
    {
     "name": "stdout",
     "output_type": "stream",
     "text": [
      " a[1:-1:2]                 a[::-1]                a[5:1:-2]\n",
      "------------    ------------------------------    ---------\n",
      "[1, 3, 5, 7]    [9, 8, 7, 6, 5, 4, 3, 2, 1, 0]    [5, 3]   \n"
     ]
    }
   ],
   "source": [
    "%C 4 a[1:-1:2]; a[::-1]; a[5:1:-2]"
   ]
  },
  {
   "cell_type": "code",
   "execution_count": 58,
   "metadata": {
    "collapsed": false
   },
   "outputs": [
    {
     "data": {
      "text/plain": [
       "array([  0,   1, 100, 101,   4,   5,   6,   7,   8,   9])"
      ]
     },
     "execution_count": 58,
     "metadata": {},
     "output_type": "execute_result"
    }
   ],
   "source": [
    "a[2:4] = 100, 101\n",
    "a"
   ]
  },
  {
   "cell_type": "code",
   "execution_count": 59,
   "metadata": {
    "collapsed": false
   },
   "outputs": [
    {
     "name": "stdout",
     "output_type": "stream",
     "text": [
      "         b                                    a                         \n",
      "--------------------  --------------------------------------------------\n",
      "[101,   4, -10,   6]  [  0,   1, 100, 101,   4, -10,   6,   7,   8,   9]\n"
     ]
    }
   ],
   "source": [
    "b = a[3:7] # 透過切片產生一個新的陣列b，b和a共享同一塊資料儲存空間\n",
    "b[2] = -10 # 將b的第2個元素修改為-10\n",
    "%C b; a"
   ]
  },
  {
   "cell_type": "code",
   "execution_count": 60,
   "metadata": {
    "collapsed": false
   },
   "outputs": [
    {
     "data": {
      "text/plain": [
       "array([10,  9,  8,  7,  6,  5,  4,  3,  2])"
      ]
     },
     "execution_count": 60,
     "metadata": {},
     "output_type": "execute_result"
    }
   ],
   "source": [
    "x = np.arange(10, 1, -1)\n",
    "x"
   ]
  },
  {
   "cell_type": "code",
   "execution_count": 61,
   "metadata": {
    "collapsed": false
   },
   "outputs": [
    {
     "name": "stdout",
     "output_type": "stream",
     "text": [
      "     a             b      \n",
      "------------  ------------\n",
      "[7, 7, 9, 2]  [7, 7, 4, 2]\n"
     ]
    }
   ],
   "source": [
    "a = x[[3, 3, 1, 8]]\n",
    "b = x[[3, 3, -3, 8]]\n",
    "%C a; b"
   ]
  },
  {
   "cell_type": "code",
   "execution_count": 62,
   "metadata": {
    "collapsed": false
   },
   "outputs": [
    {
     "name": "stdout",
     "output_type": "stream",
     "text": [
      "         b                             x                  \n",
      "--------------------  ------------------------------------\n",
      "[  7,   7, 100,   2]  [10,  9,  8,  7,  6,  5,  4,  3,  2]\n"
     ]
    }
   ],
   "source": [
    "b[2] = 100\n",
    "%C b; x"
   ]
  },
  {
   "cell_type": "code",
   "execution_count": 63,
   "metadata": {
    "collapsed": false
   },
   "outputs": [
    {
     "data": {
      "text/plain": [
       "array([10, -3,  8, -1,  6, -2,  4,  3,  2])"
      ]
     },
     "execution_count": 63,
     "metadata": {},
     "output_type": "execute_result"
    }
   ],
   "source": [
    "x[[3,5,1]] = -1, -2, -3\n",
    "x"
   ]
  },
  {
   "cell_type": "code",
   "execution_count": 64,
   "metadata": {
    "collapsed": false
   },
   "outputs": [
    {
     "data": {
      "text/plain": [
       "array([7, 7, 9, 2])"
      ]
     },
     "execution_count": 64,
     "metadata": {},
     "output_type": "execute_result"
    }
   ],
   "source": [
    "x = np.arange(10,1,-1)\n",
    "x[np.array([3,3,1,8])] "
   ]
  },
  {
   "cell_type": "code",
   "execution_count": 65,
   "metadata": {
    "collapsed": false
   },
   "outputs": [
    {
     "data": {
      "text/plain": [
       "array([[7, 7, 9, 2],\n",
       "       [7, 7, 4, 2]])"
      ]
     },
     "execution_count": 65,
     "metadata": {},
     "output_type": "execute_result"
    }
   ],
   "source": [
    "x[np.array([[3,3,1,8],[3,3,-3,8]])] "
   ]
  },
  {
   "cell_type": "code",
   "execution_count": 66,
   "metadata": {
    "collapsed": false
   },
   "outputs": [
    {
     "data": {
      "text/plain": [
       "array([[7, 7, 9, 2],\n",
       "       [7, 7, 4, 2]])"
      ]
     },
     "execution_count": 66,
     "metadata": {},
     "output_type": "execute_result"
    }
   ],
   "source": [
    "x[[3,3,1,8,3,3,-3,8]].reshape(2,4) # 改變陣列形狀"
   ]
  },
  {
   "cell_type": "code",
   "execution_count": 67,
   "metadata": {
    "collapsed": false
   },
   "outputs": [
    {
     "data": {
      "text/plain": [
       "array([5, 4, 3, 2, 1])"
      ]
     },
     "execution_count": 67,
     "metadata": {},
     "output_type": "execute_result"
    }
   ],
   "source": [
    "x = np.arange(5,0,-1)\n",
    "x"
   ]
  },
  {
   "cell_type": "code",
   "execution_count": 68,
   "metadata": {
    "collapsed": false
   },
   "outputs": [
    {
     "data": {
      "text/plain": [
       "array([5, 3])"
      ]
     },
     "execution_count": 68,
     "metadata": {},
     "output_type": "execute_result"
    }
   ],
   "source": [
    "x[np.array([True, False, True, False, False])] "
   ]
  },
  {
   "cell_type": "code",
   "execution_count": 69,
   "metadata": {
    "collapsed": false
   },
   "outputs": [
    {
     "name": "stderr",
     "output_type": "stream",
     "text": [
      "-c:1: FutureWarning: in the future, boolean array-likes will be handled as a boolean array index\n"
     ]
    },
    {
     "data": {
      "text/plain": [
       "array([4, 5, 4, 5, 5])"
      ]
     },
     "execution_count": 69,
     "metadata": {},
     "output_type": "execute_result"
    }
   ],
   "source": [
    "x[[True, False, True, False, False]] "
   ]
  },
  {
   "cell_type": "markdown",
   "metadata": {},
   "source": [
    "> **WARNING**\n",
    "\n",
    "> 在NumPy 1.10之後的版本中布爾清單會被當作布爾陣列，因此上面的執行結果會變成`array([5, 3])`。"
   ]
  },
  {
   "cell_type": "code",
   "execution_count": 70,
   "metadata": {
    "collapsed": false
   },
   "outputs": [
    {
     "data": {
      "text/plain": [
       "array([5, 3, 2])"
      ]
     },
     "execution_count": 70,
     "metadata": {},
     "output_type": "execute_result"
    }
   ],
   "source": [
    "x[np.array([True, False, True, True])] "
   ]
  },
  {
   "cell_type": "code",
   "execution_count": 71,
   "metadata": {
    "collapsed": false
   },
   "outputs": [
    {
     "data": {
      "text/plain": [
       "array([-1,  4, -2, -3,  1])"
      ]
     },
     "execution_count": 71,
     "metadata": {},
     "output_type": "execute_result"
    }
   ],
   "source": [
    "x[np.array([True, False, True, True])] = -1, -2, -3 \n",
    "x"
   ]
  },
  {
   "cell_type": "code",
   "execution_count": 72,
   "metadata": {
    "collapsed": false
   },
   "outputs": [
    {
     "name": "stdout",
     "output_type": "stream",
     "text": [
      "        x                             x > 5                   \n",
      "------------------  ------------------------------------------\n",
      "[8, 1, 5, 6, 2, 7]  [ True, False, False,  True, False,  True]\n"
     ]
    }
   ],
   "source": [
    "x = np.random.randint(0, 10, 6) # 產生一個長度為6，元素值為0到9的隨機整數群組\n",
    "%C x; x > 5"
   ]
  },
  {
   "cell_type": "code",
   "execution_count": 73,
   "metadata": {
    "collapsed": false
   },
   "outputs": [
    {
     "data": {
      "text/plain": [
       "array([8, 6, 7])"
      ]
     },
     "execution_count": 73,
     "metadata": {},
     "output_type": "execute_result"
    }
   ],
   "source": [
    "x[x > 5]"
   ]
  },
  {
   "cell_type": "markdown",
   "metadata": {},
   "source": [
    "### 多維陣列"
   ]
  },
  {
   "cell_type": "code",
   "execution_count": 74,
   "metadata": {
    "collapsed": false
   },
   "outputs": [
    {
     "data": {
      "text/plain": [
       "array([[ 0,  1,  2,  3,  4,  5],\n",
       "       [10, 11, 12, 13, 14, 15],\n",
       "       [20, 21, 22, 23, 24, 25],\n",
       "       [30, 31, 32, 33, 34, 35],\n",
       "       [40, 41, 42, 43, 44, 45],\n",
       "       [50, 51, 52, 53, 54, 55]])"
      ]
     },
     "execution_count": 74,
     "metadata": {},
     "output_type": "execute_result"
    }
   ],
   "source": [
    "a = np.arange(0, 60, 10).reshape(-1, 1) + np.arange(0, 6)\n",
    "a"
   ]
  },
  {
   "cell_type": "code",
   "execution_count": 75,
   "metadata": {
    "collapsed": false
   },
   "outputs": [
    {
     "name": "stdout",
     "output_type": "stream",
     "text": [
      "a[0, 3:5]  a[4:, 4:]           a[:, 2]            a[2::2, ::2] \n",
      "---------  ----------  ------------------------  --------------\n",
      "[3, 4]     [[44, 45],  [ 2, 12, 22, 32, 42, 52]  [[20, 22, 24],\n",
      "            [54, 55]]                             [40, 42, 44]]\n"
     ]
    }
   ],
   "source": [
    "%C a[0, 3:5]; a[4:, 4:]; a[:, 2]; a[2::2, ::2]"
   ]
  },
  {
   "cell_type": "code",
   "execution_count": 76,
   "metadata": {
    "collapsed": false
   },
   "outputs": [
    {
     "data": {
      "text/plain": [
       "array([-3,  4])"
      ]
     },
     "execution_count": 76,
     "metadata": {},
     "output_type": "execute_result"
    }
   ],
   "source": [
    "b = a[0, 3:5]\n",
    "b[0] = -b[0]\n",
    "a[0, 3:5]"
   ]
  },
  {
   "cell_type": "code",
   "execution_count": 77,
   "metadata": {
    "collapsed": false
   },
   "outputs": [
    {
     "name": "stdout",
     "output_type": "stream",
     "text": [
      "      a[idx]        a[idx][idx]\n",
      "------------------  -----------\n",
      "[[ 2, -3,  4,  5],  [[ 4,  5], \n",
      " [22, 23, 24, 25],   [44, 45]] \n",
      " [42, 43, 44, 45]]             \n"
     ]
    }
   ],
   "source": [
    "idx = slice(None, None, 2), slice(2,None)\n",
    "%C a[idx]; a[idx][idx]"
   ]
  },
  {
   "cell_type": "code",
   "execution_count": 78,
   "metadata": {
    "collapsed": false
   },
   "outputs": [
    {
     "data": {
      "text/plain": [
       "(slice(None, None, 2), slice(2, None, None))"
      ]
     },
     "execution_count": 78,
     "metadata": {},
     "output_type": "execute_result"
    }
   ],
   "source": [
    "np.s_[::2, 2:]"
   ]
  },
  {
   "cell_type": "code",
   "execution_count": 79,
   "metadata": {
    "collapsed": false
   },
   "outputs": [
    {
     "data": {
      "text/plain": [
       "array([ 1, 12, 23, 34])"
      ]
     },
     "execution_count": 79,
     "metadata": {},
     "output_type": "execute_result"
    }
   ],
   "source": [
    "a[(0,1,2,3),(1,2,3,4)]"
   ]
  },
  {
   "cell_type": "code",
   "execution_count": 80,
   "metadata": {
    "collapsed": false
   },
   "outputs": [
    {
     "data": {
      "text/plain": [
       "array([[30, 32, 35],\n",
       "       [40, 42, 45],\n",
       "       [50, 52, 55]])"
      ]
     },
     "execution_count": 80,
     "metadata": {},
     "output_type": "execute_result"
    }
   ],
   "source": [
    "a[3:, [0,2,5]]"
   ]
  },
  {
   "cell_type": "code",
   "execution_count": 81,
   "metadata": {
    "collapsed": false
   },
   "outputs": [
    {
     "data": {
      "text/plain": [
       "array([ 2, 22, 52])"
      ]
     },
     "execution_count": 81,
     "metadata": {},
     "output_type": "execute_result"
    }
   ],
   "source": [
    "mask = np.array([1,0,1,0,0,1], dtype=np.bool)\n",
    "a[mask, 2]"
   ]
  },
  {
   "cell_type": "code",
   "execution_count": 82,
   "metadata": {
    "collapsed": false
   },
   "outputs": [
    {
     "name": "stdout",
     "output_type": "stream",
     "text": [
      "      a[mask1, 2]               a[mask2, 2]       \n",
      "------------------------  ------------------------\n",
      "[12,  2, 12,  2,  2, 12]  [12,  2, 12,  2,  2, 12]\n"
     ]
    }
   ],
   "source": [
    "mask1 = np.array([1,0,1,0,0,1])\n",
    "mask2 = [True,False,True,False,False,True]\n",
    "%C a[mask1, 2]; a[mask2, 2]"
   ]
  },
  {
   "cell_type": "code",
   "execution_count": 83,
   "metadata": {
    "collapsed": false
   },
   "outputs": [
    {
     "name": "stdout",
     "output_type": "stream",
     "text": [
      "        a[[1,2],:]                   a[[1,2]]         \n",
      "--------------------------  --------------------------\n",
      "[[10, 11, 12, 13, 14, 15],  [[10, 11, 12, 13, 14, 15],\n",
      " [20, 21, 22, 23, 24, 25]]   [20, 21, 22, 23, 24, 25]]\n"
     ]
    }
   ],
   "source": [
    "%C a[[1,2],:]; a[[1,2]]"
   ]
  },
  {
   "cell_type": "code",
   "execution_count": 84,
   "metadata": {
    "collapsed": false
   },
   "outputs": [
    {
     "data": {
      "text/plain": [
       "array([[ 5, 14],\n",
       "       [23, 32]])"
      ]
     },
     "execution_count": 84,
     "metadata": {},
     "output_type": "execute_result"
    }
   ],
   "source": [
    "x = np.array([[0,1],[2,3]])\n",
    "y = np.array([[-1,-2],[-3,-4]])\n",
    "a[x,y]"
   ]
  },
  {
   "cell_type": "code",
   "execution_count": 85,
   "metadata": {
    "collapsed": false
   },
   "outputs": [
    {
     "data": {
      "text/plain": [
       "array([[ 5, 14],\n",
       "       [23, 32]])"
      ]
     },
     "execution_count": 85,
     "metadata": {},
     "output_type": "execute_result"
    }
   ],
   "source": [
    "a[(0,1,2,3),(-1,-2,-3,-4)].reshape(2,2)"
   ]
  },
  {
   "cell_type": "code",
   "execution_count": 86,
   "metadata": {
    "collapsed": false
   },
   "outputs": [
    {
     "data": {
      "text/plain": [
       "array([[[ 0,  1,  2, -3,  4,  5],\n",
       "        [10, 11, 12, 13, 14, 15]],\n",
       "\n",
       "       [[20, 21, 22, 23, 24, 25],\n",
       "        [30, 31, 32, 33, 34, 35]]])"
      ]
     },
     "execution_count": 86,
     "metadata": {},
     "output_type": "execute_result"
    }
   ],
   "source": [
    "a[x]"
   ]
  },
  {
   "cell_type": "code",
   "execution_count": 87,
   "metadata": {
    "collapsed": false
   },
   "outputs": [
    {
     "data": {
      "text/plain": [
       "array([[[  0,   0,   0],\n",
       "        [255,   0,   0],\n",
       "        [  0, 255,   0],\n",
       "        [  0,   0,   0]],\n",
       "\n",
       "       [[  0,   0,   0],\n",
       "        [  0,   0, 255],\n",
       "        [255, 255, 255],\n",
       "        [  0,   0,   0]]])"
      ]
     },
     "execution_count": 87,
     "metadata": {},
     "output_type": "execute_result"
    }
   ],
   "source": [
    "palette = np.array( [ [0,0,0],                \n",
    "                      [255,0,0],              \n",
    "                      [0,255,0],              \n",
    "                      [0,0,255],              \n",
    "                      [255,255,255] ] )       \n",
    "image = np.array( [ [ 0, 1, 2, 0 ],           \n",
    "                    [ 0, 3, 4, 0 ]  ] )\n",
    "palette[image]"
   ]
  },
  {
   "cell_type": "markdown",
   "metadata": {},
   "source": [
    "### 結構陣列"
   ]
  },
  {
   "cell_type": "code",
   "execution_count": 3,
   "metadata": {
    "collapsed": false
   },
   "outputs": [],
   "source": [
    "persontype = np.dtype({ #❶\n",
    "    'names':['name', 'age', 'weight'],\n",
    "    'formats':['S30','i', 'f']}, align=True)\n",
    "a = np.array([(\"Zhang\", 32, 75.5), (\"Wang\", 24, 65.2)], #❷\n",
    "    dtype=persontype)"
   ]
  },
  {
   "cell_type": "code",
   "execution_count": 4,
   "metadata": {
    "collapsed": false
   },
   "outputs": [
    {
     "data": {
      "text/plain": [
       "dtype({'names':['name','age','weight'], 'formats':['S30','<i4','<f4'], 'offsets':[0,32,36], 'itemsize':40}, align=True)"
      ]
     },
     "execution_count": 4,
     "metadata": {},
     "output_type": "execute_result"
    }
   ],
   "source": [
    "a.dtype"
   ]
  },
  {
   "cell_type": "code",
   "execution_count": 5,
   "metadata": {
    "collapsed": false
   },
   "outputs": [
    {
     "name": "stdout",
     "output_type": "stream",
     "text": [
      "('Zhang', 32, 75.5)\n"
     ]
    },
    {
     "data": {
      "text/plain": [
       "dtype({'names':['name','age','weight'], 'formats':['S30','<i4','<f4'], 'offsets':[0,32,36], 'itemsize':40}, align=True)"
      ]
     },
     "execution_count": 5,
     "metadata": {},
     "output_type": "execute_result"
    }
   ],
   "source": [
    "print a[0]\n",
    "a[0].dtype"
   ]
  },
  {
   "cell_type": "code",
   "execution_count": 6,
   "metadata": {
    "collapsed": false
   },
   "outputs": [
    {
     "data": {
      "text/plain": [
       "'Zhang'"
      ]
     },
     "execution_count": 6,
     "metadata": {},
     "output_type": "execute_result"
    }
   ],
   "source": [
    "a[0][\"name\"]"
   ]
  },
  {
   "cell_type": "code",
   "execution_count": 7,
   "metadata": {
    "collapsed": false
   },
   "outputs": [
    {
     "data": {
      "text/plain": [
       "'Li'"
      ]
     },
     "execution_count": 7,
     "metadata": {},
     "output_type": "execute_result"
    }
   ],
   "source": [
    "c = a[1]\n",
    "c[\"name\"] = \"Li\"\n",
    "a[1][\"name\"]"
   ]
  },
  {
   "cell_type": "code",
   "execution_count": 8,
   "metadata": {
    "collapsed": false
   },
   "outputs": [
    {
     "name": "stdout",
     "output_type": "stream",
     "text": [
      "40\n"
     ]
    }
   ],
   "source": [
    "b=a[\"age\"]\n",
    "b[0] = 40\n",
    "print a[0][\"age\"]"
   ]
  },
  {
   "cell_type": "code",
   "execution_count": 94,
   "metadata": {
    "collapsed": false
   },
   "outputs": [],
   "source": [
    "a.tofile(\"test.bin\")"
   ]
  },
  {
   "cell_type": "code",
   "execution_count": 9,
   "metadata": {
    "collapsed": false
   },
   "outputs": [
    {
     "name": "stdout",
     "output_type": "stream",
     "text": [
      "Overwriting read_struct_array.c\n"
     ]
    }
   ],
   "source": [
    "%%file read_struct_array.c\n",
    "#include <stdio.h>\n",
    "\n",
    "struct person \n",
    "{\n",
    "    char name[30];\n",
    "    int age;\n",
    "    float weight;\n",
    "};\n",
    "\n",
    "struct person p[3];\n",
    "\n",
    "void main ()\n",
    "{\n",
    "    FILE *fp;\n",
    "    int i;\n",
    "    fp=fopen(\"test.bin\",\"rb\");\n",
    "    fread(p, sizeof(struct person), 2, fp);\n",
    "    fclose(fp);\n",
    "    for(i=0;i<2;i++)\n",
    "    {\n",
    "        printf(\"%s %d %f\\n\", p[i].name, p[i].age, p[i].weight);\n",
    "    }\n",
    "}"
   ]
  },
  {
   "cell_type": "code",
   "execution_count": 10,
   "metadata": {
    "collapsed": false
   },
   "outputs": [
    {
     "name": "stdout",
     "output_type": "stream",
     "text": [
      "Zhang 40 75.500000\n",
      "Li 24 65.199997\n"
     ]
    }
   ],
   "source": [
    "!gcc read_struct_array.c -o read_struct_array.exe\n",
    "!read_struct_array.exe"
   ]
  },
  {
   "cell_type": "code",
   "execution_count": 95,
   "metadata": {
    "collapsed": false
   },
   "outputs": [
    {
     "data": {
      "text/plain": [
       "dtype([('f1', [('f2', '<i2')])])"
      ]
     },
     "execution_count": 95,
     "metadata": {},
     "output_type": "execute_result"
    }
   ],
   "source": [
    "np.dtype([('f1', [('f2', np.int16)])])"
   ]
  },
  {
   "cell_type": "code",
   "execution_count": 96,
   "metadata": {
    "collapsed": false
   },
   "outputs": [
    {
     "data": {
      "text/plain": [
       "dtype([('f0', '<i4'), ('f1', '<f8', (2, 3))])"
      ]
     },
     "execution_count": 96,
     "metadata": {},
     "output_type": "execute_result"
    }
   ],
   "source": [
    "np.dtype([('f0', 'i4'), ('f1', 'f8', (2, 3))])"
   ]
  },
  {
   "cell_type": "code",
   "execution_count": 97,
   "metadata": {
    "collapsed": false
   },
   "outputs": [
    {
     "data": {
      "text/plain": [
       "dtype([('surname', 'S25'), ('age', 'u1')])"
      ]
     },
     "execution_count": 97,
     "metadata": {},
     "output_type": "execute_result"
    }
   ],
   "source": [
    "np.dtype({'surname':('S25',0),'age':(np.uint8,25)})"
   ]
  },
  {
   "cell_type": "markdown",
   "metadata": {},
   "source": [
    "### 記憶體結構"
   ]
  },
  {
   "cell_type": "code",
   "execution_count": 98,
   "metadata": {
    "collapsed": false
   },
   "outputs": [],
   "source": [
    "a = np.array([[0,1,2],[3,4,5],[6,7,8]], dtype=np.float32)"
   ]
  },
  {
   "cell_type": "code",
   "execution_count": 99,
   "metadata": {
    "collapsed": false
   },
   "outputs": [
    {
     "name": "stdout",
     "output_type": "stream",
     "text": [
      "     b        b.strides\n",
      "------------  ---------\n",
      "[[ 0.,  2.],  (24, 8)  \n",
      " [ 6.,  8.]]           \n"
     ]
    }
   ],
   "source": [
    "b = a[::2, ::2]\n",
    "%C b; b.strides"
   ]
  },
  {
   "cell_type": "code",
   "execution_count": 100,
   "metadata": {
    "collapsed": false
   },
   "outputs": [
    {
     "data": {
      "text/plain": [
       "(4, 12)"
      ]
     },
     "execution_count": 100,
     "metadata": {},
     "output_type": "execute_result"
    }
   ],
   "source": [
    "c = np.array([[0,1,2],[3,4,5],[6,7,8]], dtype=np.float32, order=\"F\")\n",
    "c.strides"
   ]
  },
  {
   "cell_type": "code",
   "execution_count": 101,
   "metadata": {
    "collapsed": false
   },
   "outputs": [
    {
     "name": "stdout",
     "output_type": "stream",
     "text": [
      "  C_CONTIGUOUS : True\n",
      "  F_CONTIGUOUS : False\n",
      "  OWNDATA : True\n",
      "  WRITEABLE : True\n",
      "  ALIGNED : True\n",
      "  UPDATEIFCOPY : False\n",
      "c_contiguous: True\n"
     ]
    }
   ],
   "source": [
    "print a.flags\n",
    "print \"c_contiguous:\", a.flags.c_contiguous"
   ]
  },
  {
   "cell_type": "code",
   "execution_count": 102,
   "metadata": {
    "collapsed": false
   },
   "outputs": [
    {
     "data": {
      "text/plain": [
       "  C_CONTIGUOUS : False\n",
       "  F_CONTIGUOUS : True\n",
       "  OWNDATA : False\n",
       "  WRITEABLE : True\n",
       "  ALIGNED : True\n",
       "  UPDATEIFCOPY : False"
      ]
     },
     "execution_count": 102,
     "metadata": {},
     "output_type": "execute_result"
    }
   ],
   "source": [
    "a.T.flags"
   ]
  },
  {
   "cell_type": "code",
   "execution_count": 103,
   "metadata": {
    "collapsed": false
   },
   "outputs": [
    {
     "data": {
      "text/plain": [
       "  C_CONTIGUOUS : False\n",
       "  F_CONTIGUOUS : False\n",
       "  OWNDATA : False\n",
       "  WRITEABLE : True\n",
       "  ALIGNED : True\n",
       "  UPDATEIFCOPY : False"
      ]
     },
     "execution_count": 103,
     "metadata": {},
     "output_type": "execute_result"
    }
   ],
   "source": [
    "b.flags"
   ]
  },
  {
   "cell_type": "code",
   "execution_count": 104,
   "metadata": {
    "collapsed": false
   },
   "outputs": [
    {
     "name": "stdout",
     "output_type": "stream",
     "text": [
      "id(b.base)    id(a)  \n",
      "----------  ---------\n",
      "119627272   119627272\n"
     ]
    }
   ],
   "source": [
    "%C id(b.base); id(a)"
   ]
  },
  {
   "cell_type": "code",
   "execution_count": 11,
   "metadata": {
    "collapsed": false
   },
   "outputs": [
    {
     "name": "stdout",
     "output_type": "stream",
     "text": [
      "            b                                   c                     \n",
      "--------------------------  ------------------------------------------\n",
      "[[         0, 1065353216],  [[  0,   0,   0,   0,   0,   0, 128,  63],\n",
      " [1073741824, 1077936128],   [  0,   0,   0,  64,   0,   0,  64,  64],\n",
      " [1082130432, 1084227584]]   [  0,   0, 128,  64,   0,   0, 160,  64]]\n"
     ]
    }
   ],
   "source": [
    "a = np.array([[0, 1], [2, 3], [4, 5]], dtype=np.float32)\n",
    "b = a.view(np.uint32)\n",
    "c = a.view(np.uint8)\n",
    "%C 2 b; c"
   ]
  },
  {
   "cell_type": "code",
   "execution_count": 12,
   "metadata": {
    "collapsed": false
   },
   "outputs": [
    {
     "name": "stdout",
     "output_type": "stream",
     "text": [
      " b[0, 0]          c[0, :4]      \n",
      "----------  --------------------\n",
      "1078523331  [195, 245,  72,  64]\n"
     ]
    }
   ],
   "source": [
    "a[0, 0] = 3.14\n",
    "%C 2 b[0, 0]; c[0, :4]"
   ]
  },
  {
   "cell_type": "markdown",
   "metadata": {},
   "source": [
    "> **LINK**\n",
    "\n",
    "> http://zh.wikipedia.org/wiki/平方根倒數速算法\n",
    "\n",
    "> 維基百科關於雷神之錘中使用`0x5f3759df`計算平方根倒數算法的解釋"
   ]
  },
  {
   "cell_type": "code",
   "execution_count": 107,
   "metadata": {
    "collapsed": false
   },
   "outputs": [
    {
     "data": {
      "text/plain": [
       "0.0050456140410597428"
      ]
     },
     "execution_count": 107,
     "metadata": {},
     "output_type": "execute_result"
    }
   ],
   "source": [
    "number = np.linspace(0.1, 10, 100)\n",
    "y = number.astype(np.float32)  #❶\n",
    "x2 = y * 0.5\n",
    "i = y.view(np.int32)  #❷\n",
    "i[:] = 0x5f3759df - (i >> 1)  #❸\n",
    "y = y * (1.5 - x2 * y * y)  #❹\n",
    "np.max(np.abs(1 / np.sqrt(number) - y))  #❺"
   ]
  },
  {
   "cell_type": "code",
   "execution_count": 114,
   "metadata": {
    "collapsed": false
   },
   "outputs": [
    {
     "data": {
      "image/svg+xml": [
       "<?xml version=\"1.0\" encoding=\"utf-8\" standalone=\"no\"?>\n",
       "<!DOCTYPE svg PUBLIC \"-//W3C//DTD SVG 1.1//EN\"\n",
       "  \"http://www.w3.org/Graphics/SVG/1.1/DTD/svg11.dtd\">\n",
       "<!-- Created with matplotlib (http://matplotlib.org/) -->\n",
       "<svg height=\"198pt\" version=\"1.1\" viewBox=\"0 0 393 198\" width=\"393pt\" xmlns=\"http://www.w3.org/2000/svg\" xmlns:xlink=\"http://www.w3.org/1999/xlink\">\n",
       " <defs>\n",
       "  <style type=\"text/css\">\n",
       "*{stroke-linecap:butt;stroke-linejoin:round;}\n",
       "  </style>\n",
       " </defs>\n",
       " <g id=\"figure_1\">\n",
       "  <g id=\"patch_1\">\n",
       "   <path d=\"\n",
       "M0 198.297\n",
       "L393.625 198.297\n",
       "L393.625 0\n",
       "L0 0\n",
       "z\n",
       "\" style=\"fill:#ffffff;\"/>\n",
       "  </g>\n",
       "  <g id=\"axes_1\">\n",
       "   <g id=\"patch_2\">\n",
       "    <path d=\"\n",
       "M47.5937 178.766\n",
       "L382.394 178.766\n",
       "L382.394 11.3657\n",
       "L47.5937 11.3657\n",
       "z\n",
       "\" style=\"fill:#ffffff;\"/>\n",
       "   </g>\n",
       "   <g id=\"line2d_1\">\n",
       "    <path clip-path=\"url(#p02fbce90f1)\" d=\"\n",
       "M50.9417 34.1891\n",
       "L54.2897 141.499\n",
       "L57.6377 153.971\n",
       "L60.9857 94.5202\n",
       "L64.3337 146.398\n",
       "L67.6817 106.635\n",
       "L71.0297 112.884\n",
       "L74.3777 148.175\n",
       "L77.7257 138.992\n",
       "L81.0737 114.369\n",
       "L84.4217 149.233\n",
       "L87.7697 154.411\n",
       "L91.1177 146.61\n",
       "L94.4657 135.87\n",
       "L97.8137 127.737\n",
       "L101.162 124.686\n",
       "L104.51 127.057\n",
       "L107.858 133.716\n",
       "L111.206 142.515\n",
       "L114.554 150.625\n",
       "L117.902 145.103\n",
       "L121.25 139.318\n",
       "L124.598 134.316\n",
       "L127.946 130.743\n",
       "L131.294 128.929\n",
       "L134.642 128.954\n",
       "L137.99 130.693\n",
       "L141.338 133.868\n",
       "L144.686 138.075\n",
       "L148.034 142.812\n",
       "L151.382 147.501\n",
       "L154.73 151.513\n",
       "L158.078 154.169\n",
       "L161.426 154.769\n",
       "L164.774 152.596\n",
       "L168.122 146.922\n",
       "L171.47 137.018\n",
       "L174.818 133.963\n",
       "L178.166 134.578\n",
       "L181.514 134.61\n",
       "L184.862 140.985\n",
       "L188.21 145.875\n",
       "L191.558 149.495\n",
       "L194.906 152.042\n",
       "L198.254 153.684\n",
       "L201.602 154.575\n",
       "L204.95 154.853\n",
       "L208.298 154.631\n",
       "L211.646 154.022\n",
       "L214.994 153.116\n",
       "L218.342 151.995\n",
       "L221.69 150.731\n",
       "L225.038 149.386\n",
       "L228.386 148.013\n",
       "L231.734 146.658\n",
       "L235.082 145.361\n",
       "L238.43 144.152\n",
       "L241.778 143.056\n",
       "L245.126 142.1\n",
       "L248.474 141.294\n",
       "L251.822 140.653\n",
       "L255.17 140.183\n",
       "L258.518 139.888\n",
       "L261.866 139.769\n",
       "L265.214 139.823\n",
       "L268.562 140.044\n",
       "L271.91 140.424\n",
       "L275.258 140.954\n",
       "L278.606 141.62\n",
       "L281.954 142.409\n",
       "L285.302 143.302\n",
       "L288.65 144.284\n",
       "L291.998 145.334\n",
       "L295.346 146.432\n",
       "L298.694 147.555\n",
       "L302.042 148.683\n",
       "L305.39 149.79\n",
       "L308.738 150.852\n",
       "L312.086 151.843\n",
       "L315.434 152.738\n",
       "L318.782 152.098\n",
       "L322.13 151.415\n",
       "L325.478 150.705\n",
       "L328.826 149.977\n",
       "L332.174 149.242\n",
       "L335.522 148.509\n",
       "L338.87 147.788\n",
       "L342.218 147.085\n",
       "L345.566 146.407\n",
       "L348.914 145.761\n",
       "L352.262 145.151\n",
       "L355.61 144.584\n",
       "L358.958 144.061\n",
       "L362.306 143.588\n",
       "L365.654 143.166\n",
       "L369.002 142.797\n",
       "L372.35 142.485\n",
       "L375.698 142.229\n",
       "L379.046 142.031\n",
       "L382.394 141.89\" style=\"fill:none;stroke:#348abd;stroke-linecap:square;stroke-width:2;\"/>\n",
       "   </g>\n",
       "   <g id=\"patch_3\">\n",
       "    <path d=\"\n",
       "M47.5937 11.3657\n",
       "L382.394 11.3657\" style=\"fill:none;stroke:#000000;stroke-linecap:square;stroke-linejoin:miter;\"/>\n",
       "   </g>\n",
       "   <g id=\"patch_4\">\n",
       "    <path d=\"\n",
       "M382.394 178.766\n",
       "L382.394 11.3657\" style=\"fill:none;stroke:#000000;stroke-linecap:square;stroke-linejoin:miter;\"/>\n",
       "   </g>\n",
       "   <g id=\"patch_5\">\n",
       "    <path d=\"\n",
       "M47.5937 178.766\n",
       "L382.394 178.766\" style=\"fill:none;stroke:#000000;stroke-linecap:square;stroke-linejoin:miter;\"/>\n",
       "   </g>\n",
       "   <g id=\"patch_6\">\n",
       "    <path d=\"\n",
       "M47.5937 178.766\n",
       "L47.5937 11.3657\" style=\"fill:none;stroke:#000000;stroke-linecap:square;stroke-linejoin:miter;\"/>\n",
       "   </g>\n",
       "   <g id=\"matplotlib.axis_1\">\n",
       "    <g id=\"xtick_1\">\n",
       "     <g id=\"line2d_2\">\n",
       "      <defs>\n",
       "       <path d=\"\n",
       "M0 0\n",
       "L0 -4\" id=\"m93b0483c22\" style=\"stroke:#000000;stroke-width:0.5;\"/>\n",
       "      </defs>\n",
       "      <g>\n",
       "       <use style=\"stroke:#000000;stroke-width:0.5;\" x=\"47.5936875\" xlink:href=\"#m93b0483c22\" y=\"178.765650781\"/>\n",
       "      </g>\n",
       "     </g>\n",
       "     <g id=\"line2d_3\">\n",
       "      <defs>\n",
       "       <path d=\"\n",
       "M0 0\n",
       "L0 4\" id=\"m741efc42ff\" style=\"stroke:#000000;stroke-width:0.5;\"/>\n",
       "      </defs>\n",
       "      <g>\n",
       "       <use style=\"stroke:#000000;stroke-width:0.5;\" x=\"47.5936875\" xlink:href=\"#m741efc42ff\" y=\"11.3656507813\"/>\n",
       "      </g>\n",
       "     </g>\n",
       "     <g id=\"text_1\">\n",
       "      <!-- 0 -->\n",
       "      <defs>\n",
       "       <path d=\"\n",
       "M50.3906 35.7969\n",
       "Q50.3906 27.1562 49.1406 20.3125\n",
       "Q47.9062 13.4844 45.1406 8.73438\n",
       "Q42.3906 4 38.0312 1.5\n",
       "Q33.6875 -0.984375 27.4844 -0.984375\n",
       "Q21.7344 -0.984375 17.4531 1.5\n",
       "Q13.1875 4 10.375 8.73438\n",
       "Q7.5625 13.4844 6.17188 20.3125\n",
       "Q4.78125 27.1562 4.78125 35.7969\n",
       "Q4.78125 44.4375 6.03125 51.2656\n",
       "Q7.28125 58.1094 9.98438 62.8125\n",
       "Q12.7031 67.5312 17.0156 70.0156\n",
       "Q21.3438 72.5156 27.4844 72.5156\n",
       "Q33.2969 72.5156 37.5938 70.0469\n",
       "Q41.8906 67.5781 44.7188 62.8594\n",
       "Q47.5625 58.1562 48.9688 51.3125\n",
       "Q50.3906 44.4844 50.3906 35.7969\n",
       "M13.8125 35.7969\n",
       "Q13.8125 28.4688 14.5469 23\n",
       "Q15.2812 17.5312 16.8906 13.8906\n",
       "Q18.5 10.25 21.1094 8.42188\n",
       "Q23.7344 6.59375 27.4844 6.59375\n",
       "Q31.25 6.59375 33.8906 8.39062\n",
       "Q36.5312 10.2031 38.2031 13.8125\n",
       "Q39.8906 17.4375 40.6406 22.9219\n",
       "Q41.4062 28.4219 41.4062 35.7969\n",
       "Q41.4062 43.1094 40.6406 48.5781\n",
       "Q39.8906 54.0469 38.2031 57.6562\n",
       "Q36.5312 61.2812 33.8906 63.0781\n",
       "Q31.25 64.8906 27.4844 64.8906\n",
       "Q23.7344 64.8906 21.1094 63.0781\n",
       "Q18.5 61.2812 16.8906 57.6562\n",
       "Q15.2812 54.0469 14.5469 48.5781\n",
       "Q13.8125 43.1094 13.8125 35.7969\" id=\"WenQuanYiMicroHei-30\"/>\n",
       "      </defs>\n",
       "      <g transform=\"translate(45.6940570313 189.095149219)scale(0.0833 -0.0833)\">\n",
       "       <use xlink:href=\"#WenQuanYiMicroHei-30\"/>\n",
       "      </g>\n",
       "     </g>\n",
       "    </g>\n",
       "    <g id=\"xtick_2\">\n",
       "     <g id=\"line2d_4\">\n",
       "      <g>\n",
       "       <use style=\"stroke:#000000;stroke-width:0.5;\" x=\"114.5536875\" xlink:href=\"#m93b0483c22\" y=\"178.765650781\"/>\n",
       "      </g>\n",
       "     </g>\n",
       "     <g id=\"line2d_5\">\n",
       "      <g>\n",
       "       <use style=\"stroke:#000000;stroke-width:0.5;\" x=\"114.5536875\" xlink:href=\"#m741efc42ff\" y=\"11.3656507813\"/>\n",
       "      </g>\n",
       "     </g>\n",
       "     <g id=\"text_2\">\n",
       "      <!-- 2 -->\n",
       "      <defs>\n",
       "       <path d=\"\n",
       "M49.2188 0\n",
       "L4.6875 0\n",
       "L4.6875 7.625\n",
       "L21.7812 26.2188\n",
       "Q25.4375 30.1719 28.3125 33.4375\n",
       "Q31.2031 36.7188 33.2188 39.8438\n",
       "Q35.25 42.9688 36.3281 46.1094\n",
       "Q37.4062 49.2656 37.4062 52.9844\n",
       "Q37.4062 55.8594 36.5781 58.0469\n",
       "Q35.75 60.25 34.2031 61.7812\n",
       "Q32.6719 63.3281 30.5625 64.1094\n",
       "Q28.4688 64.8906 25.875 64.8906\n",
       "Q21.2344 64.8906 17.5 63.0156\n",
       "Q13.7656 61.1406 10.4062 58.2031\n",
       "L5.42188 64.0156\n",
       "Q7.375 65.7656 9.60938 67.2969\n",
       "Q11.8594 68.8438 14.4531 69.9688\n",
       "Q17.0469 71.0938 19.9219 71.75\n",
       "Q22.7969 72.4062 25.9844 72.4062\n",
       "Q30.6719 72.4062 34.4531 71.0938\n",
       "Q38.2344 69.7812 40.8594 67.3125\n",
       "Q43.5 64.8438 44.9375 61.2969\n",
       "Q46.3906 57.7656 46.3906 53.3281\n",
       "Q46.3906 49.1719 45.0938 45.4062\n",
       "Q43.7969 41.6562 41.5312 38.0156\n",
       "Q39.2656 34.375 36.1094 30.7031\n",
       "Q32.9531 27.0469 29.2969 23.0938\n",
       "L15.5781 8.5\n",
       "L15.5781 8.10938\n",
       "L49.2188 8.10938\n",
       "z\n",
       "\" id=\"WenQuanYiMicroHei-32\"/>\n",
       "      </defs>\n",
       "      <g transform=\"translate(112.698960938 189.095149219)scale(0.0833 -0.0833)\">\n",
       "       <use xlink:href=\"#WenQuanYiMicroHei-32\"/>\n",
       "      </g>\n",
       "     </g>\n",
       "    </g>\n",
       "    <g id=\"xtick_3\">\n",
       "     <g id=\"line2d_6\">\n",
       "      <g>\n",
       "       <use style=\"stroke:#000000;stroke-width:0.5;\" x=\"181.5136875\" xlink:href=\"#m93b0483c22\" y=\"178.765650781\"/>\n",
       "      </g>\n",
       "     </g>\n",
       "     <g id=\"line2d_7\">\n",
       "      <g>\n",
       "       <use style=\"stroke:#000000;stroke-width:0.5;\" x=\"181.5136875\" xlink:href=\"#m741efc42ff\" y=\"11.3656507813\"/>\n",
       "      </g>\n",
       "     </g>\n",
       "     <g id=\"text_3\">\n",
       "      <!-- 4 -->\n",
       "      <defs>\n",
       "       <path d=\"\n",
       "M53.0781 16.0156\n",
       "L42.6719 16.0156\n",
       "L42.6719 0\n",
       "L34.0781 0\n",
       "L34.0781 16.0156\n",
       "L1.125 16.0156\n",
       "L1.125 23.7812\n",
       "L33.5 71.7812\n",
       "L42.6719 71.7812\n",
       "L42.6719 24.125\n",
       "L53.0781 24.125\n",
       "z\n",
       "\n",
       "M34.0781 24.125\n",
       "L34.0781 41.5\n",
       "Q34.0781 44.2344 34.1562 47.2344\n",
       "Q34.2344 50.25 34.3281 53.0938\n",
       "Q34.4219 55.9531 34.5469 58.4375\n",
       "Q34.6719 60.9375 34.7188 62.5938\n",
       "L34.2812 62.5938\n",
       "Q33.9375 61.625 33.4219 60.4219\n",
       "Q32.9062 59.2344 32.2969 58.0312\n",
       "Q31.6875 56.8438 31.0469 55.7188\n",
       "Q30.4219 54.5938 29.8906 53.8125\n",
       "L9.8125 24.125\n",
       "z\n",
       "\" id=\"WenQuanYiMicroHei-34\"/>\n",
       "      </defs>\n",
       "      <g transform=\"translate(179.349839844 189.095149219)scale(0.0833 -0.0833)\">\n",
       "       <use xlink:href=\"#WenQuanYiMicroHei-34\"/>\n",
       "      </g>\n",
       "     </g>\n",
       "    </g>\n",
       "    <g id=\"xtick_4\">\n",
       "     <g id=\"line2d_8\">\n",
       "      <g>\n",
       "       <use style=\"stroke:#000000;stroke-width:0.5;\" x=\"248.4736875\" xlink:href=\"#m93b0483c22\" y=\"178.765650781\"/>\n",
       "      </g>\n",
       "     </g>\n",
       "     <g id=\"line2d_9\">\n",
       "      <g>\n",
       "       <use style=\"stroke:#000000;stroke-width:0.5;\" x=\"248.4736875\" xlink:href=\"#m741efc42ff\" y=\"11.3656507813\"/>\n",
       "      </g>\n",
       "     </g>\n",
       "     <g id=\"text_4\">\n",
       "      <!-- 6 -->\n",
       "      <defs>\n",
       "       <path d=\"\n",
       "M5.51562 30.5156\n",
       "Q5.51562 35.6406 6.03125 40.7188\n",
       "Q6.54688 45.7969 7.82812 50.4531\n",
       "Q9.125 55.125 11.375 59.125\n",
       "Q13.625 63.1406 17.0938 66.0938\n",
       "Q20.5625 69.0469 25.3906 70.7188\n",
       "Q30.2188 72.4062 36.7188 72.4062\n",
       "Q37.6406 72.4062 38.7656 72.3594\n",
       "Q39.8906 72.3125 41.0312 72.1875\n",
       "Q42.1875 72.0781 43.2344 71.9062\n",
       "Q44.2812 71.7344 45.125 71.4844\n",
       "L45.125 63.9219\n",
       "Q43.4062 64.5 41.25 64.7969\n",
       "Q39.1094 65.0938 37.0156 65.0938\n",
       "Q32.625 65.0938 29.2656 64.0312\n",
       "Q25.9219 62.9844 23.4844 61.0781\n",
       "Q21.0469 59.1875 19.4062 56.5469\n",
       "Q17.7812 53.9062 16.75 50.7031\n",
       "Q15.7188 47.5156 15.2344 43.8906\n",
       "Q14.75 40.2812 14.5938 36.375\n",
       "L15.1875 36.375\n",
       "Q16.1562 38.1406 17.5469 39.6719\n",
       "Q18.9531 41.2188 20.7969 42.3125\n",
       "Q22.6562 43.4062 24.9688 44.0312\n",
       "Q27.2969 44.6719 30.1719 44.6719\n",
       "Q34.8125 44.6719 38.5625 43.2344\n",
       "Q42.3281 41.7969 44.9688 39.0156\n",
       "Q47.6094 36.2344 49.0469 32.2031\n",
       "Q50.4844 28.1719 50.4844 23\n",
       "Q50.4844 17.4375 48.9688 12.9844\n",
       "Q47.4688 8.54688 44.625 5.4375\n",
       "Q41.7969 2.34375 37.7969 0.671875\n",
       "Q33.7969 -0.984375 28.8125 -0.984375\n",
       "Q23.9219 -0.984375 19.6406 0.921875\n",
       "Q15.375 2.82812 12.25 6.73438\n",
       "Q9.125 10.6406 7.3125 16.5469\n",
       "Q5.51562 22.4688 5.51562 30.5156\n",
       "M28.7188 6.5\n",
       "Q31.6406 6.5 34.0469 7.5\n",
       "Q36.4688 8.5 38.2188 10.5156\n",
       "Q39.9844 12.5469 40.9375 15.6406\n",
       "Q41.8906 18.75 41.8906 23\n",
       "Q41.8906 26.4219 41.0781 29.125\n",
       "Q40.2812 31.8438 38.6719 33.7344\n",
       "Q37.0625 35.6406 34.6406 36.6719\n",
       "Q32.2344 37.7031 29 37.7031\n",
       "Q25.7344 37.7031 23.0156 36.5469\n",
       "Q20.3125 35.4062 18.4062 33.5625\n",
       "Q16.5 31.7344 15.4531 29.3906\n",
       "Q14.4062 27.0469 14.4062 24.7031\n",
       "Q14.4062 21.4375 15.3125 18.1875\n",
       "Q16.2188 14.9375 18 12.3438\n",
       "Q19.7812 9.76562 22.4531 8.125\n",
       "Q25.1406 6.5 28.7188 6.5\" id=\"WenQuanYiMicroHei-36\"/>\n",
       "      </defs>\n",
       "      <g transform=\"translate(246.600739063 189.095149219)scale(0.0833 -0.0833)\">\n",
       "       <use xlink:href=\"#WenQuanYiMicroHei-36\"/>\n",
       "      </g>\n",
       "     </g>\n",
       "    </g>\n",
       "    <g id=\"xtick_5\">\n",
       "     <g id=\"line2d_10\">\n",
       "      <g>\n",
       "       <use style=\"stroke:#000000;stroke-width:0.5;\" x=\"315.4336875\" xlink:href=\"#m93b0483c22\" y=\"178.765650781\"/>\n",
       "      </g>\n",
       "     </g>\n",
       "     <g id=\"line2d_11\">\n",
       "      <g>\n",
       "       <use style=\"stroke:#000000;stroke-width:0.5;\" x=\"315.4336875\" xlink:href=\"#m741efc42ff\" y=\"11.3656507813\"/>\n",
       "      </g>\n",
       "     </g>\n",
       "     <g id=\"text_5\">\n",
       "      <!-- 8 -->\n",
       "      <defs>\n",
       "       <path d=\"\n",
       "M27.5938 72.5156\n",
       "Q31.6875 72.5156 35.3281 71.4375\n",
       "Q38.9688 70.3594 41.7188 68.2031\n",
       "Q44.4844 66.0625 46.0938 62.8438\n",
       "Q47.7031 59.625 47.7031 55.3281\n",
       "Q47.7031 52.0469 46.7188 49.4062\n",
       "Q45.75 46.7812 44.0312 44.6562\n",
       "Q42.3281 42.5312 39.9844 40.8438\n",
       "Q37.6406 39.1562 34.9062 37.7969\n",
       "Q37.75 36.2812 40.4531 34.4219\n",
       "Q43.1719 32.5625 45.2812 30.25\n",
       "Q47.4062 27.9375 48.7031 25.0469\n",
       "Q50 22.1719 50 18.6094\n",
       "Q50 14.1094 48.3594 10.4688\n",
       "Q46.7344 6.84375 43.7812 4.29688\n",
       "Q40.8281 1.76562 36.6875 0.390625\n",
       "Q32.5625 -0.984375 27.5938 -0.984375\n",
       "Q22.2188 -0.984375 18.0469 0.328125\n",
       "Q13.875 1.65625 11.0156 4.125\n",
       "Q8.15625 6.59375 6.65625 10.1562\n",
       "Q5.17188 13.7188 5.17188 18.2188\n",
       "Q5.17188 21.875 6.26562 24.7969\n",
       "Q7.375 27.7344 9.21875 30.0781\n",
       "Q11.0781 32.4219 13.6094 34.2188\n",
       "Q16.1562 36.0312 19 37.4062\n",
       "Q16.6094 38.9219 14.5 40.7031\n",
       "Q12.4062 42.4844 10.8594 44.6719\n",
       "Q9.32812 46.875 8.42188 49.5312\n",
       "Q7.51562 52.2031 7.51562 55.4219\n",
       "Q7.51562 59.6719 9.15625 62.8594\n",
       "Q10.7969 66.0625 13.5781 68.2031\n",
       "Q16.3594 70.3594 20 71.4375\n",
       "Q23.6406 72.5156 27.5938 72.5156\n",
       "M13.9219 18.1094\n",
       "Q13.9219 15.5312 14.7031 13.3594\n",
       "Q15.4844 11.1875 17.1406 9.64062\n",
       "Q18.7969 8.10938 21.3281 7.25\n",
       "Q23.875 6.39062 27.3906 6.39062\n",
       "Q30.8125 6.39062 33.4219 7.25\n",
       "Q36.0312 8.10938 37.7812 9.6875\n",
       "Q39.5469 11.2812 40.4219 13.5156\n",
       "Q41.3125 15.7656 41.3125 18.5\n",
       "Q41.3125 21.0469 40.3594 23.0938\n",
       "Q39.4062 25.1406 37.625 26.8906\n",
       "Q35.8438 28.6562 33.3438 30.2188\n",
       "Q30.8594 31.7812 27.7812 33.2969\n",
       "L26.3125 33.9844\n",
       "Q20.1719 31.0625 17.0469 27.2656\n",
       "Q13.9219 23.4844 13.9219 18.1094\n",
       "M27.4844 65.0938\n",
       "Q22.3125 65.0938 19.2656 62.5\n",
       "Q16.2188 59.9062 16.2188 54.9844\n",
       "Q16.2188 52.2031 17.0625 50.1875\n",
       "Q17.9219 48.1875 19.4375 46.625\n",
       "Q20.9531 45.0625 23.0781 43.8125\n",
       "Q25.2031 42.5781 27.6875 41.4062\n",
       "Q30.0312 42.4844 32.1094 43.75\n",
       "Q34.1875 45.0156 35.7188 46.625\n",
       "Q37.25 48.25 38.125 50.2969\n",
       "Q39.0156 52.3438 39.0156 54.9844\n",
       "Q39.0156 59.9062 35.9375 62.5\n",
       "Q32.8594 65.0938 27.4844 65.0938\" id=\"WenQuanYiMicroHei-38\"/>\n",
       "      </defs>\n",
       "      <g transform=\"translate(313.566596094 189.095149219)scale(0.0833 -0.0833)\">\n",
       "       <use xlink:href=\"#WenQuanYiMicroHei-38\"/>\n",
       "      </g>\n",
       "     </g>\n",
       "    </g>\n",
       "    <g id=\"xtick_6\">\n",
       "     <g id=\"line2d_12\">\n",
       "      <g>\n",
       "       <use style=\"stroke:#000000;stroke-width:0.5;\" x=\"382.3936875\" xlink:href=\"#m93b0483c22\" y=\"178.765650781\"/>\n",
       "      </g>\n",
       "     </g>\n",
       "     <g id=\"line2d_13\">\n",
       "      <g>\n",
       "       <use style=\"stroke:#000000;stroke-width:0.5;\" x=\"382.3936875\" xlink:href=\"#m741efc42ff\" y=\"11.3656507813\"/>\n",
       "      </g>\n",
       "     </g>\n",
       "     <g id=\"text_6\">\n",
       "      <!-- 10 -->\n",
       "      <defs>\n",
       "       <path d=\"\n",
       "M34.7188 0\n",
       "L26.125 0\n",
       "L26.125 44.5781\n",
       "Q26.125 46.6875 26.1406 49.0781\n",
       "Q26.1719 51.4688 26.2344 53.8281\n",
       "Q26.3125 56.2031 26.3906 58.375\n",
       "Q26.4688 60.5469 26.5156 62.2031\n",
       "Q25.6875 61.3281 25.0469 60.6875\n",
       "Q24.4219 60.0625 23.75 59.4688\n",
       "Q23.0938 58.8906 22.3594 58.2188\n",
       "Q21.625 57.5625 20.6094 56.6875\n",
       "L13.375 50.7812\n",
       "L8.6875 56.7812\n",
       "L27.3906 71.3906\n",
       "L34.7188 71.3906\n",
       "z\n",
       "\" id=\"WenQuanYiMicroHei-31\"/>\n",
       "      </defs>\n",
       "      <g transform=\"translate(378.362748438 189.095149219)scale(0.0833 -0.0833)\">\n",
       "       <use xlink:href=\"#WenQuanYiMicroHei-31\"/>\n",
       "       <use x=\"55.078125\" xlink:href=\"#WenQuanYiMicroHei-30\"/>\n",
       "      </g>\n",
       "     </g>\n",
       "    </g>\n",
       "   </g>\n",
       "   <g id=\"matplotlib.axis_2\">\n",
       "    <g id=\"ytick_1\">\n",
       "     <g id=\"line2d_14\">\n",
       "      <defs>\n",
       "       <path d=\"\n",
       "M0 0\n",
       "L4 0\" id=\"m728421d6d4\" style=\"stroke:#000000;stroke-width:0.5;\"/>\n",
       "      </defs>\n",
       "      <g>\n",
       "       <use style=\"stroke:#000000;stroke-width:0.5;\" x=\"47.5936875\" xlink:href=\"#m728421d6d4\" y=\"178.765650781\"/>\n",
       "      </g>\n",
       "     </g>\n",
       "     <g id=\"line2d_15\">\n",
       "      <defs>\n",
       "       <path d=\"\n",
       "M0 0\n",
       "L-4 0\" id=\"mcb0005524f\" style=\"stroke:#000000;stroke-width:0.5;\"/>\n",
       "      </defs>\n",
       "      <g>\n",
       "       <use style=\"stroke:#000000;stroke-width:0.5;\" x=\"382.3936875\" xlink:href=\"#mcb0005524f\" y=\"178.765650781\"/>\n",
       "      </g>\n",
       "     </g>\n",
       "     <g id=\"text_7\">\n",
       "      <!-- −0.001 -->\n",
       "      <defs>\n",
       "       <path d=\"\n",
       "M4.98438 31.5938\n",
       "L4.98438 38.9219\n",
       "L50.0938 38.9219\n",
       "L50.0938 31.5938\n",
       "z\n",
       "\" id=\"WenQuanYiMicroHei-2212\"/>\n",
       "       <path d=\"\n",
       "M7.17188 5.42188\n",
       "Q7.17188 7.28125 7.65625 8.5625\n",
       "Q8.15625 9.85938 8.98438 10.6562\n",
       "Q9.8125 11.4688 10.9375 11.8281\n",
       "Q12.0625 12.2031 13.375 12.2031\n",
       "Q14.6562 12.2031 15.7969 11.8281\n",
       "Q16.9375 11.4688 17.7656 10.6562\n",
       "Q18.6094 9.85938 19.0938 8.5625\n",
       "Q19.5781 7.28125 19.5781 5.42188\n",
       "Q19.5781 3.60938 19.0938 2.3125\n",
       "Q18.6094 1.03125 17.7656 0.1875\n",
       "Q16.9375 -0.640625 15.7969 -1.03125\n",
       "Q14.6562 -1.42188 13.375 -1.42188\n",
       "Q12.0625 -1.42188 10.9375 -1.03125\n",
       "Q9.8125 -0.640625 8.98438 0.1875\n",
       "Q8.15625 1.03125 7.65625 2.3125\n",
       "Q7.17188 3.60938 7.17188 5.42188\" id=\"WenQuanYiMicroHei-2e\"/>\n",
       "      </defs>\n",
       "      <g transform=\"translate(20.5313015625 180.929498438)scale(0.0833 -0.0833)\">\n",
       "       <use xlink:href=\"#WenQuanYiMicroHei-2212\"/>\n",
       "       <use x=\"55.078125\" xlink:href=\"#WenQuanYiMicroHei-30\"/>\n",
       "       <use x=\"110.15625\" xlink:href=\"#WenQuanYiMicroHei-2e\"/>\n",
       "       <use x=\"136.962890625\" xlink:href=\"#WenQuanYiMicroHei-30\"/>\n",
       "       <use x=\"192.041015625\" xlink:href=\"#WenQuanYiMicroHei-30\"/>\n",
       "       <use x=\"247.119140625\" xlink:href=\"#WenQuanYiMicroHei-31\"/>\n",
       "      </g>\n",
       "     </g>\n",
       "    </g>\n",
       "    <g id=\"ytick_2\">\n",
       "     <g id=\"line2d_16\">\n",
       "      <g>\n",
       "       <use style=\"stroke:#000000;stroke-width:0.5;\" x=\"47.5936875\" xlink:href=\"#m728421d6d4\" y=\"154.851365067\"/>\n",
       "      </g>\n",
       "     </g>\n",
       "     <g id=\"line2d_17\">\n",
       "      <g>\n",
       "       <use style=\"stroke:#000000;stroke-width:0.5;\" x=\"382.3936875\" xlink:href=\"#mcb0005524f\" y=\"154.851365067\"/>\n",
       "      </g>\n",
       "     </g>\n",
       "     <g id=\"text_8\">\n",
       "      <!-- 0.000 -->\n",
       "      <g transform=\"translate(23.796921875 157.015212723)scale(0.0833 -0.0833)\">\n",
       "       <use xlink:href=\"#WenQuanYiMicroHei-30\"/>\n",
       "       <use x=\"55.078125\" xlink:href=\"#WenQuanYiMicroHei-2e\"/>\n",
       "       <use x=\"81.884765625\" xlink:href=\"#WenQuanYiMicroHei-30\"/>\n",
       "       <use x=\"136.962890625\" xlink:href=\"#WenQuanYiMicroHei-30\"/>\n",
       "       <use x=\"192.041015625\" xlink:href=\"#WenQuanYiMicroHei-30\"/>\n",
       "      </g>\n",
       "     </g>\n",
       "    </g>\n",
       "    <g id=\"ytick_3\">\n",
       "     <g id=\"line2d_18\">\n",
       "      <g>\n",
       "       <use style=\"stroke:#000000;stroke-width:0.5;\" x=\"47.5936875\" xlink:href=\"#m728421d6d4\" y=\"130.937079353\"/>\n",
       "      </g>\n",
       "     </g>\n",
       "     <g id=\"line2d_19\">\n",
       "      <g>\n",
       "       <use style=\"stroke:#000000;stroke-width:0.5;\" x=\"382.3936875\" xlink:href=\"#mcb0005524f\" y=\"130.937079353\"/>\n",
       "      </g>\n",
       "     </g>\n",
       "     <g id=\"text_9\">\n",
       "      <!-- 0.001 -->\n",
       "      <g transform=\"translate(25.1023890625 133.100927009)scale(0.0833 -0.0833)\">\n",
       "       <use xlink:href=\"#WenQuanYiMicroHei-30\"/>\n",
       "       <use x=\"55.078125\" xlink:href=\"#WenQuanYiMicroHei-2e\"/>\n",
       "       <use x=\"81.884765625\" xlink:href=\"#WenQuanYiMicroHei-30\"/>\n",
       "       <use x=\"136.962890625\" xlink:href=\"#WenQuanYiMicroHei-30\"/>\n",
       "       <use x=\"192.041015625\" xlink:href=\"#WenQuanYiMicroHei-31\"/>\n",
       "      </g>\n",
       "     </g>\n",
       "    </g>\n",
       "    <g id=\"ytick_4\">\n",
       "     <g id=\"line2d_20\">\n",
       "      <g>\n",
       "       <use style=\"stroke:#000000;stroke-width:0.5;\" x=\"47.5936875\" xlink:href=\"#m728421d6d4\" y=\"107.022793638\"/>\n",
       "      </g>\n",
       "     </g>\n",
       "     <g id=\"line2d_21\">\n",
       "      <g>\n",
       "       <use style=\"stroke:#000000;stroke-width:0.5;\" x=\"382.3936875\" xlink:href=\"#mcb0005524f\" y=\"107.022793638\"/>\n",
       "      </g>\n",
       "     </g>\n",
       "     <g id=\"text_10\">\n",
       "      <!-- 0.002 -->\n",
       "      <g transform=\"translate(23.8945390625 109.186641295)scale(0.0833 -0.0833)\">\n",
       "       <use xlink:href=\"#WenQuanYiMicroHei-30\"/>\n",
       "       <use x=\"55.078125\" xlink:href=\"#WenQuanYiMicroHei-2e\"/>\n",
       "       <use x=\"81.884765625\" xlink:href=\"#WenQuanYiMicroHei-30\"/>\n",
       "       <use x=\"136.962890625\" xlink:href=\"#WenQuanYiMicroHei-30\"/>\n",
       "       <use x=\"192.041015625\" xlink:href=\"#WenQuanYiMicroHei-32\"/>\n",
       "      </g>\n",
       "     </g>\n",
       "    </g>\n",
       "    <g id=\"ytick_5\">\n",
       "     <g id=\"line2d_22\">\n",
       "      <g>\n",
       "       <use style=\"stroke:#000000;stroke-width:0.5;\" x=\"47.5936875\" xlink:href=\"#m728421d6d4\" y=\"83.1085079241\"/>\n",
       "      </g>\n",
       "     </g>\n",
       "     <g id=\"line2d_23\">\n",
       "      <g>\n",
       "       <use style=\"stroke:#000000;stroke-width:0.5;\" x=\"382.3936875\" xlink:href=\"#mcb0005524f\" y=\"83.1085079241\"/>\n",
       "      </g>\n",
       "     </g>\n",
       "     <g id=\"text_11\">\n",
       "      <!-- 0.003 -->\n",
       "      <defs>\n",
       "       <path d=\"\n",
       "M46.9219 54.6875\n",
       "Q46.9219 51.125 45.7969 48.1875\n",
       "Q44.6719 45.2656 42.6406 43.1094\n",
       "Q40.625 40.9688 37.7969 39.5781\n",
       "Q34.9688 38.1875 31.5 37.5938\n",
       "L31.5 37.3125\n",
       "Q40.1406 36.2344 44.625 31.8125\n",
       "Q49.125 27.3906 49.125 20.3125\n",
       "Q49.125 15.625 47.5312 11.7188\n",
       "Q45.9531 7.8125 42.7188 4.98438\n",
       "Q39.5 2.15625 34.5625 0.578125\n",
       "Q29.6406 -0.984375 22.9062 -0.984375\n",
       "Q17.5781 -0.984375 12.8594 -0.140625\n",
       "Q8.15625 0.6875 4 2.875\n",
       "L4 11.1875\n",
       "Q8.25 8.9375 13.2031 7.71875\n",
       "Q18.1719 6.5 22.7031 6.5\n",
       "Q27.2031 6.5 30.4688 7.46875\n",
       "Q33.7344 8.45312 35.8594 10.25\n",
       "Q37.9844 12.0625 38.9844 14.6875\n",
       "Q39.9844 17.3281 39.9844 20.6094\n",
       "Q39.9844 23.9219 38.6875 26.2812\n",
       "Q37.4062 28.6562 35.0156 30.1875\n",
       "Q32.625 31.7344 29.1719 32.4688\n",
       "Q25.7344 33.2031 21.3906 33.2031\n",
       "L14.8906 33.2031\n",
       "L14.8906 40.5781\n",
       "L21.3906 40.5781\n",
       "Q25.3438 40.5781 28.4219 41.5469\n",
       "Q31.5 42.5312 33.5625 44.3281\n",
       "Q35.6406 46.1406 36.7188 48.625\n",
       "Q37.7969 51.125 37.7969 54.1094\n",
       "Q37.7969 56.6406 36.9062 58.6406\n",
       "Q36.0312 60.6406 34.4219 62.0312\n",
       "Q32.8125 63.4219 30.5625 64.1562\n",
       "Q28.3281 64.8906 25.5938 64.8906\n",
       "Q20.3594 64.8906 16.375 63.25\n",
       "Q12.4062 61.625 8.79688 58.9844\n",
       "L4.29688 65.0938\n",
       "Q6.15625 66.6094 8.42188 67.9219\n",
       "Q10.6875 69.2344 13.375 70.2344\n",
       "Q16.0625 71.2344 19.1094 71.8125\n",
       "Q22.1719 72.4062 25.5938 72.4062\n",
       "Q30.8594 72.4062 34.8281 71.0938\n",
       "Q38.8125 69.7812 41.5 67.4062\n",
       "Q44.1875 65.0469 45.5469 61.7969\n",
       "Q46.9219 58.5469 46.9219 54.6875\" id=\"WenQuanYiMicroHei-33\"/>\n",
       "      </defs>\n",
       "      <g transform=\"translate(23.9023484375 85.2723555804)scale(0.0833 -0.0833)\">\n",
       "       <use xlink:href=\"#WenQuanYiMicroHei-30\"/>\n",
       "       <use x=\"55.078125\" xlink:href=\"#WenQuanYiMicroHei-2e\"/>\n",
       "       <use x=\"81.884765625\" xlink:href=\"#WenQuanYiMicroHei-30\"/>\n",
       "       <use x=\"136.962890625\" xlink:href=\"#WenQuanYiMicroHei-30\"/>\n",
       "       <use x=\"192.041015625\" xlink:href=\"#WenQuanYiMicroHei-33\"/>\n",
       "      </g>\n",
       "     </g>\n",
       "    </g>\n",
       "    <g id=\"ytick_6\">\n",
       "     <g id=\"line2d_24\">\n",
       "      <g>\n",
       "       <use style=\"stroke:#000000;stroke-width:0.5;\" x=\"47.5936875\" xlink:href=\"#m728421d6d4\" y=\"59.1942222098\"/>\n",
       "      </g>\n",
       "     </g>\n",
       "     <g id=\"line2d_25\">\n",
       "      <g>\n",
       "       <use style=\"stroke:#000000;stroke-width:0.5;\" x=\"382.3936875\" xlink:href=\"#mcb0005524f\" y=\"59.1942222098\"/>\n",
       "      </g>\n",
       "     </g>\n",
       "     <g id=\"text_12\">\n",
       "      <!-- 0.004 -->\n",
       "      <g transform=\"translate(23.573053125 61.3580698661)scale(0.0833 -0.0833)\">\n",
       "       <use xlink:href=\"#WenQuanYiMicroHei-30\"/>\n",
       "       <use x=\"55.078125\" xlink:href=\"#WenQuanYiMicroHei-2e\"/>\n",
       "       <use x=\"81.884765625\" xlink:href=\"#WenQuanYiMicroHei-30\"/>\n",
       "       <use x=\"136.962890625\" xlink:href=\"#WenQuanYiMicroHei-30\"/>\n",
       "       <use x=\"192.041015625\" xlink:href=\"#WenQuanYiMicroHei-34\"/>\n",
       "      </g>\n",
       "     </g>\n",
       "    </g>\n",
       "    <g id=\"ytick_7\">\n",
       "     <g id=\"line2d_26\">\n",
       "      <g>\n",
       "       <use style=\"stroke:#000000;stroke-width:0.5;\" x=\"47.5936875\" xlink:href=\"#m728421d6d4\" y=\"35.2799364955\"/>\n",
       "      </g>\n",
       "     </g>\n",
       "     <g id=\"line2d_27\">\n",
       "      <g>\n",
       "       <use style=\"stroke:#000000;stroke-width:0.5;\" x=\"382.3936875\" xlink:href=\"#mcb0005524f\" y=\"35.2799364955\"/>\n",
       "      </g>\n",
       "     </g>\n",
       "     <g id=\"text_13\">\n",
       "      <!-- 0.005 -->\n",
       "      <defs>\n",
       "       <path d=\"\n",
       "M26.6094 43.7969\n",
       "Q31.4531 43.7969 35.625 42.4531\n",
       "Q39.7969 41.1094 42.8906 38.4688\n",
       "Q46 35.8438 47.75 31.9375\n",
       "Q49.5156 28.0312 49.5156 22.9062\n",
       "Q49.5156 17.3281 47.8438 12.8906\n",
       "Q46.1875 8.45312 42.9219 5.375\n",
       "Q39.6562 2.29688 34.8438 0.65625\n",
       "Q30.0312 -0.984375 23.7812 -0.984375\n",
       "Q21.2969 -0.984375 18.875 -0.734375\n",
       "Q16.4531 -0.484375 14.2344 -0.015625\n",
       "Q12.0156 0.4375 10.0156 1.17188\n",
       "Q8.01562 1.90625 6.39062 2.875\n",
       "L6.39062 11.2812\n",
       "Q8.01562 10.1562 10.1875 9.28125\n",
       "Q12.3594 8.40625 14.75 7.8125\n",
       "Q17.1406 7.23438 19.5469 6.90625\n",
       "Q21.9688 6.59375 24.0312 6.59375\n",
       "Q27.875 6.59375 30.9062 7.5\n",
       "Q33.9375 8.40625 36.0312 10.2969\n",
       "Q38.1406 12.2031 39.25 15.0781\n",
       "Q40.375 17.9688 40.375 21.9219\n",
       "Q40.375 28.9062 36.0781 32.5938\n",
       "Q31.7812 36.2812 23.5781 36.2812\n",
       "Q22.2656 36.2812 20.7188 36.1562\n",
       "Q19.1875 36.0312 17.6406 35.8281\n",
       "Q16.1094 35.6406 14.7188 35.4219\n",
       "Q13.3281 35.2031 12.3125 35.0156\n",
       "L7.90625 37.7969\n",
       "L10.5938 71.3906\n",
       "L44.2812 71.3906\n",
       "L44.2812 63.2812\n",
       "L18.3125 63.2812\n",
       "L16.4062 42.8281\n",
       "Q17.9688 43.1094 20.5312 43.4531\n",
       "Q23.0938 43.7969 26.6094 43.7969\" id=\"WenQuanYiMicroHei-35\"/>\n",
       "      </defs>\n",
       "      <g transform=\"translate(23.869809375 37.4437841518)scale(0.0833 -0.0833)\">\n",
       "       <use xlink:href=\"#WenQuanYiMicroHei-30\"/>\n",
       "       <use x=\"55.078125\" xlink:href=\"#WenQuanYiMicroHei-2e\"/>\n",
       "       <use x=\"81.884765625\" xlink:href=\"#WenQuanYiMicroHei-30\"/>\n",
       "       <use x=\"136.962890625\" xlink:href=\"#WenQuanYiMicroHei-30\"/>\n",
       "       <use x=\"192.041015625\" xlink:href=\"#WenQuanYiMicroHei-35\"/>\n",
       "      </g>\n",
       "     </g>\n",
       "    </g>\n",
       "    <g id=\"ytick_8\">\n",
       "     <g id=\"line2d_28\">\n",
       "      <g>\n",
       "       <use style=\"stroke:#000000;stroke-width:0.5;\" x=\"47.5936875\" xlink:href=\"#m728421d6d4\" y=\"11.3656507813\"/>\n",
       "      </g>\n",
       "     </g>\n",
       "     <g id=\"line2d_29\">\n",
       "      <g>\n",
       "       <use style=\"stroke:#000000;stroke-width:0.5;\" x=\"382.3936875\" xlink:href=\"#mcb0005524f\" y=\"11.3656507813\"/>\n",
       "      </g>\n",
       "     </g>\n",
       "     <g id=\"text_14\">\n",
       "      <!-- 0.006 -->\n",
       "      <g transform=\"translate(23.7891125 13.5294984375)scale(0.0833 -0.0833)\">\n",
       "       <use xlink:href=\"#WenQuanYiMicroHei-30\"/>\n",
       "       <use x=\"55.078125\" xlink:href=\"#WenQuanYiMicroHei-2e\"/>\n",
       "       <use x=\"81.884765625\" xlink:href=\"#WenQuanYiMicroHei-30\"/>\n",
       "       <use x=\"136.962890625\" xlink:href=\"#WenQuanYiMicroHei-30\"/>\n",
       "       <use x=\"192.041015625\" xlink:href=\"#WenQuanYiMicroHei-36\"/>\n",
       "      </g>\n",
       "     </g>\n",
       "    </g>\n",
       "    <g id=\"text_15\">\n",
       "     <!-- 真實值與近似值的誤差 -->\n",
       "     <defs>\n",
       "      <path d=\"\n",
       "M32.8125 82.0312\n",
       "Q37.1094 76.9531 40.2344 71.0938\n",
       "L59.375 71.0938\n",
       "Q63.6719 76.9531 66.0156 82.0312\n",
       "L75 79.2969\n",
       "Q72.2656 74.6094 68.75 71.0938\n",
       "L89.8438 71.0938\n",
       "L89.8438 63.6719\n",
       "L54.2969 63.6719\n",
       "Q53.5156 59.375 52.3438 55.0781\n",
       "L86.7188 55.0781\n",
       "L86.7188 48.0469\n",
       "L50 48.0469\n",
       "L46.4844 39.4531\n",
       "L92.9688 39.4531\n",
       "L92.9688 32.0312\n",
       "L42.5781 32.0312\n",
       "Q39.4531 26.5625 35.9375 22.2656\n",
       "L87.5 22.2656\n",
       "L87.5 14.8438\n",
       "L57.8125 14.8438\n",
       "L57.8125 1.5625\n",
       "L92.5781 1.5625\n",
       "L92.5781 -5.85938\n",
       "L15.2344 -5.85938\n",
       "L15.2344 1.5625\n",
       "L50 1.5625\n",
       "L50 14.8438\n",
       "L28.9062 14.8438\n",
       "Q19.5312 6.64062 9.375 2.73438\n",
       "L5.07812 9.76562\n",
       "Q21.4844 16.4062 32.8125 32.0312\n",
       "L7.42188 32.0312\n",
       "L7.42188 39.4531\n",
       "L37.5 39.4531\n",
       "Q39.4531 42.9688 41.4062 48.0469\n",
       "L12.5 48.0469\n",
       "L12.5 55.0781\n",
       "L43.75 55.0781\n",
       "Q44.9219 59.375 45.7031 63.6719\n",
       "L10.1562 63.6719\n",
       "L10.1562 71.0938\n",
       "L30.4688 71.0938\n",
       "Q28.125 75 25.3906 78.5156\n",
       "z\n",
       "\" id=\"WenQuanYiMicroHei-5dee\"/>\n",
       "      <path d=\"\n",
       "M48.0469 80.8594\n",
       "L55.8594 80.8594\n",
       "L55.0781 73.8281\n",
       "L89.4531 73.8281\n",
       "L89.4531 66.7969\n",
       "L53.9062 66.7969\n",
       "L53.125 60.9375\n",
       "L80.4688 60.9375\n",
       "L80.4688 14.0625\n",
       "L94.1406 14.0625\n",
       "L94.1406 7.03125\n",
       "L5.85938 7.03125\n",
       "L5.85938 14.0625\n",
       "L20.7031 14.0625\n",
       "L20.7031 60.9375\n",
       "L45.3125 60.9375\n",
       "L46.0938 66.7969\n",
       "L9.375 66.7969\n",
       "L9.375 73.8281\n",
       "L47.2656 73.8281\n",
       "z\n",
       "\n",
       "M73.0469 48.4375\n",
       "L73.0469 53.9062\n",
       "L28.125 53.9062\n",
       "L28.125 48.4375\n",
       "z\n",
       "\n",
       "M28.125 36.7188\n",
       "L73.0469 36.7188\n",
       "L73.0469 42.5781\n",
       "L28.125 42.5781\n",
       "z\n",
       "\n",
       "M28.125 25.3906\n",
       "L73.0469 25.3906\n",
       "L73.0469 30.8594\n",
       "L28.125 30.8594\n",
       "z\n",
       "\n",
       "M28.125 14.0625\n",
       "L73.0469 14.0625\n",
       "L73.0469 19.5312\n",
       "L28.125 19.5312\n",
       "z\n",
       "\n",
       "M35.1562 5.85938\n",
       "L41.7969 0.390625\n",
       "Q30.0781 -5.85938 13.6719 -9.76562\n",
       "L8.98438 -3.125\n",
       "Q23.4375 0 35.1562 5.85938\n",
       "M61.3281 5.46875\n",
       "Q75.7812 2.73438 90.2344 -2.34375\n",
       "L85.9375 -9.76562\n",
       "Q71.4844 -3.51562 56.6406 -0.78125\n",
       "z\n",
       "\" id=\"WenQuanYiMicroHei-771f\"/>\n",
       "      <path d=\"\n",
       "M28.125 58.9844\n",
       "L28.125 40.625\n",
       "L87.1094 40.625\n",
       "Q85.9375 5.85938 82.4219 -1.17188\n",
       "Q78.9062 -8.20312 69.9219 -8.20312\n",
       "Q64.4531 -8.20312 52.7344 -6.64062\n",
       "L51.1719 0.78125\n",
       "Q64.0625 -0.78125 69.1406 -0.78125\n",
       "Q74.2188 -0.78125 75.7812 3.51562\n",
       "Q77.7344 10.1562 79.2969 33.2031\n",
       "L20.3125 33.2031\n",
       "L20.3125 80.8594\n",
       "L28.125 80.8594\n",
       "L28.125 66.4062\n",
       "L91.4062 66.4062\n",
       "L91.4062 58.9844\n",
       "z\n",
       "\n",
       "M7.8125 20.3125\n",
       "L67.9688 20.3125\n",
       "L67.9688 12.8906\n",
       "L7.8125 12.8906\n",
       "z\n",
       "\" id=\"WenQuanYiMicroHei-4e0e\"/>\n",
       "      <path d=\"\n",
       "M50.7812 81.6406\n",
       "Q53.5156 77.3438 55.0781 72.2656\n",
       "L92.5781 72.2656\n",
       "L92.5781 54.2969\n",
       "L84.7656 54.2969\n",
       "L84.7656 65.2344\n",
       "L15.2344 65.2344\n",
       "L15.2344 54.2969\n",
       "L7.42188 54.2969\n",
       "L7.42188 72.2656\n",
       "L46.4844 72.2656\n",
       "Q44.5312 76.1719 42.5781 79.2969\n",
       "z\n",
       "\n",
       "M6.64062 23.4375\n",
       "L51.1719 23.4375\n",
       "Q54.6875 30.8594 54.6875 40.2344\n",
       "Q55.0781 41.0156 55.0781 60.1562\n",
       "L63.2812 60.1562\n",
       "Q63.2812 38.6719 62.8906 37.8906\n",
       "Q62.8906 29.6875 60.5469 23.4375\n",
       "L92.9688 23.4375\n",
       "L92.9688 15.625\n",
       "L56.6406 15.625\n",
       "Q46.0938 -0.78125 14.8438 -8.98438\n",
       "L10.5469 -1.5625\n",
       "Q35.1562 4.6875 46.0938 15.625\n",
       "L6.64062 15.625\n",
       "z\n",
       "\n",
       "M28.9062 56.6406\n",
       "Q39.8438 51.5625 49.2188 44.9219\n",
       "L43.75 39.0625\n",
       "Q34.7656 45.7031 24.2188 50.3906\n",
       "z\n",
       "\n",
       "M19.5312 43.3594\n",
       "Q30.4688 38.2812 39.4531 31.6406\n",
       "L33.9844 25.7812\n",
       "Q25 32.4219 14.8438 37.1094\n",
       "z\n",
       "\n",
       "M67.9688 12.8906\n",
       "Q82.4219 5.07812 94.1406 -1.95312\n",
       "L89.0625 -8.20312\n",
       "L62.8906 7.03125\n",
       "z\n",
       "\" id=\"WenQuanYiMicroHei-5b9e\"/>\n",
       "      <path d=\"\n",
       "M24.6094 80.8594\n",
       "L32.4219 78.5156\n",
       "Q29.2969 69.5312 25.3906 60.5469\n",
       "L25.3906 -8.98438\n",
       "L17.5781 -8.98438\n",
       "L17.5781 45.7031\n",
       "Q12.8906 38.2812 7.8125 32.0312\n",
       "L3.90625 39.8438\n",
       "Q18.3594 59.375 24.6094 80.8594\n",
       "M35.1562 71.4844\n",
       "L59.375 71.4844\n",
       "L59.375 80.4688\n",
       "L67.1875 80.4688\n",
       "L67.1875 71.4844\n",
       "L91.7969 71.4844\n",
       "L91.7969 64.4531\n",
       "L67.1875 64.4531\n",
       "L67.1875 55.4688\n",
       "L87.1094 55.4688\n",
       "L87.1094 1.17188\n",
       "L94.5312 1.17188\n",
       "L94.5312 -5.46875\n",
       "L30.0781 -5.46875\n",
       "L30.0781 1.17188\n",
       "L41.0156 1.17188\n",
       "L41.0156 55.4688\n",
       "L59.375 55.4688\n",
       "L59.375 64.4531\n",
       "L35.1562 64.4531\n",
       "z\n",
       "\n",
       "M48.8281 41.4062\n",
       "L79.2969 41.4062\n",
       "L79.2969 48.8281\n",
       "L48.8281 48.8281\n",
       "z\n",
       "\n",
       "M48.8281 27.7344\n",
       "L79.2969 27.7344\n",
       "L79.2969 35.5469\n",
       "L48.8281 35.5469\n",
       "z\n",
       "\n",
       "M48.8281 14.4531\n",
       "L79.2969 14.4531\n",
       "L79.2969 21.875\n",
       "L48.8281 21.875\n",
       "z\n",
       "\n",
       "M48.8281 1.17188\n",
       "L79.2969 1.17188\n",
       "L79.2969 8.59375\n",
       "L48.8281 8.59375\n",
       "z\n",
       "\" id=\"WenQuanYiMicroHei-503c\"/>\n",
       "      <path d=\"\n",
       "M19.5312 80.8594\n",
       "Q25.7812 73.0469 29.6875 64.4531\n",
       "L22.2656 60.1562\n",
       "Q18.75 68.75 12.5 76.5625\n",
       "z\n",
       "\n",
       "M5.07812 51.9531\n",
       "L25.3906 51.9531\n",
       "L25.3906 8.98438\n",
       "L30.4688 16.0156\n",
       "L35.1562 11.7188\n",
       "Q30.8594 3.51562 23.8281 -3.90625\n",
       "L17.9688 1.17188\n",
       "L17.9688 44.9219\n",
       "L5.07812 44.9219\n",
       "z\n",
       "\n",
       "M39.0625 77.7344\n",
       "L86.7188 77.7344\n",
       "L86.7188 50.3906\n",
       "L39.0625 50.3906\n",
       "z\n",
       "\n",
       "M46.875 57.4219\n",
       "L78.9062 57.4219\n",
       "L78.9062 70.7031\n",
       "L46.875 70.7031\n",
       "z\n",
       "\n",
       "M58.2031 35.9375\n",
       "L37.1094 35.9375\n",
       "L37.1094 43.3594\n",
       "L88.2812 43.3594\n",
       "L88.2812 35.9375\n",
       "L66.4062 35.9375\n",
       "Q65.625 30.0781 64.4531 25.3906\n",
       "L92.9688 25.3906\n",
       "L92.9688 17.9688\n",
       "L67.5781 17.9688\n",
       "Q77.7344 3.90625 94.9219 -1.5625\n",
       "L90.625 -8.98438\n",
       "Q72.2656 -1.5625 61.3281 14.8438\n",
       "Q54.2969 -2.73438 33.5938 -8.98438\n",
       "L30.0781 -1.5625\n",
       "Q48.0469 3.90625 53.9062 17.9688\n",
       "L33.2031 17.9688\n",
       "L33.2031 25.3906\n",
       "L56.25 25.3906\n",
       "Q57.8125 30.0781 58.2031 35.9375\" id=\"WenQuanYiMicroHei-8bef\"/>\n",
       "      <path d=\"\n",
       "M85.1562 80.0781\n",
       "L89.8438 73.0469\n",
       "Q71.0938 68.3594 46.4844 67.5781\n",
       "L46.4844 53.125\n",
       "L93.75 53.125\n",
       "L93.75 45.7031\n",
       "L77.3438 45.7031\n",
       "L77.3438 7.03125\n",
       "L69.1406 7.03125\n",
       "L69.1406 45.7031\n",
       "L46.4844 45.7031\n",
       "Q45.3125 25.7812 36.7188 9.375\n",
       "L30.4688 14.8438\n",
       "Q38.6719 32.4219 38.6719 51.5625\n",
       "L38.6719 75\n",
       "Q65.625 75.3906 85.1562 80.0781\n",
       "M11.7188 78.5156\n",
       "Q19.5312 73.4375 25.7812 66.4062\n",
       "L20.3125 59.7656\n",
       "Q13.6719 67.5781 6.25 72.6562\n",
       "z\n",
       "\n",
       "M5.07812 46.0938\n",
       "L24.6094 46.0938\n",
       "L24.6094 8.59375\n",
       "Q29.2969 5.07812 36.5156 3.51562\n",
       "Q43.75 1.95312 67.9688 1.95312\n",
       "L95.3125 1.95312\n",
       "L91.4062 -6.64062\n",
       "L60.1562 -6.64062\n",
       "Q42.9688 -6.64062 35.1562 -4.29688\n",
       "Q27.3438 -1.95312 21.4844 3.125\n",
       "L10.1562 -8.20312\n",
       "L4.6875 0\n",
       "Q10.9375 3.51562 16.7969 7.42188\n",
       "L16.7969 38.6719\n",
       "L5.07812 38.6719\n",
       "z\n",
       "\" id=\"WenQuanYiMicroHei-8fd1\"/>\n",
       "      <path d=\"\n",
       "M23.4375 80.8594\n",
       "L31.25 78.5156\n",
       "Q27.7344 67.5781 23.0469 57.0312\n",
       "L23.0469 -8.98438\n",
       "L15.2344 -8.98438\n",
       "L15.2344 42.1875\n",
       "Q11.7188 36.7188 7.8125 32.0312\n",
       "L3.90625 39.8438\n",
       "Q17.1875 59.375 23.4375 80.8594\n",
       "M53.9062 78.5156\n",
       "Q61.3281 65.2344 66.4062 49.2188\n",
       "L58.9844 46.0938\n",
       "Q54.2969 62.5 47.2656 75.3906\n",
       "z\n",
       "\n",
       "M75.7812 78.125\n",
       "L83.5938 78.125\n",
       "Q83.5938 37.1094 78.125 22.6562\n",
       "Q87.1094 11.7188 94.5312 -1.95312\n",
       "L89.0625 -8.20312\n",
       "Q82.4219 4.6875 75 14.4531\n",
       "Q67.9688 0.78125 52.3438 -8.59375\n",
       "L48.4375 -1.5625\n",
       "Q64.4531 8.20312 70.7031 26.1719\n",
       "Q75.7812 40.2344 75.7812 78.125\n",
       "M34.375 70.7031\n",
       "L42.1875 70.7031\n",
       "L42.1875 12.5\n",
       "Q48.8281 16.4062 55.4688 20.7031\n",
       "L58.5938 14.8438\n",
       "Q50 8.59375 39.4531 3.125\n",
       "L34.375 8.20312\n",
       "z\n",
       "\" id=\"WenQuanYiMicroHei-4f3c\"/>\n",
       "      <path d=\"\n",
       "M58.9844 80.4688\n",
       "L66.7969 78.9062\n",
       "Q64.8438 71.4844 61.7188 64.4531\n",
       "L92.1875 64.4531\n",
       "Q92.1875 12.8906 88.6719 0.78125\n",
       "Q85.9375 -8.98438 75.7812 -8.98438\n",
       "Q70.7031 -8.98438 63.6719 -7.42188\n",
       "L61.7188 0.78125\n",
       "Q71.4844 -0.78125 75.7812 -0.78125\n",
       "Q80.4688 -0.78125 81.6406 4.6875\n",
       "Q83.9844 15.2344 83.9844 57.0312\n",
       "L57.8125 57.0312\n",
       "Q53.125 48.8281 47.6562 43.3594\n",
       "L41.7969 48.8281\n",
       "Q53.5156 61.7188 58.9844 80.4688\n",
       "M62.1094 41.7969\n",
       "Q67.9688 33.2031 71.875 22.6562\n",
       "L64.4531 19.1406\n",
       "Q60.5469 30.0781 54.6875 38.6719\n",
       "z\n",
       "\n",
       "M40.2344 67.9688\n",
       "L40.2344 -2.73438\n",
       "L33.2031 -2.73438\n",
       "L33.2031 0.390625\n",
       "L15.2344 0.390625\n",
       "L15.2344 -5.46875\n",
       "L8.20312 -5.46875\n",
       "L8.20312 67.9688\n",
       "L16.7969 67.9688\n",
       "Q18.75 74.2188 19.5312 80.8594\n",
       "L27.7344 79.2969\n",
       "Q26.1719 73.0469 24.2188 67.9688\n",
       "z\n",
       "\n",
       "M33.2031 37.8906\n",
       "L33.2031 60.5469\n",
       "L15.2344 60.5469\n",
       "L15.2344 37.8906\n",
       "z\n",
       "\n",
       "M15.2344 30.4688\n",
       "L15.2344 7.8125\n",
       "L33.2031 7.8125\n",
       "L33.2031 30.4688\n",
       "z\n",
       "\" id=\"WenQuanYiMicroHei-7684\"/>\n",
       "     </defs>\n",
       "     <g transform=\"translate(13.5294984375 136.17875625)rotate(-90.0)scale(0.0833 -0.0833)\">\n",
       "      <use xlink:href=\"#WenQuanYiMicroHei-771f\"/>\n",
       "      <use x=\"100.0\" xlink:href=\"#WenQuanYiMicroHei-5b9e\"/>\n",
       "      <use x=\"200.0\" xlink:href=\"#WenQuanYiMicroHei-503c\"/>\n",
       "      <use x=\"300.0\" xlink:href=\"#WenQuanYiMicroHei-4e0e\"/>\n",
       "      <use x=\"400.0\" xlink:href=\"#WenQuanYiMicroHei-8fd1\"/>\n",
       "      <use x=\"500.0\" xlink:href=\"#WenQuanYiMicroHei-4f3c\"/>\n",
       "      <use x=\"600.0\" xlink:href=\"#WenQuanYiMicroHei-503c\"/>\n",
       "      <use x=\"700.0\" xlink:href=\"#WenQuanYiMicroHei-7684\"/>\n",
       "      <use x=\"800.0\" xlink:href=\"#WenQuanYiMicroHei-8bef\"/>\n",
       "      <use x=\"900.0\" xlink:href=\"#WenQuanYiMicroHei-5dee\"/>\n",
       "     </g>\n",
       "    </g>\n",
       "   </g>\n",
       "  </g>\n",
       " </g>\n",
       " <defs>\n",
       "  <clipPath id=\"p02fbce90f1\">\n",
       "   <rect height=\"167.4\" width=\"334.8\" x=\"47.5936875\" y=\"11.3656507813\"/>\n",
       "  </clipPath>\n",
       " </defs>\n",
       "</svg>\n"
      ],
      "text/plain": [
       "<matplotlib.figure.Figure at 0x9aba0b0>"
      ]
     },
     "metadata": {},
     "output_type": "display_data"
    }
   ],
   "source": [
    "#%figonly=雷神之錘中計算平方根倒數算法的絕對誤差\n",
    "import pylab as pl\n",
    "pl.plot(number, 1/np.sqrt(number) - y, lw=2)\n",
    "pl.ylabel(u\"真實值與近似值的誤差\");"
   ]
  },
  {
   "cell_type": "code",
   "execution_count": 111,
   "metadata": {
    "collapsed": false
   },
   "outputs": [
    {
     "name": "stdout",
     "output_type": "stream",
     "text": [
      "        a                b     \n",
      "------------------  -----------\n",
      "[0, 1, 2, 3, 4, 5]  [[0, 1, 2],\n",
      "                     [1, 2, 3],\n",
      "                     [2, 3, 4],\n",
      "                     [3, 4, 5]]\n"
     ]
    }
   ],
   "source": [
    "from numpy.lib.stride_tricks import as_strided\n",
    "a = np.arange(6)\n",
    "b = as_strided(a, shape=(4, 3), strides=(4, 4))\n",
    "%C a; b"
   ]
  },
  {
   "cell_type": "code",
   "execution_count": 112,
   "metadata": {
    "collapsed": false
   },
   "outputs": [
    {
     "data": {
      "text/plain": [
       "array([[ 0,  1, 20],\n",
       "       [ 1, 20,  3],\n",
       "       [20,  3,  4],\n",
       "       [ 3,  4,  5]])"
      ]
     },
     "execution_count": 112,
     "metadata": {},
     "output_type": "execute_result"
    }
   ],
   "source": [
    "a[2] = 20\n",
    "b"
   ]
  },
  {
   "cell_type": "code",
   "execution_count": null,
   "metadata": {
    "collapsed": true
   },
   "outputs": [],
   "source": []
  }
 ],
 "metadata": {
  "anaconda-cloud": {},
  "kernelspec": {
   "display_name": "Python [py2]",
   "language": "python",
   "name": "Python [py2]"
  },
  "language_info": {
   "codemirror_mode": {
    "name": "ipython",
    "version": 2
   },
   "file_extension": ".py",
   "mimetype": "text/x-python",
   "name": "python",
   "nbconvert_exporter": "python",
   "pygments_lexer": "ipython2",
   "version": "2.7.12"
  }
 },
 "nbformat": 4,
 "nbformat_minor": 0
}
