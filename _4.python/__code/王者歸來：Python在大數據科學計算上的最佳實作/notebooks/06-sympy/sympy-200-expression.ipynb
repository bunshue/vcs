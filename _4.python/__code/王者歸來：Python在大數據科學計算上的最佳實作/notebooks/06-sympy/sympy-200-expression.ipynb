﻿{
 "cells": [
  {
   "cell_type": "code",
   "execution_count": 1,
   "metadata": {
    "collapsed": false
   },
   "outputs": [],
   "source": [
    "from sympy import *\n",
    "%init_sympy_printing"
   ]
  },
  {
   "cell_type": "markdown",
   "metadata": {},
   "source": [
    "## 數學表達式"
   ]
  },
  {
   "cell_type": "markdown",
   "metadata": {},
   "source": [
    "### 符號"
   ]
  },
  {
   "cell_type": "code",
   "execution_count": 2,
   "metadata": {
    "collapsed": false
   },
   "outputs": [
    {
     "name": "stdout",
     "output_type": "stream",
     "text": [
      "(x0, y0, x1, y1)\n"
     ]
    }
   ],
   "source": [
    "print var(\"x0,y0,x1,y1\")"
   ]
  },
  {
   "cell_type": "code",
   "execution_count": 3,
   "metadata": {
    "collapsed": false
   },
   "outputs": [
    {
     "name": "stdout",
     "output_type": "stream",
     "text": [
      "        type(x0)          x0.name  type(x0.name)\n",
      "------------------------  -------  -------------\n",
      "sympy.core.symbol.Symbol  'x0'     str          \n"
     ]
    }
   ],
   "source": [
    "%C type(x0); x0.name; type(x0.name)"
   ]
  },
  {
   "cell_type": "code",
   "execution_count": 4,
   "metadata": {
    "collapsed": false
   },
   "outputs": [
    {
     "data": {
      "text/plain": [
       "sympy.core.symbol.Symbol"
      ]
     },
     "execution_count": 4,
     "metadata": {},
     "output_type": "execute_result"
    }
   ],
   "source": [
    "x1, y1 = symbols(\"x1, y1\")\n",
    "type(x1)"
   ]
  },
  {
   "cell_type": "code",
   "execution_count": 5,
   "metadata": {
    "collapsed": false
   },
   "outputs": [],
   "source": [
    "x2 = Symbol(\"x2\")"
   ]
  },
  {
   "cell_type": "code",
   "execution_count": 6,
   "metadata": {
    "collapsed": false
   },
   "outputs": [
    {
     "data": {
      "image/png": "[encoded data removed]",
      "text/latex": [
       "$$x_{0} + \\sin{\\left (\\alpha \\right )} + \\sin{\\left (\\beta \\right )}$$"
      ],
      "text/plain": [
       "x₀ + sin(α) + sin(β)"
      ]
     },
     "execution_count": 6,
     "metadata": {},
     "output_type": "execute_result"
    }
   ],
   "source": [
    "t = x0\n",
    "a, b = symbols(\"alpha, beta\")\n",
    "sin(a) + sin(b) + t"
   ]
  },
  {
   "cell_type": "code",
   "execution_count": 7,
   "metadata": {
    "collapsed": false
   },
   "outputs": [],
   "source": [
    "m, n = symbols(\"m, n\", integer=True)\n",
    "x = Symbol(\"x\", positive=True)   "
   ]
  },
  {
   "cell_type": "code",
   "execution_count": 8,
   "metadata": {
    "collapsed": false
   },
   "outputs": [
    {
     "name": "stdout",
     "output_type": "stream",
     "text": [
      "['is_algebraic',\n",
      " 'is_algebraic_expr',\n",
      " 'is_antihermitian',\n",
      " 'is_bounded',\n",
      "...\n"
     ]
    }
   ],
   "source": [
    "%omit 4 [attr for attr in dir(x) if attr.startswith(\"is_\") and attr.lower() == attr]"
   ]
  },
  {
   "cell_type": "code",
   "execution_count": 31,
   "metadata": {
    "collapsed": false
   },
   "outputs": [
    {
     "name": "stdout",
     "output_type": "stream",
     "text": [
      "x.is_Symbol  x.is_positive  x.is_imaginary  x.is_complex\n",
      "-----------  -------------  --------------  ------------\n",
      "True         True           False           True        \n"
     ]
    }
   ],
   "source": [
    "%C x.is_Symbol; x.is_positive; x.is_imaginary; x.is_complex "
   ]
  },
  {
   "cell_type": "code",
   "execution_count": 9,
   "metadata": {
    "collapsed": false
   },
   "outputs": [
    {
     "name": "stdout",
     "output_type": "stream",
     "text": [
      "{'commutative': True,     'complex': True,         'hermitian': True,      \n",
      " 'imaginary': False,      'negative': False,       'nonnegative': True,    \n",
      " 'nonpositive': False,    'nonzero': True,         'positive': True,       \n",
      " 'real': True,            'zero': False}          \n"
     ]
    }
   ],
   "source": [
    "%col 3 x.assumptions0"
   ]
  },
  {
   "cell_type": "code",
   "execution_count": 36,
   "metadata": {
    "collapsed": false
   },
   "outputs": [
    {
     "data": {
      "text/plain": [
       "[sympy.core.symbol.Symbol,\n",
       " sympy.core.expr.AtomicExpr,\n",
       " sympy.core.basic.Atom,\n",
       " sympy.core.expr.Expr,\n",
       " sympy.logic.boolalg.Boolean,\n",
       " sympy.core.basic.Basic,\n",
       " sympy.core.evalf.EvalfMixin,\n",
       " object]"
      ]
     },
     "execution_count": 36,
     "metadata": {},
     "output_type": "execute_result"
    }
   ],
   "source": [
    "Symbol.mro()"
   ]
  },
  {
   "cell_type": "markdown",
   "metadata": {},
   "source": [
    "### 數值"
   ]
  },
  {
   "cell_type": "code",
   "execution_count": 37,
   "metadata": {
    "collapsed": false
   },
   "outputs": [
    {
     "name": "stdout",
     "output_type": "stream",
     "text": [
      "1/2 + 1/3  S(1)/2 + 1/S(3)\n",
      "---------  ---------------\n",
      "0          5/6            \n"
     ]
    }
   ],
   "source": [
    "%C 1/2 + 1/3; S(1)/2 + 1/S(3) "
   ]
  },
  {
   "cell_type": "code",
   "execution_count": 38,
   "metadata": {
    "collapsed": false
   },
   "outputs": [
    {
     "data": {
      "text/plain": [
       "sympy.core.numbers.Rational"
      ]
     },
     "execution_count": 38,
     "metadata": {},
     "output_type": "execute_result"
    }
   ],
   "source": [
    "type(S(5)/6)"
   ]
  },
  {
   "cell_type": "code",
   "execution_count": 39,
   "metadata": {
    "collapsed": false
   },
   "outputs": [
    {
     "data": {
      "image/png": "[encoded data removed]",
      "text/latex": [
       "$$\\frac{1}{2}$$"
      ],
      "text/plain": [
       "1/2"
      ]
     },
     "execution_count": 39,
     "metadata": {},
     "output_type": "execute_result"
    }
   ],
   "source": [
    "Rational(5, 10) # 有理數會自動進行約分處理"
   ]
  },
  {
   "cell_type": "code",
   "execution_count": 40,
   "metadata": {
    "collapsed": false
   },
   "outputs": [
    {
     "name": "stdout",
     "output_type": "stream",
     "text": [
      "0.100000000000000005551115123125782702118158340454101562500000\n",
      "10000.1000000000003637978807091712951660156250000000000000000\n"
     ]
    }
   ],
   "source": [
    "print N(0.1, 60)\n",
    "print N(10000.1, 60)"
   ]
  },
  {
   "cell_type": "code",
   "execution_count": 51,
   "metadata": {
    "collapsed": false
   },
   "outputs": [
    {
     "name": "stdout",
     "output_type": "stream",
     "text": [
      "0.100000000000000005551115123125782702118158340454101562500000\n",
      "0.100000000000000000000000000000000000000000000000000000000000\n",
      "0.099999999999999999999999999999999999999999999999999999999999996111\n"
     ]
    }
   ],
   "source": [
    "print N(Float(0.1, 60), 60) #用浮點數建立Real物件時，精度和浮點數相同\n",
    "print N(Float(\"0.1\", 60), 60) #用字串建立Real物件時，所特殊的精度有效\n",
    "print N(Float(\"0.1\", 60), 65) #精度再高，也不是完全精確的"
   ]
  },
  {
   "cell_type": "code",
   "execution_count": 10,
   "metadata": {
    "collapsed": false
   },
   "outputs": [
    {
     "name": "stdout",
     "output_type": "stream",
     "text": [
      "3.1415926535897932384626433832795028841971693993751\n",
      "1.4142135623730950488016887242096980785696718753769\n"
     ]
    }
   ],
   "source": [
    "print N(pi, 50)\n",
    "print N(sqrt(2), 50)"
   ]
  },
  {
   "cell_type": "markdown",
   "metadata": {},
   "source": [
    "### 運算符和函數"
   ]
  },
  {
   "cell_type": "code",
   "execution_count": 11,
   "metadata": {
    "collapsed": false
   },
   "outputs": [
    {
     "data": {
      "image/png": "[encoded data removed]",
      "text/latex": [
       "$$x + y + z$$"
      ],
      "text/plain": [
       "x + y + z"
      ]
     },
     "execution_count": 11,
     "metadata": {},
     "output_type": "execute_result"
    }
   ],
   "source": [
    "var(\"x, y, z\")\n",
    "Add(x, y, z)"
   ]
  },
  {
   "cell_type": "code",
   "execution_count": 63,
   "metadata": {
    "collapsed": false
   },
   "outputs": [
    {
     "data": {
      "image/png": "[encoded data removed]",
      "text/latex": [
       "$$x y z + x^{y} + \\sin{\\left (z \\right )}$$"
      ],
      "text/plain": [
       "         y         \n",
       "x⋅y⋅z + x  + sin(z)"
      ]
     },
     "execution_count": 63,
     "metadata": {},
     "output_type": "execute_result"
    }
   ],
   "source": [
    "Add(Mul(x, y, z), Pow(x, y), sin(z))"
   ]
  },
  {
   "cell_type": "code",
   "execution_count": 65,
   "metadata": {
    "collapsed": false
   },
   "outputs": [
    {
     "data": {
      "image/png": "[encoded data removed]",
      "text/latex": [
       "$$x y z + x^{y} + \\sin{\\left (z \\right )}$$"
      ],
      "text/plain": [
       "         y         \n",
       "x⋅y⋅z + x  + sin(z)"
      ]
     },
     "execution_count": 65,
     "metadata": {},
     "output_type": "execute_result"
    }
   ],
   "source": [
    "x*y*z + x**y + sin(z)"
   ]
  },
  {
   "cell_type": "code",
   "execution_count": 71,
   "metadata": {
    "collapsed": false
   },
   "outputs": [
    {
     "name": "stdout",
     "output_type": "stream",
     "text": [
      "      t.func         t.args    t.args[0].func    t.args[0].args\n",
      "------------------  -------  ------------------  --------------\n",
      "sympy.core.add.Add  (-y, x)  sympy.core.mul.Mul  (-1, y)       \n"
     ]
    }
   ],
   "source": [
    "t = x - y\n",
    "%C t.func; t.args; t.args[0].func; t.args[0].args"
   ]
  },
  {
   "cell_type": "code",
   "execution_count": 237,
   "metadata": {
    "collapsed": false
   },
   "outputs": [
    {
     "data": {
      "image/svg+xml": [
       "<?xml version=\"1.0\" encoding=\"UTF-8\" standalone=\"no\"?>\r\n",
       "<!DOCTYPE svg PUBLIC \"-//W3C//DTD SVG 1.1//EN\"\r\n",
       " \"http://www.w3.org/Graphics/SVG/1.1/DTD/svg11.dtd\">\r\n",
       "<!-- Generated by graphviz version 2.36.0 (20140111.2315)\r\n",
       " -->\r\n",
       "<!-- Title: %3 Pages: 1 -->\r\n",
       "<svg width=\"404pt\" height=\"404pt\"\r\n",
       " viewBox=\"0.00 0.00 404.00 404.00\" xmlns=\"http://www.w3.org/2000/svg\" xmlns:xlink=\"http://www.w3.org/1999/xlink\">\r\n",
       "<g id=\"graph0\" class=\"graph\" transform=\"scale(1 1) rotate(0) translate(4 400)\">\r\n",
       "<title>%3</title>\r\n",
       "<polygon fill=\"white\" stroke=\"none\" points=\"-4,4 -4,-400 400,-400 400,4 -4,4\"/>\r\n",
       "<!-- Mul(Symbol(x), Symbol(y), Pow(Add(Symbol(x), Symbol(y)), NegativeOne()), Pow(Add(Pow(Symbol(x), Integer(2)), Mul(NegativeOne(), Pow(Symbol(y), Integer(2)))), Half()))_() -->\r\n",
       "<g id=\"node1\" class=\"node\"><title>Mul(Symbol(x), Symbol(y), Pow(Add(Symbol(x), Symbol(y)), NegativeOne()), Pow(Add(Pow(Symbol(x), Integer(2)), Mul(NegativeOne(), Pow(Symbol(y), Integer(2)))), Half()))_()</title>\r\n",
       "<ellipse fill=\"none\" stroke=\"black\" cx=\"135\" cy=\"-378\" rx=\"27\" ry=\"18\"/>\r\n",
       "<text text-anchor=\"middle\" x=\"135\" y=\"-374.3\" font-family=\"Times New Roman,serif\" font-size=\"14.00\">Mul</text>\r\n",
       "</g>\r\n",
       "<!-- Symbol(x)_(0,) -->\r\n",
       "<g id=\"node2\" class=\"node\"><title>Symbol(x)_(0,)</title>\r\n",
       "<ellipse fill=\"none\" stroke=\"black\" cx=\"27\" cy=\"-306\" rx=\"27\" ry=\"18\"/>\r\n",
       "<text text-anchor=\"middle\" x=\"27\" y=\"-302.3\" font-family=\"Times New Roman,serif\" font-size=\"14.00\">x</text>\r\n",
       "</g>\r\n",
       "<!-- Mul(Symbol(x), Symbol(y), Pow(Add(Symbol(x), Symbol(y)), NegativeOne()), Pow(Add(Pow(Symbol(x), Integer(2)), Mul(NegativeOne(), Pow(Symbol(y), Integer(2)))), Half()))_()&#45;&gt;Symbol(x)_(0,) -->\r\n",
       "<g id=\"edge1\" class=\"edge\"><title>Mul(Symbol(x), Symbol(y), Pow(Add(Symbol(x), Symbol(y)), NegativeOne()), Pow(Add(Pow(Symbol(x), Integer(2)), Mul(NegativeOne(), Pow(Symbol(y), Integer(2)))), Half()))_()&#45;&gt;Symbol(x)_(0,)</title>\r\n",
       "<path fill=\"none\" stroke=\"black\" d=\"M116.188,-364.807C98.9979,-353.665 73.3816,-337.062 54.0067,-324.504\"/>\r\n",
       "<polygon fill=\"black\" stroke=\"black\" points=\"55.8918,-321.555 45.5966,-319.053 52.0845,-327.429 55.8918,-321.555\"/>\r\n",
       "</g>\r\n",
       "<!-- Symbol(y)_(1,) -->\r\n",
       "<g id=\"node3\" class=\"node\"><title>Symbol(y)_(1,)</title>\r\n",
       "<ellipse fill=\"none\" stroke=\"black\" cx=\"99\" cy=\"-306\" rx=\"27\" ry=\"18\"/>\r\n",
       "<text text-anchor=\"middle\" x=\"99\" y=\"-302.3\" font-family=\"Times New Roman,serif\" font-size=\"14.00\">y</text>\r\n",
       "</g>\r\n",
       "<!-- Mul(Symbol(x), Symbol(y), Pow(Add(Symbol(x), Symbol(y)), NegativeOne()), Pow(Add(Pow(Symbol(x), Integer(2)), Mul(NegativeOne(), Pow(Symbol(y), Integer(2)))), Half()))_()&#45;&gt;Symbol(y)_(1,) -->\r\n",
       "<g id=\"edge2\" class=\"edge\"><title>Mul(Symbol(x), Symbol(y), Pow(Add(Symbol(x), Symbol(y)), NegativeOne()), Pow(Add(Pow(Symbol(x), Integer(2)), Mul(NegativeOne(), Pow(Symbol(y), Integer(2)))), Half()))_()&#45;&gt;Symbol(y)_(1,)</title>\r\n",
       "<path fill=\"none\" stroke=\"black\" d=\"M126.65,-360.765C122.288,-352.283 116.853,-341.714 111.959,-332.197\"/>\r\n",
       "<polygon fill=\"black\" stroke=\"black\" points=\"114.99,-330.439 107.304,-323.147 108.765,-333.641 114.99,-330.439\"/>\r\n",
       "</g>\r\n",
       "<!-- Pow(Add(Symbol(x), Symbol(y)), NegativeOne())_(2,) -->\r\n",
       "<g id=\"node4\" class=\"node\"><title>Pow(Add(Symbol(x), Symbol(y)), NegativeOne())_(2,)</title>\r\n",
       "<ellipse fill=\"none\" stroke=\"black\" cx=\"171\" cy=\"-306\" rx=\"26.949\" ry=\"18\"/>\r\n",
       "<text text-anchor=\"middle\" x=\"171\" y=\"-302.3\" font-family=\"Times New Roman,serif\" font-size=\"14.00\">Pow</text>\r\n",
       "</g>\r\n",
       "<!-- Mul(Symbol(x), Symbol(y), Pow(Add(Symbol(x), Symbol(y)), NegativeOne()), Pow(Add(Pow(Symbol(x), Integer(2)), Mul(NegativeOne(), Pow(Symbol(y), Integer(2)))), Half()))_()&#45;&gt;Pow(Add(Symbol(x), Symbol(y)), NegativeOne())_(2,) -->\r\n",
       "<g id=\"edge3\" class=\"edge\"><title>Mul(Symbol(x), Symbol(y), Pow(Add(Symbol(x), Symbol(y)), NegativeOne()), Pow(Add(Pow(Symbol(x), Integer(2)), Mul(NegativeOne(), Pow(Symbol(y), Integer(2)))), Half()))_()&#45;&gt;Pow(Add(Symbol(x), Symbol(y)), NegativeOne())_(2,)</title>\r\n",
       "<path fill=\"none\" stroke=\"black\" d=\"M143.35,-360.765C147.712,-352.283 153.147,-341.714 158.041,-332.197\"/>\r\n",
       "<polygon fill=\"black\" stroke=\"black\" points=\"161.235,-333.641 162.696,-323.147 155.01,-330.439 161.235,-333.641\"/>\r\n",
       "</g>\r\n",
       "<!-- Pow(Add(Pow(Symbol(x), Integer(2)), Mul(NegativeOne(), Pow(Symbol(y), Integer(2)))), Half())_(3,) -->\r\n",
       "<g id=\"node9\" class=\"node\"><title>Pow(Add(Pow(Symbol(x), Integer(2)), Mul(NegativeOne(), Pow(Symbol(y), Integer(2)))), Half())_(3,)</title>\r\n",
       "<ellipse fill=\"none\" stroke=\"black\" cx=\"244\" cy=\"-306\" rx=\"26.949\" ry=\"18\"/>\r\n",
       "<text text-anchor=\"middle\" x=\"244\" y=\"-302.3\" font-family=\"Times New Roman,serif\" font-size=\"14.00\">Pow</text>\r\n",
       "</g>\r\n",
       "<!-- Mul(Symbol(x), Symbol(y), Pow(Add(Symbol(x), Symbol(y)), NegativeOne()), Pow(Add(Pow(Symbol(x), Integer(2)), Mul(NegativeOne(), Pow(Symbol(y), Integer(2)))), Half()))_()&#45;&gt;Pow(Add(Pow(Symbol(x), Integer(2)), Mul(NegativeOne(), Pow(Symbol(y), Integer(2)))), Half())_(3,) -->\r\n",
       "<g id=\"edge4\" class=\"edge\"><title>Mul(Symbol(x), Symbol(y), Pow(Add(Symbol(x), Symbol(y)), NegativeOne()), Pow(Add(Pow(Symbol(x), Integer(2)), Mul(NegativeOne(), Pow(Symbol(y), Integer(2)))), Half()))_()&#45;&gt;Pow(Add(Pow(Symbol(x), Integer(2)), Mul(NegativeOne(), Pow(Symbol(y), Integer(2)))), Half())_(3,)</title>\r\n",
       "<path fill=\"none\" stroke=\"black\" d=\"M153.986,-364.807C171.335,-353.665 197.189,-337.062 216.743,-324.504\"/>\r\n",
       "<polygon fill=\"black\" stroke=\"black\" points=\"218.708,-327.402 225.231,-319.053 214.926,-321.512 218.708,-327.402\"/>\r\n",
       "</g>\r\n",
       "<!-- Add(Symbol(x), Symbol(y))_(2, 0) -->\r\n",
       "<g id=\"node5\" class=\"node\"><title>Add(Symbol(x), Symbol(y))_(2, 0)</title>\r\n",
       "<ellipse fill=\"none\" stroke=\"black\" cx=\"99\" cy=\"-234\" rx=\"27\" ry=\"18\"/>\r\n",
       "<text text-anchor=\"middle\" x=\"99\" y=\"-230.3\" font-family=\"Times New Roman,serif\" font-size=\"14.00\">Add</text>\r\n",
       "</g>\r\n",
       "<!-- Pow(Add(Symbol(x), Symbol(y)), NegativeOne())_(2,)&#45;&gt;Add(Symbol(x), Symbol(y))_(2, 0) -->\r\n",
       "<g id=\"edge5\" class=\"edge\"><title>Pow(Add(Symbol(x), Symbol(y)), NegativeOne())_(2,)&#45;&gt;Add(Symbol(x), Symbol(y))_(2, 0)</title>\r\n",
       "<path fill=\"none\" stroke=\"black\" d=\"M156.082,-290.496C146.042,-280.735 132.624,-267.69 121.32,-256.7\"/>\r\n",
       "<polygon fill=\"black\" stroke=\"black\" points=\"123.509,-253.947 113.899,-249.485 118.63,-258.966 123.509,-253.947\"/>\r\n",
       "</g>\r\n",
       "<!-- NegativeOne()_(2, 1) -->\r\n",
       "<g id=\"node8\" class=\"node\"><title>NegativeOne()_(2, 1)</title>\r\n",
       "<ellipse fill=\"none\" stroke=\"black\" cx=\"171\" cy=\"-234\" rx=\"27\" ry=\"18\"/>\r\n",
       "<text text-anchor=\"middle\" x=\"171\" y=\"-230.3\" font-family=\"Times New Roman,serif\" font-size=\"14.00\">&#45;1</text>\r\n",
       "</g>\r\n",
       "<!-- Pow(Add(Symbol(x), Symbol(y)), NegativeOne())_(2,)&#45;&gt;NegativeOne()_(2, 1) -->\r\n",
       "<g id=\"edge6\" class=\"edge\"><title>Pow(Add(Symbol(x), Symbol(y)), NegativeOne())_(2,)&#45;&gt;NegativeOne()_(2, 1)</title>\r\n",
       "<path fill=\"none\" stroke=\"black\" d=\"M171,-287.697C171,-279.983 171,-270.712 171,-262.112\"/>\r\n",
       "<polygon fill=\"black\" stroke=\"black\" points=\"174.5,-262.104 171,-252.104 167.5,-262.104 174.5,-262.104\"/>\r\n",
       "</g>\r\n",
       "<!-- Symbol(y)_(2, 0, 0) -->\r\n",
       "<g id=\"node6\" class=\"node\"><title>Symbol(y)_(2, 0, 0)</title>\r\n",
       "<ellipse fill=\"none\" stroke=\"black\" cx=\"45\" cy=\"-162\" rx=\"27\" ry=\"18\"/>\r\n",
       "<text text-anchor=\"middle\" x=\"45\" y=\"-158.3\" font-family=\"Times New Roman,serif\" font-size=\"14.00\">y</text>\r\n",
       "</g>\r\n",
       "<!-- Add(Symbol(x), Symbol(y))_(2, 0)&#45;&gt;Symbol(y)_(2, 0, 0) -->\r\n",
       "<g id=\"edge7\" class=\"edge\"><title>Add(Symbol(x), Symbol(y))_(2, 0)&#45;&gt;Symbol(y)_(2, 0, 0)</title>\r\n",
       "<path fill=\"none\" stroke=\"black\" d=\"M87.0156,-217.465C80.0245,-208.402 71.0638,-196.786 63.2149,-186.612\"/>\r\n",
       "<polygon fill=\"black\" stroke=\"black\" points=\"65.8302,-184.272 56.9508,-178.492 60.2877,-188.548 65.8302,-184.272\"/>\r\n",
       "</g>\r\n",
       "<!-- Symbol(x)_(2, 0, 1) -->\r\n",
       "<g id=\"node7\" class=\"node\"><title>Symbol(x)_(2, 0, 1)</title>\r\n",
       "<ellipse fill=\"none\" stroke=\"black\" cx=\"117\" cy=\"-162\" rx=\"27\" ry=\"18\"/>\r\n",
       "<text text-anchor=\"middle\" x=\"117\" y=\"-158.3\" font-family=\"Times New Roman,serif\" font-size=\"14.00\">x</text>\r\n",
       "</g>\r\n",
       "<!-- Add(Symbol(x), Symbol(y))_(2, 0)&#45;&gt;Symbol(x)_(2, 0, 1) -->\r\n",
       "<g id=\"edge8\" class=\"edge\"><title>Add(Symbol(x), Symbol(y))_(2, 0)&#45;&gt;Symbol(x)_(2, 0, 1)</title>\r\n",
       "<path fill=\"none\" stroke=\"black\" d=\"M103.357,-216.055C105.391,-208.145 107.861,-198.54 110.137,-189.688\"/>\r\n",
       "<polygon fill=\"black\" stroke=\"black\" points=\"113.582,-190.346 112.683,-179.789 106.803,-188.602 113.582,-190.346\"/>\r\n",
       "</g>\r\n",
       "<!-- Add(Pow(Symbol(x), Integer(2)), Mul(NegativeOne(), Pow(Symbol(y), Integer(2))))_(3, 0) -->\r\n",
       "<g id=\"node10\" class=\"node\"><title>Add(Pow(Symbol(x), Integer(2)), Mul(NegativeOne(), Pow(Symbol(y), Integer(2))))_(3, 0)</title>\r\n",
       "<ellipse fill=\"none\" stroke=\"black\" cx=\"243\" cy=\"-234\" rx=\"27\" ry=\"18\"/>\r\n",
       "<text text-anchor=\"middle\" x=\"243\" y=\"-230.3\" font-family=\"Times New Roman,serif\" font-size=\"14.00\">Add</text>\r\n",
       "</g>\r\n",
       "<!-- Pow(Add(Pow(Symbol(x), Integer(2)), Mul(NegativeOne(), Pow(Symbol(y), Integer(2)))), Half())_(3,)&#45;&gt;Add(Pow(Symbol(x), Integer(2)), Mul(NegativeOne(), Pow(Symbol(y), Integer(2))))_(3, 0) -->\r\n",
       "<g id=\"edge9\" class=\"edge\"><title>Pow(Add(Pow(Symbol(x), Integer(2)), Mul(NegativeOne(), Pow(Symbol(y), Integer(2)))), Half())_(3,)&#45;&gt;Add(Pow(Symbol(x), Integer(2)), Mul(NegativeOne(), Pow(Symbol(y), Integer(2))))_(3, 0)</title>\r\n",
       "<path fill=\"none\" stroke=\"black\" d=\"M243.753,-287.697C243.643,-279.983 243.51,-270.712 243.387,-262.112\"/>\r\n",
       "<polygon fill=\"black\" stroke=\"black\" points=\"246.887,-262.053 243.244,-252.104 239.888,-262.153 246.887,-262.053\"/>\r\n",
       "</g>\r\n",
       "<!-- Half()_(3, 1) -->\r\n",
       "<g id=\"node19\" class=\"node\"><title>Half()_(3, 1)</title>\r\n",
       "<ellipse fill=\"none\" stroke=\"black\" cx=\"315\" cy=\"-234\" rx=\"27\" ry=\"18\"/>\r\n",
       "<text text-anchor=\"middle\" x=\"315\" y=\"-230.3\" font-family=\"Times New Roman,serif\" font-size=\"14.00\">1/2</text>\r\n",
       "</g>\r\n",
       "<!-- Pow(Add(Pow(Symbol(x), Integer(2)), Mul(NegativeOne(), Pow(Symbol(y), Integer(2)))), Half())_(3,)&#45;&gt;Half()_(3, 1) -->\r\n",
       "<g id=\"edge10\" class=\"edge\"><title>Pow(Add(Pow(Symbol(x), Integer(2)), Mul(NegativeOne(), Pow(Symbol(y), Integer(2)))), Half())_(3,)&#45;&gt;Half()_(3, 1)</title>\r\n",
       "<path fill=\"none\" stroke=\"black\" d=\"M258.711,-290.496C268.612,-280.735 281.843,-267.69 292.99,-256.7\"/>\r\n",
       "<polygon fill=\"black\" stroke=\"black\" points=\"295.644,-258.999 300.308,-249.485 290.729,-254.014 295.644,-258.999\"/>\r\n",
       "</g>\r\n",
       "<!-- Mul(NegativeOne(), Pow(Symbol(y), Integer(2)))_(3, 0, 0) -->\r\n",
       "<g id=\"node11\" class=\"node\"><title>Mul(NegativeOne(), Pow(Symbol(y), Integer(2)))_(3, 0, 0)</title>\r\n",
       "<ellipse fill=\"none\" stroke=\"black\" cx=\"225\" cy=\"-162\" rx=\"27\" ry=\"18\"/>\r\n",
       "<text text-anchor=\"middle\" x=\"225\" y=\"-158.3\" font-family=\"Times New Roman,serif\" font-size=\"14.00\">Mul</text>\r\n",
       "</g>\r\n",
       "<!-- Add(Pow(Symbol(x), Integer(2)), Mul(NegativeOne(), Pow(Symbol(y), Integer(2))))_(3, 0)&#45;&gt;Mul(NegativeOne(), Pow(Symbol(y), Integer(2)))_(3, 0, 0) -->\r\n",
       "<g id=\"edge11\" class=\"edge\"><title>Add(Pow(Symbol(x), Integer(2)), Mul(NegativeOne(), Pow(Symbol(y), Integer(2))))_(3, 0)&#45;&gt;Mul(NegativeOne(), Pow(Symbol(y), Integer(2)))_(3, 0, 0)</title>\r\n",
       "<path fill=\"none\" stroke=\"black\" d=\"M238.643,-216.055C236.609,-208.145 234.139,-198.54 231.863,-189.688\"/>\r\n",
       "<polygon fill=\"black\" stroke=\"black\" points=\"235.197,-188.602 229.317,-179.789 228.418,-190.346 235.197,-188.602\"/>\r\n",
       "</g>\r\n",
       "<!-- Pow(Symbol(x), Integer(2))_(3, 0, 1) -->\r\n",
       "<g id=\"node16\" class=\"node\"><title>Pow(Symbol(x), Integer(2))_(3, 0, 1)</title>\r\n",
       "<ellipse fill=\"none\" stroke=\"black\" cx=\"297\" cy=\"-162\" rx=\"26.949\" ry=\"18\"/>\r\n",
       "<text text-anchor=\"middle\" x=\"297\" y=\"-158.3\" font-family=\"Times New Roman,serif\" font-size=\"14.00\">Pow</text>\r\n",
       "</g>\r\n",
       "<!-- Add(Pow(Symbol(x), Integer(2)), Mul(NegativeOne(), Pow(Symbol(y), Integer(2))))_(3, 0)&#45;&gt;Pow(Symbol(x), Integer(2))_(3, 0, 1) -->\r\n",
       "<g id=\"edge12\" class=\"edge\"><title>Add(Pow(Symbol(x), Integer(2)), Mul(NegativeOne(), Pow(Symbol(y), Integer(2))))_(3, 0)&#45;&gt;Pow(Symbol(x), Integer(2))_(3, 0, 1)</title>\r\n",
       "<path fill=\"none\" stroke=\"black\" d=\"M254.984,-217.465C261.976,-208.402 270.936,-196.786 278.785,-186.612\"/>\r\n",
       "<polygon fill=\"black\" stroke=\"black\" points=\"281.712,-188.548 285.049,-178.492 276.17,-184.272 281.712,-188.548\"/>\r\n",
       "</g>\r\n",
       "<!-- NegativeOne()_(3, 0, 0, 0) -->\r\n",
       "<g id=\"node12\" class=\"node\"><title>NegativeOne()_(3, 0, 0, 0)</title>\r\n",
       "<ellipse fill=\"none\" stroke=\"black\" cx=\"153\" cy=\"-90\" rx=\"27\" ry=\"18\"/>\r\n",
       "<text text-anchor=\"middle\" x=\"153\" y=\"-86.3\" font-family=\"Times New Roman,serif\" font-size=\"14.00\">&#45;1</text>\r\n",
       "</g>\r\n",
       "<!-- Mul(NegativeOne(), Pow(Symbol(y), Integer(2)))_(3, 0, 0)&#45;&gt;NegativeOne()_(3, 0, 0, 0) -->\r\n",
       "<g id=\"edge13\" class=\"edge\"><title>Mul(NegativeOne(), Pow(Symbol(y), Integer(2)))_(3, 0, 0)&#45;&gt;NegativeOne()_(3, 0, 0, 0)</title>\r\n",
       "<path fill=\"none\" stroke=\"black\" d=\"M210.43,-146.834C200.25,-136.938 186.476,-123.546 174.969,-112.359\"/>\r\n",
       "<polygon fill=\"black\" stroke=\"black\" points=\"177.405,-109.846 167.796,-105.385 172.526,-114.865 177.405,-109.846\"/>\r\n",
       "</g>\r\n",
       "<!-- Pow(Symbol(y), Integer(2))_(3, 0, 0, 1) -->\r\n",
       "<g id=\"node13\" class=\"node\"><title>Pow(Symbol(y), Integer(2))_(3, 0, 0, 1)</title>\r\n",
       "<ellipse fill=\"none\" stroke=\"black\" cx=\"225\" cy=\"-90\" rx=\"26.949\" ry=\"18\"/>\r\n",
       "<text text-anchor=\"middle\" x=\"225\" y=\"-86.3\" font-family=\"Times New Roman,serif\" font-size=\"14.00\">Pow</text>\r\n",
       "</g>\r\n",
       "<!-- Mul(NegativeOne(), Pow(Symbol(y), Integer(2)))_(3, 0, 0)&#45;&gt;Pow(Symbol(y), Integer(2))_(3, 0, 0, 1) -->\r\n",
       "<g id=\"edge14\" class=\"edge\"><title>Mul(NegativeOne(), Pow(Symbol(y), Integer(2)))_(3, 0, 0)&#45;&gt;Pow(Symbol(y), Integer(2))_(3, 0, 0, 1)</title>\r\n",
       "<path fill=\"none\" stroke=\"black\" d=\"M225,-143.697C225,-135.983 225,-126.712 225,-118.112\"/>\r\n",
       "<polygon fill=\"black\" stroke=\"black\" points=\"228.5,-118.104 225,-108.104 221.5,-118.104 228.5,-118.104\"/>\r\n",
       "</g>\r\n",
       "<!-- Symbol(y)_(3, 0, 0, 1, 0) -->\r\n",
       "<g id=\"node14\" class=\"node\"><title>Symbol(y)_(3, 0, 0, 1, 0)</title>\r\n",
       "<ellipse fill=\"none\" stroke=\"black\" cx=\"189\" cy=\"-18\" rx=\"27\" ry=\"18\"/>\r\n",
       "<text text-anchor=\"middle\" x=\"189\" y=\"-14.3\" font-family=\"Times New Roman,serif\" font-size=\"14.00\">y</text>\r\n",
       "</g>\r\n",
       "<!-- Pow(Symbol(y), Integer(2))_(3, 0, 0, 1)&#45;&gt;Symbol(y)_(3, 0, 0, 1, 0) -->\r\n",
       "<g id=\"edge15\" class=\"edge\"><title>Pow(Symbol(y), Integer(2))_(3, 0, 0, 1)&#45;&gt;Symbol(y)_(3, 0, 0, 1, 0)</title>\r\n",
       "<path fill=\"none\" stroke=\"black\" d=\"M216.65,-72.7646C212.288,-64.2831 206.853,-53.7144 201.959,-44.1974\"/>\r\n",
       "<polygon fill=\"black\" stroke=\"black\" points=\"204.99,-42.4395 197.304,-35.1473 198.765,-45.6409 204.99,-42.4395\"/>\r\n",
       "</g>\r\n",
       "<!-- Integer(2)_(3, 0, 0, 1, 1) -->\r\n",
       "<g id=\"node15\" class=\"node\"><title>Integer(2)_(3, 0, 0, 1, 1)</title>\r\n",
       "<ellipse fill=\"none\" stroke=\"black\" cx=\"261\" cy=\"-18\" rx=\"27\" ry=\"18\"/>\r\n",
       "<text text-anchor=\"middle\" x=\"261\" y=\"-14.3\" font-family=\"Times New Roman,serif\" font-size=\"14.00\">2</text>\r\n",
       "</g>\r\n",
       "<!-- Pow(Symbol(y), Integer(2))_(3, 0, 0, 1)&#45;&gt;Integer(2)_(3, 0, 0, 1, 1) -->\r\n",
       "<g id=\"edge16\" class=\"edge\"><title>Pow(Symbol(y), Integer(2))_(3, 0, 0, 1)&#45;&gt;Integer(2)_(3, 0, 0, 1, 1)</title>\r\n",
       "<path fill=\"none\" stroke=\"black\" d=\"M233.35,-72.7646C237.712,-64.2831 243.147,-53.7144 248.041,-44.1974\"/>\r\n",
       "<polygon fill=\"black\" stroke=\"black\" points=\"251.235,-45.6409 252.696,-35.1473 245.01,-42.4395 251.235,-45.6409\"/>\r\n",
       "</g>\r\n",
       "<!-- Symbol(x)_(3, 0, 1, 0) -->\r\n",
       "<g id=\"node17\" class=\"node\"><title>Symbol(x)_(3, 0, 1, 0)</title>\r\n",
       "<ellipse fill=\"none\" stroke=\"black\" cx=\"297\" cy=\"-90\" rx=\"27\" ry=\"18\"/>\r\n",
       "<text text-anchor=\"middle\" x=\"297\" y=\"-86.3\" font-family=\"Times New Roman,serif\" font-size=\"14.00\">x</text>\r\n",
       "</g>\r\n",
       "<!-- Pow(Symbol(x), Integer(2))_(3, 0, 1)&#45;&gt;Symbol(x)_(3, 0, 1, 0) -->\r\n",
       "<g id=\"edge17\" class=\"edge\"><title>Pow(Symbol(x), Integer(2))_(3, 0, 1)&#45;&gt;Symbol(x)_(3, 0, 1, 0)</title>\r\n",
       "<path fill=\"none\" stroke=\"black\" d=\"M297,-143.697C297,-135.983 297,-126.712 297,-118.112\"/>\r\n",
       "<polygon fill=\"black\" stroke=\"black\" points=\"300.5,-118.104 297,-108.104 293.5,-118.104 300.5,-118.104\"/>\r\n",
       "</g>\r\n",
       "<!-- Integer(2)_(3, 0, 1, 1) -->\r\n",
       "<g id=\"node18\" class=\"node\"><title>Integer(2)_(3, 0, 1, 1)</title>\r\n",
       "<ellipse fill=\"none\" stroke=\"black\" cx=\"369\" cy=\"-90\" rx=\"27\" ry=\"18\"/>\r\n",
       "<text text-anchor=\"middle\" x=\"369\" y=\"-86.3\" font-family=\"Times New Roman,serif\" font-size=\"14.00\">2</text>\r\n",
       "</g>\r\n",
       "<!-- Pow(Symbol(x), Integer(2))_(3, 0, 1)&#45;&gt;Integer(2)_(3, 0, 1, 1) -->\r\n",
       "<g id=\"edge18\" class=\"edge\"><title>Pow(Symbol(x), Integer(2))_(3, 0, 1)&#45;&gt;Integer(2)_(3, 0, 1, 1)</title>\r\n",
       "<path fill=\"none\" stroke=\"black\" d=\"M311.918,-146.496C321.958,-136.735 335.376,-123.69 346.68,-112.7\"/>\r\n",
       "<polygon fill=\"black\" stroke=\"black\" points=\"349.37,-114.966 354.101,-105.485 344.491,-109.947 349.37,-114.966\"/>\r\n",
       "</g>\r\n",
       "</g>\r\n",
       "</svg>\r\n"
      ]
     },
     "metadata": {},
     "output_type": "display_data"
    }
   ],
   "source": [
    "#%fig=表達式的樹狀結構\n",
    "from sympy.printing.dot import dotprint\n",
    "graph = dotprint(x * y * sqrt(x ** 2 - y ** 2) / (x + y))\n",
    "%dot -f svg graph"
   ]
  },
  {
   "cell_type": "code",
   "execution_count": 85,
   "metadata": {
    "collapsed": false
   },
   "outputs": [],
   "source": [
    "f = Function(\"f\")"
   ]
  },
  {
   "cell_type": "code",
   "execution_count": 90,
   "metadata": {
    "collapsed": false
   },
   "outputs": [
    {
     "data": {
      "text/plain": [
       "True"
      ]
     },
     "execution_count": 90,
     "metadata": {},
     "output_type": "execute_result"
    }
   ],
   "source": [
    "issubclass(f, Function)"
   ]
  },
  {
   "cell_type": "code",
   "execution_count": 92,
   "metadata": {
    "collapsed": false
   },
   "outputs": [
    {
     "name": "stdout",
     "output_type": "stream",
     "text": [
      "type(t)  t.func  t.args\n",
      "-------  ------  ------\n",
      "f        f       (x, y)\n"
     ]
    }
   ],
   "source": [
    "t = f(x, y)\n",
    "%C type(t); t.func; t.args"
   ]
  },
  {
   "cell_type": "code",
   "execution_count": 93,
   "metadata": {
    "collapsed": false
   },
   "outputs": [
    {
     "data": {
      "image/png": "[encoded data removed]",
      "text/latex": [
       "$$f^{2}{\\left (x,y \\right )} + f{\\left (x,y \\right )}$$"
      ],
      "text/plain": [
       " 2                \n",
       "f (x, y) + f(x, y)"
      ]
     },
     "execution_count": 93,
     "metadata": {},
     "output_type": "execute_result"
    }
   ],
   "source": [
    "t + t * t"
   ]
  },
  {
   "cell_type": "markdown",
   "metadata": {},
   "source": [
    "### 通配符"
   ]
  },
  {
   "cell_type": "markdown",
   "metadata": {},
   "source": [
    "> **TIP**\n",
    "\n",
    "> 執行SymPy提供的`init_printing()`可以使用數學符號顯示運算結果。但它會將Python的內建物件也轉換成LateX顯示。為了撰寫方便，本書使用一般文字顯示內建物件，而用本書提供的`%sympy_latex`魔法方法將內建物件轉為LaTeX。"
   ]
  },
  {
   "cell_type": "code",
   "execution_count": 3,
   "metadata": {
    "collapsed": false
   },
   "outputs": [
    {
     "data": {
      "text/latex": [
       "$$\\left \\{ a : 3 x, \\quad b : x + y\\right \\}$$"
      ]
     },
     "metadata": {},
     "output_type": "display_data"
    }
   ],
   "source": [
    "x, y = symbols(\"x, y\")\n",
    "a = Wild(\"a\")\n",
    "b = Wild(\"b\")\n",
    "%sympy_latex (3 * x * (x + y)**2).match(a * b**2)"
   ]
  },
  {
   "cell_type": "code",
   "execution_count": 5,
   "metadata": {
    "collapsed": false
   },
   "outputs": [
    {
     "data": {
      "text/latex": [
       "$$x^{3} + 3 x^{2} y + 3 x y^{2} + y^{3}$$"
      ]
     },
     "metadata": {},
     "output_type": "display_data"
    },
    {
     "data": {
      "text/latex": [
       "$$\\left\\{2, 3, x, x^{2}, x^{3}, y, y^{2}, y^{3}, 3 x y^{2}, 3 x^{2} y, x^{3} + 3 x^{2} y + 3 x y^{2} + y^{3}\\right\\}$$"
      ]
     },
     "metadata": {},
     "output_type": "display_data"
    }
   ],
   "source": [
    "expr = expand((x + y)**3)\n",
    "%sympy_latex expr\n",
    "%sympy_latex expr.find(a * b**2)"
   ]
  },
  {
   "cell_type": "code",
   "execution_count": 9,
   "metadata": {
    "collapsed": false
   },
   "outputs": [
    {
     "data": {
      "text/markdown": [
       "| **表達式**                                 | **比對結果**                                                                          |\n",
       "|:----------------------------------------|:----------------------------------------------------------------------------------|\n",
       "| $3 x y^{2}$                             | $\\left \\{ a : 3 x, \\quad b : y\\right \\}$                                          |\n",
       "| $2$                                     | $\\left \\{ a : 1, \\quad b : \\sqrt{2}\\right \\}$                                     |\n",
       "| $3$                                     | $\\left \\{ a : 1, \\quad b : \\sqrt{3}\\right \\}$                                     |\n",
       "| $y$                                     | $\\left \\{ a : 1, \\quad b : \\sqrt{y}\\right \\}$                                     |\n",
       "| $x$                                     | $\\left \\{ a : 1, \\quad b : \\sqrt{x}\\right \\}$                                     |\n",
       "| $x^{3} + 3 x^{2} y + 3 x y^{2} + y^{3}$ | $\\left \\{ a : 1, \\quad b : \\sqrt{x^{3} + 3 x^{2} y + 3 x y^{2} + y^{3}}\\right \\}$ |\n",
       "| $x^{3}$                                 | $\\left \\{ a : 1, \\quad b : x^{\\frac{3}{2}}\\right \\}$                              |\n",
       "| $3 x^{2} y$                             | $\\left \\{ a : 3 y, \\quad b : x\\right \\}$                                          |\n",
       "| $y^{2}$                                 | $\\left \\{ a : 1, \\quad b : y\\right \\}$                                            |\n",
       "| $y^{3}$                                 | $\\left \\{ a : 1, \\quad b : y^{\\frac{3}{2}}\\right \\}$                              |\n",
       "| $x^{2}$                                 | $\\left \\{ a : 1, \\quad b : x\\right \\}$                                            |"
      ]
     },
     "metadata": {},
     "output_type": "display_data"
    }
   ],
   "source": [
    "def find_match(expr, pattern):\n",
    "    return [e.match(pattern) for e in expr.find(pattern)]\n",
    "\n",
    "#%hide\n",
    "def display_match_table(expr, pattern):\n",
    "    from IPython.display import display_markdown, Markdown\n",
    "    from scpy2.utils import tabulate_it\n",
    "    \n",
    "    def f(row, col):\n",
    "        if col == u\"表達式\":\n",
    "            return u\"${}$\".format(latex(row[0]))\n",
    "        else:\n",
    "            return u\"${}$\".format(latex(row[1]))\n",
    "\n",
    "    c1 = expr.find(pattern)\n",
    "    c2 = find_match(expr, pattern)\n",
    "    display_markdown(\n",
    "        Markdown(tabulate_it(zip(c1, c2), \n",
    "                 [u\"表達式\", u\"比對結果\"], f, row_label=False)))\n",
    "   \n",
    "display_match_table(expr, a * b**2)\n",
    "#%show\n",
    "find_match(expr, a * b**2);"
   ]
  },
  {
   "cell_type": "code",
   "execution_count": 10,
   "metadata": {
    "collapsed": false
   },
   "outputs": [
    {
     "data": {
      "text/markdown": [
       "| **表達式**     | **比對結果**                                 |\n",
       "|:------------|:-----------------------------------------|\n",
       "| $3 x y^{2}$ | $\\left \\{ a : 3 x, \\quad b : y\\right \\}$ |\n",
       "| $3 x^{2} y$ | $\\left \\{ a : 3 y, \\quad b : x\\right \\}$ |\n",
       "| $y^{3}$     | $\\left \\{ a : y, \\quad b : y\\right \\}$   |\n",
       "| $x^{3}$     | $\\left \\{ a : x, \\quad b : x\\right \\}$   |"
      ]
     },
     "metadata": {},
     "output_type": "display_data"
    }
   ],
   "source": [
    "a = Wild(\"a\", exclude=[1])\n",
    "b = Wild(\"b\", exclude=[1, Pow])\n",
    "#%hide\n",
    "display_match_table(expr, a*b**2)\n",
    "#%show\n",
    "find_match(expr, a * b**2);"
   ]
  },
  {
   "cell_type": "code",
   "execution_count": 11,
   "metadata": {
    "collapsed": false
   },
   "outputs": [
    {
     "data": {
      "image/png": "[encoded data removed]",
      "text/latex": [
       "$$4 x^{2} + 4 y^{2} + \\left(x + 3 y\\right)^{2} + \\left(3 x + y\\right)^{2}$$"
      ],
      "text/plain": [
       "   2      2            2            2\n",
       "4⋅x  + 4⋅y  + (x + 3⋅y)  + (3⋅x + y) "
      ]
     },
     "execution_count": 11,
     "metadata": {},
     "output_type": "execute_result"
    }
   ],
   "source": [
    "expr.replace(a * b**2, (a + b)**2)"
   ]
  },
  {
   "cell_type": "code",
   "execution_count": 25,
   "metadata": {
    "collapsed": false
   },
   "outputs": [
    {
     "data": {
      "text/markdown": [
       "| **表達式**                            | **比對結果**                                                                                              |\n",
       "|:-----------------------------------|:------------------------------------------------------------------------------------------------------|\n",
       "| $e^{x}$                            | $\\left \\{ \\operatorname{WildFunction}{\\left (f \\right )} : e^{x}\\right \\}$                            |\n",
       "| $\\sin{\\left (y^{2} \\right )}$      | $\\left \\{ \\operatorname{WildFunction}{\\left (f \\right )} : \\sin{\\left (y^{2} \\right )}\\right \\}$      |\n",
       "| $\\left\\lvert{x e^{x}}\\right\\rvert$ | $\\left \\{ \\operatorname{WildFunction}{\\left (f \\right )} : \\left\\lvert{x e^{x}}\\right\\rvert\\right \\}$ |"
      ]
     },
     "metadata": {},
     "output_type": "display_data"
    }
   ],
   "source": [
    "expr = sqrt(x) / sin(y**2) + abs(exp(x) * x)\n",
    "#%hide\n",
    "display_match_table(expr, f)\n",
    "#%show\n",
    "find_match(expr, f);"
   ]
  }
 ],
 "metadata": {
  "kernelspec": {
   "display_name": "Python 2",
   "language": "python",
   "name": "python2"
  },
  "language_info": {
   "codemirror_mode": {
    "name": "ipython",
    "version": 2
   },
   "file_extension": ".py",
   "mimetype": "text/x-python",
   "name": "python",
   "nbconvert_exporter": "python",
   "pygments_lexer": "ipython2",
   "version": "2.7.9"
  }
 },
 "nbformat": 4,
 "nbformat_minor": 0
}
