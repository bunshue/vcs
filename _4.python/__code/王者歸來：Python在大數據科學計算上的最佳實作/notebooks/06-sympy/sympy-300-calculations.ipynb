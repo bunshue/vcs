﻿{
 "cells": [
  {
   "cell_type": "code",
   "execution_count": 14,
   "metadata": {
    "collapsed": false
   },
   "outputs": [],
   "source": [
    "from sympy import *\n",
    "import sympy\n",
    "from IPython.display import Latex\n",
    "%init_sympy_printing\n",
    "x, y, z = symbols(\"x, y, z\")\n",
    "a, b = symbols(\"a, b\")\n",
    "f = Function(\"f\")"
   ]
  },
  {
   "cell_type": "markdown",
   "metadata": {},
   "source": [
    "## 符號運算"
   ]
  },
  {
   "cell_type": "markdown",
   "metadata": {},
   "source": [
    "### 表達式變換和化簡"
   ]
  },
  {
   "cell_type": "code",
   "execution_count": 15,
   "metadata": {
    "collapsed": false
   },
   "outputs": [
    {
     "data": {
      "image/png": "[encoded data removed]",
      "text/latex": [
       "$$2 x + 3$$"
      ],
      "text/plain": [
       "2⋅x + 3"
      ]
     },
     "execution_count": 15,
     "metadata": {},
     "output_type": "execute_result"
    }
   ],
   "source": [
    "simplify((x + 2) ** 2 - (x + 1) ** 2)"
   ]
  },
  {
   "cell_type": "code",
   "execution_count": 16,
   "metadata": {
    "collapsed": false
   },
   "outputs": [
    {
     "data": {
      "image/png": "[encoded data removed]",
      "text/latex": [
       "$$\\frac{1}{3} \\left(- \\sqrt{5} + 2 \\sqrt{2}\\right)$$"
      ],
      "text/plain": [
       "    ___       ___\n",
       "- ╲╱ 5  + 2⋅╲╱ 2 \n",
       "─────────────────\n",
       "        3        "
      ]
     },
     "execution_count": 16,
     "metadata": {},
     "output_type": "execute_result"
    }
   ],
   "source": [
    "radsimp(1 / (sqrt(5) + 2 * sqrt(2)))"
   ]
  },
  {
   "cell_type": "code",
   "execution_count": 17,
   "metadata": {
    "collapsed": false
   },
   "outputs": [
    {
     "data": {
      "image/png": "[encoded data removed]",
      "text/latex": [
       "$$\\frac{- \\sqrt{x} y + x \\sqrt{y}}{x y \\left(x - y\\right)}$$"
      ],
      "text/plain": [
       "    ___         ___\n",
       "- ╲╱ x ⋅y + x⋅╲╱ y \n",
       "───────────────────\n",
       "    x⋅y⋅(x - y)    "
      ]
     },
     "execution_count": 17,
     "metadata": {},
     "output_type": "execute_result"
    }
   ],
   "source": [
    "radsimp(1 / (y * sqrt(x) + x * sqrt(y)))"
   ]
  },
  {
   "cell_type": "code",
   "execution_count": 18,
   "metadata": {
    "collapsed": false
   },
   "outputs": [
    {
     "data": {
      "image/png": "[encoded data removed]",
      "text/latex": [
       "$$\\frac{2 y^{2}}{x^{2} - y^{2}} + 1$$"
      ],
      "text/plain": [
       "     2     \n",
       "  2⋅y      \n",
       "─────── + 1\n",
       " 2    2    \n",
       "x  - y     "
      ]
     },
     "execution_count": 18,
     "metadata": {},
     "output_type": "execute_result"
    }
   ],
   "source": [
    "ratsimp(x / (x + y) + y / (x - y))"
   ]
  },
  {
   "cell_type": "code",
   "execution_count": 19,
   "metadata": {
    "collapsed": false
   },
   "outputs": [
    {
     "data": {
      "text/latex": [
       "$$\\left ( x + y, \\quad x y\\right )$$"
      ],
      "text/plain": [
       "<IPython.core.display.Latex object>"
      ]
     },
     "metadata": {},
     "output_type": "display_data"
    }
   ],
   "source": [
    "%sympy_latex fraction(ratsimp(1 / x + 1 / y))"
   ]
  },
  {
   "cell_type": "code",
   "execution_count": 20,
   "metadata": {
    "collapsed": false
   },
   "outputs": [
    {
     "data": {
      "text/latex": [
       "$$\\left ( \\frac{1}{y} + \\frac{1}{x}, \\quad 1\\right )$$"
      ],
      "text/plain": [
       "<IPython.core.display.Latex object>"
      ]
     },
     "metadata": {},
     "output_type": "display_data"
    }
   ],
   "source": [
    "%sympy_latex fraction(1 / x + 1 / y)"
   ]
  },
  {
   "cell_type": "code",
   "execution_count": 21,
   "metadata": {
    "collapsed": false
   },
   "outputs": [
    {
     "data": {
      "image/png": "[encoded data removed]",
      "text/latex": [
       "$$x - 1$$"
      ],
      "text/plain": [
       "x - 1"
      ]
     },
     "execution_count": 21,
     "metadata": {},
     "output_type": "execute_result"
    }
   ],
   "source": [
    "cancel((x ** 2 - 1) / (1 + x))"
   ]
  },
  {
   "cell_type": "code",
   "execution_count": 22,
   "metadata": {
    "collapsed": false
   },
   "outputs": [
    {
     "data": {
      "image/png": "[encoded data removed]",
      "text/latex": [
       "$$- \\frac{s - 1}{2 s^{2} + 2} + \\frac{1}{2 s + 2}$$"
      ],
      "text/plain": [
       "    s - 1          1    \n",
       "- ────────── + ─────────\n",
       "    ⎛ 2    ⎞   2⋅(s + 1)\n",
       "  2⋅⎝s  + 1⎠            "
      ]
     },
     "execution_count": 22,
     "metadata": {},
     "output_type": "execute_result"
    }
   ],
   "source": [
    "s = symbols(\"s\")\n",
    "trans_func = 1/(s**3 + s**2 + s + 1)\n",
    "apart(trans_func)"
   ]
  },
  {
   "cell_type": "code",
   "execution_count": 23,
   "metadata": {
    "collapsed": false
   },
   "outputs": [
    {
     "data": {
      "image/png": "[encoded data removed]",
      "text/latex": [
       "$$\\sin{\\left (2 x \\right )} + 1$$"
      ],
      "text/plain": [
       "sin(2⋅x) + 1"
      ]
     },
     "execution_count": 23,
     "metadata": {},
     "output_type": "execute_result"
    }
   ],
   "source": [
    "trigsimp(sin(x) ** 2 + 2 * sin(x) * cos(x) + cos(x) ** 2)"
   ]
  },
  {
   "cell_type": "code",
   "execution_count": 24,
   "metadata": {
    "collapsed": false
   },
   "outputs": [
    {
     "data": {
      "image/png": "[encoded data removed]",
      "text/latex": [
       "$$\\left(2 \\cos^{2}{\\left (x \\right )} - 1\\right) \\sin{\\left (y \\right )} + 2 \\sin{\\left (x \\right )} \\cos{\\left (x \\right )} \\cos{\\left (y \\right )}$$"
      ],
      "text/plain": [
       "⎛     2       ⎞                                \n",
       "⎝2⋅cos (x) - 1⎠⋅sin(y) + 2⋅sin(x)⋅cos(x)⋅cos(y)"
      ]
     },
     "execution_count": 24,
     "metadata": {},
     "output_type": "execute_result"
    }
   ],
   "source": [
    "expand_trig(sin(2 * x + y))"
   ]
  },
  {
   "cell_type": "code",
   "execution_count": 25,
   "metadata": {
    "collapsed": false
   },
   "outputs": [
    {
     "data": {
      "text/markdown": [
       "| 標志            | 表達式                   | 結果                                      | 說明                |\n",
       "|:--------------|:----------------------|:----------------------------------------|:------------------|\n",
       "| `mul`         | `expand(x*(y + z))`   | $x y + x z$                             | 展開乘法              |\n",
       "| `log`         | `expand(log(x*y**2))` | $\\log{\\left (x y^{2} \\right )}$         | 展開對數函數的參數中的乘積和冪運算 |\n",
       "| `multinomial` | `expand((x + y)**3)`  | $x^{3} + 3 x^{2} y + 3 x y^{2} + y^{3}$ | 展開加減法表達式的整數次冪     |\n",
       "| `power_base`  | `expand((x*y)**z)`    | $\\left(x y\\right)^{z}$                  | 展開冪函數的底數乘積        |\n",
       "| `power_exp`   | `expand(x**(y + z))`  | $x^{y} x^{z}$                           | 展開對冪函數的指數和        |"
      ]
     },
     "metadata": {},
     "output_type": "display_data"
    }
   ],
   "source": [
    "#%hide\n",
    "from tabulate import tabulate\n",
    "from IPython.display import Markdown, display_markdown\n",
    "flags = [\"mul\", \"log\", \"multinomial\", \"power_base\", \"power_exp\"]\n",
    "expressions = [x * (y + z), log(x * y ** 2), (x + y) ** 3, (x * y) ** z, x ** (y + z)]\n",
    "infos =[u\"展開乘法\", u\"展開對數函數的參數中的乘積和冪運算\", \n",
    "        u\"展開加減法表達式的整數次冪\", u\"展開冪函數的底數乘積\", u\"展開對冪函數的指數和\"]\n",
    "table = []\n",
    "for flag, expression, info in zip(flags, expressions, infos):\n",
    "    table.append([\"`{}`\".format(flag), \n",
    "                  \"`expand({})`\".format(expression), \n",
    "                  \"${}$\".format(latex(expand(expression))),\n",
    "                 info])\n",
    "\n",
    "display_markdown(Markdown(tabulate(table, [u\"標志\", u\"表達式\", u\"結果\", u\"說明\"], \"pipe\")))"
   ]
  },
  {
   "cell_type": "code",
   "execution_count": 26,
   "metadata": {
    "collapsed": false
   },
   "outputs": [
    {
     "data": {
      "image/png": "[encoded data removed]",
      "text/latex": [
       "$$x \\left(\\log{\\left (y \\right )} + \\log{\\left (z \\right )}\\right)$$"
      ],
      "text/plain": [
       "x⋅(log(y) + log(z))"
      ]
     },
     "execution_count": 26,
     "metadata": {},
     "output_type": "execute_result"
    }
   ],
   "source": [
    "x, y, z = symbols(\"x,y,z\", positive=True)\n",
    "expand(x * log(y * z), mul=False)"
   ]
  },
  {
   "cell_type": "code",
   "execution_count": 62,
   "metadata": {
    "collapsed": false
   },
   "outputs": [
    {
     "data": {
      "text/markdown": [
       "| 標志        | 表達式                    | 結果                            | 說明                |\n",
       "|:----------|:-----------------------|:------------------------------|:------------------|\n",
       "| `complex` | `expand(x*y)`          | $x y$                         | 展開乘法              |\n",
       "| `func`    | `expand(gamma(x + 1))` | $\\Gamma{\\left(x + 1 \\right)}$ | 展開對數函數的參數中的乘積和冪運算 |\n",
       "| `trig`    | `expand(sin(x + y))`   | $\\sin{\\left (x + y \\right )}$ | 展開加減法表達式的整數次冪     |"
      ]
     },
     "metadata": {},
     "output_type": "display_data"
    }
   ],
   "source": [
    "#%hide\n",
    "from tabulate import tabulate\n",
    "from IPython.display import Markdown\n",
    "flags = [\"complex\", \"func\", \"trig\"]\n",
    "expressions = [x * y, gamma(1 + x), sin(x + y)]\n",
    "infos =[u\"展開乘法\", u\"展開對數函數的參數中的乘積和冪運算\", \n",
    "        u\"展開加減法表達式的整數次冪\", u\"展開冪函數的底數乘積\", u\"展開對冪函數的指數和\"]\n",
    "table = []\n",
    "for flag, expression, info in zip(flags, expressions, infos):\n",
    "    table.append([\"`{}`\".format(flag), \n",
    "                  \"`expand({})`\".format(expression), \n",
    "                  \"${}$\".format(latex(expand(expression))),\n",
    "                 info])\n",
    "\n",
    "display_markdown(Markdown(tabulate(table, [u\"標志\", u\"表達式\", u\"結果\", u\"說明\"], \"pipe\")))"
   ]
  },
  {
   "cell_type": "code",
   "execution_count": 30,
   "metadata": {
    "collapsed": false
   },
   "outputs": [
    {
     "data": {
      "image/png": "[encoded data removed]",
      "text/latex": [
       "$$\\Re{x} \\Re{y} + i \\Re{x} \\Im{y} + i \\Re{y} \\Im{x} - \\Im{x} \\Im{y}$$"
      ],
      "text/plain": [
       "re(x)⋅re(y) + ⅈ⋅re(x)⋅im(y) + ⅈ⋅re(y)⋅im(x) - im(x)⋅im(y)"
      ]
     },
     "execution_count": 30,
     "metadata": {},
     "output_type": "execute_result"
    }
   ],
   "source": [
    "x, y = symbols(\"x,y\", complex=True)\n",
    "expand(x * y, complex=True)"
   ]
  },
  {
   "cell_type": "code",
   "execution_count": 31,
   "metadata": {
    "collapsed": false
   },
   "outputs": [
    {
     "data": {
      "image/png": "[encoded data removed]",
      "text/latex": [
       "$$x \\Gamma{\\left(x \\right)}$$"
      ],
      "text/plain": [
       "x⋅Γ(x)"
      ]
     },
     "execution_count": 31,
     "metadata": {},
     "output_type": "execute_result"
    }
   ],
   "source": [
    "expand(gamma(1 + x), func=True)"
   ]
  },
  {
   "cell_type": "code",
   "execution_count": 32,
   "metadata": {
    "collapsed": false
   },
   "outputs": [
    {
     "data": {
      "image/png": "[encoded data removed]",
      "text/latex": [
       "$$\\sin{\\left (x \\right )} \\cos{\\left (y \\right )} + \\sin{\\left (y \\right )} \\cos{\\left (x \\right )}$$"
      ],
      "text/plain": [
       "sin(x)⋅cos(y) + sin(y)⋅cos(x)"
      ]
     },
     "execution_count": 32,
     "metadata": {},
     "output_type": "execute_result"
    }
   ],
   "source": [
    "expand(sin(x + y), trig=True)"
   ]
  },
  {
   "cell_type": "code",
   "execution_count": 33,
   "metadata": {
    "collapsed": false
   },
   "outputs": [
    {
     "data": {
      "image/png": "[encoded data removed]",
      "text/latex": [
       "$$\\left(3 x - 2 y\\right) \\left(5 x - 1\\right)$$"
      ],
      "text/plain": [
       "(3⋅x - 2⋅y)⋅(5⋅x - 1)"
      ]
     },
     "execution_count": 33,
     "metadata": {},
     "output_type": "execute_result"
    }
   ],
   "source": [
    "factor(15 * x ** 2 + 2 * y - 3 * x - 10 * x * y)"
   ]
  },
  {
   "cell_type": "code",
   "execution_count": 34,
   "metadata": {
    "collapsed": false
   },
   "outputs": [
    {
     "data": {
      "image/png": "[encoded data removed]",
      "text/latex": [
       "$$a^{3} x^{3} + x^{2} \\left(3 a^{2} + b^{2}\\right) + x \\left(3 a + 2 b\\right) + 2$$"
      ],
      "text/plain": [
       " 3  3    2 ⎛   2    2⎞                    \n",
       "a ⋅x  + x ⋅⎝3⋅a  + b ⎠ + x⋅(3⋅a + 2⋅b) + 2"
      ]
     },
     "execution_count": 34,
     "metadata": {},
     "output_type": "execute_result"
    }
   ],
   "source": [
    "eq = (1 + a * x) ** 3 + (1 + b * x) ** 2\n",
    "eq2 = expand(eq)\n",
    "collect(eq2, x)"
   ]
  },
  {
   "cell_type": "code",
   "execution_count": 35,
   "metadata": {
    "collapsed": false
   },
   "outputs": [
    {
     "name": "stdout",
     "output_type": "stream",
     "text": [
      "p[S(1)]     p[x**2]   \n",
      "-------  -------------\n",
      "2        3*a**2 + b**2\n"
     ]
    }
   ],
   "source": [
    "p = collect(eq2, x, evaluate=False)\n",
    "%C p[S(1)]; p[x**2]"
   ]
  },
  {
   "cell_type": "code",
   "execution_count": 36,
   "metadata": {
    "collapsed": false
   },
   "outputs": [
    {
     "name": "stdout",
     "output_type": "stream",
     "text": [
      "eq2.coeff(x, 0)  eq2.coeff(x, 2)\n",
      "---------------  ---------------\n",
      "2                3*a**2 + b**2  \n"
     ]
    }
   ],
   "source": [
    "%C eq2.coeff(x, 0); eq2.coeff(x, 2)"
   ]
  },
  {
   "cell_type": "code",
   "execution_count": 37,
   "metadata": {
    "collapsed": false
   },
   "outputs": [
    {
     "data": {
      "image/png": "[encoded data removed]",
      "text/latex": [
       "$$\\left(a + b\\right) \\sin{\\left (2 x \\right )}$$"
      ],
      "text/plain": [
       "(a + b)⋅sin(2⋅x)"
      ]
     },
     "execution_count": 37,
     "metadata": {},
     "output_type": "execute_result"
    }
   ],
   "source": [
    "collect(a * sin(2 * x) + b * sin(2 * x), sin(2 * x))"
   ]
  },
  {
   "cell_type": "markdown",
   "metadata": {},
   "source": [
    "### 方程式"
   ]
  },
  {
   "cell_type": "code",
   "execution_count": 38,
   "metadata": {
    "collapsed": false
   },
   "outputs": [
    {
     "data": {
      "text/latex": [
       "$$\\left [ \\frac{1}{2 a} \\left(- b + \\sqrt{- 4 a c + b^{2}}\\right), \\quad - \\frac{1}{2 a} \\left(b + \\sqrt{- 4 a c + b^{2}}\\right)\\right ]$$"
      ],
      "text/plain": [
       "<IPython.core.display.Latex object>"
      ]
     },
     "metadata": {},
     "output_type": "display_data"
    }
   ],
   "source": [
    "a, b, c = symbols(\"a,b,c\")\n",
    "%sympy_latex solve(a * x ** 2 + b * x + c, x)"
   ]
  },
  {
   "cell_type": "code",
   "execution_count": 39,
   "metadata": {
    "collapsed": false
   },
   "outputs": [
    {
     "data": {
      "text/latex": [
       "$$\\left [ \\left ( - \\frac{\\sqrt{3} i}{3}, \\quad - \\frac{2 i}{3} \\sqrt{3}\\right ), \\quad \\left ( \\frac{\\sqrt{3} i}{3}, \\quad \\frac{2 i}{3} \\sqrt{3}\\right )\\right ]$$"
      ],
      "text/plain": [
       "<IPython.core.display.Latex object>"
      ]
     },
     "metadata": {},
     "output_type": "display_data"
    }
   ],
   "source": [
    "%sympy_latex solve((x ** 2 + x * y + 1, y ** 2 + x * y + 2), x, y)"
   ]
  },
  {
   "cell_type": "code",
   "execution_count": 40,
   "metadata": {
    "collapsed": false
   },
   "outputs": [
    {
     "data": {
      "text/latex": [
       "$$\\left \\{ 1 : 1, \\quad 1 + \\sqrt{2} : 1, \\quad - \\sqrt{2} + 1 : 1\\right \\}$$"
      ],
      "text/plain": [
       "<IPython.core.display.Latex object>"
      ]
     },
     "metadata": {},
     "output_type": "display_data"
    }
   ],
   "source": [
    "%sympy_latex roots(x**3 - 3*x**2 + x + 1)"
   ]
  },
  {
   "cell_type": "markdown",
   "metadata": {},
   "source": [
    "### 微分"
   ]
  },
  {
   "cell_type": "code",
   "execution_count": 41,
   "metadata": {
    "collapsed": false
   },
   "outputs": [
    {
     "data": {
      "image/png": "[encoded data removed]",
      "text/latex": [
       "$$\\frac{d}{d x} \\sin{\\left (x \\right )}$$"
      ],
      "text/plain": [
       "d         \n",
       "──(sin(x))\n",
       "dx        "
      ]
     },
     "execution_count": 41,
     "metadata": {},
     "output_type": "execute_result"
    }
   ],
   "source": [
    "t = Derivative(sin(x), x)\n",
    "t"
   ]
  },
  {
   "cell_type": "code",
   "execution_count": 42,
   "metadata": {
    "collapsed": false
   },
   "outputs": [
    {
     "data": {
      "image/png": "[encoded data removed]",
      "text/latex": [
       "$$\\cos{\\left (x \\right )}$$"
      ],
      "text/plain": [
       "cos(x)"
      ]
     },
     "execution_count": 42,
     "metadata": {},
     "output_type": "execute_result"
    }
   ],
   "source": [
    "t.doit()"
   ]
  },
  {
   "cell_type": "code",
   "execution_count": 43,
   "metadata": {
    "collapsed": false
   },
   "outputs": [
    {
     "data": {
      "image/png": "[encoded data removed]",
      "text/latex": [
       "$$2 \\cos{\\left (2 x \\right )}$$"
      ],
      "text/plain": [
       "2⋅cos(2⋅x)"
      ]
     },
     "execution_count": 43,
     "metadata": {},
     "output_type": "execute_result"
    }
   ],
   "source": [
    "diff(sin(2*x), x)"
   ]
  },
  {
   "cell_type": "code",
   "execution_count": 44,
   "metadata": {
    "collapsed": false
   },
   "outputs": [
    {
     "data": {
      "image/png": "[encoded data removed]",
      "text/latex": [
       "$$\\frac{d}{d x} f{\\left (x \\right )}$$"
      ],
      "text/plain": [
       "d       \n",
       "──(f(x))\n",
       "dx      "
      ]
     },
     "execution_count": 44,
     "metadata": {},
     "output_type": "execute_result"
    }
   ],
   "source": [
    "Derivative(f(x), x)"
   ]
  },
  {
   "cell_type": "code",
   "execution_count": 45,
   "metadata": {
    "collapsed": false
   },
   "outputs": [
    {
     "data": {
      "image/png": "[encoded data removed]",
      "text/latex": [
       "$$\\frac{d^{3}}{d x^{3}}  f{\\left (x \\right )}$$"
      ],
      "text/plain": [
       "  3      \n",
       " d       \n",
       "───(f(x))\n",
       "  3      \n",
       "dx       "
      ]
     },
     "execution_count": 45,
     "metadata": {},
     "output_type": "execute_result"
    }
   ],
   "source": [
    "Derivative(f(x), x, x, x) # 也可以寫作Derivative(f(x), x, 3)"
   ]
  },
  {
   "cell_type": "code",
   "execution_count": 46,
   "metadata": {
    "collapsed": false
   },
   "outputs": [
    {
     "data": {
      "image/png": "[encoded data removed]",
      "text/latex": [
       "$$\\frac{\\partial^{5}}{\\partial x^{2}\\partial y^{3}}  f{\\left (x,y \\right )}$$"
      ],
      "text/plain": [
       "    5           \n",
       "   ∂            \n",
       "───────(f(x, y))\n",
       "  3   2         \n",
       "∂y  ∂x          "
      ]
     },
     "execution_count": 46,
     "metadata": {},
     "output_type": "execute_result"
    }
   ],
   "source": [
    "Derivative(f(x, y), x, 2, y, 3)"
   ]
  },
  {
   "cell_type": "code",
   "execution_count": 47,
   "metadata": {
    "collapsed": false
   },
   "outputs": [
    {
     "data": {
      "image/png": "[encoded data removed]",
      "text/latex": [
       "$$x \\left(x^{2} y^{2} \\cos{\\left (x y \\right )} + 6 x y \\sin{\\left (x y \\right )} - 6 \\cos{\\left (x y \\right )}\\right)$$"
      ],
      "text/plain": [
       "  ⎛ 2  2                                       ⎞\n",
       "x⋅⎝x ⋅y ⋅cos(x⋅y) + 6⋅x⋅y⋅sin(x⋅y) - 6⋅cos(x⋅y)⎠"
      ]
     },
     "execution_count": 47,
     "metadata": {},
     "output_type": "execute_result"
    }
   ],
   "source": [
    "diff(sin(x * y), x, 2, y, 3)"
   ]
  },
  {
   "cell_type": "markdown",
   "metadata": {},
   "source": [
    "### 微分方程式"
   ]
  },
  {
   "cell_type": "code",
   "execution_count": 48,
   "metadata": {
    "collapsed": false
   },
   "outputs": [
    {
     "data": {
      "image/png": "[encoded data removed]",
      "text/latex": [
       "$$f{\\left (x \\right )} = C_{1} e^{x}$$"
      ],
      "text/plain": [
       "           x\n",
       "f(x) = C₁⋅ℯ "
      ]
     },
     "execution_count": 48,
     "metadata": {},
     "output_type": "execute_result"
    }
   ],
   "source": [
    "x=symbols('x')\n",
    "f=symbols('f', cls=Function)\n",
    "dsolve(Derivative(f(x), x) - f(x), f(x))"
   ]
  },
  {
   "cell_type": "code",
   "execution_count": 49,
   "metadata": {
    "collapsed": false
   },
   "outputs": [
    {
     "data": {
      "text/plain": [
       "('1st_power_series', 'lie_group')"
      ]
     },
     "execution_count": 49,
     "metadata": {},
     "output_type": "execute_result"
    }
   ],
   "source": [
    "eq = Eq(f(x).diff(x) + f(x), (cos(x) - sin(x)) * f(x)**2)\n",
    "classify_ode(eq, f(x))"
   ]
  },
  {
   "cell_type": "code",
   "execution_count": 50,
   "metadata": {
    "collapsed": false
   },
   "outputs": [
    {
     "data": {
      "image/png": "[encoded data removed]",
      "text/latex": [
       "$$f{\\left (x \\right )} = C_{1} - \\frac{C_{1} x^{2}}{2} - \\frac{C_{1} x^{3}}{6} + \\frac{C_{1} x^{4}}{4} + \\frac{C_{1} x^{5}}{120} \\left(- C_{1} \\left(C_{1} - 3\\right) - C_{1} \\left(C_{1} + 1\\right) + 4 C_{1} + 12\\right) + \\mathcal{O}\\left(x^{6}\\right)$$"
      ],
      "text/plain": [
       "                2       3       4       5                                     \n",
       "            C₁⋅x    C₁⋅x    C₁⋅x    C₁⋅x ⋅(-C₁⋅(C₁ - 3) - C₁⋅(C₁ + 1) + 4⋅C₁ +\n",
       "f(x) = C₁ - ───── - ───── + ───── + ──────────────────────────────────────────\n",
       "              2       6       4                          120                  \n",
       "\n",
       "            \n",
       " 12)    ⎛ 6⎞\n",
       "──── + O⎝x ⎠\n",
       "            "
      ]
     },
     "execution_count": 50,
     "metadata": {},
     "output_type": "execute_result"
    }
   ],
   "source": [
    "dsolve(eq, f(x))"
   ]
  },
  {
   "cell_type": "code",
   "execution_count": 51,
   "metadata": {
    "collapsed": false
   },
   "outputs": [
    {
     "data": {
      "image/png": "[encoded data removed]",
      "text/latex": [
       "$$f{\\left (x \\right )} = \\frac{1}{C_{1} e^{x} - \\sin{\\left (x \\right )}}$$"
      ],
      "text/plain": [
       "             1       \n",
       "f(x) = ──────────────\n",
       "           x         \n",
       "       C₁⋅ℯ  - sin(x)"
      ]
     },
     "execution_count": 51,
     "metadata": {},
     "output_type": "execute_result"
    }
   ],
   "source": [
    "dsolve(eq, f(x), hint=\"lie_group\")"
   ]
  },
  {
   "cell_type": "code",
   "execution_count": 52,
   "metadata": {
    "collapsed": false
   },
   "outputs": [
    {
     "data": {
      "text/plain": [
       "{'1st_power_series': f(x) == C1 - C1*x**2/2 - C1*x**3/6 + C1*x**4/4 + C1*x**5*(-C1*(C1 - 3) - C1*(C1 + 1) + 4*C1 + 12)/120 + O(x**6),\n",
       " 'best': f(x) == C1 - C1*x**2/2 - C1*x**3/6 + C1*x**4/4 + C1*x**5*(-C1*(C1 - 3) - C1*(C1 + 1) + 4*C1 + 12)/120 + O(x**6),\n",
       " 'best_hint': '1st_power_series',\n",
       " 'default': '1st_power_series',\n",
       " 'lie_group': f(x) == 1/(C1*exp(x) - sin(x)),\n",
       " 'order': 1}"
      ]
     },
     "execution_count": 52,
     "metadata": {},
     "output_type": "execute_result"
    }
   ],
   "source": [
    "dsolve(eq, f(x), hint=\"all\")"
   ]
  },
  {
   "cell_type": "code",
   "execution_count": 53,
   "metadata": {
    "collapsed": false
   },
   "outputs": [
    {
     "name": "stdout",
     "output_type": "stream",
     "text": [
      "('separable',\n",
      " '1st_exact',\n",
      " '1st_linear',\n",
      " 'Bernoulli',\n",
      "...\n"
     ]
    }
   ],
   "source": [
    "%omit sympy.ode.allhints"
   ]
  },
  {
   "cell_type": "markdown",
   "metadata": {},
   "source": [
    "### 積分"
   ]
  },
  {
   "cell_type": "code",
   "execution_count": 54,
   "metadata": {
    "collapsed": false
   },
   "outputs": [
    {
     "data": {
      "image/png": "[encoded data removed]",
      "text/latex": [
       "$$\\int x \\sin{\\left (x \\right )}\\, dx$$"
      ],
      "text/plain": [
       "⌠            \n",
       "⎮ x⋅sin(x) dx\n",
       "⌡            "
      ]
     },
     "execution_count": 54,
     "metadata": {},
     "output_type": "execute_result"
    }
   ],
   "source": [
    "e = Integral(x*sin(x), x)\n",
    "e    "
   ]
  },
  {
   "cell_type": "code",
   "execution_count": 55,
   "metadata": {
    "collapsed": false
   },
   "outputs": [
    {
     "data": {
      "image/png": "[encoded data removed]",
      "text/latex": [
       "$$- x \\cos{\\left (x \\right )} + \\sin{\\left (x \\right )}$$"
      ],
      "text/plain": [
       "-x⋅cos(x) + sin(x)"
      ]
     },
     "execution_count": 55,
     "metadata": {},
     "output_type": "execute_result"
    }
   ],
   "source": [
    "e.doit()"
   ]
  },
  {
   "cell_type": "code",
   "execution_count": 56,
   "metadata": {
    "collapsed": false
   },
   "outputs": [
    {
     "data": {
      "image/png": "[encoded data removed]",
      "text/latex": [
       "$$\\operatorname{Si}{\\left (1 \\right )}$$"
      ],
      "text/plain": [
       "Si(1)"
      ]
     },
     "execution_count": 56,
     "metadata": {},
     "output_type": "execute_result"
    }
   ],
   "source": [
    "e2 = Integral(sin(x)/x, (x, 0, 1))\n",
    "e2.doit()"
   ]
  },
  {
   "cell_type": "code",
   "execution_count": 58,
   "metadata": {
    "collapsed": false
   },
   "outputs": [
    {
     "name": "stdout",
     "output_type": "stream",
     "text": [
      "0.946083070367183\n",
      "0.94608307036718301494135331382317965781233795473811\n"
     ]
    }
   ],
   "source": [
    "print e2.evalf()\n",
    "print e2.evalf(50) # 可以指定精度"
   ]
  },
  {
   "cell_type": "code",
   "execution_count": 59,
   "metadata": {
    "collapsed": false
   },
   "outputs": [
    {
     "data": {
      "image/png": "[encoded data removed]",
      "text/latex": [
       "$$-4.0$$"
      ],
      "text/plain": [
       "-0.e+0"
      ]
     },
     "execution_count": 59,
     "metadata": {},
     "output_type": "execute_result"
    }
   ],
   "source": [
    "e3 = Integral(sin(x)/x, (x, 0, oo))\n",
    "e3.evalf()"
   ]
  },
  {
   "cell_type": "code",
   "execution_count": 61,
   "metadata": {
    "collapsed": false
   },
   "outputs": [
    {
     "data": {
      "image/png": "[encoded data removed]",
      "text/latex": [
       "$$\\frac{\\pi}{2}$$"
      ],
      "text/plain": [
       "π\n",
       "─\n",
       "2"
      ]
     },
     "execution_count": 61,
     "metadata": {},
     "output_type": "execute_result"
    }
   ],
   "source": [
    "e3.doit()"
   ]
  }
 ],
 "metadata": {
  "kernelspec": {
   "display_name": "Python 2",
   "language": "python",
   "name": "python2"
  },
  "language_info": {
   "codemirror_mode": {
    "name": "ipython",
    "version": 2
   },
   "file_extension": ".py",
   "mimetype": "text/x-python",
   "name": "python",
   "nbconvert_exporter": "python",
   "pygments_lexer": "ipython2",
   "version": "2.7.9"
  }
 },
 "nbformat": 4,
 "nbformat_minor": 0
}
