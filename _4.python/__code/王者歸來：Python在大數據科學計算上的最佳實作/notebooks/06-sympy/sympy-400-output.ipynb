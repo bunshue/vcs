﻿{
 "cells": [
  {
   "cell_type": "code",
   "execution_count": 1,
   "metadata": {
    "collapsed": false
   },
   "outputs": [],
   "source": [
    "import numpy as np\n",
    "from sympy import *\n",
    "import sympy\n",
    "from IPython.display import Latex\n",
    "%init_sympy_printing\n",
    "\n",
    "x, y, z = symbols(\"x, y, z\")\n",
    "a, b = symbols(\"a, b\")\n",
    "f = Function(\"f\")"
   ]
  },
  {
   "cell_type": "markdown",
   "metadata": {},
   "source": [
    "## 輸出符號表達式"
   ]
  },
  {
   "cell_type": "markdown",
   "metadata": {},
   "source": [
    "### `lambdify`"
   ]
  },
  {
   "cell_type": "code",
   "execution_count": 23,
   "metadata": {
    "collapsed": false
   },
   "outputs": [
    {
     "data": {
      "text/plain": [
       "[1.0, 0.5]"
      ]
     },
     "execution_count": 23,
     "metadata": {},
     "output_type": "execute_result"
    }
   ],
   "source": [
    "a, b, c, x = symbols(\"a, b, c, x\", real=True)\n",
    "quadratic_roots = solve(a*x**2 + b*x + c, x)\n",
    "lam_quadratic_roots_real = lambdify([a, b, c], quadratic_roots)\n",
    "lam_quadratic_roots_real(2, -3, 1)"
   ]
  },
  {
   "cell_type": "code",
   "execution_count": 24,
   "metadata": {
    "collapsed": false
   },
   "outputs": [
    {
     "data": {
      "text/plain": [
       "[(-0.5+0.5j), (-0.5-0.5j)]"
      ]
     },
     "execution_count": 24,
     "metadata": {},
     "output_type": "execute_result"
    }
   ],
   "source": [
    "import cmath\n",
    "lam_quadratic_roots_complex = lambdify((a, b, c), quadratic_roots, modules=cmath)\n",
    "lam_quadratic_roots_complex(2, 2, 1)"
   ]
  },
  {
   "cell_type": "code",
   "execution_count": 25,
   "metadata": {
    "collapsed": false
   },
   "outputs": [
    {
     "data": {
      "text/plain": [
       "[array([-0.25000000+0.66143783j, -0.29289322+0.j        ,\n",
       "        -1.00000000+0.j        , -0.25000000+0.96824584j]),\n",
       " array([-0.25000000-0.66143783j, -1.70710678+0.j        ,\n",
       "        -1.00000000+0.j        , -0.25000000-0.96824584j])]"
      ]
     },
     "execution_count": 25,
     "metadata": {},
     "output_type": "execute_result"
    }
   ],
   "source": [
    "lam_quadratic_roots_numpy = lambdify((a, b, c), quadratic_roots, modules=\"numpy\")\n",
    "A = np.array([2, 2, 1, 2], np.complex) \n",
    "B = np.array([1, 4, 2, 1], np.complex) \n",
    "C = np.array([1, 1, 1, 2], np.complex)\n",
    "lam_quadratic_roots_numpy(A, B, C)"
   ]
  },
  {
   "cell_type": "markdown",
   "metadata": {},
   "source": [
    "### 用`autowrap()`編譯表達式"
   ]
  },
  {
   "cell_type": "code",
   "execution_count": 26,
   "metadata": {
    "collapsed": false
   },
   "outputs": [],
   "source": [
    "from sympy.utilities.autowrap import autowrap\n",
    "matrix_roots = Matrix(quadratic_roots)\n",
    "quadratic_roots_f2py   = autowrap(matrix_roots, args=[a, b, c], tempdir=r\".\\tmp\")\n",
    "quadratic_roots_cython = autowrap(matrix_roots, args=[a, b, c], tempdir=r\".\\tmp\",\n",
    "                                 backend=\"cython\", flags=[\"-I\" + np.get_include()])"
   ]
  },
  {
   "cell_type": "code",
   "execution_count": 27,
   "metadata": {
    "collapsed": false
   },
   "outputs": [
    {
     "name": "stdout",
     "output_type": "stream",
     "text": [
      "quadratic_roots_f2py(2, -3, 1)  quadratic_roots_cython(2, -3, 1)\n",
      "------------------------------  --------------------------------\n",
      "[[ 1. ],                        [[ 1. ],                        \n",
      " [ 0.5]]                         [ 0.5]]                        \n"
     ]
    }
   ],
   "source": [
    "%C quadratic_roots_f2py(2, -3, 1); quadratic_roots_cython(2, -3, 1)"
   ]
  },
  {
   "cell_type": "code",
   "execution_count": 28,
   "metadata": {
    "collapsed": false
   },
   "outputs": [
    {
     "data": {
      "text/plain": [
       "array([-0.76393202, -1.        , -0.09009805])"
      ]
     },
     "execution_count": 28,
     "metadata": {},
     "output_type": "execute_result"
    }
   ],
   "source": [
    "from sympy.utilities.autowrap import ufuncify\n",
    "quadratic_roots_ufunc = ufuncify((a, b, c), quadratic_roots[0], tempdir=r\".\\tmp\")\n",
    "\n",
    "quadratic_roots_ufunc([1, 2, 10.0], [6, 7, 12.0], [4, 5, 1.0])"
   ]
  },
  {
   "cell_type": "code",
   "execution_count": 29,
   "metadata": {
    "collapsed": false
   },
   "outputs": [
    {
     "name": "stdout",
     "output_type": "stream",
     "text": [
      "quadratic_roots.h\n",
      "----------------------------------------\n",
      "\n",
      "#ifndef PROJECT__QUADRATIC_ROOTS__H\n",
      "#define PROJECT__QUADRATIC_ROOTS__H\n",
      "\n",
      "double root0(double a, double b, double c);\n",
      "double root1(double a, double b, double c);\n",
      "void roots(double a, double b, double c, double *out_1451769269);\n",
      "\n",
      "#endif\n",
      "\n",
      "\n",
      "\n",
      "quadratic_roots.c\n",
      "----------------------------------------\n",
      "#include \"quadratic_roots.h\"\n",
      "#include <math.h>\n",
      "\n",
      "double root0(double a, double b, double c) {\n",
      "\n",
      "   double root0_result;\n",
      "   root0_result = (1.0L/2.0L)*(-b + sqrt(-4*a*c + pow(b, 2)))/a;\n",
      "   return root0_result;\n",
      "\n",
      "}\n",
      "\n",
      "double root1(double a, double b, double c) {\n",
      "\n",
      "   double root1_result;\n",
      "   root1_result = -1.0L/2.0L*(b + sqrt(-4*a*c + pow(b, 2)))/a;\n",
      "   return root1_result;\n",
      "\n",
      "}\n",
      "\n",
      "void roots(double a, double b, double c, double *out_1451769269) {\n",
      "\n",
      "   out_1451769269[0] = (1.0L/2.0L)*(-b + sqrt(-4*a*c + pow(b, 2)))/a;\n",
      "   out_1451769269[1] = -1.0L/2.0L*(b + sqrt(-4*a*c + pow(b, 2)))/a;\n",
      "\n",
      "}\n",
      "\n"
     ]
    }
   ],
   "source": [
    "from sympy.utilities.codegen import codegen\n",
    "(c_name, c_code), (h_name, c_header) = codegen(\n",
    "    [(\"root0\", quadratic_roots[0]), \n",
    "     (\"root1\", quadratic_roots[1]), \n",
    "     (\"roots\", matrix_roots)], \n",
    "    language=\"C\", \n",
    "    prefix=\"quadratic_roots\", \n",
    "    header=False)\n",
    "print h_name\n",
    "print \"-\" * 40\n",
    "print c_header\n",
    "print\n",
    "print c_name\n",
    "print \"-\" * 40\n",
    "print c_code"
   ]
  },
  {
   "cell_type": "code",
   "execution_count": 30,
   "metadata": {
    "collapsed": false
   },
   "outputs": [
    {
     "name": "stdout",
     "output_type": "stream",
     "text": [
      "y[0] = (1.0L/2.0L)*(-b + sqrt(-4*a*c + pow(b, 2)))/a;\n",
      "y[1] = -1.0L/2.0L*(b + sqrt(-4*a*c + pow(b, 2)))/a;\n"
     ]
    }
   ],
   "source": [
    "print ccode(matrix_roots, assign_to=\"y\")"
   ]
  },
  {
   "cell_type": "markdown",
   "metadata": {},
   "source": [
    "### 使用`cse()`分步輸出表達式"
   ]
  },
  {
   "cell_type": "code",
   "execution_count": 31,
   "metadata": {
    "collapsed": false
   },
   "outputs": [
    {
     "data": {
      "text/latex": [
       "$$\\left [ \\left ( x_{0}, \\quad \\frac{1}{2 a}\\right ), \\quad \\left ( x_{1}, \\quad \\sqrt{- 4 a c + b^{2}}\\right )\\right ]$$"
      ]
     },
     "metadata": {},
     "output_type": "display_data"
    }
   ],
   "source": [
    "replacements, reduced_exprs = cse(quadratic_roots)\n",
    "%sympy_latex replacements"
   ]
  },
  {
   "cell_type": "code",
   "execution_count": 32,
   "metadata": {
    "collapsed": false
   },
   "outputs": [
    {
     "data": {
      "text/latex": [
       "$$\\left [ x_{0} \\left(- b + x_{1}\\right), \\quad - x_{0} \\left(b + x_{1}\\right)\\right ]$$"
      ]
     },
     "metadata": {},
     "output_type": "display_data"
    }
   ],
   "source": [
    "%sympy_latex reduced_exprs"
   ]
  },
  {
   "cell_type": "code",
   "execution_count": 33,
   "metadata": {
    "collapsed": false
   },
   "outputs": [
    {
     "data": {
      "text/latex": [
       "$$\\left [ \\left ( tmp_{0}, \\quad \\frac{1}{2 a}\\right ), \\quad \\left ( tmp_{1}, \\quad \\sqrt{- 4 a c + b^{2}}\\right )\\right ]$$"
      ]
     },
     "metadata": {},
     "output_type": "display_data"
    }
   ],
   "source": [
    "replacements, reduced_exprs = cse(quadratic_roots, symbols=numbered_symbols(\"tmp\"))\n",
    "%sympy_latex replacements"
   ]
  },
  {
   "cell_type": "code",
   "execution_count": 34,
   "metadata": {
    "collapsed": false
   },
   "outputs": [
    {
     "name": "stdout",
     "output_type": "stream",
     "text": [
      "def cse_quadratic_roots(a, b, c):\n",
      "    from math import sqrt\n",
      "    _tmp0 = 0.5/a\n",
      "    _tmp1 = sqrt((b)**(2.0) - 4.0*a*c)\n",
      "    return (_tmp0*(_tmp1 - b), -_tmp0*(_tmp1 + b))\n"
     ]
    }
   ],
   "source": [
    "from scpy2.sympy.cseprinter import cse2func\n",
    "code = cse2func(\"cse_quadratic_roots(a, b, c)\", quadratic_roots)\n",
    "exec code\n",
    "print code"
   ]
  },
  {
   "cell_type": "code",
   "execution_count": 35,
   "metadata": {
    "collapsed": false
   },
   "outputs": [
    {
     "data": {
      "text/plain": [
       "(3.41421356237, 0.585786437627)"
      ]
     },
     "execution_count": 35,
     "metadata": {},
     "output_type": "execute_result"
    }
   ],
   "source": [
    "cse_quadratic_roots(1, -4, 2)"
   ]
  },
  {
   "cell_type": "code",
   "execution_count": 37,
   "metadata": {
    "collapsed": false
   },
   "outputs": [
    {
     "data": {
      "text/plain": [
       "((2+2.449489742783178j), (2-2.449489742783178j))"
      ]
     },
     "execution_count": 37,
     "metadata": {},
     "output_type": "execute_result"
    }
   ],
   "source": [
    "import cmath\n",
    "exec cse2func(\"cse_quadratic_roots(a, b, c)\", quadratic_roots, module=cmath)\n",
    "cse_quadratic_roots(1, -4, 10)"
   ]
  }
 ],
 "metadata": {
  "kernelspec": {
   "display_name": "Python 2",
   "language": "python",
   "name": "python2"
  },
  "language_info": {
   "codemirror_mode": {
    "name": "ipython",
    "version": 2
   },
   "file_extension": ".py",
   "mimetype": "text/x-python",
   "name": "python",
   "nbconvert_exporter": "python",
   "pygments_lexer": "ipython2",
   "version": "2.7.9"
  }
 },
 "nbformat": 4,
 "nbformat_minor": 0
}
