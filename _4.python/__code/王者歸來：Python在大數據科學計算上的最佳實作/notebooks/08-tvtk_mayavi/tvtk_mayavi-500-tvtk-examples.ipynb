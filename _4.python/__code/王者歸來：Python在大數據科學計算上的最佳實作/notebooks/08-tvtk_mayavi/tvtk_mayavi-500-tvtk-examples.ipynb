﻿{
 "cells": [
  {
   "cell_type": "code",
   "execution_count": 3,
   "metadata": {
    "collapsed": false,
    "group_control": {
     "group": 0
    }
   },
   "outputs": [],
   "source": [
    "import numpy as np\n",
    "from tvtk.api import tvtk\n",
    "from scpy2.tvtk.tvtkhelp import ivtk_scene, event_loop\n",
    "\n",
    "%matplotlib_svg\n",
    "import pylab as pl"
   ]
  },
  {
   "cell_type": "code",
   "execution_count": 4,
   "metadata": {
    "collapsed": true
   },
   "outputs": [],
   "source": [
    "%gui qt"
   ]
  },
  {
   "cell_type": "markdown",
   "metadata": {},
   "source": [
    "## TVTK可視化案例"
   ]
  },
  {
   "cell_type": "markdown",
   "metadata": {},
   "source": [
    "### 切面"
   ]
  },
  {
   "cell_type": "markdown",
   "metadata": {},
   "source": [
    "> **SOURCE**\n",
    "\n",
    "> `scpy2.tvtk.example_cut_plane`：切面示範程式"
   ]
  },
  {
   "cell_type": "code",
   "execution_count": 35,
   "metadata": {
    "collapsed": true,
    "group_control": {
     "group": 0
    }
   },
   "outputs": [],
   "source": [
    "#%hide\n",
    "%exec_python -m scpy2.tvtk.example_cut_plane"
   ]
  },
  {
   "cell_type": "code",
   "execution_count": 5,
   "metadata": {
    "collapsed": false,
    "group_control": {
     "group": 0
    }
   },
   "outputs": [],
   "source": [
    "def read_data():\n",
    "    # 讀入資料\n",
    "    plot3d = tvtk.MultiBlockPLOT3DReader( #❶\n",
    "        xyz_file_name = \"combxyz.bin\",\n",
    "        q_file_name = \"combq.bin\",\n",
    "        scalar_function_number = 100, vector_function_number = 200\n",
    "    )\n",
    "    plot3d.update() #❷\n",
    "    return plot3d\n",
    "\n",
    "plot3d = read_data()\n",
    "grid = plot3d.output.get_block(0) #❸\n",
    "\n",
    "# 建立彩色映射表\n",
    "lut = tvtk.LookupTable() #❹\n",
    "lut.table = pl.cm.cool(np.arange(0,256))*255"
   ]
  },
  {
   "cell_type": "code",
   "execution_count": 4,
   "metadata": {
    "collapsed": false,
    "group_control": {
     "group": 0
    }
   },
   "outputs": [
    {
     "name": "stdout",
     "output_type": "stream",
     "text": [
      "<class 'tvtk.tvtk_classes.multi_block_data_set.MultiBlockDataSet'>\n",
      "<class 'tvtk.tvtk_classes.structured_grid.StructuredGrid'>\n"
     ]
    }
   ],
   "source": [
    "print type(plot3d.output)\n",
    "print type(plot3d.output.get_block(0))"
   ]
  },
  {
   "cell_type": "code",
   "execution_count": 5,
   "metadata": {
    "collapsed": false,
    "group_control": {
     "group": 0
    }
   },
   "outputs": [
    {
     "name": "stdout",
     "output_type": "stream",
     "text": [
      "dimensions: [57 33 25]\n",
      "[[  2.66700006  -3.77476001  23.83292007]\n",
      " [  2.94346499  -3.74825287  23.66555977]\n",
      " [  3.21985817  -3.72175312  23.49823952]\n",
      " ..., \n",
      " [ 15.84669018   5.66214085  35.7493782 ]\n",
      " [ 16.17829895   5.66214085  35.7493782 ]\n",
      " [ 16.51000023   5.66214085  35.7493782 ]]\n",
      "cell arrays: 0\n",
      "point arrays: 4\n",
      "arrays name:\n",
      "     Density\n",
      "     Momentum\n",
      "     StagnationEnergy\n",
      "     Velocity\n",
      "scalars name: Density\n",
      "vectors name: Velocity\n"
     ]
    }
   ],
   "source": [
    "print \"dimensions:\", grid.dimensions\n",
    "print grid.points.to_array()\n",
    "print \"cell arrays:\", grid.cell_data.number_of_arrays\n",
    "print \"point arrays:\", grid.point_data.number_of_arrays\n",
    "\n",
    "print \"arrays name:\"\n",
    "for i in xrange(grid.point_data.number_of_arrays):\n",
    "    print \"    \", grid.point_data.get_array_name(i)\n",
    "\n",
    "print \"scalars name:\", grid.point_data.scalars.name\n",
    "print \"vectors name:\", grid.point_data.vectors.name"
   ]
  },
  {
   "cell_type": "code",
   "execution_count": 6,
   "metadata": {
    "collapsed": false,
    "group_control": {
     "group": 0
    }
   },
   "outputs": [],
   "source": [
    "# 顯示StructuredGrid中的一個網格面\n",
    "plane = tvtk.StructuredGridGeometryFilter(extent = (0, 100, 0, 100, 6, 6)) #❶\n",
    "plane.set_input_data(grid) #❷\n",
    "plane_mapper = tvtk.PolyDataMapper(lookup_table = lut, input_connection = plane.output_port) #❸\n",
    "plane_mapper.scalar_range = grid.scalar_range #❹\n",
    "plane_actor = tvtk.Actor(mapper = plane_mapper) #❺"
   ]
  },
  {
   "cell_type": "markdown",
   "metadata": {},
   "source": [
    "> **WARNING**\n",
    "\n",
    "> `TVTK`庫沒有將`SetInputData()`轉換成`input_data`屬性，因此需要呼叫其對應的`set_input_data()`函數設定輸入資料集。"
   ]
  },
  {
   "cell_type": "code",
   "execution_count": 7,
   "metadata": {
    "collapsed": false,
    "group_control": {
     "group": 0
    }
   },
   "outputs": [
    {
     "data": {
      "text/plain": [
       "tvtk.tvtk_classes.poly_data.PolyData"
      ]
     },
     "execution_count": 7,
     "metadata": {},
     "output_type": "execute_result"
    }
   ],
   "source": [
    "plane.update()\n",
    "p = plane.output\n",
    "type(p)"
   ]
  },
  {
   "cell_type": "code",
   "execution_count": 8,
   "metadata": {
    "collapsed": false,
    "group_control": {
     "group": 0
    }
   },
   "outputs": [
    {
     "name": "stdout",
     "output_type": "stream",
     "text": [
      "1881 1881\n"
     ]
    }
   ],
   "source": [
    "print p.number_of_points, grid.dimensions[0] * grid.dimensions[1]"
   ]
  },
  {
   "cell_type": "code",
   "execution_count": 9,
   "metadata": {
    "collapsed": false,
    "group_control": {
     "group": 0
    }
   },
   "outputs": [
    {
     "name": "stdout",
     "output_type": "stream",
     "text": [
      "[57 33 25]\n"
     ]
    },
    {
     "data": {
      "text/plain": [
       "True"
      ]
     },
     "execution_count": 9,
     "metadata": {},
     "output_type": "execute_result"
    }
   ],
   "source": [
    "print grid.dimensions\n",
    "points1 = grid.points.to_array().reshape((25,33,57,3))\n",
    "points2 = p.points.to_array().reshape((33,57,3))\n",
    "np.all(points1[6] == points2)"
   ]
  },
  {
   "cell_type": "code",
   "execution_count": 10,
   "metadata": {
    "collapsed": false,
    "group_control": {
     "group": 0
    }
   },
   "outputs": [
    {
     "name": "stdout",
     "output_type": "stream",
     "text": [
      "4\n",
      "Density\n"
     ]
    }
   ],
   "source": [
    "print p.point_data.number_of_arrays\n",
    "print p.point_data.scalars.name"
   ]
  },
  {
   "cell_type": "code",
   "execution_count": 11,
   "metadata": {
    "collapsed": false,
    "group_control": {
     "group": 0
    }
   },
   "outputs": [],
   "source": [
    "lut2 = tvtk.LookupTable()\n",
    "lut2.table = pl.cm.cool(np.arange(0,256))*255\n",
    "cut_plane = tvtk.Plane(origin = grid.center, normal=(-0.287, 0, 0.9579)) #❶\n",
    "cut = tvtk.Cutter(cut_function = cut_plane) #❷\n",
    "cut.set_input_data(grid)\n",
    "cut_mapper = tvtk.PolyDataMapper(input_connection = cut.output_port, lookup_table = lut2)\n",
    "cut_actor = tvtk.Actor(mapper = cut_mapper)"
   ]
  },
  {
   "cell_type": "code",
   "execution_count": 12,
   "metadata": {
    "collapsed": false,
    "group_control": {
     "group": 0
    }
   },
   "outputs": [
    {
     "data": {
      "text/plain": [
       "tvtk.tvtk_classes.poly_data.PolyData"
      ]
     },
     "execution_count": 12,
     "metadata": {},
     "output_type": "execute_result"
    }
   ],
   "source": [
    "type(plane.output)"
   ]
  },
  {
   "cell_type": "code",
   "execution_count": 13,
   "metadata": {
    "collapsed": false,
    "group_control": {
     "group": 0
    }
   },
   "outputs": [
    {
     "data": {
      "text/plain": [
       "2537"
      ]
     },
     "execution_count": 13,
     "metadata": {},
     "output_type": "execute_result"
    }
   ],
   "source": [
    "cut.update()\n",
    "cut.output.number_of_points"
   ]
  },
  {
   "cell_type": "code",
   "execution_count": 14,
   "metadata": {
    "collapsed": false,
    "group_control": {
     "group": 0
    }
   },
   "outputs": [
    {
     "data": {
      "text/plain": [
       "4"
      ]
     },
     "execution_count": 14,
     "metadata": {},
     "output_type": "execute_result"
    }
   ],
   "source": [
    "cut.output.point_data.number_of_arrays"
   ]
  },
  {
   "cell_type": "code",
   "execution_count": 7,
   "metadata": {
    "collapsed": false,
    "group_control": {
     "group": 0
    }
   },
   "outputs": [],
   "source": [
    "def make_outline(input_obj):\n",
    "    from tvtk.common import configure_input\n",
    "    outline = tvtk.StructuredGridOutlineFilter()\n",
    "    configure_input(outline, input_obj)\n",
    "    outline_mapper = tvtk.PolyDataMapper(input_connection = outline.output_port)\n",
    "    outline_actor = tvtk.Actor(mapper = outline_mapper)\n",
    "    outline_actor.property.color = 0.3, 0.3, 0.3\n",
    "    return outline_actor\n",
    "\n",
    "outline_actor = make_outline(grid)"
   ]
  },
  {
   "cell_type": "code",
   "execution_count": 16,
   "metadata": {
    "collapsed": false,
    "group_control": {
     "group": 0
    }
   },
   "outputs": [],
   "source": [
    "win = ivtk_scene([plane_actor, cut_actor, outline_actor])\n",
    "win.scene.isometric_view()"
   ]
  },
  {
   "cell_type": "markdown",
   "metadata": {},
   "source": [
    "### 相等面"
   ]
  },
  {
   "cell_type": "markdown",
   "metadata": {},
   "source": [
    "> **SOURCE**\n",
    "\n",
    "> `scpy2.tvtk.example_contours`：使用相等面可視化純量場"
   ]
  },
  {
   "cell_type": "code",
   "execution_count": 20,
   "metadata": {
    "collapsed": true,
    "group_control": {
     "group": 0
    }
   },
   "outputs": [],
   "source": [
    "#%hide\n",
    "%exec_python -m scpy2.tvtk.example_contours"
   ]
  },
  {
   "cell_type": "code",
   "execution_count": 8,
   "metadata": {
    "collapsed": false,
    "group_control": {
     "group": 0
    }
   },
   "outputs": [],
   "source": [
    "contours = tvtk.ContourFilter()\n",
    "contours.set_input_data(grid)\n",
    "contours.generate_values(8, grid.point_data.scalars.range) #❶\n",
    "mapper = tvtk.PolyDataMapper(input_connection = contours.output_port,\n",
    "    scalar_range = grid.point_data.scalars.range) #❷\n",
    "actor = tvtk.Actor(mapper = mapper)\n",
    "actor.property.opacity = 0.3 #❸\n",
    "\n",
    "outline_actor = make_outline(grid)\n",
    "\n",
    "win = ivtk_scene([actor, outline_actor])\n",
    "win.scene.isometric_view()"
   ]
  },
  {
   "cell_type": "code",
   "execution_count": 40,
   "metadata": {
    "collapsed": false,
    "group_control": {
     "group": 0
    }
   },
   "outputs": [
    {
     "name": "stdout",
     "output_type": "stream",
     "text": [
      "0.197813093662\n"
     ]
    }
   ],
   "source": [
    "print contours.get_value(0)\n",
    "contours.set_value(0, 0.21)"
   ]
  },
  {
   "cell_type": "code",
   "execution_count": 45,
   "metadata": {
    "collapsed": false,
    "group_control": {
     "group": 0
    }
   },
   "outputs": [],
   "source": [
    "plot3d = read_data()\n",
    "plot3d.add_function(153) #❶\n",
    "plot3d.update()\n",
    "grid = plot3d.output.get_block(0)\n",
    "\n",
    "contours = tvtk.ContourFilter()\n",
    "contours.set_input_data(grid)\n",
    "contours.set_value(0, 0.30) #❷\n",
    "mapper = tvtk.PolyDataMapper(input_connection = contours.output_port,\n",
    "    scalar_range = grid.point_data.get_array(4).range, #❸\n",
    "    scalar_mode = \"use_point_field_data\") #❹\n",
    "mapper.color_by_array_component(\"VelocityMagnitude\", 0) #❺\n",
    "actor = tvtk.Actor(mapper = mapper)\n",
    "actor.property.opacity = 0.6 \n",
    "\n",
    "outline_actor = make_outline(grid)\n",
    "\n",
    "win = ivtk_scene([actor, outline_actor])\n",
    "win.scene.isometric_view()"
   ]
  },
  {
   "cell_type": "code",
   "execution_count": 42,
   "metadata": {
    "collapsed": false,
    "group_control": {
     "group": 0
    }
   },
   "outputs": [
    {
     "data": {
      "text/plain": [
       "'VelocityMagnitude'"
      ]
     },
     "execution_count": 42,
     "metadata": {},
     "output_type": "execute_result"
    }
   ],
   "source": [
    "grid.point_data.get_array_name(4)"
   ]
  },
  {
   "cell_type": "markdown",
   "metadata": {},
   "source": [
    "### 流線"
   ]
  },
  {
   "cell_type": "markdown",
   "metadata": {},
   "source": [
    "> **SOURCE**\n",
    "\n",
    "> `scpy2.tvtk.example_streamline`：使用流線和箭頭可視化向量場"
   ]
  },
  {
   "cell_type": "code",
   "execution_count": 58,
   "metadata": {
    "collapsed": true,
    "group_control": {
     "group": 0
    }
   },
   "outputs": [],
   "source": [
    "#%hide\n",
    "%exec_python -m scpy2.tvtk.example_streamline"
   ]
  },
  {
   "cell_type": "code",
   "execution_count": 67,
   "metadata": {
    "collapsed": false,
    "group_control": {
     "group": 0
    }
   },
   "outputs": [],
   "source": [
    "# 向量箭頭\n",
    "mask = tvtk.MaskPoints(random_mode=True, on_ratio=50) #❶\n",
    "mask.set_input_data(grid)\n",
    "\n",
    "arrow_source = tvtk.ArrowSource() #❷\n",
    "arrows = tvtk.Glyph3D(input_connection = mask.output_port, #❸\n",
    "    scale_factor=2/np.max(grid.point_data.scalars.to_array()))\n",
    "arrows.set_source_connection(arrow_source.output_port)\n",
    "arrows_mapper = tvtk.PolyDataMapper(input_connection = arrows.output_port, \n",
    "    scalar_range = grid.point_data.scalars.range)\n",
    "arrows_actor = tvtk.Actor(mapper = arrows_mapper)"
   ]
  },
  {
   "cell_type": "code",
   "execution_count": 68,
   "metadata": {
    "collapsed": false,
    "group_control": {
     "group": 0
    }
   },
   "outputs": [
    {
     "name": "stdout",
     "output_type": "stream",
     "text": [
      "47025\n",
      "<class 'tvtk.tvtk_classes.poly_data.PolyData'>\n",
      "952\n",
      "5\n"
     ]
    }
   ],
   "source": [
    "print grid.number_of_points\n",
    "mask.update()\n",
    "print type(mask.output)\n",
    "print mask.output.number_of_points\n",
    "print mask.output.point_data.number_of_arrays "
   ]
  },
  {
   "cell_type": "markdown",
   "metadata": {},
   "source": [
    "> **WARNING**\n",
    "\n",
    "> 由於`TVTK`沒有提供`source_connection`屬性，因此只能透過`set_source_connection()`設定`Glyph3D`物件的輸入。"
   ]
  },
  {
   "cell_type": "code",
   "execution_count": 69,
   "metadata": {
    "collapsed": false,
    "group_control": {
     "group": 0
    }
   },
   "outputs": [
    {
     "name": "stdout",
     "output_type": "stream",
     "text": [
      "31\n",
      "29512\n"
     ]
    }
   ],
   "source": [
    "arrows.update()\n",
    "print arrow_source.output.number_of_points # 一個箭頭有31個點\n",
    "print arrows.output.number_of_points # 箭頭被複製了N份，因此有N*31個點"
   ]
  },
  {
   "cell_type": "code",
   "execution_count": 71,
   "metadata": {
    "collapsed": false,
    "group_control": {
     "group": 0
    }
   },
   "outputs": [],
   "source": [
    "center = grid.center\n",
    "sphere = tvtk.SphereSource(  #❶\n",
    "    center=(2, center[1], center[2]), radius=2, \n",
    "    phi_resolution=6, theta_resolution=6)\n",
    "sphere_mapper = tvtk.PolyDataMapper(input_connection=sphere.output_port)\n",
    "sphere_actor = tvtk.Actor(mapper=sphere_mapper)\n",
    "sphere_actor.property.set(\n",
    "    representation = \"wireframe\", color=(0,0,0))\n",
    "\n",
    "# 流線    \n",
    "streamer = tvtk.StreamLine( #❷\n",
    "    step_length=0.0001,\n",
    "    integration_direction=\"forward\", \n",
    "    integrator=tvtk.RungeKutta4()) #❸\n",
    "streamer.set_input_data(grid)\n",
    "streamer.set_source_connection(sphere.output_port)\n",
    "\n",
    "tube = tvtk.TubeFilter( #❹\n",
    "    input_connection=streamer.output_port,\n",
    "    radius=0.05,\n",
    "    number_of_sides=6,\n",
    "    vary_radius=\"vary_radius_by_scalar\")\n",
    "\n",
    "tube_mapper = tvtk.PolyDataMapper(\n",
    "    input_connection=tube.output_port,\n",
    "    scalar_range=grid.point_data.scalars.range)\n",
    "tube_actor = tvtk.Actor(mapper=tube_mapper)  \n",
    "tube_actor.property.backface_culling = True\n",
    "\n",
    "outline_actor = make_outline(grid)\n",
    "win = ivtk_scene([outline_actor, sphere_actor, tube_actor, arrows_actor])\n",
    "win.scene.isometric_view()"
   ]
  },
  {
   "cell_type": "code",
   "execution_count": 72,
   "metadata": {
    "collapsed": false,
    "group_control": {
     "group": 0
    }
   },
   "outputs": [
    {
     "name": "stdout",
     "output_type": "stream",
     "text": [
      "5528\n",
      "0\n",
      "23\n"
     ]
    }
   ],
   "source": [
    "streamer.update()\n",
    "print streamer.output.number_of_points\n",
    "print streamer.output.number_of_polys\n",
    "print streamer.output.number_of_lines"
   ]
  },
  {
   "cell_type": "code",
   "execution_count": 74,
   "metadata": {
    "collapsed": false,
    "group_control": {
     "group": 0
    }
   },
   "outputs": [
    {
     "data": {
      "text/plain": [
       "0"
      ]
     },
     "execution_count": 74,
     "metadata": {},
     "output_type": "execute_result"
    }
   ],
   "source": [
    "tube.update()\n",
    "tube.output.number_of_polys"
   ]
  },
  {
   "cell_type": "code",
   "execution_count": 75,
   "metadata": {
    "collapsed": false,
    "group_control": {
     "group": 0
    }
   },
   "outputs": [
    {
     "name": "stdout",
     "output_type": "stream",
     "text": [
      "138\n",
      "<class 'tvtk.tvtk_classes.triangle_strip.TriangleStrip'>\n",
      "498\n"
     ]
    }
   ],
   "source": [
    "print tube.output.number_of_strips\n",
    "t = tube.output.get_cell(0)\n",
    "print type(t)\n",
    "print t.number_of_points"
   ]
  },
  {
   "cell_type": "code",
   "execution_count": 77,
   "metadata": {
    "collapsed": false,
    "group_control": {
     "group": 0
    }
   },
   "outputs": [],
   "source": [
    "point_data = grid.point_data\n",
    "point_data.scalars = np.sqrt(np.sum(point_data.vectors.to_array()**2, axis=-1))"
   ]
  },
  {
   "cell_type": "markdown",
   "metadata": {},
   "source": [
    "> **TIP**\n",
    "\n",
    "> `grid`是資料集物件，而`vnorm`為`Algorithm`物件。為了讓程式相容這兩種不同的輸入型態，可以使用`tvtk.common.configure_input()`。"
   ]
  },
  {
   "cell_type": "code",
   "execution_count": 78,
   "metadata": {
    "collapsed": true,
    "group_control": {
     "group": 0
    }
   },
   "outputs": [],
   "source": [
    "vnorm = tvtk.VectorNorm()\n",
    "vnorm.set_input_data(grid)"
   ]
  },
  {
   "cell_type": "markdown",
   "metadata": {},
   "source": [
    "### 計算圓柱的相貫線"
   ]
  },
  {
   "cell_type": "markdown",
   "metadata": {},
   "source": [
    "> **SOURCE**\n",
    "\n",
    "> `scpy2.tvtk.example_tube_intersection`：計算兩個圓管的相貫線，可透過界面中的滑動區塊控制項修改圓管的內徑和外徑。"
   ]
  },
  {
   "cell_type": "code",
   "execution_count": 83,
   "metadata": {
    "collapsed": true,
    "group_control": {
     "group": 0
    }
   },
   "outputs": [],
   "source": [
    "#%hide\n",
    "%exec_python -m scpy2.tvtk.example_tube_intersection"
   ]
  },
  {
   "cell_type": "code",
   "execution_count": 73,
   "metadata": {
    "collapsed": false,
    "group_control": {
     "group": 0
    }
   },
   "outputs": [
    {
     "data": {
      "image/svg+xml": [
       "<?xml version=\"1.0\" encoding=\"UTF-8\" standalone=\"no\"?>\r\n",
       "<!DOCTYPE svg PUBLIC \"-//W3C//DTD SVG 1.1//EN\"\r\n",
       " \"http://www.w3.org/Graphics/SVG/1.1/DTD/svg11.dtd\">\r\n",
       "<!-- Generated by graphviz version 2.36.0 (20140111.2315)\r\n",
       " -->\r\n",
       "<!-- Title: structs Pages: 1 -->\r\n",
       "<svg width=\"656pt\" height=\"211pt\"\r\n",
       " viewBox=\"0.00 0.00 656.00 211.00\" xmlns=\"http://www.w3.org/2000/svg\" xmlns:xlink=\"http://www.w3.org/1999/xlink\">\r\n",
       "<g id=\"graph0\" class=\"graph\" transform=\"scale(1 1) rotate(0) translate(4 207)\">\r\n",
       "<title>structs</title>\r\n",
       "<polygon fill=\"white\" stroke=\"none\" points=\"-4,4 -4,-207 652,-207 652,4 -4,4\"/>\r\n",
       "<!-- CylinderSource -->\r\n",
       "<g id=\"node1\" class=\"node\"><title>CylinderSource</title>\r\n",
       "<polygon fill=\"lightgrey\" stroke=\"black\" points=\"0,-165 0,-203 104,-203 104,-165 0,-165\"/>\r\n",
       "<text text-anchor=\"middle\" x=\"52\" y=\"-187.8\" font-family=\"Times New Roman,serif\" font-size=\"14.00\">CylinderSource</text>\r\n",
       "<text text-anchor=\"middle\" x=\"52\" y=\"-172.8\" font-family=\"Times New Roman,serif\" font-size=\"14.00\">(outer)</text>\r\n",
       "</g>\r\n",
       "<!-- TriangleFilter -->\r\n",
       "<g id=\"node2\" class=\"node\"><title>TriangleFilter</title>\r\n",
       "<polygon fill=\"lightgrey\" stroke=\"black\" points=\"142,-166 142,-202 232,-202 232,-166 142,-166\"/>\r\n",
       "<text text-anchor=\"middle\" x=\"187\" y=\"-180.3\" font-family=\"Times New Roman,serif\" font-size=\"14.00\">TriangleFilter</text>\r\n",
       "</g>\r\n",
       "<!-- CylinderSource&#45;&gt;TriangleFilter -->\r\n",
       "<g id=\"edge1\" class=\"edge\"><title>CylinderSource&#45;&gt;TriangleFilter</title>\r\n",
       "<path fill=\"none\" stroke=\"black\" stroke-width=\"2\" d=\"M104.041,-184C113.089,-184 122.541,-184 131.676,-184\"/>\r\n",
       "<polygon fill=\"black\" stroke=\"black\" stroke-width=\"2\" points=\"131.817,-187.5 141.817,-184 131.817,-180.5 131.817,-187.5\"/>\r\n",
       "</g>\r\n",
       "<!-- TransformFilter -->\r\n",
       "<g id=\"node3\" class=\"node\"><title>TransformFilter</title>\r\n",
       "<polygon fill=\"lightgrey\" stroke=\"black\" points=\"308,-111 308,-147 412,-147 412,-111 308,-111\"/>\r\n",
       "<text text-anchor=\"middle\" x=\"360\" y=\"-125.3\" font-family=\"Times New Roman,serif\" font-size=\"14.00\">TransformFilter</text>\r\n",
       "</g>\r\n",
       "<!-- TriangleFilter&#45;&gt;TransformFilter -->\r\n",
       "<g id=\"edge2\" class=\"edge\"><title>TriangleFilter&#45;&gt;TransformFilter</title>\r\n",
       "<path fill=\"none\" stroke=\"black\" stroke-width=\"2\" d=\"M232.037,-169.836C252.208,-163.348 276.441,-155.554 298.305,-148.522\"/>\r\n",
       "<polygon fill=\"black\" stroke=\"black\" stroke-width=\"2\" points=\"299.388,-151.85 307.836,-145.456 297.244,-145.186 299.388,-151.85\"/>\r\n",
       "</g>\r\n",
       "<!-- BooleanOperationPolyDataFilter -->\r\n",
       "<g id=\"node5\" class=\"node\"><title>BooleanOperationPolyDataFilter</title>\r\n",
       "<polygon fill=\"lightgrey\" stroke=\"black\" points=\"450.5,-86 450.5,-124 647.5,-124 647.5,-86 450.5,-86\"/>\r\n",
       "<text text-anchor=\"middle\" x=\"549\" y=\"-108.8\" font-family=\"Times New Roman,serif\" font-size=\"14.00\">BooleanOperationPolyDataFilter</text>\r\n",
       "<text text-anchor=\"middle\" x=\"549\" y=\"-93.8\" font-family=\"Times New Roman,serif\" font-size=\"14.00\">(difference)</text>\r\n",
       "</g>\r\n",
       "<!-- TransformFilter&#45;&gt;BooleanOperationPolyDataFilter -->\r\n",
       "<g id=\"edge4\" class=\"edge\"><title>TransformFilter&#45;&gt;BooleanOperationPolyDataFilter</title>\r\n",
       "<path fill=\"none\" stroke=\"black\" stroke-width=\"2\" d=\"M412.099,-122.442C420.927,-121.309 430.396,-120.094 440.075,-118.851\"/>\r\n",
       "<polygon fill=\"black\" stroke=\"black\" stroke-width=\"2\" points=\"440.748,-122.294 450.221,-117.549 439.857,-115.351 440.748,-122.294\"/>\r\n",
       "</g>\r\n",
       "<!-- Transform -->\r\n",
       "<g id=\"node4\" class=\"node\"><title>Transform</title>\r\n",
       "<polygon fill=\"lightgrey\" stroke=\"black\" points=\"149,-111 149,-147 225,-147 225,-111 149,-111\"/>\r\n",
       "<text text-anchor=\"middle\" x=\"187\" y=\"-125.3\" font-family=\"Times New Roman,serif\" font-size=\"14.00\">Transform</text>\r\n",
       "</g>\r\n",
       "<!-- Transform&#45;&gt;TransformFilter -->\r\n",
       "<g id=\"edge3\" class=\"edge\"><title>Transform&#45;&gt;TransformFilter</title>\r\n",
       "<path fill=\"none\" stroke=\"black\" d=\"M225.104,-129C246.248,-129 273.279,-129 297.51,-129\"/>\r\n",
       "<polygon fill=\"black\" stroke=\"black\" points=\"297.698,-132.5 307.698,-129 297.698,-125.5 297.698,-132.5\"/>\r\n",
       "<text text-anchor=\"middle\" x=\"270\" y=\"-132\" font-family=\"Times New Roman,serif\" font-size=\"10.00\">transform</text>\r\n",
       "</g>\r\n",
       "<!-- CylinderSource2 -->\r\n",
       "<g id=\"node6\" class=\"node\"><title>CylinderSource2</title>\r\n",
       "<polygon fill=\"lightgrey\" stroke=\"black\" points=\"0,-0 0,-38 104,-38 104,-0 0,-0\"/>\r\n",
       "<text text-anchor=\"middle\" x=\"52\" y=\"-22.8\" font-family=\"Times New Roman,serif\" font-size=\"14.00\">CylinderSource</text>\r\n",
       "<text text-anchor=\"middle\" x=\"52\" y=\"-7.8\" font-family=\"Times New Roman,serif\" font-size=\"14.00\">(inner)</text>\r\n",
       "</g>\r\n",
       "<!-- TriangleFilter2 -->\r\n",
       "<g id=\"node7\" class=\"node\"><title>TriangleFilter2</title>\r\n",
       "<polygon fill=\"lightgrey\" stroke=\"black\" points=\"142,-1 142,-37 232,-37 232,-1 142,-1\"/>\r\n",
       "<text text-anchor=\"middle\" x=\"187\" y=\"-15.3\" font-family=\"Times New Roman,serif\" font-size=\"14.00\">TriangleFilter</text>\r\n",
       "</g>\r\n",
       "<!-- CylinderSource2&#45;&gt;TriangleFilter2 -->\r\n",
       "<g id=\"edge5\" class=\"edge\"><title>CylinderSource2&#45;&gt;TriangleFilter2</title>\r\n",
       "<path fill=\"none\" stroke=\"black\" stroke-width=\"2\" d=\"M104.041,-19C113.089,-19 122.541,-19 131.676,-19\"/>\r\n",
       "<polygon fill=\"black\" stroke=\"black\" stroke-width=\"2\" points=\"131.817,-22.5001 141.817,-19 131.817,-15.5001 131.817,-22.5001\"/>\r\n",
       "</g>\r\n",
       "<!-- TransformFilter2 -->\r\n",
       "<g id=\"node8\" class=\"node\"><title>TransformFilter2</title>\r\n",
       "<polygon fill=\"lightgrey\" stroke=\"black\" points=\"308,-56 308,-92 412,-92 412,-56 308,-56\"/>\r\n",
       "<text text-anchor=\"middle\" x=\"360\" y=\"-70.3\" font-family=\"Times New Roman,serif\" font-size=\"14.00\">TransformFilter</text>\r\n",
       "</g>\r\n",
       "<!-- TriangleFilter2&#45;&gt;TransformFilter2 -->\r\n",
       "<g id=\"edge6\" class=\"edge\"><title>TriangleFilter2&#45;&gt;TransformFilter2</title>\r\n",
       "<path fill=\"none\" stroke=\"black\" stroke-width=\"2\" d=\"M232.037,-33.1639C252.208,-39.6516 276.441,-47.446 298.305,-54.4784\"/>\r\n",
       "<polygon fill=\"black\" stroke=\"black\" stroke-width=\"2\" points=\"297.244,-57.8135 307.836,-57.5436 299.388,-51.1497 297.244,-57.8135\"/>\r\n",
       "</g>\r\n",
       "<!-- TransformFilter2&#45;&gt;BooleanOperationPolyDataFilter -->\r\n",
       "<g id=\"edge8\" class=\"edge\"><title>TransformFilter2&#45;&gt;BooleanOperationPolyDataFilter</title>\r\n",
       "<path fill=\"none\" stroke=\"black\" stroke-width=\"2\" d=\"M412.099,-82.4709C420.927,-83.9344 430.396,-85.5041 440.075,-87.1087\"/>\r\n",
       "<polygon fill=\"black\" stroke=\"black\" stroke-width=\"2\" points=\"439.783,-90.608 450.221,-88.7907 440.928,-83.7023 439.783,-90.608\"/>\r\n",
       "</g>\r\n",
       "<!-- Transform2 -->\r\n",
       "<g id=\"node9\" class=\"node\"><title>Transform2</title>\r\n",
       "<polygon fill=\"lightgrey\" stroke=\"black\" points=\"149,-56 149,-92 225,-92 225,-56 149,-56\"/>\r\n",
       "<text text-anchor=\"middle\" x=\"187\" y=\"-70.3\" font-family=\"Times New Roman,serif\" font-size=\"14.00\">Transform</text>\r\n",
       "</g>\r\n",
       "<!-- Transform2&#45;&gt;TransformFilter2 -->\r\n",
       "<g id=\"edge7\" class=\"edge\"><title>Transform2&#45;&gt;TransformFilter2</title>\r\n",
       "<path fill=\"none\" stroke=\"black\" d=\"M225.104,-74C246.248,-74 273.279,-74 297.51,-74\"/>\r\n",
       "<polygon fill=\"black\" stroke=\"black\" points=\"297.698,-77.5001 307.698,-74 297.698,-70.5001 297.698,-77.5001\"/>\r\n",
       "<text text-anchor=\"middle\" x=\"270\" y=\"-77\" font-family=\"Times New Roman,serif\" font-size=\"10.00\">transform</text>\r\n",
       "</g>\r\n",
       "</g>\r\n",
       "</svg>\r\n"
      ]
     },
     "metadata": {},
     "output_type": "display_data"
    }
   ],
   "source": [
    "#%figonly=產生圓管的管線\n",
    "graph = u\"\"\"\n",
    "digraph structs {\n",
    "rankdir=\"LR\";        \n",
    "node [shape=record,style=filled];\n",
    "edge [fontsize=10, penwidth=2.0];\n",
    "CylinderSource[label=\"CylinderSource\\n(outer)\"];\n",
    "CylinderSource -> TriangleFilter;\n",
    "TriangleFilter -> TransformFilter;\n",
    "Transform -> TransformFilter [label=\"transform\", penwidth=1.0];\n",
    "TransformFilter -> BooleanOperationPolyDataFilter;\n",
    "BooleanOperationPolyDataFilter[label=\"BooleanOperationPolyDataFilter\\n(difference)\"];\n",
    "\n",
    "CylinderSource2[label=\"CylinderSource\\n(inner)\"];\n",
    "TriangleFilter2[label=TriangleFilter];\n",
    "TransformFilter2[label=TransformFilter];\n",
    "Transform2[label=Transform];\n",
    "CylinderSource2 -> TriangleFilter2;\n",
    "TriangleFilter2 -> TransformFilter2;\n",
    "Transform2 -> TransformFilter2 [label=\"transform\", penwidth=1.0];\n",
    "TransformFilter2 -> BooleanOperationPolyDataFilter;\n",
    "\n",
    "//BooleanOperationPolyDataFilter -> Tube;\n",
    "}\n",
    "\"\"\"\n",
    "%dot graph"
   ]
  },
  {
   "cell_type": "code",
   "execution_count": 9,
   "metadata": {
    "collapsed": false,
    "group_control": {
     "group": 0
    }
   },
   "outputs": [],
   "source": [
    "def make_tube(height, radius, resolution, rx=0, ry=0, rz=0):\n",
    "    cs1 = tvtk.CylinderSource(height=height, radius=radius[0], resolution=resolution) #❶\n",
    "    cs2 = tvtk.CylinderSource(height=height+0.1, radius=radius[1], resolution=resolution)    \n",
    "    triangle1 = tvtk.TriangleFilter(input_connection=cs1.output_port) #❷\n",
    "    triangle2 = tvtk.TriangleFilter(input_connection=cs2.output_port)\n",
    "    tr = tvtk.Transform()\n",
    "    tr.rotate_x(rx)\n",
    "    tr.rotate_y(ry)\n",
    "    tr.rotate_z(rz)\n",
    "    tf1 = tvtk.TransformFilter(transform=tr, input_connection=triangle1.output_port)   #❸\n",
    "    tf2 = tvtk.TransformFilter(transform=tr, input_connection=triangle2.output_port)   \n",
    "    bf = tvtk.BooleanOperationPolyDataFilter() #❹\n",
    "    bf.operation = \"difference\"\n",
    "    bf.set_input_connection(0, tf1.output_port)\n",
    "    bf.set_input_connection(1, tf2.output_port)\n",
    "    m = tvtk.PolyDataMapper(input_connection=bf.output_port, scalar_visibility=False)\n",
    "    a = tvtk.Actor(mapper=m)\n",
    "    a.property.color = 0.7, 0.7, 0.7\n",
    "    return bf, a, tf1, tf2\n",
    "\n",
    "tube1, tube1_actor, tube1_outer, tube1_inner = make_tube(5, [1, 0.8], 32)\n",
    "tube2, tube2_actor, tube2_outer, tube2_inner = make_tube(5, [0.7, 0.55], 32, rx=90)\n",
    "\n",
    "win = ivtk_scene([tube1_actor, tube2_actor])\n",
    "win.scene.isometric_view()"
   ]
  },
  {
   "cell_type": "code",
   "execution_count": 1,
   "metadata": {
    "collapsed": false,
    "group_control": {
     "group": 0
    }
   },
   "outputs": [
    {
     "data": {
      "image/svg+xml": [
       "<?xml version=\"1.0\" encoding=\"UTF-8\" standalone=\"no\"?>\r\n",
       "<!DOCTYPE svg PUBLIC \"-//W3C//DTD SVG 1.1//EN\"\r\n",
       " \"http://www.w3.org/Graphics/SVG/1.1/DTD/svg11.dtd\">\r\n",
       "<!-- Generated by graphviz version 2.38.0 (20140413.2041)\r\n",
       " -->\r\n",
       "<!-- Title: structs Pages: 1 -->\r\n",
       "<svg width=\"715pt\" height=\"210pt\"\r\n",
       " viewBox=\"0.00 0.00 715.00 210.00\" xmlns=\"http://www.w3.org/2000/svg\" xmlns:xlink=\"http://www.w3.org/1999/xlink\">\r\n",
       "<g id=\"graph0\" class=\"graph\" transform=\"scale(1 1) rotate(0) translate(4 206)\">\r\n",
       "<title>structs</title>\r\n",
       "<polygon fill=\"white\" stroke=\"none\" points=\"-4,4 -4,-206 711,-206 711,4 -4,4\"/>\r\n",
       "<!-- tube1 -->\r\n",
       "<g id=\"node1\" class=\"node\"><title>tube1</title>\r\n",
       "<polygon fill=\"lightgrey\" stroke=\"black\" points=\"14,-110.5 14,-146.5 68,-146.5 68,-110.5 14,-110.5\"/>\r\n",
       "<text text-anchor=\"middle\" x=\"41\" y=\"-124.8\" font-family=\"Times New Roman,serif\" font-size=\"14.00\">tube1</text>\r\n",
       "</g>\r\n",
       "<!-- BooleanOperationPolyDataFilter -->\r\n",
       "<g id=\"node2\" class=\"node\"><title>BooleanOperationPolyDataFilter</title>\r\n",
       "<polygon fill=\"lightgrey\" stroke=\"black\" points=\"118,-137.5 118,-173.5 380,-173.5 380,-137.5 118,-137.5\"/>\r\n",
       "<text text-anchor=\"middle\" x=\"249\" y=\"-151.8\" font-family=\"Times New Roman,serif\" font-size=\"14.00\">BooleanOperationPolyDataFilter(difference)</text>\r\n",
       "</g>\r\n",
       "<!-- tube1&#45;&gt;BooleanOperationPolyDataFilter -->\r\n",
       "<g id=\"edge1\" class=\"edge\"><title>tube1&#45;&gt;BooleanOperationPolyDataFilter</title>\r\n",
       "<path fill=\"none\" stroke=\"black\" stroke-width=\"2\" d=\"M68.09,-131.92C79.1026,-133.363 92.8405,-135.164 107.786,-137.122\"/>\r\n",
       "<polygon fill=\"black\" stroke=\"black\" stroke-width=\"2\" points=\"107.395,-140.601 117.765,-138.43 108.305,-133.66 107.395,-140.601\"/>\r\n",
       "</g>\r\n",
       "<!-- IntersectionPolyDataFilter -->\r\n",
       "<g id=\"node7\" class=\"node\"><title>IntersectionPolyDataFilter</title>\r\n",
       "<polygon fill=\"lightgrey\" stroke=\"black\" points=\"168.5,-82.5 168.5,-118.5 329.5,-118.5 329.5,-82.5 168.5,-82.5\"/>\r\n",
       "<text text-anchor=\"middle\" x=\"249\" y=\"-96.8\" font-family=\"Times New Roman,serif\" font-size=\"14.00\">IntersectionPolyDataFilter</text>\r\n",
       "</g>\r\n",
       "<!-- tube1&#45;&gt;IntersectionPolyDataFilter -->\r\n",
       "<g id=\"edge5\" class=\"edge\"><title>tube1&#45;&gt;IntersectionPolyDataFilter</title>\r\n",
       "<path fill=\"none\" stroke=\"black\" stroke-width=\"2\" d=\"M68.09,-124.954C90.9509,-121.846 125.556,-117.143 158.329,-112.688\"/>\r\n",
       "<polygon fill=\"black\" stroke=\"black\" stroke-width=\"2\" points=\"158.989,-116.131 168.426,-111.316 158.046,-109.195 158.989,-116.131\"/>\r\n",
       "</g>\r\n",
       "<!-- PolyDataMapper1 -->\r\n",
       "<g id=\"node8\" class=\"node\"><title>PolyDataMapper1</title>\r\n",
       "<polygon fill=\"lightgrey\" stroke=\"black\" points=\"416,-137.5 416,-173.5 527,-173.5 527,-137.5 416,-137.5\"/>\r\n",
       "<text text-anchor=\"middle\" x=\"471.5\" y=\"-151.8\" font-family=\"Times New Roman,serif\" font-size=\"14.00\">PolyDataMapper</text>\r\n",
       "</g>\r\n",
       "<!-- BooleanOperationPolyDataFilter&#45;&gt;PolyDataMapper1 -->\r\n",
       "<g id=\"edge7\" class=\"edge\"><title>BooleanOperationPolyDataFilter&#45;&gt;PolyDataMapper1</title>\r\n",
       "<path fill=\"none\" stroke=\"black\" stroke-width=\"2\" d=\"M380.178,-155.5C388.963,-155.5 397.573,-155.5 405.776,-155.5\"/>\r\n",
       "<polygon fill=\"black\" stroke=\"black\" stroke-width=\"2\" points=\"405.93,-159 415.93,-155.5 405.93,-152 405.93,-159\"/>\r\n",
       "</g>\r\n",
       "<!-- tube2_inner -->\r\n",
       "<g id=\"node3\" class=\"node\"><title>tube2_inner</title>\r\n",
       "<polygon fill=\"lightgrey\" stroke=\"black\" points=\"0,-165.5 0,-201.5 82,-201.5 82,-165.5 0,-165.5\"/>\r\n",
       "<text text-anchor=\"middle\" x=\"41\" y=\"-179.8\" font-family=\"Times New Roman,serif\" font-size=\"14.00\">tube2_inner</text>\r\n",
       "</g>\r\n",
       "<!-- tube2_inner&#45;&gt;BooleanOperationPolyDataFilter -->\r\n",
       "<g id=\"edge2\" class=\"edge\"><title>tube2_inner&#45;&gt;BooleanOperationPolyDataFilter</title>\r\n",
       "<path fill=\"none\" stroke=\"black\" stroke-width=\"2\" d=\"M82.2079,-178.035C90.0328,-176.971 98.6395,-175.801 107.691,-174.571\"/>\r\n",
       "<polygon fill=\"black\" stroke=\"black\" stroke-width=\"2\" points=\"108.233,-178.03 117.671,-173.215 107.29,-171.093 108.233,-178.03\"/>\r\n",
       "</g>\r\n",
       "<!-- tube2 -->\r\n",
       "<g id=\"node4\" class=\"node\"><title>tube2</title>\r\n",
       "<polygon fill=\"lightgrey\" stroke=\"black\" points=\"14,-55.5 14,-91.5 68,-91.5 68,-55.5 14,-55.5\"/>\r\n",
       "<text text-anchor=\"middle\" x=\"41\" y=\"-69.8\" font-family=\"Times New Roman,serif\" font-size=\"14.00\">tube2</text>\r\n",
       "</g>\r\n",
       "<!-- BooleanOperationPolyDataFilter2 -->\r\n",
       "<g id=\"node5\" class=\"node\"><title>BooleanOperationPolyDataFilter2</title>\r\n",
       "<polygon fill=\"lightgrey\" stroke=\"black\" points=\"118,-27.5 118,-63.5 380,-63.5 380,-27.5 118,-27.5\"/>\r\n",
       "<text text-anchor=\"middle\" x=\"249\" y=\"-41.8\" font-family=\"Times New Roman,serif\" font-size=\"14.00\">BooleanOperationPolyDataFilter(difference)</text>\r\n",
       "</g>\r\n",
       "<!-- tube2&#45;&gt;BooleanOperationPolyDataFilter2 -->\r\n",
       "<g id=\"edge3\" class=\"edge\"><title>tube2&#45;&gt;BooleanOperationPolyDataFilter2</title>\r\n",
       "<path fill=\"none\" stroke=\"black\" stroke-width=\"2\" d=\"M68.09,-69.9538C79.1026,-68.4569 92.8405,-66.5896 107.786,-64.5582\"/>\r\n",
       "<polygon fill=\"black\" stroke=\"black\" stroke-width=\"2\" points=\"108.328,-68.0168 117.765,-63.2018 107.385,-61.0806 108.328,-68.0168\"/>\r\n",
       "</g>\r\n",
       "<!-- tube2&#45;&gt;IntersectionPolyDataFilter -->\r\n",
       "<g id=\"edge6\" class=\"edge\"><title>tube2&#45;&gt;IntersectionPolyDataFilter</title>\r\n",
       "<path fill=\"none\" stroke=\"black\" stroke-width=\"2\" d=\"M68.09,-76.9196C90.9509,-79.9159 125.556,-84.4515 158.329,-88.747\"/>\r\n",
       "<polygon fill=\"black\" stroke=\"black\" stroke-width=\"2\" points=\"158.056,-92.2411 168.426,-90.0705 158.966,-85.3005 158.056,-92.2411\"/>\r\n",
       "</g>\r\n",
       "<!-- PolyDataMapper3 -->\r\n",
       "<g id=\"node10\" class=\"node\"><title>PolyDataMapper3</title>\r\n",
       "<polygon fill=\"lightgrey\" stroke=\"black\" points=\"416,-27.5 416,-63.5 527,-63.5 527,-27.5 416,-27.5\"/>\r\n",
       "<text text-anchor=\"middle\" x=\"471.5\" y=\"-41.8\" font-family=\"Times New Roman,serif\" font-size=\"14.00\">PolyDataMapper</text>\r\n",
       "</g>\r\n",
       "<!-- BooleanOperationPolyDataFilter2&#45;&gt;PolyDataMapper3 -->\r\n",
       "<g id=\"edge9\" class=\"edge\"><title>BooleanOperationPolyDataFilter2&#45;&gt;PolyDataMapper3</title>\r\n",
       "<path fill=\"none\" stroke=\"black\" stroke-width=\"2\" d=\"M380.178,-45.5C388.963,-45.5 397.573,-45.5 405.776,-45.5\"/>\r\n",
       "<polygon fill=\"black\" stroke=\"black\" stroke-width=\"2\" points=\"405.93,-49.0001 415.93,-45.5 405.93,-42.0001 405.93,-49.0001\"/>\r\n",
       "</g>\r\n",
       "<!-- tube1_inner -->\r\n",
       "<g id=\"node6\" class=\"node\"><title>tube1_inner</title>\r\n",
       "<polygon fill=\"lightgrey\" stroke=\"black\" points=\"0,-0.5 0,-36.5 82,-36.5 82,-0.5 0,-0.5\"/>\r\n",
       "<text text-anchor=\"middle\" x=\"41\" y=\"-14.8\" font-family=\"Times New Roman,serif\" font-size=\"14.00\">tube1_inner</text>\r\n",
       "</g>\r\n",
       "<!-- tube1_inner&#45;&gt;BooleanOperationPolyDataFilter2 -->\r\n",
       "<g id=\"edge4\" class=\"edge\"><title>tube1_inner&#45;&gt;BooleanOperationPolyDataFilter2</title>\r\n",
       "<path fill=\"none\" stroke=\"black\" stroke-width=\"2\" d=\"M82.2079,-23.77C90.0328,-24.7956 98.6395,-25.9236 107.691,-27.1099\"/>\r\n",
       "<polygon fill=\"black\" stroke=\"black\" stroke-width=\"2\" points=\"107.3,-30.5887 117.671,-28.418 108.21,-23.648 107.3,-30.5887\"/>\r\n",
       "</g>\r\n",
       "<!-- PolyDataMapper2 -->\r\n",
       "<g id=\"node9\" class=\"node\"><title>PolyDataMapper2</title>\r\n",
       "<polygon fill=\"lightgrey\" stroke=\"black\" points=\"416,-82.5 416,-118.5 527,-118.5 527,-82.5 416,-82.5\"/>\r\n",
       "<text text-anchor=\"middle\" x=\"471.5\" y=\"-96.8\" font-family=\"Times New Roman,serif\" font-size=\"14.00\">PolyDataMapper</text>\r\n",
       "</g>\r\n",
       "<!-- IntersectionPolyDataFilter&#45;&gt;PolyDataMapper2 -->\r\n",
       "<g id=\"edge8\" class=\"edge\"><title>IntersectionPolyDataFilter&#45;&gt;PolyDataMapper2</title>\r\n",
       "<path fill=\"none\" stroke=\"black\" stroke-width=\"2\" d=\"M329.606,-100.5C354.647,-100.5 381.98,-100.5 405.851,-100.5\"/>\r\n",
       "<polygon fill=\"black\" stroke=\"black\" stroke-width=\"2\" points=\"405.853,-104 415.853,-100.5 405.853,-97.0001 405.853,-104\"/>\r\n",
       "</g>\r\n",
       "<!-- Actor1 -->\r\n",
       "<g id=\"node11\" class=\"node\"><title>Actor1</title>\r\n",
       "<polygon fill=\"lightgrey\" stroke=\"black\" points=\"563,-137.5 563,-173.5 617,-173.5 617,-137.5 563,-137.5\"/>\r\n",
       "<text text-anchor=\"middle\" x=\"590\" y=\"-151.8\" font-family=\"Times New Roman,serif\" font-size=\"14.00\">Actor</text>\r\n",
       "</g>\r\n",
       "<!-- PolyDataMapper1&#45;&gt;Actor1 -->\r\n",
       "<g id=\"edge10\" class=\"edge\"><title>PolyDataMapper1&#45;&gt;Actor1</title>\r\n",
       "<path fill=\"none\" stroke=\"black\" stroke-width=\"2\" d=\"M527.339,-155.5C535.956,-155.5 544.673,-155.5 552.733,-155.5\"/>\r\n",
       "<polygon fill=\"black\" stroke=\"black\" stroke-width=\"2\" points=\"552.885,-159 562.885,-155.5 552.885,-152 552.885,-159\"/>\r\n",
       "</g>\r\n",
       "<!-- Actor2 -->\r\n",
       "<g id=\"node12\" class=\"node\"><title>Actor2</title>\r\n",
       "<polygon fill=\"lightgrey\" stroke=\"black\" points=\"563,-82.5 563,-118.5 617,-118.5 617,-82.5 563,-82.5\"/>\r\n",
       "<text text-anchor=\"middle\" x=\"590\" y=\"-96.8\" font-family=\"Times New Roman,serif\" font-size=\"14.00\">Actor</text>\r\n",
       "</g>\r\n",
       "<!-- PolyDataMapper2&#45;&gt;Actor2 -->\r\n",
       "<g id=\"edge11\" class=\"edge\"><title>PolyDataMapper2&#45;&gt;Actor2</title>\r\n",
       "<path fill=\"none\" stroke=\"black\" stroke-width=\"2\" d=\"M527.339,-100.5C535.956,-100.5 544.673,-100.5 552.733,-100.5\"/>\r\n",
       "<polygon fill=\"black\" stroke=\"black\" stroke-width=\"2\" points=\"552.885,-104 562.885,-100.5 552.885,-97.0001 552.885,-104\"/>\r\n",
       "</g>\r\n",
       "<!-- Actor3 -->\r\n",
       "<g id=\"node13\" class=\"node\"><title>Actor3</title>\r\n",
       "<polygon fill=\"lightgrey\" stroke=\"black\" points=\"563,-27.5 563,-63.5 617,-63.5 617,-27.5 563,-27.5\"/>\r\n",
       "<text text-anchor=\"middle\" x=\"590\" y=\"-41.8\" font-family=\"Times New Roman,serif\" font-size=\"14.00\">Actor</text>\r\n",
       "</g>\r\n",
       "<!-- PolyDataMapper3&#45;&gt;Actor3 -->\r\n",
       "<g id=\"edge12\" class=\"edge\"><title>PolyDataMapper3&#45;&gt;Actor3</title>\r\n",
       "<path fill=\"none\" stroke=\"black\" stroke-width=\"2\" d=\"M527.339,-45.5C535.956,-45.5 544.673,-45.5 552.733,-45.5\"/>\r\n",
       "<polygon fill=\"black\" stroke=\"black\" stroke-width=\"2\" points=\"552.885,-49.0001 562.885,-45.5 552.885,-42.0001 552.885,-49.0001\"/>\r\n",
       "</g>\r\n",
       "<!-- Scene -->\r\n",
       "<g id=\"node14\" class=\"node\"><title>Scene</title>\r\n",
       "<polygon fill=\"lightgrey\" stroke=\"black\" points=\"653,-82.5 653,-118.5 707,-118.5 707,-82.5 653,-82.5\"/>\r\n",
       "<text text-anchor=\"middle\" x=\"680\" y=\"-96.8\" font-family=\"Times New Roman,serif\" font-size=\"14.00\">Scene</text>\r\n",
       "</g>\r\n",
       "<!-- Actor1&#45;&gt;Scene -->\r\n",
       "<g id=\"edge13\" class=\"edge\"><title>Actor1&#45;&gt;Scene</title>\r\n",
       "<path fill=\"none\" stroke=\"black\" stroke-width=\"2\" d=\"M617.403,-138.998C625.832,-133.73 635.293,-127.817 644.224,-122.235\"/>\r\n",
       "<polygon fill=\"black\" stroke=\"black\" stroke-width=\"2\" points=\"646.294,-125.069 652.919,-116.801 642.584,-119.133 646.294,-125.069\"/>\r\n",
       "</g>\r\n",
       "<!-- Actor2&#45;&gt;Scene -->\r\n",
       "<g id=\"edge14\" class=\"edge\"><title>Actor2&#45;&gt;Scene</title>\r\n",
       "<path fill=\"none\" stroke=\"black\" stroke-width=\"2\" d=\"M617.403,-100.5C625.393,-100.5 634.311,-100.5 642.824,-100.5\"/>\r\n",
       "<polygon fill=\"black\" stroke=\"black\" stroke-width=\"2\" points=\"642.919,-104 652.919,-100.5 642.919,-97.0001 642.919,-104\"/>\r\n",
       "</g>\r\n",
       "<!-- Actor3&#45;&gt;Scene -->\r\n",
       "<g id=\"edge15\" class=\"edge\"><title>Actor3&#45;&gt;Scene</title>\r\n",
       "<path fill=\"none\" stroke=\"black\" stroke-width=\"2\" d=\"M617.403,-62.0018C625.832,-67.2702 635.293,-73.1833 644.224,-78.7647\"/>\r\n",
       "<polygon fill=\"black\" stroke=\"black\" stroke-width=\"2\" points=\"642.584,-81.8673 652.919,-84.1994 646.294,-75.9313 642.584,-81.8673\"/>\r\n",
       "</g>\r\n",
       "</g>\r\n",
       "</svg>\r\n"
      ]
     },
     "metadata": {},
     "output_type": "display_data"
    }
   ],
   "source": [
    "#%figonly=計算相貫線的管線\n",
    "graph = \"\"\"\n",
    "digraph structs {\n",
    "rankdir=\"LR\";        \n",
    "node [shape=record,style=filled];\n",
    "edge [fontsize=10, penwidth=2.0];\n",
    "tube1 -> BooleanOperationPolyDataFilter;\n",
    "tube2_inner -> BooleanOperationPolyDataFilter;\n",
    "\n",
    "tube2 -> BooleanOperationPolyDataFilter2;\n",
    "tube1_inner -> BooleanOperationPolyDataFilter2;\n",
    "\n",
    "BooleanOperationPolyDataFilter[label=\"BooleanOperationPolyDataFilter\\n(difference)\"];\n",
    "BooleanOperationPolyDataFilter2[label=\"BooleanOperationPolyDataFilter\\n(difference)\"];\n",
    "\n",
    "tube1 -> IntersectionPolyDataFilter;\n",
    "tube2 -> IntersectionPolyDataFilter;\n",
    "\n",
    "BooleanOperationPolyDataFilter -> PolyDataMapper1;\n",
    "IntersectionPolyDataFilter -> PolyDataMapper2;\n",
    "BooleanOperationPolyDataFilter2 -> PolyDataMapper3;\n",
    "\n",
    "PolyDataMapper1[label=PolyDataMapper];\n",
    "PolyDataMapper2[label=PolyDataMapper];\n",
    "PolyDataMapper3[label=PolyDataMapper];\n",
    "\n",
    "PolyDataMapper1 -> Actor1;\n",
    "PolyDataMapper2 -> Actor2;\n",
    "PolyDataMapper3 -> Actor3;\n",
    "\n",
    "Actor1[label=Actor];\n",
    "Actor2[label=Actor];\n",
    "Actor3[label=Actor];\n",
    "\n",
    "Actor1 -> Scene;\n",
    "Actor2 -> Scene;\n",
    "Actor3 -> Scene;\n",
    "}\n",
    "\"\"\"\n",
    "%dot graph"
   ]
  },
  {
   "cell_type": "code",
   "execution_count": 10,
   "metadata": {
    "collapsed": false,
    "group_control": {
     "group": 0
    }
   },
   "outputs": [],
   "source": [
    "def difference(pd1, pd2):\n",
    "    bf = tvtk.BooleanOperationPolyDataFilter()\n",
    "    bf.operation = \"difference\"\n",
    "    bf.set_input_connection(0, pd1.output_port)\n",
    "    bf.set_input_connection(1, pd2.output_port)\n",
    "    m = tvtk.PolyDataMapper(input_connection=bf.output_port, scalar_visibility=False)\n",
    "    a = tvtk.Actor(mapper=m)\n",
    "    return bf, a\n",
    "\n",
    "def intersection(pd1, pd2, color=(1.0, 0, 0), width=2.0):\n",
    "    ipd = tvtk.IntersectionPolyDataFilter()\n",
    "    ipd.set_input_connection(0, pd1.output_port)\n",
    "    ipd.set_input_connection(1, pd2.output_port)\n",
    "    m = tvtk.PolyDataMapper(input_connection=ipd.output_port)\n",
    "    a = tvtk.Actor(mapper=m)\n",
    "    a.property.diffuse_color = 1.0, 0, 0 #❶\n",
    "    a.property.line_width = 2.0    \n",
    "    return ipd, a\n",
    "\n",
    "tube1_hole, tube1_hole_actor = difference(tube1, tube2_inner)\n",
    "tube2_hole, tube2_hole_actor = difference(tube2, tube1_inner)\n",
    "intersecting_line, intersecting_line_actor = intersection(tube1, tube2)\n",
    "\n",
    "tube1_hole_actor.property.opacity = 0.8\n",
    "tube2_hole_actor.property.opacity = 0.8\n",
    "tube1_hole_actor.property.color = 0.5, 0.5, 0.5\n",
    "tube2_hole_actor.property.color = 0.5, 0.5, 0.5\n",
    "\n",
    "win = ivtk_scene([tube1_hole_actor, tube2_hole_actor, intersecting_line_actor])\n",
    "win.scene.isometric_view()"
   ]
  },
  {
   "cell_type": "code",
   "execution_count": 87,
   "metadata": {
    "collapsed": false,
    "group_control": {
     "group": 0
    }
   },
   "outputs": [
    {
     "name": "stdout",
     "output_type": "stream",
     "text": [
      "1624\n",
      "1650\n"
     ]
    }
   ],
   "source": [
    "print intersecting_line.output.points.number_of_points\n",
    "print intersecting_line.output.lines.number_of_cells"
   ]
  },
  {
   "cell_type": "code",
   "execution_count": 11,
   "metadata": {
    "collapsed": false,
    "group_control": {
     "group": 0
    }
   },
   "outputs": [
    {
     "name": "stdout",
     "output_type": "stream",
     "text": [
      "[  1.60932541e-06   1.60932541e-06   1.66893005e-06   1.66893005e-06\n",
      "   3.23077305e-06   3.23077305e-06   3.23077305e-06   3.23077305e-06\n",
      "   3.72555819e-06   3.72555819e-06]\n"
     ]
    }
   ],
   "source": [
    "from scipy.spatial import distance\n",
    "\n",
    "dist = distance.squareform( distance.pdist(intersecting_line.output.points.to_array()) )\n",
    "dist[np.diag_indices(dist.shape[0])] = np.inf\n",
    "dist = dist.ravel()\n",
    "print np.sort(dist)[:10]"
   ]
  },
  {
   "cell_type": "code",
   "execution_count": 12,
   "metadata": {
    "collapsed": false,
    "group_control": {
     "group": 0
    }
   },
   "outputs": [
    {
     "data": {
      "text/plain": [
       "1578"
      ]
     },
     "execution_count": 12,
     "metadata": {},
     "output_type": "execute_result"
    }
   ],
   "source": [
    "cpd = tvtk.CleanPolyData(tolerance_is_absolute=True, \n",
    "                         absolute_tolerance=1e-5,\n",
    "                         input_connection=intersecting_line.output_port)\n",
    "cpd.update()\n",
    "cpd.output.points.number_of_points"
   ]
  },
  {
   "cell_type": "code",
   "execution_count": 13,
   "metadata": {
    "collapsed": false,
    "group_control": {
     "group": 0
    }
   },
   "outputs": [
    {
     "name": "stderr",
     "output_type": "stream",
     "text": [
      "C:\\WinPython-32bit-2.7.9.2\\python-2.7.9\\lib\\site-packages\\matplotlib\\font_manager.py:1282: UserWarning: findfont: Font family [u'WenQuanYi Micro Hei'] not found. Falling back to Bitstream Vera Sans\n",
      "  (prop.get_family(), self.defaultFamily[fontext]))\n"
     ]
    },
    {
     "data": {
      "image/svg+xml": [
       "<?xml version=\"1.0\" encoding=\"utf-8\" standalone=\"no\"?>\n",
       "<!DOCTYPE svg PUBLIC \"-//W3C//DTD SVG 1.1//EN\"\n",
       "  \"http://www.w3.org/Graphics/SVG/1.1/DTD/svg11.dtd\">\n",
       "<!-- Created with matplotlib (http://matplotlib.org/) -->\n",
       "<svg height=\"302pt\" version=\"1.1\" viewBox=\"0 0 293 302\" width=\"293pt\" xmlns=\"http://www.w3.org/2000/svg\" xmlns:xlink=\"http://www.w3.org/1999/xlink\">\n",
       " <defs>\n",
       "  <style type=\"text/css\">\n",
       "*{stroke-linecap:butt;stroke-linejoin:round;}\n",
       "  </style>\n",
       " </defs>\n",
       " <g id=\"figure_1\">\n",
       "  <g id=\"patch_1\">\n",
       "   <path d=\"\n",
       "M0 302.4\n",
       "L293.4 302.4\n",
       "L293.4 0\n",
       "L0 0\n",
       "z\n",
       "\" style=\"fill:#ffffff;\"/>\n",
       "  </g>\n",
       "  <g id=\"patch_2\">\n",
       "   <path d=\"\n",
       "M7.2 295.2\n",
       "L286.2 295.2\n",
       "L286.2 7.2\n",
       "L7.2 7.2\n",
       "z\n",
       "\" style=\"fill:#ffffff;\"/>\n",
       "  </g>\n",
       "  <g id=\"pane3d_1\">\n",
       "   <g id=\"patch_3\">\n",
       "    <path d=\"\n",
       "M44.1858 231.562\n",
       "L124.037 160.951\n",
       "L122.708 26.0249\n",
       "L38.4041 89.4675\" style=\"fill:#f2f2f2;opacity:0.5;stroke:#f2f2f2;stroke-linejoin:miter;\"/>\n",
       "   </g>\n",
       "  </g>\n",
       "  <g id=\"pane3d_2\">\n",
       "   <g id=\"patch_4\">\n",
       "    <path d=\"\n",
       "M124.037 160.951\n",
       "L253.389 200.427\n",
       "L258.8 61.4324\n",
       "L122.708 26.0249\" style=\"fill:#e6e6e6;opacity:0.5;stroke:#e6e6e6;stroke-linejoin:miter;\"/>\n",
       "   </g>\n",
       "  </g>\n",
       "  <g id=\"pane3d_3\">\n",
       "   <g id=\"patch_5\">\n",
       "    <path d=\"\n",
       "M44.1858 231.562\n",
       "L180.281 277.539\n",
       "L253.389 200.427\n",
       "L124.037 160.951\" style=\"fill:#ececec;opacity:0.5;stroke:#ececec;stroke-linejoin:miter;\"/>\n",
       "   </g>\n",
       "  </g>\n",
       "  <g id=\"axis3d_1\">\n",
       "   <g id=\"line2d_1\">\n",
       "    <path d=\"\n",
       "M44.1858 231.562\n",
       "L180.281 277.539\" style=\"fill:none;stroke:#000000;stroke-linecap:square;stroke-width:0.75;\"/>\n",
       "   </g>\n",
       "   <g id=\"Line3DCollection_1\">\n",
       "    <path d=\"\n",
       "M46.7884 232.441\n",
       "L126.519 161.708\n",
       "L125.313 26.7028\" style=\"fill:none;stroke:#e6e6e6;stroke-width:2.0;\"/>\n",
       "    <path d=\"\n",
       "M78.3869 243.116\n",
       "L156.625 170.896\n",
       "L156.938 34.9307\" style=\"fill:none;stroke:#e6e6e6;stroke-width:2.0;\"/>\n",
       "    <path d=\"\n",
       "M110.678 254.025\n",
       "L187.343 180.271\n",
       "L189.239 43.3345\" style=\"fill:none;stroke:#e6e6e6;stroke-width:2.0;\"/>\n",
       "    <path d=\"\n",
       "M143.686 265.176\n",
       "L218.692 189.838\n",
       "L222.238 51.9199\" style=\"fill:none;stroke:#e6e6e6;stroke-width:2.0;\"/>\n",
       "    <path d=\"\n",
       "M177.435 276.577\n",
       "L250.692 199.604\n",
       "L255.957 60.6927\" style=\"fill:none;stroke:#e6e6e6;stroke-width:2.0;\"/>\n",
       "   </g>\n",
       "   <g id=\"xtick_1\">\n",
       "    <g id=\"line2d_2\">\n",
       "     <path d=\"\n",
       "M47.4752 231.832\n",
       "L45.4122 233.662\" style=\"fill:none;stroke:#000000;stroke-linecap:square;stroke-width:2.0;\"/>\n",
       "    </g>\n",
       "    <g id=\"text_1\">\n",
       "     <!-- −1.0 -->\n",
       "     <defs>\n",
       "      <path d=\"\n",
       "M10.5938 35.5\n",
       "L73.1875 35.5\n",
       "L73.1875 27.2031\n",
       "L10.5938 27.2031\n",
       "z\n",
       "\" id=\"BitstreamVeraSans-Roman-2212\"/>\n",
       "      <path d=\"\n",
       "M31.7812 66.4062\n",
       "Q24.1719 66.4062 20.3281 58.9062\n",
       "Q16.5 51.4219 16.5 36.375\n",
       "Q16.5 21.3906 20.3281 13.8906\n",
       "Q24.1719 6.39062 31.7812 6.39062\n",
       "Q39.4531 6.39062 43.2812 13.8906\n",
       "Q47.125 21.3906 47.125 36.375\n",
       "Q47.125 51.4219 43.2812 58.9062\n",
       "Q39.4531 66.4062 31.7812 66.4062\n",
       "M31.7812 74.2188\n",
       "Q44.0469 74.2188 50.5156 64.5156\n",
       "Q56.9844 54.8281 56.9844 36.375\n",
       "Q56.9844 17.9688 50.5156 8.26562\n",
       "Q44.0469 -1.42188 31.7812 -1.42188\n",
       "Q19.5312 -1.42188 13.0625 8.26562\n",
       "Q6.59375 17.9688 6.59375 36.375\n",
       "Q6.59375 54.8281 13.0625 64.5156\n",
       "Q19.5312 74.2188 31.7812 74.2188\" id=\"BitstreamVeraSans-Roman-30\"/>\n",
       "      <path d=\"\n",
       "M12.4062 8.29688\n",
       "L28.5156 8.29688\n",
       "L28.5156 63.9219\n",
       "L10.9844 60.4062\n",
       "L10.9844 69.3906\n",
       "L28.4219 72.9062\n",
       "L38.2812 72.9062\n",
       "L38.2812 8.29688\n",
       "L54.3906 8.29688\n",
       "L54.3906 0\n",
       "L12.4062 0\n",
       "z\n",
       "\" id=\"BitstreamVeraSans-Roman-31\"/>\n",
       "      <path d=\"\n",
       "M10.6875 12.4062\n",
       "L21 12.4062\n",
       "L21 0\n",
       "L10.6875 0\n",
       "z\n",
       "\" id=\"BitstreamVeraSans-Roman-2e\"/>\n",
       "     </defs>\n",
       "     <g transform=\"translate(30.9957488763 251.872719461)scale(0.09996 -0.09996)\">\n",
       "      <use xlink:href=\"#BitstreamVeraSans-Roman-2212\"/>\n",
       "      <use x=\"83.7890625\" xlink:href=\"#BitstreamVeraSans-Roman-31\"/>\n",
       "      <use x=\"147.412109375\" xlink:href=\"#BitstreamVeraSans-Roman-2e\"/>\n",
       "      <use x=\"179.19921875\" xlink:href=\"#BitstreamVeraSans-Roman-30\"/>\n",
       "     </g>\n",
       "    </g>\n",
       "   </g>\n",
       "   <g id=\"xtick_2\">\n",
       "    <g id=\"line2d_3\">\n",
       "     <path d=\"\n",
       "M79.0614 242.494\n",
       "L77.0353 244.364\" style=\"fill:none;stroke:#000000;stroke-linecap:square;stroke-width:2.0;\"/>\n",
       "    </g>\n",
       "    <g id=\"text_2\">\n",
       "     <!-- −0.5 -->\n",
       "     <defs>\n",
       "      <path d=\"\n",
       "M10.7969 72.9062\n",
       "L49.5156 72.9062\n",
       "L49.5156 64.5938\n",
       "L19.8281 64.5938\n",
       "L19.8281 46.7344\n",
       "Q21.9688 47.4688 24.1094 47.8281\n",
       "Q26.2656 48.1875 28.4219 48.1875\n",
       "Q40.625 48.1875 47.75 41.5\n",
       "Q54.8906 34.8125 54.8906 23.3906\n",
       "Q54.8906 11.625 47.5625 5.09375\n",
       "Q40.2344 -1.42188 26.9062 -1.42188\n",
       "Q22.3125 -1.42188 17.5469 -0.640625\n",
       "Q12.7969 0.140625 7.71875 1.70312\n",
       "L7.71875 11.625\n",
       "Q12.1094 9.23438 16.7969 8.0625\n",
       "Q21.4844 6.89062 26.7031 6.89062\n",
       "Q35.1562 6.89062 40.0781 11.3281\n",
       "Q45.0156 15.7656 45.0156 23.3906\n",
       "Q45.0156 31 40.0781 35.4375\n",
       "Q35.1562 39.8906 26.7031 39.8906\n",
       "Q22.75 39.8906 18.8125 39.0156\n",
       "Q14.8906 38.1406 10.7969 36.2812\n",
       "z\n",
       "\" id=\"BitstreamVeraSans-Roman-35\"/>\n",
       "     </defs>\n",
       "     <g transform=\"translate(62.6960463014 262.691702649)scale(0.09996 -0.09996)\">\n",
       "      <use xlink:href=\"#BitstreamVeraSans-Roman-2212\"/>\n",
       "      <use x=\"83.7890625\" xlink:href=\"#BitstreamVeraSans-Roman-30\"/>\n",
       "      <use x=\"147.412109375\" xlink:href=\"#BitstreamVeraSans-Roman-2e\"/>\n",
       "      <use x=\"179.19921875\" xlink:href=\"#BitstreamVeraSans-Roman-35\"/>\n",
       "     </g>\n",
       "    </g>\n",
       "   </g>\n",
       "   <g id=\"xtick_3\">\n",
       "    <g id=\"line2d_4\">\n",
       "     <path d=\"\n",
       "M111.34 253.389\n",
       "L109.353 255.3\" style=\"fill:none;stroke:#000000;stroke-linecap:square;stroke-width:2.0;\"/>\n",
       "    </g>\n",
       "    <g id=\"text_3\">\n",
       "     <!-- 0.0 -->\n",
       "     <g transform=\"translate(98.86941644 273.748365091)scale(0.09996 -0.09996)\">\n",
       "      <use xlink:href=\"#BitstreamVeraSans-Roman-30\"/>\n",
       "      <use x=\"63.623046875\" xlink:href=\"#BitstreamVeraSans-Roman-2e\"/>\n",
       "      <use x=\"95.41015625\" xlink:href=\"#BitstreamVeraSans-Roman-30\"/>\n",
       "     </g>\n",
       "    </g>\n",
       "   </g>\n",
       "   <g id=\"xtick_4\">\n",
       "    <g id=\"line2d_5\">\n",
       "     <path d=\"\n",
       "M144.334 264.525\n",
       "L142.389 266.479\" style=\"fill:none;stroke:#000000;stroke-linecap:square;stroke-width:2.0;\"/>\n",
       "    </g>\n",
       "    <g id=\"text_4\">\n",
       "     <!-- 0.5 -->\n",
       "     <g transform=\"translate(131.981073475 285.05062604)scale(0.09996 -0.09996)\">\n",
       "      <use xlink:href=\"#BitstreamVeraSans-Roman-30\"/>\n",
       "      <use x=\"63.623046875\" xlink:href=\"#BitstreamVeraSans-Roman-2e\"/>\n",
       "      <use x=\"95.41015625\" xlink:href=\"#BitstreamVeraSans-Roman-35\"/>\n",
       "     </g>\n",
       "    </g>\n",
       "   </g>\n",
       "   <g id=\"xtick_5\">\n",
       "    <g id=\"line2d_6\">\n",
       "     <path d=\"\n",
       "M178.068 275.912\n",
       "L176.166 277.91\" style=\"fill:none;stroke:#000000;stroke-linecap:square;stroke-width:2.0;\"/>\n",
       "    </g>\n",
       "    <g id=\"text_5\">\n",
       "     <!-- 1.0 -->\n",
       "     <g transform=\"translate(165.844292445 296.606760518)scale(0.09996 -0.09996)\">\n",
       "      <use xlink:href=\"#BitstreamVeraSans-Roman-31\"/>\n",
       "      <use x=\"63.623046875\" xlink:href=\"#BitstreamVeraSans-Roman-2e\"/>\n",
       "      <use x=\"95.41015625\" xlink:href=\"#BitstreamVeraSans-Roman-30\"/>\n",
       "     </g>\n",
       "    </g>\n",
       "   </g>\n",
       "  </g>\n",
       "  <g id=\"axis3d_2\">\n",
       "   <g id=\"line2d_7\">\n",
       "    <path d=\"\n",
       "M253.389 200.427\n",
       "L180.281 277.539\" style=\"fill:none;stroke:#000000;stroke-linecap:square;stroke-width:0.75;\"/>\n",
       "   </g>\n",
       "   <g id=\"Line3DCollection_2\">\n",
       "    <path d=\"\n",
       "M40.2248 88.0973\n",
       "L45.9037 230.043\n",
       "L181.859 275.874\" style=\"fill:none;stroke:#e6e6e6;stroke-width:2.0;\"/>\n",
       "    <path d=\"\n",
       "M61.619 71.9971\n",
       "L66.1126 212.173\n",
       "L200.405 256.313\" style=\"fill:none;stroke:#e6e6e6;stroke-width:2.0;\"/>\n",
       "    <path d=\"\n",
       "M82.2082 56.5027\n",
       "L85.5987 194.941\n",
       "L218.258 237.482\" style=\"fill:none;stroke:#e6e6e6;stroke-width:2.0;\"/>\n",
       "    <path d=\"\n",
       "M102.037 41.5807\n",
       "L104.4 178.316\n",
       "L235.456 219.342\" style=\"fill:none;stroke:#e6e6e6;stroke-width:2.0;\"/>\n",
       "    <path d=\"\n",
       "M121.146 27.1998\n",
       "L122.553 162.264\n",
       "L252.034 201.856\" style=\"fill:none;stroke:#e6e6e6;stroke-width:2.0;\"/>\n",
       "   </g>\n",
       "   <g id=\"xtick_6\">\n",
       "    <g id=\"line2d_8\">\n",
       "     <path d=\"\n",
       "M180.721 275.49\n",
       "L184.138 276.642\" style=\"fill:none;stroke:#000000;stroke-linecap:square;stroke-width:2.0;\"/>\n",
       "    </g>\n",
       "    <g id=\"text_6\">\n",
       "     <!-- −1.0 -->\n",
       "     <g transform=\"translate(178.454958904 293.904810321)scale(0.09996 -0.09996)\">\n",
       "      <use xlink:href=\"#BitstreamVeraSans-Roman-2212\"/>\n",
       "      <use x=\"83.7890625\" xlink:href=\"#BitstreamVeraSans-Roman-31\"/>\n",
       "      <use x=\"147.412109375\" xlink:href=\"#BitstreamVeraSans-Roman-2e\"/>\n",
       "      <use x=\"179.19921875\" xlink:href=\"#BitstreamVeraSans-Roman-30\"/>\n",
       "     </g>\n",
       "    </g>\n",
       "   </g>\n",
       "   <g id=\"xtick_7\">\n",
       "    <g id=\"line2d_9\">\n",
       "     <path d=\"\n",
       "M199.282 255.943\n",
       "L202.654 257.052\" style=\"fill:none;stroke:#000000;stroke-linecap:square;stroke-width:2.0;\"/>\n",
       "    </g>\n",
       "    <g id=\"text_7\">\n",
       "     <!-- −0.5 -->\n",
       "     <g transform=\"translate(196.948278879 274.152425368)scale(0.09996 -0.09996)\">\n",
       "      <use xlink:href=\"#BitstreamVeraSans-Roman-2212\"/>\n",
       "      <use x=\"83.7890625\" xlink:href=\"#BitstreamVeraSans-Roman-30\"/>\n",
       "      <use x=\"147.412109375\" xlink:href=\"#BitstreamVeraSans-Roman-2e\"/>\n",
       "      <use x=\"179.19921875\" xlink:href=\"#BitstreamVeraSans-Roman-35\"/>\n",
       "     </g>\n",
       "    </g>\n",
       "   </g>\n",
       "   <g id=\"xtick_8\">\n",
       "    <g id=\"line2d_10\">\n",
       "     <path d=\"\n",
       "M217.149 237.127\n",
       "L220.477 238.194\" style=\"fill:none;stroke:#000000;stroke-linecap:square;stroke-width:2.0;\"/>\n",
       "    </g>\n",
       "    <g id=\"text_8\">\n",
       "     <!-- 0.0 -->\n",
       "     <g transform=\"translate(218.533645121 255.137892222)scale(0.09996 -0.09996)\">\n",
       "      <use xlink:href=\"#BitstreamVeraSans-Roman-30\"/>\n",
       "      <use x=\"63.623046875\" xlink:href=\"#BitstreamVeraSans-Roman-2e\"/>\n",
       "      <use x=\"95.41015625\" xlink:href=\"#BitstreamVeraSans-Roman-30\"/>\n",
       "     </g>\n",
       "    </g>\n",
       "   </g>\n",
       "   <g id=\"xtick_9\">\n",
       "    <g id=\"line2d_11\">\n",
       "     <path d=\"\n",
       "M234.361 219\n",
       "L237.647 220.028\" style=\"fill:none;stroke:#000000;stroke-linecap:square;stroke-width:2.0;\"/>\n",
       "    </g>\n",
       "    <g id=\"text_9\">\n",
       "     <!-- 0.5 -->\n",
       "     <g transform=\"translate(235.690928177 236.820625159)scale(0.09996 -0.09996)\">\n",
       "      <use xlink:href=\"#BitstreamVeraSans-Roman-30\"/>\n",
       "      <use x=\"63.623046875\" xlink:href=\"#BitstreamVeraSans-Roman-2e\"/>\n",
       "      <use x=\"95.41015625\" xlink:href=\"#BitstreamVeraSans-Roman-35\"/>\n",
       "     </g>\n",
       "    </g>\n",
       "   </g>\n",
       "   <g id=\"xtick_10\">\n",
       "    <g id=\"line2d_12\">\n",
       "     <path d=\"\n",
       "M250.954 201.526\n",
       "L254.197 202.517\" style=\"fill:none;stroke:#000000;stroke-linecap:square;stroke-width:2.0;\"/>\n",
       "    </g>\n",
       "    <g id=\"text_10\">\n",
       "     <!-- 1.0 -->\n",
       "     <g transform=\"translate(252.244299294 219.162961436)scale(0.09996 -0.09996)\">\n",
       "      <use xlink:href=\"#BitstreamVeraSans-Roman-31\"/>\n",
       "      <use x=\"63.623046875\" xlink:href=\"#BitstreamVeraSans-Roman-2e\"/>\n",
       "      <use x=\"95.41015625\" xlink:href=\"#BitstreamVeraSans-Roman-30\"/>\n",
       "     </g>\n",
       "    </g>\n",
       "   </g>\n",
       "  </g>\n",
       "  <g id=\"axis3d_3\">\n",
       "   <g id=\"line2d_13\">\n",
       "    <path d=\"\n",
       "M253.389 200.427\n",
       "L258.8 61.4324\" style=\"fill:none;stroke:#000000;stroke-linecap:square;stroke-width:0.75;\"/>\n",
       "   </g>\n",
       "   <g id=\"Line3DCollection_3\">\n",
       "    <path d=\"\n",
       "M253.491 197.784\n",
       "L124.012 158.379\n",
       "L44.076 228.864\" style=\"fill:none;stroke:#e6e6e6;stroke-width:2.0;\"/>\n",
       "    <path d=\"\n",
       "M254.743 165.642\n",
       "L123.704 127.129\n",
       "L42.7407 196.047\" style=\"fill:none;stroke:#e6e6e6;stroke-width:2.0;\"/>\n",
       "    <path d=\"\n",
       "M256.025 132.71\n",
       "L123.389 95.1429\n",
       "L41.3715 162.396\" style=\"fill:none;stroke:#e6e6e6;stroke-width:2.0;\"/>\n",
       "    <path d=\"\n",
       "M257.339 98.9583\n",
       "L123.066 62.3945\n",
       "L39.967 127.879\" style=\"fill:none;stroke:#e6e6e6;stroke-width:2.0;\"/>\n",
       "    <path d=\"\n",
       "M258.687 64.3554\n",
       "L122.735 28.8563\n",
       "L38.5259 92.4607\" style=\"fill:none;stroke:#e6e6e6;stroke-width:2.0;\"/>\n",
       "   </g>\n",
       "   <g id=\"xtick_11\">\n",
       "    <g id=\"line2d_14\">\n",
       "     <path d=\"\n",
       "M252.411 197.455\n",
       "L255.654 198.442\" style=\"fill:none;stroke:#000000;stroke-linecap:square;stroke-width:2.0;\"/>\n",
       "    </g>\n",
       "    <g id=\"text_11\">\n",
       "     <!-- −1.0 -->\n",
       "     <g transform=\"translate(253.551660811 203.696617204)scale(0.09996 -0.09996)\">\n",
       "      <use xlink:href=\"#BitstreamVeraSans-Roman-2212\"/>\n",
       "      <use x=\"83.7890625\" xlink:href=\"#BitstreamVeraSans-Roman-31\"/>\n",
       "      <use x=\"147.412109375\" xlink:href=\"#BitstreamVeraSans-Roman-2e\"/>\n",
       "      <use x=\"179.19921875\" xlink:href=\"#BitstreamVeraSans-Roman-30\"/>\n",
       "     </g>\n",
       "    </g>\n",
       "   </g>\n",
       "   <g id=\"xtick_12\">\n",
       "    <g id=\"line2d_15\">\n",
       "     <path d=\"\n",
       "M253.649 165.321\n",
       "L256.933 166.286\" style=\"fill:none;stroke:#000000;stroke-linecap:square;stroke-width:2.0;\"/>\n",
       "    </g>\n",
       "    <g id=\"text_12\">\n",
       "     <!-- −0.5 -->\n",
       "     <g transform=\"translate(255.042972593 171.592456039)scale(0.09996 -0.09996)\">\n",
       "      <use xlink:href=\"#BitstreamVeraSans-Roman-2212\"/>\n",
       "      <use x=\"83.7890625\" xlink:href=\"#BitstreamVeraSans-Roman-30\"/>\n",
       "      <use x=\"147.412109375\" xlink:href=\"#BitstreamVeraSans-Roman-2e\"/>\n",
       "      <use x=\"179.19921875\" xlink:href=\"#BitstreamVeraSans-Roman-35\"/>\n",
       "     </g>\n",
       "    </g>\n",
       "   </g>\n",
       "   <g id=\"xtick_13\">\n",
       "    <g id=\"line2d_16\">\n",
       "     <path d=\"\n",
       "M254.917 132.396\n",
       "L258.243 133.338\" style=\"fill:none;stroke:#000000;stroke-linecap:square;stroke-width:2.0;\"/>\n",
       "    </g>\n",
       "    <g id=\"text_13\">\n",
       "     <!-- 0.0 -->\n",
       "     <g transform=\"translate(260.347282626 138.700160091)scale(0.09996 -0.09996)\">\n",
       "      <use xlink:href=\"#BitstreamVeraSans-Roman-30\"/>\n",
       "      <use x=\"63.623046875\" xlink:href=\"#BitstreamVeraSans-Roman-2e\"/>\n",
       "      <use x=\"95.41015625\" xlink:href=\"#BitstreamVeraSans-Roman-30\"/>\n",
       "     </g>\n",
       "    </g>\n",
       "   </g>\n",
       "   <g id=\"xtick_14\">\n",
       "    <g id=\"line2d_17\">\n",
       "     <path d=\"\n",
       "M256.217 98.6528\n",
       "L259.586 99.5701\" style=\"fill:none;stroke:#000000;stroke-linecap:square;stroke-width:2.0;\"/>\n",
       "    </g>\n",
       "    <g id=\"text_14\">\n",
       "     <!-- 0.5 -->\n",
       "     <g transform=\"translate(261.907946911 104.990346456)scale(0.09996 -0.09996)\">\n",
       "      <use xlink:href=\"#BitstreamVeraSans-Roman-30\"/>\n",
       "      <use x=\"63.623046875\" xlink:href=\"#BitstreamVeraSans-Roman-2e\"/>\n",
       "      <use x=\"95.41015625\" xlink:href=\"#BitstreamVeraSans-Roman-35\"/>\n",
       "     </g>\n",
       "    </g>\n",
       "   </g>\n",
       "   <g id=\"xtick_15\">\n",
       "    <g id=\"line2d_18\">\n",
       "     <path d=\"\n",
       "M257.55 64.0586\n",
       "L260.962 64.9497\" style=\"fill:none;stroke:#000000;stroke-linecap:square;stroke-width:2.0;\"/>\n",
       "    </g>\n",
       "    <g id=\"text_15\">\n",
       "     <!-- 1.0 -->\n",
       "     <g transform=\"translate(263.515407208 70.4321532626)scale(0.09996 -0.09996)\">\n",
       "      <use xlink:href=\"#BitstreamVeraSans-Roman-31\"/>\n",
       "      <use x=\"63.623046875\" xlink:href=\"#BitstreamVeraSans-Roman-2e\"/>\n",
       "      <use x=\"95.41015625\" xlink:href=\"#BitstreamVeraSans-Roman-30\"/>\n",
       "     </g>\n",
       "    </g>\n",
       "   </g>\n",
       "  </g>\n",
       "  <g id=\"axes_1\">\n",
       "   <g id=\"line2d_19\">\n",
       "    <path clip-path=\"url(#p18328d3381)\" d=\"\n",
       "M204.037 97.8025\n",
       "L204.089 92.9084\n",
       "L204.121 89.8926\n",
       "L203.532 86.8466\n",
       "L202.813 83.8298\n",
       "L202.166 81.1145\n",
       "L201.853 80.421\n",
       "L199.511 75.2347\n",
       "L198.27 72.4855\n",
       "L197.978 72.0376\n",
       "L194.661 68.1117\n",
       "L194.342 67.7335\n",
       "L192.579 65.6472\n",
       "L188.565 62.1365\n",
       "L187.534 61.5048\n",
       "L185.338 60.1593\n",
       "L184.577 59.8246\n",
       "L179.383 57.5415\n",
       "L176.829 56.4188\n",
       "L171.939 55.8813\n",
       "L170.219 55.6923\n",
       "L167.369 55.3791\n",
       "L162.886 55.2961\n",
       "L160.389 55.7133\n",
       "L157.57 56.1842\n",
       "L157.318 56.2262\n",
       "L150.26 57.8639\n",
       "L147.57 58.488\n",
       "L147.043 58.7096\n",
       "L141.134 61.4484\n",
       "L140.19 61.8865\n",
       "L136.913 63.4054\n",
       "L130.495 66.675\n",
       "L130.21 66.8198\n",
       "L127.286 68.8338\n",
       "L121.888 72.659\n",
       "L121.536 72.9085\n",
       "L118.502 75.0586\n",
       "L113.562 78.6844\n",
       "L110.86 80.6681\n",
       "L106.862 83.7477\n",
       "L104.636 85.4626\n",
       "L101.699 87.9051\n",
       "L100.067 89.263\n",
       "L98.3032 90.9814\n",
       "L97.3433 91.9168\n",
       "L97.2651 92.0632\n",
       "L96.8566 92.8279\n",
       "L96.6022 93.3043\n",
       "L96.999 93.3169\n",
       "L97.4915 93.976\n",
       "L97.9384 94.5743\n",
       "L98.209 94.641\n",
       "L100.248 95.1438\n",
       "L101.341 95.4131\n",
       "L101.615 95.404\n",
       "L104.751 96.4657\n",
       "L105.055 96.5686\n",
       "L106.739 97.1387\n",
       "L110.711 97.6875\n",
       "L111.738 98.1042\n",
       "L113.934 98.9952\n",
       "L114.709 99.1845\n",
       "L120.023 100.483\n",
       "L122.653 101.125\n",
       "L127.755 102.766\n",
       "L129.555 103.346\n",
       "L132.547 104.308\n",
       "L137.285 105.269\n",
       "L139.931 106.289\n",
       "L142.92 107.441\n",
       "L143.187 107.544\n",
       "L150.694 109.488\n",
       "L153.556 110.228\n",
       "L154.117 110.477\n",
       "L160.391 112.347\n",
       "L161.393 112.645\n",
       "L164.864 113.68\n",
       "L171.617 114.636\n",
       "L171.915 114.679\n",
       "L174.978 115.655\n",
       "L180.564 116.234\n",
       "L180.927 116.272\n",
       "L184.046 116.595\n",
       "L189.025 115.721\n",
       "L191.726 115.247\n",
       "L195.604 112.958\n",
       "L197.741 111.696\n",
       "L200.414 108.095\n",
       "L201.884 106.115\n",
       "L203.278 101.324\n",
       "L204.028 98.7466\n",
       "L204.037 97.8025\" style=\"fill:none;stroke:#348abd;stroke-linecap:square;stroke-width:2.0;\"/>\n",
       "   </g>\n",
       "   <g id=\"line2d_20\">\n",
       "    <path clip-path=\"url(#p18328d3381)\" d=\"\n",
       "M203.711 112.505\n",
       "L203.763 108.281\n",
       "L203.191 104.802\n",
       "L201.854 97.8293\n",
       "L199.994 92.6352\n",
       "L197.811 87.8922\n",
       "L194.102 82.1781\n",
       "L192.36 80.0971\n",
       "L186.18 74.6637\n",
       "L185.165 74.0336\n",
       "L176.631 70.2609\n",
       "L167.285 69.1957\n",
       "L165.726 69.1765\n",
       "L156.165 70.8164\n",
       "L153.976 71.3343\n",
       "L147.062 74.2231\n",
       "L141.339 76.9642\n",
       "L131.105 83.9292\n",
       "L129.166 85.2811\n",
       "L122.218 91.6762\n",
       "L114.294 99.0189\n",
       "L111.173 102.523\n",
       "L105.016 108.339\n",
       "L100.469 111.273\n",
       "L98.8528 111.309\n",
       "L97.731 112.003\n",
       "L96.9634 111.744\n",
       "L96.9774 111.719\n",
       "L97.2087 111.328\n",
       "L98.4632 111.403\n",
       "L99.8742 110.921\n",
       "L101.627 111.412\n",
       "L105.31 111.381\n",
       "L106.975 111.972\n",
       "L113.107 112.905\n",
       "L114.387 113.393\n",
       "L122.869 115.526\n",
       "L132.641 118.701\n",
       "L134.287 119.051\n",
       "L143.227 122.502\n",
       "L146.742 123.422\n",
       "L154.778 126.87\n",
       "L159.77 128.354\n",
       "L164.774 130.84\n",
       "L173 133.418\n",
       "L174.81 134.426\n",
       "L183.793 137.079\n",
       "L187.404 136.938\n",
       "L191.387 137.717\n",
       "L197.337 135.059\n",
       "L201.465 128.425\n",
       "L202.753 122.431\n",
       "L203.633 118.944\n",
       "L203.711 112.505\n",
       "L203.711 112.505\" style=\"fill:none;stroke:#a60628;stroke-linecap:square;stroke-width:2.0;\"/>\n",
       "   </g>\n",
       "   <g id=\"line2d_21\">\n",
       "    <path clip-path=\"url(#p18328d3381)\" d=\"\n",
       "M192.35 108.097\n",
       "L190.62 113.883\n",
       "L187.331 118.261\n",
       "L182.592 121.045\n",
       "L176.569 122.107\n",
       "L169.484 121.385\n",
       "L167.422 120.846\n",
       "L161.186 119.903\n",
       "L151.363 117.076\n",
       "L143.984 115.064\n",
       "L140.406 113.693\n",
       "L136.501 112.891\n",
       "L128.812 110.409\n",
       "L121.407 108.468\n",
       "L119.35 107.633\n",
       "L116.393 107.199\n",
       "L110.979 105.415\n",
       "L109.438 105.003\n",
       "L108.437 103.809\n",
       "L108.331 103.8\n",
       "L108.334 103.793\n",
       "L108.964 102.529\n",
       "L111.294 100.193\n",
       "L116.341 96.0029\n",
       "L121.619 91.9587\n",
       "L129.47 86.2547\n",
       "L133.707 83.2823\n",
       "L142.16 79.0759\n",
       "L148.219 76.3853\n",
       "L156.685 74.493\n",
       "L160.084 73.9503\n",
       "L164.92 74.1633\n",
       "L171.237 74.9074\n",
       "L177.902 77.8951\n",
       "L180.575 79.5751\n",
       "L183.557 82.2261\n",
       "L188.005 87.6143\n",
       "L190.993 94.3742\n",
       "L192.476 101.139\n",
       "L192.35 108.097\n",
       "L192.35 108.097\" style=\"fill:none;stroke:#7a68a6;stroke-linecap:square;stroke-width:2.0;\"/>\n",
       "   </g>\n",
       "   <g id=\"line2d_22\">\n",
       "    <path clip-path=\"url(#p18328d3381)\" d=\"\n",
       "M191.217 78.5555\n",
       "L192.722 85.0787\n",
       "L192.611 90.9954\n",
       "L190.879 96.1173\n",
       "L187.573 100.237\n",
       "L182.8 103.182\n",
       "L176.731 104.821\n",
       "L169.055 104.996\n",
       "L153.26 102.681\n",
       "L144.727 100.461\n",
       "L143.544 100.005\n",
       "L136.425 98.559\n",
       "L128.695 96.0885\n",
       "L121.291 94.2038\n",
       "L117.076 92.5156\n",
       "L116.206 92.3937\n",
       "L111.938 90.9798\n",
       "L108.844 88.6476\n",
       "L108.087 87.6948\n",
       "L108.599 85.6087\n",
       "L110.998 82.6419\n",
       "L114.909 79.2557\n",
       "L119.163 76.1621\n",
       "L125.205 72.3528\n",
       "L132.164 68.4365\n",
       "L140.335 64.2997\n",
       "L148.163 62.0064\n",
       "L157.071 60.0206\n",
       "L164.865 60.2664\n",
       "L171.344 61.0036\n",
       "L178.618 64.3278\n",
       "L182.852 66.9418\n",
       "L183.732 67.7252\n",
       "L188.182 73.0452\n",
       "L191.217 78.5555\n",
       "L191.217 78.5555\" style=\"fill:none;stroke:#467821;stroke-linecap:square;stroke-width:2.0;\"/>\n",
       "   </g>\n",
       "   <g id=\"line2d_23\">\n",
       "    <path clip-path=\"url(#p18328d3381)\" d=\"\n",
       "M197.485 207.238\n",
       "L200.039 204.391\n",
       "L200.745 203.213\n",
       "L202.031 201.066\n",
       "L202.019 200.338\n",
       "L202.017 200.253\n",
       "L201.996 198.963\n",
       "L201.379 198.712\n",
       "L201.32 198.64\n",
       "L199.997 197.026\n",
       "L198.746 196.548\n",
       "L198.386 196.411\n",
       "L196.147 195.556\n",
       "L195.861 195.531\n",
       "L194.415 194.939\n",
       "L190.642 193.394\n",
       "L190.467 193.359\n",
       "L188.508 192.967\n",
       "L186.778 192.621\n",
       "L183.696 191.244\n",
       "L181.239 190.561\n",
       "L179.761 190.151\n",
       "L175.576 188.988\n",
       "L172.865 188.073\n",
       "L167.379 186.222\n",
       "L166.577 185.951\n",
       "L163.67 185.339\n",
       "L162.309 185.053\n",
       "L157.007 182.996\n",
       "L153.961 182.223\n",
       "L153.409 182.083\n",
       "L147.697 180.633\n",
       "L147.193 180.414\n",
       "L144.091 179.542\n",
       "L138.25 177.9\n",
       "L137.47 177.68\n",
       "L134.41 177.316\n",
       "L131.014 176.913\n",
       "L128.182 176.094\n",
       "L125.279 175.889\n",
       "L120.569 175.555\n",
       "L119.661 175.49\n",
       "L117.065 176.025\n",
       "L112.241 177.017\n",
       "L110.104 178.305\n",
       "L106.218 180.646\n",
       "L104.662 182.645\n",
       "L101.842 186.269\n",
       "L100.95 188.883\n",
       "L99.3083 193.698\n",
       "L99.1142 196.782\n",
       "L99.0916 197.141\n",
       "L98.7441 202.664\n",
       "L99.1848 205.746\n",
       "L99.2267 205.997\n",
       "L100.177 211.706\n",
       "L101.275 214.61\n",
       "L101.592 215.449\n",
       "L103.58 220.707\n",
       "L103.85 221.172\n",
       "L105.22 223.072\n",
       "L108.824 228.073\n",
       "L108.997 228.244\n",
       "L110.935 230.16\n",
       "L112.653 231.858\n",
       "L115.733 234.131\n",
       "L118.237 235.424\n",
       "L119.747 236.205\n",
       "L124.045 238.425\n",
       "L126.864 238.893\n",
       "L132.595 239.843\n",
       "L133.435 239.983\n",
       "L136.498 240.134\n",
       "L137.935 240.205\n",
       "L143.538 239.505\n",
       "L146.768 238.818\n",
       "L147.353 238.694\n",
       "L153.412 237.406\n",
       "L153.948 237.197\n",
       "L157.234 235.7\n",
       "L163.413 232.885\n",
       "L164.237 232.51\n",
       "L167.456 230.814\n",
       "L171.017 228.937\n",
       "L173.979 226.879\n",
       "L176.986 224.63\n",
       "L181.837 221\n",
       "L182.769 220.303\n",
       "L185.393 218.156\n",
       "L190.23 214.2\n",
       "L192.312 212.281\n",
       "L196.061 208.825\n",
       "L197.485 207.238\" style=\"fill:none;stroke:#cf4457;stroke-linecap:square;stroke-width:2.0;\"/>\n",
       "   </g>\n",
       "   <g id=\"line2d_24\">\n",
       "    <path clip-path=\"url(#p18328d3381)\" d=\"\n",
       "M186.51 196.652\n",
       "L186.022 197.132\n",
       "L180.522 202.001\n",
       "L174.669 206.663\n",
       "L167.384 211.994\n",
       "L159.77 215.889\n",
       "L153.169 218.886\n",
       "L145.006 220.636\n",
       "L140.778 221.17\n",
       "L136.225 220.86\n",
       "L129.664 219.79\n",
       "L122.867 216.267\n",
       "L120.55 214.576\n",
       "L117.469 211.469\n",
       "L113.523 206.034\n",
       "L110.85 199.085\n",
       "L109.691 192.146\n",
       "L110.104 185.112\n",
       "L112.069 179.281\n",
       "L115.494 174.868\n",
       "L120.231 172.024\n",
       "L126.083 170.839\n",
       "L132.821 171.34\n",
       "L134.803 171.811\n",
       "L140.43 172.536\n",
       "L149.278 174.987\n",
       "L155.687 176.62\n",
       "L159.734 178.177\n",
       "L164.105 179.201\n",
       "L170.453 181.332\n",
       "L176.842 183.091\n",
       "L179.67 184.28\n",
       "L182.561 184.898\n",
       "L189.614 187.665\n",
       "L190.996 189.234\n",
       "L191.126 189.29\n",
       "L191.086 190.896\n",
       "L189.351 193.576\n",
       "L186.51 196.652\n",
       "L186.51 196.652\" style=\"fill:none;stroke:#188487;stroke-linecap:square;stroke-width:2.0;\"/>\n",
       "   </g>\n",
       "   <g id=\"line2d_25\">\n",
       "    <path clip-path=\"url(#p18328d3381)\" d=\"\n",
       "M186.089 213.642\n",
       "L186.068 213.666\n",
       "L186.053 213.679\n",
       "L181.468 217.693\n",
       "L174.44 222.599\n",
       "L167.689 226.622\n",
       "L160.415 230.367\n",
       "L153.158 232.535\n",
       "L143.883 234.41\n",
       "L137.146 234.082\n",
       "L129.805 232.871\n",
       "L123.295 229.525\n",
       "L118.395 225.861\n",
       "L117.878 225.348\n",
       "L113.749 219.661\n",
       "L111.071 213.761\n",
       "L109.93 206.908\n",
       "L110.343 200.939\n",
       "L112.303 195.658\n",
       "L115.709 191.4\n",
       "L120.412 188.314\n",
       "L126.223 186.502\n",
       "L132.914 186.02\n",
       "L140.783 187.026\n",
       "L148.649 188.073\n",
       "L155.658 189.852\n",
       "L157.151 190.363\n",
       "L163.22 191.647\n",
       "L170.321 194.053\n",
       "L176.713 195.85\n",
       "L181.325 197.934\n",
       "L182.154 198.106\n",
       "L186.445 199.904\n",
       "L189.722 202.641\n",
       "L190.897 204.221\n",
       "L190.844 206.782\n",
       "L189.215 209.995\n",
       "L186.089 213.642\n",
       "L186.089 213.642\" style=\"fill:none;stroke:#e24a33;stroke-linecap:square;stroke-width:2.0;\"/>\n",
       "   </g>\n",
       "   <g id=\"line2d_26\">\n",
       "    <path clip-path=\"url(#p18328d3381)\" d=\"\n",
       "M123.95 225.323\n",
       "L133.349 226.845\n",
       "L134.897 226.911\n",
       "L143.998 225.703\n",
       "L147.189 224.952\n",
       "L154.176 222.204\n",
       "L159.432 219.798\n",
       "L167.114 214.677\n",
       "L172.337 211.042\n",
       "L186.401 197.843\n",
       "L186.564 197.674\n",
       "L190.551 192.987\n",
       "L196.443 186.722\n",
       "L200.434 183.317\n",
       "L201.508 183.051\n",
       "L202.373 181.954\n",
       "L202.331 181.778\n",
       "L201.926 182.067\n",
       "L200.225 181.51\n",
       "L198.4 181.774\n",
       "L196.397 181.061\n",
       "L192.561 180.787\n",
       "L190.844 180.108\n",
       "L184.857 178.961\n",
       "L183.856 178.521\n",
       "L174.045 175.749\n",
       "L166.654 173.276\n",
       "L165.185 172.961\n",
       "L157.039 169.805\n",
       "L153.563 168.854\n",
       "L146.978 166.015\n",
       "L142.018 164.595\n",
       "L137.395 162.362\n",
       "L129.761 160.096\n",
       "L128.04 159.18\n",
       "L119.446 156.831\n",
       "L115.923 157.013\n",
       "L111.945 156.339\n",
       "L105.857 158.968\n",
       "L101.461 165.456\n",
       "L100.092 170.979\n",
       "L98.9434 174.799\n",
       "L98.4067 185.435\n",
       "L98.9751 189.756\n",
       "L99.9324 196.202\n",
       "L101.765 201.888\n",
       "L103.317 205.966\n",
       "L106.961 212.209\n",
       "L108.607 214.477\n",
       "L114.555 220.309\n",
       "L115.558 221.042\n",
       "L123.95 225.323\n",
       "L123.95 225.323\" style=\"fill:none;stroke:#348abd;stroke-linecap:square;stroke-width:2.0;\"/>\n",
       "   </g>\n",
       "  </g>\n",
       " </g>\n",
       " <defs>\n",
       "  <clipPath id=\"p18328d3381\">\n",
       "   <rect height=\"288.0\" width=\"279.0\" x=\"7.2\" y=\"7.2\"/>\n",
       "  </clipPath>\n",
       " </defs>\n",
       "</svg>\n"
      ],
      "text/plain": [
       "<matplotlib.figure.Figure at 0xaed1770>"
      ]
     },
     "metadata": {},
     "output_type": "display_data"
    }
   ],
   "source": [
    "#%fig=用matplotlib繪制分析出的相貫線\n",
    "from collections import defaultdict\n",
    "\n",
    "def connect_lines(lines):\n",
    "    edges = defaultdict(set)    \n",
    "    for _, s, e in lines.to_array().reshape(-1, 3).tolist():\n",
    "        edges[s].add(e)\n",
    "        edges[e].add(s)\n",
    "\n",
    "    while True:\n",
    "        if not edges:\n",
    "            break\n",
    "        poly = [edges.iterkeys().next()]\n",
    "        while True:\n",
    "            e = poly[-1]\n",
    "            neighbours = edges[e]\n",
    "            if not neighbours:\n",
    "                break\n",
    "            n = neighbours.pop()\n",
    "            try:\n",
    "                edges[n].remove(e)\n",
    "            except:\n",
    "                pass\n",
    "            poly.append(n)\n",
    "        yield poly\n",
    "        edges = {k:v for k,v in edges.iteritems() if v}\n",
    "        \n",
    "from mpl_toolkits.mplot3d import Axes3D\n",
    "\n",
    "fig = pl.figure(figsize=(5, 5))\n",
    "ax = fig.gca(projection='3d')\n",
    "\n",
    "points = cpd.output.points.to_array()\n",
    "for line in connect_lines(cpd.output.lines):\n",
    "    x, y, z = points[line].T\n",
    "    ax.plot(x, y, z, label='parametric curve')\n",
    "\n",
    "ax.auto_scale_xyz([-1, 1], [-1, 1], [-1, 1])"
   ]
  },
  {
   "cell_type": "code",
   "execution_count": null,
   "metadata": {
    "collapsed": true
   },
   "outputs": [],
   "source": []
  }
 ],
 "metadata": {
  "kernelspec": {
   "display_name": "Python 2",
   "language": "python",
   "name": "python2"
  },
  "language_info": {
   "codemirror_mode": {
    "name": "ipython",
    "version": 2
   },
   "file_extension": ".py",
   "mimetype": "text/x-python",
   "name": "python",
   "nbconvert_exporter": "python",
   "pygments_lexer": "ipython2",
   "version": "2.7.9"
  }
 },
 "nbformat": 4,
 "nbformat_minor": 0
}
