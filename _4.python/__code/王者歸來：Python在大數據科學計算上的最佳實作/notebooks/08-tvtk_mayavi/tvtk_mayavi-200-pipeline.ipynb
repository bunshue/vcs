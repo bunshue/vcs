﻿{
 "cells": [
  {
   "cell_type": "code",
   "execution_count": 1,
   "metadata": {
    "collapsed": false,
    "group_control": {
     "group": 0
    }
   },
   "outputs": [],
   "source": [
    "%gui qt"
   ]
  },
  {
   "cell_type": "markdown",
   "metadata": {},
   "source": [
    "## VTK的管線(Pipeline)"
   ]
  },
  {
   "cell_type": "markdown",
   "metadata": {},
   "source": [
    "### 顯示圓錐"
   ]
  },
  {
   "cell_type": "code",
   "execution_count": null,
   "metadata": {
    "collapsed": false,
    "group_control": {
     "group": 0
    }
   },
   "outputs": [],
   "source": [
    "%%python\n",
    "\n",
    "#coding=utf-8\n",
    "from tvtk.api import tvtk #❶\n",
    "\n",
    "# 建立一個圓錐資料源，並且同時設定其高度，底面半徑和底面圓的解析度(用36邊形近似)\n",
    "cs = tvtk.ConeSource(height=3.0, radius=1.0, resolution=36) #❷\n",
    "# 使用PolyDataMapper將資料轉為圖形資料\n",
    "m = tvtk.PolyDataMapper(input_connection=cs.output_port) #❸\n",
    "# 建立一個Actor\n",
    "a = tvtk.Actor(mapper=m) #❹\n",
    "# 建立一個Renderer，將Actor加入進去\n",
    "ren = tvtk.Renderer(background=(1, 1, 1)) #❺\n",
    "ren.add_actor(a)\n",
    "# 建立一個RenderWindow(視窗)，將Renderer加入進去\n",
    "rw = tvtk.RenderWindow(size=(300,300)) #❻\n",
    "rw.add_renderer(ren)\n",
    "# 建立一個RenderWindowInteractor（視窗的互動工具)\n",
    "rwi = tvtk.RenderWindowInteractor(render_window=rw) #❼\n",
    "# 開啟互動\n",
    "rwi.initialize()\n",
    "rwi.start()"
   ]
  },
  {
   "cell_type": "code",
   "execution_count": 5,
   "metadata": {
    "collapsed": false,
    "group_control": {
     "group": 0
    }
   },
   "outputs": [
    {
     "name": "stdout",
     "output_type": "stream",
     "text": [
      "['number_of_output_ports',\n",
      " 'abort_execute_',\n",
      " 'class_name',\n",
      " 'executive',\n",
      "...\n"
     ]
    }
   ],
   "source": [
    "from tvtk.api import tvtk\n",
    "cs = tvtk.ConeSource(height=3.0, radius=1.0, resolution=36)\n",
    "m = tvtk.PolyDataMapper(input_connection=cs.output_port)\n",
    "a = tvtk.Actor(mapper=m)\n",
    "ren = tvtk.Renderer(background=(1, 1, 1))\n",
    "ren.add_actor(a)\n",
    "\n",
    "%omit cs.trait_names()"
   ]
  },
  {
   "cell_type": "code",
   "execution_count": 6,
   "metadata": {
    "collapsed": false,
    "group_control": {
     "group": 0
    }
   },
   "outputs": [
    {
     "name": "stdout",
     "output_type": "stream",
     "text": [
      "cs.height  cs.radius  cs.resolution\n",
      "---------  ---------  -------------\n",
      "3.0        1.0        36           \n"
     ]
    }
   ],
   "source": [
    "%C cs.height; cs.radius; cs.resolution"
   ]
  },
  {
   "cell_type": "code",
   "execution_count": 9,
   "metadata": {
    "collapsed": false,
    "group_control": {
     "group": 0
    }
   },
   "outputs": [
    {
     "name": "stdout",
     "output_type": "stream",
     "text": [
      "<class 'tvtk.tvtk_classes.poly_data.PolyData'> True\n"
     ]
    }
   ],
   "source": [
    "print type(cs.output), cs.output is m.input"
   ]
  },
  {
   "cell_type": "code",
   "execution_count": 3,
   "metadata": {
    "collapsed": false,
    "group_control": {
     "group": 0
    }
   },
   "outputs": [
    {
     "name": "stdout",
     "output_type": "stream",
     "text": [
      "True\n",
      "[ 1.  1.  1.]\n"
     ]
    }
   ],
   "source": [
    "print a.mapper is m\n",
    "print a.scale # Actor物件的scale屬性表示各個軸的縮放比例"
   ]
  },
  {
   "cell_type": "code",
   "execution_count": 4,
   "metadata": {
    "collapsed": false,
    "group_control": {
     "group": 0
    }
   },
   "outputs": [
    {
     "data": {
      "text/plain": [
       "['<tvtk.tvtk_classes.actor.Actor object at 0x0D7C7BD0>']"
      ]
     },
     "execution_count": 4,
     "metadata": {},
     "output_type": "execute_result"
    }
   ],
   "source": [
    "ren.actors"
   ]
  },
  {
   "cell_type": "markdown",
   "metadata": {},
   "source": [
    "### 用ivtk觀察管線"
   ]
  },
  {
   "cell_type": "code",
   "execution_count": 13,
   "metadata": {
    "collapsed": false,
    "group_control": {
     "group": 0
    }
   },
   "outputs": [],
   "source": [
    "from tvtk.api import tvtk\n",
    "from scpy2.tvtk.tvtkhelp import ivtk_scene, event_loop\n",
    "\n",
    "cs = tvtk.ConeSource(height=3.0, radius=1.0, resolution=36)\n",
    "m = tvtk.PolyDataMapper(input_connection=cs.output_port)\n",
    "a = tvtk.Actor(mapper=m)\n",
    "\n",
    "window = ivtk_scene([a]) #❶\n",
    "window.scene.isometric_view()\n",
    "event_loop() #❷"
   ]
  },
  {
   "cell_type": "markdown",
   "metadata": {},
   "source": [
    "#### 照相機"
   ]
  },
  {
   "cell_type": "code",
   "execution_count": 7,
   "metadata": {
    "collapsed": true
   },
   "outputs": [],
   "source": [
    "#%hide\n",
    "camera.clipping_range = [4.22273550264, 12.6954685402]"
   ]
  },
  {
   "cell_type": "code",
   "execution_count": 8,
   "metadata": {
    "collapsed": false,
    "group_control": {
     "group": 0
    }
   },
   "outputs": [
    {
     "name": "stdout",
     "output_type": "stream",
     "text": [
      "[  4.2227355   12.69546854]\n"
     ]
    }
   ],
   "source": [
    "camera = window.scene.renderer.active_camera\n",
    "print camera.clipping_range\n",
    "camera.view_up = 0, 1, 0\n",
    "camera.edit_traits() # 顯示編輯照相機屬性的視窗;"
   ]
  },
  {
   "cell_type": "markdown",
   "metadata": {},
   "source": [
    "#### 光源"
   ]
  },
  {
   "cell_type": "code",
   "execution_count": 9,
   "metadata": {
    "collapsed": false,
    "group_control": {
     "group": 0
    }
   },
   "outputs": [],
   "source": [
    "lights = window.scene.renderer.lights\n",
    "lights[0].edit_traits() # 顯示編輯光源屬性的視窗;"
   ]
  },
  {
   "cell_type": "code",
   "execution_count": 17,
   "metadata": {
    "collapsed": false,
    "group_control": {
     "group": 0
    }
   },
   "outputs": [],
   "source": [
    "camera = window.scene.renderer.active_camera\n",
    "light = tvtk.Light(color=(1,0,0))\n",
    "light.position=camera.position\n",
    "light.focal_point=camera.focal_point\n",
    "window.scene.renderer.add_light(light)"
   ]
  },
  {
   "cell_type": "markdown",
   "metadata": {},
   "source": [
    "#### 實體"
   ]
  },
  {
   "cell_type": "code",
   "execution_count": 12,
   "metadata": {
    "collapsed": false
   },
   "outputs": [],
   "source": [
    "a.edit_traits() # a是表示圓錐的Actor物件\n",
    "window.scene.renderer.actors[0].edit_traits();"
   ]
  },
  {
   "cell_type": "code",
   "execution_count": 14,
   "metadata": {
    "collapsed": false,
    "group_control": {
     "group": 0
    }
   },
   "outputs": [],
   "source": [
    "axe = tvtk.AxesActor(total_length=(3,3,3)) # 在場景中加入座標軸\n",
    "window.scene.add_actor( axe )"
   ]
  },
  {
   "cell_type": "code",
   "execution_count": null,
   "metadata": {
    "collapsed": false,
    "group_control": {
     "group": 0
    }
   },
   "outputs": [],
   "source": [
    "a.property.edit_traits() # a是表示圓錐的Actor物件;"
   ]
  }
 ],
 "metadata": {
  "kernelspec": {
   "display_name": "Python 2",
   "language": "python",
   "name": "python2"
  },
  "language_info": {
   "codemirror_mode": {
    "name": "ipython",
    "version": 2
   },
   "file_extension": ".py",
   "mimetype": "text/x-python",
   "name": "python",
   "nbconvert_exporter": "python",
   "pygments_lexer": "ipython2",
   "version": "2.7.9"
  }
 },
 "nbformat": 4,
 "nbformat_minor": 0
}
