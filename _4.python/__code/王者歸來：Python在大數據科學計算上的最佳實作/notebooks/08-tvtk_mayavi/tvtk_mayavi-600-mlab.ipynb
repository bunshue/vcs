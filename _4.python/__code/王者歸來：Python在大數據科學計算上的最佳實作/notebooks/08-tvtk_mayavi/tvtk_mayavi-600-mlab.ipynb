﻿{
 "cells": [
  {
   "cell_type": "code",
   "execution_count": 1,
   "metadata": {
    "collapsed": false,
    "group_control": {
     "group": 0
    }
   },
   "outputs": [
    {
     "name": "stderr",
     "output_type": "stream",
     "text": [
      "WARNING:traits.has_traits:DEPRECATED: traits.has_traits.wrapped_class, 'the 'implements' class advisor has been deprecated. Use the 'provides' class decorator.\n"
     ]
    }
   ],
   "source": [
    "%gui qt\n",
    "from tvtk.api import tvtk\n",
    "import numpy as np \n",
    "from mayavi import mlab\n",
    "from scpy2.tvtk import fix_mayavi_bugs\n",
    "fix_mayavi_bugs()"
   ]
  },
  {
   "cell_type": "markdown",
   "metadata": {},
   "source": [
    "## 用mlab快速繪圖"
   ]
  },
  {
   "cell_type": "markdown",
   "metadata": {},
   "source": [
    "> **WARNING**\n",
    "\n",
    "> 最新版本的Mayavi 4.4.0中存在GUI動作不更新3D場景的問題，可以透過本書提供的`scipy.tvtk.fix_mayavi_bugs()`修復這些問題。"
   ]
  },
  {
   "cell_type": "markdown",
   "metadata": {},
   "source": [
    "### 點和線"
   ]
  },
  {
   "cell_type": "code",
   "execution_count": 5,
   "metadata": {
    "collapsed": false,
    "group_control": {
     "group": 0
    }
   },
   "outputs": [],
   "source": [
    "from scipy.integrate import odeint \n",
    "\n",
    "def lorenz(w, t, p, r, b): \n",
    "    x, y, z = w\n",
    "    return np.array([p*(y-x), x*(r-z)-y, x*y-b*z]) \n",
    "\n",
    "t = np.arange(0, 30, 0.01) \n",
    "track1 = odeint(lorenz, (0.0, 1.00, 0.0), t, args=(10.0, 28.0, 3.0)) #❶\n",
    "\n",
    "from mayavi import mlab\n",
    "X, Y, Z = track1.T\n",
    "mlab.plot3d(X, Y, Z, t, tube_radius=0.2) #❷\n",
    "mlab.show()"
   ]
  },
  {
   "cell_type": "markdown",
   "metadata": {},
   "source": [
    "### Mayavi的管線"
   ]
  },
  {
   "cell_type": "code",
   "execution_count": 6,
   "metadata": {
    "collapsed": false,
    "group_control": {
     "group": 0
    }
   },
   "outputs": [
    {
     "name": "stdout",
     "output_type": "stream",
     "text": [
      "<mayavi.core.scene.Scene object at 0x13A320F0>\n",
      "(0.5, 0.5, 0.5)\n"
     ]
    }
   ],
   "source": [
    "s = mlab.gcf() # 首先獲得目前的場景\n",
    "print s\n",
    "print s.scene.background"
   ]
  },
  {
   "cell_type": "code",
   "execution_count": 7,
   "metadata": {
    "collapsed": false,
    "group_control": {
     "group": 0
    }
   },
   "outputs": [
    {
     "name": "stdout",
     "output_type": "stream",
     "text": [
      "<mayavi.sources.vtk_data_source.VTKDataSource object at 0x13A06CF0>\n",
      "LineSource\n",
      "[(0.0, 1.0, 0.0), ..., (0.021550891680468726, 1.6938271906706417, 20.31711497016887)], length = 3000\n",
      "[0.0, ..., 29.99], length = 3000\n"
     ]
    }
   ],
   "source": [
    "source = s.children[0] # 獲得場景的第一個子節點，也就是LineSource\n",
    "print repr(source)\n",
    "print source.name # 節點的名字，也就管線中顯示的文字\n",
    "print repr(source.data.points) # LineSource中的座標點\n",
    "print repr(source.data.point_data.scalars) #每個點所對應的純量陣列"
   ]
  },
  {
   "cell_type": "code",
   "execution_count": 8,
   "metadata": {
    "collapsed": false,
    "group_control": {
     "group": 0
    }
   },
   "outputs": [
    {
     "name": "stdout",
     "output_type": "stream",
     "text": [
      "1000\n",
      "3000\n",
      "<tvtk.tvtk_classes.poly_data.PolyData object at 0x0CD527B0>\n",
      "3\n"
     ]
    }
   ],
   "source": [
    "stripper = source.children[0]\n",
    "print stripper.filter.maximum_length\n",
    "print stripper.outputs[0].number_of_points\n",
    "print repr(stripper.outputs[0])\n",
    "print stripper.outputs[0].number_of_lines"
   ]
  },
  {
   "cell_type": "code",
   "execution_count": 9,
   "metadata": {
    "collapsed": false,
    "group_control": {
     "group": 0
    }
   },
   "outputs": [
    {
     "name": "stdout",
     "output_type": "stream",
     "text": [
      "<tvtk.tvtk_classes.poly_data.PolyData object at 0x0CD52210>\n"
     ]
    }
   ],
   "source": [
    "tube = stripper.children[0] # 獲得Tube物件\n",
    "print repr(tube.outputs[0]) # tube的輸出是一個PolyData物件，它是一個3D圓管"
   ]
  },
  {
   "cell_type": "code",
   "execution_count": 10,
   "metadata": {
    "collapsed": false,
    "group_control": {
     "group": 0
    }
   },
   "outputs": [],
   "source": [
    "manager = tube.children[0]\n",
    "manager.scalar_lut_manager.lut_mode = 'Blues'\n",
    "manager.scalar_lut_manager.show_legend = True"
   ]
  },
  {
   "cell_type": "code",
   "execution_count": 11,
   "metadata": {
    "collapsed": false,
    "group_control": {
     "group": 0
    }
   },
   "outputs": [],
   "source": [
    "surface = manager.children[0]\n",
    "surface.actor.property.representation = 'wireframe'    \n",
    "surface.actor.property.opacity = 0.6    "
   ]
  },
  {
   "cell_type": "code",
   "execution_count": 12,
   "metadata": {
    "collapsed": false,
    "group_control": {
     "group": 0
    }
   },
   "outputs": [
    {
     "data": {
      "text/plain": [
       "2.0"
      ]
     },
     "execution_count": 12,
     "metadata": {},
     "output_type": "execute_result"
    }
   ],
   "source": [
    "surface.actor.property.line_width    "
   ]
  },
  {
   "cell_type": "markdown",
   "metadata": {},
   "source": [
    "### 二維圖形的可視化"
   ]
  },
  {
   "cell_type": "code",
   "execution_count": 14,
   "metadata": {
    "collapsed": false,
    "group_control": {
     "group": 0
    }
   },
   "outputs": [],
   "source": [
    "x, y = np.ogrid[-2:2:20j, -2:2:20j] #❶\n",
    "z = x * np.exp( - x**2 - y**2) #❷\n",
    "\n",
    "face = mlab.surf(x, y, z, warp_scale=2) #❸\n",
    "axes = mlab.axes(xlabel='x', ylabel='y', zlabel='z', color=(0, 0, 0)) #❹\n",
    "outline = mlab.outline(face, color=(0, 0, 0))\n",
    "#%hide\n",
    "fig = mlab.gcf()\n",
    "fig.scene.background = 1, 1, 1\n",
    "axis_color = 0.4, 0.4, 0.4\n",
    "outline.actor.property.color = axis_color\n",
    "axes.actors[0].property.color = axis_color\n",
    "axes.title_text_property.color = axis_color\n",
    "axes.label_text_property.color = axis_color\n",
    "mlab.show()"
   ]
  },
  {
   "cell_type": "code",
   "execution_count": 15,
   "metadata": {
    "collapsed": false,
    "group_control": {
     "group": 0
    }
   },
   "outputs": [
    {
     "data": {
      "text/plain": [
       "<tvtk.tvtk_classes.image_data.ImageData at 0x13a243f0>"
      ]
     },
     "execution_count": 15,
     "metadata": {},
     "output_type": "execute_result"
    }
   ],
   "source": [
    "data = mlab.gcf().children[0]\n",
    "img = data.outputs[0]\n",
    "img"
   ]
  },
  {
   "cell_type": "code",
   "execution_count": 16,
   "metadata": {
    "collapsed": false,
    "group_control": {
     "group": 0
    }
   },
   "outputs": [
    {
     "name": "stdout",
     "output_type": "stream",
     "text": [
      "[-2. -2.  0.]\n",
      "[ 0.21052632  0.21052632  1.        ]\n",
      "[20 20  1]\n",
      "[-0.000670925255805, ..., 0.000670925255805], length = 400\n"
     ]
    }
   ],
   "source": [
    "print img.origin # X,Y,Z軸的起點\n",
    "print img.spacing # X,Y,Z軸上的點的間隔\n",
    "print img.dimensions # X,Y,Z軸上的點的個數\n",
    "print repr(img.point_data.scalars) # 每個點所對應的純量值"
   ]
  },
  {
   "cell_type": "code",
   "execution_count": 17,
   "metadata": {
    "collapsed": false,
    "group_control": {
     "group": 0
    }
   },
   "outputs": [
    {
     "data": {
      "text/plain": [
       "<tvtk.tvtk_classes.poly_data.PolyData at 0x14263720>"
      ]
     },
     "execution_count": 17,
     "metadata": {},
     "output_type": "execute_result"
    }
   ],
   "source": [
    "data.children[0].outputs[0]"
   ]
  },
  {
   "cell_type": "code",
   "execution_count": 18,
   "metadata": {
    "collapsed": false,
    "group_control": {
     "group": 0
    }
   },
   "outputs": [],
   "source": [
    "x, y = np.ogrid[-10:10:100j, -1:1:100j]\n",
    "z = np.sin(5*((x/10)**2+y**2))"
   ]
  },
  {
   "cell_type": "code",
   "execution_count": 20,
   "metadata": {
    "collapsed": false,
    "group_control": {
     "group": 0
    }
   },
   "outputs": [],
   "source": [
    "mlab.surf(x, y, z)\n",
    "mlab.axes();"
   ]
  },
  {
   "cell_type": "code",
   "execution_count": 21,
   "metadata": {
    "collapsed": false,
    "group_control": {
     "group": 0
    }
   },
   "outputs": [],
   "source": [
    "mlab.surf(x, y, z, extent=(-1,1,-1,1,-0.5,0.5))\n",
    "mlab.axes(nb_labels=5);"
   ]
  },
  {
   "cell_type": "code",
   "execution_count": 23,
   "metadata": {
    "collapsed": false,
    "group_control": {
     "group": 0
    }
   },
   "outputs": [],
   "source": [
    "mlab.surf(x, y, z, extent=(-1,1,-1,1,-0.5,0.5))\n",
    "mlab.axes(ranges=(x.min(),x.max(),y.min(),y.max(),z.min(),z.max()), nb_labels=5);"
   ]
  },
  {
   "cell_type": "code",
   "execution_count": 24,
   "metadata": {
    "collapsed": false,
    "group_control": {
     "group": 0
    }
   },
   "outputs": [],
   "source": [
    "x, y = np.ogrid[-2:2:20j, -2:2:20j]\n",
    "z = x * np.exp( - x**2 - y**2)\n",
    "\n",
    "mlab.imshow(x, y, z)\n",
    "mlab.show()"
   ]
  },
  {
   "cell_type": "code",
   "execution_count": 25,
   "metadata": {
    "collapsed": false,
    "group_control": {
     "group": 0
    }
   },
   "outputs": [],
   "source": [
    "mlab.contour_surf(x,y,z,warp_scale=2,contours=20);"
   ]
  },
  {
   "cell_type": "code",
   "execution_count": 26,
   "metadata": {
    "collapsed": false,
    "group_control": {
     "group": 0
    }
   },
   "outputs": [],
   "source": [
    "face.enable_contours = True\n",
    "face.contour.number_of_contours = 20"
   ]
  },
  {
   "cell_type": "markdown",
   "metadata": {},
   "source": [
    "### 網格面mesh"
   ]
  },
  {
   "cell_type": "code",
   "execution_count": 2,
   "metadata": {
    "collapsed": false,
    "group_control": {
     "group": 0
    }
   },
   "outputs": [],
   "source": [
    "from numpy import sin, cos\n",
    "dphi, dtheta = np.pi/80.0, np.pi/80.0\n",
    "phi, theta = np.mgrid[0:np.pi+dphi*1.5:dphi, 0:2*np.pi+dtheta*1.5:dtheta]\n",
    "m0, m1, m2, m3, m4, m5, m6, m7 = 4,3,2,3,6,2,6,4\n",
    "r = sin(m0*phi)**m1 + cos(m2*phi)**m3 + sin(m4*theta)**m5 + cos(m6*theta)**m7 #❶\n",
    "x = r*sin(phi)*cos(theta) #❷\n",
    "y = r*cos(phi)\n",
    "z = r*sin(phi)*sin(theta)\n",
    "s = mlab.mesh(x, y, z) #❸\n",
    "\n",
    "mlab.show()"
   ]
  },
  {
   "cell_type": "code",
   "execution_count": 9,
   "metadata": {
    "collapsed": false,
    "group_control": {
     "group": 0
    }
   },
   "outputs": [],
   "source": [
    "x = [[-1,1,1,-1,-1],\n",
    "     [-1,1,1,-1,-1]]\n",
    "\n",
    "y = [[-1,-1,-1,-1,-1],\n",
    "     [ 1, 1, 1, 1, 1]]\n",
    "\n",
    "z = [[1,1,-1,-1,1],\n",
    "     [1,1,-1,-1,1]]\n",
    "\n",
    "box = mlab.mesh(x, y, z, representation=\"surface\")\n",
    "mlab.axes(xlabel='x', ylabel='y', zlabel='z')\n",
    "mlab.outline(box)\n",
    "mlab.show()"
   ]
  },
  {
   "cell_type": "code",
   "execution_count": 10,
   "metadata": {
    "collapsed": false,
    "group_control": {
     "group": 0
    }
   },
   "outputs": [],
   "source": [
    "rho, theta = np.mgrid[0:1:40j, 0:2*np.pi:40j] #❶\n",
    "\n",
    "z = rho*rho #❷\n",
    "\n",
    "x = rho*np.cos(theta) #❸\n",
    "y = rho*np.sin(theta) \n",
    "\n",
    "s = mlab.mesh(x,y,z)\n",
    "mlab.show()"
   ]
  },
  {
   "cell_type": "code",
   "execution_count": 12,
   "metadata": {
    "collapsed": false,
    "group_control": {
     "group": 0
    }
   },
   "outputs": [],
   "source": [
    "x, y = np.mgrid[-2:2:20j, -2:2:20j] #❶\n",
    "z = x * np.exp( - x**2 - y**2)\n",
    "z *= 2\n",
    "c = 2*x + y #❷\n",
    "\n",
    "pl = mlab.mesh(x, y, z, scalars=c) #❸\n",
    "mlab.axes(xlabel='x', ylabel='y', zlabel='z')\n",
    "mlab.outline(pl)\n",
    "mlab.show()"
   ]
  },
  {
   "cell_type": "markdown",
   "metadata": {},
   "source": [
    "### 修改和建立管線"
   ]
  },
  {
   "cell_type": "code",
   "execution_count": 74,
   "metadata": {
    "collapsed": false,
    "group_control": {
     "group": 0
    }
   },
   "outputs": [],
   "source": [
    "x, y = np.ogrid[-2:2:20j, -2:2:20j]\n",
    "z = x * np.exp( - x**2 - y**2)\n",
    "\n",
    "face = mlab.surf(x, y, z, warp_scale=2)\n",
    "mlab.axes(xlabel='x', ylabel='y', zlabel='z')\n",
    "mlab.outline(face);"
   ]
  },
  {
   "cell_type": "code",
   "execution_count": 75,
   "metadata": {
    "collapsed": false,
    "group_control": {
     "group": 0
    }
   },
   "outputs": [
    {
     "name": "stdout",
     "output_type": "stream",
     "text": [
      "<mayavi.sources.array_source.ArraySource object at 0x127FCE70>\n",
      "<tvtk.tvtk_classes.image_data.ImageData object at 0x127C5960>\n"
     ]
    }
   ],
   "source": [
    "source = mlab.gcf().children[0]\n",
    "print source\n",
    "img = source.image_data\n",
    "print repr(img)"
   ]
  },
  {
   "cell_type": "code",
   "execution_count": null,
   "metadata": {
    "collapsed": true,
    "group_control": {
     "group": 0
    }
   },
   "outputs": [],
   "source": [
    "c = 2*x + y # 表示彩色的純量陣列\n",
    "array_id = img.point_data.add_array(c.T.ravel())\n",
    "img.point_data.get_array(array_id).name = \"color\""
   ]
  },
  {
   "cell_type": "code",
   "execution_count": 84,
   "metadata": {
    "collapsed": false,
    "group_control": {
     "group": 0
    }
   },
   "outputs": [],
   "source": [
    "source.update()\n",
    "source.pipeline_changed = True"
   ]
  },
  {
   "cell_type": "code",
   "execution_count": 77,
   "metadata": {
    "collapsed": false,
    "group_control": {
     "group": 0
    }
   },
   "outputs": [
    {
     "name": "stdout",
     "output_type": "stream",
     "text": [
      "[[-0.00067093 -0.00148987 -0.00302777]\n",
      " [-0.00133304 -0.00296016 -0.00601578]\n",
      " [-0.00239035 -0.00530804 -0.01078724]]\n",
      "[-0.00067093 -0.00133304 -0.00239035]\n"
     ]
    }
   ],
   "source": [
    "print z[:3,:3] # 原始的二維陣列中元素\n",
    "# ImageData中的純量值的順序\n",
    "print img.point_data.scalars.to_array()[:3] # 和陣列z的第0列的數值相同"
   ]
  },
  {
   "cell_type": "code",
   "execution_count": 78,
   "metadata": {
    "collapsed": false,
    "group_control": {
     "group": 0
    }
   },
   "outputs": [],
   "source": [
    "normals = mlab.gcf().children[0].children[0].children[0]"
   ]
  },
  {
   "cell_type": "code",
   "execution_count": 79,
   "metadata": {
    "collapsed": false,
    "group_control": {
     "group": 0
    }
   },
   "outputs": [
    {
     "data": {
      "text/plain": [
       "array([-0.00067093, -0.00133304, -0.00239035])"
      ]
     },
     "execution_count": 79,
     "metadata": {},
     "output_type": "execute_result"
    }
   ],
   "source": [
    "normals.outputs[0].point_data.scalars.to_array()[:3]"
   ]
  },
  {
   "cell_type": "code",
   "execution_count": 80,
   "metadata": {
    "collapsed": false,
    "group_control": {
     "group": 0
    }
   },
   "outputs": [],
   "source": [
    "surf = normals.children[0]\n",
    "del normals.children[0]"
   ]
  },
  {
   "cell_type": "code",
   "execution_count": 81,
   "metadata": {
    "collapsed": false,
    "group_control": {
     "group": 0
    }
   },
   "outputs": [],
   "source": [
    "active_attr = mlab.pipeline.set_active_attribute(normals, point_scalars=\"color\")"
   ]
  },
  {
   "cell_type": "code",
   "execution_count": 82,
   "metadata": {
    "collapsed": false,
    "group_control": {
     "group": 0
    }
   },
   "outputs": [],
   "source": [
    "active_attr.children.append(surf)    "
   ]
  },
  {
   "cell_type": "code",
   "execution_count": 83,
   "metadata": {
    "collapsed": false,
    "group_control": {
     "group": 0
    }
   },
   "outputs": [
    {
     "data": {
      "text/plain": [
       "array([-6.        , -5.57894737, -5.15789474])"
      ]
     },
     "execution_count": 83,
     "metadata": {},
     "output_type": "execute_result"
    }
   ],
   "source": [
    "normals.children[0].outputs[0].point_data.scalars.to_array()[:3]"
   ]
  },
  {
   "cell_type": "code",
   "execution_count": 88,
   "metadata": {
    "collapsed": false,
    "group_control": {
     "group": 0
    }
   },
   "outputs": [],
   "source": [
    "src = mlab.pipeline.array2d_source(x, y, z) #建立ArraySource資料源\n",
    "#加入color陣列\n",
    "image = src.image_data\n",
    "array_id = image.point_data.add_array(c.T.ravel())\n",
    "image.point_data.get_array(array_id).name = \"color\"\n",
    "src.update() #更新資料源的輸出\n",
    "\n",
    "# 建立管線上後續物件\n",
    "warp = mlab.pipeline.warp_scalar(src, warp_scale=2.0)\n",
    "normals = mlab.pipeline.poly_data_normals(warp)\n",
    "active_attr = mlab.pipeline.set_active_attribute(normals,\n",
    "    point_scalars=\"color\")\n",
    "surf = mlab.pipeline.surface(active_attr)\n",
    "mlab.axes()\n",
    "mlab.outline()\n",
    "mlab.show()"
   ]
  },
  {
   "cell_type": "markdown",
   "metadata": {},
   "source": [
    "### 純量場"
   ]
  },
  {
   "cell_type": "markdown",
   "metadata": {},
   "source": [
    "> **SOURCE**\n",
    "\n",
    "> `scpy2.tvtk.mlab_scalar_field`：使用相等面、體素呈像和切面可視化純量場"
   ]
  },
  {
   "cell_type": "code",
   "execution_count": 2,
   "metadata": {
    "collapsed": true
   },
   "outputs": [],
   "source": [
    "#%hide\n",
    "%exec_python -m scpy2.tvtk.mlab_scalar_field"
   ]
  },
  {
   "cell_type": "code",
   "execution_count": 2,
   "metadata": {
    "collapsed": false,
    "group_control": {
     "group": 0
    }
   },
   "outputs": [],
   "source": [
    "x, y, z = np.ogrid[-2:2:40j, -2:2:40j, -2:0:40j]\n",
    "s = 2/np.sqrt((x-1)**2 + y**2 + z**2) + 1/np.sqrt((x+1)**2 + y**2 + z**2)"
   ]
  },
  {
   "cell_type": "code",
   "execution_count": 3,
   "metadata": {
    "collapsed": false,
    "group_control": {
     "group": 0
    }
   },
   "outputs": [],
   "source": [
    "surface = mlab.contour3d(s)"
   ]
  },
  {
   "cell_type": "code",
   "execution_count": 4,
   "metadata": {
    "collapsed": false,
    "group_control": {
     "group": 0
    }
   },
   "outputs": [],
   "source": [
    "surface.contour.maximum_contour = 15 # 相等面的上限值為15\n",
    "surface.contour.number_of_contours = 10 # 在最小值到15之間繪制10個相等面\n",
    "surface.actor.property.opacity = 0.4 # 透明度為0.4"
   ]
  },
  {
   "cell_type": "code",
   "execution_count": 5,
   "metadata": {
    "collapsed": false,
    "group_control": {
     "group": 0
    }
   },
   "outputs": [],
   "source": [
    "field = mlab.pipeline.scalar_field(s)\n",
    "mlab.pipeline.volume(field);"
   ]
  },
  {
   "cell_type": "code",
   "execution_count": 6,
   "metadata": {
    "collapsed": false,
    "group_control": {
     "group": 0
    }
   },
   "outputs": [],
   "source": [
    "mlab.pipeline.volume(field, vmin=1.5, vmax=10);"
   ]
  },
  {
   "cell_type": "code",
   "execution_count": 7,
   "metadata": {
    "collapsed": false,
    "group_control": {
     "group": 0
    }
   },
   "outputs": [],
   "source": [
    "cut = mlab.pipeline.scalar_cut_plane(field.children[0], plane_orientation=\"y_axes\")"
   ]
  },
  {
   "cell_type": "code",
   "execution_count": 8,
   "metadata": {
    "collapsed": false,
    "group_control": {
     "group": 0
    }
   },
   "outputs": [],
   "source": [
    "cut.enable_contours = True # 開啟等高線顯示\n",
    "cut.contour.number_of_contours = 40 # 等高線的數目為40"
   ]
  },
  {
   "cell_type": "markdown",
   "metadata": {},
   "source": [
    "### 向量場"
   ]
  },
  {
   "cell_type": "markdown",
   "metadata": {},
   "source": [
    "> **SOURCE**\n",
    "\n",
    "> `scpy2.tvtk.mlab_vector_field`：使用向量箭頭、切片、等梯度面和流線顯示向量場"
   ]
  },
  {
   "cell_type": "code",
   "execution_count": 11,
   "metadata": {
    "collapsed": true,
    "group_control": {
     "group": 0
    }
   },
   "outputs": [],
   "source": [
    "#%hide\n",
    "%exec_python -m scpy2.tvtk.mlab_vector_field"
   ]
  },
  {
   "cell_type": "code",
   "execution_count": 2,
   "metadata": {
    "collapsed": false,
    "group_control": {
     "group": 0
    }
   },
   "outputs": [],
   "source": [
    "p, r, b = (10.0, 28.0, 3.0)\n",
    "x, y, z = np.mgrid[-17:20:20j, -21:28:20j, 0:48:20j]\n",
    "u, v, w = p*(y-x), x*(r-z)-y, x*y-b*z"
   ]
  },
  {
   "cell_type": "code",
   "execution_count": 3,
   "metadata": {
    "collapsed": false,
    "group_control": {
     "group": 0
    }
   },
   "outputs": [],
   "source": [
    "vectors = mlab.quiver3d(x, y, z, u, v, w)"
   ]
  },
  {
   "cell_type": "code",
   "execution_count": 4,
   "metadata": {
    "collapsed": false,
    "group_control": {
     "group": 0
    }
   },
   "outputs": [],
   "source": [
    "vectors.glyph.mask_input_points = True  # 開啟使用部分資料的選項\n",
    "vectors.glyph.mask_points.on_ratio = 20 # 隨機選取原始資料中的1/20個點進行描繪\n",
    "vectors.glyph.glyph.scale_factor = 5.0 # 設定箭頭的縮放比例"
   ]
  },
  {
   "cell_type": "code",
   "execution_count": 5,
   "metadata": {
    "collapsed": false,
    "group_control": {
     "group": 0
    }
   },
   "outputs": [],
   "source": [
    "src = mlab.pipeline.vector_field(x, y, z, u, v, w)\n",
    "cut_plane = mlab.pipeline.vector_cut_plane(src, scale_factor=3)\n",
    "cut_plane.glyph.mask_points.maximum_number_of_points = 10000\n",
    "cut_plane.glyph.mask_points.on_ratio = 2\n",
    "cut_plane.glyph.mask_input_points = True"
   ]
  },
  {
   "cell_type": "code",
   "execution_count": 6,
   "metadata": {
    "collapsed": false,
    "group_control": {
     "group": 0
    }
   },
   "outputs": [],
   "source": [
    "magnitude = mlab.pipeline.extract_vector_norm(src)"
   ]
  },
  {
   "cell_type": "code",
   "execution_count": 7,
   "metadata": {
    "collapsed": false,
    "group_control": {
     "group": 0
    }
   },
   "outputs": [],
   "source": [
    "surface = mlab.pipeline.iso_surface(magnitude)\n",
    "surface.actor.property.opacity = 0.3"
   ]
  },
  {
   "cell_type": "code",
   "execution_count": 8,
   "metadata": {
    "collapsed": false,
    "group_control": {
     "group": 0
    }
   },
   "outputs": [
    {
     "name": "stdout",
     "output_type": "stream",
     "text": [
      "[579.71887207, ..., 602.195983887], length = 8000\n",
      "[(-40.0, -455.0, 357.0), ..., (80.0, -428.0, 416.0)], length = 8000\n"
     ]
    }
   ],
   "source": [
    "print repr(magnitude.outputs[0].point_data.scalars)\n",
    "print repr(magnitude.outputs[0].point_data.vectors)"
   ]
  },
  {
   "cell_type": "code",
   "execution_count": 10,
   "metadata": {
    "collapsed": false,
    "group_control": {
     "group": 0
    }
   },
   "outputs": [],
   "source": [
    "mlab.flow(x, y, z, u, v, w);"
   ]
  },
  {
   "cell_type": "code",
   "execution_count": null,
   "metadata": {
    "collapsed": true,
    "group_control": {
     "group": 0
    }
   },
   "outputs": [],
   "source": []
  }
 ],
 "metadata": {
  "kernelspec": {
   "display_name": "Python 2",
   "language": "python",
   "name": "python2"
  },
  "language_info": {
   "codemirror_mode": {
    "name": "ipython",
    "version": 2
   },
   "file_extension": ".py",
   "mimetype": "text/x-python",
   "name": "python",
   "nbconvert_exporter": "python",
   "pygments_lexer": "ipython2",
   "version": "2.7.9"
  }
 },
 "nbformat": 4,
 "nbformat_minor": 0
}
