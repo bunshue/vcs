﻿{
 "cells": [
  {
   "cell_type": "code",
   "execution_count": 10,
   "metadata": {
    "collapsed": false,
    "group_control": {
     "group": 0
    }
   },
   "outputs": [],
   "source": [
    "%gui qt\n",
    "import numpy as np\n",
    "from tvtk.api import tvtk"
   ]
  },
  {
   "cell_type": "markdown",
   "metadata": {},
   "source": [
    "## TVTK的改進"
   ]
  },
  {
   "cell_type": "code",
   "execution_count": 7,
   "metadata": {
    "collapsed": false,
    "group_control": {
     "group": 0
    }
   },
   "outputs": [],
   "source": [
    "%%python\n",
    "\n",
    "# -*- coding: utf-8 -*-\n",
    "import vtk\n",
    "\n",
    "# 建立一個圓錐資料源\n",
    "cone = vtk.vtkConeSource( )\n",
    "cone.SetHeight( 3.0 )\n",
    "cone.SetRadius( 1.0 )\n",
    "cone.SetResolution(10)\n",
    "# 使用PolyDataMapper將資料轉為圖形資料\n",
    "coneMapper = vtk.vtkPolyDataMapper( )\n",
    "coneMapper.SetInputConnection( cone.GetOutputPort( ) )\n",
    "# 建立一個Actor\n",
    "coneActor = vtk.vtkActor( )\n",
    "coneActor.SetMapper ( coneMapper )\n",
    "# 用線框模式顯示圓錐\n",
    "coneActor.GetProperty( ).SetRepresentationToWireframe( )\n",
    "# 建立Renderer和視窗\n",
    "ren1 = vtk.vtkRenderer( )\n",
    "ren1.AddActor( coneActor )\n",
    "ren1.SetBackground( 0.1 , 0.2 , 0.4 )\n",
    "renWin = vtk.vtkRenderWindow( )\n",
    "renWin.AddRenderer( ren1 )\n",
    "renWin.SetSize(300 , 300)\n",
    "# 建立互動工具\n",
    "iren = vtk.vtkRenderWindowInteractor( )\n",
    "iren.SetRenderWindow( renWin )\n",
    "iren.Initialize( )\n",
    "iren.Start( )"
   ]
  },
  {
   "cell_type": "markdown",
   "metadata": {},
   "source": [
    "### TVTK的基本用法"
   ]
  },
  {
   "cell_type": "code",
   "execution_count": 4,
   "metadata": {
    "collapsed": true,
    "group_control": {
     "group": 0
    }
   },
   "outputs": [],
   "source": [
    "from tvtk.api import tvtk\n",
    "\n",
    "cs = tvtk.ConeSource(height=3.0, radius=1.0, resolution=36)\n",
    "m = tvtk.PolyDataMapper(input_connection = cs.output_port)\n",
    "a = tvtk.Actor(mapper=m)\n",
    "ren = tvtk.Renderer(background=(1, 1, 1))\n",
    "ren.add_actor(a)\n",
    "rw = tvtk.RenderWindow(size=(300,300))\n",
    "rw.add_renderer(ren)\n",
    "rwi = tvtk.RenderWindowInteractor(render_window=rw) \n",
    "rwi.initialize()\n",
    "rwi.start()"
   ]
  },
  {
   "cell_type": "markdown",
   "metadata": {},
   "source": [
    "### Trait屬性"
   ]
  },
  {
   "cell_type": "code",
   "execution_count": null,
   "metadata": {
    "collapsed": false,
    "group_control": {
     "group": 0
    }
   },
   "outputs": [],
   "source": [
    "p = tvtk.Property()\n",
    "p.set(opacity=0.5, color=(1,0,0), representation=\"w\")"
   ]
  },
  {
   "cell_type": "code",
   "execution_count": null,
   "metadata": {
    "collapsed": false,
    "group_control": {
     "group": 0
    }
   },
   "outputs": [],
   "source": [
    "p.edit_traits()"
   ]
  },
  {
   "cell_type": "code",
   "execution_count": 11,
   "metadata": {
    "collapsed": false,
    "group_control": {
     "group": 0
    }
   },
   "outputs": [
    {
     "name": "stdout",
     "output_type": "stream",
     "text": [
      "wireframe\n",
      "surface\n"
     ]
    }
   ],
   "source": [
    "print p.representation\n",
    "p_vtk = tvtk.to_vtk(p)\n",
    "p_vtk.SetRepresentationToSurface()\n",
    "print p.representation"
   ]
  },
  {
   "cell_type": "markdown",
   "metadata": {},
   "source": [
    "### 序列化"
   ]
  },
  {
   "cell_type": "code",
   "execution_count": 12,
   "metadata": {
    "collapsed": false,
    "group_control": {
     "group": 0
    }
   },
   "outputs": [
    {
     "data": {
      "text/plain": [
       "'wireframe'"
      ]
     },
     "execution_count": 12,
     "metadata": {},
     "output_type": "execute_result"
    }
   ],
   "source": [
    "import cPickle\n",
    "p = tvtk.Property()\n",
    "p.representation = \"w\"\n",
    "s = cPickle.dumps(p)\n",
    "del p\n",
    "q = cPickle.loads(s)\n",
    "q.representation"
   ]
  },
  {
   "cell_type": "code",
   "execution_count": 8,
   "metadata": {
    "collapsed": false,
    "group_control": {
     "group": 0
    }
   },
   "outputs": [
    {
     "name": "stdout",
     "output_type": "stream",
     "text": [
      "gouraud\n",
      "flat\n"
     ]
    }
   ],
   "source": [
    "p = tvtk.Property()\n",
    "p.interpolation = \"flat\"\n",
    "d = p.__getstate__()\n",
    "del p\n",
    "q = tvtk.Property()\n",
    "print q.interpolation\n",
    "q.__setstate__(d)\n",
    "print q.interpolation"
   ]
  },
  {
   "cell_type": "markdown",
   "metadata": {},
   "source": [
    "### 集合迭代"
   ]
  },
  {
   "cell_type": "code",
   "execution_count": 13,
   "metadata": {
    "collapsed": false,
    "group_control": {
     "group": 0
    }
   },
   "outputs": [
    {
     "name": "stdout",
     "output_type": "stream",
     "text": [
      "0\n",
      "2\n",
      "<tvtk.tvtk_classes.open_gl_actor.OpenGLActor object at 0x0A24A690>\n",
      "<tvtk.tvtk_classes.open_gl_actor.OpenGLActor object at 0x0A174ED0>\n",
      "1\n"
     ]
    }
   ],
   "source": [
    "ac = tvtk.ActorCollection()\n",
    "print len(ac)\n",
    "ac.append(tvtk.Actor())\n",
    "ac.append(tvtk.Actor())\n",
    "print len(ac)\n",
    "\n",
    "for a in ac:\n",
    "    print repr(a)\n",
    "\n",
    "del ac[0]\n",
    "print len(ac)"
   ]
  },
  {
   "cell_type": "code",
   "execution_count": 14,
   "metadata": {
    "collapsed": false,
    "group_control": {
     "group": 0
    }
   },
   "outputs": [
    {
     "name": "stdout",
     "output_type": "stream",
     "text": [
      "0\n",
      "2\n",
      "(vtkOpenGLActor)0A24AF90\n",
      "(vtkOpenGLActor)0A24AF00\n",
      "1\n"
     ]
    }
   ],
   "source": [
    "import vtk\n",
    "ac = vtk.vtkActorCollection()\n",
    "print ac.GetNumberOfItems()\n",
    "ac.AddItem(vtk.vtkActor())\n",
    "ac.AddItem(vtk.vtkActor())\n",
    "print ac.GetNumberOfItems()\n",
    "\n",
    "ac.InitTraversal()\n",
    "for i in range(ac.GetNumberOfItems()):\n",
    "    print repr(ac.GetNextItem())\n",
    "    \n",
    "ac.RemoveItem(0)\n",
    "print ac.GetNumberOfItems()"
   ]
  },
  {
   "cell_type": "markdown",
   "metadata": {},
   "source": [
    "### 陣列動作"
   ]
  },
  {
   "cell_type": "code",
   "execution_count": 15,
   "metadata": {
    "collapsed": false,
    "group_control": {
     "group": 0
    }
   },
   "outputs": [
    {
     "name": "stdout",
     "output_type": "stream",
     "text": [
      "_in_set:                 0\n",
      "_vtk_obj:                (vtkPoints)0A2D82D0\n",
      "actual_memory_size:      1\n",
      "bounds:                  (0.0, 1.0, 0.0, 1.0, 0.0, 1.0)\n",
      "class_name:              'vtkPoints'\n",
      "data:                    [(1.0, 0.0, 0.0), (0.0, 1.0, 0.0), (0.0, 0.0, 1.0)]\n",
      "data_type:               'double'\n",
      "data_type_:              11\n",
      "debug:                   0\n",
      "debug_:                  0\n",
      "global_warning_display:  1\n",
      "global_warning_display_: 1\n",
      "m_time:                  44927\n",
      "number_of_points:        3\n",
      "reference_count:         1\n"
     ]
    },
    {
     "data": {
      "text/plain": [
       "array([[ 1.,  0.,  0.],\n",
       "       [ 0.,  1.,  0.],\n",
       "       [ 0.,  0.,  1.]])"
      ]
     },
     "execution_count": 15,
     "metadata": {},
     "output_type": "execute_result"
    }
   ],
   "source": [
    "pts = tvtk.Points()\n",
    "p_array = np.eye(3)\n",
    "pts.from_array(p_array)\n",
    "pts.print_traits()\n",
    "pts.to_array()"
   ]
  },
  {
   "cell_type": "code",
   "execution_count": 16,
   "metadata": {
    "collapsed": false,
    "group_control": {
     "group": 0
    }
   },
   "outputs": [
    {
     "name": "stdout",
     "output_type": "stream",
     "text": [
      "[(0.0, 0.0, 0.0), (1.0, 0.0, 0.0), (0.0, 1.0, 0.0), (0.0, 0.0, 1.0)]\n",
      "<tvtk.tvtk_classes.cell_array.CellArray object at 0x0A2E5360>\n",
      "[3 0 1 3 3 0 3 2 3 1 2 3 3 0 2 1]\n",
      "[ 1.1  1.2  2.1  2.2]\n"
     ]
    }
   ],
   "source": [
    "points = np.array([[0,0,0],[1,0,0],[0,1,0],[0,0,1]], 'f')\n",
    "triangles = np.array([[0,1,3],[0,3,2],[1,2,3],[0,2,1]])\n",
    "values = np.array([1.1, 1.2, 2.1, 2.2])\n",
    "mesh = tvtk.PolyData(points=points, polys=triangles)\n",
    "mesh.point_data.scalars = values\n",
    "print repr(mesh.points)\n",
    "print repr(mesh.polys)\n",
    "print mesh.polys.to_array()\n",
    "print mesh.point_data.scalars.to_array()"
   ]
  }
 ],
 "metadata": {
  "kernelspec": {
   "display_name": "Python 2",
   "language": "python",
   "name": "python2"
  },
  "language_info": {
   "codemirror_mode": {
    "name": "ipython",
    "version": 2
   },
   "file_extension": ".py",
   "mimetype": "text/x-python",
   "name": "python",
   "nbconvert_exporter": "python",
   "pygments_lexer": "ipython2",
   "version": "2.7.9"
  }
 },
 "nbformat": 4,
 "nbformat_minor": 0
}
