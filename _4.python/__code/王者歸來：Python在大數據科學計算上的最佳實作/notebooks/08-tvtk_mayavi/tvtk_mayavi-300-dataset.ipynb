﻿{
 "cells": [
  {
   "cell_type": "code",
   "execution_count": 1,
   "metadata": {
    "collapsed": false,
    "group_control": {
     "group": 0
    }
   },
   "outputs": [],
   "source": [
    "from tvtk.api import tvtk\n",
    "import numpy as np"
   ]
  },
  {
   "cell_type": "markdown",
   "metadata": {},
   "source": [
    "## 資料集"
   ]
  },
  {
   "cell_type": "markdown",
   "metadata": {},
   "source": [
    "### ImageData"
   ]
  },
  {
   "cell_type": "code",
   "execution_count": 2,
   "metadata": {
    "collapsed": false,
    "group_control": {
     "group": 0
    }
   },
   "outputs": [],
   "source": [
    "img = tvtk.ImageData(spacing=(0.1,0.1,0.1), origin=(0.1,0.2,0.3), dimensions=(3,4,5))"
   ]
  },
  {
   "cell_type": "code",
   "execution_count": 3,
   "metadata": {
    "collapsed": false,
    "group_control": {
     "group": 0
    }
   },
   "outputs": [
    {
     "name": "stdout",
     "output_type": "stream",
     "text": [
      "0.1, 0.2, 0.3\n",
      "0.2, 0.2, 0.3\n",
      "0.3, 0.2, 0.3\n",
      "0.1, 0.3, 0.3\n",
      "0.2, 0.3, 0.3\n",
      "0.3, 0.3, 0.3\n"
     ]
    }
   ],
   "source": [
    "for n in range(6):\n",
    "    print \"%.1f, %.1f, %.1f\" % img.get_point(n)"
   ]
  },
  {
   "cell_type": "code",
   "execution_count": 4,
   "metadata": {
    "collapsed": false,
    "group_control": {
     "group": 0
    }
   },
   "outputs": [
    {
     "data": {
      "text/plain": [
       "<tvtk.tvtk_classes.point_data.PointData at 0xa187780>"
      ]
     },
     "execution_count": 4,
     "metadata": {},
     "output_type": "execute_result"
    }
   ],
   "source": [
    "img.point_data"
   ]
  },
  {
   "cell_type": "code",
   "execution_count": 5,
   "metadata": {
    "collapsed": false,
    "group_control": {
     "group": 0
    }
   },
   "outputs": [
    {
     "name": "stdout",
     "output_type": "stream",
     "text": [
      "None\n",
      "<class 'tvtk.tvtk_classes.double_array.DoubleArray'>\n"
     ]
    },
    {
     "data": {
      "text/plain": [
       "[0.0, ..., 59.0], length = 60"
      ]
     },
     "execution_count": 5,
     "metadata": {},
     "output_type": "execute_result"
    }
   ],
   "source": [
    "print img.point_data.scalars # 沒有資料\n",
    "img.point_data.scalars = np.arange(0.0, img.number_of_points)\n",
    "print type(img.point_data.scalars)\n",
    "img.point_data.scalars"
   ]
  },
  {
   "cell_type": "code",
   "execution_count": 6,
   "metadata": {
    "collapsed": false,
    "group_control": {
     "group": 0
    }
   },
   "outputs": [
    {
     "name": "stdout",
     "output_type": "stream",
     "text": [
      "[  0.   1.   2.   3.   4.   5.   6.   7.   8.   9.  10.  11.  12.  13.  14.\n",
      "  15.  16.  17.  18.  19.  20.  21.  22.  23.  24.  25.  26.  27.  28.  29.\n",
      "  30.  31.  32.  33.  34.  35.  36.  37.  38.  39.  40.  41.  42.  43.  44.\n",
      "  45.  46.  47.  48.  49.  50.  51.  52.  53.  54.  55.  56.  57.  58.  59.]\n",
      "10.0 11.0\n"
     ]
    }
   ],
   "source": [
    "a = img.point_data.scalars.to_array()\n",
    "print a\n",
    "a[:2] = 10, 11\n",
    "print img.point_data.scalars[0], img.point_data.scalars[1]"
   ]
  },
  {
   "cell_type": "code",
   "execution_count": 7,
   "metadata": {
    "collapsed": false,
    "group_control": {
     "group": 0
    }
   },
   "outputs": [
    {
     "data": {
      "text/plain": [
       "60"
      ]
     },
     "execution_count": 7,
     "metadata": {},
     "output_type": "execute_result"
    }
   ],
   "source": [
    "img.point_data.scalars.number_of_tuples"
   ]
  },
  {
   "cell_type": "code",
   "execution_count": 8,
   "metadata": {
    "collapsed": false,
    "group_control": {
     "group": 0
    }
   },
   "outputs": [],
   "source": [
    "img.point_data.scalars.name = 'scalars'"
   ]
  },
  {
   "cell_type": "code",
   "execution_count": 9,
   "metadata": {
    "collapsed": false,
    "group_control": {
     "group": 0
    }
   },
   "outputs": [],
   "source": [
    "data = tvtk.DoubleArray() # 建立一個空的DoubleArray陣列\n",
    "data.from_array(np.zeros(img.number_of_points))"
   ]
  },
  {
   "cell_type": "code",
   "execution_count": 10,
   "metadata": {
    "collapsed": false,
    "group_control": {
     "group": 0
    }
   },
   "outputs": [],
   "source": [
    "data.name = \"zerodata\""
   ]
  },
  {
   "cell_type": "code",
   "execution_count": 12,
   "metadata": {
    "collapsed": false,
    "group_control": {
     "group": 0
    }
   },
   "outputs": [
    {
     "name": "stdout",
     "output_type": "stream",
     "text": [
      "1\n",
      "[0.0, ..., 0.0], length = 60\n",
      "zerodata\n",
      "[10.0, ..., 59.0], length = 60\n",
      "scalars\n"
     ]
    }
   ],
   "source": [
    "print img.point_data.add_array(data)\n",
    "print repr(img.point_data.get_array(1)) # 獲得第1個陣列\n",
    "print img.point_data.get_array_name(1) # 獲得第1個陣列的名字\n",
    "print repr(img.point_data.get_array(0)) # 獲得第0個陣列\n",
    "print img.point_data.get_array_name(0) # 獲得第0個陣列的名字"
   ]
  },
  {
   "cell_type": "code",
   "execution_count": 13,
   "metadata": {
    "collapsed": false,
    "group_control": {
     "group": 0
    }
   },
   "outputs": [
    {
     "data": {
      "text/plain": [
       "1"
      ]
     },
     "execution_count": 13,
     "metadata": {},
     "output_type": "execute_result"
    }
   ],
   "source": [
    "img.point_data.remove_array(\"zerodata\") # 移除名為\"zerodata\"的陣列\n",
    "img.point_data.number_of_arrays"
   ]
  },
  {
   "cell_type": "code",
   "execution_count": 14,
   "metadata": {
    "collapsed": false,
    "group_control": {
     "group": 0
    }
   },
   "outputs": [
    {
     "name": "stdout",
     "output_type": "stream",
     "text": [
      "[(0.0, 1.0, 2.0), ..., (177.0, 178.0, 179.0)], length = 60\n",
      "<class 'tvtk.tvtk_classes.double_array.DoubleArray'>\n",
      "(0.0, 1.0, 2.0)\n"
     ]
    }
   ],
   "source": [
    "vectors = np.arange(0.0, img.number_of_points*3).reshape(-1, 3)\n",
    "img.point_data.vectors = vectors\n",
    "print repr(img.point_data.vectors)\n",
    "print type(img.point_data.vectors)\n",
    "print img.point_data.vectors[0]"
   ]
  },
  {
   "cell_type": "code",
   "execution_count": 15,
   "metadata": {
    "collapsed": false,
    "group_control": {
     "group": 0
    }
   },
   "outputs": [
    {
     "name": "stdout",
     "output_type": "stream",
     "text": [
      "img.point_data.vectors.number_of_tuples  img.point_data.vectors.number_of_components\n",
      "---------------------------------------  -------------------------------------------\n",
      "60                                       3                                          \n"
     ]
    }
   ],
   "source": [
    "%C img.point_data.vectors.number_of_tuples; img.point_data.vectors.number_of_components"
   ]
  },
  {
   "cell_type": "markdown",
   "metadata": {},
   "source": [
    "> **SOURCE**\n",
    "\n",
    "> `scpy2.tvtk.figure_imagedata`：繪制`ref:fig-prev`的程式。"
   ]
  },
  {
   "cell_type": "code",
   "execution_count": 1,
   "metadata": {
    "collapsed": true
   },
   "outputs": [],
   "source": [
    "#%hide\n",
    "%exec_python -m scpy2.tvtk.figure_imagedata"
   ]
  },
  {
   "cell_type": "code",
   "execution_count": 16,
   "metadata": {
    "collapsed": false,
    "group_control": {
     "group": 0
    }
   },
   "outputs": [
    {
     "name": "stdout",
     "output_type": "stream",
     "text": [
      "<tvtk.tvtk_classes.voxel.Voxel object at 0x0A184C30>\n",
      "cell.number_of_points  cell.number_of_edges  cell.number_of_faces\n",
      "---------------------  --------------------  --------------------\n",
      "8                      12                    6                   \n"
     ]
    }
   ],
   "source": [
    "cell = img.get_cell(0)\n",
    "print repr(cell)\n",
    "%C cell.number_of_points; cell.number_of_edges; cell.number_of_faces"
   ]
  },
  {
   "cell_type": "code",
   "execution_count": 17,
   "metadata": {
    "collapsed": false,
    "group_control": {
     "group": 0
    }
   },
   "outputs": [
    {
     "name": "stdout",
     "output_type": "stream",
     "text": [
      "[0, 1, 3, 4, 12, 13, 15, 16]\n"
     ]
    },
    {
     "data": {
      "text/plain": [
       "array([[ 0.1,  0.2,  0.3],\n",
       "       [ 0.2,  0.2,  0.3],\n",
       "       [ 0.1,  0.3,  0.3],\n",
       "       [ 0.2,  0.3,  0.3],\n",
       "       [ 0.1,  0.2,  0.4],\n",
       "       [ 0.2,  0.2,  0.4],\n",
       "       [ 0.1,  0.3,  0.4],\n",
       "       [ 0.2,  0.3,  0.4]])"
      ]
     },
     "execution_count": 17,
     "metadata": {},
     "output_type": "execute_result"
    }
   ],
   "source": [
    "print repr(cell.point_ids)\n",
    "cell.points.to_array()"
   ]
  },
  {
   "cell_type": "code",
   "execution_count": 18,
   "metadata": {
    "collapsed": false,
    "group_control": {
     "group": 0
    }
   },
   "outputs": [
    {
     "data": {
      "text/plain": [
       "24"
      ]
     },
     "execution_count": 18,
     "metadata": {},
     "output_type": "execute_result"
    }
   ],
   "source": [
    "img.number_of_cells"
   ]
  },
  {
   "cell_type": "code",
   "execution_count": 19,
   "metadata": {
    "collapsed": false,
    "group_control": {
     "group": 0
    }
   },
   "outputs": [
    {
     "name": "stdout",
     "output_type": "stream",
     "text": [
      "cells of point 3: [2, 0]\n",
      "points of cell 0: [0, 1, 3, 4, 12, 13, 15, 16]\n"
     ]
    }
   ],
   "source": [
    "a = tvtk.IdList()\n",
    "img.get_point_cells(3, a)\n",
    "print \"cells of point 3:\", repr(a)\n",
    "img.get_cell_points(0, a)\n",
    "print \"points of cell 0:\", repr(a) # 和cell.point_ids的值相同"
   ]
  },
  {
   "cell_type": "code",
   "execution_count": 20,
   "metadata": {
    "collapsed": false,
    "group_control": {
     "group": 0
    }
   },
   "outputs": [
    {
     "name": "stdout",
     "output_type": "stream",
     "text": [
      "[1, 2, 3, 4, 5, 6]\n"
     ]
    }
   ],
   "source": [
    "a = tvtk.IdList()\n",
    "a.from_array([1,2,3])\n",
    "a.append(4)\n",
    "a.extend([5,6])\n",
    "print repr(a)"
   ]
  },
  {
   "cell_type": "code",
   "execution_count": 21,
   "metadata": {
    "collapsed": false,
    "group_control": {
     "group": 0
    }
   },
   "outputs": [
    {
     "data": {
      "text/plain": [
       "<tvtk.tvtk_classes.cell_data.CellData at 0xa285c60>"
      ]
     },
     "execution_count": 21,
     "metadata": {},
     "output_type": "execute_result"
    }
   ],
   "source": [
    "img.cell_data"
   ]
  },
  {
   "cell_type": "markdown",
   "metadata": {},
   "source": [
    "### RectilinearGrid"
   ]
  },
  {
   "cell_type": "markdown",
   "metadata": {},
   "source": [
    "> **SOURCE**\n",
    "\n",
    "> `scpy2.tvtk.figure_rectilineargrid`：繪制`ref:fig-prev`的程式。"
   ]
  },
  {
   "cell_type": "code",
   "execution_count": 2,
   "metadata": {
    "collapsed": true
   },
   "outputs": [],
   "source": [
    "#%hide\n",
    "%exec_python -m scpy2.tvtk.figure_rectilineargrid"
   ]
  },
  {
   "cell_type": "code",
   "execution_count": 22,
   "metadata": {
    "collapsed": false,
    "group_control": {
     "group": 0
    }
   },
   "outputs": [],
   "source": [
    "x = np.array([0,3,9,15])\n",
    "y = np.array([0,1,5])\n",
    "z = np.array([0,2,3])\n",
    "r = tvtk.RectilinearGrid()\n",
    "r.x_coordinates = x #❶\n",
    "r.y_coordinates = y\n",
    "r.z_coordinates = z\n",
    "r.dimensions = len(x), len(y), len(z) #❷\n",
    "\n",
    "r.point_data.scalars = np.arange(0.0,r.number_of_points) #❸\n",
    "r.point_data.scalars.name = 'scalars'"
   ]
  },
  {
   "cell_type": "code",
   "execution_count": 23,
   "metadata": {
    "collapsed": false,
    "group_control": {
     "group": 0
    }
   },
   "outputs": [
    {
     "name": "stdout",
     "output_type": "stream",
     "text": [
      "(0.0, 0.0, 0.0)\n",
      "(3.0, 0.0, 0.0)\n",
      "(9.0, 0.0, 0.0)\n",
      "(15.0, 0.0, 0.0)\n",
      "(0.0, 1.0, 0.0)\n",
      "(3.0, 1.0, 0.0)\n"
     ]
    }
   ],
   "source": [
    "for i in xrange(6):\n",
    "    print r.get_point(i)"
   ]
  },
  {
   "cell_type": "code",
   "execution_count": 24,
   "metadata": {
    "collapsed": false,
    "group_control": {
     "group": 0
    }
   },
   "outputs": [
    {
     "name": "stdout",
     "output_type": "stream",
     "text": [
      "points of cell 1: [1, 2, 5, 6, 13, 14, 17, 18]\n",
      "[[ 3.  0.  0.]\n",
      " [ 9.  0.  0.]\n",
      " [ 3.  1.  0.]\n",
      " [ 9.  1.  0.]\n",
      " [ 3.  0.  2.]\n",
      " [ 9.  0.  2.]\n",
      " [ 3.  1.  2.]\n",
      " [ 9.  1.  2.]]\n"
     ]
    }
   ],
   "source": [
    "c = r.get_cell(1)\n",
    "print \"points of cell 1:\", repr(c.point_ids)\n",
    "print c.points.to_array()"
   ]
  },
  {
   "cell_type": "markdown",
   "metadata": {},
   "source": [
    "### StructuredGrid"
   ]
  },
  {
   "cell_type": "markdown",
   "metadata": {},
   "source": [
    "> **SOURCE**\n",
    "\n",
    "> `scpy2.tvtk.figure_structuredgrid`：繪制`ref:fig-prev`的程式。"
   ]
  },
  {
   "cell_type": "code",
   "execution_count": 3,
   "metadata": {
    "collapsed": true
   },
   "outputs": [],
   "source": [
    "#%hide\n",
    "%exec_python -m scpy2.tvtk.figure_structuredgrid"
   ]
  },
  {
   "cell_type": "code",
   "execution_count": 25,
   "metadata": {
    "collapsed": false,
    "group_control": {
     "group": 0
    }
   },
   "outputs": [],
   "source": [
    "def make_points_array(x, y, z):\n",
    "    return np.c_[x.ravel(), y.ravel(), z.ravel()]\n",
    "    \n",
    "z, y, x = np.mgrid[:3.0, :5.0, :4.0] #❶\n",
    "x *= (4-z)/3 #❷\n",
    "y *= (4-z)/3 \n",
    "s1 = tvtk.StructuredGrid()\n",
    "s1.points = make_points_array(x, y, z) #❸\n",
    "s1.dimensions = x.shape[::-1] #❹\n",
    "s1.point_data.scalars = np.arange(0, s1.number_of_points)\n",
    "s1.point_data.scalars.name = 'scalars'"
   ]
  },
  {
   "cell_type": "code",
   "execution_count": 26,
   "metadata": {
    "collapsed": false,
    "group_control": {
     "group": 0
    }
   },
   "outputs": [
    {
     "data": {
      "text/plain": [
       "[2, 3, 7, 6, 22, 23, 27, 26]"
      ]
     },
     "execution_count": 26,
     "metadata": {},
     "output_type": "execute_result"
    }
   ],
   "source": [
    "s1.get_cell(2).point_ids"
   ]
  },
  {
   "cell_type": "code",
   "execution_count": 27,
   "metadata": {
    "collapsed": false,
    "group_control": {
     "group": 0
    }
   },
   "outputs": [
    {
     "name": "stdout",
     "output_type": "stream",
     "text": [
      "cell type: <class 'tvtk.tvtk_classes.hexahedron.Hexahedron'>\n",
      "number_of_faces: 6\n",
      "face type: <class 'tvtk.tvtk_classes.quad.Quad'>\n",
      "points of face 0: [2, 22, 26, 6]\n",
      "edge count of cell: 12\n",
      "edge type: <class 'tvtk.tvtk_classes.line.Line'>\n",
      "points of edge 0: [2, 3]\n"
     ]
    }
   ],
   "source": [
    "c = s1.get_cell(2)\n",
    "print \"cell type:\", type(c)\n",
    "print \"number_of_faces:\", c.number_of_faces #單元的面數\n",
    "f = c.get_face(0) #獲得第0個面\n",
    "print \"face type:\", type(f) #每個面用一個Quad物件表示\n",
    "print \"points of face 0:\", repr(f.point_ids) #構成第0面的四個點的索引\n",
    "print \"edge count of cell:\", c.number_of_edges # 單元的邊數\n",
    "e = c.get_edge(0) #獲得第0個邊\n",
    "print \"edge type:\", type(e)\n",
    "print \"points of edge 0:\", repr(e.point_ids) #構成第0邊的兩個點的索引"
   ]
  },
  {
   "cell_type": "code",
   "execution_count": 28,
   "metadata": {
    "collapsed": false,
    "group_control": {
     "group": 0
    }
   },
   "outputs": [],
   "source": [
    "r, theta, z2 = np.mgrid[2:3:3j, -np.pi/2:np.pi/2:6j, 0:4:7j]\n",
    "x2 = np.cos(theta)*r\n",
    "y2 = np.sin(theta)*r\n",
    "\n",
    "s2 = tvtk.StructuredGrid(dimensions=x2.shape[::-1])\n",
    "s2.points = make_points_array(x2, y2, z2)\n",
    "s2.point_data.scalars = np.arange(0, s2.number_of_points)\n",
    "s2.point_data.scalars.name = 'scalars'"
   ]
  },
  {
   "cell_type": "markdown",
   "metadata": {},
   "source": [
    "### PolyData"
   ]
  },
  {
   "cell_type": "code",
   "execution_count": 29,
   "metadata": {
    "collapsed": false,
    "group_control": {
     "group": 0
    }
   },
   "outputs": [
    {
     "data": {
      "text/plain": [
       "tvtk.tvtk_classes.poly_data.PolyData"
      ]
     },
     "execution_count": 29,
     "metadata": {},
     "output_type": "execute_result"
    }
   ],
   "source": [
    "source = tvtk.ConeSource(resolution = 4)\n",
    "source.update() # 讓source計算其輸出資料\n",
    "cone = source.output\n",
    "type(cone)"
   ]
  },
  {
   "cell_type": "code",
   "execution_count": 30,
   "metadata": {
    "collapsed": false,
    "group_control": {
     "group": 0
    }
   },
   "outputs": [
    {
     "name": "stdout",
     "output_type": "stream",
     "text": [
      "[[ 0.5  0.   0. ]\n",
      " [-0.5  0.5  0. ]\n",
      " [-0.5  0.   0.5]\n",
      " [-0.5 -0.5  0. ]\n",
      " [-0.5 -0.  -0.5]]\n"
     ]
    }
   ],
   "source": [
    "print np.array_str(cone.points.to_array(), suppress_small=True)"
   ]
  },
  {
   "cell_type": "code",
   "execution_count": 31,
   "metadata": {
    "collapsed": false,
    "group_control": {
     "group": 0
    }
   },
   "outputs": [
    {
     "name": "stdout",
     "output_type": "stream",
     "text": [
      "<class 'tvtk.tvtk_classes.cell_array.CellArray'>\n",
      "5\n",
      "[4 4 3 2 1 3 0 1 2 3 0 2 3 3 0 3 4 3 0 4 1]\n"
     ]
    }
   ],
   "source": [
    "print type(cone.polys)\n",
    "print cone.polys.number_of_cells # 圓錐有5個面\n",
    "print cone.polys.to_array()"
   ]
  },
  {
   "cell_type": "code",
   "execution_count": 32,
   "metadata": {
    "collapsed": false,
    "group_control": {
     "group": 0
    }
   },
   "outputs": [],
   "source": [
    "p1 = tvtk.PolyData()\n",
    "p1.points = [(1,1,0),(1,-1,0),(-1,-1,0),(-1,1,0),(0,0,2)] #❶\n",
    "faces = [ \n",
    "    4,0,1,2,3,\n",
    "    3,4,0,1,\n",
    "    3,4,1,2,\n",
    "    3,4,2,3,\n",
    "    3,4,3,0\n",
    "    ]\n",
    "cells = tvtk.CellArray() #❷\n",
    "cells.set_cells(5, faces) #❸ \n",
    "p1.polys = cells\n",
    "p1.point_data.scalars = np.linspace(0.0, 1.0, len(p1.points))"
   ]
  },
  {
   "cell_type": "markdown",
   "metadata": {
    "collapsed": false,
    "group_control": {
     "group": 0
    }
   },
   "source": [
    "> **SOURCE**\n",
    "\n",
    "> `scpy2.tvtk.figure_polydata`：繪制`ref:fig-prev`的程式。"
   ]
  },
  {
   "cell_type": "code",
   "execution_count": 4,
   "metadata": {
    "collapsed": true
   },
   "outputs": [],
   "source": [
    "#%hide\n",
    "%exec_python -m scpy2.tvtk.figure_polydata"
   ]
  },
  {
   "cell_type": "code",
   "execution_count": 33,
   "metadata": {
    "collapsed": false,
    "group_control": {
     "group": 0
    }
   },
   "outputs": [
    {
     "name": "stdout",
     "output_type": "stream",
     "text": [
      "[0, 1, 2, 3]\n",
      "[4, 0, 1]\n"
     ]
    }
   ],
   "source": [
    "print repr(p1.get_cell(0).point_ids)\n",
    "print repr(p1.get_cell(1).point_ids)"
   ]
  },
  {
   "cell_type": "code",
   "execution_count": 34,
   "metadata": {
    "collapsed": false,
    "group_control": {
     "group": 0
    }
   },
   "outputs": [],
   "source": [
    "N = 10\n",
    "a, b = np.mgrid[0:np.pi:N*1j, 0:np.pi:N*1j]\n",
    "x = np.sin(a)*np.cos(b)\n",
    "y = np.sin(a)*np.sin(b)\n",
    "z = np.cos(a)\n",
    "\n",
    "points = make_points_array(x, y, z) #❶\n",
    "faces = np.zeros(((N-1)**2, 4), np.int) #❷\n",
    "t1, t2 = np.mgrid[:(N-1)*N:N, :N-1]\n",
    "faces[:,0] = (t1+t2).ravel()\n",
    "faces[:,1] = faces[:,0] + 1\n",
    "faces[:,2] = faces[:,1] + N\n",
    "faces[:,3] = faces[:,0] + N\n",
    "\n",
    "p2 = tvtk.PolyData(points = points, polys = faces)\n",
    "p2.point_data.scalars = np.linspace(0.0, 1.0, len(p2.points))"
   ]
  },
  {
   "cell_type": "code",
   "execution_count": 35,
   "metadata": {
    "collapsed": false,
    "group_control": {
     "group": 0
    }
   },
   "outputs": [
    {
     "data": {
      "text/plain": [
       "array([ 4,  0,  1, 11, 10,  4,  1,  2, 12, 11,  4,  2,  3, 13, 12,  4,  3,\n",
       "        4, 14, 13])"
      ]
     },
     "execution_count": 35,
     "metadata": {},
     "output_type": "execute_result"
    }
   ],
   "source": [
    "p2.polys.to_array()[:20]"
   ]
  }
 ],
 "metadata": {
  "kernelspec": {
   "display_name": "Python 2",
   "language": "python",
   "name": "python2"
  },
  "language_info": {
   "codemirror_mode": {
    "name": "ipython",
    "version": 2
   },
   "file_extension": ".py",
   "mimetype": "text/x-python",
   "name": "python",
   "nbconvert_exporter": "python",
   "pygments_lexer": "ipython2",
   "version": "2.7.9"
  }
 },
 "nbformat": 4,
 "nbformat_minor": 0
}
