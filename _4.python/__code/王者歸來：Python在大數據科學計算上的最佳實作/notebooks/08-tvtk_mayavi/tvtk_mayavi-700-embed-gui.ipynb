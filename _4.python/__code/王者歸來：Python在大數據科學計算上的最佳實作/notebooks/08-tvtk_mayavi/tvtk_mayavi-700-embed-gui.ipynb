﻿{
 "cells": [
  {
   "cell_type": "code",
   "execution_count": 2,
   "metadata": {
    "collapsed": false,
    "group_control": {
     "group": 0
    }
   },
   "outputs": [
    {
     "name": "stderr",
     "output_type": "stream",
     "text": [
      "WARNING:traits.has_traits:DEPRECATED: traits.has_traits.wrapped_class, 'the 'implements' class advisor has been deprecated. Use the 'provides' class decorator.\n"
     ]
    }
   ],
   "source": [
    "%gui qt\n",
    "from scpy2.tvtk import fix_mayavi_bugs, patch_pipeline_browser\n",
    "fix_mayavi_bugs()\n",
    "patch_pipeline_browser()"
   ]
  },
  {
   "cell_type": "markdown",
   "metadata": {},
   "source": [
    "## 將TVTK和Mayavi內嵌到界面中"
   ]
  },
  {
   "cell_type": "markdown",
   "metadata": {},
   "source": [
    "### TVTK場景的內嵌"
   ]
  },
  {
   "cell_type": "markdown",
   "metadata": {},
   "source": [
    "> **SOURCE**\n",
    "\n",
    "> `scpy2.tvtk.example_embed_tube`：示範如何將TVTK的場景內嵌進TraitsUI界面，可透過界面中的控制項調節圓管的內徑和外徑。"
   ]
  },
  {
   "cell_type": "code",
   "execution_count": 3,
   "metadata": {
    "collapsed": true,
    "group_control": {
     "group": 0
    }
   },
   "outputs": [],
   "source": [
    "#%hide\n",
    "%exec_python -m scpy2.tvtk.example_tube"
   ]
  },
  {
   "cell_type": "code",
   "execution_count": 7,
   "metadata": {
    "collapsed": false
   },
   "outputs": [],
   "source": [
    "%%include python tvtk/example_tube.py 1\n",
    "from traits.api import HasTraits, Instance, Range, on_trait_change\n",
    "from traitsui.api import View, Item, VGroup, HGroup, Controller\n",
    "from tvtk.api import tvtk\n",
    "from tvtk.pyface.scene_editor import SceneEditor\n",
    "from tvtk.pyface.scene import Scene\n",
    "from tvtk.pyface.scene_model import SceneModel\n",
    "\n",
    "\n",
    "class TVTKSceneController(Controller):\n",
    "    def position(self, info):\n",
    "        super(TVTKSceneController, self).position(info)\n",
    "        self.model.plot() #❸\n",
    "\n",
    "\n",
    "class TubeDemoApp(HasTraits):\n",
    "    radius1 = Range(0, 1.0, 0.8)\n",
    "    radius2 = Range(0, 1.0, 0.4)\n",
    "    scene = Instance(SceneModel, ()) #❶\n",
    "    view = View(\n",
    "                VGroup(\n",
    "                    Item(name=\"scene\", editor=SceneEditor(scene_class=Scene)), #❷\n",
    "                    HGroup(\"radius1\", \"radius2\"),\n",
    "                    show_labels=False),\n",
    "                resizable=True, height=500, width=500)\n",
    "        \n",
    "    def plot(self):\n",
    "        r1, r2 = min(self.radius1, self.radius2), max(self.radius1, self.radius2)\n",
    "        self.cs1 = cs1 = tvtk.CylinderSource(height=1, radius=r2, resolution=32)\n",
    "        self.cs2 = cs2 = tvtk.CylinderSource(height=1.1, radius=r1, resolution=32)\n",
    "        triangle1 = tvtk.TriangleFilter(input_connection=cs1.output_port)\n",
    "        triangle2 = tvtk.TriangleFilter(input_connection=cs2.output_port)\n",
    "        bf = tvtk.BooleanOperationPolyDataFilter()\n",
    "        bf.operation = \"difference\"\n",
    "        bf.set_input_connection(0, triangle1.output_port)\n",
    "        bf.set_input_connection(1, triangle2.output_port)\n",
    "        m = tvtk.PolyDataMapper(input_connection=bf.output_port, scalar_visibility=False)\n",
    "        a = tvtk.Actor(mapper=m)\n",
    "        a.property.color = 0.5, 0.5, 0.5\n",
    "        self.scene.add_actors([a])\n",
    "        self.scene.background = 1, 1, 1\n",
    "        self.scene.reset_zoom()\n",
    "    \n",
    "    @on_trait_change(\"radius1, radius2\") #❹\n",
    "    def update_radius(self):\n",
    "        self.cs1.radius = max(self.radius1, self.radius2)\n",
    "        self.cs2.radius = min(self.radius1, self.radius2)\n",
    "        self.scene.render_window.render()        \n",
    "\n",
    "\n",
    "if __name__ == \"__main__\":\n",
    "    app = TubeDemoApp()\n",
    "    app.configure_traits(handler=TVTKSceneController(app))"
   ]
  },
  {
   "cell_type": "markdown",
   "metadata": {},
   "source": [
    "### Mayavi場景的內嵌"
   ]
  },
  {
   "cell_type": "markdown",
   "metadata": {},
   "source": [
    "> **SOURCE**\n",
    "\n",
    "> `scpy2.tvtk.example_embed_fieldviewer`：純量場觀察器，示範如何將Mayavi的場景內嵌到TraitsUI的界面中"
   ]
  },
  {
   "cell_type": "code",
   "execution_count": 4,
   "metadata": {
    "collapsed": true,
    "group_control": {
     "group": 0
    }
   },
   "outputs": [],
   "source": [
    "#%hide\n",
    "%exec_python -m scpy2.tvtk.example_embed_fieldviewer"
   ]
  },
  {
   "cell_type": "code",
   "execution_count": 2,
   "metadata": {
    "collapsed": false
   },
   "outputs": [],
   "source": [
    "%%include python tvtk/example_embed_fieldviewer.py 1\n",
    "import numpy as np\n",
    "\n",
    "from traits.api import HasTraits, Float, Int, Bool, Range, Str, Button, Instance\n",
    "from traitsui.api import View, HSplit, Item, VGroup, EnumEditor, RangeEditor\n",
    "from tvtk.pyface.scene_editor import SceneEditor \n",
    "from mayavi.tools.mlab_scene_model import MlabSceneModel\n",
    "from mayavi.core.ui.mayavi_scene import MayaviScene\n",
    "from scpy2.tvtk import fix_mayavi_bugs\n",
    "\n",
    "fix_mayavi_bugs()\n",
    "\n",
    "\n",
    "class FieldViewer(HasTraits):\n",
    "    \n",
    "    # 三個軸的取值範圍\n",
    "    x0, x1 = Float(-5), Float(5)\n",
    "    y0, y1 = Float(-5), Float(5)\n",
    "    z0, z1 = Float(-5), Float(5)\n",
    "    points = Int(50) # 分割點數\n",
    "    autocontour = Bool(True) # 是否自動計算相等面\n",
    "    v0, v1 = Float(0.0), Float(1.0) # 相等面的取值範圍\n",
    "    contour = Range(\"v0\", \"v1\", 0.5) # 相等面的值\n",
    "    function = Str(\"x*x*0.5 + y*y + z*z*2.0\") # 純量場函數\n",
    "    function_list = [\n",
    "        \"x*x*0.5 + y*y + z*z*2.0\",\n",
    "        \"x*y*0.5 + np.sin(2*x)*y +y*z*2.0\",\n",
    "        \"x*y*z\",\n",
    "        \"np.sin((x*x+y*y)/z)\"\n",
    "    ]\n",
    "    plotbutton = Button(u\"描畫\")\n",
    "    scene = Instance(MlabSceneModel, ()) #❶\n",
    "    \n",
    "    view = View(\n",
    "        HSplit(\n",
    "            VGroup(\n",
    "                \"x0\",\"x1\",\"y0\",\"y1\",\"z0\",\"z1\",\n",
    "                Item('points', label=u\"點數\"),\n",
    "                Item('autocontour', label=u\"自動相等\"),\n",
    "                Item('plotbutton', show_label=False),\n",
    "            ),\n",
    "            VGroup(\n",
    "                Item('scene', \n",
    "                    editor=SceneEditor(scene_class=MayaviScene), #❷\n",
    "                    resizable=True,\n",
    "                    height=300,\n",
    "                    width=350\n",
    "                ), \n",
    "                Item('function', \n",
    "                    editor=EnumEditor(name='function_list', evaluate=lambda x:x)),\n",
    "                Item('contour', \n",
    "                    editor=RangeEditor(format=\"%1.2f\",\n",
    "                        low_name=\"v0\", high_name=\"v1\")\n",
    "                ), show_labels=False\n",
    "            )\n",
    "        ),\n",
    "        width = 500, resizable=True, title=u\"3D純量場觀察器\"\n",
    "    )\n",
    "      \n",
    "    def _plotbutton_fired(self):\n",
    "        self.plot()\n",
    "\n",
    "    def plot(self):\n",
    "        # 產生3D網格\n",
    "        x, y, z = np.mgrid[ #❸\n",
    "            self.x0:self.x1:1j*self.points, \n",
    "            self.y0:self.y1:1j*self.points, \n",
    "            self.z0:self.z1:1j*self.points]\n",
    "            \n",
    "        # 根據函數計算純量場的值\n",
    "        scalars = eval(self.function)  #❹\n",
    "        self.scene.mlab.clf() # 清理目前場景\n",
    "        \n",
    "        # 繪制相等平面\n",
    "        g = self.scene.mlab.contour3d(x, y, z, scalars, contours=8, transparent=True) #❺\n",
    "        g.contour.auto_contours = self.autocontour\n",
    "        self.scene.mlab.axes(figure=self.scene.mayavi_scene) # 加入座標軸\n",
    "\n",
    "        # 加入一個X-Y的切面\n",
    "        s = self.scene.mlab.pipeline.scalar_cut_plane(g)\n",
    "        cutpoint = (self.x0+self.x1)/2, (self.y0+self.y1)/2, (self.z0+self.z1)/2\n",
    "        s.implicit_plane.normal = (0,0,1) # x cut\n",
    "        s.implicit_plane.origin = cutpoint\n",
    "        \n",
    "        self.g = g #❻\n",
    "        self.scalars = scalars\n",
    "        # 計算純量場的值的範圍\n",
    "        self.v0 = np.min(scalars)\n",
    "        self.v1 = np.max(scalars)\n",
    "        \n",
    "    def _contour_changed(self): #❼\n",
    "        if hasattr(self, \"g\"):\n",
    "            if not self.g.contour.auto_contours:\n",
    "                self.g.contour.contours = [self.contour]\n",
    "                \n",
    "    def _autocontour_changed(self): #❽\n",
    "        if hasattr(self, \"g\"):\n",
    "            self.g.contour.auto_contours = self.autocontour\n",
    "            if not self.autocontour:\n",
    "                self._contour_changed()\n",
    "\n",
    "\n",
    "if __name__ == '__main__':\n",
    "    app = FieldViewer()\n",
    "    app.configure_traits()"
   ]
  }
 ],
 "metadata": {
  "kernelspec": {
   "display_name": "Python 2",
   "language": "python",
   "name": "python2"
  },
  "language_info": {
   "codemirror_mode": {
    "name": "ipython",
    "version": 2
   },
   "file_extension": ".py",
   "mimetype": "text/x-python",
   "name": "python",
   "nbconvert_exporter": "python",
   "pygments_lexer": "ipython2",
   "version": "2.7.9"
  }
 },
 "nbformat": 4,
 "nbformat_minor": 0
}
