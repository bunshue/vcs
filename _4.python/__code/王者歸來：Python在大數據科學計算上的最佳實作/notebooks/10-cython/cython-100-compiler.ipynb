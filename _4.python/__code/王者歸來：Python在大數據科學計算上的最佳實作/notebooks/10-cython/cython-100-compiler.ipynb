﻿{
 "cells": [
  {
   "cell_type": "code",
   "execution_count": 1,
   "metadata": {
    "collapsed": false,
    "group_control": {
     "group": 0
    }
   },
   "outputs": [],
   "source": [
    "%load_ext cython"
   ]
  },
  {
   "cell_type": "markdown",
   "metadata": {},
   "source": [
    "# Cython-編譯Python程式"
   ]
  },
  {
   "cell_type": "markdown",
   "metadata": {},
   "source": [
    "## 組態編譯器"
   ]
  },
  {
   "cell_type": "code",
   "execution_count": 2,
   "metadata": {
    "collapsed": false,
    "group_control": {
     "group": 0
    }
   },
   "outputs": [
    {
     "name": "stdout",
     "output_type": "stream",
     "text": [
      "mingw32  defined by C:\\WinPython-32bit-2.7.9.2\\python-2.7.9\\lib\\distutils\\distutils.cfg\n"
     ]
    }
   ],
   "source": [
    "from scpy2.utils import show_compiler, set_compiler\n",
    "set_compiler(\"mingw32\")\n",
    "show_compiler()"
   ]
  },
  {
   "cell_type": "markdown",
   "metadata": {},
   "source": [
    "> **LINK**\n",
    "\n",
    "> http://www.microsoft.com/en-us/download/confirmation.aspx?id=44266\n",
    ">\n",
    "> 微軟提供的編譯Python 2.7的編譯器"
   ]
  },
  {
   "cell_type": "code",
   "execution_count": 3,
   "metadata": {
    "collapsed": false,
    "group_control": {
     "group": 0
    }
   },
   "outputs": [
    {
     "data": {
      "text/plain": [
       "u'C:\\\\Users\\\\RY\\\\AppData\\\\Local\\\\Programs\\\\Common\\\\Microsoft\\\\Visual C++ for Python\\\\9.0\\\\vcvarsall.bat'"
      ]
     },
     "execution_count": 3,
     "metadata": {},
     "output_type": "execute_result"
    }
   ],
   "source": [
    "import setuptools #先載入setuptools\n",
    "import distutils\n",
    "from distutils.msvc9compiler import find_vcvarsall\n",
    "find_vcvarsall(9.0)"
   ]
  },
  {
   "cell_type": "markdown",
   "metadata": {},
   "source": [
    "> **TIP**\n",
    "\n",
    "> `%%cython`魔法指令預設沒有載入到IPyhton的運算核中，需要先透過`%load_ext cython`指令載入該指令。"
   ]
  },
  {
   "cell_type": "code",
   "execution_count": 9,
   "metadata": {
    "collapsed": false,
    "group_control": {
     "group": 0
    }
   },
   "outputs": [],
   "source": [
    "%%cython\n",
    " \n",
    "def add(a, b):\n",
    "    return a + b"
   ]
  },
  {
   "cell_type": "code",
   "execution_count": 4,
   "metadata": {
    "collapsed": false,
    "group_control": {
     "group": 0
    }
   },
   "outputs": [
    {
     "name": "stdout",
     "output_type": "stream",
     "text": [
      "msvc 12.0 defined by C:\\WinPython-32bit-2.7.9.2\\python-2.7.9\\lib\\distutils\\distutils.cfg\n"
     ]
    }
   ],
   "source": [
    "from scpy2.utils import set_msvc_version\n",
    "set_compiler(\"msvc\")\n",
    "set_msvc_version(12)\n",
    "show_compiler()"
   ]
  },
  {
   "cell_type": "code",
   "execution_count": 5,
   "metadata": {
    "collapsed": false,
    "group_control": {
     "group": 0
    }
   },
   "outputs": [],
   "source": [
    "set_msvc_version(9)\n",
    "set_compiler(\"mingw32\")"
   ]
  }
 ],
 "metadata": {
  "kernelspec": {
   "display_name": "Python 2",
   "language": "python",
   "name": "python2"
  },
  "language_info": {
   "codemirror_mode": {
    "name": "ipython",
    "version": 2
   },
   "file_extension": ".py",
   "mimetype": "text/x-python",
   "name": "python",
   "nbconvert_exporter": "python",
   "pygments_lexer": "ipython2",
   "version": "2.7.9"
  }
 },
 "nbformat": 4,
 "nbformat_minor": 0
}
