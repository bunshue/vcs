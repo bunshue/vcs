﻿{
 "cells": [
  {
   "cell_type": "code",
   "execution_count": 2,
   "metadata": {
    "collapsed": false,
    "group_control": {
     "group": 0
    }
   },
   "outputs": [],
   "source": [
    "%load_ext cython\n",
    "%matplotlib inline\n",
    "import pylab as pl\n",
    "import numpy as np\n",
    "import ctypes"
   ]
  },
  {
   "cell_type": "markdown",
   "metadata": {},
   "source": [
    "## Cython技巧集"
   ]
  },
  {
   "cell_type": "markdown",
   "metadata": {},
   "source": [
    "### 建立ufunc函數"
   ]
  },
  {
   "cell_type": "markdown",
   "metadata": {},
   "source": [
    "> **LINK**\n",
    "\n",
    "> http://docs.scipy.org/doc/numpy-dev/user/c-info.ufunc-tutorial.html\n",
    "\n",
    "使用NumPy的C-API撰寫ufunc函數的教學"
   ]
  },
  {
   "cell_type": "code",
   "execution_count": 3,
   "metadata": {
    "collapsed": false,
    "group_control": {
     "group": 0
    }
   },
   "outputs": [],
   "source": [
    "%%cython\n",
    "from libc.math cimport exp\n",
    "from numpy cimport (PyUFuncGenericFunction, npy_intp, import_ufunc, \n",
    "                    NPY_DOUBLE, PyUFunc_None, PyUFunc_FromFuncAndData) #❶\n",
    "\n",
    "import_ufunc() #❷\n",
    "  \n",
    "cdef void double_logistic(char **args, npy_intp *dimensions,\n",
    "                            npy_intp* steps, void* data):\n",
    "    cdef: #用縮排可以定義多行cdef變數\n",
    "        npy_intp i\n",
    "        npy_intp n = dimensions[0]\n",
    "        char *in_ptr = args[0]\n",
    "        char *out_ptr = args[1]\n",
    "        npy_intp in_step = steps[0]\n",
    "        npy_intp out_step = steps[1]\n",
    "\n",
    "        double x, y\n",
    "        \n",
    "    for i in range(n):\n",
    "        x = (<double *>in_ptr)[0]\n",
    "        y = 1.0 / (1.0 + exp(-x))\n",
    "        (<double *>out_ptr)[0] = y\n",
    "        \n",
    "        in_ptr += in_step\n",
    "        out_ptr += out_step\n",
    "\n",
    "cdef:\n",
    "    PyUFuncGenericFunction *functions = [&double_logistic] #❸\n",
    "    char *signatures = [NPY_DOUBLE, NPY_DOUBLE] #❹\n",
    "    void **data = [NULL] #❺\n",
    "\n",
    "logistic1 = PyUFunc_FromFuncAndData(functions, data, signatures, #❻\n",
    "                    1, #ntypes\n",
    "                    1, #nin \n",
    "                    1, #nout\n",
    "                    PyUFunc_None, #identity\n",
    "                    \"logistic\", #name\n",
    "                    \"a sigmoid function: y = 1 / (1 + exp(-x))\", #doc string\n",
    "                    0) # unused"
   ]
  },
  {
   "cell_type": "code",
   "execution_count": 4,
   "metadata": {
    "collapsed": false,
    "group_control": {
     "group": 0
    }
   },
   "outputs": [
    {
     "data": {
      "text/plain": [
       "array([ 0.26894142,  0.5       ,  0.73105858])"
      ]
     },
     "execution_count": 4,
     "metadata": {},
     "output_type": "execute_result"
    }
   ],
   "source": [
    "logistic1([-1, 0, 1])"
   ]
  },
  {
   "cell_type": "code",
   "execution_count": 5,
   "metadata": {
    "collapsed": false,
    "group_control": {
     "group": 0
    }
   },
   "outputs": [],
   "source": [
    "%%cython\n",
    "from libc.math cimport exp\n",
    "from numpy cimport (PyUFuncGenericFunction, import_ufunc, PyUFunc_d_d,\n",
    "                    NPY_DOUBLE, PyUFunc_None, PyUFunc_FromFuncAndData)\n",
    "\n",
    "import_ufunc()\n",
    "\n",
    "cdef double scalar_logistic(double x): #❶\n",
    "    return 1.0 / (1.0 + exp(-x))\n",
    "\n",
    "cdef:\n",
    "    PyUFuncGenericFunction *functions = [PyUFunc_d_d] #❷\n",
    "    char *signatures = [NPY_DOUBLE, NPY_DOUBLE]\n",
    "    void **data = [&scalar_logistic] #❸\n",
    "\n",
    "\n",
    "logistic2 = PyUFunc_FromFuncAndData(functions, data, signatures, \n",
    "                    1, 1, 1, PyUFunc_None, \n",
    "                    \"logistic\", \n",
    "                    \"a sigmoid function: y = 1 / (1 + exp(-x))\", \n",
    "                    0)"
   ]
  },
  {
   "cell_type": "code",
   "execution_count": 6,
   "metadata": {
    "collapsed": false,
    "group_control": {
     "group": 0
    }
   },
   "outputs": [
    {
     "name": "stdout",
     "output_type": "stream",
     "text": [
      "10000 loops, best of 3: 201 μs per loop\n",
      "1000 loops, best of 3: 208 μs per loop\n"
     ]
    }
   ],
   "source": [
    "x = np.linspace(-6, 6, 10000)\n",
    "%timeit logistic1(x)\n",
    "%timeit logistic2(x)"
   ]
  },
  {
   "cell_type": "code",
   "execution_count": 5,
   "metadata": {
    "collapsed": false,
    "group_control": {
     "group": 0
    }
   },
   "outputs": [],
   "source": [
    "%%cython\n",
    "include \"numpy_ufuncs.pxi\"\n",
    "from libc.math cimport exp\n",
    "\n",
    "cdef double scalar_logistic(double x):\n",
    "    return 1.0 / (1.0 + exp(-x))\n",
    "\n",
    "cdef double scalar_peaks(double x, double y):\n",
    "    return x * exp(-x*x - y*y)\n",
    "\n",
    "logistic3 = register_ufunc_d(scalar_logistic, \n",
    "                            \"logistic\", \"logistic function\", PyUFunc_None)\n",
    "\n",
    "peaks = register_ufunc_dd(scalar_peaks,\n",
    "                          \"peaks\", \"peaks function\", PyUFunc_None)"
   ]
  },
  {
   "cell_type": "code",
   "execution_count": 6,
   "metadata": {
    "collapsed": false,
    "group_control": {
     "group": 0
    }
   },
   "outputs": [
    {
     "data": {
      "image/png": "[encoded data removed]",
      "text/plain": [
       "<matplotlib.figure.Figure at 0xa97b870>"
      ]
     },
     "metadata": {},
     "output_type": "display_data"
    }
   ],
   "source": [
    "#%nofig\n",
    "Y, X = np.ogrid[-2:2:100j, -2:2:100j]\n",
    "pl.pcolormesh(X, Y, peaks(X, Y));"
   ]
  },
  {
   "cell_type": "markdown",
   "metadata": {},
   "source": [
    "### 快速呼叫DLL中的函數"
   ]
  },
  {
   "cell_type": "code",
   "execution_count": 9,
   "metadata": {
    "collapsed": false,
    "group_control": {
     "group": 0
    }
   },
   "outputs": [
    {
     "name": "stdout",
     "output_type": "stream",
     "text": [
      "Overwriting peaks.c\n"
     ]
    }
   ],
   "source": [
    "%%file peaks.c\n",
    "#include <math.h>\n",
    "double peaks(double x, double y)\n",
    "{\n",
    "    return x * exp(-x*x - y*y);\n",
    "}\n",
    "\n",
    "unsigned int get_addr()\n",
    "{\n",
    "    return (unsigned int)(void *)peaks;\n",
    "}"
   ]
  },
  {
   "cell_type": "code",
   "execution_count": 10,
   "metadata": {
    "collapsed": false,
    "group_control": {
     "group": 0
    }
   },
   "outputs": [],
   "source": [
    "!gcc -Ofast -shared -o peaks.dll peaks.c"
   ]
  },
  {
   "cell_type": "code",
   "execution_count": 9,
   "metadata": {
    "collapsed": false,
    "group_control": {
     "group": 0
    }
   },
   "outputs": [
    {
     "data": {
      "text/plain": [
       "0.006737946999085465"
      ]
     },
     "execution_count": 9,
     "metadata": {},
     "output_type": "execute_result"
    }
   ],
   "source": [
    "import ctypes\n",
    "lib = ctypes.CDLL(\"peaks.dll\")\n",
    "lib.peaks.argtypes = [ctypes.c_double, ctypes.c_double]\n",
    "lib.peaks.restype = ctypes.c_double\n",
    "lib.peaks(1.0, 2.0)"
   ]
  },
  {
   "cell_type": "code",
   "execution_count": 10,
   "metadata": {
    "collapsed": false,
    "group_control": {
     "group": 0
    }
   },
   "outputs": [
    {
     "data": {
      "text/plain": [
       "True"
      ]
     },
     "execution_count": 10,
     "metadata": {},
     "output_type": "execute_result"
    }
   ],
   "source": [
    "addr = ctypes.cast(lib.peaks, ctypes.c_void_p).value\n",
    "addr == lib.get_addr()"
   ]
  },
  {
   "cell_type": "code",
   "execution_count": 11,
   "metadata": {
    "collapsed": false,
    "group_control": {
     "group": 0
    }
   },
   "outputs": [],
   "source": [
    "%%cython\n",
    "import cython\n",
    "import numpy as np\n",
    "from ctypes import cast, c_void_p\n",
    "\n",
    "ctypedef double(*Function)(double x, double y)      #❶\n",
    "\n",
    "@cython.wraparound(False)\n",
    "@cython.boundscheck(False)\n",
    "def vectorize_2d(func, double[:, ::1] x, double[:, ::1] y):\n",
    "    cdef double[:, ::1] res = np.zeros_like(x.base)\n",
    "    cdef size_t addr = cast(func, c_void_p).value   #❷\n",
    "    cdef Function func_ptr = <Function><void *>addr #❸\n",
    "    cdef int i, j\n",
    "    \n",
    "    for i in range(x.shape[0]):\n",
    "        for j in range(x.shape[1]):\n",
    "            res[i, j] = func_ptr(x[i, j], y[i, j])\n",
    "            \n",
    "    return res.base"
   ]
  },
  {
   "cell_type": "code",
   "execution_count": 18,
   "metadata": {
    "collapsed": false,
    "group_control": {
     "group": 0
    }
   },
   "outputs": [
    {
     "data": {
      "text/plain": [
       "True"
      ]
     },
     "execution_count": 18,
     "metadata": {},
     "output_type": "execute_result"
    }
   ],
   "source": [
    "Y, X = np.mgrid[-2:2:200j, -2:2:200j]\n",
    "vectorize_peaks = np.vectorize(lib.peaks, otypes=['f8'])\n",
    "np.allclose(vectorize_peaks(X, Y), vectorize_2d(lib.peaks, X, Y))"
   ]
  },
  {
   "cell_type": "code",
   "execution_count": 15,
   "metadata": {
    "collapsed": false,
    "group_control": {
     "group": 0
    }
   },
   "outputs": [],
   "source": [
    "%%cython\n",
    "include \"numpy_ufuncs.pxi\"\n",
    "from ctypes import cast, c_void_p\n",
    "\n",
    "cdef class UFunc_dd:\n",
    "    cdef public object ufunc #❶\n",
    "    \n",
    "    def __cinit__(self, func): #❷\n",
    "        cdef size_t addr = cast(func, c_void_p).value\n",
    "        self.ufunc = register_ufunc_dd(<double (*)(double, double)>addr, \n",
    "                                       \"ufunc\", \"variable ufunc\", PyUFunc_None)        \n",
    "    def set_func(self, func):\n",
    "        cdef ufunc f = <ufunc> self.ufunc #❸\n",
    "        cdef size_t addr = cast(func, c_void_p).value \n",
    "        f.data[0] = <void *>addr #❹\n",
    "        f.data[1] = <void *>addr"
   ]
  },
  {
   "cell_type": "code",
   "execution_count": 19,
   "metadata": {
    "collapsed": false,
    "group_control": {
     "group": 0
    }
   },
   "outputs": [],
   "source": [
    "ufunc_dd = UFunc_dd(lib.peaks)\n",
    "Y, X = np.ogrid[-2:2:200j, -2:2:200j]\n",
    "assert np.allclose(vectorize_peaks(X, Y), ufunc_dd.ufunc(X, Y))\n",
    "\n",
    "ufunc_dd.set_func(ctypes.cdll.msvcrt.atan2)\n",
    "assert np.allclose(np.arctan2(X, Y), ufunc_dd.ufunc(X, Y))"
   ]
  },
  {
   "cell_type": "markdown",
   "metadata": {},
   "source": [
    "### 呼叫BLAS函數"
   ]
  },
  {
   "cell_type": "markdown",
   "metadata": {},
   "source": [
    "#### 包裝`saxpy()`函數"
   ]
  },
  {
   "cell_type": "code",
   "execution_count": 22,
   "metadata": {
    "collapsed": false,
    "group_control": {
     "group": 0
    }
   },
   "outputs": [
    {
     "data": {
      "text/plain": [
       "array([ 1.5,  4. ,  6.5], dtype=float32)"
      ]
     },
     "execution_count": 22,
     "metadata": {},
     "output_type": "execute_result"
    }
   ],
   "source": [
    "from scipy.linalg import blas\n",
    "import numpy as np\n",
    "x = np.array([1, 2, 3], np.float32)\n",
    "y = np.array([1, 3, 5], np.float32)\n",
    "blas.saxpy(x, y, a=0.5)"
   ]
  },
  {
   "cell_type": "code",
   "execution_count": 23,
   "metadata": {
    "collapsed": false,
    "group_control": {
     "group": 0
    }
   },
   "outputs": [
    {
     "data": {
      "text/plain": [
       "<fortran object>"
      ]
     },
     "execution_count": 23,
     "metadata": {},
     "output_type": "execute_result"
    }
   ],
   "source": [
    "blas.saxpy"
   ]
  },
  {
   "cell_type": "code",
   "execution_count": 24,
   "metadata": {
    "collapsed": false,
    "group_control": {
     "group": 0
    }
   },
   "outputs": [
    {
     "data": {
      "text/plain": [
       "196931082"
      ]
     },
     "execution_count": 24,
     "metadata": {},
     "output_type": "execute_result"
    }
   ],
   "source": [
    "import ctypes\n",
    "saxpy_addr = ctypes.pythonapi.PyCObject_AsVoidPtr(ctypes.py_object(blas.saxpy._cpointer))\n",
    "saxpy_addr"
   ]
  },
  {
   "cell_type": "markdown",
   "metadata": {},
   "source": [
    "> **LINK**\n",
    "\n",
    "> http://www.netlib.org/lapack/explore-html/d8/daf/saxpy_8f.html\n",
    ">\n",
    "> BLAS庫中saxpy()的函數原型"
   ]
  },
  {
   "cell_type": "code",
   "execution_count": 39,
   "metadata": {
    "collapsed": false,
    "group_control": {
     "group": 0
    }
   },
   "outputs": [],
   "source": [
    "%%cython\n",
    "import cython\n",
    "from cpython cimport PyCObject_AsVoidPtr\n",
    "from scipy.linalg import blas\n",
    "\n",
    "ctypedef void (*saxpy_ptr) (const int *N, const float *alpha, \n",
    "    const float *X, const int *incX, float *Y, const int *incY) nogil\n",
    "cdef saxpy_ptr _saxpy=<saxpy_ptr>PyCObject_AsVoidPtr(blas.saxpy._cpointer)\n",
    "\n",
    "def blas_saxpy(float[:] y, float a, float[:] x):\n",
    "    cdef int n = y.shape[0]\n",
    "    cdef int inc_x = x.strides[0] / sizeof(float)\n",
    "    cdef int inc_y = y.strides[0] / sizeof(float)\n",
    "    _saxpy(&n, &a, &x[0], &inc_x, &y[0], &inc_y)\n",
    "    \n",
    "@cython.wraparound(False)\n",
    "@cython.boundscheck(False)\n",
    "def cython_saxpy(float[:] y, float a, float[:] x):\n",
    "    cdef int i\n",
    "    for i in range(y.shape[0]):\n",
    "        y[i] += a * x[i]"
   ]
  },
  {
   "cell_type": "code",
   "execution_count": 40,
   "metadata": {
    "collapsed": false,
    "group_control": {
     "group": 0
    }
   },
   "outputs": [
    {
     "name": "stdout",
     "output_type": "stream",
     "text": [
      "10000 loops, best of 3: 28.6 μs per loop\n",
      "10000 loops, best of 3: 98.3 μs per loop\n"
     ]
    }
   ],
   "source": [
    "a = np.arange(100000, dtype=np.float32)\n",
    "b = np.zeros_like(a)\n",
    "%timeit blas_saxpy(b, 0.2, a)\n",
    "%timeit cython_saxpy(b, 0.2, a)"
   ]
  },
  {
   "cell_type": "markdown",
   "metadata": {},
   "source": [
    "#### `dgemm()`高速矩陣乘積"
   ]
  },
  {
   "cell_type": "markdown",
   "metadata": {},
   "source": [
    "> **LINK**\n",
    "\n",
    "> http://www.netlib.org/lapack/explore-html/d7/d2b/dgemm_8f.html\n",
    ">\n",
    "> DGEMM的說明文件"
   ]
  },
  {
   "cell_type": "code",
   "execution_count": 20,
   "metadata": {
    "collapsed": false,
    "group_control": {
     "group": 0
    }
   },
   "outputs": [],
   "source": [
    "%%cython -c-Ofast -c-fopenmp --link-args=-fopenmp\n",
    "\n",
    "from cython.parallel import prange #❶\n",
    "import cython\n",
    "import numpy as np\n",
    "from cpython cimport PyCObject_AsVoidPtr\n",
    "from scipy.linalg import blas\n",
    "\n",
    "ctypedef void (*dgemm_ptr) (char *ta, char *tb, \n",
    "                            int *m, int *n, int *k,\n",
    "                            double *alpha,\n",
    "                            double *a, int *lda,\n",
    "                            double *b, int *ldb,\n",
    "                            double *beta,\n",
    "                            double *c, int *ldc) nogil\n",
    "\n",
    "cdef dgemm_ptr _dgemm=<dgemm_ptr>PyCObject_AsVoidPtr(blas.dgemm._cpointer)\n",
    "\n",
    "@cython.wraparound(False)\n",
    "@cython.boundscheck(False)\n",
    "def dgemm(double[:, :, :] A, double[:, :, :] B, int[:, ::1] index):\n",
    "    cdef int m, n, k, i, length, idx_a, idx_b\n",
    "    cdef double[:, :, :] C\n",
    "    cdef char ta, tb\n",
    "    cdef double alpha = 1.0\n",
    "    cdef double beta = 0.0\n",
    "        \n",
    "    length = index.shape[0]\n",
    "    m, k, n  = A.shape[1], A.shape[2], B.shape[2]        \n",
    "    \n",
    "    C = np.zeros((length, n, m))\n",
    "    \n",
    "    ta = \"T\"\n",
    "    tb = ta\n",
    "    \n",
    "    for i in prange(length, nogil=True): #❷\n",
    "        idx_a = index[i, 0]\n",
    "        idx_b = index[i, 1]\n",
    "        _dgemm(&ta, &tb, &m, &n, &k, &alpha, \n",
    "               &A[idx_a, 0, 0], &k, \n",
    "               &B[idx_b, 0, 0], &n, \n",
    "               &beta,\n",
    "               &C[i, 0, 0], &m)\n",
    "    \n",
    "    return C.base"
   ]
  },
  {
   "cell_type": "code",
   "execution_count": 21,
   "metadata": {
    "collapsed": false,
    "group_control": {
     "group": 0
    }
   },
   "outputs": [],
   "source": [
    "def matrix_multiply(a, b):\n",
    "    if a.ndim <= 2 and b.ndim <= 2:\n",
    "        return np.dot(a, b)\n",
    "    \n",
    "    a = np.ascontiguousarray(a).astype(np.float, copy=False)\n",
    "    b = np.ascontiguousarray(b).astype(np.float, copy=False)\n",
    "    if a.ndim == 2:\n",
    "        a = a[None, :, :]\n",
    "    if b.ndim == 2:\n",
    "        b = b[None, :, :]\n",
    "        \n",
    "    shape_a = a.shape[:-2]\n",
    "    shape_b = b.shape[:-2]\n",
    "    len_a = np.prod(shape_a)\n",
    "    len_b = np.prod(shape_b)\n",
    "    \n",
    "    idx_a = np.arange(len_a, dtype=np.int32).reshape(shape_a)\n",
    "    idx_b = np.arange(len_b, dtype=np.int32).reshape(shape_b)\n",
    "    idx_a, idx_b = np.broadcast_arrays(idx_a, idx_b)\n",
    "    \n",
    "    index = np.column_stack((idx_a.ravel(), idx_b.ravel()))\n",
    "    bshape = idx_a.shape\n",
    "    \n",
    "    if a.ndim > 3:\n",
    "        a = a.reshape(-1, a.shape[-2], a.shape[-1])\n",
    "    if b.ndim > 3:\n",
    "        b = b.reshape(-1, b.shape[-2], b.shape[-1])\n",
    "    \n",
    "    if a.shape[-1] != b.shape[-2]:\n",
    "        raise ValueError(\"can't do matrix multiply because k isn't the same\")\n",
    "\n",
    "    c = dgemm(a, b, index)\n",
    "    c = np.swapaxes(c, -2, -1)\n",
    "    c.shape = bshape + c.shape[-2:]\n",
    "    return c"
   ]
  },
  {
   "cell_type": "code",
   "execution_count": 22,
   "metadata": {
    "collapsed": false,
    "group_control": {
     "group": 0
    }
   },
   "outputs": [
    {
     "data": {
      "text/plain": [
       "True"
      ]
     },
     "execution_count": 22,
     "metadata": {},
     "output_type": "execute_result"
    }
   ],
   "source": [
    "import numpy.core.umath_tests as umath\n",
    "a = np.random.rand(12,  1, 10, 100, 30)\n",
    "b = np.random.rand( 1, 15,  1,  30, 50)\n",
    "np.allclose(matrix_multiply(a, b), umath.matrix_multiply(a, b))"
   ]
  },
  {
   "cell_type": "code",
   "execution_count": 23,
   "metadata": {
    "collapsed": false,
    "group_control": {
     "group": 0
    }
   },
   "outputs": [
    {
     "name": "stdout",
     "output_type": "stream",
     "text": [
      "10 loops, best of 3: 47.8 ms per loop\n",
      "1 loops, best of 3: 313 ms per loop\n"
     ]
    }
   ],
   "source": [
    "%timeit matrix_multiply(a, b)\n",
    "%timeit umath.matrix_multiply(a, b)"
   ]
  }
 ],
 "metadata": {
  "kernelspec": {
   "display_name": "Python 2",
   "language": "python",
   "name": "python2"
  },
  "language_info": {
   "codemirror_mode": {
    "name": "ipython",
    "version": 2
   },
   "file_extension": ".py",
   "mimetype": "text/x-python",
   "name": "python",
   "nbconvert_exporter": "python",
   "pygments_lexer": "ipython2",
   "version": "2.7.9"
  }
 },
 "nbformat": 4,
 "nbformat_minor": 0
}
