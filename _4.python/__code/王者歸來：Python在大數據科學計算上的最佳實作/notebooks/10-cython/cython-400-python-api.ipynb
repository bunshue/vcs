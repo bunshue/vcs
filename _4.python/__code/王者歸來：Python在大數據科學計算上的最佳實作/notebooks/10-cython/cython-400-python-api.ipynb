﻿{
 "cells": [
  {
   "cell_type": "code",
   "execution_count": 2,
   "metadata": {
    "collapsed": false,
    "group_control": {
     "group": 0
    }
   },
   "outputs": [],
   "source": [
    "%load_ext cython\n",
    "import numpy as np"
   ]
  },
  {
   "cell_type": "markdown",
   "metadata": {},
   "source": [
    "## 使用Python標准物件和API"
   ]
  },
  {
   "cell_type": "markdown",
   "metadata": {},
   "source": [
    "### 動作`list`物件"
   ]
  },
  {
   "cell_type": "code",
   "execution_count": 6,
   "metadata": {
    "collapsed": false,
    "group_control": {
     "group": 0
    }
   },
   "outputs": [],
   "source": [
    "%%cython\n",
    "#cython: boundscheck=False, wraparound=False\n",
    "from cpython.list cimport PyList_New, PyList_SET_ITEM #❶\n",
    "from cpython.ref cimport Py_INCREF\n",
    "\n",
    "def my_range(int n):\n",
    "    cdef int i\n",
    "    cdef object obj #❷\n",
    "    cdef list result\n",
    "    result = PyList_New(n)\n",
    "    for i in range(n):\n",
    "        obj = i\n",
    "        PyList_SET_ITEM(result, i, obj)\n",
    "        Py_INCREF(obj)\n",
    "    return result\n",
    "\n",
    "def my_range2(int n):\n",
    "    cdef int i\n",
    "    cdef list result\n",
    "    result = []\n",
    "    for i in range(n):\n",
    "        result.append(i)\n",
    "    return result"
   ]
  },
  {
   "cell_type": "code",
   "execution_count": 7,
   "metadata": {
    "collapsed": false,
    "group_control": {
     "group": 0
    }
   },
   "outputs": [
    {
     "name": "stdout",
     "output_type": "stream",
     "text": [
      "1000000 loops, best of 3: 1.24 μs per loop\n",
      "1000000 loops, best of 3: 1.04 μs per loop\n",
      "100000 loops, best of 3: 2.29 μs per loop\n"
     ]
    }
   ],
   "source": [
    "%timeit range(100)\n",
    "%timeit my_range(100)\n",
    "%timeit my_range2(100)"
   ]
  },
  {
   "cell_type": "markdown",
   "metadata": {},
   "source": [
    "### 建立`tuple`物件"
   ]
  },
  {
   "cell_type": "code",
   "execution_count": 8,
   "metadata": {
    "collapsed": false,
    "group_control": {
     "group": 0
    }
   },
   "outputs": [],
   "source": [
    "%%cython\n",
    "#cython: boundscheck=False, wraparound=False\n",
    "from cpython.list cimport PyList_New, PyList_SET_ITEM\n",
    "from cpython.tuple cimport PyTuple_New, PyTuple_SET_ITEM\n",
    "from cpython.ref cimport Py_INCREF\n",
    "\n",
    "def to_tuple_list(double[:, :] arr):\n",
    "    cdef int m, n\n",
    "    cdef int i, j\n",
    "    cdef list result\n",
    "    cdef tuple t\n",
    "    cdef object obj\n",
    "    \n",
    "    m, n = arr.shape[0], arr.shape[1]\n",
    "    result = PyList_New(m)\n",
    "    for i in range(m):\n",
    "        t = PyTuple_New(n)\n",
    "        for j in range(n):\n",
    "            obj = arr[i, j]\n",
    "            PyTuple_SET_ITEM(t, j, obj)\n",
    "            Py_INCREF(obj)\n",
    "        PyList_SET_ITEM(result, i, t)\n",
    "        Py_INCREF(t)\n",
    "    return result"
   ]
  },
  {
   "cell_type": "code",
   "execution_count": 9,
   "metadata": {
    "collapsed": false,
    "group_control": {
     "group": 0
    }
   },
   "outputs": [
    {
     "name": "stdout",
     "output_type": "stream",
     "text": [
      "[(0.0, 4.0), (5.0, 7.0), (7.0, 0.0), (5.0, 5.0), (5.0, 9.0)]\n",
      "100000 loops, best of 3: 13 μs per loop\n",
      "10000 loops, best of 3: 20.5 μs per loop\n"
     ]
    }
   ],
   "source": [
    "import numpy as np\n",
    "arr = np.random.randint(0, 10, (5, 2)).astype(np.double)\n",
    "print to_tuple_list(arr)\n",
    "\n",
    "arr = np.random.rand(100, 5)\n",
    "%timeit to_tuple_list(arr)\n",
    "%timeit arr.tolist()"
   ]
  },
  {
   "cell_type": "markdown",
   "metadata": {},
   "source": [
    "### 用`array.array`作動態陣列"
   ]
  },
  {
   "cell_type": "code",
   "execution_count": 10,
   "metadata": {
    "collapsed": false,
    "group_control": {
     "group": 0
    }
   },
   "outputs": [],
   "source": [
    "%%cython -c-Ofast\n",
    "#cython: boundscheck=False, wraparound=False\n",
    "import numpy as np\n",
    "from cpython cimport array\n",
    "\n",
    "def in_circle(double[:, :] points, double cx, double cy, double r):\n",
    "    cdef array.array[double] res = array.array(\"d\") #❶\n",
    "    cdef double r2 = r * r\n",
    "    cdef double p[2] #❷\n",
    "    cdef int i \n",
    "    for i in range(points.shape[0]):\n",
    "        p[0] = points[i, 0]\n",
    "        p[1] = points[i, 1]\n",
    "        if (p[0] - cx)**2 + (p[1] - cy)**2 < r2:\n",
    "            array.extend_buffer(res, <char*>p, 2) #❸\n",
    "    return np.frombuffer(res, np.double).copy().reshape(-1, 2) #❹"
   ]
  },
  {
   "cell_type": "markdown",
   "metadata": {},
   "source": [
    "> **TIP**\n",
    "\n",
    "> 本例的目的是為了示範`array.array`動態擴充，實際上使用布爾陣列有可能得到更快的運算速度。"
   ]
  },
  {
   "cell_type": "code",
   "execution_count": 13,
   "metadata": {
    "collapsed": false,
    "group_control": {
     "group": 0
    }
   },
   "outputs": [
    {
     "name": "stdout",
     "output_type": "stream",
     "text": [
      "10000 loops, best of 3: 97.7 μs per loop\n",
      "10000 loops, best of 3: 38.6 μs per loop\n"
     ]
    }
   ],
   "source": [
    "points = np.random.rand(10000, 2)\n",
    "cx, cy, r = 0.3, 0.5, 0.05\n",
    "\n",
    "%timeit points[(points[:, 0] - cx)**2 + (points[:, 1] - cy)**2 < r**2, :]\n",
    "%timeit in_circle(points, cx, cy, r)"
   ]
  }
 ],
 "metadata": {
  "kernelspec": {
   "display_name": "Python 2",
   "language": "python",
   "name": "python2"
  },
  "language_info": {
   "codemirror_mode": {
    "name": "ipython",
    "version": 2
   },
   "file_extension": ".py",
   "mimetype": "text/x-python",
   "name": "python",
   "nbconvert_exporter": "python",
   "pygments_lexer": "ipython2",
   "version": "2.7.9"
  }
 },
 "nbformat": 4,
 "nbformat_minor": 0
}
