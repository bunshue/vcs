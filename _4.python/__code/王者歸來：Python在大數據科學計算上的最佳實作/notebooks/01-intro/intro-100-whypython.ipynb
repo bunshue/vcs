﻿{
 "cells": [
  {
   "cell_type": "markdown",
   "metadata": {},
   "source": [
    "# Python科學計算環境的安裝與簡介"
   ]
  },
  {
   "cell_type": "markdown",
   "metadata": {},
   "source": [
    "## Python簡介"
   ]
  },
  {
   "cell_type": "markdown",
   "metadata": {},
   "source": [
    "Python是一種直譯型、面對物件、動態的進階程式設計語系。自從90年代初Python語系誕生至今，它逐漸被廣泛套用於處理系統管理工作和開發Web系統。目前Python已經成為最受歡迎的程式設計語系之一。\n",
    "\n",
    "由於Python語系的簡潔、易讀以及可延伸性，在國外用Python做科學計算的研究機構日益增多，一些知名大學已經采用Python教授程式設計課程。眾多開放原始碼的科學計算軟體包都提供了Python的呼叫接口，例如電腦視覺庫OpenCV、3D可視化庫VTK、復雜網路分析庫igraph等。而Python私人的科學計算延伸庫就更多了，例如三個十分經典的科學計算延伸庫：NumPy、SciPy和matplotlib，它們分別為Python提供了快速陣列處理、數值運算以及繪圖等功能。因此Python語系及其眾多的延伸庫所構成的開發環境十分適合專案技術、科學研究人員處理實驗資料，製作圖表，甚至開發科學計算套用程式。近年隨著資料分析延伸庫Pandas、機器研讀延伸庫scikit-learn以及IPython Notebook互動環境的日益成熟，Python也逐漸成為資料分析領域的偏好工具。\n",
    "\n",
    "說起科學計算，首先會被提到的可能是MATLAB。然而除了MATLAB的一些專業性很強的工具箱目前還無法替代之外，MATLAB的大部分常用功能都可以在Python世界中找到對應的延伸庫。和MATLAB相比，用Python做科學計算有如下優點：\n",
    "\n",
    "* 首先，MATLAB是一款商用軟體，並且價格不菲。而Python完全免費，眾多開放原始碼的科學計算庫都提供了Python的呼叫接口。使用者可以在任何電腦上免費安裝Python及其絕大多數延伸庫。\n",
    "\n",
    "* 其次，與MATLAB相比Python是一門更易學、更嚴謹的程式設計語系。它能讓使用者撰寫出更易讀、易維護的程式碼。\n",
    "\n",
    "* 最後，MATLAB主要專注於專案和科學計算。然而即使在計算領域，也經常會遇到檔案管理、界面設計、網路通訊等各種需求。而Python有著豐富的延伸庫，可以輕易完成各種高階工作，開發者可以用Python實現完整套用程式所需的各種功能。"
   ]
  },
  {
   "cell_type": "markdown",
   "metadata": {},
   "source": [
    "### Python2還是Python3"
   ]
  },
  {
   "cell_type": "markdown",
   "metadata": {},
   "source": [
    "自從2008年發布以來，Python3經由了5個小版本的更迭，無論是語法還是標准庫都發展得十分成熟。許多重要的延伸庫也已經逐漸同時支援Python2和Python3。但是由於Python3不向下相容，目前大多數開發者仍然在生產環境中使用Python 2.7。在PyCon2014大會上，Python之父宣布Python 2.7的官方支援延長至2020年。因此本書仍然使用Python 2.7作為開發環境。\n",
    "\n",
    "在本書涉及的延伸庫中，IPython、NumPy、SciPy、matplotlib、Pandas、SymPy、Cython、Spyder和OpenCV等都已經支援Python 3。而Traits、TraitsUI、TVTK、Mayavi等延伸庫則尚未著手Python 3的移植。雖然一些新興的3D可視化延伸庫正朝著替代Mayavi的方向努力，但目前Python環境中尚未有能替代VTK和Mayavi的專業等級的3D可視化延伸庫，因此本書仍保留第一版中關聯的章節。"
   ]
  },
  {
   "cell_type": "markdown",
   "metadata": {},
   "source": [
    "### 開發環境"
   ]
  },
  {
   "cell_type": "markdown",
   "metadata": {},
   "source": [
    "和MATLAB等商用軟體不同，Python的眾多延伸庫由許多社區分別維護和發布，因此要一一將其收集齊全並安裝到電腦中是一件十分耗費時間和精力的事情。本節介紹兩個科學計算用的Python整合軟體包。讀者只需要下載並執行一個安裝程式，就能安裝好本書涉及的所有延伸庫。\n",
    "\n"
   ]
  },
  {
   "cell_type": "markdown",
   "metadata": {},
   "source": [
    "#### WinPython"
   ]
  },
  {
   "cell_type": "markdown",
   "metadata": {},
   "source": [
    "> **LINK**\n",
    "\n",
    "> https://winpython.github.io/\n",
    ">\n",
    "> WinPython的下載位址"
   ]
  },
  {
   "cell_type": "markdown",
   "metadata": {},
   "source": [
    "WinPython只能在Windows系統中執行，其安裝套件不會修改系統的任何組態，各種延伸庫的使用者組態檔也儲存在WinPython的資料夾之下。因此可將整個執行環境複製到隨身碟中，在任何Windows動作系統的電腦上執行。WinPython提供了一個安裝延伸庫的WinPython Control Panel界面程式，透過它可以安裝Python的各種延伸庫。可以透過下面的連結下載已經編譯好的二進位延伸庫安裝套件，然後透過WinPython Control Panel安裝。"
   ]
  },
  {
   "cell_type": "markdown",
   "metadata": {},
   "source": [
    "> **LINK**\n",
    "\n",
    "> http://www.lfd.uci.edu/~gohlke/pythonlibs/\n",
    ">\n",
    "> 從該網址可以下載各種Python延伸庫的Windows安裝檔案"
   ]
  },
  {
   "cell_type": "markdown",
   "metadata": {},
   "source": [
    "下圖顯示透過WinPython Control Panel安裝本書介紹的幾個延伸庫。透過“Add Packages”按鈕加入延伸庫的安裝程式之後，點擊“Install Packages”按鈕一次性安裝選取的所有延伸庫。\n",
    "\n",
    "![透過WinPython Control Panel安裝延伸庫](/files/images/WinPython_Control_Panel.png \"\")\n",
    "\n",
    "雖然手動安裝延伸庫有些麻煩，不過這種模式適合沒有網路連線或是網路較慢的電腦。例如在筆者的工作環境中，有大量的實驗用電腦不容許連線網際網路。"
   ]
  },
  {
   "cell_type": "markdown",
   "metadata": {},
   "source": [
    "若果讀者從WinPython的官方網站下載WinPython開發環境，為了執行本書所有案例程式，還需要安裝如下延伸庫：\n",
    "\n",
    "* VTK、Mayavi、pyface、Traits和TraitsUI：在圖形界面以及3D可視化章節需要用到這些延伸庫。\n",
    "* OpenCV：在圖形處理章節需要用該延伸庫。"
   ]
  },
  {
   "cell_type": "markdown",
   "metadata": {},
   "source": [
    "#### Anaconda"
   ]
  },
  {
   "cell_type": "markdown",
   "metadata": {},
   "source": [
    "> **LINK**\n",
    "\n",
    "> https://store.continuum.io/cshop/anaconda/\n",
    ">\n",
    "> Anaconda的下載位址"
   ]
  },
  {
   "cell_type": "markdown",
   "metadata": {},
   "source": [
    "由CONTINUUM開發的Anaconda開發環境支援Windows、Linux和Mac OSX。安裝時會提示是否修改`PATH`環境變數和登錄表，若果希望手動啟動Anaconda環境，請取消選取這兩個選項。\n",
    "\n",
    "在指令行中執行安裝路徑之下的批處理檔案`Scripts\\anaconda.bat`啟動Anaconda環境，然後就可以輸入下面的`conda`指令管理延伸庫了。\n",
    "\n",
    "|           指令           |         說明         |\n",
    "|:------------------------|:--------------------|\n",
    "| `conda list`             | 列出所有的延伸庫     |\n",
    "| `conda update 延伸庫名`  | 陞級延伸庫           |\n",
    "| `conda install 延伸庫名` | 安裝延伸庫           |\n",
    "| `conda search 範本`      | 搜尋符合範本的延伸庫 |\n",
    "\n",
    "`conda`指令本身也是一個延伸庫，因此通常在執行上述指令之前，可以先執行`conda update conda`嘗試陞級到最新版本。`conda`預設從官方頻道下載延伸庫，若果找不到特殊的延伸庫，還可以使用`anaconda`指令從Anaconda網站的其它頻道搜尋特殊的延伸庫。例如下面的指令搜尋可使用`conda`安裝的OpenCV延伸庫：\n",
    "\n",
    "```\n",
    "binstar search -t conda opencv\n",
    "```\n",
    "\n",
    "找到包括目的延伸庫的頻道之後，輸入下面的指令從特殊的頻道`rsignell`安裝：\n",
    "\n",
    "```\n",
    "conda install opencv-python -c rsignell\n",
    "```\n",
    "\n",
    "還可以使用`pip`指令安裝下載的延伸庫檔案，例如從前面介紹的網址下載檔案`opencv_python-2.4.11-cp27-none-win32.whl`之後，切換到該檔案所在的路徑並輸入`pip install opencv_python-2.4.11-cp27-none-win32.whl`即可安裝該延伸庫。"
   ]
  },
  {
   "cell_type": "markdown",
   "metadata": {},
   "source": [
    "#### 使用附贈光碟中的開發環境"
   ]
  },
  {
   "cell_type": "markdown",
   "metadata": {},
   "source": [
    "本書的附贈光碟中包括了能執行本書所有案例程式的`WinPython`壓縮檔：`winpython.zip`。請讀者將之解壓到C碟根目錄之下，該壓縮檔會建立`C:\\WinPython-32bit-2.7.9.2`目錄。\n",
    "\n",
    "然後將本書附碟中提供的程式碼目錄`scipybook2`複製到電腦的硬碟中，為了確保程式碼標準執行，請確保該程式碼目錄的完整路徑中不包括空格和中文字元。在`scipybook2`中包括三個子目錄：\n",
    "\n",
    "* `codes`：其中的`scpy2`子目錄下包括本書提供的範例程式，該範例程式庫采用套件的形式管理，因此需要將它加入進Python的包搜尋路徑環境變數`PYTHONPATH`中才能正確執行`scpy2`中的範例程式。在`scipybook2`目錄下的批處理檔案`run_console.bat`和`run_notebook.bat`中會自動設定該環境變數。\n",
    "\n",
    "* `notebooks`：本書完全使用IPython Notebook撰寫，該目錄下的Notebook檔案中儲存了本書所有章節的標題以及範例程式。讀者可以透過`run_notebook.bat`批處理檔案啟動本書的撰寫環境。為了保護本書版權，除本章之外的其他所有章節的文字解說內容都已被移除。\n",
    "\n",
    "* `settings`：儲存各種延伸庫的組態檔。這些檔案會儲存在`HOME`環境變數所設定的目錄之下，預設值為：`C:\\Users\\使用者名稱`。為了避免與讀者的系統中的組態檔發生沖突，在批處理檔案中將`HOME`環境變數修改為該`settings`目錄。\n",
    "\n",
    "為了確認開發環境正確安裝，請讀者執行`run_console.bat`，然後在指令行中執行`python -m scpy2`，並檢查是否列印出開發環境中各個延伸庫的版本訊息。"
   ]
  },
  {
   "cell_type": "markdown",
   "metadata": {},
   "source": [
    "> **TIP**\n",
    "\n",
    "> 若果讀者將`winpython.zip`檔案解壓到別的路徑之下，可以修改`env.bat`檔案中第二行中的路徑。"
   ]
  },
  {
   "cell_type": "code",
   "execution_count": 1,
   "metadata": {
    "collapsed": false
   },
   "outputs": [
    {
     "name": "stdout",
     "output_type": "stream",
     "text": [
      "Welcome to Scpy2\n",
      "Python: 2.7.9\n",
      "executable: C:\\WinPython-32bit-2.7.9.2\\python-2.7.9\\python.exe\n",
      "Cython              : 0.22\n",
      "matplotlib          : 1.4.3\n",
      "numpy-MKL           : 1.9.1\n",
      "opencv_python       : 2.4.11\n",
      "pandas              : 0.16.0\n",
      "scipy               : 0.15.0\n",
      "sympy               : 0.7.6\n"
     ]
    }
   ],
   "source": [
    "!python -m scpy2"
   ]
  },
  {
   "cell_type": "markdown",
   "metadata": {},
   "source": [
    "### 整合開發環境(IDE)"
   ]
  },
  {
   "cell_type": "markdown",
   "metadata": {},
   "source": [
    "本節介紹兩個常用的Python整合開發環境，它們能實現自動完成、定義跳躍、自動重構、除錯等常用的IDE功能，聯集成了IPython的互動環境以及檢視陣列、繪制圖表等科學計算開發中常用的功能。熟練使用這些工具能極大地提昇寫程式效率。"
   ]
  },
  {
   "cell_type": "markdown",
   "metadata": {},
   "source": [
    "#### Spyder"
   ]
  },
  {
   "cell_type": "markdown",
   "metadata": {},
   "source": [
    "Spyder是WinPython的作者開發的一個簡單的整合開發環境，可透過WinPython的安裝目錄下的`Spyder.exe`執行。若果讀者希望在本書的開發環境中執行Spyder，可以在`run_console.bat`開啟的指令行中輸入`spyder`指令。\n",
    "\n",
    "和其它的Python開發環境相比，它最大的優點就是模仿MATLAB的“工作空間”的功能，可以很方便地觀察和修改陣列的值。`ref:fig-next`是Spyder的界面抓圖。\n",
    "\n",
    "![在Spyder中執行圖形處理的程式](/files/images/spyder_interface.png \"\")"
   ]
  },
  {
   "cell_type": "markdown",
   "metadata": {},
   "source": [
    "Spyder的界面由許多泊塢視窗構成，使用者可以根據自己的喜好調整它們的位置和大小。當多個視窗在一個區域中時，將使用標簽頁的形式顯示。例如在`ref:fig-prev`中，可以看到“Editor”、“Variable explorer”、“File explorer”、“IPython Console”等視窗。在View選單中可以設定是否顯示這些視窗。下表列出了Spyder的主要視窗及其作用：\n",
    "\n",
    "| 視窗名  | 功能  |\n",
    "|:--|:--|\n",
    "| Editor  | 編輯程式，以標簽頁的形式編輯多個執行檔  |\n",
    "| Console  | 在別的執行緒中執行的Python主控台  |\n",
    "| Variable explorer  | 顯示Python主控台中的變數清單  |\n",
    "| Object inspector | 檢視物件的說明文件和源程式 |\n",
    "| File explorer  | 檔案瀏覽器，用來開啟執行檔或是切換目前路徑  |\n",
    "\n",
    "按F5將在另外的主控台執行緒中執行目前編輯器中的程式。第一次執行程式時，將出現一個如`ref:fig-next`所示的執行組態交談視窗。在此交談視窗中可以對程式的執行進行如下組態：\n",
    "\n",
    "* Command line options：輸入程式的執行參數。\n",
    "\n",
    "* Working directory：輸入程式的執行路徑。\n",
    "\n",
    "* Execute in current Python or IPython interpreter：在目前的Python主控台中執行程式。程式可以存取此主控台中的所有全局物件，主控台中已經載入的模組不需要重新載入，因此程式的啟動速度較快。\n",
    "\n",
    "* Execute in a new dedicated Python interpreter：新開一個Python主控台並在其中執行程式，程式的啟動速度較慢，但是由於新主控台中沒有多餘的全局物件，因此更接近真實執行的情況。當選取此項時，還可以選取“Interact with the Python interpreter after execution”，這樣當程式結束執行之後，主控台執行緒繼續執行，可以透過它檢視程式執行之後的所有的全局物件。此外，還可以在“Command line options”中輸入新主控台的啟動參數。\n",
    "\n",
    "* Execute in an external System terminal：選取該選項則完全脫離Spyder執行程式。\n",
    "\n",
    "執行組態交談視窗只會在第一次執行程式時出現，若果想修改程式的執行組態，可以按F6開啟執行組態交談視窗。\n",
    "\n",
    "![執行組態交談視窗](/files/images/spyder_run_dialog.png \"\")"
   ]
  },
  {
   "cell_type": "markdown",
   "metadata": {},
   "source": [
    "主控台中的全局物件可以在“Variable explorer”視窗中找到。此視窗支援數值、字串、元群組、清單、字典以及NumPy的陣列等物件的顯示和編輯。`ref:fig-next`（左）是“Variable explorer”視窗的抓圖，列出了目前執行環境中的變數名、型態、大小以及其內容。右鍵點擊變數名出現對此變數進行動作的選單。在選單中選取Edit選項，出現`ref:fig-next`（右）所示的陣列編輯視窗。此編輯視窗中的單元格的背景彩色直觀地顯示了數值的大小。當有多個主控台執行時，“Variable explorer”視窗顯示目前主控台中的全局物件。\n",
    "\n",
    "![使用“Variable explorer”檢視和編輯變數內容](/files/images/spyder_workspace_01.png \"\")\n",
    "\n",
    "選取選單中的Plot選項，將出現如`ref:fig-next`所示的繪圖視窗。在繪圖視窗的工具列中點擊最右邊的按鈕，將出現一個編輯繪圖物件的交談視窗。圖中使用此交談視窗修改了曲線的彩色和線寬。\n",
    "\n",
    "![在“Variable explorer”中將陣列繪製成曲線圖](/files/images/spyder_workspace_02.png \"\")"
   ]
  },
  {
   "cell_type": "markdown",
   "metadata": {},
   "source": [
    "Spyder的功能比較多，這裡僅介紹一些常用的功能和技巧：\n",
    "\n",
    "* 預設組態下，“Variable explorer”中不顯示大寫字母開頭的變數，可以點擊其工具列中的組態按鈕(最後一個按鈕)，在選單中取消“Exclude capitalized references”的選取狀態。\n",
    "\n",
    "* 在主控台中，可以按Tab按鍵自動補全。在變數名之後輸入“?”，可以在“Object inspector”視窗中檢視物件的說明文件。此視窗的Options選單中的“Show source”選項可以開啟顯示函數的源程式。\n",
    "\n",
    "* 可以透過“Working directory”工具列修改工作路徑，使用者程式執行時，將以此工作路徑作為目前路徑。只需要修改工作路徑，就可以用同一個程式處理不同資料夾下的資料檔。\n",
    "\n",
    "* 在程式編輯視窗中按住Ctrl按鍵，並點選變數名、函數名、類別名或是模組名，可以快速跳躍到其定義位置。若果是在別的執行檔中定義的，將開啟此檔案。在研讀一個新的模組庫的用法時，經常會需要檢視模組中的某個函數或是某個類別是如何定義的，使用此功能可以幫助我們快速檢視和分析各個庫的源程式。"
   ]
  },
  {
   "cell_type": "markdown",
   "metadata": {},
   "source": [
    "#### PyCharm"
   ]
  },
  {
   "cell_type": "markdown",
   "metadata": {},
   "source": [
    "PyCharm是由JetBrains開發的整合開發環境。它具有專案管理、程式碼跳躍、程式碼格式化、自動完成、重構、自動匯入、除錯等功能。雖然專業版價格比較高，但是它提供的免費社區版本具有開發Python程式所需的所有功能。若果讀者需要開發較大的套用程式，使用它可以提昇開發效率，確保程式碼的質量。"
   ]
  },
  {
   "cell_type": "markdown",
   "metadata": {},
   "source": [
    "> **LINK**\n",
    "\n",
    "> http://www.jetbrains.com/pycharm\n",
    ">\n",
    "> PyCharm的官方網站"
   ]
  },
  {
   "cell_type": "markdown",
   "metadata": {},
   "source": [
    "若果讀者使用本書提供的便攜WinPython版本，則需要在PyCharm中設定Python解釋器。透過選單“File → Settings”開啟組態交談視窗，在左欄中找到“Project Interpreter”，然後透過右側的齒輪按鈕，並選取出現的選單中的“Add Local”選項，即可開啟如`ref:fig-next`所示的交談視窗：\n",
    "\n",
    "![組態Python解釋器的路徑](/files/images/pycharm_interpreter.png \"\")\n",
    "\n",
    "由於本書提供的程式碼沒有複製到Python的庫搜尋路徑中，可以將`scpy2`的路徑加入進`PYTHONPATH`環境變數，或是在PyCharm中將`scpy2`所在的路徑加入進Python的搜尋路徑。按上述的齒輪按鈕，並選取“More...”，將開啟`ref:fig-next`中左側的交談視窗，選取解釋器之後，按右側工具列中最下方的按鈕開啟路徑組態交談視窗，透過此交談視窗加入本書提供的`scpy2`庫所在的路徑。\n",
    "\n",
    "![加入庫搜尋路徑](/files/images/pycharm_path.png \"\")"
   ]
  }
 ],
 "metadata": {
  "kernelspec": {
   "display_name": "Python 2",
   "language": "python",
   "name": "python2"
  },
  "language_info": {
   "codemirror_mode": {
    "name": "ipython",
    "version": 2
   },
   "file_extension": ".py",
   "mimetype": "text/x-python",
   "name": "python",
   "nbconvert_exporter": "python",
   "pygments_lexer": "ipython2",
   "version": "2.7.9"
  }
 },
 "nbformat": 4,
 "nbformat_minor": 0
}
