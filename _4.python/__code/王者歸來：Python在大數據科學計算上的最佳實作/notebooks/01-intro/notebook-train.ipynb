﻿{
 "cells": [
  {
   "cell_type": "markdown",
   "metadata": {},
   "source": [
    "# IPython Notebook動作練習"
   ]
  },
  {
   "cell_type": "markdown",
   "metadata": {},
   "source": [
    "## 切換單元格型態"
   ]
  },
  {
   "cell_type": "markdown",
   "metadata": {},
   "source": [
    "本節練習指令模式下的單元格動作，若果單元格的邊框為綠色，請按ESC鍵，退回到指令模式。在指令模式下被勾選的單元采用灰色邊框顯示。按**上下方向鍵**可以搬移選取框。"
   ]
  },
  {
   "cell_type": "markdown",
   "metadata": {},
   "source": [
    "在指令模式下按下面的按鍵，切換單元格型態：\n",
    "\n",
    "* 數字鍵：將單元格變為標題型態，數字越大標題越小\n",
    "* m：將單元格變為markdown型態，在markdown型態的單元格內可以撰寫文件\n",
    "* y: 將單元格變為程式碼型態，在程式碼型態的單元格中輸入Python程式碼\n",
    "\n",
    "注：將程式碼型態改為標題型態和markdown型態之後，按Ctrl+Enter對其進行格式化顯示。以下單元格均為程式碼型態，請將其修改為正確的型態。"
   ]
  },
  {
   "cell_type": "code",
   "execution_count": null,
   "metadata": {
    "collapsed": false
   },
   "outputs": [],
   "source": [
    "請將我變為一級標題，然後按Ctrl+Enter"
   ]
  },
  {
   "cell_type": "code",
   "execution_count": null,
   "metadata": {
    "collapsed": false
   },
   "outputs": [],
   "source": [
    "請將我變為二級標題"
   ]
  },
  {
   "cell_type": "code",
   "execution_count": null,
   "metadata": {
    "collapsed": false
   },
   "outputs": [],
   "source": [
    "請將我變為三級標題"
   ]
  },
  {
   "cell_type": "code",
   "execution_count": null,
   "metadata": {
    "collapsed": false
   },
   "outputs": [],
   "source": [
    "請將我變為markdown型態，在markdown型態的單元中可以編輯**文件**。例如：\n",
    "\n",
    "* 我是一個無序號清單\n",
    "* 我是清單的第二項\n",
    "\n",
    "markdown中可以使用**$$**內嵌LaTeX數學公式，例如：\n",
    "\n",
    "$$ \\sqrt{x^2 + y^2} $$"
   ]
  },
  {
   "cell_type": "markdown",
   "metadata": {},
   "source": [
    "#### 請將我變為code型態，然後按Ctrl+Enter執行下面的程式碼\n",
    "print \"hello world!\""
   ]
  },
  {
   "cell_type": "markdown",
   "metadata": {},
   "source": [
    "## 增刪單元格"
   ]
  },
  {
   "cell_type": "markdown",
   "metadata": {},
   "source": [
    "在指令模式下透過下面的指令增刪單元格：\n",
    "\n",
    "* d: 按兩下d按鍵移除單元格\n",
    "* z: 取消最後移除單元格動作\n",
    "* a: 在目前單元格之上建立一個新的單元格\n",
    "* b: 在目前單元格之下建立一個新的單元格"
   ]
  },
  {
   "cell_type": "markdown",
   "metadata": {},
   "source": [
    "請按兩下d按鍵移除我"
   ]
  },
  {
   "cell_type": "markdown",
   "metadata": {},
   "source": [
    "請按z鍵還原剛才移除的單元"
   ]
  },
  {
   "cell_type": "markdown",
   "metadata": {},
   "source": [
    "請按a按鍵在我上面建立一個新的單元格"
   ]
  },
  {
   "cell_type": "markdown",
   "metadata": {},
   "source": [
    "請按b按鍵在我下面建立一個新的單元格"
   ]
  },
  {
   "cell_type": "markdown",
   "metadata": {},
   "source": [
    "* x: 剪下目前單元格\n",
    "* c: 複製目前單元格\n",
    "* v: 在目前單元格之下貼上剪下板中的單元格"
   ]
  },
  {
   "cell_type": "markdown",
   "metadata": {},
   "source": [
    "**A** 請將我複製一份，貼上到B的下面"
   ]
  },
  {
   "cell_type": "markdown",
   "metadata": {},
   "source": [
    "**B** 請將我剪下-貼上到C的下面"
   ]
  },
  {
   "cell_type": "markdown",
   "metadata": {},
   "source": [
    "**C** 請不要動我"
   ]
  },
  {
   "cell_type": "markdown",
   "metadata": {},
   "source": [
    "## 搬移單元"
   ]
  },
  {
   "cell_type": "markdown",
   "metadata": {},
   "source": [
    "* ctrl+k: 將目前單元格上移\n",
    "* ctrl+j: 將目前單元格下移\n",
    "\n",
    "請使用上述快速鍵將下面的單元格按照從小到大排序："
   ]
  },
  {
   "cell_type": "markdown",
   "metadata": {},
   "source": [
    "**C**"
   ]
  },
  {
   "cell_type": "markdown",
   "metadata": {},
   "source": [
    "**D**"
   ]
  },
  {
   "cell_type": "markdown",
   "metadata": {},
   "source": [
    "**B**"
   ]
  },
  {
   "cell_type": "markdown",
   "metadata": {},
   "source": [
    "**A**"
   ]
  },
  {
   "cell_type": "markdown",
   "metadata": {},
   "source": [
    "## 合並單元"
   ]
  },
  {
   "cell_type": "markdown",
   "metadata": {},
   "source": [
    "* shift+m:與下面的單元合並\n",
    "\n",
    "請將下面三個單元合並，然後按**ctrl+Enter**執行"
   ]
  },
  {
   "cell_type": "code",
   "execution_count": null,
   "metadata": {
    "collapsed": false
   },
   "outputs": [],
   "source": [
    "n = 4"
   ]
  },
  {
   "cell_type": "code",
   "execution_count": null,
   "metadata": {
    "collapsed": false
   },
   "outputs": [],
   "source": [
    "for i in range(n):"
   ]
  },
  {
   "cell_type": "code",
   "execution_count": null,
   "metadata": {
    "collapsed": false
   },
   "outputs": [],
   "source": [
    "    print i"
   ]
  },
  {
   "cell_type": "markdown",
   "metadata": {},
   "source": [
    "## 編輯和執行"
   ]
  },
  {
   "cell_type": "markdown",
   "metadata": {},
   "source": [
    "在編輯模式下，單元使用綠色邊框顯示。在指令模式下按Enter即可進入編輯模式。編輯完成之後按Ctrl+Enter即可結束編輯：\n",
    "\n",
    "* 對於程式碼單元將執行其中的程式碼\n",
    "* 對於標題單元和markdown單元將格式化顯示\n",
    "\n",
    "也可以按ESC離開編輯模式，此時不會執行程式碼或進行格式化顯示。"
   ]
  },
  {
   "cell_type": "markdown",
   "metadata": {},
   "source": [
    "**晴**修改這句話中的**錯別字**，並格式化顯示。"
   ]
  },
  {
   "cell_type": "code",
   "execution_count": null,
   "metadata": {
    "collapsed": false
   },
   "outputs": [],
   "source": [
    "#請修改本程式碼中的錯誤，並執行。提示：將prnt修改為print\n",
    "n = 4\n",
    "for i in range(n):\n",
    "    prnt i"
   ]
  },
  {
   "cell_type": "markdown",
   "metadata": {},
   "source": [
    "在執行程式碼時，經常需要順序執行多個單元中的程式碼。此時可以按Shift+Enter執行目前選取的程式碼單元，並自動選取下一個單元。請連續按Shift+Enter，執行下面三個單元中的程式碼。"
   ]
  },
  {
   "cell_type": "code",
   "execution_count": 13,
   "metadata": {
    "collapsed": false
   },
   "outputs": [],
   "source": [
    "a = \"hello\""
   ]
  },
  {
   "cell_type": "code",
   "execution_count": 14,
   "metadata": {
    "collapsed": false
   },
   "outputs": [],
   "source": [
    "b = \"world\""
   ]
  },
  {
   "cell_type": "code",
   "execution_count": null,
   "metadata": {
    "collapsed": false
   },
   "outputs": [],
   "source": [
    "print a + \" \" + b + \"!\""
   ]
  },
  {
   "cell_type": "markdown",
   "metadata": {},
   "source": [
    "按Alt+Enter可以執行目前的程式碼並在下面插入新的單元。請按Alt+Enter執行下面的單元，然後在新插入的單元中輸入`print x**2`："
   ]
  },
  {
   "cell_type": "code",
   "execution_count": 15,
   "metadata": {
    "collapsed": false
   },
   "outputs": [],
   "source": [
    "x = 0xffff"
   ]
  },
  {
   "cell_type": "markdown",
   "metadata": {},
   "source": [
    "## Markdown掃盲教學"
   ]
  },
  {
   "cell_type": "markdown",
   "metadata": {},
   "source": [
    "Notebook采用markdown對文字進行格式化標注。關於markdown的詳細訊息請閱讀下面的教學：\n",
    "\n",
    "http://www.jianshu.com/p/1e402922ee32\n",
    "\n",
    "在指令模式下按Enter鍵進入編輯模式即可檢視本段文字的Markdown程式碼。\n",
    "\n",
    "**無序清單**\n",
    "\n",
    "* 無序清單第一行\n",
    "* 無序清單第二行\n",
    "\n",
    "**序號清單**\n",
    "\n",
    "1. 有序清單第一行\n",
    "1. 有序清單第二行\n",
    "1. 有序清單第三行"
   ]
  },
  {
   "cell_type": "markdown",
   "metadata": {},
   "source": [
    "**請仿照上面單元的markdown文字在本單元中建立一個無序清單和序號清單**"
   ]
  },
  {
   "cell_type": "markdown",
   "metadata": {},
   "source": [
    "在行內的數學公式使用單一\\$括起，例如：$x = y^z$。單獨占一行的數學公式使用$$括起，例如：\n",
    "\n",
    "$$ c^2 = a^2 + b^2 $$\n",
    "\n",
    "數學公式采用LaTeX格式撰寫，可以使用下面的線上編輯器撰寫LaTeX數學公式：\n",
    "\n",
    "http://www.codecogs.com/latex/eqneditor.php?lang=zh-cn"
   ]
  },
  {
   "cell_type": "markdown",
   "metadata": {},
   "source": [
    "**請點擊上面的連線開啟線上編輯器，並點擊該頁面右上方的實例按鈕，從實例公式中選取一個公式加入進本單元**"
   ]
  },
  {
   "cell_type": "markdown",
   "metadata": {},
   "source": [
    "一些其他的格式：\n",
    "\n",
    "**粗體**, *斜體* \n",
    "\n",
    "下面是分割線\n",
    "\n",
    "***\n",
    "\n",
    "下面是參考塊\n",
    "\n",
    "> 在參考塊中可以參考一段文字。"
   ]
  },
  {
   "cell_type": "markdown",
   "metadata": {},
   "source": [
    "## 動作運算核"
   ]
  },
  {
   "cell_type": "markdown",
   "metadata": {},
   "source": [
    "若果進入了Python的無窮迴圈，可以在指令模式下按兩下i按鍵終止循環。\n",
    "\n",
    "請在下面的單元上按Ctrl+Enter進入無窮迴圈，注意右上角圖示從<i class=\"kernel_idle_icon\"></i>變為<i class=\"kernel_busy_icon\"></i>，表示運算核正在工作，無法執行新的程式碼。\n",
    "\n",
    "請按兩下i按鍵終止循環，注意右上角的圖示變回<i class=\"kernel_idle_icon\"></i>。"
   ]
  },
  {
   "cell_type": "code",
   "execution_count": 17,
   "metadata": {
    "collapsed": false
   },
   "outputs": [
    {
     "ename": "KeyboardInterrupt",
     "evalue": "",
     "output_type": "error",
     "traceback": [
      "\u001b[1;31m---------------------------------------------------------------------------\u001b[0m\n\u001b[1;31mKeyboardInterrupt\u001b[0m                         Traceback (most recent call last)",
      "\u001b[1;32m<ipython-input-17-ba59e3a881f3>\u001b[0m in \u001b[0;36m<module>\u001b[1;34m()\u001b[0m\n\u001b[0;32m      1\u001b[0m \u001b[0mcount\u001b[0m \u001b[1;33m=\u001b[0m \u001b[1;36m0\u001b[0m\u001b[1;33m\u001b[0m\u001b[0m\n\u001b[1;32m----> 2\u001b[1;33m \u001b[1;32mwhile\u001b[0m \u001b[0mTrue\u001b[0m\u001b[1;33m:\u001b[0m\u001b[1;33m\u001b[0m\u001b[0m\n\u001b[0m\u001b[0;32m      3\u001b[0m     \u001b[0mcount\u001b[0m \u001b[1;33m+=\u001b[0m \u001b[1;36m1\u001b[0m\u001b[1;33m\u001b[0m\u001b[0m\n",
      "\u001b[1;31mKeyboardInterrupt\u001b[0m: "
     ]
    }
   ],
   "source": [
    "count = 0\n",
    "while True:\n",
    "    count += 1"
   ]
  },
  {
   "cell_type": "markdown",
   "metadata": {},
   "source": [
    "請在下面輸入程式碼檢視`count`變數的值："
   ]
  },
  {
   "cell_type": "code",
   "execution_count": null,
   "metadata": {
    "collapsed": false
   },
   "outputs": [],
   "source": []
  },
  {
   "cell_type": "markdown",
   "metadata": {},
   "source": [
    "i按鍵不能終止編譯程式碼中的無窮迴圈，若果出現這種情況，可以按兩次0按鍵重新啟動運算核心，目前執行環境中的所有物件都將消失。\n",
    "\n",
    "首先執行下面的單元："
   ]
  },
  {
   "cell_type": "code",
   "execution_count": 2,
   "metadata": {
    "collapsed": false
   },
   "outputs": [],
   "source": [
    "%load_ext cython"
   ]
  },
  {
   "cell_type": "markdown",
   "metadata": {},
   "source": [
    "下面的程式碼采用Cython撰寫，它會編譯成延伸庫執行，我們在程式碼中加入無窮迴圈。由於該程式碼不由Python虛擬機執行，因此執行程式之後，運算執行緒將處於無法中斷的狀態。請按兩次0按鍵終止循環："
   ]
  },
  {
   "cell_type": "code",
   "execution_count": null,
   "metadata": {
    "collapsed": false
   },
   "outputs": [],
   "source": [
    "%%cython\n",
    "count = 0\n",
    "while True:\n",
    "    count += 1"
   ]
  },
  {
   "cell_type": "markdown",
   "metadata": {},
   "source": [
    "下面看看運算執行緒的自動重新啟動功能，執行下面的程式碼將會使運算執行緒例外終止，當伺服器檢查到運算執行緒例外終止之後，會出現標題為“Kernel Restarting”的交談視窗，按OK按鈕之後將自動重新啟動新的運算執行緒。若果運算核始終處於忙狀態，請按兩下0按鍵重新啟動運算核。"
   ]
  },
  {
   "cell_type": "code",
   "execution_count": null,
   "metadata": {
    "collapsed": false
   },
   "outputs": [],
   "source": [
    "import ctypes\n",
    "a = ctypes.cast(1, ctypes.POINTER(ctypes.c_int))\n",
    "a[0] = 100"
   ]
  },
  {
   "cell_type": "markdown",
   "metadata": {},
   "source": [
    "## 線上幫助和自動完成"
   ]
  },
  {
   "cell_type": "markdown",
   "metadata": {},
   "source": [
    "Notebook支援顯示函數和方法的文件和源程式碼，以及自動完成物件的屬性。在輸入程式碼時，按[TAB]鍵可以顯示自動完成提示框。自動完成支援目前執行環境中已知的模組名、變數名、物件的屬性名，以及檔案和目錄名。請在下面每行未完成的敘述最後按[TAB]鍵檢視對應的自動完成提示框。"
   ]
  },
  {
   "cell_type": "code",
   "execution_count": null,
   "metadata": {
    "collapsed": false
   },
   "outputs": [],
   "source": [
    "#模組名\n",
    "from scipy.integ\n",
    "#模組中的物件名\n",
    "from scipy.integrate import \n",
    "#檔名\n",
    "fn = \"intr\n",
    "#屬性名\n",
    "int."
   ]
  },
  {
   "cell_type": "markdown",
   "metadata": {},
   "source": [
    "對於目前環境中已知的物件，可以在其後面加入問號檢視對應的說明訊息和文件，加入兩個問號可以檢視物件對應的源程式。請執行下面兩個單元練習檢視說明文件："
   ]
  },
  {
   "cell_type": "code",
   "execution_count": null,
   "metadata": {
    "collapsed": false
   },
   "outputs": [],
   "source": [
    "list?"
   ]
  },
  {
   "cell_type": "code",
   "execution_count": null,
   "metadata": {
    "collapsed": false
   },
   "outputs": [],
   "source": [
    "get_ipython??"
   ]
  },
  {
   "cell_type": "markdown",
   "metadata": {},
   "source": [
    "在呼叫函數時，可以按[shift+tab]群組合鍵顯示函數的呼叫參數和說明文件，按一次群組合鍵顯示基本訊息，兩次顯示詳細訊息，三次延時停留訊息框，四次則將訊息顯示在下方的滑動視窗中。\n",
    "\n",
    "請執行下面的程式碼："
   ]
  },
  {
   "cell_type": "code",
   "execution_count": 1,
   "metadata": {
    "collapsed": false
   },
   "outputs": [],
   "source": [
    "import numpy as np"
   ]
  },
  {
   "cell_type": "markdown",
   "metadata": {},
   "source": [
    "請在下面的左括號之後多次按[shift+tab]群組合鍵檢視函數的提示訊息："
   ]
  },
  {
   "cell_type": "code",
   "execution_count": null,
   "metadata": {
    "collapsed": false
   },
   "outputs": [],
   "source": [
    "np.searchsorted("
   ]
  }
 ],
 "metadata": {
  "kernelspec": {
   "display_name": "Python 2",
   "language": "python",
   "name": "python2"
  },
  "language_info": {
   "codemirror_mode": {
    "name": "ipython",
    "version": 2
   },
   "file_extension": ".py",
   "mimetype": "text/x-python",
   "name": "python",
   "nbconvert_exporter": "python",
   "pygments_lexer": "ipython2",
   "version": "2.7.9"
  }
 },
 "nbformat": 4,
 "nbformat_minor": 0
}
