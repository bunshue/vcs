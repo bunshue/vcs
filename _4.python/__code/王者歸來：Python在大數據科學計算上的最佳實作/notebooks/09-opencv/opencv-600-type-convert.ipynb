﻿{
 "cells": [
  {
   "cell_type": "code",
   "execution_count": 1,
   "metadata": {
    "collapsed": false,
    "group_control": {
     "group": 0
    }
   },
   "outputs": [],
   "source": [
    "%matplotlib_svg\n",
    "import numpy as np\n",
    "import pylab as pl\n",
    "import cv2\n",
    "from cv2 import cv"
   ]
  },
  {
   "cell_type": "markdown",
   "metadata": {},
   "source": [
    "## 型態轉換"
   ]
  },
  {
   "cell_type": "markdown",
   "metadata": {},
   "source": [
    "### 分析cv2的源程式"
   ]
  },
  {
   "cell_type": "markdown",
   "metadata": {},
   "source": [
    "> **SOURCE**\n",
    "\n",
    "> `codes\\pyopencv_src`：為了方便讀者檢視`cv2`模組的源程式碼，本書提供了自動產生的源程式碼。若讀者遇到參數型態不確定的情況，可以檢視這些檔案中對應的函數。"
   ]
  },
  {
   "cell_type": "code",
   "execution_count": null,
   "metadata": {
    "collapsed": false,
    "group_control": {
     "group": 0
    }
   },
   "outputs": [],
   "source": [
    "%%language c++\n",
    "static PyObject* pyopencv_line(PyObject* , PyObject* args, PyObject* kw)\n",
    "{\n",
    "    PyObject* pyobj_img = NULL;\n",
    "    Mat img;\n",
    "    PyObject* pyobj_pt1 = NULL;\n",
    "    Point pt1;\n",
    "    PyObject* pyobj_pt2 = NULL;\n",
    "    Point pt2;\n",
    "    PyObject* pyobj_color = NULL;\n",
    "    Scalar color;\n",
    "    int thickness=1;\n",
    "    int lineType=8;\n",
    "    int shift=0;\n",
    "\n",
    "    const char* keywords[] = { \"img\", \"pt1\", \"pt2\", \"color\", \"thickness\", \"lineType\", \"shift\", NULL };\n",
    "    if( PyArg_ParseTupleAndKeywords(args, kw, \"OOOO|iii:line\", \n",
    "                                    (char**)keywords, &pyobj_img, &pyobj_pt1, &pyobj_pt2, \n",
    "                                    &pyobj_color, &thickness, &lineType, &shift) &&\n",
    "        pyopencv_to(pyobj_img, img, ArgInfo(\"img\", 1)) &&\n",
    "        pyopencv_to(pyobj_pt1, pt1, ArgInfo(\"pt1\", 0)) &&\n",
    "        pyopencv_to(pyobj_pt2, pt2, ArgInfo(\"pt2\", 0)) &&\n",
    "        pyopencv_to(pyobj_color, color, ArgInfo(\"color\", 0)) )\n",
    "    {\n",
    "        ERRWRAP2( cv::line(img, pt1, pt2, color, thickness, lineType, shift));\n",
    "        Py_RETURN_NONE;\n",
    "    }\n",
    "\n",
    "    return NULL;\n",
    "}"
   ]
  },
  {
   "cell_type": "code",
   "execution_count": 3,
   "metadata": {
    "collapsed": false,
    "group_control": {
     "group": 0
    }
   },
   "outputs": [],
   "source": [
    "%%language c++\n",
    "static int pyopencv_to(const PyObject* o, Mat& m, const ArgInfo info, bool allowND=true);\n",
    "static inline bool pyopencv_to(PyObject* obj, Point& p, const char* name = \"<unknown>\");\n",
    "static bool pyopencv_to(PyObject *o, Scalar& s, const char *name = \"<unknown>\");"
   ]
  },
  {
   "cell_type": "code",
   "execution_count": 4,
   "metadata": {
    "collapsed": false,
    "group_control": {
     "group": 0
    }
   },
   "outputs": [],
   "source": [
    "%%language c++\n",
    "static inline bool pyopencv_to(PyObject* obj, Point& p, const char* name = \"<unknown>\")\n",
    "{\n",
    "    (void)name;\n",
    "    if(!obj || obj == Py_None)\n",
    "        return true;\n",
    "    if(!!PyComplex_CheckExact(obj))\n",
    "    {\n",
    "        Py_complex c = PyComplex_AsCComplex(obj);\n",
    "        p.x = saturate_cast<int>(c.real);\n",
    "        p.y = saturate_cast<int>(c.imag);\n",
    "        return true;\n",
    "    }\n",
    "    return PyArg_ParseTuple(obj, \"ii\", &p.x, &p.y) > 0;\n",
    "}"
   ]
  },
  {
   "cell_type": "markdown",
   "metadata": {},
   "source": [
    "> **QUESTION**\n",
    "\n",
    "> 請讀者使用同樣的方法找到與`Scalar`型態對應的`pyopencv_to()`函數，並分析它能將何種型態的物件轉換成`Scalars`物件。"
   ]
  },
  {
   "cell_type": "code",
   "execution_count": 23,
   "metadata": {
    "collapsed": false,
    "group_control": {
     "group": 0
    }
   },
   "outputs": [],
   "source": [
    "%%language c++\n",
    "static inline PyObject* pyopencv_from(const RotatedRect& src)\n",
    "{\n",
    "    return Py_BuildValue(\"((ff)(ff)f)\", src.center.x, src.center.y, \n",
    "                         src.size.width, src.size.height, src.angle);\n",
    "}"
   ]
  },
  {
   "cell_type": "code",
   "execution_count": 26,
   "metadata": {
    "collapsed": false,
    "group_control": {
     "group": 0
    }
   },
   "outputs": [],
   "source": [
    "points = np.random.rand(20, 2).astype(np.float32)\n",
    "(x, y), (w, h), angle = cv2.minAreaRect(points)"
   ]
  },
  {
   "cell_type": "markdown",
   "metadata": {},
   "source": [
    "### `Mat`物件"
   ]
  },
  {
   "cell_type": "code",
   "execution_count": 11,
   "metadata": {
    "collapsed": false,
    "group_control": {
     "group": 0
    }
   },
   "outputs": [
    {
     "name": "stdout",
     "output_type": "stream",
     "text": [
      "cvmat.height  cvmat.width  cvmat.channels  cvmat.type  cvmat.step\n",
      "------------  -----------  --------------  ----------  ----------\n",
      "200           100          3               18          600       \n"
     ]
    }
   ],
   "source": [
    "cvmat = cv.CreateMat(200, 100, cv2.CV_16UC3)\n",
    "%C cvmat.height; cvmat.width; cvmat.channels; cvmat.type; cvmat.step"
   ]
  },
  {
   "cell_type": "code",
   "execution_count": 12,
   "metadata": {
    "collapsed": false,
    "group_control": {
     "group": 0
    }
   },
   "outputs": [
    {
     "name": "stdout",
     "output_type": "stream",
     "text": [
      "cv2.CV_16U  cv2.CV_16UC3\n",
      "----------  ------------\n",
      "2           18          \n"
     ]
    }
   ],
   "source": [
    "%C cv2.CV_16U; cv2.CV_16UC3"
   ]
  },
  {
   "cell_type": "code",
   "execution_count": 22,
   "metadata": {
    "collapsed": false,
    "group_control": {
     "group": 0
    }
   },
   "outputs": [
    {
     "data": {
      "text/plain": [
       "array([[ 1.],\n",
       "       [ 0.],\n",
       "       [ 0.],\n",
       "       [ 0.]])"
      ]
     },
     "execution_count": 22,
     "metadata": {},
     "output_type": "execute_result"
    }
   ],
   "source": [
    "cv2.normalize(1)"
   ]
  },
  {
   "cell_type": "markdown",
   "metadata": {},
   "source": [
    "### 在`cv`和`cv2`之間轉換圖形物件"
   ]
  },
  {
   "cell_type": "code",
   "execution_count": 29,
   "metadata": {
    "collapsed": false,
    "group_control": {
     "group": 0
    }
   },
   "outputs": [
    {
     "name": "stdout",
     "output_type": "stream",
     "text": [
      "<iplimage(nChannels=3 width=512 height=512 widthStep=1536 )>\n",
      "<cvmat(type=42424010 8UC3 rows=512 cols=512 step=1536 )>\n"
     ]
    }
   ],
   "source": [
    "img = cv2.imread(\"lena.jpg\")\n",
    "iplimage = cv.LoadImage(\"lena.jpg\")\n",
    "cvmat = cv.LoadImageM(\"lena.jpg\")\n",
    "print iplimage\n",
    "print cvmat"
   ]
  },
  {
   "cell_type": "code",
   "execution_count": 30,
   "metadata": {
    "collapsed": false,
    "group_control": {
     "group": 0
    }
   },
   "outputs": [
    {
     "data": {
      "text/plain": [
       "True"
      ]
     },
     "execution_count": 30,
     "metadata": {},
     "output_type": "execute_result"
    }
   ],
   "source": [
    "import numpy as np\n",
    "np.all(img == np.asarray(iplimage[:]))"
   ]
  },
  {
   "cell_type": "code",
   "execution_count": 31,
   "metadata": {
    "collapsed": false,
    "group_control": {
     "group": 0
    }
   },
   "outputs": [],
   "source": [
    "iplimage2 = cv.GetImage(cv.fromarray(img[::2,::2,:].copy()))"
   ]
  }
 ],
 "metadata": {
  "kernelspec": {
   "display_name": "Python 2",
   "language": "python",
   "name": "python2"
  },
  "language_info": {
   "codemirror_mode": {
    "name": "ipython",
    "version": 2
   },
   "file_extension": ".py",
   "mimetype": "text/x-python",
   "name": "python",
   "nbconvert_exporter": "python",
   "pygments_lexer": "ipython2",
   "version": "2.7.9"
  }
 },
 "nbformat": 4,
 "nbformat_minor": 0
}
