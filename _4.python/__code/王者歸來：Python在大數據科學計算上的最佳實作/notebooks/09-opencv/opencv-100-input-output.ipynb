﻿{
 "cells": [
  {
   "cell_type": "code",
   "execution_count": 2,
   "metadata": {
    "collapsed": false,
    "group_control": {
     "group": 0
    }
   },
   "outputs": [],
   "source": [
    "%matplotlib_svg\n",
    "import numpy as np\n",
    "import pylab as pl\n",
    "import cv2\n",
    "from cv2 import cv"
   ]
  },
  {
   "cell_type": "markdown",
   "metadata": {},
   "source": [
    "# OpenCV-圖形處理和電腦視覺"
   ]
  },
  {
   "cell_type": "code",
   "execution_count": 1,
   "metadata": {
    "collapsed": false,
    "group_control": {
     "group": 0
    }
   },
   "outputs": [],
   "source": [
    "import cv2\n",
    "from cv2 import cv"
   ]
  },
  {
   "cell_type": "markdown",
   "metadata": {},
   "source": [
    "## 圖形的輸入輸出"
   ]
  },
  {
   "cell_type": "markdown",
   "metadata": {},
   "source": [
    "### 讀入並顯示圖形"
   ]
  },
  {
   "cell_type": "code",
   "execution_count": 6,
   "metadata": {
    "collapsed": false,
    "group_control": {
     "group": 0
    }
   },
   "outputs": [
    {
     "name": "stdout",
     "output_type": "stream",
     "text": [
      "<type 'numpy.ndarray'> (512, 512, 3) uint8\n"
     ]
    }
   ],
   "source": [
    "filename = \"lena.jpg\"\n",
    "img = cv2.imread( filename ) #❶\n",
    "print type(img), img.shape, img.dtype\n",
    "cv2.namedWindow(\"demo1\")     #❷\n",
    "cv2.imshow(\"demo1\", img)     #❸\n",
    "cv2.waitKey(0)  #❹;"
   ]
  },
  {
   "cell_type": "markdown",
   "metadata": {},
   "source": [
    "> **WARNING**\n",
    "\n",
    "> `imread()`函數讀入彩色圖形時，第2軸按照藍、綠、紅的順序排序。這種順序與`matplotlib`的`imshow()`函數所需的三通道的順序正好相反，因此若需要在`matplotlib`中顯示圖形，需要反轉第2軸：`img[:, :, ::-1]`。"
   ]
  },
  {
   "cell_type": "markdown",
   "metadata": {},
   "source": [
    "> **TIP**\n",
    "\n",
    "> 在IPython Notebook顯示視窗時，`waitKey(0)`會阻塞運算核，因此無法再執行其它指令。為了不阻塞執行，可以在新的執行緒中顯示視窗，並等待視窗關閉。例如透過本書提供的`%%thread`魔法指令。"
   ]
  },
  {
   "cell_type": "code",
   "execution_count": 4,
   "metadata": {
    "collapsed": false,
    "group_control": {
     "group": 0
    }
   },
   "outputs": [],
   "source": [
    "%%thread\n",
    "#%hidecell\n",
    "filename = \"lena.jpg\"\n",
    "img = cv2.imread( filename )\n",
    "cv2.namedWindow(\"demo1\")\n",
    "cv2.imshow(\"demo1\", img)\n",
    "cv2.waitKey(0)"
   ]
  },
  {
   "cell_type": "markdown",
   "metadata": {},
   "source": [
    "> **TIP**\n",
    "\n",
    "> `cv2`模組下的圖形處理函數都能直接對NumPy陣列進行動作，在這些函數內定會將NumPy陣列轉換成OpenCV中表示圖形的物件，並傳遞給實際進行運算的C/C++函數。雖然在呼叫`cv2`模組下的函數時會進行型態轉換，但是NumPy陣列與OpenCV的圖形物件能夠共享記憶體，因此並不會太浪費記憶體和CPU運算時間。"
   ]
  },
  {
   "cell_type": "code",
   "execution_count": 10,
   "metadata": {
    "collapsed": false,
    "group_control": {
     "group": 0
    }
   },
   "outputs": [
    {
     "name": "stdout",
     "output_type": "stream",
     "text": [
      "(512, 512)\n"
     ]
    }
   ],
   "source": [
    "img_gray = cv2.cvtColor(img, cv2.COLOR_BGR2GRAY)\n",
    "print img_gray.shape"
   ]
  },
  {
   "cell_type": "markdown",
   "metadata": {},
   "source": [
    "### 圖形型態"
   ]
  },
  {
   "cell_type": "code",
   "execution_count": 4,
   "metadata": {
    "collapsed": false,
    "group_control": {
     "group": 0
    }
   },
   "outputs": [],
   "source": [
    "#%hide\n",
    "from matplotlib import cm\n",
    "from itertools import product\n",
    "\n",
    "def func(x, y):\n",
    "    return (x+y)*np.exp(-5.0*(x**2 + y**2))\n",
    "\n",
    "y, x = np.mgrid[-1:1:100j, -1:1:100j]\n",
    "z = func(x, y)\n",
    "zabs = np.abs(z)\n",
    "alpha = cm.ScalarMappable(cmap=\"gray\").to_rgba(zabs)[:, :, 0].copy()\n",
    "z1 = cm.ScalarMappable(cmap=\"gray\").to_rgba(z)[:, :, 0].copy()\n",
    "z4 = cm.ScalarMappable(cmap=\"jet\").to_rgba(z)\n",
    "z3 = z4[:, :, 2::-1].copy()\n",
    "z4[:, :, -1] = alpha\n",
    "z4[:, :, :3] = z3\n",
    "\n",
    "for dtype, img in product([\"uint8\", \"uint16\"], [z1, z3, z4]):\n",
    "    nchannel = 1 if img.ndim == 2 else img.shape[2]\n",
    "    img = (img * np.iinfo(dtype).max).astype(dtype)\n",
    "    fn = \"{}_{}.png\".format(dtype, nchannel)\n",
    "    cv2.imwrite(fn, img)"
   ]
  },
  {
   "cell_type": "code",
   "execution_count": 5,
   "metadata": {
    "collapsed": false,
    "group_control": {
     "group": 0
    }
   },
   "outputs": [
    {
     "data": {
      "text/markdown": [
       "|                  | **ANYCOLOR**   | **ANYDEPTH**   | **COLOR**   | **GRAYSCALE**   | **UNCHANGED**   |\n",
       "|:-----------------|:---------------|:---------------|:------------|:----------------|:----------------|\n",
       "| **uint16_1.png** | uint8, 1ch     | uint16, 1ch    | uint8, 3ch  | uint8, 1ch      | uint16, 1ch     |\n",
       "| **uint16_3.png** | uint8, 3ch     | uint16, 1ch    | uint8, 3ch  | uint8, 1ch      | uint16, 3ch     |\n",
       "| **uint16_4.png** | uint8, 3ch     | uint16, 1ch    | uint8, 3ch  | uint8, 1ch      | uint16, 4ch     |\n",
       "| **uint8_1.png**  | uint8, 1ch     | uint8, 1ch     | uint8, 3ch  | uint8, 1ch      | uint8, 1ch      |\n",
       "| **uint8_3.png**  | uint8, 3ch     | uint8, 1ch     | uint8, 3ch  | uint8, 1ch      | uint8, 3ch      |\n",
       "| **uint8_4.png**  | uint8, 3ch     | uint8, 1ch     | uint8, 3ch  | uint8, 1ch      | uint8, 4ch      |"
      ]
     },
     "metadata": {},
     "output_type": "display_data"
    }
   ],
   "source": [
    "#%hide\n",
    "from glob import glob\n",
    "from IPython import display\n",
    "from scpy2.utils import tabulate_it\n",
    "\n",
    "files = glob(\"uint*.png\")\n",
    "flags = [\"ANYCOLOR\",\n",
    "\"ANYDEPTH\",\n",
    "\"COLOR\",\n",
    "\"GRAYSCALE\",\n",
    "\"UNCHANGED\"]\n",
    "\n",
    "def f(fn, flag):\n",
    "    _flag = getattr(cv2, \"IMREAD_\" + flag)\n",
    "    img = cv2.imread(fn, _flag)\n",
    "    nchannel = 1 if img.ndim == 2 else img.shape[2]\n",
    "    return \"{}, {}ch\".format(img.dtype, nchannel)\n",
    "\n",
    "table = tabulate_it(files, flags, f)\n",
    "display.display_markdown(display.Markdown(table))"
   ]
  },
  {
   "cell_type": "markdown",
   "metadata": {},
   "source": [
    "### 圖形輸出"
   ]
  },
  {
   "cell_type": "code",
   "execution_count": 14,
   "metadata": {
    "collapsed": false,
    "group_control": {
     "group": 0
    }
   },
   "outputs": [],
   "source": [
    "img = cv2.imread(\"lena.jpg\")\n",
    "for quality in [90, 60, 30]:\n",
    "    cv2.imwrite(\"lena_q{:02d}.jpg\".format(quality), img, \n",
    "                [cv2.IMWRITE_JPEG_QUALITY, quality])"
   ]
  },
  {
   "cell_type": "code",
   "execution_count": null,
   "metadata": {
    "collapsed": false,
    "group_control": {
     "group": 0
    }
   },
   "outputs": [],
   "source": [
    "from matplotlib.cm import ScalarMappable\n",
    "from IPython.display import Image\n",
    "\n",
    "def func(x, y, a):\n",
    "    return (x*x - y*y) * np.sin((x + y) / a) / (x*x + y*y)\n",
    "\n",
    "def make_image(x, y, a, dtype=\"uint8\"):\n",
    "    z = func(x, y, a) #❶\n",
    "    img_rgba = ScalarMappable(cmap=\"jet\").to_rgba(z)\n",
    "    img = (img_rgba[:, :, 2::-1] * np.iinfo(dtype).max).astype(dtype) #❷\n",
    "    return img"
   ]
  },
  {
   "cell_type": "code",
   "execution_count": 24,
   "metadata": {
    "collapsed": false,
    "group_control": {
     "group": 0
    }
   },
   "outputs": [],
   "source": [
    "y, x = np.ogrid[-10:10:250j, -10:10:500j]\n",
    "img_8bit = make_image(x, y, 0.5, dtype=\"uint8\")\n",
    "img_16bit = make_image(x, y, 0.5, dtype=\"uint16\")\n",
    "cv2.imwrite(\"img_8bit.jpg\", img_8bit)\n",
    "cv2.imwrite(\"img_16bit.jpg\", img_16bit)\n",
    "cv2.imwrite(\"img_8bit.png\", img_8bit)\n",
    "cv2.imwrite(\"img_16bit.png\", img_16bit);"
   ]
  },
  {
   "cell_type": "markdown",
   "metadata": {},
   "source": [
    "### 位元組序列與圖形相互轉換"
   ]
  },
  {
   "cell_type": "code",
   "execution_count": 25,
   "metadata": {
    "collapsed": false,
    "group_control": {
     "group": 0
    }
   },
   "outputs": [],
   "source": [
    "with open(\"img_8bit.png\", \"rb\") as f:\n",
    "    png_str = f.read()\n",
    "    \n",
    "png_data = np.frombuffer(png_str, np.uint8) #❶\n",
    "img = cv2.imdecode(png_data, cv2.IMREAD_UNCHANGED) #❷\n",
    "res, jpg_data = cv2.imencode(\".jpg\", img) #❸\n",
    "jpg_str = jpg_data.tobytes() #❹"
   ]
  },
  {
   "cell_type": "code",
   "execution_count": 26,
   "metadata": {
    "collapsed": false,
    "group_control": {
     "group": 0
    }
   },
   "outputs": [
    {
     "data": {
      "image/jpeg": "[encoded data removed]",
      "text/plain": [
       "<IPython.core.display.Image at 0x97124b0>"
      ]
     },
     "execution_count": 26,
     "metadata": {},
     "output_type": "execute_result"
    }
   ],
   "source": [
    "#%fig=使用`Image`將`imencode()`解碼的結果直接內嵌到Notebook中\n",
    "res, jpg_data = cv2.imencode(\".jpg\", img_8bit) \n",
    "Image(data=jpg_data.tobytes())"
   ]
  },
  {
   "cell_type": "markdown",
   "metadata": {},
   "source": [
    "### 視訊輸出"
   ]
  },
  {
   "cell_type": "code",
   "execution_count": 13,
   "metadata": {
    "collapsed": false,
    "group_control": {
     "group": 0
    }
   },
   "outputs": [],
   "source": [
    "def test_avi_output(fn, fourcc):\n",
    "    fourcc = cv.FOURCC(*fourcc) #❶\n",
    "    vw = cv2.VideoWriter(fn, fourcc, 15, (500, 250), True) #❷\n",
    "    if not vw.isOpened():\n",
    "        return \n",
    "    for a in np.linspace(0.1, 2, 100):\n",
    "        img = make_image(x, y, a)\n",
    "        vw.write(img)  #❸\n",
    "    vw.release()  #❹\n",
    "    \n",
    "test_avi_output(\"fmp4.avi\", \"fmp4\")"
   ]
  },
  {
   "cell_type": "markdown",
   "metadata": {},
   "source": [
    "> **SOURCE**\n",
    "\n",
    "> `scpy2.opencv.fourcc`：檢視勾選的視訊解碼器對應的`FOURCC`程式碼。"
   ]
  },
  {
   "cell_type": "code",
   "execution_count": 8,
   "metadata": {
    "collapsed": false,
    "group_control": {
     "group": 0
    }
   },
   "outputs": [],
   "source": [
    "#%hide\n",
    "%exec_python -m scpy2.opencv.fourcc"
   ]
  },
  {
   "cell_type": "markdown",
   "metadata": {},
   "source": [
    "> **LINK**\n",
    "\n",
    "> http://sourceforge.net/projects/x264vfw/\n",
    "\n",
    "> x264vfw解碼器的下載位址"
   ]
  },
  {
   "cell_type": "code",
   "execution_count": 43,
   "metadata": {
    "collapsed": false,
    "group_control": {
     "group": 0
    }
   },
   "outputs": [
    {
     "name": "stdout",
     "output_type": "stream",
     "text": [
      "quantizer = 01, size = 5686272 bytes\n",
      "quantizer = 10, size = 2406912 bytes\n",
      "quantizer = 20, size = 0932864 bytes\n",
      "quantizer = 30, size = 0396288 bytes\n",
      "quantizer = 40, size = 0189952 bytes\n"
     ]
    }
   ],
   "source": [
    "from scpy2.opencv.x264_settings import set_quantizer\n",
    "from os import path\n",
    "\n",
    "for quantizer in [1, 10, 20, 30, 40]:\n",
    "    set_quantizer(quantizer)\n",
    "    fn = \"x264_q{:02d}.avi\".format(quantizer)\n",
    "    test_avi_output(fn, \"x264\")\n",
    "    fsize = path.getsize(fn)\n",
    "    print \"quantizer = {:02d}, size = {:07d} bytes\".format(quantizer, fsize)"
   ]
  },
  {
   "cell_type": "markdown",
   "metadata": {},
   "source": [
    "### 視訊輸入"
   ]
  },
  {
   "cell_type": "code",
   "execution_count": 28,
   "metadata": {
    "collapsed": false,
    "group_control": {
     "group": 0
    }
   },
   "outputs": [
    {
     "name": "stdout",
     "output_type": "stream",
     "text": [
      "FPS: 15.0\n",
      "FRAMES: 100.0\n",
      "WIDTH: 500.0\n",
      "HEIGHT: 250.0\n",
      "CURRENT FRAME: 0.0\n",
      "CURRENT FRAME: 1.0\n",
      "CURRENT FRAME: 50.0\n",
      "CURRENT FRAME: 51.0\n"
     ]
    }
   ],
   "source": [
    "video = cv2.VideoCapture(\"x264_q10.avi\")\n",
    "print \"FPS:\", video.get(cv.CV_CAP_PROP_FPS) #❶\n",
    "print \"FRAMES:\", video.get(cv.CV_CAP_PROP_FRAME_COUNT)\n",
    "print \"WIDTH:\", video.get(cv.CV_CAP_PROP_FRAME_WIDTH)\n",
    "print \"HEIGHT:\", video.get(cv.CV_CAP_PROP_FRAME_HEIGHT)\n",
    "print \"CURRENT FRAME:\", video.get(cv.CV_CAP_PROP_POS_FRAMES)\n",
    "res, frame0 = video.read() #❷\n",
    "print \"CURRENT FRAME:\", video.get(cv.CV_CAP_PROP_POS_FRAMES)\n",
    "video.set(cv.CV_CAP_PROP_POS_FRAMES, 50) #❸\n",
    "print \"CURRENT FRAME:\", video.get(cv.CV_CAP_PROP_POS_FRAMES)\n",
    "res, frame50 = video.read()\n",
    "print \"CURRENT FRAME:\", video.get(cv.CV_CAP_PROP_POS_FRAMES)\n",
    "video.release()"
   ]
  },
  {
   "cell_type": "code",
   "execution_count": 8,
   "metadata": {
    "collapsed": false,
    "group_control": {
     "group": 0
    }
   },
   "outputs": [
    {
     "name": "stdout",
     "output_type": "stream",
     "text": [
      " True (480, 640, 3)\n"
     ]
    }
   ],
   "source": [
    "camera = cv2.VideoCapture(0)\n",
    "res, frame = camera.read()\n",
    "camera.release()\n",
    "print res, frame.shape"
   ]
  }
 ],
 "metadata": {
  "kernelspec": {
   "display_name": "Python 2",
   "language": "python",
   "name": "python2"
  },
  "language_info": {
   "codemirror_mode": {
    "name": "ipython",
    "version": 2
   },
   "file_extension": ".py",
   "mimetype": "text/x-python",
   "name": "python",
   "nbconvert_exporter": "python",
   "pygments_lexer": "ipython2",
   "version": "2.7.9"
  }
 },
 "nbformat": 4,
 "nbformat_minor": 0
}
