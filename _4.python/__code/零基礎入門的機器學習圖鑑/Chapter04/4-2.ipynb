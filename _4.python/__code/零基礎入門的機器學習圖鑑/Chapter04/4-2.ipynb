{
 "cells": [
  {
   "cell_type": "markdown",
   "metadata": {},
   "source": [
    "# 機械学習モデルへの適用"
   ]
  },
  {
   "cell_type": "code",
   "execution_count": 1,
   "metadata": {},
   "outputs": [],
   "source": [
    "import numpy as np\n",
    "from sklearn.feature_extraction.text import CountVectorizer, TfidfVectorizer\n",
    "from sklearn.svm import LinearSVC\n",
    "from sklearn.datasets import fetch_20newsgroups\n",
    "\n",
    "categories = ['alt.atheism', 'soc.religion.christian', 'comp.graphics', 'sci.med']\n",
    "remove = ('headers', 'footers', 'quotes')\n",
    "twenty_train = fetch_20newsgroups(subset='train', \n",
    "                                  remove=remove, \n",
    "                                  categories=categories) # 学習データ\n",
    "twenty_test = fetch_20newsgroups(subset='test',\n",
    "                                 remove=remove, \n",
    "                                 categories=categories) # 検証データ"
   ]
  },
  {
   "cell_type": "code",
   "execution_count": 2,
   "metadata": {},
   "outputs": [
    {
     "data": {
      "text/plain": [
       "0.7423435419440746"
      ]
     },
     "execution_count": 2,
     "metadata": {},
     "output_type": "execute_result"
    }
   ],
   "source": [
    "count_vect = CountVectorizer() # 単語カウント\n",
    "X_train_counts = count_vect.fit_transform(twenty_train.data)\n",
    "X_test_count = count_vect.transform(twenty_test.data)\n",
    "\n",
    "model = LinearSVC() \n",
    "model.fit(X_train_counts, twenty_train.target)\n",
    "predicted = model.predict(X_test_count)\n",
    "np.mean(predicted == twenty_test.target)"
   ]
  },
  {
   "cell_type": "code",
   "execution_count": 3,
   "metadata": {},
   "outputs": [
    {
     "data": {
      "text/plain": [
       "0.8149134487350199"
      ]
     },
     "execution_count": 3,
     "metadata": {},
     "output_type": "execute_result"
    }
   ],
   "source": [
    "tf_vec = TfidfVectorizer()  # tf-idf\n",
    "X_train_tfidf = tf_vec.fit_transform(twenty_train.data)\n",
    "X_test_tfidf = tf_vec.transform(twenty_test.data)\n",
    "\n",
    "model = LinearSVC()\n",
    "model.fit(X_train_tfidf, twenty_train.target)\n",
    "predicted = model.predict(X_test_tfidf)\n",
    "np.mean(predicted == twenty_test.target)"
   ]
  },
  {
   "cell_type": "code",
   "execution_count": null,
   "metadata": {},
   "outputs": [],
   "source": []
  }
 ],
 "metadata": {
  "kernelspec": {
   "display_name": "Python 3",
   "language": "python",
   "name": "python3"
  },
  "language_info": {
   "codemirror_mode": {
    "name": "ipython",
    "version": 3
   },
   "file_extension": ".py",
   "mimetype": "text/x-python",
   "name": "python",
   "nbconvert_exporter": "python",
   "pygments_lexer": "ipython3",
   "version": "3.6.6"
  }
 },
 "nbformat": 4,
 "nbformat_minor": 2
}
