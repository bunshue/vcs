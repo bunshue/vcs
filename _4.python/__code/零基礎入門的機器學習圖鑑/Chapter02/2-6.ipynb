{
 "cells": [
  {
   "cell_type": "markdown",
   "metadata": {},
   "source": [
    "# サンプルコード"
   ]
  },
  {
   "cell_type": "code",
   "execution_count": 1,
   "metadata": {},
   "outputs": [
    {
     "data": {
      "text/plain": [
       "array([1])"
      ]
     },
     "execution_count": 1,
     "metadata": {},
     "output_type": "execute_result"
    }
   ],
   "source": [
    "from sklearn.naive_bayes import MultinomialNB\n",
    "\n",
    "# データ生成\n",
    "X_train = [[1, 1, 0, 0, 0, 0, 0, 0, 0, 0, 0],\n",
    "[0, 1, 1, 1, 0, 0, 0, 0, 0, 0, 0],\n",
    "[1, 0, 0, 0, 1, 1, 0, 0, 0, 0, 0],\n",
    "[0, 0, 0, 0, 0, 0, 1, 1, 0, 0, 0],\n",
    "[0, 0, 0, 0, 0, 0, 0, 1, 1, 1, 0],\n",
    "[0, 0, 0, 0, 0, 1, 0, 1, 1, 0, 1]]\n",
    "y_train = [1, 1, 1, 0, 0, 0]\n",
    "model = MultinomialNB()\n",
    "model.fit(X_train, y_train) # 学習\n",
    "model.predict([[0, 1, 0, 1, 0, 1, 0, 0, 0, 0, 0]]) # 評価"
   ]
  },
  {
   "cell_type": "code",
   "execution_count": null,
   "metadata": {},
   "outputs": [],
   "source": []
  }
 ],
 "metadata": {
  "kernelspec": {
   "display_name": "Python 3",
   "language": "python",
   "name": "python3"
  },
  "language_info": {
   "codemirror_mode": {
    "name": "ipython",
    "version": 3
   },
   "file_extension": ".py",
   "mimetype": "text/x-python",
   "name": "python",
   "nbconvert_exporter": "python",
   "pygments_lexer": "ipython3",
   "version": "3.7.2"
  }
 },
 "nbformat": 4,
 "nbformat_minor": 2
}
