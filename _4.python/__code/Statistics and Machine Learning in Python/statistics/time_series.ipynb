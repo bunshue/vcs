{
 "cells": [
  {
   "cell_type": "markdown",
   "metadata": {},
   "source": [
    "# Time series in python\n",
    "\n",
    "Two libraries:\n",
    "\n",
    "- Pandas: https://pandas.pydata.org/pandas-docs/stable/timeseries.html\n",
    "- scipy http://www.statsmodels.org/devel/tsa.html\n",
    "\n",
    "## Stationarity\n",
    "\n",
    "A TS is said to be stationary if its statistical properties such as mean, variance remain constant over time.\n",
    "\n",
    "- constant mean\n",
    "- constant variance\n",
    "- an autocovariance that does not depend on time.\n",
    "\n",
    "what is making a TS non-stationary. There are 2 major reasons behind non-stationaruty of a TS:\n",
    "\n",
    "1. Trend – varying mean over time. For eg, in this case we saw that on average, the number of passengers was growing over time.\n",
    "\n",
    "2. Seasonality – variations at specific time-frames. eg people might have a tendency to buy cars in a particular month because of pay increment or festivals.\n",
    "\n",
    "## Pandas time series data structure\n",
    "\n",
    "A Series is similar to a list or an array in Python.\n",
    "It represents a series of values (numeric or otherwise) such as a column of data.\n",
    "It provides additional functionality, methods, and operators, which make it a more powerful version of a list."
   ]
  },
  {
   "cell_type": "code",
   "execution_count": null,
   "metadata": {},
   "outputs": [],
   "source": [
    "%matplotlib inline\n",
    "\n",
    "import numpy as np\n",
    "import pandas as pd\n",
    "import matplotlib.pyplot as plt\n",
    "import seaborn as sns"
   ]
  },
  {
   "cell_type": "code",
   "execution_count": null,
   "metadata": {
    "execution": {
     "iopub.execute_input": "2020-10-11T22:54:30.548232Z",
     "iopub.status.busy": "2020-10-11T22:54:30.546495Z",
     "iopub.status.idle": "2020-10-11T22:54:30.747034Z",
     "shell.execute_reply": "2020-10-11T22:54:30.746658Z"
    }
   },
   "outputs": [],
   "source": [
    "# Create a Series from a list\n",
    "ser = pd.Series([1, 3])\n",
    "print(ser)\n",
    "\n",
    "# String as index\n",
    "prices = {'apple': 4.99,\n",
    "         'banana': 1.99,\n",
    "         'orange': 3.99}\n",
    "ser = pd.Series(prices)\n",
    "print(ser)\n",
    "\n",
    "x = pd.Series(np.arange(1,3), index=[x for x in 'ab'])\n",
    "print(x)\n",
    "print(x['b'])"
   ]
  },
  {
   "cell_type": "markdown",
   "metadata": {},
   "source": [
    "## Time series analysis of Google trends\n",
    "\n",
    "source: https://www.datacamp.com/community/tutorials/time-series-analysis-tutorial\n",
    "\n",
    "Get Google Trends data of keywords such as 'diet' and 'gym' and see how they vary over time while learning about trends and seasonality in time series data.\n",
    "\n",
    "In the Facebook Live code along session on the 4th of January, we checked out Google trends data of keywords 'diet', 'gym' and 'finance' to see how they vary over time. We asked ourselves if there could be more searches for these terms in January when we're all trying to turn over a new leaf?\n",
    "\n",
    "In this tutorial, you'll go through the code that we put together during the session step by step. You're not going to do much mathematics but you are going to do the following:\n",
    "\n",
    "- Read data\n",
    "- Recode data\n",
    "- Exploratory Data Analysis\n",
    "\n",
    "## Read data"
   ]
  },
  {
   "cell_type": "code",
   "execution_count": null,
   "metadata": {
    "execution": {
     "iopub.execute_input": "2020-10-11T22:54:30.751722Z",
     "iopub.status.busy": "2020-10-11T22:54:30.751380Z",
     "iopub.status.idle": "2020-10-11T22:54:31.581302Z",
     "shell.execute_reply": "2020-10-11T22:54:31.580627Z"
    }
   },
   "outputs": [],
   "source": [
    "try:\n",
    "    url = \"https://raw.githubusercontent.com/datacamp/datacamp_facebook_live_ny_resolution/master/datasets/multiTimeline.csv\"\n",
    "    df = pd.read_csv(url, skiprows=2)\n",
    "except:\n",
    "    df = pd.read_csv(\"../datasets/multiTimeline.csv\", skiprows=2)\n",
    "\n",
    "print(df.head())\n",
    "\n",
    "# Rename columns\n",
    "df.columns = ['month', 'diet', 'gym', 'finance']\n",
    "\n",
    "# Describe\n",
    "print(df.describe())"
   ]
  },
  {
   "cell_type": "markdown",
   "metadata": {},
   "source": [
    "## Recode data\n",
    "\n",
    "Next, you'll turn the 'month' column into a DateTime data type and make it the index of the DataFrame.\n",
    "\n",
    "Note that you do this because you saw in the result of the .info() method that the 'Month' column was actually an of data type object. Now, that generic data type encapsulates everything from strings to integers, etc. That's not exactly what you want when you want to be looking at time series data. That's why you'll use .to_datetime() to convert the 'month' column in your DataFrame to a DateTime.\n",
    "\n",
    "Be careful! Make sure to include the inplace argument when you're setting the index of the DataFrame df so that you actually alter the original index and set it to the 'month' column."
   ]
  },
  {
   "cell_type": "code",
   "execution_count": null,
   "metadata": {
    "execution": {
     "iopub.execute_input": "2020-10-11T22:54:31.589044Z",
     "iopub.status.busy": "2020-10-11T22:54:31.588587Z",
     "iopub.status.idle": "2020-10-11T22:54:31.591281Z",
     "shell.execute_reply": "2020-10-11T22:54:31.590810Z"
    }
   },
   "outputs": [],
   "source": [
    "df.month = pd.to_datetime(df.month)\n",
    "df.set_index('month', inplace=True)\n",
    "\n",
    "print(df.head())"
   ]
  },
  {
   "cell_type": "markdown",
   "metadata": {},
   "source": [
    "## Exploratory data analysis\n",
    "\n",
    "You can use a built-in pandas visualization method .plot() to plot your\n",
    "data as 3 line plots on a single\n",
    "figure (one for each column, namely, 'diet', 'gym', and 'finance')."
   ]
  },
  {
   "cell_type": "code",
   "execution_count": null,
   "metadata": {
    "execution": {
     "iopub.execute_input": "2020-10-11T22:54:31.595761Z",
     "iopub.status.busy": "2020-10-11T22:54:31.595158Z",
     "iopub.status.idle": "2020-10-11T22:54:31.770569Z",
     "shell.execute_reply": "2020-10-11T22:54:31.770879Z"
    }
   },
   "outputs": [],
   "source": [
    "df.plot()\n",
    "plt.xlabel('Year');\n",
    "\n",
    "# change figure parameters\n",
    "# df.plot(figsize=(20,10), linewidth=5, fontsize=20)\n",
    "\n",
    "# Plot single column\n",
    "# df[['diet']].plot(figsize=(20,10), linewidth=5, fontsize=20)\n",
    "# plt.xlabel('Year', fontsize=20);"
   ]
  },
  {
   "cell_type": "markdown",
   "metadata": {},
   "source": [
    "Note that this data is relative. As you can read on Google trends:\n",
    "\n",
    "Numbers represent search interest relative to the highest point on the chart\n",
    "for the given region and time.\n",
    "A value of 100 is the peak popularity for the term.\n",
    "A value of 50 means that the term is half as popular.\n",
    "Likewise a score of 0 means the term was less than 1% as popular as the peak.\n",
    "\n",
    "## Resampling, smoothing, windowing, rolling average: trends\n",
    "\n",
    "Rolling average, for each time point, take the average of the points on either side of it.\n",
    "Note that the number of points is specified by a window size.\n",
    "\n",
    "Remove Seasonality with pandas Series.\n",
    "\n",
    "See: http://pandas.pydata.org/pandas-docs/stable/timeseries.html\n",
    "A: 'year end frequency' year frequency"
   ]
  },
  {
   "cell_type": "code",
   "execution_count": null,
   "metadata": {
    "execution": {
     "iopub.execute_input": "2020-10-11T22:54:31.789823Z",
     "iopub.status.busy": "2020-10-11T22:54:31.789295Z",
     "iopub.status.idle": "2020-10-11T22:54:31.928058Z",
     "shell.execute_reply": "2020-10-11T22:54:31.927689Z"
    }
   },
   "outputs": [],
   "source": [
    "diet = df['diet']\n",
    "\n",
    "diet_resamp_yr = diet.resample('A').mean()\n",
    "diet_roll_yr = diet.rolling(12).mean()\n",
    "\n",
    "ax = diet.plot(alpha=0.5, style='-') # store axis (ax) for latter plots\n",
    "diet_resamp_yr.plot(style=':', label='Resample at year frequency', ax=ax)\n",
    "diet_roll_yr.plot(style='--', label='Rolling average (smooth), window size=12', ax=ax)\n",
    "ax.legend()"
   ]
  },
  {
   "cell_type": "markdown",
   "metadata": {},
   "source": [
    "Rolling average (smoothing) with Numpy"
   ]
  },
  {
   "cell_type": "code",
   "execution_count": null,
   "metadata": {
    "execution": {
     "iopub.execute_input": "2020-10-11T22:54:31.942206Z",
     "iopub.status.busy": "2020-10-11T22:54:31.941839Z",
     "iopub.status.idle": "2020-10-11T22:54:32.035139Z",
     "shell.execute_reply": "2020-10-11T22:54:32.034782Z"
    }
   },
   "outputs": [],
   "source": [
    "x = np.asarray(df[['diet']])\n",
    "win = 12\n",
    "win_half = int(win / 2)\n",
    "# print([((idx-win_half), (idx+win_half)) for idx in np.arange(win_half, len(x))])\n",
    "\n",
    "diet_smooth = np.array([x[(idx-win_half):(idx+win_half)].mean() for idx in np.arange(win_half, len(x))])\n",
    "plt.plot(diet_smooth)"
   ]
  },
  {
   "cell_type": "markdown",
   "metadata": {},
   "source": [
    "Trends Plot Diet and Gym\n",
    "\n",
    "Build a new DataFrame which is the concatenation diet and gym smoothed data"
   ]
  },
  {
   "cell_type": "code",
   "execution_count": null,
   "metadata": {
    "execution": {
     "iopub.execute_input": "2020-10-11T22:54:32.050686Z",
     "iopub.status.busy": "2020-10-11T22:54:32.050014Z",
     "iopub.status.idle": "2020-10-11T22:54:32.182726Z",
     "shell.execute_reply": "2020-10-11T22:54:32.182418Z"
    }
   },
   "outputs": [],
   "source": [
    "gym = df['gym']\n",
    "\n",
    "df_avg = pd.concat([diet.rolling(12).mean(), gym.rolling(12).mean()], axis=1)\n",
    "df_avg.plot()\n",
    "plt.xlabel('Year')"
   ]
  },
  {
   "cell_type": "markdown",
   "metadata": {},
   "source": [
    "Detrending"
   ]
  },
  {
   "cell_type": "code",
   "execution_count": null,
   "metadata": {
    "execution": {
     "iopub.execute_input": "2020-10-11T22:54:32.186189Z",
     "iopub.status.busy": "2020-10-11T22:54:32.185864Z",
     "iopub.status.idle": "2020-10-11T22:54:32.310269Z",
     "shell.execute_reply": "2020-10-11T22:54:32.310530Z"
    }
   },
   "outputs": [],
   "source": [
    "df_dtrend = df[[\"diet\", \"gym\"]] - df_avg\n",
    "df_dtrend.plot()\n",
    "plt.xlabel('Year')"
   ]
  },
  {
   "cell_type": "markdown",
   "metadata": {},
   "source": [
    "## First-order differencing: seasonal patterns"
   ]
  },
  {
   "cell_type": "code",
   "execution_count": null,
   "metadata": {
    "execution": {
     "iopub.execute_input": "2020-10-11T22:54:32.315450Z",
     "iopub.status.busy": "2020-10-11T22:54:32.315070Z",
     "iopub.status.idle": "2020-10-11T22:54:32.472362Z",
     "shell.execute_reply": "2020-10-11T22:54:32.472074Z"
    }
   },
   "outputs": [],
   "source": [
    "# diff = original - shiftted data\n",
    "# (exclude first term for some implementation details)\n",
    "assert np.all((diet.diff() == diet - diet.shift())[1:])\n",
    "\n",
    "df.diff().plot()\n",
    "plt.xlabel('Year')"
   ]
  },
  {
   "cell_type": "markdown",
   "metadata": {},
   "source": [
    "## Periodicity and correlation"
   ]
  },
  {
   "cell_type": "code",
   "execution_count": null,
   "metadata": {
    "execution": {
     "iopub.execute_input": "2020-10-11T22:54:32.475807Z",
     "iopub.status.busy": "2020-10-11T22:54:32.475474Z",
     "iopub.status.idle": "2020-10-11T22:54:32.617480Z",
     "shell.execute_reply": "2020-10-11T22:54:32.617146Z"
    }
   },
   "outputs": [],
   "source": [
    "df.plot()\n",
    "plt.xlabel('Year');\n",
    "print(df.corr())"
   ]
  },
  {
   "cell_type": "markdown",
   "metadata": {},
   "source": [
    "Plot correlation matrix"
   ]
  },
  {
   "cell_type": "code",
   "execution_count": null,
   "metadata": {
    "execution": {
     "iopub.execute_input": "2020-10-11T22:54:32.629819Z",
     "iopub.status.busy": "2020-10-11T22:54:32.629454Z",
     "iopub.status.idle": "2020-10-11T22:54:32.734141Z",
     "shell.execute_reply": "2020-10-11T22:54:32.733779Z"
    }
   },
   "outputs": [],
   "source": [
    "print(df.corr())"
   ]
  },
  {
   "cell_type": "markdown",
   "metadata": {},
   "source": [
    "'diet' and 'gym' are negatively correlated!\n",
    "Remember that you have a seasonal and a trend component.\n",
    "From the correlation coefficient, 'diet' and 'gym' are negatively correlated:\n",
    "\n",
    "- trends components are negatively correlated.\n",
    "- seasonal components would positively correlated and their\n",
    "\n",
    "The actual correlation coefficient is actually capturing both of those.\n",
    "\n",
    "Seasonal correlation: correlation of the first-order differences of these time series"
   ]
  },
  {
   "cell_type": "code",
   "execution_count": null,
   "metadata": {
    "execution": {
     "iopub.execute_input": "2020-10-11T22:54:32.747657Z",
     "iopub.status.busy": "2020-10-11T22:54:32.746992Z",
     "iopub.status.idle": "2020-10-11T22:54:32.871390Z",
     "shell.execute_reply": "2020-10-11T22:54:32.871066Z"
    }
   },
   "outputs": [],
   "source": [
    "df.diff().plot()\n",
    "plt.xlabel('Year');\n",
    "\n",
    "print(df.diff().corr())"
   ]
  },
  {
   "cell_type": "markdown",
   "metadata": {},
   "source": [
    "Plot correlation matrix"
   ]
  },
  {
   "cell_type": "code",
   "execution_count": null,
   "metadata": {
    "execution": {
     "iopub.execute_input": "2020-10-11T22:54:32.883942Z",
     "iopub.status.busy": "2020-10-11T22:54:32.883586Z",
     "iopub.status.idle": "2020-10-11T22:54:32.988231Z",
     "shell.execute_reply": "2020-10-11T22:54:32.987898Z"
    }
   },
   "outputs": [],
   "source": [
    "print(df.diff().corr())"
   ]
  },
  {
   "cell_type": "markdown",
   "metadata": {},
   "source": [
    "Decomposing time serie in trend, seasonality and residuals"
   ]
  },
  {
   "cell_type": "code",
   "execution_count": null,
   "metadata": {
    "execution": {
     "iopub.execute_input": "2020-10-11T22:54:32.992192Z",
     "iopub.status.busy": "2020-10-11T22:54:32.991770Z",
     "iopub.status.idle": "2020-10-11T22:54:33.411002Z",
     "shell.execute_reply": "2020-10-11T22:54:33.410641Z"
    }
   },
   "outputs": [],
   "source": [
    "from statsmodels.tsa.seasonal import seasonal_decompose\n",
    "\n",
    "x = gym\n",
    "\n",
    "x = x.astype(float) # force float\n",
    "decomposition = seasonal_decompose(x)\n",
    "trend = decomposition.trend\n",
    "seasonal = decomposition.seasonal\n",
    "residual = decomposition.resid\n",
    "\n",
    "plt.subplot(411)\n",
    "plt.plot(x, label='Original')\n",
    "plt.legend(loc='best')\n",
    "plt.subplot(412)\n",
    "plt.plot(trend, label='Trend')\n",
    "plt.legend(loc='best')\n",
    "plt.subplot(413)\n",
    "plt.plot(seasonal,label='Seasonality')\n",
    "plt.legend(loc='best')\n",
    "plt.subplot(414)\n",
    "plt.plot(residual, label='Residuals')\n",
    "plt.legend(loc='best')\n",
    "plt.tight_layout()"
   ]
  },
  {
   "cell_type": "markdown",
   "metadata": {},
   "source": [
    "## Autocorrelation\n",
    "\n",
    "A time series is periodic if it repeats itself at equally spaced intervals, say, every 12 months.\n",
    "Autocorrelation Function (ACF): It is a measure of the correlation between the TS with a\n",
    "lagged version of itself. For instance at lag 5, ACF would compare series at time instant t1...t2\n",
    "with series at instant t1-5...t2-5 (t1-5 and t2 being end points).\n",
    "\n",
    "Plot"
   ]
  },
  {
   "cell_type": "code",
   "execution_count": null,
   "metadata": {
    "execution": {
     "iopub.execute_input": "2020-10-11T22:54:33.423884Z",
     "iopub.status.busy": "2020-10-11T22:54:33.422998Z",
     "iopub.status.idle": "2020-10-11T22:54:33.528721Z",
     "shell.execute_reply": "2020-10-11T22:54:33.528367Z"
    }
   },
   "outputs": [],
   "source": [
    "# from pandas.plotting import autocorrelation_plot\n",
    "from pandas.plotting import autocorrelation_plot\n",
    "\n",
    "x = df[\"diet\"].astype(float)\n",
    "autocorrelation_plot(x)"
   ]
  },
  {
   "cell_type": "markdown",
   "metadata": {},
   "source": [
    "Compute Autocorrelation Function (ACF)"
   ]
  },
  {
   "cell_type": "code",
   "execution_count": null,
   "metadata": {
    "execution": {
     "iopub.execute_input": "2020-10-11T22:54:33.531380Z",
     "iopub.status.busy": "2020-10-11T22:54:33.531012Z",
     "iopub.status.idle": "2020-10-11T22:54:33.671755Z",
     "shell.execute_reply": "2020-10-11T22:54:33.671428Z"
    }
   },
   "outputs": [],
   "source": [
    "from statsmodels.tsa.stattools import acf\n",
    "\n",
    "x_diff = x.diff().dropna() # first item is NA\n",
    "lag_acf = acf(x_diff, nlags=36, fft=True)\n",
    "plt.plot(lag_acf)\n",
    "plt.title('Autocorrelation Function')"
   ]
  },
  {
   "cell_type": "markdown",
   "metadata": {},
   "source": [
    "ACF peaks every 12 months: Time series is correlated with itself shifted by 12 months.\n",
    "\n",
    "## Time series forecasting with Python using Autoregressive Moving Average (ARMA) models\n",
    "\n",
    "Source:\n",
    "\n",
    "- https://www.packtpub.com/mapt/book/big_data_and_business_intelligence/9781783553358/7/ch07lvl1sec77/arma-models\n",
    "\n",
    "- http://en.wikipedia.org/wiki/Autoregressive%E2%80%93moving-average_model\n",
    "\n",
    "- ARIMA: https://www.analyticsvidhya.com/blog/2016/02/time-series-forecasting-codes-python/\n",
    "\n",
    "ARMA models are often used to forecast a time series.\n",
    "These models combine autoregressive and moving average models.\n",
    "In moving average models, we assume that a variable is the sum of the mean of the\n",
    "time series and a linear combination of noise components.\n",
    "\n",
    "The autoregressive and moving average models can have different orders. In general, we can define an ARMA model with p autoregressive terms and q moving average terms as follows:\n",
    "\n",
    "$$\n",
    "x_t = \\sum_i^p a_i x_{t-i} +\\sum_i^q b_i \\varepsilon_{t-i} + \\varepsilon_t\n",
    "$$\n",
    "\n",
    "### Choosing p and q\n",
    "\n",
    "Plot the partial autocorrelation functions for an estimate of p, and likewise using the autocorrelation functions for an estimate of q.\n",
    "\n",
    "Partial Autocorrelation Function (PACF): This measures the correlation between the TS with a lagged version of itself but after eliminating the variations already explained by the intervening comparisons. Eg at lag 5, it will check the correlation but remove the effects already explained by lags 1 to 4."
   ]
  },
  {
   "cell_type": "code",
   "execution_count": null,
   "metadata": {
    "execution": {
     "iopub.execute_input": "2020-10-11T22:54:33.729989Z",
     "iopub.status.busy": "2020-10-11T22:54:33.719116Z",
     "iopub.status.idle": "2020-10-11T22:54:33.907163Z",
     "shell.execute_reply": "2020-10-11T22:54:33.906812Z"
    }
   },
   "outputs": [],
   "source": [
    "from statsmodels.tsa.stattools import acf, pacf\n",
    "\n",
    "x = df[\"gym\"].astype(float)\n",
    "\n",
    "x_diff = x.diff().dropna() # first item is NA\n",
    "# ACF and PACF plots:\n",
    "\n",
    "lag_acf = acf(x_diff, nlags=20, fft=True)\n",
    "lag_pacf = pacf(x_diff, nlags=20, method='ols')\n",
    "\n",
    "#Plot ACF:\n",
    "plt.subplot(121)\n",
    "plt.plot(lag_acf)\n",
    "plt.axhline(y=0,linestyle='--',color='gray')\n",
    "plt.axhline(y=-1.96/np.sqrt(len(x_diff)),linestyle='--',color='gray')\n",
    "plt.axhline(y=1.96/np.sqrt(len(x_diff)),linestyle='--',color='gray')\n",
    "plt.title('Autocorrelation Function  (q=1)')\n",
    "\n",
    "#Plot PACF:\n",
    "plt.subplot(122)\n",
    "plt.plot(lag_pacf)\n",
    "plt.axhline(y=0,linestyle='--',color='gray')\n",
    "plt.axhline(y=-1.96/np.sqrt(len(x_diff)),linestyle='--',color='gray')\n",
    "plt.axhline(y=1.96/np.sqrt(len(x_diff)),linestyle='--',color='gray')\n",
    "plt.title('Partial Autocorrelation Function (p=1)')\n",
    "plt.tight_layout()"
   ]
  },
  {
   "cell_type": "markdown",
   "metadata": {},
   "source": [
    "In this plot, the two dotted lines on either sides of 0 are the confidence interevals.\n",
    "These can be used to determine the p and q values as:\n",
    "\n",
    "- p: The lag value where the PACF chart crosses the upper confidence interval for the first time, in this case p=1.\n",
    "\n",
    "- q: The lag value where the ACF chart crosses the upper confidence interval for the first time, in this case q=1.\n",
    "\n",
    "### Fit ARMA model with statsmodels\n",
    "\n",
    "1. Define the model by calling `ARMA()` and passing in the p and q parameters.\n",
    "\n",
    "2. The model is prepared on the training data by calling the `fit()` function.\n",
    "\n",
    "3. Predictions can be made by calling the `predict()` function and specifying the index of the time or times to be predicted."
   ]
  },
  {
   "cell_type": "code",
   "execution_count": null,
   "metadata": {
    "execution": {
     "iopub.execute_input": "2020-10-11T22:54:33.910475Z",
     "iopub.status.busy": "2020-10-11T22:54:33.910118Z",
     "iopub.status.idle": "2020-10-11T22:54:34.200169Z",
     "shell.execute_reply": "2020-10-11T22:54:34.199836Z"
    }
   },
   "outputs": [],
   "source": [
    "from statsmodels.tsa.arima_model import ARMA\n",
    "# from statsmodels.tsa.arima.model import ARIMA\n",
    "\n",
    "model = ARMA(x, order=(1, 1)).fit() # fit model\n",
    "\n",
    "print(model.summary())\n",
    "plt.plot(x)\n",
    "plt.plot(model.predict(), color='red')\n",
    "plt.title('RSS: %.4f'% sum((model.fittedvalues-x)**2))"
   ]
  },
  {
   "cell_type": "code",
   "execution_count": null,
   "metadata": {},
   "outputs": [],
   "source": []
  }
 ],
 "metadata": {
  "kernelspec": {
   "display_name": "Python 3",
   "language": "python",
   "name": "python3"
  },
  "language_info": {
   "codemirror_mode": {
    "name": "ipython",
    "version": 3
   },
   "file_extension": ".py",
   "mimetype": "text/x-python",
   "name": "python",
   "nbconvert_exporter": "python",
   "pygments_lexer": "ipython3",
   "version": "3.7.9"
  }
 },
 "nbformat": 4,
 "nbformat_minor": 1
}
