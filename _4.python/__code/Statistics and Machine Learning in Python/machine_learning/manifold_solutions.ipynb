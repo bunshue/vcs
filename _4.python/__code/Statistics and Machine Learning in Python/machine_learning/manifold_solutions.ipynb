{
 "cells": [
  {
   "cell_type": "markdown",
   "metadata": {},
   "source": [
    "## MDS"
   ]
  },
  {
   "cell_type": "code",
   "execution_count": null,
   "metadata": {},
   "outputs": [],
   "source": [
    "import numpy as np\n",
    "import matplotlib.pyplot as plt\n",
    "from sklearn.decomposition import PCA\n",
    "from sklearn.manifold import MDS\n",
    "%matplotlib inline\n",
    "\n",
    "# https://tgmstat.wordpress.com/2013/11/28/computing-and-visualizing-pca-in-r/\n",
    "\n",
    "import pandas as pd\n",
    "\n",
    "try:\n",
    "    salary = pd.read_csv('datasets/iris.csv')\n",
    "except:\n",
    "    url = 'https://github.com/duchesnay/pystatsml/raw/master/datasets/iris.csv'\n",
    "    df = pd.read_csv(url)\n",
    "\n",
    "X = np.asarray(df.iloc[:, :4])\n",
    "X -= np.mean(X, axis=0)\n",
    "X /= np.std(X, axis=0, ddof=1)\n",
    "\n",
    "from sklearn import metrics\n",
    "D = metrics.pairwise.pairwise_distances(X, metric='euclidean')\n",
    "\n",
    "\n",
    "stress = [MDS(dissimilarity='precomputed', n_components=k,\n",
    "           random_state=42, max_iter=300, eps=1e-9).fit(D).stress_ for k in range(1, X.shape[1]+1)]\n",
    "\n",
    "print(\"Stress\", stress)\n",
    "plt.plot(range(1, 5), stress)\n",
    "\n",
    "K = 2\n",
    "mds = MDS(dissimilarity='precomputed', n_components=K,\n",
    "           random_state=42, max_iter=300, eps=1e-9)\n",
    "Xmds = mds.fit_transform(D)\n",
    "\n",
    "pca = PCA(n_components=K)\n",
    "pca.fit(X)\n",
    "PC = pca.transform(X)\n",
    "\n",
    "print(\"Correlation between PCA and MDS\")\n",
    "cor = [np.corrcoef(Xmds[:, j], PC[:, j])[0, 1] for j in range(min(Xmds.shape[1], PC.shape[1]))]\n",
    "print(cor)"
   ]
  },
  {
   "cell_type": "code",
   "execution_count": null,
   "metadata": {},
   "outputs": [],
   "source": []
  }
 ],
 "metadata": {
  "kernelspec": {
   "display_name": "Python 3.7.4 64-bit ('base': conda)",
   "language": "python",
   "name": "python37464bitbaseconda862d4bef370e4cc79b56518e37d84318"
  },
  "language_info": {
   "codemirror_mode": {
    "name": "ipython",
    "version": 3
   },
   "file_extension": ".py",
   "mimetype": "text/x-python",
   "name": "python",
   "nbconvert_exporter": "python",
   "pygments_lexer": "ipython3",
   "version": "3.7.9"
  }
 },
 "nbformat": 4,
 "nbformat_minor": 4
}
