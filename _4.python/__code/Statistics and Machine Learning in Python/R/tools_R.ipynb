{
 "cells": [
  {
   "cell_type": "markdown",
   "metadata": {},
   "source": [
    "# Introduction to R language\n",
    "\n",
    "Source: An Introduction to Statistical Learning with Applications in R\n",
    "\n",
    "In this lab, we will introduce some simple R commands. The best way to\n",
    "learn a new language is to try out the commands. R can be downloaded from\n",
    "http://cran.r-project.org/"
   ]
  },
  {
   "cell_type": "markdown",
   "metadata": {},
   "source": [
    "## Functions\n",
    "\n",
    "R uses functions to perform operations. To run a function called funcname, we type ``funcname(input1, input2)``, where the inputs (or arguments) ``input1`` and ``input2`` tell R how to run the function. Define user function with the keyword ``function``"
   ]
  },
  {
   "cell_type": "code",
   "execution_count": null,
   "metadata": {},
   "outputs": [],
   "source": [
    "add <- function(a, b){\n",
    "    c = a + b\n",
    "    return(c)\n",
    "}\n",
    "\n",
    "add(2, 3)"
   ]
  },
  {
   "cell_type": "markdown",
   "metadata": {},
   "source": [
    "## Data strutures\n",
    "\n",
    "### Vectors"
   ]
  },
  {
   "cell_type": "code",
   "execution_count": null,
   "metadata": {},
   "outputs": [],
   "source": [
    "x <- c(1, 3, 2, 5)\n",
    "x"
   ]
  },
  {
   "cell_type": "markdown",
   "metadata": {},
   "source": [
    "Note that the ``>`` is not part of the command; rather, it is printed by R to\n",
    "indicate that it is ready for another command to be entered. We can also\n",
    "save things using ``=`` rather than ``<-`` :"
   ]
  },
  {
   "cell_type": "code",
   "execution_count": null,
   "metadata": {},
   "outputs": [],
   "source": [
    "x = c (1 ,6 ,2)\n",
    "x\n",
    "y = c (1 ,4 ,3)"
   ]
  },
  {
   "cell_type": "markdown",
   "metadata": {},
   "source": [
    "Hitting the up arrow multiple times will display the previous commands,\n",
    "which can then be edited. This is useful since one often wishes to repeat\n",
    "a similar command. In addition, typing ``?funcname`` will always cause R to\n",
    "open a new help file window with additional information about the function\n",
    "``funcname``.\n",
    "\n",
    "We can tell R to add two sets of numbers together. It will then add the\n",
    "first number from x to the first number from y , and so on. However, x and\n",
    "y should be the same length. We can check their length using the ``length()``\n",
    "function."
   ]
  },
  {
   "cell_type": "code",
   "execution_count": null,
   "metadata": {},
   "outputs": [],
   "source": [
    "length(x)\n",
    "length(y)\n",
    "x + y"
   ]
  },
  {
   "cell_type": "markdown",
   "metadata": {},
   "source": [
    "The ``ls()`` function allows us to look at a list of all of the objects, such ``ls()``\n",
    "as data and functions, that we have saved so far. The ``rm()`` function can be used to delete any that we don’t want.\n",
    "\n",
    "Vectors can contain strings:"
   ]
  },
  {
   "cell_type": "code",
   "execution_count": null,
   "metadata": {},
   "outputs": [],
   "source": [
    "s = c('a', 'b', 'c', 'a', 'a')\n",
    "\n",
    "length(s)\n",
    "unique(s)"
   ]
  },
  {
   "cell_type": "code",
   "execution_count": null,
   "metadata": {},
   "outputs": [],
   "source": [
    "ls()"
   ]
  },
  {
   "cell_type": "code",
   "execution_count": null,
   "metadata": {},
   "outputs": [],
   "source": [
    "rm(x , y)"
   ]
  },
  {
   "cell_type": "markdown",
   "metadata": {},
   "source": [
    "It’s also possible to remove all objects at once:"
   ]
  },
  {
   "cell_type": "code",
   "execution_count": null,
   "metadata": {},
   "outputs": [],
   "source": [
    "rm(list = ls ())\n",
    "ls()"
   ]
  },
  {
   "cell_type": "markdown",
   "metadata": {},
   "source": [
    "### Lists\n",
    "\n",
    "Lists are data structure that can contain heterogenegous types of data. They provide a basic key/value an indexation facility."
   ]
  },
  {
   "cell_type": "code",
   "execution_count": null,
   "metadata": {},
   "outputs": [],
   "source": [
    "l = list(a=1, b=c(1, 2), v=\"string\")\n",
    "l\n",
    "l['I_like'] = c(\"machine, 'learning\")\n",
    "l[\"v\"]\n",
    "l$I_like"
   ]
  },
  {
   "cell_type": "markdown",
   "metadata": {},
   "source": [
    "List to vector and vector to list:"
   ]
  },
  {
   "cell_type": "code",
   "execution_count": null,
   "metadata": {},
   "outputs": [],
   "source": [
    "l = list(a=1, b=2)\n",
    "l\n",
    "unlist(l)\n",
    "as.list(c(a=1, b=2))"
   ]
  },
  {
   "cell_type": "markdown",
   "metadata": {},
   "source": [
    "### Matrices"
   ]
  },
  {
   "cell_type": "markdown",
   "metadata": {},
   "source": [
    "The ``matrix()`` function can be used to create a matrix of numbers. Before\n",
    "we use the ``matrix()`` function, we can learn more about it. Type"
   ]
  },
  {
   "cell_type": "code",
   "execution_count": null,
   "metadata": {},
   "outputs": [],
   "source": [
    "?matrix"
   ]
  },
  {
   "cell_type": "markdown",
   "metadata": {},
   "source": [
    "The help file reveals that the ``matrix()`` function takes a number of inputs,\n",
    "but for now we focus on the first three: the data (the entries in the matrix),\n",
    "the number of rows, and the number of columns. First, we create a simple\n",
    "matrix."
   ]
  },
  {
   "cell_type": "code",
   "execution_count": null,
   "metadata": {},
   "outputs": [],
   "source": [
    "X = matrix(data = c(1 ,2 ,3 ,4), nrow=2, ncol=2)\n",
    "X"
   ]
  },
  {
   "cell_type": "markdown",
   "metadata": {},
   "source": [
    "Note that we could just as well omit typing data= , nrow= , and ncol= in the\n",
    "matrix() command above: that is, we could just type"
   ]
  },
  {
   "cell_type": "code",
   "execution_count": null,
   "metadata": {},
   "outputs": [],
   "source": [
    "X = matrix ( c (1 ,2 ,3 ,4) ,2 ,2)\n",
    "X"
   ]
  },
  {
   "cell_type": "markdown",
   "metadata": {},
   "source": [
    "and this would have the same effect. However, it can sometimes be useful to\n",
    "specify the names of the arguments passed in, since otherwise R will assume\n",
    "that the function arguments are passed into the function in the same order\n",
    "that is given in the function’s help file. As this example illustrates, by\n",
    "default R creates matrices by successively filling in columns. Alternatively,\n",
    "the ``byrow=TRUE`` option can be used to populate the matrix in order of the\n",
    "rows."
   ]
  },
  {
   "cell_type": "code",
   "execution_count": null,
   "metadata": {},
   "outputs": [],
   "source": [
    "matrix ( c (1 ,2 ,3 ,4) ,2 ,2 , byrow = TRUE )"
   ]
  },
  {
   "cell_type": "markdown",
   "metadata": {},
   "source": [
    "Notice that in the above command we did not assign the matrix to a value\n",
    "such as ``x`` . In this case the matrix is printed to the screen but is not saved\n",
    "for future calculations. The ``sqrt()`` function returns the square root of each\n",
    "element of a vector or matrix. The command ``X ^ 2`` or ``X ** 2`` raises each element of ``X``\n",
    "to the power 2 ; any powers are possible, including fractional or negative\n",
    "powers."
   ]
  },
  {
   "cell_type": "code",
   "execution_count": null,
   "metadata": {},
   "outputs": [],
   "source": [
    "sqrt(X)\n",
    "\n",
    "X ^ 2\n",
    "\n",
    "# or\n",
    "\n",
    "X ** 2"
   ]
  },
  {
   "cell_type": "markdown",
   "metadata": {},
   "source": [
    "The ``rnorm()`` function generates a vector of random normal variables,\n",
    "with first argument n the sample size. Each time we call this function, we\n",
    "will get a different answer. Here we create two correlated sets of numbers,\n",
    "``x`` and ``y`` , and use the ``cor()`` function to compute the correlation between\n",
    "them."
   ]
  },
  {
   "cell_type": "code",
   "execution_count": null,
   "metadata": {},
   "outputs": [],
   "source": [
    "x = rnorm(50)\n",
    "y = x + rnorm(50, mean=50 , sd=.1)\n",
    "cor(x, y)"
   ]
  },
  {
   "cell_type": "markdown",
   "metadata": {},
   "source": [
    "By default, rnorm() creates standard normal random variables with a mean\n",
    "of 0 and a standard deviation of 1. However, the mean and standard devi-\n",
    "ation can be altered using the mean and sd arguments, as illustrated above.\n",
    "Sometimes we want our code to reproduce the exact same set of random\n",
    "numbers; we can use the ``set.seed()`` function to do this. The set.seed()\n",
    "function takes an (arbitrary) integer argument."
   ]
  },
  {
   "cell_type": "code",
   "execution_count": null,
   "metadata": {},
   "outputs": [],
   "source": [
    "set.seed(42)\n",
    "rnorm(10)\n",
    "set.seed(42)\n",
    "rnorm(10)"
   ]
  },
  {
   "cell_type": "markdown",
   "metadata": {},
   "source": [
    "The ``mean()`` and ``var()`` functions can be used to compute the mean and\n",
    "variance of a vector of numbers. Applying sqrt() to the output of ``var()``\n",
    "will give the standard deviation. Or we can simply use the ``sd()`` function."
   ]
  },
  {
   "cell_type": "code",
   "execution_count": null,
   "metadata": {},
   "outputs": [],
   "source": [
    "set.seed (3)\n",
    "y = rnorm(100)\n",
    "mean(y)\n",
    "\n",
    "var(y)\n",
    "\n",
    "sqrt(var(y))\n",
    "\n",
    "sd(y)"
   ]
  },
  {
   "cell_type": "markdown",
   "metadata": {},
   "source": [
    "### Indexing Data"
   ]
  },
  {
   "cell_type": "markdown",
   "metadata": {},
   "source": [
    "We often wish to examine part of a set of data. Suppose that our data is\n",
    "stored in the matrix ``A``."
   ]
  },
  {
   "cell_type": "code",
   "execution_count": null,
   "metadata": {},
   "outputs": [],
   "source": [
    "A = matrix (1:16, 4, 4)\n",
    "A\n",
    "A[2 ,3]"
   ]
  },
  {
   "cell_type": "markdown",
   "metadata": {},
   "source": [
    "Selects the element corresponding to the second row and the third column. The first number after the open-bracket symbol [ always refers to the row, and the second number always refers to the column. We can also select multiple rows and columns at a time, by providing vectors as the indices."
   ]
  },
  {
   "cell_type": "code",
   "execution_count": null,
   "metadata": {},
   "outputs": [],
   "source": [
    "A[c(1 ,3), c(2 ,4)]"
   ]
  },
  {
   "cell_type": "markdown",
   "metadata": {},
   "source": [
    "Or using the sclicing notation"
   ]
  },
  {
   "cell_type": "code",
   "execution_count": null,
   "metadata": {},
   "outputs": [],
   "source": [
    "print(\"Line 1 to 3 and columns 2 to 4\")\n",
    "A [1:3 ,2:4]\n",
    "\n",
    "print(\"Line 1 to 2 and all columns\")\n",
    "A [1:2, ]\n",
    "\n",
    "print(\"All lines and all columns 1 to 2\")\n",
    "A [, 1:2]"
   ]
  },
  {
   "cell_type": "markdown",
   "metadata": {},
   "source": [
    "The last two examples include either no index for the columns or no index\n",
    "for the rows. These indicate that R should include all columns or all rows,\n",
    "respectively. R treats a single row or column of a matrix as a vector."
   ]
  },
  {
   "cell_type": "code",
   "execution_count": null,
   "metadata": {},
   "outputs": [],
   "source": [
    "A [1, ]"
   ]
  },
  {
   "cell_type": "markdown",
   "metadata": {},
   "source": [
    "The use of a negative sign - in the index tells R to keep all rows or columns\n",
    "except those indicated in the index."
   ]
  },
  {
   "cell_type": "code",
   "execution_count": null,
   "metadata": {},
   "outputs": [],
   "source": [
    "A[-c(1 , 3), ]"
   ]
  },
  {
   "cell_type": "markdown",
   "metadata": {},
   "source": [
    "The ``dim()`` function outputs the number of rows followed by the number of\n",
    "columns of a given matrix."
   ]
  },
  {
   "cell_type": "code",
   "execution_count": null,
   "metadata": {},
   "outputs": [],
   "source": [
    "dim(A)\n",
    "dim(A[1:3, ])\n",
    "dim(A)[1]"
   ]
  },
  {
   "cell_type": "markdown",
   "metadata": {},
   "source": [
    "### Matrix operation"
   ]
  },
  {
   "cell_type": "code",
   "execution_count": null,
   "metadata": {},
   "outputs": [],
   "source": [
    "X = matrix(c(1 ,2 ,3 ,4) ,2 ,2)\n",
    "X"
   ]
  },
  {
   "cell_type": "markdown",
   "metadata": {},
   "source": [
    "#### Column-wise or row-wise operations"
   ]
  },
  {
   "cell_type": "code",
   "execution_count": null,
   "metadata": {},
   "outputs": [],
   "source": [
    "colSums(X)\n",
    "colMeans(X)\n",
    "\n",
    "rowSums(X)\n",
    "rowMeans(X)"
   ]
  },
  {
   "cell_type": "code",
   "execution_count": null,
   "metadata": {},
   "outputs": [],
   "source": [
    "apply(X, 2, mean)"
   ]
  },
  {
   "cell_type": "markdown",
   "metadata": {},
   "source": [
    "#### Centering and scaling"
   ]
  },
  {
   "cell_type": "code",
   "execution_count": null,
   "metadata": {},
   "outputs": [],
   "source": [
    "X = matrix(c(1 ,2 ,3 ,4) ,2 ,2)\n",
    "Xcs = scale(X)\n",
    "# Xcs contains the standardized matrix plus some hidden attributes\n",
    "attributes(Xcs)\n",
    "\n",
    "xbar <- attr(Xcs, \"scaled:center\")\n",
    "xsd <- attr(Xcs, \"scaled:scale\")\n",
    "Xcs2 = scale(X, center=xbar, scale=xsd)\n",
    "\n",
    "all(Xcs==Xcs2)"
   ]
  },
  {
   "cell_type": "code",
   "execution_count": null,
   "metadata": {},
   "outputs": [],
   "source": [
    "### Matrix / vector product"
   ]
  },
  {
   "cell_type": "code",
   "execution_count": null,
   "metadata": {},
   "outputs": [],
   "source": [
    "X = matrix(c(1 ,2 ,3 ,4, 5, 6) ,3 ,2)\n",
    "X\n",
    "dim(X)"
   ]
  },
  {
   "cell_type": "code",
   "execution_count": null,
   "metadata": {},
   "outputs": [],
   "source": [
    "b = matrix(c(1 ,2), 2, 1)\n",
    "b\n",
    "dim(b)\n",
    "\n",
    "X %*% b"
   ]
  },
  {
   "cell_type": "markdown",
   "metadata": {},
   "source": [
    "## Data frame and data input / output\n",
    "\n",
    "For most analyses, the first step involves importing a data set into R . The ``read.table()`` function is one of the primary ways to do this. The help file contains details about how to use this function. We can use the function\n",
    "``write.table()`` to export data.\n",
    "\n",
    "Before attempting to load a data set, we must make sure that R knows table()\n",
    "to search for the data in the proper directory. For example on a Windows\n",
    "system one could select the directory using the Change dir. . . option under\n",
    "the File menu. However, the details of how to do this depend on the op-\n",
    "erating system (e.g. Windows, Mac, Unix) that is being used, and so we\n",
    "do not give further details here. Use ``getwd()`` and ``setwd()`` to get and set the current working directory."
   ]
  },
  {
   "cell_type": "code",
   "execution_count": null,
   "metadata": {},
   "outputs": [],
   "source": [
    "getwd()"
   ]
  },
  {
   "cell_type": "markdown",
   "metadata": {},
   "source": [
    "Once the data has been loaded, the ``fix()`` function can be used to view it in a spreadsheet like window.\n",
    "However, the window must be closed before further R commands can be\n",
    "entered. Function ``head()`` prints the first rows of the ``data.frame``"
   ]
  },
  {
   "cell_type": "code",
   "execution_count": null,
   "metadata": {},
   "outputs": [],
   "source": [
    "df = read.table(\"../datasets/iris.csv\", header=TRUE, sep=\",\")\n",
    "#fix(df)\n",
    "head(df)"
   ]
  },
  {
   "cell_type": "code",
   "execution_count": null,
   "metadata": {},
   "outputs": [],
   "source": [
    "df = read.csv(\"../datasets/iris.csv\")\n",
    "head(df)"
   ]
  },
  {
   "cell_type": "code",
   "execution_count": null,
   "metadata": {},
   "outputs": [],
   "source": [
    "link = 'https://github.com/duchesnay/pystatsml/raw/master/datasets/salary_table.csv'\n",
    "# X = read.csv(url(link))"
   ]
  },
  {
   "cell_type": "markdown",
   "metadata": {},
   "source": [
    "``read.table()`` and ``read.csv()`` return ``data.frame`` with is a list of vector or a table of heterogeneous data. ``data.frame`` can be indexed like a matrix. A column can be obtained using its name after the symbol ``$``."
   ]
  },
  {
   "cell_type": "code",
   "execution_count": null,
   "metadata": {},
   "outputs": [],
   "source": [
    "colnames(df)\n",
    "df$sepal_length[1:10]"
   ]
  },
  {
   "cell_type": "code",
   "execution_count": null,
   "metadata": {},
   "outputs": [],
   "source": [
    "summary(df)"
   ]
  },
  {
   "cell_type": "markdown",
   "metadata": {},
   "source": [
    "Build data.frame"
   ]
  },
  {
   "cell_type": "code",
   "execution_count": null,
   "metadata": {},
   "outputs": [],
   "source": [
    "user1 = data.frame(name=c('eric', 'sophie'),\n",
    "                     age=c(22, 48), gender=c('M', 'F'),\n",
    "                     job=c('engineer', 'scientist'))\n",
    "  \n",
    "user2 = data.frame(name=c('alice', 'john', 'peter', 'julie', 'christine'),\n",
    "                   age=c(19, 26, 33, 44, 35), gender=c('F', 'M', 'M', 'F', 'F'),\n",
    "                   job=c(\"student\", \"student\", 'engineer', 'scientist', 'scientist'))"
   ]
  },
  {
   "cell_type": "markdown",
   "metadata": {},
   "source": [
    "### Concatenate and merge"
   ]
  },
  {
   "cell_type": "code",
   "execution_count": null,
   "metadata": {},
   "outputs": [],
   "source": [
    "user3 = rbind(user1, user2)\n",
    "\n",
    "print(user3)\n",
    "\n",
    "salary = data.frame(name=c('alice', 'john', 'peter', 'julie'), salary=c(22000, 2400, 3500, 4300))\n",
    "\n",
    "user = merge(user3, salary, by=\"name\", all=TRUE)\n",
    "\n",
    "print(user)"
   ]
  },
  {
   "cell_type": "markdown",
   "metadata": {},
   "source": [
    "### Selection"
   ]
  },
  {
   "cell_type": "code",
   "execution_count": null,
   "metadata": {},
   "outputs": [],
   "source": [
    "user[(user$gender == 'F') & (user$job == 'scientist'), ]\n"
   ]
  },
  {
   "cell_type": "markdown",
   "metadata": {},
   "source": [
    "### Iterate over columns"
   ]
  },
  {
   "cell_type": "code",
   "execution_count": null,
   "metadata": {},
   "outputs": [],
   "source": [
    "types = NULL\n",
    "for(n in colnames(user)){\n",
    "  types = rbind(types, data.frame(var=n, \n",
    "                                  type=typeof(user[[n]]),\n",
    "                                  isnumeric=is.numeric(user[[n]])))\n",
    "}\n",
    "\n",
    "print(types)"
   ]
  },
  {
   "cell_type": "code",
   "execution_count": null,
   "metadata": {},
   "outputs": [],
   "source": [
    "lapply(user, is.numeric)"
   ]
  },
  {
   "cell_type": "markdown",
   "metadata": {},
   "source": [
    "## Exercises\n",
    "\n",
    "### Data Frame\n",
    "\n",
    "1. Read the iris dataset. Type ``wget https://github.com/duchesnay/pystatsml/raw/master/datasets/iris.csv``. Some recent version of R can execute ``read.csv(url('https://github.com/duchesnay/pystatsml/raw/master/datasets/iris.csv'))``\n",
    "\n",
    "\n",
    "\n",
    "2. Print column names.\n",
    "\n",
    "3. Identify numerical columns.\n",
    "\n",
    "4. For each species compute the mean of numerical columns and store it in  a ``stats`` table like:\n",
    "\n",
    "\n",
    "          species  sepal_length  sepal_width  petal_length  petal_width\n",
    "    0      setosa         5.006        3.428         1.462        0.246\n",
    "    1  versicolor         5.936        2.770         4.260        1.326\n",
    "    2   virginica         6.588        2.974         5.552        2.026\n",
    "\n",
    "\n",
    "Write a function ``fillmissing_with_mean(df)`` that fill all missing value of numerical column with the\n",
    "mean of the current column."
   ]
  },
  {
   "cell_type": "markdown",
   "metadata": {},
   "source": [
    "### Missing data\n",
    "\n",
    "Consider the table ``user``:"
   ]
  },
  {
   "cell_type": "code",
   "execution_count": null,
   "metadata": {},
   "outputs": [],
   "source": [
    "user"
   ]
  },
  {
   "cell_type": "markdown",
   "metadata": {},
   "source": [
    "1. Write a function ``fillmissing_with_mean(df)`` that fill all missing value of numerical column with the mean of the current columns.\n",
    "\n",
    "2. Save the imputed table in a csv file \"users_imputed.csv\"."
   ]
  }
 ],
 "metadata": {
  "anaconda-cloud": {},
  "kernelspec": {
   "display_name": "Python 3",
   "language": "python",
   "name": "python3"
  },
  "language_info": {
   "codemirror_mode": {
    "name": "ipython",
    "version": 3
   },
   "file_extension": ".py",
   "mimetype": "text/x-python",
   "name": "python",
   "nbconvert_exporter": "python",
   "pygments_lexer": "ipython3",
   "version": "3.6.4"
  }
 },
 "nbformat": 4,
 "nbformat_minor": 1
}
