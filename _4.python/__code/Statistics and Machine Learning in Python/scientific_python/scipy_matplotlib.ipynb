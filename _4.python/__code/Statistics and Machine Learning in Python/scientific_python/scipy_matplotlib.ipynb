{
 "cells": [
  {
   "cell_type": "markdown",
   "metadata": {},
   "source": [
    "# Data visualization: matplotlib & seaborn \n",
    "\n",
    "\n",
    "## Basic plots"
   ]
  },
  {
   "cell_type": "code",
   "execution_count": null,
   "metadata": {
    "execution": {
     "iopub.execute_input": "2020-10-11T22:54:06.283262Z",
     "iopub.status.busy": "2020-10-11T22:54:06.281496Z",
     "iopub.status.idle": "2020-10-11T22:54:06.619890Z",
     "shell.execute_reply": "2020-10-11T22:54:06.619484Z"
    }
   },
   "outputs": [],
   "source": [
    "import numpy as np\n",
    "import matplotlib.pyplot as plt\n",
    "import seaborn as sns\n",
    "\n",
    "# inline plot (for jupyter)\n",
    "%matplotlib inline\n",
    "\n",
    "plt.figure(figsize=(9, 3))\n",
    "x = np.linspace(0, 10, 50)\n",
    "sinus = np.sin(x)\n",
    "\n",
    "plt.plot(x, sinus)\n",
    "plt.show()"
   ]
  },
  {
   "cell_type": "code",
   "execution_count": null,
   "metadata": {
    "execution": {
     "iopub.execute_input": "2020-10-11T22:54:06.631218Z",
     "iopub.status.busy": "2020-10-11T22:54:06.630138Z",
     "iopub.status.idle": "2020-10-11T22:54:06.715538Z",
     "shell.execute_reply": "2020-10-11T22:54:06.715894Z"
    }
   },
   "outputs": [],
   "source": [
    "plt.figure(figsize=(9, 3))\n",
    "\n",
    "plt.plot(x, sinus, \"o\")\n",
    "plt.show()\n",
    "# use plt.plot to get color / marker abbreviations"
   ]
  },
  {
   "cell_type": "code",
   "execution_count": null,
   "metadata": {
    "execution": {
     "iopub.execute_input": "2020-10-11T22:54:06.728139Z",
     "iopub.status.busy": "2020-10-11T22:54:06.727746Z",
     "iopub.status.idle": "2020-10-11T22:54:06.834198Z",
     "shell.execute_reply": "2020-10-11T22:54:06.833848Z"
    }
   },
   "outputs": [],
   "source": [
    "# Rapid multiplot\n",
    "\n",
    "plt.figure(figsize=(9, 3))\n",
    "cosinus = np.cos(x)\n",
    "plt.plot(x, sinus, \"-b\", x, sinus, \"ob\", x, cosinus, \"-r\", x, cosinus, \"or\")\n",
    "plt.xlabel('this is x!')\n",
    "plt.ylabel('this is y!')\n",
    "plt.title('My First Plot')\n",
    "plt.show()"
   ]
  },
  {
   "cell_type": "code",
   "execution_count": null,
   "metadata": {
    "execution": {
     "iopub.execute_input": "2020-10-11T22:54:06.847651Z",
     "iopub.status.busy": "2020-10-11T22:54:06.846622Z",
     "iopub.status.idle": "2020-10-11T22:54:06.953662Z",
     "shell.execute_reply": "2020-10-11T22:54:06.953293Z"
    }
   },
   "outputs": [],
   "source": [
    "# Step by step\n",
    "\n",
    "plt.figure(figsize=(9, 3))\n",
    "plt.plot(x, sinus, label='sinus', color='blue', linestyle='--', linewidth=2)\n",
    "plt.plot(x, cosinus, label='cosinus', color='red', linestyle='-', linewidth=2)\n",
    "plt.legend()\n",
    "plt.show()"
   ]
  },
  {
   "cell_type": "markdown",
   "metadata": {},
   "source": [
    "## Scatter (2D) plots\n",
    "\n",
    "Load dataset"
   ]
  },
  {
   "cell_type": "code",
   "execution_count": null,
   "metadata": {
    "execution": {
     "iopub.execute_input": "2020-10-11T22:54:06.956572Z",
     "iopub.status.busy": "2020-10-11T22:54:06.956237Z",
     "iopub.status.idle": "2020-10-11T22:54:07.103716Z",
     "shell.execute_reply": "2020-10-11T22:54:07.103342Z"
    }
   },
   "outputs": [],
   "source": [
    "import pandas as pd\n",
    "try:\n",
    "    salary = pd.read_csv(\"../datasets/salary_table.csv\")\n",
    "except:\n",
    "    url = 'https://github.com/duchesnay/pystatsml/raw/master/datasets/salary_table.csv'\n",
    "    salary = pd.read_csv(url)\n",
    "\n",
    "df = salary\n",
    "print(df.head())"
   ]
  },
  {
   "cell_type": "markdown",
   "metadata": {},
   "source": [
    "### Simple scatter with colors"
   ]
  },
  {
   "cell_type": "code",
   "execution_count": null,
   "metadata": {},
   "outputs": [],
   "source": [
    "plt.figure(figsize=(3, 3), dpi=100)\n",
    "_ = sns.scatterplot(x=\"experience\", y=\"salary\", hue=\"education\", data=salary)"
   ]
  },
  {
   "cell_type": "markdown",
   "metadata": {},
   "source": [
    "Legend outside"
   ]
  },
  {
   "cell_type": "code",
   "execution_count": null,
   "metadata": {},
   "outputs": [],
   "source": [
    "ax = sns.relplot(x=\"experience\", y=\"salary\", hue=\"education\", data=salary)"
   ]
  },
  {
   "cell_type": "markdown",
   "metadata": {},
   "source": [
    "### Linear model"
   ]
  },
  {
   "cell_type": "code",
   "execution_count": null,
   "metadata": {},
   "outputs": [],
   "source": [
    "ax = sns.lmplot(x=\"experience\", y=\"salary\", hue=\"education\", data=salary)"
   ]
  },
  {
   "cell_type": "markdown",
   "metadata": {},
   "source": [
    "### Scatter plot with colors and symbols"
   ]
  },
  {
   "cell_type": "code",
   "execution_count": null,
   "metadata": {},
   "outputs": [],
   "source": [
    "ax = sns.relplot(x=\"experience\", y=\"salary\", hue=\"education\", style='management', data=salary)"
   ]
  },
  {
   "cell_type": "markdown",
   "metadata": {},
   "source": [
    "## Saving Figures"
   ]
  },
  {
   "cell_type": "code",
   "execution_count": null,
   "metadata": {
    "execution": {
     "iopub.execute_input": "2020-10-11T22:54:07.420427Z",
     "iopub.status.busy": "2020-10-11T22:54:07.419445Z",
     "iopub.status.idle": "2020-10-11T22:54:07.649956Z",
     "shell.execute_reply": "2020-10-11T22:54:07.649633Z"
    }
   },
   "outputs": [],
   "source": [
    "### bitmap format\n",
    "plt.plot(x, sinus)\n",
    "plt.savefig(\"sinus.png\")\n",
    "plt.close()\n",
    "\n",
    "# Prefer vectorial format (SVG: Scalable Vector Graphics) can be edited with \n",
    "# Inkscape, Adobe Illustrator, Blender, etc.\n",
    "plt.plot(x, sinus)\n",
    "plt.savefig(\"sinus.svg\")\n",
    "plt.close()\n",
    "\n",
    "# Or pdf\n",
    "plt.plot(x, sinus)\n",
    "plt.savefig(\"sinus.pdf\")\n",
    "plt.close()"
   ]
  },
  {
   "cell_type": "markdown",
   "metadata": {},
   "source": [
    "### Boxplot and violin plot: one factor\n",
    "\n",
    "Box plots are non-parametric: they display variation in samples of a statistical population without making any assumptions of the underlying statistical distribution.\n",
    "\n",
    "![title](images/boxplot.png){width=7cm}"
   ]
  },
  {
   "cell_type": "code",
   "execution_count": null,
   "metadata": {},
   "outputs": [],
   "source": [
    "ax = sns.boxplot(x=\"management\", y=\"salary\", data=salary)\n",
    "ax = sns.stripplot(x=\"management\", y=\"salary\", data=salary, jitter=True, color=\"black\")"
   ]
  },
  {
   "cell_type": "code",
   "execution_count": null,
   "metadata": {},
   "outputs": [],
   "source": [
    "ax = sns.violinplot(x=\"management\", y=\"salary\", data=salary)\n",
    "ax = sns.stripplot(x=\"management\", y=\"salary\", data=salary, jitter=True, color=\"white\")"
   ]
  },
  {
   "cell_type": "markdown",
   "metadata": {},
   "source": [
    "### Boxplot and violin plot: two factors"
   ]
  },
  {
   "cell_type": "code",
   "execution_count": null,
   "metadata": {},
   "outputs": [],
   "source": [
    "ax = sns.boxplot(x=\"management\", y=\"salary\", hue=\"education\", data=salary)\n",
    "ax = sns.stripplot(x=\"management\", y=\"salary\", hue=\"education\", data=salary, jitter=True, dodge=True, linewidth=1)"
   ]
  },
  {
   "cell_type": "code",
   "execution_count": null,
   "metadata": {
    "execution": {
     "iopub.execute_input": "2020-10-11T22:54:07.652516Z",
     "iopub.status.busy": "2020-10-11T22:54:07.652175Z",
     "iopub.status.idle": "2020-10-11T22:54:08.055323Z",
     "shell.execute_reply": "2020-10-11T22:54:08.054906Z"
    }
   },
   "outputs": [],
   "source": [
    "ax = sns.violinplot(x=\"management\", y=\"salary\", hue=\"education\", data=salary)\n",
    "ax = sns.stripplot(x=\"management\", y=\"salary\", hue=\"education\", data=salary, jitter=True, dodge=True, linewidth=1)"
   ]
  },
  {
   "cell_type": "markdown",
   "metadata": {},
   "source": [
    "### Distributions and density plot\n",
    "\n",
    "[Distributions with seaborn](https://seaborn.pydata.org/tutorial/distributions.html)\n"
   ]
  },
  {
   "cell_type": "code",
   "execution_count": null,
   "metadata": {},
   "outputs": [],
   "source": [
    "ax = sns.displot(x=\"salary\", hue=\"management\", kind=\"kde\", data=salary, fill=True)"
   ]
  },
  {
   "cell_type": "markdown",
   "metadata": {},
   "source": [
    "## Multiple axis"
   ]
  },
  {
   "cell_type": "code",
   "execution_count": null,
   "metadata": {},
   "outputs": [],
   "source": [
    "fig, axes = plt.subplots(3, 1, figsize=(9, 9), sharex=True)\n",
    "\n",
    "i = 0\n",
    "for edu, d in salary.groupby(['education']):\n",
    "    sns.kdeplot(x=\"salary\", hue=\"management\", data=d, fill=True, ax=axes[i], palette=\"muted\")\n",
    "    axes[i].set_title(edu)\n",
    "    i += 1"
   ]
  },
  {
   "cell_type": "markdown",
   "metadata": {},
   "source": [
    "## Pairwise scatter plots"
   ]
  },
  {
   "cell_type": "code",
   "execution_count": null,
   "metadata": {},
   "outputs": [],
   "source": [
    "ax = sns.pairplot(salary, hue=\"management\")"
   ]
  },
  {
   "cell_type": "markdown",
   "metadata": {},
   "source": [
    "## Time series"
   ]
  },
  {
   "cell_type": "code",
   "execution_count": null,
   "metadata": {
    "execution": {
     "iopub.execute_input": "2020-10-11T22:54:10.349932Z",
     "iopub.status.busy": "2020-10-11T22:54:10.349585Z",
     "iopub.status.idle": "2020-10-11T22:54:11.426751Z",
     "shell.execute_reply": "2020-10-11T22:54:11.426337Z"
    }
   },
   "outputs": [],
   "source": [
    "import seaborn as sns\n",
    "sns.set(style=\"darkgrid\")\n",
    "\n",
    "# Load an example dataset with long-form data\n",
    "fmri = sns.load_dataset(\"fmri\")\n",
    "\n",
    "# Plot the responses for different events and regions\n",
    "ax = sns.pointplot(x=\"timepoint\", y=\"signal\",\n",
    "             hue=\"region\", style=\"event\",\n",
    "             data=fmri)"
   ]
  }
 ],
 "metadata": {
  "anaconda-cloud": {},
  "kernelspec": {
   "display_name": "Python 3",
   "language": "python",
   "name": "python3"
  },
  "language_info": {
   "codemirror_mode": {
    "name": "ipython",
    "version": 3
   },
   "file_extension": ".py",
   "mimetype": "text/x-python",
   "name": "python",
   "nbconvert_exporter": "python",
   "pygments_lexer": "ipython3",
   "version": "3.7.9"
  }
 },
 "nbformat": 4,
 "nbformat_minor": 2
}
