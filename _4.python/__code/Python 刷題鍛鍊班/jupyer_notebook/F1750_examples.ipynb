{
 "cells": [
  {
   "cell_type": "markdown",
   "metadata": {},
   "source": [
    "# F1750 練習解答\n",
    "\n",
    "有些程式碼會用到外部檔案 (如文字檔)，這些檔案已置於本 notebook 檔位置的 \\data 子資料夾下。若要使用其他檔案，請自行修改讀檔路徑與名稱。"
   ]
  },
  {
   "cell_type": "markdown",
   "metadata": {},
   "source": [
    "## 練習 01  暖身題----猜數字遊戲\n",
    "\n",
    "影片：https://youtu.be/KDMuGX9QtNI"
   ]
  },
  {
   "cell_type": "code",
   "execution_count": null,
   "metadata": {},
   "outputs": [],
   "source": [
    "import random\n",
    "\n",
    "def guessing_game():\n",
    "    answer = random.randint(0, 100)\n",
    " \n",
    "    while True:\n",
    "        user_guess = int(input('請猜數字 (0~99): '))\n",
    " \n",
    "        if user_guess == answer:\n",
    "            print('答對了! 答案是', answer)\n",
    "            break\n",
    "        elif user_guess > answer:\n",
    "            print('猜得太高, 再試一次')\n",
    "        else:\n",
    "            print('猜得太低, 再試一次')\n",
    "\n",
    "guessing_game()"
   ]
  },
  {
   "cell_type": "markdown",
   "metadata": {},
   "source": [
    "## 練習 02  加總一系列數字\n",
    "\n",
    "影片：https://youtu.be/EDeZwyWfunM"
   ]
  },
  {
   "cell_type": "code",
   "execution_count": null,
   "metadata": {},
   "outputs": [],
   "source": [
    "def my_sum(*numbers):\n",
    "    output = 0\n",
    "    for n in numbers:\n",
    "        output += n\n",
    "    return output\n",
    "\n",
    "print(my_sum(10, 20, 30, 40, 50))"
   ]
  },
  {
   "cell_type": "markdown",
   "metadata": {},
   "source": [
    "## 練習 03  計算平均練跑時間\n",
    "\n",
    "影片：https://youtu.be/Vajtow2DG3g"
   ]
  },
  {
   "cell_type": "code",
   "execution_count": null,
   "metadata": {},
   "outputs": [],
   "source": [
    "def run_timing():\n",
    "    total_time = 0.0\n",
    "    number_of_runs = 0\n",
    " \n",
    "    while True:\n",
    "        run_time = input('輸入跑 10 公里時間: (直接按 Enter 結束) ')\n",
    "        if run_time == '':\n",
    "            break\n",
    "        try:\n",
    "            run_time_value = float(run_time)\n",
    "            total_time += run_time_value\n",
    "            number_of_runs += 1\n",
    "        except Exception as e:\n",
    "            print('產生錯誤:', e)\n",
    " \n",
    "    if number_of_runs > 0:\n",
    "        average_time = (total_time / number_of_runs)\n",
    "    else:\n",
    "        average_time = 0.0\n",
    " \n",
    "    print('跑', number_of_runs, '次的平均時間為', average_time, '分鐘')\n",
    "\n",
    "run_timing()"
   ]
  },
  {
   "cell_type": "markdown",
   "metadata": {},
   "source": [
    "## 練習 04  將 16 進位數轉為 10 進位"
   ]
  },
  {
   "cell_type": "code",
   "execution_count": null,
   "metadata": {},
   "outputs": [],
   "source": [
    "def hex_to_dec():\n",
    "    hexnum = input('輸入十六進位數字: ')\n",
    "    decnum = 0\n",
    " \n",
    "    for power, digit in enumerate(reversed(hexnum)):\n",
    "        if digit.isdigit():\n",
    "            digit_num = int(digit)\n",
    "        else:\n",
    "            digit_num = ord(digit.upper()) - ord('A') + 10\n",
    "        decnum += digit_num * (16 ** power)\n",
    " \n",
    "    print('十進位結果:', decnum)\n",
    "\n",
    "hex_to_dec()"
   ]
  },
  {
   "cell_type": "markdown",
   "metadata": {},
   "source": [
    "## 練習 05  豬拉丁文\n",
    "\n",
    "影片：https://youtu.be/v4FxKzrBmNY"
   ]
  },
  {
   "cell_type": "code",
   "execution_count": null,
   "metadata": {},
   "outputs": [],
   "source": [
    "def pig_latin(word):\n",
    "    if word[0] in 'aeiou':\n",
    "        return word + 'way'\n",
    "    else:\n",
    "        return word[1:] + word[0] + 'ay'\n",
    "\n",
    "print(pig_latin('python'))"
   ]
  },
  {
   "cell_type": "markdown",
   "metadata": {},
   "source": [
    "## 練習 06  豬拉丁文 --- 句子翻譯機\n",
    "\n",
    "影片：https://youtu.be/BwN0MegOAsY"
   ]
  },
  {
   "cell_type": "code",
   "execution_count": null,
   "metadata": {},
   "outputs": [],
   "source": [
    "def pl_sentence(sentence):\n",
    "    output = []\n",
    "    for word in sentence.lower().split():\n",
    "        if word[0] in 'aeiou':\n",
    "            output.append(f'{word}way')\n",
    "        else:\n",
    "            output.append(f'{word[1:]}{word[0]}ay')\n",
    "    return ' '.join(output)\n",
    "\n",
    "print(pl_sentence('this is a test'))"
   ]
  },
  {
   "cell_type": "markdown",
   "metadata": {},
   "source": [
    "## 練習 07  ROT13 加密法"
   ]
  },
  {
   "cell_type": "code",
   "execution_count": null,
   "metadata": {},
   "outputs": [],
   "source": [
    "def rot13(word):\n",
    "    output = []\n",
    "    for c in word.lower():\n",
    "        new_ord = ord(c) + 13\n",
    "        if new_ord > ord('z'):\n",
    "            new_ord -= 26\n",
    "        output.append(chr(new_ord))\n",
    "    return ''.join(output)\n",
    "\n",
    "print(rot13('apple'))"
   ]
  },
  {
   "cell_type": "markdown",
   "metadata": {},
   "source": [
    "## 練習 08  字元排序\n",
    "\n",
    "影片：https://youtu.be/wBn9m8wad0Y"
   ]
  },
  {
   "cell_type": "code",
   "execution_count": null,
   "metadata": {},
   "outputs": [],
   "source": [
    "def strsort(s):https://youtu.be/wBn9m8wad0Y\n",
    "    return ''.join(sorted(s))\n",
    "\n",
    "print(strsort('python'))"
   ]
  },
  {
   "cell_type": "markdown",
   "metadata": {},
   "source": [
    "## 練習 09 擷取和合併多種容器的頭尾元素\n",
    "\n",
    "影片：https://youtu.be/teBer27fyek"
   ]
  },
  {
   "cell_type": "code",
   "execution_count": null,
   "metadata": {},
   "outputs": [],
   "source": [
    "def first_last(seq):\n",
    "    return seq[:1] + seq[-1:]\n",
    "\n",
    "print(first_last('abcde'))\n",
    "print(first_last([1, 2, 3, 4, 5]))"
   ]
  },
  {
   "cell_type": "markdown",
   "metadata": {},
   "source": [
    "## 練習 10  萬用加總函式\n",
    "\n",
    "影片：https://youtu.be/dGSrJzQHiqc"
   ]
  },
  {
   "cell_type": "code",
   "execution_count": null,
   "metadata": {},
   "outputs": [],
   "source": [
    "def mysum(*items):\n",
    "    if not items:\n",
    "        return items\n",
    "    output = items[0]\n",
    "    for item in items[1:]:\n",
    "        output += item\n",
    "    return output\n",
    "\n",
    "print(mysum())\n",
    "print(mysum(10, 20, 30, 40))\n",
    "print(mysum('abc', 'd', 'e'))\n",
    "print(mysum([10, 20, 30], [40, 50], [60]))"
   ]
  },
  {
   "cell_type": "markdown",
   "metadata": {},
   "source": [
    "## 練習 11  依姓名排序聯絡資料\n",
    "\n",
    "影片：https://youtu.be/nFq5kbxLkYY"
   ]
  },
  {
   "cell_type": "code",
   "execution_count": null,
   "metadata": {},
   "outputs": [],
   "source": [
    "people = [\n",
    "    ('Joe', 'Biden', 'president@usa.gov'),\n",
    "    ('Emmanuel', 'Macron', 'president@france.gov'),\n",
    "    ('Justin', 'Trudeau', 'primeminister@canada.gov'),\n",
    "    ('Angela', 'Merkel', 'primeminister@germany.gov'),\n",
    "    ('Jacinda', 'Ardern', 'primeminister@newzealand.gov')\n",
    "    ]\n",
    "\n",
    "for person in sorted(people, key=lambda d: (d[1], d[0])):\n",
    "    print(f'{person[1]}, {person[0]}: {person[2]}')"
   ]
  },
  {
   "cell_type": "markdown",
   "metadata": {},
   "source": [
    "## 練習 12  用排版格式輸出容器資料\n",
    "\n",
    "影片：https://youtu.be/powU_XZuylU"
   ]
  },
  {
   "cell_type": "code",
   "execution_count": null,
   "metadata": {},
   "outputs": [],
   "source": [
    "import operator\n",
    "\n",
    "def sorted_grades(grades):\n",
    "    grades.sort(key=operator.itemgetter(2), reverse=True)\n",
    "    output = []\n",
    "    for first, last, grade in grades:\n",
    "        output.append(f'{last:12s}{first:10s}{grade:.1f}')\n",
    "    return '\\n'.join(output)\n",
    "\n",
    "grades = [\n",
    "    ('Alice', 'Wooding', 89),\n",
    "    ('Bob', 'Johnson', 86),\n",
    "    ('Cindy', 'Letterman', 93),\n",
    "    ('David', 'Moor', 86),\n",
    "    ('Eddie', 'Williams', 91)\n",
    "    ]\n",
    "\n",
    "print(sorted_grades(grades))"
   ]
  },
  {
   "cell_type": "markdown",
   "metadata": {},
   "source": [
    "## 練習 13  尋找單字中重複最多次的字母\n",
    "\n",
    "影片：https://youtu.be/J48Am5fa27w"
   ]
  },
  {
   "cell_type": "code",
   "execution_count": null,
   "metadata": {},
   "outputs": [],
   "source": [
    "import operator\n",
    "\n",
    "def most_repeated_letter(word):\n",
    "    letters = list(set(word))\n",
    "    letters_count = []\n",
    "    for letter in letters:\n",
    "        letters_count.append((letter, word.count(letter)))\n",
    "    result = sorted(letters_count, key=operator.itemgetter(1))[-1]\n",
    "    print(f'{result[0]} 重複了 {result[1]} 次')\n",
    "\n",
    "most_repeated_letter('independence')"
   ]
  },
  {
   "cell_type": "markdown",
   "metadata": {},
   "source": [
    "## 練習 14  餐廳點餐機\n",
    "\n",
    "影片：https://youtu.be/wd8YQTFHLzM"
   ]
  },
  {
   "cell_type": "code",
   "execution_count": null,
   "metadata": {},
   "outputs": [],
   "source": [
    "menu = {\n",
    "    '三明治': 50,\n",
    "    '咖啡': 40,\n",
    "    '沙拉': 30\n",
    "    }\n",
    "\n",
    "def order_meal():\n",
    "    total = 0\n",
    "    while order := input('請點餐: '):\n",
    "        if order in menu:\n",
    "            price = menu[order]\n",
    "            total += price\n",
    "            print(f'{order} {price} 元, 總金額 {total}')\n",
    "        else:\n",
    "            print(f'抱歉! 我們沒有供應{order}')\n",
    "    print(f'您的帳單為 {total} 元')\n",
    "\n",
    "order_meal()"
   ]
  },
  {
   "cell_type": "markdown",
   "metadata": {},
   "source": [
    "## 練習 15   降雨量資料庫\n",
    "\n",
    "影片：https://youtu.be/plARvm3RQXM"
   ]
  },
  {
   "cell_type": "code",
   "execution_count": null,
   "metadata": {},
   "outputs": [],
   "source": [
    "def record_rainfall():\n",
    "    rainfall = {}\n",
    "    while True:\n",
    "        city_name = input('輸入城市: ')\n",
    "        if not city_name:\n",
    "            break\n",
    "        rain_mm = input('輸入雨量 (mm): ')\n",
    "        if not rain_mm:\n",
    "            rain_mm = 0\n",
    " \n",
    "        rainfall[city_name] = rainfall.get(city_name, 0) + int(rain_mm)\n",
    " \n",
    "    for city, rain in rainfall.items():\n",
    "        print(f'{city}: {rain} mm')\n",
    "\n",
    "record_rainfall()"
   ]
  },
  {
   "cell_type": "markdown",
   "metadata": {},
   "source": [
    "## 練習 16  有幾個不重複的數字?\n",
    "\n",
    "影片：https://youtu.be/iV_K14vT_ZQ"
   ]
  },
  {
   "cell_type": "code",
   "execution_count": null,
   "metadata": {},
   "outputs": [],
   "source": [
    "def unique_num_len(numbers):\n",
    "    return len(set(numbers))\n",
    "\n",
    "numbers = [1, 2, 3, 1, 2, 3, 4, 1, 2]\n",
    "print(unique_num_len(numbers))"
   ]
  },
  {
   "cell_type": "markdown",
   "metadata": {},
   "source": [
    "## 練習 17  比較兩個 dict 的差異\n",
    "\n",
    "影片：https://youtu.be/eQnHwmXlPq4"
   ]
  },
  {
   "cell_type": "code",
   "execution_count": null,
   "metadata": {},
   "outputs": [],
   "source": [
    "def dict_diff(first, second):\n",
    "    output = {}\n",
    "    all_keys = sorted(first.keys() | second.keys())\n",
    " \n",
    "    for key in all_keys:\n",
    "        if first.get(key) != second.get(key):\n",
    "            output[key] = [first.get(key), second.get(key)]\n",
    "    return output\n",
    "\n",
    "d1 = {'a': 1, 'b': 2, 'c': 3, 'd': 5}\n",
    "d2 = {'a': 1, 'b': 2, 'd': 4, 'e': 6}\n",
    "print(dict_diff(d1, d2))"
   ]
  },
  {
   "cell_type": "markdown",
   "metadata": {},
   "source": [
    "## 練習 18  讀出檔案最後一行字\n",
    "\n",
    "影片：https://youtu.be/GC5yQg2odqI"
   ]
  },
  {
   "cell_type": "code",
   "execution_count": null,
   "metadata": {},
   "outputs": [],
   "source": [
    "def read_final_line(filename):\n",
    "    f = open(filename, 'r')\n",
    "    for line in f:\n",
    "        pass\n",
    "    f.close()\n",
    "    return line\n",
    "\n",
    "print(read_final_line(r'.\\data\\login.log'))"
   ]
  },
  {
   "cell_type": "markdown",
   "metadata": {},
   "source": [
    "## 練習 19  擷取登入帳號資訊\n",
    "\n",
    "影片：https://youtu.be/zktvhCOJPX0"
   ]
  },
  {
   "cell_type": "code",
   "execution_count": null,
   "metadata": {},
   "outputs": [],
   "source": [
    "def passwd_to_dict(filename):\n",
    "    users = {}\n",
    "    with open(filename) as f:\n",
    "        for line in f:\n",
    "            user_info = line.split(':')\n",
    "            users.update({user_info[0]: user_info[2]})\n",
    "    return users\n",
    "\n",
    "print(passwd_to_dict(r'.\\data\\passwd.cfg'))"
   ]
  },
  {
   "cell_type": "markdown",
   "metadata": {},
   "source": [
    "## 練習 20  統計檔案的字元數、字數與行數\n",
    "\n",
    "影片：https://youtu.be/YCrV2_wO4Cc"
   ]
  },
  {
   "cell_type": "code",
   "execution_count": null,
   "metadata": {},
   "outputs": [],
   "source": [
    "def wordcount(filename):\n",
    "    result = {\n",
    "        'Characters': 0,\n",
    "        'Words': 0,\n",
    "        'Unique words': 0,\n",
    "        'Lines': 0,\n",
    "        }\n",
    "    unique_words = set()\n",
    " \n",
    "    with open(filename, 'r') as f:\n",
    "        for line in f:\n",
    "            words = line.split()\n",
    "            result['Lines'] += 1\n",
    "            result['Characters'] += len(line)\n",
    "            result['Words'] += len(words)\n",
    "            unique_words.update(words)\n",
    " \n",
    "        result['Unique words'] = len(unique_words)\n",
    " \n",
    "    for key, value in result.items():\n",
    "        print(f'{key}: {value}')\n",
    "\n",
    "wordcount(r'.\\data\\text.txt')"
   ]
  },
  {
   "cell_type": "markdown",
   "metadata": {},
   "source": [
    "## 練習 21  找出檔案內的最長單字"
   ]
  },
  {
   "cell_type": "code",
   "execution_count": null,
   "metadata": {},
   "outputs": [],
   "source": [
    "def find_longest_word(filename):\n",
    "    longest = ''\n",
    "    with open(filename, 'r') as f:\n",
    "        for line in f:\n",
    "            for word in line.replace('.', '').split():\n",
    "                if len(word) > len(longest):\n",
    "                    longest = word\n",
    "    return longest\n",
    "\n",
    "print(find_longest_word(r'.\\data\\text2.txt'))"
   ]
  },
  {
   "cell_type": "markdown",
   "metadata": {},
   "source": [
    "## 練習 22  讀寫 CSV 檔\n",
    "\n",
    "影片：https://youtu.be/bSA1llDhX1I"
   ]
  },
  {
   "cell_type": "code",
   "execution_count": null,
   "metadata": {},
   "outputs": [],
   "source": [
    "import csv\n",
    "\n",
    "def passwd_to_csv(passwd_filename, csv_filename):\n",
    "    with open(passwd_filename, 'r') as f_read, \\\n",
    "            open(csv_filename, 'w', newline='') as f_write:\n",
    "        csv_reader = csv.reader(f_read, delimiter=':')\n",
    "        csv_writer = csv.writer(f_write, delimiter='\\t', lineterminator='\\n')\n",
    "        for line in csv_reader:\n",
    "            csv_writer.writerow([line[0], line[2]])\n",
    "\n",
    "passwd_to_csv(r'.\\data\\passwd.cfg', r'.\\data\\passwd.csv')"
   ]
  },
  {
   "cell_type": "markdown",
   "metadata": {},
   "source": [
    "## 練習 23  讀取 JSON 檔\n",
    "\n",
    "影片：https://youtu.be/0jHBF9-V9G0"
   ]
  },
  {
   "cell_type": "code",
   "execution_count": null,
   "metadata": {},
   "outputs": [],
   "source": [
    "import json\n",
    "from collections import defaultdict\n",
    "\n",
    "def print_scores(filename):\n",
    "    with open(filename) as json_file:\n",
    "        record = json.load(json_file)\n",
    "        result = defaultdict(list)\n",
    " \n",
    "        print('班級:', record['class'])\n",
    "        for record in record['score']:\n",
    "            for subject, score in record.items():\n",
    "                result[subject].append(score)\n",
    " \n",
    "        for subject, scores in result.items():\n",
    "            print('科目:', subject)\n",
    "            print('\\t最高分:', max(scores))\n",
    "            print('\\t最低分:', min(scores))\n",
    "            print('\\t平均:', sum(scores) / len(scores))\n",
    "\n",
    "print_scores(r'.\\data\\score.json')"
   ]
  },
  {
   "cell_type": "markdown",
   "metadata": {},
   "source": [
    "## 練習 24  批次檔案讀取"
   ]
  },
  {
   "cell_type": "code",
   "execution_count": null,
   "metadata": {},
   "outputs": [],
   "source": [
    "import os, json\n",
    "from collections import defaultdict\n",
    "\n",
    "def print_scores(filename):\n",
    "    with open(filename) as json_file:\n",
    "        record = json.load(json_file)\n",
    "        result = defaultdict(list)\n",
    " \n",
    "        print('班級:', record['class'])\n",
    "        for record in record['score']:\n",
    "            for subject, score in record.items():\n",
    "                result[subject].append(score)\n",
    " \n",
    "        for subject, scores in result.items():\n",
    "            print('科目:', subject)\n",
    "            print('\\t最高分:', max(scores))\n",
    "            print('\\t最低分:', min(scores))\n",
    "            print('\\t平均:', sum(scores) / len(scores))\n",
    "\n",
    "def print_dir_scores(dirname):\n",
    "    for filename in os.listdir(dirname):\n",
    "        if filename.endswith('.json'):\n",
    "            print('讀取檔案: ', filename)\n",
    "            print_scores(os.path.join(dirname, filename))\n",
    "\n",
    "print_dir_scores(r'.\\data\\scores')"
   ]
  },
  {
   "cell_type": "markdown",
   "metadata": {},
   "source": [
    "## 練習 25  XML 產生器\n",
    "\n",
    "影片：https://youtu.be/cwm-UgM6oC4"
   ]
  },
  {
   "cell_type": "code",
   "execution_count": null,
   "metadata": {},
   "outputs": [],
   "source": [
    "def myxml(tag, content='', **kwargs):\n",
    "    attrs_list = []\n",
    "    for key, value in kwargs.items():\n",
    "        attrs_list.append(f' {key}=\"{value}\"')\n",
    "    attrs = ''.join(attrs_list)\n",
    "    return f'<{tag}{attrs}>{content}</{tag}>'\n",
    "\n",
    "print(myxml('foo', 'bar', a=1, b=2, c=3))"
   ]
  },
  {
   "cell_type": "markdown",
   "metadata": {},
   "source": [
    "## 練習 26  簡易前序式計算機\n",
    "\n",
    "影片：https://youtu.be/btf2V4oyYaE"
   ]
  },
  {
   "cell_type": "code",
   "execution_count": null,
   "metadata": {},
   "outputs": [],
   "source": [
    "import operator\n",
    "\n",
    "def prefix_cal(to_solve):\n",
    "    operation = {\n",
    "        '+': operator.add,\n",
    "        '-': operator.sub,\n",
    "        '*': operator.mul,\n",
    "        '/': operator.truediv,\n",
    "        }\n",
    "    op, num1, num2 = to_solve.split()\n",
    "    return operation[op](float(num1), float(num2))\n",
    "\n",
    "print(prefix_cal('+ 2 3'))"
   ]
  },
  {
   "cell_type": "markdown",
   "metadata": {},
   "source": [
    "## 練習 27  自訂密碼產生器\n",
    "\n",
    "影片：https://youtu.be/S6wIHzRhj8s"
   ]
  },
  {
   "cell_type": "code",
   "execution_count": null,
   "metadata": {},
   "outputs": [],
   "source": [
    "import random\n",
    "\n",
    "def set_password_source(source):\n",
    "    def password_gen(length):\n",
    "        output = []\n",
    "        for i in range(length):\n",
    "            output.append(random.choice(source))\n",
    "        return ''.join(output)\n",
    "    return password_gen\n",
    "\n",
    "my_password_gen = set_password_source('0123456789abcdefghij')\n",
    "print(my_password_gen(10))"
   ]
  },
  {
   "cell_type": "markdown",
   "metadata": {},
   "source": [
    "## 練習 28  輸出一組數字的絕對值"
   ]
  },
  {
   "cell_type": "code",
   "execution_count": null,
   "metadata": {},
   "outputs": [],
   "source": [
    "def abs_numbers(numbers):\n",
    "    # return [abs(x) for x in numbers]\n",
    "    return list(map(abs, numbers))\n",
    "\n",
    "print(abs_numbers([1, -2, 3, -4, 5]))"
   ]
  },
  {
   "cell_type": "markdown",
   "metadata": {},
   "source": [
    "## 練習 29  只加總資料中的數字\n",
    "\n",
    "影片：https://youtu.be/GXK_RHEdv_s"
   ]
  },
  {
   "cell_type": "code",
   "execution_count": null,
   "metadata": {},
   "outputs": [],
   "source": [
    "def sum_numbers(data):\n",
    "    return sum([int(d)\n",
    "                for d in data.split()\n",
    "                if d.isdigit()])\n",
    "\n",
    "print(sum_numbers('10 abc 20 de44 30 55fg 40'))"
   ]
  },
  {
   "cell_type": "markdown",
   "metadata": {},
   "source": [
    "## 練習 30  用巢狀生成式『壓平』二維 list\n",
    "\n",
    "影片：https://youtu.be/gYG9qZyIu0g"
   ]
  },
  {
   "cell_type": "code",
   "execution_count": null,
   "metadata": {},
   "outputs": [],
   "source": [
    "def flatten(data):\n",
    "    return [sub_element\n",
    "            for element in data\n",
    "                for sub_element in element]\n",
    "\n",
    "print(flatten([[1,2], [3,4]]))"
   ]
  },
  {
   "cell_type": "markdown",
   "metadata": {},
   "source": [
    "## 練習 31  豬拉丁文 --- 檔案翻譯機\n",
    "\n",
    "影片：https://youtu.be/0ui1zWaDSSU"
   ]
  },
  {
   "cell_type": "code",
   "execution_count": null,
   "metadata": {},
   "outputs": [],
   "source": [
    "def pl_word(word):\n",
    "    if word[0] in 'aeiou':\n",
    "        return f'{word}way'\n",
    "    return f'{word[1:]}{word[0]}ay'\n",
    "\n",
    "def pl_file(filename):\n",
    "    with open(filename, 'r') as f:\n",
    "        return ' '.join([pl_word(word.lower().replace('.', ''))\n",
    "                         for line in f\n",
    "                         for word in line.split()])\n",
    "\n",
    "print(pl_file(r'.\\data\\text2.txt'))"
   ]
  },
  {
   "cell_type": "markdown",
   "metadata": {},
   "source": [
    "## 練習 32  顛倒一個 dict 的鍵與值\n",
    "\n",
    "影片：https://youtu.be/DDAYafF7KmQ"
   ]
  },
  {
   "cell_type": "code",
   "execution_count": null,
   "metadata": {},
   "outputs": [],
   "source": [
    "def flipped_dict(input_dict):\n",
    "    return {value: key\n",
    "            for key, value in input_dict.items()}\n",
    "\n",
    "print(flipped_dict({'a': 1, 'b': 2, 'c': 3}))"
   ]
  },
  {
   "cell_type": "markdown",
   "metadata": {},
   "source": [
    "## 練習 33  擷取登入帳號資訊（生成版）"
   ]
  },
  {
   "cell_type": "code",
   "execution_count": null,
   "metadata": {},
   "outputs": [],
   "source": [
    "def passwd_to_dict_2(filename):\n",
    "    with open(filename) as f:\n",
    "        d = {words[0]: words[2]\n",
    "             for words\n",
    "             in [line.split(':') for line in f]}\n",
    "    return d\n",
    "\n",
    "print(passwd_to_dict_2(r'.\\data\\passwd.cfg'))"
   ]
  },
  {
   "cell_type": "markdown",
   "metadata": {},
   "source": [
    "## 練習 34  過濾檔案中特定條件的單字"
   ]
  },
  {
   "cell_type": "code",
   "execution_count": null,
   "metadata": {},
   "outputs": [],
   "source": [
    "def word_filter(filename):\n",
    "    vowels = {'a', 'e', 'i', 'o', 'u'}\n",
    "    with open(filename, 'r') as f:\n",
    "        words = ([word.replace('.', '')\n",
    "                  for line in f\n",
    "                      for word in line.split()\n",
    "                      if len(set(word) & vowels) >= 3])\n",
    "    return words\n",
    "\n",
    "print(word_filter(r'.\\data\\text2.txt'))"
   ]
  },
  {
   "cell_type": "markdown",
   "metadata": {},
   "source": [
    "## 練習 35  希伯來數字密碼（Part I + Part II）\n",
    "\n",
    "影片：\n",
    "* https://youtu.be/aBqi0HhBdiA\n",
    "* https://youtu.be/852LFBEK0BI"
   ]
  },
  {
   "cell_type": "code",
   "execution_count": null,
   "metadata": {},
   "outputs": [],
   "source": [
    "import string\n",
    "\n",
    "def gematria_dict():\n",
    "    return {char: index\n",
    "            for index, char\n",
    "            in enumerate(string.ascii_lowercase, 1)}\n",
    "\n",
    "GEMATRIA = gematria_dict()\n",
    "\n",
    "def gematria_value(word):\n",
    "    return sum(GEMATRIA[char]\n",
    "               for char in word.lower()\n",
    "               if char in GEMATRIA)\n",
    "\n",
    "def gematria_equal_words(input_word, filename):\n",
    "    input_value = gematria_value(input_word)\n",
    "    with open(filename, 'r', encoding='utf-8') as f:\n",
    "        return [word\n",
    "                for line in f\n",
    "                for word in line.lower().split()\n",
    "                if input_value == gematria_value(word)]\n",
    "\n",
    "print(gematria_equal_words('programming', r'.\\data\\book.txt'))"
   ]
  },
  {
   "cell_type": "markdown",
   "metadata": {},
   "source": [
    "## 練習 36  所得稅計算模組\n",
    "\n",
    "影片：https://youtu.be/dGwEEiXqIQY\n",
    "\n",
    "```python\n",
    "# 以下為模組 \\data\\income_tax.py 的內容：\n",
    "\n",
    "TAX_RATE = {\n",
    "    0: 0.1,\n",
    "    10000: 0.2,\n",
    "    50000: 0.3,\n",
    "    100000: 0.4,\n",
    "    500000: 0.5\n",
    "    }\n",
    "\n",
    "def find_tax_rage(amount):\n",
    "    result = 0.0\n",
    "    for income, rate in TAX_RATE.items():\n",
    "        if amount >= income:\n",
    "            result = rate\n",
    "    return result\n",
    "\n",
    "def calculate_tax(amount):\n",
    "    return amount * find_tax_rage(amount)\n",
    "```"
   ]
  },
  {
   "cell_type": "code",
   "execution_count": null,
   "metadata": {},
   "outputs": [],
   "source": [
    "# 匯入 \\data 下的模組\n",
    "\n",
    "import sys\n",
    "sys.path.append(r'.\\data')\n",
    "\n",
    "# 主程式\n",
    "\n",
    "from income_tax import calculate_tax\n",
    "\n",
    "print(calculate_tax(77000))"
   ]
  },
  {
   "cell_type": "markdown",
   "metadata": {},
   "source": [
    "## 練習 37  函式選單模組\n",
    "\n",
    "影片：https://youtu.be/Xe-HKd32DtY\n",
    "\n",
    "```python\n",
    "# 以下為 \\data\\menu.py 檔的內容：\n",
    "\n",
    "def menu(**options):\n",
    "    def menu_selector():\n",
    "        option_string = '/'.join(options)\n",
    "        while True:\n",
    "            choice = input(f'選擇項目 ({option_string}): ')\n",
    "            if choice in options:\n",
    "                return options[choice]\n",
    "                break\n",
    "            print('選項不存在!')\n",
    "    return menu_selector\n",
    "```"
   ]
  },
  {
   "cell_type": "code",
   "execution_count": null,
   "metadata": {},
   "outputs": [],
   "source": [
    "# 匯入 \\data 下的模組\n",
    "\n",
    "import sys\n",
    "sys.path.append(r'.\\data')\n",
    "\n",
    "# 主程式\n",
    "\n",
    "from menu import menu\n",
    "\n",
    "def func_a():\n",
    "    return '執行函式 A'\n",
    "\n",
    "def func_b():\n",
    "    return '執行函式 B'\n",
    "\n",
    "def func_x():\n",
    "    return '執行函式 X'\n",
    "\n",
    "my_menu = menu(a=func_a, b=func_b, x=func_x)\n",
    "\n",
    "func = my_menu()\n",
    "print(func())"
   ]
  },
  {
   "cell_type": "markdown",
   "metadata": {},
   "source": [
    "## 練習 38  冰淇淋球\n",
    "\n",
    "影片：https://youtu.be/uAItLgO0hCc"
   ]
  },
  {
   "cell_type": "code",
   "execution_count": null,
   "metadata": {},
   "outputs": [],
   "source": [
    "class Scoop:\n",
    "    def __init__(self, flavor):\n",
    "        self.flavor = flavor\n",
    "\n",
    "class Scoop_Maker:\n",
    "    def create(self, flavors):\n",
    "        return [Scoop(flavor) for flavor in flavors]\n",
    "\n",
    "scoop_maker = Scoop_Maker()\n",
    "scoops = scoop_maker.create(['巧克力', '香草', '薄荷'])\n",
    "\n",
    "for scoop in scoops:\n",
    "    print(scoop, scoop.flavor)"
   ]
  },
  {
   "cell_type": "markdown",
   "metadata": {},
   "source": [
    "## 練習 39  冰淇淋碗\n",
    "\n",
    "影片：https://youtu.be/PevJYLbs4vk"
   ]
  },
  {
   "cell_type": "code",
   "execution_count": null,
   "metadata": {},
   "outputs": [],
   "source": [
    "class Scoop():\n",
    "    def __init__(self, flavor):\n",
    "        self.flavor = flavor\n",
    "\n",
    "class Bowl():\n",
    "    def __init__(self):\n",
    "        self.scoops = []\n",
    "    \n",
    "    def add_scoop(self, *new_scoops):\n",
    "        for new_scoop in new_scoops:\n",
    "            self.scoops.append(new_scoop)\n",
    "    \n",
    "    def flavors(self):\n",
    "        return '/'.join(scoop.flavor\n",
    "                        for scoop in self.scoops)\n",
    "\n",
    "bowl = Bowl()\n",
    "bowl.add_scoop(Scoop('巧克力'))\n",
    "bowl.add_scoop(Scoop('香草'), Scoop('薄荷'))\n",
    "\n",
    "print(bowl.flavors())"
   ]
  },
  {
   "cell_type": "markdown",
   "metadata": {},
   "source": [
    "## 練習 40  類別屬性：冰淇淋碗上限\n",
    "\n",
    "影片：https://youtu.be/HTUbvK7Vlbs"
   ]
  },
  {
   "cell_type": "code",
   "execution_count": null,
   "metadata": {},
   "outputs": [],
   "source": [
    "class Scoop:\n",
    "    def __init__(self, flavor):\n",
    "        self.flavor = flavor\n",
    "        \n",
    "    def __repr__(self):\n",
    "        return f'Scoop({self.flavor})'\n",
    "\n",
    "class Bowl:\n",
    "    max_scoops = 3\n",
    "    \n",
    "    def __init__(self):\n",
    "        self.scoops = []\n",
    "    \n",
    "    def add_scoop(self, *new_scoops):\n",
    "        for new_scoop in new_scoops:\n",
    "            if len(self.scoops) < self.max_scoops:\n",
    "                self.scoops.append(new_scoop)\n",
    "    \n",
    "    def __repr__(self):\n",
    "        return f'Bowl(scoops={self.scoops}'\n",
    "\n",
    "bowl = Bowl()\n",
    "bowl.add_scoop(Scoop('巧克力'))\n",
    "bowl.add_scoop(Scoop('香草'), Scoop('薄荷'))\n",
    "bowl.add_scoop(Scoop('焦糖'), Scoop('抹茶'))\n",
    "\n",
    "print(bowl)"
   ]
  },
  {
   "cell_type": "markdown",
   "metadata": {},
   "source": [
    "## 練習 41  特大碗冰淇淋\n",
    "\n",
    "影片：https://youtu.be/q7XO4knadH4"
   ]
  },
  {
   "cell_type": "code",
   "execution_count": null,
   "metadata": {},
   "outputs": [],
   "source": [
    "class Scoop:\n",
    "    def __init__(self, flavor):\n",
    "        self.flavor = flavor\n",
    "        \n",
    "    def __repr__(self):\n",
    "        return f'Scoop({self.flavor})'\n",
    "\n",
    "class Bowl:\n",
    "    max_scoops = 3\n",
    "    \n",
    "    def __init__(self):\n",
    "        self.scoops = []\n",
    "    \n",
    "    def add_scoop(self, *new_scoops):\n",
    "        for new_scoop in new_scoops:\n",
    "            if len(self.scoops) < self.max_scoops:\n",
    "                self.scoops.append(new_scoop)\n",
    "    \n",
    "    def __repr__(self):\n",
    "        return f'Bowl(scoops={self.scoops}'\n",
    "\n",
    "class ExtraBowl(Bowl):\n",
    "    max_scoops = 5\n",
    "    \n",
    "\n",
    "bowl = ExtraBowl()\n",
    "bowl.add_scoop(Scoop('巧克力'))\n",
    "bowl.add_scoop(Scoop('香草'), Scoop('薄荷'))\n",
    "bowl.add_scoop(Scoop('焦糖'), Scoop('抹茶'))\n",
    "\n",
    "print(bowl)"
   ]
  },
  {
   "cell_type": "markdown",
   "metadata": {},
   "source": [
    "## 練習 42  以字串為鍵的自訂 dict\n",
    "\n",
    "影片：https://youtu.be/OSkaqQ5Ukg4"
   ]
  },
  {
   "cell_type": "code",
   "execution_count": null,
   "metadata": {},
   "outputs": [],
   "source": [
    "class StrDict(dict):\n",
    "    def __setitem__(self, key, value):\n",
    "        dict.__setitem__(self, str(key), value)\n",
    "    \n",
    "    def __getitem__(self, key):\n",
    "        if not str(key) in self:\n",
    "            self[key] = None\n",
    "        return dict.__getitem__(self, str(key))\n",
    "\n",
    "sd = StrDict()\n",
    "sd[1] = 1\n",
    "sd[3.14] = 3.14\n",
    "sd['10'] = 'test'\n",
    "\n",
    "print(sd[1])\n",
    "print(sd['3.14'])\n",
    "print(sd[10])\n",
    "print(sd['a'])\n",
    "print(sd)"
   ]
  },
  {
   "cell_type": "markdown",
   "metadata": {},
   "source": [
    "## 練習 43  動物類別\n",
    "\n",
    "影片：https://youtu.be/or0UPz7QL8U"
   ]
  },
  {
   "cell_type": "code",
   "execution_count": null,
   "metadata": {},
   "outputs": [],
   "source": [
    "class Animal:\n",
    "    def __init__(self, color, leg_num):\n",
    "        self.species = self.__class__.__name__\n",
    "        self.color = color\n",
    "        self.leg_num = leg_num\n",
    "    \n",
    "    def __repr__(self):\n",
    "        return f'{self.species}(color={self.color!r}, leg_num={self.leg_num})'\n",
    "\n",
    "class Elephant(Animal):\n",
    "    def __init__(self, color):\n",
    "        super().__init__(color, 4)\n",
    "\n",
    "class Zebra(Animal):\n",
    "    def __init__(self, color):\n",
    "        super().__init__(color, 4)\n",
    "\n",
    "class Snake(Animal):\n",
    "    def __init__(self, color):\n",
    "        super().__init__(color, 0)\n",
    "\n",
    "class Parrot(Animal):\n",
    "    def __init__(self, color):\n",
    "        super().__init__(color, 2)\n",
    "\n",
    "elephant = Elephant('灰')\n",
    "zebra = Zebra('黑白')\n",
    "snake = Snake('綠')\n",
    "parrot = Parrot('灰')\n",
    "\n",
    "print(elephant)\n",
    "print(zebra)\n",
    "print(snake)\n",
    "print(parrot)"
   ]
  },
  {
   "cell_type": "markdown",
   "metadata": {},
   "source": [
    "## 練習 44  動物展示區類別\n",
    "\n",
    "影片：https://youtu.be/6dBzsZUZOy8"
   ]
  },
  {
   "cell_type": "code",
   "execution_count": null,
   "metadata": {},
   "outputs": [],
   "source": [
    "class Animal():\n",
    "    def __init__(self, color, leg_num):\n",
    "        self.species = self.__class__.__name__\n",
    "        self.color = color\n",
    "        self.leg_num = leg_num\n",
    "    \n",
    "    def __repr__(self):\n",
    "        return f'{self.color}色 {self.species} ({self.leg_num} 條腿)'\n",
    "\n",
    "class Elephant(Animal):\n",
    "    def __init__(self, color):\n",
    "        super().__init__(color, 4)\n",
    "\n",
    "class Zebra(Animal):\n",
    "    def __init__(self, color):\n",
    "        super().__init__(color, 4)\n",
    "\n",
    "class Snake(Animal):\n",
    "    def __init__(self, color):\n",
    "        super().__init__(color, 0)\n",
    "\n",
    "class Parrot(Animal):\n",
    "    def __init__(self, color):\n",
    "        super().__init__(color, 2)\n",
    "\n",
    "class Exhibit():\n",
    "    def __init__(self, id_num):\n",
    "        self.id_num = id_num\n",
    "        self.animals = []\n",
    "    \n",
    "    def add_animals(self, *new_animals):\n",
    "        for animal in new_animals:\n",
    "            self.animals.append(animal)\n",
    "    \n",
    "    def __repr__(self):\n",
    "        return f'展示區編號 {self.id_num}: ' + \\\n",
    "               f'{\", \".join([str(animal) for animal in self.animals])}'\n",
    "\n",
    "ex1 = Exhibit(1)\n",
    "ex2 = Exhibit(2)\n",
    "\n",
    "ex1.add_animals(Elephant('灰'), Zebra('黑白'))\n",
    "ex2.add_animals(Snake('綠'), Parrot('灰'))\n",
    "\n",
    "print(ex1)\n",
    "print(ex2)"
   ]
  },
  {
   "cell_type": "markdown",
   "metadata": {},
   "source": [
    "## 練習 45  動物園類別\n",
    "\n",
    "影片：https://youtu.be/44vHQ5l4u3s"
   ]
  },
  {
   "cell_type": "code",
   "execution_count": null,
   "metadata": {},
   "outputs": [],
   "source": [
    "class Animal():\n",
    "    def __init__(self, color, leg_num):\n",
    "        self.species = self.__class__.__name__\n",
    "        self.color = color\n",
    "        self.leg_num = leg_num\n",
    "    \n",
    "    def __repr__(self):\n",
    "        return f'{self.color}色 {self.species} ({self.leg_num} 條腿)'\n",
    "\n",
    "class Elephant(Animal):\n",
    "    def __init__(self, color):\n",
    "        super().__init__(color, 4)\n",
    "\n",
    "class Zebra(Animal):\n",
    "    def __init__(self, color):\n",
    "        super().__init__(color, 4)\n",
    "\n",
    "class Snake(Animal):\n",
    "    def __init__(self, color):\n",
    "        super().__init__(color, 0)\n",
    "\n",
    "class Parrot(Animal):\n",
    "    def __init__(self, color):\n",
    "        super().__init__(color, 2)\n",
    "\n",
    "class Exhibit():\n",
    "    def __init__(self, id_num):\n",
    "        self.id_num = id_num\n",
    "        self.animals = []\n",
    "        \n",
    "    def add_animals(self, *new_animals):\n",
    "        for animal in new_animals:\n",
    "            self.animals.append(animal)\n",
    "    \n",
    "    def __repr__(self):\n",
    "        return f'展示區編號 {self.id_num}: ' + \\\n",
    "               f'{\", \".join([str(animal) for animal in self.animals])}'\n",
    "\n",
    "class Zoo():\n",
    "    def __init__(self):\n",
    "        self.exhibits = []\n",
    "    \n",
    "    def add_exhibits(self, *new_exhibits):\n",
    "        for exhibit in new_exhibits:\n",
    "            self.exhibits.append(exhibit)\n",
    "    \n",
    "    def __repr__(self):\n",
    "        return '動物園:\\n' + \\\n",
    "                   '\\n'.join([str(exhibit)\n",
    "                              for exhibit in self.exhibits])\n",
    "    \n",
    "    def animals_by_color(self, color):\n",
    "        return [animal\n",
    "                for exhibit in self.exhibits\n",
    "                for animal in exhibit.animals\n",
    "                if animal.color == color]\n",
    "    \n",
    "    def animal_by_leg_num(self, leg_num):\n",
    "        return [animal\n",
    "                for exhibit in self.exhibits\n",
    "                for animal in exhibit.animals\n",
    "                if animal.leg_num == leg_num]\n",
    "    \n",
    "    def animal_total_leg_num(self):\n",
    "        return sum([animal.leg_num\n",
    "                    for exhibit in self.exhibits\n",
    "                    for animal in exhibit.animals])\n",
    "\n",
    "zoo = Zoo()\n",
    "ex1 = Exhibit(1)\n",
    "ex2 = Exhibit(2)\n",
    "\n",
    "ex1.add_animals(Elephant('灰'), Zebra('黑白'))\n",
    "ex2.add_animals(Snake('綠'), Parrot('灰'))\n",
    "zoo.add_exhibits(ex1, ex2)\n",
    "\n",
    "print(zoo)\n",
    "print('灰色動物:', zoo.animals_by_color('灰'))\n",
    "print('4 條腿動物:', zoo.animal_by_leg_num(4))\n",
    "print('腿的總數:', zoo.animal_total_leg_num())"
   ]
  },
  {
   "cell_type": "markdown",
   "metadata": {},
   "source": [
    "## 練習 46  自訂列舉容器\n",
    "\n",
    "影片：https://youtu.be/8p5CMpWh1KM"
   ]
  },
  {
   "cell_type": "code",
   "execution_count": null,
   "metadata": {},
   "outputs": [],
   "source": [
    "\n",
    "class MyEnumerate:\n",
    "    def __init__(self, data):\n",
    "        self.data = data\n",
    "        self.index = 0\n",
    "    \n",
    "    def __iter__(self):\n",
    "        return self\n",
    "    \n",
    "    def __next__(self):\n",
    "        if self.index >= len(self.data):\n",
    "            raise StopIteration\n",
    "        value = (self.index, self.data[self.index])\n",
    "        self.index += 1\n",
    "        return value\n",
    "\n",
    "myEnum = MyEnumerate('abcde')\n",
    "for index, letter in myEnum:\n",
    "    print(f'{index} -> {letter}')"
   ]
  },
  {
   "cell_type": "markdown",
   "metadata": {},
   "source": [
    "## 練習 47  循環取值器\n",
    "\n",
    "影片：https://youtu.be/4GLb_bYC9wA"
   ]
  },
  {
   "cell_type": "code",
   "execution_count": null,
   "metadata": {},
   "outputs": [],
   "source": [
    "class CycleIterator():\n",
    "    def __init__(self, data, max_times):\n",
    "        self.data = data\n",
    "        self.max_times = max_times\n",
    "        self.index = 0\n",
    "\n",
    "    def __next__(self):\n",
    "        if self.index >= self.max_times:\n",
    "            raise StopIteration\n",
    "        value = self.data[self.index % len(self.data)]\n",
    "        self.index += 1\n",
    "        return value\n",
    "\n",
    "class CycleList():\n",
    "    def __init__(self, data, max_times):\n",
    "        self.data = data\n",
    "        self.max_times = max_times\n",
    "\n",
    "    def __iter__(self):\n",
    "        return CycleIterator(self.data, self.max_times)\n",
    "\n",
    "clist = CycleList(['a', 'b', 'c'], 5)\n",
    "for c in clist:\n",
    "    print(c)"
   ]
  },
  {
   "cell_type": "markdown",
   "metadata": {},
   "source": [
    "## 練習 48  檔案單字產生器"
   ]
  },
  {
   "cell_type": "code",
   "execution_count": null,
   "metadata": {},
   "outputs": [],
   "source": [
    "def word_generator(filename, max_words):\n",
    "    index = 0\n",
    "    with open(filename, 'r') as file:\n",
    "        for line in file:\n",
    "            for word in line.split():\n",
    "                if index >= max_words:\n",
    "                    return\n",
    "                yield word.replace('.', '')\n",
    "                index += 1\n",
    "\n",
    "ten_words = word_generator(r'.\\data\\text2.txt', 10)\n",
    "\n",
    "for word in ten_words:\n",
    "    print(word)"
   ]
  },
  {
   "cell_type": "markdown",
   "metadata": {},
   "source": [
    "## 練習 49  產生器運算式"
   ]
  },
  {
   "cell_type": "code",
   "execution_count": null,
   "metadata": {},
   "outputs": [],
   "source": [
    "def num_generator(num):\n",
    "    return (int(digit) for digit in str(num) if digit.isnumeric())\n",
    "\n",
    "numbers = num_generator(3.14159)\n",
    "\n",
    "for num in numbers:\n",
    "    print(num)"
   ]
  },
  {
   "cell_type": "markdown",
   "metadata": {},
   "source": [
    "## 練習 50  能計算時間長度的產生器\n",
    "\n",
    "影片：https://youtu.be/qof3fxYBn8U"
   ]
  },
  {
   "cell_type": "code",
   "execution_count": null,
   "metadata": {},
   "outputs": [],
   "source": [
    "import time, random\n",
    "\n",
    "def elapsed_time_gen():\n",
    "    last_time = time.perf_counter()\n",
    "    while True:\n",
    "        now = time.perf_counter()\n",
    "        yield now - last_time\n",
    "        last_time = now\n",
    "\n",
    "elapsed_time = elapsed_time_gen()\n",
    "\n",
    "for _ in range(5):\n",
    "    time.sleep(random.randint(1, 10) / 10)\n",
    "    print(next(elapsed_time))"
   ]
  },
  {
   "cell_type": "markdown",
   "metadata": {},
   "source": [
    "## 附錄 A-1"
   ]
  },
  {
   "cell_type": "code",
   "execution_count": null,
   "metadata": {},
   "outputs": [],
   "source": [
    "def sum_of_two(data, k):\n",
    "    for a_index, a_value in enumerate(data):\n",
    "        for b_index, b_value in enumerate(data):\n",
    "            if a_index != b_index and a_value + b_value == k:\n",
    "                return [a_index, b_index]\n",
    "    return []\n",
    "\n",
    "print(sum_of_two([2, 7, 11, 15], 9))"
   ]
  },
  {
   "cell_type": "markdown",
   "metadata": {},
   "source": [
    "## 附錄 A-2"
   ]
  },
  {
   "cell_type": "code",
   "execution_count": null,
   "metadata": {},
   "outputs": [],
   "source": [
    "def find_majority_num(data):\n",
    "    counter = [(data.count(i), i) for i in set(data)]\n",
    "    return sorted(counter, reverse=True)[0][1]\n",
    "    \"\"\"\n",
    "    import statistics\n",
    "    return statistics.mode(data)\n",
    "    \"\"\"\n",
    "\n",
    "print(find_majority_num([1, 2, 2, 3, 2, 3, 1]))"
   ]
  },
  {
   "cell_type": "markdown",
   "metadata": {},
   "source": [
    "## 附錄 A-3"
   ]
  },
  {
   "cell_type": "code",
   "execution_count": null,
   "metadata": {},
   "outputs": [],
   "source": [
    "def find_missing_nums(data):\n",
    "    all_data = set(range(1, len(data) + 1))\n",
    "    return list(all_data - set(data))\n",
    "\n",
    "print(find_missing_nums([1, 2, 8, 5, 1, 6, 4, 9, 5]))"
   ]
  },
  {
   "cell_type": "markdown",
   "metadata": {},
   "source": [
    "## 附錄 A-4"
   ]
  },
  {
   "cell_type": "code",
   "execution_count": null,
   "metadata": {},
   "outputs": [],
   "source": [
    "class Stack():\n",
    "    def __init__(this):\n",
    "        this.data = []\n",
    " \n",
    "    def push(this, x):\n",
    "        this.data.append(x)\n",
    " \n",
    "    def pop(this):\n",
    "        if this.data:\n",
    "            return this.data.pop()\n",
    " \n",
    "    def top(this):\n",
    "        return this.data[-1]\n",
    " \n",
    "    def min_num(this):\n",
    "        return min(this.data)\n",
    "\n",
    "    def max_num(this):\n",
    "        return max(this.data)\n",
    "\n",
    "stack = Stack()\n",
    "stack.push(3)\n",
    "stack.push(2)\n",
    "stack.push(8)\n",
    "stack.push(6)\n",
    "stack.push(5)\n",
    "print(stack.pop())\n",
    "print(stack.top())\n",
    "print(stack.min_num())\n",
    "print(stack.max_num())"
   ]
  },
  {
   "cell_type": "markdown",
   "metadata": {},
   "source": [
    "## 附錄 A-5"
   ]
  },
  {
   "cell_type": "code",
   "execution_count": null,
   "metadata": {},
   "outputs": [],
   "source": [
    "def are_brackets_valid(s):\n",
    "    brackets = {'(': ')', '[': ']', '{': '}'}\n",
    "    stack = []\n",
    " \n",
    "    for b in s:\n",
    "        if b in brackets:\n",
    "            stack.append(brackets[b])\n",
    "        else:\n",
    "            if not (stack and b == stack.pop()):\n",
    "                return False\n",
    "    return True if not stack else False\n",
    "\n",
    "print(are_brackets_valid('[()]'))"
   ]
  },
  {
   "cell_type": "markdown",
   "metadata": {},
   "source": [
    "## 附錄 A-6"
   ]
  },
  {
   "cell_type": "code",
   "execution_count": null,
   "metadata": {},
   "outputs": [],
   "source": [
    "def zeroes_to_the_end(data):\n",
    "    for _ in range(data.count(0)):\n",
    "        idx = data.index(0)\n",
    "        data = data[:idx] + data[idx+1:] + data[idx:idx+1]\n",
    "    return data\n",
    "\n",
    "print(zeroes_to_the_end([2, 3, 0, 1, 0, 5]))"
   ]
  },
  {
   "cell_type": "markdown",
   "metadata": {},
   "source": [
    "## 附錄 A-7"
   ]
  },
  {
   "cell_type": "code",
   "execution_count": null,
   "metadata": {},
   "outputs": [],
   "source": [
    "def find_common_prefix(strs):\n",
    "    prefix = []\n",
    "    for c in zip(*strs):\n",
    "        if len(set(c)) == 1:\n",
    "            prefix.append(c[0])\n",
    "        else:\n",
    "             break\n",
    "    return ''.join(prefix)\n",
    "\n",
    "print(find_common_prefix(['expensive', 'export', 'experience']))"
   ]
  },
  {
   "cell_type": "markdown",
   "metadata": {},
   "source": [
    "## 附錄 A-8"
   ]
  },
  {
   "cell_type": "code",
   "execution_count": null,
   "metadata": {},
   "outputs": [],
   "source": [
    "def reverse_num_digits(x):\n",
    "    answer = int(str(abs(x))[::-1]) * (1 if x >= 0 else -1)\n",
    "    return answer\n",
    "\n",
    "print(reverse_num_digits(-123))"
   ]
  },
  {
   "cell_type": "markdown",
   "metadata": {},
   "source": [
    "## 附錄 A-9"
   ]
  },
  {
   "cell_type": "code",
   "execution_count": null,
   "metadata": {},
   "outputs": [],
   "source": [
    "def reverse_binary(n):\n",
    "    binary = f'{n:08b}'\n",
    "    return int(binary[::-1], 2)\n",
    "\n",
    "print(reverse_binary(121))"
   ]
  },
  {
   "cell_type": "markdown",
   "metadata": {},
   "source": [
    "## 附錄 A-10"
   ]
  },
  {
   "cell_type": "code",
   "execution_count": null,
   "metadata": {},
   "outputs": [],
   "source": [
    "def roman_num_to_int(s):\n",
    "    roman = {\n",
    "        'I': 1,\n",
    "        'V': 5,\n",
    "        'X': 10,\n",
    "        'L': 50,\n",
    "        'C': 100,\n",
    "        'D': 500,\n",
    "        'M': 1000,\n",
    "    }\n",
    "    roman_special = {\n",
    "        'IV': -2,\n",
    "        'IX': -2,\n",
    "        'XL': -20,\n",
    "        'XC': -20,\n",
    "        'CD': -200,\n",
    "        'CM': -200,\n",
    "    }\n",
    "    normal_value = sum([roman[c] for c in s if c in roman])\n",
    "    special_value = sum([value for key, value in roman_special.items() if key in s])\n",
    "    return normal_value + special_value\n",
    "\n",
    "print(roman_num_to_int('MMCDXIX'))"
   ]
  }
 ],
 "metadata": {
  "kernelspec": {
   "display_name": "Python 3",
   "language": "python",
   "name": "python3"
  },
  "language_info": {
   "codemirror_mode": {
    "name": "ipython",
    "version": 3
   },
   "file_extension": ".py",
   "mimetype": "text/x-python",
   "name": "python",
   "nbconvert_exporter": "python",
   "pygments_lexer": "ipython3",
   "version": "3.8.3"
  }
 },
 "nbformat": 4,
 "nbformat_minor": 4
}
