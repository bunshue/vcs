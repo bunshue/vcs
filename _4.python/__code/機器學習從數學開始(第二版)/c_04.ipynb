{
 "cells": [
  {
   "cell_type": "code",
   "execution_count": 3,
   "metadata": {
    "collapsed": false
   },
   "outputs": [],
   "source": [
    "from sklearn.feature_extraction.text import TfidfVectorizer, CountVectorizer\n",
    "import pandas as pd\n",
    "\n",
    "text =[\"小贝来到北京清华大学\", \n",
    "        \"小花来到了网易杭研大厦\",   \n",
    "        \"小明硕士毕业于中国科学院\",\n",
    "        \"小明爱北京小明爱北京天安门\"\n",
    "]\n",
    "               \n",
    "corpus=[\"小贝 来到 北京 清华大学\", \n",
    "        \"小花 来到 了 网易 杭研 大厦\",   \n",
    "        \"小明 硕士 毕业 于 中国 科学院\",\n",
    "        \"小明 爱 北京 小明 爱 北京 天安门\"\n",
    "]"
   ]
  },
  {
   "cell_type": "markdown",
   "metadata": {},
   "source": [
    "## 二值化、词频"
   ]
  },
  {
   "cell_type": "code",
   "execution_count": 22,
   "metadata": {
    "collapsed": false,
    "scrolled": true
   },
   "outputs": [
    {
     "name": "stdout",
     "output_type": "stream",
     "text": [
      "中国\n",
      "北京\n",
      "大厦\n",
      "天安门\n",
      "小明\n",
      "小花\n",
      "小贝\n",
      "来到\n",
      "杭研\n",
      "毕业\n",
      "清华大学\n",
      "硕士\n",
      "科学院\n",
      "网易\n",
      "14\n"
     ]
    }
   ],
   "source": [
    "vectorizer = CountVectorizer(min_df=1,binary=True) #Transformer\n",
    "data = vectorizer.fit_transform(corpus)\n",
    "features = vectorizer.get_feature_names()\n",
    "for word in features:\n",
    "    print(word)\n",
    "print(len(features))"
   ]
  },
  {
   "cell_type": "code",
   "execution_count": 19,
   "metadata": {
    "collapsed": false
   },
   "outputs": [
    {
     "data": {
      "text/plain": [
       "matrix([[0, 1, 0, 0, 0, 0, 1, 1, 0, 0, 1, 0, 0, 0],\n",
       "        [0, 0, 1, 0, 0, 1, 0, 1, 1, 0, 0, 0, 0, 1],\n",
       "        [1, 0, 0, 0, 1, 0, 0, 0, 0, 1, 0, 1, 1, 0],\n",
       "        [0, 2, 0, 1, 2, 0, 0, 0, 0, 0, 0, 0, 0, 0]], dtype=int64)"
      ]
     },
     "execution_count": 19,
     "metadata": {},
     "output_type": "execute_result"
    }
   ],
   "source": [
    "data.todense()"
   ]
  },
  {
   "cell_type": "code",
   "execution_count": 23,
   "metadata": {
    "collapsed": false
   },
   "outputs": [],
   "source": [
    "doc_df = pd.DataFrame(data.toarray(), index=text, columns=vectorizer.get_feature_names()).head(10)"
   ]
  },
  {
   "cell_type": "code",
   "execution_count": 24,
   "metadata": {
    "collapsed": false
   },
   "outputs": [
    {
     "data": {
      "text/html": [
       "<div>\n",
       "<table border=\"1\" class=\"dataframe\">\n",
       "  <thead>\n",
       "    <tr style=\"text-align: right;\">\n",
       "      <th></th>\n",
       "      <th>中国</th>\n",
       "      <th>北京</th>\n",
       "      <th>大厦</th>\n",
       "      <th>天安门</th>\n",
       "      <th>小明</th>\n",
       "      <th>小花</th>\n",
       "      <th>小贝</th>\n",
       "      <th>来到</th>\n",
       "      <th>杭研</th>\n",
       "      <th>毕业</th>\n",
       "      <th>清华大学</th>\n",
       "      <th>硕士</th>\n",
       "      <th>科学院</th>\n",
       "      <th>网易</th>\n",
       "    </tr>\n",
       "  </thead>\n",
       "  <tbody>\n",
       "    <tr>\n",
       "      <th>小贝来到北京清华大学</th>\n",
       "      <td>0</td>\n",
       "      <td>1</td>\n",
       "      <td>0</td>\n",
       "      <td>0</td>\n",
       "      <td>0</td>\n",
       "      <td>0</td>\n",
       "      <td>1</td>\n",
       "      <td>1</td>\n",
       "      <td>0</td>\n",
       "      <td>0</td>\n",
       "      <td>1</td>\n",
       "      <td>0</td>\n",
       "      <td>0</td>\n",
       "      <td>0</td>\n",
       "    </tr>\n",
       "    <tr>\n",
       "      <th>小花来到了网易杭研大厦</th>\n",
       "      <td>0</td>\n",
       "      <td>0</td>\n",
       "      <td>1</td>\n",
       "      <td>0</td>\n",
       "      <td>0</td>\n",
       "      <td>1</td>\n",
       "      <td>0</td>\n",
       "      <td>1</td>\n",
       "      <td>1</td>\n",
       "      <td>0</td>\n",
       "      <td>0</td>\n",
       "      <td>0</td>\n",
       "      <td>0</td>\n",
       "      <td>1</td>\n",
       "    </tr>\n",
       "    <tr>\n",
       "      <th>小明硕士毕业于中国科学院</th>\n",
       "      <td>1</td>\n",
       "      <td>0</td>\n",
       "      <td>0</td>\n",
       "      <td>0</td>\n",
       "      <td>1</td>\n",
       "      <td>0</td>\n",
       "      <td>0</td>\n",
       "      <td>0</td>\n",
       "      <td>0</td>\n",
       "      <td>1</td>\n",
       "      <td>0</td>\n",
       "      <td>1</td>\n",
       "      <td>1</td>\n",
       "      <td>0</td>\n",
       "    </tr>\n",
       "    <tr>\n",
       "      <th>小明爱北京小明爱北京天安门</th>\n",
       "      <td>0</td>\n",
       "      <td>1</td>\n",
       "      <td>0</td>\n",
       "      <td>1</td>\n",
       "      <td>1</td>\n",
       "      <td>0</td>\n",
       "      <td>0</td>\n",
       "      <td>0</td>\n",
       "      <td>0</td>\n",
       "      <td>0</td>\n",
       "      <td>0</td>\n",
       "      <td>0</td>\n",
       "      <td>0</td>\n",
       "      <td>0</td>\n",
       "    </tr>\n",
       "  </tbody>\n",
       "</table>\n",
       "</div>"
      ],
      "text/plain": [
       "               中国  北京  大厦  天安门  小明  小花  小贝  来到  杭研  毕业  清华大学  硕士  科学院  网易\n",
       "小贝来到北京清华大学      0   1   0    0   0   0   1   1   0   0     1   0    0   0\n",
       "小花来到了网易杭研大厦     0   0   1    0   0   1   0   1   1   0     0   0    0   1\n",
       "小明硕士毕业于中国科学院    1   0   0    0   1   0   0   0   0   1     0   1    1   0\n",
       "小明爱北京小明爱北京天安门   0   1   0    1   1   0   0   0   0   0     0   0    0   0"
      ]
     },
     "execution_count": 24,
     "metadata": {},
     "output_type": "execute_result"
    }
   ],
   "source": [
    "doc_df"
   ]
  },
  {
   "cell_type": "code",
   "execution_count": 25,
   "metadata": {
    "collapsed": false
   },
   "outputs": [],
   "source": [
    "from sklearn.metrics.pairwise import cosine_similarity\n",
    "cos_sims = cosine_similarity(doc_df)"
   ]
  },
  {
   "cell_type": "code",
   "execution_count": 26,
   "metadata": {
    "collapsed": false
   },
   "outputs": [
    {
     "data": {
      "text/plain": [
       "array([[ 1.        ,  0.2236068 ,  0.        ,  0.28867513],\n",
       "       [ 0.2236068 ,  1.        ,  0.        ,  0.        ],\n",
       "       [ 0.        ,  0.        ,  1.        ,  0.25819889],\n",
       "       [ 0.28867513,  0.        ,  0.25819889,  1.        ]])"
      ]
     },
     "execution_count": 26,
     "metadata": {},
     "output_type": "execute_result"
    }
   ],
   "source": [
    "cos_sims"
   ]
  },
  {
   "cell_type": "code",
   "execution_count": 27,
   "metadata": {
    "collapsed": true
   },
   "outputs": [],
   "source": [
    "sims_df = pd.DataFrame(cos_sims, index = text, columns = text)"
   ]
  },
  {
   "cell_type": "code",
   "execution_count": 28,
   "metadata": {
    "collapsed": false
   },
   "outputs": [
    {
     "data": {
      "text/html": [
       "<div>\n",
       "<table border=\"1\" class=\"dataframe\">\n",
       "  <thead>\n",
       "    <tr style=\"text-align: right;\">\n",
       "      <th></th>\n",
       "      <th>小贝来到北京清华大学</th>\n",
       "      <th>小花来到了网易杭研大厦</th>\n",
       "      <th>小明硕士毕业于中国科学院</th>\n",
       "      <th>小明爱北京小明爱北京天安门</th>\n",
       "    </tr>\n",
       "  </thead>\n",
       "  <tbody>\n",
       "    <tr>\n",
       "      <th>小贝来到北京清华大学</th>\n",
       "      <td>1.00</td>\n",
       "      <td>0.22</td>\n",
       "      <td>0.00</td>\n",
       "      <td>0.29</td>\n",
       "    </tr>\n",
       "    <tr>\n",
       "      <th>小花来到了网易杭研大厦</th>\n",
       "      <td>0.22</td>\n",
       "      <td>1.00</td>\n",
       "      <td>0.00</td>\n",
       "      <td>0.00</td>\n",
       "    </tr>\n",
       "    <tr>\n",
       "      <th>小明硕士毕业于中国科学院</th>\n",
       "      <td>0.00</td>\n",
       "      <td>0.00</td>\n",
       "      <td>1.00</td>\n",
       "      <td>0.26</td>\n",
       "    </tr>\n",
       "    <tr>\n",
       "      <th>小明爱北京小明爱北京天安门</th>\n",
       "      <td>0.29</td>\n",
       "      <td>0.00</td>\n",
       "      <td>0.26</td>\n",
       "      <td>1.00</td>\n",
       "    </tr>\n",
       "  </tbody>\n",
       "</table>\n",
       "</div>"
      ],
      "text/plain": [
       "               小贝来到北京清华大学  小花来到了网易杭研大厦  小明硕士毕业于中国科学院  小明爱北京小明爱北京天安门\n",
       "小贝来到北京清华大学           1.00         0.22          0.00           0.29\n",
       "小花来到了网易杭研大厦          0.22         1.00          0.00           0.00\n",
       "小明硕士毕业于中国科学院         0.00         0.00          1.00           0.26\n",
       "小明爱北京小明爱北京天安门        0.29         0.00          0.26           1.00"
      ]
     },
     "execution_count": 28,
     "metadata": {},
     "output_type": "execute_result"
    }
   ],
   "source": [
    "sims_df"
   ]
  },
  {
   "cell_type": "markdown",
   "metadata": {},
   "source": [
    "## tf-idf"
   ]
  },
  {
   "cell_type": "code",
   "execution_count": 29,
   "metadata": {
    "collapsed": false
   },
   "outputs": [
    {
     "name": "stdout",
     "output_type": "stream",
     "text": [
      "中国\n",
      "北京\n",
      "大厦\n",
      "天安门\n",
      "小明\n",
      "小花\n",
      "小贝\n",
      "来到\n",
      "杭研\n",
      "毕业\n",
      "清华大学\n",
      "硕士\n",
      "科学院\n",
      "网易\n"
     ]
    }
   ],
   "source": [
    "vectorizer = TfidfVectorizer(min_df=1)\n",
    "data = vectorizer.fit_transform(corpus)\n",
    "features = vectorizer.get_feature_names()\n",
    "for word in features:\n",
    "    print(word)"
   ]
  },
  {
   "cell_type": "code",
   "execution_count": 30,
   "metadata": {
    "collapsed": false
   },
   "outputs": [
    {
     "data": {
      "text/html": [
       "<div>\n",
       "<table border=\"1\" class=\"dataframe\">\n",
       "  <thead>\n",
       "    <tr style=\"text-align: right;\">\n",
       "      <th></th>\n",
       "      <th>中国</th>\n",
       "      <th>北京</th>\n",
       "      <th>大厦</th>\n",
       "      <th>天安门</th>\n",
       "      <th>小明</th>\n",
       "      <th>小花</th>\n",
       "      <th>小贝</th>\n",
       "      <th>来到</th>\n",
       "      <th>杭研</th>\n",
       "      <th>毕业</th>\n",
       "      <th>清华大学</th>\n",
       "      <th>硕士</th>\n",
       "      <th>科学院</th>\n",
       "      <th>网易</th>\n",
       "    </tr>\n",
       "  </thead>\n",
       "  <tbody>\n",
       "    <tr>\n",
       "      <th>小贝来到北京清华大学</th>\n",
       "      <td>0.00</td>\n",
       "      <td>0.44</td>\n",
       "      <td>0.00</td>\n",
       "      <td>0.00</td>\n",
       "      <td>0.00</td>\n",
       "      <td>0.00</td>\n",
       "      <td>0.56</td>\n",
       "      <td>0.44</td>\n",
       "      <td>0.00</td>\n",
       "      <td>0.00</td>\n",
       "      <td>0.56</td>\n",
       "      <td>0.00</td>\n",
       "      <td>0.00</td>\n",
       "      <td>0.00</td>\n",
       "    </tr>\n",
       "    <tr>\n",
       "      <th>小花来到了网易杭研大厦</th>\n",
       "      <td>0.00</td>\n",
       "      <td>0.00</td>\n",
       "      <td>0.47</td>\n",
       "      <td>0.00</td>\n",
       "      <td>0.00</td>\n",
       "      <td>0.47</td>\n",
       "      <td>0.00</td>\n",
       "      <td>0.37</td>\n",
       "      <td>0.47</td>\n",
       "      <td>0.00</td>\n",
       "      <td>0.00</td>\n",
       "      <td>0.00</td>\n",
       "      <td>0.00</td>\n",
       "      <td>0.47</td>\n",
       "    </tr>\n",
       "    <tr>\n",
       "      <th>小明硕士毕业于中国科学院</th>\n",
       "      <td>0.47</td>\n",
       "      <td>0.00</td>\n",
       "      <td>0.00</td>\n",
       "      <td>0.00</td>\n",
       "      <td>0.37</td>\n",
       "      <td>0.00</td>\n",
       "      <td>0.00</td>\n",
       "      <td>0.00</td>\n",
       "      <td>0.00</td>\n",
       "      <td>0.47</td>\n",
       "      <td>0.00</td>\n",
       "      <td>0.47</td>\n",
       "      <td>0.47</td>\n",
       "      <td>0.00</td>\n",
       "    </tr>\n",
       "    <tr>\n",
       "      <th>小明爱北京小明爱北京天安门</th>\n",
       "      <td>0.00</td>\n",
       "      <td>0.65</td>\n",
       "      <td>0.00</td>\n",
       "      <td>0.41</td>\n",
       "      <td>0.65</td>\n",
       "      <td>0.00</td>\n",
       "      <td>0.00</td>\n",
       "      <td>0.00</td>\n",
       "      <td>0.00</td>\n",
       "      <td>0.00</td>\n",
       "      <td>0.00</td>\n",
       "      <td>0.00</td>\n",
       "      <td>0.00</td>\n",
       "      <td>0.00</td>\n",
       "    </tr>\n",
       "  </tbody>\n",
       "</table>\n",
       "</div>"
      ],
      "text/plain": [
       "                 中国    北京    大厦   天安门    小明    小花    小贝    来到    杭研    毕业  \\\n",
       "小贝来到北京清华大学     0.00  0.44  0.00  0.00  0.00  0.00  0.56  0.44  0.00  0.00   \n",
       "小花来到了网易杭研大厦    0.00  0.00  0.47  0.00  0.00  0.47  0.00  0.37  0.47  0.00   \n",
       "小明硕士毕业于中国科学院   0.47  0.00  0.00  0.00  0.37  0.00  0.00  0.00  0.00  0.47   \n",
       "小明爱北京小明爱北京天安门  0.00  0.65  0.00  0.41  0.65  0.00  0.00  0.00  0.00  0.00   \n",
       "\n",
       "               清华大学    硕士   科学院    网易  \n",
       "小贝来到北京清华大学     0.56  0.00  0.00  0.00  \n",
       "小花来到了网易杭研大厦    0.00  0.00  0.00  0.47  \n",
       "小明硕士毕业于中国科学院   0.00  0.47  0.47  0.00  \n",
       "小明爱北京小明爱北京天安门  0.00  0.00  0.00  0.00  "
      ]
     },
     "execution_count": 30,
     "metadata": {},
     "output_type": "execute_result"
    }
   ],
   "source": [
    "pd.set_option('display.precision', 2)\n",
    "doc_df = pd.DataFrame(data.toarray(), index=text, columns=vectorizer.get_feature_names()).head(10)\n",
    "doc_df"
   ]
  },
  {
   "cell_type": "code",
   "execution_count": null,
   "metadata": {
    "collapsed": true
   },
   "outputs": [],
   "source": []
  }
 ],
 "metadata": {
  "anaconda-cloud": {},
  "kernelspec": {
   "display_name": "Python [conda env:py2]",
   "language": "python",
   "name": "conda-env-py2-py"
  },
  "language_info": {
   "codemirror_mode": {
    "name": "ipython",
    "version": 2
   },
   "file_extension": ".py",
   "mimetype": "text/x-python",
   "name": "python",
   "nbconvert_exporter": "python",
   "pygments_lexer": "ipython2",
   "version": "2.7.11"
  }
 },
 "nbformat": 4,
 "nbformat_minor": 0
}
