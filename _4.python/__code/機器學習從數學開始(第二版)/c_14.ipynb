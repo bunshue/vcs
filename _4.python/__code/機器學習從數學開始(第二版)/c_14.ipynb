{
 "cells": [
  {
   "cell_type": "code",
   "execution_count": 2,
   "metadata": {
    "collapsed": false
   },
   "outputs": [
    {
     "name": "stdout",
     "output_type": "stream",
     "text": [
      "backend module://ipykernel.pylab.backend_inline version unknown\n"
     ]
    }
   ],
   "source": [
    "import numpy as np\n",
    "import matplotlib.pyplot as plt\n",
    "import seaborn as sns\n",
    "import math\n",
    "%matplotlib inline\n",
    "\n",
    "from scipy.stats import norm"
   ]
  },
  {
   "cell_type": "code",
   "execution_count": 3,
   "metadata": {
    "collapsed": true
   },
   "outputs": [],
   "source": [
    "def norm_prob(x,mu,sigma):\n",
    "    p = norm(mu,sigma).cdf(x+0.0001) - norm(mu,sigma).cdf(x-0.0001)\n",
    "    return p\n",
    "\n",
    "def loglikelihood(data,mu,sigma):\n",
    "    l = 0.0\n",
    "    for x in data:\n",
    "        l -= np.log(norm_prob(x,mu,sigma))\n",
    "    return l"
   ]
  },
  {
   "cell_type": "code",
   "execution_count": 4,
   "metadata": {
    "collapsed": false
   },
   "outputs": [],
   "source": [
    "N=1000\n",
    "mu, sigma = 1.6, 0.2\n",
    "\n",
    "h=1.8\n",
    "\n",
    "data = norm.rvs(loc=mu, scale=sigma,size = N)"
   ]
  },
  {
   "cell_type": "code",
   "execution_count": 5,
   "metadata": {
    "collapsed": false
   },
   "outputs": [
    {
     "data": {
      "text/plain": [
       "array([1.79274386, 1.83852395, 1.63242036, 1.75339905, 1.70311421,\n",
       "       1.95669132, 1.58415842, 1.79579253, 1.71100392, 1.9249417 ,\n",
       "       1.40710198, 1.47707656, 1.62877689, 1.63754337, 1.62725891,\n",
       "       1.69991096, 1.85569978, 1.61138229, 1.35251565, 1.56704678,\n",
       "       1.35067455, 1.4711653 , 1.4679774 , 1.34901559, 1.85468963,\n",
       "       1.62321792, 1.67733712, 1.30729118, 1.6488501 , 1.56293031,\n",
       "       1.47380067, 1.64420266, 1.67198292, 1.64941282, 1.69668754,\n",
       "       1.77401935, 1.63901531, 1.83360867, 1.43867181, 1.55199734,\n",
       "       1.29690053, 1.66385117, 1.46344124, 1.90469061, 1.77450948,\n",
       "       1.68956281, 1.79535195, 1.63137429, 1.67338851, 1.50015767,\n",
       "       1.81890843, 1.59175823, 1.93764625, 1.28594777, 2.02797841,\n",
       "       1.71699418, 1.82696609, 1.19895563, 1.65720563, 1.17238269,\n",
       "       1.66681292, 1.5128266 , 1.73922817, 1.46070522, 1.5058953 ,\n",
       "       1.63932098, 1.59199659, 1.52658643, 1.83504859, 1.8809418 ,\n",
       "       1.52961392, 1.63327604, 1.71968727, 1.99515639, 1.9193756 ,\n",
       "       1.45652929, 1.61212343, 1.87338255, 1.90487974, 1.44091378,\n",
       "       1.3524139 , 1.45101555, 1.49634577, 1.29896331, 1.42447673,\n",
       "       1.82922311, 1.91717297, 1.66193762, 1.60528723, 1.54961193,\n",
       "       1.71557273, 1.50374623, 1.86122388, 1.48908405, 1.63262393,\n",
       "       1.54162151, 1.67722516, 1.62132986, 1.79470036, 1.41737141,\n",
       "       1.77998255, 1.88825973, 1.63270468, 1.54545194, 1.67492677,\n",
       "       1.67788665, 1.60155008, 1.58557973, 1.92125964, 1.59905724,\n",
       "       1.48405926, 1.74723224, 1.60044996, 1.47808878, 1.51696374,\n",
       "       1.43755313, 1.49274288, 2.02429786, 1.97859929, 1.47681595,\n",
       "       1.15197844, 1.53355689, 1.67112703, 1.65778083, 1.56828801,\n",
       "       1.46608388, 1.26593423, 1.74875841, 1.58488029, 1.50615021,\n",
       "       1.51437028, 1.68920015, 1.64666596, 1.7244994 , 1.50948042,\n",
       "       1.61675928, 1.45220162, 1.63149579, 1.44176435, 1.84346411,\n",
       "       1.72565272, 1.31798425, 1.43827663, 1.41022523, 1.64799003,\n",
       "       1.44130513, 1.82128136, 1.4594988 , 1.2778056 , 1.7484404 ,\n",
       "       1.71039871, 1.46897041, 1.69672537, 1.5000592 , 1.69166444,\n",
       "       1.590704  , 1.07454684, 1.37982683, 1.65894987, 1.59291026,\n",
       "       1.61993985, 1.62639397, 1.37802779, 1.38195367, 1.72534258,\n",
       "       1.35947386, 1.31646899, 1.42050207, 1.93441684, 1.5422913 ,\n",
       "       1.85744262, 1.4842331 , 1.31003817, 1.27446979, 1.37727727,\n",
       "       1.79424259, 1.29504531, 0.80223257, 1.46811922, 1.79620781,\n",
       "       1.46817602, 1.62187617, 1.71559658, 1.67881508, 1.92782277,\n",
       "       1.55842361, 1.42710064, 1.16170517, 1.56044054, 1.66880141,\n",
       "       1.48757095, 1.65671116, 1.59129019, 1.61987424, 1.49380022,\n",
       "       1.35886894, 1.61687205, 1.83229875, 1.68198474, 1.46540537,\n",
       "       1.91829401, 1.58979983, 1.3718664 , 1.33940068, 1.3995104 ,\n",
       "       1.80265787, 1.73989566, 1.53176643, 1.29195823, 1.16215523,\n",
       "       1.54417438, 1.46078116, 1.65182175, 1.74626824, 1.35801334,\n",
       "       1.3972371 , 1.57365045, 1.70789589, 1.78329409, 1.50931909,\n",
       "       1.81967311, 1.48271269, 1.35336849, 1.64581444, 1.73083373,\n",
       "       1.94758453, 1.69118451, 1.65077385, 1.55377498, 1.54098242,\n",
       "       1.56926424, 1.41621265, 1.67068089, 1.47429239, 1.83724413,\n",
       "       1.43859755, 1.85284391, 1.53251121, 1.47919952, 1.62579566,\n",
       "       1.45257593, 1.89084468, 2.16566937, 1.76850292, 1.70887919,\n",
       "       1.9396343 , 1.33394516, 1.98256131, 1.32635338, 1.25735282,\n",
       "       1.14086193, 1.49637948, 1.45946865, 1.6633188 , 2.04029972,\n",
       "       1.70473906, 1.51319901, 1.29495492, 1.33646893, 1.58939661,\n",
       "       1.6017318 , 1.44406941, 1.74732745, 1.95679257, 1.2468221 ,\n",
       "       1.63421715, 1.6837184 , 1.54306372, 1.52273342, 1.62272985,\n",
       "       1.34095958, 1.60773085, 1.67589065, 1.92695413, 1.94210504,\n",
       "       1.34435305, 1.85536214, 1.7891855 , 1.67230784, 1.39931796,\n",
       "       1.33364934, 1.45991781, 1.54717971, 1.72894308, 1.56093551,\n",
       "       1.54753287, 1.81081141, 1.33358748, 1.92101246, 1.55308018,\n",
       "       1.83290495, 1.34802368, 1.49103707, 1.6722852 , 1.62963854,\n",
       "       1.59231873, 1.85868168, 1.55903607, 1.58287108, 1.47084102,\n",
       "       1.46962458, 1.3194297 , 1.77587007, 1.73206078, 1.55636416,\n",
       "       1.66139018, 1.40233224, 1.68373868, 1.2816684 , 1.74345858,\n",
       "       1.39417147, 1.82592348, 1.41522451, 1.67571538, 1.44484951,\n",
       "       1.94014469, 1.79397842, 1.55843211, 1.7636049 , 1.54211888,\n",
       "       1.51035408, 1.80743288, 1.38257778, 2.0725065 , 1.72191978,\n",
       "       1.92719941, 1.54703072, 1.75104358, 1.42237654, 1.96138234,\n",
       "       1.73419317, 1.39947574, 1.72111015, 1.69111309, 1.65439461,\n",
       "       1.74874581, 1.28585538, 1.08792652, 1.58315509, 1.65141291,\n",
       "       1.66260637, 1.59724178, 1.55456566, 1.47105314, 1.59700095,\n",
       "       1.81000454, 1.66184754, 1.43147555, 1.26872853, 1.64982007,\n",
       "       1.77741275, 1.566163  , 1.64208867, 1.29154816, 1.64742527,\n",
       "       1.78269657, 1.35266227, 1.76480113, 1.68753261, 1.45300946,\n",
       "       1.51825152, 1.63393311, 1.2990088 , 1.5977822 , 1.50705099,\n",
       "       1.5140808 , 1.86676385, 1.63382903, 1.77028446, 1.35614747,\n",
       "       1.54432968, 1.56547918, 1.67502843, 2.03623589, 1.7589137 ,\n",
       "       1.68682933, 1.48918116, 1.7498821 , 1.8361321 , 1.20822728,\n",
       "       1.75054196, 1.84004975, 1.62639278, 1.84469192, 1.69677517,\n",
       "       1.7173539 , 1.83825648, 1.26163353, 1.75614913, 1.13125758,\n",
       "       1.64279354, 1.70822925, 1.53662621, 2.01979174, 1.72413138,\n",
       "       1.36876498, 1.88966053, 1.53927961, 1.54718089, 1.70623166,\n",
       "       1.84707268, 1.87925293, 1.87705004, 1.45921781, 1.76741713,\n",
       "       1.50038602, 1.55631604, 1.4443865 , 1.90700432, 1.87878322,\n",
       "       1.46152647, 1.56760996, 1.61571285, 1.67387985, 1.64311853,\n",
       "       1.43180807, 1.65373947, 1.50965738, 1.38248283, 1.74933363,\n",
       "       1.76346567, 1.88528895, 1.43233857, 1.18980998, 1.67587015,\n",
       "       1.48943496, 1.79317596, 1.42700242, 1.68312518, 1.55858699,\n",
       "       1.44272959, 1.55225253, 1.62265493, 1.57357604, 1.30023913,\n",
       "       1.84338784, 1.62777195, 1.47838877, 1.23895135, 1.27103446,\n",
       "       1.45558457, 1.90093503, 1.66578683, 1.55317425, 1.85531643,\n",
       "       1.85217952, 1.4369369 , 1.92282787, 1.65432599, 1.5378987 ,\n",
       "       1.89152239, 1.84359917, 1.4837829 , 1.49635889, 1.52434268,\n",
       "       1.33737144, 1.59555028, 1.52758194, 1.51599754, 1.42603055,\n",
       "       1.95585953, 1.75632026, 1.75355974, 1.6570618 , 1.75123228,\n",
       "       1.47803413, 1.99564856, 1.54763077, 1.14147448, 1.42958132,\n",
       "       1.8278852 , 1.47112937, 1.55926708, 1.44750306, 1.71223522,\n",
       "       2.06240451, 1.62799438, 1.3218423 , 1.75849403, 1.39564763,\n",
       "       1.49744311, 1.77433626, 1.86047672, 1.6217575 , 1.47106736,\n",
       "       1.55593915, 1.54117888, 1.38272248, 1.91518623, 1.78095324,\n",
       "       1.68143971, 1.88896284, 1.55989822, 1.734264  , 1.65020568,\n",
       "       1.51189295, 1.82560376, 1.85963759, 1.43378987, 1.80494355,\n",
       "       1.59535875, 1.46039978, 1.59594996, 1.74989561, 1.74623481,\n",
       "       1.23756291, 1.58766791, 1.50183411, 1.53581199, 1.89057981,\n",
       "       1.87108324, 1.2974409 , 1.96150043, 1.2328481 , 1.57686103,\n",
       "       1.68977542, 1.13023509, 1.73937745, 1.73026437, 1.63557865,\n",
       "       1.87152514, 1.71664125, 1.48651171, 1.54492713, 1.72658397,\n",
       "       1.47326931, 1.39125094, 1.4566758 , 1.69314271, 1.79986281,\n",
       "       1.54035478, 1.63929306, 1.78777192, 1.48782863, 1.44100388,\n",
       "       1.66551931, 1.84986359, 1.72276262, 1.57432467, 1.40337152,\n",
       "       1.74949205, 1.40495991, 1.55348407, 1.57331819, 1.55336634,\n",
       "       1.4066378 , 1.59808141, 1.66720562, 1.81746632, 1.49784991,\n",
       "       1.439626  , 1.76251647, 1.17132179, 1.54607529, 2.08776331,\n",
       "       1.74734495, 1.66562657, 1.7314633 , 1.79585707, 1.27378117,\n",
       "       1.72133811, 1.31709406, 1.53962441, 1.73565588, 1.72972326,\n",
       "       1.47276089, 1.43708085, 1.40336278, 1.66890869, 1.44006112,\n",
       "       1.42062377, 1.81878104, 1.57967399, 1.5056799 , 1.25509644,\n",
       "       1.07257424, 1.66640765, 1.18740734, 1.53546748, 1.36529951,\n",
       "       1.60725108, 1.52677533, 1.53050595, 1.711815  , 2.00565031,\n",
       "       1.72188462, 1.77960678, 1.5645138 , 1.7768491 , 1.84584079,\n",
       "       1.41661565, 1.17807972, 1.34304742, 2.10093203, 1.58229732,\n",
       "       1.64644456, 1.49884704, 2.05777071, 1.62487201, 1.38560129,\n",
       "       1.8601575 , 1.65137517, 1.71838351, 1.53536283, 1.81795286,\n",
       "       1.50996464, 1.71490447, 1.12932874, 1.7962123 , 1.58125651,\n",
       "       1.94084968, 1.56290905, 1.44270442, 1.91083569, 1.52980807,\n",
       "       1.80008625, 1.43815241, 1.26248111, 1.67489997, 1.2237476 ,\n",
       "       1.53676344, 1.35761418, 1.46987931, 1.5537189 , 1.61862488,\n",
       "       1.49388984, 1.69432965, 1.92672536, 1.75193919, 1.68089073,\n",
       "       1.85924633, 1.55059403, 1.64458532, 1.58352263, 1.81896169,\n",
       "       1.4052414 , 1.68866684, 1.83523638, 1.33065958, 1.60285125,\n",
       "       1.70055235, 1.47402162, 1.50883183, 1.46502525, 1.6154561 ,\n",
       "       1.50692039, 1.43601696, 1.4439681 , 1.58809864, 1.48129286,\n",
       "       1.65379481, 1.6140209 , 1.28947916, 1.57917969, 1.16526521,\n",
       "       1.67227461, 1.49133232, 1.44750221, 1.90464533, 1.39467887,\n",
       "       1.85468399, 1.75739386, 2.00509308, 1.3693917 , 1.58880704,\n",
       "       1.86014422, 1.74315253, 1.84695936, 1.63620659, 1.5563841 ,\n",
       "       1.71908473, 1.8840137 , 1.62489079, 1.4873858 , 1.86892475,\n",
       "       1.58581663, 1.50883576, 1.58644569, 1.86046526, 1.58186021,\n",
       "       1.55324023, 1.74132319, 1.59238897, 1.59382969, 1.38960994,\n",
       "       1.65714557, 1.43487218, 1.69135573, 1.50753787, 1.46308456,\n",
       "       1.32901362, 1.85858142, 1.75502226, 1.65182126, 1.67560251,\n",
       "       1.59293054, 1.53243397, 1.88048392, 1.33298512, 1.47486242,\n",
       "       1.31262793, 1.60709834, 1.67202084, 1.88300318, 1.61224925,\n",
       "       1.3511075 , 1.48856965, 1.92033877, 2.09410985, 2.05011734,\n",
       "       1.40107746, 1.24346153, 1.39669338, 1.54787533, 1.47244606,\n",
       "       1.28974463, 1.81178297, 1.65676107, 1.5669794 , 1.73786415,\n",
       "       1.66246388, 1.84540811, 1.79939323, 1.69823607, 1.50957912,\n",
       "       1.51277495, 1.33539133, 1.44848618, 1.74459128, 1.74849368,\n",
       "       1.55299638, 1.71647962, 1.62067716, 1.19565764, 1.67021186,\n",
       "       1.76754108, 1.89697567, 1.74434921, 1.68253381, 1.7266901 ,\n",
       "       1.41306483, 1.72593169, 1.45091864, 1.63354133, 1.49911319,\n",
       "       1.59284169, 1.27403814, 1.25665029, 1.29688238, 1.51209988,\n",
       "       1.81830092, 1.40871987, 1.66731382, 1.62138   , 1.55067098,\n",
       "       1.75531153, 1.37684311, 1.71846126, 1.38651313, 1.63590956,\n",
       "       2.10580614, 1.73719881, 1.38718219, 1.21738216, 1.69874514,\n",
       "       1.61175158, 1.44977368, 1.39213651, 2.01643562, 1.60428181,\n",
       "       1.65187722, 1.53651687, 1.55058149, 1.65066667, 1.3612914 ,\n",
       "       1.46848844, 1.51118144, 1.70614205, 1.74328293, 1.62258188,\n",
       "       1.73759781, 1.79130896, 1.71536591, 1.75246275, 1.64492625,\n",
       "       1.71498583, 1.91395506, 1.63647679, 1.40330069, 1.73429869,\n",
       "       1.17490546, 1.74681666, 1.41823966, 1.7022203 , 1.44649553,\n",
       "       1.3499879 , 1.53398159, 1.30004399, 1.66633507, 1.72674594,\n",
       "       1.57010843, 1.23680957, 1.97423643, 1.50761296, 1.36935434,\n",
       "       1.57263417, 1.53520054, 1.62819095, 1.78698972, 1.46742942,\n",
       "       1.57573046, 1.53527558, 1.54888475, 1.58795103, 1.60446537,\n",
       "       1.57453448, 1.70073568, 1.583032  , 1.33650006, 1.40855426,\n",
       "       1.24657869, 1.8119223 , 1.85138977, 1.68504389, 1.57571709,\n",
       "       1.73742579, 1.8434272 , 1.78110105, 1.60692556, 1.73700055,\n",
       "       1.8422451 , 1.83650136, 1.655285  , 1.62529834, 1.55423727,\n",
       "       1.87809682, 1.74698746, 1.80996631, 1.53491523, 1.50962088,\n",
       "       1.78960904, 1.24313196, 1.53434728, 1.51642869, 1.65132512,\n",
       "       1.61029448, 1.73807626, 1.65401759, 1.71599501, 1.48796957,\n",
       "       1.58533154, 1.19917785, 1.5583915 , 1.55756958, 1.75825284,\n",
       "       1.51128729, 1.72087544, 1.67192109, 1.67567167, 1.45790942,\n",
       "       1.62269657, 1.80252742, 1.69610736, 1.33673975, 1.55660201,\n",
       "       1.42090986, 1.52024409, 1.82807186, 1.32116266, 1.7533047 ,\n",
       "       1.86439491, 1.97111739, 1.7917481 , 1.81884138, 1.60324139,\n",
       "       1.43144094, 1.41582816, 1.48239811, 1.76266373, 0.93956009,\n",
       "       1.732619  , 1.68459485, 1.36862477, 1.57355767, 1.85531776,\n",
       "       1.06064645, 1.38166731, 1.88031963, 1.41333284, 1.48652418,\n",
       "       1.56232058, 1.6249066 , 1.83164969, 1.53049578, 1.82003252,\n",
       "       1.44322601, 1.48723323, 1.62999203, 1.49484041, 1.84407836,\n",
       "       1.99952116, 1.72193871, 1.51457746, 1.50390703, 1.75466952,\n",
       "       1.22080929, 1.38937796, 1.27772317, 1.20358422, 1.69302961,\n",
       "       1.81327989, 1.61854636, 1.45663789, 1.52288747, 1.54409893,\n",
       "       2.06340879, 1.29668263, 1.4163024 , 1.30132972, 1.31523414,\n",
       "       1.73364369, 1.437303  , 1.93359529, 1.62902731, 1.72563924,\n",
       "       1.49435438, 1.67384782, 1.54151972, 1.62639501, 1.67614575,\n",
       "       1.51531825, 1.28787365, 1.58613861, 1.85396511, 1.43415925,\n",
       "       1.72862584, 1.30826942, 1.54101505, 1.67933036, 1.38606376,\n",
       "       1.67137953, 1.58573461, 1.46876154, 1.75760566, 1.48954138,\n",
       "       1.7196284 , 1.73685395, 1.58470505, 2.06596416, 1.16884245,\n",
       "       1.43763818, 1.45840833, 1.73349193, 1.45357424, 1.69921302,\n",
       "       1.25449965, 1.81799249, 1.7429918 , 1.59598271, 1.10814116,\n",
       "       1.09609533, 1.67859679, 1.51373836, 1.67304431, 1.52707609,\n",
       "       1.26075266, 1.47925019, 1.63645026, 1.83825351, 1.29800021,\n",
       "       1.6964607 , 1.61384294, 1.72430097, 1.56846913, 1.76278006,\n",
       "       1.50628854, 1.77365648, 1.51171796, 1.64941622, 1.65923217,\n",
       "       1.6149671 , 1.32888055, 1.32122426, 1.51148739, 1.55093535,\n",
       "       1.6628743 , 1.66085001, 1.72928212, 1.23804985, 1.75460425,\n",
       "       1.48603338, 1.38313465, 1.85522354, 1.51967946, 1.54894703,\n",
       "       1.70590026, 1.65070282, 1.51070604, 1.76262319, 1.40026439])"
      ]
     },
     "execution_count": 5,
     "metadata": {},
     "output_type": "execute_result"
    }
   ],
   "source": [
    "data"
   ]
  },
  {
   "cell_type": "code",
   "execution_count": 135,
   "metadata": {
    "collapsed": false
   },
   "outputs": [
    {
     "data": {
      "text/plain": [
       "1.209853622595717"
      ]
     },
     "execution_count": 135,
     "metadata": {},
     "output_type": "execute_result"
    }
   ],
   "source": [
    "norm.pdf(x=1.8,loc=1.6,scale=0.2)"
   ]
  },
  {
   "cell_type": "code",
   "execution_count": 124,
   "metadata": {
    "collapsed": false,
    "scrolled": true
   },
   "outputs": [
    {
     "data": {
      "text/plain": [
       "0.00024197072451903612"
      ]
     },
     "execution_count": 124,
     "metadata": {},
     "output_type": "execute_result"
    }
   ],
   "source": [
    "norm_prob(h,mu,sigma)"
   ]
  },
  {
   "cell_type": "code",
   "execution_count": 6,
   "metadata": {
    "collapsed": false
   },
   "outputs": [
    {
     "data": {
      "text/plain": [
       "8312.862507910682"
      ]
     },
     "execution_count": 6,
     "metadata": {},
     "output_type": "execute_result"
    }
   ],
   "source": [
    "loglikelihood(data,mu,sigma)"
   ]
  },
  {
   "cell_type": "code",
   "execution_count": 126,
   "metadata": {
    "collapsed": false
   },
   "outputs": [
    {
     "data": {
      "text/plain": [
       "(array([  4.,   9.,  47., 114., 217., 246., 209., 111.,  33.,  10.]),\n",
       " array([0.91119523, 1.03740547, 1.16361571, 1.28982594, 1.41603618,\n",
       "        1.54224642, 1.66845666, 1.79466689, 1.92087713, 2.04708737,\n",
       "        2.17329761]),\n",
       " <a list of 10 Patch objects>)"
      ]
     },
     "execution_count": 126,
     "metadata": {},
     "output_type": "execute_result"
    },
    {
     "data": {
      "image/png": "[encoded data removed]",
      "text/plain": [
       "<matplotlib.figure.Figure at 0x212896a0>"
      ]
     },
     "metadata": {},
     "output_type": "display_data"
    }
   ],
   "source": [
    "plt.hist(data)"
   ]
  },
  {
   "cell_type": "code",
   "execution_count": 7,
   "metadata": {
    "collapsed": false
   },
   "outputs": [
    {
     "data": {
      "text/plain": [
       "[1.4, 1.5, 1.6, 1.7, 1.8, 1.9, 2.0]"
      ]
     },
     "execution_count": 7,
     "metadata": {},
     "output_type": "execute_result"
    }
   ],
   "source": [
    "mus = [1.4,1.5,1.6,1.7,1.8,1.9,2.0]\n",
    "sigma =0.1\n",
    "mus"
   ]
  },
  {
   "cell_type": "code",
   "execution_count": 8,
   "metadata": {
    "collapsed": false
   },
   "outputs": [
    {
     "data": {
      "text/plain": [
       "[11059.217953389621,\n",
       " 9568.92626061607,\n",
       " 9078.220928489656,\n",
       " 9587.5149913546,\n",
       " 11096.80872103586,\n",
       " 13606.102117377653,\n",
       " 17115.395180387084]"
      ]
     },
     "execution_count": 8,
     "metadata": {},
     "output_type": "execute_result"
    }
   ],
   "source": [
    "l = [loglikelihood(data,mu2,sigma) for mu2 in mus]\n",
    "l"
   ]
  },
  {
   "cell_type": "code",
   "execution_count": 10,
   "metadata": {
    "collapsed": false
   },
   "outputs": [
    {
     "data": {
      "text/html": [
       "<div>\n",
       "<table border=\"1\" class=\"dataframe\">\n",
       "  <thead>\n",
       "    <tr style=\"text-align: right;\">\n",
       "      <th></th>\n",
       "      <th>mu</th>\n",
       "      <th>-logl</th>\n",
       "    </tr>\n",
       "  </thead>\n",
       "  <tbody>\n",
       "    <tr>\n",
       "      <th>0</th>\n",
       "      <td>1.4</td>\n",
       "      <td>11059.217953</td>\n",
       "    </tr>\n",
       "    <tr>\n",
       "      <th>1</th>\n",
       "      <td>1.5</td>\n",
       "      <td>9568.926261</td>\n",
       "    </tr>\n",
       "    <tr>\n",
       "      <th>2</th>\n",
       "      <td>1.6</td>\n",
       "      <td>9078.220928</td>\n",
       "    </tr>\n",
       "    <tr>\n",
       "      <th>3</th>\n",
       "      <td>1.7</td>\n",
       "      <td>9587.514991</td>\n",
       "    </tr>\n",
       "    <tr>\n",
       "      <th>4</th>\n",
       "      <td>1.8</td>\n",
       "      <td>11096.808721</td>\n",
       "    </tr>\n",
       "    <tr>\n",
       "      <th>5</th>\n",
       "      <td>1.9</td>\n",
       "      <td>13606.102117</td>\n",
       "    </tr>\n",
       "    <tr>\n",
       "      <th>6</th>\n",
       "      <td>2.0</td>\n",
       "      <td>17115.395180</td>\n",
       "    </tr>\n",
       "  </tbody>\n",
       "</table>\n",
       "</div>"
      ],
      "text/plain": [
       "    mu         -logl\n",
       "0  1.4  11059.217953\n",
       "1  1.5   9568.926261\n",
       "2  1.6   9078.220928\n",
       "3  1.7   9587.514991\n",
       "4  1.8  11096.808721\n",
       "5  1.9  13606.102117\n",
       "6  2.0  17115.395180"
      ]
     },
     "execution_count": 10,
     "metadata": {},
     "output_type": "execute_result"
    }
   ],
   "source": [
    "import pandas as pd\n",
    "df = pd.DataFrame()\n",
    "df['mu'] = mus\n",
    "df['-logl'] =l\n",
    "df                                     "
   ]
  },
  {
   "cell_type": "code",
   "execution_count": 12,
   "metadata": {
    "collapsed": false
   },
   "outputs": [
    {
     "data": {
      "text/plain": [
       "<matplotlib.axes._subplots.AxesSubplot at 0x1ecd5240>"
      ]
     },
     "execution_count": 12,
     "metadata": {},
     "output_type": "execute_result"
    },
    {
     "data": {
      "image/png": "[encoded data removed]",
      "text/plain": [
       "<matplotlib.figure.Figure at 0x1ecd5710>"
      ]
     },
     "metadata": {},
     "output_type": "display_data"
    }
   ],
   "source": [
    "plt.figure(figsize=(6,4))\n",
    "\n",
    "sns.pointplot(df['mu'],df['-logl'], alpha=0.8)"
   ]
  },
  {
   "cell_type": "code",
   "execution_count": null,
   "metadata": {
    "collapsed": true
   },
   "outputs": [],
   "source": []
  }
 ],
 "metadata": {
  "kernelspec": {
   "display_name": "Python [conda env:py2]",
   "language": "python",
   "name": "conda-env-py2-py"
  },
  "language_info": {
   "codemirror_mode": {
    "name": "ipython",
    "version": 2
   },
   "file_extension": ".py",
   "mimetype": "text/x-python",
   "name": "python",
   "nbconvert_exporter": "python",
   "pygments_lexer": "ipython2",
   "version": "2.7.11"
  }
 },
 "nbformat": 4,
 "nbformat_minor": 0
}
