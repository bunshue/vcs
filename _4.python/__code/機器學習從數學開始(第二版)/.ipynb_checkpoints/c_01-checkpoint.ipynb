{
 "cells": [
  {
   "cell_type": "code",
   "execution_count": 1,
   "metadata": {
    "collapsed": true
   },
   "outputs": [],
   "source": [
    "import numpy as np\n",
    "import pandas as pd"
   ]
  },
  {
   "cell_type": "code",
   "execution_count": 2,
   "metadata": {
    "collapsed": true
   },
   "outputs": [],
   "source": [
    "rating_matrix = np.array(\n",
    "    [[4,3,0,0,5,0],\n",
    "     [5,0,4,0,4,0],\n",
    "     [4,0,5,3,4,0],\n",
    "     [0,3,0,0,0,5],\n",
    "     [0,4,0,0,0,4],\n",
    "     [0,0,2,4,0,5]\n",
    "    ]\n",
    ")"
   ]
  },
  {
   "cell_type": "code",
   "execution_count": 3,
   "metadata": {
    "collapsed": false
   },
   "outputs": [
    {
     "data": {
      "text/plain": [
       "array([[ 1.        ,  0.74926865,  0.62667956,  0.21828206,  0.3       ,\n",
       "         0.        ],\n",
       "       [ 0.74926865,  1.        ,  0.91301651,  0.        ,  0.        ,\n",
       "         0.1579597 ],\n",
       "       [ 0.62667956,  0.91301651,  1.        ,  0.        ,  0.        ,\n",
       "         0.40368671],\n",
       "       [ 0.21828206,  0.        ,  0.        ,  1.        ,  0.9701425 ,\n",
       "         0.63913749],\n",
       "       [ 0.3       ,  0.        ,  0.        ,  0.9701425 ,  1.        ,\n",
       "         0.52704628],\n",
       "       [ 0.        ,  0.1579597 ,  0.40368671,  0.63913749,  0.52704628,\n",
       "         1.        ]])"
      ]
     },
     "execution_count": 3,
     "metadata": {},
     "output_type": "execute_result"
    }
   ],
   "source": [
    "from sklearn.metrics.pairwise import cosine_similarity\n",
    "user_sim = cosine_similarity(rating_matrix)\n",
    "user_sim"
   ]
  },
  {
   "cell_type": "code",
   "execution_count": 4,
   "metadata": {
    "collapsed": false
   },
   "outputs": [
    {
     "data": {
      "text/plain": [
       "array([[ 1.        ,  0.27258651,  0.7897985 ,  0.31788777,  0.98245614,\n",
       "         0.        ],\n",
       "       [ 0.27258651,  1.        ,  0.        ,  0.        ,  0.34073314,\n",
       "         0.65441051],\n",
       "       [ 0.7897985 ,  0.        ,  1.        ,  0.68572751,  0.71081865,\n",
       "         0.18349396],\n",
       "       [ 0.31788777,  0.        ,  0.68572751,  1.        ,  0.31788777,\n",
       "         0.49236596],\n",
       "       [ 0.98245614,  0.34073314,  0.71081865,  0.31788777,  1.        ,\n",
       "         0.        ],\n",
       "       [ 0.        ,  0.65441051,  0.18349396,  0.49236596,  0.        ,\n",
       "         1.        ]])"
      ]
     },
     "execution_count": 4,
     "metadata": {},
     "output_type": "execute_result"
    }
   ],
   "source": [
    "book_sim = cosine_similarity(rating_matrix.T)\n",
    "book_sim"
   ]
  },
  {
   "cell_type": "code",
   "execution_count": 12,
   "metadata": {
    "collapsed": false
   },
   "outputs": [
    {
     "name": "stdout",
     "output_type": "stream",
     "text": [
      "[4 3 0 0 5 0]\n",
      "[ 0.7897985   0.          1.          0.68572751  0.71081865  0.18349396]\n"
     ]
    }
   ],
   "source": [
    "\n",
    "\n",
    "# 用户1对6本书的评分\n",
    "print(rating_matrix[0])\n",
    "\n",
    "# 第3本书和其它6本书的相似度\n",
    "print(book_sim[2])\n"
   ]
  },
  {
   "cell_type": "code",
   "execution_count": 14,
   "metadata": {
    "collapsed": false
   },
   "outputs": [
    {
     "data": {
      "text/plain": [
       "4.4736842105263159"
      ]
     },
     "execution_count": 14,
     "metadata": {},
     "output_type": "execute_result"
    }
   ],
   "source": [
    "#用户1，对第3本书的评分\n",
    "s_3 = np.dot(rating_matrix[0] ,book_sim[2]) /(book_sim[2][0]+book_sim[2][4])\n",
    "s_3"
   ]
  },
  {
   "cell_type": "code",
   "execution_count": 16,
   "metadata": {
    "collapsed": false
   },
   "outputs": [
    {
     "name": "stdout",
     "output_type": "stream",
     "text": [
      "[ 0.31788777  0.          0.68572751  1.          0.31788777  0.49236596]\n"
     ]
    },
    {
     "data": {
      "text/plain": [
       "4.5"
      ]
     },
     "execution_count": 16,
     "metadata": {},
     "output_type": "execute_result"
    }
   ],
   "source": [
    "#用户1，对第4本书的评分\n",
    "\n",
    "print(book_sim[3])\n",
    "s_4 = np.dot(rating_matrix[0] ,book_sim[3]) /(book_sim[3][0]+book_sim[3][4])\n",
    "s_4"
   ]
  },
  {
   "cell_type": "code",
   "execution_count": 18,
   "metadata": {
    "collapsed": false
   },
   "outputs": [
    {
     "name": "stdout",
     "output_type": "stream",
     "text": [
      "[ 0.          0.65441051  0.18349396  0.49236596  0.          1.        ]\n"
     ]
    },
    {
     "data": {
      "text/plain": [
       "3.0"
      ]
     },
     "execution_count": 18,
     "metadata": {},
     "output_type": "execute_result"
    }
   ],
   "source": [
    "#用户1，对第6本书的评分\n",
    "\n",
    "print(book_sim[5])\n",
    "s_4 = np.dot(rating_matrix[0] ,book_sim[5]) /(book_sim[5][1])\n",
    "s_4"
   ]
  },
  {
   "cell_type": "code",
   "execution_count": null,
   "metadata": {
    "collapsed": true
   },
   "outputs": [],
   "source": []
  },
  {
   "cell_type": "code",
   "execution_count": null,
   "metadata": {
    "collapsed": true
   },
   "outputs": [],
   "source": []
  }
 ],
 "metadata": {
  "anaconda-cloud": {},
  "kernelspec": {
   "display_name": "Python [conda root]",
   "language": "python",
   "name": "conda-root-py"
  },
  "language_info": {
   "codemirror_mode": {
    "name": "ipython",
    "version": 3
   },
   "file_extension": ".py",
   "mimetype": "text/x-python",
   "name": "python",
   "nbconvert_exporter": "python",
   "pygments_lexer": "ipython3",
   "version": "3.5.2"
  }
 },
 "nbformat": 4,
 "nbformat_minor": 1
}
