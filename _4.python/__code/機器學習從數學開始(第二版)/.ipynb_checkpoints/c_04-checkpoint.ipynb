{
 "cells": [
  {
   "cell_type": "code",
   "execution_count": 3,
   "metadata": {
    "collapsed": true
   },
   "outputs": [],
   "source": [
    "from sklearn.feature_extraction.text import TfidfVectorizer, CountVectorizer\n",
    "import pandas as pd\n",
    "\n",
    "text =[u\"小贝来到北京清华大学\", \n",
    "        u\"小花来到了网易杭研大厦\",   \n",
    "        u\"小明硕士毕业于中国科学院\",\n",
    "        u\"小明爱北京小明爱北京天安门\"\n",
    "]\n",
    "               \n",
    "corpus=[u\"小贝 来到 北京 清华大学\", \n",
    "        u\"小花 来到 了 网易 杭研 大厦\",   \n",
    "        u\"小明 硕士 毕业 于 中国 科学院\",\n",
    "        u\"小明 爱 北京 小明 爱 北京 天安门\"\n",
    "]"
   ]
  },
  {
   "cell_type": "code",
   "execution_count": 4,
   "metadata": {
    "collapsed": true
   },
   "outputs": [],
   "source": [
    "text =[u\"小贝来到北京清华大学\", \n",
    "        u\"小花来到了网易杭研大厦\",   \n",
    "        u\"小明硕士毕业于中国科学院\",\n",
    "        u\"小明爱北京小明爱北京天安门\"\n",
    "]\n",
    "               \n",
    "corpus=[u\"小贝 来到 北京 清华大学\", \n",
    "        u\"小花 来到 了 网易 杭研 大厦\",   \n",
    "        u\"小明 硕士 毕业 于 中国 科学院\",\n",
    "        u\"小明 爱 北京 小明 爱 北京 天安门\"\n",
    "]"
   ]
  },
  {
   "cell_type": "markdown",
   "metadata": {},
   "source": [
    "## 二值化、词频"
   ]
  },
  {
   "cell_type": "code",
   "execution_count": 16,
   "metadata": {
    "collapsed": false
   },
   "outputs": [
    {
     "name": "stdout",
     "output_type": "stream",
     "text": [
      "0 : 中国\n",
      "1 : 北京\n",
      "2 : 大厦\n",
      "3 : 天安门\n",
      "4 : 小明\n",
      "5 : 小花\n",
      "6 : 小贝\n",
      "7 : 来到\n",
      "8 : 杭研\n",
      "9 : 毕业\n",
      "10 : 清华大学\n",
      "11 : 硕士\n",
      "12 : 科学院\n",
      "13 : 网易\n"
     ]
    }
   ],
   "source": [
    "vectorizer = CountVectorizer(min_df=1,binary=False)\n",
    "data = vectorizer.fit_transform(corpus)\n",
    "features = vectorizer.get_feature_names()\n",
    "\n",
    "for id,feature in enumerate(features):\n",
    "    print id,':',feature\n",
    "\n"
   ]
  },
  {
   "cell_type": "code",
   "execution_count": 8,
   "metadata": {
    "collapsed": false
   },
   "outputs": [
    {
     "data": {
      "text/plain": [
       "set()"
      ]
     },
     "execution_count": 8,
     "metadata": {},
     "output_type": "execute_result"
    }
   ],
   "source": [
    "vectorizer.stop_words_ "
   ]
  },
  {
   "cell_type": "code",
   "execution_count": 9,
   "metadata": {
    "collapsed": false,
    "scrolled": true
   },
   "outputs": [
    {
     "name": "stdout",
     "output_type": "stream",
     "text": [
      "小明 4\n",
      "网易 13\n",
      "杭研 8\n",
      "毕业 9\n",
      "北京 1\n",
      "清华大学 10\n",
      "来到 7\n",
      "大厦 2\n",
      "小贝 6\n",
      "小花 5\n",
      "硕士 11\n",
      "中国 0\n",
      "天安门 3\n",
      "科学院 12\n"
     ]
    }
   ],
   "source": [
    "for feature,id in vectorizer.vocabulary_.items() :\n",
    "     print feature,id"
   ]
  },
  {
   "cell_type": "code",
   "execution_count": 10,
   "metadata": {
    "collapsed": false
   },
   "outputs": [
    {
     "data": {
      "text/html": [
       "<div>\n",
       "<table border=\"1\" class=\"dataframe\">\n",
       "  <thead>\n",
       "    <tr style=\"text-align: right;\">\n",
       "      <th></th>\n",
       "      <th>中国</th>\n",
       "      <th>北京</th>\n",
       "      <th>大厦</th>\n",
       "      <th>天安门</th>\n",
       "      <th>小明</th>\n",
       "      <th>小花</th>\n",
       "      <th>小贝</th>\n",
       "      <th>来到</th>\n",
       "      <th>杭研</th>\n",
       "      <th>毕业</th>\n",
       "      <th>清华大学</th>\n",
       "      <th>硕士</th>\n",
       "      <th>科学院</th>\n",
       "      <th>网易</th>\n",
       "    </tr>\n",
       "  </thead>\n",
       "  <tbody>\n",
       "    <tr>\n",
       "      <th>小贝来到北京清华大学</th>\n",
       "      <td>0</td>\n",
       "      <td>1</td>\n",
       "      <td>0</td>\n",
       "      <td>0</td>\n",
       "      <td>0</td>\n",
       "      <td>0</td>\n",
       "      <td>1</td>\n",
       "      <td>1</td>\n",
       "      <td>0</td>\n",
       "      <td>0</td>\n",
       "      <td>1</td>\n",
       "      <td>0</td>\n",
       "      <td>0</td>\n",
       "      <td>0</td>\n",
       "    </tr>\n",
       "    <tr>\n",
       "      <th>小花来到了网易杭研大厦</th>\n",
       "      <td>0</td>\n",
       "      <td>0</td>\n",
       "      <td>1</td>\n",
       "      <td>0</td>\n",
       "      <td>0</td>\n",
       "      <td>1</td>\n",
       "      <td>0</td>\n",
       "      <td>1</td>\n",
       "      <td>1</td>\n",
       "      <td>0</td>\n",
       "      <td>0</td>\n",
       "      <td>0</td>\n",
       "      <td>0</td>\n",
       "      <td>1</td>\n",
       "    </tr>\n",
       "    <tr>\n",
       "      <th>小明硕士毕业于中国科学院</th>\n",
       "      <td>1</td>\n",
       "      <td>0</td>\n",
       "      <td>0</td>\n",
       "      <td>0</td>\n",
       "      <td>1</td>\n",
       "      <td>0</td>\n",
       "      <td>0</td>\n",
       "      <td>0</td>\n",
       "      <td>0</td>\n",
       "      <td>1</td>\n",
       "      <td>0</td>\n",
       "      <td>1</td>\n",
       "      <td>1</td>\n",
       "      <td>0</td>\n",
       "    </tr>\n",
       "    <tr>\n",
       "      <th>小明爱北京小明爱北京天安门</th>\n",
       "      <td>0</td>\n",
       "      <td>2</td>\n",
       "      <td>0</td>\n",
       "      <td>1</td>\n",
       "      <td>2</td>\n",
       "      <td>0</td>\n",
       "      <td>0</td>\n",
       "      <td>0</td>\n",
       "      <td>0</td>\n",
       "      <td>0</td>\n",
       "      <td>0</td>\n",
       "      <td>0</td>\n",
       "      <td>0</td>\n",
       "      <td>0</td>\n",
       "    </tr>\n",
       "  </tbody>\n",
       "</table>\n",
       "</div>"
      ],
      "text/plain": [
       "               中国  北京  大厦  天安门  小明  小花  小贝  来到  杭研  毕业  清华大学  硕士  科学院  网易\n",
       "小贝来到北京清华大学      0   1   0    0   0   0   1   1   0   0     1   0    0   0\n",
       "小花来到了网易杭研大厦     0   0   1    0   0   1   0   1   1   0     0   0    0   1\n",
       "小明硕士毕业于中国科学院    1   0   0    0   1   0   0   0   0   1     0   1    1   0\n",
       "小明爱北京小明爱北京天安门   0   2   0    1   2   0   0   0   0   0     0   0    0   0"
      ]
     },
     "execution_count": 10,
     "metadata": {},
     "output_type": "execute_result"
    }
   ],
   "source": [
    "doc_df = pd.DataFrame(data.toarray(), index=text, columns=vectorizer.get_feature_names()).head(10)\n",
    "doc_df"
   ]
  },
  {
   "cell_type": "code",
   "execution_count": 50,
   "metadata": {
    "collapsed": false
   },
   "outputs": [],
   "source": [
    "from sklearn.metrics.pairwise import cosine_similarity\n",
    "cos_sims = cosine_similarity(doc_df)"
   ]
  },
  {
   "cell_type": "code",
   "execution_count": 51,
   "metadata": {
    "collapsed": false
   },
   "outputs": [
    {
     "data": {
      "text/plain": [
       "array([[1.        , 0.2236068 , 0.        , 0.28867513],\n",
       "       [0.2236068 , 1.        , 0.        , 0.        ],\n",
       "       [0.        , 0.        , 1.        , 0.25819889],\n",
       "       [0.28867513, 0.        , 0.25819889, 1.        ]])"
      ]
     },
     "execution_count": 51,
     "metadata": {},
     "output_type": "execute_result"
    }
   ],
   "source": [
    "cos_sims"
   ]
  },
  {
   "cell_type": "code",
   "execution_count": 57,
   "metadata": {
    "collapsed": true
   },
   "outputs": [],
   "source": [
    "sims_df = pd.DataFrame(cos_sims, index = text, columns = text)"
   ]
  },
  {
   "cell_type": "code",
   "execution_count": 58,
   "metadata": {
    "collapsed": false
   },
   "outputs": [
    {
     "data": {
      "text/html": [
       "<div>\n",
       "<table border=\"1\" class=\"dataframe\">\n",
       "  <thead>\n",
       "    <tr style=\"text-align: right;\">\n",
       "      <th></th>\n",
       "      <th>小贝来到北京清华大学</th>\n",
       "      <th>小花来到了网易杭研大厦</th>\n",
       "      <th>小明硕士毕业于中国科学院</th>\n",
       "      <th>小明爱北京小明爱北京天安门</th>\n",
       "    </tr>\n",
       "  </thead>\n",
       "  <tbody>\n",
       "    <tr>\n",
       "      <th>小贝来到北京清华大学</th>\n",
       "      <td>1.000000</td>\n",
       "      <td>0.223607</td>\n",
       "      <td>0.000000</td>\n",
       "      <td>0.288675</td>\n",
       "    </tr>\n",
       "    <tr>\n",
       "      <th>小花来到了网易杭研大厦</th>\n",
       "      <td>0.223607</td>\n",
       "      <td>1.000000</td>\n",
       "      <td>0.000000</td>\n",
       "      <td>0.000000</td>\n",
       "    </tr>\n",
       "    <tr>\n",
       "      <th>小明硕士毕业于中国科学院</th>\n",
       "      <td>0.000000</td>\n",
       "      <td>0.000000</td>\n",
       "      <td>1.000000</td>\n",
       "      <td>0.258199</td>\n",
       "    </tr>\n",
       "    <tr>\n",
       "      <th>小明爱北京小明爱北京天安门</th>\n",
       "      <td>0.288675</td>\n",
       "      <td>0.000000</td>\n",
       "      <td>0.258199</td>\n",
       "      <td>1.000000</td>\n",
       "    </tr>\n",
       "  </tbody>\n",
       "</table>\n",
       "</div>"
      ],
      "text/plain": [
       "               小贝来到北京清华大学  小花来到了网易杭研大厦  小明硕士毕业于中国科学院  小明爱北京小明爱北京天安门\n",
       "小贝来到北京清华大学       1.000000     0.223607      0.000000       0.288675\n",
       "小花来到了网易杭研大厦      0.223607     1.000000      0.000000       0.000000\n",
       "小明硕士毕业于中国科学院     0.000000     0.000000      1.000000       0.258199\n",
       "小明爱北京小明爱北京天安门    0.288675     0.000000      0.258199       1.000000"
      ]
     },
     "execution_count": 58,
     "metadata": {},
     "output_type": "execute_result"
    }
   ],
   "source": [
    "sims_df"
   ]
  },
  {
   "cell_type": "markdown",
   "metadata": {},
   "source": [
    "## tf-idf"
   ]
  },
  {
   "cell_type": "code",
   "execution_count": 11,
   "metadata": {
    "collapsed": false
   },
   "outputs": [
    {
     "name": "stdout",
     "output_type": "stream",
     "text": [
      "中国 0\n",
      "北京 1\n",
      "大厦 2\n",
      "天安门 3\n",
      "小明 4\n",
      "小花 5\n",
      "小贝 6\n",
      "来到 7\n",
      "杭研 8\n",
      "毕业 9\n",
      "清华大学 10\n",
      "硕士 11\n",
      "科学院 12\n",
      "网易 13\n"
     ]
    },
    {
     "name": "stderr",
     "output_type": "stream",
     "text": [
      "d:\\Anaconda2\\lib\\site-packages\\sklearn\\feature_extraction\\text.py:1015: FutureWarning: Conversion of the second argument of issubdtype from `float` to `np.floating` is deprecated. In future, it will be treated as `np.float64 == np.dtype(float).type`.\n",
      "  if hasattr(X, 'dtype') and np.issubdtype(X.dtype, np.float):\n"
     ]
    }
   ],
   "source": [
    "vectorizer = TfidfVectorizer(min_df=1)\n",
    "data = vectorizer.fit_transform(corpus)\n",
    "features = vectorizer.get_feature_names()\n",
    "\n",
    "for id,feature in enumerate(features):\n",
    "    print feature,id\n"
   ]
  },
  {
   "cell_type": "code",
   "execution_count": 14,
   "metadata": {
    "collapsed": false
   },
   "outputs": [
    {
     "data": {
      "text/html": [
       "<div>\n",
       "<table border=\"1\" class=\"dataframe\">\n",
       "  <thead>\n",
       "    <tr style=\"text-align: right;\">\n",
       "      <th></th>\n",
       "      <th>中国</th>\n",
       "      <th>北京</th>\n",
       "      <th>大厦</th>\n",
       "      <th>天安门</th>\n",
       "      <th>小明</th>\n",
       "      <th>小花</th>\n",
       "      <th>小贝</th>\n",
       "      <th>来到</th>\n",
       "      <th>杭研</th>\n",
       "      <th>毕业</th>\n",
       "      <th>清华大学</th>\n",
       "      <th>硕士</th>\n",
       "      <th>科学院</th>\n",
       "      <th>网易</th>\n",
       "    </tr>\n",
       "  </thead>\n",
       "  <tbody>\n",
       "    <tr>\n",
       "      <th>小贝来到北京清华大学</th>\n",
       "      <td>0.00</td>\n",
       "      <td>0.44</td>\n",
       "      <td>0.00</td>\n",
       "      <td>0.00</td>\n",
       "      <td>0.00</td>\n",
       "      <td>0.00</td>\n",
       "      <td>0.56</td>\n",
       "      <td>0.44</td>\n",
       "      <td>0.00</td>\n",
       "      <td>0.00</td>\n",
       "      <td>0.56</td>\n",
       "      <td>0.00</td>\n",
       "      <td>0.00</td>\n",
       "      <td>0.00</td>\n",
       "    </tr>\n",
       "    <tr>\n",
       "      <th>小花来到了网易杭研大厦</th>\n",
       "      <td>0.00</td>\n",
       "      <td>0.00</td>\n",
       "      <td>0.47</td>\n",
       "      <td>0.00</td>\n",
       "      <td>0.00</td>\n",
       "      <td>0.47</td>\n",
       "      <td>0.00</td>\n",
       "      <td>0.37</td>\n",
       "      <td>0.47</td>\n",
       "      <td>0.00</td>\n",
       "      <td>0.00</td>\n",
       "      <td>0.00</td>\n",
       "      <td>0.00</td>\n",
       "      <td>0.47</td>\n",
       "    </tr>\n",
       "    <tr>\n",
       "      <th>小明硕士毕业于中国科学院</th>\n",
       "      <td>0.47</td>\n",
       "      <td>0.00</td>\n",
       "      <td>0.00</td>\n",
       "      <td>0.00</td>\n",
       "      <td>0.37</td>\n",
       "      <td>0.00</td>\n",
       "      <td>0.00</td>\n",
       "      <td>0.00</td>\n",
       "      <td>0.00</td>\n",
       "      <td>0.47</td>\n",
       "      <td>0.00</td>\n",
       "      <td>0.47</td>\n",
       "      <td>0.47</td>\n",
       "      <td>0.00</td>\n",
       "    </tr>\n",
       "    <tr>\n",
       "      <th>小明爱北京小明爱北京天安门</th>\n",
       "      <td>0.00</td>\n",
       "      <td>0.65</td>\n",
       "      <td>0.00</td>\n",
       "      <td>0.41</td>\n",
       "      <td>0.65</td>\n",
       "      <td>0.00</td>\n",
       "      <td>0.00</td>\n",
       "      <td>0.00</td>\n",
       "      <td>0.00</td>\n",
       "      <td>0.00</td>\n",
       "      <td>0.00</td>\n",
       "      <td>0.00</td>\n",
       "      <td>0.00</td>\n",
       "      <td>0.00</td>\n",
       "    </tr>\n",
       "  </tbody>\n",
       "</table>\n",
       "</div>"
      ],
      "text/plain": [
       "                 中国    北京    大厦   天安门    小明    小花    小贝    来到    杭研    毕业  \\\n",
       "小贝来到北京清华大学     0.00  0.44  0.00  0.00  0.00  0.00  0.56  0.44  0.00  0.00   \n",
       "小花来到了网易杭研大厦    0.00  0.00  0.47  0.00  0.00  0.47  0.00  0.37  0.47  0.00   \n",
       "小明硕士毕业于中国科学院   0.47  0.00  0.00  0.00  0.37  0.00  0.00  0.00  0.00  0.47   \n",
       "小明爱北京小明爱北京天安门  0.00  0.65  0.00  0.41  0.65  0.00  0.00  0.00  0.00  0.00   \n",
       "\n",
       "               清华大学    硕士   科学院    网易  \n",
       "小贝来到北京清华大学     0.56  0.00  0.00  0.00  \n",
       "小花来到了网易杭研大厦    0.00  0.00  0.00  0.47  \n",
       "小明硕士毕业于中国科学院   0.00  0.47  0.47  0.00  \n",
       "小明爱北京小明爱北京天安门  0.00  0.00  0.00  0.00  "
      ]
     },
     "execution_count": 14,
     "metadata": {},
     "output_type": "execute_result"
    }
   ],
   "source": [
    "pd.set_option('display.precision', 2)\n",
    "doc_df = pd.DataFrame(data.toarray(), index=text, columns=vectorizer.get_feature_names()).head(10)\n",
    "doc_df"
   ]
  },
  {
   "cell_type": "code",
   "execution_count": null,
   "metadata": {
    "collapsed": true
   },
   "outputs": [],
   "source": []
  }
 ],
 "metadata": {
  "kernelspec": {
   "display_name": "Python 2",
   "language": "python",
   "name": "python2"
  },
  "language_info": {
   "codemirror_mode": {
    "name": "ipython",
    "version": 2
   },
   "file_extension": ".py",
   "mimetype": "text/x-python",
   "name": "python",
   "nbconvert_exporter": "python",
   "pygments_lexer": "ipython2",
   "version": "2.7.11"
  }
 },
 "nbformat": 4,
 "nbformat_minor": 0
}
