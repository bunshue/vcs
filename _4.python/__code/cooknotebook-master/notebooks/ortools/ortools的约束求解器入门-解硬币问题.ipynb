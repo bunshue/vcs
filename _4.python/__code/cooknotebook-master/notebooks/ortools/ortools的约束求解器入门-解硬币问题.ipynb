{
 "cells": [
  {
   "cell_type": "markdown",
   "metadata": {},
   "source": [
    "# ortools的约束求解器入门-解硬币问题"
   ]
  },
  {
   "cell_type": "markdown",
   "metadata": {},
   "source": [
    "ortools是Google公司开发的组合优化工具，它提供了约束求解器、线性规划、图相关算法、背包算法以及解决旅行推销员等问题的组合优化算法。本文简单介绍其约束求解器的用法。"
   ]
  },
  {
   "cell_type": "markdown",
   "metadata": {},
   "source": [
    "## 基本用法"
   ]
  },
  {
   "cell_type": "markdown",
   "metadata": {},
   "source": [
    "可以从[PyPI](https://pypi.python.org/pypi/py3-ortools)下载`whl`二进制包，然后使用`pip install py3_ortools-....whl`安装。然后使用下面的`import`命令载入`constraint_solver`库。"
   ]
  },
  {
   "cell_type": "code",
   "execution_count": 22,
   "metadata": {
    "collapsed": true
   },
   "outputs": [],
   "source": [
    "from ortools.constraint_solver import pywrapcp"
   ]
  },
  {
   "cell_type": "markdown",
   "metadata": {},
   "source": [
    "求解约束问题从创建`Solver`对象`solver`开始，其后调用`solver`的方法创建各种所需的对象。下面创建四个`IntVar`变量，并将其保存于列表`x`中。`IntVar()`的参数为取值范围的开始值、结束值以及变量名。"
   ]
  },
  {
   "cell_type": "code",
   "execution_count": 23,
   "metadata": {},
   "outputs": [
    {
     "data": {
      "text/plain": [
       "[x0(0..3), x1(0..3), x2(0..3), x3(0..3)]"
      ]
     },
     "execution_count": 23,
     "metadata": {},
     "output_type": "execute_result"
    }
   ],
   "source": [
    "solver = pywrapcp.Solver(\"test\")\n",
    "\n",
    "x = [solver.IntVar(0, 3, \"x%d\" % i) for i in range(4)]\n",
    "x"
   ]
  },
  {
   "cell_type": "markdown",
   "metadata": {},
   "source": [
    "上面的4个`IntVar`变量的候选值为0到3，因此不添加约束条件的情况下共有$4^{4}$中可能的解。下面为变量添加约束条件`Alldifferent(x)`，该约束条件保证其参数中的所有变量的值两两不同。注意需要通过`solver.Add()`将约束条件添加进`solver`之中才能使其有效："
   ]
  },
  {
   "cell_type": "code",
   "execution_count": 24,
   "metadata": {},
   "outputs": [
    {
     "data": {
      "text/plain": [
       "BoundsAllDifferent(x0(0..3), x1(0..3), x2(0..3), x3(0..3))"
      ]
     },
     "execution_count": 24,
     "metadata": {},
     "output_type": "execute_result"
    }
   ],
   "source": [
    "cs = solver.AllDifferent(x)\n",
    "solver.Add(cs)\n",
    "cs"
   ]
  },
  {
   "cell_type": "markdown",
   "metadata": {},
   "source": [
    "下面创建`Assignment`对象保存解，并创建解收集器`AllSolutionCollector`收集所有的解。"
   ]
  },
  {
   "cell_type": "code",
   "execution_count": 25,
   "metadata": {
    "collapsed": true
   },
   "outputs": [],
   "source": [
    "solution = solver.Assignment()\n",
    "solution.Add(x)\n",
    "collector = solver.AllSolutionCollector(solution)"
   ]
  },
  {
   "cell_type": "markdown",
   "metadata": {},
   "source": [
    "下面创建搜索用的`Phase`对象，其参数为需要进行搜索的变量列表，变量选择算法，值选择算法。"
   ]
  },
  {
   "cell_type": "code",
   "execution_count": 26,
   "metadata": {},
   "outputs": [
    {
     "data": {
      "text/plain": [
       "ChooseFirstUnbound_SelectMinValue(x0(0..3), x1(0..3), x2(0..3), x3(0..3))"
      ]
     },
     "execution_count": 26,
     "metadata": {},
     "output_type": "execute_result"
    }
   ],
   "source": [
    "phase = solver.Phase(x, solver.CHOOSE_FIRST_UNBOUND, solver.ASSIGN_MIN_VALUE)\n",
    "phase"
   ]
  },
  {
   "cell_type": "markdown",
   "metadata": {},
   "source": [
    "最后调用`Solve()`方法对`Phase`对象求解，并收集解，返回`True`表示找到了解。"
   ]
  },
  {
   "cell_type": "code",
   "execution_count": 27,
   "metadata": {},
   "outputs": [
    {
     "data": {
      "text/plain": [
       "True"
      ]
     },
     "execution_count": 27,
     "metadata": {},
     "output_type": "execute_result"
    }
   ],
   "source": [
    "solver.Solve(phase, [collector])"
   ]
  },
  {
   "cell_type": "markdown",
   "metadata": {},
   "source": [
    "下面使用`collector`提供的各种方法提取所有的解。\n",
    "\n",
    "* `SolutionCount()`返回解的数量\n",
    "* `Solution(i)`返回第`i`个解\n",
    "\n",
    "每个解是一个`Assignment`对象。通过其`IntVarContainer()`获取包含解中的所有变量的`IntContainer`对象。该对象的`Size()`方法获取其中的元素个数，`Element(i)`获取其第`i`个元素。每个元素是一个`IntVarElement`对象，其`Value()`方法获取该元素对应的解，`Val()`方法获取该元素对应的`IntVar`变量。\n",
    "\n",
    "这里显示的解就是整数`0, 1, 2, 3`的全排列。"
   ]
  },
  {
   "cell_type": "code",
   "execution_count": 28,
   "metadata": {},
   "outputs": [
    {
     "name": "stdout",
     "output_type": "stream",
     "text": [
      "x0=0 x1=1 x2=2 x3=3 \n",
      "x0=0 x1=1 x2=3 x3=2 \n",
      "x0=0 x1=2 x2=1 x3=3 \n",
      "x0=0 x1=2 x2=3 x3=1 \n",
      "x0=0 x1=3 x2=1 x3=2 \n",
      "x0=0 x1=3 x2=2 x3=1 \n",
      "x0=1 x1=0 x2=2 x3=3 \n",
      "x0=1 x1=0 x2=3 x3=2 \n",
      "x0=1 x1=2 x2=0 x3=3 \n",
      "x0=1 x1=2 x2=3 x3=0 \n",
      "x0=1 x1=3 x2=0 x3=2 \n",
      "x0=1 x1=3 x2=2 x3=0 \n",
      "x0=2 x1=0 x2=1 x3=3 \n",
      "x0=2 x1=0 x2=3 x3=1 \n",
      "x0=2 x1=1 x2=0 x3=3 \n",
      "x0=2 x1=1 x2=3 x3=0 \n",
      "x0=2 x1=3 x2=0 x3=1 \n",
      "x0=2 x1=3 x2=1 x3=0 \n",
      "x0=3 x1=0 x2=1 x3=2 \n",
      "x0=3 x1=0 x2=2 x3=1 \n",
      "x0=3 x1=1 x2=0 x3=2 \n",
      "x0=3 x1=1 x2=2 x3=0 \n",
      "x0=3 x1=2 x2=0 x3=1 \n",
      "x0=3 x1=2 x2=1 x3=0 \n"
     ]
    }
   ],
   "source": [
    "for i in range(collector.SolutionCount()):\n",
    "    s = collector.Solution(i)\n",
    "    sc = s.IntVarContainer()\n",
    "    res = []\n",
    "    for j in range(sc.Size()):\n",
    "        el = sc.Element(j)\n",
    "        print(\"{}={}\".format(el.Var().Name(), el.Value()), end=\" \")\n",
    "    print()"
   ]
  },
  {
   "cell_type": "markdown",
   "metadata": {},
   "source": [
    "给了使用更Python化的语法，下面为`SolutionCollector`和`IntContainer`类添加`__len__()`和`__getitem__()`方法。为`Assignment`类添加`intvars`属性，为`IntVarElement`类添加`name`和`value`属性。"
   ]
  },
  {
   "cell_type": "code",
   "execution_count": 29,
   "metadata": {},
   "outputs": [],
   "source": [
    "def SolutionCollector__len__(self):\n",
    "    return self.SolutionCount()\n",
    "\n",
    "def SolutionCollector__getitem__(self, index):\n",
    "    if index < len(self):\n",
    "        return self.Solution(index)\n",
    "    else:\n",
    "        raise IndexError(\"index out of range {} of {}\".format(index, len(self)))\n",
    "\n",
    "def IntContainer__getitem__(self, index):\n",
    "    if index < len(self):\n",
    "        return self.Element(index)\n",
    "    else:\n",
    "        raise IndexError(\"index out of range {} of {}\".format(index, len(self)))\n",
    "        \n",
    "pywrapcp.SolutionCollector.__len__ = lambda self: self.SolutionCount()\n",
    "pywrapcp.SolutionCollector.__getitem__ = SolutionCollector__getitem__\n",
    "\n",
    "pywrapcp.Assignment.intvars = property(lambda self: self.IntVarContainer())\n",
    "pywrapcp.IntContainer.__len__ = lambda self: self.Size()\n",
    "pywrapcp.IntContainer.__getitem__ = IntContainer__getitem__\n",
    "pywrapcp.IntVarElement.name = property(lambda self: self.Var().Name())\n",
    "pywrapcp.IntVarElement.value = property(lambda self: self.Value())"
   ]
  },
  {
   "cell_type": "markdown",
   "metadata": {},
   "source": [
    "于是我们可以使用下面的程序获取所有的解："
   ]
  },
  {
   "cell_type": "code",
   "execution_count": 30,
   "metadata": {},
   "outputs": [
    {
     "name": "stdout",
     "output_type": "stream",
     "text": [
      "[('x0', 0), ('x1', 1), ('x2', 2), ('x3', 3)]\n",
      "[('x0', 0), ('x1', 1), ('x2', 3), ('x3', 2)]\n",
      "[('x0', 0), ('x1', 2), ('x2', 1), ('x3', 3)]\n",
      "[('x0', 0), ('x1', 2), ('x2', 3), ('x3', 1)]\n",
      "[('x0', 0), ('x1', 3), ('x2', 1), ('x3', 2)]\n",
      "[('x0', 0), ('x1', 3), ('x2', 2), ('x3', 1)]\n",
      "[('x0', 1), ('x1', 0), ('x2', 2), ('x3', 3)]\n",
      "[('x0', 1), ('x1', 0), ('x2', 3), ('x3', 2)]\n",
      "[('x0', 1), ('x1', 2), ('x2', 0), ('x3', 3)]\n",
      "[('x0', 1), ('x1', 2), ('x2', 3), ('x3', 0)]\n",
      "[('x0', 1), ('x1', 3), ('x2', 0), ('x3', 2)]\n",
      "[('x0', 1), ('x1', 3), ('x2', 2), ('x3', 0)]\n",
      "[('x0', 2), ('x1', 0), ('x2', 1), ('x3', 3)]\n",
      "[('x0', 2), ('x1', 0), ('x2', 3), ('x3', 1)]\n",
      "[('x0', 2), ('x1', 1), ('x2', 0), ('x3', 3)]\n",
      "[('x0', 2), ('x1', 1), ('x2', 3), ('x3', 0)]\n",
      "[('x0', 2), ('x1', 3), ('x2', 0), ('x3', 1)]\n",
      "[('x0', 2), ('x1', 3), ('x2', 1), ('x3', 0)]\n",
      "[('x0', 3), ('x1', 0), ('x2', 1), ('x3', 2)]\n",
      "[('x0', 3), ('x1', 0), ('x2', 2), ('x3', 1)]\n",
      "[('x0', 3), ('x1', 1), ('x2', 0), ('x3', 2)]\n",
      "[('x0', 3), ('x1', 1), ('x2', 2), ('x3', 0)]\n",
      "[('x0', 3), ('x1', 2), ('x2', 0), ('x3', 1)]\n",
      "[('x0', 3), ('x1', 2), ('x2', 1), ('x3', 0)]\n"
     ]
    }
   ],
   "source": [
    "for sl in collector:\n",
    "    print([(el.name, el.value) for el in sl.intvars])"
   ]
  },
  {
   "cell_type": "markdown",
   "metadata": {},
   "source": [
    "为了今后使用方便，在`ortoolshelp`模块中除了定义了下面两个函数。\n",
    "\n",
    "* `iter_solution(collector)`: 返回所有解的生成器。\n",
    "* `solve(solver, variables, collector_name)`: 对`solver`中的`variables`求解，`collector_name`指定解收集器。`First`表示搜集一个解，`All`表示搜集所有解。"
   ]
  },
  {
   "cell_type": "code",
   "execution_count": 31,
   "metadata": {},
   "outputs": [],
   "source": [
    "def iter_solutions(collector):\n",
    "    for assignment in collector:\n",
    "        yield [(el.name, el.value) for el in assignment.intvars]\n",
    "\n",
    "def solve(solver, variables, collector_name=\"First\"):\n",
    "    solution = solver.Assignment()\n",
    "    solution.Add(variables)\n",
    "    collector = getattr(solver, collector_name + \"SolutionCollector\")(solution)\n",
    "    phase = solver.Phase(variables, solver.CHOOSE_FIRST_UNBOUND, solver.ASSIGN_MIN_VALUE)\n",
    "    if solver.Solve(phase, [collector]):\n",
    "        return iter_solutions(collector)\n",
    "    else:\n",
    "        return ()"
   ]
  },
  {
   "cell_type": "markdown",
   "metadata": {},
   "source": [
    "## 硬币问题"
   ]
  },
  {
   "cell_type": "markdown",
   "metadata": {},
   "source": [
    "下面看一个实际的组合问题。\n",
    "\n",
    "用面值为`1, 2, 5, 10, 25, 50`的硬币凑齐`100`，列举所有硬币枚数小于等于`7`的所有可能。\n",
    "\n",
    "下面的`x`列表保存每种硬币出现的次数，次数的取值范围为`0`到`max_coins`。`ScalProd(x, coins)`将`x`和`coins`中的对应元素相乘，并计算总和，它返回的是一个包含`IntVar`变量的表达式。然后使用`==`比较运算符创建约束条件，并添加进`solver`。`Sum(x)`计算`x`的元素和，它得到的也是一个表达式，然后使用`<=`运算符创建约束条件。"
   ]
  },
  {
   "cell_type": "code",
   "execution_count": 37,
   "metadata": {},
   "outputs": [
    {
     "name": "stdout",
     "output_type": "stream",
     "text": [
      "50:2\n",
      "25:2, 50:1\n",
      "25:4\n",
      "10:5, 50:1\n",
      "10:5, 25:2\n",
      "5:1, 10:2, 25:1, 50:1\n",
      "5:1, 10:2, 25:3\n",
      "5:2, 10:4, 50:1\n",
      "5:3, 10:1, 25:1, 50:1\n",
      "5:3, 10:1, 25:3\n",
      "5:5, 25:1, 50:1\n",
      "1:1, 2:2, 10:2, 25:1, 50:1\n"
     ]
    }
   ],
   "source": [
    "coins = [1, 2, 5, 10, 25, 50]\n",
    "total = 100\n",
    "max_coins = 7\n",
    "n = len(coins)\n",
    "\n",
    "solver = pywrapcp.Solver(\"coins\")\n",
    "x = [solver.IntVar(0, max_coins, \"%d\" % c) for c in coins]\n",
    "solver.Add(total == solver.ScalProd(x, coins))\n",
    "solver.Add(solver.Sum(x) <= max_coins)\n",
    "\n",
    "for sol in solve(solver, x, collector_name=\"All\"):\n",
    "    print(\", \".join(\"{}:{}\".format(*item) for item in sol if item[1] > 0))"
   ]
  }
 ],
 "metadata": {
  "anaconda-cloud": {},
  "kernelspec": {
   "display_name": "Python [default]",
   "language": "python",
   "name": "python3"
  },
  "language_info": {
   "codemirror_mode": {
    "name": "ipython",
    "version": 3
   },
   "file_extension": ".py",
   "mimetype": "text/x-python",
   "name": "python",
   "nbconvert_exporter": "python",
   "pygments_lexer": "ipython3",
   "version": "3.5.2"
  }
 },
 "nbformat": 4,
 "nbformat_minor": 1
}
