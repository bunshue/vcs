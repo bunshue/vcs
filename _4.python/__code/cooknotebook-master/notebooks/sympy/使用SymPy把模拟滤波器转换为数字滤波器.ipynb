{
 "cells": [
  {
   "cell_type": "markdown",
   "metadata": {},
   "source": [
    "# 使用SymPy把模拟滤波器转换为数字滤波器"
   ]
  },
  {
   "cell_type": "code",
   "execution_count": 105,
   "metadata": {},
   "outputs": [],
   "source": [
    "from sympy import *\n",
    "from cytoolz import compose\n",
    "init_printing()"
   ]
  },
  {
   "cell_type": "markdown",
   "metadata": {},
   "source": [
    "巴特沃斯低通滤波器的传递函数可以用下面的公式表示：\n",
    "\n",
    "$$H(s)=\\frac{1}{\\prod_{k=1}^n (s-s_k)/\\omega_c}$$\n",
    "\n",
    "$$s_k = \\omega_c e^{\\frac{j(2k+n - 1)\\pi}{2n}}\\qquad\\mathrm{k = 1,2,3, \\ldots, n}$$\n",
    "\n",
    "下面使用SymPy计算$\\omega_c$为1时的滤波器传递函数。"
   ]
  },
  {
   "cell_type": "code",
   "execution_count": 106,
   "metadata": {},
   "outputs": [],
   "source": [
    "s = Symbol(\"s\", real=True)\n",
    "\n",
    "def butterworth(n, s):\n",
    "    n = S(n)\n",
    "    sk = [exp(I*(2*k+n-1)*pi / (2*n)) for k in range(S(1), n+1)]\n",
    "    denominator = Mul(*[s - v for v in sk])\n",
    "    simplify_func = compose(simplify, expand, simplify, expand_complex)\n",
    "    Hs = 1 / simplify_func(denominator)\n",
    "    return Hs"
   ]
  },
  {
   "cell_type": "markdown",
   "metadata": {},
   "source": [
    "下面是2阶和3阶滤波器的传递函数："
   ]
  },
  {
   "cell_type": "code",
   "execution_count": 107,
   "metadata": {},
   "outputs": [
    {
     "data": {
      "image/png": "[encoded data removed]",
      "text/latex": [
       "$$\\frac{1}{s^{2} + \\sqrt{2} s + 1}$$"
      ],
      "text/plain": [
       "      1      \n",
       "─────────────\n",
       " 2           \n",
       "s  + √2⋅s + 1"
      ]
     },
     "execution_count": 107,
     "metadata": {},
     "output_type": "execute_result"
    }
   ],
   "source": [
    "hs = butterworth(2, s)\n",
    "hs"
   ]
  },
  {
   "cell_type": "code",
   "execution_count": 108,
   "metadata": {},
   "outputs": [
    {
     "data": {
      "image/png": "[encoded data removed]",
      "text/latex": [
       "$$\\frac{1}{s^{3} + 2 s^{2} + 2 s + 1}$$"
      ],
      "text/plain": [
       "         1         \n",
       "───────────────────\n",
       " 3      2          \n",
       "s  + 2⋅s  + 2⋅s + 1"
      ]
     },
     "execution_count": 108,
     "metadata": {},
     "output_type": "execute_result"
    }
   ],
   "source": [
    "butterworth(3, s)"
   ]
  },
  {
   "cell_type": "markdown",
   "metadata": {},
   "source": [
    "为了将标准的低通传递函数转换为任何圆频率$\\omega_c$的传递函数，可以对$s$进行如下替换：\n",
    "\n",
    "$$s \\to \\frac{s}{\\omega_c}$$"
   ]
  },
  {
   "cell_type": "code",
   "execution_count": 93,
   "metadata": {},
   "outputs": [
    {
     "data": {
      "image/png": "[encoded data removed]",
      "text/latex": [
       "$$\\frac{1}{1 + \\frac{\\sqrt{2} s}{\\omega_c} + \\frac{s^{2}}{\\omega_c^{2}}}$$"
      ],
      "text/plain": [
       "           1            \n",
       "────────────────────────\n",
       "                    2   \n",
       "      √2⋅s         s    \n",
       "1 + ──────── + ─────────\n",
       "    \\omega_c           2\n",
       "               \\omega_c "
      ]
     },
     "execution_count": 93,
     "metadata": {},
     "output_type": "execute_result"
    }
   ],
   "source": [
    "wc = Symbol(\"\\omega_c\", real=True)\n",
    "\n",
    "def lp2lp(hs, s, wc):\n",
    "    return hs.subs(s, s / wc)\n",
    "\n",
    "hs2 = lp2lp(hs, s, wc)\n",
    "hs2"
   ]
  },
  {
   "cell_type": "markdown",
   "metadata": {},
   "source": [
    "有了连续时间系统的传递函数$H(s)$，下一步就是将它转换为离散时间系统的传递函数$H(z)$。转换的方法有几种，其中最常用的是双线性变换，其变换公式为：\n",
    "\n",
    "$$s \\leftarrow \\frac{2}{T} \\frac{z - 1}{z + 1}$$"
   ]
  },
  {
   "cell_type": "code",
   "execution_count": 109,
   "metadata": {},
   "outputs": [
    {
     "data": {
      "image/png": "[encoded data removed]",
      "text/latex": [
       "$$\\frac{T^{2} \\omega_c^{2} \\left(z^{2} + 2 z + 1\\right)}{T^{2} \\omega_c^{2} z^{2} + 2 T^{2} \\omega_c^{2} z + T^{2} \\omega_c^{2} + 2 \\sqrt{2} T \\omega_c z^{2} - 2 \\sqrt{2} T \\omega_c + 4 z^{2} - 8 z + 4}$$"
      ],
      "text/plain": [
       "                                        2         2 ⎛ 2          ⎞            \n",
       "                                       T ⋅\\omega_c ⋅⎝z  + 2⋅z + 1⎠            \n",
       "──────────────────────────────────────────────────────────────────────────────\n",
       " 2         2  2      2         2      2         2                    2        \n",
       "T ⋅\\omega_c ⋅z  + 2⋅T ⋅\\omega_c ⋅z + T ⋅\\omega_c  + 2⋅√2⋅T⋅\\omega_c⋅z  - 2⋅√2⋅\n",
       "\n",
       "                           \n",
       "                           \n",
       "───────────────────────────\n",
       "                2          \n",
       "T⋅\\omega_c + 4⋅z  - 8⋅z + 4"
      ]
     },
     "execution_count": 109,
     "metadata": {},
     "output_type": "execute_result"
    }
   ],
   "source": [
    "def bilinear(hs, s, z, T):\n",
    "    hz = hs.subs(s, 2 / T * (z - 1) / (z + 1))\n",
    "    simplify_func = compose(simplify, expand, simplify, expand)\n",
    "    return simplify_func(hz)\n",
    "\n",
    "z, T = symbols(\"z T\", real=True)\n",
    "hz = bilinear(hs2, s, z, T)\n",
    "hz"
   ]
  },
  {
   "cell_type": "markdown",
   "metadata": {},
   "source": [
    "为了计算数字滤波器的频率响应，需要进行如下替换，其中$\\omega$为要计算相应的圆频率：\n",
    "\n",
    "$$z=e^{j\\omega T}$$\n",
    "\n",
    "频率响应计算得到的是一个复数，它的幅值为增益，相角为相位。下面的`freqz()`函数返回复数的实部和虚部。"
   ]
  },
  {
   "cell_type": "code",
   "execution_count": 122,
   "metadata": {},
   "outputs": [],
   "source": [
    "def freqz(hs, z, w, T):\n",
    "    hz_freq = hz.subs(z, exp(I*w*T))\n",
    "    exp_hz_freq = expand_complex(hz_freq)\n",
    "    return simplify(re(exp_hz_freq)), simplify(im(exp_hz_freq))"
   ]
  },
  {
   "cell_type": "code",
   "execution_count": 123,
   "metadata": {},
   "outputs": [],
   "source": [
    "w = Symbol(\"\\omega\", real=True)\n",
    "re_hz_freq, im_hz_freq = freqz(hs, z, w, T)"
   ]
  },
  {
   "cell_type": "code",
   "execution_count": 124,
   "metadata": {},
   "outputs": [
    {
     "data": {
      "image/png": "[encoded data removed]",
      "text/latex": [
       "$$\\frac{T^{2} \\omega_c^{2} \\left(- T^{2} \\omega_c^{2} \\sin^{2}{\\left (T \\omega \\right )} + 2 T^{2} \\omega_c^{2} \\cos{\\left (T \\omega \\right )} + 2 T^{2} \\omega_c^{2} - 4 \\sin^{2}{\\left (T \\omega \\right )}\\right)}{- T^{4} \\omega_c^{4} \\sin^{2}{\\left (T \\omega \\right )} + 2 T^{4} \\omega_c^{4} \\cos{\\left (T \\omega \\right )} + 2 T^{4} \\omega_c^{4} - 16 \\sin^{2}{\\left (T \\omega \\right )} - 32 \\cos{\\left (T \\omega \\right )} + 32}$$"
      ],
      "text/plain": [
       "      2         2 ⎛   2         2    2                2         2             \n",
       "     T ⋅\\omega_c ⋅⎝- T ⋅\\omega_c ⋅sin (T⋅\\omega) + 2⋅T ⋅\\omega_c ⋅cos(T⋅\\omega\n",
       "──────────────────────────────────────────────────────────────────────────────\n",
       "   4         4    2                4         4                    4         4 \n",
       "- T ⋅\\omega_c ⋅sin (T⋅\\omega) + 2⋅T ⋅\\omega_c ⋅cos(T⋅\\omega) + 2⋅T ⋅\\omega_c  \n",
       "\n",
       "       2         2        2          ⎞     \n",
       ") + 2⋅T ⋅\\omega_c  - 4⋅sin (T⋅\\omega)⎠     \n",
       "───────────────────────────────────────────\n",
       "        2                                  \n",
       "- 16⋅sin (T⋅\\omega) - 32⋅cos(T⋅\\omega) + 32"
      ]
     },
     "execution_count": 124,
     "metadata": {},
     "output_type": "execute_result"
    }
   ],
   "source": [
    "re_hz_freq"
   ]
  },
  {
   "cell_type": "code",
   "execution_count": 125,
   "metadata": {},
   "outputs": [
    {
     "data": {
      "image/png": "[encoded data removed]",
      "text/latex": [
       "$$- \\frac{2 \\sqrt{2} T^{3} \\omega_c^{3} \\left(\\cos{\\left (T \\omega \\right )} + 1\\right) \\sin{\\left (T \\omega \\right )}}{T^{4} \\omega_c^{4} \\cos^{2}{\\left (T \\omega \\right )} + 2 T^{4} \\omega_c^{4} \\cos{\\left (T \\omega \\right )} + T^{4} \\omega_c^{4} + 16 \\cos^{2}{\\left (T \\omega \\right )} - 32 \\cos{\\left (T \\omega \\right )} + 16}$$"
      ],
      "text/plain": [
       "                                       3         3                            \n",
       "                                -2⋅√2⋅T ⋅\\omega_c ⋅(cos(T⋅\\omega) + 1)⋅sin(T⋅\\\n",
       "──────────────────────────────────────────────────────────────────────────────\n",
       " 4         4    2                4         4                  4         4     \n",
       "T ⋅\\omega_c ⋅cos (T⋅\\omega) + 2⋅T ⋅\\omega_c ⋅cos(T⋅\\omega) + T ⋅\\omega_c  + 16\n",
       "\n",
       "                                       \n",
       "omega)                                 \n",
       "───────────────────────────────────────\n",
       "    2                                  \n",
       "⋅cos (T⋅\\omega) - 32⋅cos(T⋅\\omega) + 16"
      ]
     },
     "execution_count": 125,
     "metadata": {},
     "output_type": "execute_result"
    }
   ],
   "source": [
    "im_hz_freq"
   ]
  },
  {
   "cell_type": "markdown",
   "metadata": {},
   "source": [
    "为了把上面的表达式转换为JavaScript代码，我们首先使用`cse()`对其进行分步运算。"
   ]
  },
  {
   "cell_type": "code",
   "execution_count": 129,
   "metadata": {},
   "outputs": [
    {
     "data": {
      "image/png": "[encoded data removed]",
      "text/latex": [
       "$$\\left [ \\left ( x_{0}, \\quad T^{2}\\right ), \\quad \\left ( x_{1}, \\quad \\omega_c^{2}\\right ), \\quad \\left ( x_{2}, \\quad x_{0} x_{1}\\right ), \\quad \\left ( x_{3}, \\quad 2 x_{0} x_{1}\\right ), \\quad \\left ( x_{4}, \\quad T \\omega\\right ), \\quad \\left ( x_{5}, \\quad \\sin{\\left (x_{4} \\right )}\\right ), \\quad \\left ( x_{6}, \\quad x_{5}^{2}\\right ), \\quad \\left ( x_{7}, \\quad \\cos{\\left (x_{4} \\right )}\\right ), \\quad \\left ( x_{8}, \\quad T^{4} \\omega_c^{4}\\right ), \\quad \\left ( x_{9}, \\quad 2 x_{8}\\right ), \\quad \\left ( x_{10}, \\quad x_{7} x_{9} - 32 x_{7}\\right ), \\quad \\left ( x_{11}, \\quad x_{7}^{2}\\right )\\right ]$$"
      ],
      "text/plain": [
       "⎡⎛     2⎞  ⎛            2⎞                                                    \n",
       "⎣⎝x₀, T ⎠, ⎝x₁, \\omega_c ⎠, (x₂, x₀⋅x₁), (x₃, 2⋅x₀⋅x₁), (x₄, T⋅\\omega), (x₅, s\n",
       "\n",
       "         ⎛      2⎞                 ⎛     4         4⎞                         \n",
       "in(x₄)), ⎝x₆, x₅ ⎠, (x₇, cos(x₄)), ⎝x₈, T ⋅\\omega_c ⎠, (x₉, 2⋅x₈), (x₁₀, x₇⋅x₉\n",
       "\n",
       "           ⎛       2⎞⎤\n",
       " - 32⋅x₇), ⎝x₁₁, x₇ ⎠⎦"
      ]
     },
     "execution_count": 129,
     "metadata": {},
     "output_type": "execute_result"
    }
   ],
   "source": [
    "steps, res = cse([re_hz_freq, im_hz_freq])\n",
    "steps"
   ]
  },
  {
   "cell_type": "code",
   "execution_count": 130,
   "metadata": {},
   "outputs": [
    {
     "data": {
      "image/png": "[encoded data removed]",
      "text/latex": [
       "$$\\left [ \\frac{x_{2} \\left(- x_{2} x_{6} + x_{3} x_{7} + x_{3} - 4 x_{6}\\right)}{x_{10} - x_{6} x_{8} - 16 x_{6} + x_{9} + 32}, \\quad - \\frac{2 \\sqrt{2} T^{3} \\omega_c^{3} x_{5} \\left(x_{7} + 1\\right)}{x_{10} + x_{11} x_{8} + 16 x_{11} + x_{8} + 16}\\right ]$$"
      ],
      "text/plain": [
       "⎡                                        3         3             ⎤\n",
       "⎢x₂⋅(-x₂⋅x₆ + x₃⋅x₇ + x₃ - 4⋅x₆)  -2⋅√2⋅T ⋅\\omega_c ⋅x₅⋅(x₇ + 1) ⎥\n",
       "⎢───────────────────────────────, ───────────────────────────────⎥\n",
       "⎣ x₁₀ - x₆⋅x₈ - 16⋅x₆ + x₉ + 32   x₁₀ + x₁₁⋅x₈ + 16⋅x₁₁ + x₈ + 16⎦"
      ]
     },
     "execution_count": 130,
     "metadata": {},
     "output_type": "execute_result"
    }
   ],
   "source": [
    "res"
   ]
  },
  {
   "cell_type": "markdown",
   "metadata": {},
   "source": [
    "下面的函数使用`cse()`将表达式进行步骤分解，然后永`sympy.printing.jscode()`将各个步骤以及表示最终结果的表达式转换为JavaScript代码。"
   ]
  },
  {
   "cell_type": "code",
   "execution_count": 156,
   "metadata": {},
   "outputs": [],
   "source": [
    "def to_javascript(funcname, args, expr):\n",
    "    from sympy.printing import jscode\n",
    "    steps, res = cse(expr, symbols=numbered_symbols(\"_tmp\"))\n",
    "    code = [\n",
    "        \"window.{} = function(args){{\".format(funcname)\n",
    "    ]\n",
    "    \n",
    "    for i, v in enumerate(args):\n",
    "        code.append(\"var {} = args[{}];\".format(str(v), i))\n",
    "    \n",
    "    for v, e in steps:\n",
    "        code.append(\"var {} = {};\".format(v, jscode(e)))\n",
    "        \n",
    "    code.append(\"return [{}];\".format(\", \".join(jscode(r) for r in res)))\n",
    "    code.append(\"}\")\n",
    "    return \"\\n\".join(code).replace(\"\\\\\", \"\")"
   ]
  },
  {
   "cell_type": "code",
   "execution_count": 157,
   "metadata": {},
   "outputs": [
    {
     "name": "stdout",
     "output_type": "stream",
     "text": [
      "window.butter_lp_freqz = function(args){\n",
      "var T = args[0];\n",
      "var omega = args[1];\n",
      "var omega_c = args[2];\n",
      "var _tmp0 = Math.pow(T, 2);\n",
      "var _tmp1 = Math.pow(omega_c, 2);\n",
      "var _tmp2 = _tmp0*_tmp1;\n",
      "var _tmp3 = 2*_tmp0*_tmp1;\n",
      "var _tmp4 = T*omega;\n",
      "var _tmp5 = Math.sin(_tmp4);\n",
      "var _tmp6 = Math.pow(_tmp5, 2);\n",
      "var _tmp7 = Math.cos(_tmp4);\n",
      "var _tmp8 = Math.pow(T, 4)*Math.pow(omega_c, 4);\n",
      "var _tmp9 = 2*_tmp8;\n",
      "var _tmp10 = _tmp7*_tmp9 - 32*_tmp7;\n",
      "var _tmp11 = Math.pow(_tmp7, 2);\n",
      "return [_tmp2*(-_tmp2*_tmp6 + _tmp3*_tmp7 + _tmp3 - 4*_tmp6)/(_tmp10 - _tmp6*_tmp8 - 16*_tmp6 + _tmp9 + 32), -2*Math.sqrt(2)*Math.pow(T, 3)*Math.pow(omega_c, 3)*_tmp5*(_tmp7 + 1)/(_tmp10 + _tmp11*_tmp8 + 16*_tmp11 + _tmp8 + 16)];\n",
      "}\n"
     ]
    }
   ],
   "source": [
    "code = to_javascript(\"butter_lp_freqz\", [T, w, wc], [re_hz_freq, im_hz_freq])\n",
    "print(code)"
   ]
  },
  {
   "cell_type": "markdown",
   "metadata": {},
   "source": [
    "下面通过`IPython.display.display_javascript()`将上述JavaScript代码输出到Notebook中。"
   ]
  },
  {
   "cell_type": "code",
   "execution_count": 184,
   "metadata": {},
   "outputs": [
    {
     "data": {
      "application/javascript": [
       "window.butter_lp_freqz = function(args){\n",
       "var T = args[0];\n",
       "var omega = args[1];\n",
       "var omega_c = args[2];\n",
       "var _tmp0 = Math.pow(T, 2);\n",
       "var _tmp1 = Math.pow(omega_c, 2);\n",
       "var _tmp2 = _tmp0*_tmp1;\n",
       "var _tmp3 = 2*_tmp0*_tmp1;\n",
       "var _tmp4 = T*omega;\n",
       "var _tmp5 = Math.sin(_tmp4);\n",
       "var _tmp6 = Math.pow(_tmp5, 2);\n",
       "var _tmp7 = Math.cos(_tmp4);\n",
       "var _tmp8 = Math.pow(T, 4)*Math.pow(omega_c, 4);\n",
       "var _tmp9 = 2*_tmp8;\n",
       "var _tmp10 = _tmp7*_tmp9 - 32*_tmp7;\n",
       "var _tmp11 = Math.pow(_tmp7, 2);\n",
       "return [_tmp2*(-_tmp2*_tmp6 + _tmp3*_tmp7 + _tmp3 - 4*_tmp6)/(_tmp10 - _tmp6*_tmp8 - 16*_tmp6 + _tmp9 + 32), -2*Math.sqrt(2)*Math.pow(T, 3)*Math.pow(omega_c, 3)*_tmp5*(_tmp7 + 1)/(_tmp10 + _tmp11*_tmp8 + 16*_tmp11 + _tmp8 + 16)];\n",
       "}"
      ]
     },
     "metadata": {},
     "output_type": "display_data"
    }
   ],
   "source": [
    "from IPython.display import display_javascript\n",
    "display_javascript(code, raw=True)"
   ]
  },
  {
   "cell_type": "code",
   "execution_count": 185,
   "metadata": {},
   "outputs": [
    {
     "data": {
      "text/html": [
       "\n",
       "    <div class=\"bk-root\">\n",
       "        <a href=\"https://bokeh.pydata.org\" target=\"_blank\" class=\"bk-logo bk-logo-small bk-logo-notebook\"></a>\n",
       "        <span id=\"2c1f4b5d-b479-4b91-ba92-a53f40781bd8\">Loading BokehJS ...</span>\n",
       "    </div>"
      ]
     },
     "metadata": {},
     "output_type": "display_data"
    },
    {
     "data": {
      "application/javascript": [
       "\n",
       "(function(root) {\n",
       "  function now() {\n",
       "    return new Date();\n",
       "  }\n",
       "\n",
       "  var force = true;\n",
       "\n",
       "  if (typeof (root._bokeh_onload_callbacks) === \"undefined\" || force === true) {\n",
       "    root._bokeh_onload_callbacks = [];\n",
       "    root._bokeh_is_loading = undefined;\n",
       "  }\n",
       "\n",
       "  var JS_MIME_TYPE = 'application/javascript';\n",
       "  var HTML_MIME_TYPE = 'text/html';\n",
       "  var EXEC_MIME_TYPE = 'application/vnd.bokehjs_exec.v0+json';\n",
       "  var CLASS_NAME = 'output_bokeh rendered_html';\n",
       "\n",
       "  /**\n",
       "   * Render data to the DOM node\n",
       "   */\n",
       "  function render(props, node) {\n",
       "    var script = document.createElement(\"script\");\n",
       "    node.appendChild(script);\n",
       "  }\n",
       "\n",
       "  /**\n",
       "   * Handle when an output is cleared or removed\n",
       "   */\n",
       "  function handleClearOutput(event, handle) {\n",
       "    var cell = handle.cell;\n",
       "\n",
       "    var id = cell.output_area._bokeh_element_id;\n",
       "    var server_id = cell.output_area._bokeh_server_id;\n",
       "    // Clean up Bokeh references\n",
       "    if (id !== undefined) {\n",
       "      Bokeh.index[id].model.document.clear();\n",
       "      delete Bokeh.index[id];\n",
       "    }\n",
       "\n",
       "    if (server_id !== undefined) {\n",
       "      // Clean up Bokeh references\n",
       "      var cmd = \"from bokeh.io.state import curstate; print(curstate().uuid_to_server['\" + server_id + \"'].get_sessions()[0].document.roots[0]._id)\";\n",
       "      cell.notebook.kernel.execute(cmd, {\n",
       "        iopub: {\n",
       "          output: function(msg) {\n",
       "            var element_id = msg.content.text.trim();\n",
       "            Bokeh.index[element_id].model.document.clear();\n",
       "            delete Bokeh.index[element_id];\n",
       "          }\n",
       "        }\n",
       "      });\n",
       "      // Destroy server and session\n",
       "      var cmd = \"import bokeh.io.notebook as ion; ion.destroy_server('\" + server_id + \"')\";\n",
       "      cell.notebook.kernel.execute(cmd);\n",
       "    }\n",
       "  }\n",
       "\n",
       "  /**\n",
       "   * Handle when a new output is added\n",
       "   */\n",
       "  function handleAddOutput(event, handle) {\n",
       "    var output_area = handle.output_area;\n",
       "    var output = handle.output;\n",
       "\n",
       "    // limit handleAddOutput to display_data with EXEC_MIME_TYPE content only\n",
       "    if ((output.output_type != \"display_data\") || (!output.data.hasOwnProperty(EXEC_MIME_TYPE))) {\n",
       "      return\n",
       "    }\n",
       "\n",
       "    var toinsert = output_area.element.find(`.${CLASS_NAME.split(' ')[0]}`);\n",
       "\n",
       "    if (output.metadata[EXEC_MIME_TYPE][\"id\"] !== undefined) {\n",
       "      toinsert[0].firstChild.textContent = output.data[JS_MIME_TYPE];\n",
       "      // store reference to embed id on output_area\n",
       "      output_area._bokeh_element_id = output.metadata[EXEC_MIME_TYPE][\"id\"];\n",
       "    }\n",
       "    if (output.metadata[EXEC_MIME_TYPE][\"server_id\"] !== undefined) {\n",
       "      var bk_div = document.createElement(\"div\");\n",
       "      bk_div.innerHTML = output.data[HTML_MIME_TYPE];\n",
       "      var script_attrs = bk_div.children[0].attributes;\n",
       "      for (var i = 0; i < script_attrs.length; i++) {\n",
       "        toinsert[0].firstChild.setAttribute(script_attrs[i].name, script_attrs[i].value);\n",
       "      }\n",
       "      // store reference to server id on output_area\n",
       "      output_area._bokeh_server_id = output.metadata[EXEC_MIME_TYPE][\"server_id\"];\n",
       "    }\n",
       "  }\n",
       "\n",
       "  function register_renderer(events, OutputArea) {\n",
       "\n",
       "    function append_mime(data, metadata, element) {\n",
       "      // create a DOM node to render to\n",
       "      var toinsert = this.create_output_subarea(\n",
       "        metadata,\n",
       "        CLASS_NAME,\n",
       "        EXEC_MIME_TYPE\n",
       "      );\n",
       "      this.keyboard_manager.register_events(toinsert);\n",
       "      // Render to node\n",
       "      var props = {data: data, metadata: metadata[EXEC_MIME_TYPE]};\n",
       "      render(props, toinsert[0]);\n",
       "      element.append(toinsert);\n",
       "      return toinsert\n",
       "    }\n",
       "\n",
       "    /* Handle when an output is cleared or removed */\n",
       "    events.on('clear_output.CodeCell', handleClearOutput);\n",
       "    events.on('delete.Cell', handleClearOutput);\n",
       "\n",
       "    /* Handle when a new output is added */\n",
       "    events.on('output_added.OutputArea', handleAddOutput);\n",
       "\n",
       "    /**\n",
       "     * Register the mime type and append_mime function with output_area\n",
       "     */\n",
       "    OutputArea.prototype.register_mime_type(EXEC_MIME_TYPE, append_mime, {\n",
       "      /* Is output safe? */\n",
       "      safe: true,\n",
       "      /* Index of renderer in `output_area.display_order` */\n",
       "      index: 0\n",
       "    });\n",
       "  }\n",
       "\n",
       "  // register the mime type if in Jupyter Notebook environment and previously unregistered\n",
       "  if (root.Jupyter !== undefined) {\n",
       "    var events = require('base/js/events');\n",
       "    var OutputArea = require('notebook/js/outputarea').OutputArea;\n",
       "\n",
       "    if (OutputArea.prototype.mime_types().indexOf(EXEC_MIME_TYPE) == -1) {\n",
       "      register_renderer(events, OutputArea);\n",
       "    }\n",
       "  }\n",
       "\n",
       "  \n",
       "  if (typeof (root._bokeh_timeout) === \"undefined\" || force === true) {\n",
       "    root._bokeh_timeout = Date.now() + 5000;\n",
       "    root._bokeh_failed_load = false;\n",
       "  }\n",
       "\n",
       "  var NB_LOAD_WARNING = {'data': {'text/html':\n",
       "     \"<div style='background-color: #fdd'>\\n\"+\n",
       "     \"<p>\\n\"+\n",
       "     \"BokehJS does not appear to have successfully loaded. If loading BokehJS from CDN, this \\n\"+\n",
       "     \"may be due to a slow or bad network connection. Possible fixes:\\n\"+\n",
       "     \"</p>\\n\"+\n",
       "     \"<ul>\\n\"+\n",
       "     \"<li>re-rerun `output_notebook()` to attempt to load from CDN again, or</li>\\n\"+\n",
       "     \"<li>use INLINE resources instead, as so:</li>\\n\"+\n",
       "     \"</ul>\\n\"+\n",
       "     \"<code>\\n\"+\n",
       "     \"from bokeh.resources import INLINE\\n\"+\n",
       "     \"output_notebook(resources=INLINE)\\n\"+\n",
       "     \"</code>\\n\"+\n",
       "     \"</div>\"}};\n",
       "\n",
       "  function display_loaded() {\n",
       "    var el = document.getElementById(\"2c1f4b5d-b479-4b91-ba92-a53f40781bd8\");\n",
       "    if (el != null) {\n",
       "      el.textContent = \"BokehJS is loading...\";\n",
       "    }\n",
       "    if (root.Bokeh !== undefined) {\n",
       "      if (el != null) {\n",
       "        el.textContent = \"BokehJS \" + root.Bokeh.version + \" successfully loaded.\";\n",
       "      }\n",
       "    } else if (Date.now() < root._bokeh_timeout) {\n",
       "      setTimeout(display_loaded, 100)\n",
       "    }\n",
       "  }\n",
       "\n",
       "\n",
       "  function run_callbacks() {\n",
       "    try {\n",
       "      root._bokeh_onload_callbacks.forEach(function(callback) { callback() });\n",
       "    }\n",
       "    finally {\n",
       "      delete root._bokeh_onload_callbacks\n",
       "    }\n",
       "    console.info(\"Bokeh: all callbacks have finished\");\n",
       "  }\n",
       "\n",
       "  function load_libs(js_urls, callback) {\n",
       "    root._bokeh_onload_callbacks.push(callback);\n",
       "    if (root._bokeh_is_loading > 0) {\n",
       "      console.log(\"Bokeh: BokehJS is being loaded, scheduling callback at\", now());\n",
       "      return null;\n",
       "    }\n",
       "    if (js_urls == null || js_urls.length === 0) {\n",
       "      run_callbacks();\n",
       "      return null;\n",
       "    }\n",
       "    console.log(\"Bokeh: BokehJS not loaded, scheduling load and callback at\", now());\n",
       "    root._bokeh_is_loading = js_urls.length;\n",
       "    for (var i = 0; i < js_urls.length; i++) {\n",
       "      var url = js_urls[i];\n",
       "      var s = document.createElement('script');\n",
       "      s.src = url;\n",
       "      s.async = false;\n",
       "      s.onreadystatechange = s.onload = function() {\n",
       "        root._bokeh_is_loading--;\n",
       "        if (root._bokeh_is_loading === 0) {\n",
       "          console.log(\"Bokeh: all BokehJS libraries loaded\");\n",
       "          run_callbacks()\n",
       "        }\n",
       "      };\n",
       "      s.onerror = function() {\n",
       "        console.warn(\"failed to load library \" + url);\n",
       "      };\n",
       "      console.log(\"Bokeh: injecting script tag for BokehJS library: \", url);\n",
       "      document.getElementsByTagName(\"head\")[0].appendChild(s);\n",
       "    }\n",
       "  };var element = document.getElementById(\"2c1f4b5d-b479-4b91-ba92-a53f40781bd8\");\n",
       "  if (element == null) {\n",
       "    console.log(\"Bokeh: ERROR: autoload.js configured with elementid '2c1f4b5d-b479-4b91-ba92-a53f40781bd8' but no matching script tag was found. \")\n",
       "    return false;\n",
       "  }\n",
       "\n",
       "  var js_urls = [\"https://cdn.pydata.org/bokeh/release/bokeh-0.12.10.min.js\", \"https://cdn.pydata.org/bokeh/release/bokeh-widgets-0.12.10.min.js\", \"https://cdn.pydata.org/bokeh/release/bokeh-tables-0.12.10.min.js\", \"https://cdn.pydata.org/bokeh/release/bokeh-gl-0.12.10.min.js\"];\n",
       "\n",
       "  var inline_js = [\n",
       "    function(Bokeh) {\n",
       "      Bokeh.set_log_level(\"info\");\n",
       "    },\n",
       "    \n",
       "    function(Bokeh) {\n",
       "      \n",
       "    },\n",
       "    function(Bokeh) {\n",
       "      console.log(\"Bokeh: injecting CSS: https://cdn.pydata.org/bokeh/release/bokeh-0.12.10.min.css\");\n",
       "      Bokeh.embed.inject_css(\"https://cdn.pydata.org/bokeh/release/bokeh-0.12.10.min.css\");\n",
       "      console.log(\"Bokeh: injecting CSS: https://cdn.pydata.org/bokeh/release/bokeh-widgets-0.12.10.min.css\");\n",
       "      Bokeh.embed.inject_css(\"https://cdn.pydata.org/bokeh/release/bokeh-widgets-0.12.10.min.css\");\n",
       "      console.log(\"Bokeh: injecting CSS: https://cdn.pydata.org/bokeh/release/bokeh-tables-0.12.10.min.css\");\n",
       "      Bokeh.embed.inject_css(\"https://cdn.pydata.org/bokeh/release/bokeh-tables-0.12.10.min.css\");\n",
       "    }\n",
       "  ];\n",
       "\n",
       "  function run_inline_js() {\n",
       "    \n",
       "    if ((root.Bokeh !== undefined) || (force === true)) {\n",
       "      for (var i = 0; i < inline_js.length; i++) {\n",
       "        inline_js[i].call(root, root.Bokeh);\n",
       "      }if (force === true) {\n",
       "        display_loaded();\n",
       "      }} else if (Date.now() < root._bokeh_timeout) {\n",
       "      setTimeout(run_inline_js, 100);\n",
       "    } else if (!root._bokeh_failed_load) {\n",
       "      console.log(\"Bokeh: BokehJS failed to load within specified timeout.\");\n",
       "      root._bokeh_failed_load = true;\n",
       "    } else if (force !== true) {\n",
       "      var cell = $(document.getElementById(\"2c1f4b5d-b479-4b91-ba92-a53f40781bd8\")).parents('.cell').data().cell;\n",
       "      cell.output_area.append_execute_result(NB_LOAD_WARNING)\n",
       "    }\n",
       "\n",
       "  }\n",
       "\n",
       "  if (root._bokeh_is_loading === 0) {\n",
       "    console.log(\"Bokeh: BokehJS loaded, going straight to plotting\");\n",
       "    run_inline_js();\n",
       "  } else {\n",
       "    load_libs(js_urls, function() {\n",
       "      console.log(\"Bokeh: BokehJS plotting callback run at\", now());\n",
       "      run_inline_js();\n",
       "    });\n",
       "  }\n",
       "}(window));"
      ],
      "application/vnd.bokehjs_load.v0+json": "\n(function(root) {\n  function now() {\n    return new Date();\n  }\n\n  var force = true;\n\n  if (typeof (root._bokeh_onload_callbacks) === \"undefined\" || force === true) {\n    root._bokeh_onload_callbacks = [];\n    root._bokeh_is_loading = undefined;\n  }\n\n  \n\n  \n  if (typeof (root._bokeh_timeout) === \"undefined\" || force === true) {\n    root._bokeh_timeout = Date.now() + 5000;\n    root._bokeh_failed_load = false;\n  }\n\n  var NB_LOAD_WARNING = {'data': {'text/html':\n     \"<div style='background-color: #fdd'>\\n\"+\n     \"<p>\\n\"+\n     \"BokehJS does not appear to have successfully loaded. If loading BokehJS from CDN, this \\n\"+\n     \"may be due to a slow or bad network connection. Possible fixes:\\n\"+\n     \"</p>\\n\"+\n     \"<ul>\\n\"+\n     \"<li>re-rerun `output_notebook()` to attempt to load from CDN again, or</li>\\n\"+\n     \"<li>use INLINE resources instead, as so:</li>\\n\"+\n     \"</ul>\\n\"+\n     \"<code>\\n\"+\n     \"from bokeh.resources import INLINE\\n\"+\n     \"output_notebook(resources=INLINE)\\n\"+\n     \"</code>\\n\"+\n     \"</div>\"}};\n\n  function display_loaded() {\n    var el = document.getElementById(\"2c1f4b5d-b479-4b91-ba92-a53f40781bd8\");\n    if (el != null) {\n      el.textContent = \"BokehJS is loading...\";\n    }\n    if (root.Bokeh !== undefined) {\n      if (el != null) {\n        el.textContent = \"BokehJS \" + root.Bokeh.version + \" successfully loaded.\";\n      }\n    } else if (Date.now() < root._bokeh_timeout) {\n      setTimeout(display_loaded, 100)\n    }\n  }\n\n\n  function run_callbacks() {\n    try {\n      root._bokeh_onload_callbacks.forEach(function(callback) { callback() });\n    }\n    finally {\n      delete root._bokeh_onload_callbacks\n    }\n    console.info(\"Bokeh: all callbacks have finished\");\n  }\n\n  function load_libs(js_urls, callback) {\n    root._bokeh_onload_callbacks.push(callback);\n    if (root._bokeh_is_loading > 0) {\n      console.log(\"Bokeh: BokehJS is being loaded, scheduling callback at\", now());\n      return null;\n    }\n    if (js_urls == null || js_urls.length === 0) {\n      run_callbacks();\n      return null;\n    }\n    console.log(\"Bokeh: BokehJS not loaded, scheduling load and callback at\", now());\n    root._bokeh_is_loading = js_urls.length;\n    for (var i = 0; i < js_urls.length; i++) {\n      var url = js_urls[i];\n      var s = document.createElement('script');\n      s.src = url;\n      s.async = false;\n      s.onreadystatechange = s.onload = function() {\n        root._bokeh_is_loading--;\n        if (root._bokeh_is_loading === 0) {\n          console.log(\"Bokeh: all BokehJS libraries loaded\");\n          run_callbacks()\n        }\n      };\n      s.onerror = function() {\n        console.warn(\"failed to load library \" + url);\n      };\n      console.log(\"Bokeh: injecting script tag for BokehJS library: \", url);\n      document.getElementsByTagName(\"head\")[0].appendChild(s);\n    }\n  };var element = document.getElementById(\"2c1f4b5d-b479-4b91-ba92-a53f40781bd8\");\n  if (element == null) {\n    console.log(\"Bokeh: ERROR: autoload.js configured with elementid '2c1f4b5d-b479-4b91-ba92-a53f40781bd8' but no matching script tag was found. \")\n    return false;\n  }\n\n  var js_urls = [\"https://cdn.pydata.org/bokeh/release/bokeh-0.12.10.min.js\", \"https://cdn.pydata.org/bokeh/release/bokeh-widgets-0.12.10.min.js\", \"https://cdn.pydata.org/bokeh/release/bokeh-tables-0.12.10.min.js\", \"https://cdn.pydata.org/bokeh/release/bokeh-gl-0.12.10.min.js\"];\n\n  var inline_js = [\n    function(Bokeh) {\n      Bokeh.set_log_level(\"info\");\n    },\n    \n    function(Bokeh) {\n      \n    },\n    function(Bokeh) {\n      console.log(\"Bokeh: injecting CSS: https://cdn.pydata.org/bokeh/release/bokeh-0.12.10.min.css\");\n      Bokeh.embed.inject_css(\"https://cdn.pydata.org/bokeh/release/bokeh-0.12.10.min.css\");\n      console.log(\"Bokeh: injecting CSS: https://cdn.pydata.org/bokeh/release/bokeh-widgets-0.12.10.min.css\");\n      Bokeh.embed.inject_css(\"https://cdn.pydata.org/bokeh/release/bokeh-widgets-0.12.10.min.css\");\n      console.log(\"Bokeh: injecting CSS: https://cdn.pydata.org/bokeh/release/bokeh-tables-0.12.10.min.css\");\n      Bokeh.embed.inject_css(\"https://cdn.pydata.org/bokeh/release/bokeh-tables-0.12.10.min.css\");\n    }\n  ];\n\n  function run_inline_js() {\n    \n    if ((root.Bokeh !== undefined) || (force === true)) {\n      for (var i = 0; i < inline_js.length; i++) {\n        inline_js[i].call(root, root.Bokeh);\n      }if (force === true) {\n        display_loaded();\n      }} else if (Date.now() < root._bokeh_timeout) {\n      setTimeout(run_inline_js, 100);\n    } else if (!root._bokeh_failed_load) {\n      console.log(\"Bokeh: BokehJS failed to load within specified timeout.\");\n      root._bokeh_failed_load = true;\n    } else if (force !== true) {\n      var cell = $(document.getElementById(\"2c1f4b5d-b479-4b91-ba92-a53f40781bd8\")).parents('.cell').data().cell;\n      cell.output_area.append_execute_result(NB_LOAD_WARNING)\n    }\n\n  }\n\n  if (root._bokeh_is_loading === 0) {\n    console.log(\"Bokeh: BokehJS loaded, going straight to plotting\");\n    run_inline_js();\n  } else {\n    load_libs(js_urls, function() {\n      console.log(\"Bokeh: BokehJS plotting callback run at\", now());\n      run_inline_js();\n    });\n  }\n}(window));"
     },
     "metadata": {},
     "output_type": "display_data"
    }
   ],
   "source": [
    "from bokeh.io import output_notebook, show\n",
    "output_notebook()"
   ]
  },
  {
   "cell_type": "markdown",
   "metadata": {},
   "source": [
    "最后调用本书提供的`make_curve_viewer()`显示滤波器的增益曲线。"
   ]
  },
  {
   "cell_type": "code",
   "execution_count": 186,
   "metadata": {},
   "outputs": [
    {
     "data": {
      "text/html": [
       "\n",
       "<div class=\"bk-root\">\n",
       "    <div class=\"bk-plotdiv\" id=\"f70e71e9-88b1-48bf-8847-8524c17aeb21\"></div>\n",
       "</div>"
      ]
     },
     "metadata": {},
     "output_type": "display_data"
    },
    {
     "data": {
      "application/javascript": [
       "(function(root) {\n",
       "  function embed_document(root) {\n",
       "    var docs_json = {\"38f0b423-a8e7-42a8-a464-42442d5077b6\":{\"roots\":{\"references\":[{\"attributes\":{\"data_source\":{\"id\":\"b33e103e-f09d-46d5-9048-8a717f1166f3\",\"type\":\"ColumnDataSource\"},\"glyph\":{\"id\":\"204272dc-f7a9-49c1-b7bb-bfec6fc5b5fa\",\"type\":\"Line\"},\"hover_glyph\":null,\"muted_glyph\":null,\"name\":\"p\",\"nonselection_glyph\":{\"id\":\"b0e20eff-5899-4b65-b7d3-4b7c1a8f8b6f\",\"type\":\"Line\"},\"selection_glyph\":null,\"view\":{\"id\":\"b00d0a42-1381-4783-bac2-4f4deb3ffeb7\",\"type\":\"CDSView\"}},\"id\":\"343e1223-72e1-4289-838c-d16c6a7bc65a\",\"type\":\"GlyphRenderer\"},{\"attributes\":{},\"id\":\"92ea4f57-980b-4c53-a031-44bb34d021e2\",\"type\":\"ResetTool\"},{\"attributes\":{\"callback\":null,\"end\":10000,\"js_property_callbacks\":{\"change:value\":[{\"id\":\"8bccf5c6-f62d-4437-8ec5-d0d9aa1b4b70\",\"type\":\"CustomJS\"}]},\"name\":\"fs\",\"start\":1000,\"step\":1000,\"title\":\"fs\",\"value\":5000},\"id\":\"211d2b59-e3b6-4057-9d00-1bca5e3d50fb\",\"type\":\"Slider\"},{\"attributes\":{\"callback\":null},\"id\":\"5647c88f-2549-4956-b178-c98f36db886b\",\"type\":\"DataRange1d\"},{\"attributes\":{\"num_minor_ticks\":10},\"id\":\"508192d7-dc66-4cd3-bfa0-17ffeae7e467\",\"type\":\"LogTicker\"},{\"attributes\":{\"callback\":null},\"id\":\"95eff850-6eca-4ed5-96c4-482ea7c42255\",\"type\":\"DataRange1d\"},{\"attributes\":{\"callback\":null,\"end\":1000,\"js_property_callbacks\":{\"change:value\":[{\"id\":\"8bccf5c6-f62d-4437-8ec5-d0d9aa1b4b70\",\"type\":\"CustomJS\"}]},\"name\":\"fc\",\"start\":1,\"title\":\"fc\",\"value\":100},\"id\":\"3816dd8f-01d8-4b9d-a155-ba904ce8ea7f\",\"type\":\"Slider\"},{\"attributes\":{\"dimension\":1,\"plot\":{\"id\":\"ccb0dd68-0a32-46ca-84c8-ecf76cfeb0f8\",\"subtype\":\"Figure\",\"type\":\"Plot\"},\"ticker\":{\"id\":\"66915e90-0040-4829-8b16-cc6b84ddef6d\",\"type\":\"BasicTicker\"}},\"id\":\"33635f33-0782-4382-861d-73376f715aa9\",\"type\":\"Grid\"},{\"attributes\":{\"line_color\":{\"value\":\"#1f77b4\"},\"line_width\":{\"value\":2},\"x\":{\"field\":\"x\"},\"y\":{\"field\":\"p\"}},\"id\":\"204272dc-f7a9-49c1-b7bb-bfec6fc5b5fa\",\"type\":\"Line\"},{\"attributes\":{\"plot\":null,\"text\":\"\"},\"id\":\"2c9f5ee9-230b-4796-bc3d-8d5fb93edb23\",\"type\":\"Title\"},{\"attributes\":{\"below\":[{\"id\":\"a77d83f7-0582-48e6-ae28-184326c7987c\",\"type\":\"LogAxis\"}],\"js_property_callbacks\":{\"change:inner_width\":[{\"id\":\"8bccf5c6-f62d-4437-8ec5-d0d9aa1b4b70\",\"type\":\"CustomJS\"}]},\"left\":[{\"id\":\"b1056d8f-3dd8-4a04-9d1c-2182eeab3928\",\"type\":\"LinearAxis\"}],\"plot_height\":300,\"renderers\":[{\"id\":\"a77d83f7-0582-48e6-ae28-184326c7987c\",\"type\":\"LogAxis\"},{\"id\":\"9f67b8ab-ac4a-4978-8d45-aa2263faa7ef\",\"type\":\"Grid\"},{\"id\":\"b1056d8f-3dd8-4a04-9d1c-2182eeab3928\",\"type\":\"LinearAxis\"},{\"id\":\"33635f33-0782-4382-861d-73376f715aa9\",\"type\":\"Grid\"},{\"id\":\"fc6c0da3-f72c-4cf6-b9a5-fe7a818d13ca\",\"type\":\"BoxAnnotation\"},{\"id\":\"dac81b0f-40d9-4259-b442-e3a15928da4c\",\"type\":\"Legend\"},{\"id\":\"343e1223-72e1-4289-838c-d16c6a7bc65a\",\"type\":\"GlyphRenderer\"}],\"title\":{\"id\":\"2c9f5ee9-230b-4796-bc3d-8d5fb93edb23\",\"type\":\"Title\"},\"toolbar\":{\"id\":\"025190ae-1ee3-4801-bfbc-4db92409d6fe\",\"type\":\"Toolbar\"},\"x_range\":{\"id\":\"5647c88f-2549-4956-b178-c98f36db886b\",\"type\":\"DataRange1d\"},\"x_scale\":{\"id\":\"f8453fe3-d3aa-4b52-9817-0542a7971ef9\",\"type\":\"LogScale\"},\"y_range\":{\"id\":\"95eff850-6eca-4ed5-96c4-482ea7c42255\",\"type\":\"DataRange1d\"},\"y_scale\":{\"id\":\"13cef80a-f374-4ed9-af91-9decdaa8bc1d\",\"type\":\"LinearScale\"}},\"id\":\"ccb0dd68-0a32-46ca-84c8-ecf76cfeb0f8\",\"subtype\":\"Figure\",\"type\":\"Plot\"},{\"attributes\":{\"axis_label\":\"Freq(Hz)\",\"formatter\":{\"id\":\"69616280-927d-432a-81f4-bf8993af1e28\",\"type\":\"LogTickFormatter\"},\"plot\":{\"id\":\"ccb0dd68-0a32-46ca-84c8-ecf76cfeb0f8\",\"subtype\":\"Figure\",\"type\":\"Plot\"},\"ticker\":{\"id\":\"508192d7-dc66-4cd3-bfa0-17ffeae7e467\",\"type\":\"LogTicker\"}},\"id\":\"a77d83f7-0582-48e6-ae28-184326c7987c\",\"type\":\"LogAxis\"},{\"attributes\":{\"source\":{\"id\":\"b33e103e-f09d-46d5-9048-8a717f1166f3\",\"type\":\"ColumnDataSource\"}},\"id\":\"b00d0a42-1381-4783-bac2-4f4deb3ffeb7\",\"type\":\"CDSView\"},{\"attributes\":{},\"id\":\"66915e90-0040-4829-8b16-cc6b84ddef6d\",\"type\":\"BasicTicker\"},{\"attributes\":{\"children\":[{\"id\":\"ccb0dd68-0a32-46ca-84c8-ecf76cfeb0f8\",\"subtype\":\"Figure\",\"type\":\"Plot\"},{\"id\":\"e494d3da-4865-4154-8dd7-c595d7a9d54d\",\"type\":\"WidgetBox\"}]},\"id\":\"af638dc2-738d-4682-a5ac-3a343a2404a3\",\"type\":\"Row\"},{\"attributes\":{\"children\":[{\"id\":\"211d2b59-e3b6-4057-9d00-1bca5e3d50fb\",\"type\":\"Slider\"},{\"id\":\"3816dd8f-01d8-4b9d-a155-ba904ce8ea7f\",\"type\":\"Slider\"}],\"width\":300},\"id\":\"e494d3da-4865-4154-8dd7-c595d7a9d54d\",\"type\":\"WidgetBox\"},{\"attributes\":{\"label\":{\"value\":\"p\"},\"renderers\":[{\"id\":\"343e1223-72e1-4289-838c-d16c6a7bc65a\",\"type\":\"GlyphRenderer\"}]},\"id\":\"37a986c9-5ac1-4e14-817e-a6eaca5b9991\",\"type\":\"LegendItem\"},{\"attributes\":{},\"id\":\"ab2956df-eb45-4a9c-be15-5529bd865e99\",\"type\":\"WheelZoomTool\"},{\"attributes\":{},\"id\":\"22e47b68-bf53-4f03-927c-27ab35a25f5e\",\"type\":\"BasicTickFormatter\"},{\"attributes\":{\"args\":{\"sliders\":{\"id\":\"e494d3da-4865-4154-8dd7-c595d7a9d54d\",\"type\":\"WidgetBox\"},\"source\":{\"id\":\"b33e103e-f09d-46d5-9048-8a717f1166f3\",\"type\":\"ColumnDataSource\"}},\"code\":\"var _pyfunc_add = function (a, b) { // nargs: 2\\n    if (Array.isArray(a) && Array.isArray(b)) {\\n        return a.concat(b);\\n    } return a + b;\\n};\\nvar _pyfunc_contains = function contains (a, b) { // nargs: 2\\n    if (b == null) {\\n    } else if (Array.isArray(b)) {\\n        for (var i=0; i<b.length; i++) {if (_pyfunc_equals(a, b[i]))\\n                                           return true;}\\n        return false;\\n    } else if (b.constructor === Object) {\\n        for (var k in b) {if (a == k) return true;}\\n        return false;\\n    } else if (b.constructor == String) {\\n        return b.indexOf(a) >= 0;\\n    } var e = Error('Not a container: ' + b); e.name='TypeError'; throw e;\\n};\\nvar _pyfunc_dict = function (x) {\\n    var t, i, keys, r={};\\n    if (Array.isArray(x)) {\\n        for (i=0; i<x.length; i++) {\\n            t=x[i]; r[t[0]] = t[1];\\n        }\\n    } else {\\n        keys = Object.keys(x);\\n        for (i=0; i<keys.length; i++) {\\n            t=keys[i]; r[t] = x[t];\\n        }\\n    }\\n    return r;\\n};\\nvar _pyfunc_equals = function equals (a, b) { // nargs: 2\\n    if (a == null || b == null) {\\n    } else if (Array.isArray(a) && Array.isArray(b)) {\\n        var i = 0, iseq = a.length == b.length;\\n        while (iseq && i < a.length) {iseq = equals(a[i], b[i]); i+=1;}\\n        return iseq;\\n    } else if (a.constructor === Object && b.constructor === Object) {\\n        var akeys = Object.keys(a), bkeys = Object.keys(b);\\n        akeys.sort(); bkeys.sort();\\n        var i=0, k, iseq = equals(akeys, bkeys);\\n        while (iseq && i < akeys.length) {k=akeys[i]; iseq = equals(a[k], b[k]); i+=1;}\\n        return iseq;\\n    } return a == b;\\n};\\nvar _pyfunc_mult = function (a, b) { // nargs: 2\\n    if ((typeof a === 'number') + (typeof b === 'number') === 1) {\\n        if (a.constructor === String) return _pymeth_repeat.call(a, b);\\n        if (b.constructor === String) return _pymeth_repeat.call(b, a);\\n        if (Array.isArray(b)) {var t=a; a=b; b=t;}\\n        if (Array.isArray(a)) {\\n            var res = []; for (var i=0; i<b; i++) res = res.concat(a);\\n            return res;\\n        }\\n    } return a * b;\\n};\\nvar _pyfunc_range = function (start, end, step) {\\nvar i, res = [];\\n    var val = start;\\n    var n = (end - start) / step;\\n    for (i=0; i<n; i++) {\\n        res.push(val);\\n        val += step;\\n    }\\n    return res;\\n};\\nvar _pymeth_repeat = function(count) { // nargs: 0\\n    if (this.repeat) return this.repeat(count);\\n    if (count < 1) return '';\\n    var result = '', pattern = this.valueOf();\\n    while (count > 1) {\\n        if (count & 1) result += pattern;\\n        count >>= 1, pattern += pattern;\\n    }\\n    return result + pattern;\\n};\\nvar cb;\\ncb = function (source, sliders) {\\n    var X, args, data, func, i, key, name, pars, res, stub1_seq, stub2_itr, stub3_seq, stub4_itr, x;\\n    source = (source === undefined) ? source: source;\\n    sliders = (sliders === undefined) ? wbox: sliders;\\n    if ((({}).toString.call((source.tags[0].func)).match(/\\\\s([a-zA-Z]+)/)[1].toLowerCase() === 'string')) {\\n        source.tags[0].func = eval(source.tags[0].func);\\n    }\\n    func = source.tags[0].func;\\n    args = source.tags[0].args;\\n    if ((!_pyfunc_contains(\\\"x_data\\\", args))) {\\n        X = new Float64Array(args.n);\\n        for (i = 0; i < args.n; i += 1) {\\n            X[i] = _pyfunc_add(_pyfunc_mult(i, args.dx), args.x0);\\n        }\\n        args.x_data = X;\\n    }\\n    X = args.x_data;\\n    data = source.data;\\n    if ((!_pyfunc_equals(data.x.length, X.length))) {\\n        stub1_seq = data;\\n        if ((typeof stub1_seq === \\\"object\\\") && (!Array.isArray(stub1_seq))) {\\n            stub1_seq = Object.keys(stub1_seq);\\n        }\\n        for (stub2_itr = 0; stub2_itr < stub1_seq.length; stub2_itr += 1) {\\n            name = stub1_seq[stub2_itr];\\n            data[name] = new Float64Array(X.length);\\n        }\\n    }\\n    pars = _pyfunc_dict(((function list_comprehenson () {var res = [];var slider, iter0, i0;iter0 = sliders.children;if ((typeof iter0 === \\\"object\\\") && (!Array.isArray(iter0))) {iter0 = Object.keys(iter0);}for (i0=0; i0<iter0.length; i0++) {slider = iter0[i0];{res.push([slider.name, slider.value]);}}return res;}).apply(this)));\\n    for (i = 0; i < X.length; i += 1) {\\n        x = X[i];\\n        data.x[i] = x;\\n        res = func(x, pars);\\n        stub3_seq = res;\\n        if ((typeof stub3_seq === \\\"object\\\") && (!Array.isArray(stub3_seq))) {\\n            stub3_seq = Object.keys(stub3_seq);\\n        }\\n        for (stub4_itr = 0; stub4_itr < stub3_seq.length; stub4_itr += 1) {\\n            key = stub3_seq[stub4_itr];\\n            data[key][i] = res[key];\\n        }\\n    }\\n    source.change.emit();\\n    return null;\\n};\\ncb(source, sliders);\\n\"},\"id\":\"8bccf5c6-f62d-4437-8ec5-d0d9aa1b4b70\",\"type\":\"CustomJS\"},{\"attributes\":{\"items\":[{\"id\":\"37a986c9-5ac1-4e14-817e-a6eaca5b9991\",\"type\":\"LegendItem\"}],\"plot\":{\"id\":\"ccb0dd68-0a32-46ca-84c8-ecf76cfeb0f8\",\"subtype\":\"Figure\",\"type\":\"Plot\"}},\"id\":\"dac81b0f-40d9-4259-b442-e3a15928da4c\",\"type\":\"Legend\"},{\"attributes\":{\"overlay\":{\"id\":\"fc6c0da3-f72c-4cf6-b9a5-fe7a818d13ca\",\"type\":\"BoxAnnotation\"}},\"id\":\"52fcebb8-808e-4a8a-8689-8fddc6b8f35d\",\"type\":\"BoxZoomTool\"},{\"attributes\":{},\"id\":\"9453e6e4-3c52-40cd-92d8-3b1525295235\",\"type\":\"SaveTool\"},{\"attributes\":{\"line_alpha\":{\"value\":0.1},\"line_color\":{\"value\":\"#1f77b4\"},\"line_width\":{\"value\":2},\"x\":{\"field\":\"x\"},\"y\":{\"field\":\"p\"}},\"id\":\"b0e20eff-5899-4b65-b7d3-4b7c1a8f8b6f\",\"type\":\"Line\"},{\"attributes\":{\"callback\":null,\"column_names\":[\"p\",\"x\"],\"data\":{\"p\":[0],\"x\":[0]},\"tags\":[{\"args\":{\"dx\":0.01,\"n\":500,\"x0\":0,\"x_data\":[1.0,1.0186289902446874,1.0376050197669118,1.0569345535579884,1.0766241770454932,1.0966805983368684,1.117110650504824,1.137921293915315,1.1591196185988855,1.18071284666619,1.2027083347685117,1.2251135766041188,1.247936205471311,1.2711839968690286,1.2948648711459045,1.3189868961986702,1.3435582902208258,1.3685874245025187,1.394082826282578,1.4200531816536826,1.4465073385216467,1.4734543096198351,1.500903275579736,1.5288635880587305,1.5573447729261343,1.5863565335085905,1.6159087538959183,1.6460115023085506,1.6766750345277,1.7079097973894275,1.7397264323438015,1.7721357790803591,1.805148879221109,1.8387769800823275,1.8730315385064373,1.9079242247652657,1.9434669265360207,1.979671752951333,2.016551038724747,2.054117348353065,2.0923834803969776,2.131362471841438,2.1710676025372653,2.211512399725489,2.252710642645981,2.2946763672319364,2.3374238708918154,2.3809677173803587,2.425322741760353,2.4705040554568254,2.5165270514053915,2.563407409296515,2.6111611009174593,2.6598043955937585,2.7093538657320515,2.75982639246618,2.811239171408464,2.8636097185081155,2.9169558760187955,2.971295818577334,3.0266480593956917,3.083031456568276,3.1404652194967513,3.198968915434537,3.2585624761532257,3.319266204733189,3.3811007824806847,3.4440872759738226,3.5082471442397916,3.5736022460657875,3.6401748474461404,3.7079876291681706,3.7770636945393665,3.8474265772585037,3.919100249433404,3.9921091297480515,4.066478091781856,4.1422324724838955,4.219398080805026,4.298001206490796,4.378068629038169,4.459627626819093,4.542705986374045,4.627332011878691,4.713534534786908,4.8013429236534515,4.890787094139591,4.9818975192051616,5.074705239490467,5.1692418738915995,5.265539630332757,5.363631316739242,5.463550352214877,5.565330778427647,5.669007271207436,5.7746151523598215,5.8821904016999556,5.991769669310619,6.1033902880286215,6.217090286163827,6.332908400455115,6.450884089267693,6.571057546036271,6.6934697129586604,6.81816229494448,6.945177773823696,7.0745594228198785,7.206351321293052,7.3405983697572115,7.477346305177586,7.61664171655289,7.758532060787834,7.903065678861346,8.05029181229598,8.200260619934129,8.353023195026777,8.508631582640579,8.667138797389232,8.828598841495149,8.99306672318762,9.160598475443708,9.331251175078247,9.505082962189507,9.682153059967082,9.86252179486878,10.046250617173408,10.233402121916418,10.424040070215563,10.618229410993841,10.816036303107099,11.017528137883868,11.222773562085077,11.431842501291497,11.64480618372686,11.861737164524786,12.082709350447766,12.307798025066651,12.537079874409203,12.77063301308644,13.008537010905712,13.250872919979532,13.497723302339418,13.74917225806419,14.005305453932197,14.26621015260737,14.531975242368954,14.802691267395087,15.07845045861051,15.35934676510897,15.645475886160957,15.936935303817744,16.23382431612278,16.536244070941805,16.84429760042315,17.158089856100048,17.47772774464681,17.803320164301137,18.134978041964953,18.472814370996343,18.816944249705557,19.16748492056815,19.52455581016861,19.888278569888097,20.25877711735017,20.636177678638585,21.020608831301583,21.412201548157295,21.811089241915187,22.217407810628835,22.631295683995283,23.05289387051707,23.48234600554275,23.919798400202385,24.36540009125465,24.819302891862538,25.28166144331499,25.752633267712,26.232378821631222,26.72106155079434,27.218847945751783,27.725907598604824,28.242413260784343,28.76854090190593,29.30446976972143,29.85038245118731,30.40646493467067,30.972906673314085,31.54990064958087,32.13764344100277,32.73633528715246,33.34618015786364,33.96738582272208,34.600163921851085,35.24473003801584,35.90130377007068,36.57010880777489,37.2513730080021,37.94532847236938,38.652211626312614,39.372263299634795,40.10572880855496,40.852858039285614,41.61390553316707,42.38913057338779,43.178797273320214,43.98317466650224,44.802536798294895,45.637162819247585,46.487337080202565,47.35334922917116,48.23549431001467,49.13407286296362,50.049391027009534,50.98176064420424,51.93149936590212,52.89893076098151,53.884384426082235,54.88819609789672,55.9107077675529,56.95226779712822,58.01323103833376,59.093958953409675,60.19481973827271,61.31618844795772,62.458447124396145,63.621984926574854,64.80719826311967,66.01449092734886,67.24427423484246,68.49696716357444,69.77299649665534,71.07279696773415,72.39681140910874,73.7454909025955,75.11929493320964,76.51869154570822,77.94415750404947,79.3961784538228,80.87524908770453,82.38187331399605,83.91656442830157,85.47984528840409,87.07224849239917,88.69431656014709,90.34660211810525,92.0296680876041,93.7440878766299,95.49044557518077,97.26933615426168,99.08136566858666,100.92715146305709,102.80732238308647,104.72251898884343,106.67339377348571,108.66061138545969,110.6848488549412,112.74679582449461,114.8471547840289,116.9866413101307,119.16598430985587,121.38592626906276,123.6472235053715,125.95064642583577,128.29697978941476,130.68702297433464,133.12159025043076,135.60151105656334,138.12763028320094,140.7008085602685,143.32192255035739,145.99186524739787,148.71154628089536,151.48189222583457,154.30384691835647,157.17837177731627,160.10644613183177,163.08906755493325,166.1272522034293,169.22203516410372,172.37447080636198,175.5856331414469,178.85661618834618,182.18853434651652,185.5825227755517,189.03973778192196,192.56135721291966,196.14858085794293,199.80263085725485,203.52475211835758,207.3162127401229,211.17830444482422,215.1123430182165,219.11966875781474,223.20164692952324,227.35966823277153,231.59514927431522,235.9095330508634,240.30428944069672,244.78091570444403,249.3409369951878,253.9859068780724,258.71740785959213,263.5370519267393,268.44648109619624,273.447367973758,278.5414163241766,283.73036165162114,289.01597179095086,294.4000475100034,299.88442312310275,305.4709671159968,311.16158278243597,316.9582088726115,322.862820253673,328.87742858255103,335.0040829913133,341.2448707852889,347.60191815419773,354.077390896527,360.6734951574028,367.39247818020743,374.23662907219807,381.2082795843888,388.3098049059605,395.5436244734702,402.91220279513476,410.41805029047094,418.0637241455758,425.85182918434145,433.7850187558989,441.86599563859414,450.09751296080464,458.4823751389096,467.02343883273306,475.7236139187885,484.5858644816491,493.6132098237912,502.8087254942475,512.1755443364236,521.7168575554343,531.4359158053236,541.3360302965376,551.4205739240297,561.6929824163803,572.1567555063245,582.815458123084,593.672721606912,604.7322449462642,615.9977960380162,627.4732129711574,639.1624053343999,651.0693555481455,663.1981202212669,675.552831533164,688.1376986415663,700.9570091165618,714.0151304013395,727.3165113001454,740.865683493956,754.6672630843887,768.7259521663728,783.0465404301183,797.6339067929273,812.4930210614048,827.6289456246344,843.0468371788967,858.751948484517,874.7496301554415,891.0453324821513,907.6446072885357,924.5531098233571,941.7766006869518,959.3209477938241,977.1921283717996,995.3962309984233,1013.9394576752917,1032.8281259410285,1052.0686710236228,1071.6676480328633,1091.6317341936146,1111.967731120699,1132.6825671361537,1153.7832996296609,1175.2771174629452,1197.1713434189658,1219.473436696737,1242.190995452616,1265.3317593889417,1288.9036123908916,1312.914585212464,1337.372858212495,1362.2867641416453,1387.664790981307,1413.5155848353943,1439.8479528760065,1466.670866343967,1493.9934636052562,1521.8250532643856,1550.1751173357688,1579.0533144741742,1608.4694832653552,1638.433645577983,1668.956009978023,1700.0469752067163,1731.7171337233528,1763.9772753140435,1796.8383907677194,1830.3116756206111,1864.4085339704852,1899.1405823619336,1934.5196537440443,1970.5578015017984,2007.2673035625683,2044.6606665791157,2082.750630190514,2121.5501713624503,2161.0725088083764,2201.3311074930302,2242.339683219845,2284.112207303823,2326.662911331458,2370.006292009328,2414.157116103018,2459.130425468044,2504.9415421745025,2551.6060737271837,2599.139918382933,2647.5592705670665,2696.8806263906927,2747.1207892708117,2798.296875655116,2850.426320853435,2903.526884977814,2957.6166589932536,3012.7140708811644,3068.837891917642,3126.0072430687005,3184.2416015046497,3243.560807235808,3303.9850698718546,3365.534975507091,3428.231493733967,3492.0959847872678,3557.150206821382,3623.416323323146,3690.9169106627746,3759.674965785464,3829.7139140462773,3901.0576171909893,3973.730381485604,4047.7569659973183,4123.162591029748,4199.972946715302,4278.214201767613,4357.913012397025,4439.096531392166,4521.792417370698,4606.028844202398,4691.834510607794,4779.238649935595,4868.2710401222785,4958.962013837212,5051.3424688167615,5145.4438783909245,5241.298302206056,5338.93839714735,5438.397428464796,5539.7092811064,5642.908471262536,5748.030158125351,5855.110155867238,5964.1849458424595,6075.291689016071,6188.468238624383,6303.753153071275,6421.185709064758,6540.805914998253,6662.654524581149,6786.7730507232955,6913.203779678128,7041.989785449288,7173.1749444656125,7306.803950529499,7442.922330043758,7581.57645752211,7722.813571388642,7866.681790071582,8013.230128396878,8162.50851428722,8314.567805772056,8469.459808314576,8627.237292461441,8787.95401182131,8951.664721378293,9118.425196146562,9288.29225017249,9461.32375589076,9637.57866384108,9817.117022752183,10000.0]},\"func\":\"\\n    (function(){\\n    var _pyfunc_add = function (a, b) { // nargs: 2\\n    if (Array.isArray(a) && Array.isArray(b)) {\\n        return a.concat(b);\\n    } return a + b;\\n};\\nvar _pyfunc_mult = function (a, b) { // nargs: 2\\n    if ((typeof a === 'number') + (typeof b === 'number') === 1) {\\n        if (a.constructor === String) return _pymeth_repeat.call(a, b);\\n        if (b.constructor === String) return _pymeth_repeat.call(b, a);\\n        if (Array.isArray(b)) {var t=a; a=b; b=t;}\\n        if (Array.isArray(a)) {\\n            var res = []; for (var i=0; i<b; i++) res = res.concat(a);\\n            return res;\\n        }\\n    } return a * b;\\n};\\nvar _pymeth_repeat = function(count) { // nargs: 0\\n    if (this.repeat) return this.repeat(count);\\n    if (count < 1) return '';\\n    var result = '', pattern = this.valueOf();\\n    while (count > 1) {\\n        if (count & 1) result += pattern;\\n        count >>= 1, pattern += pattern;\\n    }\\n    return result + pattern;\\n};\\nvar freq_response;\\nfreq_response = function (f, pars) {\\n    var T, fc, fs, im, re, stub1_, w, wc;\\n    w = _pyfunc_mult(_pyfunc_mult(2, Math.PI), f);\\n    fs = pars[\\\"fs\\\"];\\n    fc = pars[\\\"fc\\\"];\\n    wc = _pyfunc_mult(_pyfunc_mult(2, Math.PI), fc);\\n    T = 1 / fs;\\n    stub1_ = butter_lp_freqz([T, w, wc]);\\n    re = stub1_[0];im = stub1_[1];\\n    return {p:(_pyfunc_mult(20, (Math.log10(Math.sqrt(_pyfunc_add(_pyfunc_mult(re, re), _pyfunc_mult(im, im)))))))};\\n};\\n\\n    return freq_response;\\n    })();\\n    \"}]},\"id\":\"b33e103e-f09d-46d5-9048-8a717f1166f3\",\"type\":\"ColumnDataSource\"},{\"attributes\":{},\"id\":\"fad0b5ff-f581-4996-ad95-7d4b59f2ac4f\",\"type\":\"PanTool\"},{\"attributes\":{\"active_drag\":\"auto\",\"active_inspect\":\"auto\",\"active_scroll\":\"auto\",\"active_tap\":\"auto\",\"tools\":[{\"id\":\"fad0b5ff-f581-4996-ad95-7d4b59f2ac4f\",\"type\":\"PanTool\"},{\"id\":\"ab2956df-eb45-4a9c-be15-5529bd865e99\",\"type\":\"WheelZoomTool\"},{\"id\":\"52fcebb8-808e-4a8a-8689-8fddc6b8f35d\",\"type\":\"BoxZoomTool\"},{\"id\":\"9453e6e4-3c52-40cd-92d8-3b1525295235\",\"type\":\"SaveTool\"},{\"id\":\"92ea4f57-980b-4c53-a031-44bb34d021e2\",\"type\":\"ResetTool\"},{\"id\":\"d82fa6c4-dab4-4f71-9df9-b316ca977adf\",\"type\":\"HelpTool\"}]},\"id\":\"025190ae-1ee3-4801-bfbc-4db92409d6fe\",\"type\":\"Toolbar\"},{\"attributes\":{},\"id\":\"13cef80a-f374-4ed9-af91-9decdaa8bc1d\",\"type\":\"LinearScale\"},{\"attributes\":{\"ticker\":null},\"id\":\"69616280-927d-432a-81f4-bf8993af1e28\",\"type\":\"LogTickFormatter\"},{\"attributes\":{\"bottom_units\":\"screen\",\"fill_alpha\":{\"value\":0.5},\"fill_color\":{\"value\":\"lightgrey\"},\"left_units\":\"screen\",\"level\":\"overlay\",\"line_alpha\":{\"value\":1.0},\"line_color\":{\"value\":\"black\"},\"line_dash\":[4,4],\"line_width\":{\"value\":2},\"plot\":null,\"render_mode\":\"css\",\"right_units\":\"screen\",\"top_units\":\"screen\"},\"id\":\"fc6c0da3-f72c-4cf6-b9a5-fe7a818d13ca\",\"type\":\"BoxAnnotation\"},{\"attributes\":{\"axis_label\":\"Gain(dB)\",\"formatter\":{\"id\":\"22e47b68-bf53-4f03-927c-27ab35a25f5e\",\"type\":\"BasicTickFormatter\"},\"plot\":{\"id\":\"ccb0dd68-0a32-46ca-84c8-ecf76cfeb0f8\",\"subtype\":\"Figure\",\"type\":\"Plot\"},\"ticker\":{\"id\":\"66915e90-0040-4829-8b16-cc6b84ddef6d\",\"type\":\"BasicTicker\"}},\"id\":\"b1056d8f-3dd8-4a04-9d1c-2182eeab3928\",\"type\":\"LinearAxis\"},{\"attributes\":{\"plot\":{\"id\":\"ccb0dd68-0a32-46ca-84c8-ecf76cfeb0f8\",\"subtype\":\"Figure\",\"type\":\"Plot\"},\"ticker\":{\"id\":\"508192d7-dc66-4cd3-bfa0-17ffeae7e467\",\"type\":\"LogTicker\"}},\"id\":\"9f67b8ab-ac4a-4978-8d45-aa2263faa7ef\",\"type\":\"Grid\"},{\"attributes\":{},\"id\":\"f8453fe3-d3aa-4b52-9817-0542a7971ef9\",\"type\":\"LogScale\"},{\"attributes\":{},\"id\":\"d82fa6c4-dab4-4f71-9df9-b316ca977adf\",\"type\":\"HelpTool\"}],\"root_ids\":[\"af638dc2-738d-4682-a5ac-3a343a2404a3\"]},\"title\":\"Bokeh Application\",\"version\":\"0.12.10\"}};\n",
       "    var render_items = [{\"docid\":\"38f0b423-a8e7-42a8-a464-42442d5077b6\",\"elementid\":\"f70e71e9-88b1-48bf-8847-8524c17aeb21\",\"modelid\":\"af638dc2-738d-4682-a5ac-3a343a2404a3\"}];\n",
       "\n",
       "    root.Bokeh.embed.embed_items(docs_json, render_items);\n",
       "  }\n",
       "\n",
       "  if (root.Bokeh !== undefined) {\n",
       "    embed_document(root);\n",
       "  } else {\n",
       "    var attempts = 0;\n",
       "    var timer = setInterval(function(root) {\n",
       "      if (root.Bokeh !== undefined) {\n",
       "        embed_document(root);\n",
       "        clearInterval(timer);\n",
       "      }\n",
       "      attempts++;\n",
       "      if (attempts > 100) {\n",
       "        console.log(\"Bokeh: ERROR: Unable to embed document because BokehJS library is missing\")\n",
       "        clearInterval(timer);\n",
       "      }\n",
       "    }, 10, root)\n",
       "  }\n",
       "})(window);"
      ],
      "application/vnd.bokehjs_exec.v0+json": ""
     },
     "metadata": {
      "application/vnd.bokehjs_exec.v0+json": {
       "id": "af638dc2-738d-4682-a5ac-3a343a2404a3"
      }
     },
     "output_type": "display_data"
    }
   ],
   "source": [
    "from bokehelp import make_curve_viewer\n",
    "import numpy as np\n",
    "\n",
    "def freq_response(f, pars):\n",
    "    w = 2 * Math.PI * f\n",
    "    fs = pars[\"fs\"]\n",
    "    fc = pars[\"fc\"]\n",
    "    wc = 2 * Math.PI * fc\n",
    "    T = 1 / fs\n",
    "    re, im = butter_lp_freqz([T, w, wc])\n",
    "    return dict(p=20*Math.log10(Math.sqrt(re*re + im*im)))\n",
    "\n",
    "inputs = [dict(title=\"fs\", start=1000, end=10000, step=1000, value=5000), \n",
    "          dict(title=\"fc\", start=1, end=1000, step=1, value=100)]\n",
    "\n",
    "outputs = [dict(name=\"p\", legend=\"p\", line_width=2)]\n",
    "\n",
    "model = make_curve_viewer(freq_response, inputs, outputs, x_data=np.logspace(0, 4, 500), \n",
    "                          xlabel = \"Freq(Hz)\",\n",
    "                          ylabel = \"Gain(dB)\",\n",
    "                          fig_kwargs=dict(x_axis_type=\"log\"))\n",
    "show(model)"
   ]
  },
  {
   "cell_type": "markdown",
   "metadata": {},
   "source": [
    "下面的`get_ba()`得到滤波器的系数`b`和`a`。"
   ]
  },
  {
   "cell_type": "code",
   "execution_count": 199,
   "metadata": {},
   "outputs": [],
   "source": [
    "def get_ba(hz, z):\n",
    "    n, d = fraction(hz)\n",
    "    b = Matrix(Poly(n, z).coeffs())\n",
    "    a = Matrix(Poly(d, z).coeffs())\n",
    "    b = b / a[0]\n",
    "    a = a / a[0]\n",
    "    return list(b) + list(a)"
   ]
  },
  {
   "cell_type": "code",
   "execution_count": 200,
   "metadata": {},
   "outputs": [
    {
     "data": {
      "image/png": "[encoded data removed]",
      "text/latex": [
       "$$\\left [ \\frac{T^{2} \\omega_c^{2}}{T^{2} \\omega_c^{2} + 2 \\sqrt{2} T \\omega_c + 4}, \\quad \\frac{2 T^{2} \\omega_c^{2}}{T^{2} \\omega_c^{2} + 2 \\sqrt{2} T \\omega_c + 4}, \\quad \\frac{T^{2} \\omega_c^{2}}{T^{2} \\omega_c^{2} + 2 \\sqrt{2} T \\omega_c + 4}, \\quad 1, \\quad \\frac{2 T^{2} \\omega_c^{2} - 8}{T^{2} \\omega_c^{2} + 2 \\sqrt{2} T \\omega_c + 4}, \\quad \\frac{T^{2} \\omega_c^{2} - 2 \\sqrt{2} T \\omega_c + 4}{T^{2} \\omega_c^{2} + 2 \\sqrt{2} T \\omega_c + 4}\\right ]$$"
      ],
      "text/plain": [
       "⎡            2         2                          2         2                 \n",
       "⎢           T ⋅\\omega_c                        2⋅T ⋅\\omega_c                  \n",
       "⎢──────────────────────────────────, ──────────────────────────────────, ─────\n",
       "⎢ 2         2                         2         2                         2   \n",
       "⎣T ⋅\\omega_c  + 2⋅√2⋅T⋅\\omega_c + 4  T ⋅\\omega_c  + 2⋅√2⋅T⋅\\omega_c + 4  T ⋅\\o\n",
       "\n",
       "       2         2                           2         2               2      \n",
       "      T ⋅\\omega_c                         2⋅T ⋅\\omega_c  - 8          T ⋅\\omeg\n",
       "─────────────────────────────, 1, ──────────────────────────────────, ────────\n",
       "      2                            2         2                         2      \n",
       "mega_c  + 2⋅√2⋅T⋅\\omega_c + 4     T ⋅\\omega_c  + 2⋅√2⋅T⋅\\omega_c + 4  T ⋅\\omeg\n",
       "\n",
       "   2                      ⎤\n",
       "a_c  - 2⋅√2⋅T⋅\\omega_c + 4⎥\n",
       "──────────────────────────⎥\n",
       "   2                      ⎥\n",
       "a_c  + 2⋅√2⋅T⋅\\omega_c + 4⎦"
      ]
     },
     "execution_count": 200,
     "metadata": {},
     "output_type": "execute_result"
    }
   ],
   "source": [
    "ba = get_ba(hz, z)\n",
    "ba"
   ]
  },
  {
   "cell_type": "markdown",
   "metadata": {},
   "source": [
    "将上面的表达式转换为JavaScript代码："
   ]
  },
  {
   "cell_type": "code",
   "execution_count": 216,
   "metadata": {},
   "outputs": [
    {
     "data": {
      "application/javascript": [
       "window.butter_ba = function(args){\n",
       "var T = args[0];\n",
       "var omega_c = args[1];\n",
       "var _tmp0 = Math.pow(T, 2)*Math.pow(omega_c, 2);\n",
       "var _tmp1 = 2*Math.sqrt(2)*T*omega_c;\n",
       "var _tmp2 = _tmp0 + 4;\n",
       "var _tmp3 = 1/(_tmp1 + _tmp2);\n",
       "var _tmp4 = _tmp0*_tmp3;\n",
       "var _tmp5 = 2*_tmp0;\n",
       "return [_tmp4, _tmp3*_tmp5, _tmp4, 1, _tmp3*(_tmp5 - 8), _tmp3*(-_tmp1 + _tmp2)];\n",
       "}"
      ]
     },
     "metadata": {},
     "output_type": "display_data"
    },
    {
     "name": "stdout",
     "output_type": "stream",
     "text": [
      "window.butter_ba = function(args){\n",
      "var T = args[0];\n",
      "var omega_c = args[1];\n",
      "var _tmp0 = Math.pow(T, 2)*Math.pow(omega_c, 2);\n",
      "var _tmp1 = 2*Math.sqrt(2)*T*omega_c;\n",
      "var _tmp2 = _tmp0 + 4;\n",
      "var _tmp3 = 1/(_tmp1 + _tmp2);\n",
      "var _tmp4 = _tmp0*_tmp3;\n",
      "var _tmp5 = 2*_tmp0;\n",
      "return [_tmp4, _tmp3*_tmp5, _tmp4, 1, _tmp3*(_tmp5 - 8), _tmp3*(-_tmp1 + _tmp2)];\n",
      "}\n"
     ]
    }
   ],
   "source": [
    "ba_code = to_javascript(\"butter_ba\", [T, wc], ba)\n",
    "display_javascript(ba_code, raw=True)\n",
    "print(ba_code)"
   ]
  },
  {
   "cell_type": "markdown",
   "metadata": {},
   "source": [
    "下面使用Bokeh的`DataTable`显示运算结果。"
   ]
  },
  {
   "cell_type": "code",
   "execution_count": 230,
   "metadata": {},
   "outputs": [
    {
     "data": {
      "text/html": [
       "\n",
       "<div class=\"bk-root\">\n",
       "    <div class=\"bk-plotdiv\" id=\"fb894f07-8738-436b-a3ea-da62765e2a75\"></div>\n",
       "</div>"
      ]
     },
     "metadata": {},
     "output_type": "display_data"
    },
    {
     "data": {
      "application/javascript": [
       "(function(root) {\n",
       "  function embed_document(root) {\n",
       "    var docs_json = {\"ed3105dc-7ed2-494c-bafa-0f46477b7597\":{\"roots\":{\"references\":[{\"attributes\":{},\"id\":\"fea57af0-4d95-4dcb-9da1-462c69b037b9\",\"type\":\"StringFormatter\"},{\"attributes\":{\"callback\":null,\"end\":5000,\"js_property_callbacks\":{\"change:value\":[{\"id\":\"57f1139a-5041-42f1-8163-99b9c9a31769\",\"type\":\"CustomJS\"}]},\"start\":1,\"title\":\"fc\",\"value\":100},\"id\":\"5974f333-d0cf-447b-a0b0-2774bac3b5da\",\"type\":\"Slider\"},{\"attributes\":{},\"id\":\"604aa347-bf87-4f86-957f-23d1d3be4bd0\",\"type\":\"StringEditor\"},{\"attributes\":{},\"id\":\"aecee317-04d3-476e-bed6-1da77027e7c2\",\"type\":\"StringFormatter\"},{\"attributes\":{\"args\":{\"source\":{\"id\":\"3303aab5-596a-4030-a14d-a45780d03c9a\",\"type\":\"ColumnDataSource\"},\"table\":{\"id\":\"1848075f-4971-43a9-8594-80a336f42ad1\",\"type\":\"DataTable\"},\"wbox\":{\"id\":\"ef2c63a3-3eba-4845-89df-e77a4b3f7ea8\",\"type\":\"WidgetBox\"}},\"code\":\"var _pyfunc_mult = function (a, b) { // nargs: 2\\n    if ((typeof a === 'number') + (typeof b === 'number') === 1) {\\n        if (a.constructor === String) return _pymeth_repeat.call(a, b);\\n        if (b.constructor === String) return _pymeth_repeat.call(b, a);\\n        if (Array.isArray(b)) {var t=a; a=b; b=t;}\\n        if (Array.isArray(a)) {\\n            var res = []; for (var i=0; i<b; i++) res = res.concat(a);\\n            return res;\\n        }\\n    } return a * b;\\n};\\nvar _pymeth_repeat = function(count) { // nargs: 0\\n    if (this.repeat) return this.repeat(count);\\n    if (count < 1) return '';\\n    var result = '', pattern = this.valueOf();\\n    while (count > 1) {\\n        if (count & 1) result += pattern;\\n        count >>= 1, pattern += pattern;\\n    }\\n    return result + pattern;\\n};\\nvar cb;\\ncb = function (source, wbox, table) {\\n    var T, ba, fc, fs, wc;\\n    source = (source === undefined) ? source: source;\\n    wbox = (wbox === undefined) ? wbox: wbox;\\n    table = (table === undefined) ? data_table: table;\\n    window.table_t = table;\\n    fs = wbox.children[0].value;\\n    fc = wbox.children[1].value;\\n    T = 1 / fs;\\n    wc = _pyfunc_mult(_pyfunc_mult(2, Math.PI), fc);\\n    ba = window.butter_ba([T, wc]);\\n    source.data.a = ba.slice(3);\\n    source.data.b = ba.slice(0,3);\\n    source.change.emit();\\n    table.change.emit();\\n    return null;\\n};\\ncb(source, wbox, table);\\n\"},\"id\":\"57f1139a-5041-42f1-8163-99b9c9a31769\",\"type\":\"CustomJS\"},{\"attributes\":{\"editor\":{\"id\":\"604aa347-bf87-4f86-957f-23d1d3be4bd0\",\"type\":\"StringEditor\"},\"field\":\"b\",\"formatter\":{\"id\":\"aecee317-04d3-476e-bed6-1da77027e7c2\",\"type\":\"StringFormatter\"},\"title\":\"b\"},\"id\":\"fc28bdf5-e519-492b-80a3-34d83b97afc4\",\"type\":\"TableColumn\"},{\"attributes\":{\"children\":[{\"id\":\"40ae561b-21f2-4c80-b49a-c13becf6d8ec\",\"type\":\"WidgetBox\"},{\"id\":\"ef2c63a3-3eba-4845-89df-e77a4b3f7ea8\",\"type\":\"WidgetBox\"}]},\"id\":\"8b1ee757-4719-494a-b656-8c23e36e9be2\",\"type\":\"Column\"},{\"attributes\":{\"callback\":null,\"end\":10000,\"js_property_callbacks\":{\"change:value\":[{\"id\":\"57f1139a-5041-42f1-8163-99b9c9a31769\",\"type\":\"CustomJS\"}]},\"start\":1000,\"step\":1000,\"title\":\"fs\",\"value\":5000},\"id\":\"f3f35d06-2400-4cff-8533-f96fc9435713\",\"type\":\"Slider\"},{\"attributes\":{\"callback\":null,\"column_names\":[\"a\",\"b\"],\"data\":{\"a\":[0,0,0],\"b\":[0,0,0]}},\"id\":\"3303aab5-596a-4030-a14d-a45780d03c9a\",\"type\":\"ColumnDataSource\"},{\"attributes\":{\"children\":[{\"id\":\"f3f35d06-2400-4cff-8533-f96fc9435713\",\"type\":\"Slider\"},{\"id\":\"5974f333-d0cf-447b-a0b0-2774bac3b5da\",\"type\":\"Slider\"}]},\"id\":\"ef2c63a3-3eba-4845-89df-e77a4b3f7ea8\",\"type\":\"WidgetBox\"},{\"attributes\":{\"source\":{\"id\":\"3303aab5-596a-4030-a14d-a45780d03c9a\",\"type\":\"ColumnDataSource\"}},\"id\":\"1757085b-aa3f-4bc4-8484-3b71057e216a\",\"type\":\"CDSView\"},{\"attributes\":{\"children\":[{\"id\":\"1848075f-4971-43a9-8594-80a336f42ad1\",\"type\":\"DataTable\"}],\"height\":150,\"width\":400},\"id\":\"40ae561b-21f2-4c80-b49a-c13becf6d8ec\",\"type\":\"WidgetBox\"},{\"attributes\":{\"editor\":{\"id\":\"19e780b8-60a8-4b0a-8ebb-3cd1342e0206\",\"type\":\"StringEditor\"},\"field\":\"a\",\"formatter\":{\"id\":\"fea57af0-4d95-4dcb-9da1-462c69b037b9\",\"type\":\"StringFormatter\"},\"title\":\"a\"},\"id\":\"f3eaba30-5ba4-4b3d-8bb0-81641e6f5760\",\"type\":\"TableColumn\"},{\"attributes\":{\"columns\":[{\"id\":\"f3eaba30-5ba4-4b3d-8bb0-81641e6f5760\",\"type\":\"TableColumn\"},{\"id\":\"fc28bdf5-e519-492b-80a3-34d83b97afc4\",\"type\":\"TableColumn\"}],\"height\":150,\"source\":{\"id\":\"3303aab5-596a-4030-a14d-a45780d03c9a\",\"type\":\"ColumnDataSource\"},\"view\":{\"id\":\"1757085b-aa3f-4bc4-8484-3b71057e216a\",\"type\":\"CDSView\"},\"width\":400},\"id\":\"1848075f-4971-43a9-8594-80a336f42ad1\",\"type\":\"DataTable\"},{\"attributes\":{},\"id\":\"19e780b8-60a8-4b0a-8ebb-3cd1342e0206\",\"type\":\"StringEditor\"}],\"root_ids\":[\"8b1ee757-4719-494a-b656-8c23e36e9be2\"]},\"title\":\"Bokeh Application\",\"version\":\"0.12.10\"}};\n",
       "    var render_items = [{\"docid\":\"ed3105dc-7ed2-494c-bafa-0f46477b7597\",\"elementid\":\"fb894f07-8738-436b-a3ea-da62765e2a75\",\"modelid\":\"8b1ee757-4719-494a-b656-8c23e36e9be2\"}];\n",
       "\n",
       "    root.Bokeh.embed.embed_items(docs_json, render_items);\n",
       "  }\n",
       "\n",
       "  if (root.Bokeh !== undefined) {\n",
       "    embed_document(root);\n",
       "  } else {\n",
       "    var attempts = 0;\n",
       "    var timer = setInterval(function(root) {\n",
       "      if (root.Bokeh !== undefined) {\n",
       "        embed_document(root);\n",
       "        clearInterval(timer);\n",
       "      }\n",
       "      attempts++;\n",
       "      if (attempts > 100) {\n",
       "        console.log(\"Bokeh: ERROR: Unable to embed document because BokehJS library is missing\")\n",
       "        clearInterval(timer);\n",
       "      }\n",
       "    }, 10, root)\n",
       "  }\n",
       "})(window);"
      ],
      "application/vnd.bokehjs_exec.v0+json": ""
     },
     "metadata": {
      "application/vnd.bokehjs_exec.v0+json": {
       "id": "8b1ee757-4719-494a-b656-8c23e36e9be2"
      }
     },
     "output_type": "display_data"
    }
   ],
   "source": [
    "from bokeh.models import ColumnDataSource, CustomJS\n",
    "from bokeh.models.widgets import DataTable, DateFormatter, TableColumn, Slider\n",
    "from bokeh.io import output_file, show\n",
    "from bokeh.layouts import column, row, widgetbox\n",
    "\n",
    "data = dict(\n",
    "        a=[0, 0, 0],\n",
    "        b=[0, 0, 0],\n",
    "    )\n",
    "source = ColumnDataSource(data)\n",
    "\n",
    "columns = [\n",
    "        TableColumn(field=\"a\", title=\"a\"),\n",
    "        TableColumn(field=\"b\", title=\"b\"),\n",
    "    ]\n",
    "data_table = DataTable(source=source, columns=columns, width=400, height=150)\n",
    "\n",
    "sliders = [\n",
    "    Slider(title=\"fs\", start=1000, end=10000, step=1000, value=5000),\n",
    "    Slider(title=\"fc\", start=1, end=5000, step=1, value=100),\n",
    "]\n",
    "\n",
    "wbox = widgetbox(sliders)\n",
    "\n",
    "def callback_func(source=source, wbox=wbox, table=data_table):\n",
    "    window.table_t = table\n",
    "    fs = wbox.children[0].value\n",
    "    fc = wbox.children[1].value\n",
    "    T = 1 / fs\n",
    "    wc = 2 * Math.PI * fc\n",
    "    ba = window.butter_ba([T, wc])\n",
    "    source.data.a = ba[3:]\n",
    "    source.data.b = ba[:3]\n",
    "    source.change.emit()\n",
    "    table.change.emit()\n",
    "    \n",
    "callback = CustomJS.from_py_func(callback_func)\n",
    "\n",
    "for slider in sliders:\n",
    "    slider.js_on_change(\"value\", callback)\n",
    "\n",
    "show(column(data_table, wbox))"
   ]
  }
 ],
 "metadata": {
  "anaconda-cloud": {},
  "kernelspec": {
   "display_name": "Python [conda root]",
   "language": "python",
   "name": "conda-root-py"
  },
  "language_info": {
   "codemirror_mode": {
    "name": "ipython",
    "version": 3
   },
   "file_extension": ".py",
   "mimetype": "text/x-python",
   "name": "python",
   "nbconvert_exporter": "python",
   "pygments_lexer": "ipython3",
   "version": "3.5.2"
  }
 },
 "nbformat": 4,
 "nbformat_minor": 1
}
