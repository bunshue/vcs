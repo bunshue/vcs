{
 "cells": [
  {
   "cell_type": "markdown",
   "metadata": {},
   "source": [
    "# 在Bokeh中使用Javascript"
   ]
  },
  {
   "cell_type": "markdown",
   "metadata": {},
   "source": [
    "在Bokeh中可以使用`CustomJS`调用Javascript程序在浏览器中实现各种计算、显示任务。在编写浏览器端运行的程序时，同此案我们希望浏览器载入缩小化之前的Javascript代码，方便调试。可以在载入Bokeh相关的模块之前，设置环境变量`BOKEH_MINIFIED`为`\"false\"`。"
   ]
  },
  {
   "cell_type": "code",
   "execution_count": 1,
   "metadata": {},
   "outputs": [],
   "source": [
    "import os\n",
    "os.environ[\"BOKEH_MINIFIED\"] = \"false\""
   ]
  },
  {
   "cell_type": "code",
   "execution_count": 2,
   "metadata": {},
   "outputs": [
    {
     "data": {
      "text/html": [
       "\n",
       "    <div class=\"bk-root\">\n",
       "        <a href=\"https://bokeh.pydata.org\" target=\"_blank\" class=\"bk-logo bk-logo-small bk-logo-notebook\"></a>\n",
       "        <span id=\"3048c047-650c-407e-a52d-dff6de47e1af\">Loading BokehJS ...</span>\n",
       "    </div>"
      ]
     },
     "metadata": {},
     "output_type": "display_data"
    },
    {
     "data": {
      "application/javascript": [
       "\n",
       "(function(root) {\n",
       "  function now() {\n",
       "    return new Date();\n",
       "  }\n",
       "\n",
       "  var force = true;\n",
       "\n",
       "  if (typeof (root._bokeh_onload_callbacks) === \"undefined\" || force === true) {\n",
       "    root._bokeh_onload_callbacks = [];\n",
       "    root._bokeh_is_loading = undefined;\n",
       "  }\n",
       "\n",
       "  var JS_MIME_TYPE = 'application/javascript';\n",
       "  var HTML_MIME_TYPE = 'text/html';\n",
       "  var EXEC_MIME_TYPE = 'application/vnd.bokehjs_exec.v0+json';\n",
       "  var CLASS_NAME = 'output_bokeh rendered_html';\n",
       "\n",
       "  /**\n",
       "   * Render data to the DOM node\n",
       "   */\n",
       "  function render(props, node) {\n",
       "    var script = document.createElement(\"script\");\n",
       "    node.appendChild(script);\n",
       "  }\n",
       "\n",
       "  /**\n",
       "   * Handle when an output is cleared or removed\n",
       "   */\n",
       "  function handleClearOutput(event, handle) {\n",
       "    var cell = handle.cell;\n",
       "\n",
       "    var id = cell.output_area._bokeh_element_id;\n",
       "    var server_id = cell.output_area._bokeh_server_id;\n",
       "    // Clean up Bokeh references\n",
       "    if (id !== undefined) {\n",
       "      Bokeh.index[id].model.document.clear();\n",
       "      delete Bokeh.index[id];\n",
       "    }\n",
       "\n",
       "    if (server_id !== undefined) {\n",
       "      // Clean up Bokeh references\n",
       "      var cmd = \"from bokeh.io.state import curstate; print(curstate().uuid_to_server['\" + server_id + \"'].get_sessions()[0].document.roots[0]._id)\";\n",
       "      cell.notebook.kernel.execute(cmd, {\n",
       "        iopub: {\n",
       "          output: function(msg) {\n",
       "            var element_id = msg.content.text.trim();\n",
       "            Bokeh.index[element_id].model.document.clear();\n",
       "            delete Bokeh.index[element_id];\n",
       "          }\n",
       "        }\n",
       "      });\n",
       "      // Destroy server and session\n",
       "      var cmd = \"import bokeh.io.notebook as ion; ion.destroy_server('\" + server_id + \"')\";\n",
       "      cell.notebook.kernel.execute(cmd);\n",
       "    }\n",
       "  }\n",
       "\n",
       "  /**\n",
       "   * Handle when a new output is added\n",
       "   */\n",
       "  function handleAddOutput(event, handle) {\n",
       "    var output_area = handle.output_area;\n",
       "    var output = handle.output;\n",
       "\n",
       "    // limit handleAddOutput to display_data with EXEC_MIME_TYPE content only\n",
       "    if ((output.output_type != \"display_data\") || (!output.data.hasOwnProperty(EXEC_MIME_TYPE))) {\n",
       "      return\n",
       "    }\n",
       "\n",
       "    var toinsert = output_area.element.find(\".\" + CLASS_NAME.split(' ')[0]);\n",
       "\n",
       "    if (output.metadata[EXEC_MIME_TYPE][\"id\"] !== undefined) {\n",
       "      toinsert[toinsert.length - 1].firstChild.textContent = output.data[JS_MIME_TYPE];\n",
       "      // store reference to embed id on output_area\n",
       "      output_area._bokeh_element_id = output.metadata[EXEC_MIME_TYPE][\"id\"];\n",
       "    }\n",
       "    if (output.metadata[EXEC_MIME_TYPE][\"server_id\"] !== undefined) {\n",
       "      var bk_div = document.createElement(\"div\");\n",
       "      bk_div.innerHTML = output.data[HTML_MIME_TYPE];\n",
       "      var script_attrs = bk_div.children[0].attributes;\n",
       "      for (var i = 0; i < script_attrs.length; i++) {\n",
       "        toinsert[toinsert.length - 1].firstChild.setAttribute(script_attrs[i].name, script_attrs[i].value);\n",
       "      }\n",
       "      // store reference to server id on output_area\n",
       "      output_area._bokeh_server_id = output.metadata[EXEC_MIME_TYPE][\"server_id\"];\n",
       "    }\n",
       "  }\n",
       "\n",
       "  function register_renderer(events, OutputArea) {\n",
       "\n",
       "    function append_mime(data, metadata, element) {\n",
       "      // create a DOM node to render to\n",
       "      var toinsert = this.create_output_subarea(\n",
       "        metadata,\n",
       "        CLASS_NAME,\n",
       "        EXEC_MIME_TYPE\n",
       "      );\n",
       "      this.keyboard_manager.register_events(toinsert);\n",
       "      // Render to node\n",
       "      var props = {data: data, metadata: metadata[EXEC_MIME_TYPE]};\n",
       "      render(props, toinsert[toinsert.length - 1]);\n",
       "      element.append(toinsert);\n",
       "      return toinsert\n",
       "    }\n",
       "\n",
       "    /* Handle when an output is cleared or removed */\n",
       "    events.on('clear_output.CodeCell', handleClearOutput);\n",
       "    events.on('delete.Cell', handleClearOutput);\n",
       "\n",
       "    /* Handle when a new output is added */\n",
       "    events.on('output_added.OutputArea', handleAddOutput);\n",
       "\n",
       "    /**\n",
       "     * Register the mime type and append_mime function with output_area\n",
       "     */\n",
       "    OutputArea.prototype.register_mime_type(EXEC_MIME_TYPE, append_mime, {\n",
       "      /* Is output safe? */\n",
       "      safe: true,\n",
       "      /* Index of renderer in `output_area.display_order` */\n",
       "      index: 0\n",
       "    });\n",
       "  }\n",
       "\n",
       "  // register the mime type if in Jupyter Notebook environment and previously unregistered\n",
       "  if (root.Jupyter !== undefined) {\n",
       "    var events = require('base/js/events');\n",
       "    var OutputArea = require('notebook/js/outputarea').OutputArea;\n",
       "\n",
       "    if (OutputArea.prototype.mime_types().indexOf(EXEC_MIME_TYPE) == -1) {\n",
       "      register_renderer(events, OutputArea);\n",
       "    }\n",
       "  }\n",
       "\n",
       "  \n",
       "  if (typeof (root._bokeh_timeout) === \"undefined\" || force === true) {\n",
       "    root._bokeh_timeout = Date.now() + 5000;\n",
       "    root._bokeh_failed_load = false;\n",
       "  }\n",
       "\n",
       "  var NB_LOAD_WARNING = {'data': {'text/html':\n",
       "     \"<div style='background-color: #fdd'>\\n\"+\n",
       "     \"<p>\\n\"+\n",
       "     \"BokehJS does not appear to have successfully loaded. If loading BokehJS from CDN, this \\n\"+\n",
       "     \"may be due to a slow or bad network connection. Possible fixes:\\n\"+\n",
       "     \"</p>\\n\"+\n",
       "     \"<ul>\\n\"+\n",
       "     \"<li>re-rerun `output_notebook()` to attempt to load from CDN again, or</li>\\n\"+\n",
       "     \"<li>use INLINE resources instead, as so:</li>\\n\"+\n",
       "     \"</ul>\\n\"+\n",
       "     \"<code>\\n\"+\n",
       "     \"from bokeh.resources import INLINE\\n\"+\n",
       "     \"output_notebook(resources=INLINE)\\n\"+\n",
       "     \"</code>\\n\"+\n",
       "     \"</div>\"}};\n",
       "\n",
       "  function display_loaded() {\n",
       "    var el = document.getElementById(\"3048c047-650c-407e-a52d-dff6de47e1af\");\n",
       "    if (el != null) {\n",
       "      el.textContent = \"BokehJS is loading...\";\n",
       "    }\n",
       "    if (root.Bokeh !== undefined) {\n",
       "      if (el != null) {\n",
       "        el.textContent = \"BokehJS \" + root.Bokeh.version + \" successfully loaded.\";\n",
       "      }\n",
       "    } else if (Date.now() < root._bokeh_timeout) {\n",
       "      setTimeout(display_loaded, 100)\n",
       "    }\n",
       "  }\n",
       "\n",
       "\n",
       "  function run_callbacks() {\n",
       "    try {\n",
       "      root._bokeh_onload_callbacks.forEach(function(callback) { callback() });\n",
       "    }\n",
       "    finally {\n",
       "      delete root._bokeh_onload_callbacks\n",
       "    }\n",
       "    console.info(\"Bokeh: all callbacks have finished\");\n",
       "  }\n",
       "\n",
       "  function load_libs(js_urls, callback) {\n",
       "    root._bokeh_onload_callbacks.push(callback);\n",
       "    if (root._bokeh_is_loading > 0) {\n",
       "      console.log(\"Bokeh: BokehJS is being loaded, scheduling callback at\", now());\n",
       "      return null;\n",
       "    }\n",
       "    if (js_urls == null || js_urls.length === 0) {\n",
       "      run_callbacks();\n",
       "      return null;\n",
       "    }\n",
       "    console.log(\"Bokeh: BokehJS not loaded, scheduling load and callback at\", now());\n",
       "    root._bokeh_is_loading = js_urls.length;\n",
       "    for (var i = 0; i < js_urls.length; i++) {\n",
       "      var url = js_urls[i];\n",
       "      var s = document.createElement('script');\n",
       "      s.src = url;\n",
       "      s.async = false;\n",
       "      s.onreadystatechange = s.onload = function() {\n",
       "        root._bokeh_is_loading--;\n",
       "        if (root._bokeh_is_loading === 0) {\n",
       "          console.log(\"Bokeh: all BokehJS libraries loaded\");\n",
       "          run_callbacks()\n",
       "        }\n",
       "      };\n",
       "      s.onerror = function() {\n",
       "        console.warn(\"failed to load library \" + url);\n",
       "      };\n",
       "      console.log(\"Bokeh: injecting script tag for BokehJS library: \", url);\n",
       "      document.getElementsByTagName(\"head\")[0].appendChild(s);\n",
       "    }\n",
       "  };var element = document.getElementById(\"3048c047-650c-407e-a52d-dff6de47e1af\");\n",
       "  if (element == null) {\n",
       "    console.log(\"Bokeh: ERROR: autoload.js configured with elementid '3048c047-650c-407e-a52d-dff6de47e1af' but no matching script tag was found. \")\n",
       "    return false;\n",
       "  }\n",
       "\n",
       "  var js_urls = [\"https://cdn.pydata.org/bokeh/release/bokeh-0.12.15.js\", \"https://cdn.pydata.org/bokeh/release/bokeh-widgets-0.12.15.js\", \"https://cdn.pydata.org/bokeh/release/bokeh-tables-0.12.15.js\", \"https://cdn.pydata.org/bokeh/release/bokeh-gl-0.12.15.js\"];\n",
       "\n",
       "  var inline_js = [\n",
       "    function(Bokeh) {\n",
       "      Bokeh.set_log_level(\"info\");\n",
       "    },\n",
       "    \n",
       "    function(Bokeh) {\n",
       "      \n",
       "    },\n",
       "    function(Bokeh) {\n",
       "      console.log(\"Bokeh: injecting CSS: https://cdn.pydata.org/bokeh/release/bokeh-0.12.15.css\");\n",
       "      Bokeh.embed.inject_css(\"https://cdn.pydata.org/bokeh/release/bokeh-0.12.15.css\");\n",
       "      console.log(\"Bokeh: injecting CSS: https://cdn.pydata.org/bokeh/release/bokeh-widgets-0.12.15.css\");\n",
       "      Bokeh.embed.inject_css(\"https://cdn.pydata.org/bokeh/release/bokeh-widgets-0.12.15.css\");\n",
       "      console.log(\"Bokeh: injecting CSS: https://cdn.pydata.org/bokeh/release/bokeh-tables-0.12.15.css\");\n",
       "      Bokeh.embed.inject_css(\"https://cdn.pydata.org/bokeh/release/bokeh-tables-0.12.15.css\");\n",
       "    }\n",
       "  ];\n",
       "\n",
       "  function run_inline_js() {\n",
       "    \n",
       "    if ((root.Bokeh !== undefined) || (force === true)) {\n",
       "      for (var i = 0; i < inline_js.length; i++) {\n",
       "        inline_js[i].call(root, root.Bokeh);\n",
       "      }if (force === true) {\n",
       "        display_loaded();\n",
       "      }} else if (Date.now() < root._bokeh_timeout) {\n",
       "      setTimeout(run_inline_js, 100);\n",
       "    } else if (!root._bokeh_failed_load) {\n",
       "      console.log(\"Bokeh: BokehJS failed to load within specified timeout.\");\n",
       "      root._bokeh_failed_load = true;\n",
       "    } else if (force !== true) {\n",
       "      var cell = $(document.getElementById(\"3048c047-650c-407e-a52d-dff6de47e1af\")).parents('.cell').data().cell;\n",
       "      cell.output_area.append_execute_result(NB_LOAD_WARNING)\n",
       "    }\n",
       "\n",
       "  }\n",
       "\n",
       "  if (root._bokeh_is_loading === 0) {\n",
       "    console.log(\"Bokeh: BokehJS loaded, going straight to plotting\");\n",
       "    run_inline_js();\n",
       "  } else {\n",
       "    load_libs(js_urls, function() {\n",
       "      console.log(\"Bokeh: BokehJS plotting callback run at\", now());\n",
       "      run_inline_js();\n",
       "    });\n",
       "  }\n",
       "}(window));"
      ],
      "application/vnd.bokehjs_load.v0+json": "\n(function(root) {\n  function now() {\n    return new Date();\n  }\n\n  var force = true;\n\n  if (typeof (root._bokeh_onload_callbacks) === \"undefined\" || force === true) {\n    root._bokeh_onload_callbacks = [];\n    root._bokeh_is_loading = undefined;\n  }\n\n  \n\n  \n  if (typeof (root._bokeh_timeout) === \"undefined\" || force === true) {\n    root._bokeh_timeout = Date.now() + 5000;\n    root._bokeh_failed_load = false;\n  }\n\n  var NB_LOAD_WARNING = {'data': {'text/html':\n     \"<div style='background-color: #fdd'>\\n\"+\n     \"<p>\\n\"+\n     \"BokehJS does not appear to have successfully loaded. If loading BokehJS from CDN, this \\n\"+\n     \"may be due to a slow or bad network connection. Possible fixes:\\n\"+\n     \"</p>\\n\"+\n     \"<ul>\\n\"+\n     \"<li>re-rerun `output_notebook()` to attempt to load from CDN again, or</li>\\n\"+\n     \"<li>use INLINE resources instead, as so:</li>\\n\"+\n     \"</ul>\\n\"+\n     \"<code>\\n\"+\n     \"from bokeh.resources import INLINE\\n\"+\n     \"output_notebook(resources=INLINE)\\n\"+\n     \"</code>\\n\"+\n     \"</div>\"}};\n\n  function display_loaded() {\n    var el = document.getElementById(\"3048c047-650c-407e-a52d-dff6de47e1af\");\n    if (el != null) {\n      el.textContent = \"BokehJS is loading...\";\n    }\n    if (root.Bokeh !== undefined) {\n      if (el != null) {\n        el.textContent = \"BokehJS \" + root.Bokeh.version + \" successfully loaded.\";\n      }\n    } else if (Date.now() < root._bokeh_timeout) {\n      setTimeout(display_loaded, 100)\n    }\n  }\n\n\n  function run_callbacks() {\n    try {\n      root._bokeh_onload_callbacks.forEach(function(callback) { callback() });\n    }\n    finally {\n      delete root._bokeh_onload_callbacks\n    }\n    console.info(\"Bokeh: all callbacks have finished\");\n  }\n\n  function load_libs(js_urls, callback) {\n    root._bokeh_onload_callbacks.push(callback);\n    if (root._bokeh_is_loading > 0) {\n      console.log(\"Bokeh: BokehJS is being loaded, scheduling callback at\", now());\n      return null;\n    }\n    if (js_urls == null || js_urls.length === 0) {\n      run_callbacks();\n      return null;\n    }\n    console.log(\"Bokeh: BokehJS not loaded, scheduling load and callback at\", now());\n    root._bokeh_is_loading = js_urls.length;\n    for (var i = 0; i < js_urls.length; i++) {\n      var url = js_urls[i];\n      var s = document.createElement('script');\n      s.src = url;\n      s.async = false;\n      s.onreadystatechange = s.onload = function() {\n        root._bokeh_is_loading--;\n        if (root._bokeh_is_loading === 0) {\n          console.log(\"Bokeh: all BokehJS libraries loaded\");\n          run_callbacks()\n        }\n      };\n      s.onerror = function() {\n        console.warn(\"failed to load library \" + url);\n      };\n      console.log(\"Bokeh: injecting script tag for BokehJS library: \", url);\n      document.getElementsByTagName(\"head\")[0].appendChild(s);\n    }\n  };var element = document.getElementById(\"3048c047-650c-407e-a52d-dff6de47e1af\");\n  if (element == null) {\n    console.log(\"Bokeh: ERROR: autoload.js configured with elementid '3048c047-650c-407e-a52d-dff6de47e1af' but no matching script tag was found. \")\n    return false;\n  }\n\n  var js_urls = [\"https://cdn.pydata.org/bokeh/release/bokeh-0.12.15.js\", \"https://cdn.pydata.org/bokeh/release/bokeh-widgets-0.12.15.js\", \"https://cdn.pydata.org/bokeh/release/bokeh-tables-0.12.15.js\", \"https://cdn.pydata.org/bokeh/release/bokeh-gl-0.12.15.js\"];\n\n  var inline_js = [\n    function(Bokeh) {\n      Bokeh.set_log_level(\"info\");\n    },\n    \n    function(Bokeh) {\n      \n    },\n    function(Bokeh) {\n      console.log(\"Bokeh: injecting CSS: https://cdn.pydata.org/bokeh/release/bokeh-0.12.15.css\");\n      Bokeh.embed.inject_css(\"https://cdn.pydata.org/bokeh/release/bokeh-0.12.15.css\");\n      console.log(\"Bokeh: injecting CSS: https://cdn.pydata.org/bokeh/release/bokeh-widgets-0.12.15.css\");\n      Bokeh.embed.inject_css(\"https://cdn.pydata.org/bokeh/release/bokeh-widgets-0.12.15.css\");\n      console.log(\"Bokeh: injecting CSS: https://cdn.pydata.org/bokeh/release/bokeh-tables-0.12.15.css\");\n      Bokeh.embed.inject_css(\"https://cdn.pydata.org/bokeh/release/bokeh-tables-0.12.15.css\");\n    }\n  ];\n\n  function run_inline_js() {\n    \n    if ((root.Bokeh !== undefined) || (force === true)) {\n      for (var i = 0; i < inline_js.length; i++) {\n        inline_js[i].call(root, root.Bokeh);\n      }if (force === true) {\n        display_loaded();\n      }} else if (Date.now() < root._bokeh_timeout) {\n      setTimeout(run_inline_js, 100);\n    } else if (!root._bokeh_failed_load) {\n      console.log(\"Bokeh: BokehJS failed to load within specified timeout.\");\n      root._bokeh_failed_load = true;\n    } else if (force !== true) {\n      var cell = $(document.getElementById(\"3048c047-650c-407e-a52d-dff6de47e1af\")).parents('.cell').data().cell;\n      cell.output_area.append_execute_result(NB_LOAD_WARNING)\n    }\n\n  }\n\n  if (root._bokeh_is_loading === 0) {\n    console.log(\"Bokeh: BokehJS loaded, going straight to plotting\");\n    run_inline_js();\n  } else {\n    load_libs(js_urls, function() {\n      console.log(\"Bokeh: BokehJS plotting callback run at\", now());\n      run_inline_js();\n    });\n  }\n}(window));"
     },
     "metadata": {},
     "output_type": "display_data"
    }
   ],
   "source": [
    "import numpy as np\n",
    "import pandas as pd\n",
    "from bokeh.io import output_notebook, show\n",
    "from bokeh.models import ColumnDataSource, ColorBar, CustomJS, Model\n",
    "from bokeh.models.mappers import LinearColorMapper\n",
    "from bokeh.palettes import Viridis, Category10\n",
    "from bokeh.plotting import figure\n",
    "from bokeh.layouts import row, column\n",
    "output_notebook()"
   ]
  },
  {
   "cell_type": "markdown",
   "metadata": {},
   "source": [
    "## 对`ColumnDataSource`中的某列进行转换"
   ]
  },
  {
   "cell_type": "markdown",
   "metadata": {},
   "source": [
    "`bokeh.transform`中提供的各种转换函数，例如`dodge()`将指定列的值加上某个指定的数值。在下面的例子中，`line2`的Y轴数据被设置为`dodge(\"y\", 1)`。它表示将其对应的`ColumnDataSource`中的Y列偏移`1.0`。`dodge()`的运算不是在Python中执行，而是在浏览器中由Javascript执行。"
   ]
  },
  {
   "cell_type": "code",
   "execution_count": 3,
   "metadata": {},
   "outputs": [
    {
     "data": {
      "text/html": [
       "\n",
       "<div class=\"bk-root\">\n",
       "    <div class=\"bk-plotdiv\" id=\"3e111a7e-53dc-43ae-94e3-9a46cb6f34da\"></div>\n",
       "</div>"
      ]
     },
     "metadata": {},
     "output_type": "display_data"
    },
    {
     "data": {
      "application/javascript": [
       "(function(root) {\n",
       "  function embed_document(root) {\n",
       "    \n",
       "  var docs_json = {\"84bcbe87-e883-466c-ac89-6970d28489c0\":{\"roots\":{\"references\":[{\"attributes\":{\"below\":[{\"id\":\"e05d56e4-dcfd-441a-8499-c029a6ea836e\",\"type\":\"LinearAxis\"}],\"left\":[{\"id\":\"6eb1e942-d809-4ac4-b4e0-0889dfe5299b\",\"type\":\"LinearAxis\"}],\"plot_height\":250,\"plot_width\":400,\"renderers\":[{\"id\":\"e05d56e4-dcfd-441a-8499-c029a6ea836e\",\"type\":\"LinearAxis\"},{\"id\":\"39660106-1402-4fc3-a845-9427c23522d1\",\"type\":\"Grid\"},{\"id\":\"6eb1e942-d809-4ac4-b4e0-0889dfe5299b\",\"type\":\"LinearAxis\"},{\"id\":\"7794e57b-c658-4ef1-b010-855a5d54c656\",\"type\":\"Grid\"},{\"id\":\"4c4a3cb8-25e9-4372-b54c-5c488b4e4511\",\"type\":\"BoxAnnotation\"},{\"id\":\"606e8ba3-d0ee-448c-afa3-e2a8e9fa3221\",\"type\":\"GlyphRenderer\"},{\"id\":\"fed3599f-0d1d-4cc0-9bb9-51fcaf9ea6d3\",\"type\":\"GlyphRenderer\"}],\"title\":{\"id\":\"c17f1243-33d3-47e5-8897-7f0709001183\",\"type\":\"Title\"},\"toolbar\":{\"id\":\"2f6e4564-1e5f-45e7-8fb1-1b48eb1e40e0\",\"type\":\"Toolbar\"},\"x_range\":{\"id\":\"64a135c4-03ba-44c3-903a-8b898872f801\",\"type\":\"DataRange1d\"},\"x_scale\":{\"id\":\"c4b755ed-83a1-4c85-bf72-d48e04f5f979\",\"type\":\"LinearScale\"},\"y_range\":{\"id\":\"4fa32c47-81a7-4803-bd96-4ea81dfafeb5\",\"type\":\"DataRange1d\"},\"y_scale\":{\"id\":\"d918df24-9d94-4c93-ab00-47c011679ac7\",\"type\":\"LinearScale\"}},\"id\":\"84d3f751-6991-4f42-a443-449c2ce7e288\",\"subtype\":\"Figure\",\"type\":\"Plot\"},{\"attributes\":{\"source\":{\"id\":\"937e7783-b853-4330-a6bf-68ed5608d29f\",\"type\":\"ColumnDataSource\"}},\"id\":\"1d9de208-74e9-4e2f-bcfb-41b5dc94f189\",\"type\":\"CDSView\"},{\"attributes\":{\"callback\":null,\"column_names\":[\"x\",\"y\"],\"data\":{\"x\":{\"__ndarray__\":\"AAAAAAAAAACRGkt8Vz+wP5EaS3xXP8A/2qdwOgNfyD+RGkt8Vz/QPzXhXVstT9Q/2qdwOgNf2D9+boMZ2W7cP5EaS3xXP+A/433Ua0JH4j814V1bLU/kP4dE50oYV+Y/2qdwOgNf6D8sC/op7mbqP35ugxnZbuw/0NEMCcR27j+RGkt8Vz/wPzrMD/RMQ/E/433Ua0JH8j+ML5njN0vzPzXhXVstT/Q/3pIi0yJT9T+HROdKGFf2PzD2q8INW/c/2qdwOgNf+D+DWTWy+GL5PywL+inuZvo/1by+oeNq+z9+boMZ2W78PycgSJHOcv0/0NEMCcR2/j95g9GAuXr/P5EaS3xXPwBAZnMtOFLBAEA6zA/0TEMBQA8l8q9HxQFA433Ua0JHAkC41rYnPckCQIwvmeM3SwNAYYh7nzLNA0A14V1bLU8EQAo6QBco0QRA3pIi0yJTBUCz6wSPHdUFQIdE50oYVwZAXJ3JBhPZBkAw9qvCDVsHQAVPjn4I3QdA2qdwOgNfCECuAFP2/eAIQINZNbL4YglAV7IXbvPkCUAsC/op7mYKQABk3OXo6ApA1by+oeNqC0CpFaFd3uwLQH5ugxnZbgxAUsdl1dPwDEAnIEiRznINQPt4Kk3J9A1A0NEMCcR2DkCkKu/EvvgOQHmD0YC5eg9ATdyzPLT8D0CRGkt8Vz8QQPtGPNpUgBBAZnMtOFLBEEDQnx6WTwIRQDrMD/RMQxFApPgAUkqEEUAPJfKvR8URQHlR4w1FBhJA433Ua0JHEkBNqsXJP4gSQLjWtic9yRJAIgOohToKE0CML5njN0sTQPZbikE1jBNAYYh7nzLNE0DLtGz9Lw4UQDXhXVstTxRAoA1PuSqQFEAKOkAXKNEUQHRmMXUlEhVA3pIi0yJTFUBJvxMxIJQVQLPrBI8d1RVAHRj27BoWFkCHROdKGFcWQPJw2KgVmBZAXJ3JBhPZFkDGybpkEBoXQDD2q8INWxdAmyKdIAucF0AFT45+CN0XQG97f9wFHhhA2qdwOgNfGEBE1GGYAKAYQK4AU/b94BhAGC1EVPshGUA=\",\"dtype\":\"float64\",\"shape\":[100]},\"y\":{\"__ndarray__\":\"AAAAAAAAAAADhrXMjDywP/CDAnguNMA/kayggGI5yD+aiNkBzxLQP9ofIiFb+NM/+5MNU1HJ1z+CQNqEwoHbPxhNPurYHd8/C1i7+O1M4T9GhZoMGvniPxwWPFK3keQ/ABg/lCAV5j+GGZN4xoHnP4hAIRwx1ug/lkFFlgER6j93zoZi8zDrPzKcHq/dNOw/EyzujrQb7T/B8a4NiuTtP/0jPCWPju4/3176khQZ7z8XHIGMi4PvPzTGy1KGze8/g6xao7j27z/vOc8G+P7vP2Zmsvw75u8/70I4BJ6s7z+/l/eBWVLvPwOssILL1+4/xVNiW3I97j+TIxAn7YPtP1EHwCL7q+w/qkxY6Hq26z+RVimJaaTqP5aCD4nhduk/oSg6uxkv6D+158MBZM7mP9KHZvErVuU/8nixWvXH4z8mRkW6WiXiP2ITsJELcOA/8qg+VZVT3T/agWKM2KjZP/gLinSo49U/v412/ecH0j/lKaSyIjPMP+bENsZjOcQ/3FNHxZdVuD+s23zJpD6gP8nbfMmkPqC/6lNHxZdVuL/txDbGYznEv9wppLIiM8y/wo12/ecH0r/0C4p0qOPVv92BYozYqNm/7qg+VZVT3b9jE7CRC3DgvyRGRbpaJeK/83ixWvXH47/Rh2bxK1blv7fnwwFkzua/oCg6uxkv6L+Xgg+J4Xbpv5BWKYlppOq/rExY6Hq2679SB8Ai+6vsv5MjECftg+2/xFNiW3I97r8ErLCCy9fuv7+X94FZUu+/70I4BJ6s779lZrL8O+bvv+85zwb4/u+/g6xao7j27780xstShs3vvxgcgYyLg++/3176khQZ77/9Izwlj47uv8Lxrg2K5O2/EizujrQb7b8xnB6v3TTsv3fOhmLzMOu/l0FFlgER6r+GQCEcMdbov4QZk3jGgee/ABg/lCAV5r8fFjxSt5Hkv0SFmgwa+eK/Cli7+O1M4b8bTT7q2B3fv4dA2oTCgdu/9ZMNU1HJ17/ZHyIhW/jTv52I2QHPEtC/gKyggGI5yL/ogwJ4LjTAvwSGtcyMPLC/B1wUMyamsbw=\",\"dtype\":\"float64\",\"shape\":[100]}},\"selected\":null,\"selection_policy\":null},\"id\":\"937e7783-b853-4330-a6bf-68ed5608d29f\",\"type\":\"ColumnDataSource\"},{\"attributes\":{\"source\":{\"id\":\"937e7783-b853-4330-a6bf-68ed5608d29f\",\"type\":\"ColumnDataSource\"}},\"id\":\"68095e32-8359-4015-991c-ff9d8162a34b\",\"type\":\"CDSView\"},{\"attributes\":{\"active_drag\":\"auto\",\"active_inspect\":\"auto\",\"active_scroll\":\"auto\",\"active_tap\":\"auto\",\"tools\":[{\"id\":\"bdcce3fe-cb85-4878-ac47-2a11d7ecb2a4\",\"type\":\"PanTool\"},{\"id\":\"17128366-315f-45b7-b95e-dfb4ebe74d9b\",\"type\":\"WheelZoomTool\"},{\"id\":\"0988ea82-cfd6-4334-ae18-610a333cdeea\",\"type\":\"BoxZoomTool\"},{\"id\":\"80746427-d026-4ae4-b45a-c10f116c7757\",\"type\":\"SaveTool\"},{\"id\":\"634200fa-d3ca-4327-af0c-42759e477431\",\"type\":\"ResetTool\"},{\"id\":\"bc0edc36-0379-42c8-8712-61e0bcb040b8\",\"type\":\"HelpTool\"}]},\"id\":\"2f6e4564-1e5f-45e7-8fb1-1b48eb1e40e0\",\"type\":\"Toolbar\"},{\"attributes\":{\"line_alpha\":0.1,\"line_color\":\"#1f77b4\",\"x\":{\"field\":\"x\"},\"y\":{\"field\":\"y\"}},\"id\":\"cd513167-fd97-497b-9620-feca7bb49ff3\",\"type\":\"Line\"},{\"attributes\":{\"line_color\":\"#1f77b4\",\"x\":{\"field\":\"x\"},\"y\":{\"field\":\"y\"}},\"id\":\"41d7a1e5-9faa-4ec6-be7c-b3de8c5755bb\",\"type\":\"Line\"},{\"attributes\":{\"callback\":null},\"id\":\"64a135c4-03ba-44c3-903a-8b898872f801\",\"type\":\"DataRange1d\"},{\"attributes\":{\"data_source\":{\"id\":\"937e7783-b853-4330-a6bf-68ed5608d29f\",\"type\":\"ColumnDataSource\"},\"glyph\":{\"id\":\"41d7a1e5-9faa-4ec6-be7c-b3de8c5755bb\",\"type\":\"Line\"},\"hover_glyph\":null,\"muted_glyph\":null,\"nonselection_glyph\":{\"id\":\"cd513167-fd97-497b-9620-feca7bb49ff3\",\"type\":\"Line\"},\"selection_glyph\":null,\"view\":{\"id\":\"1d9de208-74e9-4e2f-bcfb-41b5dc94f189\",\"type\":\"CDSView\"}},\"id\":\"606e8ba3-d0ee-448c-afa3-e2a8e9fa3221\",\"type\":\"GlyphRenderer\"},{\"attributes\":{},\"id\":\"b5f9a637-a2ca-4fa2-8769-6560e015d25f\",\"type\":\"BasicTicker\"},{\"attributes\":{\"callback\":null},\"id\":\"4fa32c47-81a7-4803-bd96-4ea81dfafeb5\",\"type\":\"DataRange1d\"},{\"attributes\":{},\"id\":\"c4b755ed-83a1-4c85-bf72-d48e04f5f979\",\"type\":\"LinearScale\"},{\"attributes\":{\"range\":null,\"value\":1},\"id\":\"dbbd0840-8146-45ed-ac62-95e2616d0c82\",\"type\":\"Dodge\"},{\"attributes\":{},\"id\":\"d918df24-9d94-4c93-ab00-47c011679ac7\",\"type\":\"LinearScale\"},{\"attributes\":{\"plot\":{\"id\":\"84d3f751-6991-4f42-a443-449c2ce7e288\",\"subtype\":\"Figure\",\"type\":\"Plot\"},\"ticker\":{\"id\":\"b5f9a637-a2ca-4fa2-8769-6560e015d25f\",\"type\":\"BasicTicker\"}},\"id\":\"39660106-1402-4fc3-a845-9427c23522d1\",\"type\":\"Grid\"},{\"attributes\":{\"formatter\":{\"id\":\"3d88d0e7-ed0d-4541-873a-c6c75c3eaba1\",\"type\":\"BasicTickFormatter\"},\"plot\":{\"id\":\"84d3f751-6991-4f42-a443-449c2ce7e288\",\"subtype\":\"Figure\",\"type\":\"Plot\"},\"ticker\":{\"id\":\"b5f9a637-a2ca-4fa2-8769-6560e015d25f\",\"type\":\"BasicTicker\"}},\"id\":\"e05d56e4-dcfd-441a-8499-c029a6ea836e\",\"type\":\"LinearAxis\"},{\"attributes\":{\"data_source\":{\"id\":\"937e7783-b853-4330-a6bf-68ed5608d29f\",\"type\":\"ColumnDataSource\"},\"glyph\":{\"id\":\"2017e5a6-4320-4e26-b5d1-1dc80d8f424e\",\"type\":\"Line\"},\"hover_glyph\":null,\"muted_glyph\":null,\"nonselection_glyph\":{\"id\":\"c91a56f2-d8a1-46c6-8a9c-d6b3a4108e5e\",\"type\":\"Line\"},\"selection_glyph\":null,\"view\":{\"id\":\"68095e32-8359-4015-991c-ff9d8162a34b\",\"type\":\"CDSView\"}},\"id\":\"fed3599f-0d1d-4cc0-9bb9-51fcaf9ea6d3\",\"type\":\"GlyphRenderer\"},{\"attributes\":{\"formatter\":{\"id\":\"b107876f-6be1-4a34-b662-69396fada438\",\"type\":\"BasicTickFormatter\"},\"plot\":{\"id\":\"84d3f751-6991-4f42-a443-449c2ce7e288\",\"subtype\":\"Figure\",\"type\":\"Plot\"},\"ticker\":{\"id\":\"973e16d8-38eb-470b-b859-843ad91d1e01\",\"type\":\"BasicTicker\"}},\"id\":\"6eb1e942-d809-4ac4-b4e0-0889dfe5299b\",\"type\":\"LinearAxis\"},{\"attributes\":{},\"id\":\"973e16d8-38eb-470b-b859-843ad91d1e01\",\"type\":\"BasicTicker\"},{\"attributes\":{\"dimension\":1,\"plot\":{\"id\":\"84d3f751-6991-4f42-a443-449c2ce7e288\",\"subtype\":\"Figure\",\"type\":\"Plot\"},\"ticker\":{\"id\":\"973e16d8-38eb-470b-b859-843ad91d1e01\",\"type\":\"BasicTicker\"}},\"id\":\"7794e57b-c658-4ef1-b010-855a5d54c656\",\"type\":\"Grid\"},{\"attributes\":{\"bottom_units\":\"screen\",\"fill_alpha\":{\"value\":0.5},\"fill_color\":{\"value\":\"lightgrey\"},\"left_units\":\"screen\",\"level\":\"overlay\",\"line_alpha\":{\"value\":1.0},\"line_color\":{\"value\":\"black\"},\"line_dash\":[4,4],\"line_width\":{\"value\":2},\"plot\":null,\"render_mode\":\"css\",\"right_units\":\"screen\",\"top_units\":\"screen\"},\"id\":\"4c4a3cb8-25e9-4372-b54c-5c488b4e4511\",\"type\":\"BoxAnnotation\"},{\"attributes\":{},\"id\":\"b107876f-6be1-4a34-b662-69396fada438\",\"type\":\"BasicTickFormatter\"},{\"attributes\":{},\"id\":\"bdcce3fe-cb85-4878-ac47-2a11d7ecb2a4\",\"type\":\"PanTool\"},{\"attributes\":{},\"id\":\"3d88d0e7-ed0d-4541-873a-c6c75c3eaba1\",\"type\":\"BasicTickFormatter\"},{\"attributes\":{},\"id\":\"17128366-315f-45b7-b95e-dfb4ebe74d9b\",\"type\":\"WheelZoomTool\"},{\"attributes\":{\"overlay\":{\"id\":\"4c4a3cb8-25e9-4372-b54c-5c488b4e4511\",\"type\":\"BoxAnnotation\"}},\"id\":\"0988ea82-cfd6-4334-ae18-610a333cdeea\",\"type\":\"BoxZoomTool\"},{\"attributes\":{},\"id\":\"80746427-d026-4ae4-b45a-c10f116c7757\",\"type\":\"SaveTool\"},{\"attributes\":{},\"id\":\"634200fa-d3ca-4327-af0c-42759e477431\",\"type\":\"ResetTool\"},{\"attributes\":{},\"id\":\"bc0edc36-0379-42c8-8712-61e0bcb040b8\",\"type\":\"HelpTool\"},{\"attributes\":{\"line_alpha\":0.1,\"line_color\":\"#1f77b4\",\"x\":{\"field\":\"x\"},\"y\":{\"field\":\"y\",\"transform\":{\"id\":\"dbbd0840-8146-45ed-ac62-95e2616d0c82\",\"type\":\"Dodge\"}}},\"id\":\"c91a56f2-d8a1-46c6-8a9c-d6b3a4108e5e\",\"type\":\"Line\"},{\"attributes\":{\"plot\":null,\"text\":\"\"},\"id\":\"c17f1243-33d3-47e5-8897-7f0709001183\",\"type\":\"Title\"},{\"attributes\":{\"line_color\":\"red\",\"x\":{\"field\":\"x\"},\"y\":{\"field\":\"y\",\"transform\":{\"id\":\"dbbd0840-8146-45ed-ac62-95e2616d0c82\",\"type\":\"Dodge\"}}},\"id\":\"2017e5a6-4320-4e26-b5d1-1dc80d8f424e\",\"type\":\"Line\"}],\"root_ids\":[\"84d3f751-6991-4f42-a443-449c2ce7e288\"]},\"title\":\"Bokeh Application\",\"version\":\"0.12.15\"}};\n",
       "  var render_items = [{\"docid\":\"84bcbe87-e883-466c-ac89-6970d28489c0\",\"elementid\":\"3e111a7e-53dc-43ae-94e3-9a46cb6f34da\",\"modelid\":\"84d3f751-6991-4f42-a443-449c2ce7e288\"}];\n",
       "  root.Bokeh.embed.embed_items_notebook(docs_json, render_items);\n",
       "\n",
       "  }\n",
       "  if (root.Bokeh !== undefined) {\n",
       "    embed_document(root);\n",
       "  } else {\n",
       "    var attempts = 0;\n",
       "    var timer = setInterval(function(root) {\n",
       "      if (root.Bokeh !== undefined) {\n",
       "        embed_document(root);\n",
       "        clearInterval(timer);\n",
       "      }\n",
       "      attempts++;\n",
       "      if (attempts > 100) {\n",
       "        console.log(\"Bokeh: ERROR: Unable to run BokehJS code because BokehJS library is missing\")\n",
       "        clearInterval(timer);\n",
       "      }\n",
       "    }, 10, root)\n",
       "  }\n",
       "})(window);"
      ],
      "application/vnd.bokehjs_exec.v0+json": ""
     },
     "metadata": {
      "application/vnd.bokehjs_exec.v0+json": {
       "id": "84d3f751-6991-4f42-a443-449c2ce7e288"
      }
     },
     "output_type": "display_data"
    }
   ],
   "source": [
    "from bokeh.transform import dodge\n",
    "x = np.linspace(0, 2*np.pi, 100)\n",
    "y = np.sin(x)\n",
    "source = ColumnDataSource(data=dict(x=x, y=y))\n",
    "fig = figure(plot_width=400, plot_height=250)\n",
    "line1 = fig.line(\"x\", \"y\", source=source)\n",
    "line2 = fig.line(\"x\", dodge(\"y\", 1), color=\"red\", source=source)\n",
    "show(fig)"
   ]
  },
  {
   "cell_type": "markdown",
   "metadata": {},
   "source": [
    "曲线对应的数据在Bokeh内部是使用一个字典描述的。其`'field'`属性指定数据在`ColumnDataSource`中对应的列名，而`'transform'`则指定对该列进行的运算。"
   ]
  },
  {
   "cell_type": "code",
   "execution_count": 4,
   "metadata": {},
   "outputs": [
    {
     "name": "stdout",
     "output_type": "stream",
     "text": [
      "{'field': 'x'} {'field': 'y', 'transform': Dodge(id='dbbd0840-8146-45ed-ac62-95e2616d0c82', ...)}\n"
     ]
    }
   ],
   "source": [
    "props = line2.glyph.properties_with_values()\n",
    "print(props[\"x\"], props[\"y\"])"
   ]
  },
  {
   "cell_type": "markdown",
   "metadata": {},
   "source": [
    "`jitter()`对数据叠加上指定大小的随机噪声，在绘制精度有限的散列图使用它能更好地显示数据的分布情况。"
   ]
  },
  {
   "cell_type": "code",
   "execution_count": 5,
   "metadata": {},
   "outputs": [
    {
     "data": {
      "text/html": [
       "\n",
       "<div class=\"bk-root\">\n",
       "    <div class=\"bk-plotdiv\" id=\"c7149194-2a7f-4640-b2a0-be60c1719283\"></div>\n",
       "</div>"
      ]
     },
     "metadata": {},
     "output_type": "display_data"
    },
    {
     "data": {
      "application/javascript": [
       "(function(root) {\n",
       "  function embed_document(root) {\n",
       "    \n",
       "  var docs_json = {\"af18e4c6-736a-42c2-b356-3968e63e1e85\":{\"roots\":{\"references\":[{\"attributes\":{\"formatter\":{\"id\":\"5eb55aae-a936-4fa8-8170-3bfd378e3e32\",\"type\":\"BasicTickFormatter\"},\"plot\":{\"id\":\"465440a9-0f3a-4378-9cb5-079b6431b49b\",\"subtype\":\"Figure\",\"type\":\"Plot\"},\"ticker\":{\"id\":\"293aa69a-8f2f-4f90-8b6a-53f62ea70db4\",\"type\":\"BasicTicker\"}},\"id\":\"584fa034-c77e-4703-a9dc-a4db8545f60a\",\"type\":\"LinearAxis\"},{\"attributes\":{\"below\":[{\"id\":\"db97c265-8bf9-4bfc-a3ef-20b8276105b3\",\"type\":\"LinearAxis\"}],\"left\":[{\"id\":\"8138bf07-d351-4858-8058-e523a56b90a2\",\"type\":\"LinearAxis\"}],\"plot_height\":250,\"plot_width\":250,\"renderers\":[{\"id\":\"db97c265-8bf9-4bfc-a3ef-20b8276105b3\",\"type\":\"LinearAxis\"},{\"id\":\"cc61e7fa-286b-4b17-8d7d-bcb0afa5ec12\",\"type\":\"Grid\"},{\"id\":\"8138bf07-d351-4858-8058-e523a56b90a2\",\"type\":\"LinearAxis\"},{\"id\":\"f49b8aac-b961-49c8-b5ce-001912e29b2d\",\"type\":\"Grid\"},{\"id\":\"b13a2946-fb3a-49c7-b79c-942bde805ffe\",\"type\":\"BoxAnnotation\"},{\"id\":\"d0ce2319-aece-48b4-ae51-8def1ce183e7\",\"type\":\"GlyphRenderer\"}],\"title\":{\"id\":\"abd406b2-1684-43c1-90b7-d526726c9ebf\",\"type\":\"Title\"},\"toolbar\":{\"id\":\"a75b681b-6f0a-4a03-afb6-79b143efe470\",\"type\":\"Toolbar\"},\"x_range\":{\"id\":\"ccd1f432-fa80-480e-b65e-5223fafdc0be\",\"type\":\"DataRange1d\"},\"x_scale\":{\"id\":\"689642a7-a57e-4da1-abca-8b3028e6726f\",\"type\":\"LinearScale\"},\"y_range\":{\"id\":\"0619998d-f50b-4787-af33-609d0d56d400\",\"type\":\"DataRange1d\"},\"y_scale\":{\"id\":\"c9decf27-ade3-4eb0-8851-33723eba2ed2\",\"type\":\"LinearScale\"}},\"id\":\"0643b0ca-6c19-4748-abd8-1a0feffeae0d\",\"subtype\":\"Figure\",\"type\":\"Plot\"},{\"attributes\":{\"plot\":{\"id\":\"465440a9-0f3a-4378-9cb5-079b6431b49b\",\"subtype\":\"Figure\",\"type\":\"Plot\"},\"ticker\":{\"id\":\"293aa69a-8f2f-4f90-8b6a-53f62ea70db4\",\"type\":\"BasicTicker\"}},\"id\":\"5c832810-2b47-4f92-ba62-b0d96329e9e0\",\"type\":\"Grid\"},{\"attributes\":{},\"id\":\"326de34c-397d-4c7c-9312-a4560ce43952\",\"type\":\"BasicTicker\"},{\"attributes\":{\"formatter\":{\"id\":\"501108c9-c230-4cbe-bf02-6b617030c3ad\",\"type\":\"BasicTickFormatter\"},\"plot\":{\"id\":\"465440a9-0f3a-4378-9cb5-079b6431b49b\",\"subtype\":\"Figure\",\"type\":\"Plot\"},\"ticker\":{\"id\":\"326de34c-397d-4c7c-9312-a4560ce43952\",\"type\":\"BasicTicker\"}},\"id\":\"c4008965-94e3-4732-bb46-54300270789f\",\"type\":\"LinearAxis\"},{\"attributes\":{\"bottom_units\":\"screen\",\"fill_alpha\":{\"value\":0.5},\"fill_color\":{\"value\":\"lightgrey\"},\"left_units\":\"screen\",\"level\":\"overlay\",\"line_alpha\":{\"value\":1.0},\"line_color\":{\"value\":\"black\"},\"line_dash\":[4,4],\"line_width\":{\"value\":2},\"plot\":null,\"render_mode\":\"css\",\"right_units\":\"screen\",\"top_units\":\"screen\"},\"id\":\"3398aa6f-7bdb-4096-a10d-c92519b44c37\",\"type\":\"BoxAnnotation\"},{\"attributes\":{},\"id\":\"3b77172c-cafb-4844-8897-16f9e55a766b\",\"type\":\"HelpTool\"},{\"attributes\":{\"plot\":null,\"text\":\"\"},\"id\":\"abd406b2-1684-43c1-90b7-d526726c9ebf\",\"type\":\"Title\"},{\"attributes\":{\"fill_alpha\":{\"value\":0.3},\"fill_color\":{\"value\":\"#1f77b4\"},\"line_alpha\":{\"value\":0.3},\"line_color\":{\"value\":\"#1f77b4\"},\"x\":{\"field\":\"x\"},\"y\":{\"field\":\"y\"}},\"id\":\"2d3832bf-1812-460b-8af8-ef8019a78500\",\"type\":\"Circle\"},{\"attributes\":{},\"id\":\"872f7699-9bbe-4612-a6d5-f6b0d71fcce5\",\"type\":\"WheelZoomTool\"},{\"attributes\":{\"data_source\":{\"id\":\"3c39c25c-b54e-4616-aabd-79dc66a07c92\",\"type\":\"ColumnDataSource\"},\"glyph\":{\"id\":\"2d3832bf-1812-460b-8af8-ef8019a78500\",\"type\":\"Circle\"},\"hover_glyph\":null,\"muted_glyph\":null,\"nonselection_glyph\":{\"id\":\"b2b846a8-530c-46b9-9e3c-a292e984cca0\",\"type\":\"Circle\"},\"selection_glyph\":null,\"view\":{\"id\":\"aadf2f7d-d771-477c-b470-a9a44ce4aee5\",\"type\":\"CDSView\"}},\"id\":\"c1e56b8b-3dcb-40f7-bc60-f2deb27d6771\",\"type\":\"GlyphRenderer\"},{\"attributes\":{},\"id\":\"6e211a5b-ed2a-430c-8202-26ff2acf3e2c\",\"type\":\"ResetTool\"},{\"attributes\":{\"dimension\":1,\"plot\":{\"id\":\"465440a9-0f3a-4378-9cb5-079b6431b49b\",\"subtype\":\"Figure\",\"type\":\"Plot\"},\"ticker\":{\"id\":\"326de34c-397d-4c7c-9312-a4560ce43952\",\"type\":\"BasicTicker\"}},\"id\":\"99b6de92-a5e6-4a37-8af1-df579f502718\",\"type\":\"Grid\"},{\"attributes\":{},\"id\":\"f096ab2f-6e2e-4066-b325-ba6aa21265cc\",\"type\":\"PanTool\"},{\"attributes\":{},\"id\":\"7f34cfcf-9938-4ff4-b75d-6777543dc9c7\",\"type\":\"ResetTool\"},{\"attributes\":{},\"id\":\"3d509356-0585-406f-8c6d-9b018a1c6c86\",\"type\":\"SaveTool\"},{\"attributes\":{\"callback\":null},\"id\":\"ccd1f432-fa80-480e-b65e-5223fafdc0be\",\"type\":\"DataRange1d\"},{\"attributes\":{},\"id\":\"0f09f79f-d48d-4944-b399-a5f4e87c2e07\",\"type\":\"HelpTool\"},{\"attributes\":{},\"id\":\"d646e154-6394-455c-b1f4-324288441688\",\"type\":\"WheelZoomTool\"},{\"attributes\":{\"fill_alpha\":{\"value\":0.1},\"fill_color\":{\"value\":\"#1f77b4\"},\"line_alpha\":{\"value\":0.1},\"line_color\":{\"value\":\"#1f77b4\"},\"x\":{\"field\":\"x\"},\"y\":{\"field\":\"y\"}},\"id\":\"b2b846a8-530c-46b9-9e3c-a292e984cca0\",\"type\":\"Circle\"},{\"attributes\":{\"overlay\":{\"id\":\"3398aa6f-7bdb-4096-a10d-c92519b44c37\",\"type\":\"BoxAnnotation\"}},\"id\":\"a611892d-99f7-46cf-9476-20c9122c0371\",\"type\":\"BoxZoomTool\"},{\"attributes\":{\"range\":null,\"width\":0.1},\"id\":\"9211a1da-57c4-47e5-ac8b-8fc8b3e71b45\",\"type\":\"Jitter\"},{\"attributes\":{\"plot\":{\"id\":\"0643b0ca-6c19-4748-abd8-1a0feffeae0d\",\"subtype\":\"Figure\",\"type\":\"Plot\"},\"ticker\":{\"id\":\"deffee1c-a1df-4b1f-bb7e-9b54370c2410\",\"type\":\"BasicTicker\"}},\"id\":\"cc61e7fa-286b-4b17-8d7d-bcb0afa5ec12\",\"type\":\"Grid\"},{\"attributes\":{\"data_source\":{\"id\":\"3c39c25c-b54e-4616-aabd-79dc66a07c92\",\"type\":\"ColumnDataSource\"},\"glyph\":{\"id\":\"116b615e-22a1-45f5-8c0b-1c462be23f5c\",\"type\":\"Circle\"},\"hover_glyph\":null,\"muted_glyph\":null,\"nonselection_glyph\":{\"id\":\"2743b8e4-0e43-4ac3-9c21-eaea8e28b532\",\"type\":\"Circle\"},\"selection_glyph\":null,\"view\":{\"id\":\"161e9552-907f-4932-be5f-a64bd74f54f9\",\"type\":\"CDSView\"}},\"id\":\"d0ce2319-aece-48b4-ae51-8def1ce183e7\",\"type\":\"GlyphRenderer\"},{\"attributes\":{},\"id\":\"c9decf27-ade3-4eb0-8851-33723eba2ed2\",\"type\":\"LinearScale\"},{\"attributes\":{\"active_drag\":\"auto\",\"active_inspect\":\"auto\",\"active_scroll\":\"auto\",\"active_tap\":\"auto\",\"tools\":[{\"id\":\"28b21fe6-37c6-4748-919f-58365cf7a235\",\"type\":\"PanTool\"},{\"id\":\"d646e154-6394-455c-b1f4-324288441688\",\"type\":\"WheelZoomTool\"},{\"id\":\"c244fe30-8f7a-44c7-9c67-f4542d5499c0\",\"type\":\"BoxZoomTool\"},{\"id\":\"7b39742f-f34a-4a26-bece-c7def9247571\",\"type\":\"SaveTool\"},{\"id\":\"6e211a5b-ed2a-430c-8202-26ff2acf3e2c\",\"type\":\"ResetTool\"},{\"id\":\"3b77172c-cafb-4844-8897-16f9e55a766b\",\"type\":\"HelpTool\"}]},\"id\":\"a75b681b-6f0a-4a03-afb6-79b143efe470\",\"type\":\"Toolbar\"},{\"attributes\":{},\"id\":\"deffee1c-a1df-4b1f-bb7e-9b54370c2410\",\"type\":\"BasicTicker\"},{\"attributes\":{\"callback\":null},\"id\":\"0619998d-f50b-4787-af33-609d0d56d400\",\"type\":\"DataRange1d\"},{\"attributes\":{\"below\":[{\"id\":\"584fa034-c77e-4703-a9dc-a4db8545f60a\",\"type\":\"LinearAxis\"}],\"left\":[{\"id\":\"c4008965-94e3-4732-bb46-54300270789f\",\"type\":\"LinearAxis\"}],\"plot_height\":250,\"plot_width\":250,\"renderers\":[{\"id\":\"584fa034-c77e-4703-a9dc-a4db8545f60a\",\"type\":\"LinearAxis\"},{\"id\":\"5c832810-2b47-4f92-ba62-b0d96329e9e0\",\"type\":\"Grid\"},{\"id\":\"c4008965-94e3-4732-bb46-54300270789f\",\"type\":\"LinearAxis\"},{\"id\":\"99b6de92-a5e6-4a37-8af1-df579f502718\",\"type\":\"Grid\"},{\"id\":\"3398aa6f-7bdb-4096-a10d-c92519b44c37\",\"type\":\"BoxAnnotation\"},{\"id\":\"c1e56b8b-3dcb-40f7-bc60-f2deb27d6771\",\"type\":\"GlyphRenderer\"}],\"title\":{\"id\":\"f2d7c40b-506d-4e77-aa43-4421d2c4f126\",\"type\":\"Title\"},\"toolbar\":{\"id\":\"272649a4-b54b-4a70-912e-432afd372118\",\"type\":\"Toolbar\"},\"x_range\":{\"id\":\"900cd0d1-5f2a-4d37-9e48-125122f35a7e\",\"type\":\"DataRange1d\"},\"x_scale\":{\"id\":\"47c83640-1861-41e3-8239-fe25000a5369\",\"type\":\"LinearScale\"},\"y_range\":{\"id\":\"17528a07-ab20-4e3a-89e0-4a637fc152dd\",\"type\":\"DataRange1d\"},\"y_scale\":{\"id\":\"42be10c3-f65b-499d-b290-dc88773c81da\",\"type\":\"LinearScale\"}},\"id\":\"465440a9-0f3a-4378-9cb5-079b6431b49b\",\"subtype\":\"Figure\",\"type\":\"Plot\"},{\"attributes\":{\"formatter\":{\"id\":\"84ddebae-2ad6-4d50-b1cc-342dea1c989c\",\"type\":\"BasicTickFormatter\"},\"plot\":{\"id\":\"0643b0ca-6c19-4748-abd8-1a0feffeae0d\",\"subtype\":\"Figure\",\"type\":\"Plot\"},\"ticker\":{\"id\":\"deffee1c-a1df-4b1f-bb7e-9b54370c2410\",\"type\":\"BasicTicker\"}},\"id\":\"db97c265-8bf9-4bfc-a3ef-20b8276105b3\",\"type\":\"LinearAxis\"},{\"attributes\":{\"source\":{\"id\":\"3c39c25c-b54e-4616-aabd-79dc66a07c92\",\"type\":\"ColumnDataSource\"}},\"id\":\"aadf2f7d-d771-477c-b470-a9a44ce4aee5\",\"type\":\"CDSView\"},{\"attributes\":{\"plot\":null,\"text\":\"\"},\"id\":\"f2d7c40b-506d-4e77-aa43-4421d2c4f126\",\"type\":\"Title\"},{\"attributes\":{},\"id\":\"09f3be52-9f4e-44aa-a124-e81fda4250b8\",\"type\":\"BasicTicker\"},{\"attributes\":{},\"id\":\"5eb55aae-a936-4fa8-8170-3bfd378e3e32\",\"type\":\"BasicTickFormatter\"},{\"attributes\":{\"formatter\":{\"id\":\"906b6eca-54c9-4aef-aec8-c291586bde89\",\"type\":\"BasicTickFormatter\"},\"plot\":{\"id\":\"0643b0ca-6c19-4748-abd8-1a0feffeae0d\",\"subtype\":\"Figure\",\"type\":\"Plot\"},\"ticker\":{\"id\":\"09f3be52-9f4e-44aa-a124-e81fda4250b8\",\"type\":\"BasicTicker\"}},\"id\":\"8138bf07-d351-4858-8058-e523a56b90a2\",\"type\":\"LinearAxis\"},{\"attributes\":{\"range\":null,\"width\":0.1},\"id\":\"ad5435b1-c65b-4493-ab6e-780844286d19\",\"type\":\"Jitter\"},{\"attributes\":{\"callback\":null,\"column_names\":[\"x\",\"y\"],\"data\":{\"x\":{\"__ndarray__\":\"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\",\"dtype\":\"float64\",\"shape\":[500]},\"y\":{\"__ndarray__\":\"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\",\"dtype\":\"float64\",\"shape\":[500]}},\"selected\":null,\"selection_policy\":null},\"id\":\"3c39c25c-b54e-4616-aabd-79dc66a07c92\",\"type\":\"ColumnDataSource\"},{\"attributes\":{},\"id\":\"689642a7-a57e-4da1-abca-8b3028e6726f\",\"type\":\"LinearScale\"},{\"attributes\":{},\"id\":\"906b6eca-54c9-4aef-aec8-c291586bde89\",\"type\":\"BasicTickFormatter\"},{\"attributes\":{\"fill_alpha\":{\"value\":0.3},\"fill_color\":{\"value\":\"#1f77b4\"},\"line_alpha\":{\"value\":0.3},\"line_color\":{\"value\":\"#1f77b4\"},\"x\":{\"field\":\"x\",\"transform\":{\"id\":\"ad5435b1-c65b-4493-ab6e-780844286d19\",\"type\":\"Jitter\"}},\"y\":{\"field\":\"y\",\"transform\":{\"id\":\"9211a1da-57c4-47e5-ac8b-8fc8b3e71b45\",\"type\":\"Jitter\"}}},\"id\":\"116b615e-22a1-45f5-8c0b-1c462be23f5c\",\"type\":\"Circle\"},{\"attributes\":{},\"id\":\"42be10c3-f65b-499d-b290-dc88773c81da\",\"type\":\"LinearScale\"},{\"attributes\":{},\"id\":\"28b21fe6-37c6-4748-919f-58365cf7a235\",\"type\":\"PanTool\"},{\"attributes\":{},\"id\":\"47c83640-1861-41e3-8239-fe25000a5369\",\"type\":\"LinearScale\"},{\"attributes\":{\"bottom_units\":\"screen\",\"fill_alpha\":{\"value\":0.5},\"fill_color\":{\"value\":\"lightgrey\"},\"left_units\":\"screen\",\"level\":\"overlay\",\"line_alpha\":{\"value\":1.0},\"line_color\":{\"value\":\"black\"},\"line_dash\":[4,4],\"line_width\":{\"value\":2},\"plot\":null,\"render_mode\":\"css\",\"right_units\":\"screen\",\"top_units\":\"screen\"},\"id\":\"b13a2946-fb3a-49c7-b79c-942bde805ffe\",\"type\":\"BoxAnnotation\"},{\"attributes\":{\"callback\":null},\"id\":\"17528a07-ab20-4e3a-89e0-4a637fc152dd\",\"type\":\"DataRange1d\"},{\"attributes\":{\"source\":{\"id\":\"3c39c25c-b54e-4616-aabd-79dc66a07c92\",\"type\":\"ColumnDataSource\"}},\"id\":\"161e9552-907f-4932-be5f-a64bd74f54f9\",\"type\":\"CDSView\"},{\"attributes\":{\"fill_alpha\":{\"value\":0.1},\"fill_color\":{\"value\":\"#1f77b4\"},\"line_alpha\":{\"value\":0.1},\"line_color\":{\"value\":\"#1f77b4\"},\"x\":{\"field\":\"x\",\"transform\":{\"id\":\"ad5435b1-c65b-4493-ab6e-780844286d19\",\"type\":\"Jitter\"}},\"y\":{\"field\":\"y\",\"transform\":{\"id\":\"9211a1da-57c4-47e5-ac8b-8fc8b3e71b45\",\"type\":\"Jitter\"}}},\"id\":\"2743b8e4-0e43-4ac3-9c21-eaea8e28b532\",\"type\":\"Circle\"},{\"attributes\":{},\"id\":\"84ddebae-2ad6-4d50-b1cc-342dea1c989c\",\"type\":\"BasicTickFormatter\"},{\"attributes\":{\"callback\":null},\"id\":\"900cd0d1-5f2a-4d37-9e48-125122f35a7e\",\"type\":\"DataRange1d\"},{\"attributes\":{\"children\":[{\"id\":\"465440a9-0f3a-4378-9cb5-079b6431b49b\",\"subtype\":\"Figure\",\"type\":\"Plot\"},{\"id\":\"0643b0ca-6c19-4748-abd8-1a0feffeae0d\",\"subtype\":\"Figure\",\"type\":\"Plot\"}]},\"id\":\"730e8452-219a-4927-a9de-6711ef13d4c0\",\"type\":\"Row\"},{\"attributes\":{\"dimension\":1,\"plot\":{\"id\":\"0643b0ca-6c19-4748-abd8-1a0feffeae0d\",\"subtype\":\"Figure\",\"type\":\"Plot\"},\"ticker\":{\"id\":\"09f3be52-9f4e-44aa-a124-e81fda4250b8\",\"type\":\"BasicTicker\"}},\"id\":\"f49b8aac-b961-49c8-b5ce-001912e29b2d\",\"type\":\"Grid\"},{\"attributes\":{\"active_drag\":\"auto\",\"active_inspect\":\"auto\",\"active_scroll\":\"auto\",\"active_tap\":\"auto\",\"tools\":[{\"id\":\"f096ab2f-6e2e-4066-b325-ba6aa21265cc\",\"type\":\"PanTool\"},{\"id\":\"872f7699-9bbe-4612-a6d5-f6b0d71fcce5\",\"type\":\"WheelZoomTool\"},{\"id\":\"a611892d-99f7-46cf-9476-20c9122c0371\",\"type\":\"BoxZoomTool\"},{\"id\":\"3d509356-0585-406f-8c6d-9b018a1c6c86\",\"type\":\"SaveTool\"},{\"id\":\"7f34cfcf-9938-4ff4-b75d-6777543dc9c7\",\"type\":\"ResetTool\"},{\"id\":\"0f09f79f-d48d-4944-b399-a5f4e87c2e07\",\"type\":\"HelpTool\"}]},\"id\":\"272649a4-b54b-4a70-912e-432afd372118\",\"type\":\"Toolbar\"},{\"attributes\":{\"overlay\":{\"id\":\"b13a2946-fb3a-49c7-b79c-942bde805ffe\",\"type\":\"BoxAnnotation\"}},\"id\":\"c244fe30-8f7a-44c7-9c67-f4542d5499c0\",\"type\":\"BoxZoomTool\"},{\"attributes\":{},\"id\":\"501108c9-c230-4cbe-bf02-6b617030c3ad\",\"type\":\"BasicTickFormatter\"},{\"attributes\":{},\"id\":\"7b39742f-f34a-4a26-bece-c7def9247571\",\"type\":\"SaveTool\"},{\"attributes\":{},\"id\":\"293aa69a-8f2f-4f90-8b6a-53f62ea70db4\",\"type\":\"BasicTicker\"}],\"root_ids\":[\"730e8452-219a-4927-a9de-6711ef13d4c0\"]},\"title\":\"Bokeh Application\",\"version\":\"0.12.15\"}};\n",
       "  var render_items = [{\"docid\":\"af18e4c6-736a-42c2-b356-3968e63e1e85\",\"elementid\":\"c7149194-2a7f-4640-b2a0-be60c1719283\",\"modelid\":\"730e8452-219a-4927-a9de-6711ef13d4c0\"}];\n",
       "  root.Bokeh.embed.embed_items_notebook(docs_json, render_items);\n",
       "\n",
       "  }\n",
       "  if (root.Bokeh !== undefined) {\n",
       "    embed_document(root);\n",
       "  } else {\n",
       "    var attempts = 0;\n",
       "    var timer = setInterval(function(root) {\n",
       "      if (root.Bokeh !== undefined) {\n",
       "        embed_document(root);\n",
       "        clearInterval(timer);\n",
       "      }\n",
       "      attempts++;\n",
       "      if (attempts > 100) {\n",
       "        console.log(\"Bokeh: ERROR: Unable to run BokehJS code because BokehJS library is missing\")\n",
       "        clearInterval(timer);\n",
       "      }\n",
       "    }, 10, root)\n",
       "  }\n",
       "})(window);"
      ],
      "application/vnd.bokehjs_exec.v0+json": ""
     },
     "metadata": {
      "application/vnd.bokehjs_exec.v0+json": {
       "id": "730e8452-219a-4927-a9de-6711ef13d4c0"
      }
     },
     "output_type": "display_data"
    }
   ],
   "source": [
    "from bokeh.transform import jitter\n",
    "x, y = np.round(np.random.normal(scale=0.2, size=(2, 500)), 1)\n",
    "source = ColumnDataSource(data=dict(x=x, y=y))\n",
    "fig1 = figure(plot_width=250, plot_height=250)\n",
    "fig1.circle(\"x\", \"y\", source=source, alpha=0.3)\n",
    "fig2 = figure(plot_width=250, plot_height=250)\n",
    "fig2.circle(jitter(\"x\", 0.1), jitter(\"y\", 0.1), source=source, alpha=0.3)\n",
    "show(row(fig1, fig2))"
   ]
  },
  {
   "cell_type": "markdown",
   "metadata": {},
   "source": [
    "颜色映射表也是通过`transform`模块中提供的各种数值颜色转换函数实现的。例如下面使用`linear_cmap()`将`z`列数据转换为颜色，调色板采用256色的`Viridis`。"
   ]
  },
  {
   "cell_type": "code",
   "execution_count": 6,
   "metadata": {},
   "outputs": [
    {
     "data": {
      "text/html": [
       "\n",
       "<div class=\"bk-root\">\n",
       "    <div class=\"bk-plotdiv\" id=\"a00c7f4c-eb50-4fbf-884d-64c944c08130\"></div>\n",
       "</div>"
      ]
     },
     "metadata": {},
     "output_type": "display_data"
    },
    {
     "data": {
      "application/javascript": [
       "(function(root) {\n",
       "  function embed_document(root) {\n",
       "    \n",
       "  var docs_json = {\"6ec21841-0c2f-4ee8-b50e-d6042aae10f2\":{\"roots\":{\"references\":[{\"attributes\":{\"dimension\":1,\"plot\":{\"id\":\"d7324629-6ca0-496d-abc0-0606c259e465\",\"subtype\":\"Figure\",\"type\":\"Plot\"},\"ticker\":{\"id\":\"014e72b9-87cd-4874-9d9f-e329f3585926\",\"type\":\"BasicTicker\"}},\"id\":\"2751c5e5-fb02-4ef6-9282-bc5f22e6c3cf\",\"type\":\"Grid\"},{\"attributes\":{\"plot\":{\"id\":\"d7324629-6ca0-496d-abc0-0606c259e465\",\"subtype\":\"Figure\",\"type\":\"Plot\"},\"ticker\":{\"id\":\"74d174d2-2c1d-4df1-9a77-f0b5e6089997\",\"type\":\"BasicTicker\"}},\"id\":\"f507dd72-271d-4362-9a8c-71c69a5bbe69\",\"type\":\"Grid\"},{\"attributes\":{},\"id\":\"984f8165-f87c-4010-948d-13ffc305e33e\",\"type\":\"BasicTickFormatter\"},{\"attributes\":{},\"id\":\"d2e19d37-91bf-4f81-91c1-5b2722b727ae\",\"type\":\"BasicTickFormatter\"},{\"attributes\":{\"color_mapper\":{\"id\":\"e518f57e-c3e2-4a2d-bd3a-e8072aeb8d67\",\"type\":\"LinearColorMapper\"},\"formatter\":{\"id\":\"d2e19d37-91bf-4f81-91c1-5b2722b727ae\",\"type\":\"BasicTickFormatter\"},\"label_standoff\":12,\"location\":[0,0],\"plot\":{\"id\":\"d7324629-6ca0-496d-abc0-0606c259e465\",\"subtype\":\"Figure\",\"type\":\"Plot\"},\"ticker\":{\"id\":\"0561074a-513e-4d3f-aabd-9c9fbf3c5077\",\"type\":\"BasicTicker\"}},\"id\":\"aecf64cb-cb14-434c-9c25-39663e060e55\",\"type\":\"ColorBar\"},{\"attributes\":{},\"id\":\"16561396-ec33-4d66-8ce0-a84a8f503b8d\",\"type\":\"HelpTool\"},{\"attributes\":{\"plot\":null,\"text\":\"\"},\"id\":\"61f4c01e-0596-49ba-b4eb-47572a552061\",\"type\":\"Title\"},{\"attributes\":{},\"id\":\"0561074a-513e-4d3f-aabd-9c9fbf3c5077\",\"type\":\"BasicTicker\"},{\"attributes\":{\"fill_alpha\":{\"value\":0.1},\"fill_color\":{\"value\":\"#1f77b4\"},\"line_alpha\":{\"value\":0.1},\"line_color\":{\"value\":\"#1f77b4\"},\"size\":{\"units\":\"screen\",\"value\":6},\"x\":{\"field\":\"x\"},\"y\":{\"field\":\"y\"}},\"id\":\"8594f1bb-b422-4876-9c98-9f14d8dfda88\",\"type\":\"Circle\"},{\"attributes\":{\"fill_color\":{\"field\":\"z\",\"transform\":{\"id\":\"e518f57e-c3e2-4a2d-bd3a-e8072aeb8d67\",\"type\":\"LinearColorMapper\"}},\"line_color\":{\"value\":null},\"size\":{\"units\":\"screen\",\"value\":6},\"x\":{\"field\":\"x\"},\"y\":{\"field\":\"y\"}},\"id\":\"2a886619-56a2-457f-8ec7-384cd169433a\",\"type\":\"Circle\"},{\"attributes\":{\"below\":[{\"id\":\"be4777ce-c7eb-4aaa-98a6-cd76377af814\",\"type\":\"LinearAxis\"}],\"left\":[{\"id\":\"2a3ea9a4-4ab3-48e9-b4c3-25c5e0112922\",\"type\":\"LinearAxis\"}],\"plot_height\":300,\"plot_width\":400,\"renderers\":[{\"id\":\"be4777ce-c7eb-4aaa-98a6-cd76377af814\",\"type\":\"LinearAxis\"},{\"id\":\"f507dd72-271d-4362-9a8c-71c69a5bbe69\",\"type\":\"Grid\"},{\"id\":\"2a3ea9a4-4ab3-48e9-b4c3-25c5e0112922\",\"type\":\"LinearAxis\"},{\"id\":\"2751c5e5-fb02-4ef6-9282-bc5f22e6c3cf\",\"type\":\"Grid\"},{\"id\":\"c0ec829c-3745-4a30-b045-ff95249fcfb6\",\"type\":\"BoxAnnotation\"},{\"id\":\"779644fe-8add-4ab5-abcd-43eeda3b2249\",\"type\":\"GlyphRenderer\"},{\"id\":\"aecf64cb-cb14-434c-9c25-39663e060e55\",\"type\":\"ColorBar\"}],\"right\":[{\"id\":\"aecf64cb-cb14-434c-9c25-39663e060e55\",\"type\":\"ColorBar\"}],\"title\":{\"id\":\"61f4c01e-0596-49ba-b4eb-47572a552061\",\"type\":\"Title\"},\"toolbar\":{\"id\":\"95a88282-a2b0-4b6b-97f8-d6955be476c2\",\"type\":\"Toolbar\"},\"x_range\":{\"id\":\"59ef0f1e-23e6-4bc8-b4f1-9d5bde435e11\",\"type\":\"DataRange1d\"},\"x_scale\":{\"id\":\"4e03f907-9c97-45b7-ace6-651da636e1ac\",\"type\":\"LinearScale\"},\"y_range\":{\"id\":\"1f64811c-c1b7-4186-897d-a5afdfa6f40c\",\"type\":\"DataRange1d\"},\"y_scale\":{\"id\":\"79e5f7d5-785b-49a6-8745-73aaf0a88ed3\",\"type\":\"LinearScale\"}},\"id\":\"d7324629-6ca0-496d-abc0-0606c259e465\",\"subtype\":\"Figure\",\"type\":\"Plot\"},{\"attributes\":{\"overlay\":{\"id\":\"c0ec829c-3745-4a30-b045-ff95249fcfb6\",\"type\":\"BoxAnnotation\"}},\"id\":\"2b2da481-5356-4d29-84ac-09029729aa19\",\"type\":\"BoxZoomTool\"},{\"attributes\":{},\"id\":\"4ab674a3-ed1d-4033-91e7-9060332d5e7e\",\"type\":\"ResetTool\"},{\"attributes\":{},\"id\":\"cb953db6-c560-4e49-bde6-c36fb43e1a00\",\"type\":\"PanTool\"},{\"attributes\":{},\"id\":\"4e03f907-9c97-45b7-ace6-651da636e1ac\",\"type\":\"LinearScale\"},{\"attributes\":{\"callback\":null},\"id\":\"59ef0f1e-23e6-4bc8-b4f1-9d5bde435e11\",\"type\":\"DataRange1d\"},{\"attributes\":{\"formatter\":{\"id\":\"984f8165-f87c-4010-948d-13ffc305e33e\",\"type\":\"BasicTickFormatter\"},\"plot\":{\"id\":\"d7324629-6ca0-496d-abc0-0606c259e465\",\"subtype\":\"Figure\",\"type\":\"Plot\"},\"ticker\":{\"id\":\"74d174d2-2c1d-4df1-9a77-f0b5e6089997\",\"type\":\"BasicTicker\"}},\"id\":\"be4777ce-c7eb-4aaa-98a6-cd76377af814\",\"type\":\"LinearAxis\"},{\"attributes\":{},\"id\":\"cee3a557-6505-41f5-9b0e-0a23017bbeac\",\"type\":\"WheelZoomTool\"},{\"attributes\":{\"source\":{\"id\":\"4005cbf2-2f8b-41d4-9d44-a359ef5565fe\",\"type\":\"ColumnDataSource\"}},\"id\":\"86938e89-375c-4809-a0fa-216767a80114\",\"type\":\"CDSView\"},{\"attributes\":{\"active_drag\":\"auto\",\"active_inspect\":\"auto\",\"active_scroll\":\"auto\",\"active_tap\":\"auto\",\"tools\":[{\"id\":\"cb953db6-c560-4e49-bde6-c36fb43e1a00\",\"type\":\"PanTool\"},{\"id\":\"cee3a557-6505-41f5-9b0e-0a23017bbeac\",\"type\":\"WheelZoomTool\"},{\"id\":\"2b2da481-5356-4d29-84ac-09029729aa19\",\"type\":\"BoxZoomTool\"},{\"id\":\"a50ef061-cc8d-401a-85dd-a42fde154f1a\",\"type\":\"SaveTool\"},{\"id\":\"4ab674a3-ed1d-4033-91e7-9060332d5e7e\",\"type\":\"ResetTool\"},{\"id\":\"16561396-ec33-4d66-8ce0-a84a8f503b8d\",\"type\":\"HelpTool\"}]},\"id\":\"95a88282-a2b0-4b6b-97f8-d6955be476c2\",\"type\":\"Toolbar\"},{\"attributes\":{},\"id\":\"3f3a2363-518e-497e-aeb8-1557936de727\",\"type\":\"BasicTickFormatter\"},{\"attributes\":{},\"id\":\"74d174d2-2c1d-4df1-9a77-f0b5e6089997\",\"type\":\"BasicTicker\"},{\"attributes\":{\"high\":0.734580787496052,\"low\":0.024800410668892423,\"palette\":[\"#440154\",\"#440255\",\"#440357\",\"#450558\",\"#45065A\",\"#45085B\",\"#46095C\",\"#460B5E\",\"#460C5F\",\"#460E61\",\"#470F62\",\"#471163\",\"#471265\",\"#471466\",\"#471567\",\"#471669\",\"#47186A\",\"#48196B\",\"#481A6C\",\"#481C6E\",\"#481D6F\",\"#481E70\",\"#482071\",\"#482172\",\"#482273\",\"#482374\",\"#472575\",\"#472676\",\"#472777\",\"#472878\",\"#472A79\",\"#472B7A\",\"#472C7B\",\"#462D7C\",\"#462F7C\",\"#46307D\",\"#46317E\",\"#45327F\",\"#45347F\",\"#453580\",\"#453681\",\"#443781\",\"#443982\",\"#433A83\",\"#433B83\",\"#433C84\",\"#423D84\",\"#423E85\",\"#424085\",\"#414186\",\"#414286\",\"#404387\",\"#404487\",\"#3F4587\",\"#3F4788\",\"#3E4888\",\"#3E4989\",\"#3D4A89\",\"#3D4B89\",\"#3D4C89\",\"#3C4D8A\",\"#3C4E8A\",\"#3B508A\",\"#3B518A\",\"#3A528B\",\"#3A538B\",\"#39548B\",\"#39558B\",\"#38568B\",\"#38578C\",\"#37588C\",\"#37598C\",\"#365A8C\",\"#365B8C\",\"#355C8C\",\"#355D8C\",\"#345E8D\",\"#345F8D\",\"#33608D\",\"#33618D\",\"#32628D\",\"#32638D\",\"#31648D\",\"#31658D\",\"#31668D\",\"#30678D\",\"#30688D\",\"#2F698D\",\"#2F6A8D\",\"#2E6B8E\",\"#2E6C8E\",\"#2E6D8E\",\"#2D6E8E\",\"#2D6F8E\",\"#2C708E\",\"#2C718E\",\"#2C728E\",\"#2B738E\",\"#2B748E\",\"#2A758E\",\"#2A768E\",\"#2A778E\",\"#29788E\",\"#29798E\",\"#287A8E\",\"#287A8E\",\"#287B8E\",\"#277C8E\",\"#277D8E\",\"#277E8E\",\"#267F8E\",\"#26808E\",\"#26818E\",\"#25828E\",\"#25838D\",\"#24848D\",\"#24858D\",\"#24868D\",\"#23878D\",\"#23888D\",\"#23898D\",\"#22898D\",\"#228A8D\",\"#228B8D\",\"#218C8D\",\"#218D8C\",\"#218E8C\",\"#208F8C\",\"#20908C\",\"#20918C\",\"#1F928C\",\"#1F938B\",\"#1F948B\",\"#1F958B\",\"#1F968B\",\"#1E978A\",\"#1E988A\",\"#1E998A\",\"#1E998A\",\"#1E9A89\",\"#1E9B89\",\"#1E9C89\",\"#1E9D88\",\"#1E9E88\",\"#1E9F88\",\"#1EA087\",\"#1FA187\",\"#1FA286\",\"#1FA386\",\"#20A485\",\"#20A585\",\"#21A685\",\"#21A784\",\"#22A784\",\"#23A883\",\"#23A982\",\"#24AA82\",\"#25AB81\",\"#26AC81\",\"#27AD80\",\"#28AE7F\",\"#29AF7F\",\"#2AB07E\",\"#2BB17D\",\"#2CB17D\",\"#2EB27C\",\"#2FB37B\",\"#30B47A\",\"#32B57A\",\"#33B679\",\"#35B778\",\"#36B877\",\"#38B976\",\"#39B976\",\"#3BBA75\",\"#3DBB74\",\"#3EBC73\",\"#40BD72\",\"#42BE71\",\"#44BE70\",\"#45BF6F\",\"#47C06E\",\"#49C16D\",\"#4BC26C\",\"#4DC26B\",\"#4FC369\",\"#51C468\",\"#53C567\",\"#55C666\",\"#57C665\",\"#59C764\",\"#5BC862\",\"#5EC961\",\"#60C960\",\"#62CA5F\",\"#64CB5D\",\"#67CC5C\",\"#69CC5B\",\"#6BCD59\",\"#6DCE58\",\"#70CE56\",\"#72CF55\",\"#74D054\",\"#77D052\",\"#79D151\",\"#7CD24F\",\"#7ED24E\",\"#81D34C\",\"#83D34B\",\"#86D449\",\"#88D547\",\"#8BD546\",\"#8DD644\",\"#90D643\",\"#92D741\",\"#95D73F\",\"#97D83E\",\"#9AD83C\",\"#9DD93A\",\"#9FD938\",\"#A2DA37\",\"#A5DA35\",\"#A7DB33\",\"#AADB32\",\"#ADDC30\",\"#AFDC2E\",\"#B2DD2C\",\"#B5DD2B\",\"#B7DD29\",\"#BADE27\",\"#BDDE26\",\"#BFDF24\",\"#C2DF22\",\"#C5DF21\",\"#C7E01F\",\"#CAE01E\",\"#CDE01D\",\"#CFE11C\",\"#D2E11B\",\"#D4E11A\",\"#D7E219\",\"#DAE218\",\"#DCE218\",\"#DFE318\",\"#E1E318\",\"#E4E318\",\"#E7E419\",\"#E9E419\",\"#ECE41A\",\"#EEE51B\",\"#F1E51C\",\"#F3E51E\",\"#F6E61F\",\"#F8E621\",\"#FAE622\",\"#FDE724\"]},\"id\":\"e518f57e-c3e2-4a2d-bd3a-e8072aeb8d67\",\"type\":\"LinearColorMapper\"},{\"attributes\":{},\"id\":\"a50ef061-cc8d-401a-85dd-a42fde154f1a\",\"type\":\"SaveTool\"},{\"attributes\":{},\"id\":\"79e5f7d5-785b-49a6-8745-73aaf0a88ed3\",\"type\":\"LinearScale\"},{\"attributes\":{\"bottom_units\":\"screen\",\"fill_alpha\":{\"value\":0.5},\"fill_color\":{\"value\":\"lightgrey\"},\"left_units\":\"screen\",\"level\":\"overlay\",\"line_alpha\":{\"value\":1.0},\"line_color\":{\"value\":\"black\"},\"line_dash\":[4,4],\"line_width\":{\"value\":2},\"plot\":null,\"render_mode\":\"css\",\"right_units\":\"screen\",\"top_units\":\"screen\"},\"id\":\"c0ec829c-3745-4a30-b045-ff95249fcfb6\",\"type\":\"BoxAnnotation\"},{\"attributes\":{\"callback\":null,\"column_names\":[\"x\",\"y\",\"z\"],\"data\":{\"x\":{\"__ndarray__\":\"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\",\"dtype\":\"float64\",\"shape\":[500]},\"y\":{\"__ndarray__\":\"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\",\"dtype\":\"float64\",\"shape\":[500]},\"z\":{\"__ndarray__\":\"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\",\"dtype\":\"float64\",\"shape\":[500]}},\"selected\":null,\"selection_policy\":null},\"id\":\"4005cbf2-2f8b-41d4-9d44-a359ef5565fe\",\"type\":\"ColumnDataSource\"},{\"attributes\":{},\"id\":\"014e72b9-87cd-4874-9d9f-e329f3585926\",\"type\":\"BasicTicker\"},{\"attributes\":{\"formatter\":{\"id\":\"3f3a2363-518e-497e-aeb8-1557936de727\",\"type\":\"BasicTickFormatter\"},\"plot\":{\"id\":\"d7324629-6ca0-496d-abc0-0606c259e465\",\"subtype\":\"Figure\",\"type\":\"Plot\"},\"ticker\":{\"id\":\"014e72b9-87cd-4874-9d9f-e329f3585926\",\"type\":\"BasicTicker\"}},\"id\":\"2a3ea9a4-4ab3-48e9-b4c3-25c5e0112922\",\"type\":\"LinearAxis\"},{\"attributes\":{\"data_source\":{\"id\":\"4005cbf2-2f8b-41d4-9d44-a359ef5565fe\",\"type\":\"ColumnDataSource\"},\"glyph\":{\"id\":\"2a886619-56a2-457f-8ec7-384cd169433a\",\"type\":\"Circle\"},\"hover_glyph\":null,\"muted_glyph\":null,\"nonselection_glyph\":{\"id\":\"8594f1bb-b422-4876-9c98-9f14d8dfda88\",\"type\":\"Circle\"},\"selection_glyph\":null,\"view\":{\"id\":\"86938e89-375c-4809-a0fa-216767a80114\",\"type\":\"CDSView\"}},\"id\":\"779644fe-8add-4ab5-abcd-43eeda3b2249\",\"type\":\"GlyphRenderer\"},{\"attributes\":{\"callback\":null},\"id\":\"1f64811c-c1b7-4186-897d-a5afdfa6f40c\",\"type\":\"DataRange1d\"}],\"root_ids\":[\"d7324629-6ca0-496d-abc0-0606c259e465\"]},\"title\":\"Bokeh Application\",\"version\":\"0.12.15\"}};\n",
       "  var render_items = [{\"docid\":\"6ec21841-0c2f-4ee8-b50e-d6042aae10f2\",\"elementid\":\"a00c7f4c-eb50-4fbf-884d-64c944c08130\",\"modelid\":\"d7324629-6ca0-496d-abc0-0606c259e465\"}];\n",
       "  root.Bokeh.embed.embed_items_notebook(docs_json, render_items);\n",
       "\n",
       "  }\n",
       "  if (root.Bokeh !== undefined) {\n",
       "    embed_document(root);\n",
       "  } else {\n",
       "    var attempts = 0;\n",
       "    var timer = setInterval(function(root) {\n",
       "      if (root.Bokeh !== undefined) {\n",
       "        embed_document(root);\n",
       "        clearInterval(timer);\n",
       "      }\n",
       "      attempts++;\n",
       "      if (attempts > 100) {\n",
       "        console.log(\"Bokeh: ERROR: Unable to run BokehJS code because BokehJS library is missing\")\n",
       "        clearInterval(timer);\n",
       "      }\n",
       "    }, 10, root)\n",
       "  }\n",
       "})(window);"
      ],
      "application/vnd.bokehjs_exec.v0+json": ""
     },
     "metadata": {
      "application/vnd.bokehjs_exec.v0+json": {
       "id": "d7324629-6ca0-496d-abc0-0606c259e465"
      }
     },
     "output_type": "display_data"
    }
   ],
   "source": [
    "from bokeh.transform import linear_cmap\n",
    "from bokeh.models import ColorBar\n",
    "from bokeh.palettes import Viridis\n",
    "\n",
    "x, y = np.random.normal(scale=0.2, size=(2, 500))\n",
    "z = (x**2 + y**2)**0.5\n",
    "source = ColumnDataSource(data=dict(x=x, y=y, z=z))\n",
    "fig = figure(plot_width=400, plot_height=300)\n",
    "c = fig.circle(\"x\", \"y\", fill_color=linear_cmap(\"z\", Viridis[256], z.min(), z.max()), \n",
    "           line_color=None, source=source, alpha=1, size=6)\n",
    "colorbar = ColorBar(color_mapper=c.glyph.fill_color[\"transform\"], label_standoff=12, border_line_color=None, location=(0,0))\n",
    "fig.add_layout(colorbar, \"right\")\n",
    "show(fig)"
   ]
  },
  {
   "cell_type": "markdown",
   "metadata": {},
   "source": [
    "`fill_color`属性的`\"transform\"`是一个`LinearColorMapper`对象，上面的程序中将它传递给`ColorBar`的`color_mapper`属性，显示颜色条。"
   ]
  },
  {
   "cell_type": "code",
   "execution_count": 7,
   "metadata": {},
   "outputs": [
    {
     "data": {
      "text/plain": [
       "{'field': 'z',\n",
       " 'transform': LinearColorMapper(id='e518f57e-c3e2-4a2d-bd3a-e8072aeb8d67', ...)}"
      ]
     },
     "execution_count": 7,
     "metadata": {},
     "output_type": "execute_result"
    }
   ],
   "source": [
    "c.glyph.properties_with_values()[\"fill_color\"]"
   ]
  },
  {
   "cell_type": "markdown",
   "metadata": {},
   "source": [
    "`linear_cmap()`将连续的数值转换为颜色，而`factor_cmap()`将离散的值转换为颜色。通常这种离散的值由Pandas中的`DataFrame`的分类类型表示。分类类型的数据在`ColumnDataSource`中采用字符串表示，因此`factor_cmap()`还需要第三个参数指定分类字符串的列表，颜色与分类的对应关系由该列表中分类的顺序决定。"
   ]
  },
  {
   "cell_type": "code",
   "execution_count": 9,
   "metadata": {},
   "outputs": [
    {
     "data": {
      "text/html": [
       "\n",
       "<div class=\"bk-root\">\n",
       "    <div class=\"bk-plotdiv\" id=\"92fb1fcf-b404-4265-8a77-40c2c2e60224\"></div>\n",
       "</div>"
      ]
     },
     "metadata": {},
     "output_type": "display_data"
    },
    {
     "data": {
      "application/javascript": [
       "(function(root) {\n",
       "  function embed_document(root) {\n",
       "    \n",
       "  var docs_json = {\"c57d5ec7-0709-4865-a475-91c3117a0e64\":{\"roots\":{\"references\":[{\"attributes\":{\"data_source\":{\"id\":\"e4fa4750-a4b9-42d5-bab9-9262f444ce3f\",\"type\":\"ColumnDataSource\"},\"glyph\":{\"id\":\"52013137-31fa-4a1f-82d7-79599580cbce\",\"type\":\"Circle\"},\"hover_glyph\":null,\"muted_glyph\":null,\"nonselection_glyph\":{\"id\":\"11661086-21b4-4aa1-8c80-e2443645b781\",\"type\":\"Circle\"},\"selection_glyph\":null,\"view\":{\"id\":\"5e4bd960-3828-46c8-9467-18842318840d\",\"type\":\"CDSView\"}},\"id\":\"fba4d626-3dc0-420a-97fe-082f95f0dbbb\",\"type\":\"GlyphRenderer\"},{\"attributes\":{\"formatter\":{\"id\":\"7b3f20b9-0eb3-46a7-975a-df608e6d64d1\",\"type\":\"BasicTickFormatter\"},\"plot\":{\"id\":\"db42fe7b-4ba3-43ae-8c88-03f4332ba11c\",\"subtype\":\"Figure\",\"type\":\"Plot\"},\"ticker\":{\"id\":\"8395d57f-7ed8-469b-b5c5-6ac9d45351ef\",\"type\":\"BasicTicker\"}},\"id\":\"6e3e2cd4-6f69-4fdc-a7a8-cfa7bab9691a\",\"type\":\"LinearAxis\"},{\"attributes\":{\"plot\":null,\"text\":\"\"},\"id\":\"adee9119-1e50-4908-bb57-b59b02958aff\",\"type\":\"Title\"},{\"attributes\":{\"dimension\":1,\"plot\":{\"id\":\"db42fe7b-4ba3-43ae-8c88-03f4332ba11c\",\"subtype\":\"Figure\",\"type\":\"Plot\"},\"ticker\":{\"id\":\"698f94d2-f3fc-4637-8be6-a7c2720c5ceb\",\"type\":\"BasicTicker\"}},\"id\":\"9ebddbcc-a154-417f-8673-5d9effb881b0\",\"type\":\"Grid\"},{\"attributes\":{},\"id\":\"4b7712e1-814c-4bf0-bf01-b7487f6c2a2e\",\"type\":\"HelpTool\"},{\"attributes\":{\"overlay\":{\"id\":\"898f0c3d-0d92-4fd0-858c-e75d346a020f\",\"type\":\"BoxAnnotation\"}},\"id\":\"b75e6c3a-0797-4c46-ad20-04db5b6958c5\",\"type\":\"BoxZoomTool\"},{\"attributes\":{\"items\":[{\"id\":\"df720423-0727-415e-94ab-1d4ac59a1cb0\",\"type\":\"LegendItem\"}],\"plot\":{\"id\":\"db42fe7b-4ba3-43ae-8c88-03f4332ba11c\",\"subtype\":\"Figure\",\"type\":\"Plot\"}},\"id\":\"2eb8acb3-09d7-43d7-8ff6-36014fcd8ddb\",\"type\":\"Legend\"},{\"attributes\":{},\"id\":\"7b3f20b9-0eb3-46a7-975a-df608e6d64d1\",\"type\":\"BasicTickFormatter\"},{\"attributes\":{\"formatter\":{\"id\":\"e6927a66-7c2c-426e-8a96-96475acf723f\",\"type\":\"BasicTickFormatter\"},\"plot\":{\"id\":\"db42fe7b-4ba3-43ae-8c88-03f4332ba11c\",\"subtype\":\"Figure\",\"type\":\"Plot\"},\"ticker\":{\"id\":\"698f94d2-f3fc-4637-8be6-a7c2720c5ceb\",\"type\":\"BasicTicker\"}},\"id\":\"4a954e0c-c62f-46e4-8a3a-180722f10876\",\"type\":\"LinearAxis\"},{\"attributes\":{\"callback\":null},\"id\":\"c3219593-84af-4d3f-88f3-3dddf902752e\",\"type\":\"DataRange1d\"},{\"attributes\":{\"callback\":null},\"id\":\"1dc67baf-0f02-454d-8982-833cde1a7d6d\",\"type\":\"DataRange1d\"},{\"attributes\":{},\"id\":\"1410b097-e5f0-4bc4-8ac9-87c3959f1ba9\",\"type\":\"WheelZoomTool\"},{\"attributes\":{\"active_drag\":\"auto\",\"active_inspect\":\"auto\",\"active_scroll\":\"auto\",\"active_tap\":\"auto\",\"tools\":[{\"id\":\"5c774034-3853-456a-964e-0a28752ea4f5\",\"type\":\"PanTool\"},{\"id\":\"1410b097-e5f0-4bc4-8ac9-87c3959f1ba9\",\"type\":\"WheelZoomTool\"},{\"id\":\"b75e6c3a-0797-4c46-ad20-04db5b6958c5\",\"type\":\"BoxZoomTool\"},{\"id\":\"92f98ab9-6d4b-4d6d-a368-6f88b60f1909\",\"type\":\"SaveTool\"},{\"id\":\"d0e50ddc-1b9e-4160-ba38-e3904af94b26\",\"type\":\"ResetTool\"},{\"id\":\"4b7712e1-814c-4bf0-bf01-b7487f6c2a2e\",\"type\":\"HelpTool\"}]},\"id\":\"76e88a28-0e7b-478b-80dd-e70846e25700\",\"type\":\"Toolbar\"},{\"attributes\":{\"fill_color\":{\"field\":\"species\",\"transform\":{\"id\":\"aea26d9a-97e1-4dd2-9fbd-ea19373182fe\",\"type\":\"CategoricalColorMapper\"}},\"line_color\":{\"value\":null},\"size\":{\"units\":\"screen\",\"value\":6},\"x\":{\"field\":\"sepal_length\"},\"y\":{\"field\":\"sepal_width\"}},\"id\":\"52013137-31fa-4a1f-82d7-79599580cbce\",\"type\":\"Circle\"},{\"attributes\":{},\"id\":\"1af3092e-f809-43eb-85ae-ac8900d0f611\",\"type\":\"LinearScale\"},{\"attributes\":{},\"id\":\"e6927a66-7c2c-426e-8a96-96475acf723f\",\"type\":\"BasicTickFormatter\"},{\"attributes\":{\"bottom_units\":\"screen\",\"fill_alpha\":{\"value\":0.5},\"fill_color\":{\"value\":\"lightgrey\"},\"left_units\":\"screen\",\"level\":\"overlay\",\"line_alpha\":{\"value\":1.0},\"line_color\":{\"value\":\"black\"},\"line_dash\":[4,4],\"line_width\":{\"value\":2},\"plot\":null,\"render_mode\":\"css\",\"right_units\":\"screen\",\"top_units\":\"screen\"},\"id\":\"898f0c3d-0d92-4fd0-858c-e75d346a020f\",\"type\":\"BoxAnnotation\"},{\"attributes\":{\"below\":[{\"id\":\"6e3e2cd4-6f69-4fdc-a7a8-cfa7bab9691a\",\"type\":\"LinearAxis\"}],\"left\":[{\"id\":\"4a954e0c-c62f-46e4-8a3a-180722f10876\",\"type\":\"LinearAxis\"}],\"plot_height\":300,\"plot_width\":400,\"renderers\":[{\"id\":\"6e3e2cd4-6f69-4fdc-a7a8-cfa7bab9691a\",\"type\":\"LinearAxis\"},{\"id\":\"ee30cbb7-a3f2-4499-acea-8feef069f23b\",\"type\":\"Grid\"},{\"id\":\"4a954e0c-c62f-46e4-8a3a-180722f10876\",\"type\":\"LinearAxis\"},{\"id\":\"9ebddbcc-a154-417f-8673-5d9effb881b0\",\"type\":\"Grid\"},{\"id\":\"898f0c3d-0d92-4fd0-858c-e75d346a020f\",\"type\":\"BoxAnnotation\"},{\"id\":\"2eb8acb3-09d7-43d7-8ff6-36014fcd8ddb\",\"type\":\"Legend\"},{\"id\":\"fba4d626-3dc0-420a-97fe-082f95f0dbbb\",\"type\":\"GlyphRenderer\"}],\"title\":{\"id\":\"adee9119-1e50-4908-bb57-b59b02958aff\",\"type\":\"Title\"},\"toolbar\":{\"id\":\"76e88a28-0e7b-478b-80dd-e70846e25700\",\"type\":\"Toolbar\"},\"x_range\":{\"id\":\"1dc67baf-0f02-454d-8982-833cde1a7d6d\",\"type\":\"DataRange1d\"},\"x_scale\":{\"id\":\"1af3092e-f809-43eb-85ae-ac8900d0f611\",\"type\":\"LinearScale\"},\"y_range\":{\"id\":\"c3219593-84af-4d3f-88f3-3dddf902752e\",\"type\":\"DataRange1d\"},\"y_scale\":{\"id\":\"fb0d6946-58f9-4466-a917-185e66e63012\",\"type\":\"LinearScale\"}},\"id\":\"db42fe7b-4ba3-43ae-8c88-03f4332ba11c\",\"subtype\":\"Figure\",\"type\":\"Plot\"},{\"attributes\":{},\"id\":\"5c774034-3853-456a-964e-0a28752ea4f5\",\"type\":\"PanTool\"},{\"attributes\":{},\"id\":\"8395d57f-7ed8-469b-b5c5-6ac9d45351ef\",\"type\":\"BasicTicker\"},{\"attributes\":{},\"id\":\"698f94d2-f3fc-4637-8be6-a7c2720c5ceb\",\"type\":\"BasicTicker\"},{\"attributes\":{\"factors\":[\"setosa\",\"versicolor\",\"virginica\"],\"palette\":[\"#1f77b4\",\"#ff7f0e\",\"#2ca02c\",\"#d62728\",\"#9467bd\",\"#8c564b\",\"#e377c2\",\"#7f7f7f\",\"#bcbd22\",\"#17becf\"]},\"id\":\"aea26d9a-97e1-4dd2-9fbd-ea19373182fe\",\"type\":\"CategoricalColorMapper\"},{\"attributes\":{},\"id\":\"fb0d6946-58f9-4466-a917-185e66e63012\",\"type\":\"LinearScale\"},{\"attributes\":{},\"id\":\"92f98ab9-6d4b-4d6d-a368-6f88b60f1909\",\"type\":\"SaveTool\"},{\"attributes\":{\"plot\":{\"id\":\"db42fe7b-4ba3-43ae-8c88-03f4332ba11c\",\"subtype\":\"Figure\",\"type\":\"Plot\"},\"ticker\":{\"id\":\"8395d57f-7ed8-469b-b5c5-6ac9d45351ef\",\"type\":\"BasicTicker\"}},\"id\":\"ee30cbb7-a3f2-4499-acea-8feef069f23b\",\"type\":\"Grid\"},{\"attributes\":{\"source\":{\"id\":\"e4fa4750-a4b9-42d5-bab9-9262f444ce3f\",\"type\":\"ColumnDataSource\"}},\"id\":\"5e4bd960-3828-46c8-9467-18842318840d\",\"type\":\"CDSView\"},{\"attributes\":{\"callback\":null,\"column_names\":[\"sepal_length\",\"sepal_width\",\"petal_length\",\"petal_width\",\"species\",\"index\"],\"data\":{\"index\":[0,1,2,3,4,5,6,7,8,9,10,11,12,13,14,15,16,17,18,19,20,21,22,23,24,25,26,27,28,29,30,31,32,33,34,35,36,37,38,39,40,41,42,43,44,45,46,47,48,49,50,51,52,53,54,55,56,57,58,59,60,61,62,63,64,65,66,67,68,69,70,71,72,73,74,75,76,77,78,79,80,81,82,83,84,85,86,87,88,89,90,91,92,93,94,95,96,97,98,99,100,101,102,103,104,105,106,107,108,109,110,111,112,113,114,115,116,117,118,119,120,121,122,123,124,125,126,127,128,129,130,131,132,133,134,135,136,137,138,139,140,141,142,143,144,145,146,147,148,149],\"petal_length\":{\"__ndarray__\":\"ZmZmZmZm9j9mZmZmZmb2P83MzMzMzPQ/AAAAAAAA+D9mZmZmZmb2PzMzMzMzM/s/ZmZmZmZm9j8AAAAAAAD4P2ZmZmZmZvY/AAAAAAAA+D8AAAAAAAD4P5qZmZmZmfk/ZmZmZmZm9j+amZmZmZnxPzMzMzMzM/M/AAAAAAAA+D/NzMzMzMz0P2ZmZmZmZvY/MzMzMzMz+z8AAAAAAAD4PzMzMzMzM/s/AAAAAAAA+D8AAAAAAADwPzMzMzMzM/s/ZmZmZmZm/j+amZmZmZn5P5qZmZmZmfk/AAAAAAAA+D9mZmZmZmb2P5qZmZmZmfk/mpmZmZmZ+T8AAAAAAAD4PwAAAAAAAPg/ZmZmZmZm9j8AAAAAAAD4PzMzMzMzM/M/zczMzMzM9D8AAAAAAAD4P83MzMzMzPQ/AAAAAAAA+D/NzMzMzMz0P83MzMzMzPQ/zczMzMzM9D+amZmZmZn5P2ZmZmZmZv4/ZmZmZmZm9j+amZmZmZn5P2ZmZmZmZvY/AAAAAAAA+D9mZmZmZmb2P83MzMzMzBJAAAAAAAAAEkCamZmZmZkTQAAAAAAAABBAZmZmZmZmEkAAAAAAAAASQM3MzMzMzBJAZmZmZmZmCkBmZmZmZmYSQDMzMzMzMw9AAAAAAAAADEDNzMzMzMwQQAAAAAAAABBAzczMzMzMEkDNzMzMzMwMQJqZmZmZmRFAAAAAAAAAEkBmZmZmZmYQQAAAAAAAABJAMzMzMzMzD0AzMzMzMzMTQAAAAAAAABBAmpmZmZmZE0DNzMzMzMwSQDMzMzMzMxFAmpmZmZmZEUAzMzMzMzMTQAAAAAAAABRAAAAAAAAAEkAAAAAAAAAMQGZmZmZmZg5AmpmZmZmZDUAzMzMzMzMPQGZmZmZmZhRAAAAAAAAAEkAAAAAAAAASQM3MzMzMzBJAmpmZmZmZEUBmZmZmZmYQQAAAAAAAABBAmpmZmZmZEUBmZmZmZmYSQAAAAAAAABBAZmZmZmZmCkDNzMzMzMwQQM3MzMzMzBBAzczMzMzMEEAzMzMzMzMRQAAAAAAAAAhAZmZmZmZmEEAAAAAAAAAYQGZmZmZmZhRAmpmZmZmZF0BmZmZmZmYWQDMzMzMzMxdAZmZmZmZmGkAAAAAAAAASQDMzMzMzMxlAMzMzMzMzF0BmZmZmZmYYQGZmZmZmZhRAMzMzMzMzFUAAAAAAAAAWQAAAAAAAABRAZmZmZmZmFEAzMzMzMzMVQAAAAAAAABZAzczMzMzMGkCamZmZmZkbQAAAAAAAABRAzczMzMzMFkCamZmZmZkTQM3MzMzMzBpAmpmZmZmZE0DNzMzMzMwWQAAAAAAAABhAMzMzMzMzE0CamZmZmZkTQGZmZmZmZhZAMzMzMzMzF0BmZmZmZmYYQJqZmZmZmRlAZmZmZmZmFkBmZmZmZmYUQGZmZmZmZhZAZmZmZmZmGEBmZmZmZmYWQAAAAAAAABZAMzMzMzMzE0CamZmZmZkVQGZmZmZmZhZAZmZmZmZmFEBmZmZmZmYUQJqZmZmZmRdAzczMzMzMFkDNzMzMzMwUQAAAAAAAABRAzczMzMzMFECamZmZmZkVQGZmZmZmZhRA\",\"dtype\":\"float64\",\"shape\":[150]},\"petal_width\":{\"__ndarray__\":\"mpmZmZmZyT+amZmZmZnJP5qZmZmZmck/mpmZmZmZyT+amZmZmZnJP5qZmZmZmdk/MzMzMzMz0z+amZmZmZnJP5qZmZmZmck/mpmZmZmZuT+amZmZmZnJP5qZmZmZmck/mpmZmZmZuT+amZmZmZm5P5qZmZmZmck/mpmZmZmZ2T+amZmZmZnZPzMzMzMzM9M/MzMzMzMz0z8zMzMzMzPTP5qZmZmZmck/mpmZmZmZ2T+amZmZmZnJPwAAAAAAAOA/mpmZmZmZyT+amZmZmZnJP5qZmZmZmdk/mpmZmZmZyT+amZmZmZnJP5qZmZmZmck/mpmZmZmZyT+amZmZmZnZP5qZmZmZmbk/mpmZmZmZyT+amZmZmZm5P5qZmZmZmck/mpmZmZmZyT+amZmZmZm5P5qZmZmZmck/mpmZmZmZyT8zMzMzMzPTPzMzMzMzM9M/mpmZmZmZyT8zMzMzMzPjP5qZmZmZmdk/MzMzMzMz0z+amZmZmZnJP5qZmZmZmck/mpmZmZmZyT+amZmZmZnJP2ZmZmZmZvY/AAAAAAAA+D8AAAAAAAD4P83MzMzMzPQ/AAAAAAAA+D/NzMzMzMz0P5qZmZmZmfk/AAAAAAAA8D/NzMzMzMz0P2ZmZmZmZvY/AAAAAAAA8D8AAAAAAAD4PwAAAAAAAPA/ZmZmZmZm9j/NzMzMzMz0P2ZmZmZmZvY/AAAAAAAA+D8AAAAAAADwPwAAAAAAAPg/mpmZmZmZ8T/NzMzMzMz8P83MzMzMzPQ/AAAAAAAA+D8zMzMzMzPzP83MzMzMzPQ/ZmZmZmZm9j9mZmZmZmb2PzMzMzMzM/s/AAAAAAAA+D8AAAAAAADwP5qZmZmZmfE/AAAAAAAA8D8zMzMzMzPzP5qZmZmZmfk/AAAAAAAA+D+amZmZmZn5PwAAAAAAAPg/zczMzMzM9D/NzMzMzMz0P83MzMzMzPQ/MzMzMzMz8z9mZmZmZmb2PzMzMzMzM/M/AAAAAAAA8D/NzMzMzMz0PzMzMzMzM/M/zczMzMzM9D/NzMzMzMz0P5qZmZmZmfE/zczMzMzM9D8AAAAAAAAEQGZmZmZmZv4/zczMzMzMAEDNzMzMzMz8P5qZmZmZmQFAzczMzMzMAEAzMzMzMzP7P83MzMzMzPw/zczMzMzM/D8AAAAAAAAEQAAAAAAAAABAZmZmZmZm/j/NzMzMzMwAQAAAAAAAAABAMzMzMzMzA0BmZmZmZmYCQM3MzMzMzPw/mpmZmZmZAUBmZmZmZmYCQAAAAAAAAPg/ZmZmZmZmAkAAAAAAAAAAQAAAAAAAAABAzczMzMzM/D/NzMzMzMwAQM3MzMzMzPw/zczMzMzM/D/NzMzMzMz8P83MzMzMzABAmpmZmZmZ+T9mZmZmZmb+PwAAAAAAAABAmpmZmZmZAUAAAAAAAAD4P2ZmZmZmZvY/ZmZmZmZmAkAzMzMzMzMDQM3MzMzMzPw/zczMzMzM/D/NzMzMzMwAQDMzMzMzMwNAZmZmZmZmAkBmZmZmZmb+P2ZmZmZmZgJAAAAAAAAABEBmZmZmZmYCQGZmZmZmZv4/AAAAAAAAAEBmZmZmZmYCQM3MzMzMzPw/\",\"dtype\":\"float64\",\"shape\":[150]},\"sepal_length\":{\"__ndarray__\":\"ZmZmZmZmFECamZmZmZkTQM3MzMzMzBJAZmZmZmZmEkAAAAAAAAAUQJqZmZmZmRVAZmZmZmZmEkAAAAAAAAAUQJqZmZmZmRFAmpmZmZmZE0CamZmZmZkVQDMzMzMzMxNAMzMzMzMzE0AzMzMzMzMRQDMzMzMzMxdAzczMzMzMFkCamZmZmZkVQGZmZmZmZhRAzczMzMzMFkBmZmZmZmYUQJqZmZmZmRVAZmZmZmZmFEBmZmZmZmYSQGZmZmZmZhRAMzMzMzMzE0AAAAAAAAAUQAAAAAAAABRAzczMzMzMFEDNzMzMzMwUQM3MzMzMzBJAMzMzMzMzE0CamZmZmZkVQM3MzMzMzBRAAAAAAAAAFkCamZmZmZkTQAAAAAAAABRAAAAAAAAAFkCamZmZmZkTQJqZmZmZmRFAZmZmZmZmFEAAAAAAAAAUQAAAAAAAABJAmpmZmZmZEUAAAAAAAAAUQGZmZmZmZhRAMzMzMzMzE0BmZmZmZmYUQGZmZmZmZhJAMzMzMzMzFUAAAAAAAAAUQAAAAAAAABxAmpmZmZmZGUCamZmZmZkbQAAAAAAAABZAAAAAAAAAGkDNzMzMzMwWQDMzMzMzMxlAmpmZmZmZE0BmZmZmZmYaQM3MzMzMzBRAAAAAAAAAFECamZmZmZkXQAAAAAAAABhAZmZmZmZmGEBmZmZmZmYWQM3MzMzMzBpAZmZmZmZmFkAzMzMzMzMXQM3MzMzMzBhAZmZmZmZmFkCamZmZmZkXQGZmZmZmZhhAMzMzMzMzGUBmZmZmZmYYQJqZmZmZmRlAZmZmZmZmGkAzMzMzMzMbQM3MzMzMzBpAAAAAAAAAGEDNzMzMzMwWQAAAAAAAABZAAAAAAAAAFkAzMzMzMzMXQAAAAAAAABhAmpmZmZmZFUAAAAAAAAAYQM3MzMzMzBpAMzMzMzMzGUBmZmZmZmYWQAAAAAAAABZAAAAAAAAAFkBmZmZmZmYYQDMzMzMzMxdAAAAAAAAAFEBmZmZmZmYWQM3MzMzMzBZAzczMzMzMFkDNzMzMzMwYQGZmZmZmZhRAzczMzMzMFkAzMzMzMzMZQDMzMzMzMxdAZmZmZmZmHEAzMzMzMzMZQAAAAAAAABpAZmZmZmZmHkCamZmZmZkTQDMzMzMzMx1AzczMzMzMGkDNzMzMzMwcQAAAAAAAABpAmpmZmZmZGUAzMzMzMzMbQM3MzMzMzBZAMzMzMzMzF0CamZmZmZkZQAAAAAAAABpAzczMzMzMHkDNzMzMzMweQAAAAAAAABhAmpmZmZmZG0BmZmZmZmYWQM3MzMzMzB5AMzMzMzMzGUDNzMzMzMwaQM3MzMzMzBxAzczMzMzMGEBmZmZmZmYYQJqZmZmZmRlAzczMzMzMHECamZmZmZkdQJqZmZmZmR9AmpmZmZmZGUAzMzMzMzMZQGZmZmZmZhhAzczMzMzMHkAzMzMzMzMZQJqZmZmZmRlAAAAAAAAAGECamZmZmZkbQM3MzMzMzBpAmpmZmZmZG0AzMzMzMzMXQDMzMzMzMxtAzczMzMzMGkDNzMzMzMwaQDMzMzMzMxlAAAAAAAAAGkDNzMzMzMwYQJqZmZmZmRdA\",\"dtype\":\"float64\",\"shape\":[150]},\"sepal_width\":{\"__ndarray__\":\"AAAAAAAADEAAAAAAAAAIQJqZmZmZmQlAzczMzMzMCEDNzMzMzMwMQDMzMzMzMw9AMzMzMzMzC0AzMzMzMzMLQDMzMzMzMwdAzczMzMzMCECamZmZmZkNQDMzMzMzMwtAAAAAAAAACEAAAAAAAAAIQAAAAAAAABBAmpmZmZmZEUAzMzMzMzMPQAAAAAAAAAxAZmZmZmZmDkBmZmZmZmYOQDMzMzMzMwtAmpmZmZmZDUDNzMzMzMwMQGZmZmZmZgpAMzMzMzMzC0AAAAAAAAAIQDMzMzMzMwtAAAAAAAAADEAzMzMzMzMLQJqZmZmZmQlAzczMzMzMCEAzMzMzMzMLQGZmZmZmZhBAzczMzMzMEEDNzMzMzMwIQJqZmZmZmQlAAAAAAAAADEDNzMzMzMwIQAAAAAAAAAhAMzMzMzMzC0AAAAAAAAAMQGZmZmZmZgJAmpmZmZmZCUAAAAAAAAAMQGZmZmZmZg5AAAAAAAAACEBmZmZmZmYOQJqZmZmZmQlAmpmZmZmZDUBmZmZmZmYKQJqZmZmZmQlAmpmZmZmZCUDNzMzMzMwIQGZmZmZmZgJAZmZmZmZmBkBmZmZmZmYGQGZmZmZmZgpAMzMzMzMzA0AzMzMzMzMHQJqZmZmZmQVAAAAAAAAAAEAAAAAAAAAIQJqZmZmZmQFAMzMzMzMzB0AzMzMzMzMHQM3MzMzMzAhAAAAAAAAACECamZmZmZkFQJqZmZmZmQFAAAAAAAAABECamZmZmZkJQGZmZmZmZgZAAAAAAAAABEBmZmZmZmYGQDMzMzMzMwdAAAAAAAAACEBmZmZmZmYGQAAAAAAAAAhAMzMzMzMzB0DNzMzMzMwEQDMzMzMzMwNAMzMzMzMzA0CamZmZmZkFQJqZmZmZmQVAAAAAAAAACEAzMzMzMzMLQM3MzMzMzAhAZmZmZmZmAkAAAAAAAAAIQAAAAAAAAARAzczMzMzMBEAAAAAAAAAIQM3MzMzMzARAZmZmZmZmAkCamZmZmZkFQAAAAAAAAAhAMzMzMzMzB0AzMzMzMzMHQAAAAAAAAARAZmZmZmZmBkBmZmZmZmYKQJqZmZmZmQVAAAAAAAAACEAzMzMzMzMHQAAAAAAAAAhAAAAAAAAACEAAAAAAAAAEQDMzMzMzMwdAAAAAAAAABEDNzMzMzMwMQJqZmZmZmQlAmpmZmZmZBUAAAAAAAAAIQAAAAAAAAARAZmZmZmZmBkCamZmZmZkJQAAAAAAAAAhAZmZmZmZmDkDNzMzMzMwEQJqZmZmZmQFAmpmZmZmZCUBmZmZmZmYGQGZmZmZmZgZAmpmZmZmZBUBmZmZmZmYKQJqZmZmZmQlAZmZmZmZmBkAAAAAAAAAIQGZmZmZmZgZAAAAAAAAACEBmZmZmZmYGQGZmZmZmZg5AZmZmZmZmBkBmZmZmZmYGQM3MzMzMzARAAAAAAAAACEAzMzMzMzMLQM3MzMzMzAhAAAAAAAAACEDNzMzMzMwIQM3MzMzMzAhAzczMzMzMCECamZmZmZkFQJqZmZmZmQlAZmZmZmZmCkAAAAAAAAAIQAAAAAAAAARAAAAAAAAACEAzMzMzMzMLQAAAAAAAAAhA\",\"dtype\":\"float64\",\"shape\":[150]},\"species\":[\"setosa\",\"setosa\",\"setosa\",\"setosa\",\"setosa\",\"setosa\",\"setosa\",\"setosa\",\"setosa\",\"setosa\",\"setosa\",\"setosa\",\"setosa\",\"setosa\",\"setosa\",\"setosa\",\"setosa\",\"setosa\",\"setosa\",\"setosa\",\"setosa\",\"setosa\",\"setosa\",\"setosa\",\"setosa\",\"setosa\",\"setosa\",\"setosa\",\"setosa\",\"setosa\",\"setosa\",\"setosa\",\"setosa\",\"setosa\",\"setosa\",\"setosa\",\"setosa\",\"setosa\",\"setosa\",\"setosa\",\"setosa\",\"setosa\",\"setosa\",\"setosa\",\"setosa\",\"setosa\",\"setosa\",\"setosa\",\"setosa\",\"setosa\",\"versicolor\",\"versicolor\",\"versicolor\",\"versicolor\",\"versicolor\",\"versicolor\",\"versicolor\",\"versicolor\",\"versicolor\",\"versicolor\",\"versicolor\",\"versicolor\",\"versicolor\",\"versicolor\",\"versicolor\",\"versicolor\",\"versicolor\",\"versicolor\",\"versicolor\",\"versicolor\",\"versicolor\",\"versicolor\",\"versicolor\",\"versicolor\",\"versicolor\",\"versicolor\",\"versicolor\",\"versicolor\",\"versicolor\",\"versicolor\",\"versicolor\",\"versicolor\",\"versicolor\",\"versicolor\",\"versicolor\",\"versicolor\",\"versicolor\",\"versicolor\",\"versicolor\",\"versicolor\",\"versicolor\",\"versicolor\",\"versicolor\",\"versicolor\",\"versicolor\",\"versicolor\",\"versicolor\",\"versicolor\",\"versicolor\",\"versicolor\",\"virginica\",\"virginica\",\"virginica\",\"virginica\",\"virginica\",\"virginica\",\"virginica\",\"virginica\",\"virginica\",\"virginica\",\"virginica\",\"virginica\",\"virginica\",\"virginica\",\"virginica\",\"virginica\",\"virginica\",\"virginica\",\"virginica\",\"virginica\",\"virginica\",\"virginica\",\"virginica\",\"virginica\",\"virginica\",\"virginica\",\"virginica\",\"virginica\",\"virginica\",\"virginica\",\"virginica\",\"virginica\",\"virginica\",\"virginica\",\"virginica\",\"virginica\",\"virginica\",\"virginica\",\"virginica\",\"virginica\",\"virginica\",\"virginica\",\"virginica\",\"virginica\",\"virginica\",\"virginica\",\"virginica\",\"virginica\",\"virginica\",\"virginica\"]},\"selected\":null,\"selection_policy\":null},\"id\":\"e4fa4750-a4b9-42d5-bab9-9262f444ce3f\",\"type\":\"ColumnDataSource\"},{\"attributes\":{\"label\":{\"field\":\"species\"},\"renderers\":[{\"id\":\"fba4d626-3dc0-420a-97fe-082f95f0dbbb\",\"type\":\"GlyphRenderer\"}]},\"id\":\"df720423-0727-415e-94ab-1d4ac59a1cb0\",\"type\":\"LegendItem\"},{\"attributes\":{},\"id\":\"d0e50ddc-1b9e-4160-ba38-e3904af94b26\",\"type\":\"ResetTool\"},{\"attributes\":{\"fill_alpha\":{\"value\":0.1},\"fill_color\":{\"value\":\"#1f77b4\"},\"line_alpha\":{\"value\":0.1},\"line_color\":{\"value\":\"#1f77b4\"},\"size\":{\"units\":\"screen\",\"value\":6},\"x\":{\"field\":\"sepal_length\"},\"y\":{\"field\":\"sepal_width\"}},\"id\":\"11661086-21b4-4aa1-8c80-e2443645b781\",\"type\":\"Circle\"}],\"root_ids\":[\"db42fe7b-4ba3-43ae-8c88-03f4332ba11c\"]},\"title\":\"Bokeh Application\",\"version\":\"0.12.15\"}};\n",
       "  var render_items = [{\"docid\":\"c57d5ec7-0709-4865-a475-91c3117a0e64\",\"elementid\":\"92fb1fcf-b404-4265-8a77-40c2c2e60224\",\"modelid\":\"db42fe7b-4ba3-43ae-8c88-03f4332ba11c\"}];\n",
       "  root.Bokeh.embed.embed_items_notebook(docs_json, render_items);\n",
       "\n",
       "  }\n",
       "  if (root.Bokeh !== undefined) {\n",
       "    embed_document(root);\n",
       "  } else {\n",
       "    var attempts = 0;\n",
       "    var timer = setInterval(function(root) {\n",
       "      if (root.Bokeh !== undefined) {\n",
       "        embed_document(root);\n",
       "        clearInterval(timer);\n",
       "      }\n",
       "      attempts++;\n",
       "      if (attempts > 100) {\n",
       "        console.log(\"Bokeh: ERROR: Unable to run BokehJS code because BokehJS library is missing\")\n",
       "        clearInterval(timer);\n",
       "      }\n",
       "    }, 10, root)\n",
       "  }\n",
       "})(window);"
      ],
      "application/vnd.bokehjs_exec.v0+json": ""
     },
     "metadata": {
      "application/vnd.bokehjs_exec.v0+json": {
       "id": "db42fe7b-4ba3-43ae-8c88-03f4332ba11c"
      }
     },
     "output_type": "display_data"
    }
   ],
   "source": [
    "from bokeh.transform import factor_cmap\n",
    "df = pd.read_csv(\"https://raw.githubusercontent.com/uiuc-cse/data-fa14/gh-pages/data/iris.csv\", dtype={'species':'category'})\n",
    "\n",
    "source = ColumnDataSource(data=df)\n",
    "fig = figure(plot_width=400, plot_height=300)\n",
    "c = fig.circle(\"sepal_length\", \"sepal_width\", \n",
    "               fill_color=factor_cmap(\"species\", Category10[10], df.species.cat.categories), \n",
    "               legend=\"species\",\n",
    "               line_color=None, source=source, alpha=1, size=6)\n",
    "show(fig)"
   ]
  },
  {
   "cell_type": "markdown",
   "metadata": {},
   "source": [
    "前面的各种函数都是自动生成带`'transform'`键的字典。下面直接通过`transform()`直接指定`'transform'`键对应的转换对象。下面的例子使用`LinearInterpolator`和`StepInterpolator`对指定的列进行插值运算。`source`的`x`列有10个数据点，而`source2`的`x`列有100个点。使用`LinearInterpolator(x=\"x\", y=\"y\", data=source)`对`source`的数值进行插值。"
   ]
  },
  {
   "cell_type": "code",
   "execution_count": 11,
   "metadata": {},
   "outputs": [
    {
     "data": {
      "text/html": [
       "\n",
       "<div class=\"bk-root\">\n",
       "    <div class=\"bk-plotdiv\" id=\"709aaa9c-ecf7-4665-aa5e-2cc4bb6ff055\"></div>\n",
       "</div>"
      ]
     },
     "metadata": {},
     "output_type": "display_data"
    },
    {
     "data": {
      "application/javascript": [
       "(function(root) {\n",
       "  function embed_document(root) {\n",
       "    \n",
       "  var docs_json = {\"0998020e-ee75-4f07-bd94-6b9597f3b32b\":{\"roots\":{\"references\":[{\"attributes\":{\"plot\":{\"id\":\"d7111887-3640-4ea4-a841-418b145b113a\",\"subtype\":\"Figure\",\"type\":\"Plot\"},\"ticker\":{\"id\":\"bce00048-b752-4f09-954a-9bb00f7ed134\",\"type\":\"BasicTicker\"}},\"id\":\"fc3cccd7-df1e-4e65-944f-fe37b2ec2aef\",\"type\":\"Grid\"},{\"attributes\":{\"formatter\":{\"id\":\"5403e71f-83ba-48bc-9592-94fd436e8d54\",\"type\":\"BasicTickFormatter\"},\"plot\":{\"id\":\"d7111887-3640-4ea4-a841-418b145b113a\",\"subtype\":\"Figure\",\"type\":\"Plot\"},\"ticker\":{\"id\":\"bce00048-b752-4f09-954a-9bb00f7ed134\",\"type\":\"BasicTicker\"}},\"id\":\"ad7b8df3-3fdb-49e0-909e-a277d8e7edbd\",\"type\":\"LinearAxis\"},{\"attributes\":{},\"id\":\"bce00048-b752-4f09-954a-9bb00f7ed134\",\"type\":\"BasicTicker\"},{\"attributes\":{\"formatter\":{\"id\":\"2b50b95a-e4a3-4f75-88a8-d7a42a380bda\",\"type\":\"BasicTickFormatter\"},\"plot\":{\"id\":\"d7111887-3640-4ea4-a841-418b145b113a\",\"subtype\":\"Figure\",\"type\":\"Plot\"},\"ticker\":{\"id\":\"7c8b0248-71c5-475c-ba11-dbc7caa45bdf\",\"type\":\"BasicTicker\"}},\"id\":\"f62edb00-4409-4901-a5fb-c64da5c15a47\",\"type\":\"LinearAxis\"},{\"attributes\":{},\"id\":\"7c8b0248-71c5-475c-ba11-dbc7caa45bdf\",\"type\":\"BasicTicker\"},{\"attributes\":{\"dimension\":1,\"plot\":{\"id\":\"d7111887-3640-4ea4-a841-418b145b113a\",\"subtype\":\"Figure\",\"type\":\"Plot\"},\"ticker\":{\"id\":\"7c8b0248-71c5-475c-ba11-dbc7caa45bdf\",\"type\":\"BasicTicker\"}},\"id\":\"6557eeff-c6d2-4af5-9ce1-9b8417012de1\",\"type\":\"Grid\"},{\"attributes\":{\"fill_alpha\":{\"value\":0.1},\"fill_color\":{\"value\":\"#1f77b4\"},\"line_alpha\":{\"value\":0.1},\"line_color\":{\"value\":\"#1f77b4\"},\"x\":{\"field\":\"x\"},\"y\":{\"field\":\"y\"}},\"id\":\"ef3a2fb3-b25f-46fd-8eee-20a9c123e606\",\"type\":\"Circle\"},{\"attributes\":{\"fill_color\":{\"value\":\"#1f77b4\"},\"line_color\":{\"value\":\"#1f77b4\"},\"x\":{\"field\":\"x\"},\"y\":{\"field\":\"y\"}},\"id\":\"516fe2a9-4d8f-4d3e-a4be-9ed4bf9c750a\",\"type\":\"Circle\"},{\"attributes\":{\"bottom_units\":\"screen\",\"fill_alpha\":{\"value\":0.5},\"fill_color\":{\"value\":\"lightgrey\"},\"left_units\":\"screen\",\"level\":\"overlay\",\"line_alpha\":{\"value\":1.0},\"line_color\":{\"value\":\"black\"},\"line_dash\":[4,4],\"line_width\":{\"value\":2},\"plot\":null,\"render_mode\":\"css\",\"right_units\":\"screen\",\"top_units\":\"screen\"},\"id\":\"a8f971c4-d38f-41a9-95ea-8f992c20a6f6\",\"type\":\"BoxAnnotation\"},{\"attributes\":{},\"id\":\"f19f0894-a8f5-469b-b334-817ae578c3f5\",\"type\":\"PanTool\"},{\"attributes\":{\"source\":{\"id\":\"9995173c-2894-4c70-812b-6c176b12861b\",\"type\":\"ColumnDataSource\"}},\"id\":\"937081ce-f772-471d-80d4-6b47eff6a18d\",\"type\":\"CDSView\"},{\"attributes\":{},\"id\":\"34d56ebf-088d-41e9-b031-cb1810064041\",\"type\":\"WheelZoomTool\"},{\"attributes\":{\"overlay\":{\"id\":\"a8f971c4-d38f-41a9-95ea-8f992c20a6f6\",\"type\":\"BoxAnnotation\"}},\"id\":\"2410477c-f4d7-4c7d-9974-45fbc44acc44\",\"type\":\"BoxZoomTool\"},{\"attributes\":{},\"id\":\"d13a2ac6-e6ea-4190-b09c-982d8d4fc299\",\"type\":\"SaveTool\"},{\"attributes\":{},\"id\":\"39bdbdf0-90d0-477d-92ac-2daff500d3e5\",\"type\":\"ResetTool\"},{\"attributes\":{},\"id\":\"153b380c-9902-49fb-95de-d81d5cff1b12\",\"type\":\"HelpTool\"},{\"attributes\":{\"plot\":null,\"text\":\"\"},\"id\":\"ba797dfc-9495-4832-98c0-224e4fc65e9a\",\"type\":\"Title\"},{\"attributes\":{\"below\":[{\"id\":\"ad7b8df3-3fdb-49e0-909e-a277d8e7edbd\",\"type\":\"LinearAxis\"}],\"left\":[{\"id\":\"f62edb00-4409-4901-a5fb-c64da5c15a47\",\"type\":\"LinearAxis\"}],\"plot_height\":300,\"plot_width\":400,\"renderers\":[{\"id\":\"ad7b8df3-3fdb-49e0-909e-a277d8e7edbd\",\"type\":\"LinearAxis\"},{\"id\":\"fc3cccd7-df1e-4e65-944f-fe37b2ec2aef\",\"type\":\"Grid\"},{\"id\":\"f62edb00-4409-4901-a5fb-c64da5c15a47\",\"type\":\"LinearAxis\"},{\"id\":\"6557eeff-c6d2-4af5-9ce1-9b8417012de1\",\"type\":\"Grid\"},{\"id\":\"a8f971c4-d38f-41a9-95ea-8f992c20a6f6\",\"type\":\"BoxAnnotation\"},{\"id\":\"8c9caf9a-c865-482f-a6dc-6a591e6a3a87\",\"type\":\"GlyphRenderer\"},{\"id\":\"162996e3-0244-4756-b8ec-dad827f4e0b4\",\"type\":\"GlyphRenderer\"},{\"id\":\"a0dd7699-b45f-49fe-bfa6-df4837a4b636\",\"type\":\"GlyphRenderer\"}],\"title\":{\"id\":\"ba797dfc-9495-4832-98c0-224e4fc65e9a\",\"type\":\"Title\"},\"toolbar\":{\"id\":\"39e93103-e543-41d2-ad6e-8b03dfaf198c\",\"type\":\"Toolbar\"},\"x_range\":{\"id\":\"70234cf5-f502-4e16-8367-17f24301c116\",\"type\":\"DataRange1d\"},\"x_scale\":{\"id\":\"12104c13-7824-452f-9080-144c0463711b\",\"type\":\"LinearScale\"},\"y_range\":{\"id\":\"e73dfd16-4925-4b21-bd99-8f3431f03451\",\"type\":\"DataRange1d\"},\"y_scale\":{\"id\":\"a1fcc831-6e57-463a-ba34-313c468da245\",\"type\":\"LinearScale\"}},\"id\":\"d7111887-3640-4ea4-a841-418b145b113a\",\"subtype\":\"Figure\",\"type\":\"Plot\"},{\"attributes\":{},\"id\":\"5403e71f-83ba-48bc-9592-94fd436e8d54\",\"type\":\"BasicTickFormatter\"},{\"attributes\":{\"data\":{\"id\":\"9995173c-2894-4c70-812b-6c176b12861b\",\"type\":\"ColumnDataSource\"},\"x\":\"x\",\"y\":\"y\"},\"id\":\"8e098ab7-ca05-4114-a274-87e17773d8dd\",\"type\":\"StepInterpolator\"},{\"attributes\":{\"source\":{\"id\":\"6f5d050d-0ce1-4bd6-a1da-83f5bd87cd3e\",\"type\":\"ColumnDataSource\"}},\"id\":\"c41babb1-349d-4cbf-bf13-62996f77cda9\",\"type\":\"CDSView\"},{\"attributes\":{\"fill_color\":{\"value\":\"red\"},\"line_color\":{\"value\":null},\"size\":{\"units\":\"screen\",\"value\":1},\"x\":{\"field\":\"x\"},\"y\":{\"field\":\"x\",\"transform\":{\"id\":\"8eea1edf-ae1e-42f2-ba35-78f1c35996b3\",\"type\":\"LinearInterpolator\"}}},\"id\":\"a2a0c19b-8761-4c67-ba0d-caccdfbeb1ce\",\"type\":\"Circle\"},{\"attributes\":{\"fill_alpha\":{\"value\":0.1},\"fill_color\":{\"value\":\"#1f77b4\"},\"line_alpha\":{\"value\":0.1},\"line_color\":{\"value\":\"#1f77b4\"},\"size\":{\"units\":\"screen\",\"value\":1},\"x\":{\"field\":\"x\"},\"y\":{\"field\":\"x\",\"transform\":{\"id\":\"8eea1edf-ae1e-42f2-ba35-78f1c35996b3\",\"type\":\"LinearInterpolator\"}}},\"id\":\"37b9bc05-873f-4a25-81a7-88ff3f7c6566\",\"type\":\"Circle\"},{\"attributes\":{\"data_source\":{\"id\":\"6f5d050d-0ce1-4bd6-a1da-83f5bd87cd3e\",\"type\":\"ColumnDataSource\"},\"glyph\":{\"id\":\"a2a0c19b-8761-4c67-ba0d-caccdfbeb1ce\",\"type\":\"Circle\"},\"hover_glyph\":null,\"muted_glyph\":null,\"nonselection_glyph\":{\"id\":\"37b9bc05-873f-4a25-81a7-88ff3f7c6566\",\"type\":\"Circle\"},\"selection_glyph\":null,\"view\":{\"id\":\"c41babb1-349d-4cbf-bf13-62996f77cda9\",\"type\":\"CDSView\"}},\"id\":\"162996e3-0244-4756-b8ec-dad827f4e0b4\",\"type\":\"GlyphRenderer\"},{\"attributes\":{\"callback\":null,\"column_names\":[\"x\"],\"data\":{\"x\":{\"__ndarray__\":\"AAAAAAAAAACRGkt8Vz+wP5EaS3xXP8A/2qdwOgNfyD+RGkt8Vz/QPzXhXVstT9Q/2qdwOgNf2D9+boMZ2W7cP5EaS3xXP+A/433Ua0JH4j814V1bLU/kP4dE50oYV+Y/2qdwOgNf6D8sC/op7mbqP35ugxnZbuw/0NEMCcR27j+RGkt8Vz/wPzrMD/RMQ/E/433Ua0JH8j+ML5njN0vzPzXhXVstT/Q/3pIi0yJT9T+HROdKGFf2PzD2q8INW/c/2qdwOgNf+D+DWTWy+GL5PywL+inuZvo/1by+oeNq+z9+boMZ2W78PycgSJHOcv0/0NEMCcR2/j95g9GAuXr/P5EaS3xXPwBAZnMtOFLBAEA6zA/0TEMBQA8l8q9HxQFA433Ua0JHAkC41rYnPckCQIwvmeM3SwNAYYh7nzLNA0A14V1bLU8EQAo6QBco0QRA3pIi0yJTBUCz6wSPHdUFQIdE50oYVwZAXJ3JBhPZBkAw9qvCDVsHQAVPjn4I3QdA2qdwOgNfCECuAFP2/eAIQINZNbL4YglAV7IXbvPkCUAsC/op7mYKQABk3OXo6ApA1by+oeNqC0CpFaFd3uwLQH5ugxnZbgxAUsdl1dPwDEAnIEiRznINQPt4Kk3J9A1A0NEMCcR2DkCkKu/EvvgOQHmD0YC5eg9ATdyzPLT8D0CRGkt8Vz8QQPtGPNpUgBBAZnMtOFLBEEDQnx6WTwIRQDrMD/RMQxFApPgAUkqEEUAPJfKvR8URQHlR4w1FBhJA433Ua0JHEkBNqsXJP4gSQLjWtic9yRJAIgOohToKE0CML5njN0sTQPZbikE1jBNAYYh7nzLNE0DLtGz9Lw4UQDXhXVstTxRAoA1PuSqQFEAKOkAXKNEUQHRmMXUlEhVA3pIi0yJTFUBJvxMxIJQVQLPrBI8d1RVAHRj27BoWFkCHROdKGFcWQPJw2KgVmBZAXJ3JBhPZFkDGybpkEBoXQDD2q8INWxdAmyKdIAucF0AFT45+CN0XQG97f9wFHhhA2qdwOgNfGEBE1GGYAKAYQK4AU/b94BhAGC1EVPshGUA=\",\"dtype\":\"float64\",\"shape\":[100]}},\"selected\":null,\"selection_policy\":null},\"id\":\"6f5d050d-0ce1-4bd6-a1da-83f5bd87cd3e\",\"type\":\"ColumnDataSource\"},{\"attributes\":{\"data_source\":{\"id\":\"9995173c-2894-4c70-812b-6c176b12861b\",\"type\":\"ColumnDataSource\"},\"glyph\":{\"id\":\"516fe2a9-4d8f-4d3e-a4be-9ed4bf9c750a\",\"type\":\"Circle\"},\"hover_glyph\":null,\"muted_glyph\":null,\"nonselection_glyph\":{\"id\":\"ef3a2fb3-b25f-46fd-8eee-20a9c123e606\",\"type\":\"Circle\"},\"selection_glyph\":null,\"view\":{\"id\":\"937081ce-f772-471d-80d4-6b47eff6a18d\",\"type\":\"CDSView\"}},\"id\":\"8c9caf9a-c865-482f-a6dc-6a591e6a3a87\",\"type\":\"GlyphRenderer\"},{\"attributes\":{\"callback\":null,\"column_names\":[\"x\",\"y\"],\"data\":{\"x\":{\"__ndarray__\":\"AAAAAAAAAACHROdKGFfmP4dE50oYV/Y/ZXMtOFLBAECHROdKGFcGQKkVoV3e7AtAZXMtOFLBEED2W4pBNYwTQIdE50oYVxZAGC1EVPshGUA=\",\"dtype\":\"float64\",\"shape\":[10]},\"y\":{\"__ndarray__\":\"AAAAAAAAAAAcFjxSt5HkPxccgYyLg+8/q0xY6Hq26z/4C4p0qOPVP/QLinSo49W/qExY6Hq2678YHIGMi4Pvvx8WPFK3keS/B1wUMyamsbw=\",\"dtype\":\"float64\",\"shape\":[10]}},\"selected\":null,\"selection_policy\":null},\"id\":\"9995173c-2894-4c70-812b-6c176b12861b\",\"type\":\"ColumnDataSource\"},{\"attributes\":{\"fill_alpha\":{\"value\":0.1},\"fill_color\":{\"value\":\"#1f77b4\"},\"line_alpha\":{\"value\":0.1},\"line_color\":{\"value\":\"#1f77b4\"},\"size\":{\"units\":\"screen\",\"value\":1},\"x\":{\"field\":\"x\"},\"y\":{\"field\":\"x\",\"transform\":{\"id\":\"8e098ab7-ca05-4114-a274-87e17773d8dd\",\"type\":\"StepInterpolator\"}}},\"id\":\"856945c6-abec-494c-a7cc-4e11069503e0\",\"type\":\"Circle\"},{\"attributes\":{},\"id\":\"2b50b95a-e4a3-4f75-88a8-d7a42a380bda\",\"type\":\"BasicTickFormatter\"},{\"attributes\":{\"fill_color\":{\"value\":\"green\"},\"line_color\":{\"value\":null},\"size\":{\"units\":\"screen\",\"value\":1},\"x\":{\"field\":\"x\"},\"y\":{\"field\":\"x\",\"transform\":{\"id\":\"8e098ab7-ca05-4114-a274-87e17773d8dd\",\"type\":\"StepInterpolator\"}}},\"id\":\"ae04fdfd-149f-4571-9136-b63f2ba84c1f\",\"type\":\"Circle\"},{\"attributes\":{\"active_drag\":\"auto\",\"active_inspect\":\"auto\",\"active_scroll\":\"auto\",\"active_tap\":\"auto\",\"tools\":[{\"id\":\"f19f0894-a8f5-469b-b334-817ae578c3f5\",\"type\":\"PanTool\"},{\"id\":\"34d56ebf-088d-41e9-b031-cb1810064041\",\"type\":\"WheelZoomTool\"},{\"id\":\"2410477c-f4d7-4c7d-9974-45fbc44acc44\",\"type\":\"BoxZoomTool\"},{\"id\":\"d13a2ac6-e6ea-4190-b09c-982d8d4fc299\",\"type\":\"SaveTool\"},{\"id\":\"39bdbdf0-90d0-477d-92ac-2daff500d3e5\",\"type\":\"ResetTool\"},{\"id\":\"153b380c-9902-49fb-95de-d81d5cff1b12\",\"type\":\"HelpTool\"}]},\"id\":\"39e93103-e543-41d2-ad6e-8b03dfaf198c\",\"type\":\"Toolbar\"},{\"attributes\":{\"source\":{\"id\":\"6f5d050d-0ce1-4bd6-a1da-83f5bd87cd3e\",\"type\":\"ColumnDataSource\"}},\"id\":\"5563f81e-a346-42da-8190-7bb102a35054\",\"type\":\"CDSView\"},{\"attributes\":{\"callback\":null},\"id\":\"70234cf5-f502-4e16-8367-17f24301c116\",\"type\":\"DataRange1d\"},{\"attributes\":{\"data_source\":{\"id\":\"6f5d050d-0ce1-4bd6-a1da-83f5bd87cd3e\",\"type\":\"ColumnDataSource\"},\"glyph\":{\"id\":\"ae04fdfd-149f-4571-9136-b63f2ba84c1f\",\"type\":\"Circle\"},\"hover_glyph\":null,\"muted_glyph\":null,\"nonselection_glyph\":{\"id\":\"856945c6-abec-494c-a7cc-4e11069503e0\",\"type\":\"Circle\"},\"selection_glyph\":null,\"view\":{\"id\":\"5563f81e-a346-42da-8190-7bb102a35054\",\"type\":\"CDSView\"}},\"id\":\"a0dd7699-b45f-49fe-bfa6-df4837a4b636\",\"type\":\"GlyphRenderer\"},{\"attributes\":{\"data\":{\"id\":\"9995173c-2894-4c70-812b-6c176b12861b\",\"type\":\"ColumnDataSource\"},\"x\":\"x\",\"y\":\"y\"},\"id\":\"8eea1edf-ae1e-42f2-ba35-78f1c35996b3\",\"type\":\"LinearInterpolator\"},{\"attributes\":{\"callback\":null},\"id\":\"e73dfd16-4925-4b21-bd99-8f3431f03451\",\"type\":\"DataRange1d\"},{\"attributes\":{},\"id\":\"12104c13-7824-452f-9080-144c0463711b\",\"type\":\"LinearScale\"},{\"attributes\":{},\"id\":\"a1fcc831-6e57-463a-ba34-313c468da245\",\"type\":\"LinearScale\"}],\"root_ids\":[\"d7111887-3640-4ea4-a841-418b145b113a\"]},\"title\":\"Bokeh Application\",\"version\":\"0.12.15\"}};\n",
       "  var render_items = [{\"docid\":\"0998020e-ee75-4f07-bd94-6b9597f3b32b\",\"elementid\":\"709aaa9c-ecf7-4665-aa5e-2cc4bb6ff055\",\"modelid\":\"d7111887-3640-4ea4-a841-418b145b113a\"}];\n",
       "  root.Bokeh.embed.embed_items_notebook(docs_json, render_items);\n",
       "\n",
       "  }\n",
       "  if (root.Bokeh !== undefined) {\n",
       "    embed_document(root);\n",
       "  } else {\n",
       "    var attempts = 0;\n",
       "    var timer = setInterval(function(root) {\n",
       "      if (root.Bokeh !== undefined) {\n",
       "        embed_document(root);\n",
       "        clearInterval(timer);\n",
       "      }\n",
       "      attempts++;\n",
       "      if (attempts > 100) {\n",
       "        console.log(\"Bokeh: ERROR: Unable to run BokehJS code because BokehJS library is missing\")\n",
       "        clearInterval(timer);\n",
       "      }\n",
       "    }, 10, root)\n",
       "  }\n",
       "})(window);"
      ],
      "application/vnd.bokehjs_exec.v0+json": ""
     },
     "metadata": {
      "application/vnd.bokehjs_exec.v0+json": {
       "id": "d7111887-3640-4ea4-a841-418b145b113a"
      }
     },
     "output_type": "display_data"
    }
   ],
   "source": [
    "from bokeh.transform import transform\n",
    "from bokeh.models.transforms import LinearInterpolator, StepInterpolator\n",
    "\n",
    "x = np.linspace(0, 2*np.pi, 10)\n",
    "y = np.sin(x)\n",
    "source = ColumnDataSource(data=dict(x=x, y=y))\n",
    "source2 = ColumnDataSource(data=dict(x=np.linspace(0, 2*np.pi, 100)))\n",
    "fig = figure(plot_width=400, plot_height=300)\n",
    "fig.circle(\"x\", \"y\", source=source)\n",
    "fig.circle(\"x\", transform(\"x\", LinearInterpolator(x=\"x\", y=\"y\", data=source)), source=source2, size=1, color=\"red\", line_color=None)\n",
    "fig.circle(\"x\", transform(\"x\", StepInterpolator(x=\"x\", y=\"y\", data=source)), source=source2, size=1, color=\"green\", line_color=None)\n",
    "show(fig)"
   ]
  },
  {
   "cell_type": "markdown",
   "metadata": {},
   "source": [
    "`CustomJSTransform()`给定的Javascript函数包装为转换类。使用其`from_py_func()`可以将Python函数自动转换为Javascript函数。它有两个参数：对单个数值进行转换的函数，和对一个数组进行转换的函数。这两个函数本身没有参数，函数内部的程序可以通过`x`和`xs`访问传入的数值和数组。下面使用`CustomJSTransform()`创建正弦和余弦转换函数。注意由于计算在Javascript中进行，因此使用`Math.sin()`和`Math.cos()`进行计算。由于生成的Javascript函数不支持对JavaScript的类型化数组进行迭代，因此首先使用`window.Array[\"from\"](xs)`将其转换为一般数组。"
   ]
  },
  {
   "cell_type": "code",
   "execution_count": 12,
   "metadata": {},
   "outputs": [
    {
     "data": {
      "text/html": [
       "\n",
       "<div class=\"bk-root\">\n",
       "    <div class=\"bk-plotdiv\" id=\"77c6715c-b7bd-4334-97db-81046fc7fcbf\"></div>\n",
       "</div>"
      ]
     },
     "metadata": {},
     "output_type": "display_data"
    },
    {
     "data": {
      "application/javascript": [
       "(function(root) {\n",
       "  function embed_document(root) {\n",
       "    \n",
       "  var docs_json = {\"4cd23114-b964-4f6e-abcb-0d4ff876fd32\":{\"roots\":{\"references\":[{\"attributes\":{\"below\":[{\"id\":\"610c553b-f833-4bc3-a8d1-34be89013b53\",\"type\":\"LinearAxis\"}],\"left\":[{\"id\":\"db1da368-b5df-4a60-ab04-01dd3e2f64c7\",\"type\":\"LinearAxis\"}],\"plot_height\":250,\"plot_width\":400,\"renderers\":[{\"id\":\"610c553b-f833-4bc3-a8d1-34be89013b53\",\"type\":\"LinearAxis\"},{\"id\":\"e663f918-6a82-45b0-aae2-c11131bb1660\",\"type\":\"Grid\"},{\"id\":\"db1da368-b5df-4a60-ab04-01dd3e2f64c7\",\"type\":\"LinearAxis\"},{\"id\":\"607b1241-cdff-4011-b8a9-b5ea375e9f1f\",\"type\":\"Grid\"},{\"id\":\"7b0dff4b-c00a-4a36-ad8a-c352edfadadc\",\"type\":\"BoxAnnotation\"},{\"id\":\"d6167bac-fe4a-4ca3-8b9a-600e4f2c930a\",\"type\":\"GlyphRenderer\"},{\"id\":\"c87a2091-0797-45cf-98c5-1aa3ed8d8736\",\"type\":\"GlyphRenderer\"}],\"title\":{\"id\":\"ddadd9d9-cbeb-4d4b-aefc-dba2196f1f2d\",\"type\":\"Title\"},\"toolbar\":{\"id\":\"8603d930-25e7-4bd5-b675-e232da8d3d33\",\"type\":\"Toolbar\"},\"x_range\":{\"id\":\"84d9e73a-0133-4974-ae89-e735da45477e\",\"type\":\"DataRange1d\"},\"x_scale\":{\"id\":\"8321455a-646d-4baa-9e84-45fe10cf5e91\",\"type\":\"LinearScale\"},\"y_range\":{\"id\":\"c020960e-6c37-4262-acf6-3c8d7c4c7977\",\"type\":\"DataRange1d\"},\"y_scale\":{\"id\":\"8966a457-2a8a-418d-a3c8-c8c1bf695be8\",\"type\":\"LinearScale\"}},\"id\":\"42ed6f95-866b-483f-b3ad-93d519687805\",\"subtype\":\"Figure\",\"type\":\"Plot\"},{\"attributes\":{\"callback\":null,\"column_names\":[\"x\"],\"data\":{\"x\":{\"__ndarray__\":\"AAAAAAAAAACRGkt8Vz+wP5EaS3xXP8A/2qdwOgNfyD+RGkt8Vz/QPzXhXVstT9Q/2qdwOgNf2D9+boMZ2W7cP5EaS3xXP+A/433Ua0JH4j814V1bLU/kP4dE50oYV+Y/2qdwOgNf6D8sC/op7mbqP35ugxnZbuw/0NEMCcR27j+RGkt8Vz/wPzrMD/RMQ/E/433Ua0JH8j+ML5njN0vzPzXhXVstT/Q/3pIi0yJT9T+HROdKGFf2PzD2q8INW/c/2qdwOgNf+D+DWTWy+GL5PywL+inuZvo/1by+oeNq+z9+boMZ2W78PycgSJHOcv0/0NEMCcR2/j95g9GAuXr/P5EaS3xXPwBAZnMtOFLBAEA6zA/0TEMBQA8l8q9HxQFA433Ua0JHAkC41rYnPckCQIwvmeM3SwNAYYh7nzLNA0A14V1bLU8EQAo6QBco0QRA3pIi0yJTBUCz6wSPHdUFQIdE50oYVwZAXJ3JBhPZBkAw9qvCDVsHQAVPjn4I3QdA2qdwOgNfCECuAFP2/eAIQINZNbL4YglAV7IXbvPkCUAsC/op7mYKQABk3OXo6ApA1by+oeNqC0CpFaFd3uwLQH5ugxnZbgxAUsdl1dPwDEAnIEiRznINQPt4Kk3J9A1A0NEMCcR2DkCkKu/EvvgOQHmD0YC5eg9ATdyzPLT8D0CRGkt8Vz8QQPtGPNpUgBBAZnMtOFLBEEDQnx6WTwIRQDrMD/RMQxFApPgAUkqEEUAPJfKvR8URQHlR4w1FBhJA433Ua0JHEkBNqsXJP4gSQLjWtic9yRJAIgOohToKE0CML5njN0sTQPZbikE1jBNAYYh7nzLNE0DLtGz9Lw4UQDXhXVstTxRAoA1PuSqQFEAKOkAXKNEUQHRmMXUlEhVA3pIi0yJTFUBJvxMxIJQVQLPrBI8d1RVAHRj27BoWFkCHROdKGFcWQPJw2KgVmBZAXJ3JBhPZFkDGybpkEBoXQDD2q8INWxdAmyKdIAucF0AFT45+CN0XQG97f9wFHhhA2qdwOgNfGEBE1GGYAKAYQK4AU/b94BhAGC1EVPshGUA=\",\"dtype\":\"float64\",\"shape\":[100]}},\"selected\":null,\"selection_policy\":null},\"id\":\"d4124020-0943-46b6-ab98-e8c417ab6404\",\"type\":\"ColumnDataSource\"},{\"attributes\":{},\"id\":\"63a31a8f-a7ce-470e-86ec-c250abb13082\",\"type\":\"BasicTickFormatter\"},{\"attributes\":{\"func\":\"var transformer;\\ntransformer = function () {\\n    return Math.cos(x);\\n};\\nreturn transformer();\\n\",\"v_func\":\"var transformer;\\ntransformer = function () {\\n    return (function list_comprehenson () {var res = [];var x, iter0, i0;iter0 = window.Array[\\\"from\\\"](xs);if ((typeof iter0 === \\\"object\\\") && (!Array.isArray(iter0))) {iter0 = Object.keys(iter0);}for (i0=0; i0<iter0.length; i0++) {x = iter0[i0];{res.push(Math.cos(x));}}return res;}).apply(this);\\n};\\nreturn transformer();\\n\"},\"id\":\"067e9ddb-ec47-4330-8ebe-bbd830e1781b\",\"type\":\"CustomJSTransform\"},{\"attributes\":{\"active_drag\":\"auto\",\"active_inspect\":\"auto\",\"active_scroll\":\"auto\",\"active_tap\":\"auto\",\"tools\":[{\"id\":\"b5702a07-68e2-41df-bdfe-b2c923f5250f\",\"type\":\"PanTool\"},{\"id\":\"485c2853-1c4e-4d64-81eb-3ceeecece72e\",\"type\":\"WheelZoomTool\"},{\"id\":\"2f258702-f52c-44cc-9fe1-f85e53d02b74\",\"type\":\"BoxZoomTool\"},{\"id\":\"4ab825ed-de19-4873-bef3-61b564554ffc\",\"type\":\"SaveTool\"},{\"id\":\"7b808e26-3ff1-4b43-ae85-d23958d4eee2\",\"type\":\"ResetTool\"},{\"id\":\"c042cf1c-e5da-4b41-91c7-fab71d66c911\",\"type\":\"HelpTool\"}]},\"id\":\"8603d930-25e7-4bd5-b675-e232da8d3d33\",\"type\":\"Toolbar\"},{\"attributes\":{\"source\":{\"id\":\"d4124020-0943-46b6-ab98-e8c417ab6404\",\"type\":\"ColumnDataSource\"}},\"id\":\"41fe7ce5-bab5-402d-8a6e-ca4f78621bf4\",\"type\":\"CDSView\"},{\"attributes\":{\"callback\":null},\"id\":\"84d9e73a-0133-4974-ae89-e735da45477e\",\"type\":\"DataRange1d\"},{\"attributes\":{\"line_alpha\":0.1,\"line_color\":\"#1f77b4\",\"x\":{\"field\":\"x\"},\"y\":{\"field\":\"x\",\"transform\":{\"id\":\"e3448965-cbab-4d64-af5c-ef4524e3d730\",\"type\":\"CustomJSTransform\"}}},\"id\":\"b8060962-8244-44ca-83b6-9972b32500fb\",\"type\":\"Line\"},{\"attributes\":{\"callback\":null},\"id\":\"c020960e-6c37-4262-acf6-3c8d7c4c7977\",\"type\":\"DataRange1d\"},{\"attributes\":{\"data_source\":{\"id\":\"d4124020-0943-46b6-ab98-e8c417ab6404\",\"type\":\"ColumnDataSource\"},\"glyph\":{\"id\":\"b531312a-5655-4504-af41-6521594eece1\",\"type\":\"Line\"},\"hover_glyph\":null,\"muted_glyph\":null,\"nonselection_glyph\":{\"id\":\"b8060962-8244-44ca-83b6-9972b32500fb\",\"type\":\"Line\"},\"selection_glyph\":null,\"view\":{\"id\":\"41fe7ce5-bab5-402d-8a6e-ca4f78621bf4\",\"type\":\"CDSView\"}},\"id\":\"d6167bac-fe4a-4ca3-8b9a-600e4f2c930a\",\"type\":\"GlyphRenderer\"},{\"attributes\":{\"plot\":null,\"text\":\"\"},\"id\":\"ddadd9d9-cbeb-4d4b-aefc-dba2196f1f2d\",\"type\":\"Title\"},{\"attributes\":{},\"id\":\"8321455a-646d-4baa-9e84-45fe10cf5e91\",\"type\":\"LinearScale\"},{\"attributes\":{},\"id\":\"8966a457-2a8a-418d-a3c8-c8c1bf695be8\",\"type\":\"LinearScale\"},{\"attributes\":{},\"id\":\"2b9529c3-8cbf-4d71-8480-34ff1191c998\",\"type\":\"BasicTickFormatter\"},{\"attributes\":{\"plot\":{\"id\":\"42ed6f95-866b-483f-b3ad-93d519687805\",\"subtype\":\"Figure\",\"type\":\"Plot\"},\"ticker\":{\"id\":\"9045dd91-46cb-464d-a6cc-e1f3263ac5d9\",\"type\":\"BasicTicker\"}},\"id\":\"e663f918-6a82-45b0-aae2-c11131bb1660\",\"type\":\"Grid\"},{\"attributes\":{\"bottom_units\":\"screen\",\"fill_alpha\":{\"value\":0.5},\"fill_color\":{\"value\":\"lightgrey\"},\"left_units\":\"screen\",\"level\":\"overlay\",\"line_alpha\":{\"value\":1.0},\"line_color\":{\"value\":\"black\"},\"line_dash\":[4,4],\"line_width\":{\"value\":2},\"plot\":null,\"render_mode\":\"css\",\"right_units\":\"screen\",\"top_units\":\"screen\"},\"id\":\"7b0dff4b-c00a-4a36-ad8a-c352edfadadc\",\"type\":\"BoxAnnotation\"},{\"attributes\":{\"line_alpha\":0.1,\"line_color\":\"#1f77b4\",\"x\":{\"field\":\"x\"},\"y\":{\"field\":\"x\",\"transform\":{\"id\":\"067e9ddb-ec47-4330-8ebe-bbd830e1781b\",\"type\":\"CustomJSTransform\"}}},\"id\":\"bbd59cbd-3986-4b77-90af-6743bf04e9cd\",\"type\":\"Line\"},{\"attributes\":{\"formatter\":{\"id\":\"2b9529c3-8cbf-4d71-8480-34ff1191c998\",\"type\":\"BasicTickFormatter\"},\"plot\":{\"id\":\"42ed6f95-866b-483f-b3ad-93d519687805\",\"subtype\":\"Figure\",\"type\":\"Plot\"},\"ticker\":{\"id\":\"9045dd91-46cb-464d-a6cc-e1f3263ac5d9\",\"type\":\"BasicTicker\"}},\"id\":\"610c553b-f833-4bc3-a8d1-34be89013b53\",\"type\":\"LinearAxis\"},{\"attributes\":{},\"id\":\"9045dd91-46cb-464d-a6cc-e1f3263ac5d9\",\"type\":\"BasicTicker\"},{\"attributes\":{\"formatter\":{\"id\":\"63a31a8f-a7ce-470e-86ec-c250abb13082\",\"type\":\"BasicTickFormatter\"},\"plot\":{\"id\":\"42ed6f95-866b-483f-b3ad-93d519687805\",\"subtype\":\"Figure\",\"type\":\"Plot\"},\"ticker\":{\"id\":\"ed3f2342-86ef-42eb-97fc-9ac52d2aebf4\",\"type\":\"BasicTicker\"}},\"id\":\"db1da368-b5df-4a60-ab04-01dd3e2f64c7\",\"type\":\"LinearAxis\"},{\"attributes\":{},\"id\":\"ed3f2342-86ef-42eb-97fc-9ac52d2aebf4\",\"type\":\"BasicTicker\"},{\"attributes\":{\"dimension\":1,\"plot\":{\"id\":\"42ed6f95-866b-483f-b3ad-93d519687805\",\"subtype\":\"Figure\",\"type\":\"Plot\"},\"ticker\":{\"id\":\"ed3f2342-86ef-42eb-97fc-9ac52d2aebf4\",\"type\":\"BasicTicker\"}},\"id\":\"607b1241-cdff-4011-b8a9-b5ea375e9f1f\",\"type\":\"Grid\"},{\"attributes\":{\"line_color\":\"red\",\"x\":{\"field\":\"x\"},\"y\":{\"field\":\"x\",\"transform\":{\"id\":\"067e9ddb-ec47-4330-8ebe-bbd830e1781b\",\"type\":\"CustomJSTransform\"}}},\"id\":\"3929aa93-2c0a-47c9-a962-6976a51354b6\",\"type\":\"Line\"},{\"attributes\":{\"func\":\"var transformer;\\ntransformer = function () {\\n    return Math.sin(x);\\n};\\nreturn transformer();\\n\",\"v_func\":\"var transformer;\\ntransformer = function () {\\n    return (function list_comprehenson () {var res = [];var x, iter0, i0;iter0 = window.Array[\\\"from\\\"](xs);if ((typeof iter0 === \\\"object\\\") && (!Array.isArray(iter0))) {iter0 = Object.keys(iter0);}for (i0=0; i0<iter0.length; i0++) {x = iter0[i0];{res.push(Math.sin(x));}}return res;}).apply(this);\\n};\\nreturn transformer();\\n\"},\"id\":\"e3448965-cbab-4d64-af5c-ef4524e3d730\",\"type\":\"CustomJSTransform\"},{\"attributes\":{\"source\":{\"id\":\"d4124020-0943-46b6-ab98-e8c417ab6404\",\"type\":\"ColumnDataSource\"}},\"id\":\"38a846c3-295b-45cd-9519-d12a2f098a35\",\"type\":\"CDSView\"},{\"attributes\":{\"data_source\":{\"id\":\"d4124020-0943-46b6-ab98-e8c417ab6404\",\"type\":\"ColumnDataSource\"},\"glyph\":{\"id\":\"3929aa93-2c0a-47c9-a962-6976a51354b6\",\"type\":\"Line\"},\"hover_glyph\":null,\"muted_glyph\":null,\"nonselection_glyph\":{\"id\":\"bbd59cbd-3986-4b77-90af-6743bf04e9cd\",\"type\":\"Line\"},\"selection_glyph\":null,\"view\":{\"id\":\"38a846c3-295b-45cd-9519-d12a2f098a35\",\"type\":\"CDSView\"}},\"id\":\"c87a2091-0797-45cf-98c5-1aa3ed8d8736\",\"type\":\"GlyphRenderer\"},{\"attributes\":{},\"id\":\"b5702a07-68e2-41df-bdfe-b2c923f5250f\",\"type\":\"PanTool\"},{\"attributes\":{},\"id\":\"485c2853-1c4e-4d64-81eb-3ceeecece72e\",\"type\":\"WheelZoomTool\"},{\"attributes\":{\"overlay\":{\"id\":\"7b0dff4b-c00a-4a36-ad8a-c352edfadadc\",\"type\":\"BoxAnnotation\"}},\"id\":\"2f258702-f52c-44cc-9fe1-f85e53d02b74\",\"type\":\"BoxZoomTool\"},{\"attributes\":{},\"id\":\"4ab825ed-de19-4873-bef3-61b564554ffc\",\"type\":\"SaveTool\"},{\"attributes\":{},\"id\":\"7b808e26-3ff1-4b43-ae85-d23958d4eee2\",\"type\":\"ResetTool\"},{\"attributes\":{},\"id\":\"c042cf1c-e5da-4b41-91c7-fab71d66c911\",\"type\":\"HelpTool\"},{\"attributes\":{\"line_color\":\"#1f77b4\",\"x\":{\"field\":\"x\"},\"y\":{\"field\":\"x\",\"transform\":{\"id\":\"e3448965-cbab-4d64-af5c-ef4524e3d730\",\"type\":\"CustomJSTransform\"}}},\"id\":\"b531312a-5655-4504-af41-6521594eece1\",\"type\":\"Line\"}],\"root_ids\":[\"42ed6f95-866b-483f-b3ad-93d519687805\"]},\"title\":\"Bokeh Application\",\"version\":\"0.12.15\"}};\n",
       "  var render_items = [{\"docid\":\"4cd23114-b964-4f6e-abcb-0d4ff876fd32\",\"elementid\":\"77c6715c-b7bd-4334-97db-81046fc7fcbf\",\"modelid\":\"42ed6f95-866b-483f-b3ad-93d519687805\"}];\n",
       "  root.Bokeh.embed.embed_items_notebook(docs_json, render_items);\n",
       "\n",
       "  }\n",
       "  if (root.Bokeh !== undefined) {\n",
       "    embed_document(root);\n",
       "  } else {\n",
       "    var attempts = 0;\n",
       "    var timer = setInterval(function(root) {\n",
       "      if (root.Bokeh !== undefined) {\n",
       "        embed_document(root);\n",
       "        clearInterval(timer);\n",
       "      }\n",
       "      attempts++;\n",
       "      if (attempts > 100) {\n",
       "        console.log(\"Bokeh: ERROR: Unable to run BokehJS code because BokehJS library is missing\")\n",
       "        clearInterval(timer);\n",
       "      }\n",
       "    }, 10, root)\n",
       "  }\n",
       "})(window);"
      ],
      "application/vnd.bokehjs_exec.v0+json": ""
     },
     "metadata": {
      "application/vnd.bokehjs_exec.v0+json": {
       "id": "42ed6f95-866b-483f-b3ad-93d519687805"
      }
     },
     "output_type": "display_data"
    }
   ],
   "source": [
    "from bokeh.models.transforms import CustomJSTransform\n",
    "x = np.linspace(0, 2*np.pi, 100)\n",
    "source = ColumnDataSource(data=dict(x=x))\n",
    "fig = figure(plot_width=400, plot_height=250)\n",
    "\n",
    "def trans_sin():\n",
    "    return Math.sin(x)\n",
    "\n",
    "def vtrans_sin():\n",
    "    return [Math.sin(x) for x in window.Array[\"from\"](xs)]\n",
    "\n",
    "transform_sin = CustomJSTransform.from_py_func(trans_sin, vtrans_sin)\n",
    "\n",
    "def trans_cos():\n",
    "    return Math.cos(x)\n",
    "\n",
    "def vtrans_cos():\n",
    "    return [Math.cos(x) for x in window.Array[\"from\"](xs)]\n",
    "\n",
    "transform_cos = CustomJSTransform.from_py_func(trans_cos, vtrans_cos)\n",
    "\n",
    "fig.line(\"x\", transform(\"x\", transform_sin), source=source)\n",
    "fig.line(\"x\", transform(\"x\", transform_cos), source=source, line_color=\"red\")\n",
    "show(fig)"
   ]
  },
  {
   "cell_type": "markdown",
   "metadata": {},
   "source": [
    "所有的转换函数只能针对`ColumnDataSource`对象中的某列数据进行。如果需要使用多列的数据，则可以通过关键字参数将`ColumnDataSource`对象直接传递给转换函数。在下面的`vtrans_func()`中，`source`表示`ColumnDataSource`对象，通过`source.data.x[i]`和`source.data.y[i]`可以获取`x`列与`y`列的第`i`个数值。使用这种方法的缺点是转换对象已经与数据源绑定，无法应用到多个数据源。"
   ]
  },
  {
   "cell_type": "code",
   "execution_count": 13,
   "metadata": {},
   "outputs": [
    {
     "data": {
      "text/html": [
       "\n",
       "<div class=\"bk-root\">\n",
       "    <div class=\"bk-plotdiv\" id=\"3ee5f78c-88b7-4d1c-aa75-e17bb02004c6\"></div>\n",
       "</div>"
      ]
     },
     "metadata": {},
     "output_type": "display_data"
    },
    {
     "data": {
      "application/javascript": [
       "(function(root) {\n",
       "  function embed_document(root) {\n",
       "    \n",
       "  var docs_json = {\"0cc6a9dc-670d-4964-8075-2498b72fadcc\":{\"roots\":{\"references\":[{\"attributes\":{},\"id\":\"3b885fd1-affb-48e5-a5b9-6e505987ed4b\",\"type\":\"LinearScale\"},{\"attributes\":{\"overlay\":{\"id\":\"7d6ce087-1eb3-4f75-8dd1-7268299d140e\",\"type\":\"BoxAnnotation\"}},\"id\":\"67809e20-4587-4b16-8d9e-a281bc741799\",\"type\":\"BoxZoomTool\"},{\"attributes\":{},\"id\":\"5a505969-f528-4620-84c4-394478e45a40\",\"type\":\"SaveTool\"},{\"attributes\":{},\"id\":\"112e35e7-f552-4def-b798-ebb868caf154\",\"type\":\"WheelZoomTool\"},{\"attributes\":{\"callback\":null},\"id\":\"42bcc56b-92d1-4871-9c80-cf705b7de1ea\",\"type\":\"DataRange1d\"},{\"attributes\":{},\"id\":\"d6804fd8-e7e7-43ef-9e10-34db60457e80\",\"type\":\"BasicTickFormatter\"},{\"attributes\":{\"args\":{\"source\":{\"id\":\"6c0129b9-0997-41d1-9ef9-a12e52070cfc\",\"type\":\"ColumnDataSource\"}},\"func\":\"var transformer;\\ntransformer = function (source) {\\n    source = (source === undefined) ? source: source;\\n    return 0;\\n};\\nreturn transformer(source);\\n\",\"v_func\":\"var _pyfunc_add = function (a, b) { // nargs: 2\\n    if (Array.isArray(a) && Array.isArray(b)) {\\n        return a.concat(b);\\n    } return a + b;\\n};\\nvar _pyfunc_mult = function (a, b) { // nargs: 2\\n    if ((typeof a === 'number') + (typeof b === 'number') === 1) {\\n        if (a.constructor === String) return _pymeth_repeat.call(a, b);\\n        if (b.constructor === String) return _pymeth_repeat.call(b, a);\\n        if (Array.isArray(b)) {var t=a; a=b; b=t;}\\n        if (Array.isArray(a)) {\\n            var res = []; for (var i=0; i<b; i++) res = res.concat(a);\\n            return res;\\n        }\\n    } return a * b;\\n};\\nvar _pyfunc_range = function (start, end, step) {\\nvar i, res = [];\\n    var val = start;\\n    var n = (end - start) / step;\\n    for (i=0; i<n; i++) {\\n        res.push(val);\\n        val += step;\\n    }\\n    return res;\\n};\\nvar _pymeth_repeat = function(count) { // nargs: 0\\n    if (this.repeat) return this.repeat(count);\\n    if (count < 1) return '';\\n    var result = '', pattern = this.valueOf();\\n    while (count > 1) {\\n        if (count & 1) result += pattern;\\n        count >>= 1, pattern += pattern;\\n    }\\n    return result + pattern;\\n};\\nvar transformer;\\ntransformer = function (source) {\\n    var data;\\n    source = (source === undefined) ? source: source;\\n    data = source.data;\\n    return (function list_comprehenson () {var res = [];var i, iter0, i0;iter0 = _pyfunc_range(0, data.x.length, 1);if ((typeof iter0 === \\\"object\\\") && (!Array.isArray(iter0))) {iter0 = Object.keys(iter0);}for (i0=0; i0<iter0.length; i0++) {i = iter0[i0];{res.push(_pyfunc_mult(10, (Math.pow((_pyfunc_add(Math.pow(data.x[i], 2), Math.pow(data.y[i], 2))), 0.5))));}}return res;}).apply(this);\\n};\\nreturn transformer(source);\\n\"},\"id\":\"23fe929e-5ad4-47fd-b888-d6429ac4378e\",\"type\":\"CustomJSTransform\"},{\"attributes\":{\"callback\":null},\"id\":\"76c769cc-32d0-4eee-9168-65925144b53d\",\"type\":\"DataRange1d\"},{\"attributes\":{\"fill_alpha\":{\"value\":0.1},\"fill_color\":{\"value\":\"#1f77b4\"},\"line_alpha\":{\"value\":0.1},\"line_color\":{\"value\":\"#1f77b4\"},\"size\":{\"field\":\"x\",\"transform\":{\"id\":\"23fe929e-5ad4-47fd-b888-d6429ac4378e\",\"type\":\"CustomJSTransform\"},\"units\":\"screen\"},\"x\":{\"field\":\"x\"},\"y\":{\"field\":\"y\"}},\"id\":\"0c526d55-73c1-466e-aa42-b76e76ceb840\",\"type\":\"Circle\"},{\"attributes\":{},\"id\":\"8a3e8efd-ffab-446e-9b72-2673d79b3fa2\",\"type\":\"BasicTicker\"},{\"attributes\":{\"callback\":null,\"column_names\":[\"x\",\"y\"],\"data\":{\"x\":{\"__ndarray__\":\"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\",\"dtype\":\"float64\",\"shape\":[500]},\"y\":{\"__ndarray__\":\"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\",\"dtype\":\"float64\",\"shape\":[500]}},\"selected\":null,\"selection_policy\":null},\"id\":\"6c0129b9-0997-41d1-9ef9-a12e52070cfc\",\"type\":\"ColumnDataSource\"},{\"attributes\":{\"fill_color\":{\"value\":\"#1f77b4\"},\"line_color\":{\"value\":null},\"size\":{\"field\":\"x\",\"transform\":{\"id\":\"23fe929e-5ad4-47fd-b888-d6429ac4378e\",\"type\":\"CustomJSTransform\"},\"units\":\"screen\"},\"x\":{\"field\":\"x\"},\"y\":{\"field\":\"y\"}},\"id\":\"b9b88c82-bea7-4279-8bef-780c700a4d23\",\"type\":\"Circle\"},{\"attributes\":{},\"id\":\"61c1a210-6194-4b9e-8ff7-b682e6cc3f32\",\"type\":\"BasicTickFormatter\"},{\"attributes\":{\"below\":[{\"id\":\"249c41b7-27a0-4235-8123-ba70a7fe643d\",\"type\":\"LinearAxis\"}],\"left\":[{\"id\":\"48c32a3e-570a-4e7c-b7e3-592276105fac\",\"type\":\"LinearAxis\"}],\"plot_height\":300,\"plot_width\":400,\"renderers\":[{\"id\":\"249c41b7-27a0-4235-8123-ba70a7fe643d\",\"type\":\"LinearAxis\"},{\"id\":\"465bcfcc-bf18-4c68-89e2-ede8ff385937\",\"type\":\"Grid\"},{\"id\":\"48c32a3e-570a-4e7c-b7e3-592276105fac\",\"type\":\"LinearAxis\"},{\"id\":\"5e9c31e4-0242-4e1e-9291-550fa217c89f\",\"type\":\"Grid\"},{\"id\":\"7d6ce087-1eb3-4f75-8dd1-7268299d140e\",\"type\":\"BoxAnnotation\"},{\"id\":\"2e55faf2-a8ca-46e2-9452-c33e6af764e2\",\"type\":\"GlyphRenderer\"}],\"title\":{\"id\":\"9379f696-1a00-40a5-8154-f171e3ddc83e\",\"type\":\"Title\"},\"toolbar\":{\"id\":\"fd83b4ba-7d03-4476-a174-8e6c682f7abe\",\"type\":\"Toolbar\"},\"x_range\":{\"id\":\"76c769cc-32d0-4eee-9168-65925144b53d\",\"type\":\"DataRange1d\"},\"x_scale\":{\"id\":\"3b885fd1-affb-48e5-a5b9-6e505987ed4b\",\"type\":\"LinearScale\"},\"y_range\":{\"id\":\"42bcc56b-92d1-4871-9c80-cf705b7de1ea\",\"type\":\"DataRange1d\"},\"y_scale\":{\"id\":\"badab42e-95a1-4b1f-a26a-926e9ec2aee5\",\"type\":\"LinearScale\"}},\"id\":\"e9973d61-504c-4730-925b-2226dc6c0d21\",\"subtype\":\"Figure\",\"type\":\"Plot\"},{\"attributes\":{\"active_drag\":\"auto\",\"active_inspect\":\"auto\",\"active_scroll\":\"auto\",\"active_tap\":\"auto\",\"tools\":[{\"id\":\"4d113c35-4de0-48d1-95ed-a3b6a5cf42f7\",\"type\":\"PanTool\"},{\"id\":\"112e35e7-f552-4def-b798-ebb868caf154\",\"type\":\"WheelZoomTool\"},{\"id\":\"67809e20-4587-4b16-8d9e-a281bc741799\",\"type\":\"BoxZoomTool\"},{\"id\":\"5a505969-f528-4620-84c4-394478e45a40\",\"type\":\"SaveTool\"},{\"id\":\"6a1d6012-e896-4450-8bda-9c3dee9ba42d\",\"type\":\"ResetTool\"},{\"id\":\"cb2073cb-75ca-4c5c-b15a-771eff8c5325\",\"type\":\"HelpTool\"}]},\"id\":\"fd83b4ba-7d03-4476-a174-8e6c682f7abe\",\"type\":\"Toolbar\"},{\"attributes\":{\"plot\":null,\"text\":\"\"},\"id\":\"9379f696-1a00-40a5-8154-f171e3ddc83e\",\"type\":\"Title\"},{\"attributes\":{\"formatter\":{\"id\":\"d6804fd8-e7e7-43ef-9e10-34db60457e80\",\"type\":\"BasicTickFormatter\"},\"plot\":{\"id\":\"e9973d61-504c-4730-925b-2226dc6c0d21\",\"subtype\":\"Figure\",\"type\":\"Plot\"},\"ticker\":{\"id\":\"8a3e8efd-ffab-446e-9b72-2673d79b3fa2\",\"type\":\"BasicTicker\"}},\"id\":\"48c32a3e-570a-4e7c-b7e3-592276105fac\",\"type\":\"LinearAxis\"},{\"attributes\":{\"data_source\":{\"id\":\"6c0129b9-0997-41d1-9ef9-a12e52070cfc\",\"type\":\"ColumnDataSource\"},\"glyph\":{\"id\":\"b9b88c82-bea7-4279-8bef-780c700a4d23\",\"type\":\"Circle\"},\"hover_glyph\":null,\"muted_glyph\":null,\"nonselection_glyph\":{\"id\":\"0c526d55-73c1-466e-aa42-b76e76ceb840\",\"type\":\"Circle\"},\"selection_glyph\":null,\"view\":{\"id\":\"6f45d95a-acde-4236-8364-e0e99970cda3\",\"type\":\"CDSView\"}},\"id\":\"2e55faf2-a8ca-46e2-9452-c33e6af764e2\",\"type\":\"GlyphRenderer\"},{\"attributes\":{},\"id\":\"d4a26cd9-a0e4-4c95-85bb-2974cda4f0d7\",\"type\":\"BasicTicker\"},{\"attributes\":{\"source\":{\"id\":\"6c0129b9-0997-41d1-9ef9-a12e52070cfc\",\"type\":\"ColumnDataSource\"}},\"id\":\"6f45d95a-acde-4236-8364-e0e99970cda3\",\"type\":\"CDSView\"},{\"attributes\":{\"dimension\":1,\"plot\":{\"id\":\"e9973d61-504c-4730-925b-2226dc6c0d21\",\"subtype\":\"Figure\",\"type\":\"Plot\"},\"ticker\":{\"id\":\"8a3e8efd-ffab-446e-9b72-2673d79b3fa2\",\"type\":\"BasicTicker\"}},\"id\":\"5e9c31e4-0242-4e1e-9291-550fa217c89f\",\"type\":\"Grid\"},{\"attributes\":{},\"id\":\"4d113c35-4de0-48d1-95ed-a3b6a5cf42f7\",\"type\":\"PanTool\"},{\"attributes\":{\"bottom_units\":\"screen\",\"fill_alpha\":{\"value\":0.5},\"fill_color\":{\"value\":\"lightgrey\"},\"left_units\":\"screen\",\"level\":\"overlay\",\"line_alpha\":{\"value\":1.0},\"line_color\":{\"value\":\"black\"},\"line_dash\":[4,4],\"line_width\":{\"value\":2},\"plot\":null,\"render_mode\":\"css\",\"right_units\":\"screen\",\"top_units\":\"screen\"},\"id\":\"7d6ce087-1eb3-4f75-8dd1-7268299d140e\",\"type\":\"BoxAnnotation\"},{\"attributes\":{\"formatter\":{\"id\":\"61c1a210-6194-4b9e-8ff7-b682e6cc3f32\",\"type\":\"BasicTickFormatter\"},\"plot\":{\"id\":\"e9973d61-504c-4730-925b-2226dc6c0d21\",\"subtype\":\"Figure\",\"type\":\"Plot\"},\"ticker\":{\"id\":\"d4a26cd9-a0e4-4c95-85bb-2974cda4f0d7\",\"type\":\"BasicTicker\"}},\"id\":\"249c41b7-27a0-4235-8123-ba70a7fe643d\",\"type\":\"LinearAxis\"},{\"attributes\":{},\"id\":\"badab42e-95a1-4b1f-a26a-926e9ec2aee5\",\"type\":\"LinearScale\"},{\"attributes\":{},\"id\":\"cb2073cb-75ca-4c5c-b15a-771eff8c5325\",\"type\":\"HelpTool\"},{\"attributes\":{},\"id\":\"6a1d6012-e896-4450-8bda-9c3dee9ba42d\",\"type\":\"ResetTool\"},{\"attributes\":{\"plot\":{\"id\":\"e9973d61-504c-4730-925b-2226dc6c0d21\",\"subtype\":\"Figure\",\"type\":\"Plot\"},\"ticker\":{\"id\":\"d4a26cd9-a0e4-4c95-85bb-2974cda4f0d7\",\"type\":\"BasicTicker\"}},\"id\":\"465bcfcc-bf18-4c68-89e2-ede8ff385937\",\"type\":\"Grid\"}],\"root_ids\":[\"e9973d61-504c-4730-925b-2226dc6c0d21\"]},\"title\":\"Bokeh Application\",\"version\":\"0.12.15\"}};\n",
       "  var render_items = [{\"docid\":\"0cc6a9dc-670d-4964-8075-2498b72fadcc\",\"elementid\":\"3ee5f78c-88b7-4d1c-aa75-e17bb02004c6\",\"modelid\":\"e9973d61-504c-4730-925b-2226dc6c0d21\"}];\n",
       "  root.Bokeh.embed.embed_items_notebook(docs_json, render_items);\n",
       "\n",
       "  }\n",
       "  if (root.Bokeh !== undefined) {\n",
       "    embed_document(root);\n",
       "  } else {\n",
       "    var attempts = 0;\n",
       "    var timer = setInterval(function(root) {\n",
       "      if (root.Bokeh !== undefined) {\n",
       "        embed_document(root);\n",
       "        clearInterval(timer);\n",
       "      }\n",
       "      attempts++;\n",
       "      if (attempts > 100) {\n",
       "        console.log(\"Bokeh: ERROR: Unable to run BokehJS code because BokehJS library is missing\")\n",
       "        clearInterval(timer);\n",
       "      }\n",
       "    }, 10, root)\n",
       "  }\n",
       "})(window);"
      ],
      "application/vnd.bokehjs_exec.v0+json": ""
     },
     "metadata": {
      "application/vnd.bokehjs_exec.v0+json": {
       "id": "e9973d61-504c-4730-925b-2226dc6c0d21"
      }
     },
     "output_type": "display_data"
    }
   ],
   "source": [
    "x, y = np.random.normal(scale=0.2, size=(2, 500))\n",
    "source = ColumnDataSource(data=dict(x=x, y=y))\n",
    "fig = figure(plot_width=400, plot_height=300)\n",
    "\n",
    "def trans_func(source=source):\n",
    "    return 0\n",
    "\n",
    "def vtrans_func(source=source):\n",
    "    data = source.data\n",
    "    return [10 * (data.x[i]**2 + data.y[i]**2)**0.5 for i in range(len(data.x))]\n",
    "\n",
    "c = fig.circle(\"x\", \"y\", size=transform(\"x\", CustomJSTransform.from_py_func(trans_func, vtrans_func)), \n",
    "           line_color=None, source=source, alpha=1)\n",
    "\n",
    "show(fig)"
   ]
  },
  {
   "cell_type": "markdown",
   "metadata": {},
   "source": [
    "下面的`composite_transform()`可以将多个转换器合并成一个转换器。"
   ]
  },
  {
   "cell_type": "code",
   "execution_count": 14,
   "metadata": {},
   "outputs": [],
   "source": [
    "from inspect import Signature, Parameter\n",
    "\n",
    "def composite_transform(*transforms):\n",
    "    def trans_func():\n",
    "        transforms = arguments\n",
    "        res = x\n",
    "        for transform in transforms.values():\n",
    "            res = transform.compute(res)\n",
    "        return res\n",
    "\n",
    "    def vtrans_func():\n",
    "        transforms = arguments\n",
    "        res = window.Array[\"from\"](xs)\n",
    "        for transform in transforms.values():\n",
    "            res = transform.v_compute(res)\n",
    "        return res\n",
    "    \n",
    "    parameters = [Parameter(\"T{:02d}\".format(i), Parameter.POSITIONAL_OR_KEYWORD, default=trans) \n",
    "                      for i, trans in enumerate(transforms)]\n",
    "    trans_func.__signature__ = Signature(parameters=parameters)\n",
    "    vtrans_func.__signature__ = Signature(parameters=parameters)\n",
    "    trans = CustomJSTransform.from_py_func(trans_func, vtrans_func)\n",
    "    return trans"
   ]
  },
  {
   "cell_type": "markdown",
   "metadata": {},
   "source": [
    "下面使用将`composite_transform()`将两个转换器合并：先用`value_transform`通过`x`和`y`列计算出数值，然后用`cmap_transform`将数值转换为颜色。"
   ]
  },
  {
   "cell_type": "code",
   "execution_count": 15,
   "metadata": {},
   "outputs": [
    {
     "data": {
      "text/html": [
       "\n",
       "<div class=\"bk-root\">\n",
       "    <div class=\"bk-plotdiv\" id=\"0876a270-3e19-4647-9833-a694ad2dbc90\"></div>\n",
       "</div>"
      ]
     },
     "metadata": {},
     "output_type": "display_data"
    },
    {
     "data": {
      "application/javascript": [
       "(function(root) {\n",
       "  function embed_document(root) {\n",
       "    \n",
       "  var docs_json = {\"288e3437-a5a6-423a-9d25-1918cccb1f1c\":{\"roots\":{\"references\":[{\"attributes\":{\"high\":0.6,\"low\":0,\"palette\":[\"#440154\",\"#440255\",\"#440357\",\"#450558\",\"#45065A\",\"#45085B\",\"#46095C\",\"#460B5E\",\"#460C5F\",\"#460E61\",\"#470F62\",\"#471163\",\"#471265\",\"#471466\",\"#471567\",\"#471669\",\"#47186A\",\"#48196B\",\"#481A6C\",\"#481C6E\",\"#481D6F\",\"#481E70\",\"#482071\",\"#482172\",\"#482273\",\"#482374\",\"#472575\",\"#472676\",\"#472777\",\"#472878\",\"#472A79\",\"#472B7A\",\"#472C7B\",\"#462D7C\",\"#462F7C\",\"#46307D\",\"#46317E\",\"#45327F\",\"#45347F\",\"#453580\",\"#453681\",\"#443781\",\"#443982\",\"#433A83\",\"#433B83\",\"#433C84\",\"#423D84\",\"#423E85\",\"#424085\",\"#414186\",\"#414286\",\"#404387\",\"#404487\",\"#3F4587\",\"#3F4788\",\"#3E4888\",\"#3E4989\",\"#3D4A89\",\"#3D4B89\",\"#3D4C89\",\"#3C4D8A\",\"#3C4E8A\",\"#3B508A\",\"#3B518A\",\"#3A528B\",\"#3A538B\",\"#39548B\",\"#39558B\",\"#38568B\",\"#38578C\",\"#37588C\",\"#37598C\",\"#365A8C\",\"#365B8C\",\"#355C8C\",\"#355D8C\",\"#345E8D\",\"#345F8D\",\"#33608D\",\"#33618D\",\"#32628D\",\"#32638D\",\"#31648D\",\"#31658D\",\"#31668D\",\"#30678D\",\"#30688D\",\"#2F698D\",\"#2F6A8D\",\"#2E6B8E\",\"#2E6C8E\",\"#2E6D8E\",\"#2D6E8E\",\"#2D6F8E\",\"#2C708E\",\"#2C718E\",\"#2C728E\",\"#2B738E\",\"#2B748E\",\"#2A758E\",\"#2A768E\",\"#2A778E\",\"#29788E\",\"#29798E\",\"#287A8E\",\"#287A8E\",\"#287B8E\",\"#277C8E\",\"#277D8E\",\"#277E8E\",\"#267F8E\",\"#26808E\",\"#26818E\",\"#25828E\",\"#25838D\",\"#24848D\",\"#24858D\",\"#24868D\",\"#23878D\",\"#23888D\",\"#23898D\",\"#22898D\",\"#228A8D\",\"#228B8D\",\"#218C8D\",\"#218D8C\",\"#218E8C\",\"#208F8C\",\"#20908C\",\"#20918C\",\"#1F928C\",\"#1F938B\",\"#1F948B\",\"#1F958B\",\"#1F968B\",\"#1E978A\",\"#1E988A\",\"#1E998A\",\"#1E998A\",\"#1E9A89\",\"#1E9B89\",\"#1E9C89\",\"#1E9D88\",\"#1E9E88\",\"#1E9F88\",\"#1EA087\",\"#1FA187\",\"#1FA286\",\"#1FA386\",\"#20A485\",\"#20A585\",\"#21A685\",\"#21A784\",\"#22A784\",\"#23A883\",\"#23A982\",\"#24AA82\",\"#25AB81\",\"#26AC81\",\"#27AD80\",\"#28AE7F\",\"#29AF7F\",\"#2AB07E\",\"#2BB17D\",\"#2CB17D\",\"#2EB27C\",\"#2FB37B\",\"#30B47A\",\"#32B57A\",\"#33B679\",\"#35B778\",\"#36B877\",\"#38B976\",\"#39B976\",\"#3BBA75\",\"#3DBB74\",\"#3EBC73\",\"#40BD72\",\"#42BE71\",\"#44BE70\",\"#45BF6F\",\"#47C06E\",\"#49C16D\",\"#4BC26C\",\"#4DC26B\",\"#4FC369\",\"#51C468\",\"#53C567\",\"#55C666\",\"#57C665\",\"#59C764\",\"#5BC862\",\"#5EC961\",\"#60C960\",\"#62CA5F\",\"#64CB5D\",\"#67CC5C\",\"#69CC5B\",\"#6BCD59\",\"#6DCE58\",\"#70CE56\",\"#72CF55\",\"#74D054\",\"#77D052\",\"#79D151\",\"#7CD24F\",\"#7ED24E\",\"#81D34C\",\"#83D34B\",\"#86D449\",\"#88D547\",\"#8BD546\",\"#8DD644\",\"#90D643\",\"#92D741\",\"#95D73F\",\"#97D83E\",\"#9AD83C\",\"#9DD93A\",\"#9FD938\",\"#A2DA37\",\"#A5DA35\",\"#A7DB33\",\"#AADB32\",\"#ADDC30\",\"#AFDC2E\",\"#B2DD2C\",\"#B5DD2B\",\"#B7DD29\",\"#BADE27\",\"#BDDE26\",\"#BFDF24\",\"#C2DF22\",\"#C5DF21\",\"#C7E01F\",\"#CAE01E\",\"#CDE01D\",\"#CFE11C\",\"#D2E11B\",\"#D4E11A\",\"#D7E219\",\"#DAE218\",\"#DCE218\",\"#DFE318\",\"#E1E318\",\"#E4E318\",\"#E7E419\",\"#E9E419\",\"#ECE41A\",\"#EEE51B\",\"#F1E51C\",\"#F3E51E\",\"#F6E61F\",\"#F8E621\",\"#FAE622\",\"#FDE724\"]},\"id\":\"624c5245-a554-4a01-9607-1063f630ed93\",\"type\":\"LinearColorMapper\"},{\"attributes\":{\"overlay\":{\"id\":\"ba6d0dbd-82a9-4160-b8c5-802b7c3d5b64\",\"type\":\"BoxAnnotation\"}},\"id\":\"10500b95-381e-4be3-b1b0-15a2d0b12915\",\"type\":\"BoxZoomTool\"},{\"attributes\":{},\"id\":\"836d078b-c550-444a-9c94-5f2ccb13c08c\",\"type\":\"BasicTicker\"},{\"attributes\":{\"args\":{\"source\":{\"id\":\"98bf53dc-a44f-46d6-9527-86f00b62795a\",\"type\":\"ColumnDataSource\"}},\"func\":\"var transformer;\\ntransformer = function (source) {\\n    source = (source === undefined) ? source: source;\\n    return 0;\\n};\\nreturn transformer(source);\\n\",\"v_func\":\"var _pyfunc_add = function (a, b) { // nargs: 2\\n    if (Array.isArray(a) && Array.isArray(b)) {\\n        return a.concat(b);\\n    } return a + b;\\n};\\nvar _pyfunc_range = function (start, end, step) {\\nvar i, res = [];\\n    var val = start;\\n    var n = (end - start) / step;\\n    for (i=0; i<n; i++) {\\n        res.push(val);\\n        val += step;\\n    }\\n    return res;\\n};\\nvar transformer;\\ntransformer = function (source) {\\n    var data;\\n    source = (source === undefined) ? source: source;\\n    data = source.data;\\n    return (function list_comprehenson () {var res = [];var i, iter0, i0;iter0 = _pyfunc_range(0, data.x.length, 1);if ((typeof iter0 === \\\"object\\\") && (!Array.isArray(iter0))) {iter0 = Object.keys(iter0);}for (i0=0; i0<iter0.length; i0++) {i = iter0[i0];{res.push(Math.pow((_pyfunc_add(Math.pow(data.x[i], 2), Math.pow(data.y[i], 2))), 0.5));}}return res;}).apply(this);\\n};\\nreturn transformer(source);\\n\"},\"id\":\"fe3fc100-4aed-4608-a4e6-b05bc32629b7\",\"type\":\"CustomJSTransform\"},{\"attributes\":{\"bottom_units\":\"screen\",\"fill_alpha\":{\"value\":0.5},\"fill_color\":{\"value\":\"lightgrey\"},\"left_units\":\"screen\",\"level\":\"overlay\",\"line_alpha\":{\"value\":1.0},\"line_color\":{\"value\":\"black\"},\"line_dash\":[4,4],\"line_width\":{\"value\":2},\"plot\":null,\"render_mode\":\"css\",\"right_units\":\"screen\",\"top_units\":\"screen\"},\"id\":\"ba6d0dbd-82a9-4160-b8c5-802b7c3d5b64\",\"type\":\"BoxAnnotation\"},{\"attributes\":{\"below\":[{\"id\":\"95784b31-a219-4e84-89af-a64571303391\",\"type\":\"LinearAxis\"}],\"left\":[{\"id\":\"bf7e7b2a-693a-4034-ade2-70a72c47e671\",\"type\":\"LinearAxis\"}],\"plot_height\":300,\"plot_width\":400,\"renderers\":[{\"id\":\"95784b31-a219-4e84-89af-a64571303391\",\"type\":\"LinearAxis\"},{\"id\":\"c41b59e7-c12c-4873-8481-041f632b6932\",\"type\":\"Grid\"},{\"id\":\"bf7e7b2a-693a-4034-ade2-70a72c47e671\",\"type\":\"LinearAxis\"},{\"id\":\"64f92e0c-95bb-4e7f-b742-8d7ebbb5837e\",\"type\":\"Grid\"},{\"id\":\"ba6d0dbd-82a9-4160-b8c5-802b7c3d5b64\",\"type\":\"BoxAnnotation\"},{\"id\":\"c713ec66-59eb-42ac-909d-d132bd3cf558\",\"type\":\"GlyphRenderer\"},{\"id\":\"29f91370-b37b-4429-9c67-b90f65170575\",\"type\":\"ColorBar\"}],\"right\":[{\"id\":\"29f91370-b37b-4429-9c67-b90f65170575\",\"type\":\"ColorBar\"}],\"title\":{\"id\":\"3bfa92f7-2438-4eae-aeea-9226c95e15c2\",\"type\":\"Title\"},\"toolbar\":{\"id\":\"d17fef3e-168b-49f1-af85-304091201cd0\",\"type\":\"Toolbar\"},\"x_range\":{\"id\":\"a4b00bc4-3115-433d-b6ca-6c81d3caa200\",\"type\":\"DataRange1d\"},\"x_scale\":{\"id\":\"f6b8f775-c1a4-41b7-87f4-ffd2f84b3c6e\",\"type\":\"LinearScale\"},\"y_range\":{\"id\":\"88457e43-2fdd-4882-9e38-2282ee41c9e6\",\"type\":\"DataRange1d\"},\"y_scale\":{\"id\":\"8a10a78c-46ec-4f9c-910a-93a9da250853\",\"type\":\"LinearScale\"}},\"id\":\"3c6b61ee-5cb7-40b1-a86c-f3cfaf887a5e\",\"subtype\":\"Figure\",\"type\":\"Plot\"},{\"attributes\":{\"callback\":null},\"id\":\"a4b00bc4-3115-433d-b6ca-6c81d3caa200\",\"type\":\"DataRange1d\"},{\"attributes\":{},\"id\":\"8a10a78c-46ec-4f9c-910a-93a9da250853\",\"type\":\"LinearScale\"},{\"attributes\":{},\"id\":\"f6b8f775-c1a4-41b7-87f4-ffd2f84b3c6e\",\"type\":\"LinearScale\"},{\"attributes\":{},\"id\":\"1d634c90-1e9f-4faa-828c-2b4a04c76841\",\"type\":\"BasicTickFormatter\"},{\"attributes\":{\"dimension\":1,\"plot\":{\"id\":\"3c6b61ee-5cb7-40b1-a86c-f3cfaf887a5e\",\"subtype\":\"Figure\",\"type\":\"Plot\"},\"ticker\":{\"id\":\"0089f2a9-95ad-4a09-964c-d39f2f178992\",\"type\":\"BasicTicker\"}},\"id\":\"64f92e0c-95bb-4e7f-b742-8d7ebbb5837e\",\"type\":\"Grid\"},{\"attributes\":{\"args\":{\"T00\":{\"id\":\"fe3fc100-4aed-4608-a4e6-b05bc32629b7\",\"type\":\"CustomJSTransform\"},\"T01\":{\"id\":\"624c5245-a554-4a01-9607-1063f630ed93\",\"type\":\"LinearColorMapper\"}},\"func\":\"var transformer;\\ntransformer = function () {\\n    var res, stub1_seq, transform, transforms;\\n    transforms = arguments;\\n    res = x;\\n    stub1_seq = transforms;\\n    for (transform in stub1_seq) {\\n        if (!stub1_seq.hasOwnProperty(transform)){ continue; }\\n        transform = stub1_seq[transform];\\n        res = transform.compute(res);\\n    }\\n    return res;\\n};\\nreturn transformer(T00, T01);\\n\",\"v_func\":\"var transformer;\\ntransformer = function () {\\n    var res, stub1_seq, transform, transforms;\\n    transforms = arguments;\\n    res = window.Array[\\\"from\\\"](xs);\\n    stub1_seq = transforms;\\n    for (transform in stub1_seq) {\\n        if (!stub1_seq.hasOwnProperty(transform)){ continue; }\\n        transform = stub1_seq[transform];\\n        res = transform.v_compute(res);\\n    }\\n    return res;\\n};\\nreturn transformer(T00, T01);\\n\"},\"id\":\"692ee6d0-012c-42f4-a08d-0ed4594b0536\",\"type\":\"CustomJSTransform\"},{\"attributes\":{\"source\":{\"id\":\"98bf53dc-a44f-46d6-9527-86f00b62795a\",\"type\":\"ColumnDataSource\"}},\"id\":\"77649a83-14a5-4e72-9781-7329224704ac\",\"type\":\"CDSView\"},{\"attributes\":{\"args\":{\"source\":{\"id\":\"98bf53dc-a44f-46d6-9527-86f00b62795a\",\"type\":\"ColumnDataSource\"}},\"func\":\"var transformer;\\ntransformer = function (source) {\\n    source = (source === undefined) ? source: source;\\n    return 0;\\n};\\nreturn transformer(source);\\n\",\"v_func\":\"var _pyfunc_mult = function (a, b) { // nargs: 2\\n    if ((typeof a === 'number') + (typeof b === 'number') === 1) {\\n        if (a.constructor === String) return _pymeth_repeat.call(a, b);\\n        if (b.constructor === String) return _pymeth_repeat.call(b, a);\\n        if (Array.isArray(b)) {var t=a; a=b; b=t;}\\n        if (Array.isArray(a)) {\\n            var res = []; for (var i=0; i<b; i++) res = res.concat(a);\\n            return res;\\n        }\\n    } return a * b;\\n};\\nvar _pymeth_repeat = function(count) { // nargs: 0\\n    if (this.repeat) return this.repeat(count);\\n    if (count < 1) return '';\\n    var result = '', pattern = this.valueOf();\\n    while (count > 1) {\\n        if (count & 1) result += pattern;\\n        count >>= 1, pattern += pattern;\\n    }\\n    return result + pattern;\\n};\\nvar transformer;\\ntransformer = function () {\\n    return (function list_comprehenson () {var res = [];var x, iter0, i0;iter0 = window.Array[\\\"from\\\"](xs);if ((typeof iter0 === \\\"object\\\") && (!Array.isArray(iter0))) {iter0 = Object.keys(iter0);}for (i0=0; i0<iter0.length; i0++) {x = iter0[i0];{res.push(_pyfunc_mult(10, x));}}return res;}).apply(this);\\n};\\nreturn transformer();\\n\"},\"id\":\"aa47728b-e473-4711-906e-2a269843e828\",\"type\":\"CustomJSTransform\"},{\"attributes\":{},\"id\":\"e1de657c-773f-4925-a6e4-ec299283c039\",\"type\":\"BasicTickFormatter\"},{\"attributes\":{\"data_source\":{\"id\":\"98bf53dc-a44f-46d6-9527-86f00b62795a\",\"type\":\"ColumnDataSource\"},\"glyph\":{\"id\":\"63cb30c3-4e49-401d-9c46-c944808f4262\",\"type\":\"Circle\"},\"hover_glyph\":null,\"muted_glyph\":null,\"nonselection_glyph\":{\"id\":\"c1b90d42-c95e-4a79-adb1-c82fc3892e4e\",\"type\":\"Circle\"},\"selection_glyph\":null,\"view\":{\"id\":\"77649a83-14a5-4e72-9781-7329224704ac\",\"type\":\"CDSView\"}},\"id\":\"c713ec66-59eb-42ac-909d-d132bd3cf558\",\"type\":\"GlyphRenderer\"},{\"attributes\":{},\"id\":\"e37948a4-21f5-4413-90f0-4ee8c283f0ab\",\"type\":\"ResetTool\"},{\"attributes\":{\"plot\":null,\"text\":\"\"},\"id\":\"3bfa92f7-2438-4eae-aeea-9226c95e15c2\",\"type\":\"Title\"},{\"attributes\":{},\"id\":\"79435414-4925-47d1-b2b5-73c7d958fb3c\",\"type\":\"HelpTool\"},{\"attributes\":{\"callback\":null,\"column_names\":[\"x\",\"y\"],\"data\":{\"x\":{\"__ndarray__\":\"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\",\"dtype\":\"float64\",\"shape\":[500]},\"y\":{\"__ndarray__\":\"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\",\"dtype\":\"float64\",\"shape\":[500]}},\"selected\":null,\"selection_policy\":null},\"id\":\"98bf53dc-a44f-46d6-9527-86f00b62795a\",\"type\":\"ColumnDataSource\"},{\"attributes\":{\"fill_alpha\":{\"value\":0.1},\"fill_color\":{\"value\":\"#1f77b4\"},\"line_alpha\":{\"value\":0.1},\"line_color\":{\"value\":\"#1f77b4\"},\"size\":{\"field\":\"x\",\"transform\":{\"id\":\"55417d6a-e4d1-48ac-9a7c-12a6129cefa3\",\"type\":\"CustomJSTransform\"},\"units\":\"screen\"},\"x\":{\"field\":\"x\"},\"y\":{\"field\":\"y\"}},\"id\":\"c1b90d42-c95e-4a79-adb1-c82fc3892e4e\",\"type\":\"Circle\"},{\"attributes\":{},\"id\":\"0089f2a9-95ad-4a09-964c-d39f2f178992\",\"type\":\"BasicTicker\"},{\"attributes\":{\"fill_color\":{\"field\":\"x\",\"transform\":{\"id\":\"692ee6d0-012c-42f4-a08d-0ed4594b0536\",\"type\":\"CustomJSTransform\"}},\"line_color\":{\"value\":null},\"size\":{\"field\":\"x\",\"transform\":{\"id\":\"55417d6a-e4d1-48ac-9a7c-12a6129cefa3\",\"type\":\"CustomJSTransform\"},\"units\":\"screen\"},\"x\":{\"field\":\"x\"},\"y\":{\"field\":\"y\"}},\"id\":\"63cb30c3-4e49-401d-9c46-c944808f4262\",\"type\":\"Circle\"},{\"attributes\":{\"formatter\":{\"id\":\"77745603-2209-4d87-af37-859a3d4d15a4\",\"type\":\"BasicTickFormatter\"},\"plot\":{\"id\":\"3c6b61ee-5cb7-40b1-a86c-f3cfaf887a5e\",\"subtype\":\"Figure\",\"type\":\"Plot\"},\"ticker\":{\"id\":\"0089f2a9-95ad-4a09-964c-d39f2f178992\",\"type\":\"BasicTicker\"}},\"id\":\"bf7e7b2a-693a-4034-ade2-70a72c47e671\",\"type\":\"LinearAxis\"},{\"attributes\":{},\"id\":\"6b6e96bf-29a1-4ff6-92ba-297b1ca06cb3\",\"type\":\"SaveTool\"},{\"attributes\":{},\"id\":\"77745603-2209-4d87-af37-859a3d4d15a4\",\"type\":\"BasicTickFormatter\"},{\"attributes\":{},\"id\":\"d8346363-45e4-4611-8762-4b40cabf12b5\",\"type\":\"BasicTicker\"},{\"attributes\":{\"color_mapper\":{\"id\":\"624c5245-a554-4a01-9607-1063f630ed93\",\"type\":\"LinearColorMapper\"},\"formatter\":{\"id\":\"1d634c90-1e9f-4faa-828c-2b4a04c76841\",\"type\":\"BasicTickFormatter\"},\"label_standoff\":12,\"location\":[0,0],\"plot\":{\"id\":\"3c6b61ee-5cb7-40b1-a86c-f3cfaf887a5e\",\"subtype\":\"Figure\",\"type\":\"Plot\"},\"ticker\":{\"id\":\"836d078b-c550-444a-9c94-5f2ccb13c08c\",\"type\":\"BasicTicker\"}},\"id\":\"29f91370-b37b-4429-9c67-b90f65170575\",\"type\":\"ColorBar\"},{\"attributes\":{},\"id\":\"6b13a258-a2f8-46ee-a39e-346b000e24a6\",\"type\":\"WheelZoomTool\"},{\"attributes\":{},\"id\":\"29da8700-c8f7-42b8-b069-78dcbd96f5fb\",\"type\":\"PanTool\"},{\"attributes\":{\"callback\":null},\"id\":\"88457e43-2fdd-4882-9e38-2282ee41c9e6\",\"type\":\"DataRange1d\"},{\"attributes\":{\"active_drag\":\"auto\",\"active_inspect\":\"auto\",\"active_scroll\":\"auto\",\"active_tap\":\"auto\",\"tools\":[{\"id\":\"29da8700-c8f7-42b8-b069-78dcbd96f5fb\",\"type\":\"PanTool\"},{\"id\":\"6b13a258-a2f8-46ee-a39e-346b000e24a6\",\"type\":\"WheelZoomTool\"},{\"id\":\"10500b95-381e-4be3-b1b0-15a2d0b12915\",\"type\":\"BoxZoomTool\"},{\"id\":\"6b6e96bf-29a1-4ff6-92ba-297b1ca06cb3\",\"type\":\"SaveTool\"},{\"id\":\"e37948a4-21f5-4413-90f0-4ee8c283f0ab\",\"type\":\"ResetTool\"},{\"id\":\"79435414-4925-47d1-b2b5-73c7d958fb3c\",\"type\":\"HelpTool\"}]},\"id\":\"d17fef3e-168b-49f1-af85-304091201cd0\",\"type\":\"Toolbar\"},{\"attributes\":{\"plot\":{\"id\":\"3c6b61ee-5cb7-40b1-a86c-f3cfaf887a5e\",\"subtype\":\"Figure\",\"type\":\"Plot\"},\"ticker\":{\"id\":\"d8346363-45e4-4611-8762-4b40cabf12b5\",\"type\":\"BasicTicker\"}},\"id\":\"c41b59e7-c12c-4873-8481-041f632b6932\",\"type\":\"Grid\"},{\"attributes\":{\"formatter\":{\"id\":\"e1de657c-773f-4925-a6e4-ec299283c039\",\"type\":\"BasicTickFormatter\"},\"plot\":{\"id\":\"3c6b61ee-5cb7-40b1-a86c-f3cfaf887a5e\",\"subtype\":\"Figure\",\"type\":\"Plot\"},\"ticker\":{\"id\":\"d8346363-45e4-4611-8762-4b40cabf12b5\",\"type\":\"BasicTicker\"}},\"id\":\"95784b31-a219-4e84-89af-a64571303391\",\"type\":\"LinearAxis\"},{\"attributes\":{\"args\":{\"T00\":{\"id\":\"fe3fc100-4aed-4608-a4e6-b05bc32629b7\",\"type\":\"CustomJSTransform\"},\"T01\":{\"id\":\"aa47728b-e473-4711-906e-2a269843e828\",\"type\":\"CustomJSTransform\"}},\"func\":\"var transformer;\\ntransformer = function () {\\n    var res, stub1_seq, transform, transforms;\\n    transforms = arguments;\\n    res = x;\\n    stub1_seq = transforms;\\n    for (transform in stub1_seq) {\\n        if (!stub1_seq.hasOwnProperty(transform)){ continue; }\\n        transform = stub1_seq[transform];\\n        res = transform.compute(res);\\n    }\\n    return res;\\n};\\nreturn transformer(T00, T01);\\n\",\"v_func\":\"var transformer;\\ntransformer = function () {\\n    var res, stub1_seq, transform, transforms;\\n    transforms = arguments;\\n    res = window.Array[\\\"from\\\"](xs);\\n    stub1_seq = transforms;\\n    for (transform in stub1_seq) {\\n        if (!stub1_seq.hasOwnProperty(transform)){ continue; }\\n        transform = stub1_seq[transform];\\n        res = transform.v_compute(res);\\n    }\\n    return res;\\n};\\nreturn transformer(T00, T01);\\n\"},\"id\":\"55417d6a-e4d1-48ac-9a7c-12a6129cefa3\",\"type\":\"CustomJSTransform\"}],\"root_ids\":[\"3c6b61ee-5cb7-40b1-a86c-f3cfaf887a5e\"]},\"title\":\"Bokeh Application\",\"version\":\"0.12.15\"}};\n",
       "  var render_items = [{\"docid\":\"288e3437-a5a6-423a-9d25-1918cccb1f1c\",\"elementid\":\"0876a270-3e19-4647-9833-a694ad2dbc90\",\"modelid\":\"3c6b61ee-5cb7-40b1-a86c-f3cfaf887a5e\"}];\n",
       "  root.Bokeh.embed.embed_items_notebook(docs_json, render_items);\n",
       "\n",
       "  }\n",
       "  if (root.Bokeh !== undefined) {\n",
       "    embed_document(root);\n",
       "  } else {\n",
       "    var attempts = 0;\n",
       "    var timer = setInterval(function(root) {\n",
       "      if (root.Bokeh !== undefined) {\n",
       "        embed_document(root);\n",
       "        clearInterval(timer);\n",
       "      }\n",
       "      attempts++;\n",
       "      if (attempts > 100) {\n",
       "        console.log(\"Bokeh: ERROR: Unable to run BokehJS code because BokehJS library is missing\")\n",
       "        clearInterval(timer);\n",
       "      }\n",
       "    }, 10, root)\n",
       "  }\n",
       "})(window);"
      ],
      "application/vnd.bokehjs_exec.v0+json": ""
     },
     "metadata": {
      "application/vnd.bokehjs_exec.v0+json": {
       "id": "3c6b61ee-5cb7-40b1-a86c-f3cfaf887a5e"
      }
     },
     "output_type": "display_data"
    }
   ],
   "source": [
    "x, y = np.random.normal(scale=0.2, size=(2, 500))\n",
    "source = ColumnDataSource(data=dict(x=x, y=y))\n",
    "fig = figure(plot_width=400, plot_height=300)\n",
    "\n",
    "def dummy(source=source):\n",
    "    return 0\n",
    "\n",
    "def vtrans_value(source=source):\n",
    "    data = source.data\n",
    "    return [(data.x[i]**2 + data.y[i]**2)**0.5 for i in range(len(data.x))]\n",
    "\n",
    "def vtrans_size():\n",
    "    return [10 * x for x in window.Array[\"from\"](xs)]\n",
    "\n",
    "value_transform = CustomJSTransform.from_py_func(dummy, vtrans_value)\n",
    "mult_transform = CustomJSTransform.from_py_func(dummy, vtrans_size)\n",
    "cmap_transform = LinearColorMapper(Viridis[256], low=0, high=0.6)\n",
    "color_transform = composite_transform(value_transform, cmap_transform)\n",
    "size_transform = composite_transform(value_transform, mult_transform)\n",
    "\n",
    "c = fig.circle(\"x\", \"y\", \n",
    "               fill_color=transform(\"x\", color_transform), \n",
    "               size=transform(\"x\", size_transform),\n",
    "               line_color=None, source=source, alpha=1)\n",
    "\n",
    "colorbar = ColorBar(color_mapper=cmap_transform, label_standoff=12, border_line_color=None, location=(0,0))\n",
    "fig.add_layout(colorbar, \"right\")\n",
    "show(fig)"
   ]
  },
  {
   "cell_type": "markdown",
   "metadata": {},
   "source": [
    "## 视图与过滤器"
   ]
  },
  {
   "cell_type": "markdown",
   "metadata": {},
   "source": [
    "`ColumnDataSource`是用于保存数据的数据源对象，如果我们希望只显示其中的一部分数据，可以在Python中对数据进行过滤，创建新的`ColumnDataSource`对象，或者使用`CDSView`对象对数据源进行过滤。`CDSView`有两个参数：`source`为数据源，`filters`为过滤器列表。下面使用`GroupFilter`对数据源的`\"species\"`列进行过滤，值显示`group`指定的分类。\n",
    "\n",
    "在`Select`的回调函数`on_group_changed()`中修改`group_filter.group`属性，并调用`source.change.emit()`刷新显示。这样用户可以通过界面中的下拉选择框选择需要显示的分类。"
   ]
  },
  {
   "cell_type": "code",
   "execution_count": 16,
   "metadata": {},
   "outputs": [
    {
     "data": {
      "text/html": [
       "\n",
       "<div class=\"bk-root\">\n",
       "    <div class=\"bk-plotdiv\" id=\"609b1fbd-8361-4e1d-9ff9-f0345df7aa72\"></div>\n",
       "</div>"
      ]
     },
     "metadata": {},
     "output_type": "display_data"
    },
    {
     "data": {
      "application/javascript": [
       "(function(root) {\n",
       "  function embed_document(root) {\n",
       "    \n",
       "  var docs_json = {\"38646a63-8694-4ba9-b6cc-0ba3a3d92e3e\":{\"roots\":{\"references\":[{\"attributes\":{\"plot\":{\"id\":\"1fff14e0-ebcd-4e0f-909f-98684d2ef696\",\"subtype\":\"Figure\",\"type\":\"Plot\"},\"ticker\":{\"id\":\"06475712-be6b-4f10-bdcf-b6beaa766037\",\"type\":\"BasicTicker\"}},\"id\":\"f37c3ef2-cebf-4768-85ac-2826f08fddca\",\"type\":\"Grid\"},{\"attributes\":{\"callback\":null},\"id\":\"93c235b3-2807-471c-973f-1fd6d9f1a5dd\",\"type\":\"DataRange1d\"},{\"attributes\":{\"filters\":[{\"id\":\"833d320d-98c2-47b3-9c81-93e837a464a9\",\"type\":\"GroupFilter\"}],\"source\":{\"id\":\"306be88a-34a4-4a57-8a22-0e6afb0e5d77\",\"type\":\"ColumnDataSource\"}},\"id\":\"b201963e-eb9f-4481-807a-b396eadca316\",\"type\":\"CDSView\"},{\"attributes\":{\"overlay\":{\"id\":\"e09dd38b-e09a-4675-a0b3-5ff00ea89c9a\",\"type\":\"BoxAnnotation\"}},\"id\":\"02ea2111-c8dc-4656-9166-70f956ba064f\",\"type\":\"BoxZoomTool\"},{\"attributes\":{},\"id\":\"371b837e-4480-4687-a828-659e8101bf1a\",\"type\":\"ResetTool\"},{\"attributes\":{},\"id\":\"aab99f72-15c8-409c-902f-418df832efe6\",\"type\":\"WheelZoomTool\"},{\"attributes\":{},\"id\":\"b6248403-b89f-4528-b6cf-073ada8c418e\",\"type\":\"SaveTool\"},{\"attributes\":{},\"id\":\"8bbc76ae-c962-4187-9b81-3394a4d63d84\",\"type\":\"HelpTool\"},{\"attributes\":{},\"id\":\"efc922e2-5373-4404-9a1f-4ab3b53dabb2\",\"type\":\"BasicTickFormatter\"},{\"attributes\":{\"callback\":null},\"id\":\"2c9aac59-ca1d-448d-8759-9b4018c67c61\",\"type\":\"DataRange1d\"},{\"attributes\":{\"children\":[{\"id\":\"de71b83c-03b9-4a0b-be17-b189459d40d1\",\"type\":\"WidgetBox\"},{\"id\":\"1fff14e0-ebcd-4e0f-909f-98684d2ef696\",\"subtype\":\"Figure\",\"type\":\"Plot\"}]},\"id\":\"7f8af72f-b1a5-4c47-8ab0-f48df4cc669b\",\"type\":\"Column\"},{\"attributes\":{\"column_name\":\"species\",\"group\":\"setosa\"},\"id\":\"833d320d-98c2-47b3-9c81-93e837a464a9\",\"type\":\"GroupFilter\"},{\"attributes\":{\"data_source\":{\"id\":\"306be88a-34a4-4a57-8a22-0e6afb0e5d77\",\"type\":\"ColumnDataSource\"},\"glyph\":{\"id\":\"4237e615-4745-4496-a7d0-8de5a2bc1132\",\"type\":\"Circle\"},\"hover_glyph\":null,\"muted_glyph\":null,\"nonselection_glyph\":{\"id\":\"72c1f609-c048-4c57-8887-5bb23bbdeda7\",\"type\":\"Circle\"},\"selection_glyph\":null,\"view\":{\"id\":\"b201963e-eb9f-4481-807a-b396eadca316\",\"type\":\"CDSView\"}},\"id\":\"b7755b70-f74e-4c9b-85e0-5bb07a2f0a3a\",\"type\":\"GlyphRenderer\"},{\"attributes\":{\"fill_alpha\":{\"value\":0.1},\"fill_color\":{\"value\":\"#1f77b4\"},\"line_alpha\":{\"value\":0.1},\"line_color\":{\"value\":\"#1f77b4\"},\"size\":{\"units\":\"screen\",\"value\":6},\"x\":{\"field\":\"sepal_length\"},\"y\":{\"field\":\"sepal_width\"}},\"id\":\"72c1f609-c048-4c57-8887-5bb23bbdeda7\",\"type\":\"Circle\"},{\"attributes\":{},\"id\":\"badd8f52-1152-4620-ba96-362e4c9c6262\",\"type\":\"BasicTicker\"},{\"attributes\":{\"formatter\":{\"id\":\"85c4fdce-ee00-4b47-aee4-3d5fc778e210\",\"type\":\"BasicTickFormatter\"},\"plot\":{\"id\":\"1fff14e0-ebcd-4e0f-909f-98684d2ef696\",\"subtype\":\"Figure\",\"type\":\"Plot\"},\"ticker\":{\"id\":\"badd8f52-1152-4620-ba96-362e4c9c6262\",\"type\":\"BasicTicker\"}},\"id\":\"46f1366e-4155-40ce-9fb2-935fec4d3000\",\"type\":\"LinearAxis\"},{\"attributes\":{\"dimension\":1,\"plot\":{\"id\":\"1fff14e0-ebcd-4e0f-909f-98684d2ef696\",\"subtype\":\"Figure\",\"type\":\"Plot\"},\"ticker\":{\"id\":\"badd8f52-1152-4620-ba96-362e4c9c6262\",\"type\":\"BasicTicker\"}},\"id\":\"a3754460-df02-4548-b170-b15d2b4f1a39\",\"type\":\"Grid\"},{\"attributes\":{\"plot\":null,\"text\":\"\"},\"id\":\"d991ac62-dc85-4bb1-97da-63c546dcd71b\",\"type\":\"Title\"},{\"attributes\":{},\"id\":\"85c4fdce-ee00-4b47-aee4-3d5fc778e210\",\"type\":\"BasicTickFormatter\"},{\"attributes\":{},\"id\":\"3e419470-9d7f-489b-be05-17e553c61d63\",\"type\":\"PanTool\"},{\"attributes\":{\"fill_color\":{\"value\":\"#1f77b4\"},\"line_color\":{\"value\":null},\"size\":{\"units\":\"screen\",\"value\":6},\"x\":{\"field\":\"sepal_length\"},\"y\":{\"field\":\"sepal_width\"}},\"id\":\"4237e615-4745-4496-a7d0-8de5a2bc1132\",\"type\":\"Circle\"},{\"attributes\":{\"active_drag\":\"auto\",\"active_inspect\":\"auto\",\"active_scroll\":\"auto\",\"active_tap\":\"auto\",\"tools\":[{\"id\":\"3e419470-9d7f-489b-be05-17e553c61d63\",\"type\":\"PanTool\"},{\"id\":\"aab99f72-15c8-409c-902f-418df832efe6\",\"type\":\"WheelZoomTool\"},{\"id\":\"02ea2111-c8dc-4656-9166-70f956ba064f\",\"type\":\"BoxZoomTool\"},{\"id\":\"b6248403-b89f-4528-b6cf-073ada8c418e\",\"type\":\"SaveTool\"},{\"id\":\"371b837e-4480-4687-a828-659e8101bf1a\",\"type\":\"ResetTool\"},{\"id\":\"8bbc76ae-c962-4187-9b81-3394a4d63d84\",\"type\":\"HelpTool\"}]},\"id\":\"bf96be7b-5d83-42cb-8678-8bc785dffefc\",\"type\":\"Toolbar\"},{\"attributes\":{\"bottom_units\":\"screen\",\"fill_alpha\":{\"value\":0.5},\"fill_color\":{\"value\":\"lightgrey\"},\"left_units\":\"screen\",\"level\":\"overlay\",\"line_alpha\":{\"value\":1.0},\"line_color\":{\"value\":\"black\"},\"line_dash\":[4,4],\"line_width\":{\"value\":2},\"plot\":null,\"render_mode\":\"css\",\"right_units\":\"screen\",\"top_units\":\"screen\"},\"id\":\"e09dd38b-e09a-4675-a0b3-5ff00ea89c9a\",\"type\":\"BoxAnnotation\"},{\"attributes\":{},\"id\":\"06475712-be6b-4f10-bdcf-b6beaa766037\",\"type\":\"BasicTicker\"},{\"attributes\":{\"callback\":{\"id\":\"416b68ff-bee8-4290-982b-199b809e84a6\",\"type\":\"CustomJS\"},\"options\":[\"setosa\",\"versicolor\",\"virginica\"]},\"id\":\"b76e265c-b1b9-4d18-a0ce-fab5b2848403\",\"type\":\"Select\"},{\"attributes\":{\"below\":[{\"id\":\"26f89679-8609-4222-ae0f-f3a3cd9364d7\",\"type\":\"LinearAxis\"}],\"left\":[{\"id\":\"46f1366e-4155-40ce-9fb2-935fec4d3000\",\"type\":\"LinearAxis\"}],\"plot_height\":300,\"plot_width\":400,\"renderers\":[{\"id\":\"26f89679-8609-4222-ae0f-f3a3cd9364d7\",\"type\":\"LinearAxis\"},{\"id\":\"f37c3ef2-cebf-4768-85ac-2826f08fddca\",\"type\":\"Grid\"},{\"id\":\"46f1366e-4155-40ce-9fb2-935fec4d3000\",\"type\":\"LinearAxis\"},{\"id\":\"a3754460-df02-4548-b170-b15d2b4f1a39\",\"type\":\"Grid\"},{\"id\":\"e09dd38b-e09a-4675-a0b3-5ff00ea89c9a\",\"type\":\"BoxAnnotation\"},{\"id\":\"b7755b70-f74e-4c9b-85e0-5bb07a2f0a3a\",\"type\":\"GlyphRenderer\"}],\"title\":{\"id\":\"d991ac62-dc85-4bb1-97da-63c546dcd71b\",\"type\":\"Title\"},\"toolbar\":{\"id\":\"bf96be7b-5d83-42cb-8678-8bc785dffefc\",\"type\":\"Toolbar\"},\"x_range\":{\"id\":\"93c235b3-2807-471c-973f-1fd6d9f1a5dd\",\"type\":\"DataRange1d\"},\"x_scale\":{\"id\":\"fd4efece-0f03-4745-8cff-6342b2e2662d\",\"type\":\"LinearScale\"},\"y_range\":{\"id\":\"2c9aac59-ca1d-448d-8759-9b4018c67c61\",\"type\":\"DataRange1d\"},\"y_scale\":{\"id\":\"8a26b21d-5552-4bc7-abdf-b0cf399bdc3a\",\"type\":\"LinearScale\"}},\"id\":\"1fff14e0-ebcd-4e0f-909f-98684d2ef696\",\"subtype\":\"Figure\",\"type\":\"Plot\"},{\"attributes\":{\"callback\":null,\"column_names\":[\"sepal_length\",\"sepal_width\",\"petal_length\",\"petal_width\",\"species\",\"index\"],\"data\":{\"index\":[0,1,2,3,4,5,6,7,8,9,10,11,12,13,14,15,16,17,18,19,20,21,22,23,24,25,26,27,28,29,30,31,32,33,34,35,36,37,38,39,40,41,42,43,44,45,46,47,48,49,50,51,52,53,54,55,56,57,58,59,60,61,62,63,64,65,66,67,68,69,70,71,72,73,74,75,76,77,78,79,80,81,82,83,84,85,86,87,88,89,90,91,92,93,94,95,96,97,98,99,100,101,102,103,104,105,106,107,108,109,110,111,112,113,114,115,116,117,118,119,120,121,122,123,124,125,126,127,128,129,130,131,132,133,134,135,136,137,138,139,140,141,142,143,144,145,146,147,148,149],\"petal_length\":{\"__ndarray__\":\"ZmZmZmZm9j9mZmZmZmb2P83MzMzMzPQ/AAAAAAAA+D9mZmZmZmb2PzMzMzMzM/s/ZmZmZmZm9j8AAAAAAAD4P2ZmZmZmZvY/AAAAAAAA+D8AAAAAAAD4P5qZmZmZmfk/ZmZmZmZm9j+amZmZmZnxPzMzMzMzM/M/AAAAAAAA+D/NzMzMzMz0P2ZmZmZmZvY/MzMzMzMz+z8AAAAAAAD4PzMzMzMzM/s/AAAAAAAA+D8AAAAAAADwPzMzMzMzM/s/ZmZmZmZm/j+amZmZmZn5P5qZmZmZmfk/AAAAAAAA+D9mZmZmZmb2P5qZmZmZmfk/mpmZmZmZ+T8AAAAAAAD4PwAAAAAAAPg/ZmZmZmZm9j8AAAAAAAD4PzMzMzMzM/M/zczMzMzM9D8AAAAAAAD4P83MzMzMzPQ/AAAAAAAA+D/NzMzMzMz0P83MzMzMzPQ/zczMzMzM9D+amZmZmZn5P2ZmZmZmZv4/ZmZmZmZm9j+amZmZmZn5P2ZmZmZmZvY/AAAAAAAA+D9mZmZmZmb2P83MzMzMzBJAAAAAAAAAEkCamZmZmZkTQAAAAAAAABBAZmZmZmZmEkAAAAAAAAASQM3MzMzMzBJAZmZmZmZmCkBmZmZmZmYSQDMzMzMzMw9AAAAAAAAADEDNzMzMzMwQQAAAAAAAABBAzczMzMzMEkDNzMzMzMwMQJqZmZmZmRFAAAAAAAAAEkBmZmZmZmYQQAAAAAAAABJAMzMzMzMzD0AzMzMzMzMTQAAAAAAAABBAmpmZmZmZE0DNzMzMzMwSQDMzMzMzMxFAmpmZmZmZEUAzMzMzMzMTQAAAAAAAABRAAAAAAAAAEkAAAAAAAAAMQGZmZmZmZg5AmpmZmZmZDUAzMzMzMzMPQGZmZmZmZhRAAAAAAAAAEkAAAAAAAAASQM3MzMzMzBJAmpmZmZmZEUBmZmZmZmYQQAAAAAAAABBAmpmZmZmZEUBmZmZmZmYSQAAAAAAAABBAZmZmZmZmCkDNzMzMzMwQQM3MzMzMzBBAzczMzMzMEEAzMzMzMzMRQAAAAAAAAAhAZmZmZmZmEEAAAAAAAAAYQGZmZmZmZhRAmpmZmZmZF0BmZmZmZmYWQDMzMzMzMxdAZmZmZmZmGkAAAAAAAAASQDMzMzMzMxlAMzMzMzMzF0BmZmZmZmYYQGZmZmZmZhRAMzMzMzMzFUAAAAAAAAAWQAAAAAAAABRAZmZmZmZmFEAzMzMzMzMVQAAAAAAAABZAzczMzMzMGkCamZmZmZkbQAAAAAAAABRAzczMzMzMFkCamZmZmZkTQM3MzMzMzBpAmpmZmZmZE0DNzMzMzMwWQAAAAAAAABhAMzMzMzMzE0CamZmZmZkTQGZmZmZmZhZAMzMzMzMzF0BmZmZmZmYYQJqZmZmZmRlAZmZmZmZmFkBmZmZmZmYUQGZmZmZmZhZAZmZmZmZmGEBmZmZmZmYWQAAAAAAAABZAMzMzMzMzE0CamZmZmZkVQGZmZmZmZhZAZmZmZmZmFEBmZmZmZmYUQJqZmZmZmRdAzczMzMzMFkDNzMzMzMwUQAAAAAAAABRAzczMzMzMFECamZmZmZkVQGZmZmZmZhRA\",\"dtype\":\"float64\",\"shape\":[150]},\"petal_width\":{\"__ndarray__\":\"mpmZmZmZyT+amZmZmZnJP5qZmZmZmck/mpmZmZmZyT+amZmZmZnJP5qZmZmZmdk/MzMzMzMz0z+amZmZmZnJP5qZmZmZmck/mpmZmZmZuT+amZmZmZnJP5qZmZmZmck/mpmZmZmZuT+amZmZmZm5P5qZmZmZmck/mpmZmZmZ2T+amZmZmZnZPzMzMzMzM9M/MzMzMzMz0z8zMzMzMzPTP5qZmZmZmck/mpmZmZmZ2T+amZmZmZnJPwAAAAAAAOA/mpmZmZmZyT+amZmZmZnJP5qZmZmZmdk/mpmZmZmZyT+amZmZmZnJP5qZmZmZmck/mpmZmZmZyT+amZmZmZnZP5qZmZmZmbk/mpmZmZmZyT+amZmZmZm5P5qZmZmZmck/mpmZmZmZyT+amZmZmZm5P5qZmZmZmck/mpmZmZmZyT8zMzMzMzPTPzMzMzMzM9M/mpmZmZmZyT8zMzMzMzPjP5qZmZmZmdk/MzMzMzMz0z+amZmZmZnJP5qZmZmZmck/mpmZmZmZyT+amZmZmZnJP2ZmZmZmZvY/AAAAAAAA+D8AAAAAAAD4P83MzMzMzPQ/AAAAAAAA+D/NzMzMzMz0P5qZmZmZmfk/AAAAAAAA8D/NzMzMzMz0P2ZmZmZmZvY/AAAAAAAA8D8AAAAAAAD4PwAAAAAAAPA/ZmZmZmZm9j/NzMzMzMz0P2ZmZmZmZvY/AAAAAAAA+D8AAAAAAADwPwAAAAAAAPg/mpmZmZmZ8T/NzMzMzMz8P83MzMzMzPQ/AAAAAAAA+D8zMzMzMzPzP83MzMzMzPQ/ZmZmZmZm9j9mZmZmZmb2PzMzMzMzM/s/AAAAAAAA+D8AAAAAAADwP5qZmZmZmfE/AAAAAAAA8D8zMzMzMzPzP5qZmZmZmfk/AAAAAAAA+D+amZmZmZn5PwAAAAAAAPg/zczMzMzM9D/NzMzMzMz0P83MzMzMzPQ/MzMzMzMz8z9mZmZmZmb2PzMzMzMzM/M/AAAAAAAA8D/NzMzMzMz0PzMzMzMzM/M/zczMzMzM9D/NzMzMzMz0P5qZmZmZmfE/zczMzMzM9D8AAAAAAAAEQGZmZmZmZv4/zczMzMzMAEDNzMzMzMz8P5qZmZmZmQFAzczMzMzMAEAzMzMzMzP7P83MzMzMzPw/zczMzMzM/D8AAAAAAAAEQAAAAAAAAABAZmZmZmZm/j/NzMzMzMwAQAAAAAAAAABAMzMzMzMzA0BmZmZmZmYCQM3MzMzMzPw/mpmZmZmZAUBmZmZmZmYCQAAAAAAAAPg/ZmZmZmZmAkAAAAAAAAAAQAAAAAAAAABAzczMzMzM/D/NzMzMzMwAQM3MzMzMzPw/zczMzMzM/D/NzMzMzMz8P83MzMzMzABAmpmZmZmZ+T9mZmZmZmb+PwAAAAAAAABAmpmZmZmZAUAAAAAAAAD4P2ZmZmZmZvY/ZmZmZmZmAkAzMzMzMzMDQM3MzMzMzPw/zczMzMzM/D/NzMzMzMwAQDMzMzMzMwNAZmZmZmZmAkBmZmZmZmb+P2ZmZmZmZgJAAAAAAAAABEBmZmZmZmYCQGZmZmZmZv4/AAAAAAAAAEBmZmZmZmYCQM3MzMzMzPw/\",\"dtype\":\"float64\",\"shape\":[150]},\"sepal_length\":{\"__ndarray__\":\"ZmZmZmZmFECamZmZmZkTQM3MzMzMzBJAZmZmZmZmEkAAAAAAAAAUQJqZmZmZmRVAZmZmZmZmEkAAAAAAAAAUQJqZmZmZmRFAmpmZmZmZE0CamZmZmZkVQDMzMzMzMxNAMzMzMzMzE0AzMzMzMzMRQDMzMzMzMxdAzczMzMzMFkCamZmZmZkVQGZmZmZmZhRAzczMzMzMFkBmZmZmZmYUQJqZmZmZmRVAZmZmZmZmFEBmZmZmZmYSQGZmZmZmZhRAMzMzMzMzE0AAAAAAAAAUQAAAAAAAABRAzczMzMzMFEDNzMzMzMwUQM3MzMzMzBJAMzMzMzMzE0CamZmZmZkVQM3MzMzMzBRAAAAAAAAAFkCamZmZmZkTQAAAAAAAABRAAAAAAAAAFkCamZmZmZkTQJqZmZmZmRFAZmZmZmZmFEAAAAAAAAAUQAAAAAAAABJAmpmZmZmZEUAAAAAAAAAUQGZmZmZmZhRAMzMzMzMzE0BmZmZmZmYUQGZmZmZmZhJAMzMzMzMzFUAAAAAAAAAUQAAAAAAAABxAmpmZmZmZGUCamZmZmZkbQAAAAAAAABZAAAAAAAAAGkDNzMzMzMwWQDMzMzMzMxlAmpmZmZmZE0BmZmZmZmYaQM3MzMzMzBRAAAAAAAAAFECamZmZmZkXQAAAAAAAABhAZmZmZmZmGEBmZmZmZmYWQM3MzMzMzBpAZmZmZmZmFkAzMzMzMzMXQM3MzMzMzBhAZmZmZmZmFkCamZmZmZkXQGZmZmZmZhhAMzMzMzMzGUBmZmZmZmYYQJqZmZmZmRlAZmZmZmZmGkAzMzMzMzMbQM3MzMzMzBpAAAAAAAAAGEDNzMzMzMwWQAAAAAAAABZAAAAAAAAAFkAzMzMzMzMXQAAAAAAAABhAmpmZmZmZFUAAAAAAAAAYQM3MzMzMzBpAMzMzMzMzGUBmZmZmZmYWQAAAAAAAABZAAAAAAAAAFkBmZmZmZmYYQDMzMzMzMxdAAAAAAAAAFEBmZmZmZmYWQM3MzMzMzBZAzczMzMzMFkDNzMzMzMwYQGZmZmZmZhRAzczMzMzMFkAzMzMzMzMZQDMzMzMzMxdAZmZmZmZmHEAzMzMzMzMZQAAAAAAAABpAZmZmZmZmHkCamZmZmZkTQDMzMzMzMx1AzczMzMzMGkDNzMzMzMwcQAAAAAAAABpAmpmZmZmZGUAzMzMzMzMbQM3MzMzMzBZAMzMzMzMzF0CamZmZmZkZQAAAAAAAABpAzczMzMzMHkDNzMzMzMweQAAAAAAAABhAmpmZmZmZG0BmZmZmZmYWQM3MzMzMzB5AMzMzMzMzGUDNzMzMzMwaQM3MzMzMzBxAzczMzMzMGEBmZmZmZmYYQJqZmZmZmRlAzczMzMzMHECamZmZmZkdQJqZmZmZmR9AmpmZmZmZGUAzMzMzMzMZQGZmZmZmZhhAzczMzMzMHkAzMzMzMzMZQJqZmZmZmRlAAAAAAAAAGECamZmZmZkbQM3MzMzMzBpAmpmZmZmZG0AzMzMzMzMXQDMzMzMzMxtAzczMzMzMGkDNzMzMzMwaQDMzMzMzMxlAAAAAAAAAGkDNzMzMzMwYQJqZmZmZmRdA\",\"dtype\":\"float64\",\"shape\":[150]},\"sepal_width\":{\"__ndarray__\":\"AAAAAAAADEAAAAAAAAAIQJqZmZmZmQlAzczMzMzMCEDNzMzMzMwMQDMzMzMzMw9AMzMzMzMzC0AzMzMzMzMLQDMzMzMzMwdAzczMzMzMCECamZmZmZkNQDMzMzMzMwtAAAAAAAAACEAAAAAAAAAIQAAAAAAAABBAmpmZmZmZEUAzMzMzMzMPQAAAAAAAAAxAZmZmZmZmDkBmZmZmZmYOQDMzMzMzMwtAmpmZmZmZDUDNzMzMzMwMQGZmZmZmZgpAMzMzMzMzC0AAAAAAAAAIQDMzMzMzMwtAAAAAAAAADEAzMzMzMzMLQJqZmZmZmQlAzczMzMzMCEAzMzMzMzMLQGZmZmZmZhBAzczMzMzMEEDNzMzMzMwIQJqZmZmZmQlAAAAAAAAADEDNzMzMzMwIQAAAAAAAAAhAMzMzMzMzC0AAAAAAAAAMQGZmZmZmZgJAmpmZmZmZCUAAAAAAAAAMQGZmZmZmZg5AAAAAAAAACEBmZmZmZmYOQJqZmZmZmQlAmpmZmZmZDUBmZmZmZmYKQJqZmZmZmQlAmpmZmZmZCUDNzMzMzMwIQGZmZmZmZgJAZmZmZmZmBkBmZmZmZmYGQGZmZmZmZgpAMzMzMzMzA0AzMzMzMzMHQJqZmZmZmQVAAAAAAAAAAEAAAAAAAAAIQJqZmZmZmQFAMzMzMzMzB0AzMzMzMzMHQM3MzMzMzAhAAAAAAAAACECamZmZmZkFQJqZmZmZmQFAAAAAAAAABECamZmZmZkJQGZmZmZmZgZAAAAAAAAABEBmZmZmZmYGQDMzMzMzMwdAAAAAAAAACEBmZmZmZmYGQAAAAAAAAAhAMzMzMzMzB0DNzMzMzMwEQDMzMzMzMwNAMzMzMzMzA0CamZmZmZkFQJqZmZmZmQVAAAAAAAAACEAzMzMzMzMLQM3MzMzMzAhAZmZmZmZmAkAAAAAAAAAIQAAAAAAAAARAzczMzMzMBEAAAAAAAAAIQM3MzMzMzARAZmZmZmZmAkCamZmZmZkFQAAAAAAAAAhAMzMzMzMzB0AzMzMzMzMHQAAAAAAAAARAZmZmZmZmBkBmZmZmZmYKQJqZmZmZmQVAAAAAAAAACEAzMzMzMzMHQAAAAAAAAAhAAAAAAAAACEAAAAAAAAAEQDMzMzMzMwdAAAAAAAAABEDNzMzMzMwMQJqZmZmZmQlAmpmZmZmZBUAAAAAAAAAIQAAAAAAAAARAZmZmZmZmBkCamZmZmZkJQAAAAAAAAAhAZmZmZmZmDkDNzMzMzMwEQJqZmZmZmQFAmpmZmZmZCUBmZmZmZmYGQGZmZmZmZgZAmpmZmZmZBUBmZmZmZmYKQJqZmZmZmQlAZmZmZmZmBkAAAAAAAAAIQGZmZmZmZgZAAAAAAAAACEBmZmZmZmYGQGZmZmZmZg5AZmZmZmZmBkBmZmZmZmYGQM3MzMzMzARAAAAAAAAACEAzMzMzMzMLQM3MzMzMzAhAAAAAAAAACEDNzMzMzMwIQM3MzMzMzAhAzczMzMzMCECamZmZmZkFQJqZmZmZmQlAZmZmZmZmCkAAAAAAAAAIQAAAAAAAAARAAAAAAAAACEAzMzMzMzMLQAAAAAAAAAhA\",\"dtype\":\"float64\",\"shape\":[150]},\"species\":[\"setosa\",\"setosa\",\"setosa\",\"setosa\",\"setosa\",\"setosa\",\"setosa\",\"setosa\",\"setosa\",\"setosa\",\"setosa\",\"setosa\",\"setosa\",\"setosa\",\"setosa\",\"setosa\",\"setosa\",\"setosa\",\"setosa\",\"setosa\",\"setosa\",\"setosa\",\"setosa\",\"setosa\",\"setosa\",\"setosa\",\"setosa\",\"setosa\",\"setosa\",\"setosa\",\"setosa\",\"setosa\",\"setosa\",\"setosa\",\"setosa\",\"setosa\",\"setosa\",\"setosa\",\"setosa\",\"setosa\",\"setosa\",\"setosa\",\"setosa\",\"setosa\",\"setosa\",\"setosa\",\"setosa\",\"setosa\",\"setosa\",\"setosa\",\"versicolor\",\"versicolor\",\"versicolor\",\"versicolor\",\"versicolor\",\"versicolor\",\"versicolor\",\"versicolor\",\"versicolor\",\"versicolor\",\"versicolor\",\"versicolor\",\"versicolor\",\"versicolor\",\"versicolor\",\"versicolor\",\"versicolor\",\"versicolor\",\"versicolor\",\"versicolor\",\"versicolor\",\"versicolor\",\"versicolor\",\"versicolor\",\"versicolor\",\"versicolor\",\"versicolor\",\"versicolor\",\"versicolor\",\"versicolor\",\"versicolor\",\"versicolor\",\"versicolor\",\"versicolor\",\"versicolor\",\"versicolor\",\"versicolor\",\"versicolor\",\"versicolor\",\"versicolor\",\"versicolor\",\"versicolor\",\"versicolor\",\"versicolor\",\"versicolor\",\"versicolor\",\"versicolor\",\"versicolor\",\"versicolor\",\"versicolor\",\"virginica\",\"virginica\",\"virginica\",\"virginica\",\"virginica\",\"virginica\",\"virginica\",\"virginica\",\"virginica\",\"virginica\",\"virginica\",\"virginica\",\"virginica\",\"virginica\",\"virginica\",\"virginica\",\"virginica\",\"virginica\",\"virginica\",\"virginica\",\"virginica\",\"virginica\",\"virginica\",\"virginica\",\"virginica\",\"virginica\",\"virginica\",\"virginica\",\"virginica\",\"virginica\",\"virginica\",\"virginica\",\"virginica\",\"virginica\",\"virginica\",\"virginica\",\"virginica\",\"virginica\",\"virginica\",\"virginica\",\"virginica\",\"virginica\",\"virginica\",\"virginica\",\"virginica\",\"virginica\",\"virginica\",\"virginica\",\"virginica\",\"virginica\"]},\"selected\":null,\"selection_policy\":null},\"id\":\"306be88a-34a4-4a57-8a22-0e6afb0e5d77\",\"type\":\"ColumnDataSource\"},{\"attributes\":{\"args\":{\"filter\":{\"id\":\"833d320d-98c2-47b3-9c81-93e837a464a9\",\"type\":\"GroupFilter\"},\"source\":{\"id\":\"306be88a-34a4-4a57-8a22-0e6afb0e5d77\",\"type\":\"ColumnDataSource\"}},\"code\":\"var cb;\\ncb = function (filter, source) {\\n    filter = (filter === undefined) ? group_filter: filter;\\n    source = (source === undefined) ? source: source;\\n    filter.group = cb_obj.value;\\n    source.change.emit();\\n    return null;\\n};\\ncb(filter, source);\\n\"},\"id\":\"416b68ff-bee8-4290-982b-199b809e84a6\",\"type\":\"CustomJS\"},{\"attributes\":{\"formatter\":{\"id\":\"efc922e2-5373-4404-9a1f-4ab3b53dabb2\",\"type\":\"BasicTickFormatter\"},\"plot\":{\"id\":\"1fff14e0-ebcd-4e0f-909f-98684d2ef696\",\"subtype\":\"Figure\",\"type\":\"Plot\"},\"ticker\":{\"id\":\"06475712-be6b-4f10-bdcf-b6beaa766037\",\"type\":\"BasicTicker\"}},\"id\":\"26f89679-8609-4222-ae0f-f3a3cd9364d7\",\"type\":\"LinearAxis\"},{\"attributes\":{},\"id\":\"8a26b21d-5552-4bc7-abdf-b0cf399bdc3a\",\"type\":\"LinearScale\"},{\"attributes\":{\"children\":[{\"id\":\"b76e265c-b1b9-4d18-a0ce-fab5b2848403\",\"type\":\"Select\"}]},\"id\":\"de71b83c-03b9-4a0b-be17-b189459d40d1\",\"type\":\"WidgetBox\"},{\"attributes\":{},\"id\":\"fd4efece-0f03-4745-8cff-6342b2e2662d\",\"type\":\"LinearScale\"}],\"root_ids\":[\"7f8af72f-b1a5-4c47-8ab0-f48df4cc669b\"]},\"title\":\"Bokeh Application\",\"version\":\"0.12.15\"}};\n",
       "  var render_items = [{\"docid\":\"38646a63-8694-4ba9-b6cc-0ba3a3d92e3e\",\"elementid\":\"609b1fbd-8361-4e1d-9ff9-f0345df7aa72\",\"modelid\":\"7f8af72f-b1a5-4c47-8ab0-f48df4cc669b\"}];\n",
       "  root.Bokeh.embed.embed_items_notebook(docs_json, render_items);\n",
       "\n",
       "  }\n",
       "  if (root.Bokeh !== undefined) {\n",
       "    embed_document(root);\n",
       "  } else {\n",
       "    var attempts = 0;\n",
       "    var timer = setInterval(function(root) {\n",
       "      if (root.Bokeh !== undefined) {\n",
       "        embed_document(root);\n",
       "        clearInterval(timer);\n",
       "      }\n",
       "      attempts++;\n",
       "      if (attempts > 100) {\n",
       "        console.log(\"Bokeh: ERROR: Unable to run BokehJS code because BokehJS library is missing\")\n",
       "        clearInterval(timer);\n",
       "      }\n",
       "    }, 10, root)\n",
       "  }\n",
       "})(window);"
      ],
      "application/vnd.bokehjs_exec.v0+json": ""
     },
     "metadata": {
      "application/vnd.bokehjs_exec.v0+json": {
       "id": "7f8af72f-b1a5-4c47-8ab0-f48df4cc669b"
      }
     },
     "output_type": "display_data"
    }
   ],
   "source": [
    "from bokeh.models import GroupFilter, CDSView, Select\n",
    "df = pd.read_csv(\"https://raw.githubusercontent.com/uiuc-cse/data-fa14/gh-pages/data/iris.csv\", dtype={'species':'category'})\n",
    "source = ColumnDataSource(data=df)\n",
    "group_filter = GroupFilter(column_name=\"species\", group=\"setosa\")\n",
    "view = CDSView(source=source, filters=[group_filter])\n",
    "\n",
    "fig = figure(plot_width=400, plot_height=300)\n",
    "c = fig.circle(\"sepal_length\", \"sepal_width\", \n",
    "               line_color=None, source=source, view=view, alpha=1, size=6)\n",
    "\n",
    "def on_group_changed(filter=group_filter, source=source):\n",
    "    filter.group = cb_obj.value\n",
    "    source.change.emit()\n",
    "\n",
    "select = Select(options=df.species.cat.categories.tolist(),\n",
    "                callback=CustomJS.from_py_func(on_group_changed))\n",
    "show(column(select, fig))"
   ]
  },
  {
   "cell_type": "markdown",
   "metadata": {},
   "source": [
    "和`CustomJSTransform`类似，`CustomJSFilter`可以使用自定义的函数对数据进行过滤。下面使用`func_filter()`选取`source`的`petal_length`列在`slider`指定的范围之内的数据。它返回包含符合条件的下标数组。在`slider`的回调函数中调用`source.change.emit()`触发数据源的更新事件即可重新调用`func_filter`对数据源进行过滤。"
   ]
  },
  {
   "cell_type": "code",
   "execution_count": 17,
   "metadata": {},
   "outputs": [
    {
     "data": {
      "text/html": [
       "\n",
       "<div class=\"bk-root\">\n",
       "    <div class=\"bk-plotdiv\" id=\"de623c8d-1c00-498d-92e4-d2ae30b79a0b\"></div>\n",
       "</div>"
      ]
     },
     "metadata": {},
     "output_type": "display_data"
    },
    {
     "data": {
      "application/javascript": [
       "(function(root) {\n",
       "  function embed_document(root) {\n",
       "    \n",
       "  var docs_json = {\"6bb8383d-472e-46fc-8827-007bb9e4940b\":{\"roots\":{\"references\":[{\"attributes\":{\"active_drag\":\"auto\",\"active_inspect\":\"auto\",\"active_scroll\":\"auto\",\"active_tap\":\"auto\",\"tools\":[{\"id\":\"3ca2ede6-2151-4361-a2f0-74d0a8ef9304\",\"type\":\"PanTool\"},{\"id\":\"7da81d39-d772-4964-b06a-6a3ef7302824\",\"type\":\"WheelZoomTool\"},{\"id\":\"d1917cc8-3a43-44fc-b423-6cf6c80c5df3\",\"type\":\"BoxZoomTool\"},{\"id\":\"ecffd6fc-d377-4bbb-b9ef-fc806aae32fb\",\"type\":\"SaveTool\"},{\"id\":\"bf20f5ee-3eb1-4738-847a-76583925a8dd\",\"type\":\"ResetTool\"},{\"id\":\"a6ee8b45-8f06-4369-ba74-b4089fa26cf3\",\"type\":\"HelpTool\"}]},\"id\":\"4353d09a-8d82-491c-88db-99cf62ee879f\",\"type\":\"Toolbar\"},{\"attributes\":{\"callback\":null},\"id\":\"9e233ace-5943-4a86-b69a-a71638fec3c8\",\"type\":\"DataRange1d\"},{\"attributes\":{\"high\":6.9,\"low\":1.0,\"palette\":[\"#440154\",\"#440255\",\"#440357\",\"#450558\",\"#45065A\",\"#45085B\",\"#46095C\",\"#460B5E\",\"#460C5F\",\"#460E61\",\"#470F62\",\"#471163\",\"#471265\",\"#471466\",\"#471567\",\"#471669\",\"#47186A\",\"#48196B\",\"#481A6C\",\"#481C6E\",\"#481D6F\",\"#481E70\",\"#482071\",\"#482172\",\"#482273\",\"#482374\",\"#472575\",\"#472676\",\"#472777\",\"#472878\",\"#472A79\",\"#472B7A\",\"#472C7B\",\"#462D7C\",\"#462F7C\",\"#46307D\",\"#46317E\",\"#45327F\",\"#45347F\",\"#453580\",\"#453681\",\"#443781\",\"#443982\",\"#433A83\",\"#433B83\",\"#433C84\",\"#423D84\",\"#423E85\",\"#424085\",\"#414186\",\"#414286\",\"#404387\",\"#404487\",\"#3F4587\",\"#3F4788\",\"#3E4888\",\"#3E4989\",\"#3D4A89\",\"#3D4B89\",\"#3D4C89\",\"#3C4D8A\",\"#3C4E8A\",\"#3B508A\",\"#3B518A\",\"#3A528B\",\"#3A538B\",\"#39548B\",\"#39558B\",\"#38568B\",\"#38578C\",\"#37588C\",\"#37598C\",\"#365A8C\",\"#365B8C\",\"#355C8C\",\"#355D8C\",\"#345E8D\",\"#345F8D\",\"#33608D\",\"#33618D\",\"#32628D\",\"#32638D\",\"#31648D\",\"#31658D\",\"#31668D\",\"#30678D\",\"#30688D\",\"#2F698D\",\"#2F6A8D\",\"#2E6B8E\",\"#2E6C8E\",\"#2E6D8E\",\"#2D6E8E\",\"#2D6F8E\",\"#2C708E\",\"#2C718E\",\"#2C728E\",\"#2B738E\",\"#2B748E\",\"#2A758E\",\"#2A768E\",\"#2A778E\",\"#29788E\",\"#29798E\",\"#287A8E\",\"#287A8E\",\"#287B8E\",\"#277C8E\",\"#277D8E\",\"#277E8E\",\"#267F8E\",\"#26808E\",\"#26818E\",\"#25828E\",\"#25838D\",\"#24848D\",\"#24858D\",\"#24868D\",\"#23878D\",\"#23888D\",\"#23898D\",\"#22898D\",\"#228A8D\",\"#228B8D\",\"#218C8D\",\"#218D8C\",\"#218E8C\",\"#208F8C\",\"#20908C\",\"#20918C\",\"#1F928C\",\"#1F938B\",\"#1F948B\",\"#1F958B\",\"#1F968B\",\"#1E978A\",\"#1E988A\",\"#1E998A\",\"#1E998A\",\"#1E9A89\",\"#1E9B89\",\"#1E9C89\",\"#1E9D88\",\"#1E9E88\",\"#1E9F88\",\"#1EA087\",\"#1FA187\",\"#1FA286\",\"#1FA386\",\"#20A485\",\"#20A585\",\"#21A685\",\"#21A784\",\"#22A784\",\"#23A883\",\"#23A982\",\"#24AA82\",\"#25AB81\",\"#26AC81\",\"#27AD80\",\"#28AE7F\",\"#29AF7F\",\"#2AB07E\",\"#2BB17D\",\"#2CB17D\",\"#2EB27C\",\"#2FB37B\",\"#30B47A\",\"#32B57A\",\"#33B679\",\"#35B778\",\"#36B877\",\"#38B976\",\"#39B976\",\"#3BBA75\",\"#3DBB74\",\"#3EBC73\",\"#40BD72\",\"#42BE71\",\"#44BE70\",\"#45BF6F\",\"#47C06E\",\"#49C16D\",\"#4BC26C\",\"#4DC26B\",\"#4FC369\",\"#51C468\",\"#53C567\",\"#55C666\",\"#57C665\",\"#59C764\",\"#5BC862\",\"#5EC961\",\"#60C960\",\"#62CA5F\",\"#64CB5D\",\"#67CC5C\",\"#69CC5B\",\"#6BCD59\",\"#6DCE58\",\"#70CE56\",\"#72CF55\",\"#74D054\",\"#77D052\",\"#79D151\",\"#7CD24F\",\"#7ED24E\",\"#81D34C\",\"#83D34B\",\"#86D449\",\"#88D547\",\"#8BD546\",\"#8DD644\",\"#90D643\",\"#92D741\",\"#95D73F\",\"#97D83E\",\"#9AD83C\",\"#9DD93A\",\"#9FD938\",\"#A2DA37\",\"#A5DA35\",\"#A7DB33\",\"#AADB32\",\"#ADDC30\",\"#AFDC2E\",\"#B2DD2C\",\"#B5DD2B\",\"#B7DD29\",\"#BADE27\",\"#BDDE26\",\"#BFDF24\",\"#C2DF22\",\"#C5DF21\",\"#C7E01F\",\"#CAE01E\",\"#CDE01D\",\"#CFE11C\",\"#D2E11B\",\"#D4E11A\",\"#D7E219\",\"#DAE218\",\"#DCE218\",\"#DFE318\",\"#E1E318\",\"#E4E318\",\"#E7E419\",\"#E9E419\",\"#ECE41A\",\"#EEE51B\",\"#F1E51C\",\"#F3E51E\",\"#F6E61F\",\"#F8E621\",\"#FAE622\",\"#FDE724\"]},\"id\":\"a0932793-cea5-459d-879d-27a875302df9\",\"type\":\"LinearColorMapper\"},{\"attributes\":{\"bottom_units\":\"screen\",\"fill_alpha\":{\"value\":0.5},\"fill_color\":{\"value\":\"lightgrey\"},\"left_units\":\"screen\",\"level\":\"overlay\",\"line_alpha\":{\"value\":1.0},\"line_color\":{\"value\":\"black\"},\"line_dash\":[4,4],\"line_width\":{\"value\":2},\"plot\":null,\"render_mode\":\"css\",\"right_units\":\"screen\",\"top_units\":\"screen\"},\"id\":\"9240e256-48c3-408e-8067-2788c272cbdb\",\"type\":\"BoxAnnotation\"},{\"attributes\":{\"callback\":{\"id\":\"0bd6fe5c-3f8b-45e7-a146-a1a0dd7c0c2f\",\"type\":\"CustomJS\"},\"end\":6.9,\"start\":1.0,\"step\":0.1,\"title\":\"petal length\",\"value\":[1.0,6.9]},\"id\":\"922c8d16-2f93-46e4-a9d8-2f339d6ca28d\",\"type\":\"RangeSlider\"},{\"attributes\":{\"args\":{\"slider\":{\"id\":\"922c8d16-2f93-46e4-a9d8-2f339d6ca28d\",\"type\":\"RangeSlider\"},\"source\":{\"id\":\"08f0b608-69cf-490d-8777-58ae967034a3\",\"type\":\"ColumnDataSource\"}},\"code\":\"var _pyfunc_range = function (start, end, step) {\\nvar i, res = [];\\n    var val = start;\\n    var n = (end - start) / step;\\n    for (i=0; i<n; i++) {\\n        res.push(val);\\n        val += step;\\n    }\\n    return res;\\n};\\nvar _pyfunc_truthy = function (v) {\\n    if (v === null || typeof v !== \\\"object\\\") {return v;}\\n    else if (v.length !== undefined) {return v.length ? v : false;}\\n    else if (v.byteLength !== undefined) {return v.byteLength ? v : false;}\\n    else if (v.constructor !== Object) {return true;}\\n    else {return Object.getOwnPropertyNames(v).length ? v : false;}\\n};\\nvar _pymeth_append = function (x) { // nargs: 1\\n    if (!Array.isArray(this)) return this.append.apply(this, arguments);\\n    this.push(x);\\n};\\nvar filter;\\nfilter = function (source, slider) {\\n    var data, end, i, res, start, stub1_;\\n    source = (source === undefined) ? source: source;\\n    slider = (slider === undefined) ? slider: slider;\\n    data = source.data[\\\"petal_length\\\"];\\n    stub1_ = slider.value;\\n    start = stub1_[0];end = stub1_[1];\\n    res = [];\\n    for (i = 0; i < data.length; i += 1) {\\n        _pymeth_append.call(res, (_pyfunc_truthy(start <= data[i]) && _pyfunc_truthy(data[i] <= end)));\\n    }\\n    return res;\\n};\\nreturn filter(source, slider);\\n\"},\"id\":\"2a0aaee9-d097-41de-b024-0cca1b3cc8d9\",\"type\":\"CustomJSFilter\"},{\"attributes\":{},\"id\":\"366c377c-75c1-4dd3-ab65-fd27e9f33b68\",\"type\":\"BasicTicker\"},{\"attributes\":{},\"id\":\"2352eb66-796d-40cf-a4e7-a4e83545fde7\",\"type\":\"BasicTickFormatter\"},{\"attributes\":{\"plot\":{\"id\":\"f6cc313d-2a0d-48b0-b429-00e13acd67f8\",\"subtype\":\"Figure\",\"type\":\"Plot\"},\"ticker\":{\"id\":\"366c377c-75c1-4dd3-ab65-fd27e9f33b68\",\"type\":\"BasicTicker\"}},\"id\":\"1b74ad9b-ec31-47d9-b716-a260b1c5e759\",\"type\":\"Grid\"},{\"attributes\":{\"formatter\":{\"id\":\"2352eb66-796d-40cf-a4e7-a4e83545fde7\",\"type\":\"BasicTickFormatter\"},\"plot\":{\"id\":\"f6cc313d-2a0d-48b0-b429-00e13acd67f8\",\"subtype\":\"Figure\",\"type\":\"Plot\"},\"ticker\":{\"id\":\"159b979f-1126-479c-9131-5a2bb0598786\",\"type\":\"BasicTicker\"}},\"id\":\"c7a37af8-1bf4-41fc-a216-89d154379240\",\"type\":\"LinearAxis\"},{\"attributes\":{\"fill_alpha\":{\"value\":0.1},\"fill_color\":{\"value\":\"#1f77b4\"},\"line_alpha\":{\"value\":0.1},\"line_color\":{\"value\":\"#1f77b4\"},\"size\":{\"units\":\"screen\",\"value\":6},\"x\":{\"field\":\"sepal_length\"},\"y\":{\"field\":\"sepal_width\"}},\"id\":\"39e60fbc-244e-44e1-9a5b-8c0d754084ab\",\"type\":\"Circle\"},{\"attributes\":{\"args\":{\"source\":{\"id\":\"08f0b608-69cf-490d-8777-58ae967034a3\",\"type\":\"ColumnDataSource\"}},\"code\":\"var cb;\\ncb = function (source) {\\n    source = (source === undefined) ? source: source;\\n    source.change.emit();\\n    return null;\\n};\\ncb(source);\\n\"},\"id\":\"0bd6fe5c-3f8b-45e7-a146-a1a0dd7c0c2f\",\"type\":\"CustomJS\"},{\"attributes\":{\"callback\":null},\"id\":\"c62537f9-2452-4eac-81b7-7528f11d1fce\",\"type\":\"DataRange1d\"},{\"attributes\":{\"children\":[{\"id\":\"0a48a1e3-e27c-453d-acbc-15cc96e5d3f5\",\"type\":\"WidgetBox\"},{\"id\":\"f6cc313d-2a0d-48b0-b429-00e13acd67f8\",\"subtype\":\"Figure\",\"type\":\"Plot\"}]},\"id\":\"12e950c8-3b16-4de5-afaa-3adedf4ce2ff\",\"type\":\"Column\"},{\"attributes\":{\"data_source\":{\"id\":\"08f0b608-69cf-490d-8777-58ae967034a3\",\"type\":\"ColumnDataSource\"},\"glyph\":{\"id\":\"bbe607f8-7ede-4a54-8eb6-0c3cfce91c4a\",\"type\":\"Circle\"},\"hover_glyph\":null,\"muted_glyph\":null,\"nonselection_glyph\":{\"id\":\"39e60fbc-244e-44e1-9a5b-8c0d754084ab\",\"type\":\"Circle\"},\"selection_glyph\":null,\"view\":{\"id\":\"eddfcc17-76e0-40ca-9284-af9c6c46fe24\",\"type\":\"CDSView\"}},\"id\":\"f6c38cb9-6c36-4634-868e-a16ec5e4bcec\",\"type\":\"GlyphRenderer\"},{\"attributes\":{},\"id\":\"b394ec40-37da-4774-839c-00fb79e72e96\",\"type\":\"LinearScale\"},{\"attributes\":{\"plot\":null,\"text\":\"\"},\"id\":\"ec826c97-3447-49e9-bf91-615e01ba07ff\",\"type\":\"Title\"},{\"attributes\":{},\"id\":\"159b979f-1126-479c-9131-5a2bb0598786\",\"type\":\"BasicTicker\"},{\"attributes\":{},\"id\":\"9182025c-1422-4c0f-8913-150cbd4cc3ee\",\"type\":\"BasicTickFormatter\"},{\"attributes\":{\"dimension\":1,\"plot\":{\"id\":\"f6cc313d-2a0d-48b0-b429-00e13acd67f8\",\"subtype\":\"Figure\",\"type\":\"Plot\"},\"ticker\":{\"id\":\"159b979f-1126-479c-9131-5a2bb0598786\",\"type\":\"BasicTicker\"}},\"id\":\"a5b1ea6a-7e0f-464c-92de-e69bd0683bc6\",\"type\":\"Grid\"},{\"attributes\":{\"fill_color\":{\"field\":\"petal_length\",\"transform\":{\"id\":\"a0932793-cea5-459d-879d-27a875302df9\",\"type\":\"LinearColorMapper\"}},\"line_color\":{\"value\":null},\"size\":{\"units\":\"screen\",\"value\":6},\"x\":{\"field\":\"sepal_length\"},\"y\":{\"field\":\"sepal_width\"}},\"id\":\"bbe607f8-7ede-4a54-8eb6-0c3cfce91c4a\",\"type\":\"Circle\"},{\"attributes\":{\"formatter\":{\"id\":\"9182025c-1422-4c0f-8913-150cbd4cc3ee\",\"type\":\"BasicTickFormatter\"},\"plot\":{\"id\":\"f6cc313d-2a0d-48b0-b429-00e13acd67f8\",\"subtype\":\"Figure\",\"type\":\"Plot\"},\"ticker\":{\"id\":\"366c377c-75c1-4dd3-ab65-fd27e9f33b68\",\"type\":\"BasicTicker\"}},\"id\":\"ef81fc8e-35b2-4ed1-b042-bb86bf54ce0e\",\"type\":\"LinearAxis\"},{\"attributes\":{},\"id\":\"4f093983-889e-4641-aa84-fefe3b1011db\",\"type\":\"LinearScale\"},{\"attributes\":{},\"id\":\"bf20f5ee-3eb1-4738-847a-76583925a8dd\",\"type\":\"ResetTool\"},{\"attributes\":{},\"id\":\"a6ee8b45-8f06-4369-ba74-b4089fa26cf3\",\"type\":\"HelpTool\"},{\"attributes\":{\"below\":[{\"id\":\"ef81fc8e-35b2-4ed1-b042-bb86bf54ce0e\",\"type\":\"LinearAxis\"}],\"left\":[{\"id\":\"c7a37af8-1bf4-41fc-a216-89d154379240\",\"type\":\"LinearAxis\"}],\"plot_height\":300,\"plot_width\":400,\"renderers\":[{\"id\":\"ef81fc8e-35b2-4ed1-b042-bb86bf54ce0e\",\"type\":\"LinearAxis\"},{\"id\":\"1b74ad9b-ec31-47d9-b716-a260b1c5e759\",\"type\":\"Grid\"},{\"id\":\"c7a37af8-1bf4-41fc-a216-89d154379240\",\"type\":\"LinearAxis\"},{\"id\":\"a5b1ea6a-7e0f-464c-92de-e69bd0683bc6\",\"type\":\"Grid\"},{\"id\":\"9240e256-48c3-408e-8067-2788c272cbdb\",\"type\":\"BoxAnnotation\"},{\"id\":\"f6c38cb9-6c36-4634-868e-a16ec5e4bcec\",\"type\":\"GlyphRenderer\"}],\"title\":{\"id\":\"ec826c97-3447-49e9-bf91-615e01ba07ff\",\"type\":\"Title\"},\"toolbar\":{\"id\":\"4353d09a-8d82-491c-88db-99cf62ee879f\",\"type\":\"Toolbar\"},\"x_range\":{\"id\":\"9e233ace-5943-4a86-b69a-a71638fec3c8\",\"type\":\"DataRange1d\"},\"x_scale\":{\"id\":\"b394ec40-37da-4774-839c-00fb79e72e96\",\"type\":\"LinearScale\"},\"y_range\":{\"id\":\"c62537f9-2452-4eac-81b7-7528f11d1fce\",\"type\":\"DataRange1d\"},\"y_scale\":{\"id\":\"4f093983-889e-4641-aa84-fefe3b1011db\",\"type\":\"LinearScale\"}},\"id\":\"f6cc313d-2a0d-48b0-b429-00e13acd67f8\",\"subtype\":\"Figure\",\"type\":\"Plot\"},{\"attributes\":{},\"id\":\"ecffd6fc-d377-4bbb-b9ef-fc806aae32fb\",\"type\":\"SaveTool\"},{\"attributes\":{},\"id\":\"7da81d39-d772-4964-b06a-6a3ef7302824\",\"type\":\"WheelZoomTool\"},{\"attributes\":{\"callback\":null,\"column_names\":[\"sepal_length\",\"sepal_width\",\"petal_length\",\"petal_width\",\"species\",\"index\"],\"data\":{\"index\":[0,1,2,3,4,5,6,7,8,9,10,11,12,13,14,15,16,17,18,19,20,21,22,23,24,25,26,27,28,29,30,31,32,33,34,35,36,37,38,39,40,41,42,43,44,45,46,47,48,49,50,51,52,53,54,55,56,57,58,59,60,61,62,63,64,65,66,67,68,69,70,71,72,73,74,75,76,77,78,79,80,81,82,83,84,85,86,87,88,89,90,91,92,93,94,95,96,97,98,99,100,101,102,103,104,105,106,107,108,109,110,111,112,113,114,115,116,117,118,119,120,121,122,123,124,125,126,127,128,129,130,131,132,133,134,135,136,137,138,139,140,141,142,143,144,145,146,147,148,149],\"petal_length\":{\"__ndarray__\":\"ZmZmZmZm9j9mZmZmZmb2P83MzMzMzPQ/AAAAAAAA+D9mZmZmZmb2PzMzMzMzM/s/ZmZmZmZm9j8AAAAAAAD4P2ZmZmZmZvY/AAAAAAAA+D8AAAAAAAD4P5qZmZmZmfk/ZmZmZmZm9j+amZmZmZnxPzMzMzMzM/M/AAAAAAAA+D/NzMzMzMz0P2ZmZmZmZvY/MzMzMzMz+z8AAAAAAAD4PzMzMzMzM/s/AAAAAAAA+D8AAAAAAADwPzMzMzMzM/s/ZmZmZmZm/j+amZmZmZn5P5qZmZmZmfk/AAAAAAAA+D9mZmZmZmb2P5qZmZmZmfk/mpmZmZmZ+T8AAAAAAAD4PwAAAAAAAPg/ZmZmZmZm9j8AAAAAAAD4PzMzMzMzM/M/zczMzMzM9D8AAAAAAAD4P83MzMzMzPQ/AAAAAAAA+D/NzMzMzMz0P83MzMzMzPQ/zczMzMzM9D+amZmZmZn5P2ZmZmZmZv4/ZmZmZmZm9j+amZmZmZn5P2ZmZmZmZvY/AAAAAAAA+D9mZmZmZmb2P83MzMzMzBJAAAAAAAAAEkCamZmZmZkTQAAAAAAAABBAZmZmZmZmEkAAAAAAAAASQM3MzMzMzBJAZmZmZmZmCkBmZmZmZmYSQDMzMzMzMw9AAAAAAAAADEDNzMzMzMwQQAAAAAAAABBAzczMzMzMEkDNzMzMzMwMQJqZmZmZmRFAAAAAAAAAEkBmZmZmZmYQQAAAAAAAABJAMzMzMzMzD0AzMzMzMzMTQAAAAAAAABBAmpmZmZmZE0DNzMzMzMwSQDMzMzMzMxFAmpmZmZmZEUAzMzMzMzMTQAAAAAAAABRAAAAAAAAAEkAAAAAAAAAMQGZmZmZmZg5AmpmZmZmZDUAzMzMzMzMPQGZmZmZmZhRAAAAAAAAAEkAAAAAAAAASQM3MzMzMzBJAmpmZmZmZEUBmZmZmZmYQQAAAAAAAABBAmpmZmZmZEUBmZmZmZmYSQAAAAAAAABBAZmZmZmZmCkDNzMzMzMwQQM3MzMzMzBBAzczMzMzMEEAzMzMzMzMRQAAAAAAAAAhAZmZmZmZmEEAAAAAAAAAYQGZmZmZmZhRAmpmZmZmZF0BmZmZmZmYWQDMzMzMzMxdAZmZmZmZmGkAAAAAAAAASQDMzMzMzMxlAMzMzMzMzF0BmZmZmZmYYQGZmZmZmZhRAMzMzMzMzFUAAAAAAAAAWQAAAAAAAABRAZmZmZmZmFEAzMzMzMzMVQAAAAAAAABZAzczMzMzMGkCamZmZmZkbQAAAAAAAABRAzczMzMzMFkCamZmZmZkTQM3MzMzMzBpAmpmZmZmZE0DNzMzMzMwWQAAAAAAAABhAMzMzMzMzE0CamZmZmZkTQGZmZmZmZhZAMzMzMzMzF0BmZmZmZmYYQJqZmZmZmRlAZmZmZmZmFkBmZmZmZmYUQGZmZmZmZhZAZmZmZmZmGEBmZmZmZmYWQAAAAAAAABZAMzMzMzMzE0CamZmZmZkVQGZmZmZmZhZAZmZmZmZmFEBmZmZmZmYUQJqZmZmZmRdAzczMzMzMFkDNzMzMzMwUQAAAAAAAABRAzczMzMzMFECamZmZmZkVQGZmZmZmZhRA\",\"dtype\":\"float64\",\"shape\":[150]},\"petal_width\":{\"__ndarray__\":\"mpmZmZmZyT+amZmZmZnJP5qZmZmZmck/mpmZmZmZyT+amZmZmZnJP5qZmZmZmdk/MzMzMzMz0z+amZmZmZnJP5qZmZmZmck/mpmZmZmZuT+amZmZmZnJP5qZmZmZmck/mpmZmZmZuT+amZmZmZm5P5qZmZmZmck/mpmZmZmZ2T+amZmZmZnZPzMzMzMzM9M/MzMzMzMz0z8zMzMzMzPTP5qZmZmZmck/mpmZmZmZ2T+amZmZmZnJPwAAAAAAAOA/mpmZmZmZyT+amZmZmZnJP5qZmZmZmdk/mpmZmZmZyT+amZmZmZnJP5qZmZmZmck/mpmZmZmZyT+amZmZmZnZP5qZmZmZmbk/mpmZmZmZyT+amZmZmZm5P5qZmZmZmck/mpmZmZmZyT+amZmZmZm5P5qZmZmZmck/mpmZmZmZyT8zMzMzMzPTPzMzMzMzM9M/mpmZmZmZyT8zMzMzMzPjP5qZmZmZmdk/MzMzMzMz0z+amZmZmZnJP5qZmZmZmck/mpmZmZmZyT+amZmZmZnJP2ZmZmZmZvY/AAAAAAAA+D8AAAAAAAD4P83MzMzMzPQ/AAAAAAAA+D/NzMzMzMz0P5qZmZmZmfk/AAAAAAAA8D/NzMzMzMz0P2ZmZmZmZvY/AAAAAAAA8D8AAAAAAAD4PwAAAAAAAPA/ZmZmZmZm9j/NzMzMzMz0P2ZmZmZmZvY/AAAAAAAA+D8AAAAAAADwPwAAAAAAAPg/mpmZmZmZ8T/NzMzMzMz8P83MzMzMzPQ/AAAAAAAA+D8zMzMzMzPzP83MzMzMzPQ/ZmZmZmZm9j9mZmZmZmb2PzMzMzMzM/s/AAAAAAAA+D8AAAAAAADwP5qZmZmZmfE/AAAAAAAA8D8zMzMzMzPzP5qZmZmZmfk/AAAAAAAA+D+amZmZmZn5PwAAAAAAAPg/zczMzMzM9D/NzMzMzMz0P83MzMzMzPQ/MzMzMzMz8z9mZmZmZmb2PzMzMzMzM/M/AAAAAAAA8D/NzMzMzMz0PzMzMzMzM/M/zczMzMzM9D/NzMzMzMz0P5qZmZmZmfE/zczMzMzM9D8AAAAAAAAEQGZmZmZmZv4/zczMzMzMAEDNzMzMzMz8P5qZmZmZmQFAzczMzMzMAEAzMzMzMzP7P83MzMzMzPw/zczMzMzM/D8AAAAAAAAEQAAAAAAAAABAZmZmZmZm/j/NzMzMzMwAQAAAAAAAAABAMzMzMzMzA0BmZmZmZmYCQM3MzMzMzPw/mpmZmZmZAUBmZmZmZmYCQAAAAAAAAPg/ZmZmZmZmAkAAAAAAAAAAQAAAAAAAAABAzczMzMzM/D/NzMzMzMwAQM3MzMzMzPw/zczMzMzM/D/NzMzMzMz8P83MzMzMzABAmpmZmZmZ+T9mZmZmZmb+PwAAAAAAAABAmpmZmZmZAUAAAAAAAAD4P2ZmZmZmZvY/ZmZmZmZmAkAzMzMzMzMDQM3MzMzMzPw/zczMzMzM/D/NzMzMzMwAQDMzMzMzMwNAZmZmZmZmAkBmZmZmZmb+P2ZmZmZmZgJAAAAAAAAABEBmZmZmZmYCQGZmZmZmZv4/AAAAAAAAAEBmZmZmZmYCQM3MzMzMzPw/\",\"dtype\":\"float64\",\"shape\":[150]},\"sepal_length\":{\"__ndarray__\":\"ZmZmZmZmFECamZmZmZkTQM3MzMzMzBJAZmZmZmZmEkAAAAAAAAAUQJqZmZmZmRVAZmZmZmZmEkAAAAAAAAAUQJqZmZmZmRFAmpmZmZmZE0CamZmZmZkVQDMzMzMzMxNAMzMzMzMzE0AzMzMzMzMRQDMzMzMzMxdAzczMzMzMFkCamZmZmZkVQGZmZmZmZhRAzczMzMzMFkBmZmZmZmYUQJqZmZmZmRVAZmZmZmZmFEBmZmZmZmYSQGZmZmZmZhRAMzMzMzMzE0AAAAAAAAAUQAAAAAAAABRAzczMzMzMFEDNzMzMzMwUQM3MzMzMzBJAMzMzMzMzE0CamZmZmZkVQM3MzMzMzBRAAAAAAAAAFkCamZmZmZkTQAAAAAAAABRAAAAAAAAAFkCamZmZmZkTQJqZmZmZmRFAZmZmZmZmFEAAAAAAAAAUQAAAAAAAABJAmpmZmZmZEUAAAAAAAAAUQGZmZmZmZhRAMzMzMzMzE0BmZmZmZmYUQGZmZmZmZhJAMzMzMzMzFUAAAAAAAAAUQAAAAAAAABxAmpmZmZmZGUCamZmZmZkbQAAAAAAAABZAAAAAAAAAGkDNzMzMzMwWQDMzMzMzMxlAmpmZmZmZE0BmZmZmZmYaQM3MzMzMzBRAAAAAAAAAFECamZmZmZkXQAAAAAAAABhAZmZmZmZmGEBmZmZmZmYWQM3MzMzMzBpAZmZmZmZmFkAzMzMzMzMXQM3MzMzMzBhAZmZmZmZmFkCamZmZmZkXQGZmZmZmZhhAMzMzMzMzGUBmZmZmZmYYQJqZmZmZmRlAZmZmZmZmGkAzMzMzMzMbQM3MzMzMzBpAAAAAAAAAGEDNzMzMzMwWQAAAAAAAABZAAAAAAAAAFkAzMzMzMzMXQAAAAAAAABhAmpmZmZmZFUAAAAAAAAAYQM3MzMzMzBpAMzMzMzMzGUBmZmZmZmYWQAAAAAAAABZAAAAAAAAAFkBmZmZmZmYYQDMzMzMzMxdAAAAAAAAAFEBmZmZmZmYWQM3MzMzMzBZAzczMzMzMFkDNzMzMzMwYQGZmZmZmZhRAzczMzMzMFkAzMzMzMzMZQDMzMzMzMxdAZmZmZmZmHEAzMzMzMzMZQAAAAAAAABpAZmZmZmZmHkCamZmZmZkTQDMzMzMzMx1AzczMzMzMGkDNzMzMzMwcQAAAAAAAABpAmpmZmZmZGUAzMzMzMzMbQM3MzMzMzBZAMzMzMzMzF0CamZmZmZkZQAAAAAAAABpAzczMzMzMHkDNzMzMzMweQAAAAAAAABhAmpmZmZmZG0BmZmZmZmYWQM3MzMzMzB5AMzMzMzMzGUDNzMzMzMwaQM3MzMzMzBxAzczMzMzMGEBmZmZmZmYYQJqZmZmZmRlAzczMzMzMHECamZmZmZkdQJqZmZmZmR9AmpmZmZmZGUAzMzMzMzMZQGZmZmZmZhhAzczMzMzMHkAzMzMzMzMZQJqZmZmZmRlAAAAAAAAAGECamZmZmZkbQM3MzMzMzBpAmpmZmZmZG0AzMzMzMzMXQDMzMzMzMxtAzczMzMzMGkDNzMzMzMwaQDMzMzMzMxlAAAAAAAAAGkDNzMzMzMwYQJqZmZmZmRdA\",\"dtype\":\"float64\",\"shape\":[150]},\"sepal_width\":{\"__ndarray__\":\"AAAAAAAADEAAAAAAAAAIQJqZmZmZmQlAzczMzMzMCEDNzMzMzMwMQDMzMzMzMw9AMzMzMzMzC0AzMzMzMzMLQDMzMzMzMwdAzczMzMzMCECamZmZmZkNQDMzMzMzMwtAAAAAAAAACEAAAAAAAAAIQAAAAAAAABBAmpmZmZmZEUAzMzMzMzMPQAAAAAAAAAxAZmZmZmZmDkBmZmZmZmYOQDMzMzMzMwtAmpmZmZmZDUDNzMzMzMwMQGZmZmZmZgpAMzMzMzMzC0AAAAAAAAAIQDMzMzMzMwtAAAAAAAAADEAzMzMzMzMLQJqZmZmZmQlAzczMzMzMCEAzMzMzMzMLQGZmZmZmZhBAzczMzMzMEEDNzMzMzMwIQJqZmZmZmQlAAAAAAAAADEDNzMzMzMwIQAAAAAAAAAhAMzMzMzMzC0AAAAAAAAAMQGZmZmZmZgJAmpmZmZmZCUAAAAAAAAAMQGZmZmZmZg5AAAAAAAAACEBmZmZmZmYOQJqZmZmZmQlAmpmZmZmZDUBmZmZmZmYKQJqZmZmZmQlAmpmZmZmZCUDNzMzMzMwIQGZmZmZmZgJAZmZmZmZmBkBmZmZmZmYGQGZmZmZmZgpAMzMzMzMzA0AzMzMzMzMHQJqZmZmZmQVAAAAAAAAAAEAAAAAAAAAIQJqZmZmZmQFAMzMzMzMzB0AzMzMzMzMHQM3MzMzMzAhAAAAAAAAACECamZmZmZkFQJqZmZmZmQFAAAAAAAAABECamZmZmZkJQGZmZmZmZgZAAAAAAAAABEBmZmZmZmYGQDMzMzMzMwdAAAAAAAAACEBmZmZmZmYGQAAAAAAAAAhAMzMzMzMzB0DNzMzMzMwEQDMzMzMzMwNAMzMzMzMzA0CamZmZmZkFQJqZmZmZmQVAAAAAAAAACEAzMzMzMzMLQM3MzMzMzAhAZmZmZmZmAkAAAAAAAAAIQAAAAAAAAARAzczMzMzMBEAAAAAAAAAIQM3MzMzMzARAZmZmZmZmAkCamZmZmZkFQAAAAAAAAAhAMzMzMzMzB0AzMzMzMzMHQAAAAAAAAARAZmZmZmZmBkBmZmZmZmYKQJqZmZmZmQVAAAAAAAAACEAzMzMzMzMHQAAAAAAAAAhAAAAAAAAACEAAAAAAAAAEQDMzMzMzMwdAAAAAAAAABEDNzMzMzMwMQJqZmZmZmQlAmpmZmZmZBUAAAAAAAAAIQAAAAAAAAARAZmZmZmZmBkCamZmZmZkJQAAAAAAAAAhAZmZmZmZmDkDNzMzMzMwEQJqZmZmZmQFAmpmZmZmZCUBmZmZmZmYGQGZmZmZmZgZAmpmZmZmZBUBmZmZmZmYKQJqZmZmZmQlAZmZmZmZmBkAAAAAAAAAIQGZmZmZmZgZAAAAAAAAACEBmZmZmZmYGQGZmZmZmZg5AZmZmZmZmBkBmZmZmZmYGQM3MzMzMzARAAAAAAAAACEAzMzMzMzMLQM3MzMzMzAhAAAAAAAAACEDNzMzMzMwIQM3MzMzMzAhAzczMzMzMCECamZmZmZkFQJqZmZmZmQlAZmZmZmZmCkAAAAAAAAAIQAAAAAAAAARAAAAAAAAACEAzMzMzMzMLQAAAAAAAAAhA\",\"dtype\":\"float64\",\"shape\":[150]},\"species\":[\"setosa\",\"setosa\",\"setosa\",\"setosa\",\"setosa\",\"setosa\",\"setosa\",\"setosa\",\"setosa\",\"setosa\",\"setosa\",\"setosa\",\"setosa\",\"setosa\",\"setosa\",\"setosa\",\"setosa\",\"setosa\",\"setosa\",\"setosa\",\"setosa\",\"setosa\",\"setosa\",\"setosa\",\"setosa\",\"setosa\",\"setosa\",\"setosa\",\"setosa\",\"setosa\",\"setosa\",\"setosa\",\"setosa\",\"setosa\",\"setosa\",\"setosa\",\"setosa\",\"setosa\",\"setosa\",\"setosa\",\"setosa\",\"setosa\",\"setosa\",\"setosa\",\"setosa\",\"setosa\",\"setosa\",\"setosa\",\"setosa\",\"setosa\",\"versicolor\",\"versicolor\",\"versicolor\",\"versicolor\",\"versicolor\",\"versicolor\",\"versicolor\",\"versicolor\",\"versicolor\",\"versicolor\",\"versicolor\",\"versicolor\",\"versicolor\",\"versicolor\",\"versicolor\",\"versicolor\",\"versicolor\",\"versicolor\",\"versicolor\",\"versicolor\",\"versicolor\",\"versicolor\",\"versicolor\",\"versicolor\",\"versicolor\",\"versicolor\",\"versicolor\",\"versicolor\",\"versicolor\",\"versicolor\",\"versicolor\",\"versicolor\",\"versicolor\",\"versicolor\",\"versicolor\",\"versicolor\",\"versicolor\",\"versicolor\",\"versicolor\",\"versicolor\",\"versicolor\",\"versicolor\",\"versicolor\",\"versicolor\",\"versicolor\",\"versicolor\",\"versicolor\",\"versicolor\",\"versicolor\",\"versicolor\",\"virginica\",\"virginica\",\"virginica\",\"virginica\",\"virginica\",\"virginica\",\"virginica\",\"virginica\",\"virginica\",\"virginica\",\"virginica\",\"virginica\",\"virginica\",\"virginica\",\"virginica\",\"virginica\",\"virginica\",\"virginica\",\"virginica\",\"virginica\",\"virginica\",\"virginica\",\"virginica\",\"virginica\",\"virginica\",\"virginica\",\"virginica\",\"virginica\",\"virginica\",\"virginica\",\"virginica\",\"virginica\",\"virginica\",\"virginica\",\"virginica\",\"virginica\",\"virginica\",\"virginica\",\"virginica\",\"virginica\",\"virginica\",\"virginica\",\"virginica\",\"virginica\",\"virginica\",\"virginica\",\"virginica\",\"virginica\",\"virginica\",\"virginica\"]},\"selected\":null,\"selection_policy\":null},\"id\":\"08f0b608-69cf-490d-8777-58ae967034a3\",\"type\":\"ColumnDataSource\"},{\"attributes\":{\"filters\":[{\"id\":\"2a0aaee9-d097-41de-b024-0cca1b3cc8d9\",\"type\":\"CustomJSFilter\"}],\"source\":{\"id\":\"08f0b608-69cf-490d-8777-58ae967034a3\",\"type\":\"ColumnDataSource\"}},\"id\":\"eddfcc17-76e0-40ca-9284-af9c6c46fe24\",\"type\":\"CDSView\"},{\"attributes\":{\"overlay\":{\"id\":\"9240e256-48c3-408e-8067-2788c272cbdb\",\"type\":\"BoxAnnotation\"}},\"id\":\"d1917cc8-3a43-44fc-b423-6cf6c80c5df3\",\"type\":\"BoxZoomTool\"},{\"attributes\":{\"children\":[{\"id\":\"922c8d16-2f93-46e4-a9d8-2f339d6ca28d\",\"type\":\"RangeSlider\"}]},\"id\":\"0a48a1e3-e27c-453d-acbc-15cc96e5d3f5\",\"type\":\"WidgetBox\"},{\"attributes\":{},\"id\":\"3ca2ede6-2151-4361-a2f0-74d0a8ef9304\",\"type\":\"PanTool\"}],\"root_ids\":[\"12e950c8-3b16-4de5-afaa-3adedf4ce2ff\"]},\"title\":\"Bokeh Application\",\"version\":\"0.12.15\"}};\n",
       "  var render_items = [{\"docid\":\"6bb8383d-472e-46fc-8827-007bb9e4940b\",\"elementid\":\"de623c8d-1c00-498d-92e4-d2ae30b79a0b\",\"modelid\":\"12e950c8-3b16-4de5-afaa-3adedf4ce2ff\"}];\n",
       "  root.Bokeh.embed.embed_items_notebook(docs_json, render_items);\n",
       "\n",
       "  }\n",
       "  if (root.Bokeh !== undefined) {\n",
       "    embed_document(root);\n",
       "  } else {\n",
       "    var attempts = 0;\n",
       "    var timer = setInterval(function(root) {\n",
       "      if (root.Bokeh !== undefined) {\n",
       "        embed_document(root);\n",
       "        clearInterval(timer);\n",
       "      }\n",
       "      attempts++;\n",
       "      if (attempts > 100) {\n",
       "        console.log(\"Bokeh: ERROR: Unable to run BokehJS code because BokehJS library is missing\")\n",
       "        clearInterval(timer);\n",
       "      }\n",
       "    }, 10, root)\n",
       "  }\n",
       "})(window);"
      ],
      "application/vnd.bokehjs_exec.v0+json": ""
     },
     "metadata": {
      "application/vnd.bokehjs_exec.v0+json": {
       "id": "12e950c8-3b16-4de5-afaa-3adedf4ce2ff"
      }
     },
     "output_type": "display_data"
    }
   ],
   "source": [
    "from bokeh.models import RangeSlider, CustomJSFilter\n",
    "source = ColumnDataSource(data=df)\n",
    "fig = figure(plot_width=400, plot_height=300)\n",
    "slider = RangeSlider(start=df.petal_length.min(), end=df.petal_length.max(), \n",
    "                     value=(df.petal_length.min(), df.petal_length.max()), step=0.1, title=\"petal length\")\n",
    "\n",
    "def func_filter(source=source, slider=slider):\n",
    "    data = source.data['petal_length']\n",
    "    start, end = slider.value\n",
    "    res = []\n",
    "    for i in range(len(data)):\n",
    "        res.append(start <= data[i] <= end)\n",
    "    return res\n",
    "    \n",
    "view = CDSView(source=source, filters=[CustomJSFilter.from_py_func(func_filter)])\n",
    "\n",
    "c = fig.circle(\"sepal_length\", \"sepal_width\", \n",
    "               fill_color=linear_cmap(\"petal_length\", Viridis[256], df.petal_length.min(), df.petal_length.max()),\n",
    "               line_color=None, source=source, view=view, alpha=1, size=6)\n",
    "\n",
    "def on_range_changed(source=source):\n",
    "    source.change.emit()\n",
    "    \n",
    "slider.callback = CustomJS.from_py_func(on_range_changed)    \n",
    "\n",
    "show(column(slider, fig))"
   ]
  }
 ],
 "metadata": {
  "kernelspec": {
   "display_name": "Python 3",
   "language": "python",
   "name": "python3"
  },
  "language_info": {
   "codemirror_mode": {
    "name": "ipython",
    "version": 3
   },
   "file_extension": ".py",
   "mimetype": "text/x-python",
   "name": "python",
   "nbconvert_exporter": "python",
   "pygments_lexer": "ipython3",
   "version": "3.6.4"
  }
 },
 "nbformat": 4,
 "nbformat_minor": 2
}
