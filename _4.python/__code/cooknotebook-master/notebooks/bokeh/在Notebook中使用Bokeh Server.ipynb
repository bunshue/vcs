{
 "cells": [
  {
   "cell_type": "markdown",
   "metadata": {},
   "source": [
    "# 在Notebook中使用Bokeh Server"
   ]
  },
  {
   "cell_type": "markdown",
   "metadata": {},
   "source": [
    "Bokeh提供了服务器模式，可以使用服务器中的Python函数响应浏览器Javascript产生的事件，并在事件响应函数中修改`Document`刷新浏览器的显示。通常为了使用Bokeh服务器，需要编写一个`py`文件，例如`demo.py`，然后调用`bokeh serve demo.py`运行服务器，最后在浏览器中打开`http://localhost:5006`连接服务器。"
   ]
  },
  {
   "cell_type": "code",
   "execution_count": 1,
   "metadata": {},
   "outputs": [
    {
     "data": {
      "text/html": [
       "\n",
       "    <div class=\"bk-root\">\n",
       "        <a href=\"https://bokeh.pydata.org\" target=\"_blank\" class=\"bk-logo bk-logo-small bk-logo-notebook\"></a>\n",
       "        <span id=\"4857be10-9ee3-4a8b-acc4-cfee0323563f\">Loading BokehJS ...</span>\n",
       "    </div>"
      ]
     },
     "metadata": {},
     "output_type": "display_data"
    },
    {
     "data": {
      "application/javascript": [
       "\n",
       "(function(root) {\n",
       "  function now() {\n",
       "    return new Date();\n",
       "  }\n",
       "\n",
       "  var force = true;\n",
       "\n",
       "  if (typeof (root._bokeh_onload_callbacks) === \"undefined\" || force === true) {\n",
       "    root._bokeh_onload_callbacks = [];\n",
       "    root._bokeh_is_loading = undefined;\n",
       "  }\n",
       "\n",
       "  var JS_MIME_TYPE = 'application/javascript';\n",
       "  var HTML_MIME_TYPE = 'text/html';\n",
       "  var EXEC_MIME_TYPE = 'application/vnd.bokehjs_exec.v0+json';\n",
       "  var CLASS_NAME = 'output_bokeh rendered_html';\n",
       "\n",
       "  /**\n",
       "   * Render data to the DOM node\n",
       "   */\n",
       "  function render(props, node) {\n",
       "    var script = document.createElement(\"script\");\n",
       "    node.appendChild(script);\n",
       "  }\n",
       "\n",
       "  /**\n",
       "   * Handle when an output is cleared or removed\n",
       "   */\n",
       "  function handleClearOutput(event, handle) {\n",
       "    var cell = handle.cell;\n",
       "\n",
       "    var id = cell.output_area._bokeh_element_id;\n",
       "    var server_id = cell.output_area._bokeh_server_id;\n",
       "    // Clean up Bokeh references\n",
       "    if (id !== undefined) {\n",
       "      Bokeh.index[id].model.document.clear();\n",
       "      delete Bokeh.index[id];\n",
       "    }\n",
       "\n",
       "    if (server_id !== undefined) {\n",
       "      // Clean up Bokeh references\n",
       "      var cmd = \"from bokeh.io.state import curstate; print(curstate().uuid_to_server['\" + server_id + \"'].get_sessions()[0].document.roots[0]._id)\";\n",
       "      cell.notebook.kernel.execute(cmd, {\n",
       "        iopub: {\n",
       "          output: function(msg) {\n",
       "            var element_id = msg.content.text.trim();\n",
       "            Bokeh.index[element_id].model.document.clear();\n",
       "            delete Bokeh.index[element_id];\n",
       "          }\n",
       "        }\n",
       "      });\n",
       "      // Destroy server and session\n",
       "      var cmd = \"import bokeh.io.notebook as ion; ion.destroy_server('\" + server_id + \"')\";\n",
       "      cell.notebook.kernel.execute(cmd);\n",
       "    }\n",
       "  }\n",
       "\n",
       "  /**\n",
       "   * Handle when a new output is added\n",
       "   */\n",
       "  function handleAddOutput(event, handle) {\n",
       "    var output_area = handle.output_area;\n",
       "    var output = handle.output;\n",
       "\n",
       "    // limit handleAddOutput to display_data with EXEC_MIME_TYPE content only\n",
       "    if ((output.output_type != \"display_data\") || (!output.data.hasOwnProperty(EXEC_MIME_TYPE))) {\n",
       "      return\n",
       "    }\n",
       "\n",
       "    var toinsert = output_area.element.find(\".\" + CLASS_NAME.split(' ')[0]);\n",
       "\n",
       "    if (output.metadata[EXEC_MIME_TYPE][\"id\"] !== undefined) {\n",
       "      toinsert[toinsert.length - 1].firstChild.textContent = output.data[JS_MIME_TYPE];\n",
       "      // store reference to embed id on output_area\n",
       "      output_area._bokeh_element_id = output.metadata[EXEC_MIME_TYPE][\"id\"];\n",
       "    }\n",
       "    if (output.metadata[EXEC_MIME_TYPE][\"server_id\"] !== undefined) {\n",
       "      var bk_div = document.createElement(\"div\");\n",
       "      bk_div.innerHTML = output.data[HTML_MIME_TYPE];\n",
       "      var script_attrs = bk_div.children[0].attributes;\n",
       "      for (var i = 0; i < script_attrs.length; i++) {\n",
       "        toinsert[toinsert.length - 1].firstChild.setAttribute(script_attrs[i].name, script_attrs[i].value);\n",
       "      }\n",
       "      // store reference to server id on output_area\n",
       "      output_area._bokeh_server_id = output.metadata[EXEC_MIME_TYPE][\"server_id\"];\n",
       "    }\n",
       "  }\n",
       "\n",
       "  function register_renderer(events, OutputArea) {\n",
       "\n",
       "    function append_mime(data, metadata, element) {\n",
       "      // create a DOM node to render to\n",
       "      var toinsert = this.create_output_subarea(\n",
       "        metadata,\n",
       "        CLASS_NAME,\n",
       "        EXEC_MIME_TYPE\n",
       "      );\n",
       "      this.keyboard_manager.register_events(toinsert);\n",
       "      // Render to node\n",
       "      var props = {data: data, metadata: metadata[EXEC_MIME_TYPE]};\n",
       "      render(props, toinsert[toinsert.length - 1]);\n",
       "      element.append(toinsert);\n",
       "      return toinsert\n",
       "    }\n",
       "\n",
       "    /* Handle when an output is cleared or removed */\n",
       "    events.on('clear_output.CodeCell', handleClearOutput);\n",
       "    events.on('delete.Cell', handleClearOutput);\n",
       "\n",
       "    /* Handle when a new output is added */\n",
       "    events.on('output_added.OutputArea', handleAddOutput);\n",
       "\n",
       "    /**\n",
       "     * Register the mime type and append_mime function with output_area\n",
       "     */\n",
       "    OutputArea.prototype.register_mime_type(EXEC_MIME_TYPE, append_mime, {\n",
       "      /* Is output safe? */\n",
       "      safe: true,\n",
       "      /* Index of renderer in `output_area.display_order` */\n",
       "      index: 0\n",
       "    });\n",
       "  }\n",
       "\n",
       "  // register the mime type if in Jupyter Notebook environment and previously unregistered\n",
       "  if (root.Jupyter !== undefined) {\n",
       "    var events = require('base/js/events');\n",
       "    var OutputArea = require('notebook/js/outputarea').OutputArea;\n",
       "\n",
       "    if (OutputArea.prototype.mime_types().indexOf(EXEC_MIME_TYPE) == -1) {\n",
       "      register_renderer(events, OutputArea);\n",
       "    }\n",
       "  }\n",
       "\n",
       "  \n",
       "  if (typeof (root._bokeh_timeout) === \"undefined\" || force === true) {\n",
       "    root._bokeh_timeout = Date.now() + 5000;\n",
       "    root._bokeh_failed_load = false;\n",
       "  }\n",
       "\n",
       "  var NB_LOAD_WARNING = {'data': {'text/html':\n",
       "     \"<div style='background-color: #fdd'>\\n\"+\n",
       "     \"<p>\\n\"+\n",
       "     \"BokehJS does not appear to have successfully loaded. If loading BokehJS from CDN, this \\n\"+\n",
       "     \"may be due to a slow or bad network connection. Possible fixes:\\n\"+\n",
       "     \"</p>\\n\"+\n",
       "     \"<ul>\\n\"+\n",
       "     \"<li>re-rerun `output_notebook()` to attempt to load from CDN again, or</li>\\n\"+\n",
       "     \"<li>use INLINE resources instead, as so:</li>\\n\"+\n",
       "     \"</ul>\\n\"+\n",
       "     \"<code>\\n\"+\n",
       "     \"from bokeh.resources import INLINE\\n\"+\n",
       "     \"output_notebook(resources=INLINE)\\n\"+\n",
       "     \"</code>\\n\"+\n",
       "     \"</div>\"}};\n",
       "\n",
       "  function display_loaded() {\n",
       "    var el = document.getElementById(\"4857be10-9ee3-4a8b-acc4-cfee0323563f\");\n",
       "    if (el != null) {\n",
       "      el.textContent = \"BokehJS is loading...\";\n",
       "    }\n",
       "    if (root.Bokeh !== undefined) {\n",
       "      if (el != null) {\n",
       "        el.textContent = \"BokehJS \" + root.Bokeh.version + \" successfully loaded.\";\n",
       "      }\n",
       "    } else if (Date.now() < root._bokeh_timeout) {\n",
       "      setTimeout(display_loaded, 100)\n",
       "    }\n",
       "  }\n",
       "\n",
       "\n",
       "  function run_callbacks() {\n",
       "    try {\n",
       "      root._bokeh_onload_callbacks.forEach(function(callback) { callback() });\n",
       "    }\n",
       "    finally {\n",
       "      delete root._bokeh_onload_callbacks\n",
       "    }\n",
       "    console.info(\"Bokeh: all callbacks have finished\");\n",
       "  }\n",
       "\n",
       "  function load_libs(js_urls, callback) {\n",
       "    root._bokeh_onload_callbacks.push(callback);\n",
       "    if (root._bokeh_is_loading > 0) {\n",
       "      console.log(\"Bokeh: BokehJS is being loaded, scheduling callback at\", now());\n",
       "      return null;\n",
       "    }\n",
       "    if (js_urls == null || js_urls.length === 0) {\n",
       "      run_callbacks();\n",
       "      return null;\n",
       "    }\n",
       "    console.log(\"Bokeh: BokehJS not loaded, scheduling load and callback at\", now());\n",
       "    root._bokeh_is_loading = js_urls.length;\n",
       "    for (var i = 0; i < js_urls.length; i++) {\n",
       "      var url = js_urls[i];\n",
       "      var s = document.createElement('script');\n",
       "      s.src = url;\n",
       "      s.async = false;\n",
       "      s.onreadystatechange = s.onload = function() {\n",
       "        root._bokeh_is_loading--;\n",
       "        if (root._bokeh_is_loading === 0) {\n",
       "          console.log(\"Bokeh: all BokehJS libraries loaded\");\n",
       "          run_callbacks()\n",
       "        }\n",
       "      };\n",
       "      s.onerror = function() {\n",
       "        console.warn(\"failed to load library \" + url);\n",
       "      };\n",
       "      console.log(\"Bokeh: injecting script tag for BokehJS library: \", url);\n",
       "      document.getElementsByTagName(\"head\")[0].appendChild(s);\n",
       "    }\n",
       "  };var element = document.getElementById(\"4857be10-9ee3-4a8b-acc4-cfee0323563f\");\n",
       "  if (element == null) {\n",
       "    console.log(\"Bokeh: ERROR: autoload.js configured with elementid '4857be10-9ee3-4a8b-acc4-cfee0323563f' but no matching script tag was found. \")\n",
       "    return false;\n",
       "  }\n",
       "\n",
       "  var js_urls = [\"https://cdn.pydata.org/bokeh/release/bokeh-0.12.15.min.js\", \"https://cdn.pydata.org/bokeh/release/bokeh-widgets-0.12.15.min.js\", \"https://cdn.pydata.org/bokeh/release/bokeh-tables-0.12.15.min.js\", \"https://cdn.pydata.org/bokeh/release/bokeh-gl-0.12.15.min.js\"];\n",
       "\n",
       "  var inline_js = [\n",
       "    function(Bokeh) {\n",
       "      Bokeh.set_log_level(\"info\");\n",
       "    },\n",
       "    \n",
       "    function(Bokeh) {\n",
       "      \n",
       "    },\n",
       "    function(Bokeh) {\n",
       "      console.log(\"Bokeh: injecting CSS: https://cdn.pydata.org/bokeh/release/bokeh-0.12.15.min.css\");\n",
       "      Bokeh.embed.inject_css(\"https://cdn.pydata.org/bokeh/release/bokeh-0.12.15.min.css\");\n",
       "      console.log(\"Bokeh: injecting CSS: https://cdn.pydata.org/bokeh/release/bokeh-widgets-0.12.15.min.css\");\n",
       "      Bokeh.embed.inject_css(\"https://cdn.pydata.org/bokeh/release/bokeh-widgets-0.12.15.min.css\");\n",
       "      console.log(\"Bokeh: injecting CSS: https://cdn.pydata.org/bokeh/release/bokeh-tables-0.12.15.min.css\");\n",
       "      Bokeh.embed.inject_css(\"https://cdn.pydata.org/bokeh/release/bokeh-tables-0.12.15.min.css\");\n",
       "    }\n",
       "  ];\n",
       "\n",
       "  function run_inline_js() {\n",
       "    \n",
       "    if ((root.Bokeh !== undefined) || (force === true)) {\n",
       "      for (var i = 0; i < inline_js.length; i++) {\n",
       "        inline_js[i].call(root, root.Bokeh);\n",
       "      }if (force === true) {\n",
       "        display_loaded();\n",
       "      }} else if (Date.now() < root._bokeh_timeout) {\n",
       "      setTimeout(run_inline_js, 100);\n",
       "    } else if (!root._bokeh_failed_load) {\n",
       "      console.log(\"Bokeh: BokehJS failed to load within specified timeout.\");\n",
       "      root._bokeh_failed_load = true;\n",
       "    } else if (force !== true) {\n",
       "      var cell = $(document.getElementById(\"4857be10-9ee3-4a8b-acc4-cfee0323563f\")).parents('.cell').data().cell;\n",
       "      cell.output_area.append_execute_result(NB_LOAD_WARNING)\n",
       "    }\n",
       "\n",
       "  }\n",
       "\n",
       "  if (root._bokeh_is_loading === 0) {\n",
       "    console.log(\"Bokeh: BokehJS loaded, going straight to plotting\");\n",
       "    run_inline_js();\n",
       "  } else {\n",
       "    load_libs(js_urls, function() {\n",
       "      console.log(\"Bokeh: BokehJS plotting callback run at\", now());\n",
       "      run_inline_js();\n",
       "    });\n",
       "  }\n",
       "}(window));"
      ],
      "application/vnd.bokehjs_load.v0+json": "\n(function(root) {\n  function now() {\n    return new Date();\n  }\n\n  var force = true;\n\n  if (typeof (root._bokeh_onload_callbacks) === \"undefined\" || force === true) {\n    root._bokeh_onload_callbacks = [];\n    root._bokeh_is_loading = undefined;\n  }\n\n  \n\n  \n  if (typeof (root._bokeh_timeout) === \"undefined\" || force === true) {\n    root._bokeh_timeout = Date.now() + 5000;\n    root._bokeh_failed_load = false;\n  }\n\n  var NB_LOAD_WARNING = {'data': {'text/html':\n     \"<div style='background-color: #fdd'>\\n\"+\n     \"<p>\\n\"+\n     \"BokehJS does not appear to have successfully loaded. If loading BokehJS from CDN, this \\n\"+\n     \"may be due to a slow or bad network connection. Possible fixes:\\n\"+\n     \"</p>\\n\"+\n     \"<ul>\\n\"+\n     \"<li>re-rerun `output_notebook()` to attempt to load from CDN again, or</li>\\n\"+\n     \"<li>use INLINE resources instead, as so:</li>\\n\"+\n     \"</ul>\\n\"+\n     \"<code>\\n\"+\n     \"from bokeh.resources import INLINE\\n\"+\n     \"output_notebook(resources=INLINE)\\n\"+\n     \"</code>\\n\"+\n     \"</div>\"}};\n\n  function display_loaded() {\n    var el = document.getElementById(\"4857be10-9ee3-4a8b-acc4-cfee0323563f\");\n    if (el != null) {\n      el.textContent = \"BokehJS is loading...\";\n    }\n    if (root.Bokeh !== undefined) {\n      if (el != null) {\n        el.textContent = \"BokehJS \" + root.Bokeh.version + \" successfully loaded.\";\n      }\n    } else if (Date.now() < root._bokeh_timeout) {\n      setTimeout(display_loaded, 100)\n    }\n  }\n\n\n  function run_callbacks() {\n    try {\n      root._bokeh_onload_callbacks.forEach(function(callback) { callback() });\n    }\n    finally {\n      delete root._bokeh_onload_callbacks\n    }\n    console.info(\"Bokeh: all callbacks have finished\");\n  }\n\n  function load_libs(js_urls, callback) {\n    root._bokeh_onload_callbacks.push(callback);\n    if (root._bokeh_is_loading > 0) {\n      console.log(\"Bokeh: BokehJS is being loaded, scheduling callback at\", now());\n      return null;\n    }\n    if (js_urls == null || js_urls.length === 0) {\n      run_callbacks();\n      return null;\n    }\n    console.log(\"Bokeh: BokehJS not loaded, scheduling load and callback at\", now());\n    root._bokeh_is_loading = js_urls.length;\n    for (var i = 0; i < js_urls.length; i++) {\n      var url = js_urls[i];\n      var s = document.createElement('script');\n      s.src = url;\n      s.async = false;\n      s.onreadystatechange = s.onload = function() {\n        root._bokeh_is_loading--;\n        if (root._bokeh_is_loading === 0) {\n          console.log(\"Bokeh: all BokehJS libraries loaded\");\n          run_callbacks()\n        }\n      };\n      s.onerror = function() {\n        console.warn(\"failed to load library \" + url);\n      };\n      console.log(\"Bokeh: injecting script tag for BokehJS library: \", url);\n      document.getElementsByTagName(\"head\")[0].appendChild(s);\n    }\n  };var element = document.getElementById(\"4857be10-9ee3-4a8b-acc4-cfee0323563f\");\n  if (element == null) {\n    console.log(\"Bokeh: ERROR: autoload.js configured with elementid '4857be10-9ee3-4a8b-acc4-cfee0323563f' but no matching script tag was found. \")\n    return false;\n  }\n\n  var js_urls = [\"https://cdn.pydata.org/bokeh/release/bokeh-0.12.15.min.js\", \"https://cdn.pydata.org/bokeh/release/bokeh-widgets-0.12.15.min.js\", \"https://cdn.pydata.org/bokeh/release/bokeh-tables-0.12.15.min.js\", \"https://cdn.pydata.org/bokeh/release/bokeh-gl-0.12.15.min.js\"];\n\n  var inline_js = [\n    function(Bokeh) {\n      Bokeh.set_log_level(\"info\");\n    },\n    \n    function(Bokeh) {\n      \n    },\n    function(Bokeh) {\n      console.log(\"Bokeh: injecting CSS: https://cdn.pydata.org/bokeh/release/bokeh-0.12.15.min.css\");\n      Bokeh.embed.inject_css(\"https://cdn.pydata.org/bokeh/release/bokeh-0.12.15.min.css\");\n      console.log(\"Bokeh: injecting CSS: https://cdn.pydata.org/bokeh/release/bokeh-widgets-0.12.15.min.css\");\n      Bokeh.embed.inject_css(\"https://cdn.pydata.org/bokeh/release/bokeh-widgets-0.12.15.min.css\");\n      console.log(\"Bokeh: injecting CSS: https://cdn.pydata.org/bokeh/release/bokeh-tables-0.12.15.min.css\");\n      Bokeh.embed.inject_css(\"https://cdn.pydata.org/bokeh/release/bokeh-tables-0.12.15.min.css\");\n    }\n  ];\n\n  function run_inline_js() {\n    \n    if ((root.Bokeh !== undefined) || (force === true)) {\n      for (var i = 0; i < inline_js.length; i++) {\n        inline_js[i].call(root, root.Bokeh);\n      }if (force === true) {\n        display_loaded();\n      }} else if (Date.now() < root._bokeh_timeout) {\n      setTimeout(run_inline_js, 100);\n    } else if (!root._bokeh_failed_load) {\n      console.log(\"Bokeh: BokehJS failed to load within specified timeout.\");\n      root._bokeh_failed_load = true;\n    } else if (force !== true) {\n      var cell = $(document.getElementById(\"4857be10-9ee3-4a8b-acc4-cfee0323563f\")).parents('.cell').data().cell;\n      cell.output_area.append_execute_result(NB_LOAD_WARNING)\n    }\n\n  }\n\n  if (root._bokeh_is_loading === 0) {\n    console.log(\"Bokeh: BokehJS loaded, going straight to plotting\");\n    run_inline_js();\n  } else {\n    load_libs(js_urls, function() {\n      console.log(\"Bokeh: BokehJS plotting callback run at\", now());\n      run_inline_js();\n    });\n  }\n}(window));"
     },
     "metadata": {},
     "output_type": "display_data"
    }
   ],
   "source": [
    "from bokeh.io import show, output_notebook\n",
    "from bokeh.models import Slider, TextInput\n",
    "from bokeh.layouts import row\n",
    "output_notebook()"
   ]
  },
  {
   "cell_type": "markdown",
   "metadata": {},
   "source": [
    "## 运行服务器"
   ]
  },
  {
   "cell_type": "markdown",
   "metadata": {},
   "source": [
    "Notebook中调用`show()`时如果传递的是一个函数对象，Bokeh会为该函数创建服务器，并在Notebook中连接该服务器。\n",
    "\n",
    "传递给`show()`的函数的参数为`Document`对象，在该函数之内创建控件和图表，并将包含它们的布局对象传递给`Document.add_root()`。下面的例子中创建一个`TextInput`和一个`Slider`控件，在`Slider`控件的`value`修改事件中设置`TextInput`控件的`value`属性。\n",
    "\n",
    "当用户在界面中调节滑动条控件的值时，浏览器会向服务器发送值修改事件，在该事件的响应函数`callback()`中修改`text.value`的值，引起Python中的`Document`对象的改变，服务器会将改变发送给浏览器，更新浏览器中的`Document`对象。"
   ]
  },
  {
   "cell_type": "code",
   "execution_count": 3,
   "metadata": {},
   "outputs": [],
   "source": [
    "def app(doc):\n",
    "    text = TextInput()\n",
    "    slider = Slider(title=\"value\", start=0, end=100, value=0, step=1)\n",
    "    def callback(attr, old, new):\n",
    "        text.value = str(new)\n",
    "    slider.on_change(\"value\", callback)\n",
    "    doc.add_root(row(slider, text))"
   ]
  },
  {
   "cell_type": "markdown",
   "metadata": {},
   "source": [
    "每运行一次`show()`，都将创建一个新的服务器。每连接一次服务器将创建一个新的`Session`对象。然后创建一个新的`Document`对象，并调用`app()`更新它。每个`Session`中保存有自己的`Document`对象。"
   ]
  },
  {
   "cell_type": "code",
   "execution_count": 4,
   "metadata": {},
   "outputs": [
    {
     "data": {
      "application/vnd.bokehjs_exec.v0+json": "",
      "text/html": [
       "\n",
       "<script\n",
       "    src=\"http://localhost:52506/autoload.js?bokeh-autoload-element=064666a4-2b32-4dc8-8c69-eaa3a664d144&bokeh-absolute-url=http://localhost:52506&resources=none\"\n",
       "    id=\"064666a4-2b32-4dc8-8c69-eaa3a664d144\"\n",
       "    data-bokeh-model-id=\"\"\n",
       "    data-bokeh-doc-id=\"\"\n",
       "></script>"
      ]
     },
     "metadata": {
      "application/vnd.bokehjs_exec.v0+json": {
       "server_id": "ed68a542b64748688ee9ff58251d5253"
      }
     },
     "output_type": "display_data"
    }
   ],
   "source": [
    "show(app)"
   ]
  },
  {
   "cell_type": "markdown",
   "metadata": {},
   "source": [
    "下面查看当前的所有服务器："
   ]
  },
  {
   "cell_type": "code",
   "execution_count": 8,
   "metadata": {},
   "outputs": [
    {
     "data": {
      "text/plain": [
       "{'ed68a542b64748688ee9ff58251d5253': <bokeh.server.server.Server at 0x1f205d84c18>}"
      ]
     },
     "execution_count": 8,
     "metadata": {},
     "output_type": "execute_result"
    }
   ],
   "source": [
    "from bokeh.io.state import curstate\n",
    "curstate().uuid_to_server"
   ]
  },
  {
   "cell_type": "markdown",
   "metadata": {},
   "source": [
    "下面查看第一个服务器中的所有`Session`对象："
   ]
  },
  {
   "cell_type": "code",
   "execution_count": 14,
   "metadata": {},
   "outputs": [
    {
     "data": {
      "text/plain": [
       "[<bokeh.server.session.ServerSession at 0x1f205f43cc0>]"
      ]
     },
     "execution_count": 14,
     "metadata": {},
     "output_type": "execute_result"
    }
   ],
   "source": [
    "server = list(curstate().uuid_to_server.values())[0]\n",
    "server.get_sessions()"
   ]
  },
  {
   "cell_type": "markdown",
   "metadata": {},
   "source": [
    "下面显示`Document`对象中的所有模型，其中`Row`、`Slider`和`TextInput`是`app()`中产生的，而`WidgetBox`是为了包装两个控件自动创建的。"
   ]
  },
  {
   "cell_type": "code",
   "execution_count": 17,
   "metadata": {},
   "outputs": [
    {
     "data": {
      "text/plain": [
       "{'2fbaa6ff-f7b4-40e6-95df-ff8a741d2bf8': Row(id='2fbaa6ff-f7b4-40e6-95df-ff8a741d2bf8', ...),\n",
       " '5cda7547-40d8-4eaa-a237-4679a8b773d5': Slider(id='5cda7547-40d8-4eaa-a237-4679a8b773d5', ...),\n",
       " '6053213c-8295-4a6b-b7f8-ec836340e67d': TextInput(id='6053213c-8295-4a6b-b7f8-ec836340e67d', ...),\n",
       " '60af5b4e-a88e-43c6-9ff6-4180ffe83ccb': WidgetBox(id='60af5b4e-a88e-43c6-9ff6-4180ffe83ccb', ...),\n",
       " 'abe50140-f542-424a-b25a-ad909bd7f9e2': WidgetBox(id='abe50140-f542-424a-b25a-ad909bd7f9e2', ...)}"
      ]
     },
     "execution_count": 17,
     "metadata": {},
     "output_type": "execute_result"
    }
   ],
   "source": [
    "session = server.get_sessions()[0]\n",
    "session.document._all_models"
   ]
  },
  {
   "cell_type": "markdown",
   "metadata": {},
   "source": [
    "为了让浏览器能直接连接服务器，需要配置Web Socket的来源。下面将`localhost:server.port`添加进`_websocket_origins`中。并显示服务器的访问地址："
   ]
  },
  {
   "cell_type": "code",
   "execution_count": 19,
   "metadata": {},
   "outputs": [
    {
     "name": "stdout",
     "output_type": "stream",
     "text": [
      "localhost:52506\n"
     ]
    },
    {
     "name": "stderr",
     "output_type": "stream",
     "text": [
      "WARNING:tornado.access:404 GET /favicon.ico (::1) 1.00ms\n",
      "WARNING:tornado.access:404 GET /favicon.ico (::1) 1.00ms\n"
     ]
    }
   ],
   "source": [
    "from bokeh.io.state import curstate\n",
    "server = list(curstate().uuid_to_server.values())[0]\n",
    "server_link = \"localhost:{}\".format(server.port)\n",
    "server._tornado._websocket_origins.add(server_link)\n",
    "print(server_link)"
   ]
  },
  {
   "cell_type": "markdown",
   "metadata": {},
   "source": [
    "在浏览器中打开上面的地址，即可看到一组新的滚动条控件和文本输入框，它们和本Notebook中显示的控件属于不同的`Document`对象，因此是相互独立的。\n",
    "\n",
    "再次查看`Session`对象中的`Document`对象:"
   ]
  },
  {
   "cell_type": "code",
   "execution_count": 22,
   "metadata": {},
   "outputs": [
    {
     "data": {
      "text/plain": [
       "[<bokeh.document.document.Document at 0x1f205f43be0>,\n",
       " <bokeh.document.document.Document at 0x1f206108390>]"
      ]
     },
     "execution_count": 22,
     "metadata": {},
     "output_type": "execute_result"
    }
   ],
   "source": [
    "[session.document for session in server.get_sessions()]"
   ]
  },
  {
   "cell_type": "markdown",
   "metadata": {},
   "source": [
    "## 定期更新"
   ]
  },
  {
   "cell_type": "markdown",
   "metadata": {},
   "source": [
    "### 使用周期回调函数实现定期更新"
   ]
  },
  {
   "cell_type": "markdown",
   "metadata": {},
   "source": [
    "使用`Document.add_periodic_callback(callback, period_milliseconds)`添加定期回调函数。在该回调函数中修改`nonlocal`变量`count`的值，并在文本框中显示其值。"
   ]
  },
  {
   "cell_type": "code",
   "execution_count": 24,
   "metadata": {},
   "outputs": [
    {
     "data": {
      "application/vnd.bokehjs_exec.v0+json": "",
      "text/html": [
       "\n",
       "<script\n",
       "    src=\"http://localhost:52640/autoload.js?bokeh-autoload-element=25860631-7d99-469c-97cb-792c83f19813&bokeh-absolute-url=http://localhost:52640&resources=none\"\n",
       "    id=\"25860631-7d99-469c-97cb-792c83f19813\"\n",
       "    data-bokeh-model-id=\"\"\n",
       "    data-bokeh-doc-id=\"\"\n",
       "></script>"
      ]
     },
     "metadata": {
      "application/vnd.bokehjs_exec.v0+json": {
       "server_id": "de0d7697fe334682a0e9a97038344651"
      }
     },
     "output_type": "display_data"
    }
   ],
   "source": [
    "def period_update_app(doc):\n",
    "    text = TextInput()\n",
    "    count = 0\n",
    "    def callback():\n",
    "        nonlocal count\n",
    "        text.value = str(count)\n",
    "        count += 1\n",
    "    doc.add_periodic_callback(callback, 100)\n",
    "    doc.add_root(text)\n",
    "    \n",
    "show(period_update_app)"
   ]
  },
  {
   "cell_type": "markdown",
   "metadata": {},
   "source": [
    "上面的例子使用回调函数实现定期更新，在回调函数中更新的变量需要`nonlocal`声明。还可以使用Python的`async`函数，在该函数的内部使用循环更新界面。"
   ]
  },
  {
   "cell_type": "markdown",
   "metadata": {},
   "source": [
    "### 使用async函数实现定期更新"
   ]
  },
  {
   "cell_type": "markdown",
   "metadata": {},
   "source": [
    "下面的例子中，使用`doc.add_next_tick_callback()`将`async`函数`task`添加进需要立即处理的队列中。`task`函数需要`@without_document_lock`修饰，否则服务器会等待该函数的运行结束。由于`task`运行时没有锁定文档，因此无法在其中直接更新文档，而需要通过`add_next_tick_callback()`将更新界面的函数添加进处理队列。\n",
    "\n",
    "在`task`函数中使用`await gen.sleep(0.1)`使其等待0.1秒。在其等待的过程中Bokeh服务器仍然可以处理其它事务。\n",
    "\n",
    "该例虽然比使用周期回掉函数的方法麻烦，但是所有的处理逻辑都在一个`async`函数内部，而界面处理则在另一个函数中。起到了逻辑分离的作用。而我们可以用`await`等待其它的事件，例如等待从网络获取新的数据。"
   ]
  },
  {
   "cell_type": "code",
   "execution_count": 29,
   "metadata": {},
   "outputs": [
    {
     "data": {
      "application/vnd.bokehjs_exec.v0+json": "",
      "text/html": [
       "\n",
       "<script\n",
       "    src=\"http://localhost:52661/autoload.js?bokeh-autoload-element=97e631fb-a00b-4273-8593-4088d91c9caa&bokeh-absolute-url=http://localhost:52661&resources=none\"\n",
       "    id=\"97e631fb-a00b-4273-8593-4088d91c9caa\"\n",
       "    data-bokeh-model-id=\"\"\n",
       "    data-bokeh-doc-id=\"\"\n",
       "></script>"
      ]
     },
     "metadata": {
      "application/vnd.bokehjs_exec.v0+json": {
       "server_id": "762f41c23f8c40bdb4a4492fd483aa08"
      }
     },
     "output_type": "display_data"
    }
   ],
   "source": [
    "from bokeh.document import without_document_lock\n",
    "import itertools\n",
    "from functools import partial\n",
    "from tornado import gen\n",
    "\n",
    "def period_coroutine_update_app(doc):\n",
    "    text = TextInput()\n",
    "    \n",
    "    def update(count):\n",
    "        text.value = str(count)\n",
    "    \n",
    "    @without_document_lock\n",
    "    async def task():\n",
    "        for i in itertools.count():\n",
    "            doc.add_next_tick_callback(partial(update, i))\n",
    "            await gen.sleep(0.1)\n",
    "            \n",
    "    doc.add_next_tick_callback(task)\n",
    "    doc.add_root(text)\n",
    "    \n",
    "show(period_coroutine_update_app)"
   ]
  },
  {
   "cell_type": "markdown",
   "metadata": {},
   "source": [
    "## 用zmq与其它进程通信"
   ]
  },
  {
   "cell_type": "markdown",
   "metadata": {},
   "source": [
    "Bokeh中所有的服务器运行于同一个线程之中，如果有比较费时的运算，会导致所有的协程停止运行。因此通常这些计算都放在别的进程中运行，服务器和这些进程之间使用`zmq`进行通信。\n",
    "\n",
    "下面的`ZmqSubProcessClient`类由Bokeh的应用程序创建。调用其`start_subprocess()`将创建一个新的进程运行指定的文件`pyfile`。`message_callback`是当从子进程接收到消息时的回调函数。而`send()`则可以用于向子进程发送消息。"
   ]
  },
  {
   "cell_type": "code",
   "execution_count": 9,
   "metadata": {},
   "outputs": [
    {
     "name": "stdout",
     "output_type": "stream",
     "text": [
      "Overwriting zmq_subprocess.py\n"
     ]
    }
   ],
   "source": [
    "%%file zmq_subprocess.py\n",
    "\n",
    "import sys\n",
    "import subprocess\n",
    "import zmq\n",
    "import zmq.asyncio\n",
    "from bokeh.document import without_document_lock\n",
    "from bokeh.application.handlers import Handler\n",
    "\n",
    "\n",
    "def on_session_destroyed(self, session_context):\n",
    "    if hasattr(session_context, \"on_destroyed\"):\n",
    "        return session_context.on_destroyed(session_context)\n",
    "\n",
    "Handler.on_session_destroyed = on_session_destroyed\n",
    "\n",
    "\n",
    "class ZmqSubProcessClient:\n",
    "    def __init__(self, doc, port=0):\n",
    "        ctx = zmq.asyncio.Context.instance()\n",
    "        self.socket = zmq.asyncio.Socket(ctx, zmq.PAIR) #ctx.socket(zmq.PAIR)\n",
    "        if port == 0:\n",
    "            port = self.socket.bind_to_random_port(\"tcp://127.0.0.1\")\n",
    "        else:\n",
    "            addr = \"tcp://127.0.0.1:{}\".format(port)\n",
    "            self.socket.bind(addr)\n",
    "        self.port = port\n",
    "        self.doc = doc\n",
    "    \n",
    "    def start_subprocess(self, pyfile, args, message_callback):\n",
    "        self.process = subprocess.Popen([\"python\", pyfile] + [str(self.port)] + list(args))\n",
    "        self.message_callback = message_callback\n",
    "        self.doc.add_next_tick_callback(self.message_loop)\n",
    "        self.doc.session_context.on_destroyed = self.destroy\n",
    "\n",
    "    def destroy(self, session_context):\n",
    "        self.process.kill()\n",
    "\n",
    "    @without_document_lock\n",
    "    async def message_loop(self):\n",
    "        while True:\n",
    "            message = await self.socket.recv_pyobj()\n",
    "            self.message_callback(message)\n",
    "\n",
    "    def send(self, message):\n",
    "        @without_document_lock\n",
    "        async def _send_message():\n",
    "            await self.socket.send_pyobj(message)\n",
    "        self.doc.add_next_tick_callback(_send_message)\n",
    "\n",
    "\n",
    "class ZmqSubProcess:\n",
    "    def __init__(self, port=None):\n",
    "        if port is None:\n",
    "            port = int(sys.argv[1])\n",
    "        ctx = zmq.Context.instance()\n",
    "        self.socket = ctx.socket(zmq.PAIR)\n",
    "        self.socket.connect(\"tcp://127.0.0.1:{}\".format(port))\n",
    "\n",
    "    def send(self, obj):\n",
    "        self.socket.send_pyobj(obj)\n",
    "\n",
    "    def poll(self):\n",
    "        return self.socket.poll(timeout=0)\n",
    "\n",
    "    def recv(self):\n",
    "        return self.socket.recv_pyobj()"
   ]
  },
  {
   "cell_type": "markdown",
   "metadata": {},
   "source": [
    "下面的`zmq_subprocess_app()`创建一个按钮和一个`Div`节点。当接收到消息时在`Div`中显示消息的内容，当按钮按下时发送`reset`消息。"
   ]
  },
  {
   "cell_type": "code",
   "execution_count": 16,
   "metadata": {},
   "outputs": [],
   "source": [
    "def zmq_subprocess_app(doc):\n",
    "    global subproc\n",
    "    from os import path\n",
    "    from bokeh.models import Button, Div\n",
    "    from bokeh.layouts import row\n",
    "    from bokeh.document import without_document_lock\n",
    "    from zmq_subprocess import ZmqSubProcessClient\n",
    "\n",
    "    ok_button = Button(label=\"reset\", width=80)\n",
    "    div = Div()\n",
    "\n",
    "    def ok_button_clicked():\n",
    "        subproc.send(\"reset\")\n",
    "\n",
    "    ok_button.on_click(ok_button_clicked)\n",
    "\n",
    "    def process_message(message, doc=doc):\n",
    "        def show():\n",
    "            div.text = str(message)\n",
    "        doc.add_next_tick_callback(show)\n",
    "\n",
    "\n",
    "    subproc = ZmqSubProcessClient(doc)\n",
    "    subproc.start_subprocess(\"calc_process.py\", (), process_message)\n",
    "\n",
    "    doc.add_root(row(ok_button, div))"
   ]
  },
  {
   "cell_type": "markdown",
   "metadata": {},
   "source": [
    "下面是子进程的程序，它持续发送计数器的值，当接收到`reset`消息时重置计数器。"
   ]
  },
  {
   "cell_type": "code",
   "execution_count": 17,
   "metadata": {},
   "outputs": [
    {
     "name": "stdout",
     "output_type": "stream",
     "text": [
      "Overwriting calc_process.py\n"
     ]
    }
   ],
   "source": [
    "%%file calc_process.py\n",
    "import sys\n",
    "import time\n",
    "import zmq\n",
    "from zmq_subprocess import ZmqSubProcess\n",
    "\n",
    "zsp = ZmqSubProcess()\n",
    "count = 0\n",
    "\n",
    "while True:\n",
    "    if zsp.poll() != 0:\n",
    "        message = zsp.recv()\n",
    "        if message == \"reset\":\n",
    "            count = 0\n",
    "    zsp.send(count)\n",
    "    count += 1\n",
    "    time.sleep(1.0)"
   ]
  },
  {
   "cell_type": "markdown",
   "metadata": {},
   "source": [
    "启动服务器程序，将看到一个一秒钟更新一次的计数器，按reset按钮将计数器清零。"
   ]
  },
  {
   "cell_type": "code",
   "execution_count": 18,
   "metadata": {},
   "outputs": [
    {
     "data": {
      "application/vnd.bokehjs_exec.v0+json": "",
      "text/html": [
       "\n",
       "<script\n",
       "    src=\"http://localhost:53336/autoload.js?bokeh-autoload-element=1a0a911c-ce8a-4f02-a932-b204f585a6a3&bokeh-absolute-url=http://localhost:53336&resources=none\"\n",
       "    id=\"1a0a911c-ce8a-4f02-a932-b204f585a6a3\"\n",
       "    data-bokeh-model-id=\"\"\n",
       "    data-bokeh-doc-id=\"\"\n",
       "></script>"
      ]
     },
     "metadata": {
      "application/vnd.bokehjs_exec.v0+json": {
       "server_id": "f6684202108c48a1ae8c00a180c2a383"
      }
     },
     "output_type": "display_data"
    }
   ],
   "source": [
    "show(zmq_subprocess_app)"
   ]
  }
 ],
 "metadata": {
  "kernelspec": {
   "display_name": "Python 3",
   "language": "python",
   "name": "python3"
  },
  "language_info": {
   "codemirror_mode": {
    "name": "ipython",
    "version": 3
   },
   "file_extension": ".py",
   "mimetype": "text/x-python",
   "name": "python",
   "nbconvert_exporter": "python",
   "pygments_lexer": "ipython3",
   "version": "3.6.4"
  }
 },
 "nbformat": 4,
 "nbformat_minor": 2
}
