{
 "cells": [
  {
   "cell_type": "markdown",
   "metadata": {},
   "source": [
    "# 在Bokeh图表之间共享DataSource"
   ]
  },
  {
   "cell_type": "code",
   "execution_count": 3,
   "metadata": {},
   "outputs": [
    {
     "data": {
      "text/html": [
       "\n",
       "    <div class=\"bk-root\">\n",
       "        <a href=\"https://bokeh.pydata.org\" target=\"_blank\" class=\"bk-logo bk-logo-small bk-logo-notebook\"></a>\n",
       "        <span id=\"b604674e-9e0e-4520-bb25-5e0c9e752390\">Loading BokehJS ...</span>\n",
       "    </div>"
      ]
     },
     "metadata": {},
     "output_type": "display_data"
    },
    {
     "data": {
      "application/javascript": [
       "\n",
       "(function(root) {\n",
       "  function now() {\n",
       "    return new Date();\n",
       "  }\n",
       "\n",
       "  var force = true;\n",
       "\n",
       "  if (typeof (root._bokeh_onload_callbacks) === \"undefined\" || force === true) {\n",
       "    root._bokeh_onload_callbacks = [];\n",
       "    root._bokeh_is_loading = undefined;\n",
       "  }\n",
       "\n",
       "  var JS_MIME_TYPE = 'application/javascript';\n",
       "  var HTML_MIME_TYPE = 'text/html';\n",
       "  var EXEC_MIME_TYPE = 'application/vnd.bokehjs_exec.v0+json';\n",
       "  var CLASS_NAME = 'output_bokeh rendered_html';\n",
       "\n",
       "  /**\n",
       "   * Render data to the DOM node\n",
       "   */\n",
       "  function render(props, node) {\n",
       "    var script = document.createElement(\"script\");\n",
       "    node.appendChild(script);\n",
       "  }\n",
       "\n",
       "  /**\n",
       "   * Handle when an output is cleared or removed\n",
       "   */\n",
       "  function handleClearOutput(event, handle) {\n",
       "    var cell = handle.cell;\n",
       "\n",
       "    var id = cell.output_area._bokeh_element_id;\n",
       "    var server_id = cell.output_area._bokeh_server_id;\n",
       "    // Clean up Bokeh references\n",
       "    if (id !== undefined) {\n",
       "      Bokeh.index[id].model.document.clear();\n",
       "      delete Bokeh.index[id];\n",
       "    }\n",
       "\n",
       "    if (server_id !== undefined) {\n",
       "      // Clean up Bokeh references\n",
       "      var cmd = \"from bokeh.io.state import curstate; print(curstate().uuid_to_server['\" + server_id + \"'].get_sessions()[0].document.roots[0]._id)\";\n",
       "      cell.notebook.kernel.execute(cmd, {\n",
       "        iopub: {\n",
       "          output: function(msg) {\n",
       "            var element_id = msg.content.text.trim();\n",
       "            Bokeh.index[element_id].model.document.clear();\n",
       "            delete Bokeh.index[element_id];\n",
       "          }\n",
       "        }\n",
       "      });\n",
       "      // Destroy server and session\n",
       "      var cmd = \"import bokeh.io.notebook as ion; ion.destroy_server('\" + server_id + \"')\";\n",
       "      cell.notebook.kernel.execute(cmd);\n",
       "    }\n",
       "  }\n",
       "\n",
       "  /**\n",
       "   * Handle when a new output is added\n",
       "   */\n",
       "  function handleAddOutput(event, handle) {\n",
       "    var output_area = handle.output_area;\n",
       "    var output = handle.output;\n",
       "\n",
       "    // limit handleAddOutput to display_data with EXEC_MIME_TYPE content only\n",
       "    if ((output.output_type != \"display_data\") || (!output.data.hasOwnProperty(EXEC_MIME_TYPE))) {\n",
       "      return\n",
       "    }\n",
       "\n",
       "    var toinsert = output_area.element.find(`.${CLASS_NAME.split(' ')[0]}`);\n",
       "\n",
       "    if (output.metadata[EXEC_MIME_TYPE][\"id\"] !== undefined) {\n",
       "      toinsert[0].firstChild.textContent = output.data[JS_MIME_TYPE];\n",
       "      // store reference to embed id on output_area\n",
       "      output_area._bokeh_element_id = output.metadata[EXEC_MIME_TYPE][\"id\"];\n",
       "    }\n",
       "    if (output.metadata[EXEC_MIME_TYPE][\"server_id\"] !== undefined) {\n",
       "      var bk_div = document.createElement(\"div\");\n",
       "      bk_div.innerHTML = output.data[HTML_MIME_TYPE];\n",
       "      var script_attrs = bk_div.children[0].attributes;\n",
       "      for (var i = 0; i < script_attrs.length; i++) {\n",
       "        toinsert[0].firstChild.setAttribute(script_attrs[i].name, script_attrs[i].value);\n",
       "      }\n",
       "      // store reference to server id on output_area\n",
       "      output_area._bokeh_server_id = output.metadata[EXEC_MIME_TYPE][\"server_id\"];\n",
       "    }\n",
       "  }\n",
       "\n",
       "  function register_renderer(events, OutputArea) {\n",
       "\n",
       "    function append_mime(data, metadata, element) {\n",
       "      // create a DOM node to render to\n",
       "      var toinsert = this.create_output_subarea(\n",
       "        metadata,\n",
       "        CLASS_NAME,\n",
       "        EXEC_MIME_TYPE\n",
       "      );\n",
       "      this.keyboard_manager.register_events(toinsert);\n",
       "      // Render to node\n",
       "      var props = {data: data, metadata: metadata[EXEC_MIME_TYPE]};\n",
       "      render(props, toinsert[0]);\n",
       "      element.append(toinsert);\n",
       "      return toinsert\n",
       "    }\n",
       "\n",
       "    /* Handle when an output is cleared or removed */\n",
       "    events.on('clear_output.CodeCell', handleClearOutput);\n",
       "    events.on('delete.Cell', handleClearOutput);\n",
       "\n",
       "    /* Handle when a new output is added */\n",
       "    events.on('output_added.OutputArea', handleAddOutput);\n",
       "\n",
       "    /**\n",
       "     * Register the mime type and append_mime function with output_area\n",
       "     */\n",
       "    OutputArea.prototype.register_mime_type(EXEC_MIME_TYPE, append_mime, {\n",
       "      /* Is output safe? */\n",
       "      safe: true,\n",
       "      /* Index of renderer in `output_area.display_order` */\n",
       "      index: 0\n",
       "    });\n",
       "  }\n",
       "\n",
       "  // register the mime type if in Jupyter Notebook environment and previously unregistered\n",
       "  if (root.Jupyter !== undefined) {\n",
       "    var events = require('base/js/events');\n",
       "    var OutputArea = require('notebook/js/outputarea').OutputArea;\n",
       "\n",
       "    if (OutputArea.prototype.mime_types().indexOf(EXEC_MIME_TYPE) == -1) {\n",
       "      register_renderer(events, OutputArea);\n",
       "    }\n",
       "  }\n",
       "\n",
       "  \n",
       "  if (typeof (root._bokeh_timeout) === \"undefined\" || force === true) {\n",
       "    root._bokeh_timeout = Date.now() + 5000;\n",
       "    root._bokeh_failed_load = false;\n",
       "  }\n",
       "\n",
       "  var NB_LOAD_WARNING = {'data': {'text/html':\n",
       "     \"<div style='background-color: #fdd'>\\n\"+\n",
       "     \"<p>\\n\"+\n",
       "     \"BokehJS does not appear to have successfully loaded. If loading BokehJS from CDN, this \\n\"+\n",
       "     \"may be due to a slow or bad network connection. Possible fixes:\\n\"+\n",
       "     \"</p>\\n\"+\n",
       "     \"<ul>\\n\"+\n",
       "     \"<li>re-rerun `output_notebook()` to attempt to load from CDN again, or</li>\\n\"+\n",
       "     \"<li>use INLINE resources instead, as so:</li>\\n\"+\n",
       "     \"</ul>\\n\"+\n",
       "     \"<code>\\n\"+\n",
       "     \"from bokeh.resources import INLINE\\n\"+\n",
       "     \"output_notebook(resources=INLINE)\\n\"+\n",
       "     \"</code>\\n\"+\n",
       "     \"</div>\"}};\n",
       "\n",
       "  function display_loaded() {\n",
       "    var el = document.getElementById(\"b604674e-9e0e-4520-bb25-5e0c9e752390\");\n",
       "    if (el != null) {\n",
       "      el.textContent = \"BokehJS is loading...\";\n",
       "    }\n",
       "    if (root.Bokeh !== undefined) {\n",
       "      if (el != null) {\n",
       "        el.textContent = \"BokehJS \" + root.Bokeh.version + \" successfully loaded.\";\n",
       "      }\n",
       "    } else if (Date.now() < root._bokeh_timeout) {\n",
       "      setTimeout(display_loaded, 100)\n",
       "    }\n",
       "  }\n",
       "\n",
       "\n",
       "  function run_callbacks() {\n",
       "    try {\n",
       "      root._bokeh_onload_callbacks.forEach(function(callback) { callback() });\n",
       "    }\n",
       "    finally {\n",
       "      delete root._bokeh_onload_callbacks\n",
       "    }\n",
       "    console.info(\"Bokeh: all callbacks have finished\");\n",
       "  }\n",
       "\n",
       "  function load_libs(js_urls, callback) {\n",
       "    root._bokeh_onload_callbacks.push(callback);\n",
       "    if (root._bokeh_is_loading > 0) {\n",
       "      console.log(\"Bokeh: BokehJS is being loaded, scheduling callback at\", now());\n",
       "      return null;\n",
       "    }\n",
       "    if (js_urls == null || js_urls.length === 0) {\n",
       "      run_callbacks();\n",
       "      return null;\n",
       "    }\n",
       "    console.log(\"Bokeh: BokehJS not loaded, scheduling load and callback at\", now());\n",
       "    root._bokeh_is_loading = js_urls.length;\n",
       "    for (var i = 0; i < js_urls.length; i++) {\n",
       "      var url = js_urls[i];\n",
       "      var s = document.createElement('script');\n",
       "      s.src = url;\n",
       "      s.async = false;\n",
       "      s.onreadystatechange = s.onload = function() {\n",
       "        root._bokeh_is_loading--;\n",
       "        if (root._bokeh_is_loading === 0) {\n",
       "          console.log(\"Bokeh: all BokehJS libraries loaded\");\n",
       "          run_callbacks()\n",
       "        }\n",
       "      };\n",
       "      s.onerror = function() {\n",
       "        console.warn(\"failed to load library \" + url);\n",
       "      };\n",
       "      console.log(\"Bokeh: injecting script tag for BokehJS library: \", url);\n",
       "      document.getElementsByTagName(\"head\")[0].appendChild(s);\n",
       "    }\n",
       "  };var element = document.getElementById(\"b604674e-9e0e-4520-bb25-5e0c9e752390\");\n",
       "  if (element == null) {\n",
       "    console.log(\"Bokeh: ERROR: autoload.js configured with elementid 'b604674e-9e0e-4520-bb25-5e0c9e752390' but no matching script tag was found. \")\n",
       "    return false;\n",
       "  }\n",
       "\n",
       "  var js_urls = [\"https://cdn.pydata.org/bokeh/release/bokeh-0.12.10.min.js\", \"https://cdn.pydata.org/bokeh/release/bokeh-widgets-0.12.10.min.js\", \"https://cdn.pydata.org/bokeh/release/bokeh-tables-0.12.10.min.js\", \"https://cdn.pydata.org/bokeh/release/bokeh-gl-0.12.10.min.js\"];\n",
       "\n",
       "  var inline_js = [\n",
       "    function(Bokeh) {\n",
       "      Bokeh.set_log_level(\"info\");\n",
       "    },\n",
       "    \n",
       "    function(Bokeh) {\n",
       "      \n",
       "    },\n",
       "    function(Bokeh) {\n",
       "      console.log(\"Bokeh: injecting CSS: https://cdn.pydata.org/bokeh/release/bokeh-0.12.10.min.css\");\n",
       "      Bokeh.embed.inject_css(\"https://cdn.pydata.org/bokeh/release/bokeh-0.12.10.min.css\");\n",
       "      console.log(\"Bokeh: injecting CSS: https://cdn.pydata.org/bokeh/release/bokeh-widgets-0.12.10.min.css\");\n",
       "      Bokeh.embed.inject_css(\"https://cdn.pydata.org/bokeh/release/bokeh-widgets-0.12.10.min.css\");\n",
       "      console.log(\"Bokeh: injecting CSS: https://cdn.pydata.org/bokeh/release/bokeh-tables-0.12.10.min.css\");\n",
       "      Bokeh.embed.inject_css(\"https://cdn.pydata.org/bokeh/release/bokeh-tables-0.12.10.min.css\");\n",
       "    }\n",
       "  ];\n",
       "\n",
       "  function run_inline_js() {\n",
       "    \n",
       "    if ((root.Bokeh !== undefined) || (force === true)) {\n",
       "      for (var i = 0; i < inline_js.length; i++) {\n",
       "        inline_js[i].call(root, root.Bokeh);\n",
       "      }if (force === true) {\n",
       "        display_loaded();\n",
       "      }} else if (Date.now() < root._bokeh_timeout) {\n",
       "      setTimeout(run_inline_js, 100);\n",
       "    } else if (!root._bokeh_failed_load) {\n",
       "      console.log(\"Bokeh: BokehJS failed to load within specified timeout.\");\n",
       "      root._bokeh_failed_load = true;\n",
       "    } else if (force !== true) {\n",
       "      var cell = $(document.getElementById(\"b604674e-9e0e-4520-bb25-5e0c9e752390\")).parents('.cell').data().cell;\n",
       "      cell.output_area.append_execute_result(NB_LOAD_WARNING)\n",
       "    }\n",
       "\n",
       "  }\n",
       "\n",
       "  if (root._bokeh_is_loading === 0) {\n",
       "    console.log(\"Bokeh: BokehJS loaded, going straight to plotting\");\n",
       "    run_inline_js();\n",
       "  } else {\n",
       "    load_libs(js_urls, function() {\n",
       "      console.log(\"Bokeh: BokehJS plotting callback run at\", now());\n",
       "      run_inline_js();\n",
       "    });\n",
       "  }\n",
       "}(window));"
      ],
      "application/vnd.bokehjs_load.v0+json": "\n(function(root) {\n  function now() {\n    return new Date();\n  }\n\n  var force = true;\n\n  if (typeof (root._bokeh_onload_callbacks) === \"undefined\" || force === true) {\n    root._bokeh_onload_callbacks = [];\n    root._bokeh_is_loading = undefined;\n  }\n\n  \n\n  \n  if (typeof (root._bokeh_timeout) === \"undefined\" || force === true) {\n    root._bokeh_timeout = Date.now() + 5000;\n    root._bokeh_failed_load = false;\n  }\n\n  var NB_LOAD_WARNING = {'data': {'text/html':\n     \"<div style='background-color: #fdd'>\\n\"+\n     \"<p>\\n\"+\n     \"BokehJS does not appear to have successfully loaded. If loading BokehJS from CDN, this \\n\"+\n     \"may be due to a slow or bad network connection. Possible fixes:\\n\"+\n     \"</p>\\n\"+\n     \"<ul>\\n\"+\n     \"<li>re-rerun `output_notebook()` to attempt to load from CDN again, or</li>\\n\"+\n     \"<li>use INLINE resources instead, as so:</li>\\n\"+\n     \"</ul>\\n\"+\n     \"<code>\\n\"+\n     \"from bokeh.resources import INLINE\\n\"+\n     \"output_notebook(resources=INLINE)\\n\"+\n     \"</code>\\n\"+\n     \"</div>\"}};\n\n  function display_loaded() {\n    var el = document.getElementById(\"b604674e-9e0e-4520-bb25-5e0c9e752390\");\n    if (el != null) {\n      el.textContent = \"BokehJS is loading...\";\n    }\n    if (root.Bokeh !== undefined) {\n      if (el != null) {\n        el.textContent = \"BokehJS \" + root.Bokeh.version + \" successfully loaded.\";\n      }\n    } else if (Date.now() < root._bokeh_timeout) {\n      setTimeout(display_loaded, 100)\n    }\n  }\n\n\n  function run_callbacks() {\n    try {\n      root._bokeh_onload_callbacks.forEach(function(callback) { callback() });\n    }\n    finally {\n      delete root._bokeh_onload_callbacks\n    }\n    console.info(\"Bokeh: all callbacks have finished\");\n  }\n\n  function load_libs(js_urls, callback) {\n    root._bokeh_onload_callbacks.push(callback);\n    if (root._bokeh_is_loading > 0) {\n      console.log(\"Bokeh: BokehJS is being loaded, scheduling callback at\", now());\n      return null;\n    }\n    if (js_urls == null || js_urls.length === 0) {\n      run_callbacks();\n      return null;\n    }\n    console.log(\"Bokeh: BokehJS not loaded, scheduling load and callback at\", now());\n    root._bokeh_is_loading = js_urls.length;\n    for (var i = 0; i < js_urls.length; i++) {\n      var url = js_urls[i];\n      var s = document.createElement('script');\n      s.src = url;\n      s.async = false;\n      s.onreadystatechange = s.onload = function() {\n        root._bokeh_is_loading--;\n        if (root._bokeh_is_loading === 0) {\n          console.log(\"Bokeh: all BokehJS libraries loaded\");\n          run_callbacks()\n        }\n      };\n      s.onerror = function() {\n        console.warn(\"failed to load library \" + url);\n      };\n      console.log(\"Bokeh: injecting script tag for BokehJS library: \", url);\n      document.getElementsByTagName(\"head\")[0].appendChild(s);\n    }\n  };var element = document.getElementById(\"b604674e-9e0e-4520-bb25-5e0c9e752390\");\n  if (element == null) {\n    console.log(\"Bokeh: ERROR: autoload.js configured with elementid 'b604674e-9e0e-4520-bb25-5e0c9e752390' but no matching script tag was found. \")\n    return false;\n  }\n\n  var js_urls = [\"https://cdn.pydata.org/bokeh/release/bokeh-0.12.10.min.js\", \"https://cdn.pydata.org/bokeh/release/bokeh-widgets-0.12.10.min.js\", \"https://cdn.pydata.org/bokeh/release/bokeh-tables-0.12.10.min.js\", \"https://cdn.pydata.org/bokeh/release/bokeh-gl-0.12.10.min.js\"];\n\n  var inline_js = [\n    function(Bokeh) {\n      Bokeh.set_log_level(\"info\");\n    },\n    \n    function(Bokeh) {\n      \n    },\n    function(Bokeh) {\n      console.log(\"Bokeh: injecting CSS: https://cdn.pydata.org/bokeh/release/bokeh-0.12.10.min.css\");\n      Bokeh.embed.inject_css(\"https://cdn.pydata.org/bokeh/release/bokeh-0.12.10.min.css\");\n      console.log(\"Bokeh: injecting CSS: https://cdn.pydata.org/bokeh/release/bokeh-widgets-0.12.10.min.css\");\n      Bokeh.embed.inject_css(\"https://cdn.pydata.org/bokeh/release/bokeh-widgets-0.12.10.min.css\");\n      console.log(\"Bokeh: injecting CSS: https://cdn.pydata.org/bokeh/release/bokeh-tables-0.12.10.min.css\");\n      Bokeh.embed.inject_css(\"https://cdn.pydata.org/bokeh/release/bokeh-tables-0.12.10.min.css\");\n    }\n  ];\n\n  function run_inline_js() {\n    \n    if ((root.Bokeh !== undefined) || (force === true)) {\n      for (var i = 0; i < inline_js.length; i++) {\n        inline_js[i].call(root, root.Bokeh);\n      }if (force === true) {\n        display_loaded();\n      }} else if (Date.now() < root._bokeh_timeout) {\n      setTimeout(run_inline_js, 100);\n    } else if (!root._bokeh_failed_load) {\n      console.log(\"Bokeh: BokehJS failed to load within specified timeout.\");\n      root._bokeh_failed_load = true;\n    } else if (force !== true) {\n      var cell = $(document.getElementById(\"b604674e-9e0e-4520-bb25-5e0c9e752390\")).parents('.cell').data().cell;\n      cell.output_area.append_execute_result(NB_LOAD_WARNING)\n    }\n\n  }\n\n  if (root._bokeh_is_loading === 0) {\n    console.log(\"Bokeh: BokehJS loaded, going straight to plotting\");\n    run_inline_js();\n  } else {\n    load_libs(js_urls, function() {\n      console.log(\"Bokeh: BokehJS plotting callback run at\", now());\n      run_inline_js();\n    });\n  }\n}(window));"
     },
     "metadata": {},
     "output_type": "display_data"
    }
   ],
   "source": [
    "from bokeh.models import Slider, ColumnDataSource, CustomJS\n",
    "from bokeh.models.widgets import Button\n",
    "from bokeh.plotting import figure\n",
    "from bokeh.layouts import row\n",
    "from bokeh.io import output_notebook, show\n",
    "output_notebook()"
   ]
  },
  {
   "cell_type": "markdown",
   "metadata": {},
   "source": [
    "下面的`add_source_to_window()`创建一个隐藏的`Figure`对象，在JavaScript中将`ColumnDataSource`对象的`data`属性保存到`window`全局变量之下。"
   ]
  },
  {
   "cell_type": "code",
   "execution_count": 4,
   "metadata": {},
   "outputs": [],
   "source": [
    "def add_source_to_window(data, name=\"source_data\"):\n",
    "    source = ColumnDataSource(data=data)\n",
    "    source.tags = [{\"name\":name}]\n",
    "    fig = figure(plot_width=10, plot_height=10, toolbar_location=None)\n",
    "    fig.line([0], [0])\n",
    "    def callback_func(source=source):\n",
    "        console.log(source)\n",
    "        name = source.tags[0].name\n",
    "        window[name] = source.data\n",
    "    fig.js_on_change(\"inner_width\", CustomJS.from_py_func(callback_func))\n",
    "    fig.xaxis.visible = False\n",
    "    fig.yaxis.visible = False\n",
    "    fig.xgrid.visible = False\n",
    "    fig.ygrid.visible = False\n",
    "    fig.border_fill_color = \"#ffffff\"\n",
    "    show(fig)"
   ]
  },
  {
   "cell_type": "markdown",
   "metadata": {},
   "source": [
    "下面创建一个`DataFrame`对象，并通过`add_source_to_window()`将其保存到JavaScript的全局变量`source_data`中。"
   ]
  },
  {
   "cell_type": "code",
   "execution_count": 5,
   "metadata": {},
   "outputs": [
    {
     "data": {
      "text/html": [
       "\n",
       "<div class=\"bk-root\">\n",
       "    <div class=\"bk-plotdiv\" id=\"da5e2a02-6862-454f-8039-affa3d6674e7\"></div>\n",
       "</div>"
      ]
     },
     "metadata": {},
     "output_type": "display_data"
    },
    {
     "data": {
      "application/javascript": [
       "(function(root) {\n",
       "  function embed_document(root) {\n",
       "    var docs_json = {\"ddd05691-d844-4fb6-b0be-eddea3f1b4fb\":{\"roots\":{\"references\":[{\"attributes\":{\"active_drag\":\"auto\",\"active_inspect\":\"auto\",\"active_scroll\":\"auto\",\"active_tap\":\"auto\",\"tools\":[{\"id\":\"6f1a479e-cdc0-4f96-b3b0-d5885d294a16\",\"type\":\"PanTool\"},{\"id\":\"1bcb3961-d7bf-4a25-9a44-2acf58fa9d4d\",\"type\":\"WheelZoomTool\"},{\"id\":\"8b479663-4d62-40f0-b757-ac62188d2ce2\",\"type\":\"BoxZoomTool\"},{\"id\":\"db86d941-1d59-48ec-aa51-336db7323353\",\"type\":\"SaveTool\"},{\"id\":\"effafa9d-8a0d-40cf-a3de-8a8577a09459\",\"type\":\"ResetTool\"},{\"id\":\"b3c348bf-a2dd-48df-8d3d-72657ed5b0cf\",\"type\":\"HelpTool\"}]},\"id\":\"3c236515-d01c-46bb-b001-de0faa893386\",\"type\":\"Toolbar\"},{\"attributes\":{},\"id\":\"1bcb3961-d7bf-4a25-9a44-2acf58fa9d4d\",\"type\":\"WheelZoomTool\"},{\"attributes\":{\"line_alpha\":{\"value\":0.1},\"line_color\":{\"value\":\"#1f77b4\"},\"x\":{\"field\":\"x\"},\"y\":{\"field\":\"y\"}},\"id\":\"ca2757eb-e1a6-4ae0-b264-e2692b4c7292\",\"type\":\"Line\"},{\"attributes\":{},\"id\":\"4d84dfe8-5177-4efa-9a32-25c0f0cd8f16\",\"type\":\"BasicTickFormatter\"},{\"attributes\":{},\"id\":\"f8e356e1-a0a9-4e2c-b43b-4db9b9bc9a17\",\"type\":\"LinearScale\"},{\"attributes\":{\"formatter\":{\"id\":\"4d84dfe8-5177-4efa-9a32-25c0f0cd8f16\",\"type\":\"BasicTickFormatter\"},\"plot\":{\"id\":\"f8397f2a-ed0e-44ca-a852-6c5d371707b7\",\"subtype\":\"Figure\",\"type\":\"Plot\"},\"ticker\":{\"id\":\"aba7a251-0cc0-4bdc-8918-872f9292e051\",\"type\":\"BasicTicker\"},\"visible\":false},\"id\":\"f0f3a2e7-ffed-4b43-91e2-9886a5470c63\",\"type\":\"LinearAxis\"},{\"attributes\":{\"args\":{\"source\":{\"id\":\"8941175c-aaab-4cab-82c8-68650ca03bb0\",\"type\":\"ColumnDataSource\"}},\"code\":\"var cb;\\ncb = function (source) {\\n    var name;\\n    source = (source === undefined) ? source: source;\\n    console.log(source);\\n    name = source.tags[0].name;\\n    window[name] = source.data;\\n    return null;\\n};\\ncb(source);\\n\"},\"id\":\"c6e07d15-394e-4475-8ecb-5b55cc6b9602\",\"type\":\"CustomJS\"},{\"attributes\":{\"below\":[{\"id\":\"81e3d12c-e09d-4da5-bd00-efec33f50509\",\"type\":\"LinearAxis\"}],\"js_property_callbacks\":{\"change:inner_width\":[{\"id\":\"c6e07d15-394e-4475-8ecb-5b55cc6b9602\",\"type\":\"CustomJS\"}]},\"left\":[{\"id\":\"f0f3a2e7-ffed-4b43-91e2-9886a5470c63\",\"type\":\"LinearAxis\"}],\"plot_height\":10,\"plot_width\":10,\"renderers\":[{\"id\":\"81e3d12c-e09d-4da5-bd00-efec33f50509\",\"type\":\"LinearAxis\"},{\"id\":\"2a59b08a-fe49-46f6-837d-4c7f3b314fad\",\"type\":\"Grid\"},{\"id\":\"f0f3a2e7-ffed-4b43-91e2-9886a5470c63\",\"type\":\"LinearAxis\"},{\"id\":\"85454d1d-db03-41a0-9700-56612367ee5c\",\"type\":\"Grid\"},{\"id\":\"6ebed4c8-ff02-41b0-95f0-d21efd0d8af4\",\"type\":\"BoxAnnotation\"},{\"id\":\"9d193cf0-6d73-46f6-bfdc-47ad4d0f5a36\",\"type\":\"GlyphRenderer\"}],\"title\":{\"id\":\"4ea6ff36-92cd-425a-8831-b83acfbafe57\",\"type\":\"Title\"},\"toolbar\":{\"id\":\"3c236515-d01c-46bb-b001-de0faa893386\",\"type\":\"Toolbar\"},\"toolbar_location\":null,\"x_range\":{\"id\":\"ab5c4de1-2a49-4667-be56-2a29695b2d25\",\"type\":\"DataRange1d\"},\"x_scale\":{\"id\":\"f8e356e1-a0a9-4e2c-b43b-4db9b9bc9a17\",\"type\":\"LinearScale\"},\"y_range\":{\"id\":\"1dae2e3d-d511-40fa-9980-dda3584187f8\",\"type\":\"DataRange1d\"},\"y_scale\":{\"id\":\"913f0a6d-2016-4575-87f9-f74a37fca0d2\",\"type\":\"LinearScale\"}},\"id\":\"f8397f2a-ed0e-44ca-a852-6c5d371707b7\",\"subtype\":\"Figure\",\"type\":\"Plot\"},{\"attributes\":{},\"id\":\"2dea19af-7e13-4115-b5a8-a799e405d1a2\",\"type\":\"BasicTickFormatter\"},{\"attributes\":{\"callback\":null,\"column_names\":[\"y\",\"x\"],\"data\":{\"x\":[0],\"y\":[0]}},\"id\":\"8b177e6c-2b42-4744-be8a-cf858e627c36\",\"type\":\"ColumnDataSource\"},{\"attributes\":{\"plot\":{\"id\":\"f8397f2a-ed0e-44ca-a852-6c5d371707b7\",\"subtype\":\"Figure\",\"type\":\"Plot\"},\"ticker\":{\"id\":\"c18ed19f-fdaa-4faa-be27-f9113916cac5\",\"type\":\"BasicTicker\"},\"visible\":false},\"id\":\"2a59b08a-fe49-46f6-837d-4c7f3b314fad\",\"type\":\"Grid\"},{\"attributes\":{\"source\":{\"id\":\"8b177e6c-2b42-4744-be8a-cf858e627c36\",\"type\":\"ColumnDataSource\"}},\"id\":\"9b2f8def-c96f-40c8-acce-b17e7ac8b4c3\",\"type\":\"CDSView\"},{\"attributes\":{\"bottom_units\":\"screen\",\"fill_alpha\":{\"value\":0.5},\"fill_color\":{\"value\":\"lightgrey\"},\"left_units\":\"screen\",\"level\":\"overlay\",\"line_alpha\":{\"value\":1.0},\"line_color\":{\"value\":\"black\"},\"line_dash\":[4,4],\"line_width\":{\"value\":2},\"plot\":null,\"render_mode\":\"css\",\"right_units\":\"screen\",\"top_units\":\"screen\"},\"id\":\"6ebed4c8-ff02-41b0-95f0-d21efd0d8af4\",\"type\":\"BoxAnnotation\"},{\"attributes\":{\"callback\":null},\"id\":\"ab5c4de1-2a49-4667-be56-2a29695b2d25\",\"type\":\"DataRange1d\"},{\"attributes\":{},\"id\":\"c18ed19f-fdaa-4faa-be27-f9113916cac5\",\"type\":\"BasicTicker\"},{\"attributes\":{},\"id\":\"aba7a251-0cc0-4bdc-8918-872f9292e051\",\"type\":\"BasicTicker\"},{\"attributes\":{\"plot\":null,\"text\":\"\"},\"id\":\"4ea6ff36-92cd-425a-8831-b83acfbafe57\",\"type\":\"Title\"},{\"attributes\":{\"dimension\":1,\"plot\":{\"id\":\"f8397f2a-ed0e-44ca-a852-6c5d371707b7\",\"subtype\":\"Figure\",\"type\":\"Plot\"},\"ticker\":{\"id\":\"aba7a251-0cc0-4bdc-8918-872f9292e051\",\"type\":\"BasicTicker\"},\"visible\":false},\"id\":\"85454d1d-db03-41a0-9700-56612367ee5c\",\"type\":\"Grid\"},{\"attributes\":{\"data_source\":{\"id\":\"8b177e6c-2b42-4744-be8a-cf858e627c36\",\"type\":\"ColumnDataSource\"},\"glyph\":{\"id\":\"b0e8863c-2a03-4c58-93a0-b7a5c0db7964\",\"type\":\"Line\"},\"hover_glyph\":null,\"muted_glyph\":null,\"nonselection_glyph\":{\"id\":\"ca2757eb-e1a6-4ae0-b264-e2692b4c7292\",\"type\":\"Line\"},\"selection_glyph\":null,\"view\":{\"id\":\"9b2f8def-c96f-40c8-acce-b17e7ac8b4c3\",\"type\":\"CDSView\"}},\"id\":\"9d193cf0-6d73-46f6-bfdc-47ad4d0f5a36\",\"type\":\"GlyphRenderer\"},{\"attributes\":{\"overlay\":{\"id\":\"6ebed4c8-ff02-41b0-95f0-d21efd0d8af4\",\"type\":\"BoxAnnotation\"}},\"id\":\"8b479663-4d62-40f0-b757-ac62188d2ce2\",\"type\":\"BoxZoomTool\"},{\"attributes\":{},\"id\":\"b3c348bf-a2dd-48df-8d3d-72657ed5b0cf\",\"type\":\"HelpTool\"},{\"attributes\":{},\"id\":\"effafa9d-8a0d-40cf-a3de-8a8577a09459\",\"type\":\"ResetTool\"},{\"attributes\":{},\"id\":\"913f0a6d-2016-4575-87f9-f74a37fca0d2\",\"type\":\"LinearScale\"},{\"attributes\":{\"callback\":null},\"id\":\"1dae2e3d-d511-40fa-9980-dda3584187f8\",\"type\":\"DataRange1d\"},{\"attributes\":{},\"id\":\"db86d941-1d59-48ec-aa51-336db7323353\",\"type\":\"SaveTool\"},{\"attributes\":{\"callback\":null,\"column_names\":[\"C\",\"B\",\"A\",\"index\"],\"data\":{\"A\":{\"__ndarray__\":\"sibAT/jl9r8qqu558q/mP7Uge5LnP9A/gZ7peQ+k4z9y5dbHRErtv6eDx8JjgtG/Ek7eBCVX9r/U4L0901viv2pxeGnI9uC/n0U10lRJ1r+4JIQwkTUGwDKtqNej3uO/qOpFwChu3j+yaYm14Ez8P1TCZVzxQNQ/RPNzW/9Vtb95AyntxWvmvzFgdtjjodE/UwlPByCwwL88rSfV+D/Nvz5VxQwmm/e/Yj/mUsJL6b9YrEpIDsfHv4kFFMupJ8C/+klc1asZ079cOL9dgLW8P+0mmxfvALw/HajPN67qzr+2tpoK1gkEQJPOBHq/Hci/TEDILEXZ/78pM3fVvc7xP6BCg8Q9JO+/zW/D8m0WAMDkv4WIskn4v/GRDhoZFd6/BH5AfK24mD9KcPFnbNb6v8SnPmgcPwBATcrAHYqk8r/7q/h4NhzuP1zw6hzd1uE/sIwdSSt0nj8ij9rw9wTYPz92GFEkxJQ/2XxfDHHaAcDfLaFHnb6sP6qHsL+3w9Y/ro1quUIJBEDcE2Zxj+T3P5slRfILTtY/XWDdv8tD6D9sNozQgFnrP+TY4Z7tcti/kfA+UaCcxL/c/cwGi170Px5kyItqnO8/gJJ3lsGM8b8N0OQQ6SbBP37KNLsybc0/Nuuz1GcLmL/bsnSB9g7rP1Ub9dC1AOo/u7sY58vgxD8soOPCxNfpP3Vgm6RzdG4/F1/ly3liwL+L2fRmQZjhP7g9FVBaWqo/mrQWa19q0L8aE8Ih0zjrP7t+rh1kL8C/yo5El5BOAEA8lDU1X5DFPw6X8MgK8sW/Z3DOKNKaYD83zKClnITOP2Tyrh7W5M4/JfZ1acWu5D/PKRyUqunuv/Cu+9LKqMM/vTZ22nHQ5j+I6Moc4WTov7uZYwvvxdM/5cTxjcOh4T8qUWjD5MPEP+pmhAuzWvi/FwI5q46t1L++VgXQxQL1vyAmB5lqAMI/vWUJa/TuvL9c71e5KzTqP+XNhPwwSdU/2foRH40Y478MffK6NpPov7jDH54Mpvy/w5ZY35aV0T9qco3qzvviv/7Ak1w4Cva/asFX2AYVy78=\",\"dtype\":\"float64\",\"shape\":[100]},\"B\":{\"__ndarray__\":\"++DGMBlw8T+Gyk4uejbWv9s/58uG17k/Z8I+OeTv5b/0uIw0mqPrP73UGMyS3eO/s8/XOFT49r9NE/z5ofDrvw5PKrpGBsq/pGwhgakHsT8BgzqsgiTqPwYxv8xJb/g/3CgsFWc8xj9tMF7Ys+Trv51X7iBcFqs/ChYkmUlU6r/2grs3x7nXP8VyBQlf+OU/ZcFfMf1Q9L8+riF5jrDbv7L1Jl4jfuo/INCj0N/lwz+AEBj8VLgBwDvl8gQtwt6/A9QeBmP3uL/hg1rWxJL6v0rmicqNLtY/Xva662GD8L/zAaj9Ydf4vwntH3Fjp9C/Sq60Hwx++D8e8Hd0DD7JP5WeiOwdGdU/PUZdDgIY+79vyxANhobWP2utqPrr0t6/jTRqUl8y7b9DvHes7CvSP3e7Dbkhs/Q/pWlBqdP27b9yra1OlqmlP6y/yZOdBOe/zsGIHmV80D9HPsgiaj34PwXnHSNVw/G/+DHC+S32478OvA6rw7rjPxUsLt1uOOC/S6GFcGTRxD+ZVV6++XO2vwpHM5UFSvu//lleqwaZyz/MuTABpzb8v6NjXuusUFS/+mRbiHyO1z/D3iXb5An3P4Rcjw5+3/I/P91LsSMGAUAHX2jwen/UvwR87urDK+c/CaVjphAq5z/kGUlZf/3vvwC//d0GjwHA5mL05oXx+7+t7di0c9vhv6gc2kCON+C/qf6+ezNJ/b/h1T1J6GTfP4vM2k2MavC/9X5kws6mwT8/ttm6HefWP8Ib+8BHpdw/s8Dy5MKI9T8xgmkIAHjvv8JkN2R54PW/7XX5IVrJ/L+pOGsT+Jbdv44G0I77m+k/941jFzV9vL9cOWfRDBrKPzaX7q8Hc/S/brVJt8oo879aI9mpnlLzv90zaiKsZvM/nC8FadXzxr+iXNpvmGL8P+HWdQQBC/0/8SpKmg8Kzz+ZLkIc8xqwvxwRvfpBjOm/lRWUsDMAAUCtyQPJRaDSP1VdBQHf1eg/ekCZqNSUAEBUq6eFVTimv0XNSIpapdQ/mcQIYb5F+T/9W+4WST4AwO9NWBvDAt0/YUWKpmKx4T8=\",\"dtype\":\"float64\",\"shape\":[100]},\"C\":{\"__ndarray__\":\"sLmF1EGV1r/tptSOrwKlvzdan2CDlgZAz1EAYt+D/b+DppuKHV75vyoA6tbFAsq/dkyxf9C4zz8GCF7LFDboPwQfvoFs8P0/YsI0Azt77j/ryuMPE3Xjv4H2SUAKh/M/yQj5aaDm27+4KcmyttL5P10DGFL+GOE/hgIbwlxx4r+M+/pK+NDtPxqcFts+IeS/3t48HlSz1b+/ksjkwyW9P3Bm9sGcMsO/fGyiDSsC0z9QjfKx03nAP/+XjUoW3vq/DrqGXq5D3T8dtTrWb174vzw40jXedto/NfY+BsqV5z+Fb7AkVSfiP14R7ZuqUyk/nWHVD/T96D9xcfuhWOfYvwqQp79nEeo/NIGzX8F9BMBj+GR+Br35v2jzCSGbw/E/8TH6Pb/F4T9Gf0KiST7YP3VQryrteNq/yKw7pWMy4T+dkwq71BTXvwIdx4ls09s/rus91+34/j8fUaPrqIroP8DFGnSjkfG/IJG0bpxQ5b/0Z0FKk5zQP0m/g3NiX/K/x1qCOETOA8B9/ErGsbO5P3A3K6titf4/+Zg391uL0D+Srsbh09XoPzBamhjLH+C/+61zjxOs6T+widI+Hmvqv8WL+xXKGL2/WnckLmuV5z9Og7CZKPriv2/mOONFvPs/g2YI9m3cBUANucd+X8Xrv5B8Gb4dROs/xsTkeI4hAcCYGN5r583IP43f4UfaYdS/637nDJxm+b+lgVnd+z3CP8HxKH6nZPW/axLfRWL0sL9hcORvgmrnv8RJDBVx4eA//YNux3fKAkD+K2+Nfw+rv7/CrfVjPO2/T6xAxtCS1r8r4tHxZfXov9hO7nyuI/W/qTwzld2y7D/SuLus2jTmP6BktMllzs2/aXrM5G5nzr81jFxUWz3pP8jd9C8lx/Q/vNJG2rP+cL+y6m0BGIe0P2IbYfni78E/xp4t4fwh/D/624RwLZC4P5WEOOMYQPU/jRrs0sH+4r+IJvS6iinmv7Yzbgq7U/U/KLo6LZG5wb+V7aAA1q33vwN3UgAca/U/hwXowm1v0L/BsaOLTY/Wv0M+o44vIuS/Cn/H8+vdt78=\",\"dtype\":\"float64\",\"shape\":[100]},\"index\":[0,1,2,3,4,5,6,7,8,9,10,11,12,13,14,15,16,17,18,19,20,21,22,23,24,25,26,27,28,29,30,31,32,33,34,35,36,37,38,39,40,41,42,43,44,45,46,47,48,49,50,51,52,53,54,55,56,57,58,59,60,61,62,63,64,65,66,67,68,69,70,71,72,73,74,75,76,77,78,79,80,81,82,83,84,85,86,87,88,89,90,91,92,93,94,95,96,97,98,99]},\"tags\":[{\"name\":\"source_data\"}]},\"id\":\"8941175c-aaab-4cab-82c8-68650ca03bb0\",\"type\":\"ColumnDataSource\"},{\"attributes\":{\"formatter\":{\"id\":\"2dea19af-7e13-4115-b5a8-a799e405d1a2\",\"type\":\"BasicTickFormatter\"},\"plot\":{\"id\":\"f8397f2a-ed0e-44ca-a852-6c5d371707b7\",\"subtype\":\"Figure\",\"type\":\"Plot\"},\"ticker\":{\"id\":\"c18ed19f-fdaa-4faa-be27-f9113916cac5\",\"type\":\"BasicTicker\"},\"visible\":false},\"id\":\"81e3d12c-e09d-4da5-bd00-efec33f50509\",\"type\":\"LinearAxis\"},{\"attributes\":{\"line_color\":{\"value\":\"#1f77b4\"},\"x\":{\"field\":\"x\"},\"y\":{\"field\":\"y\"}},\"id\":\"b0e8863c-2a03-4c58-93a0-b7a5c0db7964\",\"type\":\"Line\"},{\"attributes\":{},\"id\":\"6f1a479e-cdc0-4f96-b3b0-d5885d294a16\",\"type\":\"PanTool\"}],\"root_ids\":[\"f8397f2a-ed0e-44ca-a852-6c5d371707b7\"]},\"title\":\"Bokeh Application\",\"version\":\"0.12.10\"}};\n",
       "    var render_items = [{\"docid\":\"ddd05691-d844-4fb6-b0be-eddea3f1b4fb\",\"elementid\":\"da5e2a02-6862-454f-8039-affa3d6674e7\",\"modelid\":\"f8397f2a-ed0e-44ca-a852-6c5d371707b7\"}];\n",
       "\n",
       "    root.Bokeh.embed.embed_items(docs_json, render_items);\n",
       "  }\n",
       "\n",
       "  if (root.Bokeh !== undefined) {\n",
       "    embed_document(root);\n",
       "  } else {\n",
       "    var attempts = 0;\n",
       "    var timer = setInterval(function(root) {\n",
       "      if (root.Bokeh !== undefined) {\n",
       "        embed_document(root);\n",
       "        clearInterval(timer);\n",
       "      }\n",
       "      attempts++;\n",
       "      if (attempts > 100) {\n",
       "        console.log(\"Bokeh: ERROR: Unable to embed document because BokehJS library is missing\")\n",
       "        clearInterval(timer);\n",
       "      }\n",
       "    }, 10, root)\n",
       "  }\n",
       "})(window);"
      ],
      "application/vnd.bokehjs_exec.v0+json": ""
     },
     "metadata": {
      "application/vnd.bokehjs_exec.v0+json": {
       "id": "f8397f2a-ed0e-44ca-a852-6c5d371707b7"
      }
     },
     "output_type": "display_data"
    }
   ],
   "source": [
    "import numpy as np\n",
    "import pandas as pd\n",
    "\n",
    "df = pd.DataFrame(np.random.randn(100, 3), columns=[\"A\", \"B\", \"C\"])\n",
    "add_source_to_window(df)"
   ]
  },
  {
   "cell_type": "markdown",
   "metadata": {},
   "source": [
    "下面的`fill_datasource()`为`fig`对象添加一个回调函数，当其显示时，在JavaScript中运行`callback_func()`，该函数检查全局变量`source_name`是否存在，如果存在则将`source.data`设置为该全局变量。这里通过`source.tags`在Python和JavaScript之间传递全局变量的名称。"
   ]
  },
  {
   "cell_type": "code",
   "execution_count": 9,
   "metadata": {},
   "outputs": [],
   "source": [
    "def fill_datasource(fig, source, source_name=\"source_data\"):\n",
    "    source.tags = [{\"source_name\":source_name}]\n",
    "    def callback_func(source=source):\n",
    "        source_name = source.tags[0].source_name\n",
    "        def change_data():\n",
    "            if window.hasOwnProperty(source_name):\n",
    "                source.data = window[source_name]\n",
    "                source.change.emit()\n",
    "            else:\n",
    "                window.setTimeout(change_data, 100)\n",
    "        change_data()\n",
    "    fig.js_on_change(\"inner_width\", CustomJS.from_py_func(callback_func))"
   ]
  },
  {
   "cell_type": "markdown",
   "metadata": {},
   "source": [
    "在下面的例子中，创建`ColumnDataSource`对象时，只使用一行数据。在图表显示时，由JavaScript的回调函数修改其`data`属性。"
   ]
  },
  {
   "cell_type": "code",
   "execution_count": 11,
   "metadata": {},
   "outputs": [
    {
     "data": {
      "text/html": [
       "\n",
       "<div class=\"bk-root\">\n",
       "    <div class=\"bk-plotdiv\" id=\"914c1b9f-457d-456d-95e2-d8d3604a318b\"></div>\n",
       "</div>"
      ]
     },
     "metadata": {},
     "output_type": "display_data"
    },
    {
     "data": {
      "application/javascript": [
       "(function(root) {\n",
       "  function embed_document(root) {\n",
       "    var docs_json = {\"1e986452-0bd0-46e5-98bf-fe2a85687d45\":{\"roots\":{\"references\":[{\"attributes\":{},\"id\":\"ea2ddfca-57e2-452b-a7bf-aa876cb97608\",\"type\":\"SaveTool\"},{\"attributes\":{},\"id\":\"94bc3181-c207-4a34-b7dc-75963b0d2393\",\"type\":\"WheelZoomTool\"},{\"attributes\":{},\"id\":\"75099eeb-aa7b-448e-9ccd-708c6c5f4a87\",\"type\":\"BasicTicker\"},{\"attributes\":{\"callback\":null},\"id\":\"84ea56ba-434f-43fc-9f0c-b476a686b210\",\"type\":\"DataRange1d\"},{\"attributes\":{\"plot\":null,\"text\":\"\"},\"id\":\"105c540d-546a-4dea-b80a-63604e4fa29e\",\"type\":\"Title\"},{\"attributes\":{},\"id\":\"f4a108b5-55f3-4fdd-a180-3ab8bddc43cc\",\"type\":\"BasicTicker\"},{\"attributes\":{\"below\":[{\"id\":\"39378adc-af47-42a1-bee9-3c00ff25ab25\",\"type\":\"LinearAxis\"}],\"js_property_callbacks\":{\"change:inner_width\":[{\"id\":\"d583b797-8dca-4761-8e77-5441a82aeffe\",\"type\":\"CustomJS\"}]},\"left\":[{\"id\":\"33dd1650-fe3a-43e3-a352-c60e0114e328\",\"type\":\"LinearAxis\"}],\"plot_height\":300,\"plot_width\":300,\"renderers\":[{\"id\":\"39378adc-af47-42a1-bee9-3c00ff25ab25\",\"type\":\"LinearAxis\"},{\"id\":\"536d41d3-816c-43d2-bb28-75e065b57656\",\"type\":\"Grid\"},{\"id\":\"33dd1650-fe3a-43e3-a352-c60e0114e328\",\"type\":\"LinearAxis\"},{\"id\":\"5097c389-8124-4c6f-93ca-edacb4ea0113\",\"type\":\"Grid\"},{\"id\":\"b649dce0-c663-4dd5-8bfb-deec86fc779d\",\"type\":\"BoxAnnotation\"},{\"id\":\"760c10f6-9aa5-4c2a-899a-ebd1f3466409\",\"type\":\"GlyphRenderer\"}],\"title\":{\"id\":\"105c540d-546a-4dea-b80a-63604e4fa29e\",\"type\":\"Title\"},\"toolbar\":{\"id\":\"4ae5f020-9715-40dd-a153-82bc33ea8b85\",\"type\":\"Toolbar\"},\"x_range\":{\"id\":\"c5b17c55-b890-44b3-8afc-16ff2b240e5b\",\"type\":\"DataRange1d\"},\"x_scale\":{\"id\":\"3316a602-7123-423d-949a-375f41968fb0\",\"type\":\"LinearScale\"},\"y_range\":{\"id\":\"84ea56ba-434f-43fc-9f0c-b476a686b210\",\"type\":\"DataRange1d\"},\"y_scale\":{\"id\":\"8e9bba7b-14b2-48a2-8af6-14c21470de57\",\"type\":\"LinearScale\"}},\"id\":\"e5b48396-e844-4418-a915-a9342c2aa2fe\",\"subtype\":\"Figure\",\"type\":\"Plot\"},{\"attributes\":{},\"id\":\"8f452b56-9abf-40e8-8ad5-cc4a513d8667\",\"type\":\"BasicTickFormatter\"},{\"attributes\":{\"formatter\":{\"id\":\"9fa10292-66f6-4974-af94-fdcab0d394d8\",\"type\":\"BasicTickFormatter\"},\"plot\":{\"id\":\"e5b48396-e844-4418-a915-a9342c2aa2fe\",\"subtype\":\"Figure\",\"type\":\"Plot\"},\"ticker\":{\"id\":\"f4a108b5-55f3-4fdd-a180-3ab8bddc43cc\",\"type\":\"BasicTicker\"}},\"id\":\"33dd1650-fe3a-43e3-a352-c60e0114e328\",\"type\":\"LinearAxis\"},{\"attributes\":{\"bottom_units\":\"screen\",\"fill_alpha\":{\"value\":0.5},\"fill_color\":{\"value\":\"lightgrey\"},\"left_units\":\"screen\",\"level\":\"overlay\",\"line_alpha\":{\"value\":1.0},\"line_color\":{\"value\":\"black\"},\"line_dash\":[4,4],\"line_width\":{\"value\":2},\"plot\":null,\"render_mode\":\"css\",\"right_units\":\"screen\",\"top_units\":\"screen\"},\"id\":\"b649dce0-c663-4dd5-8bfb-deec86fc779d\",\"type\":\"BoxAnnotation\"},{\"attributes\":{},\"id\":\"3316a602-7123-423d-949a-375f41968fb0\",\"type\":\"LinearScale\"},{\"attributes\":{\"args\":{\"source\":{\"id\":\"85dcfbff-d629-4cf7-aada-3aa542c516f4\",\"type\":\"ColumnDataSource\"}},\"code\":\"var _pyfunc_truthy = function (v) {\\n    if (v === null || typeof v !== \\\"object\\\") {return v;}\\n    else if (v.length !== undefined) {return v.length ? v : false;}\\n    else if (v.byteLength !== undefined) {return v.byteLength ? v : false;}\\n    else if (v.constructor !== Object) {return true;}\\n    else {return Object.getOwnPropertyNames(v).length ? v : false;}\\n};\\nvar cb;\\ncb = function (source) {\\n    var change_data, source_name;\\n    source = (source === undefined) ? source: source;\\n    source_name = source.tags[0].source_name;\\n    change_data = (function () {\\n        if (_pyfunc_truthy(window.hasOwnProperty(source_name))) {\\n            source.data = window[source_name];\\n            source.change.emit();\\n        } else {\\n            window.setTimeout(change_data, 100);\\n        }\\n        return null;\\n    }).bind(this);\\n\\n    change_data();\\n    return null;\\n};\\ncb(source);\\n\"},\"id\":\"d583b797-8dca-4761-8e77-5441a82aeffe\",\"type\":\"CustomJS\"},{\"attributes\":{\"overlay\":{\"id\":\"b649dce0-c663-4dd5-8bfb-deec86fc779d\",\"type\":\"BoxAnnotation\"}},\"id\":\"ba9a2ea4-0e03-4681-9a9c-cd160a8dcce8\",\"type\":\"BoxZoomTool\"},{\"attributes\":{\"plot\":{\"id\":\"e5b48396-e844-4418-a915-a9342c2aa2fe\",\"subtype\":\"Figure\",\"type\":\"Plot\"},\"ticker\":{\"id\":\"75099eeb-aa7b-448e-9ccd-708c6c5f4a87\",\"type\":\"BasicTicker\"}},\"id\":\"536d41d3-816c-43d2-bb28-75e065b57656\",\"type\":\"Grid\"},{\"attributes\":{},\"id\":\"9fa10292-66f6-4974-af94-fdcab0d394d8\",\"type\":\"BasicTickFormatter\"},{\"attributes\":{\"fill_color\":{\"value\":\"#1f77b4\"},\"line_color\":{\"value\":\"#1f77b4\"},\"x\":{\"field\":\"A\"},\"y\":{\"field\":\"B\"}},\"id\":\"b022b609-de2e-47b7-8023-a1e172193eca\",\"type\":\"Circle\"},{\"attributes\":{\"callback\":null,\"column_names\":[\"C\",\"B\",\"A\",\"index\"],\"data\":{\"A\":{\"__ndarray__\":\"sibAT/jl9r8=\",\"dtype\":\"float64\",\"shape\":[1]},\"B\":{\"__ndarray__\":\"++DGMBlw8T8=\",\"dtype\":\"float64\",\"shape\":[1]},\"C\":{\"__ndarray__\":\"sLmF1EGV1r8=\",\"dtype\":\"float64\",\"shape\":[1]},\"index\":[0]},\"tags\":[{\"source_name\":\"source_data\"}]},\"id\":\"85dcfbff-d629-4cf7-aada-3aa542c516f4\",\"type\":\"ColumnDataSource\"},{\"attributes\":{},\"id\":\"f31247d9-8ff0-4128-81f7-ea2827b73d20\",\"type\":\"ResetTool\"},{\"attributes\":{},\"id\":\"0f9f3d04-9742-4d71-87c7-a6ecb54cd578\",\"type\":\"HelpTool\"},{\"attributes\":{\"active_drag\":\"auto\",\"active_inspect\":\"auto\",\"active_scroll\":\"auto\",\"active_tap\":\"auto\",\"tools\":[{\"id\":\"8ec77348-8117-4c64-8678-204b615e044b\",\"type\":\"PanTool\"},{\"id\":\"94bc3181-c207-4a34-b7dc-75963b0d2393\",\"type\":\"WheelZoomTool\"},{\"id\":\"ba9a2ea4-0e03-4681-9a9c-cd160a8dcce8\",\"type\":\"BoxZoomTool\"},{\"id\":\"ea2ddfca-57e2-452b-a7bf-aa876cb97608\",\"type\":\"SaveTool\"},{\"id\":\"f31247d9-8ff0-4128-81f7-ea2827b73d20\",\"type\":\"ResetTool\"},{\"id\":\"0f9f3d04-9742-4d71-87c7-a6ecb54cd578\",\"type\":\"HelpTool\"}]},\"id\":\"4ae5f020-9715-40dd-a153-82bc33ea8b85\",\"type\":\"Toolbar\"},{\"attributes\":{\"formatter\":{\"id\":\"8f452b56-9abf-40e8-8ad5-cc4a513d8667\",\"type\":\"BasicTickFormatter\"},\"plot\":{\"id\":\"e5b48396-e844-4418-a915-a9342c2aa2fe\",\"subtype\":\"Figure\",\"type\":\"Plot\"},\"ticker\":{\"id\":\"75099eeb-aa7b-448e-9ccd-708c6c5f4a87\",\"type\":\"BasicTicker\"}},\"id\":\"39378adc-af47-42a1-bee9-3c00ff25ab25\",\"type\":\"LinearAxis\"},{\"attributes\":{\"source\":{\"id\":\"85dcfbff-d629-4cf7-aada-3aa542c516f4\",\"type\":\"ColumnDataSource\"}},\"id\":\"0e694a30-365a-4e9c-87d9-55d0731b55c2\",\"type\":\"CDSView\"},{\"attributes\":{},\"id\":\"8e9bba7b-14b2-48a2-8af6-14c21470de57\",\"type\":\"LinearScale\"},{\"attributes\":{\"callback\":null},\"id\":\"c5b17c55-b890-44b3-8afc-16ff2b240e5b\",\"type\":\"DataRange1d\"},{\"attributes\":{\"dimension\":1,\"plot\":{\"id\":\"e5b48396-e844-4418-a915-a9342c2aa2fe\",\"subtype\":\"Figure\",\"type\":\"Plot\"},\"ticker\":{\"id\":\"f4a108b5-55f3-4fdd-a180-3ab8bddc43cc\",\"type\":\"BasicTicker\"}},\"id\":\"5097c389-8124-4c6f-93ca-edacb4ea0113\",\"type\":\"Grid\"},{\"attributes\":{\"data_source\":{\"id\":\"85dcfbff-d629-4cf7-aada-3aa542c516f4\",\"type\":\"ColumnDataSource\"},\"glyph\":{\"id\":\"b022b609-de2e-47b7-8023-a1e172193eca\",\"type\":\"Circle\"},\"hover_glyph\":null,\"muted_glyph\":null,\"nonselection_glyph\":{\"id\":\"3f10d25e-d599-4b0f-a67a-77e3f086bfb1\",\"type\":\"Circle\"},\"selection_glyph\":null,\"view\":{\"id\":\"0e694a30-365a-4e9c-87d9-55d0731b55c2\",\"type\":\"CDSView\"}},\"id\":\"760c10f6-9aa5-4c2a-899a-ebd1f3466409\",\"type\":\"GlyphRenderer\"},{\"attributes\":{\"fill_alpha\":{\"value\":0.1},\"fill_color\":{\"value\":\"#1f77b4\"},\"line_alpha\":{\"value\":0.1},\"line_color\":{\"value\":\"#1f77b4\"},\"x\":{\"field\":\"A\"},\"y\":{\"field\":\"B\"}},\"id\":\"3f10d25e-d599-4b0f-a67a-77e3f086bfb1\",\"type\":\"Circle\"},{\"attributes\":{},\"id\":\"8ec77348-8117-4c64-8678-204b615e044b\",\"type\":\"PanTool\"}],\"root_ids\":[\"e5b48396-e844-4418-a915-a9342c2aa2fe\"]},\"title\":\"Bokeh Application\",\"version\":\"0.12.10\"}};\n",
       "    var render_items = [{\"docid\":\"1e986452-0bd0-46e5-98bf-fe2a85687d45\",\"elementid\":\"914c1b9f-457d-456d-95e2-d8d3604a318b\",\"modelid\":\"e5b48396-e844-4418-a915-a9342c2aa2fe\"}];\n",
       "\n",
       "    root.Bokeh.embed.embed_items(docs_json, render_items);\n",
       "  }\n",
       "\n",
       "  if (root.Bokeh !== undefined) {\n",
       "    embed_document(root);\n",
       "  } else {\n",
       "    var attempts = 0;\n",
       "    var timer = setInterval(function(root) {\n",
       "      if (root.Bokeh !== undefined) {\n",
       "        embed_document(root);\n",
       "        clearInterval(timer);\n",
       "      }\n",
       "      attempts++;\n",
       "      if (attempts > 100) {\n",
       "        console.log(\"Bokeh: ERROR: Unable to embed document because BokehJS library is missing\")\n",
       "        clearInterval(timer);\n",
       "      }\n",
       "    }, 10, root)\n",
       "  }\n",
       "})(window);"
      ],
      "application/vnd.bokehjs_exec.v0+json": ""
     },
     "metadata": {
      "application/vnd.bokehjs_exec.v0+json": {
       "id": "e5b48396-e844-4418-a915-a9342c2aa2fe"
      }
     },
     "output_type": "display_data"
    }
   ],
   "source": [
    "fig = figure(plot_width=300, plot_height=300)\n",
    "source1 = ColumnDataSource(df[:1])\n",
    "fig.scatter(x=\"A\", y=\"B\", source=source1)\n",
    "fill_datasource(fig, source1)\n",
    "show(fig)"
   ]
  },
  {
   "cell_type": "code",
   "execution_count": 12,
   "metadata": {},
   "outputs": [
    {
     "data": {
      "text/html": [
       "\n",
       "<div class=\"bk-root\">\n",
       "    <div class=\"bk-plotdiv\" id=\"b2992e71-5539-4b67-97e3-37972a31b414\"></div>\n",
       "</div>"
      ]
     },
     "metadata": {},
     "output_type": "display_data"
    },
    {
     "data": {
      "application/javascript": [
       "(function(root) {\n",
       "  function embed_document(root) {\n",
       "    var docs_json = {\"e3b0f58b-6ad7-4025-9efd-f50361b08731\":{\"roots\":{\"references\":[{\"attributes\":{},\"id\":\"1bbb4d11-22d7-4f73-acb4-8e3656b55c87\",\"type\":\"LinearScale\"},{\"attributes\":{\"callback\":null,\"column_names\":[\"C\",\"B\",\"A\",\"index\"],\"data\":{\"A\":{\"__ndarray__\":\"sibAT/jl9r8=\",\"dtype\":\"float64\",\"shape\":[1]},\"B\":{\"__ndarray__\":\"++DGMBlw8T8=\",\"dtype\":\"float64\",\"shape\":[1]},\"C\":{\"__ndarray__\":\"sLmF1EGV1r8=\",\"dtype\":\"float64\",\"shape\":[1]},\"index\":[0]},\"tags\":[{\"source_name\":\"source_data\"}]},\"id\":\"5c2b9b72-40d5-4fd7-8867-b09e75c86e84\",\"type\":\"ColumnDataSource\"},{\"attributes\":{},\"id\":\"32fb0108-e26f-4f17-914e-87192acc135f\",\"type\":\"PanTool\"},{\"attributes\":{\"below\":[{\"id\":\"a7698426-199f-471b-aeac-cc0454b2e00e\",\"type\":\"LinearAxis\"}],\"js_property_callbacks\":{\"change:inner_width\":[{\"id\":\"bdf480e9-0d46-4632-a5fd-e8cfce026a1f\",\"type\":\"CustomJS\"}]},\"left\":[{\"id\":\"27615224-0f9b-45a5-a5b2-4733afd8f47b\",\"type\":\"LinearAxis\"}],\"plot_height\":300,\"plot_width\":300,\"renderers\":[{\"id\":\"a7698426-199f-471b-aeac-cc0454b2e00e\",\"type\":\"LinearAxis\"},{\"id\":\"6cebd8e6-50ec-46b6-abbf-023531d0ac19\",\"type\":\"Grid\"},{\"id\":\"27615224-0f9b-45a5-a5b2-4733afd8f47b\",\"type\":\"LinearAxis\"},{\"id\":\"ab4e3ef0-e3b0-4181-9200-f23a5c18ae1d\",\"type\":\"Grid\"},{\"id\":\"56177e27-ed2e-4821-a728-49afa169238c\",\"type\":\"BoxAnnotation\"},{\"id\":\"0a9ca5b0-ab3a-4300-a0b7-4f40a3781896\",\"type\":\"GlyphRenderer\"}],\"title\":{\"id\":\"a6a2e82a-7e85-4fc1-8145-85a210e18308\",\"type\":\"Title\"},\"toolbar\":{\"id\":\"e99b53ec-e9f8-4e76-b291-16627b825e9c\",\"type\":\"Toolbar\"},\"x_range\":{\"id\":\"a2cb6a69-ef21-430d-a638-9570b8c838f7\",\"type\":\"DataRange1d\"},\"x_scale\":{\"id\":\"1bbb4d11-22d7-4f73-acb4-8e3656b55c87\",\"type\":\"LinearScale\"},\"y_range\":{\"id\":\"813987f2-63e0-4c54-b8ac-61731a0105f7\",\"type\":\"DataRange1d\"},\"y_scale\":{\"id\":\"cdf65267-0632-4859-8af4-84479caa6808\",\"type\":\"LinearScale\"}},\"id\":\"9218437c-36ed-4467-8bd4-9f3afcd8449c\",\"subtype\":\"Figure\",\"type\":\"Plot\"},{\"attributes\":{\"plot\":{\"id\":\"9218437c-36ed-4467-8bd4-9f3afcd8449c\",\"subtype\":\"Figure\",\"type\":\"Plot\"},\"ticker\":{\"id\":\"c1f00fde-0217-4a7b-b02e-623e019eaeb7\",\"type\":\"BasicTicker\"}},\"id\":\"6cebd8e6-50ec-46b6-abbf-023531d0ac19\",\"type\":\"Grid\"},{\"attributes\":{\"active_drag\":\"auto\",\"active_inspect\":\"auto\",\"active_scroll\":\"auto\",\"active_tap\":\"auto\",\"tools\":[{\"id\":\"32fb0108-e26f-4f17-914e-87192acc135f\",\"type\":\"PanTool\"},{\"id\":\"bcead146-1ed7-4091-870a-fa444a25674e\",\"type\":\"WheelZoomTool\"},{\"id\":\"bbffbf24-808a-4895-b10b-0684b8745d07\",\"type\":\"BoxZoomTool\"},{\"id\":\"651a2c86-6b3e-4299-a1a6-96b3b32745ec\",\"type\":\"SaveTool\"},{\"id\":\"f4c4ece0-63c4-4ff5-89b1-dd366ebea6ec\",\"type\":\"ResetTool\"},{\"id\":\"a8bf0607-0af6-47c2-9df4-f316c773f277\",\"type\":\"HelpTool\"}]},\"id\":\"e99b53ec-e9f8-4e76-b291-16627b825e9c\",\"type\":\"Toolbar\"},{\"attributes\":{\"formatter\":{\"id\":\"11a31571-4c7f-4f26-8a35-7543f2ea86f4\",\"type\":\"BasicTickFormatter\"},\"plot\":{\"id\":\"9218437c-36ed-4467-8bd4-9f3afcd8449c\",\"subtype\":\"Figure\",\"type\":\"Plot\"},\"ticker\":{\"id\":\"672721ed-9886-43f1-98ad-a17f4fafbcfa\",\"type\":\"BasicTicker\"}},\"id\":\"27615224-0f9b-45a5-a5b2-4733afd8f47b\",\"type\":\"LinearAxis\"},{\"attributes\":{},\"id\":\"11a31571-4c7f-4f26-8a35-7543f2ea86f4\",\"type\":\"BasicTickFormatter\"},{\"attributes\":{\"args\":{\"source\":{\"id\":\"5c2b9b72-40d5-4fd7-8867-b09e75c86e84\",\"type\":\"ColumnDataSource\"}},\"code\":\"var _pyfunc_truthy = function (v) {\\n    if (v === null || typeof v !== \\\"object\\\") {return v;}\\n    else if (v.length !== undefined) {return v.length ? v : false;}\\n    else if (v.byteLength !== undefined) {return v.byteLength ? v : false;}\\n    else if (v.constructor !== Object) {return true;}\\n    else {return Object.getOwnPropertyNames(v).length ? v : false;}\\n};\\nvar cb;\\ncb = function (source) {\\n    var change_data, source_name;\\n    source = (source === undefined) ? source: source;\\n    source_name = source.tags[0].source_name;\\n    change_data = (function () {\\n        if (_pyfunc_truthy(window.hasOwnProperty(source_name))) {\\n            source.data = window[source_name];\\n            source.change.emit();\\n        } else {\\n            window.setTimeout(change_data, 100);\\n        }\\n        return null;\\n    }).bind(this);\\n\\n    change_data();\\n    return null;\\n};\\ncb(source);\\n\"},\"id\":\"bdf480e9-0d46-4632-a5fd-e8cfce026a1f\",\"type\":\"CustomJS\"},{\"attributes\":{},\"id\":\"a8bf0607-0af6-47c2-9df4-f316c773f277\",\"type\":\"HelpTool\"},{\"attributes\":{\"callback\":null},\"id\":\"a2cb6a69-ef21-430d-a638-9570b8c838f7\",\"type\":\"DataRange1d\"},{\"attributes\":{},\"id\":\"672721ed-9886-43f1-98ad-a17f4fafbcfa\",\"type\":\"BasicTicker\"},{\"attributes\":{\"fill_alpha\":{\"value\":0.1},\"fill_color\":{\"value\":\"#1f77b4\"},\"line_alpha\":{\"value\":0.1},\"line_color\":{\"value\":\"#1f77b4\"},\"x\":{\"field\":\"B\"},\"y\":{\"field\":\"C\"}},\"id\":\"ca9da2cf-6865-4c81-95f8-17eaebdbc78d\",\"type\":\"Circle\"},{\"attributes\":{\"callback\":null},\"id\":\"813987f2-63e0-4c54-b8ac-61731a0105f7\",\"type\":\"DataRange1d\"},{\"attributes\":{\"source\":{\"id\":\"5c2b9b72-40d5-4fd7-8867-b09e75c86e84\",\"type\":\"ColumnDataSource\"}},\"id\":\"97adf8e1-9be4-41f2-bf24-150069a38cfe\",\"type\":\"CDSView\"},{\"attributes\":{},\"id\":\"cdf65267-0632-4859-8af4-84479caa6808\",\"type\":\"LinearScale\"},{\"attributes\":{\"data_source\":{\"id\":\"5c2b9b72-40d5-4fd7-8867-b09e75c86e84\",\"type\":\"ColumnDataSource\"},\"glyph\":{\"id\":\"0a16726e-77b0-4586-a53a-035efbab2bad\",\"type\":\"Circle\"},\"hover_glyph\":null,\"muted_glyph\":null,\"nonselection_glyph\":{\"id\":\"ca9da2cf-6865-4c81-95f8-17eaebdbc78d\",\"type\":\"Circle\"},\"selection_glyph\":null,\"view\":{\"id\":\"97adf8e1-9be4-41f2-bf24-150069a38cfe\",\"type\":\"CDSView\"}},\"id\":\"0a9ca5b0-ab3a-4300-a0b7-4f40a3781896\",\"type\":\"GlyphRenderer\"},{\"attributes\":{\"formatter\":{\"id\":\"fb691c06-05ae-446a-9816-8c507f4a2b40\",\"type\":\"BasicTickFormatter\"},\"plot\":{\"id\":\"9218437c-36ed-4467-8bd4-9f3afcd8449c\",\"subtype\":\"Figure\",\"type\":\"Plot\"},\"ticker\":{\"id\":\"c1f00fde-0217-4a7b-b02e-623e019eaeb7\",\"type\":\"BasicTicker\"}},\"id\":\"a7698426-199f-471b-aeac-cc0454b2e00e\",\"type\":\"LinearAxis\"},{\"attributes\":{},\"id\":\"f4c4ece0-63c4-4ff5-89b1-dd366ebea6ec\",\"type\":\"ResetTool\"},{\"attributes\":{\"plot\":null,\"text\":\"\"},\"id\":\"a6a2e82a-7e85-4fc1-8145-85a210e18308\",\"type\":\"Title\"},{\"attributes\":{\"bottom_units\":\"screen\",\"fill_alpha\":{\"value\":0.5},\"fill_color\":{\"value\":\"lightgrey\"},\"left_units\":\"screen\",\"level\":\"overlay\",\"line_alpha\":{\"value\":1.0},\"line_color\":{\"value\":\"black\"},\"line_dash\":[4,4],\"line_width\":{\"value\":2},\"plot\":null,\"render_mode\":\"css\",\"right_units\":\"screen\",\"top_units\":\"screen\"},\"id\":\"56177e27-ed2e-4821-a728-49afa169238c\",\"type\":\"BoxAnnotation\"},{\"attributes\":{},\"id\":\"bcead146-1ed7-4091-870a-fa444a25674e\",\"type\":\"WheelZoomTool\"},{\"attributes\":{\"fill_color\":{\"value\":\"#1f77b4\"},\"line_color\":{\"value\":\"#1f77b4\"},\"x\":{\"field\":\"B\"},\"y\":{\"field\":\"C\"}},\"id\":\"0a16726e-77b0-4586-a53a-035efbab2bad\",\"type\":\"Circle\"},{\"attributes\":{},\"id\":\"651a2c86-6b3e-4299-a1a6-96b3b32745ec\",\"type\":\"SaveTool\"},{\"attributes\":{},\"id\":\"fb691c06-05ae-446a-9816-8c507f4a2b40\",\"type\":\"BasicTickFormatter\"},{\"attributes\":{},\"id\":\"c1f00fde-0217-4a7b-b02e-623e019eaeb7\",\"type\":\"BasicTicker\"},{\"attributes\":{\"dimension\":1,\"plot\":{\"id\":\"9218437c-36ed-4467-8bd4-9f3afcd8449c\",\"subtype\":\"Figure\",\"type\":\"Plot\"},\"ticker\":{\"id\":\"672721ed-9886-43f1-98ad-a17f4fafbcfa\",\"type\":\"BasicTicker\"}},\"id\":\"ab4e3ef0-e3b0-4181-9200-f23a5c18ae1d\",\"type\":\"Grid\"},{\"attributes\":{\"overlay\":{\"id\":\"56177e27-ed2e-4821-a728-49afa169238c\",\"type\":\"BoxAnnotation\"}},\"id\":\"bbffbf24-808a-4895-b10b-0684b8745d07\",\"type\":\"BoxZoomTool\"}],\"root_ids\":[\"9218437c-36ed-4467-8bd4-9f3afcd8449c\"]},\"title\":\"Bokeh Application\",\"version\":\"0.12.10\"}};\n",
       "    var render_items = [{\"docid\":\"e3b0f58b-6ad7-4025-9efd-f50361b08731\",\"elementid\":\"b2992e71-5539-4b67-97e3-37972a31b414\",\"modelid\":\"9218437c-36ed-4467-8bd4-9f3afcd8449c\"}];\n",
       "\n",
       "    root.Bokeh.embed.embed_items(docs_json, render_items);\n",
       "  }\n",
       "\n",
       "  if (root.Bokeh !== undefined) {\n",
       "    embed_document(root);\n",
       "  } else {\n",
       "    var attempts = 0;\n",
       "    var timer = setInterval(function(root) {\n",
       "      if (root.Bokeh !== undefined) {\n",
       "        embed_document(root);\n",
       "        clearInterval(timer);\n",
       "      }\n",
       "      attempts++;\n",
       "      if (attempts > 100) {\n",
       "        console.log(\"Bokeh: ERROR: Unable to embed document because BokehJS library is missing\")\n",
       "        clearInterval(timer);\n",
       "      }\n",
       "    }, 10, root)\n",
       "  }\n",
       "})(window);"
      ],
      "application/vnd.bokehjs_exec.v0+json": ""
     },
     "metadata": {
      "application/vnd.bokehjs_exec.v0+json": {
       "id": "9218437c-36ed-4467-8bd4-9f3afcd8449c"
      }
     },
     "output_type": "display_data"
    }
   ],
   "source": [
    "fig = figure(plot_width=300, plot_height=300)\n",
    "source1 = ColumnDataSource(df[:1])\n",
    "fig.scatter(x=\"B\", y=\"C\", source=source1)\n",
    "fill_datasource(fig, source1)\n",
    "show(fig)"
   ]
  },
  {
   "cell_type": "code",
   "execution_count": 16,
   "metadata": {},
   "outputs": [
    {
     "data": {
      "text/html": [
       "\n",
       "<div class=\"bk-root\">\n",
       "    <div class=\"bk-plotdiv\" id=\"4008de8f-6bdf-46a3-84aa-e904707a9130\"></div>\n",
       "</div>"
      ]
     },
     "metadata": {},
     "output_type": "display_data"
    },
    {
     "data": {
      "application/javascript": [
       "(function(root) {\n",
       "  function embed_document(root) {\n",
       "    var docs_json = {\"0ad9c485-f5b5-48da-b628-51e3c8940a33\":{\"roots\":{\"references\":[{\"attributes\":{\"data_source\":{\"id\":\"4cefeec9-4bfc-4bf6-a5f5-fda050c6a8d0\",\"type\":\"ColumnDataSource\"},\"glyph\":{\"id\":\"9ebaa807-9567-4a76-a397-546755ea9cd7\",\"type\":\"Circle\"},\"hover_glyph\":null,\"muted_glyph\":null,\"nonselection_glyph\":{\"id\":\"75a15f71-212a-4afe-816e-b4c3305821e0\",\"type\":\"Circle\"},\"selection_glyph\":null,\"view\":{\"id\":\"4c305c77-f712-43d3-99c3-86a90f606d43\",\"type\":\"CDSView\"}},\"id\":\"d55f73cb-92af-4515-b819-4b6b0816fc54\",\"type\":\"GlyphRenderer\"},{\"attributes\":{\"below\":[{\"id\":\"e941bdd3-1a3b-4fd0-a75f-b08e50a0067f\",\"type\":\"LinearAxis\"}],\"js_property_callbacks\":{\"change:inner_width\":[{\"id\":\"d4c08a19-c5e4-459a-9bd7-15c7b8b2cebf\",\"type\":\"CustomJS\"}]},\"left\":[{\"id\":\"fe5f8fae-cbb2-4ced-84e1-6ce70679bde1\",\"type\":\"LinearAxis\"}],\"plot_height\":300,\"plot_width\":300,\"renderers\":[{\"id\":\"e941bdd3-1a3b-4fd0-a75f-b08e50a0067f\",\"type\":\"LinearAxis\"},{\"id\":\"df5344fe-8d28-41c5-9aba-5ea37a0f0df3\",\"type\":\"Grid\"},{\"id\":\"fe5f8fae-cbb2-4ced-84e1-6ce70679bde1\",\"type\":\"LinearAxis\"},{\"id\":\"482052a3-9206-4f06-ad06-88421ce61555\",\"type\":\"Grid\"},{\"id\":\"3802ca39-5fa7-4526-9c1d-e9a809f0592a\",\"type\":\"BoxAnnotation\"},{\"id\":\"d55f73cb-92af-4515-b819-4b6b0816fc54\",\"type\":\"GlyphRenderer\"}],\"title\":{\"id\":\"62c5b95c-d3be-4d2e-9676-1671b54db843\",\"type\":\"Title\"},\"toolbar\":{\"id\":\"b5848ecf-efca-487e-bd48-98b2c81fbda5\",\"type\":\"Toolbar\"},\"x_range\":{\"id\":\"42cae244-8832-4333-aef2-0af0e80d5e46\",\"type\":\"DataRange1d\"},\"x_scale\":{\"id\":\"0e1baff6-e836-4596-90ed-e3be3ec4d24c\",\"type\":\"LinearScale\"},\"y_range\":{\"id\":\"a95d62be-b08c-4941-9609-848d8d6a470f\",\"type\":\"DataRange1d\"},\"y_scale\":{\"id\":\"e5ecfe51-3250-4124-8f07-97d0784bdf8f\",\"type\":\"LinearScale\"}},\"id\":\"d86fd3df-61b0-4cdb-882d-fdc353207667\",\"subtype\":\"Figure\",\"type\":\"Plot\"},{\"attributes\":{\"plot\":null,\"text\":\"\"},\"id\":\"62c5b95c-d3be-4d2e-9676-1671b54db843\",\"type\":\"Title\"},{\"attributes\":{\"bottom_units\":\"screen\",\"fill_alpha\":{\"value\":0.5},\"fill_color\":{\"value\":\"lightgrey\"},\"left_units\":\"screen\",\"level\":\"overlay\",\"line_alpha\":{\"value\":1.0},\"line_color\":{\"value\":\"black\"},\"line_dash\":[4,4],\"line_width\":{\"value\":2},\"plot\":null,\"render_mode\":\"css\",\"right_units\":\"screen\",\"top_units\":\"screen\"},\"id\":\"3802ca39-5fa7-4526-9c1d-e9a809f0592a\",\"type\":\"BoxAnnotation\"},{\"attributes\":{\"callback\":null,\"column_names\":[\"C\",\"B\",\"A\",\"index\"],\"data\":{\"A\":{\"__ndarray__\":\"sibAT/jl9r8=\",\"dtype\":\"float64\",\"shape\":[1]},\"B\":{\"__ndarray__\":\"++DGMBlw8T8=\",\"dtype\":\"float64\",\"shape\":[1]},\"C\":{\"__ndarray__\":\"sLmF1EGV1r8=\",\"dtype\":\"float64\",\"shape\":[1]},\"index\":[0]},\"tags\":[{\"source_name\":\"source_data\"}]},\"id\":\"4cefeec9-4bfc-4bf6-a5f5-fda050c6a8d0\",\"type\":\"ColumnDataSource\"},{\"attributes\":{\"active_drag\":\"auto\",\"active_inspect\":\"auto\",\"active_scroll\":\"auto\",\"active_tap\":\"auto\",\"tools\":[{\"id\":\"294c114d-b729-4164-9871-3b764ecf3cc3\",\"type\":\"PanTool\"},{\"id\":\"905855bf-3d72-4c65-93ef-f166adc3c5bd\",\"type\":\"WheelZoomTool\"},{\"id\":\"cc6febe6-630f-4b1d-bb2c-c4c50fe0516f\",\"type\":\"BoxZoomTool\"},{\"id\":\"ece0cdd0-9016-4376-a1b1-f0e01591c525\",\"type\":\"SaveTool\"},{\"id\":\"202063ac-68fe-481b-86cc-59f717cc4d26\",\"type\":\"ResetTool\"},{\"id\":\"14d1a254-ef32-4f2c-9686-836786bc6ce1\",\"type\":\"HelpTool\"}]},\"id\":\"b5848ecf-efca-487e-bd48-98b2c81fbda5\",\"type\":\"Toolbar\"},{\"attributes\":{\"formatter\":{\"id\":\"5e8ca013-e60b-4f45-a0ad-5e25f44d6033\",\"type\":\"BasicTickFormatter\"},\"plot\":{\"id\":\"d86fd3df-61b0-4cdb-882d-fdc353207667\",\"subtype\":\"Figure\",\"type\":\"Plot\"},\"ticker\":{\"id\":\"320636dc-0b34-4b0d-b0e4-52c0ebbbb1ec\",\"type\":\"BasicTicker\"}},\"id\":\"fe5f8fae-cbb2-4ced-84e1-6ce70679bde1\",\"type\":\"LinearAxis\"},{\"attributes\":{\"callback\":null},\"id\":\"42cae244-8832-4333-aef2-0af0e80d5e46\",\"type\":\"DataRange1d\"},{\"attributes\":{},\"id\":\"ece0cdd0-9016-4376-a1b1-f0e01591c525\",\"type\":\"SaveTool\"},{\"attributes\":{\"high\":2.823492770064401,\"low\":-2.561403987565564,\"palette\":[\"#440154\",\"#440255\",\"#440357\",\"#450558\",\"#45065A\",\"#45085B\",\"#46095C\",\"#460B5E\",\"#460C5F\",\"#460E61\",\"#470F62\",\"#471163\",\"#471265\",\"#471466\",\"#471567\",\"#471669\",\"#47186A\",\"#48196B\",\"#481A6C\",\"#481C6E\",\"#481D6F\",\"#481E70\",\"#482071\",\"#482172\",\"#482273\",\"#482374\",\"#472575\",\"#472676\",\"#472777\",\"#472878\",\"#472A79\",\"#472B7A\",\"#472C7B\",\"#462D7C\",\"#462F7C\",\"#46307D\",\"#46317E\",\"#45327F\",\"#45347F\",\"#453580\",\"#453681\",\"#443781\",\"#443982\",\"#433A83\",\"#433B83\",\"#433C84\",\"#423D84\",\"#423E85\",\"#424085\",\"#414186\",\"#414286\",\"#404387\",\"#404487\",\"#3F4587\",\"#3F4788\",\"#3E4888\",\"#3E4989\",\"#3D4A89\",\"#3D4B89\",\"#3D4C89\",\"#3C4D8A\",\"#3C4E8A\",\"#3B508A\",\"#3B518A\",\"#3A528B\",\"#3A538B\",\"#39548B\",\"#39558B\",\"#38568B\",\"#38578C\",\"#37588C\",\"#37598C\",\"#365A8C\",\"#365B8C\",\"#355C8C\",\"#355D8C\",\"#345E8D\",\"#345F8D\",\"#33608D\",\"#33618D\",\"#32628D\",\"#32638D\",\"#31648D\",\"#31658D\",\"#31668D\",\"#30678D\",\"#30688D\",\"#2F698D\",\"#2F6A8D\",\"#2E6B8E\",\"#2E6C8E\",\"#2E6D8E\",\"#2D6E8E\",\"#2D6F8E\",\"#2C708E\",\"#2C718E\",\"#2C728E\",\"#2B738E\",\"#2B748E\",\"#2A758E\",\"#2A768E\",\"#2A778E\",\"#29788E\",\"#29798E\",\"#287A8E\",\"#287A8E\",\"#287B8E\",\"#277C8E\",\"#277D8E\",\"#277E8E\",\"#267F8E\",\"#26808E\",\"#26818E\",\"#25828E\",\"#25838D\",\"#24848D\",\"#24858D\",\"#24868D\",\"#23878D\",\"#23888D\",\"#23898D\",\"#22898D\",\"#228A8D\",\"#228B8D\",\"#218C8D\",\"#218D8C\",\"#218E8C\",\"#208F8C\",\"#20908C\",\"#20918C\",\"#1F928C\",\"#1F938B\",\"#1F948B\",\"#1F958B\",\"#1F968B\",\"#1E978A\",\"#1E988A\",\"#1E998A\",\"#1E998A\",\"#1E9A89\",\"#1E9B89\",\"#1E9C89\",\"#1E9D88\",\"#1E9E88\",\"#1E9F88\",\"#1EA087\",\"#1FA187\",\"#1FA286\",\"#1FA386\",\"#20A485\",\"#20A585\",\"#21A685\",\"#21A784\",\"#22A784\",\"#23A883\",\"#23A982\",\"#24AA82\",\"#25AB81\",\"#26AC81\",\"#27AD80\",\"#28AE7F\",\"#29AF7F\",\"#2AB07E\",\"#2BB17D\",\"#2CB17D\",\"#2EB27C\",\"#2FB37B\",\"#30B47A\",\"#32B57A\",\"#33B679\",\"#35B778\",\"#36B877\",\"#38B976\",\"#39B976\",\"#3BBA75\",\"#3DBB74\",\"#3EBC73\",\"#40BD72\",\"#42BE71\",\"#44BE70\",\"#45BF6F\",\"#47C06E\",\"#49C16D\",\"#4BC26C\",\"#4DC26B\",\"#4FC369\",\"#51C468\",\"#53C567\",\"#55C666\",\"#57C665\",\"#59C764\",\"#5BC862\",\"#5EC961\",\"#60C960\",\"#62CA5F\",\"#64CB5D\",\"#67CC5C\",\"#69CC5B\",\"#6BCD59\",\"#6DCE58\",\"#70CE56\",\"#72CF55\",\"#74D054\",\"#77D052\",\"#79D151\",\"#7CD24F\",\"#7ED24E\",\"#81D34C\",\"#83D34B\",\"#86D449\",\"#88D547\",\"#8BD546\",\"#8DD644\",\"#90D643\",\"#92D741\",\"#95D73F\",\"#97D83E\",\"#9AD83C\",\"#9DD93A\",\"#9FD938\",\"#A2DA37\",\"#A5DA35\",\"#A7DB33\",\"#AADB32\",\"#ADDC30\",\"#AFDC2E\",\"#B2DD2C\",\"#B5DD2B\",\"#B7DD29\",\"#BADE27\",\"#BDDE26\",\"#BFDF24\",\"#C2DF22\",\"#C5DF21\",\"#C7E01F\",\"#CAE01E\",\"#CDE01D\",\"#CFE11C\",\"#D2E11B\",\"#D4E11A\",\"#D7E219\",\"#DAE218\",\"#DCE218\",\"#DFE318\",\"#E1E318\",\"#E4E318\",\"#E7E419\",\"#E9E419\",\"#ECE41A\",\"#EEE51B\",\"#F1E51C\",\"#F3E51E\",\"#F6E61F\",\"#F8E621\",\"#FAE622\",\"#FDE724\"]},\"id\":\"f308b3c2-8d49-4b1a-ae23-6ffbf7cea758\",\"type\":\"LinearColorMapper\"},{\"attributes\":{},\"id\":\"905855bf-3d72-4c65-93ef-f166adc3c5bd\",\"type\":\"WheelZoomTool\"},{\"attributes\":{},\"id\":\"202063ac-68fe-481b-86cc-59f717cc4d26\",\"type\":\"ResetTool\"},{\"attributes\":{},\"id\":\"184128c5-830f-4524-9933-ff66172d4f71\",\"type\":\"BasicTicker\"},{\"attributes\":{\"args\":{\"source\":{\"id\":\"4cefeec9-4bfc-4bf6-a5f5-fda050c6a8d0\",\"type\":\"ColumnDataSource\"}},\"code\":\"var _pyfunc_truthy = function (v) {\\n    if (v === null || typeof v !== \\\"object\\\") {return v;}\\n    else if (v.length !== undefined) {return v.length ? v : false;}\\n    else if (v.byteLength !== undefined) {return v.byteLength ? v : false;}\\n    else if (v.constructor !== Object) {return true;}\\n    else {return Object.getOwnPropertyNames(v).length ? v : false;}\\n};\\nvar cb;\\ncb = function (source) {\\n    var change_data, source_name;\\n    source = (source === undefined) ? source: source;\\n    source_name = source.tags[0].source_name;\\n    change_data = (function () {\\n        if (_pyfunc_truthy(window.hasOwnProperty(source_name))) {\\n            source.data = window[source_name];\\n            source.change.emit();\\n        } else {\\n            window.setTimeout(change_data, 100);\\n        }\\n        return null;\\n    }).bind(this);\\n\\n    change_data();\\n    return null;\\n};\\ncb(source);\\n\"},\"id\":\"d4c08a19-c5e4-459a-9bd7-15c7b8b2cebf\",\"type\":\"CustomJS\"},{\"attributes\":{\"plot\":{\"id\":\"d86fd3df-61b0-4cdb-882d-fdc353207667\",\"subtype\":\"Figure\",\"type\":\"Plot\"},\"ticker\":{\"id\":\"184128c5-830f-4524-9933-ff66172d4f71\",\"type\":\"BasicTicker\"}},\"id\":\"df5344fe-8d28-41c5-9aba-5ea37a0f0df3\",\"type\":\"Grid\"},{\"attributes\":{\"dimension\":1,\"plot\":{\"id\":\"d86fd3df-61b0-4cdb-882d-fdc353207667\",\"subtype\":\"Figure\",\"type\":\"Plot\"},\"ticker\":{\"id\":\"320636dc-0b34-4b0d-b0e4-52c0ebbbb1ec\",\"type\":\"BasicTicker\"}},\"id\":\"482052a3-9206-4f06-ad06-88421ce61555\",\"type\":\"Grid\"},{\"attributes\":{\"source\":{\"id\":\"4cefeec9-4bfc-4bf6-a5f5-fda050c6a8d0\",\"type\":\"ColumnDataSource\"}},\"id\":\"4c305c77-f712-43d3-99c3-86a90f606d43\",\"type\":\"CDSView\"},{\"attributes\":{},\"id\":\"320636dc-0b34-4b0d-b0e4-52c0ebbbb1ec\",\"type\":\"BasicTicker\"},{\"attributes\":{},\"id\":\"5e8ca013-e60b-4f45-a0ad-5e25f44d6033\",\"type\":\"BasicTickFormatter\"},{\"attributes\":{\"callback\":null},\"id\":\"a95d62be-b08c-4941-9609-848d8d6a470f\",\"type\":\"DataRange1d\"},{\"attributes\":{\"formatter\":{\"id\":\"ab0c4699-8cc4-4fe2-9230-ed7649a76a14\",\"type\":\"BasicTickFormatter\"},\"plot\":{\"id\":\"d86fd3df-61b0-4cdb-882d-fdc353207667\",\"subtype\":\"Figure\",\"type\":\"Plot\"},\"ticker\":{\"id\":\"184128c5-830f-4524-9933-ff66172d4f71\",\"type\":\"BasicTicker\"}},\"id\":\"e941bdd3-1a3b-4fd0-a75f-b08e50a0067f\",\"type\":\"LinearAxis\"},{\"attributes\":{},\"id\":\"0e1baff6-e836-4596-90ed-e3be3ec4d24c\",\"type\":\"LinearScale\"},{\"attributes\":{\"fill_alpha\":{\"value\":0.1},\"fill_color\":{\"value\":\"#1f77b4\"},\"line_alpha\":{\"value\":0.1},\"line_color\":{\"value\":\"#1f77b4\"},\"x\":{\"field\":\"A\"},\"y\":{\"field\":\"B\"}},\"id\":\"75a15f71-212a-4afe-816e-b4c3305821e0\",\"type\":\"Circle\"},{\"attributes\":{},\"id\":\"ab0c4699-8cc4-4fe2-9230-ed7649a76a14\",\"type\":\"BasicTickFormatter\"},{\"attributes\":{},\"id\":\"e5ecfe51-3250-4124-8f07-97d0784bdf8f\",\"type\":\"LinearScale\"},{\"attributes\":{},\"id\":\"294c114d-b729-4164-9871-3b764ecf3cc3\",\"type\":\"PanTool\"},{\"attributes\":{\"overlay\":{\"id\":\"3802ca39-5fa7-4526-9c1d-e9a809f0592a\",\"type\":\"BoxAnnotation\"}},\"id\":\"cc6febe6-630f-4b1d-bb2c-c4c50fe0516f\",\"type\":\"BoxZoomTool\"},{\"attributes\":{\"fill_color\":{\"field\":\"C\",\"transform\":{\"id\":\"f308b3c2-8d49-4b1a-ae23-6ffbf7cea758\",\"type\":\"LinearColorMapper\"}},\"line_color\":{\"field\":\"C\",\"transform\":{\"id\":\"f308b3c2-8d49-4b1a-ae23-6ffbf7cea758\",\"type\":\"LinearColorMapper\"}},\"x\":{\"field\":\"A\"},\"y\":{\"field\":\"B\"}},\"id\":\"9ebaa807-9567-4a76-a397-546755ea9cd7\",\"type\":\"Circle\"},{\"attributes\":{},\"id\":\"14d1a254-ef32-4f2c-9686-836786bc6ce1\",\"type\":\"HelpTool\"}],\"root_ids\":[\"d86fd3df-61b0-4cdb-882d-fdc353207667\"]},\"title\":\"Bokeh Application\",\"version\":\"0.12.10\"}};\n",
       "    var render_items = [{\"docid\":\"0ad9c485-f5b5-48da-b628-51e3c8940a33\",\"elementid\":\"4008de8f-6bdf-46a3-84aa-e904707a9130\",\"modelid\":\"d86fd3df-61b0-4cdb-882d-fdc353207667\"}];\n",
       "\n",
       "    root.Bokeh.embed.embed_items(docs_json, render_items);\n",
       "  }\n",
       "\n",
       "  if (root.Bokeh !== undefined) {\n",
       "    embed_document(root);\n",
       "  } else {\n",
       "    var attempts = 0;\n",
       "    var timer = setInterval(function(root) {\n",
       "      if (root.Bokeh !== undefined) {\n",
       "        embed_document(root);\n",
       "        clearInterval(timer);\n",
       "      }\n",
       "      attempts++;\n",
       "      if (attempts > 100) {\n",
       "        console.log(\"Bokeh: ERROR: Unable to embed document because BokehJS library is missing\")\n",
       "        clearInterval(timer);\n",
       "      }\n",
       "    }, 10, root)\n",
       "  }\n",
       "})(window);"
      ],
      "application/vnd.bokehjs_exec.v0+json": ""
     },
     "metadata": {
      "application/vnd.bokehjs_exec.v0+json": {
       "id": "d86fd3df-61b0-4cdb-882d-fdc353207667"
      }
     },
     "output_type": "display_data"
    }
   ],
   "source": [
    "from bokeh.transform import linear_cmap\n",
    "from bokeh.palettes import Viridis256\n",
    "\n",
    "fig = figure(plot_width=300, plot_height=300)\n",
    "source1 = ColumnDataSource(df[:1])\n",
    "fig.scatter(x=\"A\", y=\"B\", color=linear_cmap(\"C\", Viridis256, df.C.min(), df.C.max()), source=source1)\n",
    "fill_datasource(fig, source1)\n",
    "show(fig)"
   ]
  }
 ],
 "metadata": {
  "kernelspec": {
   "display_name": "Python [default]",
   "language": "python",
   "name": "python3"
  },
  "language_info": {
   "codemirror_mode": {
    "name": "ipython",
    "version": 3
   },
   "file_extension": ".py",
   "mimetype": "text/x-python",
   "name": "python",
   "nbconvert_exporter": "python",
   "pygments_lexer": "ipython3",
   "version": "3.5.2"
  }
 },
 "nbformat": 4,
 "nbformat_minor": 2
}
