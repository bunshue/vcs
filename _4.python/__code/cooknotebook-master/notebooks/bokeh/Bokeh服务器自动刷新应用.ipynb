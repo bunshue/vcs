{
 "cells": [
  {
   "cell_type": "markdown",
   "metadata": {},
   "source": [
    "# Bokeh服务器自动刷新应用"
   ]
  },
  {
   "cell_type": "markdown",
   "metadata": {},
   "source": [
    "通过`bokeh serve app.py`可以启动Bokeh服务器并运行`app.py`应用程序。每次用浏览器访问`http://localhost:5006/app`都会在服务器中创建一个新的`Session`对象，并在其中执行`app.py`中的代码。但是代码并不会重新从文件读入，因此在调试`app.py`代码时需要不断地重新运行Bokeh服务器，为调试工作带来不必要的麻烦。\n",
    "\n",
    "在`app.py`中载入下面的`bokeh_reload`模块，会对Bokeh中的`CodeRunner`打上自动重新读入代码的补丁。"
   ]
  },
  {
   "cell_type": "code",
   "execution_count": 2,
   "metadata": {},
   "outputs": [
    {
     "name": "stdout",
     "output_type": "stream",
     "text": [
      "Overwriting bokeh_reload.py\n"
     ]
    }
   ],
   "source": [
    "%%file bokeh_reload.py\n",
    "from os import path\n",
    "from bokeh.application.handlers import code_runner\n",
    "\n",
    "def run(self, module, post_check):\n",
    "    import ast\n",
    "\n",
    "    if path.exists(self._path):\n",
    "        with open(self._path, 'r') as f:\n",
    "            source = f.read()\n",
    "        nodes = ast.parse(source, self._path)\n",
    "        self._code = compile(nodes, filename=self._path, mode='exec', dont_inherit=True)\n",
    "        self._source = source\n",
    "\n",
    "    self._old_run(module, post_check)\n",
    "\n",
    "if not hasattr(code_runner.CodeRunner, \"_old_run\"):\n",
    "    code_runner.CodeRunner._old_run = code_runner.CodeRunner.run\n",
    "    code_runner.CodeRunner.run = run"
   ]
  },
  {
   "cell_type": "markdown",
   "metadata": {},
   "source": [
    "下面是测试用的代码："
   ]
  },
  {
   "cell_type": "code",
   "execution_count": 17,
   "metadata": {},
   "outputs": [
    {
     "name": "stdout",
     "output_type": "stream",
     "text": [
      "Overwriting bokeh_test_reload.py\n"
     ]
    }
   ],
   "source": [
    "%%file bokeh_test_reload.py\n",
    "from bokeh.plotting import curdoc\n",
    "from bokeh.models import Div, Button\n",
    "from bokeh.layouts import column\n",
    "import bokeh_reload\n",
    "\n",
    "div = Div()\n",
    "button = Button()\n",
    "\n",
    "def callback():\n",
    "    div.text = \"hello world\"\n",
    "\n",
    "button.on_click(callback)\n",
    "curdoc().add_root(column(div, button))"
   ]
  },
  {
   "cell_type": "markdown",
   "metadata": {},
   "source": [
    "运行下面的代码启动服务器，并在浏览器中打开`http://localhost:5006/bokeh_test_reload`。"
   ]
  },
  {
   "cell_type": "code",
   "execution_count": 18,
   "metadata": {},
   "outputs": [],
   "source": [
    "import subprocess\n",
    "process = subprocess.Popen(['start', 'bokeh', 'serve', 'bokeh_test_reload.py'], shell=True)"
   ]
  },
  {
   "cell_type": "markdown",
   "metadata": {},
   "source": [
    "修改上面的代码，例如为按钮设置标签文本`Button(label=\"Click Me\")`，然后刷新浏览器，可以看到程序自动被重新载入了。"
   ]
  },
  {
   "cell_type": "code",
   "execution_count": 19,
   "metadata": {},
   "outputs": [
    {
     "name": "stdout",
     "output_type": "stream",
     "text": [
      "Overwriting bokeh_test_reload.py\n"
     ]
    }
   ],
   "source": [
    "%%file bokeh_test_reload.py\n",
    "from bokeh.plotting import curdoc\n",
    "from bokeh.models import Div, Button\n",
    "from bokeh.layouts import column\n",
    "import bokeh_reload\n",
    "\n",
    "div = Div()\n",
    "button = Button(label=\"Click Me\")\n",
    "\n",
    "def callback():\n",
    "    div.text = \"hello world\"\n",
    "\n",
    "button.on_click(callback)\n",
    "curdoc().add_root(column(div, button))"
   ]
  }
 ],
 "metadata": {
  "kernelspec": {
   "display_name": "Python 3",
   "language": "python",
   "name": "python3"
  },
  "language_info": {
   "codemirror_mode": {
    "name": "ipython",
    "version": 3
   },
   "file_extension": ".py",
   "mimetype": "text/x-python",
   "name": "python",
   "nbconvert_exporter": "python",
   "pygments_lexer": "ipython3",
   "version": "3.6.4"
  }
 },
 "nbformat": 4,
 "nbformat_minor": 2
}
