{
 "cells": [
  {
   "cell_type": "markdown",
   "metadata": {},
   "source": [
    "# 让`deque`支持切片下标"
   ]
  },
  {
   "cell_type": "markdown",
   "metadata": {},
   "source": [
    "## 使用`itertools.islice()`获取切片"
   ]
  },
  {
   "cell_type": "code",
   "execution_count": 1,
   "metadata": {
    "collapsed": true
   },
   "outputs": [],
   "source": [
    "from collections import deque"
   ]
  },
  {
   "cell_type": "markdown",
   "metadata": {},
   "source": [
    "Python的标准模块`collections`中的`deque`是一个双向链表结构，它支持在该链表的左右添加元素或者删除元素。它还支持整数下标运算，但是它不支持切片下标："
   ]
  },
  {
   "cell_type": "code",
   "execution_count": 2,
   "metadata": {},
   "outputs": [
    {
     "name": "stdout",
     "output_type": "stream",
     "text": [
      "9\n"
     ]
    },
    {
     "ename": "TypeError",
     "evalue": "sequence index must be integer, not 'slice'",
     "output_type": "error",
     "traceback": [
      "\u001b[1;31m---------------------------------------------------------------------------\u001b[0m",
      "\u001b[1;31mTypeError\u001b[0m                                 Traceback (most recent call last)",
      "\u001b[1;32m<ipython-input-2-1d9676b37db5>\u001b[0m in \u001b[0;36m<module>\u001b[1;34m()\u001b[0m\n\u001b[0;32m      2\u001b[0m \u001b[1;33m\u001b[0m\u001b[0m\n\u001b[0;32m      3\u001b[0m \u001b[0mprint\u001b[0m\u001b[1;33m(\u001b[0m\u001b[0md\u001b[0m\u001b[1;33m[\u001b[0m\u001b[1;33m-\u001b[0m\u001b[1;36m1\u001b[0m\u001b[1;33m]\u001b[0m\u001b[1;33m)\u001b[0m\u001b[1;33m\u001b[0m\u001b[0m\n\u001b[1;32m----> 4\u001b[1;33m \u001b[0mprint\u001b[0m\u001b[1;33m(\u001b[0m\u001b[0md\u001b[0m\u001b[1;33m[\u001b[0m\u001b[1;33m-\u001b[0m\u001b[1;36m3\u001b[0m\u001b[1;33m:\u001b[0m\u001b[1;33m]\u001b[0m\u001b[1;33m)\u001b[0m\u001b[1;33m\u001b[0m\u001b[0m\n\u001b[0m",
      "\u001b[1;31mTypeError\u001b[0m: sequence index must be integer, not 'slice'"
     ]
    }
   ],
   "source": [
    "d = deque(range(10))\n",
    "\n",
    "print(d[-1])\n",
    "print(d[-3:])"
   ]
  },
  {
   "cell_type": "markdown",
   "metadata": {},
   "source": [
    "使用`itertools`模块中的`slice()`可以获得对指定的切片迭代的对象，然后再调用`list()`将迭代器转换为列表即可："
   ]
  },
  {
   "cell_type": "code",
   "execution_count": 3,
   "metadata": {},
   "outputs": [
    {
     "data": {
      "text/plain": [
       "[7, 8, 9]"
      ]
     },
     "execution_count": 3,
     "metadata": {},
     "output_type": "execute_result"
    }
   ],
   "source": [
    "from itertools import islice\n",
    "\n",
    "list(islice(d, len(d) - 3, len(d), 1))"
   ]
  },
  {
   "cell_type": "markdown",
   "metadata": {},
   "source": [
    "但是`islice()`不支持负数下标，可以使用`slice`对象的`indices()`方法将一个切片对象转换为`start`、`end`和`step`三个整数值。例如："
   ]
  },
  {
   "cell_type": "code",
   "execution_count": 4,
   "metadata": {},
   "outputs": [
    {
     "data": {
      "text/plain": [
       "[7, 8, 9]"
      ]
     },
     "execution_count": 4,
     "metadata": {},
     "output_type": "execute_result"
    }
   ],
   "source": [
    "start, end, step = slice(-3, None).indices(len(d))\n",
    "list(islice(d, start, end, step))"
   ]
  },
  {
   "cell_type": "markdown",
   "metadata": {},
   "source": [
    "如上所述，我们知道了如何使用切片获取`deque`对象的部分元素，下面让我们看看如何让`deque`支持切片下标。"
   ]
  },
  {
   "cell_type": "markdown",
   "metadata": {},
   "source": [
    "## 切片代码是如何运行的"
   ]
  },
  {
   "cell_type": "markdown",
   "metadata": {},
   "source": [
    "首先使用`dis.dis()`查看`a[1:2]`编译之后的代码，可以看到与其对应的操作符为`BINARY_SUBSCR`。"
   ]
  },
  {
   "cell_type": "code",
   "execution_count": 9,
   "metadata": {},
   "outputs": [
    {
     "name": "stdout",
     "output_type": "stream",
     "text": [
      "  4           0 LOAD_CONST               1 (1)\n",
      "              3 LOAD_CONST               2 (2)\n",
      "              6 LOAD_CONST               3 (3)\n",
      "              9 BUILD_LIST               3\n",
      "             12 STORE_FAST               0 (a)\n",
      "\n",
      "  5          15 LOAD_FAST                0 (a)\n",
      "             18 LOAD_CONST               1 (1)\n",
      "             21 LOAD_CONST               2 (2)\n",
      "             24 BUILD_SLICE              2\n",
      "             27 BINARY_SUBSCR\n",
      "             28 STORE_FAST               1 (b)\n",
      "             31 LOAD_CONST               0 (None)\n",
      "             34 RETURN_VALUE\n"
     ]
    }
   ],
   "source": [
    "from dis import dis\n",
    "\n",
    "def test_slice():\n",
    "    a = [1, 2, 3]\n",
    "    b = a[1:2]\n",
    "    \n",
    "dis(test_slice)"
   ]
  },
  {
   "cell_type": "markdown",
   "metadata": {},
   "source": [
    "在`https://github.com/python/cpython`中搜索`BINARY_SUBSCR`可以在`ceval.c`中找到如下代码：\n",
    "\n",
    "```c\n",
    "TARGET(BINARY_SUBSCR) {\n",
    "    PyObject *sub = POP();\n",
    "    PyObject *container = TOP();\n",
    "    PyObject *res = PyObject_GetItem(container, sub);\n",
    "    Py_DECREF(container);\n",
    "    Py_DECREF(sub);\n",
    "    SET_TOP(res);\n",
    "```\n",
    "\n",
    "接着可以在`abstract.c`中搜索到`PyObject_GetItem()`的定义：\n",
    "\n",
    "```c\n",
    "PyObject *\n",
    "PyObject_GetItem(PyObject *o, PyObject *key)\n",
    "{\n",
    "    PyMappingMethods *m;\n",
    "\n",
    "    if (o == NULL || key == NULL) {\n",
    "        return null_error();\n",
    "    }\n",
    "\n",
    "    m = o->ob_type->tp_as_mapping;\n",
    "    if (m && m->mp_subscript) {\n",
    "        PyObject *item = m->mp_subscript(o, key);\n",
    "        assert((item != NULL) ^ (PyErr_Occurred() != NULL));\n",
    "        return item;\n",
    "    }\n",
    "\n",
    "    if (o->ob_type->tp_as_sequence) {\n",
    "        if (PyIndex_Check(key)) {\n",
    "            Py_ssize_t key_value;\n",
    "            key_value = PyNumber_AsSsize_t(key, PyExc_IndexError);\n",
    "            if (key_value == -1 && PyErr_Occurred())\n",
    "                return NULL;\n",
    "            return PySequence_GetItem(o, key_value);\n",
    "        }\n",
    "        else if (o->ob_type->tp_as_sequence->sq_item)\n",
    "            return type_error(\"sequence index must \"\n",
    "                              \"be integer, not '%.200s'\", key);\n",
    "    }\n",
    "\n",
    "    return type_error(\"'%.200s' object is not subscriptable\", o);\n",
    "}\n",
    "```\n",
    "\n",
    "可以看到它会首先尝试`o->ob_type->tp_as_mapping`中的`mp_subscript`函数。由于`deque`没有定义`tp_as_mapping`，因此不支持切片运算。我们可以参考列表对象的代码`listobject.c`中的实现。下面使用`Cython`实现`mp_subscript`函数。"
   ]
  },
  {
   "cell_type": "markdown",
   "metadata": {},
   "source": [
    "## 使用`cython`和`cffi`让`deque`支持切片"
   ]
  },
  {
   "cell_type": "code",
   "execution_count": 1,
   "metadata": {},
   "outputs": [],
   "source": [
    "%load_ext cython"
   ]
  },
  {
   "cell_type": "markdown",
   "metadata": {},
   "source": [
    "`tp_as_mapping`指向一个有三个函数指针的`PyMappingMethods`结构体：\n",
    "\n",
    "* `mp_length(o)`: 返回对象`o`的长度\n",
    "* `mp_subscript(o, key)`: 返回`o[key]`的运算结果\n",
    "* `mp_ass_subscript`: 本例中不需要使用该函数，省略\n",
    "\n",
    "`addr_of_mapping_methods()`返回全局变量`deque_mapping_methods`的地址，我们需要把该地址写入`deque`对应的结构体中的`tp_as_mapping`字段。"
   ]
  },
  {
   "cell_type": "code",
   "execution_count": 3,
   "metadata": {},
   "outputs": [],
   "source": [
    "%%cython\n",
    "cdef extern from \"object.h\":\n",
    "    ctypedef struct PyMappingMethods:\n",
    "        void * mp_length\n",
    "        void * mp_subscript\n",
    "        void * mp_ass_subscript\n",
    "    \n",
    "from cpython.ref cimport PyObject\n",
    "from cpython.sequence cimport PySequence_GetItem\n",
    "from cpython.slice cimport PySlice_GetIndices\n",
    "from itertools import islice\n",
    "from collections import deque\n",
    "\n",
    "cdef ssize_t deque_len(object dq):\n",
    "    return len(object)\n",
    "\n",
    "cdef deque_subscript(object dq, object item):\n",
    "    cdef ssize_t start, end, step\n",
    "    if isinstance(item, int):\n",
    "        return PySequence_GetItem(dq, <ssize_t>item)\n",
    "    elif isinstance(item, slice):\n",
    "        PySlice_GetIndices(item, len(dq), &start, &end, &step)\n",
    "        return deque(islice(<object>dq, start, end, step))\n",
    "\n",
    "cdef PyMappingMethods deque_mapping_methods = [<void *>deque_len, <void *>deque_subscript, NULL]\n",
    "\n",
    "def addr_of_mapping_methods():\n",
    "    return <ssize_t>&(deque_mapping_methods)    "
   ]
  },
  {
   "cell_type": "markdown",
   "metadata": {},
   "source": [
    "下面通过`cffi`的编译功能获得`PyTypeObject`结构体中`tp_as_mapping`字段的偏移量："
   ]
  },
  {
   "cell_type": "code",
   "execution_count": null,
   "metadata": {},
   "outputs": [],
   "source": [
    "import cffi\n",
    "ffi = cffi.FFI()\n",
    "\n",
    "ffi.cdef(\"\"\"\n",
    "ssize_t mapping_methods_offset;\n",
    "\"\"\")\n",
    "\n",
    "lib = ffi.verify(\"\"\"\n",
    "ssize_t mapping_methods_offset = offsetof(PyTypeObject, tp_as_mapping);\n",
    "\"\"\")"
   ]
  },
  {
   "cell_type": "markdown",
   "metadata": {},
   "source": [
    "确认上述代码的计算结果为112:"
   ]
  },
  {
   "cell_type": "code",
   "execution_count": 16,
   "metadata": {},
   "outputs": [
    {
     "data": {
      "text/plain": [
       "112"
      ]
     },
     "execution_count": 16,
     "metadata": {},
     "output_type": "execute_result"
    }
   ],
   "source": [
    "lib.mapping_methods_offset"
   ]
  },
  {
   "cell_type": "markdown",
   "metadata": {},
   "source": [
    "`deque`在C语言中是一个`PyTypeObject`结构体，下面获取其`tp_as_mapping`字段的地址，并将`deque_mapping_methods`结构体的地址写入该字段："
   ]
  },
  {
   "cell_type": "code",
   "execution_count": 8,
   "metadata": {
    "collapsed": true
   },
   "outputs": [],
   "source": [
    "tp_as_mapping = ffi.cast(\"ssize_t *\", id(deque) + lib.mapping_methods_offset)\n",
    "tp_as_mapping[0] = addr_of_mapping_methods()"
   ]
  },
  {
   "cell_type": "markdown",
   "metadata": {},
   "source": [
    "下面可以测试效果了:"
   ]
  },
  {
   "cell_type": "code",
   "execution_count": 17,
   "metadata": {},
   "outputs": [
    {
     "name": "stdout",
     "output_type": "stream",
     "text": [
      "deque([4, 5, 6, 7])\n"
     ]
    }
   ],
   "source": [
    "a = deque(range(0, 10))\n",
    "print(a[4:-2])"
   ]
  }
 ],
 "metadata": {
  "anaconda-cloud": {},
  "kernelspec": {
   "display_name": "Python [default]",
   "language": "python",
   "name": "python3"
  },
  "language_info": {
   "codemirror_mode": {
    "name": "ipython",
    "version": 3
   },
   "file_extension": ".py",
   "mimetype": "text/x-python",
   "name": "python",
   "nbconvert_exporter": "python",
   "pygments_lexer": "ipython3",
   "version": "3.5.2"
  }
 },
 "nbformat": 4,
 "nbformat_minor": 1
}
