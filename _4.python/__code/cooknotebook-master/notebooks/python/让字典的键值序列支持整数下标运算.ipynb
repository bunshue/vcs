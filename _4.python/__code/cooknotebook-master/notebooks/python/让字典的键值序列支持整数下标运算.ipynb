{
 "cells": [
  {
   "cell_type": "markdown",
   "metadata": {},
   "source": [
    "# 让字典的键值序列支持整数下标运算"
   ]
  },
  {
   "cell_type": "markdown",
   "metadata": {},
   "source": [
    "Python 3.6的字典能保持键的插入顺序。而其`keys()`, `values()`和`items()`方法返回的都是字典的视图对象，这些对象不支持下标运算。所以下面的程序抛出异常。"
   ]
  },
  {
   "cell_type": "code",
   "execution_count": 24,
   "metadata": {},
   "outputs": [
    {
     "ename": "TypeError",
     "evalue": "'dict_keys' object does not support indexing",
     "output_type": "error",
     "traceback": [
      "\u001b[1;31m---------------------------------------------------------------------------\u001b[0m",
      "\u001b[1;31mTypeError\u001b[0m                                 Traceback (most recent call last)",
      "\u001b[1;32m<ipython-input-24-0ef23adc14c2>\u001b[0m in \u001b[0;36m<module>\u001b[1;34m()\u001b[0m\n\u001b[0;32m      1\u001b[0m \u001b[0md\u001b[0m \u001b[1;33m=\u001b[0m \u001b[1;33m{\u001b[0m\u001b[1;34m\"a\"\u001b[0m\u001b[1;33m:\u001b[0m\u001b[1;36m1\u001b[0m\u001b[1;33m,\u001b[0m \u001b[1;34m\"b\"\u001b[0m\u001b[1;33m:\u001b[0m\u001b[1;36m2\u001b[0m\u001b[1;33m,\u001b[0m \u001b[1;34m\"c\"\u001b[0m\u001b[1;33m:\u001b[0m\u001b[1;36m3\u001b[0m\u001b[1;33m}\u001b[0m\u001b[1;33m\u001b[0m\u001b[0m\n\u001b[0;32m      2\u001b[0m \u001b[0mk\u001b[0m \u001b[1;33m=\u001b[0m \u001b[0md\u001b[0m\u001b[1;33m.\u001b[0m\u001b[0mkeys\u001b[0m\u001b[1;33m(\u001b[0m\u001b[1;33m)\u001b[0m\u001b[1;33m\u001b[0m\u001b[0m\n\u001b[1;32m----> 3\u001b[1;33m \u001b[0mk\u001b[0m\u001b[1;33m[\u001b[0m\u001b[1;36m1\u001b[0m\u001b[1;33m]\u001b[0m\u001b[1;33m\u001b[0m\u001b[0m\n\u001b[0m",
      "\u001b[1;31mTypeError\u001b[0m: 'dict_keys' object does not support indexing"
     ]
    }
   ],
   "source": [
    "d = {\"a\":1, \"b\":2, \"c\":3}\n",
    "k = d.keys()\n",
    "k[1]"
   ]
  },
  {
   "cell_type": "markdown",
   "metadata": {},
   "source": [
    "为了获取指定下标的元素，可以使用`itertools.islice()`和`next()`函数。"
   ]
  },
  {
   "cell_type": "code",
   "execution_count": 27,
   "metadata": {},
   "outputs": [
    {
     "data": {
      "text/plain": [
       "'b'"
      ]
     },
     "execution_count": 27,
     "metadata": {},
     "output_type": "execute_result"
    }
   ],
   "source": [
    "from itertools import islice\n",
    "next(islice(k, 1, None))"
   ]
  },
  {
   "cell_type": "markdown",
   "metadata": {},
   "source": [
    "为了让`dict_keys()`对象支持下标运算，需要将其对应的类型结构体`PyTypeObject`的`tp_as_sequence`字段所指向的`PySequenceMethods`结构体的`sq_item`字段设置进行下标运算的函数，该函数的原型如下：\n",
    "\n",
    "`PyObject * (*)(PyObject *a, Py_ssize_t i)`\n",
    "\n",
    "下面使用Cython编写该函数，由于该函数只能被C语言调用，因此使用`cdef`定义它，并将其地址保存到`addr_sq_item`变量中。"
   ]
  },
  {
   "cell_type": "code",
   "execution_count": 47,
   "metadata": {
    "collapsed": true
   },
   "outputs": [],
   "source": [
    "%load_ext cython"
   ]
  },
  {
   "cell_type": "code",
   "execution_count": 60,
   "metadata": {},
   "outputs": [],
   "source": [
    "%%cython\n",
    "from itertools import islice        \n",
    "\n",
    "cdef sq_item(object dv, ssize_t index):\n",
    "    if index < 0:\n",
    "        index += len(dv)\n",
    "    try:\n",
    "        return next(islice(dv, index, None))\n",
    "    except StopIteration:\n",
    "        raise IndexError(\"Out of range\")\n",
    "\n",
    "addr_sq_item = <long>&(sq_item)"
   ]
  },
  {
   "cell_type": "markdown",
   "metadata": {},
   "source": [
    "下面的`cffi_build()`使用`cffi`编译模块并载入模块，模块的文件名由编译的内容决定。"
   ]
  },
  {
   "cell_type": "code",
   "execution_count": 78,
   "metadata": {
    "collapsed": true
   },
   "outputs": [],
   "source": [
    "def import_file(name, filename):\n",
    "    import importlib.util\n",
    "    spec = importlib.util.spec_from_file_location(name, filename)\n",
    "    module = importlib.util.module_from_spec(spec)\n",
    "    spec.loader.exec_module(module)\n",
    "    return module\n",
    "\n",
    "def cffi_build(cdef, source, disable_py_limited_api=True, force=False):\n",
    "    import cffi\n",
    "    import time\n",
    "    import hashlib\n",
    "    import imp\n",
    "    from os import path\n",
    "    from distutils.sysconfig import get_config_var\n",
    "    tmpdir = path.abspath(\".\\\\__pycache__\")\n",
    "    suffix = get_config_var('EXT_SUFFIX')\n",
    "    key = cdef + source\n",
    "    if force:\n",
    "        key += time.time()\n",
    "    filename = \"_cffi_\" + hashlib.md5(str(key).encode(\"utf-8\")).hexdigest()\n",
    "    full_filename = path.join(tmpdir, filename + suffix)\n",
    "    if not path.exists(full_filename):\n",
    "        ffi = cffi.FFI()    \n",
    "        extra_compile_args = [\"-D_CFFI_USE_EMBEDDING\"] if disable_py_limited_api else []\n",
    "        ffi.set_source(filename, source, extra_compile_args=extra_compile_args)\n",
    "        ffi.cdef(cdef)\n",
    "        full_filename = ffi.compile(tmpdir=tmpdir)\n",
    "    return import_file(filename, path.join(tmpdir, full_filename))"
   ]
  },
  {
   "cell_type": "markdown",
   "metadata": {},
   "source": [
    "下面的`set_sq_item()`设置`type_addr`类的`sq_item`插槽："
   ]
  },
  {
   "cell_type": "code",
   "execution_count": 79,
   "metadata": {},
   "outputs": [],
   "source": [
    "source = \"\"\"\n",
    "void set_sq_item(uintptr_t type_addr, uintptr_t func_addr)\n",
    "{\n",
    "    uintptr_t sequence_slot_addr = type_addr + offsetof(PyTypeObject, tp_as_sequence);\n",
    "    uintptr_t sq_item_addr = *(uintptr_t *)(sequence_slot_addr) + offsetof(PySequenceMethods, sq_item);\n",
    "    *(uintptr_t *)sq_item_addr = func_addr;\n",
    "}\n",
    "\"\"\"\n",
    "\n",
    "cdef = \"\"\"\n",
    "void set_sq_item(uintptr_t type_addr, uintptr_t func_addr);\n",
    "\"\"\"\n",
    "\n",
    "m = cffi_build(cdef, source)"
   ]
  },
  {
   "cell_type": "markdown",
   "metadata": {},
   "source": [
    "我们使用`set_sq_item()`设置`dict_keys`类的`sq_item`插槽："
   ]
  },
  {
   "cell_type": "code",
   "execution_count": 80,
   "metadata": {
    "collapsed": true
   },
   "outputs": [],
   "source": [
    "m.lib.set_sq_item(id(type(k)), addr_sq_item)"
   ]
  },
  {
   "cell_type": "markdown",
   "metadata": {},
   "source": [
    "于是可以使用下标运算了："
   ]
  },
  {
   "cell_type": "code",
   "execution_count": 81,
   "metadata": {},
   "outputs": [
    {
     "data": {
      "text/plain": [
       "'b'"
      ]
     },
     "execution_count": 81,
     "metadata": {},
     "output_type": "execute_result"
    }
   ],
   "source": [
    "k[1]"
   ]
  },
  {
   "cell_type": "markdown",
   "metadata": {},
   "source": [
    "下面为`values()`和`items()`所返回的对象的类`dict_values`和`dict_items`添加`sq_item`插槽："
   ]
  },
  {
   "cell_type": "code",
   "execution_count": 82,
   "metadata": {},
   "outputs": [
    {
     "data": {
      "text/plain": [
       "3"
      ]
     },
     "execution_count": 82,
     "metadata": {},
     "output_type": "execute_result"
    }
   ],
   "source": [
    "v = d.values()\n",
    "m.lib.set_sq_item(id(type(v)), addr_sq_item)\n",
    "v[-1]"
   ]
  },
  {
   "cell_type": "code",
   "execution_count": 83,
   "metadata": {},
   "outputs": [
    {
     "data": {
      "text/plain": [
       "('b', 2)"
      ]
     },
     "execution_count": 83,
     "metadata": {},
     "output_type": "execute_result"
    }
   ],
   "source": [
    "items = d.items()\n",
    "m.lib.set_sq_item(id(type(items)), addr_sq_item)\n",
    "items[-2]"
   ]
  }
 ],
 "metadata": {
  "kernelspec": {
   "display_name": "Python [conda env:py36]",
   "language": "python",
   "name": "conda-env-py36-py"
  },
  "language_info": {
   "codemirror_mode": {
    "name": "ipython",
    "version": 3
   },
   "file_extension": ".py",
   "mimetype": "text/x-python",
   "name": "python",
   "nbconvert_exporter": "python",
   "pygments_lexer": "ipython3",
   "version": "3.6.1"
  }
 },
 "nbformat": 4,
 "nbformat_minor": 2
}
