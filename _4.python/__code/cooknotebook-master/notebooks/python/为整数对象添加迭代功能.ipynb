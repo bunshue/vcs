{
 "cells": [
  {
   "cell_type": "markdown",
   "metadata": {},
   "source": [
    "# 为整数对象添加迭代功能"
   ]
  },
  {
   "cell_type": "markdown",
   "metadata": {},
   "source": [
    "## 一切皆为对象"
   ]
  },
  {
   "cell_type": "markdown",
   "metadata": {},
   "source": [
    "Python中的一切都是对象：的整数、字符串、函数、类、模块等等。每个对象都具有如下三个要素：\n",
    "\n",
    "* ID：对象的ID可以通过`id(obj)`获得，在CPython中它返回的是对象在内存中的地址。\n",
    "* 类型：对象的类型可以通过`type(obj)`获得，它返回表示`obj`类型的对象。\n",
    "* 内容：每个对象都可以保存种类的内容。\n",
    "\n",
    "在下面的例子中，`s`表示一个字符串对象，它的类型是`str`。`str`类型本身也是对象，它的类型是`type`类型，而`type`类型也是对象，它的类型是它本身。"
   ]
  },
  {
   "cell_type": "code",
   "execution_count": 1,
   "metadata": {},
   "outputs": [
    {
     "name": "stdout",
     "output_type": "stream",
     "text": [
      "id(s): 2234481678464\n",
      "type(s): <class 'str'>\n",
      "type(str): <class 'type'>\n",
      "type(type): <class 'type'>\n"
     ]
    }
   ],
   "source": [
    "s = \"abc\"\n",
    "print(\"id(s):\", id(s))\n",
    "print(\"type(s):\", type(s))\n",
    "print(\"type(str):\", type(str))\n",
    "print(\"type(type):\", type(type))"
   ]
  },
  {
   "cell_type": "markdown",
   "metadata": {},
   "source": [
    "## 一切皆是结构体"
   ]
  },
  {
   "cell_type": "markdown",
   "metadata": {},
   "source": [
    "CPython中的每种类型的对象都与C语言的一种结构体类型对应，例如`int`类型的对象对应`PyLongObject`结构体，`tuple`类型的对象对应`PyTupleObject`结构体，而`type`类型的对象对应`PyTypeObject`结构体。无论是何种类型的结构体，它的头两个字段是固定的：\n",
    "\n",
    "```c\n",
    "typedef struct _object {\n",
    "    Py_ssize_t ob_refcnt;\n",
    "    struct _typeobject *ob_type;\n",
    "} PyObject;\n",
    "```\n",
    "\n",
    "其中`ob_refcnt`字段保存该对象的引用次数，当引用次数变为0时该对象会被释放。`ob_type`是一个指向`PyTypeObject`结构体的指针，指向该对象所属的类型对象。\n",
    "\n",
    "下面使用`sys.getrefcount()`获取对象的引用计数："
   ]
  },
  {
   "cell_type": "code",
   "execution_count": 2,
   "metadata": {},
   "outputs": [
    {
     "name": "stdout",
     "output_type": "stream",
     "text": [
      "41\n"
     ]
    }
   ],
   "source": [
    "import sys\n",
    "print(sys.getrefcount(s))"
   ]
  },
  {
   "cell_type": "markdown",
   "metadata": {},
   "source": [
    "下面用`ffi.cast()`将对象的地址转换为`size_t *`类型的指针，并获取其中的值，也就是`ob_refcnt`字段的值。由于需要把对象传递给`getrefcount()`函数，因此得到的引用计数比调用函数之前要多一个："
   ]
  },
  {
   "cell_type": "code",
   "execution_count": 3,
   "metadata": {},
   "outputs": [
    {
     "data": {
      "text/plain": [
       "40"
      ]
     },
     "execution_count": 3,
     "metadata": {},
     "output_type": "execute_result"
    }
   ],
   "source": [
    "import cffi\n",
    "ffi = cffi.FFI()\n",
    "\n",
    "ffi.cast(\"size_t *\", id(s))[0]"
   ]
  },
  {
   "cell_type": "markdown",
   "metadata": {},
   "source": [
    "下面通过新的变量名增加一个引用："
   ]
  },
  {
   "cell_type": "code",
   "execution_count": 4,
   "metadata": {},
   "outputs": [
    {
     "data": {
      "text/plain": [
       "41"
      ]
     },
     "execution_count": 4,
     "metadata": {},
     "output_type": "execute_result"
    }
   ],
   "source": [
    "s2 = s\n",
    "ffi.cast(\"size_t *\", id(s))[0]"
   ]
  },
  {
   "cell_type": "markdown",
   "metadata": {},
   "source": [
    "下面通过列表创建10个引用："
   ]
  },
  {
   "cell_type": "code",
   "execution_count": 5,
   "metadata": {},
   "outputs": [
    {
     "data": {
      "text/plain": [
       "51"
      ]
     },
     "execution_count": 5,
     "metadata": {},
     "output_type": "execute_result"
    }
   ],
   "source": [
    "slist = [s for i in range(10)]\n",
    "ffi.cast(\"size_t *\", id(s))[0]"
   ]
  },
  {
   "cell_type": "markdown",
   "metadata": {},
   "source": [
    "`s`的地址加上一个`size_t`字段的大小就得到了第二个字段`obj_type`的地址，它保存的是`s`对应的类型对象的地址，因此它应当与`id(str)`相同。"
   ]
  },
  {
   "cell_type": "code",
   "execution_count": 6,
   "metadata": {},
   "outputs": [
    {
     "name": "stdout",
     "output_type": "stream",
     "text": [
      "1794575248 1794575248\n"
     ]
    }
   ],
   "source": [
    "str_addr = ffi.cast(\"size_t *\", id(s) + ffi.sizeof(\"size_t\"))[0]\n",
    "print(str_addr, id(str))"
   ]
  },
  {
   "cell_type": "markdown",
   "metadata": {},
   "source": [
    "在后面的章节中我们经常会需要把地址转换为保存在该地址的对象，可以通过`ctypes.cast()`实现："
   ]
  },
  {
   "cell_type": "code",
   "execution_count": 7,
   "metadata": {},
   "outputs": [
    {
     "data": {
      "text/plain": [
       "str"
      ]
     },
     "execution_count": 7,
     "metadata": {},
     "output_type": "execute_result"
    }
   ],
   "source": [
    "import ctypes\n",
    "ctypes.cast(str_addr, ctypes.py_object).value"
   ]
  },
  {
   "cell_type": "markdown",
   "metadata": {},
   "source": [
    "## 为整数对象添加迭代功能"
   ]
  },
  {
   "cell_type": "markdown",
   "metadata": {},
   "source": [
    "当通过`for`语句循环时，Python会尝试调用`iter()`从对象获取迭代对象。`iter()`函数在`bltinmodule.c`中的`builtin_iter()`中定义，其中调用API函数`PyObject_GetIter()`。其代码如下：\n",
    "\n",
    "```c\n",
    "PyObject *\n",
    "PyObject_GetIter(PyObject *o)\n",
    "{\n",
    "    PyTypeObject *t = o->ob_type;\n",
    "    getiterfunc f = NULL;\n",
    "    f = t->tp_iter;\n",
    "    if (f == NULL) {\n",
    "        if (PySequence_Check(o))\n",
    "            return PySeqIter_New(o);\n",
    "        return type_error(\"'%.200s' object is not iterable\", o);\n",
    "    }\n",
    "    else {\n",
    "        PyObject *res = (*f)(o);\n",
    "        if (res != NULL && !PyIter_Check(res)) {\n",
    "            PyErr_Format(PyExc_TypeError,\n",
    "                         \"iter() returned non-iterator \"\n",
    "                         \"of type '%.100s'\",\n",
    "                         res->ob_type->tp_name);\n",
    "            Py_DECREF(res);\n",
    "            res = NULL;\n",
    "        }\n",
    "        return res;\n",
    "    }\n",
    "}\n",
    "```\n",
    "\n",
    "上面的代码中，首先获取对象的类型对象，然后访问其中的`tp_iter`字段，如果该字段不为空，则返回该字段对应的函数的返回值。如果希望在Python中修改该字段，则需要知道它的偏移地址。下面通过`cffi`调用C语言的`offsetof()`宏获取`PyTypeObject`结构体中`tp_iter`字段的偏移地址："
   ]
  },
  {
   "cell_type": "code",
   "execution_count": 1,
   "metadata": {},
   "outputs": [],
   "source": [
    "import cffi\n",
    "ffi = cffi.FFI()\n",
    "ffi.cdef(\"\"\"\n",
    "size_t tp_iter_offset;\n",
    "\"\"\")\n",
    "\n",
    "lib = ffi.verify(\"\"\"\n",
    "size_t tp_iter_offset = offsetof(PyTypeObject, tp_iter);\n",
    "\"\"\")"
   ]
  },
  {
   "cell_type": "markdown",
   "metadata": {},
   "source": [
    "上面的代码需要调用C语言编译器，编译之后就可以通过`lib`获得`tp_iter_offset`的值了，在64位环境下该字段的偏移量为216："
   ]
  },
  {
   "cell_type": "code",
   "execution_count": 2,
   "metadata": {},
   "outputs": [
    {
     "data": {
      "text/plain": [
       "216"
      ]
     },
     "execution_count": 2,
     "metadata": {},
     "output_type": "execute_result"
    }
   ],
   "source": [
    "lib.tp_iter_offset"
   ]
  },
  {
   "cell_type": "markdown",
   "metadata": {},
   "source": [
    "我们需要将一个C语言的函数地址写入该字段，这就需要在Python中定义C语言可以调用的函数。使用`ctypes`的`CFUNCTYPE`可以定义函数类型，并使用它将Python函数包装为C语言可以调用的函数`cint_iter()`："
   ]
  },
  {
   "cell_type": "code",
   "execution_count": 3,
   "metadata": {},
   "outputs": [],
   "source": [
    "import ctypes\n",
    "from ctypes import CFUNCTYPE, c_ssize_t, c_void_p\n",
    "\n",
    "ctypes.pythonapi.Py_IncRef.argtypes = [ctypes.c_size_t]\n",
    "\n",
    "def int_iter(obj_addr):\n",
    "    obj = ctypes.cast(obj_addr, ctypes.py_object).value\n",
    "    iter_obj = iter(range(obj))\n",
    "    ctypes.pythonapi.Py_IncRef(id(iter_obj))\n",
    "    return id(iter_obj)\n",
    "\n",
    "ITER_FUNC = CFUNCTYPE(c_ssize_t, c_ssize_t)\n",
    "cint_iter = ITER_FUNC(int_iter)"
   ]
  },
  {
   "cell_type": "markdown",
   "metadata": {},
   "source": [
    "C语言的函数的参数和返回值都是指针，因此这里使用`c_size_t`声明其类型为可以表示指针的整数类型。`obj_addr`参数是调用`iter(obj)`时`obj`对象的地址。首先调用`ctypes.cast()`将地址转换为`py_object`类型，并获取其`value`属性，得到地址中保存的对象。然后调用`iter(range(obj))`创建一个迭代对象。在返回该对象的地址之前，调用`ctypes.pythonapi.Py_IncRef()`将其的引用计数增加1，保证其不被垃圾回收。注意这里不能直接返回`range(obj)`对象，因为在`PyObject_GetIter()`中会调用`PyIter_Check()`检查返回对象是否为迭代对象。\n",
    "\n",
    "下面试试`int_iter()`函数，它返回的`addr`是迭代对象的地址，由于Python对象对应的结构体中第一个字段保存该对象的引用计数，因此可以将其`cast()`为`size_t*`指针，查看其引用计数值："
   ]
  },
  {
   "cell_type": "code",
   "execution_count": 4,
   "metadata": {},
   "outputs": [
    {
     "data": {
      "text/plain": [
       "1"
      ]
     },
     "execution_count": 4,
     "metadata": {},
     "output_type": "execute_result"
    }
   ],
   "source": [
    "addr = cint_iter(id(3))\n",
    "ffi.cast(\"size_t *\", addr)[0]"
   ]
  },
  {
   "cell_type": "markdown",
   "metadata": {},
   "source": [
    "下面将`cint_inter`函数的地址写入`int`类型对应的结构体的`tp_iter`字段中："
   ]
  },
  {
   "cell_type": "code",
   "execution_count": 5,
   "metadata": {},
   "outputs": [],
   "source": [
    "tp_iter_pointer = ffi.cast(\"size_t *\", id(int) + lib.tp_iter_offset)\n",
    "tp_iter_pointer[0] = ctypes.cast(cint_iter, c_void_p).value"
   ]
  },
  {
   "cell_type": "markdown",
   "metadata": {},
   "source": [
    "`tp_iter`字段中有了正确的函数地址，就可以对整数进行迭代了："
   ]
  },
  {
   "cell_type": "code",
   "execution_count": 6,
   "metadata": {},
   "outputs": [
    {
     "name": "stdout",
     "output_type": "stream",
     "text": [
      "0\n",
      "1\n",
      "2\n",
      "3\n",
      "4\n"
     ]
    }
   ],
   "source": [
    "for i in 5:\n",
    "    print(i)"
   ]
  },
  {
   "cell_type": "markdown",
   "metadata": {},
   "source": [
    "最后检查一下通过`iter()`得到的迭代对象的引用计数是否正确，由于`sys.getrefcount()`本身也会增加引用计数，因此迭代对象有两次引用："
   ]
  },
  {
   "cell_type": "code",
   "execution_count": 7,
   "metadata": {},
   "outputs": [
    {
     "data": {
      "text/plain": [
       "2"
      ]
     },
     "execution_count": 7,
     "metadata": {},
     "output_type": "execute_result"
    }
   ],
   "source": [
    "import sys\n",
    "i = iter(10)\n",
    "sys.getrefcount(i)"
   ]
  },
  {
   "cell_type": "markdown",
   "metadata": {},
   "source": [
    "## 小结"
   ]
  },
  {
   "cell_type": "markdown",
   "metadata": {},
   "source": [
    "下面小结本章用到的各种函数：\n",
    "\n",
    "* 当需要调用C语言宏时，最简单的方法是使用`cffi.FFI`对象的`verify()`，它将对其中的C语言程序编译，生成扩展模块，并根据`cdef()`方法的参数生成Python的调用接口。\n",
    "\n",
    "* 可以通过`ffi.cast('数据类型 *', addr)[0]`获取地址`addr`中保存的值。\n",
    "\n",
    "* 使用`ctypes`可以将Python函数包装为C语言可调用的函数，注意这些函数的参数和返回值类型都是C语言的类型。\n",
    "\n",
    "* 可以通过`ctypes.pythonapi`调用Python的C语言API函数，注意有时需要通过`argtypes`和`restype`设置函数参数类型和返回值类型。\n",
    "\n",
    "* `ctypes.cast(obj_addr, ctypes.py_object).value`可以通过对象的地址得到对象的引用。"
   ]
  }
 ],
 "metadata": {
  "kernelspec": {
   "display_name": "Python [default]",
   "language": "python",
   "name": "python3"
  },
  "language_info": {
   "codemirror_mode": {
    "name": "ipython",
    "version": 3
   },
   "file_extension": ".py",
   "mimetype": "text/x-python",
   "name": "python",
   "nbconvert_exporter": "python",
   "pygments_lexer": "ipython3",
   "version": "3.5.2"
  }
 },
 "nbformat": 4,
 "nbformat_minor": 1
}
