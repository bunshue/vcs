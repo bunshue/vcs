{
 "cells": [
  {
   "cell_type": "markdown",
   "metadata": {},
   "source": [
    "# 使用gcc编译扩展模块"
   ]
  },
  {
   "cell_type": "markdown",
   "metadata": {},
   "source": [
    "Windows下的Python使用Visual Studio编译，编译扩展模块时也推荐使用Visual Studio。但是由于Visual Studio的体积庞大，并且需要安装，使用起来极其不便。本文介绍如何使用Windows下的gcc编译器`mingw32`编译Python的扩展模块。\n",
    "\n",
    "下面的`setup_test()`创建Cython文件`test_compile.pyx`，并将其编译为扩展模块。"
   ]
  },
  {
   "cell_type": "code",
   "execution_count": 1,
   "metadata": {
    "collapsed": true
   },
   "outputs": [],
   "source": [
    "def setup_test(*argv):\n",
    "    import sys\n",
    "    sys.argv = [\"setup.py\"] + list(argv) + [\"--force\"]\n",
    "    from distutils.core import setup\n",
    "    from Cython.Build import cythonize\n",
    "\n",
    "    with open(\"test_compile.pyx\", \"w\") as f:\n",
    "        f.write(\"\"\"\n",
    "def add(a, b):\n",
    "    return a + b\n",
    "        \"\"\"\n",
    "        )\n",
    "    return setup(\n",
    "        ext_modules = cythonize(\"test_compile.pyx\")\n",
    "    )"
   ]
  },
  {
   "cell_type": "markdown",
   "metadata": {},
   "source": [
    "下面调用`setup_test()`编译。由输出可以看出这里使用的是`Visual Studio`编译。"
   ]
  },
  {
   "cell_type": "code",
   "execution_count": 3,
   "metadata": {},
   "outputs": [
    {
     "name": "stdout",
     "output_type": "stream",
     "text": [
      "Compiling test_compile.pyx because it changed.\n",
      "[1/1] Cythonizing test_compile.pyx\n",
      "running build_ext\n",
      "building 'test_compile' extension\n",
      "C:\\Program Files (x86)\\Microsoft Visual Studio 14.0\\VC\\BIN\\x86_amd64\\cl.exe /c /nologo /Ox /W3 /GL /DNDEBUG /MD -IC:\\Anaconda3\\include -IC:\\Anaconda3\\include \"-IC:\\Program Files (x86)\\Microsoft Visual Studio 14.0\\VC\\INCLUDE\" \"-IC:\\Program Files (x86)\\Microsoft Visual Studio 14.0\\VC\\ATLMFC\\INCLUDE\" \"-IC:\\Program Files (x86)\\Windows Kits\\10\\include\\10.0.15063.0\\ucrt\" \"-IC:\\Program Files (x86)\\Windows Kits\\NETFXSDK\\4.6.1\\include\\um\" \"-IC:\\Program Files (x86)\\Windows Kits\\8.1\\include\\\\shared\" \"-IC:\\Program Files (x86)\\Windows Kits\\8.1\\include\\\\um\" \"-IC:\\Program Files (x86)\\Windows Kits\\8.1\\include\\\\winrt\" /Tctest_compile.c /Fobuild\\temp.win-amd64-3.5\\Release\\test_compile.obj\n",
      "C:\\Program Files (x86)\\Microsoft Visual Studio 14.0\\VC\\BIN\\x86_amd64\\link.exe /nologo /INCREMENTAL:NO /LTCG /DLL /MANIFEST:EMBED,ID=2 /MANIFESTUAC:NO /LIBPATH:C:\\Anaconda3\\libs /LIBPATH:C:\\Anaconda3\\PCbuild\\amd64 \"/LIBPATH:C:\\Program Files (x86)\\Microsoft Visual Studio 14.0\\VC\\LIB\\amd64\" \"/LIBPATH:C:\\Program Files (x86)\\Microsoft Visual Studio 14.0\\VC\\ATLMFC\\LIB\\amd64\" \"/LIBPATH:C:\\Program Files (x86)\\Windows Kits\\10\\lib\\10.0.15063.0\\ucrt\\x64\" \"/LIBPATH:C:\\Program Files (x86)\\Windows Kits\\NETFXSDK\\4.6.1\\lib\\um\\x64\" \"/LIBPATH:C:\\Program Files (x86)\\Windows Kits\\8.1\\lib\\winv6.3\\um\\x64\" /EXPORT:PyInit_test_compile build\\temp.win-amd64-3.5\\Release\\test_compile.obj /OUT:C:\\Users\\RY\\Documents\\notebooks\\cooknotebook\\notebooks\\python\\test_compile.cp35-win_amd64.pyd /IMPLIB:build\\temp.win-amd64-3.5\\Release\\test_compile.cp35-win_amd64.lib\n"
     ]
    }
   ],
   "source": [
    "dist = setup_test(\"build_ext\", \"--inplace\", \"--compiler\", \"msvc\")"
   ]
  },
  {
   "cell_type": "markdown",
   "metadata": {},
   "source": [
    "可以通过`dist.command_options`查看各种选项："
   ]
  },
  {
   "cell_type": "code",
   "execution_count": 5,
   "metadata": {},
   "outputs": [
    {
     "data": {
      "text/plain": [
       "{'build': {'compiler': ('C:\\\\Anaconda3\\\\lib\\\\distutils\\\\distutils.cfg',\n",
       "   'mingw32')},\n",
       " 'build_ext': {'compiler': ('command line', 'msvc'),\n",
       "  'force': ('command line', 1),\n",
       "  'inplace': ('command line', 1)}}"
      ]
     },
     "execution_count": 5,
     "metadata": {},
     "output_type": "execute_result"
    }
   ],
   "source": [
    "dist.command_options"
   ]
  },
  {
   "cell_type": "markdown",
   "metadata": {},
   "source": [
    "这里`build`的`compiler`选项的值为`'mingw32'`，该值是从`'C:\\\\Anaconda3\\\\lib\\\\distutils\\\\distutils.cfg'`文件读取的。`build_ext`的`compiler`选项的值为`'msvc'`，它是从命令行参数`sys.argv`中读取的。下面通过添加`--compiler mingw32`命令行参数，指定使用`gcc`编译，但是会出现错误。"
   ]
  },
  {
   "cell_type": "code",
   "execution_count": 6,
   "metadata": {},
   "outputs": [
    {
     "name": "stdout",
     "output_type": "stream",
     "text": [
      "running build_ext\n"
     ]
    },
    {
     "ename": "ValueError",
     "evalue": "Unknown MS Compiler version 1900 ",
     "output_type": "error",
     "traceback": [
      "\u001b[1;31m---------------------------------------------------------------------------\u001b[0m",
      "\u001b[1;31mValueError\u001b[0m                                Traceback (most recent call last)",
      "\u001b[1;32m<ipython-input-6-ff387469546d>\u001b[0m in \u001b[0;36m<module>\u001b[1;34m()\u001b[0m\n\u001b[1;32m----> 1\u001b[1;33m \u001b[0mdist\u001b[0m \u001b[1;33m=\u001b[0m \u001b[0msetup_test\u001b[0m\u001b[1;33m(\u001b[0m\u001b[1;34m\"build_ext\"\u001b[0m\u001b[1;33m,\u001b[0m \u001b[1;34m\"--inplace\"\u001b[0m\u001b[1;33m,\u001b[0m \u001b[1;34m\"--compiler\"\u001b[0m\u001b[1;33m,\u001b[0m \u001b[1;34m\"mingw32\"\u001b[0m\u001b[1;33m)\u001b[0m\u001b[1;33m\u001b[0m\u001b[0m\n\u001b[0m",
      "\u001b[1;32m<ipython-input-2-16190ba7893a>\u001b[0m in \u001b[0;36msetup_test\u001b[1;34m(*argv)\u001b[0m\n\u001b[0;32m     12\u001b[0m         )\n\u001b[0;32m     13\u001b[0m     return setup(\n\u001b[1;32m---> 14\u001b[1;33m         \u001b[0mext_modules\u001b[0m \u001b[1;33m=\u001b[0m \u001b[0mcythonize\u001b[0m\u001b[1;33m(\u001b[0m\u001b[1;34m\"test_compile.pyx\"\u001b[0m\u001b[1;33m)\u001b[0m\u001b[1;33m\u001b[0m\u001b[0m\n\u001b[0m\u001b[0;32m     15\u001b[0m     )\n",
      "\u001b[1;32mC:\\Anaconda3\\lib\\distutils\\core.py\u001b[0m in \u001b[0;36msetup\u001b[1;34m(**attrs)\u001b[0m\n\u001b[0;32m    146\u001b[0m     \u001b[1;32mif\u001b[0m \u001b[0mok\u001b[0m\u001b[1;33m:\u001b[0m\u001b[1;33m\u001b[0m\u001b[0m\n\u001b[0;32m    147\u001b[0m         \u001b[1;32mtry\u001b[0m\u001b[1;33m:\u001b[0m\u001b[1;33m\u001b[0m\u001b[0m\n\u001b[1;32m--> 148\u001b[1;33m             \u001b[0mdist\u001b[0m\u001b[1;33m.\u001b[0m\u001b[0mrun_commands\u001b[0m\u001b[1;33m(\u001b[0m\u001b[1;33m)\u001b[0m\u001b[1;33m\u001b[0m\u001b[0m\n\u001b[0m\u001b[0;32m    149\u001b[0m         \u001b[1;32mexcept\u001b[0m \u001b[0mKeyboardInterrupt\u001b[0m\u001b[1;33m:\u001b[0m\u001b[1;33m\u001b[0m\u001b[0m\n\u001b[0;32m    150\u001b[0m             \u001b[1;32mraise\u001b[0m \u001b[0mSystemExit\u001b[0m\u001b[1;33m(\u001b[0m\u001b[1;34m\"interrupted\"\u001b[0m\u001b[1;33m)\u001b[0m\u001b[1;33m\u001b[0m\u001b[0m\n",
      "\u001b[1;32mC:\\Anaconda3\\lib\\distutils\\dist.py\u001b[0m in \u001b[0;36mrun_commands\u001b[1;34m(self)\u001b[0m\n\u001b[0;32m    953\u001b[0m         \"\"\"\n\u001b[0;32m    954\u001b[0m         \u001b[1;32mfor\u001b[0m \u001b[0mcmd\u001b[0m \u001b[1;32min\u001b[0m \u001b[0mself\u001b[0m\u001b[1;33m.\u001b[0m\u001b[0mcommands\u001b[0m\u001b[1;33m:\u001b[0m\u001b[1;33m\u001b[0m\u001b[0m\n\u001b[1;32m--> 955\u001b[1;33m             \u001b[0mself\u001b[0m\u001b[1;33m.\u001b[0m\u001b[0mrun_command\u001b[0m\u001b[1;33m(\u001b[0m\u001b[0mcmd\u001b[0m\u001b[1;33m)\u001b[0m\u001b[1;33m\u001b[0m\u001b[0m\n\u001b[0m\u001b[0;32m    956\u001b[0m \u001b[1;33m\u001b[0m\u001b[0m\n\u001b[0;32m    957\u001b[0m     \u001b[1;31m# -- Methods that operate on its Commands --------------------------\u001b[0m\u001b[1;33m\u001b[0m\u001b[1;33m\u001b[0m\u001b[0m\n",
      "\u001b[1;32mC:\\Anaconda3\\lib\\distutils\\dist.py\u001b[0m in \u001b[0;36mrun_command\u001b[1;34m(self, command)\u001b[0m\n\u001b[0;32m    972\u001b[0m         \u001b[0mcmd_obj\u001b[0m \u001b[1;33m=\u001b[0m \u001b[0mself\u001b[0m\u001b[1;33m.\u001b[0m\u001b[0mget_command_obj\u001b[0m\u001b[1;33m(\u001b[0m\u001b[0mcommand\u001b[0m\u001b[1;33m)\u001b[0m\u001b[1;33m\u001b[0m\u001b[0m\n\u001b[0;32m    973\u001b[0m         \u001b[0mcmd_obj\u001b[0m\u001b[1;33m.\u001b[0m\u001b[0mensure_finalized\u001b[0m\u001b[1;33m(\u001b[0m\u001b[1;33m)\u001b[0m\u001b[1;33m\u001b[0m\u001b[0m\n\u001b[1;32m--> 974\u001b[1;33m         \u001b[0mcmd_obj\u001b[0m\u001b[1;33m.\u001b[0m\u001b[0mrun\u001b[0m\u001b[1;33m(\u001b[0m\u001b[1;33m)\u001b[0m\u001b[1;33m\u001b[0m\u001b[0m\n\u001b[0m\u001b[0;32m    975\u001b[0m         \u001b[0mself\u001b[0m\u001b[1;33m.\u001b[0m\u001b[0mhave_run\u001b[0m\u001b[1;33m[\u001b[0m\u001b[0mcommand\u001b[0m\u001b[1;33m]\u001b[0m \u001b[1;33m=\u001b[0m \u001b[1;36m1\u001b[0m\u001b[1;33m\u001b[0m\u001b[0m\n\u001b[0;32m    976\u001b[0m \u001b[1;33m\u001b[0m\u001b[0m\n",
      "\u001b[1;32mC:\\Anaconda3\\lib\\distutils\\command\\build_ext.py\u001b[0m in \u001b[0;36mrun\u001b[1;34m(self)\u001b[0m\n\u001b[0;32m    305\u001b[0m                                      \u001b[0mverbose\u001b[0m\u001b[1;33m=\u001b[0m\u001b[0mself\u001b[0m\u001b[1;33m.\u001b[0m\u001b[0mverbose\u001b[0m\u001b[1;33m,\u001b[0m\u001b[1;33m\u001b[0m\u001b[0m\n\u001b[0;32m    306\u001b[0m                                      \u001b[0mdry_run\u001b[0m\u001b[1;33m=\u001b[0m\u001b[0mself\u001b[0m\u001b[1;33m.\u001b[0m\u001b[0mdry_run\u001b[0m\u001b[1;33m,\u001b[0m\u001b[1;33m\u001b[0m\u001b[0m\n\u001b[1;32m--> 307\u001b[1;33m                                      force=self.force)\n\u001b[0m\u001b[0;32m    308\u001b[0m         \u001b[0mcustomize_compiler\u001b[0m\u001b[1;33m(\u001b[0m\u001b[0mself\u001b[0m\u001b[1;33m.\u001b[0m\u001b[0mcompiler\u001b[0m\u001b[1;33m)\u001b[0m\u001b[1;33m\u001b[0m\u001b[0m\n\u001b[0;32m    309\u001b[0m         \u001b[1;31m# If we are cross-compiling, init the compiler now (if we are not\u001b[0m\u001b[1;33m\u001b[0m\u001b[1;33m\u001b[0m\u001b[0m\n",
      "\u001b[1;32mC:\\Anaconda3\\lib\\distutils\\ccompiler.py\u001b[0m in \u001b[0;36mnew_compiler\u001b[1;34m(plat, compiler, verbose, dry_run, force)\u001b[0m\n\u001b[0;32m   1029\u001b[0m     \u001b[1;31m# with classes that expect verbose to be the first positional\u001b[0m\u001b[1;33m\u001b[0m\u001b[1;33m\u001b[0m\u001b[0m\n\u001b[0;32m   1030\u001b[0m     \u001b[1;31m# argument.\u001b[0m\u001b[1;33m\u001b[0m\u001b[1;33m\u001b[0m\u001b[0m\n\u001b[1;32m-> 1031\u001b[1;33m     \u001b[1;32mreturn\u001b[0m \u001b[0mklass\u001b[0m\u001b[1;33m(\u001b[0m\u001b[1;32mNone\u001b[0m\u001b[1;33m,\u001b[0m \u001b[0mdry_run\u001b[0m\u001b[1;33m,\u001b[0m \u001b[0mforce\u001b[0m\u001b[1;33m)\u001b[0m\u001b[1;33m\u001b[0m\u001b[0m\n\u001b[0m\u001b[0;32m   1032\u001b[0m \u001b[1;33m\u001b[0m\u001b[0m\n\u001b[0;32m   1033\u001b[0m \u001b[1;33m\u001b[0m\u001b[0m\n",
      "\u001b[1;32mC:\\Anaconda3\\lib\\distutils\\cygwinccompiler.py\u001b[0m in \u001b[0;36m__init__\u001b[1;34m(self, verbose, dry_run, force)\u001b[0m\n\u001b[0;32m    280\u001b[0m     \u001b[1;32mdef\u001b[0m \u001b[0m__init__\u001b[0m\u001b[1;33m(\u001b[0m\u001b[0mself\u001b[0m\u001b[1;33m,\u001b[0m \u001b[0mverbose\u001b[0m\u001b[1;33m=\u001b[0m\u001b[1;36m0\u001b[0m\u001b[1;33m,\u001b[0m \u001b[0mdry_run\u001b[0m\u001b[1;33m=\u001b[0m\u001b[1;36m0\u001b[0m\u001b[1;33m,\u001b[0m \u001b[0mforce\u001b[0m\u001b[1;33m=\u001b[0m\u001b[1;36m0\u001b[0m\u001b[1;33m)\u001b[0m\u001b[1;33m:\u001b[0m\u001b[1;33m\u001b[0m\u001b[0m\n\u001b[0;32m    281\u001b[0m \u001b[1;33m\u001b[0m\u001b[0m\n\u001b[1;32m--> 282\u001b[1;33m         \u001b[0mCygwinCCompiler\u001b[0m\u001b[1;33m.\u001b[0m\u001b[0m__init__\u001b[0m \u001b[1;33m(\u001b[0m\u001b[0mself\u001b[0m\u001b[1;33m,\u001b[0m \u001b[0mverbose\u001b[0m\u001b[1;33m,\u001b[0m \u001b[0mdry_run\u001b[0m\u001b[1;33m,\u001b[0m \u001b[0mforce\u001b[0m\u001b[1;33m)\u001b[0m\u001b[1;33m\u001b[0m\u001b[0m\n\u001b[0m\u001b[0;32m    283\u001b[0m \u001b[1;33m\u001b[0m\u001b[0m\n\u001b[0;32m    284\u001b[0m         \u001b[1;31m# ld_version >= \"2.13\" support -shared so use it instead of\u001b[0m\u001b[1;33m\u001b[0m\u001b[1;33m\u001b[0m\u001b[0m\n",
      "\u001b[1;32mC:\\Anaconda3\\lib\\distutils\\cygwinccompiler.py\u001b[0m in \u001b[0;36m__init__\u001b[1;34m(self, verbose, dry_run, force)\u001b[0m\n\u001b[0;32m    155\u001b[0m             \u001b[1;31m# Include the appropriate MSVC runtime library if Python was built\u001b[0m\u001b[1;33m\u001b[0m\u001b[1;33m\u001b[0m\u001b[0m\n\u001b[0;32m    156\u001b[0m             \u001b[1;31m# with MSVC 7.0 or later.\u001b[0m\u001b[1;33m\u001b[0m\u001b[1;33m\u001b[0m\u001b[0m\n\u001b[1;32m--> 157\u001b[1;33m             \u001b[0mself\u001b[0m\u001b[1;33m.\u001b[0m\u001b[0mdll_libraries\u001b[0m \u001b[1;33m=\u001b[0m \u001b[0mget_msvcr\u001b[0m\u001b[1;33m(\u001b[0m\u001b[1;33m)\u001b[0m\u001b[1;33m\u001b[0m\u001b[0m\n\u001b[0m\u001b[0;32m    158\u001b[0m \u001b[1;33m\u001b[0m\u001b[0m\n\u001b[0;32m    159\u001b[0m     \u001b[1;32mdef\u001b[0m \u001b[0m_compile\u001b[0m\u001b[1;33m(\u001b[0m\u001b[0mself\u001b[0m\u001b[1;33m,\u001b[0m \u001b[0mobj\u001b[0m\u001b[1;33m,\u001b[0m \u001b[0msrc\u001b[0m\u001b[1;33m,\u001b[0m \u001b[0mext\u001b[0m\u001b[1;33m,\u001b[0m \u001b[0mcc_args\u001b[0m\u001b[1;33m,\u001b[0m \u001b[0mextra_postargs\u001b[0m\u001b[1;33m,\u001b[0m \u001b[0mpp_opts\u001b[0m\u001b[1;33m)\u001b[0m\u001b[1;33m:\u001b[0m\u001b[1;33m\u001b[0m\u001b[0m\n",
      "\u001b[1;32mC:\\Anaconda3\\lib\\distutils\\cygwinccompiler.py\u001b[0m in \u001b[0;36mget_msvcr\u001b[1;34m()\u001b[0m\n\u001b[0;32m     84\u001b[0m             \u001b[1;32mreturn\u001b[0m \u001b[1;33m[\u001b[0m\u001b[1;34m'msvcr100'\u001b[0m\u001b[1;33m]\u001b[0m\u001b[1;33m\u001b[0m\u001b[0m\n\u001b[0;32m     85\u001b[0m         \u001b[1;32melse\u001b[0m\u001b[1;33m:\u001b[0m\u001b[1;33m\u001b[0m\u001b[0m\n\u001b[1;32m---> 86\u001b[1;33m             \u001b[1;32mraise\u001b[0m \u001b[0mValueError\u001b[0m\u001b[1;33m(\u001b[0m\u001b[1;34m\"Unknown MS Compiler version %s \"\u001b[0m \u001b[1;33m%\u001b[0m \u001b[0mmsc_ver\u001b[0m\u001b[1;33m)\u001b[0m\u001b[1;33m\u001b[0m\u001b[0m\n\u001b[0m\u001b[0;32m     87\u001b[0m \u001b[1;33m\u001b[0m\u001b[0m\n\u001b[0;32m     88\u001b[0m \u001b[1;33m\u001b[0m\u001b[0m\n",
      "\u001b[1;31mValueError\u001b[0m: Unknown MS Compiler version 1900 "
     ]
    }
   ],
   "source": [
    "dist = setup_test(\"build_ext\", \"--inplace\", \"--compiler\", \"mingw32\")"
   ]
  },
  {
   "cell_type": "markdown",
   "metadata": {},
   "source": [
    "## 给`cygwinccompiler`模块打补丁"
   ]
  },
  {
   "cell_type": "markdown",
   "metadata": {},
   "source": [
    "如果使用`gcc`编译失败，则需要给`cygwinccompiler`模块打补丁。一共有三处需要修改的地方，下面先找到该模块对应的位置："
   ]
  },
  {
   "cell_type": "code",
   "execution_count": 2,
   "metadata": {},
   "outputs": [
    {
     "name": "stdout",
     "output_type": "stream",
     "text": [
      "C:\\Anaconda3\\lib\\distutils\\cygwinccompiler.py\n"
     ]
    }
   ],
   "source": [
    "from distutils import cygwinccompiler\n",
    "print(cygwinccompiler.__file__)"
   ]
  },
  {
   "cell_type": "markdown",
   "metadata": {},
   "source": [
    "第一处修改：添加`msc_ver`为`'1700', '1800', '1900'`的判断：\n",
    "\n",
    "```python\n",
    "def get_msvcr():\n",
    "    msc_pos = sys.version.find('MSC v.')\n",
    "    if msc_pos != -1:\n",
    "        msc_ver = sys.version[msc_pos+6:msc_pos+10]\n",
    "        if msc_ver == '1300':\n",
    "            # MSVC 7.0\n",
    "            return ['msvcr70']\n",
    "        elif msc_ver == '1310':\n",
    "            # MSVC 7.1\n",
    "            return ['msvcr71']\n",
    "        elif msc_ver == '1400':\n",
    "            # VS2005 / MSVC 8.0\n",
    "            return ['msvcr80']\n",
    "        elif msc_ver == '1500':\n",
    "            # VS2008 / MSVC 9.0\n",
    "            return ['msvcr90']\n",
    "        elif msc_ver == '1600':\n",
    "            # VS2010 / MSVC 10.0\n",
    "            return ['msvcr100']\n",
    "        elif msc_ver == '1700': #* Add new MSVC versions *#\n",
    "            # Visual Studio 2012 / Visual C++ 11.0\n",
    "            return ['msvcr110']\n",
    "        elif msc_ver == '1800':\n",
    "            # Visual Studio 2013 / Visual C++ 12.0\n",
    "            return ['msvcr120']\n",
    "        elif msc_ver == '1900':\n",
    "            return ['msvcr140'] #实际上该文件不存在, Anaconda会提供一个Dummy文件\n",
    "        else:\n",
    "            raise ValueError(\"Unknown MS Compiler version %s \" % msc_ver)\n",
    "```\n",
    "\n",
    "第二处修改`'LIBRARY %s'`改为`'LIBRARY \"%s\"'`:\n",
    "\n",
    "```python\n",
    "def link(self, target_desc, objects, output_filename, output_dir=None,\n",
    "         libraries=None, library_dirs=None, runtime_library_dirs=None,\n",
    "         export_symbols=None, debug=0, extra_preargs=None,\n",
    "         extra_postargs=None, build_temp=None, target_lang=None):\n",
    "    \n",
    "        # ...\n",
    "        # Generate .def file\n",
    "        contents = [\n",
    "            'LIBRARY \"%s\"' % os.path.basename(output_filename),  #* add quote to filename *#\n",
    "            \"EXPORTS\"]\n",
    "        # ...\n",
    "\n",
    "第三处修改，为`check_outut()`添加`shell=True`参数\n",
    "\n",
    "def is_cygwingcc():\n",
    "    out_string = check_output(['gcc', '-dumpmachine'], shell=True) #* add shell=True *#\n",
    "    return out_string.strip().endswith(b'cygwin')\n",
    "```\n",
    "\n",
    "另外还需要安装`libpython`，如果没有安装，执行下面的命令:\n",
    "\n",
    "```\n",
    "conda install libpython\n",
    "```"
   ]
  },
  {
   "cell_type": "code",
   "execution_count": 3,
   "metadata": {
    "collapsed": true
   },
   "outputs": [],
   "source": [
    "import distutilspatch"
   ]
  },
  {
   "cell_type": "code",
   "execution_count": 4,
   "metadata": {},
   "outputs": [
    {
     "name": "stdout",
     "output_type": "stream",
     "text": [
      "Compiling test_compile.pyx because it changed.\n",
      "[1/1] Cythonizing test_compile.pyx\n",
      "running build_ext\n",
      "building 'test_compile' extension\n",
      "C:\\Anaconda3\\Scripts\\gcc.bat -mdll -O -Wall -IC:\\Anaconda3\\include -IC:\\Anaconda3\\include -c test_compile.c -o build\\temp.win-amd64-3.5\\Release\\test_compile.o\n",
      "writing build\\temp.win-amd64-3.5\\Release\\test_compile.cp35-win_amd64.def\n",
      "C:\\Anaconda3\\Scripts\\gcc.bat -shared -s build\\temp.win-amd64-3.5\\Release\\test_compile.o build\\temp.win-amd64-3.5\\Release\\test_compile.cp35-win_amd64.def -LC:\\Anaconda3\\libs -LC:\\Anaconda3\\PCbuild\\amd64 -lpython35 -lmsvcr140 -o C:\\Users\\RY\\Documents\\notebooks\\cooknotebook\\notebooks\\python\\test_compile.cp35-win_amd64.pyd\n"
     ]
    }
   ],
   "source": [
    "dist = setup_test(\"build_ext\", \"--inplace\", \"--compiler\", \"mingw32\")"
   ]
  },
  {
   "cell_type": "markdown",
   "metadata": {},
   "source": [
    "## `DISTUTILS_DEBUG`环境变量"
   ]
  },
  {
   "cell_type": "markdown",
   "metadata": {},
   "source": [
    "如果定义了`DISTUTILS_DEBUG`环境变量，那么编译时会输出调试信息，可以清楚的看出哪些选项来自哪些地方。下面的程序修改了环境变量之后，调用`imp.reload()`重新载入相关模块，让这些模块重新读入环境变量。"
   ]
  },
  {
   "cell_type": "code",
   "execution_count": 5,
   "metadata": {},
   "outputs": [
    {
     "name": "stdout",
     "output_type": "stream",
     "text": [
      "options (after parsing config files):\n",
      "option dict for 'build' command:\n",
      "  {'compiler': ('C:\\\\Anaconda3\\\\lib\\\\distutils\\\\distutils.cfg', 'mingw32')}\n",
      "options (after parsing command line):\n",
      "option dict for 'build' command:\n",
      "  {'compiler': ('C:\\\\Anaconda3\\\\lib\\\\distutils\\\\distutils.cfg', 'mingw32')}\n",
      "option dict for 'build_ext' command:\n",
      "  {'compiler': ('command line', 'mingw32'),\n",
      "   'force': ('command line', 1),\n",
      "   'inplace': ('command line', 1)}\n",
      "running build_ext\n",
      "Python's GCC status: ok (details: 'C:\\Anaconda3\\include\\pyconfig.h' mentions '__GNUC__')\n",
      "mingw32: gcc 4.7.0, ld 2.22.51.20111217, dllwrap 2.22.51.20111217\n",
      "\n",
      "building 'test_compile' extension\n",
      "C:\\Anaconda3\\Scripts\\gcc.bat -mdll -O -Wall -IC:\\Anaconda3\\include -IC:\\Anaconda3\\include -c test_compile.c -o build\\temp.win-amd64-3.5\\Release\\test_compile.o\n",
      "writing build\\temp.win-amd64-3.5\\Release\\test_compile.cp35-win_amd64.def\n",
      "C:\\Anaconda3\\Scripts\\gcc.bat -shared -s build\\temp.win-amd64-3.5\\Release\\test_compile.o build\\temp.win-amd64-3.5\\Release\\test_compile.cp35-win_amd64.def -LC:\\Anaconda3\\libs -LC:\\Anaconda3\\PCbuild\\amd64 -lpython35 -lmsvcr140 -o C:\\Users\\RY\\Documents\\notebooks\\cooknotebook\\notebooks\\python\\test_compile.cp35-win_amd64.pyd\n"
     ]
    }
   ],
   "source": [
    "import os\n",
    "os.environ[\"DISTUTILS_DEBUG\"] = \"1\"\n",
    "import imp, distutils\n",
    "imp.reload(distutils.debug)\n",
    "imp.reload(distutils.core)\n",
    "dist = setup_test(\"build_ext\", \"--inplace\", \"--compiler\", \"mingw32\")"
   ]
  },
  {
   "cell_type": "markdown",
   "metadata": {},
   "source": [
    "配置文件的优先顺序：\n",
    "\n",
    "* `distutils`模块所在的路径下的`distutils.cfg`文件。\n",
    "* 用户目录下的`pydistutils.cfg`文件。\n",
    "* 当前路径下的`setup.cfg`文件。\n",
    "\n",
    "下面用程序计算这三个文件的路径："
   ]
  },
  {
   "cell_type": "code",
   "execution_count": 7,
   "metadata": {},
   "outputs": [
    {
     "name": "stdout",
     "output_type": "stream",
     "text": [
      "C:\\Anaconda3\\lib\\distutils\\distutils.cfg\n",
      "C:\\Users\\RY\\pydistutils.cfg\n",
      "C:\\Users\\RY\\Documents\\notebooks\\cooknotebook\\notebooks\\python\\setup.cfg\n"
     ]
    }
   ],
   "source": [
    "import sys\n",
    "from pathlib import Path\n",
    "print(Path(sys.modules['distutils'].__file__).parent / \"distutils.cfg\")\n",
    "print(Path(\"~/pydistutils.cfg\").expanduser())\n",
    "print(Path(\"./setup.cfg\").absolute())"
   ]
  },
  {
   "cell_type": "markdown",
   "metadata": {},
   "source": [
    "在当前路径下添加`setup.cfg`文件"
   ]
  },
  {
   "cell_type": "code",
   "execution_count": 8,
   "metadata": {},
   "outputs": [
    {
     "name": "stdout",
     "output_type": "stream",
     "text": [
      "Writing setup.cfg\n"
     ]
    }
   ],
   "source": [
    "%%file setup.cfg\n",
    "[build]\n",
    "compiler=mingw32"
   ]
  },
  {
   "cell_type": "markdown",
   "metadata": {},
   "source": [
    "再次编译发现`build`的`compiler`已经变成了`mingw32`了。"
   ]
  },
  {
   "cell_type": "code",
   "execution_count": 9,
   "metadata": {},
   "outputs": [
    {
     "name": "stdout",
     "output_type": "stream",
     "text": [
      "options (after parsing config files):\n",
      "option dict for 'build' command:\n",
      "  {'compiler': ('setup.cfg', 'mingw32')}\n",
      "options (after parsing command line):\n",
      "option dict for 'build' command:\n",
      "  {'compiler': ('setup.cfg', 'mingw32')}\n",
      "option dict for 'build_ext' command:\n",
      "  {'force': ('command line', 1), 'inplace': ('command line', 1)}\n",
      "running build_ext\n",
      "Python's GCC status: ok (details: 'C:\\Anaconda3\\include\\pyconfig.h' mentions '__GNUC__')\n",
      "mingw32: gcc 4.7.0, ld 2.22.51.20111217, dllwrap 2.22.51.20111217\n",
      "\n",
      "building 'test_compile' extension\n",
      "C:\\Anaconda3\\Scripts\\gcc.bat -mdll -O -Wall -IC:\\Anaconda3\\include -IC:\\Anaconda3\\include -c test_compile.c -o build\\temp.win-amd64-3.5\\Release\\test_compile.o\n",
      "writing build\\temp.win-amd64-3.5\\Release\\test_compile.cp35-win_amd64.def\n",
      "C:\\Anaconda3\\Scripts\\gcc.bat -shared -s build\\temp.win-amd64-3.5\\Release\\test_compile.o build\\temp.win-amd64-3.5\\Release\\test_compile.cp35-win_amd64.def -LC:\\Anaconda3\\libs -LC:\\Anaconda3\\PCbuild\\amd64 -lpython35 -lmsvcr140 -o C:\\Users\\RY\\Documents\\notebooks\\cooknotebook\\notebooks\\python\\test_compile.cp35-win_amd64.pyd\n"
     ]
    }
   ],
   "source": [
    "dist = setup_test(\"build_ext\", \"--inplace\")"
   ]
  }
 ],
 "metadata": {
  "kernelspec": {
   "display_name": "Python [default]",
   "language": "python",
   "name": "python3"
  },
  "language_info": {
   "codemirror_mode": {
    "name": "ipython",
    "version": 3
   },
   "file_extension": ".py",
   "mimetype": "text/x-python",
   "name": "python",
   "nbconvert_exporter": "python",
   "pygments_lexer": "ipython3",
   "version": "3.5.2"
  }
 },
 "nbformat": 4,
 "nbformat_minor": 2
}
