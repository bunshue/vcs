{
 "cells": [
  {
   "cell_type": "markdown",
   "metadata": {},
   "source": [
    "# OpenCV的照相机三维重建"
   ]
  },
  {
   "cell_type": "code",
   "execution_count": 1,
   "metadata": {},
   "outputs": [
    {
     "data": {
      "application/javascript": [
       "\n",
       "    require.config({\n",
       "      paths: {\n",
       "        d3: 'http://cdnjs.cloudflare.com/ajax/libs/d3/3.5.16/d3.min',\n",
       "        plotly: 'http://cdn.plot.ly/plotly-1.10.0.min',\n",
       "        jquery: 'https://code.jquery.com/jquery-migrate-1.4.1.min'\n",
       "      },\n",
       "\n",
       "      shim: {\n",
       "        plotly: {\n",
       "          deps: ['d3', 'jquery'],\n",
       "          exports: 'plotly'\n",
       "        }\n",
       "      }\n",
       "    });\n",
       "\n",
       "    require(['d3', 'plotly'], function(d3, plotly) {\n",
       "        window.Plotly = plotly;\n",
       "    });\n",
       "    "
      ]
     },
     "metadata": {},
     "output_type": "display_data"
    }
   ],
   "source": [
    "%matplotlib inline\n",
    "import pylab as pl\n",
    "import numpy as np\n",
    "import cv2\n",
    "from mpl_toolkits import mplot3d\n",
    "from itertools import product, combinations\n",
    "from plotlyhelp import init_plotly_online_mode\n",
    "init_plotly_online_mode()"
   ]
  },
  {
   "cell_type": "markdown",
   "metadata": {},
   "source": [
    "本文介绍下面两个函数的使用方法:\n",
    "\n",
    "* `triangulatePoints(Rt1, Rt2, points1, points2)`\n",
    "* `findFundamentalMat(points1, points2, ...)`\n",
    "* `findEssentialMat(points1, points2, ...)`\n",
    "* `decomposeEssentialMat(E)`\n",
    "* `recoverPose(E, points1, points2, A)`"
   ]
  },
  {
   "cell_type": "markdown",
   "metadata": {},
   "source": [
    "三维空间中的点的坐标通过下面的公式映射到照相机中的像素:\n",
    "\n",
    "$$s \\begin{bmatrix} u \\\\ v \\\\ 1 \\end{bmatrix}\n",
    "= \n",
    "\\begin{bmatrix} f_x & 0 & c_x \\\\ 0 & f_y & c_y \\\\ 0 & 0 & 1 \\end{bmatrix}\n",
    "\\begin{bmatrix} r_{11} & r_{12} & r_{13} & t_1 \\\\ r_{21} & r_{22} & r_{23} & t_2 \\\\ r_{31} & r_{32} & r_{33} & t_3 \\end{bmatrix} \\begin{bmatrix} X \\\\ Y \\\\ Z \\\\ 1 \\end{bmatrix}$$\n",
    "\n",
    "* $(X, Y, Z)$是三维空间中的某点坐标。\n",
    "* $r, t$构成的矩阵$[R|t]$是旋转偏移矩阵，通过该矩阵将点转换为与照相机对齐的坐标系中。\n",
    "* $f_x, f_y$是照相机的焦距。\n",
    "* $c_x, c_y$是照相机的图像的中心。\n",
    "* $(u, v)$是点$(X, Y, Z)$在照相机的图片中对应的像素坐标。\n",
    "* $s$是一个常数。"
   ]
  },
  {
   "cell_type": "markdown",
   "metadata": {},
   "source": [
    "## 立方体投影到照相机的图像上"
   ]
  },
  {
   "cell_type": "markdown",
   "metadata": {},
   "source": [
    "首先创建立方体各个边上的点。照相机位于坐标原点，面向Z轴的正方向。"
   ]
  },
  {
   "cell_type": "code",
   "execution_count": 2,
   "metadata": {
    "collapsed": true
   },
   "outputs": [],
   "source": [
    "points = []\n",
    "vertexs = list(product([-1, 1], [-1, 1], [-1, 1]))\n",
    "for v1, v2 in combinations(vertexs, 2):\n",
    "    dist = np.sum(np.subtract(v1, v2)**2)**0.5\n",
    "    if dist > 2.1:\n",
    "        continue\n",
    "    points.append(np.column_stack([np.linspace(v1[i], v2[i], 10) for i in range(3)]))\n",
    "points = np.vstack(points)    \n",
    "points = np.array(list(set(tuple(p) for p in points.tolist())))\n",
    "points = points.T\n",
    "points *= 100\n",
    "points[2] += 300"
   ]
  },
  {
   "cell_type": "code",
   "execution_count": 3,
   "metadata": {},
   "outputs": [
    {
     "data": {
      "text/html": [
       "<div id=\"60422507-3e12-4cd3-a407-8583bfa0522c\" style=\"height: 525; width: 100%;\" class=\"plotly-graph-div\"></div><script type=\"text/javascript\">require([\"plotly\"], function(Plotly) { window.PLOTLYENV=window.PLOTLYENV || {};window.PLOTLYENV.BASE_URL=\"https://plot.ly\";Plotly.newPlot(\"60422507-3e12-4cd3-a407-8583bfa0522c\", [{\"y\": [-100.0, -100.0, -100.0, -77.77777777777779, -33.333333333333336, 100.0, 100.0, 100.0, -100.0, -11.111111111111116, -55.55555555555556, -100.0, -100.0, -100.0, 11.111111111111116, 33.33333333333333, -100.0, -100.0, 100.0, 100.0, 100.0, 100.0, -55.55555555555556, -11.111111111111116, 11.111111111111116, 33.33333333333333, 55.555555555555536, 77.77777777777777, 100.0, 55.555555555555536, -77.77777777777779, -33.333333333333336, -100.0, -100.0, 100.0, 100.0, 100.0, 100.0, 100.0, 100.0, -100.0, 77.77777777777777, -100.0, -100.0, 100.0, -100.0, -100.0, -100.0, -100.0, -100.0, -100.0, 11.111111111111116, 55.555555555555536, 77.77777777777777, -55.55555555555556, -11.111111111111116, 33.33333333333333, 100.0, 100.0, 100.0, 100.0, 100.0, 100.0, 100.0, -100.0, -33.333333333333336, -100.0, -77.77777777777779, -100.0, 100.0, 100.0, 100.0, 100.0, 100.0, 100.0, 100.0, 100.0, 100.0, 100.0, 100.0, -100.0, -77.77777777777779, -33.333333333333336, 55.555555555555536, -55.55555555555556, -11.111111111111116, 11.111111111111116, 77.77777777777777, 33.33333333333333, -100.0, -100.0, -100.0, -100.0, -100.0, -100.0, 100.0, 100.0, 100.0, -100.0, -100.0, -100.0, -100.0, -100.0, -100.0], \"x\": [-100.0, -33.333333333333336, -77.77777777777779, -100.0, -100.0, -100.0, -100.0, -100.0, 100.0, 100.0, 100.0, 100.0, 100.0, 100.0, 100.0, 100.0, 100.0, 100.0, -33.333333333333336, -77.77777777777779, -77.77777777777779, -33.333333333333336, 100.0, 100.0, 100.0, 100.0, 100.0, 100.0, -100.0, 100.0, -100.0, -100.0, -77.77777777777779, -33.333333333333336, 100.0, 100.0, 100.0, 100.0, 100.0, 100.0, -100.0, 100.0, -100.0, -100.0, 100.0, -55.55555555555556, -11.111111111111116, 11.111111111111116, 33.33333333333333, 55.555555555555536, 77.77777777777777, -100.0, -100.0, -100.0, -100.0, -100.0, -100.0, -100.0, -100.0, -100.0, -100.0, -100.0, -100.0, -55.55555555555556, 100.0, 100.0, 100.0, 100.0, 100.0, -11.111111111111116, 77.77777777777777, 55.555555555555536, 33.33333333333333, 11.111111111111116, -55.55555555555556, -11.111111111111116, 11.111111111111116, 33.33333333333333, 55.555555555555536, 77.77777777777777, 100.0, 100.0, 100.0, -100.0, -100.0, -100.0, -100.0, -100.0, -100.0, 77.77777777777777, 55.555555555555536, -55.55555555555556, -11.111111111111116, 11.111111111111116, 33.33333333333333, 100.0, 100.0, 100.0, -100.0, -100.0, -100.0, -100.0, -100.0, -100.0], \"marker\": {\"size\": 3}, \"mode\": \"markers\", \"z\": [200.0, 200.0, 200.0, 200.0, 200.0, 222.22222222222223, 266.6666666666667, 400.0, 311.11111111111114, 200.0, 200.0, 355.55555555555554, 288.88888888888886, 244.44444444444446, 200.0, 200.0, 377.77777777777777, 333.3333333333333, 200.0, 200.0, 400.0, 400.0, 400.0, 400.0, 400.0, 400.0, 400.0, 400.0, 200.0, 200.0, 400.0, 400.0, 400.0, 400.0, 244.44444444444446, 288.88888888888886, 311.11111111111114, 333.3333333333333, 355.55555555555554, 377.77777777777777, 400.0, 200.0, 266.6666666666667, 222.22222222222223, 200.0, 200.0, 200.0, 200.0, 200.0, 200.0, 200.0, 200.0, 200.0, 200.0, 200.0, 200.0, 200.0, 377.77777777777777, 244.44444444444446, 288.88888888888886, 311.11111111111114, 333.3333333333333, 355.55555555555554, 200.0, 266.6666666666667, 200.0, 222.22222222222223, 200.0, 400.0, 200.0, 200.0, 200.0, 200.0, 200.0, 400.0, 400.0, 400.0, 400.0, 400.0, 400.0, 200.0, 400.0, 400.0, 400.0, 400.0, 400.0, 400.0, 400.0, 400.0, 400.0, 400.0, 400.0, 400.0, 400.0, 400.0, 400.0, 222.22222222222223, 266.6666666666667, 311.11111111111114, 288.88888888888886, 244.44444444444446, 333.3333333333333, 355.55555555555554, 377.77777777777777], \"type\": \"scatter3d\"}], {\"margin\": {\"b\": 0, \"t\": 0, \"r\": 0, \"l\": 0}}, {\"showLink\": true, \"linkText\": \"Export to plot.ly\"})});</script>"
      ],
      "text/plain": [
       "<IPython.core.display.HTML object>"
      ]
     },
     "metadata": {},
     "output_type": "display_data"
    }
   ],
   "source": [
    "def plot_points(points):\n",
    "    from plotly.offline import iplot\n",
    "    import plotly.graph_objs as go\n",
    "    \n",
    "    x, y, z = points[:3]\n",
    "\n",
    "    trace1 = go.Scatter3d(\n",
    "        x=x,\n",
    "        y=y,\n",
    "        z=z,\n",
    "        mode='markers',\n",
    "        marker=dict(size=3)\n",
    "    )\n",
    "\n",
    "    data = [trace1]\n",
    "    layout = go.Layout(\n",
    "        margin=dict(l=0, r=0, b=0, t=0)\n",
    "    )\n",
    "    fig = go.Figure(data=data, layout=layout)\n",
    "    iplot(fig)\n",
    "\n",
    "plot_points(points)"
   ]
  },
  {
   "cell_type": "markdown",
   "metadata": {},
   "source": [
    "下面是一些帮助函数:\n",
    "\n",
    "* `homogeneous(x)`：将坐标转换为齐次坐标\n",
    "* `camera_matrix()`：计算照相机的旋转矩阵\n",
    "* `rot_matrix()`：使用下面的公式计算旋转矩阵\n",
    "\n",
    "$${\\displaystyle {\\begin{alignedat}{1}R_{x}(\\theta )&={\\begin{bmatrix}1&0&0\\\\0&\\cos \\theta &-\\sin \\theta \\\\[3pt]0&\\sin \\theta &\\cos \\theta \\\\[3pt]\\end{bmatrix}}\\\\[6pt]R_{y}(\\theta )&={\\begin{bmatrix}\\cos \\theta &0&\\sin \\theta \\\\[3pt]0&1&0\\\\[3pt]-\\sin \\theta &0&\\cos \\theta \\\\\\end{bmatrix}}\\\\[6pt]R_{z}(\\theta )&={\\begin{bmatrix}\\cos \\theta &-\\sin \\theta &0\\\\[3pt]\\sin \\theta &\\cos \\theta &0\\\\[3pt]0&0&1\\\\\\end{bmatrix}}\\end{alignedat}}}$$"
   ]
  },
  {
   "cell_type": "code",
   "execution_count": 4,
   "metadata": {
    "collapsed": true
   },
   "outputs": [],
   "source": [
    "def homogeneous(x):\n",
    "    x = np.asarray(x)\n",
    "    if x.ndim == 1:\n",
    "        return np.r_[x, 1]\n",
    "    else:\n",
    "        return np.vstack([x, np.ones(x.shape[1])])\n",
    "    \n",
    "def camera_matrix(f, cx, cy):\n",
    "    return np.array([[f, 0, cx],\n",
    "                     [0, f, cy],\n",
    "                     [0, 0,  1]], dtype=float)\n",
    "\n",
    "def plot_pixels(pixels, width=640, height=480):\n",
    "    fig, ax = pl.subplots()\n",
    "    ax.set_aspect(\"equal\")\n",
    "    rect = pl.Rectangle((0, 0), 640, 480, fill=False, ls=\"--\")\n",
    "    ax.add_patch(rect)\n",
    "    ax.axis(\"off\")\n",
    "    ax.plot(pixels[0], pixels[1], \"s\", ms=1)\n",
    "    return fig, ax\n",
    "\n",
    "def rot_matrix(theta, axis):\n",
    "    c = np.cos(theta)\n",
    "    s = np.sin(theta)\n",
    "    m = np.array([[c, -s], [s, c]])\n",
    "    m2 = np.insert(np.insert(m, axis, 0, axis=0), axis, 0, axis=1)\n",
    "    m2[axis, axis] = 1\n",
    "    if axis == 1:\n",
    "        m2 = m2.T\n",
    "    return m2"
   ]
  },
  {
   "cell_type": "markdown",
   "metadata": {},
   "source": [
    "下面将点云映射到照相机的照片上。第一个照相机的的旋转偏移矩阵为标准矩阵："
   ]
  },
  {
   "cell_type": "code",
   "execution_count": 5,
   "metadata": {},
   "outputs": [
    {
     "data": {
      "image/png": "[encoded data removed]",
      "text/plain": [
       "<matplotlib.figure.Figure at 0x1f96b268588>"
      ]
     },
     "metadata": {},
     "output_type": "display_data"
    }
   ],
   "source": [
    "Rt1 = np.column_stack([np.eye(3), np.zeros(3)])\n",
    "A1 = camera_matrix(300, 320, 240)\n",
    "A1_inv = np.linalg.inv(A1)\n",
    "pixels1 = A1 @ Rt1 @ homogeneous(points)\n",
    "pixels1 /= pixels1[2]\n",
    "plot_pixels(pixels1);"
   ]
  },
  {
   "cell_type": "markdown",
   "metadata": {},
   "source": [
    "第二个照相机绕Y轴旋转20度，并且在X-Y平面上偏移(-30, -10)。两个照相机的照相机矩阵相同。"
   ]
  },
  {
   "cell_type": "code",
   "execution_count": 6,
   "metadata": {},
   "outputs": [
    {
     "name": "stdout",
     "output_type": "stream",
     "text": [
      "[[  0.93969262   0.           0.34202014 -30.        ]\n",
      " [  0.           1.           0.         -10.        ]\n",
      " [ -0.34202014   0.           0.93969262   0.        ]]\n"
     ]
    },
    {
     "data": {
      "image/png": "[encoded data removed]",
      "text/plain": [
       "<matplotlib.figure.Figure at 0x1f96b488ef0>"
      ]
     },
     "metadata": {},
     "output_type": "display_data"
    }
   ],
   "source": [
    "Rt2 = np.column_stack([rot_matrix(np.deg2rad(20), 1), [-30, -10, 0]])\n",
    "print(Rt2)\n",
    "A2 = A1\n",
    "A2_inv = np.linalg.inv(A2)\n",
    "pixels2 = A2 @ Rt2 @ homogeneous(points)\n",
    "pixels2 /= pixels2[2]\n",
    "pixels_normal2 = A2_inv @ pixels2\n",
    "plot_pixels(pixels2);"
   ]
  },
  {
   "cell_type": "markdown",
   "metadata": {},
   "source": [
    "照相机矩阵的逆矩阵与像素坐标乘积得到标准化像素坐标。`triangulatePoints(Rt1, Rt2, points1, points2)`可以通过两个照相机的标准化像素坐标以及这两个相机的旋转偏移矩阵，计算点的三维坐标。其中：\n",
    "\n",
    "* `Rt1, Rt2`：$3 \\times 4$的旋转偏移矩阵\n",
    "* `points1, points2`：标准化像素坐标，形状为`(2, N)`的数组\n",
    "\n",
    "`triangulatePoints()`的返回值是一个形状为`(4, N)`的数组，其中每列表示三维空间中的一个点。将前三个坐标值除以最后一个坐标值就得到三维空间的坐标。"
   ]
  },
  {
   "cell_type": "code",
   "execution_count": 7,
   "metadata": {},
   "outputs": [
    {
     "data": {
      "text/plain": [
       "True"
      ]
     },
     "execution_count": 7,
     "metadata": {},
     "output_type": "execute_result"
    }
   ],
   "source": [
    "pixels_normal1 = A1_inv @ pixels1\n",
    "pixels_normal2 = A2_inv @ pixels2\n",
    "points4d = cv2.triangulatePoints(Rt1, Rt2, pixels_normal1[:2], pixels_normal2[:2])\n",
    "points4d /= points4d[-1]\n",
    "np.allclose(points, points4d[:3])"
   ]
  },
  {
   "cell_type": "markdown",
   "metadata": {},
   "source": [
    "## Fundamental矩阵和Essential矩阵"
   ]
  },
  {
   "cell_type": "markdown",
   "metadata": {},
   "source": [
    "`findFundamentalMat()`通过两个照相机对应点的像素坐标计算Fundamental矩阵$\\mathbf{F}$。它满足方程：${\\mathbf  {x}}'^{{\\top }}{\\mathbf  {Fx}}=0$。其中$\\mathbf{x}', \\mathbf{x}$是两个照相机的像素坐标。"
   ]
  },
  {
   "cell_type": "code",
   "execution_count": 8,
   "metadata": {},
   "outputs": [
    {
     "data": {
      "text/plain": [
       "True"
      ]
     },
     "execution_count": 8,
     "metadata": {},
     "output_type": "execute_result"
    }
   ],
   "source": [
    "F, Fmask = cv2.findFundamentalMat(pixels1[:2].T, pixels2[:2].T, cv2.FM_LMEDS)\n",
    "np.allclose((pixels2 * (F @ pixels1)).sum(0), 0, atol=1e-3)"
   ]
  },
  {
   "cell_type": "markdown",
   "metadata": {},
   "source": [
    "Essential矩阵$\\mathbf{E}$的计算公式为${\\mathbf  {E}}={\\mathbf  {K}}'^{{\\top }}\\;{\\mathbf  {F}}\\;{\\mathbf  {K}}$，其中$\\mathbf{K}', \\mathbf{K}$是两个照相机矩阵。Essential矩阵满足${\\mathbf  {y}}'^{\\top }\\,{\\mathbf  {E}}\\,{\\mathbf  {y}}=0$。其中$\\mathbf{y}', \\mathbf{y}$是正规化之后的像素坐标。"
   ]
  },
  {
   "cell_type": "code",
   "execution_count": 39,
   "metadata": {},
   "outputs": [
    {
     "data": {
      "text/plain": [
       "True"
      ]
     },
     "execution_count": 39,
     "metadata": {},
     "output_type": "execute_result"
    }
   ],
   "source": [
    "E = A2.T @ F @ A1\n",
    "np.allclose((pixels_normal2 * (E @ pixels_normal1)).sum(0), 0, atol=1e-3)"
   ]
  },
  {
   "cell_type": "markdown",
   "metadata": {},
   "source": [
    "下面使用`findEssentialMat(points1, points2, f, (cx, cy))`计算Essential矩阵。其中`points1`和`points2`是两个照相机中的像素坐标，`f`、`cx`和`cy`是照相机矩阵中的三个照相机参数。注意Essential矩阵只需要满足${\\mathbf  {y}}'^{\\top }\\,{\\mathbf  {E}}\\,{\\mathbf  {y}}=0$即可，其解有无穷多个。"
   ]
  },
  {
   "cell_type": "code",
   "execution_count": 34,
   "metadata": {},
   "outputs": [
    {
     "data": {
      "text/plain": [
       "True"
      ]
     },
     "execution_count": 34,
     "metadata": {},
     "output_type": "execute_result"
    }
   ],
   "source": [
    "E2, _ = cv2.findEssentialMat(pixels1[:2].T, pixels2[:2].T, 300, (320.0, 240.0), cv2.FM_LMEDS)\n",
    "np.allclose((pixels_normal2 * (E @ pixels_normal1)).sum(0), 0, atol=1e-3)"
   ]
  },
  {
   "cell_type": "markdown",
   "metadata": {},
   "source": [
    "下面对Essential矩阵进行奇异值分解，并计算旋转矩阵$\\mathbf{R}$和偏移矩阵$[{\\mathbf  {t}}]_{{\\times }}$，它们各有两个解。\n",
    "\n",
    "$${\\mathbf  {E}}={\\mathbf  {U}}\\,{\\mathbf  {\\Sigma }}\\,{\\mathbf  {V}}^{{T}}$$\n",
    "\n",
    "$${\\mathbf  {W}}={\\begin{pmatrix}0&-1&0\\\\1&0&0\\\\0&0&1\\end{pmatrix}}$$\n",
    "\n",
    "$${\\mathbf  {R}}={\\mathbf  {U}}\\,{\\mathbf  {W}}^{{-1}}\\,{\\mathbf  {V}}^{{T}}, {\\mathbf  {R}}={\\mathbf  {U}}\\,{\\mathbf  {W}}\\,{\\mathbf  {V}}^{{T}}$$\n",
    "\n",
    "$$[{\\mathbf  {t}}]_{{\\times }}=\\pm {\\mathbf  {U}}\\,{\\mathbf  {Z}}\\,{\\mathbf  {U}}^{{T}}$$\n",
    "\n",
    "$${\\mathbf  {Z}}={\\begin{pmatrix}0&1&0\\\\-1&0&0\\\\0&0&0\\end{pmatrix}}$$\n",
    "\n",
    "偏移矩阵$[{\\mathbf  {t}}]_{{\\times }}$与偏移向量$\\mathbf {t}$之间的关系：\n",
    "\n",
    "$$[\\mathbf {t} ]_{\\times }{\\stackrel {\\rm {def}}{=}}{\\begin{bmatrix}\\,\\,0&\\!-t_{3}&\\,\\,\\,t_{2}\\\\\\,\\,\\,t_{3}&0&\\!-t_{1}\\\\\\!-t_{2}&\\,\\,t_{1}&\\,\\,0\\end{bmatrix}}$$"
   ]
  },
  {
   "cell_type": "code",
   "execution_count": 42,
   "metadata": {
    "collapsed": true
   },
   "outputs": [],
   "source": [
    "U, S, Vt = np.linalg.svd(E)\n",
    "W = np.array([0.0, -1.0, 0.0, \n",
    "              1.0, 0.0, 0.0, \n",
    "              0.0, 0.0, 1.0]).reshape(3, 3)\n",
    "Z = np.array([ 0, 1, 0, \n",
    "              -1, 0, 0,\n",
    "               0, 0, 0]).reshape(3, 3)\n",
    "R1 = U @ W.T @ Vt\n",
    "R2 = U @ W @ Vt\n",
    "tx = U @ Z @ U.T\n",
    "t1 = tx[[2, 0, 1], [1, 2, 0]]\n",
    "t2 = -t1"
   ]
  },
  {
   "cell_type": "markdown",
   "metadata": {},
   "source": [
    "OpenCV中提供了`decomposeEssentialMat(E)`实现上述对Essential矩阵的分解运算，它返回两个旋转矩阵和一个偏移向量。"
   ]
  },
  {
   "cell_type": "code",
   "execution_count": 45,
   "metadata": {},
   "outputs": [
    {
     "data": {
      "text/plain": [
       "(array([[  9.39692641e-01,   3.09363385e-09,   3.42020088e-01],\n",
       "        [  1.48665629e-08,   1.00000000e+00,  -4.98907351e-08],\n",
       "        [ -3.42020088e-01,   5.19666197e-08,   9.39692641e-01]]),\n",
       " array([[  7.51754503e-01,   5.99999684e-01,   2.73615690e-01],\n",
       "        [  5.63815326e-01,  -8.00000237e-01,   2.05211840e-01],\n",
       "        [  3.42019656e-01,  -2.05125046e-07,  -9.39692798e-01]]),\n",
       " array([[  9.48683361e-01],\n",
       "        [  3.16227577e-01],\n",
       "        [ -2.42164877e-07]]))"
      ]
     },
     "execution_count": 45,
     "metadata": {},
     "output_type": "execute_result"
    }
   ],
   "source": [
    "cv2.decomposeEssentialMat(E)"
   ]
  },
  {
   "cell_type": "markdown",
   "metadata": {},
   "source": [
    "下面显示通过四个旋转偏移矩阵$[R_1|t_1], [R_1|t_2], [R_2|t_1], [R_2|t_2]$还原之后的三维点。可以看出$[R_1|t_2]$转换得到的所有的点的Z轴坐标为正，因此这些点都位于照相机前面。\n",
    "\n",
    "此外，由于偏移矢量$t$乘以任何常数仍然满足Essential矩阵的约束条件，因此所得到的三维点的坐标并不是唯一的。"
   ]
  },
  {
   "cell_type": "code",
   "execution_count": 27,
   "metadata": {},
   "outputs": [
    {
     "data": {
      "text/html": [
       "<div id=\"1a418360-5086-4b57-ad5d-3df2c13401d0\" style=\"height: 525; width: 100%;\" class=\"plotly-graph-div\"></div><script type=\"text/javascript\">require([\"plotly\"], function(Plotly) { window.PLOTLYENV=window.PLOTLYENV || {};window.PLOTLYENV.BASE_URL=\"https://plot.ly\";Plotly.newPlot(\"1a418360-5086-4b57-ad5d-3df2c13401d0\", [{\"type\": \"scatter3d\", \"z\": [-6.3245585214728175, -6.324558120524718, -6.324558348644076, -6.324558430721107, -6.32455829357017, -7.027287237754601, -8.432745695943122, -12.64912287581696, -9.838205101611882, -6.324560017020387, -6.324559280650079, -11.24366419489521, -9.135475665445028, -7.730017011740901, -6.324560409818038, -6.324560810959159, -11.946393852577318, -10.540934611320155, -6.324558591610475, -6.324558212563456, -12.649123070333559, -12.64912365952808, -12.649124311552306, -12.649125111301665, -12.649125533810237, -12.649125968725265, -12.649126413914708, -12.649126867157577, -6.324558121888561, -6.324561213669031, -12.64912257699605, -12.649122579056895, -12.64912248539035, -12.649122410068589, -7.730020397173932, -9.135479127856346, -9.838208612272766, -10.540938174853151, -11.243667814983175, -11.946397532200457, -12.649122598830878, -6.324561610709784, -8.432745877692255, -7.027287566308677, -6.324561994508942, -6.32455821392368, -6.324558071943745, -6.3245580719693315, -6.324558124681226, -6.324558234433559, -6.324558405813835, -6.324558205820624, -6.324558153796919, -6.3245581363659795, -6.32455835520256, -6.324558244324439, -6.324558176278847, -11.94639315801002, -7.730016429159192, -9.135475038005438, -9.838204455280469, -10.540933947724493, -11.243663515307828, -6.324558366757836, -8.432746302368725, -6.324559638775123, -7.0272877926185116, -6.324558947524035, -12.64912358454772, -6.324558895356384, -6.324561115971773, -6.324560383645316, -6.3245597792923345, -6.324559287541947, -12.649123330360432, -12.64912406173029, -12.649124541147982, -12.649125102274711, -12.64912574994507, -12.649126489365786, -6.324558643564209, -12.649123938081072, -12.649124703236708, -12.649122737490224, -12.649122570724568, -12.649122600982702, -12.649122635442428, -12.649122802731213, -12.64912268132899, -12.649123225983454, -12.649122936729219, -12.64912242168008, -12.64912245305582, -12.649122553280398, -12.649122713526252, -12.649127326150845, -7.027291153719384, -8.432749722437404, -9.838204486248186, -9.13547514473998, -7.7300166849514325, -10.54093390233233, -11.243663393080718, -11.94639295856208], \"marker\": {\"size\": 3}, \"y\": [3.1622792613304966, 3.1622790978999267, 3.1622791856484342, 2.4595505047851676, 1.054093050014691, -3.1622793515573546, -3.1622797411303893, -3.162280865355108, 3.162280304097616, 0.35136455798100974, 1.7568221723822544, 3.162280623022405, 3.1622801439609773, 3.16227982072423, -0.35136438180417034, -1.0540934161481907, 3.1622807821257246, 3.1622804637206987, -3.1622793938493525, -3.1622792000430335, -3.16228091173273, -3.1622810526439316, 1.7568228497825604, 0.35136458993900094, -0.35136461072750574, -1.0540938617321522, -1.7568231648740464, -2.4595525214556035, -3.162279151329093, -1.7568225460342695, 2.45955153864443, 1.0540934675176599, 3.162280558162853, 3.1622805606359923, -3.1622811473328762, -3.1622813144854267, -3.1622814206417122, -3.162281537421379, -3.1622816626368326, -3.1622817946610327, 3.162280577112732, -2.459551769179733, 3.1622796815746352, 3.162279397946368, -3.1622810798370176, 3.1622791305919002, 3.162279089464967, 3.162279107337526, 3.1622791537257, 3.1622792309860968, 3.162279341601625, -0.3513643600123106, -1.7568217550317864, -2.4595504525829814, 1.7568217694863926, 0.3513643415559479, -1.0540930580400876, -3.162280680741771, -3.162279547841981, -3.162279932092721, -3.162280121215386, -3.162280308859418, -3.1622804952980714, -3.1622792797230557, 3.162279983004089, 1.054093407174319, 3.1622796562699285, 2.459550862466299, 3.1622809411107005, -3.162279546436536, -3.1622806470360567, -3.1622802855135945, -3.162279986378877, -3.1622797421385163, -3.16228097387119, -3.1622811489877463, -3.1622812639085023, -3.1622813984872873, -3.1622815538872335, -3.1622817313610034, 3.1622794881389042, 2.459551914802463, 1.0540937425376744, -1.75682271942478, 1.7568225030142361, 0.35136442966456766, -0.35136461280657827, -2.4595517868322627, -1.0540936619150407, 3.162280834326287, 3.1622807460049214, 3.1622805524602953, 3.162280583355888, 3.1622806213228687, 3.1622806752785255, -3.1622819322592464, -3.16228109681236, -3.1622812219632186, 3.162279974576229, 3.1622798271474264, 3.1622795383061066, 3.16228012352176, 3.162280273722495, 3.1622804249736705], \"x\": [3.162279260466649, 1.0540930010422835, 2.4595504635918983, 3.162279213702446, 3.162279146403314, 3.1622792725050437, 3.162279656170679, 3.162280754344736, -3.162280260842276, -3.1622800601175167, -3.1622797238991724, -3.1622805895471644, -3.1622800962970885, -3.1622797659738793, -3.162280239834287, -3.162280424296816, -3.162280753856701, -3.162280425227616, 1.054093114569335, 2.4595504301850486, 2.459551743624674, 1.0540936735568411, -3.162281090698839, -3.1622812792357657, -3.1622813786885993, -3.1622814811166378, -3.162281586135085, -3.162281693341116, 3.1622790741535316, -3.1622806109637938, 3.1622806729339255, 3.1622806732596853, 2.459551620682653, 1.0540935522900468, -3.1622810532491124, -3.1622812161733846, -3.1622813178559137, -3.16228142903683, -3.1622815477535604, -3.162281672548095, 3.162280679365944, -3.162280797098425, 3.162279713885484, 3.1622794079097956, -3.1622809798154696, 1.7568217145719103, 0.3513643091889305, -0.35136437641780904, -1.054093072994984, -1.7568217997161064, -2.4595505778623723, 3.162279107224549, 3.1622790866924095, 3.1622790801260923, 3.162279175999943, 3.162279123859639, 3.162279095269766, 3.162280574565058, 3.1622794661270532, 3.1622798434465333, 3.162280028540651, 3.1622802118864497, 3.162280393810902, 1.7568217836582871, -3.162279931432555, -3.1622798874555627, -3.1622795994358035, -3.162279571225249, -3.16228091818914, 0.3513643997968233, -2.4595515271812354, -1.756822310785819, -1.054093278759951, -0.3513643875206834, 1.7568227202398556, 0.3513645921406656, -0.35136453631922604, -1.054093725091168, -1.756822988492415, -2.459552341990347, -3.1622794309310245, -3.162281002285868, -3.1622811831238966, 3.1622807169915217, 3.1622806710072897, 3.162280679348946, 3.1622806889176545, 3.1622807347121027, 3.1622807015937826, -2.4595517517349523, -1.7568226356514007, 1.7568225810359333, 0.351364525782023, -0.35136450771555056, -1.0540935580341813, -3.1622818023150616, -3.162281001445885, -3.162281126693962, 3.1622800298481644, 3.1622798708787134, 3.1622795593471555, 3.162280190431764, 3.162280352350595, 3.1622805153863838], \"mode\": \"markers\"}], {\"margin\": {\"b\": 0, \"l\": 0, \"r\": 0, \"t\": 0}}, {\"showLink\": true, \"linkText\": \"Export to plot.ly\"})});</script>"
      ],
      "text/plain": [
       "<IPython.core.display.HTML object>"
      ]
     },
     "metadata": {},
     "output_type": "display_data"
    }
   ],
   "source": [
    "points4d = cv2.triangulatePoints(Rt1, np.column_stack([R1, t1]), pixels_normal1[:2], pixels_normal2[:2])\n",
    "points4d /= points4d[-1]\n",
    "plot_points(points4d)"
   ]
  },
  {
   "cell_type": "code",
   "execution_count": 28,
   "metadata": {},
   "outputs": [
    {
     "data": {
      "text/html": [
       "<div id=\"bf185b51-d0ed-403c-8463-5778ea1986d4\" style=\"height: 525; width: 100%;\" class=\"plotly-graph-div\"></div><script type=\"text/javascript\">require([\"plotly\"], function(Plotly) { window.PLOTLYENV=window.PLOTLYENV || {};window.PLOTLYENV.BASE_URL=\"https://plot.ly\";Plotly.newPlot(\"bf185b51-d0ed-403c-8463-5778ea1986d4\", [{\"type\": \"scatter3d\", \"z\": [6.3245585214728175, 6.324558120524718, 6.324558348644076, 6.324558430721107, 6.32455829357017, 7.027287237754601, 8.432745695943122, 12.64912287581696, 9.838205101611882, 6.324560017020387, 6.324559280650079, 11.24366419489521, 9.135475665445028, 7.730017011740901, 6.324560409818038, 6.324560810959159, 11.946393852577318, 10.540934611320155, 6.324558591610475, 6.324558212563456, 12.649123070333559, 12.64912365952808, 12.649124311552306, 12.649125111301665, 12.649125533810237, 12.649125968725265, 12.649126413914708, 12.649126867157577, 6.324558121888561, 6.324561213669031, 12.64912257699605, 12.649122579056895, 12.64912248539035, 12.649122410068589, 7.730020397173932, 9.135479127856346, 9.838208612272766, 10.540938174853151, 11.243667814983175, 11.946397532200457, 12.649122598830878, 6.324561610709784, 8.432745877692255, 7.027287566308677, 6.324561994508942, 6.32455821392368, 6.324558071943745, 6.3245580719693315, 6.324558124681226, 6.324558234433559, 6.324558405813835, 6.324558205820624, 6.324558153796919, 6.3245581363659795, 6.32455835520256, 6.324558244324439, 6.324558176278847, 11.94639315801002, 7.730016429159192, 9.135475038005438, 9.838204455280469, 10.540933947724493, 11.243663515307828, 6.324558366757836, 8.432746302368725, 6.324559638775123, 7.0272877926185116, 6.324558947524035, 12.64912358454772, 6.324558895356384, 6.324561115971773, 6.324560383645316, 6.3245597792923345, 6.324559287541947, 12.649123330360432, 12.64912406173029, 12.649124541147982, 12.649125102274711, 12.64912574994507, 12.649126489365786, 6.324558643564209, 12.649123938081072, 12.649124703236708, 12.649122737490224, 12.649122570724568, 12.649122600982702, 12.649122635442428, 12.649122802731213, 12.64912268132899, 12.649123225983454, 12.649122936729219, 12.64912242168008, 12.64912245305582, 12.649122553280398, 12.649122713526252, 12.649127326150845, 7.027291153719384, 8.432749722437404, 9.838204486248186, 9.13547514473998, 7.7300166849514325, 10.54093390233233, 11.243663393080718, 11.94639295856208], \"marker\": {\"size\": 3}, \"y\": [-3.1622792613304966, -3.1622790978999267, -3.1622791856484342, -2.4595505047851676, -1.054093050014691, 3.1622793515573546, 3.1622797411303893, 3.162280865355108, -3.162280304097616, -0.35136455798100974, -1.7568221723822544, -3.162280623022405, -3.1622801439609773, -3.16227982072423, 0.35136438180417034, 1.0540934161481907, -3.1622807821257246, -3.1622804637206987, 3.1622793938493525, 3.1622792000430335, 3.16228091173273, 3.1622810526439316, -1.7568228497825604, -0.35136458993900094, 0.35136461072750574, 1.0540938617321522, 1.7568231648740464, 2.4595525214556035, 3.162279151329093, 1.7568225460342695, -2.45955153864443, -1.0540934675176599, -3.162280558162853, -3.1622805606359923, 3.1622811473328762, 3.1622813144854267, 3.1622814206417122, 3.162281537421379, 3.1622816626368326, 3.1622817946610327, -3.162280577112732, 2.459551769179733, -3.1622796815746352, -3.162279397946368, 3.1622810798370176, -3.1622791305919002, -3.162279089464967, -3.162279107337526, -3.1622791537257, -3.1622792309860968, -3.162279341601625, 0.3513643600123106, 1.7568217550317864, 2.4595504525829814, -1.7568217694863926, -0.3513643415559479, 1.0540930580400876, 3.162280680741771, 3.162279547841981, 3.162279932092721, 3.162280121215386, 3.162280308859418, 3.1622804952980714, 3.1622792797230557, -3.162279983004089, -1.054093407174319, -3.1622796562699285, -2.459550862466299, -3.1622809411107005, 3.162279546436536, 3.1622806470360567, 3.1622802855135945, 3.162279986378877, 3.1622797421385163, 3.16228097387119, 3.1622811489877463, 3.1622812639085023, 3.1622813984872873, 3.1622815538872335, 3.1622817313610034, -3.1622794881389042, -2.459551914802463, -1.0540937425376744, 1.75682271942478, -1.7568225030142361, -0.35136442966456766, 0.35136461280657827, 2.4595517868322627, 1.0540936619150407, -3.162280834326287, -3.1622807460049214, -3.1622805524602953, -3.162280583355888, -3.1622806213228687, -3.1622806752785255, 3.1622819322592464, 3.16228109681236, 3.1622812219632186, -3.162279974576229, -3.1622798271474264, -3.1622795383061066, -3.16228012352176, -3.162280273722495, -3.1622804249736705], \"x\": [-3.162279260466649, -1.0540930010422835, -2.4595504635918983, -3.162279213702446, -3.162279146403314, -3.1622792725050437, -3.162279656170679, -3.162280754344736, 3.162280260842276, 3.1622800601175167, 3.1622797238991724, 3.1622805895471644, 3.1622800962970885, 3.1622797659738793, 3.162280239834287, 3.162280424296816, 3.162280753856701, 3.162280425227616, -1.054093114569335, -2.4595504301850486, -2.459551743624674, -1.0540936735568411, 3.162281090698839, 3.1622812792357657, 3.1622813786885993, 3.1622814811166378, 3.162281586135085, 3.162281693341116, -3.1622790741535316, 3.1622806109637938, -3.1622806729339255, -3.1622806732596853, -2.459551620682653, -1.0540935522900468, 3.1622810532491124, 3.1622812161733846, 3.1622813178559137, 3.16228142903683, 3.1622815477535604, 3.162281672548095, -3.162280679365944, 3.162280797098425, -3.162279713885484, -3.1622794079097956, 3.1622809798154696, -1.7568217145719103, -0.3513643091889305, 0.35136437641780904, 1.054093072994984, 1.7568217997161064, 2.4595505778623723, -3.162279107224549, -3.1622790866924095, -3.1622790801260923, -3.162279175999943, -3.162279123859639, -3.162279095269766, -3.162280574565058, -3.1622794661270532, -3.1622798434465333, -3.162280028540651, -3.1622802118864497, -3.162280393810902, -1.7568217836582871, 3.162279931432555, 3.1622798874555627, 3.1622795994358035, 3.162279571225249, 3.16228091818914, -0.3513643997968233, 2.4595515271812354, 1.756822310785819, 1.054093278759951, 0.3513643875206834, -1.7568227202398556, -0.3513645921406656, 0.35136453631922604, 1.054093725091168, 1.756822988492415, 2.459552341990347, 3.1622794309310245, 3.162281002285868, 3.1622811831238966, -3.1622807169915217, -3.1622806710072897, -3.162280679348946, -3.1622806889176545, -3.1622807347121027, -3.1622807015937826, 2.4595517517349523, 1.7568226356514007, -1.7568225810359333, -0.351364525782023, 0.35136450771555056, 1.0540935580341813, 3.1622818023150616, 3.162281001445885, 3.162281126693962, -3.1622800298481644, -3.1622798708787134, -3.1622795593471555, -3.162280190431764, -3.162280352350595, -3.1622805153863838], \"mode\": \"markers\"}], {\"margin\": {\"b\": 0, \"l\": 0, \"r\": 0, \"t\": 0}}, {\"showLink\": true, \"linkText\": \"Export to plot.ly\"})});</script>"
      ],
      "text/plain": [
       "<IPython.core.display.HTML object>"
      ]
     },
     "metadata": {},
     "output_type": "display_data"
    }
   ],
   "source": [
    "points4d = cv2.triangulatePoints(Rt1, np.column_stack([R1, t2]), pixels_normal1[:2], pixels_normal2[:2])\n",
    "points4d /= points4d[-1]\n",
    "plot_points(points4d)"
   ]
  },
  {
   "cell_type": "code",
   "execution_count": 29,
   "metadata": {},
   "outputs": [
    {
     "data": {
      "text/html": [
       "<div id=\"696353a2-5478-4eaf-872b-8b802ac9d87b\" style=\"height: 525; width: 100%;\" class=\"plotly-graph-div\"></div><script type=\"text/javascript\">require([\"plotly\"], function(Plotly) { window.PLOTLYENV=window.PLOTLYENV || {};window.PLOTLYENV.BASE_URL=\"https://plot.ly\";Plotly.newPlot(\"696353a2-5478-4eaf-872b-8b802ac9d87b\", [{\"type\": \"scatter3d\", \"z\": [1.3949429461829024, 8.159182458149031, 1.9276344225919197, 1.5465454406822423, 1.976062701833913, 90.21749549458347, -10.109255654772136, -3.5428511346258613, -1.0904034485409746, -0.742303566589522, -0.8287667304193985, -1.131769148481574, -1.0664175254153578, -1.0098716722040466, -0.7055019380303257, -0.6721770150671302, -1.149728790840475, -1.1120813792589452, -1.9611924079907457, -8.796266468221644, -2.6225321630271403, -1.7258771951517662, -1.077847972739275, -1.0019563935812772, -0.9678819722845008, -0.9360489246793138, -0.9062431404903358, -0.8782769387772926, 11.845528344699378, -0.6418583453723925, -856.6364733021618, -13.997730518253183, -15.364930400736315, -3.7995666160900536, -0.6632671178942852, -0.7269699724253033, -0.7554752527794331, -0.7820516667670622, -0.8068885880761136, -0.8301513860044316, 29.438569806873566, -0.6141566927089511, 2.6636682972264616, 1.7232645128390869, -0.588747236197262, 3.118510253950404, -13.237434906140791, -3.6543300035770256, -2.11975508806967, -1.4928553745276893, -1.1521243099806455, 2.735894072819477, 4.445123346443576, 6.464423336550872, 1.735118206433535, 2.294714696738778, 3.3870929130446337, -3.835985315943635, -20.44252926942268, -7.080732879472359, -5.6340175863809305, -4.7864563981168375, -4.229694036512427, -3.207294819649922, -1.0397342964425984, -0.7831559176207659, -0.9762254000937493, -0.8800188145978104, -1.1661782739391775, -1.4124323312925549, -0.666481332971969, -0.7678648774627096, -0.9056266296866533, -1.1036270906695111, -2.0817582168069952, -1.473909253322589, -1.2861403144833001, -1.1408069976709745, -1.0249842105813625, -0.9305120517530806, -0.9380277513667193, -1.1202746762675309, -1.0385175501815271, -4.717298310984197, -27.545360543506675, -9.382927067819457, -7.056518186956293, -4.0465819144312, -5.654530345945561, -1.3184793343979837, -1.5165366503896895, -6.09252375590883, -2.760598960807072, -2.167821710985465, -1.7846152600127503, -0.8519851120332278, -0.6275244911875724, -0.6963179281330866, 4.36519030589827, 3.371257097238766, 2.1342635900635174, 5.863373777697672, 8.379960032197936, 13.487997128202949], \"marker\": {\"size\": 3}, \"y\": [-0.6974714732224827, -4.079591277629967, -0.9638172147480825, -0.6014343390087885, -0.3293437839784014, 40.59787418663968, -3.79097099659643, -0.885712824661402, 0.3504868330378981, 0.04123910024737664, 0.23021300032527925, 0.31831007987616283, 0.36914454039309264, 0.4131293379667052, -0.039194542585577336, -0.11202949694793925, 0.3043399794781668, 0.3336244222520314, -0.9805962343980282, -4.398133364515097, -0.6556330706431482, -0.431469317584512, 0.14970110977332837, 0.02783212232226992, -0.02688561130276608, -0.07800407935101626, -0.12586710655925, -0.1707760766408866, 5.922764341635169, -0.1782939834740415, 166.56819816111167, 1.166477453842761, 3.8412325234333737, 0.9498916414421755, -0.2713365547301435, -0.2516434581939612, -0.24283133746918018, -0.23461550633386097, -0.22693742183167095, -0.21974596171762392, -7.359642282766541, -0.23883871690773983, -0.9988756043338638, -0.7754690290873689, -0.2943736257861589, -1.559255138626701, 6.61871756503258, 1.8271650430161996, 1.059877574663695, 0.7464277141180734, 0.5760621802558882, 0.15199412175114302, 1.2347565172032613, 2.5139424763415, -0.4819772807040516, -0.1274841478773512, 0.5645155008563424, -1.015407922355564, -8.362853146210968, -2.451023006040993, -1.81093429161535, -1.4359369759874576, -1.1896014972816995, -1.6036474586827687, 0.3899003759142737, 0.13052600286863322, 0.4393014508233363, 0.3422295613637945, 0.2915445726311237, -0.7062161877014878, -0.33324067587007866, -0.3839324501063713, -0.452813328694681, -0.5518135624997593, -0.520439577453404, -0.3684773288928481, -0.32153509169882943, -0.2852017605036023, -0.256246062077546, -0.23262802095811358, 0.4690139003565903, 0.21783119041337473, 0.08654313059952572, -0.6551803646017539, 3.8257443538790024, 0.26063679843790005, -0.19601444716610233, -0.7868354140773587, -0.47121090916174496, 0.32961983650039534, 0.37913416401486705, 1.5231309134688464, 0.6901497336745026, 0.5419554248333606, 0.4461538145653922, -0.2129962847924309, -0.28238602796739865, -0.26111922932952186, -1.4030968667963255, -1.1669735992729442, -0.8731078282597519, -1.759012107066666, -2.3568637176305245, -3.57035210867123], \"x\": [-0.6974714730319527, -1.359863718455058, -0.7496356071626896, -0.7732727199356639, -0.9880313507976749, -40.597873171752816, 3.790970894745922, 0.8857127935688726, -0.3504868282437544, -0.3711517893518305, -0.414383376161207, -0.3183100765065991, -0.3691445348291124, -0.4131293308139621, -0.3527509729110611, -0.336088509533469, -0.3043399767575375, -0.3336244181909649, 0.326865406283206, 3.4207703129303444, 0.5099368168385681, 0.14382310440732735, -0.2694619942764401, -0.25048909850703494, -0.2419704927065979, -0.2340122303510303, -0.2265607838800072, -0.2195692330662202, -5.922764197089847, -0.32092917310526264, 214.1591202681688, 3.499432661096851, 2.9876253876468777, 0.3166305567830553, -0.2713365466573747, -0.2516434503706273, -0.24283132957626674, -0.23461549829261127, -0.2269374135872082, -0.2197459532320345, -7.359642520742605, -0.30707834555271796, -0.9988756145399558, -0.7754690315306477, -0.2943736164752516, -0.8662528426402661, 0.7354129914408614, -0.20301835611605365, -0.3532925321787176, -0.4146820645139479, -0.44804835856639497, -1.3679470382760026, -2.2225616801053243, -3.2322116804826537, -0.8675591027774465, -1.1473573489852573, -1.6935464603409447, 1.0154078882622353, 8.36285293011055, 2.4510229373330183, 1.8109342385435627, 1.4359369319537054, 1.1896014591037805, 0.890915235345334, -0.3899003695556464, -0.3915779672390896, -0.4393014429279839, -0.44000942086024275, -0.2915445705178845, 0.07846846658390882, -0.2591871831563636, -0.21329579710926497, -0.15093776906723191, -0.06131261312201825, 0.28913309150479466, 0.04094192776659365, -0.035726116362427576, -0.09506724679075376, -0.14235891551626867, -0.18093289667579932, -0.4690138918717963, -0.28006867064030017, -0.2596293881459344, 1.1793245899107978, 6.886340197561102, 2.3457317885432283, 1.764129563506885, 1.0116454894941158, 1.4136326004612167, -0.25637098307995687, -0.21063009099731997, 0.8461838658097858, 0.07668330734706383, -0.060217268437956, -0.14871793813315903, -0.21299627604000804, -0.2823860194513436, -0.261119221462848, -1.4030968913203647, -1.1669736154110666, -0.8731078340692019, -1.7590121442852247, -2.356863776232451, -3.5703522107511168], \"mode\": \"markers\"}], {\"margin\": {\"b\": 0, \"l\": 0, \"r\": 0, \"t\": 0}}, {\"showLink\": true, \"linkText\": \"Export to plot.ly\"})});</script>"
      ],
      "text/plain": [
       "<IPython.core.display.HTML object>"
      ]
     },
     "metadata": {},
     "output_type": "display_data"
    }
   ],
   "source": [
    "points4d = cv2.triangulatePoints(Rt1, np.column_stack([R2, t1]), pixels_normal1[:2], pixels_normal2[:2])\n",
    "points4d /= points4d[-1]\n",
    "plot_points(points4d)"
   ]
  },
  {
   "cell_type": "code",
   "execution_count": 30,
   "metadata": {},
   "outputs": [
    {
     "data": {
      "text/html": [
       "<div id=\"4dd687fc-7745-451c-b102-23a2cd6d279c\" style=\"height: 525; width: 100%;\" class=\"plotly-graph-div\"></div><script type=\"text/javascript\">require([\"plotly\"], function(Plotly) { window.PLOTLYENV=window.PLOTLYENV || {};window.PLOTLYENV.BASE_URL=\"https://plot.ly\";Plotly.newPlot(\"4dd687fc-7745-451c-b102-23a2cd6d279c\", [{\"type\": \"scatter3d\", \"z\": [-1.3949429461829024, -8.159182458149031, -1.9276344225919197, -1.5465454406822423, -1.976062701833913, -90.21749549458347, 10.109255654772136, 3.5428511346258613, 1.0904034485409746, 0.742303566589522, 0.8287667304193985, 1.131769148481574, 1.0664175254153578, 1.0098716722040466, 0.7055019380303257, 0.6721770150671302, 1.149728790840475, 1.1120813792589452, 1.9611924079907457, 8.796266468221644, 2.6225321630271403, 1.7258771951517662, 1.077847972739275, 1.0019563935812772, 0.9678819722845008, 0.9360489246793138, 0.9062431404903358, 0.8782769387772926, -11.845528344699378, 0.6418583453723925, 856.6364733021618, 13.997730518253183, 15.364930400736315, 3.7995666160900536, 0.6632671178942852, 0.7269699724253033, 0.7554752527794331, 0.7820516667670622, 0.8068885880761136, 0.8301513860044316, -29.438569806873566, 0.6141566927089511, -2.6636682972264616, -1.7232645128390869, 0.588747236197262, -3.118510253950404, 13.237434906140791, 3.6543300035770256, 2.11975508806967, 1.4928553745276893, 1.1521243099806455, -2.735894072819477, -4.445123346443576, -6.464423336550872, -1.735118206433535, -2.294714696738778, -3.3870929130446337, 3.835985315943635, 20.44252926942268, 7.080732879472359, 5.6340175863809305, 4.7864563981168375, 4.229694036512427, 3.207294819649922, 1.0397342964425984, 0.7831559176207659, 0.9762254000937493, 0.8800188145978104, 1.1661782739391775, 1.4124323312925549, 0.666481332971969, 0.7678648774627096, 0.9056266296866533, 1.1036270906695111, 2.0817582168069952, 1.473909253322589, 1.2861403144833001, 1.1408069976709745, 1.0249842105813625, 0.9305120517530806, 0.9380277513667193, 1.1202746762675309, 1.0385175501815271, 4.717298310984197, 27.545360543506675, 9.382927067819457, 7.056518186956293, 4.0465819144312, 5.654530345945561, 1.3184793343979837, 1.5165366503896895, 6.09252375590883, 2.760598960807072, 2.167821710985465, 1.7846152600127503, 0.8519851120332278, 0.6275244911875724, 0.6963179281330866, -4.36519030589827, -3.371257097238766, -2.1342635900635174, -5.863373777697672, -8.379960032197936, -13.487997128202949], \"marker\": {\"size\": 3}, \"y\": [0.6974714732224827, 4.079591277629967, 0.9638172147480825, 0.6014343390087885, 0.3293437839784014, -40.59787418663968, 3.79097099659643, 0.885712824661402, -0.3504868330378981, -0.04123910024737664, -0.23021300032527925, -0.31831007987616283, -0.36914454039309264, -0.4131293379667052, 0.039194542585577336, 0.11202949694793925, -0.3043399794781668, -0.3336244222520314, 0.9805962343980282, 4.398133364515097, 0.6556330706431482, 0.431469317584512, -0.14970110977332837, -0.02783212232226992, 0.02688561130276608, 0.07800407935101626, 0.12586710655925, 0.1707760766408866, -5.922764341635169, 0.1782939834740415, -166.56819816111167, -1.166477453842761, -3.8412325234333737, -0.9498916414421755, 0.2713365547301435, 0.2516434581939612, 0.24283133746918018, 0.23461550633386097, 0.22693742183167095, 0.21974596171762392, 7.359642282766541, 0.23883871690773983, 0.9988756043338638, 0.7754690290873689, 0.2943736257861589, 1.559255138626701, -6.61871756503258, -1.8271650430161996, -1.059877574663695, -0.7464277141180734, -0.5760621802558882, -0.15199412175114302, -1.2347565172032613, -2.5139424763415, 0.4819772807040516, 0.1274841478773512, -0.5645155008563424, 1.015407922355564, 8.362853146210968, 2.451023006040993, 1.81093429161535, 1.4359369759874576, 1.1896014972816995, 1.6036474586827687, -0.3899003759142737, -0.13052600286863322, -0.4393014508233363, -0.3422295613637945, -0.2915445726311237, 0.7062161877014878, 0.33324067587007866, 0.3839324501063713, 0.452813328694681, 0.5518135624997593, 0.520439577453404, 0.3684773288928481, 0.32153509169882943, 0.2852017605036023, 0.256246062077546, 0.23262802095811358, -0.4690139003565903, -0.21783119041337473, -0.08654313059952572, 0.6551803646017539, -3.8257443538790024, -0.26063679843790005, 0.19601444716610233, 0.7868354140773587, 0.47121090916174496, -0.32961983650039534, -0.37913416401486705, -1.5231309134688464, -0.6901497336745026, -0.5419554248333606, -0.4461538145653922, 0.2129962847924309, 0.28238602796739865, 0.26111922932952186, 1.4030968667963255, 1.1669735992729442, 0.8731078282597519, 1.759012107066666, 2.3568637176305245, 3.57035210867123], \"x\": [0.6974714730319527, 1.359863718455058, 0.7496356071626896, 0.7732727199356639, 0.9880313507976749, 40.597873171752816, -3.790970894745922, -0.8857127935688726, 0.3504868282437544, 0.3711517893518305, 0.414383376161207, 0.3183100765065991, 0.3691445348291124, 0.4131293308139621, 0.3527509729110611, 0.336088509533469, 0.3043399767575375, 0.3336244181909649, -0.326865406283206, -3.4207703129303444, -0.5099368168385681, -0.14382310440732735, 0.2694619942764401, 0.25048909850703494, 0.2419704927065979, 0.2340122303510303, 0.2265607838800072, 0.2195692330662202, 5.922764197089847, 0.32092917310526264, -214.1591202681688, -3.499432661096851, -2.9876253876468777, -0.3166305567830553, 0.2713365466573747, 0.2516434503706273, 0.24283132957626674, 0.23461549829261127, 0.2269374135872082, 0.2197459532320345, 7.359642520742605, 0.30707834555271796, 0.9988756145399558, 0.7754690315306477, 0.2943736164752516, 0.8662528426402661, -0.7354129914408614, 0.20301835611605365, 0.3532925321787176, 0.4146820645139479, 0.44804835856639497, 1.3679470382760026, 2.2225616801053243, 3.2322116804826537, 0.8675591027774465, 1.1473573489852573, 1.6935464603409447, -1.0154078882622353, -8.36285293011055, -2.4510229373330183, -1.8109342385435627, -1.4359369319537054, -1.1896014591037805, -0.890915235345334, 0.3899003695556464, 0.3915779672390896, 0.4393014429279839, 0.44000942086024275, 0.2915445705178845, -0.07846846658390882, 0.2591871831563636, 0.21329579710926497, 0.15093776906723191, 0.06131261312201825, -0.28913309150479466, -0.04094192776659365, 0.035726116362427576, 0.09506724679075376, 0.14235891551626867, 0.18093289667579932, 0.4690138918717963, 0.28006867064030017, 0.2596293881459344, -1.1793245899107978, -6.886340197561102, -2.3457317885432283, -1.764129563506885, -1.0116454894941158, -1.4136326004612167, 0.25637098307995687, 0.21063009099731997, -0.8461838658097858, -0.07668330734706383, 0.060217268437956, 0.14871793813315903, 0.21299627604000804, 0.2823860194513436, 0.261119221462848, 1.4030968913203647, 1.1669736154110666, 0.8731078340692019, 1.7590121442852247, 2.356863776232451, 3.5703522107511168], \"mode\": \"markers\"}], {\"margin\": {\"b\": 0, \"l\": 0, \"r\": 0, \"t\": 0}}, {\"showLink\": true, \"linkText\": \"Export to plot.ly\"})});</script>"
      ],
      "text/plain": [
       "<IPython.core.display.HTML object>"
      ]
     },
     "metadata": {},
     "output_type": "display_data"
    }
   ],
   "source": [
    "points4d = cv2.triangulatePoints(Rt1, np.column_stack([R2, t2]), pixels_normal1[:2], pixels_normal2[:2])\n",
    "points4d /= points4d[-1]\n",
    "plot_points(points4d)"
   ]
  },
  {
   "cell_type": "markdown",
   "metadata": {},
   "source": [
    "`recoverPose()`可以通过Essential矩阵、两组像素坐标以及照相机矩阵找到正确的旋转矩阵和偏移向量。"
   ]
  },
  {
   "cell_type": "code",
   "execution_count": 53,
   "metadata": {},
   "outputs": [
    {
     "data": {
      "text/plain": [
       "(array([[  9.39692641e-01,   3.09363385e-09,   3.42020088e-01],\n",
       "        [  1.48665629e-08,   1.00000000e+00,  -4.98907351e-08],\n",
       "        [ -3.42020088e-01,   5.19666197e-08,   9.39692641e-01]]),\n",
       " array([[ -9.48683361e-01],\n",
       "        [ -3.16227577e-01],\n",
       "        [  2.42164877e-07]]))"
      ]
     },
     "execution_count": 53,
     "metadata": {},
     "output_type": "execute_result"
    }
   ],
   "source": [
    "ret, R, t, mask = cv2.recoverPose(E, pixels1[:2].T, pixels2[:2].T, A1)\n",
    "R, t"
   ]
  }
 ],
 "metadata": {
  "anaconda-cloud": {},
  "kernelspec": {
   "display_name": "Python [default]",
   "language": "python",
   "name": "python3"
  },
  "language_info": {
   "codemirror_mode": {
    "name": "ipython",
    "version": 3
   },
   "file_extension": ".py",
   "mimetype": "text/x-python",
   "name": "python",
   "nbconvert_exporter": "python",
   "pygments_lexer": "ipython3",
   "version": "3.5.2"
  }
 },
 "nbformat": 4,
 "nbformat_minor": 2
}
