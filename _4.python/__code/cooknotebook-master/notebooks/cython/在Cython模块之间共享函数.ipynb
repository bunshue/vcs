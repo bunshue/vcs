{
 "cells": [
  {
   "cell_type": "markdown",
   "metadata": {},
   "source": [
    "# 在Cython模块之间共享函数"
   ]
  },
  {
   "cell_type": "markdown",
   "metadata": {},
   "source": [
    "## 使用pxd文件声明输出的函数"
   ]
  },
  {
   "cell_type": "code",
   "execution_count": 1,
   "metadata": {
    "collapsed": true
   },
   "outputs": [],
   "source": [
    "%load_ext cython"
   ]
  },
  {
   "cell_type": "markdown",
   "metadata": {},
   "source": [
    "当存在与`pyx`文件同名的`pxd`文件时，在`pxd`文件中定义的`cdef`函数将能在其它的Cython模块中调用。"
   ]
  },
  {
   "cell_type": "code",
   "execution_count": 2,
   "metadata": {},
   "outputs": [
    {
     "name": "stdout",
     "output_type": "stream",
     "text": [
      "Writing funclib.pxd\n"
     ]
    }
   ],
   "source": [
    "%%file funclib.pxd\n",
    "\n",
    "cdef double add(double a, double b)"
   ]
  },
  {
   "cell_type": "code",
   "execution_count": 3,
   "metadata": {},
   "outputs": [
    {
     "name": "stdout",
     "output_type": "stream",
     "text": [
      "Writing funclib.pyx\n"
     ]
    }
   ],
   "source": [
    "%%file funclib.pyx\n",
    "from libc.stdint cimport uintptr_t\n",
    "\n",
    "cdef double add(double a, double b):\n",
    "    return a + b\n",
    "\n",
    "def address_of_add():\n",
    "    return <uintptr_t> add"
   ]
  },
  {
   "cell_type": "markdown",
   "metadata": {},
   "source": [
    "调用`cythonize`系统命令编译`funclib`模块："
   ]
  },
  {
   "cell_type": "code",
   "execution_count": 4,
   "metadata": {},
   "outputs": [
    {
     "name": "stdout",
     "output_type": "stream",
     "text": [
      "Compiling C:\\Users\\RY\\Documents\\notebooks\\cooknotebook\\notebooks\\cython\\funclib.pyx because it changed.\n",
      "[1/1] Cythonizing C:\\Users\\RY\\Documents\\notebooks\\cooknotebook\\notebooks\\cython\\funclib.pyx\n",
      "running build_ext\n",
      "building 'funclib' extension\n",
      "creating build\n",
      "creating build\\temp.win-amd64-3.5\n",
      "creating build\\temp.win-amd64-3.5\\Release\n",
      "creating build\\temp.win-amd64-3.5\\Release\\Users\n",
      "creating build\\temp.win-amd64-3.5\\Release\\Users\\RY\n",
      "creating build\\temp.win-amd64-3.5\\Release\\Users\\RY\\Documents\n",
      "creating build\\temp.win-amd64-3.5\\Release\\Users\\RY\\Documents\\notebooks\n",
      "creating build\\temp.win-amd64-3.5\\Release\\Users\\RY\\Documents\\notebooks\\cooknotebook\n",
      "creating build\\temp.win-amd64-3.5\\Release\\Users\\RY\\Documents\\notebooks\\cooknotebook\\notebooks\n",
      "creating build\\temp.win-amd64-3.5\\Release\\Users\\RY\\Documents\\notebooks\\cooknotebook\\notebooks\\cython\n",
      "C:\\Program Files (x86)\\Microsoft Visual Studio 14.0\\VC\\BIN\\x86_amd64\\cl.exe /c /nologo /Ox /W3 /GL /DNDEBUG /MD -IC:\\Anaconda3\\include -IC:\\Anaconda3\\include \"-IC:\\Program Files (x86)\\Microsoft Visual Studio 14.0\\VC\\INCLUDE\" \"-IC:\\Program Files (x86)\\Microsoft Visual Studio 14.0\\VC\\ATLMFC\\INCLUDE\" \"-IC:\\Program Files (x86)\\Windows Kits\\10\\include\\10.0.15063.0\\ucrt\" \"-IC:\\Program Files (x86)\\Windows Kits\\NETFXSDK\\4.6.1\\include\\um\" \"-IC:\\Program Files (x86)\\Windows Kits\\8.1\\include\\\\shared\" \"-IC:\\Program Files (x86)\\Windows Kits\\8.1\\include\\\\um\" \"-IC:\\Program Files (x86)\\Windows Kits\\8.1\\include\\\\winrt\" /TcC:\\Users\\RY\\Documents\\notebooks\\cooknotebook\\notebooks\\cython\\funclib.c /Fobuild\\temp.win-amd64-3.5\\Release\\Users\\RY\\Documents\\notebooks\\cooknotebook\\notebooks\\cython\\funclib.obj\n",
      "funclib.c\n",
      "C:\\Program Files (x86)\\Microsoft Visual Studio 14.0\\VC\\BIN\\x86_amd64\\link.exe /nologo /INCREMENTAL:NO /LTCG /DLL /MANIFEST:EMBED,ID=2 /MANIFESTUAC:NO /LIBPATH:C:\\Anaconda3\\libs /LIBPATH:C:\\Anaconda3\\PCbuild\\amd64 \"/LIBPATH:C:\\Program Files (x86)\\Microsoft Visual Studio 14.0\\VC\\LIB\\amd64\" \"/LIBPATH:C:\\Program Files (x86)\\Microsoft Visual Studio 14.0\\VC\\ATLMFC\\LIB\\amd64\" \"/LIBPATH:C:\\Program Files (x86)\\Windows Kits\\10\\lib\\10.0.15063.0\\ucrt\\x64\" \"/LIBPATH:C:\\Program Files (x86)\\Windows Kits\\NETFXSDK\\4.6.1\\lib\\um\\x64\" \"/LIBPATH:C:\\Program Files (x86)\\Windows Kits\\8.1\\lib\\winv6.3\\um\\x64\" /EXPORT:PyInit_funclib build\\temp.win-amd64-3.5\\Release\\Users\\RY\\Documents\\notebooks\\cooknotebook\\notebooks\\cython\\funclib.obj /OUT:C:\\Users\\RY\\Documents\\notebooks\\cooknotebook\\notebooks\\cython\\funclib.cp35-win_amd64.pyd /IMPLIB:build\\temp.win-amd64-3.5\\Release\\Users\\RY\\Documents\\notebooks\\cooknotebook\\notebooks\\cython\\funclib.cp35-win_amd64.lib\n",
      "funclib.obj : warning LNK4197: 多次指定导出“PyInit_funclib”；使用第一个规范\n",
      "  正在创建库 build\\temp.win-amd64-3.5\\Release\\Users\\RY\\Documents\\notebooks\\cooknotebook\\notebooks\\cython\\funclib.cp35-win_amd64.lib 和对象 build\\temp.win-amd64-3.5\\Release\\Users\\RY\\Documents\\notebooks\\cooknotebook\\notebooks\\cython\\funclib.cp35-win_amd64.exp\n",
      "正在生成代码\n",
      "已完成代码的生成\n"
     ]
    }
   ],
   "source": [
    "!cythonize -b funclib.pyx"
   ]
  },
  {
   "cell_type": "markdown",
   "metadata": {},
   "source": [
    "Cython模块通过`__pyx_capi__`输出`pxd`中定义的`cdef`函数："
   ]
  },
  {
   "cell_type": "code",
   "execution_count": 5,
   "metadata": {},
   "outputs": [
    {
     "data": {
      "text/plain": [
       "{'add': <capsule object \"double (double, double)\" at 0x000001FE4A02E9C0>}"
      ]
     },
     "execution_count": 5,
     "metadata": {},
     "output_type": "execute_result"
    }
   ],
   "source": [
    "import funclib\n",
    "funclib.__pyx_capi__"
   ]
  },
  {
   "cell_type": "markdown",
   "metadata": {},
   "source": [
    "`PyCapsule`对象用于包装C语言的指针："
   ]
  },
  {
   "cell_type": "code",
   "execution_count": 6,
   "metadata": {},
   "outputs": [
    {
     "data": {
      "text/plain": [
       "PyCapsule"
      ]
     },
     "execution_count": 6,
     "metadata": {},
     "output_type": "execute_result"
    }
   ],
   "source": [
    "add_capsule = funclib.__pyx_capi__[\"add\"]\n",
    "type(add_capsule)"
   ]
  },
  {
   "cell_type": "markdown",
   "metadata": {},
   "source": [
    "## 调用Python API查看函数的地址"
   ]
  },
  {
   "cell_type": "markdown",
   "metadata": {},
   "source": [
    "可以通过`ctypes`模块中提供的Python API函数获取`PyCapsule`对象包装的指针的值。下面调用`PyCapsule_GetName()`获取`PyCapsule`对象的名字，然后调用`PyCapsule_GetPointer()`获取其包装的指针，并与`address_of_add()`的返回值比较："
   ]
  },
  {
   "cell_type": "code",
   "execution_count": 7,
   "metadata": {},
   "outputs": [
    {
     "data": {
      "text/plain": [
       "True"
      ]
     },
     "execution_count": 7,
     "metadata": {},
     "output_type": "execute_result"
    }
   ],
   "source": [
    "import ctypes\n",
    "from ctypes import pythonapi\n",
    "\n",
    "pythonapi.PyCapsule_GetName.restype = ctypes.c_char_p\n",
    "pythonapi.PyCapsule_GetName.argtypes = [ctypes.py_object]\n",
    "\n",
    "pythonapi.PyCapsule_GetPointer.restype = ctypes.c_void_p\n",
    "pythonapi.PyCapsule_GetPointer.argtypes = [ctypes.py_object, ctypes.c_char_p]\n",
    "\n",
    "name = pythonapi.PyCapsule_GetName(add_capsule)\n",
    "addr = pythonapi.PyCapsule_GetPointer(add_capsule, name)\n",
    "addr == funclib.address_of_add()"
   ]
  },
  {
   "cell_type": "markdown",
   "metadata": {},
   "source": [
    "## 使用cimport从pxd文件中载入函数"
   ]
  },
  {
   "cell_type": "markdown",
   "metadata": {},
   "source": [
    "下面的`funcall.pyx`模块从`funclib.pxd`载入`add`："
   ]
  },
  {
   "cell_type": "code",
   "execution_count": 8,
   "metadata": {},
   "outputs": [
    {
     "name": "stdout",
     "output_type": "stream",
     "text": [
      "Writing funcall.pyx\n"
     ]
    }
   ],
   "source": [
    "%%file funcall.pyx\n",
    "from libc.stdint cimport uintptr_t\n",
    "from funclib cimport add\n",
    "\n",
    "def add_list(list a, list b):\n",
    "    cdef list r\n",
    "    r = []\n",
    "    for v1, v2 in zip(a, b):\n",
    "        r.append(add(v1, v2))\n",
    "    return r\n",
    "\n",
    "def address_of_add():\n",
    "    return <uintptr_t>add"
   ]
  },
  {
   "cell_type": "code",
   "execution_count": 9,
   "metadata": {},
   "outputs": [
    {
     "name": "stdout",
     "output_type": "stream",
     "text": [
      "Compiling C:\\Users\\RY\\Documents\\notebooks\\cooknotebook\\notebooks\\cython\\funcall.pyx because it changed.\n",
      "[1/1] Cythonizing C:\\Users\\RY\\Documents\\notebooks\\cooknotebook\\notebooks\\cython\\funcall.pyx\n",
      "running build_ext\n",
      "building 'funcall' extension\n",
      "C:\\Program Files (x86)\\Microsoft Visual Studio 14.0\\VC\\BIN\\x86_amd64\\cl.exe /c /nologo /Ox /W3 /GL /DNDEBUG /MD -IC:\\Anaconda3\\include -IC:\\Anaconda3\\include \"-IC:\\Program Files (x86)\\Microsoft Visual Studio 14.0\\VC\\INCLUDE\" \"-IC:\\Program Files (x86)\\Microsoft Visual Studio 14.0\\VC\\ATLMFC\\INCLUDE\" \"-IC:\\Program Files (x86)\\Windows Kits\\10\\include\\10.0.15063.0\\ucrt\" \"-IC:\\Program Files (x86)\\Windows Kits\\NETFXSDK\\4.6.1\\include\\um\" \"-IC:\\Program Files (x86)\\Windows Kits\\8.1\\include\\\\shared\" \"-IC:\\Program Files (x86)\\Windows Kits\\8.1\\include\\\\um\" \"-IC:\\Program Files (x86)\\Windows Kits\\8.1\\include\\\\winrt\" /TcC:\\Users\\RY\\Documents\\notebooks\\cooknotebook\\notebooks\\cython\\funcall.c /Fobuild\\temp.win-amd64-3.5\\Release\\Users\\RY\\Documents\\notebooks\\cooknotebook\\notebooks\\cython\\funcall.obj\n",
      "funcall.c\n",
      "C:\\Program Files (x86)\\Microsoft Visual Studio 14.0\\VC\\BIN\\x86_amd64\\link.exe /nologo /INCREMENTAL:NO /LTCG /DLL /MANIFEST:EMBED,ID=2 /MANIFESTUAC:NO /LIBPATH:C:\\Anaconda3\\libs /LIBPATH:C:\\Anaconda3\\PCbuild\\amd64 \"/LIBPATH:C:\\Program Files (x86)\\Microsoft Visual Studio 14.0\\VC\\LIB\\amd64\" \"/LIBPATH:C:\\Program Files (x86)\\Microsoft Visual Studio 14.0\\VC\\ATLMFC\\LIB\\amd64\" \"/LIBPATH:C:\\Program Files (x86)\\Windows Kits\\10\\lib\\10.0.15063.0\\ucrt\\x64\" \"/LIBPATH:C:\\Program Files (x86)\\Windows Kits\\NETFXSDK\\4.6.1\\lib\\um\\x64\" \"/LIBPATH:C:\\Program Files (x86)\\Windows Kits\\8.1\\lib\\winv6.3\\um\\x64\" /EXPORT:PyInit_funcall build\\temp.win-amd64-3.5\\Release\\Users\\RY\\Documents\\notebooks\\cooknotebook\\notebooks\\cython\\funcall.obj /OUT:C:\\Users\\RY\\Documents\\notebooks\\cooknotebook\\notebooks\\cython\\funcall.cp35-win_amd64.pyd /IMPLIB:build\\temp.win-amd64-3.5\\Release\\Users\\RY\\Documents\\notebooks\\cooknotebook\\notebooks\\cython\\funcall.cp35-win_amd64.lib\n",
      "funcall.obj : warning LNK4197: 多次指定导出“PyInit_funcall”；使用第一个规范\n",
      "  正在创建库 build\\temp.win-amd64-3.5\\Release\\Users\\RY\\Documents\\notebooks\\cooknotebook\\notebooks\\cython\\funcall.cp35-win_amd64.lib 和对象 build\\temp.win-amd64-3.5\\Release\\Users\\RY\\Documents\\notebooks\\cooknotebook\\notebooks\\cython\\funcall.cp35-win_amd64.exp\n",
      "正在生成代码\n",
      "已完成代码的生成\n"
     ]
    }
   ],
   "source": [
    "!cythonize -b funcall.pyx"
   ]
  },
  {
   "cell_type": "markdown",
   "metadata": {},
   "source": [
    "下面比较`funcall`和`funclib`模块中的`add()`函数的地址，它们的地址相同。如果单独载入`funcall`模块，它会自动载入`funclib`模块，并使用其中的`__pyx_capi__`字典初始化指向其中的函数的全局函数指针变量。这段初始化程序可以在`funcall.c`中找到。"
   ]
  },
  {
   "cell_type": "code",
   "execution_count": 10,
   "metadata": {},
   "outputs": [
    {
     "data": {
      "text/plain": [
       "True"
      ]
     },
     "execution_count": 10,
     "metadata": {},
     "output_type": "execute_result"
    }
   ],
   "source": [
    "import funcall\n",
    "funcall.address_of_add() == funclib.address_of_add()"
   ]
  },
  {
   "cell_type": "markdown",
   "metadata": {},
   "source": [
    "## 在Cython中调用BLAS和LAPACK函数"
   ]
  },
  {
   "cell_type": "markdown",
   "metadata": {},
   "source": [
    "在SciPy 0.16中，使用上述方法提供了BLAS和LAPACK函数库，可以在Cython中调用其中的函数："
   ]
  },
  {
   "cell_type": "code",
   "execution_count": 13,
   "metadata": {},
   "outputs": [],
   "source": [
    "%%cython\n",
    "from libc.stdint cimport uintptr_t\n",
    "from scipy.linalg.cython_blas cimport dasum\n",
    "\n",
    "def abs_sum(double[:] a):\n",
    "    cdef int length, step\n",
    "    length = a.shape[0]\n",
    "    step = a.strides[0] // sizeof(double)\n",
    "    return dasum(&length, &a[0], &step)\n",
    "\n",
    "def addressof_dasum():\n",
    "    return <uintptr_t>dasum"
   ]
  },
  {
   "cell_type": "code",
   "execution_count": 15,
   "metadata": {},
   "outputs": [
    {
     "name": "stdout",
     "output_type": "stream",
     "text": [
      "5.212678392237983 5.21267839224\n",
      "1.987684796015655 1.98768479602\n"
     ]
    }
   ],
   "source": [
    "import numpy as np\n",
    "\n",
    "a = np.random.rand(10)\n",
    "\n",
    "print(abs_sum(a), np.sum(np.abs(a)))\n",
    "print(abs_sum(a[::2]), np.sum(np.abs(a[::2])))"
   ]
  },
  {
   "cell_type": "markdown",
   "metadata": {},
   "source": [
    "下面显示`cython_blas`中的所有函数。如果读者需要提高计算速度，可以参考[BLAS的文档](https://software.intel.com/en-us/mkl-developer-reference-fortran-blas-routines)，在Cython中调用这些函数。"
   ]
  },
  {
   "cell_type": "code",
   "execution_count": 22,
   "metadata": {},
   "outputs": [
    {
     "name": "stdout",
     "output_type": "stream",
     "text": [
      "['zdscal', 'strsm', 'ssyr', 'strsv', 'dcabs1', 'strmv', 'ctpmv', 'ccopy', 'zgemv', 'sscal', 'stbmv', 'zsymm', 'stpmv', 'chpr', 'sger', 'ssyr2k', 'zdotu', 'dtrmm', 'cdotc', 'dswap', 'dsyr2', 'chpr2', 'dspr2', 'zhpmv', 'csyr2k', 'dtbmv', 'srot', 'zhpr', 'drotm', 'dtrsm', 'chemv', 'dtpmv', 'dspmv', 'ctrsv', 'srotg', 'drotg', 'csymm', 'stpsv', 'srotmg', 'sspr', 'sasum', 'ssymv', 'zher2k', 'ctpsv', 'dsyr2k', 'cswap', 'zgeru', 'zher2', 'zswap', 'sspmv', 'dgemv', 'zgemm', 'zsyr2k', 'cher', 'csrot', 'cgbmv', 'cgemm', 'dcopy', 'zgbmv', 'sspr2', 'ctrsm', 'sgemv', 'zdrot', 'icamax', 'saxpy', 'ztrsv', 'zher', 'ssymm', 'ssbmv', 'drotmg', 'zhbmv', 'cscal', 'drot', 'dtpsv', 'stbsv', 'cgeru', 'ctbmv', 'zsyrk', 'ztbsv', 'sswap', 'ztrsm', 'daxpy', 'dtrsv', 'dsdot', 'ztpmv', 'ztbmv', 'dtbsv', 'ddot', 'dscal', 'ztrmm', 'dger', 'dsbmv', 'lsame', 'zgerc', 'zhemv', 'ctbsv', 'zrotg', 'isamax', 'ssyrk', 'ctrmv', 'chbmv', 'idamax', 'cgerc', 'chpmv', 'sdot', 'cgemv', 'cher2', 'chemm', 'dgemm', 'ctrmm', 'dtrmv', 'dgbmv', 'zhemm', 'cher2k', 'zhpr2', 'zscal', 'ztpsv', 'cherk', 'dsymm', 'scopy', 'zcopy', 'sdsdot', 'sgbmv', 'dsymv', 'dzasum', 'strmm', 'izamax', 'sgemm', 'dspr', 'cdotu', 'dsyrk', 'csyrk', 'srotm', 'crotg', 'ztrmv', 'zaxpy', 'caxpy', 'dasum', 'snrm2', 'dnrm2', 'zherk', 'zdotc', 'csscal', 'scasum', 'scnrm2', 'ssyr2', 'dsyr', 'dznrm2']\n"
     ]
    }
   ],
   "source": [
    "from scipy.linalg import cython_blas as blas\n",
    "\n",
    "print(list(blas.__pyx_capi__.keys()))"
   ]
  }
 ],
 "metadata": {
  "kernelspec": {
   "display_name": "Python [default]",
   "language": "python",
   "name": "python3"
  },
  "language_info": {
   "codemirror_mode": {
    "name": "ipython",
    "version": 3
   },
   "file_extension": ".py",
   "mimetype": "text/x-python",
   "name": "python",
   "nbconvert_exporter": "python",
   "pygments_lexer": "ipython3",
   "version": "3.5.2"
  },
  "toc": {
   "toc_cell": false,
   "toc_number_sections": true,
   "toc_threshold": 4,
   "toc_window_display": true
  }
 },
 "nbformat": 4,
 "nbformat_minor": 1
}
