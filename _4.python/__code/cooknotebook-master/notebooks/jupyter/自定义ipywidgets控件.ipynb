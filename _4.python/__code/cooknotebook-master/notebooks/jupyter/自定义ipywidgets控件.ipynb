{
 "cells": [
  {
   "cell_type": "markdown",
   "metadata": {},
   "source": [
    "# 自定义ipywidgets控件"
   ]
  },
  {
   "cell_type": "code",
   "execution_count": 1,
   "metadata": {},
   "outputs": [
    {
     "data": {
      "application/javascript": [
       "require([\"./gauge.min.js\"], function(){\n",
       "    \n",
       "});"
      ],
      "text/plain": [
       "<IPython.core.display.Javascript object>"
      ]
     },
     "metadata": {},
     "output_type": "display_data"
    }
   ],
   "source": [
    "%%javascript\n",
    "require([\"./gauge.min.js\"], function(){\n",
    "    \n",
    "});"
   ]
  },
  {
   "cell_type": "code",
   "execution_count": 2,
   "metadata": {
    "collapsed": true
   },
   "outputs": [],
   "source": [
    "import ipywidgets as widgets\n",
    "from traitlets import Float, Unicode, Int"
   ]
  },
  {
   "cell_type": "code",
   "execution_count": 3,
   "metadata": {
    "collapsed": true
   },
   "outputs": [],
   "source": [
    "class GuageWidget(widgets.DOMWidget):\n",
    "    _view_module = Unicode('guage').tag(sync=True)    \n",
    "    _view_name = Unicode('GuageView').tag(sync=True)\n",
    "    size = Int(300).tag(sync=True)\n",
    "    title = Unicode().tag(sync=True)\n",
    "    unit = Unicode().tag(sync=True)\n",
    "    value = Float().tag(sync=True)"
   ]
  },
  {
   "cell_type": "code",
   "execution_count": 4,
   "metadata": {},
   "outputs": [
    {
     "data": {
      "application/javascript": [
       "require.undef(\"guage\");\n",
       "define('guage', [\"jupyter-js-widgets\"], function(widgets){\n",
       "    var GuageView = widgets.DOMWidgetView.extend({\n",
       "        render: function(){\n",
       "            var size = this.model.get('size');\n",
       "            console.log(\"render\");\n",
       "            this.$canvas = $('<canvas></canvas>').appendTo(this.$el);\n",
       "            \n",
       "            this.$canvas.attr('width', size);\n",
       "            this.$canvas.attr('height', size);\n",
       "            console.log(this.$canvas[0]);\n",
       "            var gauge = new Gauge({\n",
       "                renderTo  : this.$canvas[0],\n",
       "                width     : size,\n",
       "                height    : size,\n",
       "                glow      : true,\n",
       "                units     : this.model.get('unit'),\n",
       "                title     : this.model.get('title')\n",
       "            });\n",
       "            this.gauge = gauge;\n",
       "            setTimeout(function(){gauge.draw();}, 100);            \n",
       "        },\n",
       "        \n",
       "        update: function(){\n",
       "            console.log(\"update\");\n",
       "            this.gauge.setValue(this.model.get('value'));\n",
       "            return GuageView.__super__.update.apply(this);             \n",
       "        }\n",
       "    });\n",
       "    \n",
       "    return {GuageView: GuageView};\n",
       "});"
      ],
      "text/plain": [
       "<IPython.core.display.Javascript object>"
      ]
     },
     "metadata": {},
     "output_type": "display_data"
    }
   ],
   "source": [
    "%%javascript\n",
    "require.undef(\"guage\");\n",
    "define('guage', [\"jupyter-js-widgets\"], function(widgets){\n",
    "    var GuageView = widgets.DOMWidgetView.extend({\n",
    "        render: function(){\n",
    "            var size = this.model.get('size');\n",
    "            console.log(\"render\");\n",
    "            this.$canvas = $('<canvas></canvas>').appendTo(this.$el);\n",
    "            \n",
    "            this.$canvas.attr('width', size);\n",
    "            this.$canvas.attr('height', size);\n",
    "            console.log(this.$canvas[0]);\n",
    "            var gauge = new Gauge({\n",
    "                renderTo  : this.$canvas[0],\n",
    "                width     : size,\n",
    "                height    : size,\n",
    "                glow      : true,\n",
    "                units     : this.model.get('unit'),\n",
    "                title     : this.model.get('title')\n",
    "            });\n",
    "            this.gauge = gauge;\n",
    "            setTimeout(function(){gauge.draw();}, 100);            \n",
    "        },\n",
    "        \n",
    "        update: function(){\n",
    "            console.log(\"update\");\n",
    "            this.gauge.setValue(this.model.get('value'));\n",
    "            return GuageView.__super__.update.apply(this);             \n",
    "        }\n",
    "    });\n",
    "    \n",
    "    return {GuageView: GuageView};\n",
    "});"
   ]
  },
  {
   "cell_type": "code",
   "execution_count": 5,
   "metadata": {},
   "outputs": [
    {
     "data": {
      "application/vnd.jupyter.widget-view+json": {
       "model_id": "a8f89f2caaa14bee899a0b28df2ac535"
      }
     },
     "metadata": {},
     "output_type": "display_data"
    }
   ],
   "source": [
    "guage = GuageWidget(title=\"Velocity\", size=300)\n",
    "guage"
   ]
  },
  {
   "cell_type": "code",
   "execution_count": 26,
   "metadata": {
    "collapsed": true
   },
   "outputs": [],
   "source": [
    "from IPython.core.magic import register_cell_magic, register_line_cell_magic\n",
    "    \n",
    "@register_line_cell_magic\n",
    "def cell_call(*args):\n",
    "    shell = get_ipython()\n",
    "    global_name = \"_registered_cells\"\n",
    "    if len(args) == 2:\n",
    "        line, cell = args\n",
    "    else:\n",
    "        line, = args\n",
    "        cell = None\n",
    "\n",
    "    name = line.strip()\n",
    "    if cell:\n",
    "        cells = shell.user_ns.get(global_name, {})\n",
    "        if not cells:\n",
    "            shell.user_ns[global_name] = cells\n",
    "        cells[name] = cell\n",
    "    else:\n",
    "        cell = shell.user_ns.get(global_name, {}).get(name, None)\n",
    "        if cell is not None:\n",
    "            shell.run_cell(cell)"
   ]
  },
  {
   "cell_type": "code",
   "execution_count": 6,
   "metadata": {
    "collapsed": true
   },
   "outputs": [],
   "source": [
    "%load_ext py2js"
   ]
  },
  {
   "cell_type": "code",
   "execution_count": 7,
   "metadata": {},
   "outputs": [
    {
     "data": {
      "application/javascript": [
       "(function(){var _pymeth_extend = function (x) { // nargs: 1\n",
       "    if (!Array.isArray(this)) return this.extend.apply(this, arguments);\n",
       "    this.push.apply(this, x);   \n",
       "};\n",
       "var _pymeth_get = function (key, d) { // nargs: 1 2\n",
       "    if (this.constructor !== Object) return this.get.apply(this, arguments);\n",
       "    if (this[key] !== undefined) {return this[key];}\n",
       "    else if (d !== undefined) {return d;}\n",
       "    else {return null;}\n",
       "};\n",
       "var main;\n",
       "require.undef(\"guage\");\n",
       "main = function (widgets) {\n",
       "    var GuageView, render, update;\n",
       "    render = function () {\n",
       "        var canvas, gauge, name, size, stub1_seq, stub2_itr;\n",
       "        window.tmp = this;\n",
       "        size = _pymeth_get.call(this.model, \"size\");\n",
       "        canvas = this.canvas = jQuery(\"<canvas></canvas>\").appendTo(this[\"$el\"]);\n",
       "        stub1_seq = [\"width\", \"height\"];\n",
       "        if ((typeof stub1_seq === \"object\") && (!Array.isArray(stub1_seq))) {\n",
       "            stub1_seq = Object.keys(stub1_seq);\n",
       "        }\n",
       "        for (stub2_itr = 0; stub2_itr < stub1_seq.length; stub2_itr += 1) {\n",
       "            name = stub1_seq[stub2_itr];\n",
       "            canvas.attr(name, size);\n",
       "        }\n",
       "        this.gauge = gauge = new Gauge({\"renderTo\": this.canvas[0], \"width\": size, \"height\": size, \"glow\": true, \"units\": _pymeth_get.call(this.model, \"unit\"), \"title\": _pymeth_get.call(this.model, \"title\")});\n",
       "        window.setTimeout((function () {return gauge.draw();}).bind(this), 100);\n",
       "        return null;\n",
       "    };\n",
       "\n",
       "    update = function () {\n",
       "        this.gauge.setValue(_pymeth_get.call(this.model, \"value\"));\n",
       "        return GuageView.__super__.update.apply(this);\n",
       "    };\n",
       "\n",
       "    GuageView = _pymeth_extend.call(widgets.DOMWidgetView, {render:render, update:update});\n",
       "    return {GuageView:GuageView};\n",
       "};\n",
       "\n",
       "define(\"guage\", [\"jupyter-js-widgets\"], main);})();"
      ]
     },
     "metadata": {},
     "output_type": "display_data"
    }
   ],
   "source": [
    "%%py2js\n",
    "require.undef(\"guage\")\n",
    "\n",
    "def main(widgets):\n",
    "    def render(self):\n",
    "        window.tmp = self\n",
    "        size = self.model.get('size')\n",
    "        canvas = self.canvas = jQuery('<canvas></canvas>').appendTo(self[\"$el\"])\n",
    "        for name in ('width', 'height'):\n",
    "            canvas.attr(name, size)\n",
    "\n",
    "        self.gauge = gauge = Gauge({\n",
    "            \"renderTo\": self.canvas[0],\n",
    "            \"width\": size,\n",
    "            \"height\": size,\n",
    "            \"glow\": True,\n",
    "            \"units\": self.model.get(\"unit\"),\n",
    "            \"title\": self.model.get(\"title\"),\n",
    "        })\n",
    "        window.setTimeout(lambda : gauge.draw(), 100)\n",
    "        \n",
    "    def update(self):\n",
    "        self.gauge.setValue(self.model.get('value'))\n",
    "        return GuageView.__super__.update.apply(self)\n",
    "        \n",
    "    GuageView = widgets.DOMWidgetView.extend(dict(\n",
    "        render=render,\n",
    "        update=update))\n",
    "    return dict(GuageView=GuageView)\n",
    "\n",
    "define('guage', ['jupyter-js-widgets'], main)"
   ]
  },
  {
   "cell_type": "code",
   "execution_count": 8,
   "metadata": {},
   "outputs": [
    {
     "data": {
      "application/vnd.jupyter.widget-view+json": {
       "model_id": "934114c0c0e345809cac2689306fd3f0"
      }
     },
     "metadata": {},
     "output_type": "display_data"
    }
   ],
   "source": [
    "guage = GuageWidget(title=\"Velocity\", size=300)\n",
    "guage"
   ]
  },
  {
   "cell_type": "code",
   "execution_count": 9,
   "metadata": {
    "collapsed": true
   },
   "outputs": [],
   "source": [
    "guage.value = 20"
   ]
  },
  {
   "cell_type": "code",
   "execution_count": 30,
   "metadata": {
    "collapsed": true
   },
   "outputs": [],
   "source": [
    "import zmq\n",
    "import json\n",
    "from zmq.eventloop.zmqstream import ZMQStream\n",
    "\n",
    "class Messager:\n",
    "    def __init__(self, callback, ip=\"127.0.0.1\", port=\"2223\"):\n",
    "        context = zmq.Context.instance()\n",
    "        self.callback = callback\n",
    "        self.socket = context.socket(zmq.SUB)\n",
    "        self.socket.setsockopt(zmq.SUBSCRIBE, b\"\")\n",
    "        self.socket.bind(\"tcp://{}:{}\".format(ip, port))\n",
    "        self.stream = ZMQStream(self.socket)\n",
    "        self.stream.on_recv(self.get_message) \n",
    "        \n",
    "    def get_message(self, msg):\n",
    "        data = json.loads(b\"\".join(msg).decode(\"utf-8\"))\n",
    "        self.callback(data)\n",
    "\n",
    "    def close(self):\n",
    "        self.stream.close()\n",
    "        self.socket.close()\n",
    "        \n",
    "    def __del__(self):\n",
    "        self.close()"
   ]
  },
  {
   "cell_type": "code",
   "execution_count": 35,
   "metadata": {
    "collapsed": true
   },
   "outputs": [],
   "source": [
    "%%cell_call send_values\n",
    "%%python --bg\n",
    "import zmq\n",
    "import time\n",
    "import json\n",
    "import random\n",
    "context = zmq.Context()\n",
    "\n",
    "socket = context.socket(zmq.PUB)\n",
    "socket.connect(\"tcp://127.0.0.1:2223\")\n",
    "\n",
    "model = dict(value=0)\n",
    "\n",
    "for i in range(200):\n",
    "    model[\"value\"] = model[\"value\"] + random.uniform(-0.5, 1)\n",
    "    socket.send_string(json.dumps(model))\n",
    "    time.sleep(0.02)"
   ]
  },
  {
   "cell_type": "code",
   "execution_count": 32,
   "metadata": {},
   "outputs": [
    {
     "name": "stdout",
     "output_type": "stream",
     "text": [
      "Starting job # 27 in a separate thread.\n"
     ]
    }
   ],
   "source": [
    "from ipywidgets import Button, VBox, HBox, Checkbox\n",
    "\n",
    "start_button = Button(description=\"Start\")\n",
    "run_button = Button(description=\"Run\")\n",
    "stop_button = Button(description=\"Stop\")\n",
    "\n",
    "def start_callback(event):\n",
    "    global messager\n",
    "    messager = Messager(lambda data:setattr(guage, \"value\", data[\"value\"]))\n",
    "\n",
    "def run_callback(event):\n",
    "    from IPython.display import clear_output\n",
    "    clear_output()\n",
    "    cell_call(\"send_values\")\n",
    "    \n",
    "def stop_callback(event):\n",
    "    messager.close()\n",
    "    \n",
    "start_button.on_click(start_callback)\n",
    "run_button.on_click(run_callback)\n",
    "stop_button.on_click(stop_callback)\n",
    "\n",
    "HBox([VBox([start_button, run_button, stop_button]), guage])"
   ]
  }
 ],
 "metadata": {
  "anaconda-cloud": {},
  "kernelspec": {
   "display_name": "Python [default]",
   "language": "python",
   "name": "python3"
  },
  "language_info": {
   "codemirror_mode": {
    "name": "ipython",
    "version": 3
   },
   "file_extension": ".py",
   "mimetype": "text/x-python",
   "name": "python",
   "nbconvert_exporter": "python",
   "pygments_lexer": "ipython3",
   "version": "3.5.2"
  }
 },
 "nbformat": 4,
 "nbformat_minor": 1
}
