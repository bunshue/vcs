{
 "cells": [
  {
   "cell_type": "markdown",
   "metadata": {},
   "source": [
    "# 在浏览器中执行Python代码-最大化控件"
   ]
  },
  {
   "cell_type": "markdown",
   "metadata": {},
   "source": [
    "使用`%%javascript`魔法命令可以在浏览器中执行Javascript代码。例如下面的Javascript代码将当前单元的背景修改为随机的浅颜色。"
   ]
  },
  {
   "cell_type": "code",
   "execution_count": 58,
   "metadata": {},
   "outputs": [
    {
     "data": {
      "application/javascript": [
       "/* 按Ctrl+Enter运行本单元 */\n",
       "var cell = Jupyter.notebook.get_selected_cell();\n",
       "var r = Math.floor(Math.random() * 56 + 200).toString(16);\n",
       "var g = Math.floor(Math.random() * 56 + 200).toString(16);\n",
       "var b = Math.floor(Math.random() * 56 + 200).toString(16);\n",
       "console.log(r, g, b);\n",
       "$(cell.element).find(\"div.input_area\").css(\"background-color\", \"#\" + r + g + b);"
      ],
      "text/plain": [
       "<IPython.core.display.Javascript object>"
      ]
     },
     "metadata": {},
     "output_type": "display_data"
    }
   ],
   "source": [
    "%%javascript\n",
    "/* 按Ctrl+Enter运行本单元 */\n",
    "var cell = Jupyter.notebook.get_selected_cell();\n",
    "var r = Math.floor(Math.random() * 56 + 200).toString(16);\n",
    "var g = Math.floor(Math.random() * 56 + 200).toString(16);\n",
    "var b = Math.floor(Math.random() * 56 + 200).toString(16);\n",
    "console.log(r, g, b);\n",
    "$(cell.element).find(\"div.input_area\").css(\"background-color\", \"#\" + r + g + b);"
   ]
  },
  {
   "cell_type": "markdown",
   "metadata": {},
   "source": [
    "但是作为Python程序员，我们还是希望能使用Python编写这些代码。可以使用`flexx`提供的`py2js()`将Python代码转换成Javascript，然后通过`IPython.display.display_javascript()`执行。下面是实现该方法的魔法命令`%%py2js`。"
   ]
  },
  {
   "cell_type": "code",
   "execution_count": 41,
   "metadata": {
    "collapsed": true
   },
   "outputs": [],
   "source": [
    "from IPython.core.magic import register_cell_magic\n",
    "\n",
    "@register_cell_magic\n",
    "def py2js(line, cell):\n",
    "    from flexx.pyscript import py2js\n",
    "    from IPython.display import display_javascript\n",
    "    js = py2js(cell)\n",
    "    run_js = \"(function(){%s})();\" % js\n",
    "    display_javascript(run_js, raw=True)"
   ]
  },
  {
   "cell_type": "markdown",
   "metadata": {},
   "source": [
    "下面是使用Python实现随机修改背景色的代码。在这段代码中，\n",
    "\n",
    "* 使用了Python列表推导式和字符串的`join()`方法。\n",
    "* 使用`print()`代替`console.log()`。\n",
    "* 由于`$`不是有效标识符，这里使用`jQuery`代替。"
   ]
  },
  {
   "cell_type": "code",
   "execution_count": 61,
   "metadata": {},
   "outputs": [
    {
     "data": {
      "application/javascript": [
       "(function(){var _pyfunc_int = function (x) { // nargs: 1\n",
       "    return x<0 ? Math.ceil(x): Math.floor(x);\n",
       "};\n",
       "var _pyfunc_mult = function (a, b) { // nargs: 2\n",
       "    if ((typeof a === 'number') + (typeof b === 'number') === 1) {\n",
       "        if (a.constructor === String) return _pymeth_repeat.call(a, b);\n",
       "        if (b.constructor === String) return _pymeth_repeat.call(b, a);\n",
       "        if (Array.isArray(b)) {var t=a; a=b; b=t;}\n",
       "        if (Array.isArray(a)) {\n",
       "            var res = []; for (var i=0; i<b; i++) res = res.concat(a);\n",
       "            return res;\n",
       "        }\n",
       "    } return a * b;\n",
       "};\n",
       "var _pyfunc_range = function (start, end, step) {\n",
       "var i, res = [];\n",
       "    var val = start;\n",
       "    var n = (end - start) / step;\n",
       "    for (i=0; i<n; i++) {\n",
       "        res.push(val);\n",
       "        val += step;\n",
       "    }\n",
       "    return res;\n",
       "};\n",
       "var _pymeth_find = function (x, start, stop) { // nargs: 1 2 3\n",
       "    if (this.constructor !== String) return this.find.apply(this, arguments);\n",
       "    start = (start === undefined) ? 0 : start;\n",
       "    stop = (stop === undefined) ? this.length : stop;\n",
       "    start = Math.max(0, ((start < 0) ? this.length + start : start));\n",
       "    stop = Math.min(this.length, ((stop < 0) ? this.length + stop : stop));\n",
       "    var i = this.slice(start, stop).indexOf(x);\n",
       "    if (i >= 0) return i + start;\n",
       "    return -1;\n",
       "};\n",
       "var _pymeth_join = function (x) { // nargs: 1\n",
       "    if (this.constructor !== String) return this.join.apply(this, arguments);\n",
       "    return x.join(this);  // call join on the list instead of the string.   \n",
       "};\n",
       "var _pymeth_repeat = function(count) { // nargs: 0\n",
       "    if (this.repeat) return this.repeat(count);\n",
       "    if (count < 1) return '';\n",
       "    var result = '', pattern = this.valueOf();\n",
       "    while (count > 1) {\n",
       "        if (count & 1) result += pattern;\n",
       "        count >>= 1, pattern += pattern;\n",
       "    }\n",
       "    return result + pattern;\n",
       "};\n",
       "var cell, color;\n",
       "cell = Jupyter.notebook.get_selected_cell();\n",
       "color = \"#\" + (_pymeth_join.call(\"\", ((function list_comprehenson () {var res = [];var _, iter0, i0;iter0 = _pyfunc_range(0, 3, 1);if ((typeof iter0 === \"object\") && (!Array.isArray(iter0))) {iter0 = Object.keys(iter0);}for (i0=0; i0<iter0.length; i0++) {_ = iter0[i0];{res.push((_pyfunc_int(((_pyfunc_mult(Math.random(), 56)) + 200))).toString(16));}}return res;}).apply(this))));\n",
       "console.log(color);\n",
       "(_pymeth_find.call(jQuery(cell.element), \"div.input_area\")).css(\"background-color\", color);})();"
      ]
     },
     "metadata": {},
     "output_type": "display_data"
    }
   ],
   "source": [
    "%%py2js\n",
    "# 按Ctrl+Enter运行本单元\n",
    "cell = Jupyter.notebook.get_selected_cell()\n",
    "color = \"#\" + \"\".join([int(Math.random() * 56 + 200).toString(16) for _ in range(3)])\n",
    "print(color)\n",
    "jQuery(cell.element).find(\"div.input_area\").css(\"background-color\", color)"
   ]
  },
  {
   "cell_type": "markdown",
   "metadata": {},
   "source": [
    "本书的`py2js`模块中已经提供了`%%py2js`魔法命令，可以直接使用`%load_ext`载入。"
   ]
  },
  {
   "cell_type": "code",
   "execution_count": 11,
   "metadata": {
    "collapsed": true
   },
   "outputs": [],
   "source": [
    "%load_ext py2js"
   ]
  },
  {
   "cell_type": "markdown",
   "metadata": {},
   "source": [
    "## 最大化控件"
   ]
  },
  {
   "cell_type": "markdown",
   "metadata": {},
   "source": [
    "下面使用`%%py2js`编写一个最大化`ipywidgets`控件的函数。执行下面的单元之后：\n",
    "\n",
    "* 运行`window.full_widget.fullscreen()`最大化控件；\n",
    "* 按ESC或者运行`window.full_widget.cancel()`返回。"
   ]
  },
  {
   "cell_type": "code",
   "execution_count": null,
   "metadata": {
    "collapsed": true
   },
   "outputs": [],
   "source": [
    "%%py2js\n",
    "\n",
    "style_center = \"\"\"\n",
    "position:fixed;\n",
    "top:50%;\n",
    "left:50%;\n",
    "transform:translate(-50%, -50%);\n",
    "\"\"\"\n",
    "\n",
    "style_full = \"\"\"\n",
    "height:100vh;\n",
    "width:100vw;\n",
    "background-color:rgba(170, 170, 170, 0.9)\n",
    ";z-index:100;\"\"\"\n",
    "\n",
    "html_full = '<div id=\"full_widget\"><div id=\"center_widget\"></div></div>'\n",
    "\n",
    "class FullWidget:\n",
    "    def __init__(self):\n",
    "        pass\n",
    "        \n",
    "    def fullscreen(self):\n",
    "        self.widgets = jQuery(jQuery(\".widget-area:visible\")[-1])\n",
    "        self.parents = self.widgets.parent()\n",
    "        if len(jQuery(\"#full_widget\")) > 0:\n",
    "            return\n",
    "        jQuery(html_full).appendTo(jQuery('body'))\n",
    "        jQuery('#full_widget').attr('style', style_full + style_center)\n",
    "        jQuery('#center_widget').attr('style', style_center)\n",
    "        self.widgets.appendTo(jQuery('#center_widget'))\n",
    "\n",
    "        def on_key(event):\n",
    "            if event.which == 27:\n",
    "                self.cancel()\n",
    "\n",
    "        jQuery(\"body\").keydown(on_key)\n",
    "        \n",
    "    def cancel(self):\n",
    "        if len(jQuery(\"#full_widget\")) > 0:\n",
    "            self.widgets.insertAfter(self.parents.find(\".input\"))\n",
    "            jQuery('#full_widget').remove()\n",
    "            jQuery(\"body\").unbind(\"kewdown\")\n",
    "        \n",
    "if not window.FullWidget:\n",
    "    window.FullWidget = FullWidget\n",
    "    window.full_widget = FullWidget()"
   ]
  },
  {
   "cell_type": "markdown",
   "metadata": {},
   "source": [
    "下面使用`ipywidgets`创建一个简单的界面，点击`^`最大化控件。"
   ]
  },
  {
   "cell_type": "code",
   "execution_count": 9,
   "metadata": {},
   "outputs": [
    {
     "data": {
      "application/vnd.jupyter.widget-view+json": {
       "model_id": "d4fca9e6c1d945aeb8e1eb2abbb2785e"
      }
     },
     "metadata": {},
     "output_type": "display_data"
    }
   ],
   "source": [
    "from ipywidgets import Button, IntText, HBox, Layout\n",
    "\n",
    "fullscreen_button = Button(description=\"^\", layout=Layout(width=\"15px\"))\n",
    "count_button = Button(description=\"Count Up\")\n",
    "counter = IntText(value=0)\n",
    "\n",
    "def count_up(event):\n",
    "    counter.value += 1\n",
    "    \n",
    "def full_screen(event):\n",
    "    from IPython.display import display_javascript, clear_output\n",
    "    display_javascript(\"window.full_widget.fullscreen()\", raw=True)\n",
    "    clear_output()\n",
    "    \n",
    "fullscreen_button.on_click(full_screen)\n",
    "count_button.on_click(count_up)\n",
    "HBox([fullscreen_button, count_button, counter])"
   ]
  },
  {
   "cell_type": "markdown",
   "metadata": {},
   "source": [
    "`py2js`中提供了`make_fullscreen_button()`函数创建上述最大化按钮。"
   ]
  },
  {
   "cell_type": "code",
   "execution_count": 10,
   "metadata": {},
   "outputs": [
    {
     "data": {
      "application/javascript": [
       "(function(){var _pyfunc_add = function (a, b) { // nargs: 2\n",
       "    if (Array.isArray(a) && Array.isArray(b)) {\n",
       "        return a.concat(b);\n",
       "    } return a + b;\n",
       "};\n",
       "var _pyfunc_equals = function equals (a, b) { // nargs: 2\n",
       "    if (a == null || b == null) {\n",
       "    } else if (Array.isArray(a) && Array.isArray(b)) {\n",
       "        var i = 0, iseq = a.length == b.length;\n",
       "        while (iseq && i < a.length) {iseq = equals(a[i], b[i]); i+=1;}\n",
       "        return iseq;\n",
       "    } else if (a.constructor === Object && b.constructor === Object) {\n",
       "        var akeys = Object.keys(a), bkeys = Object.keys(b);\n",
       "        akeys.sort(); bkeys.sort();\n",
       "        var i=0, k, iseq = equals(akeys, bkeys);\n",
       "        while (iseq && i < akeys.length) {k=akeys[i]; iseq = equals(a[k], b[k]); i+=1;}\n",
       "        return iseq;\n",
       "    } return a == b;\n",
       "};\n",
       "var _pyfunc_instantiate = function (ob, args) { // nargs: 2\n",
       "    if ((typeof ob === \"undefined\") ||\n",
       "            (typeof window !== \"undefined\" && window === ob) ||\n",
       "            (typeof global !== \"undefined\" && global === ob))\n",
       "            {throw \"Class constructor is called as a function.\";}\n",
       "    for (var name in ob) {\n",
       "        if (Object[name] === undefined &&\n",
       "            typeof ob[name] === 'function' && !ob[name].nobind) {\n",
       "            ob[name] = ob[name].bind(ob);\n",
       "        }\n",
       "    }\n",
       "    if (ob.__init__) {\n",
       "        ob.__init__.apply(ob, args);\n",
       "    }\n",
       "};\n",
       "var _pyfunc_truthy = function (v) {\n",
       "    if (v === null || typeof v !== \"object\") {return v;}\n",
       "    else if (v.length !== undefined) {return v.length ? v : false;}\n",
       "    else if (v.byteLength !== undefined) {return v.byteLength ? v : false;}\n",
       "    else if (v.constructor !== Object) {return true;}\n",
       "    else {return Object.getOwnPropertyNames(v).length ? v : false;}\n",
       "};\n",
       "var _pymeth_find = function (x, start, stop) { // nargs: 1 2 3\n",
       "    if (this.constructor !== String) return this.find.apply(this, arguments);\n",
       "    start = (start === undefined) ? 0 : start;\n",
       "    stop = (stop === undefined) ? this.length : stop;\n",
       "    start = Math.max(0, ((start < 0) ? this.length + start : start));\n",
       "    stop = Math.min(this.length, ((stop < 0) ? this.length + stop : stop));\n",
       "    var i = this.slice(start, stop).indexOf(x);\n",
       "    if (i >= 0) return i + start;\n",
       "    return -1;\n",
       "};\n",
       "var javascript;\n",
       "javascript = function () {\n",
       "    var FullWidget, html_full, style_center, style_full;\n",
       "    style_center = \"\\n    position:fixed;\\n    top:50%;\\n    left:50%;\\n    transform:translate(-50%, -50%);\\n    \";\n",
       "    style_full = \"\\n    height:100vh;\\n    width:100vw;\\n    background-color:rgba(170, 170, 170, 0.9)\\n    ;z-index:100;\";\n",
       "    html_full = \"<div id=\\\"full_widget\\\"><div id=\\\"center_widget\\\"></div></div>\";\n",
       "    FullWidget = function () {\n",
       "        _pyfunc_instantiate(this, arguments);\n",
       "    }\n",
       "    FullWidget.prototype._base_class = Object;\n",
       "    FullWidget.prototype._class_name = \"FullWidget\";\n",
       "    \n",
       "    FullWidget.prototype.__init__ = function () {\n",
       "        return null;\n",
       "    };\n",
       "\n",
       "    FullWidget.prototype.fullscreen = function () {\n",
       "        var on_key;\n",
       "        this.widgets = jQuery(jQuery(\".widget-area:visible\")[jQuery(\".widget-area:visible\").length -1]);\n",
       "        this.parents = this.widgets.parent();\n",
       "        if (_pyfunc_truthy((jQuery(\"#full_widget\").length) > 0)) {\n",
       "            return null;\n",
       "        }\n",
       "        jQuery(html_full).appendTo(jQuery(\"body\"));\n",
       "        jQuery(\"#full_widget\").attr(\"style\", _pyfunc_add(style_full, style_center));\n",
       "        jQuery(\"#center_widget\").attr(\"style\", style_center);\n",
       "        this.widgets.appendTo(jQuery(\"#center_widget\"));\n",
       "        on_key = (function (event) {\n",
       "            if (_pyfunc_equals(event.which, 27)) {\n",
       "                this.cancel();\n",
       "            }\n",
       "            return null;\n",
       "        }).bind(this);\n",
       "\n",
       "        jQuery(\"body\").keydown(on_key);\n",
       "        return null;\n",
       "    };\n",
       "\n",
       "    FullWidget.prototype.cancel = function () {\n",
       "        if (_pyfunc_truthy((jQuery(\"#full_widget\").length) > 0)) {\n",
       "            this.widgets.insertAfter(_pymeth_find.call(this.parents, \".input\"));\n",
       "            jQuery(\"#full_widget\").remove();\n",
       "            jQuery(\"body\").unbind(\"kewdown\");\n",
       "        }\n",
       "        return null;\n",
       "    };\n",
       "\n",
       "\n",
       "    if ((!_pyfunc_truthy(window.FullWidget))) {\n",
       "        window.FullWidget = FullWidget;\n",
       "        window.full_widget = new FullWidget();\n",
       "    }\n",
       "    return null;\n",
       "};\n",
       "; javascript();})();"
      ]
     },
     "metadata": {},
     "output_type": "display_data"
    },
    {
     "data": {
      "application/vnd.jupyter.widget-view+json": {
       "model_id": "c2754a252b704a82bf57cc6efdc9b3db"
      }
     },
     "metadata": {},
     "output_type": "display_data"
    }
   ],
   "source": [
    "from py2js import make_fullscreen_button\n",
    "fullscreen_button = make_fullscreen_button()\n",
    "fullscreen_button"
   ]
  }
 ],
 "metadata": {
  "kernelspec": {
   "display_name": "Python [default]",
   "language": "python",
   "name": "python3"
  },
  "language_info": {
   "codemirror_mode": {
    "name": "ipython",
    "version": 3
   },
   "file_extension": ".py",
   "mimetype": "text/x-python",
   "name": "python",
   "nbconvert_exporter": "python",
   "pygments_lexer": "ipython3",
   "version": "3.5.2"
  }
 },
 "nbformat": 4,
 "nbformat_minor": 2
}
