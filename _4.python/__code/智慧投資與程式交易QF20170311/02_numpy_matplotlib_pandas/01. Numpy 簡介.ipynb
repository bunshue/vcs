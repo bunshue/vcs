{
 "cells": [
  {
   "cell_type": "markdown",
   "metadata": {},
   "source": [
    "# Numpy 簡介"
   ]
  },
  {
   "cell_type": "markdown",
   "metadata": {},
   "source": [
    "### Numpy 是 Numerical Python 的簡稱，是 Python 用來作科學運算的基礎套件。\n",
    "\n",
    "#### 這一份筆記主要說明以下重點：\n",
    "\n",
    "* 為何需要 Numpy？\n",
    "* Numpy 比 pure python 提供了那些不一樣的東西？\n",
    "* 怎麼使用 Numpy 的 ndarray？\n",
    "* 投資理財相關領域中常用的 Numpy 的函式有哪些？\n",
    "\n",
    "#### 參考資料：\n",
    "\n",
    "* [Numpy 官網](http://www.numpy.org/)\n",
    "* [Numpy 教學](https://docs.scipy.org/doc/numpy-dev/user/quickstart.html)\n",
    "* [Python Numpy Array Tutorial](https://www.datacamp.com/community/tutorials/python-numpy-tutoria)"
   ]
  },
  {
   "cell_type": "markdown",
   "metadata": {},
   "source": [
    "## 為什麼需要 Numpy?"
   ]
  },
  {
   "cell_type": "markdown",
   "metadata": {},
   "source": [
    "### 關於向量運算：\n",
    "\n",
    "在工程、科學及金融領域，需要用到很多向量運算。簡單說明如下：\n",
    "\n",
    "假設有兩個向量 (Vectors) A 跟 B，\n",
    "\n",
    "$A = \\left(\n",
    "    \\begin{array}{c}\n",
    "      a_1 \\\\\n",
    "      a_2 \\\\\n",
    "      a_3\n",
    "    \\end{array}\n",
    "  \\right)\n",
    "$\n",
    "\n",
    "$B = \\left(\n",
    "    \\begin{array}{c}\n",
    "      b_1 \\\\\n",
    "      b_2 \\\\\n",
    "      b_3\n",
    "    \\end{array}\n",
    "  \\right)\n",
    "$\n",
    "\n",
    "向量加法運算如下：\n",
    "\n",
    "$A + B = \\left(\n",
    "    \\begin{array}{c}\n",
    "      a_1 + b_1 \\\\\n",
    "      a_2 + b_2 \\\\\n",
    "      a_3 + b_3\n",
    "    \\end{array}\n",
    "  \\right)\n",
    "$\n",
    "\n",
    "向量的純量積算法如下：\n",
    "\n",
    "$c \\cdot A = \n",
    "  \\left(\n",
    "    \\begin{array}{c}\n",
    "      ca_1 \\\\\n",
    "      ca_2 \\\\\n",
    "      ca_3\n",
    "    \\end{array}\n",
    "  \\right)\n",
    "$"
   ]
  },
  {
   "cell_type": "markdown",
   "metadata": {},
   "source": [
    "### 1. python 的 list 沒有辦法直接作向量運算。"
   ]
  },
  {
   "cell_type": "code",
   "execution_count": null,
   "metadata": {
    "collapsed": false
   },
   "outputs": [],
   "source": [
    "A = [1, 2, 3]\n",
    "B = [4, 5, 6]\n",
    "A + B"
   ]
  },
  {
   "cell_type": "code",
   "execution_count": null,
   "metadata": {
    "collapsed": false
   },
   "outputs": [],
   "source": [
    "A * 2"
   ]
  },
  {
   "cell_type": "markdown",
   "metadata": {},
   "source": [
    "### 2. 替代性的方法運算速度緩慢"
   ]
  },
  {
   "cell_type": "code",
   "execution_count": null,
   "metadata": {
    "collapsed": false
   },
   "outputs": [],
   "source": [
    "C = []\n",
    "for i, j in zip(A, B):\n",
    "    C.append(i + j)\n",
    "C"
   ]
  },
  {
   "cell_type": "code",
   "execution_count": null,
   "metadata": {
    "collapsed": false
   },
   "outputs": [],
   "source": [
    "D = []\n",
    "for i in A:\n",
    "    D.append(i * 2)\n",
    "D"
   ]
  },
  {
   "cell_type": "markdown",
   "metadata": {},
   "source": [
    "### 3. Numpy 提供簡易即迅速的方式執行上面那些向量運算"
   ]
  },
  {
   "cell_type": "code",
   "execution_count": null,
   "metadata": {
    "collapsed": true
   },
   "outputs": [],
   "source": [
    "import numpy as np"
   ]
  },
  {
   "cell_type": "code",
   "execution_count": null,
   "metadata": {
    "collapsed": false
   },
   "outputs": [],
   "source": [
    "A1 = np.array(A)\n",
    "B1 = np.array(B)\n",
    "A1 + B1"
   ]
  },
  {
   "cell_type": "code",
   "execution_count": null,
   "metadata": {
    "collapsed": false
   },
   "outputs": [],
   "source": [
    "A1 * 2"
   ]
  },
  {
   "cell_type": "markdown",
   "metadata": {},
   "source": [
    "## Numpy 提供了什麼不一樣的東西？"
   ]
  },
  {
   "cell_type": "markdown",
   "metadata": {},
   "source": [
    "#### Numpy 中主要提供了一個叫做多維陣列 ndarray, or Multi-dimensional Array 的資料結構，透過它可以直接作向量運算。\n",
    "#### ndarray 有兩個重要的屬性 dtype 及 shape，dtype 為 ndarry 裡面的資料的型態，而 shape 則為資料的形狀。\n",
    "#### 底下會用例子加以說明。"
   ]
  },
  {
   "cell_type": "markdown",
   "metadata": {},
   "source": [
    "### Numpy 中的兩大概念：\n",
    "\n",
    "* 資料結構\n",
    "  - ndarray\n",
    "    - dtype\n",
    "    - shape\n",
    "\n",
    "\n",
    "* 通用函式\n",
    "  - ufunc\n",
    "  "
   ]
  },
  {
   "cell_type": "markdown",
   "metadata": {},
   "source": [
    "### 如何創建 ndarray？"
   ]
  },
  {
   "cell_type": "markdown",
   "metadata": {},
   "source": [
    "### 最簡單的方法就是使用 Numpy 的 array 函式。"
   ]
  },
  {
   "cell_type": "code",
   "execution_count": null,
   "metadata": {
    "collapsed": false
   },
   "outputs": [],
   "source": [
    "X = [1, 2, 3]\n",
    "Y = np.array(X)\n",
    "Y"
   ]
  },
  {
   "cell_type": "code",
   "execution_count": null,
   "metadata": {
    "collapsed": false
   },
   "outputs": [],
   "source": [
    "Z = np.array([4, 5, 6])\n",
    "Z"
   ]
  },
  {
   "cell_type": "code",
   "execution_count": null,
   "metadata": {
    "collapsed": false
   },
   "outputs": [],
   "source": [
    "Z.dtype"
   ]
  },
  {
   "cell_type": "code",
   "execution_count": null,
   "metadata": {
    "collapsed": false
   },
   "outputs": [],
   "source": [
    "Z.shape"
   ]
  },
  {
   "cell_type": "markdown",
   "metadata": {},
   "source": [
    "### 其他的創建方式\n",
    "\n",
    "|函式|說明|\n",
    "|:-|:-|\n",
    "|array|將輸入的資料轉換成 ndarray。|\n",
    "|arange|range 的 ndarray 版。|\n",
    "|ones, ones_like|創建一個全部是1的ndarray。|\n",
    "|zeros, zeros_like|創建一個全部是0的ndarray。|\n",
    "|empty, empty_like|創建一個未填入資料的ndarray。|\n",
    "|eye, identity|創建一個單位矩陣。|"
   ]
  },
  {
   "cell_type": "code",
   "execution_count": null,
   "metadata": {
    "collapsed": false
   },
   "outputs": [],
   "source": [
    "I = np.eye(4)\n",
    "I"
   ]
  },
  {
   "cell_type": "code",
   "execution_count": null,
   "metadata": {
    "collapsed": false
   },
   "outputs": [],
   "source": [
    "I.shape"
   ]
  },
  {
   "cell_type": "code",
   "execution_count": null,
   "metadata": {
    "collapsed": false
   },
   "outputs": [],
   "source": [
    "G = np.arange(25)\n",
    "G"
   ]
  },
  {
   "cell_type": "code",
   "execution_count": null,
   "metadata": {
    "collapsed": false
   },
   "outputs": [],
   "source": [
    "G.shape"
   ]
  },
  {
   "cell_type": "code",
   "execution_count": null,
   "metadata": {
    "collapsed": false
   },
   "outputs": [],
   "source": [
    "F = G.reshape(5, 5)\n",
    "F"
   ]
  },
  {
   "cell_type": "code",
   "execution_count": null,
   "metadata": {
    "collapsed": false
   },
   "outputs": [],
   "source": [
    "G"
   ]
  },
  {
   "cell_type": "code",
   "execution_count": null,
   "metadata": {
    "collapsed": false
   },
   "outputs": [],
   "source": [
    "G.shape = 5, 5\n",
    "G"
   ]
  },
  {
   "cell_type": "markdown",
   "metadata": {},
   "source": [
    "### ndarray 的 indexing"
   ]
  },
  {
   "cell_type": "code",
   "execution_count": null,
   "metadata": {
    "collapsed": false
   },
   "outputs": [],
   "source": [
    "G[1, 1]"
   ]
  },
  {
   "cell_type": "code",
   "execution_count": null,
   "metadata": {
    "collapsed": false
   },
   "outputs": [],
   "source": [
    "G[1][1]"
   ]
  },
  {
   "cell_type": "markdown",
   "metadata": {},
   "source": [
    "### ndarray 的 slicing"
   ]
  },
  {
   "cell_type": "code",
   "execution_count": null,
   "metadata": {
    "collapsed": false
   },
   "outputs": [],
   "source": [
    "G[0]"
   ]
  },
  {
   "cell_type": "code",
   "execution_count": null,
   "metadata": {
    "collapsed": false
   },
   "outputs": [],
   "source": [
    "G[0, :]"
   ]
  },
  {
   "cell_type": "code",
   "execution_count": null,
   "metadata": {
    "collapsed": false
   },
   "outputs": [],
   "source": [
    "G[:, 0]"
   ]
  },
  {
   "cell_type": "code",
   "execution_count": null,
   "metadata": {
    "collapsed": false
   },
   "outputs": [],
   "source": [
    "G[:][0]"
   ]
  },
  {
   "cell_type": "code",
   "execution_count": null,
   "metadata": {
    "collapsed": false
   },
   "outputs": [],
   "source": [
    "G[1:3, 1:3]"
   ]
  },
  {
   "cell_type": "markdown",
   "metadata": {},
   "source": [
    "### ndarray 的 boolean indexing"
   ]
  },
  {
   "cell_type": "code",
   "execution_count": null,
   "metadata": {
    "collapsed": false
   },
   "outputs": [],
   "source": [
    "G > 10"
   ]
  },
  {
   "cell_type": "code",
   "execution_count": null,
   "metadata": {
    "collapsed": false
   },
   "outputs": [],
   "source": [
    "G[G > 10]"
   ]
  },
  {
   "cell_type": "code",
   "execution_count": null,
   "metadata": {
    "collapsed": false
   },
   "outputs": [],
   "source": [
    "np.where(G > 10, G, 0)"
   ]
  },
  {
   "cell_type": "code",
   "execution_count": null,
   "metadata": {
    "collapsed": false
   },
   "outputs": [],
   "source": [
    "np.all(G > -1)"
   ]
  },
  {
   "cell_type": "code",
   "execution_count": null,
   "metadata": {
    "collapsed": false
   },
   "outputs": [],
   "source": [
    "np.all(G < 25)"
   ]
  },
  {
   "cell_type": "code",
   "execution_count": null,
   "metadata": {
    "collapsed": false
   },
   "outputs": [],
   "source": [
    "np.all(G > 0)"
   ]
  },
  {
   "cell_type": "code",
   "execution_count": null,
   "metadata": {
    "collapsed": false
   },
   "outputs": [],
   "source": [
    "np.any(G > 0)"
   ]
  },
  {
   "cell_type": "markdown",
   "metadata": {},
   "source": [
    "### 什麼是 ufunc？"
   ]
  },
  {
   "cell_type": "markdown",
   "metadata": {},
   "source": [
    "* universal function 的縮寫\n",
    "* 用來對 ndarray 裡面的每個元素作操作的函式。\n",
    "* ufunc 可以被看作是一般 python 函式的向量化版本。\n",
    "* Numpy 的 ufunc 都是衍生自 numpy.ufunc 類別。\n",
    "* 很多內建的 ufunc 底層都是使用 C 實作的，所以速度很快。\n",
    "\n",
    "詳細內容請參考：[ufuncs](https://docs.scipy.org/doc/numpy/reference/ufuncs.html)"
   ]
  },
  {
   "cell_type": "code",
   "execution_count": null,
   "metadata": {
    "collapsed": false
   },
   "outputs": [],
   "source": [
    "isinstance(np.sin, np.ufunc)"
   ]
  },
  {
   "cell_type": "code",
   "execution_count": null,
   "metadata": {
    "collapsed": false
   },
   "outputs": [],
   "source": [
    "isinstance(np.arange, np.ufunc)"
   ]
  },
  {
   "cell_type": "code",
   "execution_count": null,
   "metadata": {
    "collapsed": false
   },
   "outputs": [],
   "source": [
    "import math\n",
    "math.pi"
   ]
  },
  {
   "cell_type": "code",
   "execution_count": null,
   "metadata": {
    "collapsed": false
   },
   "outputs": [],
   "source": [
    "K = np.arange(0, 2, 0.1)\n",
    "K = K * math.pi\n",
    "K"
   ]
  },
  {
   "cell_type": "code",
   "execution_count": null,
   "metadata": {
    "collapsed": false
   },
   "outputs": [],
   "source": [
    "np.sin(K)"
   ]
  },
  {
   "cell_type": "code",
   "execution_count": null,
   "metadata": {
    "collapsed": false
   },
   "outputs": [],
   "source": [
    "%matplotlib inline\n",
    "import matplotlib.pyplot as plt\n",
    "plt.plot(np.sin(K))"
   ]
  },
  {
   "cell_type": "markdown",
   "metadata": {},
   "source": [
    "### numpy 有哪些 ufuncs？\n",
    "\n",
    "想知道 numpy 有哪些 ufunc ，可以參考官網上面的連結：[Available ufuncs](https://docs.scipy.org/doc/numpy/reference/ufuncs.html#available-ufuncs)"
   ]
  },
  {
   "cell_type": "markdown",
   "metadata": {},
   "source": [
    "## 金融投資相關領域中常用的 numpy 函式有哪些？"
   ]
  },
  {
   "cell_type": "markdown",
   "metadata": {},
   "source": [
    "* [Numpy 的函式列表](https://docs.scipy.org/doc/numpy/reference/routines.html)"
   ]
  },
  {
   "cell_type": "markdown",
   "metadata": {},
   "source": [
    "### 統計相關函式\n",
    "\n",
    "參考：[Statistics](https://docs.scipy.org/doc/numpy-1.12.0/reference/routines.statistics.html)\n",
    "\n",
    "|函式|說明|\n",
    "|:-|:-|\n",
    "|sum|總和|\n",
    "|mean|平均|\n",
    "|std|標準差|\n",
    "|var|變異數|\n",
    "|min, max|最小值、最大值|\n",
    "|argmin, argmax|最小值的索引、最大值的索引|\n",
    "|cumsum|和的累計值|\n",
    "|cumprod|積的累計值|"
   ]
  },
  {
   "cell_type": "markdown",
   "metadata": {},
   "source": [
    "### 亂數相關函式\n",
    "\n",
    "參考：[Random Sampling (numpy.random)](https://docs.scipy.org/doc/numpy/reference/routines.random.html)\n",
    "\n",
    "|函式|說明|\n",
    "|:-|:-|\n",
    "|[seed](https://docs.scipy.org/doc/numpy/reference/generated/numpy.random.seed.html#numpy.random.seed)|設定亂數的種子|\n",
    "|[permutation](https://docs.scipy.org/doc/numpy/reference/generated/numpy.random.permutation.html)|隨機排列|\n",
    "|[shuffle](https://docs.scipy.org/doc/numpy/reference/generated/numpy.random.shuffle.html)|沿著 axis 0 的隨機排列|\n",
    "|[rand](https://docs.scipy.org/doc/numpy/reference/generated/numpy.random.rand.html#numpy.random.rand)|返回指定形狀的亂數，亂數值為[0,1]間的均勻分布|\n",
    "|[randn](https://docs.scipy.org/doc/numpy/reference/generated/numpy.random.randn.html#numpy.random.randn)|返回指定形狀的亂數，亂數值為mean為0，variance為1的高斯分布|\n",
    "|[randint](https://docs.scipy.org/doc/numpy/reference/generated/numpy.random.randint.html#numpy.random.randint)|使用離散均勻分布，返回指定形狀的整數亂數|\n",
    "|[normal](https://docs.scipy.org/doc/numpy/reference/generated/numpy.random.normal.html#numpy.random.normal)|返回指定形狀的亂數，亂數值為自訂的mean跟variance的高斯分布|\n",
    "|[uniform](https://docs.scipy.org/doc/numpy/reference/generated/numpy.random.uniform.html#numpy.random.uniform)|使用均勻分布，返回指定形狀的亂數|"
   ]
  },
  {
   "cell_type": "code",
   "execution_count": null,
   "metadata": {
    "collapsed": false
   },
   "outputs": [],
   "source": [
    "np.random.seed(10)\n",
    "np.random.rand(5)"
   ]
  }
 ],
 "metadata": {
  "anaconda-cloud": {},
  "kernelspec": {
   "display_name": "Python [conda root]",
   "language": "python",
   "name": "conda-root-py"
  },
  "language_info": {
   "codemirror_mode": {
    "name": "ipython",
    "version": 3
   },
   "file_extension": ".py",
   "mimetype": "text/x-python",
   "name": "python",
   "nbconvert_exporter": "python",
   "pygments_lexer": "ipython3",
   "version": "3.5.2"
  }
 },
 "nbformat": 4,
 "nbformat_minor": 1
}
