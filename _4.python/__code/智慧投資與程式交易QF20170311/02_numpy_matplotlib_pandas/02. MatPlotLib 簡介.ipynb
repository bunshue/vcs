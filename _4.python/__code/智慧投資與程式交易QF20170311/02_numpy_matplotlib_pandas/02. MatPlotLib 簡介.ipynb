{
 "cells": [
  {
   "cell_type": "markdown",
   "metadata": {
    "collapsed": true
   },
   "source": [
    "# MatPlotLib 簡介"
   ]
  },
  {
   "cell_type": "markdown",
   "metadata": {},
   "source": [
    "### MatPlotLib 是 <font color=\"red\">Mat</font>rix <font color=\"red\">Plot</font>ting <font color=\"red\">Lib</font>ray 的縮寫。它是 Python 最主要的 2D 繪圖套件，是用 Python 來畫圖的首選套件。"
   ]
  },
  {
   "cell_type": "markdown",
   "metadata": {},
   "source": [
    "### 這一份筆記主要說明以下重點：\n",
    "\n",
    "* MatPlotLib 的架構\n",
    "* 怎麼使用 MatPlotLib 畫圖？\n",
    "* 針對一維資料作圖\n",
    "* 針對二維資料作圖\n",
    "* 控制線型、顏色\n",
    "* 控制圖形參數(標題、X軸、Y軸標題等)\n",
    "* 圖形上的文字標註\n",
    "* 圖面上的中文顯示\n",
    "* 子圖 (Subplot)\n",
    "* 畫其他的圖表 (散步圖、餅圖、直方圖等)\n",
    "* 金融圖形 (K線圖等等)\n",
    "\n",
    "參考資料：\n",
    "\n",
    "* [Github of Python for Finance](https://github.com/yhilpisch/py4fi)\n",
    "* [Github of Python for Data Analysis](https://github.com/wesm/pydata-book)\n",
    "* [Wiki - MatPlotLib](https://en.wikipedia.org/wiki/Matplotlib)"
   ]
  },
  {
   "cell_type": "markdown",
   "metadata": {},
   "source": [
    "## MatPlotLib 的架構\n",
    "\n",
    "MatPlotLib 的架構分成三層：Scripting Layer, Artist Layer, 跟 Backend Layer。\n",
    "\n",
    "Backend Layer 負責將圖形實際繪製出來。屬於比較低階的操作，一般使用者較少直接接觸。\n",
    "\n",
    "Artist Layer 負責告訴 Backend Layer 要畫那些東西，是用來組成繪圖物件 (lines, rectangles, text, 等等) 的地方，Artist 物件主要分成 Primitives 跟 Containers 兩種。Primitives 為需要被畫出來的圖形 (lines, rectangles 等)，而 Containers (如 axes 等) 則是用來放置圖形物件的地方。\n",
    "\n",
    "Scripting Layer 提供了更簡單的操作介面，讓使用者可以更容易地去控制 Artist Layer。初學者大致上只會用到 Scripting Layer。\n",
    "\n",
    "參考資料：\n",
    "\n",
    "* [MatPlotLib](http://www.aosabook.org/en/matplotlib.html)\n",
    "* [Artist Tutorial](http://matplotlib.org/users/artists.html)\n",
    "* [Plotting commands summary](http://matplotlib.org/api/pyplot_summary.html)"
   ]
  },
  {
   "cell_type": "markdown",
   "metadata": {},
   "source": [
    "<img src=\"images/three_layers.png\" width=300>"
   ]
  },
  {
   "cell_type": "markdown",
   "metadata": {},
   "source": [
    "[<img src=\"images/artists_figure.png\" width=\"600\">](http://www.aosabook.org/en/matplotlib.html)"
   ]
  },
  {
   "cell_type": "markdown",
   "metadata": {},
   "source": [
    "[<img src=\"images/artists_tree.png\" width=\"600\">](http://www.aosabook.org/en/matplotlib.html)"
   ]
  },
  {
   "cell_type": "markdown",
   "metadata": {},
   "source": [
    "## 怎麼使用 MatPlotLib 畫圖？\n",
    "\n",
    "在 Jupyter Notebook 裡面使用 MatPlotLib 畫圖可以加上底下的魔術命令，讓產生的圖形嵌入 HTML 頁面中。\n",
    "\n",
    "```\n",
    "%matplotlib inline\n",
    "```\n",
    "\n",
    "我們主要使用的是 matplotlib.pyplot 這個模組來做 scripting 的動作。\n",
    "\n",
    "慣例上，我們會用以下的方式載入模組。\n",
    "\n",
    "```\n",
    "import matplotlib.pyplot as plt\n",
    "```\n",
    "\n",
    "接著，使用 plt.plot() 函式即可作圖。"
   ]
  },
  {
   "cell_type": "code",
   "execution_count": null,
   "metadata": {
    "collapsed": true
   },
   "outputs": [],
   "source": [
    "%matplotlib inline\n",
    "\n",
    "# 載入 pyplot 時，通常使用如下慣例\n",
    "import matplotlib.pyplot as plt\n",
    "\n",
    "# 載入 numpy 時，通常使用如下慣例\n",
    "import numpy as np"
   ]
  },
  {
   "cell_type": "code",
   "execution_count": null,
   "metadata": {
    "collapsed": true
   },
   "outputs": [],
   "source": [
    "plt.plot?"
   ]
  },
  {
   "cell_type": "markdown",
   "metadata": {},
   "source": [
    "## 針對一維資料作圖"
   ]
  },
  {
   "cell_type": "code",
   "execution_count": null,
   "metadata": {
    "collapsed": false
   },
   "outputs": [],
   "source": [
    "x = np.arange(10)\n",
    "plt.plot(x)"
   ]
  },
  {
   "cell_type": "markdown",
   "metadata": {},
   "source": [
    "如果是寫成獨立的程式 (.py 檔)，則需用下面程式來顯示圖形。\n",
    "\n",
    "```\n",
    "plt.show()\n",
    "```"
   ]
  },
  {
   "cell_type": "markdown",
   "metadata": {},
   "source": [
    "## 針對二維資料作圖"
   ]
  },
  {
   "cell_type": "code",
   "execution_count": null,
   "metadata": {
    "collapsed": false
   },
   "outputs": [],
   "source": [
    "x = np.random.rand(10, 2)\n",
    "plt.plot(x)"
   ]
  },
  {
   "cell_type": "code",
   "execution_count": null,
   "metadata": {
    "collapsed": false
   },
   "outputs": [],
   "source": [
    "x = np.random.rand(10, 2)\n",
    "plt.plot(x)\n",
    "\n",
    "# 畫點\n",
    "i=3\n",
    "plt.plot(i, x[i, 0], '^')\n",
    "\n",
    "# 畫線 plt.plot([x1, x2], [y1, y2])\n",
    "j=7\n",
    "plt.plot([i, j], [x[i, 0], x[j, 0]], 'k-')"
   ]
  },
  {
   "cell_type": "markdown",
   "metadata": {},
   "source": [
    "## 控制線型、顏色\n",
    "\n",
    "參考資料：[matplotlib.pyplot.plot](http://matplotlib.org/api/pyplot_api.html#matplotlib.pyplot.plot)"
   ]
  },
  {
   "cell_type": "code",
   "execution_count": null,
   "metadata": {
    "collapsed": false
   },
   "outputs": [],
   "source": [
    "x = np.arange(10)\n",
    "plt.plot(x, 'r')"
   ]
  },
  {
   "cell_type": "code",
   "execution_count": null,
   "metadata": {
    "collapsed": false
   },
   "outputs": [],
   "source": [
    "x = np.arange(10)\n",
    "plt.plot(x, 'ro')"
   ]
  },
  {
   "cell_type": "code",
   "execution_count": null,
   "metadata": {
    "collapsed": false
   },
   "outputs": [],
   "source": [
    "x = np.arange(10)\n",
    "plt.plot(x, 'ro-')"
   ]
  },
  {
   "cell_type": "markdown",
   "metadata": {},
   "source": [
    "## 控制圖形參數(標題、X軸、Y軸標題等)"
   ]
  },
  {
   "cell_type": "code",
   "execution_count": null,
   "metadata": {
    "collapsed": false
   },
   "outputs": [],
   "source": [
    "x = np.arange(10)\n",
    "plt.plot(x, 'ro-')\n",
    "plt.title('Demo')\n",
    "plt.xlabel('X Axis')\n",
    "xplt.ylabel('Y Axis')"
   ]
  },
  {
   "cell_type": "code",
   "execution_count": null,
   "metadata": {
    "collapsed": false
   },
   "outputs": [],
   "source": [
    "x = np.random.rand(10)\n",
    "plt.plot(x)\n",
    "plt.grid(True)"
   ]
  },
  {
   "cell_type": "code",
   "execution_count": null,
   "metadata": {
    "collapsed": false
   },
   "outputs": [],
   "source": [
    "x = np.random.rand(10)\n",
    "plt.plot(x, label='line 01')\n",
    "plt.legend(loc=0)\n",
    "# location code 請參考：http://matplotlib.org/api/pyplot_api.html#matplotlib.pyplot.legend"
   ]
  },
  {
   "cell_type": "code",
   "execution_count": null,
   "metadata": {
    "collapsed": false
   },
   "outputs": [],
   "source": [
    "x = np.random.rand(10)\n",
    "plt.plot(x)\n",
    "plt.xlim(-1, 10)"
   ]
  },
  {
   "cell_type": "markdown",
   "metadata": {},
   "source": [
    "## 圖形上的文字標註\n",
    "\n",
    "參考：[Text Introduction](http://matplotlib.org/users/text_intro.html)"
   ]
  },
  {
   "cell_type": "code",
   "execution_count": null,
   "metadata": {
    "collapsed": false
   },
   "outputs": [],
   "source": [
    "x = np.random.rand(10)\n",
    "plt.plot(x)\n",
    "i = 5\n",
    "plt.text(i, x[i], str(x[i]))"
   ]
  },
  {
   "cell_type": "markdown",
   "metadata": {},
   "source": [
    "## 圖面上的中文顯示"
   ]
  },
  {
   "cell_type": "code",
   "execution_count": null,
   "metadata": {
    "collapsed": false
   },
   "outputs": [],
   "source": [
    "from matplotlib.font_manager import FontProperties\n",
    "font = FontProperties(fname=r\"c:\\windows\\fonts\\simsun.ttc\", size=14)\n",
    "\n",
    "x = np.arange(10)\n",
    "plt.plot(x)\n",
    "plt.title('中文測試', fontproperties=font)"
   ]
  },
  {
   "cell_type": "markdown",
   "metadata": {},
   "source": [
    "## 子圖 (Subplot)\n",
    "\n",
    "參考資料：[Subplot Demo](http://matplotlib.org/examples/pylab_examples/subplots_demo.html)"
   ]
  },
  {
   "cell_type": "code",
   "execution_count": null,
   "metadata": {
    "collapsed": false
   },
   "outputs": [],
   "source": [
    "plt.figure()\n",
    "plt.subplot(211)\n",
    "x = np.arange(10)\n",
    "plt.plot(x)\n",
    "plt.subplot(212)\n",
    "y = np.random.rand(10)\n",
    "plt.plot(y)"
   ]
  },
  {
   "cell_type": "code",
   "execution_count": null,
   "metadata": {
    "collapsed": false
   },
   "outputs": [],
   "source": [
    "plt.figure()\n",
    "plt.subplot(121)\n",
    "x = np.arange(10)\n",
    "plt.plot(x)\n",
    "plt.subplot(122)\n",
    "y = np.random.rand(10)\n",
    "plt.plot(y)"
   ]
  },
  {
   "cell_type": "code",
   "execution_count": null,
   "metadata": {
    "collapsed": false
   },
   "outputs": [],
   "source": [
    "plt.figure()\n",
    "plt.subplot(221)\n",
    "x1 = np.random.rand(10)\n",
    "plt.plot(x1, 'ro')\n",
    "plt.subplot(222)\n",
    "x2 = np.random.rand(10)\n",
    "plt.plot(x2, 'b^')\n",
    "plt.subplot(223)\n",
    "x3 = np.random.rand(10)\n",
    "plt.plot(x3, 'gx')\n",
    "plt.subplot(224)\n",
    "x4 = np.random.rand(10)\n",
    "plt.plot(x4, 'k*')"
   ]
  },
  {
   "cell_type": "markdown",
   "metadata": {},
   "source": [
    "## 畫其他的圖表 (散布圖、餅圖、直方圖等)"
   ]
  },
  {
   "cell_type": "code",
   "execution_count": null,
   "metadata": {
    "collapsed": false
   },
   "outputs": [],
   "source": [
    "# 請參考：http://matplotlib.org/examples/shapes_and_collections/scatter_demo.html\n",
    "N = 50\n",
    "x = np.random.rand(N)\n",
    "y = np.random.rand(N)\n",
    "colors = np.random.rand(N)\n",
    "area = np.pi * (15 * np.random.rand(N))**2  # 0 to 15 point radii\n",
    "\n",
    "plt.scatter(x, y, s=area, c=colors, alpha=0.5)"
   ]
  },
  {
   "cell_type": "code",
   "execution_count": null,
   "metadata": {
    "collapsed": false
   },
   "outputs": [],
   "source": [
    "# 請參考：http://matplotlib.org/examples/pie_and_polar_charts/pie_demo_features.html\n",
    "# Pie chart, where the slices will be ordered and plotted counter-clockwise:\n",
    "labels = 'Frogs', 'Hogs', 'Dogs', 'Logs'\n",
    "sizes = [15, 30, 45, 10]\n",
    "explode = (0, 0.1, 0, 0)  # only \"explode\" the 2nd slice (i.e. 'Hogs')\n",
    "\n",
    "fig1, ax1 = plt.subplots()\n",
    "ax1.pie(sizes, explode=explode, labels=labels, autopct='%1.1f%%',\n",
    "        shadow=True, startangle=90)\n",
    "ax1.axis('equal')  # Equal aspect ratio ensures that pie is drawn as a circle."
   ]
  },
  {
   "cell_type": "code",
   "execution_count": null,
   "metadata": {
    "collapsed": false
   },
   "outputs": [],
   "source": [
    "# bar chart - 1\n",
    "N = 10\n",
    "y = np.random.randint(1, 10, size=N)\n",
    "x = range(N)\n",
    "width = 0.5\n",
    "plt.bar(x, y, width, color=\"blue\")"
   ]
  },
  {
   "cell_type": "code",
   "execution_count": null,
   "metadata": {
    "collapsed": false
   },
   "outputs": [],
   "source": [
    "# bar chart - 2\n",
    "N = 10\n",
    "y = np.random.randint(1, 10, size=N)\n",
    "x = np.arange(N)\n",
    "width = 0.5\n",
    "plt.bar(x - 0.25, y, width, color=\"blue\")\n",
    "plt.xlim(-1, 10)"
   ]
  },
  {
   "cell_type": "code",
   "execution_count": null,
   "metadata": {
    "collapsed": false
   },
   "outputs": [],
   "source": [
    "y"
   ]
  },
  {
   "cell_type": "code",
   "execution_count": null,
   "metadata": {
    "collapsed": false
   },
   "outputs": [],
   "source": [
    "# histogram\n",
    "x = np.random.randn(1000)\n",
    "n_bins = 10\n",
    "\n",
    "plt.hist(x, n_bins, color='g', rwidth=0.8)"
   ]
  },
  {
   "cell_type": "markdown",
   "metadata": {},
   "source": [
    "## 金融圖形 (K線圖等等)"
   ]
  },
  {
   "cell_type": "code",
   "execution_count": null,
   "metadata": {
    "collapsed": false
   },
   "outputs": [],
   "source": [
    "import matplotlib.finance as mpf\n",
    "\n",
    "start = (2014, 5, 1)\n",
    "end = (2014, 6, 30)\n",
    "\n",
    "quotes = mpf.quotes_historical_yahoo_ohlc('YHOO', start, end)"
   ]
  },
  {
   "cell_type": "code",
   "execution_count": null,
   "metadata": {
    "collapsed": false
   },
   "outputs": [],
   "source": [
    "fig, ax = plt.subplots(figsize=(8, 5))\n",
    "fig.subplots_adjust(bottom=0.2)\n",
    "mpf.candlestick_ohlc(ax, quotes, width=0.6, colorup='g', colordown='r')\n",
    "plt.grid(True)\n",
    "ax.xaxis_date()  # dates on the x axis\n",
    "ax.autoscale_view()\n",
    "plt.setp(plt.gca().get_xticklabels(), rotation=30)"
   ]
  },
  {
   "cell_type": "code",
   "execution_count": null,
   "metadata": {
    "collapsed": false
   },
   "outputs": [],
   "source": [
    "fig, ax = plt.subplots(figsize=(8, 5))\n",
    "mpf.plot_day_summary_ohlc(ax, quotes, colorup='g', colordown='r')\n",
    "plt.grid(True)\n",
    "ax.xaxis_date()\n",
    "plt.title('Yahoo Inc.')\n",
    "plt.ylabel('Prices')\n",
    "plt.setp(plt.gca().get_xticklabels(), rotation=30)"
   ]
  },
  {
   "cell_type": "code",
   "execution_count": null,
   "metadata": {
    "collapsed": false
   },
   "outputs": [],
   "source": [
    "quotes = np.array(quotes)\n",
    "fig, (ax1, ax2) = plt.subplots(2, sharex=True, figsize=(8, 6))\n",
    "mpf.candlestick_ohlc(ax1, quotes, width=0.6, colorup='g', colordown='r')\n",
    "ax1.set_title('Yahoo Inc.')\n",
    "ax1.set_ylabel('Prices')\n",
    "ax1.grid(True)\n",
    "ax1.xaxis_date()\n",
    "plt.bar(quotes[:, 0] - 0.25, quotes[:, 5], width=0.5)\n",
    "ax2.set_ylabel('volume')\n",
    "ax2.grid(True)\n",
    "ax2.autoscale_view()\n",
    "plt.setp(plt.gca().get_xticklabels(), rotation=30)"
   ]
  }
 ],
 "metadata": {
  "anaconda-cloud": {},
  "kernelspec": {
   "display_name": "Python [conda root]",
   "language": "python",
   "name": "conda-root-py"
  },
  "language_info": {
   "codemirror_mode": {
    "name": "ipython",
    "version": 3
   },
   "file_extension": ".py",
   "mimetype": "text/x-python",
   "name": "python",
   "nbconvert_exporter": "python",
   "pygments_lexer": "ipython3",
   "version": "3.5.2"
  }
 },
 "nbformat": 4,
 "nbformat_minor": 1
}
