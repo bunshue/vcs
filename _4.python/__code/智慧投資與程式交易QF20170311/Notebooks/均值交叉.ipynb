{
 "cells": [
  {
   "cell_type": "markdown",
   "metadata": {},
   "source": [
    "# 均值交叉"
   ]
  },
  {
   "cell_type": "code",
   "execution_count": null,
   "metadata": {
    "collapsed": false
   },
   "outputs": [],
   "source": [
    "%matplotlib inline\n",
    "\n",
    "# Pandas v0.16 之前，使用下面這個\n",
    "# import pandas.io.data as web\n",
    "\n",
    "# Pandas v0.16 之後，使用下面這個\n",
    "import pandas_datareader.data as web\n",
    "\n",
    "import pandas as pd\n",
    "\n",
    "from pandas import Series, DataFrame\n",
    "\n",
    "import matplotlib.pyplot as plt\n",
    "import numpy as np\n",
    "\n",
    "from datetime import datetime"
   ]
  },
  {
   "cell_type": "code",
   "execution_count": null,
   "metadata": {
    "collapsed": true
   },
   "outputs": [],
   "source": [
    "# 讀取從指定日期之後的股價資訊\n",
    "df=web.DataReader(\"TSLA\", 'yahoo', datetime(2016,8,1))"
   ]
  },
  {
   "cell_type": "code",
   "execution_count": null,
   "metadata": {
    "collapsed": false
   },
   "outputs": [],
   "source": [
    "# 計算均線\n",
    "df['20d'] = np.round(pd.Series.rolling(df['Close'], window=20).mean(), 2)\n",
    "df['60d'] = np.round(pd.Series.rolling(df['Close'], window=60).mean(), 2)\n",
    "\n",
    "# 判斷均線向上或向下\n",
    "df['20d_diff'] = np.round(df['20d'].diff(), 2)\n",
    "df['60d_diff'] = np.round(df['60d'].diff(), 2)"
   ]
  },
  {
   "cell_type": "code",
   "execution_count": null,
   "metadata": {
    "collapsed": false
   },
   "outputs": [],
   "source": [
    "df[['Close','20d','60d']].plot(grid=True, figsize=(10,8))"
   ]
  },
  {
   "cell_type": "code",
   "execution_count": null,
   "metadata": {
    "collapsed": false
   },
   "outputs": [],
   "source": [
    "# Donchian Channel\n",
    "df['20d_high'] = np.round(pd.Series.rolling(df['Close'], window=20).max(), 2)\n",
    "df['10d_low'] = np.round(pd.Series.rolling(df['Close'], window=10).min(), 2)"
   ]
  },
  {
   "cell_type": "markdown",
   "metadata": {},
   "source": [
    "## 策略"
   ]
  },
  {
   "cell_type": "markdown",
   "metadata": {},
   "source": [
    "進出點的計算，可以參考：\n",
    "\n",
    "https://www.quantstart.com/articles/Backtesting-a-Moving-Average-Crossover-in-Python-with-pandas"
   ]
  },
  {
   "cell_type": "code",
   "execution_count": null,
   "metadata": {
    "collapsed": false
   },
   "outputs": [],
   "source": [
    "# 第一個策略\n",
    "df['positions'] = np.where(df['20d']-df['60d'] > 0, 1.0, 0.0)\n",
    "\n",
    "df['signals'] = df['positions'].diff()"
   ]
  },
  {
   "cell_type": "code",
   "execution_count": null,
   "metadata": {
    "collapsed": true
   },
   "outputs": [],
   "source": [
    "# 第二個策略\n",
    "df['positions'] = np.where(np.logical_and(df['20d']-df['60d'] > 0, df['20d_diff'] > 0), 1.0, 0.0)\n",
    "\n",
    "df['signals'] = df['positions'].diff()"
   ]
  },
  {
   "cell_type": "code",
   "execution_count": null,
   "metadata": {
    "collapsed": false
   },
   "outputs": [],
   "source": [
    "# 第三個策略\n",
    "has_position = False\n",
    "df['signals'] = np.zeros(np.size(df['Close']))\n",
    "for t in range(2, df['signals'].size):\n",
    "    if df['Close'][t] > df['20d_high'][t-1]:\n",
    "        if not has_position:\n",
    "            df.loc[df.index[t], 'signals'] = 1.0\n",
    "            has_position = True\n",
    "    elif df['Close'][t] < df['10d_low'][t-1]:\n",
    "        if has_position:\n",
    "            df.loc[df.index[t], 'signals'] = -1.0\n",
    "            has_position = False\n",
    "\n",
    "df['positions'] = df['signals'].cumsum()"
   ]
  },
  {
   "cell_type": "code",
   "execution_count": null,
   "metadata": {
    "collapsed": false
   },
   "outputs": [],
   "source": [
    "fig = plt.figure()\n",
    "fig.patch.set_facecolor('white')     # Set the outer colour to white\n",
    "ax1 = fig.add_subplot(111,  ylabel='Price in $')\n",
    "    \n",
    "# Plot the AAPL closing price overlaid with the moving averages\n",
    "df['Close'].plot(ax=ax1, color='gray', lw=1., figsize=(10,8))\n",
    "df[['20d', '60d']].plot(ax=ax1, lw=2., grid=True)\n",
    "df[['20d_high', '10d_low']].plot(ax=ax1, lw=2., grid=True)\n",
    "\n",
    "# Plot the \"buy\" trades against AAPL\n",
    "#ax1.plot(df.ix[df.signals == 1.0].index,df['20d'][df.signals == 1.0],'^', markersize=10, color='r')\n",
    "ax1.plot(df.ix[df.signals == 1.0].index,df['Close'][df.signals == 1.0],'^', markersize=10, color='r')\n",
    "\n",
    "# Plot the \"sell\" trades against AAPL\n",
    "#ax1.plot(df.ix[df.signals == -1.0].index, df['20d'][df.signals == -1.0], 'v', markersize=10, color='k')\n",
    "ax1.plot(df.ix[df.signals == -1.0].index, df['Close'][df.signals == -1.0], 'v', markersize=10, color='k')"
   ]
  },
  {
   "cell_type": "markdown",
   "metadata": {},
   "source": [
    "## 計算Sharpe Ratio"
   ]
  },
  {
   "cell_type": "code",
   "execution_count": null,
   "metadata": {
    "collapsed": true
   },
   "outputs": [],
   "source": [
    "dailyRet = df['Close'].pct_change()"
   ]
  },
  {
   "cell_type": "code",
   "execution_count": null,
   "metadata": {
    "collapsed": false
   },
   "outputs": [],
   "source": [
    "#假設無風險利率為 4%\n",
    "#假設一年有252個交易日\n",
    "excessRet = (dailyRet - 0.04/252)[df['positions']==1.0]\n",
    "\n",
    "sharpeRatio = np.sqrt(252.0)*np.mean(excessRet)/np.std(excessRet)"
   ]
  },
  {
   "cell_type": "code",
   "execution_count": null,
   "metadata": {
    "collapsed": false
   },
   "outputs": [],
   "source": [
    "sharpeRatio"
   ]
  },
  {
   "cell_type": "markdown",
   "metadata": {},
   "source": [
    "## 計算MaxDD跟MaxDDD"
   ]
  },
  {
   "cell_type": "code",
   "execution_count": null,
   "metadata": {
    "collapsed": true
   },
   "outputs": [],
   "source": [
    "# maxDD: maximum drawdown\n",
    "# maxDDD: maximum drawdown duration\n",
    "\n",
    "def calculateMaxDD(cumRet):\n",
    "    highwatermark = np.zeros(np.size(cumRet))\n",
    "    drawdownduration = np.zeros(np.size(cumRet))\n",
    "    drawdown = np.zeros(np.size(cumRet))\n",
    "    for t in range(2, cumRet.size):\n",
    "        highwatermark[t] = max(highwatermark[t-1], cumRet[t])\n",
    "        drawdown[t] = (1 + highwatermark[t]) / (1 + cumRet[t]) - 1\n",
    "        if (drawdown[t] == 0):\n",
    "            drawdownduration[t] = 0\n",
    "        else:\n",
    "            # 從日期來計算 MaxDDD 的天數\n",
    "            drawdownduration[t] = drawdownduration[t-1] + (cumRet.index[t]-cumRet.index[t-1]).days\n",
    "            #drawdownduration[t] = drawdownduration[t-1] + 1\n",
    "    maxDD = max(drawdown)\n",
    "    maxDDD = max(drawdownduration)\n",
    "    Series(drawdownduration, index=cumRet.index).plot()\n",
    "    return maxDD, maxDDD"
   ]
  },
  {
   "cell_type": "code",
   "execution_count": null,
   "metadata": {
    "collapsed": true
   },
   "outputs": [],
   "source": [
    "cumRet = np.cumprod(1 + excessRet) - 1"
   ]
  },
  {
   "cell_type": "code",
   "execution_count": null,
   "metadata": {
    "collapsed": false
   },
   "outputs": [],
   "source": [
    "calculateMaxDD(cumRet)"
   ]
  },
  {
   "cell_type": "code",
   "execution_count": null,
   "metadata": {
    "collapsed": false
   },
   "outputs": [],
   "source": [
    "cumRet.plot(style='ro-')"
   ]
  }
 ],
 "metadata": {
  "anaconda-cloud": {},
  "kernelspec": {
   "display_name": "Python [conda root]",
   "language": "python",
   "name": "conda-root-py"
  },
  "language_info": {
   "codemirror_mode": {
    "name": "ipython",
    "version": 3
   },
   "file_extension": ".py",
   "mimetype": "text/x-python",
   "name": "python",
   "nbconvert_exporter": "python",
   "pygments_lexer": "ipython3",
   "version": "3.5.2"
  }
 },
 "nbformat": 4,
 "nbformat_minor": 0
}
