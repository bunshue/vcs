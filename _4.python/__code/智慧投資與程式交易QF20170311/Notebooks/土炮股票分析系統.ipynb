{
 "cells": [
  {
   "cell_type": "markdown",
   "metadata": {},
   "source": [
    "# 土炮股票分析系統"
   ]
  },
  {
   "cell_type": "markdown",
   "metadata": {},
   "source": [
    "這個範例只是將上課所講過的所有例子串在一起，提供一個簡單的概念，讓大家知道一個簡單的分析系統大概可以怎麼做。\n",
    "\n",
    "例子裡面有很多不足的地方，請自行思考如何修改。\n",
    "\n",
    "這個範例主要做的事是下方方塊圖的藍色區塊部分。"
   ]
  },
  {
   "cell_type": "markdown",
   "metadata": {},
   "source": [
    "<img src=\"system.png\" />"
   ]
  },
  {
   "cell_type": "markdown",
   "metadata": {},
   "source": [
    "## 抓取公司資料"
   ]
  },
  {
   "cell_type": "code",
   "execution_count": 1,
   "metadata": {
    "collapsed": true
   },
   "outputs": [],
   "source": [
    "import pandas as pd"
   ]
  },
  {
   "cell_type": "code",
   "execution_count": 2,
   "metadata": {
    "collapsed": true
   },
   "outputs": [],
   "source": [
    "url = \"http://www.nasdaq.com/screening/companies-by-industry.aspx?exchange=NASDAQ&render=download\"\n",
    "data = pd.read_csv(url)"
   ]
  },
  {
   "cell_type": "code",
   "execution_count": 3,
   "metadata": {
    "collapsed": false
   },
   "outputs": [
    {
     "data": {
      "text/html": [
       "<div>\n",
       "<table border=\"1\" class=\"dataframe\">\n",
       "  <thead>\n",
       "    <tr style=\"text-align: right;\">\n",
       "      <th></th>\n",
       "      <th>Symbol</th>\n",
       "      <th>Name</th>\n",
       "      <th>LastSale</th>\n",
       "      <th>MarketCap</th>\n",
       "      <th>ADR TSO</th>\n",
       "      <th>IPOyear</th>\n",
       "      <th>Sector</th>\n",
       "      <th>Industry</th>\n",
       "      <th>Summary Quote</th>\n",
       "      <th>Unnamed: 9</th>\n",
       "    </tr>\n",
       "  </thead>\n",
       "  <tbody>\n",
       "    <tr>\n",
       "      <th>0</th>\n",
       "      <td>PIH</td>\n",
       "      <td>1347 Property Insurance Holdings, Inc.</td>\n",
       "      <td>7.75</td>\n",
       "      <td>4.616494e+07</td>\n",
       "      <td>n/a</td>\n",
       "      <td>2014</td>\n",
       "      <td>Finance</td>\n",
       "      <td>Property-Casualty Insurers</td>\n",
       "      <td>http://www.nasdaq.com/symbol/pih</td>\n",
       "      <td>NaN</td>\n",
       "    </tr>\n",
       "    <tr>\n",
       "      <th>1</th>\n",
       "      <td>FLWS</td>\n",
       "      <td>1-800 FLOWERS.COM, Inc.</td>\n",
       "      <td>10</td>\n",
       "      <td>6.556906e+08</td>\n",
       "      <td>n/a</td>\n",
       "      <td>1999</td>\n",
       "      <td>Consumer Services</td>\n",
       "      <td>Other Specialty Stores</td>\n",
       "      <td>http://www.nasdaq.com/symbol/flws</td>\n",
       "      <td>NaN</td>\n",
       "    </tr>\n",
       "    <tr>\n",
       "      <th>2</th>\n",
       "      <td>FCCY</td>\n",
       "      <td>1st Constitution Bancorp (NJ)</td>\n",
       "      <td>18.35</td>\n",
       "      <td>1.473017e+08</td>\n",
       "      <td>n/a</td>\n",
       "      <td>n/a</td>\n",
       "      <td>Finance</td>\n",
       "      <td>Savings Institutions</td>\n",
       "      <td>http://www.nasdaq.com/symbol/fccy</td>\n",
       "      <td>NaN</td>\n",
       "    </tr>\n",
       "    <tr>\n",
       "      <th>3</th>\n",
       "      <td>SRCE</td>\n",
       "      <td>1st Source Corporation</td>\n",
       "      <td>46</td>\n",
       "      <td>1.237065e+09</td>\n",
       "      <td>n/a</td>\n",
       "      <td>n/a</td>\n",
       "      <td>Finance</td>\n",
       "      <td>Major Banks</td>\n",
       "      <td>http://www.nasdaq.com/symbol/srce</td>\n",
       "      <td>NaN</td>\n",
       "    </tr>\n",
       "    <tr>\n",
       "      <th>4</th>\n",
       "      <td>VNET</td>\n",
       "      <td>21Vianet Group, Inc.</td>\n",
       "      <td>5.45</td>\n",
       "      <td>3.159063e+08</td>\n",
       "      <td>57964466</td>\n",
       "      <td>2011</td>\n",
       "      <td>Technology</td>\n",
       "      <td>Computer Software: Programming, Data Processing</td>\n",
       "      <td>http://www.nasdaq.com/symbol/vnet</td>\n",
       "      <td>NaN</td>\n",
       "    </tr>\n",
       "  </tbody>\n",
       "</table>\n",
       "</div>"
      ],
      "text/plain": [
       "  Symbol                                    Name LastSale     MarketCap  \\\n",
       "0    PIH  1347 Property Insurance Holdings, Inc.     7.75  4.616494e+07   \n",
       "1   FLWS                 1-800 FLOWERS.COM, Inc.       10  6.556906e+08   \n",
       "2   FCCY           1st Constitution Bancorp (NJ)    18.35  1.473017e+08   \n",
       "3   SRCE                  1st Source Corporation       46  1.237065e+09   \n",
       "4   VNET                    21Vianet Group, Inc.     5.45  3.159063e+08   \n",
       "\n",
       "    ADR TSO IPOyear             Sector  \\\n",
       "0       n/a    2014            Finance   \n",
       "1       n/a    1999  Consumer Services   \n",
       "2       n/a     n/a            Finance   \n",
       "3       n/a     n/a            Finance   \n",
       "4  57964466    2011         Technology   \n",
       "\n",
       "                                          Industry  \\\n",
       "0                       Property-Casualty Insurers   \n",
       "1                           Other Specialty Stores   \n",
       "2                             Savings Institutions   \n",
       "3                                      Major Banks   \n",
       "4  Computer Software: Programming, Data Processing   \n",
       "\n",
       "                       Summary Quote  Unnamed: 9  \n",
       "0   http://www.nasdaq.com/symbol/pih         NaN  \n",
       "1  http://www.nasdaq.com/symbol/flws         NaN  \n",
       "2  http://www.nasdaq.com/symbol/fccy         NaN  \n",
       "3  http://www.nasdaq.com/symbol/srce         NaN  \n",
       "4  http://www.nasdaq.com/symbol/vnet         NaN  "
      ]
     },
     "execution_count": 3,
     "metadata": {},
     "output_type": "execute_result"
    }
   ],
   "source": [
    "data.head()"
   ]
  },
  {
   "cell_type": "code",
   "execution_count": 30,
   "metadata": {
    "collapsed": false
   },
   "outputs": [
    {
     "data": {
      "text/plain": [
       "3194"
      ]
     },
     "execution_count": 30,
     "metadata": {},
     "output_type": "execute_result"
    }
   ],
   "source": [
    "# 看一下有幾筆資料\n",
    "len(data.index)"
   ]
  },
  {
   "cell_type": "code",
   "execution_count": 31,
   "metadata": {
    "collapsed": false
   },
   "outputs": [
    {
     "data": {
      "text/plain": [
       "(3194, 10)"
      ]
     },
     "execution_count": 31,
     "metadata": {},
     "output_type": "execute_result"
    }
   ],
   "source": [
    "# 也可以這樣看\n",
    "data.shape"
   ]
  },
  {
   "cell_type": "code",
   "execution_count": 4,
   "metadata": {
    "collapsed": false
   },
   "outputs": [],
   "source": [
    "# 作為範例取出前十筆來做就好了，因為太多筆沒辦法在課堂上示範...\n",
    "# 另外連續頻繁抓資料，會被 Yahoo Finance 視為攻擊，之後會抓不到資料。\n",
    "companylist = data['Symbol'][0:10].tolist()"
   ]
  },
  {
   "cell_type": "markdown",
   "metadata": {},
   "source": [
    "## 波動率選股"
   ]
  },
  {
   "cell_type": "markdown",
   "metadata": {},
   "source": [
    "我們通常只抓一次股市資料，然後存到資料庫裏面去，之後就從自己的資料庫裏面撈數據出來分析。\n",
    "\n",
    "這個地方因為為了搭配先前講過的例子，所以只是把例子裡面的做法放到 Function 裡面來。\n",
    "\n",
    "須注意這樣的作法只是上課 Demo 用。"
   ]
  },
  {
   "cell_type": "code",
   "execution_count": 5,
   "metadata": {
    "collapsed": true
   },
   "outputs": [],
   "source": [
    "import pandas_datareader.data as web\n",
    "\n",
    "from datetime import datetime\n",
    "import numpy as np"
   ]
  },
  {
   "cell_type": "code",
   "execution_count": 6,
   "metadata": {
    "collapsed": false
   },
   "outputs": [],
   "source": [
    "def calculate(symbol):\n",
    "    df=web.DataReader(symbol, 'yahoo', datetime(2016,1,1))\n",
    "    dailyRet = df['Close'].pct_change()\n",
    "    return dailyRet.std() * np.sqrt(dailyRet.count())"
   ]
  },
  {
   "cell_type": "code",
   "execution_count": 7,
   "metadata": {
    "collapsed": false
   },
   "outputs": [
    {
     "data": {
      "text/plain": [
       "[(0.25794035156814438, 'SRCE'),\n",
       " (0.31272750011364076, 'FCCY'),\n",
       " (0.330983681309094, 'JOBS'),\n",
       " (0.34290380530118231, 'CAFD'),\n",
       " (0.39479008245348252, 'AVHI'),\n",
       " (0.40207272370844577, 'PIH'),\n",
       " (0.43052125071921138, 'FLWS'),\n",
       " (0.43309126135239229, 'TWOU'),\n",
       " (0.43834253033351334, 'EGHT'),\n",
       " (0.61780762479051854, 'VNET')]"
      ]
     },
     "execution_count": 7,
     "metadata": {},
     "output_type": "execute_result"
    }
   ],
   "source": [
    "results = []\n",
    "for symbol in companylist:\n",
    "    vo = calculate(symbol)\n",
    "    results.append((vo, symbol))\n",
    "results.sort()\n",
    "results"
   ]
  },
  {
   "cell_type": "code",
   "execution_count": 8,
   "metadata": {
    "collapsed": false
   },
   "outputs": [
    {
     "data": {
      "text/plain": [
       "['SRCE', 'FCCY', 'JOBS', 'CAFD', 'AVHI']"
      ]
     },
     "execution_count": 8,
     "metadata": {},
     "output_type": "execute_result"
    }
   ],
   "source": [
    "# 選出波動率最小的前五檔股票\n",
    "computer_selected = np.array(results)[:, 1][:5].tolist()\n",
    "computer_selected"
   ]
  },
  {
   "cell_type": "markdown",
   "metadata": {},
   "source": [
    "# 加入自選股"
   ]
  },
  {
   "cell_type": "code",
   "execution_count": 9,
   "metadata": {
    "collapsed": true
   },
   "outputs": [],
   "source": [
    "# 上面是電腦幫忙選股...\n",
    "# 底下是自己因為看新聞、聽小道消息等等的靈機一閃後，想看看看回測狀況好不好的股票\n",
    "# 它只是一個簡單的 list 會被一起放進去回測看看\n",
    "self_selected = ['TSLA', 'GOOG', 'YHOO', 'MSFT', 'AAPL']"
   ]
  },
  {
   "cell_type": "code",
   "execution_count": 10,
   "metadata": {
    "collapsed": true
   },
   "outputs": [],
   "source": [
    "candidates = computer_selected + self_selected"
   ]
  },
  {
   "cell_type": "code",
   "execution_count": 11,
   "metadata": {
    "collapsed": true
   },
   "outputs": [],
   "source": [
    "# 放到 set 中的重複性資料只會被保留一份\n",
    "candidates = set(candidates)"
   ]
  },
  {
   "cell_type": "code",
   "execution_count": 12,
   "metadata": {
    "collapsed": true
   },
   "outputs": [],
   "source": [
    "# 這是刪掉重複資料後的候選名單\n",
    "candidates = list(candidates)"
   ]
  },
  {
   "cell_type": "markdown",
   "metadata": {},
   "source": [
    "# 回測"
   ]
  },
  {
   "cell_type": "code",
   "execution_count": 13,
   "metadata": {
    "collapsed": true
   },
   "outputs": [],
   "source": [
    "# maxDD: maximum drawdown\n",
    "# maxDDD: maximum drawdown duration\n",
    "\n",
    "def calculateMaxDD(cumRet):\n",
    "    highwatermark = np.zeros(np.size(cumRet))\n",
    "    drawdownduration = np.zeros(np.size(cumRet))\n",
    "    drawdown = np.zeros(np.size(cumRet))\n",
    "    for t in range(2, cumRet.size):\n",
    "        highwatermark[t] = max(highwatermark[t-1], cumRet[t])\n",
    "        drawdown[t] = (1 + highwatermark[t]) / (1 + cumRet[t]) - 1\n",
    "        if (drawdown[t] == 0):\n",
    "            drawdownduration[t] = 0\n",
    "        else:\n",
    "            # 從日期來計算 MaxDDD 的天數\n",
    "            drawdownduration[t] = drawdownduration[t-1] + (cumRet.index[t]-cumRet.index[t-1]).days\n",
    "            #drawdownduration[t] = drawdownduration[t-1] + 1\n",
    "    maxDD = max(drawdown)\n",
    "    maxDDD = max(drawdownduration)\n",
    "    #Series(drawdownduration, index=cumRet.index).plot()\n",
    "    return maxDD, maxDDD"
   ]
  },
  {
   "cell_type": "code",
   "execution_count": 26,
   "metadata": {
    "collapsed": true
   },
   "outputs": [],
   "source": [
    "# 利用策略產生的持有部位資訊，計算底下四個指標來判斷投資績效\n",
    "# sharpe ratio: 判斷報酬的好壞跟穩定度，數值越大越好\n",
    "# maxdd: maximum drawdown, 最糟糕的狀況會賠幾 %\n",
    "# maxddd: maximum drawdown duration, 低於上一次最高報酬的天數\n",
    "# cumRet[-1]: 最後賺的 % 數\n",
    "\n",
    "def indicators(df):\n",
    "    dailyRet = df['Close'].pct_change()\n",
    "    #假設無風險利率為 4%\n",
    "    #假設一年有252個交易日\n",
    "    excessRet = (dailyRet - 0.04/252)[df['positions']==1.0]\n",
    "    SharpeRatio = np.sqrt(252.0)*np.mean(excessRet)/np.std(excessRet)\n",
    "    \n",
    "    cumRet = np.cumprod(1+excessRet) - 1\n",
    "    \n",
    "    maxdd, maxddd = calculateMaxDD(cumRet)\n",
    "    \n",
    "    return SharpeRatio, maxdd, maxddd, cumRet[-1]"
   ]
  },
  {
   "cell_type": "code",
   "execution_count": 27,
   "metadata": {
    "collapsed": true
   },
   "outputs": [],
   "source": [
    "# 這是我們的策略的部分\n",
    "# 主要只是要算出進出的訊號 signals 跟何時持有部位 positions\n",
    "# 底下是一個突破系統的範例\n",
    "\n",
    "def strategy(df):\n",
    "    # Donchian Channel\n",
    "    df['20d_high'] = np.round(pd.Series.rolling(df['Close'], window=20).max(), 2)\n",
    "    df['10d_low'] = np.round(pd.Series.rolling(df['Close'], window=10).min(), 2)\n",
    "\n",
    "    has_position = False\n",
    "    df['signals'] = np.zeros(df['Close'].shape)\n",
    "    for t in range(2, df['signals'].size):\n",
    "        if df['Close'][t] > df['20d_high'][t-1]:\n",
    "            if not has_position:\n",
    "                df.loc[df.index[t], 'signals'] = 1.0\n",
    "                has_position = True\n",
    "        elif df['Close'][t] < df['10d_low'][t-1]:\n",
    "            if has_position:\n",
    "                df.loc[df.index[t], 'signals'] = -1.0\n",
    "                has_position = False\n",
    "\n",
    "    df['positions'] = df['signals'].cumsum()\n",
    "    return df"
   ]
  },
  {
   "cell_type": "code",
   "execution_count": 16,
   "metadata": {
    "collapsed": false
   },
   "outputs": [],
   "source": [
    "# 先把所有股票資料抓下來，放到字典上面去\n",
    "# 因為我們在這裡沒有使用資料庫，所以用字典來做存放\n",
    "all_data = {}\n",
    "\n",
    "for symbol in candidates:\n",
    "    all_data[symbol] = web.DataReader(symbol, 'yahoo', datetime(2016,1,1))"
   ]
  },
  {
   "cell_type": "code",
   "execution_count": 28,
   "metadata": {
    "collapsed": false
   },
   "outputs": [
    {
     "data": {
      "text/plain": [
       "[(5.4564476007438261, 0.07171142504927519, 77.0, 1.1044224304255064, 'TSLA'),\n",
       " (2.7822634509541655, 0.098059598858270203, 93.0, 0.22138536512882911, 'CAFD'),\n",
       " (3.1486331538755912,\n",
       "  0.061363744885344795,\n",
       "  140.0,\n",
       "  0.56309993390290836,\n",
       "  'YHOO'),\n",
       " (4.708499546920649, 0.028184773453298506, 41.0, 0.73790667871997262, 'AAPL'),\n",
       " (1.6168150645512951, 0.062648284422384126, 88.0, 0.14137640240921101, 'GOOG'),\n",
       " (3.2011008420921683, 0.070477704348795189, 145.0, 0.6192054325574301, 'FCCY'),\n",
       " (3.0388235738433536, 0.042810886085439037, 60.0, 0.32747044600240693, 'MSFT'),\n",
       " (3.0951853865829002, 0.063731057069693176, 80.0, 0.5344158833476147, 'SRCE'),\n",
       " (2.0064367851757168,\n",
       "  0.093937685286554329,\n",
       "  127.0,\n",
       "  0.41459738917689437,\n",
       "  'JOBS'),\n",
       " (3.3518546962135547, 0.080871012332741632, 77.0, 0.74975492541502708, 'AVHI')]"
      ]
     },
     "execution_count": 28,
     "metadata": {},
     "output_type": "execute_result"
    }
   ],
   "source": [
    "# 計算各支股票的回測結果\n",
    "results = []\n",
    "for symbol in candidates:\n",
    "    strategy(all_data[symbol])\n",
    "    SharpeRatio, maxdd, maxddd, finalRet = indicators(all_data[symbol])\n",
    "    results.append((SharpeRatio, maxdd, maxddd, finalRet, symbol))\n",
    "\n",
    "results"
   ]
  },
  {
   "cell_type": "code",
   "execution_count": 29,
   "metadata": {
    "collapsed": false
   },
   "outputs": [
    {
     "data": {
      "text/plain": [
       "[(5.4564476007438261, 0.07171142504927519, 77.0, 1.1044224304255064, 'TSLA'),\n",
       " (4.708499546920649, 0.028184773453298506, 41.0, 0.73790667871997262, 'AAPL'),\n",
       " (3.3518546962135547, 0.080871012332741632, 77.0, 0.74975492541502708, 'AVHI'),\n",
       " (3.2011008420921683, 0.070477704348795189, 145.0, 0.6192054325574301, 'FCCY'),\n",
       " (3.1486331538755912,\n",
       "  0.061363744885344795,\n",
       "  140.0,\n",
       "  0.56309993390290836,\n",
       "  'YHOO'),\n",
       " (3.0951853865829002, 0.063731057069693176, 80.0, 0.5344158833476147, 'SRCE'),\n",
       " (3.0388235738433536, 0.042810886085439037, 60.0, 0.32747044600240693, 'MSFT'),\n",
       " (2.7822634509541655, 0.098059598858270203, 93.0, 0.22138536512882911, 'CAFD'),\n",
       " (2.0064367851757168,\n",
       "  0.093937685286554329,\n",
       "  127.0,\n",
       "  0.41459738917689437,\n",
       "  'JOBS'),\n",
       " (1.6168150645512951, 0.062648284422384126, 88.0, 0.14137640240921101, 'GOOG')]"
      ]
     },
     "execution_count": 29,
     "metadata": {},
     "output_type": "execute_result"
    }
   ],
   "source": [
    "# 排序股票，取 Sharpe Ratio 高的前幾名當標的\n",
    "sorted(results, reverse=True)"
   ]
  }
 ],
 "metadata": {
  "anaconda-cloud": {},
  "kernelspec": {
   "display_name": "Python [conda root]",
   "language": "python",
   "name": "conda-root-py"
  },
  "language_info": {
   "codemirror_mode": {
    "name": "ipython",
    "version": 3
   },
   "file_extension": ".py",
   "mimetype": "text/x-python",
   "name": "python",
   "nbconvert_exporter": "python",
   "pygments_lexer": "ipython3",
   "version": "3.5.2"
  }
 },
 "nbformat": 4,
 "nbformat_minor": 1
}
