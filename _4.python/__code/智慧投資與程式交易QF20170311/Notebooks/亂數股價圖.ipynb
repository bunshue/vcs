{
 "cells": [
  {
   "cell_type": "code",
   "execution_count": null,
   "metadata": {
    "collapsed": true
   },
   "outputs": [],
   "source": [
    "%matplotlib inline\n",
    "\n",
    "import matplotlib.pyplot as plt\n",
    "import random"
   ]
  },
  {
   "cell_type": "code",
   "execution_count": null,
   "metadata": {
    "collapsed": false
   },
   "outputs": [],
   "source": [
    "duration = 100\n",
    "mean = 0.0\n",
    "std = 1.0\n",
    "\n",
    "x = range(duration)\n",
    "y = []\n",
    "yNow = 0\n",
    "\n",
    "for i in x:\n",
    "    nextDelta = random.normalvariate(mean, std)\n",
    "    yNow += nextDelta\n",
    "    y.append(yNow)\n",
    "\n",
    "plt.plot(x,y)\n",
    "plt.xlabel(\"Time\")\n",
    "plt.ylabel(\"Value\")"
   ]
  }
 ],
 "metadata": {
  "anaconda-cloud": {},
  "kernelspec": {
   "display_name": "Python [default]",
   "language": "python",
   "name": "python3"
  },
  "language_info": {
   "codemirror_mode": {
    "name": "ipython",
    "version": 3
   },
   "file_extension": ".py",
   "mimetype": "text/x-python",
   "name": "python",
   "nbconvert_exporter": "python",
   "pygments_lexer": "ipython3",
   "version": "3.5.2"
  }
 },
 "nbformat": 4,
 "nbformat_minor": 1
}
