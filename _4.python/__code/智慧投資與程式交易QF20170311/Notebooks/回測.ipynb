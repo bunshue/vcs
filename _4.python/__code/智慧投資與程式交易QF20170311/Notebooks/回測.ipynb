{
 "cells": [
  {
   "cell_type": "markdown",
   "metadata": {},
   "source": [
    "# 回測"
   ]
  },
  {
   "cell_type": "markdown",
   "metadata": {},
   "source": [
    "## 夏普率及最大虧損"
   ]
  },
  {
   "cell_type": "markdown",
   "metadata": {},
   "source": [
    "### 夏普率"
   ]
  },
  {
   "cell_type": "markdown",
   "metadata": {},
   "source": [
    "夏普率的定義：\n",
    "\n",
    "$$訊息比率=\\frac{超額報酬平均值}{超額報酬標準差}$$\n",
    "\n",
    "其中，\n",
    "\n",
    "$$超額報酬 = 投資組合報酬 - 比較基準報酬$$"
   ]
  },
  {
   "cell_type": "code",
   "execution_count": null,
   "metadata": {
    "collapsed": false
   },
   "outputs": [],
   "source": [
    "%matplotlib inline\n",
    "\n",
    "# Pandas v0.16 之前，使用下面這個\n",
    "#import pandas.io.data as web\n",
    "\n",
    "# Pandas v0.16 之後，使用下面這個\n",
    "import pandas_datareader.data as web\n",
    "\n",
    "from pandas import Series, DataFrame\n",
    "import numpy as np\n",
    "\n",
    "from datetime import datetime"
   ]
  },
  {
   "cell_type": "code",
   "execution_count": null,
   "metadata": {
    "collapsed": false
   },
   "outputs": [],
   "source": [
    "# 讀取從指定日期之後的股價資訊\n",
    "df=web.DataReader(\"TSLA\", 'yahoo', datetime(2016,1,1))"
   ]
  },
  {
   "cell_type": "code",
   "execution_count": null,
   "metadata": {
    "collapsed": true
   },
   "outputs": [],
   "source": [
    "# 手動設定進出場日期\n",
    "# 進出場日期之後會由策略自動產生\n",
    "\n",
    "#進場日期\n",
    "inDate = datetime(2016,2,10)\n",
    "#出場日期\n",
    "outDate = datetime(2016,4,6)"
   ]
  },
  {
   "cell_type": "code",
   "execution_count": null,
   "metadata": {
    "collapsed": false
   },
   "outputs": [],
   "source": [
    "dailyRet = df['Close'][inDate : outDate].pct_change()"
   ]
  },
  {
   "cell_type": "code",
   "execution_count": null,
   "metadata": {
    "collapsed": false
   },
   "outputs": [],
   "source": [
    "dailyRet.head()"
   ]
  },
  {
   "cell_type": "code",
   "execution_count": null,
   "metadata": {
    "collapsed": false
   },
   "outputs": [],
   "source": [
    "dailyRet.tail()"
   ]
  },
  {
   "cell_type": "code",
   "execution_count": null,
   "metadata": {
    "collapsed": true
   },
   "outputs": [],
   "source": [
    "#假設無風險利率為 4%\n",
    "#假設一年有252個交易日\n",
    "excessRet = dailyRet - 0.04/252\n",
    "\n",
    "sharpeRatio = np.sqrt(252.0)*np.mean(excessRet)/np.std(excessRet)"
   ]
  },
  {
   "cell_type": "code",
   "execution_count": null,
   "metadata": {
    "collapsed": false
   },
   "outputs": [],
   "source": [
    "sharpeRatio"
   ]
  },
  {
   "cell_type": "markdown",
   "metadata": {},
   "source": [
    "### 最大虧損額及最大虧損持續時間"
   ]
  },
  {
   "cell_type": "markdown",
   "metadata": {},
   "source": [
    "### 下圖取自 Qunatitative Trading by Ernest Chan \n",
    "<img src=\"maxdd.png\" width=\"800\" />"
   ]
  },
  {
   "cell_type": "code",
   "execution_count": null,
   "metadata": {
    "collapsed": true
   },
   "outputs": [],
   "source": [
    "cumRet = np.cumprod(1 + excessRet) - 1"
   ]
  },
  {
   "cell_type": "code",
   "execution_count": null,
   "metadata": {
    "collapsed": false
   },
   "outputs": [],
   "source": [
    "type(cumRet)"
   ]
  },
  {
   "cell_type": "code",
   "execution_count": null,
   "metadata": {
    "collapsed": false
   },
   "outputs": [],
   "source": [
    "# maxDD: maximum drawdown\n",
    "# maxDDD: maximum drawdown duration\n",
    "\n",
    "def calculateMaxDD(cumRet):\n",
    "    highwatermark = np.zeros(np.size(cumRet))\n",
    "    drawdownduration = np.zeros(np.size(cumRet))\n",
    "    drawdown = np.zeros(np.size(cumRet))\n",
    "    for t in range(2, cumRet.size):\n",
    "        highwatermark[t] = max(highwatermark[t-1], cumRet[t])\n",
    "        drawdown[t] = (1 + highwatermark[t]) / (1 + cumRet[t]) - 1\n",
    "        if (drawdown[t] == 0):\n",
    "            drawdownduration[t] = 0\n",
    "        else:\n",
    "            #drawdownduration[t] = drawdownduration[t-1] + 1\n",
    "            # 底下這一行把沒有交易的天數也都算進來，這樣感覺比較實際\n",
    "            drawdownduration[t] = drawdownduration[t-1] + (cumRet.index[t]-cumRet.index[t-1]).days\n",
    "    maxDD = max(drawdown)\n",
    "    maxDDD = max(drawdownduration)\n",
    "    Series(drawdownduration, index=cumRet.index).plot()\n",
    "    return maxDD, maxDDD"
   ]
  },
  {
   "cell_type": "code",
   "execution_count": null,
   "metadata": {
    "collapsed": false
   },
   "outputs": [],
   "source": [
    "calculateMaxDD(cumRet)"
   ]
  },
  {
   "cell_type": "code",
   "execution_count": null,
   "metadata": {
    "collapsed": false
   },
   "outputs": [],
   "source": [
    "cumRet.plot(style='ro-')"
   ]
  }
 ],
 "metadata": {
  "anaconda-cloud": {},
  "kernelspec": {
   "display_name": "Python [default]",
   "language": "python",
   "name": "python3"
  },
  "language_info": {
   "codemirror_mode": {
    "name": "ipython",
    "version": 3
   },
   "file_extension": ".py",
   "mimetype": "text/x-python",
   "name": "python",
   "nbconvert_exporter": "python",
   "pygments_lexer": "ipython3",
   "version": "3.5.2"
  }
 },
 "nbformat": 4,
 "nbformat_minor": 0
}
