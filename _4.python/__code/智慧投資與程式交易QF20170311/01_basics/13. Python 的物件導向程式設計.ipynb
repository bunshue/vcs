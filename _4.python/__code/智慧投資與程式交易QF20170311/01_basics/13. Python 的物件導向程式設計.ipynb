{
 "cells": [
  {
   "cell_type": "markdown",
   "metadata": {
    "nbpresent": {
     "id": "904e7041-5347-4036-bfff-4b5af4763913"
    },
    "slideshow": {
     "slide_type": "slide"
    }
   },
   "source": [
    "# Python 程式設計教學\n",
    "\n",
    "## Victor Gau\n",
    "\n",
    "### [victorgau@gmail.com](\"mailto:victorgau@gmail.com?subject=[Question]QF20170311\")\n",
    "\n",
    "### 2017-03-11\n",
    "\n"
   ]
  },
  {
   "cell_type": "markdown",
   "metadata": {
    "slideshow": {
     "slide_type": "slide"
    }
   },
   "source": [
    "# 物件導向程式設計\n",
    "## (Object-Orientation Programming, OOP)"
   ]
  },
  {
   "cell_type": "markdown",
   "metadata": {
    "slideshow": {
     "slide_type": "subslide"
    }
   },
   "source": [
    "## 注意：\n",
    "\n",
    "* 解決問題並不一定需要使用物件導向設計。\n",
    "* 雖然在 Python 中，萬物皆為物件！但Python之父 Guido van Rossum 曾經說過，自己並非物件導向的信徒。"
   ]
  },
  {
   "cell_type": "markdown",
   "metadata": {
    "slideshow": {
     "slide_type": "subslide"
    }
   },
   "source": [
    "## 物件導向設計的三大核心觀念：\n",
    "\n",
    "* 封裝 (Encapulation)\n",
    "* 繼承 (Inheritance)\n",
    "* 多型 (Polymorphism)\n"
   ]
  },
  {
   "cell_type": "markdown",
   "metadata": {
    "slideshow": {
     "slide_type": "subslide"
    }
   },
   "source": [
    "## 重點：\n",
    "\n",
    "* 怎麼定義類別？\n",
    "* 生成物件 (Instantiation)\n",
    "* \\_\\_new\\_\\_, \\_\\_init\\_\\_, \\_\\_del\\_\\_\n",
    "* 類別屬性\n",
    "* 類別方法\n",
    "* 靜態方法\n",
    "* 物件屬性\n",
    "* 物件方法\n",
    "* 繼承\n",
    "* 多型"
   ]
  },
  {
   "cell_type": "code",
   "execution_count": null,
   "metadata": {
    "collapsed": true,
    "slideshow": {
     "slide_type": "subslide"
    }
   },
   "outputs": [],
   "source": [
    "# 定義類別\n",
    "class Human:\n",
    "    pass"
   ]
  },
  {
   "cell_type": "code",
   "execution_count": null,
   "metadata": {
    "collapsed": true,
    "slideshow": {
     "slide_type": "fragment"
    }
   },
   "outputs": [],
   "source": [
    "# 生成物件\n",
    "human1 = Human()"
   ]
  },
  {
   "cell_type": "code",
   "execution_count": null,
   "metadata": {
    "collapsed": true,
    "slideshow": {
     "slide_type": "fragment"
    }
   },
   "outputs": [],
   "source": [
    "# 定義物件屬性\n",
    "human1.name = \"Victor\""
   ]
  },
  {
   "cell_type": "code",
   "execution_count": null,
   "metadata": {
    "collapsed": true,
    "slideshow": {
     "slide_type": "fragment"
    }
   },
   "outputs": [],
   "source": [
    "human2 = Human()"
   ]
  },
  {
   "cell_type": "code",
   "execution_count": null,
   "metadata": {
    "collapsed": false,
    "slideshow": {
     "slide_type": "fragment"
    }
   },
   "outputs": [],
   "source": [
    "human2.name"
   ]
  },
  {
   "cell_type": "code",
   "execution_count": null,
   "metadata": {
    "collapsed": false,
    "slideshow": {
     "slide_type": "subslide"
    }
   },
   "outputs": [],
   "source": [
    "# __new__(): 要生成物件時被呼叫，初學者通常不會實作這個方法。\n",
    "# __init__(): 要初始化物件時被呼叫\n",
    "# __del()__: 要刪除物件時被呼叫\n",
    "\n",
    "class Human:\n",
    "    # 類別屬性\n",
    "    count = 0\n",
    "    \n",
    "    def __init__(self):\n",
    "        Human.count += 1\n",
    "    \n",
    "    def __del__(self):\n",
    "        Human.count -= 1\n",
    "\n",
    "human1 = Human()\n",
    "Human.count"
   ]
  },
  {
   "cell_type": "code",
   "execution_count": null,
   "metadata": {
    "collapsed": false,
    "slideshow": {
     "slide_type": "fragment"
    }
   },
   "outputs": [],
   "source": [
    "human2 = Human()\n",
    "Human.count"
   ]
  },
  {
   "cell_type": "code",
   "execution_count": null,
   "metadata": {
    "collapsed": false,
    "slideshow": {
     "slide_type": "fragment"
    }
   },
   "outputs": [],
   "source": [
    "del human1\n",
    "Human.count"
   ]
  },
  {
   "cell_type": "code",
   "execution_count": null,
   "metadata": {
    "collapsed": false,
    "slideshow": {
     "slide_type": "fragment"
    }
   },
   "outputs": [],
   "source": [
    "del human2\n",
    "Human.count"
   ]
  },
  {
   "cell_type": "code",
   "execution_count": null,
   "metadata": {
    "collapsed": false,
    "slideshow": {
     "slide_type": "subslide"
    }
   },
   "outputs": [],
   "source": [
    "# 增加兩個方法，描述物件的行為\n",
    "\n",
    "class Human:\n",
    "    # 類別屬性\n",
    "    count = 0\n",
    "    \n",
    "    def __init__(self, name):\n",
    "        self.name = name\n",
    "        Human.count += 1\n",
    "    \n",
    "    def __del__(self):\n",
    "        Human.count -= 1\n",
    "        \n",
    "    def sleep(self):\n",
    "        print(self.name, \"sleeps!\")\n",
    "        \n",
    "    def attack(self):\n",
    "        print(self.name, \"attacks with bare hands.\")        \n",
    "\n",
    "human1 = Human(\"John\")\n",
    "human1.sleep()\n",
    "human1.attack()"
   ]
  },
  {
   "cell_type": "code",
   "execution_count": null,
   "metadata": {
    "collapsed": false,
    "slideshow": {
     "slide_type": "fragment"
    }
   },
   "outputs": [],
   "source": [
    "# 繼承\n",
    "class Knight(Human):\n",
    "    pass\n",
    "\n",
    "# 父類別的方法被繼承下來了\n",
    "knight1 = Knight('Jack')\n",
    "knight1.sleep()\n",
    "knight1.attack()"
   ]
  },
  {
   "cell_type": "code",
   "execution_count": null,
   "metadata": {
    "collapsed": false,
    "slideshow": {
     "slide_type": "subslide"
    }
   },
   "outputs": [],
   "source": [
    "# 多型\n",
    "class Knight(Human):\n",
    "    def attack(self):\n",
    "        print(self.name, \"attacks with a sword.\")\n",
    "\n",
    "class Wizard(Human):\n",
    "    def attack(self):\n",
    "        print(self.name, \"attacks with a spell.\")\n",
    "\n",
    "human1 = Knight(\"David\")\n",
    "human2 = Wizard(\"Tom\")\n",
    "\n",
    "group1 = [human1, human2]\n",
    "\n",
    "for man in group1:\n",
    "    man.attack()"
   ]
  },
  {
   "cell_type": "code",
   "execution_count": null,
   "metadata": {
    "collapsed": false,
    "slideshow": {
     "slide_type": "subslide"
    }
   },
   "outputs": [],
   "source": [
    "class Human:\n",
    "    # 類別屬性\n",
    "    count = 0\n",
    "    \n",
    "    def __init__(self, name):\n",
    "        self.name = name\n",
    "        Human.count += 1\n",
    "    \n",
    "    def __del__(self):\n",
    "        Human.count -= 1\n",
    "        \n",
    "    def sleep(self):\n",
    "        print(self.name, \"sleeps!\")\n",
    "        \n",
    "    def attack(self):\n",
    "        print(self.name, \"attacks with bare hands.\")\n",
    "        \n",
    "    @staticmethod\n",
    "    def fight(man1, man2):\n",
    "        print(man1.name, \"fights\", man2.name)\n",
    "        \n",
    "    @classmethod\n",
    "    def default(clz):\n",
    "        return clz('John Doe')"
   ]
  },
  {
   "cell_type": "code",
   "execution_count": null,
   "metadata": {
    "collapsed": true,
    "slideshow": {
     "slide_type": "fragment"
    }
   },
   "outputs": [],
   "source": [
    "human3 = Human.default()\n",
    "human3.name"
   ]
  },
  {
   "cell_type": "code",
   "execution_count": null,
   "metadata": {
    "collapsed": false,
    "slideshow": {
     "slide_type": "fragment"
    }
   },
   "outputs": [],
   "source": [
    "Human.fight(human1, human2)"
   ]
  }
 ],
 "metadata": {
  "anaconda-cloud": {},
  "celltoolbar": "Slideshow",
  "kernelspec": {
   "display_name": "Python [default]",
   "language": "python",
   "name": "python3"
  },
  "language_info": {
   "codemirror_mode": {
    "name": "ipython",
    "version": 3
   },
   "file_extension": ".py",
   "mimetype": "text/x-python",
   "name": "python",
   "nbconvert_exporter": "python",
   "pygments_lexer": "ipython3",
   "version": "3.5.2"
  },
  "livereveal": {
   "scroll": true
  },
  "nbpresent": {
   "slides": {},
   "themes": {
    "default": "56b38c57-4ffe-478a-9f92-8ca64a17c67c",
    "theme": {
     "56b38c57-4ffe-478a-9f92-8ca64a17c67c": {
      "id": "56b38c57-4ffe-478a-9f92-8ca64a17c67c",
      "palette": {
       "19cc588f-0593-49c9-9f4b-e4d7cc113b1c": {
        "id": "19cc588f-0593-49c9-9f4b-e4d7cc113b1c",
        "rgb": [
         252,
         252,
         252
        ]
       },
       "31af15d2-7e15-44c5-ab5e-e04b16a89eff": {
        "id": "31af15d2-7e15-44c5-ab5e-e04b16a89eff",
        "rgb": [
         68,
         68,
         68
        ]
       },
       "50f92c45-a630-455b-aec3-788680ec7410": {
        "id": "50f92c45-a630-455b-aec3-788680ec7410",
        "rgb": [
         155,
         177,
         192
        ]
       },
       "c5cc3653-2ee1-402a-aba2-7caae1da4f6c": {
        "id": "c5cc3653-2ee1-402a-aba2-7caae1da4f6c",
        "rgb": [
         43,
         126,
         184
        ]
       },
       "efa7f048-9acb-414c-8b04-a26811511a21": {
        "id": "efa7f048-9acb-414c-8b04-a26811511a21",
        "rgb": [
         25.118061674008803,
         73.60176211453744,
         107.4819383259912
        ]
       }
      },
      "rules": {
       "blockquote": {
        "color": "50f92c45-a630-455b-aec3-788680ec7410"
       },
       "code": {
        "font-family": "Anonymous Pro"
       },
       "h1": {
        "color": "c5cc3653-2ee1-402a-aba2-7caae1da4f6c",
        "font-family": "Lato",
        "font-size": 8
       },
       "h2": {
        "color": "c5cc3653-2ee1-402a-aba2-7caae1da4f6c",
        "font-family": "Lato",
        "font-size": 6
       },
       "h3": {
        "color": "50f92c45-a630-455b-aec3-788680ec7410",
        "font-family": "Lato",
        "font-size": 5.5
       },
       "h4": {
        "color": "c5cc3653-2ee1-402a-aba2-7caae1da4f6c",
        "font-family": "Lato",
        "font-size": 5
       },
       "h5": {
        "font-family": "Lato"
       },
       "h6": {
        "font-family": "Lato"
       },
       "h7": {
        "font-family": "Lato"
       },
       "pre": {
        "font-family": "Anonymous Pro",
        "font-size": 4
       }
      },
      "text-base": {
       "font-family": "Merriweather",
       "font-size": 4
      }
     }
    }
   }
  }
 },
 "nbformat": 4,
 "nbformat_minor": 0
}
