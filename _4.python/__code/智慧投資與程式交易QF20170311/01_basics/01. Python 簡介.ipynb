{
 "cells": [
  {
   "cell_type": "markdown",
   "metadata": {
    "nbpresent": {
     "id": "904e7041-5347-4036-bfff-4b5af4763913"
    },
    "slideshow": {
     "slide_type": "slide"
    }
   },
   "source": [
    "# Python 程式設計教學\n",
    "\n",
    "## Victor Gau\n",
    "\n",
    "### [victorgau@gmail.com](\"mailto:victorgau@gmail.com?subject=[Question]QF20170311\")\n",
    "\n",
    "### 2017-03-11\n",
    "\n"
   ]
  },
  {
   "cell_type": "markdown",
   "metadata": {
    "slideshow": {
     "slide_type": "slide"
    }
   },
   "source": [
    "# Python 簡介"
   ]
  },
  {
   "cell_type": "markdown",
   "metadata": {
    "slideshow": {
     "slide_type": "subslide"
    }
   },
   "source": [
    "## Python 之父\n",
    "### Guido Van Rossum (荷蘭, 1956~)\n",
    "\n",
    "[![Guido Van Rossum (荷蘭, 1956~)](../images/Guido_van_Rossum_OSCON_2006_cropped.png)](https://en.wikipedia.org/wiki/Guido_van_Rossum)\n",
    "\n",
    "* 1989 年 Xmas 時，為了打發時間，Guido 開始寫 Python。\n",
    "* 1991 釋出 Python。\n",
    "* 取名 Python 的原因是 Guido 喜歡看 \"Monty Python's Flying Circus\"。\n"
   ]
  },
  {
   "cell_type": "markdown",
   "metadata": {
    "nbpresent": {
     "id": "293af2dd-d2e0-4f2e-a448-2cbf1641e7d5"
    },
    "slideshow": {
     "slide_type": "subslide"
    }
   },
   "source": [
    "## Why Python?\n",
    "\n",
    "* 自由軟體：完全<font color=\"red\">免費</font>、參與者眾\n",
    "* 擴充性強：<font color=\"red\">模組豐富</font>、應用性強\n",
    "* 易學好用：<font color=\"red\">語法簡潔</font>、易學易懂\n",
    "* <font color=\"red\">跨平台</font>：Windows / Linux / Mac / ...\n",
    "* 同好者眾：支援性強、<font color=\"red\">問題快解</font>\n",
    "\n",
    "[More：Python 發展歷史與特點](http://www.ziqiangxuetang.com/python/python-intro.html)"
   ]
  },
  {
   "cell_type": "markdown",
   "metadata": {
    "slideshow": {
     "slide_type": "subslide"
    }
   },
   "source": [
    "### 從下面的笑話，可以稍微看出 Python 的特點！\n",
    "\n",
    "![](../images/python-vs-java.jpg)"
   ]
  },
  {
   "cell_type": "markdown",
   "metadata": {
    "slideshow": {
     "slide_type": "subslide"
    }
   },
   "source": [
    "## Python is a glue language!!!\n",
    "\n",
    "* 使用者通常<font color=\"red\">不需要自己實作</font>程式所有的功能，而是需要協調及整合<font color=\"red\">模組跟套件</font>的運作！！！\n",
    "\n",
    "|| C/C++ | Python |\n",
    "|:-:|:-:|:-:|\n",
    "|開發速度|慢|快|\n",
    "|偵錯速度|慢|快|\n",
    "|佈署速度|慢|快|\n",
    "|執行速度|非常快|快|\n",
    "\n",
    "* 使用 Python 可以在最短的時間做出產品雛形。"
   ]
  },
  {
   "cell_type": "markdown",
   "metadata": {
    "slideshow": {
     "slide_type": "subslide"
    }
   },
   "source": [
    "## 新創公司喜歡 Python！\n",
    "\n",
    "[![](../images/AL_jobs.png)](https://www.codementor.io/learn-programming/beginner-programming-language-job-salary-community)"
   ]
  },
  {
   "cell_type": "markdown",
   "metadata": {
    "slideshow": {
     "slide_type": "subslide"
    }
   },
   "source": [
    "## 學校喜歡教 Python (Top US Universities Teach Python)\n",
    "\n",
    "[![](../images/Top39-700.4.png)](http://cacm.acm.org/blogs/blog-cacm/176450-python-is-now-the-most-popular-introductory-teaching-language-at-top-u-s-universities/fulltext)"
   ]
  },
  {
   "cell_type": "markdown",
   "metadata": {
    "slideshow": {
     "slide_type": "subslide"
    }
   },
   "source": [
    "## 初學者喜歡學 Python (PYPL, PopularitY of Programming Language Index)\n",
    "\n",
    "[![](../images/PYPL_2017_03.png)](http://pypl.github.io/PYPL.html)"
   ]
  },
  {
   "cell_type": "markdown",
   "metadata": {
    "nbpresent": {
     "id": "81f50645-13d2-43a5-a557-902be09c9968"
    },
    "slideshow": {
     "slide_type": "subslide"
    }
   },
   "source": [
    "## 電子電機工程師喜歡 Python (2016 IEEE Programming Languages Ranking)\n",
    "[![](../images/2016 IEEE Top 10 Programming Languages.png)](http://spectrum.ieee.org/computing/software/the-2016-top-programming-languages)"
   ]
  },
  {
   "cell_type": "markdown",
   "metadata": {
    "slideshow": {
     "slide_type": "subslide"
    }
   },
   "source": [
    "[![](../images/IoT_languages.png)](http://www.developer-tech.com/news/2016/apr/20/research-iot-developer-survey-reveals-popular-technologies/)"
   ]
  },
  {
   "cell_type": "markdown",
   "metadata": {
    "slideshow": {
     "slide_type": "subslide"
    }
   },
   "source": [
    "## 資料科學家喜歡 Python (Top 10 Tools for Analytics/Data Science)\n",
    "\n",
    "[![](../images/top10-analytics-data-science-software-2016.jpg)](http://www.kdnuggets.com/2016/06/r-python-top-analytics-data-mining-data-science-software.html)"
   ]
  },
  {
   "cell_type": "markdown",
   "metadata": {
    "slideshow": {
     "slide_type": "subslide"
    }
   },
   "source": [
    "## 社群喜歡 Python (TIOBE Programming Community Index)\n",
    "\n",
    "[![](../images/Tiobe_2017_02.png)](http://www.tiobe.com/tiobe-index/)"
   ]
  },
  {
   "cell_type": "markdown",
   "metadata": {
    "slideshow": {
     "slide_type": "subslide"
    }
   },
   "source": [
    "## 後端喜歡 Python (Python/Django Market Share)\n",
    "\n",
    "[![](../images/silicon_valley.png)](https://www.quora.com/How-is-the-market-for-programmers-in-Python-Django)\n",
    "\n",
    "[![](../images/berlin.png)](https://www.quora.com/How-is-the-market-for-programmers-in-Python-Django)\n",
    "\n",
    "[![](../images/barcelona.png)](https://www.quora.com/How-is-the-market-for-programmers-in-Python-Django)"
   ]
  },
  {
   "cell_type": "markdown",
   "metadata": {
    "slideshow": {
     "slide_type": "subslide"
    }
   },
   "source": [
    "[![](../images/backend.png)](https://en.wikipedia.org/wiki/Programming_languages_used_in_most_popular_websites)"
   ]
  },
  {
   "cell_type": "markdown",
   "metadata": {
    "slideshow": {
     "slide_type": "subslide"
    }
   },
   "source": [
    "## Fintech 喜歡 Python\n",
    "[![](../images/fintech-finance-1.png)](https://blog.hackerrank.com/emerging-languages-still-overshadowed-by-incumbents-java-python-in-coding-interviews/)"
   ]
  },
  {
   "cell_type": "markdown",
   "metadata": {
    "nbpresent": {
     "id": "25ac7855-2c20-47bb-b4ab-6a7fbba20e2d"
    },
    "slideshow": {
     "slide_type": "subslide"
    }
   },
   "source": [
    "## 2015 Github Statistics\n",
    "[![](../images/Python vs R in Github.png)](http://githut.info/?utm_content=buffer781de&utm_medium=social&utm_source=facebook.com&utm_campaign=buffer)\n",
    "\n",
    "[Python vs. R (Datacamp)](https://www.datacamp.com/community/tutorials/r-or-python-for-data-analysis)"
   ]
  },
  {
   "cell_type": "markdown",
   "metadata": {
    "nbpresent": {
     "id": "6ddd881a-45b7-47cb-8a82-8c8280270623"
    },
    "slideshow": {
     "slide_type": "subslide"
    }
   },
   "source": [
    "## stackoverflow\n",
    "[![](../images/2016 stackoverflow Languages Ranking.png)](http://stackoverflow.com/research/developer-survey-2016#technology-most-popular-technologies)"
   ]
  },
  {
   "cell_type": "markdown",
   "metadata": {
    "slideshow": {
     "slide_type": "subslide"
    }
   },
   "source": [
    "## 天瓏書局中文暢銷書排行榜\n",
    "\n",
    "|月份|前五名 Python 書籍有幾本？|前十名 Python 書籍有幾本？|\n",
    "|:----:|:----------------------:|:----------------------:|\n",
    "|[2016/09](https://www.tenlong.com.tw/zh_tw/bestselling?date=2016-09-30)|2|3|\n",
    "|[2016/10](https://www.tenlong.com.tw/zh_tw/bestselling?date=2016-10-30)|3|5|\n",
    "|[2016/11](https://www.tenlong.com.tw/zh_tw/bestselling?date=2016-11-30)|4|5|\n",
    "|[2016/12](https://www.tenlong.com.tw/zh_tw/bestselling?date=2016-12-28)|4|6|\n",
    "|[2017/01](https://www.tenlong.com.tw/zh_tw/bestselling?date=2017-01-28)|3|6|\n",
    "|[2017/02](https://www.tenlong.com.tw/zh_tw/bestselling?date=2017-02-28)|4|6|"
   ]
  },
  {
   "cell_type": "markdown",
   "metadata": {
    "slideshow": {
     "slide_type": "subslide"
    }
   },
   "source": [
    "## Python -> 工程師最佳第二程式語言"
   ]
  },
  {
   "cell_type": "markdown",
   "metadata": {
    "slideshow": {
     "slide_type": "subslide"
    }
   },
   "source": [
    "## So... Python 2 or 3 ?..."
   ]
  },
  {
   "cell_type": "markdown",
   "metadata": {
    "slideshow": {
     "slide_type": "subslide"
    }
   },
   "source": [
    "### 注意：\n",
    "* Python 3 主要針對了 Python 的 Unicode 的部分做了修正，解決了很多處理字元編碼的問題，但也破壞了向後相容性。\n",
    "* Python 2.7 是 Python 2 的最後一個版本，預計只支援到 2020 年。\n",
    "* Python 2.7 版只會對臭蟲跟安全問題做修正，不會再增加新功能。\n",
    "* 常用的套件，大部分都已經遷移到 Python 3 上。"
   ]
  },
  {
   "cell_type": "markdown",
   "metadata": {
    "slideshow": {
     "slide_type": "subslide"
    }
   },
   "source": [
    "[![](../images/py3readiness.png)](http://py3readiness.org/)"
   ]
  },
  {
   "cell_type": "markdown",
   "metadata": {
    "slideshow": {
     "slide_type": "subslide"
    }
   },
   "source": [
    "## 建議安裝 Python 3.x！！！\n",
    "\n",
    "### (本課程使用 Python 3.5)"
   ]
  }
 ],
 "metadata": {
  "anaconda-cloud": {},
  "kernelspec": {
   "display_name": "Python [default]",
   "language": "python",
   "name": "python3"
  },
  "language_info": {
   "codemirror_mode": {
    "name": "ipython",
    "version": 3
   },
   "file_extension": ".py",
   "mimetype": "text/x-python",
   "name": "python",
   "nbconvert_exporter": "python",
   "pygments_lexer": "ipython3",
   "version": "3.5.2"
  },
  "livereveal": {
   "scroll": true
  },
  "nbpresent": {
   "slides": {},
   "themes": {
    "default": "56b38c57-4ffe-478a-9f92-8ca64a17c67c",
    "theme": {
     "56b38c57-4ffe-478a-9f92-8ca64a17c67c": {
      "id": "56b38c57-4ffe-478a-9f92-8ca64a17c67c",
      "palette": {
       "19cc588f-0593-49c9-9f4b-e4d7cc113b1c": {
        "id": "19cc588f-0593-49c9-9f4b-e4d7cc113b1c",
        "rgb": [
         252,
         252,
         252
        ]
       },
       "31af15d2-7e15-44c5-ab5e-e04b16a89eff": {
        "id": "31af15d2-7e15-44c5-ab5e-e04b16a89eff",
        "rgb": [
         68,
         68,
         68
        ]
       },
       "50f92c45-a630-455b-aec3-788680ec7410": {
        "id": "50f92c45-a630-455b-aec3-788680ec7410",
        "rgb": [
         155,
         177,
         192
        ]
       },
       "c5cc3653-2ee1-402a-aba2-7caae1da4f6c": {
        "id": "c5cc3653-2ee1-402a-aba2-7caae1da4f6c",
        "rgb": [
         43,
         126,
         184
        ]
       },
       "efa7f048-9acb-414c-8b04-a26811511a21": {
        "id": "efa7f048-9acb-414c-8b04-a26811511a21",
        "rgb": [
         25.118061674008803,
         73.60176211453744,
         107.4819383259912
        ]
       }
      },
      "rules": {
       "blockquote": {
        "color": "50f92c45-a630-455b-aec3-788680ec7410"
       },
       "code": {
        "font-family": "Anonymous Pro"
       },
       "h1": {
        "color": "c5cc3653-2ee1-402a-aba2-7caae1da4f6c",
        "font-family": "Lato",
        "font-size": 8
       },
       "h2": {
        "color": "c5cc3653-2ee1-402a-aba2-7caae1da4f6c",
        "font-family": "Lato",
        "font-size": 6
       },
       "h3": {
        "color": "50f92c45-a630-455b-aec3-788680ec7410",
        "font-family": "Lato",
        "font-size": 5.5
       },
       "h4": {
        "color": "c5cc3653-2ee1-402a-aba2-7caae1da4f6c",
        "font-family": "Lato",
        "font-size": 5
       },
       "h5": {
        "font-family": "Lato"
       },
       "h6": {
        "font-family": "Lato"
       },
       "h7": {
        "font-family": "Lato"
       },
       "pre": {
        "font-family": "Anonymous Pro",
        "font-size": 4
       }
      },
      "text-base": {
       "font-family": "Merriweather",
       "font-size": 4
      }
     }
    }
   }
  }
 },
 "nbformat": 4,
 "nbformat_minor": 0
}
