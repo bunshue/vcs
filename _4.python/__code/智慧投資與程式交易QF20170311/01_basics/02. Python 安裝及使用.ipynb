{
 "cells": [
  {
   "cell_type": "markdown",
   "metadata": {
    "nbpresent": {
     "id": "904e7041-5347-4036-bfff-4b5af4763913"
    },
    "slideshow": {
     "slide_type": "slide"
    }
   },
   "source": [
    "# Python 程式設計教學\n",
    "\n",
    "## Victor Gau\n",
    "\n",
    "### [victorgau@gmail.com](\"mailto:victorgau@gmail.com?subject=[Question]QF20170311\")\n",
    "\n",
    "### 2017-03-11\n",
    "\n"
   ]
  },
  {
   "cell_type": "markdown",
   "metadata": {
    "slideshow": {
     "slide_type": "slide"
    }
   },
   "source": [
    "# Python 安裝及使用"
   ]
  },
  {
   "cell_type": "markdown",
   "metadata": {
    "nbpresent": {
     "id": "3fa64452-39b2-4e24-983d-07a5bf82b02e"
    },
    "slideshow": {
     "slide_type": "subslide"
    }
   },
   "source": [
    "## Python 環境建置：Anaconda (推薦)\n",
    "\n",
    "* 版本：2.x vs. 3.x\n",
    "\n",
    "[![](../images/Anaconda.png)](https://www.continuum.io/downloads)\n",
    "\n",
    "[More](http://www.ziqiangxuetang.com/python/python-install.html)"
   ]
  },
  {
   "cell_type": "markdown",
   "metadata": {
    "slideshow": {
     "slide_type": "subslide"
    }
   },
   "source": [
    "## 使用 conda 安裝套件\n",
    "\n",
    "* 檢查 conda 的版本\n",
    "```\n",
    "c:\\> conda -V\n",
    "```\n",
    "\n",
    "* 更新 conda\n",
    "```\n",
    "c:\\> conda update conda\n",
    "```\n",
    "\n",
    "* 安裝 package\n",
    "```\n",
    "c:\\> conda install -n yourenvname [package]\n",
    "# 注意：如果沒有加 \"-n yourenvname\"，則套件會被安裝到 root env\n",
    "```\n",
    "\n",
    "* 移除 package\n",
    "```\n",
    "c:\\> conda uninstall -n yourenvname [package]\n",
    "```\n"
   ]
  },
  {
   "cell_type": "markdown",
   "metadata": {
    "slideshow": {
     "slide_type": "subslide"
    }
   },
   "source": [
    "## 使用 conda 建立 Virtual Environment\n",
    "\n",
    "\n",
    "* 建立 virtual environment\n",
    "```\n",
    "c:\\> conda create -n yourenvname python=x.x anaconda\n",
    "```\n",
    "\n",
    "* 列出所有 virtual environment\n",
    "```\n",
    "c:\\> conda info -e\n",
    "```\n",
    "\n",
    "* 啟動 virtual environment\n",
    "```\n",
    "c:\\> source activate yourenvname\n",
    "```\n",
    "\n",
    "* 停止 virtual environment\n",
    "```\n",
    "c:\\> source deactivate\n",
    "```\n",
    "\n",
    "* 刪除 virtual environment\n",
    "```\n",
    "c:\\> conda remove -n yourenvname --all\n",
    "```"
   ]
  },
  {
   "cell_type": "markdown",
   "metadata": {
    "slideshow": {
     "slide_type": "subslide"
    }
   },
   "source": [
    "## Hello World\n",
    "\n",
    "* 打開 notepad\n",
    "* 鍵入 \"print(\"Hello World!\")\"\n",
    "* 存成 hello.py 檔！\n",
    "* 在命令列使用 python hello.py 執行！\n",
    "```\n",
    "c:\\> python hello.py\n",
    "```"
   ]
  },
  {
   "cell_type": "markdown",
   "metadata": {
    "slideshow": {
     "slide_type": "subslide"
    }
   },
   "source": [
    "# Python 的程式架構"
   ]
  },
  {
   "cell_type": "markdown",
   "metadata": {
    "slideshow": {
     "slide_type": "subslide"
    }
   },
   "source": [
    "![](../images/Python_Syntax.png)"
   ]
  },
  {
   "cell_type": "markdown",
   "metadata": {},
   "source": [
    "## 重點：\n",
    "\n",
    "* Python 使用空白字元來定義程式結構\n",
    "  - 每一行最前面的空白字元的數目是有意義的\n",
    "  - 同一個區塊的縮排需要一樣\n",
    "* 使用 import 來載入套件或模組\n",
    "* \"#\" 開頭的為註解\n",
    "* 引號(單引號或雙引號)標注起來的為字串"
   ]
  },
  {
   "cell_type": "markdown",
   "metadata": {
    "slideshow": {
     "slide_type": "subslide"
    }
   },
   "source": [
    "## 怎麼尋找 Python 套件？"
   ]
  },
  {
   "cell_type": "markdown",
   "metadata": {
    "nbpresent": {
     "id": "94a40ef6-d5f5-451d-ba73-d11f8d4b2719"
    },
    "slideshow": {
     "slide_type": "subslide"
    }
   },
   "source": [
    "## PyPI (Python Packages Index)\n",
    "[![](../images/PyPI.png)](https://pypi.python.org/pypi)"
   ]
  },
  {
   "cell_type": "markdown",
   "metadata": {
    "slideshow": {
     "slide_type": "subslide"
    }
   },
   "source": [
    "## 如何安裝套件？"
   ]
  },
  {
   "cell_type": "markdown",
   "metadata": {
    "slideshow": {
     "slide_type": "subslide"
    }
   },
   "source": [
    "## [使用 pip](https://pip.pypa.io/en/stable/)\n",
    "\n",
    "* 安裝套件\n",
    "```\n",
    "c:\\> pip install <package>\n",
    "```\n",
    "\n",
    "* 更新套件\n",
    "```\n",
    "c:\\> pip install --upgrade <package>\n",
    "```\n",
    "\n",
    "* 移除套件\n",
    "```\n",
    "c:\\> pip uninstall <package>\n",
    "```\n",
    "\n",
    "* 搜尋套件\n",
    "```\n",
    "c:\\> pip search <package>\n",
    "```\n",
    "\n",
    "* 列出已安裝套件\n",
    "```\n",
    "c:\\> pip list\n",
    "```\n",
    "\n",
    "* 列出已安裝套件 (requirement format)\n",
    "```\n",
    "c:\\> pip freeze\n",
    "```\n",
    "\n",
    "* 將已安裝之套件及版本輸出成文字檔\n",
    "```\n",
    "c:\\ pip freeze > requirements.txt\n",
    "```\n",
    "\n",
    "* 從 requirements.txt 安裝對應套件\n",
    "```\n",
    "c:\\ pip install -r requirements.txt\n",
    "```"
   ]
  },
  {
   "cell_type": "markdown",
   "metadata": {
    "slideshow": {
     "slide_type": "subslide"
    }
   },
   "source": [
    "## Python 的ＩＤＥ\n",
    "\n",
    "* [Atom](https://atom.io/)\n",
    "* [PyCharm Community Edition](https://www.jetbrains.com/pycharm/download/)\n",
    "* [Sublime Text](https://www.sublimetext.com/)\n",
    "* [Visual Studio Code](https://code.visualstudio.com/)"
   ]
  },
  {
   "cell_type": "markdown",
   "metadata": {
    "nbpresent": {
     "id": "72048d63-6776-41b6-874e-5ef962c3246a"
    },
    "slideshow": {
     "slide_type": "subslide"
    }
   },
   "source": [
    "## Python IDE: Spyder (Anaconda 內建)\n",
    "![](../images/SpyderIDE.png)"
   ]
  },
  {
   "cell_type": "markdown",
   "metadata": {
    "nbpresent": {
     "id": "28a11fcd-516d-4007-ae51-4304d199cfbc"
    },
    "slideshow": {
     "slide_type": "subslide"
    }
   },
   "source": [
    "## Python IDE: jupyter notebook (Anaconda 內建)\n",
    "* jupyter 由來：[julia](http://julialang.org/) + [Python](https://www.python.org/) + [R](https://www.r-project.org/)\n",
    "* 互動式、即見式、展演式\n",
    "[![](../images/jupyter.png)](http://jupyter.org/)"
   ]
  },
  {
   "cell_type": "markdown",
   "metadata": {
    "nbpresent": {
     "id": "e9d95b93-a13a-4adc-9aad-51e724a8e75b"
    },
    "slideshow": {
     "slide_type": "subslide"
    }
   },
   "source": [
    "## jupyter notebook 基礎常識\n",
    "\n",
    "* 啟動 jupyter notebook\n",
    "    - 程式集：搜尋 jupyter notebook => 左鍵點擊 jupyter notebook\n",
    "    - 終端機 (命令提示字元)：輸入 jupyter notebook\n",
    "\n",
    "* [27 Jupyter Notebook tips, tricks and shortcuts](https://www.dataquest.io/blog/jupyter-notebook-tips-tricks-shortcuts/) ([中譯版](http://www.liuchengxu.org/pelican-blog/jupyter-notebook-tips.html))"
   ]
  },
  {
   "cell_type": "markdown",
   "metadata": {
    "slideshow": {
     "slide_type": "subslide"
    }
   },
   "source": [
    "## 常用的熱鍵或指令\n",
    "* 執行區塊：\n",
    "    - Shfit + Enter 執行該 cell 且跳下一個 cell\n",
    "    - Ctrl + Enter 執行該 cell (但停在該 cell)\n",
    "* 自動填滿：Tab 鍵\n",
    "* 提示引數：Shift + Tab\n",
    "* 線上諮詢：\n",
    "    - ?FunctionName()\n",
    "    - help FunctionName\n",
    "* 註解：\n",
    "    - 單行註解 #\n",
    "    - 多行註解 '''  '''\n"
   ]
  },
  {
   "cell_type": "markdown",
   "metadata": {},
   "source": [
    "## 魔術命令"
   ]
  },
  {
   "cell_type": "code",
   "execution_count": null,
   "metadata": {
    "collapsed": false,
    "slideshow": {
     "slide_type": "subslide"
    }
   },
   "outputs": [],
   "source": [
    "# 魔術命令 (Magic Commands) 清單\n",
    "%lsmagic"
   ]
  },
  {
   "cell_type": "markdown",
   "metadata": {
    "slideshow": {
     "slide_type": "slide"
    }
   },
   "source": [
    "# Python 的模組及套件"
   ]
  },
  {
   "cell_type": "markdown",
   "metadata": {
    "slideshow": {
     "slide_type": "subslide"
    }
   },
   "source": [
    "## 什麼是模組？\n",
    "\n",
    "* 每個 .py 的檔案就是一個模組\n",
    "* 模組可以被直接執行，也可以被載入其他模組內執行\n",
    "* 每個模組有一個特殊屬性: \"\\_\\_name\\_\\_\"\n",
    "  - 如果模組被直接執行，\"\\_\\_name\\_\\_\"屬性的值為\"\\_\\_main\\_\\_\"。\n",
    "  - 如果被載入其他模組，\"\\_\\_name\\_\\_\"屬性的值為自己的模組名稱。"
   ]
  },
  {
   "cell_type": "markdown",
   "metadata": {
    "slideshow": {
     "slide_type": "subslide"
    }
   },
   "source": [
    "## 什麼是套件？\n",
    "\n",
    "* 套件為用來管理模組的目錄架構。\n",
    "* 每個套件目錄底下，必須有一個名為\"\\_\\_init\\_\\_.py\"的檔案。"
   ]
  },
  {
   "cell_type": "markdown",
   "metadata": {
    "slideshow": {
     "slide_type": "subslide"
    }
   },
   "source": [
    "## 套件範例：\n",
    "\n",
    "![](../images/package.png)"
   ]
  },
  {
   "cell_type": "markdown",
   "metadata": {
    "slideshow": {
     "slide_type": "subslide"
    }
   },
   "source": [
    "## 怎麼載入模組及套件？\n",
    "\n",
    "* import\n",
    "* import... as...\n",
    "* from... import..."
   ]
  },
  {
   "cell_type": "code",
   "execution_count": null,
   "metadata": {
    "collapsed": false,
    "slideshow": {
     "slide_type": "subslide"
    }
   },
   "outputs": [],
   "source": [
    "# Python 的模組搜尋路徑\n",
    "\n",
    "import sys\n",
    "\n",
    "sys.path"
   ]
  },
  {
   "cell_type": "code",
   "execution_count": null,
   "metadata": {
    "collapsed": true,
    "slideshow": {
     "slide_type": "subslide"
    }
   },
   "outputs": [],
   "source": [
    "# 如果要使用的模組所在的目錄，不在搜尋的路徑上，可以使用下面方式加入\n",
    "\n",
    "# 1.\n",
    "# sys.path.append(r\"c:\\path\\to\\the\\module\")\n",
    "\n",
    "# 2.\n",
    "# 也可以設定 PYTHONPATH 參數，讓 Python 去搜尋特定路徑\n",
    "\n",
    "# 3.\n",
    "# 設定一個 .pth 檔，將 .pth 檔放在 package 的存放路徑上，.pth 檔裡面填入模組的路徑"
   ]
  },
  {
   "cell_type": "code",
   "execution_count": null,
   "metadata": {
    "collapsed": false,
    "slideshow": {
     "slide_type": "fragment"
    }
   },
   "outputs": [],
   "source": [
    "import site\n",
    "\n",
    "site.getsitepackages()"
   ]
  }
 ],
 "metadata": {
  "anaconda-cloud": {},
  "kernelspec": {
   "display_name": "Python [default]",
   "language": "python",
   "name": "python3"
  },
  "language_info": {
   "codemirror_mode": {
    "name": "ipython",
    "version": 3
   },
   "file_extension": ".py",
   "mimetype": "text/x-python",
   "name": "python",
   "nbconvert_exporter": "python",
   "pygments_lexer": "ipython3",
   "version": "3.5.2"
  },
  "livereveal": {
   "scroll": true
  },
  "nbpresent": {
   "slides": {},
   "themes": {
    "default": "56b38c57-4ffe-478a-9f92-8ca64a17c67c",
    "theme": {
     "56b38c57-4ffe-478a-9f92-8ca64a17c67c": {
      "id": "56b38c57-4ffe-478a-9f92-8ca64a17c67c",
      "palette": {
       "19cc588f-0593-49c9-9f4b-e4d7cc113b1c": {
        "id": "19cc588f-0593-49c9-9f4b-e4d7cc113b1c",
        "rgb": [
         252,
         252,
         252
        ]
       },
       "31af15d2-7e15-44c5-ab5e-e04b16a89eff": {
        "id": "31af15d2-7e15-44c5-ab5e-e04b16a89eff",
        "rgb": [
         68,
         68,
         68
        ]
       },
       "50f92c45-a630-455b-aec3-788680ec7410": {
        "id": "50f92c45-a630-455b-aec3-788680ec7410",
        "rgb": [
         155,
         177,
         192
        ]
       },
       "c5cc3653-2ee1-402a-aba2-7caae1da4f6c": {
        "id": "c5cc3653-2ee1-402a-aba2-7caae1da4f6c",
        "rgb": [
         43,
         126,
         184
        ]
       },
       "efa7f048-9acb-414c-8b04-a26811511a21": {
        "id": "efa7f048-9acb-414c-8b04-a26811511a21",
        "rgb": [
         25.118061674008803,
         73.60176211453744,
         107.4819383259912
        ]
       }
      },
      "rules": {
       "blockquote": {
        "color": "50f92c45-a630-455b-aec3-788680ec7410"
       },
       "code": {
        "font-family": "Anonymous Pro"
       },
       "h1": {
        "color": "c5cc3653-2ee1-402a-aba2-7caae1da4f6c",
        "font-family": "Lato",
        "font-size": 8
       },
       "h2": {
        "color": "c5cc3653-2ee1-402a-aba2-7caae1da4f6c",
        "font-family": "Lato",
        "font-size": 6
       },
       "h3": {
        "color": "50f92c45-a630-455b-aec3-788680ec7410",
        "font-family": "Lato",
        "font-size": 5.5
       },
       "h4": {
        "color": "c5cc3653-2ee1-402a-aba2-7caae1da4f6c",
        "font-family": "Lato",
        "font-size": 5
       },
       "h5": {
        "font-family": "Lato"
       },
       "h6": {
        "font-family": "Lato"
       },
       "h7": {
        "font-family": "Lato"
       },
       "pre": {
        "font-family": "Anonymous Pro",
        "font-size": 4
       }
      },
      "text-base": {
       "font-family": "Merriweather",
       "font-size": 4
      }
     }
    }
   }
  }
 },
 "nbformat": 4,
 "nbformat_minor": 0
}
