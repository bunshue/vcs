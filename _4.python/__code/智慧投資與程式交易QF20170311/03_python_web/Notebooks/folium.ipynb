{
 "cells": [
  {
   "cell_type": "markdown",
   "metadata": {},
   "source": [
    "# 用 Python 來畫地圖\n",
    "\n",
    "如果要用 Python 來畫地圖，可以嘗試使用 folium 套件。\n",
    "\n",
    "安裝：\n",
    "```\n",
    "$ pip install folium\n",
    "```\n",
    "\n",
    "folium 的使用方法，可以參考：\n",
    "\n",
    "* [https://github.com/python-visualization/folium](https://github.com/python-visualization/folium)\n",
    "* [http://nbviewer.jupyter.org/github/ocefpaf/folium_notebooks/tree/master/](http://nbviewer.jupyter.org/github/ocefpaf/folium_notebooks/tree/master/)"
   ]
  },
  {
   "cell_type": "code",
   "execution_count": null,
   "metadata": {
    "collapsed": true
   },
   "outputs": [],
   "source": [
    "import folium"
   ]
  },
  {
   "cell_type": "code",
   "execution_count": null,
   "metadata": {
    "collapsed": false
   },
   "outputs": [],
   "source": [
    "folium.__version__"
   ]
  },
  {
   "cell_type": "code",
   "execution_count": null,
   "metadata": {
    "collapsed": true
   },
   "outputs": [],
   "source": [
    "map_osm = folium.Map()"
   ]
  },
  {
   "cell_type": "code",
   "execution_count": null,
   "metadata": {
    "collapsed": false
   },
   "outputs": [],
   "source": [
    "map_osm"
   ]
  }
 ],
 "metadata": {
  "anaconda-cloud": {},
  "kernelspec": {
   "display_name": "Python [default]",
   "language": "python",
   "name": "python3"
  },
  "language_info": {
   "codemirror_mode": {
    "name": "ipython",
    "version": 3
   },
   "file_extension": ".py",
   "mimetype": "text/x-python",
   "name": "python",
   "nbconvert_exporter": "python",
   "pygments_lexer": "ipython3",
   "version": "3.5.2"
  }
 },
 "nbformat": 4,
 "nbformat_minor": 1
}
