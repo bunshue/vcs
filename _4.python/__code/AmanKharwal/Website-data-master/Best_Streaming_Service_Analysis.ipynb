{
  "nbformat": 4,
  "nbformat_minor": 0,
  "metadata": {
    "colab": {
      "name": "Best Streaming Service Analysis.ipynb",
      "provenance": [],
      "authorship_tag": "ABX9TyP1KGgHxcpFRsQ/VsMCbH9f",
      "include_colab_link": true
    },
    "kernelspec": {
      "name": "python3",
      "display_name": "Python 3"
    }
  },
  "cells": [
    {
      "cell_type": "markdown",
      "metadata": {
        "id": "view-in-github",
        "colab_type": "text"
      },
      "source": [
        "<a href=\"https://colab.research.google.com/github/amankharwal/Website-data/blob/master/Best_Streaming_Service_Analysis.ipynb\" target=\"_parent\"><img src=\"https://colab.research.google.com/assets/colab-badge.svg\" alt=\"Open In Colab\"/></a>"
      ]
    },
    {
      "cell_type": "code",
      "metadata": {
        "colab": {
          "resources": {
            "http://localhost:8080/nbextensions/google.colab/files.js": {
              "data": "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",
              "ok": true,
              "headers": [
                [
                  "content-type",
                  "application/javascript"
                ]
              ],
              "status": 200,
              "status_text": ""
            }
          },
          "base_uri": "https://localhost:8080/",
          "height": 73
        },
        "id": "xYRyaPI2L0pS",
        "outputId": "4fc8ca5a-0c96-4b6f-9b02-65060738b77d"
      },
      "source": [
        "from google.colab import files\r\n",
        "uploaded = files.upload()"
      ],
      "execution_count": 1,
      "outputs": [
        {
          "output_type": "display_data",
          "data": {
            "text/html": [
              "\n",
              "     <input type=\"file\" id=\"files-91820239-ef10-4b84-94d0-232cfc58c446\" name=\"files[]\" multiple disabled\n",
              "        style=\"border:none\" />\n",
              "     <output id=\"result-91820239-ef10-4b84-94d0-232cfc58c446\">\n",
              "      Upload widget is only available when the cell has been executed in the\n",
              "      current browser session. Please rerun this cell to enable.\n",
              "      </output>\n",
              "      <script src=\"/nbextensions/google.colab/files.js\"></script> "
            ],
            "text/plain": [
              "<IPython.core.display.HTML object>"
            ]
          },
          "metadata": {
            "tags": []
          }
        },
        {
          "output_type": "stream",
          "text": [
            "Saving tv_shows.csv to tv_shows.csv\n"
          ],
          "name": "stdout"
        }
      ]
    },
    {
      "cell_type": "code",
      "metadata": {
        "id": "d_j_Sr14L_or"
      },
      "source": [
        "import numpy as np # linear algebra\r\n",
        "import pandas as pd # data processing\r\n",
        "\r\n",
        "import plotly\r\n",
        "import plotly.express as px\r\n",
        "from plotly.subplots import make_subplots\r\n",
        "import seaborn as sns\r\n",
        "import matplotlib.pyplot as plt"
      ],
      "execution_count": 2,
      "outputs": []
    },
    {
      "cell_type": "code",
      "metadata": {
        "colab": {
          "base_uri": "https://localhost:8080/",
          "height": 202
        },
        "id": "xGjUSyzdMKkg",
        "outputId": "adbd10a6-29a9-48e6-a86f-202041ae5973"
      },
      "source": [
        "tv_shows = pd.read_csv('tv_shows.csv')\r\n",
        "tv_shows.head()"
      ],
      "execution_count": 3,
      "outputs": [
        {
          "output_type": "execute_result",
          "data": {
            "text/html": [
              "<div>\n",
              "<style scoped>\n",
              "    .dataframe tbody tr th:only-of-type {\n",
              "        vertical-align: middle;\n",
              "    }\n",
              "\n",
              "    .dataframe tbody tr th {\n",
              "        vertical-align: top;\n",
              "    }\n",
              "\n",
              "    .dataframe thead th {\n",
              "        text-align: right;\n",
              "    }\n",
              "</style>\n",
              "<table border=\"1\" class=\"dataframe\">\n",
              "  <thead>\n",
              "    <tr style=\"text-align: right;\">\n",
              "      <th></th>\n",
              "      <th>Unnamed: 0</th>\n",
              "      <th>Title</th>\n",
              "      <th>Year</th>\n",
              "      <th>Age</th>\n",
              "      <th>IMDb</th>\n",
              "      <th>Rotten Tomatoes</th>\n",
              "      <th>Netflix</th>\n",
              "      <th>Hulu</th>\n",
              "      <th>Prime Video</th>\n",
              "      <th>Disney+</th>\n",
              "      <th>type</th>\n",
              "    </tr>\n",
              "  </thead>\n",
              "  <tbody>\n",
              "    <tr>\n",
              "      <th>0</th>\n",
              "      <td>0</td>\n",
              "      <td>Breaking Bad</td>\n",
              "      <td>2008</td>\n",
              "      <td>18+</td>\n",
              "      <td>9.5</td>\n",
              "      <td>96%</td>\n",
              "      <td>1</td>\n",
              "      <td>0</td>\n",
              "      <td>0</td>\n",
              "      <td>0</td>\n",
              "      <td>1</td>\n",
              "    </tr>\n",
              "    <tr>\n",
              "      <th>1</th>\n",
              "      <td>1</td>\n",
              "      <td>Stranger Things</td>\n",
              "      <td>2016</td>\n",
              "      <td>16+</td>\n",
              "      <td>8.8</td>\n",
              "      <td>93%</td>\n",
              "      <td>1</td>\n",
              "      <td>0</td>\n",
              "      <td>0</td>\n",
              "      <td>0</td>\n",
              "      <td>1</td>\n",
              "    </tr>\n",
              "    <tr>\n",
              "      <th>2</th>\n",
              "      <td>2</td>\n",
              "      <td>Money Heist</td>\n",
              "      <td>2017</td>\n",
              "      <td>18+</td>\n",
              "      <td>8.4</td>\n",
              "      <td>91%</td>\n",
              "      <td>1</td>\n",
              "      <td>0</td>\n",
              "      <td>0</td>\n",
              "      <td>0</td>\n",
              "      <td>1</td>\n",
              "    </tr>\n",
              "    <tr>\n",
              "      <th>3</th>\n",
              "      <td>3</td>\n",
              "      <td>Sherlock</td>\n",
              "      <td>2010</td>\n",
              "      <td>16+</td>\n",
              "      <td>9.1</td>\n",
              "      <td>78%</td>\n",
              "      <td>1</td>\n",
              "      <td>0</td>\n",
              "      <td>0</td>\n",
              "      <td>0</td>\n",
              "      <td>1</td>\n",
              "    </tr>\n",
              "    <tr>\n",
              "      <th>4</th>\n",
              "      <td>4</td>\n",
              "      <td>Better Call Saul</td>\n",
              "      <td>2015</td>\n",
              "      <td>18+</td>\n",
              "      <td>8.7</td>\n",
              "      <td>97%</td>\n",
              "      <td>1</td>\n",
              "      <td>0</td>\n",
              "      <td>0</td>\n",
              "      <td>0</td>\n",
              "      <td>1</td>\n",
              "    </tr>\n",
              "  </tbody>\n",
              "</table>\n",
              "</div>"
            ],
            "text/plain": [
              "   Unnamed: 0             Title  Year  Age  ...  Hulu Prime Video  Disney+  type\n",
              "0           0      Breaking Bad  2008  18+  ...     0           0        0     1\n",
              "1           1   Stranger Things  2016  16+  ...     0           0        0     1\n",
              "2           2       Money Heist  2017  18+  ...     0           0        0     1\n",
              "3           3          Sherlock  2010  16+  ...     0           0        0     1\n",
              "4           4  Better Call Saul  2015  18+  ...     0           0        0     1\n",
              "\n",
              "[5 rows x 11 columns]"
            ]
          },
          "metadata": {
            "tags": []
          },
          "execution_count": 3
        }
      ]
    },
    {
      "cell_type": "code",
      "metadata": {
        "colab": {
          "base_uri": "https://localhost:8080/"
        },
        "id": "KKWBnxjGMWNr",
        "outputId": "7176b9a6-644d-4caf-d9b3-091b7047187e"
      },
      "source": [
        "tv_shows.info()"
      ],
      "execution_count": 4,
      "outputs": [
        {
          "output_type": "stream",
          "text": [
            "<class 'pandas.core.frame.DataFrame'>\n",
            "RangeIndex: 5611 entries, 0 to 5610\n",
            "Data columns (total 11 columns):\n",
            " #   Column           Non-Null Count  Dtype  \n",
            "---  ------           --------------  -----  \n",
            " 0   Unnamed: 0       5611 non-null   int64  \n",
            " 1   Title            5611 non-null   object \n",
            " 2   Year             5611 non-null   int64  \n",
            " 3   Age              3165 non-null   object \n",
            " 4   IMDb             4450 non-null   float64\n",
            " 5   Rotten Tomatoes  1011 non-null   object \n",
            " 6   Netflix          5611 non-null   int64  \n",
            " 7   Hulu             5611 non-null   int64  \n",
            " 8   Prime Video      5611 non-null   int64  \n",
            " 9   Disney+          5611 non-null   int64  \n",
            " 10  type             5611 non-null   int64  \n",
            "dtypes: float64(1), int64(7), object(3)\n",
            "memory usage: 482.3+ KB\n"
          ],
          "name": "stdout"
        }
      ]
    },
    {
      "cell_type": "code",
      "metadata": {
        "colab": {
          "base_uri": "https://localhost:8080/",
          "height": 294
        },
        "id": "-LQxNgmNNIeJ",
        "outputId": "e801ee47-3616-4980-f211-e514e33be6c2"
      },
      "source": [
        "tv_shows.describe()"
      ],
      "execution_count": 5,
      "outputs": [
        {
          "output_type": "execute_result",
          "data": {
            "text/html": [
              "<div>\n",
              "<style scoped>\n",
              "    .dataframe tbody tr th:only-of-type {\n",
              "        vertical-align: middle;\n",
              "    }\n",
              "\n",
              "    .dataframe tbody tr th {\n",
              "        vertical-align: top;\n",
              "    }\n",
              "\n",
              "    .dataframe thead th {\n",
              "        text-align: right;\n",
              "    }\n",
              "</style>\n",
              "<table border=\"1\" class=\"dataframe\">\n",
              "  <thead>\n",
              "    <tr style=\"text-align: right;\">\n",
              "      <th></th>\n",
              "      <th>Unnamed: 0</th>\n",
              "      <th>Year</th>\n",
              "      <th>IMDb</th>\n",
              "      <th>Netflix</th>\n",
              "      <th>Hulu</th>\n",
              "      <th>Prime Video</th>\n",
              "      <th>Disney+</th>\n",
              "      <th>type</th>\n",
              "    </tr>\n",
              "  </thead>\n",
              "  <tbody>\n",
              "    <tr>\n",
              "      <th>count</th>\n",
              "      <td>5611.000000</td>\n",
              "      <td>5611.000000</td>\n",
              "      <td>4450.000000</td>\n",
              "      <td>5611.000000</td>\n",
              "      <td>5611.000000</td>\n",
              "      <td>5611.000000</td>\n",
              "      <td>5611.000000</td>\n",
              "      <td>5611.0</td>\n",
              "    </tr>\n",
              "    <tr>\n",
              "      <th>mean</th>\n",
              "      <td>2805.000000</td>\n",
              "      <td>2011.021030</td>\n",
              "      <td>7.113258</td>\n",
              "      <td>0.344145</td>\n",
              "      <td>0.312600</td>\n",
              "      <td>0.382107</td>\n",
              "      <td>0.032080</td>\n",
              "      <td>1.0</td>\n",
              "    </tr>\n",
              "    <tr>\n",
              "      <th>std</th>\n",
              "      <td>1619.900511</td>\n",
              "      <td>11.005116</td>\n",
              "      <td>1.132060</td>\n",
              "      <td>0.475131</td>\n",
              "      <td>0.463594</td>\n",
              "      <td>0.485946</td>\n",
              "      <td>0.176228</td>\n",
              "      <td>0.0</td>\n",
              "    </tr>\n",
              "    <tr>\n",
              "      <th>min</th>\n",
              "      <td>0.000000</td>\n",
              "      <td>1901.000000</td>\n",
              "      <td>1.000000</td>\n",
              "      <td>0.000000</td>\n",
              "      <td>0.000000</td>\n",
              "      <td>0.000000</td>\n",
              "      <td>0.000000</td>\n",
              "      <td>1.0</td>\n",
              "    </tr>\n",
              "    <tr>\n",
              "      <th>25%</th>\n",
              "      <td>1402.500000</td>\n",
              "      <td>2010.000000</td>\n",
              "      <td>6.600000</td>\n",
              "      <td>0.000000</td>\n",
              "      <td>0.000000</td>\n",
              "      <td>0.000000</td>\n",
              "      <td>0.000000</td>\n",
              "      <td>1.0</td>\n",
              "    </tr>\n",
              "    <tr>\n",
              "      <th>50%</th>\n",
              "      <td>2805.000000</td>\n",
              "      <td>2015.000000</td>\n",
              "      <td>7.300000</td>\n",
              "      <td>0.000000</td>\n",
              "      <td>0.000000</td>\n",
              "      <td>0.000000</td>\n",
              "      <td>0.000000</td>\n",
              "      <td>1.0</td>\n",
              "    </tr>\n",
              "    <tr>\n",
              "      <th>75%</th>\n",
              "      <td>4207.500000</td>\n",
              "      <td>2017.000000</td>\n",
              "      <td>7.900000</td>\n",
              "      <td>1.000000</td>\n",
              "      <td>1.000000</td>\n",
              "      <td>1.000000</td>\n",
              "      <td>0.000000</td>\n",
              "      <td>1.0</td>\n",
              "    </tr>\n",
              "    <tr>\n",
              "      <th>max</th>\n",
              "      <td>5610.000000</td>\n",
              "      <td>2020.000000</td>\n",
              "      <td>9.600000</td>\n",
              "      <td>1.000000</td>\n",
              "      <td>1.000000</td>\n",
              "      <td>1.000000</td>\n",
              "      <td>1.000000</td>\n",
              "      <td>1.0</td>\n",
              "    </tr>\n",
              "  </tbody>\n",
              "</table>\n",
              "</div>"
            ],
            "text/plain": [
              "        Unnamed: 0         Year         IMDb  ...  Prime Video      Disney+    type\n",
              "count  5611.000000  5611.000000  4450.000000  ...  5611.000000  5611.000000  5611.0\n",
              "mean   2805.000000  2011.021030     7.113258  ...     0.382107     0.032080     1.0\n",
              "std    1619.900511    11.005116     1.132060  ...     0.485946     0.176228     0.0\n",
              "min       0.000000  1901.000000     1.000000  ...     0.000000     0.000000     1.0\n",
              "25%    1402.500000  2010.000000     6.600000  ...     0.000000     0.000000     1.0\n",
              "50%    2805.000000  2015.000000     7.300000  ...     0.000000     0.000000     1.0\n",
              "75%    4207.500000  2017.000000     7.900000  ...     1.000000     0.000000     1.0\n",
              "max    5610.000000  2020.000000     9.600000  ...     1.000000     1.000000     1.0\n",
              "\n",
              "[8 rows x 8 columns]"
            ]
          },
          "metadata": {
            "tags": []
          },
          "execution_count": 5
        }
      ]
    },
    {
      "cell_type": "code",
      "metadata": {
        "id": "LOuXrB9KNOL2"
      },
      "source": [
        "tv_shows.drop_duplicates(subset='Title',keep='first',inplace=True)"
      ],
      "execution_count": 6,
      "outputs": []
    },
    {
      "cell_type": "code",
      "metadata": {
        "id": "yEzeHjixNYSh"
      },
      "source": [
        "tv_shows['Rotten Tomatoes'] = tv_shows['Rotten Tomatoes'].fillna('0%')\r\n",
        "tv_shows['Rotten Tomatoes'] = tv_shows['Rotten Tomatoes'].apply(lambda x : x.rstrip('%'))\r\n",
        "tv_shows['Rotten Tomatoes'] = pd.to_numeric(tv_shows['Rotten Tomatoes'])\r\n",
        "\r\n",
        "tv_shows['IMDb'] = tv_shows['IMDb'].fillna(0)\r\n",
        "tv_shows['IMDb'] = tv_shows['IMDb']*10\r\n",
        "tv_shows['IMDb'] = tv_shows['IMDb'].astype('int')"
      ],
      "execution_count": 7,
      "outputs": []
    },
    {
      "cell_type": "code",
      "metadata": {
        "id": "2I1G9nM6Nb5Y"
      },
      "source": [
        "tv_shows_long=pd.melt(tv_shows[['Title','Netflix','Hulu','Disney+','Prime Video']],id_vars=['Title'],var_name='StreamingOn', value_name='Present')\r\n",
        "tv_shows_long = tv_shows_long[tv_shows_long['Present'] == 1]\r\n",
        "tv_shows_long.drop(columns=['Present'],inplace=True)"
      ],
      "execution_count": 8,
      "outputs": []
    },
    {
      "cell_type": "code",
      "metadata": {
        "id": "GB0PrnozNflQ"
      },
      "source": [
        "tv_shows_combined = tv_shows_long.merge(tv_shows, on='Title', how='inner')"
      ],
      "execution_count": 9,
      "outputs": []
    },
    {
      "cell_type": "code",
      "metadata": {
        "id": "Ro_SpjuFNic3"
      },
      "source": [
        "tv_shows_combined.drop(columns = ['Unnamed: 0','Netflix','Hulu', 'Prime Video', 'Disney+', 'type'], inplace=True)"
      ],
      "execution_count": 10,
      "outputs": []
    },
    {
      "cell_type": "code",
      "metadata": {
        "id": "b1r6-PwSNkxm"
      },
      "source": [
        "tv_shows_both_ratings = tv_shows_combined[(tv_shows_combined.IMDb > 0) & tv_shows_combined['Rotten Tomatoes'] > 0]"
      ],
      "execution_count": 11,
      "outputs": []
    },
    {
      "cell_type": "code",
      "metadata": {
        "colab": {
          "base_uri": "https://localhost:8080/",
          "height": 347
        },
        "id": "FmZHreIHNno1",
        "outputId": "7c1bd127-8811-4bea-c21f-c5a784d526c2"
      },
      "source": [
        "tv_shows_combined.groupby('StreamingOn').Title.count().plot(kind='bar')"
      ],
      "execution_count": 12,
      "outputs": [
        {
          "output_type": "execute_result",
          "data": {
            "text/plain": [
              "<matplotlib.axes._subplots.AxesSubplot at 0x7f16b0085c50>"
            ]
          },
          "metadata": {
            "tags": []
          },
          "execution_count": 12
        },
        {
          "output_type": "display_data",
          "data": {
            "image/png": "[encoded data removed]",
            "text/plain": [
              "<Figure size 432x288 with 1 Axes>"
            ]
          },
          "metadata": {
            "tags": [],
            "needs_background": "light"
          }
        }
      ]
    },
    {
      "cell_type": "code",
      "metadata": {
        "colab": {
          "base_uri": "https://localhost:8080/",
          "height": 817
        },
        "id": "HEV4U9PFNqry",
        "outputId": "1483fd51-655c-406e-ac65-05183acc6495"
      },
      "source": [
        "figure = []\r\n",
        "figure.append(px.violin(tv_shows_both_ratings, x = 'StreamingOn', y = 'IMDb', color='StreamingOn'))\r\n",
        "figure.append(px.violin(tv_shows_both_ratings, x = 'StreamingOn', y = 'Rotten Tomatoes', color='StreamingOn'))\r\n",
        "fig = make_subplots(rows=2, cols=4, shared_yaxes=True)\r\n",
        "\r\n",
        "for i in range(2):\r\n",
        "    for j in range(4):\r\n",
        "        fig.add_trace(figure[i]['data'][j], row=i+1, col=j+1)\r\n",
        "\r\n",
        "fig.update_layout(autosize=False, width=800, height=800)        \r\n",
        "fig.show()"
      ],
      "execution_count": 13,
      "outputs": [
        {
          "output_type": "display_data",
          "data": {
            "text/html": [
              "<html>\n",
              "<head><meta charset=\"utf-8\" /></head>\n",
              "<body>\n",
              "    <div>\n",
              "            <script src=\"https://cdnjs.cloudflare.com/ajax/libs/mathjax/2.7.5/MathJax.js?config=TeX-AMS-MML_SVG\"></script><script type=\"text/javascript\">if (window.MathJax) {MathJax.Hub.Config({SVG: {font: \"STIX-Web\"}});}</script>\n",
              "                <script type=\"text/javascript\">window.PlotlyConfig = {MathJaxConfig: 'local'};</script>\n",
              "        <script src=\"https://cdn.plot.ly/plotly-latest.min.js\"></script>    \n",
              "            <div id=\"3f6ebcea-bcbd-4ae9-96a3-891cd19d048a\" class=\"plotly-graph-div\" style=\"height:800px; width:800px;\"></div>\n",
              "            <script type=\"text/javascript\">\n",
              "                \n",
              "                    window.PLOTLYENV=window.PLOTLYENV || {};\n",
              "                    \n",
              "                if (document.getElementById(\"3f6ebcea-bcbd-4ae9-96a3-891cd19d048a\")) {\n",
              "                    Plotly.newPlot(\n",
              "                        '3f6ebcea-bcbd-4ae9-96a3-891cd19d048a',\n",
              "                        [{\"alignmentgroup\": \"True\", \"box\": {\"visible\": false}, \"hoverlabel\": {\"namelength\": 0}, \"hovertemplate\": \"StreamingOn=%{x}<br>IMDb=%{y}\", \"legendgroup\": \"StreamingOn=Netflix\", \"marker\": {\"color\": \"#636efa\"}, \"name\": \"StreamingOn=Netflix\", \"offsetgroup\": \"StreamingOn=Netflix\", \"orientation\": \"v\", \"scalegroup\": \"True\", \"showlegend\": true, \"type\": \"violin\", \"x\": [\"Netflix\", \"Netflix\", \"Netflix\", \"Netflix\", \"Netflix\", \"Netflix\", \"Netflix\", \"Netflix\", \"Netflix\", \"Netflix\", \"Netflix\", \"Netflix\", \"Netflix\", \"Netflix\", \"Netflix\", \"Netflix\", \"Netflix\", \"Netflix\", \"Netflix\", \"Netflix\", \"Netflix\", \"Netflix\", \"Netflix\", \"Netflix\", \"Netflix\", \"Netflix\", \"Netflix\", \"Netflix\", \"Netflix\", \"Netflix\", \"Netflix\", \"Netflix\", \"Netflix\", \"Netflix\", \"Netflix\", \"Netflix\", \"Netflix\", \"Netflix\", \"Netflix\", \"Netflix\", \"Netflix\", \"Netflix\", \"Netflix\", \"Netflix\", \"Netflix\", \"Netflix\", \"Netflix\", \"Netflix\", \"Netflix\", \"Netflix\", \"Netflix\", \"Netflix\", \"Netflix\", \"Netflix\", \"Netflix\", \"Netflix\", \"Netflix\", \"Netflix\", \"Netflix\", \"Netflix\", \"Netflix\", \"Netflix\", \"Netflix\", \"Netflix\", \"Netflix\", \"Netflix\", \"Netflix\", \"Netflix\", \"Netflix\", \"Netflix\", \"Netflix\", \"Netflix\", \"Netflix\", \"Netflix\", \"Netflix\", \"Netflix\", \"Netflix\", \"Netflix\", \"Netflix\", \"Netflix\", \"Netflix\", \"Netflix\", \"Netflix\", \"Netflix\", \"Netflix\", \"Netflix\", \"Netflix\", \"Netflix\", \"Netflix\", \"Netflix\", \"Netflix\", \"Netflix\", \"Netflix\", \"Netflix\", \"Netflix\", \"Netflix\", \"Netflix\", \"Netflix\", \"Netflix\", \"Netflix\", \"Netflix\", \"Netflix\", \"Netflix\", \"Netflix\", \"Netflix\", \"Netflix\", \"Netflix\", \"Netflix\", \"Netflix\", \"Netflix\", \"Netflix\", \"Netflix\", \"Netflix\", \"Netflix\", \"Netflix\", \"Netflix\", \"Netflix\", \"Netflix\", \"Netflix\", \"Netflix\", \"Netflix\", \"Netflix\", \"Netflix\", \"Netflix\", \"Netflix\", \"Netflix\", \"Netflix\", \"Netflix\", \"Netflix\", \"Netflix\", \"Netflix\", \"Netflix\", \"Netflix\", \"Netflix\", \"Netflix\", \"Netflix\", \"Netflix\", \"Netflix\", \"Netflix\", \"Netflix\", \"Netflix\", \"Netflix\", \"Netflix\", \"Netflix\", \"Netflix\", \"Netflix\", \"Netflix\", \"Netflix\", \"Netflix\", \"Netflix\", \"Netflix\", \"Netflix\", \"Netflix\", \"Netflix\", \"Netflix\", \"Netflix\", \"Netflix\", \"Netflix\", \"Netflix\", \"Netflix\", \"Netflix\", \"Netflix\", \"Netflix\", \"Netflix\", \"Netflix\", \"Netflix\", \"Netflix\", \"Netflix\", \"Netflix\", \"Netflix\", \"Netflix\", \"Netflix\", \"Netflix\", \"Netflix\", \"Netflix\", \"Netflix\", \"Netflix\", \"Netflix\", \"Netflix\", \"Netflix\", \"Netflix\", \"Netflix\", \"Netflix\", \"Netflix\", \"Netflix\", \"Netflix\", \"Netflix\", \"Netflix\", \"Netflix\", \"Netflix\", \"Netflix\", \"Netflix\", \"Netflix\", \"Netflix\", \"Netflix\"], \"x0\": \" \", \"xaxis\": \"x\", \"y\": [88, 84, 87, 89, 88, 84, 82, 84, 88, 86, 83, 88, 84, 86, 82, 87, 80, 77, 84, 82, 76, 81, 87, 77, 87, 76, 87, 80, 82, 81, 84, 81, 74, 84, 76, 85, 78, 86, 80, 80, 79, 85, 84, 81, 88, 82, 83, 82, 93, 78, 76, 79, 77, 81, 79, 80, 83, 80, 78, 83, 73, 77, 82, 68, 81, 71, 74, 78, 82, 78, 78, 85, 83, 73, 77, 84, 75, 81, 81, 73, 84, 72, 83, 73, 79, 80, 85, 75, 79, 78, 77, 72, 84, 82, 75, 85, 77, 81, 81, 77, 74, 81, 82, 77, 84, 79, 67, 68, 73, 65, 80, 75, 83, 78, 71, 70, 73, 73, 75, 74, 76, 72, 75, 70, 77, 77, 74, 61, 85, 75, 60, 74, 66, 66, 76, 74, 79, 80, 64, 71, 64, 79, 79, 76, 76, 62, 76, 71, 61, 72, 74, 65, 63, 74, 74, 65, 61, 75, 64, 82, 72, 70, 59, 74, 67, 74, 66, 73, 73, 70, 65, 76, 72, 65, 70, 67, 66, 73, 60, 63, 58, 38, 68, 65, 71, 70, 77, 69, 36, 61, 64, 52, 57, 23, 58], \"y0\": \" \", \"yaxis\": \"y\"}, {\"alignmentgroup\": \"True\", \"box\": {\"visible\": false}, \"hoverlabel\": {\"namelength\": 0}, \"hovertemplate\": \"StreamingOn=%{x}<br>IMDb=%{y}\", \"legendgroup\": \"StreamingOn=Hulu\", \"marker\": {\"color\": \"#EF553B\"}, \"name\": \"StreamingOn=Hulu\", \"offsetgroup\": \"StreamingOn=Hulu\", \"orientation\": \"v\", \"scalegroup\": \"True\", \"showlegend\": true, \"type\": \"violin\", \"x\": [\"Hulu\", \"Hulu\", \"Hulu\", \"Hulu\", \"Hulu\", \"Hulu\", \"Hulu\", \"Hulu\", \"Hulu\", \"Hulu\", \"Hulu\", \"Hulu\", \"Hulu\", \"Hulu\", \"Hulu\", \"Hulu\", \"Hulu\", \"Hulu\", \"Hulu\", \"Hulu\", \"Hulu\", \"Hulu\", \"Hulu\", \"Hulu\", \"Hulu\", \"Hulu\", \"Hulu\", \"Hulu\", \"Hulu\", \"Hulu\", \"Hulu\", \"Hulu\", \"Hulu\", \"Hulu\", \"Hulu\", \"Hulu\", \"Hulu\", \"Hulu\", \"Hulu\", \"Hulu\", \"Hulu\", \"Hulu\", \"Hulu\", \"Hulu\", \"Hulu\", \"Hulu\", \"Hulu\", \"Hulu\", \"Hulu\", \"Hulu\", \"Hulu\", \"Hulu\", \"Hulu\", \"Hulu\", \"Hulu\", \"Hulu\", \"Hulu\", \"Hulu\", \"Hulu\", \"Hulu\", \"Hulu\", \"Hulu\", \"Hulu\", \"Hulu\", \"Hulu\", \"Hulu\", \"Hulu\", \"Hulu\", \"Hulu\", \"Hulu\", \"Hulu\", \"Hulu\", \"Hulu\", \"Hulu\", \"Hulu\", \"Hulu\", \"Hulu\", \"Hulu\", \"Hulu\", \"Hulu\", \"Hulu\", \"Hulu\", \"Hulu\", \"Hulu\", \"Hulu\", \"Hulu\", \"Hulu\", \"Hulu\", \"Hulu\", \"Hulu\", \"Hulu\", \"Hulu\", \"Hulu\", \"Hulu\", \"Hulu\", \"Hulu\", \"Hulu\", \"Hulu\", \"Hulu\", \"Hulu\", \"Hulu\", \"Hulu\", \"Hulu\", \"Hulu\", \"Hulu\", \"Hulu\", \"Hulu\", \"Hulu\", \"Hulu\", \"Hulu\", \"Hulu\", \"Hulu\", \"Hulu\", \"Hulu\", \"Hulu\", \"Hulu\", \"Hulu\", \"Hulu\", \"Hulu\", \"Hulu\", \"Hulu\", \"Hulu\", \"Hulu\", \"Hulu\", \"Hulu\", \"Hulu\", \"Hulu\", \"Hulu\", \"Hulu\", \"Hulu\", \"Hulu\", \"Hulu\", \"Hulu\", \"Hulu\", \"Hulu\", \"Hulu\", \"Hulu\", \"Hulu\", \"Hulu\", \"Hulu\", \"Hulu\", \"Hulu\", \"Hulu\", \"Hulu\", \"Hulu\", \"Hulu\", \"Hulu\", \"Hulu\", \"Hulu\", \"Hulu\", \"Hulu\", \"Hulu\", \"Hulu\", \"Hulu\", \"Hulu\", \"Hulu\", \"Hulu\", \"Hulu\", \"Hulu\", \"Hulu\", \"Hulu\", \"Hulu\", \"Hulu\", \"Hulu\", \"Hulu\", \"Hulu\", \"Hulu\", \"Hulu\", \"Hulu\", \"Hulu\"], \"x0\": \" \", \"xaxis\": \"x2\", \"y\": [86, 88, 82, 76, 87, 81, 74, 86, 79, 78, 66, 60, 85, 84, 87, 83, 90, 87, 83, 84, 86, 84, 86, 86, 83, 86, 87, 81, 82, 83, 79, 86, 88, 77, 80, 86, 82, 80, 80, 85, 78, 75, 78, 78, 83, 84, 81, 88, 77, 76, 81, 75, 74, 80, 78, 73, 82, 70, 77, 80, 84, 81, 81, 76, 77, 69, 80, 82, 74, 79, 74, 83, 80, 83, 73, 72, 76, 65, 71, 67, 78, 74, 83, 80, 73, 69, 71, 79, 80, 76, 82, 75, 78, 79, 77, 68, 84, 79, 67, 79, 71, 77, 75, 78, 74, 73, 75, 70, 75, 73, 73, 77, 67, 76, 70, 81, 72, 69, 73, 75, 77, 76, 70, 70, 74, 67, 74, 70, 53, 73, 71, 76, 62, 62, 75, 74, 81, 79, 77, 62, 74, 56, 67, 67, 59, 62, 49, 69, 77, 41, 59, 76, 64, 62, 72, 70, 57, 79, 66, 70, 67, 56, 57, 74, 43, 63, 66, 64, 73, 42], \"y0\": \" \", \"yaxis\": \"y2\"}, {\"alignmentgroup\": \"True\", \"box\": {\"visible\": false}, \"hoverlabel\": {\"namelength\": 0}, \"hovertemplate\": \"StreamingOn=%{x}<br>IMDb=%{y}\", \"legendgroup\": \"StreamingOn=Prime Video\", \"marker\": {\"color\": \"#00cc96\"}, \"name\": \"StreamingOn=Prime Video\", \"offsetgroup\": \"StreamingOn=Prime Video\", \"orientation\": \"v\", \"scalegroup\": \"True\", \"showlegend\": true, \"type\": \"violin\", \"x\": [\"Prime Video\", \"Prime Video\", \"Prime Video\", \"Prime Video\", \"Prime Video\", \"Prime Video\", \"Prime Video\", \"Prime Video\", \"Prime Video\", \"Prime Video\", \"Prime Video\", \"Prime Video\", \"Prime Video\", \"Prime Video\", \"Prime Video\", \"Prime Video\", \"Prime Video\", \"Prime Video\", \"Prime Video\", \"Prime Video\", \"Prime Video\", \"Prime Video\", \"Prime Video\", \"Prime Video\", \"Prime Video\", \"Prime Video\", \"Prime Video\", \"Prime Video\", \"Prime Video\", \"Prime Video\", \"Prime Video\", \"Prime Video\", \"Prime Video\", \"Prime Video\", \"Prime Video\", \"Prime Video\", \"Prime Video\", \"Prime Video\", \"Prime Video\", \"Prime Video\", \"Prime Video\", \"Prime Video\", \"Prime Video\", \"Prime Video\", \"Prime Video\", \"Prime Video\", \"Prime Video\", \"Prime Video\", \"Prime Video\", \"Prime Video\", \"Prime Video\", \"Prime Video\", \"Prime Video\", \"Prime Video\", \"Prime Video\", \"Prime Video\", \"Prime Video\", \"Prime Video\", \"Prime Video\", \"Prime Video\", \"Prime Video\", \"Prime Video\", \"Prime Video\", \"Prime Video\", \"Prime Video\", \"Prime Video\", \"Prime Video\", \"Prime Video\", \"Prime Video\", \"Prime Video\", \"Prime Video\", \"Prime Video\", \"Prime Video\", \"Prime Video\", \"Prime Video\", \"Prime Video\", \"Prime Video\", \"Prime Video\", \"Prime Video\", \"Prime Video\", \"Prime Video\", \"Prime Video\", \"Prime Video\", \"Prime Video\", \"Prime Video\", \"Prime Video\", \"Prime Video\", \"Prime Video\", \"Prime Video\", \"Prime Video\", \"Prime Video\", \"Prime Video\", \"Prime Video\", \"Prime Video\", \"Prime Video\", \"Prime Video\", \"Prime Video\", \"Prime Video\", \"Prime Video\"], \"x0\": \" \", \"xaxis\": \"x3\", \"y\": [86, 86, 83, 78, 84, 70, 64, 85, 82, 85, 75, 81, 69, 80, 76, 85, 84, 87, 83, 87, 82, 82, 83, 83, 84, 87, 81, 76, 83, 78, 81, 86, 83, 87, 82, 79, 82, 86, 83, 73, 85, 71, 82, 80, 80, 81, 75, 81, 70, 79, 74, 79, 74, 81, 77, 82, 73, 78, 66, 71, 75, 64, 73, 74, 79, 69, 75, 79, 82, 75, 74, 69, 79, 72, 73, 72, 74, 77, 69, 61, 67, 70, 85, 61, 62, 64, 66, 62, 67, 63, 66, 64, 59, 66, 75, 72, 38, 48, 61], \"y0\": \" \", \"yaxis\": \"y3\"}, {\"alignmentgroup\": \"True\", \"box\": {\"visible\": false}, \"hoverlabel\": {\"namelength\": 0}, \"hovertemplate\": \"StreamingOn=%{x}<br>IMDb=%{y}\", \"legendgroup\": \"StreamingOn=Disney+\", \"marker\": {\"color\": \"#ab63fa\"}, \"name\": \"StreamingOn=Disney+\", \"offsetgroup\": \"StreamingOn=Disney+\", \"orientation\": \"v\", \"scalegroup\": \"True\", \"showlegend\": true, \"type\": \"violin\", \"x\": [\"Disney+\", \"Disney+\", \"Disney+\", \"Disney+\", \"Disney+\", \"Disney+\", \"Disney+\", \"Disney+\", \"Disney+\", \"Disney+\"], \"x0\": \" \", \"xaxis\": \"x4\", \"y\": [87, 70, 87, 82, 84, 88, 73, 80, 80, 50], \"y0\": \" \", \"yaxis\": \"y4\"}, {\"alignmentgroup\": \"True\", \"box\": {\"visible\": false}, \"hoverlabel\": {\"namelength\": 0}, \"hovertemplate\": \"StreamingOn=%{x}<br>Rotten Tomatoes=%{y}\", \"legendgroup\": \"StreamingOn=Netflix\", \"marker\": {\"color\": \"#636efa\"}, \"name\": \"StreamingOn=Netflix\", \"offsetgroup\": \"StreamingOn=Netflix\", \"orientation\": \"v\", \"scalegroup\": \"True\", \"showlegend\": true, \"type\": \"violin\", \"x\": [\"Netflix\", \"Netflix\", \"Netflix\", \"Netflix\", \"Netflix\", \"Netflix\", \"Netflix\", \"Netflix\", \"Netflix\", \"Netflix\", \"Netflix\", \"Netflix\", \"Netflix\", \"Netflix\", \"Netflix\", \"Netflix\", \"Netflix\", \"Netflix\", \"Netflix\", \"Netflix\", \"Netflix\", \"Netflix\", \"Netflix\", \"Netflix\", \"Netflix\", \"Netflix\", \"Netflix\", \"Netflix\", \"Netflix\", \"Netflix\", \"Netflix\", \"Netflix\", \"Netflix\", \"Netflix\", \"Netflix\", \"Netflix\", \"Netflix\", \"Netflix\", \"Netflix\", \"Netflix\", \"Netflix\", \"Netflix\", \"Netflix\", \"Netflix\", \"Netflix\", \"Netflix\", \"Netflix\", \"Netflix\", \"Netflix\", \"Netflix\", \"Netflix\", \"Netflix\", \"Netflix\", \"Netflix\", \"Netflix\", \"Netflix\", \"Netflix\", \"Netflix\", \"Netflix\", \"Netflix\", \"Netflix\", \"Netflix\", \"Netflix\", \"Netflix\", \"Netflix\", \"Netflix\", \"Netflix\", \"Netflix\", \"Netflix\", \"Netflix\", \"Netflix\", \"Netflix\", \"Netflix\", \"Netflix\", \"Netflix\", \"Netflix\", \"Netflix\", \"Netflix\", \"Netflix\", \"Netflix\", \"Netflix\", \"Netflix\", \"Netflix\", \"Netflix\", \"Netflix\", \"Netflix\", \"Netflix\", \"Netflix\", \"Netflix\", \"Netflix\", \"Netflix\", \"Netflix\", \"Netflix\", \"Netflix\", \"Netflix\", \"Netflix\", \"Netflix\", \"Netflix\", \"Netflix\", \"Netflix\", \"Netflix\", \"Netflix\", \"Netflix\", \"Netflix\", \"Netflix\", \"Netflix\", \"Netflix\", \"Netflix\", \"Netflix\", \"Netflix\", \"Netflix\", \"Netflix\", \"Netflix\", \"Netflix\", \"Netflix\", \"Netflix\", \"Netflix\", \"Netflix\", \"Netflix\", \"Netflix\", \"Netflix\", \"Netflix\", \"Netflix\", \"Netflix\", \"Netflix\", \"Netflix\", \"Netflix\", \"Netflix\", \"Netflix\", \"Netflix\", \"Netflix\", \"Netflix\", \"Netflix\", \"Netflix\", \"Netflix\", \"Netflix\", \"Netflix\", \"Netflix\", \"Netflix\", \"Netflix\", \"Netflix\", \"Netflix\", \"Netflix\", \"Netflix\", \"Netflix\", \"Netflix\", \"Netflix\", \"Netflix\", \"Netflix\", \"Netflix\", \"Netflix\", \"Netflix\", \"Netflix\", \"Netflix\", \"Netflix\", \"Netflix\", \"Netflix\", \"Netflix\", \"Netflix\", \"Netflix\", \"Netflix\", \"Netflix\", \"Netflix\", \"Netflix\", \"Netflix\", \"Netflix\", \"Netflix\", \"Netflix\", \"Netflix\", \"Netflix\", \"Netflix\", \"Netflix\", \"Netflix\", \"Netflix\", \"Netflix\", \"Netflix\", \"Netflix\", \"Netflix\", \"Netflix\", \"Netflix\", \"Netflix\", \"Netflix\", \"Netflix\", \"Netflix\", \"Netflix\", \"Netflix\", \"Netflix\", \"Netflix\", \"Netflix\", \"Netflix\", \"Netflix\", \"Netflix\", \"Netflix\", \"Netflix\", \"Netflix\"], \"x0\": \" \", \"xaxis\": \"x5\", \"y\": [93, 91, 97, 81, 83, 93, 81, 81, 89, 93, 67, 89, 91, 85, 97, 93, 91, 89, 91, 87, 83, 93, 75, 85, 89, 97, 93, 97, 91, 91, 93, 71, 81, 97, 85, 87, 91, 89, 95, 83, 77, 63, 99, 93, 75, 93, 87, 93, 93, 77, 85, 87, 85, 85, 91, 83, 89, 93, 39, 85, 75, 93, 99, 87, 93, 75, 67, 99, 97, 89, 85, 87, 95, 87, 57, 97, 89, 97, 69, 89, 89, 83, 89, 95, 85, 67, 91, 71, 97, 77, 57, 77, 95, 91, 63, 91, 81, 67, 81, 65, 93, 89, 27, 81, 45, 93, 71, 81, 77, 37, 65, 93, 97, 97, 83, 85, 97, 57, 57, 65, 91, 75, 77, 51, 77, 63, 75, 95, 93, 61, 73, 33, 51, 11, 95, 77, 93, 95, 83, 77, 75, 75, 83, 39, 95, 95, 67, 71, 55, 77, 73, 47, 81, 97, 89, 75, 33, 91, 73, 95, 35, 75, 35, 93, 77, 79, 79, 83, 33, 73, 41, 63, 79, 37, 75, 19, 67, 67, 63, 67, 77, 71, 33, 57, 83, 71, 43, 67, 75, 41, 37, 81, 17, 31, 41], \"y0\": \" \", \"yaxis\": \"y5\"}, {\"alignmentgroup\": \"True\", \"box\": {\"visible\": false}, \"hoverlabel\": {\"namelength\": 0}, \"hovertemplate\": \"StreamingOn=%{x}<br>Rotten Tomatoes=%{y}\", \"legendgroup\": \"StreamingOn=Hulu\", \"marker\": {\"color\": \"#EF553B\"}, \"name\": \"StreamingOn=Hulu\", \"offsetgroup\": \"StreamingOn=Hulu\", \"orientation\": \"v\", \"scalegroup\": \"True\", \"showlegend\": true, \"type\": \"violin\", \"x\": [\"Hulu\", \"Hulu\", \"Hulu\", \"Hulu\", \"Hulu\", \"Hulu\", \"Hulu\", \"Hulu\", \"Hulu\", \"Hulu\", \"Hulu\", \"Hulu\", \"Hulu\", \"Hulu\", \"Hulu\", \"Hulu\", \"Hulu\", \"Hulu\", \"Hulu\", \"Hulu\", \"Hulu\", \"Hulu\", \"Hulu\", \"Hulu\", \"Hulu\", \"Hulu\", \"Hulu\", \"Hulu\", \"Hulu\", \"Hulu\", \"Hulu\", \"Hulu\", \"Hulu\", \"Hulu\", \"Hulu\", \"Hulu\", \"Hulu\", \"Hulu\", \"Hulu\", \"Hulu\", \"Hulu\", \"Hulu\", \"Hulu\", \"Hulu\", \"Hulu\", \"Hulu\", \"Hulu\", \"Hulu\", \"Hulu\", \"Hulu\", \"Hulu\", \"Hulu\", \"Hulu\", \"Hulu\", \"Hulu\", \"Hulu\", \"Hulu\", \"Hulu\", \"Hulu\", \"Hulu\", \"Hulu\", \"Hulu\", \"Hulu\", \"Hulu\", \"Hulu\", \"Hulu\", \"Hulu\", \"Hulu\", \"Hulu\", \"Hulu\", \"Hulu\", \"Hulu\", \"Hulu\", \"Hulu\", \"Hulu\", \"Hulu\", \"Hulu\", \"Hulu\", \"Hulu\", \"Hulu\", \"Hulu\", \"Hulu\", \"Hulu\", \"Hulu\", \"Hulu\", \"Hulu\", \"Hulu\", \"Hulu\", \"Hulu\", \"Hulu\", \"Hulu\", \"Hulu\", \"Hulu\", \"Hulu\", \"Hulu\", \"Hulu\", \"Hulu\", \"Hulu\", \"Hulu\", \"Hulu\", \"Hulu\", \"Hulu\", \"Hulu\", \"Hulu\", \"Hulu\", \"Hulu\", \"Hulu\", \"Hulu\", \"Hulu\", \"Hulu\", \"Hulu\", \"Hulu\", \"Hulu\", \"Hulu\", \"Hulu\", \"Hulu\", \"Hulu\", \"Hulu\", \"Hulu\", \"Hulu\", \"Hulu\", \"Hulu\", \"Hulu\", \"Hulu\", \"Hulu\", \"Hulu\", \"Hulu\", \"Hulu\", \"Hulu\", \"Hulu\", \"Hulu\", \"Hulu\", \"Hulu\", \"Hulu\", \"Hulu\", \"Hulu\", \"Hulu\", \"Hulu\", \"Hulu\", \"Hulu\", \"Hulu\", \"Hulu\", \"Hulu\", \"Hulu\", \"Hulu\", \"Hulu\", \"Hulu\", \"Hulu\", \"Hulu\", \"Hulu\", \"Hulu\", \"Hulu\", \"Hulu\", \"Hulu\", \"Hulu\", \"Hulu\", \"Hulu\", \"Hulu\", \"Hulu\", \"Hulu\", \"Hulu\", \"Hulu\", \"Hulu\", \"Hulu\", \"Hulu\", \"Hulu\", \"Hulu\", \"Hulu\", \"Hulu\", \"Hulu\"], \"x0\": \" \", \"xaxis\": \"x6\", \"y\": [93, 89, 97, 83, 75, 71, 81, 89, 87, 77, 51, 63, 93, 97, 85, 85, 85, 81, 83, 95, 87, 97, 91, 97, 83, 75, 97, 91, 85, 91, 95, 97, 83, 81, 93, 97, 69, 87, 65, 83, 69, 91, 81, 99, 85, 99, 87, 97, 91, 87, 95, 83, 95, 87, 91, 79, 81, 87, 77, 89, 87, 91, 89, 85, 97, 73, 97, 89, 79, 89, 77, 89, 81, 97, 89, 57, 75, 97, 91, 87, 83, 61, 95, 97, 85, 89, 75, 75, 67, 65, 91, 79, 81, 53, 93, 61, 95, 93, 77, 75, 83, 75, 75, 95, 87, 77, 93, 75, 59, 85, 73, 97, 91, 73, 67, 67, 67, 73, 41, 77, 67, 73, 95, 39, 91, 67, 51, 65, 89, 77, 43, 83, 59, 59, 81, 43, 83, 81, 83, 73, 33, 89, 9, 39, 77, 47, 43, 11, 93, 17, 33, 67, 81, 93, 83, 79, 93, 73, 89, 67, 23, 67, 67, 85, 25, 9, 21, 25, 83, 67], \"y0\": \" \", \"yaxis\": \"y6\"}, {\"alignmentgroup\": \"True\", \"box\": {\"visible\": false}, \"hoverlabel\": {\"namelength\": 0}, \"hovertemplate\": \"StreamingOn=%{x}<br>Rotten Tomatoes=%{y}\", \"legendgroup\": \"StreamingOn=Prime Video\", \"marker\": {\"color\": \"#00cc96\"}, \"name\": \"StreamingOn=Prime Video\", \"offsetgroup\": \"StreamingOn=Prime Video\", \"orientation\": \"v\", \"scalegroup\": \"True\", \"showlegend\": true, \"type\": \"violin\", \"x\": [\"Prime Video\", \"Prime Video\", \"Prime Video\", \"Prime Video\", \"Prime Video\", \"Prime Video\", \"Prime Video\", \"Prime Video\", \"Prime Video\", \"Prime Video\", \"Prime Video\", \"Prime Video\", \"Prime Video\", \"Prime Video\", \"Prime Video\", \"Prime Video\", \"Prime Video\", \"Prime Video\", \"Prime Video\", \"Prime Video\", \"Prime Video\", \"Prime Video\", \"Prime Video\", \"Prime Video\", \"Prime Video\", \"Prime Video\", \"Prime Video\", \"Prime Video\", \"Prime Video\", \"Prime Video\", \"Prime Video\", \"Prime Video\", \"Prime Video\", \"Prime Video\", \"Prime Video\", \"Prime Video\", \"Prime Video\", \"Prime Video\", \"Prime Video\", \"Prime Video\", \"Prime Video\", \"Prime Video\", \"Prime Video\", \"Prime Video\", \"Prime Video\", \"Prime Video\", \"Prime Video\", \"Prime Video\", \"Prime Video\", \"Prime Video\", \"Prime Video\", \"Prime Video\", \"Prime Video\", \"Prime Video\", \"Prime Video\", \"Prime Video\", \"Prime Video\", \"Prime Video\", \"Prime Video\", \"Prime Video\", \"Prime Video\", \"Prime Video\", \"Prime Video\", \"Prime Video\", \"Prime Video\", \"Prime Video\", \"Prime Video\", \"Prime Video\", \"Prime Video\", \"Prime Video\", \"Prime Video\", \"Prime Video\", \"Prime Video\", \"Prime Video\", \"Prime Video\", \"Prime Video\", \"Prime Video\", \"Prime Video\", \"Prime Video\", \"Prime Video\", \"Prime Video\", \"Prime Video\", \"Prime Video\", \"Prime Video\", \"Prime Video\", \"Prime Video\", \"Prime Video\", \"Prime Video\", \"Prime Video\", \"Prime Video\", \"Prime Video\", \"Prime Video\", \"Prime Video\", \"Prime Video\", \"Prime Video\", \"Prime Video\", \"Prime Video\", \"Prime Video\", \"Prime Video\"], \"x0\": \" \", \"xaxis\": \"x7\", \"y\": [93, 89, 89, 77, 45, 51, 73, 93, 85, 83, 91, 87, 89, 67, 67, 93, 97, 89, 93, 81, 81, 89, 89, 93, 89, 89, 71, 81, 91, 89, 91, 59, 57, 85, 93, 57, 91, 93, 87, 89, 81, 71, 77, 89, 75, 81, 67, 97, 77, 93, 95, 79, 77, 65, 95, 87, 91, 91, 77, 71, 87, 77, 57, 69, 95, 95, 53, 79, 73, 79, 81, 67, 45, 83, 83, 87, 73, 83, 59, 79, 65, 85, 97, 79, 87, 57, 63, 57, 19, 33, 17, 75, 71, 63, 47, 37, 35, 15, 63], \"y0\": \" \", \"yaxis\": \"y7\"}, {\"alignmentgroup\": \"True\", \"box\": {\"visible\": false}, \"hoverlabel\": {\"namelength\": 0}, \"hovertemplate\": \"StreamingOn=%{x}<br>Rotten Tomatoes=%{y}\", \"legendgroup\": \"StreamingOn=Disney+\", \"marker\": {\"color\": \"#ab63fa\"}, \"name\": \"StreamingOn=Disney+\", \"offsetgroup\": \"StreamingOn=Disney+\", \"orientation\": \"v\", \"scalegroup\": \"True\", \"showlegend\": true, \"type\": \"violin\", \"x\": [\"Disney+\", \"Disney+\", \"Disney+\", \"Disney+\", \"Disney+\", \"Disney+\", \"Disney+\", \"Disney+\", \"Disney+\", \"Disney+\"], \"x0\": \" \", \"xaxis\": \"x8\", \"y\": [85, 87, 93, 93, 85, 83, 79, 67, 83, 11], \"y0\": \" \", \"yaxis\": \"y8\"}],\n",
              "                        {\"autosize\": false, \"height\": 800, \"template\": {\"data\": {\"bar\": [{\"error_x\": {\"color\": \"#2a3f5f\"}, \"error_y\": {\"color\": \"#2a3f5f\"}, \"marker\": {\"line\": {\"color\": \"#E5ECF6\", \"width\": 0.5}}, \"type\": \"bar\"}], \"barpolar\": [{\"marker\": {\"line\": {\"color\": \"#E5ECF6\", \"width\": 0.5}}, \"type\": \"barpolar\"}], \"carpet\": [{\"aaxis\": {\"endlinecolor\": \"#2a3f5f\", \"gridcolor\": \"white\", \"linecolor\": \"white\", \"minorgridcolor\": \"white\", \"startlinecolor\": \"#2a3f5f\"}, \"baxis\": {\"endlinecolor\": \"#2a3f5f\", \"gridcolor\": \"white\", \"linecolor\": \"white\", \"minorgridcolor\": \"white\", \"startlinecolor\": \"#2a3f5f\"}, \"type\": \"carpet\"}], \"choropleth\": [{\"colorbar\": {\"outlinewidth\": 0, \"ticks\": \"\"}, \"type\": \"choropleth\"}], \"contour\": [{\"colorbar\": {\"outlinewidth\": 0, \"ticks\": \"\"}, \"colorscale\": [[0.0, \"#0d0887\"], [0.1111111111111111, \"#46039f\"], [0.2222222222222222, \"#7201a8\"], [0.3333333333333333, \"#9c179e\"], [0.4444444444444444, \"#bd3786\"], [0.5555555555555556, \"#d8576b\"], [0.6666666666666666, \"#ed7953\"], [0.7777777777777778, \"#fb9f3a\"], [0.8888888888888888, \"#fdca26\"], [1.0, \"#f0f921\"]], \"type\": \"contour\"}], \"contourcarpet\": [{\"colorbar\": {\"outlinewidth\": 0, \"ticks\": \"\"}, \"type\": \"contourcarpet\"}], \"heatmap\": [{\"colorbar\": {\"outlinewidth\": 0, \"ticks\": \"\"}, \"colorscale\": [[0.0, \"#0d0887\"], [0.1111111111111111, \"#46039f\"], [0.2222222222222222, \"#7201a8\"], [0.3333333333333333, \"#9c179e\"], [0.4444444444444444, \"#bd3786\"], [0.5555555555555556, \"#d8576b\"], [0.6666666666666666, \"#ed7953\"], [0.7777777777777778, \"#fb9f3a\"], [0.8888888888888888, \"#fdca26\"], [1.0, \"#f0f921\"]], \"type\": \"heatmap\"}], \"heatmapgl\": [{\"colorbar\": {\"outlinewidth\": 0, \"ticks\": \"\"}, \"colorscale\": [[0.0, \"#0d0887\"], [0.1111111111111111, \"#46039f\"], [0.2222222222222222, \"#7201a8\"], [0.3333333333333333, \"#9c179e\"], [0.4444444444444444, \"#bd3786\"], [0.5555555555555556, \"#d8576b\"], [0.6666666666666666, \"#ed7953\"], [0.7777777777777778, \"#fb9f3a\"], [0.8888888888888888, \"#fdca26\"], [1.0, \"#f0f921\"]], \"type\": \"heatmapgl\"}], \"histogram\": [{\"marker\": {\"colorbar\": {\"outlinewidth\": 0, \"ticks\": \"\"}}, \"type\": \"histogram\"}], \"histogram2d\": [{\"colorbar\": {\"outlinewidth\": 0, \"ticks\": \"\"}, \"colorscale\": [[0.0, \"#0d0887\"], [0.1111111111111111, \"#46039f\"], [0.2222222222222222, \"#7201a8\"], [0.3333333333333333, \"#9c179e\"], [0.4444444444444444, \"#bd3786\"], [0.5555555555555556, \"#d8576b\"], [0.6666666666666666, \"#ed7953\"], [0.7777777777777778, \"#fb9f3a\"], [0.8888888888888888, \"#fdca26\"], [1.0, \"#f0f921\"]], \"type\": \"histogram2d\"}], \"histogram2dcontour\": [{\"colorbar\": {\"outlinewidth\": 0, \"ticks\": \"\"}, \"colorscale\": [[0.0, \"#0d0887\"], [0.1111111111111111, \"#46039f\"], [0.2222222222222222, \"#7201a8\"], [0.3333333333333333, \"#9c179e\"], [0.4444444444444444, \"#bd3786\"], [0.5555555555555556, \"#d8576b\"], [0.6666666666666666, \"#ed7953\"], [0.7777777777777778, \"#fb9f3a\"], [0.8888888888888888, \"#fdca26\"], [1.0, \"#f0f921\"]], \"type\": \"histogram2dcontour\"}], \"mesh3d\": [{\"colorbar\": {\"outlinewidth\": 0, \"ticks\": \"\"}, \"type\": \"mesh3d\"}], \"parcoords\": [{\"line\": {\"colorbar\": {\"outlinewidth\": 0, \"ticks\": \"\"}}, \"type\": \"parcoords\"}], \"pie\": [{\"automargin\": true, \"type\": \"pie\"}], \"scatter\": [{\"marker\": {\"colorbar\": {\"outlinewidth\": 0, \"ticks\": \"\"}}, \"type\": \"scatter\"}], \"scatter3d\": [{\"line\": {\"colorbar\": {\"outlinewidth\": 0, \"ticks\": \"\"}}, \"marker\": {\"colorbar\": {\"outlinewidth\": 0, \"ticks\": \"\"}}, \"type\": \"scatter3d\"}], \"scattercarpet\": [{\"marker\": {\"colorbar\": {\"outlinewidth\": 0, \"ticks\": \"\"}}, \"type\": \"scattercarpet\"}], \"scattergeo\": [{\"marker\": {\"colorbar\": {\"outlinewidth\": 0, \"ticks\": \"\"}}, \"type\": \"scattergeo\"}], \"scattergl\": [{\"marker\": {\"colorbar\": {\"outlinewidth\": 0, \"ticks\": \"\"}}, \"type\": \"scattergl\"}], \"scattermapbox\": [{\"marker\": {\"colorbar\": {\"outlinewidth\": 0, \"ticks\": \"\"}}, \"type\": \"scattermapbox\"}], \"scatterpolar\": [{\"marker\": {\"colorbar\": {\"outlinewidth\": 0, \"ticks\": \"\"}}, \"type\": \"scatterpolar\"}], \"scatterpolargl\": [{\"marker\": {\"colorbar\": {\"outlinewidth\": 0, \"ticks\": \"\"}}, \"type\": \"scatterpolargl\"}], \"scatterternary\": [{\"marker\": {\"colorbar\": {\"outlinewidth\": 0, \"ticks\": \"\"}}, \"type\": \"scatterternary\"}], \"surface\": [{\"colorbar\": {\"outlinewidth\": 0, \"ticks\": \"\"}, \"colorscale\": [[0.0, \"#0d0887\"], [0.1111111111111111, \"#46039f\"], [0.2222222222222222, \"#7201a8\"], [0.3333333333333333, \"#9c179e\"], [0.4444444444444444, \"#bd3786\"], [0.5555555555555556, \"#d8576b\"], [0.6666666666666666, \"#ed7953\"], [0.7777777777777778, \"#fb9f3a\"], [0.8888888888888888, \"#fdca26\"], [1.0, \"#f0f921\"]], \"type\": \"surface\"}], \"table\": [{\"cells\": {\"fill\": {\"color\": \"#EBF0F8\"}, \"line\": {\"color\": \"white\"}}, \"header\": {\"fill\": {\"color\": \"#C8D4E3\"}, \"line\": {\"color\": \"white\"}}, \"type\": \"table\"}]}, \"layout\": {\"annotationdefaults\": {\"arrowcolor\": \"#2a3f5f\", \"arrowhead\": 0, \"arrowwidth\": 1}, \"coloraxis\": {\"colorbar\": {\"outlinewidth\": 0, \"ticks\": \"\"}}, \"colorscale\": {\"diverging\": [[0, \"#8e0152\"], [0.1, \"#c51b7d\"], [0.2, \"#de77ae\"], [0.3, \"#f1b6da\"], [0.4, \"#fde0ef\"], [0.5, \"#f7f7f7\"], [0.6, \"#e6f5d0\"], [0.7, \"#b8e186\"], [0.8, \"#7fbc41\"], [0.9, \"#4d9221\"], [1, \"#276419\"]], \"sequential\": [[0.0, \"#0d0887\"], [0.1111111111111111, \"#46039f\"], [0.2222222222222222, \"#7201a8\"], [0.3333333333333333, \"#9c179e\"], [0.4444444444444444, \"#bd3786\"], [0.5555555555555556, \"#d8576b\"], [0.6666666666666666, \"#ed7953\"], [0.7777777777777778, \"#fb9f3a\"], [0.8888888888888888, \"#fdca26\"], [1.0, \"#f0f921\"]], \"sequentialminus\": [[0.0, \"#0d0887\"], [0.1111111111111111, \"#46039f\"], [0.2222222222222222, \"#7201a8\"], [0.3333333333333333, \"#9c179e\"], [0.4444444444444444, \"#bd3786\"], [0.5555555555555556, \"#d8576b\"], [0.6666666666666666, \"#ed7953\"], [0.7777777777777778, \"#fb9f3a\"], [0.8888888888888888, \"#fdca26\"], [1.0, \"#f0f921\"]]}, \"colorway\": [\"#636efa\", \"#EF553B\", \"#00cc96\", \"#ab63fa\", \"#FFA15A\", \"#19d3f3\", \"#FF6692\", \"#B6E880\", \"#FF97FF\", \"#FECB52\"], \"font\": {\"color\": \"#2a3f5f\"}, \"geo\": {\"bgcolor\": \"white\", \"lakecolor\": \"white\", \"landcolor\": \"#E5ECF6\", \"showlakes\": true, \"showland\": true, \"subunitcolor\": \"white\"}, \"hoverlabel\": {\"align\": \"left\"}, \"hovermode\": \"closest\", \"mapbox\": {\"style\": \"light\"}, \"paper_bgcolor\": \"white\", \"plot_bgcolor\": \"#E5ECF6\", \"polar\": {\"angularaxis\": {\"gridcolor\": \"white\", \"linecolor\": \"white\", \"ticks\": \"\"}, \"bgcolor\": \"#E5ECF6\", \"radialaxis\": {\"gridcolor\": \"white\", \"linecolor\": \"white\", \"ticks\": \"\"}}, \"scene\": {\"xaxis\": {\"backgroundcolor\": \"#E5ECF6\", \"gridcolor\": \"white\", \"gridwidth\": 2, \"linecolor\": \"white\", \"showbackground\": true, \"ticks\": \"\", \"zerolinecolor\": \"white\"}, \"yaxis\": {\"backgroundcolor\": \"#E5ECF6\", \"gridcolor\": \"white\", \"gridwidth\": 2, \"linecolor\": \"white\", \"showbackground\": true, \"ticks\": \"\", \"zerolinecolor\": \"white\"}, \"zaxis\": {\"backgroundcolor\": \"#E5ECF6\", \"gridcolor\": \"white\", \"gridwidth\": 2, \"linecolor\": \"white\", \"showbackground\": true, \"ticks\": \"\", \"zerolinecolor\": \"white\"}}, \"shapedefaults\": {\"line\": {\"color\": \"#2a3f5f\"}}, \"ternary\": {\"aaxis\": {\"gridcolor\": \"white\", \"linecolor\": \"white\", \"ticks\": \"\"}, \"baxis\": {\"gridcolor\": \"white\", \"linecolor\": \"white\", \"ticks\": \"\"}, \"bgcolor\": \"#E5ECF6\", \"caxis\": {\"gridcolor\": \"white\", \"linecolor\": \"white\", \"ticks\": \"\"}}, \"title\": {\"x\": 0.05}, \"xaxis\": {\"automargin\": true, \"gridcolor\": \"white\", \"linecolor\": \"white\", \"ticks\": \"\", \"title\": {\"standoff\": 15}, \"zerolinecolor\": \"white\", \"zerolinewidth\": 2}, \"yaxis\": {\"automargin\": true, \"gridcolor\": \"white\", \"linecolor\": \"white\", \"ticks\": \"\", \"title\": {\"standoff\": 15}, \"zerolinecolor\": \"white\", \"zerolinewidth\": 2}}}, \"width\": 800, \"xaxis\": {\"anchor\": \"y\", \"domain\": [0.0, 0.2125]}, \"xaxis2\": {\"anchor\": \"y2\", \"domain\": [0.2625, 0.475]}, \"xaxis3\": {\"anchor\": \"y3\", \"domain\": [0.525, 0.7375]}, \"xaxis4\": {\"anchor\": \"y4\", \"domain\": [0.7875, 1.0]}, \"xaxis5\": {\"anchor\": \"y5\", \"domain\": [0.0, 0.2125]}, \"xaxis6\": {\"anchor\": \"y6\", \"domain\": [0.2625, 0.475]}, \"xaxis7\": {\"anchor\": \"y7\", \"domain\": [0.525, 0.7375]}, \"xaxis8\": {\"anchor\": \"y8\", \"domain\": [0.7875, 1.0]}, \"yaxis\": {\"anchor\": \"x\", \"domain\": [0.575, 1.0]}, \"yaxis2\": {\"anchor\": \"x2\", \"domain\": [0.575, 1.0], \"matches\": \"y\", \"showticklabels\": false}, \"yaxis3\": {\"anchor\": \"x3\", \"domain\": [0.575, 1.0], \"matches\": \"y\", \"showticklabels\": false}, \"yaxis4\": {\"anchor\": \"x4\", \"domain\": [0.575, 1.0], \"matches\": \"y\", \"showticklabels\": false}, \"yaxis5\": {\"anchor\": \"x5\", \"domain\": [0.0, 0.425]}, \"yaxis6\": {\"anchor\": \"x6\", \"domain\": [0.0, 0.425], \"matches\": \"y5\", \"showticklabels\": false}, \"yaxis7\": {\"anchor\": \"x7\", \"domain\": [0.0, 0.425], \"matches\": \"y5\", \"showticklabels\": false}, \"yaxis8\": {\"anchor\": \"x8\", \"domain\": [0.0, 0.425], \"matches\": \"y5\", \"showticklabels\": false}},\n",
              "                        {\"responsive\": true}\n",
              "                    ).then(function(){\n",
              "                            \n",
              "var gd = document.getElementById('3f6ebcea-bcbd-4ae9-96a3-891cd19d048a');\n",
              "var x = new MutationObserver(function (mutations, observer) {{\n",
              "        var display = window.getComputedStyle(gd).display;\n",
              "        if (!display || display === 'none') {{\n",
              "            console.log([gd, 'removed!']);\n",
              "            Plotly.purge(gd);\n",
              "            observer.disconnect();\n",
              "        }}\n",
              "}});\n",
              "\n",
              "// Listen for the removal of the full notebook cells\n",
              "var notebookContainer = gd.closest('#notebook-container');\n",
              "if (notebookContainer) {{\n",
              "    x.observe(notebookContainer, {childList: true});\n",
              "}}\n",
              "\n",
              "// Listen for the clearing of the current output cell\n",
              "var outputEl = gd.closest('.output');\n",
              "if (outputEl) {{\n",
              "    x.observe(outputEl, {childList: true});\n",
              "}}\n",
              "\n",
              "                        })\n",
              "                };\n",
              "                \n",
              "            </script>\n",
              "        </div>\n",
              "</body>\n",
              "</html>"
            ]
          },
          "metadata": {
            "tags": []
          }
        }
      ]
    },
    {
      "cell_type": "code",
      "metadata": {
        "colab": {
          "base_uri": "https://localhost:8080/",
          "height": 542
        },
        "id": "RrtgmUv3NuqA",
        "outputId": "d9414084-71d3-4e89-9543-79a40167e64b"
      },
      "source": [
        "px.scatter(tv_shows_both_ratings, x='IMDb',y='Rotten Tomatoes',color='StreamingOn')"
      ],
      "execution_count": 14,
      "outputs": [
        {
          "output_type": "display_data",
          "data": {
            "text/html": [
              "<html>\n",
              "<head><meta charset=\"utf-8\" /></head>\n",
              "<body>\n",
              "    <div>\n",
              "            <script src=\"https://cdnjs.cloudflare.com/ajax/libs/mathjax/2.7.5/MathJax.js?config=TeX-AMS-MML_SVG\"></script><script type=\"text/javascript\">if (window.MathJax) {MathJax.Hub.Config({SVG: {font: \"STIX-Web\"}});}</script>\n",
              "                <script type=\"text/javascript\">window.PlotlyConfig = {MathJaxConfig: 'local'};</script>\n",
              "        <script src=\"https://cdn.plot.ly/plotly-latest.min.js\"></script>    \n",
              "            <div id=\"ca083e87-f5ed-467b-9b09-762db4540664\" class=\"plotly-graph-div\" style=\"height:525px; width:100%;\"></div>\n",
              "            <script type=\"text/javascript\">\n",
              "                \n",
              "                    window.PLOTLYENV=window.PLOTLYENV || {};\n",
              "                    \n",
              "                if (document.getElementById(\"ca083e87-f5ed-467b-9b09-762db4540664\")) {\n",
              "                    Plotly.newPlot(\n",
              "                        'ca083e87-f5ed-467b-9b09-762db4540664',\n",
              "                        [{\"hoverlabel\": {\"namelength\": 0}, \"hovertemplate\": \"StreamingOn=Netflix<br>IMDb=%{x}<br>Rotten Tomatoes=%{y}\", \"legendgroup\": \"StreamingOn=Netflix\", \"marker\": {\"color\": \"#636efa\", \"symbol\": \"circle\"}, \"mode\": \"markers\", \"name\": \"StreamingOn=Netflix\", \"showlegend\": true, \"type\": \"scatter\", \"x\": [88, 84, 87, 89, 88, 84, 82, 84, 88, 86, 83, 88, 84, 86, 82, 87, 80, 77, 84, 82, 76, 81, 87, 77, 87, 76, 87, 80, 82, 81, 84, 81, 74, 84, 76, 85, 78, 86, 80, 80, 79, 85, 84, 81, 88, 82, 83, 82, 93, 78, 76, 79, 77, 81, 79, 80, 83, 80, 78, 83, 73, 77, 82, 68, 81, 71, 74, 78, 82, 78, 78, 85, 83, 73, 77, 84, 75, 81, 81, 73, 84, 72, 83, 73, 79, 80, 85, 75, 79, 78, 77, 72, 84, 82, 75, 85, 77, 81, 81, 77, 74, 81, 82, 77, 84, 79, 67, 68, 73, 65, 80, 75, 83, 78, 71, 70, 73, 73, 75, 74, 76, 72, 75, 70, 77, 77, 74, 61, 85, 75, 60, 74, 66, 66, 76, 74, 79, 80, 64, 71, 64, 79, 79, 76, 76, 62, 76, 71, 61, 72, 74, 65, 63, 74, 74, 65, 61, 75, 64, 82, 72, 70, 59, 74, 67, 74, 66, 73, 73, 70, 65, 76, 72, 65, 70, 67, 66, 73, 60, 63, 58, 38, 68, 65, 71, 70, 77, 69, 36, 61, 64, 52, 57, 23, 58], \"xaxis\": \"x\", \"y\": [93, 91, 97, 81, 83, 93, 81, 81, 89, 93, 67, 89, 91, 85, 97, 93, 91, 89, 91, 87, 83, 93, 75, 85, 89, 97, 93, 97, 91, 91, 93, 71, 81, 97, 85, 87, 91, 89, 95, 83, 77, 63, 99, 93, 75, 93, 87, 93, 93, 77, 85, 87, 85, 85, 91, 83, 89, 93, 39, 85, 75, 93, 99, 87, 93, 75, 67, 99, 97, 89, 85, 87, 95, 87, 57, 97, 89, 97, 69, 89, 89, 83, 89, 95, 85, 67, 91, 71, 97, 77, 57, 77, 95, 91, 63, 91, 81, 67, 81, 65, 93, 89, 27, 81, 45, 93, 71, 81, 77, 37, 65, 93, 97, 97, 83, 85, 97, 57, 57, 65, 91, 75, 77, 51, 77, 63, 75, 95, 93, 61, 73, 33, 51, 11, 95, 77, 93, 95, 83, 77, 75, 75, 83, 39, 95, 95, 67, 71, 55, 77, 73, 47, 81, 97, 89, 75, 33, 91, 73, 95, 35, 75, 35, 93, 77, 79, 79, 83, 33, 73, 41, 63, 79, 37, 75, 19, 67, 67, 63, 67, 77, 71, 33, 57, 83, 71, 43, 67, 75, 41, 37, 81, 17, 31, 41], \"yaxis\": \"y\"}, {\"hoverlabel\": {\"namelength\": 0}, \"hovertemplate\": \"StreamingOn=Hulu<br>IMDb=%{x}<br>Rotten Tomatoes=%{y}\", \"legendgroup\": \"StreamingOn=Hulu\", \"marker\": {\"color\": \"#EF553B\", \"symbol\": \"circle\"}, \"mode\": \"markers\", \"name\": \"StreamingOn=Hulu\", \"showlegend\": true, \"type\": \"scatter\", \"x\": [86, 88, 82, 76, 87, 81, 74, 86, 79, 78, 66, 60, 85, 84, 87, 83, 90, 87, 83, 84, 86, 84, 86, 86, 83, 86, 87, 81, 82, 83, 79, 86, 88, 77, 80, 86, 82, 80, 80, 85, 78, 75, 78, 78, 83, 84, 81, 88, 77, 76, 81, 75, 74, 80, 78, 73, 82, 70, 77, 80, 84, 81, 81, 76, 77, 69, 80, 82, 74, 79, 74, 83, 80, 83, 73, 72, 76, 65, 71, 67, 78, 74, 83, 80, 73, 69, 71, 79, 80, 76, 82, 75, 78, 79, 77, 68, 84, 79, 67, 79, 71, 77, 75, 78, 74, 73, 75, 70, 75, 73, 73, 77, 67, 76, 70, 81, 72, 69, 73, 75, 77, 76, 70, 70, 74, 67, 74, 70, 53, 73, 71, 76, 62, 62, 75, 74, 81, 79, 77, 62, 74, 56, 67, 67, 59, 62, 49, 69, 77, 41, 59, 76, 64, 62, 72, 70, 57, 79, 66, 70, 67, 56, 57, 74, 43, 63, 66, 64, 73, 42], \"xaxis\": \"x\", \"y\": [93, 89, 97, 83, 75, 71, 81, 89, 87, 77, 51, 63, 93, 97, 85, 85, 85, 81, 83, 95, 87, 97, 91, 97, 83, 75, 97, 91, 85, 91, 95, 97, 83, 81, 93, 97, 69, 87, 65, 83, 69, 91, 81, 99, 85, 99, 87, 97, 91, 87, 95, 83, 95, 87, 91, 79, 81, 87, 77, 89, 87, 91, 89, 85, 97, 73, 97, 89, 79, 89, 77, 89, 81, 97, 89, 57, 75, 97, 91, 87, 83, 61, 95, 97, 85, 89, 75, 75, 67, 65, 91, 79, 81, 53, 93, 61, 95, 93, 77, 75, 83, 75, 75, 95, 87, 77, 93, 75, 59, 85, 73, 97, 91, 73, 67, 67, 67, 73, 41, 77, 67, 73, 95, 39, 91, 67, 51, 65, 89, 77, 43, 83, 59, 59, 81, 43, 83, 81, 83, 73, 33, 89, 9, 39, 77, 47, 43, 11, 93, 17, 33, 67, 81, 93, 83, 79, 93, 73, 89, 67, 23, 67, 67, 85, 25, 9, 21, 25, 83, 67], \"yaxis\": \"y\"}, {\"hoverlabel\": {\"namelength\": 0}, \"hovertemplate\": \"StreamingOn=Prime Video<br>IMDb=%{x}<br>Rotten Tomatoes=%{y}\", \"legendgroup\": \"StreamingOn=Prime Video\", \"marker\": {\"color\": \"#00cc96\", \"symbol\": \"circle\"}, \"mode\": \"markers\", \"name\": \"StreamingOn=Prime Video\", \"showlegend\": true, \"type\": \"scatter\", \"x\": [86, 86, 83, 78, 84, 70, 64, 85, 82, 85, 75, 81, 69, 80, 76, 85, 84, 87, 83, 87, 82, 82, 83, 83, 84, 87, 81, 76, 83, 78, 81, 86, 83, 87, 82, 79, 82, 86, 83, 73, 85, 71, 82, 80, 80, 81, 75, 81, 70, 79, 74, 79, 74, 81, 77, 82, 73, 78, 66, 71, 75, 64, 73, 74, 79, 69, 75, 79, 82, 75, 74, 69, 79, 72, 73, 72, 74, 77, 69, 61, 67, 70, 85, 61, 62, 64, 66, 62, 67, 63, 66, 64, 59, 66, 75, 72, 38, 48, 61], \"xaxis\": \"x\", \"y\": [93, 89, 89, 77, 45, 51, 73, 93, 85, 83, 91, 87, 89, 67, 67, 93, 97, 89, 93, 81, 81, 89, 89, 93, 89, 89, 71, 81, 91, 89, 91, 59, 57, 85, 93, 57, 91, 93, 87, 89, 81, 71, 77, 89, 75, 81, 67, 97, 77, 93, 95, 79, 77, 65, 95, 87, 91, 91, 77, 71, 87, 77, 57, 69, 95, 95, 53, 79, 73, 79, 81, 67, 45, 83, 83, 87, 73, 83, 59, 79, 65, 85, 97, 79, 87, 57, 63, 57, 19, 33, 17, 75, 71, 63, 47, 37, 35, 15, 63], \"yaxis\": \"y\"}, {\"hoverlabel\": {\"namelength\": 0}, \"hovertemplate\": \"StreamingOn=Disney+<br>IMDb=%{x}<br>Rotten Tomatoes=%{y}\", \"legendgroup\": \"StreamingOn=Disney+\", \"marker\": {\"color\": \"#ab63fa\", \"symbol\": \"circle\"}, \"mode\": \"markers\", \"name\": \"StreamingOn=Disney+\", \"showlegend\": true, \"type\": \"scatter\", \"x\": [87, 70, 87, 82, 84, 88, 73, 80, 80, 50], \"xaxis\": \"x\", \"y\": [85, 87, 93, 93, 85, 83, 79, 67, 83, 11], \"yaxis\": \"y\"}],\n",
              "                        {\"legend\": {\"tracegroupgap\": 0}, \"margin\": {\"t\": 60}, \"template\": {\"data\": {\"bar\": [{\"error_x\": {\"color\": \"#2a3f5f\"}, \"error_y\": {\"color\": \"#2a3f5f\"}, \"marker\": {\"line\": {\"color\": \"#E5ECF6\", \"width\": 0.5}}, \"type\": \"bar\"}], \"barpolar\": [{\"marker\": {\"line\": {\"color\": \"#E5ECF6\", \"width\": 0.5}}, \"type\": \"barpolar\"}], \"carpet\": [{\"aaxis\": {\"endlinecolor\": \"#2a3f5f\", \"gridcolor\": \"white\", \"linecolor\": \"white\", \"minorgridcolor\": \"white\", \"startlinecolor\": \"#2a3f5f\"}, \"baxis\": {\"endlinecolor\": \"#2a3f5f\", \"gridcolor\": \"white\", \"linecolor\": \"white\", \"minorgridcolor\": \"white\", \"startlinecolor\": \"#2a3f5f\"}, \"type\": \"carpet\"}], \"choropleth\": [{\"colorbar\": {\"outlinewidth\": 0, \"ticks\": \"\"}, \"type\": \"choropleth\"}], \"contour\": [{\"colorbar\": {\"outlinewidth\": 0, \"ticks\": \"\"}, \"colorscale\": [[0.0, \"#0d0887\"], [0.1111111111111111, \"#46039f\"], [0.2222222222222222, \"#7201a8\"], [0.3333333333333333, \"#9c179e\"], [0.4444444444444444, \"#bd3786\"], [0.5555555555555556, \"#d8576b\"], [0.6666666666666666, \"#ed7953\"], [0.7777777777777778, \"#fb9f3a\"], [0.8888888888888888, \"#fdca26\"], [1.0, \"#f0f921\"]], \"type\": \"contour\"}], \"contourcarpet\": [{\"colorbar\": {\"outlinewidth\": 0, \"ticks\": \"\"}, \"type\": \"contourcarpet\"}], \"heatmap\": [{\"colorbar\": {\"outlinewidth\": 0, \"ticks\": \"\"}, \"colorscale\": [[0.0, \"#0d0887\"], [0.1111111111111111, \"#46039f\"], [0.2222222222222222, \"#7201a8\"], [0.3333333333333333, \"#9c179e\"], [0.4444444444444444, \"#bd3786\"], [0.5555555555555556, \"#d8576b\"], [0.6666666666666666, \"#ed7953\"], [0.7777777777777778, \"#fb9f3a\"], [0.8888888888888888, \"#fdca26\"], [1.0, \"#f0f921\"]], \"type\": \"heatmap\"}], \"heatmapgl\": [{\"colorbar\": {\"outlinewidth\": 0, \"ticks\": \"\"}, \"colorscale\": [[0.0, \"#0d0887\"], [0.1111111111111111, \"#46039f\"], [0.2222222222222222, \"#7201a8\"], [0.3333333333333333, \"#9c179e\"], [0.4444444444444444, \"#bd3786\"], [0.5555555555555556, \"#d8576b\"], [0.6666666666666666, \"#ed7953\"], [0.7777777777777778, \"#fb9f3a\"], [0.8888888888888888, \"#fdca26\"], [1.0, \"#f0f921\"]], \"type\": \"heatmapgl\"}], \"histogram\": [{\"marker\": {\"colorbar\": {\"outlinewidth\": 0, \"ticks\": \"\"}}, \"type\": \"histogram\"}], \"histogram2d\": [{\"colorbar\": {\"outlinewidth\": 0, \"ticks\": \"\"}, \"colorscale\": [[0.0, \"#0d0887\"], [0.1111111111111111, \"#46039f\"], [0.2222222222222222, \"#7201a8\"], [0.3333333333333333, \"#9c179e\"], [0.4444444444444444, \"#bd3786\"], [0.5555555555555556, \"#d8576b\"], [0.6666666666666666, \"#ed7953\"], [0.7777777777777778, \"#fb9f3a\"], [0.8888888888888888, \"#fdca26\"], [1.0, \"#f0f921\"]], \"type\": \"histogram2d\"}], \"histogram2dcontour\": [{\"colorbar\": {\"outlinewidth\": 0, \"ticks\": \"\"}, \"colorscale\": [[0.0, \"#0d0887\"], [0.1111111111111111, \"#46039f\"], [0.2222222222222222, \"#7201a8\"], [0.3333333333333333, \"#9c179e\"], [0.4444444444444444, \"#bd3786\"], [0.5555555555555556, \"#d8576b\"], [0.6666666666666666, \"#ed7953\"], [0.7777777777777778, \"#fb9f3a\"], [0.8888888888888888, \"#fdca26\"], [1.0, \"#f0f921\"]], \"type\": \"histogram2dcontour\"}], \"mesh3d\": [{\"colorbar\": {\"outlinewidth\": 0, \"ticks\": \"\"}, \"type\": \"mesh3d\"}], \"parcoords\": [{\"line\": {\"colorbar\": {\"outlinewidth\": 0, \"ticks\": \"\"}}, \"type\": \"parcoords\"}], \"pie\": [{\"automargin\": true, \"type\": \"pie\"}], \"scatter\": [{\"marker\": {\"colorbar\": {\"outlinewidth\": 0, \"ticks\": \"\"}}, \"type\": \"scatter\"}], \"scatter3d\": [{\"line\": {\"colorbar\": {\"outlinewidth\": 0, \"ticks\": \"\"}}, \"marker\": {\"colorbar\": {\"outlinewidth\": 0, \"ticks\": \"\"}}, \"type\": \"scatter3d\"}], \"scattercarpet\": [{\"marker\": {\"colorbar\": {\"outlinewidth\": 0, \"ticks\": \"\"}}, \"type\": \"scattercarpet\"}], \"scattergeo\": [{\"marker\": {\"colorbar\": {\"outlinewidth\": 0, \"ticks\": \"\"}}, \"type\": \"scattergeo\"}], \"scattergl\": [{\"marker\": {\"colorbar\": {\"outlinewidth\": 0, \"ticks\": \"\"}}, \"type\": \"scattergl\"}], \"scattermapbox\": [{\"marker\": {\"colorbar\": {\"outlinewidth\": 0, \"ticks\": \"\"}}, \"type\": \"scattermapbox\"}], \"scatterpolar\": [{\"marker\": {\"colorbar\": {\"outlinewidth\": 0, \"ticks\": \"\"}}, \"type\": \"scatterpolar\"}], \"scatterpolargl\": [{\"marker\": {\"colorbar\": {\"outlinewidth\": 0, \"ticks\": \"\"}}, \"type\": \"scatterpolargl\"}], \"scatterternary\": [{\"marker\": {\"colorbar\": {\"outlinewidth\": 0, \"ticks\": \"\"}}, \"type\": \"scatterternary\"}], \"surface\": [{\"colorbar\": {\"outlinewidth\": 0, \"ticks\": \"\"}, \"colorscale\": [[0.0, \"#0d0887\"], [0.1111111111111111, \"#46039f\"], [0.2222222222222222, \"#7201a8\"], [0.3333333333333333, \"#9c179e\"], [0.4444444444444444, \"#bd3786\"], [0.5555555555555556, \"#d8576b\"], [0.6666666666666666, \"#ed7953\"], [0.7777777777777778, \"#fb9f3a\"], [0.8888888888888888, \"#fdca26\"], [1.0, \"#f0f921\"]], \"type\": \"surface\"}], \"table\": [{\"cells\": {\"fill\": {\"color\": \"#EBF0F8\"}, \"line\": {\"color\": \"white\"}}, \"header\": {\"fill\": {\"color\": \"#C8D4E3\"}, \"line\": {\"color\": \"white\"}}, \"type\": \"table\"}]}, \"layout\": {\"annotationdefaults\": {\"arrowcolor\": \"#2a3f5f\", \"arrowhead\": 0, \"arrowwidth\": 1}, \"coloraxis\": {\"colorbar\": {\"outlinewidth\": 0, \"ticks\": \"\"}}, \"colorscale\": {\"diverging\": [[0, \"#8e0152\"], [0.1, \"#c51b7d\"], [0.2, \"#de77ae\"], [0.3, \"#f1b6da\"], [0.4, \"#fde0ef\"], [0.5, \"#f7f7f7\"], [0.6, \"#e6f5d0\"], [0.7, \"#b8e186\"], [0.8, \"#7fbc41\"], [0.9, \"#4d9221\"], [1, \"#276419\"]], \"sequential\": [[0.0, \"#0d0887\"], [0.1111111111111111, \"#46039f\"], [0.2222222222222222, \"#7201a8\"], [0.3333333333333333, \"#9c179e\"], [0.4444444444444444, \"#bd3786\"], [0.5555555555555556, \"#d8576b\"], [0.6666666666666666, \"#ed7953\"], [0.7777777777777778, \"#fb9f3a\"], [0.8888888888888888, \"#fdca26\"], [1.0, \"#f0f921\"]], \"sequentialminus\": [[0.0, \"#0d0887\"], [0.1111111111111111, \"#46039f\"], [0.2222222222222222, \"#7201a8\"], [0.3333333333333333, \"#9c179e\"], [0.4444444444444444, \"#bd3786\"], [0.5555555555555556, \"#d8576b\"], [0.6666666666666666, \"#ed7953\"], [0.7777777777777778, \"#fb9f3a\"], [0.8888888888888888, \"#fdca26\"], [1.0, \"#f0f921\"]]}, \"colorway\": [\"#636efa\", \"#EF553B\", \"#00cc96\", \"#ab63fa\", \"#FFA15A\", \"#19d3f3\", \"#FF6692\", \"#B6E880\", \"#FF97FF\", \"#FECB52\"], \"font\": {\"color\": \"#2a3f5f\"}, \"geo\": {\"bgcolor\": \"white\", \"lakecolor\": \"white\", \"landcolor\": \"#E5ECF6\", \"showlakes\": true, \"showland\": true, \"subunitcolor\": \"white\"}, \"hoverlabel\": {\"align\": \"left\"}, \"hovermode\": \"closest\", \"mapbox\": {\"style\": \"light\"}, \"paper_bgcolor\": \"white\", \"plot_bgcolor\": \"#E5ECF6\", \"polar\": {\"angularaxis\": {\"gridcolor\": \"white\", \"linecolor\": \"white\", \"ticks\": \"\"}, \"bgcolor\": \"#E5ECF6\", \"radialaxis\": {\"gridcolor\": \"white\", \"linecolor\": \"white\", \"ticks\": \"\"}}, \"scene\": {\"xaxis\": {\"backgroundcolor\": \"#E5ECF6\", \"gridcolor\": \"white\", \"gridwidth\": 2, \"linecolor\": \"white\", \"showbackground\": true, \"ticks\": \"\", \"zerolinecolor\": \"white\"}, \"yaxis\": {\"backgroundcolor\": \"#E5ECF6\", \"gridcolor\": \"white\", \"gridwidth\": 2, \"linecolor\": \"white\", \"showbackground\": true, \"ticks\": \"\", \"zerolinecolor\": \"white\"}, \"zaxis\": {\"backgroundcolor\": \"#E5ECF6\", \"gridcolor\": \"white\", \"gridwidth\": 2, \"linecolor\": \"white\", \"showbackground\": true, \"ticks\": \"\", \"zerolinecolor\": \"white\"}}, \"shapedefaults\": {\"line\": {\"color\": \"#2a3f5f\"}}, \"ternary\": {\"aaxis\": {\"gridcolor\": \"white\", \"linecolor\": \"white\", \"ticks\": \"\"}, \"baxis\": {\"gridcolor\": \"white\", \"linecolor\": \"white\", \"ticks\": \"\"}, \"bgcolor\": \"#E5ECF6\", \"caxis\": {\"gridcolor\": \"white\", \"linecolor\": \"white\", \"ticks\": \"\"}}, \"title\": {\"x\": 0.05}, \"xaxis\": {\"automargin\": true, \"gridcolor\": \"white\", \"linecolor\": \"white\", \"ticks\": \"\", \"title\": {\"standoff\": 15}, \"zerolinecolor\": \"white\", \"zerolinewidth\": 2}, \"yaxis\": {\"automargin\": true, \"gridcolor\": \"white\", \"linecolor\": \"white\", \"ticks\": \"\", \"title\": {\"standoff\": 15}, \"zerolinecolor\": \"white\", \"zerolinewidth\": 2}}}, \"xaxis\": {\"anchor\": \"y\", \"domain\": [0.0, 1.0], \"title\": {\"text\": \"IMDb\"}}, \"yaxis\": {\"anchor\": \"x\", \"domain\": [0.0, 1.0], \"title\": {\"text\": \"Rotten Tomatoes\"}}},\n",
              "                        {\"responsive\": true}\n",
              "                    ).then(function(){\n",
              "                            \n",
              "var gd = document.getElementById('ca083e87-f5ed-467b-9b09-762db4540664');\n",
              "var x = new MutationObserver(function (mutations, observer) {{\n",
              "        var display = window.getComputedStyle(gd).display;\n",
              "        if (!display || display === 'none') {{\n",
              "            console.log([gd, 'removed!']);\n",
              "            Plotly.purge(gd);\n",
              "            observer.disconnect();\n",
              "        }}\n",
              "}});\n",
              "\n",
              "// Listen for the removal of the full notebook cells\n",
              "var notebookContainer = gd.closest('#notebook-container');\n",
              "if (notebookContainer) {{\n",
              "    x.observe(notebookContainer, {childList: true});\n",
              "}}\n",
              "\n",
              "// Listen for the clearing of the current output cell\n",
              "var outputEl = gd.closest('.output');\n",
              "if (outputEl) {{\n",
              "    x.observe(outputEl, {childList: true});\n",
              "}}\n",
              "\n",
              "                        })\n",
              "                };\n",
              "                \n",
              "            </script>\n",
              "        </div>\n",
              "</body>\n",
              "</html>"
            ]
          },
          "metadata": {
            "tags": []
          }
        }
      ]
    },
    {
      "cell_type": "code",
      "metadata": {
        "id": "tLlpIoe6N-us"
      },
      "source": [
        ""
      ],
      "execution_count": null,
      "outputs": []
    }
  ]
}