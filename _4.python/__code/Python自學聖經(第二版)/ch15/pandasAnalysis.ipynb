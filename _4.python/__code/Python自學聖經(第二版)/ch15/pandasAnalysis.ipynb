{
 "cells": [
  {
   "cell_type": "markdown",
   "metadata": {
    "id": "iUD2nBn5SrJ4"
   },
   "source": [
    "## 資料預處理"
   ]
  },
  {
   "cell_type": "code",
   "execution_count": null,
   "metadata": {
    "id": "9ed7dvmdpPAe"
   },
   "outputs": [],
   "source": [
    "import pandas as pd\n",
    "import numpy as np\n",
    "df1 = pd.read_csv('score1.csv')\n",
    "df1.head()"
   ]
  },
  {
   "cell_type": "code",
   "execution_count": null,
   "metadata": {
    "id": "zNZv14ibb6OT"
   },
   "outputs": [],
   "source": [
    "print('資料結構：')\n",
    "df1.shape"
   ]
  },
  {
   "cell_type": "code",
   "execution_count": null,
   "metadata": {
    "id": "SQMHgKppsJkn"
   },
   "outputs": [],
   "source": [
    "print('資料資訊：')\n",
    "df1.info()"
   ]
  },
  {
   "cell_type": "code",
   "execution_count": null,
   "metadata": {
    "id": "oJAcWqmhsZCo"
   },
   "outputs": [],
   "source": [
    "print('資料描述：')\n",
    "df1.describe()"
   ]
  },
  {
   "cell_type": "code",
   "execution_count": null,
   "metadata": {
    "id": "jEJovs18u7kd"
   },
   "outputs": [],
   "source": [
    "null1 = df1.isnull().any(axis='columns')\n",
    "print('含有任何空值的資料：')\n",
    "df1[null1]"
   ]
  },
  {
   "cell_type": "code",
   "execution_count": null,
   "metadata": {
    "id": "Q7AatJsSWhZd"
   },
   "outputs": [],
   "source": [
    "null1 = df1.isnull().all(axis='columns')\n",
    "print('含有全部空值的資料：')\n",
    "df1[null1]"
   ]
  },
  {
   "cell_type": "code",
   "execution_count": null,
   "metadata": {
    "id": "mDz0OyiBrdTB"
   },
   "outputs": [],
   "source": [
    "df2 = df1.dropna()\n",
    "df2"
   ]
  },
  {
   "cell_type": "code",
   "execution_count": null,
   "metadata": {
    "id": "O4MCqZPQroV7"
   },
   "outputs": [],
   "source": [
    "df3 = df1.dropna(how='all')\n",
    "df3"
   ]
  },
  {
   "cell_type": "code",
   "execution_count": null,
   "metadata": {
    "id": "7i1IkbVR34Ps"
   },
   "outputs": [],
   "source": [
    "df4 = df1.dropna(thresh=3)\n",
    "df4"
   ]
  },
  {
   "cell_type": "code",
   "execution_count": null,
   "metadata": {
    "id": "0m4QwFWltgiX"
   },
   "outputs": [],
   "source": [
    "df5 = df1.dropna(subset=['國文'])\n",
    "df5"
   ]
  },
  {
   "cell_type": "code",
   "execution_count": null,
   "metadata": {
    "id": "P_8vzOy85pKe"
   },
   "outputs": [],
   "source": [
    "df6 = df1.fillna(value=df1.mean()) #平均值\n",
    "#df6 = df1.fillna(value=df1.median()) #中位數\n",
    "#df6 = df1.fillna(value=df1.max()) #最大值 \n",
    "#df6 = df1.fillna(value=df1.min()) #最小值\n",
    "df6"
   ]
  },
  {
   "cell_type": "code",
   "execution_count": null,
   "metadata": {
    "id": "RjZa9_uORcGx"
   },
   "outputs": [],
   "source": [
    "df7 = df1.fillna(method='backfill')\n",
    "#df7 = df1.fillna(method='ffill', axis='columns')\n",
    "#df7 = df1.fillna(method='backfill')\n",
    "#df7 = df1.fillna(method='ffill', axis='columns')\n",
    "df7"
   ]
  },
  {
   "cell_type": "code",
   "execution_count": null,
   "metadata": {
    "id": "TbqocKOlRx4q"
   },
   "outputs": [],
   "source": [
    "df1['國文'].fillna(value=60, inplace=True)\n",
    "df1['自然'].fillna(value=50, inplace=True)\n",
    "df1"
   ]
  },
  {
   "cell_type": "code",
   "execution_count": null,
   "metadata": {
    "id": "bJJIW7YX1Ncc"
   },
   "outputs": [],
   "source": [
    "df1 = pd.read_csv('score1.csv')\n",
    "df8 = df1.drop_duplicates(ignore_index=True)\n",
    "df8"
   ]
  },
  {
   "cell_type": "markdown",
   "metadata": {
    "id": "EQJj5jmze2cE"
   },
   "source": [
    "## 資料合併"
   ]
  },
  {
   "cell_type": "code",
   "execution_count": null,
   "metadata": {},
   "outputs": [],
   "source": [
    "df1 = pd.read_csv('score2_6.csv')\n",
    "df1"
   ]
  },
  {
   "cell_type": "code",
   "execution_count": null,
   "metadata": {
    "id": "u4x8upVSe37f"
   },
   "outputs": [],
   "source": [
    "import pandas as pd\n",
    "import numpy as np"
   ]
  },
  {
   "cell_type": "code",
   "execution_count": null,
   "metadata": {
    "id": "WbuvTFINiNLH"
   },
   "outputs": [],
   "source": [
    "df1 = pd.read_csv('score2_1.csv')\n",
    "df2 = pd.read_csv('score2_2.csv')\n",
    "df3 = df1.append(df2, ignore_index=True)\n",
    "df3"
   ]
  },
  {
   "cell_type": "code",
   "execution_count": null,
   "metadata": {
    "id": "8yZZi81Umghs"
   },
   "outputs": [],
   "source": [
    "df1 = pd.read_csv('score2_1.csv')\n",
    "df2 = pd.read_csv('score2_3.csv')\n",
    "df3 = df1.append(df2, ignore_index=True)\n",
    "df3"
   ]
  },
  {
   "cell_type": "code",
   "execution_count": null,
   "metadata": {
    "id": "K5Lw4SCBnYZs"
   },
   "outputs": [],
   "source": [
    "df1 = pd.read_csv('score2_1.csv')\n",
    "df2 = pd.read_csv('score2_2.csv')\n",
    "df4 = pd.concat([df1,df2], ignore_index=True)\n",
    "df4"
   ]
  },
  {
   "cell_type": "code",
   "execution_count": null,
   "metadata": {
    "id": "-s_KH_h0qqRi"
   },
   "outputs": [],
   "source": [
    "df1 = pd.read_csv('score2_1.csv')\n",
    "df2 = pd.read_csv('score2_3.csv')\n",
    "df4 = pd.concat([df1,df2], ignore_index=True, join='inner')\n",
    "df4"
   ]
  },
  {
   "cell_type": "code",
   "execution_count": null,
   "metadata": {
    "id": "FDOt5ZsS3C-Y"
   },
   "outputs": [],
   "source": [
    "df1 = pd.read_csv('score2_1.csv')\n",
    "df2 = pd.read_csv('score2_4.csv')\n",
    "df5 = pd.merge(df1,df2) #一對一\n",
    "df5"
   ]
  },
  {
   "cell_type": "code",
   "execution_count": null,
   "metadata": {
    "id": "6NjhgfEAokLW"
   },
   "outputs": [],
   "source": [
    "df1 = pd.read_csv('score2_1.csv')\n",
    "df2 = pd.read_csv('score2_4.csv')\n",
    "df5 = pd.merge(df1,df2, how='outer')\n",
    "#df5 = pd.merge(df1,df2, how='left')\n",
    "#df5 = pd.merge(df1,df2, how='right')\n",
    "df5"
   ]
  },
  {
   "cell_type": "code",
   "execution_count": null,
   "metadata": {
    "id": "ScZRalBoi4MV"
   },
   "outputs": [],
   "source": [
    "df1 = pd.read_csv('score2_1.csv')\n",
    "df2 = pd.read_csv('score2_5.csv')\n",
    "df5 = pd.merge(df1,df2) #多對一\n",
    "df5"
   ]
  },
  {
   "cell_type": "code",
   "execution_count": null,
   "metadata": {
    "id": "BGpO-QjtlkAS"
   },
   "outputs": [],
   "source": [
    "df1 = pd.read_csv('score2_1.csv')\n",
    "df2 = pd.read_csv('score2_6.csv')\n",
    "df5 = pd.merge(df1,df2, left_on='座號', right_on='座號')\n",
    "df5"
   ]
  },
  {
   "cell_type": "code",
   "execution_count": null,
   "metadata": {
    "id": "s6u37re3meC1"
   },
   "outputs": [],
   "source": [
    "df1 = pd.read_csv('score2_1.csv')\n",
    "df2 = pd.read_csv('score2_6.csv')\n",
    "df5 = pd.merge(df1,df2, left_on='座號', right_on='座號', suffixes=['_自','_社'])\n",
    "df5"
   ]
  },
  {
   "cell_type": "code",
   "execution_count": null,
   "metadata": {
    "id": "rNHz1EOspv47"
   },
   "outputs": [],
   "source": [
    "df1 = pd.read_csv('score2_1.csv')\n",
    "df2 = pd.read_csv('score2_6.csv')\n",
    "df5 = pd.merge(df1,df2, on='座號', suffixes=['_自','_社'])\n",
    "df5"
   ]
  },
  {
   "cell_type": "markdown",
   "metadata": {
    "id": "FyBo0sRy3ElA"
   },
   "source": [
    "## 樞紐分析表"
   ]
  },
  {
   "cell_type": "code",
   "execution_count": null,
   "metadata": {
    "id": "ycINxUFgv53U"
   },
   "outputs": [],
   "source": [
    "import pandas as pd\n",
    "import numpy as np"
   ]
  },
  {
   "cell_type": "code",
   "execution_count": null,
   "metadata": {
    "id": "5tslzC6e4ev5"
   },
   "outputs": [],
   "source": [
    "df1 = pd.read_csv('sale.csv')\n",
    "df1.head()"
   ]
  },
  {
   "cell_type": "code",
   "execution_count": null,
   "metadata": {
    "id": "82MULAio46Kv"
   },
   "outputs": [],
   "source": [
    "df2 = pd.pivot_table(df1, index=['業務員'])\n",
    "df2"
   ]
  },
  {
   "cell_type": "code",
   "execution_count": null,
   "metadata": {
    "id": "8ozBlw2-5Z8G"
   },
   "outputs": [],
   "source": [
    "df2 = pd.pivot_table(df1, index=['業務員', '商品'])\n",
    "df2"
   ]
  },
  {
   "cell_type": "code",
   "execution_count": null,
   "metadata": {
    "id": "SYxh-5y456aL"
   },
   "outputs": [],
   "source": [
    "df2 = pd.pivot_table(df1, index=['業務員'], columns=['商品'])\n",
    "df2"
   ]
  },
  {
   "cell_type": "code",
   "execution_count": null,
   "metadata": {
    "id": "L9Qjf6che-dy"
   },
   "outputs": [],
   "source": [
    "df2 = pd.pivot_table(df1, index=['業務員'], columns=['商品'], values=['價格'])\n",
    "df2"
   ]
  },
  {
   "cell_type": "code",
   "execution_count": null,
   "metadata": {
    "id": "8Bm0ZEaAApmZ"
   },
   "outputs": [],
   "source": [
    "df2 = pd.pivot_table(df1, index=['業務員'], columns=['商品'], values=['數量'], margins=True)\n",
    "df2"
   ]
  },
  {
   "cell_type": "code",
   "execution_count": null,
   "metadata": {
    "id": "HcswDUXCH4Ak"
   },
   "outputs": [],
   "source": [
    "df2 = pd.pivot_table(df1, index=['業務員'], columns=['商品'], values=['數量'], margins=True, margins_name='總計')\n",
    "df2"
   ]
  },
  {
   "cell_type": "code",
   "execution_count": null,
   "metadata": {
    "id": "Xg--ziJc_dY0"
   },
   "outputs": [],
   "source": [
    "df2 = pd.pivot_table(df1, index=['業務員'], columns=['商品'], values=['數量'], aggfunc=['max','min','sum'])\n",
    "df2"
   ]
  },
  {
   "cell_type": "markdown",
   "metadata": {
    "id": "GzDufCskpMop"
   },
   "source": [
    "## 實戰：鐵達尼號資料分析"
   ]
  },
  {
   "cell_type": "code",
   "execution_count": null,
   "metadata": {
    "id": "3EDtcAXrpOHK"
   },
   "outputs": [],
   "source": [
    "import pandas as pd\n",
    "import numpy as np"
   ]
  },
  {
   "cell_type": "code",
   "execution_count": null,
   "metadata": {
    "id": "0N_xhyGzpsMb"
   },
   "outputs": [],
   "source": [
    "df1 = pd.read_csv('titanic1.csv')\n",
    "df1.head()"
   ]
  },
  {
   "cell_type": "code",
   "execution_count": null,
   "metadata": {
    "id": "6248mU7o2v-P"
   },
   "outputs": [],
   "source": [
    "df2 = pd.read_csv('titanic2.csv')\n",
    "df2.head()"
   ]
  },
  {
   "cell_type": "code",
   "execution_count": null,
   "metadata": {
    "id": "O8aLtagq2nIM"
   },
   "outputs": [],
   "source": [
    "dft = pd.merge(df1, df2, on='row.names')\n",
    "dft.info()"
   ]
  },
  {
   "cell_type": "code",
   "execution_count": null,
   "metadata": {
    "id": "52v1RanB3Jke"
   },
   "outputs": [],
   "source": [
    "dft['age'].fillna(value=dft['age'].mean(), inplace=True)\n",
    "dft['embarked'].fillna(method='ffill', inplace=True)\n",
    "dft.info()"
   ]
  },
  {
   "cell_type": "code",
   "execution_count": null,
   "metadata": {
    "id": "366ET6egxdwa"
   },
   "outputs": [],
   "source": [
    "df3 = pd.pivot_table(dft, index=['sex'], values=['survived'], margins=True)\n",
    "df3"
   ]
  },
  {
   "cell_type": "code",
   "execution_count": null,
   "metadata": {
    "id": "2cwtm9Lzx0r2"
   },
   "outputs": [],
   "source": [
    "df3 = pd.pivot_table(dft, index=['sex'], columns=['pclass'], values=['survived'], margins=True)\n",
    "df3"
   ]
  },
  {
   "cell_type": "code",
   "execution_count": null,
   "metadata": {
    "id": "mDvVyc14x0vr"
   },
   "outputs": [],
   "source": [
    "df3 = pd.pivot_table(dft, index=['survived'], values=['age'], margins=True)\n",
    "df3"
   ]
  },
  {
   "cell_type": "code",
   "execution_count": null,
   "metadata": {
    "id": "HPr6MlThx0y_"
   },
   "outputs": [],
   "source": [
    "df3 = pd.pivot_table(dft, index=['survived'], columns=['pclass'], values=['age'], margins=True)\n",
    "df3"
   ]
  },
  {
   "cell_type": "code",
   "execution_count": null,
   "metadata": {
    "id": "mJBaARoBz_IJ"
   },
   "outputs": [],
   "source": [
    "df3 = pd.pivot_table(dft, index=['embarked'], values=['survived'], margins=True)\n",
    "df3"
   ]
  },
  {
   "cell_type": "code",
   "execution_count": null,
   "metadata": {
    "id": "KaYxcs5H0adg"
   },
   "outputs": [],
   "source": [
    "df3 = pd.pivot_table(dft, index=['embarked'], columns=['survived'], values=['age'], aggfunc=['mean','max','count'], margins=True)\n",
    "df3"
   ]
  },
  {
   "cell_type": "code",
   "execution_count": null,
   "metadata": {},
   "outputs": [],
   "source": []
  }
 ],
 "metadata": {
  "colab": {
   "collapsed_sections": [
    "EQJj5jmze2cE",
    "FyBo0sRy3ElA",
    "GzDufCskpMop"
   ],
   "name": "pandasAnalysis.ipynb",
   "provenance": [],
   "toc_visible": true
  },
  "kernelspec": {
   "display_name": "Python 3",
   "language": "python",
   "name": "python3"
  },
  "language_info": {
   "codemirror_mode": {
    "name": "ipython",
    "version": 3
   },
   "file_extension": ".py",
   "mimetype": "text/x-python",
   "name": "python",
   "nbconvert_exporter": "python",
   "pygments_lexer": "ipython3",
   "version": "3.8.5"
  }
 },
 "nbformat": 4,
 "nbformat_minor": 1
}
