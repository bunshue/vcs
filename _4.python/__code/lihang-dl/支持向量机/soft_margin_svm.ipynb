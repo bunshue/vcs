{
 "cells": [
  {
   "cell_type": "markdown",
   "metadata": {},
   "source": [
    "# 支持向量机\n",
    "\n",
    "## 线性支持向量机\n",
    "\n",
    "实际场景中训练数据往往不是线性可分的，当训练数据近似线性可分时，就需要使用线性支持向量机或软间隔支持向量机。\n",
    "\n",
    "给定训练数据集$T=\\{(x_1,y_1),(x_2,y_2),...,(x_N,y_N)\\}$,其中$\\mathcal{X}=\\mathcal{R}^{n},y_i \\in \\mathcal{Y}=\\{-1,+1\\},i=1,2,...,N$，$x_i$为第$i$个特征向量，$y_i$为$x_i$的类标记.\n",
    "\n",
    "由于数据中常常有噪声或特异点等，导致数据线性不可分。这就意味着，部分样本点$(x_i,y_i)$不能满足函数间隔大于等于1的约束条件。为此引入松弛变量$\\xi_{i}$，使得约束条件变为：\n",
    "$$y_i(w \\cdot x_i +b) \\geqslant 1- \\xi_{i}$$\n",
    "同时，对每一个松弛变量$\\xi_{i}$支付一个代价$\\xi_{i}$.则目标函数变为：\n",
    "$${\\frac{1}{2}\\|w\\|^{2}+C \\sum_{i=1}^{N}\\xi_{i}}$$\n",
    "其中，$C>0$为惩罚参数.\n",
    "\n",
    "由此线性不可分的线性支持向量的学习问题转化为凸二次规划问题：\n",
    "$$\\min_{w,b,\\xi} \\quad \\frac{1}{2}\\|w\\|^{2}+C\\sum_{i=1}^{N}\\xi_{i}$$\n",
    "$$s.t \\quad y_i(w \\cdot x_i+b) \\geqslant 1- \\xi_{i}, \\quad i=1,2,...,N$$\n",
    "$$\\xi_{i} \\geqslant 0,\\quad i=1,2,...,N$$\n",
    "\n",
    "## 定义 线性支持向量机\n",
    "对于给定的线性不可分的训练数据集，通过求解凸二次规划问题，即软间隔最大化问题，可得到分离的超平面：$w^{*} \\cdot x+b^{*}$\n",
    "以及相应的分类决策函数：$f(x)=\\operatorname{sign}(w^{*} \\cdot x+b^{*})$，称为线性支持向量机.\n",
    "\n",
    "## 线性支持向量机学习算法\n",
    "输入：训练数据集$T=\\{(x_1,y_1),(x_2,y_2),...,(x_N,y_N)\\}$,其中$\\mathcal{X}=\\mathcal{R}^{n},y_i \\in \\mathcal{Y}=\\{-1,+1\\},i=1,2,...,N$；\n",
    "\n",
    "输出：分离超平面和分类决策函数。\n",
    "\n",
    "第一步:选择惩罚参数$C>0$，构造并求解凸二次规划问题\n",
    "$${\\min_{\\alpha} \\quad \\frac{1}{2}\\sum_{i=1}^{N}\\sum_{j=1}^{N}\\alpha_{i}\\alpha_{j}y_{i}y_{j}(x_i \\cdot x_j)-\\sum_{i=1}^{N}\\alpha_{i}}$$\n",
    "\n",
    "$${s.t. \\quad \\sum_{i=1}^{N}\\alpha_{i}y_i=0}$$\n",
    "\n",
    "$${0 \\leqslant \\alpha_{i} \\leqslant C,\\quad i=1,2, \\cdots ,N}$$\n",
    "求得最优化问题的解$\\alpha^{*}=(\\alpha_{1}^{*},\\alpha_{2}^{*}, \\cdots,\\alpha_{N}^{*})^{T}$\n",
    "\n",
    "第二步:计算${w^{*}=\\sum_{i=1}^{N}\\alpha_{i}^{*}  y_{i} x_{i}}$,并选择$\\alpha^{*}$的一个分量$a_{j}^{*}$适合条件$0< \\alpha_{j}^{*}<C$，计算\n",
    "$$b^{*}=y_i-\\sum_{i=1}^{N}y_{i}\\alpha_{i}^{*}(x_i \\cdot x_j)$$\n",
    "\n",
    "第三步：求得分离超平面$$w^{*} \\cdot x+b^{*}$$,分类决策函数为:$$f(x)=\\operatorname{sign}(w^{*} \\cdot x+b^{*})$$"
   ]
  },
  {
   "cell_type": "markdown",
   "metadata": {},
   "source": [
    "### 线性支持向量机的TensorFlw实现"
   ]
  },
  {
   "cell_type": "code",
   "execution_count": 1,
   "metadata": {},
   "outputs": [
    {
     "name": "stderr",
     "output_type": "stream",
     "text": [
      "E:\\softinstall\\Anaconda3\\lib\\site-packages\\tensorflow\\python\\framework\\dtypes.py:526: FutureWarning: Passing (type, 1) or '1type' as a synonym of type is deprecated; in a future version of numpy, it will be understood as (type, (1,)) / '(1,)type'.\n",
      "  _np_qint8 = np.dtype([(\"qint8\", np.int8, 1)])\n",
      "E:\\softinstall\\Anaconda3\\lib\\site-packages\\tensorflow\\python\\framework\\dtypes.py:527: FutureWarning: Passing (type, 1) or '1type' as a synonym of type is deprecated; in a future version of numpy, it will be understood as (type, (1,)) / '(1,)type'.\n",
      "  _np_quint8 = np.dtype([(\"quint8\", np.uint8, 1)])\n",
      "E:\\softinstall\\Anaconda3\\lib\\site-packages\\tensorflow\\python\\framework\\dtypes.py:528: FutureWarning: Passing (type, 1) or '1type' as a synonym of type is deprecated; in a future version of numpy, it will be understood as (type, (1,)) / '(1,)type'.\n",
      "  _np_qint16 = np.dtype([(\"qint16\", np.int16, 1)])\n",
      "E:\\softinstall\\Anaconda3\\lib\\site-packages\\tensorflow\\python\\framework\\dtypes.py:529: FutureWarning: Passing (type, 1) or '1type' as a synonym of type is deprecated; in a future version of numpy, it will be understood as (type, (1,)) / '(1,)type'.\n",
      "  _np_quint16 = np.dtype([(\"quint16\", np.uint16, 1)])\n",
      "E:\\softinstall\\Anaconda3\\lib\\site-packages\\tensorflow\\python\\framework\\dtypes.py:530: FutureWarning: Passing (type, 1) or '1type' as a synonym of type is deprecated; in a future version of numpy, it will be understood as (type, (1,)) / '(1,)type'.\n",
      "  _np_qint32 = np.dtype([(\"qint32\", np.int32, 1)])\n",
      "E:\\softinstall\\Anaconda3\\lib\\site-packages\\tensorflow\\python\\framework\\dtypes.py:535: FutureWarning: Passing (type, 1) or '1type' as a synonym of type is deprecated; in a future version of numpy, it will be understood as (type, (1,)) / '(1,)type'.\n",
      "  np_resource = np.dtype([(\"resource\", np.ubyte, 1)])\n",
      "E:\\softinstall\\Anaconda3\\lib\\site-packages\\h5py\\__init__.py:36: FutureWarning: Conversion of the second argument of issubdtype from `float` to `np.floating` is deprecated. In future, it will be treated as `np.float64 == np.dtype(float).type`.\n",
      "  from ._conv import register_converters as _register_converters\n"
     ]
    }
   ],
   "source": [
    "import matplotlib.pyplot as plt\n",
    "import numpy as np\n",
    "import tensorflow as tf\n",
    "from sklearn import datasets\n",
    "from tensorflow.python.framework import ops\n",
    "ops.reset_default_graph()\n",
    "\n",
    "# 创建计算图\n",
    "sess = tf.Session()"
   ]
  },
  {
   "cell_type": "markdown",
   "metadata": {},
   "source": [
    "加载数据并划分数据，80%数据用来训练，20%的数据用来做测试"
   ]
  },
  {
   "cell_type": "code",
   "execution_count": 2,
   "metadata": {},
   "outputs": [],
   "source": [
    "#加载数据\n",
    "# iris数据 [(Sepal Length, Sepal Width, Petal Length, Petal Width)]\n",
    "iris = datasets.load_iris()\n",
    "x_vals = np.array([[x[0], x[3]] for x in iris.data])\n",
    "y_vals = np.array([1 if y==0 else -1 for y in iris.target])\n",
    "\n",
    "#加载数据\n",
    "train_indices = np.random.choice(len(x_vals), round(len(x_vals)*0.8), replace=False)\n",
    "test_indices = np.array(list(set(range(len(x_vals))) - set(train_indices)))\n",
    "x_vals_train = x_vals[train_indices]\n",
    "x_vals_test = x_vals[test_indices]\n",
    "y_vals_train = y_vals[train_indices]\n",
    "y_vals_test = y_vals[test_indices]"
   ]
  },
  {
   "cell_type": "code",
   "execution_count": 3,
   "metadata": {},
   "outputs": [
    {
     "name": "stdout",
     "output_type": "stream",
     "text": [
      "WARNING:tensorflow:From E:\\softinstall\\Anaconda3\\lib\\site-packages\\tensorflow\\python\\framework\\op_def_library.py:263: colocate_with (from tensorflow.python.framework.ops) is deprecated and will be removed in a future version.\n",
      "Instructions for updating:\n",
      "Colocations handled automatically by placer.\n"
     ]
    }
   ],
   "source": [
    "# 声明参数\n",
    "batch_size = 100 #批量大小\n",
    "max_iter=500     #最大迭代次数\n",
    "\n",
    "# 初始化占位符\n",
    "x_data = tf.placeholder(shape=[None, 2], dtype=tf.float32)\n",
    "y_target = tf.placeholder(shape=[None, 1], dtype=tf.float32)\n",
    "\n",
    "#创建变量\n",
    "A = tf.Variable(tf.random_normal(shape=[2,1]))\n",
    "b = tf.Variable(tf.random_normal(shape=[1,1]))\n",
    "\n",
    "\n",
    "#声明操作 模型\n",
    "model_output = tf.subtract(tf.matmul(x_data, A), b)\n",
    "\n",
    "# 声明L2正则化\n",
    "l2_norm = tf.reduce_sum(tf.square(A))\n"
   ]
  },
  {
   "cell_type": "markdown",
   "metadata": {},
   "source": [
    "#### 声明损失函数：\n",
    "$loss=\\max(0, 1-pred*actual) + alpha * L2_{norm}(A)^2$"
   ]
  },
  {
   "cell_type": "code",
   "execution_count": 4,
   "metadata": {},
   "outputs": [],
   "source": [
    "# 声明损失函数\n",
    "# = max(0, 1-pred*actual) + alpha * L2_norm(A)^2\n",
    "# L2 正则化参数 alpha\n",
    "alpha = tf.constant([0.01])\n",
    "# Margin term in loss\n",
    "classification_term = tf.reduce_mean(tf.maximum(0., tf.subtract(1., tf.multiply(model_output, y_target))))\n",
    "# 损失函数\n",
    "loss = tf.add(classification_term, tf.multiply(alpha, l2_norm))\n",
    "\n",
    "# 声明预测函数\n",
    "prediction = tf.sign(model_output)\n",
    "accuracy = tf.reduce_mean(tf.cast(tf.equal(prediction, y_target), tf.float32))\n",
    "\n",
    "# 声明优化器\n",
    "my_opt = tf.train.GradientDescentOptimizer(0.01)\n",
    "train_step = my_opt.minimize(loss)\n",
    "\n",
    "# 初始化变量\n",
    "init = tf.global_variables_initializer()\n",
    "sess.run(init)"
   ]
  },
  {
   "cell_type": "markdown",
   "metadata": {},
   "source": [
    "开始训练"
   ]
  },
  {
   "cell_type": "code",
   "execution_count": 5,
   "metadata": {},
   "outputs": [
    {
     "name": "stdout",
     "output_type": "stream",
     "text": [
      "Step #100 A = [[ 0.3256772]\n",
      " [-1.7128085]] b = [[0.4795376]]\n",
      "损失为 [0.2035206]\n",
      "Step #200 A = [[ 0.3378925]\n",
      " [-1.8955673]] b = [[0.43253773]]\n",
      "损失为 [0.17095703]\n",
      "Step #300 A = [[ 0.34991425]\n",
      " [-2.0236382 ]] b = [[0.39213777]]\n",
      "损失为 [0.13121474]\n",
      "Step #400 A = [[ 0.35296836]\n",
      " [-2.1092963 ]] b = [[0.3603377]]\n",
      "损失为 [0.13701048]\n",
      "Step #500 A = [[ 0.3548157]\n",
      " [-2.185194 ]] b = [[0.3308377]]\n",
      "损失为 [0.12115982]\n"
     ]
    }
   ],
   "source": [
    "# 开始训练\n",
    "loss_vec = []\n",
    "train_accuracy = []\n",
    "test_accuracy = []\n",
    "for i in range(max_iter):\n",
    "    rand_index = np.random.choice(len(x_vals_train), size=batch_size)\n",
    "    rand_x = x_vals_train[rand_index]\n",
    "    rand_y = np.transpose([y_vals_train[rand_index]])\n",
    "    sess.run(train_step, feed_dict={x_data: rand_x, y_target: rand_y})\n",
    "    \n",
    "    temp_loss = sess.run(loss, feed_dict={x_data: rand_x, y_target: rand_y})\n",
    "    loss_vec.append(temp_loss)\n",
    "    \n",
    "    train_acc_temp = sess.run(accuracy, feed_dict={x_data: x_vals_train, y_target: np.transpose([y_vals_train])})\n",
    "    train_accuracy.append(train_acc_temp)\n",
    "    \n",
    "    test_acc_temp = sess.run(accuracy, feed_dict={x_data: x_vals_test, y_target: np.transpose([y_vals_test])})\n",
    "    test_accuracy.append(test_acc_temp)\n",
    "    \n",
    "    if (i+1)%100==0:\n",
    "        print('Step #' + str(i+1) + ' A = ' + str(sess.run(A)) + ' b = ' + str(sess.run(b)))\n",
    "        print('损失为 ' + str(temp_loss))\n",
    "\n",
    "# 提取系数\n",
    "[[a1], [a2]] = sess.run(A)\n",
    "[[b]] = sess.run(b)\n",
    "slope = -a2/a1\n",
    "y_intercept = b/a1\n",
    "\n",
    "# 提取 x1 and x2 vals\n",
    "x1_vals = [d[1] for d in x_vals]\n",
    "\n",
    "# Get best fit line\n",
    "best_fit = []\n",
    "for i in x1_vals:\n",
    "  best_fit.append(slope*i+y_intercept)\n",
    "\n",
    "# 分离数据\n",
    "setosa_x = [d[1] for i,d in enumerate(x_vals) if y_vals[i]==1]\n",
    "setosa_y = [d[0] for i,d in enumerate(x_vals) if y_vals[i]==1]\n",
    "not_setosa_x = [d[1] for i,d in enumerate(x_vals) if y_vals[i]==-1]\n",
    "not_setosa_y = [d[0] for i,d in enumerate(x_vals) if y_vals[i]==-1]"
   ]
  },
  {
   "cell_type": "code",
   "execution_count": 6,
   "metadata": {},
   "outputs": [
    {
     "data": {
      "image/png": "[encoded data removed]",
      "text/plain": [
       "<Figure size 432x288 with 1 Axes>"
      ]
     },
     "metadata": {},
     "output_type": "display_data"
    },
    {
     "data": {
      "image/png": "[encoded data removed]",
      "text/plain": [
       "<Figure size 432x288 with 1 Axes>"
      ]
     },
     "metadata": {},
     "output_type": "display_data"
    },
    {
     "data": {
      "image/png": "[encoded data removed]",
      "text/plain": [
       "<Figure size 432x288 with 1 Axes>"
      ]
     },
     "metadata": {},
     "output_type": "display_data"
    }
   ],
   "source": [
    "# 分类效果展示\n",
    "plt.plot(setosa_x, setosa_y, 'o', label='I. setosa')\n",
    "plt.plot(not_setosa_x, not_setosa_y, 'x', label='Non-setosa')\n",
    "plt.plot(x1_vals, best_fit, 'r-', label='Linear Separator', linewidth=3)\n",
    "plt.ylim([0, 10])\n",
    "plt.legend(loc='lower right')\n",
    "plt.title('Sepal Length vs Pedal Width')\n",
    "plt.xlabel('Pedal Width')\n",
    "plt.ylabel('Sepal Length')\n",
    "plt.show()\n",
    "\n",
    "# 训练和测试精度展示\n",
    "plt.plot(train_accuracy, 'k-', label='Training Accuracy')\n",
    "plt.plot(test_accuracy, 'r--', label='Test Accuracy')\n",
    "plt.title('Train and Test Set Accuracies')\n",
    "plt.xlabel('Generation')\n",
    "plt.ylabel('Accuracy')\n",
    "plt.legend(loc='lower right')\n",
    "plt.show()\n",
    "\n",
    "# 损失与迭代次数的关系\n",
    "plt.plot(loss_vec, 'k-')\n",
    "plt.title('Loss per Generation')\n",
    "plt.xlabel('Generation')\n",
    "plt.ylabel('Loss')\n",
    "plt.show()"
   ]
  },
  {
   "cell_type": "markdown",
   "metadata": {},
   "source": [
    "**上述案例均已通过**\n",
    "\n",
    "----\n",
    "参考资料：  \n",
    "《统计学习方法》  \n",
    "《Tensorflow-machine-learning-cookbook》  \n",
    "\n",
    "整理制作：深度学习学研社\n",
    "\n",
    "<div>\n",
    "<table align=\"left\" border=\"1\" bordercolor=\"#000000\">\n",
    "    <div>\n",
    "    <tr>\n",
    "        <td>\n",
    "            微信公众号：ID: AI_class_vip<br>\n",
    "            <img src=\"../image/gongzhonghao.jpg\" width=\"150\" height=\"150\" align=\"left\"/>    \n",
    "        </td>\n",
    "    </tr>\n",
    "    </div>\n",
    "    <div>\n",
    "    <tr>\n",
    "        <td>\n",
    "        知识星球：机器学习交流学习圈：<br>\n",
    "    <img src=\"../image/dlzhishixingqiu.jpg\" width=\"150\" height=\"150\" align=\"left\"/>  \n",
    "        </td>\n",
    "    </tr>\n",
    "        </div>\n",
    "    <div>\n",
    "     <tr>\n",
    "        <td>\n",
    "        配置环境：python 3.4+  \n",
    "        </td>\n",
    "    </tr>\n",
    "        </div>\n",
    "</table>\n",
    "</div>\n"
   ]
  },
  {
   "cell_type": "code",
   "execution_count": null,
   "metadata": {},
   "outputs": [],
   "source": []
  }
 ],
 "metadata": {
  "kernelspec": {
   "display_name": "Python 3",
   "language": "python",
   "name": "python3"
  },
  "language_info": {
   "codemirror_mode": {
    "name": "ipython",
    "version": 3
   },
   "file_extension": ".py",
   "mimetype": "text/x-python",
   "name": "python",
   "nbconvert_exporter": "python",
   "pygments_lexer": "ipython3",
   "version": "3.6.5"
  }
 },
 "nbformat": 4,
 "nbformat_minor": 2
}
