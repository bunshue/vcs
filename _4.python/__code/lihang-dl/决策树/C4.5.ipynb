{
 "cells": [
  {
   "cell_type": "markdown",
   "metadata": {},
   "source": [
    "**C4.5算法**\n",
    "\n",
    "C4.5算法是基于ID3算法的改进，C4.5在生成的过程中使用信息增益比来选择特征。\n",
    "\n",
    "输入:训练数据集$D$，特征集$A$阈值$\\varepsilon$;  \n",
    "输出:决策树$T$.\n",
    "\n",
    "第一步：若$D$中所有实例属于同一类$C_k$,则置$T$为单结点树，并将类$C_k$作为该节点的类标记，返回$T$；\n",
    "\n",
    "第二步：若$A=\\emptyset$,则$T$为单节点树，并将$D$中实例数最大的类$C_k$作为该结点的类标记，返回$T$； \n",
    "\n",
    "第三步：否则，按信息增益算比式子计算$A$中各特征对$D$的信息增益比，选择信息增益比最大的特征$A_g$； \n",
    "\n",
    "第四步：如果$A_g$的信息增益比小于阈值$\\varepsilon$，则置$T$为单结树，并将$D$中实例数最大的类$C_k$作为该结点的类标记，返回$T$；  \n",
    "\n",
    "第五步：否则，对$A_g$的每一个可能值$a_i$,依$A_g=a_i$将$D$分割为若干非空子集$D_i$,将$D_i$中实例数最大的类作为标记，构建子结点，由结点及其子结点构成树$T$,返回$T$；\n",
    "\n",
    "第六步：对第$i$个子结点，以$D_i$为训练集，以$A-\\{A_g\\}$为特征集，递归地调用步骤一至五，得到子树$T_i$,返回$T_i$。\n",
    "\n",
    "\n",
    "**书中例5.3  利用C4.5算法生成决策树 python代码 **"
   ]
  },
  {
   "cell_type": "code",
   "execution_count": 1,
   "metadata": {},
   "outputs": [],
   "source": [
    "# C4.5算法\n",
    "def recurse_train_C45(train_set,train_label,features):\n",
    "    \n",
    "    LEAF = 'leaf'\n",
    "    INTERNAL = 'internal'\n",
    "\n",
    "    # 步骤1—如果训练集train_set中的所有实例都属于同一类Ck\n",
    "    label_set = set(train_label)\n",
    "    if len(label_set) == 1:\n",
    "        return Tree(LEAF,Class = label_set.pop())\n",
    "\n",
    "    # 步骤2—如果特征集features为空\n",
    "    class_len = [(i,len(list(filter(lambda x:x==i,train_label)))) for i in range(class_num)] # 计算每一个类出现的个数\n",
    "    (max_class,max_len) = max(class_len,key = lambda x:x[1])\n",
    "    \n",
    "    if len(features) == 0:\n",
    "        return Tree(LEAF,Class = max_class)\n",
    "\n",
    "    # 步骤3—计算信息增益,并选择信息增益最大的特征\n",
    "    max_feature = 0\n",
    "    max_gda = 0\n",
    "    D = train_label\n",
    "    for feature in features:\n",
    "        # print(type(train_set))\n",
    "        A = np.array(train_set[:,feature].flat) # 选择训练集中的第feature列（即第feature个特征）\n",
    "        gda = calc_ent_grap(A,D)\n",
    "        if calc_ent(A) != 0:  # 计算信息增益比，这是与ID3算法唯一的不同\n",
    "            gda /= calc_ent(A)\n",
    "        if gda > max_gda:\n",
    "            max_gda,max_feature = gda,feature\n",
    "\n",
    "    # 步骤4—信息增益小于阈值\n",
    "    if max_gda < epsilon:\n",
    "        return Tree(LEAF,Class = max_class)\n",
    "\n",
    "    # 步骤5—构建非空子集\n",
    "    sub_features = list(filter(lambda x:x!=max_feature,features))\n",
    "    tree = Tree(INTERNAL,feature=max_feature)\n",
    "\n",
    "    max_feature_col = np.array(train_set[:,max_feature].flat)\n",
    "     # 保存信息增益最大的特征可能的取值 (shape[0]表示计算行数)\n",
    "    feature_value_list = set([max_feature_col[i] for i in range(max_feature_col.shape[0])])\n",
    "    for feature_value in feature_value_list:\n",
    "\n",
    "        index = []\n",
    "        for i in range(len(train_label)):\n",
    "            if train_set[i][max_feature] == feature_value:\n",
    "                index.append(i)\n",
    "\n",
    "        sub_train_set = train_set[index]\n",
    "        sub_train_label = train_label[index]\n",
    "\n",
    "        sub_tree = recurse_train_C45(sub_train_set,sub_train_label,sub_features)\n",
    "        tree.add_tree(feature_value,sub_tree)\n",
    "\n",
    "    return tree"
   ]
  },
  {
   "cell_type": "markdown",
   "metadata": {},
   "source": [
    "#### 定义经验熵、条件熵、信息增益等"
   ]
  },
  {
   "cell_type": "code",
   "execution_count": 2,
   "metadata": {},
   "outputs": [],
   "source": [
    "# 计算数据集x的经验熵H(x)\n",
    "def calc_ent(x):\n",
    "    x_value_list = set([x[i] for i in range(x.shape[0])])\n",
    "    ent = 0.0\n",
    "    for x_value in x_value_list:\n",
    "        p = float(x[x == x_value].shape[0]) / x.shape[0]\n",
    "        logp = np.log2(p)\n",
    "        ent -= p * logp\n",
    "\n",
    "    return ent\n",
    "\n",
    "# 计算条件熵H(y/x)\n",
    "def calc_condition_ent(x, y):\n",
    "    x_value_list = set([x[i] for i in range(x.shape[0])])\n",
    "    ent = 0.0\n",
    "    for x_value in x_value_list:\n",
    "        sub_y = y[x == x_value]\n",
    "        temp_ent = calc_ent(sub_y)\n",
    "        ent += (float(sub_y.shape[0]) / y.shape[0]) * temp_ent\n",
    "\n",
    "    return ent\n",
    "\n",
    "# 计算信息增益\n",
    "def calc_ent_grap(x,y):\n",
    "    base_ent = calc_ent(y)\n",
    "    condition_ent = calc_condition_ent(x, y)\n",
    "    ent_grap = base_ent - condition_ent\n",
    "\n",
    "    return ent_grap"
   ]
  },
  {
   "cell_type": "markdown",
   "metadata": {},
   "source": [
    "#### 定义树结构"
   ]
  },
  {
   "cell_type": "code",
   "execution_count": 3,
   "metadata": {},
   "outputs": [],
   "source": [
    "class Tree(object):\n",
    "    def __init__(self,node_type,Class = None, feature = None):\n",
    "        self.node_type = node_type  # 节点类型（internal或leaf）\n",
    "        self.dict = {} # dict的键表示特征Ag的可能值ai，值表示根据ai得到的子树 \n",
    "        self.Class = Class  # 叶节点表示的类，若是内部节点则为none\n",
    "        self.feature = feature # 表示当前的树即将由第feature个特征划分（即第feature特征是使得当前树中信息增益最大的特征）\n",
    "\n",
    "    def add_tree(self,key,tree):\n",
    "        self.dict[key] = tree\n",
    "\n",
    "    def predict(self,features): \n",
    "        if self.node_type == 'leaf' or (features[self.feature] not in self.dict):\n",
    "            return self.Class\n",
    "\n",
    "        tree = self.dict.get(features[self.feature])\n",
    "        return tree.predict(features)"
   ]
  },
  {
   "cell_type": "markdown",
   "metadata": {},
   "source": [
    "#### 图像处理需要用到二值化"
   ]
  },
  {
   "cell_type": "code",
   "execution_count": 4,
   "metadata": {},
   "outputs": [],
   "source": [
    "# 二值化\n",
    "def binaryzation(img):\n",
    "    cv_img = img.astype(np.uint8)\n",
    "    cv2.threshold(cv_img,50,1,cv2.THRESH_BINARY_INV,cv_img)\n",
    "    return cv_img\n",
    "\n",
    "def binaryzation_features(trainset):\n",
    "    features = []\n",
    "\n",
    "    for img in trainset:\n",
    "        img = np.reshape(img,(28,28))\n",
    "        cv_img = img.astype(np.uint8)\n",
    "\n",
    "        img_b = binaryzation(cv_img)\n",
    "        # hog_feature = np.transpose(hog_feature)\n",
    "        features.append(img_b)\n",
    "\n",
    "    features = np.array(features)\n",
    "    features = np.reshape(features,(-1,feature_len))\n",
    "\n",
    "    return features"
   ]
  },
  {
   "cell_type": "code",
   "execution_count": 5,
   "metadata": {},
   "outputs": [],
   "source": [
    "def train(train_set,train_label,features):\n",
    "    return recurse_train_C45(train_set,train_label,features)\n",
    "\n",
    "def predict(test_set,tree):\n",
    "    result = []\n",
    "    for features in test_set:\n",
    "        tmp_predict = tree.predict(features)\n",
    "        result.append(tmp_predict)\n",
    "    return np.array(result)"
   ]
  },
  {
   "cell_type": "markdown",
   "metadata": {},
   "source": [
    "## 训练测试"
   ]
  },
  {
   "cell_type": "code",
   "execution_count": 6,
   "metadata": {},
   "outputs": [
    {
     "name": "stderr",
     "output_type": "stream",
     "text": [
      "E:\\softinstall\\Anaconda3\\lib\\site-packages\\sklearn\\cross_validation.py:41: DeprecationWarning: This module was deprecated in version 0.18 in favor of the model_selection module into which all the refactored classes and functions are moved. Also note that the interface of the new CV iterators are different from that of this module. This module will be removed in 0.20.\n",
      "  \"This module will be removed in 0.20.\", DeprecationWarning)\n"
     ]
    }
   ],
   "source": [
    "import cv2\n",
    "import time\n",
    "import numpy as np\n",
    "import pandas as pd\n",
    "\n",
    "from sklearn.cross_validation import train_test_split\n",
    "from sklearn.metrics import accuracy_score"
   ]
  },
  {
   "cell_type": "code",
   "execution_count": 7,
   "metadata": {},
   "outputs": [
    {
     "name": "stdout",
     "output_type": "stream",
     "text": [
      "读取数据\n",
      "开始训练\n",
      "训练花费时间： 1861.676888 seconds\n",
      "开始预测\n",
      "预测花费时间 0.972255 seconds\n",
      "精度为： 0.842424\n"
     ]
    }
   ],
   "source": [
    "class_num = 10 \n",
    "feature_len = 784 \n",
    "epsilon = 0.001  # 设定阈值\n",
    "\n",
    "print(\"读取数据\")\n",
    "\n",
    "\n",
    "raw_data = pd.read_csv('../data/train.csv', header=0)  # 读取csv数据\n",
    "data = raw_data.values\n",
    "    \n",
    "imgs = data[::, 1::]\n",
    "features = binaryzation_features(imgs) # 图片二值化(很重要，不然预测准确率很低)\n",
    "labels = data[::, 0]\n",
    "\n",
    "# 避免过拟合，采用交叉验证，随机选取33%数据作为测试集，剩余为训练集\n",
    "train_features, test_features, train_labels, test_labels = train_test_split(features, labels, test_size=0.33, random_state=0)\n",
    "\n",
    "\n",
    "# 通过C4.5算法生成决策树\n",
    "print('开始训练')\n",
    "time1 = time.time()\n",
    "tree = train(train_features,train_labels,list(range(feature_len)))\n",
    "time2 = time.time()\n",
    "print('训练花费时间： %f seconds' % (time2 - time1))\n",
    "\n",
    "print('开始预测')\n",
    "test_predict = predict(test_features,tree)\n",
    "time3 = time.time()\n",
    "print('预测花费时间 %f seconds' % (time3 - time2))\n",
    "    \n",
    "# 预测精度\n",
    "for i in range(len(test_predict)):\n",
    "    if test_predict[i] == None:\n",
    "        test_predict[i] = epsilon\n",
    "score = accuracy_score(test_labels, test_predict)\n",
    "print(\"精度为： %f\" % score)"
   ]
  },
  {
   "cell_type": "markdown",
   "metadata": {},
   "source": [
    "**上述案例均已通过**\n",
    "\n",
    "----\n",
    "参考代码：https://github.com/fuqiuai/lihang_algorithms\n",
    "\n",
    "整理制作：深度学习学研社\n",
    "\n",
    "<div>\n",
    "<table align=\"left\" border=\"1\" bordercolor=\"#000000\">\n",
    "    <div>\n",
    "    <tr>\n",
    "        <td>\n",
    "            微信公众号：ID: AI_class_vip<br>\n",
    "            <img src=\"../image/gongzhonghao.jpg\" width=\"150\" height=\"150\" align=\"left\"/>    \n",
    "        </td>\n",
    "    </tr>\n",
    "    </div>\n",
    "    <div>\n",
    "    <tr>\n",
    "        <td>\n",
    "        知识星球：机器学习交流学习圈：<br>\n",
    "    <img src=\"../image/dlzhishixingqiu.jpg\" width=\"150\" height=\"150\" align=\"left\"/>  \n",
    "        </td>\n",
    "    </tr>\n",
    "        </div>\n",
    "    <div>\n",
    "     <tr>\n",
    "        <td>\n",
    "        配置环境：python 3.4+  \n",
    "        </td>\n",
    "    </tr>\n",
    "        </div>\n",
    "</table>\n",
    "</div>\n"
   ]
  }
 ],
 "metadata": {
  "kernelspec": {
   "display_name": "Python 3",
   "language": "python",
   "name": "python3"
  },
  "language_info": {
   "codemirror_mode": {
    "name": "ipython",
    "version": 3
   },
   "file_extension": ".py",
   "mimetype": "text/x-python",
   "name": "python",
   "nbconvert_exporter": "python",
   "pygments_lexer": "ipython3",
   "version": "3.6.5"
  }
 },
 "nbformat": 4,
 "nbformat_minor": 2
}
