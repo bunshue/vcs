{
 "cells": [
  {
   "cell_type": "markdown",
   "metadata": {},
   "source": [
    "##  k近邻算法的实现: kd树\n",
    "\n",
    "$kd$树是一种对$k$维空间中的实例点进行存储以便对其进行快速检索的树形数据结构。\n",
    "\n",
    "$kd$树构造方法：\n",
    "\n",
    "1. 构造根结点\n",
    "\n",
    "    使根结点对应于$k$维空间中包含所有实例点的超矩形区域；\n",
    "\n",
    "2. 递归生成子结点\n",
    "\n",
    "   通过递归方法，不断地对$k$维空间进行切分，生成子结点。在超矩形区域(结点)上选择一个坐标轴和在此坐标轴上的一个切分点，确定一个超平面，这个超平面通过选定的切分点并垂直于选定的坐标轴，将当前超矩形区域切分为左右两个子区域(子结点)；此时，实例被分配到两个子区域中。该过程中指条件为子区域内没有实例时终止（即终止时的结点为叶节点）。\n"
   ]
  },
  {
   "cell_type": "markdown",
   "metadata": {},
   "source": [
    "### 构造平衡kd树算法原理"
   ]
  },
  {
   "cell_type": "markdown",
   "metadata": {},
   "source": [
    "输入：\n",
    "\n",
    "$k$维空间数据集$T=\\{x_1,x_2,...,x_N\\}$，其中$x_i=\\left(x_{i}^{(1)},x_{i}^{(2)},x_{i}^{(k)}\\right)^{\\mathrm{T}}, i=1,2,...,N$;\n",
    "\n",
    "输出：$kd$树。\n",
    "\n",
    "一、开始：构造根结点，根结点对应于包含$T$的$k$维空间的超矩形区域。\n",
    "   \n",
    "   选择$x^{(1)}$为坐标轴，以$T$中所有实例的$x^{(1)}$坐标的中位数为切分点，将根结点对应的超矩形区域切分为两个子区域。切分由通过切分点并与坐标轴$x^{(1)}$垂直的超平面实现。\n",
    "   \n",
    "   由根结点生成深度为1的左、右子结点：左子结点对应坐标$x^{(1)}$小于切分点的子区域， 右子结点对应于坐标$x^{(1)}$大于切分点的子区域。将落在切分超平面上的实例点保存在根结点。\n",
    "   \n",
    "\n",
    " 二、 重复：对深度为$j$的结点，选择$x^{(1)}$为切分的坐标轴，$l＝j(modk)+1$，以该结点的区域中所有实例的$x^{(1)}$坐标的中位数为切分点，将该结点对应的超矩形区域切分为两个子区域。切分由通过切分点并与坐标轴$x^{(1)}$垂直的超平面实现。\n",
    "\n",
    "   由该结点生成深度为$j+1$的左、右子结点：左子结点对应坐标$x^{(1)}$小于切分点的子区域，右子结点对应坐标$x^{(1)}$大于切分点的子区域。将落在切分超平面上的实例点保存在该结点。\n",
    "\n",
    "\n",
    "三、直到两个子区域没有实例存在时停止。从而形成**kd**树的区域划分。"
   ]
  },
  {
   "cell_type": "markdown",
   "metadata": {},
   "source": [
    "## kd树代码实现\n",
    "\n",
    "\n",
    "定义kd树，设计kd树的数据结构"
   ]
  },
  {
   "cell_type": "code",
   "execution_count": 1,
   "metadata": {
    "collapsed": true
   },
   "outputs": [],
   "source": [
    "#构建结点对象\n",
    "class KdNode(object):\n",
    "    def __init__(self, dom_elt, dim=0, left=None, right=None):\n",
    "        self.dom_elt = dom_elt  # k维向量节点(k维空间中的一个样本点)\n",
    "        self.dim = dim  # 整数（进行分割维度的序号）\n",
    "        self.left = left  # 该结点分割超平面左子空间构成的kd-tree\n",
    "        self.right = right  # 该结点分割超平面右子空间构成的kd-tree"
   ]
  },
  {
   "cell_type": "code",
   "execution_count": 2,
   "metadata": {
    "collapsed": true
   },
   "outputs": [],
   "source": [
    "class KdTree(object):\n",
    "    def __init__(self, data):\n",
    "        k = len(data[0])  # 数据维度\n",
    "\n",
    "        # 按第dim维划分数据集exset创建KdNode\n",
    "        def _CreateNode(dim, data_set):\n",
    "            if not data_set:  # 数据集为空\n",
    "                return None\n",
    "            \n",
    "            # 按要进行分割的那一维数据排序\n",
    "            data_set.sort(key=lambda x: x[dim])\n",
    "            split_pos = len(data_set) // 2  \n",
    "            median = data_set[split_pos]  # 中位数分割点\n",
    "            split_next = (dim + 1) % k  # cycle coordinates\n",
    "\n",
    "            # 递归的创建kd树\n",
    "            return KdNode(\n",
    "                median,\n",
    "                dim,\n",
    "                _CreateNode(split_next, data_set[:split_pos]),  # 创建左子树\n",
    "                _CreateNode(split_next, data_set[split_pos + 1:]))  # 创建右子树\n",
    "\n",
    "        self.root = _CreateNode(0, data)  # 从第0维分量开始构建kd树,返回根节点\n",
    "\n",
    "\n",
    "# kdTree的前序遍历\n",
    "def preorder(root):\n",
    "    print(root.dom_elt)\n",
    "    if root.left:  # 节点不为空\n",
    "        preorder(root.left)\n",
    "    if root.right:\n",
    "        preorder(root.right)"
   ]
  },
  {
   "cell_type": "code",
   "execution_count": 3,
   "metadata": {},
   "outputs": [
    {
     "name": "stdout",
     "output_type": "stream",
     "text": [
      "[7, 2]\n",
      "[5, 4]\n",
      "[2, 3]\n",
      "[4, 7]\n",
      "[9, 6]\n",
      "[8, 1]\n"
     ]
    }
   ],
   "source": [
    "data = [[2,3],[5,4],[9,6],[4,7],[8,1],[7,2]]\n",
    "kd = KdTree(data)\n",
    "preorder(kd.root)"
   ]
  },
  {
   "cell_type": "code",
   "execution_count": 4,
   "metadata": {},
   "outputs": [
    {
     "name": "stdout",
     "output_type": "stream",
     "text": [
      "((7, 2),\n",
      " ((5, 4), ((2, 3), None, None), ((4, 7), None, None)),\n",
      " ((9, 6), ((8, 1), None, None), None))\n"
     ]
    }
   ],
   "source": [
    "from collections import namedtuple\n",
    "from operator import itemgetter\n",
    "from pprint import pformat\n",
    "\n",
    "class Node(namedtuple('Node', 'location left_child right_child')):\n",
    "    def __repr__(self):\n",
    "        return pformat(tuple(self))\n",
    "\n",
    "def kdtree(point_list, depth=0):\n",
    "    if not point_list:\n",
    "        return None\n",
    "\n",
    "    k = len(point_list[0]) # 假定所有点的尺寸相同\n",
    "    # 根据深度选择轴\n",
    "    axis = depth % k\n",
    " \n",
    "    # 根据轴对点的列表进行排序，并选择中间值作为轴元素\n",
    "    point_list.sort(key=itemgetter(axis))\n",
    "    median = len(point_list) // 2\n",
    " \n",
    "    # 创建结点并构建子树\n",
    "    return Node(\n",
    "        location=point_list[median],\n",
    "        left_child=kdtree(point_list[:median], depth + 1),\n",
    "        right_child=kdtree(point_list[median + 1:], depth + 1)\n",
    "    )\n",
    "\n",
    "def main():\n",
    "    \"\"\"构建kd树-案例\"\"\"\n",
    "    point_list = [(7,2), (5,4), (9,6), (4,7), (8,1), (2,3)]\n",
    "    tree = kdtree(point_list)\n",
    "    print(tree)\n",
    "\n",
    "if __name__ == '__main__':\n",
    "    main()"
   ]
  },
  {
   "cell_type": "markdown",
   "metadata": {},
   "source": [
    "### scikit-learn中的 k-d-tree案例\n",
    "\n",
    "scikit-learn是一个机器学习类库，里面实现了KDTree。\n",
    "\n",
    "下面例子，构建一个二维空间的kd树，然后对其作k近邻搜索以及指定半径的搜索。"
   ]
  },
  {
   "cell_type": "code",
   "execution_count": 5,
   "metadata": {},
   "outputs": [
    {
     "data": {
      "image/png": "[encoded data removed]",
      "text/plain": [
       "<matplotlib.figure.Figure at 0x4b55898>"
      ]
     },
     "metadata": {},
     "output_type": "display_data"
    }
   ],
   "source": [
    "import numpy as np\n",
    "from matplotlib import pyplot as plt\n",
    "from matplotlib.patches import Circle\n",
    "from sklearn.neighbors import KDTree\n",
    "np.random.seed(0)\n",
    "# 随机产生150个二维数据\n",
    "points = np.random.random((150, 2))\n",
    "tree = KDTree(points)\n",
    "point = points[0]\n",
    "# k近邻发搜索\n",
    "dists, indices = tree.query([point], k=4)\n",
    "\n",
    "# q指定半径搜索\n",
    "indices = tree.query_radius([point], r=0.2)\n",
    "\n",
    "fig = plt.figure()\n",
    "ax = fig.add_subplot(111, aspect='equal')\n",
    "ax.add_patch(Circle(point, 0.2, color='g', fill=False))\n",
    "X, Y = [p[0] for p in points], [p[1] for p in points]\n",
    "plt.scatter(X, Y)\n",
    "plt.scatter([point[0]], [point[1]], c='r')\n",
    "plt.show()"
   ]
  },
  {
   "cell_type": "markdown",
   "metadata": {
    "collapsed": true
   },
   "source": [
    "**上述案例均已通过**\n",
    "\n",
    "----\n",
    "参考代码：https://github.com/wzyonggege/statistical-learning-method\n",
    "\n",
    "整理制作：深度学习学研社\n",
    "\n",
    "<div>\n",
    "<table align=\"left\" border=\"1\" bordercolor=\"#000000\">\n",
    "    <div>\n",
    "    <tr>\n",
    "        <td>\n",
    "            微信公众号：ID: AI_class_vip<br>\n",
    "            <img src=\"../image/gongzhonghao.jpg\" width=\"150\" height=\"150\" align=\"left\"/>    \n",
    "        </td>\n",
    "    </tr>\n",
    "    </div>\n",
    "    <div>\n",
    "    <tr>\n",
    "        <td>\n",
    "        知识星球：机器学习交流学习圈：<br>\n",
    "    <img src=\"../image/dlzhishixingqiu.jpg\" width=\"150\" height=\"150\" align=\"left\"/>  \n",
    "        </td>\n",
    "    </tr>\n",
    "        </div>\n",
    "    <div>\n",
    "     <tr>\n",
    "        <td>\n",
    "        配置环境：python 3.4+  \n",
    "        </td>\n",
    "    </tr>\n",
    "        </div>\n",
    "</table>\n",
    "</div>\n"
   ]
  }
 ],
 "metadata": {
  "anaconda-cloud": {},
  "kernelspec": {
   "display_name": "Python 3",
   "language": "python",
   "name": "python3"
  },
  "language_info": {
   "codemirror_mode": {
    "name": "ipython",
    "version": 3
   },
   "file_extension": ".py",
   "mimetype": "text/x-python",
   "name": "python",
   "nbconvert_exporter": "python",
   "pygments_lexer": "ipython3",
   "version": "3.6.5"
  }
 },
 "nbformat": 4,
 "nbformat_minor": 2
}
