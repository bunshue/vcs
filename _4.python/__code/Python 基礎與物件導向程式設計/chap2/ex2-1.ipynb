{
 "cells": [
  {
   "cell_type": "code",
   "execution_count": 1,
   "id": "6dfc35bd",
   "metadata": {},
   "outputs": [
    {
     "name": "stdout",
     "output_type": "stream",
     "text": [
      "a的資料型態： <class 'int'>\n",
      "b的資料型態： <class 'float'>\n",
      "c的資料型態： <class 'complex'>\n",
      "c是否為複數？ True\n"
     ]
    }
   ],
   "source": [
    "a = 5\n",
    "print(\"a的資料型態：\", type(a))\n",
    "\n",
    "b = 40.5\n",
    "print(\"b的資料型態：\", type(b))\n",
    "\n",
    "c = 1+3j\n",
    "print(\"c的資料型態：\", type(c))\n",
    "print(\"c是否為複數？\", isinstance(1+3j,complex))"
   ]
  },
  {
   "cell_type": "code",
   "execution_count": null,
   "id": "e2b6600e",
   "metadata": {},
   "outputs": [],
   "source": []
  }
 ],
 "metadata": {
  "kernelspec": {
   "display_name": "Python 3",
   "language": "python",
   "name": "python3"
  },
  "language_info": {
   "codemirror_mode": {
    "name": "ipython",
    "version": 3
   },
   "file_extension": ".py",
   "mimetype": "text/x-python",
   "name": "python",
   "nbconvert_exporter": "python",
   "pygments_lexer": "ipython3",
   "version": "3.8.8"
  }
 },
 "nbformat": 4,
 "nbformat_minor": 5
}
