{
 "cells": [
  {
   "cell_type": "code",
   "execution_count": 1,
   "id": "1367dfd5",
   "metadata": {},
   "outputs": [
    {
     "name": "stdout",
     "output_type": "stream",
     "text": [
      "set1的資料型態： <class 'set'>\n",
      "{3, 'Python', 2, 'James'}\n",
      "{'Python', 3, 2, 'James', 10}\n",
      "{'Python', 3, 2, 'James', 10}\n",
      "{'Python', 3, 'James', 10}\n"
     ]
    }
   ],
   "source": [
    "set1 = set()     # 建立一個空集合\n",
    "set2 = {'James', 2, 3,'Python'}\n",
    "print(\"set1的資料型態：\", type(set1)) \n",
    "\n",
    "print(set2)      # 印出set2的內容\n",
    "set2.add(10)     # set2加入元素10\n",
    "print(set2)      # 再印出set2的內容(為什麼10不在尾端)\n",
    "set2.add(2)      # set2加入元素2\n",
    "print(set2)      # 再印出set2的內容(為什麼2無法加入?)\n",
    " \n",
    "set2.remove(2)   # set2移除指定元素2\n",
    "print(set2)      # 再印出set2的內容"
   ]
  },
  {
   "cell_type": "code",
   "execution_count": null,
   "id": "c6ba96e1",
   "metadata": {},
   "outputs": [],
   "source": []
  }
 ],
 "metadata": {
  "kernelspec": {
   "display_name": "Python 3",
   "language": "python",
   "name": "python3"
  },
  "language_info": {
   "codemirror_mode": {
    "name": "ipython",
    "version": 3
   },
   "file_extension": ".py",
   "mimetype": "text/x-python",
   "name": "python",
   "nbconvert_exporter": "python",
   "pygments_lexer": "ipython3",
   "version": "3.8.8"
  }
 },
 "nbformat": 4,
 "nbformat_minor": 5
}
