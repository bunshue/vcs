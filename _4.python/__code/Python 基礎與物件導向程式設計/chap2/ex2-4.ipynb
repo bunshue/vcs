{
 "cells": [
  {
   "cell_type": "code",
   "execution_count": 1,
   "id": "33ea393d",
   "metadata": {},
   "outputs": [
    {
     "name": "stdout",
     "output_type": "stream",
     "text": [
      "tup1的資料型態： <class 'tuple'>\n",
      "('hi', 'Python', 2)\n",
      "('Python', 2)\n",
      "('hi',)\n",
      "('hi', 'Python', 2, 'hi', 'Python', 2)\n",
      "('hi', 'Python', 2, 'hi', 'Python', 2, 'hi', 'Python', 2)\n"
     ]
    },
    {
     "ename": "TypeError",
     "evalue": "'tuple' object does not support item assignment",
     "output_type": "error",
     "traceback": [
      "\u001b[0;31m---------------------------------------------------------------------------\u001b[0m",
      "\u001b[0;31mTypeError\u001b[0m                                 Traceback (most recent call last)",
      "\u001b[0;32m<ipython-input-1-0d2a541e0cb1>\u001b[0m in \u001b[0;36m<module>\u001b[0;34m\u001b[0m\n\u001b[1;32m     10\u001b[0m \u001b[0mprint\u001b[0m\u001b[0;34m(\u001b[0m\u001b[0mtup1\u001b[0m \u001b[0;34m*\u001b[0m \u001b[0;36m3\u001b[0m\u001b[0;34m)\u001b[0m         \u001b[0;31m# 值組內容印三次!\u001b[0m\u001b[0;34m\u001b[0m\u001b[0;34m\u001b[0m\u001b[0m\n\u001b[1;32m     11\u001b[0m \u001b[0;31m# 設定tup1特定位置的內容值，這會造成錯誤！！\u001b[0m\u001b[0;34m\u001b[0m\u001b[0;34m\u001b[0m\u001b[0;34m\u001b[0m\u001b[0m\n\u001b[0;32m---> 12\u001b[0;31m \u001b[0mtup1\u001b[0m\u001b[0;34m[\u001b[0m\u001b[0;36m2\u001b[0m\u001b[0;34m]\u001b[0m \u001b[0;34m=\u001b[0m \u001b[0;34m\"hi\"\u001b[0m\u001b[0;34m\u001b[0m\u001b[0;34m\u001b[0m\u001b[0m\n\u001b[0m",
      "\u001b[0;31mTypeError\u001b[0m: 'tuple' object does not support item assignment"
     ]
    }
   ],
   "source": [
    "tup1 = (\"hi\", \"Python\", 2)    \n",
    "print(\"tup1的資料型態：\", type(tup1))    \n",
    "      \n",
    "print(tup1)    # 印出tup1的內容\n",
    "# 使用值組索引切分取出子值組： [起點:終點(不計入)]，終點不寫？那就是算到最後\n",
    "print(tup1[1:])   \n",
    "# 使用值組索引切分取出子值組： [起點:終點(不計入)]\n",
    "print(tup1[0:1])      \n",
    "print(tup1 + tup1)      # 值組加法？就是值組合併      \n",
    "print(tup1 * 3)         # 值組內容印三次!     \n",
    "# 設定tup1特定位置的內容值，這會造成錯誤！！  \n",
    "tup1[2] = \"hi\""
   ]
  },
  {
   "cell_type": "code",
   "execution_count": null,
   "id": "f868b279",
   "metadata": {},
   "outputs": [],
   "source": []
  }
 ],
 "metadata": {
  "kernelspec": {
   "display_name": "Python 3",
   "language": "python",
   "name": "python3"
  },
  "language_info": {
   "codemirror_mode": {
    "name": "ipython",
    "version": 3
   },
   "file_extension": ".py",
   "mimetype": "text/x-python",
   "name": "python",
   "nbconvert_exporter": "python",
   "pygments_lexer": "ipython3",
   "version": "3.8.8"
  }
 },
 "nbformat": 4,
 "nbformat_minor": 5
}
