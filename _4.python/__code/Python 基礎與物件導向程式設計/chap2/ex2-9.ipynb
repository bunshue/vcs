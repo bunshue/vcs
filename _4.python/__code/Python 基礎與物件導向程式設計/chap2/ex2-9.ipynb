{
 "cells": [
  {
   "cell_type": "code",
   "execution_count": 1,
   "id": "14372112",
   "metadata": {},
   "outputs": [
    {
     "name": "stdout",
     "output_type": "stream",
     "text": [
      "True\n",
      "False\n",
      "False\n",
      "a大於b\n"
     ]
    }
   ],
   "source": [
    "print(10 > 9)     # 天經地義\n",
    "print(10 == 9)    # 怎麼可能\n",
    "print(10 < 9)     # 亂來！\n",
    "\n",
    "a = 200\n",
    "b = 33\n",
    "\n",
    "if b > a:         # 條件分支敘述\n",
    "    print(\"b大於a\")\n",
    "else:\n",
    "    print(\"a大於b\") "
   ]
  },
  {
   "cell_type": "code",
   "execution_count": null,
   "id": "a6fcf4c7",
   "metadata": {},
   "outputs": [],
   "source": []
  }
 ],
 "metadata": {
  "kernelspec": {
   "display_name": "Python 3",
   "language": "python",
   "name": "python3"
  },
  "language_info": {
   "codemirror_mode": {
    "name": "ipython",
    "version": 3
   },
   "file_extension": ".py",
   "mimetype": "text/x-python",
   "name": "python",
   "nbconvert_exporter": "python",
   "pygments_lexer": "ipython3",
   "version": "3.8.8"
  }
 },
 "nbformat": 4,
 "nbformat_minor": 5
}
