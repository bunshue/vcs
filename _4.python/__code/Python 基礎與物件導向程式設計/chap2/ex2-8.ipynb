{
 "cells": [
  {
   "cell_type": "code",
   "execution_count": 1,
   "id": "8a114cd7",
   "metadata": {},
   "outputs": [
    {
     "name": "stdout",
     "output_type": "stream",
     "text": [
      "dic1的資料型態： <class 'dict'>\n",
      "{1: 'Jimmy', 2: 'Alex', '3': 'john', 4: 'mike'}\n",
      "鍵值1對應的資料值：Jimmy\n",
      "鍵值4對應的資料值：mike\n"
     ]
    },
    {
     "ename": "KeyError",
     "evalue": "3",
     "output_type": "error",
     "traceback": [
      "\u001b[0;31m---------------------------------------------------------------------------\u001b[0m",
      "\u001b[0;31mKeyError\u001b[0m                                  Traceback (most recent call last)",
      "\u001b[0;32m<ipython-input-1-fbd1a1ee0dcb>\u001b[0m in \u001b[0;36m<module>\u001b[0;34m\u001b[0m\n\u001b[1;32m      5\u001b[0m \u001b[0mprint\u001b[0m\u001b[0;34m(\u001b[0m\u001b[0;34m\"鍵值1對應的資料值：\"\u001b[0m\u001b[0;34m+\u001b[0m \u001b[0mdic1\u001b[0m\u001b[0;34m[\u001b[0m\u001b[0;36m1\u001b[0m\u001b[0;34m]\u001b[0m\u001b[0;34m)\u001b[0m    \u001b[0;31m# 使用鍵值1來取出資料值\u001b[0m\u001b[0;34m\u001b[0m\u001b[0;34m\u001b[0m\u001b[0m\n\u001b[1;32m      6\u001b[0m \u001b[0mprint\u001b[0m\u001b[0;34m(\u001b[0m\u001b[0;34m\"鍵值4對應的資料值：\"\u001b[0m\u001b[0;34m+\u001b[0m \u001b[0mdic1\u001b[0m\u001b[0;34m[\u001b[0m\u001b[0;36m4\u001b[0m\u001b[0;34m]\u001b[0m\u001b[0;34m)\u001b[0m    \u001b[0;31m# 使用鍵值4來取出資料值\u001b[0m\u001b[0;34m\u001b[0m\u001b[0;34m\u001b[0m\u001b[0m\n\u001b[0;32m----> 7\u001b[0;31m \u001b[0mprint\u001b[0m\u001b[0;34m(\u001b[0m\u001b[0;34m\"鍵值3對應的資料值：\"\u001b[0m\u001b[0;34m+\u001b[0m \u001b[0mdic1\u001b[0m\u001b[0;34m[\u001b[0m\u001b[0;36m3\u001b[0m\u001b[0;34m]\u001b[0m\u001b[0;34m)\u001b[0m    \u001b[0;31m# 使用鍵值3來取出資料值...錯！！為什麼？\u001b[0m\u001b[0;34m\u001b[0m\u001b[0;34m\u001b[0m\u001b[0m\n\u001b[0m\u001b[1;32m      8\u001b[0m \u001b[0mprint\u001b[0m\u001b[0;34m(\u001b[0m\u001b[0;34m\"鍵值\\'3\\'對應的資料值：\"\u001b[0m\u001b[0;34m+\u001b[0m \u001b[0mdic1\u001b[0m\u001b[0;34m[\u001b[0m\u001b[0;34m'3'\u001b[0m\u001b[0;34m]\u001b[0m\u001b[0;34m)\u001b[0m    \u001b[0;31m# 使用鍵值'3'來取出資料值\u001b[0m\u001b[0;34m\u001b[0m\u001b[0;34m\u001b[0m\u001b[0m\n\u001b[1;32m      9\u001b[0m \u001b[0;34m\u001b[0m\u001b[0m\n",
      "\u001b[0;31mKeyError\u001b[0m: 3"
     ]
    }
   ],
   "source": [
    "dic1 = {1:'Jimmy', 2:'Alex', '3':'john', 4:'mike'}\n",
    "print(\"dic1的資料型態：\", type(dic1))  \n",
    "\n",
    "print(dic1)          # 印出dic1的內容 => 「鍵值-資料」值配對 \n",
    "print(\"鍵值1對應的資料值：\"+ dic1[1])    # 使用鍵值1來取出資料值\n",
    "print(\"鍵值4對應的資料值：\"+ dic1[4])    # 使用鍵值4來取出資料值\n",
    "print(\"鍵值3對應的資料值：\"+ dic1[3])    # 使用鍵值3來取出資料值...錯！！為什麼？\n",
    "print(\"鍵值\\'3\\'對應的資料值：\"+ dic1['3'])    # 使用鍵值'3'來取出資料值\n",
    "\n",
    "print(dic1.keys())      # 取出所有的鍵值\n",
    "print(dic1.values())    # 取出所有的資料值"
   ]
  },
  {
   "cell_type": "code",
   "execution_count": null,
   "id": "7203fa88",
   "metadata": {},
   "outputs": [],
   "source": []
  }
 ],
 "metadata": {
  "kernelspec": {
   "display_name": "Python 3",
   "language": "python",
   "name": "python3"
  },
  "language_info": {
   "codemirror_mode": {
    "name": "ipython",
    "version": 3
   },
   "file_extension": ".py",
   "mimetype": "text/x-python",
   "name": "python",
   "nbconvert_exporter": "python",
   "pygments_lexer": "ipython3",
   "version": "3.8.8"
  }
 },
 "nbformat": 4,
 "nbformat_minor": 5
}
