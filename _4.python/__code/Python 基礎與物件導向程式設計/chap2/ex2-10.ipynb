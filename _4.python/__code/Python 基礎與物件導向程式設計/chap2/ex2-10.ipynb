{
 "cells": [
  {
   "cell_type": "code",
   "execution_count": 1,
   "id": "6870c3d8",
   "metadata": {},
   "outputs": [],
   "source": [
    "x = int(1)       # x值為1\n",
    "y = int(2.8)     # y值為2\n",
    "z = int(\"3\")     # z值為3\n",
    "\n",
    "x = float(1)     # x值為1.0\n",
    "y = float(2.8)   # y值為2.8\n",
    "z = float(\"3\")   # z值為3.0\n",
    "q = float(\"4.2\") # w值為4.2\n",
    "\n",
    "x = str(\"s1\")    # x值為's1'\n",
    "y = str(2)       # x值為'2'\n",
    "z = str(3.0)     # z值為'3.0'"
   ]
  },
  {
   "cell_type": "code",
   "execution_count": null,
   "id": "03742fae",
   "metadata": {},
   "outputs": [],
   "source": []
  }
 ],
 "metadata": {
  "kernelspec": {
   "display_name": "Python 3",
   "language": "python",
   "name": "python3"
  },
  "language_info": {
   "codemirror_mode": {
    "name": "ipython",
    "version": 3
   },
   "file_extension": ".py",
   "mimetype": "text/x-python",
   "name": "python",
   "nbconvert_exporter": "python",
   "pygments_lexer": "ipython3",
   "version": "3.8.8"
  }
 },
 "nbformat": 4,
 "nbformat_minor": 5
}
