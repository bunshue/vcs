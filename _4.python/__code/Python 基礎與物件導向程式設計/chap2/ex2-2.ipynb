{
 "cells": [
  {
   "cell_type": "code",
   "execution_count": 1,
   "id": "c9444ab6",
   "metadata": {},
   "outputs": [
    {
     "name": "stdout",
     "output_type": "stream",
     "text": [
      "使用雙引號表示的字串\n",
      "使用單引號表示的字串\n",
      "使用三單引號表示的\n",
      "多行字串\n",
      "哈囉\n",
      "嗎\n",
      "哈囉大家好！哈囉大家好！\n",
      "哈囉大家好！ 你好嗎？\n"
     ]
    }
   ],
   "source": [
    "str1 = \"使用雙引號表示的字串\"\n",
    "print(str1)\n",
    "str2 = '使用單引號表示的字串'\n",
    "print(str2)\n",
    "str3 = '''使用三單引號表示的\n",
    "多行字串''' \n",
    "print(str3) \n",
    "\n",
    "str1 = '哈囉大家好！'  # str1字串    \n",
    "str2 = ' 你好嗎？'    # str2字串    \n",
    "print(str1[0:2])    # 使用字元索引切分取出子字串： [起點:終點(不計入)]    \n",
    "print(str2[3])      # 使用字元索引取出特定字元\n",
    "print(str1*2)       # 字串印兩次！    \n",
    "print(str1 + str2)  # 字串加法？就是字串合併 "
   ]
  },
  {
   "cell_type": "code",
   "execution_count": null,
   "id": "6ec43c4c",
   "metadata": {},
   "outputs": [],
   "source": []
  }
 ],
 "metadata": {
  "kernelspec": {
   "display_name": "Python 3",
   "language": "python",
   "name": "python3"
  },
  "language_info": {
   "codemirror_mode": {
    "name": "ipython",
    "version": 3
   },
   "file_extension": ".py",
   "mimetype": "text/x-python",
   "name": "python",
   "nbconvert_exporter": "python",
   "pygments_lexer": "ipython3",
   "version": "3.8.8"
  }
 },
 "nbformat": 4,
 "nbformat_minor": 5
}
