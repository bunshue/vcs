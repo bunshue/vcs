{
 "cells": [
  {
   "cell_type": "code",
   "execution_count": 1,
   "id": "4f6443c6",
   "metadata": {},
   "outputs": [
    {
     "name": "stdout",
     "output_type": "stream",
     "text": [
      "0\n",
      "1\n",
      "2\n",
      "3\n",
      "4\n",
      "5\n",
      "4\n",
      "5\n",
      "6\n",
      "5\n",
      "7\n",
      "9\n"
     ]
    }
   ],
   "source": [
    "range1 = range(6)\n",
    "for i in range1:\n",
    "    print(i)\n",
    "    \n",
    "# 再來一個！\n",
    "range2 = range(4, 7)\n",
    "for i in range2:\n",
    "    print(i)\n",
    "\n",
    "# 再來一個!!\n",
    "range3 = range(5, 10, 2)\n",
    "for i in range3:\n",
    "    print(i)"
   ]
  },
  {
   "cell_type": "code",
   "execution_count": null,
   "id": "569e2f25",
   "metadata": {},
   "outputs": [],
   "source": []
  }
 ],
 "metadata": {
  "kernelspec": {
   "display_name": "Python 3",
   "language": "python",
   "name": "python3"
  },
  "language_info": {
   "codemirror_mode": {
    "name": "ipython",
    "version": 3
   },
   "file_extension": ".py",
   "mimetype": "text/x-python",
   "name": "python",
   "nbconvert_exporter": "python",
   "pygments_lexer": "ipython3",
   "version": "3.8.8"
  }
 },
 "nbformat": 4,
 "nbformat_minor": 5
}
