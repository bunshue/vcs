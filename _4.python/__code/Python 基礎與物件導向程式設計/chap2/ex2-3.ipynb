{
 "cells": [
  {
   "cell_type": "code",
   "execution_count": 1,
   "id": "984f649d",
   "metadata": {},
   "outputs": [
    {
     "name": "stdout",
     "output_type": "stream",
     "text": [
      "list1的資料型態： <class 'list'>\n",
      "[1, 'hi', 'Python', 2]\n",
      "[2]\n",
      "[1, 'hi']\n",
      "[1, 'hi', 'Python', 2, 1, 'hi', 'Python', 2]\n",
      "[1, 'hi', 'Python', 2, 1, 'hi', 'Python', 2, 1, 'hi', 'Python', 2]\n",
      "[1, 'hi', 'Java', 2]\n"
     ]
    }
   ],
   "source": [
    "list1 = [1, \"hi\", \"Python\", 2]    # 串列內容可以是任何東西，包括串列自己\n",
    "print(\"list1的資料型態：\", type(list1))\n",
    "\n",
    "print(list1)    # 印出list1的內容\n",
    "# 使用串列索引切分取出子串列： [起點:終點(不計入)]，終點不寫？那就是算到最後\n",
    "print(list1[3:])   \n",
    "# 使用串列索引切分取出子串列： [起點:終點(不計入)]\n",
    "print(list1[0:2])   \n",
    "print(list1 + list1)    # 串列加法？就是串列合併 \n",
    "print(list1 * 3)        # 串列內容印三次!\n",
    "list1[2] = \"Java\"       # 設定list1特定位置的內容值\n",
    "print(list1)            # 再印出list1的內容"
   ]
  },
  {
   "cell_type": "code",
   "execution_count": null,
   "id": "1d1e65bd",
   "metadata": {},
   "outputs": [],
   "source": []
  }
 ],
 "metadata": {
  "kernelspec": {
   "display_name": "Python 3",
   "language": "python",
   "name": "python3"
  },
  "language_info": {
   "codemirror_mode": {
    "name": "ipython",
    "version": 3
   },
   "file_extension": ".py",
   "mimetype": "text/x-python",
   "name": "python",
   "nbconvert_exporter": "python",
   "pygments_lexer": "ipython3",
   "version": "3.8.8"
  }
 },
 "nbformat": 4,
 "nbformat_minor": 5
}
