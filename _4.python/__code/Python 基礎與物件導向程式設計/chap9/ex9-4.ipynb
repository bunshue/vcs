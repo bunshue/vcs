{
 "cells": [
  {
   "cell_type": "code",
   "execution_count": 2,
   "id": "58802441",
   "metadata": {},
   "outputs": [
    {
     "name": "stdout",
     "output_type": "stream",
     "text": [
      "Thread 1 0\n",
      "Thread 2 0\n",
      "Thread 1 1\n",
      "Thread 2 1\n",
      "Thread 1 2\n",
      "Thread 2 2\n",
      "Thread 1 3\n",
      "Thread 2 3\n",
      "ThreadThread 2 4 \n",
      "1 4\n",
      "Thread 1 Thread5\n",
      " 2 5\n",
      "ThreadThread 2 6\n",
      " 1 6\n"
     ]
    }
   ],
   "source": [
    "import threading\n",
    "import time\n",
    "\n",
    "class MyThread(threading.Thread):\n",
    "    \n",
    "    def __init__(self, idnum):\n",
    "        # 必須先初始化Thread!\n",
    "        threading.Thread.__init__(self)\n",
    "        self.idnum = idnum\n",
    "        \n",
    "    def run(self):\n",
    "        for i in range(7):\n",
    "            print('Thread', self.idnum, i)\n",
    "            time.sleep(1)\n",
    "            \n",
    "thr1 = MyThread(1)\n",
    "thr2 = MyThread(2)\n",
    "thr1.start()\n",
    "thr2.start()"
   ]
  },
  {
   "cell_type": "code",
   "execution_count": null,
   "id": "4389f29c",
   "metadata": {},
   "outputs": [],
   "source": []
  }
 ],
 "metadata": {
  "kernelspec": {
   "display_name": "Python 3",
   "language": "python",
   "name": "python3"
  },
  "language_info": {
   "codemirror_mode": {
    "name": "ipython",
    "version": 3
   },
   "file_extension": ".py",
   "mimetype": "text/x-python",
   "name": "python",
   "nbconvert_exporter": "python",
   "pygments_lexer": "ipython3",
   "version": "3.8.8"
  }
 },
 "nbformat": 4,
 "nbformat_minor": 5
}
