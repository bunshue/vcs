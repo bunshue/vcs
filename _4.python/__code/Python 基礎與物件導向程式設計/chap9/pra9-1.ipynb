{
 "cells": [
  {
   "cell_type": "code",
   "execution_count": 1,
   "id": "b60574db",
   "metadata": {},
   "outputs": [
    {
     "name": "stdout",
     "output_type": "stream",
     "text": [
      "Bunny run 0\n",
      "Ted run 0\n",
      "Bunny run 1\n",
      "Bunny run 2\n",
      "Ted run 1\n",
      "Bunny run 3\n",
      "Bunny run 4\n",
      "Ted run 2\n",
      "Bunny run 5\n",
      "Bunny run 6\n",
      "Ted run 3\n",
      "Bunny run 7\n",
      "Ted run 4\n",
      "Bunny run 8\n",
      "Bunny run 9\n",
      "Ted run 5\n",
      "Ted run 6\n",
      "Ted run 7\n",
      "Ted run 8\n",
      "Ted run 9\n"
     ]
    }
   ],
   "source": [
    "from threading import Thread\n",
    "import time\n",
    "\n",
    "class Rabbit(Thread):\n",
    "    def __init__(self, name):\n",
    "        Thread.__init__(self)\n",
    "        self.name = name\n",
    "  \n",
    "    def run(self):\n",
    "        for i in range(10):\n",
    "            print(self.name, 'run', i)\n",
    "            time.sleep(1)\n",
    "            \n",
    "class Turtle(Thread):\n",
    "    def __init__(self, name):\n",
    "        Thread.__init__(self)\n",
    "        self.name = name\n",
    "  \n",
    "    def run(self):\n",
    "        for i in range(10):\n",
    "            print(self.name, 'run', i)\n",
    "            time.sleep(2)\n",
    "\n",
    "rabbit1 = Rabbit('Bunny')\n",
    "turtle1 = Turtle('Ted')\n",
    "rabbit1.start()\n",
    "turtle1.start()"
   ]
  },
  {
   "cell_type": "code",
   "execution_count": null,
   "id": "23213457",
   "metadata": {},
   "outputs": [],
   "source": []
  }
 ],
 "metadata": {
  "kernelspec": {
   "display_name": "Python 3",
   "language": "python",
   "name": "python3"
  },
  "language_info": {
   "codemirror_mode": {
    "name": "ipython",
    "version": 3
   },
   "file_extension": ".py",
   "mimetype": "text/x-python",
   "name": "python",
   "nbconvert_exporter": "python",
   "pygments_lexer": "ipython3",
   "version": "3.8.8"
  }
 },
 "nbformat": 4,
 "nbformat_minor": 5
}
