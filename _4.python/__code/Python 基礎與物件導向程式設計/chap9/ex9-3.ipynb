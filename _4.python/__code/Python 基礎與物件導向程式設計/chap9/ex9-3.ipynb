{
 "cells": [
  {
   "cell_type": "code",
   "execution_count": 1,
   "id": "44fc79c4",
   "metadata": {},
   "outputs": [
    {
     "name": "stdout",
     "output_type": "stream",
     "text": [
      "1 0\n",
      "main 0\n",
      "1 1\n",
      "main 1\n",
      "1 2\n",
      "main 2\n",
      "1 3\n",
      "Wait for child thread...\n",
      "1 4\n",
      "1 5\n",
      "1 6\n",
      "Child thread stopped\n"
     ]
    }
   ],
   "source": [
    "import threading\n",
    "import time\n",
    "\n",
    "def childThread(name):\n",
    "    for i in range(7):\n",
    "        print(name, i)\n",
    "        time.sleep(1)\n",
    "\n",
    "thr1 = threading.Thread(target=childThread, args=('1'))\n",
    "thr1.start()\n",
    "\n",
    "for i in range(3):\n",
    "    print('main', i)\n",
    "    time.sleep(1)\n",
    "    \n",
    "print('Wait for child thread...')\n",
    "thr1.join()\n",
    "print('Child thread stopped')"
   ]
  },
  {
   "cell_type": "code",
   "execution_count": null,
   "id": "108d88d1",
   "metadata": {},
   "outputs": [],
   "source": []
  }
 ],
 "metadata": {
  "kernelspec": {
   "display_name": "Python 3",
   "language": "python",
   "name": "python3"
  },
  "language_info": {
   "codemirror_mode": {
    "name": "ipython",
    "version": 3
   },
   "file_extension": ".py",
   "mimetype": "text/x-python",
   "name": "python",
   "nbconvert_exporter": "python",
   "pygments_lexer": "ipython3",
   "version": "3.8.8"
  }
 },
 "nbformat": 4,
 "nbformat_minor": 5
}
