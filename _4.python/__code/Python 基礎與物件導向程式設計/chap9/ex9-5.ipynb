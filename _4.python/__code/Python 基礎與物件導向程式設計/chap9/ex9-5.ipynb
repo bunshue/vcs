{
 "cells": [
  {
   "cell_type": "code",
   "execution_count": 1,
   "id": "dad29bde",
   "metadata": {},
   "outputs": [
    {
     "name": "stdout",
     "output_type": "stream",
     "text": [
      "Thread1 start\n",
      "0 this is the thread1, resource value: 1\n",
      "Thread2 start\n",
      "1 this is the thread1, resource value: 2\n",
      "2 this is the thread1, resource value: 3\n",
      "0 this is the thread2, resource value: 2\n",
      "1 this is the thread2, resource value: 1\n",
      "2 this is the thread2, resource value: 0\n",
      "All threads stop\n"
     ]
    }
   ],
   "source": [
    "import threading\n",
    "import time\n",
    "\n",
    "def thread1(lock):\n",
    "    global commonResource\n",
    "    lock.acquire()\n",
    "    for i in range(3):\n",
    "        commonResource += 1\n",
    "        print(i, 'this is the thread1, resource value:', commonResource)\n",
    "        time.sleep(1)\n",
    "    lock.release()\n",
    "        \n",
    "def thread2(lock):\n",
    "    global commonResource\n",
    "    lock.acquire()\n",
    "    for i in range(3):\n",
    "        commonResource -= 1\n",
    "        print(i, 'this is the thread2, resource value:', commonResource)\n",
    "        time.sleep(1)\n",
    "    lock.release()\n",
    "        \n",
    "commonResource = 0\n",
    "lock = threading.Lock()\n",
    "\n",
    "thr1 = threading.Thread(target=thread1, args=(lock,))\n",
    "thr2 = threading.Thread(target=thread2, args=(lock,))\n",
    "\n",
    "print('Thread1 start')\n",
    "thr1.start()\n",
    "print('Thread2 start')\n",
    "thr2.start()\n",
    "\n",
    "thr1.join()\n",
    "thr2.join()\n",
    "\n",
    "print('All threads stop')"
   ]
  },
  {
   "cell_type": "code",
   "execution_count": null,
   "id": "e55fd6b5",
   "metadata": {},
   "outputs": [],
   "source": []
  }
 ],
 "metadata": {
  "kernelspec": {
   "display_name": "Python 3",
   "language": "python",
   "name": "python3"
  },
  "language_info": {
   "codemirror_mode": {
    "name": "ipython",
    "version": 3
   },
   "file_extension": ".py",
   "mimetype": "text/x-python",
   "name": "python",
   "nbconvert_exporter": "python",
   "pygments_lexer": "ipython3",
   "version": "3.8.8"
  }
 },
 "nbformat": 4,
 "nbformat_minor": 5
}
