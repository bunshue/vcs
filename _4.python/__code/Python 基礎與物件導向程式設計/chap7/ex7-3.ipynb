{
 "cells": [
  {
   "cell_type": "code",
   "execution_count": 1,
   "id": "49829f34",
   "metadata": {},
   "outputs": [
    {
     "name": "stdout",
     "output_type": "stream",
     "text": [
      "7\n",
      "11\n"
     ]
    }
   ],
   "source": [
    "class MyClass:\n",
    "    @staticmethod\n",
    "    def foo(arg1, arg2):    # 不會收到self\n",
    "        return arg1+arg2\n",
    "    \n",
    "x = MyClass()\n",
    "print(x.foo(3, 4))          # 印出7\n",
    "print(MyClass.foo(5, 6))    # 印出11"
   ]
  },
  {
   "cell_type": "code",
   "execution_count": null,
   "id": "ac80253e",
   "metadata": {},
   "outputs": [],
   "source": []
  }
 ],
 "metadata": {
  "kernelspec": {
   "display_name": "Python 3",
   "language": "python",
   "name": "python3"
  },
  "language_info": {
   "codemirror_mode": {
    "name": "ipython",
    "version": 3
   },
   "file_extension": ".py",
   "mimetype": "text/x-python",
   "name": "python",
   "nbconvert_exporter": "python",
   "pygments_lexer": "ipython3",
   "version": "3.8.8"
  }
 },
 "nbformat": 4,
 "nbformat_minor": 5
}
