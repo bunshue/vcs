{
 "cells": [
  {
   "cell_type": "code",
   "execution_count": 1,
   "id": "42dd403b",
   "metadata": {},
   "outputs": [
    {
     "name": "stdout",
     "output_type": "stream",
     "text": [
      "p3 = Person('約翰', 36)\n",
      "Person('約翰', 36)\n"
     ]
    }
   ],
   "source": [
    "class Person:\n",
    "    \n",
    "    def __init__(self, name, age):\n",
    "        self.name = name      # 你寫成 name=name就尷尬了\n",
    "        self.age = age\n",
    "        \n",
    "    def __repr__(self):\n",
    "        return \"Person('%s', %d)\" % (self.name, self.age)\n",
    "\n",
    "p1 = Person('約翰', 36)\n",
    "str1 = 'p3 = '+p1.__repr__()   # 或'p3 = '+repr(p1)\n",
    "print(str1)                    # p3 = Person('約翰', 36)\n",
    "exec(str1)                     # exec：執行上面這行敘述\n",
    "print(p3)"
   ]
  },
  {
   "cell_type": "code",
   "execution_count": null,
   "id": "77e1910b",
   "metadata": {},
   "outputs": [],
   "source": []
  }
 ],
 "metadata": {
  "kernelspec": {
   "display_name": "Python 3",
   "language": "python",
   "name": "python3"
  },
  "language_info": {
   "codemirror_mode": {
    "name": "ipython",
    "version": 3
   },
   "file_extension": ".py",
   "mimetype": "text/x-python",
   "name": "python",
   "nbconvert_exporter": "python",
   "pygments_lexer": "ipython3",
   "version": "3.8.8"
  }
 },
 "nbformat": 4,
 "nbformat_minor": 5
}
