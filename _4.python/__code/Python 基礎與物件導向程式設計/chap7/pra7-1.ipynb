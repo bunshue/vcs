{
 "cells": [
  {
   "cell_type": "code",
   "execution_count": 1,
   "id": "d7199ba6",
   "metadata": {},
   "outputs": [
    {
     "name": "stdout",
     "output_type": "stream",
     "text": [
      "I am a Neapolitan Mastiff, I'm 5 years old, my body size is Large and my color is Black.\n",
      "I am a Neapolitan Mastiff, now I'm eating.\n",
      "I am a Neapolitan Mastiff, now I'm sleeping.\n",
      "I am a Maltese, I'm 2 years old, my body size is Small and my color is White.\n",
      "I am a Maltese, now I'm sleeping.\n",
      "I am a Maltese, now I'm sitting.\n",
      "I am a Chow Chow, I'm 3 years old, my body size is Medium and my color is Brown.\n",
      "I am a Chow Chow, now I'm sitting.\n",
      "I am a Chow Chow, now I'm running.\n"
     ]
    }
   ],
   "source": [
    "# 定義DOG類別\n",
    "class DOG:    \n",
    "    # 建構式！\n",
    "    def __init__(self, breed, size, age, color):\n",
    "        self.Breed = breed\n",
    "        self.Size = size\n",
    "        self.Age = age\n",
    "        self.Color = color\n",
    "\n",
    "    # Eat方法\n",
    "    def Eat(self):\n",
    "        print(\"I am a \"+self.Breed+\", now I'm eating.\")\n",
    "        \n",
    "    # Sleep方法\n",
    "    def Sleep(self):\n",
    "        print(\"I am a \"+self.Breed+\", now I'm sleeping.\")\n",
    "        \n",
    "    # Sit方法\n",
    "    def Sit(self):\n",
    "        print(\"I am a \"+self.Breed+\", now I'm sitting.\")\n",
    "    \n",
    "    # Run方法\n",
    "    def Run(self):\n",
    "        print(\"I am a \"+self.Breed+\", now I'm running.\")\n",
    "        \n",
    "    # __str__方法，將物件用字串表達\n",
    "    def __str__(self):\n",
    "        return \"I am a \"+self.Breed+\", I'm \"+str(self.Age)+ \\\n",
    "                \" years old, my body size is \"+self.Size+ \\\n",
    "                \" and my color is \"+self.Color+\".\"\n",
    "        \n",
    "\n",
    "# 實體化第一隻狗\n",
    "dog1 = DOG(\"Neapolitan Mastiff\", \"Large\", 5, \"Black\")\n",
    "print(dog1)\n",
    "dog1.Eat()     # 吃\n",
    "dog1.Sleep()   # 睡\n",
    "\n",
    "# 實體化第二隻狗\n",
    "dog2 = DOG(\"Maltese\", \"Small\", 2, \"White\")\n",
    "print(dog2)\n",
    "dog2.Sleep()   # 睡\n",
    "dog2.Sit()     # 坐\n",
    "\n",
    "# 實體化第三隻狗\n",
    "dog3 = DOG(\"Chow Chow\", \"Medium\", 3, \"Brown\")\n",
    "print(dog3)\n",
    "dog3.Sit()     # 坐\n",
    "dog3.Run()     # 跑"
   ]
  },
  {
   "cell_type": "code",
   "execution_count": null,
   "id": "93c5b6d6",
   "metadata": {},
   "outputs": [],
   "source": []
  }
 ],
 "metadata": {
  "kernelspec": {
   "display_name": "Python 3",
   "language": "python",
   "name": "python3"
  },
  "language_info": {
   "codemirror_mode": {
    "name": "ipython",
    "version": 3
   },
   "file_extension": ".py",
   "mimetype": "text/x-python",
   "name": "python",
   "nbconvert_exporter": "python",
   "pygments_lexer": "ipython3",
   "version": "3.8.8"
  }
 },
 "nbformat": 4,
 "nbformat_minor": 5
}
