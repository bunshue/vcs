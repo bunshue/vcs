{
 "cells": [
  {
   "cell_type": "code",
   "execution_count": 1,
   "id": "f390236b",
   "metadata": {},
   "outputs": [
    {
     "name": "stdout",
     "output_type": "stream",
     "text": [
      "未開機\n",
      "開始沖泡咖啡...\n",
      "水溫不足\n",
      "正在加熱水溫\n",
      "完成！\n",
      "沖泡咖啡...\n",
      "完成！\n"
     ]
    }
   ],
   "source": [
    "class CoffeeMaker:\n",
    "    \n",
    "    def __init__(self):\n",
    "        self.power = False     # 初始化咖啡機電源：關\n",
    "        self.waterTemp = 20    # 室溫水的溫度，攝氏20度\n",
    "        \n",
    "    def switchPower(self):\n",
    "        self.power = ~self.power  # 切換開關就是這樣做的！\n",
    "        \n",
    "    def getWaterTemp(self):\n",
    "        return self.waterTemp  # 回傳咖啡機水溫\n",
    "    \n",
    "    def heatWater(self):\n",
    "        # 將水加熱到可沖咖啡的溫度：攝氏90度\n",
    "        print('正在加熱水溫')\n",
    "        self.waterTemp = 90\n",
    "        print('完成！')\n",
    "        \n",
    "    def brewCoffee(self):\n",
    "        if self.power:         # 一切要咖啡機開了才可以！\n",
    "            print('開始沖泡咖啡...')\n",
    "            if self.waterTemp<90:\n",
    "                print('水溫不足')\n",
    "                self.heatWater()  # 呼叫物件方法，加熱水溫\n",
    "            print('沖泡咖啡...')\n",
    "            print('完成！')\n",
    "        else:\n",
    "            print('未開機')\n",
    "        \n",
    "cm1 = CoffeeMaker()    # 咖啡機一號出現了！\n",
    "cm1.brewCoffee()       # 直接沖咖啡？能沖才有鬼\n",
    "cm1.switchPower()      # 先開電源，正解\n",
    "cm1.brewCoffee()       # 順利沖咖啡了！"
   ]
  },
  {
   "cell_type": "code",
   "execution_count": null,
   "id": "3efa01d8",
   "metadata": {},
   "outputs": [],
   "source": []
  }
 ],
 "metadata": {
  "kernelspec": {
   "display_name": "Python 3",
   "language": "python",
   "name": "python3"
  },
  "language_info": {
   "codemirror_mode": {
    "name": "ipython",
    "version": 3
   },
   "file_extension": ".py",
   "mimetype": "text/x-python",
   "name": "python",
   "nbconvert_exporter": "python",
   "pygments_lexer": "ipython3",
   "version": "3.8.8"
  }
 },
 "nbformat": 4,
 "nbformat_minor": 5
}
