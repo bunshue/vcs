{
 "cells": [
  {
   "cell_type": "code",
   "execution_count": 1,
   "id": "6b1e0d16",
   "metadata": {},
   "outputs": [
    {
     "name": "stdout",
     "output_type": "stream",
     "text": [
      "1 2019-02-17 17:45:28, Info                  DISM   PID=1968 TID=444 Scratch directory set to 'X:\\windows\\TEMP\\'. - CDISMManager::put_ScratchDir\n",
      "2 2019-02-17 17:45:28, Info                  DISM   PID=1968 TID=444 DismCore.dll version: 10.0.17763.1 - CDISMManager::FinalConstruct\n",
      "3 2019-02-17 17:45:28, Info                  DISM   PID=1968 TID=444 Scratch directory set to 'c:\\swwork\\SRV2\\en-us'. - CDISMManager::put_ScratchDir\n",
      "4 2019-02-17 17:45:28, Info                  DISM   Initialized Panther logging at c:\\windows\\en-us.log\n",
      "5 2019-02-17 17:45:28, Info                  DISM   PID=1968 TID=444 Successfully loaded the ImageSession at \"X:\\WINDOWS\\SYSTEM32\\Dism\" - CDISMManager::LoadLocalImageSession\n",
      "6 2019-02-17 17:45:28, Info                  DISM   Initialized Panther logging at c:\\windows\\en-us.log\n",
      "7 2019-02-17 17:45:28, Info                  DISM   DISM Provider Store: PID=1968 TID=444 Found and Initialized the DISM Logger. - CDISMProviderStore::Internal_InitializeLogger\n",
      "8 2019-02-17 17:45:28, Info                  DISM   DISM Provider Store: PID=1968 TID=444 Failed to get and initialize the PE Provider.  Continuing by assuming that it is not a WinPE image. - CDISMProviderStore::Final_OnConnect\n",
      "9 2019-02-17 17:45:28, Info                  DISM   DISM Provider Store: PID=1968 TID=444 Finished initializing the Provider Map. - CDISMProviderStore::Final_OnConnect\n",
      "10 2019-02-17 17:45:28, Info                  DISM   Initialized Panther logging at c:\\windows\\en-us.log\n",
      "11 2019-02-17 17:45:28, Info                  DISM   DISM Manager: PID=1968 TID=444 Successfully created the local image session and provider store. - CDISMManager::CreateLocalImageSession\n",
      "12 2019-02-17 17:45:28, Info                  DISM   DISM.EXE: \n",
      "13 2019-02-17 17:45:28, Info                  DISM   DISM.EXE: <----- Starting Dism.exe session ----->\n",
      "14 2019-02-17 17:45:28, Info                  DISM   DISM.EXE: \n",
      "15 2019-02-17 17:45:28, Info                  DISM   DISM.EXE: Host machine information: OS Version=10.0.17763, Running architecture=amd64, Number of processors=8\n",
      "16 2019-02-17 17:45:28, Info                  DISM   DISM.EXE: Dism.exe version: 10.0.17763.1\n",
      "17 2019-02-17 17:45:28, Info                  DISM   DISM.EXE: Executing command line: \"X:\\WINDOWS\\SYSTEM32\\Dism.exe\"  /Image:c:\\ /LogPath:c:\\windows\\en-us.log /ScratchDir:c:\\swwork\\SRV2\\en-us /Add-Package /PackagePath:c:\\swwork\\SRV2\\en-us\\Microsoft-Windows-RetailDemo-OfflineContent-Content-Package~31bf3856ad364e35~amd64~~.cab \n",
      "18 2019-02-17 17:45:28, Info                  DISM   DISM Provider Store: PID=1968 TID=444 Getting the collection of providers from a local provider store type. - CDISMProviderStore::GetProviderCollection\n",
      "19 2019-02-17 17:45:28, Info                  DISM   DISM Provider Store: PID=1968 TID=444 Connecting to the provider located at X:\\WINDOWS\\SYSTEM32\\Dism\\FolderProvider.dll. - CDISMProviderStore::Internal_LoadProvider\n",
      "20 2019-02-17 17:45:28, Warning               DISM   DISM Provider Store: PID=1968 TID=444 Failed to load the provider: X:\\WINDOWS\\SYSTEM32\\Dism\\SiloedPackageProvider.dll. - CDISMProviderStore::Internal_GetProvider(hr:0x8007007e)\n",
      "21 2019-02-17 17:45:28, Info                  DISM   DISM Provider Store: PID=1968 TID=444 Connecting to the provider located at X:\\WINDOWS\\SYSTEM32\\Dism\\FfuProvider.dll. - CDISMProviderStore::Internal_LoadProvider\n",
      "22 2019-02-17 17:45:28, Info                  DISM   DISM Provider Store: PID=1968 TID=444 Connecting to the provider located at X:\\WINDOWS\\SYSTEM32\\Dism\\WimProvider.dll. - CDISMProviderStore::Internal_LoadProvider\n",
      "23 2019-02-17 17:45:28, Info                  DISM   DISM Provider Store: PID=1968 TID=444 Connecting to the provider located at X:\\WINDOWS\\SYSTEM32\\Dism\\VHDProvider.dll. - CDISMProviderStore::Internal_LoadProvider\n",
      "24 2019-02-17 17:45:28, Info                  DISM   DISM Provider Store: PID=1968 TID=444 Connecting to the provider located at X:\\WINDOWS\\SYSTEM32\\Dism\\ImagingProvider.dll. - CDISMProviderStore::Internal_LoadProvider\n",
      "25 2019-02-17 17:45:28, Info                  DISM   DISM Provider Store: PID=1968 TID=444 Connecting to the provider located at X:\\WINDOWS\\SYSTEM32\\Dism\\CompatProvider.dll. - CDISMProviderStore::Internal_LoadProvider\n",
      "26 2019-02-17 17:45:28, Warning               DISM   DISM Provider Store: PID=1968 TID=444 Failed to load the provider: X:\\WINDOWS\\SYSTEM32\\Dism\\MetaDeployProvider.dll. - CDISMProviderStore::Internal_GetProvider(hr:0x8007007e)\n",
      "27 2019-02-17 17:45:28, Info                  DISM   DISM.EXE: Got the collection of providers. Now enumerating them to build the command table.\n",
      "28 2019-02-17 17:45:28, Info                  DISM   DISM.EXE: Attempting to add the commands from provider: DISM Log Provider\n",
      "29 2019-02-17 17:45:28, Info                  DISM   DISM.EXE: Attempting to add the commands from provider: FolderManager\n",
      "30 2019-02-17 17:45:28, Info                  DISM   DISM.EXE: Attempting to add the commands from provider: FfuManager\n",
      "31 2019-02-17 17:45:28, Info                  DISM   DISM.EXE: Succesfully registered commands for the provider: FfuManager.\n",
      "32 2019-02-17 17:45:28, Info                  DISM   DISM.EXE: Attempting to add the commands from provider: WimManager\n",
      "33 2019-02-17 17:45:28, Info                  DISM   DISM.EXE: Succesfully registered commands for the provider: WimManager.\n",
      "34 2019-02-17 17:45:28, Info                  DISM   DISM.EXE: Attempting to add the commands from provider: VHDManager\n",
      "35 2019-02-17 17:45:28, Info                  DISM   DISM.EXE: Attempting to add the commands from provider: GenericImagingManager\n",
      "36 2019-02-17 17:45:28, Info                  DISM   DISM.EXE: Succesfully registered commands for the provider: GenericImagingManager.\n",
      "37 2019-02-17 17:45:28, Info                  DISM   DISM.EXE: Attempting to add the commands from provider: Compatibility Manager\n",
      "38 2019-02-17 17:45:28, Info                  DISM   DISM.EXE: Succesfully registered commands for the provider: Compatibility Manager.\n",
      "39 2019-02-17 17:45:28, Info                  DISM   DISM Provider Store: PID=1968 TID=444 Getting the collection of providers from a local provider store type. - CDISMProviderStore::GetProviderCollection\n",
      "40 2019-02-17 17:45:28, Info                  DISM   DISM FFU Provider: PID=1968 TID=444 [c:\\] is not recognized by the DISM FFU provider. - CFfuImage::Initialize\n",
      "41 [1968] [0x8007007b] FIOReadFileIntoBuffer:(1381): The filename, directory name, or volume label syntax is incorrect.\n",
      "42 [1968] [0xc142011c] UnmarshallImageHandleFromDirectory:(641)\n",
      "43 [1968] [0xc142011c] WIMGetMountedImageHandle:(2897)\n",
      "44 2019-02-17 17:45:28, Info                  DISM   DISM WIM Provider: PID=1968 TID=444 [c:\\] is not a WIM mount point. - CWimMountedImageInfo::Initialize\n",
      "45 2019-02-17 17:45:28, Info                  DISM   DISM VHD Provider: PID=1968 TID=444 [c:\\] is not recognized by the DISM VHD provider. - CVhdImage::Initialize\n",
      "46 2019-02-17 17:45:28, Info                  DISM   DISM FFU Provider: PID=1968 TID=444 [c:\\] is not recognized by the DISM FFU provider. - CFfuImage::Initialize\n",
      "47 2019-02-17 17:45:28, Info                  DISM   DISM Imaging Provider: PID=1968 TID=444 The provider FfuManager does not support CreateDismImage on c:\\ - CGenericImagingManager::CreateDismImage\n",
      "48 2019-02-17 17:45:28, Info                  DISM   DISM VHD Provider: PID=1968 TID=444 [c:\\] is not recognized by the DISM VHD provider. - CVhdImage::Initialize\n",
      "49 2019-02-17 17:45:28, Info                  DISM   DISM Imaging Provider: PID=1968 TID=444 The provider VHDManager does not support CreateDismImage on c:\\ - CGenericImagingManager::CreateDismImage\n",
      "50 [1968] [0x8007007b] FIOReadFileIntoBuffer:(1381): The filename, directory name, or volume label syntax is incorrect.\n"
     ]
    }
   ],
   "source": [
    "infname = 'en-us2.log'\n",
    "infile = open(infname, 'r')\n",
    "\n",
    "# 前50行\n",
    "count = 0\n",
    "for line in infile:\n",
    "    if count>=50:\n",
    "        break\n",
    "    print((count+1), line, end='')\n",
    "    count += 1\n",
    "    \n",
    "infile.close()"
   ]
  },
  {
   "cell_type": "code",
   "execution_count": null,
   "id": "bba8ea3a",
   "metadata": {},
   "outputs": [],
   "source": []
  }
 ],
 "metadata": {
  "kernelspec": {
   "display_name": "Python 3",
   "language": "python",
   "name": "python3"
  },
  "language_info": {
   "codemirror_mode": {
    "name": "ipython",
    "version": 3
   },
   "file_extension": ".py",
   "mimetype": "text/x-python",
   "name": "python",
   "nbconvert_exporter": "python",
   "pygments_lexer": "ipython3",
   "version": "3.8.8"
  }
 },
 "nbformat": 4,
 "nbformat_minor": 5
}
