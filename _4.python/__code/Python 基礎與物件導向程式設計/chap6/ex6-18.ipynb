{
 "cells": [
  {
   "cell_type": "code",
   "execution_count": 1,
   "id": "2559620e",
   "metadata": {},
   "outputs": [
    {
     "name": "stdout",
     "output_type": "stream",
     "text": [
      "b'wxyz'\n",
      "<class 'bytearray'> <class 'int'>\n",
      "bytearray(b'wxyp')\n"
     ]
    }
   ],
   "source": [
    "data = b'wxy\\x7a'\n",
    "print(data)               # b'wxyz'，以ASCII字元輸出\n",
    "\n",
    "ba = bytearray(data)\n",
    "print(type(ba), type(ba[0]))\n",
    "# <class 'bytearray'>, <class 'int'>\n",
    "\n",
    "ba[3] = 0x70              # 修改資料\n",
    "print(ba)                 # 變成 bytearray(b'wxyp')"
   ]
  },
  {
   "cell_type": "code",
   "execution_count": null,
   "id": "7634db98",
   "metadata": {},
   "outputs": [],
   "source": []
  }
 ],
 "metadata": {
  "kernelspec": {
   "display_name": "Python 3",
   "language": "python",
   "name": "python3"
  },
  "language_info": {
   "codemirror_mode": {
    "name": "ipython",
    "version": 3
   },
   "file_extension": ".py",
   "mimetype": "text/x-python",
   "name": "python",
   "nbconvert_exporter": "python",
   "pygments_lexer": "ipython3",
   "version": "3.8.8"
  }
 },
 "nbformat": 4,
 "nbformat_minor": 5
}
