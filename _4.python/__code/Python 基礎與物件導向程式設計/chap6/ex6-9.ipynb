{
 "cells": [
  {
   "cell_type": "code",
   "execution_count": null,
   "id": "1de9761d",
   "metadata": {},
   "outputs": [],
   "source": [
    "infile = open('myfile.txt', 'r')    # 開檔，用內建的open函式\n",
    "# 'r'：讀取模式\n",
    "\n",
    "for line in infile:                 # 檔案物件支援迭代協定\n",
    "    print(line, end='')             # 每次拿到一行資料，型別是str\n",
    "infile.close()                      # 關閉"
   ]
  }
 ],
 "metadata": {
  "kernelspec": {
   "display_name": "Python 3",
   "language": "python",
   "name": "python3"
  },
  "language_info": {
   "codemirror_mode": {
    "name": "ipython",
    "version": 3
   },
   "file_extension": ".py",
   "mimetype": "text/x-python",
   "name": "python",
   "nbconvert_exporter": "python",
   "pygments_lexer": "ipython3",
   "version": "3.8.8"
  }
 },
 "nbformat": 4,
 "nbformat_minor": 5
}
