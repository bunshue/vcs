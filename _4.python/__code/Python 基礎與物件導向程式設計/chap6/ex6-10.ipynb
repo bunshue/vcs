{
 "cells": [
  {
   "cell_type": "code",
   "execution_count": null,
   "id": "758d6cb2",
   "metadata": {},
   "outputs": [],
   "source": [
    "infname = 'myfile.txt'\n",
    "inf = open(infname, 'r')\n",
    "outfname = infname[:-4]+'2.txt'\n",
    "outf = open(outfname, 'w')\n",
    "\n",
    "for line in inf:           # 讀進來的line字串是有包含檔案內的換行字元哦！\n",
    "    str1 = line.strip()    # 移除line的多餘空白\n",
    "    if len(str1)>0:        # 如果移除完還有內容，寫進輸出檔\n",
    "        outf.write(str1+'\\n')\n",
    "inf.close()\n",
    "outf.close()"
   ]
  }
 ],
 "metadata": {
  "kernelspec": {
   "display_name": "Python 3",
   "language": "python",
   "name": "python3"
  },
  "language_info": {
   "codemirror_mode": {
    "name": "ipython",
    "version": 3
   },
   "file_extension": ".py",
   "mimetype": "text/x-python",
   "name": "python",
   "nbconvert_exporter": "python",
   "pygments_lexer": "ipython3",
   "version": "3.8.8"
  }
 },
 "nbformat": 4,
 "nbformat_minor": 5
}
