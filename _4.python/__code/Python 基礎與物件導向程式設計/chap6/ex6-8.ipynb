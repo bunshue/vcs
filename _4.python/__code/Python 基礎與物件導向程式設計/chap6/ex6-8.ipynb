{
 "cells": [
  {
   "cell_type": "code",
   "execution_count": 1,
   "id": "bf5e656f",
   "metadata": {},
   "outputs": [
    {
     "name": "stdout",
     "output_type": "stream",
     "text": [
      "chap2 \t\t\t<DIR>\t 13/11/2021\n",
      "ex6-8.ipynb \t1KB\t ipynb\t 14/11/2021\n",
      "ex6-6.ipynb \t1KB\t ipynb\t 14/11/2021\n",
      ".ipynb_checkpoints \t\t\t<DIR>\t 14/11/2021\n",
      "ex6-2.ipynb \t0KB\t ipynb\t 14/11/2021\n",
      "ex6-5.ipynb \t0KB\t ipynb\t 14/11/2021\n",
      "ex6-3.ipynb \t1KB\t ipynb\t 14/11/2021\n",
      "chap4 \t\t\t<DIR>\t 14/11/2021\n",
      "chap3 \t\t\t<DIR>\t 13/11/2021\n",
      "ex6-4.ipynb \t0KB\t ipynb\t 14/11/2021\n",
      "ex6-7.ipynb \t1KB\t ipynb\t 14/11/2021\n",
      "chap5 \t\t\t<DIR>\t 14/11/2021\n",
      "ex6-1.ipynb \t0KB\t ipynb\t 14/11/2021\n"
     ]
    }
   ],
   "source": [
    "import os\n",
    "from datetime import datetime\n",
    "\n",
    "path = os.getcwd()\n",
    "\n",
    "for entry in os.scandir(path):\n",
    "    info = entry.stat()\n",
    "    da = datetime.utcfromtimestamp(info.st_mtime)\n",
    "    dstr = da.strftime('%d/%m/%Y')\n",
    "    if entry.is_file():\n",
    "        size = int(os.path.getsize(entry.name)/1024)\n",
    "        ext = os.path.splitext(entry.name)\n",
    "        print(entry.name, '\\t'+str(size)+'KB\\t', str(ext[-1].replace('.', ''))+'\\t', dstr)\n",
    "    elif entry.is_dir():\n",
    "        print(entry.name, '\\t\\t\\t<DIR>\\t', dstr)"
   ]
  },
  {
   "cell_type": "code",
   "execution_count": null,
   "id": "5587dc9c",
   "metadata": {},
   "outputs": [],
   "source": []
  }
 ],
 "metadata": {
  "kernelspec": {
   "display_name": "Python 3",
   "language": "python",
   "name": "python3"
  },
  "language_info": {
   "codemirror_mode": {
    "name": "ipython",
    "version": 3
   },
   "file_extension": ".py",
   "mimetype": "text/x-python",
   "name": "python",
   "nbconvert_exporter": "python",
   "pygments_lexer": "ipython3",
   "version": "3.8.8"
  }
 },
 "nbformat": 4,
 "nbformat_minor": 5
}
