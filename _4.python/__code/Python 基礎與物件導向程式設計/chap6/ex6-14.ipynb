{
 "cells": [
  {
   "cell_type": "code",
   "execution_count": 1,
   "id": "ca05f707",
   "metadata": {},
   "outputs": [
    {
     "name": "stdout",
     "output_type": "stream",
     "text": [
      "b'BM'\n",
      "file size = 1161270 bytes\n",
      "image dimension = 756 x 512\n",
      "image planes = 1\n",
      "bits per pixel = 24\n"
     ]
    }
   ],
   "source": [
    "# BMP parser\n",
    "def b4_2_int(bytes1):\n",
    "    return (bytes1[0] | bytes1[1]<<8 | bytes1[2]<<16 | bytes1[3]<<24)\n",
    "\n",
    "def b2_2_int(bytes1):\n",
    "    return (bytes1[0] | bytes1[1]<<8)\n",
    "\n",
    "infname = 'Medrust3.bmp'\n",
    "infile = open(infname, 'rb')\n",
    "\n",
    "# 'B' 'M'\n",
    "b2 = infile.read(2)\n",
    "print(b2)\n",
    "b4 = infile.read(4)\n",
    "size = b4_2_int(b4)\n",
    "print('file size =', size, 'bytes')\n",
    "infile.read(4)\n",
    "infile.read(4)\n",
    "infile.read(4)\n",
    "width = b4_2_int(infile.read(4))\n",
    "height = b4_2_int(infile.read(4))\n",
    "print('image dimension =', width, 'x', height)\n",
    "planes = b2_2_int(infile.read(2))\n",
    "print('image planes =', planes)\n",
    "bitsPerPixel = b2_2_int(infile.read(2))\n",
    "print('bits per pixel =', bitsPerPixel)\n",
    "\n",
    "infile.close()"
   ]
  },
  {
   "cell_type": "code",
   "execution_count": null,
   "id": "59bc659f",
   "metadata": {},
   "outputs": [],
   "source": []
  }
 ],
 "metadata": {
  "kernelspec": {
   "display_name": "Python 3",
   "language": "python",
   "name": "python3"
  },
  "language_info": {
   "codemirror_mode": {
    "name": "ipython",
    "version": 3
   },
   "file_extension": ".py",
   "mimetype": "text/x-python",
   "name": "python",
   "nbconvert_exporter": "python",
   "pygments_lexer": "ipython3",
   "version": "3.8.8"
  }
 },
 "nbformat": 4,
 "nbformat_minor": 5
}
