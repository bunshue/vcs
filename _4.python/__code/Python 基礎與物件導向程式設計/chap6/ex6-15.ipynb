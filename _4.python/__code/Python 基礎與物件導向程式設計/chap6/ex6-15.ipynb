{
 "cells": [
  {
   "cell_type": "code",
   "execution_count": 1,
   "id": "5c095aa4",
   "metadata": {},
   "outputs": [],
   "source": [
    "bytestr1 = b'This is a byte string'\n",
    "int1 = 65\n",
    "float1 = 3.14\n",
    "int2s = [1, 2, 3]\n",
    "\n",
    "outfname = 'test.bin'\n",
    "outfile = open(outfname, 'wb')\n",
    "\n",
    "outfile.write(bytestr1)\n",
    "bint1 = int1.to_bytes(4, byteorder='big')\n",
    "outfile.write(bint1)\n",
    "bfloat1 = bytes(float1.hex(), 'utf-8')\n",
    "outfile.write(bfloat1)\n",
    "outfile.write(bytearray(int2s))\n",
    "\n",
    "outfile.close()"
   ]
  },
  {
   "cell_type": "code",
   "execution_count": null,
   "id": "8f3626c7",
   "metadata": {},
   "outputs": [],
   "source": []
  }
 ],
 "metadata": {
  "kernelspec": {
   "display_name": "Python 3",
   "language": "python",
   "name": "python3"
  },
  "language_info": {
   "codemirror_mode": {
    "name": "ipython",
    "version": 3
   },
   "file_extension": ".py",
   "mimetype": "text/x-python",
   "name": "python",
   "nbconvert_exporter": "python",
   "pygments_lexer": "ipython3",
   "version": "3.8.8"
  }
 },
 "nbformat": 4,
 "nbformat_minor": 5
}
