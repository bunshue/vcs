{
 "cells": [
  {
   "cell_type": "code",
   "execution_count": null,
   "id": "51a8d24e",
   "metadata": {},
   "outputs": [],
   "source": [
    "import os\n",
    "\n",
    "print('Current dir:', os.getcwd())\n",
    "\n",
    "count = 0\n",
    "for item in os.listdir():\n",
    "    count += 1\n",
    "    print(count, item)\n",
    "print('Total', count, 'items in', os.getcwd())"
   ]
  }
 ],
 "metadata": {
  "kernelspec": {
   "display_name": "Python 3",
   "language": "python",
   "name": "python3"
  },
  "language_info": {
   "codemirror_mode": {
    "name": "ipython",
    "version": 3
   },
   "file_extension": ".py",
   "mimetype": "text/x-python",
   "name": "python",
   "nbconvert_exporter": "python",
   "pygments_lexer": "ipython3",
   "version": "3.8.8"
  }
 },
 "nbformat": 4,
 "nbformat_minor": 5
}
