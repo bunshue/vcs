{
 "cells": [
  {
   "cell_type": "code",
   "execution_count": null,
   "id": "811241f3",
   "metadata": {},
   "outputs": [],
   "source": [
    "import os\n",
    "\n",
    "path = '/opt'\n",
    "subdir = 'idea'\n",
    "# 注意！path2不一定存在\n",
    "path2 = os.path.join(path, subdir)\n",
    "print(path2)\n",
    "print('real folder?', os.path.isdir(path2))\n",
    "print('exists?', os.path.exists(path2))\n",
    "\n",
    "subdir2 = 'noname'\n",
    "path3 = os.path.join(path, subdir2)\n",
    "print(path3)\n",
    "print('real folder?', os.path.isdir(path3))\n",
    "print('exists?', os.path.exists(path3))"
   ]
  }
 ],
 "metadata": {
  "kernelspec": {
   "display_name": "Python 3",
   "language": "python",
   "name": "python3"
  },
  "language_info": {
   "codemirror_mode": {
    "name": "ipython",
    "version": 3
   },
   "file_extension": ".py",
   "mimetype": "text/x-python",
   "name": "python",
   "nbconvert_exporter": "python",
   "pygments_lexer": "ipython3",
   "version": "3.8.8"
  }
 },
 "nbformat": 4,
 "nbformat_minor": 5
}
