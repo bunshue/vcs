{
 "cells": [
  {
   "cell_type": "code",
   "execution_count": null,
   "id": "bcbdf7df",
   "metadata": {},
   "outputs": [],
   "source": [
    "inf = open(\"myfile.jpg\", \"rb\")    # jpeg圖檔就是二進位檔案\n",
    "\n",
    "byte = inf.read(1)               # 一次讀一個byte\n",
    "while byte:\n",
    "    print(byte)\n",
    "    byte = inf.read(1)           # 繼續讀下一個byte\n",
    "\n",
    "inf.close()"
   ]
  }
 ],
 "metadata": {
  "kernelspec": {
   "display_name": "Python 3",
   "language": "python",
   "name": "python3"
  },
  "language_info": {
   "codemirror_mode": {
    "name": "ipython",
    "version": 3
   },
   "file_extension": ".py",
   "mimetype": "text/x-python",
   "name": "python",
   "nbconvert_exporter": "python",
   "pygments_lexer": "ipython3",
   "version": "3.8.8"
  }
 },
 "nbformat": 4,
 "nbformat_minor": 5
}
