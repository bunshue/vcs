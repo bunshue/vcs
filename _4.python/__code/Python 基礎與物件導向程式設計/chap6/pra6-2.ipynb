{
 "cells": [
  {
   "cell_type": "code",
   "execution_count": 1,
   "id": "e426c6e9",
   "metadata": {},
   "outputs": [
    {
     "name": "stdout",
     "output_type": "stream",
     "text": [
      "SortedNN.txt created\n"
     ]
    }
   ],
   "source": [
    "def distinctNN(n):\n",
    "    set1 = set()\n",
    "    for i in range(2, n+1):\n",
    "        for j in range(1, n+1):\n",
    "            set1.add(i*j)\n",
    "    return set1\n",
    "\n",
    "def doOutput(fname, outlist):\n",
    "    outfile = open(fname, 'w')\n",
    "    \n",
    "    count = 0\n",
    "    for num in outlist:\n",
    "        outfile.write(str(num)+' ')\n",
    "        count += 1\n",
    "        if count%5==0:\n",
    "            outfile.write('\\n')\n",
    "            \n",
    "    outfile.close()\n",
    "    print(fname+' created')\n",
    "\n",
    "setNN = distinctNN(19)\n",
    "list1 = sorted(list(setNN))\n",
    "#print(list1)\n",
    "outfname = 'SortedNN.txt'\n",
    "doOutput(outfname, list1)"
   ]
  },
  {
   "cell_type": "code",
   "execution_count": null,
   "id": "a8fa577c",
   "metadata": {},
   "outputs": [],
   "source": []
  }
 ],
 "metadata": {
  "kernelspec": {
   "display_name": "Python 3",
   "language": "python",
   "name": "python3"
  },
  "language_info": {
   "codemirror_mode": {
    "name": "ipython",
    "version": 3
   },
   "file_extension": ".py",
   "mimetype": "text/x-python",
   "name": "python",
   "nbconvert_exporter": "python",
   "pygments_lexer": "ipython3",
   "version": "3.8.8"
  }
 },
 "nbformat": 4,
 "nbformat_minor": 5
}
