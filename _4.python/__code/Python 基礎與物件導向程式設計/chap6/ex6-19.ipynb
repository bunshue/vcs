{
 "cells": [
  {
   "cell_type": "code",
   "execution_count": 1,
   "id": "409c0d23",
   "metadata": {},
   "outputs": [
    {
     "name": "stdout",
     "output_type": "stream",
     "text": [
      "b'\\xb8\\xad'\n",
      "b'\\xc8~'\n",
      "b'\\xe8\\x91\\x89'\n"
     ]
    }
   ],
   "source": [
    "str1 = '葉'\n",
    "\n",
    "print(str1.encode('big5'))     \n",
    "# 轉big-5編碼，b'\\xb8\\xad'\n",
    "\n",
    "print(str1.encode('gbk'))      \n",
    "# 轉bgk編碼，b'\\xc8~'\n",
    "\n",
    "print(str1.encode('utf-8'))    \n",
    "# 轉utf-8編碼，b'\\xe8\\x91\\x89'"
   ]
  },
  {
   "cell_type": "code",
   "execution_count": 2,
   "id": "232d556b",
   "metadata": {},
   "outputs": [
    {
     "name": "stdout",
     "output_type": "stream",
     "text": [
      "葉\n",
      "腑\n"
     ]
    },
    {
     "ename": "UnicodeDecodeError",
     "evalue": "'utf-8' codec can't decode byte 0xb8 in position 0: invalid start byte",
     "output_type": "error",
     "traceback": [
      "\u001b[0;31m---------------------------------------------------------------------------\u001b[0m",
      "\u001b[0;31mUnicodeDecodeError\u001b[0m                        Traceback (most recent call last)",
      "\u001b[0;32m<ipython-input-2-58163a34f2b2>\u001b[0m in \u001b[0;36m<module>\u001b[0;34m\u001b[0m\n\u001b[1;32m      7\u001b[0m \u001b[0;31m# 將bytes轉為gbk文字，'腑'\u001b[0m\u001b[0;34m\u001b[0m\u001b[0;34m\u001b[0m\u001b[0;34m\u001b[0m\u001b[0m\n\u001b[1;32m      8\u001b[0m \u001b[0;34m\u001b[0m\u001b[0m\n\u001b[0;32m----> 9\u001b[0;31m \u001b[0mprint\u001b[0m\u001b[0;34m(\u001b[0m\u001b[0mdata\u001b[0m\u001b[0;34m.\u001b[0m\u001b[0mdecode\u001b[0m\u001b[0;34m(\u001b[0m\u001b[0;34m'utf-8'\u001b[0m\u001b[0;34m)\u001b[0m\u001b[0;34m)\u001b[0m\u001b[0;34m\u001b[0m\u001b[0;34m\u001b[0m\u001b[0m\n\u001b[0m\u001b[1;32m     10\u001b[0m \u001b[0;31m# 將bytes轉為ytf-8文字，解碼規則無法解碼\u001b[0m\u001b[0;34m\u001b[0m\u001b[0;34m\u001b[0m\u001b[0;34m\u001b[0m\u001b[0m\n",
      "\u001b[0;31mUnicodeDecodeError\u001b[0m: 'utf-8' codec can't decode byte 0xb8 in position 0: invalid start byte"
     ]
    }
   ],
   "source": [
    "data = b'\\xB8\\xAD'\n",
    "\n",
    "print(data.decode('big5'))\n",
    "# 將bytes轉為big5文字，'葉'\n",
    "\n",
    "print(data.decode('gbk'))\n",
    "# 將bytes轉為gbk文字，'腑'\n",
    "\n",
    "print(data.decode('utf-8'))\n",
    "# 將bytes轉為ytf-8文字，解碼規則無法解碼"
   ]
  },
  {
   "cell_type": "code",
   "execution_count": null,
   "id": "7ba29848",
   "metadata": {},
   "outputs": [],
   "source": []
  }
 ],
 "metadata": {
  "kernelspec": {
   "display_name": "Python 3",
   "language": "python",
   "name": "python3"
  },
  "language_info": {
   "codemirror_mode": {
    "name": "ipython",
    "version": 3
   },
   "file_extension": ".py",
   "mimetype": "text/x-python",
   "name": "python",
   "nbconvert_exporter": "python",
   "pygments_lexer": "ipython3",
   "version": "3.8.8"
  }
 },
 "nbformat": 4,
 "nbformat_minor": 5
}
