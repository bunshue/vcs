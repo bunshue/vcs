{
 "cells": [
  {
   "cell_type": "code",
   "execution_count": null,
   "id": "2d9e52d0",
   "metadata": {},
   "outputs": [],
   "source": [
    "import os\n",
    "\n",
    "subdir1 = 'sub1'\n",
    "subdir2 = 'sub2/sub3'\n",
    "os.mkdir(subdir1)        # 如果'sub1'資料夾存在，失敗\n",
    "os.makedirs(subdir2)     # 如果'sub2/sub3'資料夾存在，失敗"
   ]
  }
 ],
 "metadata": {
  "kernelspec": {
   "display_name": "Python 3",
   "language": "python",
   "name": "python3"
  },
  "language_info": {
   "codemirror_mode": {
    "name": "ipython",
    "version": 3
   },
   "file_extension": ".py",
   "mimetype": "text/x-python",
   "name": "python",
   "nbconvert_exporter": "python",
   "pygments_lexer": "ipython3",
   "version": "3.8.8"
  }
 },
 "nbformat": 4,
 "nbformat_minor": 5
}
