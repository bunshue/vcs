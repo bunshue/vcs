{
 "cells": [
  {
   "cell_type": "code",
   "execution_count": 1,
   "id": "3dcc420e",
   "metadata": {},
   "outputs": [
    {
     "name": "stdout",
     "output_type": "stream",
     "text": [
      "b'wxyz'\n",
      "<class 'bytes'> <class 'int'>\n",
      "119 0x77\n",
      "True\n",
      "b'yz'\n"
     ]
    }
   ],
   "source": [
    "data = b'wxy\\x7a'\n",
    "print(data)               # b'wxyz'，以ASCII字元輸出\n",
    "\n",
    "print(type(data), type(data[0]))\n",
    "# <class 'bytes'>, <class 'int'>\n",
    "\n",
    "print(data[0], hex(data[0]))\n",
    "# 'w' ASCII碼119，十六進位'0x77'\n",
    "\n",
    "print(b'\\x7a' in data)    # 可以用 in 來判斷\n",
    "print(data[2:])           # 可以切片"
   ]
  },
  {
   "cell_type": "code",
   "execution_count": null,
   "id": "868fc1d3",
   "metadata": {},
   "outputs": [],
   "source": []
  }
 ],
 "metadata": {
  "kernelspec": {
   "display_name": "Python 3",
   "language": "python",
   "name": "python3"
  },
  "language_info": {
   "codemirror_mode": {
    "name": "ipython",
    "version": 3
   },
   "file_extension": ".py",
   "mimetype": "text/x-python",
   "name": "python",
   "nbconvert_exporter": "python",
   "pygments_lexer": "ipython3",
   "version": "3.8.8"
  }
 },
 "nbformat": 4,
 "nbformat_minor": 5
}
