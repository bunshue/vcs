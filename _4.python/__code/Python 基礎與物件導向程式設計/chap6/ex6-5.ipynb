{
 "cells": [
  {
   "cell_type": "code",
   "execution_count": null,
   "id": "17b98ab6",
   "metadata": {},
   "outputs": [],
   "source": [
    "import os\n",
    "\n",
    "subdir1 = 'sub1'\n",
    "subdir2 = 'newsub1'\n",
    "os.rename(subdir1, subdir2)\n",
    "\n",
    "fname1 = 'demo.txt'\n",
    "fname2 = 'demo2.txt'\n",
    "os.rename(fname1, fname2)"
   ]
  }
 ],
 "metadata": {
  "kernelspec": {
   "display_name": "Python 3",
   "language": "python",
   "name": "python3"
  },
  "language_info": {
   "codemirror_mode": {
    "name": "ipython",
    "version": 3
   },
   "file_extension": ".py",
   "mimetype": "text/x-python",
   "name": "python",
   "nbconvert_exporter": "python",
   "pygments_lexer": "ipython3",
   "version": "3.8.8"
  }
 },
 "nbformat": 4,
 "nbformat_minor": 5
}
