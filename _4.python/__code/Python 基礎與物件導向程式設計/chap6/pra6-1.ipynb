{
 "cells": [
  {
   "cell_type": "code",
   "execution_count": 1,
   "id": "74b58f7e",
   "metadata": {},
   "outputs": [
    {
     "name": "stdout",
     "output_type": "stream",
     "text": [
      "total 4154 lines\n"
     ]
    }
   ],
   "source": [
    "infname = 'RnJ.txt'\n",
    "infile = open(infname, 'r')\n",
    "\n",
    "count = 0\n",
    "for line in infile:\n",
    "    str1 = line.strip()\n",
    "    if len(str1)>0:\n",
    "        count += 1\n",
    "\n",
    "print('total', count, 'lines')\n",
    "infile.close()"
   ]
  },
  {
   "cell_type": "code",
   "execution_count": null,
   "id": "4136dc4e",
   "metadata": {},
   "outputs": [],
   "source": []
  }
 ],
 "metadata": {
  "kernelspec": {
   "display_name": "Python 3",
   "language": "python",
   "name": "python3"
  },
  "language_info": {
   "codemirror_mode": {
    "name": "ipython",
    "version": 3
   },
   "file_extension": ".py",
   "mimetype": "text/x-python",
   "name": "python",
   "nbconvert_exporter": "python",
   "pygments_lexer": "ipython3",
   "version": "3.8.8"
  }
 },
 "nbformat": 4,
 "nbformat_minor": 5
}
