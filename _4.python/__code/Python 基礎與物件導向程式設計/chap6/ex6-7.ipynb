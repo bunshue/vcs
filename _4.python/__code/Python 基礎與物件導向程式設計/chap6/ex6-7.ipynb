{
 "cells": [
  {
   "cell_type": "code",
   "execution_count": 2,
   "id": "fd2ccfac",
   "metadata": {},
   "outputs": [
    {
     "name": "stdout",
     "output_type": "stream",
     "text": [
      "+--idea\n",
      "   +--redist\n",
      "   +--license\n",
      "   +--jbr\n",
      "   +--plugins\n",
      "   +--lib\n",
      "   +--bin\n"
     ]
    }
   ],
   "source": [
    "import os\n",
    "\n",
    "def dirTree(path, level=0):\n",
    "    if level>1:\n",
    "        return\n",
    "    for item in os.listdir(path):\n",
    "        path2 = os.path.join(path, item)\n",
    "        if os.path.isdir(path2):\n",
    "            for i in range(level):\n",
    "                print('   ', end='')\n",
    "            print('+--'+item)\n",
    "            try:\n",
    "                dirTree(path2, level+1)\n",
    "            except:\n",
    "                pass\n",
    "\n",
    "basePath = '/opt/'\n",
    "dirTree(basePath)"
   ]
  },
  {
   "cell_type": "code",
   "execution_count": null,
   "id": "a8826c40",
   "metadata": {},
   "outputs": [],
   "source": []
  }
 ],
 "metadata": {
  "kernelspec": {
   "display_name": "Python 3",
   "language": "python",
   "name": "python3"
  },
  "language_info": {
   "codemirror_mode": {
    "name": "ipython",
    "version": 3
   },
   "file_extension": ".py",
   "mimetype": "text/x-python",
   "name": "python",
   "nbconvert_exporter": "python",
   "pygments_lexer": "ipython3",
   "version": "3.8.8"
  }
 },
 "nbformat": 4,
 "nbformat_minor": 5
}
