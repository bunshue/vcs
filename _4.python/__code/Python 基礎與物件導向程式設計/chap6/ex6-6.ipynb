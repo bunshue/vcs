{
 "cells": [
  {
   "cell_type": "code",
   "execution_count": null,
   "id": "3266c19a",
   "metadata": {},
   "outputs": [],
   "source": [
    "import os\n",
    "from datetime import datetime\n",
    "\n",
    "path = '/opt/'\n",
    "for entry in os.scandir(path):\n",
    "    info = entry.stat()\n",
    "    # epoch timestamp轉換成日期字串\n",
    "    da = datetime.utcfromtimestamp(info.st_mtime)\n",
    "    dstr = da.strftime('%Y/%m/%d')\n",
    "    if entry.is_dir():\n",
    "        print('資料夾：', entry.name, '最後存取時間：', dstr)\n",
    "    elif entry.is_file():\n",
    "        print('檔案：', entry.name, '最後存取時間：', dstr)"
   ]
  }
 ],
 "metadata": {
  "kernelspec": {
   "display_name": "Python 3",
   "language": "python",
   "name": "python3"
  },
  "language_info": {
   "codemirror_mode": {
    "name": "ipython",
    "version": 3
   },
   "file_extension": ".py",
   "mimetype": "text/x-python",
   "name": "python",
   "nbconvert_exporter": "python",
   "pygments_lexer": "ipython3",
   "version": "3.8.8"
  }
 },
 "nbformat": 4,
 "nbformat_minor": 5
}
