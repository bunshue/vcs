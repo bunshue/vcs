{
 "cells": [
  {
   "cell_type": "code",
   "execution_count": 1,
   "id": "0b876f5b",
   "metadata": {},
   "outputs": [
    {
     "name": "stdout",
     "output_type": "stream",
     "text": [
      "Enter a:36\n",
      "Enter b:0\n",
      "Can't divide by zero\n",
      "division by zero\n"
     ]
    }
   ],
   "source": [
    "try:\n",
    "    a = int(input(\"Enter a:\"))\n",
    "    b = int(input(\"Enter b:\"))\n",
    "    c = a/b\n",
    "    print(\"a/b = %d\"%c)\n",
    "# 取出例外物件，指定給變數e\n",
    "except Exception as e:\n",
    "    print(\"Can't divide by zero\")\n",
    "    print(e)\n",
    "else:\n",
    "    print(\"Hi I am else block\")"
   ]
  },
  {
   "cell_type": "code",
   "execution_count": null,
   "id": "ef76aba5",
   "metadata": {},
   "outputs": [],
   "source": []
  }
 ],
 "metadata": {
  "kernelspec": {
   "display_name": "Python 3",
   "language": "python",
   "name": "python3"
  },
  "language_info": {
   "codemirror_mode": {
    "name": "ipython",
    "version": 3
   },
   "file_extension": ".py",
   "mimetype": "text/x-python",
   "name": "python",
   "nbconvert_exporter": "python",
   "pygments_lexer": "ipython3",
   "version": "3.8.8"
  }
 },
 "nbformat": 4,
 "nbformat_minor": 5
}
