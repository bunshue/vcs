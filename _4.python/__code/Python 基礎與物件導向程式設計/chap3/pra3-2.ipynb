{
 "cells": [
  {
   "cell_type": "code",
   "execution_count": 1,
   "id": "03d078ce",
   "metadata": {},
   "outputs": [
    {
     "name": "stdout",
     "output_type": "stream",
     "text": [
      "請輸入數字：6\n",
      "此數為偶數\n"
     ]
    }
   ],
   "source": [
    "num = int(input(\"請輸入數字：\"))  \n",
    "if num%2 == 0:  \n",
    "    print(\"此數為偶數\")  \n",
    "else:\n",
    "    print(\"此數是奇數\")"
   ]
  },
  {
   "cell_type": "code",
   "execution_count": null,
   "id": "bf13984c",
   "metadata": {},
   "outputs": [],
   "source": []
  }
 ],
 "metadata": {
  "kernelspec": {
   "display_name": "Python 3",
   "language": "python",
   "name": "python3"
  },
  "language_info": {
   "codemirror_mode": {
    "name": "ipython",
    "version": 3
   },
   "file_extension": ".py",
   "mimetype": "text/x-python",
   "name": "python",
   "nbconvert_exporter": "python",
   "pygments_lexer": "ipython3",
   "version": "3.8.8"
  }
 },
 "nbformat": 4,
 "nbformat_minor": 5
}
