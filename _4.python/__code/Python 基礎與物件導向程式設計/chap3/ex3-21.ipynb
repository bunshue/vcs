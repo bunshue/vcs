{
 "cells": [
  {
   "cell_type": "code",
   "execution_count": 1,
   "id": "b3ab6172",
   "metadata": {},
   "outputs": [
    {
     "name": "stdout",
     "output_type": "stream",
     "text": [
      "printing the passed arguments...\n",
      "John\n",
      "David\n",
      "Smith\n",
      "Nick\n"
     ]
    }
   ],
   "source": [
    "# 定義自訂的函數 \n",
    "def printme(*names):   \n",
    "    print(\"printing the passed arguments...\")    \n",
    "    for name in names:    \n",
    "        print(name)   \n",
    "\n",
    "printme(\"John\", \"David\", \"Smith\", \"Nick\")"
   ]
  },
  {
   "cell_type": "code",
   "execution_count": null,
   "id": "98cff4a6",
   "metadata": {},
   "outputs": [],
   "source": []
  }
 ],
 "metadata": {
  "kernelspec": {
   "display_name": "Python 3",
   "language": "python",
   "name": "python3"
  },
  "language_info": {
   "codemirror_mode": {
    "name": "ipython",
    "version": 3
   },
   "file_extension": ".py",
   "mimetype": "text/x-python",
   "name": "python",
   "nbconvert_exporter": "python",
   "pygments_lexer": "ipython3",
   "version": "3.8.8"
  }
 },
 "nbformat": 4,
 "nbformat_minor": 5
}
