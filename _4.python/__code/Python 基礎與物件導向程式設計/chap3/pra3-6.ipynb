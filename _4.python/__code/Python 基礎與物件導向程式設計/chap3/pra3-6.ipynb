{
 "cells": [
  {
   "cell_type": "code",
   "execution_count": 1,
   "id": "0ea3928e",
   "metadata": {},
   "outputs": [
    {
     "name": "stdout",
     "output_type": "stream",
     "text": [
      "請輸入長方形的其中一邊：4\n",
      "請輸入長方形的另一邊：5\n",
      "長方形週長 =  18\n",
      "長方形面積 =  20\n"
     ]
    }
   ],
   "source": [
    "# 定義自訂的函數\n",
    "def my_function(a, b):\n",
    "    c = 2*(a+b)\n",
    "    d = a*b\n",
    "    return c, d\n",
    "\n",
    "# 呼叫自訂的函數\n",
    "x = int(input('請輸入長方形的其中一邊：'))\n",
    "y = int(input('請輸入長方形的另一邊：'))\n",
    "p, a = my_function(x, y)\n",
    "print('長方形週長 = ', p)\n",
    "print('長方形面積 = ', a)"
   ]
  },
  {
   "cell_type": "code",
   "execution_count": null,
   "id": "3bc0dfba",
   "metadata": {},
   "outputs": [],
   "source": []
  }
 ],
 "metadata": {
  "kernelspec": {
   "display_name": "Python 3",
   "language": "python",
   "name": "python3"
  },
  "language_info": {
   "codemirror_mode": {
    "name": "ipython",
    "version": 3
   },
   "file_extension": ".py",
   "mimetype": "text/x-python",
   "name": "python",
   "nbconvert_exporter": "python",
   "pygments_lexer": "ipython3",
   "version": "3.8.8"
  }
 },
 "nbformat": 4,
 "nbformat_minor": 5
}
