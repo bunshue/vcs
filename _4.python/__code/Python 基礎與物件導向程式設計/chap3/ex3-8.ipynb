{
 "cells": [
  {
   "cell_type": "code",
   "execution_count": 1,
   "id": "64cd4822",
   "metadata": {},
   "outputs": [
    {
     "name": "stdout",
     "output_type": "stream",
     "text": [
      "請輸入數字：12\n",
      "倒數給你看！\n",
      "12\n",
      "11\n",
      "10\n",
      "9\n",
      "8\n",
      "7\n",
      "6\n",
      "5\n",
      "4\n",
      "3\n",
      "2\n",
      "1\n",
      "0\n",
      "數完啦！\n"
     ]
    }
   ],
   "source": [
    "num = int(input('請輸入數字：'))\n",
    "print('倒數給你看！')\n",
    "while (num >= 0):\n",
    "    print(num)\n",
    "    num -= 1\n",
    "print('數完啦！')"
   ]
  },
  {
   "cell_type": "code",
   "execution_count": null,
   "id": "c0a8c077",
   "metadata": {},
   "outputs": [],
   "source": []
  }
 ],
 "metadata": {
  "kernelspec": {
   "display_name": "Python 3",
   "language": "python",
   "name": "python3"
  },
  "language_info": {
   "codemirror_mode": {
    "name": "ipython",
    "version": 3
   },
   "file_extension": ".py",
   "mimetype": "text/x-python",
   "name": "python",
   "nbconvert_exporter": "python",
   "pygments_lexer": "ipython3",
   "version": "3.8.8"
  }
 },
 "nbformat": 4,
 "nbformat_minor": 5
}
