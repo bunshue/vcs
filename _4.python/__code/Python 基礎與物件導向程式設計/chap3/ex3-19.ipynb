{
 "cells": [
  {
   "cell_type": "code",
   "execution_count": 1,
   "id": "772b9fcf",
   "metadata": {},
   "outputs": [
    {
     "data": {
      "text/plain": [
       "2"
      ]
     },
     "execution_count": 1,
     "metadata": {},
     "output_type": "execute_result"
    }
   ],
   "source": [
    "# 定義自訂的函數 \n",
    "def calculate(a, b):    \n",
    "    return a-b\n",
    "\n",
    "calculate(10, 8)       # a=10, b=8\n",
    "calculate(b=8, a=10)   # 硬是指定參數的值"
   ]
  },
  {
   "cell_type": "code",
   "execution_count": null,
   "id": "2f9578d4",
   "metadata": {},
   "outputs": [],
   "source": []
  }
 ],
 "metadata": {
  "kernelspec": {
   "display_name": "Python 3",
   "language": "python",
   "name": "python3"
  },
  "language_info": {
   "codemirror_mode": {
    "name": "ipython",
    "version": 3
   },
   "file_extension": ".py",
   "mimetype": "text/x-python",
   "name": "python",
   "nbconvert_exporter": "python",
   "pygments_lexer": "ipython3",
   "version": "3.8.8"
  }
 },
 "nbformat": 4,
 "nbformat_minor": 5
}
