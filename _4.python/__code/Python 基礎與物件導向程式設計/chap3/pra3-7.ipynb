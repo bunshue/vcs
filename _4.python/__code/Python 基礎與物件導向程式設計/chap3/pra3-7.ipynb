{
 "cells": [
  {
   "cell_type": "code",
   "execution_count": 1,
   "id": "2c4c1560",
   "metadata": {},
   "outputs": [
    {
     "name": "stdout",
     "output_type": "stream",
     "text": [
      "[30, 60, 100, 97]\n"
     ]
    }
   ],
   "source": [
    "# 定義自訂的函數 \n",
    "def adjust_scores(scores):\n",
    "    index = 0\n",
    "    for score in scores:\n",
    "        scores[index] = score+20 if score<80 else 100\n",
    "        index += 1\n",
    "\n",
    "scores = [10, 40, 96, 77]\n",
    "adjust_scores(scores)\n",
    "print(scores)"
   ]
  },
  {
   "cell_type": "code",
   "execution_count": null,
   "id": "af255942",
   "metadata": {},
   "outputs": [],
   "source": []
  }
 ],
 "metadata": {
  "kernelspec": {
   "display_name": "Python 3",
   "language": "python",
   "name": "python3"
  },
  "language_info": {
   "codemirror_mode": {
    "name": "ipython",
    "version": 3
   },
   "file_extension": ".py",
   "mimetype": "text/x-python",
   "name": "python",
   "nbconvert_exporter": "python",
   "pygments_lexer": "ipython3",
   "version": "3.8.8"
  }
 },
 "nbformat": 4,
 "nbformat_minor": 5
}
