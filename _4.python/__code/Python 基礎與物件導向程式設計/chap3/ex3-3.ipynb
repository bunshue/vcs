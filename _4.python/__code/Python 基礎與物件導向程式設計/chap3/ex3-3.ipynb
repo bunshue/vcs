{
 "cells": [
  {
   "cell_type": "code",
   "execution_count": 1,
   "id": "6d808eb8",
   "metadata": {},
   "outputs": [
    {
     "name": "stdout",
     "output_type": "stream",
     "text": [
      "Enter the number?75\n",
      "number is not equal to 10, 50 or 100\n"
     ]
    }
   ],
   "source": [
    "number = int(input(\"Enter the number?\"))  \n",
    "if number==10:  \n",
    "    print(\"number is equals to 10\")  \n",
    "elif number==50:  \n",
    "    print(\"number is equal to 50\")\n",
    "elif number==100:  \n",
    "    print(\"number is equal to 100\") \n",
    "else:  \n",
    "    print(\"number is not equal to 10, 50 or 100\") "
   ]
  },
  {
   "cell_type": "code",
   "execution_count": null,
   "id": "1c0ee107",
   "metadata": {},
   "outputs": [],
   "source": []
  }
 ],
 "metadata": {
  "kernelspec": {
   "display_name": "Python 3",
   "language": "python",
   "name": "python3"
  },
  "language_info": {
   "codemirror_mode": {
    "name": "ipython",
    "version": 3
   },
   "file_extension": ".py",
   "mimetype": "text/x-python",
   "name": "python",
   "nbconvert_exporter": "python",
   "pygments_lexer": "ipython3",
   "version": "3.8.8"
  }
 },
 "nbformat": 4,
 "nbformat_minor": 5
}
