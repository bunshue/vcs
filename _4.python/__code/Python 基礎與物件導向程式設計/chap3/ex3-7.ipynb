{
 "cells": [
  {
   "cell_type": "code",
   "execution_count": 3,
   "id": "c19353a1",
   "metadata": {},
   "outputs": [
    {
     "name": "stdout",
     "output_type": "stream",
     "text": [
      "P\n",
      "y\n",
      "t\n",
      "h\n",
      "o\n",
      "n\n",
      "5\n",
      "10\n",
      "20\n",
      "25\n",
      "40\n",
      "65\n"
     ]
    }
   ],
   "source": [
    "str1 = \"Python\"  \n",
    "for i in str1:  \n",
    "    print(i) \n",
    "\n",
    "# 再來一個\n",
    "list1 = [1, 2, 4, 5, 8, 13]  \n",
    "n = 5  \n",
    "for i in list1:  \n",
    "    c = n*i  \n",
    "    print(c)"
   ]
  },
  {
   "cell_type": "code",
   "execution_count": null,
   "id": "071e30cb",
   "metadata": {},
   "outputs": [],
   "source": []
  }
 ],
 "metadata": {
  "kernelspec": {
   "display_name": "Python 3",
   "language": "python",
   "name": "python3"
  },
  "language_info": {
   "codemirror_mode": {
    "name": "ipython",
    "version": 3
   },
   "file_extension": ".py",
   "mimetype": "text/x-python",
   "name": "python",
   "nbconvert_exporter": "python",
   "pygments_lexer": "ipython3",
   "version": "3.8.8"
  }
 },
 "nbformat": 4,
 "nbformat_minor": 5
}
