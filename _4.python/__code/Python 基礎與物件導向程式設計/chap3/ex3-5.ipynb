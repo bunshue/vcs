{
 "cells": [
  {
   "cell_type": "code",
   "execution_count": null,
   "id": "a3c120bf",
   "metadata": {},
   "outputs": [],
   "source": [
    "flag = True if x.isClick() else False\n",
    "\n",
    "# 等同於\n",
    "\n",
    "if x.isClick():\n",
    "    flag = True\n",
    "else:\n",
    "    flag = False"
   ]
  }
 ],
 "metadata": {
  "kernelspec": {
   "display_name": "Python 3",
   "language": "python",
   "name": "python3"
  },
  "language_info": {
   "codemirror_mode": {
    "name": "ipython",
    "version": 3
   },
   "file_extension": ".py",
   "mimetype": "text/x-python",
   "name": "python",
   "nbconvert_exporter": "python",
   "pygments_lexer": "ipython3",
   "version": "3.8.8"
  }
 },
 "nbformat": 4,
 "nbformat_minor": 5
}
