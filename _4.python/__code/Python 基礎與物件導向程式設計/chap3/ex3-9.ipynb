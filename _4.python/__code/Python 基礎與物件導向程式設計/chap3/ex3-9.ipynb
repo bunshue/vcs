{
 "cells": [
  {
   "cell_type": "code",
   "execution_count": 1,
   "id": "6b39bd8f",
   "metadata": {},
   "outputs": [
    {
     "name": "stdout",
     "output_type": "stream",
     "text": [
      "1\n",
      "2\n",
      "3\n",
      "4\n",
      "5\n",
      "The while loop exhausted\n"
     ]
    }
   ],
   "source": [
    "i = 1   \n",
    "while i <= 5:    \n",
    "    print(i)    \n",
    "    i=i+1    \n",
    "else:\n",
    "    print(\"The while loop exhausted\")   "
   ]
  },
  {
   "cell_type": "code",
   "execution_count": null,
   "id": "87c91fdd",
   "metadata": {},
   "outputs": [],
   "source": []
  }
 ],
 "metadata": {
  "kernelspec": {
   "display_name": "Python 3",
   "language": "python",
   "name": "python3"
  },
  "language_info": {
   "codemirror_mode": {
    "name": "ipython",
    "version": 3
   },
   "file_extension": ".py",
   "mimetype": "text/x-python",
   "name": "python",
   "nbconvert_exporter": "python",
   "pygments_lexer": "ipython3",
   "version": "3.8.8"
  }
 },
 "nbformat": 4,
 "nbformat_minor": 5
}
