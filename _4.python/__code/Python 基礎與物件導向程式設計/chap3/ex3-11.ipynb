{
 "cells": [
  {
   "cell_type": "code",
   "execution_count": 1,
   "id": "2ccf4f2d",
   "metadata": {},
   "outputs": [
    {
     "name": "stdout",
     "output_type": "stream",
     "text": [
      "item matched\n",
      "found at 2 location\n"
     ]
    }
   ],
   "source": [
    "list1 =[1,2,3,4]  \n",
    "index = 1;  \n",
    "for i in list1:  \n",
    "    if i == 4:  \n",
    "        print(\"item matched\")  \n",
    "        index = index + 1  \n",
    "        break  \n",
    "print(\"found at\", index, \"location\")"
   ]
  },
  {
   "cell_type": "code",
   "execution_count": null,
   "id": "e63e3aaa",
   "metadata": {},
   "outputs": [],
   "source": []
  }
 ],
 "metadata": {
  "kernelspec": {
   "display_name": "Python 3",
   "language": "python",
   "name": "python3"
  },
  "language_info": {
   "codemirror_mode": {
    "name": "ipython",
    "version": 3
   },
   "file_extension": ".py",
   "mimetype": "text/x-python",
   "name": "python",
   "nbconvert_exporter": "python",
   "pygments_lexer": "ipython3",
   "version": "3.8.8"
  }
 },
 "nbformat": 4,
 "nbformat_minor": 5
}
