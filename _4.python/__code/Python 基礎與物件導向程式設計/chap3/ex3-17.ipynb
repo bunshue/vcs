{
 "cells": [
  {
   "cell_type": "code",
   "execution_count": 1,
   "id": "a8cee3c4",
   "metadata": {},
   "outputs": [
    {
     "name": "stdout",
     "output_type": "stream",
     "text": [
      "printing the string inside function : Hi I am there Hows you \n",
      "printing the string outside function : Hi I am there\n"
     ]
    }
   ],
   "source": [
    "# 定義自訂的函數   \n",
    "def change_string(str1):    \n",
    "    str1 = str1 + \" Hows you \"  \n",
    "    print(\"printing the string inside function :\", str1)  \n",
    "\n",
    "# 建立一個字串  \n",
    "string1 = \"Hi I am there\"    \n",
    "# 呼叫自訂的函數，傳入字串 \n",
    "change_string(string1) \n",
    "# 字串內容有變嗎？沒有！\n",
    "print(\"printing the string outside function :\", string1)    "
   ]
  },
  {
   "cell_type": "code",
   "execution_count": null,
   "id": "bb67ca40",
   "metadata": {},
   "outputs": [],
   "source": []
  }
 ],
 "metadata": {
  "kernelspec": {
   "display_name": "Python 3",
   "language": "python",
   "name": "python3"
  },
  "language_info": {
   "codemirror_mode": {
    "name": "ipython",
    "version": 3
   },
   "file_extension": ".py",
   "mimetype": "text/x-python",
   "name": "python",
   "nbconvert_exporter": "python",
   "pygments_lexer": "ipython3",
   "version": "3.8.8"
  }
 },
 "nbformat": 4,
 "nbformat_minor": 5
}
