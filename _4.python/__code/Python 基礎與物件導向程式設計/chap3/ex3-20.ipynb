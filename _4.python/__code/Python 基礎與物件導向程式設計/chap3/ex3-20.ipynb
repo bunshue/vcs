{
 "cells": [
  {
   "cell_type": "code",
   "execution_count": 1,
   "id": "f0f7227f",
   "metadata": {},
   "outputs": [
    {
     "data": {
      "text/plain": [
       "7"
      ]
     },
     "execution_count": 1,
     "metadata": {},
     "output_type": "execute_result"
    }
   ],
   "source": [
    "# 定義自訂的函數 \n",
    "def calculate(a, b=3):    \n",
    "    return a-b\n",
    "\n",
    "calculate(10, 8)       # 答案是2\n",
    "calculate(10)          # b使用預設值，答案是7"
   ]
  },
  {
   "cell_type": "code",
   "execution_count": null,
   "id": "355f2e13",
   "metadata": {},
   "outputs": [],
   "source": []
  }
 ],
 "metadata": {
  "kernelspec": {
   "display_name": "Python 3",
   "language": "python",
   "name": "python3"
  },
  "language_info": {
   "codemirror_mode": {
    "name": "ipython",
    "version": 3
   },
   "file_extension": ".py",
   "mimetype": "text/x-python",
   "name": "python",
   "nbconvert_exporter": "python",
   "pygments_lexer": "ipython3",
   "version": "3.8.8"
  }
 },
 "nbformat": 4,
 "nbformat_minor": 5
}
