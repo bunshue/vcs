{
 "cells": [
  {
   "cell_type": "code",
   "execution_count": 1,
   "id": "0a1eb59e",
   "metadata": {},
   "outputs": [
    {
     "name": "stdout",
     "output_type": "stream",
     "text": [
      "請輸入分數：35\n",
      "C級\n"
     ]
    }
   ],
   "source": [
    "score = int(input(\"請輸入分數：\"))  \n",
    "if score >= 85:  \n",
    "    print(\"恭喜！A級.\")  \n",
    "elif score >= 60 and score < 85:  \n",
    "    print(\"B+級\")  \n",
    "elif score >= 40 and score < 60:  \n",
    "    print(\"B級\")  \n",
    "elif score >= 30 and score < 40:  \n",
    "    print(\"C級\")  \n",
    "else:  \n",
    "    print(\"你怎麼會有這種分數？\")  "
   ]
  },
  {
   "cell_type": "code",
   "execution_count": null,
   "id": "0b2dd6ed",
   "metadata": {},
   "outputs": [],
   "source": []
  }
 ],
 "metadata": {
  "kernelspec": {
   "display_name": "Python 3",
   "language": "python",
   "name": "python3"
  },
  "language_info": {
   "codemirror_mode": {
    "name": "ipython",
    "version": 3
   },
   "file_extension": ".py",
   "mimetype": "text/x-python",
   "name": "python",
   "nbconvert_exporter": "python",
   "pygments_lexer": "ipython3",
   "version": "3.8.8"
  }
 },
 "nbformat": 4,
 "nbformat_minor": 5
}
