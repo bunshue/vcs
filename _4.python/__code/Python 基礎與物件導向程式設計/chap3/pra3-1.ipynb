{
 "cells": [
  {
   "cell_type": "code",
   "execution_count": 1,
   "id": "0290f130",
   "metadata": {},
   "outputs": [
    {
     "name": "stdout",
     "output_type": "stream",
     "text": [
      "請輸入a:3\n",
      "請輸入b:7\n",
      "請輸入c:2\n",
      "b最大\n"
     ]
    }
   ],
   "source": [
    "a = int(input(\"請輸入a:\"))\n",
    "b = int(input(\"請輸入b:\"))  \n",
    "c = int(input(\"請輸入c:\"))  \n",
    "if a>b and a>c:  \n",
    "    print(\"a最大\")  \n",
    "if b>a and b>c:  \n",
    "    print(\"b最大\")  \n",
    "if c>a and c>b:  \n",
    "    print(\"c最大\")  "
   ]
  },
  {
   "cell_type": "code",
   "execution_count": null,
   "id": "4071aa75",
   "metadata": {},
   "outputs": [],
   "source": []
  }
 ],
 "metadata": {
  "kernelspec": {
   "display_name": "Python 3",
   "language": "python",
   "name": "python3"
  },
  "language_info": {
   "codemirror_mode": {
    "name": "ipython",
    "version": 3
   },
   "file_extension": ".py",
   "mimetype": "text/x-python",
   "name": "python",
   "nbconvert_exporter": "python",
   "pygments_lexer": "ipython3",
   "version": "3.8.8"
  }
 },
 "nbformat": 4,
 "nbformat_minor": 5
}
