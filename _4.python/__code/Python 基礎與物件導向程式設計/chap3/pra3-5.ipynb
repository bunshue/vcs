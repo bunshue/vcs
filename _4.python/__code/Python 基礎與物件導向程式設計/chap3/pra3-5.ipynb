{
 "cells": [
  {
   "cell_type": "code",
   "execution_count": 1,
   "id": "135ee751",
   "metadata": {},
   "outputs": [
    {
     "name": "stdout",
     "output_type": "stream",
     "text": [
      "請輸入數字：123\n",
      "請輸入數字：45\n",
      "請輸入數字：1234\n",
      "結束\n"
     ]
    }
   ],
   "source": [
    "num = 0\n",
    "while num != 1234:\n",
    "    num = int(input('請輸入數字：'))\n",
    "print('結束')"
   ]
  },
  {
   "cell_type": "code",
   "execution_count": null,
   "id": "e7671cce",
   "metadata": {},
   "outputs": [],
   "source": []
  }
 ],
 "metadata": {
  "kernelspec": {
   "display_name": "Python 3",
   "language": "python",
   "name": "python3"
  },
  "language_info": {
   "codemirror_mode": {
    "name": "ipython",
    "version": 3
   },
   "file_extension": ".py",
   "mimetype": "text/x-python",
   "name": "python",
   "nbconvert_exporter": "python",
   "pygments_lexer": "ipython3",
   "version": "3.8.8"
  }
 },
 "nbformat": 4,
 "nbformat_minor": 5
}
