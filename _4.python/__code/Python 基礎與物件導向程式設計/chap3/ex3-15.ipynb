{
 "cells": [
  {
   "cell_type": "code",
   "execution_count": 1,
   "id": "e1248a43",
   "metadata": {},
   "outputs": [
    {
     "name": "stdout",
     "output_type": "stream",
     "text": [
      "5\n"
     ]
    }
   ],
   "source": [
    "# 定義自訂的函數\n",
    "def my_function(a, b):\n",
    "    c = (a+b)*(a-b)\n",
    "    return c\n",
    "\n",
    "# 呼叫自訂的函數\n",
    "x = my_function(3, 2)\n",
    "print(x)"
   ]
  },
  {
   "cell_type": "code",
   "execution_count": 2,
   "id": "27dab500",
   "metadata": {},
   "outputs": [
    {
     "name": "stdout",
     "output_type": "stream",
     "text": [
      "sum = 5\n",
      "diff = 1\n"
     ]
    }
   ],
   "source": [
    "# 定義自訂的函數\n",
    "def my_function(a, b):\n",
    "    c = a+b\n",
    "    d = a-b\n",
    "    return c, d\n",
    "\n",
    "# 呼叫自訂的函數\n",
    "x, y = my_function(3, 2)\n",
    "print(\"sum =\", x)\n",
    "print(\"diff =\", y)"
   ]
  },
  {
   "cell_type": "code",
   "execution_count": null,
   "id": "abd34de5",
   "metadata": {},
   "outputs": [],
   "source": []
  }
 ],
 "metadata": {
  "kernelspec": {
   "display_name": "Python 3",
   "language": "python",
   "name": "python3"
  },
  "language_info": {
   "codemirror_mode": {
    "name": "ipython",
    "version": 3
   },
   "file_extension": ".py",
   "mimetype": "text/x-python",
   "name": "python",
   "nbconvert_exporter": "python",
   "pygments_lexer": "ipython3",
   "version": "3.8.8"
  }
 },
 "nbformat": 4,
 "nbformat_minor": 5
}
