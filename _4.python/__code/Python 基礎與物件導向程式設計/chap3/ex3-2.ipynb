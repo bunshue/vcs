{
 "cells": [
  {
   "cell_type": "code",
   "execution_count": 1,
   "id": "ab2cf75a",
   "metadata": {},
   "outputs": [
    {
     "name": "stdout",
     "output_type": "stream",
     "text": [
      "Enter your age?16\n",
      "Sorry, you have to wait.\n"
     ]
    }
   ],
   "source": [
    "age = int (input(\"Enter your age?\"))  \n",
    "if age>=18:  \n",
    "    print(\"You are able to enter.\")\n",
    "else:  \n",
    "    print(\"Sorry, you have to wait.\")"
   ]
  },
  {
   "cell_type": "code",
   "execution_count": null,
   "id": "b0b45e12",
   "metadata": {},
   "outputs": [],
   "source": []
  }
 ],
 "metadata": {
  "kernelspec": {
   "display_name": "Python 3",
   "language": "python",
   "name": "python3"
  },
  "language_info": {
   "codemirror_mode": {
    "name": "ipython",
    "version": 3
   },
   "file_extension": ".py",
   "mimetype": "text/x-python",
   "name": "python",
   "nbconvert_exporter": "python",
   "pygments_lexer": "ipython3",
   "version": "3.8.8"
  }
 },
 "nbformat": 4,
 "nbformat_minor": 5
}
