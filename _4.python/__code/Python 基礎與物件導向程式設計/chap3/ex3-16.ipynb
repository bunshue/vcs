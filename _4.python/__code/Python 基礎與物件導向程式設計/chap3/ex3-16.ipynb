{
 "cells": [
  {
   "cell_type": "code",
   "execution_count": 1,
   "id": "c21eeb78",
   "metadata": {},
   "outputs": [
    {
     "name": "stdout",
     "output_type": "stream",
     "text": [
      "list inside function =  [10, 30, 40, 50, 20, 30]\n",
      "list outside function =  [10, 30, 40, 50, 20, 30]\n"
     ]
    }
   ],
   "source": [
    "# 定義自訂的函數   \n",
    "def change_list(list1):    \n",
    "    list1.append(20)   \n",
    "    list1.append(30)    \n",
    "    print(\"list inside function = \",list1)    \n",
    "        \n",
    "# 建立一個串列   \n",
    "list1 = [10, 30, 40, 50]      \n",
    "# 呼叫自訂的函數，傳入串列 \n",
    "change_list(list1)\n",
    "# 串列內容變了！\n",
    "print(\"list outside function = \",list1)"
   ]
  },
  {
   "cell_type": "code",
   "execution_count": null,
   "id": "bad205c2",
   "metadata": {},
   "outputs": [],
   "source": []
  }
 ],
 "metadata": {
  "kernelspec": {
   "display_name": "Python 3",
   "language": "python",
   "name": "python3"
  },
  "language_info": {
   "codemirror_mode": {
    "name": "ipython",
    "version": 3
   },
   "file_extension": ".py",
   "mimetype": "text/x-python",
   "name": "python",
   "nbconvert_exporter": "python",
   "pygments_lexer": "ipython3",
   "version": "3.8.8"
  }
 },
 "nbformat": 4,
 "nbformat_minor": 5
}
