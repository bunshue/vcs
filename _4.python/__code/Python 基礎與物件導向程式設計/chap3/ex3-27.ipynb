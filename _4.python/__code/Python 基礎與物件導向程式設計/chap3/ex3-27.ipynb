{
 "cells": [
  {
   "cell_type": "code",
   "execution_count": 1,
   "id": "2582bb06",
   "metadata": {},
   "outputs": [
    {
     "name": "stdout",
     "output_type": "stream",
     "text": [
      "You got exception\n"
     ]
    }
   ],
   "source": [
    "# 平行指定\n",
    "a,b = 1,0\n",
    "\n",
    "try:\n",
    "    print(a/b)\n",
    "    print(\"This won't be printed\")\n",
    "    print('10'+10)\n",
    "# 一次處理多種例外\n",
    "except (TypeError, ZeroDivisionError):\n",
    "    print(\"You got exception\")"
   ]
  },
  {
   "cell_type": "code",
   "execution_count": null,
   "id": "9d81815d",
   "metadata": {},
   "outputs": [],
   "source": []
  }
 ],
 "metadata": {
  "kernelspec": {
   "display_name": "Python 3",
   "language": "python",
   "name": "python3"
  },
  "language_info": {
   "codemirror_mode": {
    "name": "ipython",
    "version": 3
   },
   "file_extension": ".py",
   "mimetype": "text/x-python",
   "name": "python",
   "nbconvert_exporter": "python",
   "pygments_lexer": "ipython3",
   "version": "3.8.8"
  }
 },
 "nbformat": 4,
 "nbformat_minor": 5
}
