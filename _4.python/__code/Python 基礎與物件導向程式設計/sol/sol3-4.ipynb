{
 "cells": [
  {
   "cell_type": "code",
   "execution_count": 1,
   "id": "b976cb90",
   "metadata": {},
   "outputs": [
    {
     "name": "stdout",
     "output_type": "stream",
     "text": [
      "204 206 208 240 246 248 260 264 268 280 284 286 402 406 408 420 426 428 460 462 468 480 482 486 602 604 608 620 624 628 640 642 648 680 682 684 802 804 806 820 824 826 840 842 846 860 862 864 \n",
      "Total numbers found:  48\n"
     ]
    }
   ],
   "source": [
    "def count3():\n",
    "    # 可以使用的數字\n",
    "    nums = [0, 2, 4, 6, 8]\n",
    "    count = 0\n",
    "    for i in nums:\n",
    "        for j in nums:\n",
    "            for k in nums:\n",
    "                # 確認百位數i不為0，而且\n",
    "                # i, j, k三個數字都不相同\n",
    "                if i!=0 and i!=j and j!=k and k!=i:\n",
    "                    num = 100*i+10*j+k\n",
    "                    print(num, end=' ')\n",
    "                    count += 1\n",
    "    print('')\n",
    "    return count\n",
    "\n",
    "print('Total numbers found: ', count3())"
   ]
  },
  {
   "cell_type": "code",
   "execution_count": null,
   "id": "20dad801",
   "metadata": {},
   "outputs": [],
   "source": []
  }
 ],
 "metadata": {
  "kernelspec": {
   "display_name": "Python 3",
   "language": "python",
   "name": "python3"
  },
  "language_info": {
   "codemirror_mode": {
    "name": "ipython",
    "version": 3
   },
   "file_extension": ".py",
   "mimetype": "text/x-python",
   "name": "python",
   "nbconvert_exporter": "python",
   "pygments_lexer": "ipython3",
   "version": "3.8.8"
  }
 },
 "nbformat": 4,
 "nbformat_minor": 5
}
