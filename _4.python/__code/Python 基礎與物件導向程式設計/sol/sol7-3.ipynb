{
 "cells": [
  {
   "cell_type": "code",
   "execution_count": 1,
   "id": "ce2fe582",
   "metadata": {},
   "outputs": [
    {
     "name": "stdout",
     "output_type": "stream",
     "text": [
      "魯夫 學期成績： 40.0\n",
      "索隆 學期成績： 70.0\n",
      "香吉士 學期成績： 60.0\n"
     ]
    }
   ],
   "source": [
    "class Student:\n",
    "    # 建構式\n",
    "    def __init__(self, name, regid, tel, scores):\n",
    "        self._name = name\n",
    "        self._regid = regid\n",
    "        self._tel = tel\n",
    "        # 應該要輸入具有三個分數的串列，在此簡化不檢查\n",
    "        self._scores = scores\n",
    "        \n",
    "    @property\n",
    "    def name(self):\n",
    "        return self._name\n",
    "    \n",
    "    @property\n",
    "    def regid(self):\n",
    "        return self._regid\n",
    "    \n",
    "    @property\n",
    "    def tel(self):\n",
    "        return self._tel\n",
    "    \n",
    "    # 電話可以變更！\n",
    "    @tel.setter\n",
    "    def tel(self, v):\n",
    "        self._tel = v\n",
    "        \n",
    "    def getTermScore(self):\n",
    "        # 應該是具有三個分數的串列，在此簡化不檢查\n",
    "        return sum(self._scores)/len(self._scores)\n",
    "    \n",
    "stu1 = Student('魯夫', 'A12345678', '111-222333', [30, 40, 50])\n",
    "stu2 = Student('索隆', 'B45678912', '444-555666', [50, 70, 90])\n",
    "stu3 = Student('香吉士', 'Z78912345', '777-888999', [60, 60, 60])\n",
    "print(stu1.name, '學期成績：', stu1.getTermScore())\n",
    "print(stu2.name, '學期成績：', stu2.getTermScore())\n",
    "print(stu3.name, '學期成績：', stu3.getTermScore())"
   ]
  },
  {
   "cell_type": "code",
   "execution_count": null,
   "id": "efcd9d89",
   "metadata": {},
   "outputs": [],
   "source": []
  }
 ],
 "metadata": {
  "kernelspec": {
   "display_name": "Python 3",
   "language": "python",
   "name": "python3"
  },
  "language_info": {
   "codemirror_mode": {
    "name": "ipython",
    "version": 3
   },
   "file_extension": ".py",
   "mimetype": "text/x-python",
   "name": "python",
   "nbconvert_exporter": "python",
   "pygments_lexer": "ipython3",
   "version": "3.8.8"
  }
 },
 "nbformat": 4,
 "nbformat_minor": 5
}
