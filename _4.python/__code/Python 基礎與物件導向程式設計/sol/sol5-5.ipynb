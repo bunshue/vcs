{
 "cells": [
  {
   "cell_type": "code",
   "execution_count": 1,
   "id": "db572c59",
   "metadata": {},
   "outputs": [
    {
     "name": "stdout",
     "output_type": "stream",
     "text": [
      "{10: ['r'], 30: ['e'], 11: ['s'], 18: ['o'], 14: ['l', 'i'], 3: ['v', 'u'], 12: ['d', 'h'], 31: ['t'], 21: ['a'], 17: ['n'], 6: ['c', 'b'], 4: ['f'], 5: ['g'], 2: ['p', 'y', 'm', 'w']}\n"
     ]
    }
   ],
   "source": [
    "freqDict = {'r': 10, 'e': 30, 's': 11, 'o': 18, 'l': 14, \\\n",
    "            'v': 3, 'd': 12, 't': 31, 'h': 12, 'a': 21, \\\n",
    "            'u': 3, 'n': 17, 'i': 14, 'c': 6, 'f': 4, 'g': 5, \\\n",
    "            'b': 6, 'p': 2, 'y': 2, 'm': 2, 'w': 2}\n",
    "\n",
    "newDict = {}\n",
    "for k, v in freqDict.items():\n",
    "    alist = newDict.get(v, [])\n",
    "    alist.append(k)\n",
    "    newDict[v] = alist\n",
    "    \n",
    "print(newDict)"
   ]
  },
  {
   "cell_type": "code",
   "execution_count": null,
   "id": "6e8d9807",
   "metadata": {},
   "outputs": [],
   "source": []
  }
 ],
 "metadata": {
  "kernelspec": {
   "display_name": "Python 3",
   "language": "python",
   "name": "python3"
  },
  "language_info": {
   "codemirror_mode": {
    "name": "ipython",
    "version": 3
   },
   "file_extension": ".py",
   "mimetype": "text/x-python",
   "name": "python",
   "nbconvert_exporter": "python",
   "pygments_lexer": "ipython3",
   "version": "3.8.8"
  }
 },
 "nbformat": 4,
 "nbformat_minor": 5
}
