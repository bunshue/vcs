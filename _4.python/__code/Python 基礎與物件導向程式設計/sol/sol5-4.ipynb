{
 "cells": [
  {
   "cell_type": "code",
   "execution_count": 1,
   "id": "11cbf2fb",
   "metadata": {},
   "outputs": [
    {
     "name": "stdout",
     "output_type": "stream",
     "text": [
      "{2: 2, 3: 3, 4: 5, 6: 13, 10: 89, 12: 233, 16: 1597, 22: 28657, 28: 514229}\n"
     ]
    }
   ],
   "source": [
    "import math\n",
    "\n",
    "# 卻認n是否為質數，如果是，傳回True\n",
    "def isPrime(n):\n",
    "    bound = int(math.sqrt(n))\n",
    "    # 試除法要求從2數到bound來進行「試除」\n",
    "    for i in range(2, bound+1):\n",
    "        if n%i==0:\n",
    "            # 一發現不是質數，馬上果斷回False\n",
    "            return False\n",
    "    # 如果完全沒有發現任何因數，那就是質數啦！\n",
    "    return True\n",
    "\n",
    "# 費氏數列遞迴版\n",
    "def fib(n):\n",
    "    # 重要的中止條件\n",
    "    if n==0 or n==1:\n",
    "        return 1\n",
    "    return fib(n-1)+fib(n-2)\n",
    "\n",
    "pdic = {}\n",
    "for i in range(2, 30):\n",
    "    fibi = fib(i)\n",
    "    if isPrime(fibi):\n",
    "        pdic[i] = fibi\n",
    "\n",
    "print(pdic)"
   ]
  },
  {
   "cell_type": "code",
   "execution_count": null,
   "id": "f5e84d96",
   "metadata": {},
   "outputs": [],
   "source": []
  }
 ],
 "metadata": {
  "kernelspec": {
   "display_name": "Python 3",
   "language": "python",
   "name": "python3"
  },
  "language_info": {
   "codemirror_mode": {
    "name": "ipython",
    "version": 3
   },
   "file_extension": ".py",
   "mimetype": "text/x-python",
   "name": "python",
   "nbconvert_exporter": "python",
   "pygments_lexer": "ipython3",
   "version": "3.8.8"
  }
 },
 "nbformat": 4,
 "nbformat_minor": 5
}
