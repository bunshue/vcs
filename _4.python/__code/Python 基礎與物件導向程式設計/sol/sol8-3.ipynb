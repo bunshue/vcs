{
 "cells": [
  {
   "cell_type": "code",
   "execution_count": 1,
   "id": "4cd0fd4b",
   "metadata": {},
   "outputs": [
    {
     "name": "stdout",
     "output_type": "stream",
     "text": [
      "學生 魯夫 學期成績： 40.0\n",
      "學生 索隆 學期成績： 70.0\n",
      "學生 香吉士 學期成績： 60.0\n",
      "教師 艾德華紐蓋特 授課清單： ['國文', '英文', '數學']\n",
      "教師 哥爾羅傑 授課清單： ['物理', '化學', '生物']\n"
     ]
    }
   ],
   "source": [
    "# 父類別負責name, regid, tel三個資料成員\n",
    "class SchoolMember:\n",
    "    # 建構式\n",
    "    def __init__(self, name, regid, tel):\n",
    "        self._name = name\n",
    "        self._regid = regid\n",
    "        self._tel = tel\n",
    "        \n",
    "    @property\n",
    "    def name(self):\n",
    "        return self._name\n",
    "    \n",
    "    @property\n",
    "    def regid(self):\n",
    "        return self._regid\n",
    "    \n",
    "    @property\n",
    "    def tel(self):\n",
    "        return self._tel\n",
    "    \n",
    "    # 電話可以變更！\n",
    "    @tel.setter\n",
    "    def tel(self, v):\n",
    "        self._tel = v\n",
    "        \n",
    "class Student(SchoolMember):\n",
    "    # 建構式\n",
    "    def __init__(self, name, regid, tel, scores):\n",
    "        # 建構父類別\n",
    "        super().__init__(name, regid, tel)\n",
    "        # 應該要輸入具有三個分數的串列，在此簡化不檢查\n",
    "        self.scores = scores\n",
    "        \n",
    "    def getTermScore(self):\n",
    "        # 應該是具有三個分數的串列，在此簡化不檢查\n",
    "        return sum(self.scores)/len(self.scores)\n",
    "    \n",
    "class Teacher(SchoolMember):\n",
    "    # 建構式\n",
    "    def __init__(self, name, regid, tel, courses):\n",
    "        # 建構父類別\n",
    "        super().__init__(name, regid, tel)\n",
    "        # 應該要輸入具有三個分數的串列，在此簡化不檢查\n",
    "        self.courses = courses\n",
    "        \n",
    "    def getCourses(self):\n",
    "        return self.courses\n",
    "    \n",
    "stu1 = Student('魯夫', 'A12345678', '111-222333', [30, 40, 50])\n",
    "stu2 = Student('索隆', 'B45678912', '444-555666', [50, 70, 90])\n",
    "stu3 = Student('香吉士', 'Z78912345', '777-888999', [60, 60, 60])\n",
    "print('學生', stu1.name, '學期成績：', stu1.getTermScore())\n",
    "print('學生', stu2.name, '學期成績：', stu2.getTermScore())\n",
    "print('學生', stu3.name, '學期成績：', stu3.getTermScore())\n",
    "\n",
    "tch1 = Teacher('艾德華紐蓋特', 'T1357', '333-222111', ['國文', '英文', '數學'])\n",
    "tch2 = Teacher('哥爾羅傑', 'T2468', '666-555444', ['物理', '化學', '生物'])\n",
    "print('教師', tch1.name, '授課清單：', tch1.getCourses())\n",
    "print('教師',tch2.name, '授課清單：', tch2.getCourses())"
   ]
  },
  {
   "cell_type": "code",
   "execution_count": null,
   "id": "b766c243",
   "metadata": {},
   "outputs": [],
   "source": []
  }
 ],
 "metadata": {
  "kernelspec": {
   "display_name": "Python 3",
   "language": "python",
   "name": "python3"
  },
  "language_info": {
   "codemirror_mode": {
    "name": "ipython",
    "version": 3
   },
   "file_extension": ".py",
   "mimetype": "text/x-python",
   "name": "python",
   "nbconvert_exporter": "python",
   "pygments_lexer": "ipython3",
   "version": "3.8.8"
  }
 },
 "nbformat": 4,
 "nbformat_minor": 5
}
