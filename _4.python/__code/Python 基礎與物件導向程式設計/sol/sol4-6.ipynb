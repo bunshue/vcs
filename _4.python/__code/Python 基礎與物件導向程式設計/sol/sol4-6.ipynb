{
 "cells": [
  {
   "cell_type": "code",
   "execution_count": 1,
   "id": "57bb762a",
   "metadata": {},
   "outputs": [
    {
     "name": "stdout",
     "output_type": "stream",
     "text": [
      "80\n"
     ]
    }
   ],
   "source": [
    "def dotProduct(vec1, vec2):\n",
    "    if len(vec1)!=len(vec2):\n",
    "        return 'ERR'\n",
    "    sum1 = 0\n",
    "    for i in range(len(vec1)):\n",
    "        sum1 += vec1[i]*vec2[i]\n",
    "    return sum1\n",
    "\n",
    "v1 = [1, 2, 3, 4, 5]\n",
    "v2 = [6, 7, 8, 9, 0]\n",
    "print(dotProduct(v1, v2))"
   ]
  },
  {
   "cell_type": "code",
   "execution_count": 2,
   "id": "99b9cf3b",
   "metadata": {},
   "outputs": [
    {
     "name": "stdout",
     "output_type": "stream",
     "text": [
      "80\n"
     ]
    }
   ],
   "source": [
    "def dotProduct(vec1, vec2):\n",
    "    if len(vec1)!=len(vec2):\n",
    "        return 'ERR'\n",
    "    list1 = [vec1[i]*vec2[i] for i in range(len(vec1))]\n",
    "    return sum(list1)\n",
    "\n",
    "v1 = [1, 2, 3, 4, 5]\n",
    "v2 = [6, 7, 8, 9, 0]\n",
    "print(dotProduct(v1, v2))"
   ]
  },
  {
   "cell_type": "code",
   "execution_count": null,
   "id": "283f3456",
   "metadata": {},
   "outputs": [],
   "source": []
  }
 ],
 "metadata": {
  "kernelspec": {
   "display_name": "Python 3",
   "language": "python",
   "name": "python3"
  },
  "language_info": {
   "codemirror_mode": {
    "name": "ipython",
    "version": 3
   },
   "file_extension": ".py",
   "mimetype": "text/x-python",
   "name": "python",
   "nbconvert_exporter": "python",
   "pygments_lexer": "ipython3",
   "version": "3.8.8"
  }
 },
 "nbformat": 4,
 "nbformat_minor": 5
}
