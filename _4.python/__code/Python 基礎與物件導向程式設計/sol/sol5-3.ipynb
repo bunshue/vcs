{
 "cells": [
  {
   "cell_type": "code",
   "execution_count": 1,
   "id": "72178928",
   "metadata": {},
   "outputs": [
    {
     "name": "stdout",
     "output_type": "stream",
     "text": [
      "{1: 20, 2: 25, 3: 29, 4: 10, 5: 40, 6: 9}\n"
     ]
    }
   ],
   "source": [
    "dic1 = {1:7, 2:25, 3:17}\n",
    "dic2 = {3:12, 4:10, 5:18}\n",
    "dic3 = {5:22, 6:9, 1:13}\n",
    "dic4 = {}\n",
    "for adic in (dic1, dic2, dic3):\n",
    "    for key in adic:\n",
    "        dic4[key] = dic4.get(key, 0)+adic[key]\n",
    "print(dic4)"
   ]
  },
  {
   "cell_type": "code",
   "execution_count": null,
   "id": "202955a9",
   "metadata": {},
   "outputs": [],
   "source": []
  }
 ],
 "metadata": {
  "kernelspec": {
   "display_name": "Python 3",
   "language": "python",
   "name": "python3"
  },
  "language_info": {
   "codemirror_mode": {
    "name": "ipython",
    "version": 3
   },
   "file_extension": ".py",
   "mimetype": "text/x-python",
   "name": "python",
   "nbconvert_exporter": "python",
   "pygments_lexer": "ipython3",
   "version": "3.8.8"
  }
 },
 "nbformat": 4,
 "nbformat_minor": 5
}
