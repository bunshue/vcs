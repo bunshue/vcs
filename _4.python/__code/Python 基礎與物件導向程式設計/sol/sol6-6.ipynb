{
 "cells": [
  {
   "cell_type": "code",
   "execution_count": 1,
   "id": "b183e1d3",
   "metadata": {},
   "outputs": [
    {
     "name": "stdout",
     "output_type": "stream",
     "text": [
      "b'BM'\n",
      "File size: 786554 bytes\n",
      "Image dimension: 512 x 512\n",
      "Image planes: 1\n",
      "Color depth: 24\n"
     ]
    }
   ],
   "source": [
    "# BMP解析程式\n",
    "\n",
    "# Little Endian的 4 bytes處理函數\n",
    "def b4_2_int(b4):\n",
    "    # 針對每個byte使用位元平移\n",
    "    ii = b4[0] | b4[1]<<8 | b4[2]<<16 | b4[3]<<24\n",
    "    return ii\n",
    "# Little Endian的 2 bytes處理函數\n",
    "def b2_2_int(b2):\n",
    "    # 針對每個byte使用位元平移\n",
    "    ii = b2[0] | b2[1]<<8\n",
    "    return ii\n",
    "\n",
    "infname = 'Lenna.bmp'       # 786554 bytes, 512x512\n",
    "infile = open(infname, 'rb')\n",
    "\n",
    "# 標頭識別碼：'B'和'M'\n",
    "b2 = infile.read(2)\n",
    "print(b2)\n",
    "# 檔案大小\n",
    "b4 = infile.read(4)\n",
    "filesize = b4_2_int(b4)\n",
    "print('File size:', filesize, 'bytes')\n",
    "# 跳過不在意的欄位\n",
    "infile.read(4)\n",
    "# 跳過不在意的欄位\n",
    "infile.read(4)\n",
    "# 跳過不在意的欄位\n",
    "infile.read(4)\n",
    "# 圖像寬度（長度）\n",
    "b4 = infile.read(4)\n",
    "width = b4_2_int(b4)\n",
    "# 圖像高度（寬度）\n",
    "b4 = infile.read(4)\n",
    "height = b4_2_int(b4)\n",
    "print('Image dimension:', width, 'x', height)\n",
    "b2 = infile.read(2)\n",
    "planes = b2_2_int(b2)\n",
    "print('Image planes:', planes)\n",
    "# 圖像顏色深度（bit數）\n",
    "b2 = infile.read(2)\n",
    "depth = b2_2_int(b2)\n",
    "print('Color depth:', depth)\n",
    "\n",
    "infile.close()"
   ]
  },
  {
   "cell_type": "code",
   "execution_count": null,
   "id": "25d8a704",
   "metadata": {},
   "outputs": [],
   "source": []
  }
 ],
 "metadata": {
  "kernelspec": {
   "display_name": "Python 3",
   "language": "python",
   "name": "python3"
  },
  "language_info": {
   "codemirror_mode": {
    "name": "ipython",
    "version": 3
   },
   "file_extension": ".py",
   "mimetype": "text/x-python",
   "name": "python",
   "nbconvert_exporter": "python",
   "pygments_lexer": "ipython3",
   "version": "3.8.8"
  }
 },
 "nbformat": 4,
 "nbformat_minor": 5
}
