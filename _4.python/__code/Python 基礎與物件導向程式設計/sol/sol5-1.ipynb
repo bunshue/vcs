{
 "cells": [
  {
   "cell_type": "code",
   "execution_count": 1,
   "id": "d9e9b164",
   "metadata": {},
   "outputs": [
    {
     "name": "stdout",
     "output_type": "stream",
     "text": [
      "{10: 4, 30: 2, 50: 2, 40: 2, 20: 3}\n"
     ]
    }
   ],
   "source": [
    "def countFreq(alist):\n",
    "    freqDict = {}\n",
    "    for item in alist:\n",
    "        freqDict[item] = freqDict.get(item, 0)+1\n",
    "    return freqDict\n",
    "    \n",
    "list1 = [10, 30, 10, 50, 40, 20, 30, 20, 40, 20, 10, 50, 10]\n",
    "print(countFreq(list1))"
   ]
  },
  {
   "cell_type": "code",
   "execution_count": 2,
   "id": "36514338",
   "metadata": {},
   "outputs": [
    {
     "name": "stdout",
     "output_type": "stream",
     "text": [
      "Counter({10: 4, 20: 3, 30: 2, 50: 2, 40: 2})\n"
     ]
    }
   ],
   "source": [
    "import collections\n",
    "\n",
    "list1 = [10, 30, 10, 50, 40, 20, 30, 20, 40, 20, 10, 50, 10]\n",
    "freqDict = collections.Counter(list1)\n",
    "print(freqDict)"
   ]
  },
  {
   "cell_type": "code",
   "execution_count": null,
   "id": "271b6c4c",
   "metadata": {},
   "outputs": [],
   "source": []
  }
 ],
 "metadata": {
  "kernelspec": {
   "display_name": "Python 3",
   "language": "python",
   "name": "python3"
  },
  "language_info": {
   "codemirror_mode": {
    "name": "ipython",
    "version": 3
   },
   "file_extension": ".py",
   "mimetype": "text/x-python",
   "name": "python",
   "nbconvert_exporter": "python",
   "pygments_lexer": "ipython3",
   "version": "3.8.8"
  }
 },
 "nbformat": 4,
 "nbformat_minor": 5
}
