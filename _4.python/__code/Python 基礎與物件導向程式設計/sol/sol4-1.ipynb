{
 "cells": [
  {
   "cell_type": "code",
   "execution_count": 1,
   "id": "f9770c23",
   "metadata": {},
   "outputs": [
    {
     "name": "stdout",
     "output_type": "stream",
     "text": [
      "rEsOlvEd: thAt thEsE UnItEd cOlOnIEs ArE, And Of rIght OUght tO bE, frEE And IndEpEndEnt stAtEs, thAt thEy ArE AbsOlvEd frOm All AllEgIAncE tO thE brItIsh crOwn, And thAt All pOlItIcAl cOnnEctIOn bEtwEEn thEm And thE stAtE Of grEAt brItAIn Is, And OUght tO bE, tOtAlly dIssOlvEd.\n"
     ]
    }
   ],
   "source": [
    "# 北美獨立宣言\n",
    "str1 = 'Resolved: That these United Colonies are, and of right ought to be, '+ \\\n",
    "        'free and independent States, that they are absolved from all allegiance '+ \\\n",
    "        'to the British Crown, and that all political connection between them and '+ \\\n",
    "        'the State of Great Britain is, and ought to be, totally dissolved.'\n",
    "\n",
    "vowels = ['a', 'e', 'i', 'o', 'u']\n",
    "# 先一律轉小寫\n",
    "str2 = str1.lower()\n",
    "str3 = ''\n",
    "for ch in str2:\n",
    "    if ch in vowels:\n",
    "        str3 += ch.upper()\n",
    "    else:\n",
    "        str3 += ch\n",
    "\n",
    "print(str3)"
   ]
  },
  {
   "cell_type": "code",
   "execution_count": null,
   "id": "1a037dc7",
   "metadata": {},
   "outputs": [],
   "source": []
  }
 ],
 "metadata": {
  "kernelspec": {
   "display_name": "Python 3",
   "language": "python",
   "name": "python3"
  },
  "language_info": {
   "codemirror_mode": {
    "name": "ipython",
    "version": 3
   },
   "file_extension": ".py",
   "mimetype": "text/x-python",
   "name": "python",
   "nbconvert_exporter": "python",
   "pygments_lexer": "ipython3",
   "version": "3.8.8"
  }
 },
 "nbformat": 4,
 "nbformat_minor": 5
}
