{
 "cells": [
  {
   "cell_type": "code",
   "execution_count": 1,
   "id": "add91d01",
   "metadata": {},
   "outputs": [
    {
     "name": "stdout",
     "output_type": "stream",
     "text": [
      "101 103 107 109 113 127 131 137 139 149 151 157 163 167 173 179 181 191 193 197 199 \n",
      "Total numbers found: 21\n"
     ]
    }
   ],
   "source": [
    "import math\n",
    "\n",
    "# 卻認n是否為質數，如果是，傳回True\n",
    "def isPrime(n):\n",
    "    bound = int(math.sqrt(n))\n",
    "    # 試除法要求從2數到bound來進行「試除」\n",
    "    for i in range(2, bound+1):\n",
    "        if n%i==0:\n",
    "            # 一發現不是質數，馬上果斷回False\n",
    "            return False\n",
    "    # 如果完全沒有發現任何因數，那就是質數啦！\n",
    "    return True\n",
    "    \n",
    "# 從100數到200\n",
    "count = 0\n",
    "for i in range(100, 200+1):\n",
    "    if isPrime(i):\n",
    "        print(i, end=' ')\n",
    "        count += 1\n",
    "print('')\n",
    "print('Total numbers found:', count)"
   ]
  },
  {
   "cell_type": "code",
   "execution_count": null,
   "id": "86843657",
   "metadata": {},
   "outputs": [],
   "source": []
  }
 ],
 "metadata": {
  "kernelspec": {
   "display_name": "Python 3",
   "language": "python",
   "name": "python3"
  },
  "language_info": {
   "codemirror_mode": {
    "name": "ipython",
    "version": 3
   },
   "file_extension": ".py",
   "mimetype": "text/x-python",
   "name": "python",
   "nbconvert_exporter": "python",
   "pygments_lexer": "ipython3",
   "version": "3.8.8"
  }
 },
 "nbformat": 4,
 "nbformat_minor": 5
}
