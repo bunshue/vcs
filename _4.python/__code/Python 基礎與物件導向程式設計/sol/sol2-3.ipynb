{
 "cells": [
  {
   "cell_type": "code",
   "execution_count": 1,
   "id": "2f0b15b9",
   "metadata": {},
   "outputs": [
    {
     "name": "stdout",
     "output_type": "stream",
     "text": [
      "3\n",
      "12\n",
      "48\n",
      "192\n",
      "768\n",
      "3072\n",
      "12288\n",
      "49152\n",
      "196608\n",
      "786432\n"
     ]
    }
   ],
   "source": [
    "for i in range(10):\n",
    "    print(3*(4**i))"
   ]
  },
  {
   "cell_type": "code",
   "execution_count": null,
   "id": "eab37bd9",
   "metadata": {},
   "outputs": [],
   "source": []
  }
 ],
 "metadata": {
  "kernelspec": {
   "display_name": "Python 3",
   "language": "python",
   "name": "python3"
  },
  "language_info": {
   "codemirror_mode": {
    "name": "ipython",
    "version": 3
   },
   "file_extension": ".py",
   "mimetype": "text/x-python",
   "name": "python",
   "nbconvert_exporter": "python",
   "pygments_lexer": "ipython3",
   "version": "3.8.8"
  }
 },
 "nbformat": 4,
 "nbformat_minor": 5
}
