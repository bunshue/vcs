{
 "cells": [
  {
   "cell_type": "code",
   "execution_count": 1,
   "id": "e696f214",
   "metadata": {},
   "outputs": [
    {
     "name": "stdout",
     "output_type": "stream",
     "text": [
      "200 202 220 224 226 228 242 244 262 266 282 288 400 404 422 424 440 442 446 448 464 466 484 488 600 606 622 626 644 646 660 662 664 668 686 688 800 808 822 828 844 848 866 868 880 882 884 886 \n",
      "Total numbers found: 48\n"
     ]
    }
   ],
   "source": [
    "def count3_2():\n",
    "    # 可以使用的數字\n",
    "    nums = [0, 2, 4, 6, 8]\n",
    "    count = 0\n",
    "    for i in nums:\n",
    "        for j in nums:\n",
    "            for k in nums:\n",
    "                # 確認百位數i不為0，而且\n",
    "                # i, j, k三個數字正好有兩個相同\n",
    "                # (先判斷兩兩相同，再排除三者都相同)\n",
    "                if i!=0 and (i==j or j==k or k==i) and not (i==j and j==k):\n",
    "                    num = 100*i+10*j+k\n",
    "                    print(num, end=' ')\n",
    "                    count += 1\n",
    "    print('')\n",
    "    return count\n",
    "\n",
    "print('Total numbers found:', count3_2())"
   ]
  },
  {
   "cell_type": "code",
   "execution_count": null,
   "id": "6aa2b374",
   "metadata": {},
   "outputs": [],
   "source": []
  }
 ],
 "metadata": {
  "kernelspec": {
   "display_name": "Python 3",
   "language": "python",
   "name": "python3"
  },
  "language_info": {
   "codemirror_mode": {
    "name": "ipython",
    "version": 3
   },
   "file_extension": ".py",
   "mimetype": "text/x-python",
   "name": "python",
   "nbconvert_exporter": "python",
   "pygments_lexer": "ipython3",
   "version": "3.8.8"
  }
 },
 "nbformat": 4,
 "nbformat_minor": 5
}
