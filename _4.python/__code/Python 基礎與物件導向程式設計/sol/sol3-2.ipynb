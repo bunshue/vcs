{
 "cells": [
  {
   "cell_type": "code",
   "execution_count": 1,
   "id": "1dc62d6a",
   "metadata": {},
   "outputs": [
    {
     "name": "stdout",
     "output_type": "stream",
     "text": [
      "人數分佈頻率: [4, 2, 1, 6, 7]\n"
     ]
    }
   ],
   "source": [
    "scores = [90, 59, 78, 71, 39, 0, 19, 85, 77, 84, 91, 98, 38, 66, 65, 88, 63, 85, 18, 0]\n",
    "freq = [0]*5\n",
    "for score in scores:\n",
    "    if score<20:\n",
    "        freq[0] += 1\n",
    "    elif score<40:\n",
    "        freq[1] += 1\n",
    "    elif score<60:\n",
    "        freq[2] += 1\n",
    "    elif score<80:\n",
    "        freq[3] += 1\n",
    "    else:\n",
    "        freq[4] += 1\n",
    "print('人數分佈頻率:', freq)"
   ]
  },
  {
   "cell_type": "code",
   "execution_count": null,
   "id": "a8343059",
   "metadata": {},
   "outputs": [],
   "source": []
  }
 ],
 "metadata": {
  "kernelspec": {
   "display_name": "Python 3",
   "language": "python",
   "name": "python3"
  },
  "language_info": {
   "codemirror_mode": {
    "name": "ipython",
    "version": 3
   },
   "file_extension": ".py",
   "mimetype": "text/x-python",
   "name": "python",
   "nbconvert_exporter": "python",
   "pygments_lexer": "ipython3",
   "version": "3.8.8"
  }
 },
 "nbformat": 4,
 "nbformat_minor": 5
}
