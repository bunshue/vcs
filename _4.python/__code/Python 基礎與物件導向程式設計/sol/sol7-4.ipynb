{
 "cells": [
  {
   "cell_type": "code",
   "execution_count": 1,
   "id": "39fa955a",
   "metadata": {},
   "outputs": [
    {
     "name": "stdout",
     "output_type": "stream",
     "text": [
      "銀行帳號： U37301008 , 初始帳號結餘： 0\n",
      "存款100元成功，結餘： 100\n",
      "存款200元成功，結餘： 300\n",
      "存款300元成功，結餘： 600\n",
      "提款123元成功，結餘： 477\n",
      "提款456元成功，結餘： 21\n",
      "提款789元失敗，結餘： 21\n",
      "最終帳號結餘： 21\n"
     ]
    }
   ],
   "source": [
    "class BankAccount:\n",
    "    # 建構式\n",
    "    def __init__(self, regid):\n",
    "        self._regid = regid\n",
    "        self._balance = 0\n",
    "    \n",
    "    # regid的getter方法\n",
    "    @property\n",
    "    def regid(self):\n",
    "        return self._regid\n",
    "    \n",
    "    # balance的getter方法\n",
    "    @property\n",
    "    def balance(self):\n",
    "        return self._balance\n",
    "    \n",
    "    def deposit(self, v):\n",
    "        # 存款重要檢查：金額必須為正數\n",
    "        if v>0:\n",
    "            self._balance += v\n",
    "            return True\n",
    "        return False\n",
    "    \n",
    "    def withdraw(self, v):\n",
    "        # 提款重要檢查：金額必須為正數、不能超過結餘\n",
    "        if v>0 and v<=self._balance:\n",
    "            self._balance -= v\n",
    "            return True\n",
    "        return False\n",
    "    \n",
    "bacc = BankAccount('U37301008')\n",
    "print('銀行帳號：', bacc.regid, ', 初始帳號結餘：', bacc.balance)\n",
    "if bacc.deposit(100):\n",
    "    print('存款100元成功，結餘：', bacc.balance)\n",
    "else:\n",
    "    print('存款100元失敗，結餘：', bacc.balance)\n",
    "if bacc.deposit(200):\n",
    "    print('存款200元成功，結餘：', bacc.balance)\n",
    "else:\n",
    "    print('存款200元失敗，結餘：', bacc.balance)\n",
    "if bacc.deposit(300):\n",
    "    print('存款300元成功，結餘：', bacc.balance)\n",
    "else:\n",
    "    print('存款300元失敗，結餘：', bacc.balance)\n",
    "if bacc.withdraw(123):\n",
    "    print('提款123元成功，結餘：', bacc.balance)\n",
    "else:\n",
    "    print('提款123元失敗，結餘：', bacc.balance)\n",
    "if bacc.withdraw(456):\n",
    "    print('提款456元成功，結餘：', bacc.balance)\n",
    "else:\n",
    "    print('提款456元失敗，結餘：', bacc.balance)\n",
    "if bacc.withdraw(789):\n",
    "    print('提款789元成功，結餘：', bacc.balance)\n",
    "else:\n",
    "    print('提款789元失敗，結餘：', bacc.balance)\n",
    "print('最終帳號結餘：', bacc.balance)"
   ]
  },
  {
   "cell_type": "code",
   "execution_count": null,
   "id": "10e6136c",
   "metadata": {},
   "outputs": [],
   "source": []
  }
 ],
 "metadata": {
  "kernelspec": {
   "display_name": "Python 3",
   "language": "python",
   "name": "python3"
  },
  "language_info": {
   "codemirror_mode": {
    "name": "ipython",
    "version": 3
   },
   "file_extension": ".py",
   "mimetype": "text/x-python",
   "name": "python",
   "nbconvert_exporter": "python",
   "pygments_lexer": "ipython3",
   "version": "3.8.8"
  }
 },
 "nbformat": 4,
 "nbformat_minor": 5
}
