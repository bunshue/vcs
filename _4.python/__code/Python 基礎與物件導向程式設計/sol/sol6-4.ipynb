{
 "cells": [
  {
   "cell_type": "code",
   "execution_count": 1,
   "id": "91b34bf9",
   "metadata": {},
   "outputs": [
    {
     "name": "stdout",
     "output_type": "stream",
     "text": [
      "largeDoses: 32.7%\n",
      "smallDoses: 33.1%\n",
      "didntLike: 34.2%\n"
     ]
    }
   ],
   "source": [
    "infname = 'DatingTestSet.txt'\n",
    "stat = {}\n",
    "tags = ['largeDoses', 'smallDoses', 'didntLike']\n",
    "with open(infname, 'rt', encoding='utf-8') as inf:\n",
    "    for line in inf:\n",
    "        slist = line.strip().split('\\t')\n",
    "        try:\n",
    "            idx = tags.index(slist[-1])\n",
    "            key = tags[idx]\n",
    "            stat[key] = stat.get(key, 0)+1\n",
    "        except:\n",
    "            # 沒出現過的tag使用index()方法\n",
    "            # 會產生ValueError例外，跳過\n",
    "            pass\n",
    "\n",
    "# 使用串列生成加上sum()來找出總數\n",
    "sum1 = sum([v for v in stat.values()])\n",
    "for k, v in stat.items():\n",
    "    # 計算百分比並完成輸出\n",
    "    stat[k] = 100.0*v/sum1\n",
    "    print(k+':', str(stat[k])+'%')"
   ]
  },
  {
   "cell_type": "code",
   "execution_count": null,
   "id": "3237673e",
   "metadata": {},
   "outputs": [],
   "source": []
  }
 ],
 "metadata": {
  "kernelspec": {
   "display_name": "Python 3",
   "language": "python",
   "name": "python3"
  },
  "language_info": {
   "codemirror_mode": {
    "name": "ipython",
    "version": 3
   },
   "file_extension": ".py",
   "mimetype": "text/x-python",
   "name": "python",
   "nbconvert_exporter": "python",
   "pygments_lexer": "ipython3",
   "version": "3.8.8"
  }
 },
 "nbformat": 4,
 "nbformat_minor": 5
}
