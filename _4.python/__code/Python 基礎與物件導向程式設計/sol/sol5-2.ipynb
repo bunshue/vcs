{
 "cells": [
  {
   "cell_type": "code",
   "execution_count": 1,
   "id": "d3e47892",
   "metadata": {},
   "outputs": [
    {
     "name": "stdout",
     "output_type": "stream",
     "text": [
      "{'r': 10, 'e': 30, 's': 11, 'o': 18, 'l': 14, 'v': 3, 'd': 12, 't': 31, 'h': 12, 'a': 21, 'u': 3, 'n': 17, 'i': 14, 'c': 6, 'f': 4, 'g': 5, 'b': 6, 'p': 2, 'y': 2, 'm': 2, 'w': 2}\n"
     ]
    }
   ],
   "source": [
    "import string\n",
    "\n",
    "# 北美獨立宣言\n",
    "str1 = 'Resolved: That these United Colonies are, and of right ought to be, '+ \\\n",
    "        'free and independent States, that they are absolved from all allegiance '+ \\\n",
    "        'to the British Crown, and that all political connection between them and '+ \\\n",
    "        'the State of Great Britain is, and ought to be, totally dissolved.'\n",
    "# 先一律轉小寫\n",
    "str2 = str1.lower()\n",
    "\n",
    "charSet = set(string.ascii_lowercase)\n",
    "freqDict = {}\n",
    "for ch in str2:\n",
    "    # 判斷如果不在ASCII小寫字母集，則略過\n",
    "    if not ch in charSet:\n",
    "        continue\n",
    "    freqDict[ch] = freqDict.get(ch, 0)+1\n",
    "\n",
    "print(freqDict)"
   ]
  },
  {
   "cell_type": "code",
   "execution_count": null,
   "id": "bd598bd0",
   "metadata": {},
   "outputs": [],
   "source": []
  }
 ],
 "metadata": {
  "kernelspec": {
   "display_name": "Python 3",
   "language": "python",
   "name": "python3"
  },
  "language_info": {
   "codemirror_mode": {
    "name": "ipython",
    "version": 3
   },
   "file_extension": ".py",
   "mimetype": "text/x-python",
   "name": "python",
   "nbconvert_exporter": "python",
   "pygments_lexer": "ipython3",
   "version": "3.8.8"
  }
 },
 "nbformat": 4,
 "nbformat_minor": 5
}
