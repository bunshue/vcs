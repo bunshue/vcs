{
 "cells": [
  {
   "cell_type": "code",
   "execution_count": 1,
   "id": "7d1e0589",
   "metadata": {},
   "outputs": [
    {
     "name": "stdout",
     "output_type": "stream",
     "text": [
      "郵資: 400\n"
     ]
    }
   ],
   "source": [
    "weight = 63    # 包裹重量,本例為 63 公斤\n",
    "if weight<=10:\n",
    "    postage = 25\n",
    "elif weight<=50:\n",
    "    postage = 100\n",
    "elif weight<=100:\n",
    "    postage = 400\n",
    "elif weight<=500:\n",
    "    postage = 3000\n",
    "else:\n",
    "    postage = 10000\n",
    "print('郵資:', postage)"
   ]
  },
  {
   "cell_type": "code",
   "execution_count": null,
   "id": "5cf8b876",
   "metadata": {},
   "outputs": [],
   "source": []
  }
 ],
 "metadata": {
  "kernelspec": {
   "display_name": "Python 3",
   "language": "python",
   "name": "python3"
  },
  "language_info": {
   "codemirror_mode": {
    "name": "ipython",
    "version": 3
   },
   "file_extension": ".py",
   "mimetype": "text/x-python",
   "name": "python",
   "nbconvert_exporter": "python",
   "pygments_lexer": "ipython3",
   "version": "3.8.8"
  }
 },
 "nbformat": 4,
 "nbformat_minor": 5
}
