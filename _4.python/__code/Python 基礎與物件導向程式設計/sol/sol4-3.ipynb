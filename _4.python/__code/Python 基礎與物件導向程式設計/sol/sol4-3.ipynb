{
 "cells": [
  {
   "cell_type": "code",
   "execution_count": 1,
   "id": "f1f6598b",
   "metadata": {},
   "outputs": [
    {
     "name": "stdout",
     "output_type": "stream",
     "text": [
      "[10, 20, 300, 400, 5000, 6000, 500, 40, 30]\n"
     ]
    }
   ],
   "source": [
    "def flattenList(alist, olist):\n",
    "    for item in alist:\n",
    "        # 如果發現了list，則開始遞迴分解它\n",
    "        if isinstance(item, list):\n",
    "            flattenList(item, olist)\n",
    "        else:\n",
    "            olist.append(item)\n",
    "\n",
    "list1 = [10, 20, [300, 400, [5000, 6000], 500], 40, 30]\n",
    "olist = []\n",
    "flattenList(list1, olist)\n",
    "print(olist)"
   ]
  },
  {
   "cell_type": "code",
   "execution_count": null,
   "id": "4214fd99",
   "metadata": {},
   "outputs": [],
   "source": []
  }
 ],
 "metadata": {
  "kernelspec": {
   "display_name": "Python 3",
   "language": "python",
   "name": "python3"
  },
  "language_info": {
   "codemirror_mode": {
    "name": "ipython",
    "version": 3
   },
   "file_extension": ".py",
   "mimetype": "text/x-python",
   "name": "python",
   "nbconvert_exporter": "python",
   "pygments_lexer": "ipython3",
   "version": "3.8.8"
  }
 },
 "nbformat": 4,
 "nbformat_minor": 5
}
