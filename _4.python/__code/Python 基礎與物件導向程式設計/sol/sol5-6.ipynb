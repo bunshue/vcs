{
 "cells": [
  {
   "cell_type": "code",
   "execution_count": 1,
   "id": "a90d34cf",
   "metadata": {},
   "outputs": [
    {
     "name": "stdout",
     "output_type": "stream",
     "text": [
      "[[1], [2], [3], [4], [3, 4], [2, 3], [2, 4], [2, 3, 4], [1, 2], [1, 3], [1, 4], [1, 3, 4], [1, 2, 3], [1, 2, 4], [1, 2, 3, 4]]\n"
     ]
    }
   ],
   "source": [
    "def powerSet(alist):\n",
    "    if len(alist)==1:\n",
    "        return [alist]\n",
    "    \n",
    "    # 取出第一個元素\n",
    "    car = alist[0]\n",
    "    # 將去除第一個元素剩下的串列丟進遞迴中\n",
    "    cdr = powerSet(alist[1:])\n",
    "    # 準備本次結果，就是遞迴結果再加上\n",
    "    #「每個遞迴結果元素放入先前取出的第一個元素」\n",
    "    result = cdr[:]\n",
    "    # 先取出的元素，擺回前面\n",
    "    result.insert(0, [car])\n",
    "    for e in cdr:\n",
    "        # 後產生的元素，擺在後面\n",
    "        result.append([car]+e)\n",
    "    return result\n",
    "        \n",
    "list1 = [1, 2, 3, 4]\n",
    "print(powerSet(list1))"
   ]
  },
  {
   "cell_type": "code",
   "execution_count": 2,
   "id": "9088d265",
   "metadata": {},
   "outputs": [
    {
     "name": "stdout",
     "output_type": "stream",
     "text": [
      "[[1], [2], [1, 2], [3], [1, 3], [2, 3], [1, 2, 3]]\n"
     ]
    }
   ],
   "source": [
    "def powerSet(s):\n",
    "    x = len(s)\n",
    "    result = []\n",
    "    for i in range(1 << x):\n",
    "        alist = [s[j] for j in range(x) if (i & (1 << j))]\n",
    "        if len(alist)>0:\n",
    "            result.append(alist)\n",
    "    return result\n",
    "\n",
    "list1 = [1, 2, 3]\n",
    "print(powerSet(list1))"
   ]
  },
  {
   "cell_type": "code",
   "execution_count": null,
   "id": "cf4affae",
   "metadata": {},
   "outputs": [],
   "source": []
  }
 ],
 "metadata": {
  "kernelspec": {
   "display_name": "Python 3",
   "language": "python",
   "name": "python3"
  },
  "language_info": {
   "codemirror_mode": {
    "name": "ipython",
    "version": 3
   },
   "file_extension": ".py",
   "mimetype": "text/x-python",
   "name": "python",
   "nbconvert_exporter": "python",
   "pygments_lexer": "ipython3",
   "version": "3.8.8"
  }
 },
 "nbformat": 4,
 "nbformat_minor": 5
}
