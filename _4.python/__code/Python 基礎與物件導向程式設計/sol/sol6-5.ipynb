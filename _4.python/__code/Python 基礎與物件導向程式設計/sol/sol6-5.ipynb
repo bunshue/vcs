{
 "cells": [
  {
   "cell_type": "code",
   "execution_count": 1,
   "id": "65eaa106",
   "metadata": {},
   "outputs": [
    {
     "name": "stdout",
     "output_type": "stream",
     "text": [
      "最長用詞: distemperature , 長度 14\n",
      "最頻繁用詞: and , 次數 719\n"
     ]
    }
   ],
   "source": [
    "# 處理劇本中的單一句子，去除標點並切割\n",
    "def processString(str1):\n",
    "    tup1 = (',', '.', ';', '?', '!', \"'\", '-', ':')\n",
    "    strK = str1\n",
    "    #Why, such is love's transgression. 要轉換成：\n",
    "    #Why  such is love s transgression 然後用空白切割\n",
    "    for tok in tup1:\n",
    "        strK = strK.replace(tok, ' ')\n",
    "    strK = strK.lower()\n",
    "    slist = strK.split()\n",
    "    # 串列生成，將兩個字母以上的文字以及a和i留下\n",
    "    slist2 = [s for s in slist if len(s)>1 or s=='a' or s=='i']\n",
    "    return slist2\n",
    "\n",
    "infname = 'RnJ.txt'\n",
    "infile = open(infname, 'rt', encoding='utf-8')\n",
    "\n",
    "freq = {}\n",
    "for line in infile:\n",
    "    str1 = line.strip()\n",
    "    # 處理劇本中的單一句子，去除標點並切割\n",
    "    slist = processString(str1)\n",
    "    # 將切好的詞彙紀錄頻率\n",
    "    for tok in slist:\n",
    "        freq[tok] = freq.get(tok, 0)+1\n",
    "infile.close()\n",
    "\n",
    "# 開始找尋最長以及最常的詞彙\n",
    "longest = ''    # 最長\n",
    "maxoccur = ''    # 最常\n",
    "maxv = 0\n",
    "for k, v in freq.items():\n",
    "    # 比出目前最長\n",
    "    if len(k)>len(longest):\n",
    "        longest = k\n",
    "    # 比出目前最常\n",
    "    if v>maxv:\n",
    "        maxoccur = k\n",
    "        maxv = v\n",
    "        \n",
    "print('最長用詞:', longest, ', 長度', len(longest))\n",
    "print('最頻繁用詞:', maxoccur, ', 次數', maxv)"
   ]
  },
  {
   "cell_type": "code",
   "execution_count": null,
   "id": "1755cd71",
   "metadata": {},
   "outputs": [],
   "source": []
  }
 ],
 "metadata": {
  "kernelspec": {
   "display_name": "Python 3",
   "language": "python",
   "name": "python3"
  },
  "language_info": {
   "codemirror_mode": {
    "name": "ipython",
    "version": 3
   },
   "file_extension": ".py",
   "mimetype": "text/x-python",
   "name": "python",
   "nbconvert_exporter": "python",
   "pygments_lexer": "ipython3",
   "version": "3.8.8"
  }
 },
 "nbformat": 4,
 "nbformat_minor": 5
}
