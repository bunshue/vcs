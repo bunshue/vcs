{
 "cells": [
  {
   "cell_type": "code",
   "execution_count": 1,
   "id": "80bb687d",
   "metadata": {},
   "outputs": [
    {
     "name": "stdout",
     "output_type": "stream",
     "text": [
      "GCD = 49\n"
     ]
    }
   ],
   "source": [
    "def interpDiv(a, b):\n",
    "    r = a % b;\n",
    "    if r==0:\n",
    "        return b;\n",
    "    # 遞迴!\n",
    "    return interpDiv(b, r);\n",
    "\n",
    "x, y = 5929, 8281\n",
    "print('GCD =', interpDiv(y, x))"
   ]
  },
  {
   "cell_type": "code",
   "execution_count": null,
   "id": "5537a2af",
   "metadata": {},
   "outputs": [],
   "source": []
  }
 ],
 "metadata": {
  "kernelspec": {
   "display_name": "Python 3",
   "language": "python",
   "name": "python3"
  },
  "language_info": {
   "codemirror_mode": {
    "name": "ipython",
    "version": 3
   },
   "file_extension": ".py",
   "mimetype": "text/x-python",
   "name": "python",
   "nbconvert_exporter": "python",
   "pygments_lexer": "ipython3",
   "version": "3.8.8"
  }
 },
 "nbformat": 4,
 "nbformat_minor": 5
}
