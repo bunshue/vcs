{
 "cells": [
  {
   "cell_type": "code",
   "execution_count": 1,
   "id": "484243e1",
   "metadata": {},
   "outputs": [
    {
     "name": "stdout",
     "output_type": "stream",
     "text": [
      "Car1 type: Sedan\n",
      "Car2 type: Sports\n",
      "Car3 type: Coupe\n",
      "Car4 type: Sedan\n"
     ]
    }
   ],
   "source": [
    "class Car:\n",
    "    # 建構式\n",
    "    def __init__(self, driverSide, doors, power):\n",
    "        # 布林值，True代表左駕\n",
    "        self.driverSide = driverSide    \n",
    "        # 可能數值：2, 3, 4，暫不檢查\n",
    "        self.doors = doors    \n",
    "        # 可能數值：'low', 'median', 'high'，暫不檢查\n",
    "        self.power = power    \n",
    "        \n",
    "    def carType(self):\n",
    "        # (1) 如果馬力等級是高，則一定是跑車（Sports）\n",
    "        if self.power=='high':\n",
    "            return 'Sports'\n",
    "        # (2) 馬力等級不是高，如果車門數是4，則一定是轎車（Sedan）\n",
    "        elif self.doors==4:\n",
    "            return 'Sedan'\n",
    "        # (3) 剩下的只有轎跑車（Coupe）的可能了！\n",
    "        else:\n",
    "            return 'Coupe'\n",
    "    \n",
    "car1 = Car(True, 4, 'low')\n",
    "car2 = Car(False, 2, 'high')\n",
    "car3 = Car(True, 2, 'median')\n",
    "car4 = Car(False, 4, 'median')\n",
    "print('Car1 type:', car1.carType())\n",
    "print('Car2 type:', car2.carType())\n",
    "print('Car3 type:', car3.carType())\n",
    "print('Car4 type:', car4.carType())"
   ]
  },
  {
   "cell_type": "code",
   "execution_count": null,
   "id": "7c207467",
   "metadata": {},
   "outputs": [],
   "source": []
  }
 ],
 "metadata": {
  "kernelspec": {
   "display_name": "Python 3",
   "language": "python",
   "name": "python3"
  },
  "language_info": {
   "codemirror_mode": {
    "name": "ipython",
    "version": 3
   },
   "file_extension": ".py",
   "mimetype": "text/x-python",
   "name": "python",
   "nbconvert_exporter": "python",
   "pygments_lexer": "ipython3",
   "version": "3.8.8"
  }
 },
 "nbformat": 4,
 "nbformat_minor": 5
}
