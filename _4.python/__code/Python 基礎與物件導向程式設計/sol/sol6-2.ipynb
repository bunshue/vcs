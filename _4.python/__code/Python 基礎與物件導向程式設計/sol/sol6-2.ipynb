{
 "cells": [
  {
   "cell_type": "code",
   "execution_count": 1,
   "id": "c02fa83c",
   "metadata": {},
   "outputs": [
    {
     "name": "stdout",
     "output_type": "stream",
     "text": [
      "png 1500503\n",
      "symvers 26234\n",
      "pid 5\n",
      "2148 0\n",
      "tmp 17651478\n"
     ]
    }
   ],
   "source": [
    "import os\n",
    "\n",
    "# 我們指定本機的/tmp暫存資料夾來試試\n",
    "path = '/tmp/'\n",
    "stat = {}\n",
    "for item in os.walk(path):\n",
    "    # item[0]是路徑名稱，item[2]是檔案清單\n",
    "    for fname in item[2]:\n",
    "        # 取出檔名完整路徑\n",
    "        ffname = os.path.join(item[0], fname)\n",
    "        # 取出檔案大小\n",
    "        size = os.path.getsize(ffname)\n",
    "        # 取出檔案副檔名，統一轉小寫並去除開頭的'.'字元\n",
    "        ext = os.path.splitext(ffname)[-1].lower().replace('.', '')\n",
    "        # 如果副檔名是空的，跳過\n",
    "        if ext.strip()=='':\n",
    "            continue\n",
    "        # 進行累計\n",
    "        stat[ext] = stat.get(ext, 0)+size\n",
    "\n",
    "for k, v in stat.items():\n",
    "    print(k, v)"
   ]
  },
  {
   "cell_type": "code",
   "execution_count": null,
   "id": "a21c8b20",
   "metadata": {},
   "outputs": [],
   "source": []
  }
 ],
 "metadata": {
  "kernelspec": {
   "display_name": "Python 3",
   "language": "python",
   "name": "python3"
  },
  "language_info": {
   "codemirror_mode": {
    "name": "ipython",
    "version": 3
   },
   "file_extension": ".py",
   "mimetype": "text/x-python",
   "name": "python",
   "nbconvert_exporter": "python",
   "pygments_lexer": "ipython3",
   "version": "3.8.8"
  }
 },
 "nbformat": 4,
 "nbformat_minor": 5
}
