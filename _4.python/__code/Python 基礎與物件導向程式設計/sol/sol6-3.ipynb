{
 "cells": [
  {
   "cell_type": "code",
   "execution_count": 1,
   "id": "a6793713",
   "metadata": {},
   "outputs": [],
   "source": [
    "# 九九乘法表就應該是2..9而不是1..9哦！\n",
    "set99 = set()\n",
    "outf = open('99.txt', 'wt')\n",
    "for i in range(2, 9+1):\n",
    "    for j in range(1, 9+1):\n",
    "        prod = i*j\n",
    "        # 判斷乘積數字是否出現過\n",
    "        if prod not in set99:\n",
    "            outf.write(str(prod)+' ')\n",
    "            # 沒出現過，加入set99\n",
    "            set99.add(prod)\n",
    "    outf.write('\\n')\n",
    "outf.close()"
   ]
  },
  {
   "cell_type": "code",
   "execution_count": null,
   "id": "b69c2370",
   "metadata": {},
   "outputs": [],
   "source": []
  }
 ],
 "metadata": {
  "kernelspec": {
   "display_name": "Python 3",
   "language": "python",
   "name": "python3"
  },
  "language_info": {
   "codemirror_mode": {
    "name": "ipython",
    "version": 3
   },
   "file_extension": ".py",
   "mimetype": "text/x-python",
   "name": "python",
   "nbconvert_exporter": "python",
   "pygments_lexer": "ipython3",
   "version": "3.8.8"
  }
 },
 "nbformat": 4,
 "nbformat_minor": 5
}
