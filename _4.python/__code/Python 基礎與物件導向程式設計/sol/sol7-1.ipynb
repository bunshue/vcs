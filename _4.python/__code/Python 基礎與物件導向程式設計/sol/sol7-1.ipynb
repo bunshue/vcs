{
 "cells": [
  {
   "cell_type": "code",
   "execution_count": 1,
   "id": "c73915b5",
   "metadata": {},
   "outputs": [
    {
     "name": "stdout",
     "output_type": "stream",
     "text": [
      "Tony\n",
      "Steve\n",
      "Bruce\n",
      "Peter\n",
      "Steven\n"
     ]
    }
   ],
   "source": [
    "class Bee:\n",
    "    # 建構式\n",
    "    def __init__(self, name):\n",
    "        self._name = name\n",
    "        self._legs = 6\n",
    "        self._wings = 2\n",
    "        \n",
    "    @property\n",
    "    def name(self):\n",
    "        return self._name\n",
    "    \n",
    "    @name.setter\n",
    "    def name(self, v):\n",
    "        self._name = v\n",
    "        \n",
    "    @property\n",
    "    def legs(self):\n",
    "        return self._legs\n",
    "    \n",
    "    @property\n",
    "    def wings(self):\n",
    "        return self._wings\n",
    "    \n",
    "class Ant:\n",
    "    # 建構式\n",
    "    def __init__(self, name):\n",
    "        self._name = name\n",
    "        self._legs = 6\n",
    "        self._wings = 0\n",
    "        \n",
    "    @property\n",
    "    def name(self):\n",
    "        return self._name\n",
    "    \n",
    "    @name.setter\n",
    "    def name(self, v):\n",
    "        self._name = v\n",
    "        \n",
    "    @property\n",
    "    def legs(self):\n",
    "        return self._legs\n",
    "    \n",
    "    @property\n",
    "    def wings(self):\n",
    "        return self._wings\n",
    "\n",
    "list1 = []\n",
    "list1.append(Bee('Tony'))\n",
    "list1.append(Bee('Steve'))\n",
    "list1.append(Bee('Bruce'))\n",
    "list1.append(Ant('Peter'))\n",
    "list1.append(Ant('Steven'))\n",
    "for e in list1:\n",
    "    print(e.name)"
   ]
  },
  {
   "cell_type": "code",
   "execution_count": null,
   "id": "037b9c81",
   "metadata": {},
   "outputs": [],
   "source": []
  }
 ],
 "metadata": {
  "kernelspec": {
   "display_name": "Python 3",
   "language": "python",
   "name": "python3"
  },
  "language_info": {
   "codemirror_mode": {
    "name": "ipython",
    "version": 3
   },
   "file_extension": ".py",
   "mimetype": "text/x-python",
   "name": "python",
   "nbconvert_exporter": "python",
   "pygments_lexer": "ipython3",
   "version": "3.8.8"
  }
 },
 "nbformat": 4,
 "nbformat_minor": 5
}
