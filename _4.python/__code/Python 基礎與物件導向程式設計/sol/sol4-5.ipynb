{
 "cells": [
  {
   "cell_type": "code",
   "execution_count": 1,
   "id": "cd000001",
   "metadata": {},
   "outputs": [
    {
     "name": "stdout",
     "output_type": "stream",
     "text": [
      "[[2, 4, 6, 8, 10, 12, 14, 16, 18], [3, 6, 9, 12, 15, 18, -1, -1, -1], [4, 8, 12, 16, 20, -1, -1, -1, -1], [5, 10, 15, 20, -1, -1, -1, -1, -1], [6, 12, 18, -1, -1, -1, -1, -1, -1], [7, 14, -1, -1, -1, -1, -1, -1, -1], [8, 16, -1, -1, -1, -1, -1, -1, -1], [9, 18, -1, -1, -1, -1, -1, -1, -1]]\n"
     ]
    }
   ],
   "source": [
    "list1 = [[-1 if i*j>20 else i*j for j in range(1, 9+1)] for i in range(2, 9+1)]\n",
    "print(list1)"
   ]
  },
  {
   "cell_type": "code",
   "execution_count": null,
   "id": "cc1bd601",
   "metadata": {},
   "outputs": [],
   "source": []
  }
 ],
 "metadata": {
  "kernelspec": {
   "display_name": "Python 3",
   "language": "python",
   "name": "python3"
  },
  "language_info": {
   "codemirror_mode": {
    "name": "ipython",
    "version": 3
   },
   "file_extension": ".py",
   "mimetype": "text/x-python",
   "name": "python",
   "nbconvert_exporter": "python",
   "pygments_lexer": "ipython3",
   "version": "3.8.8"
  }
 },
 "nbformat": 4,
 "nbformat_minor": 5
}
