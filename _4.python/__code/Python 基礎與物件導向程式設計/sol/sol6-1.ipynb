{
 "cells": [
  {
   "cell_type": "code",
   "execution_count": 2,
   "id": "8cd9d7dd",
   "metadata": {},
   "outputs": [],
   "source": [
    "# 北美獨立宣言\n",
    "str1 = 'Resolved: That these United Colonies are, and of right ought to be, '+ \\\n",
    "        'free and independent States, that they are absolved from all allegiance '+ \\\n",
    "        'to the British Crown, and that all political connection between them and '+ \\\n",
    "        'the State of Great Britain is, and ought to be, totally dissolved.'\n",
    "\n",
    "seplist = [':', ',', '.']\n",
    "for i in range(len(seplist)-1):\n",
    "    str1 = str1.replace(seplist[i], seplist[-1])\n",
    "\n",
    "slist = str1.split(seplist[-1])\n",
    "\n",
    "with open('resolution.txt', 'wt') as outf:\n",
    "    for s in slist:\n",
    "        outf.write(s.strip()+'\\n')"
   ]
  },
  {
   "cell_type": "code",
   "execution_count": null,
   "id": "108202dd",
   "metadata": {},
   "outputs": [],
   "source": []
  }
 ],
 "metadata": {
  "kernelspec": {
   "display_name": "Python 3",
   "language": "python",
   "name": "python3"
  },
  "language_info": {
   "codemirror_mode": {
    "name": "ipython",
    "version": 3
   },
   "file_extension": ".py",
   "mimetype": "text/x-python",
   "name": "python",
   "nbconvert_exporter": "python",
   "pygments_lexer": "ipython3",
   "version": "3.8.8"
  }
 },
 "nbformat": 4,
 "nbformat_minor": 5
}
