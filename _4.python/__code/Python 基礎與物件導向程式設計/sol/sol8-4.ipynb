{
 "cells": [
  {
   "cell_type": "code",
   "execution_count": 1,
   "id": "f6bdea5d",
   "metadata": {},
   "outputs": [
    {
     "name": "stdout",
     "output_type": "stream",
     "text": [
      "姓名：艾爾文，代號：AAPL00007，職稱：經理, 年薪：3600000\n",
      "姓名：里維，代號：AAPL00123，職稱：職員, 年薪：1188000\n",
      "姓名：艾倫，代號：AAPL98765，職稱：職員, 年薪：648000\n"
     ]
    }
   ],
   "source": [
    "class Employee:\n",
    "    # 建構式\n",
    "    def __init__(self, name, regid):\n",
    "        self._name = name\n",
    "        self._regid = regid\n",
    "        \n",
    "    @property\n",
    "    def name(self):\n",
    "        return self._name\n",
    "    \n",
    "    @property\n",
    "    def regid(self):\n",
    "        return self._regid\n",
    "    \n",
    "    def stat(self):\n",
    "        return '姓名：'+self._name+'，代號：'+self._regid\n",
    "\n",
    "class Manager(Employee):\n",
    "    # 建構式\n",
    "    def __init__(self, name, regid, salary):\n",
    "        super().__init__(name, regid)\n",
    "        self._annualSalary = salary\n",
    "        \n",
    "    def annualSalary(self):\n",
    "        return self._annualSalary\n",
    "    \n",
    "    def stat(self):\n",
    "        # 請注意子類別stat()運用了父類別stat()\n",
    "        return super().stat()+'，職稱：經理, 年薪：'+str(self.annualSalary())\n",
    "    \n",
    "class Worker(Employee):\n",
    "    # 建構式\n",
    "    def __init__(self, name, regid, salary):\n",
    "        super().__init__(name, regid)\n",
    "        self._monthlySalary = salary\n",
    "        \n",
    "    # 注意年薪計算\n",
    "    def annualSalary(self):\n",
    "        return self._monthlySalary*12\n",
    "    \n",
    "    def stat(self):\n",
    "        # 請注意子類別stat()運用了父類別stat()\n",
    "        return super().stat()+'，職稱：職員, 年薪：'+str(self.annualSalary())\n",
    "\n",
    "emp1 = Manager('艾爾文', 'AAPL00007', 3600000)\n",
    "emp2 = Worker('里維', 'AAPL00123', 99000)\n",
    "emp3 = Worker('艾倫', 'AAPL98765', 54000)\n",
    "emps = [emp1, emp2, emp3]\n",
    "for emp in emps:\n",
    "    print(emp.stat())"
   ]
  },
  {
   "cell_type": "code",
   "execution_count": null,
   "id": "e48290d9",
   "metadata": {},
   "outputs": [],
   "source": []
  }
 ],
 "metadata": {
  "kernelspec": {
   "display_name": "Python 3",
   "language": "python",
   "name": "python3"
  },
  "language_info": {
   "codemirror_mode": {
    "name": "ipython",
    "version": 3
   },
   "file_extension": ".py",
   "mimetype": "text/x-python",
   "name": "python",
   "nbconvert_exporter": "python",
   "pygments_lexer": "ipython3",
   "version": "3.8.8"
  }
 },
 "nbformat": 4,
 "nbformat_minor": 5
}
