{
 "cells": [
  {
   "cell_type": "code",
   "execution_count": 1,
   "id": "a39352f3",
   "metadata": {},
   "outputs": [
    {
     "name": "stdout",
     "output_type": "stream",
     "text": [
      "Car1 type: Sedan\n",
      "Car2 type: Sports\n",
      "Car3 type: Coupe\n",
      "Car4 type: Sedan\n"
     ]
    }
   ],
   "source": [
    "# 與上一章的寫法類似\n",
    "class Car:\n",
    "    # 建構式\n",
    "    def __init__(self, driverSide, doors, power):\n",
    "        # 布林值，True代表左駕\n",
    "        self.driverSide = driverSide    \n",
    "        # 可能數值：2, 3, 4，暫不檢查\n",
    "        self.doors = doors    \n",
    "        # 可能數值：'low', 'median', 'high'，暫不檢查\n",
    "        self.power = power    \n",
    "\n",
    "class Sedan(Car):\n",
    "    # 建構式\n",
    "    def __init__(self, driverSide, power):\n",
    "        # 直接設定部份屬性，建構父類別\n",
    "        super().__init__(driverSide, 4, power)\n",
    "    \n",
    "    def carType(self):\n",
    "        return 'Sedan' \n",
    "    \n",
    "class Coupe(Car):\n",
    "    # 建構式\n",
    "    def __init__(self, driverSide, doors):\n",
    "        # 直接設定部份屬性，建構父類別\n",
    "        super().__init__(driverSide, doors, 'median')\n",
    "    \n",
    "    def carType(self):\n",
    "        return 'Coupe' \n",
    "\n",
    "class Sports(Car):\n",
    "    # 建構式\n",
    "    def __init__(self, driverSide):\n",
    "        # 直接設定部份屬性，建構父類別\n",
    "        super().__init__(driverSide, 2, 'high')\n",
    "    \n",
    "    def carType(self):\n",
    "        return 'Sports' \n",
    "\n",
    "# 直接建構各款汽車物件\n",
    "car1 = Sedan(True, 'low')\n",
    "car2 = Sports(False)\n",
    "car3 = Coupe(True, 2)\n",
    "car4 = Sedan(False, 'median')\n",
    "print('Car1 type:', car1.carType())\n",
    "print('Car2 type:', car2.carType())\n",
    "print('Car3 type:', car3.carType())\n",
    "print('Car4 type:', car4.carType())"
   ]
  },
  {
   "cell_type": "code",
   "execution_count": null,
   "id": "2d29ea0f",
   "metadata": {},
   "outputs": [],
   "source": []
  }
 ],
 "metadata": {
  "kernelspec": {
   "display_name": "Python 3",
   "language": "python",
   "name": "python3"
  },
  "language_info": {
   "codemirror_mode": {
    "name": "ipython",
    "version": 3
   },
   "file_extension": ".py",
   "mimetype": "text/x-python",
   "name": "python",
   "nbconvert_exporter": "python",
   "pygments_lexer": "ipython3",
   "version": "3.8.8"
  }
 },
 "nbformat": 4,
 "nbformat_minor": 5
}
