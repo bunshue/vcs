{
 "cells": [
  {
   "cell_type": "code",
   "execution_count": 1,
   "id": "feaf2c3a",
   "metadata": {},
   "outputs": [
    {
     "name": "stdout",
     "output_type": "stream",
     "text": [
      "[0, 1, 2]\n",
      "[0, 1, 2, 3, 4]\n",
      "[0, 1, 2, 33, 44, 5]\n"
     ]
    }
   ],
   "source": [
    "list1 = [0, 1, 2, 3, 4, 5]\n",
    "print(list1[0:3])       # [0, 1, 2]，不包含索引值3的元素！\n",
    "print(list1[0:-1])      # [0, 1, 2, 3, 4]，沒有5哦！\n",
    "\n",
    "tup1 = (list1[999:3], list1[3:999])    # 超過界限，視為無限遠\n",
    "\n",
    "list1[-3:-1] = 33, 44   # 平行指定，猜猜是哪些位置？\n",
    "print(list1)            # [0, 1, 2, 33, 44, 5]"
   ]
  },
  {
   "cell_type": "code",
   "execution_count": null,
   "id": "9104e9f9",
   "metadata": {},
   "outputs": [],
   "source": []
  }
 ],
 "metadata": {
  "kernelspec": {
   "display_name": "Python 3",
   "language": "python",
   "name": "python3"
  },
  "language_info": {
   "codemirror_mode": {
    "name": "ipython",
    "version": 3
   },
   "file_extension": ".py",
   "mimetype": "text/x-python",
   "name": "python",
   "nbconvert_exporter": "python",
   "pygments_lexer": "ipython3",
   "version": "3.8.8"
  }
 },
 "nbformat": 4,
 "nbformat_minor": 5
}
