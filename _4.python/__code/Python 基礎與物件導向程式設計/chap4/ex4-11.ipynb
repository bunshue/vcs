{
 "cells": [
  {
   "cell_type": "code",
   "execution_count": 1,
   "id": "3c72bd88",
   "metadata": {},
   "outputs": [
    {
     "name": "stdout",
     "output_type": "stream",
     "text": [
      "1 7\n",
      "7 28\n",
      "[1, 2] [2, 4, 6]\n"
     ]
    }
   ],
   "source": [
    "list1 = [1, 2, 3, 4, 5, 6, 7]\n",
    "# 找最小、最大元素\n",
    "print(min(list1), max(list1))\n",
    "# 串列長度、串列加總\n",
    "print(len(list1), sum(list1))\n",
    "\n",
    "s0 = slice(0, 2)                 # 切片物件：定義切片範圍\n",
    "s1 = slice(1, -1, 2)\n",
    "print(list1[s0], list1[s1])      # list1直接帶入切片範圍\n",
    "# 結果：([1, 2], [2, 4, 6])"
   ]
  },
  {
   "cell_type": "code",
   "execution_count": null,
   "id": "f8a14441",
   "metadata": {},
   "outputs": [],
   "source": []
  }
 ],
 "metadata": {
  "kernelspec": {
   "display_name": "Python 3",
   "language": "python",
   "name": "python3"
  },
  "language_info": {
   "codemirror_mode": {
    "name": "ipython",
    "version": 3
   },
   "file_extension": ".py",
   "mimetype": "text/x-python",
   "name": "python",
   "nbconvert_exporter": "python",
   "pygments_lexer": "ipython3",
   "version": "3.8.8"
  }
 },
 "nbformat": 4,
 "nbformat_minor": 5
}
