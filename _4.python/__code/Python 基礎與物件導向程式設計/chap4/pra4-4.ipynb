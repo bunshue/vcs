{
 "cells": [
  {
   "cell_type": "code",
   "execution_count": 1,
   "id": "776d00a8",
   "metadata": {},
   "outputs": [
    {
     "name": "stdout",
     "output_type": "stream",
     "text": [
      "120\n"
     ]
    }
   ],
   "source": [
    "def product(itr):\n",
    "    it = iter(itr)    # 取出iterable\n",
    "    ret = 1\n",
    "    while True:\n",
    "        try:\n",
    "            ret *= next(it)  # 連乘下一個！\n",
    "        except:\n",
    "            break\n",
    "    return ret\n",
    "\n",
    "def factorial(n):\n",
    "    rng1 = range(1, n+1)\n",
    "    prod1 = product(rng1)\n",
    "    return prod1\n",
    "\n",
    "print(factorial(5))"
   ]
  },
  {
   "cell_type": "code",
   "execution_count": null,
   "id": "8e3e3f63",
   "metadata": {},
   "outputs": [],
   "source": []
  }
 ],
 "metadata": {
  "kernelspec": {
   "display_name": "Python 3",
   "language": "python",
   "name": "python3"
  },
  "language_info": {
   "codemirror_mode": {
    "name": "ipython",
    "version": 3
   },
   "file_extension": ".py",
   "mimetype": "text/x-python",
   "name": "python",
   "nbconvert_exporter": "python",
   "pygments_lexer": "ipython3",
   "version": "3.8.8"
  }
 },
 "nbformat": 4,
 "nbformat_minor": 5
}
