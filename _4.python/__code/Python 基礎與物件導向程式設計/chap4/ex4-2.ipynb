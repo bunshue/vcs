{
 "cells": [
  {
   "cell_type": "code",
   "execution_count": 1,
   "id": "c487e194",
   "metadata": {},
   "outputs": [
    {
     "name": "stdout",
     "output_type": "stream",
     "text": [
      "[30, 4, 5, 6, 7, 80]\n",
      "[30, 4, 5, 6, 7]\n",
      "[30, 4, 6, 7]\n"
     ]
    }
   ],
   "source": [
    "# 串列資料\n",
    "list1 = [3, 4, 5, 6, 7, 8]\n",
    "list1[0] = 30\n",
    "list1[-1] = list1[-1]*10\n",
    "print(list1)                # [30, 4, 5, 6, 7, 80]\n",
    "\n",
    "# del敘述用來刪除物件\n",
    "del list1[-1]\n",
    "print(list1)                # [30, 4, 5, 6, 7]\n",
    "del list1[2]\n",
    "print(list1)                # [30, 4, 6, 7]"
   ]
  },
  {
   "cell_type": "code",
   "execution_count": null,
   "id": "d8fef0f6",
   "metadata": {},
   "outputs": [],
   "source": []
  }
 ],
 "metadata": {
  "kernelspec": {
   "display_name": "Python 3",
   "language": "python",
   "name": "python3"
  },
  "language_info": {
   "codemirror_mode": {
    "name": "ipython",
    "version": 3
   },
   "file_extension": ".py",
   "mimetype": "text/x-python",
   "name": "python",
   "nbconvert_exporter": "python",
   "pygments_lexer": "ipython3",
   "version": "3.8.8"
  }
 },
 "nbformat": 4,
 "nbformat_minor": 5
}
