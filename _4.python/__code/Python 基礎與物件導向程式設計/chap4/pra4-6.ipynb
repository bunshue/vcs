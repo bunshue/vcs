{
 "cells": [
  {
   "cell_type": "code",
   "execution_count": 1,
   "id": "5fa56085",
   "metadata": {},
   "outputs": [
    {
     "name": "stdout",
     "output_type": "stream",
     "text": [
      "[7, 9, 14, 18, 21, 27, 28, 35, 36, 42, 45, 49, 54, 56, 63, 70, 72, 77, 81, 84, 90, 91, 98, 99, 105, 108, 112, 117, 119, 126, 133, 135, 140, 144, 147, 153, 154, 161, 162, 168, 171, 175, 180, 182, 189, 196, 198, 203, 207, 210, 216, 217, 224, 225, 231, 234, 238, 243, 245, 252, 259, 261, 266, 270, 273, 279, 280, 287, 288, 294, 297, 301, 306, 308, 315, 322, 324, 329, 333, 336, 342, 343, 350, 351, 357, 360, 364, 369, 371, 378, 385, 387, 392, 396, 399, 405, 406, 413, 414, 420, 423, 427, 432, 434, 441, 448, 450, 455, 459, 462, 468, 469, 476, 477, 483, 486, 490, 495, 497]\n",
      "29988\n"
     ]
    }
   ],
   "source": [
    "# 製作出小於500的自然數串列\n",
    "list1 = list(range(1, 500))\n",
    "\n",
    "# 過濾出7或9的倍數\n",
    "list2 = [num for num in list1 if num%7==0 or num%9==0]\n",
    "\n",
    "# 結案！\n",
    "print(list2)\n",
    "print(sum(list2))"
   ]
  },
  {
   "cell_type": "code",
   "execution_count": null,
   "id": "8f664ea2",
   "metadata": {},
   "outputs": [],
   "source": []
  }
 ],
 "metadata": {
  "kernelspec": {
   "display_name": "Python 3",
   "language": "python",
   "name": "python3"
  },
  "language_info": {
   "codemirror_mode": {
    "name": "ipython",
    "version": 3
   },
   "file_extension": ".py",
   "mimetype": "text/x-python",
   "name": "python",
   "nbconvert_exporter": "python",
   "pygments_lexer": "ipython3",
   "version": "3.8.8"
  }
 },
 "nbformat": 4,
 "nbformat_minor": 5
}
