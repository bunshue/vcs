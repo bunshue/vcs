{
 "cells": [
  {
   "cell_type": "code",
   "execution_count": 1,
   "id": "d7d367ca",
   "metadata": {},
   "outputs": [
    {
     "name": "stdout",
     "output_type": "stream",
     "text": [
      "0\n",
      "1\n",
      "2\n",
      "0\n",
      "1\n",
      "2\n",
      "0\n",
      "1\n",
      "2\n"
     ]
    }
   ],
   "source": [
    "list1 = [0, 1, 2]\n",
    "for x in list1:\n",
    "    print(x)         # 迭代提供串列元素\n",
    "\n",
    "tup1 = (0, 1, 2)\n",
    "for x in tup1:\n",
    "    print(x)         # 迭代提供值組元素\n",
    "\n",
    "rng1 = range(3)\n",
    "for x in rng1:\n",
    "    print(x)         # 迭代提供範圍元素"
   ]
  },
  {
   "cell_type": "code",
   "execution_count": null,
   "id": "2810f932",
   "metadata": {},
   "outputs": [],
   "source": []
  }
 ],
 "metadata": {
  "kernelspec": {
   "display_name": "Python 3",
   "language": "python",
   "name": "python3"
  },
  "language_info": {
   "codemirror_mode": {
    "name": "ipython",
    "version": 3
   },
   "file_extension": ".py",
   "mimetype": "text/x-python",
   "name": "python",
   "nbconvert_exporter": "python",
   "pygments_lexer": "ipython3",
   "version": "3.8.8"
  }
 },
 "nbformat": 4,
 "nbformat_minor": 5
}
