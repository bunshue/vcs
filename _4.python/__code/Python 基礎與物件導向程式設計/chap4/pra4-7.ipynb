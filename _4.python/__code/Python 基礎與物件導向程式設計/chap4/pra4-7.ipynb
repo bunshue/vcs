{
 "cells": [
  {
   "cell_type": "code",
   "execution_count": 1,
   "id": "f649042a",
   "metadata": {},
   "outputs": [
    {
     "name": "stdout",
     "output_type": "stream",
     "text": [
      "(1, 101234.0)\n",
      "(2, 102483.22756000001)\n",
      "(3, 103747.8705880904)\n",
      "(4, 105028.11931114744)\n",
      "(5, 106324.16630344701)\n",
      "(6, 107636.20651563155)\n",
      "(7, 108964.43730403445)\n",
      "(8, 110309.05846036623)\n",
      "(9, 111670.27224176716)\n",
      "(10, 113048.28340123057)\n",
      "(11, 114443.29921840175)\n",
      "(12, 115855.52953075682)\n",
      "(13, 117285.18676516638)\n",
      "(14, 118732.48596984851)\n",
      "(15, 120197.64484671644)\n",
      "(16, 121680.88378412493)\n",
      "(17, 123182.42589002104)\n",
      "(18, 124702.4970255039)\n",
      "(19, 126241.32583879861)\n",
      "(20, 127799.1437996494)\n"
     ]
    }
   ],
   "source": [
    "# 現在國家就可以借你這麼多！\n",
    "dep = 100000\n",
    "rate = 1.0+0.01234   # 1.234%利率\n",
    "\n",
    "# 把年份也製造出來！\n",
    "list1 = [(i, dep*(rate**i)) for i in range(1, 20+1)]\n",
    "\n",
    "# 輸出\n",
    "for item in list1:\n",
    "    print(item)"
   ]
  },
  {
   "cell_type": "code",
   "execution_count": null,
   "id": "8994ae4b",
   "metadata": {},
   "outputs": [],
   "source": []
  }
 ],
 "metadata": {
  "kernelspec": {
   "display_name": "Python 3",
   "language": "python",
   "name": "python3"
  },
  "language_info": {
   "codemirror_mode": {
    "name": "ipython",
    "version": 3
   },
   "file_extension": ".py",
   "mimetype": "text/x-python",
   "name": "python",
   "nbconvert_exporter": "python",
   "pygments_lexer": "ipython3",
   "version": "3.8.8"
  }
 },
 "nbformat": 4,
 "nbformat_minor": 5
}
