{
 "cells": [
  {
   "cell_type": "code",
   "execution_count": 1,
   "id": "0e459a32",
   "metadata": {},
   "outputs": [
    {
     "name": "stdout",
     "output_type": "stream",
     "text": [
      "900\n",
      "225.0\n"
     ]
    }
   ],
   "source": [
    "list1 = [30, 45, 1024, 2500, 699, 126]\n",
    "\n",
    "# 過濾出小於1000元的消費\n",
    "list2 = [num for num in list1 if num<1000]\n",
    "sum1 = sum(list2)        # 用sum做消費加總\n",
    "avg1 = sum1/len(list2)   # 用len取消費筆數\n",
    "\n",
    "print(sum1)\n",
    "print(avg1)"
   ]
  },
  {
   "cell_type": "code",
   "execution_count": null,
   "id": "f018cb1e",
   "metadata": {},
   "outputs": [],
   "source": []
  }
 ],
 "metadata": {
  "kernelspec": {
   "display_name": "Python 3",
   "language": "python",
   "name": "python3"
  },
  "language_info": {
   "codemirror_mode": {
    "name": "ipython",
    "version": 3
   },
   "file_extension": ".py",
   "mimetype": "text/x-python",
   "name": "python",
   "nbconvert_exporter": "python",
   "pygments_lexer": "ipython3",
   "version": "3.8.8"
  }
 },
 "nbformat": 4,
 "nbformat_minor": 5
}
