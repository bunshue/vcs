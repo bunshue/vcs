{
 "cells": [
  {
   "cell_type": "code",
   "execution_count": 1,
   "id": "afbd00cc",
   "metadata": {},
   "outputs": [
    {
     "name": "stdout",
     "output_type": "stream",
     "text": [
      "[1, 3]\n",
      "[5, 3]\n",
      "[5, 4, 3, 2, 1, 0]\n",
      "[0, 9, 8, 7, 3, 4, 5]\n"
     ]
    }
   ],
   "source": [
    "list1 = [0, 1, 2, 3, 4, 5]\n",
    "print(list1[1:5:2])         # [1, 3]\n",
    "print(list1[-1:1:-2])       # k是負數，由後往前數：[5, 3]\n",
    "print(list1[::-1])          # 反轉整個串列：[5, 4, 3, 2, 1, 0]\n",
    "a, b, c = list1[1:4]        # a=1, b=2, c=3\n",
    "x, *y = list1[1::2]         # 還記得函數參數的星號嗎？ x=1, y=[3, 5]\n",
    "list1[1:3] = 9, 8, 7        # 索引範圍指稱兩個，卻餵了三個，怎辦？！\n",
    "print(list1)"
   ]
  },
  {
   "cell_type": "code",
   "execution_count": null,
   "id": "91576d2e",
   "metadata": {},
   "outputs": [],
   "source": []
  }
 ],
 "metadata": {
  "kernelspec": {
   "display_name": "Python 3",
   "language": "python",
   "name": "python3"
  },
  "language_info": {
   "codemirror_mode": {
    "name": "ipython",
    "version": 3
   },
   "file_extension": ".py",
   "mimetype": "text/x-python",
   "name": "python",
   "nbconvert_exporter": "python",
   "pygments_lexer": "ipython3",
   "version": "3.8.8"
  }
 },
 "nbformat": 4,
 "nbformat_minor": 5
}
