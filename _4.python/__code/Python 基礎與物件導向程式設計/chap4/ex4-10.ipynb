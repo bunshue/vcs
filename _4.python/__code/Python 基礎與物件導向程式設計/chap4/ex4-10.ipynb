{
 "cells": [
  {
   "cell_type": "code",
   "execution_count": 1,
   "id": "e2a03b34",
   "metadata": {},
   "outputs": [
    {
     "name": "stdout",
     "output_type": "stream",
     "text": [
      "False\n",
      "True\n",
      "[0, 1, 2, 0, 1, 2, 0, 1, 2]\n"
     ]
    }
   ],
   "source": [
    "tup1 = tup2 = (0, 1, 2)    # tup1和tup2指向同一個tuple物件\n",
    "tup1 += (3, 4)             # tuple內容不能變更，所以產生新tuple\n",
    "print(tup1 is tup2)        # 比較是否是同一物件？當然不是\n",
    "# tup1是(0, 1, 2, 3, 4)，而tup2是(0,1,2)\n",
    "\n",
    "list1 = list2 = [0, 1, 2]  # list1和list2指向同一個list物件\n",
    "list1 += [3, 4]            # list內容可以變更，所以物件內容變了\n",
    "print(list1 is list2)\n",
    "\n",
    "list3 = list4 = [0, 1, 2]  # list3和list4指向同一個list物件\n",
    "list3 *= 3                 # 元素內容重複三次！\n",
    "print(list4)               # [0, 1, 2, 0, 1, 2, 0, 1, 2]"
   ]
  },
  {
   "cell_type": "code",
   "execution_count": null,
   "id": "3c7d929b",
   "metadata": {},
   "outputs": [],
   "source": []
  }
 ],
 "metadata": {
  "kernelspec": {
   "display_name": "Python 3",
   "language": "python",
   "name": "python3"
  },
  "language_info": {
   "codemirror_mode": {
    "name": "ipython",
    "version": 3
   },
   "file_extension": ".py",
   "mimetype": "text/x-python",
   "name": "python",
   "nbconvert_exporter": "python",
   "pygments_lexer": "ipython3",
   "version": "3.8.8"
  }
 },
 "nbformat": 4,
 "nbformat_minor": 5
}
