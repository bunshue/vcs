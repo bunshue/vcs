{
 "cells": [
  {
   "cell_type": "code",
   "execution_count": 1,
   "id": "28dd1c2d",
   "metadata": {},
   "outputs": [
    {
     "name": "stdout",
     "output_type": "stream",
     "text": [
      "[0, 1, 2, 3]\n",
      "[0, 1, 2, 3, 2, 5]\n",
      "[0, 1, 2, 'a', 3, 2, 5]\n",
      "[0, 1, 'a', 3, 2, 5]\n",
      "[0, 1, 'a', 3, 2]\n",
      "[2, 3, 'a', 1, 0]\n"
     ]
    }
   ],
   "source": [
    "list1 = [0, 1, 2]\n",
    "list1.append(3)       # 加入元素\n",
    "print(list1)          # [0, 1, 2, 3]\n",
    "list1.extend([2, 5])  # 加入另一個list\n",
    "print(list1)          # [0, 1, 2, 3, 2, 5]\n",
    "list1.insert(3, 'a')  # 指定位置插入元素\n",
    "print(list1)          # [0, 1, 2, 'a', 3, 2, 5]\n",
    "list1.remove(2)     # 移除指定元素（第一次出現的哦！）\n",
    "print(list1)          # [0, 1, 'a', 3, 2, 5]\n",
    "list1.pop()           # 取出最後一個元素\n",
    "print(list1)          # [0, 1, 'a', 3, 2]\n",
    "list1.reverse()       # 倒過來！！\n",
    "print(list1)          # [2, 3, 'a', 1, 0]"
   ]
  },
  {
   "cell_type": "code",
   "execution_count": null,
   "id": "fc8a31b8",
   "metadata": {},
   "outputs": [],
   "source": []
  }
 ],
 "metadata": {
  "kernelspec": {
   "display_name": "Python 3",
   "language": "python",
   "name": "python3"
  },
  "language_info": {
   "codemirror_mode": {
    "name": "ipython",
    "version": 3
   },
   "file_extension": ".py",
   "mimetype": "text/x-python",
   "name": "python",
   "nbconvert_exporter": "python",
   "pygments_lexer": "ipython3",
   "version": "3.8.8"
  }
 },
 "nbformat": 4,
 "nbformat_minor": 5
}
