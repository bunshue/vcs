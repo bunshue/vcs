{
 "cells": [
  {
   "cell_type": "code",
   "execution_count": 1,
   "id": "16fcbcbe",
   "metadata": {},
   "outputs": [
    {
     "name": "stdout",
     "output_type": "stream",
     "text": [
      "True\n",
      "False\n",
      "True\n",
      "False\n",
      "True\n",
      "True\n"
     ]
    }
   ],
   "source": [
    "list1 = [0, 1, 2, 3, 4]\n",
    "list2 = list1[:]             # list2複製了list1\n",
    "\n",
    "print(list1 == list2)        # 內容相同? 是的！\n",
    "print(list1 is list2)        # 同一物件? 非也，是副本\n",
    "print(3 in list1)            # 3這個元素在list1嗎？對！\n",
    "print([3] in list1)          # [3]這個元素在list1嗎？錯！\n",
    "\n",
    "tup1 = (0, 1, 2)\n",
    "tup2 = tup1[:]               # tup2複製了tup1，但要注意tuple不可變哦\n",
    "tup3 = tuple(tup1)           # tup3複製了tup1，使用物件建構\n",
    "print(tup2 is tup1)          # True!!\n",
    "print(tup3 is tup1)          # True!!"
   ]
  },
  {
   "cell_type": "code",
   "execution_count": null,
   "id": "860cf3d5",
   "metadata": {},
   "outputs": [],
   "source": []
  }
 ],
 "metadata": {
  "kernelspec": {
   "display_name": "Python 3",
   "language": "python",
   "name": "python3"
  },
  "language_info": {
   "codemirror_mode": {
    "name": "ipython",
    "version": 3
   },
   "file_extension": ".py",
   "mimetype": "text/x-python",
   "name": "python",
   "nbconvert_exporter": "python",
   "pygments_lexer": "ipython3",
   "version": "3.8.8"
  }
 },
 "nbformat": 4,
 "nbformat_minor": 5
}
