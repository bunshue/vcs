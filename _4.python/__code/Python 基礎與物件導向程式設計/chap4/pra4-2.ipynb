{
 "cells": [
  {
   "cell_type": "code",
   "execution_count": 1,
   "id": "1788fa90",
   "metadata": {},
   "outputs": [
    {
     "name": "stdout",
     "output_type": "stream",
     "text": [
      "0 Amy 70\n",
      "1 Bob 92\n",
      "2 Cathy 85\n"
     ]
    }
   ],
   "source": [
    "names = ['Amy', 'Bob', 'Cathy']\n",
    "scores = [70, 92, 85]\n",
    "list1 = list(enumerate(zip(names, scores)))\n",
    "# [(0, ('Amy', 70)), (1, ('Bob', 92)), (2, ('Cathy', 85))]\n",
    "for item in list1:\n",
    "    print(item[0], item[1][0], item[1][1])"
   ]
  },
  {
   "cell_type": "code",
   "execution_count": null,
   "id": "6873c7a1",
   "metadata": {},
   "outputs": [],
   "source": []
  }
 ],
 "metadata": {
  "kernelspec": {
   "display_name": "Python 3",
   "language": "python",
   "name": "python3"
  },
  "language_info": {
   "codemirror_mode": {
    "name": "ipython",
    "version": 3
   },
   "file_extension": ".py",
   "mimetype": "text/x-python",
   "name": "python",
   "nbconvert_exporter": "python",
   "pygments_lexer": "ipython3",
   "version": "3.8.8"
  }
 },
 "nbformat": 4,
 "nbformat_minor": 5
}
