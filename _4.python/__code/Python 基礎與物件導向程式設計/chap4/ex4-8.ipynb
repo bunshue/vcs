{
 "cells": [
  {
   "cell_type": "code",
   "execution_count": 1,
   "id": "5ea4bd44",
   "metadata": {},
   "outputs": [
    {
     "name": "stdout",
     "output_type": "stream",
     "text": [
      "['a', [0, 1], 'a', [0, 1], 'a', [0, 1]]\n",
      "['a', [0, 9], 'a', [0, 9], 'a', [0, 9]]\n"
     ]
    }
   ],
   "source": [
    "list1 = ['a', [0, 1]]\n",
    "list2 = list1 * 3\n",
    "print(list2)          # ['a', [0, 1], 'a', [0, 1], 'a', [0, 1]]\n",
    "list1[1][1] = 9       # 設定list1中元素的內容值！\n",
    "print(list2)          # ['a', [0, 9], 'a', [0, 9], 'a', [0, 9]]\n",
    "# 結果影響及於list2！為什麼？"
   ]
  },
  {
   "cell_type": "code",
   "execution_count": null,
   "id": "e5601d15",
   "metadata": {},
   "outputs": [],
   "source": []
  }
 ],
 "metadata": {
  "kernelspec": {
   "display_name": "Python 3",
   "language": "python",
   "name": "python3"
  },
  "language_info": {
   "codemirror_mode": {
    "name": "ipython",
    "version": 3
   },
   "file_extension": ".py",
   "mimetype": "text/x-python",
   "name": "python",
   "nbconvert_exporter": "python",
   "pygments_lexer": "ipython3",
   "version": "3.8.8"
  }
 },
 "nbformat": 4,
 "nbformat_minor": 5
}
