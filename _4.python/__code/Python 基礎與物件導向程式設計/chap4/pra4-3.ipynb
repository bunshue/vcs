{
 "cells": [
  {
   "cell_type": "code",
   "execution_count": 1,
   "id": "3d9bfdb4",
   "metadata": {},
   "outputs": [
    {
     "name": "stdout",
     "output_type": "stream",
     "text": [
      "1\n",
      "3\n",
      "5\n",
      "7\n",
      "9\n",
      "Sum = 25\n"
     ]
    }
   ],
   "source": [
    "list1 = [1, 2, 3, 4, 5, 6, 7, 8, 9]\n",
    "\n",
    "it = iter(list1)\n",
    "sum1 = 0\n",
    "while True:\n",
    "    try:\n",
    "        val = next(it)\n",
    "        if val%2==1:\n",
    "            print(val)\n",
    "            sum1 += val\n",
    "    except:\n",
    "        break\n",
    "print('Sum =', sum1)"
   ]
  },
  {
   "cell_type": "code",
   "execution_count": null,
   "id": "0003811c",
   "metadata": {},
   "outputs": [],
   "source": []
  }
 ],
 "metadata": {
  "kernelspec": {
   "display_name": "Python 3",
   "language": "python",
   "name": "python3"
  },
  "language_info": {
   "codemirror_mode": {
    "name": "ipython",
    "version": 3
   },
   "file_extension": ".py",
   "mimetype": "text/x-python",
   "name": "python",
   "nbconvert_exporter": "python",
   "pygments_lexer": "ipython3",
   "version": "3.8.8"
  }
 },
 "nbformat": 4,
 "nbformat_minor": 5
}
