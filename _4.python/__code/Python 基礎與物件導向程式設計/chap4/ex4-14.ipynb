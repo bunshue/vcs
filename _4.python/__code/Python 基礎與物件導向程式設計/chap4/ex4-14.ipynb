{
 "cells": [
  {
   "cell_type": "code",
   "execution_count": 1,
   "id": "94690334",
   "metadata": {},
   "outputs": [
    {
     "name": "stdout",
     "output_type": "stream",
     "text": [
      "[1, 3, 5, 7, 9]\n",
      "[('a', 30), ('b', 41), ('c', 52)]\n",
      "[(0, 'a'), (1, 'b'), (2, 'c')]\n",
      "[2, 3, 5, 9]\n",
      "[5, 9, 2, 3]\n"
     ]
    }
   ],
   "source": [
    "print(list(range(1, 10+1, 2)))    \n",
    "# [1, 3, 5, 7, 9]，請注意range的中止範圍不計\n",
    "\n",
    "print(list(zip(('a', 'b', 'c'), (30, 41, 52))))\n",
    "# [('a', 30), ('b', 41), ('c', 52)]\n",
    "\n",
    "print(list(enumerate(['a', 'b', 'c'])))  \n",
    "# [(0, 'a'), (1, 'b'), (2, 'c')]\n",
    "\n",
    "print(sorted([3, 2, 9, 5]))              \n",
    "# [2, 3, 5, 9]\n",
    "\n",
    "print(list(reversed([3, 2, 9, 5])))      \n",
    "# [5, 9, 2, 3]，但這reversed是不是很多餘！！"
   ]
  },
  {
   "cell_type": "code",
   "execution_count": null,
   "id": "67bdc7c2",
   "metadata": {},
   "outputs": [],
   "source": []
  }
 ],
 "metadata": {
  "kernelspec": {
   "display_name": "Python 3",
   "language": "python",
   "name": "python3"
  },
  "language_info": {
   "codemirror_mode": {
    "name": "ipython",
    "version": 3
   },
   "file_extension": ".py",
   "mimetype": "text/x-python",
   "name": "python",
   "nbconvert_exporter": "python",
   "pygments_lexer": "ipython3",
   "version": "3.8.8"
  }
 },
 "nbformat": 4,
 "nbformat_minor": 5
}
