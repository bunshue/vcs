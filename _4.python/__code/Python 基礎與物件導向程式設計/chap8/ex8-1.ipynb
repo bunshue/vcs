{
 "cells": [
  {
   "cell_type": "code",
   "execution_count": 1,
   "id": "e91c0156",
   "metadata": {},
   "outputs": [
    {
     "name": "stdout",
     "output_type": "stream",
     "text": [
      "A init: 1 , 2\n",
      "B init: 1 , 2 , 3\n",
      "A init: 4 , 5\n"
     ]
    }
   ],
   "source": [
    "class A:       # 沒有標示繼承，預設繼承object\n",
    "    def __init__(self, x, y):\n",
    "        self.x = x\n",
    "        self.y = y\n",
    "        print('A init:', x, ',', y)\n",
    "        \n",
    "class B(A):    # B繼承A，A繼承object\n",
    "    def __init__(self, x, y, z):\n",
    "        # super()的意思是先執行好父類別的建構工作\n",
    "        #super().__init__(x, y)\n",
    "        super(B, self).__init__(x, y)\n",
    "        self.z = z\n",
    "        print('B init:', x, ',', y, ',', z)\n",
    "        \n",
    "b = B(1, 2, 3)\n",
    "a = A(4, 5)"
   ]
  },
  {
   "cell_type": "code",
   "execution_count": null,
   "id": "5dc0cd03",
   "metadata": {},
   "outputs": [],
   "source": []
  }
 ],
 "metadata": {
  "kernelspec": {
   "display_name": "Python 3",
   "language": "python",
   "name": "python3"
  },
  "language_info": {
   "codemirror_mode": {
    "name": "ipython",
    "version": 3
   },
   "file_extension": ".py",
   "mimetype": "text/x-python",
   "name": "python",
   "nbconvert_exporter": "python",
   "pygments_lexer": "ipython3",
   "version": "3.8.8"
  }
 },
 "nbformat": 4,
 "nbformat_minor": 5
}
