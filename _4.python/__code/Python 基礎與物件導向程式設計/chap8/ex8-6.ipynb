{
 "cells": [
  {
   "cell_type": "code",
   "execution_count": 1,
   "id": "e8eb6a9e",
   "metadata": {},
   "outputs": [
    {
     "name": "stdout",
     "output_type": "stream",
     "text": [
      "鸚鵡能飛翔\n",
      "企鵝不能飛翔\n",
      "我是鳥類\n",
      "我是鳥類\n"
     ]
    }
   ],
   "source": [
    "class Bird:          # 父類別\n",
    "    def fly(self):\n",
    "        print(\"大多數鳥能飛翔\")\n",
    "    \n",
    "    def swim(self):\n",
    "        print(\"少部份鳥能游水\")\n",
    "    \n",
    "    def display(self):\n",
    "        print(\"我是鳥類\")\n",
    "\n",
    "class Parrot(Bird):  # 繼承Bird\n",
    "    def fly(self):   # 覆寫方法\n",
    "        print(\"鸚鵡能飛翔\")\n",
    "    \n",
    "    def swim(self):  # 覆寫方法\n",
    "        print(\"鸚鵡不能游水\")\n",
    "\n",
    "class Penguin(Bird): # 繼承Bird\n",
    "    def fly(self):   # 覆寫方法\n",
    "        print(\"企鵝不能飛翔\")\n",
    "    \n",
    "    def swim(self):  # 覆寫方法\n",
    "        print(\"企鵝能游水\")\n",
    "\n",
    "# 共同介面\n",
    "def flying_test(bird):\n",
    "    bird.fly()\n",
    "    \n",
    "def display_test(bird):\n",
    "    bird.display()\n",
    "\n",
    "# 建立物件實例\n",
    "p1 = Parrot()\n",
    "p2 = Penguin()\n",
    "\n",
    "# 傳入物件測試\n",
    "flying_test(p1)\n",
    "flying_test(p2)\n",
    "\n",
    "# 傳入物件測試\n",
    "display_test(p1)\n",
    "display_test(p2)"
   ]
  },
  {
   "cell_type": "code",
   "execution_count": null,
   "id": "cf6721d4",
   "metadata": {},
   "outputs": [],
   "source": []
  }
 ],
 "metadata": {
  "kernelspec": {
   "display_name": "Python 3",
   "language": "python",
   "name": "python3"
  },
  "language_info": {
   "codemirror_mode": {
    "name": "ipython",
    "version": 3
   },
   "file_extension": ".py",
   "mimetype": "text/x-python",
   "name": "python",
   "nbconvert_exporter": "python",
   "pygments_lexer": "ipython3",
   "version": "3.8.8"
  }
 },
 "nbformat": 4,
 "nbformat_minor": 5
}
