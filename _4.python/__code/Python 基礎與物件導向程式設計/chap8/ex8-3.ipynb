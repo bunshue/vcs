{
 "cells": [
  {
   "cell_type": "code",
   "execution_count": 1,
   "id": "5685be77",
   "metadata": {},
   "outputs": [
    {
     "name": "stdout",
     "output_type": "stream",
     "text": [
      "3.14\n"
     ]
    }
   ],
   "source": [
    "class A:\n",
    "    def __init__(self):\n",
    "        self.x = 3\n",
    "        self.__pi = 3.14\n",
    "\n",
    "class B(A):\n",
    "    def bar(self):\n",
    "        # return self.__pi 這樣寫會錯！！\n",
    "        return self._A__pi   # 會被改成_A__pi\n",
    "\n",
    "\n",
    "b1 = B()\n",
    "print(b1.bar())      # 3.14"
   ]
  },
  {
   "cell_type": "code",
   "execution_count": null,
   "id": "d0c5f8cb",
   "metadata": {},
   "outputs": [],
   "source": []
  }
 ],
 "metadata": {
  "kernelspec": {
   "display_name": "Python 3",
   "language": "python",
   "name": "python3"
  },
  "language_info": {
   "codemirror_mode": {
    "name": "ipython",
    "version": 3
   },
   "file_extension": ".py",
   "mimetype": "text/x-python",
   "name": "python",
   "nbconvert_exporter": "python",
   "pygments_lexer": "ipython3",
   "version": "3.8.8"
  }
 },
 "nbformat": 4,
 "nbformat_minor": 5
}
