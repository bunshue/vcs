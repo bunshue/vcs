{
 "cells": [
  {
   "cell_type": "code",
   "execution_count": 1,
   "id": "41d84bf0",
   "metadata": {},
   "outputs": [
    {
     "name": "stdout",
     "output_type": "stream",
     "text": [
      "汪！\n",
      "喵～\n"
     ]
    }
   ],
   "source": [
    "class Animal():\n",
    "    def shout(self):\n",
    "        print('動物吼')\n",
    "\n",
    "class Dog(Animal):\n",
    "    def shout(self):     # 覆寫Animal的shout\n",
    "        print('汪！')\n",
    "\n",
    "class Cat(Animal):\n",
    "    def shout(self):     # 覆寫Animal的shout\n",
    "        print('喵～')\n",
    "\n",
    "\n",
    "dog1 = Dog()\n",
    "cat1 = Cat()\n",
    "dog1.shout()\n",
    "cat1.shout()"
   ]
  },
  {
   "cell_type": "code",
   "execution_count": null,
   "id": "596249b7",
   "metadata": {},
   "outputs": [],
   "source": []
  }
 ],
 "metadata": {
  "kernelspec": {
   "display_name": "Python 3",
   "language": "python",
   "name": "python3"
  },
  "language_info": {
   "codemirror_mode": {
    "name": "ipython",
    "version": 3
   },
   "file_extension": ".py",
   "mimetype": "text/x-python",
   "name": "python",
   "nbconvert_exporter": "python",
   "pygments_lexer": "ipython3",
   "version": "3.8.8"
  }
 },
 "nbformat": 4,
 "nbformat_minor": 5
}
