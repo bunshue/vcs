{
 "cells": [
  {
   "cell_type": "code",
   "execution_count": 1,
   "id": "7954bbee",
   "metadata": {},
   "outputs": [
    {
     "name": "stdout",
     "output_type": "stream",
     "text": [
      "1\n",
      "0\n"
     ]
    }
   ],
   "source": [
    "str1 = \"12345\"\n",
    "list1 = [1, 2, 3, 4, \"5\"]\n",
    "print(str1.count(\"4\"))     # 計算字串\"4\"出現次數\n",
    "print(list1.count(\"4\"))    # 計算字串\"4\"出現次數\n",
    "# 同樣叫count的方法，會有不同行為"
   ]
  },
  {
   "cell_type": "code",
   "execution_count": null,
   "id": "21af842e",
   "metadata": {},
   "outputs": [],
   "source": []
  }
 ],
 "metadata": {
  "kernelspec": {
   "display_name": "Python 3",
   "language": "python",
   "name": "python3"
  },
  "language_info": {
   "codemirror_mode": {
    "name": "ipython",
    "version": 3
   },
   "file_extension": ".py",
   "mimetype": "text/x-python",
   "name": "python",
   "nbconvert_exporter": "python",
   "pygments_lexer": "ipython3",
   "version": "3.8.8"
  }
 },
 "nbformat": 4,
 "nbformat_minor": 5
}
