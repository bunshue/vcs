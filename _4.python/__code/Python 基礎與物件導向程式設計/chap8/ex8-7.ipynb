{
 "cells": [
  {
   "cell_type": "code",
   "execution_count": 1,
   "id": "e342a05e",
   "metadata": {},
   "outputs": [
    {
     "name": "stdout",
     "output_type": "stream",
     "text": [
      "True\n"
     ]
    }
   ],
   "source": [
    "class SimpleSale:\n",
    "    def __init__(self, name, price):\n",
    "        self._name = name\n",
    "        self._price = price\n",
    "        \n",
    "    @property\n",
    "    def name(self):\n",
    "        return self._name\n",
    "    \n",
    "    @name.setter\n",
    "    def name(self, v):\n",
    "        self._name = v\n",
    "        \n",
    "    @property\n",
    "    def price(self):\n",
    "        return self._price\n",
    "    \n",
    "    @price.setter\n",
    "    def price(self, v):\n",
    "        self._price = v\n",
    "        \n",
    "    def bill(self):\n",
    "        return self._price\n",
    "    \n",
    "    def lessThan(self, other):\n",
    "        return self.bill()<other.bill()\n",
    "    \n",
    "class DiscountSale(SimpleSale):\n",
    "    def __init__(self, name, price, discount):\n",
    "        super().__init__(name, price)\n",
    "        self._discount = discount\n",
    "        \n",
    "    def bill(self):\n",
    "        return super().price*(1 - self._discount/100)\n",
    "        \n",
    "\n",
    "sale1 = SimpleSale('地毯', 1000)\n",
    "sale2 = DiscountSale('地毯', 1100, 10)\n",
    "print(sale2.lessThan(sale1))"
   ]
  },
  {
   "cell_type": "code",
   "execution_count": null,
   "id": "d48fabd5",
   "metadata": {},
   "outputs": [],
   "source": []
  }
 ],
 "metadata": {
  "kernelspec": {
   "display_name": "Python 3",
   "language": "python",
   "name": "python3"
  },
  "language_info": {
   "codemirror_mode": {
    "name": "ipython",
    "version": 3
   },
   "file_extension": ".py",
   "mimetype": "text/x-python",
   "name": "python",
   "nbconvert_exporter": "python",
   "pygments_lexer": "ipython3",
   "version": "3.8.8"
  }
 },
 "nbformat": 4,
 "nbformat_minor": 5
}
