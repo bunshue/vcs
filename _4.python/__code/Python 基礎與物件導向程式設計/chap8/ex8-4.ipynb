{
 "cells": [
  {
   "cell_type": "code",
   "execution_count": 1,
   "id": "0b336eaa",
   "metadata": {},
   "outputs": [
    {
     "name": "stdout",
     "output_type": "stream",
     "text": [
      "Amphibian-start\n",
      "WheeledVehicle-start\n",
      "WaterVehicle-start\n",
      "Vehicle-start\n",
      "Vehicle-done\n",
      "WaterVehicle-done\n",
      "WheeledVehicle-done\n",
      "Amphibian-done\n"
     ]
    },
    {
     "data": {
      "text/plain": [
       "[__main__.Amphibian,\n",
       " __main__.WheeledVehicle,\n",
       " __main__.WaterVehicle,\n",
       " __main__.Vehicle,\n",
       " object]"
      ]
     },
     "execution_count": 1,
     "metadata": {},
     "output_type": "execute_result"
    }
   ],
   "source": [
    "class Vehicle:\n",
    "    def __init__(self):\n",
    "        print('Vehicle-start')\n",
    "        print('Vehicle-done')\n",
    "\n",
    "class WheeledVehicle(Vehicle):\n",
    "    def __init__(self):\n",
    "        print('WheeledVehicle-start')\n",
    "        super().__init__()\n",
    "        print('WheeledVehicle-done')\n",
    "\n",
    "class WaterVehicle(Vehicle):\n",
    "    def __init__(self):\n",
    "        print('WaterVehicle-start')\n",
    "        super().__init__()\n",
    "        print('WaterVehicle-done')\n",
    "\n",
    "class Amphibian(WheeledVehicle, WaterVehicle):\n",
    "    def __init__(self):\n",
    "        print('Amphibian-start')\n",
    "        super().__init__()\n",
    "        print('Amphibian-done')\n",
    "\n",
    "amphibian = Amphibian()\n",
    "\n",
    "Amphibian.mro()"
   ]
  },
  {
   "cell_type": "code",
   "execution_count": null,
   "id": "69e56db7",
   "metadata": {},
   "outputs": [],
   "source": []
  }
 ],
 "metadata": {
  "kernelspec": {
   "display_name": "Python 3",
   "language": "python",
   "name": "python3"
  },
  "language_info": {
   "codemirror_mode": {
    "name": "ipython",
    "version": 3
   },
   "file_extension": ".py",
   "mimetype": "text/x-python",
   "name": "python",
   "nbconvert_exporter": "python",
   "pygments_lexer": "ipython3",
   "version": "3.8.8"
  }
 },
 "nbformat": 4,
 "nbformat_minor": 5
}
