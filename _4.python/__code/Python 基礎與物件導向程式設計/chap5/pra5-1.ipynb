{
 "cells": [
  {
   "cell_type": "code",
   "execution_count": 1,
   "id": "b5725ef9",
   "metadata": {},
   "outputs": [
    {
     "name": "stdout",
     "output_type": "stream",
     "text": [
      "{441, 378, 315, 252, 189, 126, 63}\n",
      "1764\n",
      "{385, 259, 133, 7, 392, 266, 140, 14, 399, 273, 147, 21, 406, 280, 154, 28, 413, 287, 161, 35, 420, 294, 168, 42, 427, 301, 175, 49, 434, 308, 182, 56, 448, 322, 196, 70, 455, 329, 203, 77, 462, 336, 210, 84, 469, 343, 217, 91, 476, 350, 224, 98, 483, 357, 231, 105, 490, 364, 238, 112, 497, 371, 245, 119}\n",
      "16128\n",
      "{387, 261, 135, 9, 396, 270, 144, 18, 405, 279, 153, 27, 414, 288, 162, 36, 423, 297, 171, 45, 432, 306, 180, 54, 450, 324, 198, 72, 459, 333, 207, 81, 468, 342, 216, 90, 477, 351, 225, 99, 486, 360, 234, 108, 495, 369, 243, 117}\n",
      "12096\n"
     ]
    }
   ],
   "source": [
    "set7 = set()\n",
    "set9 = set()\n",
    "for num in range(1, 500):\n",
    "    if num%7==0:\n",
    "        set7.add(num)\n",
    "    if num%9==0:\n",
    "        set9.add(num)\n",
    "\n",
    "print(set7 & set9)        # 7和9的倍數集合交集\n",
    "print(sum(set7 & set9))\n",
    "\n",
    "print(set7 - set9)        # 差集，7的倍數集合減去9的倍數集合\n",
    "print(sum(set7 - set9))\n",
    "\n",
    "print(set9 - set7)        # 差集，9的倍數集合減去7的倍數集合\n",
    "print(sum(set9 - set7))"
   ]
  },
  {
   "cell_type": "code",
   "execution_count": null,
   "id": "39356981",
   "metadata": {},
   "outputs": [],
   "source": []
  }
 ],
 "metadata": {
  "kernelspec": {
   "display_name": "Python 3",
   "language": "python",
   "name": "python3"
  },
  "language_info": {
   "codemirror_mode": {
    "name": "ipython",
    "version": 3
   },
   "file_extension": ".py",
   "mimetype": "text/x-python",
   "name": "python",
   "nbconvert_exporter": "python",
   "pygments_lexer": "ipython3",
   "version": "3.8.8"
  }
 },
 "nbformat": 4,
 "nbformat_minor": 5
}
