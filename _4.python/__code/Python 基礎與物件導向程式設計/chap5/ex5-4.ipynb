{
 "cells": [
  {
   "cell_type": "code",
   "execution_count": 1,
   "id": "2f4b0699",
   "metadata": {},
   "outputs": [
    {
     "name": "stdout",
     "output_type": "stream",
     "text": [
      "{0, 2, 4}\n",
      "{0, 1, 2, 3, 4, 5, 6, 8}\n",
      "{1, 3, 5}\n",
      "{1, 3, 5, 6, 8}\n"
     ]
    }
   ],
   "source": [
    "set1 = {0, 1, 2, 3, 4, 5}\n",
    "print(set1 & set(range(0, 10, 2)))    # 交集，{0, 2, 4}\n",
    "print(set1 | set(range(0, 10, 2)))    # 聯集，{0, 1, 2, 3, 4, 5, 6, 8}\n",
    "print(set1 - set(range(0, 10, 2)))    # 差集，{1, 3, 5}\n",
    "# 0,2,4被減掉了！\n",
    "print(set1 ^ set(range(0, 10, 2)))    # 對稱差集，{1, 3, 5, 6, 8}\n",
    "# 對稱差集運作類似xor"
   ]
  },
  {
   "cell_type": "code",
   "execution_count": null,
   "id": "3ba95f09",
   "metadata": {},
   "outputs": [],
   "source": []
  }
 ],
 "metadata": {
  "kernelspec": {
   "display_name": "Python 3",
   "language": "python",
   "name": "python3"
  },
  "language_info": {
   "codemirror_mode": {
    "name": "ipython",
    "version": 3
   },
   "file_extension": ".py",
   "mimetype": "text/x-python",
   "name": "python",
   "nbconvert_exporter": "python",
   "pygments_lexer": "ipython3",
   "version": "3.8.8"
  }
 },
 "nbformat": 4,
 "nbformat_minor": 5
}
