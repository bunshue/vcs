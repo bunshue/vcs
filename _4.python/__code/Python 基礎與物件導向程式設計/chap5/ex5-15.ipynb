{
 "cells": [
  {
   "cell_type": "code",
   "execution_count": 1,
   "id": "0a2856bb",
   "metadata": {},
   "outputs": [
    {
     "name": "stdout",
     "output_type": "stream",
     "text": [
      "{1, 3, 5}\n",
      "{'a', 'o'}\n"
     ]
    }
   ],
   "source": [
    "list1 = ['a', 'bar', 'candy', 'o', 'car']\n",
    "\n",
    "# 算出list1中的詞彙有幾種長度\n",
    "set1 = {len(x) for x in list1}           # {1, 3, 5}\n",
    "print(set1)\n",
    "\n",
    "# 找出list1中長度為1的元素\n",
    "set2 = {x for x in list1 if len(x) == 1} # {'o', 'a'}\n",
    "print(set2)"
   ]
  },
  {
   "cell_type": "code",
   "execution_count": null,
   "id": "b4af6a86",
   "metadata": {},
   "outputs": [],
   "source": []
  }
 ],
 "metadata": {
  "kernelspec": {
   "display_name": "Python 3",
   "language": "python",
   "name": "python3"
  },
  "language_info": {
   "codemirror_mode": {
    "name": "ipython",
    "version": 3
   },
   "file_extension": ".py",
   "mimetype": "text/x-python",
   "name": "python",
   "nbconvert_exporter": "python",
   "pygments_lexer": "ipython3",
   "version": "3.8.8"
  }
 },
 "nbformat": 4,
 "nbformat_minor": 5
}
