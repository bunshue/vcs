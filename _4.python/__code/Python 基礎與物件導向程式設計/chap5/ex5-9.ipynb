{
 "cells": [
  {
   "cell_type": "code",
   "execution_count": 1,
   "id": "a064f37f",
   "metadata": {},
   "outputs": [
    {
     "name": "stdout",
     "output_type": "stream",
     "text": [
      "3\n",
      "True\n",
      "age name grade "
     ]
    }
   ],
   "source": [
    "dic1 = {'age':33, 'name':'Amy', 'score':86}\n",
    "print(len(dic1))       # 長度，就是有幾個key-value配對：3\n",
    "print('age' in dic1)   # 測試有無此鍵值，True\n",
    "del dic1['score']      # 刪除鍵值配對\n",
    "# {'age': 33, 'name': 'Amy'}\n",
    "dic1['grade'] = 86     # 增加(或修改)鍵值配對\n",
    "# {'age':33, 'name':'Amy', 'grade':86}\n",
    "\n",
    "for key in dic1:       # 針對鍵值進行迭代\n",
    "    print(key + ' ', end='')  # grade age name，不換行"
   ]
  },
  {
   "cell_type": "code",
   "execution_count": null,
   "id": "cda26660",
   "metadata": {},
   "outputs": [],
   "source": []
  }
 ],
 "metadata": {
  "kernelspec": {
   "display_name": "Python 3",
   "language": "python",
   "name": "python3"
  },
  "language_info": {
   "codemirror_mode": {
    "name": "ipython",
    "version": 3
   },
   "file_extension": ".py",
   "mimetype": "text/x-python",
   "name": "python",
   "nbconvert_exporter": "python",
   "pygments_lexer": "ipython3",
   "version": "3.8.8"
  }
 },
 "nbformat": 4,
 "nbformat_minor": 5
}
