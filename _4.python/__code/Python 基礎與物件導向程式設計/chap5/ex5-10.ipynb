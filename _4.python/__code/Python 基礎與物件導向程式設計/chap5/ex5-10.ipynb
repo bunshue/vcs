{
 "cells": [
  {
   "cell_type": "code",
   "execution_count": 1,
   "id": "5c6ff6a5",
   "metadata": {},
   "outputs": [
    {
     "name": "stdout",
     "output_type": "stream",
     "text": [
      "{'name': 'Amy', 'age': 25, 'job': 'writer'}\n",
      "{'name': 'Amy', 'job': 'teacher', 'age': 29}\n"
     ]
    }
   ],
   "source": [
    "keys = ('name', 'age', 'job')\n",
    "values = ('Amy', 25, 'writer')\n",
    "dic1 = dict(zip(keys, values))      # zip真好用！\n",
    "print(dic1)\n",
    "# {'name': 'Amy', 'age': 25, 'job': 'writer'}\n",
    "\n",
    "del dic1['job']\n",
    "# {'name': 'Amy', 'age': 25}\n",
    "del dic1['age']\n",
    "# {'name': 'Amy'}\n",
    "\n",
    "dic1['job'] = 'teacher'\n",
    "# {'name': 'Amy', 'job': 'teacher'}\n",
    "dic1['age'] = 29\n",
    "# {'name': 'Amy', 'job': 'teacher', 'age': 29}\n",
    "print(dic1)"
   ]
  },
  {
   "cell_type": "code",
   "execution_count": null,
   "id": "ac80ab5a",
   "metadata": {},
   "outputs": [],
   "source": []
  }
 ],
 "metadata": {
  "kernelspec": {
   "display_name": "Python 3",
   "language": "python",
   "name": "python3"
  },
  "language_info": {
   "codemirror_mode": {
    "name": "ipython",
    "version": 3
   },
   "file_extension": ".py",
   "mimetype": "text/x-python",
   "name": "python",
   "nbconvert_exporter": "python",
   "pygments_lexer": "ipython3",
   "version": "3.8.8"
  }
 },
 "nbformat": 4,
 "nbformat_minor": 5
}
