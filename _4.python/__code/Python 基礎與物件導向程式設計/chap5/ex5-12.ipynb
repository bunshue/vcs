{
 "cells": [
  {
   "cell_type": "code",
   "execution_count": 1,
   "id": "c5ddb21b",
   "metadata": {},
   "outputs": [
    {
     "name": "stdout",
     "output_type": "stream",
     "text": [
      "dict_keys(['name', 'age', 'job'])\n",
      "<class 'dict_keys'>\n",
      "dict_values(['Amy', 23, 'writer'])\n",
      "<class 'dict_values'>\n",
      "dict_items([('name', 'Amy'), ('age', 23), ('job', 'writer')])\n",
      "<class 'dict_items'>\n"
     ]
    }
   ],
   "source": [
    "dic1 = {'name': 'Amy', 'age': 23, 'job': 'writer'}\n",
    "print(dic1.keys())\n",
    "print(type(dic1.keys()))\n",
    "# dict_keys(['job', 'name', 'age'])\n",
    "print(dic1.values())\n",
    "print(type(dic1.values()))\n",
    "# dict_values(['writer', 'Amy', 23])\n",
    "print(dic1.items())\n",
    "print(type(dic1.items()))\n",
    "# dict_items ([('job','writer'), ('name','Amy'),('age',23)])"
   ]
  },
  {
   "cell_type": "code",
   "execution_count": null,
   "id": "e110b6a7",
   "metadata": {},
   "outputs": [],
   "source": []
  }
 ],
 "metadata": {
  "kernelspec": {
   "display_name": "Python 3",
   "language": "python",
   "name": "python3"
  },
  "language_info": {
   "codemirror_mode": {
    "name": "ipython",
    "version": 3
   },
   "file_extension": ".py",
   "mimetype": "text/x-python",
   "name": "python",
   "nbconvert_exporter": "python",
   "pygments_lexer": "ipython3",
   "version": "3.8.8"
  }
 },
 "nbformat": 4,
 "nbformat_minor": 5
}
