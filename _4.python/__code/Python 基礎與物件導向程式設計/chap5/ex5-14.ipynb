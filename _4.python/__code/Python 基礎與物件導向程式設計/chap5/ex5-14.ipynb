{
 "cells": [
  {
   "cell_type": "code",
   "execution_count": null,
   "id": "ad441614",
   "metadata": {},
   "outputs": [],
   "source": [
    "row0 = {0:21, 2:71, 6:72}\n",
    "row1 = {9:21}\n",
    "row2 = {3:99, 6:24}\n",
    "row3 = {0:48, 1:14, 2:68, 3:55, 5:34}\n",
    "...\n",
    "dic1 = {0:row0, 1:row1, 2:row2, ..., 9:row9}\n",
    "# 此段程式碼為示意用途，無法執行！"
   ]
  }
 ],
 "metadata": {
  "kernelspec": {
   "display_name": "Python 3",
   "language": "python",
   "name": "python3"
  },
  "language_info": {
   "codemirror_mode": {
    "name": "ipython",
    "version": 3
   },
   "file_extension": ".py",
   "mimetype": "text/x-python",
   "name": "python",
   "nbconvert_exporter": "python",
   "pygments_lexer": "ipython3",
   "version": "3.8.8"
  }
 },
 "nbformat": 4,
 "nbformat_minor": 5
}
