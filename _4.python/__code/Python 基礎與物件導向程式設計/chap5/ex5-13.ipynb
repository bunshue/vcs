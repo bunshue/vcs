{
 "cells": [
  {
   "cell_type": "code",
   "execution_count": 1,
   "id": "15f0feed",
   "metadata": {},
   "outputs": [
    {
     "name": "stdout",
     "output_type": "stream",
     "text": [
      "3\n",
      "True\n",
      "age name grade age 33  name Amy  grade 86  "
     ]
    }
   ],
   "source": [
    "dic1 = {'age':33, 'name':'Amy', 'score':86}\n",
    "print(len(dic1))       # 長度，就是有幾個key-value配對：3\n",
    "print('age' in dic1)   # 測試有無此鍵值，True\n",
    "del dic1['score']      # 刪除鍵值配對\n",
    "# {'age': 33, 'name': 'Amy'}\n",
    "dic1['grade'] = 86     # 增加(或修改)鍵值配對\n",
    "# {'age':33, 'name':'Amy', 'grade':86}\n",
    "\n",
    "for key in dic1:       # 針對鍵值進行迭代\n",
    "    print(key + ' ', end='')  # grade age name，不換行\n",
    "    \n",
    "for k, v in dic1.items():     # 可以用items()取出key-value配對!\n",
    "    print(k, v, ' ', end='')"
   ]
  },
  {
   "cell_type": "code",
   "execution_count": null,
   "id": "32b06d6c",
   "metadata": {},
   "outputs": [],
   "source": []
  }
 ],
 "metadata": {
  "kernelspec": {
   "display_name": "Python 3",
   "language": "python",
   "name": "python3"
  },
  "language_info": {
   "codemirror_mode": {
    "name": "ipython",
    "version": 3
   },
   "file_extension": ".py",
   "mimetype": "text/x-python",
   "name": "python",
   "nbconvert_exporter": "python",
   "pygments_lexer": "ipython3",
   "version": "3.8.8"
  }
 },
 "nbformat": 4,
 "nbformat_minor": 5
}
