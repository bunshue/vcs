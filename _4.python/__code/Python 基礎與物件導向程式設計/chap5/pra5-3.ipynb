{
 "cells": [
  {
   "cell_type": "code",
   "execution_count": 1,
   "id": "a7753c35",
   "metadata": {},
   "outputs": [
    {
     "name": "stdout",
     "output_type": "stream",
     "text": [
      "2 [2]\n",
      "3 [2, 3]\n",
      "4 [2, 3]\n",
      "5 [2, 3, 5]\n",
      "6 [2, 3, 5]\n",
      "7 [2, 3, 5, 7]\n",
      "8 [2, 3, 5, 7]\n",
      "9 [2, 3, 5, 7]\n",
      "10 [2, 3, 5, 7]\n",
      "11 [2, 3, 5, 7, 11]\n",
      "12 [2, 3, 5, 7, 11]\n",
      "13 [2, 3, 5, 7, 11, 13]\n",
      "14 [2, 3, 5, 7, 11, 13]\n",
      "15 [2, 3, 5, 7, 11, 13]\n",
      "16 [2, 3, 5, 7, 11, 13]\n",
      "17 [2, 3, 5, 7, 11, 13, 17]\n",
      "18 [2, 3, 5, 7, 11, 13, 17]\n",
      "19 [2, 3, 5, 7, 11, 13, 17, 19]\n",
      "20 [2, 3, 5, 7, 11, 13, 17, 19]\n",
      "21 [2, 3, 5, 7, 11, 13, 17, 19]\n",
      "22 [2, 3, 5, 7, 11, 13, 17, 19]\n",
      "23 [2, 3, 5, 7, 11, 13, 17, 19, 23]\n",
      "24 [2, 3, 5, 7, 11, 13, 17, 19, 23]\n",
      "25 [2, 3, 5, 7, 11, 13, 17, 19, 23]\n",
      "26 [2, 3, 5, 7, 11, 13, 17, 19, 23]\n",
      "27 [2, 3, 5, 7, 11, 13, 17, 19, 23]\n",
      "28 [2, 3, 5, 7, 11, 13, 17, 19, 23]\n",
      "29 [2, 3, 5, 7, 11, 13, 17, 19, 23, 29]\n"
     ]
    }
   ],
   "source": [
    "def findPrime(n):\n",
    "    set1 = set(range(2, n+1))\n",
    "    for k in range(2, n+1):\n",
    "        setK = {k2 for k2 in range(k*2, n+1, k)}\n",
    "        set1 = set1-setK\n",
    "    return sorted(list(set1))\n",
    "\n",
    "pdic = {k:findPrime(k) for k in range(2, 30)}\n",
    "for key in pdic:\n",
    "    print(key, pdic[key])"
   ]
  },
  {
   "cell_type": "code",
   "execution_count": null,
   "id": "f6098c92",
   "metadata": {},
   "outputs": [],
   "source": []
  }
 ],
 "metadata": {
  "kernelspec": {
   "display_name": "Python 3",
   "language": "python",
   "name": "python3"
  },
  "language_info": {
   "codemirror_mode": {
    "name": "ipython",
    "version": 3
   },
   "file_extension": ".py",
   "mimetype": "text/x-python",
   "name": "python",
   "nbconvert_exporter": "python",
   "pygments_lexer": "ipython3",
   "version": "3.8.8"
  }
 },
 "nbformat": 4,
 "nbformat_minor": 5
}
