{
 "cells": [
  {
   "cell_type": "code",
   "execution_count": 1,
   "id": "d84d4491",
   "metadata": {},
   "outputs": [
    {
     "name": "stdout",
     "output_type": "stream",
     "text": [
      "freelancer\n",
      "singer\n",
      "singer\n",
      "{'name': 'Amy', 'age': 25, 'job': 'singer'}\n",
      "singer\n"
     ]
    }
   ],
   "source": [
    "dic1 = {'name': 'Amy', 'age': 25}\n",
    "print(dic1.get('job', 'freelancer'))\n",
    "# 如果沒有鍵值'job'，回傳'freelancer'\n",
    "\n",
    "dic1.setdefault('job', 'singer') \n",
    "# 沒有鍵值'job'時，回傳'singer\n",
    "print(dic1.get('job'))\n",
    "print(dic1['job'])            # 同上一行，只是get功能更多\n",
    "print(dic1)                   # 其實{'job':'singer'}已經偷偷加進去了...\n",
    "\n",
    "dic1.setdefault('job', 'dancer')\n",
    "# 已有鍵值'job'的預設回傳值，所以setdefault無效\n",
    "print(dic1.get('job'))"
   ]
  },
  {
   "cell_type": "code",
   "execution_count": null,
   "id": "6d1067a8",
   "metadata": {},
   "outputs": [],
   "source": []
  }
 ],
 "metadata": {
  "kernelspec": {
   "display_name": "Python 3",
   "language": "python",
   "name": "python3"
  },
  "language_info": {
   "codemirror_mode": {
    "name": "ipython",
    "version": 3
   },
   "file_extension": ".py",
   "mimetype": "text/x-python",
   "name": "python",
   "nbconvert_exporter": "python",
   "pygments_lexer": "ipython3",
   "version": "3.8.8"
  }
 },
 "nbformat": 4,
 "nbformat_minor": 5
}
