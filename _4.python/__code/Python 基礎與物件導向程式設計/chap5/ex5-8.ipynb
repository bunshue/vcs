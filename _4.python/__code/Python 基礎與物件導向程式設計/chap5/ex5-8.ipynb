{
 "cells": [
  {
   "cell_type": "code",
   "execution_count": 1,
   "id": "8c2fc468",
   "metadata": {},
   "outputs": [
    {
     "name": "stdout",
     "output_type": "stream",
     "text": [
      "{'x': 1}\n",
      "{'name': 'Amy', 'age': 26}\n",
      "Amy\n"
     ]
    }
   ],
   "source": [
    "dic1 = {44: [0, 1, 2], (3, 4): {'x': 1}}\n",
    "print(dic1[(3, 4)])        # 鍵值是tuple，資料值是dict{'x': 1}\n",
    "\n",
    "dic2 = {8622501: {'name': 'Amy', 'age': 26}, \\\n",
    "        8622502: {'name': 'Bob', 'age': 33}}\n",
    "print(dic2[8622501])       # 鍵值是學號(很大的數字)\n",
    "# 資料值是學生資料的dict{'age': 26, 'name': 'Amy'}\n",
    "print(dic2[8622501]['name'])\n",
    "# 資料值是dict，所以可以實際上是(dic2[8622501])['name']，結果是'Amy'"
   ]
  },
  {
   "cell_type": "code",
   "execution_count": null,
   "id": "7ad9bc08",
   "metadata": {},
   "outputs": [],
   "source": []
  }
 ],
 "metadata": {
  "kernelspec": {
   "display_name": "Python 3",
   "language": "python",
   "name": "python3"
  },
  "language_info": {
   "codemirror_mode": {
    "name": "ipython",
    "version": 3
   },
   "file_extension": ".py",
   "mimetype": "text/x-python",
   "name": "python",
   "nbconvert_exporter": "python",
   "pygments_lexer": "ipython3",
   "version": "3.8.8"
  }
 },
 "nbformat": 4,
 "nbformat_minor": 5
}
