{
 "cells": [
  {
   "cell_type": "code",
   "execution_count": 1,
   "id": "5f7f98a1",
   "metadata": {},
   "outputs": [
    {
     "name": "stdout",
     "output_type": "stream",
     "text": [
      "{0: 0, 1: 1, 2: 4, 3: 9, 4: 16}\n",
      "{'Joe': 45, 'Kevin': 33}\n"
     ]
    }
   ],
   "source": [
    "dic1 = {k: k**2 for k in range(5)}    # 資料值是鍵值的平方！\n",
    "print(dic1)            \n",
    "# {0: 0, 1: 1, 2: 4, 3: 9, 4: 16}\n",
    "\n",
    "dic2 = {'Amy': 90, 'Joe': 45, 'Kevin': 33}\n",
    "dic3 = {k: v for k, v in dic2.items() if v < 60}\n",
    "print(dic3)\n",
    "# 挑出不及格的，{'Joe': 45, 'Kevin': 33}"
   ]
  },
  {
   "cell_type": "code",
   "execution_count": null,
   "id": "55a26038",
   "metadata": {},
   "outputs": [],
   "source": []
  }
 ],
 "metadata": {
  "kernelspec": {
   "display_name": "Python 3",
   "language": "python",
   "name": "python3"
  },
  "language_info": {
   "codemirror_mode": {
    "name": "ipython",
    "version": 3
   },
   "file_extension": ".py",
   "mimetype": "text/x-python",
   "name": "python",
   "nbconvert_exporter": "python",
   "pygments_lexer": "ipython3",
   "version": "3.8.8"
  }
 },
 "nbformat": 4,
 "nbformat_minor": 5
}
