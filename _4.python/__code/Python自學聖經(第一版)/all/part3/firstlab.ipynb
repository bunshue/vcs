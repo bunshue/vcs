{
 "cells": [
  {
   "cell_type": "markdown",
   "metadata": {
    "id": "cFw4BlO3HTUI"
   },
   "source": [
    "## Colab基本操作"
   ]
  },
  {
   "cell_type": "code",
   "execution_count": null,
   "metadata": {
    "id": "zvWuuM8aVlsV"
   },
   "outputs": [],
   "source": [
    "import pandas as pd\n",
    "data = pd.read_csv(\"/content/drive/My Drive/Colab Notebooks/ATM00625_20200513155248.csv\")\n",
    "print(data)"
   ]
  },
  {
   "cell_type": "code",
   "execution_count": null,
   "metadata": {
    "id": "QQdnvxKbs3_j"
   },
   "outputs": [],
   "source": [
    "%lsmagic"
   ]
  },
  {
   "cell_type": "code",
   "execution_count": null,
   "metadata": {
    "id": "BLjaQh0Qs4Dc"
   },
   "outputs": [],
   "source": [
    "%timeit n=(12**2+15**2)**0.5"
   ]
  },
  {
   "cell_type": "code",
   "execution_count": null,
   "metadata": {
    "id": "F3E5d9ubs4Wr"
   },
   "outputs": [],
   "source": [
    "%%timeit\n",
    "sum=0\n",
    "for i in range(1, 10001):\n",
    "  sum += i"
   ]
  },
  {
   "cell_type": "code",
   "execution_count": null,
   "metadata": {
    "id": "ZIThgSnnp8PD"
   },
   "outputs": [],
   "source": [
    "%%writefile new1.py\n",
    "import random\n",
    "a=random.randint(1,10)\n",
    "print(a)"
   ]
  },
  {
   "cell_type": "code",
   "execution_count": null,
   "metadata": {
    "id": "MhFSUp0AUVWm"
   },
   "outputs": [],
   "source": [
    "%run new1.py"
   ]
  },
  {
   "cell_type": "code",
   "execution_count": null,
   "metadata": {
    "id": "dmREUmNpUVfE"
   },
   "outputs": [],
   "source": [
    "%whos"
   ]
  },
  {
   "cell_type": "code",
   "execution_count": null,
   "metadata": {
    "id": "fOi7DhZArDuw"
   },
   "outputs": [],
   "source": [
    "from google.colab import drive\n",
    "drive.mount('/content/drive')"
   ]
  },
  {
   "cell_type": "markdown",
   "metadata": {
    "id": "8wia2nE88E_D"
   },
   "source": [
    "# 這是標題1文字\n",
    "## 這是標題2文字\n",
    "### 這是標題3文字\n",
    "#### 這是標題4文字\n",
    "##### 這是標題5文字\n",
    "###### 這是標題6文字"
   ]
  },
  {
   "cell_type": "markdown",
   "metadata": {
    "id": "UzHWa61MCUA5"
   },
   "source": [
    "Markdown是約翰·格魯伯(John Gruber)所發明， 是一種輕量級標記式語言。\n",
    "\n",
    "目前有許多網站使用Markdown來撰寫說明文件， 也有很多論壇以Markdown發表文章與發送訊息。"
   ]
  },
  {
   "cell_type": "markdown",
   "metadata": {
    "id": "o2vI6_0iEtEK"
   },
   "source": [
    "這是第一段一般文字\n",
    ">這是引用文字\n",
    "\n",
    "這是第二段一般文字"
   ]
  },
  {
   "cell_type": "markdown",
   "metadata": {
    "id": "AjeU9B0Ty5t7"
   },
   "source": [
    "- 第一種清單符號「-」\n",
    "+ 第二種清單符號「+」\n",
    "* 第三種清單符號「*」\n",
    "    - 第二層子清單一\n",
    "    - 第二層子清單二\n",
    "        - 第三層子清單"
   ]
  },
  {
   "cell_type": "markdown",
   "metadata": {
    "id": "x3KQ-g96_9bL"
   },
   "source": [
    "1. 數字清單1\n",
    "2. 數字清單2\n",
    "3. 數字清單3\n",
    "    1. 第二層數字清單1\n",
    "    2. 第二層數字清單1\n",
    "        1. 第三層數字清單"
   ]
  },
  {
   "cell_type": "markdown",
   "metadata": {
    "id": "dYvOhIO0uPN5"
   },
   "source": [
    "2020\\. 新冠肺炎肆虐全球。"
   ]
  },
  {
   "cell_type": "markdown",
   "metadata": {
    "id": "Dv4ZEXfzybHF"
   },
   "source": [
    "第一段落文字\n",
    "***\n",
    "第二段落文字\n",
    "___\n",
    "第三段落文字"
   ]
  },
  {
   "cell_type": "markdown",
   "metadata": {
    "id": "GhusJzdQ1Fqa"
   },
   "source": [
    "下面是區塊程式碼：\n",
    "```\n",
    "total = i = 1\n",
    "n = int(input(\"請輸入正整數 n 的值：\"))\n",
    "while(i<=n):\n",
    "    total *= i  \n",
    "    i+=1      \n",
    "print(\"%d!=%d\" % (n, total))\n",
    "```"
   ]
  },
  {
   "cell_type": "markdown",
   "metadata": {
    "id": "Awk65sabNuuN"
   },
   "source": [
    "示範：__粗體字一__\n",
    "\n",
    "示範：**粗體字二**"
   ]
  },
  {
   "cell_type": "markdown",
   "metadata": {
    "id": "iYzrZMFDQqVD"
   },
   "source": [
    "<a href=\"http://www.e-happy.com.tw\">文淵閣工作室</a>"
   ]
  },
  {
   "cell_type": "markdown",
   "metadata": {
    "id": "K1DjLpIKRsR0"
   },
   "source": [
    "[文淵閣工作室](http://www.e-happy.com.tw)"
   ]
  },
  {
   "cell_type": "markdown",
   "metadata": {
    "id": "LhsXVRXVT61l"
   },
   "source": [
    "HTML中若要強調某些文字可用 `<strong>` 及 `</strong>` 將其包圍起來。\n"
   ]
  },
  {
   "cell_type": "markdown",
   "metadata": {
    "id": "Z526_xdkXjA8"
   },
   "source": [
    "<img src=\"https://encrypted-tbn0.gstatic.com/images?q=tbn:ANd9GcQ_Oji5JCN9oN-imWu0_MSioiO9cRPqlwQvhA&usqp=CAU\" alt=\"大蘋果\" />"
   ]
  },
  {
   "cell_type": "markdown",
   "metadata": {
    "id": "1JP2OHAjHHpF"
   },
   "source": [
    "![大蘋果](https://encrypted-tbn0.gstatic.com/images?q=tbn:ANd9GcQ_Oji5JCN9oN-imWu0_MSioiO9cRPqlwQvhA&usqp=CAU)"
   ]
  }
 ],
 "metadata": {
  "colab": {
   "collapsed_sections": [
    "cFw4BlO3HTUI"
   ],
   "name": "firstlab.ipynb",
   "provenance": [],
   "toc_visible": true
  },
  "kernelspec": {
   "display_name": "Python 3",
   "language": "python",
   "name": "python3"
  },
  "language_info": {
   "codemirror_mode": {
    "name": "ipython",
    "version": 3
   },
   "file_extension": ".py",
   "mimetype": "text/x-python",
   "name": "python",
   "nbconvert_exporter": "python",
   "pygments_lexer": "ipython3",
   "version": "3.8.5"
  }
 },
 "nbformat": 4,
 "nbformat_minor": 1
}