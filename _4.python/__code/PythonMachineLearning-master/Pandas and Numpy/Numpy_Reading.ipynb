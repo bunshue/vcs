{
 "cells": [
  {
   "cell_type": "markdown",
   "metadata": {},
   "source": [
    "## Speed difference between reading numerical data from plain CSV vs. using _.npy_ file format"
   ]
  },
  {
   "cell_type": "code",
   "execution_count": 31,
   "metadata": {},
   "outputs": [],
   "source": [
    "import numpy as np\n",
    "import time"
   ]
  },
  {
   "cell_type": "code",
   "execution_count": 48,
   "metadata": {},
   "outputs": [],
   "source": [
    "n_samples=1000000"
   ]
  },
  {
   "cell_type": "code",
   "execution_count": 49,
   "metadata": {},
   "outputs": [],
   "source": [
    "with open('fdata.txt', 'w') as fdata:\n",
    "    for _ in range(n_samples):\n",
    "        fdata.write(str(10*np.random.random())+',')"
   ]
  },
  {
   "cell_type": "code",
   "execution_count": 50,
   "metadata": {},
   "outputs": [
    {
     "name": "stdout",
     "output_type": "stream",
     "text": [
      "[[0.32614787 6.84798256 2.59321025 ... 5.02387324 1.04806225 2.80646522]\n",
      " [0.42535168 3.77882315 0.91426996 ... 8.43664343 5.50435042 1.17847223]\n",
      " [1.79458482 5.82172793 5.29433626 ... 3.10556071 2.90960252 7.8021901 ]\n",
      " ...\n",
      " [3.04453929 1.0270109  8.04185826 ... 2.21814825 3.56490017 3.72934854]\n",
      " [7.11767505 7.59239626 5.60733328 ... 8.33572855 3.29231441 8.67716649]\n",
      " [4.2606672  0.08492747 1.40436949 ... 5.6204355  4.47407948 9.50940101]]\n",
      "\n",
      "Shape:  (1000, 1000)\n",
      "Time took to read: 2.671266555786133 seconds.\n"
     ]
    }
   ],
   "source": [
    "t1=time.time()\n",
    "array_direct = np.fromfile('fdata.txt',dtype=float, count=-1,sep=',').reshape(1000,1000)\n",
    "t2=time.time()\n",
    "print(array_direct)\n",
    "print('\\nShape: ',array_direct.shape)\n",
    "print(f\"Time took to read: {t2-t1} seconds.\")"
   ]
  },
  {
   "cell_type": "code",
   "execution_count": 52,
   "metadata": {},
   "outputs": [
    {
     "name": "stdout",
     "output_type": "stream",
     "text": [
      "[[0.32614787 6.84798256 2.59321025 ... 5.02387324 1.04806225 2.80646522]\n",
      " [0.42535168 3.77882315 0.91426996 ... 8.43664343 5.50435042 1.17847223]\n",
      " [1.79458482 5.82172793 5.29433626 ... 3.10556071 2.90960252 7.8021901 ]\n",
      " ...\n",
      " [3.04453929 1.0270109  8.04185826 ... 2.21814825 3.56490017 3.72934854]\n",
      " [7.11767505 7.59239626 5.60733328 ... 8.33572855 3.29231441 8.67716649]\n",
      " [4.2606672  0.08492747 1.40436949 ... 5.6204355  4.47407948 9.50940101]]\n",
      "\n",
      "Shape:  (1000, 1000)\n",
      "Time took to read: 1.018733024597168 seconds.\n"
     ]
    }
   ],
   "source": [
    "t1=time.time()\n",
    "with open('fdata.txt','r') as fdata:\n",
    "    datastr=fdata.read()\n",
    "lst = datastr.split(',')\n",
    "lst.pop()\n",
    "array_lst=np.array(lst,dtype=float).reshape(1000,1000)\n",
    "t2=time.time()\n",
    "print(array_lst)\n",
    "print('\\nShape: ',array_lst.shape)\n",
    "print(f\"Time took to read: {t2-t1} seconds.\")"
   ]
  },
  {
   "cell_type": "code",
   "execution_count": 53,
   "metadata": {},
   "outputs": [],
   "source": [
    "np.save('fnumpy.npy',array_lst)"
   ]
  },
  {
   "cell_type": "code",
   "execution_count": 55,
   "metadata": {},
   "outputs": [
    {
     "name": "stdout",
     "output_type": "stream",
     "text": [
      "[[0.32614787 6.84798256 2.59321025 ... 5.02387324 1.04806225 2.80646522]\n",
      " [0.42535168 3.77882315 0.91426996 ... 8.43664343 5.50435042 1.17847223]\n",
      " [1.79458482 5.82172793 5.29433626 ... 3.10556071 2.90960252 7.8021901 ]\n",
      " ...\n",
      " [3.04453929 1.0270109  8.04185826 ... 2.21814825 3.56490017 3.72934854]\n",
      " [7.11767505 7.59239626 5.60733328 ... 8.33572855 3.29231441 8.67716649]\n",
      " [4.2606672  0.08492747 1.40436949 ... 5.6204355  4.47407948 9.50940101]]\n",
      "\n",
      "Shape:  (1000, 1000)\n",
      "Time took to load: 0.009010076522827148 seconds.\n"
     ]
    }
   ],
   "source": [
    "t1=time.time()\n",
    "array_reloaded = np.load('fnumpy.npy')\n",
    "t2=time.time()\n",
    "print(array_reloaded)\n",
    "print('\\nShape: ',array_reloaded.shape)\n",
    "print(f\"Time took to load: {t2-t1} seconds.\")"
   ]
  },
  {
   "cell_type": "code",
   "execution_count": 56,
   "metadata": {},
   "outputs": [
    {
     "name": "stdout",
     "output_type": "stream",
     "text": [
      "[[0.32614787 6.84798256 2.59321025 ... 3.01180325 2.39479796 0.72345778]\n",
      " [3.69505384 4.53401889 8.36879084 ... 9.9009631  7.33501957 2.50186053]\n",
      " [4.35664074 4.07578682 1.71320519 ... 8.33236349 7.2902005  5.27535724]\n",
      " ...\n",
      " [1.11051629 5.43382324 3.86440843 ... 4.38217095 0.23810232 1.27995629]\n",
      " [2.56255361 7.8052843  6.67015391 ... 3.02916997 4.76569949 0.95855667]\n",
      " [6.06043577 5.8964256  4.57181929 ... 5.6204355  4.47407948 9.50940101]]\n",
      "\n",
      "Shape:  (10000, 100)\n",
      "Time took to load: 0.010006189346313477 seconds.\n"
     ]
    }
   ],
   "source": [
    "t1=time.time()\n",
    "array_reloaded = np.load('fnumpy.npy').reshape(10000,100)\n",
    "t2=time.time()\n",
    "print(array_reloaded)\n",
    "print('\\nShape: ',array_reloaded.shape)\n",
    "print(f\"Time took to load: {t2-t1} seconds.\")"
   ]
  },
  {
   "cell_type": "markdown",
   "metadata": {},
   "source": [
    "### Speed enhancement as the sample size grows..."
   ]
  },
  {
   "cell_type": "code",
   "execution_count": 72,
   "metadata": {},
   "outputs": [
    {
     "name": "stdout",
     "output_type": "stream",
     "text": [
      "Array shape: (100000,)\n",
      "Array shape: (100000,)\n",
      "Processing done for 100000 samples\n",
      "\n",
      "Array shape: (200000,)\n",
      "Array shape: (200000,)\n",
      "Processing done for 200000 samples\n",
      "\n",
      "Array shape: (300000,)\n",
      "Array shape: (300000,)\n",
      "Processing done for 300000 samples\n",
      "\n",
      "Array shape: (400000,)\n",
      "Array shape: (400000,)\n",
      "Processing done for 400000 samples\n",
      "\n",
      "Array shape: (500000,)\n",
      "Array shape: (500000,)\n",
      "Processing done for 500000 samples\n",
      "\n",
      "Array shape: (600000,)\n",
      "Array shape: (600000,)\n",
      "Processing done for 600000 samples\n",
      "\n",
      "Array shape: (700000,)\n",
      "Array shape: (700000,)\n",
      "Processing done for 700000 samples\n",
      "\n",
      "Array shape: (800000,)\n",
      "Array shape: (800000,)\n",
      "Processing done for 800000 samples\n",
      "\n",
      "Array shape: (900000,)\n",
      "Array shape: (900000,)\n",
      "Processing done for 900000 samples\n",
      "\n",
      "Array shape: (1000000,)\n",
      "Array shape: (1000000,)\n",
      "Processing done for 1000000 samples\n",
      "\n"
     ]
    }
   ],
   "source": [
    "n_samples=[100000*i for i in range(1,11)] \n",
    "time_lst_read=[]\n",
    "time_npy_read=[]\n",
    "\n",
    "for sample_size in n_samples:\n",
    "    with open('fdata.txt', 'w') as fdata:\n",
    "        for _ in range(sample_size):\n",
    "            fdata.write(str(10*np.random.random())+',')\n",
    "\n",
    "    t1=time.time()\n",
    "    with open('fdata.txt','r') as fdata:\n",
    "        datastr=fdata.read()\n",
    "    lst = datastr.split(',')\n",
    "    lst.pop()\n",
    "    array_lst=np.array(lst,dtype=float)\n",
    "    t2=time.time()\n",
    "    time_lst_read.append(1000*(t2-t1))\n",
    "    print(\"Array shape:\",array_lst.shape)\n",
    "\n",
    "    np.save('fnumpy.npy',array_lst)\n",
    "\n",
    "    t1=time.time()\n",
    "    array_reloaded = np.load('fnumpy.npy')\n",
    "    t2=time.time()\n",
    "    time_npy_read.append(1000*(t2-t1))\n",
    "    print(\"Array shape:\",array_reloaded.shape)\n",
    "    \n",
    "    print(f\"Processing done for {sample_size} samples\\n\")"
   ]
  },
  {
   "cell_type": "code",
   "execution_count": 73,
   "metadata": {},
   "outputs": [],
   "source": [
    "import matplotlib.pyplot as plt"
   ]
  },
  {
   "cell_type": "code",
   "execution_count": 74,
   "metadata": {},
   "outputs": [
    {
     "data": {
      "image/png": "[encoded data removed]",
      "text/plain": [
       "<matplotlib.figure.Figure at 0x25cda127f60>"
      ]
     },
     "metadata": {},
     "output_type": "display_data"
    }
   ],
   "source": [
    "plt.figure(figsize=(8,5))\n",
    "#plt.xscale('log')\n",
    "#plt.yscale('log')\n",
    "plt.scatter(n_samples,time_lst_read)\n",
    "plt.scatter(n_samples,time_npy_read)\n",
    "plt.legend(['Normal read from CSV','Read from .npy file'])\n",
    "plt.show()"
   ]
  },
  {
   "cell_type": "code",
   "execution_count": 75,
   "metadata": {},
   "outputs": [
    {
     "data": {
      "text/plain": [
       "[0.0,\n",
       " 2.5005340576171875,\n",
       " 0.0,\n",
       " 0.0,\n",
       " 15.625238418579102,\n",
       " 5.503654479980469,\n",
       " 7.005214691162109,\n",
       " 0.5002021789550781,\n",
       " 6.002664566040039,\n",
       " 9.006738662719727]"
      ]
     },
     "execution_count": 75,
     "metadata": {},
     "output_type": "execute_result"
    }
   ],
   "source": [
    "time_npy_read"
   ]
  },
  {
   "cell_type": "code",
   "execution_count": null,
   "metadata": {},
   "outputs": [],
   "source": []
  }
 ],
 "metadata": {
  "kernelspec": {
   "display_name": "Python 3",
   "language": "python",
   "name": "python3"
  },
  "language_info": {
   "codemirror_mode": {
    "name": "ipython",
    "version": 3
   },
   "file_extension": ".py",
   "mimetype": "text/x-python",
   "name": "python",
   "nbconvert_exporter": "python",
   "pygments_lexer": "ipython3",
   "version": "3.6.2"
  },
  "latex_envs": {
   "LaTeX_envs_menu_present": true,
   "autoclose": false,
   "autocomplete": true,
   "bibliofile": "biblio.bib",
   "cite_by": "apalike",
   "current_citInitial": 1,
   "eqLabelWithNumbers": true,
   "eqNumInitial": 1,
   "hotkeys": {
    "equation": "Ctrl-E",
    "itemize": "Ctrl-I"
   },
   "labels_anchors": false,
   "latex_user_defs": false,
   "report_style_numbering": false,
   "user_envs_cfg": false
  }
 },
 "nbformat": 4,
 "nbformat_minor": 2
}
