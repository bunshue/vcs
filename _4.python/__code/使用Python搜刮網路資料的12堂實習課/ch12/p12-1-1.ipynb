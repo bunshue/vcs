{
 "cells": [
  {
   "cell_type": "code",
   "execution_count": 7,
   "metadata": {},
   "outputs": [
    {
     "name": "stdout",
     "output_type": "stream",
     "text": [
      "Collecting pyautogui\n",
      "  Downloading https://files.pythonhosted.org/packages/a3/69/c8b0cab7cbc6badbc0079392e5d4b50f3e4be63e0091f0f414bd1ea4ac07/PyAutoGUI-0.9.50.tar.gz (57kB)\n",
      "Collecting pymsgbox (from pyautogui)\n",
      "  Downloading https://files.pythonhosted.org/packages/e0/d5/148383b342b621a23cb340e7b378122d3fd53a631c5e5142a5c869bdfa5b/PyMsgBox-1.0.8.tar.gz\n",
      "  Installing build dependencies: started\n",
      "  Installing build dependencies: finished with status 'done'\n",
      "  Getting requirements to build wheel: started\n",
      "  Getting requirements to build wheel: finished with status 'done'\n",
      "    Preparing wheel metadata: started\n",
      "    Preparing wheel metadata: finished with status 'done'\n",
      "Collecting PyTweening>=1.0.1 (from pyautogui)\n",
      "  Downloading https://files.pythonhosted.org/packages/b9/f8/c32a58d6e4dff8aa5c27e907194d69f3b57e525c2e4af96f39c6e9c854d2/PyTweening-1.0.3.zip\n",
      "Collecting pyscreeze>=0.1.21 (from pyautogui)\n",
      "  Downloading https://files.pythonhosted.org/packages/b7/7d/a0e85da28a96e2ff2f39e682ff84eb92501b564883fde87d92aee29966a2/PyScreeze-0.1.26.tar.gz\n",
      "Collecting pygetwindow>=0.0.5 (from pyautogui)\n",
      "  Downloading https://files.pythonhosted.org/packages/28/8b/f1a396f8ec5923e11246fabe29419a6dd8949a0360337fe6ad0f28a9c33b/PyGetWindow-0.0.8.tar.gz\n",
      "Collecting mouseinfo (from pyautogui)\n",
      "  Downloading https://files.pythonhosted.org/packages/28/fa/b2ba8229b9381e8f6381c1dcae6f4159a7f72349e414ed19cfbbd1817173/MouseInfo-0.1.3.tar.gz\n",
      "Requirement already satisfied: Pillow>=5.2.0 in c:\\users\\skyne\\appdata\\roaming\\python\\python37\\site-packages (from pyscreeze>=0.1.21->pyautogui) (7.1.2)\n",
      "Collecting pyrect (from pygetwindow>=0.0.5->pyautogui)\n",
      "  Downloading https://files.pythonhosted.org/packages/2f/68/bd7bf96fc44217e769f27912e6c9bb3e9987cba286054af6120448ce8212/PyRect-0.1.4.tar.gz\n",
      "Collecting pyperclip (from mouseinfo->pyautogui)\n",
      "  Downloading https://files.pythonhosted.org/packages/f6/5b/55866e1cde0f86f5eec59dab5de8a66628cb0d53da74b8dbc15ad8dabda3/pyperclip-1.8.0.tar.gz\n",
      "Building wheels for collected packages: pymsgbox\n",
      "  Building wheel for pymsgbox (PEP 517): started\n",
      "  Building wheel for pymsgbox (PEP 517): finished with status 'done'\n",
      "  Created wheel for pymsgbox: filename=PyMsgBox-1.0.8-cp37-none-any.whl size=7418 sha256=d76cf522dc7b1c9d867effbab08ff8d32982bea7e7a15e7925014896a55a43b1\n",
      "  Stored in directory: C:\\Users\\skyne\\AppData\\Local\\pip\\Cache\\wheels\\c4\\70\\12\\47ad53247da7e814e180a8361612b17bab8f7b9aa071318695\n",
      "Successfully built pymsgbox\n",
      "Building wheels for collected packages: pyautogui, PyTweening, pyscreeze, pygetwindow, mouseinfo, pyrect, pyperclip\n",
      "  Building wheel for pyautogui (setup.py): started\n",
      "  Building wheel for pyautogui (setup.py): finished with status 'done'\n",
      "  Created wheel for pyautogui: filename=PyAutoGUI-0.9.50-cp37-none-any.whl size=35134 sha256=eeca029b2e5c12465402dcd898e74bc4c5d0e591eae5893f9100789bffccee65\n",
      "  Stored in directory: C:\\Users\\skyne\\AppData\\Local\\pip\\Cache\\wheels\\e9\\4d\\ab\\55251d5f40fc314e859ceb9a1ef9f87dbbeb232b7c7ecf7639\n",
      "  Building wheel for PyTweening (setup.py): started\n",
      "  Building wheel for PyTweening (setup.py): finished with status 'done'\n",
      "  Created wheel for PyTweening: filename=PyTweening-1.0.3-cp37-none-any.whl size=3821 sha256=93c2698b495745797fb26d3df0f48b546be797e34459d8300fd91d110a7ade90\n",
      "  Stored in directory: C:\\Users\\skyne\\AppData\\Local\\pip\\Cache\\wheels\\7b\\92\\30\\06e21159eed2709436bfb6d7c690959e578cf74f029643866e\n",
      "  Building wheel for pyscreeze (setup.py): started\n",
      "  Building wheel for pyscreeze (setup.py): finished with status 'done'\n",
      "  Created wheel for pyscreeze: filename=PyScreeze-0.1.26-cp37-none-any.whl size=11940 sha256=b0c82bd4100187ec4beda9eb520f25f74eea6bfbf5943098d0a88f851e5bc11b\n",
      "  Stored in directory: C:\\Users\\skyne\\AppData\\Local\\pip\\Cache\\wheels\\d4\\a5\\e1\\d06a3ae91e6c66ab67d540c215bc2a0da99155c1281e8c921e\n",
      "  Building wheel for pygetwindow (setup.py): started\n",
      "  Building wheel for pygetwindow (setup.py): finished with status 'done'\n",
      "  Created wheel for pygetwindow: filename=PyGetWindow-0.0.8-cp37-none-any.whl size=11015 sha256=54b423a4e0715eb1930b1f87cf0840f8770e43d4f099aa20096f97d0f1b58f2b\n",
      "  Stored in directory: C:\\Users\\skyne\\AppData\\Local\\pip\\Cache\\wheels\\a7\\20\\2c\\7ba9c02521960b138ff4a635fced58cb7a3bc3cc99d52f56b5\n",
      "  Building wheel for mouseinfo (setup.py): started\n",
      "  Building wheel for mouseinfo (setup.py): finished with status 'done'\n",
      "  Created wheel for mouseinfo: filename=MouseInfo-0.1.3-cp37-none-any.whl size=10911 sha256=a57d7057ede3eea351d69296acae8d14e817805f5ca179596518dcec06fad951\n",
      "  Stored in directory: C:\\Users\\skyne\\AppData\\Local\\pip\\Cache\\wheels\\eb\\81\\32\\4d7b345486dbc3f3ee45316f8f4cbdebafc1b5d1da3353b529\n",
      "  Building wheel for pyrect (setup.py): started\n",
      "  Building wheel for pyrect (setup.py): finished with status 'done'\n",
      "  Created wheel for pyrect: filename=PyRect-0.1.4-py2.py3-none-any.whl size=9552 sha256=c85e15cddb876adc70cc0fc74a752aa920ba12c6eebaf8a609e2e1ae63ac0005\n",
      "  Stored in directory: C:\\Users\\skyne\\AppData\\Local\\pip\\Cache\\wheels\\3e\\61\\83\\8fd1478e984f7378e57972f5fd9bb0dbffc349fefc9efa5bf9\n",
      "  Building wheel for pyperclip (setup.py): started\n",
      "  Building wheel for pyperclip (setup.py): finished with status 'done'\n",
      "  Created wheel for pyperclip: filename=pyperclip-1.8.0-cp37-none-any.whl size=8697 sha256=b5ca5f5ccb84c67638abc7cfee7e655da91839369df9ca5b7f82bc872b10f11b\n",
      "  Stored in directory: C:\\Users\\skyne\\AppData\\Local\\pip\\Cache\\wheels\\b2\\ac\\0a\\b784f0afe26eaf52e88a7e15c7369090deea0354fa1c6fc689\n",
      "Successfully built pyautogui PyTweening pyscreeze pygetwindow mouseinfo pyrect pyperclip\n",
      "Installing collected packages: pymsgbox, PyTweening, pyscreeze, pyrect, pygetwindow, pyperclip, mouseinfo, pyautogui\n",
      "Successfully installed PyTweening-1.0.3 mouseinfo-0.1.3 pyautogui-0.9.50 pygetwindow-0.0.8 pymsgbox-1.0.8 pyperclip-1.8.0 pyrect-0.1.4 pyscreeze-0.1.26\n",
      "Note: you may need to restart the kernel to use updated packages.\n"
     ]
    }
   ],
   "source": [
    "%pip install pyautogui"
   ]
  },
  {
   "cell_type": "code",
   "execution_count": 9,
   "metadata": {},
   "outputs": [
    {
     "name": "stdout",
     "output_type": "stream",
     "text": [
      "0 541\n"
     ]
    }
   ],
   "source": [
    "import pyautogui as auto\n",
    "from IPython.display import clear_output\n",
    "import time\n",
    "while True:\n",
    "    x, y = auto.position()\n",
    "    clear_output()\n",
    "    print(x, y)\n",
    "    time.sleep(0.5)\n",
    "    if x < 10:\n",
    "        break"
   ]
  },
  {
   "cell_type": "code",
   "execution_count": 6,
   "metadata": {},
   "outputs": [
    {
     "ename": "ModuleNotFoundError",
     "evalue": "No module named 'pyautogui'",
     "output_type": "error",
     "traceback": [
      "\u001b[1;31m---------------------------------------------------------------------------\u001b[0m",
      "\u001b[1;31mModuleNotFoundError\u001b[0m                       Traceback (most recent call last)",
      "\u001b[1;32m<ipython-input-6-8f5b144cfae5>\u001b[0m in \u001b[0;36m<module>\u001b[1;34m\u001b[0m\n\u001b[1;32m----> 1\u001b[1;33m \u001b[1;32mimport\u001b[0m \u001b[0mpyautogui\u001b[0m \u001b[1;32mas\u001b[0m \u001b[0mauto\u001b[0m\u001b[1;33m\u001b[0m\u001b[1;33m\u001b[0m\u001b[0m\n\u001b[0m\u001b[0;32m      2\u001b[0m \u001b[1;32mimport\u001b[0m \u001b[0mtime\u001b[0m\u001b[1;33m\u001b[0m\u001b[1;33m\u001b[0m\u001b[0m\n\u001b[0;32m      3\u001b[0m \u001b[0mauto\u001b[0m\u001b[1;33m.\u001b[0m\u001b[0mPAUSE\u001b[0m \u001b[1;33m=\u001b[0m \u001b[1;36m1\u001b[0m\u001b[1;33m\u001b[0m\u001b[1;33m\u001b[0m\u001b[0m\n\u001b[0;32m      4\u001b[0m \u001b[0mx\u001b[0m\u001b[1;33m,\u001b[0m \u001b[0my\u001b[0m \u001b[1;33m=\u001b[0m \u001b[1;36m630\u001b[0m\u001b[1;33m,\u001b[0m \u001b[1;36m20\u001b[0m\u001b[1;33m\u001b[0m\u001b[1;33m\u001b[0m\u001b[0m\n\u001b[0;32m      5\u001b[0m \u001b[0mauto\u001b[0m\u001b[1;33m.\u001b[0m\u001b[0mmoveTo\u001b[0m\u001b[1;33m(\u001b[0m\u001b[0mx\u001b[0m\u001b[1;33m,\u001b[0m \u001b[0my\u001b[0m\u001b[1;33m,\u001b[0m \u001b[1;36m2\u001b[0m\u001b[1;33m)\u001b[0m\u001b[1;33m\u001b[0m\u001b[1;33m\u001b[0m\u001b[0m\n",
      "\u001b[1;31mModuleNotFoundError\u001b[0m: No module named 'pyautogui'"
     ]
    }
   ],
   "source": [
    "import pyautogui as auto\n",
    "import time\n",
    "auto.PAUSE = 1\n",
    "x, y = 630, 20\n",
    "auto.moveTo(x, y, 2)\n",
    "auto.click()\n",
    "x, y = 264, 62\n",
    "auto.moveTo(x, y, 2)\n",
    "auto.click()\n",
    "auto.typewrite(\"https://hophd.wordpress.com\")\n",
    "time.sleep(2)\n",
    "auto.press(\"enter\")"
   ]
  },
  {
   "cell_type": "code",
   "execution_count": 5,
   "metadata": {},
   "outputs": [],
   "source": [
    "from selenium import webdriver\n",
    "import time\n",
    "url = \"https://hophd.wordpress.com\"\n",
    "web = webdriver.Chrome(\"chromedriver.exe\")\n",
    "web.implicitly_wait(60)\n",
    "web.get(url)\n",
    "web.set_window_position(0, 0)\n",
    "time.sleep(10)\n",
    "web.quit()\n"
   ]
  },
  {
   "cell_type": "code",
   "execution_count": null,
   "metadata": {},
   "outputs": [],
   "source": []
  }
 ],
 "metadata": {
  "kernelspec": {
   "display_name": "Python 3",
   "language": "python",
   "name": "python3"
  },
  "language_info": {
   "codemirror_mode": {
    "name": "ipython",
    "version": 3
   },
   "file_extension": ".py",
   "mimetype": "text/x-python",
   "name": "python",
   "nbconvert_exporter": "python",
   "pygments_lexer": "ipython3",
   "version": "3.7.4"
  }
 },
 "nbformat": 4,
 "nbformat_minor": 4
}
