{
 "cells": [
  {
   "cell_type": "code",
   "execution_count": 39,
   "metadata": {},
   "outputs": [],
   "source": [
    "import requests, time\n",
    "from bs4 import BeautifulSoup\n",
    "target_url = 'https://www.nkust.edu.tw/p/403-1000-12-{}.php'\n",
    "\n",
    "data = list()\n",
    "for page in range(1, 6):\n",
    "    html = requests.get(target_url.format(page)).text\n",
    "    soup = BeautifulSoup(html, 'html.parser')\n",
    "    sel = '#pageptlist > div > div > div > div > div'\n",
    "    target = soup.select(sel)\n",
    "    for item in target:\n",
    "        pdate = item.i.text\n",
    "        title = item.a.text.strip()\n",
    "        link = item.a['href']\n",
    "        data.append((pdate, link, title))\n",
    "    time.sleep(3)"
   ]
  },
  {
   "cell_type": "code",
   "execution_count": 3,
   "metadata": {},
   "outputs": [
    {
     "name": "stdout",
     "output_type": "stream",
     "text": [
      "3.6.5\n",
      "4.6.0\n"
     ]
    }
   ],
   "source": [
    "from platform import python_version\n",
    "print(python_version())\n",
    "import bs4\n",
    "print(bs4.__version__)"
   ]
  },
  {
   "cell_type": "code",
   "execution_count": 41,
   "metadata": {},
   "outputs": [
    {
     "name": "stdout",
     "output_type": "stream",
     "text": [
      "http://www.nkust.edu.tw/p/406-1000-24350,r12.php\n"
     ]
    },
    {
     "ename": "NotImplementedError",
     "evalue": "Only the following pseudo-classes are implemented: nth-of-type.",
     "output_type": "error",
     "traceback": [
      "\u001b[0;31m---------------------------------------------------------------------------\u001b[0m",
      "\u001b[0;31mNotImplementedError\u001b[0m                       Traceback (most recent call last)",
      "\u001b[0;32m<ipython-input-41-c15a25e3713b>\u001b[0m in \u001b[0;36m<module>\u001b[0;34m()\u001b[0m\n\u001b[1;32m      8\u001b[0m     \u001b[0msoup\u001b[0m \u001b[0;34m=\u001b[0m \u001b[0mBeautifulSoup\u001b[0m\u001b[0;34m(\u001b[0m\u001b[0mhtml\u001b[0m\u001b[0;34m,\u001b[0m \u001b[0;34m'html.parser'\u001b[0m\u001b[0;34m)\u001b[0m\u001b[0;34m\u001b[0m\u001b[0m\n\u001b[1;32m      9\u001b[0m     \u001b[0msel\u001b[0m \u001b[0;34m=\u001b[0m \u001b[0;34m'#Dyn_2_3 > div.module.module-detail.md_style1 > div > section > div.mcont > div.mpgdetail > p:nth-child(2)'\u001b[0m\u001b[0;34m\u001b[0m\u001b[0m\n\u001b[0;32m---> 10\u001b[0;31m     \u001b[0mtarget\u001b[0m \u001b[0;34m=\u001b[0m \u001b[0msoup\u001b[0m\u001b[0;34m.\u001b[0m\u001b[0mselect\u001b[0m\u001b[0;34m(\u001b[0m\u001b[0msel\u001b[0m\u001b[0;34m)\u001b[0m\u001b[0;34m\u001b[0m\u001b[0m\n\u001b[0m\u001b[1;32m     11\u001b[0m     \u001b[0;32mtry\u001b[0m\u001b[0;34m:\u001b[0m\u001b[0;34m\u001b[0m\u001b[0m\n\u001b[1;32m     12\u001b[0m         \u001b[0mcontent\u001b[0m\u001b[0;34m[\u001b[0m\u001b[0;34m'content'\u001b[0m\u001b[0;34m]\u001b[0m \u001b[0;34m=\u001b[0m \u001b[0mtarget\u001b[0m\u001b[0;34m[\u001b[0m\u001b[0;36m0\u001b[0m\u001b[0;34m]\u001b[0m\u001b[0;34m.\u001b[0m\u001b[0mtext\u001b[0m\u001b[0;34m\u001b[0m\u001b[0m\n",
      "\u001b[0;32m~/anaconda3/lib/python3.6/site-packages/bs4/element.py\u001b[0m in \u001b[0;36mselect\u001b[0;34m(self, selector, _candidate_generator, limit)\u001b[0m\n\u001b[1;32m   1530\u001b[0m                     print(\"    Running candidate generator on %s %s\" % (\n\u001b[1;32m   1531\u001b[0m                         tag.name, repr(tag.attrs)))\n\u001b[0;32m-> 1532\u001b[0;31m                 \u001b[0;32mfor\u001b[0m \u001b[0mcandidate\u001b[0m \u001b[0;32min\u001b[0m \u001b[0m_use_candidate_generator\u001b[0m\u001b[0;34m(\u001b[0m\u001b[0mtag\u001b[0m\u001b[0;34m)\u001b[0m\u001b[0;34m:\u001b[0m\u001b[0;34m\u001b[0m\u001b[0m\n\u001b[0m\u001b[1;32m   1533\u001b[0m                     \u001b[0;32mif\u001b[0m \u001b[0;32mnot\u001b[0m \u001b[0misinstance\u001b[0m\u001b[0;34m(\u001b[0m\u001b[0mcandidate\u001b[0m\u001b[0;34m,\u001b[0m \u001b[0mTag\u001b[0m\u001b[0;34m)\u001b[0m\u001b[0;34m:\u001b[0m\u001b[0;34m\u001b[0m\u001b[0m\n\u001b[1;32m   1534\u001b[0m                         \u001b[0;32mcontinue\u001b[0m\u001b[0;34m\u001b[0m\u001b[0m\n",
      "\u001b[0;32m~/anaconda3/lib/python3.6/site-packages/bs4/element.py\u001b[0m in \u001b[0;36mrecursive_select\u001b[0;34m(tag)\u001b[0m\n\u001b[1;32m   1491\u001b[0m                         \u001b[0mprint\u001b[0m\u001b[0;34m(\u001b[0m\u001b[0;34m'    Calling select(\"%s\") recursively on %s %s'\u001b[0m \u001b[0;34m%\u001b[0m \u001b[0;34m(\u001b[0m\u001b[0mnext_token\u001b[0m\u001b[0;34m,\u001b[0m \u001b[0mtag\u001b[0m\u001b[0;34m.\u001b[0m\u001b[0mname\u001b[0m\u001b[0;34m,\u001b[0m \u001b[0mtag\u001b[0m\u001b[0;34m.\u001b[0m\u001b[0mattrs\u001b[0m\u001b[0;34m)\u001b[0m\u001b[0;34m)\u001b[0m\u001b[0;34m\u001b[0m\u001b[0m\n\u001b[1;32m   1492\u001b[0m                         \u001b[0mprint\u001b[0m\u001b[0;34m(\u001b[0m\u001b[0;34m'-'\u001b[0m \u001b[0;34m*\u001b[0m \u001b[0;36m40\u001b[0m\u001b[0;34m)\u001b[0m\u001b[0;34m\u001b[0m\u001b[0m\n\u001b[0;32m-> 1493\u001b[0;31m                     \u001b[0;32mfor\u001b[0m \u001b[0mi\u001b[0m \u001b[0;32min\u001b[0m \u001b[0mtag\u001b[0m\u001b[0;34m.\u001b[0m\u001b[0mselect\u001b[0m\u001b[0;34m(\u001b[0m\u001b[0mnext_token\u001b[0m\u001b[0;34m,\u001b[0m \u001b[0mrecursive_candidate_generator\u001b[0m\u001b[0;34m)\u001b[0m\u001b[0;34m:\u001b[0m\u001b[0;34m\u001b[0m\u001b[0m\n\u001b[0m\u001b[1;32m   1494\u001b[0m                         \u001b[0;32mif\u001b[0m \u001b[0mself\u001b[0m\u001b[0;34m.\u001b[0m\u001b[0m_select_debug\u001b[0m\u001b[0;34m:\u001b[0m\u001b[0;34m\u001b[0m\u001b[0m\n\u001b[1;32m   1495\u001b[0m                             \u001b[0mprint\u001b[0m\u001b[0;34m(\u001b[0m\u001b[0;34m'(Recursive select picked up candidate %s %s)'\u001b[0m \u001b[0;34m%\u001b[0m \u001b[0;34m(\u001b[0m\u001b[0mi\u001b[0m\u001b[0;34m.\u001b[0m\u001b[0mname\u001b[0m\u001b[0;34m,\u001b[0m \u001b[0mi\u001b[0m\u001b[0;34m.\u001b[0m\u001b[0mattrs\u001b[0m\u001b[0;34m)\u001b[0m\u001b[0;34m)\u001b[0m\u001b[0;34m\u001b[0m\u001b[0m\n",
      "\u001b[0;32m~/anaconda3/lib/python3.6/site-packages/bs4/element.py\u001b[0m in \u001b[0;36mselect\u001b[0;34m(self, selector, _candidate_generator, limit)\u001b[0m\n\u001b[1;32m   1449\u001b[0m                 \u001b[0;32melse\u001b[0m\u001b[0;34m:\u001b[0m\u001b[0;34m\u001b[0m\u001b[0m\n\u001b[1;32m   1450\u001b[0m                     raise NotImplementedError(\n\u001b[0;32m-> 1451\u001b[0;31m                         'Only the following pseudo-classes are implemented: nth-of-type.')\n\u001b[0m\u001b[1;32m   1452\u001b[0m \u001b[0;34m\u001b[0m\u001b[0m\n\u001b[1;32m   1453\u001b[0m             \u001b[0;32melif\u001b[0m \u001b[0mtoken\u001b[0m \u001b[0;34m==\u001b[0m \u001b[0;34m'*'\u001b[0m\u001b[0;34m:\u001b[0m\u001b[0;34m\u001b[0m\u001b[0m\n",
      "\u001b[0;31mNotImplementedError\u001b[0m: Only the following pseudo-classes are implemented: nth-of-type."
     ]
    }
   ],
   "source": [
    "contents = list()\n",
    "for article in data[6:7]:\n",
    "    content = dict()\n",
    "    url = article[1]\n",
    "    content['link'] = url\n",
    "    print(url)\n",
    "    html = requests.get(url).text\n",
    "    soup = BeautifulSoup(html, 'html.parser')\n",
    "    sel = '#Dyn_2_3 > div.module.module-detail.md_style1 > div > section > div.mcont > div.mpgdetail > p:nth-child(2)'\n",
    "    target = soup.select(sel)\n",
    "    try:\n",
    "        content['content'] = target[0].text\n",
    "    except:\n",
    "        content['content'] = \"\"\n",
    "        pass\n",
    "    contents.append(content)\n",
    "    time.sleep(3)\n",
    "print(contents)"
   ]
  },
  {
   "cell_type": "code",
   "execution_count": 36,
   "metadata": {},
   "outputs": [
    {
     "name": "stdout",
     "output_type": "stream",
     "text": [
      "http://www.nkust.edu.tw/p/406-1000-24642,r12.php\n",
      "{'date': '2020-01-15 ', 'title': '高科大培育新創團隊參加創業歸故里競賽 將貧土變沃土包辦亞軍與季軍', 'content': '國立高雄科技大學（簡稱高科大）產學處創新育成中心與創新創業教育中心輔導思原農園與天空之水創新科技公司（簡稱天空之水），參加經濟部工業局舉辦的「創業歸故里」創新創業競賽，歷時6個月的努力，自103個團隊突圍而出，分別奪下亞軍和季軍及百萬商業驗證獎助金。思原農園與天空之水複製其智慧農業與智慧科技的成功經驗，導入地無三里平的臺南左鎮與臺灣咖啡的故鄉雲林古坑，將貧土變沃土、穩定農民收入，盼逐步振興地方經濟與吸引青年返鄉。\\n\\n榮獲亞軍的思原農園位於高雄市旗山區，其主人羅條原為高科大EMBA校友，曾經歷農藥中毒的他知道農藥萬萬碰不得，發願推廣友善農業，並堅持從產地到餐桌、從餐桌再回產地的循環經濟模式，透過研究蚯蚓的習性，研發出組合式生態植栽器，可放入蔬菜、果皮，提供蚯蚓食用分解，形成蚓糞作為植物肥料，讓蚯蚓在土壤內移動達到鬆土作用，避免土壤硬化；羅條原也在農園打造魚菜共生系統，不用肥料，採科學方式計算魚菜共生的腹地面積、魚隻體重，確認飼料投放數量。而農園除地產地銷外，也做為生態農場教學場域，大方傳授經驗。\\n\\n「希望共創共生、共存及共榮的光景，堅持做對的事！」羅條原透過參加經濟部工業局的創業歸故里競賽，希望將成功的經驗完整複製到臺南左鎮。「左鎮缺乏大而平坦的腹地，土壤鹽分高不易耕種」，思原農園認為左鎮適合採蚓菜共生與魚菜共生模式，先選在左鎮岡林國小旁農地建置魚菜共生基地，提供農業技術諮詢管道，將來欲結合左鎮化石館觀光業，開發為生態導覽體驗場域，讓青年返鄉實踐半農半X（一邊務農，一邊從事能夠發揮天賦特長的工作）的生活。履行羅條原口中的「故鄉」其實就是「良心」兩個字，大家內心深處都渴望返回原本的故鄉，然而良心就是歸返原鄉的護照，無愧於心，堅持做對的事，讓地球永續發展。\\n\\n另一組榮獲季軍的天空之水為高雄市田寮咖啡莊園開發智慧農業科技所成立團隊，成功打造「咖啡從產地到餐桌」的產銷模式。負責人朱嘉弘表示，田寮除「月世界」廣為人知外，土壤雖屬泥岩惡地，卻因地質屬性與印尼爪哇曼特寧咖啡種植環境雷同，適合咖啡種植。田寮咖啡莊園創辦人、也是高科大行銷與流通管理系碩專班校友的陳右直2014年買下田寮5公頃土地後，先是循傳統農業栽種一萬多株咖啡樹，但因合作夥伴皆為農業門外漢，加上培育咖啡苗耗時費工，頭幾年辛苦投入的人力與物力因天災人禍付諸東流。\\n\\n當發現傳統人工種植的方式行不通，天空之水轉個彎運用智慧農業科技導入田間管理，「智慧農業科技不是新鮮事，但沒有一套整合系統」朱嘉弘說，於是團隊先解決果樹缺水問題，建置儲水桶收集雨水確保全年不斷水，再開發出APP系統隨時查看作物生長狀況，並能自動偵測氣候溫濕度與土壤濕度PH值及EC值等來啟動灌溉與施肥模式，既省時、省水又省電，再將物聯網IoT結合大數據AI打造全自動智慧化AIoT農場，藉此提升管理效率及產能。\\n\\n「農業是門跨界產業」朱嘉弘提到，他們的出發點仍是秉持「友善農業」，但要懂得善用科技、整合資源。天空之水技術工程師、高科大運籌管理系校友周承廷表示，他們使用智慧農業科技建立標準化種植數據及烘焙流程，透過收集來的大數據資料，能將此模式套用於任何環境與作物，目前田寮咖啡莊園已成功種植600多株咖啡樹，打造生產、加工、行銷一條龍的「咖啡從產地到餐桌」的產銷模式，更盼為全臺灣十大高齡鄉鎮區第二名的田寮注入創生生機，吸引年年輕人返鄉。天空之水也將成功經驗複製到雲林古坑櫻桃果咖啡莊園，提升青年回鄉從事農業的意願。\\n'}\n"
     ]
    }
   ],
   "source": [
    "for article in data[5:6]:\n",
    "    content = dict()\n",
    "    url = article[1]\n",
    "    content['date'] = article[0]\n",
    "    content['title'] = article[2]\n",
    "    print(url)\n",
    "    html = requests.get(url).text\n",
    "    soup = BeautifulSoup(html, 'html.parser')\n",
    "    sel = '#Dyn_2_3 > div.module.module-detail.md_style1 > div > section > div.mcont > div.mpgdetail > p:nth-child(2)'\n",
    "    target = soup.select(sel)\n",
    "    try:\n",
    "        content['content'] = target[0].text\n",
    "    except:\n",
    "        content['content'] = \"\"\n",
    "        pass\n",
    "    print(content)\n",
    "    time.sleep(3)"
   ]
  },
  {
   "cell_type": "code",
   "execution_count": 7,
   "metadata": {},
   "outputs": [
    {
     "name": "stdout",
     "output_type": "stream",
     "text": [
      "\u001b[33mDEPRECATION: Python 2.7 will reach the end of its life on January 1st, 2020. Please upgrade your Python as Python 2.7 won't be maintained after that date. A future version of pip will drop support for Python 2.7.\u001b[0m\n",
      "Collecting pymongo\n",
      "\u001b[?25l  Downloading https://files.pythonhosted.org/packages/48/f7/50a2e546c57d59dbdfe7927c651dd2eb9242c34ffedc46bdc772b82f6753/pymongo-3.10.1-cp27-cp27m-macosx_10_14_intel.whl (347kB)\n",
      "\u001b[K     |████████████████████████████████| 348kB 262kB/s eta 0:00:01\n",
      "\u001b[?25hInstalling collected packages: pymongo\n",
      "Successfully installed pymongo-3.10.1\n"
     ]
    }
   ],
   "source": [
    "!pip install pymongo"
   ]
  },
  {
   "cell_type": "code",
   "execution_count": 1,
   "metadata": {},
   "outputs": [
    {
     "ename": "NameError",
     "evalue": "name 'content' is not defined",
     "output_type": "error",
     "traceback": [
      "\u001b[0;31m---------------------------------------------------------------------------\u001b[0m",
      "\u001b[0;31mNameError\u001b[0m                                 Traceback (most recent call last)",
      "\u001b[0;32m<ipython-input-1-d568efb85d67>\u001b[0m in \u001b[0;36m<module>\u001b[0;34m()\u001b[0m\n\u001b[1;32m      3\u001b[0m \u001b[0mdb\u001b[0m \u001b[0;34m=\u001b[0m \u001b[0mconn\u001b[0m\u001b[0;34m.\u001b[0m\u001b[0mnews\u001b[0m\u001b[0;34m\u001b[0m\u001b[0m\n\u001b[1;32m      4\u001b[0m \u001b[0mcollection\u001b[0m \u001b[0;34m=\u001b[0m \u001b[0mdb\u001b[0m\u001b[0;34m.\u001b[0m\u001b[0mnkust\u001b[0m\u001b[0;34m\u001b[0m\u001b[0m\n\u001b[0;32m----> 5\u001b[0;31m \u001b[0mcollection\u001b[0m\u001b[0;34m.\u001b[0m\u001b[0minsert_one\u001b[0m\u001b[0;34m(\u001b[0m\u001b[0mcontent\u001b[0m\u001b[0;34m)\u001b[0m\u001b[0;34m\u001b[0m\u001b[0m\n\u001b[0m",
      "\u001b[0;31mNameError\u001b[0m: name 'content' is not defined"
     ]
    }
   ],
   "source": [
    "from pymongo import MongoClient\n",
    "conn = MongoClient()\n",
    "db = conn.news\n",
    "collection = db.nkust\n",
    "collection.insert_one(content)"
   ]
  },
  {
   "cell_type": "code",
   "execution_count": 38,
   "metadata": {},
   "outputs": [],
   "source": [
    "from pymongo import MongoClient\n",
    "conn = MongoClient()\n",
    "db = conn.news\n",
    "collection = db.nkust\n",
    "cmd1 = {'content':{'$in': ['title']}}\n",
    "cmd2 = {}\n",
    "cmd3 = {'date': '2020-02-13'}\n",
    "cmd4 = {'date': {'$in': ['20', '13']}}\n",
    "rows = collection.find(cmd4, {'date':1})\n",
    "for row in rows:\n",
    "    print(row)\n",
    "    print()"
   ]
  }
 ],
 "metadata": {
  "kernelspec": {
   "display_name": "Python 3",
   "language": "python",
   "name": "python3"
  },
  "language_info": {
   "codemirror_mode": {
    "name": "ipython",
    "version": 3
   },
   "file_extension": ".py",
   "mimetype": "text/x-python",
   "name": "python",
   "nbconvert_exporter": "python",
   "pygments_lexer": "ipython3",
   "version": "3.6.5"
  }
 },
 "nbformat": 4,
 "nbformat_minor": 2
}
