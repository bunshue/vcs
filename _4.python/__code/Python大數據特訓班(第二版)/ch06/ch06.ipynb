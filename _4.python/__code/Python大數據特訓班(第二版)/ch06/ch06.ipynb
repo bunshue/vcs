{
 "cells": [
  {
   "cell_type": "code",
   "execution_count": null,
   "metadata": {},
   "outputs": [],
   "source": [
    "# se1.py\n",
    "import pandas as pd\n",
    "se = pd.Series([1,2,3,4])\n",
    "print(se)           #顯示Series\n",
    "print(se.values)    #顯示值\n",
    "print(se.index)     #顯示索引"
   ]
  },
  {
   "cell_type": "code",
   "execution_count": null,
   "metadata": {},
   "outputs": [],
   "source": [
    "# se2.py\n",
    "import pandas as pd\n",
    "dict1 = {'a': 100, 'b': 200, 'c': 300}\n",
    "se = pd.Series(dict1)\n",
    "print(se)           #顯示Series\n",
    "print(se.values)    #顯示值\n",
    "print(se.index)     #顯示索引"
   ]
  },
  {
   "cell_type": "code",
   "execution_count": null,
   "metadata": {},
   "outputs": [],
   "source": [
    "# se3.py\n",
    "import pandas as pd\n",
    "se = pd.Series([1,2,3,4,5])\n",
    "print(se[2])\n",
    "print('-' * 6)\n",
    "print(se[2:5])"
   ]
  },
  {
   "cell_type": "code",
   "execution_count": null,
   "metadata": {},
   "outputs": [],
   "source": [
    "# df1.py\n",
    "import pandas as pd\n",
    "df = pd.DataFrame([[65,92,78,83,70], \n",
    "                   [90,72,76,93,56], \n",
    "                   [81,85,91,89,77], \n",
    "                   [79,53,47,94,80]])\n",
    "print(df)"
   ]
  },
  {
   "cell_type": "code",
   "execution_count": null,
   "metadata": {},
   "outputs": [],
   "source": [
    "# df2.py\n",
    "import pandas as pd\n",
    "df = pd.DataFrame([[65,92,78,83,70], \n",
    "                   [90,72,76,93,56], \n",
    "                   [81,85,91,89,77], \n",
    "                   [79,53,47,94,80]],\n",
    "                   index=['王小明','李小美','陳大同','林小玉'],\n",
    "                   columns=['國文','英文','數學','自然','社會'])\n",
    "print(df)"
   ]
  },
  {
   "cell_type": "code",
   "execution_count": null,
   "metadata": {},
   "outputs": [],
   "source": [
    "# df3.py\n",
    "import pandas as pd\n",
    "scores = {'國文':{'王小明':65,'李小美':90,'陳大同':81,'林小玉':79},\n",
    "          '英文':{'王小明':92,'李小美':72,'陳大同':85,'林小玉':53},\n",
    "          '數學':{'王小明':78,'李小美':76,'陳大同':91,'林小玉':47},\n",
    "          '自然':{'王小明':83,'李小美':93,'陳大同':89,'林小玉':94},\n",
    "          '社會':{'王小明':70,'李小美':56,'陳大同':94,'林小玉':80}}\n",
    "df = pd.DataFrame(scores)\n",
    "print(df)"
   ]
  },
  {
   "cell_type": "code",
   "execution_count": null,
   "metadata": {},
   "outputs": [],
   "source": [
    "# df4.py\n",
    "import pandas as pd\n",
    "se1 = pd.Series({'王小明':65,'李小美':90,'陳大同':81,'林小玉':79})\n",
    "se2 = pd.Series({'王小明':92,'李小美':72,'陳大同':85,'林小玉':53})\n",
    "se3 = pd.Series({'王小明':78,'李小美':76,'陳大同':91,'林小玉':47})\n",
    "se4 = pd.Series({'王小明':83,'李小美':93,'陳大同':89,'林小玉':94})\n",
    "se5 = pd.Series({'王小明':70,'李小美':56,'陳大同':94,'林小玉':80})\n",
    "df = pd.DataFrame({ '國文':se1,'英文':se2,'數學':se3,'自然':se4,\n",
    "\t\t\t\t\t\t\t '社會':se5} )\n",
    "print(df)"
   ]
  },
  {
   "cell_type": "code",
   "execution_count": null,
   "metadata": {},
   "outputs": [],
   "source": [
    "# df5.py\n",
    "import pandas as pd\n",
    "se1 = pd.Series({'王小明':65,'李小美':90,'陳大同':81,'林小玉':79})\n",
    "se2 = pd.Series({'王小明':92,'李小美':72,'陳大同':85,'林小玉':53})\n",
    "se3 = pd.Series({'王小明':78,'李小美':76,'陳大同':91,'林小玉':47})\n",
    "se4 = pd.Series({'王小明':83,'李小美':93,'陳大同':89,'林小玉':94})\n",
    "se5 = pd.Series({'王小明':70,'李小美':56,'陳大同':94,'林小玉':80})\n",
    "df = pd.concat([se1,se2,se3,se4,se5], axis=1)\n",
    "df.columns=['國文','英文','數學','自然','社會']\n",
    "print(df)\n"
   ]
  },
  {
   "cell_type": "code",
   "execution_count": null,
   "metadata": {},
   "outputs": [],
   "source": [
    "# df6.py\n",
    "import pandas as pd\n",
    "scores = {'國文':{'王小明':65,'李小美':90,'陳大同':81,'林小玉':79},\n",
    "          '英文':{'王小明':92,'李小美':72,'陳大同':85,'林小玉':53},\n",
    "          '數學':{'王小明':78,'李小美':76,'陳大同':91,'林小玉':47},\n",
    "          '自然':{'王小明':83,'李小美':93,'陳大同':89,'林小玉':94},\n",
    "          '社會':{'王小明':70,'李小美':56,'陳大同':94,'林小玉':80}}\n",
    "df = pd.DataFrame(scores)\n",
    "print(df[\"自然\"])\n",
    "print(df[[\"國文\", \"數學\", \"自然\"]])\n",
    "print(df[df[\"國文\"] >= 80])\n",
    "print(df.values)\n",
    "print(df.values[1])\n",
    "print(df.values[1][2])\n",
    "# loc\n",
    "print(df.loc[\"林小玉\", \"社會\"])\n",
    "print(df.loc[\"王小明\", [\"國文\",\"社會\"]])\n",
    "print(df.loc[[\"王小明\", \"李小美\"], [\"數學\", \"自然\"]])\n",
    "print(df.loc[\"王小明\":\"陳大同\", \"數學\":\"社會\"])\n",
    "print(df.loc[\"陳大同\", :])\n",
    "print(df.loc[:\"李小美\", \"數學\":\"社會\"])\n",
    "print(df.loc[\"李小美\":, \"數學\":\"社會\"])\n",
    "print(df.iloc[3, 4])\n",
    "# iloc\n",
    "df.iloc[0, [0, 4]]\n",
    "df.iloc[[0, 1], [2, 3]]\n",
    "df.iloc[0:3, 2:5]\n",
    "df.iloc[2, :]\n",
    "df.iloc[:2, 2:5]\n",
    "df.iloc[1:, 2:5]\n",
    "# head() tail()\n",
    "df.head(2)\n",
    "df.tail(2)"
   ]
  },
  {
   "cell_type": "code",
   "execution_count": null,
   "metadata": {},
   "outputs": [],
   "source": [
    "# df7.py\n",
    "import pandas as pd\n",
    "scores = {'國文':{'王小明':65,'李小美':90,'陳大同':81,'林小玉':79},\n",
    "          '英文':{'王小明':92,'李小美':72,'陳大同':85,'林小玉':53},\n",
    "          '數學':{'王小明':78,'李小美':76,'陳大同':91,'林小玉':47},\n",
    "          '自然':{'王小明':83,'李小美':93,'陳大同':89,'林小玉':94},\n",
    "          '社會':{'王小明':70,'李小美':56,'陳大同':94,'林小玉':80}}\n",
    "df = pd.DataFrame(scores)\n",
    "# 排序\n",
    "print(df.sort_values(by=\"數學\", ascending=False))\n",
    "print(df.sort_index(axis=0))\n",
    "# 修改\n",
    "df1 = df.loc[\"王小明\"][\"數學\"] = 90\n",
    "print(df)\n",
    "df2 = df.loc[\"王小明\", :] = 80\n",
    "print(df)\n",
    "# 刪除\n",
    "df.drop(\"王小明\")\n",
    "df.drop(\"數學\", axis=1)\n",
    "df.drop([\"數學\", \"自然\"], axis=1)\n",
    "df.drop(df.index[1:4])\n",
    "df.drop(df.columns[1:4], axis=1)"
   ]
  },
  {
   "cell_type": "code",
   "execution_count": null,
   "metadata": {},
   "outputs": [],
   "source": [
    "# read_csv.py\n",
    "import pandas as pd\n",
    "data = pd.read_csv(\"scores2.csv\", header=0, index_col=0)\n",
    "print(data)\n",
    "print(type(data))"
   ]
  },
  {
   "cell_type": "code",
   "execution_count": null,
   "metadata": {},
   "outputs": [],
   "source": [
    "# read_html.py\n",
    "import pandas as pd\n",
    "url = 'https://www.tiobe.com/tiobe-index/'\n",
    "tables = pd.read_html(url, header=0, keep_default_na=False)\n",
    "print(tables[0])"
   ]
  },
  {
   "cell_type": "code",
   "execution_count": null,
   "metadata": {},
   "outputs": [],
   "source": [
    "# to_csv.py\n",
    "import pandas as pd\n",
    "scores = {' 國文':{' 王小明':65,' 李小美':90,' 陳大同':81,' 林小玉':79},\n",
    "          ' 英文':{' 王小明':92,' 李小美':72,' 陳大同':85,' 林小玉':53},\n",
    "          ' 數學':{' 王小明':78,' 李小美':76,' 陳大同':91,' 林小玉':47},\n",
    "          ' 自然':{' 王小明':83,' 李小美':93,' 陳大同':89,' 林小玉':94},\n",
    "          ' 社會':{' 王小明':70,' 李小美':56,' 陳大同':94,' 林小玉':80}}\n",
    "df = pd.DataFrame(scores)\n",
    "df.to_csv('scores3.csv', encoding='utf-8-sig')"
   ]
  },
  {
   "cell_type": "code",
   "execution_count": null,
   "metadata": {},
   "outputs": [],
   "source": [
    "# pd_plot1.py\n",
    "import pandas as pd\n",
    "import matplotlib.pyplot as plt\n",
    "# 設定中文字型及負號正確顯示\n",
    "plt.rcParams[\"font.sans-serif\"] = \"Microsoft JhengHei\" #也可設mingliu或DFKai-SB\n",
    "\n",
    "plt.rcParams[\"axes.unicode_minus\"] = False \n",
    "\n",
    "df = pd.DataFrame([[250,320,300,312,280],\n",
    "                   [280,300,280,290,310],\n",
    "                   [220,280,250,305,250]],\n",
    "                   index=['北部','中部','南部'],\n",
    "                   columns=[2015,2016,2017,2018,2019])\n",
    "g1 = df.plot(kind='bar', title='長條圖', figsize=[10,5])\n",
    "g2 = df.plot(kind='barh', title='橫條圖', figsize=[10,5])\n",
    "g3 = df.plot(kind='bar', stacked=True, title='堆疊圖', figsize=[10,5])"
   ]
  },
  {
   "cell_type": "code",
   "execution_count": null,
   "metadata": {},
   "outputs": [],
   "source": [
    "# pd_plot2.py\n",
    "import pandas as pd\n",
    "import matplotlib.pyplot as plt\n",
    "# 設定中文字型及負號正確顯示\n",
    "plt.rcParams[\"font.sans-serif\"] = \"Microsoft JhengHei\" #也可設mingliu或DFKai-SB\n",
    "plt.rcParams[\"axes.unicode_minus\"] = False \n",
    "\n",
    "df = pd.DataFrame([[250,320,300,312,280],\n",
    "                   [280,300,280,290,310],\n",
    "                   [220,280,250,305,250]],\n",
    "                   index=['北部','中部','南部'],\n",
    "                   columns=[2015,2016,2017,2018,2019])\n",
    "g1 = df.iloc[0].plot(kind='line', legend=True, xticks=range(2015,2020), title='公司分區年度銷售表', figsize=[10,5])\n",
    "g1 = df.iloc[1].plot(kind='line', legend=True, xticks=range(2015,2020))\n",
    "g1 = df.iloc[2].plot(kind='line', legend=True, xticks=range(2015,2020))"
   ]
  },
  {
   "cell_type": "code",
   "execution_count": null,
   "metadata": {},
   "outputs": [],
   "source": [
    "# pd_plot3.py\n",
    "import pandas as pd\n",
    "import matplotlib.pyplot as plt\n",
    "# 設定中文字型及負號正確顯示\n",
    "plt.rcParams[\"font.sans-serif\"] = \"Microsoft JhengHei\" #也可設mingliu或DFKai-SB\n",
    "plt.rcParams[\"axes.unicode_minus\"] = False \n",
    "\n",
    "df = pd.DataFrame([[250,320,300,312,280],\n",
    "                   [280,300,280,290,310],\n",
    "                   [220,280,250,305,250]],\n",
    "                   index=['北部','中部','南部'],\n",
    "                   columns=[2015,2016,2017,2018,2019])\n",
    "df.plot(kind='pie', subplots=True, figsize=[20,20])"
   ]
  },
  {
   "cell_type": "code",
   "execution_count": null,
   "metadata": {},
   "outputs": [],
   "source": [
    "# dfclean1.py\n",
    "import pandas as pd\n",
    "# 讀取資料\n",
    "df = pd.read_csv('customer.csv')\n",
    "# 空值的處理\n",
    "print('各個欄位有空值的狀況:')\n",
    "print(df.isnull().sum())\n",
    "print('有空值的記錄筆數:', df.isnull().any(axis=1).sum())\n",
    "print('有空值的欄位數:', df.isnull().any(axis=0).sum())\n",
    "print('age欄有空值的記錄:')\n",
    "print(df[df['age'].isnull()])"
   ]
  },
  {
   "cell_type": "code",
   "execution_count": null,
   "metadata": {},
   "outputs": [],
   "source": [
    "# dfclean2.py\n",
    "import pandas as pd\n",
    "# 讀取資料\n",
    "df = pd.read_csv('customer.csv')\n",
    "# 將age的空值填入0\n",
    "df_sample = df.copy()\n",
    "df_sample['age'] = df_sample['age'].fillna(value=0)\n",
    "print(df_sample.head())\n",
    "\n",
    "# 將age的空值填入平均值\n",
    "df_sample = df.copy()\n",
    "df_sample['age'] = df_sample['age'].fillna(value=df_sample['age'].mean())\n",
    "print(df_sample.head())\n",
    "\n",
    "# 以前一個值往下填ffill或後一個值往上填bfill\n",
    "df_sample['gender'] = df_sample['gender'].fillna(method='ffill')\n",
    "df_sample['area'] = df_sample['area'].fillna(method='ffill')\n",
    "print(df_sample.head())\n",
    "\n",
    "# 刪除不完整的資料\n",
    "print(df.dropna())"
   ]
  },
  {
   "cell_type": "code",
   "execution_count": null,
   "metadata": {},
   "outputs": [],
   "source": [
    "# dfclean3.py\n",
    "import pandas as pd\n",
    "# 讀取資料\n",
    "df = pd.read_csv('customer.csv')\n",
    "# 資料基本清理\n",
    "df_sample = df.copy()\n",
    "df_sample['age'] = df_sample['age'].fillna(value=df_sample['age'].mean())\n",
    "df_sample['gender'] = df_sample['gender'].fillna(method='ffill')\n",
    "df_sample['area'] = df_sample['area'].fillna(method='ffill')\n",
    "\n",
    "# 去除重覆記錄\n",
    "df_sample.drop_duplicates(subset='id', keep='first', inplace=True)\n",
    "print(df_sample.head())\n",
    "\n",
    "# 去除欄位中的空白\n",
    "df_sample['job'] = df_sample['job'].str.strip()\n",
    "df_sample['job'] = df_sample['job'].str.replace(' ', '')\n",
    "print(df_sample.head())\n",
    "\n",
    "# 轉換值的格式\n",
    "df_sample['age'] = df_sample['age'].astype('int32')\n",
    "print(df_sample.head())"
   ]
  },
  {
   "cell_type": "code",
   "execution_count": null,
   "metadata": {},
   "outputs": [],
   "source": [
    "# dffilter.py\n",
    "import pandas as pd\n",
    "# 讀取資料\n",
    "df = pd.read_csv('customer.csv')\n",
    "# 資料基本清理\n",
    "df_sample = df.copy()\n",
    "df_sample['age'] = df_sample['age'].fillna(value=df_sample['age'].mean())\n",
    "df_sample['gender'] = df_sample['gender'].fillna(method='ffill')\n",
    "df_sample['area'] = df_sample['area'].fillna(method='ffill')\n",
    "df_sample.drop_duplicates(subset='id', keep='first', inplace=True)\n",
    "df_sample['job'] = df_sample['job'].str.strip()\n",
    "df_sample['job'] = df_sample['job'].str.replace(' ', '')\n",
    "df_sample['age'] = df_sample['age'].astype('int32')\n",
    "\n",
    "# 篩選女性的資料\n",
    "print(df_sample[(df_sample['gender'] == 'Female')])\n",
    "\n",
    "# 篩選男性且大於50歲的資料\n",
    "print(df_sample[(df_sample['gender'] == 'Male') & (df_sample['age'] > 50)])\n",
    "\n",
    "# 篩選住在新北市三重區或基隆市中正區的資料\n",
    "print(df_sample[(df_sample['area'] == '新北市三重區') | (df_sample['area'] == '基隆市中正區')])"
   ]
  },
  {
   "cell_type": "code",
   "execution_count": null,
   "metadata": {},
   "outputs": [],
   "source": [
    "# dfgroupby.py\n",
    "import pandas as pd\n",
    "# 讀取資料\n",
    "df = pd.read_csv('customer.csv')\n",
    "# 資料基本清理\n",
    "df_sample = df.copy()\n",
    "df_sample['age'] = df_sample['age'].fillna(value=df_sample['age'].mean())\n",
    "df_sample['gender'] = df_sample['gender'].fillna(method='ffill')\n",
    "df_sample['area'] = df_sample['area'].fillna(method='ffill')\n",
    "df_sample.drop_duplicates(subset='id', keep='first', inplace=True)\n",
    "df_sample['job'] = df_sample['job'].str.strip()\n",
    "df_sample['job'] = df_sample['job'].str.replace(' ', '')\n",
    "df_sample['age'] = df_sample['age'].astype('int32')\n",
    "\n",
    "#客戶中男女生的平均年齡\n",
    "print(df_sample.groupby('gender')['age'].mean())\n",
    "print('-'*30)\n",
    "\n",
    "#客戶中住各區的人數\n",
    "print(df_sample.groupby('area')['id'].count())\n",
    "print('-'*30)\n",
    "\n",
    "#客戶中男女生的平均年齡、最年長及最年輕的年齡\n",
    "print(df_sample.groupby('gender')['age'].agg(['mean', 'max', 'min']))"
   ]
  }
 ],
 "metadata": {
  "kernelspec": {
   "display_name": "Python 3",
   "language": "python",
   "name": "python3"
  },
  "language_info": {
   "codemirror_mode": {
    "name": "ipython",
    "version": 3
   },
   "file_extension": ".py",
   "mimetype": "text/x-python",
   "name": "python",
   "nbconvert_exporter": "python",
   "pygments_lexer": "ipython3",
   "version": "3.7.6"
  }
 },
 "nbformat": 4,
 "nbformat_minor": 4
}
