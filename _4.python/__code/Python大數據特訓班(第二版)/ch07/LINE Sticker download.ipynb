{
 "cells": [
  {
   "cell_type": "code",
   "execution_count": 1,
   "metadata": {},
   "outputs": [
    {
     "data": {
      "text/plain": [
       "<Response [200]>"
      ]
     },
     "execution_count": 1,
     "metadata": {},
     "output_type": "execute_result"
    }
   ],
   "source": [
    "import requests, json, os\n",
    "from bs4 import BeautifulSoup\n",
    "\n",
    "url = 'https://store.line.me/stickershop/product/8991459/zh-Hant'\n",
    "\n",
    "html = requests.get(url)\n",
    "html"
   ]
  },
  {
   "cell_type": "code",
   "execution_count": 10,
   "metadata": {},
   "outputs": [
    {
     "name": "stdout",
     "output_type": "stream",
     "text": [
      "line_image/230054638.png\n",
      "line_image/230054639.png\n",
      "line_image/230054640.png\n",
      "line_image/230054641.png\n",
      "line_image/230054642.png\n",
      "line_image/230054643.png\n",
      "line_image/230054644.png\n",
      "line_image/230054645.png\n",
      "line_image/230054646.png\n",
      "line_image/230054647.png\n",
      "line_image/230054648.png\n",
      "line_image/230054649.png\n",
      "line_image/230054650.png\n",
      "line_image/230054651.png\n",
      "line_image/230054652.png\n",
      "line_image/230054653.png\n",
      "line_image/230054654.png\n",
      "line_image/230054655.png\n",
      "line_image/230054656.png\n",
      "line_image/230054657.png\n",
      "line_image/230054658.png\n",
      "line_image/230054659.png\n",
      "line_image/230054660.png\n",
      "line_image/230054661.png\n",
      "line_image/230054662.png\n",
      "line_image/230054663.png\n",
      "line_image/230054664.png\n",
      "line_image/230054665.png\n",
      "line_image/230054666.png\n",
      "line_image/230054667.png\n",
      "line_image/230054668.png\n",
      "line_image/230054669.png\n"
     ]
    }
   ],
   "source": [
    "sp = BeautifulSoup(html.text, 'html.parser')\n",
    "datas = sp.find_all('li', {'class':'mdCMN09Li FnStickerPreviewItem'})\n",
    "\n",
    "# 建立目錄儲存圖片\n",
    "images_dir= \"line_image/\"\n",
    "if not os.path.exists(images_dir):\n",
    "    os.mkdir(images_dir)\n",
    "\n",
    "for data in datas:\n",
    "    imginfo = json.loads(data.get('data-preview'))\n",
    "    id = imginfo['id']\n",
    "    imgfile = requests.get(imginfo['staticUrl'])\n",
    "    full_path = images_dir + id + '.png'\n",
    "    \n",
    "    with open(full_path, 'wb') as f:\n",
    "        f.write(imgfile.content)\n",
    "        print(full_path)  "
   ]
  }
 ],
 "metadata": {
  "kernelspec": {
   "display_name": "Python 3",
   "language": "python",
   "name": "python3"
  },
  "language_info": {
   "codemirror_mode": {
    "name": "ipython",
    "version": 3
   },
   "file_extension": ".py",
   "mimetype": "text/x-python",
   "name": "python",
   "nbconvert_exporter": "python",
   "pygments_lexer": "ipython3",
   "version": "3.7.6"
  }
 },
 "nbformat": 4,
 "nbformat_minor": 4
}
