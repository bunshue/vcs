{
 "cells": [
  {
   "cell_type": "markdown",
   "metadata": {},
   "source": [
    "# Pandas資料應用專題\n",
    "\n",
    "【口罩何處尋？ 健保藥局查詢程式】\n",
    "\n",
    "## 相關資料網頁\n",
    "\n",
    "* [健保特約機構口罩剩餘數量明細清單](https://data.nhi.gov.tw/Datasets/DatasetDetail.aspx?id=656&Mid=A111088)\n",
    "* [健保特約醫事機構-藥局](https://data.nhi.gov.tw/Datasets/DatasetDetail.aspx?id=329&Mid=A111068)\n",
    "\n",
    "## Pandas資料讀取與顯示"
   ]
  },
  {
   "cell_type": "code",
   "execution_count": null,
   "metadata": {},
   "outputs": [],
   "source": [
    "import pandas\n",
    "df = pandas.read_csv('https://data.nhi.gov.tw/DataSets/DataSetResource.ashx?rId=A21030000I-D21005-001')"
   ]
  },
  {
   "cell_type": "code",
   "execution_count": null,
   "metadata": {},
   "outputs": [],
   "source": [
    "# df.head()\n",
    "# df.tail()\n",
    "# df.head(10)\n",
    "df[['醫事機構名稱','電話','地址','備註']].tail(10)"
   ]
  },
  {
   "cell_type": "markdown",
   "metadata": {},
   "source": [
    "## Pandas資料排序"
   ]
  },
  {
   "cell_type": "code",
   "execution_count": null,
   "metadata": {},
   "outputs": [],
   "source": [
    "# df1 = df[['醫事機構名稱','電話','地址','備註']]\n",
    "df1.sort_values(['地址', '電話'], ascending=[True, False])"
   ]
  },
  {
   "cell_type": "markdown",
   "metadata": {},
   "source": [
    "## Pandas資料篩選"
   ]
  },
  {
   "cell_type": "code",
   "execution_count": null,
   "metadata": {},
   "outputs": [],
   "source": [
    "mask = df1['地址'].str.startswith(\"苗栗縣\")\n",
    "df1[mask]"
   ]
  },
  {
   "cell_type": "markdown",
   "metadata": {},
   "source": [
    "## Pandas 新增欄位(columns)"
   ]
  },
  {
   "cell_type": "code",
   "execution_count": null,
   "metadata": {},
   "outputs": [],
   "source": [
    "df1.insert(1, \"縣市\", df1['地址'].str.slice(0,3,1))\n",
    "df1.insert(2, \"地區\", df1['地址'].str.slice(3,6,1))\n",
    "df1"
   ]
  },
  {
   "cell_type": "markdown",
   "metadata": {},
   "source": [
    "## Pandas 資料統計"
   ]
  },
  {
   "cell_type": "code",
   "execution_count": null,
   "metadata": {},
   "outputs": [],
   "source": [
    "df2 = df1[['醫事機構名稱','縣市']].groupby('縣市').count()\n",
    "df2.columns=['總計']\n",
    "df2.sort_values('總計', ascending=False)"
   ]
  },
  {
   "cell_type": "markdown",
   "metadata": {},
   "source": [
    "## 口罩何處尋 健保藥局查詢程式"
   ]
  },
  {
   "cell_type": "code",
   "execution_count": null,
   "metadata": {},
   "outputs": [],
   "source": [
    "import pandas\n",
    "# df = pandas.read_csv('https://data.nhi.gov.tw/DataSets/DataSetResource.ashx?rId=A21030000I-D21005-001')\n",
    "\n",
    "df1 = df[['醫事機構名稱','電話','地址','備註']]\n",
    "\n",
    "keyword = input('請輸入查詢縣市：')\n",
    "\n",
    "if keyword != '':\n",
    "    mask = df1['地址'].str.startswith(keyword.replace('台', '臺'))\n",
    "    if len(df1[mask]) > 0:\n",
    "        display(df1[mask])\n",
    "    else:\n",
    "        print('請輸入正確資料！')\n",
    "else:\n",
    "    print('請重新輸入查詢縣市資料')"
   ]
  }
 ],
 "metadata": {
  "kernelspec": {
   "display_name": "Python 3",
   "language": "python",
   "name": "python3"
  },
  "language_info": {
   "codemirror_mode": {
    "name": "ipython",
    "version": 3
   },
   "file_extension": ".py",
   "mimetype": "text/x-python",
   "name": "python",
   "nbconvert_exporter": "python",
   "pygments_lexer": "ipython3",
   "version": "3.7.6"
  }
 },
 "nbformat": 4,
 "nbformat_minor": 4
}
