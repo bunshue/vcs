{
 "cells": [
  {
   "cell_type": "code",
   "execution_count": null,
   "metadata": {},
   "outputs": [],
   "source": [
    "# county.py\n",
    "# 網址：http://www.ibon.com.tw/retail_inquiry.aspx#gsc.tab=0\n",
    "\n",
    "import requests\n",
    "url = 'http://www.ibon.com.tw/retail_inquiry_ajax.aspx'\n",
    "payload = {'strTargetField': 'COUNTY', 'strKeyWords': '南投縣'}\n",
    "html = requests.post(url, data=payload)\n",
    "html.encoding='utf-8'\n",
    "\n",
    "from bs4 import BeautifulSoup\n",
    "soup = BeautifulSoup(html.text, 'html.parser')\n",
    "datas = soup.find_all('tr')\n",
    "print(datas[0:3]) # 顯示前 3 筆表格資料\n",
    "\n",
    "del datas[0]  # 去掉表頭\n",
    "for data in datas:\n",
    "    items = data.find_all('td')\n",
    "    for item in items:\n",
    "        print(item.text.strip() , end=',')\n",
    "    print()"
   ]
  },
  {
   "cell_type": "code",
   "execution_count": null,
   "metadata": {},
   "outputs": [],
   "source": [
    "# excel_write.py\n",
    "import pandas as pd\n",
    "\n",
    "writer = pd.ExcelWriter('test.xlsx')\n",
    "print(type(writer))\n",
    "\n",
    "# 建立數據一\n",
    "df1 = pd.DataFrame({\"name\":[\"david\",\"tom\",\"chiou\"],\n",
    "                    \"id\":[123,456,789] })\n",
    "df1.to_excel(writer,sheet_name='sheet1',index=False)\n",
    "\n",
    "# 建立數據二\n",
    "df2 = pd.DataFrame({\"電話\":[\"0912-112233\",\"0987-556677\"],\n",
    "                    \"地址\":[\"台北市\",\"埔里鎮\"] })\n",
    "df2.to_excel(writer,sheet_name='工作表二')\n",
    "\n",
    "# 儲存至 Excel文件中\n",
    "writer.save()"
   ]
  },
  {
   "cell_type": "code",
   "execution_count": null,
   "metadata": {},
   "outputs": [],
   "source": [
    "# allcounty_pandas.py\n",
    "import requests\n",
    "from bs4 import BeautifulSoup\n",
    "import pandas as pd\n",
    "# 取得所有縣市\n",
    "url = 'http://www.ibon.com.tw/retail_inquiry.aspx#gsc.tab=0'\n",
    "r = requests.get(url)\n",
    "r.encoding = 'utf-8'\n",
    "html = BeautifulSoup(r.text, 'html.parser')\n",
    "areas = html.find('select', id='Class1').find_all('option')\n",
    "for i in range(len(areas)):\n",
    "    areas[i] = areas[i].text \n",
    "    \n",
    "# 開始批次擷取\n",
    "with pd.ExcelWriter('711.xlsx') as writer:\n",
    "    for county in areas:\n",
    "        url = 'http://www.ibon.com.tw/retail_inquiry_ajax.aspx'\n",
    "        payload = {'strTargetField': 'COUNTY', 'strKeyWords': county}\n",
    "        r = requests.post(url, data=payload)\n",
    "        r.encoding='utf-8'\n",
    "        \n",
    "        print(county,\"下載中…\")\n",
    "        df = pd.read_html(r.text, header=0)[0]\n",
    "        df.to_excel(writer, sheet_name=county,index=False)\n",
    "        \n",
    "# 儲存至 Excel文件中\n",
    "writer.save()        \n",
    "print(\"下載完畢\")"
   ]
  }
 ],
 "metadata": {
  "kernelspec": {
   "display_name": "Python 3",
   "language": "python",
   "name": "python3"
  },
  "language_info": {
   "codemirror_mode": {
    "name": "ipython",
    "version": 3
   },
   "file_extension": ".py",
   "mimetype": "text/x-python",
   "name": "python",
   "nbconvert_exporter": "python",
   "pygments_lexer": "ipython3",
   "version": "3.7.6"
  }
 },
 "nbformat": 4,
 "nbformat_minor": 4
}
