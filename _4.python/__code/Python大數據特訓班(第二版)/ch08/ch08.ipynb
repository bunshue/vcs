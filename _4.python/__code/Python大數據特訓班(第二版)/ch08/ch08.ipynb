{
 "cells": [
  {
   "cell_type": "code",
   "execution_count": null,
   "metadata": {},
   "outputs": [],
   "source": [
    "# pytube1.py\n",
    "from pytube import YouTube\n",
    "\n",
    "yt = YouTube('https://www.youtube.com/watch?v=27ob2G3GUCQ')\n",
    "print('開始下載影片，請稍候！')\n",
    "yt.streams.first().download()\n",
    "print('影片下載完成')"
   ]
  },
  {
   "cell_type": "code",
   "execution_count": null,
   "metadata": {},
   "outputs": [],
   "source": [
    "# pytube2.py\n",
    "from pytube import YouTube\n",
    "\n",
    "yt = YouTube('https://www.youtube.com/watch?v=27ob2G3GUCQ')\n",
    "print('開始下載：' + yt.title)\n",
    "pathdir = 'd:\\\\tem1'  #下載資料夾\n",
    "yt.streams.first().download(pathdir)\n",
    "print('「' + yt.title + '」下載完成！')"
   ]
  },
  {
   "cell_type": "code",
   "execution_count": null,
   "metadata": {},
   "outputs": [],
   "source": [
    "# pytube3.py\n",
    "from pytube import YouTube\n",
    "\n",
    "yt = YouTube('https://www.youtube.com/watch?v=27ob2G3GUCQ')\n",
    "print(\"影片名稱：\" + yt.title)\n",
    "print(\"影片格式共有 \" + str(len(yt.streams)) + ' 種')\n",
    "print(\"影片型態為 mp4 且影像及聲音都有的影片：\")\n",
    "print(yt.streams.filter(subtype='mp4', progressive=True))\n",
    "print('開始下載 mp4, 360p 的影片：')\n",
    "pathdir = 'd:\\\\tem'  #下載資料夾\n",
    "yt.streams.filter(subtype='mp4', res='360p', progressive=True).first().download(pathdir)  #下載mp4,360p影片\n",
    "print('下載完成！ 下載檔案存於 ' + pathdir + ' 資料夾')"
   ]
  },
  {
   "cell_type": "code",
   "execution_count": null,
   "metadata": {},
   "outputs": [],
   "source": [
    "# youtube_batch.py\n",
    "from pytube import YouTube\n",
    "from pytube import Playlist\n",
    "\n",
    "playlist = Playlist(\"https://www.youtube.com/watch?v=hGRplpwjbr0&list=PL316wRwpvsnHZprsPfXM8yPzyZ41bvuWl\")  #建立物件  \n",
    "videolist = playlist.video_urls  #取得所有影片連結\n",
    "print('共有 ' + str(len(videolist)) + ' 部影片')\n",
    "\n",
    "pathdir = 'download'  #下載資料夾\n",
    "print('開始下載：')\n",
    "n = 1\n",
    "for video in videolist:\n",
    "    yt = YouTube(video)\n",
    "    print(str(n) + '. ' + yt.title)  #顯示標題\n",
    "    yt.streams.filter(subtype='mp4', res='360p', progressive=True).first().download(pathdir)  #下載mp4,360p影片\n",
    "    n = n + 1\n",
    "print('下載完成！')"
   ]
  },
  {
   "cell_type": "code",
   "execution_count": null,
   "metadata": {},
   "outputs": [],
   "source": [
    "# youtube_audio.py\n",
    "from pytube import YouTube\n",
    "\n",
    "yt = YouTube('https://www.youtube.com/watch?v=27ob2G3GUCQ')\n",
    "#print(yt.streams.filter(only_audio=True))\n",
    "#print(yt.streams.filter(mime_type='audio/webm'))\n",
    "pathdir = 'download'  #下載資料夾\n",
    "print('開始下載聲音檔：')\n",
    "yt.streams.filter(mime_type='audio/mp4').first().download(pathdir)  #下載mp4聲音檔\n",
    "yt.streams.filter(mime_type='audio/webm')[2].download(pathdir)  #下載webm聲音檔\n",
    "#yt.streams.filter(only_audio=True).first().download(pathdir)  #下載聲音檔\n",
    "print('下載完成！')"
   ]
  },
  {
   "cell_type": "code",
   "execution_count": null,
   "metadata": {},
   "outputs": [],
   "source": [
    "# youtube_caption.py\n",
    "from pytube import YouTube\n",
    "\n",
    "yt = YouTube('https://www.youtube.com/watch?v=RIIU6rRj7Eo')\n",
    "#print(yt.captions)\n",
    "caption = yt.captions['en']\n",
    "srt = caption.generate_srt_captions()\n",
    "file = open('download/youtube.srt', 'w', encoding='UTF-8')\n",
    "file.write(srt)\n",
    "file.close()\n",
    "print(srt)"
   ]
  }
 ],
 "metadata": {
  "kernelspec": {
   "display_name": "Python 3",
   "language": "python",
   "name": "python3"
  },
  "language_info": {
   "codemirror_mode": {
    "name": "ipython",
    "version": 3
   },
   "file_extension": ".py",
   "mimetype": "text/x-python",
   "name": "python",
   "nbconvert_exporter": "python",
   "pygments_lexer": "ipython3",
   "version": "3.7.6"
  }
 },
 "nbformat": 4,
 "nbformat_minor": 4
}
