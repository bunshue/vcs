{
 "cells": [
  {
   "cell_type": "code",
   "execution_count": null,
   "metadata": {},
   "outputs": [],
   "source": [
    "# get.py\n",
    "import requests\n",
    "url = 'http://www.ehappy.tw/demo.htm'\n",
    "html = requests.get(url)\n",
    "# 檢查HTTP回應碼是否為200(requests.code.ok)\n",
    "if html.status_code == requests.codes.ok:\n",
    "    print(html.text)"
   ]
  },
  {
   "cell_type": "code",
   "execution_count": null,
   "metadata": {},
   "outputs": [],
   "source": [
    "# get_params.py\n",
    "import requests\n",
    "# 將查詢參數定義為字典資料加入GET請求中\n",
    "payload = {'key1': 'value1', 'key2': 'value2'}\n",
    "html = requests.get(\"http://httpbin.org/get\", params=payload)\n",
    "print(html.text)"
   ]
  },
  {
   "cell_type": "code",
   "execution_count": null,
   "metadata": {},
   "outputs": [],
   "source": [
    "# post.py\n",
    "import requests\n",
    "# 將查詢參數加入 POST 請求中\n",
    "payload = {'key1': 'value1', 'key2': 'value2'}\n",
    "r = requests.post(\"http://httpbin.org/post\", data=payload)\n",
    "print(r.text)"
   ]
  },
  {
   "cell_type": "code",
   "execution_count": null,
   "metadata": {},
   "outputs": [],
   "source": [
    "# get_headers.py\n",
    "import requests\n",
    "url = 'https://irs.thsrc.com.tw/IMINT/'\n",
    "# 自訂表頭\n",
    "headers={\n",
    "   'user-agent':'Mozilla/5.0 (Windows NT 10.0; Win64; x64) AppleWebKit/537.36 (KHTML, like Gecko) Chrome/64.0.3282.186 Safari/537.36'\n",
    "}\n",
    "# 將自訂表頭加入 GET 請求中\n",
    "html = requests.get(url, headers=headers)\n",
    "print(html)"
   ]
  },
  {
   "cell_type": "code",
   "execution_count": null,
   "metadata": {},
   "outputs": [],
   "source": [
    "# get_cookie.py\n",
    "import requests\n",
    "url = 'https://www.ptt.cc/bbs/Gossiping/index.html'\n",
    "# 設定cookies的值\n",
    "cookies = {'over18':'1'}\n",
    "r = requests.get(url, cookies=cookies)\n",
    "print(r.text)"
   ]
  },
  {
   "cell_type": "code",
   "execution_count": null,
   "metadata": {},
   "outputs": [],
   "source": [
    "# bs1.py\n",
    "import requests\n",
    "from bs4 import BeautifulSoup\n",
    "url = 'http://ehappy.tw/bsdemo1.htm'\n",
    "html = requests.get(url)\n",
    "html.encoding = 'UTF-8'\n",
    "sp = BeautifulSoup(html.text, 'lxml')\n",
    "\n",
    "print(sp.title)\n",
    "print(sp.title.text)\n",
    "print(sp.h1)\n",
    "print(sp.p)"
   ]
  },
  {
   "cell_type": "code",
   "execution_count": null,
   "metadata": {},
   "outputs": [],
   "source": [
    "# bs2.py\n",
    "from bs4 import BeautifulSoup\n",
    "html = '''\n",
    "<html>\n",
    "  <head><meta charset=\"UTF-8\"><title>我是網頁標題</title></head>\n",
    "  <body>\n",
    "      <p id=\"p1\">我是段落一</p>\n",
    "      <p id=\"p2\" class='red'>我是段落二</p>\n",
    "  </body>\n",
    "</html>\n",
    "'''\n",
    "sp = BeautifulSoup(html, 'lxml')\n",
    "print(sp.find('p'))\n",
    "print(sp.find_all('p'))\n",
    "print(sp.find('p', {'id':'p2', 'class':'red'}))\n",
    "print(sp.find('p', id='p2', class_= 'red'))"
   ]
  },
  {
   "cell_type": "code",
   "execution_count": null,
   "metadata": {},
   "outputs": [],
   "source": [
    "# bs3.py\n",
    "from bs4 import BeautifulSoup\n",
    "html = '''\n",
    "<html>\n",
    "  <head><meta charset=\"UTF-8\"><title>我是網頁標題</title></head>\n",
    "  <body>\n",
    "      <p id=\"p1\">我是段落一</p>\n",
    "      <p id=\"p2\" class='red'>我是段落二</p>\n",
    "  </body>\n",
    "</html>\n",
    "'''\n",
    "sp = BeautifulSoup(html, 'lxml')\n",
    "print(sp.select('title'))\n",
    "print(sp.select('p'))\n",
    "print(sp.select('#p1'))\n",
    "print(sp.select('.red'))"
   ]
  },
  {
   "cell_type": "code",
   "execution_count": null,
   "metadata": {},
   "outputs": [],
   "source": [
    "# bs4.py\n",
    "from bs4 import BeautifulSoup\n",
    "html = '''\n",
    "<html>\n",
    "  <head><meta charset=\"UTF-8\"><title>我是網頁標題</title></head>\n",
    "  <body>\n",
    "      <img src=\"http://www.ehappy.tw/python.png\">\n",
    "      <a href=\"http://www.e-happy.com.tw\">超連結</a>\n",
    "  </body>\n",
    "</html>\n",
    "'''\n",
    "sp = BeautifulSoup(html, 'lxml')\n",
    "print(sp.select('img')[0].get('src'))\n",
    "print(sp.select('a')[0].get('href'))\n",
    "print(sp.select('img')[0]['src'])\n",
    "print(sp.select('a')[0]['href'])"
   ]
  },
  {
   "cell_type": "code",
   "execution_count": null,
   "metadata": {},
   "outputs": [],
   "source": [
    "# taiwanlottery.py\n",
    "import requests\n",
    "from bs4 import BeautifulSoup\n",
    "url = 'https://www.taiwanlottery.com.tw/'\n",
    "r = requests.get(url)\n",
    "sp = BeautifulSoup(r.text, 'lxml')\n",
    "# 找到威力彩的區塊\n",
    "datas = sp.find('div', class_='contents_box02')\n",
    "# 開獎期數\n",
    "title = datas.find('span', 'font_black15').text\n",
    "print('威力彩期數：', title)\n",
    "# 開獎號碼\n",
    "nums = datas.find_all('div', class_='ball_tx ball_green')\n",
    "# 開出順序\n",
    "print('開出順序：', end=' ')\n",
    "for i in range(0,6):\n",
    "    print(nums[i].text, end=' ')\n",
    "# 大小順序\n",
    "print('\\n大小順序：', end=' ')\n",
    "for i in range(6,12):\n",
    "    print(nums[i].text, end=' ')\n",
    "# 第二區\n",
    "num = datas.find('div', class_='ball_red').text\n",
    "print('\\n第二區：', num)"
   ]
  },
  {
   "cell_type": "code",
   "execution_count": null,
   "metadata": {},
   "outputs": [],
   "source": [
    "# re_match.py\n",
    "import re\n",
    "m = re.match(r'[a-z]+','abc123xyz')\n",
    "print(m) \n",
    "if m != None:\n",
    "    print(m.group())    #abc\n",
    "    print(m.start())    #0\n",
    "    print(m.end())      #3\n",
    "    print(m.span())     #(0, 3)"
   ]
  },
  {
   "cell_type": "code",
   "execution_count": null,
   "metadata": {},
   "outputs": [],
   "source": [
    "# re_search.py\n",
    "import re\n",
    "m = re.search(r'[a-z]+', 'abc123xyz')\n",
    "print(m)    # <re.Match object; span=(0, 3), match='abc'>\n",
    "if m != None:\n",
    "    print(m.group())  # abc\n",
    "    print(m.start())  # 0\n",
    "    print(m.end())    # 3\n",
    "    print(m.span())   # (0,3)"
   ]
  },
  {
   "cell_type": "code",
   "execution_count": null,
   "metadata": {},
   "outputs": [],
   "source": [
    "# re_findall.py\n",
    "import re\n",
    "m = re.findall(r'[a-z]+', 'abc123xyz')\n",
    "print(m)    # ['abc', 'xyz']"
   ]
  },
  {
   "cell_type": "code",
   "execution_count": null,
   "metadata": {},
   "outputs": [],
   "source": [
    "# re_sub.py\n",
    "import re\n",
    "result = re.sub(r\"\\d+\", \"*\", \"Password:1234,ID:5678\")\n",
    "print(result) # Password:*,ID:*"
   ]
  },
  {
   "cell_type": "code",
   "execution_count": null,
   "metadata": {},
   "outputs": [],
   "source": [
    "# regex.py\n",
    "html = \"\"\"\n",
    "<div class=\"content\">\n",
    "    E-Mail：<a href=\"mailto:mail@test.com.tw\">mail</a><br>\n",
    "    E-Mail2：<a href=\"mailto:mail2@test.com.tw\">mail2</a><br>\n",
    "    <ul class=\"price\">定價：360元 </ul>\n",
    "    <img src=\"http://test.com.tw/p1.jpg\">\n",
    "    <img src=\"http://test.com.tw/p2.jpg\">\n",
    "    <img src=\"http://test.com.tw/p3.png\">\n",
    "    電話：(04)-76543210、0937-123456\n",
    "</div>\n",
    "\"\"\"\n",
    "\n",
    "import re\n",
    "\n",
    "emails = re.findall(r'[a-zA-Z0-9_.+-]+@[a-zA-Z0-9-]+\\.[a-zA-Z0-9-.]+',html)\n",
    "for email in emails: #顯示 email\n",
    "    print(email)\n",
    "\n",
    "price=re.findall(r'[\\d]+元',html)[0].split('元')[0] #價格\n",
    "print(price) #顯示定價金額\n",
    "\n",
    "imglist = re.findall(r'[http://]+[a-zA-Z0-9-/.]+\\.[jpgpng]+',html)\n",
    "for img in imglist: #\n",
    "    print(img) #顯示圖片網址\n",
    "    \n",
    "phonelist = re.findall(r'\\(?\\d{2,4}\\)?\\-\\d{6,8}',html)\n",
    "for phone in phonelist:\n",
    "    print(phone) #顯示電話號碼 "
   ]
  },
  {
   "cell_type": "code",
   "execution_count": null,
   "metadata": {},
   "outputs": [],
   "source": [
    "# twhrtimetable.py\n",
    "from selenium import webdriver\n",
    "# 高鐵時刻表查詢網站\n",
    "url = 'http://www.thsrc.com.tw/tw/TimeTable/SearchResult'\n",
    "ss='台中站'      #出發站\n",
    "es='台北站'      #到達站\n",
    "dd='2020/03/26' #日期 \n",
    "dt='09:00'      #時間\n",
    "# 建立瀏覽器物件開啟網站\n",
    "driver = webdriver.Chrome()\n",
    "driver.get(url)\n",
    "#輸入出發站\n",
    "driver.find_element_by_id('StartStation').send_keys(ss) \n",
    "#輸入到達站\n",
    "driver.find_element_by_id('EndStation').send_keys(es)   \n",
    "#輸入日期\n",
    "driver.find_element_by_id(\"DepartueSearchDate\").click()\n",
    "driver.find_element_by_id('DepartueSearchDate').send_keys(dd) \n",
    "#輸入時間\n",
    "driver.find_element_by_id(\"DepartueSearchTime\").click()\n",
    "driver.find_element_by_id('DepartueSearchTime').send_keys(dt)\n",
    "driver.find_element_by_id('SearchButton').click() #按查詢鈕"
   ]
  }
 ],
 "metadata": {
  "kernelspec": {
   "display_name": "Python 3",
   "language": "python",
   "name": "python3"
  },
  "language_info": {
   "codemirror_mode": {
    "name": "ipython",
    "version": 3
   },
   "file_extension": ".py",
   "mimetype": "text/x-python",
   "name": "python",
   "nbconvert_exporter": "python",
   "pygments_lexer": "ipython3",
   "version": "3.7.6"
  }
 },
 "nbformat": 4,
 "nbformat_minor": 4
}
