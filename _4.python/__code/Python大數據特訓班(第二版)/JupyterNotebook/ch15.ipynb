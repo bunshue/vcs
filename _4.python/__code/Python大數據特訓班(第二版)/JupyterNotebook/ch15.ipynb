{
 "cells": [
  {
   "cell_type": "code",
   "execution_count": null,
   "metadata": {},
   "outputs": [],
   "source": [
    "# TopGoogleNews.py\n",
    "import requests,json\n",
    "\n",
    "# 官網 https://trends.google.com/trends/trendingsearches/daily?geo=TW\n",
    "# Google熱搜關鍵字，預設會取得最近兩天的關鍵字\n",
    "url = 'https://trends.google.com/trends/api/dailytrends'\n",
    "\n",
    "# 以 payload 設定 params，ed 可以設定日期 \n",
    "payload = {\n",
    "            \"hl\": \"zh-TW\",\n",
    "            \"tz\": \"-480\",\n",
    "            # 如果要指定日期可以加上 ed 參數\n",
    "            # \"ed\": \"20200401\",\n",
    "            \"geo\": \"TW\",\n",
    "            \"ns\": \"15\",\n",
    "          }\n",
    "html = requests.get(url,params=payload)\n",
    "html.encoding='utf-8'\n",
    "\n",
    "_,datas=html.text.split(',',1)\n",
    "jsondata=json.loads(datas) #將下載資料轉換為字典\n",
    "trendingSearchesDays=jsondata['default']['trendingSearchesDays']\n",
    "\n",
    "for trendingSearchesDay in trendingSearchesDays:\n",
    "    formattedDate=trendingSearchesDay['formattedDate']\n",
    "    print('日期:' + formattedDate)\n",
    "    print()\n",
    "    for data in trendingSearchesDay['trendingSearches']:\n",
    "        print('【主題關鍵字:' + data['title']['query'] + '】')\n",
    "        print()\n",
    "        for content in data['articles']:\n",
    "            print('標題:', content['title'])\n",
    "            print('媒體:', content['source'])        \n",
    "            print('發佈時間:', content['timeAgo'])\n",
    "            print('內容:', content['snippet'])\n",
    "            print('相關連結:', content['url'])\n",
    "            print()\n",
    "        print('-'*50)"
   ]
  }
 ],
 "metadata": {
  "kernelspec": {
   "display_name": "Python 3",
   "language": "python",
   "name": "python3"
  },
  "language_info": {
   "codemirror_mode": {
    "name": "ipython",
    "version": 3
   },
   "file_extension": ".py",
   "mimetype": "text/x-python",
   "name": "python",
   "nbconvert_exporter": "python",
   "pygments_lexer": "ipython3",
   "version": "3.7.6"
  }
 },
 "nbformat": 4,
 "nbformat_minor": 4
}
