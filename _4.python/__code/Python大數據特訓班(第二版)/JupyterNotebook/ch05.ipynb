{
 "cells": [
  {
   "cell_type": "code",
   "execution_count": null,
   "metadata": {},
   "outputs": [],
   "source": [
    "# nparraylist.py\n",
    "import numpy as np\n",
    "\n",
    "x = [1,2]\n",
    "print('x 是', type(x))\n",
    "print('x[0] 的值是', x[0])\n",
    "print('x * 2 = ', x * 2)\n",
    "print()\n",
    "y = np.array([1,2])\n",
    "print('y 是', type(a))\n",
    "print('y[0] 的值是', x[0])\n",
    "print('y * 2 = ', y * 2)"
   ]
  },
  {
   "cell_type": "code",
   "execution_count": null,
   "metadata": {},
   "outputs": [],
   "source": [
    "# npcreate.py\n",
    "import numpy as np\n",
    "#array()\n",
    "np1 = np.array([1,2,3,4])\t#使用list\n",
    "np2 = np.array((5,6,7,8))\t#使用tuple\n",
    "print('np1=', np1, type(np1))\n",
    "print('np2=', np2, type(np2))\n",
    "#arange()\n",
    "np3 = np.arange(0, 11, 2)\n",
    "print('np3=', np3)\n",
    "#linespace()\n",
    "np4 = np.linspace(1, 9, 3)\n",
    "print('np4=', np4)\n",
    "#zeros()\n",
    "np5 = np.zeros((2,))\n",
    "print('np5=', np5)\n",
    "#ones()\n",
    "np6 = np.ones((2,))\n",
    "print('np6=', np6)\n",
    "#empty()\n",
    "np7 = np.empty((2,))\n",
    "print('np7=', np7)"
   ]
  },
  {
   "cell_type": "code",
   "execution_count": null,
   "metadata": {},
   "outputs": [],
   "source": [
    "# npinfo.py\n",
    "import numpy as np\n",
    "listdata = [[1,2,3,4,5],\n",
    "            [6,7,8,9,10],\n",
    "            [11,12,13,14,15]]\n",
    "na = np.array(listdata)\n",
    "print(na)\n",
    "print('維度', na.ndim)\n",
    "print('形狀', na.shape)\n",
    "print('數量', na.size)"
   ]
  },
  {
   "cell_type": "code",
   "execution_count": null,
   "metadata": {},
   "outputs": [],
   "source": [
    "# npreshape.py\n",
    "import numpy as np\n",
    "adata = np.arange(1,17)\n",
    "print(adata)\n",
    "bdata = adata.reshape(4,4)\n",
    "print(bdata)"
   ]
  },
  {
   "cell_type": "code",
   "execution_count": null,
   "metadata": {},
   "outputs": [],
   "source": [
    "# npvalue1.py\n",
    "import numpy as np\n",
    "na = np.arange(0,6)\n",
    "print(na)           #[0 1 2 3 4 5]\n",
    "print(na[0])        #0\n",
    "print(na[5])        #5\n",
    "print(na[1:5])      #[1 2 3 4]\n",
    "print(na[1:5:2])    #[1 3]\n",
    "print(na[5:1:-1])   #[5 4 3 2]\n",
    "print(na[:])        #[0 1 2 3 4 5]\n",
    "print(na[:3])       #[0 1 2]\n",
    "print(na[3:])       #[3 4 5]"
   ]
  },
  {
   "cell_type": "code",
   "execution_count": null,
   "metadata": {},
   "outputs": [],
   "source": [
    "# npvalue2.py\n",
    "import numpy as np\n",
    "na = np.arange(1, 17).reshape(4, 4)\n",
    "print(na[2, 3])\t\t\t#12\n",
    "print(na[1, 1:3])\t\t#[6,7]\n",
    "print(na[1:3, 2])\t\t#[7,11]\n",
    "print(na[1:3, 1:3])\t\t#[[6,7],[7,11]]\n",
    "print(na[::2, ::2])\t\t#[[1,3],[9,11]]\n",
    "print(na[:, 2])\t\t\t#[3,7,11,15]\n",
    "print(na[1, :])\t\t\t#[5,6,7,8]\n",
    "print(na[:, :])\t\t\t#矩陣全部"
   ]
  },
  {
   "cell_type": "code",
   "execution_count": null,
   "metadata": {},
   "outputs": [],
   "source": [
    "# nprandom.py\n",
    "import numpy as np\n",
    "print('1.產生2x3 0~1之間的隨機浮點數\\n',\n",
    "      np.random.rand(2,3))\n",
    "print('2.產生2x3常態分佈的隨機浮點數\\n',\n",
    "      np.random.randn(2,3))\n",
    "print('3.產生0~4(不含5)隨機整數\\n',\n",
    "      np.random.randint(5))\n",
    "print('4.產生2~4(不含5)5個隨機整數\\n',\n",
    "      np.random.randint(2,5,[5]))\n",
    "print('5.產生3個 0~1之間的隨機浮點數\\n',\n",
    "      np.random.random(3),'\\n',\n",
    "      np.random.random_sample(3),'\\n',\n",
    "      np.random.sample(3))\n",
    "print('6.產生0~4(不含5)2x3的隨機整數\\n',\n",
    "      np.random.choice(5,[2,3]))\n",
    "print('7.產生0~42(不含43)6個不重複的隨機整數\\n',\n",
    "      np.random.choice(43,6,replace=False))"
   ]
  },
  {
   "cell_type": "code",
   "execution_count": null,
   "metadata": {},
   "outputs": [],
   "source": [
    "# npfile.py\n",
    "import numpy as np\n",
    "a = np.genfromtxt('scores.csv', delimiter=',', skip_header=1)\n",
    "print(a.shape)"
   ]
  },
  {
   "cell_type": "code",
   "execution_count": null,
   "metadata": {},
   "outputs": [],
   "source": [
    "# npcompute1.py\n",
    "import numpy as np\n",
    "a = np.arange(1,10).reshape(3,3)\n",
    "b = np.arange(10,19).reshape(3,3)\n",
    "print('a 陣列內容：\\n', a)\n",
    "print('b 陣列內容：\\n', b)\n",
    "print('a 陣列元素都加值：\\n', a + 1)\n",
    "print('a 陣列元素都平方：\\n', a ** 2)\n",
    "print('a 陣列元素加判斷：\\n', a < 5)\n",
    "print('a 陣列取出第一個row都加1：\\n', a[0,:] + 1)\n",
    "print('a 陣列取出第一個col都加1：\\n', a[:,0] + 1)\n",
    "print('a b 陣列對應元素相加：\\n', a + b)\n",
    "print('a b 陣列對應元素相乘：\\n', a * b)"
   ]
  },
  {
   "cell_type": "code",
   "execution_count": null,
   "metadata": {},
   "outputs": [],
   "source": [
    "# npcompute2.py\n",
    "import numpy as np\n",
    "a = np.arange(1,10).reshape(3,3)\n",
    "print('陣列的內容：\\n', a)\n",
    "print('1.最小值與最大值：\\n',\n",
    "      np.min(a), np.max(a))\n",
    "print('2.每一直行最小值與最大值：\\n',\n",
    "      np.min(a, axis=0), np.max(a, axis=0))\n",
    "print('3.每一橫列最小值與最大值：\\n',\n",
    "      np.min(a, axis=1), np.max(a, axis=1))\n",
    "print('4.加總、乘積及平均值：\\n',\n",
    "      np.sum(a), np.prod(a), np.mean(a))\n",
    "print('5.每一直行加總、乘積與平均值：\\n',\n",
    "      np.sum(a, axis=0), np.prod(a, axis=0), np.mean(a, axis=0))\n",
    "print('6.每一橫列加總、乘積與平均值：\\n',\n",
    "      np.sum(a, axis=1), np.prod(a, axis=1), np.mean(a, axis=1))"
   ]
  },
  {
   "cell_type": "code",
   "execution_count": null,
   "metadata": {},
   "outputs": [],
   "source": [
    "# npcompute3.py\n",
    "import numpy as np\n",
    "a = np.random.randint(100,size=50)\n",
    "print('陣列的內容：', a)\n",
    "print('1.標準差：', np.std(a))\n",
    "print('2.變異數：', np.var(a))\n",
    "print('3.中位數：', np.median(a))\n",
    "print('4.百分比值：', np.percentile(a, 80))\n",
    "print('5.最大最小差值：', np.ptp(a))"
   ]
  },
  {
   "cell_type": "code",
   "execution_count": null,
   "metadata": {},
   "outputs": [],
   "source": [
    "# npsort1.py\n",
    "import numpy as np\n",
    "a = np.random.choice(50, size=10, replace=False)\n",
    "print('排序前的陣列：', a)\n",
    "print('排序後的陣列：', np.sort(a))\n",
    "print('排序後的索引：', np.argsort(a))\n",
    "#用索引到陣列取值\n",
    "for i in np.argsort(a):\n",
    "    print(a[i], end=',')"
   ]
  },
  {
   "cell_type": "code",
   "execution_count": null,
   "metadata": {},
   "outputs": [],
   "source": [
    "# npsort2.py\n",
    "import numpy as np\n",
    "a = np.random.randint(0,10,(3,5))\n",
    "print('原陣列內容：')\n",
    "print(a)\n",
    "print('將每一直行進行排序：')\n",
    "print(np.sort(a, axis=0))\n",
    "print('將每一橫列進行排序：')\n",
    "print(np.sort(a, axis=1))"
   ]
  }
 ],
 "metadata": {
  "kernelspec": {
   "display_name": "Python 3",
   "language": "python",
   "name": "python3"
  },
  "language_info": {
   "codemirror_mode": {
    "name": "ipython",
    "version": 3
   },
   "file_extension": ".py",
   "mimetype": "text/x-python",
   "name": "python",
   "nbconvert_exporter": "python",
   "pygments_lexer": "ipython3",
   "version": "3.7.6"
  }
 },
 "nbformat": 4,
 "nbformat_minor": 4
}
