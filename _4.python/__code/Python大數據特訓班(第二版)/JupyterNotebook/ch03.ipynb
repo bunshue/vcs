{
 "cells": [
  {
   "cell_type": "code",
   "execution_count": null,
   "metadata": {},
   "outputs": [],
   "source": [
    "# filewrite1.py\n",
    "content='''Hello Python\n",
    "中文字測試\n",
    "Welcome'''\n",
    "f=open('file1.txt', 'w' ,encoding='utf-8', newline=\"\")\n",
    "f.write(content)\n",
    "f.close()"
   ]
  },
  {
   "cell_type": "code",
   "execution_count": null,
   "metadata": {},
   "outputs": [],
   "source": [
    "# filewrite2.py\n",
    "content='''Hello Python\n",
    "中文字測試\n",
    "Welcome'''\n",
    "with open('file1.txt', 'w' ,encoding='utf-8', newline=\"\") as f:\n",
    "    f.write(content)"
   ]
  },
  {
   "cell_type": "code",
   "execution_count": null,
   "metadata": {},
   "outputs": [],
   "source": [
    "# fileread1.py\n",
    "with open('file1.txt', 'r', encoding='utf-8') as f:\n",
    "    output_str=f.read(5)\n",
    "    print(output_str)   # Hello"
   ]
  },
  {
   "cell_type": "code",
   "execution_count": null,
   "metadata": {},
   "outputs": [],
   "source": [
    "# fileread2.py\n",
    "with open('file1.txt', 'r', encoding ='UTF-8') as f:\n",
    "    print(f.readline())\n",
    "    print(f.readline(3))"
   ]
  },
  {
   "cell_type": "code",
   "execution_count": null,
   "metadata": {},
   "outputs": [],
   "source": [
    "# fileread3.py\n",
    "with open('file1.txt', 'r', encoding='utf-8') as f:\n",
    "    content=f.readlines()\n",
    "    print(type(content))\n",
    "    print(content)"
   ]
  },
  {
   "cell_type": "code",
   "execution_count": null,
   "metadata": {},
   "outputs": [],
   "source": [
    "# fileread4.py\n",
    "with open('file2.txt', 'r', encoding ='UTF-8') as f:\n",
    "    print(f.readlines())"
   ]
  },
  {
   "cell_type": "code",
   "execution_count": null,
   "metadata": {},
   "outputs": [],
   "source": [
    "# csv_read.py\n",
    "import csv\n",
    "# 開啟 csv 檔案\n",
    "with open('school.csv', newline='') as csvfile:\n",
    "    # 讀取 csv 檔案內容\n",
    "    rows = csv.reader(csvfile)   \n",
    "    # 以迴圈顯示每一列\n",
    "    for row in rows:\n",
    "        print(row)"
   ]
  },
  {
   "cell_type": "code",
   "execution_count": null,
   "metadata": {},
   "outputs": [],
   "source": [
    "# csv_read_dict.py\n",
    "import csv\n",
    "# 開啟 csv 檔案\n",
    "with open('school.csv', newline='') as csvfile:\n",
    "    # 讀取 csv 檔內容，將每一列轉成 dictionary\n",
    "    rows = csv.DictReader(csvfile)   \n",
    "    # 以迴圈顯示每一列\n",
    "    for row in rows:\n",
    "        print(row['座號'],row['姓名'],row['國文'],row['英文'],row['數學'])"
   ]
  },
  {
   "cell_type": "code",
   "execution_count": null,
   "metadata": {},
   "outputs": [],
   "source": [
    "# csv_write_list1.py\n",
    "import csv\n",
    "with open('test1.csv', 'w', newline='') as f:\n",
    "    # 建立 csv 檔寫入物件\n",
    "    writer = csv.writer(f)\n",
    "    # 寫入欄位及資料\n",
    "    writer.writerow(['座號', '姓名', '國文', '英文', '數學'])\n",
    "    writer.writerow([1, '葉大雄', 65, 62, 40])\n",
    "    writer.writerow([2, '陳靜香', 85, 90, 87])\n",
    "    writer.writerow([3, '王聰明', 92, 90, 95])"
   ]
  },
  {
   "cell_type": "code",
   "execution_count": null,
   "metadata": {},
   "outputs": [],
   "source": [
    "# csv_write_list2.py\n",
    "import csv\n",
    "# 建立csv二維串列資料\n",
    "csvtable = [\n",
    "        ['座號', '姓名', '國文', '英文', '數學'],\n",
    "        [1, '葉大雄', 65, 62, 40],\n",
    "        [2, '陳靜香', 85, 90, 87],\n",
    "        [3, '王聰明', 92, 90, 95]\n",
    "        ]\n",
    "# 寫入csv檔案\n",
    "with open('test2.csv', 'w', newline='') as csvfile:\n",
    "    writer = csv.writer(csvfile)\n",
    "    writer.writerows(csvtable)"
   ]
  },
  {
   "cell_type": "code",
   "execution_count": null,
   "metadata": {},
   "outputs": [],
   "source": [
    "# csv_write_dict.py\n",
    "import csv\n",
    "with open('test3.csv', 'w', newline='') as csvfile:\n",
    "    # 定義欄位\n",
    "    fieldnames = ['座號', '姓名', '國文', '英文', '數學']\n",
    "    # 將 dictionary 寫入 csv 檔\n",
    "    writer = csv.DictWriter(csvfile, fieldnames=fieldnames)\n",
    "    # 寫入欄位名稱\n",
    "    writer.writeheader()\n",
    "    # 寫入資料\n",
    "    writer.writerow({'座號': 1, '姓名': '葉大雄', '國文': 65, '英文': 62, '數學': 40})\n",
    "    writer.writerow({'座號': 2, '姓名': '陳靜香', '國文': 85, '英文': 90, '數學': 87})\n",
    "    writer.writerow({'座號': 3, '姓名': '王聰明', '國文': 92, '英文': 90, '數學': 95})"
   ]
  },
  {
   "cell_type": "code",
   "execution_count": null,
   "metadata": {},
   "outputs": [],
   "source": [
    "# jsonload1.py\n",
    "import json\n",
    "class_str = \"\"\"\n",
    "{\n",
    "  \"一年甲班\": [\n",
    "    {\n",
    "      \"座號\": 1,\n",
    "      \"姓名\": \"葉大雄\",\n",
    "      \"國文\": 65,\n",
    "      \"英文\": 62,\n",
    "      \"數學\": 40\n",
    "    },\n",
    "    {\n",
    "      \"座號\": 2,\n",
    "      \"姓名\": \"陳靜香\",\n",
    "      \"國文\": 85,\n",
    "      \"英文\": 90,\n",
    "      \"數學\": 87\n",
    "    },\n",
    "    {\n",
    "      \"座號\": 3,\n",
    "      \"姓名\": \"王聰明\",\n",
    "      \"國文\": 92,\n",
    "      \"英文\": 90,\n",
    "      \"數學\": 95\n",
    "    }\n",
    "  ]\n",
    "}\n",
    "\"\"\"\n",
    "datas = json.loads(class_str)\n",
    "print(type(datas))\n",
    "for data in datas[\"一年甲班\"]:\n",
    "    print(data, data['姓名'])"
   ]
  },
  {
   "cell_type": "code",
   "execution_count": null,
   "metadata": {},
   "outputs": [],
   "source": [
    "# jsonload2.py\n",
    "import json\n",
    "with open('class_str.json', 'r', encoding='utf-8') as f:\n",
    "    datas = json.load(f)\n",
    "    print(type(datas))\n",
    "    for data in datas[\"一年甲班\"]:\n",
    "        print(data, data['姓名'])"
   ]
  },
  {
   "cell_type": "code",
   "execution_count": null,
   "metadata": {},
   "outputs": [],
   "source": [
    "# jsondump1.py\n",
    "import json\n",
    "with open('class_str.json', 'r', encoding='utf-8') as f:\n",
    "    datas = json.load(f)\n",
    "print(datas, type(datas))\n",
    "dumpdata = json.dumps(datas, ensure_ascii=False)\n",
    "print(dumpdata, type(dumpdata))"
   ]
  },
  {
   "cell_type": "code",
   "execution_count": null,
   "metadata": {},
   "outputs": [],
   "source": [
    "# jsondump2.py\n",
    "import json\n",
    "with open('class_str.json', 'r', encoding='utf-8') as f:\n",
    "    datas = json.load(f)\n",
    "with open('new_class_str.json', 'w', encoding='utf-8') as f:\n",
    "    dumpdata = json.dump(datas, f, ensure_ascii=False)"
   ]
  },
  {
   "cell_type": "code",
   "execution_count": null,
   "metadata": {},
   "outputs": [],
   "source": [
    "# xlsx_write.py\n",
    "import openpyxl   \n",
    "# 建立一個工作簿     \n",
    "workbook=openpyxl.Workbook()   \n",
    "# 取得第 1 個工作表\n",
    "sheet = workbook.worksheets[0]\n",
    "# 以儲存格位置寫入資料\n",
    "sheet['A1'] = '一年甲班'\n",
    "# 以串列寫入資料\n",
    "listtitle=['座號', '姓名', '國文', '英文', '數學']\n",
    "sheet.append(listtitle)  \n",
    "listdatas=[[1, '葉大雄', 65, 62, 40],\n",
    "           [2, '陳靜香', 85, 90, 87],\n",
    "           [3, '王聰明', 92, 90, 95]]\n",
    "for listdata in listdatas:\n",
    "    sheet.append(listdata)\n",
    "# 儲存檔案   \n",
    "workbook.save('test.xlsx')"
   ]
  },
  {
   "cell_type": "code",
   "execution_count": null,
   "metadata": {},
   "outputs": [],
   "source": [
    "# xlsx_read.py\n",
    "import openpyxl\n",
    "#  讀取檔案\n",
    "workbook = openpyxl.load_workbook('test.xlsx')\n",
    "# 取得第 1 個工作表\n",
    "sheet = workbook.worksheets[0]\n",
    "# 取得指定儲存格\n",
    "print(sheet['A1'], sheet['A1'].value)\n",
    "# 取得總行、列數\n",
    "print(sheet.max_row, sheet.max_column)\n",
    "# 顯示 cell資料\n",
    "for i in range(1, sheet.max_row+1):\n",
    "    for j in range(1, sheet.max_column+1):\n",
    "        print(sheet.cell(row=i, column=j).value,end=\"   \")\n",
    "    print()\n",
    "sheet['A1'] = '二年甲班' \n",
    "workbook.save('test.xlsx')      "
   ]
  },
  {
   "cell_type": "code",
   "execution_count": null,
   "metadata": {},
   "outputs": [],
   "source": [
    "# sqlite_cursor.py\n",
    "import sqlite3\n",
    "conn = sqlite3.connect('school.db') # 建立資料庫連線\n",
    "cursor = conn.cursor() # 建立 cursor 物件\n",
    "# 建立一個資料表\n",
    "sqlstr='''CREATE TABLE IF NOT EXISTS scores \\\n",
    "(\"id\"  INTEGER PRIMARY KEY NOT NULL,\n",
    " \"name\"  TEXT NOT NULL,\n",
    " \"chinese\"  INTEGER NOT NULL,\n",
    " \"english\"  INTEGER NOT NULL,\n",
    " \"math\"  INTEGER NOT NULL\n",
    " )\n",
    "'''\n",
    "cursor.execute(sqlstr)\n",
    "\n",
    "# 新增記錄\n",
    "cursor.execute('insert into scores values(1, \"葉大雄\", 65, 62, 40)')\n",
    "cursor.execute('insert into scores values(2, \"陳靜香\", 85, 90, 87)')\n",
    "cursor.execute('insert into scores values(3, \"王聰明\", 92, 90, 95)')\n",
    "conn.commit() # 更新\n",
    "conn.close()  # 關閉資料庫連線"
   ]
  },
  {
   "cell_type": "code",
   "execution_count": null,
   "metadata": {},
   "outputs": [],
   "source": [
    "# sqlite_crud1.py\n",
    "import sqlite3\n",
    "conn = sqlite3.connect('school.db') # 建立資料庫連線\n",
    "# 建立一個資料表\n",
    "sqlstr='''CREATE TABLE IF NOT EXISTS scores \\\n",
    "(\"id\"  INTEGER PRIMARY KEY NOT NULL,\n",
    " \"name\"  TEXT NOT NULL,\n",
    " \"chinese\"  INTEGER NOT NULL,\n",
    " \"english\"  INTEGER NOT NULL,\n",
    " \"math\"  INTEGER NOT NULL\n",
    " )\n",
    "'''\n",
    "conn.execute(sqlstr)\n",
    "conn.commit() # 更新\n",
    "conn.close()  # 關閉資料庫連線"
   ]
  },
  {
   "cell_type": "code",
   "execution_count": null,
   "metadata": {},
   "outputs": [],
   "source": [
    "# sqlite_crud2.py\n",
    "import sqlite3\n",
    "conn = sqlite3.connect('school.db') # 建立資料庫連線\n",
    "# 定義資料串列\n",
    "datas = [[1,'葉大雄',65,62,40],\n",
    "        [2,'陳靜香',85,90,87],\n",
    "        [3,'王聰明',92,90,95]]\n",
    "\n",
    "# 新增資料\n",
    "for data in datas:\n",
    "    conn.execute(\"INSERT INTO scores (id, name, chinese, english, math) VALUES \\\n",
    "                 ({}, '{}', {}, {}, {})\".format(data[0], data[1], data[2], data[3], data[4]))\n",
    "conn.commit() # 更新\n",
    "conn.close()  # 關閉資料庫連線"
   ]
  },
  {
   "cell_type": "code",
   "execution_count": null,
   "metadata": {},
   "outputs": [],
   "source": [
    "# sqlite_crud3.py\n",
    "import sqlite3\n",
    "conn = sqlite3.connect('school.db') # 建立資料庫連線\n",
    "# 更新資料\n",
    "conn.execute(\"UPDATE scores SET name='{}' WHERE id={}\".format('林胖虎', 1))\n",
    "conn.commit() # 更新\n",
    "conn.close()  # 關閉資料庫連線"
   ]
  },
  {
   "cell_type": "code",
   "execution_count": null,
   "metadata": {},
   "outputs": [],
   "source": [
    "# sqlite_crud4.py\n",
    "import sqlite3\n",
    "conn = sqlite3.connect('school.db') # 建立資料庫連線\n",
    "# 刪除資料\n",
    "conn.execute(\"DELETE FROM scores WHERE id={}\".format(1))\n",
    "conn.commit() # 更新\n",
    "conn.close()  # 關閉資料庫連線"
   ]
  },
  {
   "cell_type": "code",
   "execution_count": null,
   "metadata": {},
   "outputs": [],
   "source": [
    "# fetchall.py\n",
    "import sqlite3\n",
    "conn = sqlite3.connect('school.db') # 建立資料庫連線\n",
    "cursor = conn.execute('select * from scores')\n",
    "rows = cursor.fetchall()\n",
    "# 顯示原始資料\n",
    "print(rows)\n",
    "# 逐筆顯示資料\n",
    "for row in rows:\n",
    "    print(row[0],row[1])\n",
    "conn.close()  # 關閉資料庫連線"
   ]
  },
  {
   "cell_type": "code",
   "execution_count": null,
   "metadata": {},
   "outputs": [],
   "source": [
    "# fetchone.py\n",
    "import sqlite3\n",
    "conn = sqlite3.connect('school.db') # 建立資料庫連線\n",
    "cursor = conn.execute('select * from scores')\n",
    "row = cursor.fetchone()\n",
    "print(row[0], row[1])\n",
    "conn.close()  # 關閉資料庫連線"
   ]
  },
  {
   "cell_type": "code",
   "execution_count": null,
   "metadata": {},
   "outputs": [],
   "source": [
    "# mysqltable.py\n",
    "import pymysql\n",
    "conn = pymysql.connect('localhost',port=3306,user='root',passwd='1234',charset='utf8', db='pythondb')  #連結資料庫\n",
    "\n",
    "with conn.cursor() as cursor:\n",
    "    sql = \"\"\"\n",
    "    CREATE TABLE IF NOT EXISTS Scores (\n",
    "      ID int NOT NULL AUTO_INCREMENT PRIMARY KEY,\n",
    "      Name varchar(20),\n",
    "      Chinese int(3),\n",
    "      English int(3),\n",
    "      Math int(3)\n",
    "    );\n",
    "    \"\"\"\n",
    "    cursor.execute(sql)  #執行SQL指令\n",
    "    conn.commit()  #提交資料庫\n",
    "conn.close()"
   ]
  },
  {
   "cell_type": "code",
   "execution_count": null,
   "metadata": {},
   "outputs": [],
   "source": [
    "# mysqlinsert.py\n",
    "import pymysql\n",
    "conn = pymysql.connect('localhost',port=3306,user='root',passwd='1234',charset='utf8', db='pythondb')  #連結資料庫\n",
    "\n",
    "with conn.cursor() as cursor:\n",
    "    sql = \"\"\"\n",
    "    insert into scores (Name, Chinese, English, Math) values \n",
    "    ('葉大雄',65,62,40),\n",
    "    ('陳靜香',85,90,87),\n",
    "    ('王聰明',92,90,95)\n",
    "    \"\"\"\n",
    "    cursor.execute(sql)\n",
    "    conn.commit()  #提交資料庫\n",
    "conn.close()"
   ]
  },
  {
   "cell_type": "code",
   "execution_count": null,
   "metadata": {},
   "outputs": [],
   "source": [
    "# mysqlquery.py\n",
    "import pymysql\n",
    "conn = pymysql.connect('localhost',port=3306,user='root',passwd='1234',charset='utf8', db='pythondb')  #連結資料庫\n",
    "\n",
    "with conn.cursor() as cursor:\n",
    "    sql = \"select * from scores\"\n",
    "    cursor.execute(sql)\n",
    "    datas = cursor.fetchall()   # 取出所有資料\n",
    "    print(datas)\n",
    "    print('-' * 30)             # 畫分隔線\n",
    "    sql = \"select * from scores\"\n",
    "    cursor.execute(sql)    \n",
    "    data = cursor.fetchone()    # 取出第一筆資料\n",
    "    print(data)\n",
    "    \n",
    "conn.close()"
   ]
  },
  {
   "cell_type": "code",
   "execution_count": null,
   "metadata": {},
   "outputs": [],
   "source": [
    "# mysqlupdate.py\n",
    "import pymysql\n",
    "conn = pymysql.connect('localhost',port=3306,user='root',passwd='1234',charset='utf8', db='pythondb')  #連結資料庫\n",
    "\n",
    "with conn.cursor() as cursor:\n",
    "    sql = \"update scores set Chinese = 98 where ID = 3\"\n",
    "    cursor.execute(sql)\n",
    "    conn.commit()\n",
    "    sql = \"select * from scores where ID = 3\"\n",
    "    cursor.execute(sql)    \n",
    "    data = cursor.fetchone()\n",
    "    print(data)\n",
    "    \n",
    "conn.close()"
   ]
  },
  {
   "cell_type": "code",
   "execution_count": null,
   "metadata": {},
   "outputs": [],
   "source": [
    "# mysqldelete.py\n",
    "import pymysql\n",
    "conn = pymysql.connect('localhost',port=3306,user='root',passwd='1234',charset='utf8', db='pythondb')  #連結資料庫\n",
    "\n",
    "with conn.cursor() as cursor:\n",
    "    sql = \"delete from scores where ID = 3\"\n",
    "    cursor.execute(sql)\n",
    "    conn.commit()\n",
    "    sql = \"select * from scores\"\n",
    "    cursor.execute(sql)    \n",
    "    data = cursor.fetchall()\n",
    "    print(data)\n",
    "    \n",
    "conn.close()"
   ]
  },
  {
   "cell_type": "code",
   "execution_count": null,
   "metadata": {},
   "outputs": [],
   "source": [
    "# LinkGoogleSheet.py\n",
    "import gspread\n",
    "from oauth2client.service_account import ServiceAccountCredentials as sac\n",
    "# 設定金鑰檔路徑及驗證範圍\n",
    "auth_json = 'PythonConnectGsheet1-6a6086d149c5.json'\n",
    "gs_scopes = ['https://spreadsheets.google.com/feeds']\n",
    "# 連線資料表\n",
    "cr = sac.from_json_keyfile_name(auth_json, gs_scopes)\n",
    "gc = gspread.authorize(cr) \n",
    "# 開啟資料表\n",
    "spreadsheet_key = '1OihpM657yWo1lc3RjskRfZ8m75dCPwL1IPwoDXSvyzI' \n",
    "sheet = gc.open_by_key(spreadsheet_key)\n",
    "# 開啟工作簿\n",
    "wks = sheet.sheet1\n",
    "# 清除所有內容\n",
    "wks.clear() \n",
    "# 新增列\n",
    "listtitle=['座號', '姓名', '國文', '英文', '數學']\n",
    "wks.append_row(listtitle)  # 標題\n",
    "listdatas=[[1, '葉大雄', 65, 62, 40],\n",
    "           [2, '陳靜香', 85, 90, 87],\n",
    "           [3, '王聰明', 92, 90, 95]]\n",
    "for listdata in listdatas:\n",
    "    wks.append_row(listdata)  # 資料內容"
   ]
  }
 ],
 "metadata": {
  "kernelspec": {
   "display_name": "Python 3",
   "language": "python",
   "name": "python3"
  },
  "language_info": {
   "codemirror_mode": {
    "name": "ipython",
    "version": 3
   },
   "file_extension": ".py",
   "mimetype": "text/x-python",
   "name": "python",
   "nbconvert_exporter": "python",
   "pygments_lexer": "ipython3",
   "version": "3.7.6"
  }
 },
 "nbformat": 4,
 "nbformat_minor": 4
}
