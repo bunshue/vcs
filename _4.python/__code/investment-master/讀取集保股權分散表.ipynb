{
 "cells": [
  {
   "cell_type": "markdown",
   "metadata": {},
   "source": [
    "# 讀取集保股權分散表"
   ]
  },
  {
   "cell_type": "code",
   "execution_count": 1,
   "metadata": {},
   "outputs": [],
   "source": [
    "import requests\n",
    "import pandas as pd\n",
    "from bs4 import BeautifulSoup"
   ]
  },
  {
   "cell_type": "code",
   "execution_count": 2,
   "metadata": {},
   "outputs": [],
   "source": [
    "url = \"http://www.tdcc.com.tw/smWeb/QryStock.jsp\""
   ]
  },
  {
   "cell_type": "code",
   "execution_count": 3,
   "metadata": {},
   "outputs": [],
   "source": [
    "r = requests.get(url)"
   ]
  },
  {
   "cell_type": "code",
   "execution_count": 4,
   "metadata": {},
   "outputs": [],
   "source": [
    "soup = BeautifulSoup(r.text, 'lxml')"
   ]
  },
  {
   "cell_type": "code",
   "execution_count": 5,
   "metadata": {},
   "outputs": [],
   "source": [
    "sca_date = soup.select(\"option\")"
   ]
  },
  {
   "cell_type": "code",
   "execution_count": 6,
   "metadata": {},
   "outputs": [],
   "source": [
    "url = \"http://www.tdcc.com.tw/smWeb/QryStock.jsp?SCA_DATE={}&SqlMethod=StockNo&StockNo={}&StockName=&sub=%ACd%B8%DF\""
   ]
  },
  {
   "cell_type": "code",
   "execution_count": 7,
   "metadata": {},
   "outputs": [],
   "source": [
    "full_url = url.format(sca_date[0].text, '2330')"
   ]
  },
  {
   "cell_type": "code",
   "execution_count": 8,
   "metadata": {},
   "outputs": [],
   "source": [
    "r = requests.get(full_url)"
   ]
  },
  {
   "cell_type": "code",
   "execution_count": 9,
   "metadata": {},
   "outputs": [],
   "source": [
    "soup = BeautifulSoup(r.text, 'lxml')"
   ]
  },
  {
   "cell_type": "code",
   "execution_count": 10,
   "metadata": {},
   "outputs": [],
   "source": [
    "html_table = soup.select('.mt')"
   ]
  },
  {
   "cell_type": "code",
   "execution_count": 11,
   "metadata": {},
   "outputs": [],
   "source": [
    "dfs = pd.read_html(str(html_table[1]), header=0)"
   ]
  },
  {
   "cell_type": "code",
   "execution_count": 12,
   "metadata": {},
   "outputs": [
    {
     "data": {
      "text/html": [
       "<div>\n",
       "<style scoped>\n",
       "    .dataframe tbody tr th:only-of-type {\n",
       "        vertical-align: middle;\n",
       "    }\n",
       "\n",
       "    .dataframe tbody tr th {\n",
       "        vertical-align: top;\n",
       "    }\n",
       "\n",
       "    .dataframe thead th {\n",
       "        text-align: right;\n",
       "    }\n",
       "</style>\n",
       "<table border=\"1\" class=\"dataframe\">\n",
       "  <thead>\n",
       "    <tr style=\"text-align: right;\">\n",
       "      <th></th>\n",
       "      <th>序</th>\n",
       "      <th>持股/單位數分級</th>\n",
       "      <th>人 數</th>\n",
       "      <th>股 數/單位數</th>\n",
       "      <th>佔集保庫存數比例 (%)</th>\n",
       "    </tr>\n",
       "  </thead>\n",
       "  <tbody>\n",
       "    <tr>\n",
       "      <th>0</th>\n",
       "      <td>1.0</td>\n",
       "      <td>1-999</td>\n",
       "      <td>145792</td>\n",
       "      <td>31686509</td>\n",
       "      <td>0.12</td>\n",
       "    </tr>\n",
       "    <tr>\n",
       "      <th>1</th>\n",
       "      <td>2.0</td>\n",
       "      <td>1000-5000</td>\n",
       "      <td>126144</td>\n",
       "      <td>259098808</td>\n",
       "      <td>0.99</td>\n",
       "    </tr>\n",
       "    <tr>\n",
       "      <th>2</th>\n",
       "      <td>3.0</td>\n",
       "      <td>5001-10000</td>\n",
       "      <td>22120</td>\n",
       "      <td>158772483</td>\n",
       "      <td>0.61</td>\n",
       "    </tr>\n",
       "    <tr>\n",
       "      <th>3</th>\n",
       "      <td>4.0</td>\n",
       "      <td>10001-15000</td>\n",
       "      <td>8509</td>\n",
       "      <td>103673643</td>\n",
       "      <td>0.39</td>\n",
       "    </tr>\n",
       "    <tr>\n",
       "      <th>4</th>\n",
       "      <td>5.0</td>\n",
       "      <td>15001-20000</td>\n",
       "      <td>4022</td>\n",
       "      <td>70649098</td>\n",
       "      <td>0.27</td>\n",
       "    </tr>\n",
       "    <tr>\n",
       "      <th>5</th>\n",
       "      <td>6.0</td>\n",
       "      <td>20001-30000</td>\n",
       "      <td>4321</td>\n",
       "      <td>105187746</td>\n",
       "      <td>0.40</td>\n",
       "    </tr>\n",
       "    <tr>\n",
       "      <th>6</th>\n",
       "      <td>7.0</td>\n",
       "      <td>30001-40000</td>\n",
       "      <td>2099</td>\n",
       "      <td>72734843</td>\n",
       "      <td>0.28</td>\n",
       "    </tr>\n",
       "    <tr>\n",
       "      <th>7</th>\n",
       "      <td>8.0</td>\n",
       "      <td>40001-50000</td>\n",
       "      <td>1336</td>\n",
       "      <td>60122046</td>\n",
       "      <td>0.23</td>\n",
       "    </tr>\n",
       "    <tr>\n",
       "      <th>8</th>\n",
       "      <td>9.0</td>\n",
       "      <td>50001-100000</td>\n",
       "      <td>2601</td>\n",
       "      <td>182177759</td>\n",
       "      <td>0.70</td>\n",
       "    </tr>\n",
       "    <tr>\n",
       "      <th>9</th>\n",
       "      <td>10.0</td>\n",
       "      <td>100001-200000</td>\n",
       "      <td>1500</td>\n",
       "      <td>209240869</td>\n",
       "      <td>0.80</td>\n",
       "    </tr>\n",
       "    <tr>\n",
       "      <th>10</th>\n",
       "      <td>11.0</td>\n",
       "      <td>200001-400000</td>\n",
       "      <td>998</td>\n",
       "      <td>279174433</td>\n",
       "      <td>1.07</td>\n",
       "    </tr>\n",
       "    <tr>\n",
       "      <th>11</th>\n",
       "      <td>12.0</td>\n",
       "      <td>400001-600000</td>\n",
       "      <td>439</td>\n",
       "      <td>214905319</td>\n",
       "      <td>0.82</td>\n",
       "    </tr>\n",
       "    <tr>\n",
       "      <th>12</th>\n",
       "      <td>13.0</td>\n",
       "      <td>600001-800000</td>\n",
       "      <td>265</td>\n",
       "      <td>184380373</td>\n",
       "      <td>0.71</td>\n",
       "    </tr>\n",
       "    <tr>\n",
       "      <th>13</th>\n",
       "      <td>14.0</td>\n",
       "      <td>800001-1000000</td>\n",
       "      <td>182</td>\n",
       "      <td>162270618</td>\n",
       "      <td>0.62</td>\n",
       "    </tr>\n",
       "    <tr>\n",
       "      <th>14</th>\n",
       "      <td>15.0</td>\n",
       "      <td>1,000,001以上</td>\n",
       "      <td>1442</td>\n",
       "      <td>23836305911</td>\n",
       "      <td>91.92</td>\n",
       "    </tr>\n",
       "    <tr>\n",
       "      <th>15</th>\n",
       "      <td>NaN</td>\n",
       "      <td>合　計</td>\n",
       "      <td>321770</td>\n",
       "      <td>25930380458</td>\n",
       "      <td>100.00</td>\n",
       "    </tr>\n",
       "  </tbody>\n",
       "</table>\n",
       "</div>"
      ],
      "text/plain": [
       "       序        持股/單位數分級     人 數      股 數/單位數  佔集保庫存數比例 (%)\n",
       "0    1.0           1-999  145792     31686509          0.12\n",
       "1    2.0       1000-5000  126144    259098808          0.99\n",
       "2    3.0      5001-10000   22120    158772483          0.61\n",
       "3    4.0     10001-15000    8509    103673643          0.39\n",
       "4    5.0     15001-20000    4022     70649098          0.27\n",
       "5    6.0     20001-30000    4321    105187746          0.40\n",
       "6    7.0     30001-40000    2099     72734843          0.28\n",
       "7    8.0     40001-50000    1336     60122046          0.23\n",
       "8    9.0    50001-100000    2601    182177759          0.70\n",
       "9   10.0   100001-200000    1500    209240869          0.80\n",
       "10  11.0   200001-400000     998    279174433          1.07\n",
       "11  12.0   400001-600000     439    214905319          0.82\n",
       "12  13.0   600001-800000     265    184380373          0.71\n",
       "13  14.0  800001-1000000     182    162270618          0.62\n",
       "14  15.0     1,000,001以上    1442  23836305911         91.92\n",
       "15   NaN             合　計  321770  25930380458        100.00"
      ]
     },
     "execution_count": 12,
     "metadata": {},
     "output_type": "execute_result"
    }
   ],
   "source": [
    "dfs[0]"
   ]
  }
 ],
 "metadata": {
  "kernelspec": {
   "display_name": "Python 3",
   "language": "python",
   "name": "python3"
  },
  "language_info": {
   "codemirror_mode": {
    "name": "ipython",
    "version": 3
   },
   "file_extension": ".py",
   "mimetype": "text/x-python",
   "name": "python",
   "nbconvert_exporter": "python",
   "pygments_lexer": "ipython3",
   "version": "3.6.4"
  }
 },
 "nbformat": 4,
 "nbformat_minor": 2
}
