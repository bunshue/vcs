{
 "cells": [
  {
   "cell_type": "markdown",
   "metadata": {},
   "source": [
    "# 台股即時股價資料"
   ]
  },
  {
   "cell_type": "code",
   "execution_count": 1,
   "metadata": {},
   "outputs": [],
   "source": [
    "import json\n",
    "import time\n",
    "import requests\n",
    "\n",
    "# 參考 twstock 取得需要的 URL\n",
    "SESSION_URL = 'http://mis.twse.com.tw/stock/index.jsp'\n",
    "STOCKINFO_URL = 'http://mis.twse.com.tw/stock/api/getStockInfo.jsp?ex_ch={stock_id}&_={time}'\n",
    "\n",
    "\n",
    "def get_realtime_quote(stockNo, ex='tse'):\n",
    "    req = requests.Session()\n",
    "    req.get(SESSION_URL)\n",
    "    \n",
    "    stock_id = '{}_{}.tw'.format(ex, stockNo)\n",
    "\n",
    "    r = req.get(STOCKINFO_URL.format(stock_id=stock_id, time=int(time.time()) * 1000))\n",
    "\n",
    "    try:\n",
    "        return r.json()\n",
    "    except json.decoder.JSONDecodeError:\n",
    "        return {'rtmessage': 'json decode error', 'rtcode': '5000'}"
   ]
  },
  {
   "cell_type": "code",
   "execution_count": 2,
   "metadata": {},
   "outputs": [
    {
     "data": {
      "text/plain": [
       "{'msgArray': [{'a': '240.00_240.50_241.00_241.50_242.00_',\n",
       "   'b': '239.50_239.00_238.50_238.00_237.50_',\n",
       "   'c': '2330',\n",
       "   'ch': '2330.tw',\n",
       "   'd': '20180302',\n",
       "   'ex': 'tse',\n",
       "   'f': '1168_315_403_456_590_',\n",
       "   'fv': '51',\n",
       "   'g': '432_1436_1970_4280_1129_',\n",
       "   'h': '241.00',\n",
       "   'i': '24',\n",
       "   'ip': '0',\n",
       "   'it': '12',\n",
       "   'l': '238.50',\n",
       "   'mt': '000000',\n",
       "   'n': '台積電',\n",
       "   'nf': '台灣積體電路製造股份有限公司',\n",
       "   'o': '240.00',\n",
       "   'oa': '242.00',\n",
       "   'ob': '241.50',\n",
       "   'ot': '14:30:00',\n",
       "   'ov': '22170',\n",
       "   'oz': '241.50',\n",
       "   'p': '0',\n",
       "   'ps': '2625',\n",
       "   'pz': '240.00',\n",
       "   's': '2635',\n",
       "   't': '13:30:00',\n",
       "   'tk0': '2330.tw_tse_20180302_B_9999078842',\n",
       "   'tk1': '2330.tw_tse_20180302_B_9999056745',\n",
       "   'tlong': '1519972200000',\n",
       "   'ts': '0',\n",
       "   'tv': '2635',\n",
       "   'u': '267.00',\n",
       "   'v': '35066',\n",
       "   'w': '219.00',\n",
       "   'y': '243.00',\n",
       "   'z': '240.00'}],\n",
       " 'queryTime': {'sessionFromTime': -1,\n",
       "  'sessionKey': 'tse_2330.tw_20180302|',\n",
       "  'sessionLatestTime': -1,\n",
       "  'sessionStr': 'UserSession',\n",
       "  'showChart': False,\n",
       "  'stockInfo': 267414,\n",
       "  'stockInfoItem': 1879,\n",
       "  'sysDate': '20180304',\n",
       "  'sysTime': '20:16:57'},\n",
       " 'referer': '',\n",
       " 'rtcode': '0000',\n",
       " 'rtmessage': 'OK',\n",
       " 'userDelay': 5000}"
      ]
     },
     "execution_count": 2,
     "metadata": {},
     "output_type": "execute_result"
    }
   ],
   "source": [
    "get_realtime_quote('2330')"
   ]
  }
 ],
 "metadata": {
  "kernelspec": {
   "display_name": "Python 3",
   "language": "python",
   "name": "python3"
  },
  "language_info": {
   "codemirror_mode": {
    "name": "ipython",
    "version": 3
   },
   "file_extension": ".py",
   "mimetype": "text/x-python",
   "name": "python",
   "nbconvert_exporter": "python",
   "pygments_lexer": "ipython3",
   "version": "3.6.4"
  }
 },
 "nbformat": 4,
 "nbformat_minor": 2
}
