{
 "cells": [
  {
   "cell_type": "markdown",
   "metadata": {},
   "source": [
    "# 下載財報\n",
    "\n",
    "參考資料：\n",
    "\n",
    "* [Python 財報爬蟲](https://goo.gl/rVZhZa)\n",
    "* [請問有高手會匯入這個網頁的資料到excel嗎? ](https://www.mobile01.com/topicdetail.php?f=291&t=3360713)"
   ]
  },
  {
   "cell_type": "code",
   "execution_count": 5,
   "metadata": {},
   "outputs": [],
   "source": [
    "import requests\n",
    "import pandas as pd\n",
    "import numpy as np"
   ]
  },
  {
   "cell_type": "code",
   "execution_count": 17,
   "metadata": {},
   "outputs": [],
   "source": [
    "def financial_statement(year, season, exchange='sii', type='綜合損益表'):\n",
    "    if year > 1911:\n",
    "        year -= 1911\n",
    "        \n",
    "    if type == '綜合損益表':\n",
    "        url = 'http://mops.twse.com.tw/mops/web/ajax_t163sb04'\n",
    "    elif type == '資產負債表':\n",
    "        url = 'http://mops.twse.com.tw/mops/web/ajax_t163sb05'\n",
    "    elif type == '營益分析查詢彙總表':\n",
    "        url = 'http://mops.twse.com.tw/mops/web/ajax_t163sb06'\n",
    "    else:\n",
    "        print('type does not match')\n",
    "\n",
    "    # 一些參數：\n",
    "    # TYPEK => 市場別\n",
    "    # sii>上市\n",
    "    # otc>上櫃\n",
    "    # rotc>興櫃\n",
    "    # pub>公開發行\n",
    "\n",
    "    # year => 年度\n",
    "    # season => 季別\n",
    "    r = requests.post(url, {\n",
    "        'encodeURIComponent':1,\n",
    "        'step':1,\n",
    "        'firstin':1,\n",
    "        'off':1,\n",
    "        'TYPEK': exchange,\n",
    "        'year': year,\n",
    "        'season': season,\n",
    "    })\n",
    "    \n",
    "    r.encoding = 'utf8'\n",
    "    \n",
    "    dfs = pd.read_html(r.text)\n",
    "    \n",
    "    \n",
    "    for i, df in enumerate(dfs):\n",
    "        df.columns = df.iloc[0]\n",
    "        dfs[i] = df.iloc[1:]\n",
    "        \n",
    "    df = pd.concat(dfs).applymap(lambda x: x if x != '--' else np.nan)\n",
    "    df = df[df['公司代號'] != '公司代號']\n",
    "    df = df[~df['公司代號'].isnull()]\n",
    "    if any(df.columns.str.contains(\"合計：\")):\n",
    "        df = df.loc[:, ~df.columns.str.contains(\"合計：\")]\n",
    "    return df"
   ]
  },
  {
   "cell_type": "code",
   "execution_count": 20,
   "metadata": {},
   "outputs": [],
   "source": [
    "df = financial_statement(2017, 2, type='營益分析查詢彙總表')"
   ]
  },
  {
   "cell_type": "code",
   "execution_count": 21,
   "metadata": {},
   "outputs": [
    {
     "data": {
      "text/html": [
       "<div>\n",
       "<style scoped>\n",
       "    .dataframe tbody tr th:only-of-type {\n",
       "        vertical-align: middle;\n",
       "    }\n",
       "\n",
       "    .dataframe tbody tr th {\n",
       "        vertical-align: top;\n",
       "    }\n",
       "\n",
       "    .dataframe thead th {\n",
       "        text-align: right;\n",
       "    }\n",
       "</style>\n",
       "<table border=\"1\" class=\"dataframe\">\n",
       "  <thead>\n",
       "    <tr style=\"text-align: right;\">\n",
       "      <th></th>\n",
       "      <th>公司代號</th>\n",
       "      <th>公司名稱</th>\n",
       "      <th>毛利率(%)(營業毛利)/(營業收入)</th>\n",
       "      <th>營業利益率(%)(營業利益)/(營業收入)</th>\n",
       "      <th>營業收入(百萬元)</th>\n",
       "      <th>稅前純益率(%)(稅前純益)/(營業收入)</th>\n",
       "      <th>稅後純益率(%)(稅後純益)/(營業收入)</th>\n",
       "    </tr>\n",
       "  </thead>\n",
       "  <tbody>\n",
       "    <tr>\n",
       "      <th>1</th>\n",
       "      <td>1101</td>\n",
       "      <td>台泥</td>\n",
       "      <td>18.01</td>\n",
       "      <td>13.08</td>\n",
       "      <td>45893.85</td>\n",
       "      <td>12.54</td>\n",
       "      <td>9.23</td>\n",
       "    </tr>\n",
       "  </tbody>\n",
       "</table>\n",
       "</div>"
      ],
      "text/plain": [
       "   公司代號 公司名稱 毛利率(%)(營業毛利)/(營業收入) 營業利益率(%)(營業利益)/(營業收入) 營業收入(百萬元)  \\\n",
       "1  1101   台泥               18.01                 13.08  45893.85   \n",
       "\n",
       "  稅前純益率(%)(稅前純益)/(營業收入) 稅後純益率(%)(稅後純益)/(營業收入)  \n",
       "1                 12.54                  9.23  "
      ]
     },
     "execution_count": 21,
     "metadata": {},
     "output_type": "execute_result"
    }
   ],
   "source": [
    "df[df['公司名稱']=='台泥']"
   ]
  }
 ],
 "metadata": {
  "kernelspec": {
   "display_name": "Python 3",
   "language": "python",
   "name": "python3"
  },
  "language_info": {
   "codemirror_mode": {
    "name": "ipython",
    "version": 3
   },
   "file_extension": ".py",
   "mimetype": "text/x-python",
   "name": "python",
   "nbconvert_exporter": "python",
   "pygments_lexer": "ipython3",
   "version": "3.6.4"
  }
 },
 "nbformat": 4,
 "nbformat_minor": 2
}
