{
 "cells": [
  {
   "cell_type": "markdown",
   "metadata": {},
   "source": [
    "# 練習 - 股票資料彙整_Yahoo股市 - 問題"
   ]
  },
  {
   "cell_type": "code",
   "execution_count": 1,
   "metadata": {
    "collapsed": false
   },
   "outputs": [
    {
     "data": {
      "text/plain": [
       "'https://tw.stock.yahoo.com/s/list.php?c=tse&pid=1'"
      ]
     },
     "execution_count": 1,
     "metadata": {},
     "output_type": "execute_result"
    }
   ],
   "source": [
    "page = 1\n",
    "url = 'https://tw.stock.yahoo.com/s/list.php?c=tse&pid=' + str(page)\n",
    "url"
   ]
  },
  {
   "cell_type": "markdown",
   "metadata": {},
   "source": [
    "## 目標: \n",
    "- 使用 Pandas，抓取上述 url 網頁中的股價資料\n",
    "- 將股票代號與名稱區隔為不同的欄位\n",
    "- 將資料儲存為 Excel 檔案\n",
    "- 須注意個欄位的格式，數字欄位的儲存格式應該為數字\n",
    "- 重排欄位順序為:'市場別', '股票代號', '股票名稱', '日期', '時間', '成交', '買進', '賣出', '漲跌', '張數', '昨收', '開盤', '最高', '最低'\n",
    "- Extra:\n",
    "    - 匯集 Yahoo 股市 page 1~ 5 的資料 (pd.concat)\n",
    "    - 依據股票代號的前兩碼，做 GroupBy 操作\n",
    "        - merge ../data/個股_類別.xls(先解壓縮 個股_類別.rar) 中的資料之後，做 GroupBy 操作    "
   ]
  },
  {
   "cell_type": "code",
   "execution_count": null,
   "metadata": {
    "collapsed": false
   },
   "outputs": [],
   "source": []
  }
 ],
 "metadata": {
  "anaconda-cloud": {},
  "kernelspec": {
   "display_name": "Python [default]",
   "language": "python",
   "name": "python3"
  },
  "language_info": {
   "codemirror_mode": {
    "name": "ipython",
    "version": 3
   },
   "file_extension": ".py",
   "mimetype": "text/x-python",
   "name": "python",
   "nbconvert_exporter": "python",
   "pygments_lexer": "ipython3",
   "version": "3.5.1"
  }
 },
 "nbformat": 4,
 "nbformat_minor": 0
}
