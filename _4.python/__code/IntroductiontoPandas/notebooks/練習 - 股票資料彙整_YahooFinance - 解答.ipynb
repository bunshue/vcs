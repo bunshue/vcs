{
 "cells": [
  {
   "cell_type": "markdown",
   "metadata": {},
   "source": [
    "# 練習 - 股票資料彙整_YahooFinance - 解答\n",
    "http://pandas.pydata.org/pandas-docs/stable/remote_data.html  \n",
    "http://www.predream.org/show-58-171-1.html  \n",
    "http://stackoverflow.com/questions/22991567/pandas-yahoo-finance-datareader"
   ]
  },
  {
   "cell_type": "code",
   "execution_count": 1,
   "metadata": {
    "collapsed": false
   },
   "outputs": [],
   "source": [
    "import numpy as np\n",
    "import pandas as pd\n",
    "from pandas import Series, DataFrame\n",
    "import datetime\n",
    "import timeit"
   ]
  },
  {
   "cell_type": "code",
   "execution_count": 2,
   "metadata": {
    "collapsed": false
   },
   "outputs": [],
   "source": [
    "from pandas_datareader import data, wb\n",
    "import datetime  \n",
    "\n",
    "def getWebData(name, \n",
    "               start = datetime.date(1970, 1, 1), \n",
    "               end = datetime.date.today(), \n",
    "               data_source = 'yahoo', \n",
    "               retry_count=3, \n",
    "               pause=0.001):\n",
    "    \n",
    "    df = data.DataReader(name = name, \n",
    "                         data_source = data_source,\n",
    "                         start = start,\n",
    "                         end = end,\n",
    "                         retry_count = retry_count,\n",
    "                         pause = pause\n",
    "                        ) \n",
    "\n",
    "    df = df.to_frame()\n",
    "    df.index.names = ['Date', 'Name'] \n",
    "    \n",
    "    return df"
   ]
  },
  {
   "cell_type": "markdown",
   "metadata": {},
   "source": [
    "## Main"
   ]
  },
  {
   "cell_type": "code",
   "execution_count": 3,
   "metadata": {
    "collapsed": false
   },
   "outputs": [],
   "source": [
    "def fetchAndStoreStockData(stocks):\n",
    "    \n",
    "#     start = datetime.datetime(1965, 1, 1)\n",
    "#     end = datetime.datetime(2013, 1, 1)    \n",
    "    df = getWebData(stocks)     \n",
    "\n",
    "    # Write to files __________________________    \n",
    "    df.to_excel('Yahoo Finance{0}.xlsx'.format(''))"
   ]
  },
  {
   "cell_type": "code",
   "execution_count": 4,
   "metadata": {
    "collapsed": false
   },
   "outputs": [
    {
     "name": "stdout",
     "output_type": "stream",
     "text": [
      "Wall time: 5.46 s\n"
     ]
    }
   ],
   "source": [
    "if __name__ == '__main__':\n",
    "    %time fetchAndStoreStockData(stocks = ['2356.TW', '1566.TWO'])"
   ]
  }
 ],
 "metadata": {
  "kernelspec": {
   "display_name": "Python [default]",
   "language": "python",
   "name": "python3"
  },
  "language_info": {
   "codemirror_mode": {
    "name": "ipython",
    "version": 3
   },
   "file_extension": ".py",
   "mimetype": "text/x-python",
   "name": "python",
   "nbconvert_exporter": "python",
   "pygments_lexer": "ipython3",
   "version": "3.5.1"
  }
 },
 "nbformat": 4,
 "nbformat_minor": 0
}
