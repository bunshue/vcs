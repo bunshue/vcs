{
 "cells": [
  {
   "cell_type": "markdown",
   "metadata": {},
   "source": [
    "# 練習 - 股票資料彙整_Yahoo股市 - 解答"
   ]
  },
  {
   "cell_type": "code",
   "execution_count": 1,
   "metadata": {
    "collapsed": true
   },
   "outputs": [],
   "source": [
    "import numpy as np\n",
    "import pandas as pd\n",
    "from pandas import Series, DataFrame"
   ]
  },
  {
   "cell_type": "code",
   "execution_count": 2,
   "metadata": {
    "collapsed": true
   },
   "outputs": [],
   "source": [
    "import datetime"
   ]
  },
  {
   "cell_type": "markdown",
   "metadata": {},
   "source": [
    "目標資料來源:  \n",
    "https://tw.stock.yahoo.com/s/list.php?c=tse&pid=1"
   ]
  },
  {
   "cell_type": "markdown",
   "metadata": {},
   "source": [
    "## 抓取網頁資料"
   ]
  },
  {
   "cell_type": "code",
   "execution_count": 3,
   "metadata": {
    "collapsed": true
   },
   "outputs": [],
   "source": [
    "import requests\n",
    "\n",
    "def get_yahoo_page_html(url): \n",
    "    html = requests.get(url, headers={'User-Agent': 'Mozilla/5.0 (Windows NT 6.1; WOW64) AppleWebKit/537.36 (KHTML, like Gecko) Chrome/53.0.2785.143 Safari/537.36'})\n",
    "    return html.text"
   ]
  },
  {
   "cell_type": "code",
   "execution_count": 4,
   "metadata": {
    "collapsed": true
   },
   "outputs": [],
   "source": [
    "def getDataOnePage(html):\n",
    "    targetTableIndex = 0\n",
    "    table = pd.read_html(html,\n",
    "                         attrs = {'border': '1' , \n",
    "                                  'cellspacing': '0', \n",
    "                                  'cellpadding': '2', \n",
    "                                  'bgcolor': '#ffffff'},\n",
    "                         header = 0\n",
    "                        )[targetTableIndex]\n",
    "    \n",
    "    return table"
   ]
  },
  {
   "cell_type": "code",
   "execution_count": 5,
   "metadata": {
    "collapsed": false
   },
   "outputs": [],
   "source": [
    "def getDataOnePageTSE(page):\n",
    "    url = 'https://tw.stock.yahoo.com/s/list.php?c=tse&pid=' + str(page)   \n",
    "    return getDataOnePage(html = get_yahoo_page_html(url))"
   ]
  },
  {
   "cell_type": "code",
   "execution_count": 6,
   "metadata": {
    "collapsed": false
   },
   "outputs": [],
   "source": [
    "# 抓第一頁的資料\n",
    "df = getDataOnePageTSE(1)"
   ]
  },
  {
   "cell_type": "code",
   "execution_count": 7,
   "metadata": {
    "collapsed": false
   },
   "outputs": [
    {
     "data": {
      "text/html": [
       "<div>\n",
       "<table border=\"1\" class=\"dataframe\">\n",
       "  <thead>\n",
       "    <tr style=\"text-align: right;\">\n",
       "      <th></th>\n",
       "      <th>選擇</th>\n",
       "      <th>股票代號</th>\n",
       "      <th>時間</th>\n",
       "      <th>成交</th>\n",
       "      <th>買進</th>\n",
       "      <th>賣出</th>\n",
       "      <th>漲跌</th>\n",
       "      <th>張數</th>\n",
       "      <th>昨收</th>\n",
       "      <th>開盤</th>\n",
       "      <th>最高</th>\n",
       "      <th>最低</th>\n",
       "      <th>凱基證券下單</th>\n",
       "    </tr>\n",
       "  </thead>\n",
       "  <tbody>\n",
       "    <tr>\n",
       "      <th>195</th>\n",
       "      <td>NaN</td>\n",
       "      <td>4763 材料-KY</td>\n",
       "      <td>14:30</td>\n",
       "      <td>121.50</td>\n",
       "      <td>121.5</td>\n",
       "      <td>122.0</td>\n",
       "      <td>0.00</td>\n",
       "      <td>994</td>\n",
       "      <td>121.50</td>\n",
       "      <td>121.0</td>\n",
       "      <td>128.00</td>\n",
       "      <td>120.50</td>\n",
       "      <td>買 賣 張  零股交易</td>\n",
       "    </tr>\n",
       "    <tr>\n",
       "      <th>196</th>\n",
       "      <td>NaN</td>\n",
       "      <td>1598 岱宇</td>\n",
       "      <td>13:30</td>\n",
       "      <td>46.05</td>\n",
       "      <td>46.00</td>\n",
       "      <td>46.05</td>\n",
       "      <td>▽0.50</td>\n",
       "      <td>252</td>\n",
       "      <td>46.55</td>\n",
       "      <td>46.50</td>\n",
       "      <td>46.95</td>\n",
       "      <td>46.00</td>\n",
       "      <td>買 賣 張  零股交易</td>\n",
       "    </tr>\n",
       "    <tr>\n",
       "      <th>197</th>\n",
       "      <td>NaN</td>\n",
       "      <td>1701 中化</td>\n",
       "      <td>13:30</td>\n",
       "      <td>18.10</td>\n",
       "      <td>18.10</td>\n",
       "      <td>18.15</td>\n",
       "      <td>▽0.05</td>\n",
       "      <td>218</td>\n",
       "      <td>18.15</td>\n",
       "      <td>18.20</td>\n",
       "      <td>18.20</td>\n",
       "      <td>18.05</td>\n",
       "      <td>買 賣 張  零股交易</td>\n",
       "    </tr>\n",
       "    <tr>\n",
       "      <th>198</th>\n",
       "      <td>NaN</td>\n",
       "      <td>1707 葡萄王</td>\n",
       "      <td>13:30</td>\n",
       "      <td>261.00</td>\n",
       "      <td>261.0</td>\n",
       "      <td>261.5</td>\n",
       "      <td>△3.5</td>\n",
       "      <td>537</td>\n",
       "      <td>257.50</td>\n",
       "      <td>261.0</td>\n",
       "      <td>262.50</td>\n",
       "      <td>258.00</td>\n",
       "      <td>買 賣 張  零股交易</td>\n",
       "    </tr>\n",
       "    <tr>\n",
       "      <th>199</th>\n",
       "      <td>NaN</td>\n",
       "      <td>1720 生達</td>\n",
       "      <td>13:30</td>\n",
       "      <td>33.45</td>\n",
       "      <td>33.40</td>\n",
       "      <td>33.45</td>\n",
       "      <td>0.00</td>\n",
       "      <td>179</td>\n",
       "      <td>33.45</td>\n",
       "      <td>33.60</td>\n",
       "      <td>33.60</td>\n",
       "      <td>33.30</td>\n",
       "      <td>買 賣 張  零股交易</td>\n",
       "    </tr>\n",
       "  </tbody>\n",
       "</table>\n",
       "</div>"
      ],
      "text/plain": [
       "     選擇        股票代號     時間      成交     買進     賣出     漲跌   張數      昨收     開盤  \\\n",
       "195 NaN  4763 材料-KY  14:30  121.50  121.5  122.0   0.00  994  121.50  121.0   \n",
       "196 NaN     1598 岱宇  13:30   46.05  46.00  46.05  ▽0.50  252   46.55  46.50   \n",
       "197 NaN     1701 中化  13:30   18.10  18.10  18.15  ▽0.05  218   18.15  18.20   \n",
       "198 NaN    1707 葡萄王  13:30  261.00  261.0  261.5   △3.5  537  257.50  261.0   \n",
       "199 NaN     1720 生達  13:30   33.45  33.40  33.45   0.00  179   33.45  33.60   \n",
       "\n",
       "         最高      最低       凱基證券下單  \n",
       "195  128.00  120.50  買 賣 張  零股交易  \n",
       "196   46.95   46.00  買 賣 張  零股交易  \n",
       "197   18.20   18.05  買 賣 張  零股交易  \n",
       "198  262.50  258.00  買 賣 張  零股交易  \n",
       "199   33.60   33.30  買 賣 張  零股交易  "
      ]
     },
     "execution_count": 7,
     "metadata": {},
     "output_type": "execute_result"
    }
   ],
   "source": [
    "df.tail()"
   ]
  },
  {
   "cell_type": "code",
   "execution_count": 8,
   "metadata": {
    "collapsed": false
   },
   "outputs": [],
   "source": [
    "df.to_excel('stock.xlsx')"
   ]
  },
  {
   "cell_type": "markdown",
   "metadata": {},
   "source": [
    "## 修整 DataFrame中的資料"
   ]
  },
  {
   "cell_type": "code",
   "execution_count": 9,
   "metadata": {
    "collapsed": false
   },
   "outputs": [],
   "source": [
    "def fixTable(marketType, table, theDate = datetime.date.today()):\n",
    "    \n",
    "    fixedTable = table\n",
    "    \n",
    "    # Drop\n",
    "    fixedTable.drop(['選擇', '凱基證券下單'], axis = 1, inplace = True)\n",
    "    fixedTable.dropna(axis=0, how='all', inplace=True)\n",
    "\n",
    "    # fill missing data\n",
    "    fixedTable['股票代號名稱'] = fixedTable['股票代號']\n",
    "    fixedTable['股票代號'] = fixedTable['股票代號名稱'].map(lambda x: x.split()[0])\n",
    "    fixedTable['股票名稱'] = fixedTable['股票代號名稱'].map(lambda x: x.split()[1])\n",
    "    fixedTable['日期'] = theDate\n",
    "    fixedTable['市場別'] = marketType\n",
    "    \n",
    "    # data type\n",
    "    fixedTable.replace('－', np.nan, inplace = True)    \n",
    "     \n",
    "    fixedTable['股票代號'] = fixedTable['股票代號'].astype(str)\n",
    "    fixedTable['時間'] = fixedTable['時間'].astype(datetime.time)    \n",
    "    fixedTable[['成交', '買進', '賣出', '張數', '昨收', '開盤', '最高', '最低']] = \\\n",
    "        fixedTable[['成交', '買進', '賣出', '張數', '昨收', '開盤', '最高', '最低']].astype(float)  \n",
    "    \n",
    "    fixedTable['漲跌'] = fixedTable['成交'] - fixedTable['昨收']\n",
    "    fixedTable['漲跌'] = fixedTable['漲跌'].map(lambda x: round(x, 2))\n",
    "    \n",
    "    # sort\n",
    "#     fixedTable.sort_values(by = '股票代號', inplace = True) \n",
    "    \n",
    "    # indexing\n",
    "    fixedTable.index = Series(range(len(fixedTable)))\n",
    "    fixedTable.index.name = '項次'\n",
    "    fixedTable = fixedTable.reindex(columns = ['市場別', '股票代號', '股票名稱', '日期', '時間', '成交', '買進', '賣出', '漲跌', '張數', '昨收', '開盤', '最高', '最低'])\n",
    "    \n",
    "    return fixedTable"
   ]
  },
  {
   "cell_type": "code",
   "execution_count": 10,
   "metadata": {
    "collapsed": false
   },
   "outputs": [],
   "source": [
    "df1 = fixTable('TSE', df)"
   ]
  },
  {
   "cell_type": "code",
   "execution_count": 11,
   "metadata": {
    "collapsed": false
   },
   "outputs": [
    {
     "data": {
      "text/html": [
       "<div>\n",
       "<table border=\"1\" class=\"dataframe\">\n",
       "  <thead>\n",
       "    <tr style=\"text-align: right;\">\n",
       "      <th></th>\n",
       "      <th>市場別</th>\n",
       "      <th>股票代號</th>\n",
       "      <th>股票名稱</th>\n",
       "      <th>日期</th>\n",
       "      <th>時間</th>\n",
       "      <th>成交</th>\n",
       "      <th>買進</th>\n",
       "      <th>賣出</th>\n",
       "      <th>漲跌</th>\n",
       "      <th>張數</th>\n",
       "      <th>昨收</th>\n",
       "      <th>開盤</th>\n",
       "      <th>最高</th>\n",
       "      <th>最低</th>\n",
       "    </tr>\n",
       "    <tr>\n",
       "      <th>項次</th>\n",
       "      <th></th>\n",
       "      <th></th>\n",
       "      <th></th>\n",
       "      <th></th>\n",
       "      <th></th>\n",
       "      <th></th>\n",
       "      <th></th>\n",
       "      <th></th>\n",
       "      <th></th>\n",
       "      <th></th>\n",
       "      <th></th>\n",
       "      <th></th>\n",
       "      <th></th>\n",
       "      <th></th>\n",
       "    </tr>\n",
       "  </thead>\n",
       "  <tbody>\n",
       "    <tr>\n",
       "      <th>195</th>\n",
       "      <td>TSE</td>\n",
       "      <td>4763</td>\n",
       "      <td>材料-KY</td>\n",
       "      <td>2016-10-04</td>\n",
       "      <td>14:30</td>\n",
       "      <td>121.50</td>\n",
       "      <td>121.5</td>\n",
       "      <td>122.00</td>\n",
       "      <td>0.00</td>\n",
       "      <td>994.0</td>\n",
       "      <td>121.50</td>\n",
       "      <td>121.0</td>\n",
       "      <td>128.00</td>\n",
       "      <td>120.50</td>\n",
       "    </tr>\n",
       "    <tr>\n",
       "      <th>196</th>\n",
       "      <td>TSE</td>\n",
       "      <td>1598</td>\n",
       "      <td>岱宇</td>\n",
       "      <td>2016-10-04</td>\n",
       "      <td>13:30</td>\n",
       "      <td>46.05</td>\n",
       "      <td>46.0</td>\n",
       "      <td>46.05</td>\n",
       "      <td>-0.50</td>\n",
       "      <td>252.0</td>\n",
       "      <td>46.55</td>\n",
       "      <td>46.5</td>\n",
       "      <td>46.95</td>\n",
       "      <td>46.00</td>\n",
       "    </tr>\n",
       "    <tr>\n",
       "      <th>197</th>\n",
       "      <td>TSE</td>\n",
       "      <td>1701</td>\n",
       "      <td>中化</td>\n",
       "      <td>2016-10-04</td>\n",
       "      <td>13:30</td>\n",
       "      <td>18.10</td>\n",
       "      <td>18.1</td>\n",
       "      <td>18.15</td>\n",
       "      <td>-0.05</td>\n",
       "      <td>218.0</td>\n",
       "      <td>18.15</td>\n",
       "      <td>18.2</td>\n",
       "      <td>18.20</td>\n",
       "      <td>18.05</td>\n",
       "    </tr>\n",
       "    <tr>\n",
       "      <th>198</th>\n",
       "      <td>TSE</td>\n",
       "      <td>1707</td>\n",
       "      <td>葡萄王</td>\n",
       "      <td>2016-10-04</td>\n",
       "      <td>13:30</td>\n",
       "      <td>261.00</td>\n",
       "      <td>261.0</td>\n",
       "      <td>261.50</td>\n",
       "      <td>3.50</td>\n",
       "      <td>537.0</td>\n",
       "      <td>257.50</td>\n",
       "      <td>261.0</td>\n",
       "      <td>262.50</td>\n",
       "      <td>258.00</td>\n",
       "    </tr>\n",
       "    <tr>\n",
       "      <th>199</th>\n",
       "      <td>TSE</td>\n",
       "      <td>1720</td>\n",
       "      <td>生達</td>\n",
       "      <td>2016-10-04</td>\n",
       "      <td>13:30</td>\n",
       "      <td>33.45</td>\n",
       "      <td>33.4</td>\n",
       "      <td>33.45</td>\n",
       "      <td>0.00</td>\n",
       "      <td>179.0</td>\n",
       "      <td>33.45</td>\n",
       "      <td>33.6</td>\n",
       "      <td>33.60</td>\n",
       "      <td>33.30</td>\n",
       "    </tr>\n",
       "  </tbody>\n",
       "</table>\n",
       "</div>"
      ],
      "text/plain": [
       "     市場別  股票代號   股票名稱          日期     時間      成交     買進      賣出    漲跌     張數  \\\n",
       "項次                                                                             \n",
       "195  TSE  4763  材料-KY  2016-10-04  14:30  121.50  121.5  122.00  0.00  994.0   \n",
       "196  TSE  1598     岱宇  2016-10-04  13:30   46.05   46.0   46.05 -0.50  252.0   \n",
       "197  TSE  1701     中化  2016-10-04  13:30   18.10   18.1   18.15 -0.05  218.0   \n",
       "198  TSE  1707    葡萄王  2016-10-04  13:30  261.00  261.0  261.50  3.50  537.0   \n",
       "199  TSE  1720     生達  2016-10-04  13:30   33.45   33.4   33.45  0.00  179.0   \n",
       "\n",
       "         昨收     開盤      最高      最低  \n",
       "項次                                  \n",
       "195  121.50  121.0  128.00  120.50  \n",
       "196   46.55   46.5   46.95   46.00  \n",
       "197   18.15   18.2   18.20   18.05  \n",
       "198  257.50  261.0  262.50  258.00  \n",
       "199   33.45   33.6   33.60   33.30  "
      ]
     },
     "execution_count": 11,
     "metadata": {},
     "output_type": "execute_result"
    }
   ],
   "source": [
    "df1.tail(5)"
   ]
  },
  {
   "cell_type": "markdown",
   "metadata": {
    "collapsed": true
   },
   "source": [
    "## 彙整 Yahoo 股市 page 1~ 5 的資料"
   ]
  },
  {
   "cell_type": "code",
   "execution_count": 12,
   "metadata": {
    "collapsed": true
   },
   "outputs": [],
   "source": [
    "# 抓第一頁~第五頁的資料\n",
    "dfs = map(lambda p: fixTable('TSE', getDataOnePageTSE(p)) , range(1, 6))"
   ]
  },
  {
   "cell_type": "code",
   "execution_count": 13,
   "metadata": {
    "collapsed": false
   },
   "outputs": [
    {
     "data": {
      "text/plain": [
       "1000"
      ]
     },
     "execution_count": 13,
     "metadata": {},
     "output_type": "execute_result"
    }
   ],
   "source": [
    "# Append 在一起\n",
    "df = pd.concat(dfs)\n",
    "len(df)"
   ]
  },
  {
   "cell_type": "code",
   "execution_count": 14,
   "metadata": {
    "collapsed": false
   },
   "outputs": [
    {
     "data": {
      "text/html": [
       "<div>\n",
       "<table border=\"1\" class=\"dataframe\">\n",
       "  <thead>\n",
       "    <tr style=\"text-align: right;\">\n",
       "      <th></th>\n",
       "      <th>市場別</th>\n",
       "      <th>股票代號</th>\n",
       "      <th>股票名稱</th>\n",
       "      <th>日期</th>\n",
       "      <th>時間</th>\n",
       "      <th>成交</th>\n",
       "      <th>買進</th>\n",
       "      <th>賣出</th>\n",
       "      <th>漲跌</th>\n",
       "      <th>張數</th>\n",
       "      <th>昨收</th>\n",
       "      <th>開盤</th>\n",
       "      <th>最高</th>\n",
       "      <th>最低</th>\n",
       "    </tr>\n",
       "  </thead>\n",
       "  <tbody>\n",
       "    <tr>\n",
       "      <th>902</th>\n",
       "      <td>TSE</td>\n",
       "      <td>9941</td>\n",
       "      <td>裕融</td>\n",
       "      <td>2016-10-04</td>\n",
       "      <td>13:30</td>\n",
       "      <td>71.4</td>\n",
       "      <td>71.3</td>\n",
       "      <td>71.40</td>\n",
       "      <td>0.1</td>\n",
       "      <td>171.0</td>\n",
       "      <td>71.3</td>\n",
       "      <td>71.3</td>\n",
       "      <td>71.4</td>\n",
       "      <td>71.2</td>\n",
       "    </tr>\n",
       "    <tr>\n",
       "      <th>903</th>\n",
       "      <td>TSE</td>\n",
       "      <td>9942</td>\n",
       "      <td>茂順</td>\n",
       "      <td>2016-10-04</td>\n",
       "      <td>13:18</td>\n",
       "      <td>86.9</td>\n",
       "      <td>85.9</td>\n",
       "      <td>86.40</td>\n",
       "      <td>1.6</td>\n",
       "      <td>37.0</td>\n",
       "      <td>85.3</td>\n",
       "      <td>85.8</td>\n",
       "      <td>86.9</td>\n",
       "      <td>85.2</td>\n",
       "    </tr>\n",
       "    <tr>\n",
       "      <th>904</th>\n",
       "      <td>TSE</td>\n",
       "      <td>9944</td>\n",
       "      <td>新麗</td>\n",
       "      <td>2016-10-04</td>\n",
       "      <td>13:30</td>\n",
       "      <td>24.2</td>\n",
       "      <td>24.2</td>\n",
       "      <td>24.50</td>\n",
       "      <td>-0.3</td>\n",
       "      <td>110.0</td>\n",
       "      <td>24.5</td>\n",
       "      <td>24.5</td>\n",
       "      <td>24.6</td>\n",
       "      <td>24.2</td>\n",
       "    </tr>\n",
       "    <tr>\n",
       "      <th>905</th>\n",
       "      <td>TSE</td>\n",
       "      <td>9945</td>\n",
       "      <td>潤泰新</td>\n",
       "      <td>2016-10-04</td>\n",
       "      <td>14:30</td>\n",
       "      <td>37.7</td>\n",
       "      <td>37.7</td>\n",
       "      <td>37.75</td>\n",
       "      <td>-1.1</td>\n",
       "      <td>7229.0</td>\n",
       "      <td>38.8</td>\n",
       "      <td>38.6</td>\n",
       "      <td>38.6</td>\n",
       "      <td>37.6</td>\n",
       "    </tr>\n",
       "    <tr>\n",
       "      <th>906</th>\n",
       "      <td>TSE</td>\n",
       "      <td>9955</td>\n",
       "      <td>佳龍</td>\n",
       "      <td>2016-10-04</td>\n",
       "      <td>13:30</td>\n",
       "      <td>17.6</td>\n",
       "      <td>17.6</td>\n",
       "      <td>17.65</td>\n",
       "      <td>0.0</td>\n",
       "      <td>73.0</td>\n",
       "      <td>17.6</td>\n",
       "      <td>17.8</td>\n",
       "      <td>17.9</td>\n",
       "      <td>17.4</td>\n",
       "    </tr>\n",
       "  </tbody>\n",
       "</table>\n",
       "</div>"
      ],
      "text/plain": [
       "     市場別  股票代號 股票名稱          日期     時間    成交    買進     賣出   漲跌      張數    昨收  \\\n",
       "902  TSE  9941   裕融  2016-10-04  13:30  71.4  71.3  71.40  0.1   171.0  71.3   \n",
       "903  TSE  9942   茂順  2016-10-04  13:18  86.9  85.9  86.40  1.6    37.0  85.3   \n",
       "904  TSE  9944   新麗  2016-10-04  13:30  24.2  24.2  24.50 -0.3   110.0  24.5   \n",
       "905  TSE  9945  潤泰新  2016-10-04  14:30  37.7  37.7  37.75 -1.1  7229.0  38.8   \n",
       "906  TSE  9955   佳龍  2016-10-04  13:30  17.6  17.6  17.65  0.0    73.0  17.6   \n",
       "\n",
       "       開盤    最高    最低  \n",
       "902  71.3  71.4  71.2  \n",
       "903  85.8  86.9  85.2  \n",
       "904  24.5  24.6  24.2  \n",
       "905  38.6  38.6  37.6  \n",
       "906  17.8  17.9  17.4  "
      ]
     },
     "execution_count": 14,
     "metadata": {},
     "output_type": "execute_result"
    }
   ],
   "source": [
    "df.index = pd.Index(range(len(df)))  # 重新編排 row index 編號\n",
    "df = df[df['股票代號'].str.len() <= 4]  # 濾除 權證 資料\n",
    "df.tail()"
   ]
  },
  {
   "cell_type": "markdown",
   "metadata": {},
   "source": [
    "## 抓取 類股 資料"
   ]
  },
  {
   "cell_type": "code",
   "execution_count": 15,
   "metadata": {
    "collapsed": false
   },
   "outputs": [
    {
     "data": {
      "text/html": [
       "<div>\n",
       "<table border=\"1\" class=\"dataframe\">\n",
       "  <thead>\n",
       "    <tr style=\"text-align: right;\">\n",
       "      <th></th>\n",
       "      <th>市場別_ID</th>\n",
       "      <th>類股別_ID</th>\n",
       "      <th>個股_代號</th>\n",
       "      <th>個股_名稱</th>\n",
       "      <th>類股_名稱</th>\n",
       "    </tr>\n",
       "  </thead>\n",
       "  <tbody>\n",
       "    <tr>\n",
       "      <th>29345</th>\n",
       "      <td>2</td>\n",
       "      <td>72</td>\n",
       "      <td>72861P</td>\n",
       "      <td>國泰RG</td>\n",
       "      <td>櫃認售</td>\n",
       "    </tr>\n",
       "    <tr>\n",
       "      <th>29346</th>\n",
       "      <td>2</td>\n",
       "      <td>72</td>\n",
       "      <td>72863P</td>\n",
       "      <td>國泰RJ</td>\n",
       "      <td>櫃認售</td>\n",
       "    </tr>\n",
       "    <tr>\n",
       "      <th>29347</th>\n",
       "      <td>2</td>\n",
       "      <td>72</td>\n",
       "      <td>72895P</td>\n",
       "      <td>元大P3</td>\n",
       "      <td>櫃認售</td>\n",
       "    </tr>\n",
       "    <tr>\n",
       "      <th>29348</th>\n",
       "      <td>2</td>\n",
       "      <td>72</td>\n",
       "      <td>72901P</td>\n",
       "      <td>工銀QM</td>\n",
       "      <td>櫃認售</td>\n",
       "    </tr>\n",
       "    <tr>\n",
       "      <th>29349</th>\n",
       "      <td>2</td>\n",
       "      <td>72</td>\n",
       "      <td>72953P</td>\n",
       "      <td>日盛QW</td>\n",
       "      <td>櫃認售</td>\n",
       "    </tr>\n",
       "  </tbody>\n",
       "</table>\n",
       "</div>"
      ],
      "text/plain": [
       "       市場別_ID  類股別_ID   個股_代號 個股_名稱 類股_名稱\n",
       "29345       2      72  72861P  國泰RG   櫃認售\n",
       "29346       2      72  72863P  國泰RJ   櫃認售\n",
       "29347       2      72  72895P  元大P3   櫃認售\n",
       "29348       2      72  72901P  工銀QM   櫃認售\n",
       "29349       2      72  72953P  日盛QW   櫃認售"
      ]
     },
     "execution_count": 15,
     "metadata": {},
     "output_type": "execute_result"
    }
   ],
   "source": [
    "df_類股 = pd.read_excel('..\\\\data\\個股_類別.xls')  # 需先解壓縮 個股_類別.rar\n",
    "df_類股.tail()"
   ]
  },
  {
   "cell_type": "markdown",
   "metadata": {},
   "source": [
    "## Merge"
   ]
  },
  {
   "cell_type": "code",
   "execution_count": 16,
   "metadata": {
    "collapsed": false
   },
   "outputs": [
    {
     "data": {
      "text/html": [
       "<div>\n",
       "<table border=\"1\" class=\"dataframe\">\n",
       "  <thead>\n",
       "    <tr style=\"text-align: right;\">\n",
       "      <th></th>\n",
       "      <th>市場別</th>\n",
       "      <th>股票代號</th>\n",
       "      <th>股票名稱</th>\n",
       "      <th>日期</th>\n",
       "      <th>時間</th>\n",
       "      <th>成交</th>\n",
       "      <th>買進</th>\n",
       "      <th>賣出</th>\n",
       "      <th>漲跌</th>\n",
       "      <th>張數</th>\n",
       "      <th>昨收</th>\n",
       "      <th>開盤</th>\n",
       "      <th>最高</th>\n",
       "      <th>最低</th>\n",
       "      <th>類股別_ID</th>\n",
       "      <th>類股_名稱</th>\n",
       "    </tr>\n",
       "  </thead>\n",
       "  <tbody>\n",
       "    <tr>\n",
       "      <th>885</th>\n",
       "      <td>TSE</td>\n",
       "      <td>9941</td>\n",
       "      <td>裕融</td>\n",
       "      <td>2016-10-04</td>\n",
       "      <td>13:30</td>\n",
       "      <td>71.4</td>\n",
       "      <td>71.3</td>\n",
       "      <td>71.40</td>\n",
       "      <td>0.1</td>\n",
       "      <td>171.0</td>\n",
       "      <td>71.3</td>\n",
       "      <td>71.3</td>\n",
       "      <td>71.4</td>\n",
       "      <td>71.2</td>\n",
       "      <td>6.0</td>\n",
       "      <td>其他</td>\n",
       "    </tr>\n",
       "    <tr>\n",
       "      <th>886</th>\n",
       "      <td>TSE</td>\n",
       "      <td>9942</td>\n",
       "      <td>茂順</td>\n",
       "      <td>2016-10-04</td>\n",
       "      <td>13:18</td>\n",
       "      <td>86.9</td>\n",
       "      <td>85.9</td>\n",
       "      <td>86.40</td>\n",
       "      <td>1.6</td>\n",
       "      <td>37.0</td>\n",
       "      <td>85.3</td>\n",
       "      <td>85.8</td>\n",
       "      <td>86.9</td>\n",
       "      <td>85.2</td>\n",
       "      <td>6.0</td>\n",
       "      <td>其他</td>\n",
       "    </tr>\n",
       "    <tr>\n",
       "      <th>887</th>\n",
       "      <td>TSE</td>\n",
       "      <td>9944</td>\n",
       "      <td>新麗</td>\n",
       "      <td>2016-10-04</td>\n",
       "      <td>13:30</td>\n",
       "      <td>24.2</td>\n",
       "      <td>24.2</td>\n",
       "      <td>24.50</td>\n",
       "      <td>-0.3</td>\n",
       "      <td>110.0</td>\n",
       "      <td>24.5</td>\n",
       "      <td>24.5</td>\n",
       "      <td>24.6</td>\n",
       "      <td>24.2</td>\n",
       "      <td>6.0</td>\n",
       "      <td>其他</td>\n",
       "    </tr>\n",
       "    <tr>\n",
       "      <th>888</th>\n",
       "      <td>TSE</td>\n",
       "      <td>9945</td>\n",
       "      <td>潤泰新</td>\n",
       "      <td>2016-10-04</td>\n",
       "      <td>14:30</td>\n",
       "      <td>37.7</td>\n",
       "      <td>37.7</td>\n",
       "      <td>37.75</td>\n",
       "      <td>-1.1</td>\n",
       "      <td>7229.0</td>\n",
       "      <td>38.8</td>\n",
       "      <td>38.6</td>\n",
       "      <td>38.6</td>\n",
       "      <td>37.6</td>\n",
       "      <td>6.0</td>\n",
       "      <td>其他</td>\n",
       "    </tr>\n",
       "    <tr>\n",
       "      <th>889</th>\n",
       "      <td>TSE</td>\n",
       "      <td>9955</td>\n",
       "      <td>佳龍</td>\n",
       "      <td>2016-10-04</td>\n",
       "      <td>13:30</td>\n",
       "      <td>17.6</td>\n",
       "      <td>17.6</td>\n",
       "      <td>17.65</td>\n",
       "      <td>0.0</td>\n",
       "      <td>73.0</td>\n",
       "      <td>17.6</td>\n",
       "      <td>17.8</td>\n",
       "      <td>17.9</td>\n",
       "      <td>17.4</td>\n",
       "      <td>6.0</td>\n",
       "      <td>其他</td>\n",
       "    </tr>\n",
       "  </tbody>\n",
       "</table>\n",
       "</div>"
      ],
      "text/plain": [
       "     市場別  股票代號 股票名稱          日期     時間    成交    買進     賣出   漲跌      張數    昨收  \\\n",
       "885  TSE  9941   裕融  2016-10-04  13:30  71.4  71.3  71.40  0.1   171.0  71.3   \n",
       "886  TSE  9942   茂順  2016-10-04  13:18  86.9  85.9  86.40  1.6    37.0  85.3   \n",
       "887  TSE  9944   新麗  2016-10-04  13:30  24.2  24.2  24.50 -0.3   110.0  24.5   \n",
       "888  TSE  9945  潤泰新  2016-10-04  14:30  37.7  37.7  37.75 -1.1  7229.0  38.8   \n",
       "889  TSE  9955   佳龍  2016-10-04  13:30  17.6  17.6  17.65  0.0    73.0  17.6   \n",
       "\n",
       "       開盤    最高    最低  類股別_ID 類股_名稱  \n",
       "885  71.3  71.4  71.2     6.0    其他  \n",
       "886  85.8  86.9  85.2     6.0    其他  \n",
       "887  24.5  24.6  24.2     6.0    其他  \n",
       "888  38.6  38.6  37.6     6.0    其他  \n",
       "889  17.8  17.9  17.4     6.0    其他  "
      ]
     },
     "execution_count": 16,
     "metadata": {},
     "output_type": "execute_result"
    }
   ],
   "source": [
    "mdf = df.merge(df_類股, left_on = '股票代號', right_on = '個股_代號', how = 'left')  # merge\n",
    "mdf = mdf.drop(['市場別_ID', '個股_代號', '個股_名稱'], axis = 1)  # drop 多於的欄位\n",
    "mdf.tail()"
   ]
  },
  {
   "cell_type": "markdown",
   "metadata": {},
   "source": [
    "## GroupBy"
   ]
  },
  {
   "cell_type": "code",
   "execution_count": 17,
   "metadata": {
    "collapsed": false
   },
   "outputs": [
    {
     "data": {
      "text/plain": [
       "類股_名稱\n",
       "光電       69\n",
       "其他       46\n",
       "其它電子     32\n",
       "化工       25\n",
       "半導體      64\n",
       "塑膠       22\n",
       "憑證        7\n",
       "橡膠       10\n",
       "水泥        7\n",
       "汽車        6\n",
       "油電燃氣      8\n",
       "營建       48\n",
       "玻璃        4\n",
       "生技醫療     20\n",
       "紡織       46\n",
       "航運運輸     21\n",
       "觀光       13\n",
       "貿易百貨     11\n",
       "資訊服務     13\n",
       "通信網路     39\n",
       "造紙        7\n",
       "金融       33\n",
       "鋼鐵       30\n",
       "電器電纜     15\n",
       "電子通路     23\n",
       "電子零組件    81\n",
       "電機       43\n",
       "電腦週邊     60\n",
       "食品       21\n",
       "dtype: int64"
      ]
     },
     "execution_count": 17,
     "metadata": {},
     "output_type": "execute_result"
    }
   ],
   "source": [
    "# 各類股有多少支個股\n",
    "mdf.groupby(['類股_名稱']).size().sort_index()"
   ]
  },
  {
   "cell_type": "code",
   "execution_count": 18,
   "metadata": {
    "collapsed": false
   },
   "outputs": [
    {
     "data": {
      "text/plain": [
       "類股_名稱\n",
       "光電        75.766667\n",
       "其他        56.844130\n",
       "其它電子      42.225000\n",
       "化工        27.510400\n",
       "半導體       50.935156\n",
       "塑膠        28.105909\n",
       "憑證         3.641429\n",
       "橡膠        34.415000\n",
       "水泥        19.055714\n",
       "汽車       128.300000\n",
       "油電燃氣      38.787500\n",
       "營建        18.451250\n",
       "玻璃        10.752500\n",
       "生技醫療      54.405000\n",
       "紡織        27.713696\n",
       "航運運輸      15.499524\n",
       "觀光        69.121538\n",
       "貿易百貨      40.754545\n",
       "資訊服務      35.570000\n",
       "通信網路      38.973846\n",
       "造紙        14.381429\n",
       "金融        15.520606\n",
       "鋼鐵        16.662333\n",
       "電器電纜      11.322000\n",
       "電子通路      34.553478\n",
       "電子零組件     38.924321\n",
       "電機        67.288837\n",
       "電腦週邊      48.827833\n",
       "食品        39.721905\n",
       "Name: 成交, dtype: float64"
      ]
     },
     "execution_count": 18,
     "metadata": {},
     "output_type": "execute_result"
    }
   ],
   "source": [
    "# 各類股 平均股價\n",
    "mdf.groupby(['類股_名稱'])['成交'].mean().sort_index()"
   ]
  }
 ],
 "metadata": {
  "anaconda-cloud": {},
  "kernelspec": {
   "display_name": "Python [default]",
   "language": "python",
   "name": "python3"
  },
  "language_info": {
   "codemirror_mode": {
    "name": "ipython",
    "version": 3
   },
   "file_extension": ".py",
   "mimetype": "text/x-python",
   "name": "python",
   "nbconvert_exporter": "python",
   "pygments_lexer": "ipython3",
   "version": "3.5.1"
  }
 },
 "nbformat": 4,
 "nbformat_minor": 0
}
