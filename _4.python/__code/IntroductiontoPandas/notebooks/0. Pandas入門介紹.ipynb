{
 "cells": [
  {
   "cell_type": "markdown",
   "metadata": {
    "slideshow": {
     "slide_type": "slide"
    }
   },
   "source": [
    "# Pandas 入門介紹\n",
    "[Taichung.py](http://www.meetup.com/Taichung-Python-Meetup/)  \n",
    "2016/3/12\n",
    "Wei Lin  \n",
    "[Wei1234c@gmail.com](mailto://wei1234c@gmail.com) "
   ]
  },
  {
   "cell_type": "markdown",
   "metadata": {
    "slideshow": {
     "slide_type": "slide"
    }
   },
   "source": [
    "## Books:  \n",
    "[Python for Data Analysis](http://www.books.com.tw/products/F012771443)  \n",
    "<div><img src=\"http://pandas.pydata.org/_static/pydata_cover.jpg\" alt=\"HTML5 Icon\" style=\"width:180px;height:200px;float:left\"></div>  "
   ]
  },
  {
   "cell_type": "markdown",
   "metadata": {
    "collapsed": true,
    "slideshow": {
     "slide_type": "slide"
    }
   },
   "source": [
    "## Videos:  \n",
    "[Data analysis in Python with pandas - Wes McKinney (Pandas之父)](https://www.youtube.com/watch?v=w26x-z-BdWQ)  \n",
    "[Analyzing data with Pandas - PyCon SE 2015](https://www.youtube.com/watch?v=kSM8S76qYz0)  \n",
    "[Pandas From The Ground Up - PyCon 2015](https://www.youtube.com/watch?v=5JnMutdy6Fw) / [Brandon’s Pandas Tutorial](https://github.com/brandon-rhodes/pycon-pandas-tutorial)  \n",
    "[Hands-on Data Analysis with Python - PyCon 2015](https://www.youtube.com/watch?v=L4Hbv4ugUWk&list=PLHJdMADCPuGQeXXvSJnXGNhvYoOwcXjUD&index=4)  "
   ]
  },
  {
   "cell_type": "markdown",
   "metadata": {
    "slideshow": {
     "slide_type": "slide"
    }
   },
   "source": [
    "## Documentation:\n",
    "[pandas documentation — API Reference](http://pandas.pydata.org/pandas-docs/stable/api.html)  "
   ]
  },
  {
   "cell_type": "markdown",
   "metadata": {
    "slideshow": {
     "slide_type": "slide"
    }
   },
   "source": [
    "## About Me\n",
    "- Wei Lin : \n",
    "    - [Wei1234c@gmail.com](mailto://Wei1234c@gmail.com)\n",
    "    - [Twitter: @Wei_1144](https://twitter.com/Wei_1144)\n",
    "    - [facebook: Wei Lin](https://www.facebook.com/wei.lin.921025)\n",
    "    - [Github: wei1234c](https://github.com/Wei1234c)\n",
    "- A planner in private enterprises\n",
    "- Started learning Python in 2015\n",
    "- Interested in Data-Science and A.I.\n",
    "- [Speaker of PyCon TW 2016 - 2016/6/3](https://tw.pycon.org/2016/zh-hant/events/talk/68823578639859763/)  \n",
    "- [Speaker of PyCon JP 2016 - 2016/9/22](https://pycon.jp/2016/en/schedule/presentation/5/)"
   ]
  },
  {
   "cell_type": "markdown",
   "metadata": {
    "slideshow": {
     "slide_type": "slide"
    }
   },
   "source": [
    "## About this talk\n",
    "1. Pandas - main classes and structure\n",
    "2. Pandas - I/O tools\n",
    "3. Pandas - ETL tools\n",
    "4. Pandas - plotting\n",
    "5. Pandas - GroupBy"
   ]
  },
  {
   "cell_type": "markdown",
   "metadata": {
    "slideshow": {
     "slide_type": "slide"
    }
   },
   "source": [
    "## Design of this talk\n",
    "1. Theory and Practice\n",
    "2. Learning a language\n",
    "3. What if ..."
   ]
  },
  {
   "cell_type": "markdown",
   "metadata": {
    "slideshow": {
     "slide_type": "slide"
    }
   },
   "source": [
    "## [IPython Notebook](http://u.camdemy.com/media/399) 使用技巧簡介\n",
    "- Help\n",
    "- Insert a Cell\n",
    "- Menu / Document"
   ]
  }
 ],
 "metadata": {
  "anaconda-cloud": {},
  "kernelspec": {
   "display_name": "Python [default]",
   "language": "python",
   "name": "python3"
  },
  "language_info": {
   "codemirror_mode": {
    "name": "ipython",
    "version": 3
   },
   "file_extension": ".py",
   "mimetype": "text/x-python",
   "name": "python",
   "nbconvert_exporter": "python",
   "pygments_lexer": "ipython3",
   "version": "3.5.1"
  }
 },
 "nbformat": 4,
 "nbformat_minor": 0
}
