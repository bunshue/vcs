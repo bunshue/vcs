{
 "cells": [
  {
   "cell_type": "markdown",
   "metadata": {},
   "source": [
    "# Speeding up Numpy and Pandas using `numexpr` and `pd.eval`\n",
    "## Dr. Tirthajyoti Sarkar, Fremont, CA"
   ]
  },
  {
   "cell_type": "code",
   "execution_count": 1,
   "metadata": {},
   "outputs": [],
   "source": [
    "import numpy as np\n",
    "import numexpr as ne\n",
    "import pandas as pd\n",
    "import matplotlib.pyplot as plt"
   ]
  },
  {
   "cell_type": "markdown",
   "metadata": {},
   "source": [
    "## A simple vector-scalar addition"
   ]
  },
  {
   "cell_type": "code",
   "execution_count": 2,
   "metadata": {},
   "outputs": [],
   "source": [
    "a = np.arange(1e6)\n",
    "b = np.arange(1e6)"
   ]
  },
  {
   "cell_type": "code",
   "execution_count": 3,
   "metadata": {},
   "outputs": [
    {
     "name": "stdout",
     "output_type": "stream",
     "text": [
      "3.55 ms ± 52.1 µs per loop (mean ± std. dev. of 10 runs, 200 loops each)\n"
     ]
    }
   ],
   "source": [
    "%%timeit -n200 -r10\n",
    "c = a+1"
   ]
  },
  {
   "cell_type": "code",
   "execution_count": 4,
   "metadata": {},
   "outputs": [
    {
     "name": "stdout",
     "output_type": "stream",
     "text": [
      "1.94 ms ± 86.5 µs per loop (mean ± std. dev. of 10 runs, 200 loops each)\n"
     ]
    }
   ],
   "source": [
    "%%timeit -n200 -r10\n",
    "c = ne.evaluate(\"a + 1\")"
   ]
  },
  {
   "cell_type": "markdown",
   "metadata": {},
   "source": [
    "## Arithmatic operation involving two arrays"
   ]
  },
  {
   "cell_type": "code",
   "execution_count": 5,
   "metadata": {},
   "outputs": [
    {
     "name": "stdout",
     "output_type": "stream",
     "text": [
      "11.7 ms ± 177 µs per loop (mean ± std. dev. of 10 runs, 100 loops each)\n"
     ]
    }
   ],
   "source": [
    "%%timeit -n100 -r10\n",
    "c = 2*a+3*b"
   ]
  },
  {
   "cell_type": "code",
   "execution_count": 6,
   "metadata": {},
   "outputs": [
    {
     "name": "stdout",
     "output_type": "stream",
     "text": [
      "2.14 ms ± 130 µs per loop (mean ± std. dev. of 10 runs, 100 loops each)\n"
     ]
    }
   ],
   "source": [
    "%%timeit -n100 -r10\n",
    "c = ne.evaluate(\"2*a+3*b\")"
   ]
  },
  {
   "cell_type": "markdown",
   "metadata": {},
   "source": [
    "## More complicated operation involving more arrays\n",
    "\n",
    "Evaluate,\n",
    "\n",
    "$$c = \\frac{a_1^2+2a_2+(3/a_3)}{\\sqrt{a_4^2+a_5^2}}$$"
   ]
  },
  {
   "cell_type": "code",
   "execution_count": 56,
   "metadata": {},
   "outputs": [],
   "source": [
    "a = np.random.normal(size=(1000000,5))\n",
    "a1,a2,a3,a4,a5 = a[:,0],a[:,1],a[:,2],a[:,3],a[:,4]"
   ]
  },
  {
   "cell_type": "code",
   "execution_count": 59,
   "metadata": {},
   "outputs": [
    {
     "name": "stdout",
     "output_type": "stream",
     "text": [
      "47 ms ± 220 µs per loop (mean ± std. dev. of 10 runs, 100 loops each)\n"
     ]
    }
   ],
   "source": [
    "%%timeit -n100 -r10\n",
    "c = (a1**2+2*a2+(3/a3))/(np.sqrt(a4**2+a5**2))"
   ]
  },
  {
   "cell_type": "code",
   "execution_count": 60,
   "metadata": {},
   "outputs": [
    {
     "name": "stdout",
     "output_type": "stream",
     "text": [
      "3.96 ms ± 218 µs per loop (mean ± std. dev. of 10 runs, 100 loops each)\n"
     ]
    }
   ],
   "source": [
    "%%timeit -n100 -r10\n",
    "ne.evaluate(\"(a1**2+2*a2+(3/a3))/(sqrt(a4**2+a5**2))\")"
   ]
  },
  {
   "cell_type": "markdown",
   "metadata": {},
   "source": [
    "## Expression involving a conditional (boolean filtering)"
   ]
  },
  {
   "cell_type": "code",
   "execution_count": 61,
   "metadata": {},
   "outputs": [],
   "source": [
    "x1 = np.random.random(1000000)\n",
    "x2 = np.random.random(1000000)\n",
    "y1 = np.random.random(1000000)\n",
    "y2 = np.random.random(1000000)"
   ]
  },
  {
   "cell_type": "code",
   "execution_count": 62,
   "metadata": {},
   "outputs": [
    {
     "name": "stdout",
     "output_type": "stream",
     "text": [
      "23.2 ms ± 143 µs per loop (mean ± std. dev. of 10 runs, 100 loops each)\n"
     ]
    }
   ],
   "source": [
    "%%timeit -n100 -r10\n",
    "c = np.sqrt((x1-x2)**2+(y1-y2)**2) > 0.5"
   ]
  },
  {
   "cell_type": "code",
   "execution_count": 63,
   "metadata": {},
   "outputs": [
    {
     "name": "stdout",
     "output_type": "stream",
     "text": [
      "1.86 ms ± 112 µs per loop (mean ± std. dev. of 10 runs, 100 loops each)\n"
     ]
    }
   ],
   "source": [
    "%%timeit -n100 -r10\n",
    "c = ne.evaluate(\"sqrt((x1-x2)**2+(y1-y2)**2) > 0.5\")"
   ]
  },
  {
   "cell_type": "code",
   "execution_count": 10,
   "metadata": {},
   "outputs": [
    {
     "name": "stdout",
     "output_type": "stream",
     "text": [
      "763 µs ± 85.4 µs per loop (mean ± std. dev. of 10 runs, 100 loops each)\n"
     ]
    }
   ],
   "source": [
    "%%timeit -n100 -r10\n",
    "c = ne.evaluate(\"2*a+3*b > 3.5\",optimization='moderate')"
   ]
  },
  {
   "cell_type": "markdown",
   "metadata": {},
   "source": [
    "## Expression involving complex numbers"
   ]
  },
  {
   "cell_type": "code",
   "execution_count": 64,
   "metadata": {},
   "outputs": [],
   "source": [
    "a = np.random.random(1000000)\n",
    "b = np.random.random(1000000)"
   ]
  },
  {
   "cell_type": "code",
   "execution_count": 65,
   "metadata": {},
   "outputs": [],
   "source": [
    "cplx = a + b*1j"
   ]
  },
  {
   "cell_type": "code",
   "execution_count": 66,
   "metadata": {},
   "outputs": [
    {
     "name": "stdout",
     "output_type": "stream",
     "text": [
      "55.9 ms ± 159 µs per loop (mean ± std. dev. of 10 runs, 100 loops each)\n"
     ]
    }
   ],
   "source": [
    "%%timeit -n100 -r10\n",
    "c = np.log10(cplx)"
   ]
  },
  {
   "cell_type": "code",
   "execution_count": 67,
   "metadata": {},
   "outputs": [
    {
     "name": "stdout",
     "output_type": "stream",
     "text": [
      "9.9 ms ± 117 µs per loop (mean ± std. dev. of 10 runs, 100 loops each)\n"
     ]
    }
   ],
   "source": [
    "%%timeit -n100 -r10\n",
    "c = ne.evaluate(\"log10(cplx)\")"
   ]
  },
  {
   "cell_type": "markdown",
   "metadata": {},
   "source": [
    "## How the array size impacts the speed improvement"
   ]
  },
  {
   "cell_type": "code",
   "execution_count": 15,
   "metadata": {},
   "outputs": [],
   "source": [
    "from time import time"
   ]
  },
  {
   "cell_type": "code",
   "execution_count": 16,
   "metadata": {},
   "outputs": [],
   "source": [
    "result_np = {'Size':[],'Time':[]}\n",
    "for i in [int(10**(j/5)) for j in range(25,40)]:\n",
    "    a = np.random.random(size=i)\n",
    "    b = np.random.random(size=i)\n",
    "    times = [0]*10\n",
    "    for j in range(10):\n",
    "        t1 = time()\n",
    "        c = (2*a+3*b > 3.5)\n",
    "        t2 = time()\n",
    "        times[j]=(t2-t1)*1000\n",
    "    times = np.array(times)\n",
    "    result_np['Size'].append(i)\n",
    "    result_np['Time'].append(times.mean())"
   ]
  },
  {
   "cell_type": "code",
   "execution_count": 17,
   "metadata": {},
   "outputs": [],
   "source": [
    "result_ne = {'Size':[],'Time':[]}\n",
    "for i in [int(10**(j/5)) for j in range(25,40)]:\n",
    "    a = np.random.random(size=i)\n",
    "    b = np.random.random(size=i)\n",
    "    times = [0]*10\n",
    "    for j in range(10):\n",
    "        t1 = time()\n",
    "        c = ne.evaluate(\"2*a+3*b > 3.5\")\n",
    "        t2 = time()\n",
    "        times[j]=(t2-t1)*1000\n",
    "    times = np.array(times)\n",
    "    result_ne['Size'].append(i)\n",
    "    result_ne['Time'].append(times.mean()) "
   ]
  },
  {
   "cell_type": "code",
   "execution_count": 26,
   "metadata": {},
   "outputs": [],
   "source": [
    "def speed_benchmark(result1,result2,leg_text):\n",
    "    \"\"\"\n",
    "    Plots timing results\n",
    "    \"\"\"\n",
    "    plt.semilogx(result1['Size'],result1['Time'],c='blue',marker='o')\n",
    "    plt.semilogx(result2['Size'],result2['Time'],c='k',marker='^')\n",
    "    plt.grid(True)\n",
    "    plt.legend(leg_text,fontsize=14)\n",
    "    plt.xticks(fontsize=13)\n",
    "    plt.yticks(fontsize=13)\n",
    "    plt.xlabel('Number of elements in the array',fontsize=15)\n",
    "    plt.ylabel(\"Time (milliseconds)\",fontsize=15)\n",
    "    plt.show()"
   ]
  },
  {
   "cell_type": "code",
   "execution_count": 27,
   "metadata": {},
   "outputs": [
    {
     "data": {
      "image/png": "[encoded data removed]",
      "text/plain": [
       "<Figure size 432x288 with 1 Axes>"
      ]
     },
     "metadata": {
      "needs_background": "light"
     },
     "output_type": "display_data"
    }
   ],
   "source": [
    "speed_benchmark(result_np,result_ne,leg_text=['Just NumPy','With numexpr'])"
   ]
  },
  {
   "cell_type": "markdown",
   "metadata": {},
   "source": [
    "## Pandas `pd.eval`"
   ]
  },
  {
   "cell_type": "code",
   "execution_count": 46,
   "metadata": {},
   "outputs": [],
   "source": [
    "nrows, ncols = 50000, 100"
   ]
  },
  {
   "cell_type": "code",
   "execution_count": 47,
   "metadata": {},
   "outputs": [],
   "source": [
    "df1, df2, df3, df4 = [pd.DataFrame(np.random.randn(nrows, ncols)) for _ in range(4)]"
   ]
  },
  {
   "cell_type": "code",
   "execution_count": 50,
   "metadata": {},
   "outputs": [
    {
     "name": "stdout",
     "output_type": "stream",
     "text": [
      "55.8 ms ± 1.8 ms per loop (mean ± std. dev. of 10 runs, 20 loops each)\n"
     ]
    }
   ],
   "source": [
    "%%timeit -n20 -r10\n",
    "c=2*df1 - (df2/2) + (df3/df4)"
   ]
  },
  {
   "cell_type": "code",
   "execution_count": 51,
   "metadata": {},
   "outputs": [
    {
     "name": "stdout",
     "output_type": "stream",
     "text": [
      "17.3 ms ± 539 µs per loop (mean ± std. dev. of 10 runs, 20 loops each)\n"
     ]
    }
   ],
   "source": [
    "%%timeit -n20 -r10\n",
    "pd.eval('2*df1 - (df2/2) + (df3/df4)')"
   ]
  },
  {
   "cell_type": "markdown",
   "metadata": {},
   "source": [
    "## How the DataFrame size impacts the speed"
   ]
  },
  {
   "cell_type": "code",
   "execution_count": 43,
   "metadata": {},
   "outputs": [],
   "source": [
    "ncols=100\n",
    "result_no_eval = {'Size':[],'Time':[]}\n",
    "for i in [int(10**(j/5)) for j in range(15,32)]:\n",
    "    df1, df2, df3, df4 = [pd.DataFrame(np.random.randn(i, ncols)) for _ in range(4)]\n",
    "    times = [0]*10\n",
    "    for j in range(10):\n",
    "        t1 = time()\n",
    "        c = df1+df2+df3+df4\n",
    "        t2 = time()\n",
    "        times[j]=(t2-t1)*1000\n",
    "    times = np.array(times)\n",
    "    result_no_eval['Size'].append(i)\n",
    "    result_no_eval['Time'].append(times.mean())"
   ]
  },
  {
   "cell_type": "code",
   "execution_count": 44,
   "metadata": {},
   "outputs": [],
   "source": [
    "ncols=100\n",
    "result_eval = {'Size':[],'Time':[]}\n",
    "for i in [int(10**(j/5)) for j in range(15,32)]:\n",
    "    df1, df2, df3, df4 = [pd.DataFrame(np.random.randn(i, ncols)) for _ in range(4)]\n",
    "    times = [0]*10\n",
    "    for j in range(10):\n",
    "        t1 = time()\n",
    "        c = ne.evaluate(\"df1+df2+df3+df4\")\n",
    "        t2 = time()\n",
    "        times[j]=(t2-t1)*1000\n",
    "    times = np.array(times)\n",
    "    result_eval['Size'].append(i)\n",
    "    result_eval['Time'].append(times.mean())"
   ]
  },
  {
   "cell_type": "code",
   "execution_count": 38,
   "metadata": {},
   "outputs": [],
   "source": [
    "def speed_benchmark_pd(result1,result2,leg_text):\n",
    "    \"\"\"\n",
    "    Plots timing results\n",
    "    \"\"\"\n",
    "    plt.semilogx(result1['Size'],result1['Time'],c='blue',marker='o')\n",
    "    plt.semilogx(result2['Size'],result2['Time'],c='k',marker='^')\n",
    "    plt.grid(True)\n",
    "    plt.legend(leg_text,fontsize=14)\n",
    "    plt.xticks(fontsize=13)\n",
    "    plt.yticks(fontsize=13)\n",
    "    plt.xlabel('Number of rows in the DataFrame',fontsize=15)\n",
    "    plt.ylabel(\"Time (milliseconds)\",fontsize=15)\n",
    "    plt.show()"
   ]
  },
  {
   "cell_type": "code",
   "execution_count": 45,
   "metadata": {},
   "outputs": [
    {
     "data": {
      "image/png": "[encoded data removed]",
      "text/plain": [
       "<Figure size 432x288 with 1 Axes>"
      ]
     },
     "metadata": {
      "needs_background": "light"
     },
     "output_type": "display_data"
    }
   ],
   "source": [
    "speed_benchmark_pd(result_no_eval,result_eval,\n",
    "                   leg_text=['Normal boring Pandas','With pd.eval'])"
   ]
  },
  {
   "cell_type": "code",
   "execution_count": null,
   "metadata": {},
   "outputs": [],
   "source": []
  }
 ],
 "metadata": {
  "kernelspec": {
   "display_name": "Python 3",
   "language": "python",
   "name": "python3"
  },
  "language_info": {
   "codemirror_mode": {
    "name": "ipython",
    "version": 3
   },
   "file_extension": ".py",
   "mimetype": "text/x-python",
   "name": "python",
   "nbconvert_exporter": "python",
   "pygments_lexer": "ipython3",
   "version": "3.7.0"
  }
 },
 "nbformat": 4,
 "nbformat_minor": 4
}
