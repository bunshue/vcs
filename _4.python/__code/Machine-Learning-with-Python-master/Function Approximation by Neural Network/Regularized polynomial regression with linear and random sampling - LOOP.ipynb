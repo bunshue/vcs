{
 "cells": [
  {
   "cell_type": "markdown",
   "metadata": {},
   "source": [
    "# Ridge/LASSO polynomial regression with linear and random sampling\n",
    "* Input variable space is constructed using random sampling/cluster pick/uniform sampling\n",
    "* Linear fit is often inadequate but higher-order polynomial fits often leads to overfitting i.e. learns spurious, flawed relationships between input and output\n",
    "* Ridge and LASSO regression are used with varying model complexity (degree of polynomial)\n",
    "* Model score is obtained on a test set and average score over a # of runs is compared for linear and random sampling"
   ]
  },
  {
   "cell_type": "markdown",
   "metadata": {},
   "source": [
    "### Import libraries"
   ]
  },
  {
   "cell_type": "code",
   "execution_count": 1,
   "metadata": {
    "collapsed": true
   },
   "outputs": [],
   "source": [
    "import numpy as np\n",
    "import pandas as pd\n",
    "import matplotlib.pyplot as plt\n",
    "%matplotlib inline"
   ]
  },
  {
   "cell_type": "code",
   "execution_count": 2,
   "metadata": {},
   "outputs": [],
   "source": [
    "from sklearn.linear_model import LinearRegression\n",
    "from sklearn.linear_model import LassoCV\n",
    "from sklearn.linear_model import RidgeCV\n",
    "from sklearn.preprocessing import PolynomialFeatures\n",
    "from sklearn.model_selection import train_test_split\n",
    "from sklearn.pipeline import make_pipeline"
   ]
  },
  {
   "cell_type": "markdown",
   "metadata": {},
   "source": [
    "### Global variables for the program"
   ]
  },
  {
   "cell_type": "code",
   "execution_count": 3,
   "metadata": {
    "collapsed": true
   },
   "outputs": [],
   "source": [
    "N_points = 41 # Number of points for constructing function\n",
    "x_min = 1 # Min of the range of x (feature)\n",
    "x_max = 10 # Max of the range of x (feature)\n",
    "noise_mean = 0 # Mean of the Gaussian noise adder\n",
    "noise_sd = 5 # Std.Dev of the Gaussian noise adder\n",
    "ridge_alpha = tuple([10**(x) for x in range(-4,0,1) ]) # Alpha (regularization strength) of ridge regression\n",
    "lasso_eps = 0.001\n",
    "lasso_nalpha=20\n",
    "lasso_iter=2000\n",
    "degree_min = 2\n",
    "degree_max = 8"
   ]
  },
  {
   "cell_type": "markdown",
   "metadata": {},
   "source": [
    "### Generate feature and output vector following a non-linear function\n",
    "\n",
    "$$ The\\ ground\\ truth\\ or\\ originating\\ function\\ is\\ as\\ follows:\\  $$\n",
    " \n",
    "$$ y=f(x)= x^2.sin(x).e^{-0.1x}+\\psi(x) $$\n",
    "\n",
    "$$: \\psi(x) = {\\displaystyle f(x\\;|\\;\\mu ,\\sigma ^{2})={\\frac {1}{\\sqrt {2\\pi \\sigma ^{2}}}}\\;e^{-{\\frac {(x-\\mu )^{2}}{2\\sigma ^{2}}}}} $$"
   ]
  },
  {
   "cell_type": "code",
   "execution_count": 4,
   "metadata": {
    "collapsed": true
   },
   "outputs": [],
   "source": [
    "def func(x):\n",
    "    result = x**2*np.sin(x)*np.exp(-(1/x_max)*x)\n",
    "    return (result)\n",
    "\n",
    "noise_x = np.random.normal(loc=noise_mean,scale=noise_sd,size=N_points)"
   ]
  },
  {
   "cell_type": "code",
   "execution_count": 5,
   "metadata": {
    "scrolled": false
   },
   "outputs": [
    {
     "name": "stdout",
     "output_type": "stream",
     "text": [
      "Run # 1 finished\n",
      "Run # 2 finished\n",
      "Run # 3 finished\n",
      "Run # 4 finished\n",
      "Run # 5 finished\n",
      "Run # 6 finished\n",
      "Run # 7 finished\n",
      "Run # 8 finished\n",
      "Run # 9 finished\n",
      "Run # 10 finished\n",
      "Run # 11 finished\n",
      "Run # 12 finished\n",
      "Run # 13 finished\n",
      "Run # 14 finished\n",
      "Run # 15 finished\n",
      "Run # 16 finished\n",
      "Run # 17 finished\n",
      "Run # 18 finished\n",
      "Run # 19 finished\n",
      "Run # 20 finished\n",
      "Run # 21 finished\n",
      "Run # 22 finished\n",
      "Run # 23 finished\n",
      "Run # 24 finished\n",
      "Run # 25 finished\n",
      "Run # 26 finished\n",
      "Run # 27 finished\n",
      "Run # 28 finished\n",
      "Run # 29 finished\n",
      "Run # 30 finished\n",
      "Run # 31 finished\n",
      "Run # 32 finished\n",
      "Run # 33 finished\n",
      "Run # 34 finished\n",
      "Run # 35 finished\n",
      "Run # 36 finished\n",
      "Run # 37 finished\n",
      "Run # 38 finished\n",
      "Run # 39 finished\n",
      "Run # 40 finished\n",
      "Run # 41 finished\n",
      "Run # 42 finished\n",
      "Run # 43 finished\n",
      "Run # 44 finished\n",
      "Run # 45 finished\n",
      "Run # 46 finished\n",
      "Run # 47 finished\n",
      "Run # 48 finished\n",
      "Run # 49 finished\n",
      "Run # 50 finished\n"
     ]
    }
   ],
   "source": [
    "var_linear =[]\n",
    "var_random =[]\n",
    "mean_linear =[]\n",
    "mean_random =[]\n",
    "dfs = []\n",
    "\n",
    "for i in range(50):\n",
    "    \n",
    "    #x_smooth = np.array(np.linspace(x_min,x_max,1001))\n",
    "    # Linearly spaced sample points\n",
    "    X=np.array(np.linspace(x_min,x_max,N_points))\n",
    "    # Samples drawn from uniform random distribution\n",
    "    X_sample = x_min+np.random.rand(N_points)*(x_max-x_min)\n",
    "    #noise_x = np.random.normal(loc=noise_mean,scale=noise_sd,size=N_points)\n",
    "\n",
    "    y = func(X)+noise_x\n",
    "    y_sampled = func(X_sample)+noise_x\n",
    "\n",
    "    df = pd.DataFrame(data=X,columns=['X'])\n",
    "    df['Ideal y']=df['X'].apply(func)\n",
    "    df['y']=y\n",
    "    df['X_sampled']=X_sample\n",
    "    df['y_sampled']=y_sampled\n",
    "\n",
    "    X_train, X_test, y_train, y_test = train_test_split(df['X'], df['y'], test_size=0.33)\n",
    "    X_train=X_train.values.reshape(-1,1)\n",
    "    X_test=X_test.values.reshape(-1,1)\n",
    "\n",
    "    linear_sample_score = []\n",
    "    poly_degree = []\n",
    "    for degree in range(degree_min,degree_max+1):\n",
    "        model = make_pipeline(PolynomialFeatures(degree), RidgeCV(alphas=ridge_alpha,normalize=True,\n",
    "                                                                  cv=5))\n",
    "        #model = make_pipeline(PolynomialFeatures(degree), LassoCV(eps=lasso_eps,n_alphas=lasso_nalpha, \n",
    "                                                                  #max_iter=lasso_iter,normalize=True,cv=5))\n",
    "        #model = make_pipeline(PolynomialFeatures(degree), LinearRegression(normalize=True))\n",
    "        model.fit(X_train, y_train)\n",
    "        y_pred = np.array(model.predict(X_train))\n",
    "        test_pred = np.array(model.predict(X_test))\n",
    "        RMSE=np.sqrt(np.sum(np.square(y_pred-y_train)))\n",
    "        test_score = model.score(X_test,y_test)\n",
    "        linear_sample_score.append(test_score)\n",
    "        poly_degree.append(degree)\n",
    "    \n",
    "    var_linear.append(np.std(np.array(linear_sample_score)))\n",
    "    mean_linear.append(np.mean(np.array(linear_sample_score)))\n",
    "\n",
    "    # Modeling with randomly sampled data set\n",
    "    X_train, X_test, y_train, y_test = train_test_split(df['X_sampled'], df['y_sampled'], test_size=0.33)\n",
    "    X_train=X_train.values.reshape(-1,1)\n",
    "    X_test=X_test.values.reshape(-1,1)\n",
    "\n",
    "    random_sample_score = []\n",
    "    poly_degree = []\n",
    "    for degree in range(degree_min,degree_max+1):\n",
    "        model = make_pipeline(PolynomialFeatures(degree),RidgeCV(alphas=ridge_alpha,normalize=True,\n",
    "                                                                 cv=5))\n",
    "        #model = make_pipeline(PolynomialFeatures(degree), LassoCV(eps=lasso_eps,n_alphas=lasso_nalpha, \n",
    "                                                                  #max_iter=lasso_iter,normalize=True,cv=5))\n",
    "        #model = make_pipeline(PolynomialFeatures(degree), LinearRegression(normalize=True))\n",
    "        model.fit(X_train, y_train)\n",
    "        y_pred = np.array(model.predict(X_train))\n",
    "        test_pred = np.array(model.predict(X_test))\n",
    "        RMSE=np.sqrt(np.sum(np.square(y_pred-y_train)))\n",
    "        test_score = model.score(X_test,y_test)\n",
    "        random_sample_score.append(test_score)\n",
    "        poly_degree.append(degree)\n",
    "    \n",
    "    var_random.append(np.std(np.array(random_sample_score)))\n",
    "    mean_random.append(np.mean(np.array(random_sample_score)))\n",
    "\n",
    "    df_score = pd.DataFrame(data={'degree':[d for d in range(degree_min,degree_max+1)],\n",
    "                                  'Linear sample score':linear_sample_score,\n",
    "                                  'Random sample score':random_sample_score})\n",
    "    dfs.append(df_score)\n",
    "    #print(df_score)\n",
    "    #print(\"\\n\")\n",
    "    print (\"Run # {} finished\".format(i+1))"
   ]
  },
  {
   "cell_type": "markdown",
   "metadata": {},
   "source": [
    "max_var = max(np.max(var_linear),np.max(var_random))\n",
    "min_mean = min(np.min(mean_linear),np.min(mean_random))\n",
    "\n",
    "plt.figure()\n",
    "plt.xlim((0.0,max_var+0.05))\n",
    "plt.ylim((0.0,max_var+0.05))\n",
    "plt.xlabel(\"Variation of linearly sampled score\")\n",
    "plt.ylabel(\"Variation of randomly sampled score\")\n",
    "plt.scatter(var_linear,var_random)\n",
    "\n",
    "plt.figure()\n",
    "plt.xlim((min_mean-0.05,1.0))\n",
    "plt.ylim((min_mean-0.05,1.0))\n",
    "plt.xlabel(\"Mean of linearly sampled score\")\n",
    "plt.ylabel(\"Mean of randomly sampled score\")\n",
    "plt.scatter(mean_linear,mean_random)"
   ]
  },
  {
   "cell_type": "code",
   "execution_count": 6,
   "metadata": {},
   "outputs": [],
   "source": [
    "df1=pd.concat(dfs)"
   ]
  },
  {
   "cell_type": "code",
   "execution_count": 7,
   "metadata": {
    "scrolled": false
   },
   "outputs": [
    {
     "data": {
      "image/png": "[encoded data removed]",
      "text/plain": [
       "<matplotlib.figure.Figure at 0x213cd0da9b0>"
      ]
     },
     "metadata": {},
     "output_type": "display_data"
    }
   ],
   "source": [
    "rand = []\n",
    "lin = []\n",
    "for i in range(degree_max+1-degree_min):\n",
    "    rand.append(df1.loc[i]['Random sample score'].mean())\n",
    "    lin.append(df1.loc[i]['Linear sample score'].mean())\n",
    "\n",
    "plt.figure(figsize=(8,5))\n",
    "plt.plot(range(degree_min, degree_max+1),lin)\n",
    "plt.plot(range(degree_min, degree_max+1),rand)\n",
    "plt.xlabel(\"Model complexity (degree of polynomial)\")\n",
    "plt.ylabel(\"Model score on test set\")\n",
    "plt.legend(['Linear sampling method','Random sampling method'])\n",
    "plt.grid(True)"
   ]
  }
 ],
 "metadata": {
  "kernelspec": {
   "display_name": "Python 3",
   "language": "python",
   "name": "python3"
  },
  "language_info": {
   "codemirror_mode": {
    "name": "ipython",
    "version": 3
   },
   "file_extension": ".py",
   "mimetype": "text/x-python",
   "name": "python",
   "nbconvert_exporter": "python",
   "pygments_lexer": "ipython3",
   "version": "3.6.2"
  }
 },
 "nbformat": 4,
 "nbformat_minor": 2
}
