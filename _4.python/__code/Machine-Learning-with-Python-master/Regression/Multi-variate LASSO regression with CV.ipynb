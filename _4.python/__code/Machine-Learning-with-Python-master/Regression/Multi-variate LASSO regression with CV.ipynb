{
 "cells": [
  {
   "cell_type": "markdown",
   "metadata": {},
   "source": [
    "# Multi-variate Rregression Metamodel with DOE based on random sampling\n",
    "* Input variable space should be constructed using random sampling, not classical factorial DOE\n",
    "* Linear fit is often inadequate but higher-order polynomial fits often leads to overfitting i.e. learns spurious, flawed relationships between input and output\n",
    "* R-square fit can often be misleding measure in case of high-dimensional regression\n",
    "* Metamodel can be constructed by selectively discovering features (or their combination) which matter and shrinking other high-order terms towards zero\n",
    "\n",
    "#### LASSO: Least Absolute Shrinkage and Selection Operator\n",
    "$$ {\\displaystyle \\min _{\\beta _{0},\\beta }\\left\\{{\\frac {1}{N}}\\sum _{i=1}^{N}(y_{i}-\\beta _{0}-x_{i}^{T}\\beta )^{2}\\right\\}{\\text{ subject to }}\\sum _{j=1}^{p}|\\beta _{j}|\\leq t.} $$"
   ]
  },
  {
   "cell_type": "markdown",
   "metadata": {},
   "source": [
    "### Import libraries"
   ]
  },
  {
   "cell_type": "code",
   "execution_count": 77,
   "metadata": {
    "collapsed": true
   },
   "outputs": [],
   "source": [
    "import numpy as np\n",
    "import pandas as pd\n",
    "import matplotlib.pyplot as plt\n",
    "%matplotlib inline"
   ]
  },
  {
   "cell_type": "markdown",
   "metadata": {},
   "source": [
    "### Generate random (equivalent to Latin Hypercube sampling done in Optislang) feature vectors"
   ]
  },
  {
   "cell_type": "code",
   "execution_count": 78,
   "metadata": {
    "collapsed": true
   },
   "outputs": [],
   "source": [
    "X=np.array(10*np.random.randn(37,5))"
   ]
  },
  {
   "cell_type": "code",
   "execution_count": 79,
   "metadata": {
    "collapsed": true
   },
   "outputs": [],
   "source": [
    "df=pd.DataFrame(X,columns=['Feature'+str(l) for l in range(1,6)])"
   ]
  },
  {
   "cell_type": "code",
   "execution_count": 80,
   "metadata": {},
   "outputs": [
    {
     "data": {
      "text/html": [
       "<div>\n",
       "<style>\n",
       "    .dataframe thead tr:only-child th {\n",
       "        text-align: right;\n",
       "    }\n",
       "\n",
       "    .dataframe thead th {\n",
       "        text-align: left;\n",
       "    }\n",
       "\n",
       "    .dataframe tbody tr th {\n",
       "        vertical-align: top;\n",
       "    }\n",
       "</style>\n",
       "<table border=\"1\" class=\"dataframe\">\n",
       "  <thead>\n",
       "    <tr style=\"text-align: right;\">\n",
       "      <th></th>\n",
       "      <th>Feature1</th>\n",
       "      <th>Feature2</th>\n",
       "      <th>Feature3</th>\n",
       "      <th>Feature4</th>\n",
       "      <th>Feature5</th>\n",
       "    </tr>\n",
       "  </thead>\n",
       "  <tbody>\n",
       "    <tr>\n",
       "      <th>0</th>\n",
       "      <td>-15.453597</td>\n",
       "      <td>-17.805068</td>\n",
       "      <td>24.016184</td>\n",
       "      <td>-10.495994</td>\n",
       "      <td>-5.722487</td>\n",
       "    </tr>\n",
       "    <tr>\n",
       "      <th>1</th>\n",
       "      <td>-21.221785</td>\n",
       "      <td>-11.447068</td>\n",
       "      <td>3.759493</td>\n",
       "      <td>0.348747</td>\n",
       "      <td>-12.695441</td>\n",
       "    </tr>\n",
       "    <tr>\n",
       "      <th>2</th>\n",
       "      <td>13.695024</td>\n",
       "      <td>7.178703</td>\n",
       "      <td>19.250129</td>\n",
       "      <td>-9.773332</td>\n",
       "      <td>-0.195619</td>\n",
       "    </tr>\n",
       "    <tr>\n",
       "      <th>3</th>\n",
       "      <td>19.766801</td>\n",
       "      <td>11.073039</td>\n",
       "      <td>1.034897</td>\n",
       "      <td>9.889190</td>\n",
       "      <td>0.091331</td>\n",
       "    </tr>\n",
       "    <tr>\n",
       "      <th>4</th>\n",
       "      <td>-5.338243</td>\n",
       "      <td>13.330948</td>\n",
       "      <td>-4.877764</td>\n",
       "      <td>0.574421</td>\n",
       "      <td>8.255401</td>\n",
       "    </tr>\n",
       "  </tbody>\n",
       "</table>\n",
       "</div>"
      ],
      "text/plain": [
       "    Feature1   Feature2   Feature3   Feature4   Feature5\n",
       "0 -15.453597 -17.805068  24.016184 -10.495994  -5.722487\n",
       "1 -21.221785 -11.447068   3.759493   0.348747 -12.695441\n",
       "2  13.695024   7.178703  19.250129  -9.773332  -0.195619\n",
       "3  19.766801  11.073039   1.034897   9.889190   0.091331\n",
       "4  -5.338243  13.330948  -4.877764   0.574421   8.255401"
      ]
     },
     "execution_count": 80,
     "metadata": {},
     "output_type": "execute_result"
    }
   ],
   "source": [
    "df.head()"
   ]
  },
  {
   "cell_type": "markdown",
   "metadata": {},
   "source": [
    "### Plot the random distributions of input features"
   ]
  },
  {
   "cell_type": "code",
   "execution_count": 81,
   "metadata": {
    "scrolled": false
   },
   "outputs": [
    {
     "data": {
      "image/png": "[encoded data removed]",
      "text/plain": [
       "<matplotlib.figure.Figure at 0x22998dd2550>"
      ]
     },
     "metadata": {},
     "output_type": "display_data"
    },
    {
     "data": {
      "image/png": "[encoded data removed]",
      "text/plain": [
       "<matplotlib.figure.Figure at 0x2299895dd68>"
      ]
     },
     "metadata": {},
     "output_type": "display_data"
    },
    {
     "data": {
      "image/png": "[encoded data removed]",
      "text/plain": [
       "<matplotlib.figure.Figure at 0x22998e98908>"
      ]
     },
     "metadata": {},
     "output_type": "display_data"
    },
    {
     "data": {
      "image/png": "[encoded data removed]",
      "text/plain": [
       "<matplotlib.figure.Figure at 0x22998b8ac50>"
      ]
     },
     "metadata": {},
     "output_type": "display_data"
    },
    {
     "data": {
      "image/png": "[encoded data removed]",
      "text/plain": [
       "<matplotlib.figure.Figure at 0x22998d76c88>"
      ]
     },
     "metadata": {},
     "output_type": "display_data"
    }
   ],
   "source": [
    "for i in df.columns:\n",
    "    df.hist(i,bins=5,xlabelsize=15,ylabelsize=15,figsize=(8,6))"
   ]
  },
  {
   "cell_type": "markdown",
   "metadata": {},
   "source": [
    "### Generate the output variable by analytic function + Gaussian noise (our goal will be to *'learn'* this function)"
   ]
  },
  {
   "cell_type": "markdown",
   "metadata": {},
   "source": [
    "#### Let's construst the ground  truth  or  originating  function  as  follows: \n",
    " \n",
    "$$ y=f(x_1,x_2,x_3,x_4,x_5)= 5x_1^2+13x_2+0.1x_1x_3^2+2x_4x_5+0.1x_5^3+0.8x_1x_4x_5+\\psi(x)\\ :\\ \\psi(x) = {\\displaystyle f(x\\;|\\;\\mu ,\\sigma ^{2})={\\frac {1}{\\sqrt {2\\pi \\sigma ^{2}}}}\\;e^{-{\\frac {(x-\\mu )^{2}}{2\\sigma ^{2}}}}}$$"
   ]
  },
  {
   "cell_type": "code",
   "execution_count": 82,
   "metadata": {},
   "outputs": [],
   "source": [
    "df['y']=5*df['Feature1']**2+13*df['Feature2']+0.1*df['Feature3']**2*df['Feature1'] \\\n",
    "+2*df['Feature4']*df['Feature5']+0.1*df['Feature5']**3+0.8*df['Feature1']*df['Feature4']*df['Feature5'] \\\n",
    "+30*np.random.normal(loc=5,scale=2)"
   ]
  },
  {
   "cell_type": "code",
   "execution_count": 83,
   "metadata": {},
   "outputs": [
    {
     "data": {
      "text/html": [
       "<div>\n",
       "<style>\n",
       "    .dataframe thead tr:only-child th {\n",
       "        text-align: right;\n",
       "    }\n",
       "\n",
       "    .dataframe thead th {\n",
       "        text-align: left;\n",
       "    }\n",
       "\n",
       "    .dataframe tbody tr th {\n",
       "        vertical-align: top;\n",
       "    }\n",
       "</style>\n",
       "<table border=\"1\" class=\"dataframe\">\n",
       "  <thead>\n",
       "    <tr style=\"text-align: right;\">\n",
       "      <th></th>\n",
       "      <th>Feature1</th>\n",
       "      <th>Feature2</th>\n",
       "      <th>Feature3</th>\n",
       "      <th>Feature4</th>\n",
       "      <th>Feature5</th>\n",
       "      <th>y</th>\n",
       "    </tr>\n",
       "  </thead>\n",
       "  <tbody>\n",
       "    <tr>\n",
       "      <th>0</th>\n",
       "      <td>-15.453597</td>\n",
       "      <td>-17.805068</td>\n",
       "      <td>24.016184</td>\n",
       "      <td>-10.495994</td>\n",
       "      <td>-5.722487</td>\n",
       "      <td>-431.953540</td>\n",
       "    </tr>\n",
       "    <tr>\n",
       "      <th>1</th>\n",
       "      <td>-21.221785</td>\n",
       "      <td>-11.447068</td>\n",
       "      <td>3.759493</td>\n",
       "      <td>0.348747</td>\n",
       "      <td>-12.695441</td>\n",
       "      <td>2072.648112</td>\n",
       "    </tr>\n",
       "    <tr>\n",
       "      <th>2</th>\n",
       "      <td>13.695024</td>\n",
       "      <td>7.178703</td>\n",
       "      <td>19.250129</td>\n",
       "      <td>-9.773332</td>\n",
       "      <td>-0.195619</td>\n",
       "      <td>1701.292666</td>\n",
       "    </tr>\n",
       "    <tr>\n",
       "      <th>3</th>\n",
       "      <td>19.766801</td>\n",
       "      <td>11.073039</td>\n",
       "      <td>1.034897</td>\n",
       "      <td>9.889190</td>\n",
       "      <td>0.091331</td>\n",
       "      <td>2253.726636</td>\n",
       "    </tr>\n",
       "    <tr>\n",
       "      <th>4</th>\n",
       "      <td>-5.338243</td>\n",
       "      <td>13.330948</td>\n",
       "      <td>-4.877764</td>\n",
       "      <td>0.574421</td>\n",
       "      <td>8.255401</td>\n",
       "      <td>486.519017</td>\n",
       "    </tr>\n",
       "  </tbody>\n",
       "</table>\n",
       "</div>"
      ],
      "text/plain": [
       "    Feature1   Feature2   Feature3   Feature4   Feature5            y\n",
       "0 -15.453597 -17.805068  24.016184 -10.495994  -5.722487  -431.953540\n",
       "1 -21.221785 -11.447068   3.759493   0.348747 -12.695441  2072.648112\n",
       "2  13.695024   7.178703  19.250129  -9.773332  -0.195619  1701.292666\n",
       "3  19.766801  11.073039   1.034897   9.889190   0.091331  2253.726636\n",
       "4  -5.338243  13.330948  -4.877764   0.574421   8.255401   486.519017"
      ]
     },
     "execution_count": 83,
     "metadata": {},
     "output_type": "execute_result"
    }
   ],
   "source": [
    "df.head()"
   ]
  },
  {
   "cell_type": "markdown",
   "metadata": {},
   "source": [
    "### Plot single-variable scatterplots"
   ]
  },
  {
   "cell_type": "code",
   "execution_count": 84,
   "metadata": {
    "scrolled": false
   },
   "outputs": [
    {
     "data": {
      "image/png": "[encoded data removed]",
      "text/plain": [
       "<matplotlib.figure.Figure at 0x22998c88a90>"
      ]
     },
     "metadata": {},
     "output_type": "display_data"
    },
    {
     "data": {
      "image/png": "[encoded data removed]",
      "text/plain": [
       "<matplotlib.figure.Figure at 0x22998d9ed68>"
      ]
     },
     "metadata": {},
     "output_type": "display_data"
    },
    {
     "data": {
      "image/png": "[encoded data removed]",
      "text/plain": [
       "<matplotlib.figure.Figure at 0x22998e70f98>"
      ]
     },
     "metadata": {},
     "output_type": "display_data"
    },
    {
     "data": {
      "image/png": "[encoded data removed]",
      "text/plain": [
       "<matplotlib.figure.Figure at 0x2299898d0b8>"
      ]
     },
     "metadata": {},
     "output_type": "display_data"
    },
    {
     "data": {
      "image/png": "[encoded data removed]",
      "text/plain": [
       "<matplotlib.figure.Figure at 0x22998b87668>"
      ]
     },
     "metadata": {},
     "output_type": "display_data"
    },
    {
     "data": {
      "image/png": "[encoded data removed]",
      "text/plain": [
       "<matplotlib.figure.Figure at 0x22998929198>"
      ]
     },
     "metadata": {},
     "output_type": "display_data"
    }
   ],
   "source": [
    "for i in df.columns:\n",
    "    df.plot.scatter(i,'y', edgecolors=(0,0,0),s=50,c='g',grid=True)"
   ]
  },
  {
   "cell_type": "markdown",
   "metadata": {},
   "source": [
    "### Standard linear regression"
   ]
  },
  {
   "cell_type": "code",
   "execution_count": 85,
   "metadata": {
    "collapsed": true
   },
   "outputs": [],
   "source": [
    "from sklearn.linear_model import LinearRegression"
   ]
  },
  {
   "cell_type": "code",
   "execution_count": 86,
   "metadata": {
    "collapsed": true
   },
   "outputs": [],
   "source": [
    "linear_model = LinearRegression(normalize=True)"
   ]
  },
  {
   "cell_type": "code",
   "execution_count": 87,
   "metadata": {
    "collapsed": true
   },
   "outputs": [],
   "source": [
    "X_linear=df.drop('y',axis=1)\n",
    "y_linear=df['y']"
   ]
  },
  {
   "cell_type": "code",
   "execution_count": 88,
   "metadata": {},
   "outputs": [
    {
     "data": {
      "text/plain": [
       "LinearRegression(copy_X=True, fit_intercept=True, n_jobs=1, normalize=True)"
      ]
     },
     "execution_count": 88,
     "metadata": {},
     "output_type": "execute_result"
    }
   ],
   "source": [
    "linear_model.fit(X_linear,y_linear)"
   ]
  },
  {
   "cell_type": "code",
   "execution_count": 89,
   "metadata": {
    "collapsed": true
   },
   "outputs": [],
   "source": [
    "y_pred_linear = linear_model.predict(X_linear)"
   ]
  },
  {
   "cell_type": "markdown",
   "metadata": {},
   "source": [
    "### R-square of simple linear fit is very bad, coefficients have no meaning i.e. we did not 'learn' the function"
   ]
  },
  {
   "cell_type": "code",
   "execution_count": 90,
   "metadata": {
    "collapsed": true
   },
   "outputs": [],
   "source": [
    "RMSE_linear = np.sqrt(np.sum(np.square(y_pred_linear-y_linear)))"
   ]
  },
  {
   "cell_type": "code",
   "execution_count": 91,
   "metadata": {},
   "outputs": [
    {
     "name": "stdout",
     "output_type": "stream",
     "text": [
      "Root-mean-square error of linear model: 4838.87696595\n"
     ]
    }
   ],
   "source": [
    "print(\"Root-mean-square error of linear model:\",RMSE_linear)"
   ]
  },
  {
   "cell_type": "code",
   "execution_count": 92,
   "metadata": {},
   "outputs": [
    {
     "data": {
      "text/html": [
       "<div>\n",
       "<style>\n",
       "    .dataframe thead tr:only-child th {\n",
       "        text-align: right;\n",
       "    }\n",
       "\n",
       "    .dataframe thead th {\n",
       "        text-align: left;\n",
       "    }\n",
       "\n",
       "    .dataframe tbody tr th {\n",
       "        vertical-align: top;\n",
       "    }\n",
       "</style>\n",
       "<table border=\"1\" class=\"dataframe\">\n",
       "  <thead>\n",
       "    <tr style=\"text-align: right;\">\n",
       "      <th></th>\n",
       "      <th>Linear model coefficients</th>\n",
       "    </tr>\n",
       "  </thead>\n",
       "  <tbody>\n",
       "    <tr>\n",
       "      <th>Feature1</th>\n",
       "      <td>9.172156</td>\n",
       "    </tr>\n",
       "    <tr>\n",
       "      <th>Feature2</th>\n",
       "      <td>-0.945568</td>\n",
       "    </tr>\n",
       "    <tr>\n",
       "      <th>Feature3</th>\n",
       "      <td>10.948377</td>\n",
       "    </tr>\n",
       "    <tr>\n",
       "      <th>Feature4</th>\n",
       "      <td>45.069370</td>\n",
       "    </tr>\n",
       "    <tr>\n",
       "      <th>Feature5</th>\n",
       "      <td>52.445902</td>\n",
       "    </tr>\n",
       "  </tbody>\n",
       "</table>\n",
       "</div>"
      ],
      "text/plain": [
       "          Linear model coefficients\n",
       "Feature1                   9.172156\n",
       "Feature2                  -0.945568\n",
       "Feature3                  10.948377\n",
       "Feature4                  45.069370\n",
       "Feature5                  52.445902"
      ]
     },
     "execution_count": 92,
     "metadata": {},
     "output_type": "execute_result"
    }
   ],
   "source": [
    "coeff_linear = pd.DataFrame(linear_model.coef_,index=df.drop('y',axis=1).columns, columns=['Linear model coefficients'])\n",
    "coeff_linear"
   ]
  },
  {
   "cell_type": "code",
   "execution_count": 93,
   "metadata": {},
   "outputs": [
    {
     "name": "stdout",
     "output_type": "stream",
     "text": [
      "R2 value of linear model: 0.347548929728\n"
     ]
    }
   ],
   "source": [
    "print (\"R2 value of linear model:\",linear_model.score(X_linear,y_linear))"
   ]
  },
  {
   "cell_type": "code",
   "execution_count": 94,
   "metadata": {},
   "outputs": [
    {
     "data": {
      "text/plain": [
       "[<matplotlib.lines.Line2D at 0x229989a3d68>]"
      ]
     },
     "execution_count": 94,
     "metadata": {},
     "output_type": "execute_result"
    },
    {
     "data": {
      "image/png": "[encoded data removed]",
      "text/plain": [
       "<matplotlib.figure.Figure at 0x22998b91be0>"
      ]
     },
     "metadata": {},
     "output_type": "display_data"
    }
   ],
   "source": [
    "plt.figure(figsize=(12,8))\n",
    "plt.xlabel(\"Predicted value with linear fit\",fontsize=20)\n",
    "plt.ylabel(\"Actual y-values\",fontsize=20)\n",
    "plt.grid(1)\n",
    "plt.scatter(y_pred_linear,y_linear,edgecolors=(0,0,0),lw=2,s=80)\n",
    "plt.plot(y_pred_linear,y_pred_linear, 'k--', lw=2)"
   ]
  },
  {
   "cell_type": "markdown",
   "metadata": {},
   "source": [
    "### Create polynomial features"
   ]
  },
  {
   "cell_type": "code",
   "execution_count": 95,
   "metadata": {
    "collapsed": true
   },
   "outputs": [],
   "source": [
    "from sklearn.preprocessing import PolynomialFeatures"
   ]
  },
  {
   "cell_type": "code",
   "execution_count": 96,
   "metadata": {
    "collapsed": true
   },
   "outputs": [],
   "source": [
    "poly = PolynomialFeatures(3,include_bias=False)"
   ]
  },
  {
   "cell_type": "code",
   "execution_count": 97,
   "metadata": {},
   "outputs": [
    {
     "name": "stdout",
     "output_type": "stream",
     "text": [
      "['Feature1', 'Feature2', 'Feature3', 'Feature4', 'Feature5', 'Feature1^2', 'Feature1 Feature2', 'Feature1 Feature3', 'Feature1 Feature4', 'Feature1 Feature5', 'Feature2^2', 'Feature2 Feature3', 'Feature2 Feature4', 'Feature2 Feature5', 'Feature3^2', 'Feature3 Feature4', 'Feature3 Feature5', 'Feature4^2', 'Feature4 Feature5', 'Feature5^2', 'Feature1^3', 'Feature1^2 Feature2', 'Feature1^2 Feature3', 'Feature1^2 Feature4', 'Feature1^2 Feature5', 'Feature1 Feature2^2', 'Feature1 Feature2 Feature3', 'Feature1 Feature2 Feature4', 'Feature1 Feature2 Feature5', 'Feature1 Feature3^2', 'Feature1 Feature3 Feature4', 'Feature1 Feature3 Feature5', 'Feature1 Feature4^2', 'Feature1 Feature4 Feature5', 'Feature1 Feature5^2', 'Feature2^3', 'Feature2^2 Feature3', 'Feature2^2 Feature4', 'Feature2^2 Feature5', 'Feature2 Feature3^2', 'Feature2 Feature3 Feature4', 'Feature2 Feature3 Feature5', 'Feature2 Feature4^2', 'Feature2 Feature4 Feature5', 'Feature2 Feature5^2', 'Feature3^3', 'Feature3^2 Feature4', 'Feature3^2 Feature5', 'Feature3 Feature4^2', 'Feature3 Feature4 Feature5', 'Feature3 Feature5^2', 'Feature4^3', 'Feature4^2 Feature5', 'Feature4 Feature5^2', 'Feature5^3']\n",
      "55\n"
     ]
    }
   ],
   "source": [
    "X_poly = poly.fit_transform(X)\n",
    "X_poly_feature_name = poly.get_feature_names(['Feature'+str(l) for l in range(1,6)])\n",
    "print(X_poly_feature_name)\n",
    "print(len(X_poly_feature_name))"
   ]
  },
  {
   "cell_type": "code",
   "execution_count": 98,
   "metadata": {},
   "outputs": [
    {
     "data": {
      "text/html": [
       "<div>\n",
       "<style>\n",
       "    .dataframe thead tr:only-child th {\n",
       "        text-align: right;\n",
       "    }\n",
       "\n",
       "    .dataframe thead th {\n",
       "        text-align: left;\n",
       "    }\n",
       "\n",
       "    .dataframe tbody tr th {\n",
       "        vertical-align: top;\n",
       "    }\n",
       "</style>\n",
       "<table border=\"1\" class=\"dataframe\">\n",
       "  <thead>\n",
       "    <tr style=\"text-align: right;\">\n",
       "      <th></th>\n",
       "      <th>Feature1</th>\n",
       "      <th>Feature2</th>\n",
       "      <th>Feature3</th>\n",
       "      <th>Feature4</th>\n",
       "      <th>Feature5</th>\n",
       "      <th>Feature1^2</th>\n",
       "      <th>Feature1 Feature2</th>\n",
       "      <th>Feature1 Feature3</th>\n",
       "      <th>Feature1 Feature4</th>\n",
       "      <th>Feature1 Feature5</th>\n",
       "      <th>...</th>\n",
       "      <th>Feature3^3</th>\n",
       "      <th>Feature3^2 Feature4</th>\n",
       "      <th>Feature3^2 Feature5</th>\n",
       "      <th>Feature3 Feature4^2</th>\n",
       "      <th>Feature3 Feature4 Feature5</th>\n",
       "      <th>Feature3 Feature5^2</th>\n",
       "      <th>Feature4^3</th>\n",
       "      <th>Feature4^2 Feature5</th>\n",
       "      <th>Feature4 Feature5^2</th>\n",
       "      <th>Feature5^3</th>\n",
       "    </tr>\n",
       "  </thead>\n",
       "  <tbody>\n",
       "    <tr>\n",
       "      <th>0</th>\n",
       "      <td>-15.453597</td>\n",
       "      <td>-17.805068</td>\n",
       "      <td>24.016184</td>\n",
       "      <td>-10.495994</td>\n",
       "      <td>-5.722487</td>\n",
       "      <td>238.813659</td>\n",
       "      <td>275.152347</td>\n",
       "      <td>-371.136432</td>\n",
       "      <td>162.200862</td>\n",
       "      <td>88.433008</td>\n",
       "      <td>...</td>\n",
       "      <td>13851.985264</td>\n",
       "      <td>-6053.849078</td>\n",
       "      <td>-3300.599522</td>\n",
       "      <td>2645.764341</td>\n",
       "      <td>1442.488639</td>\n",
       "      <td>786.454576</td>\n",
       "      <td>-1156.300538</td>\n",
       "      <td>-630.422885</td>\n",
       "      <td>-343.710827</td>\n",
       "      <td>-187.393471</td>\n",
       "    </tr>\n",
       "    <tr>\n",
       "      <th>1</th>\n",
       "      <td>-21.221785</td>\n",
       "      <td>-11.447068</td>\n",
       "      <td>3.759493</td>\n",
       "      <td>0.348747</td>\n",
       "      <td>-12.695441</td>\n",
       "      <td>450.364147</td>\n",
       "      <td>242.927223</td>\n",
       "      <td>-79.783161</td>\n",
       "      <td>-7.401034</td>\n",
       "      <td>269.419924</td>\n",
       "      <td>...</td>\n",
       "      <td>53.135896</td>\n",
       "      <td>4.929117</td>\n",
       "      <td>-179.434718</td>\n",
       "      <td>0.457246</td>\n",
       "      <td>-16.645146</td>\n",
       "      <td>605.933472</td>\n",
       "      <td>0.042416</td>\n",
       "      <td>-1.544076</td>\n",
       "      <td>56.209028</td>\n",
       "      <td>-2046.178007</td>\n",
       "    </tr>\n",
       "    <tr>\n",
       "      <th>2</th>\n",
       "      <td>13.695024</td>\n",
       "      <td>7.178703</td>\n",
       "      <td>19.250129</td>\n",
       "      <td>-9.773332</td>\n",
       "      <td>-0.195619</td>\n",
       "      <td>187.553677</td>\n",
       "      <td>98.312514</td>\n",
       "      <td>263.630971</td>\n",
       "      <td>-133.846016</td>\n",
       "      <td>-2.679000</td>\n",
       "      <td>...</td>\n",
       "      <td>7133.471192</td>\n",
       "      <td>-3621.678794</td>\n",
       "      <td>-72.489856</td>\n",
       "      <td>1838.734178</td>\n",
       "      <td>36.803257</td>\n",
       "      <td>0.736637</td>\n",
       "      <td>-933.529330</td>\n",
       "      <td>-18.685094</td>\n",
       "      <td>-0.373992</td>\n",
       "      <td>-0.007486</td>\n",
       "    </tr>\n",
       "    <tr>\n",
       "      <th>3</th>\n",
       "      <td>19.766801</td>\n",
       "      <td>11.073039</td>\n",
       "      <td>1.034897</td>\n",
       "      <td>9.889190</td>\n",
       "      <td>0.091331</td>\n",
       "      <td>390.726434</td>\n",
       "      <td>218.878557</td>\n",
       "      <td>20.456610</td>\n",
       "      <td>195.477657</td>\n",
       "      <td>1.805316</td>\n",
       "      <td>...</td>\n",
       "      <td>1.108388</td>\n",
       "      <td>10.591446</td>\n",
       "      <td>0.097816</td>\n",
       "      <td>101.208905</td>\n",
       "      <td>0.934705</td>\n",
       "      <td>0.008632</td>\n",
       "      <td>967.124046</td>\n",
       "      <td>8.931784</td>\n",
       "      <td>0.082489</td>\n",
       "      <td>0.000762</td>\n",
       "    </tr>\n",
       "    <tr>\n",
       "      <th>4</th>\n",
       "      <td>-5.338243</td>\n",
       "      <td>13.330948</td>\n",
       "      <td>-4.877764</td>\n",
       "      <td>0.574421</td>\n",
       "      <td>8.255401</td>\n",
       "      <td>28.496841</td>\n",
       "      <td>-71.163840</td>\n",
       "      <td>26.038690</td>\n",
       "      <td>-3.066398</td>\n",
       "      <td>-44.069336</td>\n",
       "      <td>...</td>\n",
       "      <td>-116.054593</td>\n",
       "      <td>13.666955</td>\n",
       "      <td>196.417286</td>\n",
       "      <td>-1.609464</td>\n",
       "      <td>-23.130719</td>\n",
       "      <td>-332.427601</td>\n",
       "      <td>0.189536</td>\n",
       "      <td>2.723946</td>\n",
       "      <td>39.147722</td>\n",
       "      <td>562.619066</td>\n",
       "    </tr>\n",
       "  </tbody>\n",
       "</table>\n",
       "<p>5 rows × 55 columns</p>\n",
       "</div>"
      ],
      "text/plain": [
       "    Feature1   Feature2   Feature3   Feature4   Feature5  Feature1^2  \\\n",
       "0 -15.453597 -17.805068  24.016184 -10.495994  -5.722487  238.813659   \n",
       "1 -21.221785 -11.447068   3.759493   0.348747 -12.695441  450.364147   \n",
       "2  13.695024   7.178703  19.250129  -9.773332  -0.195619  187.553677   \n",
       "3  19.766801  11.073039   1.034897   9.889190   0.091331  390.726434   \n",
       "4  -5.338243  13.330948  -4.877764   0.574421   8.255401   28.496841   \n",
       "\n",
       "   Feature1 Feature2  Feature1 Feature3  Feature1 Feature4  Feature1 Feature5  \\\n",
       "0         275.152347        -371.136432         162.200862          88.433008   \n",
       "1         242.927223         -79.783161          -7.401034         269.419924   \n",
       "2          98.312514         263.630971        -133.846016          -2.679000   \n",
       "3         218.878557          20.456610         195.477657           1.805316   \n",
       "4         -71.163840          26.038690          -3.066398         -44.069336   \n",
       "\n",
       "      ...         Feature3^3  Feature3^2 Feature4  Feature3^2 Feature5  \\\n",
       "0     ...       13851.985264         -6053.849078         -3300.599522   \n",
       "1     ...          53.135896             4.929117          -179.434718   \n",
       "2     ...        7133.471192         -3621.678794           -72.489856   \n",
       "3     ...           1.108388            10.591446             0.097816   \n",
       "4     ...        -116.054593            13.666955           196.417286   \n",
       "\n",
       "   Feature3 Feature4^2  Feature3 Feature4 Feature5  Feature3 Feature5^2  \\\n",
       "0          2645.764341                 1442.488639           786.454576   \n",
       "1             0.457246                  -16.645146           605.933472   \n",
       "2          1838.734178                   36.803257             0.736637   \n",
       "3           101.208905                    0.934705             0.008632   \n",
       "4            -1.609464                  -23.130719          -332.427601   \n",
       "\n",
       "    Feature4^3  Feature4^2 Feature5  Feature4 Feature5^2   Feature5^3  \n",
       "0 -1156.300538          -630.422885          -343.710827  -187.393471  \n",
       "1     0.042416            -1.544076            56.209028 -2046.178007  \n",
       "2  -933.529330           -18.685094            -0.373992    -0.007486  \n",
       "3   967.124046             8.931784             0.082489     0.000762  \n",
       "4     0.189536             2.723946            39.147722   562.619066  \n",
       "\n",
       "[5 rows x 55 columns]"
      ]
     },
     "execution_count": 98,
     "metadata": {},
     "output_type": "execute_result"
    }
   ],
   "source": [
    "df_poly = pd.DataFrame(X_poly, columns=X_poly_feature_name)\n",
    "df_poly.head()"
   ]
  },
  {
   "cell_type": "code",
   "execution_count": 99,
   "metadata": {},
   "outputs": [
    {
     "data": {
      "text/html": [
       "<div>\n",
       "<style>\n",
       "    .dataframe thead tr:only-child th {\n",
       "        text-align: right;\n",
       "    }\n",
       "\n",
       "    .dataframe thead th {\n",
       "        text-align: left;\n",
       "    }\n",
       "\n",
       "    .dataframe tbody tr th {\n",
       "        vertical-align: top;\n",
       "    }\n",
       "</style>\n",
       "<table border=\"1\" class=\"dataframe\">\n",
       "  <thead>\n",
       "    <tr style=\"text-align: right;\">\n",
       "      <th></th>\n",
       "      <th>Feature1</th>\n",
       "      <th>Feature2</th>\n",
       "      <th>Feature3</th>\n",
       "      <th>Feature4</th>\n",
       "      <th>Feature5</th>\n",
       "      <th>Feature1^2</th>\n",
       "      <th>Feature1 Feature2</th>\n",
       "      <th>Feature1 Feature3</th>\n",
       "      <th>Feature1 Feature4</th>\n",
       "      <th>Feature1 Feature5</th>\n",
       "      <th>...</th>\n",
       "      <th>Feature3^2 Feature4</th>\n",
       "      <th>Feature3^2 Feature5</th>\n",
       "      <th>Feature3 Feature4^2</th>\n",
       "      <th>Feature3 Feature4 Feature5</th>\n",
       "      <th>Feature3 Feature5^2</th>\n",
       "      <th>Feature4^3</th>\n",
       "      <th>Feature4^2 Feature5</th>\n",
       "      <th>Feature4 Feature5^2</th>\n",
       "      <th>Feature5^3</th>\n",
       "      <th>y</th>\n",
       "    </tr>\n",
       "  </thead>\n",
       "  <tbody>\n",
       "    <tr>\n",
       "      <th>0</th>\n",
       "      <td>-15.453597</td>\n",
       "      <td>-17.805068</td>\n",
       "      <td>24.016184</td>\n",
       "      <td>-10.495994</td>\n",
       "      <td>-5.722487</td>\n",
       "      <td>238.813659</td>\n",
       "      <td>275.152347</td>\n",
       "      <td>-371.136432</td>\n",
       "      <td>162.200862</td>\n",
       "      <td>88.433008</td>\n",
       "      <td>...</td>\n",
       "      <td>-6053.849078</td>\n",
       "      <td>-3300.599522</td>\n",
       "      <td>2645.764341</td>\n",
       "      <td>1442.488639</td>\n",
       "      <td>786.454576</td>\n",
       "      <td>-1156.300538</td>\n",
       "      <td>-630.422885</td>\n",
       "      <td>-343.710827</td>\n",
       "      <td>-187.393471</td>\n",
       "      <td>-431.953540</td>\n",
       "    </tr>\n",
       "    <tr>\n",
       "      <th>1</th>\n",
       "      <td>-21.221785</td>\n",
       "      <td>-11.447068</td>\n",
       "      <td>3.759493</td>\n",
       "      <td>0.348747</td>\n",
       "      <td>-12.695441</td>\n",
       "      <td>450.364147</td>\n",
       "      <td>242.927223</td>\n",
       "      <td>-79.783161</td>\n",
       "      <td>-7.401034</td>\n",
       "      <td>269.419924</td>\n",
       "      <td>...</td>\n",
       "      <td>4.929117</td>\n",
       "      <td>-179.434718</td>\n",
       "      <td>0.457246</td>\n",
       "      <td>-16.645146</td>\n",
       "      <td>605.933472</td>\n",
       "      <td>0.042416</td>\n",
       "      <td>-1.544076</td>\n",
       "      <td>56.209028</td>\n",
       "      <td>-2046.178007</td>\n",
       "      <td>2072.648112</td>\n",
       "    </tr>\n",
       "    <tr>\n",
       "      <th>2</th>\n",
       "      <td>13.695024</td>\n",
       "      <td>7.178703</td>\n",
       "      <td>19.250129</td>\n",
       "      <td>-9.773332</td>\n",
       "      <td>-0.195619</td>\n",
       "      <td>187.553677</td>\n",
       "      <td>98.312514</td>\n",
       "      <td>263.630971</td>\n",
       "      <td>-133.846016</td>\n",
       "      <td>-2.679000</td>\n",
       "      <td>...</td>\n",
       "      <td>-3621.678794</td>\n",
       "      <td>-72.489856</td>\n",
       "      <td>1838.734178</td>\n",
       "      <td>36.803257</td>\n",
       "      <td>0.736637</td>\n",
       "      <td>-933.529330</td>\n",
       "      <td>-18.685094</td>\n",
       "      <td>-0.373992</td>\n",
       "      <td>-0.007486</td>\n",
       "      <td>1701.292666</td>\n",
       "    </tr>\n",
       "    <tr>\n",
       "      <th>3</th>\n",
       "      <td>19.766801</td>\n",
       "      <td>11.073039</td>\n",
       "      <td>1.034897</td>\n",
       "      <td>9.889190</td>\n",
       "      <td>0.091331</td>\n",
       "      <td>390.726434</td>\n",
       "      <td>218.878557</td>\n",
       "      <td>20.456610</td>\n",
       "      <td>195.477657</td>\n",
       "      <td>1.805316</td>\n",
       "      <td>...</td>\n",
       "      <td>10.591446</td>\n",
       "      <td>0.097816</td>\n",
       "      <td>101.208905</td>\n",
       "      <td>0.934705</td>\n",
       "      <td>0.008632</td>\n",
       "      <td>967.124046</td>\n",
       "      <td>8.931784</td>\n",
       "      <td>0.082489</td>\n",
       "      <td>0.000762</td>\n",
       "      <td>2253.726636</td>\n",
       "    </tr>\n",
       "    <tr>\n",
       "      <th>4</th>\n",
       "      <td>-5.338243</td>\n",
       "      <td>13.330948</td>\n",
       "      <td>-4.877764</td>\n",
       "      <td>0.574421</td>\n",
       "      <td>8.255401</td>\n",
       "      <td>28.496841</td>\n",
       "      <td>-71.163840</td>\n",
       "      <td>26.038690</td>\n",
       "      <td>-3.066398</td>\n",
       "      <td>-44.069336</td>\n",
       "      <td>...</td>\n",
       "      <td>13.666955</td>\n",
       "      <td>196.417286</td>\n",
       "      <td>-1.609464</td>\n",
       "      <td>-23.130719</td>\n",
       "      <td>-332.427601</td>\n",
       "      <td>0.189536</td>\n",
       "      <td>2.723946</td>\n",
       "      <td>39.147722</td>\n",
       "      <td>562.619066</td>\n",
       "      <td>486.519017</td>\n",
       "    </tr>\n",
       "  </tbody>\n",
       "</table>\n",
       "<p>5 rows × 56 columns</p>\n",
       "</div>"
      ],
      "text/plain": [
       "    Feature1   Feature2   Feature3   Feature4   Feature5  Feature1^2  \\\n",
       "0 -15.453597 -17.805068  24.016184 -10.495994  -5.722487  238.813659   \n",
       "1 -21.221785 -11.447068   3.759493   0.348747 -12.695441  450.364147   \n",
       "2  13.695024   7.178703  19.250129  -9.773332  -0.195619  187.553677   \n",
       "3  19.766801  11.073039   1.034897   9.889190   0.091331  390.726434   \n",
       "4  -5.338243  13.330948  -4.877764   0.574421   8.255401   28.496841   \n",
       "\n",
       "   Feature1 Feature2  Feature1 Feature3  Feature1 Feature4  Feature1 Feature5  \\\n",
       "0         275.152347        -371.136432         162.200862          88.433008   \n",
       "1         242.927223         -79.783161          -7.401034         269.419924   \n",
       "2          98.312514         263.630971        -133.846016          -2.679000   \n",
       "3         218.878557          20.456610         195.477657           1.805316   \n",
       "4         -71.163840          26.038690          -3.066398         -44.069336   \n",
       "\n",
       "      ...       Feature3^2 Feature4  Feature3^2 Feature5  Feature3 Feature4^2  \\\n",
       "0     ...              -6053.849078         -3300.599522          2645.764341   \n",
       "1     ...                  4.929117          -179.434718             0.457246   \n",
       "2     ...              -3621.678794           -72.489856          1838.734178   \n",
       "3     ...                 10.591446             0.097816           101.208905   \n",
       "4     ...                 13.666955           196.417286            -1.609464   \n",
       "\n",
       "   Feature3 Feature4 Feature5  Feature3 Feature5^2   Feature4^3  \\\n",
       "0                 1442.488639           786.454576 -1156.300538   \n",
       "1                  -16.645146           605.933472     0.042416   \n",
       "2                   36.803257             0.736637  -933.529330   \n",
       "3                    0.934705             0.008632   967.124046   \n",
       "4                  -23.130719          -332.427601     0.189536   \n",
       "\n",
       "   Feature4^2 Feature5  Feature4 Feature5^2   Feature5^3            y  \n",
       "0          -630.422885          -343.710827  -187.393471  -431.953540  \n",
       "1            -1.544076            56.209028 -2046.178007  2072.648112  \n",
       "2           -18.685094            -0.373992    -0.007486  1701.292666  \n",
       "3             8.931784             0.082489     0.000762  2253.726636  \n",
       "4             2.723946            39.147722   562.619066   486.519017  \n",
       "\n",
       "[5 rows x 56 columns]"
      ]
     },
     "execution_count": 99,
     "metadata": {},
     "output_type": "execute_result"
    }
   ],
   "source": [
    "df_poly['y']=df['y']\n",
    "df_poly.head()"
   ]
  },
  {
   "cell_type": "code",
   "execution_count": 100,
   "metadata": {
    "collapsed": true
   },
   "outputs": [],
   "source": [
    "X_train=df_poly.drop('y',axis=1)\n",
    "y_train=df_poly['y']"
   ]
  },
  {
   "cell_type": "markdown",
   "metadata": {},
   "source": [
    "### Polynomial model without regularization and cross-validation"
   ]
  },
  {
   "cell_type": "code",
   "execution_count": 101,
   "metadata": {
    "collapsed": true
   },
   "outputs": [],
   "source": [
    "poly = LinearRegression(normalize=True)"
   ]
  },
  {
   "cell_type": "code",
   "execution_count": 102,
   "metadata": {},
   "outputs": [
    {
     "name": "stdout",
     "output_type": "stream",
     "text": [
      "Root-mean-square error of simple polynomial model: 1.89910302223e-11\n"
     ]
    }
   ],
   "source": [
    "model_poly=poly.fit(X_train,y_train)\n",
    "y_poly = poly.predict(X_train)\n",
    "RMSE_poly=np.sqrt(np.sum(np.square(y_poly-y_train)))\n",
    "print(\"Root-mean-square error of simple polynomial model:\",RMSE_poly)"
   ]
  },
  {
   "cell_type": "code",
   "execution_count": 103,
   "metadata": {},
   "outputs": [
    {
     "data": {
      "text/html": [
       "<div>\n",
       "<style>\n",
       "    .dataframe thead tr:only-child th {\n",
       "        text-align: right;\n",
       "    }\n",
       "\n",
       "    .dataframe thead th {\n",
       "        text-align: left;\n",
       "    }\n",
       "\n",
       "    .dataframe tbody tr th {\n",
       "        vertical-align: top;\n",
       "    }\n",
       "</style>\n",
       "<table border=\"1\" class=\"dataframe\">\n",
       "  <thead>\n",
       "    <tr style=\"text-align: right;\">\n",
       "      <th></th>\n",
       "      <th>Coefficients polynomial model</th>\n",
       "    </tr>\n",
       "  </thead>\n",
       "  <tbody>\n",
       "    <tr>\n",
       "      <th>Feature1</th>\n",
       "      <td>1.393774</td>\n",
       "    </tr>\n",
       "    <tr>\n",
       "      <th>Feature2</th>\n",
       "      <td>11.469286</td>\n",
       "    </tr>\n",
       "    <tr>\n",
       "      <th>Feature3</th>\n",
       "      <td>-7.258182</td>\n",
       "    </tr>\n",
       "    <tr>\n",
       "      <th>Feature4</th>\n",
       "      <td>4.967388</td>\n",
       "    </tr>\n",
       "    <tr>\n",
       "      <th>Feature5</th>\n",
       "      <td>0.428594</td>\n",
       "    </tr>\n",
       "    <tr>\n",
       "      <th>Feature1^2</th>\n",
       "      <td>4.610796</td>\n",
       "    </tr>\n",
       "    <tr>\n",
       "      <th>Feature1 Feature2</th>\n",
       "      <td>0.130565</td>\n",
       "    </tr>\n",
       "    <tr>\n",
       "      <th>Feature1 Feature3</th>\n",
       "      <td>0.168512</td>\n",
       "    </tr>\n",
       "    <tr>\n",
       "      <th>Feature1 Feature4</th>\n",
       "      <td>1.652596</td>\n",
       "    </tr>\n",
       "    <tr>\n",
       "      <th>Feature1 Feature5</th>\n",
       "      <td>0.850184</td>\n",
       "    </tr>\n",
       "    <tr>\n",
       "      <th>Feature2^2</th>\n",
       "      <td>-0.063637</td>\n",
       "    </tr>\n",
       "    <tr>\n",
       "      <th>Feature2 Feature3</th>\n",
       "      <td>1.015700</td>\n",
       "    </tr>\n",
       "    <tr>\n",
       "      <th>Feature2 Feature4</th>\n",
       "      <td>0.112208</td>\n",
       "    </tr>\n",
       "    <tr>\n",
       "      <th>Feature2 Feature5</th>\n",
       "      <td>1.075431</td>\n",
       "    </tr>\n",
       "    <tr>\n",
       "      <th>Feature3^2</th>\n",
       "      <td>-0.174379</td>\n",
       "    </tr>\n",
       "    <tr>\n",
       "      <th>Feature3 Feature4</th>\n",
       "      <td>0.097619</td>\n",
       "    </tr>\n",
       "    <tr>\n",
       "      <th>Feature3 Feature5</th>\n",
       "      <td>0.247009</td>\n",
       "    </tr>\n",
       "    <tr>\n",
       "      <th>Feature4^2</th>\n",
       "      <td>-0.361048</td>\n",
       "    </tr>\n",
       "    <tr>\n",
       "      <th>Feature4 Feature5</th>\n",
       "      <td>1.699143</td>\n",
       "    </tr>\n",
       "    <tr>\n",
       "      <th>Feature5^2</th>\n",
       "      <td>-0.329357</td>\n",
       "    </tr>\n",
       "    <tr>\n",
       "      <th>Feature1^3</th>\n",
       "      <td>0.004918</td>\n",
       "    </tr>\n",
       "    <tr>\n",
       "      <th>Feature1^2 Feature2</th>\n",
       "      <td>0.009731</td>\n",
       "    </tr>\n",
       "    <tr>\n",
       "      <th>Feature1^2 Feature3</th>\n",
       "      <td>-0.041778</td>\n",
       "    </tr>\n",
       "    <tr>\n",
       "      <th>Feature1^2 Feature4</th>\n",
       "      <td>-0.037414</td>\n",
       "    </tr>\n",
       "    <tr>\n",
       "      <th>Feature1^2 Feature5</th>\n",
       "      <td>0.037574</td>\n",
       "    </tr>\n",
       "    <tr>\n",
       "      <th>Feature1 Feature2^2</th>\n",
       "      <td>0.002429</td>\n",
       "    </tr>\n",
       "    <tr>\n",
       "      <th>Feature1 Feature2 Feature3</th>\n",
       "      <td>0.038951</td>\n",
       "    </tr>\n",
       "    <tr>\n",
       "      <th>Feature1 Feature2 Feature4</th>\n",
       "      <td>-0.016154</td>\n",
       "    </tr>\n",
       "    <tr>\n",
       "      <th>Feature1 Feature2 Feature5</th>\n",
       "      <td>-0.003858</td>\n",
       "    </tr>\n",
       "    <tr>\n",
       "      <th>Feature1 Feature3^2</th>\n",
       "      <td>0.101864</td>\n",
       "    </tr>\n",
       "    <tr>\n",
       "      <th>Feature1 Feature3 Feature4</th>\n",
       "      <td>-0.054881</td>\n",
       "    </tr>\n",
       "    <tr>\n",
       "      <th>Feature1 Feature3 Feature5</th>\n",
       "      <td>0.002807</td>\n",
       "    </tr>\n",
       "    <tr>\n",
       "      <th>Feature1 Feature4^2</th>\n",
       "      <td>-0.054250</td>\n",
       "    </tr>\n",
       "    <tr>\n",
       "      <th>Feature1 Feature4 Feature5</th>\n",
       "      <td>0.500361</td>\n",
       "    </tr>\n",
       "    <tr>\n",
       "      <th>Feature1 Feature5^2</th>\n",
       "      <td>-0.053616</td>\n",
       "    </tr>\n",
       "    <tr>\n",
       "      <th>Feature2^3</th>\n",
       "      <td>0.025803</td>\n",
       "    </tr>\n",
       "    <tr>\n",
       "      <th>Feature2^2 Feature3</th>\n",
       "      <td>0.013705</td>\n",
       "    </tr>\n",
       "    <tr>\n",
       "      <th>Feature2^2 Feature4</th>\n",
       "      <td>0.015238</td>\n",
       "    </tr>\n",
       "    <tr>\n",
       "      <th>Feature2^2 Feature5</th>\n",
       "      <td>-0.023577</td>\n",
       "    </tr>\n",
       "    <tr>\n",
       "      <th>Feature2 Feature3^2</th>\n",
       "      <td>0.017878</td>\n",
       "    </tr>\n",
       "    <tr>\n",
       "      <th>Feature2 Feature3 Feature4</th>\n",
       "      <td>-0.049529</td>\n",
       "    </tr>\n",
       "    <tr>\n",
       "      <th>Feature2 Feature3 Feature5</th>\n",
       "      <td>0.046253</td>\n",
       "    </tr>\n",
       "    <tr>\n",
       "      <th>Feature2 Feature4^2</th>\n",
       "      <td>-0.086538</td>\n",
       "    </tr>\n",
       "    <tr>\n",
       "      <th>Feature2 Feature4 Feature5</th>\n",
       "      <td>-0.096008</td>\n",
       "    </tr>\n",
       "    <tr>\n",
       "      <th>Feature2 Feature5^2</th>\n",
       "      <td>0.002131</td>\n",
       "    </tr>\n",
       "    <tr>\n",
       "      <th>Feature3^3</th>\n",
       "      <td>0.012258</td>\n",
       "    </tr>\n",
       "    <tr>\n",
       "      <th>Feature3^2 Feature4</th>\n",
       "      <td>-0.036247</td>\n",
       "    </tr>\n",
       "    <tr>\n",
       "      <th>Feature3^2 Feature5</th>\n",
       "      <td>-0.001195</td>\n",
       "    </tr>\n",
       "    <tr>\n",
       "      <th>Feature3 Feature4^2</th>\n",
       "      <td>0.007787</td>\n",
       "    </tr>\n",
       "    <tr>\n",
       "      <th>Feature3 Feature4 Feature5</th>\n",
       "      <td>0.055605</td>\n",
       "    </tr>\n",
       "    <tr>\n",
       "      <th>Feature3 Feature5^2</th>\n",
       "      <td>-0.010458</td>\n",
       "    </tr>\n",
       "    <tr>\n",
       "      <th>Feature4^3</th>\n",
       "      <td>0.011201</td>\n",
       "    </tr>\n",
       "    <tr>\n",
       "      <th>Feature4^2 Feature5</th>\n",
       "      <td>0.120465</td>\n",
       "    </tr>\n",
       "    <tr>\n",
       "      <th>Feature4 Feature5^2</th>\n",
       "      <td>0.040685</td>\n",
       "    </tr>\n",
       "    <tr>\n",
       "      <th>Feature5^3</th>\n",
       "      <td>0.049927</td>\n",
       "    </tr>\n",
       "  </tbody>\n",
       "</table>\n",
       "</div>"
      ],
      "text/plain": [
       "                            Coefficients polynomial model\n",
       "Feature1                                         1.393774\n",
       "Feature2                                        11.469286\n",
       "Feature3                                        -7.258182\n",
       "Feature4                                         4.967388\n",
       "Feature5                                         0.428594\n",
       "Feature1^2                                       4.610796\n",
       "Feature1 Feature2                                0.130565\n",
       "Feature1 Feature3                                0.168512\n",
       "Feature1 Feature4                                1.652596\n",
       "Feature1 Feature5                                0.850184\n",
       "Feature2^2                                      -0.063637\n",
       "Feature2 Feature3                                1.015700\n",
       "Feature2 Feature4                                0.112208\n",
       "Feature2 Feature5                                1.075431\n",
       "Feature3^2                                      -0.174379\n",
       "Feature3 Feature4                                0.097619\n",
       "Feature3 Feature5                                0.247009\n",
       "Feature4^2                                      -0.361048\n",
       "Feature4 Feature5                                1.699143\n",
       "Feature5^2                                      -0.329357\n",
       "Feature1^3                                       0.004918\n",
       "Feature1^2 Feature2                              0.009731\n",
       "Feature1^2 Feature3                             -0.041778\n",
       "Feature1^2 Feature4                             -0.037414\n",
       "Feature1^2 Feature5                              0.037574\n",
       "Feature1 Feature2^2                              0.002429\n",
       "Feature1 Feature2 Feature3                       0.038951\n",
       "Feature1 Feature2 Feature4                      -0.016154\n",
       "Feature1 Feature2 Feature5                      -0.003858\n",
       "Feature1 Feature3^2                              0.101864\n",
       "Feature1 Feature3 Feature4                      -0.054881\n",
       "Feature1 Feature3 Feature5                       0.002807\n",
       "Feature1 Feature4^2                             -0.054250\n",
       "Feature1 Feature4 Feature5                       0.500361\n",
       "Feature1 Feature5^2                             -0.053616\n",
       "Feature2^3                                       0.025803\n",
       "Feature2^2 Feature3                              0.013705\n",
       "Feature2^2 Feature4                              0.015238\n",
       "Feature2^2 Feature5                             -0.023577\n",
       "Feature2 Feature3^2                              0.017878\n",
       "Feature2 Feature3 Feature4                      -0.049529\n",
       "Feature2 Feature3 Feature5                       0.046253\n",
       "Feature2 Feature4^2                             -0.086538\n",
       "Feature2 Feature4 Feature5                      -0.096008\n",
       "Feature2 Feature5^2                              0.002131\n",
       "Feature3^3                                       0.012258\n",
       "Feature3^2 Feature4                             -0.036247\n",
       "Feature3^2 Feature5                             -0.001195\n",
       "Feature3 Feature4^2                              0.007787\n",
       "Feature3 Feature4 Feature5                       0.055605\n",
       "Feature3 Feature5^2                             -0.010458\n",
       "Feature4^3                                       0.011201\n",
       "Feature4^2 Feature5                              0.120465\n",
       "Feature4 Feature5^2                              0.040685\n",
       "Feature5^3                                       0.049927"
      ]
     },
     "execution_count": 103,
     "metadata": {},
     "output_type": "execute_result"
    }
   ],
   "source": [
    "coeff_poly = pd.DataFrame(model_poly.coef_,index=df_poly.drop('y',axis=1).columns, \n",
    "                          columns=['Coefficients polynomial model'])\n",
    "coeff_poly"
   ]
  },
  {
   "cell_type": "markdown",
   "metadata": {},
   "source": [
    "#### R-square value of the simple polynomial model is perfect but the model is flawed as shown above i.e. it learned wrong coefficients and overfitted the to the data"
   ]
  },
  {
   "cell_type": "code",
   "execution_count": 104,
   "metadata": {},
   "outputs": [
    {
     "name": "stdout",
     "output_type": "stream",
     "text": [
      "R2 value of simple polynomial model: 1.0\n"
     ]
    }
   ],
   "source": [
    "print (\"R2 value of simple polynomial model:\",model_poly.score(X_train,y_train))"
   ]
  },
  {
   "cell_type": "markdown",
   "metadata": {},
   "source": [
    "### Metamodel (Optislang style :) - polynomial model with cross-validation and LASSO regularization\n",
    "** This is an advanced machine learning method which prevents over-fitting by penalizing high-valued coefficients i.e. keep them bounded **"
   ]
  },
  {
   "cell_type": "code",
   "execution_count": 130,
   "metadata": {
    "collapsed": true
   },
   "outputs": [],
   "source": [
    "from sklearn.linear_model import LassoCV"
   ]
  },
  {
   "cell_type": "code",
   "execution_count": 131,
   "metadata": {
    "collapsed": true
   },
   "outputs": [],
   "source": [
    "model1 = LassoCV(cv=10,verbose=0,normalize=True,eps=0.001,n_alphas=100, tol=0.0001,max_iter=5000)"
   ]
  },
  {
   "cell_type": "code",
   "execution_count": 132,
   "metadata": {},
   "outputs": [
    {
     "data": {
      "text/plain": [
       "LassoCV(alphas=None, copy_X=True, cv=10, eps=0.001, fit_intercept=True,\n",
       "    max_iter=5000, n_alphas=100, n_jobs=1, normalize=True, positive=False,\n",
       "    precompute='auto', random_state=None, selection='cyclic', tol=0.0001,\n",
       "    verbose=0)"
      ]
     },
     "execution_count": 132,
     "metadata": {},
     "output_type": "execute_result"
    }
   ],
   "source": [
    "model1.fit(X_train,y_train)"
   ]
  },
  {
   "cell_type": "code",
   "execution_count": 133,
   "metadata": {
    "collapsed": true
   },
   "outputs": [],
   "source": [
    "y_pred1 = np.array(model1.predict(X_train))"
   ]
  },
  {
   "cell_type": "code",
   "execution_count": 134,
   "metadata": {},
   "outputs": [
    {
     "name": "stdout",
     "output_type": "stream",
     "text": [
      "Root-mean-square error of Metamodel: 10.6254345131\n"
     ]
    }
   ],
   "source": [
    "RMSE_1=np.sqrt(np.sum(np.square(y_pred1-y_train)))\n",
    "print(\"Root-mean-square error of Metamodel:\",RMSE_1)"
   ]
  },
  {
   "cell_type": "code",
   "execution_count": 135,
   "metadata": {},
   "outputs": [
    {
     "data": {
      "text/html": [
       "<div>\n",
       "<style>\n",
       "    .dataframe thead tr:only-child th {\n",
       "        text-align: right;\n",
       "    }\n",
       "\n",
       "    .dataframe thead th {\n",
       "        text-align: left;\n",
       "    }\n",
       "\n",
       "    .dataframe tbody tr th {\n",
       "        vertical-align: top;\n",
       "    }\n",
       "</style>\n",
       "<table border=\"1\" class=\"dataframe\">\n",
       "  <thead>\n",
       "    <tr style=\"text-align: right;\">\n",
       "      <th></th>\n",
       "      <th>Coefficients Metamodel</th>\n",
       "    </tr>\n",
       "  </thead>\n",
       "  <tbody>\n",
       "    <tr>\n",
       "      <th>Feature1</th>\n",
       "      <td>0.000000</td>\n",
       "    </tr>\n",
       "    <tr>\n",
       "      <th>Feature2</th>\n",
       "      <td>12.891291</td>\n",
       "    </tr>\n",
       "    <tr>\n",
       "      <th>Feature3</th>\n",
       "      <td>0.000000</td>\n",
       "    </tr>\n",
       "    <tr>\n",
       "      <th>Feature4</th>\n",
       "      <td>0.000000</td>\n",
       "    </tr>\n",
       "    <tr>\n",
       "      <th>Feature5</th>\n",
       "      <td>0.000000</td>\n",
       "    </tr>\n",
       "    <tr>\n",
       "      <th>Feature1^2</th>\n",
       "      <td>4.991474</td>\n",
       "    </tr>\n",
       "    <tr>\n",
       "      <th>Feature1 Feature2</th>\n",
       "      <td>-0.000000</td>\n",
       "    </tr>\n",
       "    <tr>\n",
       "      <th>Feature1 Feature3</th>\n",
       "      <td>0.000000</td>\n",
       "    </tr>\n",
       "    <tr>\n",
       "      <th>Feature1 Feature4</th>\n",
       "      <td>0.000000</td>\n",
       "    </tr>\n",
       "    <tr>\n",
       "      <th>Feature1 Feature5</th>\n",
       "      <td>0.000000</td>\n",
       "    </tr>\n",
       "    <tr>\n",
       "      <th>Feature2^2</th>\n",
       "      <td>0.000000</td>\n",
       "    </tr>\n",
       "    <tr>\n",
       "      <th>Feature2 Feature3</th>\n",
       "      <td>0.000000</td>\n",
       "    </tr>\n",
       "    <tr>\n",
       "      <th>Feature2 Feature4</th>\n",
       "      <td>-0.000000</td>\n",
       "    </tr>\n",
       "    <tr>\n",
       "      <th>Feature2 Feature5</th>\n",
       "      <td>-0.000000</td>\n",
       "    </tr>\n",
       "    <tr>\n",
       "      <th>Feature3^2</th>\n",
       "      <td>-0.000000</td>\n",
       "    </tr>\n",
       "    <tr>\n",
       "      <th>Feature3 Feature4</th>\n",
       "      <td>0.000000</td>\n",
       "    </tr>\n",
       "    <tr>\n",
       "      <th>Feature3 Feature5</th>\n",
       "      <td>0.000000</td>\n",
       "    </tr>\n",
       "    <tr>\n",
       "      <th>Feature4^2</th>\n",
       "      <td>0.000000</td>\n",
       "    </tr>\n",
       "    <tr>\n",
       "      <th>Feature4 Feature5</th>\n",
       "      <td>1.995183</td>\n",
       "    </tr>\n",
       "    <tr>\n",
       "      <th>Feature5^2</th>\n",
       "      <td>-0.000000</td>\n",
       "    </tr>\n",
       "    <tr>\n",
       "      <th>Feature1^3</th>\n",
       "      <td>0.000000</td>\n",
       "    </tr>\n",
       "    <tr>\n",
       "      <th>Feature1^2 Feature2</th>\n",
       "      <td>0.000000</td>\n",
       "    </tr>\n",
       "    <tr>\n",
       "      <th>Feature1^2 Feature3</th>\n",
       "      <td>0.000000</td>\n",
       "    </tr>\n",
       "    <tr>\n",
       "      <th>Feature1^2 Feature4</th>\n",
       "      <td>0.000000</td>\n",
       "    </tr>\n",
       "    <tr>\n",
       "      <th>Feature1^2 Feature5</th>\n",
       "      <td>0.000000</td>\n",
       "    </tr>\n",
       "    <tr>\n",
       "      <th>Feature1 Feature2^2</th>\n",
       "      <td>0.000000</td>\n",
       "    </tr>\n",
       "    <tr>\n",
       "      <th>Feature1 Feature2 Feature3</th>\n",
       "      <td>-0.000000</td>\n",
       "    </tr>\n",
       "    <tr>\n",
       "      <th>Feature1 Feature2 Feature4</th>\n",
       "      <td>-0.000000</td>\n",
       "    </tr>\n",
       "    <tr>\n",
       "      <th>Feature1 Feature2 Feature5</th>\n",
       "      <td>-0.000000</td>\n",
       "    </tr>\n",
       "    <tr>\n",
       "      <th>Feature1 Feature3^2</th>\n",
       "      <td>0.099441</td>\n",
       "    </tr>\n",
       "    <tr>\n",
       "      <th>Feature1 Feature3 Feature4</th>\n",
       "      <td>-0.000000</td>\n",
       "    </tr>\n",
       "    <tr>\n",
       "      <th>Feature1 Feature3 Feature5</th>\n",
       "      <td>0.000000</td>\n",
       "    </tr>\n",
       "    <tr>\n",
       "      <th>Feature1 Feature4^2</th>\n",
       "      <td>0.000024</td>\n",
       "    </tr>\n",
       "    <tr>\n",
       "      <th>Feature1 Feature4 Feature5</th>\n",
       "      <td>0.799360</td>\n",
       "    </tr>\n",
       "    <tr>\n",
       "      <th>Feature1 Feature5^2</th>\n",
       "      <td>0.000000</td>\n",
       "    </tr>\n",
       "    <tr>\n",
       "      <th>Feature2^3</th>\n",
       "      <td>0.000000</td>\n",
       "    </tr>\n",
       "    <tr>\n",
       "      <th>Feature2^2 Feature3</th>\n",
       "      <td>-0.000000</td>\n",
       "    </tr>\n",
       "    <tr>\n",
       "      <th>Feature2^2 Feature4</th>\n",
       "      <td>0.000000</td>\n",
       "    </tr>\n",
       "    <tr>\n",
       "      <th>Feature2^2 Feature5</th>\n",
       "      <td>0.000000</td>\n",
       "    </tr>\n",
       "    <tr>\n",
       "      <th>Feature2 Feature3^2</th>\n",
       "      <td>0.000000</td>\n",
       "    </tr>\n",
       "    <tr>\n",
       "      <th>Feature2 Feature3 Feature4</th>\n",
       "      <td>-0.000000</td>\n",
       "    </tr>\n",
       "    <tr>\n",
       "      <th>Feature2 Feature3 Feature5</th>\n",
       "      <td>0.000000</td>\n",
       "    </tr>\n",
       "    <tr>\n",
       "      <th>Feature2 Feature4^2</th>\n",
       "      <td>0.000000</td>\n",
       "    </tr>\n",
       "    <tr>\n",
       "      <th>Feature2 Feature4 Feature5</th>\n",
       "      <td>-0.000000</td>\n",
       "    </tr>\n",
       "    <tr>\n",
       "      <th>Feature2 Feature5^2</th>\n",
       "      <td>-0.000000</td>\n",
       "    </tr>\n",
       "    <tr>\n",
       "      <th>Feature3^3</th>\n",
       "      <td>-0.000000</td>\n",
       "    </tr>\n",
       "    <tr>\n",
       "      <th>Feature3^2 Feature4</th>\n",
       "      <td>-0.000000</td>\n",
       "    </tr>\n",
       "    <tr>\n",
       "      <th>Feature3^2 Feature5</th>\n",
       "      <td>0.001067</td>\n",
       "    </tr>\n",
       "    <tr>\n",
       "      <th>Feature3 Feature4^2</th>\n",
       "      <td>0.000000</td>\n",
       "    </tr>\n",
       "    <tr>\n",
       "      <th>Feature3 Feature4 Feature5</th>\n",
       "      <td>0.000000</td>\n",
       "    </tr>\n",
       "    <tr>\n",
       "      <th>Feature3 Feature5^2</th>\n",
       "      <td>-0.000000</td>\n",
       "    </tr>\n",
       "    <tr>\n",
       "      <th>Feature4^3</th>\n",
       "      <td>0.000000</td>\n",
       "    </tr>\n",
       "    <tr>\n",
       "      <th>Feature4^2 Feature5</th>\n",
       "      <td>0.000000</td>\n",
       "    </tr>\n",
       "    <tr>\n",
       "      <th>Feature4 Feature5^2</th>\n",
       "      <td>0.000000</td>\n",
       "    </tr>\n",
       "    <tr>\n",
       "      <th>Feature5^3</th>\n",
       "      <td>0.099169</td>\n",
       "    </tr>\n",
       "  </tbody>\n",
       "</table>\n",
       "</div>"
      ],
      "text/plain": [
       "                            Coefficients Metamodel\n",
       "Feature1                                  0.000000\n",
       "Feature2                                 12.891291\n",
       "Feature3                                  0.000000\n",
       "Feature4                                  0.000000\n",
       "Feature5                                  0.000000\n",
       "Feature1^2                                4.991474\n",
       "Feature1 Feature2                        -0.000000\n",
       "Feature1 Feature3                         0.000000\n",
       "Feature1 Feature4                         0.000000\n",
       "Feature1 Feature5                         0.000000\n",
       "Feature2^2                                0.000000\n",
       "Feature2 Feature3                         0.000000\n",
       "Feature2 Feature4                        -0.000000\n",
       "Feature2 Feature5                        -0.000000\n",
       "Feature3^2                               -0.000000\n",
       "Feature3 Feature4                         0.000000\n",
       "Feature3 Feature5                         0.000000\n",
       "Feature4^2                                0.000000\n",
       "Feature4 Feature5                         1.995183\n",
       "Feature5^2                               -0.000000\n",
       "Feature1^3                                0.000000\n",
       "Feature1^2 Feature2                       0.000000\n",
       "Feature1^2 Feature3                       0.000000\n",
       "Feature1^2 Feature4                       0.000000\n",
       "Feature1^2 Feature5                       0.000000\n",
       "Feature1 Feature2^2                       0.000000\n",
       "Feature1 Feature2 Feature3               -0.000000\n",
       "Feature1 Feature2 Feature4               -0.000000\n",
       "Feature1 Feature2 Feature5               -0.000000\n",
       "Feature1 Feature3^2                       0.099441\n",
       "Feature1 Feature3 Feature4               -0.000000\n",
       "Feature1 Feature3 Feature5                0.000000\n",
       "Feature1 Feature4^2                       0.000024\n",
       "Feature1 Feature4 Feature5                0.799360\n",
       "Feature1 Feature5^2                       0.000000\n",
       "Feature2^3                                0.000000\n",
       "Feature2^2 Feature3                      -0.000000\n",
       "Feature2^2 Feature4                       0.000000\n",
       "Feature2^2 Feature5                       0.000000\n",
       "Feature2 Feature3^2                       0.000000\n",
       "Feature2 Feature3 Feature4               -0.000000\n",
       "Feature2 Feature3 Feature5                0.000000\n",
       "Feature2 Feature4^2                       0.000000\n",
       "Feature2 Feature4 Feature5               -0.000000\n",
       "Feature2 Feature5^2                      -0.000000\n",
       "Feature3^3                               -0.000000\n",
       "Feature3^2 Feature4                      -0.000000\n",
       "Feature3^2 Feature5                       0.001067\n",
       "Feature3 Feature4^2                       0.000000\n",
       "Feature3 Feature4 Feature5                0.000000\n",
       "Feature3 Feature5^2                      -0.000000\n",
       "Feature4^3                                0.000000\n",
       "Feature4^2 Feature5                       0.000000\n",
       "Feature4 Feature5^2                       0.000000\n",
       "Feature5^3                                0.099169"
      ]
     },
     "execution_count": 135,
     "metadata": {},
     "output_type": "execute_result"
    }
   ],
   "source": [
    "coeff1 = pd.DataFrame(model1.coef_,index=df_poly.drop('y',axis=1).columns, columns=['Coefficients Metamodel'])\n",
    "coeff1"
   ]
  },
  {
   "cell_type": "code",
   "execution_count": 136,
   "metadata": {},
   "outputs": [
    {
     "data": {
      "text/plain": [
       "0.99999685404731742"
      ]
     },
     "execution_count": 136,
     "metadata": {},
     "output_type": "execute_result"
    }
   ],
   "source": [
    "model1.score(X_train,y_train)"
   ]
  },
  {
   "cell_type": "code",
   "execution_count": 140,
   "metadata": {},
   "outputs": [
    {
     "data": {
      "text/plain": [
       "0.11791796322572394"
      ]
     },
     "execution_count": 140,
     "metadata": {},
     "output_type": "execute_result"
    }
   ],
   "source": [
    "model1.alpha_"
   ]
  },
  {
   "cell_type": "markdown",
   "metadata": {},
   "source": [
    "#### Recall that the ground  truth  or  originating  function  is  as  follows: \n",
    " \n",
    "$$ y=f(x_1,x_2,x_3,x_4,x_5)= 5x_1^2+13x_2+0.1x_1x_3^2+2x_4x_5+0.1x_5^3+0.8x_1x_4x_5+\\psi(x) $$"
   ]
  },
  {
   "cell_type": "markdown",
   "metadata": {},
   "source": [
    "### Printing only the non-zero coefficients of the *metamodel*"
   ]
  },
  {
   "cell_type": "code",
   "execution_count": 137,
   "metadata": {},
   "outputs": [
    {
     "data": {
      "text/html": [
       "<div>\n",
       "<style>\n",
       "    .dataframe thead tr:only-child th {\n",
       "        text-align: right;\n",
       "    }\n",
       "\n",
       "    .dataframe thead th {\n",
       "        text-align: left;\n",
       "    }\n",
       "\n",
       "    .dataframe tbody tr th {\n",
       "        vertical-align: top;\n",
       "    }\n",
       "</style>\n",
       "<table border=\"1\" class=\"dataframe\">\n",
       "  <thead>\n",
       "    <tr style=\"text-align: right;\">\n",
       "      <th></th>\n",
       "      <th>Coefficients Metamodel</th>\n",
       "    </tr>\n",
       "  </thead>\n",
       "  <tbody>\n",
       "    <tr>\n",
       "      <th>Feature2</th>\n",
       "      <td>12.891291</td>\n",
       "    </tr>\n",
       "    <tr>\n",
       "      <th>Feature1^2</th>\n",
       "      <td>4.991474</td>\n",
       "    </tr>\n",
       "    <tr>\n",
       "      <th>Feature4 Feature5</th>\n",
       "      <td>1.995183</td>\n",
       "    </tr>\n",
       "    <tr>\n",
       "      <th>Feature1 Feature3^2</th>\n",
       "      <td>0.099441</td>\n",
       "    </tr>\n",
       "    <tr>\n",
       "      <th>Feature1 Feature4^2</th>\n",
       "      <td>0.000024</td>\n",
       "    </tr>\n",
       "    <tr>\n",
       "      <th>Feature1 Feature4 Feature5</th>\n",
       "      <td>0.799360</td>\n",
       "    </tr>\n",
       "    <tr>\n",
       "      <th>Feature3^2 Feature5</th>\n",
       "      <td>0.001067</td>\n",
       "    </tr>\n",
       "    <tr>\n",
       "      <th>Feature5^3</th>\n",
       "      <td>0.099169</td>\n",
       "    </tr>\n",
       "  </tbody>\n",
       "</table>\n",
       "</div>"
      ],
      "text/plain": [
       "                            Coefficients Metamodel\n",
       "Feature2                                 12.891291\n",
       "Feature1^2                                4.991474\n",
       "Feature4 Feature5                         1.995183\n",
       "Feature1 Feature3^2                       0.099441\n",
       "Feature1 Feature4^2                       0.000024\n",
       "Feature1 Feature4 Feature5                0.799360\n",
       "Feature3^2 Feature5                       0.001067\n",
       "Feature5^3                                0.099169"
      ]
     },
     "execution_count": 137,
     "metadata": {},
     "output_type": "execute_result"
    }
   ],
   "source": [
    "coeff1[coeff1['Coefficients Metamodel']!=0]"
   ]
  },
  {
   "cell_type": "code",
   "execution_count": 138,
   "metadata": {
    "scrolled": false
   },
   "outputs": [
    {
     "data": {
      "text/plain": [
       "[<matplotlib.lines.Line2D at 0x22998d25588>]"
      ]
     },
     "execution_count": 138,
     "metadata": {},
     "output_type": "execute_result"
    },
    {
     "data": {
      "image/png": "[encoded data removed]",
      "text/plain": [
       "<matplotlib.figure.Figure at 0x22998e798d0>"
      ]
     },
     "metadata": {},
     "output_type": "display_data"
    }
   ],
   "source": [
    "plt.figure(figsize=(12,8))\n",
    "plt.xlabel(\"Predicted value with Metamodel\",fontsize=20)\n",
    "plt.ylabel(\"Actual y-values\",fontsize=20)\n",
    "plt.grid(1)\n",
    "plt.scatter(y_pred1,y_train,edgecolors=(0,0,0),lw=2,s=80)\n",
    "plt.plot(y_pred1,y_pred1, 'k--', lw=2)"
   ]
  },
  {
   "cell_type": "code",
   "execution_count": 139,
   "metadata": {},
   "outputs": [
    {
     "data": {
      "text/plain": [
       "(-2.2215799690947899,\n",
       " 1.0784200309052099,\n",
       " -117815.4824067771,\n",
       " 2474147.0440959162)"
      ]
     },
     "execution_count": 139,
     "metadata": {},
     "output_type": "execute_result"
    },
    {
     "data": {
      "image/png": "[encoded data removed]",
      "text/plain": [
       "<matplotlib.figure.Figure at 0x22998d34080>"
      ]
     },
     "metadata": {},
     "output_type": "display_data"
    }
   ],
   "source": [
    "# Display results\n",
    "m_log_alphas = -np.log10(model1.alphas_)\n",
    "\n",
    "plt.figure()\n",
    "ymin, ymax = 2300, 3800\n",
    "plt.plot(m_log_alphas, model1.mse_path_, ':')\n",
    "plt.plot(m_log_alphas, model1.mse_path_.mean(axis=-1), 'k',\n",
    "         label='Average across the folds', linewidth=2)\n",
    "plt.axvline(-np.log10(model1.alpha_), linestyle='--', color='k',\n",
    "            label='alpha: CV estimate')\n",
    "plt.legend()\n",
    "\n",
    "plt.xlabel('-log(alpha)')\n",
    "plt.ylabel('Mean square error')\n",
    "plt.axis('tight')"
   ]
  }
 ],
 "metadata": {
  "kernelspec": {
   "display_name": "Python 3",
   "language": "python",
   "name": "python3"
  },
  "language_info": {
   "codemirror_mode": {
    "name": "ipython",
    "version": 3
   },
   "file_extension": ".py",
   "mimetype": "text/x-python",
   "name": "python",
   "nbconvert_exporter": "python",
   "pygments_lexer": "ipython3",
   "version": "3.6.2"
  }
 },
 "nbformat": 4,
 "nbformat_minor": 2
}
