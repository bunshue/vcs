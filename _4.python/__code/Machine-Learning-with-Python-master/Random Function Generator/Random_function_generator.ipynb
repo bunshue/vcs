{
 "cells": [
  {
   "cell_type": "code",
   "execution_count": null,
   "metadata": {},
   "outputs": [],
   "source": [
    "import numpy as np\n",
    "import pandas as pd\n",
    "import matplotlib.pyplot as plt"
   ]
  },
  {
   "cell_type": "code",
   "execution_count": 3,
   "metadata": {},
   "outputs": [],
   "source": [
    "def random_binning(N, d,return_string=False):\n",
    "    \"\"\"\n",
    "    Function to distribute a sum total of N into d bins\n",
    "    Returns a list\n",
    "    \"\"\"\n",
    "    import numpy as np\n",
    "    \n",
    "    count=N\n",
    "    sum_count=0\n",
    "    lst=[]\n",
    "    for i in range(d-1):\n",
    "        x=np.random.randint(0,count+1)\n",
    "        if return_string:\n",
    "            lst.append(str(x))\n",
    "        else:\n",
    "            lst.append(x)\n",
    "        count=count-x\n",
    "        sum_count+=x\n",
    "        \n",
    "    if return_string:\n",
    "        lst.append(str(N-sum_count))\n",
    "    else:\n",
    "        lst.append(N-sum_count)\n",
    "    return lst"
   ]
  },
  {
   "cell_type": "markdown",
   "metadata": {},
   "source": [
    "### Function to generate single term from a list of exponents. E.g. if we pass 1,2,0,3 it will generate: $x_1.x_2^2.x_4^3$"
   ]
  },
  {
   "cell_type": "code",
   "execution_count": 4,
   "metadata": {},
   "outputs": [],
   "source": [
    "def gen_single_term(lst):\n",
    "    \"\"\"\n",
    "    Function to generate single term from a list of exponents.\n",
    "    \"\"\"\n",
    "    term=''\n",
    "    for i in range(1,len(lst)+1):\n",
    "        if lst[i-1]==0:\n",
    "            pass\n",
    "        elif lst[i-1]==1:\n",
    "            term+='x'+str(i)+'.'\n",
    "        else:\n",
    "            term+='x'+str(i)+'^'+str(lst[i-1])+'.'\n",
    "    \n",
    "    return term[:-1]"
   ]
  },
  {
   "cell_type": "code",
   "execution_count": 5,
   "metadata": {},
   "outputs": [
    {
     "data": {
      "text/plain": [
       "'x1.x2.x3^2.x5'"
      ]
     },
     "execution_count": 5,
     "metadata": {},
     "output_type": "execute_result"
    }
   ],
   "source": [
    "gen_single_term([1,1,2,0,1])"
   ]
  },
  {
   "cell_type": "code",
   "execution_count": 6,
   "metadata": {},
   "outputs": [],
   "source": [
    "def count_symbol(lst):\n",
    "    syms = set(lst)\n",
    "    syms_dict={}\n",
    "    term_lst=[]\n",
    "    for s in syms:\n",
    "        syms_dict[s]=lst.count(s)\n",
    "    \n",
    "    for k,v in syms_dict.items():\n",
    "        if v!=1:\n",
    "            term_lst.append(str(v)+'.'+k)\n",
    "        else:\n",
    "            term_lst.append(k)\n",
    "    \n",
    "    return term_lst"
   ]
  },
  {
   "cell_type": "code",
   "execution_count": 7,
   "metadata": {},
   "outputs": [],
   "source": [
    "def gen_multinomial(n_features=5,max_power=5,max_terms=10,fixed_terms=None,coefficients=True,\n",
    "                   prob_negative_sign=0.3):\n",
    "    \"\"\"\n",
    "    Generates multinomial expression.\n",
    "    n_features: Number of independent variables\n",
    "    max_power: Maximum exponent each terms can be raised to. A random power will be chosen up to this maximum.\n",
    "    max_terms: Maximum number of terms. A random number of terms will be chosen up to this maximum.\n",
    "    fixed_terms: Attempt will be made to generate only this many terms. Sometimes does not work.\n",
    "    coefficients (boolean): Adds (or does not) random integer coefficients in front of the terms.\n",
    "    prob_negative_sign: Probability of putting a negative term. \n",
    "                        Each term's sign wil be chosen randomly based on this probability\n",
    "    \"\"\"\n",
    "    import numpy as np\n",
    "    eqn=''\n",
    "    eqn_terms=[]\n",
    "    \n",
    "    if fixed_terms!=None:\n",
    "        n_terms=fixed_terms\n",
    "    else:\n",
    "        n_terms=np.random.randint(2,max_terms+1)\n",
    "    \n",
    "    for i in range(n_terms):\n",
    "        power=np.random.randint(1,max_power+1)\n",
    "        #power=max_power\n",
    "        power_lst=random_binning(power,n_features)\n",
    "        term=gen_single_term(power_lst)\n",
    "        if coefficients:\n",
    "            coeff=np.random.randint(1,11)\n",
    "            if coeff!=1:\n",
    "                coeff=str(coeff)\n",
    "                term=coeff+'.'+term\n",
    "        eqn_terms.append(term)\n",
    "    \n",
    "    eqn_terms=count_symbol(eqn_terms)\n",
    "    \n",
    "    for e in eqn_terms:\n",
    "        eqn+=e\n",
    "        sign=np.random.choice(['+','-'],p=[prob_negative_sign,1-prob_negative_sign])\n",
    "        eqn= eqn+' '+sign+' '\n",
    "      \n",
    "    return eqn[:-3]"
   ]
  },
  {
   "cell_type": "code",
   "execution_count": 8,
   "metadata": {},
   "outputs": [
    {
     "data": {
      "text/plain": [
       "'6.x1^2.x2.x4 - 4.x1^2.x4^3 - 7.x1^2.x2^2 - 3.x1 - 7.x1^3.x3.x5 - 5.x1^5 - 6.x5'"
      ]
     },
     "execution_count": 8,
     "metadata": {},
     "output_type": "execute_result"
    }
   ],
   "source": [
    "gen_multinomial(coefficients=True)"
   ]
  },
  {
   "cell_type": "code",
   "execution_count": 9,
   "metadata": {},
   "outputs": [],
   "source": [
    "def make_equation_system(n_samples=10,n_features=5,max_power=5,max_terms=10,\n",
    "                               fixed_terms=None,coefficients=False,prob_negative_sign=0.3):\n",
    "    \"\"\"\n",
    "    Generates multiple samples of multinomials for constructing a system of equations\n",
    "    \"\"\"\n",
    "    regressions=[]\n",
    "    for i in range(n_samples):\n",
    "        regressions.append(gen_multinomial(n_features=n_features,max_power=max_power,\n",
    "                                           max_terms=max_terms,fixed_terms=fixed_terms,\n",
    "                                           coefficients=coefficients,prob_negative_sign=prob_negative_sign))\n",
    "    \n",
    "    return regressions"
   ]
  },
  {
   "cell_type": "code",
   "execution_count": 10,
   "metadata": {},
   "outputs": [
    {
     "data": {
      "text/plain": [
       "['10.x2 - x1 - 7.x1 - 6.x1',\n",
       " '2.x2.x4^2 - 2.x1 + 8.x1.x2.x4 - 10.x4',\n",
       " '8.x1^2 - 4.x1.x2 + 6.x1^3 + 4.x1',\n",
       " '2.x1^3 + 3.x1.x2^2 - 9.x1^2.x4 - 9.x1',\n",
       " '7.x1.x3 - x1^3 + x1^2.x3 + 3.x2^2.x3',\n",
       " '10.x2^2.x4 - 8.x2 + 5.x1.x3 + x2^2.x4',\n",
       " '2.x1^3 - x1.x4 - 5.x1^2 + 2.x3',\n",
       " '10.x1 + 4.x1.x2 - 9.x1^2.x4 + 3.x1^2.x4',\n",
       " 'x2 - x1^3 + x2.x3^2 - 10.x1^2',\n",
       " '3.x1.x2.x4 - 3.x1^3 + 3.x1^2 - 3.x1']"
      ]
     },
     "execution_count": 10,
     "metadata": {},
     "output_type": "execute_result"
    }
   ],
   "source": [
    "make_equation_system(n_samples=10,n_features=4,max_power=3,max_terms=8,fixed_terms=4,\n",
    "                     coefficients=True,prob_negative_sign=0.5)"
   ]
  },
  {
   "cell_type": "markdown",
   "metadata": {},
   "source": [
    "### Evaluate a polynomial string"
   ]
  },
  {
   "cell_type": "code",
   "execution_count": null,
   "metadata": {},
   "outputs": [],
   "source": [
    "from sympy import *"
   ]
  },
  {
   "cell_type": "code",
   "execution_count": 11,
   "metadata": {},
   "outputs": [],
   "source": [
    "def symbolize(s):\n",
    "    \"\"\"\n",
    "    Converts a a string (equation) to a SymPy symbol object\n",
    "    \"\"\"\n",
    "    from sympy import sympify\n",
    "    s1=s.replace('.','*')\n",
    "    s2=s1.replace('^','**')\n",
    "    s3=sympify(s2)\n",
    "    \n",
    "    return(s3)"
   ]
  },
  {
   "cell_type": "code",
   "execution_count": 22,
   "metadata": {},
   "outputs": [],
   "source": [
    "def eval_multinomial(s,vals=None,symbolic_eval=False):\n",
    "    \"\"\"\n",
    "    Evaluates polynomial at vals.\n",
    "    vals can be simple list, dictionary, or tuple of values.\n",
    "    vals can also contain symbols instead of real values provided those symbols have been declared before using SymPy\n",
    "    \"\"\"\n",
    "    from sympy import Symbol,sympify,symbols\n",
    "    \n",
    "    sym_s=symbolize(s)\n",
    "    sym_set=sym_s.atoms(Symbol)\n",
    "    sym_lst=[]\n",
    "    for s in sym_set:\n",
    "        sym_lst.append(str(s))\n",
    "    sym_lst.sort()\n",
    "    if symbolic_eval==False and len(sym_set)!=len(vals):\n",
    "        print(\"Length of the input values did not match number of variables and symbolic evaluation is not selected\")\n",
    "        return None\n",
    "    else:\n",
    "        if type(vals)==list:\n",
    "            sub=list(zip(sym_lst,vals))\n",
    "        elif type(vals)==dict:\n",
    "            l=list(vals.keys())\n",
    "            l.sort()\n",
    "            lst=[]\n",
    "            for i in l:\n",
    "                lst.append(vals[i])\n",
    "            sub=list(zip(sym_lst,lst))\n",
    "        elif type(vals)==tuple:\n",
    "            sub=list(zip(sym_lst,list(vals)))\n",
    "        result=sym_s.subs(sub)\n",
    "    \n",
    "    return result"
   ]
  },
  {
   "cell_type": "code",
   "execution_count": 23,
   "metadata": {},
   "outputs": [],
   "source": [
    "s1=gen_multinomial(fixed_terms=5,coefficients=True)"
   ]
  },
  {
   "cell_type": "code",
   "execution_count": 24,
   "metadata": {},
   "outputs": [
    {
     "data": {
      "text/plain": [
       "'2.x4 - 6.x2^2.x3 - 10.x1 - 6.x3^2.x4^2 - 8.x1^3.x2.x5'"
      ]
     },
     "execution_count": 24,
     "metadata": {},
     "output_type": "execute_result"
    }
   ],
   "source": [
    "s1"
   ]
  },
  {
   "cell_type": "code",
   "execution_count": 25,
   "metadata": {},
   "outputs": [
    {
     "data": {
      "text/plain": [
       "-266"
      ]
     },
     "execution_count": 25,
     "metadata": {},
     "output_type": "execute_result"
    }
   ],
   "source": [
    "eval_multinomial(s1,{'x1':2,'x3':1,'x4':0,'x2':3,'x5':1},symbolic_eval=True)"
   ]
  },
  {
   "cell_type": "code",
   "execution_count": 26,
   "metadata": {},
   "outputs": [
    {
     "name": "stdout",
     "output_type": "stream",
     "text": [
      "Length of the input values did not match number of variables and symbolic evaluation is not selected\n"
     ]
    }
   ],
   "source": [
    "vals=(2,3,1)\n",
    "eval_multinomial(s1,vals)"
   ]
  },
  {
   "cell_type": "code",
   "execution_count": 27,
   "metadata": {},
   "outputs": [
    {
     "data": {
      "text/plain": [
       "-12*x**2 - 64*x*y - 112"
      ]
     },
     "execution_count": 27,
     "metadata": {},
     "output_type": "execute_result"
    }
   ],
   "source": [
    "from sympy import symbols\n",
    "x,y=symbols('x y')\n",
    "vals=[2,x,2,2,y]\n",
    "eval_multinomial(s1,vals,symbolic_eval=True)"
   ]
  },
  {
   "cell_type": "markdown",
   "metadata": {},
   "source": [
    "### Pretty printing and LaTeX format output"
   ]
  },
  {
   "cell_type": "code",
   "execution_count": 28,
   "metadata": {},
   "outputs": [],
   "source": [
    "def pretty_multinomial(n_features=5,max_power=5,max_terms=10,fixed_terms=None,coefficients=False):\n",
    "    from sympy import init_printing\n",
    "    init_printing()\n",
    "    s=gen_multinomial(n_features=n_features,max_power=max_power,max_terms=max_terms,\n",
    "                      fixed_terms=fixed_terms,coefficients=coefficients)\n",
    "    sym_s=symbolize(s)\n",
    "    return(sym_s)"
   ]
  },
  {
   "cell_type": "code",
   "execution_count": 29,
   "metadata": {},
   "outputs": [
    {
     "data": {
      "image/png": "[encoded data removed]",
      "text/latex": [
       "$$3 x_{1}^{2} x_{2}^{2} - 10 x_{1}^{2} x_{5} + x_{1} x_{2}^{2} x_{5} - 9 x_{5}^{2}$$"
      ],
      "text/plain": [
       "    2   2        2           2          2\n",
       "3⋅x₁ ⋅x₂  - 10⋅x₁ ⋅x₅ + x₁⋅x₂ ⋅x₅ - 9⋅x₅ "
      ]
     },
     "execution_count": 29,
     "metadata": {},
     "output_type": "execute_result"
    }
   ],
   "source": [
    "pretty_multinomial(coefficients=True,fixed_terms=4)"
   ]
  },
  {
   "cell_type": "code",
   "execution_count": 30,
   "metadata": {},
   "outputs": [],
   "source": [
    "def latex_multinomial(n_features=5,max_power=5,max_terms=10,fixed_terms=None,coefficients=False):\n",
    "    from sympy import latex\n",
    "    s=gen_multinomial(n_features=n_features,max_power=max_power,max_terms=max_terms,\n",
    "                      fixed_terms=fixed_terms,coefficients=coefficients)\n",
    "    sym_s=symbolize(s)\n",
    "    return(latex(sym_s))"
   ]
  },
  {
   "cell_type": "code",
   "execution_count": 31,
   "metadata": {},
   "outputs": [
    {
     "data": {
      "text/plain": [
       "'5 x_{1}^{4} - 10 x_{1}^{2} x_{2} x_{5} + x_{1}^{2} x_{3} - 10 x_{2}^{3}'"
      ]
     },
     "execution_count": 31,
     "metadata": {},
     "output_type": "execute_result"
    }
   ],
   "source": [
    "latex_multinomial(coefficients=True,fixed_terms=4)"
   ]
  },
  {
   "cell_type": "code",
   "execution_count": 32,
   "metadata": {},
   "outputs": [
    {
     "data": {
      "image/png": "[encoded data removed]",
      "text/latex": [
       "$$\\left [ - 3 x_{1}^{4} x_{2} + 7 x_{1}^{3} + 9 x_{1}^{2} x_{2} x_{3} + 10 x_{1} x_{2}^{3} - x_{1} x_{5} + 7 x_{2}^{3} - 8 x_{3}^{5}, \\quad 2 x_{1}^{5} + 13 x_{1}^{2} - 7 x_{1} x_{2} + 10 x_{1} + 9 x_{4}, \\quad x_{1}^{5} + 4 x_{1}^{2} x_{2} - 6 x_{1}^{2} - 10 x_{1} x_{2}^{2} + 8 x_{1} x_{5} - 5 x_{1} - 4 x_{2}^{3} - x_{3}, \\quad - 8 x_{1}^{2} x_{2} + 6 x_{2}^{3} x_{3} x_{4} + 10 x_{2}^{3}, \\quad - 7 x_{1}^{4} + 7 x_{1}^{2} x_{3}^{2} x_{5} - 2 x_{1} x_{2} - 4 x_{1} + 10 x_{2}^{3} x_{3} - 9 x_{2}^{3} + 4 x_{2} + 7 x_{4}, \\quad 2 x_{1}^{5} - x_{1}^{2} x_{2} + x_{1} x_{2} x_{3} x_{5} - 2 x_{3}^{2}\\right ]$$"
      ],
      "text/plain": [
       "⎡      4          3       2                 3               3       5      5  \n",
       "⎣- 3⋅x₁ ⋅x₂ + 7⋅x₁  + 9⋅x₁ ⋅x₂⋅x₃ + 10⋅x₁⋅x₂  - x₁⋅x₅ + 7⋅x₂  - 8⋅x₃ , 2⋅x₁  +\n",
       "\n",
       "      2                             5       2          2           2          \n",
       " 13⋅x₁  - 7⋅x₁⋅x₂ + 10⋅x₁ + 9⋅x₄, x₁  + 4⋅x₁ ⋅x₂ - 6⋅x₁  - 10⋅x₁⋅x₂  + 8⋅x₁⋅x₅\n",
       "\n",
       "              3             2          3              3        4       2   2  \n",
       " - 5⋅x₁ - 4⋅x₂  - x₃, - 8⋅x₁ ⋅x₂ + 6⋅x₂ ⋅x₃⋅x₄ + 10⋅x₂ , - 7⋅x₁  + 7⋅x₁ ⋅x₃ ⋅x\n",
       "\n",
       "                          3          3                    5     2             \n",
       "₅ - 2⋅x₁⋅x₂ - 4⋅x₁ + 10⋅x₂ ⋅x₃ - 9⋅x₂  + 4⋅x₂ + 7⋅x₄, 2⋅x₁  - x₁ ⋅x₂ + x₁⋅x₂⋅x\n",
       "\n",
       "           2⎤\n",
       "₃⋅x₅ - 2⋅x₃ ⎦"
      ]
     },
     "execution_count": 32,
     "metadata": {},
     "output_type": "execute_result"
    }
   ],
   "source": [
    "lst=[]\n",
    "for i in range(6):\n",
    "    lst.append(pretty_multinomial(coefficients=True))\n",
    "lst"
   ]
  },
  {
   "cell_type": "code",
   "execution_count": 33,
   "metadata": {},
   "outputs": [
    {
     "data": {
      "image/png": "[encoded data removed]",
      "text/latex": [
       "$$- 9 x_{1} x_{2}^{2} - 7 x_{1} + 6 x_{2}$$"
      ],
      "text/plain": [
       "         2              \n",
       "- 9⋅x₁⋅x₂  - 7⋅x₁ + 6⋅x₂"
      ]
     },
     "execution_count": 33,
     "metadata": {},
     "output_type": "execute_result"
    }
   ],
   "source": [
    "pretty_multinomial(n_features=2,max_power=4,coefficients=True)"
   ]
  },
  {
   "cell_type": "code",
   "execution_count": null,
   "metadata": {},
   "outputs": [],
   "source": []
  }
 ],
 "metadata": {
  "kernelspec": {
   "display_name": "Python 3",
   "language": "python",
   "name": "python3"
  },
  "language_info": {
   "codemirror_mode": {
    "name": "ipython",
    "version": 3
   },
   "file_extension": ".py",
   "mimetype": "text/x-python",
   "name": "python",
   "nbconvert_exporter": "python",
   "pygments_lexer": "ipython3",
   "version": "3.6.2"
  },
  "latex_envs": {
   "LaTeX_envs_menu_present": true,
   "autoclose": false,
   "autocomplete": true,
   "bibliofile": "biblio.bib",
   "cite_by": "apalike",
   "current_citInitial": 1,
   "eqLabelWithNumbers": true,
   "eqNumInitial": 1,
   "hotkeys": {
    "equation": "Ctrl-E",
    "itemize": "Ctrl-I"
   },
   "labels_anchors": false,
   "latex_user_defs": false,
   "report_style_numbering": false,
   "user_envs_cfg": false
  }
 },
 "nbformat": 4,
 "nbformat_minor": 2
}
