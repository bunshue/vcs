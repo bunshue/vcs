{
 "cells": [
  {
   "cell_type": "code",
   "execution_count": 7,
   "metadata": {},
   "outputs": [
    {
     "name": "stdout",
     "output_type": "stream",
     "text": [
      "請輸入你要找的數：10\n",
      "你的要找的數字10在數列中！\n"
     ]
    }
   ],
   "source": [
    "lst = [1, 4, 7, 10, 23, 45, 67, 88]\n",
    "target = int(input(\"請輸入你要找的數：\"))\n",
    "if target in lst:\n",
    "    print(\"你的要找的數字{}在數列中！\".format(target))\n",
    "else:\n",
    "    print(\"你的要找的數字{}並不在數列中！\".format(target))"
   ]
  },
  {
   "cell_type": "code",
   "execution_count": 21,
   "metadata": {},
   "outputs": [
    {
     "name": "stdout",
     "output_type": "stream",
     "text": [
      "請輸入你要找的數：10\n",
      "你的要找的數字10在數列中！\n",
      "數字10是在數列中的第3個位置上。\n"
     ]
    }
   ],
   "source": [
    "lst = [1, 4, 7, 10, 23, 45, 67, 88]\n",
    "target = int(input(\"請輸入你要找的數：\"))\n",
    "if target in lst:\n",
    "    print(\"你的要找的數字{}在數列中！\".format(target))\n",
    "    print(\"數字{}是在數列中的第{}個位置上。\".format(target, lst.index(target)))\n",
    "else:\n",
    "    print(\"你的要找的數字{}並不在數列中！\".format(target))"
   ]
  },
  {
   "cell_type": "code",
   "execution_count": 26,
   "metadata": {},
   "outputs": [
    {
     "name": "stdout",
     "output_type": "stream",
     "text": [
      "請輸入你要找的數：10\n",
      "你要找的數字3在數列中！\n",
      "數字10是在數列的第3個位置上。\n"
     ]
    }
   ],
   "source": [
    "lst = [1, 4, 7, 10, 23, 45, 67, 88]\n",
    "target = int(input(\"請輸入你要找的數：\"))\n",
    "found = False\n",
    "for i, number in enumerate(lst):\n",
    "    if number == target:\n",
    "        print(\"你要找的數字{}在數列中！\".format(i))\n",
    "        print(\"數字{}是在數列的第{}個位置上。\".format(target, i))\n",
    "        found = True\n",
    "        break\n",
    "if not found:\n",
    "    print(\"你的要找的數字{}並不在數列中！\".format(target))"
   ]
  },
  {
   "cell_type": "code",
   "execution_count": 22,
   "metadata": {},
   "outputs": [
    {
     "name": "stdout",
     "output_type": "stream",
     "text": [
      "請輸入你要找的數：100\n",
      "(n:100,[target]:68), left:8, right:14, target:11\n",
      "(n:100,[target]:79), left:12, right:14, target:13\n",
      "(n:100,[target]:88), left:14, right:14, target:14\n",
      "(n:100,[target]:88), left:15, right:14, target:14\n",
      "你的要找的數字100並不在數列中！\n"
     ]
    }
   ],
   "source": [
    "lst = [7, 12, 16, 23, 28, 32, 34, 39, 45, 54, 59, 68, 73, 79, 88]\n",
    "n = int(input(\"請輸入你要找的數：\"))\n",
    "left, right = 0, len(lst)-1\n",
    "target = (left + right) // 2\n",
    "while lst[target] != n and left <= right:\n",
    "    if n > lst[target]:\n",
    "        left = target + 1\n",
    "    else:\n",
    "        right = target - 1\n",
    "    target = (left + right) // 2\n",
    "    print(\"(n:{},lst[target]:{}), left:{}, right:{}, target:{}\".format(\n",
    "        n, lst[target], left, right, target))\n",
    "if left > right:\n",
    "    print(\"你的要找的數字{}並不在數列中！\".format(n))\n",
    "else:\n",
    "    print(\"你要找的數字{}在數列中！\".format(n))\n",
    "    print(\"數字{}是在數列的第{}個位置上。\".format(n, target))"
   ]
  },
  {
   "cell_type": "code",
   "execution_count": 3,
   "metadata": {},
   "outputs": [
    {
     "name": "stdout",
     "output_type": "stream",
     "text": [
      "[32, 49, 58, 69, 80, 43, 83, 59, 18, 34]\n",
      "最大值是83，它的位置在6。\n"
     ]
    }
   ],
   "source": [
    "import random\n",
    "lst = [random.randint(1, 100) for n in range(10)]\n",
    "max_number = max(lst)\n",
    "max_number_index = lst.index(max_number)\n",
    "print(lst)\n",
    "print(\"最大值是{}，它的位置在{}。\".format(max_number, max_number_index))"
   ]
  },
  {
   "cell_type": "code",
   "execution_count": 10,
   "metadata": {},
   "outputs": [
    {
     "name": "stdout",
     "output_type": "stream",
     "text": [
      "[70, 52, 41, 66, 21, 78, 51, 48, 75, 44]\n",
      "最大值是78，它的位置在5。\n"
     ]
    }
   ],
   "source": [
    "import random\n",
    "lst = [random.randint(1, 100) for n in range(10)]\n",
    "max_number_index = 0\n",
    "max_number = lst[0]\n",
    "for i, n in enumerate(lst[1:]):\n",
    "    if n > max_number:\n",
    "        max_number = n\n",
    "        max_number_index = i + 1\n",
    "print(lst)\n",
    "print(\"最大值是{}，它的位置在{}。\".format(max_number, max_number_index))"
   ]
  },
  {
   "cell_type": "code",
   "execution_count": 2,
   "metadata": {},
   "outputs": [
    {
     "name": "stdout",
     "output_type": "stream",
     "text": [
      "<zip object at 0x0000014B829AA148>\n",
      "('子', '鼠')\n",
      "('丑', '牛')\n",
      "('寅', '虎')\n",
      "('卯', '兔')\n",
      "('辰', '龍')\n",
      "('巳', '蛇')\n",
      "('午', '馬')\n",
      "('未', '羊')\n",
      "('申', '猴')\n",
      "('酉', '雞')\n",
      "('戌', '狗')\n",
      "('亥', '豬')\n",
      "[('子', '鼠'), ('丑', '牛'), ('寅', '虎'), ('卯', '兔'), ('辰', '龍'), ('巳', '蛇'), ('午', '馬'), ('未', '羊'), ('申', '猴'), ('酉', '雞'), ('戌', '狗'), ('亥', '豬')]\n"
     ]
    }
   ],
   "source": [
    "b = list('子丑寅卯辰巳午未申酉戌亥')\n",
    "c = list('鼠牛虎兔龍蛇馬羊猴雞狗豬')\n",
    "print(zip(b,c))\n",
    "for item in zip(b, c):\n",
    "    print(item)\n",
    "print([item for item in zip(b, c)])"
   ]
  },
  {
   "cell_type": "code",
   "execution_count": 1,
   "metadata": {},
   "outputs": [
    {
     "name": "stdout",
     "output_type": "stream",
     "text": [
      "('甲', '子')\n",
      "('甲', '丑')\n",
      "('甲', '寅')\n",
      "('甲', '卯')\n",
      "('甲', '辰')\n",
      "('甲', '巳')\n",
      "('甲', '午')\n",
      "('甲', '未')\n",
      "('甲', '申')\n",
      "('甲', '酉')\n",
      "('甲', '戌')\n",
      "('甲', '亥')\n",
      "('乙', '子')\n",
      "('乙', '丑')\n",
      "('乙', '寅')\n",
      "('乙', '卯')\n",
      "('乙', '辰')\n",
      "('乙', '巳')\n",
      "('乙', '午')\n",
      "('乙', '未')\n",
      "('乙', '申')\n",
      "('乙', '酉')\n",
      "('乙', '戌')\n",
      "('乙', '亥')\n",
      "('丙', '子')\n",
      "('丙', '丑')\n",
      "('丙', '寅')\n",
      "('丙', '卯')\n",
      "('丙', '辰')\n",
      "('丙', '巳')\n",
      "('丙', '午')\n",
      "('丙', '未')\n",
      "('丙', '申')\n",
      "('丙', '酉')\n",
      "('丙', '戌')\n",
      "('丙', '亥')\n",
      "('丁', '子')\n",
      "('丁', '丑')\n",
      "('丁', '寅')\n",
      "('丁', '卯')\n",
      "('丁', '辰')\n",
      "('丁', '巳')\n",
      "('丁', '午')\n",
      "('丁', '未')\n",
      "('丁', '申')\n",
      "('丁', '酉')\n",
      "('丁', '戌')\n",
      "('丁', '亥')\n",
      "('戊', '子')\n",
      "('戊', '丑')\n",
      "('戊', '寅')\n",
      "('戊', '卯')\n",
      "('戊', '辰')\n",
      "('戊', '巳')\n",
      "('戊', '午')\n",
      "('戊', '未')\n",
      "('戊', '申')\n",
      "('戊', '酉')\n",
      "('戊', '戌')\n",
      "('戊', '亥')\n",
      "('己', '子')\n",
      "('己', '丑')\n",
      "('己', '寅')\n",
      "('己', '卯')\n",
      "('己', '辰')\n",
      "('己', '巳')\n",
      "('己', '午')\n",
      "('己', '未')\n",
      "('己', '申')\n",
      "('己', '酉')\n",
      "('己', '戌')\n",
      "('己', '亥')\n",
      "('庚', '子')\n",
      "('庚', '丑')\n",
      "('庚', '寅')\n",
      "('庚', '卯')\n",
      "('庚', '辰')\n",
      "('庚', '巳')\n",
      "('庚', '午')\n",
      "('庚', '未')\n",
      "('庚', '申')\n",
      "('庚', '酉')\n",
      "('庚', '戌')\n",
      "('庚', '亥')\n",
      "('辛', '子')\n",
      "('辛', '丑')\n",
      "('辛', '寅')\n",
      "('辛', '卯')\n",
      "('辛', '辰')\n",
      "('辛', '巳')\n",
      "('辛', '午')\n",
      "('辛', '未')\n",
      "('辛', '申')\n",
      "('辛', '酉')\n",
      "('辛', '戌')\n",
      "('辛', '亥')\n",
      "('壬', '子')\n",
      "('壬', '丑')\n",
      "('壬', '寅')\n",
      "('壬', '卯')\n",
      "('壬', '辰')\n",
      "('壬', '巳')\n",
      "('壬', '午')\n",
      "('壬', '未')\n",
      "('壬', '申')\n",
      "('壬', '酉')\n",
      "('壬', '戌')\n",
      "('壬', '亥')\n",
      "('癸', '子')\n",
      "('癸', '丑')\n",
      "('癸', '寅')\n",
      "('癸', '卯')\n",
      "('癸', '辰')\n",
      "('癸', '巳')\n",
      "('癸', '午')\n",
      "('癸', '未')\n",
      "('癸', '申')\n",
      "('癸', '酉')\n",
      "('癸', '戌')\n",
      "('癸', '亥')\n"
     ]
    }
   ],
   "source": [
    "a = list('甲乙丙丁戊己庚辛壬癸')\n",
    "b = list('子丑寅卯辰巳午未申酉戌亥')\n",
    "for i in a:\n",
    "    for j in b:\n",
    "        print((i, j))"
   ]
  },
  {
   "cell_type": "code",
   "execution_count": 2,
   "metadata": {},
   "outputs": [
    {
     "name": "stdout",
     "output_type": "stream",
     "text": [
      "[('甲', '子'), ('乙', '丑'), ('丙', '寅'), ('丁', '卯'), ('戊', '辰'), ('己', '巳'), ('庚', '午'), ('辛', '未'), ('壬', '申'), ('癸', '酉'), ('甲', '戌'), ('乙', '亥'), ('丙', '子'), ('丁', '丑'), ('戊', '寅'), ('己', '卯'), ('庚', '辰'), ('辛', '巳'), ('壬', '午'), ('癸', '未'), ('甲', '申'), ('乙', '酉'), ('丙', '戌'), ('丁', '亥'), ('戊', '子'), ('己', '丑'), ('庚', '寅'), ('辛', '卯'), ('壬', '辰'), ('癸', '巳'), ('甲', '午'), ('乙', '未'), ('丙', '申'), ('丁', '酉'), ('戊', '戌'), ('己', '亥'), ('庚', '子'), ('辛', '丑'), ('壬', '寅'), ('癸', '卯'), ('甲', '辰'), ('乙', '巳'), ('丙', '午'), ('丁', '未'), ('戊', '申'), ('己', '酉'), ('庚', '戌'), ('辛', '亥'), ('壬', '子'), ('癸', '丑'), ('甲', '寅'), ('乙', '卯'), ('丙', '辰'), ('丁', '巳'), ('戊', '午'), ('己', '未'), ('庚', '申'), ('辛', '酉'), ('壬', '戌'), ('癸', '亥')]\n"
     ]
    }
   ],
   "source": [
    "a = list('甲乙丙丁戊己庚辛壬癸')\n",
    "b = list('子丑寅卯辰巳午未申酉戌亥')\n",
    "years = list()\n",
    "a_index = 0\n",
    "b_index = 0\n",
    "for i in range(60):\n",
    "    years.append((a[a_index], b[b_index]))\n",
    "    a_index += 1\n",
    "    if a_index >= 10: \n",
    "        a_index = 0\n",
    "    b_index += 1\n",
    "    if b_index >= 12:\n",
    "        b_index = 0\n",
    "print(years)"
   ]
  },
  {
   "cell_type": "code",
   "execution_count": 6,
   "metadata": {
    "scrolled": true
   },
   "outputs": [
    {
     "name": "stdout",
     "output_type": "stream",
     "text": [
      "[('甲', '子'), ('乙', '丑'), ('丙', '寅'), ('丁', '卯'), ('戊', '辰'), ('己', '巳'), ('庚', '午'), ('辛', '未'), ('壬', '申'), ('癸', '酉'), ('甲', '戌'), ('乙', '亥'), ('丙', '子'), ('丁', '丑'), ('戊', '寅'), ('己', '卯'), ('庚', '辰'), ('辛', '巳'), ('壬', '午'), ('癸', '未'), ('甲', '申'), ('乙', '酉'), ('丙', '戌'), ('丁', '亥'), ('戊', '子'), ('己', '丑'), ('庚', '寅'), ('辛', '卯'), ('壬', '辰'), ('癸', '巳'), ('甲', '午'), ('乙', '未'), ('丙', '申'), ('丁', '酉'), ('戊', '戌'), ('己', '亥'), ('庚', '子'), ('辛', '丑'), ('壬', '寅'), ('癸', '卯'), ('甲', '辰'), ('乙', '巳'), ('丙', '午'), ('丁', '未'), ('戊', '申'), ('己', '酉'), ('庚', '戌'), ('辛', '亥'), ('壬', '子'), ('癸', '丑'), ('甲', '寅'), ('乙', '卯'), ('丙', '辰'), ('丁', '巳'), ('戊', '午'), ('己', '未'), ('庚', '申'), ('辛', '酉'), ('壬', '戌'), ('癸', '亥')]\n"
     ]
    }
   ],
   "source": [
    "a = list('甲乙丙丁戊己庚辛壬癸'*6)\n",
    "b = list('子丑寅卯辰巳午未申酉戌亥'*5)\n",
    "years = list(zip(a, b))\n",
    "print(years)"
   ]
  },
  {
   "cell_type": "code",
   "execution_count": 6,
   "metadata": {},
   "outputs": [
    {
     "name": "stdout",
     "output_type": "stream",
     "text": [
      "明文： the real name of 007 is james bond and he will take action at 1100pm tonight\n",
      "密文：vjg\"tgcn\"pcog\"qh\"229\"ku\"lcogu\"dqpf\"cpf\"jg\"yknn\"vcmg\"cevkqp\"cv\"3322ro\"vqpkijv"
     ]
    }
   ],
   "source": [
    "clear_text = \"the real name of 007 is james bond and he will take action at 1100pm tonight\"\n",
    "print(\"明文：\", clear_text)\n",
    "print(\"密文：\", end=\"\")\n",
    "for c in clear_text:\n",
    "    print(chr(ord(c)+2), end=\"\")"
   ]
  },
  {
   "cell_type": "code",
   "execution_count": 8,
   "metadata": {},
   "outputs": [
    {
     "name": "stdout",
     "output_type": "stream",
     "text": [
      "明文： the real name of 007 is james bond and he will take action at 1100pm tonight\n",
      "密文： vjg\"tgcn\"pcog\"qh\"229\"ku\"lcogu\"dqpf\"cpf\"jg\"yknn\"vcmg\"cevkqp\"cv\"3322ro\"vqpkijv\n",
      "解密後： the real name of 007 is james bond and he will take action at 1100pm tonight\n"
     ]
    }
   ],
   "source": [
    "clear_text = \"the real name of 007 is james bond and he will take action at 1100pm tonight\"\n",
    "print(\"明文：\", clear_text)\n",
    "cipher_text = \"\"\n",
    "for c in clear_text:\n",
    "    cipher_text += chr(ord(c)+2)\n",
    "print(\"密文：\", cipher_text)\n",
    "clear_text = \"\"\n",
    "for c in cipher_text:\n",
    "    clear_text += chr(ord(c)-2)\n",
    "print(\"解密後：\", clear_text)"
   ]
  },
  {
   "cell_type": "code",
   "execution_count": 18,
   "metadata": {},
   "outputs": [
    {
     "name": "stdout",
     "output_type": "stream",
     "text": [
      "r0b2dbep2seyb28u2qqk2c32heyb3258si2esi20b2ncpp2remb2exrc8s2er2aaqq9y2r8scj0r\n",
      "the real name of 007 is james bond and he will take action at 1100pm tonight"
     ]
    }
   ],
   "source": [
    "row1 = list(\"abcdefghijklmnopqrstuvwxyz 0123456789\")\n",
    "row2 = list(\"e5xibuj0chmpys89zd3r vn4wg2qal67tfko1\")\n",
    "encode = dict(zip(row1, row2))\n",
    "decode = dict(zip(row2, row1))\n",
    "clear_text = \"the real name of 007 is james bond and he will take action at 1100pm tonight\"\n",
    "cipher_text = \"\"\n",
    "for c in clear_text:\n",
    "    cipher_text += encode[c]\n",
    "print(cipher_text)\n",
    "for c in cipher_text:\n",
    "    print(decode[c], end=\"\")"
   ]
  },
  {
   "cell_type": "code",
   "execution_count": 3,
   "metadata": {},
   "outputs": [
    {
     "name": "stdout",
     "output_type": "stream",
     "text": [
      "the real name of 007 is james bond and he will take action at 1100pm tonight\n",
      "1234123412341234123412341234123412341234123412341234123412341234123412341234\n"
     ]
    }
   ],
   "source": [
    "clear_text = \"the real name of 007 is james bond and he will take action at 1100pm tonight\"\n",
    "index = [str(i%4+1) for i in range(len(clear_text))]\n",
    "str1 = \"\".join(index)\n",
    "print(clear_text)\n",
    "print(str1)"
   ]
  },
  {
   "cell_type": "code",
   "execution_count": 6,
   "metadata": {},
   "outputs": [
    {
     "name": "stdout",
     "output_type": "stream",
     "text": [
      "錀匙： [2, 0, 1, 3]\n",
      "明文\n",
      "the real name of 007 is james bond and he will take action at 1100pm tonight\n",
      "04812162024283236404448525660646872\n",
      "切割區塊之後的串列：\n",
      "['the ', 'real', ' nam', 'e of', ' 007', ' is ', 'jame', 's bo', 'nd a', 'nd h', 'e wi', 'll t', 'ake ', 'acti', 'on a', 't 11', '00pm', ' ton', 'ight']\n",
      "密文：\n",
      "eaao0smb  w et 1pohtr e  jsnnelaaot0 ihen 0ia dd lkcn 0tg lmf7 eoahit ia1mnt\n",
      "解碼後的字串：\n",
      "the real name of 007 is james bond and he will take action at 1100pm tonight\n"
     ]
    }
   ],
   "source": [
    "clear_text = \"the real name of 007 is james bond and he will take action at 1100pm tonight\"\n",
    "#clear_text = \"0123456789abcdef\"\n",
    "cipher_key = [2, 0, 1, 3]\n",
    "print(\"錀匙：\", cipher_key)\n",
    "print(\"明文\")\n",
    "print(clear_text)\n",
    "\n",
    "#encode process\n",
    "seg_str = list()\n",
    "for i in range(0, len(clear_text), 4):\n",
    "    seg_str.append(clear_text[i:i+4])\n",
    "    print(i, end=\"\")\n",
    "print()\n",
    "print(\"切割區塊之後的串列：\")\n",
    "print(seg_str)\n",
    "cipher_list = list()\n",
    "for i in cipher_key:\n",
    "    for w in seg_str:\n",
    "        cipher_list.append(w[i])\n",
    "cipher_text = \"\".join(cipher_list)\n",
    "print(\"密文：\")\n",
    "print(cipher_text)\n",
    "#decode process\n",
    "result = dict()\n",
    "index = 0\n",
    "for k in cipher_key:\n",
    "    for count in range(len(clear_text)//4):\n",
    "        result[count*4+k] = cipher_text[index]\n",
    "        index = index + 1\n",
    "decoded_list = [result[k] for k in sorted(result)]\n",
    "decoded_str = \"\".join(decoded_list)\n",
    "print(\"解碼後的字串：\")\n",
    "print(decoded_str)"
   ]
  },
  {
   "cell_type": "code",
   "execution_count": null,
   "metadata": {},
   "outputs": [],
   "source": []
  }
 ],
 "metadata": {
  "kernelspec": {
   "display_name": "Python 3",
   "language": "python",
   "name": "python3"
  },
  "language_info": {
   "codemirror_mode": {
    "name": "ipython",
    "version": 3
   },
   "file_extension": ".py",
   "mimetype": "text/x-python",
   "name": "python",
   "nbconvert_exporter": "python",
   "pygments_lexer": "ipython3",
   "version": "3.7.0"
  }
 },
 "nbformat": 4,
 "nbformat_minor": 2
}
