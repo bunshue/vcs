{
 "cells": [
  {
   "cell_type": "code",
   "execution_count": 21,
   "metadata": {
    "collapsed": true
   },
   "outputs": [],
   "source": [
    "import turtle as tu\n",
    "tu.color('blue')\n",
    "for i in range(4):\n",
    "    tu.forward(120)\n",
    "    tu.left(90)\n",
    "tu.done()"
   ]
  },
  {
   "cell_type": "code",
   "execution_count": 1,
   "metadata": {
    "collapsed": true
   },
   "outputs": [],
   "source": [
    "import turtle as tu\n",
    "circle_colors = ['red', 'yellow', 'blue', 'black', 'gray']\n",
    "tu.pensize(3)\n",
    "tu.penup()\n",
    "for i in range(len(circle_colors)):\n",
    "    tu.goto(-200+i*50, 0)\n",
    "    tu.pendown()\n",
    "    tu.color(circle_colors[i])\n",
    "    tu.circle(80,360)\n",
    "    tu.penup()\n",
    "tu.done()"
   ]
  },
  {
   "cell_type": "code",
   "execution_count": 3,
   "metadata": {
    "collapsed": true
   },
   "outputs": [],
   "source": [
    "import turtle as tu\n",
    "circle_colors = ['red', 'yellow', 'blue', 'black', 'gray']\n",
    "tu.pensize(3)\n",
    "tu.penup()\n",
    "for i, c in enumerate(circle_colors):\n",
    "    tu.goto(-200+i*50, 0)\n",
    "    tu.pendown()\n",
    "    tu.color(c)\n",
    "    tu.circle(80,360)\n",
    "    tu.penup()\n",
    "tu.done()"
   ]
  },
  {
   "cell_type": "code",
   "execution_count": 7,
   "metadata": {},
   "outputs": [
    {
     "name": "stdout",
     "output_type": "stream",
     "text": [
      "請問要畫幾邊形？7\n"
     ]
    }
   ],
   "source": [
    "import turtle as tu\n",
    "n = int(input(\"請問要畫幾邊形？\"))\n",
    "tu.pensize(3)\n",
    "tu.color('blue')\n",
    "for i in range(n):\n",
    "    tu.left(360//n)\n",
    "    tu.forward(100)\n",
    "tu.goto(0,0)\n",
    "tu.done()"
   ]
  },
  {
   "cell_type": "code",
   "execution_count": 11,
   "metadata": {},
   "outputs": [
    {
     "name": "stdout",
     "output_type": "stream",
     "text": [
      "請問要畫幾邊形？12\n"
     ]
    }
   ],
   "source": [
    "import turtle as tu\n",
    "pos_list = list()\n",
    "n = int(input(\"請問要畫幾邊形？\"))\n",
    "tu.color('red')\n",
    "tu.speed(8)\n",
    "tu.penup()\n",
    "tu.goto(0,-200)\n",
    "for i in range(n):\n",
    "    tu.left(360//n)\n",
    "    tu.forward(100)\n",
    "    pos_list.append(tu.pos())\n",
    "for i in range(len(pos_list)):\n",
    "    for point in pos_list:\n",
    "        tu.penup()\n",
    "        tu.goto(pos_list[i])\n",
    "        tu.pendown()\n",
    "        tu.goto(point)\n",
    "tu.done()"
   ]
  },
  {
   "cell_type": "code",
   "execution_count": 23,
   "metadata": {
    "collapsed": true
   },
   "outputs": [],
   "source": [
    "import turtle as tu\n",
    "tu.speed(0)\n",
    "tu.color('blue')\n",
    "tu.pensize(3)\n",
    "for i in range(150):\n",
    "    tu.left(i//10)\n",
    "    tu.forward(6)\n",
    "tu.penup()\n",
    "tu.home()\n",
    "tu.pendown()\n",
    "for i in range(150):\n",
    "    tu.right(i//10)\n",
    "    tu.forward(6)\n",
    "tu.penup()\n",
    "tu.home()\n",
    "tu.pendown()\n",
    "for i in range(150):\n",
    "    tu.right(i//10)\n",
    "    tu.backward(6)\n",
    "tu.penup()\n",
    "tu.home()\n",
    "tu.pendown()\n",
    "for i in range(150):\n",
    "    tu.left(i//10)\n",
    "    tu.backward(6)\n",
    "tu.done()"
   ]
  },
  {
   "cell_type": "code",
   "execution_count": 25,
   "metadata": {
    "collapsed": true
   },
   "outputs": [],
   "source": [
    "import turtle as tu\n",
    "tu.color('red')\n",
    "tu.begin_fill()\n",
    "tu.left(90)\n",
    "for i in range(200):\n",
    "    tu.right(1)\n",
    "    tu.forward(1)\n",
    "tu.goto(0,-130)\n",
    "tu.goto(-110.96, -20.57)\n",
    "tu.penup()\n",
    "tu.goto(0,0)\n",
    "tu.pendown()\n",
    "tu.home()\n",
    "tu.left(90)\n",
    "for i in range(200):\n",
    "    tu.left(1)\n",
    "    tu.forward(1)\n",
    "tu.end_fill()\n",
    "tu.ht()\n",
    "tu.done()"
   ]
  },
  {
   "cell_type": "code",
   "execution_count": 27,
   "metadata": {
    "collapsed": true
   },
   "outputs": [],
   "source": [
    "import math\n",
    "import turtle as tu\n",
    "tu.speed(8)\n",
    "tu.penup()\n",
    "tu.goto(-200,0)\n",
    "tu.pendown()\n",
    "for d in range(0, 361, 5):\n",
    "    tu.goto(d-200, 100*math.sin(d*math.pi/180))\n",
    "tu.done()"
   ]
  },
  {
   "cell_type": "code",
   "execution_count": 29,
   "metadata": {
    "collapsed": true
   },
   "outputs": [],
   "source": [
    "import math\n",
    "import turtle as tu\n",
    "tu.speed(8)\n",
    "tu.pensize(3)\n",
    "tu.penup()\n",
    "tu.goto(-200,0)\n",
    "tu.color('red')\n",
    "tu.pendown()\n",
    "for d in range(0, 361, 5):\n",
    "    tu.goto(d-200, 100*math.sin(d*math.pi/180))\n",
    "tu.penup()\n",
    "tu.goto(-200,100)\n",
    "tu.color('blue')\n",
    "tu.pendown()\n",
    "for d in range(0, 361, 5):\n",
    "    tu.goto(d-200, 100*math.cos(d*math.pi/180))\n",
    "tu.done()"
   ]
  },
  {
   "cell_type": "code",
   "execution_count": 31,
   "metadata": {
    "collapsed": true
   },
   "outputs": [],
   "source": [
    "import math\n",
    "import turtle as tu\n",
    "tu.speed(8)\n",
    "tu.pensize(3)\n",
    "tu.penup()\n",
    "tu.goto(150,0)\n",
    "tu.color('red')\n",
    "tu.pendown()\n",
    "for d in range(0, 361, 2):\n",
    "    x = 150*math.cos(d*math.pi/180)\n",
    "    y = 150*math.sin(d*math.pi/180)\n",
    "    tu.goto(x, y)\n",
    "tu.done()"
   ]
  },
  {
   "cell_type": "code",
   "execution_count": 33,
   "metadata": {
    "collapsed": true
   },
   "outputs": [],
   "source": [
    "import math\n",
    "import turtle as tu\n",
    "tu.speed(8)\n",
    "tu.pensize(3)\n",
    "tu.penup()\n",
    "tu.goto(150,0)\n",
    "tu.color('red')\n",
    "tu.pendown()\n",
    "for d in range(0, 361, 2):\n",
    "    x = 150*math.cos(3*d*math.pi/180)\n",
    "    y = 150*math.sin(7*d*math.pi/180)\n",
    "    tu.goto(x, y)\n",
    "tu.done()"
   ]
  },
  {
   "cell_type": "code",
   "execution_count": 2,
   "metadata": {
    "collapsed": true
   },
   "outputs": [],
   "source": [
    "import math\n",
    "import turtle as tu\n",
    "\n",
    "def th(degree):\n",
    "    return degree*math.pi/180\n",
    "\n",
    "r = 100\n",
    "tu.speed(8)\n",
    "tu.pensize(3)\n",
    "tu.penup()\n",
    "tu.color('red')\n",
    "for d in range(0, 361, 2):\n",
    "    x = 2*r*(math.cos(th(d)) - 0.5 * math.cos(2*th(d)))\n",
    "    y = 2*r*(math.sin(th(d)) - 0.5 * math.sin(2*th(d)))\n",
    "    if d:\n",
    "        tu.pendown()\n",
    "    tu.goto(x, y)\n",
    "tu.done()"
   ]
  },
  {
   "cell_type": "code",
   "execution_count": 4,
   "metadata": {},
   "outputs": [],
   "source": [
    "import pygame as pg\n",
    "\n",
    "pg.init()\n",
    "screen = pg.display.set_mode((640, 480))\n",
    "pg.display.set_caption(\"Richard's pygame!\")\n",
    "bk = pg.Surface(screen.get_size())\n",
    "bk.fill((255,255,255))\n",
    "screen.blit(bk, (0,0))\n",
    "pg.display.update()\n",
    "quit = False\n",
    "while not quit:\n",
    "    for event in pg.event.get():\n",
    "        if event.type == pg.QUIT:\n",
    "            quit = True\n",
    "pg.quit()"
   ]
  },
  {
   "cell_type": "code",
   "execution_count": 12,
   "metadata": {
    "collapsed": true
   },
   "outputs": [],
   "source": [
    "import pygame as pg\n",
    "\n",
    "pg.init()\n",
    "screen = pg.display.set_mode((640, 480))\n",
    "pg.display.set_caption(\"Richard's pygame!\")\n",
    "bk = pg.Surface(screen.get_size())\n",
    "bk.fill((255,255,255))\n",
    "pg.draw.rect(bk, (255, 0, 0), (100, 100, 300, 300), 2)\n",
    "screen.blit(bk, (0,0))\n",
    "pg.display.update()\n",
    "quit = False\n",
    "while not quit:\n",
    "    for event in pg.event.get():\n",
    "        if event.type == pg.QUIT:\n",
    "            quit = True\n",
    "pg.quit()"
   ]
  },
  {
   "cell_type": "code",
   "execution_count": 12,
   "metadata": {},
   "outputs": [],
   "source": [
    "import random\n",
    "import pygame as pg\n",
    "import math\n",
    "\n",
    "pg.init()\n",
    "screen = pg.display.set_mode((640, 480))\n",
    "pg.display.set_caption(\"Richard's pygame!\")\n",
    "bk = pg.Surface(screen.get_size())\n",
    "bk.fill((255,255,255))\n",
    "lines = list()\n",
    "for th in range(0, 361):\n",
    "    y = 250 - 200 * math.sin(th*math.pi/180)   \n",
    "    lines.append((th+140, y))\n",
    "pg.draw.lines(bk, (0, 0, 255), False, lines, 2)\n",
    "    \n",
    "screen.blit(bk, (0,0))\n",
    "pg.display.update()\n",
    "quit = False\n",
    "while not quit:\n",
    "    for event in pg.event.get():\n",
    "        if event.type == pg.QUIT:\n",
    "            quit = True\n",
    "pg.quit()"
   ]
  }
 ],
 "metadata": {
  "kernelspec": {
   "display_name": "Python 3",
   "language": "python",
   "name": "python3"
  },
  "language_info": {
   "codemirror_mode": {
    "name": "ipython",
    "version": 3
   },
   "file_extension": ".py",
   "mimetype": "text/x-python",
   "name": "python",
   "nbconvert_exporter": "python",
   "pygments_lexer": "ipython3",
   "version": "3.6.2"
  }
 },
 "nbformat": 4,
 "nbformat_minor": 2
}
