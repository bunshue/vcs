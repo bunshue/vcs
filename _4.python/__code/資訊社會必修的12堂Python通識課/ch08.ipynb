{
 "cells": [
  {
   "cell_type": "code",
   "execution_count": 9,
   "metadata": {},
   "outputs": [
    {
     "name": "stdout",
     "output_type": "stream",
     "text": [
      "1\tA23001\t80\t90\t34\t56\t66\t\n",
      "2\tA23001\t80\t90\t34\t56\t66\t\n",
      "3\tA23001\t80\t90\t34\t56\t66\t\n",
      "4\tA23001\t80\t90\t34\t56\t66\t\n",
      "5\tA23001\t80\t90\t34\t56\t66\t\n",
      "6\tA23001\t56\t84\t88\t62\t84\t\n"
     ]
    }
   ],
   "source": [
    "#顯示學生成績表\n",
    "import sqlite3\n",
    "dbfile = \"school.db\"\n",
    "conn = sqlite3.connect(dbfile)\n",
    "rows = conn.execute(\"select * from score;\")\n",
    "for row in rows:\n",
    "    for field in row:\n",
    "        print(\"{}\\t\".format(field), end=\"\")\n",
    "    print()\n",
    "conn.close()"
   ]
  },
  {
   "cell_type": "code",
   "execution_count": 8,
   "metadata": {},
   "outputs": [
    {
     "name": "stdout",
     "output_type": "stream",
     "text": [
      "學號：A23001\n",
      "國文成績：56\n",
      "英文成績：84\n",
      "數學成績：88\n",
      "歷史成績：62\n",
      "地理成績：84\n"
     ]
    }
   ],
   "source": [
    "#輸入學生成績\n",
    "import sqlite3\n",
    "dbfile = \"school.db\"\n",
    "conn = sqlite3.connect(dbfile)\n",
    "stuno = input(\"學號：\")\n",
    "chi = input(\"國文成績：\")\n",
    "eng = input(\"英文成績：\")\n",
    "mat = input(\"數學成績：\")\n",
    "his = input(\"歷史成績：\")\n",
    "geo = input(\"地理成績：\")\n",
    "sql_str = \"insert into score(stuno, chi, eng, mat, his, geo) values('{}',{},{},{},{},{});\".format(\n",
    "    stuno, chi, eng, mat, his, geo)\n",
    "conn.execute(sql_str)\n",
    "conn.commit()\n",
    "conn.close()"
   ]
  },
  {
   "cell_type": "code",
   "execution_count": 22,
   "metadata": {},
   "outputs": [
    {
     "name": "stdout",
     "output_type": "stream",
     "text": [
      "學號：A23004\n",
      "姓名：曾小美\n",
      "性別：女\n",
      "班級編號：102\n",
      "電話：0941784522\n",
      "家長身份證字號：R245111333\n",
      "學號：A23005\n",
      "姓名：許天天\n",
      "性別：男\n",
      "班級編號：102\n",
      "電話：0922111444\n",
      "家長身份證字號：S211444522\n",
      "學號：-1\n"
     ]
    }
   ],
   "source": [
    "#輸入學生資料表 \n",
    "import sqlite3\n",
    "dbfile = \"school.db\"\n",
    "conn = sqlite3.connect(dbfile)\n",
    "stuno = input(\"學號：\")\n",
    "while stuno!=\"-1\":\n",
    "    name = input(\"姓名：\")\n",
    "    gender = input(\"性別：\")\n",
    "    clsno = input(\"班級編號：\")\n",
    "    tel = input(\"電話：\")\n",
    "    pid = input(\"家長身份證字號：\")\n",
    "    sql_str = \"insert into studata(stuno, name, gender, clsno, tel, pid) values('{}','{}','{}','{}','{}','{}');\".format(\n",
    "        stuno, name, gender, clsno, tel, pid)\n",
    "    conn.execute(sql_str)\n",
    "    stuno = input(\"學號：\")\n",
    "conn.commit()\n",
    "conn.close()"
   ]
  },
  {
   "cell_type": "code",
   "execution_count": 7,
   "metadata": {},
   "outputs": [
    {
     "name": "stdout",
     "output_type": "stream",
     "text": [
      "1\tA23001\t林小明\t男\t101\t0923999888\tA123456789\t\n",
      "2\tA23002\t王小華\t女\t101\t0985541254\tA222457854\t\n",
      "3\tA23003\t張大頭\t男\t101\t0952111454\tC124562525\t\n",
      "4\tA23004\t曾小美\t女\t102\t0941784522\tR245111333\t\n",
      "5\tA23005\t許天天\t男\t102\t0922111444\tS211444522\t\n"
     ]
    }
   ],
   "source": [
    "#顯示學生基本資料表\n",
    "import sqlite3\n",
    "dbfile = \"school.db\"\n",
    "conn = sqlite3.connect(dbfile)\n",
    "rows = conn.execute(\"select * from studata;\")\n",
    "for row in rows:\n",
    "    for field in row:\n",
    "        print(\"{}\\t\".format(field), end=\"\")\n",
    "    print()\n",
    "conn.close()"
   ]
  },
  {
   "cell_type": "code",
   "execution_count": 13,
   "metadata": {},
   "outputs": [
    {
     "name": "stdout",
     "output_type": "stream",
     "text": [
      "學號\t國文\t英文\t數學\t歷史\t地理\t總分\t平均\n",
      "A23001\t80\t90\t34\t56\t66\t326\t65\t\n",
      "A23002\t56\t84\t88\t62\t84\t374\t74\t\n",
      "A23003\t85\t95\t66\t84\t74\t404\t80\t\n",
      "A23004\t65\t55\t87\t99\t65\t371\t74\t\n",
      "A23005\t75\t68\t98\t88\t95\t424\t84\t\n"
     ]
    }
   ],
   "source": [
    "#顯示學生的完整成績表（含總分及平均）\n",
    "import sqlite3\n",
    "dbfile = \"school.db\"\n",
    "conn = sqlite3.connect(dbfile)\n",
    "rows = conn.execute(\"select stuno, chi, eng, mat, his, geo, chi+eng+mat+his+geo, (chi+eng+mat+his+geo)/5 from score;\")\n",
    "print(\"學號\\t國文\\t英文\\t數學\\t歷史\\t地理\\t總分\\t平均\")\n",
    "for row in rows:\n",
    "    for field in row:\n",
    "        print(\"{}\\t\".format(field), end=\"\")\n",
    "    print()\n",
    "conn.close()"
   ]
  },
  {
   "cell_type": "code",
   "execution_count": 5,
   "metadata": {},
   "outputs": [
    {
     "name": "stdout",
     "output_type": "stream",
     "text": [
      "學號\t國文\t英文\t數學\t歷史\t地理\n",
      "A23001\t80.0\t90.0\t34.0\t56.0\t66.0\t\n"
     ]
    }
   ],
   "source": [
    "#顯示學生各科的平均\n",
    "import sqlite3\n",
    "dbfile = \"school.db\"\n",
    "conn = sqlite3.connect(dbfile)\n",
    "rows = conn.execute(\"select stuno, avg(chi), avg(eng), avg(mat), avg(his), avg(geo) from score;\")\n",
    "print(\"學號\\t國文\\t英文\\t數學\\t歷史\\t地理\")\n",
    "for row in rows:\n",
    "    for field in row:\n",
    "        print(\"{}\\t\".format(field), end=\"\")\n",
    "    print()\n",
    "conn.close()"
   ]
  },
  {
   "cell_type": "code",
   "execution_count": 8,
   "metadata": {},
   "outputs": [
    {
     "name": "stdout",
     "output_type": "stream",
     "text": [
      "林小明\t80\t98\t\n",
      "王小華\t80\t98\t\n",
      "張大頭\t80\t98\t\n",
      "曾小美\t80\t98\t\n",
      "許天天\t80\t98\t\n",
      "林小明\t89\t99\t\n",
      "王小華\t89\t99\t\n",
      "張大頭\t89\t99\t\n",
      "曾小美\t89\t99\t\n",
      "許天天\t89\t99\t\n",
      "林小明\t89\t90\t\n",
      "王小華\t89\t90\t\n",
      "張大頭\t89\t90\t\n",
      "曾小美\t89\t90\t\n",
      "許天天\t89\t90\t\n",
      "林小明\t99\t89\t\n",
      "王小華\t99\t89\t\n",
      "張大頭\t99\t89\t\n",
      "曾小美\t99\t89\t\n",
      "許天天\t99\t89\t\n",
      "林小明\t89\t56\t\n",
      "王小華\t89\t56\t\n",
      "張大頭\t89\t56\t\n",
      "曾小美\t89\t56\t\n",
      "許天天\t89\t56\t\n"
     ]
    }
   ],
   "source": [
    "#依姓名顯示成績表\n",
    "import sqlite3\n",
    "dbfile = \"school.db\"\n",
    "conn = sqlite3.connect(dbfile)\n",
    "rows = conn.execute(\"select studata.name, score.chi, score.eng from score, studata;\")\n",
    "for row in rows:\n",
    "    for field in row:\n",
    "        print(\"{}\\t\".format(field), end=\"\")\n",
    "    print()\n",
    "conn.close()"
   ]
  },
  {
   "cell_type": "code",
   "execution_count": 14,
   "metadata": {},
   "outputs": [
    {
     "name": "stdout",
     "output_type": "stream",
     "text": [
      "林小明\t80\t90\t\n",
      "王小華\t56\t84\t\n",
      "張大頭\t85\t95\t\n",
      "曾小美\t65\t55\t\n",
      "許天天\t75\t68\t\n"
     ]
    }
   ],
   "source": [
    "#依姓名顯示成績表--使用INNER JOIN\n",
    "import sqlite3\n",
    "dbfile = \"school.db\"\n",
    "conn = sqlite3.connect(dbfile)\n",
    "rows = conn.execute(\"select studata.name, score.chi, score.eng from score inner join studata on score.stuno = studata.stuno;\")\n",
    "for row in rows:\n",
    "    for field in row:\n",
    "        print(\"{}\\t\".format(field), end=\"\")\n",
    "    print()\n",
    "conn.close()"
   ]
  },
  {
   "cell_type": "code",
   "execution_count": 26,
   "metadata": {},
   "outputs": [
    {
     "name": "stdout",
     "output_type": "stream",
     "text": [
      "請輸入想要修改成績的學號：A23001\n",
      "學號\t國文\t英文\t數學\t歷史\t地理\n",
      "A23001\t90\t90\t90\t100\t100\t\n",
      "國文=80\n",
      "英文=90\n",
      "數學=34\n",
      "歷史=56\n",
      "地理=66\n"
     ]
    }
   ],
   "source": [
    "#成績修改程式\n",
    "import sqlite3\n",
    "dbfile = \"school.db\"\n",
    "conn = sqlite3.connect(dbfile)\n",
    "stuno = input(\"請輸入想要修改成績的學號：\")\n",
    "rows = conn.execute(\"select stuno, chi, eng, mat, his, geo from score where stuno='{}'\".format(stuno))\n",
    "row = rows.fetchone()\n",
    "if row is not None:\n",
    "    print(\"學號\\t國文\\t英文\\t數學\\t歷史\\t地理\")\n",
    "    for field in row:\n",
    "        print(\"{}\\t\".format(field), end=\"\")\n",
    "    print()\n",
    "chi = input(\"國文=\")\n",
    "eng = input(\"英文=\")\n",
    "mat = input(\"數學=\")\n",
    "his = input(\"歷史=\")\n",
    "geo = input(\"地理=\")\n",
    "sql_str = \"update score set stuno='{}', chi={}, eng={}, mat={}, his={}, geo={} where stuno='{}';\".format(\n",
    "    stuno, chi, eng, mat, his, geo, stuno)\n",
    "conn.execute(sql_str)\n",
    "conn.commit()\n",
    "conn.close()"
   ]
  },
  {
   "cell_type": "code",
   "execution_count": 38,
   "metadata": {},
   "outputs": [
    {
     "name": "stdout",
     "output_type": "stream",
     "text": [
      "<class 'sqlite3.Cursor'>\n",
      "['__class__', '__delattr__', '__dir__', '__doc__', '__eq__', '__format__', '__ge__', '__getattribute__', '__gt__', '__hash__', '__init__', '__init_subclass__', '__iter__', '__le__', '__lt__', '__ne__', '__new__', '__next__', '__reduce__', '__reduce_ex__', '__repr__', '__setattr__', '__sizeof__', '__str__', '__subclasshook__', 'arraysize', 'close', 'connection', 'description', 'execute', 'executemany', 'executescript', 'fetchall', 'fetchmany', 'fetchone', 'lastrowid', 'row_factory', 'rowcount', 'setinputsizes', 'setoutputsize']\n",
      "<class 'tuple'>\n"
     ]
    }
   ],
   "source": [
    "import sqlite3\n",
    "dbfile = \"school.db\"\n",
    "conn = sqlite3.connect(dbfile)\n",
    "rows = conn.execute(\"select * from score;\")\n",
    "print(type(rows))\n",
    "print(dir(rows))\n",
    "print(type(rows.fetchone()))\n",
    "conn.close()"
   ]
  },
  {
   "cell_type": "code",
   "execution_count": 16,
   "metadata": {},
   "outputs": [
    {
     "name": "stdout",
     "output_type": "stream",
     "text": [
      "<class 'tuple'>\n",
      "(2, 'A23002', 56, 84, 88, 62, 84)\n"
     ]
    }
   ],
   "source": [
    "import sqlite3\n",
    "dbfile = \"school.db\"\n",
    "conn = sqlite3.connect(dbfile)\n",
    "cur = conn.cursor()\n",
    "cur.execute(\"select * from score;\")\n",
    "print(type(cur.fetchone()))\n",
    "print(cur.fetchone())"
   ]
  },
  {
   "cell_type": "code",
   "execution_count": 27,
   "metadata": {},
   "outputs": [
    {
     "name": "stdout",
     "output_type": "stream",
     "text": [
      "[(1, 'A23001', 80, 90, 34, 56, 66), (2, 'A23002', 56, 84, 88, 62, 84), (3, 'A23003', 85, 95, 66, 84, 74)]\n",
      "[(4, 'A23004', 65, 55, 87, 99, 65), (5, 'A23005', 75, 68, 98, 88, 95)]\n"
     ]
    }
   ],
   "source": [
    "import sqlite3\n",
    "dbfile = \"school.db\"\n",
    "conn = sqlite3.connect(dbfile)\n",
    "cur = conn.cursor()\n",
    "cur.execute(\"select * from score;\")\n",
    "first3_records = cur.fetchmany(3)\n",
    "all_records = cur.fetchall()\n",
    "print(first3_records)\n",
    "print(all_records)\n",
    "conn.close()"
   ]
  },
  {
   "cell_type": "code",
   "execution_count": 43,
   "metadata": {},
   "outputs": [
    {
     "name": "stdout",
     "output_type": "stream",
     "text": [
      "['id', 'stuno', 'chi', 'eng', 'mat', 'his', 'geo']\n",
      "<class 'list'>\n",
      "<class 'sqlite3.Row'>\n",
      "學號\t國文\t英文\n",
      "A23001\t80\t90\n",
      "A23002\t56\t84\n",
      "A23003\t85\t95\n",
      "A23004\t65\t55\n",
      "A23005\t75\t68\n"
     ]
    }
   ],
   "source": [
    "import sqlite3\n",
    "dbfile = \"school.db\"\n",
    "conn = sqlite3.connect(dbfile)\n",
    "conn.row_factory = sqlite3.Row\n",
    "cur = conn.cursor()\n",
    "cur.execute(\"select * from score;\")\n",
    "rows = cur.fetchall()\n",
    "print(rows[0].keys())\n",
    "print(type(rows))\n",
    "print(type(rows[0]))\n",
    "print(\"學號\\t國文\\t英文\")\n",
    "for row in rows:\n",
    "    print(\"{}\\t{}\\t{}\".format(row['stuno'], row['chi'], row['eng']))"
   ]
  }
 ],
 "metadata": {
  "kernelspec": {
   "display_name": "Python 3",
   "language": "python",
   "name": "python3"
  },
  "language_info": {
   "codemirror_mode": {
    "name": "ipython",
    "version": 3
   },
   "file_extension": ".py",
   "mimetype": "text/x-python",
   "name": "python",
   "nbconvert_exporter": "python",
   "pygments_lexer": "ipython3",
   "version": "3.7.1"
  }
 },
 "nbformat": 4,
 "nbformat_minor": 2
}
