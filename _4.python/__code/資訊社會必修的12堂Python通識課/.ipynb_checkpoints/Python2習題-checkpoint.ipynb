{
 "cells": [
  {
   "cell_type": "markdown",
   "metadata": {},
   "source": [
    "## 第二章習題解答"
   ]
  },
  {
   "cell_type": "markdown",
   "metadata": {},
   "source": [
    "2-1 請到網路上搜尋Python的發展歷史"
   ]
  },
  {
   "cell_type": "markdown",
   "metadata": {},
   "source": [
    "此為練習題，讀者們可自行發揮"
   ]
  },
  {
   "cell_type": "markdown",
   "metadata": {},
   "source": [
    "2-2 Python有哪些重要的社群？請列舉出至少三個社群的網址"
   ]
  },
  {
   "cell_type": "markdown",
   "metadata": {},
   "source": [
    "http://wiki.python.org.tw/\n",
    "https://tw.pycon.org/2018/zh-hant/about/community/\n",
    "http://taiwan-py.appspot.com/"
   ]
  },
  {
   "cell_type": "markdown",
   "metadata": {},
   "source": [
    "2-3 請找出至少3點Python 2和Python 3不一樣的地方"
   ]
  },
  {
   "cell_type": "markdown",
   "metadata": {},
   "source": [
    "請參考以下這個網址中的說明：\n",
    "https://sebastianraschka.com/Articles/2014_python_2_3_key_diff.html"
   ]
  },
  {
   "cell_type": "markdown",
   "metadata": {},
   "source": [
    "2-4 請找出至少3個使用Python語言開發的專案"
   ]
  },
  {
   "cell_type": "markdown",
   "metadata": {},
   "source": [
    "請參考以下這個網址：\n",
    "https://www.hartmannsoftware.com/Blog/Articles_from_Software_Fans/Most-Famous-Software-Programs-Written-in-Python"
   ]
  },
  {
   "attachments": {},
   "cell_type": "markdown",
   "metadata": {},
   "source": [
    "2-5 就你的觀察，請比較說明Python和你之前學習的程式語言最不一樣的地方"
   ]
  },
  {
   "cell_type": "markdown",
   "metadata": {},
   "source": [
    "此題請讀者自行發揮"
   ]
  },
  {
   "cell_type": "markdown",
   "metadata": {},
   "source": [
    "## 第三章習題解答"
   ]
  },
  {
   "attachments": {},
   "cell_type": "markdown",
   "metadata": {},
   "source": [
    "1.\t請在你的個人電腦中建立Python 3的執行環境\n",
    "2.\t在你的電腦中安裝Anaconda套件組\n",
    "3.\t安裝一個適合用來編輯Python程式的程式碼編輯器\n",
    "4.\t比較IDLE和你所安裝的程式碼編輯器的優缺點\n",
    "5.\t練習安裝虛擬機並建立Python的執行環境"
   ]
  },
  {
   "cell_type": "markdown",
   "metadata": {},
   "source": [
    "本章均為練習題，請讀者自行發揮"
   ]
  },
  {
   "cell_type": "markdown",
   "metadata": {},
   "source": [
    "## 第四章習題解答"
   ]
  },
  {
   "cell_type": "code",
   "execution_count": null,
   "metadata": {},
   "outputs": [],
   "source": [
    "1.使用pip安裝requests, pillow以及BeautifulSoup4\n",
    "2.使用matplotlib以及NumPy套件，繪製拋物線的函數圖形\n",
    "3.使用matplotlib以及NumPy套件，繪製李沙育（Lissajous）圖形\n",
    "4.請找出至少3個Python線上教學網站\n",
    "5.如果要查詢Python語法，通常你都會到哪一個網站去查詢呢？"
   ]
  }
 ],
 "metadata": {
  "kernelspec": {
   "display_name": "Python 3",
   "language": "python",
   "name": "python3"
  },
  "language_info": {
   "codemirror_mode": {
    "name": "ipython",
    "version": 3
   },
   "file_extension": ".py",
   "mimetype": "text/x-python",
   "name": "python",
   "nbconvert_exporter": "python",
   "pygments_lexer": "ipython3",
   "version": "3.6.5"
  }
 },
 "nbformat": 4,
 "nbformat_minor": 2
}
