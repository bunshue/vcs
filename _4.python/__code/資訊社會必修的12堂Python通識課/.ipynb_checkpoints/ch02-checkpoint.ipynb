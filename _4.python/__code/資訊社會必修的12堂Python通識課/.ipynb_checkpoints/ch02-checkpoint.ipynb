{
 "cells": [
  {
   "cell_type": "code",
   "execution_count": 1,
   "metadata": {},
   "outputs": [
    {
     "name": "stdout",
     "output_type": "stream",
     "text": [
      "N=10\n",
      "1+2+3+...+N= 55\n"
     ]
    }
   ],
   "source": [
    "#程式2-1\n",
    "n = int(input(\"N=\"))\n",
    "sum = 0\n",
    "for i in range(1, n+1):\n",
    "    sum = sum + i\n",
    "print(\"1+2+3+...+N=\", sum)"
   ]
  },
  {
   "cell_type": "code",
   "execution_count": 2,
   "metadata": {},
   "outputs": [
    {
     "name": "stdout",
     "output_type": "stream",
     "text": [
      "Your BMI is 20.808561236623067\n"
     ]
    }
   ],
   "source": [
    "#程式2-2\n",
    "height = 1.74\n",
    "weight = 63\n",
    "BMI = weight / (height * height)\n",
    "print(\"Your BMI is\", BMI)"
   ]
  },
  {
   "cell_type": "code",
   "execution_count": 4,
   "metadata": {},
   "outputs": [
    {
     "name": "stdout",
     "output_type": "stream",
     "text": [
      "['False', 'None', 'True', 'and', 'as', 'assert', 'async', 'await', 'break', 'class', 'continue', 'def', 'del', 'elif', 'else', 'except', 'finally', 'for', 'from', 'global', 'if', 'import', 'in', 'is', 'lambda', 'nonlocal', 'not', 'or', 'pass', 'raise', 'return', 'try', 'while', 'with', 'yield']\n"
     ]
    }
   ],
   "source": [
    "import keyword\n",
    "print(keyword.kwlist)"
   ]
  },
  {
   "cell_type": "code",
   "execution_count": 6,
   "metadata": {},
   "outputs": [
    {
     "name": "stdout",
     "output_type": "stream",
     "text": [
      "['ArithmeticError', 'AssertionError', 'AttributeError', 'BaseException', 'BlockingIOError', 'BrokenPipeError', 'BufferError', 'BytesWarning', 'ChildProcessError', 'ConnectionAbortedError', 'ConnectionError', 'ConnectionRefusedError', 'ConnectionResetError', 'DeprecationWarning', 'EOFError', 'Ellipsis', 'EnvironmentError', 'Exception', 'False', 'FileExistsError', 'FileNotFoundError', 'FloatingPointError', 'FutureWarning', 'GeneratorExit', 'IOError', 'ImportError', 'ImportWarning', 'IndentationError', 'IndexError', 'InterruptedError', 'IsADirectoryError', 'KeyError', 'KeyboardInterrupt', 'LookupError', 'MemoryError', 'ModuleNotFoundError', 'NameError', 'None', 'NotADirectoryError', 'NotImplemented', 'NotImplementedError', 'OSError', 'OverflowError', 'PendingDeprecationWarning', 'PermissionError', 'ProcessLookupError', 'RecursionError', 'ReferenceError', 'ResourceWarning', 'RuntimeError', 'RuntimeWarning', 'StopAsyncIteration', 'StopIteration', 'SyntaxError', 'SyntaxWarning', 'SystemError', 'SystemExit', 'TabError', 'TimeoutError', 'True', 'TypeError', 'UnboundLocalError', 'UnicodeDecodeError', 'UnicodeEncodeError', 'UnicodeError', 'UnicodeTranslateError', 'UnicodeWarning', 'UserWarning', 'ValueError', 'Warning', 'WindowsError', 'ZeroDivisionError', '__IPYTHON__', '__build_class__', '__debug__', '__doc__', '__import__', '__loader__', '__name__', '__package__', '__spec__', 'abs', 'all', 'any', 'ascii', 'bin', 'bool', 'breakpoint', 'bytearray', 'bytes', 'callable', 'chr', 'classmethod', 'compile', 'complex', 'copyright', 'credits', 'delattr', 'dict', 'dir', 'display', 'divmod', 'enumerate', 'eval', 'exec', 'filter', 'float', 'format', 'frozenset', 'get_ipython', 'getattr', 'globals', 'hasattr', 'hash', 'help', 'hex', 'id', 'input', 'int', 'isinstance', 'issubclass', 'iter', 'len', 'license', 'list', 'locals', 'map', 'max', 'memoryview', 'min', 'next', 'object', 'oct', 'open', 'ord', 'pow', 'print', 'property', 'range', 'repr', 'reversed', 'round', 'set', 'setattr', 'slice', 'sorted', 'staticmethod', 'str', 'sum', 'super', 'tuple', 'type', 'vars', 'zip']\n"
     ]
    }
   ],
   "source": [
    "import builtins\n",
    "print(dir(builtins))"
   ]
  },
  {
   "cell_type": "code",
   "execution_count": 8,
   "metadata": {},
   "outputs": [
    {
     "name": "stdout",
     "output_type": "stream",
     "text": [
      "請輸入你的年紀：25\n",
      "和父母一起來嗎？(Y/N)n\n",
      "可以看限制級電影\n"
     ]
    }
   ],
   "source": [
    "# 程式2-3\n",
    "\n",
    "age = int(input(\"請輸入你的年紀：\"))\n",
    "with_parent = input(\"和父母一起來嗎？(Y/N)\")\n",
    "\n",
    "if age >= 18:\n",
    "  print (\"可以看限制級電影\")\n",
    "elif age >=12:\n",
    "  print (\"可以看輔導級電影\")\n",
    "elif (age >= 6 and age < 12) and (with_parent=='Y' or with_parent=='y'):\n",
    "  print (\"可以看保護級電影\")\n",
    "else:\n",
    "  print (\"只能看普遍級電影\")\n"
   ]
  },
  {
   "cell_type": "code",
   "execution_count": 20,
   "metadata": {},
   "outputs": [
    {
     "name": "stdout",
     "output_type": "stream",
     "text": [
      "請輸入一些數字：\n",
      "0\n",
      "0\n",
      "[]\n"
     ]
    }
   ],
   "source": [
    "user_input = input(\"請輸入一些數字：\")\n",
    "print(len(user_input))\n",
    "numbers = user_input.split()\n",
    "print(len(numbers))\n",
    "print(numbers)"
   ]
  },
  {
   "cell_type": "code",
   "execution_count": 1,
   "metadata": {},
   "outputs": [
    {
     "name": "stdout",
     "output_type": "stream",
     "text": [
      "請輸入你的成績：80\n",
      "成績是 80 分\n",
      "太好了，你及格了耶！\n"
     ]
    }
   ],
   "source": [
    "score = int(input(\"請輸入你的成績：\"))\n",
    "if score >= 60:\n",
    "\tprint(\"成績是\", score, \"分\")\n",
    "\tprint(\"太好了，你及格了耶！\")"
   ]
  },
  {
   "cell_type": "code",
   "execution_count": 4,
   "metadata": {},
   "outputs": [
    {
     "name": "stdout",
     "output_type": "stream",
     "text": [
      "請輸入你的成績：6\n",
      "成績是 6 分\n",
      "不行喔，成績不及格耶\n"
     ]
    }
   ],
   "source": [
    "score = int(input(\"請輸入你的成績：\"))\n",
    "if score >= 60:\n",
    "\tprint(\"成績是\", score, \"分\")\n",
    "\tprint(\"太好了，你及格了耶！\")\n",
    "else:\n",
    "    print(\"成績是\", score, \"分\")\n",
    "    print(\"不行喔，成績不及格耶\")"
   ]
  },
  {
   "cell_type": "code",
   "execution_count": 5,
   "metadata": {
    "scrolled": true
   },
   "outputs": [
    {
     "name": "stdout",
     "output_type": "stream",
     "text": [
      "請輸入你的成績：6\n",
      "成績是 6 分\n",
      "不行喔，成績不及格耶\n"
     ]
    }
   ],
   "source": [
    "score = int(input(\"請輸入你的成績：\"))\n",
    "print(\"成績是\", score, \"分\")\n",
    "if score >= 60:\n",
    "\tprint(\"太好了，你及格了耶！\")\n",
    "else:\n",
    "    print(\"不行喔，成績不及格耶\")"
   ]
  },
  {
   "cell_type": "code",
   "execution_count": 11,
   "metadata": {},
   "outputs": [
    {
     "name": "stdout",
     "output_type": "stream",
     "text": [
      "請輸入你的成績：100\n",
      "成績是 100 分\n",
      "你的等第是：A\n"
     ]
    }
   ],
   "source": [
    "score = int(input(\"請輸入你的成績：\"))\n",
    "print(\"成績是\", score, \"分\")\n",
    "print(\"你的等第是：\", end=\"\")\n",
    "if score < 60:\n",
    "    print(\"F\")\n",
    "else:\n",
    "    if score >=90:\n",
    "        print(\"A\")\n",
    "    elif score >=80:\n",
    "        print(\"B\")\n",
    "    elif score >=70:\n",
    "        print(\"C\")\n",
    "    else:\n",
    "        print(\"D\")\n",
    "        "
   ]
  },
  {
   "cell_type": "code",
   "execution_count": 15,
   "metadata": {},
   "outputs": [
    {
     "name": "stdout",
     "output_type": "stream",
     "text": [
      "請輸入你的成績：65\n",
      "成績是 65 分\n",
      "你的等第是：D\n"
     ]
    }
   ],
   "source": [
    "score = int(input(\"請輸入你的成績：\"))\n",
    "print(\"成績是\", score, \"分\")\n",
    "print(\"你的等第是：\", end=\"\")\n",
    "if score >=90:\n",
    "    print(\"A\")\n",
    "elif score >=80:\n",
    "    print(\"B\")\n",
    "elif score >=70:\n",
    "    print(\"C\")\n",
    "elif score >=60:\n",
    "    print(\"D\")\n",
    "else:\n",
    "    print(\"F\")"
   ]
  },
  {
   "cell_type": "code",
   "execution_count": 28,
   "metadata": {},
   "outputs": [
    {
     "name": "stdout",
     "output_type": "stream",
     "text": [
      "請輸入你的成績：59\n",
      "成績是 59 分\n",
      "你的等第是： F\n"
     ]
    }
   ],
   "source": [
    "score = int(input(\"請輸入你的成績：\"))\n",
    "grade = ['F', 'F', 'F', 'F', 'F', 'F', 'D', 'C', 'B', 'A', 'A']\n",
    "print(\"成績是\", score, \"分\")\n",
    "print(\"你的等第是：\", grade[int(score/10)])\n"
   ]
  },
  {
   "cell_type": "code",
   "execution_count": 29,
   "metadata": {},
   "outputs": [
    {
     "name": "stdout",
     "output_type": "stream",
     "text": [
      "0 0 0\n",
      "1 1 1\n",
      "2 4 8\n",
      "3 9 27\n",
      "4 16 64\n",
      "5 25 125\n",
      "6 36 216\n",
      "7 49 343\n",
      "8 64 512\n",
      "9 81 729\n"
     ]
    }
   ],
   "source": [
    "for i in range(10):\n",
    "    print(i, i**2, i**3)"
   ]
  },
  {
   "cell_type": "code",
   "execution_count": 30,
   "metadata": {},
   "outputs": [
    {
     "name": "stdout",
     "output_type": "stream",
     "text": [
      "I love Python!\n",
      "I love Python!\n",
      "I love Python!\n",
      "I love Python!\n",
      "I love Python!\n",
      "I love Python!\n",
      "I love Python!\n",
      "I love Python!\n",
      "I love Python!\n",
      "I love Python!\n"
     ]
    }
   ],
   "source": [
    "for i in range(10):\n",
    "    print(\"I love Python!\")"
   ]
  },
  {
   "cell_type": "code",
   "execution_count": 31,
   "metadata": {},
   "outputs": [
    {
     "name": "stdout",
     "output_type": "stream",
     "text": [
      "2\n",
      "4\n",
      "6\n",
      "8\n",
      "10\n",
      "12\n",
      "14\n",
      "16\n",
      "18\n",
      "20\n",
      "22\n",
      "24\n",
      "26\n",
      "28\n",
      "30\n",
      "32\n",
      "34\n",
      "36\n",
      "38\n",
      "40\n",
      "42\n",
      "44\n",
      "46\n",
      "48\n",
      "50\n",
      "52\n",
      "54\n",
      "56\n",
      "58\n",
      "60\n",
      "62\n",
      "64\n",
      "66\n",
      "68\n",
      "70\n",
      "72\n",
      "74\n",
      "76\n",
      "78\n",
      "80\n",
      "82\n",
      "84\n",
      "86\n",
      "88\n",
      "90\n",
      "92\n",
      "94\n",
      "96\n",
      "98\n",
      "100\n"
     ]
    }
   ],
   "source": [
    "for i in range(2,101, 2):\n",
    "    print(i)"
   ]
  },
  {
   "cell_type": "code",
   "execution_count": 33,
   "metadata": {},
   "outputs": [
    {
     "name": "stdout",
     "output_type": "stream",
     "text": [
      "How\n",
      "to\n",
      "face\n",
      "a\n",
      "problem\n",
      "if\n",
      "the\n",
      "problem\n",
      "is\n",
      "your\n",
      "face?\n"
     ]
    }
   ],
   "source": [
    "title = \"How to face a problem if the problem is your face?\"\n",
    "for word in title.split():\n",
    "    print(word)\n"
   ]
  },
  {
   "cell_type": "code",
   "execution_count": 34,
   "metadata": {},
   "outputs": [
    {
     "name": "stdout",
     "output_type": "stream",
     "text": [
      "1x1=1\n",
      "1x2=2\n",
      "1x3=3\n",
      "1x4=4\n",
      "1x5=5\n",
      "1x6=6\n",
      "1x7=7\n",
      "1x8=8\n",
      "1x9=9\n",
      "\n",
      "2x1=2\n",
      "2x2=4\n",
      "2x3=6\n",
      "2x4=8\n",
      "2x5=10\n",
      "2x6=12\n",
      "2x7=14\n",
      "2x8=16\n",
      "2x9=18\n",
      "\n",
      "3x1=3\n",
      "3x2=6\n",
      "3x3=9\n",
      "3x4=12\n",
      "3x5=15\n",
      "3x6=18\n",
      "3x7=21\n",
      "3x8=24\n",
      "3x9=27\n",
      "\n",
      "4x1=4\n",
      "4x2=8\n",
      "4x3=12\n",
      "4x4=16\n",
      "4x5=20\n",
      "4x6=24\n",
      "4x7=28\n",
      "4x8=32\n",
      "4x9=36\n",
      "\n",
      "5x1=5\n",
      "5x2=10\n",
      "5x3=15\n",
      "5x4=20\n",
      "5x5=25\n",
      "5x6=30\n",
      "5x7=35\n",
      "5x8=40\n",
      "5x9=45\n",
      "\n",
      "6x1=6\n",
      "6x2=12\n",
      "6x3=18\n",
      "6x4=24\n",
      "6x5=30\n",
      "6x6=36\n",
      "6x7=42\n",
      "6x8=48\n",
      "6x9=54\n",
      "\n",
      "7x1=7\n",
      "7x2=14\n",
      "7x3=21\n",
      "7x4=28\n",
      "7x5=35\n",
      "7x6=42\n",
      "7x7=49\n",
      "7x8=56\n",
      "7x9=63\n",
      "\n",
      "8x1=8\n",
      "8x2=16\n",
      "8x3=24\n",
      "8x4=32\n",
      "8x5=40\n",
      "8x6=48\n",
      "8x7=56\n",
      "8x8=64\n",
      "8x9=72\n",
      "\n",
      "9x1=9\n",
      "9x2=18\n",
      "9x3=27\n",
      "9x4=36\n",
      "9x5=45\n",
      "9x6=54\n",
      "9x7=63\n",
      "9x8=72\n",
      "9x9=81\n",
      "\n"
     ]
    }
   ],
   "source": [
    "for i in range(1,10):\n",
    "    for j in range(1, 10):\n",
    "        print(\"{}x{}={}\".format(i, j , i*j))\n",
    "    print()"
   ]
  },
  {
   "cell_type": "code",
   "execution_count": 39,
   "metadata": {},
   "outputs": [
    {
     "name": "stdout",
     "output_type": "stream",
     "text": [
      "2x1= 2\t3x1= 3\t4x1= 4\n",
      "2x2= 4\t3x2= 6\t4x2= 8\n",
      "2x3= 6\t3x3= 9\t4x3=12\n",
      "2x4= 8\t3x4=12\t4x4=16\n",
      "2x5=10\t3x5=15\t4x5=20\n",
      "2x6=12\t3x6=18\t4x6=24\n",
      "2x7=14\t3x7=21\t4x7=28\n",
      "2x8=16\t3x8=24\t4x8=32\n",
      "2x9=18\t3x9=27\t4x9=36\n",
      "\n",
      "6x1= 6\t7x1= 7\t8x1= 8\n",
      "6x2=12\t7x2=14\t8x2=16\n",
      "6x3=18\t7x3=21\t8x3=24\n",
      "6x4=24\t7x4=28\t8x4=32\n",
      "6x5=30\t7x5=35\t8x5=40\n",
      "6x6=36\t7x6=42\t8x6=48\n",
      "6x7=42\t7x7=49\t8x7=56\n",
      "6x8=48\t7x8=56\t8x8=64\n",
      "6x9=54\t7x9=63\t8x9=72\n",
      "\n"
     ]
    }
   ],
   "source": [
    "for i in [2, 6]:\n",
    "    for j in range(1, 10):\n",
    "        print(\"{}x{}={:2d}\".format(i, j , i*j), end=\"\")\n",
    "        print(\"\\t{}x{}={:2d}\".format(i+1, j , (i+1)*j), end=\"\")\n",
    "        print(\"\\t{}x{}={:2d}\".format(i+2, j , (i+2)*j))\n",
    "    print()"
   ]
  },
  {
   "cell_type": "code",
   "execution_count": 40,
   "metadata": {},
   "outputs": [
    {
     "name": "stdout",
     "output_type": "stream",
     "text": [
      "\t2x1= 2\t3x1= 3\t4x1= 4\n",
      "\t2x2= 4\t3x2= 6\t4x2= 8\n",
      "\t2x3= 6\t3x3= 9\t4x3=12\n",
      "\t2x4= 8\t3x4=12\t4x4=16\n",
      "\t2x5=10\t3x5=15\t4x5=20\n",
      "\t2x6=12\t3x6=18\t4x6=24\n",
      "\t2x7=14\t3x7=21\t4x7=28\n",
      "\t2x8=16\t3x8=24\t4x8=32\n",
      "\t2x9=18\t3x9=27\t4x9=36\n",
      "\t6x1= 6\t7x1= 7\t8x1= 8\n",
      "\t6x2=12\t7x2=14\t8x2=16\n",
      "\t6x3=18\t7x3=21\t8x3=24\n",
      "\t6x4=24\t7x4=28\t8x4=32\n",
      "\t6x5=30\t7x5=35\t8x5=40\n",
      "\t6x6=36\t7x6=42\t8x6=48\n",
      "\t6x7=42\t7x7=49\t8x7=56\n",
      "\t6x8=48\t7x8=56\t8x8=64\n",
      "\t6x9=54\t7x9=63\t8x9=72\n"
     ]
    }
   ],
   "source": [
    "for i in [2, 6]:\n",
    "    for j in range(1, 10):\n",
    "        for k in range(3):\n",
    "            print(\"\\t{}x{}={:2d}\".format(i+k, j , (i+k)*j), end=\"\")\n",
    "        print()"
   ]
  },
  {
   "cell_type": "code",
   "execution_count": 3,
   "metadata": {},
   "outputs": [
    {
     "name": "stdout",
     "output_type": "stream",
     "text": [
      "3\n",
      "4\n",
      "1\n",
      "3\n",
      "2\n",
      "3\n"
     ]
    }
   ],
   "source": [
    "import random\n",
    "value = random.randint(1,6)\n",
    "while value != 6:\n",
    "    print(value)\n",
    "    value = random.randint(1,6)"
   ]
  },
  {
   "cell_type": "code",
   "execution_count": null,
   "metadata": {},
   "outputs": [
    {
     "name": "stdout",
     "output_type": "stream",
     "text": [
      "請猜一個數字（1-99）：56\n",
      "猜錯囉，再猜一次！\n",
      "請猜一個數字（1-99）：84\n",
      "猜錯囉，再猜一次！\n",
      "請猜一個數字（1-99）：95\n",
      "猜錯囉，再猜一次！\n",
      "請猜一個數字（1-99）：87\n",
      "猜錯囉，再猜一次！\n"
     ]
    }
   ],
   "source": [
    "import random\n",
    "\n",
    "answer = random.randint(1, 99)\n",
    "guess = int(input(\"請猜一個數字（1-99）：\"))\n",
    "while guess != answer:\n",
    "    print(\"猜錯囉，再猜一次！\")\n",
    "    guess = int(input(\"請猜一個數字（1-99）：\"))\n",
    "print(\"真厲害，你猜對了耶！\")"
   ]
  },
  {
   "cell_type": "code",
   "execution_count": 1,
   "metadata": {},
   "outputs": [
    {
     "name": "stdout",
     "output_type": "stream",
     "text": [
      "請猜一個數字（1-99）：45\n",
      "2\n",
      "猜錯囉，數字要小一點喔！\n",
      "請猜一個數字（1-99）：15\n",
      "2\n",
      "猜錯囉，數字要小一點喔！\n",
      "請猜一個數字（1-99）：2\n",
      "真厲害，你猜對了耶！\n"
     ]
    }
   ],
   "source": [
    "import random\n",
    "\n",
    "answer = random.randint(1, 99)\n",
    "guess = int(input(\"請猜一個數字（1-99）：\"))\n",
    "while guess != answer:\n",
    "    print(\"猜錯囉，\", end=\"\")\n",
    "    if answer > guess:\n",
    "        print(\"數字要大一點喔！\")\n",
    "    else:\n",
    "        print(\"數字要小一點喔！\")\n",
    "    guess = int(input(\"請猜一個數字（1-99）：\"))\n",
    "print(\"真厲害，你猜對了耶！\")"
   ]
  },
  {
   "cell_type": "code",
   "execution_count": 8,
   "metadata": {},
   "outputs": [
    {
     "name": "stdout",
     "output_type": "stream",
     "text": [
      "4\n",
      "3\n",
      "3\n",
      "5\n",
      "4\n",
      "2\n",
      "3\n"
     ]
    }
   ],
   "source": [
    "import random\n",
    "while True:\n",
    "    value = random.randint(1,6)\n",
    "    if value == 6:\n",
    "        break\n",
    "    print(value)"
   ]
  },
  {
   "cell_type": "code",
   "execution_count": 1,
   "metadata": {},
   "outputs": [
    {
     "name": "stdout",
     "output_type": "stream",
     "text": [
      "2\n",
      "5\n",
      "5\n",
      "3\n",
      "3\n",
      "3\n",
      "3\n",
      "1\n",
      "5\n",
      "5\n",
      "3\n",
      "4\n",
      "2\n"
     ]
    }
   ],
   "source": [
    "import random\n",
    "for i in range(15):\n",
    "    value = random.randint(1,6)\n",
    "    if value == 6:\n",
    "        continue\n",
    "    print(value)"
   ]
  },
  {
   "cell_type": "code",
   "execution_count": 2,
   "metadata": {},
   "outputs": [
    {
     "name": "stdout",
     "output_type": "stream",
     "text": [
      "請問您的名字是：何敏煌\n",
      "你喜歡的顏色是：綠\n",
      "你今年幾歲？34\n",
      "您好， 何敏煌 聽說您今年 34 歲\n",
      "你喜歡 綠 色\n"
     ]
    }
   ],
   "source": [
    "name = input(\"請問您的名字是：\")\n",
    "color = input(\"你喜歡的顏色是：\")\n",
    "age = input(\"你今年幾歲？\")\n",
    "print(\"您好，\", name, \"聽說您今年\", age, \"歲\")\n",
    "print(\"你喜歡\", color, \"色\")"
   ]
  },
  {
   "cell_type": "code",
   "execution_count": 5,
   "metadata": {},
   "outputs": [
    {
     "name": "stdout",
     "output_type": "stream",
     "text": [
      "請問您的名字是：何敏煌\n",
      "你喜歡的顏色是：綠\n",
      "你今年幾歲？34\n",
      "您好何敏煌，聽說您今年34歲\n",
      "你喜歡綠色\n"
     ]
    }
   ],
   "source": [
    "name = input(\"請問您的名字是：\")\n",
    "color = input(\"你喜歡的顏色是：\")\n",
    "age = input(\"你今年幾歲？\")\n",
    "print(\"您好{}，聽說您今年{}歲\\n你喜歡{}色\".format(name, age, color))"
   ]
  },
  {
   "cell_type": "code",
   "execution_count": 4,
   "metadata": {},
   "outputs": [
    {
     "name": "stdout",
     "output_type": "stream",
     "text": [
      "林小明這個月中了一百萬元的獎金，林小明真是個幸運的人！\n"
     ]
    }
   ],
   "source": [
    "print(\"{0}這個月中了{1}元的獎金，{0}真是個幸運的人！\".format(\"林小明\", \"一百萬\"))"
   ]
  },
  {
   "cell_type": "code",
   "execution_count": 13,
   "metadata": {},
   "outputs": [
    {
     "name": "stdout",
     "output_type": "stream",
     "text": [
      "三個隨機數分別是61,61,61。\n"
     ]
    }
   ],
   "source": [
    "import random\n",
    "print(\"三個隨機數分別是{0},{0},{0}。\".format(random.randint(1,99)))"
   ]
  },
  {
   "cell_type": "code",
   "execution_count": 26,
   "metadata": {},
   "outputs": [
    {
     "name": "stdout",
     "output_type": "stream",
     "text": [
      "Tom 2230\n",
      "Richard 28000\n",
      "Judy 1890\n",
      "Mary 25430\n"
     ]
    }
   ],
   "source": [
    "data = {'Tom':2230, 'Richard':28000, 'Judy':1890, 'Mary':25430}\n",
    "for name, bonus in data.items():\n",
    "    print(name, bonus)"
   ]
  },
  {
   "cell_type": "code",
   "execution_count": 34,
   "metadata": {
    "scrolled": true
   },
   "outputs": [
    {
     "name": "stdout",
     "output_type": "stream",
     "text": [
      "Tom            $002230.00\n",
      "Richard        $028000.00\n",
      "Judy           $001890.00\n",
      "Mary           $025430.00\n"
     ]
    }
   ],
   "source": [
    "data = {'Tom':2230, 'Richard':28000, 'Judy':1890, 'Mary':25430}\n",
    "for name, bonus in data.items():\n",
    "    print(\"{:15s}${:09.2f}\".format(name, bonus))"
   ]
  },
  {
   "cell_type": "code",
   "execution_count": 7,
   "metadata": {},
   "outputs": [
    {
     "name": "stdout",
     "output_type": "stream",
     "text": [
      "\n",
      "<html>\n",
      "<head>\n",
      "<meta charset='utf-8'/>\n",
      "<title>圖形索引範例</title>\n",
      "</head>\n",
      "<body>\n",
      "<table>\n",
      "<tr><td><img src='images/1.jpg' width=200/></td></tr><tr><td><img src='images/2.jpg' width=200/></td></tr><tr><td><img src='images/3.jpg' width=200/></td></tr><tr><td><img src='images/4.jpg' width=200/></td></tr><tr><td><img src='images/5.jpg' width=200/></td></tr><tr><td><img src='images/6.jpg' width=200/></td></tr><tr><td><img src='images/7.jpg' width=200/></td></tr><tr><td><img src='images/8.jpg' width=200/></td></tr><tr><td><img src='images/9.jpg' width=200/></td></tr><tr><td><img src='images/10.jpg' width=200/></td></tr>\n",
      "</table>\n",
      "</body>\n",
      "</html>\n",
      "\n"
     ]
    }
   ],
   "source": [
    "def my_index():\n",
    "    ret = \"\"\n",
    "    for i in range(1,11):\n",
    "        ret = ret + \"<tr><td><img src='images/{}.jpg' width=200/></td></tr>\".format(i)\n",
    "    return ret\n",
    "\n",
    "html = '''\n",
    "<html>\n",
    "<head>\n",
    "<meta charset='utf-8'/>\n",
    "<title>圖形索引範例</title>\n",
    "</head>\n",
    "<body>\n",
    "<table>\n",
    "{}\n",
    "</table>\n",
    "</body>\n",
    "</html>\n",
    "'''.format(my_index())\n",
    "print(html)"
   ]
  },
  {
   "cell_type": "code",
   "execution_count": 13,
   "metadata": {},
   "outputs": [
    {
     "name": "stdout",
     "output_type": "stream",
     "text": [
      "Please enter a number:2.3\n",
      "<class 'str'>\n"
     ]
    }
   ],
   "source": [
    "x = input(\"Please enter a number:\")\n",
    "print(type(x))"
   ]
  },
  {
   "cell_type": "code",
   "execution_count": 4,
   "metadata": {},
   "outputs": [
    {
     "name": "stdout",
     "output_type": "stream",
     "text": [
      "   1   2   3   4   5   6   7   8   9\n",
      "   2   4   6   8  10  12  14  16  18\n",
      "   3   6   9  12  15  18  21  24  27\n",
      "   4   8  12  16  20  24  28  32  36\n",
      "   5  10  15  20  25  30  35  40  45\n",
      "   6  12  18  24  30  36  42  48  54\n",
      "   7  14  21  28  35  42  49  56  63\n",
      "   8  16  24  32  40  48  56  64  72\n",
      "   9  18  27  36  45  54  63  72  81\n"
     ]
    }
   ],
   "source": [
    "for i in range(1, 10):\n",
    "    for j in range(1, 10):\n",
    "        print(\"{:>4}\".format(i*j), end=\"\")\n",
    "    print()"
   ]
  }
 ],
 "metadata": {
  "kernelspec": {
   "display_name": "Python 3",
   "language": "python",
   "name": "python3"
  },
  "language_info": {
   "codemirror_mode": {
    "name": "ipython",
    "version": 3
   },
   "file_extension": ".py",
   "mimetype": "text/x-python",
   "name": "python",
   "nbconvert_exporter": "python",
   "pygments_lexer": "ipython3",
   "version": "3.6.2"
  }
 },
 "nbformat": 4,
 "nbformat_minor": 2
}
