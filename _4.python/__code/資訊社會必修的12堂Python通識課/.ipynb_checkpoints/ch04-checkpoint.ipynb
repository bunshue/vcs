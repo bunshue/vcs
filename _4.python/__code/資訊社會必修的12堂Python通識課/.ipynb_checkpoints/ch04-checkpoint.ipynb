{
 "cells": [
  {
   "cell_type": "code",
   "execution_count": 2,
   "metadata": {},
   "outputs": [
    {
     "name": "stdout",
     "output_type": "stream",
     "text": [
      "sys.version_info(major=3, minor=7, micro=0, releaselevel='final', serial=0)\n",
      "---\n",
      "win32\n",
      "---\n",
      "['d:\\\\Anaconda3\\\\lib\\\\site-packages\\\\ipykernel_launcher.py', '-f', 'C:\\\\Users\\\\USER\\\\AppData\\\\Roaming\\\\jupyter\\\\runtime\\\\kernel-229eee6c-9911-4fe3-a897-6801eb087349.json']\n",
      "---\n",
      "['', 'D:\\\\Dropbox\\\\books_project\\\\2018books\\\\Pythonbasics\\\\codes', 'd:\\\\Anaconda3\\\\python37.zip', 'd:\\\\Anaconda3\\\\DLLs', 'd:\\\\Anaconda3\\\\lib', 'd:\\\\Anaconda3', 'd:\\\\Anaconda3\\\\lib\\\\site-packages', 'd:\\\\Anaconda3\\\\lib\\\\site-packages\\\\win32', 'd:\\\\Anaconda3\\\\lib\\\\site-packages\\\\win32\\\\lib', 'd:\\\\Anaconda3\\\\lib\\\\site-packages\\\\Pythonwin', 'd:\\\\Anaconda3\\\\lib\\\\site-packages\\\\IPython\\\\extensions', 'C:\\\\Users\\\\USER\\\\.ipython']\n"
     ]
    }
   ],
   "source": [
    "import sys\n",
    "print(sys.version_info)\n",
    "print(\"---\")\n",
    "print(sys.platform)\n",
    "print(\"---\")\n",
    "print(sys.argv)\n",
    "print(\"---\")\n",
    "print(sys.path)"
   ]
  },
  {
   "cell_type": "code",
   "execution_count": 4,
   "metadata": {},
   "outputs": [
    {
     "name": "stdout",
     "output_type": "stream",
     "text": [
      "True\n",
      "/Users/minhuang/Dropbox/books_project/2018books/Pythonbasics/codes/twstock.ipynb\n",
      "/Users/minhuang/Dropbox/books_project/2018books/Pythonbasics/codes/ch03.ipynb\n",
      "/Users/minhuang/Dropbox/books_project/2018books/Pythonbasics/codes/Untitled1.ipynb\n",
      "/Users/minhuang/Dropbox/books_project/2018books/Pythonbasics/codes/Untitled.ipynb\n",
      "/Users/minhuang/Dropbox/books_project/2018books/Pythonbasics/codes/ch02.ipynb\n",
      "/Users/minhuang/Dropbox/books_project/2018books/Pythonbasics/codes/__pycache__\n",
      "/Users/minhuang/Dropbox/books_project/2018books/Pythonbasics/codes/ch04.ipynb\n",
      "/Users/minhuang/Dropbox/books_project/2018books/Pythonbasics/codes/ptt.ipynb\n",
      "/Users/minhuang/Dropbox/books_project/2018books/Pythonbasics/codes/.ipynb_checkpoints\n",
      "/Users/minhuang/Dropbox/books_project/2018books/Pythonbasics/codes/myprime.py\n"
     ]
    }
   ],
   "source": [
    "import os\n",
    "items = os.listdir()\n",
    "print(os.path.exists('myprime.py'))\n",
    "for item in items:\n",
    "    print(os.path.abspath(item))"
   ]
  },
  {
   "cell_type": "code",
   "execution_count": 16,
   "metadata": {},
   "outputs": [
    {
     "name": "stdout",
     "output_type": "stream",
     "text": [
      "D:\\Dropbox\\books_project\\2018books\\Pythonbasics\\codes\\myprime.py\n",
      "os.path.basename: myprime.py\n",
      "os.path.dirname: D:\\Dropbox\\books_project\\2018books\\Pythonbasics\\codes\n",
      "os.path.getatime: 1545745996.9574668\n",
      "os.path.getmtime: 1545745845.4654772\n",
      "os.path.getctime: 1545745679.3990252\n",
      "os.path.getsize: 345\n",
      "os.path.isabs: True\n",
      "os.path.isfile: True\n",
      "os.path.isdir: False\n",
      "os.path.split: ('D:\\\\Dropbox\\\\books_project\\\\2018books\\\\Pythonbasics\\\\codes', 'myprime.py')\n",
      "os.path.splitdrive: ('D:', '\\\\Dropbox\\\\books_project\\\\2018books\\\\Pythonbasics\\\\codes\\\\myprime.py')\n",
      "os.path.splitext: ('D:\\\\Dropbox\\\\books_project\\\\2018books\\\\Pythonbasics\\\\codes\\\\myprime', '.py')\n"
     ]
    }
   ],
   "source": [
    "import os\n",
    "fullpath = os.path.abspath('myprime.py')\n",
    "print(fullpath)\n",
    "print(\"os.path.basename:\", os.path.basename(fullpath))\n",
    "print(\"os.path.dirname:\", os.path.dirname(fullpath))\n",
    "print(\"os.path.getatime:\", os.path.getatime(fullpath))\n",
    "print(\"os.path.getmtime:\", os.path.getmtime(fullpath))\n",
    "print(\"os.path.getctime:\", os.path.getctime(fullpath))\n",
    "print(\"os.path.getsize:\", os.path.getsize(fullpath))\n",
    "print(\"os.path.isabs:\", os.path.isabs(fullpath))\n",
    "print(\"os.path.isfile:\", os.path.isfile(fullpath))\n",
    "print(\"os.path.isdir:\", os.path.isdir(fullpath))\n",
    "print(\"os.path.split:\", os.path.split(fullpath))\n",
    "print(\"os.path.splitdrive:\", os.path.splitdrive(fullpath))\n",
    "print(\"os.path.splitext:\", os.path.splitext(fullpath))"
   ]
  },
  {
   "cell_type": "code",
   "execution_count": 24,
   "metadata": {},
   "outputs": [
    {
     "data": {
      "text/plain": [
       "'D:\\\\Dropbox\\\\books_project\\\\2018books\\\\Pythonbasics\\\\codes\\\\test-dir\\\\00.py'"
      ]
     },
     "execution_count": 24,
     "metadata": {},
     "output_type": "execute_result"
    }
   ],
   "source": [
    "import shutil\n",
    "import os\n",
    "fullpath = os.path.abspath('myprime.py')\n",
    "path, filename = os.path.split(fullpath)\n",
    "filename, extname = os.path.splitext(filename)\n",
    "if not os.path.exists(\"test-dir\"):\n",
    "    os.mkdir(\"test-dir\")\n",
    "targetfullpath = os.path.join(path, os.path.join(\"test-dir\", \"00\"+extname))\n",
    "shutil.copy(fullpath, targetfullpath)"
   ]
  },
  {
   "cell_type": "code",
   "execution_count": 36,
   "metadata": {},
   "outputs": [],
   "source": [
    "f = open(\"hello.dat\", \"w\")\n",
    "for i in range(5):\n",
    "    f.write(\"Hello world\")\n",
    "f.close()"
   ]
  },
  {
   "cell_type": "code",
   "execution_count": 7,
   "metadata": {},
   "outputs": [
    {
     "name": "stdout",
     "output_type": "stream",
     "text": [
      "請輸入國文成績（-1結束）：87\n",
      "請輸入國文成績（-1結束）：90\n",
      "請輸入國文成績（-1結束）：98\n",
      "請輸入國文成績（-1結束）：99\n",
      "請輸入國文成績（-1結束）：67\n",
      "請輸入國文成績（-1結束）：55\n",
      "請輸入國文成績（-1結束）：-1\n"
     ]
    }
   ],
   "source": [
    "score = int(input(\"請輸入國文成績（-1結束）：\"))\n",
    "f = open(\"scores.dat\", \"w\")\n",
    "while score != -1:\n",
    "    f.write(str(score))\n",
    "    score = int(input(\"請輸入國文成績（-1結束）：\"))\n",
    "f.close()"
   ]
  },
  {
   "cell_type": "code",
   "execution_count": 9,
   "metadata": {},
   "outputs": [
    {
     "name": "stdout",
     "output_type": "stream",
     "text": [
      "請輸入國文成績（-1結束）：87\n",
      "請輸入國文成績（-1結束）：56\n",
      "請輸入國文成績（-1結束）：89\n",
      "請輸入國文成績（-1結束）：88\n",
      "請輸入國文成績（-1結束）：90\n",
      "請輸入國文成績（-1結束）：-1\n"
     ]
    }
   ],
   "source": [
    "score = int(input(\"請輸入國文成績（-1結束）：\"))\n",
    "fp = open(\"scores.dat\", \"w\")\n",
    "while score != -1:\n",
    "    fp.write(\"{} \".format(score))\n",
    "    score = int(input(\"請輸入國文成績（-1結束）：\"))\n",
    "fp.close()"
   ]
  },
  {
   "cell_type": "code",
   "execution_count": 44,
   "metadata": {},
   "outputs": [],
   "source": [
    "username = \"何敏煌\"\n",
    "hello = [\"Hello\", \"BONJOUR\", \"HOLA\", \"こんにちは\", \"안녕하세요\", \"你好\"]\n",
    "f = open(\"hello.html\", \"w\", encoding='utf-8')\n",
    "f.write(\"<html>\")\n",
    "f.write(\"<head><meta charset='utf-8'/></head>\")\n",
    "f.write(\"<body>\")\n",
    "for index, msg in enumerate(hello):\n",
    "    f.write(\"<h{0}>{1}, {2}</h{0}>\".format(len(hello)-index, msg, username))\n",
    "f.write(\"</body></html>\")\n",
    "f.close()"
   ]
  },
  {
   "cell_type": "code",
   "execution_count": 13,
   "metadata": {},
   "outputs": [
    {
     "name": "stdout",
     "output_type": "stream",
     "text": [
      "請輸入國文成績（-1結束）：98\n",
      "請輸入國文成績（-1結束）：90\n",
      "請輸入國文成績（-1結束）：97\n",
      "請輸入國文成績（-1結束）：67\n",
      "請輸入國文成績（-1結束）：88\n",
      "請輸入國文成績（-1結束）：56\n",
      "請輸入國文成績（-1結束）：-1\n"
     ]
    }
   ],
   "source": [
    "scores = list()\n",
    "score = int(input(\"請輸入國文成績（-1結束）：\"))\n",
    "while score != -1:\n",
    "    scores.append(score)\n",
    "    score = int(input(\"請輸入國文成績（-1結束）：\"))\n",
    "fp = open(\"scores.dat\", 'w')\n",
    "fp.write(str(scores))\n",
    "fp.close()"
   ]
  },
  {
   "cell_type": "code",
   "execution_count": 46,
   "metadata": {},
   "outputs": [
    {
     "name": "stdout",
     "output_type": "stream",
     "text": [
      "請輸入1號同學的國文成績：56\n",
      "請輸入2號同學的國文成績：24\n",
      "請輸入3號同學的國文成績：68\n",
      "請輸入4號同學的國文成績：89\n",
      "請輸入5號同學的國文成績：90\n",
      "請輸入6號同學的國文成績：15\n",
      "請輸入7號同學的國文成績：25\n",
      "請輸入8號同學的國文成績：69\n",
      "請輸入9號同學的國文成績：87\n",
      "請輸入10號同學的國文成績：91\n"
     ]
    }
   ],
   "source": [
    "scores = list()\n",
    "for i in range(1,11):\n",
    "    score = int(input(\"請輸入{}號同學的國文成績：\".format(i)))\n",
    "    scores.append((i, score))\n",
    "fp = open(\"scores.dat\", \"w\")\n",
    "fp.write(str(scores))\n",
    "fp.close()"
   ]
  },
  {
   "cell_type": "code",
   "execution_count": 17,
   "metadata": {},
   "outputs": [
    {
     "name": "stdout",
     "output_type": "stream",
     "text": [
      "請輸入1號同學的國文成績：98\n",
      "請輸入1號同學的英文成績：90\n",
      "請輸入1號同學的數學成績：89\n",
      "請輸入2號同學的國文成績：90\n",
      "請輸入2號同學的英文成績：67\n",
      "請輸入2號同學的數學成績：87\n",
      "請輸入3號同學的國文成績：45\n",
      "請輸入3號同學的英文成績：65\n",
      "請輸入3號同學的數學成績：77\n",
      "請輸入4號同學的國文成績：66\n",
      "請輸入4號同學的英文成績：56\n",
      "請輸入4號同學的數學成績：90\n",
      "請輸入5號同學的國文成績：34\n",
      "請輸入5號同學的英文成績：54\n",
      "請輸入5號同學的數學成績：68\n"
     ]
    }
   ],
   "source": [
    "scores = list()\n",
    "for i in range(1,6):\n",
    "    chi = int(input(\"請輸入{}號同學的國文成績：\".format(i)))\n",
    "    eng = int(input(\"請輸入{}號同學的英文成績：\".format(i)))\n",
    "    mat = int(input(\"請輸入{}號同學的數學成績：\".format(i)))\n",
    "    scores.append((i, chi, eng, mat))\n",
    "fp = open(\"scores.dat\", \"w\")\n",
    "fp.write(str(scores))\n",
    "fp.close()"
   ]
  },
  {
   "cell_type": "code",
   "execution_count": 1,
   "metadata": {},
   "outputs": [
    {
     "name": "stdout",
     "output_type": "stream",
     "text": [
      "李白\n",
      "將進酒\n",
      "君不見\n",
      "黃河之水天上來，奔流到海不復回？\n",
      "君不見\n",
      "高堂明鏡悲白髮，朝如青絲暮成雪？\n",
      "人生得意須盡歡，莫使金樽空對月。\n",
      "天生我材必有用，千金散盡還復來。\n",
      "烹羊宰牛且為樂，會須一飲三百杯。\n",
      "岑夫子，丹丘生，\n",
      "將進酒，君莫停。\n",
      "與君歌一曲，請君為我側耳聽。\n",
      "鐘鼓饌玉不足貴，但願長醉不願醒。\n",
      "古來聖賢皆寂寞，惟有飲者留其名。\n",
      "陳王昔時宴平樂，斗酒十千恣歡謔。\n",
      "主人何為言少錢，徑須沽取對君酌。\n",
      "五花馬，千金裘，\n",
      "呼兒將出換美酒，與爾同銷萬古愁！\n"
     ]
    }
   ],
   "source": [
    "f = open(\"mydata.txt\", \"r\", encoding=\"utf-8\")\n",
    "data = f.read()\n",
    "f.close()\n",
    "print(data)"
   ]
  },
  {
   "cell_type": "code",
   "execution_count": 49,
   "metadata": {},
   "outputs": [
    {
     "name": "stdout",
     "output_type": "stream",
     "text": [
      "['李白\\n', '將進酒\\n', '君不見\\n', '黃河之水天上來，奔流到海不復回？\\n', '君不見\\n', '高堂明鏡悲白髮，朝如青絲暮成雪？\\n', '人生得意須盡歡，莫使金樽空對月。\\n', '天生我材必有用，千金散盡還復來。\\n', '烹羊宰牛且為樂，會須一飲三百杯。\\n', '岑夫子，丹丘生，\\n', '將進酒，君莫停。\\n', '與君歌一曲，請君為我側耳聽。\\n', '鐘鼓饌玉不足貴，但願長醉不願醒。\\n', '古來聖賢皆寂寞，惟有飲者留其名。\\n', '陳王昔時宴平樂，斗酒十千恣歡謔。\\n', '主人何為言少錢，徑須沽取對君酌。\\n', '五花馬，千金裘，\\n', '呼兒將出換美酒，與爾同銷萬古愁！']\n"
     ]
    }
   ],
   "source": [
    "f = open(\"mydata.txt\", \"r\", encoding=\"utf-8\")\n",
    "data = f.readlines()\n",
    "f.close()\n",
    "print(data)"
   ]
  },
  {
   "cell_type": "code",
   "execution_count": 6,
   "metadata": {},
   "outputs": [
    {
     "name": "stdout",
     "output_type": "stream",
     "text": [
      "['李白', '將進酒', '君不見', '黃河之水天上來，奔流到海不復回？', '君不見', '高堂明鏡悲白髮，朝如青絲暮成雪？', '人生得意須盡歡，莫使金樽空對月。', '天生我材必有用，千金散盡還復來。', '烹羊宰牛且為樂，會須一飲三百杯。', '岑夫子，丹丘生，', '將進酒，君莫停。', '與君歌一曲，請君為我側耳聽。', '鐘鼓饌玉不足貴，但願長醉不願醒。', '古來聖賢皆寂寞，惟有飲者留其名。', '陳王昔時宴平樂，斗酒十千恣歡謔。', '主人何為言少錢，徑須沽取對君酌。', '五花馬，千金裘，', '呼兒將出換美酒，與爾同銷萬古愁！']\n"
     ]
    }
   ],
   "source": [
    "with open(\"mydata.txt\", \"r\", encoding=\"utf-8\") as f:\n",
    "    data = [line.strip() for line in f.readlines()]\n",
    "print(data)"
   ]
  },
  {
   "cell_type": "code",
   "execution_count": 11,
   "metadata": {},
   "outputs": [
    {
     "name": "stdout",
     "output_type": "stream",
     "text": [
      "87 56 89 88 90 \n"
     ]
    }
   ],
   "source": [
    "with open(\"scores.dat\", \"r\") as f:\n",
    "    scores = f.read()\n",
    "print(scores)"
   ]
  },
  {
   "cell_type": "code",
   "execution_count": 12,
   "metadata": {},
   "outputs": [
    {
     "name": "stdout",
     "output_type": "stream",
     "text": [
      "['87', '56', '89', '88', '90']\n"
     ]
    }
   ],
   "source": [
    "with open(\"scores.dat\", \"r\") as f:\n",
    "    scores = f.read().split()\n",
    "print(scores)"
   ]
  },
  {
   "cell_type": "code",
   "execution_count": 14,
   "metadata": {},
   "outputs": [
    {
     "name": "stdout",
     "output_type": "stream",
     "text": [
      "['[98,', '90,', '97,', '67,', '88,', '56]']\n"
     ]
    }
   ],
   "source": [
    "with open(\"scores.dat\", \"r\") as f:\n",
    "    scores = f.read().split()\n",
    "print(scores)"
   ]
  },
  {
   "cell_type": "code",
   "execution_count": 16,
   "metadata": {},
   "outputs": [
    {
     "name": "stdout",
     "output_type": "stream",
     "text": [
      "[98, 90, 97, 67, 88, 56]\n"
     ]
    }
   ],
   "source": [
    "import ast\n",
    "with open(\"scores.dat\", \"r\") as f:\n",
    "    scores = ast.literal_eval(f.read())\n",
    "print(scores)"
   ]
  },
  {
   "cell_type": "code",
   "execution_count": 18,
   "metadata": {},
   "outputs": [
    {
     "name": "stdout",
     "output_type": "stream",
     "text": [
      "[(1, 98, 90, 89), (2, 90, 67, 87), (3, 45, 65, 77), (4, 66, 56, 90), (5, 34, 54, 68)]\n"
     ]
    }
   ],
   "source": [
    "import ast\n",
    "with open(\"scores.dat\", \"r\") as f:\n",
    "    scores = ast.literal_eval(f.read())\n",
    "print(scores)"
   ]
  },
  {
   "cell_type": "code",
   "execution_count": 21,
   "metadata": {},
   "outputs": [
    {
     "name": "stdout",
     "output_type": "stream",
     "text": [
      "請輸入成績：o\n"
     ]
    },
    {
     "ename": "ValueError",
     "evalue": "invalid literal for int() with base 10: 'o'",
     "output_type": "error",
     "traceback": [
      "\u001b[0;31m---------------------------------------------------------------------------\u001b[0m",
      "\u001b[0;31mValueError\u001b[0m                                Traceback (most recent call last)",
      "\u001b[0;32m<ipython-input-21-4c5052fa4d69>\u001b[0m in \u001b[0;36m<module>\u001b[0;34m()\u001b[0m\n\u001b[0;32m----> 1\u001b[0;31m \u001b[0mscore\u001b[0m \u001b[0;34m=\u001b[0m \u001b[0mint\u001b[0m\u001b[0;34m(\u001b[0m\u001b[0minput\u001b[0m\u001b[0;34m(\u001b[0m\u001b[0;34m\"請輸入成績：\"\u001b[0m\u001b[0;34m)\u001b[0m\u001b[0;34m)\u001b[0m\u001b[0;34m\u001b[0m\u001b[0m\n\u001b[0m",
      "\u001b[0;31mValueError\u001b[0m: invalid literal for int() with base 10: 'o'"
     ]
    }
   ],
   "source": [
    "score = int(input(\"請輸入成績：\"))"
   ]
  },
  {
   "cell_type": "code",
   "execution_count": 23,
   "metadata": {},
   "outputs": [
    {
     "name": "stdout",
     "output_type": "stream",
     "text": [
      "請輸入成績：p\n",
      "你必須輸入一個數字才行\n"
     ]
    }
   ],
   "source": [
    "try:\n",
    "    score = int(input(\"請輸入成績：\"))\n",
    "except:\n",
    "    print(\"你必須輸入一個數字才行\")"
   ]
  },
  {
   "cell_type": "code",
   "execution_count": 77,
   "metadata": {},
   "outputs": [
    {
     "name": "stdout",
     "output_type": "stream",
     "text": [
      "實際上預期可能會有例外的程式碼寫在這裡！\n",
      "發生錯誤了，錯誤訊息如下：\n",
      "division by zero\n",
      "不管如何，都要執行這裡\n"
     ]
    }
   ],
   "source": [
    "try:\n",
    "    print(\"實際上預期可能會有例外的程式碼寫在這裡！\")\n",
    "    10 / 0\n",
    "    print(\"在可能發生例外的指令之下的程式碼放在這邊！\")\n",
    "except Exception as e:\n",
    "    print(\"發生錯誤了，錯誤訊息如下：\")\n",
    "    print(e)\n",
    "else:\n",
    "    print(\"沒有發生任何錯誤。\")\n",
    "finally:\n",
    "    print(\"不管如何，都要執行這裡\")"
   ]
  },
  {
   "cell_type": "code",
   "execution_count": 30,
   "metadata": {},
   "outputs": [
    {
     "name": "stdout",
     "output_type": "stream",
     "text": [
      "請輸入想要使用的班級名稱：101\n",
      "你所使用的班級名稱101：發生錯誤\n",
      "[Errno 13] Permission denied: '101.dat'\n"
     ]
    }
   ],
   "source": [
    "import os\n",
    "classname = input(\"請輸入想要使用的班級名稱：\")\n",
    "filename = classname + \".dat\"\n",
    "try:\n",
    "    f = open(filename, \"w\")\n",
    "except Exception as e:\n",
    "    print(\"你所使用的班級名稱{}：發生錯誤\".format(classname))\n",
    "    print(e)\n",
    "finally:\n",
    "    f.close()"
   ]
  },
  {
   "cell_type": "code",
   "execution_count": 25,
   "metadata": {},
   "outputs": [
    {
     "name": "stdout",
     "output_type": "stream",
     "text": [
      "JPEG (4032, 3024) RGB\n"
     ]
    }
   ],
   "source": [
    "from PIL import Image\n",
    "im = Image.open(\"myIS300.jpg\")\n",
    "print(im.format, im.size, im.mode)\n",
    "im.close()"
   ]
  },
  {
   "cell_type": "code",
   "execution_count": 4,
   "metadata": {},
   "outputs": [],
   "source": [
    "from PIL import Image\n",
    "im = Image.open(\"myIS300.jpg\")\n",
    "smaller = im.resize((640,480))\n",
    "smaller.show()\n",
    "smaller.save(\"myIS300s.jpg\")\n",
    "im.close()"
   ]
  },
  {
   "cell_type": "code",
   "execution_count": 8,
   "metadata": {},
   "outputs": [
    {
     "name": "stdout",
     "output_type": "stream",
     "text": [
      "D:\\Dropbox\\books_project\\2018books\\Pythonbasics\\codes\n"
     ]
    }
   ],
   "source": [
    "import os\n",
    "print(os.getcwd())"
   ]
  },
  {
   "cell_type": "code",
   "execution_count": 5,
   "metadata": {},
   "outputs": [
    {
     "name": "stdout",
     "output_type": "stream",
     "text": [
      "請輸入來源資料夾：a\n",
      "請輸入目標資料夾：c\n",
      "2018-11-02 09.11.50.jpg-->2018-11-02 09.11.50_s.jpg\n",
      "2018-11-07 11.53.40.jpg-->2018-11-07 11.53.40_s.jpg\n",
      "2018-11-07 11.55.52.jpg-->2018-11-07 11.55.52_s.jpg\n",
      "2018-11-07 17.25.37.jpg-->2018-11-07 17.25.37_s.jpg\n",
      "2018-11-08 17.11.00.jpg-->2018-11-08 17.11.00_s.jpg\n",
      "2018-12-19 11.35.09.jpg-->2018-12-19 11.35.09_s.jpg\n",
      "2018-12-19 11.39.57.jpg-->2018-12-19 11.39.57_s.jpg\n",
      "2018-12-23 16.13.03.jpg-->2018-12-23 16.13.03_s.jpg\n",
      "2018-12-23 16.28.20.jpg-->2018-12-23 16.28.20_s.jpg\n"
     ]
    }
   ],
   "source": [
    "import os\n",
    "form PIL import Image\n",
    "\n",
    "source = input(\"請輸入來源資料夾：\")\n",
    "if os.path.exists(source):\n",
    "    target = input(\"請輸入目標資料夾：\")\n",
    "    if not os.path.exists(target):\n",
    "        os.mkdir(target)\n",
    "        allfiles = os.listdir(source)\n",
    "        for file in allfiles:\n",
    "            filename, ext = os.path.splitext(file)\n",
    "            filename = filename + \"_s\"\n",
    "            targetfile = filename + ext\n",
    "            im = Image.open(os.path.join(source, file))\n",
    "            thumbnail = im.resize((320,200))\n",
    "            thumbnail.save(os.path.join(target, targetfile))\n",
    "            im.close()\n",
    "            thumbnail.close()\n",
    "            print(\"{}-->{}\".format(file, targetfile))\n",
    "    else:\n",
    "        print(\"目標資料夾已存在，無法進行。\")\n",
    "else:    \n",
    "    print(\"找不到來源資料夾。\")"
   ]
  },
  {
   "cell_type": "code",
   "execution_count": 12,
   "metadata": {},
   "outputs": [
    {
     "name": "stdout",
     "output_type": "stream",
     "text": [
      "請輸入來源資料夾：a\n",
      "請輸入目標資料夾：b\n",
      "2018-11-02 09.11.50.jpg-->2018-11-02 09.11.50_s.jpg\n",
      "2018-11-07 11.53.40.jpg-->2018-11-07 11.53.40_s.jpg\n",
      "2018-11-07 11.55.52.jpg-->2018-11-07 11.55.52_s.jpg\n",
      "2018-11-07 17.25.37.jpg-->2018-11-07 17.25.37_s.jpg\n",
      "2018-11-08 17.11.00.jpg-->2018-11-08 17.11.00_s.jpg\n",
      "2018-12-19 11.35.09.jpg-->2018-12-19 11.35.09_s.jpg\n",
      "2018-12-19 11.39.57.jpg-->2018-12-19 11.39.57_s.jpg\n",
      "2018-12-23 16.13.03.jpg-->2018-12-23 16.13.03_s.jpg\n",
      "2018-12-23 16.28.20.jpg-->2018-12-23 16.28.20_s.jpg\n"
     ]
    }
   ],
   "source": [
    "import os\n",
    "from PIL import Image\n",
    "\n",
    "pre_html = '''\n",
    "<!DOCTYPE html>\n",
    "<head>\n",
    "<meta charset='utf-8'/>\n",
    "</head>\n",
    "<body>\n",
    "<table>\n",
    "'''\n",
    "\n",
    "post_html = '''\n",
    "</table>\n",
    "</body>\n",
    "</html>\n",
    "'''\n",
    "\n",
    "table_html = \"\"\n",
    "\n",
    "source = input(\"請輸入來源資料夾：\")\n",
    "if os.path.exists(source):\n",
    "    target = input(\"請輸入目標資料夾：\")\n",
    "    if not os.path.exists(target):\n",
    "        os.mkdir(target)\n",
    "        allfiles = os.listdir(source)\n",
    "        for file in allfiles:\n",
    "            filename, ext = os.path.splitext(file)\n",
    "            filename = filename + \"_s\"\n",
    "            targetfile = filename + ext\n",
    "            im = Image.open(os.path.join(source, file))\n",
    "            thumbnail = im.resize((320,200))\n",
    "            thumbnail.save(os.path.join(target, targetfile))\n",
    "            im.close()\n",
    "            thumbnail.close()\n",
    "            print(\"{}-->{}\".format(file, targetfile))\n",
    "#以下的程式碼用來建立HTML索引檔的表格內容            \n",
    "            table_html += \"<tr><td><a href='{}'><img src='{}'></a></td></tr>\".format(\n",
    "                os.path.join(\"..\", os.path.join(source, file)),\n",
    "                targetfile)\n",
    "#以上的程式碼用來建立HTML索引檔的表格內容\n",
    "    else:\n",
    "        print(\"目標資料夾已存在，無法進行。\")\n",
    "else:    \n",
    "    print(\"找不到來源資料夾。\")\n",
    "html = pre_html + table_html + post_html\n",
    "with open(os.path.join(target, \"index.html\"), \"w\", encoding=\"utf-8\") as f:\n",
    "    f.write(html)"
   ]
  },
  {
   "cell_type": "code",
   "execution_count": 20,
   "metadata": {},
   "outputs": [
    {
     "name": "stdout",
     "output_type": "stream",
     "text": [
      "請輸入來源資料夾：a\n",
      "請輸入目標資料夾：c\n",
      "2018-11-02 09.11.50.jpg-->2018-11-02 09.11.50_s.jpg\n",
      "2018-11-07 11.53.40.jpg-->2018-11-07 11.53.40_s.jpg\n",
      "2018-11-07 11.55.52.jpg-->2018-11-07 11.55.52_s.jpg\n",
      "2018-11-07 17.25.37.jpg-->2018-11-07 17.25.37_s.jpg\n",
      "2018-11-08 17.11.00.jpg-->2018-11-08 17.11.00_s.jpg\n",
      "2018-12-19 11.35.09.jpg-->2018-12-19 11.35.09_s.jpg\n",
      "2018-12-19 11.39.57.jpg-->2018-12-19 11.39.57_s.jpg\n",
      "2018-12-23 16.13.03.jpg-->2018-12-23 16.13.03_s.jpg\n",
      "2018-12-23 16.28.20.jpg-->2018-12-23 16.28.20_s.jpg\n"
     ]
    }
   ],
   "source": [
    "import os\n",
    "from PIL import Image\n",
    "\n",
    "pre_html = '''\n",
    "<!DOCTYPE html>\n",
    "<head>\n",
    "<meta charset='utf-8'/>\n",
    "</head>\n",
    "<body>\n",
    "<table>\n",
    "<tr>\n",
    "'''\n",
    "\n",
    "post_html = '''\n",
    "</tr>\n",
    "</table>\n",
    "</body>\n",
    "</html>\n",
    "'''\n",
    "\n",
    "table_html = \"\"\n",
    "\n",
    "source = input(\"請輸入來源資料夾：\")\n",
    "if os.path.exists(source):\n",
    "    target = input(\"請輸入目標資料夾：\")\n",
    "    if not os.path.exists(target):\n",
    "        os.mkdir(target)\n",
    "        allfiles = os.listdir(source)\n",
    "        for index, file in enumerate(allfiles):\n",
    "            filename, ext = os.path.splitext(file)\n",
    "            filename = filename + \"_s\"\n",
    "            targetfile = filename + ext\n",
    "            im = Image.open(os.path.join(source, file))\n",
    "            thumbnail = im.resize((320,200))\n",
    "            thumbnail.save(os.path.join(target, targetfile))\n",
    "            im.close()\n",
    "            thumbnail.close()\n",
    "            print(\"{}-->{}\".format(file, targetfile))\n",
    "#以下的程式碼用來建立HTML索引檔的表格內容         \n",
    "            table_html += \"<td><a href='{}'><img src='{}'></a></td>\".format(\n",
    "                os.path.join(\"..\", os.path.join(source, file)),\n",
    "                targetfile)\n",
    "            if (index+1) % 3 == 0:\n",
    "                table_html += \"</tr><tr>\"\n",
    "#以上的程式碼用來建立HTML索引檔的表格內容\n",
    "    else:\n",
    "        print(\"目標資料夾已存在，無法進行。\")\n",
    "else:    \n",
    "    print(\"找不到來源資料夾。\")\n",
    "html = pre_html + table_html + post_html\n",
    "with open(os.path.join(target, \"index.html\"), \"w\", encoding=\"utf-8\") as f:\n",
    "    f.write(html)"
   ]
  },
  {
   "cell_type": "code",
   "execution_count": null,
   "metadata": {},
   "outputs": [],
   "source": []
  }
 ],
 "metadata": {
  "kernelspec": {
   "display_name": "Python 3",
   "language": "python",
   "name": "python3"
  },
  "language_info": {
   "codemirror_mode": {
    "name": "ipython",
    "version": 3
   },
   "file_extension": ".py",
   "mimetype": "text/x-python",
   "name": "python",
   "nbconvert_exporter": "python",
   "pygments_lexer": "ipython3",
   "version": "3.7.0"
  }
 },
 "nbformat": 4,
 "nbformat_minor": 2
}
