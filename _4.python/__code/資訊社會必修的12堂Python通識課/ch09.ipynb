{
 "cells": [
  {
   "cell_type": "code",
   "execution_count": 4,
   "metadata": {},
   "outputs": [
    {
     "name": "stdout",
     "output_type": "stream",
     "text": [
      "﻿序號,年度,總戶數,總人口數,男性人數,女性人數,平地原住民,山地原住民\n",
      "1,91,109231,352154,185554,166600,54236,32520\n",
      "2,92,110985,351146,184682,166464,59126,32669\n",
      "3,93,112948,349149,183149,166000,53529,33105\n",
      "4,94,114220,347298,181557,165741,55256,33575\n",
      "5,95,115378,345303,180042,165261,55266,33860\n",
      "6,96,116766,343302,178376,164926,55319,34028\n",
      "7,97,118073,341433,177032,164404,55499,35199\n",
      "8,98,119916,340964,176151,164813,55977,34627\n",
      "9,99,120903,338805,174584,164221,56087,34842\n",
      "10,100,121833,336838,173205,163653,56116,34903\n",
      "11,101,122651,335190,172064,163126,55948,35028\n",
      "12,102,123440,333897,171016,162881,55963,35159\n",
      "13,103,124243,333392,170322,163068,56214,35461\n",
      "14,104,124956,331945,169335,162610,56309,35690\n",
      "15,105,125361,330911,168375,162536,56490,35989\n",
      "16,106,125901,329374,167288,162086,56629,36107\n"
     ]
    }
   ],
   "source": [
    "filename = \"hualien.csv\"\n",
    "with open(filename, encoding='utf-8') as fp:\n",
    "    for line in fp.readlines():\n",
    "        print(line, end=\"\")"
   ]
  },
  {
   "cell_type": "code",
   "execution_count": 13,
   "metadata": {},
   "outputs": [
    {
     "name": "stdout",
     "output_type": "stream",
     "text": [
      "[['\\ufeff序號', '年度', '總戶數', '總人口數', '男性人數', '女性人數', '平地原住民', '山地原住民\\n'], ['1', '91', '109231', '352154', '185554', '166600', '54236', '32520\\n'], ['2', '92', '110985', '351146', '184682', '166464', '59126', '32669\\n'], ['3', '93', '112948', '349149', '183149', '166000', '53529', '33105\\n'], ['4', '94', '114220', '347298', '181557', '165741', '55256', '33575\\n'], ['5', '95', '115378', '345303', '180042', '165261', '55266', '33860\\n'], ['6', '96', '116766', '343302', '178376', '164926', '55319', '34028\\n'], ['7', '97', '118073', '341433', '177032', '164404', '55499', '35199\\n'], ['8', '98', '119916', '340964', '176151', '164813', '55977', '34627\\n'], ['9', '99', '120903', '338805', '174584', '164221', '56087', '34842\\n'], ['10', '100', '121833', '336838', '173205', '163653', '56116', '34903\\n'], ['11', '101', '122651', '335190', '172064', '163126', '55948', '35028\\n'], ['12', '102', '123440', '333897', '171016', '162881', '55963', '35159\\n'], ['13', '103', '124243', '333392', '170322', '163068', '56214', '35461\\n'], ['14', '104', '124956', '331945', '169335', '162610', '56309', '35690\\n'], ['15', '105', '125361', '330911', '168375', '162536', '56490', '35989\\n'], ['16', '106', '125901', '329374', '167288', '162086', '56629', '36107\\n']]\n"
     ]
    }
   ],
   "source": [
    "filename = \"hualien.csv\"\n",
    "data = list()\n",
    "with open(filename, encoding='utf-8') as fp:\n",
    "    for line in fp.readlines():\n",
    "        data.append(list(line.split(\",\")))\n",
    "print(data)"
   ]
  },
  {
   "cell_type": "code",
   "execution_count": 2,
   "metadata": {},
   "outputs": [
    {
     "name": "stdout",
     "output_type": "stream",
     "text": [
      "年度\t總人口數\n",
      "91\t352154\n",
      "92\t351146\n",
      "93\t349149\n",
      "94\t347298\n",
      "95\t345303\n",
      "96\t343302\n",
      "97\t341433\n",
      "98\t340964\n",
      "99\t338805\n",
      "100\t336838\n",
      "101\t335190\n",
      "102\t333897\n",
      "103\t333392\n",
      "104\t331945\n",
      "105\t330911\n",
      "106\t329374\n"
     ]
    }
   ],
   "source": [
    "filename = \"hualien.csv\"\n",
    "data = list()\n",
    "with open(filename, encoding='utf-8') as fp:\n",
    "    for line in fp.readlines():\n",
    "        data.append(list(line.split(\",\")))\n",
    "for row in data:\n",
    "    print(\"{}\\t{}\".format(row[1], row[3]))"
   ]
  },
  {
   "cell_type": "code",
   "execution_count": 24,
   "metadata": {},
   "outputs": [
    {
     "data": {
      "text/plain": [
       "[<matplotlib.lines.Line2D at 0x1a0261333c8>]"
      ]
     },
     "execution_count": 24,
     "metadata": {},
     "output_type": "execute_result"
    },
    {
     "data": {
      "image/png": "[encoded data removed]",
      "text/plain": [
       "<matplotlib.figure.Figure at 0x1a025cc2908>"
      ]
     },
     "metadata": {},
     "output_type": "display_data"
    }
   ],
   "source": [
    "%matplotlib inline\n",
    "import matplotlib.pyplot as plt\n",
    "filename = \"hualien.csv\"\n",
    "data = list()\n",
    "with open(filename, encoding='utf-8') as fp:\n",
    "    for line in fp.readlines():\n",
    "        data.append(list(line.split(\",\")))\n",
    "x = [row[1] for row in data]\n",
    "y = [row[3] for row in data]\n",
    "plt.plot(x[1:], y[1:])"
   ]
  },
  {
   "cell_type": "code",
   "execution_count": 13,
   "metadata": {},
   "outputs": [
    {
     "name": "stdout",
     "output_type": "stream",
     "text": [
      "91 352154\n",
      "92 351146\n",
      "93 349149\n",
      "94 347298\n",
      "95 345303\n",
      "96 343302\n",
      "97 341433\n",
      "98 340964\n",
      "99 338805\n",
      "100 336838\n",
      "101 335190\n",
      "102 333897\n",
      "103 333392\n",
      "104 331945\n",
      "105 330911\n",
      "106 329374\n"
     ]
    }
   ],
   "source": [
    "import csv\n",
    "filename = \"hualien.csv\"\n",
    "with open(filename, encoding='utf-8') as fp:\n",
    "    data = csv.DictReader(fp)\n",
    "    for item in data:\n",
    "        print(item['年度'],item['總人口數'])"
   ]
  },
  {
   "cell_type": "code",
   "execution_count": 14,
   "metadata": {},
   "outputs": [
    {
     "name": "stdout",
     "output_type": "stream",
     "text": [
      "['\\ufeff序號', '年度', '總戶數', '總人口數', '男性人數', '女性人數', '平地原住民', '山地原住民']\n",
      "['1', '91', '109231', '352154', '185554', '166600', '54236', '32520']\n",
      "['2', '92', '110985', '351146', '184682', '166464', '59126', '32669']\n",
      "['3', '93', '112948', '349149', '183149', '166000', '53529', '33105']\n",
      "['4', '94', '114220', '347298', '181557', '165741', '55256', '33575']\n",
      "['5', '95', '115378', '345303', '180042', '165261', '55266', '33860']\n",
      "['6', '96', '116766', '343302', '178376', '164926', '55319', '34028']\n",
      "['7', '97', '118073', '341433', '177032', '164404', '55499', '35199']\n",
      "['8', '98', '119916', '340964', '176151', '164813', '55977', '34627']\n",
      "['9', '99', '120903', '338805', '174584', '164221', '56087', '34842']\n",
      "['10', '100', '121833', '336838', '173205', '163653', '56116', '34903']\n",
      "['11', '101', '122651', '335190', '172064', '163126', '55948', '35028']\n",
      "['12', '102', '123440', '333897', '171016', '162881', '55963', '35159']\n",
      "['13', '103', '124243', '333392', '170322', '163068', '56214', '35461']\n",
      "['14', '104', '124956', '331945', '169335', '162610', '56309', '35690']\n",
      "['15', '105', '125361', '330911', '168375', '162536', '56490', '35989']\n",
      "['16', '106', '125901', '329374', '167288', '162086', '56629', '36107']\n"
     ]
    }
   ],
   "source": [
    "import csv\n",
    "filename = \"hualien.csv\"\n",
    "with open(filename, encoding='utf-8') as fp:\n",
    "    data = csv.reader(fp)\n",
    "    for item in data:\n",
    "        print(item)"
   ]
  },
  {
   "cell_type": "code",
   "execution_count": 15,
   "metadata": {
    "scrolled": true
   },
   "outputs": [
    {
     "name": "stdout",
     "output_type": "stream",
     "text": [
      "年度\t每戶平均人數\n",
      "91\t3.22\n",
      "92\t3.16\n",
      "93\t3.09\n",
      "94\t3.04\n",
      "95\t2.99\n",
      "96\t2.94\n",
      "97\t2.89\n",
      "98\t2.84\n",
      "99\t2.80\n",
      "100\t2.76\n",
      "101\t2.73\n",
      "102\t2.70\n",
      "103\t2.68\n",
      "104\t2.66\n",
      "105\t2.64\n",
      "106\t2.62\n"
     ]
    }
   ],
   "source": [
    "import csv\n",
    "filename = \"hualien.csv\"\n",
    "with open(filename, encoding='utf-8') as fp:\n",
    "    data = csv.reader(fp)\n",
    "    print(\"年度\\t每戶平均人數\")\n",
    "    for item in data:\n",
    "        try:\n",
    "            print(\"{}\\t{:.2f}\".format(\n",
    "                item[1], int(item[3])/int(item[2])))\n",
    "        except:\n",
    "            pass"
   ]
  },
  {
   "cell_type": "code",
   "execution_count": 31,
   "metadata": {},
   "outputs": [
    {
     "name": "stdout",
     "output_type": "stream",
     "text": [
      "{'retCode': 1, 'retVal': {'2001': {'sna': '中央大學圖書館', 'tot': '60', 'sbi': '28', 'lat': '24.968128', 'lng': '121.194666', 'bemp': '32', 'act': '1', 'sno': '2001', 'sarea': '中壢區', 'mday': '20190324143541', 'ar': '中大路300號(中央大學校內圖書館前)', 'sareaen': 'Zhongli Dist.', 'snaen': 'National Central University Library', 'aren': 'No.300, Zhongda Rd.'}, '2002': {'sna': '中壢高中', 'tot': '52', 'sbi': '30', 'lat': '24.960815', 'lng': '121.212038', 'bemp': '20', 'act': '1', 'sno': '2002', 'sarea': '中壢區', 'mday': '20190324143525', 'ar': '中央西路二段215號對面人行道', 'sareaen': 'Zhongli Dist.', 'snaen': 'Jhungli Senior High School', 'aren': 'No.215, Sec. 2, Zhongyang W. Rd. (opposite)'}, '2003': {'sna': '中正公園(中美路)', 'tot': '54', 'sbi': '28', 'lat': '24.959113', 'lng': '121.224805', 'bemp': '25', 'act': '1', 'sno': '2003', 'sarea': '中壢區', 'mday': '20190324143532', 'ar': '中美路101號-113號對面人行道', 'sareaen': 'Zhongli Dist.', 'snaen': 'Zhongzheng Park', 'aren': 'No.101 to No.113, Zhongmei Rd. (opposite)'}, '2004': {'sna': '中壢火車站(前站)', 'tot': '114', 'sbi': '55', 'lat': '24.953874', 'lng': '121.2256', 'bemp': '58', 'act': '1', 'sno': '2004', 'sarea': '中壢區', 'mday': '20190324143518', 'ar': '中和路139號對面圓環', 'sareaen': 'Zhongli Dist.', 'snaen': 'TRA Zhongli Station (Front)', 'aren': 'No.139, Zhonghe Rd. (opposite)'}, '2005': {'sna': '中原大學', 'tot': '82', 'sbi': '24', 'lat': '24.957943', 'lng': '121.240201', 'bemp': '58', 'act': '1', 'sno': '2005', 'sarea': '中壢區', 'mday': '20190324143543', 'ar': '中北路200號(中原大學校內懷恩樓後方空地)', 'sareaen': 'Zhongli Dist.', 'snaen': 'Chung Yuan Christian University', 'aren': 'No.200, Zhongbei Rd.'}, '2006': {'sna': '銀河廣場', 'tot': '58', 'sbi': '28', 'lat': '24.961716', 'lng': '121.224241', 'bemp': '30', 'act': '1', 'sno': '2006', 'sarea': '中壢區', 'mday': '20190324143515', 'ar': '九和一街48號對面銀河廣場人行道', 'sareaen': 'Zhongli Dist.', 'snaen': 'Galaxy Square', 'aren': 'No.48, Jiuhe 1st St. (opposite)'}, '2007': {'sna': '中壢區公所', 'tot': '40', 'sbi': '18', 'lat': '24.965779', 'lng': '121.224683', 'bemp': '22', 'act': '1', 'sno': '2007', 'sarea': '中壢區', 'mday': '20190324143523', 'ar': '環北路380號旁人行道', 'sareaen': 'Zhongli Dist.', 'snaen': 'Civil Affairs Office of Zhongli District', 'aren': 'No.380, Huanbei Rd.'}, '2008': {'sna': '新明橋', 'tot': '58', 'sbi': '40', 'lat': '24.962303', 'lng': '121.217956', 'bemp': '16', 'act': '1', 'sno': '2008', 'sarea': '中壢區', 'mday': '20190324143538', 'ar': '元化路二段269號-373號對面人行道 ', 'sareaen': 'Zhongli Dist.', 'snaen': 'Xinming Bridge', 'aren': 'No.269 to No.373, Sec. 2, Yuanhua Rd. (opposite)'}, '2009': {'sna': '翠堤橋', 'tot': '46', 'sbi': '12', 'lat': '24.953288', 'lng': '121.215953', 'bemp': '34', 'act': '1', 'sno': '2009', 'sarea': '中壢區', 'mday': '20190324143525', 'ar': '義民路105號旁人行道', 'sareaen': 'Zhongli Dist.', 'snaen': 'Cuiti Bridge', 'aren': 'No.105, Yimin Rd.'}, '2010': {'sna': '中壢國小', 'tot': '30', 'sbi': '19', 'lat': '24.953245', 'lng': '121.221336', 'bemp': '11', 'act': '1', 'sno': '2010', 'sarea': '中壢區', 'mday': '20190324143515', 'ar': '康樂路47號對面中壢國小旁人行道', 'sareaen': 'Zhongli Dist.', 'snaen': 'Chungli Elementary School', 'aren': 'No.47, Kangle Rd. (opposite)'}, '2011': {'sna': '莒光公園', 'tot': '30', 'sbi': '16', 'lat': '24.951472', 'lng': '121.235693', 'bemp': '13', 'act': '1', 'sno': '2011', 'sarea': '中壢區', 'mday': '20190324143540', 'ar': '寧夏二街43號對面莒光公園入口圓環', 'sareaen': 'Zhongli Dist.', 'snaen': 'Juguang Park', 'aren': 'No.43,Ningxia 2nd St. (opposite)'}, '2012': {'sna': '中壢火車站(後站)', 'tot': '40', 'sbi': '12', 'lat': '24.952352', 'lng': '121.224325', 'bemp': '26', 'act': '1', 'sno': '2012', 'sarea': '中壢區', 'mday': '20190324143521', 'ar': '新興路68-94號對面人行道', 'sareaen': 'Zhongli Dist.', 'snaen': 'TRA Zhongli Station (Rear)', 'aren': 'No.68 to No.94, Xinxing Rd. (opposite)'}, '2013': {'sna': '桃園市立圖書館桃園分館', 'tot': '82', 'sbi': '63', 'lat': '24.993040', 'lng': '121.310863', 'bemp': '19', 'act': '1', 'sno': '2013', 'sarea': '桃園區', 'mday': '20190324143545', 'ar': '民權路32號前方人行道', 'sareaen': 'Taoyuan Dist.', 'snaen': 'Taoyuan City Library Taoyuan Branch', 'aren': 'No.32, Minquan Rd.'}, '2014': {'sna': '捷運長庚醫院站(A8)', 'tot': '58', 'sbi': '21', 'lat': '25.060061', 'lng': '121.370974', 'bemp': '37', 'act': '1', 'sno': '2014', 'sarea': '龜山區', 'mday': '20190324143538', 'ar': '文化一路10巷旁停車場前方人行道', 'sareaen': 'Guishan Dist.', 'snaen': 'MRT Chang Gung Memorial Hospital Station (A8)', 'aren': 'Ln.10, Wenhua 1st Rd.'}, '2015': {'sna': '文化三復興一路口', 'tot': '48', 'sbi': '33', 'lat': '25.057653', 'lng': '121.364843', 'bemp': '15', 'act': '1', 'sno': '2015', 'sarea': '龜山區', 'mday': '20190324143527', 'ar': '復興一路227-235號前方人行道', 'sareaen': 'Guishan Dist.', 'snaen': 'Wenhua 3rd & Fuxing 1st Intersection', 'aren': 'No.227 to No.235, Fuxing 1st Rd.'}, '2016': {'sna': '大坪頂公園', 'tot': '36', 'sbi': '25', 'lat': '25.054611', 'lng': '121.366915', 'bemp': '11', 'act': '1', 'sno': '2016', 'sarea': '龜山區', 'mday': '20190324143529', 'ar': '公園路32號對面大坪頂公園旁人行道', 'sareaen': 'Guishan Dist.', 'snaen': 'Dapingding Park', 'aren': 'No.32, Gongyuan Rd. (opposite)'}, '2017': {'sna': '中正公園(元化路)', 'tot': '40', 'sbi': '22', 'lat': '24.960415', 'lng': '121.227300', 'bemp': '17', 'act': '1', 'sno': '2017', 'sarea': '中壢區', 'mday': '20190324143538', 'ar': '元化路197巷對面中正公園旁人行道', 'sareaen': 'Zhongli Dist.', 'snaen': 'Zhongzheng Park(Yuanhua Rd.)', 'aren': 'Ln. 197, Yuanhua Rd. (opposite)'}, '2018': {'sna': '中壢區聯合辦公大樓', 'tot': '38', 'sbi': '25', 'lat': '24.962068', 'lng': '121.230027', 'bemp': '13', 'act': '1', 'sno': '2018', 'sarea': '中壢區', 'mday': '20190324143531', 'ar': '溪洲街298號前方人行道', 'sareaen': 'Zhongli Dist.', 'snaen': 'Zhongli District Joint Office Building', 'aren': 'No.298, Xizhou St.'}, '2019': {'sna': '民族公園', 'tot': '44', 'sbi': '14', 'lat': '24.995946', 'lng': '121.306636', 'bemp': '29', 'act': '1', 'sno': '2019', 'sarea': '桃園區', 'mday': '20190324143543', 'ar': '汕頭街15號對面民族公園旁人行道', 'sareaen': 'Taoyuan Dist.', 'snaen': 'Minzu Park', 'aren': 'No.15, Shantou St.(opposite)'}, '2020': {'sna': '朝陽森林公園', 'tot': '40', 'sbi': '21', 'lat': '24.999107', 'lng': '121.312820', 'bemp': '19', 'act': '1', 'sno': '2020', 'sarea': '桃園區', 'mday': '20190324143524', 'ar': '朝陽街104-108號對面機車停車場', 'sareaen': 'Taoyuan Dist.', 'snaen': 'Chaoyang Park', 'aren': 'No.104 to No.108, Chaoyang St.'}, '2021': {'sna': '桃園延平公園', 'tot': '70', 'sbi': '35', 'lat': '24.980482', 'lng': '121.314998', 'bemp': '35', 'act': '1', 'sno': '2021', 'sarea': '桃園區', 'mday': '20190324143520', 'ar': '大豐路187號對面延平公園旁人行道', 'sareaen': 'Taoyuan Dist.', 'snaen': 'Taoyuan Yenping Park', 'aren': 'No.187, Dafeng Rd.(opposite)'}, '2022': {'sna': '福豐公園', 'tot': '38', 'sbi': '18', 'lat': '24.985652', 'lng': '121.311513', 'bemp': '20', 'act': '1', 'sno': '2022', 'sarea': '桃園區', 'mday': '20190324143536', 'ar': '建國路昆明路口(西北側)', 'sareaen': 'Taoyuan Dist.', 'snaen': 'Fufeng Park', 'aren': 'Jianguo Rd./Kunming Rd.'}, '2023': {'sna': '桃園火車站(後站)', 'tot': '70', 'sbi': '33', 'lat': '24.987795', 'lng': '121.314279', 'bemp': '37', 'act': '1', 'sno': '2023', 'sarea': '桃園區', 'mday': '20190324143517', 'ar': '延平路26號對面人行道', 'sareaen': 'Taoyuan Dist.', 'snaen': 'TRA Taoyuan Station (Rear)', 'aren': 'No.26, Yanping Rd.(opposite)'}, '2024': {'sna': '桃園建國公園', 'tot': '38', 'sbi': '25', 'lat': '24.987418', 'lng': '121.317759', 'bemp': '13', 'act': '1', 'sno': '2024', 'sarea': '桃園區', 'mday': '20190324143440', 'ar': '桃鶯路93號對面建國公園旁人行道', 'sareaen': 'Taoyuan Dist.', 'snaen': 'Taoyuan Jianguo Park', 'aren': 'No.93, Taoying Rd. (opposite)'}, '2025': {'sna': '國立陽明高中', 'tot': '60', 'sbi': '17', 'lat': '24.980404', 'lng': '121.303296', 'bemp': '43', 'act': '1', 'sno': '2025', 'sarea': '桃園區', 'mday': '20190324143542', 'ar': '德壽街8號(國立陽明高中旁人行道)', 'sareaen': 'Taoyuan Dist.', 'snaen': 'National Yang Ming Senior High School', 'aren': 'No.8, Deshou St.'}, '2026': {'sna': '夢幻公園', 'tot': '46', 'sbi': '25', 'lat': '24.962541', 'lng': '121.261596', 'bemp': '21', 'act': '1', 'sno': '2026', 'sarea': '中壢區', 'mday': '20190324143528', 'ar': '榮安十三街榮民路口(西南側)', 'sareaen': 'Zhongli Dist.', 'snaen': 'Dream Park', 'aren': 'Rongan 13th St./Rongmin Rd.'}, '2027': {'sna': '內壢自強公園', 'tot': '50', 'sbi': '30', 'lat': '24.967686', 'lng': '121.259279', 'bemp': '20', 'act': '1', 'sno': '2027', 'sarea': '中壢區', 'mday': '20190324143530', 'ar': '強國路46號旁自強公園側人行道', 'sareaen': 'Zhongli Dist.', 'snaen': 'Neili Ziqiang Park', 'aren': 'No.46, Qiangguo Rd.'}, '2028': {'sna': '內壢復興公園', 'tot': '40', 'sbi': '18', 'lat': '24.973630', 'lng': '121.248114', 'bemp': '22', 'act': '1', 'sno': '2028', 'sarea': '中壢區', 'mday': '20190324143535', 'ar': '復華街191號對面復興公園旁人行道', 'sareaen': 'Zhongli Dist.', 'snaen': 'Neili Fuxing Park', 'aren': 'No.191, Fuhua St. (opposite)'}, '2029': {'sna': '元智大學', 'tot': '64', 'sbi': '22', 'lat': '24.970346', 'lng': '121.263249', 'bemp': '41', 'act': '1', 'sno': '2029', 'sarea': '中壢區', 'mday': '20190324143536', 'ar': '遠東路135號元智大學旁人行道', 'sareaen': 'Zhongli Dist.', 'snaen': 'Yuan Ze University', 'aren': 'No.135, Yuandong Rd.'}, '2030': {'sna': '同德國中', 'tot': '38', 'sbi': '18', 'lat': '25.016130', 'lng': '121.293908', 'bemp': '20', 'act': '1', 'sno': '2030', 'sarea': '桃園區', 'mday': '20190324143542', 'ar': '南平路479號對面同德國中旁人行道', 'sareaen': 'Taoyuan Dist.', 'snaen': 'Tongde Junior High School', 'aren': 'No.479, Nanping Rd. (opposite)'}, '2031': {'sna': '桃園展演中心(同德六街)', 'tot': '50', 'sbi': '35', 'lat': '25.016551', 'lng': '121.299970', 'bemp': '15', 'act': '1', 'sno': '2031', 'sarea': '桃園區', 'mday': '20190324143533', 'ar': '同德六街藝文二街口東南側廣場', 'sareaen': 'Taoyuan Dist.', 'snaen': 'Taoyuan Arts Center(Tongde 6th St.)', 'aren': 'Tongde 6th St./Yiwen 2nd St.'}, '2032': {'sna': '東溪綠園', 'tot': '70', 'sbi': '33', 'lat': '24.993122', 'lng': '121.313558', 'bemp': '37', 'act': '1', 'sno': '2032', 'sarea': '桃園區', 'mday': '20190324143519', 'ar': '成功路二段1號旁小公園', 'sareaen': 'Taoyuan Dist.', 'snaen': 'Dongxi Greens', 'aren': 'No.1, Sec. 2, Chenggong Rd.'}, '2033': {'sna': '桃園市立圖書館平鎮分館', 'tot': '56', 'sbi': '24', 'lat': '24.940031', 'lng': '121.218322', 'bemp': '30', 'act': '1', 'sno': '2033', 'sarea': '平鎮區', 'mday': '20190324143524', 'ar': '環南路三段88號右前方人行道', 'sareaen': 'Pingzhen Dist.', 'snaen': 'Taoyuan Public Library Pingzhen Branch', 'aren': 'No.88, Sec. 3, Huannan Rd.'}, '2034': {'sna': '新勢公園', 'tot': '48', 'sbi': '16', 'lat': '24.950692', 'lng': '121.216686', 'bemp': '32', 'act': '1', 'sno': '2034', 'sarea': '平鎮區', 'mday': '20190324143520', 'ar': '延平路一段181號對面新勢公園旁人行道', 'sareaen': 'Pingzhen Dist.', 'snaen': 'Xinshi Park', 'aren': 'No.181, Sec. 1, Yanping Rd.(opposite)'}, '2035': {'sna': '三民運動公園', 'tot': '50', 'sbi': '24', 'lat': '25.000577', 'lng': '121.319691', 'bemp': '25', 'act': '1', 'sno': '2035', 'sarea': '桃園區', 'mday': '20190324143541', 'ar': '三民路一段200號前方人行道', 'sareaen': 'Taoyuan Dist.', 'snaen': 'Sanmin Sports Park', 'aren': 'No.200, Sec. 1, Sanmin Rd.'}, '2036': {'sna': '復興廣德街口', 'tot': '36', 'sbi': '8', 'lat': '24.954375', 'lng': '121.205035', 'bemp': '28', 'act': '1', 'sno': '2036', 'sarea': '平鎮區', 'mday': '20190324143523', 'ar': '復興街廣德街口西南側人行道', 'sareaen': 'Pingzhen Dist.', 'snaen': 'Fuxing & Guangde St. Intersection', 'aren': 'Fuxing St./Guangde St.'}, '2037': {'sna': '桃園展演中心(中正路)', 'tot': '34', 'sbi': '9', 'lat': '25.017651', 'lng': '121.297976', 'bemp': '24', 'act': '1', 'sno': '2037', 'sarea': '桃園區', 'mday': '20190324143533', 'ar': '中正路南平路口東南側人行道', 'sareaen': 'Taoyuan Dist.', 'snaen': 'Taoyuan Arts Center (Zhongzheng Rd.)', 'aren': 'Zhongzheng Rd./Nanping Rd.'}, '2038': {'sna': '國強公園', 'tot': '56', 'sbi': '21', 'lat': '24.993077', 'lng': '121.289327', 'bemp': '35', 'act': '1', 'sno': '2038', 'sarea': '桃園區', 'mday': '20190324143524', 'ar': '國強一街益壽一街口(東北側人行道)', 'sareaen': 'Taoyuan Dist.', 'snaen': 'Guochiang Park', 'aren': 'Guociang 1st St./Yishou 1st St.'}, '2039': {'sna': '新埔公園', 'tot': '34', 'sbi': '20', 'lat': '25.015195', 'lng': '121.303725', 'bemp': '14', 'act': '1', 'sno': '2039', 'sarea': '桃園區', 'mday': '20190324143525', 'ar': '同安街203號對面人行道', 'sareaen': 'Taoyuan Dist.', 'snaen': 'Xinpu Park', 'aren': 'No.203, Tong’an St.(opposite)'}, '2040': {'sna': '信義國小', 'tot': '30', 'sbi': '19', 'lat': '24.951017', 'lng': '121.231454', 'bemp': '11', 'act': '1', 'sno': '2040', 'sarea': '中壢區', 'mday': '20190324143522', 'ar': '成都路36號對面人行道', 'sareaen': 'Zhongli Dist.', 'snaen': 'Hsin Yi Elementary School', 'aren': 'No.36, Chengdu Rd.(opposite)'}, '2041': {'sna': '桃園市立圖書館大林分館', 'tot': '46', 'sbi': '17', 'lat': '24.977812', 'lng': '121.321076', 'bemp': '29', 'act': '1', 'sno': '2041', 'sarea': '桃園區', 'mday': '20190324143531', 'ar': '樹仁二街37號後方人行道', 'sareaen': 'Taoyuan Dist.', 'snaen': 'No.37, Shuren 2nd St.', 'aren': 'No.37, Shuren 2nd St.'}, '2042': {'sna': '桃園火車站(前站)', 'tot': '66', 'sbi': '34', 'lat': '24.989618', 'lng': '121.313022', 'bemp': '32', 'act': '1', 'sno': '2042', 'sarea': '桃園區', 'mday': '20190324143543', 'ar': '中正路1號面火車站右方人行道', 'sareaen': 'Taoyuan Dist.', 'snaen': 'TRA Taoyuan Station (Front)', 'aren': 'No.1, Zhongzheng Rd.'}, '2043': {'sna': '瑞慶公園', 'tot': '40', 'sbi': '24', 'lat': '25.019129', 'lng': '121.292954', 'bemp': '16', 'act': '1', 'sno': '2043', 'sarea': '桃園區', 'mday': '20190324143517', 'ar': '中埔一街362號對面瑞慶公園旁人行道', 'sareaen': 'Taoyuan Dist.', 'snaen': 'Ruiching Park', 'aren': 'No.362, Zhongpu 1st St.(opposite)'}, '2044': {'sna': '中寧公園', 'tot': '32', 'sbi': '18', 'lat': '25.009993', 'lng': '121.299560', 'bemp': '14', 'act': '1', 'sno': '2044', 'sarea': '桃園區', 'mday': '20190324143518', 'ar': '同德二街177號對面中寧公園旁人行道', 'sareaen': 'Taoyuan Dist.', 'snaen': 'Zhongning Park', 'aren': 'No.177, Tongde 2nd St.(opposite)'}, '2045': {'sna': '陽明運動公園', 'tot': '42', 'sbi': '17', 'lat': '24.982285', 'lng': '121.308126', 'bemp': '25', 'act': '1', 'sno': '2045', 'sarea': '桃園區', 'mday': '20190324143518', 'ar': '介壽路199號前人行道', 'sareaen': 'Taoyuan Dist.', 'snaen': 'Yangming Sports Park', 'aren': 'No.199, Jieshou Rd.'}, '2046': {'sna': '大業國小', 'tot': '42', 'sbi': '17', 'lat': '25.006896', 'lng': '121.314760', 'bemp': '25', 'act': '1', 'sno': '2046', 'sarea': '桃園區', 'mday': '20190324143529', 'ar': '民光東路280號對面人行道', 'sareaen': 'Taoyuan Dist.', 'snaen': 'Da Yie Elementary School', 'aren': 'No.280, Minguang E. Rd.(opposite)'}, '2047': {'sna': '大有國中', 'tot': '32', 'sbi': '22', 'lat': '25.008585', 'lng': '121.319869', 'bemp': '10', 'act': '1', 'sno': '2047', 'sarea': '桃園區', 'mday': '20190324143536', 'ar': '大有路民光東路口西北側人行道', 'sareaen': 'Taoyuan Dist.', 'snaen': 'Da You Junior High School', 'aren': 'Dayou Rd./Minguang E. Rd.'}, '2048': {'sna': '莊敬廣場', 'tot': '48', 'sbi': '22', 'lat': '24.971851', 'lng': '121.257255', 'bemp': '25', 'act': '1', 'sno': '2048', 'sarea': '中壢區', 'mday': '20190324143520', 'ar': '莊敬路38-1號對面腳踏車停放區', 'sareaen': 'Zhongli Dist.', 'snaen': 'Zhuangjing Square', 'aren': 'No.38-1, Zhuangjing Rd.(opposite)'}, '2049': {'sna': '吉林路吉利六街口', 'tot': '42', 'sbi': '17', 'lat': '24.982900', 'lng': '121.250406', 'bemp': '25', 'act': '1', 'sno': '2049', 'sarea': '中壢區', 'mday': '20190324143526', 'ar': '吉林路吉利六街口東南側人行道', 'sareaen': 'Zhongli Dist.', 'snaen': 'Jilin Rd. & Jili 6th St. Intersection', 'aren': 'Jilin Rd./Jili 6th St.'}, '2050': {'sna': '龍岡森林公園', 'tot': '44', 'sbi': '25', 'lat': '24.933974', 'lng': '121.235924', 'bemp': '18', 'act': '1', 'sno': '2050', 'sarea': '中壢區', 'mday': '20190324143531', 'ar': '龍岡路三段289號對面龍岡森林公園旁人行道', 'sareaen': 'Zhongli Dist.', 'snaen': 'Longgang Park', 'aren': 'No.289, Sec. 3, Longgang Rd.(opposite)'}, '2051': {'sna': '君臨公園', 'tot': '42', 'sbi': '23', 'lat': '24.964524', 'lng': '121.305469', 'bemp': '19', 'act': '1', 'sno': '2051', 'sarea': '八德區', 'mday': '20190324143522', 'ar': '忠勇六街1號對面人行道', 'sareaen': 'Bade Dist.', 'snaen': 'Junlin Park', 'aren': 'No.1, Zhongyong 6th St.(opposite)'}, '2052': {'sna': '中國科技大樓', 'tot': '36', 'sbi': '30', 'lat': '25.055570', 'lng': '121.361496', 'bemp': '5', 'act': '1', 'sno': '2052', 'sarea': '龜山區', 'mday': '20190324143538', 'ar': '龜山區復興一路361號前方人行道', 'sareaen': 'Guishan Dist.', 'snaen': 'China Technology Building', 'aren': 'No.361, Fuxing 1st Rd.'}, '2053': {'sna': '光明國小', 'tot': '36', 'sbi': '18', 'lat': '25.041275', 'lng': '121.290229', 'bemp': '18', 'act': '1', 'sno': '2053', 'sarea': '蘆竹區', 'mday': '20190324143526', 'ar': '南昌路忠孝西路口東北側人行道', 'sareaen': 'Luzhu Dist.', 'snaen': 'Guang Ming Elementary School', 'aren': 'Nanchang Rd./Zhongxiao W. Rd.'}, '2054': {'sna': '桃園龍岡公園', 'tot': '34', 'sbi': '22', 'lat': '24.990381', 'lng': '121.281176', 'bemp': '11', 'act': '1', 'sno': '2054', 'sarea': '桃園區', 'mday': '20190324143521', 'ar': '國豐一街101號對面龍岡公園旁人行道', 'sareaen': 'Taoyuan Dist.', 'snaen': 'Taoyuan Longgang Park', 'aren': 'No.101, Guofeng 1st St.(opposite)'}, '2055': {'sna': '桃園龍鳳公園', 'tot': '40', 'sbi': '17', 'lat': '24.989695', 'lng': '121.278914', 'bemp': '23', 'act': '1', 'sno': '2055', 'sarea': '桃園區', 'mday': '20190324143544', 'ar': '國豐三街51號對面龍鳳公園旁人行道', 'sareaen': 'Taoyuan Dist.', 'snaen': 'Taoyuan Longfeng Park', 'aren': 'No.51, Guofeng 3rd St.(opposite)'}, '2056': {'sna': '桃園市政府文化局', 'tot': '46', 'sbi': '18', 'lat': '24.994184', 'lng': '121.300537', 'bemp': '28', 'act': '1', 'sno': '2056', 'sarea': '桃園區', 'mday': '20190324143535', 'ar': '縣府路21號面文化局左側路側', 'sareaen': 'Taoyuan Dist.', 'snaen': 'Departmaent of Cultural Affairs, Taoyuan', 'aren': 'No.21, Xianfu Rd.'}, '2057': {'sna': '成功春日路口', 'tot': '74', 'sbi': '40', 'lat': '24.994177', 'lng': '121.317130', 'bemp': '34', 'act': '1', 'sno': '2057', 'sarea': '桃園區', 'mday': '20190324143534', 'ar': '成功路二段春日路口東南側人行道', 'sareaen': 'Taoyuan Dist.', 'snaen': 'Chenggong & Chunri Rd. Intersection', 'aren': 'Chenggong Rd./Chunri Rd.'}, '2058': {'sna': '忠孝廣場', 'tot': '50', 'sbi': '33', 'lat': '24.972516', 'lng': '121.256853', 'bemp': '16', 'act': '1', 'sno': '2058', 'sarea': '中壢區', 'mday': '20190324143519', 'ar': '忠孝路8-22號對面路側', 'sareaen': 'Zhongli Dist.', 'snaen': 'Zongxiao Square', 'aren': 'No.8-22, Zhongxiao Rd.(opposite)'}, '2059': {'sna': '忠福廣場', 'tot': '40', 'sbi': '15', 'lat': '24.971805', 'lng': '121.227697', 'bemp': '25', 'act': '1', 'sno': '2059', 'sarea': '中壢區', 'mday': '20190324143526', 'ar': '南園二路292號對面忠福廣場旁人行道', 'sareaen': 'Zhongli Dist.', 'snaen': 'Zhongfu Square', 'aren': 'No.292, Nanyuan 2nd Rd.(opposite)'}, '2060': {'sna': '健行科技大學', 'tot': '50', 'sbi': '32', 'lat': '24.946778', 'lng': '121.229011', 'bemp': '18', 'act': '1', 'sno': '2060', 'sarea': '中壢區', 'mday': '20190324143543', 'ar': '健行路229號(商學大樓後人行道)', 'sareaen': 'Zhongli Dist.', 'snaen': 'Chien Hsin University of Science and Technology', 'aren': 'No.229, Jianxing Rd.'}, '2061': {'sna': '啟英高中', 'tot': '50', 'sbi': '21', 'lat': '24.975610', 'lng': '121.234553', 'bemp': '29', 'act': '1', 'sno': '2061', 'sarea': '中壢區', 'mday': '20190324143529', 'ar': '西園路76號對面啟英高中旁人行道', 'sareaen': 'Zhongli Dist.', 'snaen': 'Chi-Ying Senior High School', 'aren': 'No.76, Xiyuan Rd.(opposite)'}, '2062': {'sna': '內壢文化公園', 'tot': '42', 'sbi': '24', 'lat': '24.979567', 'lng': '121.250102', 'bemp': '18', 'act': '1', 'sno': '2062', 'sarea': '中壢區', 'mday': '20190324143533', 'ar': '文化路長春二路西北側公園旁人行道', 'sareaen': 'Zhongli Dist.', 'snaen': 'Neili Wenhua Park', 'aren': 'Wenhua Rd./Changchun 2nd Rd.'}, '2063': {'sna': '萬能科技大學', 'tot': '60', 'sbi': '15', 'lat': '24.992749', 'lng': '121.229925', 'bemp': '43', 'act': '1', 'sno': '2063', 'sarea': '中壢區', 'mday': '20190324143542', 'ar': '萬能路1號(萬芳樓後方人行道)', 'sareaen': 'Zhongli Dist.', 'snaen': 'Vanung University of Technology', 'aren': 'No.1, Changchun 2nd Rd.'}, '2064': {'sna': '中德里休閒廣場', 'tot': '34', 'sbi': '16', 'lat': '24.962275', 'lng': '121.293209', 'bemp': '18', 'act': '1', 'sno': '2064', 'sarea': '桃園區', 'mday': '20190324143540', 'ar': '國際一街國際二街口西南側廣場', 'sareaen': 'Taoyuan Dist.', 'snaen': 'Zhongde Square', 'aren': 'Guoji 1st Rd./Guoji 2nd Rd.'}, '2065': {'sna': '桃園巨蛋', 'tot': '72', 'sbi': '34', 'lat': '24.995393', 'lng': '121.323924', 'bemp': '38', 'act': '1', 'sno': '2065', 'sarea': '桃園區', 'mday': '20190324143537', 'ar': '三民路100號對面人行道', 'sareaen': 'Taoyuan Dist.', 'snaen': 'Taoyuan Arena', 'aren': 'No.100, Sanmin Rd.(opposite)'}, '2066': {'sna': '龜山區公所', 'tot': '40', 'sbi': '14', 'lat': '24.992532', 'lng': '121.337660', 'bemp': '26', 'act': '1', 'sno': '2066', 'sarea': '龜山區', 'mday': '20190324143538', 'ar': '中山街26號面區公所右側人行道', 'sareaen': 'Guishan Dist.', 'snaen': 'Civil Affairs Office of Guishan District', 'aren': 'No.26, Zhongshan St.'}, '2067': {'sna': '龜山國中', 'tot': '36', 'sbi': '21', 'lat': '24.997536', 'lng': '121.339485', 'bemp': '15', 'act': '1', 'sno': '2067', 'sarea': '龜山區', 'mday': '20190324143522', 'ar': '自強西路66號前方人行道', 'sareaen': 'Guishan Dist.', 'snaen': 'Guishan Junior High School', 'aren': 'No.66, Ziqiang W. Rd.'}, '2068': {'sna': '西門綠園', 'tot': '32', 'sbi': '17', 'lat': '24.993968', 'lng': '121.303884', 'bemp': '15', 'act': '1', 'sno': '2068', 'sarea': '桃園區', 'mday': '20190324143515', 'ar': '文康街61號對面人行道', 'sareaen': 'Taoyuan Dist.', 'snaen': 'Ximen Greens', 'aren': 'No.61, Wenkang St.(opposite)'}, '2069': {'sna': '衛福部桃園醫院', 'tot': '34', 'sbi': '21', 'lat': '24.979389', 'lng': '121.268981', 'bemp': '13', 'act': '1', 'sno': '2069', 'sarea': '桃園區', 'mday': '20190324143517', 'ar': '龍壽街60號對面人行道', 'sareaen': 'Taoyuan Dist.', 'snaen': 'Taoyuan General Hospital, Ministry of Health and Welfare', 'aren': 'No.60, Longshou St.(opposite)'}, '2070': {'sna': '環中東永福路口', 'tot': '44', 'sbi': '26', 'lat': '24.962030', 'lng': '121.255168', 'bemp': '18', 'act': '1', 'sno': '2070', 'sarea': '中壢區', 'mday': '20190324143522', 'ar': '環中東路325號前人行道', 'sareaen': 'Zhongli Dist.', 'snaen': 'Huanzhong E. & Yongfu Rd. Intersection', 'aren': 'No.325, Huanzhong E. Rd.'}, '2071': {'sna': '南崁高中', 'tot': '34', 'sbi': '19', 'lat': '25.052456', 'lng': '121.297856', 'bemp': '15', 'act': '1', 'sno': '2071', 'sarea': '蘆竹區', 'mday': '20190324143544', 'ar': '仁愛路二段1號(南崁高中旁人行道)', 'sareaen': 'Luzhu Dist.', 'snaen': 'Nankan Senior High School', 'aren': 'No.1, Sec. 2, Ren’ai Rd.'}, '2072': {'sna': '蘆竹區婦幼館', 'tot': '36', 'sbi': '13', 'lat': '25.050733', 'lng': '121.293711', 'bemp': '23', 'act': '1', 'sno': '2072', 'sarea': '蘆竹區', 'mday': '20190324143535', 'ar': '五福路88號對面婦幼館人行道', 'sareaen': 'Luzhu Dist.', 'snaen': 'Luzhu Maternity and Child Center', 'aren': 'No.88, Wufu Rd.(opposite)'}, '2073': {'sna': '光明河濱公園', 'tot': '36', 'sbi': '14', 'lat': '25.046808', 'lng': '121.287677', 'bemp': '21', 'act': '1', 'sno': '2073', 'sarea': '蘆竹區', 'mday': '20190324143519', 'ar': '光明路二段100號對面路側', 'sareaen': 'Luzhu Dist.', 'snaen': 'Guangming Riverside Park', 'aren': 'No.100, Sec. 2, Guangming Rd.(opposite)'}, '2074': {'sna': '開南大學', 'tot': '56', 'sbi': '17', 'lat': '25.011106', 'lng': '121.269685', 'bemp': '39', 'act': '1', 'sno': '2074', 'sarea': '蘆竹區', 'mday': '20190324143536', 'ar': '開南路1號(行政大樓南棟前停車場)', 'sareaen': 'Luzhu Dist.', 'snaen': 'Kainan University', 'aren': 'No.1, Kainan Rd.'}, '2075': {'sna': '蘆竹吉林公園', 'tot': '44', 'sbi': '17', 'lat': '25.049560', 'lng': '121.299397', 'bemp': '27', 'act': '1', 'sno': '2075', 'sarea': '蘆竹區', 'mday': '20190324143545', 'ar': '吉林路121-137號對面吉林公園旁人行道', 'sareaen': 'Luzhu Dist.', 'snaen': 'Luzhu Jilin Park', 'aren': 'No.121-137, Jilin Rd.(opposite)'}, '2076': {'sna': '大和休閒廣場', 'tot': '36', 'sbi': '22', 'lat': '24.955938', 'lng': '121.298334', 'bemp': '14', 'act': '1', 'sno': '2076', 'sarea': '八德區', 'mday': '20190324143533', 'ar': '銀和街83號對面公園人行道', 'sareaen': 'Bade Dist.', 'snaen': 'Dahe Square', 'aren': 'No.83, Yinhe St.(opposite)'}, '2077': {'sna': '月眉停車場', 'tot': '50', 'sbi': '20', 'lat': '24.889279', 'lng': '121.287613', 'bemp': '29', 'act': '1', 'sno': '2077', 'sarea': '大溪區', 'mday': '20190324143515', 'ar': '月眉15鄰105號', 'sareaen': 'Daxi Dist.', 'snaen': 'Yuemei Parking Lot', 'aren': 'No.105, Yuemei'}, '2078': {'sna': '大溪中正公園', 'tot': '44', 'sbi': '16', 'lat': '24.883151', 'lng': '121.285453', 'bemp': '28', 'act': '1', 'sno': '2078', 'sarea': '大溪區', 'mday': '20190324143516', 'ar': '普濟路80號旁停車場', 'sareaen': 'Daxi Dist.', 'snaen': 'Daxi Zhongzheng Park', 'aren': 'No.80, Puji Rd.'}, '2079': {'sna': '忠孝兒童遊樂場', 'tot': '58', 'sbi': '19', 'lat': '24.986849', 'lng': '121.294739', 'bemp': '39', 'act': '1', 'sno': '2079', 'sarea': '桃園區', 'mday': '20190324143543', 'ar': '宏昌七街泰昌三街西南側廣場', 'sareaen': 'Taoyuan Dist.', 'snaen': \"Zhongxiao Children's Playground\", 'aren': 'Hongchang 7th St./Taichang 3rd St.'}, '2080': {'sna': '桃園市政府', 'tot': '74', 'sbi': '56', 'lat': '24.992799', 'lng': '121.301680', 'bemp': '17', 'act': '1', 'sno': '2080', 'sarea': '桃園區', 'mday': '20190324143523', 'ar': '縣府路3號對面廣場', 'sareaen': 'Taoyuan Dist.', 'snaen': 'Taoyuan City Government', 'aren': 'No.3, Xianfu Rd.(opposite)'}, '2081': {'sna': '五權公園', 'tot': '42', 'sbi': '16', 'lat': '24.958867', 'lng': '121.204579', 'bemp': '26', 'act': '1', 'sno': '2081', 'sarea': '中壢區', 'mday': '20190324143527', 'ar': '正大街五族二街西北側人行道', 'sareaen': 'Zhongli Dist.', 'snaen': 'Wuquan Park', 'aren': 'Zhengda St./Wuzu 2nd St.'}, '2082': {'sna': '中壢新興公園', 'tot': '36', 'sbi': '22', 'lat': '24.945265', 'lng': '121.226050', 'bemp': '14', 'act': '1', 'sno': '2082', 'sarea': '中壢區', 'mday': '20190324143525', 'ar': '林森路90號前方人行道', 'sareaen': 'Zhongli Dist.', 'snaen': 'Zhongli Xinxing Park', 'aren': 'No.90, Linsen Rd.'}, '2083': {'sna': '桃園市立圖書館內壢分館', 'tot': '50', 'sbi': '35', 'lat': '24.977945', 'lng': '121.257972', 'bemp': '15', 'act': '1', 'sno': '2083', 'sarea': '中壢區', 'mday': '20190324143526', 'ar': '光華三街10號前方人行道', 'sareaen': 'Zhongli Dist.', 'snaen': 'Taoyuan Public Library Neili Branch', 'aren': 'No.10, Guanghua 3rd St.'}, '2084': {'sna': '宋屋公園', 'tot': '34', 'sbi': '16', 'lat': '24.945284', 'lng': '121.204192', 'bemp': '18', 'act': '1', 'sno': '2084', 'sarea': '平鎮區', 'mday': '20190324143544', 'ar': '廣泰路148號對面公園旁人行道', 'sareaen': 'Pingzhen Dist.', 'snaen': 'Songwu Park', 'aren': 'No.148, Guangtai Rd.(opposite)'}, '2085': {'sna': '中央大學依仁堂', 'tot': '58', 'sbi': '19', 'lat': '24.967119', 'lng': '121.190958', 'bemp': '39', 'act': '1', 'sno': '2085', 'sarea': '中壢區', 'mday': '20190324143518', 'ar': '中大路300號(松苑餐廳前方廣場)', 'sareaen': 'Zhongli Dist.', 'snaen': 'Office of Physical Education, NCU', 'aren': 'No.300, Zhongda Rd.'}, '2086': {'sna': '桃園市立圖書館龍岡分館', 'tot': '34', 'sbi': '19', 'lat': '24.937936', 'lng': '121.255829', 'bemp': '15', 'act': '1', 'sno': '2086', 'sarea': '中壢區', 'mday': '20190324143519', 'ar': '台貿一街100號後方機車停車場', 'sareaen': 'Zhongli Dist.', 'snaen': 'Taoyuan Public Library Longgang Branch', 'aren': 'No.100, Taimao 1st St.'}, '2087': {'sna': '思源公園', 'tot': '32', 'sbi': '23', 'lat': '24.973517', 'lng': '121.298761', 'bemp': '9', 'act': '1', 'sno': '2087', 'sarea': '八德區', 'mday': '20190324143522', 'ar': '思源街122號(對面公園綠帶)', 'sareaen': 'Bade Dist.', 'snaen': 'Siyuan Park', 'aren': 'No.122, Siyuan St.(opposite)'}, '2088': {'sna': '廣豐公園', 'tot': '40', 'sbi': '14', 'lat': '24.966015', 'lng': '121.297907', 'bemp': '26', 'act': '1', 'sno': '2088', 'sarea': '八德區', 'mday': '20190324143515', 'ar': '公園路廣豐二街口(東北側人行道)', 'sareaen': 'Bade Dist.', 'snaen': 'Guangfeng Park', 'aren': 'Gongyuan Rd./Guangfeng 2nd St.'}, '2089': {'sna': '大湳公園', 'tot': '42', 'sbi': '21', 'lat': '24.961775', 'lng': '121.295451', 'bemp': '21', 'act': '1', 'sno': '2089', 'sarea': '八德區', 'mday': '20190324143535', 'ar': '福國北街130號(對面公園綠帶)', 'sareaen': 'Bade Dist.', 'snaen': 'Danan Park', 'aren': 'No.130, Fuguo N. St.(opposite)'}, '2090': {'sna': '廣仁公園', 'tot': '36', 'sbi': '17', 'lat': '24.939478', 'lng': '121.206413', 'bemp': '19', 'act': '1', 'sno': '2090', 'sarea': '平鎮區', 'mday': '20190324143528', 'ar': '廣南路168號對面公園旁人行道', 'sareaen': 'Pingzhen Dist.', 'snaen': 'Guangren Park', 'aren': 'No.168, Guangnan Rd.(opposite)'}, '2091': {'sna': '新寶公園', 'tot': '34', 'sbi': '18', 'lat': '24.939561', 'lng': '121.214068', 'bemp': '16', 'act': '1', 'sno': '2091', 'sarea': '平鎮區', 'mday': '20190324143515', 'ar': '新富五街41號(左側公園綠帶)', 'sareaen': 'Pingzhen Dist.', 'snaen': 'Xinpao Park', 'aren': 'No.41, Xinfu 5th St.'}, '2092': {'sna': '平鎮區婦幼館', 'tot': '38', 'sbi': '23', 'lat': '24.956269', 'lng': '121.208551', 'bemp': '15', 'act': '1', 'sno': '2092', 'sarea': '平鎮區', 'mday': '20190324143517', 'ar': '廣成街10號對面路側', 'sareaen': 'Pingzhen Dist.', 'snaen': 'Pingzhen Maternity and Child Center', 'aren': 'No.10, Guangcheng St.(opposite)'}, '2093': {'sna': '文化二復興三路口', 'tot': '36', 'sbi': '23', 'lat': '25.051205', 'lng': '121.372325', 'bemp': '12', 'act': '1', 'sno': '2093', 'sarea': '龜山區', 'mday': '20190324143542', 'ar': '文化二路復興三路口西南側人行道', 'sareaen': 'Guishan Dist.', 'snaen': 'Wenhua 2rd & Fuxing 3st Intersection', 'aren': 'Wenhua 2nd Rd./Fuxing 3rd Rd.'}, '2094': {'sna': '大華公園', 'tot': '38', 'sbi': '30', 'lat': '25.051615', 'lng': '121.366364', 'bemp': '8', 'act': '1', 'sno': '2094', 'sarea': '龜山區', 'mday': '20190324143533', 'ar': '文化七路142號(右側人行道)', 'sareaen': 'Guishan Dist.', 'snaen': 'Dahua Park', 'aren': 'No.142, Wenhua 7th Rd.'}, '2095': {'sna': '璟都江山社區', 'tot': '32', 'sbi': '18', 'lat': '25.0023', 'lng': '121.342803', 'bemp': '13', 'act': '1', 'sno': '2095', 'sarea': '龜山區', 'mday': '20190324143524', 'ar': '光峰路131巷6號(社區前方人行道)', 'sareaen': 'Guishan Dist.', 'snaen': 'Jingdu-Jiangshan Community', 'aren': 'No.6, Ln. 131, Guangfeng Rd.'}, '2096': {'sna': '捷運體育大學站(A7)', 'tot': '32', 'sbi': '13', 'lat': '25.040707', 'lng': '121.385161', 'bemp': '17', 'act': '1', 'sno': '2096', 'sarea': '龜山區', 'mday': '20190324143528', 'ar': '青山路二段文化一路口北側捷運體育大學站前人行道', 'sareaen': 'Guishan Dist.', 'snaen': 'MRT National Taiwan Sport University Station (A7)', 'aren': 'Sec. 2, Qingshan Rd./Wenhua 1st Rd.'}, '2097': {'sna': '捷運山鼻站(A10)', 'tot': '22', 'sbi': '6', 'lat': '25.080942', 'lng': '121.285489', 'bemp': '16', 'act': '1', 'sno': '2097', 'sarea': '蘆竹區', 'mday': '20190324143528', 'ar': '南山路三段176號旁自行車停放區', 'sareaen': 'Luzhu Dist.', 'snaen': 'MRT Shanbi  Station (A10)', 'aren': 'No.176, Sec. 3, Nanshan Rd.'}, '2098': {'sna': '捷運大園站(A15)', 'tot': '32', 'sbi': '18', 'lat': '25.056627', 'lng': '121.209741', 'bemp': '12', 'act': '1', 'sno': '2098', 'sarea': '大園區', 'mday': '20190324143520', 'ar': '橫湳一路1號捷運站旁人行道', 'sareaen': 'Dayuan Dist.', 'snaen': 'MRT  Dayuan Station(A15)', 'aren': 'No.1, Hengnan 1st. Rd.'}, '2099': {'sna': '捷運領航站(A17)', 'tot': '40', 'sbi': '12', 'lat': '25.023021', 'lng': '121.222169', 'bemp': '28', 'act': '1', 'sno': '2099', 'sarea': '大園區', 'mday': '20190324143521', 'ar': '領航北路四段358號對面人行道', 'sareaen': 'Dayuan Dist.', 'snaen': 'MRT Linghang Station (A17)', 'aren': 'No.358, Sec. 4, Linghang N. Rd.(opposite)'}, '2100': {'sna': '捷運高鐵桃園站(A18)', 'tot': '62', 'sbi': '25', 'lat': '25.013775', 'lng': '121.213932', 'bemp': '37', 'act': '1', 'sno': '2100', 'sarea': '中壢區', 'mday': '20190324143542', 'ar': '高鐵北路一段6號(對面捷運站出口外側人行道)', 'sareaen': 'Zhongli Dist.', 'snaen': 'MRT HSR Taoyuan Station (A18)', 'aren': 'No.6, Sec. 1, Gaotie N. Rd.(opposite)'}, '2101': {'sna': '捷運桃園體育園區站(A19)', 'tot': '30', 'sbi': '20', 'lat': '25.001568', 'lng': '121.202782', 'bemp': '10', 'act': '1', 'sno': '2101', 'sarea': '中壢區', 'mday': '20190324143525', 'ar': '高鐵南路二段369號對面人行道', 'sareaen': 'Zhongli Dist.', 'snaen': 'MRT Taoyuan Sports Park Station (A19)', 'aren': 'No.369, Sec. 2, Gaotie S. Rd.(opposite)'}, '2102': {'sna': '捷運環北站(A21)', 'tot': '40', 'sbi': '20', 'lat': '24.967563', 'lng': '121.220967', 'bemp': '19', 'act': '1', 'sno': '2102', 'sarea': '中壢區', 'mday': '20190324143540', 'ar': '中豐北路26號旁人行道', 'sareaen': 'Zhongli Dist.', 'snaen': 'MRT Huanbei Station (A21)', 'aren': 'No.26, Zhongfeng N. Rd.'}, '2103': {'sna': '青埔國中', 'tot': '36', 'sbi': '19', 'lat': '25.010832', 'lng': '121.205798', 'bemp': '17', 'act': '1', 'sno': '2103', 'sarea': '中壢區', 'mday': '20190324143538', 'ar': '領航北路二段281號前方面校門左側人行道', 'sareaen': 'Zhongli Dist.', 'snaen': 'Qing Pu Junior High School', 'aren': 'No.281, Sec. 2, Linghang N. Rd.'}, '2104': {'sna': '領航公園', 'tot': '38', 'sbi': '23', 'lat': '25.007413', 'lng': '121.201054', 'bemp': '13', 'act': '1', 'sno': '2104', 'sarea': '中壢區', 'mday': '20190324143532', 'ar': '領航北路一段永裕路口北側公園旁人行道', 'sareaen': 'Zhongli Dist.', 'snaen': 'Linghang Park', 'aren': 'Sec. 1, Linghang N. Rd./Yongyu Rd.'}, '2105': {'sna': '仁祥公園', 'tot': '38', 'sbi': '23', 'lat': '24.948864', 'lng': '121.260842', 'bemp': '14', 'act': '1', 'sno': '2105', 'sarea': '中壢區', 'mday': '20190324143520', 'ar': '華祥一街3巷2號對面人行道', 'sareaen': 'Zhongli Dist.', 'snaen': 'Renxiang Park', 'aren': 'No.2, Ln. 3, Huaxiang 1st St.(opposite)'}, '2106': {'sna': '篤行公園', 'tot': '34', 'sbi': '24', 'lat': '24.958288', 'lng': '121.263280', 'bemp': '10', 'act': '1', 'sno': '2106', 'sarea': '中壢區', 'mday': '20190324143525', 'ar': '永福路47號(對面人行道)', 'sareaen': 'Zhongli Dist.', 'snaen': 'Duxing Park', 'aren': 'No.47, Yongfu Rd.(opposite)'}, '2107': {'sna': '桃園市政府警察局桃園分局', 'tot': '34', 'sbi': '19', 'lat': '25.000418', 'lng': '121.299434', 'bemp': '15', 'act': '1', 'sno': '2107', 'sarea': '桃園區', 'mday': '20190324143522', 'ar': '永安路375號旁人行道', 'sareaen': 'Taoyuan Dist.', 'snaen': 'Taoyuan Police Department Taoyuan Branch', 'aren': 'No.375, Yong’an Rd.'}, '2108': {'sna': '慈文國中', 'tot': '34', 'sbi': '15', 'lat': '25.008916', 'lng': '121.301842', 'bemp': '17', 'act': '1', 'sno': '2108', 'sarea': '桃園區', 'mday': '20190324143539', 'ar': '中正路835號前方人行道', 'sareaen': 'Taoyuan Dist.', 'snaen': 'Tzu Wen Junior High School', 'aren': 'No.835, Zhongzheng Rd.'}, '2109': {'sna': '同新公園', 'tot': '42', 'sbi': '18', 'lat': '25.012389', 'lng': '121.305633', 'bemp': '24', 'act': '1', 'sno': '2109', 'sarea': '桃園區', 'mday': '20190324143536', 'ar': '同安街經國路251巷口(東南側人行道)', 'sareaen': 'Taoyuan Dist.', 'snaen': 'Tungxin Park', 'aren': 'Tong’an St./Ln. 251, Jingguo Rd.'}, '2110': {'sna': '桃園永康公園', 'tot': '34', 'sbi': '14', 'lat': '25.001890', 'lng': '121.302925', 'bemp': '20', 'act': '1', 'sno': '2110', 'sarea': '桃園區', 'mday': '20190324143515', 'ar': '力行路中正五街口東南側人行道', 'sareaen': 'Taoyuan Dist.', 'snaen': 'Yongkang Park', 'aren': 'Lixing Rd./Zhongzheng 5th St.'}, '2111': {'sna': '桃園市立游泳池', 'tot': '40', 'sbi': '18', 'lat': '24.989458', 'lng': '121.292088', 'bemp': '21', 'act': '1', 'sno': '2111', 'sarea': '桃園區', 'mday': '20190324143522', 'ar': '吉昌街86號(對面人行道)', 'sareaen': 'Taoyuan Dist.', 'snaen': 'Taoyuan City Swimming Pool', 'aren': 'No.86, Jichang St.(opposite)'}, '2112': {'sna': '寶山公園', 'tot': '34', 'sbi': '13', 'lat': '25.013132', 'lng': '121.313903', 'bemp': '20', 'act': '1', 'sno': '2112', 'sarea': '桃園區', 'mday': '20190324143540', 'ar': '民有三街517號對面公園旁人行道', 'sareaen': 'Taoyuan Dist.', 'snaen': 'Baoshan Park', 'aren': 'No.517, Minyou 3rd St.(opposite)'}, '2113': {'sna': '國強一街上海路口', 'tot': '40', 'sbi': '16', 'lat': '24.991953', 'lng': '121.282361', 'bemp': '24', 'act': '1', 'sno': '2113', 'sarea': '桃園區', 'mday': '20190324143520', 'ar': '國強一街上海路口西北側高架橋下廣場', 'sareaen': 'Taoyuan Dist.', 'snaen': 'Guochiang 1st St. & Shanghai Rd. Intersection', 'aren': 'Guoqiang 1st St./Shanghai Rd.'}, '2114': {'sna': '青溪公園', 'tot': '38', 'sbi': '22', 'lat': '25.000959', 'lng': '121.317024', 'bemp': '15', 'act': '1', 'sno': '2114', 'sarea': '桃園區', 'mday': '20190324143516', 'ar': '自強路217號前方人行道', 'sareaen': 'Taoyuan Dist.', 'snaen': 'Qingxi Park', 'aren': 'No.217, Ziqiang Rd.'}, '2115': {'sna': '甲蟲公園', 'tot': '36', 'sbi': '15', 'lat': '24.977542', 'lng': '121.252751', 'bemp': '20', 'act': '1', 'sno': '2115', 'sarea': '中壢區', 'mday': '20190324143520', 'ar': '元生二街元生三街口西北側公園旁人行道', 'sareaen': 'Zhongli Dist.', 'snaen': 'Jiachong Park', 'aren': 'Yuansheng 2nd St./Yuansheng 3rd St.'}, '2116': {'sna': '中壢中央公園', 'tot': '38', 'sbi': '19', 'lat': '24.956663', 'lng': '121.226195', 'bemp': '19', 'act': '1', 'sno': '2116', 'sarea': '中壢區', 'mday': '20190324143528', 'ar': '建國北路9號對面公園人行道', 'sareaen': 'Zhongli Dist.', 'snaen': 'Zhongli Central Park', 'aren': 'No.9, Jianguo N. Rd.(opposite)'}, '2117': {'sna': '新榮公園', 'tot': '40', 'sbi': '27', 'lat': '24.945991', 'lng': '121.214981', 'bemp': '12', 'act': '1', 'sno': '2117', 'sarea': '平鎮區', 'mday': '20190324143521', 'ar': '振興西路新德街口西北側公園旁人行道', 'sareaen': 'Pingzhen Dist.', 'snaen': 'Xinrong Park', 'aren': 'Zhenxing W. Rd./Xinde St.'}, '2118': {'sna': '重慶公園', 'tot': '30', 'sbi': '12', 'lat': '24.955984', 'lng': '121.304068', 'bemp': '18', 'act': '1', 'sno': '2118', 'sarea': '八德區', 'mday': '20190324143526', 'ar': '重慶街183號對面公園旁人行道', 'sareaen': 'Bade Dist.', 'snaen': 'Chongqing Park', 'aren': 'No.183, Chongqing St.(opposite)'}, '2119': {'sna': '文青路', 'tot': '36', 'sbi': '16', 'lat': '25.040189', 'lng': '121.388379', 'bemp': '20', 'act': '1', 'sno': '2119', 'sarea': '龜山區', 'mday': '20190324143534', 'ar': '文青路246號前方人行道', 'sareaen': 'Guishan Dist.', 'snaen': 'Wenqing Rd.', 'aren': 'No.246, Wenqing Rd.'}, '2120': {'sna': '龜山國小', 'tot': '50', 'sbi': '24', 'lat': '24.994765', 'lng': '121.340557', 'bemp': '26', 'act': '1', 'sno': '2120', 'sarea': '龜山區', 'mday': '20190324143516', 'ar': '大同路23號對面人行道', 'sareaen': 'Guishan Dist.', 'snaen': 'Guishan Elementary School', 'aren': 'No.23, Datong Rd.(opposite)'}, '2121': {'sna': '文興公園', 'tot': '38', 'sbi': '32', 'lat': '25.055851', 'lng': '121.371531', 'bemp': '6', 'act': '1', 'sno': '2121', 'sarea': '龜山區', 'mday': '20190324143537', 'ar': '復興南路及復興南路26巷口東南側公園旁人行道', 'sareaen': 'Guishan Dist.', 'snaen': 'Wenxing Park', 'aren': 'Fuxing S. Rd./Ln. 26, Fuxing S. Rd.'}, '2122': {'sna': '迴龍國中小', 'tot': '40', 'sbi': '9', 'lat': '25.019115', 'lng': '121.404963', 'bemp': '31', 'act': '1', 'sno': '2122', 'sarea': '龜山區', 'mday': '20190324143527', 'ar': '萬壽路一段168號前方人行道', 'sareaen': 'Guishan Dist.', 'snaen': 'Hueilong Elementary & Junior High School', 'aren': 'No.168, Sec. 1, Wanshou Rd.'}, '2123': {'sna': '大同公園', 'tot': '48', 'sbi': '37', 'lat': '24.989332', 'lng': '121.342481', 'bemp': '11', 'act': '1', 'sno': '2123', 'sarea': '龜山區', 'mday': '20190324143539', 'ar': '德明路77巷65號對面公園旁人行道', 'sareaen': 'Guishan Dist.', 'snaen': 'Datong Park', 'aren': 'No.65, Ln. 77, Deming Rd.(opposite)'}, '2124': {'sna': '樂善公園', 'tot': '36', 'sbi': '9', 'lat': '25.055461', 'lng': '121.380587', 'bemp': '27', 'act': '1', 'sno': '2124', 'sarea': '龜山區', 'mday': '20190324143531', 'ar': '文安街50號(對面公園北側巷道)', 'sareaen': 'Guishan Dist.', 'snaen': 'Leshan Park', 'aren': 'No.50, Wen’an St.(opposite)'}, '2125': {'sna': '蘆竹區公所', 'tot': '40', 'sbi': '16', 'lat': '25.047325', 'lng': '121.294341', 'bemp': '24', 'act': '1', 'sno': '2125', 'sarea': '蘆竹區', 'mday': '20190324143523', 'ar': '南上路3號對面路側', 'sareaen': 'Luzhu Dist.', 'snaen': 'Civil Affairs District of Luzhu District', 'aren': 'No.3, Nanshang Rd.(opposite)'}, '2126': {'sna': '峻德宮', 'tot': '36', 'sbi': '12', 'lat': '25.036999', 'lng': '121.292555', 'bemp': '23', 'act': '1', 'sno': '2126', 'sarea': '蘆竹區', 'mday': '20190324143537', 'ar': '奉化路292號左側汽車停車格', 'sareaen': 'Luzhu Dist.', 'snaen': 'Junde Temple', 'aren': 'No.292, Fenghua Rd.'}, '2127': {'sna': '桃園龍山國小', 'tot': '34', 'sbi': '15', 'lat': '24.981988', 'lng': '121.271035', 'bemp': '19', 'act': '1', 'sno': '2127', 'sarea': '桃園區', 'mday': '20190324143528', 'ar': '龍祥街94號對面人行道', 'sareaen': 'Taoyuan Dist.', 'snaen': 'Taoyuan Long Shan Elementary School', 'aren': 'No.94, Longxiang St.(opposite)'}, '2128': {'sna': '桃園假日農業創意市集', 'tot': '34', 'sbi': '16', 'lat': '24.974220', 'lng': '121.302536', 'bemp': '18', 'act': '1', 'sno': '2128', 'sarea': '八德區', 'mday': '20190324143544', 'ar': '介壽路547號旁國道二號橋下空間', 'sareaen': 'Bade Dist.', 'snaen': 'Farmers and Artists Market on Weekends', 'aren': 'No.547, Jieshou Rd.'}, '2129': {'sna': '桃禧航空城酒店', 'tot': '26', 'sbi': '13', 'lat': '25.061756', 'lng': '121.175354', 'bemp': '13', 'act': '1', 'sno': '2129', 'sarea': '大園區', 'mday': '20190324143535', 'ar': '大觀路777號(桃禧航空城酒店園航路側人行道)', 'sareaen': 'Dayuan Dist.', 'snaen': 'Hotel Orchard Park', 'aren': 'No.777, Daguan Rd.'}, '2130': {'sna': '老街溪停車場', 'tot': '36', 'sbi': '23', 'lat': '25.064974', 'lng': '121.195804', 'bemp': '13', 'act': '1', 'sno': '2130', 'sarea': '大園區', 'mday': '20190324143518', 'ar': '大園區大觀路31巷1號旁老街溪上方停車場', 'sareaen': 'Dayuan Dist.', 'snaen': 'Laojie River Parking Lot', 'aren': 'No.1, Ln. 31, Daguan Rd.'}, '2131': {'sna': '大中華幼兒園', 'tot': '34', 'sbi': '9', 'lat': '25.06179', 'lng': '121.201825', 'bemp': '25', 'act': '1', 'sno': '2131', 'sarea': '大園區', 'mday': '20190324143522', 'ar': '中正三街9號對面空地', 'sareaen': 'Dayuan Dist.', 'snaen': 'Big China Kindergarten', 'aren': 'No.9, Zhongzheng 3rd St.(opposite)'}, '2132': {'sna': '華興池', 'tot': '36', 'sbi': '13', 'lat': '25.059125', 'lng': '121.194852', 'bemp': '23', 'act': '1', 'sno': '2132', 'sarea': '大園區', 'mday': '20190324143521', 'ar': '華興路205號對面路側', 'sareaen': 'Dayuan Dist.', 'snaen': 'Huaxing Pond', 'aren': 'No.205, Huaxing Rd.(opposite)'}, '2133': {'sna': '東安國中', 'tot': '34', 'sbi': '13', 'lat': '24.916497', 'lng': '121.249757', 'bemp': '20', 'act': '1', 'sno': '2133', 'sarea': '平鎮區', 'mday': '20190324143520', 'ar': '平東路168號(面東安國中右側人行道)', 'sareaen': 'Pingzhen Dist.', 'snaen': 'Dong An Junior High School', 'aren': 'No.168, Pingdong Rd.'}, '2134': {'sna': '大湖福德宮', 'tot': '24', 'sbi': '0', 'lat': '25.051424', 'lng': '121.358878', 'bemp': '0', 'act': '0', 'sno': '2134', 'sarea': '龜山區', 'mday': '20181127094444', 'ar': '忠義路二段483號前方人行道', 'sareaen': 'Guishan Dist.', 'snaen': 'Dahu Fude Temple', 'aren': 'No.483, Sec. 2, Zhongyi Rd.'}, '2135': {'sna': '中央警察大學', 'tot': '34', 'sbi': '10', 'lat': '25.045564', 'lng': '121.352319', 'bemp': '24', 'act': '1', 'sno': '2135', 'sarea': '龜山區', 'mday': '20190324143533', 'ar': '樹人路56號(面中央警察大學校門左側)', 'sareaen': 'Guishan Dist.', 'snaen': 'Central Police University', 'aren': 'No.56, Shuren Rd.'}, '2136': {'sna': '桃園酒廠', 'tot': '38', 'sbi': '8', 'lat': '25.056078', 'lng': '121.375319', 'bemp': '30', 'act': '1', 'sno': '2136', 'sarea': '龜山區', 'mday': '20190324143523', 'ar': '龜山區文化一路55號前方人行道', 'sareaen': 'Guishan Dist.', 'snaen': 'Taoyuan Sake Brewery', 'aren': 'No.55, Wenhua 1st Rd.'}, '2137': {'sna': '五福停車場', 'tot': '36', 'sbi': '16', 'lat': '25.055851', 'lng': '121.294575', 'bemp': '20', 'act': '1', 'sno': '2137', 'sarea': '蘆竹區', 'mday': '20190324143536', 'ar': '五福一路120號對面人行道', 'sareaen': 'Luzhu Dist.', 'snaen': 'Wufu Parking Lot', 'aren': 'No.120, Wufu 1st Rd.(opposite)'}, '2138': {'sna': '大竹國小', 'tot': '38', 'sbi': '11', 'lat': '25.024481', 'lng': '121.259057', 'bemp': '26', 'act': '1', 'sno': '2138', 'sarea': '蘆竹區', 'mday': '20190324143544', 'ar': '南竹路五段271號對面人行道', 'sareaen': 'Luzhu Dist.', 'snaen': 'Dazhu Elementary School', 'aren': 'No.271, Sec. 5, Nanzhu Rd.(opposite)'}, '2139': {'sna': '中興環保公園', 'tot': '32', 'sbi': '12', 'lat': '25.016221', 'lng': '121.260268', 'bemp': '20', 'act': '1', 'sno': '2139', 'sarea': '蘆竹區', 'mday': '20190324143538', 'ar': '大興四街61巷及大興四街路口公園內', 'sareaen': 'Luzhu Dist.', 'snaen': 'Zhongxing Eco-Park', 'aren': 'Ln. 61, Daxing 4th St./Daxing 4th St.'}, '2140': {'sna': '桃園中正公園(同安街)', 'tot': '60', 'sbi': '39', 'lat': '25.023701', 'lng': '121.297919', 'bemp': '20', 'act': '1', 'sno': '2140', 'sarea': '桃園區', 'mday': '20190324143529', 'ar': '同安街601號旁公園人行道', 'sareaen': 'Taoyuan Dist.', 'snaen': \"Taoyuan Zhongzheng Park (Tung'an St.)\", 'aren': 'No.601, Tong’an St.'}, '2141': {'sna': '建新公園', 'tot': '38', 'sbi': '20', 'lat': '24.979206', 'lng': '121.310324', 'bemp': '17', 'act': '1', 'sno': '2141', 'sarea': '桃園區', 'mday': '20190324143521', 'ar': '陽明十二街25號對面公園旁人行道', 'sareaen': 'Taoyuan Dist.', 'snaen': 'Jianxin Park', 'aren': 'No.25, Yangming 12th St.(opposite)'}, '2142': {'sna': '中正一正康一街口', 'tot': '34', 'sbi': '20', 'lat': '24.999637', 'lng': '121.308633', 'bemp': '14', 'act': '1', 'sno': '2142', 'sarea': '桃園區', 'mday': '20190324143518', 'ar': '正康一街1號對面機車停車場', 'sareaen': 'Taoyuan Dist.', 'snaen': 'Zhongzheng 1st St. & Zhengkang 1st St. Intersection', 'aren': 'No.1, Zhengkang 1st St.(opposite)'}, '2143': {'sna': '平鎮和平公園', 'tot': '32', 'sbi': '13', 'lat': '24.947529', 'lng': '121.221136', 'bemp': '18', 'act': '1', 'sno': '2143', 'sarea': '平鎮區', 'mday': '20190324143526', 'ar': '莒光路39號對面路側', 'sareaen': 'Pingzhen Dist.', 'snaen': 'Pingzhen Heping Park', 'aren': 'No.39, Juguang Rd.(opposite)'}, '2144': {'sna': '莊敬里民集會所', 'tot': '30', 'sbi': '10', 'lat': '24.904080', 'lng': '121.214821', 'bemp': '19', 'act': '1', 'sno': '2144', 'sarea': '平鎮區', 'mday': '20190324143530', 'ar': '自強街莊福路口東北側人行道', 'sareaen': 'Pingzhen Dist.', 'snaen': 'Zhuangjing Civil Activity Center', 'aren': 'Ziqiang St.,/Zhuangfu Rd.'}, '2145': {'sna': '中豐坤慶路口', 'tot': '30', 'sbi': '21', 'lat': '24.90262', 'lng': '121.211817', 'bemp': '9', 'act': '1', 'sno': '2145', 'sarea': '平鎮區', 'mday': '20190324143522', 'ar': '坤慶路1號前方人行道', 'sareaen': 'Pingzhen Dist.', 'snaen': 'Zhongfeng & Kunqing Rd. Intersection', 'aren': 'No.1, Kunqing Rd.'}, '2146': {'sna': '廣南停車場', 'tot': '32', 'sbi': '13', 'lat': '24.944913', 'lng': '121.208633', 'bemp': '19', 'act': '1', 'sno': '2146', 'sarea': '平鎮區', 'mday': '20190324143532', 'ar': '環南路二段11號旁人行道', 'sareaen': 'Pingzhen Dist.', 'snaen': 'Guangnan Parking Lot', 'aren': 'No.11, Sec. 2, Huannan Rd.'}, '2147': {'sna': '龍潭大池(龍元路)', 'tot': '38', 'sbi': '22', 'lat': '24.863851', 'lng': '121.210032', 'bemp': '15', 'act': '1', 'sno': '2147', 'sarea': '龍潭區', 'mday': '20190324143517', 'ar': '龍元路144號對面龍潭大池旁人行道', 'sareaen': 'Longtan Dist.', 'snaen': 'Longtan Pond (Longyuan Rd.)', 'aren': 'No.144, Longyuan Rd.(opposite)'}, '2148': {'sna': '龍潭運動公園(北龍路)', 'tot': '38', 'sbi': '20', 'lat': '24.868242', 'lng': '121.218519', 'bemp': '18', 'act': '1', 'sno': '2148', 'sarea': '龍潭區', 'mday': '20190324143527', 'ar': '公園路北龍路口東南側公園旁人行道', 'sareaen': 'Longtan Dist.', 'snaen': 'Longtan Sports Park (Beilong Rd.)', 'aren': 'Gongyuan Rd./Beilong Rd.'}, '2149': {'sna': '黎明公園', 'tot': '30', 'sbi': '3', 'lat': '24.939894', 'lng': '121.256127', 'bemp': '27', 'act': '1', 'sno': '2149', 'sarea': '中壢區', 'mday': '20190324143539', 'ar': '同慶路榮民南路口西南側公園', 'sareaen': 'Zhongli Dist.', 'snaen': 'Liming Park', 'aren': 'Tongqing Rd./Rongmin S. Rd.'}, '2150': {'sna': '興仁公園', 'tot': '48', 'sbi': '17', 'lat': '24.966256', 'lng': '121.263548', 'bemp': '30', 'act': '1', 'sno': '2150', 'sarea': '中壢區', 'mday': '20190324143526', 'ar': '興仁路二段120號對面公園內人行道', 'sareaen': 'Zhongli Dist.', 'snaen': 'Xinren Park', 'aren': 'No.120, Sec. 2, Xingren Rd.(opposite)'}, '2151': {'sna': '自立新村(榮安一街)', 'tot': '32', 'sbi': '20', 'lat': '24.965432', 'lng': '121.253381', 'bemp': '12', 'act': '1', 'sno': '2151', 'sarea': '中壢區', 'mday': '20190324143525', 'ar': '榮安一街自立三街2巷北側人行道', 'sareaen': 'Zhongli Dist.', 'snaen': \"Zili Community (Rong'an 1st St.)\", 'aren': 'Rong’an 1st St./Ln. 2, Zili 3rd St.'}, '2152': {'sna': '晉元路仁德一街口', 'tot': '30', 'sbi': '10', 'lat': '24.950926', 'lng': '121.261293', 'bemp': '20', 'act': '1', 'sno': '2152', 'sarea': '中壢區', 'mday': '20190324143543', 'ar': '仁德一街28-4號對面路側', 'sareaen': 'Zhongli Dist.', 'snaen': 'Jinyuan Rd. & Rende 1st St. Intersection', 'aren': 'No.28-4, Rende 1st St.(opposite)'}, '2153': {'sna': '龍和公園', 'tot': '32', 'sbi': '17', 'lat': '24.934221', 'lng': '121.244805', 'bemp': '15', 'act': '1', 'sno': '2153', 'sarea': '中壢區', 'mday': '20190324143518', 'ar': '龍和三街290號(活動中心旁公園人行道)', 'sareaen': 'Zhongli Dist.', 'snaen': 'Longhe Park', 'aren': 'No.290, Longhe 3rd St.'}, '2154': {'sna': '萬壽中興路口', 'tot': '36', 'sbi': '16', 'lat': '24.994938', 'lng': '121.337264', 'bemp': '20', 'act': '1', 'sno': '2154', 'sarea': '龜山區', 'mday': '20190324143540', 'ar': '萬壽路二段981號對面停車場', 'sareaen': 'Guishan Dist.', 'snaen': 'Wanshou & Zhongxin Rd. Interstction', 'aren': 'No.981, Sec. 2, Wanshou Rd.(opposite)'}, '2155': {'sna': '大同西路簡易公園', 'tot': '40', 'sbi': '31', 'lat': '24.988164', 'lng': '121.304047', 'bemp': '9', 'act': '1', 'sno': '2155', 'sarea': '桃園區', 'mday': '20190324143517', 'ar': '大同西路7巷4號對面公園', 'sareaen': 'Taoyuan Dist.', 'snaen': 'Datong W. Rd. Simple Park', 'aren': 'No.4, Ln. 7, Datong W. Rd.(opposite)'}, '2156': {'sna': '霖園兒童公園', 'tot': '66', 'sbi': '33', 'lat': '24.986079', 'lng': '121.287879', 'bemp': '33', 'act': '1', 'sno': '2156', 'sarea': '桃園區', 'mday': '20190324143523', 'ar': '國鼎二街132號(對面公園東側人行道)', 'sareaen': 'Taoyuan Dist.', 'snaen': \"Linyuan Children's Park\", 'aren': 'No.132, Guoding 2nd St.(opposite)'}, '2157': {'sna': '家樂福經國店', 'tot': '44', 'sbi': '16', 'lat': '25.016383', 'lng': '121.30502', 'bemp': '28', 'act': '1', 'sno': '2157', 'sarea': '桃園區', 'mday': '20190324143523', 'ar': '桃園區天祥三街10號對面人行道', 'sareaen': 'Taoyuan Dist.', 'snaen': 'Carrefour Jingguo Branch', 'aren': 'No.10, Tianxiang 3rd St.(opposite)'}, '2158': {'sna': '玉山公園', 'tot': '34', 'sbi': '15', 'lat': '24.982621', 'lng': '121.301174', 'bemp': '19', 'act': '1', 'sno': '2158', 'sarea': '桃園區', 'mday': '20190324143544', 'ar': '南豐二街120號斜前方公園側', 'sareaen': 'Taoyuan Dist.', 'snaen': 'Yushan Park', 'aren': 'No.120, Nanfeng 2nd St.(opposite)'}, '2159': {'sna': '會稽國中', 'tot': '32', 'sbi': '22', 'lat': '25.016115', 'lng': '121.313437', 'bemp': '10', 'act': '1', 'sno': '2159', 'sarea': '桃園區', 'mday': '20190324143520', 'ar': '大興路222號(面會稽國中校門左側人行道)', 'sareaen': 'Taoyuan Dist.', 'snaen': 'Kuai Ji Junior High School', 'aren': 'No.222, Daxing Rd.(opposite)'}, '2160': {'sna': '國立體育大學綜合體育館', 'tot': '42', 'sbi': '19', 'lat': '25.035994', 'lng': '121.385040', 'bemp': '22', 'act': '1', 'sno': '2160', 'sarea': '龜山區', 'mday': '20190324143531', 'ar': '文化一路250號(國立體大體育館前馬路旁人行道)', 'sareaen': 'Guishan Dist.', 'snaen': 'Multipurpose Gymnasium of National Taiwan Sport University', 'aren': 'No.250, Wenhua 1st Rd.'}, '2161': {'sna': '和盛公園', 'tot': '34', 'sbi': '15', 'lat': '24.954289', 'lng': '121.296402', 'bemp': '19', 'act': '1', 'sno': '2161', 'sarea': '八德區', 'mday': '20190324143539', 'ar': '大和路101號對面公園側人行道', 'sareaen': 'Bade Dist.', 'snaen': 'Hesheng Park', 'aren': 'No.101, Dahe Rd.(opposite)'}, '2162': {'sna': '楊梅火車站(前站)', 'tot': '50', 'sbi': '26', 'lat': '24.913845', 'lng': '121.146247', 'bemp': '23', 'act': '1', 'sno': '2162', 'sarea': '楊梅區', 'mday': '20190324143535', 'ar': '大成路256號(火車站前方人行道)', 'sareaen': 'Yangmei Dist.', 'snaen': 'TRA Yangmei Station (Front)', 'aren': 'No.256, Dacheng Rd.'}, '2163': {'sna': '楊明國中', 'tot': '38', 'sbi': '13', 'lat': '24.910546', 'lng': '121.154995', 'bemp': '24', 'act': '1', 'sno': '2163', 'sarea': '楊梅區', 'mday': '20190324143534', 'ar': '新農街337號(面楊明國中左側人行道)', 'sareaen': 'Yangmei Dist.', 'snaen': 'Yang-Ming Junior High School', 'aren': 'No.337, Xinnong St.'}, '2164': {'sna': '楊梅國中', 'tot': '46', 'sbi': '0', 'lat': '24.904093', 'lng': '121.147179', 'bemp': '0', 'act': '0', 'sno': '2164', 'sarea': '楊梅區', 'mday': '20181121091431', 'ar': '校前路86號對面人行道', 'sareaen': 'Yangmei Dist.', 'snaen': 'Yang Mei Junior High School', 'aren': 'No.86, Xiaoqian Rd.(opposite)'}, '2165': {'sna': '經國國中', 'tot': '32', 'sbi': '22', 'lat': '25.0217', 'lng': '121.303596', 'bemp': '10', 'act': '1', 'sno': '2165', 'sarea': '桃園區', 'mday': '20190324143542', 'ar': '經國路276號(面經國國中校門左側人行道)', 'sareaen': 'Taoyuan Dist.', 'snaen': 'Jingguo Junior High School', 'aren': 'No.276, Jingguo Rd.(opposite)'}, '2166': {'sna': '獅子林社區活動中心', 'tot': '34', 'sbi': '18', 'lat': '24.928339', 'lng': '121.225294', 'bemp': '16', 'act': '1', 'sno': '2166', 'sarea': '平鎮區', 'mday': '20190324143537', 'ar': '大智街88號對面', 'sareaen': 'Pingzhen Dist.', 'snaen': 'Shizilin Community Activity Center', 'aren': 'No.88, Dazhi St.(opposite)'}, '2167': {'sna': '紫雲宮', 'tot': '34', 'sbi': '16', 'lat': '24.944845', 'lng': '121.222832', 'bemp': '15', 'act': '1', 'sno': '2167', 'sarea': '中壢區', 'mday': '20190324143525', 'ar': '自忠二街126號對面停車場', 'sareaen': 'Zhongli Dist.', 'snaen': 'Ziyun Temple', 'aren': 'No.126, Zizhong 2nd St.(opposite)'}, '2168': {'sna': '民俗文化公園', 'tot': '38', 'sbi': '14', 'lat': '24.911914', 'lng': '121.206352', 'bemp': '23', 'act': '1', 'sno': '2168', 'sarea': '平鎮區', 'mday': '20190324143523', 'ar': '上海路及上海路119巷口西南側廣場', 'sareaen': 'Pingzhen Dist.', 'snaen': 'Folk Cultural Park', 'aren': 'Shanghai Rd./Ln. 119, Shanghai Rd.'}, '2169': {'sna': '風禾公園', 'tot': '40', 'sbi': '20', 'lat': '25.000991', 'lng': '121.289893', 'bemp': '20', 'act': '1', 'sno': '2169', 'sarea': '桃園區', 'mday': '20190324143516', 'ar': '文中二路慈文路口東北側人行道', 'sareaen': 'Taoyuan Dist.', 'snaen': 'Fenghe Park', 'aren': 'Wenzhong 2nd Rd./Ciwen Rd.'}, '2170': {'sna': '財政部北區國稅局桃園分局', 'tot': '36', 'sbi': '20', 'lat': '25.003782', 'lng': '121.320733', 'bemp': '16', 'act': '1', 'sno': '2170', 'sarea': '桃園區', 'mday': '20190324143527', 'ar': '三元街150號', 'sareaen': 'Taoyuan Dist.', 'snaen': 'National Taxation Bureau of the Nothern Area, Ministry of Finance (Taoyuan Branch)', 'aren': 'No.150, Sanyuan St.'}, '2171': {'sna': '桃園觀光夜市旅客服務中心', 'tot': '36', 'sbi': '14', 'lat': '25.004089', 'lng': '121.308517', 'bemp': '22', 'act': '1', 'sno': '2171', 'sarea': '桃園區', 'mday': '20190324143529', 'ar': '正康三街8號旁停車場', 'sareaen': 'Taoyuan Dist.', 'snaen': 'Taoyuan Tourist Night Market Service Center', 'aren': 'No.8, Zhengkang 3rd St.'}, '2172': {'sna': '大園國際高中', 'tot': '60', 'sbi': '18', 'lat': '25.020834', 'lng': '121.220506', 'bemp': '42', 'act': '1', 'sno': '2172', 'sarea': '大園區', 'mday': '20190324143535', 'ar': '大成路二段37號對面人行道', 'sareaen': 'Dayuan Dist.', 'snaen': 'Dayuan International Senior High School', 'aren': 'No.37, Sec. 2, Dacheng Rd.(opposite)'}, '2173': {'sna': '同福公園', 'tot': '32', 'sbi': '20', 'lat': '24.959257', 'lng': '121.308382', 'bemp': '12', 'act': '1', 'sno': '2173', 'sarea': '八德區', 'mday': '20190324143531', 'ar': '和義街50號對面人行道', 'sareaen': 'Bade Dist.', 'snaen': 'Tongfu Park', 'aren': 'No.50, Heyi St.(opposite)'}, '2174': {'sna': '大勇國小', 'tot': '44', 'sbi': '26', 'lat': '24.968624', 'lng': '121.303459', 'bemp': '18', 'act': '1', 'sno': '2174', 'sarea': '八德區', 'mday': '20190324143517', 'ar': '忠勇街373號對面人行道', 'sareaen': 'Bade Dist.', 'snaen': 'Dayong Elementary School', 'aren': 'No.373, Zhongyong St.(opposite)'}, '2175': {'sna': '上海南京路口', 'tot': '38', 'sbi': '15', 'lat': '24.915815', 'lng': '121.206128', 'bemp': '23', 'act': '1', 'sno': '2175', 'sarea': '平鎮區', 'mday': '20190324143531', 'ar': '上海路227號旁人行道', 'sareaen': 'Pingzhen Dist.', 'snaen': 'Shanghai & Nanjing Rd. Intersection', 'aren': 'No.227, Shanghai Rd.(opposite)'}, '2176': {'sna': '常樂公園', 'tot': '40', 'sbi': '22', 'lat': '24.976881', 'lng': '121.250856', 'bemp': '18', 'act': '1', 'sno': '2176', 'sarea': '中壢區', 'mday': '20190324143526', 'ar': '文化二路237-243號旁公園人行道', 'sareaen': 'Zhongli Dist.', 'snaen': 'Changle Park', 'aren': 'No.237-243, Wenhua 2nd Rd.'}, '2177': {'sna': '金鋒太子', 'tot': '30', 'sbi': '17', 'lat': '24.945911', 'lng': '121.248625', 'bemp': '13', 'act': '1', 'sno': '2177', 'sarea': '中壢區', 'mday': '20190324143529', 'ar': '金鋒四街50巷2號對面', 'sareaen': 'Zhongli Dist.', 'snaen': 'Jinfeng Prince', 'aren': 'No.2, Ln. 50, Jinfeng 4th St.(opposite)'}, '2178': {'sna': '華愛兒童公園', 'tot': '32', 'sbi': '21', 'lat': '24.952303', 'lng': '121.259724', 'bemp': '11', 'act': '1', 'sno': '2178', 'sarea': '中壢區', 'mday': '20190324143522', 'ar': '華愛街35號對面公園旁人行道', 'sareaen': 'Zhongli Dist.', 'snaen': \"Hua-Ai Children's Park\", 'aren': \"Hua-Ai Children's Park\"}, '2179': {'sna': '南榮公園', 'tot': '34', 'sbi': '15', 'lat': '25.045165', 'lng': '121.291398', 'bemp': '19', 'act': '1', 'sno': '2179', 'sarea': '蘆竹區', 'mday': '20190324143545', 'ar': '南平街洛陽街口南側公園旁人行道', 'sareaen': 'Luzhu Dist.', 'snaen': 'Nanrong Park', 'aren': 'Nanping St./Luoyang St.'}, '2180': {'sna': '龍潭行政園區', 'tot': '36', 'sbi': '13', 'lat': '24.869962', 'lng': '121.221761', 'bemp': '23', 'act': '1', 'sno': '2180', 'sarea': '龍潭區', 'mday': '20190324143525', 'ar': '中興路673號對面人行道', 'sareaen': 'Longtan Dist.', 'snaen': 'Longtan Administrative Park', 'aren': 'No.673, Zhongxing Rd.(opposite)'}, '2181': {'sna': '過嶺國中', 'tot': '30', 'sbi': '16', 'lat': '24.960203', 'lng': '121.175517', 'bemp': '14', 'act': '1', 'sno': '2181', 'sarea': '中壢區', 'mday': '20190324143540', 'ar': '松智路過嶺路一段路口人行道', 'sareaen': 'Zhongli Dist.', 'snaen': 'Guo Ling Junior High School', 'aren': 'Songzhi Rd./Sec. 1, Guoling Rd.'}, '2182': {'sna': '南方莊園', 'tot': '22', 'sbi': '12', 'lat': '24.967284', 'lng': '121.177906', 'bemp': '9', 'act': '1', 'sno': '2182', 'sarea': '中壢區', 'mday': '20190324143534', 'ar': '樹籽路8號對面停車場旁人行道', 'sareaen': 'Zhongli Dist.', 'snaen': 'Nanfang Park', 'aren': 'No.8, Shuzi Rd.(opposite)'}, '2183': {'sna': '工四工業區(頂湖路)', 'tot': '38', 'sbi': '0', 'lat': '25.042612', 'lng': '121.362294', 'bemp': '38', 'act': '1', 'sno': '2183', 'sarea': '龜山區', 'mday': '20190324143524', 'ar': '頂湖路33號(面工廠大門左側人行道)', 'sareaen': 'Guishan Dist.', 'snaen': 'Gongsi Industrial Park (Dinghu Rd.)', 'aren': 'No.33, Dinghu Rd.'}, '2184': {'sna': '陸光河濱公園', 'tot': '58', 'sbi': '23', 'lat': '24.99485', 'lng': '121.330472', 'bemp': '33', 'act': '1', 'sno': '2184', 'sarea': '龜山區', 'mday': '20190324143534', 'ar': '同心二路19號對面公園內人行道', 'sareaen': 'Guishan Dist.', 'snaen': 'Luguang Riverside Park', 'aren': 'No.19, Tongxin 2nd Rd.(opposite)'}, '2185': {'sna': '山福里集會所', 'tot': '32', 'sbi': '23', 'lat': '24.988965', 'lng': '121.331988', 'bemp': '9', 'act': '1', 'sno': '2185', 'sarea': '龜山區', 'mday': '20190324143531', 'ar': '中興路152號旁停車場', 'sareaen': 'Guishan Dist.', 'snaen': 'Shanfu Civil Activity Center', 'aren': 'No.152, Zhongxing Rd.'}, '2186': {'sna': '大檜溪公園', 'tot': '32', 'sbi': '12', 'lat': '25.013781', 'lng': '121.31682', 'bemp': '20', 'act': '1', 'sno': '2186', 'sarea': '桃園區', 'mday': '20190324143531', 'ar': '興一街65巷50號(地下停車場出入口旁公園)', 'sareaen': 'Taoyuan Dist.', 'snaen': 'Dakuaixi Park', 'aren': 'No.50, Ln. 65, Xing 1st St.'}, '2201': {'sna': '大園國中', 'tot': '38', 'sbi': '24', 'lat': '25.053976', 'lng': '121.171991', 'bemp': '14', 'act': '1', 'sno': '2201', 'sarea': '大園區', 'mday': '20190324143530', 'ar': '園科路400號前人行道', 'sareaen': 'Dayuan Dist.', 'snaen': 'Dayuan Junior High School', 'aren': 'No.400, Yuanhang Rd.'}, '2202': {'sna': '清華高中', 'tot': '32', 'sbi': '8', 'lat': '24.981699', 'lng': '121.107716', 'bemp': '23', 'act': '1', 'sno': '2202', 'sarea': '新屋區', 'mday': '20190324143541', 'ar': '中華路658號前方人行道', 'sareaen': 'Xinwu Dist.', 'snaen': 'Ching Hua High School', 'aren': 'No.658, Zhonghua Rd.'}, '2203': {'sna': '觀音高中', 'tot': '42', 'sbi': '13', 'lat': '25.014978', 'lng': '121.133881', 'bemp': '29', 'act': '1', 'sno': '2203', 'sarea': '觀音區', 'mday': '20190324143534', 'ar': '文中路46號對面人行道', 'sareaen': 'Guanyin Dist.', 'snaen': 'Taoyuan Municipal Guanyin High School', 'aren': '46F., Wenzhong Rd.(opposite)'}, '2204': {'sna': '溫州公園', 'tot': '36', 'sbi': '20', 'lat': '25.008', 'lng': '121.29825', 'bemp': '16', 'act': '1', 'sno': '2204', 'sarea': '桃園區', 'mday': '20190324143545', 'ar': '大興西路二段139巷173號旁公園人行道', 'sareaen': 'Taoyuan Dist.', 'snaen': 'Wenzhou Park', 'aren': 'No.173, Ln. 139, Sec. 2, Daxing W. Rd.'}, '2205': {'sna': '忠愛公園', 'tot': '34', 'sbi': '22', 'lat': '24.93306', 'lng': '121.22493', 'bemp': '12', 'act': '1', 'sno': '2205', 'sarea': '平鎮區', 'mday': '20190324143518', 'ar': '金陵路二段454巷18號旁公園', 'sareaen': 'Pingzhen Dist.', 'snaen': 'Zhong’ai Park', 'aren': 'No.18, Ln. 454, Sec. 2, Jinling Rd.'}, '2206': {'sna': '南亞技術學院', 'tot': '32', 'sbi': '14', 'lat': '24.93756', 'lng': '121.25171', 'bemp': '18', 'act': '1', 'sno': '2206', 'sarea': '中壢區', 'mday': '20190324143520', 'ar': '中山東路三段414號內機車停車場', 'sareaen': 'Zhongli Dist.', 'snaen': 'Nanya Institute of Technology', 'aren': 'No.414, Sec. 3, Zhongshan E. Rd.'}, '2207': {'sna': '華勛公園', 'tot': '38', 'sbi': '18', 'lat': '24.946622', 'lng': '121.261741', 'bemp': '20', 'act': '1', 'sno': '2207', 'sarea': '中壢區', 'mday': '20190324143526', 'ar': '華仁街68巷34號對面公園', 'sareaen': 'Zhongli Dist.', 'snaen': 'Huaxun Park', 'aren': 'No.34, Ln. 68, Huaren St.(opposite)'}, '2208': {'sna': '中山親水公園', 'tot': '32', 'sbi': '22', 'lat': '24.909657', 'lng': '121.148482', 'bemp': '10', 'act': '1', 'sno': '2208', 'sarea': '楊梅區', 'mday': '20190324143538', 'ar': '新農街80號旁公園內', 'sareaen': 'Yangmei Dist.', 'snaen': 'Zhongshan Waterfront Park', 'aren': 'No.80, Xinnong St.'}, '2209': {'sna': '楓樹公園', 'tot': '42', 'sbi': '19', 'lat': '25.00465', 'lng': '121.34496', 'bemp': '22', 'act': '1', 'sno': '2209', 'sarea': '龜山區', 'mday': '20190324143536', 'ar': '楓樹一街19號對面公園', 'sareaen': 'Guishan Dist.', 'snaen': 'Fengshu park', 'aren': 'No.19, Fengshu 1st St.(opposite)'}, '2210': {'sna': '伯公岡公園', 'tot': '36', 'sbi': '14', 'lat': '24.938531', 'lng': '121.084646', 'bemp': '20', 'act': '1', 'sno': '2210', 'sarea': '楊梅區', 'mday': '20190324143527', 'ar': '民生街101號對面公園', 'sareaen': 'Yangmei Dist.', 'snaen': 'Bogonggang Park', 'aren': 'No.101, Minsheng St.(opposite)'}, '2211': {'sna': '中央造幣廠', 'tot': '40', 'sbi': '12', 'lat': '25.013917', 'lng': '121.36006', 'bemp': '28', 'act': '1', 'sno': '2211', 'sarea': '龜山區', 'mday': '20190324143515', 'ar': '振興路577號前方人行道', 'sareaen': 'Guishan Dist.', 'snaen': 'Central Mint ', 'aren': 'No.577, Jhensing Rd.'}, '2212': {'sna': '青塘園', 'tot': '48', 'sbi': '21', 'lat': '25.00641', 'lng': '121.20492', 'bemp': '26', 'act': '1', 'sno': '2212', 'sarea': '中壢區', 'mday': '20190324143521', 'ar': '洽溪路133號對面公園人行道', 'sareaen': 'Zhongli Dist.', 'snaen': 'Qingtang Garden', 'aren': 'No.133, Qiaxi Rd. (oppsite)'}, '2213': {'sna': '龍安公園', 'tot': '30', 'sbi': '16', 'lat': '24.99153', 'lng': '121.27619', 'bemp': '14', 'act': '1', 'sno': '2213', 'sarea': '桃園區', 'mday': '20190324143531', 'ar': '國豐七街122號對面公園', 'sareaen': 'Taoyuan Dist.', 'snaen': 'Longan Park', 'aren': 'No.122, Guofeng 7th St.(oppsite)'}, '2214': {'sna': '埔頂公園', 'tot': '36', 'sbi': '14', 'lat': '24.90904', 'lng': '121.28357', 'bemp': '22', 'act': '1', 'sno': '2214', 'sarea': '大溪區', 'mday': '20190324143536', 'ar': '仁善街102號對面停車場內', 'sareaen': 'Daxi Dist.', 'snaen': 'Puding Park', 'aren': 'No.102, Renshan St. (opposite)'}, '2215': {'sna': '文化花園夜市', 'tot': '34', 'sbi': '5', 'lat': '25.064312', 'lng': '121.365578', 'bemp': '29', 'act': '1', 'sno': '2215', 'sarea': '龜山區', 'mday': '20190324143519', 'ar': '龜山一路168號旁公園', 'sareaen': 'Guishan Dist.', 'snaen': 'Wen-Hwa Garden Night Market', 'aren': 'No.168, Guishan 1st Rd.'}, '2216': {'sna': '平鎮魚形公園', 'tot': '30', 'sbi': '9', 'lat': '24.95796', 'lng': '121.19022', 'bemp': '21', 'act': '1', 'sno': '2216', 'sarea': '平鎮區', 'mday': '20190324143523', 'ar': '清泉街49-53號旁公園內', 'sareaen': 'Pingzhen Dist.', 'snaen': 'Pingzhen Yusing Park', 'aren': 'No.49-53, Qingquan St.'}, '2217': {'sna': '大溪河濱公園', 'tot': '42', 'sbi': '30', 'lat': '24.89212', 'lng': '121.28389', 'bemp': '11', 'act': '1', 'sno': '2217', 'sarea': '大溪區', 'mday': '20190324143537', 'ar': '瑞興段2407地號內停車格', 'sareaen': 'Daxi Dist.', 'snaen': 'Daxi Riverside Park', 'aren': 'No.2407 of Ruixing Section '}, '2218': {'sna': '大明公園', 'tot': '32', 'sbi': '16', 'lat': '24.96875', 'lng': '121.32744', 'bemp': '16', 'act': '1', 'sno': '2218', 'sarea': '八德區', 'mday': '20190324143525', 'ar': '興隆街2號對面公園', 'sareaen': 'Bade Dist.', 'snaen': 'Daming Park', 'aren': 'No.2, Xinglong St.(oppsite)'}, '2219': {'sna': '國軍桃園總醫院', 'tot': '36', 'sbi': '10', 'lat': '24.87498', 'lng': '121.23637', 'bemp': '26', 'act': '1', 'sno': '2219', 'sarea': '龍潭區', 'mday': '20190324143523', 'ar': '中興路179號對面人行道', 'sareaen': 'Longtan Dist.', 'snaen': 'Taoyuan Armed Forces General Hospital', 'aren': 'No.179, Zhongxing Rd. (opposite)'}, '2220': {'sna': '元聖宮', 'tot': '34', 'sbi': '12', 'lat': '24.96384', 'lng': '121.27843', 'bemp': '22', 'act': '1', 'sno': '2220', 'sarea': '八德區', 'mday': '20190324143542', 'ar': '東泰街2號旁空地', 'sareaen': 'Bade Dist.', 'snaen': 'Yuansheng Temple', 'aren': 'No.2, Dongtai St.'}, '2221': {'sna': '大江購物中心', 'tot': '44', 'sbi': '20', 'lat': '25.00127', 'lng': '121.22939', 'bemp': '23', 'act': '1', 'sno': '2221', 'sarea': '中壢區', 'mday': '20190324143517', 'ar': '中園路二段501號前方人行道', 'sareaen': 'Zhongli Dist.', 'snaen': 'Metrowalk', 'aren': 'No.501, Sec. 2, Zhongyuan Rd.'}, '2222': {'sna': '老街溪河川教育中心', 'tot': '36', 'sbi': '20', 'lat': '24.953739', 'lng': '121.21856', 'bemp': '15', 'act': '1', 'sno': '2222', 'sarea': '中壢區', 'mday': '20190324143525', 'ar': '中原路58號前方人行道', 'sareaen': 'Zhongli Dist.', 'snaen': 'LaoJier River Education Center', 'aren': 'No.58, Gongxue Rd.'}, '2223': {'sna': '美光晶圓公司', 'tot': '40', 'sbi': '5', 'lat': '25.038673', 'lng': '121.374561', 'bemp': '35', 'act': '1', 'sno': '2223', 'sarea': '龜山區', 'mday': '20190324143541', 'ar': '復興三路667號前方人行道', 'sareaen': 'Guishan Dist.', 'snaen': 'Micron Technology Inc.', 'aren': 'No.667, Fuxing 3rd Rd.'}, '2224': {'sna': '兒九公園', 'tot': '34', 'sbi': '10', 'lat': '25.005083', 'lng': '121.212793', 'bemp': '23', 'act': '1', 'sno': '2224', 'sarea': '大園區', 'mday': '20190324143532', 'ar': '致遠街致維街口公園內', 'sareaen': 'Dayuan Dist.', 'snaen': 'Erjiu Park', 'aren': 'Zhiyuan St./Jhihwei St.'}, '2225': {'sna': '永定二保定三街89巷口', 'tot': '32', 'sbi': '20', 'lat': '24.99746', 'lng': '121.298213', 'bemp': '12', 'act': '1', 'sno': '2225', 'sarea': '桃園區', 'mday': '20190324143529', 'ar': '永定二街保定三街89巷口公園內', 'sareaen': 'Taoyuan Dist.', 'snaen': 'Yongding 2nd & Ln. 89, Baoding 3rd St. Intersection', 'aren': 'Yongding 2nd St./Ln. 89, Baoding 3rd St.'}, '2226': {'sna': '八德霖園公園', 'tot': '34', 'sbi': '18', 'lat': '24.97847', 'lng': '121.300762', 'bemp': '16', 'act': '1', 'sno': '2226', 'sarea': '八德區', 'mday': '20190324143526', 'ar': '介壽路一段16巷73號旁公園人行道', 'sareaen': 'Bade Dist.', 'snaen': 'Bade Linyuan Park', 'aren': 'No.73, Ln. 16, Sec. 1, Jieshou Rd.(opposite)'}, '2227': {'sna': '建德公園', 'tot': '38', 'sbi': '15', 'lat': '24.931091', 'lng': '121.281626', 'bemp': '23', 'act': '1', 'sno': '2227', 'sarea': '八德區', 'mday': '20190324143532', 'ar': '長興路61號對面公園', 'sareaen': 'Bade Dist.', 'snaen': 'Jiande Park', 'aren': 'No.61, Changxing Rd.(opposite)'}, '2228': {'sna': '龍岡圓環', 'tot': '30', 'sbi': '20', 'lat': '24.926002', 'lng': '121.244046', 'bemp': '10', 'act': '1', 'sno': '2228', 'sarea': '中壢區', 'mday': '20190324143527', 'ar': '龍東路龍岡路三段路口', 'sareaen': 'Zhongli Dist.', 'snaen': 'Longgang Roundabout', 'aren': 'Longdong Rd./Sec. 3, Longgang Rd.'}, '2229': {'sna': '成功國小', 'tot': '34', 'sbi': '15', 'lat': '24.999511', 'lng': '121.306346', 'bemp': '19', 'act': '1', 'sno': '2229', 'sarea': '桃園區', 'mday': '20190324143517', 'ar': '中正三街與長春路口', 'sareaen': 'Taoyuan Dist.', 'snaen': 'Chenggong Elementary School', 'aren': 'Zhongzheng 3rd St./ Changchun Rd.'}, '2230': {'sna': '新福大新一街口', 'tot': '30', 'sbi': '10', 'lat': '25.02428', 'lng': '121.25673', 'bemp': '20', 'act': '1', 'sno': '2230', 'sarea': '蘆竹區', 'mday': '20190324143531', 'ar': '新福街125-127號對面', 'sareaen': 'Luzhu Dist.', 'snaen': 'Xinfu & Daxin 1st St. Intersection', 'aren': 'No.125-No.127, Xinfu St.(opposite)'}, '2231': {'sna': '龍安國小', 'tot': '32', 'sbi': '15', 'lat': '24.99242', 'lng': '121.27288', 'bemp': '17', 'act': '1', 'sno': '2231', 'sarea': '蘆竹區', 'mday': '20190324143517', 'ar': '文中路一段35號', 'sareaen': 'Luzhu Dist.', 'snaen': \"Long'an Elementary School\", 'aren': 'No.35, Sec. 1, Wenzhong Rd.'}, '2232': {'sna': '綠九公園', 'tot': '36', 'sbi': '18', 'lat': '25.061109', 'lng': '121.29726', 'bemp': '18', 'act': '1', 'sno': '2232', 'sarea': '蘆竹區', 'mday': '20190324143540', 'ar': '六福路/六福路247巷路口旁公園', 'sareaen': 'Luzhu Dist.', 'snaen': 'Lujiu Park', 'aren': 'Liufu Rd./Ln. 247, Liufu Rd.'}, '2233': {'sna': '內厝社區活動中心', 'tot': '32', 'sbi': '8', 'lat': '24.989317', 'lng': '121.179425', 'bemp': '24', 'act': '1', 'sno': '2233', 'sarea': '中壢區', 'mday': '20190324143520', 'ar': '中正路四段112號前方路側', 'sareaen': 'Zhongli Dist.', 'snaen': 'Neicuo Activity Center', 'aren': 'No.112, Sec. 4, Zhongzheng Rd.'}, '2234': {'sna': '龍岡大操場', 'tot': '36', 'sbi': '19', 'lat': '24.930164', 'lng': '121.239605', 'bemp': '17', 'act': '1', 'sno': '2234', 'sarea': '中壢區', 'mday': '20190324143534', 'ar': '龍岡路三段游泳路口旁公園人行道', 'sareaen': 'Zhongli Dist.', 'snaen': 'Longgang Playground', 'aren': 'Sec. 3, Longgang Rd./Youyong Rd.'}, '2235': {'sna': '普忠路770巷口', 'tot': '32', 'sbi': '17', 'lat': '24.954231', 'lng': '121.251253', 'bemp': '15', 'act': '1', 'sno': '2235', 'sarea': '中壢區', 'mday': '20190324143538', 'ar': '普忠路605號對面人行道', 'sareaen': 'Zhongli Dist.', 'snaen': 'Ln. 770, Puzhong Rd.', 'aren': 'No.605, Puzhong Rd.(opposite)'}, '2236': {'sna': '青埔國小', 'tot': '34', 'sbi': '14', 'lat': '25.00662', 'lng': '121.21368', 'bemp': '20', 'act': '1', 'sno': '2236', 'sarea': '中壢區', 'mday': '20190324143537', 'ar': '新生路四段127號對面人行道', 'sareaen': 'Zhongli Dist.', 'snaen': 'Qingpu Elementary School', 'aren': 'No.127, Sec. 4, Sinsheng Rd.(opposite)'}, '2237': {'sna': '南崁溪自行車道(長壽路口)', 'tot': '38', 'sbi': '12', 'lat': '25.001722', 'lng': '121.347685', 'bemp': '26', 'act': '1', 'sno': '2237', 'sarea': '龜山區', 'mday': '20190324143519', 'ar': '半嶺段 44地號', 'sareaen': 'Guishan Dist.', 'snaen': 'Nankan River Bikeway ( Changshou Rd. )', 'aren': 'No. 44 of Banling Section'}, '2238': {'sna': '山仔頂公園', 'tot': '36', 'sbi': '12', 'lat': '24.892175', 'lng': '121.20433', 'bemp': '24', 'act': '1', 'sno': '2238', 'sarea': '平鎮區', 'mday': '20190324143531', 'ar': '自由街117號對面公園', 'sareaen': 'Pingzhen Dist.', 'snaen': 'Shanzaiding Park', 'aren': 'No.117, Ziyou St.. (opposite)'}, '2239': {'sna': '桃園區南平運動中心', 'tot': '42', 'sbi': '14', 'lat': '25.021357', 'lng': '121.306156', 'bemp': '28', 'act': '1', 'sno': '2239', 'sarea': '桃園區', 'mday': '20190324143517', 'ar': '南平路23號對面人行道', 'sareaen': 'Taoyuan Dist.', 'snaen': 'Taoyuan District Naiping Sports Center', 'aren': 'No.23, Nanping Rd.'}, '2240': {'sna': '溪濱公園', 'tot': '32', 'sbi': '14', 'lat': '24.933108', 'lng': '121.278891', 'bemp': '17', 'act': '1', 'sno': '2240', 'sarea': '八德區', 'mday': '20190324143532', 'ar': '廣興二路廣興五街口旁公園', 'sareaen': 'Bade Dist.', 'snaen': 'Xibin Park', 'aren': 'Guangxing 5th St., Bade Dist., Taoyuan City '}, '2241': {'sna': '豐德公園', 'tot': '38', 'sbi': '19', 'lat': '24.926655', 'lng': '121.28745', 'bemp': '19', 'act': '1', 'sno': '2241', 'sarea': '八德區', 'mday': '20190324143529', 'ar': '豐田一路87號對面公園', 'sareaen': 'Bade Dist.', 'snaen': 'Fengde Park', 'aren': 'No.87, Fengtian 1st Rd.(opposite)'}, '2242': {'sna': '八德仁德公園', 'tot': '32', 'sbi': '18', 'lat': '24.935127', 'lng': '121.287328', 'bemp': '14', 'act': '1', 'sno': '2242', 'sarea': '八德區', 'mday': '20190324143533', 'ar': '仁德路218號對面公園', 'sareaen': 'Bade Dist.', 'snaen': 'Bade Rende Park', 'aren': 'No.218, Rende Rd.(opposite)'}, '2243': {'sna': '中德里市民活動中心', 'tot': '32', 'sbi': '11', 'lat': '24.977868', 'lng': '121.287946', 'bemp': '21', 'act': '1', 'sno': '2243', 'sarea': '桃園區', 'mday': '20190324143528', 'ar': '國際路一段與國際路一段678巷口', 'sareaen': 'Taoyuan Dist.', 'snaen': 'Zhongde Civil Activity Center', 'aren': 'Sec. 1, Guoji Rd/Ln. 678, Sec. 1, Guoji Rd.'}, '2244': {'sna': '茄明里集會所', 'tot': '36', 'sbi': '22', 'lat': '24.986389', 'lng': '121.28182', 'bemp': '14', 'act': '1', 'sno': '2244', 'sarea': '八德區', 'mday': '20190324143540', 'ar': '中華路27號外側人行道', 'sareaen': 'Bade Dist.', 'snaen': 'Jiaming Activity Center', 'aren': 'No.27, Zhonghua Rd.(opposite)'}, '2245': {'sna': '向陽公園', 'tot': '40', 'sbi': '14', 'lat': '24.997013', 'lng': '121.29609', 'bemp': '26', 'act': '1', 'sno': '2245', 'sarea': '桃園區', 'mday': '20190324143516', 'ar': '正光路186巷50號對面人行道', 'sareaen': 'Taoyuan Dist.', 'snaen': 'Xiangyang Park', 'aren': 'No.50, Ln. 186, Zhengguang Rd.(opposite)'}, '2246': {'sna': '國豐公園', 'tot': '36', 'sbi': '23', 'lat': '24.987028', 'lng': '121.279348', 'bemp': '13', 'act': '1', 'sno': '2246', 'sarea': '桃園區', 'mday': '20190324143526', 'ar': '龍鳳三街65巷2號對面公園', 'sareaen': 'Taoyuan Dist.', 'snaen': 'Guofeng Park', 'aren': 'No.2, Ln. 65, Longfeng 3rd St.'}, '2247': {'sna': '公七公園', 'tot': '34', 'sbi': '10', 'lat': '25.008599', 'lng': '121.219904', 'bemp': '24', 'act': '1', 'sno': '2247', 'sarea': '中壢區', 'mday': '20190324143536', 'ar': '青商路288-298斜對面公園內', 'sareaen': 'Zhongli Dist.', 'snaen': 'Gongqi Park', 'aren': 'No.288, Qingshang Rd.'}, '2248': {'sna': '義興公園', 'tot': '32', 'sbi': '17', 'lat': '24.949106', 'lng': '121.209494', 'bemp': '15', 'act': '1', 'sno': '2248', 'sarea': '平鎮區', 'mday': '20190324143516', 'ar': '義興街55號對面公園人行道', 'sareaen': 'Pingzhen Dist.', 'snaen': 'Yixing Park', 'aren': 'No.55, Yixing St.(opposite)'}, '2249': {'sna': '上興公園', 'tot': '34', 'sbi': '13', 'lat': '25.018738', 'lng': '121.261501', 'bemp': '21', 'act': '1', 'sno': '2249', 'sarea': '蘆竹區', 'mday': '20190324143535', 'ar': '上興路182號對面路側', 'sareaen': 'Luzhu Dist.', 'snaen': 'Shangxing Park', 'aren': 'No.182, Shangxing Rd.(opposite)'}, '2251': {'sna': '至善綠園', 'tot': '32', 'sbi': '19', 'lat': '24.940354', 'lng': '121.249948', 'bemp': '13', 'act': '1', 'sno': '2251', 'sarea': '中壢區', 'mday': '20190324143540', 'ar': ' 龍昌路32號對面公園', 'sareaen': 'Zhongli Dist.', 'snaen': 'Zhishan Greens', 'aren': 'No.32, Longchang Rd.(opposite)'}, '2252': {'sna': '仁和國小', 'tot': '30', 'sbi': '21', 'lat': '24.897638', 'lng': '121.276781', 'bemp': '9', 'act': '1', 'sno': '2252', 'sarea': '大溪區', 'mday': '20190324143524', 'ar': '仁和二街50號旁人行道', 'sareaen': 'Daxi Dist.', 'snaen': 'Renhe Elementary School', 'aren': 'No.50, Renhe 2nd St.(opposite)'}, '2254': {'sna': '青松農場', 'tot': '30', 'sbi': '9', 'lat': '24.995065', 'lng': '121.194071', 'bemp': '21', 'act': '1', 'sno': '2254', 'sarea': '中壢區', 'mday': '20190324143546', 'ar': '聖德路一段596之20號前方空地', 'sareaen': 'Zhongli Dist.', 'snaen': 'Qingsong Farm', 'aren': 'No.596-20, Sec. 1, Shengde Rd., Zhongli Dist.'}, '2255': {'sna': '富岡車站', 'tot': '32', 'sbi': '19', 'lat': '24.934444', 'lng': '121.082367', 'bemp': '12', 'act': '1', 'sno': '2255', 'sarea': '楊梅區', 'mday': '20190324143542', 'ar': '成功路58號斜對面廣場', 'sareaen': 'Yangmei Dist.', 'snaen': 'TRA Fu Gung Station', 'aren': 'No.58, Chenggong Rd.(opposite)'}, '2256': {'sna': '北門國小', 'tot': '36', 'sbi': '20', 'lat': '25.007437', 'lng': '121.306712', 'bemp': '16', 'act': '1', 'sno': '2256', 'sarea': '桃園區', 'mday': '20190324143544', 'ar': '大連一街103號對面人行道', 'sareaen': 'Taoyuan Dist.', 'snaen': 'Bei Men Elementary School', 'aren': 'No.103, Aly. 825, Dalian 1st St.'}, '2257': {'sna': '菓林國小', 'tot': '26', 'sbi': '13', 'lat': '25.077668', 'lng': '121.256217', 'bemp': '13', 'act': '1', 'sno': '2257', 'sarea': '大園區', 'mday': '20190324143530', 'ar': '菓林里12鄰41號前方人行道', 'sareaen': 'Dayuan Dist.', 'snaen': 'Guo Lin Elementary School', 'aren': 'No 41, Neighborhood 12,Guolin Vil.'}, '2258': {'sna': '大魯閣(中正路)', 'tot': '32', 'sbi': '23', 'lat': '25.030046', 'lng': '121.293195', 'bemp': '9', 'act': '1', 'sno': '2258', 'sarea': '桃園區', 'mday': '20190324143531', 'ar': '中正北路2巷16號對面廣場', 'sareaen': 'Taoyuan Dist.', 'snaen': 'TAROKO SPORTS (Zhongzheng Rd.)', 'aren': 'No.16, Ln. 2, Jhongjheng N. Rd.'}, '2259': {'sna': '同安國小', 'tot': '38', 'sbi': '17', 'lat': '25.021257', 'lng': '121.297788', 'bemp': '21', 'act': '1', 'sno': '2259', 'sarea': '桃園區', 'mday': '20190324143539', 'ar': '同德十一街33號對面人行道', 'sareaen': 'Taoyuan Dist.', 'snaen': 'Tong An Elementary School', 'aren': 'No.33, Tongde 11th St.'}, '2260': {'sna': '文昌國中', 'tot': '36', 'sbi': '23', 'lat': '25.010094', 'lng': '121.308003', 'bemp': '12', 'act': '1', 'sno': '2260', 'sarea': '桃園區', 'mday': '20190324143516', 'ar': '民生路729號前方人行道', 'sareaen': 'Taoyuan Dist.', 'snaen': 'Wen Chang Junior High School', 'aren': 'No.729, Minsheng Rd.'}, '2261': {'sna': '蘆竹區聯合辦公大樓', 'tot': '34', 'sbi': '12', 'lat': '25.062955', 'lng': '121.280302', 'bemp': '22', 'act': '1', 'sno': '2261', 'sarea': '蘆竹區', 'mday': '20190324143535', 'ar': '長安路二段與東溪路口', 'sareaen': 'Luzhu Dist.', 'snaen': 'Luzhu District Joint Office Building', 'aren': 'Sec. 2, Chang’an Rd./Dongxi Rd.'}, '2262': {'sna': '桃園市立圖書館山腳分館', 'tot': '32', 'sbi': '13', 'lat': '25.08289', 'lng': '121.287672', 'bemp': '17', 'act': '1', 'sno': '2262', 'sarea': '蘆竹區', 'mday': '20190324143541', 'ar': '山外路117號旁人行道', 'sareaen': 'Luzhu Dist.', 'snaen': 'Taoyuan City Library Shanjiau Branch', 'aren': 'No.117, Shanwai Rd.'}, '2263': {'sna': '桃園市客家文化館', 'tot': '30', 'sbi': '10', 'lat': '24.845599', 'lng': '121.234624', 'bemp': '20', 'act': '1', 'sno': '2263', 'sarea': '龍潭區', 'mday': '20190324143540', 'ar': '中正路三林段500號前方路側', 'sareaen': 'Longtan Dist.', 'snaen': 'Taoyuan Hakka Culture Hall', 'aren': 'No.500, Sec. Sanlin, Zhongzheng Rd.'}, '2264': {'sna': '百年大鎮社區', 'tot': '28', 'sbi': '8', 'lat': '24.877751', 'lng': '121.21176', 'bemp': '19', 'act': '1', 'sno': '2264', 'sarea': '龍潭區', 'mday': '20190324143540', 'ar': '中豐路279號前方人行道', 'sareaen': 'Longtan Dist.', 'snaen': 'Bainian Town', 'aren': 'No.279, Zhongfeng Rd.'}, '2266': {'sna': '十大觀光小城公園', 'tot': '40', 'sbi': '13', 'lat': '24.905108', 'lng': '121.284806', 'bemp': '27', 'act': '1', 'sno': '2266', 'sarea': '大溪區', 'mday': '20190324143524', 'ar': '介壽路965號對面公園', 'sareaen': 'Daxi Dist.', 'snaen': 'Ten Sightseeing Town Park', 'aren': 'No.965, Jieshou Rd.(opposite)'}, '2267': {'sna': '八德興豐公園', 'tot': '40', 'sbi': '15', 'lat': '24.930484', 'lng': '121.289487', 'bemp': '24', 'act': '1', 'sno': '2267', 'sarea': '八德區', 'mday': '20190324143518', 'ar': '興豐路豐田路路口旁公園', 'sareaen': 'Bade Dist.', 'snaen': 'Bade Xingfeng Park', 'aren': 'Xingfeng Rd./Fengtian Rd.'}, '2268': {'sna': '八德藝文廣場', 'tot': '30', 'sbi': '15', 'lat': '24.933575', 'lng': '121.299289', 'bemp': '15', 'act': '1', 'sno': '2268', 'sarea': '八德區', 'mday': '20190324143537', 'ar': '瑞發街興豐路825巷口旁空地', 'sareaen': 'Bade Dist.', 'snaen': 'Bade Arts Square', 'aren': 'Aly. 825, Xingfeng Rd., Bade Dist'}, '2269': {'sna': '茄明公園', 'tot': '32', 'sbi': '17', 'lat': '24.98279', 'lng': '121.279858', 'bemp': '15', 'act': '1', 'sno': '2269', 'sarea': '八德區', 'mday': '20190324143540', 'ar': '明光街56號對面公園人行道', 'sareaen': 'Bade Dist.', 'snaen': 'Jiaming Park', 'aren': 'No.56, Mingguang St.(opposite)'}, '2270': {'sna': '大忠停車場', 'tot': '40', 'sbi': '18', 'lat': '24.958435', 'lng': '121.300971', 'bemp': '22', 'act': '1', 'sno': '2270', 'sarea': '八德區', 'mday': '20190324143525', 'ar': '大忠街140號對面人行道', 'sareaen': 'Bade Dist.', 'snaen': 'Dazhong Parking Lot', 'aren': 'No.140, Dazhong St.(opposite)'}, '2271': {'sna': '龜山中正公園', 'tot': '38', 'sbi': '20', 'lat': '24.999606', 'lng': '121.343598', 'bemp': '17', 'act': '1', 'sno': '2271', 'sarea': '龜山區', 'mday': '20190324143532', 'ar': '自強北路19號對面人行道', 'sareaen': 'Guishan Dist.', 'snaen': 'Guishan Zhongzheng Park', 'aren': 'No.19, Ziqiang N. Rd.(opposite)'}, '2272': {'sna': '大仁里遊樂場', 'tot': '36', 'sbi': '14', 'lat': '24.968349', 'lng': '121.319564', 'bemp': '22', 'act': '1', 'sno': '2272', 'sarea': '八德區', 'mday': '20190324143522', 'ar': '中華段 764地號', 'sareaen': 'Bade Dist.', 'snaen': 'Daren Playground', 'aren': 'No.764 of Zhonghua Section '}, '2273': {'sna': '萬坪公園', 'tot': '36', 'sbi': '12', 'lat': '24.932823', 'lng': '121.249297', 'bemp': '24', 'act': '1', 'sno': '2273', 'sarea': '中壢區', 'mday': '20190324143544', 'ar': '龍昌路龍川九街路口旁人行道', 'sareaen': 'Zhongli Dist.', 'snaen': 'Wanping Park', 'aren': 'Longchang Rd./ Longchuan 9th St.'}, '2274': {'sna': '龍興國中', 'tot': '40', 'sbi': '18', 'lat': '24.937841', 'lng': '121.236378', 'bemp': '22', 'act': '1', 'sno': '2274', 'sarea': '中壢區', 'mday': '20190324143544', 'ar': '龍勇路100號前方人行道', 'sareaen': 'Zhongli Dist.', 'snaen': 'Longxing Junior High School', 'aren': 'No.100, Longyong Rd.'}, '2275': {'sna': '竹風青田', 'tot': '28', 'sbi': '13', 'lat': '25.011504', 'lng': '121.20184', 'bemp': '15', 'act': '1', 'sno': '2275', 'sarea': '中壢區', 'mday': '20190324143545', 'ar': '永園路一段130號前方人行道', 'sareaen': 'Zhongli Dist.', 'snaen': 'TrueFull QingTian', 'aren': 'No.130, Yongyuan Rd.'}, '2276': {'sna': '新福二路大仁街口', 'tot': '30', 'sbi': '13', 'lat': '24.970672', 'lng': '121.105909', 'bemp': '17', 'act': '1', 'sno': '2276', 'sarea': '新屋區', 'mday': '20190324143532', 'ar': '新福二路/大仁街路口旁人行道', 'sareaen': 'Xinwu Dist.', 'snaen': 'Xinfu 2nd & Daren Intersection', 'aren': 'Xinfu 2nd Rd./Daren St.'}, '2277': {'sna': '龍安里集會所', 'tot': '32', 'sbi': '12', 'lat': '24.93149', 'lng': '121.25766', 'bemp': '20', 'act': '1', 'sno': '2277', 'sarea': '中壢區', 'mday': '20190324143541', 'ar': '龍江路99號前方廣場', 'sareaen': 'Zhongli Dist.', 'snaen': 'Longan Activity Center', 'aren': 'No.99, Longjiang Rd.'}, '2278': {'sna': '四維兒童公園', 'tot': '32', 'sbi': '10', 'lat': '24.91279', 'lng': '121.18062', 'bemp': '22', 'act': '1', 'sno': '2278', 'sarea': '楊梅區', 'mday': '20190324143536', 'ar': '四維二路95號對面公園', 'sareaen': 'Yangmei Dist.', 'snaen': \"Siwei Children's Park\", 'aren': 'No.95, Siwei 2nd Rd.'}, '2279': {'sna': '新屋區公所', 'tot': '42', 'sbi': '23', 'lat': '24.972532', 'lng': '121.105284', 'bemp': '19', 'act': '1', 'sno': '2279', 'sarea': '新屋區', 'mday': '20190324143516', 'ar': '中山路267巷1號對面路側', 'sareaen': 'Xinwu Dist.', 'snaen': 'Civil Affairs Office of Xinwu District', 'aren': 'No.1, Ln. 267, Zhongshan Rd.(opposite)'}, '2280': {'sna': '國信公園', 'tot': '40', 'sbi': '17', 'lat': '24.994389', 'lng': '121.286743', 'bemp': '23', 'act': '1', 'sno': '2280', 'sarea': '桃園區', 'mday': '20190324143519', 'ar': '國信街1號對面公園', 'sareaen': 'Taoyuan Dist.', 'snaen': 'Guosin Park', 'aren': 'No.1, Guoxin St.(opposite)'}, '2281': {'sna': '經國幸福路口', 'tot': '40', 'sbi': '18', 'lat': '25.02986', 'lng': '121.3008', 'bemp': '21', 'act': '1', 'sno': '2281', 'sarea': '桃園區', 'mday': '20190324143544', 'ar': '水汴頭段14地號園道內', 'sareaen': 'Taoyuan Dist.', 'snaen': 'Jingguo & Xingfu  Intersection', 'aren': 'No.14 of Shubiantou Section '}, '2282': {'sna': '中壢仁德公園', 'tot': '38', 'sbi': '21', 'lat': '24.953347', 'lng': '121.266529', 'bemp': '17', 'act': '1', 'sno': '2282', 'sarea': '中壢區', 'mday': '20190324143527', 'ar': '崁頂路崁頂路1401巷口旁人行道', 'sareaen': 'Zhongli Dist.', 'snaen': 'Zhongli Rende Park', 'aren': 'Ln. 1401, Kanding Rd./Kanding Rd.'}, '2283': {'sna': '八德楓樹腳公園', 'tot': '40', 'sbi': '16', 'lat': '24.935287', 'lng': '121.297258', 'bemp': '24', 'act': '1', 'sno': '2283', 'sarea': '八德區', 'mday': '20190324143520', 'ar': '介壽路二段931號對面公園', 'sareaen': 'Bade Dist.', 'snaen': 'Bade Fengshujiao park', 'aren': 'No.931, Sec. 2, Jieshou Rd.(opposite)'}, '2284': {'sna': '龍慈龍和三街口', 'tot': '40', 'sbi': '20', 'lat': '24.940105', 'lng': '121.243768', 'bemp': '20', 'act': '1', 'sno': '2284', 'sarea': '中壢區', 'mday': '20190324143521', 'ar': '龍慈路與龍和三街旁路側', 'sareaen': 'Zhongli Dist.', 'snaen': 'Longci & Longhe 3rd st. Intersection', 'aren': 'Longcih Rd./Longhe 3rd St.'}, '2285': {'sna': '功學社新村', 'tot': '30', 'sbi': '8', 'lat': '24.954249', 'lng': '121.256356', 'bemp': '22', 'act': '1', 'sno': '2285', 'sarea': '中壢區', 'mday': '20190324143533', 'ar': '功學路156號前方空地', 'sareaen': 'Zhongli Dist.', 'snaen': 'Gongxueshexincun', 'aren': 'No.156, Gongxue Rd.'}, '2287': {'sna': '海湖農會', 'tot': '24', 'sbi': '7', 'lat': '25.102807', 'lng': '121.264864', 'bemp': '17', 'act': '1', 'sno': '2287', 'sarea': '蘆竹區', 'mday': '20190324143534', 'ar': '海湖東路77號旁空地', 'sareaen': 'Luzhu Dist.', 'snaen': \"Haihu Farmers' Association\", 'aren': 'No.77, Haihu E. Rd.'}, '2288': {'sna': '桃園市立圖書館龍潭分館', 'tot': '36', 'sbi': '23', 'lat': '24.863704', 'lng': '121.216174', 'bemp': '13', 'act': '1', 'sno': '2288', 'sarea': '龍潭區', 'mday': '20190324143542', 'ar': '中正路210號對面路側', 'sareaen': 'Longtan Dist.', 'snaen': 'Taoyuan City Library Longtan Branch', 'aren': 'No.210, Zhongzheng Rd.(opposite)'}, '2289': {'sna': '台北榮民總醫院桃園分院', 'tot': '46', 'sbi': '25', 'lat': '25.002531', 'lng': '121.323988', 'bemp': '21', 'act': '1', 'sno': '2289', 'sarea': '桃園區', 'mday': '20190324143540', 'ar': '成功路三段三聖路口旁人行道', 'sareaen': 'Taoyuan Dist.', 'snaen': 'Taipei Veterans General Hospital Taoyuan Branch', 'aren': 'Sec. 3, Chenggong Rd./Sansheng Rd.'}, '2290': {'sna': '大竹游泳池', 'tot': '40', 'sbi': '8', 'lat': '25.021193', 'lng': '121.257617', 'bemp': '32', 'act': '1', 'sno': '2290', 'sarea': '蘆竹區', 'mday': '20190324143536', 'ar': '大新一街115號旁空地', 'sareaen': 'Luzhu Dist.', 'snaen': 'Dazhu Swimming Pool', 'aren': 'No.115, Daxin 1st St.'}, '2292': {'sna': '捷運坑口站(A11)', 'tot': '48', 'sbi': '18', 'lat': '25.086895', 'lng': '121.265778', 'bemp': '30', 'act': '1', 'sno': '2292', 'sarea': '蘆竹區', 'mday': '20190324143533', 'ar': '捷運坑口站(A11)出入口前', 'sareaen': 'Luzhu Dist.', 'snaen': 'MRT Kengkou Station(A11)', 'aren': 'Kengkou Station Exit 1'}, '2293': {'sna': '蘆竹親子公園', 'tot': '36', 'sbi': '12', 'lat': '25.059', 'lng': '121.295414', 'bemp': '24', 'act': '1', 'sno': '2293', 'sarea': '蘆竹區', 'mday': '20190324143521', 'ar': '六福路163號對面廣場', 'sareaen': 'Luzhu Dist.', 'snaen': 'Luzhu Parent-child Park ', 'aren': 'No.163, Liufu Rd.'}, '2294': {'sna': '好市多南崁店', 'tot': '30', 'sbi': '17', 'lat': '25.054957', 'lng': '121.282179', 'bemp': '13', 'act': '1', 'sno': '2294', 'sarea': '蘆竹區', 'mday': '20190324143533', 'ar': '南崁路一段369號 前方人行道', 'sareaen': 'Luzhu Dist.', 'snaen': 'Costco Nankan Branch', 'aren': 'No.369, Sec. 1, Nankan Rd.'}, '2295': {'sna': '山頂里集會所', 'tot': '36', 'sbi': '13', 'lat': '24.986224', 'lng': '121.33042', 'bemp': '23', 'act': '1', 'sno': '2295', 'sarea': '龜山區', 'mday': '20190324143521', 'ar': '明興街36號旁人行道及路側', 'sareaen': 'Guishan Dist.', 'snaen': 'Shanding Activity Center', 'aren': 'No.36, Mingsing St.'}, '2296': {'sna': '臻愛家社區', 'tot': '32', 'sbi': '11', 'lat': '24.987167', 'lng': '121.324152', 'bemp': '21', 'act': '1', 'sno': '2296', 'sarea': '龜山區', 'mday': '20190324143522', 'ar': '建國東路31號旁人行道', 'sareaen': 'Guishan Dist.', 'snaen': 'ZhenAiJia Community', 'aren': 'No.31, Jianguo E. Rd.'}, '2297': {'sna': '八德區衛生所', 'tot': '30', 'sbi': '15', 'lat': '24.947541', 'lng': '121.298567', 'bemp': '14', 'act': '1', 'sno': '2297', 'sarea': '八德區', 'mday': '20190324143534', 'ar': '介壽路二段361巷28號前廣場', 'sareaen': 'Bade Dist.', 'snaen': 'Public Health Center of Bade District', 'aren': 'No.28, Ln. 361, Sec. 2, Jieshou Rd.'}, '2298': {'sna': '大埔國小', 'tot': '32', 'sbi': '6', 'lat': '25.030009', 'lng': '121.375351', 'bemp': '26', 'act': '1', 'sno': '2298', 'sarea': '龜山區', 'mday': '20190324143533', 'ar': '振興路1169號前人行道', 'sareaen': 'Guishan Dist.', 'snaen': 'Da Pu Elementary School', 'aren': 'No.1169, Zhenxing Rd.'}, '2299': {'sna': '水汴頭音樂廣場', 'tot': '36', 'sbi': '18', 'lat': '25.023323', 'lng': '121.305316', 'bemp': '18', 'act': '1', 'sno': '2299', 'sarea': '桃園區', 'mday': '20190324143529', 'ar': '鹽庫西街70號對面空地', 'sareaen': 'Taoyuan Dist.', 'snaen': 'Shuibiantou Music Square', 'aren': 'No.70, Yanku W. St.(opposite)'}, '2302': {'sna': '普忠榮民南路口', 'tot': '32', 'sbi': '17', 'lat': '24.949502', 'lng': '121.256339', 'bemp': '14', 'act': '1', 'sno': '2302', 'sarea': '中壢區', 'mday': '20190324143540', 'ar': '普忠路1168號前人行道', 'sareaen': 'Zhongli Dist.', 'snaen': 'Puzhong & Rongmin S. Rd. Intersection', 'aren': 'Puzhong Rd./Rongmin S. Rd.'}, '2303': {'sna': '龍岡停車場', 'tot': '36', 'sbi': '14', 'lat': '24.930088', 'lng': '121.253064', 'bemp': '21', 'act': '1', 'sno': '2303', 'sarea': '中壢區', 'mday': '20190324143537', 'ar': '龍東路202號機車停車場', 'sareaen': 'Zhongli Dist.', 'snaen': 'Longgang Parking Lot', 'aren': 'No.202, Longdong Rd.'}, '2304': {'sna': '平鎮市廿公園', 'tot': '40', 'sbi': '13', 'lat': '24.942799', 'lng': '121.218962', 'bemp': '27', 'act': '1', 'sno': '2304', 'sarea': '平鎮區', 'mday': '20190324143544', 'ar': '德育路二段104號對向人行道上', 'sareaen': 'Pingzhen Dist.', 'snaen': 'Pingzhen No.20 Park', 'aren': 'No.104, Sec. 2, Deyu Rd.(opposite)'}, '2305': {'sna': '復興路大同路200巷口', 'tot': '44', 'sbi': '23', 'lat': '24.989177', 'lng': '121.306037', 'bemp': '21', 'act': '1', 'sno': '2305', 'sarea': '桃園區', 'mday': '20190324143531', 'ar': '復興路293號旁停車場', 'sareaen': 'Taoyuan Dist.', 'snaen': 'Fuxing Rd. & Ln. 200 Datong Rd.', 'aren': 'No.293, Fusing Rd.'}, '2308': {'sna': '中山路裕和街口', 'tot': '34', 'sbi': '20', 'lat': '24.980741', 'lng': '121.274497', 'bemp': '14', 'act': '1', 'sno': '2308', 'sarea': '桃園區', 'mday': '20190324143529', 'ar': '中山路1306號旁人行道', 'sareaen': 'Taoyuan Dist.', 'snaen': 'Zhongshan Rd. & Yuhe St. Intersection', 'aren': 'No.1306, Zhongshan Rd.'}}}\n"
     ]
    }
   ],
   "source": [
    "import urllib.request, json\n",
    "url = 'https://data.tycg.gov.tw/opendata/datalist/datasetMeta/download?id=5ca2bfc7-9ace-4719-88ae-4034b9a5a55c&rid=a1b4714b-3b75-4ff8-a8f2-cc377e4eaa0f'\n",
    "with urllib.request.urlopen(url) as jsonfile:\n",
    "    data = json.loads(jsonfile.read().decode())\n",
    "    print(data)"
   ]
  },
  {
   "cell_type": "code",
   "execution_count": 4,
   "metadata": {},
   "outputs": [
    {
     "name": "stdout",
     "output_type": "stream",
     "text": [
      "19/60\t中央大學圖書館\n",
      "15/52\t中壢高中\n",
      "19/54\t中正公園(中美路)\n",
      "44/114\t中壢火車站(前站)\n",
      "67/82\t中原大學\n",
      "28/58\t銀河廣場\n",
      "18/40\t中壢區公所\n",
      "14/58\t新明橋\n",
      "28/46\t翠堤橋\n",
      "12/30\t中壢國小\n",
      "12/30\t莒光公園\n",
      "16/40\t中壢火車站(後站)\n",
      "21/82\t桃園市立圖書館桃園分館\n",
      "33/58\t捷運長庚醫院站(A8)\n",
      "16/48\t文化三復興一路口\n",
      " 5/36\t大坪頂公園\n",
      "10/40\t中正公園(元化路)\n",
      "17/38\t中壢區聯合辦公大樓\n",
      "27/44\t民族公園\n",
      "13/40\t朝陽森林公園\n",
      "20/70\t桃園延平公園\n",
      "19/38\t福豐公園\n",
      "30/70\t桃園火車站(後站)\n",
      "11/38\t桃園建國公園\n",
      "38/60\t國立陽明高中\n",
      "13/46\t夢幻公園\n",
      "15/50\t內壢自強公園\n",
      "13/40\t內壢復興公園\n",
      "28/64\t元智大學\n",
      "12/38\t同德國中\n",
      "25/50\t桃園展演中心(同德六街)\n",
      "22/70\t東溪綠園\n",
      "30/56\t桃園市立圖書館平鎮分館\n",
      "30/48\t新勢公園\n",
      "29/50\t三民運動公園\n",
      "21/36\t復興廣德街口\n",
      "16/34\t桃園展演中心(中正路)\n",
      "28/56\t國強公園\n",
      " 9/34\t新埔公園\n",
      "17/30\t信義國小\n",
      "22/46\t桃園市立圖書館大林分館\n",
      "10/66\t桃園火車站(前站)\n",
      " 6/40\t瑞慶公園\n",
      "13/32\t中寧公園\n",
      " 9/42\t陽明運動公園\n",
      " 7/42\t大業國小\n",
      "14/32\t大有國中\n",
      "23/48\t莊敬廣場\n",
      "12/42\t吉林路吉利六街口\n",
      " 8/44\t龍岡森林公園\n",
      " 5/42\t君臨公園\n",
      "12/36\t中國科技大樓\n",
      "14/36\t光明國小\n",
      " 4/34\t桃園龍岡公園\n",
      " 8/40\t桃園龍鳳公園\n",
      "24/46\t桃園市政府文化局\n",
      "36/74\t成功春日路口\n",
      "22/50\t忠孝廣場\n",
      "11/40\t忠福廣場\n",
      "31/50\t健行科技大學\n",
      "25/50\t啟英高中\n",
      "12/42\t內壢文化公園\n",
      "40/60\t萬能科技大學\n",
      " 7/34\t中德里休閒廣場\n",
      "46/72\t桃園巨蛋\n",
      "22/40\t龜山區公所\n",
      "28/36\t龜山國中\n",
      " 5/32\t西門綠園\n",
      "26/34\t衛福部桃園醫院\n",
      "16/44\t環中東永福路口\n",
      "18/34\t南崁高中\n",
      "20/36\t蘆竹區婦幼館\n",
      "13/36\t光明河濱公園\n",
      "39/56\t開南大學\n",
      "14/44\t蘆竹吉林公園\n",
      " 5/36\t大和休閒廣場\n",
      " 9/50\t月眉停車場\n",
      " 9/44\t大溪中正公園\n",
      "10/58\t忠孝兒童遊樂場\n",
      "36/74\t桃園市政府\n",
      "12/42\t五權公園\n",
      "13/36\t中壢新興公園\n",
      "22/50\t桃園市立圖書館內壢分館\n",
      "14/34\t宋屋公園\n",
      "43/58\t中央大學依仁堂\n",
      "10/34\t桃園市立圖書館龍岡分館\n",
      "11/32\t思源公園\n",
      "15/40\t廣豐公園\n",
      "18/42\t大湳公園\n",
      "18/36\t廣仁公園\n",
      "17/34\t新寶公園\n",
      "11/38\t平鎮區婦幼館\n",
      "19/36\t文化二復興三路口\n",
      "10/38\t大華公園\n",
      "10/32\t璟都江山社區\n",
      " 8/32\t捷運體育大學站(A7)\n",
      "16/22\t捷運山鼻站(A10)\n",
      "20/32\t捷運大園站(A15)\n",
      "18/40\t捷運領航站(A17)\n",
      "26/62\t捷運高鐵桃園站(A18)\n",
      "11/30\t捷運桃園體育園區站(A19)\n",
      "13/40\t捷運環北站(A21)\n",
      "17/36\t青埔國中\n",
      "11/38\t領航公園\n",
      "12/38\t仁祥公園\n",
      " 9/34\t篤行公園\n",
      "14/34\t桃園市政府警察局桃園分局\n",
      "17/34\t慈文國中\n",
      " 7/42\t同新公園\n",
      "12/34\t桃園永康公園\n",
      "15/40\t桃園市立游泳池\n",
      " 8/34\t寶山公園\n",
      " 7/40\t國強一街上海路口\n",
      "20/38\t青溪公園\n",
      "12/36\t甲蟲公園\n",
      "15/38\t中壢中央公園\n",
      "23/40\t新榮公園\n",
      "22/30\t重慶公園\n",
      "25/36\t文青路\n",
      "27/50\t龜山國小\n",
      " 9/38\t文興公園\n",
      "32/40\t迴龍國中小\n",
      "18/48\t大同公園\n",
      " 6/36\t樂善公園\n",
      "26/40\t蘆竹區公所\n",
      "15/36\t峻德宮\n",
      "15/34\t桃園龍山國小\n",
      "14/34\t桃園假日農業創意市集\n",
      " 9/26\t桃禧航空城酒店\n",
      "16/36\t老街溪停車場\n",
      " 9/34\t大中華幼兒園\n",
      "17/36\t華興池\n",
      "10/34\t東安國中\n",
      " 0/24\t大湖福德宮\n",
      "12/34\t中央警察大學\n",
      "25/38\t桃園酒廠\n",
      "18/36\t五福停車場\n",
      "10/38\t大竹國小\n",
      " 3/32\t中興環保公園\n",
      "10/60\t桃園中正公園(同安街)\n",
      "22/38\t建新公園\n",
      "16/34\t中正一正康一街口\n",
      "21/32\t平鎮和平公園\n",
      "10/30\t莊敬里民集會所\n",
      "15/30\t中豐坤慶路口\n",
      "14/32\t廣南停車場\n",
      "26/38\t龍潭大池(龍元路)\n",
      "19/38\t龍潭運動公園(北龍路)\n",
      " 8/30\t黎明公園\n",
      "19/48\t興仁公園\n",
      "14/32\t自立新村(榮安一街)\n",
      "12/30\t晉元路仁德一街口\n",
      "11/32\t龍和公園\n",
      "16/36\t萬壽中興路口\n",
      "26/40\t大同西路簡易公園\n",
      "16/66\t霖園兒童公園\n",
      "24/44\t家樂福經國店\n",
      "19/34\t玉山公園\n",
      "20/32\t會稽國中\n",
      "22/42\t國立體育大學綜合體育館\n",
      "12/34\t和盛公園\n",
      "15/50\t楊梅火車站(前站)\n",
      "21/38\t楊明國中\n",
      " 0/46\t楊梅國中\n",
      "10/32\t經國國中\n",
      "11/34\t獅子林社區活動中心\n",
      "11/34\t紫雲宮\n",
      "12/38\t民俗文化公園\n",
      "15/40\t風禾公園\n",
      "23/36\t財政部北區國稅局桃園分局\n",
      " 7/36\t桃園觀光夜市旅客服務中心\n",
      "33/60\t大園國際高中\n",
      " 8/32\t同福公園\n",
      " 8/44\t大勇國小\n",
      " 8/38\t上海南京路口\n",
      "15/40\t常樂公園\n",
      " 7/30\t金鋒太子\n",
      " 7/32\t華愛兒童公園\n",
      "16/34\t南榮公園\n",
      "17/36\t龍潭行政園區\n",
      "16/30\t過嶺國中\n",
      "14/22\t南方莊園\n",
      "34/38\t工四工業區(頂湖路)\n",
      "20/58\t陸光河濱公園\n",
      "13/32\t山福里集會所\n",
      "11/32\t大檜溪公園\n",
      "29/38\t大園國中\n",
      "16/32\t清華高中\n",
      "13/42\t觀音高中\n",
      "21/36\t溫州公園\n",
      " 9/34\t忠愛公園\n",
      "21/32\t南亞技術學院\n",
      " 7/38\t華勛公園\n",
      "10/32\t中山親水公園\n",
      "11/42\t楓樹公園\n",
      "10/36\t伯公岡公園\n",
      "10/40\t中央造幣廠\n",
      " 8/48\t青塘園\n",
      "12/30\t龍安公園\n",
      "13/36\t埔頂公園\n",
      "14/34\t文化花園夜市\n",
      "13/30\t平鎮魚形公園\n",
      "16/42\t大溪河濱公園\n",
      "10/32\t大明公園\n",
      " 8/36\t國軍桃園總醫院\n",
      "14/34\t元聖宮\n",
      "13/44\t大江購物中心\n",
      "18/36\t老街溪河川教育中心\n",
      "26/40\t美光晶圓公司\n",
      " 3/34\t兒九公園\n",
      " 8/32\t永定二保定三街89巷口\n",
      " 9/34\t八德霖園公園\n",
      "16/38\t建德公園\n",
      "15/30\t龍岡圓環\n",
      "11/34\t成功國小\n",
      "15/30\t新福大新一街口\n",
      "10/32\t龍安國小\n",
      "15/36\t綠九公園\n",
      "10/32\t內厝社區活動中心\n",
      "18/36\t龍岡大操場\n",
      "10/32\t普忠路770巷口\n",
      "11/34\t青埔國小\n",
      "13/38\t南崁溪自行車道(長壽路口)\n",
      "16/36\t山仔頂公園\n",
      " 7/42\t桃園區南平運動中心\n",
      "15/32\t溪濱公園\n",
      "11/38\t豐德公園\n",
      " 1/32\t八德仁德公園\n",
      " 9/32\t中德里市民活動中心\n",
      "29/36\t茄明里集會所\n",
      " 8/40\t向陽公園\n",
      " 6/36\t國豐公園\n",
      "11/34\t公七公園\n",
      "15/32\t義興公園\n",
      " 8/34\t上興公園\n",
      " 5/32\t至善綠園\n",
      "15/30\t仁和國小\n",
      " 9/30\t青松農場\n",
      "22/32\t富岡車站\n",
      " 9/36\t北門國小\n",
      "13/26\t菓林國小\n",
      "11/32\t大魯閣(中正路)\n",
      "18/38\t同安國小\n",
      "26/36\t文昌國中\n",
      "12/34\t蘆竹區聯合辦公大樓\n",
      "11/32\t桃園市立圖書館山腳分館\n",
      " 9/30\t桃園市客家文化館\n",
      "14/28\t百年大鎮社區\n",
      " 9/40\t十大觀光小城公園\n",
      "26/40\t八德興豐公園\n",
      " 8/30\t八德藝文廣場\n",
      " 7/32\t茄明公園\n",
      "18/40\t大忠停車場\n",
      "11/38\t龜山中正公園\n",
      "11/36\t大仁里遊樂場\n",
      "10/36\t萬坪公園\n",
      "19/40\t龍興國中\n",
      "10/28\t竹風青田\n",
      "12/30\t新福二路大仁街口\n",
      " 5/32\t龍安里集會所\n",
      " 8/32\t四維兒童公園\n",
      "20/42\t新屋區公所\n",
      "18/40\t國信公園\n",
      "20/40\t經國幸福路口\n",
      " 4/38\t中壢仁德公園\n",
      " 8/40\t八德楓樹腳公園\n",
      " 7/40\t龍慈龍和三街口\n",
      "11/30\t功學社新村\n",
      " 7/24\t海湖農會\n",
      "21/36\t桃園市立圖書館龍潭分館\n",
      "39/46\t台北榮民總醫院桃園分院\n",
      "14/40\t大竹游泳池\n",
      "20/48\t捷運坑口站(A11)\n",
      "18/36\t蘆竹親子公園\n",
      "18/30\t好市多南崁店\n",
      "13/36\t山頂里集會所\n",
      "17/32\t臻愛家社區\n",
      " 2/30\t八德區衛生所\n",
      " 5/32\t大埔國小\n",
      "27/36\t水汴頭音樂廣場\n",
      "18/32\t普忠榮民南路口\n",
      "28/36\t龍岡停車場\n",
      "12/40\t平鎮市廿公園\n",
      "25/44\t復興路大同路200巷口\n",
      "21/34\t中山路裕和街口\n"
     ]
    }
   ],
   "source": [
    "import urllib.request, json\n",
    "url = 'https://data.tycg.gov.tw/opendata/datalist/datasetMeta/download?id=5ca2bfc7-9ace-4719-88ae-4034b9a5a55c&rid=a1b4714b-3b75-4ff8-a8f2-cc377e4eaa0f'\n",
    "with urllib.request.urlopen(url) as jsonfile:\n",
    "    data = json.loads(jsonfile.read().decode())\n",
    "    for k in data['retVal'].keys():\n",
    "        print(\"{:>2}/{:>2}\\t{}\".format(\n",
    "            data['retVal'][k]['sbi'],\n",
    "            data['retVal'][k]['tot'],\n",
    "            data['retVal'][k]['sna']))"
   ]
  },
  {
   "cell_type": "code",
   "execution_count": 11,
   "metadata": {},
   "outputs": [
    {
     "name": "stdout",
     "output_type": "stream",
     "text": [
      "Done!\n"
     ]
    }
   ],
   "source": [
    "import urllib.request, json\n",
    "url = 'https://data.tycg.gov.tw/opendata/datalist/datasetMeta/download?id=5ca2bfc7-9ace-4719-88ae-4034b9a5a55c&rid=a1b4714b-3b75-4ff8-a8f2-cc377e4eaa0f'\n",
    "with urllib.request.urlopen(url) as jsonfile:\n",
    "    data = json.loads(jsonfile.read().decode())\n",
    "    msg = \"<table>\"\n",
    "    for k in data['retVal'].keys():\n",
    "        msg += \"<tr><td>{:>2}</td><td>{:>2}</td><td>{}</td></tr>\".format(\n",
    "            data['retVal'][k]['sbi'],\n",
    "            data['retVal'][k]['tot'],\n",
    "            data['retVal'][k]['sna'])\n",
    "    msg += \"</table>\"\n",
    "    \n",
    "html = \"\"\"\n",
    "<!DOCTYPE html>\n",
    "<html>\n",
    "  <head>\n",
    "    <title>{}</title>\n",
    "  </head>\n",
    "  <body>\n",
    "  {}\n",
    "  </body>\n",
    "</html>\n",
    "\"\"\".format(\"桃園公共自行車各站可租數量\", msg)\n",
    "with open(\"taoyouan-bike-v1.html\", \"wt\", encoding='utf-8') as fp:\n",
    "    fp.write(html)\n",
    "print(\"Done!\")"
   ]
  },
  {
   "cell_type": "code",
   "execution_count": 12,
   "metadata": {},
   "outputs": [
    {
     "name": "stdout",
     "output_type": "stream",
     "text": [
      "<!DOCTYPE html>\n",
      "<html>\n",
      "  <head>\n",
      "    <title>My Title</title>\n",
      "  </head>\n",
      "  <body></body>\n",
      "</html>\n"
     ]
    }
   ],
   "source": [
    "from dominate import document\n",
    "html = document(\"My Title\")\n",
    "print(html)"
   ]
  },
  {
   "cell_type": "code",
   "execution_count": 19,
   "metadata": {},
   "outputs": [
    {
     "name": "stdout",
     "output_type": "stream",
     "text": [
      "<!DOCTYPE html>\n",
      "<html>\n",
      "  <head>\n",
      "    <title>桃園公共自行車各站可租數量</title>\n",
      "    <meta charset=\"utf-8\">\n",
      "  </head>\n",
      "  <body>\n",
      "    <h1>這是一個示範網頁</h1>\n",
      "    <hr>\n",
      "    <p>這是一個段落</p>\n",
      "    <p>這是另外一個段落，以下示範的是清單</p>\n",
      "    <ul>\n",
      "      <li>第一點</li>\n",
      "      <li>這是第二點</li>\n",
      "    </ul>\n",
      "  </body>\n",
      "</html>\n"
     ]
    }
   ],
   "source": [
    "from dominate import document\n",
    "from dominate.tags import *\n",
    "html = document(\"桃園公共自行車各站可租數量\")\n",
    "with html.head:\n",
    "    meta(charset='utf-8')\n",
    "with html.body:\n",
    "    h1(\"這是一個示範網頁\")\n",
    "    hr()\n",
    "    p(\"這是一個段落\")\n",
    "    p(\"這是另外一個段落，以下示範的是清單\")\n",
    "    items = ul()\n",
    "    items += li(\"第一點\")\n",
    "    items += li(\"這是第二點\")\n",
    "with open(\"sample.html\", \"wt\", encoding='utf-8') as fp:\n",
    "    fp.write(html)\n",
    "print(\"Done!\")"
   ]
  },
  {
   "cell_type": "code",
   "execution_count": 22,
   "metadata": {},
   "outputs": [
    {
     "name": "stdout",
     "output_type": "stream",
     "text": [
      "Done!\n"
     ]
    }
   ],
   "source": [
    "#以表格的方式呈現公共自行車租借站資訊\n",
    "import dominate\n",
    "from dominate.tags import *\n",
    "import urllib.request, json\n",
    "url = 'https://data.tycg.gov.tw/opendata/datalist/datasetMeta/download?id=5ca2bfc7-9ace-4719-88ae-4034b9a5a55c&rid=a1b4714b-3b75-4ff8-a8f2-cc377e4eaa0f'\n",
    "with urllib.request.urlopen(url) as jsonfile:\n",
    "    data = json.loads(jsonfile.read().decode())\n",
    "html = dominate.document(title=\"桃園公共自行車各站可租數量\")\n",
    "with html.head:\n",
    "    meta(charset=\"utf-8\")\n",
    "with html:\n",
    "    h1(\"桃園公共自行車各站可租數量\")\n",
    "    hr()\n",
    "    with table():     \n",
    "        head = tr(bgcolor='#888888')\n",
    "        head += td(\"站名\")\n",
    "        head += td(\"可租數量\")\n",
    "        head += td(\"自行車總量\")\n",
    "        head += td(\"本站位置\")\n",
    "        for index, k in enumerate(data['retVal'].keys()):\n",
    "            if index % 2 == 0:\n",
    "                row = tr(bgcolor='#ccffcc')\n",
    "            else:\n",
    "                row = tr(bgcolor='#ffccff')\n",
    "            row += td(data['retVal'][k]['sna'])\n",
    "            row += td(data['retVal'][k]['sbi'])\n",
    "            row += td(data['retVal'][k]['tot'])\n",
    "            row += td(data['retVal'][k]['ar'])\n",
    "with open(\"taoyuan-bike-list.html\", \"wt\", encoding='utf-8') as fp:\n",
    "    fp.write(str(html))\n",
    "print(\"Done!\")"
   ]
  },
  {
   "cell_type": "code",
   "execution_count": 26,
   "metadata": {
    "scrolled": true
   },
   "outputs": [
    {
     "name": "stdout",
     "output_type": "stream",
     "text": [
      "Done!\n"
     ]
    }
   ],
   "source": [
    "import dominate\n",
    "from dominate.tags import *\n",
    "from dominate.util import raw\n",
    "import urllib.request, json\n",
    "url = 'https://data.tycg.gov.tw/opendata/datalist/datasetMeta/download?id=5ca2bfc7-9ace-4719-88ae-4034b9a5a55c&rid=a1b4714b-3b75-4ff8-a8f2-cc377e4eaa0f'\n",
    "with urllib.request.urlopen(url) as jsonfile:\n",
    "    data = json.loads(jsonfile.read().decode())\n",
    "html = dominate.document(title=\"桃園公共自行車各站可租數量\")\n",
    "with html.head:\n",
    "    meta(charset=\"utf-8\")\n",
    "    script(src=\"http://code.jquery.com/jquery-3.3.1.slim.js\", \n",
    "           integrity=\"sha256-fNXJFIlca05BIO2Y5zh1xrShK3ME+/lYZ0j+ChxX2DA=\",\n",
    "           crossorigin=\"anonymous\")\n",
    "    cmd = '''\n",
    "$(document).ready(function() {\n",
    "    $(\"#bike-station\").change(function() {\n",
    "        $('#target').html($(\"select option:selected\").val())\n",
    "    });\n",
    "});\n",
    "'''\n",
    "    script(raw(cmd))\n",
    "with html:\n",
    "    h1(\"桃園公共自行車各站可租數量查詢\")\n",
    "    hr()\n",
    "    p(\"請選擇自行車租借站：\")\n",
    "    with form(method=\"POST\"):\n",
    "        with select(id='bike-station'):\n",
    "            for k in data['retVal'].keys():\n",
    "                option(value=\"{}/{}\".format(\n",
    "                    data['retVal'][k]['sbi'],\n",
    "                    data['retVal'][k]['tot'])).add(\n",
    "                    data['retVal'][k]['sna'])\n",
    "    d = div()\n",
    "    d += h3(\"可租借數量/總數：\")\n",
    "    d += span(id=\"target\")\n",
    "with open(\"taoyuan-bike.html\", \"wt\", encoding='utf-8') as fp:\n",
    "    fp.write(str(html))\n",
    "print(\"Done!\")"
   ]
  },
  {
   "cell_type": "code",
   "execution_count": null,
   "metadata": {
    "collapsed": true
   },
   "outputs": [],
   "source": []
  }
 ],
 "metadata": {
  "kernelspec": {
   "display_name": "Python 3",
   "language": "python",
   "name": "python3"
  },
  "language_info": {
   "codemirror_mode": {
    "name": "ipython",
    "version": 3
   },
   "file_extension": ".py",
   "mimetype": "text/x-python",
   "name": "python",
   "nbconvert_exporter": "python",
   "pygments_lexer": "ipython3",
   "version": "3.6.2"
  }
 },
 "nbformat": 4,
 "nbformat_minor": 2
}
