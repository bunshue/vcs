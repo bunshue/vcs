{
 "cells": [
  {
   "cell_type": "code",
   "execution_count": null,
   "metadata": {},
   "outputs": [],
   "source": [
    "from urllib.parse import urlparse\n",
    "u = urlparse(\"https://tw.stock.yahoo.com/news_list/url/d/e/N1.html?q=&pg=4\")\n",
    "print(u.netloc)\n",
    "print(u.path)\n",
    "print(u.query)"
   ]
  },
  {
   "cell_type": "code",
   "execution_count": null,
   "metadata": {},
   "outputs": [],
   "source": [
    "url = \"https://tw.stock.yahoo.com/news_list/url/d/e/N1.html?q=&pg={}\"\n",
    "for i in range(1,6):\n",
    "    print(url.format(i))"
   ]
  },
  {
   "cell_type": "code",
   "execution_count": null,
   "metadata": {},
   "outputs": [],
   "source": [
    "url = \"https://tw.stock.yahoo.com/news_list/url/d/e/N{}.html?q=&pg={}\"\n",
    "for t in [1, 997, 4]:\n",
    "    for i in range(1,6):\n",
    "        print(url.format(t, i))"
   ]
  },
  {
   "cell_type": "code",
   "execution_count": null,
   "metadata": {},
   "outputs": [],
   "source": [
    "import requests\n",
    "url = \"https://tw.stock.yahoo.com/news_list/url/d/e/N4.html\"\n",
    "html = requests.get(url).text\n",
    "print(html)"
   ]
  },
  {
   "cell_type": "code",
   "execution_count": null,
   "metadata": {},
   "outputs": [],
   "source": [
    "import requests\n",
    "import re\n",
    "url = \"https://tw.stock.yahoo.com/news_list/url/d/e/N4.html\"\n",
    "html = requests.get(url).text\n",
    "print(re.sub(r\"<script.*>.*</script>\", \"\", html))"
   ]
  },
  {
   "cell_type": "code",
   "execution_count": null,
   "metadata": {},
   "outputs": [],
   "source": [
    "import requests\n",
    "url = \"https://www.books.com.tw/web/sys_saletopb/books/19/?loc=P_0002_020\"\n",
    "html = requests.get(url).text\n",
    "print(type(html))\n",
    "print(\"Python這個字在排行榜中裡面出現了{}次\".format(\n",
    "    html.count(\"Python\")+html.count(\"python\")))"
   ]
  },
  {
   "cell_type": "code",
   "execution_count": null,
   "metadata": {},
   "outputs": [],
   "source": [
    "import requests\n",
    "url = \"https://www.books.com.tw/web/sys_saletopb/books/19/?loc=P_0002_020\"\n",
    "html = requests.get(url).text\n",
    "keyword = input(\"請問你要查詢的字串(end to quit)：\")\n",
    "while keyword != 'end':\n",
    "    print(\"{}這個字在排行榜中裡面出現了{}次\".format(\n",
    "        keyword, html.count(keyword)))\n",
    "    keyword = input(\"請問你要查詢的字串：\")"
   ]
  },
  {
   "cell_type": "code",
   "execution_count": null,
   "metadata": {},
   "outputs": [],
   "source": [
    "import requests\n",
    "from bs4 import BeautifulSoup\n",
    "url = \"http://aiworker2000.pixnet.net/blog/post/16062839\"\n",
    "html = requests.get(url).text\n",
    "soup = BeautifulSoup(html, \"lxml\")\n",
    "print(type(soup))\n",
    "print(dir(soup))"
   ]
  },
  {
   "cell_type": "code",
   "execution_count": null,
   "metadata": {},
   "outputs": [],
   "source": [
    "import requests\n",
    "from bs4 import BeautifulSoup\n",
    "url = \"http://aiworker2000.pixnet.net/blog/post/16062839\"\n",
    "html = requests.get(url).text\n",
    "soup = BeautifulSoup(html, \"lxml\")\n",
    "images = soup.find_all(\"img\")\n",
    "for image in images:\n",
    "    print(image[\"src\"])"
   ]
  },
  {
   "cell_type": "code",
   "execution_count": null,
   "metadata": {},
   "outputs": [],
   "source": [
    "import requests\n",
    "import os\n",
    "from os.path import basename\n",
    "from bs4 import BeautifulSoup\n",
    "import urllib.request\n",
    "url = \"http://aiworker2000.pixnet.net/blog/post/16062839\"\n",
    "html = requests.get(url).text\n",
    "soup = BeautifulSoup(html, \"lxml\")\n",
    "images = soup.find_all(\"img\")\n",
    "if not os.path.exists(\"images\"):\n",
    "    os.mkdir(\"images\")\n",
    "for image in images:\n",
    "    image_url = image[\"src\"]\n",
    "    if \".jpg\" in image_url:\n",
    "        image_filename = basename(image_url)\n",
    "        with open(os.path.join(\"images\", image_filename), \"wb\") as fp:\n",
    "            image_data = urllib.request.urlopen(image_url).read()\n",
    "            fp.write(image_data)\n",
    "        print(image_url)\n",
    "        print(image_filename)"
   ]
  },
  {
   "cell_type": "code",
   "execution_count": null,
   "metadata": {},
   "outputs": [],
   "source": [
    "import requests\n",
    "from bs4 import BeautifulSoup\n",
    "url = \"https://www.books.com.tw/web/sys_saletopb/books/19/?loc=P_0002_020\"\n",
    "html = requests.get(url).text\n",
    "soup = BeautifulSoup(html, \"lxml\")\n",
    "images = soup.find_all(\"img\")\n",
    "for image in images:\n",
    "    if \".jpg\" in image['src'] or \".png\" in image['src']:\n",
    "        print(image['src'])"
   ]
  },
  {
   "cell_type": "code",
   "execution_count": null,
   "metadata": {},
   "outputs": [],
   "source": [
    "import requests\n",
    "from bs4 import BeautifulSoup\n",
    "url = \"https://www.books.com.tw/web/sys_saletopb/books/19/?loc=P_0002_020\"\n",
    "html = requests.get(url).text\n",
    "soup = BeautifulSoup(html, \"lxml\")\n",
    "links = soup.find_all(\"a\")\n",
    "for link in links:\n",
    "    if \"http\" in link['href']:\n",
    "        print(link['href'])"
   ]
  },
  {
   "cell_type": "code",
   "execution_count": null,
   "metadata": {},
   "outputs": [],
   "source": [
    "import requests\n",
    "from bs4 import BeautifulSoup\n",
    "url = \"https://www.books.com.tw/web/sys_saletopb/books/19/?loc=P_0002_020\"\n",
    "html = requests.get(url).text\n",
    "soup = BeautifulSoup(html, \"lxml\")\n",
    "titles = soup.find_all(\"img\", {\"class\":\"cover\"})\n",
    "for i, title in enumerate(titles):\n",
    "    print(\"第{}名：{}\".format(i+1, title['alt']))"
   ]
  },
  {
   "cell_type": "code",
   "execution_count": null,
   "metadata": {},
   "outputs": [],
   "source": [
    "import requests\n",
    "from bs4 import BeautifulSoup\n",
    "url = \"https://www.books.com.tw/web/sys_saletopb/books/19/?loc=P_0002_020\"\n",
    "html = requests.get(url).text\n",
    "soup = BeautifulSoup(html, \"lxml\")\n",
    "books = soup.find_all(\"li\", {\"class\":\"item\"})\n",
    "for i, book in enumerate(books):\n",
    "    print(\"第{}名：\".format(i+1), end=\"\")\n",
    "    print(book.find(\"img\")['alt'])\n",
    "    for info in book.find(\"ul\").find_all(\"li\"):\n",
    "        print(info.text)\n",
    "    print()\n",
    "    "
   ]
  },
  {
   "cell_type": "code",
   "execution_count": null,
   "metadata": {},
   "outputs": [],
   "source": [
    "import requests\n",
    "from bs4 import BeautifulSoup\n",
    "url = \"https://www.edu.tw/News.aspx?n=9E7AC85F1954DDA8&sms=169B8E91BB75571F\"\n",
    "html = requests.get(url).text\n",
    "soup = BeautifulSoup(html, \"lxml\")\n",
    "table = soup.find(\"table\")\n",
    "for row in soup.find_all(\"tr\"):\n",
    "    cells = row.find_all(\"td\")\n",
    "    for cell in cells:\n",
    "        a = cell.find(\"a\")\n",
    "        if a is not None:\n",
    "            print(a.text)"
   ]
  },
  {
   "cell_type": "code",
   "execution_count": null,
   "metadata": {},
   "outputs": [],
   "source": [
    "import requests\n",
    "from bs4 import BeautifulSoup\n",
    "url = \"https://www.edu.tw/News.aspx?n=9E7AC85F1954DDA8&sms=169B8E91BB75571F\"\n",
    "html = requests.get(url).text\n",
    "soup = BeautifulSoup(html, \"lxml\")\n",
    "table = soup.find(\"table\")\n",
    "headlines = list()\n",
    "for row in soup.find_all(\"tr\"):\n",
    "    cells = row.find_all(\"td\")\n",
    "    for cell in cells:\n",
    "        a = cell.find(\"a\")\n",
    "        if a is not None and a.text != \"下一頁\":\n",
    "            headlines.append(a.text)\n",
    "news = \"\\n\".join(headlines)\n",
    "with open(\"eduheadlines.txt\", \"wt\", encoding=\"utf-8\") as fp:\n",
    "    fp.write(news)\n",
    "print(\"Done!\")"
   ]
  },
  {
   "cell_type": "code",
   "execution_count": null,
   "metadata": {},
   "outputs": [],
   "source": [
    "import dominate\n",
    "from dominate.tags import *\n",
    "from dominate.util import raw\n",
    "import urllib.request, json\n",
    "import requests\n",
    "import os\n",
    "from os.path import basename\n",
    "from bs4 import BeautifulSoup\n",
    "import urllib.request\n",
    "url = \"http://aiworker2000.pixnet.net/blog/post/16062839\"\n",
    "index_html = dominate.document(title=\"圖形檔案索引\")\n",
    "with index_html.head:\n",
    "    meta(charset=\"utf-8\")\n",
    "with index_html:\n",
    "    h1(\"圖形檔案索引\")\n",
    "    hr()\n",
    "    html = requests.get(url).text\n",
    "    soup = BeautifulSoup(html, \"lxml\")\n",
    "    images = soup.find_all(\"img\")\n",
    "    if not os.path.exists(\"images\"):\n",
    "        os.mkdir(\"images\")\n",
    "    for image in images:\n",
    "        image_url = image[\"src\"]\n",
    "        if \".jpg\" in image_url:\n",
    "            image_filename = basename(image_url)\n",
    "            image_link = a(href=image_filename)\n",
    "            image_link += img(src=image_filename, width=200)\n",
    "            with open(os.path.join(\"images\", image_filename), \"wb\") as fp:\n",
    "                image_data = urllib.request.urlopen(image_url).read()\n",
    "                fp.write(image_data)\n",
    "with open(os.path.join(\"images\", \"index.html\"), \"wt\", encoding='utf-8') as fp:\n",
    "    fp.write(str(index_html))\n",
    "print(\"Done!\")"
   ]
  },
  {
   "cell_type": "code",
   "execution_count": null,
   "metadata": {},
   "outputs": [],
   "source": [
    "from bs4 import BeautifulSoup\n",
    "import requests\n",
    "url = \"https://tw.appledaily.com/new/realtime/\"\n",
    "html = requests.get(url).text\n",
    "soup = BeautifulSoup(html, \"lxml\")\n",
    "headlines = soup.find(\"ul\", {\"class\": \"rtddd slvl\"})\n",
    "items = headlines.find_all(\"li\")\n",
    "for item in items:\n",
    "    print(item.find(\"h1\").text)\n",
    "    print(item.find(\"a\")[\"href\"])\n",
    "    print()"
   ]
  },
  {
   "cell_type": "code",
   "execution_count": null,
   "metadata": {},
   "outputs": [],
   "source": [
    "from bs4 import BeautifulSoup\n",
    "import time, random\n",
    "import requests\n",
    "url = \"https://tw.appledaily.com/new/realtime/\"\n",
    "html = requests.get(url).text\n",
    "soup = BeautifulSoup(html, \"lxml\")\n",
    "headlines = soup.find(\"ul\", {\"class\": \"rtddd slvl\"})\n",
    "items = headlines.find_all(\"li\")\n",
    "for item in items:\n",
    "    time.sleep(random.randint(0,2))\n",
    "    content_url = item.find(\"a\")[\"href\"]\n",
    "    print(content_url)\n",
    "    content = requests.get(content_url).text\n",
    "    content_soup = BeautifulSoup(content, \"lxml\")\n",
    "    title = content_soup.find(\"h1\")\n",
    "    print(title.text)\n",
    "    article = content_soup.find(\"article\", {\"class\":\"ndArticle_content clearmen\"})\n",
    "    print(article.find(\"p\").text)"
   ]
  },
  {
   "cell_type": "code",
   "execution_count": null,
   "metadata": {
    "collapsed": true
   },
   "outputs": [],
   "source": [
    "from bs4 import BeautifulSoup\n",
    "import time, random\n",
    "import sqlite3\n",
    "import requests\n",
    "url = \"https://tw.appledaily.com/new/realtime/\"\n",
    "dbfile = \"applenews.db\"\n",
    "conn = sqlite3.connect(dbfile)\n",
    "html = requests.get(url).text\n",
    "soup = BeautifulSoup(html, \"lxml\")\n",
    "headlines = soup.find(\"ul\", {\"class\": \"rtddd slvl\"})\n",
    "items = headlines.find_all(\"li\")\n",
    "for item in items:\n",
    "    time.sleep(random.randint(0,2))\n",
    "    content_url = item.find(\"a\")[\"href\"]\n",
    "    content = requests.get(content_url).text\n",
    "    content_soup = BeautifulSoup(content, \"lxml\")\n",
    "    title = content_soup.find(\"h1\").text\n",
    "    print(title)\n",
    "    article = content_soup.find(\"article\", {\"class\":\"ndArticle_content clearmen\"})\n",
    "    data = article.find(\"p\").text\n",
    "    sql_str = \"insert into news(url, title, content) values('{}','{}','{}')\".format(content_url, title, data)\n",
    "    conn.execute(sql_str)\n",
    "conn.commit()\n",
    "conn.close()\n",
    "print(\"Done!\")"
   ]
  },
  {
   "cell_type": "code",
   "execution_count": null,
   "metadata": {},
   "outputs": [],
   "source": [
    "import sqlite3\n",
    "dbfile = \"applenews.db\"\n",
    "conn = sqlite3.connect(dbfile)\n",
    "\n",
    "sql_str = \"select * from news;\"\n",
    "rows = conn.execute(sql_str)\n",
    "for row in rows:\n",
    "    for field in row:\n",
    "        print(field)\n",
    "conn.close()"
   ]
  },
  {
   "cell_type": "code",
   "execution_count": null,
   "metadata": {},
   "outputs": [],
   "source": [
    "import sqlite3\n",
    "dbfile = \"applenews.db\"\n",
    "conn = sqlite3.connect(dbfile)\n",
    "\n",
    "sql_str = \"select count(*) from news;\"\n",
    "result = conn.execute(sql_str)\n",
    "count = result.fetchone()[0]\n",
    "print(count)"
   ]
  },
  {
   "cell_type": "code",
   "execution_count": null,
   "metadata": {},
   "outputs": [],
   "source": [
    "from bs4 import BeautifulSoup\n",
    "import time, random\n",
    "import sqlite3\n",
    "import requests\n",
    "url = \"https://tw.appledaily.com/new/realtime/\"\n",
    "dbfile = \"applenews.db\"\n",
    "conn = sqlite3.connect(dbfile)\n",
    "html = requests.get(url).text\n",
    "soup = BeautifulSoup(html, \"lxml\")\n",
    "headlines = soup.find(\"ul\", {\"class\": \"rtddd slvl\"})\n",
    "items = headlines.find_all(\"li\")\n",
    "for item in items:\n",
    "    time.sleep(random.randint(0,2))\n",
    "    content_url = item.find(\"a\")[\"href\"]\n",
    "    \n",
    "    sql_str = \"select count(*) from news where url='{}';\".format(content_url)\n",
    "    result = conn.execute(sql_str)\n",
    "    count = result.fetchone()[0]\n",
    "    if count == 0:\n",
    "        content = requests.get(content_url).text\n",
    "        content_soup = BeautifulSoup(content, \"lxml\")\n",
    "        title = content_soup.find(\"h1\").text\n",
    "        print(title)\n",
    "        article = content_soup.find(\"article\", {\"class\":\"ndArticle_content clearmen\"})\n",
    "        data = article.find(\"p\").text\n",
    "        data = data.replace(\"'\", \"\")\n",
    "        data = data.replace('\"', \"\")\n",
    "        sql_str = \"insert into news(url, title, content) values('{}','{}','{}');\".format(content_url, title, data)\n",
    "        conn.execute(sql_str)\n",
    "conn.commit()\n",
    "conn.close()\n",
    "print(\"Done!\")"
   ]
  },
  {
   "cell_type": "code",
   "execution_count": null,
   "metadata": {},
   "outputs": [],
   "source": []
  }
 ],
 "metadata": {
  "kernelspec": {
   "display_name": "Python 3",
   "language": "python",
   "name": "python3"
  },
  "language_info": {
   "codemirror_mode": {
    "name": "ipython",
    "version": 3
   },
   "file_extension": ".py",
   "mimetype": "text/x-python",
   "name": "python",
   "nbconvert_exporter": "python",
   "pygments_lexer": "ipython3",
   "version": "3.7.0"
  }
 },
 "nbformat": 4,
 "nbformat_minor": 2
}
