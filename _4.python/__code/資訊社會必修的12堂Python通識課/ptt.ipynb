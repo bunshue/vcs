{
 "cells": [
  {
   "cell_type": "code",
   "execution_count": 8,
   "metadata": {},
   "outputs": [
    {
     "name": "stdout",
     "output_type": "stream",
     "text": [
      "[問卦] 跨年如果下大雨晚會與101煙火怎麼辦?\n",
      "[問卦] 怎麼處理病死豬?\n",
      "Re: [新聞] 柯文哲拍板！　北市機車格4階段全面收費\n",
      "[問卦] 交換禮物換到石頭怎辦\n",
      "Re: [新聞] 柯文哲拍板！　北市機車格4階段全面收費\n",
      "[新聞] 回母校政大 韓國瑜憶：險被教授當掉\n",
      "[問卦] 高考的考科科目內容是誰規定的\n",
      "[問卦] 在大家吃飯時偷偷發廢文是不是就沒人噓了\n",
      "[臉書] 簡舒培\n",
      "[公告] 八卦板板規(2018.12.11)\n",
      "[協尋]1217台北肇逃1216國道掉車門\n",
      "[公告] 十二月置底閒聊區\n"
     ]
    }
   ],
   "source": [
    "import requests\n",
    "from bs4 import BeautifulSoup\n",
    "\n",
    "url = 'https://www.ptt.cc/bbs/gossiping/index.html'\n",
    "\n",
    "html = requests.get(url=url, cookies={'over18': '1'}).text\n",
    "soup = BeautifulSoup(html, \"lxml\")\n",
    "titles = soup.find_all('div', class_='title')\n",
    "for title in titles:\n",
    "    print(title.a.text)\n"
   ]
  },
  {
   "cell_type": "code",
   "execution_count": null,
   "metadata": {},
   "outputs": [],
   "source": []
  }
 ],
 "metadata": {
  "kernelspec": {
   "display_name": "Python 3",
   "language": "python",
   "name": "python3"
  },
  "language_info": {
   "codemirror_mode": {
    "name": "ipython",
    "version": 3
   },
   "file_extension": ".py",
   "mimetype": "text/x-python",
   "name": "python",
   "nbconvert_exporter": "python",
   "pygments_lexer": "ipython3",
   "version": "3.6.5"
  }
 },
 "nbformat": 4,
 "nbformat_minor": 2
}
