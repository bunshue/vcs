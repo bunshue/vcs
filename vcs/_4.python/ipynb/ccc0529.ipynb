{
  "nbformat": 4,
  "nbformat_minor": 0,
  "metadata": {
    "colab": {
      "provenance": [],
      "authorship_tag": "ABX9TyOvIhDR2i+PcBg4sFl9WDau",
      "include_colab_link": true
    },
    "kernelspec": {
      "name": "python3",
      "display_name": "Python 3"
    },
    "language_info": {
      "name": "python"
    }
  },
  "cells": [
    {
      "cell_type": "markdown",
      "metadata": {
        "id": "view-in-github",
        "colab_type": "text"
      },
      "source": [
        "<a href=\"https://colab.research.google.com/github/bunshue/vcs/blob/master/vcs/_4.python/ipynb/ccc0529.ipynb\" target=\"_parent\"><img src=\"https://colab.research.google.com/assets/colab-badge.svg\" alt=\"Open In Colab\"/></a>"
      ]
    },
    {
      "cell_type": "code",
      "execution_count": null,
      "metadata": {
        "id": "vx0ky-sUjiDk"
      },
      "outputs": [],
      "source": [
        "\"\"\"\n",
        "aaa\n",
        "bbb\n",
        "ccc\n",
        "ddd\n",
        "eee\n",
        "fff\n",
        "\"\"\"\n"
      ]
    }
  ]
}